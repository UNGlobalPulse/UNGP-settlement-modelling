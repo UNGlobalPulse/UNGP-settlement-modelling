{
 "cells": [
  {
   "cell_type": "code",
   "execution_count": 22,
   "metadata": {},
   "outputs": [],
   "source": [
    "import warnings\n",
    "warnings.filterwarnings('ignore')"
   ]
  },
  {
   "cell_type": "code",
   "execution_count": 23,
   "metadata": {},
   "outputs": [],
   "source": [
    "import numpy as np\n",
    "import pandas as pd\n",
    "import time\n",
    "import matplotlib.pyplot as plt\n",
    "from datetime import datetime\n",
    "import sys\n",
    "import argparse\n",
    "from pathlib import Path"
   ]
  },
  {
   "cell_type": "code",
   "execution_count": 24,
   "metadata": {},
   "outputs": [],
   "source": [
    "from june.geography import Geography\n",
    "from june.demography.demography import (\n",
    "    load_age_and_sex_generators_for_bins,\n",
    "    Demography,\n",
    "    Population,\n",
    "    load_comorbidity_data,\n",
    "    generate_comorbidity,\n",
    ")\n",
    "from june.paths import data_path, configs_path\n",
    "from june.epidemiology.epidemiology import Epidemiology\n",
    "from june.epidemiology.infection import ImmunitySetter\n",
    "from june.epidemiology.infection import Infection, HealthIndexGenerator, InfectionSelector, InfectionSelectors\n",
    "from june.epidemiology.infection_seed import InfectionSeed, InfectionSeeds\n",
    "from june.interaction import Interaction\n",
    "from june.groups import Hospital, Hospitals, Cemeteries\n",
    "from june.distributors import HospitalDistributor\n",
    "from june.hdf5_savers import generate_world_from_hdf5\n",
    "from june.policy import Policy, Policies\n",
    "from june.records import Record\n",
    "from june.simulator import Simulator\n",
    "from june.records import Record, RecordReader\n",
    "\n",
    "from camps.activity import CampActivityManager\n",
    "from camps.paths import camp_data_path, camp_configs_path\n",
    "from camps.world import World\n",
    "from camps.groups.leisure import generate_leisure_for_world, generate_leisure_for_config\n",
    "from camps.camp_creation import (\n",
    "    generate_empty_world,\n",
    "    populate_world,\n",
    "    distribute_people_to_households,\n",
    ")  # this is loaded from the ../camp_scripts folder\n",
    "\n",
    "from june.tracker.tracker import Tracker"
   ]
  },
  {
   "cell_type": "code",
   "execution_count": 25,
   "metadata": {},
   "outputs": [],
   "source": [
    "from camps.groups import PumpLatrines, PumpLatrineDistributor\n",
    "from camps.groups import DistributionCenters, DistributionCenterDistributor\n",
    "from camps.groups import Communals, CommunalDistributor\n",
    "from camps.groups import FemaleCommunals, FemaleCommunalDistributor\n",
    "from camps.groups import Religiouss, ReligiousDistributor\n",
    "from camps.groups import Shelter, Shelters, ShelterDistributor\n",
    "from camps.groups import IsolationUnit, IsolationUnits\n",
    "from camps.groups import LearningCenters\n",
    "from camps.distributors import LearningCenterDistributor\n",
    "from camps.groups import PlayGroups, PlayGroupDistributor\n",
    "from camps.groups import EVouchers, EVoucherDistributor\n",
    "from camps.groups import NFDistributionCenters, NFDistributionCenterDistributor\n",
    "from camps.groups import SheltersVisitsDistributor\n",
    "from camps.groups import InformalWorks, InformalWorkDistributor"
   ]
  },
  {
   "cell_type": "code",
   "execution_count": 26,
   "metadata": {},
   "outputs": [],
   "source": [
    "Results_Path = Path(\"results\")\n",
    "\n",
    "Config_File_Path = camp_configs_path / \"config_demo.yaml\"\n",
    "Interactions_File_Path = camp_configs_path / \"defaults/interaction/interaction_Survey.yaml\"\n",
    "Policies_File_Path = camp_configs_path / \"defaults/policy/simple_policy.yaml\"\n",
    "Hospitals_File_Path = camp_data_path / \"input/hospitals/hospitals.csv\"\n",
    "comorbidity_multipliers_path = camp_configs_path / \"defaults/comorbidities.yaml\"\n",
    "male_comorbidity_reference_prevalence_path = camp_data_path / \"input/demography/uk_male_comorbidities.csv\"\n",
    "female_comorbidity_reference_prevalence_path = camp_data_path / \"input/demography/uk_female_comorbidities.csv\""
   ]
  },
  {
   "cell_type": "markdown",
   "metadata": {},
   "source": [
    "## Initialize the world"
   ]
  },
  {
   "cell_type": "markdown",
   "metadata": {},
   "source": [
    "When we create the camp to be simulated, we call this the 'world'. The world is initialised after specifying which geographical regions you want to simulate. We can do this by using the `filter_key` argument in the `generate_empty_world` function. Cox's Bazar Expansion Site is made up of camps (which we call regions), UNHCR blocks (which we call super areas) and Mahjee blocks (which we call areas). These are the 3 heirarchical levels on which our model works. You can pass lists of the regions/super_areas/areas to the function here. Alternatively, by leaving the function empty you can generate the entire Cox's Bazar Expansion Site consisting of 112 super areas."
   ]
  },
  {
   "cell_type": "code",
   "execution_count": 27,
   "metadata": {},
   "outputs": [
    {
     "name": "stdout",
     "output_type": "stream",
     "text": [
      "2022-11-10 15:31:34,627 - june.geography.geography - INFO - There are 65 areas and 4 super_areas and 1 regions in the world.\n"
     ]
    }
   ],
   "source": [
    "# create empty world's geography\n",
    "world = generate_empty_world(filter_key = {\"region\" : [\"CXB-219\"]})"
   ]
  },
  {
   "cell_type": "code",
   "execution_count": 28,
   "metadata": {},
   "outputs": [],
   "source": [
    "# populate empty world\n",
    "populate_world(world)"
   ]
  },
  {
   "cell_type": "code",
   "execution_count": 29,
   "metadata": {},
   "outputs": [
    {
     "name": "stdout",
     "output_type": "stream",
     "text": [
      "Distributing 468 people to CXB-219-001\n",
      "Distributing 369 people to CXB-219-002\n",
      "Distributing 330 people to CXB-219-003\n",
      "Distributing 386 people to CXB-219-004\n",
      "Distributing 313 people to CXB-219-005\n",
      "Distributing 330 people to CXB-219-006\n",
      "Distributing 261 people to CXB-219-007\n",
      "Distributing 350 people to CXB-219-009\n",
      "Distributing 274 people to CXB-219-010\n",
      "Distributing 248 people to CXB-219-011\n",
      "Distributing 464 people to CXB-219-012\n",
      "Distributing 418 people to CXB-219-013\n",
      "Distributing 460 people to CXB-219-014\n",
      "Distributing 383 people to CXB-219-017\n",
      "Distributing 417 people to CXB-219-020\n",
      "Distributing 425 people to CXB-219-021\n",
      "Distributing 415 people to CXB-219-022\n",
      "Distributing 383 people to CXB-219-024\n",
      "Distributing 377 people to CXB-219-025\n",
      "Distributing 379 people to CXB-219-026\n",
      "Distributing 413 people to CXB-219-027\n",
      "Distributing 391 people to CXB-219-028\n",
      "Distributing 331 people to CXB-219-029\n",
      "Distributing 459 people to CXB-219-030\n",
      "Distributing 393 people to CXB-219-032\n",
      "Distributing 339 people to CXB-219-033\n",
      "Distributing 373 people to CXB-219-034\n",
      "Distributing 260 people to CXB-219-036\n",
      "Distributing 456 people to CXB-219-037\n",
      "Distributing 459 people to CXB-219-038\n",
      "Distributing 488 people to CXB-219-039\n",
      "Distributing 175 people to CXB-219-040\n",
      "Distributing 330 people to CXB-219-041\n",
      "Distributing 399 people to CXB-219-042\n",
      "Distributing 397 people to CXB-219-043\n",
      "Distributing 368 people to CXB-219-044\n",
      "Distributing 429 people to CXB-219-045\n",
      "Distributing 450 people to CXB-219-046\n",
      "Distributing 244 people to CXB-219-047\n",
      "Distributing 311 people to CXB-219-048\n",
      "Distributing 335 people to CXB-219-049\n",
      "Distributing 206 people to CXB-219-050\n",
      "Distributing 343 people to CXB-219-051\n",
      "Distributing 347 people to CXB-219-052\n",
      "Distributing 533 people to CXB-219-053\n",
      "Distributing 380 people to CXB-219-054\n",
      "Distributing 252 people to CXB-219-055\n",
      "Distributing 275 people to CXB-219-056\n",
      "Distributing 247 people to CXB-219-057\n",
      "Distributing 376 people to CXB-219-058\n",
      "Distributing 341 people to CXB-219-059\n",
      "Distributing 330 people to CXB-219-060\n",
      "Distributing 413 people to CXB-219-061\n",
      "Distributing 258 people to CXB-219-062\n",
      "Distributing 287 people to CXB-219-063\n",
      "Distributing 194 people to CXB-219-064\n",
      "Distributing 212 people to CXB-219-065\n",
      "Distributing 330 people to CXB-219-066\n",
      "Distributing 315 people to CXB-219-067\n",
      "Distributing 386 people to CXB-219-068\n",
      "Distributing 552 people to CXB-219-069\n",
      "Distributing 321 people to CXB-219-070\n",
      "Distributing 216 people to CXB-219-071\n",
      "Distributing 313 people to CXB-234-001\n",
      "Distributing 276 people to CXB-234-002\n"
     ]
    }
   ],
   "source": [
    "# distribute people to households\n",
    "distribute_people_to_households(world)"
   ]
  },
  {
   "cell_type": "code",
   "execution_count": 30,
   "metadata": {},
   "outputs": [
    {
     "name": "stdout",
     "output_type": "stream",
     "text": [
      "2022-11-10 15:31:39,287 - learning_centers - INFO - There are 1243 learning center(s)\n"
     ]
    }
   ],
   "source": [
    "LearningCenters.get_interaction(Interactions_File_Path)\n",
    "world.learning_centers = LearningCenters.for_areas(world.areas)\n",
    "\n",
    "learningcenter_distributor = LearningCenterDistributor.from_file(world.learning_centers)\n",
    "\n",
    "learningcenter_distributor.distribute_teachers_to_learning_centers(world.areas)\n",
    "learningcenter_distributor.distribute_kids_to_learning_centers(world.areas)"
   ]
  },
  {
   "cell_type": "code",
   "execution_count": 31,
   "metadata": {},
   "outputs": [
    {
     "name": "stdout",
     "output_type": "stream",
     "text": [
      "2022-11-10 15:31:39,921 - hospitals - INFO - There are 8 hospitals in the world.\n",
      "2022-11-10 15:31:39,929 - isolation units - INFO - There are 8 isolation unit(s)\n"
     ]
    }
   ],
   "source": [
    "# distribute hospitals\n",
    "Hospitals.get_interaction(Interactions_File_Path)\n",
    "IsolationUnits.get_interaction(Interactions_File_Path)\n",
    "\n",
    "hospitals = Hospitals.from_file(\n",
    "    filename=Hospitals_File_Path\n",
    ")\n",
    "\n",
    "\n",
    "for hospital in hospitals:\n",
    "    hospital.area = world.areas.get_closest_area(hospital.coordinates)\n",
    "    \n",
    "world.hospitals = hospitals\n",
    "hospital_distributor = HospitalDistributor(\n",
    "    hospitals, medic_min_age=20, patients_per_medic=10\n",
    ")\n",
    "hospital_distributor.assign_closest_hospitals_to_super_areas(\n",
    "    world.super_areas\n",
    ")\n",
    "\n",
    "world.isolation_units = IsolationUnits([IsolationUnit(area=hospital.area) for hospital in world.hospitals])\n",
    "hospital_distributor.distribute_medics_from_world(world.people)"
   ]
  },
  {
   "cell_type": "code",
   "execution_count": 32,
   "metadata": {},
   "outputs": [
    {
     "name": "stdout",
     "output_type": "stream",
     "text": [
      "2022-11-10 15:31:39,982 - social_venue - INFO - Domain 0 has 82 pump_latrines(s)\n",
      "2022-11-10 15:31:40,079 - social_venue - INFO - Domain 0 has 539 play_groups(s)\n",
      "2022-11-10 15:31:40,110 - social_venue - INFO - Domain 0 has 7 distribution_centers(s)\n",
      "2022-11-10 15:31:40,178 - social_venue - INFO - Domain 0 has 125 communals(s)\n",
      "2022-11-10 15:31:40,228 - social_venue - INFO - Domain 0 has 67 female_communals(s)\n",
      "2022-11-10 15:31:40,868 - social_venue - INFO - Domain 0 has 2064 religiouss(s)\n",
      "2022-11-10 15:31:40,898 - social_venue - INFO - Domain 0 has 7 e_vouchers(s)\n",
      "2022-11-10 15:31:40,937 - social_venue - INFO - Domain 0 has 36 n_f_distribution_centers(s)\n",
      "2022-11-10 15:31:40,973 - social_venue - INFO - Domain 0 has 80 informal_works(s)\n"
     ]
    }
   ],
   "source": [
    "PumpLatrines.get_interaction(Interactions_File_Path)\n",
    "world.pump_latrines = PumpLatrines.for_areas(world.areas)\n",
    "\n",
    "PlayGroups.get_interaction(Interactions_File_Path)\n",
    "world.play_groups = PlayGroups.for_areas(world.areas)\n",
    "\n",
    "DistributionCenters.get_interaction(Interactions_File_Path)\n",
    "world.distribution_centers = DistributionCenters.for_areas(world.areas)\n",
    "\n",
    "Communals.get_interaction(Interactions_File_Path)\n",
    "world.communals = Communals.for_areas(world.areas)\n",
    "\n",
    "FemaleCommunals.get_interaction(Interactions_File_Path)\n",
    "world.female_communals = FemaleCommunals.for_areas(world.areas)\n",
    "\n",
    "Religiouss.get_interaction(Interactions_File_Path)\n",
    "world.religiouss = Religiouss.for_areas(world.areas)\n",
    "\n",
    "EVouchers.get_interaction(Interactions_File_Path)\n",
    "world.e_vouchers = EVouchers.for_areas(world.areas)\n",
    "\n",
    "NFDistributionCenters.get_interaction(Interactions_File_Path)\n",
    "world.n_f_distribution_centers = NFDistributionCenters.for_areas(world.areas)\n",
    "\n",
    "InformalWorks.get_interaction(Interactions_File_Path)\n",
    "world.informal_works = InformalWorks.for_areas(world.areas)"
   ]
  },
  {
   "cell_type": "code",
   "execution_count": 33,
   "metadata": {},
   "outputs": [
    {
     "name": "stdout",
     "output_type": "stream",
     "text": [
      "cemetery not defined in interaction yaml or defualt options\n"
     ]
    }
   ],
   "source": [
    "world.cemeteries = Cemeteries()"
   ]
  },
  {
   "cell_type": "markdown",
   "metadata": {},
   "source": [
    "## Geography exploration"
   ]
  },
  {
   "cell_type": "markdown",
   "metadata": {},
   "source": [
    "The geography is initialised first and can be explored."
   ]
  },
  {
   "cell_type": "markdown",
   "metadata": {},
   "source": [
    "### UNHCR camp blocks inside the World"
   ]
  },
  {
   "cell_type": "code",
   "execution_count": 34,
   "metadata": {},
   "outputs": [],
   "source": [
    "super_areas = []\n",
    "for super_area in world.super_areas:\n",
    "    super_areas.append(super_area.name)"
   ]
  },
  {
   "cell_type": "code",
   "execution_count": 35,
   "metadata": {},
   "outputs": [
    {
     "data": {
      "text/plain": [
       "['CXB-219-A', 'CXB-219-B', 'CXB-219-C', 'CXB-219-D']"
      ]
     },
     "execution_count": 35,
     "metadata": {},
     "output_type": "execute_result"
    }
   ],
   "source": [
    "super_areas[:5]"
   ]
  },
  {
   "cell_type": "markdown",
   "metadata": {},
   "source": [
    "### Mahjee blocks inside World"
   ]
  },
  {
   "cell_type": "code",
   "execution_count": 36,
   "metadata": {},
   "outputs": [],
   "source": [
    "areas = []\n",
    "for area in world.areas:\n",
    "    areas.append(area.name)"
   ]
  },
  {
   "cell_type": "code",
   "execution_count": 37,
   "metadata": {},
   "outputs": [
    {
     "data": {
      "text/plain": [
       "['CXB-219-001', 'CXB-219-002', 'CXB-219-003', 'CXB-219-004', 'CXB-219-005']"
      ]
     },
     "execution_count": 37,
     "metadata": {},
     "output_type": "execute_result"
    }
   ],
   "source": [
    "areas[:5]"
   ]
  },
  {
   "cell_type": "markdown",
   "metadata": {},
   "source": [
    "## Demography exploration"
   ]
  },
  {
   "cell_type": "markdown",
   "metadata": {},
   "source": [
    "Once we have populated the 'digital twin' we can explore some of the attributes of the people we have created in the simulation."
   ]
  },
  {
   "cell_type": "markdown",
   "metadata": {},
   "source": [
    "### UNHCR block residents"
   ]
  },
  {
   "cell_type": "code",
   "execution_count": 38,
   "metadata": {},
   "outputs": [],
   "source": [
    "sample_ages = []\n",
    "sample_sexes = []\n",
    "for person in world.super_areas.members[0].people:\n",
    "    sample_ages.append(person.age)\n",
    "    sample_sexes.append(person.sex)"
   ]
  },
  {
   "cell_type": "code",
   "execution_count": 39,
   "metadata": {},
   "outputs": [
    {
     "data": {
      "text/plain": [
       "(['f', 'm', 'f', 'm', 'm'], [41, 23, 56, 20, 20])"
      ]
     },
     "execution_count": 39,
     "metadata": {},
     "output_type": "execute_result"
    }
   ],
   "source": [
    "sample_sexes[:5], sample_ages[:5]"
   ]
  },
  {
   "cell_type": "code",
   "execution_count": 40,
   "metadata": {},
   "outputs": [
    {
     "data": {
      "image/png": "[encoded data removed]",
      "text/plain": [
       "<Figure size 432x288 with 1 Axes>"
      ]
     },
     "metadata": {
      "needs_background": "light"
     },
     "output_type": "display_data"
    }
   ],
   "source": [
    "ages, counts = np.unique(sample_ages, return_counts=True)\n",
    "plt.bar(ages, counts)\n",
    "plt.title('super area: {} age distribution'.format(world.super_areas.members[0].name))\n",
    "plt.show()"
   ]
  },
  {
   "cell_type": "code",
   "execution_count": 41,
   "metadata": {},
   "outputs": [
    {
     "name": "stdout",
     "output_type": "stream",
     "text": [
      "The % children between ages 0-16 is 49%\n"
     ]
    }
   ],
   "source": [
    "print ('The % children between ages 0-16 is {}%'.format(round(np.sum(counts[:16])/(np.sum(counts[:16])+np.sum(counts[16:]))*100)))"
   ]
  },
  {
   "cell_type": "markdown",
   "metadata": {},
   "source": [
    "## Households"
   ]
  },
  {
   "cell_type": "markdown",
   "metadata": {},
   "source": [
    "In this model, we will use the term 'family' and 'household' interchangeably. After populating the 'digital twin', we need to cluster people into families. To do this, we take account of age structure so that children live with adults, that there are some intergenerational households and such that we might also have some households of only adults."
   ]
  },
  {
   "cell_type": "markdown",
   "metadata": {},
   "source": [
    "### Household size distribution"
   ]
  },
  {
   "cell_type": "code",
   "execution_count": 42,
   "metadata": {},
   "outputs": [
    {
     "data": {
      "image/png": "[encoded data removed]",
      "text/plain": [
       "<Figure size 432x288 with 1 Axes>"
      ]
     },
     "metadata": {
      "needs_background": "light"
     },
     "output_type": "display_data"
    }
   ],
   "source": [
    "household_sizes = [household.size for household in world.households]\n",
    "plt.hist(household_sizes, density=True, bins=np.arange(0,12))\n",
    "plt.xlabel(\"Household size\")\n",
    "plt.ylabel(\"Frequency\")\n",
    "plt.axvline(np.mean(household_sizes), color=\"cyan\")\n",
    "plt.text(8, 0.150, f\"Avg. size: {(np.mean(household_sizes)):.2f}\")\n",
    "plt.show()"
   ]
  },
  {
   "cell_type": "markdown",
   "metadata": {},
   "source": [
    "# Shelters"
   ]
  },
  {
   "cell_type": "markdown",
   "metadata": {},
   "source": [
    "Shelters house people in the camp. Since we know that families (houseohlds) often share shelters with other families, we can set the `sharing_shelter_ratio` to cluster families into shared shelters."
   ]
  },
  {
   "cell_type": "code",
   "execution_count": 43,
   "metadata": {},
   "outputs": [],
   "source": [
    "Shelters.get_interaction(Interactions_File_Path)\n",
    "world.shelters = Shelters.for_areas(world.areas)\n",
    "shelter_distributor = ShelterDistributor(sharing_shelter_ratio = 0.75) # proportion of families that share a shelter\n",
    "for area in world.areas:\n",
    "    shelter_distributor.distribute_people_in_shelters(area.shelters, area.households)"
   ]
  },
  {
   "cell_type": "code",
   "execution_count": 44,
   "metadata": {},
   "outputs": [
    {
     "data": {
      "image/png": "[encoded data removed]",
      "text/plain": [
       "<Figure size 576x216 with 2 Axes>"
      ]
     },
     "metadata": {
      "needs_background": "light"
     },
     "output_type": "display_data"
    }
   ],
   "source": [
    "fig, ax = plt.subplots(1, 2, figsize=(8,3))\n",
    "shelter_sizes = [shelter.size for shelter in world.shelters]\n",
    "shelter_families = [shelter.n_families for shelter in world.shelters]\n",
    "ax[0].hist(shelter_sizes)\n",
    "ax[0].set_title(\"Shelter size\")\n",
    "shelter_families = {1 : len([shelter for shelter in world.shelters if shelter.n_families == 1]),\n",
    "                    2 : len([shelter for shelter in world.shelters if shelter.n_families == 2])}\n",
    "ax[1].bar(shelter_families.keys(), shelter_families.values())\n",
    "ax[1].set_title(\"# families per shelter\")\n",
    "plt.show()"
   ]
  },
  {
   "cell_type": "markdown",
   "metadata": {},
   "source": [
    "## Activity exploration"
   ]
  },
  {
   "cell_type": "markdown",
   "metadata": {},
   "source": [
    "Once different activity locations are seeded in the 'digital twin' we can explore how many there are in different areas of the twin, and their coordinates to check they've all been added correctly."
   ]
  },
  {
   "cell_type": "markdown",
   "metadata": {},
   "source": [
    "### Pumps and latrines "
   ]
  },
  {
   "cell_type": "code",
   "execution_count": 45,
   "metadata": {},
   "outputs": [],
   "source": [
    "pumps_and_latrines = []\n",
    "for pump_latrine in world.areas.members[0].pump_latrines:\n",
    "    pumps_and_latrines.append(pump_latrine)"
   ]
  },
  {
   "cell_type": "code",
   "execution_count": 46,
   "metadata": {},
   "outputs": [
    {
     "name": "stdout",
     "output_type": "stream",
     "text": [
      "There are 2 pumps and latrines in area CXB-219-001\n"
     ]
    }
   ],
   "source": [
    "print ('There are {} pumps and latrines in area {}'.format(len(pumps_and_latrines), world.areas.members[0].name))"
   ]
  },
  {
   "cell_type": "markdown",
   "metadata": {},
   "source": [
    "### Informal work"
   ]
  },
  {
   "cell_type": "code",
   "execution_count": 47,
   "metadata": {},
   "outputs": [],
   "source": [
    "Informal_work_Sites = []\n",
    "for informal_work in world.areas.members[0].informal_works:\n",
    "    Informal_work_Sites.append(informal_work)"
   ]
  },
  {
   "cell_type": "code",
   "execution_count": 48,
   "metadata": {},
   "outputs": [
    {
     "name": "stdout",
     "output_type": "stream",
     "text": [
      "There are 2 informal work sites in area CXB-219-001\n"
     ]
    }
   ],
   "source": [
    "print ('There are {} informal work sites in area {}'.format(len(Informal_work_Sites), world.areas.members[0].name))"
   ]
  },
  {
   "cell_type": "markdown",
   "metadata": {},
   "source": [
    "### Distribution centers"
   ]
  },
  {
   "cell_type": "code",
   "execution_count": 49,
   "metadata": {},
   "outputs": [],
   "source": [
    "distribution_centers = []\n",
    "for center in world.distribution_centers:\n",
    "    distribution_centers.append(center)"
   ]
  },
  {
   "cell_type": "code",
   "execution_count": 50,
   "metadata": {},
   "outputs": [
    {
     "data": {
      "text/plain": [
       "array([21.21176333, 92.13597667])"
      ]
     },
     "execution_count": 50,
     "metadata": {},
     "output_type": "execute_result"
    }
   ],
   "source": [
    "distribution_centers[0].coordinates"
   ]
  },
  {
   "cell_type": "markdown",
   "metadata": {},
   "source": [
    "### Non-food Distribution centers"
   ]
  },
  {
   "cell_type": "code",
   "execution_count": 51,
   "metadata": {},
   "outputs": [],
   "source": [
    "non_food_distribution_centers = []\n",
    "for center in world.n_f_distribution_centers:\n",
    "    non_food_distribution_centers.append(center)"
   ]
  },
  {
   "cell_type": "code",
   "execution_count": 52,
   "metadata": {},
   "outputs": [
    {
     "data": {
      "text/plain": [
       "array([21.1962 , 92.14936])"
      ]
     },
     "execution_count": 52,
     "metadata": {},
     "output_type": "execute_result"
    }
   ],
   "source": [
    "non_food_distribution_centers[0].coordinates"
   ]
  },
  {
   "cell_type": "markdown",
   "metadata": {},
   "source": [
    "### E-Voucher outlets"
   ]
  },
  {
   "cell_type": "code",
   "execution_count": 53,
   "metadata": {},
   "outputs": [],
   "source": [
    "e_voucher_outlets = []\n",
    "for center in world.e_vouchers:\n",
    "    e_voucher_outlets.append(center)"
   ]
  },
  {
   "cell_type": "code",
   "execution_count": 54,
   "metadata": {},
   "outputs": [
    {
     "data": {
      "text/plain": [
       "array([21.21176333, 92.13597667])"
      ]
     },
     "execution_count": 54,
     "metadata": {},
     "output_type": "execute_result"
    }
   ],
   "source": [
    "e_voucher_outlets[0].coordinates"
   ]
  },
  {
   "cell_type": "markdown",
   "metadata": {},
   "source": [
    "### Communal spaces"
   ]
  },
  {
   "cell_type": "code",
   "execution_count": 55,
   "metadata": {},
   "outputs": [],
   "source": [
    "communal_spaces = []\n",
    "for space in world.communals:\n",
    "    communal_spaces.append(space)"
   ]
  },
  {
   "cell_type": "code",
   "execution_count": 56,
   "metadata": {},
   "outputs": [
    {
     "data": {
      "text/plain": [
       "array([21.19621, 92.14924])"
      ]
     },
     "execution_count": 56,
     "metadata": {},
     "output_type": "execute_result"
    }
   ],
   "source": [
    "communal_spaces[0].coordinates"
   ]
  },
  {
   "cell_type": "markdown",
   "metadata": {},
   "source": [
    "### Female friendly communal spaces"
   ]
  },
  {
   "cell_type": "code",
   "execution_count": 57,
   "metadata": {},
   "outputs": [],
   "source": [
    "female_communal_spaces = []\n",
    "for space in world.female_communals:\n",
    "    female_communal_spaces.append(space)"
   ]
  },
  {
   "cell_type": "code",
   "execution_count": 58,
   "metadata": {},
   "outputs": [
    {
     "data": {
      "text/plain": [
       "array([21.19588, 92.152  ])"
      ]
     },
     "execution_count": 58,
     "metadata": {},
     "output_type": "execute_result"
    }
   ],
   "source": [
    "female_communal_spaces[0].coordinates"
   ]
  },
  {
   "cell_type": "markdown",
   "metadata": {},
   "source": [
    "### Religious sites"
   ]
  },
  {
   "cell_type": "code",
   "execution_count": 59,
   "metadata": {},
   "outputs": [],
   "source": [
    "religious = []\n",
    "for rel in world.religiouss:\n",
    "    religious.append(rel)"
   ]
  },
  {
   "cell_type": "code",
   "execution_count": 60,
   "metadata": {},
   "outputs": [
    {
     "data": {
      "text/plain": [
       "array([21.20069, 92.15216])"
      ]
     },
     "execution_count": 60,
     "metadata": {},
     "output_type": "execute_result"
    }
   ],
   "source": [
    "religious[0].coordinates"
   ]
  },
  {
   "cell_type": "markdown",
   "metadata": {},
   "source": [
    "# Adding the infection"
   ]
  },
  {
   "cell_type": "markdown",
   "metadata": {},
   "source": [
    "The selector handles how infections are handled in the code. You can set different 'symptom trajectories' (e.g. exposed->mild->severe->hospitalised->intensive care) from different files. Here, we use the default."
   ]
  },
  {
   "cell_type": "code",
   "execution_count": 61,
   "metadata": {},
   "outputs": [],
   "source": [
    "selector = InfectionSelector.from_file()"
   ]
  },
  {
   "cell_type": "code",
   "execution_count": 62,
   "metadata": {},
   "outputs": [],
   "source": [
    "selectors = InfectionSelectors([selector])"
   ]
  },
  {
   "cell_type": "markdown",
   "metadata": {},
   "source": [
    "# Adding the interaction"
   ]
  },
  {
   "cell_type": "markdown",
   "metadata": {},
   "source": [
    "The interaction class handles how many contacts people have in different locations and with who. If contact matrices are available, these can be coded in a `.yaml` file and fed into the class here."
   ]
  },
  {
   "cell_type": "code",
   "execution_count": 63,
   "metadata": {},
   "outputs": [],
   "source": [
    "interaction = Interaction.from_file(\n",
    "    config_filename=Interactions_File_Path,\n",
    ")"
   ]
  },
  {
   "cell_type": "markdown",
   "metadata": {},
   "source": [
    "# Set policies"
   ]
  },
  {
   "cell_type": "markdown",
   "metadata": {},
   "source": [
    "Policies control how 'operational interventions' are set in the camp. Here we set some social distancing policies, policies relating to medical care, such as people with severe symptoms being hospitalised, and individual and activity policies which can dynamically change how often and where people go, e.g. here, we close all female communal spaces and non-food distirbution centers which the camp did back in March"
   ]
  },
  {
   "cell_type": "code",
   "execution_count": 64,
   "metadata": {},
   "outputs": [],
   "source": [
    "policies = Policies.from_file(\n",
    "        Policies_File_Path,\n",
    "        base_policy_modules=(\"june.policy\", \"camps.policy\"),\n",
    "    )"
   ]
  },
  {
   "cell_type": "code",
   "execution_count": 65,
   "metadata": {},
   "outputs": [
    {
     "data": {
      "text/plain": [
       "[<june.policy.interaction_policies.SocialDistancing at 0x7f8c61be9970>,\n",
       " <june.policy.medical_care_policies.Hospitalisation at 0x7f8c61c2d430>,\n",
       " <june.policy.individual_policies.SevereSymptomsStayHome at 0x7f8c61c2d160>,\n",
       " <june.policy.individual_policies.Quarantine at 0x7f8c61c2d9d0>]"
      ]
     },
     "execution_count": 65,
     "metadata": {},
     "output_type": "execute_result"
    }
   ],
   "source": [
    "policies.policies"
   ]
  },
  {
   "cell_type": "markdown",
   "metadata": {},
   "source": [
    "# Seed the disease"
   ]
  },
  {
   "cell_type": "markdown",
   "metadata": {},
   "source": [
    "Set intial seeding conditions. This can be done at the camp level specifically, or generally by seeding them randomly. Here the `n_cases` is the number of randomly seeded people over the entire population."
   ]
  },
  {
   "cell_type": "code",
   "execution_count": 66,
   "metadata": {},
   "outputs": [],
   "source": [
    "infection_seed = InfectionSeed.from_uniform_cases(\n",
    "    world=world, infection_selector=selector, cases_per_capita=0.01, date=\"2020-05-24 9:00\", seed_past_infections=False,\n",
    ")"
   ]
  },
  {
   "cell_type": "code",
   "execution_count": 67,
   "metadata": {},
   "outputs": [],
   "source": [
    "infection_seeds = InfectionSeeds([infection_seed])"
   ]
  },
  {
   "cell_type": "code",
   "execution_count": 68,
   "metadata": {},
   "outputs": [],
   "source": [
    "immunity_setter = ImmunitySetter.from_file_with_comorbidities(\n",
    "    comorbidity_multipliers_path= comorbidity_multipliers_path,\n",
    "    male_comorbidity_reference_prevalence_path= male_comorbidity_reference_prevalence_path,\n",
    "    female_comorbidity_reference_prevalence_path = female_comorbidity_reference_prevalence_path,   \n",
    ")"
   ]
  },
  {
   "cell_type": "code",
   "execution_count": 69,
   "metadata": {},
   "outputs": [],
   "source": [
    "epidemiology = Epidemiology(\n",
    "    infection_selectors=selectors,\n",
    "    infection_seeds=infection_seeds,\n",
    "    immunity_setter=immunity_setter,\n",
    ")"
   ]
  },
  {
   "cell_type": "markdown",
   "metadata": {},
   "source": [
    "## Select config file"
   ]
  },
  {
   "cell_type": "markdown",
   "metadata": {},
   "source": [
    "Before running the simualtion we must select the config file which defines how the world is set up and the simualtor will work. Specifically, the condif file specifies which activities will be included, how long we'll run the simualtion for, what the initial starting day will be and what the structure of weekdays and weekends will look like (if different)"
   ]
  },
  {
   "cell_type": "code",
   "execution_count": 70,
   "metadata": {},
   "outputs": [],
   "source": [
    "CONFIG_PATH = Config_File_Path"
   ]
  },
  {
   "cell_type": "markdown",
   "metadata": {},
   "source": [
    "# Initialise activities"
   ]
  },
  {
   "cell_type": "markdown",
   "metadata": {},
   "source": [
    "The final step to intialising the simulator class which brings all of this together is to inialise all the activity distirbutors (the term 'leisure' is a legacy of the original version of this code used for modelling COVID-19 in the UK). This will mean that people know where they can go at and given time."
   ]
  },
  {
   "cell_type": "code",
   "execution_count": 71,
   "metadata": {},
   "outputs": [
    {
     "name": "stdout",
     "output_type": "stream",
     "text": [
      "2022-11-10 15:31:42,300 - leisure - INFO - Linking households and care homes for visits\n",
      "2022-11-10 15:31:42,301 - leisure - INFO - Done\n",
      "2022-11-10 15:31:42,301 - leisure - INFO - Distributing social venues to areas\n",
      "2022-11-10 15:31:42,301 - leisure - INFO - Distributed in 0 of 65 areas.\n",
      "2022-11-10 15:31:42,361 - leisure - INFO - Distributed in 65 of 65 areas.\n"
     ]
    }
   ],
   "source": [
    "leisure = generate_leisure_for_config(world=world, config_filename=CONFIG_PATH)\n",
    "# associate social activities to shelters\n",
    "leisure.distribute_social_venues_to_areas(world.areas, world.super_areas)"
   ]
  },
  {
   "cell_type": "markdown",
   "metadata": {},
   "source": [
    "# Define a contact Tracker"
   ]
  },
  {
   "cell_type": "markdown",
   "metadata": {},
   "source": [
    "We define a list of venues in which to track. This is fed into JUNE's tracker class. We can specify tracking contacts by sex, the type of possible contacts \"1D\" (simulated contacts based on the input interaction matrices) or \"All\" (everyone at each venue contacts each other). Lastly we can find a subset of venues upto N but defining MaxVenueTrackingSize=N."
   ]
  },
  {
   "cell_type": "code",
   "execution_count": 72,
   "metadata": {},
   "outputs": [],
   "source": [
    "group_types=[\n",
    "        world.hospitals,\n",
    "        world.distribution_centers,\n",
    "        world.communals,\n",
    "        world.female_communals,\n",
    "        world.pump_latrines,\n",
    "        world.religiouss,\n",
    "        world.play_groups,\n",
    "        world.e_vouchers,\n",
    "        world.n_f_distribution_centers,\n",
    "        world.shelters,\n",
    "        world.learning_centers,\n",
    "        world.informal_works,\n",
    "        world.isolation_units,\n",
    "    ]\n",
    "\n",
    "tracker = Tracker(\n",
    "    world=world,\n",
    "    record_path=Results_Path,\n",
    "    group_types=group_types,\n",
    "    load_interactions_path=Interactions_File_Path,\n",
    "    contact_sexes=[\"unisex\", \"male\", \"female\"],\n",
    "    MaxVenueTrackingSize = 500\n",
    ")"
   ]
  },
  {
   "cell_type": "markdown",
   "metadata": {},
   "source": [
    "# Initialise simulator and run"
   ]
  },
  {
   "cell_type": "markdown",
   "metadata": {},
   "source": [
    "The recorder is defined which will log all interactions and infections in the simualation for later analysis. The `record_path` can be changed to any path where you want the recorded data to be stored."
   ]
  },
  {
   "cell_type": "code",
   "execution_count": 73,
   "metadata": {},
   "outputs": [],
   "source": [
    "record = Record(\n",
    "    record_path=Results_Path, \n",
    "    record_static_data=True\n",
    ")\n"
   ]
  },
  {
   "cell_type": "markdown",
   "metadata": {},
   "source": [
    "The simulator is defined with all the different necessary components we have built up so far"
   ]
  },
  {
   "cell_type": "code",
   "execution_count": 74,
   "metadata": {},
   "outputs": [],
   "source": [
    "Simulator.ActivityManager = CampActivityManager\n",
    "simulator = Simulator.from_file(\n",
    "    world=world,\n",
    "    interaction=interaction,\n",
    "    tracker=tracker,\n",
    "    leisure=leisure,\n",
    "    policies=policies,\n",
    "    config_filename=CONFIG_PATH,\n",
    "    epidemiology=epidemiology,\n",
    "    record=record,\n",
    ")"
   ]
  },
  {
   "cell_type": "markdown",
   "metadata": {},
   "source": [
    "Finally we can run a small simualation"
   ]
  },
  {
   "cell_type": "code",
   "execution_count": 75,
   "metadata": {
    "scrolled": true
   },
   "outputs": [
    {
     "name": "stdout",
     "output_type": "stream",
     "text": [
      "2022-11-10 15:31:43,119 - simulator - INFO - Starting simulation for 7 days at day 2020-05-24 09:00:00,to run for 7 days\n",
      "2022-11-10 15:31:43,179 - seed - INFO - Seeding Covid19 infections at date 2020-05-24\n",
      "2022-11-10 15:31:43,485 - rank - INFO - Next timestep\n",
      "2022-11-10 15:31:43,485 - simulator - INFO - ==================== timestep ====================\n",
      "2022-11-10 15:31:43,644 - rank - INFO - Rank 0 -- move_people -- 0.1588597759999857\n",
      "2022-11-10 15:31:43,645 - rank - INFO - Rank 0 -- move_people_waiting -- 6.680000012693199e-06\n",
      "2022-11-10 15:31:43,646 - activity_manager - INFO - CMS: People COMS for rank 0/1 - 2.8059999976903782e-06,3.0994415283203125e-06 - 2020-05-24 09:00:00\n",
      "2022-11-10 15:31:43,650 - simulator - INFO - Info for rank 0, Date = 2020-05-24 09:00:00, number of deaths =  0, number of infected = 205\n",
      "2022-11-10 15:31:43,714 - rank - INFO - Rank 0 -- interaction -- 0.0680537700000059\n",
      "2022-11-10 15:31:43,716 - tracker - INFO - Rank 0 -- tracking contacts -- 389 of 389 of type learning_center\n",
      "2022-11-10 15:31:44,379 - tracker - INFO - Rank 0 -- tracking contacts -- 500 of 3242 of type shelter\n",
      "2022-11-10 15:31:44,956 - tracker - INFO - Rank 0 -- tracking contacts -- 125 of 125 of type communal\n",
      "2022-11-10 15:31:44,957 - tracker - INFO - Rank 0 -- tracking contacts -- 7 of 7 of type distribution_center\n",
      "2022-11-10 15:31:44,958 - tracker - INFO - Rank 0 -- tracking contacts -- 7 of 7 of type e_voucher\n",
      "2022-11-10 15:31:44,959 - tracker - INFO - Rank 0 -- tracking contacts -- 67 of 67 of type female_communal\n",
      "2022-11-10 15:31:44,960 - tracker - INFO - Rank 0 -- tracking contacts -- 80 of 80 of type informal_work\n",
      "2022-11-10 15:31:44,962 - tracker - INFO - Rank 0 -- tracking contacts -- 36 of 36 of type n_f_distribution_center\n",
      "2022-11-10 15:31:44,964 - tracker - INFO - Rank 0 -- tracking contacts -- 500 of 539 of type play_group\n",
      "2022-11-10 15:31:44,970 - tracker - INFO - Rank 0 -- tracking contacts -- 82 of 82 of type pump_latrine\n",
      "2022-11-10 15:31:44,975 - tracker - INFO - Rank 0 -- tracking contacts -- 500 of 2064 of type religious\n",
      "2022-11-10 15:31:44,981 - tracker - INFO - Rank 0 -- tracking contacts -- 8 of 8 of type hospital\n",
      "2022-11-10 15:31:44,992 - tracker - INFO - Rank 0 -- tracking contacts -- 8 of 8 of type isolation_unit\n",
      "2022-11-10 15:31:44,993 - rank - INFO - Rank 0 -- tracker -- 1.278199882999985\n",
      "2022-11-10 15:31:44,997 - epidemiology - INFO - CMS: Infection COMS-v2 for rank 0/1(2)0.0034434629999964272,0.003443002700805664 - 2020-05-24 09:00:00\n",
      "2022-11-10 15:31:45,093 - rank - INFO - Rank 0 -- interaction_waiting -- 5.973999975594779e-06\n",
      "2022-11-10 15:31:45,104 - simulator - INFO - CMS: Timestep for rank 0/1 - 1.6182380839999837,1.6182541847229004 - 2020-05-24 09:00:00\n",
      "\n",
      "2022-11-10 15:31:45,105 - rank - INFO - Next timestep\n",
      "2022-11-10 15:31:45,105 - simulator - INFO - ==================== timestep ====================\n",
      "2022-11-10 15:31:46,010 - rank - INFO - Rank 0 -- move_people -- 0.9043050709999818\n",
      "2022-11-10 15:31:46,011 - rank - INFO - Rank 0 -- move_people_waiting -- 4.743000005191789e-06\n",
      "2022-11-10 15:31:46,011 - activity_manager - INFO - CMS: People COMS for rank 0/1 - 3.06600000499202e-06,3.0994415283203125e-06 - 2020-05-24 11:00:00\n",
      "2022-11-10 15:31:46,016 - simulator - INFO - Info for rank 0, Date = 2020-05-24 11:00:00, number of deaths =  0, number of infected = 205\n",
      "2022-11-10 15:31:46,122 - rank - INFO - Rank 0 -- interaction -- 0.11055771799999548\n",
      "2022-11-10 15:31:46,124 - tracker - INFO - Rank 0 -- tracking contacts -- 389 of 389 of type learning_center\n",
      "2022-11-10 15:31:46,705 - tracker - INFO - Rank 0 -- tracking contacts -- 500 of 3242 of type shelter\n",
      "2022-11-10 15:31:46,942 - tracker - INFO - Rank 0 -- tracking contacts -- 125 of 125 of type communal\n",
      "2022-11-10 15:31:46,960 - tracker - INFO - Rank 0 -- tracking contacts -- 7 of 7 of type distribution_center\n",
      "2022-11-10 15:31:46,977 - tracker - INFO - Rank 0 -- tracking contacts -- 7 of 7 of type e_voucher\n",
      "2022-11-10 15:31:46,982 - tracker - INFO - Rank 0 -- tracking contacts -- 67 of 67 of type female_communal\n",
      "2022-11-10 15:31:47,013 - tracker - INFO - Rank 0 -- tracking contacts -- 80 of 80 of type informal_work\n",
      "2022-11-10 15:31:47,069 - tracker - INFO - Rank 0 -- tracking contacts -- 36 of 36 of type n_f_distribution_center\n",
      "2022-11-10 15:31:47,099 - tracker - INFO - Rank 0 -- tracking contacts -- 500 of 539 of type play_group\n",
      "2022-11-10 15:31:47,283 - tracker - INFO - Rank 0 -- tracking contacts -- 82 of 82 of type pump_latrine\n",
      "2022-11-10 15:31:48,492 - tracker - INFO - Rank 0 -- tracking contacts -- 500 of 2064 of type religious\n",
      "2022-11-10 15:31:48,663 - tracker - INFO - Rank 0 -- tracking contacts -- 8 of 8 of type hospital\n",
      "2022-11-10 15:31:48,669 - tracker - INFO - Rank 0 -- tracking contacts -- 8 of 8 of type isolation_unit\n",
      "2022-11-10 15:31:48,670 - rank - INFO - Rank 0 -- tracker -- 2.5466240960000164\n",
      "2022-11-10 15:31:48,672 - epidemiology - INFO - CMS: Infection COMS-v2 for rank 0/1(2)0.00036578600000325423,0.00036406517028808594 - 2020-05-24 11:00:00\n",
      "2022-11-10 15:31:48,694 - rank - INFO - Rank 0 -- interaction_waiting -- 6.413999983578833e-06\n",
      "2022-11-10 15:31:48,706 - simulator - INFO - CMS: Timestep for rank 0/1 - 3.6002058509999983,3.600242853164673 - 2020-05-24 11:00:00\n",
      "\n",
      "2022-11-10 15:31:48,707 - rank - INFO - Next timestep\n",
      "2022-11-10 15:31:48,707 - simulator - INFO - ==================== timestep ====================\n",
      "2022-11-10 15:31:49,259 - rank - INFO - Rank 0 -- move_people -- 0.5511497109999937\n",
      "2022-11-10 15:31:49,259 - rank - INFO - Rank 0 -- move_people_waiting -- 5.738799998766808e-05\n",
      "2022-11-10 15:31:49,260 - activity_manager - INFO - CMS: People COMS for rank 0/1 - 2.9180000069572998e-06,1.9073486328125e-06 - 2020-05-24 13:00:00\n",
      "2022-11-10 15:31:49,264 - simulator - INFO - Info for rank 0, Date = 2020-05-24 13:00:00, number of deaths =  0, number of infected = 209\n",
      "2022-11-10 15:31:49,357 - rank - INFO - Rank 0 -- interaction -- 0.09619749600000205\n",
      "2022-11-10 15:31:49,358 - tracker - INFO - Rank 0 -- tracking contacts -- 389 of 389 of type learning_center\n",
      "2022-11-10 15:31:49,936 - tracker - INFO - Rank 0 -- tracking contacts -- 500 of 3242 of type shelter\n",
      "2022-11-10 15:31:50,174 - tracker - INFO - Rank 0 -- tracking contacts -- 125 of 125 of type communal\n",
      "2022-11-10 15:31:50,189 - tracker - INFO - Rank 0 -- tracking contacts -- 7 of 7 of type distribution_center\n",
      "2022-11-10 15:31:50,204 - tracker - INFO - Rank 0 -- tracking contacts -- 7 of 7 of type e_voucher\n",
      "2022-11-10 15:31:50,212 - tracker - INFO - Rank 0 -- tracking contacts -- 67 of 67 of type female_communal\n",
      "2022-11-10 15:31:50,244 - tracker - INFO - Rank 0 -- tracking contacts -- 80 of 80 of type informal_work\n",
      "2022-11-10 15:31:50,298 - tracker - INFO - Rank 0 -- tracking contacts -- 36 of 36 of type n_f_distribution_center\n",
      "2022-11-10 15:31:50,331 - tracker - INFO - Rank 0 -- tracking contacts -- 500 of 539 of type play_group\n",
      "2022-11-10 15:31:50,502 - tracker - INFO - Rank 0 -- tracking contacts -- 82 of 82 of type pump_latrine\n",
      "2022-11-10 15:31:51,711 - tracker - INFO - Rank 0 -- tracking contacts -- 500 of 2064 of type religious\n",
      "2022-11-10 15:31:51,878 - tracker - INFO - Rank 0 -- tracking contacts -- 8 of 8 of type hospital\n",
      "2022-11-10 15:31:51,884 - tracker - INFO - Rank 0 -- tracking contacts -- 8 of 8 of type isolation_unit\n",
      "2022-11-10 15:31:51,885 - rank - INFO - Rank 0 -- tracker -- 2.5277386019999994\n",
      "2022-11-10 15:31:51,886 - epidemiology - INFO - CMS: Infection COMS-v2 for rank 0/1(2)0.00031901100001618943,0.0003190040588378906 - 2020-05-24 13:00:00\n",
      "2022-11-10 15:31:51,908 - rank - INFO - Rank 0 -- interaction_waiting -- 6.326999994143989e-06\n",
      "2022-11-10 15:31:51,919 - simulator - INFO - CMS: Timestep for rank 0/1 - 3.2117547539999975,3.2117860317230225 - 2020-05-24 13:00:00\n",
      "\n",
      "2022-11-10 15:31:51,920 - rank - INFO - Next timestep\n",
      "2022-11-10 15:31:51,921 - simulator - INFO - ==================== timestep ====================\n",
      "2022-11-10 15:31:52,470 - rank - INFO - Rank 0 -- move_people -- 0.5492012389999843\n",
      "2022-11-10 15:31:52,471 - rank - INFO - Rank 0 -- move_people_waiting -- 5.417299999521674e-05\n",
      "2022-11-10 15:31:52,471 - activity_manager - INFO - CMS: People COMS for rank 0/1 - 3.5340000010819494e-06,1.6689300537109375e-06 - 2020-05-24 15:00:00\n"
     ]
    },
    {
     "name": "stdout",
     "output_type": "stream",
     "text": [
      "2022-11-10 15:31:52,475 - simulator - INFO - Info for rank 0, Date = 2020-05-24 15:00:00, number of deaths =  0, number of infected = 211\n",
      "2022-11-10 15:31:52,568 - rank - INFO - Rank 0 -- interaction -- 0.09569176799999468\n",
      "2022-11-10 15:31:52,569 - tracker - INFO - Rank 0 -- tracking contacts -- 389 of 389 of type learning_center\n",
      "2022-11-10 15:31:53,150 - tracker - INFO - Rank 0 -- tracking contacts -- 500 of 3242 of type shelter\n",
      "2022-11-10 15:31:53,382 - tracker - INFO - Rank 0 -- tracking contacts -- 125 of 125 of type communal\n",
      "2022-11-10 15:31:53,396 - tracker - INFO - Rank 0 -- tracking contacts -- 7 of 7 of type distribution_center\n",
      "2022-11-10 15:31:53,413 - tracker - INFO - Rank 0 -- tracking contacts -- 7 of 7 of type e_voucher\n",
      "2022-11-10 15:31:53,423 - tracker - INFO - Rank 0 -- tracking contacts -- 67 of 67 of type female_communal\n",
      "2022-11-10 15:31:53,452 - tracker - INFO - Rank 0 -- tracking contacts -- 80 of 80 of type informal_work\n",
      "2022-11-10 15:31:53,502 - tracker - INFO - Rank 0 -- tracking contacts -- 36 of 36 of type n_f_distribution_center\n",
      "2022-11-10 15:31:53,531 - tracker - INFO - Rank 0 -- tracking contacts -- 500 of 539 of type play_group\n",
      "2022-11-10 15:31:53,713 - tracker - INFO - Rank 0 -- tracking contacts -- 82 of 82 of type pump_latrine\n",
      "2022-11-10 15:31:54,912 - tracker - INFO - Rank 0 -- tracking contacts -- 500 of 2064 of type religious\n",
      "2022-11-10 15:31:55,080 - tracker - INFO - Rank 0 -- tracking contacts -- 8 of 8 of type hospital\n",
      "2022-11-10 15:31:55,086 - tracker - INFO - Rank 0 -- tracking contacts -- 8 of 8 of type isolation_unit\n",
      "2022-11-10 15:31:55,086 - rank - INFO - Rank 0 -- tracker -- 2.5178264779999893\n",
      "2022-11-10 15:31:55,088 - epidemiology - INFO - CMS: Infection COMS-v2 for rank 0/1(2)0.0001745380000102159,0.0001742839813232422 - 2020-05-24 15:00:00\n",
      "2022-11-10 15:31:55,110 - rank - INFO - Rank 0 -- interaction_waiting -- 6.732999992209443e-06\n",
      "2022-11-10 15:31:55,122 - simulator - INFO - CMS: Timestep for rank 0/1 - 3.2011692290000155,3.201201915740967 - 2020-05-24 15:00:00\n",
      "\n",
      "2022-11-10 15:31:55,123 - rank - INFO - Next timestep\n",
      "2022-11-10 15:31:55,123 - simulator - INFO - ==================== timestep ====================\n",
      "2022-11-10 15:31:55,716 - rank - INFO - Rank 0 -- move_people -- 0.5917677509999919\n",
      "2022-11-10 15:31:55,716 - rank - INFO - Rank 0 -- move_people_waiting -- 3.323999976601044e-06\n",
      "2022-11-10 15:31:55,717 - activity_manager - INFO - CMS: People COMS for rank 0/1 - 2.1390000028986833e-06,2.1457672119140625e-06 - 2020-05-24 17:00:00\n",
      "2022-11-10 15:31:55,721 - simulator - INFO - Info for rank 0, Date = 2020-05-24 17:00:00, number of deaths =  0, number of infected = 214\n",
      "2022-11-10 15:31:55,821 - rank - INFO - Rank 0 -- interaction -- 0.10367341099998839\n",
      "2022-11-10 15:31:55,822 - tracker - INFO - Rank 0 -- tracking contacts -- 389 of 389 of type learning_center\n",
      "2022-11-10 15:31:55,835 - tracker - INFO - Rank 0 -- tracking contacts -- 500 of 3242 of type shelter\n",
      "2022-11-10 15:31:56,132 - tracker - INFO - Rank 0 -- tracking contacts -- 125 of 125 of type communal\n",
      "2022-11-10 15:31:56,134 - tracker - INFO - Rank 0 -- tracking contacts -- 7 of 7 of type distribution_center\n",
      "2022-11-10 15:31:56,153 - tracker - INFO - Rank 0 -- tracking contacts -- 7 of 7 of type e_voucher\n",
      "2022-11-10 15:31:56,163 - tracker - INFO - Rank 0 -- tracking contacts -- 67 of 67 of type female_communal\n",
      "2022-11-10 15:31:56,164 - tracker - INFO - Rank 0 -- tracking contacts -- 80 of 80 of type informal_work\n",
      "2022-11-10 15:31:56,223 - tracker - INFO - Rank 0 -- tracking contacts -- 36 of 36 of type n_f_distribution_center\n",
      "2022-11-10 15:31:56,257 - tracker - INFO - Rank 0 -- tracking contacts -- 500 of 539 of type play_group\n",
      "2022-11-10 15:31:56,496 - tracker - INFO - Rank 0 -- tracking contacts -- 82 of 82 of type pump_latrine\n",
      "2022-11-10 15:31:57,891 - tracker - INFO - Rank 0 -- tracking contacts -- 500 of 2064 of type religious\n",
      "2022-11-10 15:31:58,118 - tracker - INFO - Rank 0 -- tracking contacts -- 8 of 8 of type hospital\n",
      "2022-11-10 15:31:58,118 - tracker - INFO - Rank 0 -- tracking contacts -- 8 of 8 of type isolation_unit\n",
      "2022-11-10 15:31:58,119 - rank - INFO - Rank 0 -- tracker -- 2.29716379300001\n",
      "2022-11-10 15:31:58,120 - epidemiology - INFO - CMS: Infection COMS-v2 for rank 0/1(2)0.00024150400000166883,0.00025010108947753906 - 2020-05-24 17:00:00\n",
      "2022-11-10 15:31:58,143 - rank - INFO - Rank 0 -- interaction_waiting -- 6.0320000159208575e-06\n",
      "2022-11-10 15:31:58,155 - simulator - INFO - CMS: Timestep for rank 0/1 - 3.0313539590000005,3.031384229660034 - 2020-05-24 17:00:00\n",
      "\n",
      "2022-11-10 15:31:58,157 - rank - INFO - Next timestep\n",
      "2022-11-10 15:31:58,157 - simulator - INFO - ==================== timestep ====================\n",
      "2022-11-10 15:31:58,294 - rank - INFO - Rank 0 -- move_people -- 0.13651712700001895\n",
      "2022-11-10 15:31:58,295 - rank - INFO - Rank 0 -- move_people_waiting -- 3.9629999832868634e-06\n",
      "2022-11-10 15:31:58,295 - activity_manager - INFO - CMS: People COMS for rank 0/1 - 2.5639999989834905e-06,2.1457672119140625e-06 - 2020-05-24 19:00:00\n",
      "2022-11-10 15:31:58,299 - simulator - INFO - Info for rank 0, Date = 2020-05-24 19:00:00, number of deaths =  0, number of infected = 215\n",
      "2022-11-10 15:31:58,359 - rank - INFO - Rank 0 -- interaction -- 0.0637625299999911\n",
      "2022-11-10 15:31:58,361 - tracker - INFO - Rank 0 -- tracking contacts -- 389 of 389 of type learning_center\n",
      "2022-11-10 15:31:58,374 - tracker - INFO - Rank 0 -- tracking contacts -- 500 of 3242 of type shelter\n",
      "2022-11-10 15:31:59,048 - tracker - INFO - Rank 0 -- tracking contacts -- 125 of 125 of type communal\n",
      "2022-11-10 15:31:59,049 - tracker - INFO - Rank 0 -- tracking contacts -- 7 of 7 of type distribution_center\n",
      "2022-11-10 15:31:59,050 - tracker - INFO - Rank 0 -- tracking contacts -- 7 of 7 of type e_voucher\n",
      "2022-11-10 15:31:59,051 - tracker - INFO - Rank 0 -- tracking contacts -- 67 of 67 of type female_communal\n",
      "2022-11-10 15:31:59,052 - tracker - INFO - Rank 0 -- tracking contacts -- 80 of 80 of type informal_work\n",
      "2022-11-10 15:31:59,054 - tracker - INFO - Rank 0 -- tracking contacts -- 36 of 36 of type n_f_distribution_center\n",
      "2022-11-10 15:31:59,056 - tracker - INFO - Rank 0 -- tracking contacts -- 500 of 539 of type play_group\n",
      "2022-11-10 15:31:59,062 - tracker - INFO - Rank 0 -- tracking contacts -- 82 of 82 of type pump_latrine\n",
      "2022-11-10 15:31:59,071 - tracker - INFO - Rank 0 -- tracking contacts -- 500 of 2064 of type religious\n",
      "2022-11-10 15:31:59,077 - tracker - INFO - Rank 0 -- tracking contacts -- 8 of 8 of type hospital\n",
      "2022-11-10 15:31:59,078 - tracker - INFO - Rank 0 -- tracking contacts -- 8 of 8 of type isolation_unit\n",
      "2022-11-10 15:31:59,079 - rank - INFO - Rank 0 -- tracker -- 0.7186631960000227\n",
      "2022-11-10 15:31:59,087 - epidemiology - INFO - CMS: Infection COMS-v2 for rank 0/1(2)0.00044773100000838895,0.0004470348358154297 - 2020-05-24 19:00:00\n",
      "2022-11-10 15:31:59,121 - rank - INFO - Rank 0 -- interaction_waiting -- 1.4618999983895264e-05\n",
      "2022-11-10 15:31:59,133 - simulator - INFO - CMS: Timestep for rank 0/1 - 0.9755415730000152,0.9755527973175049 - 2020-05-24 19:00:00\n",
      "\n",
      "2022-11-10 15:31:59,136 - rank - INFO - Next timestep\n",
      "2022-11-10 15:31:59,137 - simulator - INFO - ==================== timestep ====================\n",
      "2022-11-10 15:31:59,293 - rank - INFO - Rank 0 -- move_people -- 0.15605092999999215\n",
      "2022-11-10 15:31:59,294 - rank - INFO - Rank 0 -- move_people_waiting -- 3.840000005084221e-06\n",
      "2022-11-10 15:31:59,294 - activity_manager - INFO - CMS: People COMS for rank 0/1 - 2.9159999996863917e-06,2.86102294921875e-06 - 2020-05-25 09:00:00\n",
      "2022-11-10 15:31:59,299 - simulator - INFO - Info for rank 0, Date = 2020-05-25 09:00:00, number of deaths =  0, number of infected = 237\n",
      "2022-11-10 15:31:59,356 - rank - INFO - Rank 0 -- interaction -- 0.061146976000003406\n",
      "2022-11-10 15:32:03,758 - tracker - INFO - Rank 0 -- tracking contacts -- 389 of 389 of type learning_center\n",
      "2022-11-10 15:32:04,330 - tracker - INFO - Rank 0 -- tracking contacts -- 500 of 3242 of type shelter\n",
      "2022-11-10 15:32:04,814 - tracker - INFO - Rank 0 -- tracking contacts -- 125 of 125 of type communal\n",
      "2022-11-10 15:32:04,816 - tracker - INFO - Rank 0 -- tracking contacts -- 7 of 7 of type distribution_center\n"
     ]
    },
    {
     "name": "stdout",
     "output_type": "stream",
     "text": [
      "2022-11-10 15:32:04,817 - tracker - INFO - Rank 0 -- tracking contacts -- 7 of 7 of type e_voucher\n",
      "2022-11-10 15:32:04,818 - tracker - INFO - Rank 0 -- tracking contacts -- 67 of 67 of type female_communal\n",
      "2022-11-10 15:32:04,819 - tracker - INFO - Rank 0 -- tracking contacts -- 80 of 80 of type informal_work\n",
      "2022-11-10 15:32:04,820 - tracker - INFO - Rank 0 -- tracking contacts -- 36 of 36 of type n_f_distribution_center\n",
      "2022-11-10 15:32:04,822 - tracker - INFO - Rank 0 -- tracking contacts -- 500 of 539 of type play_group\n",
      "2022-11-10 15:32:04,829 - tracker - INFO - Rank 0 -- tracking contacts -- 82 of 82 of type pump_latrine\n",
      "2022-11-10 15:32:04,838 - tracker - INFO - Rank 0 -- tracking contacts -- 500 of 2064 of type religious\n",
      "2022-11-10 15:32:04,844 - tracker - INFO - Rank 0 -- tracking contacts -- 8 of 8 of type hospital\n",
      "2022-11-10 15:32:04,853 - tracker - INFO - Rank 0 -- tracking contacts -- 8 of 8 of type isolation_unit\n",
      "2022-11-10 15:32:04,853 - rank - INFO - Rank 0 -- tracker -- 5.4967684399999825\n",
      "2022-11-10 15:32:04,857 - epidemiology - INFO - CMS: Infection COMS-v2 for rank 0/1(2)0.00043995800001539465,0.00043892860412597656 - 2020-05-25 09:00:00\n",
      "2022-11-10 15:32:04,883 - rank - INFO - Rank 0 -- interaction_waiting -- 5.785000013247554e-06\n",
      "2022-11-10 15:32:04,896 - simulator - INFO - CMS: Timestep for rank 0/1 - 5.758312717999985,5.7583699226379395 - 2020-05-25 09:00:00\n",
      "\n",
      "2022-11-10 15:32:04,898 - rank - INFO - Next timestep\n",
      "2022-11-10 15:32:04,898 - simulator - INFO - ==================== timestep ====================\n",
      "2022-11-10 15:32:05,453 - rank - INFO - Rank 0 -- move_people -- 0.5537129329999857\n",
      "2022-11-10 15:32:05,453 - rank - INFO - Rank 0 -- move_people_waiting -- 0.00010057599999413469\n",
      "2022-11-10 15:32:05,454 - activity_manager - INFO - CMS: People COMS for rank 0/1 - 2.2099999910096813e-06,2.1457672119140625e-06 - 2020-05-25 11:00:00\n",
      "2022-11-10 15:32:05,457 - simulator - INFO - Info for rank 0, Date = 2020-05-25 11:00:00, number of deaths =  0, number of infected = 244\n",
      "2022-11-10 15:32:05,557 - rank - INFO - Rank 0 -- interaction -- 0.10243371400000001\n",
      "2022-11-10 15:32:06,375 - tracker - INFO - Rank 0 -- tracking contacts -- 389 of 389 of type learning_center\n",
      "2022-11-10 15:32:06,954 - tracker - INFO - Rank 0 -- tracking contacts -- 500 of 3242 of type shelter\n",
      "2022-11-10 15:32:07,191 - tracker - INFO - Rank 0 -- tracking contacts -- 125 of 125 of type communal\n",
      "2022-11-10 15:32:07,207 - tracker - INFO - Rank 0 -- tracking contacts -- 7 of 7 of type distribution_center\n",
      "2022-11-10 15:32:07,221 - tracker - INFO - Rank 0 -- tracking contacts -- 7 of 7 of type e_voucher\n",
      "2022-11-10 15:32:07,229 - tracker - INFO - Rank 0 -- tracking contacts -- 67 of 67 of type female_communal\n",
      "2022-11-10 15:32:07,260 - tracker - INFO - Rank 0 -- tracking contacts -- 80 of 80 of type informal_work\n",
      "2022-11-10 15:32:07,315 - tracker - INFO - Rank 0 -- tracking contacts -- 36 of 36 of type n_f_distribution_center\n",
      "2022-11-10 15:32:07,345 - tracker - INFO - Rank 0 -- tracking contacts -- 500 of 539 of type play_group\n",
      "2022-11-10 15:32:07,533 - tracker - INFO - Rank 0 -- tracking contacts -- 82 of 82 of type pump_latrine\n",
      "2022-11-10 15:32:08,719 - tracker - INFO - Rank 0 -- tracking contacts -- 500 of 2064 of type religious\n",
      "2022-11-10 15:32:08,886 - tracker - INFO - Rank 0 -- tracking contacts -- 8 of 8 of type hospital\n",
      "2022-11-10 15:32:08,891 - tracker - INFO - Rank 0 -- tracking contacts -- 8 of 8 of type isolation_unit\n",
      "2022-11-10 15:32:08,892 - rank - INFO - Rank 0 -- tracker -- 3.334693729999998\n",
      "2022-11-10 15:32:08,894 - epidemiology - INFO - CMS: Infection COMS-v2 for rank 0/1(2)0.00016800500000613283,0.0001671314239501953 - 2020-05-25 11:00:00\n",
      "2022-11-10 15:32:08,918 - rank - INFO - Rank 0 -- interaction_waiting -- 6.386999984897557e-06\n",
      "2022-11-10 15:32:08,930 - simulator - INFO - CMS: Timestep for rank 0/1 - 4.031047027999989,4.0310893058776855 - 2020-05-25 11:00:00\n",
      "\n",
      "2022-11-10 15:32:08,932 - rank - INFO - Next timestep\n",
      "2022-11-10 15:32:08,932 - simulator - INFO - ==================== timestep ====================\n",
      "2022-11-10 15:32:09,481 - rank - INFO - Rank 0 -- move_people -- 0.5484620459999974\n",
      "2022-11-10 15:32:09,482 - rank - INFO - Rank 0 -- move_people_waiting -- 5.0076000007948096e-05\n",
      "2022-11-10 15:32:09,482 - activity_manager - INFO - CMS: People COMS for rank 0/1 - 2.9499999811832822e-06,1.9073486328125e-06 - 2020-05-25 13:00:00\n",
      "2022-11-10 15:32:09,486 - simulator - INFO - Info for rank 0, Date = 2020-05-25 13:00:00, number of deaths =  0, number of infected = 250\n",
      "2022-11-10 15:32:09,582 - rank - INFO - Rank 0 -- interaction -- 0.09957826999999497\n",
      "2022-11-10 15:32:11,637 - tracker - INFO - Rank 0 -- tracking contacts -- 389 of 389 of type learning_center\n",
      "2022-11-10 15:32:12,218 - tracker - INFO - Rank 0 -- tracking contacts -- 500 of 3242 of type shelter\n",
      "2022-11-10 15:32:12,464 - tracker - INFO - Rank 0 -- tracking contacts -- 125 of 125 of type communal\n",
      "2022-11-10 15:32:12,477 - tracker - INFO - Rank 0 -- tracking contacts -- 7 of 7 of type distribution_center\n",
      "2022-11-10 15:32:12,491 - tracker - INFO - Rank 0 -- tracking contacts -- 7 of 7 of type e_voucher\n",
      "2022-11-10 15:32:12,498 - tracker - INFO - Rank 0 -- tracking contacts -- 67 of 67 of type female_communal\n",
      "2022-11-10 15:32:12,529 - tracker - INFO - Rank 0 -- tracking contacts -- 80 of 80 of type informal_work\n",
      "2022-11-10 15:32:12,587 - tracker - INFO - Rank 0 -- tracking contacts -- 36 of 36 of type n_f_distribution_center\n",
      "2022-11-10 15:32:12,619 - tracker - INFO - Rank 0 -- tracking contacts -- 500 of 539 of type play_group\n",
      "2022-11-10 15:32:12,802 - tracker - INFO - Rank 0 -- tracking contacts -- 82 of 82 of type pump_latrine\n",
      "2022-11-10 15:32:13,981 - tracker - INFO - Rank 0 -- tracking contacts -- 500 of 2064 of type religious\n",
      "2022-11-10 15:32:14,142 - tracker - INFO - Rank 0 -- tracking contacts -- 8 of 8 of type hospital\n",
      "2022-11-10 15:32:14,148 - tracker - INFO - Rank 0 -- tracking contacts -- 8 of 8 of type isolation_unit\n",
      "2022-11-10 15:32:14,149 - rank - INFO - Rank 0 -- tracker -- 4.5655811750000055\n",
      "2022-11-10 15:32:14,152 - epidemiology - INFO - CMS: Infection COMS-v2 for rank 0/1(2)0.00028751399997872795,0.0002868175506591797 - 2020-05-25 13:00:00\n",
      "2022-11-10 15:32:14,176 - rank - INFO - Rank 0 -- interaction_waiting -- 5.788000009943062e-06\n",
      "2022-11-10 15:32:14,187 - simulator - INFO - CMS: Timestep for rank 0/1 - 5.254578486000014,5.254631996154785 - 2020-05-25 13:00:00\n",
      "\n",
      "2022-11-10 15:32:14,189 - rank - INFO - Next timestep\n",
      "2022-11-10 15:32:14,190 - simulator - INFO - ==================== timestep ====================\n",
      "2022-11-10 15:32:14,737 - rank - INFO - Rank 0 -- move_people -- 0.5470963669999946\n",
      "2022-11-10 15:32:14,738 - rank - INFO - Rank 0 -- move_people_waiting -- 5.859400002350412e-05\n",
      "2022-11-10 15:32:14,738 - activity_manager - INFO - CMS: People COMS for rank 0/1 - 2.563000009558891e-06,2.1457672119140625e-06 - 2020-05-25 15:00:00\n",
      "2022-11-10 15:32:14,742 - simulator - INFO - Info for rank 0, Date = 2020-05-25 15:00:00, number of deaths =  0, number of infected = 260\n",
      "2022-11-10 15:32:14,845 - rank - INFO - Rank 0 -- interaction -- 0.10563836999997989\n",
      "2022-11-10 15:32:17,868 - tracker - INFO - Rank 0 -- tracking contacts -- 389 of 389 of type learning_center\n",
      "2022-11-10 15:32:18,435 - tracker - INFO - Rank 0 -- tracking contacts -- 500 of 3242 of type shelter\n",
      "2022-11-10 15:32:18,679 - tracker - INFO - Rank 0 -- tracking contacts -- 125 of 125 of type communal\n",
      "2022-11-10 15:32:18,695 - tracker - INFO - Rank 0 -- tracking contacts -- 7 of 7 of type distribution_center\n",
      "2022-11-10 15:32:18,710 - tracker - INFO - Rank 0 -- tracking contacts -- 7 of 7 of type e_voucher\n",
      "2022-11-10 15:32:18,716 - tracker - INFO - Rank 0 -- tracking contacts -- 67 of 67 of type female_communal\n",
      "2022-11-10 15:32:18,747 - tracker - INFO - Rank 0 -- tracking contacts -- 80 of 80 of type informal_work\n",
      "2022-11-10 15:32:18,795 - tracker - INFO - Rank 0 -- tracking contacts -- 36 of 36 of type n_f_distribution_center\n",
      "2022-11-10 15:32:18,820 - tracker - INFO - Rank 0 -- tracking contacts -- 500 of 539 of type play_group\n",
      "2022-11-10 15:32:18,990 - tracker - INFO - Rank 0 -- tracking contacts -- 82 of 82 of type pump_latrine\n"
     ]
    },
    {
     "name": "stdout",
     "output_type": "stream",
     "text": [
      "2022-11-10 15:32:20,166 - tracker - INFO - Rank 0 -- tracking contacts -- 500 of 2064 of type religious\n",
      "2022-11-10 15:32:20,331 - tracker - INFO - Rank 0 -- tracking contacts -- 8 of 8 of type hospital\n",
      "2022-11-10 15:32:20,338 - tracker - INFO - Rank 0 -- tracking contacts -- 8 of 8 of type isolation_unit\n",
      "2022-11-10 15:32:20,339 - rank - INFO - Rank 0 -- tracker -- 5.493335637000001\n",
      "2022-11-10 15:32:20,343 - epidemiology - INFO - CMS: Infection COMS-v2 for rank 0/1(2)0.0004731450000008408,0.00047278404235839844 - 2020-05-25 15:00:00\n",
      "2022-11-10 15:32:20,368 - rank - INFO - Rank 0 -- interaction_waiting -- 2.6791999999886684e-05\n",
      "2022-11-10 15:32:20,381 - simulator - INFO - CMS: Timestep for rank 0/1 - 6.190798887999989,6.190860986709595 - 2020-05-25 15:00:00\n",
      "\n",
      "2022-11-10 15:32:20,383 - rank - INFO - Next timestep\n",
      "2022-11-10 15:32:20,384 - simulator - INFO - ==================== timestep ====================\n",
      "2022-11-10 15:32:20,981 - rank - INFO - Rank 0 -- move_people -- 0.5966478990000041\n",
      "2022-11-10 15:32:20,982 - rank - INFO - Rank 0 -- move_people_waiting -- 5.8214999995698236e-05\n",
      "2022-11-10 15:32:20,982 - activity_manager - INFO - CMS: People COMS for rank 0/1 - 2.3819999910301703e-06,2.1457672119140625e-06 - 2020-05-25 17:00:00\n",
      "2022-11-10 15:32:20,986 - simulator - INFO - Info for rank 0, Date = 2020-05-25 17:00:00, number of deaths =  0, number of infected = 273\n",
      "2022-11-10 15:32:21,096 - rank - INFO - Rank 0 -- interaction -- 0.11354194300000131\n",
      "2022-11-10 15:32:24,894 - tracker - INFO - Rank 0 -- tracking contacts -- 389 of 389 of type learning_center\n",
      "2022-11-10 15:32:24,906 - tracker - INFO - Rank 0 -- tracking contacts -- 500 of 3242 of type shelter\n",
      "2022-11-10 15:32:25,195 - tracker - INFO - Rank 0 -- tracking contacts -- 125 of 125 of type communal\n",
      "2022-11-10 15:32:25,197 - tracker - INFO - Rank 0 -- tracking contacts -- 7 of 7 of type distribution_center\n",
      "2022-11-10 15:32:25,218 - tracker - INFO - Rank 0 -- tracking contacts -- 7 of 7 of type e_voucher\n",
      "2022-11-10 15:32:25,229 - tracker - INFO - Rank 0 -- tracking contacts -- 67 of 67 of type female_communal\n",
      "2022-11-10 15:32:25,230 - tracker - INFO - Rank 0 -- tracking contacts -- 80 of 80 of type informal_work\n",
      "2022-11-10 15:32:25,292 - tracker - INFO - Rank 0 -- tracking contacts -- 36 of 36 of type n_f_distribution_center\n",
      "2022-11-10 15:32:25,331 - tracker - INFO - Rank 0 -- tracking contacts -- 500 of 539 of type play_group\n",
      "2022-11-10 15:32:25,587 - tracker - INFO - Rank 0 -- tracking contacts -- 82 of 82 of type pump_latrine\n",
      "2022-11-10 15:32:27,189 - tracker - INFO - Rank 0 -- tracking contacts -- 500 of 2064 of type religious\n",
      "2022-11-10 15:32:27,416 - tracker - INFO - Rank 0 -- tracking contacts -- 8 of 8 of type hospital\n",
      "2022-11-10 15:32:27,417 - tracker - INFO - Rank 0 -- tracking contacts -- 8 of 8 of type isolation_unit\n",
      "2022-11-10 15:32:27,418 - rank - INFO - Rank 0 -- tracker -- 6.320526065999985\n",
      "2022-11-10 15:32:27,420 - epidemiology - INFO - CMS: Infection COMS-v2 for rank 0/1(2)0.0002387170000019978,0.00023818016052246094 - 2020-05-25 17:00:00\n",
      "2022-11-10 15:32:27,443 - rank - INFO - Rank 0 -- interaction_waiting -- 5.829999992101875e-06\n",
      "2022-11-10 15:32:27,455 - simulator - INFO - CMS: Timestep for rank 0/1 - 7.0701786410000125,7.070250034332275 - 2020-05-25 17:00:00\n",
      "\n",
      "2022-11-10 15:32:27,457 - rank - INFO - Next timestep\n",
      "2022-11-10 15:32:27,458 - simulator - INFO - ==================== timestep ====================\n",
      "2022-11-10 15:32:27,598 - rank - INFO - Rank 0 -- move_people -- 0.1391787820000161\n",
      "2022-11-10 15:32:27,598 - rank - INFO - Rank 0 -- move_people_waiting -- 4.084000011062017e-06\n",
      "2022-11-10 15:32:27,599 - activity_manager - INFO - CMS: People COMS for rank 0/1 - 2.4059999930159393e-06,2.1457672119140625e-06 - 2020-05-25 19:00:00\n",
      "2022-11-10 15:32:27,603 - simulator - INFO - Info for rank 0, Date = 2020-05-25 19:00:00, number of deaths =  0, number of infected = 276\n",
      "2022-11-10 15:32:27,672 - rank - INFO - Rank 0 -- interaction -- 0.07345583700001157\n",
      "2022-11-10 15:32:32,201 - tracker - INFO - Rank 0 -- tracking contacts -- 389 of 389 of type learning_center\n",
      "2022-11-10 15:32:32,212 - tracker - INFO - Rank 0 -- tracking contacts -- 500 of 3242 of type shelter\n",
      "2022-11-10 15:32:32,892 - tracker - INFO - Rank 0 -- tracking contacts -- 125 of 125 of type communal\n",
      "2022-11-10 15:32:32,894 - tracker - INFO - Rank 0 -- tracking contacts -- 7 of 7 of type distribution_center\n",
      "2022-11-10 15:32:32,895 - tracker - INFO - Rank 0 -- tracking contacts -- 7 of 7 of type e_voucher\n",
      "2022-11-10 15:32:32,895 - tracker - INFO - Rank 0 -- tracking contacts -- 67 of 67 of type female_communal\n",
      "2022-11-10 15:32:32,897 - tracker - INFO - Rank 0 -- tracking contacts -- 80 of 80 of type informal_work\n",
      "2022-11-10 15:32:32,899 - tracker - INFO - Rank 0 -- tracking contacts -- 36 of 36 of type n_f_distribution_center\n",
      "2022-11-10 15:32:32,901 - tracker - INFO - Rank 0 -- tracking contacts -- 500 of 539 of type play_group\n",
      "2022-11-10 15:32:32,908 - tracker - INFO - Rank 0 -- tracking contacts -- 82 of 82 of type pump_latrine\n",
      "2022-11-10 15:32:32,919 - tracker - INFO - Rank 0 -- tracking contacts -- 500 of 2064 of type religious\n",
      "2022-11-10 15:32:32,925 - tracker - INFO - Rank 0 -- tracking contacts -- 8 of 8 of type hospital\n",
      "2022-11-10 15:32:32,926 - tracker - INFO - Rank 0 -- tracking contacts -- 8 of 8 of type isolation_unit\n",
      "2022-11-10 15:32:32,927 - rank - INFO - Rank 0 -- tracker -- 5.253574909000008\n",
      "2022-11-10 15:32:32,949 - epidemiology - INFO - CMS: Infection COMS-v2 for rank 0/1(2)0.0005367999999918993,0.0005359649658203125 - 2020-05-25 19:00:00\n",
      "2022-11-10 15:32:32,980 - rank - INFO - Rank 0 -- interaction_waiting -- 1.225300002261065e-05\n",
      "2022-11-10 15:32:32,992 - simulator - INFO - CMS: Timestep for rank 0/1 - 5.533578630999983,5.533633708953857 - 2020-05-25 19:00:00\n",
      "\n",
      "2022-11-10 15:32:32,994 - rank - INFO - Next timestep\n",
      "2022-11-10 15:32:32,994 - simulator - INFO - ==================== timestep ====================\n",
      "2022-11-10 15:32:33,160 - rank - INFO - Rank 0 -- move_people -- 0.16469132000000286\n",
      "2022-11-10 15:32:33,160 - rank - INFO - Rank 0 -- move_people_waiting -- 6.150399997295608e-05\n",
      "2022-11-10 15:32:33,161 - activity_manager - INFO - CMS: People COMS for rank 0/1 - 2.5889999903938588e-06,1.9073486328125e-06 - 2020-05-26 09:00:00\n",
      "2022-11-10 15:32:33,165 - simulator - INFO - Info for rank 0, Date = 2020-05-26 09:00:00, number of deaths =  0, number of infected = 329\n",
      "2022-11-10 15:32:33,232 - rank - INFO - Rank 0 -- interaction -- 0.07071776899999804\n",
      "2022-11-10 15:32:37,670 - tracker - INFO - Rank 0 -- tracking contacts -- 389 of 389 of type learning_center\n",
      "2022-11-10 15:32:38,230 - tracker - INFO - Rank 0 -- tracking contacts -- 500 of 3242 of type shelter\n",
      "2022-11-10 15:32:38,717 - tracker - INFO - Rank 0 -- tracking contacts -- 125 of 125 of type communal\n",
      "2022-11-10 15:32:38,719 - tracker - INFO - Rank 0 -- tracking contacts -- 7 of 7 of type distribution_center\n",
      "2022-11-10 15:32:38,720 - tracker - INFO - Rank 0 -- tracking contacts -- 7 of 7 of type e_voucher\n",
      "2022-11-10 15:32:38,720 - tracker - INFO - Rank 0 -- tracking contacts -- 67 of 67 of type female_communal\n",
      "2022-11-10 15:32:38,722 - tracker - INFO - Rank 0 -- tracking contacts -- 80 of 80 of type informal_work\n",
      "2022-11-10 15:32:38,723 - tracker - INFO - Rank 0 -- tracking contacts -- 36 of 36 of type n_f_distribution_center\n",
      "2022-11-10 15:32:38,725 - tracker - INFO - Rank 0 -- tracking contacts -- 500 of 539 of type play_group\n",
      "2022-11-10 15:32:38,732 - tracker - INFO - Rank 0 -- tracking contacts -- 82 of 82 of type pump_latrine\n",
      "2022-11-10 15:32:38,740 - tracker - INFO - Rank 0 -- tracking contacts -- 500 of 2064 of type religious\n",
      "2022-11-10 15:32:38,746 - tracker - INFO - Rank 0 -- tracking contacts -- 8 of 8 of type hospital\n",
      "2022-11-10 15:32:38,754 - tracker - INFO - Rank 0 -- tracking contacts -- 8 of 8 of type isolation_unit\n",
      "2022-11-10 15:32:38,755 - rank - INFO - Rank 0 -- tracker -- 5.5221180059999995\n",
      "2022-11-10 15:32:38,758 - epidemiology - INFO - CMS: Infection COMS-v2 for rank 0/1(2)0.0002746659999957046,0.0002739429473876953 - 2020-05-26 09:00:00\n",
      "2022-11-10 15:32:38,783 - rank - INFO - Rank 0 -- interaction_waiting -- 6.860000013375611e-06\n"
     ]
    },
    {
     "name": "stdout",
     "output_type": "stream",
     "text": [
      "2022-11-10 15:32:38,796 - simulator - INFO - CMS: Timestep for rank 0/1 - 5.8007098269999915,5.800769090652466 - 2020-05-26 09:00:00\n",
      "\n",
      "2022-11-10 15:32:38,798 - rank - INFO - Next timestep\n",
      "2022-11-10 15:32:38,798 - simulator - INFO - ==================== timestep ====================\n",
      "2022-11-10 15:32:39,353 - rank - INFO - Rank 0 -- move_people -- 0.553820538999986\n",
      "2022-11-10 15:32:39,353 - rank - INFO - Rank 0 -- move_people_waiting -- 5.393899999717178e-05\n",
      "2022-11-10 15:32:39,354 - activity_manager - INFO - CMS: People COMS for rank 0/1 - 2.795000000332948e-06,2.86102294921875e-06 - 2020-05-26 11:00:00\n",
      "2022-11-10 15:32:39,358 - simulator - INFO - Info for rank 0, Date = 2020-05-26 11:00:00, number of deaths =  0, number of infected = 338\n",
      "2022-11-10 15:32:39,461 - rank - INFO - Rank 0 -- interaction -- 0.10700782099999628\n",
      "2022-11-10 15:32:40,279 - tracker - INFO - Rank 0 -- tracking contacts -- 389 of 389 of type learning_center\n",
      "2022-11-10 15:32:40,860 - tracker - INFO - Rank 0 -- tracking contacts -- 500 of 3242 of type shelter\n",
      "2022-11-10 15:32:41,105 - tracker - INFO - Rank 0 -- tracking contacts -- 125 of 125 of type communal\n",
      "2022-11-10 15:32:41,119 - tracker - INFO - Rank 0 -- tracking contacts -- 7 of 7 of type distribution_center\n",
      "2022-11-10 15:32:41,135 - tracker - INFO - Rank 0 -- tracking contacts -- 7 of 7 of type e_voucher\n",
      "2022-11-10 15:32:41,142 - tracker - INFO - Rank 0 -- tracking contacts -- 67 of 67 of type female_communal\n",
      "2022-11-10 15:32:41,175 - tracker - INFO - Rank 0 -- tracking contacts -- 80 of 80 of type informal_work\n",
      "2022-11-10 15:32:41,229 - tracker - INFO - Rank 0 -- tracking contacts -- 36 of 36 of type n_f_distribution_center\n",
      "2022-11-10 15:32:41,258 - tracker - INFO - Rank 0 -- tracking contacts -- 500 of 539 of type play_group\n",
      "2022-11-10 15:32:41,430 - tracker - INFO - Rank 0 -- tracking contacts -- 82 of 82 of type pump_latrine\n",
      "2022-11-10 15:32:42,605 - tracker - INFO - Rank 0 -- tracking contacts -- 500 of 2064 of type religious\n",
      "2022-11-10 15:32:42,776 - tracker - INFO - Rank 0 -- tracking contacts -- 8 of 8 of type hospital\n",
      "2022-11-10 15:32:42,782 - tracker - INFO - Rank 0 -- tracking contacts -- 8 of 8 of type isolation_unit\n",
      "2022-11-10 15:32:42,782 - rank - INFO - Rank 0 -- tracker -- 3.320267419000004\n",
      "2022-11-10 15:32:42,786 - epidemiology - INFO - CMS: Infection COMS-v2 for rank 0/1(2)0.00020371200000113276,0.0002040863037109375 - 2020-05-26 11:00:00\n",
      "2022-11-10 15:32:42,815 - rank - INFO - Rank 0 -- interaction_waiting -- 5.857999980207751e-06\n",
      "2022-11-10 15:32:42,827 - simulator - INFO - CMS: Timestep for rank 0/1 - 4.027967081000014,4.0280070304870605 - 2020-05-26 11:00:00\n",
      "\n",
      "2022-11-10 15:32:42,828 - rank - INFO - Next timestep\n",
      "2022-11-10 15:32:42,829 - simulator - INFO - ==================== timestep ====================\n",
      "2022-11-10 15:32:43,384 - rank - INFO - Rank 0 -- move_people -- 0.5542789370000207\n",
      "2022-11-10 15:32:43,384 - rank - INFO - Rank 0 -- move_people_waiting -- 3.2690000182356016e-06\n",
      "2022-11-10 15:32:43,385 - activity_manager - INFO - CMS: People COMS for rank 0/1 - 2.5820000075782445e-06,2.6226043701171875e-06 - 2020-05-26 13:00:00\n",
      "2022-11-10 15:32:43,389 - simulator - INFO - Info for rank 0, Date = 2020-05-26 13:00:00, number of deaths =  0, number of infected = 348\n",
      "2022-11-10 15:32:43,499 - rank - INFO - Rank 0 -- interaction -- 0.11384991799999966\n",
      "2022-11-10 15:32:45,535 - tracker - INFO - Rank 0 -- tracking contacts -- 389 of 389 of type learning_center\n",
      "2022-11-10 15:32:46,098 - tracker - INFO - Rank 0 -- tracking contacts -- 500 of 3242 of type shelter\n",
      "2022-11-10 15:32:46,346 - tracker - INFO - Rank 0 -- tracking contacts -- 125 of 125 of type communal\n",
      "2022-11-10 15:32:46,360 - tracker - INFO - Rank 0 -- tracking contacts -- 7 of 7 of type distribution_center\n",
      "2022-11-10 15:32:46,375 - tracker - INFO - Rank 0 -- tracking contacts -- 7 of 7 of type e_voucher\n",
      "2022-11-10 15:32:46,384 - tracker - INFO - Rank 0 -- tracking contacts -- 67 of 67 of type female_communal\n",
      "2022-11-10 15:32:46,410 - tracker - INFO - Rank 0 -- tracking contacts -- 80 of 80 of type informal_work\n",
      "2022-11-10 15:32:46,462 - tracker - INFO - Rank 0 -- tracking contacts -- 36 of 36 of type n_f_distribution_center\n",
      "2022-11-10 15:32:46,495 - tracker - INFO - Rank 0 -- tracking contacts -- 500 of 539 of type play_group\n",
      "2022-11-10 15:32:46,672 - tracker - INFO - Rank 0 -- tracking contacts -- 82 of 82 of type pump_latrine\n",
      "2022-11-10 15:32:47,858 - tracker - INFO - Rank 0 -- tracking contacts -- 500 of 2064 of type religious\n",
      "2022-11-10 15:32:48,016 - tracker - INFO - Rank 0 -- tracking contacts -- 8 of 8 of type hospital\n",
      "2022-11-10 15:32:48,022 - tracker - INFO - Rank 0 -- tracking contacts -- 8 of 8 of type isolation_unit\n",
      "2022-11-10 15:32:48,022 - rank - INFO - Rank 0 -- tracker -- 4.5224896439999895\n",
      "2022-11-10 15:32:48,027 - epidemiology - INFO - CMS: Infection COMS-v2 for rank 0/1(2)0.0003309520000129851,0.0003311634063720703 - 2020-05-26 13:00:00\n",
      "2022-11-10 15:32:48,050 - rank - INFO - Rank 0 -- interaction_waiting -- 5.787999981521352e-06\n",
      "2022-11-10 15:32:48,062 - simulator - INFO - CMS: Timestep for rank 0/1 - 5.232287288000009,5.232341051101685 - 2020-05-26 13:00:00\n",
      "\n",
      "2022-11-10 15:32:48,064 - rank - INFO - Next timestep\n",
      "2022-11-10 15:32:48,065 - simulator - INFO - ==================== timestep ====================\n",
      "2022-11-10 15:32:48,617 - rank - INFO - Rank 0 -- move_people -- 0.5513121479999938\n",
      "2022-11-10 15:32:48,618 - rank - INFO - Rank 0 -- move_people_waiting -- 3.3240000050227536e-06\n",
      "2022-11-10 15:32:48,618 - activity_manager - INFO - CMS: People COMS for rank 0/1 - 2.356999999619802e-06,2.1457672119140625e-06 - 2020-05-26 15:00:00\n",
      "2022-11-10 15:32:48,622 - simulator - INFO - Info for rank 0, Date = 2020-05-26 15:00:00, number of deaths =  0, number of infected = 363\n",
      "2022-11-10 15:32:48,730 - rank - INFO - Rank 0 -- interaction -- 0.11164997400001653\n",
      "2022-11-10 15:32:51,717 - tracker - INFO - Rank 0 -- tracking contacts -- 389 of 389 of type learning_center\n",
      "2022-11-10 15:32:52,283 - tracker - INFO - Rank 0 -- tracking contacts -- 500 of 3242 of type shelter\n",
      "2022-11-10 15:32:52,526 - tracker - INFO - Rank 0 -- tracking contacts -- 125 of 125 of type communal\n",
      "2022-11-10 15:32:52,539 - tracker - INFO - Rank 0 -- tracking contacts -- 7 of 7 of type distribution_center\n",
      "2022-11-10 15:32:52,556 - tracker - INFO - Rank 0 -- tracking contacts -- 7 of 7 of type e_voucher\n",
      "2022-11-10 15:32:52,565 - tracker - INFO - Rank 0 -- tracking contacts -- 67 of 67 of type female_communal\n",
      "2022-11-10 15:32:52,591 - tracker - INFO - Rank 0 -- tracking contacts -- 80 of 80 of type informal_work\n",
      "2022-11-10 15:32:52,642 - tracker - INFO - Rank 0 -- tracking contacts -- 36 of 36 of type n_f_distribution_center\n",
      "2022-11-10 15:32:52,670 - tracker - INFO - Rank 0 -- tracking contacts -- 500 of 539 of type play_group\n",
      "2022-11-10 15:32:52,852 - tracker - INFO - Rank 0 -- tracking contacts -- 82 of 82 of type pump_latrine\n",
      "2022-11-10 15:32:54,055 - tracker - INFO - Rank 0 -- tracking contacts -- 500 of 2064 of type religious\n",
      "2022-11-10 15:32:54,216 - tracker - INFO - Rank 0 -- tracking contacts -- 8 of 8 of type hospital\n",
      "2022-11-10 15:32:54,222 - tracker - INFO - Rank 0 -- tracking contacts -- 8 of 8 of type isolation_unit\n",
      "2022-11-10 15:32:54,223 - rank - INFO - Rank 0 -- tracker -- 5.491901654000031\n",
      "2022-11-10 15:32:54,227 - epidemiology - INFO - CMS: Infection COMS-v2 for rank 0/1(2)0.00019867700001441335,0.00019788742065429688 - 2020-05-26 15:00:00\n",
      "2022-11-10 15:32:54,252 - rank - INFO - Rank 0 -- interaction_waiting -- 5.86999999541149e-06\n",
      "2022-11-10 15:32:54,264 - simulator - INFO - CMS: Timestep for rank 0/1 - 6.197987489000013,6.198050022125244 - 2020-05-26 15:00:00\n",
      "\n",
      "2022-11-10 15:32:54,265 - rank - INFO - Next timestep\n",
      "2022-11-10 15:32:54,266 - simulator - INFO - ==================== timestep ====================\n",
      "2022-11-10 15:32:54,870 - rank - INFO - Rank 0 -- move_people -- 0.603121654000006\n",
      "2022-11-10 15:32:54,870 - rank - INFO - Rank 0 -- move_people_waiting -- 7.642599996415811e-05\n",
      "2022-11-10 15:32:54,871 - activity_manager - INFO - CMS: People COMS for rank 0/1 - 2.605000020139414e-06,2.86102294921875e-06 - 2020-05-26 17:00:00\n",
      "2022-11-10 15:32:54,875 - simulator - INFO - Info for rank 0, Date = 2020-05-26 17:00:00, number of deaths =  0, number of infected = 376\n"
     ]
    },
    {
     "name": "stdout",
     "output_type": "stream",
     "text": [
      "2022-11-10 15:32:54,993 - rank - INFO - Rank 0 -- interaction -- 0.12193268599997964\n",
      "2022-11-10 15:32:58,811 - tracker - INFO - Rank 0 -- tracking contacts -- 389 of 389 of type learning_center\n",
      "2022-11-10 15:32:58,823 - tracker - INFO - Rank 0 -- tracking contacts -- 500 of 3242 of type shelter\n",
      "2022-11-10 15:32:59,104 - tracker - INFO - Rank 0 -- tracking contacts -- 125 of 125 of type communal\n",
      "2022-11-10 15:32:59,105 - tracker - INFO - Rank 0 -- tracking contacts -- 7 of 7 of type distribution_center\n",
      "2022-11-10 15:32:59,126 - tracker - INFO - Rank 0 -- tracking contacts -- 7 of 7 of type e_voucher\n",
      "2022-11-10 15:32:59,136 - tracker - INFO - Rank 0 -- tracking contacts -- 67 of 67 of type female_communal\n",
      "2022-11-10 15:32:59,138 - tracker - INFO - Rank 0 -- tracking contacts -- 80 of 80 of type informal_work\n",
      "2022-11-10 15:32:59,196 - tracker - INFO - Rank 0 -- tracking contacts -- 36 of 36 of type n_f_distribution_center\n",
      "2022-11-10 15:32:59,233 - tracker - INFO - Rank 0 -- tracking contacts -- 500 of 539 of type play_group\n",
      "2022-11-10 15:32:59,482 - tracker - INFO - Rank 0 -- tracking contacts -- 82 of 82 of type pump_latrine\n",
      "2022-11-10 15:33:00,906 - tracker - INFO - Rank 0 -- tracking contacts -- 500 of 2064 of type religious\n",
      "2022-11-10 15:33:01,118 - tracker - INFO - Rank 0 -- tracking contacts -- 8 of 8 of type hospital\n",
      "2022-11-10 15:33:01,119 - tracker - INFO - Rank 0 -- tracking contacts -- 8 of 8 of type isolation_unit\n",
      "2022-11-10 15:33:01,120 - rank - INFO - Rank 0 -- tracker -- 6.125838708000003\n",
      "2022-11-10 15:33:01,125 - epidemiology - INFO - CMS: Infection COMS-v2 for rank 0/1(2)0.0004982190000077935,0.0004978179931640625 - 2020-05-26 17:00:00\n",
      "2022-11-10 15:33:01,149 - rank - INFO - Rank 0 -- interaction_waiting -- 6.159999998089916e-06\n",
      "2022-11-10 15:33:01,162 - simulator - INFO - CMS: Timestep for rank 0/1 - 6.894866444999991,6.894934892654419 - 2020-05-26 17:00:00\n",
      "\n",
      "2022-11-10 15:33:01,163 - rank - INFO - Next timestep\n",
      "2022-11-10 15:33:01,164 - simulator - INFO - ==================== timestep ====================\n",
      "2022-11-10 15:33:01,298 - rank - INFO - Rank 0 -- move_people -- 0.1340127510000002\n",
      "2022-11-10 15:33:01,299 - rank - INFO - Rank 0 -- move_people_waiting -- 3.45300003345983e-06\n",
      "2022-11-10 15:33:01,300 - activity_manager - INFO - CMS: People COMS for rank 0/1 - 3.118999984508264e-06,3.0994415283203125e-06 - 2020-05-26 19:00:00\n",
      "2022-11-10 15:33:01,303 - simulator - INFO - Info for rank 0, Date = 2020-05-26 19:00:00, number of deaths =  0, number of infected = 390\n",
      "2022-11-10 15:33:01,374 - rank - INFO - Rank 0 -- interaction -- 0.07426163899998528\n",
      "2022-11-10 15:33:05,762 - tracker - INFO - Rank 0 -- tracking contacts -- 389 of 389 of type learning_center\n",
      "2022-11-10 15:33:05,773 - tracker - INFO - Rank 0 -- tracking contacts -- 500 of 3242 of type shelter\n",
      "2022-11-10 15:33:06,441 - tracker - INFO - Rank 0 -- tracking contacts -- 125 of 125 of type communal\n",
      "2022-11-10 15:33:06,443 - tracker - INFO - Rank 0 -- tracking contacts -- 7 of 7 of type distribution_center\n",
      "2022-11-10 15:33:06,443 - tracker - INFO - Rank 0 -- tracking contacts -- 7 of 7 of type e_voucher\n",
      "2022-11-10 15:33:06,444 - tracker - INFO - Rank 0 -- tracking contacts -- 67 of 67 of type female_communal\n",
      "2022-11-10 15:33:06,445 - tracker - INFO - Rank 0 -- tracking contacts -- 80 of 80 of type informal_work\n",
      "2022-11-10 15:33:06,447 - tracker - INFO - Rank 0 -- tracking contacts -- 36 of 36 of type n_f_distribution_center\n",
      "2022-11-10 15:33:06,449 - tracker - INFO - Rank 0 -- tracking contacts -- 500 of 539 of type play_group\n",
      "2022-11-10 15:33:06,456 - tracker - INFO - Rank 0 -- tracking contacts -- 82 of 82 of type pump_latrine\n",
      "2022-11-10 15:33:06,465 - tracker - INFO - Rank 0 -- tracking contacts -- 500 of 2064 of type religious\n",
      "2022-11-10 15:33:06,472 - tracker - INFO - Rank 0 -- tracking contacts -- 8 of 8 of type hospital\n",
      "2022-11-10 15:33:06,472 - tracker - INFO - Rank 0 -- tracking contacts -- 8 of 8 of type isolation_unit\n",
      "2022-11-10 15:33:06,473 - rank - INFO - Rank 0 -- tracker -- 5.098138507999977\n",
      "2022-11-10 15:33:06,492 - epidemiology - INFO - CMS: Infection COMS-v2 for rank 0/1(2)0.0004024259999937385,0.0004012584686279297 - 2020-05-26 19:00:00\n",
      "2022-11-10 15:33:06,522 - rank - INFO - Rank 0 -- interaction_waiting -- 9.9160000104348e-06\n",
      "2022-11-10 15:33:06,533 - simulator - INFO - CMS: Timestep for rank 0/1 - 5.368943989000002,5.368998289108276 - 2020-05-26 19:00:00\n",
      "\n",
      "2022-11-10 15:33:06,535 - rank - INFO - Next timestep\n",
      "2022-11-10 15:33:06,536 - simulator - INFO - ==================== timestep ====================\n",
      "2022-11-10 15:33:06,693 - rank - INFO - Rank 0 -- move_people -- 0.15686357900000303\n",
      "2022-11-10 15:33:06,694 - rank - INFO - Rank 0 -- move_people_waiting -- 3.6920000070495007e-06\n",
      "2022-11-10 15:33:06,694 - activity_manager - INFO - CMS: People COMS for rank 0/1 - 2.5769999751901196e-06,3.0994415283203125e-06 - 2020-05-27 09:00:00\n",
      "2022-11-10 15:33:06,699 - simulator - INFO - Info for rank 0, Date = 2020-05-27 09:00:00, number of deaths =  0, number of infected = 443\n",
      "2022-11-10 15:33:06,765 - rank - INFO - Rank 0 -- interaction -- 0.06992892800002437\n",
      "2022-11-10 15:33:11,178 - tracker - INFO - Rank 0 -- tracking contacts -- 389 of 389 of type learning_center\n",
      "2022-11-10 15:33:11,749 - tracker - INFO - Rank 0 -- tracking contacts -- 500 of 3242 of type shelter\n",
      "2022-11-10 15:33:12,240 - tracker - INFO - Rank 0 -- tracking contacts -- 125 of 125 of type communal\n",
      "2022-11-10 15:33:12,242 - tracker - INFO - Rank 0 -- tracking contacts -- 7 of 7 of type distribution_center\n",
      "2022-11-10 15:33:12,243 - tracker - INFO - Rank 0 -- tracking contacts -- 7 of 7 of type e_voucher\n",
      "2022-11-10 15:33:12,243 - tracker - INFO - Rank 0 -- tracking contacts -- 67 of 67 of type female_communal\n",
      "2022-11-10 15:33:12,245 - tracker - INFO - Rank 0 -- tracking contacts -- 80 of 80 of type informal_work\n",
      "2022-11-10 15:33:12,246 - tracker - INFO - Rank 0 -- tracking contacts -- 36 of 36 of type n_f_distribution_center\n",
      "2022-11-10 15:33:12,248 - tracker - INFO - Rank 0 -- tracking contacts -- 500 of 539 of type play_group\n",
      "2022-11-10 15:33:12,255 - tracker - INFO - Rank 0 -- tracking contacts -- 82 of 82 of type pump_latrine\n",
      "2022-11-10 15:33:12,263 - tracker - INFO - Rank 0 -- tracking contacts -- 500 of 2064 of type religious\n",
      "2022-11-10 15:33:12,269 - tracker - INFO - Rank 0 -- tracking contacts -- 8 of 8 of type hospital\n",
      "2022-11-10 15:33:12,279 - tracker - INFO - Rank 0 -- tracking contacts -- 8 of 8 of type isolation_unit\n",
      "2022-11-10 15:33:12,280 - rank - INFO - Rank 0 -- tracker -- 5.514144655999985\n",
      "2022-11-10 15:33:12,286 - epidemiology - INFO - CMS: Infection COMS-v2 for rank 0/1(2)0.00036578899999994974,0.0003647804260253906 - 2020-05-27 09:00:00\n",
      "2022-11-10 15:33:12,316 - rank - INFO - Rank 0 -- interaction_waiting -- 6.913999982316454e-06\n",
      "2022-11-10 15:33:12,328 - simulator - INFO - CMS: Timestep for rank 0/1 - 5.791610633999994,5.791668176651001 - 2020-05-27 09:00:00\n",
      "\n",
      "2022-11-10 15:33:12,330 - rank - INFO - Next timestep\n",
      "2022-11-10 15:33:12,331 - simulator - INFO - ==================== timestep ====================\n",
      "2022-11-10 15:33:12,875 - rank - INFO - Rank 0 -- move_people -- 0.5434647559999917\n",
      "2022-11-10 15:33:12,875 - rank - INFO - Rank 0 -- move_people_waiting -- 5.610300001990254e-05\n",
      "2022-11-10 15:33:12,876 - activity_manager - INFO - CMS: People COMS for rank 0/1 - 2.1359999777814664e-06,2.1457672119140625e-06 - 2020-05-27 11:00:00\n",
      "2022-11-10 15:33:12,880 - simulator - INFO - Info for rank 0, Date = 2020-05-27 11:00:00, number of deaths =  0, number of infected = 459\n",
      "2022-11-10 15:33:12,991 - rank - INFO - Rank 0 -- interaction -- 0.11473418399998536\n",
      "2022-11-10 15:33:13,813 - tracker - INFO - Rank 0 -- tracking contacts -- 389 of 389 of type learning_center\n",
      "2022-11-10 15:33:14,384 - tracker - INFO - Rank 0 -- tracking contacts -- 500 of 3242 of type shelter\n",
      "2022-11-10 15:33:14,625 - tracker - INFO - Rank 0 -- tracking contacts -- 125 of 125 of type communal\n",
      "2022-11-10 15:33:14,639 - tracker - INFO - Rank 0 -- tracking contacts -- 7 of 7 of type distribution_center\n",
      "2022-11-10 15:33:14,656 - tracker - INFO - Rank 0 -- tracking contacts -- 7 of 7 of type e_voucher\n",
      "2022-11-10 15:33:14,663 - tracker - INFO - Rank 0 -- tracking contacts -- 67 of 67 of type female_communal\n"
     ]
    },
    {
     "name": "stdout",
     "output_type": "stream",
     "text": [
      "2022-11-10 15:33:14,694 - tracker - INFO - Rank 0 -- tracking contacts -- 80 of 80 of type informal_work\n",
      "2022-11-10 15:33:14,744 - tracker - INFO - Rank 0 -- tracking contacts -- 36 of 36 of type n_f_distribution_center\n",
      "2022-11-10 15:33:14,778 - tracker - INFO - Rank 0 -- tracking contacts -- 500 of 539 of type play_group\n",
      "2022-11-10 15:33:14,963 - tracker - INFO - Rank 0 -- tracking contacts -- 82 of 82 of type pump_latrine\n",
      "2022-11-10 15:33:16,124 - tracker - INFO - Rank 0 -- tracking contacts -- 500 of 2064 of type religious\n",
      "2022-11-10 15:33:16,286 - tracker - INFO - Rank 0 -- tracking contacts -- 8 of 8 of type hospital\n",
      "2022-11-10 15:33:16,292 - tracker - INFO - Rank 0 -- tracking contacts -- 8 of 8 of type isolation_unit\n",
      "2022-11-10 15:33:16,292 - rank - INFO - Rank 0 -- tracker -- 3.300360748000003\n",
      "2022-11-10 15:33:16,298 - epidemiology - INFO - CMS: Infection COMS-v2 for rank 0/1(2)0.0007486779999794635,0.0007481575012207031 - 2020-05-27 11:00:00\n",
      "2022-11-10 15:33:16,325 - rank - INFO - Rank 0 -- interaction_waiting -- 5.903999976908381e-06\n",
      "2022-11-10 15:33:16,337 - simulator - INFO - CMS: Timestep for rank 0/1 - 4.005866045000005,4.005907297134399 - 2020-05-27 11:00:00\n",
      "\n",
      "2022-11-10 15:33:16,339 - rank - INFO - Next timestep\n",
      "2022-11-10 15:33:16,340 - simulator - INFO - ==================== timestep ====================\n",
      "2022-11-10 15:33:16,890 - rank - INFO - Rank 0 -- move_people -- 0.5494920509999588\n",
      "2022-11-10 15:33:16,890 - rank - INFO - Rank 0 -- move_people_waiting -- 6.629900002508293e-05\n",
      "2022-11-10 15:33:16,891 - activity_manager - INFO - CMS: People COMS for rank 0/1 - 2.8890000294268248e-06,3.0994415283203125e-06 - 2020-05-27 13:00:00\n",
      "2022-11-10 15:33:16,895 - simulator - INFO - Info for rank 0, Date = 2020-05-27 13:00:00, number of deaths =  0, number of infected = 473\n",
      "2022-11-10 15:33:17,006 - rank - INFO - Rank 0 -- interaction -- 0.11443408700000646\n",
      "2022-11-10 15:33:19,025 - tracker - INFO - Rank 0 -- tracking contacts -- 389 of 389 of type learning_center\n",
      "2022-11-10 15:33:19,588 - tracker - INFO - Rank 0 -- tracking contacts -- 500 of 3242 of type shelter\n",
      "2022-11-10 15:33:19,834 - tracker - INFO - Rank 0 -- tracking contacts -- 125 of 125 of type communal\n",
      "2022-11-10 15:33:19,849 - tracker - INFO - Rank 0 -- tracking contacts -- 7 of 7 of type distribution_center\n",
      "2022-11-10 15:33:19,865 - tracker - INFO - Rank 0 -- tracking contacts -- 7 of 7 of type e_voucher\n",
      "2022-11-10 15:33:19,871 - tracker - INFO - Rank 0 -- tracking contacts -- 67 of 67 of type female_communal\n",
      "2022-11-10 15:33:19,902 - tracker - INFO - Rank 0 -- tracking contacts -- 80 of 80 of type informal_work\n",
      "2022-11-10 15:33:19,956 - tracker - INFO - Rank 0 -- tracking contacts -- 36 of 36 of type n_f_distribution_center\n",
      "2022-11-10 15:33:19,985 - tracker - INFO - Rank 0 -- tracking contacts -- 500 of 539 of type play_group\n",
      "2022-11-10 15:33:20,165 - tracker - INFO - Rank 0 -- tracking contacts -- 82 of 82 of type pump_latrine\n",
      "2022-11-10 15:33:21,356 - tracker - INFO - Rank 0 -- tracking contacts -- 500 of 2064 of type religious\n",
      "2022-11-10 15:33:21,518 - tracker - INFO - Rank 0 -- tracking contacts -- 8 of 8 of type hospital\n",
      "2022-11-10 15:33:21,524 - tracker - INFO - Rank 0 -- tracking contacts -- 8 of 8 of type isolation_unit\n",
      "2022-11-10 15:33:21,525 - rank - INFO - Rank 0 -- tracker -- 4.51801961000001\n",
      "2022-11-10 15:33:21,529 - epidemiology - INFO - CMS: Infection COMS-v2 for rank 0/1(2)0.00043281600000000253,0.00043201446533203125 - 2020-05-27 13:00:00\n",
      "2022-11-10 15:33:21,562 - rank - INFO - Rank 0 -- interaction_waiting -- 6.278000000747852e-06\n",
      "2022-11-10 15:33:21,575 - simulator - INFO - CMS: Timestep for rank 0/1 - 5.234205486000008,5.23425817489624 - 2020-05-27 13:00:00\n",
      "\n",
      "2022-11-10 15:33:21,576 - rank - INFO - Next timestep\n",
      "2022-11-10 15:33:21,577 - simulator - INFO - ==================== timestep ====================\n",
      "2022-11-10 15:33:22,132 - rank - INFO - Rank 0 -- move_people -- 0.5541509999999903\n",
      "2022-11-10 15:33:22,132 - rank - INFO - Rank 0 -- move_people_waiting -- 5.040500002451154e-05\n",
      "2022-11-10 15:33:22,133 - activity_manager - INFO - CMS: People COMS for rank 0/1 - 2.512999969894736e-06,2.6226043701171875e-06 - 2020-05-27 15:00:00\n",
      "2022-11-10 15:33:22,137 - simulator - INFO - Info for rank 0, Date = 2020-05-27 15:00:00, number of deaths =  0, number of infected = 486\n",
      "2022-11-10 15:33:22,254 - rank - INFO - Rank 0 -- interaction -- 0.12118108999999322\n",
      "2022-11-10 15:33:25,220 - tracker - INFO - Rank 0 -- tracking contacts -- 389 of 389 of type learning_center\n",
      "2022-11-10 15:33:25,786 - tracker - INFO - Rank 0 -- tracking contacts -- 500 of 3242 of type shelter\n",
      "2022-11-10 15:33:26,023 - tracker - INFO - Rank 0 -- tracking contacts -- 125 of 125 of type communal\n",
      "2022-11-10 15:33:26,036 - tracker - INFO - Rank 0 -- tracking contacts -- 7 of 7 of type distribution_center\n",
      "2022-11-10 15:33:26,054 - tracker - INFO - Rank 0 -- tracking contacts -- 7 of 7 of type e_voucher\n",
      "2022-11-10 15:33:26,061 - tracker - INFO - Rank 0 -- tracking contacts -- 67 of 67 of type female_communal\n",
      "2022-11-10 15:33:26,094 - tracker - INFO - Rank 0 -- tracking contacts -- 80 of 80 of type informal_work\n",
      "2022-11-10 15:33:26,146 - tracker - INFO - Rank 0 -- tracking contacts -- 36 of 36 of type n_f_distribution_center\n",
      "2022-11-10 15:33:26,175 - tracker - INFO - Rank 0 -- tracking contacts -- 500 of 539 of type play_group\n",
      "2022-11-10 15:33:26,366 - tracker - INFO - Rank 0 -- tracking contacts -- 82 of 82 of type pump_latrine\n",
      "2022-11-10 15:33:27,530 - tracker - INFO - Rank 0 -- tracking contacts -- 500 of 2064 of type religious\n",
      "2022-11-10 15:33:27,696 - tracker - INFO - Rank 0 -- tracking contacts -- 8 of 8 of type hospital\n",
      "2022-11-10 15:33:27,702 - tracker - INFO - Rank 0 -- tracking contacts -- 8 of 8 of type isolation_unit\n",
      "2022-11-10 15:33:27,703 - rank - INFO - Rank 0 -- tracker -- 5.447818192\n",
      "2022-11-10 15:33:27,708 - epidemiology - INFO - CMS: Infection COMS-v2 for rank 0/1(2)0.00017991599997913,0.00017905235290527344 - 2020-05-27 15:00:00\n",
      "2022-11-10 15:33:27,738 - rank - INFO - Rank 0 -- interaction_waiting -- 5.658000020503096e-06\n",
      "2022-11-10 15:33:27,751 - simulator - INFO - CMS: Timestep for rank 0/1 - 6.172846341999957,6.172909259796143 - 2020-05-27 15:00:00\n",
      "\n",
      "2022-11-10 15:33:27,753 - rank - INFO - Next timestep\n",
      "2022-11-10 15:33:27,753 - simulator - INFO - ==================== timestep ====================\n",
      "2022-11-10 15:33:28,383 - rank - INFO - Rank 0 -- move_people -- 0.6290368969999918\n",
      "2022-11-10 15:33:28,384 - rank - INFO - Rank 0 -- move_people_waiting -- 5.214899999828049e-05\n",
      "2022-11-10 15:33:28,384 - activity_manager - INFO - CMS: People COMS for rank 0/1 - 2.2400000148081745e-06,3.0994415283203125e-06 - 2020-05-27 17:00:00\n",
      "2022-11-10 15:33:28,388 - simulator - INFO - Info for rank 0, Date = 2020-05-27 17:00:00, number of deaths =  0, number of infected = 503\n",
      "2022-11-10 15:33:28,512 - rank - INFO - Rank 0 -- interaction -- 0.12769794700000148\n",
      "2022-11-10 15:33:32,306 - tracker - INFO - Rank 0 -- tracking contacts -- 389 of 389 of type learning_center\n",
      "2022-11-10 15:33:32,317 - tracker - INFO - Rank 0 -- tracking contacts -- 500 of 3242 of type shelter\n",
      "2022-11-10 15:33:32,603 - tracker - INFO - Rank 0 -- tracking contacts -- 125 of 125 of type communal\n",
      "2022-11-10 15:33:32,604 - tracker - INFO - Rank 0 -- tracking contacts -- 7 of 7 of type distribution_center\n",
      "2022-11-10 15:33:32,624 - tracker - INFO - Rank 0 -- tracking contacts -- 7 of 7 of type e_voucher\n",
      "2022-11-10 15:33:32,631 - tracker - INFO - Rank 0 -- tracking contacts -- 67 of 67 of type female_communal\n",
      "2022-11-10 15:33:32,633 - tracker - INFO - Rank 0 -- tracking contacts -- 80 of 80 of type informal_work\n",
      "2022-11-10 15:33:32,692 - tracker - INFO - Rank 0 -- tracking contacts -- 36 of 36 of type n_f_distribution_center\n",
      "2022-11-10 15:33:32,722 - tracker - INFO - Rank 0 -- tracking contacts -- 500 of 539 of type play_group\n",
      "2022-11-10 15:33:32,958 - tracker - INFO - Rank 0 -- tracking contacts -- 82 of 82 of type pump_latrine\n",
      "2022-11-10 15:33:34,369 - tracker - INFO - Rank 0 -- tracking contacts -- 500 of 2064 of type religious\n",
      "2022-11-10 15:33:34,571 - tracker - INFO - Rank 0 -- tracking contacts -- 8 of 8 of type hospital\n"
     ]
    },
    {
     "name": "stdout",
     "output_type": "stream",
     "text": [
      "2022-11-10 15:33:34,572 - tracker - INFO - Rank 0 -- tracking contacts -- 8 of 8 of type isolation_unit\n",
      "2022-11-10 15:33:34,573 - rank - INFO - Rank 0 -- tracker -- 6.059653502999993\n",
      "2022-11-10 15:33:34,579 - epidemiology - INFO - CMS: Infection COMS-v2 for rank 0/1(2)0.00020613899999943897,0.00020623207092285156 - 2020-05-27 17:00:00\n",
      "2022-11-10 15:33:34,604 - rank - INFO - Rank 0 -- interaction_waiting -- 6.044000031124597e-06\n",
      "2022-11-10 15:33:34,615 - simulator - INFO - CMS: Timestep for rank 0/1 - 6.861399369000026,6.861469030380249 - 2020-05-27 17:00:00\n",
      "\n",
      "2022-11-10 15:33:34,618 - rank - INFO - Next timestep\n",
      "2022-11-10 15:33:34,618 - simulator - INFO - ==================== timestep ====================\n",
      "2022-11-10 15:33:34,761 - rank - INFO - Rank 0 -- move_people -- 0.14179731600000878\n",
      "2022-11-10 15:33:34,761 - rank - INFO - Rank 0 -- move_people_waiting -- 3.5030000162805663e-06\n",
      "2022-11-10 15:33:34,762 - activity_manager - INFO - CMS: People COMS for rank 0/1 - 2.591999987089366e-06,3.0994415283203125e-06 - 2020-05-27 19:00:00\n",
      "2022-11-10 15:33:34,766 - simulator - INFO - Info for rank 0, Date = 2020-05-27 19:00:00, number of deaths =  0, number of infected = 524\n",
      "2022-11-10 15:33:34,848 - rank - INFO - Rank 0 -- interaction -- 0.08564659399996799\n",
      "2022-11-10 15:33:39,211 - tracker - INFO - Rank 0 -- tracking contacts -- 389 of 389 of type learning_center\n",
      "2022-11-10 15:33:39,222 - tracker - INFO - Rank 0 -- tracking contacts -- 500 of 3242 of type shelter\n",
      "2022-11-10 15:33:39,891 - tracker - INFO - Rank 0 -- tracking contacts -- 125 of 125 of type communal\n",
      "2022-11-10 15:33:39,893 - tracker - INFO - Rank 0 -- tracking contacts -- 7 of 7 of type distribution_center\n",
      "2022-11-10 15:33:39,894 - tracker - INFO - Rank 0 -- tracking contacts -- 7 of 7 of type e_voucher\n",
      "2022-11-10 15:33:39,894 - tracker - INFO - Rank 0 -- tracking contacts -- 67 of 67 of type female_communal\n",
      "2022-11-10 15:33:39,896 - tracker - INFO - Rank 0 -- tracking contacts -- 80 of 80 of type informal_work\n",
      "2022-11-10 15:33:39,897 - tracker - INFO - Rank 0 -- tracking contacts -- 36 of 36 of type n_f_distribution_center\n",
      "2022-11-10 15:33:39,899 - tracker - INFO - Rank 0 -- tracking contacts -- 500 of 539 of type play_group\n",
      "2022-11-10 15:33:39,906 - tracker - INFO - Rank 0 -- tracking contacts -- 82 of 82 of type pump_latrine\n",
      "2022-11-10 15:33:39,915 - tracker - INFO - Rank 0 -- tracking contacts -- 500 of 2064 of type religious\n",
      "2022-11-10 15:33:39,921 - tracker - INFO - Rank 0 -- tracking contacts -- 8 of 8 of type hospital\n",
      "2022-11-10 15:33:39,922 - tracker - INFO - Rank 0 -- tracking contacts -- 8 of 8 of type isolation_unit\n",
      "2022-11-10 15:33:39,923 - rank - INFO - Rank 0 -- tracker -- 5.073884268000029\n",
      "2022-11-10 15:33:39,954 - epidemiology - INFO - CMS: Infection COMS-v2 for rank 0/1(2)0.00030242999997653897,0.00030112266540527344 - 2020-05-27 19:00:00\n",
      "2022-11-10 15:33:39,985 - rank - INFO - Rank 0 -- interaction_waiting -- 0.00016358199997057454\n",
      "2022-11-10 15:33:39,997 - simulator - INFO - CMS: Timestep for rank 0/1 - 5.377605913000025,5.377660036087036 - 2020-05-27 19:00:00\n",
      "\n",
      "2022-11-10 15:33:39,998 - rank - INFO - Next timestep\n",
      "2022-11-10 15:33:39,999 - simulator - INFO - ==================== timestep ====================\n",
      "2022-11-10 15:33:40,159 - rank - INFO - Rank 0 -- move_people -- 0.15904676399998152\n",
      "2022-11-10 15:33:40,159 - rank - INFO - Rank 0 -- move_people_waiting -- 6.278999990172451e-06\n",
      "2022-11-10 15:33:40,160 - activity_manager - INFO - CMS: People COMS for rank 0/1 - 2.263999988372234e-06,2.1457672119140625e-06 - 2020-05-28 09:00:00\n",
      "2022-11-10 15:33:40,164 - simulator - INFO - Info for rank 0, Date = 2020-05-28 09:00:00, number of deaths =  0, number of infected = 619\n",
      "2022-11-10 15:33:40,235 - rank - INFO - Rank 0 -- interaction -- 0.07496546300001228\n",
      "2022-11-10 15:33:44,649 - tracker - INFO - Rank 0 -- tracking contacts -- 389 of 389 of type learning_center\n",
      "2022-11-10 15:33:45,216 - tracker - INFO - Rank 0 -- tracking contacts -- 500 of 3242 of type shelter\n",
      "2022-11-10 15:33:45,702 - tracker - INFO - Rank 0 -- tracking contacts -- 125 of 125 of type communal\n",
      "2022-11-10 15:33:45,703 - tracker - INFO - Rank 0 -- tracking contacts -- 7 of 7 of type distribution_center\n",
      "2022-11-10 15:33:45,704 - tracker - INFO - Rank 0 -- tracking contacts -- 7 of 7 of type e_voucher\n",
      "2022-11-10 15:33:45,705 - tracker - INFO - Rank 0 -- tracking contacts -- 67 of 67 of type female_communal\n",
      "2022-11-10 15:33:45,706 - tracker - INFO - Rank 0 -- tracking contacts -- 80 of 80 of type informal_work\n",
      "2022-11-10 15:33:45,708 - tracker - INFO - Rank 0 -- tracking contacts -- 36 of 36 of type n_f_distribution_center\n",
      "2022-11-10 15:33:45,710 - tracker - INFO - Rank 0 -- tracking contacts -- 500 of 539 of type play_group\n",
      "2022-11-10 15:33:45,716 - tracker - INFO - Rank 0 -- tracking contacts -- 82 of 82 of type pump_latrine\n",
      "2022-11-10 15:33:45,725 - tracker - INFO - Rank 0 -- tracking contacts -- 500 of 2064 of type religious\n",
      "2022-11-10 15:33:45,732 - tracker - INFO - Rank 0 -- tracking contacts -- 8 of 8 of type hospital\n",
      "2022-11-10 15:33:45,741 - tracker - INFO - Rank 0 -- tracking contacts -- 8 of 8 of type isolation_unit\n",
      "2022-11-10 15:33:45,741 - rank - INFO - Rank 0 -- tracker -- 5.505258941000022\n",
      "2022-11-10 15:33:45,747 - epidemiology - INFO - CMS: Infection COMS-v2 for rank 0/1(2)0.0006347929999606094,0.0006339550018310547 - 2020-05-28 09:00:00\n",
      "2022-11-10 15:33:45,775 - rank - INFO - Rank 0 -- interaction_waiting -- 5.958000031114352e-06\n",
      "2022-11-10 15:33:45,787 - simulator - INFO - CMS: Timestep for rank 0/1 - 5.787843646999988,5.787901878356934 - 2020-05-28 09:00:00\n",
      "\n",
      "2022-11-10 15:33:45,790 - rank - INFO - Next timestep\n",
      "2022-11-10 15:33:45,790 - simulator - INFO - ==================== timestep ====================\n",
      "2022-11-10 15:33:46,339 - rank - INFO - Rank 0 -- move_people -- 0.5486379359999773\n",
      "2022-11-10 15:33:46,340 - rank - INFO - Rank 0 -- move_people_waiting -- 5.693600002132371e-05\n",
      "2022-11-10 15:33:46,340 - activity_manager - INFO - CMS: People COMS for rank 0/1 - 3.7369999859038217e-06,3.0994415283203125e-06 - 2020-05-28 11:00:00\n",
      "2022-11-10 15:33:46,344 - simulator - INFO - Info for rank 0, Date = 2020-05-28 11:00:00, number of deaths =  0, number of infected = 633\n",
      "2022-11-10 15:33:46,469 - rank - INFO - Rank 0 -- interaction -- 0.12766863100000592\n",
      "2022-11-10 15:33:47,285 - tracker - INFO - Rank 0 -- tracking contacts -- 389 of 389 of type learning_center\n",
      "2022-11-10 15:33:47,858 - tracker - INFO - Rank 0 -- tracking contacts -- 500 of 3242 of type shelter\n",
      "2022-11-10 15:33:48,104 - tracker - INFO - Rank 0 -- tracking contacts -- 125 of 125 of type communal\n",
      "2022-11-10 15:33:48,122 - tracker - INFO - Rank 0 -- tracking contacts -- 7 of 7 of type distribution_center\n",
      "2022-11-10 15:33:48,139 - tracker - INFO - Rank 0 -- tracking contacts -- 7 of 7 of type e_voucher\n",
      "2022-11-10 15:33:48,147 - tracker - INFO - Rank 0 -- tracking contacts -- 67 of 67 of type female_communal\n",
      "2022-11-10 15:33:48,173 - tracker - INFO - Rank 0 -- tracking contacts -- 80 of 80 of type informal_work\n",
      "2022-11-10 15:33:48,227 - tracker - INFO - Rank 0 -- tracking contacts -- 36 of 36 of type n_f_distribution_center\n",
      "2022-11-10 15:33:48,256 - tracker - INFO - Rank 0 -- tracking contacts -- 500 of 539 of type play_group\n",
      "2022-11-10 15:33:48,445 - tracker - INFO - Rank 0 -- tracking contacts -- 82 of 82 of type pump_latrine\n",
      "2022-11-10 15:33:49,607 - tracker - INFO - Rank 0 -- tracking contacts -- 500 of 2064 of type religious\n",
      "2022-11-10 15:33:49,787 - tracker - INFO - Rank 0 -- tracking contacts -- 8 of 8 of type hospital\n",
      "2022-11-10 15:33:49,793 - tracker - INFO - Rank 0 -- tracking contacts -- 8 of 8 of type isolation_unit\n",
      "2022-11-10 15:33:49,793 - rank - INFO - Rank 0 -- tracker -- 3.324043331999974\n",
      "2022-11-10 15:33:49,806 - epidemiology - INFO - CMS: Infection COMS-v2 for rank 0/1(2)0.0004918029999885221,0.0004909038543701172 - 2020-05-28 11:00:00\n",
      "2022-11-10 15:33:49,832 - rank - INFO - Rank 0 -- interaction_waiting -- 6.4769999994496175e-06\n",
      "2022-11-10 15:33:49,844 - simulator - INFO - CMS: Timestep for rank 0/1 - 4.053053804000001,4.053095102310181 - 2020-05-28 11:00:00\n",
      "\n",
      "2022-11-10 15:33:49,847 - rank - INFO - Next timestep\n"
     ]
    },
    {
     "name": "stdout",
     "output_type": "stream",
     "text": [
      "2022-11-10 15:33:49,847 - simulator - INFO - ==================== timestep ====================\n",
      "2022-11-10 15:33:50,405 - rank - INFO - Rank 0 -- move_people -- 0.5572521619999975\n",
      "2022-11-10 15:33:50,406 - rank - INFO - Rank 0 -- move_people_waiting -- 5.0474000033773336e-05\n",
      "2022-11-10 15:33:50,406 - activity_manager - INFO - CMS: People COMS for rank 0/1 - 2.4219999659180758e-06,2.1457672119140625e-06 - 2020-05-28 13:00:00\n",
      "2022-11-10 15:33:50,410 - simulator - INFO - Info for rank 0, Date = 2020-05-28 13:00:00, number of deaths =  0, number of infected = 669\n",
      "2022-11-10 15:33:50,533 - rank - INFO - Rank 0 -- interaction -- 0.12623310399999355\n",
      "2022-11-10 15:33:52,567 - tracker - INFO - Rank 0 -- tracking contacts -- 389 of 389 of type learning_center\n",
      "2022-11-10 15:33:53,126 - tracker - INFO - Rank 0 -- tracking contacts -- 500 of 3242 of type shelter\n",
      "2022-11-10 15:33:53,370 - tracker - INFO - Rank 0 -- tracking contacts -- 125 of 125 of type communal\n",
      "2022-11-10 15:33:53,385 - tracker - INFO - Rank 0 -- tracking contacts -- 7 of 7 of type distribution_center\n",
      "2022-11-10 15:33:53,402 - tracker - INFO - Rank 0 -- tracking contacts -- 7 of 7 of type e_voucher\n",
      "2022-11-10 15:33:53,410 - tracker - INFO - Rank 0 -- tracking contacts -- 67 of 67 of type female_communal\n",
      "2022-11-10 15:33:53,440 - tracker - INFO - Rank 0 -- tracking contacts -- 80 of 80 of type informal_work\n",
      "2022-11-10 15:33:53,491 - tracker - INFO - Rank 0 -- tracking contacts -- 36 of 36 of type n_f_distribution_center\n",
      "2022-11-10 15:33:53,517 - tracker - INFO - Rank 0 -- tracking contacts -- 500 of 539 of type play_group\n",
      "2022-11-10 15:33:53,698 - tracker - INFO - Rank 0 -- tracking contacts -- 82 of 82 of type pump_latrine\n",
      "2022-11-10 15:33:54,891 - tracker - INFO - Rank 0 -- tracking contacts -- 500 of 2064 of type religious\n",
      "2022-11-10 15:33:55,056 - tracker - INFO - Rank 0 -- tracking contacts -- 8 of 8 of type hospital\n",
      "2022-11-10 15:33:55,062 - tracker - INFO - Rank 0 -- tracking contacts -- 8 of 8 of type isolation_unit\n",
      "2022-11-10 15:33:55,062 - rank - INFO - Rank 0 -- tracker -- 4.528428725999959\n",
      "2022-11-10 15:33:55,072 - epidemiology - INFO - CMS: Infection COMS-v2 for rank 0/1(2)0.0002247919999831538,0.0002238750457763672 - 2020-05-28 13:00:00\n",
      "2022-11-10 15:33:55,101 - rank - INFO - Rank 0 -- interaction_waiting -- 7.407999987663061e-06\n",
      "2022-11-10 15:33:55,113 - simulator - INFO - CMS: Timestep for rank 0/1 - 5.265303055000004,5.265356063842773 - 2020-05-28 13:00:00\n",
      "\n",
      "2022-11-10 15:33:55,115 - rank - INFO - Next timestep\n",
      "2022-11-10 15:33:55,116 - simulator - INFO - ==================== timestep ====================\n",
      "2022-11-10 15:33:55,667 - rank - INFO - Rank 0 -- move_people -- 0.5506378260000133\n",
      "2022-11-10 15:33:55,668 - rank - INFO - Rank 0 -- move_people_waiting -- 5.5013000007875235e-05\n",
      "2022-11-10 15:33:55,668 - activity_manager - INFO - CMS: People COMS for rank 0/1 - 2.3669999791309237e-06,2.1457672119140625e-06 - 2020-05-28 15:00:00\n",
      "2022-11-10 15:33:55,672 - simulator - INFO - Info for rank 0, Date = 2020-05-28 15:00:00, number of deaths =  0, number of infected = 701\n",
      "2022-11-10 15:33:55,804 - rank - INFO - Rank 0 -- interaction -- 0.135579458000052\n",
      "2022-11-10 15:33:58,815 - tracker - INFO - Rank 0 -- tracking contacts -- 389 of 389 of type learning_center\n",
      "2022-11-10 15:33:59,380 - tracker - INFO - Rank 0 -- tracking contacts -- 500 of 3242 of type shelter\n",
      "2022-11-10 15:33:59,622 - tracker - INFO - Rank 0 -- tracking contacts -- 125 of 125 of type communal\n",
      "2022-11-10 15:33:59,640 - tracker - INFO - Rank 0 -- tracking contacts -- 7 of 7 of type distribution_center\n",
      "2022-11-10 15:33:59,656 - tracker - INFO - Rank 0 -- tracking contacts -- 7 of 7 of type e_voucher\n",
      "2022-11-10 15:33:59,663 - tracker - INFO - Rank 0 -- tracking contacts -- 67 of 67 of type female_communal\n",
      "2022-11-10 15:33:59,695 - tracker - INFO - Rank 0 -- tracking contacts -- 80 of 80 of type informal_work\n",
      "2022-11-10 15:33:59,749 - tracker - INFO - Rank 0 -- tracking contacts -- 36 of 36 of type n_f_distribution_center\n",
      "2022-11-10 15:33:59,775 - tracker - INFO - Rank 0 -- tracking contacts -- 500 of 539 of type play_group\n",
      "2022-11-10 15:33:59,958 - tracker - INFO - Rank 0 -- tracking contacts -- 82 of 82 of type pump_latrine\n",
      "2022-11-10 15:34:01,138 - tracker - INFO - Rank 0 -- tracking contacts -- 500 of 2064 of type religious\n",
      "2022-11-10 15:34:01,301 - tracker - INFO - Rank 0 -- tracking contacts -- 8 of 8 of type hospital\n",
      "2022-11-10 15:34:01,307 - tracker - INFO - Rank 0 -- tracking contacts -- 8 of 8 of type isolation_unit\n",
      "2022-11-10 15:34:01,308 - rank - INFO - Rank 0 -- tracker -- 5.503293143000008\n",
      "2022-11-10 15:34:01,315 - epidemiology - INFO - CMS: Infection COMS-v2 for rank 0/1(2)0.000281056999995144,0.0002796649932861328 - 2020-05-28 15:00:00\n",
      "2022-11-10 15:34:01,349 - rank - INFO - Rank 0 -- interaction_waiting -- 7.0309999955497915e-06\n",
      "2022-11-10 15:34:01,362 - simulator - INFO - CMS: Timestep for rank 0/1 - 6.245946677000006,6.246009111404419 - 2020-05-28 15:00:00\n",
      "\n",
      "2022-11-10 15:34:01,364 - rank - INFO - Next timestep\n",
      "2022-11-10 15:34:01,365 - simulator - INFO - ==================== timestep ====================\n",
      "2022-11-10 15:34:01,956 - rank - INFO - Rank 0 -- move_people -- 0.5904487820000099\n",
      "2022-11-10 15:34:01,956 - rank - INFO - Rank 0 -- move_people_waiting -- 5.3188999970643636e-05\n",
      "2022-11-10 15:34:01,957 - activity_manager - INFO - CMS: People COMS for rank 0/1 - 2.6480000201445364e-06,2.1457672119140625e-06 - 2020-05-28 17:00:00\n",
      "2022-11-10 15:34:01,961 - simulator - INFO - Info for rank 0, Date = 2020-05-28 17:00:00, number of deaths =  0, number of infected = 725\n",
      "2022-11-10 15:34:02,093 - rank - INFO - Rank 0 -- interaction -- 0.13554212299999335\n",
      "2022-11-10 15:34:05,867 - tracker - INFO - Rank 0 -- tracking contacts -- 389 of 389 of type learning_center\n",
      "2022-11-10 15:34:05,878 - tracker - INFO - Rank 0 -- tracking contacts -- 500 of 3242 of type shelter\n",
      "2022-11-10 15:34:06,165 - tracker - INFO - Rank 0 -- tracking contacts -- 125 of 125 of type communal\n",
      "2022-11-10 15:34:06,167 - tracker - INFO - Rank 0 -- tracking contacts -- 7 of 7 of type distribution_center\n",
      "2022-11-10 15:34:06,187 - tracker - INFO - Rank 0 -- tracking contacts -- 7 of 7 of type e_voucher\n",
      "2022-11-10 15:34:06,195 - tracker - INFO - Rank 0 -- tracking contacts -- 67 of 67 of type female_communal\n",
      "2022-11-10 15:34:06,196 - tracker - INFO - Rank 0 -- tracking contacts -- 80 of 80 of type informal_work\n",
      "2022-11-10 15:34:06,258 - tracker - INFO - Rank 0 -- tracking contacts -- 36 of 36 of type n_f_distribution_center\n",
      "2022-11-10 15:34:06,288 - tracker - INFO - Rank 0 -- tracking contacts -- 500 of 539 of type play_group\n",
      "2022-11-10 15:34:06,530 - tracker - INFO - Rank 0 -- tracking contacts -- 82 of 82 of type pump_latrine\n",
      "2022-11-10 15:34:07,950 - tracker - INFO - Rank 0 -- tracking contacts -- 500 of 2064 of type religious\n",
      "2022-11-10 15:34:08,148 - tracker - INFO - Rank 0 -- tracking contacts -- 8 of 8 of type hospital\n",
      "2022-11-10 15:34:08,149 - tracker - INFO - Rank 0 -- tracking contacts -- 8 of 8 of type isolation_unit\n",
      "2022-11-10 15:34:08,150 - rank - INFO - Rank 0 -- tracker -- 6.056162099000005\n",
      "2022-11-10 15:34:08,158 - epidemiology - INFO - CMS: Infection COMS-v2 for rank 0/1(2)0.000361660999999458,0.0003609657287597656 - 2020-05-28 17:00:00\n",
      "2022-11-10 15:34:08,188 - rank - INFO - Rank 0 -- interaction_waiting -- 5.563000001984619e-06\n",
      "2022-11-10 15:34:08,200 - simulator - INFO - CMS: Timestep for rank 0/1 - 6.83462007199995,6.834689140319824 - 2020-05-28 17:00:00\n",
      "\n",
      "2022-11-10 15:34:08,202 - rank - INFO - Next timestep\n",
      "2022-11-10 15:34:08,203 - simulator - INFO - ==================== timestep ====================\n",
      "2022-11-10 15:34:08,344 - rank - INFO - Rank 0 -- move_people -- 0.14078514099998074\n",
      "2022-11-10 15:34:08,344 - rank - INFO - Rank 0 -- move_people_waiting -- 3.402000004371075e-06\n",
      "2022-11-10 15:34:08,345 - activity_manager - INFO - CMS: People COMS for rank 0/1 - 2.64400000560272e-06,1.9073486328125e-06 - 2020-05-28 19:00:00\n",
      "2022-11-10 15:34:08,349 - simulator - INFO - Info for rank 0, Date = 2020-05-28 19:00:00, number of deaths =  0, number of infected = 750\n",
      "2022-11-10 15:34:08,435 - rank - INFO - Rank 0 -- interaction -- 0.08980513399995971\n"
     ]
    },
    {
     "name": "stdout",
     "output_type": "stream",
     "text": [
      "2022-11-10 15:34:12,811 - tracker - INFO - Rank 0 -- tracking contacts -- 389 of 389 of type learning_center\n",
      "2022-11-10 15:34:12,822 - tracker - INFO - Rank 0 -- tracking contacts -- 500 of 3242 of type shelter\n",
      "2022-11-10 15:34:13,501 - tracker - INFO - Rank 0 -- tracking contacts -- 125 of 125 of type communal\n",
      "2022-11-10 15:34:13,503 - tracker - INFO - Rank 0 -- tracking contacts -- 7 of 7 of type distribution_center\n",
      "2022-11-10 15:34:13,504 - tracker - INFO - Rank 0 -- tracking contacts -- 7 of 7 of type e_voucher\n",
      "2022-11-10 15:34:13,504 - tracker - INFO - Rank 0 -- tracking contacts -- 67 of 67 of type female_communal\n",
      "2022-11-10 15:34:13,506 - tracker - INFO - Rank 0 -- tracking contacts -- 80 of 80 of type informal_work\n",
      "2022-11-10 15:34:13,507 - tracker - INFO - Rank 0 -- tracking contacts -- 36 of 36 of type n_f_distribution_center\n",
      "2022-11-10 15:34:13,509 - tracker - INFO - Rank 0 -- tracking contacts -- 500 of 539 of type play_group\n",
      "2022-11-10 15:34:13,516 - tracker - INFO - Rank 0 -- tracking contacts -- 82 of 82 of type pump_latrine\n",
      "2022-11-10 15:34:13,525 - tracker - INFO - Rank 0 -- tracking contacts -- 500 of 2064 of type religious\n",
      "2022-11-10 15:34:13,533 - tracker - INFO - Rank 0 -- tracking contacts -- 8 of 8 of type hospital\n",
      "2022-11-10 15:34:13,533 - tracker - INFO - Rank 0 -- tracking contacts -- 8 of 8 of type isolation_unit\n",
      "2022-11-10 15:34:13,534 - rank - INFO - Rank 0 -- tracker -- 5.098003998000024\n",
      "2022-11-10 15:34:13,568 - epidemiology - INFO - CMS: Infection COMS-v2 for rank 0/1(2)0.00029176399999641944,0.0002911090850830078 - 2020-05-28 19:00:00\n",
      "2022-11-10 15:34:13,601 - rank - INFO - Rank 0 -- interaction_waiting -- 1.216000003978479e-05\n",
      "2022-11-10 15:34:13,613 - simulator - INFO - CMS: Timestep for rank 0/1 - 5.409788449000018,5.409843921661377 - 2020-05-28 19:00:00\n",
      "\n",
      "2022-11-10 15:34:13,615 - rank - INFO - Next timestep\n",
      "2022-11-10 15:34:13,616 - simulator - INFO - ==================== timestep ====================\n",
      "2022-11-10 15:34:13,761 - rank - INFO - Rank 0 -- move_people -- 0.14451669099997844\n",
      "2022-11-10 15:34:13,761 - rank - INFO - Rank 0 -- move_people_waiting -- 3.914999979315326e-06\n",
      "2022-11-10 15:34:13,762 - activity_manager - INFO - CMS: People COMS for rank 0/1 - 3.0890000175531895e-06,3.0994415283203125e-06 - 2020-05-29 09:00:00\n",
      "2022-11-10 15:34:13,766 - simulator - INFO - Info for rank 0, Date = 2020-05-29 09:00:00, number of deaths =  0, number of infected = 858\n",
      "2022-11-10 15:34:13,845 - rank - INFO - Rank 0 -- interaction -- 0.08311792199998536\n",
      "2022-11-10 15:34:18,260 - tracker - INFO - Rank 0 -- tracking contacts -- 389 of 389 of type learning_center\n",
      "2022-11-10 15:34:18,272 - tracker - INFO - Rank 0 -- tracking contacts -- 500 of 3242 of type shelter\n",
      "2022-11-10 15:34:18,841 - tracker - INFO - Rank 0 -- tracking contacts -- 125 of 125 of type communal\n",
      "2022-11-10 15:34:18,843 - tracker - INFO - Rank 0 -- tracking contacts -- 7 of 7 of type distribution_center\n",
      "2022-11-10 15:34:18,843 - tracker - INFO - Rank 0 -- tracking contacts -- 7 of 7 of type e_voucher\n",
      "2022-11-10 15:34:18,844 - tracker - INFO - Rank 0 -- tracking contacts -- 67 of 67 of type female_communal\n",
      "2022-11-10 15:34:18,845 - tracker - INFO - Rank 0 -- tracking contacts -- 80 of 80 of type informal_work\n",
      "2022-11-10 15:34:18,847 - tracker - INFO - Rank 0 -- tracking contacts -- 36 of 36 of type n_f_distribution_center\n",
      "2022-11-10 15:34:18,849 - tracker - INFO - Rank 0 -- tracking contacts -- 500 of 539 of type play_group\n",
      "2022-11-10 15:34:18,856 - tracker - INFO - Rank 0 -- tracking contacts -- 82 of 82 of type pump_latrine\n",
      "2022-11-10 15:34:18,865 - tracker - INFO - Rank 0 -- tracking contacts -- 500 of 2064 of type religious\n",
      "2022-11-10 15:34:18,872 - tracker - INFO - Rank 0 -- tracking contacts -- 8 of 8 of type hospital\n",
      "2022-11-10 15:34:18,872 - tracker - INFO - Rank 0 -- tracking contacts -- 8 of 8 of type isolation_unit\n",
      "2022-11-10 15:34:18,873 - rank - INFO - Rank 0 -- tracker -- 5.027001426999959\n",
      "2022-11-10 15:34:18,887 - epidemiology - INFO - CMS: Infection COMS-v2 for rank 0/1(2)0.0004583639999964362,0.0004570484161376953 - 2020-05-29 09:00:00\n",
      "2022-11-10 15:34:18,917 - rank - INFO - Rank 0 -- interaction_waiting -- 9.798000007776864e-06\n",
      "2022-11-10 15:34:18,929 - simulator - INFO - CMS: Timestep for rank 0/1 - 5.312950579999949,5.313004016876221 - 2020-05-29 09:00:00\n",
      "\n",
      "2022-11-10 15:34:18,931 - rank - INFO - Next timestep\n",
      "2022-11-10 15:34:18,932 - simulator - INFO - ==================== timestep ====================\n",
      "2022-11-10 15:34:19,525 - rank - INFO - Rank 0 -- move_people -- 0.5921670179999978\n",
      "2022-11-10 15:34:19,525 - rank - INFO - Rank 0 -- move_people_waiting -- 6.460000008701172e-06\n",
      "2022-11-10 15:34:19,526 - activity_manager - INFO - CMS: People COMS for rank 0/1 - 2.7279999699203472e-06,2.86102294921875e-06 - 2020-05-29 12:00:00\n",
      "2022-11-10 15:34:19,530 - simulator - INFO - Info for rank 0, Date = 2020-05-29 12:00:00, number of deaths =  0, number of infected = 895\n",
      "2022-11-10 15:34:19,665 - rank - INFO - Rank 0 -- interaction -- 0.1384973649999779\n",
      "2022-11-10 15:34:20,068 - tracker - INFO - Rank 0 -- tracking contacts -- 389 of 389 of type learning_center\n",
      "2022-11-10 15:34:20,078 - tracker - INFO - Rank 0 -- tracking contacts -- 500 of 3242 of type shelter\n",
      "2022-11-10 15:34:20,359 - tracker - INFO - Rank 0 -- tracking contacts -- 125 of 125 of type communal\n",
      "2022-11-10 15:34:20,361 - tracker - INFO - Rank 0 -- tracking contacts -- 7 of 7 of type distribution_center\n",
      "2022-11-10 15:34:20,377 - tracker - INFO - Rank 0 -- tracking contacts -- 7 of 7 of type e_voucher\n",
      "2022-11-10 15:34:20,386 - tracker - INFO - Rank 0 -- tracking contacts -- 67 of 67 of type female_communal\n",
      "2022-11-10 15:34:20,387 - tracker - INFO - Rank 0 -- tracking contacts -- 80 of 80 of type informal_work\n",
      "2022-11-10 15:34:20,446 - tracker - INFO - Rank 0 -- tracking contacts -- 36 of 36 of type n_f_distribution_center\n",
      "2022-11-10 15:34:20,480 - tracker - INFO - Rank 0 -- tracking contacts -- 500 of 539 of type play_group\n",
      "2022-11-10 15:34:20,709 - tracker - INFO - Rank 0 -- tracking contacts -- 82 of 82 of type pump_latrine\n",
      "2022-11-10 15:34:22,179 - tracker - INFO - Rank 0 -- tracking contacts -- 500 of 2064 of type religious\n",
      "2022-11-10 15:34:22,381 - tracker - INFO - Rank 0 -- tracking contacts -- 8 of 8 of type hospital\n",
      "2022-11-10 15:34:22,382 - tracker - INFO - Rank 0 -- tracking contacts -- 8 of 8 of type isolation_unit\n",
      "2022-11-10 15:34:22,383 - rank - INFO - Rank 0 -- tracker -- 2.7173191460000226\n",
      "2022-11-10 15:34:22,395 - epidemiology - INFO - CMS: Infection COMS-v2 for rank 0/1(2)0.00019160200002943384,0.00019097328186035156 - 2020-05-29 12:00:00\n",
      "2022-11-10 15:34:22,421 - rank - INFO - Rank 0 -- interaction_waiting -- 6.0400000165827805e-06\n",
      "2022-11-10 15:34:22,433 - simulator - INFO - CMS: Timestep for rank 0/1 - 3.5000419919999786,3.5000782012939453 - 2020-05-29 12:00:00\n",
      "\n",
      "2022-11-10 15:34:22,434 - rank - INFO - Next timestep\n",
      "2022-11-10 15:34:22,435 - simulator - INFO - ==================== timestep ====================\n",
      "2022-11-10 15:34:23,026 - rank - INFO - Rank 0 -- move_people -- 0.5902434010000093\n",
      "2022-11-10 15:34:23,027 - rank - INFO - Rank 0 -- move_people_waiting -- 3.7620000057358993e-06\n",
      "2022-11-10 15:34:23,027 - activity_manager - INFO - CMS: People COMS for rank 0/1 - 2.8850000148850086e-06,2.86102294921875e-06 - 2020-05-29 14:00:00\n",
      "2022-11-10 15:34:23,031 - simulator - INFO - Info for rank 0, Date = 2020-05-29 14:00:00, number of deaths =  0, number of infected = 936\n",
      "2022-11-10 15:34:23,176 - rank - INFO - Rank 0 -- interaction -- 0.14793819599998415\n",
      "2022-11-10 15:34:24,646 - tracker - INFO - Rank 0 -- tracking contacts -- 389 of 389 of type learning_center\n",
      "2022-11-10 15:34:24,655 - tracker - INFO - Rank 0 -- tracking contacts -- 500 of 3242 of type shelter\n",
      "2022-11-10 15:34:24,949 - tracker - INFO - Rank 0 -- tracking contacts -- 125 of 125 of type communal\n",
      "2022-11-10 15:34:24,951 - tracker - INFO - Rank 0 -- tracking contacts -- 7 of 7 of type distribution_center\n",
      "2022-11-10 15:34:24,968 - tracker - INFO - Rank 0 -- tracking contacts -- 7 of 7 of type e_voucher\n",
      "2022-11-10 15:34:24,977 - tracker - INFO - Rank 0 -- tracking contacts -- 67 of 67 of type female_communal\n"
     ]
    },
    {
     "name": "stdout",
     "output_type": "stream",
     "text": [
      "2022-11-10 15:34:24,979 - tracker - INFO - Rank 0 -- tracking contacts -- 80 of 80 of type informal_work\n",
      "2022-11-10 15:34:25,039 - tracker - INFO - Rank 0 -- tracking contacts -- 36 of 36 of type n_f_distribution_center\n",
      "2022-11-10 15:34:25,074 - tracker - INFO - Rank 0 -- tracking contacts -- 500 of 539 of type play_group\n",
      "2022-11-10 15:34:25,301 - tracker - INFO - Rank 0 -- tracking contacts -- 82 of 82 of type pump_latrine\n",
      "2022-11-10 15:34:26,712 - tracker - INFO - Rank 0 -- tracking contacts -- 500 of 2064 of type religious\n",
      "2022-11-10 15:34:26,904 - tracker - INFO - Rank 0 -- tracking contacts -- 8 of 8 of type hospital\n",
      "2022-11-10 15:34:26,905 - tracker - INFO - Rank 0 -- tracking contacts -- 8 of 8 of type isolation_unit\n",
      "2022-11-10 15:34:26,905 - rank - INFO - Rank 0 -- tracker -- 3.729169746000025\n",
      "2022-11-10 15:34:26,916 - epidemiology - INFO - CMS: Infection COMS-v2 for rank 0/1(2)0.000406888999975763,0.0004057884216308594 - 2020-05-29 14:00:00\n",
      "2022-11-10 15:34:26,944 - rank - INFO - Rank 0 -- interaction_waiting -- 6.926000025941903e-06\n",
      "2022-11-10 15:34:26,956 - simulator - INFO - CMS: Timestep for rank 0/1 - 4.520108398000048,4.520151853561401 - 2020-05-29 14:00:00\n",
      "\n",
      "2022-11-10 15:34:26,958 - rank - INFO - Next timestep\n",
      "2022-11-10 15:34:26,959 - simulator - INFO - ==================== timestep ====================\n",
      "2022-11-10 15:34:27,551 - rank - INFO - Rank 0 -- move_people -- 0.5919449219999819\n",
      "2022-11-10 15:34:27,552 - rank - INFO - Rank 0 -- move_people_waiting -- 9.023900003057861e-05\n",
      "2022-11-10 15:34:27,552 - activity_manager - INFO - CMS: People COMS for rank 0/1 - 2.5409999580006115e-06,3.0994415283203125e-06 - 2020-05-29 16:00:00\n",
      "2022-11-10 15:34:27,556 - simulator - INFO - Info for rank 0, Date = 2020-05-29 16:00:00, number of deaths =  0, number of infected = 970\n",
      "2022-11-10 15:34:27,696 - rank - INFO - Rank 0 -- interaction -- 0.143633149999971\n",
      "2022-11-10 15:34:29,965 - tracker - INFO - Rank 0 -- tracking contacts -- 389 of 389 of type learning_center\n",
      "2022-11-10 15:34:29,975 - tracker - INFO - Rank 0 -- tracking contacts -- 500 of 3242 of type shelter\n",
      "2022-11-10 15:34:30,262 - tracker - INFO - Rank 0 -- tracking contacts -- 125 of 125 of type communal\n",
      "2022-11-10 15:34:30,264 - tracker - INFO - Rank 0 -- tracking contacts -- 7 of 7 of type distribution_center\n",
      "2022-11-10 15:34:30,283 - tracker - INFO - Rank 0 -- tracking contacts -- 7 of 7 of type e_voucher\n",
      "2022-11-10 15:34:30,290 - tracker - INFO - Rank 0 -- tracking contacts -- 67 of 67 of type female_communal\n",
      "2022-11-10 15:34:30,291 - tracker - INFO - Rank 0 -- tracking contacts -- 80 of 80 of type informal_work\n",
      "2022-11-10 15:34:30,352 - tracker - INFO - Rank 0 -- tracking contacts -- 36 of 36 of type n_f_distribution_center\n",
      "2022-11-10 15:34:30,382 - tracker - INFO - Rank 0 -- tracking contacts -- 500 of 539 of type play_group\n",
      "2022-11-10 15:34:30,626 - tracker - INFO - Rank 0 -- tracking contacts -- 82 of 82 of type pump_latrine\n",
      "2022-11-10 15:34:32,026 - tracker - INFO - Rank 0 -- tracking contacts -- 500 of 2064 of type religious\n",
      "2022-11-10 15:34:32,222 - tracker - INFO - Rank 0 -- tracking contacts -- 8 of 8 of type hospital\n",
      "2022-11-10 15:34:32,223 - tracker - INFO - Rank 0 -- tracking contacts -- 8 of 8 of type isolation_unit\n",
      "2022-11-10 15:34:32,223 - rank - INFO - Rank 0 -- tracker -- 4.526134764000005\n",
      "2022-11-10 15:34:32,234 - epidemiology - INFO - CMS: Infection COMS-v2 for rank 0/1(2)0.00022107600000254024,0.00022101402282714844 - 2020-05-29 16:00:00\n",
      "2022-11-10 15:34:32,262 - rank - INFO - Rank 0 -- interaction_waiting -- 6.105000011302764e-06\n",
      "2022-11-10 15:34:32,273 - simulator - INFO - CMS: Timestep for rank 0/1 - 5.313689400999976,5.313741683959961 - 2020-05-29 16:00:00\n",
      "\n",
      "2022-11-10 15:34:32,275 - rank - INFO - Next timestep\n",
      "2022-11-10 15:34:32,276 - simulator - INFO - ==================== timestep ====================\n",
      "2022-11-10 15:34:32,873 - rank - INFO - Rank 0 -- move_people -- 0.5965948159999925\n",
      "2022-11-10 15:34:32,873 - rank - INFO - Rank 0 -- move_people_waiting -- 6.585099998801525e-05\n",
      "2022-11-10 15:34:32,874 - activity_manager - INFO - CMS: People COMS for rank 0/1 - 2.536000010877615e-06,3.0994415283203125e-06 - 2020-05-29 18:00:00\n",
      "2022-11-10 15:34:32,878 - simulator - INFO - Info for rank 0, Date = 2020-05-29 18:00:00, number of deaths =  0, number of infected = 1006\n",
      "2022-11-10 15:34:33,026 - rank - INFO - Rank 0 -- interaction -- 0.15145991000002823\n",
      "2022-11-10 15:34:35,868 - tracker - INFO - Rank 0 -- tracking contacts -- 389 of 389 of type learning_center\n",
      "2022-11-10 15:34:35,877 - tracker - INFO - Rank 0 -- tracking contacts -- 500 of 3242 of type shelter\n",
      "2022-11-10 15:34:36,179 - tracker - INFO - Rank 0 -- tracking contacts -- 125 of 125 of type communal\n",
      "2022-11-10 15:34:36,181 - tracker - INFO - Rank 0 -- tracking contacts -- 7 of 7 of type distribution_center\n",
      "2022-11-10 15:34:36,199 - tracker - INFO - Rank 0 -- tracking contacts -- 7 of 7 of type e_voucher\n",
      "2022-11-10 15:34:36,206 - tracker - INFO - Rank 0 -- tracking contacts -- 67 of 67 of type female_communal\n",
      "2022-11-10 15:34:36,208 - tracker - INFO - Rank 0 -- tracking contacts -- 80 of 80 of type informal_work\n",
      "2022-11-10 15:34:36,272 - tracker - INFO - Rank 0 -- tracking contacts -- 36 of 36 of type n_f_distribution_center\n",
      "2022-11-10 15:34:36,314 - tracker - INFO - Rank 0 -- tracking contacts -- 500 of 539 of type play_group\n",
      "2022-11-10 15:34:36,579 - tracker - INFO - Rank 0 -- tracking contacts -- 82 of 82 of type pump_latrine\n",
      "2022-11-10 15:34:38,107 - tracker - INFO - Rank 0 -- tracking contacts -- 500 of 2064 of type religious\n",
      "2022-11-10 15:34:38,315 - tracker - INFO - Rank 0 -- tracking contacts -- 8 of 8 of type hospital\n",
      "2022-11-10 15:34:38,315 - tracker - INFO - Rank 0 -- tracking contacts -- 8 of 8 of type isolation_unit\n",
      "2022-11-10 15:34:38,316 - rank - INFO - Rank 0 -- tracker -- 5.289388860000031\n",
      "2022-11-10 15:34:38,335 - epidemiology - INFO - CMS: Infection COMS-v2 for rank 0/1(2)0.0006541840000409138,0.0006542205810546875 - 2020-05-29 18:00:00\n",
      "2022-11-10 15:34:38,374 - rank - INFO - Rank 0 -- interaction_waiting -- 7.186999994246435e-06\n",
      "2022-11-10 15:34:38,389 - simulator - INFO - CMS: Timestep for rank 0/1 - 6.113174290000018,6.113235950469971 - 2020-05-29 18:00:00\n",
      "\n",
      "2022-11-10 15:34:38,392 - rank - INFO - Next timestep\n",
      "2022-11-10 15:34:38,392 - simulator - INFO - ==================== timestep ====================\n",
      "2022-11-10 15:34:38,552 - rank - INFO - Rank 0 -- move_people -- 0.1592159780000202\n",
      "2022-11-10 15:34:38,553 - rank - INFO - Rank 0 -- move_people_waiting -- 7.76460000224688e-05\n",
      "2022-11-10 15:34:38,553 - activity_manager - INFO - CMS: People COMS for rank 0/1 - 2.880000010918593e-06,2.1457672119140625e-06 - 2020-05-29 20:00:00\n",
      "2022-11-10 15:34:38,558 - simulator - INFO - Info for rank 0, Date = 2020-05-29 20:00:00, number of deaths =  0, number of infected = 1051\n",
      "2022-11-10 15:34:38,670 - rank - INFO - Rank 0 -- interaction -- 0.11584542599996439\n",
      "2022-11-10 15:34:42,367 - tracker - INFO - Rank 0 -- tracking contacts -- 389 of 389 of type learning_center\n",
      "2022-11-10 15:34:42,376 - tracker - INFO - Rank 0 -- tracking contacts -- 500 of 3242 of type shelter\n",
      "2022-11-10 15:34:43,036 - tracker - INFO - Rank 0 -- tracking contacts -- 125 of 125 of type communal\n",
      "2022-11-10 15:34:43,038 - tracker - INFO - Rank 0 -- tracking contacts -- 7 of 7 of type distribution_center\n",
      "2022-11-10 15:34:43,039 - tracker - INFO - Rank 0 -- tracking contacts -- 7 of 7 of type e_voucher\n",
      "2022-11-10 15:34:43,039 - tracker - INFO - Rank 0 -- tracking contacts -- 67 of 67 of type female_communal\n",
      "2022-11-10 15:34:43,040 - tracker - INFO - Rank 0 -- tracking contacts -- 80 of 80 of type informal_work\n",
      "2022-11-10 15:34:43,042 - tracker - INFO - Rank 0 -- tracking contacts -- 36 of 36 of type n_f_distribution_center\n",
      "2022-11-10 15:34:43,044 - tracker - INFO - Rank 0 -- tracking contacts -- 500 of 539 of type play_group\n",
      "2022-11-10 15:34:43,051 - tracker - INFO - Rank 0 -- tracking contacts -- 82 of 82 of type pump_latrine\n",
      "2022-11-10 15:34:43,061 - tracker - INFO - Rank 0 -- tracking contacts -- 500 of 2064 of type religious\n",
      "2022-11-10 15:34:43,067 - tracker - INFO - Rank 0 -- tracking contacts -- 8 of 8 of type hospital\n"
     ]
    },
    {
     "name": "stdout",
     "output_type": "stream",
     "text": [
      "2022-11-10 15:34:43,068 - tracker - INFO - Rank 0 -- tracking contacts -- 8 of 8 of type isolation_unit\n",
      "2022-11-10 15:34:43,069 - rank - INFO - Rank 0 -- tracker -- 4.398385821999966\n",
      "2022-11-10 15:34:43,119 - epidemiology - INFO - CMS: Infection COMS-v2 for rank 0/1(2)0.0005226790000278925,0.0005221366882324219 - 2020-05-29 20:00:00\n",
      "2022-11-10 15:34:43,153 - rank - INFO - Rank 0 -- interaction_waiting -- 1.103300002114338e-05\n",
      "2022-11-10 15:34:43,164 - simulator - INFO - CMS: Timestep for rank 0/1 - 4.771348866000039,4.771396160125732 - 2020-05-29 20:00:00\n",
      "\n",
      "2022-11-10 15:34:43,166 - rank - INFO - Next timestep\n",
      "2022-11-10 15:34:43,167 - simulator - INFO - ==================== timestep ====================\n",
      "2022-11-10 15:34:43,315 - rank - INFO - Rank 0 -- move_people -- 0.1474585990000037\n",
      "2022-11-10 15:34:43,315 - rank - INFO - Rank 0 -- move_people_waiting -- 7.507999998779269e-05\n",
      "2022-11-10 15:34:43,316 - activity_manager - INFO - CMS: People COMS for rank 0/1 - 2.510999991045537e-06,1.6689300537109375e-06 - 2020-05-30 09:00:00\n",
      "2022-11-10 15:34:43,320 - simulator - INFO - Info for rank 0, Date = 2020-05-30 09:00:00, number of deaths =  0, number of infected = 1205\n",
      "2022-11-10 15:34:43,407 - rank - INFO - Rank 0 -- interaction -- 0.0905044040000007\n",
      "2022-11-10 15:34:46,726 - tracker - INFO - Rank 0 -- tracking contacts -- 389 of 389 of type learning_center\n",
      "2022-11-10 15:34:46,736 - tracker - INFO - Rank 0 -- tracking contacts -- 500 of 3242 of type shelter\n",
      "2022-11-10 15:34:47,307 - tracker - INFO - Rank 0 -- tracking contacts -- 125 of 125 of type communal\n",
      "2022-11-10 15:34:47,309 - tracker - INFO - Rank 0 -- tracking contacts -- 7 of 7 of type distribution_center\n",
      "2022-11-10 15:34:47,310 - tracker - INFO - Rank 0 -- tracking contacts -- 7 of 7 of type e_voucher\n",
      "2022-11-10 15:34:47,310 - tracker - INFO - Rank 0 -- tracking contacts -- 67 of 67 of type female_communal\n",
      "2022-11-10 15:34:47,312 - tracker - INFO - Rank 0 -- tracking contacts -- 80 of 80 of type informal_work\n",
      "2022-11-10 15:34:47,314 - tracker - INFO - Rank 0 -- tracking contacts -- 36 of 36 of type n_f_distribution_center\n",
      "2022-11-10 15:34:47,316 - tracker - INFO - Rank 0 -- tracking contacts -- 500 of 539 of type play_group\n",
      "2022-11-10 15:34:47,323 - tracker - INFO - Rank 0 -- tracking contacts -- 82 of 82 of type pump_latrine\n",
      "2022-11-10 15:34:47,333 - tracker - INFO - Rank 0 -- tracking contacts -- 500 of 2064 of type religious\n",
      "2022-11-10 15:34:47,339 - tracker - INFO - Rank 0 -- tracking contacts -- 8 of 8 of type hospital\n",
      "2022-11-10 15:34:47,340 - tracker - INFO - Rank 0 -- tracking contacts -- 8 of 8 of type isolation_unit\n",
      "2022-11-10 15:34:47,341 - rank - INFO - Rank 0 -- tracker -- 3.9331987290000257\n",
      "2022-11-10 15:34:47,355 - epidemiology - INFO - CMS: Infection COMS-v2 for rank 0/1(2)0.00040890299999318813,0.000408172607421875 - 2020-05-30 09:00:00\n",
      "2022-11-10 15:34:47,389 - rank - INFO - Rank 0 -- interaction_waiting -- 0.00010783400000491383\n",
      "2022-11-10 15:34:47,402 - simulator - INFO - CMS: Timestep for rank 0/1 - 4.234586905000015,4.23462986946106 - 2020-05-30 09:00:00\n",
      "\n",
      "2022-11-10 15:34:47,404 - rank - INFO - Next timestep\n",
      "2022-11-10 15:34:47,404 - simulator - INFO - ==================== timestep ====================\n",
      "2022-11-10 15:34:47,997 - rank - INFO - Rank 0 -- move_people -- 0.5925494019999746\n",
      "2022-11-10 15:34:47,998 - rank - INFO - Rank 0 -- move_people_waiting -- 7.244000016726204e-06\n",
      "2022-11-10 15:34:47,998 - activity_manager - INFO - CMS: People COMS for rank 0/1 - 2.304000020103558e-06,1.9073486328125e-06 - 2020-05-30 12:00:00\n",
      "2022-11-10 15:34:48,002 - simulator - INFO - Info for rank 0, Date = 2020-05-30 12:00:00, number of deaths =  0, number of infected = 1244\n",
      "2022-11-10 15:34:48,150 - rank - INFO - Rank 0 -- interaction -- 0.15158856699997614\n",
      "2022-11-10 15:34:48,551 - tracker - INFO - Rank 0 -- tracking contacts -- 389 of 389 of type learning_center\n",
      "2022-11-10 15:34:48,561 - tracker - INFO - Rank 0 -- tracking contacts -- 500 of 3242 of type shelter\n",
      "2022-11-10 15:34:48,856 - tracker - INFO - Rank 0 -- tracking contacts -- 125 of 125 of type communal\n",
      "2022-11-10 15:34:48,857 - tracker - INFO - Rank 0 -- tracking contacts -- 7 of 7 of type distribution_center\n",
      "2022-11-10 15:34:48,879 - tracker - INFO - Rank 0 -- tracking contacts -- 7 of 7 of type e_voucher\n",
      "2022-11-10 15:34:48,887 - tracker - INFO - Rank 0 -- tracking contacts -- 67 of 67 of type female_communal\n",
      "2022-11-10 15:34:48,889 - tracker - INFO - Rank 0 -- tracking contacts -- 80 of 80 of type informal_work\n",
      "2022-11-10 15:34:48,944 - tracker - INFO - Rank 0 -- tracking contacts -- 36 of 36 of type n_f_distribution_center\n",
      "2022-11-10 15:34:48,982 - tracker - INFO - Rank 0 -- tracking contacts -- 500 of 539 of type play_group\n",
      "2022-11-10 15:34:49,217 - tracker - INFO - Rank 0 -- tracking contacts -- 82 of 82 of type pump_latrine\n",
      "2022-11-10 15:34:50,595 - tracker - INFO - Rank 0 -- tracking contacts -- 500 of 2064 of type religious\n",
      "2022-11-10 15:34:50,788 - tracker - INFO - Rank 0 -- tracking contacts -- 8 of 8 of type hospital\n",
      "2022-11-10 15:34:50,788 - tracker - INFO - Rank 0 -- tracking contacts -- 8 of 8 of type isolation_unit\n",
      "2022-11-10 15:34:50,789 - rank - INFO - Rank 0 -- tracker -- 2.637808605000032\n",
      "2022-11-10 15:34:50,804 - epidemiology - INFO - CMS: Infection COMS-v2 for rank 0/1(2)0.00041446099999120634,0.0004138946533203125 - 2020-05-30 12:00:00\n",
      "2022-11-10 15:34:50,833 - rank - INFO - Rank 0 -- interaction_waiting -- 6.400999950528785e-06\n",
      "2022-11-10 15:34:50,844 - simulator - INFO - CMS: Timestep for rank 0/1 - 3.4394280399999957,3.4394638538360596 - 2020-05-30 12:00:00\n",
      "\n",
      "2022-11-10 15:34:50,846 - rank - INFO - Next timestep\n",
      "2022-11-10 15:34:50,847 - simulator - INFO - ==================== timestep ====================\n",
      "2022-11-10 15:34:51,442 - rank - INFO - Rank 0 -- move_people -- 0.5946436849999941\n",
      "2022-11-10 15:34:51,443 - rank - INFO - Rank 0 -- move_people_waiting -- 8.754499998531173e-05\n",
      "2022-11-10 15:34:51,443 - activity_manager - INFO - CMS: People COMS for rank 0/1 - 2.7820000241263187e-06,2.86102294921875e-06 - 2020-05-30 14:00:00\n",
      "2022-11-10 15:34:51,447 - simulator - INFO - Info for rank 0, Date = 2020-05-30 14:00:00, number of deaths =  0, number of infected = 1299\n",
      "2022-11-10 15:34:51,601 - rank - INFO - Rank 0 -- interaction -- 0.1568670670000074\n",
      "2022-11-10 15:34:53,060 - tracker - INFO - Rank 0 -- tracking contacts -- 389 of 389 of type learning_center\n",
      "2022-11-10 15:34:53,069 - tracker - INFO - Rank 0 -- tracking contacts -- 500 of 3242 of type shelter\n",
      "2022-11-10 15:34:53,364 - tracker - INFO - Rank 0 -- tracking contacts -- 125 of 125 of type communal\n",
      "2022-11-10 15:34:53,365 - tracker - INFO - Rank 0 -- tracking contacts -- 7 of 7 of type distribution_center\n",
      "2022-11-10 15:34:53,384 - tracker - INFO - Rank 0 -- tracking contacts -- 7 of 7 of type e_voucher\n",
      "2022-11-10 15:34:53,391 - tracker - INFO - Rank 0 -- tracking contacts -- 67 of 67 of type female_communal\n",
      "2022-11-10 15:34:53,392 - tracker - INFO - Rank 0 -- tracking contacts -- 80 of 80 of type informal_work\n",
      "2022-11-10 15:34:53,449 - tracker - INFO - Rank 0 -- tracking contacts -- 36 of 36 of type n_f_distribution_center\n",
      "2022-11-10 15:34:53,482 - tracker - INFO - Rank 0 -- tracking contacts -- 500 of 539 of type play_group\n",
      "2022-11-10 15:34:53,723 - tracker - INFO - Rank 0 -- tracking contacts -- 82 of 82 of type pump_latrine\n",
      "2022-11-10 15:34:55,148 - tracker - INFO - Rank 0 -- tracking contacts -- 500 of 2064 of type religious\n",
      "2022-11-10 15:34:55,342 - tracker - INFO - Rank 0 -- tracking contacts -- 8 of 8 of type hospital\n",
      "2022-11-10 15:34:55,342 - tracker - INFO - Rank 0 -- tracking contacts -- 8 of 8 of type isolation_unit\n",
      "2022-11-10 15:34:55,343 - rank - INFO - Rank 0 -- tracker -- 3.741245451999987\n",
      "2022-11-10 15:34:55,358 - epidemiology - INFO - CMS: Infection COMS-v2 for rank 0/1(2)0.0004799570000386666,0.0004799365997314453 - 2020-05-30 14:00:00\n",
      "2022-11-10 15:34:55,386 - rank - INFO - Rank 0 -- interaction_waiting -- 5.554999972900987e-06\n",
      "2022-11-10 15:34:55,398 - simulator - INFO - CMS: Timestep for rank 0/1 - 4.550984217999996,4.55102276802063 - 2020-05-30 14:00:00\n",
      "\n",
      "2022-11-10 15:34:55,400 - rank - INFO - Next timestep\n",
      "2022-11-10 15:34:55,401 - simulator - INFO - ==================== timestep ====================\n"
     ]
    },
    {
     "name": "stdout",
     "output_type": "stream",
     "text": [
      "2022-11-10 15:34:55,990 - rank - INFO - Rank 0 -- move_people -- 0.5884717870000031\n",
      "2022-11-10 15:34:55,991 - rank - INFO - Rank 0 -- move_people_waiting -- 5.320599996139208e-05\n",
      "2022-11-10 15:34:55,991 - activity_manager - INFO - CMS: People COMS for rank 0/1 - 2.620999964619841e-06,2.6226043701171875e-06 - 2020-05-30 16:00:00\n",
      "2022-11-10 15:34:55,995 - simulator - INFO - Info for rank 0, Date = 2020-05-30 16:00:00, number of deaths =  0, number of infected = 1351\n",
      "2022-11-10 15:34:56,151 - rank - INFO - Rank 0 -- interaction -- 0.15958032499997898\n",
      "2022-11-10 15:34:58,402 - tracker - INFO - Rank 0 -- tracking contacts -- 389 of 389 of type learning_center\n",
      "2022-11-10 15:34:58,412 - tracker - INFO - Rank 0 -- tracking contacts -- 500 of 3242 of type shelter\n",
      "2022-11-10 15:34:58,714 - tracker - INFO - Rank 0 -- tracking contacts -- 125 of 125 of type communal\n",
      "2022-11-10 15:34:58,715 - tracker - INFO - Rank 0 -- tracking contacts -- 7 of 7 of type distribution_center\n",
      "2022-11-10 15:34:58,735 - tracker - INFO - Rank 0 -- tracking contacts -- 7 of 7 of type e_voucher\n",
      "2022-11-10 15:34:58,744 - tracker - INFO - Rank 0 -- tracking contacts -- 67 of 67 of type female_communal\n",
      "2022-11-10 15:34:58,746 - tracker - INFO - Rank 0 -- tracking contacts -- 80 of 80 of type informal_work\n",
      "2022-11-10 15:34:58,806 - tracker - INFO - Rank 0 -- tracking contacts -- 36 of 36 of type n_f_distribution_center\n",
      "2022-11-10 15:34:58,839 - tracker - INFO - Rank 0 -- tracking contacts -- 500 of 539 of type play_group\n",
      "2022-11-10 15:34:59,075 - tracker - INFO - Rank 0 -- tracking contacts -- 82 of 82 of type pump_latrine\n",
      "2022-11-10 15:35:00,466 - tracker - INFO - Rank 0 -- tracking contacts -- 500 of 2064 of type religious\n",
      "2022-11-10 15:35:00,662 - tracker - INFO - Rank 0 -- tracking contacts -- 8 of 8 of type hospital\n",
      "2022-11-10 15:35:00,662 - tracker - INFO - Rank 0 -- tracking contacts -- 8 of 8 of type isolation_unit\n",
      "2022-11-10 15:35:00,663 - rank - INFO - Rank 0 -- tracker -- 4.511306321000006\n",
      "2022-11-10 15:35:00,676 - epidemiology - INFO - CMS: Infection COMS-v2 for rank 0/1(2)0.0001570560000345722,0.00015592575073242188 - 2020-05-30 16:00:00\n",
      "2022-11-10 15:35:00,706 - rank - INFO - Rank 0 -- interaction_waiting -- 6.5059999769800925e-06\n",
      "2022-11-10 15:35:00,717 - simulator - INFO - CMS: Timestep for rank 0/1 - 5.315478904999964,5.315532207489014 - 2020-05-30 16:00:00\n",
      "\n",
      "2022-11-10 15:35:00,719 - rank - INFO - Next timestep\n",
      "2022-11-10 15:35:00,720 - simulator - INFO - ==================== timestep ====================\n",
      "2022-11-10 15:35:01,315 - rank - INFO - Rank 0 -- move_people -- 0.5949707550000198\n",
      "2022-11-10 15:35:01,316 - rank - INFO - Rank 0 -- move_people_waiting -- 7.365399994796462e-05\n",
      "2022-11-10 15:35:01,316 - activity_manager - INFO - CMS: People COMS for rank 0/1 - 2.542999993693229e-06,1.9073486328125e-06 - 2020-05-30 18:00:00\n",
      "2022-11-10 15:35:01,320 - simulator - INFO - Info for rank 0, Date = 2020-05-30 18:00:00, number of deaths =  0, number of infected = 1393\n",
      "2022-11-10 15:35:01,484 - rank - INFO - Rank 0 -- interaction -- 0.16744012500004146\n",
      "2022-11-10 15:35:04,305 - tracker - INFO - Rank 0 -- tracking contacts -- 389 of 389 of type learning_center\n",
      "2022-11-10 15:35:04,314 - tracker - INFO - Rank 0 -- tracking contacts -- 500 of 3242 of type shelter\n",
      "2022-11-10 15:35:04,615 - tracker - INFO - Rank 0 -- tracking contacts -- 125 of 125 of type communal\n",
      "2022-11-10 15:35:04,616 - tracker - INFO - Rank 0 -- tracking contacts -- 7 of 7 of type distribution_center\n",
      "2022-11-10 15:35:04,635 - tracker - INFO - Rank 0 -- tracking contacts -- 7 of 7 of type e_voucher\n",
      "2022-11-10 15:35:04,643 - tracker - INFO - Rank 0 -- tracking contacts -- 67 of 67 of type female_communal\n",
      "2022-11-10 15:35:04,645 - tracker - INFO - Rank 0 -- tracking contacts -- 80 of 80 of type informal_work\n",
      "2022-11-10 15:35:04,707 - tracker - INFO - Rank 0 -- tracking contacts -- 36 of 36 of type n_f_distribution_center\n",
      "2022-11-10 15:35:04,739 - tracker - INFO - Rank 0 -- tracking contacts -- 500 of 539 of type play_group\n",
      "2022-11-10 15:35:04,972 - tracker - INFO - Rank 0 -- tracking contacts -- 82 of 82 of type pump_latrine\n",
      "2022-11-10 15:35:06,365 - tracker - INFO - Rank 0 -- tracking contacts -- 500 of 2064 of type religious\n",
      "2022-11-10 15:35:06,562 - tracker - INFO - Rank 0 -- tracking contacts -- 8 of 8 of type hospital\n",
      "2022-11-10 15:35:06,563 - tracker - INFO - Rank 0 -- tracking contacts -- 8 of 8 of type isolation_unit\n",
      "2022-11-10 15:35:06,563 - rank - INFO - Rank 0 -- tracker -- 5.078379351000024\n",
      "2022-11-10 15:35:06,580 - epidemiology - INFO - CMS: Infection COMS-v2 for rank 0/1(2)0.0003981600000315666,0.000396728515625 - 2020-05-30 18:00:00\n",
      "2022-11-10 15:35:06,611 - rank - INFO - Rank 0 -- interaction_waiting -- 7.05599995853845e-06\n",
      "2022-11-10 15:35:06,623 - simulator - INFO - CMS: Timestep for rank 0/1 - 5.902611562999994,5.9026689529418945 - 2020-05-30 18:00:00\n",
      "\n",
      "2022-11-10 15:35:06,625 - rank - INFO - Next timestep\n",
      "2022-11-10 15:35:06,625 - simulator - INFO - ==================== timestep ====================\n",
      "2022-11-10 15:35:06,770 - rank - INFO - Rank 0 -- move_people -- 0.1439853030000222\n",
      "2022-11-10 15:35:06,770 - rank - INFO - Rank 0 -- move_people_waiting -- 6.657000028553739e-06\n",
      "2022-11-10 15:35:06,771 - activity_manager - INFO - CMS: People COMS for rank 0/1 - 2.548999987084244e-06,3.0994415283203125e-06 - 2020-05-30 20:00:00\n",
      "2022-11-10 15:35:06,775 - simulator - INFO - Info for rank 0, Date = 2020-05-30 20:00:00, number of deaths =  0, number of infected = 1450\n",
      "2022-11-10 15:35:06,894 - rank - INFO - Rank 0 -- interaction -- 0.12304470600003015\n",
      "2022-11-10 15:35:10,209 - tracker - INFO - Rank 0 -- tracking contacts -- 389 of 389 of type learning_center\n",
      "2022-11-10 15:35:10,218 - tracker - INFO - Rank 0 -- tracking contacts -- 500 of 3242 of type shelter\n",
      "2022-11-10 15:35:10,882 - tracker - INFO - Rank 0 -- tracking contacts -- 125 of 125 of type communal\n",
      "2022-11-10 15:35:10,884 - tracker - INFO - Rank 0 -- tracking contacts -- 7 of 7 of type distribution_center\n",
      "2022-11-10 15:35:10,884 - tracker - INFO - Rank 0 -- tracking contacts -- 7 of 7 of type e_voucher\n",
      "2022-11-10 15:35:10,885 - tracker - INFO - Rank 0 -- tracking contacts -- 67 of 67 of type female_communal\n",
      "2022-11-10 15:35:10,886 - tracker - INFO - Rank 0 -- tracking contacts -- 80 of 80 of type informal_work\n",
      "2022-11-10 15:35:10,888 - tracker - INFO - Rank 0 -- tracking contacts -- 36 of 36 of type n_f_distribution_center\n",
      "2022-11-10 15:35:10,890 - tracker - INFO - Rank 0 -- tracking contacts -- 500 of 539 of type play_group\n",
      "2022-11-10 15:35:10,897 - tracker - INFO - Rank 0 -- tracking contacts -- 82 of 82 of type pump_latrine\n",
      "2022-11-10 15:35:10,906 - tracker - INFO - Rank 0 -- tracking contacts -- 500 of 2064 of type religious\n",
      "2022-11-10 15:35:10,913 - tracker - INFO - Rank 0 -- tracking contacts -- 8 of 8 of type hospital\n",
      "2022-11-10 15:35:10,913 - tracker - INFO - Rank 0 -- tracking contacts -- 8 of 8 of type isolation_unit\n",
      "2022-11-10 15:35:10,914 - rank - INFO - Rank 0 -- tracker -- 4.019329626000001\n",
      "2022-11-10 15:35:10,972 - epidemiology - INFO - CMS: Infection COMS-v2 for rank 0/1(2)0.0004202239999813173,0.0004191398620605469 - 2020-05-30 20:00:00\n",
      "2022-11-10 15:35:11,004 - rank - INFO - Rank 0 -- interaction_waiting -- 9.264000027542352e-06\n",
      "2022-11-10 15:35:11,016 - simulator - INFO - CMS: Timestep for rank 0/1 - 4.390347201999987,4.390390872955322 - 2020-05-30 20:00:00\n",
      "\n",
      "CPU times: user 3min 24s, sys: 4.29 s, total: 3min 28s\n",
      "Wall time: 3min 27s\n"
     ]
    }
   ],
   "source": [
    "%%time\n",
    "simulator.run()"
   ]
  },
  {
   "cell_type": "markdown",
   "metadata": {},
   "source": [
    "# Getting the results"
   ]
  },
  {
   "cell_type": "markdown",
   "metadata": {},
   "source": [
    "All results are stored in a json file specified in the `record_path` when defining the recorder. This can be read in by passing the folder locations to the `RecordReader` class and results derived.\n",
    "\n",
    "Here we show some examples of the kind of analysis you can extract from the records."
   ]
  },
  {
   "cell_type": "code",
   "execution_count": 76,
   "metadata": {},
   "outputs": [],
   "source": [
    "import pandas as pd"
   ]
  },
  {
   "cell_type": "code",
   "execution_count": 77,
   "metadata": {},
   "outputs": [],
   "source": [
    "read = RecordReader(Results_Path)"
   ]
  },
  {
   "cell_type": "markdown",
   "metadata": {},
   "source": [
    "The regional summary gives you information at the regional (camp) level."
   ]
  },
  {
   "cell_type": "markdown",
   "metadata": {},
   "source": [
    "### Regional information"
   ]
  },
  {
   "cell_type": "code",
   "execution_count": 78,
   "metadata": {},
   "outputs": [
    {
     "data": {
      "text/html": [
       "<div>\n",
       "<style scoped>\n",
       "    .dataframe tbody tr th:only-of-type {\n",
       "        vertical-align: middle;\n",
       "    }\n",
       "\n",
       "    .dataframe tbody tr th {\n",
       "        vertical-align: top;\n",
       "    }\n",
       "\n",
       "    .dataframe thead th {\n",
       "        text-align: right;\n",
       "    }\n",
       "</style>\n",
       "<table border=\"1\" class=\"dataframe\">\n",
       "  <thead>\n",
       "    <tr style=\"text-align: right;\">\n",
       "      <th></th>\n",
       "      <th>region</th>\n",
       "      <th>current_infected</th>\n",
       "      <th>daily_infected</th>\n",
       "      <th>current_hospitalised</th>\n",
       "      <th>daily_hospitalised</th>\n",
       "      <th>current_intensive_care</th>\n",
       "      <th>daily_intensive_care</th>\n",
       "      <th>daily_hospital_deaths</th>\n",
       "      <th>daily_deaths</th>\n",
       "    </tr>\n",
       "    <tr>\n",
       "      <th>time_stamp</th>\n",
       "      <th></th>\n",
       "      <th></th>\n",
       "      <th></th>\n",
       "      <th></th>\n",
       "      <th></th>\n",
       "      <th></th>\n",
       "      <th></th>\n",
       "      <th></th>\n",
       "      <th></th>\n",
       "    </tr>\n",
       "  </thead>\n",
       "  <tbody>\n",
       "    <tr>\n",
       "      <th>2020-05-24</th>\n",
       "      <td>CXB-219</td>\n",
       "      <td>215.166667</td>\n",
       "      <td>237</td>\n",
       "      <td>0.0</td>\n",
       "      <td>0</td>\n",
       "      <td>0.0</td>\n",
       "      <td>0</td>\n",
       "      <td>0</td>\n",
       "      <td>0</td>\n",
       "    </tr>\n",
       "    <tr>\n",
       "      <th>2020-05-25</th>\n",
       "      <td>CXB-219</td>\n",
       "      <td>272.000000</td>\n",
       "      <td>92</td>\n",
       "      <td>0.0</td>\n",
       "      <td>0</td>\n",
       "      <td>0.0</td>\n",
       "      <td>0</td>\n",
       "      <td>0</td>\n",
       "      <td>0</td>\n",
       "    </tr>\n",
       "    <tr>\n",
       "      <th>2020-05-26</th>\n",
       "      <td>CXB-219</td>\n",
       "      <td>376.333333</td>\n",
       "      <td>114</td>\n",
       "      <td>0.0</td>\n",
       "      <td>0</td>\n",
       "      <td>0.0</td>\n",
       "      <td>0</td>\n",
       "      <td>0</td>\n",
       "      <td>0</td>\n",
       "    </tr>\n",
       "  </tbody>\n",
       "</table>\n",
       "</div>"
      ],
      "text/plain": [
       "             region  current_infected  daily_infected  current_hospitalised  \\\n",
       "time_stamp                                                                    \n",
       "2020-05-24  CXB-219        215.166667             237                   0.0   \n",
       "2020-05-25  CXB-219        272.000000              92                   0.0   \n",
       "2020-05-26  CXB-219        376.333333             114                   0.0   \n",
       "\n",
       "            daily_hospitalised  current_intensive_care  daily_intensive_care  \\\n",
       "time_stamp                                                                     \n",
       "2020-05-24                   0                     0.0                     0   \n",
       "2020-05-25                   0                     0.0                     0   \n",
       "2020-05-26                   0                     0.0                     0   \n",
       "\n",
       "            daily_hospital_deaths  daily_deaths  \n",
       "time_stamp                                       \n",
       "2020-05-24                      0             0  \n",
       "2020-05-25                      0             0  \n",
       "2020-05-26                      0             0  "
      ]
     },
     "execution_count": 78,
     "metadata": {},
     "output_type": "execute_result"
    }
   ],
   "source": [
    "read.regional_summary.head(3) # this is the equivalent of the summary.csv"
   ]
  },
  {
   "cell_type": "markdown",
   "metadata": {},
   "source": [
    "### Daily infections"
   ]
  },
  {
   "cell_type": "code",
   "execution_count": 79,
   "metadata": {},
   "outputs": [],
   "source": [
    "summary = read.regional_summary.reset_index()"
   ]
  },
  {
   "cell_type": "code",
   "execution_count": 80,
   "metadata": {},
   "outputs": [
    {
     "data": {
      "image/png": "[encoded data removed]",
      "text/plain": [
       "<Figure size 432x288 with 1 Axes>"
      ]
     },
     "metadata": {
      "needs_background": "light"
     },
     "output_type": "display_data"
    }
   ],
   "source": [
    "summary.groupby(['time_stamp']).sum().plot(y=['daily_infected'])\n",
    "plt.ylabel('Daily infections')\n",
    "plt.show()"
   ]
  },
  {
   "cell_type": "markdown",
   "metadata": {},
   "source": [
    "### Hospital and intensive care"
   ]
  },
  {
   "cell_type": "code",
   "execution_count": 81,
   "metadata": {},
   "outputs": [
    {
     "data": {
      "image/png": "[encoded data removed]",
      "text/plain": [
       "<Figure size 432x288 with 1 Axes>"
      ]
     },
     "metadata": {
      "needs_background": "light"
     },
     "output_type": "display_data"
    }
   ],
   "source": [
    "summary.groupby(['time_stamp']).sum().plot(y=['current_hospitalised', 'current_intensive_care'])\n",
    "plt.show()"
   ]
  },
  {
   "cell_type": "markdown",
   "metadata": {},
   "source": [
    "### Cumulative infections by age"
   ]
  },
  {
   "cell_type": "code",
   "execution_count": 82,
   "metadata": {},
   "outputs": [
    {
     "name": "stdout",
     "output_type": "stream",
     "text": [
      "2022-11-10 15:35:11,637 - june.records.records_reader - INFO - Loading infections table\n",
      "2022-11-10 15:35:11,644 - june.records.records_reader - INFO - Loading population table\n",
      "2022-11-10 15:35:11,689 - june.records.records_reader - INFO - Merging infection and population tables\n",
      "2022-11-10 15:35:11,694 - june.records.records_reader - INFO - Loading geography table\n",
      "2022-11-10 15:35:11,710 - june.records.records_reader - INFO - Mergeing infection and geography tables\n"
     ]
    }
   ],
   "source": [
    "infections_df = read.get_table_with_extras('infections',\n",
    "                                           'infected_ids')"
   ]
  },
  {
   "cell_type": "code",
   "execution_count": 83,
   "metadata": {},
   "outputs": [
    {
     "name": "stdout",
     "output_type": "stream",
     "text": [
      "2022-11-10 15:35:11,721 - june.records.records_reader - INFO - Loading deaths table\n",
      "2022-11-10 15:35:11,726 - june.records.records_reader - INFO - Loading population table\n",
      "2022-11-10 15:35:11,774 - june.records.records_reader - INFO - Merging infection and population tables\n",
      "2022-11-10 15:35:11,779 - june.records.records_reader - INFO - Loading geography table\n",
      "2022-11-10 15:35:11,795 - june.records.records_reader - INFO - Mergeing infection and geography tables\n"
     ]
    }
   ],
   "source": [
    "deaths_df = read.get_table_with_extras('deaths', \n",
    "                                       'dead_person_ids')"
   ]
  },
  {
   "cell_type": "code",
   "execution_count": 84,
   "metadata": {},
   "outputs": [],
   "source": [
    "age_bins = (0,20,60,100)"
   ]
  },
  {
   "cell_type": "code",
   "execution_count": 85,
   "metadata": {},
   "outputs": [],
   "source": [
    "infected_by_age = infections_df.groupby([pd.cut(infections_df['age'],\n",
    "            bins=age_bins), 'timestamp']).size()"
   ]
  },
  {
   "cell_type": "code",
   "execution_count": 86,
   "metadata": {},
   "outputs": [],
   "source": [
    "people_df = read.table_to_df('population')"
   ]
  },
  {
   "cell_type": "code",
   "execution_count": 87,
   "metadata": {},
   "outputs": [],
   "source": [
    "n_by_age = people_df.groupby(pd.cut(people_df['age'],\n",
    "            bins=age_bins)).size()"
   ]
  },
  {
   "cell_type": "code",
   "execution_count": 88,
   "metadata": {},
   "outputs": [
    {
     "data": {
      "text/plain": [
       "<matplotlib.legend.Legend at 0x7f8c640df400>"
      ]
     },
     "execution_count": 88,
     "metadata": {},
     "output_type": "execute_result"
    },
    {
     "data": {
      "image/png": "[encoded data removed]",
      "text/plain": [
       "<Figure size 432x288 with 1 Axes>"
      ]
     },
     "metadata": {
      "needs_background": "light"
     },
     "output_type": "display_data"
    }
   ],
   "source": [
    "(100*infected_by_age/n_by_age).xs(10).cumsum().plot(label='0,20')\n",
    "(100*infected_by_age/n_by_age).xs(30).cumsum().plot(label='20,60')\n",
    "(100*infected_by_age/n_by_age).xs(70).cumsum().plot(label='60,100')\n",
    "plt.ylabel(\"% cumulative infected\")\n",
    "plt.legend()"
   ]
  },
  {
   "cell_type": "markdown",
   "metadata": {},
   "source": [
    "### Where people get infected"
   ]
  },
  {
   "cell_type": "code",
   "execution_count": 89,
   "metadata": {},
   "outputs": [],
   "source": [
    "locations_df = infections_df.groupby(['location_specs', \n",
    "                                'timestamp']).size()"
   ]
  },
  {
   "cell_type": "code",
   "execution_count": 90,
   "metadata": {},
   "outputs": [
    {
     "data": {
      "text/plain": [
       "<AxesSubplot:xlabel='timestamp'>"
      ]
     },
     "execution_count": 90,
     "metadata": {},
     "output_type": "execute_result"
    },
    {
     "data": {
      "image/png": "[encoded data removed]",
      "text/plain": [
       "<Figure size 432x288 with 1 Axes>"
      ]
     },
     "metadata": {
      "needs_background": "light"
     },
     "output_type": "display_data"
    }
   ],
   "source": [
    "locations_df.unstack(level=0).plot()"
   ]
  },
  {
   "cell_type": "code",
   "execution_count": 91,
   "metadata": {},
   "outputs": [
    {
     "data": {
      "text/plain": [
       "Text(0.5, 0, 'location')"
      ]
     },
     "execution_count": 91,
     "metadata": {},
     "output_type": "execute_result"
    },
    {
     "data": {
      "image/png": "[encoded data removed]",
      "text/plain": [
       "<Figure size 432x288 with 1 Axes>"
      ]
     },
     "metadata": {
      "needs_background": "light"
     },
     "output_type": "display_data"
    }
   ],
   "source": [
    "import matplotlib.ticker as mtick\n",
    "location_counts_df = locations_df.groupby('location_specs').size()\n",
    "location_counts_df = 100*location_counts_df / location_counts_df.sum()\n",
    "ax = location_counts_df.sort_values().plot.bar()\n",
    "ax.yaxis.set_major_formatter(mtick.PercentFormatter())\n",
    "plt.ylabel('Percentage of infections at location')\n",
    "plt.xlabel('location')"
   ]
  },
  {
   "cell_type": "markdown",
   "metadata": {},
   "source": [
    "# Tracker results"
   ]
  },
  {
   "cell_type": "markdown",
   "metadata": {},
   "source": [
    "We can define custom binnings with bin edges as such."
   ]
  },
  {
   "cell_type": "code",
   "execution_count": 92,
   "metadata": {},
   "outputs": [
    {
     "data": {
      "text/plain": [
       "1"
      ]
     },
     "execution_count": 92,
     "metadata": {},
     "output_type": "execute_result"
    }
   ],
   "source": [
    "simulator.tracker.contract_matrices(\"AC\", np.array([0,18,60]))"
   ]
  },
  {
   "cell_type": "markdown",
   "metadata": {},
   "source": [
    "Lastly we call the tracker to save the results to file and provide a print out of the results."
   ]
  },
  {
   "cell_type": "code",
   "execution_count": null,
   "metadata": {
    "scrolled": true
   },
   "outputs": [
    {
     "name": "stdout",
     "output_type": "stream",
     "text": [
      "Results from UNCM\n",
      "  communal:\n",
      "    contacts: [[4.05e+00,7.36e+00],[1.21e+00,5.88e+00]]\n",
      "    contacts_err: [[8.46e-02,1.14e-01],[2.91e-02,6.42e-02]]\n",
      "    proportion_physical: [[1.20e-01]]\n",
      "    characteristic_time: 1.00\n",
      "\n",
      "    Ratio of contacts and feed in values: [[8.10e-01,9.07e-01],[7.91e-01,9.79e-01]]\n",
      "\n",
      "  distribution_center:\n",
      "    contacts: [[4.01e+00,1.38e+01],[7.92e-01,1.00e+01]]\n",
      "    contacts_err: [[5.75e-02,1.07e-01],[1.51e-02,5.35e-02]]\n",
      "    proportion_physical: [[1.20e-01]]\n",
      "    characteristic_time: 1.00\n",
      "\n",
      "    Ratio of contacts and feed in values: [[1.00e+00,1.02e+00],[1.00e+00,1.00e+00]]\n",
      "\n",
      "  e_voucher:\n",
      "    contacts: [[2.59e-01,2.26e+00],[1.15e-01,1.36e+01]]\n",
      "    contacts_err: [[2.16e-02,6.38e-02],[8.84e-03,9.62e-02]]\n",
      "    proportion_physical: [[1.20e-01]]\n",
      "    characteristic_time: 1.00\n",
      "\n",
      "    Ratio of contacts and feed in values: [[0.00e+00,1.13e+00],[1.15e+00,1.01e+00]]\n",
      "\n",
      "  female_communal:\n",
      "    contacts: [[4.98e+00,8.15e+00],[1.53e+00,6.01e+00]]\n",
      "    contacts_err: [[4.61e-02,5.90e-02],[2.70e-02,5.34e-02]]\n",
      "    proportion_physical: [[1.20e-01]]\n",
      "    characteristic_time: 1.00\n",
      "\n",
      "    Ratio of contacts and feed in values: [[9.95e-01,1.00e+00],[1.00e+00,1.00e+00]]\n",
      "\n",
      "  hospital:\n",
      "    contacts: [[4.68e+00,0.00e+00,0.00e+00],[0.00e+00,0.00e+00,0.00e+00],[0.00e+00,0.00e+00,0.00e+00]]\n",
      "    contacts_err: [[1.69e-01,0.00e+00,0.00e+00],[0.00e+00,0.00e+00,0.00e+00],[0.00e+00,0.00e+00,0.00e+00]]\n",
      "    proportion_physical: [[5.00e-02,1.00e+00,1.00e+00],[1.00e+00,0.00e+00,0.00e+00],[1.00e+00,0.00e+00,0.00e+00]]\n",
      "    characteristic_time: 8.00\n",
      "\n",
      "    Ratio of contacts and feed in values: [[9.35e-01,0.00e+00,0.00e+00],[0.00e+00,0.00e+00,0.00e+00],[0.00e+00,0.00e+00,0.00e+00]]\n",
      "\n",
      "  informal_work:\n",
      "    contacts: [[4.96e+00]]\n",
      "    contacts_err: [[3.98e-02]]\n",
      "    proportion_physical: [[1.20e-01]]\n",
      "    characteristic_time: 8.00\n",
      "\n",
      "    Ratio of contacts and feed in values: [[9.93e-01]]\n",
      "\n",
      "  isolation_unit:\n",
      "    contacts: [[0.00e+00,0.00e+00],[0.00e+00,0.00e+00]]\n",
      "    contacts_err: [[0.00e+00,0.00e+00],[0.00e+00,0.00e+00]]\n",
      "    proportion_physical: [[0.00e+00,0.00e+00],[0.00e+00,0.00e+00]]\n",
      "    characteristic_time: 24.00\n",
      "\n",
      "    Ratio of contacts and feed in values: [[0.00e+00,0.00e+00],[0.00e+00,0.00e+00]]\n",
      "\n",
      "  learning_center:\n",
      "    contacts: [[9.98e+00,6.40e+00],[2.00e+00,3.87e+00]]\n",
      "    contacts_err: [[1.40e-02,1.12e-02],[6.92e-03,9.62e-03]]\n",
      "    proportion_physical: [[1.20e-01,1.20e-01],[1.20e-01,1.20e-01]]\n",
      "    characteristic_time: 1.50\n",
      "\n",
      "    Ratio of contacts and feed in values: [[9.98e-01,9.99e-01],[4.51e-01,9.97e-01]]\n",
      "\n",
      "  n_f_distribution_center:\n",
      "    contacts: [[4.02e+00,1.36e+01],[7.68e-01,9.91e+00]]\n",
      "    contacts_err: [[4.27e-02,7.87e-02],[1.11e-02,4.00e-02]]\n",
      "    proportion_physical: [[1.20e-01]]\n",
      "    characteristic_time: 1.00\n",
      "\n",
      "    Ratio of contacts and feed in values: [[1.00e+00,1.00e+00],[9.72e-01,9.91e-01]]\n",
      "\n",
      "  play_group:\n",
      "    contacts: [[3.10e+00,0.00e+00,0.00e+00],[0.00e+00,3.37e+00,0.00e+00],[0.00e+00,0.00e+00,2.20e+00]]\n",
      "    contacts_err: [[1.74e-02,0.00e+00,0.00e+00],[0.00e+00,1.70e-02,0.00e+00],[0.00e+00,0.00e+00,1.92e-02]]\n",
      "    proportion_physical: [[6.00e-01,0.00e+00,0.00e+00],[0.00e+00,3.00e-01,0.00e+00],[0.00e+00,0.00e+00,1.50e-01]]\n",
      "    characteristic_time: 2.00\n",
      "\n",
      "    Ratio of contacts and feed in values: [[6.20e-01,0.00e+00,0.00e+00],[0.00e+00,6.75e-01,0.00e+00],[0.00e+00,0.00e+00,4.40e-01]]\n",
      "\n",
      "  pump_latrine:\n",
      "    contacts: [[3.25e+00,9.71e+00],[1.63e+00,4.33e+00]]\n",
      "    contacts_err: [[2.96e-03,5.12e-03],[2.39e-03,3.90e-03]]\n",
      "    proportion_physical: [[2.00e-02]]\n",
      "    characteristic_time: 0.54\n",
      "\n",
      "    Ratio of contacts and feed in values: [[9.99e-01,9.98e-01],[1.00e+00,1.00e+00]]\n",
      "\n",
      "  religious:\n",
      "    contacts: [[5.00e+00,9.47e+00],[1.10e+00,8.52e+00]]\n",
      "    contacts_err: [[1.69e-02,2.32e-02],[5.23e-03,1.45e-02]]\n",
      "    proportion_physical: [[1.20e-01]]\n",
      "    characteristic_time: 1.00\n",
      "\n",
      "    Ratio of contacts and feed in values: [[1.00e+00,1.00e+00],[1.00e+00,1.00e+00]]\n",
      "\n",
      "  shelter:\n",
      "    contacts: [[4.86e+00,1.98e+00],[1.98e+00,4.86e+00]]\n",
      "    contacts_err: [[1.57e-02,1.01e-02],[1.01e-02,1.57e-02]]\n",
      "    proportion_physical: [[8.00e-01,3.00e-01],[8.00e-01,3.00e-01]]\n",
      "    characteristic_time: 12.00\n",
      "\n",
      "    Ratio of contacts and feed in values: [[9.72e-01,9.92e-01],[9.92e-01,9.72e-01]]\n",
      "\n",
      "\n",
      "Results from UNCM_R\n",
      "  communal:\n",
      "    contacts: [[4.05e+00,5.20e+00],[2.06e+00,5.88e+00]]\n",
      "    contacts_err: [[5.98e-02,6.78e-02],[2.69e-02,4.54e-02]]\n",
      "    proportion_physical: [[1.20e-01]]\n",
      "    characteristic_time: 1.00\n",
      "\n",
      "    Ratio of contacts and feed in values: [[8.10e-01,6.42e-01],[1.35e+00,9.79e-01]]\n",
      "\n",
      "  distribution_center:\n",
      "    contacts: [[4.01e+00,8.06e+00],[2.79e+00,1.00e+01]]\n",
      "    contacts_err: [[4.07e-02,5.77e-02],[2.00e-02,3.78e-02]]\n",
      "    proportion_physical: [[1.20e-01]]\n",
      "    characteristic_time: 1.00\n",
      "\n",
      "    Ratio of contacts and feed in values: [[1.00e+00,5.91e-01],[3.54e+00,1.00e+00]]\n",
      "\n",
      "  e_voucher:\n",
      "    contacts: [[2.59e-01,1.28e+00],[4.85e-01,1.36e+01]]\n",
      "    contacts_err: [[1.53e-02,3.40e-02],[1.28e-02,6.80e-02]]\n",
      "    proportion_physical: [[1.20e-01]]\n",
      "    characteristic_time: 1.00\n",
      "\n",
      "    Ratio of contacts and feed in values: [[0.00e+00,6.42e-01],[4.85e+00,1.01e+00]]\n",
      "\n",
      "  female_communal:\n",
      "    contacts: [[4.98e+00,4.76e+00],[5.29e+00,6.01e+00]]\n",
      "    contacts_err: [[3.26e-02,3.19e-02],[3.54e-02,3.78e-02]]\n",
      "    proportion_physical: [[1.20e-01]]\n",
      "    characteristic_time: 1.00\n",
      "\n",
      "    Ratio of contacts and feed in values: [[9.95e-01,5.87e-01],[3.46e+00,1.00e+00]]\n",
      "\n",
      "  hospital:\n",
      "    contacts: [[4.68e+00,0.00e+00,0.00e+00],[0.00e+00,0.00e+00,0.00e+00],[0.00e+00,0.00e+00,0.00e+00]]\n",
      "    contacts_err: [[1.19e-01,0.00e+00,0.00e+00],[0.00e+00,0.00e+00,0.00e+00],[0.00e+00,0.00e+00,0.00e+00]]\n",
      "    proportion_physical: [[5.00e-02,1.00e+00,1.00e+00],[1.00e+00,0.00e+00,0.00e+00],[1.00e+00,0.00e+00,0.00e+00]]\n",
      "    characteristic_time: 8.00\n",
      "\n",
      "    Ratio of contacts and feed in values: [[9.35e-01,0.00e+00,0.00e+00],[0.00e+00,0.00e+00,0.00e+00],[0.00e+00,0.00e+00,0.00e+00]]\n",
      "\n",
      "  informal_work:\n",
      "    contacts: [[4.96e+00]]\n",
      "    contacts_err: [[2.81e-02]]\n",
      "    proportion_physical: [[1.20e-01]]\n",
      "    characteristic_time: 8.00\n",
      "\n",
      "    Ratio of contacts and feed in values: [[9.93e-01]]\n",
      "\n",
      "  isolation_unit:\n",
      "    contacts: [[0.00e+00,0.00e+00],[0.00e+00,0.00e+00]]\n",
      "    contacts_err: [[0.00e+00,0.00e+00],[0.00e+00,0.00e+00]]\n",
      "    proportion_physical: [[0.00e+00,0.00e+00],[0.00e+00,0.00e+00]]\n",
      "    characteristic_time: 24.00\n",
      "\n",
      "    Ratio of contacts and feed in values: [[0.00e+00,0.00e+00],[0.00e+00,0.00e+00]]\n",
      "\n",
      "  learning_center:\n",
      "    contacts: [[9.98e+00,4.02e+00],[4.91e+00,3.87e+00]]\n",
      "    contacts_err: [[9.88e-03,6.27e-03],[7.67e-03,6.80e-03]]\n",
      "    proportion_physical: [[1.20e-01,1.20e-01],[1.20e-01,1.20e-01]]\n",
      "    characteristic_time: 1.50\n",
      "\n",
      "    Ratio of contacts and feed in values: [[9.98e-01,6.27e-01],[1.11e+00,9.97e-01]]\n",
      "\n",
      "  n_f_distribution_center:\n",
      "    contacts: [[4.02e+00,7.90e+00],[2.80e+00,9.91e+00]]\n",
      "    contacts_err: [[3.02e-02,4.24e-02],[1.50e-02,2.83e-02]]\n",
      "    proportion_physical: [[1.20e-01]]\n",
      "    characteristic_time: 1.00\n",
      "\n",
      "    Ratio of contacts and feed in values: [[1.00e+00,5.80e-01],[3.55e+00,9.91e-01]]\n",
      "\n",
      "  play_group:\n",
      "    contacts: [[3.10e+00,0.00e+00,0.00e+00],[0.00e+00,3.37e+00,0.00e+00],[0.00e+00,0.00e+00,2.20e+00]]\n",
      "    contacts_err: [[1.23e-02,0.00e+00,0.00e+00],[0.00e+00,1.20e-02,0.00e+00],[0.00e+00,0.00e+00,1.36e-02]]\n",
      "    proportion_physical: [[6.00e-01,0.00e+00,0.00e+00],[0.00e+00,3.00e-01,0.00e+00],[0.00e+00,0.00e+00,1.50e-01]]\n",
      "    characteristic_time: 2.00\n",
      "\n",
      "    Ratio of contacts and feed in values: [[6.20e-01,0.00e+00,0.00e+00],[0.00e+00,6.75e-01,0.00e+00],[0.00e+00,0.00e+00,4.40e-01]]\n",
      "\n",
      "  pump_latrine:\n",
      "    contacts: [[3.25e+00,5.48e+00],[7.13e+00,4.33e+00]]\n",
      "    contacts_err: [[2.09e-03,2.72e-03],[3.54e-03,2.76e-03]]\n",
      "    proportion_physical: [[2.00e-02]]\n",
      "    characteristic_time: 0.54\n",
      "\n",
      "    Ratio of contacts and feed in values: [[9.99e-01,5.63e-01],[4.38e+00,1.00e+00]]\n",
      "\n",
      "  religious:\n",
      "    contacts: [[5.00e+00,6.01e+00],[2.61e+00,8.52e+00]]\n",
      "    contacts_err: [[1.19e-02,1.31e-02],[5.68e-03,1.03e-02]]\n",
      "    proportion_physical: [[1.20e-01]]\n",
      "    characteristic_time: 1.00\n",
      "\n",
      "    Ratio of contacts and feed in values: [[1.00e+00,6.34e-01],[2.37e+00,1.00e+00]]\n",
      "\n",
      "  shelter:\n",
      "    contacts: [[4.86e+00,1.98e+00],[1.98e+00,4.86e+00]]\n",
      "    contacts_err: [[1.11e-02,7.11e-03],[7.11e-03,1.11e-02]]\n",
      "    proportion_physical: [[8.00e-01,3.00e-01],[8.00e-01,3.00e-01]]\n",
      "    characteristic_time: 12.00\n",
      "\n",
      "    Ratio of contacts and feed in values: [[9.72e-01,9.92e-01],[9.92e-01,9.72e-01]]\n",
      "\n",
      "\n",
      "Results from UNCM_V\n",
      "  communal:\n",
      "    contacts: [[9.36e-01,2.35e+00],[9.30e-01,2.48e+00]]\n",
      "    contacts_err: [[4.07e-02,6.44e-02],[2.55e-02,4.17e-02]]\n",
      "    proportion_physical: [[1.20e-01]]\n",
      "    characteristic_time: 1.00\n",
      "\n",
      "    Ratio of contacts and feed in values: [[1.87e-01,2.89e-01],[6.08e-01,4.13e-01]]\n",
      "\n",
      "  distribution_center:\n",
      "    contacts: [[1.08e+01,3.13e+01],[1.08e+01,3.13e+01]]\n",
      "    contacts_err: [[9.45e-02,1.61e-01],[5.57e-02,9.46e-02]]\n",
      "    proportion_physical: [[1.20e-01]]\n",
      "    characteristic_time: 1.00\n",
      "\n",
      "    Ratio of contacts and feed in values: [[2.71e+00,2.29e+00],[1.37e+01,3.13e+00]]\n",
      "\n",
      "  e_voucher:\n",
      "    contacts: [[4.90e+00,1.34e+01],[5.07e+00,1.34e+01]]\n",
      "    contacts_err: [[9.39e-02,1.55e-01],[5.88e-02,9.56e-02]]\n",
      "    proportion_physical: [[1.20e-01]]\n",
      "    characteristic_time: 1.00\n",
      "\n",
      "    Ratio of contacts and feed in values: [[0.00e+00,6.71e+00],[5.07e+01,9.95e-01]]\n",
      "\n",
      "  female_communal:\n",
      "    contacts: [[7.05e+00,6.39e+00],[7.09e+00,6.22e+00]]\n",
      "    contacts_err: [[5.49e-02,5.23e-02],[5.80e-02,5.44e-02]]\n",
      "    proportion_physical: [[1.20e-01]]\n",
      "    characteristic_time: 1.00\n",
      "\n",
      "    Ratio of contacts and feed in values: [[1.41e+00,7.88e-01],[4.64e+00,1.04e+00]]\n",
      "\n",
      "  hospital:\n",
      "    contacts: [[1.26e+01,0.00e+00,0.00e+00],[0.00e+00,0.00e+00,0.00e+00],[0.00e+00,0.00e+00,0.00e+00]]\n",
      "    contacts_err: [[2.76e-01,0.00e+00,0.00e+00],[0.00e+00,0.00e+00,0.00e+00],[0.00e+00,0.00e+00,0.00e+00]]\n",
      "    proportion_physical: [[5.00e-02,1.00e+00,1.00e+00],[1.00e+00,0.00e+00,0.00e+00],[1.00e+00,0.00e+00,0.00e+00]]\n",
      "    characteristic_time: 8.00\n",
      "\n",
      "    Ratio of contacts and feed in values: [[2.51e+00,0.00e+00,0.00e+00],[0.00e+00,0.00e+00,0.00e+00],[0.00e+00,0.00e+00,0.00e+00]]\n",
      "\n",
      "  informal_work:\n",
      "    contacts: [[3.06e+01]]\n",
      "    contacts_err: [[9.87e-02]]\n",
      "    proportion_physical: [[1.20e-01]]\n",
      "    characteristic_time: 8.00\n",
      "\n",
      "    Ratio of contacts and feed in values: [[6.11e+00]]\n",
      "\n",
      "  isolation_unit:\n",
      "    contacts: [[0.00e+00,0.00e+00],[0.00e+00,0.00e+00]]\n",
      "    contacts_err: [[0.00e+00,0.00e+00],[0.00e+00,0.00e+00]]\n",
      "    proportion_physical: [[0.00e+00,0.00e+00],[0.00e+00,0.00e+00]]\n",
      "    characteristic_time: 24.00\n",
      "\n",
      "    Ratio of contacts and feed in values: [[0.00e+00,0.00e+00],[0.00e+00,0.00e+00]]\n",
      "\n",
      "  learning_center:\n",
      "    contacts: [[8.89e+00,3.12e+00],[3.82e+00,2.86e+00]]\n",
      "    contacts_err: [[1.32e-02,7.81e-03],[9.56e-03,8.27e-03]]\n",
      "    proportion_physical: [[1.20e-01,1.20e-01],[1.20e-01,1.20e-01]]\n",
      "    characteristic_time: 1.50\n",
      "\n",
      "    Ratio of contacts and feed in values: [[8.89e-01,4.88e-01],[8.60e-01,7.37e-01]]\n",
      "\n",
      "  n_f_distribution_center:\n",
      "    contacts: [[8.77e+00,2.39e+01],[8.47e+00,2.37e+01]]\n",
      "    contacts_err: [[6.31e-02,1.04e-01],[3.70e-02,6.18e-02]]\n",
      "    proportion_physical: [[1.20e-01]]\n",
      "    characteristic_time: 1.00\n",
      "\n",
      "    Ratio of contacts and feed in values: [[2.19e+00,1.75e+00],[1.07e+01,2.37e+00]]\n",
      "\n",
      "  play_group:\n",
      "    contacts: [[9.18e-01,1.07e+00,5.34e-01],[9.31e-01,1.05e+00,5.39e-01],[9.13e-01,1.06e+00,5.45e-01]]\n",
      "    contacts_err: [[9.50e-03,1.02e-02,7.24e-03],[8.93e-03,9.47e-03,6.80e-03],[1.24e-02,1.33e-02,9.57e-03]]\n",
      "    proportion_physical: [[6.00e-01,0.00e+00,0.00e+00],[0.00e+00,3.00e-01,0.00e+00],[0.00e+00,0.00e+00,1.50e-01]]\n",
      "    characteristic_time: 2.00\n",
      "\n",
      "    Ratio of contacts and feed in values: [[1.84e-01,0.00e+00,0.00e+00],[0.00e+00,2.09e-01,0.00e+00],[0.00e+00,0.00e+00,1.09e-01]]\n",
      "\n",
      "  pump_latrine:\n",
      "    contacts: [[1.24e+01,9.53e+00],[1.24e+01,9.76e+00]]\n",
      "    contacts_err: [[5.80e-03,5.07e-03],[6.60e-03,5.86e-03]]\n",
      "    proportion_physical: [[2.00e-02]]\n",
      "    characteristic_time: 0.54\n",
      "\n",
      "    Ratio of contacts and feed in values: [[3.83e+00,9.79e-01],[7.61e+00,2.25e+00]]\n",
      "\n",
      "  religious:\n",
      "    contacts: [[1.57e+01,3.66e+01],[1.59e+01,3.77e+01]]\n",
      "    contacts_err: [[2.99e-02,4.56e-02],[1.98e-02,3.05e-02]]\n",
      "    proportion_physical: [[1.20e-01]]\n",
      "    characteristic_time: 1.00\n",
      "\n",
      "    Ratio of contacts and feed in values: [[3.14e+00,3.86e+00],[1.44e+01,4.43e+00]]\n",
      "\n",
      "  shelter:\n",
      "    contacts: [[4.36e+00,3.50e+00],[3.50e+00,4.48e+00]]\n",
      "    contacts_err: [[1.49e-02,1.34e-02],[1.34e-02,1.51e-02]]\n",
      "    proportion_physical: [[8.00e-01,3.00e-01],[8.00e-01,3.00e-01]]\n",
      "    characteristic_time: 12.00\n",
      "\n",
      "    Ratio of contacts and feed in values: [[8.71e-01,1.75e+00],[1.75e+00,8.96e-01]]\n",
      "\n",
      "\n"
     ]
    }
   ],
   "source": [
    "simulator.tracker.post_process_simulation(save=True)"
   ]
  },
  {
   "cell_type": "code",
   "execution_count": null,
   "metadata": {},
   "outputs": [],
   "source": []
  },
  {
   "cell_type": "code",
   "execution_count": null,
   "metadata": {},
   "outputs": [],
   "source": []
  },
  {
   "cell_type": "code",
   "execution_count": null,
   "metadata": {},
   "outputs": [],
   "source": []
  },
  {
   "cell_type": "code",
   "execution_count": null,
   "metadata": {},
   "outputs": [],
   "source": []
  }
 ],
 "metadata": {
  "kernelspec": {
   "display_name": "campmodelling-private",
   "language": "python",
   "name": "campmodelling-private"
  },
  "language_info": {
   "codemirror_mode": {
    "name": "ipython",
    "version": 3
   },
   "file_extension": ".py",
   "mimetype": "text/x-python",
   "name": "python",
   "nbconvert_exporter": "python",
   "pygments_lexer": "ipython3",
   "version": "3.8.0"
  }
 },
 "nbformat": 4,
 "nbformat_minor": 4
}
