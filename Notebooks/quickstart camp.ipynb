{
 "cells": [
  {
   "cell_type": "code",
   "execution_count": 1,
   "metadata": {},
   "outputs": [],
   "source": [
    "import warnings\n",
    "warnings.filterwarnings('ignore')"
   ]
  },
  {
   "cell_type": "code",
   "execution_count": 2,
   "metadata": {},
   "outputs": [],
   "source": [
    "import numpy as np\n",
    "import pandas as pd\n",
    "import time\n",
    "import matplotlib.pyplot as plt\n",
    "from datetime import datetime\n",
    "import sys\n",
    "import argparse\n",
    "from pathlib import Path"
   ]
  },
  {
   "cell_type": "code",
   "execution_count": 3,
   "metadata": {},
   "outputs": [
    {
     "name": "stderr",
     "output_type": "stream",
     "text": [
      "No --data argument given - defaulting to:\n",
      "/home/joseph/Documents/PhD/UN_Work/UNGP-settlement-modelling-private/data\n",
      "No --configs argument given - defaulting to:\n",
      "/home/joseph/Documents/PhD/UN_Work/JUNE-private/june/configs\n"
     ]
    },
    {
     "name": "stdout",
     "output_type": "stream",
     "text": [
      "2022-07-04 11:49:12,529 - camps.paths - WARNING - No --camp_data argument given - defaulting to:\n",
      "/home/joseph/Documents/PhD/UN_Work/UNGP-settlement-modelling-private/camp_data\n",
      "2022-07-04 11:49:12,529 - camps.paths - WARNING - No --configs_camps argument given - defaulting to:\n",
      "/home/joseph/Documents/PhD/UN_Work/UNGP-settlement-modelling-private/configs_camps\n"
     ]
    }
   ],
   "source": [
    "from june.geography import Geography\n",
    "from june.demography.demography import (\n",
    "    load_age_and_sex_generators_for_bins,\n",
    "    Demography,\n",
    "    Population,\n",
    "    load_comorbidity_data,\n",
    "    generate_comorbidity,\n",
    ")\n",
    "from june.paths import data_path, configs_path\n",
    "from june.epidemiology.epidemiology import Epidemiology\n",
    "from june.epidemiology.infection import ImmunitySetter\n",
    "from june.epidemiology.infection import Infection, HealthIndexGenerator, InfectionSelector, InfectionSelectors\n",
    "from june.epidemiology.infection_seed import InfectionSeed, InfectionSeeds\n",
    "from june.interaction import Interaction\n",
    "from june.groups import Hospital, Hospitals, Cemeteries\n",
    "from june.distributors import HospitalDistributor\n",
    "from june.hdf5_savers import generate_world_from_hdf5\n",
    "from june.policy import Policy, Policies\n",
    "from june.records import Record\n",
    "from june.simulator import Simulator\n",
    "from june.records import Record, RecordReader\n",
    "\n",
    "from camps.activity import CampActivityManager\n",
    "from camps.paths import camp_data_path, camp_configs_path\n",
    "from camps.world import World\n",
    "from camps.groups.leisure import generate_leisure_for_world, generate_leisure_for_config\n",
    "from camps.camp_creation import (\n",
    "    generate_empty_world,\n",
    "    populate_world,\n",
    "    distribute_people_to_households,\n",
    ")  # this is loaded from the ../camp_scripts folder\n"
   ]
  },
  {
   "cell_type": "code",
   "execution_count": 4,
   "metadata": {},
   "outputs": [],
   "source": [
    "from camps.groups import PumpLatrines, PumpLatrineDistributor\n",
    "from camps.groups import DistributionCenters, DistributionCenterDistributor\n",
    "from camps.groups import Communals, CommunalDistributor\n",
    "from camps.groups import FemaleCommunals, FemaleCommunalDistributor\n",
    "from camps.groups import Religiouss, ReligiousDistributor\n",
    "from camps.groups import Shelter, Shelters, ShelterDistributor\n",
    "from camps.groups import IsolationUnit, IsolationUnits\n",
    "from camps.groups import LearningCenters\n",
    "from camps.distributors import LearningCenterDistributor\n",
    "from camps.groups import PlayGroups, PlayGroupDistributor\n",
    "from camps.groups import EVouchers, EVoucherDistributor\n",
    "from camps.groups import NFDistributionCenters, NFDistributionCenterDistributor\n",
    "from camps.groups import SheltersVisitsDistributor\n",
    "from camps.groups import InformalWorks, InformalWorkDistributor"
   ]
  },
  {
   "cell_type": "code",
   "execution_count": 5,
   "metadata": {},
   "outputs": [],
   "source": [
    "Results_Path = Path(\"results\")\n",
    "\n",
    "Config_File_Path = camp_configs_path / \"config_demo.yaml\"\n",
    "Interactions_File_Path = camp_configs_path / \"defaults/interaction/interaction_Survey.yaml\"\n",
    "Policies_File_Path = camp_configs_path / \"defaults/policy/simple_policy.yaml\"\n",
    "Hospitals_File_Path = camp_data_path / \"input/hospitals/hospitals.csv\"\n",
    "comorbidity_multipliers_path = camp_configs_path / \"defaults/comorbidities.yaml\"\n",
    "male_comorbidity_reference_prevalence_path = camp_data_path / \"input/demography/uk_male_comorbidities.csv\"\n",
    "female_comorbidity_reference_prevalence_path = camp_data_path / \"input/demography/uk_female_comorbidities.csv\""
   ]
  },
  {
   "cell_type": "markdown",
   "metadata": {},
   "source": [
    "## Initialize the world"
   ]
  },
  {
   "cell_type": "markdown",
   "metadata": {},
   "source": [
    "When we create the camp to be simulated, we call this the 'world'. The world is initialised after specifying which geographical regions you want to simulate. We can do this by using the `filter_key` argument in the `generate_empty_world` function. Cox's Bazar Expansion Site is made up of camps (which we call regions), UNHCR blocks (which we call super areas) and Mahjee blocks (which we call areas). These are the 3 heirarchical levels on which our model works. You can pass lists of the regions/super_areas/areas to the function here. Alternatively, by leaving the function empty you can generate the entire Cox's Bazar Expansion Site consisting of 112 super areas."
   ]
  },
  {
   "cell_type": "code",
   "execution_count": 6,
   "metadata": {},
   "outputs": [
    {
     "name": "stdout",
     "output_type": "stream",
     "text": [
      "2022-07-04 11:49:13,150 - june.geography.geography - INFO - There are 65 areas and 4 super_areas and 1 regions in the world.\n"
     ]
    }
   ],
   "source": [
    "# create empty world's geography\n",
    "world = generate_empty_world(filter_key = {\"region\" : [\"CXB-219\"]})"
   ]
  },
  {
   "cell_type": "code",
   "execution_count": 7,
   "metadata": {},
   "outputs": [],
   "source": [
    "# populate empty world\n",
    "populate_world(world)"
   ]
  },
  {
   "cell_type": "code",
   "execution_count": 8,
   "metadata": {},
   "outputs": [
    {
     "name": "stdout",
     "output_type": "stream",
     "text": [
      "Distributing 468 people to CXB-219-001\n",
      "Distributing 369 people to CXB-219-002\n",
      "Distributing 331 people to CXB-219-003\n",
      "Distributing 386 people to CXB-219-004\n",
      "Distributing 314 people to CXB-219-005\n",
      "Distributing 331 people to CXB-219-006\n",
      "Distributing 259 people to CXB-219-007\n",
      "Distributing 350 people to CXB-219-009\n",
      "Distributing 274 people to CXB-219-010\n",
      "Distributing 249 people to CXB-219-011\n",
      "Distributing 463 people to CXB-219-012\n",
      "Distributing 418 people to CXB-219-013\n",
      "Distributing 460 people to CXB-219-014\n",
      "Distributing 384 people to CXB-219-017\n",
      "Distributing 417 people to CXB-219-020\n",
      "Distributing 426 people to CXB-219-021\n",
      "Distributing 414 people to CXB-219-022\n",
      "Distributing 384 people to CXB-219-024\n",
      "Distributing 378 people to CXB-219-025\n",
      "Distributing 379 people to CXB-219-026\n",
      "Distributing 413 people to CXB-219-027\n",
      "Distributing 392 people to CXB-219-028\n",
      "Distributing 331 people to CXB-219-029\n",
      "Distributing 459 people to CXB-219-030\n",
      "Distributing 394 people to CXB-219-032\n",
      "Distributing 339 people to CXB-219-033\n",
      "Distributing 373 people to CXB-219-034\n",
      "Distributing 260 people to CXB-219-036\n",
      "Distributing 455 people to CXB-219-037\n",
      "Distributing 459 people to CXB-219-038\n",
      "Distributing 487 people to CXB-219-039\n",
      "Distributing 175 people to CXB-219-040\n",
      "Distributing 330 people to CXB-219-041\n",
      "Distributing 398 people to CXB-219-042\n",
      "Distributing 398 people to CXB-219-043\n",
      "Distributing 368 people to CXB-219-044\n",
      "Distributing 429 people to CXB-219-045\n",
      "Distributing 450 people to CXB-219-046\n",
      "Distributing 244 people to CXB-219-047\n",
      "Distributing 311 people to CXB-219-048\n",
      "Distributing 335 people to CXB-219-049\n",
      "Distributing 206 people to CXB-219-050\n",
      "Distributing 343 people to CXB-219-051\n",
      "Distributing 347 people to CXB-219-052\n",
      "Distributing 533 people to CXB-219-053\n",
      "Distributing 381 people to CXB-219-054\n",
      "Distributing 252 people to CXB-219-055\n",
      "Distributing 274 people to CXB-219-056\n",
      "Distributing 247 people to CXB-219-057\n",
      "Distributing 376 people to CXB-219-058\n",
      "Distributing 342 people to CXB-219-059\n",
      "Distributing 331 people to CXB-219-060\n",
      "Distributing 413 people to CXB-219-061\n",
      "Distributing 259 people to CXB-219-062\n",
      "Distributing 286 people to CXB-219-063\n",
      "Distributing 194 people to CXB-219-064\n",
      "Distributing 212 people to CXB-219-065\n",
      "Distributing 330 people to CXB-219-066\n",
      "Distributing 315 people to CXB-219-067\n",
      "Distributing 385 people to CXB-219-068\n",
      "Distributing 551 people to CXB-219-069\n",
      "Distributing 321 people to CXB-219-070\n",
      "Distributing 216 people to CXB-219-071\n",
      "Distributing 309 people to CXB-234-001\n",
      "Distributing 276 people to CXB-234-002\n"
     ]
    }
   ],
   "source": [
    "# distribute people to households\n",
    "distribute_people_to_households(world)"
   ]
  },
  {
   "cell_type": "code",
   "execution_count": 9,
   "metadata": {},
   "outputs": [
    {
     "name": "stdout",
     "output_type": "stream",
     "text": [
      "2022-07-04 11:49:17,581 - learning_centers - INFO - There are 1243 learning center(s)\n"
     ]
    }
   ],
   "source": [
    "LearningCenters.Get_Interaction(Interactions_File_Path)\n",
    "world.learning_centers = LearningCenters.for_areas(world.areas)\n",
    "\n",
    "learningcenter_distributor = LearningCenterDistributor.from_file(world.learning_centers)\n",
    "\n",
    "learningcenter_distributor.distribute_teachers_to_learning_centers(world.areas)\n",
    "learningcenter_distributor.distribute_kids_to_learning_centers(world.areas)"
   ]
  },
  {
   "cell_type": "code",
   "execution_count": 10,
   "metadata": {},
   "outputs": [
    {
     "name": "stdout",
     "output_type": "stream",
     "text": [
      "2022-07-04 11:49:18,544 - hospitals - INFO - There are 8 hospitals in the world.\n",
      "2022-07-04 11:49:18,559 - isolation units - INFO - There are 8 isolation unit(s)\n"
     ]
    }
   ],
   "source": [
    "# distribute hospitals\n",
    "Hospitals.Get_Interaction(Interactions_File_Path)\n",
    "IsolationUnits.Get_Interaction(Interactions_File_Path)\n",
    "\n",
    "hospitals = Hospitals.from_file(\n",
    "    filename=Hospitals_File_Path\n",
    ")\n",
    "\n",
    "\n",
    "for hospital in hospitals:\n",
    "    hospital.area = world.areas.get_closest_area(hospital.coordinates)\n",
    "    \n",
    "world.hospitals = hospitals\n",
    "hospital_distributor = HospitalDistributor(\n",
    "    hospitals, medic_min_age=20, patients_per_medic=10\n",
    ")\n",
    "hospital_distributor.assign_closest_hospitals_to_super_areas(\n",
    "    world.super_areas\n",
    ")\n",
    "\n",
    "world.isolation_units = IsolationUnits([IsolationUnit(area=hospital.area) for hospital in world.hospitals])\n",
    "hospital_distributor.distribute_medics_from_world(world.people)"
   ]
  },
  {
   "cell_type": "code",
   "execution_count": 11,
   "metadata": {},
   "outputs": [
    {
     "name": "stdout",
     "output_type": "stream",
     "text": [
      "2022-07-04 11:49:18,626 - social_venue - INFO - Domain 0 has 82 pump_latrines(s)\n",
      "2022-07-04 11:49:18,742 - social_venue - INFO - Domain 0 has 541 play_groups(s)\n",
      "<member 'spec' of 'Group' objects> 21\n",
      "2022-07-04 11:49:18,791 - social_venue - INFO - Domain 0 has 21 distribution_centers(s)\n",
      "<member 'spec' of 'Group' objects> 115\n",
      "2022-07-04 11:49:18,897 - social_venue - INFO - Domain 0 has 115 communals(s)\n",
      "<member 'spec' of 'Group' objects> 67\n",
      "2022-07-04 11:49:18,963 - social_venue - INFO - Domain 0 has 67 female_communals(s)\n",
      "<member 'spec' of 'Group' objects> 2065\n",
      "2022-07-04 11:49:20,171 - social_venue - INFO - Domain 0 has 2065 religiouss(s)\n",
      "<member 'spec' of 'Group' objects> 7\n",
      "2022-07-04 11:49:20,211 - social_venue - INFO - Domain 0 has 7 e_vouchers(s)\n",
      "<member 'spec' of 'Group' objects> 41\n",
      "2022-07-04 11:49:20,263 - social_venue - INFO - Domain 0 has 41 n_f_distribution_centers(s)\n",
      "2022-07-04 11:49:20,304 - social_venue - INFO - Domain 0 has 80 informal_works(s)\n"
     ]
    }
   ],
   "source": [
    "PumpLatrines.Get_Interaction(Interactions_File_Path)\n",
    "world.pump_latrines = PumpLatrines.for_areas(world.areas)\n",
    "\n",
    "PlayGroups.Get_Interaction(Interactions_File_Path)\n",
    "world.play_groups = PlayGroups.for_areas(world.areas)\n",
    "\n",
    "DistributionCenters.Get_Interaction(Interactions_File_Path)\n",
    "world.distribution_centers = DistributionCenters.for_areas(world.areas)\n",
    "\n",
    "Communals.Get_Interaction(Interactions_File_Path)\n",
    "world.communals = Communals.for_areas(world.areas)\n",
    "\n",
    "FemaleCommunals.Get_Interaction(Interactions_File_Path)\n",
    "world.female_communals = FemaleCommunals.for_areas(world.areas)\n",
    "\n",
    "Religiouss.Get_Interaction(Interactions_File_Path)\n",
    "world.religiouss = Religiouss.for_areas(world.areas)\n",
    "\n",
    "EVouchers.Get_Interaction(Interactions_File_Path)\n",
    "world.e_vouchers = EVouchers.for_areas(world.areas)\n",
    "\n",
    "NFDistributionCenters.Get_Interaction(Interactions_File_Path)\n",
    "world.n_f_distribution_centers = NFDistributionCenters.for_areas(world.areas)\n",
    "\n",
    "InformalWorks.Get_Interaction(Interactions_File_Path)\n",
    "world.informal_works = InformalWorks.for_areas(world.areas)"
   ]
  },
  {
   "cell_type": "code",
   "execution_count": 12,
   "metadata": {},
   "outputs": [
    {
     "name": "stdout",
     "output_type": "stream",
     "text": [
      "cemetery not defined in interaction yaml\n"
     ]
    }
   ],
   "source": [
    "world.cemeteries = Cemeteries()"
   ]
  },
  {
   "cell_type": "markdown",
   "metadata": {},
   "source": [
    "## Geography exploration"
   ]
  },
  {
   "cell_type": "markdown",
   "metadata": {},
   "source": [
    "The geography is initialised first and can be explored."
   ]
  },
  {
   "cell_type": "markdown",
   "metadata": {},
   "source": [
    "### UNHCR camp blocks inside the World"
   ]
  },
  {
   "cell_type": "code",
   "execution_count": 13,
   "metadata": {},
   "outputs": [],
   "source": [
    "super_areas = []\n",
    "for super_area in world.super_areas:\n",
    "    super_areas.append(super_area.name)"
   ]
  },
  {
   "cell_type": "code",
   "execution_count": 14,
   "metadata": {},
   "outputs": [
    {
     "data": {
      "text/plain": [
       "['CXB-219-A', 'CXB-219-B', 'CXB-219-C', 'CXB-219-D']"
      ]
     },
     "execution_count": 14,
     "metadata": {},
     "output_type": "execute_result"
    }
   ],
   "source": [
    "super_areas[:5]"
   ]
  },
  {
   "cell_type": "markdown",
   "metadata": {},
   "source": [
    "### Mahjee blocks inside World"
   ]
  },
  {
   "cell_type": "code",
   "execution_count": 15,
   "metadata": {},
   "outputs": [],
   "source": [
    "areas = []\n",
    "for area in world.areas:\n",
    "    areas.append(area.name)"
   ]
  },
  {
   "cell_type": "code",
   "execution_count": 16,
   "metadata": {},
   "outputs": [
    {
     "data": {
      "text/plain": [
       "['CXB-219-001', 'CXB-219-002', 'CXB-219-003', 'CXB-219-004', 'CXB-219-005']"
      ]
     },
     "execution_count": 16,
     "metadata": {},
     "output_type": "execute_result"
    }
   ],
   "source": [
    "areas[:5]"
   ]
  },
  {
   "cell_type": "markdown",
   "metadata": {},
   "source": [
    "## Demography exploration"
   ]
  },
  {
   "cell_type": "markdown",
   "metadata": {},
   "source": [
    "Once we have populated the 'digital twin' we can explore some of the attributes of the people we have created in the simulation."
   ]
  },
  {
   "cell_type": "markdown",
   "metadata": {},
   "source": [
    "### UNHCR block residents"
   ]
  },
  {
   "cell_type": "code",
   "execution_count": 17,
   "metadata": {},
   "outputs": [],
   "source": [
    "sample_ages = []\n",
    "sample_sexes = []\n",
    "for person in world.super_areas.members[0].people:\n",
    "    sample_ages.append(person.age)\n",
    "    sample_sexes.append(person.sex)"
   ]
  },
  {
   "cell_type": "code",
   "execution_count": 18,
   "metadata": {},
   "outputs": [
    {
     "data": {
      "text/plain": [
       "(['m', 'm', 'f', 'm', 'f'], [17, 40, 19, 45, 43])"
      ]
     },
     "execution_count": 18,
     "metadata": {},
     "output_type": "execute_result"
    }
   ],
   "source": [
    "sample_sexes[:5], sample_ages[:5]"
   ]
  },
  {
   "cell_type": "code",
   "execution_count": 19,
   "metadata": {},
   "outputs": [
    {
     "data": {
      "image/png": "[encoded data removed]",
      "text/plain": [
       "<Figure size 432x288 with 1 Axes>"
      ]
     },
     "metadata": {
      "needs_background": "light"
     },
     "output_type": "display_data"
    }
   ],
   "source": [
    "ages, counts = np.unique(sample_ages, return_counts=True)\n",
    "plt.bar(ages, counts)\n",
    "plt.title('super area: {} age distribution'.format(world.super_areas.members[0].name))\n",
    "plt.show()"
   ]
  },
  {
   "cell_type": "code",
   "execution_count": 20,
   "metadata": {},
   "outputs": [
    {
     "name": "stdout",
     "output_type": "stream",
     "text": [
      "The % children between ages 0-16 is 49%\n"
     ]
    }
   ],
   "source": [
    "print ('The % children between ages 0-16 is {}%'.format(round(np.sum(counts[:16])/(np.sum(counts[:16])+np.sum(counts[16:]))*100)))"
   ]
  },
  {
   "cell_type": "markdown",
   "metadata": {},
   "source": [
    "## Households"
   ]
  },
  {
   "cell_type": "markdown",
   "metadata": {},
   "source": [
    "In this model, we will use the term 'family' and 'household' interchangeably. After populating the 'digital twin', we need to cluster people into families. To do this, we take account of age structure so that children live with adults, that there are some intergenerational households and such that we might also have some households of only adults."
   ]
  },
  {
   "cell_type": "markdown",
   "metadata": {},
   "source": [
    "### Household size distribution"
   ]
  },
  {
   "cell_type": "code",
   "execution_count": 21,
   "metadata": {},
   "outputs": [
    {
     "data": {
      "image/png": "[encoded data removed]",
      "text/plain": [
       "<Figure size 432x288 with 1 Axes>"
      ]
     },
     "metadata": {
      "needs_background": "light"
     },
     "output_type": "display_data"
    }
   ],
   "source": [
    "household_sizes = [household.size for household in world.households]\n",
    "plt.hist(household_sizes, density=True, bins=np.arange(0,12))\n",
    "plt.xlabel(\"Household size\")\n",
    "plt.ylabel(\"Frequency\")\n",
    "plt.axvline(np.mean(household_sizes), color=\"cyan\")\n",
    "plt.text(8, 0.150, f\"Avg. size: {(np.mean(household_sizes)):.2f}\")\n",
    "plt.show()"
   ]
  },
  {
   "cell_type": "markdown",
   "metadata": {},
   "source": [
    "# Shelters"
   ]
  },
  {
   "cell_type": "markdown",
   "metadata": {},
   "source": [
    "Shelters house people in the camp. Since we know that families (houseohlds) often share shelters with other families, we can set the `sharing_shelter_ratio` to cluster families into shared shelters."
   ]
  },
  {
   "cell_type": "code",
   "execution_count": 22,
   "metadata": {},
   "outputs": [],
   "source": [
    "Shelters.Get_Interaction(Interactions_File_Path)\n",
    "world.shelters = Shelters.for_areas(world.areas)\n",
    "shelter_distributor = ShelterDistributor(sharing_shelter_ratio = 0.75) # proportion of families that share a shelter\n",
    "for area in world.areas:\n",
    "    shelter_distributor.distribute_people_in_shelters(area.shelters, area.households)"
   ]
  },
  {
   "cell_type": "code",
   "execution_count": 23,
   "metadata": {},
   "outputs": [
    {
     "data": {
      "image/png": "[encoded data removed]",
      "text/plain": [
       "<Figure size 576x216 with 2 Axes>"
      ]
     },
     "metadata": {
      "needs_background": "light"
     },
     "output_type": "display_data"
    }
   ],
   "source": [
    "fig, ax = plt.subplots(1, 2, figsize=(8,3))\n",
    "shelter_sizes = [shelter.size for shelter in world.shelters]\n",
    "shelter_families = [shelter.n_families for shelter in world.shelters]\n",
    "ax[0].hist(shelter_sizes)\n",
    "ax[0].set_title(\"Shelter size\")\n",
    "shelter_families = {1 : len([shelter for shelter in world.shelters if shelter.n_families == 1]),\n",
    "                    2 : len([shelter for shelter in world.shelters if shelter.n_families == 2])}\n",
    "ax[1].bar(shelter_families.keys(), shelter_families.values())\n",
    "ax[1].set_title(\"# families per shelter\")\n",
    "plt.show()"
   ]
  },
  {
   "cell_type": "markdown",
   "metadata": {},
   "source": [
    "## Activity exploration"
   ]
  },
  {
   "cell_type": "markdown",
   "metadata": {},
   "source": [
    "Once different activity locations are seeded in the 'digital twin' we can explore how many there are in different areas of the twin, and their coordinates to check they've all been added correctly."
   ]
  },
  {
   "cell_type": "markdown",
   "metadata": {},
   "source": [
    "### Pumps and latrines "
   ]
  },
  {
   "cell_type": "code",
   "execution_count": 24,
   "metadata": {},
   "outputs": [],
   "source": [
    "pumps_and_latrines = []\n",
    "for pump_latrine in world.areas.members[0].pump_latrines:\n",
    "    pumps_and_latrines.append(pump_latrine)"
   ]
  },
  {
   "cell_type": "code",
   "execution_count": 25,
   "metadata": {},
   "outputs": [
    {
     "name": "stdout",
     "output_type": "stream",
     "text": [
      "There are 2 pumps and latrines in area CXB-219-001\n"
     ]
    }
   ],
   "source": [
    "print ('There are {} pumps and latrines in area {}'.format(len(pumps_and_latrines), world.areas.members[0].name))"
   ]
  },
  {
   "cell_type": "markdown",
   "metadata": {},
   "source": [
    "### Informal work"
   ]
  },
  {
   "cell_type": "code",
   "execution_count": 26,
   "metadata": {},
   "outputs": [],
   "source": [
    "Informal_work_Sites = []\n",
    "for informal_work in world.areas.members[0].informal_works:\n",
    "    Informal_work_Sites.append(informal_work)"
   ]
  },
  {
   "cell_type": "code",
   "execution_count": 27,
   "metadata": {},
   "outputs": [
    {
     "name": "stdout",
     "output_type": "stream",
     "text": [
      "There are 2 informal work sites in area CXB-219-001\n"
     ]
    }
   ],
   "source": [
    "print ('There are {} informal work sites in area {}'.format(len(Informal_work_Sites), world.areas.members[0].name))"
   ]
  },
  {
   "cell_type": "markdown",
   "metadata": {},
   "source": [
    "### Distribution centers"
   ]
  },
  {
   "cell_type": "code",
   "execution_count": 28,
   "metadata": {},
   "outputs": [],
   "source": [
    "distribution_centers = []\n",
    "for center in world.distribution_centers:\n",
    "    distribution_centers.append(center)"
   ]
  },
  {
   "cell_type": "code",
   "execution_count": 29,
   "metadata": {},
   "outputs": [
    {
     "data": {
      "text/plain": [
       "array([21.2136    , 92.15678833])"
      ]
     },
     "execution_count": 29,
     "metadata": {},
     "output_type": "execute_result"
    }
   ],
   "source": [
    "distribution_centers[0].coordinates"
   ]
  },
  {
   "cell_type": "markdown",
   "metadata": {},
   "source": [
    "### Non-food Distribution centers"
   ]
  },
  {
   "cell_type": "code",
   "execution_count": 30,
   "metadata": {},
   "outputs": [],
   "source": [
    "non_food_distribution_centers = []\n",
    "for center in world.n_f_distribution_centers:\n",
    "    non_food_distribution_centers.append(center)"
   ]
  },
  {
   "cell_type": "code",
   "execution_count": 31,
   "metadata": {},
   "outputs": [
    {
     "data": {
      "text/plain": [
       "array([21.21268167, 92.1438    ])"
      ]
     },
     "execution_count": 31,
     "metadata": {},
     "output_type": "execute_result"
    }
   ],
   "source": [
    "non_food_distribution_centers[0].coordinates"
   ]
  },
  {
   "cell_type": "markdown",
   "metadata": {},
   "source": [
    "### E-Voucher outlets"
   ]
  },
  {
   "cell_type": "code",
   "execution_count": 32,
   "metadata": {},
   "outputs": [],
   "source": [
    "e_voucher_outlets = []\n",
    "for center in world.e_vouchers:\n",
    "    e_voucher_outlets.append(center)"
   ]
  },
  {
   "cell_type": "code",
   "execution_count": 33,
   "metadata": {},
   "outputs": [
    {
     "data": {
      "text/plain": [
       "array([21.212945, 92.142915])"
      ]
     },
     "execution_count": 33,
     "metadata": {},
     "output_type": "execute_result"
    }
   ],
   "source": [
    "e_voucher_outlets[0].coordinates"
   ]
  },
  {
   "cell_type": "markdown",
   "metadata": {},
   "source": [
    "### Communal spaces"
   ]
  },
  {
   "cell_type": "code",
   "execution_count": 34,
   "metadata": {},
   "outputs": [],
   "source": [
    "communal_spaces = []\n",
    "for space in world.communals:\n",
    "    communal_spaces.append(space)"
   ]
  },
  {
   "cell_type": "code",
   "execution_count": 35,
   "metadata": {},
   "outputs": [
    {
     "data": {
      "text/plain": [
       "array([21.19508, 92.16525])"
      ]
     },
     "execution_count": 35,
     "metadata": {},
     "output_type": "execute_result"
    }
   ],
   "source": [
    "communal_spaces[0].coordinates"
   ]
  },
  {
   "cell_type": "markdown",
   "metadata": {},
   "source": [
    "### Female friendly communal spaces"
   ]
  },
  {
   "cell_type": "code",
   "execution_count": 36,
   "metadata": {},
   "outputs": [],
   "source": [
    "female_communal_spaces = []\n",
    "for space in world.female_communals:\n",
    "    female_communal_spaces.append(space)"
   ]
  },
  {
   "cell_type": "code",
   "execution_count": 37,
   "metadata": {},
   "outputs": [
    {
     "data": {
      "text/plain": [
       "array([21.20686305, 92.16070923])"
      ]
     },
     "execution_count": 37,
     "metadata": {},
     "output_type": "execute_result"
    }
   ],
   "source": [
    "female_communal_spaces[0].coordinates"
   ]
  },
  {
   "cell_type": "markdown",
   "metadata": {},
   "source": [
    "### Religious sites"
   ]
  },
  {
   "cell_type": "code",
   "execution_count": 38,
   "metadata": {},
   "outputs": [],
   "source": [
    "religious = []\n",
    "for rel in world.religiouss:\n",
    "    religious.append(rel)"
   ]
  },
  {
   "cell_type": "code",
   "execution_count": 39,
   "metadata": {},
   "outputs": [
    {
     "data": {
      "text/plain": [
       "array([21.21804605, 92.1546829 ])"
      ]
     },
     "execution_count": 39,
     "metadata": {},
     "output_type": "execute_result"
    }
   ],
   "source": [
    "religious[0].coordinates"
   ]
  },
  {
   "cell_type": "markdown",
   "metadata": {},
   "source": [
    "# Adding the infection"
   ]
  },
  {
   "cell_type": "markdown",
   "metadata": {},
   "source": [
    "The selector handles how infections are handled in the code. You can set different 'symptom trajectories' (e.g. exposed->mild->severe->hospitalised->intensive care) from different files. Here, we use the default."
   ]
  },
  {
   "cell_type": "code",
   "execution_count": 40,
   "metadata": {},
   "outputs": [],
   "source": [
    "selector = InfectionSelector.from_file()"
   ]
  },
  {
   "cell_type": "code",
   "execution_count": 41,
   "metadata": {},
   "outputs": [],
   "source": [
    "selectors = InfectionSelectors([selector])"
   ]
  },
  {
   "cell_type": "markdown",
   "metadata": {},
   "source": [
    "# Adding the interaction"
   ]
  },
  {
   "cell_type": "markdown",
   "metadata": {},
   "source": [
    "The interaction class handles how many contacts people have in different locations and with who. If contact matrices are available, these can be coded in a `.yaml` file and fed into the class here."
   ]
  },
  {
   "cell_type": "code",
   "execution_count": 42,
   "metadata": {},
   "outputs": [],
   "source": [
    "interaction = Interaction.from_file(\n",
    "    config_filename=Interactions_File_Path,\n",
    ")"
   ]
  },
  {
   "cell_type": "markdown",
   "metadata": {},
   "source": [
    "# Set policies"
   ]
  },
  {
   "cell_type": "markdown",
   "metadata": {},
   "source": [
    "Policies control how 'operational interventions' are set in the camp. Here we set some social distancing policies, policies relating to medical care, such as people with severe symptoms being hospitalised, and individual and activity policies which can dynamically change how often and where people go, e.g. here, we close all female communal spaces and non-food distirbution centers which the camp did back in March"
   ]
  },
  {
   "cell_type": "code",
   "execution_count": 43,
   "metadata": {},
   "outputs": [],
   "source": [
    "policies = Policies.from_file(\n",
    "        Policies_File_Path,\n",
    "        base_policy_modules=(\"june.policy\", \"camps.policy\"),\n",
    "    )"
   ]
  },
  {
   "cell_type": "code",
   "execution_count": 44,
   "metadata": {},
   "outputs": [
    {
     "data": {
      "text/plain": [
       "[<june.policy.interaction_policies.SocialDistancing at 0x7fc59230b1f0>,\n",
       " <june.policy.medical_care_policies.Hospitalisation at 0x7fc59241fbe0>,\n",
       " <june.policy.individual_policies.SevereSymptomsStayHome at 0x7fc59241ff40>,\n",
       " <june.policy.individual_policies.Quarantine at 0x7fc59241fbb0>]"
      ]
     },
     "execution_count": 44,
     "metadata": {},
     "output_type": "execute_result"
    }
   ],
   "source": [
    "policies.policies"
   ]
  },
  {
   "cell_type": "markdown",
   "metadata": {},
   "source": [
    "# Seed the disease"
   ]
  },
  {
   "cell_type": "markdown",
   "metadata": {},
   "source": [
    "Set intial seeding conditions. This can be done at the camp level specifically, or generally by seeding them randomly. Here the `n_cases` is the number of randomly seeded people over the entire population."
   ]
  },
  {
   "cell_type": "code",
   "execution_count": 45,
   "metadata": {},
   "outputs": [],
   "source": [
    "infection_seed = InfectionSeed.from_uniform_cases(\n",
    "    world=world, infection_selector=selector, cases_per_capita=0.01, date=\"2020-05-24 9:00\", seed_past_infections=False,\n",
    ")"
   ]
  },
  {
   "cell_type": "code",
   "execution_count": 46,
   "metadata": {},
   "outputs": [],
   "source": [
    "infection_seeds = InfectionSeeds([infection_seed])"
   ]
  },
  {
   "cell_type": "code",
   "execution_count": 47,
   "metadata": {},
   "outputs": [],
   "source": [
    "immunity_setter = ImmunitySetter.from_file_with_comorbidities(\n",
    "    comorbidity_multipliers_path= comorbidity_multipliers_path,\n",
    "    male_comorbidity_reference_prevalence_path= male_comorbidity_reference_prevalence_path,\n",
    "    female_comorbidity_reference_prevalence_path = female_comorbidity_reference_prevalence_path,   \n",
    ")"
   ]
  },
  {
   "cell_type": "code",
   "execution_count": 48,
   "metadata": {},
   "outputs": [],
   "source": [
    "epidemiology = Epidemiology(\n",
    "    infection_selectors=selectors,\n",
    "    infection_seeds=infection_seeds,\n",
    "    immunity_setter=immunity_setter,\n",
    ")"
   ]
  },
  {
   "cell_type": "markdown",
   "metadata": {},
   "source": [
    "## Select config file"
   ]
  },
  {
   "cell_type": "markdown",
   "metadata": {},
   "source": [
    "Before running the simualtion we must select the config file which defines how the world is set up and the simualtor will work. Specifically, the condif file specifies which activities will be included, how long we'll run the simualtion for, what the initial starting day will be and what the structure of weekdays and weekends will look like (if different)"
   ]
  },
  {
   "cell_type": "code",
   "execution_count": 49,
   "metadata": {},
   "outputs": [],
   "source": [
    "CONFIG_PATH = Config_File_Path"
   ]
  },
  {
   "cell_type": "markdown",
   "metadata": {},
   "source": [
    "# Initialise activities"
   ]
  },
  {
   "cell_type": "markdown",
   "metadata": {},
   "source": [
    "The final step to intialising the simulator class which brings all of this together is to inialise all the activity distirbutors (the term 'leisure' is a legacy of the original version of this code used for modelling COVID-19 in the UK). This will mean that people know where they can go at and given time."
   ]
  },
  {
   "cell_type": "code",
   "execution_count": 50,
   "metadata": {},
   "outputs": [
    {
     "name": "stdout",
     "output_type": "stream",
     "text": [
      "2022-07-04 11:49:22,382 - leisure - INFO - Linking households and care homes for visits\n",
      "2022-07-04 11:49:22,383 - leisure - INFO - Done\n",
      "2022-07-04 11:49:22,383 - leisure - INFO - Distributing social venues to areas\n",
      "2022-07-04 11:49:22,384 - leisure - INFO - Distributed in 0 of 65 areas.\n",
      "2022-07-04 11:49:22,486 - leisure - INFO - Distributed in 65 of 65 areas.\n"
     ]
    }
   ],
   "source": [
    "leisure = generate_leisure_for_config(world=world, config_filename=CONFIG_PATH)\n",
    "# associate social activities to shelters\n",
    "leisure.distribute_social_venues_to_areas(world.areas, world.super_areas)"
   ]
  },
  {
   "cell_type": "markdown",
   "metadata": {},
   "source": [
    "# Initialise simulator and run"
   ]
  },
  {
   "cell_type": "markdown",
   "metadata": {},
   "source": [
    "The recorder is defined which will log all interactions and infections in the simualation for later analysis. The `record_path` can be changed to any path where you want the recorded data to be stored."
   ]
  },
  {
   "cell_type": "code",
   "execution_count": 51,
   "metadata": {},
   "outputs": [],
   "source": [
    "record = Record(\n",
    "    record_path=Results_Path, \n",
    "    record_static_data=True\n",
    ")\n"
   ]
  },
  {
   "cell_type": "markdown",
   "metadata": {},
   "source": [
    "The simulator is defined with all the different necessary components we have built up so far"
   ]
  },
  {
   "cell_type": "code",
   "execution_count": 52,
   "metadata": {},
   "outputs": [],
   "source": [
    "Simulator.ActivityManager = CampActivityManager\n",
    "simulator = Simulator.from_file(\n",
    "    world=world,\n",
    "    interaction=interaction,\n",
    "    tracker=None,\n",
    "    leisure=leisure,\n",
    "    policies=policies,\n",
    "    config_filename=CONFIG_PATH,\n",
    "    epidemiology=epidemiology,\n",
    "    record=record,\n",
    ")"
   ]
  },
  {
   "cell_type": "markdown",
   "metadata": {},
   "source": [
    "Finally we can run a small simualation"
   ]
  },
  {
   "cell_type": "code",
   "execution_count": 53,
   "metadata": {
    "scrolled": true
   },
   "outputs": [
    {
     "name": "stdout",
     "output_type": "stream",
     "text": [
      "2022-07-04 11:49:22,805 - simulator - INFO - Starting simulation for 7 days at day 2020-05-24 09:00:00,to run for 7 days\n",
      "2022-07-04 11:49:23,075 - seed - INFO - Seeding Covid19 infections at date 2020-05-24\n",
      "2022-07-04 11:49:23,480 - rank - INFO - Next timestep\n",
      "2022-07-04 11:49:23,481 - simulator - INFO - ==================== timestep ====================\n",
      "2022-07-04 11:49:23,654 - rank - INFO - Rank 0 -- move_people -- 0.17263807099971018\n",
      "2022-07-04 11:49:23,655 - rank - INFO - Rank 0 -- move_people_waiting -- 8.247000550909434e-06\n",
      "2022-07-04 11:49:23,656 - activity_manager - INFO - CMS: People COMS for rank 0/1 - 4.40399981016526e-06,4.0531158447265625e-06 - 2020-05-24 09:00:00\n",
      "2022-07-04 11:49:23,661 - simulator - INFO - Info for rank 0, Date = 2020-05-24 09:00:00, number of deaths =  0, number of infected = 225\n",
      "2022-07-04 11:49:23,739 - rank - INFO - Rank 0 -- interaction -- 0.08211725700039096\n",
      "2022-07-04 11:49:23,740 - rank - INFO - Rank 0 -- tracker -- 2.5769995772861876e-06\n",
      "2022-07-04 11:49:23,742 - epidemiology - INFO - CMS: Infection COMS-v2 for rank 0/1(2)0.0015247199999066652,0.0015249252319335938 - 2020-05-24 09:00:00\n",
      "2022-07-04 11:49:23,872 - rank - INFO - Rank 0 -- interaction_waiting -- 1.3435000255412888e-05\n",
      "2022-07-04 11:49:23,890 - simulator - INFO - CMS: Timestep for rank 0/1 - 0.4081008560006012,0.40810179710388184 - 2020-05-24 09:00:00\n",
      "\n",
      "2022-07-04 11:49:23,891 - rank - INFO - Next timestep\n",
      "2022-07-04 11:49:23,892 - simulator - INFO - ==================== timestep ====================\n",
      "2022-07-04 11:49:25,111 - rank - INFO - Rank 0 -- move_people -- 1.2182762519996686\n",
      "2022-07-04 11:49:25,112 - rank - INFO - Rank 0 -- move_people_waiting -- 4.643000465875957e-06\n",
      "2022-07-04 11:49:25,114 - activity_manager - INFO - CMS: People COMS for rank 0/1 - 4.482999429455958e-06,3.814697265625e-06 - 2020-05-24 11:00:00\n",
      "2022-07-04 11:49:25,121 - simulator - INFO - Info for rank 0, Date = 2020-05-24 11:00:00, number of deaths =  0, number of infected = 225\n",
      "2022-07-04 11:49:25,240 - rank - INFO - Rank 0 -- interaction -- 0.12495255900012125\n",
      "2022-07-04 11:49:25,240 - rank - INFO - Rank 0 -- tracker -- 1.934000465553254e-06\n",
      "2022-07-04 11:49:25,245 - epidemiology - INFO - CMS: Infection COMS-v2 for rank 0/1(2)0.0011017410006388673,0.0011017322540283203 - 2020-05-24 11:00:00\n",
      "2022-07-04 11:49:25,276 - rank - INFO - Rank 0 -- interaction_waiting -- 7.437999556714203e-06\n",
      "2022-07-04 11:49:25,288 - simulator - INFO - CMS: Timestep for rank 0/1 - 1.3955225560002873,1.3955225944519043 - 2020-05-24 11:00:00\n",
      "\n",
      "2022-07-04 11:49:25,289 - rank - INFO - Next timestep\n",
      "2022-07-04 11:49:25,290 - simulator - INFO - ==================== timestep ====================\n",
      "2022-07-04 11:49:26,056 - rank - INFO - Rank 0 -- move_people -- 0.7652488909998283\n",
      "2022-07-04 11:49:26,057 - rank - INFO - Rank 0 -- move_people_waiting -- 4.841000190936029e-06\n",
      "2022-07-04 11:49:26,058 - activity_manager - INFO - CMS: People COMS for rank 0/1 - 4.54400014859857e-06,4.0531158447265625e-06 - 2020-05-24 13:00:00\n",
      "2022-07-04 11:49:26,066 - simulator - INFO - Info for rank 0, Date = 2020-05-24 13:00:00, number of deaths =  0, number of infected = 230\n",
      "2022-07-04 11:49:26,201 - rank - INFO - Rank 0 -- interaction -- 0.14170310699955735\n",
      "2022-07-04 11:49:26,202 - rank - INFO - Rank 0 -- tracker -- 2.229000529041514e-06\n",
      "2022-07-04 11:49:26,207 - epidemiology - INFO - CMS: Infection COMS-v2 for rank 0/1(2)0.0017508800001451164,0.0017514228820800781 - 2020-05-24 13:00:00\n",
      "2022-07-04 11:49:26,247 - rank - INFO - Rank 0 -- interaction_waiting -- 2.1357999685278628e-05\n",
      "2022-07-04 11:49:26,262 - simulator - INFO - CMS: Timestep for rank 0/1 - 0.9709189169998353,0.9709196090698242 - 2020-05-24 13:00:00\n",
      "\n",
      "2022-07-04 11:49:26,264 - rank - INFO - Next timestep\n",
      "2022-07-04 11:49:26,265 - simulator - INFO - ==================== timestep ====================\n",
      "2022-07-04 11:49:26,991 - rank - INFO - Rank 0 -- move_people -- 0.7250599849994614\n",
      "2022-07-04 11:49:26,991 - rank - INFO - Rank 0 -- move_people_waiting -- 6.068999937269837e-06\n",
      "2022-07-04 11:49:26,992 - activity_manager - INFO - CMS: People COMS for rank 0/1 - 3.840999852400273e-06,3.337860107421875e-06 - 2020-05-24 15:00:00\n",
      "2022-07-04 11:49:26,997 - simulator - INFO - Info for rank 0, Date = 2020-05-24 15:00:00, number of deaths =  0, number of infected = 234\n",
      "2022-07-04 11:49:27,113 - rank - INFO - Rank 0 -- interaction -- 0.12011569199967198\n",
      "2022-07-04 11:49:27,114 - rank - INFO - Rank 0 -- tracker -- 2.1010000637033954e-06\n",
      "2022-07-04 11:49:27,124 - epidemiology - INFO - CMS: Infection COMS-v2 for rank 0/1(2)0.0016258560008282075,0.0016255378723144531 - 2020-05-24 15:00:00\n",
      "2022-07-04 11:49:27,165 - rank - INFO - Rank 0 -- interaction_waiting -- 7.67800065659685e-06\n",
      "2022-07-04 11:49:27,177 - simulator - INFO - CMS: Timestep for rank 0/1 - 0.9116935919992102,0.9116940498352051 - 2020-05-24 15:00:00\n",
      "\n",
      "2022-07-04 11:49:27,178 - rank - INFO - Next timestep\n",
      "2022-07-04 11:49:27,179 - simulator - INFO - ==================== timestep ====================\n",
      "2022-07-04 11:49:27,919 - rank - INFO - Rank 0 -- move_people -- 0.7390192229995591\n",
      "2022-07-04 11:49:27,919 - rank - INFO - Rank 0 -- move_people_waiting -- 6.764000318071339e-06\n",
      "2022-07-04 11:49:27,921 - activity_manager - INFO - CMS: People COMS for rank 0/1 - 5.443999725684989e-06,5.245208740234375e-06 - 2020-05-24 17:00:00\n",
      "2022-07-04 11:49:27,926 - simulator - INFO - Info for rank 0, Date = 2020-05-24 17:00:00, number of deaths =  0, number of infected = 245\n",
      "2022-07-04 11:49:28,059 - rank - INFO - Rank 0 -- interaction -- 0.13725050299944996\n",
      "2022-07-04 11:49:28,060 - rank - INFO - Rank 0 -- tracker -- 2.3000002329354174e-06\n",
      "2022-07-04 11:49:28,067 - epidemiology - INFO - CMS: Infection COMS-v2 for rank 0/1(2)0.002056225999695016,0.0020563602447509766 - 2020-05-24 17:00:00\n",
      "2022-07-04 11:49:28,105 - rank - INFO - Rank 0 -- interaction_waiting -- 7.92700029705884e-06\n",
      "2022-07-04 11:49:28,118 - simulator - INFO - CMS: Timestep for rank 0/1 - 0.9385447670001668,0.9385454654693604 - 2020-05-24 17:00:00\n",
      "\n",
      "2022-07-04 11:49:28,119 - rank - INFO - Next timestep\n",
      "2022-07-04 11:49:28,120 - simulator - INFO - ==================== timestep ====================\n",
      "2022-07-04 11:49:28,285 - rank - INFO - Rank 0 -- move_people -- 0.16476939999938622\n",
      "2022-07-04 11:49:28,286 - rank - INFO - Rank 0 -- move_people_waiting -- 7.571999958599918e-06\n",
      "2022-07-04 11:49:28,287 - activity_manager - INFO - CMS: People COMS for rank 0/1 - 3.6170004023006186e-06,3.337860107421875e-06 - 2020-05-24 19:00:00\n",
      "2022-07-04 11:49:28,295 - simulator - INFO - Info for rank 0, Date = 2020-05-24 19:00:00, number of deaths =  0, number of infected = 252\n",
      "2022-07-04 11:49:28,400 - rank - INFO - Rank 0 -- interaction -- 0.11224481099998229\n",
      "2022-07-04 11:49:28,400 - rank - INFO - Rank 0 -- tracker -- 2.361999577260576e-06\n",
      "2022-07-04 11:49:28,416 - epidemiology - INFO - CMS: Infection COMS-v2 for rank 0/1(2)0.0003356560000611353,0.0003349781036376953 - 2020-05-24 19:00:00\n",
      "2022-07-04 11:49:28,450 - rank - INFO - Rank 0 -- interaction_waiting -- 8.013000297069084e-06\n",
      "2022-07-04 11:49:28,463 - simulator - INFO - CMS: Timestep for rank 0/1 - 0.342117223999594,0.3421177864074707 - 2020-05-24 19:00:00\n",
      "\n",
      "2022-07-04 11:49:28,465 - rank - INFO - Next timestep\n",
      "2022-07-04 11:49:28,466 - simulator - INFO - ==================== timestep ====================\n",
      "2022-07-04 11:49:28,654 - rank - INFO - Rank 0 -- move_people -- 0.18704575399988244\n",
      "2022-07-04 11:49:28,655 - rank - INFO - Rank 0 -- move_people_waiting -- 4.3239997467026114e-06\n",
      "2022-07-04 11:49:28,655 - activity_manager - INFO - CMS: People COMS for rank 0/1 - 5.329000487108715e-06,5.0067901611328125e-06 - 2020-05-25 09:00:00\n",
      "2022-07-04 11:49:28,661 - simulator - INFO - Info for rank 0, Date = 2020-05-25 09:00:00, number of deaths =  0, number of infected = 274\n",
      "2022-07-04 11:49:28,738 - rank - INFO - Rank 0 -- interaction -- 0.08163301900003717\n",
      "2022-07-04 11:49:28,739 - rank - INFO - Rank 0 -- tracker -- 2.750000021478627e-06\n",
      "2022-07-04 11:49:28,745 - epidemiology - INFO - CMS: Infection COMS-v2 for rank 0/1(2)0.0011204799993720371,0.0011200904846191406 - 2020-05-25 09:00:00\n",
      "2022-07-04 11:49:28,781 - rank - INFO - Rank 0 -- interaction_waiting -- 8.277999768324662e-06\n"
     ]
    },
    {
     "name": "stdout",
     "output_type": "stream",
     "text": [
      "2022-07-04 11:49:28,794 - simulator - INFO - CMS: Timestep for rank 0/1 - 0.32718415499948605,0.32718515396118164 - 2020-05-25 09:00:00\n",
      "\n",
      "2022-07-04 11:49:28,797 - rank - INFO - Next timestep\n",
      "2022-07-04 11:49:28,797 - simulator - INFO - ==================== timestep ====================\n",
      "2022-07-04 11:49:29,496 - rank - INFO - Rank 0 -- move_people -- 0.6977676189999329\n",
      "2022-07-04 11:49:29,497 - rank - INFO - Rank 0 -- move_people_waiting -- 7.609000022057444e-06\n",
      "2022-07-04 11:49:29,497 - activity_manager - INFO - CMS: People COMS for rank 0/1 - 3.203000233042985e-06,2.86102294921875e-06 - 2020-05-25 11:00:00\n",
      "2022-07-04 11:49:29,504 - simulator - INFO - Info for rank 0, Date = 2020-05-25 11:00:00, number of deaths =  0, number of infected = 278\n",
      "2022-07-04 11:49:29,654 - rank - INFO - Rank 0 -- interaction -- 0.15586683099991205\n",
      "2022-07-04 11:49:29,655 - rank - INFO - Rank 0 -- tracker -- 2.576000042608939e-06\n",
      "2022-07-04 11:49:29,667 - epidemiology - INFO - CMS: Infection COMS-v2 for rank 0/1(2)0.0004007030001957901,0.00040030479431152344 - 2020-05-25 11:00:00\n",
      "2022-07-04 11:49:29,713 - rank - INFO - Rank 0 -- interaction_waiting -- 9.275999218516517e-06\n",
      "2022-07-04 11:49:29,731 - simulator - INFO - CMS: Timestep for rank 0/1 - 0.9328967089995785,0.9328973293304443 - 2020-05-25 11:00:00\n",
      "\n",
      "2022-07-04 11:49:29,734 - rank - INFO - Next timestep\n",
      "2022-07-04 11:49:29,735 - simulator - INFO - ==================== timestep ====================\n",
      "2022-07-04 11:49:30,439 - rank - INFO - Rank 0 -- move_people -- 0.7025608419999116\n",
      "2022-07-04 11:49:30,440 - rank - INFO - Rank 0 -- move_people_waiting -- 6.123999810370151e-06\n",
      "2022-07-04 11:49:30,440 - activity_manager - INFO - CMS: People COMS for rank 0/1 - 3.944999662053306e-06,3.337860107421875e-06 - 2020-05-25 13:00:00\n",
      "2022-07-04 11:49:30,446 - simulator - INFO - Info for rank 0, Date = 2020-05-25 13:00:00, number of deaths =  0, number of infected = 298\n",
      "2022-07-04 11:49:30,578 - rank - INFO - Rank 0 -- interaction -- 0.13652395000008255\n",
      "2022-07-04 11:49:30,579 - rank - INFO - Rank 0 -- tracker -- 2.847000359906815e-06\n",
      "2022-07-04 11:49:30,584 - epidemiology - INFO - CMS: Infection COMS-v2 for rank 0/1(2)0.0003613600001699524,0.0003609657287597656 - 2020-05-25 13:00:00\n",
      "2022-07-04 11:49:30,621 - rank - INFO - Rank 0 -- interaction_waiting -- 7.460999768227339e-06\n",
      "2022-07-04 11:49:30,633 - simulator - INFO - CMS: Timestep for rank 0/1 - 0.8969076680004946,0.8969089984893799 - 2020-05-25 13:00:00\n",
      "\n",
      "2022-07-04 11:49:30,636 - rank - INFO - Next timestep\n",
      "2022-07-04 11:49:30,637 - simulator - INFO - ==================== timestep ====================\n",
      "2022-07-04 11:49:31,460 - rank - INFO - Rank 0 -- move_people -- 0.822557708000204\n",
      "2022-07-04 11:49:31,461 - rank - INFO - Rank 0 -- move_people_waiting -- 7.014999937382527e-06\n",
      "2022-07-04 11:49:31,461 - activity_manager - INFO - CMS: People COMS for rank 0/1 - 3.872999513987452e-06,3.5762786865234375e-06 - 2020-05-25 15:00:00\n",
      "2022-07-04 11:49:31,466 - simulator - INFO - Info for rank 0, Date = 2020-05-25 15:00:00, number of deaths =  0, number of infected = 306\n",
      "2022-07-04 11:49:31,583 - rank - INFO - Rank 0 -- interaction -- 0.12095661999956064\n",
      "2022-07-04 11:49:31,584 - rank - INFO - Rank 0 -- tracker -- 2.4410001060459763e-06\n",
      "2022-07-04 11:49:31,588 - epidemiology - INFO - CMS: Infection COMS-v2 for rank 0/1(2)0.0006533820005643065,0.0006530284881591797 - 2020-05-25 15:00:00\n",
      "2022-07-04 11:49:31,624 - rank - INFO - Rank 0 -- interaction_waiting -- 6.860999747004826e-06\n",
      "2022-07-04 11:49:31,638 - simulator - INFO - CMS: Timestep for rank 0/1 - 1.0008147799999279,1.0008158683776855 - 2020-05-25 15:00:00\n",
      "\n",
      "2022-07-04 11:49:31,641 - rank - INFO - Next timestep\n",
      "2022-07-04 11:49:31,641 - simulator - INFO - ==================== timestep ====================\n",
      "2022-07-04 11:49:32,403 - rank - INFO - Rank 0 -- move_people -- 0.7608874479992664\n",
      "2022-07-04 11:49:32,404 - rank - INFO - Rank 0 -- move_people_waiting -- 4.989000444766134e-06\n",
      "2022-07-04 11:49:32,405 - activity_manager - INFO - CMS: People COMS for rank 0/1 - 3.504000233078841e-06,3.337860107421875e-06 - 2020-05-25 17:00:00\n",
      "2022-07-04 11:49:32,410 - simulator - INFO - Info for rank 0, Date = 2020-05-25 17:00:00, number of deaths =  0, number of infected = 313\n",
      "2022-07-04 11:49:32,544 - rank - INFO - Rank 0 -- interaction -- 0.13862337000045954\n",
      "2022-07-04 11:49:32,545 - rank - INFO - Rank 0 -- tracker -- 2.2340000214171596e-06\n",
      "2022-07-04 11:49:32,551 - epidemiology - INFO - CMS: Infection COMS-v2 for rank 0/1(2)0.00026874299965129467,0.0002677440643310547 - 2020-05-25 17:00:00\n",
      "2022-07-04 11:49:32,591 - rank - INFO - Rank 0 -- interaction_waiting -- 7.61399951443309e-06\n",
      "2022-07-04 11:49:32,605 - simulator - INFO - CMS: Timestep for rank 0/1 - 0.9628739560002941,0.9628756046295166 - 2020-05-25 17:00:00\n",
      "\n",
      "2022-07-04 11:49:32,608 - rank - INFO - Next timestep\n",
      "2022-07-04 11:49:32,609 - simulator - INFO - ==================== timestep ====================\n",
      "2022-07-04 11:49:32,772 - rank - INFO - Rank 0 -- move_people -- 0.16212468499998067\n",
      "2022-07-04 11:49:32,773 - rank - INFO - Rank 0 -- move_people_waiting -- 6.601000677619595e-06\n",
      "2022-07-04 11:49:32,774 - activity_manager - INFO - CMS: People COMS for rank 0/1 - 3.6770006772712804e-06,3.337860107421875e-06 - 2020-05-25 19:00:00\n",
      "2022-07-04 11:49:32,779 - simulator - INFO - Info for rank 0, Date = 2020-05-25 19:00:00, number of deaths =  0, number of infected = 324\n",
      "2022-07-04 11:49:32,863 - rank - INFO - Rank 0 -- interaction -- 0.08807534700008546\n",
      "2022-07-04 11:49:32,863 - rank - INFO - Rank 0 -- tracker -- 2.064000000245869e-06\n",
      "2022-07-04 11:49:32,894 - epidemiology - INFO - CMS: Infection COMS-v2 for rank 0/1(2)0.0009073609999177279,0.0009069442749023438 - 2020-05-25 19:00:00\n",
      "2022-07-04 11:49:32,932 - rank - INFO - Rank 0 -- interaction_waiting -- 7.04200010659406e-06\n",
      "2022-07-04 11:49:32,946 - simulator - INFO - CMS: Timestep for rank 0/1 - 0.33572642499984795,0.3357272148132324 - 2020-05-25 19:00:00\n",
      "\n",
      "2022-07-04 11:49:32,948 - rank - INFO - Next timestep\n",
      "2022-07-04 11:49:32,949 - simulator - INFO - ==================== timestep ====================\n",
      "2022-07-04 11:49:33,131 - rank - INFO - Rank 0 -- move_people -- 0.18081354799960536\n",
      "2022-07-04 11:49:33,131 - rank - INFO - Rank 0 -- move_people_waiting -- 6.3460001911153086e-06\n",
      "2022-07-04 11:49:33,132 - activity_manager - INFO - CMS: People COMS for rank 0/1 - 3.4240001696161926e-06,3.0994415283203125e-06 - 2020-05-26 09:00:00\n",
      "2022-07-04 11:49:33,140 - simulator - INFO - Info for rank 0, Date = 2020-05-26 09:00:00, number of deaths =  0, number of infected = 371\n",
      "2022-07-04 11:49:33,214 - rank - INFO - Rank 0 -- interaction -- 0.08130897800037928\n",
      "2022-07-04 11:49:33,216 - rank - INFO - Rank 0 -- tracker -- 3.610999556258321e-06\n",
      "2022-07-04 11:49:33,220 - epidemiology - INFO - CMS: Infection COMS-v2 for rank 0/1(2)0.0006462530000135303,0.0006463527679443359 - 2020-05-26 09:00:00\n",
      "2022-07-04 11:49:33,259 - rank - INFO - Rank 0 -- interaction_waiting -- 7.550999725935981e-06\n",
      "2022-07-04 11:49:33,272 - simulator - INFO - CMS: Timestep for rank 0/1 - 0.32186696999997366,0.3218679428100586 - 2020-05-26 09:00:00\n",
      "\n",
      "2022-07-04 11:49:33,274 - rank - INFO - Next timestep\n",
      "2022-07-04 11:49:33,275 - simulator - INFO - ==================== timestep ====================\n",
      "2022-07-04 11:49:34,072 - rank - INFO - Rank 0 -- move_people -- 0.7968375650007147\n",
      "2022-07-04 11:49:34,074 - rank - INFO - Rank 0 -- move_people_waiting -- 3.570000444597099e-06\n",
      "2022-07-04 11:49:34,074 - activity_manager - INFO - CMS: People COMS for rank 0/1 - 3.889000254275743e-06,3.5762786865234375e-06 - 2020-05-26 11:00:00\n",
      "2022-07-04 11:49:34,083 - simulator - INFO - Info for rank 0, Date = 2020-05-26 11:00:00, number of deaths =  0, number of infected = 374\n",
      "2022-07-04 11:49:34,261 - rank - INFO - Rank 0 -- interaction -- 0.18514019700069184\n",
      "2022-07-04 11:49:34,262 - rank - INFO - Rank 0 -- tracker -- 2.426000719424337e-06\n",
      "2022-07-04 11:49:34,273 - epidemiology - INFO - CMS: Infection COMS-v2 for rank 0/1(2)0.000398447999941709,0.00039839744567871094 - 2020-05-26 11:00:00\n",
      "2022-07-04 11:49:34,319 - rank - INFO - Rank 0 -- interaction_waiting -- 9.332999979960732e-06\n",
      "2022-07-04 11:49:34,332 - simulator - INFO - CMS: Timestep for rank 0/1 - 1.0565961439997409,1.0565977096557617 - 2020-05-26 11:00:00\n",
      "\n"
     ]
    },
    {
     "name": "stdout",
     "output_type": "stream",
     "text": [
      "2022-07-04 11:49:34,335 - rank - INFO - Next timestep\n",
      "2022-07-04 11:49:34,336 - simulator - INFO - ==================== timestep ====================\n",
      "2022-07-04 11:49:35,203 - rank - INFO - Rank 0 -- move_people -- 0.8656838870001593\n",
      "2022-07-04 11:49:35,204 - rank - INFO - Rank 0 -- move_people_waiting -- 7.378000191238243e-06\n",
      "2022-07-04 11:49:35,204 - activity_manager - INFO - CMS: People COMS for rank 0/1 - 3.4479999158065766e-06,3.337860107421875e-06 - 2020-05-26 13:00:00\n",
      "2022-07-04 11:49:35,212 - simulator - INFO - Info for rank 0, Date = 2020-05-26 13:00:00, number of deaths =  0, number of infected = 387\n",
      "2022-07-04 11:49:35,389 - rank - INFO - Rank 0 -- interaction -- 0.18469031099994027\n",
      "2022-07-04 11:49:35,391 - rank - INFO - Rank 0 -- tracker -- 3.049000042665284e-06\n",
      "2022-07-04 11:49:35,406 - epidemiology - INFO - CMS: Infection COMS-v2 for rank 0/1(2)0.00028306300009717233,0.00028252601623535156 - 2020-05-26 13:00:00\n",
      "2022-07-04 11:49:35,436 - rank - INFO - Rank 0 -- interaction_waiting -- 7.219000508484896e-06\n",
      "2022-07-04 11:49:35,448 - simulator - INFO - CMS: Timestep for rank 0/1 - 1.1112120739999227,1.111212968826294 - 2020-05-26 13:00:00\n",
      "\n",
      "2022-07-04 11:49:35,451 - rank - INFO - Next timestep\n",
      "2022-07-04 11:49:35,451 - simulator - INFO - ==================== timestep ====================\n",
      "2022-07-04 11:49:36,201 - rank - INFO - Rank 0 -- move_people -- 0.7492617749994679\n",
      "2022-07-04 11:49:36,203 - rank - INFO - Rank 0 -- move_people_waiting -- 3.995999577455223e-06\n",
      "2022-07-04 11:49:36,204 - activity_manager - INFO - CMS: People COMS for rank 0/1 - 4.6860004658810794e-06,4.0531158447265625e-06 - 2020-05-26 15:00:00\n",
      "2022-07-04 11:49:36,210 - simulator - INFO - Info for rank 0, Date = 2020-05-26 15:00:00, number of deaths =  0, number of infected = 406\n",
      "2022-07-04 11:49:36,355 - rank - INFO - Rank 0 -- interaction -- 0.1505256210002699\n",
      "2022-07-04 11:49:36,357 - rank - INFO - Rank 0 -- tracker -- 2.2719996195519343e-06\n",
      "2022-07-04 11:49:36,370 - epidemiology - INFO - CMS: Infection COMS-v2 for rank 0/1(2)0.000218531999962579,0.00021767616271972656 - 2020-05-26 15:00:00\n",
      "2022-07-04 11:49:36,404 - rank - INFO - Rank 0 -- interaction_waiting -- 1.1868999536090996e-05\n",
      "2022-07-04 11:49:36,418 - simulator - INFO - CMS: Timestep for rank 0/1 - 0.9657045739995738,0.965705394744873 - 2020-05-26 15:00:00\n",
      "\n",
      "2022-07-04 11:49:36,420 - rank - INFO - Next timestep\n",
      "2022-07-04 11:49:36,421 - simulator - INFO - ==================== timestep ====================\n",
      "2022-07-04 11:49:37,250 - rank - INFO - Rank 0 -- move_people -- 0.8277057440000135\n",
      "2022-07-04 11:49:37,250 - rank - INFO - Rank 0 -- move_people_waiting -- 3.45799981005257e-06\n",
      "2022-07-04 11:49:37,251 - activity_manager - INFO - CMS: People COMS for rank 0/1 - 3.952000042772852e-06,3.814697265625e-06 - 2020-05-26 17:00:00\n",
      "2022-07-04 11:49:37,259 - simulator - INFO - Info for rank 0, Date = 2020-05-26 17:00:00, number of deaths =  0, number of infected = 424\n",
      "2022-07-04 11:49:37,447 - rank - INFO - Rank 0 -- interaction -- 0.19368722799936222\n",
      "2022-07-04 11:49:37,447 - rank - INFO - Rank 0 -- tracker -- 2.4749997464823537e-06\n",
      "2022-07-04 11:49:37,454 - epidemiology - INFO - CMS: Infection COMS-v2 for rank 0/1(2)0.000764495999646897,0.0007641315460205078 - 2020-05-26 17:00:00\n",
      "2022-07-04 11:49:37,491 - rank - INFO - Rank 0 -- interaction_waiting -- 7.620999895152636e-06\n",
      "2022-07-04 11:49:37,503 - simulator - INFO - CMS: Timestep for rank 0/1 - 1.0813898189999236,1.081390380859375 - 2020-05-26 17:00:00\n",
      "\n",
      "2022-07-04 11:49:37,506 - rank - INFO - Next timestep\n",
      "2022-07-04 11:49:37,507 - simulator - INFO - ==================== timestep ====================\n",
      "2022-07-04 11:49:37,698 - rank - INFO - Rank 0 -- move_people -- 0.1905698789996677\n",
      "2022-07-04 11:49:37,699 - rank - INFO - Rank 0 -- move_people_waiting -- 7.796999852871522e-06\n",
      "2022-07-04 11:49:37,700 - activity_manager - INFO - CMS: People COMS for rank 0/1 - 4.139000338909682e-06,3.814697265625e-06 - 2020-05-26 19:00:00\n",
      "2022-07-04 11:49:37,706 - simulator - INFO - Info for rank 0, Date = 2020-05-26 19:00:00, number of deaths =  0, number of infected = 436\n",
      "2022-07-04 11:49:37,796 - rank - INFO - Rank 0 -- interaction -- 0.09515112200006115\n",
      "2022-07-04 11:49:37,797 - rank - INFO - Rank 0 -- tracker -- 2.3239999791258015e-06\n",
      "2022-07-04 11:49:37,832 - epidemiology - INFO - CMS: Infection COMS-v2 for rank 0/1(2)0.0002254859991808189,0.00022459030151367188 - 2020-05-26 19:00:00\n",
      "2022-07-04 11:49:37,865 - rank - INFO - Rank 0 -- interaction_waiting -- 7.646999620192219e-06\n",
      "2022-07-04 11:49:37,880 - simulator - INFO - CMS: Timestep for rank 0/1 - 0.37237846499920124,0.3723793029785156 - 2020-05-26 19:00:00\n",
      "\n",
      "2022-07-04 11:49:37,882 - rank - INFO - Next timestep\n",
      "2022-07-04 11:49:37,883 - simulator - INFO - ==================== timestep ====================\n",
      "2022-07-04 11:49:38,094 - rank - INFO - Rank 0 -- move_people -- 0.21045717299966782\n",
      "2022-07-04 11:49:38,095 - rank - INFO - Rank 0 -- move_people_waiting -- 8.512000022165012e-06\n",
      "2022-07-04 11:49:38,096 - activity_manager - INFO - CMS: People COMS for rank 0/1 - 3.340999683132395e-06,3.0994415283203125e-06 - 2020-05-27 09:00:00\n",
      "2022-07-04 11:49:38,103 - simulator - INFO - Info for rank 0, Date = 2020-05-27 09:00:00, number of deaths =  0, number of infected = 508\n",
      "2022-07-04 11:49:38,207 - rank - INFO - Rank 0 -- interaction -- 0.11069843899986154\n",
      "2022-07-04 11:49:38,209 - rank - INFO - Rank 0 -- tracker -- 2.7220003175898455e-06\n",
      "2022-07-04 11:49:38,221 - epidemiology - INFO - CMS: Infection COMS-v2 for rank 0/1(2)0.0003574390002540895,0.0003571510314941406 - 2020-05-27 09:00:00\n",
      "2022-07-04 11:49:38,253 - rank - INFO - Rank 0 -- interaction_waiting -- 8.001000423973892e-06\n",
      "2022-07-04 11:49:38,266 - simulator - INFO - CMS: Timestep for rank 0/1 - 0.38205515800018475,0.38205575942993164 - 2020-05-27 09:00:00\n",
      "\n",
      "2022-07-04 11:49:38,268 - rank - INFO - Next timestep\n",
      "2022-07-04 11:49:38,269 - simulator - INFO - ==================== timestep ====================\n",
      "2022-07-04 11:49:38,981 - rank - INFO - Rank 0 -- move_people -- 0.7111385030002566\n",
      "2022-07-04 11:49:38,982 - rank - INFO - Rank 0 -- move_people_waiting -- 3.3340002119075507e-06\n",
      "2022-07-04 11:49:38,983 - activity_manager - INFO - CMS: People COMS for rank 0/1 - 3.1919998946250416e-06,2.86102294921875e-06 - 2020-05-27 11:00:00\n",
      "2022-07-04 11:49:38,988 - simulator - INFO - Info for rank 0, Date = 2020-05-27 11:00:00, number of deaths =  0, number of infected = 524\n",
      "2022-07-04 11:49:39,138 - rank - INFO - Rank 0 -- interaction -- 0.15481832800014672\n",
      "2022-07-04 11:49:39,139 - rank - INFO - Rank 0 -- tracker -- 2.005999704124406e-06\n",
      "2022-07-04 11:49:39,154 - epidemiology - INFO - CMS: Infection COMS-v2 for rank 0/1(2)0.0007612879999214783,0.0007607936859130859 - 2020-05-27 11:00:00\n",
      "2022-07-04 11:49:39,194 - rank - INFO - Rank 0 -- interaction_waiting -- 9.850999958871398e-06\n",
      "2022-07-04 11:49:39,207 - simulator - INFO - CMS: Timestep for rank 0/1 - 0.9368185359999188,0.936819314956665 - 2020-05-27 11:00:00\n",
      "\n",
      "2022-07-04 11:49:39,209 - rank - INFO - Next timestep\n",
      "2022-07-04 11:49:39,210 - simulator - INFO - ==================== timestep ====================\n",
      "2022-07-04 11:49:39,900 - rank - INFO - Rank 0 -- move_people -- 0.6889581069999622\n",
      "2022-07-04 11:49:39,900 - rank - INFO - Rank 0 -- move_people_waiting -- 5.384999894886278e-06\n",
      "2022-07-04 11:49:39,901 - activity_manager - INFO - CMS: People COMS for rank 0/1 - 3.583999387046788e-06,3.0994415283203125e-06 - 2020-05-27 13:00:00\n",
      "2022-07-04 11:49:39,906 - simulator - INFO - Info for rank 0, Date = 2020-05-27 13:00:00, number of deaths =  0, number of infected = 543\n",
      "2022-07-04 11:49:40,090 - rank - INFO - Rank 0 -- interaction -- 0.1873770339998373\n",
      "2022-07-04 11:49:40,090 - rank - INFO - Rank 0 -- tracker -- 2.200000380980782e-06\n",
      "2022-07-04 11:49:40,106 - epidemiology - INFO - CMS: Infection COMS-v2 for rank 0/1(2)0.00035966900031780824,0.0003590583801269531 - 2020-05-27 13:00:00\n",
      "2022-07-04 11:49:40,139 - rank - INFO - Rank 0 -- interaction_waiting -- 6.481000127678271e-06\n",
      "2022-07-04 11:49:40,151 - simulator - INFO - CMS: Timestep for rank 0/1 - 0.939899996999884,0.9399006366729736 - 2020-05-27 13:00:00\n",
      "\n",
      "2022-07-04 11:49:40,153 - rank - INFO - Next timestep\n"
     ]
    },
    {
     "name": "stdout",
     "output_type": "stream",
     "text": [
      "2022-07-04 11:49:40,154 - simulator - INFO - ==================== timestep ====================\n",
      "2022-07-04 11:49:40,879 - rank - INFO - Rank 0 -- move_people -- 0.7252009710000493\n",
      "2022-07-04 11:49:40,880 - rank - INFO - Rank 0 -- move_people_waiting -- 6.939000741112977e-06\n",
      "2022-07-04 11:49:40,881 - activity_manager - INFO - CMS: People COMS for rank 0/1 - 3.6129995351075195e-06,3.0994415283203125e-06 - 2020-05-27 15:00:00\n",
      "2022-07-04 11:49:40,887 - simulator - INFO - Info for rank 0, Date = 2020-05-27 15:00:00, number of deaths =  0, number of infected = 569\n",
      "2022-07-04 11:49:41,046 - rank - INFO - Rank 0 -- interaction -- 0.1642621720002353\n",
      "2022-07-04 11:49:41,046 - rank - INFO - Rank 0 -- tracker -- 2.5919998734025285e-06\n",
      "2022-07-04 11:49:41,069 - epidemiology - INFO - CMS: Infection COMS-v2 for rank 0/1(2)0.0007181959999797982,0.0007178783416748047 - 2020-05-27 15:00:00\n",
      "2022-07-04 11:49:41,103 - rank - INFO - Rank 0 -- interaction_waiting -- 6.491000021924265e-06\n",
      "2022-07-04 11:49:41,116 - simulator - INFO - CMS: Timestep for rank 0/1 - 0.9614412410001023,0.9614419937133789 - 2020-05-27 15:00:00\n",
      "\n",
      "2022-07-04 11:49:41,118 - rank - INFO - Next timestep\n",
      "2022-07-04 11:49:41,119 - simulator - INFO - ==================== timestep ====================\n",
      "2022-07-04 11:49:41,884 - rank - INFO - Rank 0 -- move_people -- 0.7642786390006222\n",
      "2022-07-04 11:49:41,884 - rank - INFO - Rank 0 -- move_people_waiting -- 5.978999979561195e-06\n",
      "2022-07-04 11:49:41,885 - activity_manager - INFO - CMS: People COMS for rank 0/1 - 3.820000529231038e-06,3.5762786865234375e-06 - 2020-05-27 17:00:00\n",
      "2022-07-04 11:49:41,894 - simulator - INFO - Info for rank 0, Date = 2020-05-27 17:00:00, number of deaths =  0, number of infected = 596\n",
      "2022-07-04 11:49:42,065 - rank - INFO - Rank 0 -- interaction -- 0.1786446469996008\n",
      "2022-07-04 11:49:42,066 - rank - INFO - Rank 0 -- tracker -- 2.338000740564894e-06\n",
      "2022-07-04 11:49:42,090 - epidemiology - INFO - CMS: Infection COMS-v2 for rank 0/1(2)0.0006250819997148938,0.0006248950958251953 - 2020-05-27 17:00:00\n",
      "2022-07-04 11:49:42,131 - rank - INFO - Rank 0 -- interaction_waiting -- 6.152000423753634e-06\n",
      "2022-07-04 11:49:42,144 - simulator - INFO - CMS: Timestep for rank 0/1 - 1.02397369099981,1.0239741802215576 - 2020-05-27 17:00:00\n",
      "\n",
      "2022-07-04 11:49:42,146 - rank - INFO - Next timestep\n",
      "2022-07-04 11:49:42,147 - simulator - INFO - ==================== timestep ====================\n",
      "2022-07-04 11:49:42,321 - rank - INFO - Rank 0 -- move_people -- 0.17289606299982552\n",
      "2022-07-04 11:49:42,321 - rank - INFO - Rank 0 -- move_people_waiting -- 6.321000000752974e-06\n",
      "2022-07-04 11:49:42,322 - activity_manager - INFO - CMS: People COMS for rank 0/1 - 3.4840004445868544e-06,3.337860107421875e-06 - 2020-05-27 19:00:00\n",
      "2022-07-04 11:49:42,331 - simulator - INFO - Info for rank 0, Date = 2020-05-27 19:00:00, number of deaths =  0, number of infected = 625\n",
      "2022-07-04 11:49:42,441 - rank - INFO - Rank 0 -- interaction -- 0.11801410699990811\n",
      "2022-07-04 11:49:42,442 - rank - INFO - Rank 0 -- tracker -- 2.0729994503199123e-06\n",
      "2022-07-04 11:49:42,490 - epidemiology - INFO - CMS: Infection COMS-v2 for rank 0/1(2)0.0006116849999671103,0.0006115436553955078 - 2020-05-27 19:00:00\n",
      "2022-07-04 11:49:42,578 - rank - INFO - Rank 0 -- interaction_waiting -- 6.2429999161395244e-06\n",
      "2022-07-04 11:49:42,590 - simulator - INFO - CMS: Timestep for rank 0/1 - 0.44261108599948784,0.4426114559173584 - 2020-05-27 19:00:00\n",
      "\n",
      "2022-07-04 11:49:42,593 - rank - INFO - Next timestep\n",
      "2022-07-04 11:49:42,593 - simulator - INFO - ==================== timestep ====================\n",
      "2022-07-04 11:49:42,777 - rank - INFO - Rank 0 -- move_people -- 0.18275860199992167\n",
      "2022-07-04 11:49:42,778 - rank - INFO - Rank 0 -- move_people_waiting -- 7.343999641307164e-06\n",
      "2022-07-04 11:49:42,778 - activity_manager - INFO - CMS: People COMS for rank 0/1 - 3.1440004022442736e-06,3.0994415283203125e-06 - 2020-05-28 09:00:00\n",
      "2022-07-04 11:49:42,784 - simulator - INFO - Info for rank 0, Date = 2020-05-28 09:00:00, number of deaths =  0, number of infected = 720\n",
      "2022-07-04 11:49:42,899 - rank - INFO - Rank 0 -- interaction -- 0.11947535999934189\n",
      "2022-07-04 11:49:42,900 - rank - INFO - Rank 0 -- tracker -- 2.5469998945482075e-06\n",
      "2022-07-04 11:49:42,916 - epidemiology - INFO - CMS: Infection COMS-v2 for rank 0/1(2)0.0008492269998896518,0.0008492469787597656 - 2020-05-28 09:00:00\n",
      "2022-07-04 11:49:42,954 - rank - INFO - Rank 0 -- interaction_waiting -- 7.055000423861202e-06\n",
      "2022-07-04 11:49:42,967 - simulator - INFO - CMS: Timestep for rank 0/1 - 0.37284288099999685,0.37284350395202637 - 2020-05-28 09:00:00\n",
      "\n",
      "2022-07-04 11:49:42,969 - rank - INFO - Next timestep\n",
      "2022-07-04 11:49:42,970 - simulator - INFO - ==================== timestep ====================\n",
      "2022-07-04 11:49:43,702 - rank - INFO - Rank 0 -- move_people -- 0.7316004990007059\n",
      "2022-07-04 11:49:43,703 - rank - INFO - Rank 0 -- move_people_waiting -- 3.3599999369471334e-06\n",
      "2022-07-04 11:49:43,704 - activity_manager - INFO - CMS: People COMS for rank 0/1 - 3.7790005080751143e-06,3.337860107421875e-06 - 2020-05-28 11:00:00\n",
      "2022-07-04 11:49:43,710 - simulator - INFO - Info for rank 0, Date = 2020-05-28 11:00:00, number of deaths =  0, number of infected = 746\n",
      "2022-07-04 11:49:43,876 - rank - INFO - Rank 0 -- interaction -- 0.1711773679999169\n",
      "2022-07-04 11:49:43,876 - rank - INFO - Rank 0 -- tracker -- 2.61999957729131e-06\n",
      "2022-07-04 11:49:43,895 - epidemiology - INFO - CMS: Infection COMS-v2 for rank 0/1(2)0.0003063060003114515,0.0003056526184082031 - 2020-05-28 11:00:00\n",
      "2022-07-04 11:49:43,928 - rank - INFO - Rank 0 -- interaction_waiting -- 7.26000052964082e-06\n",
      "2022-07-04 11:49:43,941 - simulator - INFO - CMS: Timestep for rank 0/1 - 0.9701090980006484,0.9701111316680908 - 2020-05-28 11:00:00\n",
      "\n",
      "2022-07-04 11:49:43,943 - rank - INFO - Next timestep\n",
      "2022-07-04 11:49:43,944 - simulator - INFO - ==================== timestep ====================\n",
      "2022-07-04 11:49:44,705 - rank - INFO - Rank 0 -- move_people -- 0.7602002109997557\n",
      "2022-07-04 11:49:44,706 - rank - INFO - Rank 0 -- move_people_waiting -- 7.299000571947545e-06\n",
      "2022-07-04 11:49:44,707 - activity_manager - INFO - CMS: People COMS for rank 0/1 - 3.060999915760476e-06,2.86102294921875e-06 - 2020-05-28 13:00:00\n",
      "2022-07-04 11:49:44,711 - simulator - INFO - Info for rank 0, Date = 2020-05-28 13:00:00, number of deaths =  0, number of infected = 780\n",
      "2022-07-04 11:49:44,878 - rank - INFO - Rank 0 -- interaction -- 0.17083927400017274\n",
      "2022-07-04 11:49:44,879 - rank - INFO - Rank 0 -- tracker -- 1.936999979079701e-06\n",
      "2022-07-04 11:49:44,893 - epidemiology - INFO - CMS: Infection COMS-v2 for rank 0/1(2)0.0002593469998828368,0.0002589225769042969 - 2020-05-28 13:00:00\n",
      "2022-07-04 11:49:44,929 - rank - INFO - Rank 0 -- interaction_waiting -- 7.360000381595455e-06\n",
      "2022-07-04 11:49:44,949 - simulator - INFO - CMS: Timestep for rank 0/1 - 1.0035814840002786,1.0035820007324219 - 2020-05-28 13:00:00\n",
      "\n",
      "2022-07-04 11:49:44,952 - rank - INFO - Next timestep\n",
      "2022-07-04 11:49:44,953 - simulator - INFO - ==================== timestep ====================\n",
      "2022-07-04 11:49:45,692 - rank - INFO - Rank 0 -- move_people -- 0.7382859970002755\n",
      "2022-07-04 11:49:45,693 - rank - INFO - Rank 0 -- move_people_waiting -- 3.171999196638353e-06\n",
      "2022-07-04 11:49:45,693 - activity_manager - INFO - CMS: People COMS for rank 0/1 - 3.6040000850334764e-06,3.337860107421875e-06 - 2020-05-28 15:00:00\n",
      "2022-07-04 11:49:45,699 - simulator - INFO - Info for rank 0, Date = 2020-05-28 15:00:00, number of deaths =  0, number of infected = 816\n",
      "2022-07-04 11:49:45,878 - rank - INFO - Rank 0 -- interaction -- 0.1834937780004111\n",
      "2022-07-04 11:49:45,879 - rank - INFO - Rank 0 -- tracker -- 3.062999894609675e-06\n",
      "2022-07-04 11:49:45,898 - epidemiology - INFO - CMS: Infection COMS-v2 for rank 0/1(2)0.00037770400012959726,0.00037741661071777344 - 2020-05-28 15:00:00\n",
      "2022-07-04 11:49:45,939 - rank - INFO - Rank 0 -- interaction_waiting -- 7.350000487349462e-06\n",
      "2022-07-04 11:49:45,952 - simulator - INFO - CMS: Timestep for rank 0/1 - 0.9990746170005878,0.9990749359130859 - 2020-05-28 15:00:00\n",
      "\n",
      "2022-07-04 11:49:45,955 - rank - INFO - Next timestep\n",
      "2022-07-04 11:49:45,956 - simulator - INFO - ==================== timestep ====================\n"
     ]
    },
    {
     "name": "stdout",
     "output_type": "stream",
     "text": [
      "2022-07-04 11:49:46,655 - rank - INFO - Rank 0 -- move_people -- 0.6982753530000991\n",
      "2022-07-04 11:49:46,656 - rank - INFO - Rank 0 -- move_people_waiting -- 5.84499957767548e-06\n",
      "2022-07-04 11:49:46,656 - activity_manager - INFO - CMS: People COMS for rank 0/1 - 3.5410002965363674e-06,3.337860107421875e-06 - 2020-05-28 17:00:00\n",
      "2022-07-04 11:49:46,661 - simulator - INFO - Info for rank 0, Date = 2020-05-28 17:00:00, number of deaths =  0, number of infected = 853\n",
      "2022-07-04 11:49:46,840 - rank - INFO - Rank 0 -- interaction -- 0.18291872700046952\n",
      "2022-07-04 11:49:46,841 - rank - INFO - Rank 0 -- tracker -- 2.0349998521851376e-06\n",
      "2022-07-04 11:49:46,857 - epidemiology - INFO - CMS: Infection COMS-v2 for rank 0/1(2)0.0003236319998904946,0.0003230571746826172 - 2020-05-28 17:00:00\n",
      "2022-07-04 11:49:46,897 - rank - INFO - Rank 0 -- interaction_waiting -- 7.086999175953679e-06\n",
      "2022-07-04 11:49:46,909 - simulator - INFO - CMS: Timestep for rank 0/1 - 0.9521023409997724,0.9521031379699707 - 2020-05-28 17:00:00\n",
      "\n",
      "2022-07-04 11:49:46,911 - rank - INFO - Next timestep\n",
      "2022-07-04 11:49:46,912 - simulator - INFO - ==================== timestep ====================\n",
      "2022-07-04 11:49:47,075 - rank - INFO - Rank 0 -- move_people -- 0.16215771800034418\n",
      "2022-07-04 11:49:47,075 - rank - INFO - Rank 0 -- move_people_waiting -- 6.230000508367084e-06\n",
      "2022-07-04 11:49:47,076 - activity_manager - INFO - CMS: People COMS for rank 0/1 - 4.332000571594108e-06,4.291534423828125e-06 - 2020-05-28 19:00:00\n",
      "2022-07-04 11:49:47,082 - simulator - INFO - Info for rank 0, Date = 2020-05-28 19:00:00, number of deaths =  0, number of infected = 893\n",
      "2022-07-04 11:49:47,214 - rank - INFO - Rank 0 -- interaction -- 0.13730362899968895\n",
      "2022-07-04 11:49:47,215 - rank - INFO - Rank 0 -- tracker -- 2.177999704144895e-06\n",
      "2022-07-04 11:49:47,266 - epidemiology - INFO - CMS: Infection COMS-v2 for rank 0/1(2)0.00021657599972968455,0.00021648406982421875 - 2020-05-28 19:00:00\n",
      "2022-07-04 11:49:47,303 - rank - INFO - Rank 0 -- interaction_waiting -- 5.9029998737969436e-06\n",
      "2022-07-04 11:49:47,316 - simulator - INFO - CMS: Timestep for rank 0/1 - 0.403681838999546,0.4036824703216553 - 2020-05-28 19:00:00\n",
      "\n",
      "2022-07-04 11:49:47,318 - rank - INFO - Next timestep\n",
      "2022-07-04 11:49:47,319 - simulator - INFO - ==================== timestep ====================\n",
      "2022-07-04 11:49:47,488 - rank - INFO - Rank 0 -- move_people -- 0.16824248899956729\n",
      "2022-07-04 11:49:47,488 - rank - INFO - Rank 0 -- move_people_waiting -- 5.107999641040806e-06\n",
      "2022-07-04 11:49:47,489 - activity_manager - INFO - CMS: People COMS for rank 0/1 - 3.6219998946762644e-06,3.337860107421875e-06 - 2020-05-29 09:00:00\n",
      "2022-07-04 11:49:47,497 - simulator - INFO - Info for rank 0, Date = 2020-05-29 09:00:00, number of deaths =  0, number of infected = 1032\n",
      "2022-07-04 11:49:47,622 - rank - INFO - Rank 0 -- interaction -- 0.1324330130000817\n",
      "2022-07-04 11:49:47,623 - rank - INFO - Rank 0 -- tracker -- 2.0099996618228033e-06\n",
      "2022-07-04 11:49:47,638 - epidemiology - INFO - CMS: Infection COMS-v2 for rank 0/1(2)0.00023166799928731052,0.00023102760314941406 - 2020-05-29 09:00:00\n",
      "2022-07-04 11:49:47,676 - rank - INFO - Rank 0 -- interaction_waiting -- 8.199000149033964e-06\n",
      "2022-07-04 11:49:47,691 - simulator - INFO - CMS: Timestep for rank 0/1 - 0.37140097999963473,0.3714017868041992 - 2020-05-29 09:00:00\n",
      "\n",
      "2022-07-04 11:49:47,693 - rank - INFO - Next timestep\n",
      "2022-07-04 11:49:47,695 - simulator - INFO - ==================== timestep ====================\n",
      "2022-07-04 11:49:48,397 - rank - INFO - Rank 0 -- move_people -- 0.7013396940001257\n",
      "2022-07-04 11:49:48,398 - rank - INFO - Rank 0 -- move_people_waiting -- 6.639999810431618e-06\n",
      "2022-07-04 11:49:48,398 - activity_manager - INFO - CMS: People COMS for rank 0/1 - 3.1879999369266443e-06,3.0994415283203125e-06 - 2020-05-29 12:00:00\n",
      "2022-07-04 11:49:48,403 - simulator - INFO - Info for rank 0, Date = 2020-05-29 12:00:00, number of deaths =  0, number of infected = 1068\n",
      "2022-07-04 11:49:48,594 - rank - INFO - Rank 0 -- interaction -- 0.19544046300052287\n",
      "2022-07-04 11:49:48,595 - rank - INFO - Rank 0 -- tracker -- 1.9449998944764957e-06\n",
      "2022-07-04 11:49:48,615 - epidemiology - INFO - CMS: Infection COMS-v2 for rank 0/1(2)0.00022074200023780577,0.00021982192993164062 - 2020-05-29 12:00:00\n",
      "2022-07-04 11:49:48,653 - rank - INFO - Rank 0 -- interaction_waiting -- 6.942999789316673e-06\n",
      "2022-07-04 11:49:48,666 - simulator - INFO - CMS: Timestep for rank 0/1 - 0.9699248130000342,0.9699254035949707 - 2020-05-29 12:00:00\n",
      "\n",
      "2022-07-04 11:49:48,668 - rank - INFO - Next timestep\n",
      "2022-07-04 11:49:48,669 - simulator - INFO - ==================== timestep ====================\n",
      "2022-07-04 11:49:49,396 - rank - INFO - Rank 0 -- move_people -- 0.7262146590001066\n",
      "2022-07-04 11:49:49,396 - rank - INFO - Rank 0 -- move_people_waiting -- 5.777999831479974e-06\n",
      "2022-07-04 11:49:49,397 - activity_manager - INFO - CMS: People COMS for rank 0/1 - 4.002999958174769e-06,3.814697265625e-06 - 2020-05-29 14:00:00\n",
      "2022-07-04 11:49:49,403 - simulator - INFO - Info for rank 0, Date = 2020-05-29 14:00:00, number of deaths =  0, number of infected = 1109\n",
      "2022-07-04 11:49:49,593 - rank - INFO - Rank 0 -- interaction -- 0.19514679700023407\n",
      "2022-07-04 11:49:49,594 - rank - INFO - Rank 0 -- tracker -- 2.5379995349794626e-06\n",
      "2022-07-04 11:49:49,614 - epidemiology - INFO - CMS: Infection COMS-v2 for rank 0/1(2)0.0002847200003088801,0.00028395652770996094 - 2020-05-29 14:00:00\n",
      "2022-07-04 11:49:49,652 - rank - INFO - Rank 0 -- interaction_waiting -- 6.6769998738891445e-06\n",
      "2022-07-04 11:49:49,664 - simulator - INFO - CMS: Timestep for rank 0/1 - 0.9950138009999137,0.9950144290924072 - 2020-05-29 14:00:00\n",
      "\n",
      "2022-07-04 11:49:49,667 - rank - INFO - Next timestep\n",
      "2022-07-04 11:49:49,668 - simulator - INFO - ==================== timestep ====================\n",
      "2022-07-04 11:49:50,399 - rank - INFO - Rank 0 -- move_people -- 0.7304725939993659\n",
      "2022-07-04 11:49:50,400 - rank - INFO - Rank 0 -- move_people_waiting -- 6.782999662391376e-06\n",
      "2022-07-04 11:49:50,400 - activity_manager - INFO - CMS: People COMS for rank 0/1 - 3.4349995985394344e-06,3.0994415283203125e-06 - 2020-05-29 16:00:00\n",
      "2022-07-04 11:49:50,408 - simulator - INFO - Info for rank 0, Date = 2020-05-29 16:00:00, number of deaths =  0, number of infected = 1157\n",
      "2022-07-04 11:49:50,605 - rank - INFO - Rank 0 -- interaction -- 0.20421500700012984\n",
      "2022-07-04 11:49:50,606 - rank - INFO - Rank 0 -- tracker -- 3.948999619751703e-06\n",
      "2022-07-04 11:49:50,626 - epidemiology - INFO - CMS: Infection COMS-v2 for rank 0/1(2)0.0003315030007797759,0.0003306865692138672 - 2020-05-29 16:00:00\n",
      "2022-07-04 11:49:50,663 - rank - INFO - Rank 0 -- interaction_waiting -- 1.060599970514886e-05\n",
      "2022-07-04 11:49:50,676 - simulator - INFO - CMS: Timestep for rank 0/1 - 1.0078049330004433,1.0078065395355225 - 2020-05-29 16:00:00\n",
      "\n",
      "2022-07-04 11:49:50,679 - rank - INFO - Next timestep\n",
      "2022-07-04 11:49:50,680 - simulator - INFO - ==================== timestep ====================\n",
      "2022-07-04 11:49:51,401 - rank - INFO - Rank 0 -- move_people -- 0.7205149269993854\n",
      "2022-07-04 11:49:51,402 - rank - INFO - Rank 0 -- move_people_waiting -- 3.53599989466602e-06\n",
      "2022-07-04 11:49:51,403 - activity_manager - INFO - CMS: People COMS for rank 0/1 - 4.071999683219474e-06,3.5762786865234375e-06 - 2020-05-29 18:00:00\n",
      "2022-07-04 11:49:51,408 - simulator - INFO - Info for rank 0, Date = 2020-05-29 18:00:00, number of deaths =  0, number of infected = 1203\n",
      "2022-07-04 11:49:51,598 - rank - INFO - Rank 0 -- interaction -- 0.19454120499995042\n",
      "2022-07-04 11:49:51,599 - rank - INFO - Rank 0 -- tracker -- 2.9590000849566422e-06\n",
      "2022-07-04 11:49:51,620 - epidemiology - INFO - CMS: Infection COMS-v2 for rank 0/1(2)0.00025848800032690633,0.0002579689025878906 - 2020-05-29 18:00:00\n",
      "2022-07-04 11:49:51,658 - rank - INFO - Rank 0 -- interaction_waiting -- 6.684999789285939e-06\n",
      "2022-07-04 11:49:51,672 - simulator - INFO - CMS: Timestep for rank 0/1 - 0.9911794789995838,0.9911799430847168 - 2020-05-29 18:00:00\n",
      "\n",
      "2022-07-04 11:49:51,674 - rank - INFO - Next timestep\n",
      "2022-07-04 11:49:51,675 - simulator - INFO - ==================== timestep ====================\n",
      "2022-07-04 11:49:51,851 - rank - INFO - Rank 0 -- move_people -- 0.17569294900022214\n"
     ]
    },
    {
     "name": "stdout",
     "output_type": "stream",
     "text": [
      "2022-07-04 11:49:51,852 - rank - INFO - Rank 0 -- move_people_waiting -- 6.690999725833535e-06\n",
      "2022-07-04 11:49:51,853 - activity_manager - INFO - CMS: People COMS for rank 0/1 - 4.116000127396546e-06,3.337860107421875e-06 - 2020-05-29 20:00:00\n",
      "2022-07-04 11:49:51,857 - simulator - INFO - Info for rank 0, Date = 2020-05-29 20:00:00, number of deaths =  0, number of infected = 1248\n",
      "2022-07-04 11:49:51,988 - rank - INFO - Rank 0 -- interaction -- 0.1346701389993541\n",
      "2022-07-04 11:49:51,989 - rank - INFO - Rank 0 -- tracker -- 2.2860003809910268e-06\n",
      "2022-07-04 11:49:52,051 - epidemiology - INFO - CMS: Infection COMS-v2 for rank 0/1(2)0.00022089899994170992,0.00021982192993164062 - 2020-05-29 20:00:00\n",
      "2022-07-04 11:49:52,088 - rank - INFO - Rank 0 -- interaction_waiting -- 7.342000571952667e-06\n",
      "2022-07-04 11:49:52,101 - simulator - INFO - CMS: Timestep for rank 0/1 - 0.42550476100041124,0.4255053997039795 - 2020-05-29 20:00:00\n",
      "\n",
      "2022-07-04 11:49:52,104 - rank - INFO - Next timestep\n",
      "2022-07-04 11:49:52,105 - simulator - INFO - ==================== timestep ====================\n",
      "2022-07-04 11:49:52,273 - rank - INFO - Rank 0 -- move_people -- 0.16805831199962995\n",
      "2022-07-04 11:49:52,274 - rank - INFO - Rank 0 -- move_people_waiting -- 6.4719997681095265e-06\n",
      "2022-07-04 11:49:52,275 - activity_manager - INFO - CMS: People COMS for rank 0/1 - 3.864000063913409e-06,3.5762786865234375e-06 - 2020-05-30 09:00:00\n",
      "2022-07-04 11:49:52,279 - simulator - INFO - Info for rank 0, Date = 2020-05-30 09:00:00, number of deaths =  0, number of infected = 1414\n",
      "2022-07-04 11:49:52,394 - rank - INFO - Rank 0 -- interaction -- 0.11864139599947521\n",
      "2022-07-04 11:49:52,395 - rank - INFO - Rank 0 -- tracker -- 1.9270000848337077e-06\n",
      "2022-07-04 11:49:52,414 - epidemiology - INFO - CMS: Infection COMS-v2 for rank 0/1(2)0.00022485800036520232,0.0002238750457763672 - 2020-05-30 09:00:00\n",
      "2022-07-04 11:49:52,452 - rank - INFO - Rank 0 -- interaction_waiting -- 7.264000487339217e-06\n",
      "2022-07-04 11:49:52,464 - simulator - INFO - CMS: Timestep for rank 0/1 - 0.3590531939998982,0.3590538501739502 - 2020-05-30 09:00:00\n",
      "\n",
      "2022-07-04 11:49:52,467 - rank - INFO - Next timestep\n",
      "2022-07-04 11:49:52,469 - simulator - INFO - ==================== timestep ====================\n",
      "2022-07-04 11:49:53,200 - rank - INFO - Rank 0 -- move_people -- 0.7304727360005927\n",
      "2022-07-04 11:49:53,201 - rank - INFO - Rank 0 -- move_people_waiting -- 6.606000169995241e-06\n",
      "2022-07-04 11:49:53,202 - activity_manager - INFO - CMS: People COMS for rank 0/1 - 3.838999873551074e-06,3.5762786865234375e-06 - 2020-05-30 12:00:00\n",
      "2022-07-04 11:49:53,208 - simulator - INFO - Info for rank 0, Date = 2020-05-30 12:00:00, number of deaths =  0, number of infected = 1454\n",
      "2022-07-04 11:49:53,400 - rank - INFO - Rank 0 -- interaction -- 0.1981157810005243\n",
      "2022-07-04 11:49:53,401 - rank - INFO - Rank 0 -- tracker -- 3.0230003176257014e-06\n",
      "2022-07-04 11:49:53,425 - epidemiology - INFO - CMS: Infection COMS-v2 for rank 0/1(2)0.0006632340000578552,0.0006628036499023438 - 2020-05-30 12:00:00\n",
      "2022-07-04 11:49:53,467 - rank - INFO - Rank 0 -- interaction_waiting -- 7.81800008553546e-06\n",
      "2022-07-04 11:49:53,479 - simulator - INFO - CMS: Timestep for rank 0/1 - 1.0099247529997228,1.009925365447998 - 2020-05-30 12:00:00\n",
      "\n",
      "2022-07-04 11:49:53,482 - rank - INFO - Next timestep\n",
      "2022-07-04 11:49:53,483 - simulator - INFO - ==================== timestep ====================\n",
      "2022-07-04 11:49:54,211 - rank - INFO - Rank 0 -- move_people -- 0.7271978620001391\n",
      "2022-07-04 11:49:54,212 - rank - INFO - Rank 0 -- move_people_waiting -- 7.478000043192878e-06\n",
      "2022-07-04 11:49:54,212 - activity_manager - INFO - CMS: People COMS for rank 0/1 - 3.828999979305081e-06,3.5762786865234375e-06 - 2020-05-30 14:00:00\n",
      "2022-07-04 11:49:54,218 - simulator - INFO - Info for rank 0, Date = 2020-05-30 14:00:00, number of deaths =  0, number of infected = 1502\n",
      "2022-07-04 11:49:54,410 - rank - INFO - Rank 0 -- interaction -- 0.1972583000006125\n",
      "2022-07-04 11:49:54,411 - rank - INFO - Rank 0 -- tracker -- 1.7729998944560066e-06\n",
      "2022-07-04 11:49:54,433 - epidemiology - INFO - CMS: Infection COMS-v2 for rank 0/1(2)0.0009233609998773318,0.0009229183197021484 - 2020-05-30 14:00:00\n",
      "2022-07-04 11:49:54,480 - rank - INFO - Rank 0 -- interaction_waiting -- 6.821999704698101e-06\n",
      "2022-07-04 11:49:54,491 - simulator - INFO - CMS: Timestep for rank 0/1 - 1.007491564000702,1.0074918270111084 - 2020-05-30 14:00:00\n",
      "\n",
      "2022-07-04 11:49:54,494 - rank - INFO - Next timestep\n",
      "2022-07-04 11:49:54,494 - simulator - INFO - ==================== timestep ====================\n",
      "2022-07-04 11:49:55,178 - rank - INFO - Rank 0 -- move_people -- 0.6832162909995532\n",
      "2022-07-04 11:49:55,179 - rank - INFO - Rank 0 -- move_people_waiting -- 5.4689999160473235e-06\n",
      "2022-07-04 11:49:55,179 - activity_manager - INFO - CMS: People COMS for rank 0/1 - 3.1019999369163997e-06,2.86102294921875e-06 - 2020-05-30 16:00:00\n",
      "2022-07-04 11:49:55,184 - simulator - INFO - Info for rank 0, Date = 2020-05-30 16:00:00, number of deaths =  0, number of infected = 1551\n",
      "2022-07-04 11:49:55,369 - rank - INFO - Rank 0 -- interaction -- 0.18950093500006915\n",
      "2022-07-04 11:49:55,370 - rank - INFO - Rank 0 -- tracker -- 2.003000190597959e-06\n",
      "2022-07-04 11:49:55,391 - epidemiology - INFO - CMS: Infection COMS-v2 for rank 0/1(2)0.0009555620008541155,0.0009548664093017578 - 2020-05-30 16:00:00\n",
      "2022-07-04 11:49:55,435 - rank - INFO - Rank 0 -- interaction_waiting -- 8.467999577987939e-06\n",
      "2022-07-04 11:49:55,451 - simulator - INFO - CMS: Timestep for rank 0/1 - 0.9556876990000092,0.9556889533996582 - 2020-05-30 16:00:00\n",
      "\n",
      "2022-07-04 11:49:55,453 - rank - INFO - Next timestep\n",
      "2022-07-04 11:49:55,454 - simulator - INFO - ==================== timestep ====================\n",
      "2022-07-04 11:49:56,176 - rank - INFO - Rank 0 -- move_people -- 0.720955165000305\n",
      "2022-07-04 11:49:56,177 - rank - INFO - Rank 0 -- move_people_waiting -- 7.0870000854483806e-06\n",
      "2022-07-04 11:49:56,177 - activity_manager - INFO - CMS: People COMS for rank 0/1 - 4.102999810129404e-06,3.814697265625e-06 - 2020-05-30 18:00:00\n",
      "2022-07-04 11:49:56,185 - simulator - INFO - Info for rank 0, Date = 2020-05-30 18:00:00, number of deaths =  0, number of infected = 1603\n",
      "2022-07-04 11:49:56,370 - rank - INFO - Rank 0 -- interaction -- 0.1912692120004067\n",
      "2022-07-04 11:49:56,370 - rank - INFO - Rank 0 -- tracker -- 2.052000127150677e-06\n",
      "2022-07-04 11:49:56,394 - epidemiology - INFO - CMS: Infection COMS-v2 for rank 0/1(2)0.000676603999636427,0.0006759166717529297 - 2020-05-30 18:00:00\n",
      "2022-07-04 11:49:56,436 - rank - INFO - Rank 0 -- interaction_waiting -- 7.619999450980686e-06\n",
      "2022-07-04 11:49:56,448 - simulator - INFO - CMS: Timestep for rank 0/1 - 0.9933358739999676,0.9933364391326904 - 2020-05-30 18:00:00\n",
      "\n",
      "2022-07-04 11:49:56,451 - rank - INFO - Next timestep\n",
      "2022-07-04 11:49:56,451 - simulator - INFO - ==================== timestep ====================\n",
      "2022-07-04 11:49:56,630 - rank - INFO - Rank 0 -- move_people -- 0.17814215999987937\n",
      "2022-07-04 11:49:56,631 - rank - INFO - Rank 0 -- move_people_waiting -- 7.243999789352529e-06\n",
      "2022-07-04 11:49:56,631 - activity_manager - INFO - CMS: People COMS for rank 0/1 - 3.397999535081908e-06,2.86102294921875e-06 - 2020-05-30 20:00:00\n",
      "2022-07-04 11:49:56,636 - simulator - INFO - Info for rank 0, Date = 2020-05-30 20:00:00, number of deaths =  0, number of infected = 1663\n",
      "2022-07-04 11:49:56,781 - rank - INFO - Rank 0 -- interaction -- 0.14940970399948128\n",
      "2022-07-04 11:49:56,782 - rank - INFO - Rank 0 -- tracker -- 2.042000232904684e-06\n",
      "2022-07-04 11:49:56,854 - epidemiology - INFO - CMS: Infection COMS-v2 for rank 0/1(2)0.00021678299981431337,0.00021600723266601562 - 2020-05-30 20:00:00\n",
      "2022-07-04 11:49:56,892 - rank - INFO - Rank 0 -- interaction_waiting -- 9.677999514678959e-06\n",
      "2022-07-04 11:49:56,904 - simulator - INFO - CMS: Timestep for rank 0/1 - 0.4521181190002608,0.4521188735961914 - 2020-05-30 20:00:00\n",
      "\n",
      "2022-07-04 11:49:56,906 - rank - INFO - Next timestep\n",
      "2022-07-04 11:49:56,907 - simulator - INFO - ==================== timestep ====================\n",
      "2022-07-04 11:49:57,114 - rank - INFO - Rank 0 -- move_people -- 0.20611300400014443\n",
      "2022-07-04 11:49:57,114 - rank - INFO - Rank 0 -- move_people_waiting -- 7.225999979709741e-06\n"
     ]
    },
    {
     "name": "stdout",
     "output_type": "stream",
     "text": [
      "2022-07-04 11:49:57,115 - activity_manager - INFO - CMS: People COMS for rank 0/1 - 3.311000000394415e-06,2.86102294921875e-06 - 2020-05-31 09:00:00\n",
      "2022-07-04 11:49:57,123 - simulator - INFO - Info for rank 0, Date = 2020-05-31 09:00:00, number of deaths =  0, number of infected = 1848\n",
      "2022-07-04 11:49:57,278 - rank - INFO - Rank 0 -- interaction -- 0.16230125800029782\n",
      "2022-07-04 11:49:57,279 - rank - INFO - Rank 0 -- tracker -- 2.376999873376917e-06\n",
      "2022-07-04 11:49:57,299 - epidemiology - INFO - CMS: Infection COMS-v2 for rank 0/1(2)0.0005865729999641189,0.0005860328674316406 - 2020-05-31 09:00:00\n",
      "2022-07-04 11:49:57,341 - rank - INFO - Rank 0 -- interaction_waiting -- 7.044999620120507e-06\n",
      "2022-07-04 11:49:57,355 - simulator - INFO - CMS: Timestep for rank 0/1 - 0.44732466299956286,0.4473257064819336 - 2020-05-31 09:00:00\n",
      "\n",
      "2022-07-04 11:49:57,357 - rank - INFO - Next timestep\n",
      "2022-07-04 11:49:57,358 - simulator - INFO - ==================== timestep ====================\n",
      "2022-07-04 11:49:58,092 - rank - INFO - Rank 0 -- move_people -- 0.7331348429997888\n",
      "2022-07-04 11:49:58,093 - rank - INFO - Rank 0 -- move_people_waiting -- 6.794000000809319e-06\n",
      "2022-07-04 11:49:58,093 - activity_manager - INFO - CMS: People COMS for rank 0/1 - 4.131000423512887e-06,3.814697265625e-06 - 2020-05-31 11:00:00\n",
      "2022-07-04 11:49:58,100 - simulator - INFO - Info for rank 0, Date = 2020-05-31 11:00:00, number of deaths =  0, number of infected = 1886\n",
      "2022-07-04 11:49:58,303 - rank - INFO - Rank 0 -- interaction -- 0.20897125699957542\n",
      "2022-07-04 11:49:58,304 - rank - INFO - Rank 0 -- tracker -- 1.9110002540401183e-06\n",
      "2022-07-04 11:49:58,340 - epidemiology - INFO - CMS: Infection COMS-v2 for rank 0/1(2)0.0003447440003583324,0.0003445148468017578 - 2020-05-31 11:00:00\n",
      "2022-07-04 11:49:58,388 - rank - INFO - Rank 0 -- interaction_waiting -- 6.719999873894267e-06\n",
      "2022-07-04 11:49:58,406 - simulator - INFO - CMS: Timestep for rank 0/1 - 1.0466286900000341,1.0466294288635254 - 2020-05-31 11:00:00\n",
      "\n",
      "2022-07-04 11:49:58,408 - rank - INFO - Next timestep\n",
      "2022-07-04 11:49:58,409 - simulator - INFO - ==================== timestep ====================\n",
      "2022-07-04 11:49:59,121 - rank - INFO - Rank 0 -- move_people -- 0.7105633499995747\n",
      "2022-07-04 11:49:59,121 - rank - INFO - Rank 0 -- move_people_waiting -- 5.28900000063004e-06\n",
      "2022-07-04 11:49:59,122 - activity_manager - INFO - CMS: People COMS for rank 0/1 - 3.871999979310203e-06,3.337860107421875e-06 - 2020-05-31 13:00:00\n",
      "2022-07-04 11:49:59,127 - simulator - INFO - Info for rank 0, Date = 2020-05-31 13:00:00, number of deaths =  0, number of infected = 1966\n",
      "2022-07-04 11:49:59,324 - rank - INFO - Rank 0 -- interaction -- 0.20135523099997954\n",
      "2022-07-04 11:49:59,325 - rank - INFO - Rank 0 -- tracker -- 2.237999979115557e-06\n",
      "2022-07-04 11:49:59,351 - epidemiology - INFO - CMS: Infection COMS-v2 for rank 0/1(2)0.00030176899963407777,0.00030159950256347656 - 2020-05-31 13:00:00\n",
      "2022-07-04 11:49:59,389 - rank - INFO - Rank 0 -- interaction_waiting -- 7.648000064364169e-06\n",
      "2022-07-04 11:49:59,401 - simulator - INFO - CMS: Timestep for rank 0/1 - 0.9905582000001232,0.9905588626861572 - 2020-05-31 13:00:00\n",
      "\n",
      "2022-07-04 11:49:59,403 - rank - INFO - Next timestep\n",
      "2022-07-04 11:49:59,404 - simulator - INFO - ==================== timestep ====================\n",
      "2022-07-04 11:50:00,087 - rank - INFO - Rank 0 -- move_people -- 0.6827671739993093\n",
      "2022-07-04 11:50:00,088 - rank - INFO - Rank 0 -- move_people_waiting -- 5.968000550637953e-06\n",
      "2022-07-04 11:50:00,088 - activity_manager - INFO - CMS: People COMS for rank 0/1 - 4.448999789019581e-06,4.5299530029296875e-06 - 2020-05-31 15:00:00\n",
      "2022-07-04 11:50:00,094 - simulator - INFO - Info for rank 0, Date = 2020-05-31 15:00:00, number of deaths =  0, number of infected = 2034\n",
      "2022-07-04 11:50:00,292 - rank - INFO - Rank 0 -- interaction -- 0.20233075899977848\n",
      "2022-07-04 11:50:00,293 - rank - INFO - Rank 0 -- tracker -- 2.240999492642004e-06\n",
      "2022-07-04 11:50:00,321 - epidemiology - INFO - CMS: Infection COMS-v2 for rank 0/1(2)0.0005142090003573685,0.0005137920379638672 - 2020-05-31 15:00:00\n",
      "2022-07-04 11:50:00,359 - rank - INFO - Rank 0 -- interaction_waiting -- 6.662000487267505e-06\n",
      "2022-07-04 11:50:00,371 - simulator - INFO - CMS: Timestep for rank 0/1 - 0.9661818879994826,0.9661827087402344 - 2020-05-31 15:00:00\n",
      "\n",
      "2022-07-04 11:50:00,373 - rank - INFO - Next timestep\n",
      "2022-07-04 11:50:00,374 - simulator - INFO - ==================== timestep ====================\n",
      "2022-07-04 11:50:01,096 - rank - INFO - Rank 0 -- move_people -- 0.7214731499998379\n",
      "2022-07-04 11:50:01,098 - rank - INFO - Rank 0 -- move_people_waiting -- 3.3090000215452164e-06\n",
      "2022-07-04 11:50:01,098 - activity_manager - INFO - CMS: People COMS for rank 0/1 - 3.453000317676924e-06,3.0994415283203125e-06 - 2020-05-31 17:00:00\n",
      "2022-07-04 11:50:01,105 - simulator - INFO - Info for rank 0, Date = 2020-05-31 17:00:00, number of deaths =  0, number of infected = 2103\n",
      "2022-07-04 11:50:01,299 - rank - INFO - Rank 0 -- interaction -- 0.2001277540002775\n",
      "2022-07-04 11:50:01,300 - rank - INFO - Rank 0 -- tracker -- 1.8450000425218605e-06\n",
      "2022-07-04 11:50:01,331 - epidemiology - INFO - CMS: Infection COMS-v2 for rank 0/1(2)0.00029845799963368336,0.0002980232238769531 - 2020-05-31 17:00:00\n",
      "2022-07-04 11:50:01,370 - rank - INFO - Rank 0 -- interaction_waiting -- 5.86199985264102e-06\n",
      "2022-07-04 11:50:01,385 - simulator - INFO - CMS: Timestep for rank 0/1 - 1.0098143159993924,1.0098154544830322 - 2020-05-31 17:00:00\n",
      "\n",
      "2022-07-04 11:50:01,387 - rank - INFO - Next timestep\n",
      "2022-07-04 11:50:01,388 - simulator - INFO - ==================== timestep ====================\n",
      "2022-07-04 11:50:01,557 - rank - INFO - Rank 0 -- move_people -- 0.16890793300080986\n",
      "2022-07-04 11:50:01,558 - rank - INFO - Rank 0 -- move_people_waiting -- 7.716000254731625e-06\n",
      "2022-07-04 11:50:01,558 - activity_manager - INFO - CMS: People COMS for rank 0/1 - 4.053999873576686e-06,3.814697265625e-06 - 2020-05-31 19:00:00\n",
      "2022-07-04 11:50:01,564 - simulator - INFO - Info for rank 0, Date = 2020-05-31 19:00:00, number of deaths =  0, number of infected = 2185\n",
      "2022-07-04 11:50:01,724 - rank - INFO - Rank 0 -- interaction -- 0.16452136000043538\n",
      "2022-07-04 11:50:01,725 - rank - INFO - Rank 0 -- tracker -- 2.0860006770817563e-06\n",
      "2022-07-04 11:50:01,810 - epidemiology - INFO - CMS: Infection COMS-v2 for rank 0/1(2)0.0002880020001612138,0.00028777122497558594 - 2020-05-31 19:00:00\n",
      "2022-07-04 11:50:01,905 - rank - INFO - Rank 0 -- interaction_waiting -- 6.753999514330644e-06\n",
      "2022-07-04 11:50:01,917 - simulator - INFO - CMS: Timestep for rank 0/1 - 0.5283677600000374,0.5283682346343994 - 2020-05-31 19:00:00\n",
      "\n",
      "CPU times: user 39.4 s, sys: 1.62 s, total: 41 s\n",
      "Wall time: 39.1 s\n"
     ]
    }
   ],
   "source": [
    "%%time\n",
    "simulator.run()"
   ]
  },
  {
   "cell_type": "markdown",
   "metadata": {},
   "source": [
    "# Getting the results"
   ]
  },
  {
   "cell_type": "markdown",
   "metadata": {},
   "source": [
    "All results are stored in a json file specified in the `record_path` when defining the recorder. This can be read in by passing the folder locations to the `RecordReader` class and results derived.\n",
    "\n",
    "Here we show some examples of the kind of analysis you can extract from the records."
   ]
  },
  {
   "cell_type": "code",
   "execution_count": 54,
   "metadata": {},
   "outputs": [],
   "source": [
    "import pandas as pd"
   ]
  },
  {
   "cell_type": "code",
   "execution_count": 55,
   "metadata": {},
   "outputs": [],
   "source": [
    "read = RecordReader(Results_Path)"
   ]
  },
  {
   "cell_type": "markdown",
   "metadata": {},
   "source": [
    "The regional summary gives you information at the regional (camp) level."
   ]
  },
  {
   "cell_type": "markdown",
   "metadata": {},
   "source": [
    "### Regional information"
   ]
  },
  {
   "cell_type": "code",
   "execution_count": 56,
   "metadata": {},
   "outputs": [
    {
     "data": {
      "text/html": [
       "<div>\n",
       "<style scoped>\n",
       "    .dataframe tbody tr th:only-of-type {\n",
       "        vertical-align: middle;\n",
       "    }\n",
       "\n",
       "    .dataframe tbody tr th {\n",
       "        vertical-align: top;\n",
       "    }\n",
       "\n",
       "    .dataframe thead th {\n",
       "        text-align: right;\n",
       "    }\n",
       "</style>\n",
       "<table border=\"1\" class=\"dataframe\">\n",
       "  <thead>\n",
       "    <tr style=\"text-align: right;\">\n",
       "      <th></th>\n",
       "      <th>region</th>\n",
       "      <th>current_infected</th>\n",
       "      <th>daily_infected</th>\n",
       "      <th>current_hospitalised</th>\n",
       "      <th>daily_hospitalised</th>\n",
       "      <th>current_intensive_care</th>\n",
       "      <th>daily_intensive_care</th>\n",
       "      <th>daily_hospital_deaths</th>\n",
       "      <th>daily_deaths</th>\n",
       "    </tr>\n",
       "    <tr>\n",
       "      <th>time_stamp</th>\n",
       "      <th></th>\n",
       "      <th></th>\n",
       "      <th></th>\n",
       "      <th></th>\n",
       "      <th></th>\n",
       "      <th></th>\n",
       "      <th></th>\n",
       "      <th></th>\n",
       "      <th></th>\n",
       "    </tr>\n",
       "  </thead>\n",
       "  <tbody>\n",
       "    <tr>\n",
       "      <th>2020-05-24</th>\n",
       "      <td>CXB-219</td>\n",
       "      <td>243.333333</td>\n",
       "      <td>274</td>\n",
       "      <td>0.0</td>\n",
       "      <td>0</td>\n",
       "      <td>0.0</td>\n",
       "      <td>0</td>\n",
       "      <td>0</td>\n",
       "      <td>0</td>\n",
       "    </tr>\n",
       "    <tr>\n",
       "      <th>2020-05-25</th>\n",
       "      <td>CXB-219</td>\n",
       "      <td>315.000000</td>\n",
       "      <td>97</td>\n",
       "      <td>0.0</td>\n",
       "      <td>0</td>\n",
       "      <td>0.0</td>\n",
       "      <td>0</td>\n",
       "      <td>0</td>\n",
       "      <td>0</td>\n",
       "    </tr>\n",
       "    <tr>\n",
       "      <th>2020-05-26</th>\n",
       "      <td>CXB-219</td>\n",
       "      <td>422.500000</td>\n",
       "      <td>137</td>\n",
       "      <td>0.0</td>\n",
       "      <td>0</td>\n",
       "      <td>0.0</td>\n",
       "      <td>0</td>\n",
       "      <td>0</td>\n",
       "      <td>0</td>\n",
       "    </tr>\n",
       "  </tbody>\n",
       "</table>\n",
       "</div>"
      ],
      "text/plain": [
       "             region  current_infected  daily_infected  current_hospitalised  \\\n",
       "time_stamp                                                                    \n",
       "2020-05-24  CXB-219        243.333333             274                   0.0   \n",
       "2020-05-25  CXB-219        315.000000              97                   0.0   \n",
       "2020-05-26  CXB-219        422.500000             137                   0.0   \n",
       "\n",
       "            daily_hospitalised  current_intensive_care  daily_intensive_care  \\\n",
       "time_stamp                                                                     \n",
       "2020-05-24                   0                     0.0                     0   \n",
       "2020-05-25                   0                     0.0                     0   \n",
       "2020-05-26                   0                     0.0                     0   \n",
       "\n",
       "            daily_hospital_deaths  daily_deaths  \n",
       "time_stamp                                       \n",
       "2020-05-24                      0             0  \n",
       "2020-05-25                      0             0  \n",
       "2020-05-26                      0             0  "
      ]
     },
     "execution_count": 56,
     "metadata": {},
     "output_type": "execute_result"
    }
   ],
   "source": [
    "read.regional_summary.head(3) # this is the equivalent of the summary.csv"
   ]
  },
  {
   "cell_type": "markdown",
   "metadata": {},
   "source": [
    "### Daily infections"
   ]
  },
  {
   "cell_type": "code",
   "execution_count": 57,
   "metadata": {},
   "outputs": [],
   "source": [
    "summary = read.regional_summary.reset_index()"
   ]
  },
  {
   "cell_type": "code",
   "execution_count": 58,
   "metadata": {},
   "outputs": [
    {
     "data": {
      "image/png": "[encoded data removed]",
      "text/plain": [
       "<Figure size 432x288 with 1 Axes>"
      ]
     },
     "metadata": {
      "needs_background": "light"
     },
     "output_type": "display_data"
    }
   ],
   "source": [
    "summary.groupby(['time_stamp']).sum().plot(y=['daily_infected'])\n",
    "plt.ylabel('Daily infections')\n",
    "plt.show()"
   ]
  },
  {
   "cell_type": "markdown",
   "metadata": {},
   "source": [
    "### Hospital and intensive care"
   ]
  },
  {
   "cell_type": "code",
   "execution_count": 59,
   "metadata": {},
   "outputs": [
    {
     "data": {
      "image/png": "[encoded data removed]",
      "text/plain": [
       "<Figure size 432x288 with 1 Axes>"
      ]
     },
     "metadata": {
      "needs_background": "light"
     },
     "output_type": "display_data"
    }
   ],
   "source": [
    "summary.groupby(['time_stamp']).sum().plot(y=['current_hospitalised', 'current_intensive_care'])\n",
    "plt.show()"
   ]
  },
  {
   "cell_type": "markdown",
   "metadata": {},
   "source": [
    "### Cumulative infections by age"
   ]
  },
  {
   "cell_type": "code",
   "execution_count": 60,
   "metadata": {},
   "outputs": [
    {
     "name": "stdout",
     "output_type": "stream",
     "text": [
      "2022-07-04 11:50:02,465 - june.records.records_reader - INFO - Loading infections table\n",
      "2022-07-04 11:50:02,488 - june.records.records_reader - INFO - Loading population table\n",
      "2022-07-04 11:50:02,544 - june.records.records_reader - INFO - Merging infection and population tables\n",
      "2022-07-04 11:50:02,550 - june.records.records_reader - INFO - Loading geography table\n",
      "2022-07-04 11:50:02,571 - june.records.records_reader - INFO - Mergeing infection and geography tables\n"
     ]
    }
   ],
   "source": [
    "infections_df = read.get_table_with_extras('infections',\n",
    "                                           'infected_ids')"
   ]
  },
  {
   "cell_type": "code",
   "execution_count": 61,
   "metadata": {},
   "outputs": [
    {
     "name": "stdout",
     "output_type": "stream",
     "text": [
      "2022-07-04 11:50:02,583 - june.records.records_reader - INFO - Loading deaths table\n",
      "2022-07-04 11:50:02,589 - june.records.records_reader - INFO - Loading population table\n",
      "2022-07-04 11:50:02,637 - june.records.records_reader - INFO - Merging infection and population tables\n",
      "2022-07-04 11:50:02,642 - june.records.records_reader - INFO - Loading geography table\n",
      "2022-07-04 11:50:02,664 - june.records.records_reader - INFO - Mergeing infection and geography tables\n"
     ]
    }
   ],
   "source": [
    "deaths_df = read.get_table_with_extras('deaths', \n",
    "                                       'dead_person_ids')"
   ]
  },
  {
   "cell_type": "code",
   "execution_count": 62,
   "metadata": {},
   "outputs": [],
   "source": [
    "age_bins = (0,20,60,100)"
   ]
  },
  {
   "cell_type": "code",
   "execution_count": 63,
   "metadata": {},
   "outputs": [],
   "source": [
    "infected_by_age = infections_df.groupby([pd.cut(infections_df['age'],\n",
    "            bins=age_bins), 'timestamp']).size()"
   ]
  },
  {
   "cell_type": "code",
   "execution_count": 64,
   "metadata": {},
   "outputs": [],
   "source": [
    "people_df = read.table_to_df('population')"
   ]
  },
  {
   "cell_type": "code",
   "execution_count": 65,
   "metadata": {},
   "outputs": [],
   "source": [
    "n_by_age = people_df.groupby(pd.cut(people_df['age'],\n",
    "            bins=age_bins)).size()"
   ]
  },
  {
   "cell_type": "code",
   "execution_count": 66,
   "metadata": {},
   "outputs": [
    {
     "data": {
      "text/plain": [
       "<matplotlib.legend.Legend at 0x7fc592508f40>"
      ]
     },
     "execution_count": 66,
     "metadata": {},
     "output_type": "execute_result"
    },
    {
     "data": {
      "image/png": "[encoded data removed]",
      "text/plain": [
       "<Figure size 432x288 with 1 Axes>"
      ]
     },
     "metadata": {
      "needs_background": "light"
     },
     "output_type": "display_data"
    }
   ],
   "source": [
    "(100*infected_by_age/n_by_age).xs(10).cumsum().plot(label='0,20')\n",
    "(100*infected_by_age/n_by_age).xs(30).cumsum().plot(label='20,60')\n",
    "(100*infected_by_age/n_by_age).xs(70).cumsum().plot(label='60,100')\n",
    "plt.ylabel(\"% cumulative infected\")\n",
    "plt.legend()"
   ]
  },
  {
   "cell_type": "markdown",
   "metadata": {},
   "source": [
    "### Where people get infected"
   ]
  },
  {
   "cell_type": "code",
   "execution_count": 67,
   "metadata": {},
   "outputs": [],
   "source": [
    "locations_df = infections_df.groupby(['location_specs', \n",
    "                                'timestamp']).size()"
   ]
  },
  {
   "cell_type": "code",
   "execution_count": 68,
   "metadata": {},
   "outputs": [
    {
     "data": {
      "text/plain": [
       "<AxesSubplot:xlabel='timestamp'>"
      ]
     },
     "execution_count": 68,
     "metadata": {},
     "output_type": "execute_result"
    },
    {
     "data": {
      "image/png": "[encoded data removed]",
      "text/plain": [
       "<Figure size 432x288 with 1 Axes>"
      ]
     },
     "metadata": {
      "needs_background": "light"
     },
     "output_type": "display_data"
    }
   ],
   "source": [
    "locations_df.unstack(level=0).plot()"
   ]
  },
  {
   "cell_type": "code",
   "execution_count": 69,
   "metadata": {},
   "outputs": [
    {
     "data": {
      "text/plain": [
       "Text(0.5, 0, 'location')"
      ]
     },
     "execution_count": 69,
     "metadata": {},
     "output_type": "execute_result"
    },
    {
     "data": {
      "image/png": "[encoded data removed]",
      "text/plain": [
       "<Figure size 432x288 with 1 Axes>"
      ]
     },
     "metadata": {
      "needs_background": "light"
     },
     "output_type": "display_data"
    }
   ],
   "source": [
    "import matplotlib.ticker as mtick\n",
    "location_counts_df = locations_df.groupby('location_specs').size()\n",
    "location_counts_df = 100*location_counts_df / location_counts_df.sum()\n",
    "ax = location_counts_df.sort_values().plot.bar()\n",
    "ax.yaxis.set_major_formatter(mtick.PercentFormatter())\n",
    "plt.ylabel('Percentage of infections at location')\n",
    "plt.xlabel('location')"
   ]
  },
  {
   "cell_type": "code",
   "execution_count": null,
   "metadata": {},
   "outputs": [],
   "source": []
  },
  {
   "cell_type": "code",
   "execution_count": null,
   "metadata": {},
   "outputs": [],
   "source": []
  }
 ],
 "metadata": {
  "kernelspec": {
   "display_name": "Python 3 (ipykernel)",
   "language": "python",
   "name": "python3"
  },
  "language_info": {
   "codemirror_mode": {
    "name": "ipython",
    "version": 3
   },
   "file_extension": ".py",
   "mimetype": "text/x-python",
   "name": "python",
   "nbconvert_exporter": "python",
   "pygments_lexer": "ipython3",
   "version": "3.8.10"
  }
 },
 "nbformat": 4,
 "nbformat_minor": 4
}
