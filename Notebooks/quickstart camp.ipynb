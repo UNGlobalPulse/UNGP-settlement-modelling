{
 "cells": [
  {
   "cell_type": "code",
   "execution_count": 1,
   "metadata": {},
   "outputs": [],
   "source": [
    "import warnings\n",
    "warnings.filterwarnings('ignore')"
   ]
  },
  {
   "cell_type": "code",
   "execution_count": 2,
   "metadata": {},
   "outputs": [],
   "source": [
    "import numpy as np\n",
    "import pandas as pd\n",
    "import time\n",
    "import matplotlib.pyplot as plt\n",
    "import seaborn as sns\n",
    "from datetime import datetime\n",
    "import sys\n",
    "import argparse\n",
    "from pathlib import Path\n",
    "sns.set_context('notebook')"
   ]
  },
  {
   "cell_type": "code",
   "execution_count": 3,
   "metadata": {},
   "outputs": [
    {
     "name": "stderr",
     "output_type": "stream",
     "text": [
      "No --data argument given - defaulting to:\n",
      "/home/florpi/JUNE-private/data\n",
      "No --configs argument given - defaulting to:\n",
      "/home/florpi/JUNE-private/june/configs\n"
     ]
    },
    {
     "name": "stdout",
     "output_type": "stream",
     "text": [
      "2021-06-02 17:30:53,171 - camps.paths - WARNING - No --camp_data argument given - defaulting to:\n",
      "/home/florpi/UNGP-settlement-modelling-private/camp_data\n",
      "2021-06-02 17:30:53,172 - camps.paths - WARNING - No --configs_camps argument given - defaulting to:\n",
      "/home/florpi/UNGP-settlement-modelling-private/configs_camps\n"
     ]
    }
   ],
   "source": [
    "from june.geography import Geography\n",
    "from june.demography.demography import (\n",
    "    load_age_and_sex_generators_for_bins,\n",
    "    Demography,\n",
    "    Population,\n",
    "    load_comorbidity_data,\n",
    "    generate_comorbidity,\n",
    ")\n",
    "from june.paths import data_path, configs_path\n",
    "from june.infection import Infection, HealthIndexGenerator\n",
    "from june.infection_seed import InfectionSeed\n",
    "from june.infection import InfectionSelector, InfectionSelectors\n",
    "from june.interaction import Interaction\n",
    "from june.groups import Hospital, Hospitals, Cemeteries\n",
    "from june.distributors import HospitalDistributor\n",
    "from june.hdf5_savers import generate_world_from_hdf5\n",
    "from june.policy import Policy, Policies\n",
    "from june.records import Record\n",
    "from june.simulator import Simulator\n",
    "from june.records import Record, RecordReader\n",
    "\n",
    "from camps.activity import CampActivityManager\n",
    "from camps.paths import camp_data_path, camp_configs_path\n",
    "from camps.world import World\n",
    "from camps.groups.leisure import generate_leisure_for_world, generate_leisure_for_config\n",
    "from camps.camp_creation import (\n",
    "    generate_empty_world,\n",
    "    populate_world,\n",
    "    distribute_people_to_households,\n",
    ")  # this is loaded from the ../camp_scripts folder"
   ]
  },
  {
   "cell_type": "code",
   "execution_count": 4,
   "metadata": {},
   "outputs": [],
   "source": [
    "from camps.groups import PumpLatrines, PumpLatrineDistributor\n",
    "from camps.groups import DistributionCenters, DistributionCenterDistributor\n",
    "from camps.groups import Communals, CommunalDistributor\n",
    "from camps.groups import FemaleCommunals, FemaleCommunalDistributor\n",
    "from camps.groups import Religiouss, ReligiousDistributor\n",
    "from camps.groups import Shelter, Shelters, ShelterDistributor\n",
    "from camps.groups import IsolationUnit, IsolationUnits\n",
    "from camps.groups import LearningCenters\n",
    "from camps.distributors import LearningCenterDistributor\n",
    "from camps.groups import PlayGroups, PlayGroupDistributor\n",
    "from camps.groups import EVouchers, EVoucherDistributor\n",
    "from camps.groups import NFDistributionCenters, NFDistributionCenterDistributor\n",
    "from camps.groups import SheltersVisitsDistributor"
   ]
  },
  {
   "cell_type": "markdown",
   "metadata": {},
   "source": [
    "## Initialize the world"
   ]
  },
  {
   "cell_type": "markdown",
   "metadata": {},
   "source": [
    "When we create the camp to be simulated, we call this the 'world'. The world is initialised after specifying which geographical regions you want to simulate. We can do this by using the `filter_key` argument in the `generate_empty_world` function. Cox's Bazar Expansion Site is made up of camps (which we call regions), UNHCR blocks (which we call super areas) and Mahjee blocks (which we call areas). These are the 3 heirarchical levels on which our model works. You can pass lists of the regions/super_areas/areas to the function here. Alternatively, by leaving the function empty you can generate the entire Cox's Bazar Expansion Site consisting of 112 super areas."
   ]
  },
  {
   "cell_type": "code",
   "execution_count": 5,
   "metadata": {},
   "outputs": [
    {
     "name": "stdout",
     "output_type": "stream",
     "text": [
      "2021-06-02 17:30:53,537 - june.geography.geography - INFO - There are 65 areas and 4 super_areas and 1 regions in the world.\n"
     ]
    }
   ],
   "source": [
    "# create empty world's geography\n",
    "world = generate_empty_world(filter_key = {\"region\" : [\"CXB-219\"]})"
   ]
  },
  {
   "cell_type": "code",
   "execution_count": 6,
   "metadata": {},
   "outputs": [],
   "source": [
    "# populate empty world\n",
    "populate_world(world)"
   ]
  },
  {
   "cell_type": "code",
   "execution_count": 7,
   "metadata": {},
   "outputs": [],
   "source": [
    "# distribute people to households\n",
    "distribute_people_to_households(world)"
   ]
  },
  {
   "cell_type": "code",
   "execution_count": 8,
   "metadata": {},
   "outputs": [
    {
     "name": "stdout",
     "output_type": "stream",
     "text": [
      "2021-06-02 17:30:54,400 - hospitals - INFO - There are 8 hospitals in the world.\n"
     ]
    }
   ],
   "source": [
    "# distirbute hospitals\n",
    "hospitals = Hospitals.from_file(\n",
    "    filename=camp_data_path / \"input/hospitals/hospitals.csv\"\n",
    ")\n",
    "for hospital in hospitals:\n",
    "    hospital.area = world.areas.get_closest_area(hospital.coordinates)\n",
    "world.hospitals = hospitals\n",
    "hospital_distributor = HospitalDistributor(\n",
    "    hospitals, medic_min_age=20, patients_per_medic=10\n",
    ")\n",
    "hospital_distributor.assign_closest_hospitals_to_super_areas(\n",
    "    world.super_areas\n",
    ")\n",
    "hospital_distributor.distribute_medics_from_world(world.people)"
   ]
  },
  {
   "cell_type": "code",
   "execution_count": 9,
   "metadata": {},
   "outputs": [
    {
     "name": "stdout",
     "output_type": "stream",
     "text": [
      "2021-06-02 17:30:54,451 - social_venue - INFO - Domain 0 has 225 pump_latrines(s)\n",
      "2021-06-02 17:30:54,477 - social_venue - INFO - Domain 0 has 504 play_groups(s)\n",
      "2021-06-02 17:30:54,486 - social_venue - INFO - Domain 0 has 7 distribution_centers(s)\n",
      "2021-06-02 17:30:54,521 - social_venue - INFO - Domain 0 has 125 communals(s)\n",
      "2021-06-02 17:30:54,542 - social_venue - INFO - Domain 0 has 67 female_communals(s)\n",
      "2021-06-02 17:30:55,128 - social_venue - INFO - Domain 0 has 2064 religiouss(s)\n",
      "2021-06-02 17:30:55,141 - social_venue - INFO - Domain 0 has 7 e_vouchers(s)\n",
      "2021-06-02 17:30:55,154 - social_venue - INFO - Domain 0 has 36 n_f_distribution_centers(s)\n"
     ]
    }
   ],
   "source": [
    "world.pump_latrines = PumpLatrines.for_areas(world.areas)\n",
    "world.play_groups = PlayGroups.for_areas(world.areas)\n",
    "world.distribution_centers = DistributionCenters.for_areas(world.areas)\n",
    "world.communals = Communals.for_areas(world.areas)\n",
    "world.female_communals = FemaleCommunals.for_areas(world.areas)\n",
    "world.religiouss = Religiouss.for_areas(world.areas)\n",
    "world.e_vouchers = EVouchers.for_areas(world.areas)\n",
    "world.n_f_distribution_centers = NFDistributionCenters.for_areas(world.areas)"
   ]
  },
  {
   "cell_type": "code",
   "execution_count": 10,
   "metadata": {},
   "outputs": [],
   "source": [
    "world.cemeteries = Cemeteries()"
   ]
  },
  {
   "cell_type": "markdown",
   "metadata": {},
   "source": [
    "## Geography exploration"
   ]
  },
  {
   "cell_type": "markdown",
   "metadata": {},
   "source": [
    "The geography is initialised first and can be explored."
   ]
  },
  {
   "cell_type": "markdown",
   "metadata": {},
   "source": [
    "### UNHCR camp blocks inside the World"
   ]
  },
  {
   "cell_type": "code",
   "execution_count": 11,
   "metadata": {},
   "outputs": [],
   "source": [
    "super_areas = []\n",
    "for super_area in world.super_areas:\n",
    "    super_areas.append(super_area.name)"
   ]
  },
  {
   "cell_type": "code",
   "execution_count": 12,
   "metadata": {},
   "outputs": [
    {
     "data": {
      "text/plain": [
       "['CXB-219-A', 'CXB-219-B', 'CXB-219-C', 'CXB-219-D']"
      ]
     },
     "execution_count": 12,
     "metadata": {},
     "output_type": "execute_result"
    }
   ],
   "source": [
    "super_areas[:5]"
   ]
  },
  {
   "cell_type": "markdown",
   "metadata": {},
   "source": [
    "### Mahjee blocks inside World"
   ]
  },
  {
   "cell_type": "code",
   "execution_count": 13,
   "metadata": {},
   "outputs": [],
   "source": [
    "areas = []\n",
    "for area in world.areas:\n",
    "    areas.append(area.name)"
   ]
  },
  {
   "cell_type": "code",
   "execution_count": 14,
   "metadata": {},
   "outputs": [
    {
     "data": {
      "text/plain": [
       "['CXB-219-001', 'CXB-219-002', 'CXB-219-003', 'CXB-219-004', 'CXB-219-005']"
      ]
     },
     "execution_count": 14,
     "metadata": {},
     "output_type": "execute_result"
    }
   ],
   "source": [
    "areas[:5]"
   ]
  },
  {
   "cell_type": "markdown",
   "metadata": {},
   "source": [
    "## Demography exploration"
   ]
  },
  {
   "cell_type": "markdown",
   "metadata": {},
   "source": [
    "Once we have populated the 'digital twin' we can explore some of the attributes of the people we have created in the simulation."
   ]
  },
  {
   "cell_type": "markdown",
   "metadata": {},
   "source": [
    "### UNHCR block residents"
   ]
  },
  {
   "cell_type": "code",
   "execution_count": 15,
   "metadata": {},
   "outputs": [],
   "source": [
    "sample_ages = []\n",
    "sample_sexes = []\n",
    "for person in world.super_areas.members[0].people:\n",
    "    sample_ages.append(person.age)\n",
    "    sample_sexes.append(person.sex)"
   ]
  },
  {
   "cell_type": "code",
   "execution_count": 16,
   "metadata": {},
   "outputs": [
    {
     "data": {
      "text/plain": [
       "(['f', 'f', 'f', 'f', 'f'], [53, 44, 34, 58, 32])"
      ]
     },
     "execution_count": 16,
     "metadata": {},
     "output_type": "execute_result"
    }
   ],
   "source": [
    "sample_sexes[:5], sample_ages[:5]"
   ]
  },
  {
   "cell_type": "code",
   "execution_count": 17,
   "metadata": {},
   "outputs": [
    {
     "data": {
      "image/png": "[encoded data removed]",
      "text/plain": [
       "<Figure size 432x288 with 1 Axes>"
      ]
     },
     "metadata": {
      "needs_background": "light"
     },
     "output_type": "display_data"
    }
   ],
   "source": [
    "ages, counts = np.unique(sample_ages, return_counts=True)\n",
    "plt.bar(ages, counts)\n",
    "plt.title('super area: {} age distribution'.format(world.super_areas.members[0].name))\n",
    "plt.show()"
   ]
  },
  {
   "cell_type": "code",
   "execution_count": 18,
   "metadata": {},
   "outputs": [
    {
     "name": "stdout",
     "output_type": "stream",
     "text": [
      "The % children between ages 0-16 is 49%\n"
     ]
    }
   ],
   "source": [
    "print ('The % children between ages 0-16 is {}%'.format(round(np.sum(counts[:16])/(np.sum(counts[:16])+np.sum(counts[16:]))*100)))"
   ]
  },
  {
   "cell_type": "markdown",
   "metadata": {},
   "source": [
    "## Households"
   ]
  },
  {
   "cell_type": "markdown",
   "metadata": {},
   "source": [
    "In this model, we will use the term 'family' and 'household' interchangeably. After populating the 'digital twin', we need to cluster people into families. To do this, we take account of age structure so that children live with adults, that there are some intergenerational households and such that we might also have some households of only adults."
   ]
  },
  {
   "cell_type": "markdown",
   "metadata": {},
   "source": [
    "### Household size distribution"
   ]
  },
  {
   "cell_type": "code",
   "execution_count": 19,
   "metadata": {},
   "outputs": [
    {
     "data": {
      "image/png": "[encoded data removed]",
      "text/plain": [
       "<Figure size 432x288 with 1 Axes>"
      ]
     },
     "metadata": {
      "needs_background": "light"
     },
     "output_type": "display_data"
    }
   ],
   "source": [
    "household_sizes = [household.size for household in world.households]\n",
    "plt.hist(household_sizes, density=True, bins=np.arange(0,12))\n",
    "plt.xlabel(\"Household size\")\n",
    "plt.ylabel(\"Frequency\")\n",
    "plt.axvline(np.mean(household_sizes), color=\"cyan\")\n",
    "plt.text(8, 0.150, f\"Avg. size: {(np.mean(household_sizes)):.2f}\")\n",
    "plt.show()"
   ]
  },
  {
   "cell_type": "markdown",
   "metadata": {},
   "source": [
    "# Shelters"
   ]
  },
  {
   "cell_type": "markdown",
   "metadata": {},
   "source": [
    "Shelters house people in the camp. Since we know that families (houseohlds) often share shelters with other families, we can set the `sharing_shelter_ratio` to cluster families into shared shelters."
   ]
  },
  {
   "cell_type": "code",
   "execution_count": 20,
   "metadata": {},
   "outputs": [],
   "source": [
    "world.shelters = Shelters.for_areas(world.areas)\n",
    "shelter_distributor = ShelterDistributor(sharing_shelter_ratio = 0.75) # proportion of families that share a shelter\n",
    "for area in world.areas:\n",
    "    shelter_distributor.distribute_people_in_shelters(area.shelters, area.households)"
   ]
  },
  {
   "cell_type": "code",
   "execution_count": 21,
   "metadata": {},
   "outputs": [
    {
     "data": {
      "image/png": "[encoded data removed]",
      "text/plain": [
       "<Figure size 576x216 with 2 Axes>"
      ]
     },
     "metadata": {
      "needs_background": "light"
     },
     "output_type": "display_data"
    }
   ],
   "source": [
    "fig, ax = plt.subplots(1, 2, figsize=(8,3))\n",
    "shelter_sizes = [shelter.size for shelter in world.shelters]\n",
    "shelter_families = [shelter.n_families for shelter in world.shelters]\n",
    "ax[0].hist(shelter_sizes)\n",
    "ax[0].set_title(\"Shelter size\")\n",
    "shelter_families = {1 : len([shelter for shelter in world.shelters if shelter.n_families == 1]),\n",
    "                    2 : len([shelter for shelter in world.shelters if shelter.n_families == 2])}\n",
    "ax[1].bar(shelter_families.keys(), shelter_families.values())\n",
    "ax[1].set_title(\"# families per shelter\")\n",
    "plt.show()"
   ]
  },
  {
   "cell_type": "markdown",
   "metadata": {},
   "source": [
    "## Activity exploration"
   ]
  },
  {
   "cell_type": "markdown",
   "metadata": {},
   "source": [
    "Once different activity locations are seeded in the 'digital twin' we can explore how many there are in different areas of the twin, and their coordinates to check they've all been added correctly."
   ]
  },
  {
   "cell_type": "markdown",
   "metadata": {},
   "source": [
    "### Pumps and latrines "
   ]
  },
  {
   "cell_type": "code",
   "execution_count": 22,
   "metadata": {},
   "outputs": [],
   "source": [
    "pumps_and_latrines = []\n",
    "for pump_latrine in world.areas.members[0].pump_latrines:\n",
    "    pumps_and_latrines.append(pump_latrine)"
   ]
  },
  {
   "cell_type": "code",
   "execution_count": 23,
   "metadata": {},
   "outputs": [
    {
     "name": "stdout",
     "output_type": "stream",
     "text": [
      "There are 4 pumps and latrines in area CXB-219-001\n"
     ]
    }
   ],
   "source": [
    "print ('There are {} pumps and latrines in area {}'.format(len(pumps_and_latrines), world.areas.members[0].name))"
   ]
  },
  {
   "cell_type": "markdown",
   "metadata": {},
   "source": [
    "### Distribution centers"
   ]
  },
  {
   "cell_type": "code",
   "execution_count": 24,
   "metadata": {},
   "outputs": [],
   "source": [
    "distribution_centers = []\n",
    "for center in world.distribution_centers:\n",
    "    distribution_centers.append(center)"
   ]
  },
  {
   "cell_type": "code",
   "execution_count": 25,
   "metadata": {},
   "outputs": [
    {
     "data": {
      "text/plain": [
       "array([21.21176333, 92.13597667])"
      ]
     },
     "execution_count": 25,
     "metadata": {},
     "output_type": "execute_result"
    }
   ],
   "source": [
    "distribution_centers[0].coordinates"
   ]
  },
  {
   "cell_type": "markdown",
   "metadata": {},
   "source": [
    "### Non-food Distribution centers"
   ]
  },
  {
   "cell_type": "code",
   "execution_count": 26,
   "metadata": {},
   "outputs": [],
   "source": [
    "non_food_distribution_centers = []\n",
    "for center in world.n_f_distribution_centers:\n",
    "    non_food_distribution_centers.append(center)"
   ]
  },
  {
   "cell_type": "code",
   "execution_count": 27,
   "metadata": {},
   "outputs": [
    {
     "data": {
      "text/plain": [
       "array([21.1962 , 92.14936])"
      ]
     },
     "execution_count": 27,
     "metadata": {},
     "output_type": "execute_result"
    }
   ],
   "source": [
    "non_food_distribution_centers[0].coordinates"
   ]
  },
  {
   "cell_type": "markdown",
   "metadata": {},
   "source": [
    "### E-Voucher outlets"
   ]
  },
  {
   "cell_type": "code",
   "execution_count": 28,
   "metadata": {},
   "outputs": [],
   "source": [
    "e_voucher_outlets = []\n",
    "for center in world.e_vouchers:\n",
    "    e_voucher_outlets.append(center)"
   ]
  },
  {
   "cell_type": "code",
   "execution_count": 29,
   "metadata": {},
   "outputs": [
    {
     "data": {
      "text/plain": [
       "array([21.21176333, 92.13597667])"
      ]
     },
     "execution_count": 29,
     "metadata": {},
     "output_type": "execute_result"
    }
   ],
   "source": [
    "e_voucher_outlets[0].coordinates"
   ]
  },
  {
   "cell_type": "markdown",
   "metadata": {},
   "source": [
    "### Communal spaces"
   ]
  },
  {
   "cell_type": "code",
   "execution_count": 30,
   "metadata": {},
   "outputs": [],
   "source": [
    "communal_spaces = []\n",
    "for space in world.communals:\n",
    "    communal_spaces.append(space)"
   ]
  },
  {
   "cell_type": "code",
   "execution_count": 31,
   "metadata": {},
   "outputs": [
    {
     "data": {
      "text/plain": [
       "array([21.19621, 92.14924])"
      ]
     },
     "execution_count": 31,
     "metadata": {},
     "output_type": "execute_result"
    }
   ],
   "source": [
    "communal_spaces[0].coordinates"
   ]
  },
  {
   "cell_type": "markdown",
   "metadata": {},
   "source": [
    "### Female friendly communal spaces"
   ]
  },
  {
   "cell_type": "code",
   "execution_count": 32,
   "metadata": {},
   "outputs": [],
   "source": [
    "female_communal_spaces = []\n",
    "for space in world.female_communals:\n",
    "    female_communal_spaces.append(space)"
   ]
  },
  {
   "cell_type": "code",
   "execution_count": 33,
   "metadata": {},
   "outputs": [
    {
     "data": {
      "text/plain": [
       "array([21.19588, 92.152  ])"
      ]
     },
     "execution_count": 33,
     "metadata": {},
     "output_type": "execute_result"
    }
   ],
   "source": [
    "female_communal_spaces[0].coordinates"
   ]
  },
  {
   "cell_type": "markdown",
   "metadata": {},
   "source": [
    "### Religious sites"
   ]
  },
  {
   "cell_type": "code",
   "execution_count": 34,
   "metadata": {},
   "outputs": [],
   "source": [
    "religious = []\n",
    "for rel in world.religiouss:\n",
    "    religious.append(rel)"
   ]
  },
  {
   "cell_type": "code",
   "execution_count": 35,
   "metadata": {},
   "outputs": [
    {
     "data": {
      "text/plain": [
       "array([21.20069, 92.15216])"
      ]
     },
     "execution_count": 35,
     "metadata": {},
     "output_type": "execute_result"
    }
   ],
   "source": [
    "religious[0].coordinates"
   ]
  },
  {
   "cell_type": "markdown",
   "metadata": {},
   "source": [
    "# Adding the infection"
   ]
  },
  {
   "cell_type": "markdown",
   "metadata": {},
   "source": [
    "The selector handles how infections are handled in the code. You can set different 'symptom trajectories' (e.g. exposed->mild->severe->hospitalised->intensive care) from different files. Here, we use the default."
   ]
  },
  {
   "cell_type": "code",
   "execution_count": 36,
   "metadata": {},
   "outputs": [],
   "source": [
    "selector = InfectionSelector.from_file()"
   ]
  },
  {
   "cell_type": "markdown",
   "metadata": {},
   "source": [
    "# Adding the interaction"
   ]
  },
  {
   "cell_type": "markdown",
   "metadata": {},
   "source": [
    "The interaction class handles how many contacts people have in different locations and with who. If contact matrices are available, these can be coded in a `.yaml` file and fed into the class here."
   ]
  },
  {
   "cell_type": "code",
   "execution_count": 37,
   "metadata": {},
   "outputs": [],
   "source": [
    "interaction = Interaction.from_file(\n",
    "    config_filename=camp_configs_path / \"defaults/interaction/\" / \"ContactInteraction_med_low_low_low.yaml\",\n",
    "    population=world.people,\n",
    ")"
   ]
  },
  {
   "cell_type": "markdown",
   "metadata": {},
   "source": [
    "# Set policies"
   ]
  },
  {
   "cell_type": "markdown",
   "metadata": {},
   "source": [
    "Policies control how 'operational interventions' are set in the camp. Here we set some social distancing policies, policies relating to medical care, such as people with severe symptoms being hospitalised, and individual and activity policies which can dynamically change how often and where people go, e.g. here, we close all female communal spaces and non-food distirbution centers which the camp did back in March"
   ]
  },
  {
   "cell_type": "code",
   "execution_count": 38,
   "metadata": {},
   "outputs": [],
   "source": [
    "policies = Policies.from_file(\n",
    "        camp_configs_path / \"defaults/policy/vaccine.yaml\",\n",
    "        base_policy_modules=(\"june.policy\", \"camps.policy\"),\n",
    "    )"
   ]
  },
  {
   "cell_type": "code",
   "execution_count": 39,
   "metadata": {},
   "outputs": [
    {
     "data": {
      "text/plain": [
       "[<june.policy.interaction_policies.SocialDistancing at 0x7fbbea7201f0>,\n",
       " <june.policy.medical_care_policies.Hospitalisation at 0x7fbbba0a8a90>,\n",
       " <june.policy.individual_policies.SevereSymptomsStayHome at 0x7fbbba0a8ca0>,\n",
       " <june.policy.individual_policies.Quarantine at 0x7fbbb8edc5e0>,\n",
       " <june.policy.vaccine_policy.VaccineDistribution at 0x7fbbb8edcd90>,\n",
       " <june.policy.vaccine_policy.VaccineDistribution at 0x7fbbb8edc490>,\n",
       " <june.policy.leisure_policies.CloseLeisureVenue at 0x7fbbb983fc10>,\n",
       " <june.policy.leisure_policies.ChangeLeisureProbability at 0x7fbbb8fc21c0>,\n",
       " <june.policy.leisure_policies.ChangeLeisureProbability at 0x7fbbb8e769a0>]"
      ]
     },
     "execution_count": 39,
     "metadata": {},
     "output_type": "execute_result"
    }
   ],
   "source": [
    "policies.policies"
   ]
  },
  {
   "cell_type": "markdown",
   "metadata": {},
   "source": [
    "# Seed the disease"
   ]
  },
  {
   "cell_type": "markdown",
   "metadata": {},
   "source": [
    "Set intial seeding conditions. This can be done at the camp level specifically, or generally by seeding them randomly. Here the `n_cases` is the number of randomly seeded people over the entire population."
   ]
  },
  {
   "cell_type": "code",
   "execution_count": 40,
   "metadata": {},
   "outputs": [],
   "source": [
    "infection_seed = InfectionSeed(\n",
    "    world=world, infection_selector=selector, \n",
    ")\n",
    "infection_seed.unleash_virus(n_cases=5, population=world.people, time=0)"
   ]
  },
  {
   "cell_type": "markdown",
   "metadata": {},
   "source": [
    "## Select config file"
   ]
  },
  {
   "cell_type": "markdown",
   "metadata": {},
   "source": [
    "Before running the simualtion we must select the config file which defines how the world is set up and the simualtor will work. Specifically, the condif file specifies which activities will be included, how long we'll run the simualtion for, what the initial starting day will be and what the structure of weekdays and weekends will look like (if different)"
   ]
  },
  {
   "cell_type": "code",
   "execution_count": 41,
   "metadata": {},
   "outputs": [],
   "source": [
    "CONFIG_PATH = \"../configs_camps/config_demo.yaml\""
   ]
  },
  {
   "cell_type": "markdown",
   "metadata": {},
   "source": [
    "# Initialise activities"
   ]
  },
  {
   "cell_type": "markdown",
   "metadata": {},
   "source": [
    "The final step to intialising the simulator class which brings all of this together is to inialise all the activity distirbutors (the term 'leisure' is a legacy of the original version of this code used for modelling COVID-19 in the UK). This will mean that people know where they can go at and given time."
   ]
  },
  {
   "cell_type": "code",
   "execution_count": 42,
   "metadata": {},
   "outputs": [
    {
     "name": "stdout",
     "output_type": "stream",
     "text": [
      "2021-06-02 17:31:11,603 - leisure - INFO - Linking households and care homes for visits\n",
      "2021-06-02 17:31:11,603 - leisure - INFO - Done\n",
      "2021-06-02 17:31:11,604 - leisure - INFO - Distributing social venues to areas\n",
      "2021-06-02 17:31:11,604 - leisure - INFO - Distributed in 0 of 65 areas.\n",
      "2021-06-02 17:31:11,723 - leisure - INFO - Distributed in 65 of 65 areas.\n"
     ]
    }
   ],
   "source": [
    "leisure = generate_leisure_for_config(world=world, config_filename=CONFIG_PATH)\n",
    "leisure.leisure_distributors = {}\n",
    "leisure.leisure_distributors[\"pump_latrine\"] = PumpLatrineDistributor.from_config(\n",
    "    world.pump_latrines\n",
    ")\n",
    "leisure.leisure_distributors[\"play_group\"] = PlayGroupDistributor.from_config(\n",
    "    world.play_groups\n",
    ")\n",
    "leisure.leisure_distributors[\n",
    "    \"distribution_center\"\n",
    "] = DistributionCenterDistributor.from_config(world.distribution_centers)\n",
    "leisure.leisure_distributors[\"communal\"] = CommunalDistributor.from_config(\n",
    "    world.communals\n",
    ")\n",
    "leisure.leisure_distributors[\n",
    "    \"female_communals\"\n",
    "] = FemaleCommunalDistributor.from_config(world.female_communals)\n",
    "leisure.leisure_distributors[\"religious\"] = ReligiousDistributor.from_config(\n",
    "    world.religiouss\n",
    ")\n",
    "leisure.leisure_distributors[\"e_voucher\"] = EVoucherDistributor.from_config(\n",
    "    world.e_vouchers\n",
    ")\n",
    "leisure.leisure_distributors[\n",
    "    \"n_f_distribution_center\"\n",
    "] = NFDistributionCenterDistributor.from_config(world.n_f_distribution_centers)\n",
    "leisure.leisure_distributors[\n",
    "    \"shelters_visits\"\n",
    "] = SheltersVisitsDistributor.from_config()\n",
    "leisure.leisure_distributors[\"shelters_visits\"].link_shelters_to_shelters(\n",
    "    world.super_areas\n",
    ")\n",
    "# associate social activities to shelters\n",
    "leisure.distribute_social_venues_to_areas(world.areas, world.super_areas)"
   ]
  },
  {
   "cell_type": "markdown",
   "metadata": {},
   "source": [
    "# Initialise simulator and run"
   ]
  },
  {
   "cell_type": "markdown",
   "metadata": {},
   "source": [
    "The recorder is defined which will log all interactions and infections in the simualation for later analysis. The `record_path` can be changed to any path where you want the recorded data to be stored."
   ]
  },
  {
   "cell_type": "code",
   "execution_count": 43,
   "metadata": {},
   "outputs": [],
   "source": [
    "record = Record(\n",
    "    record_path='results', record_static_data=True\n",
    ")\n",
    "record.static_data(world=world)"
   ]
  },
  {
   "cell_type": "markdown",
   "metadata": {},
   "source": [
    "The simulator is defined with all the different necessary components we have built up so far"
   ]
  },
  {
   "cell_type": "code",
   "execution_count": 44,
   "metadata": {},
   "outputs": [],
   "source": [
    "Simulator.ActivityManager = CampActivityManager\n",
    "simulator = Simulator.from_file(\n",
    "    world=world,\n",
    "    interaction=interaction,\n",
    "    leisure=leisure,\n",
    "    policies=policies,\n",
    "    config_filename=CONFIG_PATH,\n",
    "    infection_selectors=InfectionSelectors([selector]),\n",
    "    record=record,\n",
    ")"
   ]
  },
  {
   "cell_type": "markdown",
   "metadata": {},
   "source": [
    "Finally we can run a small simualation"
   ]
  },
  {
   "cell_type": "code",
   "execution_count": null,
   "metadata": {
    "scrolled": true
   },
   "outputs": [
    {
     "name": "stdout",
     "output_type": "stream",
     "text": [
      "2021-06-02 17:31:15,088 - simulator - INFO - Starting simulation for 120 days at day 2020-05-24 00:00:00,to run for 120 days\n",
      "2021-06-02 17:31:15,121 - simulator - INFO - ==================== timestep ====================\n",
      "2021-06-02 17:31:15,284 - activity_manager - INFO - CMS: People COMS for rank 0/1 - 1.5438999980688095e-05,1.52587890625e-05 - 2020-05-24 00:00:00\n",
      "2021-06-02 17:31:15,290 - simulator - INFO - Info for rank 0, Date = 2020-05-24 00:00:00, number of deaths =  0, number of infected = 5\n",
      "2021-06-02 17:31:15,338 - simulator - INFO - CMS: Infection COMS-v2 for rank 0/1(2)0.0029212160006863996,0.0029218196868896484 - 2020-05-24 00:00:00\n",
      "2021-06-02 17:31:15,472 - simulator - INFO - CMS: Timestep for rank 0/1 - 0.34869792300014524,0.34869837760925293 - 2020-05-24 00:00:00\n",
      "\n",
      "2021-06-02 17:31:15,473 - simulator - INFO - ==================== timestep ====================\n",
      "2021-06-02 17:31:16,191 - activity_manager - INFO - CMS: People COMS for rank 0/1 - 3.748000381165184e-06,3.5762786865234375e-06 - 2020-05-24 03:00:00\n",
      "2021-06-02 17:31:16,197 - simulator - INFO - Info for rank 0, Date = 2020-05-24 03:00:00, number of deaths =  0, number of infected = 5\n",
      "2021-06-02 17:31:16,260 - simulator - INFO - CMS: Infection COMS-v2 for rank 0/1(2)0.00018517100033932365,0.0001850128173828125 - 2020-05-24 03:00:00\n",
      "2021-06-02 17:31:16,326 - simulator - INFO - CMS: Timestep for rank 0/1 - 0.8523514039989095,0.8523521423339844 - 2020-05-24 03:00:00\n",
      "\n",
      "2021-06-02 17:31:16,326 - simulator - INFO - ==================== timestep ====================\n",
      "2021-06-02 17:31:16,857 - activity_manager - INFO - CMS: People COMS for rank 0/1 - 3.905999619746581e-06,3.814697265625e-06 - 2020-05-24 05:00:00\n",
      "2021-06-02 17:31:16,862 - simulator - INFO - Info for rank 0, Date = 2020-05-24 05:00:00, number of deaths =  0, number of infected = 5\n",
      "2021-06-02 17:31:16,949 - simulator - INFO - CMS: Infection COMS-v2 for rank 0/1(2)0.00020405199938977603,0.00020360946655273438 - 2020-05-24 05:00:00\n",
      "2021-06-02 17:31:17,022 - simulator - INFO - CMS: Timestep for rank 0/1 - 0.6949835230007011,0.6949851512908936 - 2020-05-24 05:00:00\n",
      "\n",
      "2021-06-02 17:31:17,023 - simulator - INFO - ==================== timestep ====================\n",
      "2021-06-02 17:31:17,676 - activity_manager - INFO - CMS: People COMS for rank 0/1 - 3.8060006772866473e-06,3.5762786865234375e-06 - 2020-05-24 07:00:00\n",
      "2021-06-02 17:31:17,684 - simulator - INFO - Info for rank 0, Date = 2020-05-24 07:00:00, number of deaths =  0, number of infected = 5\n",
      "2021-06-02 17:31:17,740 - simulator - INFO - CMS: Infection COMS-v2 for rank 0/1(2)0.00020686599964392371,0.00020694732666015625 - 2020-05-24 07:00:00\n",
      "2021-06-02 17:31:17,815 - simulator - INFO - CMS: Timestep for rank 0/1 - 0.7914234800009581,0.7914247512817383 - 2020-05-24 07:00:00\n",
      "\n",
      "2021-06-02 17:31:17,816 - simulator - INFO - ==================== timestep ====================\n",
      "2021-06-02 17:31:18,328 - activity_manager - INFO - CMS: People COMS for rank 0/1 - 6.471000233432278e-06,6.198883056640625e-06 - 2020-05-24 09:00:00\n",
      "2021-06-02 17:31:18,339 - simulator - INFO - Info for rank 0, Date = 2020-05-24 09:00:00, number of deaths =  0, number of infected = 5\n",
      "2021-06-02 17:31:18,407 - simulator - INFO - CMS: Infection COMS-v2 for rank 0/1(2)0.00019537499974831007,0.0001952648162841797 - 2020-05-24 09:00:00\n",
      "2021-06-02 17:31:18,476 - simulator - INFO - CMS: Timestep for rank 0/1 - 0.65639098399879,0.6563913822174072 - 2020-05-24 09:00:00\n",
      "\n",
      "2021-06-02 17:31:18,477 - simulator - INFO - ==================== timestep ====================\n",
      "2021-06-02 17:31:18,641 - activity_manager - INFO - CMS: People COMS for rank 0/1 - 4.635998266167007e-06,4.291534423828125e-06 - 2020-05-24 11:00:00\n",
      "2021-06-02 17:31:18,650 - simulator - INFO - Info for rank 0, Date = 2020-05-24 11:00:00, number of deaths =  0, number of infected = 5\n",
      "2021-06-02 17:31:18,744 - simulator - INFO - CMS: Infection COMS-v2 for rank 0/1(2)0.0002024120003625285,0.00020241737365722656 - 2020-05-24 11:00:00\n",
      "2021-06-02 17:31:18,817 - simulator - INFO - CMS: Timestep for rank 0/1 - 0.3389430830011406,0.3389441967010498 - 2020-05-24 11:00:00\n",
      "\n",
      "2021-06-02 17:31:18,817 - simulator - INFO - ==================== timestep ====================\n",
      "2021-06-02 17:31:18,976 - activity_manager - INFO - CMS: People COMS for rank 0/1 - 4.348999937064946e-06,4.291534423828125e-06 - 2020-05-25 00:00:00\n",
      "2021-06-02 17:31:18,982 - simulator - INFO - Info for rank 0, Date = 2020-05-25 00:00:00, number of deaths =  0, number of infected = 5\n",
      "2021-06-02 17:31:19,033 - simulator - INFO - CMS: Infection COMS-v2 for rank 0/1(2)0.00021846400159120094,0.00021839141845703125 - 2020-05-25 00:00:00\n",
      "2021-06-02 17:31:19,107 - simulator - INFO - CMS: Timestep for rank 0/1 - 0.2890564169993013,0.28905749320983887 - 2020-05-25 00:00:00\n",
      "\n",
      "2021-06-02 17:31:19,108 - simulator - INFO - ==================== timestep ====================\n",
      "2021-06-02 17:31:19,604 - activity_manager - INFO - CMS: People COMS for rank 0/1 - 3.3310006983811036e-06,3.0994415283203125e-06 - 2020-05-25 02:00:00\n",
      "2021-06-02 17:31:19,608 - simulator - INFO - Info for rank 0, Date = 2020-05-25 02:00:00, number of deaths =  0, number of infected = 5\n",
      "2021-06-02 17:31:19,673 - simulator - INFO - CMS: Infection COMS-v2 for rank 0/1(2)0.00025725699924805667,0.0002574920654296875 - 2020-05-25 02:00:00\n",
      "2021-06-02 17:31:19,741 - simulator - INFO - CMS: Timestep for rank 0/1 - 0.632567864999146,0.6325688362121582 - 2020-05-25 02:00:00\n",
      "\n",
      "2021-06-02 17:31:19,742 - simulator - INFO - ==================== timestep ====================\n",
      "2021-06-02 17:31:20,207 - activity_manager - INFO - CMS: People COMS for rank 0/1 - 4.034998710267246e-06,4.0531158447265625e-06 - 2020-05-25 04:00:00\n",
      "2021-06-02 17:31:20,213 - simulator - INFO - Info for rank 0, Date = 2020-05-25 04:00:00, number of deaths =  0, number of infected = 5\n",
      "2021-06-02 17:31:20,280 - simulator - INFO - CMS: Infection COMS-v2 for rank 0/1(2)0.00018677600019145757,0.000186920166015625 - 2020-05-25 04:00:00\n",
      "2021-06-02 17:31:20,340 - simulator - INFO - CMS: Timestep for rank 0/1 - 0.5978579150014411,0.5978589057922363 - 2020-05-25 04:00:00\n",
      "\n",
      "2021-06-02 17:31:20,341 - simulator - INFO - ==================== timestep ====================\n",
      "2021-06-02 17:31:20,786 - activity_manager - INFO - CMS: People COMS for rank 0/1 - 3.429999196669087e-06,3.337860107421875e-06 - 2020-05-25 06:00:00\n",
      "2021-06-02 17:31:20,790 - simulator - INFO - Info for rank 0, Date = 2020-05-25 06:00:00, number of deaths =  0, number of infected = 5\n",
      "2021-06-02 17:31:20,874 - simulator - INFO - CMS: Infection COMS-v2 for rank 0/1(2)0.00018949499826703686,0.00018978118896484375 - 2020-05-25 06:00:00\n",
      "2021-06-02 17:31:21,045 - simulator - INFO - CMS: Timestep for rank 0/1 - 0.7038574279995373,0.7038583755493164 - 2020-05-25 06:00:00\n",
      "\n",
      "2021-06-02 17:31:21,047 - simulator - INFO - ==================== timestep ====================\n",
      "2021-06-02 17:31:21,655 - activity_manager - INFO - CMS: People COMS for rank 0/1 - 4.303999958210625e-06,4.291534423828125e-06 - 2020-05-25 08:00:00\n",
      "2021-06-02 17:31:21,660 - simulator - INFO - Info for rank 0, Date = 2020-05-25 08:00:00, number of deaths =  0, number of infected = 5\n",
      "2021-06-02 17:31:21,727 - simulator - INFO - CMS: Infection COMS-v2 for rank 0/1(2)0.00020551799934764858,0.00020551681518554688 - 2020-05-25 08:00:00\n",
      "2021-06-02 17:31:21,808 - simulator - INFO - CMS: Timestep for rank 0/1 - 0.7604702379994706,0.7604713439941406 - 2020-05-25 08:00:00\n",
      "\n",
      "2021-06-02 17:31:21,809 - simulator - INFO - ==================== timestep ====================\n",
      "2021-06-02 17:31:21,985 - activity_manager - INFO - CMS: People COMS for rank 0/1 - 3.7980007618898526e-06,3.5762786865234375e-06 - 2020-05-25 10:00:00\n",
      "2021-06-02 17:31:21,990 - simulator - INFO - Info for rank 0, Date = 2020-05-25 10:00:00, number of deaths =  0, number of infected = 5\n",
      "2021-06-02 17:31:22,039 - simulator - INFO - CMS: Infection COMS-v2 for rank 0/1(2)0.00018615900080476422,0.0001862049102783203 - 2020-05-25 10:00:00\n",
      "2021-06-02 17:31:22,117 - simulator - INFO - CMS: Timestep for rank 0/1 - 0.3068832629996905,0.3068838119506836 - 2020-05-25 10:00:00\n",
      "\n",
      "2021-06-02 17:31:22,118 - simulator - INFO - ==================== timestep ====================\n"
     ]
    },
    {
     "name": "stdout",
     "output_type": "stream",
     "text": [
      "2021-06-02 17:31:22,302 - activity_manager - INFO - CMS: People COMS for rank 0/1 - 4.086001354153268e-06,4.0531158447265625e-06 - 2020-05-26 00:00:00\n",
      "2021-06-02 17:31:22,307 - simulator - INFO - Info for rank 0, Date = 2020-05-26 00:00:00, number of deaths =  0, number of infected = 8\n",
      "2021-06-02 17:31:22,353 - simulator - INFO - CMS: Infection COMS-v2 for rank 0/1(2)0.00020521199985523708,0.0002052783966064453 - 2020-05-26 00:00:00\n",
      "2021-06-02 17:31:22,429 - simulator - INFO - CMS: Timestep for rank 0/1 - 0.31000071999915235,0.31000256538391113 - 2020-05-26 00:00:00\n",
      "\n",
      "2021-06-02 17:31:22,437 - simulator - INFO - ==================== timestep ====================\n",
      "2021-06-02 17:31:22,953 - activity_manager - INFO - CMS: People COMS for rank 0/1 - 4.315999831305817e-06,4.0531158447265625e-06 - 2020-05-26 02:00:00\n",
      "2021-06-02 17:31:22,960 - simulator - INFO - Info for rank 0, Date = 2020-05-26 02:00:00, number of deaths =  0, number of infected = 8\n",
      "2021-06-02 17:31:23,044 - simulator - INFO - CMS: Infection COMS-v2 for rank 0/1(2)0.0002129320000676671,0.00021314620971679688 - 2020-05-26 02:00:00\n",
      "2021-06-02 17:31:23,109 - simulator - INFO - CMS: Timestep for rank 0/1 - 0.671537944001102,0.6715390682220459 - 2020-05-26 02:00:00\n",
      "\n",
      "2021-06-02 17:31:23,110 - simulator - INFO - ==================== timestep ====================\n",
      "2021-06-02 17:31:23,717 - activity_manager - INFO - CMS: People COMS for rank 0/1 - 4.53100074082613e-06,4.291534423828125e-06 - 2020-05-26 04:00:00\n",
      "2021-06-02 17:31:23,722 - simulator - INFO - Info for rank 0, Date = 2020-05-26 04:00:00, number of deaths =  0, number of infected = 8\n",
      "2021-06-02 17:31:23,786 - simulator - INFO - CMS: Infection COMS-v2 for rank 0/1(2)0.00018502900093153585,0.00018477439880371094 - 2020-05-26 04:00:00\n",
      "2021-06-02 17:31:23,848 - simulator - INFO - CMS: Timestep for rank 0/1 - 0.7377131530010956,0.7377140522003174 - 2020-05-26 04:00:00\n",
      "\n",
      "2021-06-02 17:31:23,849 - simulator - INFO - ==================== timestep ====================\n",
      "2021-06-02 17:31:24,364 - activity_manager - INFO - CMS: People COMS for rank 0/1 - 1.456300014979206e-05,1.4543533325195312e-05 - 2020-05-26 06:00:00\n",
      "2021-06-02 17:31:24,370 - simulator - INFO - Info for rank 0, Date = 2020-05-26 06:00:00, number of deaths =  0, number of infected = 9\n",
      "2021-06-02 17:31:24,441 - simulator - INFO - CMS: Infection COMS-v2 for rank 0/1(2)0.00021533600011025555,0.0002155303955078125 - 2020-05-26 06:00:00\n",
      "2021-06-02 17:31:24,499 - simulator - INFO - CMS: Timestep for rank 0/1 - 0.6494411359999503,0.6494419574737549 - 2020-05-26 06:00:00\n",
      "\n",
      "2021-06-02 17:31:24,500 - simulator - INFO - ==================== timestep ====================\n",
      "2021-06-02 17:31:24,914 - activity_manager - INFO - CMS: People COMS for rank 0/1 - 3.621000359999016e-06,3.5762786865234375e-06 - 2020-05-26 08:00:00\n",
      "2021-06-02 17:31:24,918 - simulator - INFO - Info for rank 0, Date = 2020-05-26 08:00:00, number of deaths =  0, number of infected = 9\n",
      "2021-06-02 17:31:24,977 - simulator - INFO - CMS: Infection COMS-v2 for rank 0/1(2)0.00020873700123047456,0.0002086162567138672 - 2020-05-26 08:00:00\n",
      "2021-06-02 17:31:25,039 - simulator - INFO - CMS: Timestep for rank 0/1 - 0.5377201399987825,0.5377211570739746 - 2020-05-26 08:00:00\n",
      "\n",
      "2021-06-02 17:31:25,039 - simulator - INFO - ==================== timestep ====================\n",
      "2021-06-02 17:31:25,233 - activity_manager - INFO - CMS: People COMS for rank 0/1 - 7.204000212368555e-06,6.9141387939453125e-06 - 2020-05-26 10:00:00\n",
      "2021-06-02 17:31:25,245 - simulator - INFO - Info for rank 0, Date = 2020-05-26 10:00:00, number of deaths =  0, number of infected = 9\n",
      "2021-06-02 17:31:25,311 - simulator - INFO - CMS: Infection COMS-v2 for rank 0/1(2)0.0002185039993491955,0.00021839141845703125 - 2020-05-26 10:00:00\n",
      "2021-06-02 17:31:25,407 - simulator - INFO - CMS: Timestep for rank 0/1 - 0.36705723799968837,0.3670692443847656 - 2020-05-26 10:00:00\n",
      "\n",
      "2021-06-02 17:31:25,408 - simulator - INFO - ==================== timestep ====================\n",
      "2021-06-02 17:31:25,638 - activity_manager - INFO - CMS: People COMS for rank 0/1 - 4.911000360152684e-06,5.0067901611328125e-06 - 2020-05-27 00:00:00\n",
      "2021-06-02 17:31:25,643 - simulator - INFO - Info for rank 0, Date = 2020-05-27 00:00:00, number of deaths =  0, number of infected = 9\n",
      "2021-06-02 17:31:25,735 - simulator - INFO - CMS: Infection COMS-v2 for rank 0/1(2)0.00033904299925779924,0.0003387928009033203 - 2020-05-27 00:00:00\n",
      "2021-06-02 17:31:25,814 - simulator - INFO - CMS: Timestep for rank 0/1 - 0.40559481700074684,0.4055955410003662 - 2020-05-27 00:00:00\n",
      "\n",
      "2021-06-02 17:31:25,815 - simulator - INFO - ==================== timestep ====================\n",
      "2021-06-02 17:31:26,237 - activity_manager - INFO - CMS: People COMS for rank 0/1 - 4.055998942931183e-06,4.0531158447265625e-06 - 2020-05-27 02:00:00\n",
      "2021-06-02 17:31:26,242 - simulator - INFO - Info for rank 0, Date = 2020-05-27 02:00:00, number of deaths =  0, number of infected = 10\n",
      "2021-06-02 17:31:26,301 - simulator - INFO - CMS: Infection COMS-v2 for rank 0/1(2)0.0001944939995155437,0.000194549560546875 - 2020-05-27 02:00:00\n",
      "2021-06-02 17:31:26,351 - simulator - INFO - CMS: Timestep for rank 0/1 - 0.5356463900006929,0.5356478691101074 - 2020-05-27 02:00:00\n",
      "\n",
      "2021-06-02 17:31:26,352 - simulator - INFO - ==================== timestep ====================\n",
      "2021-06-02 17:31:26,844 - activity_manager - INFO - CMS: People COMS for rank 0/1 - 3.736000508069992e-06,3.5762786865234375e-06 - 2020-05-27 04:00:00\n",
      "2021-06-02 17:31:26,849 - simulator - INFO - Info for rank 0, Date = 2020-05-27 04:00:00, number of deaths =  0, number of infected = 10\n",
      "2021-06-02 17:31:26,911 - simulator - INFO - CMS: Infection COMS-v2 for rank 0/1(2)0.00019841200082737487,0.0001983642578125 - 2020-05-27 04:00:00\n",
      "2021-06-02 17:31:26,972 - simulator - INFO - CMS: Timestep for rank 0/1 - 0.6192643729991687,0.6192655563354492 - 2020-05-27 04:00:00\n",
      "\n",
      "2021-06-02 17:31:26,972 - simulator - INFO - ==================== timestep ====================\n",
      "2021-06-02 17:31:27,469 - activity_manager - INFO - CMS: People COMS for rank 0/1 - 4.977000571670942e-06,4.5299530029296875e-06 - 2020-05-27 06:00:00\n",
      "2021-06-02 17:31:27,481 - simulator - INFO - Info for rank 0, Date = 2020-05-27 06:00:00, number of deaths =  0, number of infected = 10\n",
      "2021-06-02 17:31:27,567 - simulator - INFO - CMS: Infection COMS-v2 for rank 0/1(2)0.00020274999951652717,0.00020241737365722656 - 2020-05-27 06:00:00\n",
      "2021-06-02 17:31:27,621 - simulator - INFO - CMS: Timestep for rank 0/1 - 0.6479638079999859,0.6479647159576416 - 2020-05-27 06:00:00\n",
      "\n",
      "2021-06-02 17:31:27,622 - simulator - INFO - ==================== timestep ====================\n",
      "2021-06-02 17:31:28,100 - activity_manager - INFO - CMS: People COMS for rank 0/1 - 3.5949997254647315e-06,3.337860107421875e-06 - 2020-05-27 08:00:00\n",
      "2021-06-02 17:31:28,105 - simulator - INFO - Info for rank 0, Date = 2020-05-27 08:00:00, number of deaths =  0, number of infected = 13\n",
      "2021-06-02 17:31:28,165 - simulator - INFO - CMS: Infection COMS-v2 for rank 0/1(2)0.0001930290000018431,0.00019288063049316406 - 2020-05-27 08:00:00\n",
      "2021-06-02 17:31:28,220 - simulator - INFO - CMS: Timestep for rank 0/1 - 0.5976489269996819,0.597649097442627 - 2020-05-27 08:00:00\n",
      "\n",
      "2021-06-02 17:31:28,221 - simulator - INFO - ==================== timestep ====================\n",
      "2021-06-02 17:31:28,367 - activity_manager - INFO - CMS: People COMS for rank 0/1 - 3.8670004869345576e-06,3.814697265625e-06 - 2020-05-27 10:00:00\n",
      "2021-06-02 17:31:28,372 - simulator - INFO - Info for rank 0, Date = 2020-05-27 10:00:00, number of deaths =  0, number of infected = 13\n",
      "2021-06-02 17:31:28,437 - simulator - INFO - CMS: Infection COMS-v2 for rank 0/1(2)0.0003269360004196642,0.0003268718719482422 - 2020-05-27 10:00:00\n",
      "2021-06-02 17:31:28,520 - simulator - INFO - CMS: Timestep for rank 0/1 - 0.29887821299962525,0.29887938499450684 - 2020-05-27 10:00:00\n",
      "\n",
      "2021-06-02 17:31:28,521 - simulator - INFO - ==================== timestep ====================\n",
      "2021-06-02 17:31:28,682 - activity_manager - INFO - CMS: People COMS for rank 0/1 - 4.31400076195132e-06,4.291534423828125e-06 - 2020-05-28 00:00:00\n",
      "2021-06-02 17:31:28,686 - simulator - INFO - Info for rank 0, Date = 2020-05-28 00:00:00, number of deaths =  0, number of infected = 16\n"
     ]
    },
    {
     "name": "stdout",
     "output_type": "stream",
     "text": [
      "2021-06-02 17:31:28,729 - simulator - INFO - CMS: Infection COMS-v2 for rank 0/1(2)0.00028768300035153516,0.0002880096435546875 - 2020-05-28 00:00:00\n",
      "2021-06-02 17:31:28,784 - simulator - INFO - CMS: Timestep for rank 0/1 - 0.2625124659989524,0.2625136375427246 - 2020-05-28 00:00:00\n",
      "\n",
      "2021-06-02 17:31:28,785 - simulator - INFO - ==================== timestep ====================\n",
      "2021-06-02 17:31:29,252 - activity_manager - INFO - CMS: People COMS for rank 0/1 - 3.7680001696571708e-06,3.814697265625e-06 - 2020-05-28 02:00:00\n",
      "2021-06-02 17:31:29,256 - simulator - INFO - Info for rank 0, Date = 2020-05-28 02:00:00, number of deaths =  0, number of infected = 16\n",
      "2021-06-02 17:31:29,314 - simulator - INFO - CMS: Infection COMS-v2 for rank 0/1(2)0.00019668599998112768,0.00019669532775878906 - 2020-05-28 02:00:00\n",
      "2021-06-02 17:31:29,387 - simulator - INFO - CMS: Timestep for rank 0/1 - 0.6018631980005011,0.6018643379211426 - 2020-05-28 02:00:00\n",
      "\n",
      "2021-06-02 17:31:29,388 - simulator - INFO - ==================== timestep ====================\n",
      "2021-06-02 17:31:29,847 - activity_manager - INFO - CMS: People COMS for rank 0/1 - 3.498000296531245e-06,3.337860107421875e-06 - 2020-05-28 04:00:00\n",
      "2021-06-02 17:31:29,852 - simulator - INFO - Info for rank 0, Date = 2020-05-28 04:00:00, number of deaths =  0, number of infected = 17\n",
      "2021-06-02 17:31:29,910 - simulator - INFO - CMS: Infection COMS-v2 for rank 0/1(2)0.00018885499957832508,0.0001888275146484375 - 2020-05-28 04:00:00\n",
      "2021-06-02 17:31:29,989 - simulator - INFO - CMS: Timestep for rank 0/1 - 0.6001360099999147,0.6001372337341309 - 2020-05-28 04:00:00\n",
      "\n",
      "2021-06-02 17:31:29,989 - simulator - INFO - ==================== timestep ====================\n",
      "2021-06-02 17:31:30,478 - activity_manager - INFO - CMS: People COMS for rank 0/1 - 4.036999598611146e-06,3.814697265625e-06 - 2020-05-28 06:00:00\n",
      "2021-06-02 17:31:30,484 - simulator - INFO - Info for rank 0, Date = 2020-05-28 06:00:00, number of deaths =  0, number of infected = 17\n",
      "2021-06-02 17:31:30,556 - simulator - INFO - CMS: Infection COMS-v2 for rank 0/1(2)0.00019937199976993725,0.0001995563507080078 - 2020-05-28 06:00:00\n",
      "2021-06-02 17:31:30,611 - simulator - INFO - CMS: Timestep for rank 0/1 - 0.6211177320001298,0.6211187839508057 - 2020-05-28 06:00:00\n",
      "\n",
      "2021-06-02 17:31:30,612 - simulator - INFO - ==================== timestep ====================\n",
      "2021-06-02 17:31:31,105 - activity_manager - INFO - CMS: People COMS for rank 0/1 - 4.104000254301354e-06,3.814697265625e-06 - 2020-05-28 08:00:00\n",
      "2021-06-02 17:31:31,110 - simulator - INFO - Info for rank 0, Date = 2020-05-28 08:00:00, number of deaths =  0, number of infected = 17\n",
      "2021-06-02 17:31:31,174 - simulator - INFO - CMS: Infection COMS-v2 for rank 0/1(2)0.00018250600078317802,0.0001823902130126953 - 2020-05-28 08:00:00\n",
      "2021-06-02 17:31:31,245 - simulator - INFO - CMS: Timestep for rank 0/1 - 0.6320901029994275,0.6320915222167969 - 2020-05-28 08:00:00\n",
      "\n",
      "2021-06-02 17:31:31,246 - simulator - INFO - ==================== timestep ====================\n",
      "2021-06-02 17:31:31,421 - activity_manager - INFO - CMS: People COMS for rank 0/1 - 5.149000571691431e-06,4.76837158203125e-06 - 2020-05-28 10:00:00\n",
      "2021-06-02 17:31:31,426 - simulator - INFO - Info for rank 0, Date = 2020-05-28 10:00:00, number of deaths =  0, number of infected = 18\n",
      "2021-06-02 17:31:31,478 - simulator - INFO - CMS: Infection COMS-v2 for rank 0/1(2)0.0002176550005970057,0.00021719932556152344 - 2020-05-28 10:00:00\n",
      "2021-06-02 17:31:31,542 - simulator - INFO - CMS: Timestep for rank 0/1 - 0.2952803770003811,0.29528117179870605 - 2020-05-28 10:00:00\n",
      "\n",
      "2021-06-02 17:31:31,544 - simulator - INFO - ==================== timestep ====================\n",
      "2021-06-02 17:31:31,715 - activity_manager - INFO - CMS: People COMS for rank 0/1 - 5.568999768001959e-06,5.245208740234375e-06 - 2020-05-29 00:00:00\n",
      "2021-06-02 17:31:31,724 - simulator - INFO - Info for rank 0, Date = 2020-05-29 00:00:00, number of deaths =  0, number of infected = 20\n",
      "2021-06-02 17:31:31,823 - simulator - INFO - CMS: Infection COMS-v2 for rank 0/1(2)0.0002753290009422926,0.00027561187744140625 - 2020-05-29 00:00:00\n",
      "2021-06-02 17:31:31,926 - simulator - INFO - CMS: Timestep for rank 0/1 - 0.38132149199918786,0.38132309913635254 - 2020-05-29 00:00:00\n",
      "\n",
      "2021-06-02 17:31:31,927 - simulator - INFO - ==================== timestep ====================\n",
      "2021-06-02 17:31:32,493 - activity_manager - INFO - CMS: People COMS for rank 0/1 - 4.344999979366548e-06,4.0531158447265625e-06 - 2020-05-29 02:00:00\n",
      "2021-06-02 17:31:32,498 - simulator - INFO - Info for rank 0, Date = 2020-05-29 02:00:00, number of deaths =  0, number of infected = 21\n",
      "2021-06-02 17:31:32,617 - simulator - INFO - CMS: Infection COMS-v2 for rank 0/1(2)0.00029562700001406483,0.0002956390380859375 - 2020-05-29 02:00:00\n",
      "2021-06-02 17:31:32,722 - simulator - INFO - CMS: Timestep for rank 0/1 - 0.7944842150009208,0.7944855690002441 - 2020-05-29 02:00:00\n",
      "\n",
      "2021-06-02 17:31:32,723 - simulator - INFO - ==================== timestep ====================\n",
      "2021-06-02 17:31:33,300 - activity_manager - INFO - CMS: People COMS for rank 0/1 - 4.089000867679715e-06,3.814697265625e-06 - 2020-05-29 04:00:00\n",
      "2021-06-02 17:31:33,305 - simulator - INFO - Info for rank 0, Date = 2020-05-29 04:00:00, number of deaths =  0, number of infected = 21\n",
      "2021-06-02 17:31:33,370 - simulator - INFO - CMS: Infection COMS-v2 for rank 0/1(2)0.0002320809999218909,0.0002319812774658203 - 2020-05-29 04:00:00\n",
      "2021-06-02 17:31:33,439 - simulator - INFO - CMS: Timestep for rank 0/1 - 0.7148268500004633,0.7148282527923584 - 2020-05-29 04:00:00\n",
      "\n",
      "2021-06-02 17:31:33,440 - simulator - INFO - ==================== timestep ====================\n",
      "2021-06-02 17:31:34,035 - activity_manager - INFO - CMS: People COMS for rank 0/1 - 4.207000529277138e-06,4.0531158447265625e-06 - 2020-05-29 06:00:00\n",
      "2021-06-02 17:31:34,040 - simulator - INFO - Info for rank 0, Date = 2020-05-29 06:00:00, number of deaths =  0, number of infected = 21\n",
      "2021-06-02 17:31:34,102 - simulator - INFO - CMS: Infection COMS-v2 for rank 0/1(2)0.00021036399994045496,0.00021028518676757812 - 2020-05-29 06:00:00\n",
      "2021-06-02 17:31:34,155 - simulator - INFO - CMS: Timestep for rank 0/1 - 0.7146493840009498,0.7146506309509277 - 2020-05-29 06:00:00\n",
      "\n",
      "2021-06-02 17:31:34,156 - simulator - INFO - ==================== timestep ====================\n",
      "2021-06-02 17:31:34,593 - activity_manager - INFO - CMS: People COMS for rank 0/1 - 3.99999953515362e-06,3.814697265625e-06 - 2020-05-29 08:00:00\n",
      "2021-06-02 17:31:34,600 - simulator - INFO - Info for rank 0, Date = 2020-05-29 08:00:00, number of deaths =  0, number of infected = 21\n",
      "2021-06-02 17:31:34,678 - simulator - INFO - CMS: Infection COMS-v2 for rank 0/1(2)0.00018593699860502966,0.00018596649169921875 - 2020-05-29 08:00:00\n",
      "2021-06-02 17:31:34,759 - simulator - INFO - CMS: Timestep for rank 0/1 - 0.6022005609993357,0.6022012233734131 - 2020-05-29 08:00:00\n",
      "\n",
      "2021-06-02 17:31:34,760 - simulator - INFO - ==================== timestep ====================\n",
      "2021-06-02 17:31:34,940 - activity_manager - INFO - CMS: People COMS for rank 0/1 - 5.049001629231498e-06,4.76837158203125e-06 - 2020-05-29 10:00:00\n",
      "2021-06-02 17:31:34,945 - simulator - INFO - Info for rank 0, Date = 2020-05-29 10:00:00, number of deaths =  0, number of infected = 22\n",
      "2021-06-02 17:31:35,008 - simulator - INFO - CMS: Infection COMS-v2 for rank 0/1(2)0.00021048499911557883,0.000209808349609375 - 2020-05-29 10:00:00\n",
      "2021-06-02 17:31:35,072 - simulator - INFO - CMS: Timestep for rank 0/1 - 0.31196300299961877,0.3119637966156006 - 2020-05-29 10:00:00\n",
      "\n",
      "2021-06-02 17:31:35,073 - simulator - INFO - ==================== timestep ====================\n",
      "2021-06-02 17:31:35,260 - activity_manager - INFO - CMS: People COMS for rank 0/1 - 3.84299892175477e-06,3.814697265625e-06 - 2020-05-30 00:00:00\n",
      "2021-06-02 17:31:35,268 - simulator - INFO - Info for rank 0, Date = 2020-05-30 00:00:00, number of deaths =  0, number of infected = 24\n",
      "2021-06-02 17:31:35,324 - simulator - INFO - CMS: Infection COMS-v2 for rank 0/1(2)0.00018180900042352732,0.00018143653869628906 - 2020-05-30 00:00:00\n",
      "2021-06-02 17:31:35,382 - simulator - INFO - CMS: Timestep for rank 0/1 - 0.30819737299862027,0.3081989288330078 - 2020-05-30 00:00:00\n",
      "\n"
     ]
    },
    {
     "name": "stdout",
     "output_type": "stream",
     "text": [
      "2021-06-02 17:31:35,383 - simulator - INFO - ==================== timestep ====================\n",
      "2021-06-02 17:31:35,861 - activity_manager - INFO - CMS: People COMS for rank 0/1 - 3.901999662048183e-06,3.814697265625e-06 - 2020-05-30 03:00:00\n",
      "2021-06-02 17:31:35,872 - simulator - INFO - Info for rank 0, Date = 2020-05-30 03:00:00, number of deaths =  0, number of infected = 27\n",
      "2021-06-02 17:31:35,951 - simulator - INFO - CMS: Infection COMS-v2 for rank 0/1(2)0.0014501000005111564,0.0014507770538330078 - 2020-05-30 03:00:00\n",
      "2021-06-02 17:31:36,019 - simulator - INFO - CMS: Timestep for rank 0/1 - 0.6355253260007885,0.635526180267334 - 2020-05-30 03:00:00\n",
      "\n",
      "2021-06-02 17:31:36,020 - simulator - INFO - ==================== timestep ====================\n",
      "2021-06-02 17:31:36,534 - activity_manager - INFO - CMS: People COMS for rank 0/1 - 3.7290010368451476e-06,3.5762786865234375e-06 - 2020-05-30 05:00:00\n",
      "2021-06-02 17:31:36,539 - simulator - INFO - Info for rank 0, Date = 2020-05-30 05:00:00, number of deaths =  0, number of infected = 27\n",
      "2021-06-02 17:31:36,608 - simulator - INFO - CMS: Infection COMS-v2 for rank 0/1(2)0.0001745709996612277,0.00017499923706054688 - 2020-05-30 05:00:00\n",
      "2021-06-02 17:31:36,689 - simulator - INFO - CMS: Timestep for rank 0/1 - 0.6683825479994994,0.6683833599090576 - 2020-05-30 05:00:00\n",
      "\n",
      "2021-06-02 17:31:36,690 - simulator - INFO - ==================== timestep ====================\n",
      "2021-06-02 17:31:37,189 - activity_manager - INFO - CMS: People COMS for rank 0/1 - 3.6250003176974133e-06,3.5762786865234375e-06 - 2020-05-30 07:00:00\n",
      "2021-06-02 17:31:37,194 - simulator - INFO - Info for rank 0, Date = 2020-05-30 07:00:00, number of deaths =  0, number of infected = 28\n",
      "2021-06-02 17:31:37,257 - simulator - INFO - CMS: Infection COMS-v2 for rank 0/1(2)0.00024148500051524024,0.00024199485778808594 - 2020-05-30 07:00:00\n",
      "2021-06-02 17:31:37,333 - simulator - INFO - CMS: Timestep for rank 0/1 - 0.6425545450001664,0.6425566673278809 - 2020-05-30 07:00:00\n",
      "\n",
      "2021-06-02 17:31:37,336 - simulator - INFO - ==================== timestep ====================\n",
      "2021-06-02 17:31:37,870 - activity_manager - INFO - CMS: People COMS for rank 0/1 - 3.6579986044671386e-06,3.5762786865234375e-06 - 2020-05-30 09:00:00\n",
      "2021-06-02 17:31:37,877 - simulator - INFO - Info for rank 0, Date = 2020-05-30 09:00:00, number of deaths =  0, number of infected = 28\n",
      "2021-06-02 17:31:37,942 - simulator - INFO - CMS: Infection COMS-v2 for rank 0/1(2)0.00020890699852316175,0.0002090930938720703 - 2020-05-30 09:00:00\n",
      "2021-06-02 17:31:38,006 - simulator - INFO - CMS: Timestep for rank 0/1 - 0.6687941119998868,0.6687960624694824 - 2020-05-30 09:00:00\n",
      "\n",
      "2021-06-02 17:31:38,007 - simulator - INFO - ==================== timestep ====================\n",
      "2021-06-02 17:31:38,182 - activity_manager - INFO - CMS: People COMS for rank 0/1 - 5.770998541265726e-06,5.7220458984375e-06 - 2020-05-30 11:00:00\n",
      "2021-06-02 17:31:38,189 - simulator - INFO - Info for rank 0, Date = 2020-05-30 11:00:00, number of deaths =  0, number of infected = 28\n",
      "2021-06-02 17:31:38,238 - simulator - INFO - CMS: Infection COMS-v2 for rank 0/1(2)0.00019914699987566564,0.00019931793212890625 - 2020-05-30 11:00:00\n",
      "2021-06-02 17:31:38,294 - simulator - INFO - CMS: Timestep for rank 0/1 - 0.28685789599876443,0.28685855865478516 - 2020-05-30 11:00:00\n",
      "\n",
      "2021-06-02 17:31:38,295 - simulator - INFO - ==================== timestep ====================\n",
      "2021-06-02 17:31:38,460 - activity_manager - INFO - CMS: People COMS for rank 0/1 - 4.1740004235180095e-06,4.0531158447265625e-06 - 2020-05-31 00:00:00\n",
      "2021-06-02 17:31:38,468 - simulator - INFO - Info for rank 0, Date = 2020-05-31 00:00:00, number of deaths =  0, number of infected = 28\n",
      "2021-06-02 17:31:38,528 - simulator - INFO - CMS: Infection COMS-v2 for rank 0/1(2)0.0001760359991749283,0.00017595291137695312 - 2020-05-31 00:00:00\n",
      "2021-06-02 17:31:38,618 - simulator - INFO - CMS: Timestep for rank 0/1 - 0.3228670129992679,0.32286834716796875 - 2020-05-31 00:00:00\n",
      "\n",
      "2021-06-02 17:31:38,619 - simulator - INFO - ==================== timestep ====================\n",
      "2021-06-02 17:31:39,111 - activity_manager - INFO - CMS: People COMS for rank 0/1 - 3.877999915857799e-06,3.5762786865234375e-06 - 2020-05-31 03:00:00\n",
      "2021-06-02 17:31:39,117 - simulator - INFO - Info for rank 0, Date = 2020-05-31 03:00:00, number of deaths =  0, number of infected = 29\n",
      "2021-06-02 17:31:39,204 - simulator - INFO - CMS: Infection COMS-v2 for rank 0/1(2)0.00020073199993930757,0.00020051002502441406 - 2020-05-31 03:00:00\n",
      "2021-06-02 17:31:39,269 - simulator - INFO - CMS: Timestep for rank 0/1 - 0.6490089360013371,0.649010419845581 - 2020-05-31 03:00:00\n",
      "\n",
      "2021-06-02 17:31:39,269 - simulator - INFO - ==================== timestep ====================\n",
      "2021-06-02 17:31:39,766 - activity_manager - INFO - CMS: People COMS for rank 0/1 - 3.721001121448353e-06,3.5762786865234375e-06 - 2020-05-31 05:00:00\n",
      "2021-06-02 17:31:39,771 - simulator - INFO - Info for rank 0, Date = 2020-05-31 05:00:00, number of deaths =  0, number of infected = 29\n",
      "2021-06-02 17:31:39,863 - simulator - INFO - CMS: Infection COMS-v2 for rank 0/1(2)0.00036661299964180216,0.0003669261932373047 - 2020-05-31 05:00:00\n",
      "2021-06-02 17:31:39,942 - simulator - INFO - CMS: Timestep for rank 0/1 - 0.6724232179985847,0.6724245548248291 - 2020-05-31 05:00:00\n",
      "\n",
      "2021-06-02 17:31:39,943 - simulator - INFO - ==================== timestep ====================\n",
      "2021-06-02 17:31:40,515 - activity_manager - INFO - CMS: People COMS for rank 0/1 - 3.758001184905879e-06,3.5762786865234375e-06 - 2020-05-31 07:00:00\n",
      "2021-06-02 17:31:40,520 - simulator - INFO - Info for rank 0, Date = 2020-05-31 07:00:00, number of deaths =  0, number of infected = 29\n",
      "2021-06-02 17:31:40,584 - simulator - INFO - CMS: Infection COMS-v2 for rank 0/1(2)0.00022222000006877352,0.00022220611572265625 - 2020-05-31 07:00:00\n",
      "2021-06-02 17:31:40,659 - simulator - INFO - CMS: Timestep for rank 0/1 - 0.7150747649993718,0.7150759696960449 - 2020-05-31 07:00:00\n",
      "\n",
      "2021-06-02 17:31:40,660 - simulator - INFO - ==================== timestep ====================\n",
      "2021-06-02 17:31:41,339 - activity_manager - INFO - CMS: People COMS for rank 0/1 - 4.425999577506445e-06,4.291534423828125e-06 - 2020-05-31 09:00:00\n",
      "2021-06-02 17:31:41,345 - simulator - INFO - Info for rank 0, Date = 2020-05-31 09:00:00, number of deaths =  0, number of infected = 30\n",
      "2021-06-02 17:31:41,411 - simulator - INFO - CMS: Infection COMS-v2 for rank 0/1(2)0.00021798200032208115,0.000217437744140625 - 2020-05-31 09:00:00\n",
      "2021-06-02 17:31:41,481 - simulator - INFO - CMS: Timestep for rank 0/1 - 0.8199906150002789,0.8199923038482666 - 2020-05-31 09:00:00\n",
      "\n",
      "2021-06-02 17:31:41,482 - simulator - INFO - ==================== timestep ====================\n",
      "2021-06-02 17:31:41,657 - activity_manager - INFO - CMS: People COMS for rank 0/1 - 4.276000254321843e-06,4.0531158447265625e-06 - 2020-05-31 11:00:00\n",
      "2021-06-02 17:31:41,662 - simulator - INFO - Info for rank 0, Date = 2020-05-31 11:00:00, number of deaths =  0, number of infected = 30\n",
      "2021-06-02 17:31:41,715 - simulator - INFO - CMS: Infection COMS-v2 for rank 0/1(2)0.00019078100012848154,0.00019049644470214844 - 2020-05-31 11:00:00\n",
      "2021-06-02 17:31:41,776 - simulator - INFO - CMS: Timestep for rank 0/1 - 0.29331995800021105,0.293320894241333 - 2020-05-31 11:00:00\n",
      "\n",
      "2021-06-02 17:31:41,777 - simulator - INFO - ==================== timestep ====================\n",
      "2021-06-02 17:31:41,976 - activity_manager - INFO - CMS: People COMS for rank 0/1 - 5.949999831500463e-06,5.4836273193359375e-06 - 2020-06-01 00:00:00\n",
      "2021-06-02 17:31:41,988 - simulator - INFO - Info for rank 0, Date = 2020-06-01 00:00:00, number of deaths =  0, number of infected = 31\n",
      "2021-06-02 17:31:42,065 - simulator - INFO - CMS: Infection COMS-v2 for rank 0/1(2)0.00020064300042577088,0.00020074844360351562 - 2020-06-01 00:00:00\n",
      "2021-06-02 17:31:42,132 - simulator - INFO - CMS: Timestep for rank 0/1 - 0.353970517999187,0.3539714813232422 - 2020-06-01 00:00:00\n",
      "\n",
      "2021-06-02 17:31:42,133 - simulator - INFO - ==================== timestep ====================\n",
      "2021-06-02 17:31:42,598 - activity_manager - INFO - CMS: People COMS for rank 0/1 - 3.983999704360031e-06,3.814697265625e-06 - 2020-06-01 02:00:00\n"
     ]
    },
    {
     "name": "stdout",
     "output_type": "stream",
     "text": [
      "2021-06-02 17:31:42,603 - simulator - INFO - Info for rank 0, Date = 2020-06-01 02:00:00, number of deaths =  0, number of infected = 31\n",
      "2021-06-02 17:31:42,664 - simulator - INFO - CMS: Infection COMS-v2 for rank 0/1(2)0.00024606599981780164,0.00024580955505371094 - 2020-06-01 02:00:00\n",
      "2021-06-02 17:31:42,721 - simulator - INFO - CMS: Timestep for rank 0/1 - 0.5879101899990928,0.5879108905792236 - 2020-06-01 02:00:00\n",
      "\n",
      "2021-06-02 17:31:42,722 - simulator - INFO - ==================== timestep ====================\n",
      "2021-06-02 17:31:43,230 - activity_manager - INFO - CMS: People COMS for rank 0/1 - 7.067001206451096e-06,6.67572021484375e-06 - 2020-06-01 04:00:00\n",
      "2021-06-02 17:31:43,244 - simulator - INFO - Info for rank 0, Date = 2020-06-01 04:00:00, number of deaths =  0, number of infected = 31\n",
      "2021-06-02 17:31:43,342 - simulator - INFO - CMS: Infection COMS-v2 for rank 0/1(2)0.0001973689995793393,0.0001976490020751953 - 2020-06-01 04:00:00\n",
      "2021-06-02 17:31:43,406 - simulator - INFO - CMS: Timestep for rank 0/1 - 0.6834532680004486,0.6834535598754883 - 2020-06-01 04:00:00\n",
      "\n",
      "2021-06-02 17:31:43,407 - simulator - INFO - ==================== timestep ====================\n",
      "2021-06-02 17:31:43,958 - activity_manager - INFO - CMS: People COMS for rank 0/1 - 3.977000233135186e-06,3.814697265625e-06 - 2020-06-01 06:00:00\n",
      "2021-06-02 17:31:43,964 - simulator - INFO - Info for rank 0, Date = 2020-06-01 06:00:00, number of deaths =  0, number of infected = 31\n",
      "2021-06-02 17:31:44,059 - simulator - INFO - CMS: Infection COMS-v2 for rank 0/1(2)0.000193377998584765,0.0001933574676513672 - 2020-06-01 06:00:00\n",
      "2021-06-02 17:31:44,114 - simulator - INFO - CMS: Timestep for rank 0/1 - 0.7055833379999967,0.7055878639221191 - 2020-06-01 06:00:00\n",
      "\n",
      "2021-06-02 17:31:44,115 - simulator - INFO - ==================== timestep ====================\n",
      "2021-06-02 17:31:44,597 - activity_manager - INFO - CMS: People COMS for rank 0/1 - 4.242998329573311e-06,4.0531158447265625e-06 - 2020-06-01 08:00:00\n",
      "2021-06-02 17:31:44,602 - simulator - INFO - Info for rank 0, Date = 2020-06-01 08:00:00, number of deaths =  0, number of infected = 32\n",
      "2021-06-02 17:31:44,671 - simulator - INFO - CMS: Infection COMS-v2 for rank 0/1(2)0.00020817400036321487,0.00020813941955566406 - 2020-06-01 08:00:00\n",
      "2021-06-02 17:31:44,725 - simulator - INFO - CMS: Timestep for rank 0/1 - 0.6091527989992755,0.6091530323028564 - 2020-06-01 08:00:00\n",
      "\n",
      "2021-06-02 17:31:44,725 - simulator - INFO - ==================== timestep ====================\n",
      "2021-06-02 17:31:44,890 - activity_manager - INFO - CMS: People COMS for rank 0/1 - 4.211000486975536e-06,4.0531158447265625e-06 - 2020-06-01 10:00:00\n",
      "2021-06-02 17:31:44,897 - simulator - INFO - Info for rank 0, Date = 2020-06-01 10:00:00, number of deaths =  0, number of infected = 32\n",
      "2021-06-02 17:31:44,943 - simulator - INFO - CMS: Infection COMS-v2 for rank 0/1(2)0.00016159699953277595,0.0001614093780517578 - 2020-06-01 10:00:00\n",
      "2021-06-02 17:31:45,006 - simulator - INFO - CMS: Timestep for rank 0/1 - 0.2798223499994492,0.27982330322265625 - 2020-06-01 10:00:00\n",
      "\n",
      "2021-06-02 17:31:45,007 - simulator - INFO - ==================== timestep ====================\n",
      "2021-06-02 17:31:45,224 - activity_manager - INFO - CMS: People COMS for rank 0/1 - 3.84499981009867e-06,3.814697265625e-06 - 2020-06-02 00:00:00\n",
      "2021-06-02 17:31:45,233 - simulator - INFO - Info for rank 0, Date = 2020-06-02 00:00:00, number of deaths =  0, number of infected = 34\n",
      "2021-06-02 17:31:45,307 - simulator - INFO - CMS: Infection COMS-v2 for rank 0/1(2)0.00018368000019108877,0.00018358230590820312 - 2020-06-02 00:00:00\n",
      "2021-06-02 17:31:45,361 - simulator - INFO - CMS: Timestep for rank 0/1 - 0.35313305399904493,0.3531339168548584 - 2020-06-02 00:00:00\n",
      "\n",
      "2021-06-02 17:31:45,363 - simulator - INFO - ==================== timestep ====================\n",
      "2021-06-02 17:31:45,868 - activity_manager - INFO - CMS: People COMS for rank 0/1 - 3.758999810088426e-06,3.5762786865234375e-06 - 2020-06-02 02:00:00\n",
      "2021-06-02 17:31:45,875 - simulator - INFO - Info for rank 0, Date = 2020-06-02 02:00:00, number of deaths =  0, number of infected = 35\n",
      "2021-06-02 17:31:45,940 - simulator - INFO - CMS: Infection COMS-v2 for rank 0/1(2)0.00019310099924041424,0.00019311904907226562 - 2020-06-02 02:00:00\n",
      "2021-06-02 17:31:46,000 - simulator - INFO - CMS: Timestep for rank 0/1 - 0.6352465800009668,0.6352474689483643 - 2020-06-02 02:00:00\n",
      "\n",
      "2021-06-02 17:31:46,001 - simulator - INFO - ==================== timestep ====================\n",
      "2021-06-02 17:31:46,531 - activity_manager - INFO - CMS: People COMS for rank 0/1 - 8.416000127908774e-06,7.867813110351562e-06 - 2020-06-02 04:00:00\n",
      "2021-06-02 17:31:46,539 - simulator - INFO - Info for rank 0, Date = 2020-06-02 04:00:00, number of deaths =  0, number of infected = 36\n",
      "2021-06-02 17:31:46,628 - simulator - INFO - CMS: Infection COMS-v2 for rank 0/1(2)0.00018344999989494681,0.00018310546875 - 2020-06-02 04:00:00\n",
      "2021-06-02 17:31:46,696 - simulator - INFO - CMS: Timestep for rank 0/1 - 0.6944416059996001,0.6944427490234375 - 2020-06-02 04:00:00\n",
      "\n",
      "2021-06-02 17:31:46,697 - simulator - INFO - ==================== timestep ====================\n",
      "2021-06-02 17:31:47,216 - activity_manager - INFO - CMS: People COMS for rank 0/1 - 4.5979995775269344e-06,4.5299530029296875e-06 - 2020-06-02 06:00:00\n",
      "2021-06-02 17:31:47,221 - simulator - INFO - Info for rank 0, Date = 2020-06-02 06:00:00, number of deaths =  0, number of infected = 38\n",
      "2021-06-02 17:31:47,277 - simulator - INFO - CMS: Infection COMS-v2 for rank 0/1(2)0.0002136370003427146,0.00021338462829589844 - 2020-06-02 06:00:00\n",
      "2021-06-02 17:31:47,334 - simulator - INFO - CMS: Timestep for rank 0/1 - 0.6363830129994312,0.6363844871520996 - 2020-06-02 06:00:00\n",
      "\n",
      "2021-06-02 17:31:47,335 - simulator - INFO - ==================== timestep ====================\n",
      "2021-06-02 17:31:47,830 - activity_manager - INFO - CMS: People COMS for rank 0/1 - 3.5129996831528842e-06,3.337860107421875e-06 - 2020-06-02 08:00:00\n",
      "2021-06-02 17:31:47,834 - simulator - INFO - Info for rank 0, Date = 2020-06-02 08:00:00, number of deaths =  0, number of infected = 38\n",
      "2021-06-02 17:31:47,901 - simulator - INFO - CMS: Infection COMS-v2 for rank 0/1(2)0.00017675999879429583,0.00017642974853515625 - 2020-06-02 08:00:00\n",
      "2021-06-02 17:31:47,959 - simulator - INFO - CMS: Timestep for rank 0/1 - 0.623942629999874,0.623943567276001 - 2020-06-02 08:00:00\n",
      "\n",
      "2021-06-02 17:31:47,960 - simulator - INFO - ==================== timestep ====================\n",
      "2021-06-02 17:31:48,152 - activity_manager - INFO - CMS: People COMS for rank 0/1 - 4.022000211989507e-06,3.814697265625e-06 - 2020-06-02 10:00:00\n",
      "2021-06-02 17:31:48,157 - simulator - INFO - Info for rank 0, Date = 2020-06-02 10:00:00, number of deaths =  0, number of infected = 39\n",
      "2021-06-02 17:31:48,219 - simulator - INFO - CMS: Infection COMS-v2 for rank 0/1(2)0.00017015999947034288,0.00016999244689941406 - 2020-06-02 10:00:00\n",
      "2021-06-02 17:31:48,276 - simulator - INFO - CMS: Timestep for rank 0/1 - 0.31518109100034053,0.3151819705963135 - 2020-06-02 10:00:00\n",
      "\n",
      "2021-06-02 17:31:48,277 - simulator - INFO - ==================== timestep ====================\n",
      "2021-06-02 17:31:48,463 - activity_manager - INFO - CMS: People COMS for rank 0/1 - 3.863999154418707e-06,3.814697265625e-06 - 2020-06-03 00:00:00\n",
      "2021-06-02 17:31:48,468 - simulator - INFO - Info for rank 0, Date = 2020-06-03 00:00:00, number of deaths =  0, number of infected = 47\n",
      "2021-06-02 17:31:48,525 - simulator - INFO - CMS: Infection COMS-v2 for rank 0/1(2)0.00019579400031943806,0.0001957416534423828 - 2020-06-03 00:00:00\n",
      "2021-06-02 17:31:48,615 - simulator - INFO - CMS: Timestep for rank 0/1 - 0.33735820400033845,0.33736085891723633 - 2020-06-03 00:00:00\n",
      "\n",
      "2021-06-02 17:31:48,618 - simulator - INFO - ==================== timestep ====================\n",
      "2021-06-02 17:31:49,121 - activity_manager - INFO - CMS: People COMS for rank 0/1 - 1.2769998647854663e-05,1.2636184692382812e-05 - 2020-06-03 02:00:00\n",
      "2021-06-02 17:31:49,126 - simulator - INFO - Info for rank 0, Date = 2020-06-03 02:00:00, number of deaths =  0, number of infected = 47\n",
      "2021-06-02 17:31:49,191 - simulator - INFO - CMS: Infection COMS-v2 for rank 0/1(2)0.000203022000277997,0.0002028942108154297 - 2020-06-03 02:00:00\n"
     ]
    },
    {
     "name": "stdout",
     "output_type": "stream",
     "text": [
      "2021-06-02 17:31:49,242 - simulator - INFO - CMS: Timestep for rank 0/1 - 0.6219312740013265,0.6219320297241211 - 2020-06-03 02:00:00\n",
      "\n",
      "2021-06-02 17:31:49,242 - simulator - INFO - ==================== timestep ====================\n",
      "2021-06-02 17:31:49,760 - activity_manager - INFO - CMS: People COMS for rank 0/1 - 3.5749999369727448e-06,3.5762786865234375e-06 - 2020-06-03 04:00:00\n",
      "2021-06-02 17:31:49,764 - simulator - INFO - Info for rank 0, Date = 2020-06-03 04:00:00, number of deaths =  0, number of infected = 48\n",
      "2021-06-02 17:31:49,825 - simulator - INFO - CMS: Infection COMS-v2 for rank 0/1(2)0.00019304700072098058,0.0001933574676513672 - 2020-06-03 04:00:00\n",
      "2021-06-02 17:31:49,886 - simulator - INFO - CMS: Timestep for rank 0/1 - 0.6429595110002992,0.6429600715637207 - 2020-06-03 04:00:00\n",
      "\n",
      "2021-06-02 17:31:49,886 - simulator - INFO - ==================== timestep ====================\n",
      "2021-06-02 17:31:50,351 - activity_manager - INFO - CMS: People COMS for rank 0/1 - 4.02000114263501e-06,3.814697265625e-06 - 2020-06-03 06:00:00\n",
      "2021-06-02 17:31:50,355 - simulator - INFO - Info for rank 0, Date = 2020-06-03 06:00:00, number of deaths =  0, number of infected = 48\n",
      "2021-06-02 17:31:50,424 - simulator - INFO - CMS: Infection COMS-v2 for rank 0/1(2)0.00021701100013160612,0.00021696090698242188 - 2020-06-03 06:00:00\n",
      "2021-06-02 17:31:50,479 - simulator - INFO - CMS: Timestep for rank 0/1 - 0.5923974830002408,0.5923986434936523 - 2020-06-03 06:00:00\n",
      "\n",
      "2021-06-02 17:31:50,480 - simulator - INFO - ==================== timestep ====================\n",
      "2021-06-02 17:31:50,953 - activity_manager - INFO - CMS: People COMS for rank 0/1 - 3.706998541019857e-06,3.5762786865234375e-06 - 2020-06-03 08:00:00\n",
      "2021-06-02 17:31:50,957 - simulator - INFO - Info for rank 0, Date = 2020-06-03 08:00:00, number of deaths =  0, number of infected = 48\n",
      "2021-06-02 17:31:51,057 - simulator - INFO - CMS: Infection COMS-v2 for rank 0/1(2)0.00027568599944061134,0.00027561187744140625 - 2020-06-03 08:00:00\n",
      "2021-06-02 17:31:51,118 - simulator - INFO - CMS: Timestep for rank 0/1 - 0.6370917629992618,0.6370925903320312 - 2020-06-03 08:00:00\n",
      "\n",
      "2021-06-02 17:31:51,119 - simulator - INFO - ==================== timestep ====================\n",
      "2021-06-02 17:31:51,289 - activity_manager - INFO - CMS: People COMS for rank 0/1 - 4.4720000005327165e-06,4.0531158447265625e-06 - 2020-06-03 10:00:00\n",
      "2021-06-02 17:31:51,294 - simulator - INFO - Info for rank 0, Date = 2020-06-03 10:00:00, number of deaths =  0, number of infected = 48\n",
      "2021-06-02 17:31:51,342 - simulator - INFO - CMS: Infection COMS-v2 for rank 0/1(2)0.0001981959994736826,0.00019812583923339844 - 2020-06-03 10:00:00\n",
      "2021-06-02 17:31:51,405 - simulator - INFO - CMS: Timestep for rank 0/1 - 0.2857067750010174,0.2857077121734619 - 2020-06-03 10:00:00\n",
      "\n",
      "2021-06-02 17:31:51,406 - simulator - INFO - ==================== timestep ====================\n",
      "2021-06-02 17:31:51,582 - activity_manager - INFO - CMS: People COMS for rank 0/1 - 4.282001100364141e-06,4.0531158447265625e-06 - 2020-06-04 00:00:00\n",
      "2021-06-02 17:31:51,587 - simulator - INFO - Info for rank 0, Date = 2020-06-04 00:00:00, number of deaths =  0, number of infected = 53\n",
      "2021-06-02 17:31:51,639 - simulator - INFO - CMS: Infection COMS-v2 for rank 0/1(2)0.00019394599985389505,0.00019407272338867188 - 2020-06-04 00:00:00\n",
      "2021-06-02 17:31:51,715 - simulator - INFO - CMS: Timestep for rank 0/1 - 0.3090606530004152,0.30906200408935547 - 2020-06-04 00:00:00\n",
      "\n",
      "2021-06-02 17:31:51,719 - simulator - INFO - ==================== timestep ====================\n",
      "2021-06-02 17:31:52,374 - activity_manager - INFO - CMS: People COMS for rank 0/1 - 4.5050001062918454e-06,4.291534423828125e-06 - 2020-06-04 02:00:00\n",
      "2021-06-02 17:31:52,380 - simulator - INFO - Info for rank 0, Date = 2020-06-04 02:00:00, number of deaths =  0, number of infected = 53\n",
      "2021-06-02 17:31:52,466 - simulator - INFO - CMS: Infection COMS-v2 for rank 0/1(2)0.0003432989997236291,0.00034332275390625 - 2020-06-04 02:00:00\n",
      "2021-06-02 17:31:52,554 - simulator - INFO - CMS: Timestep for rank 0/1 - 0.8328689360005228,0.8328709602355957 - 2020-06-04 02:00:00\n",
      "\n",
      "2021-06-02 17:31:52,555 - simulator - INFO - ==================== timestep ====================\n",
      "2021-06-02 17:31:53,131 - activity_manager - INFO - CMS: People COMS for rank 0/1 - 4.0549984987592325e-06,3.814697265625e-06 - 2020-06-04 04:00:00\n",
      "2021-06-02 17:31:53,137 - simulator - INFO - Info for rank 0, Date = 2020-06-04 04:00:00, number of deaths =  0, number of infected = 55\n",
      "2021-06-02 17:31:53,212 - simulator - INFO - CMS: Infection COMS-v2 for rank 0/1(2)0.00018694599930313416,0.000186920166015625 - 2020-06-04 04:00:00\n",
      "2021-06-02 17:31:53,297 - simulator - INFO - CMS: Timestep for rank 0/1 - 0.7406136839999817,0.7406151294708252 - 2020-06-04 04:00:00\n",
      "\n",
      "2021-06-02 17:31:53,298 - simulator - INFO - ==================== timestep ====================\n",
      "2021-06-02 17:31:53,830 - activity_manager - INFO - CMS: People COMS for rank 0/1 - 4.262999937054701e-06,4.5299530029296875e-06 - 2020-06-04 06:00:00\n",
      "2021-06-02 17:31:53,835 - simulator - INFO - Info for rank 0, Date = 2020-06-04 06:00:00, number of deaths =  0, number of infected = 56\n",
      "2021-06-02 17:31:53,895 - simulator - INFO - CMS: Infection COMS-v2 for rank 0/1(2)0.00019661700025608297,0.00019669532775878906 - 2020-06-04 06:00:00\n",
      "2021-06-02 17:31:53,954 - simulator - INFO - CMS: Timestep for rank 0/1 - 0.655058401000133,0.6550588607788086 - 2020-06-04 06:00:00\n",
      "\n",
      "2021-06-02 17:31:53,955 - simulator - INFO - ==================== timestep ====================\n",
      "2021-06-02 17:31:54,466 - activity_manager - INFO - CMS: People COMS for rank 0/1 - 3.893999746651389e-06,3.337860107421875e-06 - 2020-06-04 08:00:00\n",
      "2021-06-02 17:31:54,470 - simulator - INFO - Info for rank 0, Date = 2020-06-04 08:00:00, number of deaths =  0, number of infected = 56\n",
      "2021-06-02 17:31:54,555 - simulator - INFO - CMS: Infection COMS-v2 for rank 0/1(2)0.00024157400002877694,0.0002415180206298828 - 2020-06-04 08:00:00\n",
      "2021-06-02 17:31:54,645 - simulator - INFO - CMS: Timestep for rank 0/1 - 0.6897267000003922,0.6897280216217041 - 2020-06-04 08:00:00\n",
      "\n",
      "2021-06-02 17:31:54,646 - simulator - INFO - ==================== timestep ====================\n",
      "2021-06-02 17:31:54,832 - activity_manager - INFO - CMS: People COMS for rank 0/1 - 3.895000190823339e-06,3.814697265625e-06 - 2020-06-04 10:00:00\n",
      "2021-06-02 17:31:54,837 - simulator - INFO - Info for rank 0, Date = 2020-06-04 10:00:00, number of deaths =  0, number of infected = 57\n",
      "2021-06-02 17:31:54,893 - simulator - INFO - CMS: Infection COMS-v2 for rank 0/1(2)0.0001761739986250177,0.0001761913299560547 - 2020-06-04 10:00:00\n",
      "2021-06-02 17:31:54,953 - simulator - INFO - CMS: Timestep for rank 0/1 - 0.30113183799949184,0.3011322021484375 - 2020-06-04 10:00:00\n",
      "\n",
      "2021-06-02 17:31:54,954 - simulator - INFO - ==================== timestep ====================\n",
      "2021-06-02 17:31:55,154 - activity_manager - INFO - CMS: People COMS for rank 0/1 - 5.956000677542761e-06,5.7220458984375e-06 - 2020-06-05 00:00:00\n",
      "2021-06-02 17:31:55,158 - simulator - INFO - Info for rank 0, Date = 2020-06-05 00:00:00, number of deaths =  0, number of infected = 58\n",
      "2021-06-02 17:31:55,228 - simulator - INFO - CMS: Infection COMS-v2 for rank 0/1(2)0.0003174579996993998,0.00031757354736328125 - 2020-06-05 00:00:00\n",
      "2021-06-02 17:31:55,291 - simulator - INFO - CMS: Timestep for rank 0/1 - 0.33660534199952963,0.3366067409515381 - 2020-06-05 00:00:00\n",
      "\n",
      "2021-06-02 17:31:55,292 - simulator - INFO - ==================== timestep ====================\n",
      "2021-06-02 17:31:55,768 - activity_manager - INFO - CMS: People COMS for rank 0/1 - 3.6279998312238604e-06,3.337860107421875e-06 - 2020-06-05 02:00:00\n",
      "2021-06-02 17:31:55,773 - simulator - INFO - Info for rank 0, Date = 2020-06-05 02:00:00, number of deaths =  0, number of infected = 60\n",
      "2021-06-02 17:31:55,846 - simulator - INFO - CMS: Infection COMS-v2 for rank 0/1(2)0.0002169620001950534,0.00021648406982421875 - 2020-06-05 02:00:00\n",
      "2021-06-02 17:31:55,903 - simulator - INFO - CMS: Timestep for rank 0/1 - 0.6111471860003803,0.6111483573913574 - 2020-06-05 02:00:00\n",
      "\n",
      "2021-06-02 17:31:55,904 - simulator - INFO - ==================== timestep ====================\n"
     ]
    },
    {
     "name": "stdout",
     "output_type": "stream",
     "text": [
      "2021-06-02 17:31:56,416 - activity_manager - INFO - CMS: People COMS for rank 0/1 - 1.133299883804284e-05,1.0967254638671875e-05 - 2020-06-05 04:00:00\n",
      "2021-06-02 17:31:56,420 - simulator - INFO - Info for rank 0, Date = 2020-06-05 04:00:00, number of deaths =  0, number of infected = 62\n",
      "2021-06-02 17:31:56,491 - simulator - INFO - CMS: Infection COMS-v2 for rank 0/1(2)0.0003434829995967448,0.0003440380096435547 - 2020-06-05 04:00:00\n",
      "2021-06-02 17:31:56,575 - simulator - INFO - CMS: Timestep for rank 0/1 - 0.6700894979985605,0.6700916290283203 - 2020-06-05 04:00:00\n",
      "\n",
      "2021-06-02 17:31:56,575 - simulator - INFO - ==================== timestep ====================\n",
      "2021-06-02 17:31:57,084 - activity_manager - INFO - CMS: People COMS for rank 0/1 - 5.572001100517809e-06,5.245208740234375e-06 - 2020-06-05 06:00:00\n",
      "2021-06-02 17:31:57,090 - simulator - INFO - Info for rank 0, Date = 2020-06-05 06:00:00, number of deaths =  0, number of infected = 62\n",
      "2021-06-02 17:31:57,160 - simulator - INFO - CMS: Infection COMS-v2 for rank 0/1(2)0.00018365100004302803,0.00018358230590820312 - 2020-06-05 06:00:00\n",
      "2021-06-02 17:31:57,219 - simulator - INFO - CMS: Timestep for rank 0/1 - 0.6424098669995146,0.6424152851104736 - 2020-06-05 06:00:00\n",
      "\n",
      "2021-06-02 17:31:57,219 - simulator - INFO - ==================== timestep ====================\n",
      "2021-06-02 17:31:57,693 - activity_manager - INFO - CMS: People COMS for rank 0/1 - 3.5859993658959866e-06,3.337860107421875e-06 - 2020-06-05 08:00:00\n",
      "2021-06-02 17:31:57,698 - simulator - INFO - Info for rank 0, Date = 2020-06-05 08:00:00, number of deaths =  0, number of infected = 63\n",
      "2021-06-02 17:31:57,773 - simulator - INFO - CMS: Infection COMS-v2 for rank 0/1(2)0.00019908300055249128,0.00019931793212890625 - 2020-06-05 08:00:00\n",
      "2021-06-02 17:31:57,838 - simulator - INFO - CMS: Timestep for rank 0/1 - 0.6182358389996807,0.618236780166626 - 2020-06-05 08:00:00\n",
      "\n",
      "2021-06-02 17:31:57,839 - simulator - INFO - ==================== timestep ====================\n",
      "2021-06-02 17:31:58,020 - activity_manager - INFO - CMS: People COMS for rank 0/1 - 4.51400046586059e-06,4.0531158447265625e-06 - 2020-06-05 10:00:00\n",
      "2021-06-02 17:31:58,025 - simulator - INFO - Info for rank 0, Date = 2020-06-05 10:00:00, number of deaths =  0, number of infected = 63\n",
      "2021-06-02 17:31:58,081 - simulator - INFO - CMS: Infection COMS-v2 for rank 0/1(2)0.00026761799927044194,0.00026726722717285156 - 2020-06-05 10:00:00\n",
      "2021-06-02 17:31:58,155 - simulator - INFO - CMS: Timestep for rank 0/1 - 0.3155518089988618,0.3155529499053955 - 2020-06-05 10:00:00\n",
      "\n",
      "2021-06-02 17:31:58,156 - simulator - INFO - ==================== timestep ====================\n",
      "2021-06-02 17:31:58,331 - activity_manager - INFO - CMS: People COMS for rank 0/1 - 4.358000296633691e-06,4.291534423828125e-06 - 2020-06-06 00:00:00\n",
      "2021-06-02 17:31:58,335 - simulator - INFO - Info for rank 0, Date = 2020-06-06 00:00:00, number of deaths =  0, number of infected = 66\n",
      "2021-06-02 17:31:58,386 - simulator - INFO - CMS: Infection COMS-v2 for rank 0/1(2)0.00017345199921692256,0.00017309188842773438 - 2020-06-06 00:00:00\n",
      "2021-06-02 17:31:58,442 - simulator - INFO - CMS: Timestep for rank 0/1 - 0.285911995000788,0.28591251373291016 - 2020-06-06 00:00:00\n",
      "\n",
      "2021-06-02 17:31:58,443 - simulator - INFO - ==================== timestep ====================\n",
      "2021-06-02 17:31:58,883 - activity_manager - INFO - CMS: People COMS for rank 0/1 - 3.6270012060413137e-06,3.337860107421875e-06 - 2020-06-06 03:00:00\n",
      "2021-06-02 17:31:58,888 - simulator - INFO - Info for rank 0, Date = 2020-06-06 03:00:00, number of deaths =  0, number of infected = 68\n",
      "2021-06-02 17:31:58,949 - simulator - INFO - CMS: Infection COMS-v2 for rank 0/1(2)0.00017664299957687035,0.00017642974853515625 - 2020-06-06 03:00:00\n",
      "2021-06-02 17:31:59,021 - simulator - INFO - CMS: Timestep for rank 0/1 - 0.578093339001498,0.5780940055847168 - 2020-06-06 03:00:00\n",
      "\n",
      "2021-06-02 17:31:59,022 - simulator - INFO - ==================== timestep ====================\n",
      "2021-06-02 17:31:59,523 - activity_manager - INFO - CMS: People COMS for rank 0/1 - 4.124000042793341e-06,3.814697265625e-06 - 2020-06-06 05:00:00\n",
      "2021-06-02 17:31:59,528 - simulator - INFO - Info for rank 0, Date = 2020-06-06 05:00:00, number of deaths =  0, number of infected = 70\n",
      "2021-06-02 17:31:59,610 - simulator - INFO - CMS: Infection COMS-v2 for rank 0/1(2)0.00021763800032204017,0.00021767616271972656 - 2020-06-06 05:00:00\n",
      "2021-06-02 17:31:59,670 - simulator - INFO - CMS: Timestep for rank 0/1 - 0.6469812539999111,0.6469824314117432 - 2020-06-06 05:00:00\n",
      "\n",
      "2021-06-02 17:31:59,670 - simulator - INFO - ==================== timestep ====================\n",
      "2021-06-02 17:32:00,168 - activity_manager - INFO - CMS: People COMS for rank 0/1 - 5.2249997679609805e-06,4.76837158203125e-06 - 2020-06-06 07:00:00\n",
      "2021-06-02 17:32:00,172 - simulator - INFO - Info for rank 0, Date = 2020-06-06 07:00:00, number of deaths =  0, number of infected = 70\n",
      "2021-06-02 17:32:00,244 - simulator - INFO - CMS: Infection COMS-v2 for rank 0/1(2)0.00018606400044518523,0.0001857280731201172 - 2020-06-06 07:00:00\n",
      "2021-06-02 17:32:00,307 - simulator - INFO - CMS: Timestep for rank 0/1 - 0.6360514879997936,0.6360528469085693 - 2020-06-06 07:00:00\n",
      "\n",
      "2021-06-02 17:32:00,308 - simulator - INFO - ==================== timestep ====================\n",
      "2021-06-02 17:32:00,776 - activity_manager - INFO - CMS: People COMS for rank 0/1 - 4.034000085084699e-06,3.814697265625e-06 - 2020-06-06 09:00:00\n",
      "2021-06-02 17:32:00,780 - simulator - INFO - Info for rank 0, Date = 2020-06-06 09:00:00, number of deaths =  0, number of infected = 70\n",
      "2021-06-02 17:32:00,849 - simulator - INFO - CMS: Infection COMS-v2 for rank 0/1(2)0.0001927920002344763,0.00019311904907226562 - 2020-06-06 09:00:00\n",
      "2021-06-02 17:32:00,909 - simulator - INFO - CMS: Timestep for rank 0/1 - 0.6004070609997143,0.600407600402832 - 2020-06-06 09:00:00\n",
      "\n",
      "2021-06-02 17:32:00,909 - simulator - INFO - ==================== timestep ====================\n",
      "2021-06-02 17:32:01,081 - activity_manager - INFO - CMS: People COMS for rank 0/1 - 6.0660004237433895e-06,5.7220458984375e-06 - 2020-06-06 11:00:00\n",
      "2021-06-02 17:32:01,088 - simulator - INFO - Info for rank 0, Date = 2020-06-06 11:00:00, number of deaths =  0, number of infected = 70\n",
      "2021-06-02 17:32:01,142 - simulator - INFO - CMS: Infection COMS-v2 for rank 0/1(2)0.0001804289986466756,0.00018024444580078125 - 2020-06-06 11:00:00\n",
      "2021-06-02 17:32:01,206 - simulator - INFO - CMS: Timestep for rank 0/1 - 0.2958249990006152,0.295825719833374 - 2020-06-06 11:00:00\n",
      "\n",
      "2021-06-02 17:32:01,206 - simulator - INFO - ==================== timestep ====================\n",
      "2021-06-02 17:32:01,388 - activity_manager - INFO - CMS: People COMS for rank 0/1 - 4.0930008253781125e-06,3.814697265625e-06 - 2020-06-07 00:00:00\n",
      "2021-06-02 17:32:01,393 - simulator - INFO - Info for rank 0, Date = 2020-06-07 00:00:00, number of deaths =  0, number of infected = 72\n",
      "2021-06-02 17:32:01,447 - simulator - INFO - CMS: Infection COMS-v2 for rank 0/1(2)0.00020724800015159417,0.0002071857452392578 - 2020-06-07 00:00:00\n",
      "2021-06-02 17:32:01,505 - simulator - INFO - CMS: Timestep for rank 0/1 - 0.2981472319988825,0.29814815521240234 - 2020-06-07 00:00:00\n",
      "\n",
      "2021-06-02 17:32:01,506 - simulator - INFO - ==================== timestep ====================\n",
      "2021-06-02 17:32:01,966 - activity_manager - INFO - CMS: People COMS for rank 0/1 - 3.9619990275241435e-06,3.814697265625e-06 - 2020-06-07 03:00:00\n",
      "2021-06-02 17:32:01,970 - simulator - INFO - Info for rank 0, Date = 2020-06-07 03:00:00, number of deaths =  0, number of infected = 73\n",
      "2021-06-02 17:32:02,039 - simulator - INFO - CMS: Infection COMS-v2 for rank 0/1(2)0.0001922190003824653,0.00019240379333496094 - 2020-06-07 03:00:00\n",
      "2021-06-02 17:32:02,098 - simulator - INFO - CMS: Timestep for rank 0/1 - 0.5918117800010805,0.5918128490447998 - 2020-06-07 03:00:00\n",
      "\n",
      "2021-06-02 17:32:02,099 - simulator - INFO - ==================== timestep ====================\n",
      "2021-06-02 17:32:02,543 - activity_manager - INFO - CMS: People COMS for rank 0/1 - 3.712000761879608e-06,3.5762786865234375e-06 - 2020-06-07 05:00:00\n",
      "2021-06-02 17:32:02,549 - simulator - INFO - Info for rank 0, Date = 2020-06-07 05:00:00, number of deaths =  0, number of infected = 75\n"
     ]
    },
    {
     "name": "stdout",
     "output_type": "stream",
     "text": [
      "2021-06-02 17:32:02,622 - simulator - INFO - CMS: Infection COMS-v2 for rank 0/1(2)0.0001899700000649318,0.00018978118896484375 - 2020-06-07 05:00:00\n",
      "2021-06-02 17:32:02,678 - simulator - INFO - CMS: Timestep for rank 0/1 - 0.578895961998569,0.5788967609405518 - 2020-06-07 05:00:00\n",
      "\n",
      "2021-06-02 17:32:02,679 - simulator - INFO - ==================== timestep ====================\n",
      "2021-06-02 17:32:03,132 - activity_manager - INFO - CMS: People COMS for rank 0/1 - 3.7059999158373103e-06,3.5762786865234375e-06 - 2020-06-07 07:00:00\n",
      "2021-06-02 17:32:03,136 - simulator - INFO - Info for rank 0, Date = 2020-06-07 07:00:00, number of deaths =  0, number of infected = 76\n",
      "2021-06-02 17:32:03,203 - simulator - INFO - CMS: Infection COMS-v2 for rank 0/1(2)0.00019523499940987676,0.00019550323486328125 - 2020-06-07 07:00:00\n",
      "2021-06-02 17:32:03,259 - simulator - INFO - CMS: Timestep for rank 0/1 - 0.5780275260003691,0.5780279636383057 - 2020-06-07 07:00:00\n",
      "\n",
      "2021-06-02 17:32:03,260 - simulator - INFO - ==================== timestep ====================\n",
      "2021-06-02 17:32:03,712 - activity_manager - INFO - CMS: People COMS for rank 0/1 - 4.154000635026023e-06,4.0531158447265625e-06 - 2020-06-07 09:00:00\n",
      "2021-06-02 17:32:03,717 - simulator - INFO - Info for rank 0, Date = 2020-06-07 09:00:00, number of deaths =  0, number of infected = 76\n",
      "2021-06-02 17:32:03,780 - simulator - INFO - CMS: Infection COMS-v2 for rank 0/1(2)0.000286794000203372,0.0002865791320800781 - 2020-06-07 09:00:00\n",
      "2021-06-02 17:32:03,838 - simulator - INFO - CMS: Timestep for rank 0/1 - 0.5773790039984306,0.5773797035217285 - 2020-06-07 09:00:00\n",
      "\n",
      "2021-06-02 17:32:03,838 - simulator - INFO - ==================== timestep ====================\n",
      "2021-06-02 17:32:04,010 - activity_manager - INFO - CMS: People COMS for rank 0/1 - 4.547000571619719e-06,4.291534423828125e-06 - 2020-06-07 11:00:00\n",
      "2021-06-02 17:32:04,018 - simulator - INFO - Info for rank 0, Date = 2020-06-07 11:00:00, number of deaths =  0, number of infected = 79\n",
      "2021-06-02 17:32:04,063 - simulator - INFO - CMS: Infection COMS-v2 for rank 0/1(2)0.00017146600112027954,0.00017118453979492188 - 2020-06-07 11:00:00\n",
      "2021-06-02 17:32:04,119 - simulator - INFO - CMS: Timestep for rank 0/1 - 0.28015074100039783,0.2801516056060791 - 2020-06-07 11:00:00\n",
      "\n",
      "2021-06-02 17:32:04,120 - simulator - INFO - ==================== timestep ====================\n",
      "2021-06-02 17:32:04,293 - activity_manager - INFO - CMS: People COMS for rank 0/1 - 3.995999577455223e-06,3.814697265625e-06 - 2020-06-08 00:00:00\n",
      "2021-06-02 17:32:04,299 - simulator - INFO - Info for rank 0, Date = 2020-06-08 00:00:00, number of deaths =  0, number of infected = 82\n",
      "2021-06-02 17:32:04,346 - simulator - INFO - CMS: Infection COMS-v2 for rank 0/1(2)0.00024389200007135514,0.00024390220642089844 - 2020-06-08 00:00:00\n",
      "2021-06-02 17:32:04,405 - simulator - INFO - CMS: Timestep for rank 0/1 - 0.2844611199998326,0.28446197509765625 - 2020-06-08 00:00:00\n",
      "\n",
      "2021-06-02 17:32:04,405 - simulator - INFO - ==================== timestep ====================\n",
      "2021-06-02 17:32:04,887 - activity_manager - INFO - CMS: People COMS for rank 0/1 - 3.84499981009867e-06,3.814697265625e-06 - 2020-06-08 02:00:00\n",
      "2021-06-02 17:32:04,893 - simulator - INFO - Info for rank 0, Date = 2020-06-08 02:00:00, number of deaths =  0, number of infected = 82\n",
      "2021-06-02 17:32:04,957 - simulator - INFO - CMS: Infection COMS-v2 for rank 0/1(2)0.00018984700000146404,0.00018978118896484375 - 2020-06-08 02:00:00\n",
      "2021-06-02 17:32:05,049 - simulator - INFO - CMS: Timestep for rank 0/1 - 0.64316602100007,0.6431670188903809 - 2020-06-08 02:00:00\n",
      "\n",
      "2021-06-02 17:32:05,050 - simulator - INFO - ==================== timestep ====================\n",
      "2021-06-02 17:32:05,509 - activity_manager - INFO - CMS: People COMS for rank 0/1 - 3.89800152333919e-06,3.814697265625e-06 - 2020-06-08 04:00:00\n",
      "2021-06-02 17:32:05,514 - simulator - INFO - Info for rank 0, Date = 2020-06-08 04:00:00, number of deaths =  0, number of infected = 84\n",
      "2021-06-02 17:32:05,591 - simulator - INFO - CMS: Infection COMS-v2 for rank 0/1(2)0.00021247499898890965,0.0002124309539794922 - 2020-06-08 04:00:00\n",
      "2021-06-02 17:32:05,658 - simulator - INFO - CMS: Timestep for rank 0/1 - 0.6061048659994412,0.6061060428619385 - 2020-06-08 04:00:00\n",
      "\n",
      "2021-06-02 17:32:05,659 - simulator - INFO - ==================== timestep ====================\n",
      "2021-06-02 17:32:06,143 - activity_manager - INFO - CMS: People COMS for rank 0/1 - 3.9169990486698225e-06,3.814697265625e-06 - 2020-06-08 06:00:00\n",
      "2021-06-02 17:32:06,151 - simulator - INFO - Info for rank 0, Date = 2020-06-08 06:00:00, number of deaths =  0, number of infected = 84\n",
      "2021-06-02 17:32:06,257 - simulator - INFO - CMS: Infection COMS-v2 for rank 0/1(2)0.00020650399892474525,0.00020623207092285156 - 2020-06-08 06:00:00\n",
      "2021-06-02 17:32:06,324 - simulator - INFO - CMS: Timestep for rank 0/1 - 0.6644828539992886,0.6644837856292725 - 2020-06-08 06:00:00\n",
      "\n",
      "2021-06-02 17:32:06,325 - simulator - INFO - ==================== timestep ====================\n",
      "2021-06-02 17:32:06,859 - activity_manager - INFO - CMS: People COMS for rank 0/1 - 4.2119991121580824e-06,4.0531158447265625e-06 - 2020-06-08 08:00:00\n",
      "2021-06-02 17:32:06,864 - simulator - INFO - Info for rank 0, Date = 2020-06-08 08:00:00, number of deaths =  0, number of infected = 85\n",
      "2021-06-02 17:32:06,929 - simulator - INFO - CMS: Infection COMS-v2 for rank 0/1(2)0.00029356100094446447,0.000293731689453125 - 2020-06-08 08:00:00\n",
      "2021-06-02 17:32:06,993 - simulator - INFO - CMS: Timestep for rank 0/1 - 0.6675108740000724,0.6675117015838623 - 2020-06-08 08:00:00\n",
      "\n",
      "2021-06-02 17:32:06,994 - simulator - INFO - ==================== timestep ====================\n",
      "2021-06-02 17:32:07,165 - activity_manager - INFO - CMS: People COMS for rank 0/1 - 5.887999577680603e-06,5.4836273193359375e-06 - 2020-06-08 10:00:00\n",
      "2021-06-02 17:32:07,172 - simulator - INFO - Info for rank 0, Date = 2020-06-08 10:00:00, number of deaths =  0, number of infected = 87\n",
      "2021-06-02 17:32:07,221 - simulator - INFO - CMS: Infection COMS-v2 for rank 0/1(2)0.00018924600044556428,0.00018906593322753906 - 2020-06-08 10:00:00\n",
      "2021-06-02 17:32:07,286 - simulator - INFO - CMS: Timestep for rank 0/1 - 0.2920069739993778,0.2920074462890625 - 2020-06-08 10:00:00\n",
      "\n",
      "2021-06-02 17:32:07,287 - simulator - INFO - ==================== timestep ====================\n",
      "2021-06-02 17:32:07,455 - activity_manager - INFO - CMS: People COMS for rank 0/1 - 4.104000254301354e-06,4.0531158447265625e-06 - 2020-06-09 00:00:00\n",
      "2021-06-02 17:32:07,460 - simulator - INFO - Info for rank 0, Date = 2020-06-09 00:00:00, number of deaths =  0, number of infected = 90\n",
      "2021-06-02 17:32:07,507 - simulator - INFO - CMS: Infection COMS-v2 for rank 0/1(2)0.00023849099852668587,0.00023865699768066406 - 2020-06-09 00:00:00\n",
      "2021-06-02 17:32:07,577 - simulator - INFO - CMS: Timestep for rank 0/1 - 0.2895213789997797,0.2895221710205078 - 2020-06-09 00:00:00\n",
      "\n",
      "2021-06-02 17:32:07,578 - simulator - INFO - ==================== timestep ====================\n",
      "2021-06-02 17:32:08,023 - activity_manager - INFO - CMS: People COMS for rank 0/1 - 4.163999619777314e-06,4.0531158447265625e-06 - 2020-06-09 02:00:00\n",
      "2021-06-02 17:32:08,028 - simulator - INFO - Info for rank 0, Date = 2020-06-09 02:00:00, number of deaths =  0, number of infected = 90\n",
      "2021-06-02 17:32:08,088 - simulator - INFO - CMS: Infection COMS-v2 for rank 0/1(2)0.00020189200040476862,0.00020194053649902344 - 2020-06-09 02:00:00\n",
      "2021-06-02 17:32:08,139 - simulator - INFO - CMS: Timestep for rank 0/1 - 0.5601828769995336,0.5601840019226074 - 2020-06-09 02:00:00\n",
      "\n",
      "2021-06-02 17:32:08,140 - simulator - INFO - ==================== timestep ====================\n",
      "2021-06-02 17:32:08,617 - activity_manager - INFO - CMS: People COMS for rank 0/1 - 3.0020000849617645e-06,2.86102294921875e-06 - 2020-06-09 04:00:00\n",
      "2021-06-02 17:32:08,622 - simulator - INFO - Info for rank 0, Date = 2020-06-09 04:00:00, number of deaths =  0, number of infected = 90\n",
      "2021-06-02 17:32:08,692 - simulator - INFO - CMS: Infection COMS-v2 for rank 0/1(2)0.00020644899996113963,0.00020647048950195312 - 2020-06-09 04:00:00\n",
      "2021-06-02 17:32:08,752 - simulator - INFO - CMS: Timestep for rank 0/1 - 0.6114620619991911,0.6114633083343506 - 2020-06-09 04:00:00\n",
      "\n"
     ]
    },
    {
     "name": "stdout",
     "output_type": "stream",
     "text": [
      "2021-06-02 17:32:08,753 - simulator - INFO - ==================== timestep ====================\n",
      "2021-06-02 17:32:09,228 - activity_manager - INFO - CMS: People COMS for rank 0/1 - 3.7339996197260916e-06,3.5762786865234375e-06 - 2020-06-09 06:00:00\n",
      "2021-06-02 17:32:09,233 - simulator - INFO - Info for rank 0, Date = 2020-06-09 06:00:00, number of deaths =  0, number of infected = 90\n",
      "2021-06-02 17:32:09,304 - simulator - INFO - CMS: Infection COMS-v2 for rank 0/1(2)0.0001824629998736782,0.00018310546875 - 2020-06-09 06:00:00\n",
      "2021-06-02 17:32:09,362 - simulator - INFO - CMS: Timestep for rank 0/1 - 0.6091128940006456,0.6091139316558838 - 2020-06-09 06:00:00\n",
      "\n",
      "2021-06-02 17:32:09,363 - simulator - INFO - ==================== timestep ====================\n",
      "2021-06-02 17:32:09,825 - activity_manager - INFO - CMS: People COMS for rank 0/1 - 3.721001121448353e-06,3.5762786865234375e-06 - 2020-06-09 08:00:00\n",
      "2021-06-02 17:32:09,832 - simulator - INFO - Info for rank 0, Date = 2020-06-09 08:00:00, number of deaths =  0, number of infected = 91\n",
      "2021-06-02 17:32:09,900 - simulator - INFO - CMS: Infection COMS-v2 for rank 0/1(2)0.00028109799859521445,0.0002815723419189453 - 2020-06-09 08:00:00\n",
      "2021-06-02 17:32:09,955 - simulator - INFO - CMS: Timestep for rank 0/1 - 0.5912920299997495,0.5912926197052002 - 2020-06-09 08:00:00\n",
      "\n",
      "2021-06-02 17:32:09,956 - simulator - INFO - ==================== timestep ====================\n",
      "2021-06-02 17:32:10,138 - activity_manager - INFO - CMS: People COMS for rank 0/1 - 4.239998816046864e-06,3.814697265625e-06 - 2020-06-09 10:00:00\n",
      "2021-06-02 17:32:10,142 - simulator - INFO - Info for rank 0, Date = 2020-06-09 10:00:00, number of deaths =  0, number of infected = 91\n",
      "2021-06-02 17:32:10,194 - simulator - INFO - CMS: Infection COMS-v2 for rank 0/1(2)0.00018537600044510327,0.00018525123596191406 - 2020-06-09 10:00:00\n",
      "2021-06-02 17:32:10,264 - simulator - INFO - CMS: Timestep for rank 0/1 - 0.30800219800039486,0.30800342559814453 - 2020-06-09 10:00:00\n",
      "\n",
      "2021-06-02 17:32:10,265 - simulator - INFO - ==================== timestep ====================\n",
      "2021-06-02 17:32:10,426 - activity_manager - INFO - CMS: People COMS for rank 0/1 - 4.380999598652124e-06,4.291534423828125e-06 - 2020-06-10 00:00:00\n",
      "2021-06-02 17:32:10,431 - simulator - INFO - Info for rank 0, Date = 2020-06-10 00:00:00, number of deaths =  0, number of infected = 96\n",
      "2021-06-02 17:32:10,482 - simulator - INFO - CMS: Infection COMS-v2 for rank 0/1(2)0.00019803899886028375,0.0002002716064453125 - 2020-06-10 00:00:00\n",
      "2021-06-02 17:32:10,539 - simulator - INFO - CMS: Timestep for rank 0/1 - 0.2733318859991414,0.2733328342437744 - 2020-06-10 00:00:00\n",
      "\n",
      "2021-06-02 17:32:10,540 - simulator - INFO - ==================== timestep ====================\n",
      "2021-06-02 17:32:10,954 - activity_manager - INFO - CMS: People COMS for rank 0/1 - 3.929000740754418e-06,3.814697265625e-06 - 2020-06-10 02:00:00\n",
      "2021-06-02 17:32:10,958 - simulator - INFO - Info for rank 0, Date = 2020-06-10 02:00:00, number of deaths =  0, number of infected = 95\n",
      "2021-06-02 17:32:11,024 - simulator - INFO - CMS: Infection COMS-v2 for rank 0/1(2)0.0001914589993248228,0.00019168853759765625 - 2020-06-10 02:00:00\n",
      "2021-06-02 17:32:11,078 - simulator - INFO - CMS: Timestep for rank 0/1 - 0.53757961699921,0.5375807285308838 - 2020-06-10 02:00:00\n",
      "\n",
      "2021-06-02 17:32:11,079 - simulator - INFO - ==================== timestep ====================\n",
      "2021-06-02 17:32:11,506 - activity_manager - INFO - CMS: People COMS for rank 0/1 - 3.9499991544289514e-06,3.814697265625e-06 - 2020-06-10 04:00:00\n",
      "2021-06-02 17:32:11,511 - simulator - INFO - Info for rank 0, Date = 2020-06-10 04:00:00, number of deaths =  0, number of infected = 95\n",
      "2021-06-02 17:32:11,569 - simulator - INFO - CMS: Infection COMS-v2 for rank 0/1(2)0.00016426999900431838,0.000164031982421875 - 2020-06-10 04:00:00\n",
      "2021-06-02 17:32:11,623 - simulator - INFO - CMS: Timestep for rank 0/1 - 0.542891843999314,0.5428924560546875 - 2020-06-10 04:00:00\n",
      "\n",
      "2021-06-02 17:32:11,624 - simulator - INFO - ==================== timestep ====================\n",
      "2021-06-02 17:32:12,055 - activity_manager - INFO - CMS: People COMS for rank 0/1 - 3.888999344781041e-06,3.5762786865234375e-06 - 2020-06-10 06:00:00\n",
      "2021-06-02 17:32:12,060 - simulator - INFO - Info for rank 0, Date = 2020-06-10 06:00:00, number of deaths =  0, number of infected = 96\n",
      "2021-06-02 17:32:12,131 - simulator - INFO - CMS: Infection COMS-v2 for rank 0/1(2)0.00030717600020579994,0.00030684471130371094 - 2020-06-10 06:00:00\n",
      "2021-06-02 17:32:12,189 - simulator - INFO - CMS: Timestep for rank 0/1 - 0.5645786869990843,0.5645792484283447 - 2020-06-10 06:00:00\n",
      "\n",
      "2021-06-02 17:32:12,189 - simulator - INFO - ==================== timestep ====================\n",
      "2021-06-02 17:32:12,632 - activity_manager - INFO - CMS: People COMS for rank 0/1 - 4.9580012273509055e-06,4.76837158203125e-06 - 2020-06-10 08:00:00\n",
      "2021-06-02 17:32:12,637 - simulator - INFO - Info for rank 0, Date = 2020-06-10 08:00:00, number of deaths =  0, number of infected = 97\n",
      "2021-06-02 17:32:12,692 - simulator - INFO - CMS: Infection COMS-v2 for rank 0/1(2)0.00017250299970328342,0.00017261505126953125 - 2020-06-10 08:00:00\n",
      "2021-06-02 17:32:12,749 - simulator - INFO - CMS: Timestep for rank 0/1 - 0.5594892389999586,0.5594897270202637 - 2020-06-10 08:00:00\n",
      "\n",
      "2021-06-02 17:32:12,750 - simulator - INFO - ==================== timestep ====================\n",
      "2021-06-02 17:32:12,914 - activity_manager - INFO - CMS: People COMS for rank 0/1 - 5.211999450693838e-06,5.245208740234375e-06 - 2020-06-10 10:00:00\n",
      "2021-06-02 17:32:12,920 - simulator - INFO - Info for rank 0, Date = 2020-06-10 10:00:00, number of deaths =  0, number of infected = 98\n",
      "2021-06-02 17:32:12,961 - simulator - INFO - CMS: Infection COMS-v2 for rank 0/1(2)0.00016109800162666943,0.00016069412231445312 - 2020-06-10 10:00:00\n",
      "2021-06-02 17:32:13,018 - simulator - INFO - CMS: Timestep for rank 0/1 - 0.2669751819994417,0.26697659492492676 - 2020-06-10 10:00:00\n",
      "\n",
      "2021-06-02 17:32:13,018 - simulator - INFO - ==================== timestep ====================\n",
      "2021-06-02 17:32:13,181 - activity_manager - INFO - CMS: People COMS for rank 0/1 - 6.32399860478472e-06,6.4373016357421875e-06 - 2020-06-11 00:00:00\n",
      "2021-06-02 17:32:13,188 - simulator - INFO - Info for rank 0, Date = 2020-06-11 00:00:00, number of deaths =  0, number of infected = 102\n",
      "2021-06-02 17:32:13,230 - simulator - INFO - CMS: Infection COMS-v2 for rank 0/1(2)0.0003040209994651377,0.0003037452697753906 - 2020-06-11 00:00:00\n",
      "2021-06-02 17:32:13,288 - simulator - INFO - CMS: Timestep for rank 0/1 - 0.2693803089987341,0.2693812847137451 - 2020-06-11 00:00:00\n",
      "\n",
      "2021-06-02 17:32:13,289 - simulator - INFO - ==================== timestep ====================\n",
      "2021-06-02 17:32:13,768 - activity_manager - INFO - CMS: People COMS for rank 0/1 - 3.256000127294101e-06,3.337860107421875e-06 - 2020-06-11 02:00:00\n",
      "2021-06-02 17:32:13,772 - simulator - INFO - Info for rank 0, Date = 2020-06-11 02:00:00, number of deaths =  0, number of infected = 103\n",
      "2021-06-02 17:32:13,839 - simulator - INFO - CMS: Infection COMS-v2 for rank 0/1(2)0.0001954260005732067,0.0001957416534423828 - 2020-06-11 02:00:00\n",
      "2021-06-02 17:32:13,894 - simulator - INFO - CMS: Timestep for rank 0/1 - 0.6046730890011531,0.6046741008758545 - 2020-06-11 02:00:00\n",
      "\n",
      "2021-06-02 17:32:13,895 - simulator - INFO - ==================== timestep ====================\n",
      "2021-06-02 17:32:14,358 - activity_manager - INFO - CMS: People COMS for rank 0/1 - 3.95800088881515e-06,3.814697265625e-06 - 2020-06-11 04:00:00\n",
      "2021-06-02 17:32:14,363 - simulator - INFO - Info for rank 0, Date = 2020-06-11 04:00:00, number of deaths =  0, number of infected = 103\n",
      "2021-06-02 17:32:14,428 - simulator - INFO - CMS: Infection COMS-v2 for rank 0/1(2)0.0002034760000242386,0.00020313262939453125 - 2020-06-11 04:00:00\n",
      "2021-06-02 17:32:14,488 - simulator - INFO - CMS: Timestep for rank 0/1 - 0.5917986200001906,0.591799259185791 - 2020-06-11 04:00:00\n",
      "\n",
      "2021-06-02 17:32:14,488 - simulator - INFO - ==================== timestep ====================\n",
      "2021-06-02 17:32:14,932 - activity_manager - INFO - CMS: People COMS for rank 0/1 - 4.110999725526199e-06,3.814697265625e-06 - 2020-06-11 06:00:00\n"
     ]
    },
    {
     "name": "stdout",
     "output_type": "stream",
     "text": [
      "2021-06-02 17:32:14,937 - simulator - INFO - Info for rank 0, Date = 2020-06-11 06:00:00, number of deaths =  0, number of infected = 104\n",
      "2021-06-02 17:32:15,006 - simulator - INFO - CMS: Infection COMS-v2 for rank 0/1(2)0.00033629199970164336,0.0003364086151123047 - 2020-06-11 06:00:00\n",
      "2021-06-02 17:32:15,064 - simulator - INFO - CMS: Timestep for rank 0/1 - 0.5748647899999924,0.5748655796051025 - 2020-06-11 06:00:00\n",
      "\n",
      "2021-06-02 17:32:15,064 - simulator - INFO - ==================== timestep ====================\n",
      "2021-06-02 17:32:15,472 - activity_manager - INFO - CMS: People COMS for rank 0/1 - 4.2219999158987775e-06,4.0531158447265625e-06 - 2020-06-11 08:00:00\n",
      "2021-06-02 17:32:15,476 - simulator - INFO - Info for rank 0, Date = 2020-06-11 08:00:00, number of deaths =  0, number of infected = 104\n",
      "2021-06-02 17:32:15,539 - simulator - INFO - CMS: Infection COMS-v2 for rank 0/1(2)0.0002259640004922403,0.0002257823944091797 - 2020-06-11 08:00:00\n",
      "2021-06-02 17:32:15,593 - simulator - INFO - CMS: Timestep for rank 0/1 - 0.5283547679991898,0.5283553600311279 - 2020-06-11 08:00:00\n",
      "\n",
      "2021-06-02 17:32:15,594 - simulator - INFO - ==================== timestep ====================\n",
      "2021-06-02 17:32:15,760 - activity_manager - INFO - CMS: People COMS for rank 0/1 - 4.6080003812676296e-06,4.5299530029296875e-06 - 2020-06-11 10:00:00\n",
      "2021-06-02 17:32:15,766 - simulator - INFO - Info for rank 0, Date = 2020-06-11 10:00:00, number of deaths =  0, number of infected = 105\n",
      "2021-06-02 17:32:15,813 - simulator - INFO - CMS: Infection COMS-v2 for rank 0/1(2)0.0003133270001853816,0.00031304359436035156 - 2020-06-11 10:00:00\n",
      "2021-06-02 17:32:15,869 - simulator - INFO - CMS: Timestep for rank 0/1 - 0.2746186229996965,0.27461934089660645 - 2020-06-11 10:00:00\n",
      "\n",
      "2021-06-02 17:32:15,870 - simulator - INFO - ==================== timestep ====================\n",
      "2021-06-02 17:32:16,034 - activity_manager - INFO - CMS: People COMS for rank 0/1 - 4.587000148603693e-06,4.5299530029296875e-06 - 2020-06-12 00:00:00\n",
      "2021-06-02 17:32:16,039 - simulator - INFO - Info for rank 0, Date = 2020-06-12 00:00:00, number of deaths =  0, number of infected = 106\n",
      "2021-06-02 17:32:16,086 - simulator - INFO - CMS: Infection COMS-v2 for rank 0/1(2)0.0001815249997889623,0.00018167495727539062 - 2020-06-12 00:00:00\n",
      "2021-06-02 17:32:16,144 - simulator - INFO - CMS: Timestep for rank 0/1 - 0.2738176849998126,0.2738182544708252 - 2020-06-12 00:00:00\n",
      "\n",
      "2021-06-02 17:32:16,145 - simulator - INFO - ==================== timestep ====================\n",
      "2021-06-02 17:32:16,596 - activity_manager - INFO - CMS: People COMS for rank 0/1 - 3.7669997254852206e-06,3.5762786865234375e-06 - 2020-06-12 02:00:00\n",
      "2021-06-02 17:32:16,602 - simulator - INFO - Info for rank 0, Date = 2020-06-12 02:00:00, number of deaths =  0, number of infected = 109\n",
      "2021-06-02 17:32:16,667 - simulator - INFO - CMS: Infection COMS-v2 for rank 0/1(2)0.00018322200048714876,0.00018286705017089844 - 2020-06-12 02:00:00\n",
      "2021-06-02 17:32:16,721 - simulator - INFO - CMS: Timestep for rank 0/1 - 0.5750511969999934,0.5750517845153809 - 2020-06-12 02:00:00\n",
      "\n",
      "2021-06-02 17:32:16,722 - simulator - INFO - ==================== timestep ====================\n",
      "2021-06-02 17:32:17,169 - activity_manager - INFO - CMS: People COMS for rank 0/1 - 4.022000211989507e-06,3.814697265625e-06 - 2020-06-12 04:00:00\n",
      "2021-06-02 17:32:17,173 - simulator - INFO - Info for rank 0, Date = 2020-06-12 04:00:00, number of deaths =  0, number of infected = 110\n",
      "2021-06-02 17:32:17,238 - simulator - INFO - CMS: Infection COMS-v2 for rank 0/1(2)0.00018479599930287804,0.00018453598022460938 - 2020-06-12 04:00:00\n",
      "2021-06-02 17:32:17,297 - simulator - INFO - CMS: Timestep for rank 0/1 - 0.5745312109993392,0.5745327472686768 - 2020-06-12 04:00:00\n",
      "\n",
      "2021-06-02 17:32:17,298 - simulator - INFO - ==================== timestep ====================\n",
      "2021-06-02 17:32:17,703 - activity_manager - INFO - CMS: People COMS for rank 0/1 - 3.945999196730554e-06,3.814697265625e-06 - 2020-06-12 06:00:00\n",
      "2021-06-02 17:32:17,707 - simulator - INFO - Info for rank 0, Date = 2020-06-12 06:00:00, number of deaths =  0, number of infected = 111\n",
      "2021-06-02 17:32:17,770 - simulator - INFO - CMS: Infection COMS-v2 for rank 0/1(2)0.0001806679993023863,0.0001804828643798828 - 2020-06-12 06:00:00\n",
      "2021-06-02 17:32:17,826 - simulator - INFO - CMS: Timestep for rank 0/1 - 0.5269356050011993,0.5269362926483154 - 2020-06-12 06:00:00\n",
      "\n",
      "2021-06-02 17:32:17,827 - simulator - INFO - ==================== timestep ====================\n",
      "2021-06-02 17:32:18,280 - activity_manager - INFO - CMS: People COMS for rank 0/1 - 4.0619997889734805e-06,3.5762786865234375e-06 - 2020-06-12 08:00:00\n",
      "2021-06-02 17:32:18,285 - simulator - INFO - Info for rank 0, Date = 2020-06-12 08:00:00, number of deaths =  0, number of infected = 112\n",
      "2021-06-02 17:32:18,342 - simulator - INFO - CMS: Infection COMS-v2 for rank 0/1(2)0.00018118499974661972,0.00018095970153808594 - 2020-06-12 08:00:00\n",
      "2021-06-02 17:32:18,395 - simulator - INFO - CMS: Timestep for rank 0/1 - 0.5682366500004719,0.5682375431060791 - 2020-06-12 08:00:00\n",
      "\n",
      "2021-06-02 17:32:18,397 - simulator - INFO - ==================== timestep ====================\n",
      "2021-06-02 17:32:18,558 - activity_manager - INFO - CMS: People COMS for rank 0/1 - 3.4349995985394344e-06,3.337860107421875e-06 - 2020-06-12 10:00:00\n",
      "2021-06-02 17:32:18,562 - simulator - INFO - Info for rank 0, Date = 2020-06-12 10:00:00, number of deaths =  0, number of infected = 113\n",
      "2021-06-02 17:32:18,616 - simulator - INFO - CMS: Infection COMS-v2 for rank 0/1(2)0.00021143200137885287,0.0002110004425048828 - 2020-06-12 10:00:00\n",
      "2021-06-02 17:32:18,676 - simulator - INFO - CMS: Timestep for rank 0/1 - 0.2775105729997449,0.2775111198425293 - 2020-06-12 10:00:00\n",
      "\n",
      "2021-06-02 17:32:18,676 - simulator - INFO - ==================== timestep ====================\n",
      "2021-06-02 17:32:18,836 - activity_manager - INFO - CMS: People COMS for rank 0/1 - 4.547000571619719e-06,4.291534423828125e-06 - 2020-06-13 00:00:00\n",
      "2021-06-02 17:32:18,841 - simulator - INFO - Info for rank 0, Date = 2020-06-13 00:00:00, number of deaths =  0, number of infected = 123\n",
      "2021-06-02 17:32:18,892 - simulator - INFO - CMS: Infection COMS-v2 for rank 0/1(2)0.00018349599849898368,0.00018334388732910156 - 2020-06-13 00:00:00\n",
      "2021-06-02 17:32:18,950 - simulator - INFO - CMS: Timestep for rank 0/1 - 0.272855683000671,0.2728567123413086 - 2020-06-13 00:00:00\n",
      "\n",
      "2021-06-02 17:32:18,951 - simulator - INFO - ==================== timestep ====================\n",
      "2021-06-02 17:32:19,388 - activity_manager - INFO - CMS: People COMS for rank 0/1 - 3.7950012483634055e-06,3.5762786865234375e-06 - 2020-06-13 03:00:00\n",
      "2021-06-02 17:32:19,392 - simulator - INFO - Info for rank 0, Date = 2020-06-13 03:00:00, number of deaths =  0, number of infected = 125\n",
      "2021-06-02 17:32:19,457 - simulator - INFO - CMS: Infection COMS-v2 for rank 0/1(2)0.00018125300084648188,0.00018095970153808594 - 2020-06-13 03:00:00\n",
      "2021-06-02 17:32:19,515 - simulator - INFO - CMS: Timestep for rank 0/1 - 0.5636554129996512,0.5636563301086426 - 2020-06-13 03:00:00\n",
      "\n",
      "2021-06-02 17:32:19,516 - simulator - INFO - ==================== timestep ====================\n",
      "2021-06-02 17:32:19,945 - activity_manager - INFO - CMS: People COMS for rank 0/1 - 6.094000127632171e-06,5.4836273193359375e-06 - 2020-06-13 05:00:00\n",
      "2021-06-02 17:32:19,951 - simulator - INFO - Info for rank 0, Date = 2020-06-13 05:00:00, number of deaths =  0, number of infected = 126\n",
      "2021-06-02 17:32:20,015 - simulator - INFO - CMS: Infection COMS-v2 for rank 0/1(2)0.00019338099991728086,0.00019669532775878906 - 2020-06-13 05:00:00\n",
      "2021-06-02 17:32:20,072 - simulator - INFO - CMS: Timestep for rank 0/1 - 0.5558946689998265,0.5558955669403076 - 2020-06-13 05:00:00\n",
      "\n",
      "2021-06-02 17:32:20,073 - simulator - INFO - ==================== timestep ====================\n",
      "2021-06-02 17:32:20,553 - activity_manager - INFO - CMS: People COMS for rank 0/1 - 3.847000698442571e-06,3.814697265625e-06 - 2020-06-13 07:00:00\n",
      "2021-06-02 17:32:20,558 - simulator - INFO - Info for rank 0, Date = 2020-06-13 07:00:00, number of deaths =  0, number of infected = 127\n",
      "2021-06-02 17:32:20,617 - simulator - INFO - CMS: Infection COMS-v2 for rank 0/1(2)0.00026586800049699377,0.00026607513427734375 - 2020-06-13 07:00:00\n"
     ]
    },
    {
     "name": "stdout",
     "output_type": "stream",
     "text": [
      "2021-06-02 17:32:20,674 - simulator - INFO - CMS: Timestep for rank 0/1 - 0.6006465829996159,0.6006479263305664 - 2020-06-13 07:00:00\n",
      "\n",
      "2021-06-02 17:32:20,675 - simulator - INFO - ==================== timestep ====================\n",
      "2021-06-02 17:32:21,135 - activity_manager - INFO - CMS: People COMS for rank 0/1 - 3.948998710257001e-06,3.5762786865234375e-06 - 2020-06-13 09:00:00\n",
      "2021-06-02 17:32:21,139 - simulator - INFO - Info for rank 0, Date = 2020-06-13 09:00:00, number of deaths =  0, number of infected = 128\n",
      "2021-06-02 17:32:21,205 - simulator - INFO - CMS: Infection COMS-v2 for rank 0/1(2)0.00017619100071897265,0.0001761913299560547 - 2020-06-13 09:00:00\n",
      "2021-06-02 17:32:21,259 - simulator - INFO - CMS: Timestep for rank 0/1 - 0.5836735970005975,0.583674430847168 - 2020-06-13 09:00:00\n",
      "\n",
      "2021-06-02 17:32:21,260 - simulator - INFO - ==================== timestep ====================\n",
      "2021-06-02 17:32:21,422 - activity_manager - INFO - CMS: People COMS for rank 0/1 - 4.482000804273412e-06,4.5299530029296875e-06 - 2020-06-13 11:00:00\n",
      "2021-06-02 17:32:21,426 - simulator - INFO - Info for rank 0, Date = 2020-06-13 11:00:00, number of deaths =  0, number of infected = 131\n",
      "2021-06-02 17:32:21,480 - simulator - INFO - CMS: Infection COMS-v2 for rank 0/1(2)0.0007541400009358767,0.0007543563842773438 - 2020-06-13 11:00:00\n",
      "2021-06-02 17:32:21,536 - simulator - INFO - CMS: Timestep for rank 0/1 - 0.2762621940000827,0.2762629985809326 - 2020-06-13 11:00:00\n",
      "\n",
      "2021-06-02 17:32:21,537 - simulator - INFO - ==================== timestep ====================\n",
      "2021-06-02 17:32:21,691 - activity_manager - INFO - CMS: People COMS for rank 0/1 - 3.03599881590344e-06,2.86102294921875e-06 - 2020-06-14 00:00:00\n",
      "2021-06-02 17:32:21,695 - simulator - INFO - Info for rank 0, Date = 2020-06-14 00:00:00, number of deaths =  0, number of infected = 135\n",
      "2021-06-02 17:32:21,742 - simulator - INFO - CMS: Infection COMS-v2 for rank 0/1(2)0.0003190000006725313,0.0003190040588378906 - 2020-06-14 00:00:00\n",
      "2021-06-02 17:32:21,794 - simulator - INFO - CMS: Timestep for rank 0/1 - 0.25644067299981543,0.2564420700073242 - 2020-06-14 00:00:00\n",
      "\n",
      "2021-06-02 17:32:21,795 - simulator - INFO - ==================== timestep ====================\n",
      "2021-06-02 17:32:22,245 - activity_manager - INFO - CMS: People COMS for rank 0/1 - 4.1360017348779365e-06,3.814697265625e-06 - 2020-06-14 03:00:00\n",
      "2021-06-02 17:32:22,250 - simulator - INFO - Info for rank 0, Date = 2020-06-14 03:00:00, number of deaths =  0, number of infected = 138\n",
      "2021-06-02 17:32:22,312 - simulator - INFO - CMS: Infection COMS-v2 for rank 0/1(2)0.00027938399944105186,0.00027942657470703125 - 2020-06-14 03:00:00\n",
      "2021-06-02 17:32:22,371 - simulator - INFO - CMS: Timestep for rank 0/1 - 0.5750900439998077,0.5750911235809326 - 2020-06-14 03:00:00\n",
      "\n",
      "2021-06-02 17:32:22,371 - simulator - INFO - ==================== timestep ====================\n",
      "2021-06-02 17:32:22,836 - activity_manager - INFO - CMS: People COMS for rank 0/1 - 3.991999619756825e-06,3.814697265625e-06 - 2020-06-14 05:00:00\n",
      "2021-06-02 17:32:22,841 - simulator - INFO - Info for rank 0, Date = 2020-06-14 05:00:00, number of deaths =  0, number of infected = 138\n",
      "2021-06-02 17:32:22,916 - simulator - INFO - CMS: Infection COMS-v2 for rank 0/1(2)0.00030156600041664205,0.0003006458282470703 - 2020-06-14 05:00:00\n",
      "2021-06-02 17:32:22,972 - simulator - INFO - CMS: Timestep for rank 0/1 - 0.5998863610002445,0.5998871326446533 - 2020-06-14 05:00:00\n",
      "\n",
      "2021-06-02 17:32:22,972 - simulator - INFO - ==================== timestep ====================\n",
      "2021-06-02 17:32:23,450 - activity_manager - INFO - CMS: People COMS for rank 0/1 - 3.9169990486698225e-06,3.814697265625e-06 - 2020-06-14 07:00:00\n",
      "2021-06-02 17:32:23,455 - simulator - INFO - Info for rank 0, Date = 2020-06-14 07:00:00, number of deaths =  0, number of infected = 141\n",
      "2021-06-02 17:32:23,518 - simulator - INFO - CMS: Infection COMS-v2 for rank 0/1(2)0.00017449699953431264,0.0001742839813232422 - 2020-06-14 07:00:00\n",
      "2021-06-02 17:32:23,577 - simulator - INFO - CMS: Timestep for rank 0/1 - 0.6037690070006647,0.6037700176239014 - 2020-06-14 07:00:00\n",
      "\n",
      "2021-06-02 17:32:23,578 - simulator - INFO - ==================== timestep ====================\n",
      "2021-06-02 17:32:24,059 - activity_manager - INFO - CMS: People COMS for rank 0/1 - 4.486000761971809e-06,4.5299530029296875e-06 - 2020-06-14 09:00:00\n",
      "2021-06-02 17:32:24,066 - simulator - INFO - Info for rank 0, Date = 2020-06-14 09:00:00, number of deaths =  0, number of infected = 143\n",
      "2021-06-02 17:32:24,124 - simulator - INFO - CMS: Infection COMS-v2 for rank 0/1(2)0.0001736150006763637,0.00017309188842773438 - 2020-06-14 09:00:00\n",
      "2021-06-02 17:32:24,183 - simulator - INFO - CMS: Timestep for rank 0/1 - 0.6048107269998582,0.604811429977417 - 2020-06-14 09:00:00\n",
      "\n",
      "2021-06-02 17:32:24,184 - simulator - INFO - ==================== timestep ====================\n",
      "2021-06-02 17:32:24,341 - activity_manager - INFO - CMS: People COMS for rank 0/1 - 3.822999133262783e-06,3.5762786865234375e-06 - 2020-06-14 11:00:00\n",
      "2021-06-02 17:32:24,346 - simulator - INFO - Info for rank 0, Date = 2020-06-14 11:00:00, number of deaths =  0, number of infected = 144\n",
      "2021-06-02 17:32:24,397 - simulator - INFO - CMS: Infection COMS-v2 for rank 0/1(2)0.0002400049997959286,0.00024008750915527344 - 2020-06-14 11:00:00\n",
      "2021-06-02 17:32:24,452 - simulator - INFO - CMS: Timestep for rank 0/1 - 0.2667980449987226,0.2667984962463379 - 2020-06-14 11:00:00\n",
      "\n",
      "2021-06-02 17:32:24,453 - simulator - INFO - ==================== timestep ====================\n",
      "2021-06-02 17:32:24,623 - activity_manager - INFO - CMS: People COMS for rank 0/1 - 4.137000360060483e-06,4.0531158447265625e-06 - 2020-06-15 00:00:00\n",
      "2021-06-02 17:32:24,627 - simulator - INFO - Info for rank 0, Date = 2020-06-15 00:00:00, number of deaths =  0, number of infected = 146\n",
      "2021-06-02 17:32:24,681 - simulator - INFO - CMS: Infection COMS-v2 for rank 0/1(2)0.00018048499987344258,0.0001804828643798828 - 2020-06-15 00:00:00\n",
      "2021-06-02 17:32:24,741 - simulator - INFO - CMS: Timestep for rank 0/1 - 0.2869152299990674,0.28691601753234863 - 2020-06-15 00:00:00\n",
      "\n",
      "2021-06-02 17:32:24,741 - simulator - INFO - ==================== timestep ====================\n",
      "2021-06-02 17:32:25,191 - activity_manager - INFO - CMS: People COMS for rank 0/1 - 4.2410010792082176e-06,4.0531158447265625e-06 - 2020-06-15 02:00:00\n",
      "2021-06-02 17:32:25,196 - simulator - INFO - Info for rank 0, Date = 2020-06-15 02:00:00, number of deaths =  0, number of infected = 148\n",
      "2021-06-02 17:32:25,260 - simulator - INFO - CMS: Infection COMS-v2 for rank 0/1(2)0.00020708699958049692,0.0002071857452392578 - 2020-06-15 02:00:00\n",
      "2021-06-02 17:32:25,318 - simulator - INFO - CMS: Timestep for rank 0/1 - 0.5762375099984638,0.5762381553649902 - 2020-06-15 02:00:00\n",
      "\n",
      "2021-06-02 17:32:25,319 - simulator - INFO - ==================== timestep ====================\n",
      "2021-06-02 17:32:25,795 - activity_manager - INFO - CMS: People COMS for rank 0/1 - 3.8809994293842465e-06,3.814697265625e-06 - 2020-06-15 04:00:00\n",
      "2021-06-02 17:32:25,800 - simulator - INFO - Info for rank 0, Date = 2020-06-15 04:00:00, number of deaths =  0, number of infected = 149\n",
      "2021-06-02 17:32:25,870 - simulator - INFO - CMS: Infection COMS-v2 for rank 0/1(2)0.00019351300034031738,0.00019359588623046875 - 2020-06-15 04:00:00\n",
      "2021-06-02 17:32:25,937 - simulator - INFO - CMS: Timestep for rank 0/1 - 0.6171474830007355,0.6171483993530273 - 2020-06-15 04:00:00\n",
      "\n",
      "2021-06-02 17:32:25,937 - simulator - INFO - ==================== timestep ====================\n",
      "2021-06-02 17:32:26,408 - activity_manager - INFO - CMS: People COMS for rank 0/1 - 4.362000254332088e-06,3.814697265625e-06 - 2020-06-15 06:00:00\n",
      "2021-06-02 17:32:26,412 - simulator - INFO - Info for rank 0, Date = 2020-06-15 06:00:00, number of deaths =  0, number of infected = 152\n",
      "2021-06-02 17:32:26,491 - simulator - INFO - CMS: Infection COMS-v2 for rank 0/1(2)0.0001805120009521488,0.00018024444580078125 - 2020-06-15 06:00:00\n",
      "2021-06-02 17:32:26,549 - simulator - INFO - CMS: Timestep for rank 0/1 - 0.6106223360002332,0.6106235980987549 - 2020-06-15 06:00:00\n",
      "\n",
      "2021-06-02 17:32:26,549 - simulator - INFO - ==================== timestep ====================\n"
     ]
    },
    {
     "name": "stdout",
     "output_type": "stream",
     "text": [
      "2021-06-02 17:32:27,055 - activity_manager - INFO - CMS: People COMS for rank 0/1 - 4.294000973459333e-06,4.5299530029296875e-06 - 2020-06-15 08:00:00\n",
      "2021-06-02 17:32:27,060 - simulator - INFO - Info for rank 0, Date = 2020-06-15 08:00:00, number of deaths =  0, number of infected = 154\n",
      "2021-06-02 17:32:27,144 - simulator - INFO - CMS: Infection COMS-v2 for rank 0/1(2)0.000296420999802649,0.0002963542938232422 - 2020-06-15 08:00:00\n",
      "2021-06-02 17:32:27,212 - simulator - INFO - CMS: Timestep for rank 0/1 - 0.6621022540002741,0.6621036529541016 - 2020-06-15 08:00:00\n",
      "\n",
      "2021-06-02 17:32:27,213 - simulator - INFO - ==================== timestep ====================\n",
      "2021-06-02 17:32:27,530 - activity_manager - INFO - CMS: People COMS for rank 0/1 - 7.11599932401441e-06,6.9141387939453125e-06 - 2020-06-15 10:00:00\n",
      "2021-06-02 17:32:27,540 - simulator - INFO - Info for rank 0, Date = 2020-06-15 10:00:00, number of deaths =  0, number of infected = 155\n",
      "2021-06-02 17:32:27,636 - simulator - INFO - CMS: Infection COMS-v2 for rank 0/1(2)0.00029689199982385617,0.0002963542938232422 - 2020-06-15 10:00:00\n",
      "2021-06-02 17:32:27,717 - simulator - INFO - CMS: Timestep for rank 0/1 - 0.5029903610011388,0.5029909610748291 - 2020-06-15 10:00:00\n",
      "\n",
      "2021-06-02 17:32:27,718 - simulator - INFO - ==================== timestep ====================\n",
      "2021-06-02 17:32:27,917 - activity_manager - INFO - CMS: People COMS for rank 0/1 - 5.088000762043521e-06,5.245208740234375e-06 - 2020-06-16 00:00:00\n",
      "2021-06-02 17:32:27,922 - simulator - INFO - Info for rank 0, Date = 2020-06-16 00:00:00, number of deaths =  0, number of infected = 161\n",
      "2021-06-02 17:32:27,973 - simulator - INFO - CMS: Infection COMS-v2 for rank 0/1(2)0.00022282700047071557,0.00022339820861816406 - 2020-06-16 00:00:00\n",
      "2021-06-02 17:32:28,038 - simulator - INFO - CMS: Timestep for rank 0/1 - 0.31918442200003483,0.3191850185394287 - 2020-06-16 00:00:00\n",
      "\n",
      "2021-06-02 17:32:28,039 - simulator - INFO - ==================== timestep ====================\n",
      "2021-06-02 17:32:28,546 - activity_manager - INFO - CMS: People COMS for rank 0/1 - 4.2310002754675224e-06,4.0531158447265625e-06 - 2020-06-16 02:00:00\n",
      "2021-06-02 17:32:28,554 - simulator - INFO - Info for rank 0, Date = 2020-06-16 02:00:00, number of deaths =  0, number of infected = 161\n",
      "2021-06-02 17:32:28,627 - simulator - INFO - CMS: Infection COMS-v2 for rank 0/1(2)0.0001936450007633539,0.0001933574676513672 - 2020-06-16 02:00:00\n",
      "2021-06-02 17:32:28,688 - simulator - INFO - CMS: Timestep for rank 0/1 - 0.6482650799989642,0.6482656002044678 - 2020-06-16 02:00:00\n",
      "\n",
      "2021-06-02 17:32:28,688 - simulator - INFO - ==================== timestep ====================\n",
      "2021-06-02 17:32:29,161 - activity_manager - INFO - CMS: People COMS for rank 0/1 - 4.2100000428035855e-06,4.0531158447265625e-06 - 2020-06-16 04:00:00\n",
      "2021-06-02 17:32:29,166 - simulator - INFO - Info for rank 0, Date = 2020-06-16 04:00:00, number of deaths =  0, number of infected = 163\n",
      "2021-06-02 17:32:29,229 - simulator - INFO - CMS: Infection COMS-v2 for rank 0/1(2)0.0003786729994317284,0.0003783702850341797 - 2020-06-16 04:00:00\n",
      "2021-06-02 17:32:29,289 - simulator - INFO - CMS: Timestep for rank 0/1 - 0.6002421790017252,0.600243091583252 - 2020-06-16 04:00:00\n",
      "\n",
      "2021-06-02 17:32:29,290 - simulator - INFO - ==================== timestep ====================\n",
      "2021-06-02 17:32:29,734 - activity_manager - INFO - CMS: People COMS for rank 0/1 - 3.937000656151213e-06,3.814697265625e-06 - 2020-06-16 06:00:00\n",
      "2021-06-02 17:32:29,739 - simulator - INFO - Info for rank 0, Date = 2020-06-16 06:00:00, number of deaths =  0, number of infected = 163\n",
      "2021-06-02 17:32:29,806 - simulator - INFO - CMS: Infection COMS-v2 for rank 0/1(2)0.00019731999964278657,0.0001971721649169922 - 2020-06-16 06:00:00\n",
      "2021-06-02 17:32:29,869 - simulator - INFO - CMS: Timestep for rank 0/1 - 0.5781239740008459,0.5781247615814209 - 2020-06-16 06:00:00\n",
      "\n",
      "2021-06-02 17:32:29,869 - simulator - INFO - ==================== timestep ====================\n",
      "2021-06-02 17:32:30,320 - activity_manager - INFO - CMS: People COMS for rank 0/1 - 3.638999260147102e-06,3.5762786865234375e-06 - 2020-06-16 08:00:00\n",
      "2021-06-02 17:32:30,324 - simulator - INFO - Info for rank 0, Date = 2020-06-16 08:00:00, number of deaths =  0, number of infected = 163\n",
      "2021-06-02 17:32:30,390 - simulator - INFO - CMS: Infection COMS-v2 for rank 0/1(2)0.00019932400027755648,0.00019884109497070312 - 2020-06-16 08:00:00\n",
      "2021-06-02 17:32:30,544 - simulator - INFO - CMS: Timestep for rank 0/1 - 0.6745351980007399,0.6745359897613525 - 2020-06-16 08:00:00\n",
      "\n",
      "2021-06-02 17:32:30,545 - simulator - INFO - ==================== timestep ====================\n",
      "2021-06-02 17:32:30,707 - activity_manager - INFO - CMS: People COMS for rank 0/1 - 4.089999492862262e-06,4.0531158447265625e-06 - 2020-06-16 10:00:00\n",
      "2021-06-02 17:32:30,712 - simulator - INFO - Info for rank 0, Date = 2020-06-16 10:00:00, number of deaths =  0, number of infected = 163\n",
      "2021-06-02 17:32:30,762 - simulator - INFO - CMS: Infection COMS-v2 for rank 0/1(2)0.0002045439996436471,0.00020432472229003906 - 2020-06-16 10:00:00\n",
      "2021-06-02 17:32:30,824 - simulator - INFO - CMS: Timestep for rank 0/1 - 0.27783834599904367,0.27783894538879395 - 2020-06-16 10:00:00\n",
      "\n",
      "2021-06-02 17:32:30,825 - simulator - INFO - ==================== timestep ====================\n",
      "2021-06-02 17:32:30,992 - activity_manager - INFO - CMS: People COMS for rank 0/1 - 4.466000973479822e-06,4.291534423828125e-06 - 2020-06-17 00:00:00\n",
      "2021-06-02 17:32:30,997 - simulator - INFO - Info for rank 0, Date = 2020-06-17 00:00:00, number of deaths =  0, number of infected = 167\n",
      "2021-06-02 17:32:31,047 - simulator - INFO - CMS: Infection COMS-v2 for rank 0/1(2)0.00019929500012949575,0.00019931793212890625 - 2020-06-17 00:00:00\n",
      "2021-06-02 17:32:31,107 - simulator - INFO - CMS: Timestep for rank 0/1 - 0.28192450200003805,0.28192567825317383 - 2020-06-17 00:00:00\n",
      "\n",
      "2021-06-02 17:32:31,108 - simulator - INFO - ==================== timestep ====================\n",
      "2021-06-02 17:32:31,583 - activity_manager - INFO - CMS: People COMS for rank 0/1 - 3.938001100323163e-06,3.814697265625e-06 - 2020-06-17 02:00:00\n",
      "2021-06-02 17:32:31,588 - simulator - INFO - Info for rank 0, Date = 2020-06-17 02:00:00, number of deaths =  0, number of infected = 170\n",
      "2021-06-02 17:32:31,653 - simulator - INFO - CMS: Infection COMS-v2 for rank 0/1(2)0.00018431599892210215,0.00018405914306640625 - 2020-06-17 02:00:00\n",
      "2021-06-02 17:32:31,709 - simulator - INFO - CMS: Timestep for rank 0/1 - 0.600851684999725,0.6008527278900146 - 2020-06-17 02:00:00\n",
      "\n",
      "2021-06-02 17:32:31,710 - simulator - INFO - ==================== timestep ====================\n",
      "2021-06-02 17:32:32,174 - activity_manager - INFO - CMS: People COMS for rank 0/1 - 4.011999408248812e-06,4.0531158447265625e-06 - 2020-06-17 04:00:00\n",
      "2021-06-02 17:32:32,178 - simulator - INFO - Info for rank 0, Date = 2020-06-17 04:00:00, number of deaths =  0, number of infected = 171\n",
      "2021-06-02 17:32:32,245 - simulator - INFO - CMS: Infection COMS-v2 for rank 0/1(2)0.0002164390007237671,0.0002167224884033203 - 2020-06-17 04:00:00\n",
      "2021-06-02 17:32:32,302 - simulator - INFO - CMS: Timestep for rank 0/1 - 0.5908774609997636,0.5908782482147217 - 2020-06-17 04:00:00\n",
      "\n",
      "2021-06-02 17:32:32,302 - simulator - INFO - ==================== timestep ====================\n",
      "2021-06-02 17:32:32,750 - activity_manager - INFO - CMS: People COMS for rank 0/1 - 3.969998942920938e-06,3.814697265625e-06 - 2020-06-17 06:00:00\n",
      "2021-06-02 17:32:32,755 - simulator - INFO - Info for rank 0, Date = 2020-06-17 06:00:00, number of deaths =  0, number of infected = 171\n",
      "2021-06-02 17:32:32,823 - simulator - INFO - CMS: Infection COMS-v2 for rank 0/1(2)0.00020334900000307243,0.0002033710479736328 - 2020-06-17 06:00:00\n",
      "2021-06-02 17:32:32,879 - simulator - INFO - CMS: Timestep for rank 0/1 - 0.5759774030011613,0.575979471206665 - 2020-06-17 06:00:00\n",
      "\n",
      "2021-06-02 17:32:32,880 - simulator - INFO - ==================== timestep ====================\n",
      "2021-06-02 17:32:33,304 - activity_manager - INFO - CMS: People COMS for rank 0/1 - 3.953999112127349e-06,3.814697265625e-06 - 2020-06-17 08:00:00\n",
      "2021-06-02 17:32:33,308 - simulator - INFO - Info for rank 0, Date = 2020-06-17 08:00:00, number of deaths =  0, number of infected = 172\n"
     ]
    },
    {
     "name": "stdout",
     "output_type": "stream",
     "text": [
      "2021-06-02 17:32:33,371 - simulator - INFO - CMS: Infection COMS-v2 for rank 0/1(2)0.000184950999027933,0.00018477439880371094 - 2020-06-17 08:00:00\n",
      "2021-06-02 17:32:33,427 - simulator - INFO - CMS: Timestep for rank 0/1 - 0.545829679000235,0.5458307266235352 - 2020-06-17 08:00:00\n",
      "\n",
      "2021-06-02 17:32:33,428 - simulator - INFO - ==================== timestep ====================\n",
      "2021-06-02 17:32:33,591 - activity_manager - INFO - CMS: People COMS for rank 0/1 - 3.895000190823339e-06,4.0531158447265625e-06 - 2020-06-17 10:00:00\n",
      "2021-06-02 17:32:33,596 - simulator - INFO - Info for rank 0, Date = 2020-06-17 10:00:00, number of deaths =  0, number of infected = 176\n",
      "2021-06-02 17:32:33,653 - simulator - INFO - CMS: Infection COMS-v2 for rank 0/1(2)0.00020460399900912307,0.00020456314086914062 - 2020-06-17 10:00:00\n",
      "2021-06-02 17:32:33,713 - simulator - INFO - CMS: Timestep for rank 0/1 - 0.2848277760003839,0.28482866287231445 - 2020-06-17 10:00:00\n",
      "\n",
      "2021-06-02 17:32:33,714 - simulator - INFO - ==================== timestep ====================\n",
      "2021-06-02 17:32:33,870 - activity_manager - INFO - CMS: People COMS for rank 0/1 - 3.8030011637602e-06,3.5762786865234375e-06 - 2020-06-18 00:00:00\n",
      "2021-06-02 17:32:33,876 - simulator - INFO - Info for rank 0, Date = 2020-06-18 00:00:00, number of deaths =  0, number of infected = 175\n",
      "2021-06-02 17:32:33,929 - simulator - INFO - CMS: Infection COMS-v2 for rank 0/1(2)0.00038612000025750604,0.00038552284240722656 - 2020-06-18 00:00:00\n",
      "2021-06-02 17:32:33,989 - simulator - INFO - CMS: Timestep for rank 0/1 - 0.2735692470014328,0.27357029914855957 - 2020-06-18 00:00:00\n",
      "\n",
      "2021-06-02 17:32:33,989 - simulator - INFO - ==================== timestep ====================\n",
      "2021-06-02 17:32:34,400 - activity_manager - INFO - CMS: People COMS for rank 0/1 - 4.5289998524822295e-06,4.291534423828125e-06 - 2020-06-18 02:00:00\n",
      "2021-06-02 17:32:34,405 - simulator - INFO - Info for rank 0, Date = 2020-06-18 02:00:00, number of deaths =  0, number of infected = 176\n",
      "2021-06-02 17:32:34,460 - simulator - INFO - CMS: Infection COMS-v2 for rank 0/1(2)0.00019250600053055678,0.00019240379333496094 - 2020-06-18 02:00:00\n",
      "2021-06-02 17:32:34,517 - simulator - INFO - CMS: Timestep for rank 0/1 - 0.5268497029992432,0.5268504619598389 - 2020-06-18 02:00:00\n",
      "\n",
      "2021-06-02 17:32:34,518 - simulator - INFO - ==================== timestep ====================\n",
      "2021-06-02 17:32:34,977 - activity_manager - INFO - CMS: People COMS for rank 0/1 - 3.794999429374002e-06,3.5762786865234375e-06 - 2020-06-18 04:00:00\n",
      "2021-06-02 17:32:34,982 - simulator - INFO - Info for rank 0, Date = 2020-06-18 04:00:00, number of deaths =  0, number of infected = 178\n",
      "2021-06-02 17:32:35,048 - simulator - INFO - CMS: Infection COMS-v2 for rank 0/1(2)0.00017137299983005505,0.00017118453979492188 - 2020-06-18 04:00:00\n",
      "2021-06-02 17:32:35,105 - simulator - INFO - CMS: Timestep for rank 0/1 - 0.5866003510000155,0.5866014957427979 - 2020-06-18 04:00:00\n",
      "\n",
      "2021-06-02 17:32:35,105 - simulator - INFO - ==================== timestep ====================\n",
      "2021-06-02 17:32:35,575 - activity_manager - INFO - CMS: People COMS for rank 0/1 - 4.146999344811775e-06,4.291534423828125e-06 - 2020-06-18 06:00:00\n",
      "2021-06-02 17:32:35,581 - simulator - INFO - Info for rank 0, Date = 2020-06-18 06:00:00, number of deaths =  0, number of infected = 179\n",
      "2021-06-02 17:32:35,641 - simulator - INFO - CMS: Infection COMS-v2 for rank 0/1(2)0.00018124799862562213,0.00018095970153808594 - 2020-06-18 06:00:00\n",
      "2021-06-02 17:32:35,698 - simulator - INFO - CMS: Timestep for rank 0/1 - 0.5923692320011469,0.5923700332641602 - 2020-06-18 06:00:00\n",
      "\n",
      "2021-06-02 17:32:35,699 - simulator - INFO - ==================== timestep ====================\n",
      "2021-06-02 17:32:36,163 - activity_manager - INFO - CMS: People COMS for rank 0/1 - 4.0600007196189836e-06,4.0531158447265625e-06 - 2020-06-18 08:00:00\n",
      "2021-06-02 17:32:36,167 - simulator - INFO - Info for rank 0, Date = 2020-06-18 08:00:00, number of deaths =  0, number of infected = 180\n",
      "2021-06-02 17:32:36,234 - simulator - INFO - CMS: Infection COMS-v2 for rank 0/1(2)0.00019571899974835105,0.00019550323486328125 - 2020-06-18 08:00:00\n",
      "2021-06-02 17:32:36,293 - simulator - INFO - CMS: Timestep for rank 0/1 - 0.5935467650015198,0.5935478210449219 - 2020-06-18 08:00:00\n",
      "\n",
      "2021-06-02 17:32:36,294 - simulator - INFO - ==================== timestep ====================\n",
      "2021-06-02 17:32:36,449 - activity_manager - INFO - CMS: People COMS for rank 0/1 - 4.069999704370275e-06,3.814697265625e-06 - 2020-06-18 10:00:00\n",
      "2021-06-02 17:32:36,453 - simulator - INFO - Info for rank 0, Date = 2020-06-18 10:00:00, number of deaths =  0, number of infected = 180\n",
      "2021-06-02 17:32:36,505 - simulator - INFO - CMS: Infection COMS-v2 for rank 0/1(2)0.00016610700004093815,0.0001659393310546875 - 2020-06-18 10:00:00\n",
      "2021-06-02 17:32:36,558 - simulator - INFO - CMS: Timestep for rank 0/1 - 0.2636168600001838,0.26361799240112305 - 2020-06-18 10:00:00\n",
      "\n",
      "2021-06-02 17:32:36,559 - simulator - INFO - ==================== timestep ====================\n",
      "2021-06-02 17:32:36,724 - activity_manager - INFO - CMS: People COMS for rank 0/1 - 4.988000000594184e-06,4.76837158203125e-06 - 2020-06-19 00:00:00\n",
      "2021-06-02 17:32:36,729 - simulator - INFO - Info for rank 0, Date = 2020-06-19 00:00:00, number of deaths =  0, number of infected = 185\n",
      "2021-06-02 17:32:36,779 - simulator - INFO - CMS: Infection COMS-v2 for rank 0/1(2)0.0003150330012431368,0.0003151893615722656 - 2020-06-19 00:00:00\n",
      "2021-06-02 17:32:36,834 - simulator - INFO - CMS: Timestep for rank 0/1 - 0.2744060200002423,0.27440667152404785 - 2020-06-19 00:00:00\n",
      "\n",
      "2021-06-02 17:32:36,835 - simulator - INFO - ==================== timestep ====================\n",
      "2021-06-02 17:32:37,321 - activity_manager - INFO - CMS: People COMS for rank 0/1 - 4.051000360050239e-06,3.814697265625e-06 - 2020-06-19 02:00:00\n",
      "2021-06-02 17:32:37,326 - simulator - INFO - Info for rank 0, Date = 2020-06-19 02:00:00, number of deaths =  0, number of infected = 185\n",
      "2021-06-02 17:32:37,392 - simulator - INFO - CMS: Infection COMS-v2 for rank 0/1(2)0.0001753129999997327,0.00017523765563964844 - 2020-06-19 02:00:00\n",
      "2021-06-02 17:32:37,450 - simulator - INFO - CMS: Timestep for rank 0/1 - 0.6145913580003253,0.6145923137664795 - 2020-06-19 02:00:00\n",
      "\n",
      "2021-06-02 17:32:37,451 - simulator - INFO - ==================== timestep ====================\n",
      "2021-06-02 17:32:37,891 - activity_manager - INFO - CMS: People COMS for rank 0/1 - 4.154000635026023e-06,4.0531158447265625e-06 - 2020-06-19 04:00:00\n",
      "2021-06-02 17:32:37,898 - simulator - INFO - Info for rank 0, Date = 2020-06-19 04:00:00, number of deaths =  0, number of infected = 185\n",
      "2021-06-02 17:32:37,965 - simulator - INFO - CMS: Infection COMS-v2 for rank 0/1(2)0.0002836149997165194,0.0002830028533935547 - 2020-06-19 04:00:00\n",
      "2021-06-02 17:32:38,024 - simulator - INFO - CMS: Timestep for rank 0/1 - 0.5728827259990794,0.572887659072876 - 2020-06-19 04:00:00\n",
      "\n",
      "2021-06-02 17:32:38,025 - simulator - INFO - ==================== timestep ====================\n",
      "2021-06-02 17:32:38,509 - activity_manager - INFO - CMS: People COMS for rank 0/1 - 3.90399873140268e-06,4.0531158447265625e-06 - 2020-06-19 06:00:00\n",
      "2021-06-02 17:32:38,515 - simulator - INFO - Info for rank 0, Date = 2020-06-19 06:00:00, number of deaths =  0, number of infected = 190\n",
      "2021-06-02 17:32:38,584 - simulator - INFO - CMS: Infection COMS-v2 for rank 0/1(2)0.00022498200087284204,0.00022482872009277344 - 2020-06-19 06:00:00\n",
      "2021-06-02 17:32:38,640 - simulator - INFO - CMS: Timestep for rank 0/1 - 0.614529730999493,0.6145308017730713 - 2020-06-19 06:00:00\n",
      "\n",
      "2021-06-02 17:32:38,641 - simulator - INFO - ==================== timestep ====================\n",
      "2021-06-02 17:32:39,078 - activity_manager - INFO - CMS: People COMS for rank 0/1 - 4.177998562227003e-06,4.0531158447265625e-06 - 2020-06-19 08:00:00\n",
      "2021-06-02 17:32:39,086 - simulator - INFO - Info for rank 0, Date = 2020-06-19 08:00:00, number of deaths =  0, number of infected = 190\n",
      "2021-06-02 17:32:39,150 - simulator - INFO - CMS: Infection COMS-v2 for rank 0/1(2)0.00017774700063455384,0.00017762184143066406 - 2020-06-19 08:00:00\n",
      "2021-06-02 17:32:39,208 - simulator - INFO - CMS: Timestep for rank 0/1 - 0.5667525380013103,0.566753625869751 - 2020-06-19 08:00:00\n",
      "\n"
     ]
    },
    {
     "name": "stdout",
     "output_type": "stream",
     "text": [
      "2021-06-02 17:32:39,209 - simulator - INFO - ==================== timestep ====================\n",
      "2021-06-02 17:32:39,366 - activity_manager - INFO - CMS: People COMS for rank 0/1 - 4.986999556422234e-06,4.76837158203125e-06 - 2020-06-19 10:00:00\n",
      "2021-06-02 17:32:39,371 - simulator - INFO - Info for rank 0, Date = 2020-06-19 10:00:00, number of deaths =  0, number of infected = 191\n",
      "2021-06-02 17:32:39,422 - simulator - INFO - CMS: Infection COMS-v2 for rank 0/1(2)0.00016249799955403432,0.0001621246337890625 - 2020-06-19 10:00:00\n",
      "2021-06-02 17:32:39,482 - simulator - INFO - CMS: Timestep for rank 0/1 - 0.27281855500041274,0.27281951904296875 - 2020-06-19 10:00:00\n",
      "\n",
      "2021-06-02 17:32:39,483 - simulator - INFO - ==================== timestep ====================\n",
      "2021-06-02 17:32:39,650 - activity_manager - INFO - CMS: People COMS for rank 0/1 - 6.10899951425381e-06,5.7220458984375e-06 - 2020-06-20 00:00:00\n",
      "2021-06-02 17:32:39,655 - simulator - INFO - Info for rank 0, Date = 2020-06-20 00:00:00, number of deaths =  0, number of infected = 196\n",
      "2021-06-02 17:32:39,708 - simulator - INFO - CMS: Infection COMS-v2 for rank 0/1(2)0.00018685500072024297,0.00018668174743652344 - 2020-06-20 00:00:00\n",
      "2021-06-02 17:32:39,767 - simulator - INFO - CMS: Timestep for rank 0/1 - 0.2839102389989421,0.28391122817993164 - 2020-06-20 00:00:00\n",
      "\n",
      "2021-06-02 17:32:39,768 - simulator - INFO - ==================== timestep ====================\n",
      "2021-06-02 17:32:40,242 - activity_manager - INFO - CMS: People COMS for rank 0/1 - 3.9599999581696466e-06,3.814697265625e-06 - 2020-06-20 03:00:00\n",
      "2021-06-02 17:32:40,249 - simulator - INFO - Info for rank 0, Date = 2020-06-20 03:00:00, number of deaths =  0, number of infected = 198\n",
      "2021-06-02 17:32:40,314 - simulator - INFO - CMS: Infection COMS-v2 for rank 0/1(2)0.0001955089992407011,0.00019550323486328125 - 2020-06-20 03:00:00\n",
      "2021-06-02 17:32:40,370 - simulator - INFO - CMS: Timestep for rank 0/1 - 0.6010111380001035,0.6010119915008545 - 2020-06-20 03:00:00\n",
      "\n",
      "2021-06-02 17:32:40,371 - simulator - INFO - ==================== timestep ====================\n",
      "2021-06-02 17:32:40,814 - activity_manager - INFO - CMS: People COMS for rank 0/1 - 3.8820016925456e-06,3.5762786865234375e-06 - 2020-06-20 05:00:00\n",
      "2021-06-02 17:32:40,820 - simulator - INFO - Info for rank 0, Date = 2020-06-20 05:00:00, number of deaths =  0, number of infected = 200\n",
      "2021-06-02 17:32:40,894 - simulator - INFO - CMS: Infection COMS-v2 for rank 0/1(2)0.0001922390001709573,0.0001919269561767578 - 2020-06-20 05:00:00\n",
      "2021-06-02 17:32:40,955 - simulator - INFO - CMS: Timestep for rank 0/1 - 0.583934935999423,0.5839357376098633 - 2020-06-20 05:00:00\n",
      "\n",
      "2021-06-02 17:32:40,956 - simulator - INFO - ==================== timestep ====================\n",
      "2021-06-02 17:32:41,381 - activity_manager - INFO - CMS: People COMS for rank 0/1 - 3.728999217855744e-06,3.5762786865234375e-06 - 2020-06-20 07:00:00\n",
      "2021-06-02 17:32:41,386 - simulator - INFO - Info for rank 0, Date = 2020-06-20 07:00:00, number of deaths =  0, number of infected = 203\n",
      "2021-06-02 17:32:41,445 - simulator - INFO - CMS: Infection COMS-v2 for rank 0/1(2)0.00016395300008298364,0.00016379356384277344 - 2020-06-20 07:00:00\n",
      "2021-06-02 17:32:41,514 - simulator - INFO - CMS: Timestep for rank 0/1 - 0.5573996160001116,0.557401180267334 - 2020-06-20 07:00:00\n",
      "\n",
      "2021-06-02 17:32:41,515 - simulator - INFO - ==================== timestep ====================\n",
      "2021-06-02 17:32:41,952 - activity_manager - INFO - CMS: People COMS for rank 0/1 - 4.202000127406791e-06,4.0531158447265625e-06 - 2020-06-20 09:00:00\n",
      "2021-06-02 17:32:41,957 - simulator - INFO - Info for rank 0, Date = 2020-06-20 09:00:00, number of deaths =  0, number of infected = 203\n",
      "2021-06-02 17:32:42,023 - simulator - INFO - CMS: Infection COMS-v2 for rank 0/1(2)0.00017356700118398294,0.00017333030700683594 - 2020-06-20 09:00:00\n",
      "2021-06-02 17:32:42,080 - simulator - INFO - CMS: Timestep for rank 0/1 - 0.5643684770002437,0.5643696784973145 - 2020-06-20 09:00:00\n",
      "\n",
      "2021-06-02 17:32:42,081 - simulator - INFO - ==================== timestep ====================\n",
      "2021-06-02 17:32:42,250 - activity_manager - INFO - CMS: People COMS for rank 0/1 - 4.535999323707074e-06,4.5299530029296875e-06 - 2020-06-20 11:00:00\n",
      "2021-06-02 17:32:42,254 - simulator - INFO - Info for rank 0, Date = 2020-06-20 11:00:00, number of deaths =  0, number of infected = 206\n",
      "2021-06-02 17:32:42,308 - simulator - INFO - CMS: Infection COMS-v2 for rank 0/1(2)0.00019044500004383735,0.00019025802612304688 - 2020-06-20 11:00:00\n",
      "2021-06-02 17:32:42,363 - simulator - INFO - CMS: Timestep for rank 0/1 - 0.28201353699842,0.2820146083831787 - 2020-06-20 11:00:00\n",
      "\n",
      "2021-06-02 17:32:42,364 - simulator - INFO - ==================== timestep ====================\n",
      "2021-06-02 17:32:42,523 - activity_manager - INFO - CMS: People COMS for rank 0/1 - 1.1309999536024407e-05,1.0967254638671875e-05 - 2020-06-21 00:00:00\n",
      "2021-06-02 17:32:42,527 - simulator - INFO - Info for rank 0, Date = 2020-06-21 00:00:00, number of deaths =  0, number of infected = 215\n",
      "2021-06-02 17:32:42,577 - simulator - INFO - CMS: Infection COMS-v2 for rank 0/1(2)0.0001740220013743965,0.00017380714416503906 - 2020-06-21 00:00:00\n",
      "2021-06-02 17:32:42,633 - simulator - INFO - CMS: Timestep for rank 0/1 - 0.267981711000175,0.26798295974731445 - 2020-06-21 00:00:00\n",
      "\n",
      "2021-06-02 17:32:42,634 - simulator - INFO - ==================== timestep ====================\n",
      "2021-06-02 17:32:43,102 - activity_manager - INFO - CMS: People COMS for rank 0/1 - 4.052000804222189e-06,4.0531158447265625e-06 - 2020-06-21 03:00:00\n",
      "2021-06-02 17:32:43,107 - simulator - INFO - Info for rank 0, Date = 2020-06-21 03:00:00, number of deaths =  0, number of infected = 215\n",
      "2021-06-02 17:32:43,169 - simulator - INFO - CMS: Infection COMS-v2 for rank 0/1(2)0.0001875689995358698,0.00018739700317382812 - 2020-06-21 03:00:00\n",
      "2021-06-02 17:32:43,225 - simulator - INFO - CMS: Timestep for rank 0/1 - 0.5904754490002233,0.5904762744903564 - 2020-06-21 03:00:00\n",
      "\n",
      "2021-06-02 17:32:43,225 - simulator - INFO - ==================== timestep ====================\n",
      "2021-06-02 17:32:43,677 - activity_manager - INFO - CMS: People COMS for rank 0/1 - 3.7579993659164757e-06,3.5762786865234375e-06 - 2020-06-21 05:00:00\n",
      "2021-06-02 17:32:43,682 - simulator - INFO - Info for rank 0, Date = 2020-06-21 05:00:00, number of deaths =  0, number of infected = 217\n",
      "2021-06-02 17:32:43,752 - simulator - INFO - CMS: Infection COMS-v2 for rank 0/1(2)0.00020475699966482352,0.00020456314086914062 - 2020-06-21 05:00:00\n",
      "2021-06-02 17:32:43,810 - simulator - INFO - CMS: Timestep for rank 0/1 - 0.5839043070009211,0.5839064121246338 - 2020-06-21 05:00:00\n",
      "\n",
      "2021-06-02 17:32:43,811 - simulator - INFO - ==================== timestep ====================\n",
      "2021-06-02 17:32:44,246 - activity_manager - INFO - CMS: People COMS for rank 0/1 - 4.096998964087106e-06,4.0531158447265625e-06 - 2020-06-21 07:00:00\n",
      "2021-06-02 17:32:44,251 - simulator - INFO - Info for rank 0, Date = 2020-06-21 07:00:00, number of deaths =  0, number of infected = 218\n",
      "2021-06-02 17:32:44,322 - simulator - INFO - CMS: Infection COMS-v2 for rank 0/1(2)0.00018462799926055595,0.00018453598022460938 - 2020-06-21 07:00:00\n",
      "2021-06-02 17:32:44,376 - simulator - INFO - CMS: Timestep for rank 0/1 - 0.5650654239998403,0.5650663375854492 - 2020-06-21 07:00:00\n",
      "\n",
      "2021-06-02 17:32:44,377 - simulator - INFO - ==================== timestep ====================\n",
      "2021-06-02 17:32:44,872 - activity_manager - INFO - CMS: People COMS for rank 0/1 - 4.130000888835639e-06,3.5762786865234375e-06 - 2020-06-21 09:00:00\n",
      "2021-06-02 17:32:44,879 - simulator - INFO - Info for rank 0, Date = 2020-06-21 09:00:00, number of deaths =  0, number of infected = 221\n",
      "2021-06-02 17:32:44,942 - simulator - INFO - CMS: Infection COMS-v2 for rank 0/1(2)0.00017395999930158723,0.00017380714416503906 - 2020-06-21 09:00:00\n",
      "2021-06-02 17:32:45,013 - simulator - INFO - CMS: Timestep for rank 0/1 - 0.6356450299990684,0.635645866394043 - 2020-06-21 09:00:00\n",
      "\n",
      "2021-06-02 17:32:45,014 - simulator - INFO - ==================== timestep ====================\n",
      "2021-06-02 17:32:45,194 - activity_manager - INFO - CMS: People COMS for rank 0/1 - 4.149000233155675e-06,4.0531158447265625e-06 - 2020-06-21 11:00:00\n"
     ]
    },
    {
     "name": "stdout",
     "output_type": "stream",
     "text": [
      "2021-06-02 17:32:45,200 - simulator - INFO - Info for rank 0, Date = 2020-06-21 11:00:00, number of deaths =  0, number of infected = 221\n",
      "2021-06-02 17:32:45,265 - simulator - INFO - CMS: Infection COMS-v2 for rank 0/1(2)0.00033826300023065414,0.0003380775451660156 - 2020-06-21 11:00:00\n",
      "2021-06-02 17:32:45,386 - simulator - INFO - CMS: Timestep for rank 0/1 - 0.371727652998743,0.37172913551330566 - 2020-06-21 11:00:00\n",
      "\n",
      "2021-06-02 17:32:45,387 - simulator - INFO - ==================== timestep ====================\n",
      "2021-06-02 17:32:45,620 - activity_manager - INFO - CMS: People COMS for rank 0/1 - 4.298999556340277e-06,4.0531158447265625e-06 - 2020-06-22 00:00:00\n",
      "2021-06-02 17:32:45,625 - simulator - INFO - Info for rank 0, Date = 2020-06-22 00:00:00, number of deaths =  0, number of infected = 232\n",
      "2021-06-02 17:32:45,688 - simulator - INFO - CMS: Infection COMS-v2 for rank 0/1(2)0.00017612800002098083,0.00017595291137695312 - 2020-06-22 00:00:00\n",
      "2021-06-02 17:32:45,755 - simulator - INFO - CMS: Timestep for rank 0/1 - 0.3670467190004274,0.3670477867126465 - 2020-06-22 00:00:00\n",
      "\n",
      "2021-06-02 17:32:45,756 - simulator - INFO - ==================== timestep ====================\n",
      "2021-06-02 17:32:46,255 - activity_manager - INFO - CMS: People COMS for rank 0/1 - 3.5749999369727448e-06,3.5762786865234375e-06 - 2020-06-22 02:00:00\n",
      "2021-06-02 17:32:46,260 - simulator - INFO - Info for rank 0, Date = 2020-06-22 02:00:00, number of deaths =  0, number of infected = 233\n",
      "2021-06-02 17:32:46,339 - simulator - INFO - CMS: Infection COMS-v2 for rank 0/1(2)0.00020177100122964475,0.0002014636993408203 - 2020-06-22 02:00:00\n",
      "2021-06-02 17:32:46,401 - simulator - INFO - CMS: Timestep for rank 0/1 - 0.6443124519992125,0.6443138122558594 - 2020-06-22 02:00:00\n",
      "\n",
      "2021-06-02 17:32:46,401 - simulator - INFO - ==================== timestep ====================\n",
      "2021-06-02 17:32:46,870 - activity_manager - INFO - CMS: People COMS for rank 0/1 - 4.083000021637417e-06,4.0531158447265625e-06 - 2020-06-22 04:00:00\n",
      "2021-06-02 17:32:46,876 - simulator - INFO - Info for rank 0, Date = 2020-06-22 04:00:00, number of deaths =  0, number of infected = 235\n",
      "2021-06-02 17:32:46,943 - simulator - INFO - CMS: Infection COMS-v2 for rank 0/1(2)0.00018559900127002038,0.00018477439880371094 - 2020-06-22 04:00:00\n",
      "2021-06-02 17:32:47,006 - simulator - INFO - CMS: Timestep for rank 0/1 - 0.6038495359989611,0.6038503646850586 - 2020-06-22 04:00:00\n",
      "\n",
      "2021-06-02 17:32:47,007 - simulator - INFO - ==================== timestep ====================\n",
      "2021-06-02 17:32:47,470 - activity_manager - INFO - CMS: People COMS for rank 0/1 - 4.018998879473656e-06,4.0531158447265625e-06 - 2020-06-22 06:00:00\n",
      "2021-06-02 17:32:47,475 - simulator - INFO - Info for rank 0, Date = 2020-06-22 06:00:00, number of deaths =  0, number of infected = 237\n",
      "2021-06-02 17:32:47,548 - simulator - INFO - CMS: Infection COMS-v2 for rank 0/1(2)0.00017794400082493667,0.00017786026000976562 - 2020-06-22 06:00:00\n",
      "2021-06-02 17:32:47,605 - simulator - INFO - CMS: Timestep for rank 0/1 - 0.5973530379997101,0.5973541736602783 - 2020-06-22 06:00:00\n",
      "\n",
      "2021-06-02 17:32:47,605 - simulator - INFO - ==================== timestep ====================\n",
      "2021-06-02 17:32:48,111 - activity_manager - INFO - CMS: People COMS for rank 0/1 - 5.9419999161036685e-06,5.7220458984375e-06 - 2020-06-22 08:00:00\n",
      "2021-06-02 17:32:48,122 - simulator - INFO - Info for rank 0, Date = 2020-06-22 08:00:00, number of deaths =  0, number of infected = 240\n",
      "2021-06-02 17:32:48,257 - simulator - INFO - CMS: Infection COMS-v2 for rank 0/1(2)0.00019411900029808749,0.00019311904907226562 - 2020-06-22 08:00:00\n",
      "2021-06-02 17:32:48,340 - simulator - INFO - CMS: Timestep for rank 0/1 - 0.7336763160001283,0.7336773872375488 - 2020-06-22 08:00:00\n",
      "\n",
      "2021-06-02 17:32:48,340 - simulator - INFO - ==================== timestep ====================\n",
      "2021-06-02 17:32:48,525 - activity_manager - INFO - CMS: People COMS for rank 0/1 - 4.499999704421498e-06,4.291534423828125e-06 - 2020-06-22 10:00:00\n",
      "2021-06-02 17:32:48,532 - simulator - INFO - Info for rank 0, Date = 2020-06-22 10:00:00, number of deaths =  0, number of infected = 245\n",
      "2021-06-02 17:32:48,591 - simulator - INFO - CMS: Infection COMS-v2 for rank 0/1(2)0.00020182200023555197,0.0002014636993408203 - 2020-06-22 10:00:00\n",
      "2021-06-02 17:32:48,685 - simulator - INFO - CMS: Timestep for rank 0/1 - 0.34184667299996363,0.34184765815734863 - 2020-06-22 10:00:00\n",
      "\n",
      "2021-06-02 17:32:48,687 - simulator - INFO - ==================== timestep ====================\n",
      "2021-06-02 17:32:48,897 - activity_manager - INFO - CMS: People COMS for rank 0/1 - 7.177999577834271e-06,6.9141387939453125e-06 - 2020-06-23 00:00:00\n",
      "2021-06-02 17:32:48,903 - simulator - INFO - Info for rank 0, Date = 2020-06-23 00:00:00, number of deaths =  0, number of infected = 259\n",
      "2021-06-02 17:32:48,965 - simulator - INFO - CMS: Infection COMS-v2 for rank 0/1(2)0.00029894199906266294,0.00029850006103515625 - 2020-06-23 00:00:00\n",
      "2021-06-02 17:32:49,069 - simulator - INFO - CMS: Timestep for rank 0/1 - 0.3813646960006736,0.3813660144805908 - 2020-06-23 00:00:00\n",
      "\n",
      "2021-06-02 17:32:49,070 - simulator - INFO - ==================== timestep ====================\n",
      "2021-06-02 17:32:49,621 - activity_manager - INFO - CMS: People COMS for rank 0/1 - 4.94800042361021e-06,4.76837158203125e-06 - 2020-06-23 02:00:00\n",
      "2021-06-02 17:32:49,627 - simulator - INFO - Info for rank 0, Date = 2020-06-23 02:00:00, number of deaths =  0, number of infected = 262\n",
      "2021-06-02 17:32:49,712 - simulator - INFO - CMS: Infection COMS-v2 for rank 0/1(2)0.00018288999854121357,0.00018286705017089844 - 2020-06-23 02:00:00\n",
      "2021-06-02 17:32:49,789 - simulator - INFO - CMS: Timestep for rank 0/1 - 0.7180846390001534,0.7180852890014648 - 2020-06-23 02:00:00\n",
      "\n",
      "2021-06-02 17:32:49,790 - simulator - INFO - ==================== timestep ====================\n",
      "2021-06-02 17:32:50,290 - activity_manager - INFO - CMS: People COMS for rank 0/1 - 3.926001227227971e-06,3.5762786865234375e-06 - 2020-06-23 04:00:00\n",
      "2021-06-02 17:32:50,295 - simulator - INFO - Info for rank 0, Date = 2020-06-23 04:00:00, number of deaths =  0, number of infected = 268\n",
      "2021-06-02 17:32:50,371 - simulator - INFO - CMS: Infection COMS-v2 for rank 0/1(2)0.0002095119998557493,0.00020956993103027344 - 2020-06-23 04:00:00\n",
      "2021-06-02 17:32:50,437 - simulator - INFO - CMS: Timestep for rank 0/1 - 0.6460134489989287,0.6460142135620117 - 2020-06-23 04:00:00\n",
      "\n",
      "2021-06-02 17:32:50,437 - simulator - INFO - ==================== timestep ====================\n",
      "2021-06-02 17:32:50,908 - activity_manager - INFO - CMS: People COMS for rank 0/1 - 3.752998964046128e-06,4.0531158447265625e-06 - 2020-06-23 06:00:00\n",
      "2021-06-02 17:32:50,915 - simulator - INFO - Info for rank 0, Date = 2020-06-23 06:00:00, number of deaths =  0, number of infected = 272\n",
      "2021-06-02 17:32:50,997 - simulator - INFO - CMS: Infection COMS-v2 for rank 0/1(2)0.00017899399972520769,0.00017881393432617188 - 2020-06-23 06:00:00\n",
      "2021-06-02 17:32:51,052 - simulator - INFO - CMS: Timestep for rank 0/1 - 0.6136691780011461,0.6136698722839355 - 2020-06-23 06:00:00\n",
      "\n",
      "2021-06-02 17:32:51,053 - simulator - INFO - ==================== timestep ====================\n",
      "2021-06-02 17:32:51,536 - activity_manager - INFO - CMS: People COMS for rank 0/1 - 4.159999662078917e-06,4.0531158447265625e-06 - 2020-06-23 08:00:00\n",
      "2021-06-02 17:32:51,541 - simulator - INFO - Info for rank 0, Date = 2020-06-23 08:00:00, number of deaths =  0, number of infected = 276\n",
      "2021-06-02 17:32:51,625 - simulator - INFO - CMS: Infection COMS-v2 for rank 0/1(2)0.0001829410011850996,0.00018286705017089844 - 2020-06-23 08:00:00\n",
      "2021-06-02 17:32:51,692 - simulator - INFO - CMS: Timestep for rank 0/1 - 0.6386746610005503,0.6386759281158447 - 2020-06-23 08:00:00\n",
      "\n",
      "2021-06-02 17:32:51,693 - simulator - INFO - ==================== timestep ====================\n",
      "2021-06-02 17:32:51,870 - activity_manager - INFO - CMS: People COMS for rank 0/1 - 4.035000529256649e-06,4.0531158447265625e-06 - 2020-06-23 10:00:00\n",
      "2021-06-02 17:32:51,876 - simulator - INFO - Info for rank 0, Date = 2020-06-23 10:00:00, number of deaths =  0, number of infected = 278\n",
      "2021-06-02 17:32:51,941 - simulator - INFO - CMS: Infection COMS-v2 for rank 0/1(2)0.00016715800120437052,0.00016689300537109375 - 2020-06-23 10:00:00\n"
     ]
    },
    {
     "name": "stdout",
     "output_type": "stream",
     "text": [
      "2021-06-02 17:32:52,012 - simulator - INFO - CMS: Timestep for rank 0/1 - 0.3183315019996371,0.3183324337005615 - 2020-06-23 10:00:00\n",
      "\n",
      "2021-06-02 17:32:52,012 - simulator - INFO - ==================== timestep ====================\n",
      "2021-06-02 17:32:52,303 - activity_manager - INFO - CMS: People COMS for rank 0/1 - 4.090999937034212e-06,3.5762786865234375e-06 - 2020-06-24 00:00:00\n",
      "2021-06-02 17:32:52,308 - simulator - INFO - Info for rank 0, Date = 2020-06-24 00:00:00, number of deaths =  0, number of infected = 293\n",
      "2021-06-02 17:32:52,358 - simulator - INFO - CMS: Infection COMS-v2 for rank 0/1(2)0.00018173299940826837,0.00018167495727539062 - 2020-06-24 00:00:00\n",
      "2021-06-02 17:32:52,419 - simulator - INFO - CMS: Timestep for rank 0/1 - 0.4054271820004942,0.4054276943206787 - 2020-06-24 00:00:00\n",
      "\n",
      "2021-06-02 17:32:52,419 - simulator - INFO - ==================== timestep ====================\n",
      "2021-06-02 17:32:53,155 - activity_manager - INFO - CMS: People COMS for rank 0/1 - 1.3576000128523447e-05,1.239776611328125e-05 - 2020-06-24 02:00:00\n",
      "2021-06-02 17:32:53,160 - simulator - INFO - Info for rank 0, Date = 2020-06-24 02:00:00, number of deaths =  0, number of infected = 294\n",
      "2021-06-02 17:32:53,240 - simulator - INFO - CMS: Infection COMS-v2 for rank 0/1(2)0.0001744579985825112,0.0001742839813232422 - 2020-06-24 02:00:00\n",
      "2021-06-02 17:32:53,301 - simulator - INFO - CMS: Timestep for rank 0/1 - 0.8811393609994411,0.8811402320861816 - 2020-06-24 02:00:00\n",
      "\n",
      "2021-06-02 17:32:53,302 - simulator - INFO - ==================== timestep ====================\n",
      "2021-06-02 17:32:53,944 - activity_manager - INFO - CMS: People COMS for rank 0/1 - 3.991999619756825e-06,3.814697265625e-06 - 2020-06-24 04:00:00\n",
      "2021-06-02 17:32:53,949 - simulator - INFO - Info for rank 0, Date = 2020-06-24 04:00:00, number of deaths =  0, number of infected = 298\n",
      "2021-06-02 17:32:54,016 - simulator - INFO - CMS: Infection COMS-v2 for rank 0/1(2)0.0001816280000639381,0.00018143653869628906 - 2020-06-24 04:00:00\n",
      "2021-06-02 17:32:54,073 - simulator - INFO - CMS: Timestep for rank 0/1 - 0.7703621599994221,0.7703630924224854 - 2020-06-24 04:00:00\n",
      "\n",
      "2021-06-02 17:32:54,074 - simulator - INFO - ==================== timestep ====================\n",
      "2021-06-02 17:32:54,658 - activity_manager - INFO - CMS: People COMS for rank 0/1 - 3.7650006561307237e-06,3.814697265625e-06 - 2020-06-24 06:00:00\n",
      "2021-06-02 17:32:54,662 - simulator - INFO - Info for rank 0, Date = 2020-06-24 06:00:00, number of deaths =  0, number of infected = 300\n",
      "2021-06-02 17:32:54,735 - simulator - INFO - CMS: Infection COMS-v2 for rank 0/1(2)0.00019428700034040958,0.00019407272338867188 - 2020-06-24 06:00:00\n",
      "2021-06-02 17:32:54,793 - simulator - INFO - CMS: Timestep for rank 0/1 - 0.7181672850001632,0.7181680202484131 - 2020-06-24 06:00:00\n",
      "\n",
      "2021-06-02 17:32:54,793 - simulator - INFO - ==================== timestep ====================\n",
      "2021-06-02 17:32:55,481 - activity_manager - INFO - CMS: People COMS for rank 0/1 - 3.7179997889325023e-06,3.5762786865234375e-06 - 2020-06-24 08:00:00\n",
      "2021-06-02 17:32:55,486 - simulator - INFO - Info for rank 0, Date = 2020-06-24 08:00:00, number of deaths =  0, number of infected = 303\n",
      "2021-06-02 17:32:55,557 - simulator - INFO - CMS: Infection COMS-v2 for rank 0/1(2)0.0001838019998103846,0.00018453598022460938 - 2020-06-24 08:00:00\n",
      "2021-06-02 17:32:55,620 - simulator - INFO - CMS: Timestep for rank 0/1 - 0.8263576419994934,0.8263585567474365 - 2020-06-24 08:00:00\n",
      "\n",
      "2021-06-02 17:32:55,621 - simulator - INFO - ==================== timestep ====================\n",
      "2021-06-02 17:32:55,981 - activity_manager - INFO - CMS: People COMS for rank 0/1 - 4.0240011003334075e-06,4.0531158447265625e-06 - 2020-06-24 10:00:00\n",
      "2021-06-02 17:32:55,986 - simulator - INFO - Info for rank 0, Date = 2020-06-24 10:00:00, number of deaths =  0, number of infected = 305\n",
      "2021-06-02 17:32:56,052 - simulator - INFO - CMS: Infection COMS-v2 for rank 0/1(2)0.00018149499919672962,0.00018095970153808594 - 2020-06-24 10:00:00\n",
      "2021-06-02 17:32:56,112 - simulator - INFO - CMS: Timestep for rank 0/1 - 0.49041220099934435,0.49041295051574707 - 2020-06-24 10:00:00\n",
      "\n",
      "2021-06-02 17:32:56,113 - simulator - INFO - ==================== timestep ====================\n",
      "2021-06-02 17:32:56,445 - activity_manager - INFO - CMS: People COMS for rank 0/1 - 8.22100082586985e-06,8.106231689453125e-06 - 2020-06-25 00:00:00\n",
      "2021-06-02 17:32:56,453 - simulator - INFO - Info for rank 0, Date = 2020-06-25 00:00:00, number of deaths =  0, number of infected = 309\n",
      "2021-06-02 17:32:56,511 - simulator - INFO - CMS: Infection COMS-v2 for rank 0/1(2)0.00018468400048732292,0.0001842975616455078 - 2020-06-25 00:00:00\n",
      "2021-06-02 17:32:56,585 - simulator - INFO - CMS: Timestep for rank 0/1 - 0.4708629460001248,0.47086477279663086 - 2020-06-25 00:00:00\n",
      "\n",
      "2021-06-02 17:32:56,586 - simulator - INFO - ==================== timestep ====================\n",
      "2021-06-02 17:32:57,226 - activity_manager - INFO - CMS: People COMS for rank 0/1 - 3.916000423487276e-06,3.814697265625e-06 - 2020-06-25 02:00:00\n",
      "2021-06-02 17:32:57,231 - simulator - INFO - Info for rank 0, Date = 2020-06-25 02:00:00, number of deaths =  0, number of infected = 311\n",
      "2021-06-02 17:32:57,301 - simulator - INFO - CMS: Infection COMS-v2 for rank 0/1(2)0.00017978200048673898,0.00017952919006347656 - 2020-06-25 02:00:00\n",
      "2021-06-02 17:32:57,361 - simulator - INFO - CMS: Timestep for rank 0/1 - 0.7744297919998644,0.7744302749633789 - 2020-06-25 02:00:00\n",
      "\n",
      "2021-06-02 17:32:57,361 - simulator - INFO - ==================== timestep ====================\n",
      "2021-06-02 17:32:57,984 - activity_manager - INFO - CMS: People COMS for rank 0/1 - 9.35700154514052e-06,9.298324584960938e-06 - 2020-06-25 04:00:00\n",
      "2021-06-02 17:32:57,990 - simulator - INFO - Info for rank 0, Date = 2020-06-25 04:00:00, number of deaths =  0, number of infected = 314\n",
      "2021-06-02 17:32:58,077 - simulator - INFO - CMS: Infection COMS-v2 for rank 0/1(2)0.0001952639995579375,0.00019502639770507812 - 2020-06-25 04:00:00\n",
      "2021-06-02 17:32:58,141 - simulator - INFO - CMS: Timestep for rank 0/1 - 0.7790792070009047,0.7790801525115967 - 2020-06-25 04:00:00\n",
      "\n",
      "2021-06-02 17:32:58,142 - simulator - INFO - ==================== timestep ====================\n",
      "2021-06-02 17:32:58,777 - activity_manager - INFO - CMS: People COMS for rank 0/1 - 3.893999746651389e-06,3.814697265625e-06 - 2020-06-25 06:00:00\n",
      "2021-06-02 17:32:58,783 - simulator - INFO - Info for rank 0, Date = 2020-06-25 06:00:00, number of deaths =  0, number of infected = 315\n",
      "2021-06-02 17:32:58,860 - simulator - INFO - CMS: Infection COMS-v2 for rank 0/1(2)0.0001819420012907358,0.00018143653869628906 - 2020-06-25 06:00:00\n",
      "2021-06-02 17:32:58,920 - simulator - INFO - CMS: Timestep for rank 0/1 - 0.7777150749989232,0.7777154445648193 - 2020-06-25 06:00:00\n",
      "\n",
      "2021-06-02 17:32:58,921 - simulator - INFO - ==================== timestep ====================\n",
      "2021-06-02 17:32:59,506 - activity_manager - INFO - CMS: People COMS for rank 0/1 - 3.6069995985599235e-06,3.0994415283203125e-06 - 2020-06-25 08:00:00\n",
      "2021-06-02 17:32:59,512 - simulator - INFO - Info for rank 0, Date = 2020-06-25 08:00:00, number of deaths =  0, number of infected = 316\n",
      "2021-06-02 17:32:59,580 - simulator - INFO - CMS: Infection COMS-v2 for rank 0/1(2)0.0001835450002545258,0.00018334388732910156 - 2020-06-25 08:00:00\n",
      "2021-06-02 17:32:59,642 - simulator - INFO - CMS: Timestep for rank 0/1 - 0.7208539160001237,0.7208547592163086 - 2020-06-25 08:00:00\n",
      "\n",
      "2021-06-02 17:32:59,643 - simulator - INFO - ==================== timestep ====================\n",
      "2021-06-02 17:32:59,943 - activity_manager - INFO - CMS: People COMS for rank 0/1 - 3.728999217855744e-06,3.814697265625e-06 - 2020-06-25 10:00:00\n",
      "2021-06-02 17:32:59,950 - simulator - INFO - Info for rank 0, Date = 2020-06-25 10:00:00, number of deaths =  0, number of infected = 321\n",
      "2021-06-02 17:33:00,022 - simulator - INFO - CMS: Infection COMS-v2 for rank 0/1(2)0.0005931639989285031,0.0005922317504882812 - 2020-06-25 10:00:00\n",
      "2021-06-02 17:33:00,092 - simulator - INFO - CMS: Timestep for rank 0/1 - 0.4481264169990027,0.44812726974487305 - 2020-06-25 10:00:00\n",
      "\n",
      "2021-06-02 17:33:00,093 - simulator - INFO - ==================== timestep ====================\n"
     ]
    },
    {
     "name": "stdout",
     "output_type": "stream",
     "text": [
      "2021-06-02 17:33:00,381 - activity_manager - INFO - CMS: People COMS for rank 0/1 - 3.9979986468097195e-06,4.0531158447265625e-06 - 2020-06-26 00:00:00\n",
      "2021-06-02 17:33:00,385 - simulator - INFO - Info for rank 0, Date = 2020-06-26 00:00:00, number of deaths =  0, number of infected = 331\n",
      "2021-06-02 17:33:00,440 - simulator - INFO - CMS: Infection COMS-v2 for rank 0/1(2)0.0002060189999610884,0.00020599365234375 - 2020-06-26 00:00:00\n",
      "2021-06-02 17:33:00,501 - simulator - INFO - CMS: Timestep for rank 0/1 - 0.40791599600015616,0.407916784286499 - 2020-06-26 00:00:00\n",
      "\n",
      "2021-06-02 17:33:00,502 - simulator - INFO - ==================== timestep ====================\n",
      "2021-06-02 17:33:01,064 - activity_manager - INFO - CMS: People COMS for rank 0/1 - 4.135999915888533e-06,4.0531158447265625e-06 - 2020-06-26 02:00:00\n",
      "2021-06-02 17:33:01,069 - simulator - INFO - Info for rank 0, Date = 2020-06-26 02:00:00, number of deaths =  0, number of infected = 332\n",
      "2021-06-02 17:33:01,128 - simulator - INFO - CMS: Infection COMS-v2 for rank 0/1(2)0.0001946600004885113,0.00019407272338867188 - 2020-06-26 02:00:00\n",
      "2021-06-02 17:33:01,186 - simulator - INFO - CMS: Timestep for rank 0/1 - 0.683606578000763,0.6836068630218506 - 2020-06-26 02:00:00\n",
      "\n",
      "2021-06-02 17:33:01,187 - simulator - INFO - ==================== timestep ====================\n",
      "2021-06-02 17:33:01,813 - activity_manager - INFO - CMS: People COMS for rank 0/1 - 6.4019986893981695e-06,6.198883056640625e-06 - 2020-06-26 04:00:00\n",
      "2021-06-02 17:33:01,818 - simulator - INFO - Info for rank 0, Date = 2020-06-26 04:00:00, number of deaths =  0, number of infected = 334\n",
      "2021-06-02 17:33:01,890 - simulator - INFO - CMS: Infection COMS-v2 for rank 0/1(2)0.00019674800023494754,0.0001964569091796875 - 2020-06-26 04:00:00\n",
      "2021-06-02 17:33:01,952 - simulator - INFO - CMS: Timestep for rank 0/1 - 0.7645539789991744,0.7645549774169922 - 2020-06-26 04:00:00\n",
      "\n",
      "2021-06-02 17:33:01,953 - simulator - INFO - ==================== timestep ====================\n",
      "2021-06-02 17:33:02,550 - activity_manager - INFO - CMS: People COMS for rank 0/1 - 4.798999725608155e-06,4.5299530029296875e-06 - 2020-06-26 06:00:00\n",
      "2021-06-02 17:33:02,555 - simulator - INFO - Info for rank 0, Date = 2020-06-26 06:00:00, number of deaths =  0, number of infected = 337\n",
      "2021-06-02 17:33:02,614 - simulator - INFO - CMS: Infection COMS-v2 for rank 0/1(2)0.00019455999972706195,0.00019407272338867188 - 2020-06-26 06:00:00\n",
      "2021-06-02 17:33:02,668 - simulator - INFO - CMS: Timestep for rank 0/1 - 0.7145045769993885,0.714505672454834 - 2020-06-26 06:00:00\n",
      "\n",
      "2021-06-02 17:33:02,669 - simulator - INFO - ==================== timestep ====================\n",
      "2021-06-02 17:33:03,266 - activity_manager - INFO - CMS: People COMS for rank 0/1 - 3.6339988582767546e-06,3.5762786865234375e-06 - 2020-06-26 08:00:00\n",
      "2021-06-02 17:33:03,271 - simulator - INFO - Info for rank 0, Date = 2020-06-26 08:00:00, number of deaths =  0, number of infected = 341\n",
      "2021-06-02 17:33:03,339 - simulator - INFO - CMS: Infection COMS-v2 for rank 0/1(2)0.00019060700105910655,0.00019073486328125 - 2020-06-26 08:00:00\n",
      "2021-06-02 17:33:03,398 - simulator - INFO - CMS: Timestep for rank 0/1 - 0.7288111479992949,0.7288122177124023 - 2020-06-26 08:00:00\n",
      "\n",
      "2021-06-02 17:33:03,399 - simulator - INFO - ==================== timestep ====================\n",
      "2021-06-02 17:33:03,678 - activity_manager - INFO - CMS: People COMS for rank 0/1 - 3.958999513997696e-06,4.0531158447265625e-06 - 2020-06-26 10:00:00\n",
      "2021-06-02 17:33:03,683 - simulator - INFO - Info for rank 0, Date = 2020-06-26 10:00:00, number of deaths =  0, number of infected = 341\n",
      "2021-06-02 17:33:03,746 - simulator - INFO - CMS: Infection COMS-v2 for rank 0/1(2)0.0001975759987544734,0.0001971721649169922 - 2020-06-26 10:00:00\n",
      "2021-06-02 17:33:03,807 - simulator - INFO - CMS: Timestep for rank 0/1 - 0.4075555870003882,0.40755677223205566 - 2020-06-26 10:00:00\n",
      "\n",
      "2021-06-02 17:33:03,807 - simulator - INFO - ==================== timestep ====================\n",
      "2021-06-02 17:33:04,106 - activity_manager - INFO - CMS: People COMS for rank 0/1 - 3.840999852400273e-06,3.5762786865234375e-06 - 2020-06-27 00:00:00\n",
      "2021-06-02 17:33:04,111 - simulator - INFO - Info for rank 0, Date = 2020-06-27 00:00:00, number of deaths =  0, number of infected = 362\n",
      "2021-06-02 17:33:04,165 - simulator - INFO - CMS: Infection COMS-v2 for rank 0/1(2)0.00019329400129208807,0.00019288063049316406 - 2020-06-27 00:00:00\n",
      "2021-06-02 17:33:04,223 - simulator - INFO - CMS: Timestep for rank 0/1 - 0.4150228729995433,0.4150245189666748 - 2020-06-27 00:00:00\n",
      "\n",
      "2021-06-02 17:33:04,224 - simulator - INFO - ==================== timestep ====================\n",
      "2021-06-02 17:33:04,796 - activity_manager - INFO - CMS: People COMS for rank 0/1 - 3.829001798294485e-06,3.5762786865234375e-06 - 2020-06-27 03:00:00\n",
      "2021-06-02 17:33:04,800 - simulator - INFO - Info for rank 0, Date = 2020-06-27 03:00:00, number of deaths =  0, number of infected = 366\n",
      "2021-06-02 17:33:04,878 - simulator - INFO - CMS: Infection COMS-v2 for rank 0/1(2)0.0001804389994504163,0.00018024444580078125 - 2020-06-27 03:00:00\n",
      "2021-06-02 17:33:04,939 - simulator - INFO - CMS: Timestep for rank 0/1 - 0.7146993259993906,0.7147042751312256 - 2020-06-27 03:00:00\n",
      "\n",
      "2021-06-02 17:33:04,940 - simulator - INFO - ==================== timestep ====================\n",
      "2021-06-02 17:33:05,528 - activity_manager - INFO - CMS: People COMS for rank 0/1 - 3.555000148480758e-06,3.337860107421875e-06 - 2020-06-27 05:00:00\n",
      "2021-06-02 17:33:05,533 - simulator - INFO - Info for rank 0, Date = 2020-06-27 05:00:00, number of deaths =  0, number of infected = 372\n",
      "2021-06-02 17:33:05,599 - simulator - INFO - CMS: Infection COMS-v2 for rank 0/1(2)0.00017575199854036327,0.00017571449279785156 - 2020-06-27 05:00:00\n",
      "2021-06-02 17:33:05,658 - simulator - INFO - CMS: Timestep for rank 0/1 - 0.7176930910009105,0.7176942825317383 - 2020-06-27 05:00:00\n",
      "\n",
      "2021-06-02 17:33:05,659 - simulator - INFO - ==================== timestep ====================\n",
      "2021-06-02 17:33:06,241 - activity_manager - INFO - CMS: People COMS for rank 0/1 - 3.7209993024589494e-06,3.5762786865234375e-06 - 2020-06-27 07:00:00\n",
      "2021-06-02 17:33:06,246 - simulator - INFO - Info for rank 0, Date = 2020-06-27 07:00:00, number of deaths =  0, number of infected = 374\n",
      "2021-06-02 17:33:06,316 - simulator - INFO - CMS: Infection COMS-v2 for rank 0/1(2)0.0003130810000584461,0.00031256675720214844 - 2020-06-27 07:00:00\n",
      "2021-06-02 17:33:06,375 - simulator - INFO - CMS: Timestep for rank 0/1 - 0.7152787119994173,0.715280294418335 - 2020-06-27 07:00:00\n",
      "\n",
      "2021-06-02 17:33:06,375 - simulator - INFO - ==================== timestep ====================\n",
      "2021-06-02 17:33:06,964 - activity_manager - INFO - CMS: People COMS for rank 0/1 - 3.930999810108915e-06,3.5762786865234375e-06 - 2020-06-27 09:00:00\n",
      "2021-06-02 17:33:06,969 - simulator - INFO - Info for rank 0, Date = 2020-06-27 09:00:00, number of deaths =  0, number of infected = 378\n",
      "2021-06-02 17:33:07,042 - simulator - INFO - CMS: Infection COMS-v2 for rank 0/1(2)0.00018755400014924817,0.0001876354217529297 - 2020-06-27 09:00:00\n",
      "2021-06-02 17:33:07,103 - simulator - INFO - CMS: Timestep for rank 0/1 - 0.7267941189984413,0.7267951965332031 - 2020-06-27 09:00:00\n",
      "\n",
      "2021-06-02 17:33:07,103 - simulator - INFO - ==================== timestep ====================\n",
      "2021-06-02 17:33:07,390 - activity_manager - INFO - CMS: People COMS for rank 0/1 - 3.883000317728147e-06,3.814697265625e-06 - 2020-06-27 11:00:00\n",
      "2021-06-02 17:33:07,394 - simulator - INFO - Info for rank 0, Date = 2020-06-27 11:00:00, number of deaths =  0, number of infected = 383\n",
      "2021-06-02 17:33:07,454 - simulator - INFO - CMS: Infection COMS-v2 for rank 0/1(2)0.00018744899898592848,0.00018739700317382812 - 2020-06-27 11:00:00\n",
      "2021-06-02 17:33:07,510 - simulator - INFO - CMS: Timestep for rank 0/1 - 0.40580423200117366,0.4058051109313965 - 2020-06-27 11:00:00\n",
      "\n",
      "2021-06-02 17:33:07,511 - simulator - INFO - ==================== timestep ====================\n",
      "2021-06-02 17:33:07,793 - activity_manager - INFO - CMS: People COMS for rank 0/1 - 3.7269983295118436e-06,3.5762786865234375e-06 - 2020-06-28 00:00:00\n",
      "2021-06-02 17:33:07,797 - simulator - INFO - Info for rank 0, Date = 2020-06-28 00:00:00, number of deaths =  0, number of infected = 400\n"
     ]
    },
    {
     "name": "stdout",
     "output_type": "stream",
     "text": [
      "2021-06-02 17:33:07,852 - simulator - INFO - CMS: Infection COMS-v2 for rank 0/1(2)0.0001836869996623136,0.0001838207244873047 - 2020-06-28 00:00:00\n",
      "2021-06-02 17:33:07,912 - simulator - INFO - CMS: Timestep for rank 0/1 - 0.400632881999627,0.4006338119506836 - 2020-06-28 00:00:00\n",
      "\n",
      "2021-06-02 17:33:07,913 - simulator - INFO - ==================== timestep ====================\n",
      "2021-06-02 17:33:08,541 - activity_manager - INFO - CMS: People COMS for rank 0/1 - 3.5619996197056025e-06,3.337860107421875e-06 - 2020-06-28 03:00:00\n",
      "2021-06-02 17:33:08,546 - simulator - INFO - Info for rank 0, Date = 2020-06-28 03:00:00, number of deaths =  0, number of infected = 405\n",
      "2021-06-02 17:33:08,616 - simulator - INFO - CMS: Infection COMS-v2 for rank 0/1(2)0.00017602699881535955,0.00017595291137695312 - 2020-06-28 03:00:00\n",
      "2021-06-02 17:33:08,674 - simulator - INFO - CMS: Timestep for rank 0/1 - 0.7605385049992037,0.7605397701263428 - 2020-06-28 03:00:00\n",
      "\n",
      "2021-06-02 17:33:08,675 - simulator - INFO - ==================== timestep ====================\n",
      "2021-06-02 17:33:09,335 - activity_manager - INFO - CMS: People COMS for rank 0/1 - 6.090000169933774e-06,5.7220458984375e-06 - 2020-06-28 05:00:00\n",
      "2021-06-02 17:33:09,341 - simulator - INFO - Info for rank 0, Date = 2020-06-28 05:00:00, number of deaths =  0, number of infected = 409\n",
      "2021-06-02 17:33:09,407 - simulator - INFO - CMS: Infection COMS-v2 for rank 0/1(2)0.00018830599947250448,0.0001888275146484375 - 2020-06-28 05:00:00\n",
      "2021-06-02 17:33:09,459 - simulator - INFO - CMS: Timestep for rank 0/1 - 0.7837607420005952,0.7837619781494141 - 2020-06-28 05:00:00\n",
      "\n",
      "2021-06-02 17:33:09,460 - simulator - INFO - ==================== timestep ====================\n",
      "2021-06-02 17:33:10,061 - activity_manager - INFO - CMS: People COMS for rank 0/1 - 4.071000148542225e-06,3.814697265625e-06 - 2020-06-28 07:00:00\n",
      "2021-06-02 17:33:10,066 - simulator - INFO - Info for rank 0, Date = 2020-06-28 07:00:00, number of deaths =  0, number of infected = 410\n",
      "2021-06-02 17:33:10,140 - simulator - INFO - CMS: Infection COMS-v2 for rank 0/1(2)0.00018590199942991603,0.0001857280731201172 - 2020-06-28 07:00:00\n",
      "2021-06-02 17:33:10,200 - simulator - INFO - CMS: Timestep for rank 0/1 - 0.7398810730010155,0.739882230758667 - 2020-06-28 07:00:00\n",
      "\n",
      "2021-06-02 17:33:10,201 - simulator - INFO - ==================== timestep ====================\n",
      "2021-06-02 17:33:10,756 - activity_manager - INFO - CMS: People COMS for rank 0/1 - 3.725999704329297e-06,3.5762786865234375e-06 - 2020-06-28 09:00:00\n",
      "2021-06-02 17:33:10,761 - simulator - INFO - Info for rank 0, Date = 2020-06-28 09:00:00, number of deaths =  0, number of infected = 412\n",
      "2021-06-02 17:33:10,834 - simulator - INFO - CMS: Infection COMS-v2 for rank 0/1(2)0.00019268400137661956,0.00019240379333496094 - 2020-06-28 09:00:00\n",
      "2021-06-02 17:33:10,904 - simulator - INFO - CMS: Timestep for rank 0/1 - 0.7021427510007925,0.702143669128418 - 2020-06-28 09:00:00\n",
      "\n",
      "2021-06-02 17:33:10,904 - simulator - INFO - ==================== timestep ====================\n",
      "2021-06-02 17:33:11,197 - activity_manager - INFO - CMS: People COMS for rank 0/1 - 4.225001248414628e-06,4.291534423828125e-06 - 2020-06-28 11:00:00\n",
      "2021-06-02 17:33:11,201 - simulator - INFO - Info for rank 0, Date = 2020-06-28 11:00:00, number of deaths =  0, number of infected = 413\n",
      "2021-06-02 17:33:11,257 - simulator - INFO - CMS: Infection COMS-v2 for rank 0/1(2)0.00017597700025362428,0.00017595291137695312 - 2020-06-28 11:00:00\n",
      "2021-06-02 17:33:11,316 - simulator - INFO - CMS: Timestep for rank 0/1 - 0.4112637780017394,0.41126489639282227 - 2020-06-28 11:00:00\n",
      "\n",
      "2021-06-02 17:33:11,317 - simulator - INFO - ==================== timestep ====================\n",
      "2021-06-02 17:33:11,607 - activity_manager - INFO - CMS: People COMS for rank 0/1 - 3.86099964089226e-06,3.814697265625e-06 - 2020-06-29 00:00:00\n",
      "2021-06-02 17:33:11,611 - simulator - INFO - Info for rank 0, Date = 2020-06-29 00:00:00, number of deaths =  0, number of infected = 432\n",
      "2021-06-02 17:33:11,659 - simulator - INFO - CMS: Infection COMS-v2 for rank 0/1(2)0.00018655100029718596,0.00018644332885742188 - 2020-06-29 00:00:00\n",
      "2021-06-02 17:33:11,716 - simulator - INFO - CMS: Timestep for rank 0/1 - 0.3988685369986342,0.39886951446533203 - 2020-06-29 00:00:00\n",
      "\n",
      "2021-06-02 17:33:11,717 - simulator - INFO - ==================== timestep ====================\n",
      "2021-06-02 17:33:12,312 - activity_manager - INFO - CMS: People COMS for rank 0/1 - 3.7539994082180783e-06,3.5762786865234375e-06 - 2020-06-29 02:00:00\n",
      "2021-06-02 17:33:12,317 - simulator - INFO - Info for rank 0, Date = 2020-06-29 02:00:00, number of deaths =  0, number of infected = 434\n",
      "2021-06-02 17:33:12,393 - simulator - INFO - CMS: Infection COMS-v2 for rank 0/1(2)0.00019377799981157295,0.00019359588623046875 - 2020-06-29 02:00:00\n",
      "2021-06-02 17:33:12,454 - simulator - INFO - CMS: Timestep for rank 0/1 - 0.7353619280002022,0.7353630065917969 - 2020-06-29 02:00:00\n",
      "\n",
      "2021-06-02 17:33:12,455 - simulator - INFO - ==================== timestep ====================\n",
      "2021-06-02 17:33:13,044 - activity_manager - INFO - CMS: People COMS for rank 0/1 - 3.522998667904176e-06,3.337860107421875e-06 - 2020-06-29 04:00:00\n",
      "2021-06-02 17:33:13,049 - simulator - INFO - Info for rank 0, Date = 2020-06-29 04:00:00, number of deaths =  0, number of infected = 437\n",
      "2021-06-02 17:33:13,139 - simulator - INFO - CMS: Infection COMS-v2 for rank 0/1(2)0.00017746400044416077,0.0001773834228515625 - 2020-06-29 04:00:00\n",
      "2021-06-02 17:33:13,199 - simulator - INFO - CMS: Timestep for rank 0/1 - 0.7423139580005227,0.7423150539398193 - 2020-06-29 04:00:00\n",
      "\n",
      "2021-06-02 17:33:13,200 - simulator - INFO - ==================== timestep ====================\n",
      "2021-06-02 17:33:13,852 - activity_manager - INFO - CMS: People COMS for rank 0/1 - 3.92099900636822e-06,3.814697265625e-06 - 2020-06-29 06:00:00\n",
      "2021-06-02 17:33:13,857 - simulator - INFO - Info for rank 0, Date = 2020-06-29 06:00:00, number of deaths =  0, number of infected = 444\n",
      "2021-06-02 17:33:13,934 - simulator - INFO - CMS: Infection COMS-v2 for rank 0/1(2)0.00019810300000244752,0.00019788742065429688 - 2020-06-29 06:00:00\n",
      "2021-06-02 17:33:14,005 - simulator - INFO - CMS: Timestep for rank 0/1 - 0.8050447759997041,0.8050460815429688 - 2020-06-29 06:00:00\n",
      "\n",
      "2021-06-02 17:33:14,006 - simulator - INFO - ==================== timestep ====================\n",
      "2021-06-02 17:33:14,798 - activity_manager - INFO - CMS: People COMS for rank 0/1 - 7.122000170056708e-06,7.152557373046875e-06 - 2020-06-29 08:00:00\n",
      "2021-06-02 17:33:14,805 - simulator - INFO - Info for rank 0, Date = 2020-06-29 08:00:00, number of deaths =  0, number of infected = 449\n",
      "2021-06-02 17:33:14,889 - simulator - INFO - CMS: Infection COMS-v2 for rank 0/1(2)0.0002595570003904868,0.00025916099548339844 - 2020-06-29 08:00:00\n",
      "2021-06-02 17:33:14,966 - simulator - INFO - CMS: Timestep for rank 0/1 - 0.9589143249995686,0.9589152336120605 - 2020-06-29 08:00:00\n",
      "\n",
      "2021-06-02 17:33:14,967 - simulator - INFO - ==================== timestep ====================\n",
      "2021-06-02 17:33:15,273 - activity_manager - INFO - CMS: People COMS for rank 0/1 - 4.478000846575014e-06,4.291534423828125e-06 - 2020-06-29 10:00:00\n",
      "2021-06-02 17:33:15,281 - simulator - INFO - Info for rank 0, Date = 2020-06-29 10:00:00, number of deaths =  0, number of infected = 457\n",
      "2021-06-02 17:33:15,346 - simulator - INFO - CMS: Infection COMS-v2 for rank 0/1(2)0.00033183199957420584,0.0003311634063720703 - 2020-06-29 10:00:00\n",
      "2021-06-02 17:33:15,409 - simulator - INFO - CMS: Timestep for rank 0/1 - 0.4415999370012287,0.441601037979126 - 2020-06-29 10:00:00\n",
      "\n",
      "2021-06-02 17:33:15,410 - simulator - INFO - ==================== timestep ====================\n",
      "2021-06-02 17:33:15,720 - activity_manager - INFO - CMS: People COMS for rank 0/1 - 3.836001269519329e-06,3.5762786865234375e-06 - 2020-06-30 00:00:00\n",
      "2021-06-02 17:33:15,726 - simulator - INFO - Info for rank 0, Date = 2020-06-30 00:00:00, number of deaths =  0, number of infected = 476\n",
      "2021-06-02 17:33:15,785 - simulator - INFO - CMS: Infection COMS-v2 for rank 0/1(2)0.000273314999503782,0.00027298927307128906 - 2020-06-30 00:00:00\n",
      "2021-06-02 17:33:15,871 - simulator - INFO - CMS: Timestep for rank 0/1 - 0.45983223500115855,0.45983290672302246 - 2020-06-30 00:00:00\n",
      "\n"
     ]
    },
    {
     "name": "stdout",
     "output_type": "stream",
     "text": [
      "2021-06-02 17:33:15,871 - simulator - INFO - ==================== timestep ====================\n",
      "2021-06-02 17:33:16,501 - activity_manager - INFO - CMS: People COMS for rank 0/1 - 3.7850004446227103e-06,3.5762786865234375e-06 - 2020-06-30 02:00:00\n",
      "2021-06-02 17:33:16,506 - simulator - INFO - Info for rank 0, Date = 2020-06-30 02:00:00, number of deaths =  0, number of infected = 478\n",
      "2021-06-02 17:33:16,584 - simulator - INFO - CMS: Infection COMS-v2 for rank 0/1(2)0.00018273400019097608,0.00018215179443359375 - 2020-06-30 02:00:00\n",
      "2021-06-02 17:33:16,641 - simulator - INFO - CMS: Timestep for rank 0/1 - 0.7690724959993531,0.769073486328125 - 2020-06-30 02:00:00\n",
      "\n",
      "2021-06-02 17:33:16,642 - simulator - INFO - ==================== timestep ====================\n",
      "2021-06-02 17:33:17,263 - activity_manager - INFO - CMS: People COMS for rank 0/1 - 5.95299934502691e-06,5.7220458984375e-06 - 2020-06-30 04:00:00\n",
      "2021-06-02 17:33:17,271 - simulator - INFO - Info for rank 0, Date = 2020-06-30 04:00:00, number of deaths =  0, number of infected = 488\n",
      "2021-06-02 17:33:17,338 - simulator - INFO - CMS: Infection COMS-v2 for rank 0/1(2)0.00018297699898539577,0.00018262863159179688 - 2020-06-30 04:00:00\n",
      "2021-06-02 17:33:17,393 - simulator - INFO - CMS: Timestep for rank 0/1 - 0.7500155389989231,0.7500162124633789 - 2020-06-30 04:00:00\n",
      "\n",
      "2021-06-02 17:33:17,394 - simulator - INFO - ==================== timestep ====================\n",
      "2021-06-02 17:33:18,072 - activity_manager - INFO - CMS: People COMS for rank 0/1 - 3.643001036834903e-06,3.337860107421875e-06 - 2020-06-30 06:00:00\n",
      "2021-06-02 17:33:18,076 - simulator - INFO - Info for rank 0, Date = 2020-06-30 06:00:00, number of deaths =  0, number of infected = 490\n",
      "2021-06-02 17:33:18,158 - simulator - INFO - CMS: Infection COMS-v2 for rank 0/1(2)0.000186092000149074,0.0001857280731201172 - 2020-06-30 06:00:00\n",
      "2021-06-02 17:33:18,234 - simulator - INFO - CMS: Timestep for rank 0/1 - 0.8392744479988323,0.8392758369445801 - 2020-06-30 06:00:00\n",
      "\n",
      "2021-06-02 17:33:18,234 - simulator - INFO - ==================== timestep ====================\n",
      "2021-06-02 17:33:18,865 - activity_manager - INFO - CMS: People COMS for rank 0/1 - 3.7890004023211077e-06,3.5762786865234375e-06 - 2020-06-30 08:00:00\n",
      "2021-06-02 17:33:18,869 - simulator - INFO - Info for rank 0, Date = 2020-06-30 08:00:00, number of deaths =  0, number of infected = 495\n",
      "2021-06-02 17:33:18,947 - simulator - INFO - CMS: Infection COMS-v2 for rank 0/1(2)0.00018725600057223346,0.00018668174743652344 - 2020-06-30 08:00:00\n",
      "2021-06-02 17:33:19,011 - simulator - INFO - CMS: Timestep for rank 0/1 - 0.776047565999761,0.7760486602783203 - 2020-06-30 08:00:00\n",
      "\n",
      "2021-06-02 17:33:19,012 - simulator - INFO - ==================== timestep ====================\n",
      "2021-06-02 17:33:19,337 - activity_manager - INFO - CMS: People COMS for rank 0/1 - 4.195999281364493e-06,4.0531158447265625e-06 - 2020-06-30 10:00:00\n",
      "2021-06-02 17:33:19,341 - simulator - INFO - Info for rank 0, Date = 2020-06-30 10:00:00, number of deaths =  0, number of infected = 501\n",
      "2021-06-02 17:33:19,408 - simulator - INFO - CMS: Infection COMS-v2 for rank 0/1(2)0.0001812070004234556,0.00018095970153808594 - 2020-06-30 10:00:00\n",
      "2021-06-02 17:33:19,469 - simulator - INFO - CMS: Timestep for rank 0/1 - 0.4568381829994905,0.45683884620666504 - 2020-06-30 10:00:00\n",
      "\n",
      "2021-06-02 17:33:19,470 - simulator - INFO - ==================== timestep ====================\n",
      "2021-06-02 17:33:19,781 - activity_manager - INFO - CMS: People COMS for rank 0/1 - 3.897999704349786e-06,3.5762786865234375e-06 - 2020-07-01 00:00:00\n",
      "2021-06-02 17:33:19,786 - simulator - INFO - Info for rank 0, Date = 2020-07-01 00:00:00, number of deaths =  1, number of infected = 514\n",
      "2021-06-02 17:33:19,855 - simulator - INFO - CMS: Infection COMS-v2 for rank 0/1(2)0.00018857299983210396,0.00018835067749023438 - 2020-07-01 00:00:00\n",
      "2021-06-02 17:33:19,937 - simulator - INFO - CMS: Timestep for rank 0/1 - 0.4659616469998582,0.46596240997314453 - 2020-07-01 00:00:00\n",
      "\n",
      "2021-06-02 17:33:19,937 - simulator - INFO - ==================== timestep ====================\n",
      "2021-06-02 17:33:20,552 - activity_manager - INFO - CMS: People COMS for rank 0/1 - 3.749999450519681e-06,3.5762786865234375e-06 - 2020-07-01 02:00:00\n",
      "2021-06-02 17:33:20,557 - simulator - INFO - Info for rank 0, Date = 2020-07-01 02:00:00, number of deaths =  1, number of infected = 518\n",
      "2021-06-02 17:33:20,632 - simulator - INFO - CMS: Infection COMS-v2 for rank 0/1(2)0.00019133500063617248,0.00019097328186035156 - 2020-07-01 02:00:00\n",
      "2021-06-02 17:33:20,704 - simulator - INFO - CMS: Timestep for rank 0/1 - 0.7650266990003729,0.7650275230407715 - 2020-07-01 02:00:00\n",
      "\n",
      "2021-06-02 17:33:20,704 - simulator - INFO - ==================== timestep ====================\n",
      "2021-06-02 17:33:21,387 - activity_manager - INFO - CMS: People COMS for rank 0/1 - 1.1853000614792109e-05,1.0967254638671875e-05 - 2020-07-01 04:00:00\n",
      "2021-06-02 17:33:21,392 - simulator - INFO - Info for rank 0, Date = 2020-07-01 04:00:00, number of deaths =  1, number of infected = 521\n",
      "2021-06-02 17:33:21,473 - simulator - INFO - CMS: Infection COMS-v2 for rank 0/1(2)0.00018678299966268241,0.00018668174743652344 - 2020-07-01 04:00:00\n",
      "2021-06-02 17:33:21,536 - simulator - INFO - CMS: Timestep for rank 0/1 - 0.8312518450002244,0.8312528133392334 - 2020-07-01 04:00:00\n",
      "\n",
      "2021-06-02 17:33:21,537 - simulator - INFO - ==================== timestep ====================\n",
      "2021-06-02 17:33:22,174 - activity_manager - INFO - CMS: People COMS for rank 0/1 - 8.553999577998184e-06,8.344650268554688e-06 - 2020-07-01 06:00:00\n",
      "2021-06-02 17:33:22,179 - simulator - INFO - Info for rank 0, Date = 2020-07-01 06:00:00, number of deaths =  1, number of infected = 522\n",
      "2021-06-02 17:33:22,264 - simulator - INFO - CMS: Infection COMS-v2 for rank 0/1(2)0.00018132500008505303,0.00018095970153808594 - 2020-07-01 06:00:00\n",
      "2021-06-02 17:33:22,336 - simulator - INFO - CMS: Timestep for rank 0/1 - 0.7983656619999238,0.7983667850494385 - 2020-07-01 06:00:00\n",
      "\n",
      "2021-06-02 17:33:22,336 - simulator - INFO - ==================== timestep ====================\n"
     ]
    }
   ],
   "source": [
    "%%time\n",
    "simulator.run()"
   ]
  },
  {
   "cell_type": "markdown",
   "metadata": {},
   "source": [
    "# Getting the results"
   ]
  },
  {
   "cell_type": "markdown",
   "metadata": {},
   "source": [
    "All results are stored in a json file specified in the `record_path` when defining the recorder. This can be read in by passing the folder locations to the `RecordReader` class and results derived.\n",
    "\n",
    "Here we show some examples of the kind of analysis you can extract from the records."
   ]
  },
  {
   "cell_type": "code",
   "execution_count": null,
   "metadata": {},
   "outputs": [],
   "source": [
    "import pandas as pd"
   ]
  },
  {
   "cell_type": "code",
   "execution_count": null,
   "metadata": {},
   "outputs": [],
   "source": [
    "read = RecordReader('results')"
   ]
  },
  {
   "cell_type": "markdown",
   "metadata": {},
   "source": [
    "The regional summary gives you information at the regional (camp) level."
   ]
  },
  {
   "cell_type": "markdown",
   "metadata": {},
   "source": [
    "### Regional information"
   ]
  },
  {
   "cell_type": "code",
   "execution_count": null,
   "metadata": {},
   "outputs": [],
   "source": [
    "read.regional_summary.head(3)"
   ]
  },
  {
   "cell_type": "code",
   "execution_count": null,
   "metadata": {},
   "outputs": [],
   "source": [
    "for region in read.regional_summary['region'].unique():\n",
    "    read.regional_summary[\n",
    "        read.regional_summary['region'] == region\n",
    "    ]['current_infected'].plot(label=\"current infected\")\n",
    "    read.regional_summary[\n",
    "        read.regional_summary['region'] == region\n",
    "    ]['current_susceptible'].plot(label=\"current susceptible\")\n",
    "    plt.title(region)\n",
    "    plt.legend()\n",
    "    plt.show()"
   ]
  },
  {
   "cell_type": "markdown",
   "metadata": {},
   "source": [
    "### Daily infections"
   ]
  },
  {
   "cell_type": "code",
   "execution_count": null,
   "metadata": {},
   "outputs": [],
   "source": [
    "summary = read.regional_summary.reset_index()"
   ]
  },
  {
   "cell_type": "code",
   "execution_count": null,
   "metadata": {},
   "outputs": [],
   "source": [
    "summary['time_stamp'][0].date()"
   ]
  },
  {
   "cell_type": "code",
   "execution_count": null,
   "metadata": {},
   "outputs": [],
   "source": [
    "def new_infections(summary):\n",
    "    \n",
    "    date = []\n",
    "    for idx, row in summary.iterrows():\n",
    "        date.append(row['time_stamp'].date())\n",
    "    summary['date'] = date\n",
    "    \n",
    "    dates = np.unique(summary['date'])\n",
    "    \n",
    "    new_infections = []\n",
    "    \n",
    "    for date in dates:\n",
    "        date_data = summary['daily_infected'][summary['date'] == date]\n",
    "        new_infections.append(np.sum(date_data))\n",
    "        \n",
    "    return dates, new_infections"
   ]
  },
  {
   "cell_type": "code",
   "execution_count": null,
   "metadata": {},
   "outputs": [],
   "source": [
    "dates, new_infections = new_infections(summary)"
   ]
  },
  {
   "cell_type": "code",
   "execution_count": null,
   "metadata": {},
   "outputs": [],
   "source": [
    "plt.plot(dates, new_infections)\n",
    "plt.xticks(rotation=45)\n",
    "plt.ylabel('Daily infections')\n",
    "plt.show()"
   ]
  },
  {
   "cell_type": "markdown",
   "metadata": {},
   "source": [
    "### Hospital and intensive care"
   ]
  },
  {
   "cell_type": "code",
   "execution_count": null,
   "metadata": {},
   "outputs": [],
   "source": [
    "def hospitalised(summary):\n",
    "    date = []\n",
    "    for idx, row in summary.iterrows():\n",
    "        date.append(row['time_stamp'].date())\n",
    "    summary['date'] = date\n",
    "    \n",
    "    dates = np.unique(summary['date'])\n",
    "    \n",
    "    hospitalised = []\n",
    "    icu = []\n",
    "    \n",
    "    for date in dates:\n",
    "        date_data = summary['current_hospitalised'][summary['date'] == date]\n",
    "        hospitalised.append(np.sum(date_data))\n",
    "        date_data = summary['current_intensive_care'][summary['date'] == date]\n",
    "        icu.append(np.sum(date_data))\n",
    "        \n",
    "    return dates, hospitalised, icu"
   ]
  },
  {
   "cell_type": "code",
   "execution_count": null,
   "metadata": {},
   "outputs": [],
   "source": [
    "dates, hospitalised, icu = hospitalised(summary)"
   ]
  },
  {
   "cell_type": "code",
   "execution_count": null,
   "metadata": {},
   "outputs": [],
   "source": [
    "plt.plot(dates, hospitalised, label=\"current hospitalised\")\n",
    "plt.plot(dates, icu, label=\"current intensive care\")\n",
    "plt.xticks(rotation=45)\n",
    "plt.ylabel('Daily infections')\n",
    "plt.legend()\n",
    "plt.show()"
   ]
  },
  {
   "cell_type": "markdown",
   "metadata": {},
   "source": [
    "### Cumulative infections by age"
   ]
  },
  {
   "cell_type": "code",
   "execution_count": null,
   "metadata": {},
   "outputs": [],
   "source": [
    "infections_df = read.get_table_with_extras('infections',\n",
    "                                           'infected_ids')"
   ]
  },
  {
   "cell_type": "code",
   "execution_count": null,
   "metadata": {},
   "outputs": [],
   "source": [
    "deaths_df = read.get_table_with_extras('deaths', \n",
    "                                       'dead_person_ids')"
   ]
  },
  {
   "cell_type": "code",
   "execution_count": null,
   "metadata": {},
   "outputs": [],
   "source": [
    "age_bins = (0,20,60,100)"
   ]
  },
  {
   "cell_type": "code",
   "execution_count": null,
   "metadata": {},
   "outputs": [],
   "source": [
    "infected_by_age = infections_df.groupby([pd.cut(infections_df['age'],\n",
    "            bins=age_bins), 'timestamp']).size()"
   ]
  },
  {
   "cell_type": "code",
   "execution_count": null,
   "metadata": {},
   "outputs": [],
   "source": [
    "people_df = read.table_to_df('population')"
   ]
  },
  {
   "cell_type": "code",
   "execution_count": null,
   "metadata": {},
   "outputs": [],
   "source": [
    "n_by_age = people_df.groupby(pd.cut(people_df['age'],\n",
    "            bins=age_bins)).size()"
   ]
  },
  {
   "cell_type": "code",
   "execution_count": null,
   "metadata": {},
   "outputs": [],
   "source": [
    "(100*infected_by_age/n_by_age).xs(10).cumsum().plot(label='0,20')\n",
    "(100*infected_by_age/n_by_age).xs(30).cumsum().plot(label='20,60')\n",
    "(100*infected_by_age/n_by_age).xs(70).cumsum().plot(label='60,100')\n",
    "plt.legend()"
   ]
  },
  {
   "cell_type": "markdown",
   "metadata": {},
   "source": [
    "### Where people get infected"
   ]
  },
  {
   "cell_type": "code",
   "execution_count": null,
   "metadata": {},
   "outputs": [],
   "source": [
    "locations_df = infections_df.groupby(['location_specs', \n",
    "                                'timestamp']).size()"
   ]
  },
  {
   "cell_type": "code",
   "execution_count": null,
   "metadata": {},
   "outputs": [],
   "source": [
    "locations_df.unstack(level=0).plot()"
   ]
  },
  {
   "cell_type": "code",
   "execution_count": null,
   "metadata": {},
   "outputs": [],
   "source": [
    "import matplotlib.ticker as mtick\n",
    "location_counts_df = locations_df.groupby('location_specs').size()\n",
    "location_counts_df = 100*location_counts_df / location_counts_df.sum()\n",
    "ax = location_counts_df.sort_values().plot.bar()\n",
    "ax.yaxis.set_major_formatter(mtick.PercentFormatter())\n",
    "plt.ylabel('Percentage of infections at location')\n",
    "plt.xlabel('location')"
   ]
  },
  {
   "cell_type": "code",
   "execution_count": null,
   "metadata": {},
   "outputs": [],
   "source": []
  },
  {
   "cell_type": "code",
   "execution_count": null,
   "metadata": {},
   "outputs": [],
   "source": []
  },
  {
   "cell_type": "code",
   "execution_count": null,
   "metadata": {},
   "outputs": [],
   "source": []
  },
  {
   "cell_type": "code",
   "execution_count": null,
   "metadata": {},
   "outputs": [],
   "source": []
  },
  {
   "cell_type": "code",
   "execution_count": null,
   "metadata": {},
   "outputs": [],
   "source": []
  }
 ],
 "metadata": {
  "kernelspec": {
   "display_name": "Python 3",
   "language": "python",
   "name": "python3"
  },
  "language_info": {
   "codemirror_mode": {
    "name": "ipython",
    "version": 3
   },
   "file_extension": ".py",
   "mimetype": "text/x-python",
   "name": "python",
   "nbconvert_exporter": "python",
   "pygments_lexer": "ipython3",
   "version": "3.8.8"
  }
 },
 "nbformat": 4,
 "nbformat_minor": 4
}
