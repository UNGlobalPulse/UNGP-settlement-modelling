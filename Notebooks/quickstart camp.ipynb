{
 "cells": [
  {
   "cell_type": "code",
   "execution_count": 1,
   "metadata": {},
   "outputs": [],
   "source": [
    "import warnings\n",
    "warnings.filterwarnings('ignore')"
   ]
  },
  {
   "cell_type": "code",
   "execution_count": 2,
   "metadata": {},
   "outputs": [],
   "source": [
    "import numpy as np\n",
    "import pandas as pd\n",
    "import time\n",
    "import matplotlib.pyplot as plt\n",
    "from datetime import datetime\n",
    "import sys\n",
    "import argparse\n",
    "from pathlib import Path"
   ]
  },
  {
   "cell_type": "code",
   "execution_count": 3,
   "metadata": {},
   "outputs": [
    {
     "name": "stderr",
     "output_type": "stream",
     "text": [
      "No --data argument given - defaulting to:\n",
      "/home/joseph/Documents/PhD/UN_Work/UNGP-settlement-modelling-private/data\n",
      "No --configs argument given - defaulting to:\n",
      "/home/joseph/Documents/PhD/UN_Work/JUNE-private/june/configs\n"
     ]
    },
    {
     "name": "stdout",
     "output_type": "stream",
     "text": [
      "2022-03-28 14:19:15,860 - camps.paths - WARNING - No --camp_data argument given - defaulting to:\n",
      "/home/joseph/Documents/PhD/UN_Work/UNGP-settlement-modelling-private/camp_data\n",
      "2022-03-28 14:19:15,861 - camps.paths - WARNING - No --configs_camps argument given - defaulting to:\n",
      "/home/joseph/Documents/PhD/UN_Work/UNGP-settlement-modelling-private/configs_camps\n"
     ]
    }
   ],
   "source": [
    "from june.geography import Geography\n",
    "from june.demography.demography import (\n",
    "    load_age_and_sex_generators_for_bins,\n",
    "    Demography,\n",
    "    Population,\n",
    "    load_comorbidity_data,\n",
    "    generate_comorbidity,\n",
    ")\n",
    "from june.paths import data_path, configs_path\n",
    "from june.epidemiology.epidemiology import Epidemiology\n",
    "from june.epidemiology.infection import ImmunitySetter\n",
    "from june.epidemiology.infection import Infection, HealthIndexGenerator, InfectionSelector, InfectionSelectors\n",
    "from june.epidemiology.infection_seed import InfectionSeed, InfectionSeeds\n",
    "from june.interaction import Interaction\n",
    "from june.groups import Hospital, Hospitals, Cemeteries\n",
    "from june.distributors import HospitalDistributor\n",
    "from june.hdf5_savers import generate_world_from_hdf5\n",
    "from june.policy import Policy, Policies\n",
    "from june.records import Record\n",
    "from june.simulator import Simulator\n",
    "from june.records import Record, RecordReader\n",
    "\n",
    "from camps.activity import CampActivityManager\n",
    "from camps.paths import camp_data_path, camp_configs_path\n",
    "from camps.world import World\n",
    "from camps.groups.leisure import generate_leisure_for_world, generate_leisure_for_config\n",
    "from camps.camp_creation import (\n",
    "    generate_empty_world,\n",
    "    populate_world,\n",
    "    distribute_people_to_households,\n",
    ")  # this is loaded from the ../camp_scripts folder\n"
   ]
  },
  {
   "cell_type": "code",
   "execution_count": 4,
   "metadata": {},
   "outputs": [],
   "source": [
    "from camps.groups import PumpLatrines, PumpLatrineDistributor\n",
    "from camps.groups import DistributionCenters, DistributionCenterDistributor\n",
    "from camps.groups import Communals, CommunalDistributor\n",
    "from camps.groups import FemaleCommunals, FemaleCommunalDistributor\n",
    "from camps.groups import Religiouss, ReligiousDistributor\n",
    "from camps.groups import Shelter, Shelters, ShelterDistributor\n",
    "from camps.groups import IsolationUnit, IsolationUnits\n",
    "from camps.groups import LearningCenters\n",
    "from camps.distributors import LearningCenterDistributor\n",
    "from camps.groups import PlayGroups, PlayGroupDistributor\n",
    "from camps.groups import EVouchers, EVoucherDistributor\n",
    "from camps.groups import NFDistributionCenters, NFDistributionCenterDistributor\n",
    "from camps.groups import SheltersVisitsDistributor"
   ]
  },
  {
   "cell_type": "code",
   "execution_count": 5,
   "metadata": {},
   "outputs": [],
   "source": [
    "Results_Path = Path(\"results\")\n",
    "\n",
    "Config_File_Path = camp_configs_path / \"config_demo.yaml\"\n",
    "Interactions_File_Path = camp_configs_path / \"defaults/interaction/ContactInteraction_subgroups.yaml\"\n",
    "Policies_File_Path = camp_configs_path / \"defaults/policy/simple_policy.yaml\"\n",
    "Hospitals_File_Path = camp_data_path / \"input/hospitals/hospitals.csv\"\n",
    "comorbidity_multipliers_path = camp_configs_path / \"defaults/comorbidities.yaml\"\n",
    "male_comorbidity_reference_prevalence_path = camp_data_path / \"input/demography/uk_male_comorbidities.csv\"\n",
    "female_comorbidity_reference_prevalence_path = camp_data_path / \"input/demography/uk_female_comorbidities.csv\""
   ]
  },
  {
   "cell_type": "markdown",
   "metadata": {},
   "source": [
    "## Initialize the world"
   ]
  },
  {
   "cell_type": "markdown",
   "metadata": {},
   "source": [
    "When we create the camp to be simulated, we call this the 'world'. The world is initialised after specifying which geographical regions you want to simulate. We can do this by using the `filter_key` argument in the `generate_empty_world` function. Cox's Bazar Expansion Site is made up of camps (which we call regions), UNHCR blocks (which we call super areas) and Mahjee blocks (which we call areas). These are the 3 heirarchical levels on which our model works. You can pass lists of the regions/super_areas/areas to the function here. Alternatively, by leaving the function empty you can generate the entire Cox's Bazar Expansion Site consisting of 112 super areas."
   ]
  },
  {
   "cell_type": "code",
   "execution_count": 6,
   "metadata": {},
   "outputs": [
    {
     "name": "stdout",
     "output_type": "stream",
     "text": [
      "2022-03-28 14:19:16,295 - june.geography.geography - INFO - There are 65 areas and 4 super_areas and 1 regions in the world.\n"
     ]
    }
   ],
   "source": [
    "# create empty world's geography\n",
    "world = generate_empty_world(filter_key = {\"region\" : [\"CXB-219\"]})"
   ]
  },
  {
   "cell_type": "code",
   "execution_count": 7,
   "metadata": {},
   "outputs": [],
   "source": [
    "# populate empty world\n",
    "populate_world(world)"
   ]
  },
  {
   "cell_type": "code",
   "execution_count": 8,
   "metadata": {},
   "outputs": [
    {
     "name": "stdout",
     "output_type": "stream",
     "text": [
      "2022-03-28 14:19:16,539 - subgroup maker - INFO - household interaction bins need default values for methods.\n",
      "Distributing 467 people to CXB-219-001\n",
      "Parents done\n",
      "Kids done\n",
      "All multigen adults done\n",
      "All adults only houses done\n",
      "Distributing 369 people to CXB-219-002\n",
      "Parents done\n",
      "Kids done\n",
      "All multigen adults done\n",
      "All adults only houses done\n",
      "Distributing 331 people to CXB-219-003\n",
      "Parents done\n",
      "Kids done\n",
      "All multigen adults done\n",
      "All adults only houses done\n",
      "Distributing 386 people to CXB-219-004\n",
      "Parents done\n",
      "Kids done\n",
      "All multigen adults done\n",
      "All adults only houses done\n",
      "Distributing 313 people to CXB-219-005\n",
      "Parents done\n",
      "Kids done\n",
      "All multigen adults done\n",
      "All adults only houses done\n",
      "Distributing 331 people to CXB-219-006\n",
      "Parents done\n",
      "Kids done\n",
      "All multigen adults done\n",
      "All adults only houses done\n",
      "Distributing 259 people to CXB-219-007\n",
      "Parents done\n",
      "Kids done\n",
      "All multigen adults done\n",
      "All adults only houses done\n",
      "Distributing 350 people to CXB-219-009\n",
      "Parents done\n",
      "Kids done\n",
      "All multigen adults done\n",
      "All adults only houses done\n",
      "Distributing 275 people to CXB-219-010\n",
      "Parents done\n",
      "Kids done\n",
      "All multigen adults done\n",
      "All adults only houses done\n",
      "Distributing 248 people to CXB-219-011\n",
      "Parents done\n",
      "Kids done\n",
      "All multigen adults done\n",
      "All adults only houses done\n",
      "Distributing 463 people to CXB-219-012\n",
      "Parents done\n",
      "Kids done\n",
      "All multigen adults done\n",
      "All adults only houses done\n",
      "Distributing 418 people to CXB-219-013\n",
      "Parents done\n",
      "Kids done\n",
      "All multigen adults done\n",
      "All adults only houses done\n",
      "Distributing 461 people to CXB-219-014\n",
      "Parents done\n",
      "Kids done\n",
      "All multigen adults done\n",
      "All adults only houses done\n",
      "Distributing 383 people to CXB-219-017\n",
      "Parents done\n",
      "Kids done\n",
      "All multigen adults done\n",
      "All adults only houses done\n",
      "Distributing 416 people to CXB-219-020\n",
      "Parents done\n",
      "Kids done\n",
      "All multigen adults done\n",
      "All adults only houses done\n",
      "Distributing 426 people to CXB-219-021\n",
      "Parents done\n",
      "Kids done\n",
      "All multigen adults done\n",
      "All adults only houses done\n",
      "Distributing 414 people to CXB-219-022\n",
      "Parents done\n",
      "Kids done\n",
      "All multigen adults done\n",
      "All adults only houses done\n",
      "Distributing 383 people to CXB-219-024\n",
      "Parents done\n",
      "Kids done\n",
      "All multigen adults done\n",
      "All adults only houses done\n",
      "Distributing 378 people to CXB-219-025\n",
      "Parents done\n",
      "Kids done\n",
      "All multigen adults done\n",
      "All adults only houses done\n",
      "Distributing 379 people to CXB-219-026\n",
      "Parents done\n",
      "Kids done\n",
      "All multigen adults done\n",
      "All adults only houses done\n",
      "Distributing 413 people to CXB-219-027\n",
      "Parents done\n",
      "Kids done\n",
      "All multigen adults done\n",
      "All adults only houses done\n",
      "Distributing 392 people to CXB-219-028\n",
      "Parents done\n",
      "Kids done\n",
      "All multigen adults done\n",
      "All adults only houses done\n",
      "Distributing 331 people to CXB-219-029\n",
      "Parents done\n",
      "Kids done\n",
      "All multigen adults done\n",
      "All adults only houses done\n",
      "Distributing 459 people to CXB-219-030\n",
      "Parents done\n",
      "Kids done\n",
      "All multigen adults done\n",
      "All adults only houses done\n",
      "Distributing 394 people to CXB-219-032\n",
      "Parents done\n",
      "Kids done\n",
      "All multigen adults done\n",
      "All adults only houses done\n",
      "Distributing 339 people to CXB-219-033\n",
      "Parents done\n",
      "Kids done\n",
      "All multigen adults done\n",
      "All adults only houses done\n",
      "Distributing 373 people to CXB-219-034\n",
      "Parents done\n",
      "Kids done\n",
      "All multigen adults done\n",
      "All adults only houses done\n",
      "Distributing 259 people to CXB-219-036\n",
      "Parents done\n",
      "Kids done\n",
      "All multigen adults done\n",
      "All adults only houses done\n",
      "Distributing 455 people to CXB-219-037\n",
      "Parents done\n",
      "Kids done\n",
      "All multigen adults done\n",
      "All adults only houses done\n",
      "Distributing 459 people to CXB-219-038\n",
      "Parents done\n",
      "Kids done\n",
      "All multigen adults done\n",
      "All adults only houses done\n",
      "Distributing 488 people to CXB-219-039\n",
      "Parents done\n",
      "Kids done\n",
      "All multigen adults done\n",
      "All adults only houses done\n",
      "Distributing 175 people to CXB-219-040\n",
      "Parents done\n",
      "Kids done\n",
      "All multigen adults done\n",
      "All adults only houses done\n",
      "Distributing 330 people to CXB-219-041\n",
      "Parents done\n",
      "Kids done\n",
      "All multigen adults done\n",
      "All adults only houses done\n",
      "Distributing 398 people to CXB-219-042\n",
      "Parents done\n",
      "Kids done\n",
      "All multigen adults done\n",
      "All adults only houses done\n",
      "Distributing 398 people to CXB-219-043\n",
      "Parents done\n",
      "Kids done\n",
      "All multigen adults done\n",
      "All adults only houses done\n",
      "Distributing 368 people to CXB-219-044\n",
      "Parents done\n",
      "Kids done\n",
      "All multigen adults done\n",
      "All adults only houses done\n",
      "Distributing 430 people to CXB-219-045\n",
      "Parents done\n",
      "Kids done\n",
      "All multigen adults done\n",
      "All adults only houses done\n",
      "Distributing 450 people to CXB-219-046\n",
      "Parents done\n",
      "Kids done\n",
      "All multigen adults done\n",
      "All adults only houses done\n",
      "Distributing 244 people to CXB-219-047\n",
      "Parents done\n",
      "Kids done\n",
      "All multigen adults done\n",
      "All adults only houses done\n",
      "Distributing 311 people to CXB-219-048\n",
      "Parents done\n",
      "Kids done\n",
      "All multigen adults done\n",
      "All adults only houses done\n",
      "Distributing 335 people to CXB-219-049\n",
      "Parents done\n",
      "Kids done\n",
      "All multigen adults done\n",
      "All adults only houses done\n",
      "Distributing 206 people to CXB-219-050\n",
      "Parents done\n",
      "Kids done\n",
      "All multigen adults done\n",
      "All adults only houses done\n",
      "Distributing 343 people to CXB-219-051\n",
      "Parents done\n",
      "Kids done\n",
      "All multigen adults done\n",
      "All adults only houses done\n",
      "Distributing 347 people to CXB-219-052\n",
      "Parents done\n",
      "Kids done\n",
      "All multigen adults done\n",
      "All adults only houses done\n",
      "Distributing 534 people to CXB-219-053\n",
      "Parents done\n",
      "Kids done\n",
      "All multigen adults done\n",
      "All adults only houses done\n",
      "Distributing 381 people to CXB-219-054\n",
      "Parents done\n",
      "Kids done\n",
      "All multigen adults done\n",
      "All adults only houses done\n",
      "Distributing 254 people to CXB-219-055\n",
      "Parents done\n",
      "Kids done\n",
      "All multigen adults done\n",
      "All adults only houses done\n",
      "Distributing 274 people to CXB-219-056\n",
      "Parents done\n",
      "Kids done\n",
      "All multigen adults done\n",
      "All adults only houses done\n",
      "Distributing 246 people to CXB-219-057\n",
      "Parents done\n",
      "Kids done\n",
      "All multigen adults done\n",
      "All adults only houses done\n",
      "Distributing 376 people to CXB-219-058\n",
      "Parents done\n",
      "Kids done\n",
      "All multigen adults done\n",
      "All adults only houses done\n",
      "Distributing 342 people to CXB-219-059\n",
      "Parents done\n",
      "Kids done\n",
      "All multigen adults done\n",
      "All adults only houses done\n",
      "Distributing 331 people to CXB-219-060\n",
      "Parents done\n",
      "Kids done\n",
      "All multigen adults done\n",
      "All adults only houses done\n",
      "Distributing 413 people to CXB-219-061\n",
      "Parents done\n",
      "Kids done\n",
      "All multigen adults done\n",
      "All adults only houses done\n",
      "Distributing 258 people to CXB-219-062\n",
      "Parents done\n",
      "Kids done\n",
      "All multigen adults done\n",
      "All adults only houses done\n",
      "Distributing 286 people to CXB-219-063\n",
      "Parents done\n",
      "Kids done\n",
      "All multigen adults done\n",
      "All adults only houses done\n",
      "Distributing 194 people to CXB-219-064\n",
      "Parents done\n",
      "Kids done\n",
      "All multigen adults done\n",
      "All adults only houses done\n",
      "Distributing 212 people to CXB-219-065\n",
      "Parents done\n",
      "Kids done\n",
      "All multigen adults done\n",
      "All adults only houses done\n",
      "Distributing 330 people to CXB-219-066\n",
      "Parents done\n",
      "Kids done\n",
      "All multigen adults done\n",
      "All adults only houses done\n",
      "Distributing 314 people to CXB-219-067\n",
      "Parents done\n",
      "Kids done\n",
      "All multigen adults done\n",
      "All adults only houses done\n",
      "Distributing 386 people to CXB-219-068\n",
      "Parents done\n",
      "Kids done\n",
      "All multigen adults done\n",
      "All adults only houses done\n",
      "Distributing 552 people to CXB-219-069\n",
      "Parents done\n",
      "Kids done\n",
      "All multigen adults done\n",
      "All adults only houses done\n",
      "Distributing 320 people to CXB-219-070\n",
      "Parents done\n",
      "Kids done\n",
      "All multigen adults done\n",
      "All adults only houses done\n",
      "Distributing 215 people to CXB-219-071\n",
      "Parents done\n",
      "Kids done\n",
      "All multigen adults done\n",
      "All adults only houses done\n",
      "Distributing 312 people to CXB-234-001\n",
      "Parents done\n",
      "Kids done\n",
      "All multigen adults done\n",
      "All adults only houses done\n",
      "Distributing 276 people to CXB-234-002\n",
      "Parents done\n",
      "Kids done\n",
      "All multigen adults done\n",
      "All adults only houses done\n"
     ]
    }
   ],
   "source": [
    "# distribute people to households\n",
    "distribute_people_to_households(world)"
   ]
  },
  {
   "cell_type": "code",
   "execution_count": 9,
   "metadata": {},
   "outputs": [
    {
     "name": "stdout",
     "output_type": "stream",
     "text": [
      "2022-03-28 14:19:25,991 - hospitals - INFO - There are 8 hospitals in the world.\n"
     ]
    }
   ],
   "source": [
    "# distirbute hospitals\n",
    "hospitals = Hospitals.from_file(\n",
    "    filename=Hospitals_File_Path\n",
    ")\n",
    "for hospital in hospitals:\n",
    "    hospital.area = world.areas.get_closest_area(hospital.coordinates)\n",
    "world.hospitals = hospitals\n",
    "hospital_distributor = HospitalDistributor(\n",
    "    hospitals, medic_min_age=20, patients_per_medic=10\n",
    ")\n",
    "hospital_distributor.assign_closest_hospitals_to_super_areas(\n",
    "    world.super_areas\n",
    ")\n",
    "hospital_distributor.distribute_medics_from_world(world.people)"
   ]
  },
  {
   "cell_type": "code",
   "execution_count": 10,
   "metadata": {},
   "outputs": [
    {
     "name": "stdout",
     "output_type": "stream",
     "text": [
      "2022-03-28 14:19:26,112 - social_venue - INFO - Domain 0 has 225 pump_latrines(s)\n",
      "2022-03-28 14:19:26,300 - social_venue - INFO - Domain 0 has 543 play_groups(s)\n",
      "2022-03-28 14:19:26,333 - social_venue - INFO - Domain 0 has 7 distribution_centers(s)\n",
      "2022-03-28 14:19:26,419 - social_venue - INFO - Domain 0 has 125 communals(s)\n",
      "2022-03-28 14:19:26,475 - social_venue - INFO - Domain 0 has 67 female_communals(s)\n",
      "2022-03-28 14:19:27,173 - social_venue - INFO - Domain 0 has 2064 religiouss(s)\n",
      "2022-03-28 14:19:27,197 - social_venue - INFO - Domain 0 has 7 e_vouchers(s)\n",
      "2022-03-28 14:19:27,231 - social_venue - INFO - Domain 0 has 36 n_f_distribution_centers(s)\n"
     ]
    }
   ],
   "source": [
    "PumpLatrines.Get_Interaction(Interactions_File_Path)\n",
    "world.pump_latrines = PumpLatrines.for_areas(world.areas)\n",
    "\n",
    "PlayGroups.Get_Interaction(Interactions_File_Path)\n",
    "world.play_groups = PlayGroups.for_areas(world.areas)\n",
    "\n",
    "DistributionCenters.Get_Interaction(Interactions_File_Path)\n",
    "world.distribution_centers = DistributionCenters.for_areas(world.areas)\n",
    "\n",
    "Communals.Get_Interaction(Interactions_File_Path)\n",
    "world.communals = Communals.for_areas(world.areas)\n",
    "\n",
    "FemaleCommunals.Get_Interaction(Interactions_File_Path)\n",
    "world.female_communals = FemaleCommunals.for_areas(world.areas)\n",
    "\n",
    "Religiouss.Get_Interaction(Interactions_File_Path)\n",
    "world.religiouss = Religiouss.for_areas(world.areas)\n",
    "\n",
    "EVouchers.Get_Interaction(Interactions_File_Path)\n",
    "world.e_vouchers = EVouchers.for_areas(world.areas)\n",
    "\n",
    "NFDistributionCenters.Get_Interaction(Interactions_File_Path)\n",
    "world.n_f_distribution_centers = NFDistributionCenters.for_areas(world.areas)"
   ]
  },
  {
   "cell_type": "code",
   "execution_count": 11,
   "metadata": {},
   "outputs": [],
   "source": [
    "world.cemeteries = Cemeteries()"
   ]
  },
  {
   "cell_type": "markdown",
   "metadata": {},
   "source": [
    "## Geography exploration"
   ]
  },
  {
   "cell_type": "markdown",
   "metadata": {},
   "source": [
    "The geography is initialised first and can be explored."
   ]
  },
  {
   "cell_type": "markdown",
   "metadata": {},
   "source": [
    "### UNHCR camp blocks inside the World"
   ]
  },
  {
   "cell_type": "code",
   "execution_count": 12,
   "metadata": {},
   "outputs": [],
   "source": [
    "super_areas = []\n",
    "for super_area in world.super_areas:\n",
    "    super_areas.append(super_area.name)"
   ]
  },
  {
   "cell_type": "code",
   "execution_count": 13,
   "metadata": {},
   "outputs": [
    {
     "data": {
      "text/plain": [
       "['CXB-219-A', 'CXB-219-B', 'CXB-219-C', 'CXB-219-D']"
      ]
     },
     "execution_count": 13,
     "metadata": {},
     "output_type": "execute_result"
    }
   ],
   "source": [
    "super_areas[:5]"
   ]
  },
  {
   "cell_type": "markdown",
   "metadata": {},
   "source": [
    "### Mahjee blocks inside World"
   ]
  },
  {
   "cell_type": "code",
   "execution_count": 14,
   "metadata": {},
   "outputs": [],
   "source": [
    "areas = []\n",
    "for area in world.areas:\n",
    "    areas.append(area.name)"
   ]
  },
  {
   "cell_type": "code",
   "execution_count": 15,
   "metadata": {},
   "outputs": [
    {
     "data": {
      "text/plain": [
       "['CXB-219-001', 'CXB-219-002', 'CXB-219-003', 'CXB-219-004', 'CXB-219-005']"
      ]
     },
     "execution_count": 15,
     "metadata": {},
     "output_type": "execute_result"
    }
   ],
   "source": [
    "areas[:5]"
   ]
  },
  {
   "cell_type": "markdown",
   "metadata": {},
   "source": [
    "## Demography exploration"
   ]
  },
  {
   "cell_type": "markdown",
   "metadata": {},
   "source": [
    "Once we have populated the 'digital twin' we can explore some of the attributes of the people we have created in the simulation."
   ]
  },
  {
   "cell_type": "markdown",
   "metadata": {},
   "source": [
    "### UNHCR block residents"
   ]
  },
  {
   "cell_type": "code",
   "execution_count": 16,
   "metadata": {},
   "outputs": [],
   "source": [
    "sample_ages = []\n",
    "sample_sexes = []\n",
    "for person in world.super_areas.members[0].people:\n",
    "    sample_ages.append(person.age)\n",
    "    sample_sexes.append(person.sex)"
   ]
  },
  {
   "cell_type": "code",
   "execution_count": 17,
   "metadata": {},
   "outputs": [
    {
     "data": {
      "text/plain": [
       "(['m', 'f', 'f', 'f', 'm'], [52, 37, 57, 32, 54])"
      ]
     },
     "execution_count": 17,
     "metadata": {},
     "output_type": "execute_result"
    }
   ],
   "source": [
    "sample_sexes[:5], sample_ages[:5]"
   ]
  },
  {
   "cell_type": "code",
   "execution_count": 18,
   "metadata": {},
   "outputs": [
    {
     "data": {
      "image/png": "[encoded data removed]",
      "text/plain": [
       "<Figure size 432x288 with 1 Axes>"
      ]
     },
     "metadata": {
      "needs_background": "light"
     },
     "output_type": "display_data"
    }
   ],
   "source": [
    "ages, counts = np.unique(sample_ages, return_counts=True)\n",
    "plt.bar(ages, counts)\n",
    "plt.title('super area: {} age distribution'.format(world.super_areas.members[0].name))\n",
    "plt.show()"
   ]
  },
  {
   "cell_type": "code",
   "execution_count": 19,
   "metadata": {},
   "outputs": [
    {
     "name": "stdout",
     "output_type": "stream",
     "text": [
      "The % children between ages 0-16 is 49%\n"
     ]
    }
   ],
   "source": [
    "print ('The % children between ages 0-16 is {}%'.format(round(np.sum(counts[:16])/(np.sum(counts[:16])+np.sum(counts[16:]))*100)))"
   ]
  },
  {
   "cell_type": "markdown",
   "metadata": {},
   "source": [
    "## Households"
   ]
  },
  {
   "cell_type": "markdown",
   "metadata": {},
   "source": [
    "In this model, we will use the term 'family' and 'household' interchangeably. After populating the 'digital twin', we need to cluster people into families. To do this, we take account of age structure so that children live with adults, that there are some intergenerational households and such that we might also have some households of only adults."
   ]
  },
  {
   "cell_type": "markdown",
   "metadata": {},
   "source": [
    "### Household size distribution"
   ]
  },
  {
   "cell_type": "code",
   "execution_count": 20,
   "metadata": {},
   "outputs": [
    {
     "data": {
      "image/png": "[encoded data removed]",
      "text/plain": [
       "<Figure size 432x288 with 1 Axes>"
      ]
     },
     "metadata": {
      "needs_background": "light"
     },
     "output_type": "display_data"
    }
   ],
   "source": [
    "household_sizes = [household.size for household in world.households]\n",
    "plt.hist(household_sizes, density=True, bins=np.arange(0,12))\n",
    "plt.xlabel(\"Household size\")\n",
    "plt.ylabel(\"Frequency\")\n",
    "plt.axvline(np.mean(household_sizes), color=\"cyan\")\n",
    "plt.text(8, 0.150, f\"Avg. size: {(np.mean(household_sizes)):.2f}\")\n",
    "plt.show()"
   ]
  },
  {
   "cell_type": "markdown",
   "metadata": {},
   "source": [
    "# Shelters"
   ]
  },
  {
   "cell_type": "markdown",
   "metadata": {},
   "source": [
    "Shelters house people in the camp. Since we know that families (houseohlds) often share shelters with other families, we can set the `sharing_shelter_ratio` to cluster families into shared shelters."
   ]
  },
  {
   "cell_type": "code",
   "execution_count": 21,
   "metadata": {},
   "outputs": [],
   "source": [
    "world.shelters = Shelters.for_areas(world.areas)\n",
    "shelter_distributor = ShelterDistributor(sharing_shelter_ratio = 0.75) # proportion of families that share a shelter\n",
    "for area in world.areas:\n",
    "    shelter_distributor.distribute_people_in_shelters(area.shelters, area.households)"
   ]
  },
  {
   "cell_type": "code",
   "execution_count": 22,
   "metadata": {},
   "outputs": [
    {
     "data": {
      "image/png": "[encoded data removed]",
      "text/plain": [
       "<Figure size 576x216 with 2 Axes>"
      ]
     },
     "metadata": {
      "needs_background": "light"
     },
     "output_type": "display_data"
    }
   ],
   "source": [
    "fig, ax = plt.subplots(1, 2, figsize=(8,3))\n",
    "shelter_sizes = [shelter.size for shelter in world.shelters]\n",
    "shelter_families = [shelter.n_families for shelter in world.shelters]\n",
    "ax[0].hist(shelter_sizes)\n",
    "ax[0].set_title(\"Shelter size\")\n",
    "shelter_families = {1 : len([shelter for shelter in world.shelters if shelter.n_families == 1]),\n",
    "                    2 : len([shelter for shelter in world.shelters if shelter.n_families == 2])}\n",
    "ax[1].bar(shelter_families.keys(), shelter_families.values())\n",
    "ax[1].set_title(\"# families per shelter\")\n",
    "plt.show()"
   ]
  },
  {
   "cell_type": "markdown",
   "metadata": {},
   "source": [
    "## Activity exploration"
   ]
  },
  {
   "cell_type": "markdown",
   "metadata": {},
   "source": [
    "Once different activity locations are seeded in the 'digital twin' we can explore how many there are in different areas of the twin, and their coordinates to check they've all been added correctly."
   ]
  },
  {
   "cell_type": "markdown",
   "metadata": {},
   "source": [
    "### Pumps and latrines "
   ]
  },
  {
   "cell_type": "code",
   "execution_count": 23,
   "metadata": {},
   "outputs": [],
   "source": [
    "pumps_and_latrines = []\n",
    "for pump_latrine in world.areas.members[0].pump_latrines:\n",
    "    pumps_and_latrines.append(pump_latrine)"
   ]
  },
  {
   "cell_type": "code",
   "execution_count": 24,
   "metadata": {},
   "outputs": [
    {
     "name": "stdout",
     "output_type": "stream",
     "text": [
      "There are 4 pumps and latrines in area CXB-219-001\n"
     ]
    }
   ],
   "source": [
    "print ('There are {} pumps and latrines in area {}'.format(len(pumps_and_latrines), world.areas.members[0].name))"
   ]
  },
  {
   "cell_type": "markdown",
   "metadata": {},
   "source": [
    "### Distribution centers"
   ]
  },
  {
   "cell_type": "code",
   "execution_count": 25,
   "metadata": {},
   "outputs": [],
   "source": [
    "distribution_centers = []\n",
    "for center in world.distribution_centers:\n",
    "    distribution_centers.append(center)"
   ]
  },
  {
   "cell_type": "code",
   "execution_count": 26,
   "metadata": {},
   "outputs": [
    {
     "data": {
      "text/plain": [
       "array([21.21176333, 92.13597667])"
      ]
     },
     "execution_count": 26,
     "metadata": {},
     "output_type": "execute_result"
    }
   ],
   "source": [
    "distribution_centers[0].coordinates"
   ]
  },
  {
   "cell_type": "markdown",
   "metadata": {},
   "source": [
    "### Non-food Distribution centers"
   ]
  },
  {
   "cell_type": "code",
   "execution_count": 27,
   "metadata": {},
   "outputs": [],
   "source": [
    "non_food_distribution_centers = []\n",
    "for center in world.n_f_distribution_centers:\n",
    "    non_food_distribution_centers.append(center)"
   ]
  },
  {
   "cell_type": "code",
   "execution_count": 28,
   "metadata": {},
   "outputs": [
    {
     "data": {
      "text/plain": [
       "array([21.1962 , 92.14936])"
      ]
     },
     "execution_count": 28,
     "metadata": {},
     "output_type": "execute_result"
    }
   ],
   "source": [
    "non_food_distribution_centers[0].coordinates"
   ]
  },
  {
   "cell_type": "markdown",
   "metadata": {},
   "source": [
    "### E-Voucher outlets"
   ]
  },
  {
   "cell_type": "code",
   "execution_count": 29,
   "metadata": {},
   "outputs": [],
   "source": [
    "e_voucher_outlets = []\n",
    "for center in world.e_vouchers:\n",
    "    e_voucher_outlets.append(center)"
   ]
  },
  {
   "cell_type": "code",
   "execution_count": 30,
   "metadata": {},
   "outputs": [
    {
     "data": {
      "text/plain": [
       "array([21.21176333, 92.13597667])"
      ]
     },
     "execution_count": 30,
     "metadata": {},
     "output_type": "execute_result"
    }
   ],
   "source": [
    "e_voucher_outlets[0].coordinates"
   ]
  },
  {
   "cell_type": "markdown",
   "metadata": {},
   "source": [
    "### Communal spaces"
   ]
  },
  {
   "cell_type": "code",
   "execution_count": 31,
   "metadata": {},
   "outputs": [],
   "source": [
    "communal_spaces = []\n",
    "for space in world.communals:\n",
    "    communal_spaces.append(space)"
   ]
  },
  {
   "cell_type": "code",
   "execution_count": 32,
   "metadata": {},
   "outputs": [
    {
     "data": {
      "text/plain": [
       "array([21.19621, 92.14924])"
      ]
     },
     "execution_count": 32,
     "metadata": {},
     "output_type": "execute_result"
    }
   ],
   "source": [
    "communal_spaces[0].coordinates"
   ]
  },
  {
   "cell_type": "markdown",
   "metadata": {},
   "source": [
    "### Female friendly communal spaces"
   ]
  },
  {
   "cell_type": "code",
   "execution_count": 33,
   "metadata": {},
   "outputs": [],
   "source": [
    "female_communal_spaces = []\n",
    "for space in world.female_communals:\n",
    "    female_communal_spaces.append(space)"
   ]
  },
  {
   "cell_type": "code",
   "execution_count": 34,
   "metadata": {},
   "outputs": [
    {
     "data": {
      "text/plain": [
       "array([21.19588, 92.152  ])"
      ]
     },
     "execution_count": 34,
     "metadata": {},
     "output_type": "execute_result"
    }
   ],
   "source": [
    "female_communal_spaces[0].coordinates"
   ]
  },
  {
   "cell_type": "markdown",
   "metadata": {},
   "source": [
    "### Religious sites"
   ]
  },
  {
   "cell_type": "code",
   "execution_count": 35,
   "metadata": {},
   "outputs": [],
   "source": [
    "religious = []\n",
    "for rel in world.religiouss:\n",
    "    religious.append(rel)"
   ]
  },
  {
   "cell_type": "code",
   "execution_count": 36,
   "metadata": {},
   "outputs": [
    {
     "data": {
      "text/plain": [
       "array([21.20069, 92.15216])"
      ]
     },
     "execution_count": 36,
     "metadata": {},
     "output_type": "execute_result"
    }
   ],
   "source": [
    "religious[0].coordinates"
   ]
  },
  {
   "cell_type": "markdown",
   "metadata": {},
   "source": [
    "# Adding the infection"
   ]
  },
  {
   "cell_type": "markdown",
   "metadata": {},
   "source": [
    "The selector handles how infections are handled in the code. You can set different 'symptom trajectories' (e.g. exposed->mild->severe->hospitalised->intensive care) from different files. Here, we use the default."
   ]
  },
  {
   "cell_type": "code",
   "execution_count": 37,
   "metadata": {},
   "outputs": [],
   "source": [
    "selector = InfectionSelector.from_file()"
   ]
  },
  {
   "cell_type": "code",
   "execution_count": 38,
   "metadata": {},
   "outputs": [],
   "source": [
    "selectors = InfectionSelectors([selector])"
   ]
  },
  {
   "cell_type": "markdown",
   "metadata": {},
   "source": [
    "# Adding the interaction"
   ]
  },
  {
   "cell_type": "markdown",
   "metadata": {},
   "source": [
    "The interaction class handles how many contacts people have in different locations and with who. If contact matrices are available, these can be coded in a `.yaml` file and fed into the class here."
   ]
  },
  {
   "cell_type": "code",
   "execution_count": 39,
   "metadata": {},
   "outputs": [],
   "source": [
    "interaction = Interaction.from_file(\n",
    "    config_filename=Interactions_File_Path,\n",
    ")"
   ]
  },
  {
   "cell_type": "markdown",
   "metadata": {},
   "source": [
    "# Set policies"
   ]
  },
  {
   "cell_type": "markdown",
   "metadata": {},
   "source": [
    "Policies control how 'operational interventions' are set in the camp. Here we set some social distancing policies, policies relating to medical care, such as people with severe symptoms being hospitalised, and individual and activity policies which can dynamically change how often and where people go, e.g. here, we close all female communal spaces and non-food distirbution centers which the camp did back in March"
   ]
  },
  {
   "cell_type": "code",
   "execution_count": 40,
   "metadata": {},
   "outputs": [],
   "source": [
    "policies = Policies.from_file(\n",
    "        Policies_File_Path,\n",
    "        base_policy_modules=(\"june.policy\", \"camps.policy\"),\n",
    "    )"
   ]
  },
  {
   "cell_type": "code",
   "execution_count": 41,
   "metadata": {},
   "outputs": [
    {
     "data": {
      "text/plain": [
       "[<june.policy.interaction_policies.SocialDistancing at 0x7fc20dbd17c0>,\n",
       " <june.policy.medical_care_policies.Hospitalisation at 0x7fc20dbd1a30>,\n",
       " <june.policy.individual_policies.SevereSymptomsStayHome at 0x7fc20dbd1760>,\n",
       " <june.policy.individual_policies.Quarantine at 0x7fc20dbd1ca0>]"
      ]
     },
     "execution_count": 41,
     "metadata": {},
     "output_type": "execute_result"
    }
   ],
   "source": [
    "policies.policies"
   ]
  },
  {
   "cell_type": "markdown",
   "metadata": {},
   "source": [
    "# Seed the disease"
   ]
  },
  {
   "cell_type": "markdown",
   "metadata": {},
   "source": [
    "Set intial seeding conditions. This can be done at the camp level specifically, or generally by seeding them randomly. Here the `n_cases` is the number of randomly seeded people over the entire population."
   ]
  },
  {
   "cell_type": "code",
   "execution_count": 42,
   "metadata": {},
   "outputs": [],
   "source": [
    "infection_seed = InfectionSeed.from_uniform_cases(\n",
    "    world=world, infection_selector=selector, cases_per_capita=0.01, date=\"2020-05-24\", seed_past_infections=False,\n",
    ")"
   ]
  },
  {
   "cell_type": "code",
   "execution_count": 43,
   "metadata": {},
   "outputs": [],
   "source": [
    "infection_seeds = InfectionSeeds([infection_seed])"
   ]
  },
  {
   "cell_type": "code",
   "execution_count": 44,
   "metadata": {},
   "outputs": [],
   "source": [
    "immunity_setter = ImmunitySetter.from_file_with_comorbidities(\n",
    "    comorbidity_multipliers_path= comorbidity_multipliers_path,\n",
    "    male_comorbidity_reference_prevalence_path= male_comorbidity_reference_prevalence_path,\n",
    "    female_comorbidity_reference_prevalence_path = female_comorbidity_reference_prevalence_path,   \n",
    ")"
   ]
  },
  {
   "cell_type": "code",
   "execution_count": 45,
   "metadata": {},
   "outputs": [],
   "source": [
    "epidemiology = Epidemiology(\n",
    "    infection_selectors=selectors,\n",
    "    infection_seeds=infection_seeds,\n",
    "    immunity_setter=immunity_setter,\n",
    ")"
   ]
  },
  {
   "cell_type": "markdown",
   "metadata": {},
   "source": [
    "## Select config file"
   ]
  },
  {
   "cell_type": "markdown",
   "metadata": {},
   "source": [
    "Before running the simualtion we must select the config file which defines how the world is set up and the simualtor will work. Specifically, the condif file specifies which activities will be included, how long we'll run the simualtion for, what the initial starting day will be and what the structure of weekdays and weekends will look like (if different)"
   ]
  },
  {
   "cell_type": "code",
   "execution_count": 46,
   "metadata": {},
   "outputs": [],
   "source": [
    "CONFIG_PATH = Config_File_Path"
   ]
  },
  {
   "cell_type": "markdown",
   "metadata": {},
   "source": [
    "# Initialise activities"
   ]
  },
  {
   "cell_type": "markdown",
   "metadata": {},
   "source": [
    "The final step to intialising the simulator class which brings all of this together is to inialise all the activity distirbutors (the term 'leisure' is a legacy of the original version of this code used for modelling COVID-19 in the UK). This will mean that people know where they can go at and given time."
   ]
  },
  {
   "cell_type": "code",
   "execution_count": 47,
   "metadata": {},
   "outputs": [
    {
     "name": "stdout",
     "output_type": "stream",
     "text": [
      "2022-03-28 14:19:28,687 - leisure - INFO - Linking households and care homes for visits\n",
      "2022-03-28 14:19:28,688 - leisure - INFO - Done\n",
      "2022-03-28 14:19:28,688 - leisure - INFO - Distributing social venues to areas\n",
      "2022-03-28 14:19:28,689 - leisure - INFO - Distributed in 0 of 65 areas.\n",
      "2022-03-28 14:19:28,773 - leisure - INFO - Distributed in 65 of 65 areas.\n"
     ]
    }
   ],
   "source": [
    "leisure = generate_leisure_for_config(world=world, config_filename=CONFIG_PATH)\n",
    "leisure.leisure_distributors = {}\n",
    "leisure.leisure_distributors[\"pump_latrine\"] = PumpLatrineDistributor.from_config(\n",
    "    world.pump_latrines\n",
    ")\n",
    "leisure.leisure_distributors[\"play_group\"] = PlayGroupDistributor.from_config(\n",
    "    world.play_groups\n",
    ")\n",
    "leisure.leisure_distributors[\n",
    "    \"distribution_center\"\n",
    "] = DistributionCenterDistributor.from_config(world.distribution_centers)\n",
    "leisure.leisure_distributors[\"communal\"] = CommunalDistributor.from_config(\n",
    "    world.communals\n",
    ")\n",
    "leisure.leisure_distributors[\n",
    "    \"female_communal\"\n",
    "] = FemaleCommunalDistributor.from_config(world.female_communals)\n",
    "leisure.leisure_distributors[\"religious\"] = ReligiousDistributor.from_config(\n",
    "    world.religiouss\n",
    ")\n",
    "leisure.leisure_distributors[\"e_voucher\"] = EVoucherDistributor.from_config(\n",
    "    world.e_vouchers\n",
    ")\n",
    "leisure.leisure_distributors[\n",
    "    \"n_f_distribution_center\"\n",
    "] = NFDistributionCenterDistributor.from_config(world.n_f_distribution_centers)\n",
    "leisure.leisure_distributors[\n",
    "    \"shelters_visits\"\n",
    "] = SheltersVisitsDistributor.from_config()\n",
    "leisure.leisure_distributors[\"shelters_visits\"].link_shelters_to_shelters(\n",
    "    world.super_areas\n",
    ")\n",
    "# associate social activities to shelters\n",
    "leisure.distribute_social_venues_to_areas(world.areas, world.super_areas)"
   ]
  },
  {
   "cell_type": "markdown",
   "metadata": {},
   "source": [
    "# Initialise simulator and run"
   ]
  },
  {
   "cell_type": "markdown",
   "metadata": {},
   "source": [
    "The recorder is defined which will log all interactions and infections in the simualation for later analysis. The `record_path` can be changed to any path where you want the recorded data to be stored."
   ]
  },
  {
   "cell_type": "code",
   "execution_count": 48,
   "metadata": {},
   "outputs": [],
   "source": [
    "record = Record(\n",
    "    record_path=Results_Path, \n",
    "    record_static_data=True\n",
    ")\n"
   ]
  },
  {
   "cell_type": "markdown",
   "metadata": {},
   "source": [
    "The simulator is defined with all the different necessary components we have built up so far"
   ]
  },
  {
   "cell_type": "code",
   "execution_count": 54,
   "metadata": {},
   "outputs": [],
   "source": [
    "Simulator.ActivityManager = CampActivityManager\n",
    "simulator = Simulator.from_file(\n",
    "    world=world,\n",
    "    interaction=interaction,\n",
    "    tracker=None,\n",
    "    leisure=leisure,\n",
    "    policies=policies,\n",
    "    config_filename=CONFIG_PATH,\n",
    "    epidemiology=epidemiology,\n",
    "    record=record,\n",
    ")"
   ]
  },
  {
   "cell_type": "markdown",
   "metadata": {},
   "source": [
    "Finally we can run a small simualation"
   ]
  },
  {
   "cell_type": "code",
   "execution_count": 55,
   "metadata": {
    "scrolled": true
   },
   "outputs": [
    {
     "name": "stdout",
     "output_type": "stream",
     "text": [
      "2022-03-28 14:20:28,262 - simulator - INFO - Starting simulation for 3 days at day 2020-05-24 00:00:00,to run for 3 days\n",
      "2022-03-28 14:20:28,316 - rank - INFO - Next timestep\n",
      "2022-03-28 14:20:28,316 - simulator - INFO - ==================== timestep ====================\n",
      "2022-03-28 14:20:28,436 - rank - INFO - Rank 0 -- move_people -- 0.11885837498994078\n",
      "2022-03-28 14:20:28,436 - rank - INFO - Rank 0 -- move_people_waiting -- 5.102003342472017e-06\n",
      "2022-03-28 14:20:28,436 - activity_manager - INFO - CMS: People COMS for rank 0/1 - 2.1559972083196044e-06,1.9073486328125e-06 - 2020-05-24 00:00:00\n",
      "2022-03-28 14:20:28,441 - simulator - INFO - Info for rank 0, Date = 2020-05-24 00:00:00, number of deaths =  0, number of infected = 456\n",
      "2022-03-28 14:20:28,504 - rank - INFO - Rank 0 -- interaction -- 0.06774042699544225\n",
      "2022-03-28 14:20:28,512 - epidemiology - INFO - CMS: Infection COMS-v2 for rank 0/1(2)0.0002679919998627156,0.00026726722717285156 - 2020-05-24 00:00:00\n",
      "2022-03-28 14:20:28,684 - rank - INFO - Rank 0 -- interaction_waiting -- 7.547001587226987e-06\n",
      "2022-03-28 14:20:28,699 - simulator - INFO - CMS: Timestep for rank 0/1 - 0.014555856003426015,0.014556169509887695 - 2020-05-24 00:00:00\n",
      "\n",
      "2022-03-28 14:20:28,699 - rank - INFO - Next timestep\n",
      "2022-03-28 14:20:28,700 - simulator - INFO - ==================== timestep ====================\n",
      "2022-03-28 14:20:29,295 - rank - INFO - Rank 0 -- move_people -- 0.5935129369900096\n",
      "2022-03-28 14:20:29,295 - rank - INFO - Rank 0 -- move_people_waiting -- 5.506008164957166e-06\n",
      "2022-03-28 14:20:29,296 - activity_manager - INFO - CMS: People COMS for rank 0/1 - 2.282002242282033e-06,1.9073486328125e-06 - 2020-05-24 03:00:00\n",
      "2022-03-28 14:20:29,299 - simulator - INFO - Info for rank 0, Date = 2020-05-24 03:00:00, number of deaths =  0, number of infected = 474\n",
      "2022-03-28 14:20:29,405 - rank - INFO - Rank 0 -- interaction -- 0.10841818600601982\n",
      "2022-03-28 14:20:29,407 - epidemiology - INFO - CMS: Infection COMS-v2 for rank 0/1(2)0.0007948589918669313,0.0007946491241455078 - 2020-05-24 03:00:00\n",
      "2022-03-28 14:20:29,439 - rank - INFO - Rank 0 -- interaction_waiting -- 4.786008503288031e-06\n",
      "2022-03-28 14:20:29,449 - simulator - INFO - CMS: Timestep for rank 0/1 - 0.010029805998783559,0.010030508041381836 - 2020-05-24 03:00:00\n",
      "\n",
      "2022-03-28 14:20:29,450 - rank - INFO - Next timestep\n",
      "2022-03-28 14:20:29,450 - simulator - INFO - ==================== timestep ====================\n",
      "2022-03-28 14:20:29,987 - rank - INFO - Rank 0 -- move_people -- 0.5361308319988893\n",
      "2022-03-28 14:20:29,988 - rank - INFO - Rank 0 -- move_people_waiting -- 7.018999895080924e-06\n",
      "2022-03-28 14:20:29,988 - activity_manager - INFO - CMS: People COMS for rank 0/1 - 3.1189993023872375e-06,3.0994415283203125e-06 - 2020-05-24 05:00:00\n",
      "2022-03-28 14:20:29,992 - simulator - INFO - Info for rank 0, Date = 2020-05-24 05:00:00, number of deaths =  0, number of infected = 476\n",
      "2022-03-28 14:20:30,088 - rank - INFO - Rank 0 -- interaction -- 0.09905651699227747\n",
      "2022-03-28 14:20:30,090 - epidemiology - INFO - CMS: Infection COMS-v2 for rank 0/1(2)0.00022439099848270416,0.00022411346435546875 - 2020-05-24 05:00:00\n",
      "2022-03-28 14:20:30,121 - rank - INFO - Rank 0 -- interaction_waiting -- 8.291011909022927e-06\n",
      "2022-03-28 14:20:30,131 - simulator - INFO - CMS: Timestep for rank 0/1 - 0.010336568011553027,0.01033639907836914 - 2020-05-24 05:00:00\n",
      "\n",
      "2022-03-28 14:20:30,132 - rank - INFO - Next timestep\n",
      "2022-03-28 14:20:30,133 - simulator - INFO - ==================== timestep ====================\n",
      "2022-03-28 14:20:30,642 - rank - INFO - Rank 0 -- move_people -- 0.5086925839859759\n",
      "2022-03-28 14:20:30,642 - rank - INFO - Rank 0 -- move_people_waiting -- 5.089998012408614e-06\n",
      "2022-03-28 14:20:30,643 - activity_manager - INFO - CMS: People COMS for rank 0/1 - 2.706001396290958e-06,2.6226043701171875e-06 - 2020-05-24 07:00:00\n",
      "2022-03-28 14:20:30,647 - simulator - INFO - Info for rank 0, Date = 2020-05-24 07:00:00, number of deaths =  0, number of infected = 479\n",
      "2022-03-28 14:20:30,738 - rank - INFO - Rank 0 -- interaction -- 0.09471459500491619\n",
      "2022-03-28 14:20:30,742 - epidemiology - INFO - CMS: Infection COMS-v2 for rank 0/1(2)0.0006898959982208908,0.0006899833679199219 - 2020-05-24 07:00:00\n",
      "2022-03-28 14:20:30,772 - rank - INFO - Rank 0 -- interaction_waiting -- 5.6910066632553935e-06\n",
      "2022-03-28 14:20:30,783 - simulator - INFO - CMS: Timestep for rank 0/1 - 0.011395574998459779,0.011395692825317383 - 2020-05-24 07:00:00\n",
      "\n",
      "2022-03-28 14:20:30,784 - rank - INFO - Next timestep\n",
      "2022-03-28 14:20:30,785 - simulator - INFO - ==================== timestep ====================\n",
      "2022-03-28 14:20:31,297 - rank - INFO - Rank 0 -- move_people -- 0.5122384510032134\n",
      "2022-03-28 14:20:31,298 - rank - INFO - Rank 0 -- move_people_waiting -- 5.102992872707546e-06\n",
      "2022-03-28 14:20:31,298 - activity_manager - INFO - CMS: People COMS for rank 0/1 - 3.1569943530485034e-06,2.6226043701171875e-06 - 2020-05-24 09:00:00\n",
      "2022-03-28 14:20:31,303 - simulator - INFO - Info for rank 0, Date = 2020-05-24 09:00:00, number of deaths =  0, number of infected = 486\n",
      "2022-03-28 14:20:31,405 - rank - INFO - Rank 0 -- interaction -- 0.10636079499090556\n",
      "2022-03-28 14:20:31,406 - epidemiology - INFO - CMS: Infection COMS-v2 for rank 0/1(2)0.0006702060054522008,0.0006701946258544922 - 2020-05-24 09:00:00\n",
      "2022-03-28 14:20:31,446 - rank - INFO - Rank 0 -- interaction_waiting -- 7.601993274874985e-06\n",
      "2022-03-28 14:20:31,457 - simulator - INFO - CMS: Timestep for rank 0/1 - 0.010592416991130449,0.01059269905090332 - 2020-05-24 09:00:00\n",
      "\n",
      "2022-03-28 14:20:31,458 - rank - INFO - Next timestep\n",
      "2022-03-28 14:20:31,458 - simulator - INFO - ==================== timestep ====================\n",
      "2022-03-28 14:20:31,616 - rank - INFO - Rank 0 -- move_people -- 0.1569802400044864\n",
      "2022-03-28 14:20:31,617 - rank - INFO - Rank 0 -- move_people_waiting -- 4.925008397549391e-06\n",
      "2022-03-28 14:20:31,617 - activity_manager - INFO - CMS: People COMS for rank 0/1 - 3.82200232706964e-06,3.5762786865234375e-06 - 2020-05-24 11:00:00\n",
      "2022-03-28 14:20:31,623 - simulator - INFO - Info for rank 0, Date = 2020-05-24 11:00:00, number of deaths =  0, number of infected = 486\n",
      "2022-03-28 14:20:31,693 - rank - INFO - Rank 0 -- interaction -- 0.07512156300072093\n",
      "2022-03-28 14:20:31,699 - epidemiology - INFO - CMS: Infection COMS-v2 for rank 0/1(2)0.0002643769985297695,0.0002644062042236328 - 2020-05-24 11:00:00\n",
      "2022-03-28 14:20:31,732 - rank - INFO - Rank 0 -- interaction_waiting -- 5.37400774192065e-06\n",
      "2022-03-28 14:20:31,744 - simulator - INFO - CMS: Timestep for rank 0/1 - 0.011251313000684604,0.011251688003540039 - 2020-05-24 11:00:00\n",
      "\n",
      "2022-03-28 14:20:31,745 - rank - INFO - Next timestep\n",
      "2022-03-28 14:20:31,746 - simulator - INFO - ==================== timestep ====================\n",
      "2022-03-28 14:20:31,874 - rank - INFO - Rank 0 -- move_people -- 0.1276057340000989\n",
      "2022-03-28 14:20:31,874 - rank - INFO - Rank 0 -- move_people_waiting -- 5.370995495468378e-06\n",
      "2022-03-28 14:20:31,875 - activity_manager - INFO - CMS: People COMS for rank 0/1 - 2.3709872039034963e-06,2.1457672119140625e-06 - 2020-05-25 00:00:00\n",
      "2022-03-28 14:20:31,878 - simulator - INFO - Info for rank 0, Date = 2020-05-25 00:00:00, number of deaths =  0, number of infected = 500\n",
      "2022-03-28 14:20:31,937 - rank - INFO - Rank 0 -- interaction -- 0.0617116450011963\n",
      "2022-03-28 14:20:31,939 - epidemiology - INFO - CMS: Infection COMS-v2 for rank 0/1(2)0.00020043400581926107,0.00020003318786621094 - 2020-05-25 00:00:00\n",
      "2022-03-28 14:20:31,977 - rank - INFO - Rank 0 -- interaction_waiting -- 6.936999852769077e-06\n",
      "2022-03-28 14:20:31,989 - simulator - INFO - CMS: Timestep for rank 0/1 - 0.011694489003275521,0.011694908142089844 - 2020-05-25 00:00:00\n",
      "\n",
      "2022-03-28 14:20:31,990 - rank - INFO - Next timestep\n",
      "2022-03-28 14:20:31,991 - simulator - INFO - ==================== timestep ====================\n",
      "2022-03-28 14:20:32,539 - rank - INFO - Rank 0 -- move_people -- 0.5476786220096983\n",
      "2022-03-28 14:20:32,540 - rank - INFO - Rank 0 -- move_people_waiting -- 5.723995855078101e-06\n",
      "2022-03-28 14:20:32,540 - activity_manager - INFO - CMS: People COMS for rank 0/1 - 2.5730114430189133e-06,2.384185791015625e-06 - 2020-05-25 02:00:00\n"
     ]
    },
    {
     "name": "stdout",
     "output_type": "stream",
     "text": [
      "2022-03-28 14:20:32,546 - simulator - INFO - Info for rank 0, Date = 2020-05-25 02:00:00, number of deaths =  0, number of infected = 505\n",
      "2022-03-28 14:20:32,664 - rank - INFO - Rank 0 -- interaction -- 0.12387485199724324\n",
      "2022-03-28 14:20:32,667 - epidemiology - INFO - CMS: Infection COMS-v2 for rank 0/1(2)0.0006723650003550574,0.0006723403930664062 - 2020-05-25 02:00:00\n",
      "2022-03-28 14:20:32,695 - rank - INFO - Rank 0 -- interaction_waiting -- 5.933994543738663e-06\n",
      "2022-03-28 14:20:32,705 - simulator - INFO - CMS: Timestep for rank 0/1 - 0.009680641000159085,0.009681224822998047 - 2020-05-25 02:00:00\n",
      "\n",
      "2022-03-28 14:20:32,707 - rank - INFO - Next timestep\n",
      "2022-03-28 14:20:32,707 - simulator - INFO - ==================== timestep ====================\n",
      "2022-03-28 14:20:33,275 - rank - INFO - Rank 0 -- move_people -- 0.5675312310049776\n",
      "2022-03-28 14:20:33,276 - rank - INFO - Rank 0 -- move_people_waiting -- 3.7949939724057913e-06\n",
      "2022-03-28 14:20:33,276 - activity_manager - INFO - CMS: People COMS for rank 0/1 - 2.8520007617771626e-06,2.86102294921875e-06 - 2020-05-25 04:00:00\n",
      "2022-03-28 14:20:33,281 - simulator - INFO - Info for rank 0, Date = 2020-05-25 04:00:00, number of deaths =  0, number of infected = 511\n",
      "2022-03-28 14:20:33,446 - rank - INFO - Rank 0 -- interaction -- 0.16937641000549775\n",
      "2022-03-28 14:20:33,449 - epidemiology - INFO - CMS: Infection COMS-v2 for rank 0/1(2)0.0005359609931474552,0.0005357265472412109 - 2020-05-25 04:00:00\n",
      "2022-03-28 14:20:33,485 - rank - INFO - Rank 0 -- interaction_waiting -- 1.76030007423833e-05\n",
      "2022-03-28 14:20:33,498 - simulator - INFO - CMS: Timestep for rank 0/1 - 0.012567423997097649,0.01256704330444336 - 2020-05-25 04:00:00\n",
      "\n",
      "2022-03-28 14:20:33,500 - rank - INFO - Next timestep\n",
      "2022-03-28 14:20:33,501 - simulator - INFO - ==================== timestep ====================\n",
      "2022-03-28 14:20:34,076 - rank - INFO - Rank 0 -- move_people -- 0.5748232259938959\n",
      "2022-03-28 14:20:34,077 - rank - INFO - Rank 0 -- move_people_waiting -- 6.196001777425408e-06\n",
      "2022-03-28 14:20:34,077 - activity_manager - INFO - CMS: People COMS for rank 0/1 - 2.374988980591297e-06,2.1457672119140625e-06 - 2020-05-25 06:00:00\n",
      "2022-03-28 14:20:34,080 - simulator - INFO - Info for rank 0, Date = 2020-05-25 06:00:00, number of deaths =  0, number of infected = 515\n",
      "2022-03-28 14:20:34,200 - rank - INFO - Rank 0 -- interaction -- 0.12294177699368447\n",
      "2022-03-28 14:20:34,203 - epidemiology - INFO - CMS: Infection COMS-v2 for rank 0/1(2)0.0006400980055332184,0.0006399154663085938 - 2020-05-25 06:00:00\n",
      "2022-03-28 14:20:34,232 - rank - INFO - Rank 0 -- interaction_waiting -- 7.606999133713543e-06\n",
      "2022-03-28 14:20:34,242 - simulator - INFO - CMS: Timestep for rank 0/1 - 0.010078267005155794,0.010078668594360352 - 2020-05-25 06:00:00\n",
      "\n",
      "2022-03-28 14:20:34,244 - rank - INFO - Next timestep\n",
      "2022-03-28 14:20:34,244 - simulator - INFO - ==================== timestep ====================\n",
      "2022-03-28 14:20:34,741 - rank - INFO - Rank 0 -- move_people -- 0.49554128499585204\n",
      "2022-03-28 14:20:34,742 - rank - INFO - Rank 0 -- move_people_waiting -- 5.256006261333823e-06\n",
      "2022-03-28 14:20:34,742 - activity_manager - INFO - CMS: People COMS for rank 0/1 - 2.3710017558187246e-06,1.9073486328125e-06 - 2020-05-25 08:00:00\n",
      "2022-03-28 14:20:34,745 - simulator - INFO - Info for rank 0, Date = 2020-05-25 08:00:00, number of deaths =  0, number of infected = 519\n",
      "2022-03-28 14:20:34,846 - rank - INFO - Rank 0 -- interaction -- 0.10354350999114104\n",
      "2022-03-28 14:20:34,849 - epidemiology - INFO - CMS: Infection COMS-v2 for rank 0/1(2)0.0002121500001521781,0.0002117156982421875 - 2020-05-25 08:00:00\n",
      "2022-03-28 14:20:34,880 - rank - INFO - Rank 0 -- interaction_waiting -- 5.353998858481646e-06\n",
      "2022-03-28 14:20:34,891 - simulator - INFO - CMS: Timestep for rank 0/1 - 0.010661237000022084,0.010661602020263672 - 2020-05-25 08:00:00\n",
      "\n",
      "2022-03-28 14:20:34,893 - rank - INFO - Next timestep\n",
      "2022-03-28 14:20:34,894 - simulator - INFO - ==================== timestep ====================\n",
      "2022-03-28 14:20:35,016 - rank - INFO - Rank 0 -- move_people -- 0.12221732499892823\n",
      "2022-03-28 14:20:35,017 - rank - INFO - Rank 0 -- move_people_waiting -- 6.403002771548927e-06\n",
      "2022-03-28 14:20:35,017 - activity_manager - INFO - CMS: People COMS for rank 0/1 - 3.096007276326418e-06,3.0994415283203125e-06 - 2020-05-25 10:00:00\n",
      "2022-03-28 14:20:35,022 - simulator - INFO - Info for rank 0, Date = 2020-05-25 10:00:00, number of deaths =  0, number of infected = 526\n",
      "2022-03-28 14:20:35,090 - rank - INFO - Rank 0 -- interaction -- 0.07222580700181425\n",
      "2022-03-28 14:20:35,106 - epidemiology - INFO - CMS: Infection COMS-v2 for rank 0/1(2)0.0002354850003030151,0.00023508071899414062 - 2020-05-25 10:00:00\n",
      "2022-03-28 14:20:35,133 - rank - INFO - Rank 0 -- interaction_waiting -- 5.192996468394995e-06\n",
      "2022-03-28 14:20:35,143 - simulator - INFO - CMS: Timestep for rank 0/1 - 0.009958139999071136,0.009958267211914062 - 2020-05-25 10:00:00\n",
      "\n",
      "2022-03-28 14:20:35,145 - rank - INFO - Next timestep\n",
      "2022-03-28 14:20:35,146 - simulator - INFO - ==================== timestep ====================\n",
      "2022-03-28 14:20:35,276 - rank - INFO - Rank 0 -- move_people -- 0.12919580399466213\n",
      "2022-03-28 14:20:35,276 - rank - INFO - Rank 0 -- move_people_waiting -- 5.797992344014347e-06\n",
      "2022-03-28 14:20:35,277 - activity_manager - INFO - CMS: People COMS for rank 0/1 - 4.065004759468138e-06,3.5762786865234375e-06 - 2020-05-26 00:00:00\n",
      "2022-03-28 14:20:35,282 - simulator - INFO - Info for rank 0, Date = 2020-05-26 00:00:00, number of deaths =  0, number of infected = 566\n",
      "2022-03-28 14:20:35,345 - rank - INFO - Rank 0 -- interaction -- 0.06726937500934582\n",
      "2022-03-28 14:20:35,350 - epidemiology - INFO - CMS: Infection COMS-v2 for rank 0/1(2)0.0006772229971829802,0.0006773471832275391 - 2020-05-26 00:00:00\n",
      "2022-03-28 14:20:35,381 - rank - INFO - Rank 0 -- interaction_waiting -- 6.151007255539298e-06\n",
      "2022-03-28 14:20:35,391 - simulator - INFO - CMS: Timestep for rank 0/1 - 0.010043292000773363,0.010043859481811523 - 2020-05-26 00:00:00\n",
      "\n",
      "2022-03-28 14:20:35,393 - rank - INFO - Next timestep\n",
      "2022-03-28 14:20:35,393 - simulator - INFO - ==================== timestep ====================\n",
      "2022-03-28 14:20:35,963 - rank - INFO - Rank 0 -- move_people -- 0.5689086789934663\n",
      "2022-03-28 14:20:35,963 - rank - INFO - Rank 0 -- move_people_waiting -- 3.755994839593768e-06\n",
      "2022-03-28 14:20:35,964 - activity_manager - INFO - CMS: People COMS for rank 0/1 - 2.630986273288727e-06,2.6226043701171875e-06 - 2020-05-26 02:00:00\n",
      "2022-03-28 14:20:35,968 - simulator - INFO - Info for rank 0, Date = 2020-05-26 02:00:00, number of deaths =  0, number of infected = 576\n",
      "2022-03-28 14:20:36,096 - rank - INFO - Rank 0 -- interaction -- 0.13187538900820073\n",
      "2022-03-28 14:20:36,100 - epidemiology - INFO - CMS: Infection COMS-v2 for rank 0/1(2)0.00027230400883127004,0.0002722740173339844 - 2020-05-26 02:00:00\n",
      "2022-03-28 14:20:36,132 - rank - INFO - Rank 0 -- interaction_waiting -- 6.2850012909621e-06\n",
      "2022-03-28 14:20:36,142 - simulator - INFO - CMS: Timestep for rank 0/1 - 0.010437849996378645,0.010438919067382812 - 2020-05-26 02:00:00\n",
      "\n",
      "2022-03-28 14:20:36,144 - rank - INFO - Next timestep\n",
      "2022-03-28 14:20:36,145 - simulator - INFO - ==================== timestep ====================\n",
      "2022-03-28 14:20:36,705 - rank - INFO - Rank 0 -- move_people -- 0.5591713709873147\n",
      "2022-03-28 14:20:36,705 - rank - INFO - Rank 0 -- move_people_waiting -- 5.608002538792789e-06\n",
      "2022-03-28 14:20:36,706 - activity_manager - INFO - CMS: People COMS for rank 0/1 - 2.387008862569928e-06,2.384185791015625e-06 - 2020-05-26 04:00:00\n",
      "2022-03-28 14:20:36,709 - simulator - INFO - Info for rank 0, Date = 2020-05-26 04:00:00, number of deaths =  0, number of infected = 584\n",
      "2022-03-28 14:20:36,824 - rank - INFO - Rank 0 -- interaction -- 0.11769404100778047\n",
      "2022-03-28 14:20:36,828 - epidemiology - INFO - CMS: Infection COMS-v2 for rank 0/1(2)0.00018135599384550005,0.00018143653869628906 - 2020-05-26 04:00:00\n",
      "2022-03-28 14:20:36,930 - rank - INFO - Rank 0 -- interaction_waiting -- 9.32299008127302e-06\n",
      "2022-03-28 14:20:36,942 - simulator - INFO - CMS: Timestep for rank 0/1 - 0.012452882991055958,0.012452363967895508 - 2020-05-26 04:00:00\n",
      "\n"
     ]
    },
    {
     "name": "stdout",
     "output_type": "stream",
     "text": [
      "2022-03-28 14:20:36,944 - rank - INFO - Next timestep\n",
      "2022-03-28 14:20:36,946 - simulator - INFO - ==================== timestep ====================\n",
      "2022-03-28 14:20:37,576 - rank - INFO - Rank 0 -- move_people -- 0.6298900789988693\n",
      "2022-03-28 14:20:37,577 - rank - INFO - Rank 0 -- move_people_waiting -- 5.0539965741336346e-06\n",
      "2022-03-28 14:20:37,577 - activity_manager - INFO - CMS: People COMS for rank 0/1 - 2.134998794645071e-06,1.9073486328125e-06 - 2020-05-26 06:00:00\n",
      "2022-03-28 14:20:37,581 - simulator - INFO - Info for rank 0, Date = 2020-05-26 06:00:00, number of deaths =  0, number of infected = 598\n",
      "2022-03-28 14:20:37,701 - rank - INFO - Rank 0 -- interaction -- 0.1238850909867324\n",
      "2022-03-28 14:20:37,706 - epidemiology - INFO - CMS: Infection COMS-v2 for rank 0/1(2)0.0001812190021155402,0.00018095970153808594 - 2020-05-26 06:00:00\n",
      "2022-03-28 14:20:37,737 - rank - INFO - Rank 0 -- interaction_waiting -- 4.663001163862646e-06\n",
      "2022-03-28 14:20:37,746 - simulator - INFO - CMS: Timestep for rank 0/1 - 0.009518828010186553,0.009519100189208984 - 2020-05-26 06:00:00\n",
      "\n",
      "2022-03-28 14:20:37,748 - rank - INFO - Next timestep\n",
      "2022-03-28 14:20:37,748 - simulator - INFO - ==================== timestep ====================\n",
      "2022-03-28 14:20:38,242 - rank - INFO - Rank 0 -- move_people -- 0.49295292599708773\n",
      "2022-03-28 14:20:38,242 - rank - INFO - Rank 0 -- move_people_waiting -- 5.426001735031605e-06\n",
      "2022-03-28 14:20:38,242 - activity_manager - INFO - CMS: People COMS for rank 0/1 - 2.4229957489296794e-06,2.384185791015625e-06 - 2020-05-26 08:00:00\n",
      "2022-03-28 14:20:38,246 - simulator - INFO - Info for rank 0, Date = 2020-05-26 08:00:00, number of deaths =  0, number of infected = 612\n",
      "2022-03-28 14:20:38,351 - rank - INFO - Rank 0 -- interaction -- 0.1077932580083143\n",
      "2022-03-28 14:20:38,355 - epidemiology - INFO - CMS: Infection COMS-v2 for rank 0/1(2)0.00019762999727390707,0.00019693374633789062 - 2020-05-26 08:00:00\n",
      "2022-03-28 14:20:38,382 - rank - INFO - Rank 0 -- interaction_waiting -- 5.18599699717015e-06\n",
      "2022-03-28 14:20:38,392 - simulator - INFO - CMS: Timestep for rank 0/1 - 0.010133317991858348,0.010133504867553711 - 2020-05-26 08:00:00\n",
      "\n",
      "2022-03-28 14:20:38,393 - rank - INFO - Next timestep\n",
      "2022-03-28 14:20:38,393 - simulator - INFO - ==================== timestep ====================\n",
      "2022-03-28 14:20:38,496 - rank - INFO - Rank 0 -- move_people -- 0.10207491600885987\n",
      "2022-03-28 14:20:38,497 - rank - INFO - Rank 0 -- move_people_waiting -- 5.335008609108627e-06\n",
      "2022-03-28 14:20:38,497 - activity_manager - INFO - CMS: People COMS for rank 0/1 - 2.0419975044205785e-06,1.9073486328125e-06 - 2020-05-26 10:00:00\n",
      "2022-03-28 14:20:38,500 - simulator - INFO - Info for rank 0, Date = 2020-05-26 10:00:00, number of deaths =  0, number of infected = 626\n",
      "2022-03-28 14:20:38,557 - rank - INFO - Rank 0 -- interaction -- 0.059608694005873986\n",
      "2022-03-28 14:20:38,576 - epidemiology - INFO - CMS: Infection COMS-v2 for rank 0/1(2)0.00018032599473372102,0.0001800060272216797 - 2020-05-26 10:00:00\n",
      "2022-03-28 14:20:38,599 - rank - INFO - Rank 0 -- interaction_waiting -- 4.739005817100406e-06\n",
      "2022-03-28 14:20:38,608 - simulator - INFO - CMS: Timestep for rank 0/1 - 0.008883707007043995,0.00888371467590332 - 2020-05-26 10:00:00\n",
      "\n",
      "CPU times: user 10.5 s, sys: 532 ms, total: 11.1 s\n",
      "Wall time: 10.3 s\n"
     ]
    }
   ],
   "source": [
    "%%time\n",
    "simulator.run()"
   ]
  },
  {
   "cell_type": "markdown",
   "metadata": {},
   "source": [
    "# Getting the results"
   ]
  },
  {
   "cell_type": "markdown",
   "metadata": {},
   "source": [
    "All results are stored in a json file specified in the `record_path` when defining the recorder. This can be read in by passing the folder locations to the `RecordReader` class and results derived.\n",
    "\n",
    "Here we show some examples of the kind of analysis you can extract from the records."
   ]
  },
  {
   "cell_type": "code",
   "execution_count": 56,
   "metadata": {},
   "outputs": [],
   "source": [
    "import pandas as pd"
   ]
  },
  {
   "cell_type": "code",
   "execution_count": 57,
   "metadata": {},
   "outputs": [],
   "source": [
    "read = RecordReader(Results_Path)"
   ]
  },
  {
   "cell_type": "markdown",
   "metadata": {},
   "source": [
    "The regional summary gives you information at the regional (camp) level."
   ]
  },
  {
   "cell_type": "markdown",
   "metadata": {},
   "source": [
    "### Regional information"
   ]
  },
  {
   "cell_type": "code",
   "execution_count": 58,
   "metadata": {},
   "outputs": [
    {
     "data": {
      "text/html": [
       "<div>\n",
       "<style scoped>\n",
       "    .dataframe tbody tr th:only-of-type {\n",
       "        vertical-align: middle;\n",
       "    }\n",
       "\n",
       "    .dataframe tbody tr th {\n",
       "        vertical-align: top;\n",
       "    }\n",
       "\n",
       "    .dataframe thead th {\n",
       "        text-align: right;\n",
       "    }\n",
       "</style>\n",
       "<table border=\"1\" class=\"dataframe\">\n",
       "  <thead>\n",
       "    <tr style=\"text-align: right;\">\n",
       "      <th></th>\n",
       "      <th>region</th>\n",
       "      <th>current_infected</th>\n",
       "      <th>daily_infected</th>\n",
       "      <th>current_hospitalised</th>\n",
       "      <th>daily_hospitalised</th>\n",
       "      <th>current_intensive_care</th>\n",
       "      <th>daily_intensive_care</th>\n",
       "      <th>daily_hospital_deaths</th>\n",
       "      <th>daily_deaths</th>\n",
       "    </tr>\n",
       "    <tr>\n",
       "      <th>time_stamp</th>\n",
       "      <th></th>\n",
       "      <th></th>\n",
       "      <th></th>\n",
       "      <th></th>\n",
       "      <th></th>\n",
       "      <th></th>\n",
       "      <th></th>\n",
       "      <th></th>\n",
       "      <th></th>\n",
       "    </tr>\n",
       "  </thead>\n",
       "  <tbody>\n",
       "    <tr>\n",
       "      <th>2020-05-24</th>\n",
       "      <td>CXB-219</td>\n",
       "      <td>483.500000</td>\n",
       "      <td>44</td>\n",
       "      <td>0</td>\n",
       "      <td>0</td>\n",
       "      <td>0</td>\n",
       "      <td>0</td>\n",
       "      <td>0</td>\n",
       "      <td>0</td>\n",
       "    </tr>\n",
       "    <tr>\n",
       "      <th>2020-05-25</th>\n",
       "      <td>CXB-219</td>\n",
       "      <td>523.666667</td>\n",
       "      <td>66</td>\n",
       "      <td>0</td>\n",
       "      <td>0</td>\n",
       "      <td>0</td>\n",
       "      <td>0</td>\n",
       "      <td>0</td>\n",
       "      <td>0</td>\n",
       "    </tr>\n",
       "    <tr>\n",
       "      <th>2020-05-26</th>\n",
       "      <td>CXB-219</td>\n",
       "      <td>613.500000</td>\n",
       "      <td>119</td>\n",
       "      <td>0</td>\n",
       "      <td>0</td>\n",
       "      <td>0</td>\n",
       "      <td>0</td>\n",
       "      <td>0</td>\n",
       "      <td>0</td>\n",
       "    </tr>\n",
       "  </tbody>\n",
       "</table>\n",
       "</div>"
      ],
      "text/plain": [
       "             region  current_infected  daily_infected  current_hospitalised  \\\n",
       "time_stamp                                                                    \n",
       "2020-05-24  CXB-219        483.500000              44                     0   \n",
       "2020-05-25  CXB-219        523.666667              66                     0   \n",
       "2020-05-26  CXB-219        613.500000             119                     0   \n",
       "\n",
       "            daily_hospitalised  current_intensive_care  daily_intensive_care  \\\n",
       "time_stamp                                                                     \n",
       "2020-05-24                   0                       0                     0   \n",
       "2020-05-25                   0                       0                     0   \n",
       "2020-05-26                   0                       0                     0   \n",
       "\n",
       "            daily_hospital_deaths  daily_deaths  \n",
       "time_stamp                                       \n",
       "2020-05-24                      0             0  \n",
       "2020-05-25                      0             0  \n",
       "2020-05-26                      0             0  "
      ]
     },
     "execution_count": 58,
     "metadata": {},
     "output_type": "execute_result"
    }
   ],
   "source": [
    "read.regional_summary.head(3) # this is the equivalent of the summary.csv"
   ]
  },
  {
   "cell_type": "markdown",
   "metadata": {},
   "source": [
    "### Daily infections"
   ]
  },
  {
   "cell_type": "code",
   "execution_count": 59,
   "metadata": {},
   "outputs": [],
   "source": [
    "summary = read.regional_summary.reset_index()"
   ]
  },
  {
   "cell_type": "code",
   "execution_count": 60,
   "metadata": {},
   "outputs": [
    {
     "data": {
      "image/png": "[encoded data removed]",
      "text/plain": [
       "<Figure size 432x288 with 1 Axes>"
      ]
     },
     "metadata": {
      "needs_background": "light"
     },
     "output_type": "display_data"
    }
   ],
   "source": [
    "summary.groupby(['time_stamp']).sum().plot(y=['daily_infected'])\n",
    "plt.ylabel('Daily infections')\n",
    "plt.show()"
   ]
  },
  {
   "cell_type": "markdown",
   "metadata": {},
   "source": [
    "### Hospital and intensive care"
   ]
  },
  {
   "cell_type": "code",
   "execution_count": 61,
   "metadata": {},
   "outputs": [
    {
     "data": {
      "image/png": "[encoded data removed]",
      "text/plain": [
       "<Figure size 432x288 with 1 Axes>"
      ]
     },
     "metadata": {
      "needs_background": "light"
     },
     "output_type": "display_data"
    }
   ],
   "source": [
    "summary.groupby(['time_stamp']).sum().plot(y=['current_hospitalised', 'current_intensive_care'])\n",
    "plt.show()"
   ]
  },
  {
   "cell_type": "markdown",
   "metadata": {},
   "source": [
    "### Cumulative infections by age"
   ]
  },
  {
   "cell_type": "code",
   "execution_count": 62,
   "metadata": {},
   "outputs": [
    {
     "name": "stdout",
     "output_type": "stream",
     "text": [
      "2022-03-28 14:21:01,745 - june.records.records_reader - INFO - Loading infections table\n",
      "2022-03-28 14:21:01,765 - june.records.records_reader - INFO - Loading population table\n",
      "2022-03-28 14:21:01,816 - june.records.records_reader - INFO - Merging infection and population tables\n",
      "2022-03-28 14:21:01,820 - june.records.records_reader - INFO - Loading geography table\n",
      "2022-03-28 14:21:01,841 - june.records.records_reader - INFO - Mergeing infection and geography tables\n"
     ]
    }
   ],
   "source": [
    "infections_df = read.get_table_with_extras('infections',\n",
    "                                           'infected_ids')"
   ]
  },
  {
   "cell_type": "code",
   "execution_count": 63,
   "metadata": {},
   "outputs": [
    {
     "name": "stdout",
     "output_type": "stream",
     "text": [
      "2022-03-28 14:21:01,905 - june.records.records_reader - INFO - Loading deaths table\n",
      "2022-03-28 14:21:01,911 - june.records.records_reader - INFO - Loading population table\n",
      "2022-03-28 14:21:01,964 - june.records.records_reader - INFO - Merging infection and population tables\n",
      "2022-03-28 14:21:01,973 - june.records.records_reader - INFO - Loading geography table\n",
      "2022-03-28 14:21:01,999 - june.records.records_reader - INFO - Mergeing infection and geography tables\n"
     ]
    }
   ],
   "source": [
    "deaths_df = read.get_table_with_extras('deaths', \n",
    "                                       'dead_person_ids')"
   ]
  },
  {
   "cell_type": "code",
   "execution_count": 64,
   "metadata": {},
   "outputs": [],
   "source": [
    "age_bins = (0,20,60,100)"
   ]
  },
  {
   "cell_type": "code",
   "execution_count": 65,
   "metadata": {},
   "outputs": [],
   "source": [
    "infected_by_age = infections_df.groupby([pd.cut(infections_df['age'],\n",
    "            bins=age_bins), 'timestamp']).size()"
   ]
  },
  {
   "cell_type": "code",
   "execution_count": 66,
   "metadata": {},
   "outputs": [],
   "source": [
    "people_df = read.table_to_df('population')"
   ]
  },
  {
   "cell_type": "code",
   "execution_count": 67,
   "metadata": {},
   "outputs": [],
   "source": [
    "n_by_age = people_df.groupby(pd.cut(people_df['age'],\n",
    "            bins=age_bins)).size()"
   ]
  },
  {
   "cell_type": "code",
   "execution_count": 68,
   "metadata": {},
   "outputs": [
    {
     "data": {
      "text/plain": [
       "<matplotlib.legend.Legend at 0x7fc20a9f2a30>"
      ]
     },
     "execution_count": 68,
     "metadata": {},
     "output_type": "execute_result"
    },
    {
     "data": {
      "image/png": "[encoded data removed]",
      "text/plain": [
       "<Figure size 432x288 with 1 Axes>"
      ]
     },
     "metadata": {
      "needs_background": "light"
     },
     "output_type": "display_data"
    }
   ],
   "source": [
    "(100*infected_by_age/n_by_age).xs(10).cumsum().plot(label='0,20')\n",
    "(100*infected_by_age/n_by_age).xs(30).cumsum().plot(label='20,60')\n",
    "(100*infected_by_age/n_by_age).xs(70).cumsum().plot(label='60,100')\n",
    "plt.ylabel(\"% cumulative infected\")\n",
    "plt.legend()"
   ]
  },
  {
   "cell_type": "markdown",
   "metadata": {},
   "source": [
    "### Where people get infected"
   ]
  },
  {
   "cell_type": "code",
   "execution_count": 69,
   "metadata": {},
   "outputs": [],
   "source": [
    "locations_df = infections_df.groupby(['location_specs', \n",
    "                                'timestamp']).size()"
   ]
  },
  {
   "cell_type": "code",
   "execution_count": 70,
   "metadata": {},
   "outputs": [
    {
     "data": {
      "text/plain": [
       "<AxesSubplot:xlabel='timestamp'>"
      ]
     },
     "execution_count": 70,
     "metadata": {},
     "output_type": "execute_result"
    },
    {
     "data": {
      "image/png": "[encoded data removed]",
      "text/plain": [
       "<Figure size 432x288 with 1 Axes>"
      ]
     },
     "metadata": {
      "needs_background": "light"
     },
     "output_type": "display_data"
    }
   ],
   "source": [
    "locations_df.unstack(level=0).plot()"
   ]
  },
  {
   "cell_type": "code",
   "execution_count": 71,
   "metadata": {},
   "outputs": [
    {
     "data": {
      "text/plain": [
       "Text(0.5, 0, 'location')"
      ]
     },
     "execution_count": 71,
     "metadata": {},
     "output_type": "execute_result"
    },
    {
     "data": {
      "image/png": "[encoded data removed]",
      "text/plain": [
       "<Figure size 432x288 with 1 Axes>"
      ]
     },
     "metadata": {
      "needs_background": "light"
     },
     "output_type": "display_data"
    }
   ],
   "source": [
    "import matplotlib.ticker as mtick\n",
    "location_counts_df = locations_df.groupby('location_specs').size()\n",
    "location_counts_df = 100*location_counts_df / location_counts_df.sum()\n",
    "ax = location_counts_df.sort_values().plot.bar()\n",
    "ax.yaxis.set_major_formatter(mtick.PercentFormatter())\n",
    "plt.ylabel('Percentage of infections at location')\n",
    "plt.xlabel('location')"
   ]
  },
  {
   "cell_type": "code",
   "execution_count": null,
   "metadata": {},
   "outputs": [],
   "source": []
  },
  {
   "cell_type": "code",
   "execution_count": null,
   "metadata": {},
   "outputs": [],
   "source": []
  }
 ],
 "metadata": {
  "kernelspec": {
   "display_name": "Python 3 (ipykernel)",
   "language": "python",
   "name": "python3"
  },
  "language_info": {
   "codemirror_mode": {
    "name": "ipython",
    "version": 3
   },
   "file_extension": ".py",
   "mimetype": "text/x-python",
   "name": "python",
   "nbconvert_exporter": "python",
   "pygments_lexer": "ipython3",
   "version": "3.8.10"
  }
 },
 "nbformat": 4,
 "nbformat_minor": 4
}
