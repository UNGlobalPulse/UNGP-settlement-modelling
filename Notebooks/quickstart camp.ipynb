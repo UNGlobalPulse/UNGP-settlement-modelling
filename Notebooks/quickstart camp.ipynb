{
 "cells": [
  {
   "cell_type": "code",
   "execution_count": 1,
   "metadata": {},
   "outputs": [],
   "source": [
    "import warnings\n",
    "warnings.filterwarnings('ignore')"
   ]
  },
  {
   "cell_type": "code",
   "execution_count": 2,
   "metadata": {},
   "outputs": [],
   "source": [
    "import numpy as np\n",
    "import pandas as pd\n",
    "import time\n",
    "import matplotlib.pyplot as plt\n",
    "from datetime import datetime\n",
    "import sys\n",
    "import argparse\n",
    "from pathlib import Path"
   ]
  },
  {
   "cell_type": "code",
   "execution_count": 3,
   "metadata": {},
   "outputs": [
    {
     "name": "stderr",
     "output_type": "stream",
     "text": [
      "No --data argument given - defaulting to:\n",
      "/home/joseph/Documents/PhD/UN_Work/UNGP-settlement-modelling-private/data\n",
      "No --configs argument given - defaulting to:\n",
      "/home/joseph/Documents/PhD/UN_Work/JUNE-private/june/configs\n"
     ]
    },
    {
     "name": "stdout",
     "output_type": "stream",
     "text": [
      "2022-09-15 16:55:00,864 - camps.paths - WARNING - No --camp_data argument given - defaulting to:\n",
      "/home/joseph/Documents/PhD/UN_Work/UNGP-settlement-modelling-private/camp_data\n",
      "2022-09-15 16:55:00,865 - camps.paths - WARNING - No --configs_camps argument given - defaulting to:\n",
      "/home/joseph/Documents/PhD/UN_Work/UNGP-settlement-modelling-private/configs_camps\n"
     ]
    }
   ],
   "source": [
    "from june.geography import Geography\n",
    "from june.demography.demography import (\n",
    "    load_age_and_sex_generators_for_bins,\n",
    "    Demography,\n",
    "    Population,\n",
    "    load_comorbidity_data,\n",
    "    generate_comorbidity,\n",
    ")\n",
    "from june.paths import data_path, configs_path\n",
    "from june.epidemiology.epidemiology import Epidemiology\n",
    "from june.epidemiology.infection import ImmunitySetter\n",
    "from june.epidemiology.infection import Infection, HealthIndexGenerator, InfectionSelector, InfectionSelectors\n",
    "from june.epidemiology.infection_seed import InfectionSeed, InfectionSeeds\n",
    "from june.interaction import Interaction\n",
    "from june.groups import Hospital, Hospitals, Cemeteries\n",
    "from june.distributors import HospitalDistributor\n",
    "from june.hdf5_savers import generate_world_from_hdf5\n",
    "from june.policy import Policy, Policies\n",
    "from june.records import Record\n",
    "from june.simulator import Simulator\n",
    "from june.records import Record, RecordReader\n",
    "\n",
    "from camps.activity import CampActivityManager\n",
    "from camps.paths import camp_data_path, camp_configs_path\n",
    "from camps.world import World\n",
    "from camps.groups.leisure import generate_leisure_for_world, generate_leisure_for_config\n",
    "from camps.camp_creation import (\n",
    "    generate_empty_world,\n",
    "    populate_world,\n",
    "    distribute_people_to_households,\n",
    ")  # this is loaded from the ../camp_scripts folder\n",
    "\n",
    "from june.tracker.tracker import Tracker"
   ]
  },
  {
   "cell_type": "code",
   "execution_count": 4,
   "metadata": {},
   "outputs": [],
   "source": [
    "from camps.groups import PumpLatrines, PumpLatrineDistributor\n",
    "from camps.groups import DistributionCenters, DistributionCenterDistributor\n",
    "from camps.groups import Communals, CommunalDistributor\n",
    "from camps.groups import FemaleCommunals, FemaleCommunalDistributor\n",
    "from camps.groups import Religiouss, ReligiousDistributor\n",
    "from camps.groups import Shelter, Shelters, ShelterDistributor\n",
    "from camps.groups import IsolationUnit, IsolationUnits\n",
    "from camps.groups import LearningCenters\n",
    "from camps.distributors import LearningCenterDistributor\n",
    "from camps.groups import PlayGroups, PlayGroupDistributor\n",
    "from camps.groups import EVouchers, EVoucherDistributor\n",
    "from camps.groups import NFDistributionCenters, NFDistributionCenterDistributor\n",
    "from camps.groups import SheltersVisitsDistributor\n",
    "from camps.groups import InformalWorks, InformalWorkDistributor"
   ]
  },
  {
   "cell_type": "code",
   "execution_count": 5,
   "metadata": {},
   "outputs": [],
   "source": [
    "Results_Path = Path(\"results\")\n",
    "\n",
    "Config_File_Path = camp_configs_path / \"config_demo.yaml\"\n",
    "Interactions_File_Path = camp_configs_path / \"defaults/interaction/interaction_Survey.yaml\"\n",
    "Policies_File_Path = camp_configs_path / \"defaults/policy/simple_policy.yaml\"\n",
    "Hospitals_File_Path = camp_data_path / \"input/hospitals/hospitals.csv\"\n",
    "comorbidity_multipliers_path = camp_configs_path / \"defaults/comorbidities.yaml\"\n",
    "male_comorbidity_reference_prevalence_path = camp_data_path / \"input/demography/uk_male_comorbidities.csv\"\n",
    "female_comorbidity_reference_prevalence_path = camp_data_path / \"input/demography/uk_female_comorbidities.csv\""
   ]
  },
  {
   "cell_type": "markdown",
   "metadata": {},
   "source": [
    "## Initialize the world"
   ]
  },
  {
   "cell_type": "markdown",
   "metadata": {},
   "source": [
    "When we create the camp to be simulated, we call this the 'world'. The world is initialised after specifying which geographical regions you want to simulate. We can do this by using the `filter_key` argument in the `generate_empty_world` function. Cox's Bazar Expansion Site is made up of camps (which we call regions), UNHCR blocks (which we call super areas) and Mahjee blocks (which we call areas). These are the 3 heirarchical levels on which our model works. You can pass lists of the regions/super_areas/areas to the function here. Alternatively, by leaving the function empty you can generate the entire Cox's Bazar Expansion Site consisting of 112 super areas."
   ]
  },
  {
   "cell_type": "code",
   "execution_count": 6,
   "metadata": {},
   "outputs": [
    {
     "name": "stdout",
     "output_type": "stream",
     "text": [
      "2022-09-15 16:55:01,802 - june.geography.geography - INFO - There are 65 areas and 4 super_areas and 1 regions in the world.\n"
     ]
    }
   ],
   "source": [
    "# create empty world's geography\n",
    "world = generate_empty_world(filter_key = {\"region\" : [\"CXB-219\"]})"
   ]
  },
  {
   "cell_type": "code",
   "execution_count": 7,
   "metadata": {},
   "outputs": [],
   "source": [
    "# populate empty world\n",
    "populate_world(world)"
   ]
  },
  {
   "cell_type": "code",
   "execution_count": 8,
   "metadata": {},
   "outputs": [
    {
     "name": "stdout",
     "output_type": "stream",
     "text": [
      "Distributing 468 people to CXB-219-001\n",
      "Distributing 369 people to CXB-219-002\n",
      "Distributing 330 people to CXB-219-003\n",
      "Distributing 386 people to CXB-219-004\n",
      "Distributing 313 people to CXB-219-005\n",
      "Distributing 331 people to CXB-219-006\n",
      "Distributing 259 people to CXB-219-007\n",
      "Distributing 350 people to CXB-219-009\n",
      "Distributing 275 people to CXB-219-010\n",
      "Distributing 248 people to CXB-219-011\n",
      "Distributing 464 people to CXB-219-012\n",
      "Distributing 418 people to CXB-219-013\n",
      "Distributing 460 people to CXB-219-014\n",
      "Distributing 384 people to CXB-219-017\n",
      "Distributing 417 people to CXB-219-020\n",
      "Distributing 425 people to CXB-219-021\n",
      "Distributing 414 people to CXB-219-022\n",
      "Distributing 384 people to CXB-219-024\n",
      "Distributing 378 people to CXB-219-025\n",
      "Distributing 379 people to CXB-219-026\n",
      "Distributing 413 people to CXB-219-027\n",
      "Distributing 392 people to CXB-219-028\n",
      "Distributing 331 people to CXB-219-029\n",
      "Distributing 458 people to CXB-219-030\n",
      "Distributing 394 people to CXB-219-032\n",
      "Distributing 340 people to CXB-219-033\n",
      "Distributing 373 people to CXB-219-034\n",
      "Distributing 260 people to CXB-219-036\n",
      "Distributing 455 people to CXB-219-037\n",
      "Distributing 458 people to CXB-219-038\n",
      "Distributing 488 people to CXB-219-039\n",
      "Distributing 176 people to CXB-219-040\n",
      "Distributing 330 people to CXB-219-041\n",
      "Distributing 399 people to CXB-219-042\n",
      "Distributing 398 people to CXB-219-043\n",
      "Distributing 367 people to CXB-219-044\n",
      "Distributing 429 people to CXB-219-045\n",
      "Distributing 449 people to CXB-219-046\n",
      "Distributing 244 people to CXB-219-047\n",
      "Distributing 311 people to CXB-219-048\n",
      "Distributing 335 people to CXB-219-049\n",
      "Distributing 206 people to CXB-219-050\n",
      "Distributing 343 people to CXB-219-051\n",
      "Distributing 348 people to CXB-219-052\n",
      "Distributing 533 people to CXB-219-053\n",
      "Distributing 381 people to CXB-219-054\n",
      "Distributing 253 people to CXB-219-055\n",
      "Distributing 274 people to CXB-219-056\n",
      "Distributing 246 people to CXB-219-057\n",
      "Distributing 375 people to CXB-219-058\n",
      "Distributing 341 people to CXB-219-059\n",
      "Distributing 330 people to CXB-219-060\n",
      "Distributing 413 people to CXB-219-061\n",
      "Distributing 259 people to CXB-219-062\n",
      "Distributing 288 people to CXB-219-063\n",
      "Distributing 194 people to CXB-219-064\n",
      "Distributing 212 people to CXB-219-065\n",
      "Distributing 330 people to CXB-219-066\n",
      "Distributing 314 people to CXB-219-067\n",
      "Distributing 386 people to CXB-219-068\n",
      "Distributing 551 people to CXB-219-069\n",
      "Distributing 320 people to CXB-219-070\n",
      "Distributing 218 people to CXB-219-071\n",
      "Distributing 311 people to CXB-234-001\n",
      "Distributing 275 people to CXB-234-002\n"
     ]
    }
   ],
   "source": [
    "# distribute people to households\n",
    "distribute_people_to_households(world)"
   ]
  },
  {
   "cell_type": "code",
   "execution_count": 9,
   "metadata": {},
   "outputs": [
    {
     "name": "stdout",
     "output_type": "stream",
     "text": [
      "2022-09-15 16:55:09,367 - learning_centers - INFO - There are 1243 learning center(s)\n"
     ]
    }
   ],
   "source": [
    "LearningCenters.Get_Interaction(Interactions_File_Path)\n",
    "world.learning_centers = LearningCenters.for_areas(world.areas)\n",
    "\n",
    "learningcenter_distributor = LearningCenterDistributor.from_file(world.learning_centers)\n",
    "\n",
    "learningcenter_distributor.distribute_teachers_to_learning_centers(world.areas)\n",
    "learningcenter_distributor.distribute_kids_to_learning_centers(world.areas)"
   ]
  },
  {
   "cell_type": "code",
   "execution_count": 10,
   "metadata": {},
   "outputs": [
    {
     "name": "stdout",
     "output_type": "stream",
     "text": [
      "2022-09-15 16:55:10,518 - hospitals - INFO - There are 8 hospitals in the world.\n",
      "2022-09-15 16:55:10,535 - isolation units - INFO - There are 8 isolation unit(s)\n"
     ]
    }
   ],
   "source": [
    "# distribute hospitals\n",
    "Hospitals.Get_Interaction(Interactions_File_Path)\n",
    "IsolationUnits.Get_Interaction(Interactions_File_Path)\n",
    "\n",
    "hospitals = Hospitals.from_file(\n",
    "    filename=Hospitals_File_Path\n",
    ")\n",
    "\n",
    "\n",
    "for hospital in hospitals:\n",
    "    hospital.area = world.areas.get_closest_area(hospital.coordinates)\n",
    "    \n",
    "world.hospitals = hospitals\n",
    "hospital_distributor = HospitalDistributor(\n",
    "    hospitals, medic_min_age=20, patients_per_medic=10\n",
    ")\n",
    "hospital_distributor.assign_closest_hospitals_to_super_areas(\n",
    "    world.super_areas\n",
    ")\n",
    "\n",
    "world.isolation_units = IsolationUnits([IsolationUnit(area=hospital.area) for hospital in world.hospitals])\n",
    "hospital_distributor.distribute_medics_from_world(world.people)"
   ]
  },
  {
   "cell_type": "code",
   "execution_count": 11,
   "metadata": {},
   "outputs": [
    {
     "name": "stdout",
     "output_type": "stream",
     "text": [
      "2022-09-15 16:55:10,659 - social_venue - INFO - Domain 0 has 82 pump_latrines(s)\n",
      "2022-09-15 16:55:10,857 - social_venue - INFO - Domain 0 has 543 play_groups(s)\n",
      "2022-09-15 16:55:10,916 - social_venue - INFO - Domain 0 has 21 distribution_centers(s)\n",
      "2022-09-15 16:55:11,022 - social_venue - INFO - Domain 0 has 115 communals(s)\n",
      "2022-09-15 16:55:11,104 - social_venue - INFO - Domain 0 has 67 female_communals(s)\n",
      "2022-09-15 16:55:12,565 - social_venue - INFO - Domain 0 has 2065 religiouss(s)\n",
      "2022-09-15 16:55:12,619 - social_venue - INFO - Domain 0 has 7 e_vouchers(s)\n",
      "2022-09-15 16:55:12,700 - social_venue - INFO - Domain 0 has 41 n_f_distribution_centers(s)\n",
      "2022-09-15 16:55:12,748 - social_venue - INFO - Domain 0 has 80 informal_works(s)\n"
     ]
    }
   ],
   "source": [
    "PumpLatrines.Get_Interaction(Interactions_File_Path)\n",
    "world.pump_latrines = PumpLatrines.for_areas(world.areas)\n",
    "\n",
    "PlayGroups.Get_Interaction(Interactions_File_Path)\n",
    "world.play_groups = PlayGroups.for_areas(world.areas)\n",
    "\n",
    "DistributionCenters.Get_Interaction(Interactions_File_Path)\n",
    "world.distribution_centers = DistributionCenters.for_areas(world.areas)\n",
    "\n",
    "Communals.Get_Interaction(Interactions_File_Path)\n",
    "world.communals = Communals.for_areas(world.areas)\n",
    "\n",
    "FemaleCommunals.Get_Interaction(Interactions_File_Path)\n",
    "world.female_communals = FemaleCommunals.for_areas(world.areas)\n",
    "\n",
    "Religiouss.Get_Interaction(Interactions_File_Path)\n",
    "world.religiouss = Religiouss.for_areas(world.areas)\n",
    "\n",
    "EVouchers.Get_Interaction(Interactions_File_Path)\n",
    "world.e_vouchers = EVouchers.for_areas(world.areas)\n",
    "\n",
    "NFDistributionCenters.Get_Interaction(Interactions_File_Path)\n",
    "world.n_f_distribution_centers = NFDistributionCenters.for_areas(world.areas)\n",
    "\n",
    "InformalWorks.Get_Interaction(Interactions_File_Path)\n",
    "world.informal_works = InformalWorks.for_areas(world.areas)"
   ]
  },
  {
   "cell_type": "code",
   "execution_count": 12,
   "metadata": {},
   "outputs": [
    {
     "name": "stdout",
     "output_type": "stream",
     "text": [
      "cemetery not defined in interaction yaml or defualt options\n"
     ]
    }
   ],
   "source": [
    "world.cemeteries = Cemeteries()"
   ]
  },
  {
   "cell_type": "markdown",
   "metadata": {},
   "source": [
    "## Geography exploration"
   ]
  },
  {
   "cell_type": "markdown",
   "metadata": {},
   "source": [
    "The geography is initialised first and can be explored."
   ]
  },
  {
   "cell_type": "markdown",
   "metadata": {},
   "source": [
    "### UNHCR camp blocks inside the World"
   ]
  },
  {
   "cell_type": "code",
   "execution_count": 13,
   "metadata": {},
   "outputs": [],
   "source": [
    "super_areas = []\n",
    "for super_area in world.super_areas:\n",
    "    super_areas.append(super_area.name)"
   ]
  },
  {
   "cell_type": "code",
   "execution_count": 14,
   "metadata": {},
   "outputs": [
    {
     "data": {
      "text/plain": [
       "['CXB-219-A', 'CXB-219-B', 'CXB-219-C', 'CXB-219-D']"
      ]
     },
     "execution_count": 14,
     "metadata": {},
     "output_type": "execute_result"
    }
   ],
   "source": [
    "super_areas[:5]"
   ]
  },
  {
   "cell_type": "markdown",
   "metadata": {},
   "source": [
    "### Mahjee blocks inside World"
   ]
  },
  {
   "cell_type": "code",
   "execution_count": 15,
   "metadata": {},
   "outputs": [],
   "source": [
    "areas = []\n",
    "for area in world.areas:\n",
    "    areas.append(area.name)"
   ]
  },
  {
   "cell_type": "code",
   "execution_count": 16,
   "metadata": {},
   "outputs": [
    {
     "data": {
      "text/plain": [
       "['CXB-219-001', 'CXB-219-002', 'CXB-219-003', 'CXB-219-004', 'CXB-219-005']"
      ]
     },
     "execution_count": 16,
     "metadata": {},
     "output_type": "execute_result"
    }
   ],
   "source": [
    "areas[:5]"
   ]
  },
  {
   "cell_type": "markdown",
   "metadata": {},
   "source": [
    "## Demography exploration"
   ]
  },
  {
   "cell_type": "markdown",
   "metadata": {},
   "source": [
    "Once we have populated the 'digital twin' we can explore some of the attributes of the people we have created in the simulation."
   ]
  },
  {
   "cell_type": "markdown",
   "metadata": {},
   "source": [
    "### UNHCR block residents"
   ]
  },
  {
   "cell_type": "code",
   "execution_count": 17,
   "metadata": {},
   "outputs": [],
   "source": [
    "sample_ages = []\n",
    "sample_sexes = []\n",
    "for person in world.super_areas.members[0].people:\n",
    "    sample_ages.append(person.age)\n",
    "    sample_sexes.append(person.sex)"
   ]
  },
  {
   "cell_type": "code",
   "execution_count": 18,
   "metadata": {},
   "outputs": [
    {
     "data": {
      "text/plain": [
       "(['m', 'm', 'f', 'm', 'm'], [21, 30, 25, 44, 20])"
      ]
     },
     "execution_count": 18,
     "metadata": {},
     "output_type": "execute_result"
    }
   ],
   "source": [
    "sample_sexes[:5], sample_ages[:5]"
   ]
  },
  {
   "cell_type": "code",
   "execution_count": 19,
   "metadata": {},
   "outputs": [
    {
     "data": {
      "image/png": "[encoded data removed]",
      "text/plain": [
       "<Figure size 432x288 with 1 Axes>"
      ]
     },
     "metadata": {
      "needs_background": "light"
     },
     "output_type": "display_data"
    }
   ],
   "source": [
    "ages, counts = np.unique(sample_ages, return_counts=True)\n",
    "plt.bar(ages, counts)\n",
    "plt.title('super area: {} age distribution'.format(world.super_areas.members[0].name))\n",
    "plt.show()"
   ]
  },
  {
   "cell_type": "code",
   "execution_count": 20,
   "metadata": {},
   "outputs": [
    {
     "name": "stdout",
     "output_type": "stream",
     "text": [
      "The % children between ages 0-16 is 49%\n"
     ]
    }
   ],
   "source": [
    "print ('The % children between ages 0-16 is {}%'.format(round(np.sum(counts[:16])/(np.sum(counts[:16])+np.sum(counts[16:]))*100)))"
   ]
  },
  {
   "cell_type": "markdown",
   "metadata": {},
   "source": [
    "## Households"
   ]
  },
  {
   "cell_type": "markdown",
   "metadata": {},
   "source": [
    "In this model, we will use the term 'family' and 'household' interchangeably. After populating the 'digital twin', we need to cluster people into families. To do this, we take account of age structure so that children live with adults, that there are some intergenerational households and such that we might also have some households of only adults."
   ]
  },
  {
   "cell_type": "markdown",
   "metadata": {},
   "source": [
    "### Household size distribution"
   ]
  },
  {
   "cell_type": "code",
   "execution_count": 21,
   "metadata": {},
   "outputs": [
    {
     "data": {
      "image/png": "[encoded data removed]",
      "text/plain": [
       "<Figure size 432x288 with 1 Axes>"
      ]
     },
     "metadata": {
      "needs_background": "light"
     },
     "output_type": "display_data"
    }
   ],
   "source": [
    "household_sizes = [household.size for household in world.households]\n",
    "plt.hist(household_sizes, density=True, bins=np.arange(0,12))\n",
    "plt.xlabel(\"Household size\")\n",
    "plt.ylabel(\"Frequency\")\n",
    "plt.axvline(np.mean(household_sizes), color=\"cyan\")\n",
    "plt.text(8, 0.150, f\"Avg. size: {(np.mean(household_sizes)):.2f}\")\n",
    "plt.show()"
   ]
  },
  {
   "cell_type": "markdown",
   "metadata": {},
   "source": [
    "# Shelters"
   ]
  },
  {
   "cell_type": "markdown",
   "metadata": {},
   "source": [
    "Shelters house people in the camp. Since we know that families (houseohlds) often share shelters with other families, we can set the `sharing_shelter_ratio` to cluster families into shared shelters."
   ]
  },
  {
   "cell_type": "code",
   "execution_count": 22,
   "metadata": {},
   "outputs": [],
   "source": [
    "Shelters.Get_Interaction(Interactions_File_Path)\n",
    "world.shelters = Shelters.for_areas(world.areas)\n",
    "shelter_distributor = ShelterDistributor(sharing_shelter_ratio = 0.75) # proportion of families that share a shelter\n",
    "for area in world.areas:\n",
    "    shelter_distributor.distribute_people_in_shelters(area.shelters, area.households)"
   ]
  },
  {
   "cell_type": "code",
   "execution_count": 23,
   "metadata": {},
   "outputs": [
    {
     "data": {
      "image/png": "[encoded data removed]",
      "text/plain": [
       "<Figure size 576x216 with 2 Axes>"
      ]
     },
     "metadata": {
      "needs_background": "light"
     },
     "output_type": "display_data"
    }
   ],
   "source": [
    "fig, ax = plt.subplots(1, 2, figsize=(8,3))\n",
    "shelter_sizes = [shelter.size for shelter in world.shelters]\n",
    "shelter_families = [shelter.n_families for shelter in world.shelters]\n",
    "ax[0].hist(shelter_sizes)\n",
    "ax[0].set_title(\"Shelter size\")\n",
    "shelter_families = {1 : len([shelter for shelter in world.shelters if shelter.n_families == 1]),\n",
    "                    2 : len([shelter for shelter in world.shelters if shelter.n_families == 2])}\n",
    "ax[1].bar(shelter_families.keys(), shelter_families.values())\n",
    "ax[1].set_title(\"# families per shelter\")\n",
    "plt.show()"
   ]
  },
  {
   "cell_type": "markdown",
   "metadata": {},
   "source": [
    "## Activity exploration"
   ]
  },
  {
   "cell_type": "markdown",
   "metadata": {},
   "source": [
    "Once different activity locations are seeded in the 'digital twin' we can explore how many there are in different areas of the twin, and their coordinates to check they've all been added correctly."
   ]
  },
  {
   "cell_type": "markdown",
   "metadata": {},
   "source": [
    "### Pumps and latrines "
   ]
  },
  {
   "cell_type": "code",
   "execution_count": 24,
   "metadata": {},
   "outputs": [],
   "source": [
    "pumps_and_latrines = []\n",
    "for pump_latrine in world.areas.members[0].pump_latrines:\n",
    "    pumps_and_latrines.append(pump_latrine)"
   ]
  },
  {
   "cell_type": "code",
   "execution_count": 25,
   "metadata": {},
   "outputs": [
    {
     "name": "stdout",
     "output_type": "stream",
     "text": [
      "There are 2 pumps and latrines in area CXB-219-001\n"
     ]
    }
   ],
   "source": [
    "print ('There are {} pumps and latrines in area {}'.format(len(pumps_and_latrines), world.areas.members[0].name))"
   ]
  },
  {
   "cell_type": "markdown",
   "metadata": {},
   "source": [
    "### Informal work"
   ]
  },
  {
   "cell_type": "code",
   "execution_count": 26,
   "metadata": {},
   "outputs": [],
   "source": [
    "Informal_work_Sites = []\n",
    "for informal_work in world.areas.members[0].informal_works:\n",
    "    Informal_work_Sites.append(informal_work)"
   ]
  },
  {
   "cell_type": "code",
   "execution_count": 27,
   "metadata": {},
   "outputs": [
    {
     "name": "stdout",
     "output_type": "stream",
     "text": [
      "There are 2 informal work sites in area CXB-219-001\n"
     ]
    }
   ],
   "source": [
    "print ('There are {} informal work sites in area {}'.format(len(Informal_work_Sites), world.areas.members[0].name))"
   ]
  },
  {
   "cell_type": "markdown",
   "metadata": {},
   "source": [
    "### Distribution centers"
   ]
  },
  {
   "cell_type": "code",
   "execution_count": 28,
   "metadata": {},
   "outputs": [],
   "source": [
    "distribution_centers = []\n",
    "for center in world.distribution_centers:\n",
    "    distribution_centers.append(center)"
   ]
  },
  {
   "cell_type": "code",
   "execution_count": 29,
   "metadata": {},
   "outputs": [
    {
     "data": {
      "text/plain": [
       "array([21.2136    , 92.15678833])"
      ]
     },
     "execution_count": 29,
     "metadata": {},
     "output_type": "execute_result"
    }
   ],
   "source": [
    "distribution_centers[0].coordinates"
   ]
  },
  {
   "cell_type": "markdown",
   "metadata": {},
   "source": [
    "### Non-food Distribution centers"
   ]
  },
  {
   "cell_type": "code",
   "execution_count": 30,
   "metadata": {},
   "outputs": [],
   "source": [
    "non_food_distribution_centers = []\n",
    "for center in world.n_f_distribution_centers:\n",
    "    non_food_distribution_centers.append(center)"
   ]
  },
  {
   "cell_type": "code",
   "execution_count": 31,
   "metadata": {},
   "outputs": [
    {
     "data": {
      "text/plain": [
       "array([21.21268167, 92.1438    ])"
      ]
     },
     "execution_count": 31,
     "metadata": {},
     "output_type": "execute_result"
    }
   ],
   "source": [
    "non_food_distribution_centers[0].coordinates"
   ]
  },
  {
   "cell_type": "markdown",
   "metadata": {},
   "source": [
    "### E-Voucher outlets"
   ]
  },
  {
   "cell_type": "code",
   "execution_count": 32,
   "metadata": {},
   "outputs": [],
   "source": [
    "e_voucher_outlets = []\n",
    "for center in world.e_vouchers:\n",
    "    e_voucher_outlets.append(center)"
   ]
  },
  {
   "cell_type": "code",
   "execution_count": 33,
   "metadata": {},
   "outputs": [
    {
     "data": {
      "text/plain": [
       "array([21.212945, 92.142915])"
      ]
     },
     "execution_count": 33,
     "metadata": {},
     "output_type": "execute_result"
    }
   ],
   "source": [
    "e_voucher_outlets[0].coordinates"
   ]
  },
  {
   "cell_type": "markdown",
   "metadata": {},
   "source": [
    "### Communal spaces"
   ]
  },
  {
   "cell_type": "code",
   "execution_count": 34,
   "metadata": {},
   "outputs": [],
   "source": [
    "communal_spaces = []\n",
    "for space in world.communals:\n",
    "    communal_spaces.append(space)"
   ]
  },
  {
   "cell_type": "code",
   "execution_count": 35,
   "metadata": {},
   "outputs": [
    {
     "data": {
      "text/plain": [
       "array([21.19508, 92.16525])"
      ]
     },
     "execution_count": 35,
     "metadata": {},
     "output_type": "execute_result"
    }
   ],
   "source": [
    "communal_spaces[0].coordinates"
   ]
  },
  {
   "cell_type": "markdown",
   "metadata": {},
   "source": [
    "### Female friendly communal spaces"
   ]
  },
  {
   "cell_type": "code",
   "execution_count": 36,
   "metadata": {},
   "outputs": [],
   "source": [
    "female_communal_spaces = []\n",
    "for space in world.female_communals:\n",
    "    female_communal_spaces.append(space)"
   ]
  },
  {
   "cell_type": "code",
   "execution_count": 37,
   "metadata": {},
   "outputs": [
    {
     "data": {
      "text/plain": [
       "array([21.20686305, 92.16070923])"
      ]
     },
     "execution_count": 37,
     "metadata": {},
     "output_type": "execute_result"
    }
   ],
   "source": [
    "female_communal_spaces[0].coordinates"
   ]
  },
  {
   "cell_type": "markdown",
   "metadata": {},
   "source": [
    "### Religious sites"
   ]
  },
  {
   "cell_type": "code",
   "execution_count": 38,
   "metadata": {},
   "outputs": [],
   "source": [
    "religious = []\n",
    "for rel in world.religiouss:\n",
    "    religious.append(rel)"
   ]
  },
  {
   "cell_type": "code",
   "execution_count": 39,
   "metadata": {},
   "outputs": [
    {
     "data": {
      "text/plain": [
       "array([21.21804605, 92.1546829 ])"
      ]
     },
     "execution_count": 39,
     "metadata": {},
     "output_type": "execute_result"
    }
   ],
   "source": [
    "religious[0].coordinates"
   ]
  },
  {
   "cell_type": "markdown",
   "metadata": {},
   "source": [
    "# Adding the infection"
   ]
  },
  {
   "cell_type": "markdown",
   "metadata": {},
   "source": [
    "The selector handles how infections are handled in the code. You can set different 'symptom trajectories' (e.g. exposed->mild->severe->hospitalised->intensive care) from different files. Here, we use the default."
   ]
  },
  {
   "cell_type": "code",
   "execution_count": 40,
   "metadata": {},
   "outputs": [],
   "source": [
    "selector = InfectionSelector.from_file()"
   ]
  },
  {
   "cell_type": "code",
   "execution_count": 41,
   "metadata": {},
   "outputs": [],
   "source": [
    "selectors = InfectionSelectors([selector])"
   ]
  },
  {
   "cell_type": "markdown",
   "metadata": {},
   "source": [
    "# Adding the interaction"
   ]
  },
  {
   "cell_type": "markdown",
   "metadata": {},
   "source": [
    "The interaction class handles how many contacts people have in different locations and with who. If contact matrices are available, these can be coded in a `.yaml` file and fed into the class here."
   ]
  },
  {
   "cell_type": "code",
   "execution_count": 42,
   "metadata": {},
   "outputs": [],
   "source": [
    "interaction = Interaction.from_file(\n",
    "    config_filename=Interactions_File_Path,\n",
    ")"
   ]
  },
  {
   "cell_type": "markdown",
   "metadata": {},
   "source": [
    "# Set policies"
   ]
  },
  {
   "cell_type": "markdown",
   "metadata": {},
   "source": [
    "Policies control how 'operational interventions' are set in the camp. Here we set some social distancing policies, policies relating to medical care, such as people with severe symptoms being hospitalised, and individual and activity policies which can dynamically change how often and where people go, e.g. here, we close all female communal spaces and non-food distirbution centers which the camp did back in March"
   ]
  },
  {
   "cell_type": "code",
   "execution_count": 43,
   "metadata": {},
   "outputs": [],
   "source": [
    "policies = Policies.from_file(\n",
    "        Policies_File_Path,\n",
    "        base_policy_modules=(\"june.policy\", \"camps.policy\"),\n",
    "    )"
   ]
  },
  {
   "cell_type": "code",
   "execution_count": 44,
   "metadata": {},
   "outputs": [
    {
     "data": {
      "text/plain": [
       "[<june.policy.interaction_policies.SocialDistancing at 0x7f087a8ca130>,\n",
       " <june.policy.medical_care_policies.Hospitalisation at 0x7f087a8ca0d0>,\n",
       " <june.policy.individual_policies.SevereSymptomsStayHome at 0x7f087a8ca640>,\n",
       " <june.policy.individual_policies.Quarantine at 0x7f087a8ca430>]"
      ]
     },
     "execution_count": 44,
     "metadata": {},
     "output_type": "execute_result"
    }
   ],
   "source": [
    "policies.policies"
   ]
  },
  {
   "cell_type": "markdown",
   "metadata": {},
   "source": [
    "# Seed the disease"
   ]
  },
  {
   "cell_type": "markdown",
   "metadata": {},
   "source": [
    "Set intial seeding conditions. This can be done at the camp level specifically, or generally by seeding them randomly. Here the `n_cases` is the number of randomly seeded people over the entire population."
   ]
  },
  {
   "cell_type": "code",
   "execution_count": 45,
   "metadata": {},
   "outputs": [],
   "source": [
    "infection_seed = InfectionSeed.from_uniform_cases(\n",
    "    world=world, infection_selector=selector, cases_per_capita=0.01, date=\"2020-05-24 9:00\", seed_past_infections=False,\n",
    ")"
   ]
  },
  {
   "cell_type": "code",
   "execution_count": 46,
   "metadata": {},
   "outputs": [],
   "source": [
    "infection_seeds = InfectionSeeds([infection_seed])"
   ]
  },
  {
   "cell_type": "code",
   "execution_count": 47,
   "metadata": {},
   "outputs": [],
   "source": [
    "immunity_setter = ImmunitySetter.from_file_with_comorbidities(\n",
    "    comorbidity_multipliers_path= comorbidity_multipliers_path,\n",
    "    male_comorbidity_reference_prevalence_path= male_comorbidity_reference_prevalence_path,\n",
    "    female_comorbidity_reference_prevalence_path = female_comorbidity_reference_prevalence_path,   \n",
    ")"
   ]
  },
  {
   "cell_type": "code",
   "execution_count": 48,
   "metadata": {},
   "outputs": [],
   "source": [
    "epidemiology = Epidemiology(\n",
    "    infection_selectors=selectors,\n",
    "    infection_seeds=infection_seeds,\n",
    "    immunity_setter=immunity_setter,\n",
    ")"
   ]
  },
  {
   "cell_type": "markdown",
   "metadata": {},
   "source": [
    "## Select config file"
   ]
  },
  {
   "cell_type": "markdown",
   "metadata": {},
   "source": [
    "Before running the simualtion we must select the config file which defines how the world is set up and the simualtor will work. Specifically, the condif file specifies which activities will be included, how long we'll run the simualtion for, what the initial starting day will be and what the structure of weekdays and weekends will look like (if different)"
   ]
  },
  {
   "cell_type": "code",
   "execution_count": 49,
   "metadata": {},
   "outputs": [],
   "source": [
    "CONFIG_PATH = Config_File_Path"
   ]
  },
  {
   "cell_type": "markdown",
   "metadata": {},
   "source": [
    "# Initialise activities"
   ]
  },
  {
   "cell_type": "markdown",
   "metadata": {},
   "source": [
    "The final step to intialising the simulator class which brings all of this together is to inialise all the activity distirbutors (the term 'leisure' is a legacy of the original version of this code used for modelling COVID-19 in the UK). This will mean that people know where they can go at and given time."
   ]
  },
  {
   "cell_type": "code",
   "execution_count": 50,
   "metadata": {},
   "outputs": [
    {
     "name": "stdout",
     "output_type": "stream",
     "text": [
      "2022-09-15 16:55:16,369 - leisure - INFO - Linking households and care homes for visits\n",
      "2022-09-15 16:55:16,370 - leisure - INFO - Done\n",
      "2022-09-15 16:55:16,371 - leisure - INFO - Distributing social venues to areas\n",
      "2022-09-15 16:55:16,372 - leisure - INFO - Distributed in 0 of 65 areas.\n",
      "2022-09-15 16:55:16,504 - leisure - INFO - Distributed in 65 of 65 areas.\n"
     ]
    }
   ],
   "source": [
    "leisure = generate_leisure_for_config(world=world, config_filename=CONFIG_PATH)\n",
    "# associate social activities to shelters\n",
    "leisure.distribute_social_venues_to_areas(world.areas, world.super_areas)"
   ]
  },
  {
   "cell_type": "markdown",
   "metadata": {},
   "source": [
    "# Define a contact Tracker"
   ]
  },
  {
   "cell_type": "markdown",
   "metadata": {},
   "source": [
    "We define a list of venues in which to track. This is fed into JUNE's tracker class. We can specify tracking contacts by sex, the type of possible contacts \"1D\" (simulated contacts based on the input interaction matrices) or \"All\" (everyone at each venue contacts each other). Lastly we can find a subset of venues upto N but defining MaxVenueTrackingSize=N."
   ]
  },
  {
   "cell_type": "code",
   "execution_count": 51,
   "metadata": {},
   "outputs": [],
   "source": [
    "group_types=[\n",
    "        world.hospitals,\n",
    "        world.distribution_centers,\n",
    "        world.communals,\n",
    "        world.female_communals,\n",
    "        world.pump_latrines,\n",
    "        world.religiouss,\n",
    "        world.play_groups,\n",
    "        world.e_vouchers,\n",
    "        world.n_f_distribution_centers,\n",
    "        world.shelters,\n",
    "        world.learning_centers,\n",
    "        world.informal_works,\n",
    "        world.isolation_units,\n",
    "    ]\n",
    "\n",
    "tracker = Tracker(\n",
    "    world=world,\n",
    "    record_path=Results_Path,\n",
    "    group_types=group_types,\n",
    "    load_interactions_path=Interactions_File_Path,\n",
    "    contact_sexes=[\"unisex\", \"male\", \"female\"],\n",
    "    MaxVenueTrackingSize = 500\n",
    ")"
   ]
  },
  {
   "cell_type": "markdown",
   "metadata": {},
   "source": [
    "# Initialise simulator and run"
   ]
  },
  {
   "cell_type": "markdown",
   "metadata": {},
   "source": [
    "The recorder is defined which will log all interactions and infections in the simualation for later analysis. The `record_path` can be changed to any path where you want the recorded data to be stored."
   ]
  },
  {
   "cell_type": "code",
   "execution_count": 52,
   "metadata": {},
   "outputs": [],
   "source": [
    "record = Record(\n",
    "    record_path=Results_Path, \n",
    "    record_static_data=True\n",
    ")\n"
   ]
  },
  {
   "cell_type": "markdown",
   "metadata": {},
   "source": [
    "The simulator is defined with all the different necessary components we have built up so far"
   ]
  },
  {
   "cell_type": "code",
   "execution_count": 53,
   "metadata": {},
   "outputs": [],
   "source": [
    "Simulator.ActivityManager = CampActivityManager\n",
    "simulator = Simulator.from_file(\n",
    "    world=world,\n",
    "    interaction=interaction,\n",
    "    tracker=tracker,\n",
    "    leisure=leisure,\n",
    "    policies=policies,\n",
    "    config_filename=CONFIG_PATH,\n",
    "    epidemiology=epidemiology,\n",
    "    record=record,\n",
    ")"
   ]
  },
  {
   "cell_type": "markdown",
   "metadata": {},
   "source": [
    "Finally we can run a small simualation"
   ]
  },
  {
   "cell_type": "code",
   "execution_count": 54,
   "metadata": {
    "scrolled": true
   },
   "outputs": [
    {
     "name": "stdout",
     "output_type": "stream",
     "text": [
      "2022-09-15 16:55:17,326 - simulator - INFO - Starting simulation for 1 days at day 2020-05-24 09:00:00,to run for 1 days\n",
      "2022-09-15 16:55:17,449 - seed - INFO - Seeding Covid19 infections at date 2020-05-24\n",
      "2022-09-15 16:55:18,117 - rank - INFO - Next timestep\n",
      "2022-09-15 16:55:18,118 - simulator - INFO - ==================== timestep ====================\n",
      "2022-09-15 16:55:18,339 - rank - INFO - Rank 0 -- move_people -- 0.22050753400253598\n",
      "2022-09-15 16:55:18,341 - rank - INFO - Rank 0 -- move_people_waiting -- 5.382011295296252e-06\n",
      "2022-09-15 16:55:18,342 - activity_manager - INFO - CMS: People COMS for rank 0/1 - 5.5879936553537846e-06,5.245208740234375e-06 - 2020-05-24 09:00:00\n",
      "2022-09-15 16:55:18,354 - simulator - INFO - Info for rank 0, Date = 2020-05-24 09:00:00, number of deaths =  0, number of infected = 234\n",
      "2022-09-15 16:55:18,483 - rank - INFO - Rank 0 -- interaction -- 0.13960320698970463\n",
      "2022-09-15 16:55:18,485 - tracker - INFO - Rank 0 -- tracking contacts -- 115 of 115 of type communal\n",
      "2022-09-15 16:55:18,491 - tracker - INFO - Rank 0 -- tracking contacts -- 21 of 21 of type distribution_center\n",
      "2022-09-15 16:55:18,493 - tracker - INFO - Rank 0 -- tracking contacts -- 7 of 7 of type e_voucher\n",
      "2022-09-15 16:55:18,495 - tracker - INFO - Rank 0 -- tracking contacts -- 67 of 67 of type female_communal\n",
      "2022-09-15 16:55:18,498 - tracker - INFO - Rank 0 -- tracking contacts -- 80 of 80 of type informal_work\n",
      "2022-09-15 16:55:18,501 - tracker - INFO - Rank 0 -- tracking contacts -- 41 of 41 of type n_f_distribution_center\n",
      "2022-09-15 16:55:18,505 - tracker - INFO - Rank 0 -- tracking contacts -- 500 of 543 of type play_group\n",
      "2022-09-15 16:55:18,521 - tracker - INFO - Rank 0 -- tracking contacts -- 82 of 82 of type pump_latrine\n",
      "2022-09-15 16:55:18,528 - tracker - INFO - Rank 0 -- tracking contacts -- 500 of 2065 of type religious\n",
      "2022-09-15 16:55:18,541 - tracker - INFO - Rank 0 -- tracking contacts -- 8 of 8 of type hospital\n",
      "2022-09-15 16:55:18,560 - tracker - INFO - Rank 0 -- tracking contacts -- 8 of 8 of type isolation_unit\n",
      "2022-09-15 16:55:18,562 - tracker - INFO - Rank 0 -- tracking contacts -- 389 of 389 of type learning_center\n",
      "2022-09-15 16:55:19,701 - tracker - INFO - Rank 0 -- tracking contacts -- 500 of 3257 of type shelter\n",
      "2022-09-15 16:55:20,671 - rank - INFO - Rank 0 -- tracker -- 2.1868581010057824\n",
      "2022-09-15 16:55:20,674 - epidemiology - INFO - CMS: Infection COMS-v2 for rank 0/1(2)0.0010170740133617073,0.001016378402709961 - 2020-05-24 09:00:00\n",
      "2022-09-15 16:55:20,867 - rank - INFO - Rank 0 -- interaction_waiting -- 1.0130010196007788e-05\n",
      "2022-09-15 16:55:20,884 - simulator - INFO - CMS: Timestep for rank 0/1 - 2.7647825429885415,2.764784097671509 - 2020-05-24 09:00:00\n",
      "\n",
      "2022-09-15 16:55:20,885 - rank - INFO - Next timestep\n",
      "2022-09-15 16:55:20,886 - simulator - INFO - ==================== timestep ====================\n",
      "2022-09-15 16:55:22,256 - rank - INFO - Rank 0 -- move_people -- 1.3691187920048833\n",
      "2022-09-15 16:55:22,257 - rank - INFO - Rank 0 -- move_people_waiting -- 5.44199428986758e-06\n",
      "2022-09-15 16:55:22,258 - activity_manager - INFO - CMS: People COMS for rank 0/1 - 4.6579953050240874e-06,4.291534423828125e-06 - 2020-05-24 11:00:00\n",
      "2022-09-15 16:55:22,265 - simulator - INFO - Info for rank 0, Date = 2020-05-24 11:00:00, number of deaths =  0, number of infected = 234\n",
      "2022-09-15 16:55:22,421 - rank - INFO - Rank 0 -- interaction -- 0.16082080599153414\n",
      "2022-09-15 16:55:22,423 - tracker - INFO - Rank 0 -- tracking contacts -- 115 of 115 of type communal\n",
      "2022-09-15 16:55:22,459 - tracker - INFO - Rank 0 -- tracking contacts -- 21 of 21 of type distribution_center\n",
      "2022-09-15 16:55:22,490 - tracker - INFO - Rank 0 -- tracking contacts -- 7 of 7 of type e_voucher\n",
      "2022-09-15 16:55:22,508 - tracker - INFO - Rank 0 -- tracking contacts -- 67 of 67 of type female_communal\n",
      "2022-09-15 16:55:22,574 - tracker - INFO - Rank 0 -- tracking contacts -- 80 of 80 of type informal_work\n",
      "2022-09-15 16:55:22,702 - tracker - INFO - Rank 0 -- tracking contacts -- 41 of 41 of type n_f_distribution_center\n",
      "2022-09-15 16:55:22,774 - tracker - INFO - Rank 0 -- tracking contacts -- 500 of 543 of type play_group\n",
      "2022-09-15 16:55:23,060 - tracker - INFO - Rank 0 -- tracking contacts -- 82 of 82 of type pump_latrine\n",
      "2022-09-15 16:55:24,953 - tracker - INFO - Rank 0 -- tracking contacts -- 500 of 2065 of type religious\n",
      "2022-09-15 16:55:25,134 - tracker - INFO - Rank 0 -- tracking contacts -- 8 of 8 of type hospital\n",
      "2022-09-15 16:55:25,145 - tracker - INFO - Rank 0 -- tracking contacts -- 8 of 8 of type isolation_unit\n",
      "2022-09-15 16:55:25,147 - tracker - INFO - Rank 0 -- tracking contacts -- 389 of 389 of type learning_center\n",
      "2022-09-15 16:55:26,124 - tracker - INFO - Rank 0 -- tracking contacts -- 500 of 3257 of type shelter\n",
      "2022-09-15 16:55:26,607 - rank - INFO - Rank 0 -- tracker -- 4.184593023004709\n",
      "2022-09-15 16:55:26,612 - epidemiology - INFO - CMS: Infection COMS-v2 for rank 0/1(2)0.00022711799829266965,0.00022673606872558594 - 2020-05-24 11:00:00\n",
      "2022-09-15 16:55:26,655 - rank - INFO - Rank 0 -- interaction_waiting -- 8.076007361523807e-06\n",
      "2022-09-15 16:55:26,669 - simulator - INFO - CMS: Timestep for rank 0/1 - 5.782774070001324,5.782775163650513 - 2020-05-24 11:00:00\n",
      "\n",
      "2022-09-15 16:55:26,670 - rank - INFO - Next timestep\n",
      "2022-09-15 16:55:26,671 - simulator - INFO - ==================== timestep ====================\n",
      "2022-09-15 16:55:27,544 - rank - INFO - Rank 0 -- move_people -- 0.871496481995564\n",
      "2022-09-15 16:55:27,545 - rank - INFO - Rank 0 -- move_people_waiting -- 8.585004252381623e-06\n",
      "2022-09-15 16:55:27,546 - activity_manager - INFO - CMS: People COMS for rank 0/1 - 5.238005542196333e-06,4.76837158203125e-06 - 2020-05-24 13:00:00\n",
      "2022-09-15 16:55:27,553 - simulator - INFO - Info for rank 0, Date = 2020-05-24 13:00:00, number of deaths =  0, number of infected = 236\n",
      "2022-09-15 16:55:27,696 - rank - INFO - Rank 0 -- interaction -- 0.14819981600157917\n",
      "2022-09-15 16:55:27,697 - tracker - INFO - Rank 0 -- tracking contacts -- 115 of 115 of type communal\n",
      "2022-09-15 16:55:27,739 - tracker - INFO - Rank 0 -- tracking contacts -- 21 of 21 of type distribution_center\n",
      "2022-09-15 16:55:27,773 - tracker - INFO - Rank 0 -- tracking contacts -- 7 of 7 of type e_voucher\n",
      "2022-09-15 16:55:27,788 - tracker - INFO - Rank 0 -- tracking contacts -- 67 of 67 of type female_communal\n",
      "2022-09-15 16:55:27,866 - tracker - INFO - Rank 0 -- tracking contacts -- 80 of 80 of type informal_work\n",
      "2022-09-15 16:55:28,011 - tracker - INFO - Rank 0 -- tracking contacts -- 41 of 41 of type n_f_distribution_center\n",
      "2022-09-15 16:55:28,080 - tracker - INFO - Rank 0 -- tracking contacts -- 500 of 543 of type play_group\n",
      "2022-09-15 16:55:28,419 - tracker - INFO - Rank 0 -- tracking contacts -- 82 of 82 of type pump_latrine\n",
      "2022-09-15 16:55:30,228 - tracker - INFO - Rank 0 -- tracking contacts -- 500 of 2065 of type religious\n",
      "2022-09-15 16:55:30,403 - tracker - INFO - Rank 0 -- tracking contacts -- 8 of 8 of type hospital\n",
      "2022-09-15 16:55:30,415 - tracker - INFO - Rank 0 -- tracking contacts -- 8 of 8 of type isolation_unit\n",
      "2022-09-15 16:55:30,418 - tracker - INFO - Rank 0 -- tracking contacts -- 389 of 389 of type learning_center\n",
      "2022-09-15 16:55:31,291 - tracker - INFO - Rank 0 -- tracking contacts -- 500 of 3257 of type shelter\n",
      "2022-09-15 16:55:31,788 - rank - INFO - Rank 0 -- tracker -- 4.0913619750062935\n",
      "2022-09-15 16:55:31,792 - epidemiology - INFO - CMS: Infection COMS-v2 for rank 0/1(2)0.0008547759935026988,0.0008544921875 - 2020-05-24 13:00:00\n",
      "2022-09-15 16:55:31,838 - rank - INFO - Rank 0 -- interaction_waiting -- 7.36600486561656e-06\n",
      "2022-09-15 16:55:31,856 - simulator - INFO - CMS: Timestep for rank 0/1 - 5.183525077998638,5.183525800704956 - 2020-05-24 13:00:00\n",
      "\n",
      "2022-09-15 16:55:31,857 - rank - INFO - Next timestep\n",
      "2022-09-15 16:55:31,858 - simulator - INFO - ==================== timestep ====================\n",
      "2022-09-15 16:55:32,623 - rank - INFO - Rank 0 -- move_people -- 0.7638833590026479\n",
      "2022-09-15 16:55:32,624 - rank - INFO - Rank 0 -- move_people_waiting -- 8.678005542606115e-06\n",
      "2022-09-15 16:55:32,624 - activity_manager - INFO - CMS: People COMS for rank 0/1 - 4.128000000491738e-06,3.814697265625e-06 - 2020-05-24 15:00:00\n"
     ]
    },
    {
     "name": "stdout",
     "output_type": "stream",
     "text": [
      "2022-09-15 16:55:32,630 - simulator - INFO - Info for rank 0, Date = 2020-05-24 15:00:00, number of deaths =  0, number of infected = 239\n",
      "2022-09-15 16:55:32,761 - rank - INFO - Rank 0 -- interaction -- 0.13543178400141187\n",
      "2022-09-15 16:55:32,762 - tracker - INFO - Rank 0 -- tracking contacts -- 115 of 115 of type communal\n",
      "2022-09-15 16:55:32,797 - tracker - INFO - Rank 0 -- tracking contacts -- 21 of 21 of type distribution_center\n",
      "2022-09-15 16:55:32,833 - tracker - INFO - Rank 0 -- tracking contacts -- 7 of 7 of type e_voucher\n",
      "2022-09-15 16:55:32,851 - tracker - INFO - Rank 0 -- tracking contacts -- 67 of 67 of type female_communal\n",
      "2022-09-15 16:55:32,924 - tracker - INFO - Rank 0 -- tracking contacts -- 80 of 80 of type informal_work\n",
      "2022-09-15 16:55:33,018 - tracker - INFO - Rank 0 -- tracking contacts -- 41 of 41 of type n_f_distribution_center\n",
      "2022-09-15 16:55:33,069 - tracker - INFO - Rank 0 -- tracking contacts -- 500 of 543 of type play_group\n",
      "2022-09-15 16:55:33,322 - tracker - INFO - Rank 0 -- tracking contacts -- 82 of 82 of type pump_latrine\n",
      "2022-09-15 16:55:35,280 - tracker - INFO - Rank 0 -- tracking contacts -- 500 of 2065 of type religious\n",
      "2022-09-15 16:55:35,483 - tracker - INFO - Rank 0 -- tracking contacts -- 8 of 8 of type hospital\n",
      "2022-09-15 16:55:35,494 - tracker - INFO - Rank 0 -- tracking contacts -- 8 of 8 of type isolation_unit\n",
      "2022-09-15 16:55:35,497 - tracker - INFO - Rank 0 -- tracking contacts -- 389 of 389 of type learning_center\n",
      "2022-09-15 16:55:36,541 - tracker - INFO - Rank 0 -- tracking contacts -- 500 of 3257 of type shelter\n",
      "2022-09-15 16:55:37,068 - rank - INFO - Rank 0 -- tracker -- 4.306590615000459\n",
      "2022-09-15 16:55:37,071 - epidemiology - INFO - CMS: Infection COMS-v2 for rank 0/1(2)0.0009421890135854483,0.0009424686431884766 - 2020-05-24 15:00:00\n",
      "2022-09-15 16:55:37,120 - rank - INFO - Rank 0 -- interaction_waiting -- 2.0213003153912723e-05\n",
      "2022-09-15 16:55:37,138 - simulator - INFO - CMS: Timestep for rank 0/1 - 5.278914274007548,5.278915882110596 - 2020-05-24 15:00:00\n",
      "\n",
      "2022-09-15 16:55:37,139 - rank - INFO - Next timestep\n",
      "2022-09-15 16:55:37,140 - simulator - INFO - ==================== timestep ====================\n",
      "2022-09-15 16:55:37,974 - rank - INFO - Rank 0 -- move_people -- 0.832967420006753\n",
      "2022-09-15 16:55:37,975 - rank - INFO - Rank 0 -- move_people_waiting -- 1.0496994946151972e-05\n",
      "2022-09-15 16:55:37,976 - activity_manager - INFO - CMS: People COMS for rank 0/1 - 9.440991561859846e-06,9.059906005859375e-06 - 2020-05-24 17:00:00\n",
      "2022-09-15 16:55:37,985 - simulator - INFO - Info for rank 0, Date = 2020-05-24 17:00:00, number of deaths =  0, number of infected = 241\n",
      "2022-09-15 16:55:38,184 - rank - INFO - Rank 0 -- interaction -- 0.2072003979992587\n",
      "2022-09-15 16:55:38,186 - tracker - INFO - Rank 0 -- tracking contacts -- 115 of 115 of type communal\n",
      "2022-09-15 16:55:38,190 - tracker - INFO - Rank 0 -- tracking contacts -- 21 of 21 of type distribution_center\n",
      "2022-09-15 16:55:38,230 - tracker - INFO - Rank 0 -- tracking contacts -- 7 of 7 of type e_voucher\n",
      "2022-09-15 16:55:38,253 - tracker - INFO - Rank 0 -- tracking contacts -- 67 of 67 of type female_communal\n",
      "2022-09-15 16:55:38,256 - tracker - INFO - Rank 0 -- tracking contacts -- 80 of 80 of type informal_work\n",
      "2022-09-15 16:55:38,374 - tracker - INFO - Rank 0 -- tracking contacts -- 41 of 41 of type n_f_distribution_center\n",
      "2022-09-15 16:55:38,443 - tracker - INFO - Rank 0 -- tracking contacts -- 500 of 543 of type play_group\n",
      "2022-09-15 16:55:38,828 - tracker - INFO - Rank 0 -- tracking contacts -- 82 of 82 of type pump_latrine\n",
      "2022-09-15 16:55:41,528 - tracker - INFO - Rank 0 -- tracking contacts -- 500 of 2065 of type religious\n",
      "2022-09-15 16:55:41,753 - tracker - INFO - Rank 0 -- tracking contacts -- 8 of 8 of type hospital\n",
      "2022-09-15 16:55:41,754 - tracker - INFO - Rank 0 -- tracking contacts -- 8 of 8 of type isolation_unit\n",
      "2022-09-15 16:55:41,757 - tracker - INFO - Rank 0 -- tracking contacts -- 389 of 389 of type learning_center\n",
      "2022-09-15 16:55:41,795 - tracker - INFO - Rank 0 -- tracking contacts -- 500 of 3257 of type shelter\n",
      "2022-09-15 16:55:42,401 - rank - INFO - Rank 0 -- tracker -- 4.216056050994666\n",
      "2022-09-15 16:55:42,405 - epidemiology - INFO - CMS: Infection COMS-v2 for rank 0/1(2)0.00046190700959414244,0.00046181678771972656 - 2020-05-24 17:00:00\n",
      "2022-09-15 16:55:42,481 - rank - INFO - Rank 0 -- interaction_waiting -- 8.746996172703803e-06\n",
      "2022-09-15 16:55:42,505 - simulator - INFO - CMS: Timestep for rank 0/1 - 5.36472779000178,5.364728689193726 - 2020-05-24 17:00:00\n",
      "\n",
      "2022-09-15 16:55:42,507 - rank - INFO - Next timestep\n",
      "2022-09-15 16:55:42,507 - simulator - INFO - ==================== timestep ====================\n",
      "2022-09-15 16:55:42,811 - rank - INFO - Rank 0 -- move_people -- 0.30224095200537704\n",
      "2022-09-15 16:55:42,812 - rank - INFO - Rank 0 -- move_people_waiting -- 9.800991392694414e-06\n",
      "2022-09-15 16:55:42,813 - activity_manager - INFO - CMS: People COMS for rank 0/1 - 4.938003257848322e-06,4.291534423828125e-06 - 2020-05-24 19:00:00\n",
      "2022-09-15 16:55:42,821 - simulator - INFO - Info for rank 0, Date = 2020-05-24 19:00:00, number of deaths =  0, number of infected = 243\n",
      "2022-09-15 16:55:42,980 - rank - INFO - Rank 0 -- interaction -- 0.16648134699789807\n",
      "2022-09-15 16:55:42,982 - tracker - INFO - Rank 0 -- tracking contacts -- 115 of 115 of type communal\n",
      "2022-09-15 16:55:42,986 - tracker - INFO - Rank 0 -- tracking contacts -- 21 of 21 of type distribution_center\n",
      "2022-09-15 16:55:42,988 - tracker - INFO - Rank 0 -- tracking contacts -- 7 of 7 of type e_voucher\n",
      "2022-09-15 16:55:42,990 - tracker - INFO - Rank 0 -- tracking contacts -- 67 of 67 of type female_communal\n",
      "2022-09-15 16:55:42,994 - tracker - INFO - Rank 0 -- tracking contacts -- 80 of 80 of type informal_work\n",
      "2022-09-15 16:55:42,998 - tracker - INFO - Rank 0 -- tracking contacts -- 41 of 41 of type n_f_distribution_center\n",
      "2022-09-15 16:55:43,003 - tracker - INFO - Rank 0 -- tracking contacts -- 500 of 543 of type play_group\n",
      "2022-09-15 16:55:43,022 - tracker - INFO - Rank 0 -- tracking contacts -- 82 of 82 of type pump_latrine\n",
      "2022-09-15 16:55:43,042 - tracker - INFO - Rank 0 -- tracking contacts -- 500 of 2065 of type religious\n",
      "2022-09-15 16:55:43,057 - tracker - INFO - Rank 0 -- tracking contacts -- 8 of 8 of type hospital\n",
      "2022-09-15 16:55:43,059 - tracker - INFO - Rank 0 -- tracking contacts -- 8 of 8 of type isolation_unit\n",
      "2022-09-15 16:55:43,066 - tracker - INFO - Rank 0 -- tracking contacts -- 389 of 389 of type learning_center\n",
      "2022-09-15 16:55:43,097 - tracker - INFO - Rank 0 -- tracking contacts -- 500 of 3257 of type shelter\n",
      "2022-09-15 16:55:44,995 - rank - INFO - Rank 0 -- tracker -- 2.013510891003534\n",
      "2022-09-15 16:55:45,013 - epidemiology - INFO - CMS: Infection COMS-v2 for rank 0/1(2)0.0004968910070601851,0.0004966259002685547 - 2020-05-24 19:00:00\n",
      "2022-09-15 16:55:45,082 - rank - INFO - Rank 0 -- interaction_waiting -- 8.483999408781528e-06\n",
      "2022-09-15 16:55:45,107 - simulator - INFO - CMS: Timestep for rank 0/1 - 2.598158387991134,2.5981595516204834 - 2020-05-24 19:00:00\n",
      "\n",
      "CPU times: user 27.7 s, sys: 289 ms, total: 28 s\n",
      "Wall time: 27.8 s\n"
     ]
    }
   ],
   "source": [
    "%%time\n",
    "simulator.run()"
   ]
  },
  {
   "cell_type": "markdown",
   "metadata": {},
   "source": [
    "# Getting the results"
   ]
  },
  {
   "cell_type": "markdown",
   "metadata": {},
   "source": [
    "All results are stored in a json file specified in the `record_path` when defining the recorder. This can be read in by passing the folder locations to the `RecordReader` class and results derived.\n",
    "\n",
    "Here we show some examples of the kind of analysis you can extract from the records."
   ]
  },
  {
   "cell_type": "code",
   "execution_count": 55,
   "metadata": {},
   "outputs": [],
   "source": [
    "import pandas as pd"
   ]
  },
  {
   "cell_type": "code",
   "execution_count": 56,
   "metadata": {},
   "outputs": [],
   "source": [
    "read = RecordReader(Results_Path)"
   ]
  },
  {
   "cell_type": "markdown",
   "metadata": {},
   "source": [
    "The regional summary gives you information at the regional (camp) level."
   ]
  },
  {
   "cell_type": "markdown",
   "metadata": {},
   "source": [
    "### Regional information"
   ]
  },
  {
   "cell_type": "code",
   "execution_count": 57,
   "metadata": {},
   "outputs": [
    {
     "data": {
      "text/html": [
       "<div>\n",
       "<style scoped>\n",
       "    .dataframe tbody tr th:only-of-type {\n",
       "        vertical-align: middle;\n",
       "    }\n",
       "\n",
       "    .dataframe tbody tr th {\n",
       "        vertical-align: top;\n",
       "    }\n",
       "\n",
       "    .dataframe thead th {\n",
       "        text-align: right;\n",
       "    }\n",
       "</style>\n",
       "<table border=\"1\" class=\"dataframe\">\n",
       "  <thead>\n",
       "    <tr style=\"text-align: right;\">\n",
       "      <th></th>\n",
       "      <th>region</th>\n",
       "      <th>current_infected</th>\n",
       "      <th>daily_infected</th>\n",
       "      <th>current_hospitalised</th>\n",
       "      <th>daily_hospitalised</th>\n",
       "      <th>current_intensive_care</th>\n",
       "      <th>daily_intensive_care</th>\n",
       "      <th>daily_hospital_deaths</th>\n",
       "      <th>daily_deaths</th>\n",
       "    </tr>\n",
       "    <tr>\n",
       "      <th>time_stamp</th>\n",
       "      <th></th>\n",
       "      <th></th>\n",
       "      <th></th>\n",
       "      <th></th>\n",
       "      <th></th>\n",
       "      <th></th>\n",
       "      <th></th>\n",
       "      <th></th>\n",
       "      <th></th>\n",
       "    </tr>\n",
       "  </thead>\n",
       "  <tbody>\n",
       "    <tr>\n",
       "      <th>2020-05-24</th>\n",
       "      <td>CXB-219</td>\n",
       "      <td>242.833333</td>\n",
       "      <td>264</td>\n",
       "      <td>0.0</td>\n",
       "      <td>0</td>\n",
       "      <td>0.0</td>\n",
       "      <td>0</td>\n",
       "      <td>0</td>\n",
       "      <td>0</td>\n",
       "    </tr>\n",
       "  </tbody>\n",
       "</table>\n",
       "</div>"
      ],
      "text/plain": [
       "             region  current_infected  daily_infected  current_hospitalised  \\\n",
       "time_stamp                                                                    \n",
       "2020-05-24  CXB-219        242.833333             264                   0.0   \n",
       "\n",
       "            daily_hospitalised  current_intensive_care  daily_intensive_care  \\\n",
       "time_stamp                                                                     \n",
       "2020-05-24                   0                     0.0                     0   \n",
       "\n",
       "            daily_hospital_deaths  daily_deaths  \n",
       "time_stamp                                       \n",
       "2020-05-24                      0             0  "
      ]
     },
     "execution_count": 57,
     "metadata": {},
     "output_type": "execute_result"
    }
   ],
   "source": [
    "read.regional_summary.head(3) # this is the equivalent of the summary.csv"
   ]
  },
  {
   "cell_type": "markdown",
   "metadata": {},
   "source": [
    "### Daily infections"
   ]
  },
  {
   "cell_type": "code",
   "execution_count": 58,
   "metadata": {},
   "outputs": [],
   "source": [
    "summary = read.regional_summary.reset_index()"
   ]
  },
  {
   "cell_type": "code",
   "execution_count": 59,
   "metadata": {},
   "outputs": [
    {
     "data": {
      "image/png": "[encoded data removed]",
      "text/plain": [
       "<Figure size 432x288 with 1 Axes>"
      ]
     },
     "metadata": {
      "needs_background": "light"
     },
     "output_type": "display_data"
    }
   ],
   "source": [
    "summary.groupby(['time_stamp']).sum().plot(y=['daily_infected'])\n",
    "plt.ylabel('Daily infections')\n",
    "plt.show()"
   ]
  },
  {
   "cell_type": "markdown",
   "metadata": {},
   "source": [
    "### Hospital and intensive care"
   ]
  },
  {
   "cell_type": "code",
   "execution_count": 60,
   "metadata": {},
   "outputs": [
    {
     "data": {
      "image/png": "[encoded data removed]",
      "text/plain": [
       "<Figure size 432x288 with 1 Axes>"
      ]
     },
     "metadata": {
      "needs_background": "light"
     },
     "output_type": "display_data"
    }
   ],
   "source": [
    "summary.groupby(['time_stamp']).sum().plot(y=['current_hospitalised', 'current_intensive_care'])\n",
    "plt.show()"
   ]
  },
  {
   "cell_type": "markdown",
   "metadata": {},
   "source": [
    "### Cumulative infections by age"
   ]
  },
  {
   "cell_type": "code",
   "execution_count": 61,
   "metadata": {},
   "outputs": [
    {
     "name": "stdout",
     "output_type": "stream",
     "text": [
      "2022-09-15 16:55:46,301 - june.records.records_reader - INFO - Loading infections table\n",
      "2022-09-15 16:55:46,320 - june.records.records_reader - INFO - Loading population table\n",
      "2022-09-15 16:55:46,419 - june.records.records_reader - INFO - Merging infection and population tables\n",
      "2022-09-15 16:55:46,430 - june.records.records_reader - INFO - Loading geography table\n",
      "2022-09-15 16:55:46,471 - june.records.records_reader - INFO - Mergeing infection and geography tables\n"
     ]
    }
   ],
   "source": [
    "infections_df = read.get_table_with_extras('infections',\n",
    "                                           'infected_ids')"
   ]
  },
  {
   "cell_type": "code",
   "execution_count": 62,
   "metadata": {},
   "outputs": [
    {
     "name": "stdout",
     "output_type": "stream",
     "text": [
      "2022-09-15 16:55:46,495 - june.records.records_reader - INFO - Loading deaths table\n",
      "2022-09-15 16:55:46,509 - june.records.records_reader - INFO - Loading population table\n",
      "2022-09-15 16:55:46,609 - june.records.records_reader - INFO - Merging infection and population tables\n",
      "2022-09-15 16:55:46,617 - june.records.records_reader - INFO - Loading geography table\n",
      "2022-09-15 16:55:46,657 - june.records.records_reader - INFO - Mergeing infection and geography tables\n"
     ]
    }
   ],
   "source": [
    "deaths_df = read.get_table_with_extras('deaths', \n",
    "                                       'dead_person_ids')"
   ]
  },
  {
   "cell_type": "code",
   "execution_count": 63,
   "metadata": {},
   "outputs": [],
   "source": [
    "age_bins = (0,20,60,100)"
   ]
  },
  {
   "cell_type": "code",
   "execution_count": 64,
   "metadata": {},
   "outputs": [],
   "source": [
    "infected_by_age = infections_df.groupby([pd.cut(infections_df['age'],\n",
    "            bins=age_bins), 'timestamp']).size()"
   ]
  },
  {
   "cell_type": "code",
   "execution_count": 65,
   "metadata": {},
   "outputs": [],
   "source": [
    "people_df = read.table_to_df('population')"
   ]
  },
  {
   "cell_type": "code",
   "execution_count": 66,
   "metadata": {},
   "outputs": [],
   "source": [
    "n_by_age = people_df.groupby(pd.cut(people_df['age'],\n",
    "            bins=age_bins)).size()"
   ]
  },
  {
   "cell_type": "code",
   "execution_count": 67,
   "metadata": {},
   "outputs": [
    {
     "data": {
      "text/plain": [
       "<matplotlib.legend.Legend at 0x7f087b359880>"
      ]
     },
     "execution_count": 67,
     "metadata": {},
     "output_type": "execute_result"
    },
    {
     "data": {
      "image/png": "[encoded data removed]",
      "text/plain": [
       "<Figure size 432x288 with 1 Axes>"
      ]
     },
     "metadata": {
      "needs_background": "light"
     },
     "output_type": "display_data"
    }
   ],
   "source": [
    "(100*infected_by_age/n_by_age).xs(10).cumsum().plot(label='0,20')\n",
    "(100*infected_by_age/n_by_age).xs(30).cumsum().plot(label='20,60')\n",
    "(100*infected_by_age/n_by_age).xs(70).cumsum().plot(label='60,100')\n",
    "plt.ylabel(\"% cumulative infected\")\n",
    "plt.legend()"
   ]
  },
  {
   "cell_type": "markdown",
   "metadata": {},
   "source": [
    "### Where people get infected"
   ]
  },
  {
   "cell_type": "code",
   "execution_count": 68,
   "metadata": {},
   "outputs": [],
   "source": [
    "locations_df = infections_df.groupby(['location_specs', \n",
    "                                'timestamp']).size()"
   ]
  },
  {
   "cell_type": "code",
   "execution_count": 69,
   "metadata": {},
   "outputs": [
    {
     "data": {
      "text/plain": [
       "<AxesSubplot:xlabel='timestamp'>"
      ]
     },
     "execution_count": 69,
     "metadata": {},
     "output_type": "execute_result"
    },
    {
     "data": {
      "image/png": "[encoded data removed]",
      "text/plain": [
       "<Figure size 432x288 with 1 Axes>"
      ]
     },
     "metadata": {
      "needs_background": "light"
     },
     "output_type": "display_data"
    }
   ],
   "source": [
    "locations_df.unstack(level=0).plot()"
   ]
  },
  {
   "cell_type": "code",
   "execution_count": 70,
   "metadata": {},
   "outputs": [
    {
     "data": {
      "text/plain": [
       "Text(0.5, 0, 'location')"
      ]
     },
     "execution_count": 70,
     "metadata": {},
     "output_type": "execute_result"
    },
    {
     "data": {
      "image/png": "[encoded data removed]",
      "text/plain": [
       "<Figure size 432x288 with 1 Axes>"
      ]
     },
     "metadata": {
      "needs_background": "light"
     },
     "output_type": "display_data"
    }
   ],
   "source": [
    "import matplotlib.ticker as mtick\n",
    "location_counts_df = locations_df.groupby('location_specs').size()\n",
    "location_counts_df = 100*location_counts_df / location_counts_df.sum()\n",
    "ax = location_counts_df.sort_values().plot.bar()\n",
    "ax.yaxis.set_major_formatter(mtick.PercentFormatter())\n",
    "plt.ylabel('Percentage of infections at location')\n",
    "plt.xlabel('location')"
   ]
  },
  {
   "cell_type": "markdown",
   "metadata": {},
   "source": [
    "# Tracker results"
   ]
  },
  {
   "cell_type": "markdown",
   "metadata": {},
   "source": [
    "We can define custom binnings with bin edges as such."
   ]
  },
  {
   "cell_type": "code",
   "execution_count": 71,
   "metadata": {},
   "outputs": [
    {
     "data": {
      "text/plain": [
       "1"
      ]
     },
     "execution_count": 71,
     "metadata": {},
     "output_type": "execute_result"
    }
   ],
   "source": [
    "simulator.tracker.contract_matrices(\"AC\", np.array([0,18,60]))"
   ]
  },
  {
   "cell_type": "markdown",
   "metadata": {},
   "source": [
    "Lastly we call the tracker to save the results to file and provide a print out of the results."
   ]
  },
  {
   "cell_type": "code",
   "execution_count": 72,
   "metadata": {
    "scrolled": true
   },
   "outputs": [
    {
     "name": "stdout",
     "output_type": "stream",
     "text": [
      "Results from 1D NCM\n",
      "\n",
      "  communal:\n",
      "    contacts: [[3.7054,7.5357],[1.2293,5.5263]]\n",
      "    contacts_err: [[0.1819,0.2594],[0.0680,0.1441]]\n",
      "    proportion_physical: [[0.1200]]\n",
      "    characteristic_time: 1.00\n",
      "\n",
      "    Ratio of contacts and feed in values: [[0.7411,0.9292],[0.8035,0.9211]]\n",
      "\n",
      "  distribution_center:\n",
      "    contacts: [[4.0909,12.5000],[0.7785,9.7127]]\n",
      "    contacts_err: [[0.1630,0.2849],[0.0413,0.1459]]\n",
      "    proportion_physical: [[0.1200]]\n",
      "    characteristic_time: 1.00\n",
      "\n",
      "    Ratio of contacts and feed in values: [[1.0227,0.9171],[0.9855,0.9713]]\n",
      "\n",
      "  e_voucher:\n",
      "    contacts: [[0.2308,1.9487],[0.0874,13.5340]]\n",
      "    contacts_err: [[0.0544,0.1581],[0.0206,0.2563]]\n",
      "    proportion_physical: [[0.1200]]\n",
      "    characteristic_time: 1.00\n",
      "\n",
      "    Ratio of contacts and feed in values: [[0.0000,0.9744],[0.8738,1.0025]]\n",
      "\n",
      "  female_communal:\n",
      "    contacts: [[4.8090,7.5515],[1.5228,5.8425]]\n",
      "    contacts_err: [[0.1016,0.1273],[0.0590,0.1155]]\n",
      "    proportion_physical: [[0.1200]]\n",
      "    characteristic_time: 1.00\n",
      "\n",
      "    Ratio of contacts and feed in values: [[0.9618,0.9311],[0.9953,0.9737]]\n",
      "\n",
      "  hospital:\n",
      "    contacts: [[4.6667,0.0000,0.0000],[0.0000,0.0000,0.0000],[0.0000,0.0000,0.0000]]\n",
      "    contacts_err: [[0.3761,0.0000,0.0000],[0.0000,0.0000,0.0000],[0.0000,0.0000,0.0000]]\n",
      "    proportion_physical: [[0.0500,1.0000,1.0000],[1.0000,0.0000,0.0000],[1.0000,0.0000,0.0000]]\n",
      "    characteristic_time: 8.00\n",
      "\n",
      "    Ratio of contacts and feed in values: [[0.9333,0.0000,0.0000],[0.0000,0.0000,0.0000],[0.0000,0.0000,0.0000]]\n",
      "\n",
      "  informal_work:\n",
      "    contacts: [[4.9666]]\n",
      "    contacts_err: [[0.1060]]\n",
      "    proportion_physical: [[0.1200]]\n",
      "    characteristic_time: 8.00\n",
      "\n",
      "    Ratio of contacts and feed in values: [[0.9933]]\n",
      "\n",
      "  isolation_unit:\n",
      "    contacts: [[0.0000,0.0000],[0.0000,0.0000]]\n",
      "    contacts_err: [[0.0000,0.0000],[0.0000,0.0000]]\n",
      "    proportion_physical: [[0.0000,0.0000],[0.0000,0.0000]]\n",
      "    characteristic_time: 24.00\n",
      "\n",
      "    Ratio of contacts and feed in values: [[0.0000,0.0000],[0.0000,0.0000]]\n",
      "\n",
      "  learning_center:\n",
      "    contacts: [[9.9785,6.4189],[1.8810,3.8425]]\n",
      "    contacts_err: [[0.0312,0.0250],[0.0151,0.0216]]\n",
      "    proportion_physical: [[0.1200,0.1200],[0.1200,0.1200]]\n",
      "    characteristic_time: 1.50\n",
      "\n",
      "    Ratio of contacts and feed in values: [[0.9978,1.0030],[0.4236,0.9903]]\n",
      "\n",
      "  n_f_distribution_center:\n",
      "    contacts: [[4.0000,13.5337],[0.7449,9.8251]]\n",
      "    contacts_err: [[0.1108,0.2038],[0.0290,0.1053]]\n",
      "    proportion_physical: [[0.1200]]\n",
      "    characteristic_time: 1.00\n",
      "\n",
      "    Ratio of contacts and feed in values: [[1.0000,0.9929],[0.9429,0.9825]]\n",
      "\n",
      "  play_group:\n",
      "    contacts: [[4.9582,0.0000,0.0000],[0.0000,5.0685,0.0000],[0.0000,0.0000,4.8931]]\n",
      "    contacts_err: [[0.0552,0.0000,0.0000],[0.0000,0.0557,0.0000],[0.0000,0.0000,0.0762]]\n",
      "    proportion_physical: [[0.6000,0.0000,0.0000],[0.0000,0.3000,0.0000],[0.0000,0.0000,0.1500]]\n",
      "    characteristic_time: 2.00\n",
      "\n",
      "    Ratio of contacts and feed in values: [[0.9916,0.0000,0.0000],[0.0000,1.0137,0.0000],[0.0000,0.0000,0.9786]]\n",
      "\n",
      "  pump_latrine:\n",
      "    contacts: [[3.2497,9.7255],[1.6294,4.3161]]\n",
      "    contacts_err: [[0.0080,0.0138],[0.0064,0.0104]]\n",
      "    proportion_physical: [[0.0200]]\n",
      "    characteristic_time: 0.54\n",
      "\n",
      "    Ratio of contacts and feed in values: [[0.9999,0.9995],[0.9996,0.9968]]\n",
      "\n",
      "  religious:\n",
      "    contacts: [[5.0530,9.3588],[1.1212,8.5689]]\n",
      "    contacts_err: [[0.0531,0.0723],[0.0172,0.0477]]\n",
      "    proportion_physical: [[0.1200]]\n",
      "    characteristic_time: 1.00\n",
      "\n",
      "    Ratio of contacts and feed in values: [[1.0106,0.9883],[1.0192,1.0081]]\n",
      "\n",
      "  shelter:\n",
      "    contacts: [[4.8422,1.9748],[1.9748,4.8422]]\n",
      "    contacts_err: [[0.0423,0.0270],[0.0270,0.0423]]\n",
      "    proportion_physical: [[0.8000,0.3000],[0.8000,0.3000]]\n",
      "    characteristic_time: 12.00\n",
      "\n",
      "    Ratio of contacts and feed in values: [[0.9684,0.9874],[0.9874,0.9684]]\n",
      "\n",
      "Results from NCMV\n",
      "\n",
      "  communal:\n",
      "    contacts: [[0.2306,0.6236],[0.3240,0.7374]]\n",
      "    contacts_err: [[0.1706,0.4556],[0.2398,0.5387]]\n",
      "    proportion_physical: [[0.1200]]\n",
      "    characteristic_time: 1.00\n",
      "\n",
      "    Ratio of contacts and feed in values: [[0.0461,0.0769],[0.2117,0.1229]]\n",
      "\n",
      "  distribution_center:\n",
      "    contacts: [[0.2456,0.7488],[0.2548,0.7471]]\n",
      "    contacts_err: [[0.1801,0.5477],[0.1868,0.5465]]\n",
      "    proportion_physical: [[0.1200]]\n",
      "    characteristic_time: 1.00\n",
      "\n",
      "    Ratio of contacts and feed in values: [[0.0614,0.0549],[0.3225,0.0747]]\n",
      "\n",
      "  e_voucher:\n",
      "    contacts: [[0.2564,0.7397],[0.2815,0.7199]]\n",
      "    contacts_err: [[0.1876,0.5372],[0.2060,0.5228]]\n",
      "    proportion_physical: [[0.1200]]\n",
      "    characteristic_time: 1.00\n",
      "\n",
      "    Ratio of contacts and feed in values: [[0.0000,0.3699],[2.8154,0.0533]]\n",
      "\n",
      "  female_communal:\n",
      "    contacts: [[0.5028,0.4790],[0.5290,0.4903]]\n",
      "    contacts_err: [[0.3557,0.3389],[0.3742,0.3469]]\n",
      "    proportion_physical: [[0.1200]]\n",
      "    characteristic_time: 1.00\n",
      "\n",
      "    Ratio of contacts and feed in values: [[0.1006,0.0591],[0.3457,0.0817]]\n",
      "\n",
      "  hospital:\n",
      "    contacts: [[1.0000,0.0000,0.0000],[0.0000,0.0000,0.0000],[0.0000,0.0000,0.0000]]\n",
      "    contacts_err: [[1.0012,0.0000,0.0000],[0.0000,0.0000,0.0000],[0.0000,0.0000,0.0000]]\n",
      "    proportion_physical: [[0.0500,1.0000,1.0000],[1.0000,0.0000,0.0000],[1.0000,0.0000,0.0000]]\n",
      "    characteristic_time: 8.00\n",
      "\n",
      "    Ratio of contacts and feed in values: [[0.2000,0.0000,0.0000],[0.0000,0.0000,0.0000],[0.0000,0.0000,0.0000]]\n",
      "\n",
      "  informal_work:\n",
      "    contacts: [[1.0000]]\n",
      "    contacts_err: [[1.0000]]\n",
      "    proportion_physical: [[0.1200]]\n",
      "    characteristic_time: 8.00\n",
      "\n",
      "    Ratio of contacts and feed in values: [[0.2000]]\n",
      "\n",
      "  isolation_unit:\n",
      "    contacts: [[0.0000,0.0000],[0.0000,0.0000]]\n",
      "    contacts_err: [[0.0000,0.0000],[0.0000,0.0000]]\n",
      "    proportion_physical: [[0.0000,0.0000],[0.0000,0.0000]]\n",
      "    characteristic_time: 24.00\n",
      "\n",
      "    Ratio of contacts and feed in values: [[0.0000,0.0000],[0.0000,0.0000]]\n",
      "\n",
      "  learning_center:\n",
      "    contacts: [[0.7587,0.4432],[0.3002,0.4487]]\n",
      "    contacts_err: [[0.5569,0.3138],[0.2204,0.3177]]\n",
      "    proportion_physical: [[0.1200,0.1200],[0.1200,0.1200]]\n",
      "    characteristic_time: 1.50\n",
      "\n",
      "    Ratio of contacts and feed in values: [[0.0759,0.0692],[0.0676,0.1156]]\n",
      "\n",
      "  n_f_distribution_center:\n",
      "    contacts: [[0.2662,0.7391],[0.2700,0.7281]]\n",
      "    contacts_err: [[0.1940,0.5376],[0.1967,0.5296]]\n",
      "    proportion_physical: [[0.1200]]\n",
      "    characteristic_time: 1.00\n",
      "\n",
      "    Ratio of contacts and feed in values: [[0.0666,0.0542],[0.3417,0.0728]]\n",
      "\n",
      "  play_group:\n",
      "    contacts: [[0.3949,0.3974,0.2051],[0.3996,0.4041,0.2048],[0.3926,0.3898,0.2063]]\n",
      "    contacts_err: [[0.2305,0.2321,0.1197],[0.2333,0.2360,0.1195],[0.2292,0.2277,0.1204]]\n",
      "    proportion_physical: [[0.6000,0.0000,0.0000],[0.0000,0.3000,0.0000],[0.0000,0.0000,0.1500]]\n",
      "    characteristic_time: 2.00\n",
      "\n",
      "    Ratio of contacts and feed in values: [[0.0790,0.0000,0.0000],[0.0000,0.0808,0.0000],[0.0000,0.0000,0.0413]]\n",
      "\n",
      "  pump_latrine:\n",
      "    contacts: [[0.5585,0.4287],[0.5672,0.4493]]\n",
      "    contacts_err: [[0.3956,0.3035],[0.4018,0.3181]]\n",
      "    proportion_physical: [[0.0200]]\n",
      "    characteristic_time: 0.54\n",
      "\n",
      "    Ratio of contacts and feed in values: [[0.1718,0.0441],[0.3480,0.1038]]\n",
      "\n",
      "  religious:\n",
      "    contacts: [[0.3273,0.6851],[0.3196,0.6745]]\n",
      "    contacts_err: [[0.2351,0.4923],[0.2296,0.4846]]\n",
      "    proportion_physical: [[0.1200]]\n",
      "    characteristic_time: 1.00\n",
      "\n",
      "    Ratio of contacts and feed in values: [[0.0655,0.0723],[0.2905,0.0794]]\n",
      "\n",
      "  shelter:\n",
      "    contacts: [[0.5450,0.4525],[0.4550,0.5475]]\n",
      "    contacts_err: [[0.3858,0.3204],[0.3221,0.3876]]\n",
      "    proportion_physical: [[0.8000,0.3000],[0.8000,0.3000]]\n",
      "    characteristic_time: 12.00\n",
      "\n",
      "    Ratio of contacts and feed in values: [[0.1090,0.2263],[0.2275,0.1095]]\n",
      "\n"
     ]
    },
    {
     "data": {
      "text/plain": [
       "1"
      ]
     },
     "execution_count": 72,
     "metadata": {},
     "output_type": "execute_result"
    }
   ],
   "source": [
    "simulator.tracker.post_process_simulation(save=True)"
   ]
  },
  {
   "cell_type": "code",
   "execution_count": null,
   "metadata": {},
   "outputs": [],
   "source": []
  },
  {
   "cell_type": "code",
   "execution_count": null,
   "metadata": {},
   "outputs": [],
   "source": []
  }
 ],
 "metadata": {
  "kernelspec": {
   "display_name": "Python 3 (ipykernel)",
   "language": "python",
   "name": "python3"
  },
  "language_info": {
   "codemirror_mode": {
    "name": "ipython",
    "version": 3
   },
   "file_extension": ".py",
   "mimetype": "text/x-python",
   "name": "python",
   "nbconvert_exporter": "python",
   "pygments_lexer": "ipython3",
   "version": "3.8.10"
  }
 },
 "nbformat": 4,
 "nbformat_minor": 4
}
