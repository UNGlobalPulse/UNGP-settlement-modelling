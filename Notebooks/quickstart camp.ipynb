{
 "cells": [
  {
   "cell_type": "code",
   "execution_count": 1,
   "metadata": {},
   "outputs": [],
   "source": [
    "import warnings\n",
    "warnings.filterwarnings('ignore')"
   ]
  },
  {
   "cell_type": "code",
   "execution_count": 2,
   "metadata": {},
   "outputs": [],
   "source": [
    "import numpy as np\n",
    "import pandas as pd\n",
    "import time\n",
    "import matplotlib.pyplot as plt\n",
    "from datetime import datetime\n",
    "import sys\n",
    "import argparse\n",
    "from pathlib import Path"
   ]
  },
  {
   "cell_type": "code",
   "execution_count": 3,
   "metadata": {},
   "outputs": [
    {
     "name": "stderr",
     "output_type": "stream",
     "text": [
      "No --data argument given - defaulting to:\n",
      "/home/joseph/Documents/PhD/UN_Work/UNGP-settlement-modelling-private/data\n",
      "No --configs argument given - defaulting to:\n",
      "/home/joseph/Documents/PhD/UN_Work/JUNE-private/june/configs\n"
     ]
    },
    {
     "name": "stdout",
     "output_type": "stream",
     "text": [
      "2022-07-22 14:39:16,268 - camps.paths - WARNING - No --camp_data argument given - defaulting to:\n",
      "/home/joseph/Documents/PhD/UN_Work/UNGP-settlement-modelling-private/camp_data\n",
      "2022-07-22 14:39:16,269 - camps.paths - WARNING - No --configs_camps argument given - defaulting to:\n",
      "/home/joseph/Documents/PhD/UN_Work/UNGP-settlement-modelling-private/configs_camps\n"
     ]
    }
   ],
   "source": [
    "from june.geography import Geography\n",
    "from june.demography.demography import (\n",
    "    load_age_and_sex_generators_for_bins,\n",
    "    Demography,\n",
    "    Population,\n",
    "    load_comorbidity_data,\n",
    "    generate_comorbidity,\n",
    ")\n",
    "from june.paths import data_path, configs_path\n",
    "from june.epidemiology.epidemiology import Epidemiology\n",
    "from june.epidemiology.infection import ImmunitySetter\n",
    "from june.epidemiology.infection import Infection, HealthIndexGenerator, InfectionSelector, InfectionSelectors\n",
    "from june.epidemiology.infection_seed import InfectionSeed, InfectionSeeds\n",
    "from june.interaction import Interaction\n",
    "from june.groups import Hospital, Hospitals, Cemeteries\n",
    "from june.distributors import HospitalDistributor\n",
    "from june.hdf5_savers import generate_world_from_hdf5\n",
    "from june.policy import Policy, Policies\n",
    "from june.records import Record\n",
    "from june.simulator import Simulator\n",
    "from june.records import Record, RecordReader\n",
    "\n",
    "from camps.activity import CampActivityManager\n",
    "from camps.paths import camp_data_path, camp_configs_path\n",
    "from camps.world import World\n",
    "from camps.groups.leisure import generate_leisure_for_world, generate_leisure_for_config\n",
    "from camps.camp_creation import (\n",
    "    generate_empty_world,\n",
    "    populate_world,\n",
    "    distribute_people_to_households,\n",
    ")  # this is loaded from the ../camp_scripts folder\n",
    "\n",
    "from june.tracker.tracker import Tracker"
   ]
  },
  {
   "cell_type": "code",
   "execution_count": 4,
   "metadata": {},
   "outputs": [],
   "source": [
    "from camps.groups import PumpLatrines, PumpLatrineDistributor\n",
    "from camps.groups import DistributionCenters, DistributionCenterDistributor\n",
    "from camps.groups import Communals, CommunalDistributor\n",
    "from camps.groups import FemaleCommunals, FemaleCommunalDistributor\n",
    "from camps.groups import Religiouss, ReligiousDistributor\n",
    "from camps.groups import Shelter, Shelters, ShelterDistributor\n",
    "from camps.groups import IsolationUnit, IsolationUnits\n",
    "from camps.groups import LearningCenters\n",
    "from camps.distributors import LearningCenterDistributor\n",
    "from camps.groups import PlayGroups, PlayGroupDistributor\n",
    "from camps.groups import EVouchers, EVoucherDistributor\n",
    "from camps.groups import NFDistributionCenters, NFDistributionCenterDistributor\n",
    "from camps.groups import SheltersVisitsDistributor\n",
    "from camps.groups import InformalWorks, InformalWorkDistributor"
   ]
  },
  {
   "cell_type": "code",
   "execution_count": 5,
   "metadata": {},
   "outputs": [],
   "source": [
    "Results_Path = Path(\"results\")\n",
    "\n",
    "Config_File_Path = camp_configs_path / \"config_demo.yaml\"\n",
    "Interactions_File_Path = camp_configs_path / \"defaults/interaction/interaction_Survey.yaml\"\n",
    "Policies_File_Path = camp_configs_path / \"defaults/policy/simple_policy.yaml\"\n",
    "Hospitals_File_Path = camp_data_path / \"input/hospitals/hospitals.csv\"\n",
    "comorbidity_multipliers_path = camp_configs_path / \"defaults/comorbidities.yaml\"\n",
    "male_comorbidity_reference_prevalence_path = camp_data_path / \"input/demography/uk_male_comorbidities.csv\"\n",
    "female_comorbidity_reference_prevalence_path = camp_data_path / \"input/demography/uk_female_comorbidities.csv\""
   ]
  },
  {
   "cell_type": "markdown",
   "metadata": {},
   "source": [
    "## Initialize the world"
   ]
  },
  {
   "cell_type": "markdown",
   "metadata": {},
   "source": [
    "When we create the camp to be simulated, we call this the 'world'. The world is initialised after specifying which geographical regions you want to simulate. We can do this by using the `filter_key` argument in the `generate_empty_world` function. Cox's Bazar Expansion Site is made up of camps (which we call regions), UNHCR blocks (which we call super areas) and Mahjee blocks (which we call areas). These are the 3 heirarchical levels on which our model works. You can pass lists of the regions/super_areas/areas to the function here. Alternatively, by leaving the function empty you can generate the entire Cox's Bazar Expansion Site consisting of 112 super areas."
   ]
  },
  {
   "cell_type": "code",
   "execution_count": 6,
   "metadata": {},
   "outputs": [
    {
     "name": "stdout",
     "output_type": "stream",
     "text": [
      "2022-07-22 14:39:18,563 - june.geography.geography - INFO - There are 65 areas and 4 super_areas and 1 regions in the world.\n"
     ]
    }
   ],
   "source": [
    "# create empty world's geography\n",
    "world = generate_empty_world(filter_key = {\"region\" : [\"CXB-219\"]})"
   ]
  },
  {
   "cell_type": "code",
   "execution_count": 7,
   "metadata": {},
   "outputs": [],
   "source": [
    "# populate empty world\n",
    "populate_world(world)"
   ]
  },
  {
   "cell_type": "code",
   "execution_count": 8,
   "metadata": {},
   "outputs": [
    {
     "name": "stdout",
     "output_type": "stream",
     "text": [
      "Distributing 467 people to CXB-219-001\n",
      "Distributing 369 people to CXB-219-002\n",
      "Distributing 331 people to CXB-219-003\n",
      "Distributing 386 people to CXB-219-004\n",
      "Distributing 313 people to CXB-219-005\n",
      "Distributing 330 people to CXB-219-006\n",
      "Distributing 259 people to CXB-219-007\n",
      "Distributing 350 people to CXB-219-009\n",
      "Distributing 274 people to CXB-219-010\n",
      "Distributing 249 people to CXB-219-011\n",
      "Distributing 464 people to CXB-219-012\n",
      "Distributing 418 people to CXB-219-013\n",
      "Distributing 460 people to CXB-219-014\n",
      "Distributing 384 people to CXB-219-017\n",
      "Distributing 417 people to CXB-219-020\n",
      "Distributing 425 people to CXB-219-021\n",
      "Distributing 414 people to CXB-219-022\n",
      "Distributing 383 people to CXB-219-024\n",
      "Distributing 377 people to CXB-219-025\n",
      "Distributing 379 people to CXB-219-026\n",
      "Distributing 413 people to CXB-219-027\n",
      "Distributing 392 people to CXB-219-028\n",
      "Distributing 331 people to CXB-219-029\n",
      "Distributing 459 people to CXB-219-030\n",
      "Distributing 394 people to CXB-219-032\n",
      "Distributing 339 people to CXB-219-033\n",
      "Distributing 373 people to CXB-219-034\n",
      "Distributing 260 people to CXB-219-036\n",
      "Distributing 455 people to CXB-219-037\n",
      "Distributing 459 people to CXB-219-038\n",
      "Distributing 488 people to CXB-219-039\n",
      "Distributing 175 people to CXB-219-040\n",
      "Distributing 330 people to CXB-219-041\n",
      "Distributing 399 people to CXB-219-042\n",
      "Distributing 398 people to CXB-219-043\n",
      "Distributing 368 people to CXB-219-044\n",
      "Distributing 429 people to CXB-219-045\n",
      "Distributing 450 people to CXB-219-046\n",
      "Distributing 245 people to CXB-219-047\n",
      "Distributing 311 people to CXB-219-048\n",
      "Distributing 335 people to CXB-219-049\n",
      "Distributing 206 people to CXB-219-050\n",
      "Distributing 343 people to CXB-219-051\n",
      "Distributing 347 people to CXB-219-052\n",
      "Distributing 534 people to CXB-219-053\n",
      "Distributing 380 people to CXB-219-054\n",
      "Distributing 253 people to CXB-219-055\n",
      "Distributing 274 people to CXB-219-056\n",
      "Distributing 247 people to CXB-219-057\n",
      "Distributing 376 people to CXB-219-058\n",
      "Distributing 342 people to CXB-219-059\n",
      "Distributing 331 people to CXB-219-060\n",
      "Distributing 413 people to CXB-219-061\n",
      "Distributing 258 people to CXB-219-062\n",
      "Distributing 286 people to CXB-219-063\n",
      "Distributing 194 people to CXB-219-064\n",
      "Distributing 211 people to CXB-219-065\n",
      "Distributing 330 people to CXB-219-066\n",
      "Distributing 315 people to CXB-219-067\n",
      "Distributing 386 people to CXB-219-068\n",
      "Distributing 551 people to CXB-219-069\n",
      "Distributing 321 people to CXB-219-070\n",
      "Distributing 216 people to CXB-219-071\n",
      "Distributing 311 people to CXB-234-001\n",
      "Distributing 276 people to CXB-234-002\n"
     ]
    }
   ],
   "source": [
    "# distribute people to households\n",
    "distribute_people_to_households(world)"
   ]
  },
  {
   "cell_type": "code",
   "execution_count": 9,
   "metadata": {},
   "outputs": [
    {
     "name": "stdout",
     "output_type": "stream",
     "text": [
      "2022-07-22 14:39:26,303 - learning_centers - INFO - There are 1243 learning center(s)\n"
     ]
    }
   ],
   "source": [
    "LearningCenters.Get_Interaction(Interactions_File_Path)\n",
    "world.learning_centers = LearningCenters.for_areas(world.areas)\n",
    "\n",
    "learningcenter_distributor = LearningCenterDistributor.from_file(world.learning_centers)\n",
    "\n",
    "learningcenter_distributor.distribute_teachers_to_learning_centers(world.areas)\n",
    "learningcenter_distributor.distribute_kids_to_learning_centers(world.areas)"
   ]
  },
  {
   "cell_type": "code",
   "execution_count": 10,
   "metadata": {},
   "outputs": [
    {
     "name": "stdout",
     "output_type": "stream",
     "text": [
      "2022-07-22 14:39:27,945 - hospitals - INFO - There are 8 hospitals in the world.\n",
      "2022-07-22 14:39:27,964 - isolation units - INFO - There are 8 isolation unit(s)\n"
     ]
    }
   ],
   "source": [
    "# distribute hospitals\n",
    "Hospitals.Get_Interaction(Interactions_File_Path)\n",
    "IsolationUnits.Get_Interaction(Interactions_File_Path)\n",
    "\n",
    "hospitals = Hospitals.from_file(\n",
    "    filename=Hospitals_File_Path\n",
    ")\n",
    "\n",
    "\n",
    "for hospital in hospitals:\n",
    "    hospital.area = world.areas.get_closest_area(hospital.coordinates)\n",
    "    \n",
    "world.hospitals = hospitals\n",
    "hospital_distributor = HospitalDistributor(\n",
    "    hospitals, medic_min_age=20, patients_per_medic=10\n",
    ")\n",
    "hospital_distributor.assign_closest_hospitals_to_super_areas(\n",
    "    world.super_areas\n",
    ")\n",
    "\n",
    "world.isolation_units = IsolationUnits([IsolationUnit(area=hospital.area) for hospital in world.hospitals])\n",
    "hospital_distributor.distribute_medics_from_world(world.people)"
   ]
  },
  {
   "cell_type": "code",
   "execution_count": 11,
   "metadata": {},
   "outputs": [
    {
     "name": "stdout",
     "output_type": "stream",
     "text": [
      "2022-07-22 14:39:28,081 - social_venue - INFO - Domain 0 has 82 pump_latrines(s)\n",
      "2022-07-22 14:39:28,286 - social_venue - INFO - Domain 0 has 538 play_groups(s)\n",
      "2022-07-22 14:39:28,350 - social_venue - INFO - Domain 0 has 21 distribution_centers(s)\n",
      "2022-07-22 14:39:28,494 - social_venue - INFO - Domain 0 has 115 communals(s)\n",
      "2022-07-22 14:39:28,604 - social_venue - INFO - Domain 0 has 67 female_communals(s)\n",
      "2022-07-22 14:39:30,238 - social_venue - INFO - Domain 0 has 2065 religiouss(s)\n",
      "2022-07-22 14:39:30,312 - social_venue - INFO - Domain 0 has 7 e_vouchers(s)\n",
      "2022-07-22 14:39:30,386 - social_venue - INFO - Domain 0 has 41 n_f_distribution_centers(s)\n",
      "2022-07-22 14:39:30,456 - social_venue - INFO - Domain 0 has 80 informal_works(s)\n"
     ]
    }
   ],
   "source": [
    "PumpLatrines.Get_Interaction(Interactions_File_Path)\n",
    "world.pump_latrines = PumpLatrines.for_areas(world.areas)\n",
    "\n",
    "PlayGroups.Get_Interaction(Interactions_File_Path)\n",
    "world.play_groups = PlayGroups.for_areas(world.areas)\n",
    "\n",
    "DistributionCenters.Get_Interaction(Interactions_File_Path)\n",
    "world.distribution_centers = DistributionCenters.for_areas(world.areas)\n",
    "\n",
    "Communals.Get_Interaction(Interactions_File_Path)\n",
    "world.communals = Communals.for_areas(world.areas)\n",
    "\n",
    "FemaleCommunals.Get_Interaction(Interactions_File_Path)\n",
    "world.female_communals = FemaleCommunals.for_areas(world.areas)\n",
    "\n",
    "Religiouss.Get_Interaction(Interactions_File_Path)\n",
    "world.religiouss = Religiouss.for_areas(world.areas)\n",
    "\n",
    "EVouchers.Get_Interaction(Interactions_File_Path)\n",
    "world.e_vouchers = EVouchers.for_areas(world.areas)\n",
    "\n",
    "NFDistributionCenters.Get_Interaction(Interactions_File_Path)\n",
    "world.n_f_distribution_centers = NFDistributionCenters.for_areas(world.areas)\n",
    "\n",
    "InformalWorks.Get_Interaction(Interactions_File_Path)\n",
    "world.informal_works = InformalWorks.for_areas(world.areas)"
   ]
  },
  {
   "cell_type": "code",
   "execution_count": 12,
   "metadata": {},
   "outputs": [
    {
     "name": "stdout",
     "output_type": "stream",
     "text": [
      "cemetery not defined in interaction yaml or defualt options\n"
     ]
    }
   ],
   "source": [
    "world.cemeteries = Cemeteries()"
   ]
  },
  {
   "cell_type": "markdown",
   "metadata": {},
   "source": [
    "## Geography exploration"
   ]
  },
  {
   "cell_type": "markdown",
   "metadata": {},
   "source": [
    "The geography is initialised first and can be explored."
   ]
  },
  {
   "cell_type": "markdown",
   "metadata": {},
   "source": [
    "### UNHCR camp blocks inside the World"
   ]
  },
  {
   "cell_type": "code",
   "execution_count": 13,
   "metadata": {},
   "outputs": [],
   "source": [
    "super_areas = []\n",
    "for super_area in world.super_areas:\n",
    "    super_areas.append(super_area.name)"
   ]
  },
  {
   "cell_type": "code",
   "execution_count": 14,
   "metadata": {},
   "outputs": [
    {
     "data": {
      "text/plain": [
       "['CXB-219-A', 'CXB-219-B', 'CXB-219-C', 'CXB-219-D']"
      ]
     },
     "execution_count": 14,
     "metadata": {},
     "output_type": "execute_result"
    }
   ],
   "source": [
    "super_areas[:5]"
   ]
  },
  {
   "cell_type": "markdown",
   "metadata": {},
   "source": [
    "### Mahjee blocks inside World"
   ]
  },
  {
   "cell_type": "code",
   "execution_count": 15,
   "metadata": {},
   "outputs": [],
   "source": [
    "areas = []\n",
    "for area in world.areas:\n",
    "    areas.append(area.name)"
   ]
  },
  {
   "cell_type": "code",
   "execution_count": 16,
   "metadata": {},
   "outputs": [
    {
     "data": {
      "text/plain": [
       "['CXB-219-001', 'CXB-219-002', 'CXB-219-003', 'CXB-219-004', 'CXB-219-005']"
      ]
     },
     "execution_count": 16,
     "metadata": {},
     "output_type": "execute_result"
    }
   ],
   "source": [
    "areas[:5]"
   ]
  },
  {
   "cell_type": "markdown",
   "metadata": {},
   "source": [
    "## Demography exploration"
   ]
  },
  {
   "cell_type": "markdown",
   "metadata": {},
   "source": [
    "Once we have populated the 'digital twin' we can explore some of the attributes of the people we have created in the simulation."
   ]
  },
  {
   "cell_type": "markdown",
   "metadata": {},
   "source": [
    "### UNHCR block residents"
   ]
  },
  {
   "cell_type": "code",
   "execution_count": 17,
   "metadata": {},
   "outputs": [],
   "source": [
    "sample_ages = []\n",
    "sample_sexes = []\n",
    "for person in world.super_areas.members[0].people:\n",
    "    sample_ages.append(person.age)\n",
    "    sample_sexes.append(person.sex)"
   ]
  },
  {
   "cell_type": "code",
   "execution_count": 18,
   "metadata": {},
   "outputs": [
    {
     "data": {
      "text/plain": [
       "(['f', 'm', 'm', 'f', 'm'], [38, 39, 60, 56, 21])"
      ]
     },
     "execution_count": 18,
     "metadata": {},
     "output_type": "execute_result"
    }
   ],
   "source": [
    "sample_sexes[:5], sample_ages[:5]"
   ]
  },
  {
   "cell_type": "code",
   "execution_count": 19,
   "metadata": {},
   "outputs": [
    {
     "data": {
      "image/png": "[encoded data removed]",
      "text/plain": [
       "<Figure size 432x288 with 1 Axes>"
      ]
     },
     "metadata": {
      "needs_background": "light"
     },
     "output_type": "display_data"
    }
   ],
   "source": [
    "ages, counts = np.unique(sample_ages, return_counts=True)\n",
    "plt.bar(ages, counts)\n",
    "plt.title('super area: {} age distribution'.format(world.super_areas.members[0].name))\n",
    "plt.show()"
   ]
  },
  {
   "cell_type": "code",
   "execution_count": 20,
   "metadata": {},
   "outputs": [
    {
     "name": "stdout",
     "output_type": "stream",
     "text": [
      "The % children between ages 0-16 is 49%\n"
     ]
    }
   ],
   "source": [
    "print ('The % children between ages 0-16 is {}%'.format(round(np.sum(counts[:16])/(np.sum(counts[:16])+np.sum(counts[16:]))*100)))"
   ]
  },
  {
   "cell_type": "markdown",
   "metadata": {},
   "source": [
    "## Households"
   ]
  },
  {
   "cell_type": "markdown",
   "metadata": {},
   "source": [
    "In this model, we will use the term 'family' and 'household' interchangeably. After populating the 'digital twin', we need to cluster people into families. To do this, we take account of age structure so that children live with adults, that there are some intergenerational households and such that we might also have some households of only adults."
   ]
  },
  {
   "cell_type": "markdown",
   "metadata": {},
   "source": [
    "### Household size distribution"
   ]
  },
  {
   "cell_type": "code",
   "execution_count": 21,
   "metadata": {},
   "outputs": [
    {
     "data": {
      "image/png": "[encoded data removed]",
      "text/plain": [
       "<Figure size 432x288 with 1 Axes>"
      ]
     },
     "metadata": {
      "needs_background": "light"
     },
     "output_type": "display_data"
    }
   ],
   "source": [
    "household_sizes = [household.size for household in world.households]\n",
    "plt.hist(household_sizes, density=True, bins=np.arange(0,12))\n",
    "plt.xlabel(\"Household size\")\n",
    "plt.ylabel(\"Frequency\")\n",
    "plt.axvline(np.mean(household_sizes), color=\"cyan\")\n",
    "plt.text(8, 0.150, f\"Avg. size: {(np.mean(household_sizes)):.2f}\")\n",
    "plt.show()"
   ]
  },
  {
   "cell_type": "markdown",
   "metadata": {},
   "source": [
    "# Shelters"
   ]
  },
  {
   "cell_type": "markdown",
   "metadata": {},
   "source": [
    "Shelters house people in the camp. Since we know that families (houseohlds) often share shelters with other families, we can set the `sharing_shelter_ratio` to cluster families into shared shelters."
   ]
  },
  {
   "cell_type": "code",
   "execution_count": 22,
   "metadata": {},
   "outputs": [],
   "source": [
    "Shelters.Get_Interaction(Interactions_File_Path)\n",
    "world.shelters = Shelters.for_areas(world.areas)\n",
    "shelter_distributor = ShelterDistributor(sharing_shelter_ratio = 0.75) # proportion of families that share a shelter\n",
    "for area in world.areas:\n",
    "    shelter_distributor.distribute_people_in_shelters(area.shelters, area.households)"
   ]
  },
  {
   "cell_type": "code",
   "execution_count": 23,
   "metadata": {},
   "outputs": [
    {
     "data": {
      "image/png": "[encoded data removed]",
      "text/plain": [
       "<Figure size 576x216 with 2 Axes>"
      ]
     },
     "metadata": {
      "needs_background": "light"
     },
     "output_type": "display_data"
    }
   ],
   "source": [
    "fig, ax = plt.subplots(1, 2, figsize=(8,3))\n",
    "shelter_sizes = [shelter.size for shelter in world.shelters]\n",
    "shelter_families = [shelter.n_families for shelter in world.shelters]\n",
    "ax[0].hist(shelter_sizes)\n",
    "ax[0].set_title(\"Shelter size\")\n",
    "shelter_families = {1 : len([shelter for shelter in world.shelters if shelter.n_families == 1]),\n",
    "                    2 : len([shelter for shelter in world.shelters if shelter.n_families == 2])}\n",
    "ax[1].bar(shelter_families.keys(), shelter_families.values())\n",
    "ax[1].set_title(\"# families per shelter\")\n",
    "plt.show()"
   ]
  },
  {
   "cell_type": "markdown",
   "metadata": {},
   "source": [
    "## Activity exploration"
   ]
  },
  {
   "cell_type": "markdown",
   "metadata": {},
   "source": [
    "Once different activity locations are seeded in the 'digital twin' we can explore how many there are in different areas of the twin, and their coordinates to check they've all been added correctly."
   ]
  },
  {
   "cell_type": "markdown",
   "metadata": {},
   "source": [
    "### Pumps and latrines "
   ]
  },
  {
   "cell_type": "code",
   "execution_count": 24,
   "metadata": {},
   "outputs": [],
   "source": [
    "pumps_and_latrines = []\n",
    "for pump_latrine in world.areas.members[0].pump_latrines:\n",
    "    pumps_and_latrines.append(pump_latrine)"
   ]
  },
  {
   "cell_type": "code",
   "execution_count": 25,
   "metadata": {},
   "outputs": [
    {
     "name": "stdout",
     "output_type": "stream",
     "text": [
      "There are 2 pumps and latrines in area CXB-219-001\n"
     ]
    }
   ],
   "source": [
    "print ('There are {} pumps and latrines in area {}'.format(len(pumps_and_latrines), world.areas.members[0].name))"
   ]
  },
  {
   "cell_type": "markdown",
   "metadata": {},
   "source": [
    "### Informal work"
   ]
  },
  {
   "cell_type": "code",
   "execution_count": 26,
   "metadata": {},
   "outputs": [],
   "source": [
    "Informal_work_Sites = []\n",
    "for informal_work in world.areas.members[0].informal_works:\n",
    "    Informal_work_Sites.append(informal_work)"
   ]
  },
  {
   "cell_type": "code",
   "execution_count": 27,
   "metadata": {},
   "outputs": [
    {
     "name": "stdout",
     "output_type": "stream",
     "text": [
      "There are 2 informal work sites in area CXB-219-001\n"
     ]
    }
   ],
   "source": [
    "print ('There are {} informal work sites in area {}'.format(len(Informal_work_Sites), world.areas.members[0].name))"
   ]
  },
  {
   "cell_type": "markdown",
   "metadata": {},
   "source": [
    "### Distribution centers"
   ]
  },
  {
   "cell_type": "code",
   "execution_count": 28,
   "metadata": {},
   "outputs": [],
   "source": [
    "distribution_centers = []\n",
    "for center in world.distribution_centers:\n",
    "    distribution_centers.append(center)"
   ]
  },
  {
   "cell_type": "code",
   "execution_count": 29,
   "metadata": {},
   "outputs": [
    {
     "data": {
      "text/plain": [
       "array([21.2136    , 92.15678833])"
      ]
     },
     "execution_count": 29,
     "metadata": {},
     "output_type": "execute_result"
    }
   ],
   "source": [
    "distribution_centers[0].coordinates"
   ]
  },
  {
   "cell_type": "markdown",
   "metadata": {},
   "source": [
    "### Non-food Distribution centers"
   ]
  },
  {
   "cell_type": "code",
   "execution_count": 30,
   "metadata": {},
   "outputs": [],
   "source": [
    "non_food_distribution_centers = []\n",
    "for center in world.n_f_distribution_centers:\n",
    "    non_food_distribution_centers.append(center)"
   ]
  },
  {
   "cell_type": "code",
   "execution_count": 31,
   "metadata": {},
   "outputs": [
    {
     "data": {
      "text/plain": [
       "array([21.21268167, 92.1438    ])"
      ]
     },
     "execution_count": 31,
     "metadata": {},
     "output_type": "execute_result"
    }
   ],
   "source": [
    "non_food_distribution_centers[0].coordinates"
   ]
  },
  {
   "cell_type": "markdown",
   "metadata": {},
   "source": [
    "### E-Voucher outlets"
   ]
  },
  {
   "cell_type": "code",
   "execution_count": 32,
   "metadata": {},
   "outputs": [],
   "source": [
    "e_voucher_outlets = []\n",
    "for center in world.e_vouchers:\n",
    "    e_voucher_outlets.append(center)"
   ]
  },
  {
   "cell_type": "code",
   "execution_count": 33,
   "metadata": {},
   "outputs": [
    {
     "data": {
      "text/plain": [
       "array([21.212945, 92.142915])"
      ]
     },
     "execution_count": 33,
     "metadata": {},
     "output_type": "execute_result"
    }
   ],
   "source": [
    "e_voucher_outlets[0].coordinates"
   ]
  },
  {
   "cell_type": "markdown",
   "metadata": {},
   "source": [
    "### Communal spaces"
   ]
  },
  {
   "cell_type": "code",
   "execution_count": 34,
   "metadata": {},
   "outputs": [],
   "source": [
    "communal_spaces = []\n",
    "for space in world.communals:\n",
    "    communal_spaces.append(space)"
   ]
  },
  {
   "cell_type": "code",
   "execution_count": 35,
   "metadata": {},
   "outputs": [
    {
     "data": {
      "text/plain": [
       "array([21.19508, 92.16525])"
      ]
     },
     "execution_count": 35,
     "metadata": {},
     "output_type": "execute_result"
    }
   ],
   "source": [
    "communal_spaces[0].coordinates"
   ]
  },
  {
   "cell_type": "markdown",
   "metadata": {},
   "source": [
    "### Female friendly communal spaces"
   ]
  },
  {
   "cell_type": "code",
   "execution_count": 36,
   "metadata": {},
   "outputs": [],
   "source": [
    "female_communal_spaces = []\n",
    "for space in world.female_communals:\n",
    "    female_communal_spaces.append(space)"
   ]
  },
  {
   "cell_type": "code",
   "execution_count": 37,
   "metadata": {},
   "outputs": [
    {
     "data": {
      "text/plain": [
       "array([21.20686305, 92.16070923])"
      ]
     },
     "execution_count": 37,
     "metadata": {},
     "output_type": "execute_result"
    }
   ],
   "source": [
    "female_communal_spaces[0].coordinates"
   ]
  },
  {
   "cell_type": "markdown",
   "metadata": {},
   "source": [
    "### Religious sites"
   ]
  },
  {
   "cell_type": "code",
   "execution_count": 38,
   "metadata": {},
   "outputs": [],
   "source": [
    "religious = []\n",
    "for rel in world.religiouss:\n",
    "    religious.append(rel)"
   ]
  },
  {
   "cell_type": "code",
   "execution_count": 39,
   "metadata": {},
   "outputs": [
    {
     "data": {
      "text/plain": [
       "array([21.21804605, 92.1546829 ])"
      ]
     },
     "execution_count": 39,
     "metadata": {},
     "output_type": "execute_result"
    }
   ],
   "source": [
    "religious[0].coordinates"
   ]
  },
  {
   "cell_type": "markdown",
   "metadata": {},
   "source": [
    "# Adding the infection"
   ]
  },
  {
   "cell_type": "markdown",
   "metadata": {},
   "source": [
    "The selector handles how infections are handled in the code. You can set different 'symptom trajectories' (e.g. exposed->mild->severe->hospitalised->intensive care) from different files. Here, we use the default."
   ]
  },
  {
   "cell_type": "code",
   "execution_count": 40,
   "metadata": {},
   "outputs": [],
   "source": [
    "selector = InfectionSelector.from_file()"
   ]
  },
  {
   "cell_type": "code",
   "execution_count": 41,
   "metadata": {},
   "outputs": [],
   "source": [
    "selectors = InfectionSelectors([selector])"
   ]
  },
  {
   "cell_type": "markdown",
   "metadata": {},
   "source": [
    "# Adding the interaction"
   ]
  },
  {
   "cell_type": "markdown",
   "metadata": {},
   "source": [
    "The interaction class handles how many contacts people have in different locations and with who. If contact matrices are available, these can be coded in a `.yaml` file and fed into the class here."
   ]
  },
  {
   "cell_type": "code",
   "execution_count": 42,
   "metadata": {},
   "outputs": [],
   "source": [
    "interaction = Interaction.from_file(\n",
    "    config_filename=Interactions_File_Path,\n",
    ")"
   ]
  },
  {
   "cell_type": "markdown",
   "metadata": {},
   "source": [
    "# Set policies"
   ]
  },
  {
   "cell_type": "markdown",
   "metadata": {},
   "source": [
    "Policies control how 'operational interventions' are set in the camp. Here we set some social distancing policies, policies relating to medical care, such as people with severe symptoms being hospitalised, and individual and activity policies which can dynamically change how often and where people go, e.g. here, we close all female communal spaces and non-food distirbution centers which the camp did back in March"
   ]
  },
  {
   "cell_type": "code",
   "execution_count": 43,
   "metadata": {},
   "outputs": [],
   "source": [
    "policies = Policies.from_file(\n",
    "        Policies_File_Path,\n",
    "        base_policy_modules=(\"june.policy\", \"camps.policy\"),\n",
    "    )"
   ]
  },
  {
   "cell_type": "code",
   "execution_count": 44,
   "metadata": {},
   "outputs": [
    {
     "data": {
      "text/plain": [
       "[<june.policy.interaction_policies.SocialDistancing at 0x7fe044023d30>,\n",
       " <june.policy.medical_care_policies.Hospitalisation at 0x7fe0440233a0>,\n",
       " <june.policy.individual_policies.SevereSymptomsStayHome at 0x7fe044023430>,\n",
       " <june.policy.individual_policies.Quarantine at 0x7fe044023b50>]"
      ]
     },
     "execution_count": 44,
     "metadata": {},
     "output_type": "execute_result"
    }
   ],
   "source": [
    "policies.policies"
   ]
  },
  {
   "cell_type": "markdown",
   "metadata": {},
   "source": [
    "# Seed the disease"
   ]
  },
  {
   "cell_type": "markdown",
   "metadata": {},
   "source": [
    "Set intial seeding conditions. This can be done at the camp level specifically, or generally by seeding them randomly. Here the `n_cases` is the number of randomly seeded people over the entire population."
   ]
  },
  {
   "cell_type": "code",
   "execution_count": 45,
   "metadata": {},
   "outputs": [],
   "source": [
    "infection_seed = InfectionSeed.from_uniform_cases(\n",
    "    world=world, infection_selector=selector, cases_per_capita=0.01, date=\"2020-05-24 9:00\", seed_past_infections=False,\n",
    ")"
   ]
  },
  {
   "cell_type": "code",
   "execution_count": 46,
   "metadata": {},
   "outputs": [],
   "source": [
    "infection_seeds = InfectionSeeds([infection_seed])"
   ]
  },
  {
   "cell_type": "code",
   "execution_count": 47,
   "metadata": {},
   "outputs": [],
   "source": [
    "immunity_setter = ImmunitySetter.from_file_with_comorbidities(\n",
    "    comorbidity_multipliers_path= comorbidity_multipliers_path,\n",
    "    male_comorbidity_reference_prevalence_path= male_comorbidity_reference_prevalence_path,\n",
    "    female_comorbidity_reference_prevalence_path = female_comorbidity_reference_prevalence_path,   \n",
    ")"
   ]
  },
  {
   "cell_type": "code",
   "execution_count": 48,
   "metadata": {},
   "outputs": [],
   "source": [
    "epidemiology = Epidemiology(\n",
    "    infection_selectors=selectors,\n",
    "    infection_seeds=infection_seeds,\n",
    "    immunity_setter=immunity_setter,\n",
    ")"
   ]
  },
  {
   "cell_type": "markdown",
   "metadata": {},
   "source": [
    "## Select config file"
   ]
  },
  {
   "cell_type": "markdown",
   "metadata": {},
   "source": [
    "Before running the simualtion we must select the config file which defines how the world is set up and the simualtor will work. Specifically, the condif file specifies which activities will be included, how long we'll run the simualtion for, what the initial starting day will be and what the structure of weekdays and weekends will look like (if different)"
   ]
  },
  {
   "cell_type": "code",
   "execution_count": 49,
   "metadata": {},
   "outputs": [],
   "source": [
    "CONFIG_PATH = Config_File_Path"
   ]
  },
  {
   "cell_type": "markdown",
   "metadata": {},
   "source": [
    "# Initialise activities"
   ]
  },
  {
   "cell_type": "markdown",
   "metadata": {},
   "source": [
    "The final step to intialising the simulator class which brings all of this together is to inialise all the activity distirbutors (the term 'leisure' is a legacy of the original version of this code used for modelling COVID-19 in the UK). This will mean that people know where they can go at and given time."
   ]
  },
  {
   "cell_type": "code",
   "execution_count": 50,
   "metadata": {},
   "outputs": [
    {
     "name": "stdout",
     "output_type": "stream",
     "text": [
      "2022-07-22 14:39:33,938 - leisure - INFO - Linking households and care homes for visits\n",
      "2022-07-22 14:39:33,940 - leisure - INFO - Done\n",
      "2022-07-22 14:39:33,942 - leisure - INFO - Distributing social venues to areas\n",
      "2022-07-22 14:39:33,944 - leisure - INFO - Distributed in 0 of 65 areas.\n",
      "2022-07-22 14:39:34,083 - leisure - INFO - Distributed in 65 of 65 areas.\n"
     ]
    }
   ],
   "source": [
    "leisure = generate_leisure_for_config(world=world, config_filename=CONFIG_PATH)\n",
    "# associate social activities to shelters\n",
    "leisure.distribute_social_venues_to_areas(world.areas, world.super_areas)"
   ]
  },
  {
   "cell_type": "markdown",
   "metadata": {},
   "source": [
    "# Define a contact Tracker"
   ]
  },
  {
   "cell_type": "markdown",
   "metadata": {},
   "source": [
    "We define a list of venues in which to track. This is fed into JUNE's tracker class. We can specify tracking contacts by sex, the type of possible contacts \"1D\" (simulated contacts based on the input interaction matrices) or \"All\" (everyone at each venue contacts each other). Lastly we can find a subset of venues upto N but defining MaxVenueTrackingSize=N."
   ]
  },
  {
   "cell_type": "code",
   "execution_count": 51,
   "metadata": {},
   "outputs": [],
   "source": [
    "group_types=[\n",
    "        world.hospitals,\n",
    "        world.distribution_centers,\n",
    "        world.communals,\n",
    "        world.female_communals,\n",
    "        world.pump_latrines,\n",
    "        world.religiouss,\n",
    "        world.play_groups,\n",
    "        world.e_vouchers,\n",
    "        world.n_f_distribution_centers,\n",
    "        world.shelters,\n",
    "        world.learning_centers,\n",
    "        world.informal_works,\n",
    "        world.isolation_units,\n",
    "    ]\n",
    "\n",
    "tracker = Tracker(\n",
    "    world=world,\n",
    "    record_path=Results_Path,\n",
    "    group_types=group_types,\n",
    "    load_interactions_path=Interactions_File_Path,\n",
    "    contact_sexes=[\"unisex\", \"male\", \"female\"],\n",
    "    Tracker_Contact_Type=[\"1D\", \"All\"],\n",
    "    MaxVenueTrackingSize = 500\n",
    ")"
   ]
  },
  {
   "cell_type": "markdown",
   "metadata": {},
   "source": [
    "# Initialise simulator and run"
   ]
  },
  {
   "cell_type": "markdown",
   "metadata": {},
   "source": [
    "The recorder is defined which will log all interactions and infections in the simualation for later analysis. The `record_path` can be changed to any path where you want the recorded data to be stored."
   ]
  },
  {
   "cell_type": "code",
   "execution_count": 52,
   "metadata": {},
   "outputs": [],
   "source": [
    "record = Record(\n",
    "    record_path=Results_Path, \n",
    "    record_static_data=True\n",
    ")\n"
   ]
  },
  {
   "cell_type": "markdown",
   "metadata": {},
   "source": [
    "The simulator is defined with all the different necessary components we have built up so far"
   ]
  },
  {
   "cell_type": "code",
   "execution_count": 53,
   "metadata": {},
   "outputs": [],
   "source": [
    "Simulator.ActivityManager = CampActivityManager\n",
    "simulator = Simulator.from_file(\n",
    "    world=world,\n",
    "    interaction=interaction,\n",
    "    tracker=tracker,\n",
    "    leisure=leisure,\n",
    "    policies=policies,\n",
    "    config_filename=CONFIG_PATH,\n",
    "    epidemiology=epidemiology,\n",
    "    record=record,\n",
    ")"
   ]
  },
  {
   "cell_type": "markdown",
   "metadata": {},
   "source": [
    "Finally we can run a small simualation"
   ]
  },
  {
   "cell_type": "code",
   "execution_count": 54,
   "metadata": {
    "scrolled": true
   },
   "outputs": [
    {
     "name": "stdout",
     "output_type": "stream",
     "text": [
      "2022-07-22 14:39:35,029 - simulator - INFO - Starting simulation for 7 days at day 2020-05-24 09:00:00,to run for 7 days\n",
      "2022-07-22 14:39:35,141 - seed - INFO - Seeding Covid19 infections at date 2020-05-24\n",
      "2022-07-22 14:39:35,955 - rank - INFO - Next timestep\n",
      "2022-07-22 14:39:35,958 - simulator - INFO - ==================== timestep ====================\n",
      "2022-07-22 14:39:36,240 - rank - INFO - Rank 0 -- move_people -- 0.2806668630000786\n",
      "2022-07-22 14:39:36,242 - rank - INFO - Rank 0 -- move_people_waiting -- 1.1689000530168414e-05\n",
      "2022-07-22 14:39:36,243 - activity_manager - INFO - CMS: People COMS for rank 0/1 - 5.73799479752779e-06,4.76837158203125e-06 - 2020-05-24 09:00:00\n",
      "2022-07-22 14:39:36,258 - simulator - INFO - Info for rank 0, Date = 2020-05-24 09:00:00, number of deaths =  0, number of infected = 218\n",
      "2022-07-22 14:39:36,392 - rank - INFO - Rank 0 -- interaction -- 0.1414168530027382\n",
      "2022-07-22 14:39:36,404 - tracker - INFO - Rank 0 -- tracking contacts -- 500 of 3274 of type shelter\n",
      "2022-07-22 14:39:37,497 - tracker - INFO - Rank 0 -- tracking contacts -- 115 of 115 of type communal\n",
      "2022-07-22 14:39:37,500 - tracker - INFO - Rank 0 -- tracking contacts -- 21 of 21 of type distribution_center\n",
      "2022-07-22 14:39:37,502 - tracker - INFO - Rank 0 -- tracking contacts -- 7 of 7 of type e_voucher\n",
      "2022-07-22 14:39:37,504 - tracker - INFO - Rank 0 -- tracking contacts -- 67 of 67 of type female_communal\n",
      "2022-07-22 14:39:37,507 - tracker - INFO - Rank 0 -- tracking contacts -- 80 of 80 of type informal_work\n",
      "2022-07-22 14:39:37,510 - tracker - INFO - Rank 0 -- tracking contacts -- 41 of 41 of type n_f_distribution_center\n",
      "2022-07-22 14:39:37,514 - tracker - INFO - Rank 0 -- tracking contacts -- 500 of 538 of type play_group\n",
      "2022-07-22 14:39:37,528 - tracker - INFO - Rank 0 -- tracking contacts -- 82 of 82 of type pump_latrine\n",
      "2022-07-22 14:39:37,549 - tracker - INFO - Rank 0 -- tracking contacts -- 500 of 2065 of type religious\n",
      "2022-07-22 14:39:37,560 - tracker - INFO - Rank 0 -- tracking contacts -- 8 of 8 of type hospital\n",
      "2022-07-22 14:39:37,575 - tracker - INFO - Rank 0 -- tracking contacts -- 8 of 8 of type isolation_unit\n",
      "2022-07-22 14:39:37,577 - tracker - INFO - Rank 0 -- tracking contacts -- 389 of 389 of type learning_center\n",
      "2022-07-22 14:39:38,948 - rank - INFO - Rank 0 -- tracker -- 2.551979919000587\n",
      "2022-07-22 14:39:38,950 - epidemiology - INFO - CMS: Infection COMS-v2 for rank 0/1(2)0.0003815969976130873,0.0003807544708251953 - 2020-05-24 09:00:00\n",
      "2022-07-22 14:39:39,103 - rank - INFO - Rank 0 -- interaction_waiting -- 1.005100057227537e-05\n",
      "2022-07-22 14:39:39,119 - simulator - INFO - CMS: Timestep for rank 0/1 - 3.1596091329993214,3.159609317779541 - 2020-05-24 09:00:00\n",
      "\n",
      "2022-07-22 14:39:39,120 - rank - INFO - Next timestep\n",
      "2022-07-22 14:39:39,121 - simulator - INFO - ==================== timestep ====================\n",
      "2022-07-22 14:39:41,122 - rank - INFO - Rank 0 -- move_people -- 1.9992499770014547\n",
      "2022-07-22 14:39:41,124 - rank - INFO - Rank 0 -- move_people_waiting -- 5.533001967705786e-06\n",
      "2022-07-22 14:39:41,125 - activity_manager - INFO - CMS: People COMS for rank 0/1 - 4.841000190936029e-06,4.291534423828125e-06 - 2020-05-24 11:00:00\n",
      "2022-07-22 14:39:41,135 - simulator - INFO - Info for rank 0, Date = 2020-05-24 11:00:00, number of deaths =  0, number of infected = 218\n",
      "2022-07-22 14:39:41,385 - rank - INFO - Rank 0 -- interaction -- 0.25792617600382073\n",
      "2022-07-22 14:39:41,400 - tracker - INFO - Rank 0 -- tracking contacts -- 500 of 3274 of type shelter\n",
      "2022-07-22 14:39:41,800 - tracker - INFO - Rank 0 -- tracking contacts -- 115 of 115 of type communal\n",
      "2022-07-22 14:39:41,839 - tracker - INFO - Rank 0 -- tracking contacts -- 21 of 21 of type distribution_center\n",
      "2022-07-22 14:39:41,892 - tracker - INFO - Rank 0 -- tracking contacts -- 7 of 7 of type e_voucher\n",
      "2022-07-22 14:39:41,911 - tracker - INFO - Rank 0 -- tracking contacts -- 67 of 67 of type female_communal\n",
      "2022-07-22 14:39:42,001 - tracker - INFO - Rank 0 -- tracking contacts -- 80 of 80 of type informal_work\n",
      "2022-07-22 14:39:42,120 - tracker - INFO - Rank 0 -- tracking contacts -- 41 of 41 of type n_f_distribution_center\n",
      "2022-07-22 14:39:42,354 - tracker - INFO - Rank 0 -- tracking contacts -- 500 of 538 of type play_group\n",
      "2022-07-22 14:39:42,880 - tracker - INFO - Rank 0 -- tracking contacts -- 82 of 82 of type pump_latrine\n",
      "2022-07-22 14:39:49,236 - tracker - INFO - Rank 0 -- tracking contacts -- 500 of 2065 of type religious\n",
      "2022-07-22 14:39:49,956 - tracker - INFO - Rank 0 -- tracking contacts -- 8 of 8 of type hospital\n",
      "2022-07-22 14:39:49,966 - tracker - INFO - Rank 0 -- tracking contacts -- 8 of 8 of type isolation_unit\n",
      "2022-07-22 14:39:49,969 - tracker - INFO - Rank 0 -- tracking contacts -- 389 of 389 of type learning_center\n",
      "2022-07-22 14:39:51,058 - rank - INFO - Rank 0 -- tracker -- 9.66944459899969\n",
      "2022-07-22 14:39:51,061 - epidemiology - INFO - CMS: Infection COMS-v2 for rank 0/1(2)0.0005664580021402799,0.0005662441253662109 - 2020-05-24 11:00:00\n",
      "2022-07-22 14:39:51,092 - rank - INFO - Rank 0 -- interaction_waiting -- 6.6020002122968435e-06\n",
      "2022-07-22 14:39:51,107 - simulator - INFO - CMS: Timestep for rank 0/1 - 11.9843422260019,11.984343528747559 - 2020-05-24 11:00:00\n",
      "\n",
      "2022-07-22 14:39:51,108 - rank - INFO - Next timestep\n",
      "2022-07-22 14:39:51,108 - simulator - INFO - ==================== timestep ====================\n",
      "2022-07-22 14:39:51,897 - rank - INFO - Rank 0 -- move_people -- 0.7883258939982625\n",
      "2022-07-22 14:39:51,898 - rank - INFO - Rank 0 -- move_people_waiting -- 7.6649957918562e-06\n",
      "2022-07-22 14:39:51,899 - activity_manager - INFO - CMS: People COMS for rank 0/1 - 3.913999535143375e-06,3.337860107421875e-06 - 2020-05-24 13:00:00\n",
      "2022-07-22 14:39:51,905 - simulator - INFO - Info for rank 0, Date = 2020-05-24 13:00:00, number of deaths =  0, number of infected = 220\n",
      "2022-07-22 14:39:52,032 - rank - INFO - Rank 0 -- interaction -- 0.13178148999577388\n",
      "2022-07-22 14:39:52,039 - tracker - INFO - Rank 0 -- tracking contacts -- 500 of 3274 of type shelter\n",
      "2022-07-22 14:39:52,254 - tracker - INFO - Rank 0 -- tracking contacts -- 115 of 115 of type communal\n",
      "2022-07-22 14:39:52,276 - tracker - INFO - Rank 0 -- tracking contacts -- 21 of 21 of type distribution_center\n",
      "2022-07-22 14:39:52,329 - tracker - INFO - Rank 0 -- tracking contacts -- 7 of 7 of type e_voucher\n",
      "2022-07-22 14:39:52,342 - tracker - INFO - Rank 0 -- tracking contacts -- 67 of 67 of type female_communal\n",
      "2022-07-22 14:39:52,416 - tracker - INFO - Rank 0 -- tracking contacts -- 80 of 80 of type informal_work\n",
      "2022-07-22 14:39:52,500 - tracker - INFO - Rank 0 -- tracking contacts -- 41 of 41 of type n_f_distribution_center\n",
      "2022-07-22 14:39:52,604 - tracker - INFO - Rank 0 -- tracking contacts -- 500 of 538 of type play_group\n",
      "2022-07-22 14:39:52,947 - tracker - INFO - Rank 0 -- tracking contacts -- 82 of 82 of type pump_latrine\n",
      "2022-07-22 14:39:57,301 - tracker - INFO - Rank 0 -- tracking contacts -- 500 of 2065 of type religious\n",
      "2022-07-22 14:39:58,006 - tracker - INFO - Rank 0 -- tracking contacts -- 8 of 8 of type hospital\n",
      "2022-07-22 14:39:58,013 - tracker - INFO - Rank 0 -- tracking contacts -- 8 of 8 of type isolation_unit\n",
      "2022-07-22 14:39:58,015 - tracker - INFO - Rank 0 -- tracking contacts -- 389 of 389 of type learning_center\n",
      "2022-07-22 14:39:59,036 - rank - INFO - Rank 0 -- tracker -- 7.003400733003218\n",
      "2022-07-22 14:39:59,040 - epidemiology - INFO - CMS: Infection COMS-v2 for rank 0/1(2)0.0008423149993177503,0.0008420944213867188 - 2020-05-24 13:00:00\n",
      "2022-07-22 14:39:59,073 - rank - INFO - Rank 0 -- interaction_waiting -- 8.052003977354616e-06\n",
      "2022-07-22 14:39:59,086 - simulator - INFO - CMS: Timestep for rank 0/1 - 7.9770609570041415,7.977062225341797 - 2020-05-24 13:00:00\n",
      "\n",
      "2022-07-22 14:39:59,087 - rank - INFO - Next timestep\n",
      "2022-07-22 14:39:59,088 - simulator - INFO - ==================== timestep ====================\n",
      "2022-07-22 14:39:59,944 - rank - INFO - Rank 0 -- move_people -- 0.8549618899996858\n",
      "2022-07-22 14:39:59,945 - rank - INFO - Rank 0 -- move_people_waiting -- 7.128997822292149e-06\n",
      "2022-07-22 14:39:59,946 - activity_manager - INFO - CMS: People COMS for rank 0/1 - 4.483998054638505e-06,3.814697265625e-06 - 2020-05-24 15:00:00\n"
     ]
    },
    {
     "name": "stdout",
     "output_type": "stream",
     "text": [
      "2022-07-22 14:39:59,952 - simulator - INFO - Info for rank 0, Date = 2020-05-24 15:00:00, number of deaths =  0, number of infected = 224\n",
      "2022-07-22 14:40:00,096 - rank - INFO - Rank 0 -- interaction -- 0.14815402300155256\n",
      "2022-07-22 14:40:00,103 - tracker - INFO - Rank 0 -- tracking contacts -- 500 of 3274 of type shelter\n",
      "2022-07-22 14:40:00,369 - tracker - INFO - Rank 0 -- tracking contacts -- 115 of 115 of type communal\n",
      "2022-07-22 14:40:00,385 - tracker - INFO - Rank 0 -- tracking contacts -- 21 of 21 of type distribution_center\n",
      "2022-07-22 14:40:00,433 - tracker - INFO - Rank 0 -- tracking contacts -- 7 of 7 of type e_voucher\n",
      "2022-07-22 14:40:00,446 - tracker - INFO - Rank 0 -- tracking contacts -- 67 of 67 of type female_communal\n",
      "2022-07-22 14:40:00,507 - tracker - INFO - Rank 0 -- tracking contacts -- 80 of 80 of type informal_work\n",
      "2022-07-22 14:40:00,600 - tracker - INFO - Rank 0 -- tracking contacts -- 41 of 41 of type n_f_distribution_center\n",
      "2022-07-22 14:40:00,709 - tracker - INFO - Rank 0 -- tracking contacts -- 500 of 538 of type play_group\n",
      "2022-07-22 14:40:01,122 - tracker - INFO - Rank 0 -- tracking contacts -- 82 of 82 of type pump_latrine\n",
      "2022-07-22 14:40:05,458 - tracker - INFO - Rank 0 -- tracking contacts -- 500 of 2065 of type religious\n",
      "2022-07-22 14:40:06,107 - tracker - INFO - Rank 0 -- tracking contacts -- 8 of 8 of type hospital\n",
      "2022-07-22 14:40:06,114 - tracker - INFO - Rank 0 -- tracking contacts -- 8 of 8 of type isolation_unit\n",
      "2022-07-22 14:40:06,116 - tracker - INFO - Rank 0 -- tracking contacts -- 389 of 389 of type learning_center\n",
      "2022-07-22 14:40:07,395 - rank - INFO - Rank 0 -- tracker -- 7.2984814290030045\n",
      "2022-07-22 14:40:07,399 - epidemiology - INFO - CMS: Infection COMS-v2 for rank 0/1(2)0.0002166519989259541,0.00021648406982421875 - 2020-05-24 15:00:00\n",
      "2022-07-22 14:40:07,441 - rank - INFO - Rank 0 -- interaction_waiting -- 1.0689996997825801e-05\n",
      "2022-07-22 14:40:07,460 - simulator - INFO - CMS: Timestep for rank 0/1 - 8.370575713997823,8.370576620101929 - 2020-05-24 15:00:00\n",
      "\n",
      "2022-07-22 14:40:07,462 - rank - INFO - Next timestep\n",
      "2022-07-22 14:40:07,463 - simulator - INFO - ==================== timestep ====================\n",
      "2022-07-22 14:40:08,458 - rank - INFO - Rank 0 -- move_people -- 0.9940764310013037\n",
      "2022-07-22 14:40:08,459 - rank - INFO - Rank 0 -- move_people_waiting -- 1.1108997568953782e-05\n",
      "2022-07-22 14:40:08,460 - activity_manager - INFO - CMS: People COMS for rank 0/1 - 5.41700137546286e-06,4.76837158203125e-06 - 2020-05-24 17:00:00\n",
      "2022-07-22 14:40:08,469 - simulator - INFO - Info for rank 0, Date = 2020-05-24 17:00:00, number of deaths =  0, number of infected = 227\n",
      "2022-07-22 14:40:08,630 - rank - INFO - Rank 0 -- interaction -- 0.16878341599658597\n",
      "2022-07-22 14:40:08,637 - tracker - INFO - Rank 0 -- tracking contacts -- 500 of 3274 of type shelter\n",
      "2022-07-22 14:40:08,948 - tracker - INFO - Rank 0 -- tracking contacts -- 115 of 115 of type communal\n",
      "2022-07-22 14:40:08,952 - tracker - INFO - Rank 0 -- tracking contacts -- 21 of 21 of type distribution_center\n",
      "2022-07-22 14:40:09,026 - tracker - INFO - Rank 0 -- tracking contacts -- 7 of 7 of type e_voucher\n",
      "2022-07-22 14:40:09,064 - tracker - INFO - Rank 0 -- tracking contacts -- 67 of 67 of type female_communal\n",
      "2022-07-22 14:40:09,066 - tracker - INFO - Rank 0 -- tracking contacts -- 80 of 80 of type informal_work\n",
      "2022-07-22 14:40:09,179 - tracker - INFO - Rank 0 -- tracking contacts -- 41 of 41 of type n_f_distribution_center\n",
      "2022-07-22 14:40:09,376 - tracker - INFO - Rank 0 -- tracking contacts -- 500 of 538 of type play_group\n",
      "2022-07-22 14:40:09,908 - tracker - INFO - Rank 0 -- tracking contacts -- 82 of 82 of type pump_latrine\n",
      "2022-07-22 14:40:14,557 - tracker - INFO - Rank 0 -- tracking contacts -- 500 of 2065 of type religious\n",
      "2022-07-22 14:40:15,112 - tracker - INFO - Rank 0 -- tracking contacts -- 8 of 8 of type hospital\n",
      "2022-07-22 14:40:15,113 - tracker - INFO - Rank 0 -- tracking contacts -- 8 of 8 of type isolation_unit\n",
      "2022-07-22 14:40:15,114 - tracker - INFO - Rank 0 -- tracking contacts -- 389 of 389 of type learning_center\n",
      "2022-07-22 14:40:15,122 - rank - INFO - Rank 0 -- tracker -- 6.491468213003827\n",
      "2022-07-22 14:40:15,125 - epidemiology - INFO - CMS: Infection COMS-v2 for rank 0/1(2)0.00044272000377532095,0.0004425048828125 - 2020-05-24 17:00:00\n",
      "2022-07-22 14:40:15,154 - rank - INFO - Rank 0 -- interaction_waiting -- 6.142996426206082e-06\n",
      "2022-07-22 14:40:15,167 - simulator - INFO - CMS: Timestep for rank 0/1 - 7.702607905994228,7.702608108520508 - 2020-05-24 17:00:00\n",
      "\n",
      "2022-07-22 14:40:15,168 - rank - INFO - Next timestep\n",
      "2022-07-22 14:40:15,168 - simulator - INFO - ==================== timestep ====================\n",
      "2022-07-22 14:40:15,347 - rank - INFO - Rank 0 -- move_people -- 0.17793108399928315\n",
      "2022-07-22 14:40:15,348 - rank - INFO - Rank 0 -- move_people_waiting -- 8.830000297166407e-06\n",
      "2022-07-22 14:40:15,348 - activity_manager - INFO - CMS: People COMS for rank 0/1 - 3.82200232706964e-06,3.0994415283203125e-06 - 2020-05-24 19:00:00\n",
      "2022-07-22 14:40:15,355 - simulator - INFO - Info for rank 0, Date = 2020-05-24 19:00:00, number of deaths =  0, number of infected = 231\n",
      "2022-07-22 14:40:15,441 - rank - INFO - Rank 0 -- interaction -- 0.09167172999877948\n",
      "2022-07-22 14:40:15,448 - tracker - INFO - Rank 0 -- tracking contacts -- 500 of 3274 of type shelter\n",
      "2022-07-22 14:40:16,295 - tracker - INFO - Rank 0 -- tracking contacts -- 115 of 115 of type communal\n",
      "2022-07-22 14:40:16,297 - tracker - INFO - Rank 0 -- tracking contacts -- 21 of 21 of type distribution_center\n",
      "2022-07-22 14:40:16,298 - tracker - INFO - Rank 0 -- tracking contacts -- 7 of 7 of type e_voucher\n",
      "2022-07-22 14:40:16,300 - tracker - INFO - Rank 0 -- tracking contacts -- 67 of 67 of type female_communal\n",
      "2022-07-22 14:40:16,301 - tracker - INFO - Rank 0 -- tracking contacts -- 80 of 80 of type informal_work\n",
      "2022-07-22 14:40:16,303 - tracker - INFO - Rank 0 -- tracking contacts -- 41 of 41 of type n_f_distribution_center\n",
      "2022-07-22 14:40:16,305 - tracker - INFO - Rank 0 -- tracking contacts -- 500 of 538 of type play_group\n",
      "2022-07-22 14:40:16,313 - tracker - INFO - Rank 0 -- tracking contacts -- 82 of 82 of type pump_latrine\n",
      "2022-07-22 14:40:16,324 - tracker - INFO - Rank 0 -- tracking contacts -- 500 of 2065 of type religious\n",
      "2022-07-22 14:40:16,331 - tracker - INFO - Rank 0 -- tracking contacts -- 8 of 8 of type hospital\n",
      "2022-07-22 14:40:16,332 - tracker - INFO - Rank 0 -- tracking contacts -- 8 of 8 of type isolation_unit\n",
      "2022-07-22 14:40:16,334 - tracker - INFO - Rank 0 -- tracking contacts -- 389 of 389 of type learning_center\n",
      "2022-07-22 14:40:16,343 - rank - INFO - Rank 0 -- tracker -- 0.9012563680007588\n",
      "2022-07-22 14:40:16,354 - epidemiology - INFO - CMS: Infection COMS-v2 for rank 0/1(2)0.0002745520032476634,0.0002741813659667969 - 2020-05-24 19:00:00\n",
      "2022-07-22 14:40:16,388 - rank - INFO - Rank 0 -- interaction_waiting -- 6.508002115879208e-06\n",
      "2022-07-22 14:40:16,402 - simulator - INFO - CMS: Timestep for rank 0/1 - 1.2327414710016456,1.2327418327331543 - 2020-05-24 19:00:00\n",
      "\n",
      "2022-07-22 14:40:16,404 - rank - INFO - Next timestep\n",
      "2022-07-22 14:40:16,405 - simulator - INFO - ==================== timestep ====================\n",
      "2022-07-22 14:40:16,603 - rank - INFO - Rank 0 -- move_people -- 0.19771898199542193\n",
      "2022-07-22 14:40:16,604 - rank - INFO - Rank 0 -- move_people_waiting -- 7.121998351067305e-06\n",
      "2022-07-22 14:40:16,604 - activity_manager - INFO - CMS: People COMS for rank 0/1 - 4.173998604528606e-06,3.814697265625e-06 - 2020-05-25 09:00:00\n",
      "2022-07-22 14:40:16,610 - simulator - INFO - Info for rank 0, Date = 2020-05-25 09:00:00, number of deaths =  0, number of infected = 256\n",
      "2022-07-22 14:40:16,681 - rank - INFO - Rank 0 -- interaction -- 0.07578835599997547\n",
      "2022-07-22 14:40:22,332 - tracker - INFO - Rank 0 -- tracking contacts -- 500 of 3274 of type shelter\n",
      "2022-07-22 14:40:23,022 - tracker - INFO - Rank 0 -- tracking contacts -- 115 of 115 of type communal\n",
      "2022-07-22 14:40:23,025 - tracker - INFO - Rank 0 -- tracking contacts -- 21 of 21 of type distribution_center\n",
      "2022-07-22 14:40:23,026 - tracker - INFO - Rank 0 -- tracking contacts -- 7 of 7 of type e_voucher\n"
     ]
    },
    {
     "name": "stdout",
     "output_type": "stream",
     "text": [
      "2022-07-22 14:40:23,027 - tracker - INFO - Rank 0 -- tracking contacts -- 67 of 67 of type female_communal\n",
      "2022-07-22 14:40:23,029 - tracker - INFO - Rank 0 -- tracking contacts -- 80 of 80 of type informal_work\n",
      "2022-07-22 14:40:23,032 - tracker - INFO - Rank 0 -- tracking contacts -- 41 of 41 of type n_f_distribution_center\n",
      "2022-07-22 14:40:23,036 - tracker - INFO - Rank 0 -- tracking contacts -- 500 of 538 of type play_group\n",
      "2022-07-22 14:40:23,047 - tracker - INFO - Rank 0 -- tracking contacts -- 82 of 82 of type pump_latrine\n",
      "2022-07-22 14:40:23,059 - tracker - INFO - Rank 0 -- tracking contacts -- 500 of 2065 of type religious\n",
      "2022-07-22 14:40:23,069 - tracker - INFO - Rank 0 -- tracking contacts -- 8 of 8 of type hospital\n",
      "2022-07-22 14:40:23,078 - tracker - INFO - Rank 0 -- tracking contacts -- 8 of 8 of type isolation_unit\n",
      "2022-07-22 14:40:23,081 - tracker - INFO - Rank 0 -- tracking contacts -- 389 of 389 of type learning_center\n",
      "2022-07-22 14:40:24,188 - rank - INFO - Rank 0 -- tracker -- 7.506083770000259\n",
      "2022-07-22 14:40:24,191 - epidemiology - INFO - CMS: Infection COMS-v2 for rank 0/1(2)0.00021501199807971716,0.0002143383026123047 - 2020-05-25 09:00:00\n",
      "2022-07-22 14:40:24,223 - rank - INFO - Rank 0 -- interaction_waiting -- 6.804002623539418e-06\n",
      "2022-07-22 14:40:24,237 - simulator - INFO - CMS: Timestep for rank 0/1 - 7.831830144001287,7.831831455230713 - 2020-05-25 09:00:00\n",
      "\n",
      "2022-07-22 14:40:24,240 - rank - INFO - Next timestep\n",
      "2022-07-22 14:40:24,241 - simulator - INFO - ==================== timestep ====================\n",
      "2022-07-22 14:40:25,093 - rank - INFO - Rank 0 -- move_people -- 0.8514853269953164\n",
      "2022-07-22 14:40:25,094 - rank - INFO - Rank 0 -- move_people_waiting -- 1.1449999874457717e-05\n",
      "2022-07-22 14:40:25,095 - activity_manager - INFO - CMS: People COMS for rank 0/1 - 4.4389962567947805e-06,4.0531158447265625e-06 - 2020-05-25 11:00:00\n",
      "2022-07-22 14:40:25,102 - simulator - INFO - Info for rank 0, Date = 2020-05-25 11:00:00, number of deaths =  0, number of infected = 259\n",
      "2022-07-22 14:40:25,257 - rank - INFO - Rank 0 -- interaction -- 0.1610926879948238\n",
      "2022-07-22 14:40:26,473 - tracker - INFO - Rank 0 -- tracking contacts -- 500 of 3274 of type shelter\n",
      "2022-07-22 14:40:26,761 - tracker - INFO - Rank 0 -- tracking contacts -- 115 of 115 of type communal\n",
      "2022-07-22 14:40:26,784 - tracker - INFO - Rank 0 -- tracking contacts -- 21 of 21 of type distribution_center\n",
      "2022-07-22 14:40:26,832 - tracker - INFO - Rank 0 -- tracking contacts -- 7 of 7 of type e_voucher\n",
      "2022-07-22 14:40:26,854 - tracker - INFO - Rank 0 -- tracking contacts -- 67 of 67 of type female_communal\n",
      "2022-07-22 14:40:26,920 - tracker - INFO - Rank 0 -- tracking contacts -- 80 of 80 of type informal_work\n",
      "2022-07-22 14:40:27,026 - tracker - INFO - Rank 0 -- tracking contacts -- 41 of 41 of type n_f_distribution_center\n",
      "2022-07-22 14:40:27,246 - tracker - INFO - Rank 0 -- tracking contacts -- 500 of 538 of type play_group\n",
      "2022-07-22 14:40:27,641 - tracker - INFO - Rank 0 -- tracking contacts -- 82 of 82 of type pump_latrine\n",
      "2022-07-22 14:40:32,024 - tracker - INFO - Rank 0 -- tracking contacts -- 500 of 2065 of type religious\n",
      "2022-07-22 14:40:32,630 - tracker - INFO - Rank 0 -- tracking contacts -- 8 of 8 of type hospital\n",
      "2022-07-22 14:40:32,636 - tracker - INFO - Rank 0 -- tracking contacts -- 8 of 8 of type isolation_unit\n",
      "2022-07-22 14:40:32,639 - tracker - INFO - Rank 0 -- tracking contacts -- 389 of 389 of type learning_center\n",
      "2022-07-22 14:40:33,630 - rank - INFO - Rank 0 -- tracker -- 8.372307308003656\n",
      "2022-07-22 14:40:33,638 - epidemiology - INFO - CMS: Infection COMS-v2 for rank 0/1(2)0.00023096099903341383,0.00023055076599121094 - 2020-05-25 11:00:00\n",
      "2022-07-22 14:40:33,676 - rank - INFO - Rank 0 -- interaction_waiting -- 8.219998562708497e-06\n",
      "2022-07-22 14:40:33,692 - simulator - INFO - CMS: Timestep for rank 0/1 - 9.450153291996685,9.450154066085815 - 2020-05-25 11:00:00\n",
      "\n",
      "2022-07-22 14:40:33,695 - rank - INFO - Next timestep\n",
      "2022-07-22 14:40:33,696 - simulator - INFO - ==================== timestep ====================\n",
      "2022-07-22 14:40:34,590 - rank - INFO - Rank 0 -- move_people -- 0.8931388720011455\n",
      "2022-07-22 14:40:34,591 - rank - INFO - Rank 0 -- move_people_waiting -- 8.493996574543417e-06\n",
      "2022-07-22 14:40:34,592 - activity_manager - INFO - CMS: People COMS for rank 0/1 - 4.166002327110618e-06,3.814697265625e-06 - 2020-05-25 13:00:00\n",
      "2022-07-22 14:40:34,598 - simulator - INFO - Info for rank 0, Date = 2020-05-25 13:00:00, number of deaths =  0, number of infected = 265\n",
      "2022-07-22 14:40:34,779 - rank - INFO - Rank 0 -- interaction -- 0.18612981000478612\n",
      "2022-07-22 14:40:37,844 - tracker - INFO - Rank 0 -- tracking contacts -- 500 of 3274 of type shelter\n",
      "2022-07-22 14:40:38,073 - tracker - INFO - Rank 0 -- tracking contacts -- 115 of 115 of type communal\n",
      "2022-07-22 14:40:38,100 - tracker - INFO - Rank 0 -- tracking contacts -- 21 of 21 of type distribution_center\n",
      "2022-07-22 14:40:38,144 - tracker - INFO - Rank 0 -- tracking contacts -- 7 of 7 of type e_voucher\n",
      "2022-07-22 14:40:38,160 - tracker - INFO - Rank 0 -- tracking contacts -- 67 of 67 of type female_communal\n",
      "2022-07-22 14:40:38,217 - tracker - INFO - Rank 0 -- tracking contacts -- 80 of 80 of type informal_work\n",
      "2022-07-22 14:40:38,294 - tracker - INFO - Rank 0 -- tracking contacts -- 41 of 41 of type n_f_distribution_center\n",
      "2022-07-22 14:40:38,409 - tracker - INFO - Rank 0 -- tracking contacts -- 500 of 538 of type play_group\n",
      "2022-07-22 14:40:38,897 - tracker - INFO - Rank 0 -- tracking contacts -- 82 of 82 of type pump_latrine\n",
      "2022-07-22 14:40:43,523 - tracker - INFO - Rank 0 -- tracking contacts -- 500 of 2065 of type religious\n",
      "2022-07-22 14:40:44,107 - tracker - INFO - Rank 0 -- tracking contacts -- 8 of 8 of type hospital\n",
      "2022-07-22 14:40:44,114 - tracker - INFO - Rank 0 -- tracking contacts -- 8 of 8 of type isolation_unit\n",
      "2022-07-22 14:40:44,116 - tracker - INFO - Rank 0 -- tracking contacts -- 389 of 389 of type learning_center\n",
      "2022-07-22 14:40:45,115 - rank - INFO - Rank 0 -- tracker -- 10.334239875999629\n",
      "2022-07-22 14:40:45,124 - epidemiology - INFO - CMS: Infection COMS-v2 for rank 0/1(2)0.0003700180022860877,0.0003695487976074219 - 2020-05-25 13:00:00\n",
      "2022-07-22 14:40:45,162 - rank - INFO - Rank 0 -- interaction_waiting -- 7.978000212460756e-06\n",
      "2022-07-22 14:40:45,178 - simulator - INFO - CMS: Timestep for rank 0/1 - 11.481582667998737,11.481584548950195 - 2020-05-25 13:00:00\n",
      "\n",
      "2022-07-22 14:40:45,182 - rank - INFO - Next timestep\n",
      "2022-07-22 14:40:45,183 - simulator - INFO - ==================== timestep ====================\n",
      "2022-07-22 14:40:46,261 - rank - INFO - Rank 0 -- move_people -- 1.076660388003802\n",
      "2022-07-22 14:40:46,266 - rank - INFO - Rank 0 -- move_people_waiting -- 5.541995051316917e-06\n",
      "2022-07-22 14:40:46,269 - activity_manager - INFO - CMS: People COMS for rank 0/1 - 5.392001185100526e-06,4.76837158203125e-06 - 2020-05-25 15:00:00\n",
      "2022-07-22 14:40:46,276 - simulator - INFO - Info for rank 0, Date = 2020-05-25 15:00:00, number of deaths =  0, number of infected = 278\n",
      "2022-07-22 14:40:46,463 - rank - INFO - Rank 0 -- interaction -- 0.1933721949972096\n",
      "2022-07-22 14:40:50,962 - tracker - INFO - Rank 0 -- tracking contacts -- 500 of 3274 of type shelter\n",
      "2022-07-22 14:40:51,186 - tracker - INFO - Rank 0 -- tracking contacts -- 115 of 115 of type communal\n",
      "2022-07-22 14:40:51,211 - tracker - INFO - Rank 0 -- tracking contacts -- 21 of 21 of type distribution_center\n",
      "2022-07-22 14:40:51,258 - tracker - INFO - Rank 0 -- tracking contacts -- 7 of 7 of type e_voucher\n",
      "2022-07-22 14:40:51,278 - tracker - INFO - Rank 0 -- tracking contacts -- 67 of 67 of type female_communal\n",
      "2022-07-22 14:40:51,329 - tracker - INFO - Rank 0 -- tracking contacts -- 80 of 80 of type informal_work\n",
      "2022-07-22 14:40:51,399 - tracker - INFO - Rank 0 -- tracking contacts -- 41 of 41 of type n_f_distribution_center\n",
      "2022-07-22 14:40:51,554 - tracker - INFO - Rank 0 -- tracking contacts -- 500 of 538 of type play_group\n",
      "2022-07-22 14:40:51,933 - tracker - INFO - Rank 0 -- tracking contacts -- 82 of 82 of type pump_latrine\n",
      "2022-07-22 14:40:56,062 - tracker - INFO - Rank 0 -- tracking contacts -- 500 of 2065 of type religious\n"
     ]
    },
    {
     "name": "stdout",
     "output_type": "stream",
     "text": [
      "2022-07-22 14:40:56,717 - tracker - INFO - Rank 0 -- tracking contacts -- 8 of 8 of type hospital\n",
      "2022-07-22 14:40:56,725 - tracker - INFO - Rank 0 -- tracking contacts -- 8 of 8 of type isolation_unit\n",
      "2022-07-22 14:40:56,727 - tracker - INFO - Rank 0 -- tracking contacts -- 389 of 389 of type learning_center\n",
      "2022-07-22 14:40:57,838 - rank - INFO - Rank 0 -- tracker -- 11.37315684100031\n",
      "2022-07-22 14:40:57,842 - epidemiology - INFO - CMS: Infection COMS-v2 for rank 0/1(2)0.00032461099908687174,0.000324249267578125 - 2020-05-25 15:00:00\n",
      "2022-07-22 14:40:57,876 - rank - INFO - Rank 0 -- interaction_waiting -- 6.665999535471201e-06\n",
      "2022-07-22 14:40:57,891 - simulator - INFO - CMS: Timestep for rank 0/1 - 12.70639886600111,12.706399202346802 - 2020-05-25 15:00:00\n",
      "\n",
      "2022-07-22 14:40:57,893 - rank - INFO - Next timestep\n",
      "2022-07-22 14:40:57,894 - simulator - INFO - ==================== timestep ====================\n",
      "2022-07-22 14:40:58,866 - rank - INFO - Rank 0 -- move_people -- 0.9705293010047171\n",
      "2022-07-22 14:40:58,866 - rank - INFO - Rank 0 -- move_people_waiting -- 8.2360056694597e-06\n",
      "2022-07-22 14:40:58,867 - activity_manager - INFO - CMS: People COMS for rank 0/1 - 3.7569989217445254e-06,2.86102294921875e-06 - 2020-05-25 17:00:00\n",
      "2022-07-22 14:40:58,876 - simulator - INFO - Info for rank 0, Date = 2020-05-25 17:00:00, number of deaths =  0, number of infected = 282\n",
      "2022-07-22 14:40:59,123 - rank - INFO - Rank 0 -- interaction -- 0.25447823099966627\n",
      "2022-07-22 14:41:04,908 - tracker - INFO - Rank 0 -- tracking contacts -- 500 of 3274 of type shelter\n",
      "2022-07-22 14:41:05,315 - tracker - INFO - Rank 0 -- tracking contacts -- 115 of 115 of type communal\n",
      "2022-07-22 14:41:05,318 - tracker - INFO - Rank 0 -- tracking contacts -- 21 of 21 of type distribution_center\n",
      "2022-07-22 14:41:05,391 - tracker - INFO - Rank 0 -- tracking contacts -- 7 of 7 of type e_voucher\n",
      "2022-07-22 14:41:05,410 - tracker - INFO - Rank 0 -- tracking contacts -- 67 of 67 of type female_communal\n",
      "2022-07-22 14:41:05,413 - tracker - INFO - Rank 0 -- tracking contacts -- 80 of 80 of type informal_work\n",
      "2022-07-22 14:41:05,521 - tracker - INFO - Rank 0 -- tracking contacts -- 41 of 41 of type n_f_distribution_center\n",
      "2022-07-22 14:41:05,693 - tracker - INFO - Rank 0 -- tracking contacts -- 500 of 538 of type play_group\n",
      "2022-07-22 14:41:06,326 - tracker - INFO - Rank 0 -- tracking contacts -- 82 of 82 of type pump_latrine\n",
      "2022-07-22 14:41:12,432 - tracker - INFO - Rank 0 -- tracking contacts -- 500 of 2065 of type religious\n",
      "2022-07-22 14:41:13,206 - tracker - INFO - Rank 0 -- tracking contacts -- 8 of 8 of type hospital\n",
      "2022-07-22 14:41:13,207 - tracker - INFO - Rank 0 -- tracking contacts -- 8 of 8 of type isolation_unit\n",
      "2022-07-22 14:41:13,209 - tracker - INFO - Rank 0 -- tracking contacts -- 389 of 389 of type learning_center\n",
      "2022-07-22 14:41:13,218 - rank - INFO - Rank 0 -- tracker -- 14.094181585001934\n",
      "2022-07-22 14:41:13,223 - epidemiology - INFO - CMS: Infection COMS-v2 for rank 0/1(2)0.0004535260013653897,0.00045299530029296875 - 2020-05-25 17:00:00\n",
      "2022-07-22 14:41:13,259 - rank - INFO - Rank 0 -- interaction_waiting -- 8.228002116084099e-06\n",
      "2022-07-22 14:41:13,274 - simulator - INFO - CMS: Timestep for rank 0/1 - 15.378781766994507,15.378782749176025 - 2020-05-25 17:00:00\n",
      "\n",
      "2022-07-22 14:41:13,276 - rank - INFO - Next timestep\n",
      "2022-07-22 14:41:13,277 - simulator - INFO - ==================== timestep ====================\n",
      "2022-07-22 14:41:13,463 - rank - INFO - Rank 0 -- move_people -- 0.18515676799870562\n",
      "2022-07-22 14:41:13,464 - rank - INFO - Rank 0 -- move_people_waiting -- 8.31299985293299e-06\n",
      "2022-07-22 14:41:13,465 - activity_manager - INFO - CMS: People COMS for rank 0/1 - 5.243004125077277e-06,4.76837158203125e-06 - 2020-05-25 19:00:00\n",
      "2022-07-22 14:41:13,472 - simulator - INFO - Info for rank 0, Date = 2020-05-25 19:00:00, number of deaths =  0, number of infected = 289\n",
      "2022-07-22 14:41:13,565 - rank - INFO - Rank 0 -- interaction -- 0.09943618399847765\n",
      "2022-07-22 14:41:19,587 - tracker - INFO - Rank 0 -- tracking contacts -- 500 of 3274 of type shelter\n",
      "2022-07-22 14:41:20,737 - tracker - INFO - Rank 0 -- tracking contacts -- 115 of 115 of type communal\n",
      "2022-07-22 14:41:20,740 - tracker - INFO - Rank 0 -- tracking contacts -- 21 of 21 of type distribution_center\n",
      "2022-07-22 14:41:20,742 - tracker - INFO - Rank 0 -- tracking contacts -- 7 of 7 of type e_voucher\n",
      "2022-07-22 14:41:20,744 - tracker - INFO - Rank 0 -- tracking contacts -- 67 of 67 of type female_communal\n",
      "2022-07-22 14:41:20,747 - tracker - INFO - Rank 0 -- tracking contacts -- 80 of 80 of type informal_work\n",
      "2022-07-22 14:41:20,750 - tracker - INFO - Rank 0 -- tracking contacts -- 41 of 41 of type n_f_distribution_center\n",
      "2022-07-22 14:41:20,754 - tracker - INFO - Rank 0 -- tracking contacts -- 500 of 538 of type play_group\n",
      "2022-07-22 14:41:20,766 - tracker - INFO - Rank 0 -- tracking contacts -- 82 of 82 of type pump_latrine\n",
      "2022-07-22 14:41:20,778 - tracker - INFO - Rank 0 -- tracking contacts -- 500 of 2065 of type religious\n",
      "2022-07-22 14:41:20,786 - tracker - INFO - Rank 0 -- tracking contacts -- 8 of 8 of type hospital\n",
      "2022-07-22 14:41:20,788 - tracker - INFO - Rank 0 -- tracking contacts -- 8 of 8 of type isolation_unit\n",
      "2022-07-22 14:41:20,789 - tracker - INFO - Rank 0 -- tracking contacts -- 389 of 389 of type learning_center\n",
      "2022-07-22 14:41:20,800 - rank - INFO - Rank 0 -- tracker -- 7.23351649200049\n",
      "2022-07-22 14:41:20,825 - epidemiology - INFO - CMS: Infection COMS-v2 for rank 0/1(2)0.0017149519990198314,0.0017147064208984375 - 2020-05-25 19:00:00\n",
      "2022-07-22 14:41:20,860 - rank - INFO - Rank 0 -- interaction_waiting -- 8.55099642649293e-06\n",
      "2022-07-22 14:41:20,874 - simulator - INFO - CMS: Timestep for rank 0/1 - 7.595805459000985,7.595806360244751 - 2020-05-25 19:00:00\n",
      "\n",
      "2022-07-22 14:41:20,877 - rank - INFO - Next timestep\n",
      "2022-07-22 14:41:20,878 - simulator - INFO - ==================== timestep ====================\n",
      "2022-07-22 14:41:21,083 - rank - INFO - Rank 0 -- move_people -- 0.20389870499639073\n",
      "2022-07-22 14:41:21,084 - rank - INFO - Rank 0 -- move_people_waiting -- 5.456997314468026e-06\n",
      "2022-07-22 14:41:21,085 - activity_manager - INFO - CMS: People COMS for rank 0/1 - 3.7569989217445254e-06,3.337860107421875e-06 - 2020-05-26 09:00:00\n",
      "2022-07-22 14:41:21,090 - simulator - INFO - Info for rank 0, Date = 2020-05-26 09:00:00, number of deaths =  0, number of infected = 340\n",
      "2022-07-22 14:41:21,173 - rank - INFO - Rank 0 -- interaction -- 0.08723738299886463\n",
      "2022-07-22 14:41:21,180 - tracker - INFO - Rank 0 -- tracking contacts -- 500 of 3274 of type shelter\n",
      "2022-07-22 14:41:21,921 - tracker - INFO - Rank 0 -- tracking contacts -- 115 of 115 of type communal\n",
      "2022-07-22 14:41:21,924 - tracker - INFO - Rank 0 -- tracking contacts -- 21 of 21 of type distribution_center\n",
      "2022-07-22 14:41:21,925 - tracker - INFO - Rank 0 -- tracking contacts -- 7 of 7 of type e_voucher\n",
      "2022-07-22 14:41:21,927 - tracker - INFO - Rank 0 -- tracking contacts -- 67 of 67 of type female_communal\n",
      "2022-07-22 14:41:21,929 - tracker - INFO - Rank 0 -- tracking contacts -- 80 of 80 of type informal_work\n",
      "2022-07-22 14:41:21,932 - tracker - INFO - Rank 0 -- tracking contacts -- 41 of 41 of type n_f_distribution_center\n",
      "2022-07-22 14:41:21,936 - tracker - INFO - Rank 0 -- tracking contacts -- 500 of 538 of type play_group\n",
      "2022-07-22 14:41:21,948 - tracker - INFO - Rank 0 -- tracking contacts -- 82 of 82 of type pump_latrine\n",
      "2022-07-22 14:41:21,963 - tracker - INFO - Rank 0 -- tracking contacts -- 500 of 2065 of type religious\n",
      "2022-07-22 14:41:21,975 - tracker - INFO - Rank 0 -- tracking contacts -- 8 of 8 of type hospital\n",
      "2022-07-22 14:41:21,982 - tracker - INFO - Rank 0 -- tracking contacts -- 8 of 8 of type isolation_unit\n",
      "2022-07-22 14:41:21,984 - tracker - INFO - Rank 0 -- tracking contacts -- 389 of 389 of type learning_center\n",
      "2022-07-22 14:41:23,096 - rank - INFO - Rank 0 -- tracker -- 1.9219034909983748\n",
      "2022-07-22 14:41:23,102 - epidemiology - INFO - CMS: Infection COMS-v2 for rank 0/1(2)0.0007014149960014038,0.0007009506225585938 - 2020-05-26 09:00:00\n",
      "2022-07-22 14:41:23,146 - rank - INFO - Rank 0 -- interaction_waiting -- 8.78400169312954e-06\n"
     ]
    },
    {
     "name": "stdout",
     "output_type": "stream",
     "text": [
      "2022-07-22 14:41:23,162 - simulator - INFO - CMS: Timestep for rank 0/1 - 2.2835583120031515,2.2835593223571777 - 2020-05-26 09:00:00\n",
      "\n",
      "2022-07-22 14:41:23,165 - rank - INFO - Next timestep\n",
      "2022-07-22 14:41:23,166 - simulator - INFO - ==================== timestep ====================\n",
      "2022-07-22 14:41:23,972 - rank - INFO - Rank 0 -- move_people -- 0.8056926839999505\n",
      "2022-07-22 14:41:23,973 - rank - INFO - Rank 0 -- move_people_waiting -- 8.222006727010012e-06\n",
      "2022-07-22 14:41:23,974 - activity_manager - INFO - CMS: People COMS for rank 0/1 - 3.948996891267598e-06,3.337860107421875e-06 - 2020-05-26 11:00:00\n",
      "2022-07-22 14:41:23,980 - simulator - INFO - Info for rank 0, Date = 2020-05-26 11:00:00, number of deaths =  0, number of infected = 351\n",
      "2022-07-22 14:41:24,143 - rank - INFO - Rank 0 -- interaction -- 0.16755704000388505\n",
      "2022-07-22 14:41:24,150 - tracker - INFO - Rank 0 -- tracking contacts -- 500 of 3274 of type shelter\n",
      "2022-07-22 14:41:24,418 - tracker - INFO - Rank 0 -- tracking contacts -- 115 of 115 of type communal\n",
      "2022-07-22 14:41:24,440 - tracker - INFO - Rank 0 -- tracking contacts -- 21 of 21 of type distribution_center\n",
      "2022-07-22 14:41:24,501 - tracker - INFO - Rank 0 -- tracking contacts -- 7 of 7 of type e_voucher\n",
      "2022-07-22 14:41:24,523 - tracker - INFO - Rank 0 -- tracking contacts -- 67 of 67 of type female_communal\n",
      "2022-07-22 14:41:24,597 - tracker - INFO - Rank 0 -- tracking contacts -- 80 of 80 of type informal_work\n",
      "2022-07-22 14:41:24,683 - tracker - INFO - Rank 0 -- tracking contacts -- 41 of 41 of type n_f_distribution_center\n",
      "2022-07-22 14:41:24,804 - tracker - INFO - Rank 0 -- tracking contacts -- 500 of 538 of type play_group\n",
      "2022-07-22 14:41:25,194 - tracker - INFO - Rank 0 -- tracking contacts -- 82 of 82 of type pump_latrine\n",
      "2022-07-22 14:41:29,882 - tracker - INFO - Rank 0 -- tracking contacts -- 500 of 2065 of type religious\n",
      "2022-07-22 14:41:30,588 - tracker - INFO - Rank 0 -- tracking contacts -- 8 of 8 of type hospital\n",
      "2022-07-22 14:41:30,596 - tracker - INFO - Rank 0 -- tracking contacts -- 8 of 8 of type isolation_unit\n",
      "2022-07-22 14:41:30,598 - tracker - INFO - Rank 0 -- tracking contacts -- 389 of 389 of type learning_center\n",
      "2022-07-22 14:41:31,682 - rank - INFO - Rank 0 -- tracker -- 7.538349187998392\n",
      "2022-07-22 14:41:31,690 - epidemiology - INFO - CMS: Infection COMS-v2 for rank 0/1(2)0.0007281310026883148,0.000728607177734375 - 2020-05-26 11:00:00\n",
      "2022-07-22 14:41:31,732 - rank - INFO - Rank 0 -- interaction_waiting -- 7.403999916277826e-06\n",
      "2022-07-22 14:41:31,748 - simulator - INFO - CMS: Timestep for rank 0/1 - 8.581249098002445,8.581249237060547 - 2020-05-26 11:00:00\n",
      "\n",
      "2022-07-22 14:41:31,751 - rank - INFO - Next timestep\n",
      "2022-07-22 14:41:31,752 - simulator - INFO - ==================== timestep ====================\n",
      "2022-07-22 14:41:32,633 - rank - INFO - Rank 0 -- move_people -- 0.8802113830024609\n",
      "2022-07-22 14:41:32,634 - rank - INFO - Rank 0 -- move_people_waiting -- 1.0655996447894722e-05\n",
      "2022-07-22 14:41:32,637 - activity_manager - INFO - CMS: People COMS for rank 0/1 - 4.769004590343684e-06,4.0531158447265625e-06 - 2020-05-26 13:00:00\n",
      "2022-07-22 14:41:32,646 - simulator - INFO - Info for rank 0, Date = 2020-05-26 13:00:00, number of deaths =  0, number of infected = 363\n",
      "2022-07-22 14:41:32,838 - rank - INFO - Rank 0 -- interaction -- 0.19947176500136266\n",
      "2022-07-22 14:41:32,846 - tracker - INFO - Rank 0 -- tracking contacts -- 500 of 3274 of type shelter\n",
      "2022-07-22 14:41:33,102 - tracker - INFO - Rank 0 -- tracking contacts -- 115 of 115 of type communal\n",
      "2022-07-22 14:41:33,121 - tracker - INFO - Rank 0 -- tracking contacts -- 21 of 21 of type distribution_center\n",
      "2022-07-22 14:41:33,163 - tracker - INFO - Rank 0 -- tracking contacts -- 7 of 7 of type e_voucher\n",
      "2022-07-22 14:41:33,177 - tracker - INFO - Rank 0 -- tracking contacts -- 67 of 67 of type female_communal\n",
      "2022-07-22 14:41:33,274 - tracker - INFO - Rank 0 -- tracking contacts -- 80 of 80 of type informal_work\n",
      "2022-07-22 14:41:33,355 - tracker - INFO - Rank 0 -- tracking contacts -- 41 of 41 of type n_f_distribution_center\n",
      "2022-07-22 14:41:33,458 - tracker - INFO - Rank 0 -- tracking contacts -- 500 of 538 of type play_group\n",
      "2022-07-22 14:41:33,856 - tracker - INFO - Rank 0 -- tracking contacts -- 82 of 82 of type pump_latrine\n",
      "2022-07-22 14:41:38,293 - tracker - INFO - Rank 0 -- tracking contacts -- 500 of 2065 of type religious\n",
      "2022-07-22 14:41:38,845 - tracker - INFO - Rank 0 -- tracking contacts -- 8 of 8 of type hospital\n",
      "2022-07-22 14:41:38,851 - tracker - INFO - Rank 0 -- tracking contacts -- 8 of 8 of type isolation_unit\n",
      "2022-07-22 14:41:38,852 - tracker - INFO - Rank 0 -- tracking contacts -- 389 of 389 of type learning_center\n",
      "2022-07-22 14:41:39,884 - rank - INFO - Rank 0 -- tracker -- 7.044497463997686\n",
      "2022-07-22 14:41:39,890 - epidemiology - INFO - CMS: Infection COMS-v2 for rank 0/1(2)0.00024099899746943265,0.000240325927734375 - 2020-05-26 13:00:00\n",
      "2022-07-22 14:41:39,928 - rank - INFO - Rank 0 -- interaction_waiting -- 7.037997420411557e-06\n",
      "2022-07-22 14:41:39,945 - simulator - INFO - CMS: Timestep for rank 0/1 - 8.191717200999847,8.191717624664307 - 2020-05-26 13:00:00\n",
      "\n",
      "2022-07-22 14:41:39,947 - rank - INFO - Next timestep\n",
      "2022-07-22 14:41:39,948 - simulator - INFO - ==================== timestep ====================\n",
      "2022-07-22 14:41:40,727 - rank - INFO - Rank 0 -- move_people -- 0.777212701003009\n",
      "2022-07-22 14:41:40,727 - rank - INFO - Rank 0 -- move_people_waiting -- 4.278997948858887e-06\n",
      "2022-07-22 14:41:40,728 - activity_manager - INFO - CMS: People COMS for rank 0/1 - 4.007997631561011e-06,3.5762786865234375e-06 - 2020-05-26 15:00:00\n",
      "2022-07-22 14:41:40,736 - simulator - INFO - Info for rank 0, Date = 2020-05-26 15:00:00, number of deaths =  0, number of infected = 375\n",
      "2022-07-22 14:41:40,897 - rank - INFO - Rank 0 -- interaction -- 0.16789830700145103\n",
      "2022-07-22 14:41:40,904 - tracker - INFO - Rank 0 -- tracking contacts -- 500 of 3274 of type shelter\n",
      "2022-07-22 14:41:41,142 - tracker - INFO - Rank 0 -- tracking contacts -- 115 of 115 of type communal\n",
      "2022-07-22 14:41:41,159 - tracker - INFO - Rank 0 -- tracking contacts -- 21 of 21 of type distribution_center\n",
      "2022-07-22 14:41:41,209 - tracker - INFO - Rank 0 -- tracking contacts -- 7 of 7 of type e_voucher\n",
      "2022-07-22 14:41:41,226 - tracker - INFO - Rank 0 -- tracking contacts -- 67 of 67 of type female_communal\n",
      "2022-07-22 14:41:41,292 - tracker - INFO - Rank 0 -- tracking contacts -- 80 of 80 of type informal_work\n",
      "2022-07-22 14:41:41,363 - tracker - INFO - Rank 0 -- tracking contacts -- 41 of 41 of type n_f_distribution_center\n",
      "2022-07-22 14:41:41,503 - tracker - INFO - Rank 0 -- tracking contacts -- 500 of 538 of type play_group\n",
      "2022-07-22 14:41:41,897 - tracker - INFO - Rank 0 -- tracking contacts -- 82 of 82 of type pump_latrine\n",
      "2022-07-22 14:41:45,981 - tracker - INFO - Rank 0 -- tracking contacts -- 500 of 2065 of type religious\n",
      "2022-07-22 14:41:46,572 - tracker - INFO - Rank 0 -- tracking contacts -- 8 of 8 of type hospital\n",
      "2022-07-22 14:41:46,580 - tracker - INFO - Rank 0 -- tracking contacts -- 8 of 8 of type isolation_unit\n",
      "2022-07-22 14:41:46,582 - tracker - INFO - Rank 0 -- tracking contacts -- 389 of 389 of type learning_center\n",
      "2022-07-22 14:41:47,576 - rank - INFO - Rank 0 -- tracker -- 6.677939700995921\n",
      "2022-07-22 14:41:47,588 - epidemiology - INFO - CMS: Infection COMS-v2 for rank 0/1(2)0.0004517859997577034,0.0004513263702392578 - 2020-05-26 15:00:00\n",
      "2022-07-22 14:41:47,628 - rank - INFO - Rank 0 -- interaction_waiting -- 1.239099947270006e-05\n",
      "2022-07-22 14:41:47,645 - simulator - INFO - CMS: Timestep for rank 0/1 - 7.695880382998439,7.695881128311157 - 2020-05-26 15:00:00\n",
      "\n",
      "2022-07-22 14:41:47,648 - rank - INFO - Next timestep\n",
      "2022-07-22 14:41:47,649 - simulator - INFO - ==================== timestep ====================\n",
      "2022-07-22 14:41:48,578 - rank - INFO - Rank 0 -- move_people -- 0.9276113779997104\n",
      "2022-07-22 14:41:48,579 - rank - INFO - Rank 0 -- move_people_waiting -- 7.19100353308022e-06\n",
      "2022-07-22 14:41:48,579 - activity_manager - INFO - CMS: People COMS for rank 0/1 - 3.837994881905615e-06,3.337860107421875e-06 - 2020-05-26 17:00:00\n",
      "2022-07-22 14:41:48,585 - simulator - INFO - Info for rank 0, Date = 2020-05-26 17:00:00, number of deaths =  0, number of infected = 390\n"
     ]
    },
    {
     "name": "stdout",
     "output_type": "stream",
     "text": [
      "2022-07-22 14:41:48,774 - rank - INFO - Rank 0 -- interaction -- 0.19371563399909064\n",
      "2022-07-22 14:41:48,783 - tracker - INFO - Rank 0 -- tracking contacts -- 500 of 3274 of type shelter\n",
      "2022-07-22 14:41:49,084 - tracker - INFO - Rank 0 -- tracking contacts -- 115 of 115 of type communal\n",
      "2022-07-22 14:41:49,087 - tracker - INFO - Rank 0 -- tracking contacts -- 21 of 21 of type distribution_center\n",
      "2022-07-22 14:41:49,141 - tracker - INFO - Rank 0 -- tracking contacts -- 7 of 7 of type e_voucher\n",
      "2022-07-22 14:41:49,169 - tracker - INFO - Rank 0 -- tracking contacts -- 67 of 67 of type female_communal\n",
      "2022-07-22 14:41:49,173 - tracker - INFO - Rank 0 -- tracking contacts -- 80 of 80 of type informal_work\n",
      "2022-07-22 14:41:49,284 - tracker - INFO - Rank 0 -- tracking contacts -- 41 of 41 of type n_f_distribution_center\n",
      "2022-07-22 14:41:49,450 - tracker - INFO - Rank 0 -- tracking contacts -- 500 of 538 of type play_group\n",
      "2022-07-22 14:41:49,960 - tracker - INFO - Rank 0 -- tracking contacts -- 82 of 82 of type pump_latrine\n",
      "2022-07-22 14:41:55,255 - tracker - INFO - Rank 0 -- tracking contacts -- 500 of 2065 of type religious\n",
      "2022-07-22 14:41:55,977 - tracker - INFO - Rank 0 -- tracking contacts -- 8 of 8 of type hospital\n",
      "2022-07-22 14:41:55,978 - tracker - INFO - Rank 0 -- tracking contacts -- 8 of 8 of type isolation_unit\n",
      "2022-07-22 14:41:55,981 - tracker - INFO - Rank 0 -- tracking contacts -- 389 of 389 of type learning_center\n",
      "2022-07-22 14:41:55,992 - rank - INFO - Rank 0 -- tracker -- 7.216762273004861\n",
      "2022-07-22 14:41:56,001 - epidemiology - INFO - CMS: Infection COMS-v2 for rank 0/1(2)0.0004013379948446527,0.00040078163146972656 - 2020-05-26 17:00:00\n",
      "2022-07-22 14:41:56,048 - rank - INFO - Rank 0 -- interaction_waiting -- 7.5360003393143415e-06\n",
      "2022-07-22 14:41:56,063 - simulator - INFO - CMS: Timestep for rank 0/1 - 8.412610861996654,8.412611246109009 - 2020-05-26 17:00:00\n",
      "\n",
      "2022-07-22 14:41:56,066 - rank - INFO - Next timestep\n",
      "2022-07-22 14:41:56,067 - simulator - INFO - ==================== timestep ====================\n",
      "2022-07-22 14:41:56,256 - rank - INFO - Rank 0 -- move_people -- 0.1883563029987272\n",
      "2022-07-22 14:41:56,257 - rank - INFO - Rank 0 -- move_people_waiting -- 9.611991117708385e-06\n",
      "2022-07-22 14:41:56,258 - activity_manager - INFO - CMS: People COMS for rank 0/1 - 5.150999641045928e-06,4.76837158203125e-06 - 2020-05-26 19:00:00\n",
      "2022-07-22 14:41:56,266 - simulator - INFO - Info for rank 0, Date = 2020-05-26 19:00:00, number of deaths =  0, number of infected = 405\n",
      "2022-07-22 14:41:56,365 - rank - INFO - Rank 0 -- interaction -- 0.10685569199267775\n",
      "2022-07-22 14:41:56,372 - tracker - INFO - Rank 0 -- tracking contacts -- 500 of 3274 of type shelter\n",
      "2022-07-22 14:41:57,465 - tracker - INFO - Rank 0 -- tracking contacts -- 115 of 115 of type communal\n",
      "2022-07-22 14:41:57,468 - tracker - INFO - Rank 0 -- tracking contacts -- 21 of 21 of type distribution_center\n",
      "2022-07-22 14:41:57,469 - tracker - INFO - Rank 0 -- tracking contacts -- 7 of 7 of type e_voucher\n",
      "2022-07-22 14:41:57,471 - tracker - INFO - Rank 0 -- tracking contacts -- 67 of 67 of type female_communal\n",
      "2022-07-22 14:41:57,473 - tracker - INFO - Rank 0 -- tracking contacts -- 80 of 80 of type informal_work\n",
      "2022-07-22 14:41:57,476 - tracker - INFO - Rank 0 -- tracking contacts -- 41 of 41 of type n_f_distribution_center\n",
      "2022-07-22 14:41:57,478 - tracker - INFO - Rank 0 -- tracking contacts -- 500 of 538 of type play_group\n",
      "2022-07-22 14:41:57,488 - tracker - INFO - Rank 0 -- tracking contacts -- 82 of 82 of type pump_latrine\n",
      "2022-07-22 14:41:57,501 - tracker - INFO - Rank 0 -- tracking contacts -- 500 of 2065 of type religious\n",
      "2022-07-22 14:41:57,510 - tracker - INFO - Rank 0 -- tracking contacts -- 8 of 8 of type hospital\n",
      "2022-07-22 14:41:57,511 - tracker - INFO - Rank 0 -- tracking contacts -- 8 of 8 of type isolation_unit\n",
      "2022-07-22 14:41:57,514 - tracker - INFO - Rank 0 -- tracking contacts -- 389 of 389 of type learning_center\n",
      "2022-07-22 14:41:57,525 - rank - INFO - Rank 0 -- tracker -- 1.158985752001172\n",
      "2022-07-22 14:41:57,567 - epidemiology - INFO - CMS: Infection COMS-v2 for rank 0/1(2)0.00022543000523000956,0.000225067138671875 - 2020-05-26 19:00:00\n",
      "2022-07-22 14:41:57,620 - rank - INFO - Rank 0 -- interaction_waiting -- 7.381997420452535e-06\n",
      "2022-07-22 14:41:57,635 - simulator - INFO - CMS: Timestep for rank 0/1 - 1.567618567001773,1.5676195621490479 - 2020-05-26 19:00:00\n",
      "\n",
      "2022-07-22 14:41:57,638 - rank - INFO - Next timestep\n",
      "2022-07-22 14:41:57,639 - simulator - INFO - ==================== timestep ====================\n",
      "2022-07-22 14:41:57,849 - rank - INFO - Rank 0 -- move_people -- 0.20933889099978842\n",
      "2022-07-22 14:41:57,850 - rank - INFO - Rank 0 -- move_people_waiting -- 8.531002094969153e-06\n",
      "2022-07-22 14:41:57,851 - activity_manager - INFO - CMS: People COMS for rank 0/1 - 4.048997652716935e-06,3.5762786865234375e-06 - 2020-05-27 09:00:00\n",
      "2022-07-22 14:41:57,857 - simulator - INFO - Info for rank 0, Date = 2020-05-27 09:00:00, number of deaths =  0, number of infected = 480\n",
      "2022-07-22 14:41:57,955 - rank - INFO - Rank 0 -- interaction -- 0.10324791801394895\n",
      "2022-07-22 14:41:57,963 - tracker - INFO - Rank 0 -- tracking contacts -- 500 of 3274 of type shelter\n",
      "2022-07-22 14:41:58,698 - tracker - INFO - Rank 0 -- tracking contacts -- 115 of 115 of type communal\n",
      "2022-07-22 14:41:58,701 - tracker - INFO - Rank 0 -- tracking contacts -- 21 of 21 of type distribution_center\n",
      "2022-07-22 14:41:58,703 - tracker - INFO - Rank 0 -- tracking contacts -- 7 of 7 of type e_voucher\n",
      "2022-07-22 14:41:58,704 - tracker - INFO - Rank 0 -- tracking contacts -- 67 of 67 of type female_communal\n",
      "2022-07-22 14:41:58,706 - tracker - INFO - Rank 0 -- tracking contacts -- 80 of 80 of type informal_work\n",
      "2022-07-22 14:41:58,708 - tracker - INFO - Rank 0 -- tracking contacts -- 41 of 41 of type n_f_distribution_center\n",
      "2022-07-22 14:41:58,711 - tracker - INFO - Rank 0 -- tracking contacts -- 500 of 538 of type play_group\n",
      "2022-07-22 14:41:58,722 - tracker - INFO - Rank 0 -- tracking contacts -- 82 of 82 of type pump_latrine\n",
      "2022-07-22 14:41:58,734 - tracker - INFO - Rank 0 -- tracking contacts -- 500 of 2065 of type religious\n",
      "2022-07-22 14:41:58,745 - tracker - INFO - Rank 0 -- tracking contacts -- 8 of 8 of type hospital\n",
      "2022-07-22 14:41:58,752 - tracker - INFO - Rank 0 -- tracking contacts -- 8 of 8 of type isolation_unit\n",
      "2022-07-22 14:41:58,754 - tracker - INFO - Rank 0 -- tracking contacts -- 389 of 389 of type learning_center\n",
      "2022-07-22 14:41:59,827 - rank - INFO - Rank 0 -- tracker -- 1.8707705049891956\n",
      "2022-07-22 14:41:59,836 - epidemiology - INFO - CMS: Infection COMS-v2 for rank 0/1(2)0.00041730699012987316,0.0004172325134277344 - 2020-05-27 09:00:00\n",
      "2022-07-22 14:41:59,884 - rank - INFO - Rank 0 -- interaction_waiting -- 9.088005754165351e-06\n",
      "2022-07-22 14:41:59,902 - simulator - INFO - CMS: Timestep for rank 0/1 - 2.261749087992939,2.2617499828338623 - 2020-05-27 09:00:00\n",
      "\n",
      "2022-07-22 14:41:59,904 - rank - INFO - Next timestep\n",
      "2022-07-22 14:41:59,906 - simulator - INFO - ==================== timestep ====================\n",
      "2022-07-22 14:42:00,740 - rank - INFO - Rank 0 -- move_people -- 0.8335193449893268\n",
      "2022-07-22 14:42:00,742 - rank - INFO - Rank 0 -- move_people_waiting -- 3.901994205079973e-06\n",
      "2022-07-22 14:42:00,742 - activity_manager - INFO - CMS: People COMS for rank 0/1 - 3.7919962778687477e-06,3.337860107421875e-06 - 2020-05-27 11:00:00\n",
      "2022-07-22 14:42:00,748 - simulator - INFO - Info for rank 0, Date = 2020-05-27 11:00:00, number of deaths =  0, number of infected = 492\n",
      "2022-07-22 14:42:00,919 - rank - INFO - Rank 0 -- interaction -- 0.17551698299939744\n",
      "2022-07-22 14:42:00,926 - tracker - INFO - Rank 0 -- tracking contacts -- 500 of 3274 of type shelter\n",
      "2022-07-22 14:42:01,174 - tracker - INFO - Rank 0 -- tracking contacts -- 115 of 115 of type communal\n",
      "2022-07-22 14:42:01,194 - tracker - INFO - Rank 0 -- tracking contacts -- 21 of 21 of type distribution_center\n",
      "2022-07-22 14:42:01,231 - tracker - INFO - Rank 0 -- tracking contacts -- 7 of 7 of type e_voucher\n",
      "2022-07-22 14:42:01,245 - tracker - INFO - Rank 0 -- tracking contacts -- 67 of 67 of type female_communal\n",
      "2022-07-22 14:42:01,296 - tracker - INFO - Rank 0 -- tracking contacts -- 80 of 80 of type informal_work\n"
     ]
    },
    {
     "name": "stdout",
     "output_type": "stream",
     "text": [
      "2022-07-22 14:42:01,367 - tracker - INFO - Rank 0 -- tracking contacts -- 41 of 41 of type n_f_distribution_center\n",
      "2022-07-22 14:42:01,479 - tracker - INFO - Rank 0 -- tracking contacts -- 500 of 538 of type play_group\n",
      "2022-07-22 14:42:01,857 - tracker - INFO - Rank 0 -- tracking contacts -- 82 of 82 of type pump_latrine\n",
      "2022-07-22 14:42:05,877 - tracker - INFO - Rank 0 -- tracking contacts -- 500 of 2065 of type religious\n",
      "2022-07-22 14:42:06,426 - tracker - INFO - Rank 0 -- tracking contacts -- 8 of 8 of type hospital\n",
      "2022-07-22 14:42:06,432 - tracker - INFO - Rank 0 -- tracking contacts -- 8 of 8 of type isolation_unit\n",
      "2022-07-22 14:42:06,434 - tracker - INFO - Rank 0 -- tracking contacts -- 389 of 389 of type learning_center\n",
      "2022-07-22 14:42:07,349 - rank - INFO - Rank 0 -- tracker -- 6.428538477994152\n",
      "2022-07-22 14:42:07,358 - epidemiology - INFO - CMS: Infection COMS-v2 for rank 0/1(2)0.0002828819997375831,0.00028252601623535156 - 2020-05-27 11:00:00\n",
      "2022-07-22 14:42:07,399 - rank - INFO - Rank 0 -- interaction_waiting -- 6.665999535471201e-06\n",
      "2022-07-22 14:42:07,416 - simulator - INFO - CMS: Timestep for rank 0/1 - 7.509227478003595,7.509228706359863 - 2020-05-27 11:00:00\n",
      "\n",
      "2022-07-22 14:42:07,419 - rank - INFO - Next timestep\n",
      "2022-07-22 14:42:07,420 - simulator - INFO - ==================== timestep ====================\n",
      "2022-07-22 14:42:08,267 - rank - INFO - Rank 0 -- move_people -- 0.8462089829990873\n",
      "2022-07-22 14:42:08,268 - rank - INFO - Rank 0 -- move_people_waiting -- 3.663997631520033e-06\n",
      "2022-07-22 14:42:08,269 - activity_manager - INFO - CMS: People COMS for rank 0/1 - 3.77700780518353e-06,3.5762786865234375e-06 - 2020-05-27 13:00:00\n",
      "2022-07-22 14:42:08,274 - simulator - INFO - Info for rank 0, Date = 2020-05-27 13:00:00, number of deaths =  0, number of infected = 514\n",
      "2022-07-22 14:42:08,461 - rank - INFO - Rank 0 -- interaction -- 0.19139778100361582\n",
      "2022-07-22 14:42:08,468 - tracker - INFO - Rank 0 -- tracking contacts -- 500 of 3274 of type shelter\n",
      "2022-07-22 14:42:08,725 - tracker - INFO - Rank 0 -- tracking contacts -- 115 of 115 of type communal\n",
      "2022-07-22 14:42:08,757 - tracker - INFO - Rank 0 -- tracking contacts -- 21 of 21 of type distribution_center\n",
      "2022-07-22 14:42:08,807 - tracker - INFO - Rank 0 -- tracking contacts -- 7 of 7 of type e_voucher\n",
      "2022-07-22 14:42:08,827 - tracker - INFO - Rank 0 -- tracking contacts -- 67 of 67 of type female_communal\n",
      "2022-07-22 14:42:08,887 - tracker - INFO - Rank 0 -- tracking contacts -- 80 of 80 of type informal_work\n",
      "2022-07-22 14:42:08,976 - tracker - INFO - Rank 0 -- tracking contacts -- 41 of 41 of type n_f_distribution_center\n",
      "2022-07-22 14:42:09,106 - tracker - INFO - Rank 0 -- tracking contacts -- 500 of 538 of type play_group\n",
      "2022-07-22 14:42:09,494 - tracker - INFO - Rank 0 -- tracking contacts -- 82 of 82 of type pump_latrine\n",
      "2022-07-22 14:42:13,699 - tracker - INFO - Rank 0 -- tracking contacts -- 500 of 2065 of type religious\n",
      "2022-07-22 14:42:14,337 - tracker - INFO - Rank 0 -- tracking contacts -- 8 of 8 of type hospital\n",
      "2022-07-22 14:42:14,345 - tracker - INFO - Rank 0 -- tracking contacts -- 8 of 8 of type isolation_unit\n",
      "2022-07-22 14:42:14,347 - tracker - INFO - Rank 0 -- tracking contacts -- 389 of 389 of type learning_center\n",
      "2022-07-22 14:42:15,374 - rank - INFO - Rank 0 -- tracker -- 6.9121664199919906\n",
      "2022-07-22 14:42:15,385 - epidemiology - INFO - CMS: Infection COMS-v2 for rank 0/1(2)0.0007193640049081296,0.0007193088531494141 - 2020-05-27 13:00:00\n",
      "2022-07-22 14:42:15,438 - rank - INFO - Rank 0 -- interaction_waiting -- 1.0157993528991938e-05\n",
      "2022-07-22 14:42:15,460 - simulator - INFO - CMS: Timestep for rank 0/1 - 8.039378022993333,8.039378881454468 - 2020-05-27 13:00:00\n",
      "\n",
      "2022-07-22 14:42:15,463 - rank - INFO - Next timestep\n",
      "2022-07-22 14:42:15,464 - simulator - INFO - ==================== timestep ====================\n",
      "2022-07-22 14:42:16,337 - rank - INFO - Rank 0 -- move_people -- 0.8721916639915435\n",
      "2022-07-22 14:42:16,338 - rank - INFO - Rank 0 -- move_people_waiting -- 7.88200122769922e-06\n",
      "2022-07-22 14:42:16,339 - activity_manager - INFO - CMS: People COMS for rank 0/1 - 4.554007318802178e-06,3.5762786865234375e-06 - 2020-05-27 15:00:00\n",
      "2022-07-22 14:42:16,345 - simulator - INFO - Info for rank 0, Date = 2020-05-27 15:00:00, number of deaths =  0, number of infected = 536\n",
      "2022-07-22 14:42:16,548 - rank - INFO - Rank 0 -- interaction -- 0.20849300299596507\n",
      "2022-07-22 14:42:16,559 - tracker - INFO - Rank 0 -- tracking contacts -- 500 of 3274 of type shelter\n",
      "2022-07-22 14:42:16,839 - tracker - INFO - Rank 0 -- tracking contacts -- 115 of 115 of type communal\n",
      "2022-07-22 14:42:16,862 - tracker - INFO - Rank 0 -- tracking contacts -- 21 of 21 of type distribution_center\n",
      "2022-07-22 14:42:16,906 - tracker - INFO - Rank 0 -- tracking contacts -- 7 of 7 of type e_voucher\n",
      "2022-07-22 14:42:16,920 - tracker - INFO - Rank 0 -- tracking contacts -- 67 of 67 of type female_communal\n",
      "2022-07-22 14:42:16,982 - tracker - INFO - Rank 0 -- tracking contacts -- 80 of 80 of type informal_work\n",
      "2022-07-22 14:42:17,068 - tracker - INFO - Rank 0 -- tracking contacts -- 41 of 41 of type n_f_distribution_center\n",
      "2022-07-22 14:42:17,190 - tracker - INFO - Rank 0 -- tracking contacts -- 500 of 538 of type play_group\n",
      "2022-07-22 14:42:17,600 - tracker - INFO - Rank 0 -- tracking contacts -- 82 of 82 of type pump_latrine\n",
      "2022-07-22 14:42:21,857 - tracker - INFO - Rank 0 -- tracking contacts -- 500 of 2065 of type religious\n",
      "2022-07-22 14:42:22,438 - tracker - INFO - Rank 0 -- tracking contacts -- 8 of 8 of type hospital\n",
      "2022-07-22 14:42:22,445 - tracker - INFO - Rank 0 -- tracking contacts -- 8 of 8 of type isolation_unit\n",
      "2022-07-22 14:42:22,447 - tracker - INFO - Rank 0 -- tracking contacts -- 389 of 389 of type learning_center\n",
      "2022-07-22 14:42:23,412 - rank - INFO - Rank 0 -- tracker -- 6.862894566991599\n",
      "2022-07-22 14:42:23,423 - epidemiology - INFO - CMS: Infection COMS-v2 for rank 0/1(2)0.00022376200649887323,0.00022268295288085938 - 2020-05-27 15:00:00\n",
      "2022-07-22 14:42:23,461 - rank - INFO - Rank 0 -- interaction_waiting -- 8.39799758978188e-06\n",
      "2022-07-22 14:42:23,476 - simulator - INFO - CMS: Timestep for rank 0/1 - 8.010905285002082,8.010906457901001 - 2020-05-27 15:00:00\n",
      "\n",
      "2022-07-22 14:42:23,479 - rank - INFO - Next timestep\n",
      "2022-07-22 14:42:23,480 - simulator - INFO - ==================== timestep ====================\n",
      "2022-07-22 14:42:24,327 - rank - INFO - Rank 0 -- move_people -- 0.8463342859904515\n",
      "2022-07-22 14:42:24,328 - rank - INFO - Rank 0 -- move_people_waiting -- 8.200004231184721e-06\n",
      "2022-07-22 14:42:24,329 - activity_manager - INFO - CMS: People COMS for rank 0/1 - 5.203008186072111e-06,4.5299530029296875e-06 - 2020-05-27 17:00:00\n",
      "2022-07-22 14:42:24,335 - simulator - INFO - Info for rank 0, Date = 2020-05-27 17:00:00, number of deaths =  0, number of infected = 560\n",
      "2022-07-22 14:42:24,515 - rank - INFO - Rank 0 -- interaction -- 0.18442649600910954\n",
      "2022-07-22 14:42:24,522 - tracker - INFO - Rank 0 -- tracking contacts -- 500 of 3274 of type shelter\n",
      "2022-07-22 14:42:24,827 - tracker - INFO - Rank 0 -- tracking contacts -- 115 of 115 of type communal\n",
      "2022-07-22 14:42:24,831 - tracker - INFO - Rank 0 -- tracking contacts -- 21 of 21 of type distribution_center\n",
      "2022-07-22 14:42:24,895 - tracker - INFO - Rank 0 -- tracking contacts -- 7 of 7 of type e_voucher\n",
      "2022-07-22 14:42:24,921 - tracker - INFO - Rank 0 -- tracking contacts -- 67 of 67 of type female_communal\n",
      "2022-07-22 14:42:24,923 - tracker - INFO - Rank 0 -- tracking contacts -- 80 of 80 of type informal_work\n",
      "2022-07-22 14:42:25,026 - tracker - INFO - Rank 0 -- tracking contacts -- 41 of 41 of type n_f_distribution_center\n",
      "2022-07-22 14:42:25,181 - tracker - INFO - Rank 0 -- tracking contacts -- 500 of 538 of type play_group\n",
      "2022-07-22 14:42:25,657 - tracker - INFO - Rank 0 -- tracking contacts -- 82 of 82 of type pump_latrine\n",
      "2022-07-22 14:42:30,653 - tracker - INFO - Rank 0 -- tracking contacts -- 500 of 2065 of type religious\n",
      "2022-07-22 14:42:31,392 - tracker - INFO - Rank 0 -- tracking contacts -- 8 of 8 of type hospital\n",
      "2022-07-22 14:42:31,393 - tracker - INFO - Rank 0 -- tracking contacts -- 8 of 8 of type isolation_unit\n"
     ]
    },
    {
     "name": "stdout",
     "output_type": "stream",
     "text": [
      "2022-07-22 14:42:31,394 - tracker - INFO - Rank 0 -- tracking contacts -- 389 of 389 of type learning_center\n",
      "2022-07-22 14:42:31,405 - rank - INFO - Rank 0 -- tracker -- 6.888783014001092\n",
      "2022-07-22 14:42:31,412 - epidemiology - INFO - CMS: Infection COMS-v2 for rank 0/1(2)0.00029338400054257363,0.00029277801513671875 - 2020-05-27 17:00:00\n",
      "2022-07-22 14:42:31,461 - rank - INFO - Rank 0 -- interaction_waiting -- 7.238995749503374e-06\n",
      "2022-07-22 14:42:31,476 - simulator - INFO - CMS: Timestep for rank 0/1 - 7.995199158991454,7.9952003955841064 - 2020-05-27 17:00:00\n",
      "\n",
      "2022-07-22 14:42:31,479 - rank - INFO - Next timestep\n",
      "2022-07-22 14:42:31,480 - simulator - INFO - ==================== timestep ====================\n",
      "2022-07-22 14:42:31,672 - rank - INFO - Rank 0 -- move_people -- 0.19083020099787973\n",
      "2022-07-22 14:42:31,673 - rank - INFO - Rank 0 -- move_people_waiting -- 8.799994247965515e-06\n",
      "2022-07-22 14:42:31,674 - activity_manager - INFO - CMS: People COMS for rank 0/1 - 4.660992999561131e-06,4.5299530029296875e-06 - 2020-05-27 19:00:00\n",
      "2022-07-22 14:42:31,680 - simulator - INFO - Info for rank 0, Date = 2020-05-27 19:00:00, number of deaths =  0, number of infected = 573\n",
      "2022-07-22 14:42:31,790 - rank - INFO - Rank 0 -- interaction -- 0.11530903899983969\n",
      "2022-07-22 14:42:31,798 - tracker - INFO - Rank 0 -- tracking contacts -- 500 of 3274 of type shelter\n",
      "2022-07-22 14:42:32,854 - tracker - INFO - Rank 0 -- tracking contacts -- 115 of 115 of type communal\n",
      "2022-07-22 14:42:32,857 - tracker - INFO - Rank 0 -- tracking contacts -- 21 of 21 of type distribution_center\n",
      "2022-07-22 14:42:32,858 - tracker - INFO - Rank 0 -- tracking contacts -- 7 of 7 of type e_voucher\n",
      "2022-07-22 14:42:32,860 - tracker - INFO - Rank 0 -- tracking contacts -- 67 of 67 of type female_communal\n",
      "2022-07-22 14:42:32,862 - tracker - INFO - Rank 0 -- tracking contacts -- 80 of 80 of type informal_work\n",
      "2022-07-22 14:42:32,865 - tracker - INFO - Rank 0 -- tracking contacts -- 41 of 41 of type n_f_distribution_center\n",
      "2022-07-22 14:42:32,868 - tracker - INFO - Rank 0 -- tracking contacts -- 500 of 538 of type play_group\n",
      "2022-07-22 14:42:32,888 - tracker - INFO - Rank 0 -- tracking contacts -- 82 of 82 of type pump_latrine\n",
      "2022-07-22 14:42:32,900 - tracker - INFO - Rank 0 -- tracking contacts -- 500 of 2065 of type religious\n",
      "2022-07-22 14:42:32,915 - tracker - INFO - Rank 0 -- tracking contacts -- 8 of 8 of type hospital\n",
      "2022-07-22 14:42:32,916 - tracker - INFO - Rank 0 -- tracking contacts -- 8 of 8 of type isolation_unit\n",
      "2022-07-22 14:42:32,919 - tracker - INFO - Rank 0 -- tracking contacts -- 389 of 389 of type learning_center\n",
      "2022-07-22 14:42:32,931 - rank - INFO - Rank 0 -- tracker -- 1.1400969289970817\n",
      "2022-07-22 14:42:32,983 - epidemiology - INFO - CMS: Infection COMS-v2 for rank 0/1(2)0.0012029759964207187,0.0012025833129882812 - 2020-05-27 19:00:00\n",
      "2022-07-22 14:42:33,045 - rank - INFO - Rank 0 -- interaction_waiting -- 9.585011866874993e-06\n",
      "2022-07-22 14:42:33,059 - simulator - INFO - CMS: Timestep for rank 0/1 - 1.5774085320008453,1.577409029006958 - 2020-05-27 19:00:00\n",
      "\n",
      "2022-07-22 14:42:33,062 - rank - INFO - Next timestep\n",
      "2022-07-22 14:42:33,063 - simulator - INFO - ==================== timestep ====================\n",
      "2022-07-22 14:42:33,268 - rank - INFO - Rank 0 -- move_people -- 0.20385892101330683\n",
      "2022-07-22 14:42:33,269 - rank - INFO - Rank 0 -- move_people_waiting -- 8.969000191427767e-06\n",
      "2022-07-22 14:42:33,269 - activity_manager - INFO - CMS: People COMS for rank 0/1 - 4.462999640963972e-06,3.337860107421875e-06 - 2020-05-28 09:00:00\n",
      "2022-07-22 14:42:33,278 - simulator - INFO - Info for rank 0, Date = 2020-05-28 09:00:00, number of deaths =  0, number of infected = 667\n",
      "2022-07-22 14:42:33,384 - rank - INFO - Rank 0 -- interaction -- 0.1137190799927339\n",
      "2022-07-22 14:42:33,392 - tracker - INFO - Rank 0 -- tracking contacts -- 500 of 3274 of type shelter\n",
      "2022-07-22 14:42:34,138 - tracker - INFO - Rank 0 -- tracking contacts -- 115 of 115 of type communal\n",
      "2022-07-22 14:42:34,141 - tracker - INFO - Rank 0 -- tracking contacts -- 21 of 21 of type distribution_center\n",
      "2022-07-22 14:42:34,142 - tracker - INFO - Rank 0 -- tracking contacts -- 7 of 7 of type e_voucher\n",
      "2022-07-22 14:42:34,143 - tracker - INFO - Rank 0 -- tracking contacts -- 67 of 67 of type female_communal\n",
      "2022-07-22 14:42:34,146 - tracker - INFO - Rank 0 -- tracking contacts -- 80 of 80 of type informal_work\n",
      "2022-07-22 14:42:34,149 - tracker - INFO - Rank 0 -- tracking contacts -- 41 of 41 of type n_f_distribution_center\n",
      "2022-07-22 14:42:34,153 - tracker - INFO - Rank 0 -- tracking contacts -- 500 of 538 of type play_group\n",
      "2022-07-22 14:42:34,165 - tracker - INFO - Rank 0 -- tracking contacts -- 82 of 82 of type pump_latrine\n",
      "2022-07-22 14:42:34,181 - tracker - INFO - Rank 0 -- tracking contacts -- 500 of 2065 of type religious\n",
      "2022-07-22 14:42:34,190 - tracker - INFO - Rank 0 -- tracking contacts -- 8 of 8 of type hospital\n",
      "2022-07-22 14:42:34,202 - tracker - INFO - Rank 0 -- tracking contacts -- 8 of 8 of type isolation_unit\n",
      "2022-07-22 14:42:34,205 - tracker - INFO - Rank 0 -- tracking contacts -- 389 of 389 of type learning_center\n",
      "2022-07-22 14:42:35,201 - rank - INFO - Rank 0 -- tracker -- 1.8151422859955346\n",
      "2022-07-22 14:42:35,209 - epidemiology - INFO - CMS: Infection COMS-v2 for rank 0/1(2)0.0007836359873181209,0.0007836818695068359 - 2020-05-28 09:00:00\n",
      "2022-07-22 14:42:35,255 - rank - INFO - Rank 0 -- interaction_waiting -- 1.0221003321930766e-05\n",
      "2022-07-22 14:42:35,271 - simulator - INFO - CMS: Timestep for rank 0/1 - 2.20652581199829,2.206526279449463 - 2020-05-28 09:00:00\n",
      "\n",
      "2022-07-22 14:42:35,274 - rank - INFO - Next timestep\n",
      "2022-07-22 14:42:35,275 - simulator - INFO - ==================== timestep ====================\n",
      "2022-07-22 14:42:36,038 - rank - INFO - Rank 0 -- move_people -- 0.7620741300052032\n",
      "2022-07-22 14:42:36,039 - rank - INFO - Rank 0 -- move_people_waiting -- 4.3100008042529225e-06\n",
      "2022-07-22 14:42:36,040 - activity_manager - INFO - CMS: People COMS for rank 0/1 - 3.919005393981934e-06,3.337860107421875e-06 - 2020-05-28 11:00:00\n",
      "2022-07-22 14:42:36,046 - simulator - INFO - Info for rank 0, Date = 2020-05-28 11:00:00, number of deaths =  0, number of infected = 679\n",
      "2022-07-22 14:42:36,266 - rank - INFO - Rank 0 -- interaction -- 0.22561017499538139\n",
      "2022-07-22 14:42:36,274 - tracker - INFO - Rank 0 -- tracking contacts -- 500 of 3274 of type shelter\n",
      "2022-07-22 14:42:36,542 - tracker - INFO - Rank 0 -- tracking contacts -- 115 of 115 of type communal\n",
      "2022-07-22 14:42:36,570 - tracker - INFO - Rank 0 -- tracking contacts -- 21 of 21 of type distribution_center\n",
      "2022-07-22 14:42:36,623 - tracker - INFO - Rank 0 -- tracking contacts -- 7 of 7 of type e_voucher\n",
      "2022-07-22 14:42:36,634 - tracker - INFO - Rank 0 -- tracking contacts -- 67 of 67 of type female_communal\n",
      "2022-07-22 14:42:36,697 - tracker - INFO - Rank 0 -- tracking contacts -- 80 of 80 of type informal_work\n",
      "2022-07-22 14:42:36,774 - tracker - INFO - Rank 0 -- tracking contacts -- 41 of 41 of type n_f_distribution_center\n",
      "2022-07-22 14:42:36,893 - tracker - INFO - Rank 0 -- tracking contacts -- 500 of 538 of type play_group\n",
      "2022-07-22 14:42:37,262 - tracker - INFO - Rank 0 -- tracking contacts -- 82 of 82 of type pump_latrine\n",
      "2022-07-22 14:42:41,462 - tracker - INFO - Rank 0 -- tracking contacts -- 500 of 2065 of type religious\n",
      "2022-07-22 14:42:42,101 - tracker - INFO - Rank 0 -- tracking contacts -- 8 of 8 of type hospital\n",
      "2022-07-22 14:42:42,110 - tracker - INFO - Rank 0 -- tracking contacts -- 8 of 8 of type isolation_unit\n",
      "2022-07-22 14:42:42,113 - tracker - INFO - Rank 0 -- tracking contacts -- 389 of 389 of type learning_center\n",
      "2022-07-22 14:42:43,105 - rank - INFO - Rank 0 -- tracker -- 6.838312792999204\n",
      "2022-07-22 14:42:43,116 - epidemiology - INFO - CMS: Infection COMS-v2 for rank 0/1(2)0.00030119699658825994,0.0003008842468261719 - 2020-05-28 11:00:00\n",
      "2022-07-22 14:42:43,162 - rank - INFO - Rank 0 -- interaction_waiting -- 7.826994988135993e-06\n",
      "2022-07-22 14:42:43,179 - simulator - INFO - CMS: Timestep for rank 0/1 - 7.902997851007967,7.902998447418213 - 2020-05-28 11:00:00\n",
      "\n",
      "2022-07-22 14:42:43,181 - rank - INFO - Next timestep\n"
     ]
    },
    {
     "name": "stdout",
     "output_type": "stream",
     "text": [
      "2022-07-22 14:42:43,182 - simulator - INFO - ==================== timestep ====================\n",
      "2022-07-22 14:42:43,987 - rank - INFO - Rank 0 -- move_people -- 0.8042544810014078\n",
      "2022-07-22 14:42:43,988 - rank - INFO - Rank 0 -- move_people_waiting -- 6.553993443958461e-06\n",
      "2022-07-22 14:42:43,989 - activity_manager - INFO - CMS: People COMS for rank 0/1 - 4.440997145138681e-06,4.0531158447265625e-06 - 2020-05-28 13:00:00\n",
      "2022-07-22 14:42:43,996 - simulator - INFO - Info for rank 0, Date = 2020-05-28 13:00:00, number of deaths =  0, number of infected = 700\n",
      "2022-07-22 14:42:44,183 - rank - INFO - Rank 0 -- interaction -- 0.19355794500734191\n",
      "2022-07-22 14:42:44,191 - tracker - INFO - Rank 0 -- tracking contacts -- 500 of 3274 of type shelter\n",
      "2022-07-22 14:42:44,462 - tracker - INFO - Rank 0 -- tracking contacts -- 115 of 115 of type communal\n",
      "2022-07-22 14:42:44,487 - tracker - INFO - Rank 0 -- tracking contacts -- 21 of 21 of type distribution_center\n",
      "2022-07-22 14:42:44,531 - tracker - INFO - Rank 0 -- tracking contacts -- 7 of 7 of type e_voucher\n",
      "2022-07-22 14:42:44,544 - tracker - INFO - Rank 0 -- tracking contacts -- 67 of 67 of type female_communal\n",
      "2022-07-22 14:42:44,605 - tracker - INFO - Rank 0 -- tracking contacts -- 80 of 80 of type informal_work\n",
      "2022-07-22 14:42:44,681 - tracker - INFO - Rank 0 -- tracking contacts -- 41 of 41 of type n_f_distribution_center\n",
      "2022-07-22 14:42:44,831 - tracker - INFO - Rank 0 -- tracking contacts -- 500 of 538 of type play_group\n",
      "2022-07-22 14:42:45,247 - tracker - INFO - Rank 0 -- tracking contacts -- 82 of 82 of type pump_latrine\n",
      "2022-07-22 14:42:49,177 - tracker - INFO - Rank 0 -- tracking contacts -- 500 of 2065 of type religious\n",
      "2022-07-22 14:42:49,688 - tracker - INFO - Rank 0 -- tracking contacts -- 8 of 8 of type hospital\n",
      "2022-07-22 14:42:49,694 - tracker - INFO - Rank 0 -- tracking contacts -- 8 of 8 of type isolation_unit\n",
      "2022-07-22 14:42:49,696 - tracker - INFO - Rank 0 -- tracking contacts -- 389 of 389 of type learning_center\n",
      "2022-07-22 14:42:50,571 - rank - INFO - Rank 0 -- tracker -- 6.386926705992664\n",
      "2022-07-22 14:42:50,587 - epidemiology - INFO - CMS: Infection COMS-v2 for rank 0/1(2)0.00022366100165527314,0.00022268295288085938 - 2020-05-28 13:00:00\n",
      "2022-07-22 14:42:50,627 - rank - INFO - Rank 0 -- interaction_waiting -- 9.300012607127428e-06\n",
      "2022-07-22 14:42:50,641 - simulator - INFO - CMS: Timestep for rank 0/1 - 7.458078059993568,7.458078622817993 - 2020-05-28 13:00:00\n",
      "\n",
      "2022-07-22 14:42:50,644 - rank - INFO - Next timestep\n",
      "2022-07-22 14:42:50,644 - simulator - INFO - ==================== timestep ====================\n",
      "2022-07-22 14:42:51,447 - rank - INFO - Rank 0 -- move_people -- 0.8017427590093575\n",
      "2022-07-22 14:42:51,448 - rank - INFO - Rank 0 -- move_people_waiting -- 7.591006578877568e-06\n",
      "2022-07-22 14:42:51,449 - activity_manager - INFO - CMS: People COMS for rank 0/1 - 4.271001671440899e-06,3.814697265625e-06 - 2020-05-28 15:00:00\n",
      "2022-07-22 14:42:51,455 - simulator - INFO - Info for rank 0, Date = 2020-05-28 15:00:00, number of deaths =  0, number of infected = 727\n",
      "2022-07-22 14:42:51,644 - rank - INFO - Rank 0 -- interaction -- 0.19431181700201705\n",
      "2022-07-22 14:42:51,651 - tracker - INFO - Rank 0 -- tracking contacts -- 500 of 3274 of type shelter\n",
      "2022-07-22 14:42:51,898 - tracker - INFO - Rank 0 -- tracking contacts -- 115 of 115 of type communal\n",
      "2022-07-22 14:42:51,917 - tracker - INFO - Rank 0 -- tracking contacts -- 21 of 21 of type distribution_center\n",
      "2022-07-22 14:42:51,967 - tracker - INFO - Rank 0 -- tracking contacts -- 7 of 7 of type e_voucher\n",
      "2022-07-22 14:42:51,984 - tracker - INFO - Rank 0 -- tracking contacts -- 67 of 67 of type female_communal\n",
      "2022-07-22 14:42:52,048 - tracker - INFO - Rank 0 -- tracking contacts -- 80 of 80 of type informal_work\n",
      "2022-07-22 14:42:52,125 - tracker - INFO - Rank 0 -- tracking contacts -- 41 of 41 of type n_f_distribution_center\n",
      "2022-07-22 14:42:52,235 - tracker - INFO - Rank 0 -- tracking contacts -- 500 of 538 of type play_group\n",
      "2022-07-22 14:42:52,658 - tracker - INFO - Rank 0 -- tracking contacts -- 82 of 82 of type pump_latrine\n",
      "2022-07-22 14:42:57,080 - tracker - INFO - Rank 0 -- tracking contacts -- 500 of 2065 of type religious\n",
      "2022-07-22 14:42:57,692 - tracker - INFO - Rank 0 -- tracking contacts -- 8 of 8 of type hospital\n",
      "2022-07-22 14:42:57,700 - tracker - INFO - Rank 0 -- tracking contacts -- 8 of 8 of type isolation_unit\n",
      "2022-07-22 14:42:57,702 - tracker - INFO - Rank 0 -- tracking contacts -- 389 of 389 of type learning_center\n",
      "2022-07-22 14:42:58,693 - rank - INFO - Rank 0 -- tracker -- 7.047929666994605\n",
      "2022-07-22 14:42:58,706 - epidemiology - INFO - CMS: Infection COMS-v2 for rank 0/1(2)0.0005998339911457151,0.0005996227264404297 - 2020-05-28 15:00:00\n",
      "2022-07-22 14:42:58,751 - rank - INFO - Rank 0 -- interaction_waiting -- 8.597999112680554e-06\n",
      "2022-07-22 14:42:58,766 - simulator - INFO - CMS: Timestep for rank 0/1 - 8.121148964011809,8.12114930152893 - 2020-05-28 15:00:00\n",
      "\n",
      "2022-07-22 14:42:58,769 - rank - INFO - Next timestep\n",
      "2022-07-22 14:42:58,771 - simulator - INFO - ==================== timestep ====================\n",
      "2022-07-22 14:42:59,663 - rank - INFO - Rank 0 -- move_people -- 0.8916336399997817\n",
      "2022-07-22 14:42:59,664 - rank - INFO - Rank 0 -- move_people_waiting -- 7.341004675254226e-06\n",
      "2022-07-22 14:42:59,665 - activity_manager - INFO - CMS: People COMS for rank 0/1 - 4.168992745690048e-06,3.814697265625e-06 - 2020-05-28 17:00:00\n",
      "2022-07-22 14:42:59,671 - simulator - INFO - Info for rank 0, Date = 2020-05-28 17:00:00, number of deaths =  0, number of infected = 755\n",
      "2022-07-22 14:42:59,888 - rank - INFO - Rank 0 -- interaction -- 0.22268647099554073\n",
      "2022-07-22 14:42:59,900 - tracker - INFO - Rank 0 -- tracking contacts -- 500 of 3274 of type shelter\n",
      "2022-07-22 14:43:00,208 - tracker - INFO - Rank 0 -- tracking contacts -- 115 of 115 of type communal\n",
      "2022-07-22 14:43:00,212 - tracker - INFO - Rank 0 -- tracking contacts -- 21 of 21 of type distribution_center\n",
      "2022-07-22 14:43:00,278 - tracker - INFO - Rank 0 -- tracking contacts -- 7 of 7 of type e_voucher\n",
      "2022-07-22 14:43:00,303 - tracker - INFO - Rank 0 -- tracking contacts -- 67 of 67 of type female_communal\n",
      "2022-07-22 14:43:00,305 - tracker - INFO - Rank 0 -- tracking contacts -- 80 of 80 of type informal_work\n",
      "2022-07-22 14:43:00,430 - tracker - INFO - Rank 0 -- tracking contacts -- 41 of 41 of type n_f_distribution_center\n",
      "2022-07-22 14:43:00,610 - tracker - INFO - Rank 0 -- tracking contacts -- 500 of 538 of type play_group\n",
      "2022-07-22 14:43:01,146 - tracker - INFO - Rank 0 -- tracking contacts -- 82 of 82 of type pump_latrine\n",
      "2022-07-22 14:43:06,628 - tracker - INFO - Rank 0 -- tracking contacts -- 500 of 2065 of type religious\n",
      "2022-07-22 14:43:07,359 - tracker - INFO - Rank 0 -- tracking contacts -- 8 of 8 of type hospital\n",
      "2022-07-22 14:43:07,360 - tracker - INFO - Rank 0 -- tracking contacts -- 8 of 8 of type isolation_unit\n",
      "2022-07-22 14:43:07,362 - tracker - INFO - Rank 0 -- tracking contacts -- 389 of 389 of type learning_center\n",
      "2022-07-22 14:43:07,372 - rank - INFO - Rank 0 -- tracker -- 7.482278060997487\n",
      "2022-07-22 14:43:07,395 - epidemiology - INFO - CMS: Infection COMS-v2 for rank 0/1(2)0.00033322600938845426,0.0003323554992675781 - 2020-05-28 17:00:00\n",
      "2022-07-22 14:43:07,446 - rank - INFO - Rank 0 -- interaction_waiting -- 6.99399970471859e-06\n",
      "2022-07-22 14:43:07,461 - simulator - INFO - CMS: Timestep for rank 0/1 - 8.689658056988264,8.689658641815186 - 2020-05-28 17:00:00\n",
      "\n",
      "2022-07-22 14:43:07,464 - rank - INFO - Next timestep\n",
      "2022-07-22 14:43:07,465 - simulator - INFO - ==================== timestep ====================\n",
      "2022-07-22 14:43:07,663 - rank - INFO - Rank 0 -- move_people -- 0.1975548339978559\n",
      "2022-07-22 14:43:07,664 - rank - INFO - Rank 0 -- move_people_waiting -- 4.53100074082613e-06\n",
      "2022-07-22 14:43:07,665 - activity_manager - INFO - CMS: People COMS for rank 0/1 - 3.955996362492442e-06,3.5762786865234375e-06 - 2020-05-28 19:00:00\n",
      "2022-07-22 14:43:07,670 - simulator - INFO - Info for rank 0, Date = 2020-05-28 19:00:00, number of deaths =  0, number of infected = 789\n",
      "2022-07-22 14:43:07,789 - rank - INFO - Rank 0 -- interaction -- 0.12341205999837257\n"
     ]
    },
    {
     "name": "stdout",
     "output_type": "stream",
     "text": [
      "2022-07-22 14:43:07,796 - tracker - INFO - Rank 0 -- tracking contacts -- 500 of 3274 of type shelter\n",
      "2022-07-22 14:43:08,933 - tracker - INFO - Rank 0 -- tracking contacts -- 115 of 115 of type communal\n",
      "2022-07-22 14:43:08,935 - tracker - INFO - Rank 0 -- tracking contacts -- 21 of 21 of type distribution_center\n",
      "2022-07-22 14:43:08,937 - tracker - INFO - Rank 0 -- tracking contacts -- 7 of 7 of type e_voucher\n",
      "2022-07-22 14:43:08,939 - tracker - INFO - Rank 0 -- tracking contacts -- 67 of 67 of type female_communal\n",
      "2022-07-22 14:43:08,943 - tracker - INFO - Rank 0 -- tracking contacts -- 80 of 80 of type informal_work\n",
      "2022-07-22 14:43:08,948 - tracker - INFO - Rank 0 -- tracking contacts -- 41 of 41 of type n_f_distribution_center\n",
      "2022-07-22 14:43:08,953 - tracker - INFO - Rank 0 -- tracking contacts -- 500 of 538 of type play_group\n",
      "2022-07-22 14:43:08,965 - tracker - INFO - Rank 0 -- tracking contacts -- 82 of 82 of type pump_latrine\n",
      "2022-07-22 14:43:08,980 - tracker - INFO - Rank 0 -- tracking contacts -- 500 of 2065 of type religious\n",
      "2022-07-22 14:43:08,989 - tracker - INFO - Rank 0 -- tracking contacts -- 8 of 8 of type hospital\n",
      "2022-07-22 14:43:08,990 - tracker - INFO - Rank 0 -- tracking contacts -- 8 of 8 of type isolation_unit\n",
      "2022-07-22 14:43:08,992 - tracker - INFO - Rank 0 -- tracking contacts -- 389 of 389 of type learning_center\n",
      "2022-07-22 14:43:09,003 - rank - INFO - Rank 0 -- tracker -- 1.2132731309975497\n",
      "2022-07-22 14:43:09,059 - epidemiology - INFO - CMS: Infection COMS-v2 for rank 0/1(2)0.0005122319998918101,0.0005121231079101562 - 2020-05-28 19:00:00\n",
      "2022-07-22 14:43:09,115 - rank - INFO - Rank 0 -- interaction_waiting -- 1.1568001355044544e-05\n",
      "2022-07-22 14:43:09,131 - simulator - INFO - CMS: Timestep for rank 0/1 - 1.66550783799903,1.66550874710083 - 2020-05-28 19:00:00\n",
      "\n",
      "2022-07-22 14:43:09,134 - rank - INFO - Next timestep\n",
      "2022-07-22 14:43:09,135 - simulator - INFO - ==================== timestep ====================\n",
      "2022-07-22 14:43:09,340 - rank - INFO - Rank 0 -- move_people -- 0.20435823500156403\n",
      "2022-07-22 14:43:09,341 - rank - INFO - Rank 0 -- move_people_waiting -- 8.82400490809232e-06\n",
      "2022-07-22 14:43:09,342 - activity_manager - INFO - CMS: People COMS for rank 0/1 - 5.068999598734081e-06,4.5299530029296875e-06 - 2020-05-29 09:00:00\n",
      "2022-07-22 14:43:09,349 - simulator - INFO - Info for rank 0, Date = 2020-05-29 09:00:00, number of deaths =  0, number of infected = 901\n",
      "2022-07-22 14:43:09,461 - rank - INFO - Rank 0 -- interaction -- 0.11789441200380679\n",
      "2022-07-22 14:43:09,468 - tracker - INFO - Rank 0 -- tracking contacts -- 500 of 3274 of type shelter\n",
      "2022-07-22 14:43:10,330 - tracker - INFO - Rank 0 -- tracking contacts -- 115 of 115 of type communal\n",
      "2022-07-22 14:43:10,333 - tracker - INFO - Rank 0 -- tracking contacts -- 21 of 21 of type distribution_center\n",
      "2022-07-22 14:43:10,334 - tracker - INFO - Rank 0 -- tracking contacts -- 7 of 7 of type e_voucher\n",
      "2022-07-22 14:43:10,335 - tracker - INFO - Rank 0 -- tracking contacts -- 67 of 67 of type female_communal\n",
      "2022-07-22 14:43:10,337 - tracker - INFO - Rank 0 -- tracking contacts -- 80 of 80 of type informal_work\n",
      "2022-07-22 14:43:10,341 - tracker - INFO - Rank 0 -- tracking contacts -- 41 of 41 of type n_f_distribution_center\n",
      "2022-07-22 14:43:10,343 - tracker - INFO - Rank 0 -- tracking contacts -- 500 of 538 of type play_group\n",
      "2022-07-22 14:43:10,353 - tracker - INFO - Rank 0 -- tracking contacts -- 82 of 82 of type pump_latrine\n",
      "2022-07-22 14:43:10,367 - tracker - INFO - Rank 0 -- tracking contacts -- 500 of 2065 of type religious\n",
      "2022-07-22 14:43:10,376 - tracker - INFO - Rank 0 -- tracking contacts -- 8 of 8 of type hospital\n",
      "2022-07-22 14:43:10,378 - tracker - INFO - Rank 0 -- tracking contacts -- 8 of 8 of type isolation_unit\n",
      "2022-07-22 14:43:10,379 - tracker - INFO - Rank 0 -- tracking contacts -- 389 of 389 of type learning_center\n",
      "2022-07-22 14:43:10,390 - rank - INFO - Rank 0 -- tracker -- 0.9282066759915324\n",
      "2022-07-22 14:43:10,403 - epidemiology - INFO - CMS: Infection COMS-v2 for rank 0/1(2)0.000399101001676172,0.00039839744567871094 - 2020-05-29 09:00:00\n",
      "2022-07-22 14:43:10,444 - rank - INFO - Rank 0 -- interaction_waiting -- 7.580994861200452e-06\n",
      "2022-07-22 14:43:10,459 - simulator - INFO - CMS: Timestep for rank 0/1 - 1.323176515987143,1.3231775760650635 - 2020-05-29 09:00:00\n",
      "\n",
      "2022-07-22 14:43:10,461 - rank - INFO - Next timestep\n",
      "2022-07-22 14:43:10,463 - simulator - INFO - ==================== timestep ====================\n",
      "2022-07-22 14:43:11,383 - rank - INFO - Rank 0 -- move_people -- 0.9190693099953933\n",
      "2022-07-22 14:43:11,384 - rank - INFO - Rank 0 -- move_people_waiting -- 4.18099807575345e-06\n",
      "2022-07-22 14:43:11,384 - activity_manager - INFO - CMS: People COMS for rank 0/1 - 3.722991095855832e-06,3.337860107421875e-06 - 2020-05-29 12:00:00\n",
      "2022-07-22 14:43:11,390 - simulator - INFO - Info for rank 0, Date = 2020-05-29 12:00:00, number of deaths =  0, number of infected = 925\n",
      "2022-07-22 14:43:11,589 - rank - INFO - Rank 0 -- interaction -- 0.20354472199687734\n",
      "2022-07-22 14:43:11,596 - tracker - INFO - Rank 0 -- tracking contacts -- 500 of 3274 of type shelter\n",
      "2022-07-22 14:43:11,906 - tracker - INFO - Rank 0 -- tracking contacts -- 115 of 115 of type communal\n",
      "2022-07-22 14:43:11,908 - tracker - INFO - Rank 0 -- tracking contacts -- 21 of 21 of type distribution_center\n",
      "2022-07-22 14:43:11,969 - tracker - INFO - Rank 0 -- tracking contacts -- 7 of 7 of type e_voucher\n",
      "2022-07-22 14:43:11,990 - tracker - INFO - Rank 0 -- tracking contacts -- 67 of 67 of type female_communal\n",
      "2022-07-22 14:43:11,992 - tracker - INFO - Rank 0 -- tracking contacts -- 80 of 80 of type informal_work\n",
      "2022-07-22 14:43:12,093 - tracker - INFO - Rank 0 -- tracking contacts -- 41 of 41 of type n_f_distribution_center\n",
      "2022-07-22 14:43:12,271 - tracker - INFO - Rank 0 -- tracking contacts -- 500 of 538 of type play_group\n",
      "2022-07-22 14:43:12,745 - tracker - INFO - Rank 0 -- tracking contacts -- 82 of 82 of type pump_latrine\n",
      "2022-07-22 14:43:17,884 - tracker - INFO - Rank 0 -- tracking contacts -- 500 of 2065 of type religious\n",
      "2022-07-22 14:43:18,589 - tracker - INFO - Rank 0 -- tracking contacts -- 8 of 8 of type hospital\n",
      "2022-07-22 14:43:18,590 - tracker - INFO - Rank 0 -- tracking contacts -- 8 of 8 of type isolation_unit\n",
      "2022-07-22 14:43:18,593 - tracker - INFO - Rank 0 -- tracking contacts -- 389 of 389 of type learning_center\n",
      "2022-07-22 14:43:18,600 - rank - INFO - Rank 0 -- tracker -- 7.010538821996306\n",
      "2022-07-22 14:43:18,627 - epidemiology - INFO - CMS: Infection COMS-v2 for rank 0/1(2)0.00033938999695237726,0.0003390312194824219 - 2020-05-29 12:00:00\n",
      "2022-07-22 14:43:18,688 - rank - INFO - Rank 0 -- interaction_waiting -- 8.286006050184369e-06\n",
      "2022-07-22 14:43:18,704 - simulator - INFO - CMS: Timestep for rank 0/1 - 8.240787173999706,8.240787982940674 - 2020-05-29 12:00:00\n",
      "\n",
      "2022-07-22 14:43:18,708 - rank - INFO - Next timestep\n",
      "2022-07-22 14:43:18,709 - simulator - INFO - ==================== timestep ====================\n",
      "2022-07-22 14:43:19,568 - rank - INFO - Rank 0 -- move_people -- 0.8583527750015492\n",
      "2022-07-22 14:43:19,569 - rank - INFO - Rank 0 -- move_people_waiting -- 6.542002665810287e-06\n",
      "2022-07-22 14:43:19,570 - activity_manager - INFO - CMS: People COMS for rank 0/1 - 4.283996531739831e-06,3.814697265625e-06 - 2020-05-29 14:00:00\n",
      "2022-07-22 14:43:19,576 - simulator - INFO - Info for rank 0, Date = 2020-05-29 14:00:00, number of deaths =  0, number of infected = 957\n",
      "2022-07-22 14:43:19,810 - rank - INFO - Rank 0 -- interaction -- 0.23996249699848704\n",
      "2022-07-22 14:43:19,819 - tracker - INFO - Rank 0 -- tracking contacts -- 500 of 3274 of type shelter\n",
      "2022-07-22 14:43:20,164 - tracker - INFO - Rank 0 -- tracking contacts -- 115 of 115 of type communal\n",
      "2022-07-22 14:43:20,167 - tracker - INFO - Rank 0 -- tracking contacts -- 21 of 21 of type distribution_center\n",
      "2022-07-22 14:43:20,217 - tracker - INFO - Rank 0 -- tracking contacts -- 7 of 7 of type e_voucher\n",
      "2022-07-22 14:43:20,237 - tracker - INFO - Rank 0 -- tracking contacts -- 67 of 67 of type female_communal\n",
      "2022-07-22 14:43:20,240 - tracker - INFO - Rank 0 -- tracking contacts -- 80 of 80 of type informal_work\n"
     ]
    },
    {
     "name": "stdout",
     "output_type": "stream",
     "text": [
      "2022-07-22 14:43:20,334 - tracker - INFO - Rank 0 -- tracking contacts -- 41 of 41 of type n_f_distribution_center\n",
      "2022-07-22 14:43:20,506 - tracker - INFO - Rank 0 -- tracking contacts -- 500 of 538 of type play_group\n",
      "2022-07-22 14:43:21,039 - tracker - INFO - Rank 0 -- tracking contacts -- 82 of 82 of type pump_latrine\n",
      "2022-07-22 14:43:26,400 - tracker - INFO - Rank 0 -- tracking contacts -- 500 of 2065 of type religious\n",
      "2022-07-22 14:43:27,134 - tracker - INFO - Rank 0 -- tracking contacts -- 8 of 8 of type hospital\n",
      "2022-07-22 14:43:27,135 - tracker - INFO - Rank 0 -- tracking contacts -- 8 of 8 of type isolation_unit\n",
      "2022-07-22 14:43:27,137 - tracker - INFO - Rank 0 -- tracking contacts -- 389 of 389 of type learning_center\n",
      "2022-07-22 14:43:27,146 - rank - INFO - Rank 0 -- tracker -- 7.334320951995323\n",
      "2022-07-22 14:43:27,167 - epidemiology - INFO - CMS: Infection COMS-v2 for rank 0/1(2)0.0009050569933606312,0.0009050369262695312 - 2020-05-29 14:00:00\n",
      "2022-07-22 14:43:27,216 - rank - INFO - Rank 0 -- interaction_waiting -- 7.2830007411539555e-06\n",
      "2022-07-22 14:43:27,233 - simulator - INFO - CMS: Timestep for rank 0/1 - 8.523351356998319,8.523351430892944 - 2020-05-29 14:00:00\n",
      "\n",
      "2022-07-22 14:43:27,236 - rank - INFO - Next timestep\n",
      "2022-07-22 14:43:27,238 - simulator - INFO - ==================== timestep ====================\n",
      "2022-07-22 14:43:28,109 - rank - INFO - Rank 0 -- move_people -- 0.8700245960062603\n",
      "2022-07-22 14:43:28,110 - rank - INFO - Rank 0 -- move_people_waiting -- 8.741000783629715e-06\n",
      "2022-07-22 14:43:28,111 - activity_manager - INFO - CMS: People COMS for rank 0/1 - 4.189991159364581e-06,3.5762786865234375e-06 - 2020-05-29 16:00:00\n",
      "2022-07-22 14:43:28,117 - simulator - INFO - Info for rank 0, Date = 2020-05-29 16:00:00, number of deaths =  0, number of infected = 993\n",
      "2022-07-22 14:43:28,342 - rank - INFO - Rank 0 -- interaction -- 0.2302542440011166\n",
      "2022-07-22 14:43:28,349 - tracker - INFO - Rank 0 -- tracking contacts -- 500 of 3274 of type shelter\n",
      "2022-07-22 14:43:28,700 - tracker - INFO - Rank 0 -- tracking contacts -- 115 of 115 of type communal\n",
      "2022-07-22 14:43:28,703 - tracker - INFO - Rank 0 -- tracking contacts -- 21 of 21 of type distribution_center\n",
      "2022-07-22 14:43:28,752 - tracker - INFO - Rank 0 -- tracking contacts -- 7 of 7 of type e_voucher\n",
      "2022-07-22 14:43:28,777 - tracker - INFO - Rank 0 -- tracking contacts -- 67 of 67 of type female_communal\n",
      "2022-07-22 14:43:28,780 - tracker - INFO - Rank 0 -- tracking contacts -- 80 of 80 of type informal_work\n",
      "2022-07-22 14:43:28,893 - tracker - INFO - Rank 0 -- tracking contacts -- 41 of 41 of type n_f_distribution_center\n",
      "2022-07-22 14:43:29,112 - tracker - INFO - Rank 0 -- tracking contacts -- 500 of 538 of type play_group\n",
      "2022-07-22 14:43:29,689 - tracker - INFO - Rank 0 -- tracking contacts -- 82 of 82 of type pump_latrine\n",
      "2022-07-22 14:43:34,894 - tracker - INFO - Rank 0 -- tracking contacts -- 500 of 2065 of type religious\n",
      "2022-07-22 14:43:35,512 - tracker - INFO - Rank 0 -- tracking contacts -- 8 of 8 of type hospital\n",
      "2022-07-22 14:43:35,512 - tracker - INFO - Rank 0 -- tracking contacts -- 8 of 8 of type isolation_unit\n",
      "2022-07-22 14:43:35,514 - tracker - INFO - Rank 0 -- tracking contacts -- 389 of 389 of type learning_center\n",
      "2022-07-22 14:43:35,520 - rank - INFO - Rank 0 -- tracker -- 7.1766439200000605\n",
      "2022-07-22 14:43:35,534 - epidemiology - INFO - CMS: Infection COMS-v2 for rank 0/1(2)0.00033456900564488024,0.00033402442932128906 - 2020-05-29 16:00:00\n",
      "2022-07-22 14:43:35,570 - rank - INFO - Rank 0 -- interaction_waiting -- 6.017013220116496e-06\n",
      "2022-07-22 14:43:35,583 - simulator - INFO - CMS: Timestep for rank 0/1 - 8.34450816999015,8.344508647918701 - 2020-05-29 16:00:00\n",
      "\n",
      "2022-07-22 14:43:35,586 - rank - INFO - Next timestep\n",
      "2022-07-22 14:43:35,587 - simulator - INFO - ==================== timestep ====================\n",
      "2022-07-22 14:43:36,364 - rank - INFO - Rank 0 -- move_people -- 0.7762252000102308\n",
      "2022-07-22 14:43:36,365 - rank - INFO - Rank 0 -- move_people_waiting -- 6.914997356943786e-06\n",
      "2022-07-22 14:43:36,365 - activity_manager - INFO - CMS: People COMS for rank 0/1 - 4.485991667024791e-06,4.291534423828125e-06 - 2020-05-29 18:00:00\n",
      "2022-07-22 14:43:36,371 - simulator - INFO - Info for rank 0, Date = 2020-05-29 18:00:00, number of deaths =  0, number of infected = 1031\n",
      "2022-07-22 14:43:36,578 - rank - INFO - Rank 0 -- interaction -- 0.21148864598944783\n",
      "2022-07-22 14:43:36,585 - tracker - INFO - Rank 0 -- tracking contacts -- 500 of 3274 of type shelter\n",
      "2022-07-22 14:43:36,881 - tracker - INFO - Rank 0 -- tracking contacts -- 115 of 115 of type communal\n",
      "2022-07-22 14:43:36,883 - tracker - INFO - Rank 0 -- tracking contacts -- 21 of 21 of type distribution_center\n",
      "2022-07-22 14:43:36,933 - tracker - INFO - Rank 0 -- tracking contacts -- 7 of 7 of type e_voucher\n",
      "2022-07-22 14:43:36,943 - tracker - INFO - Rank 0 -- tracking contacts -- 67 of 67 of type female_communal\n",
      "2022-07-22 14:43:36,945 - tracker - INFO - Rank 0 -- tracking contacts -- 80 of 80 of type informal_work\n",
      "2022-07-22 14:43:37,032 - tracker - INFO - Rank 0 -- tracking contacts -- 41 of 41 of type n_f_distribution_center\n",
      "2022-07-22 14:43:37,171 - tracker - INFO - Rank 0 -- tracking contacts -- 500 of 538 of type play_group\n",
      "2022-07-22 14:43:37,570 - tracker - INFO - Rank 0 -- tracking contacts -- 82 of 82 of type pump_latrine\n",
      "2022-07-22 14:43:42,360 - tracker - INFO - Rank 0 -- tracking contacts -- 500 of 2065 of type religious\n",
      "2022-07-22 14:43:43,072 - tracker - INFO - Rank 0 -- tracking contacts -- 8 of 8 of type hospital\n",
      "2022-07-22 14:43:43,073 - tracker - INFO - Rank 0 -- tracking contacts -- 8 of 8 of type isolation_unit\n",
      "2022-07-22 14:43:43,076 - tracker - INFO - Rank 0 -- tracking contacts -- 389 of 389 of type learning_center\n",
      "2022-07-22 14:43:43,082 - rank - INFO - Rank 0 -- tracker -- 6.504035574005684\n",
      "2022-07-22 14:43:43,100 - epidemiology - INFO - CMS: Infection COMS-v2 for rank 0/1(2)0.00021669300622306764,0.0002162456512451172 - 2020-05-29 18:00:00\n",
      "2022-07-22 14:43:43,141 - rank - INFO - Rank 0 -- interaction_waiting -- 8.499002433381975e-06\n",
      "2022-07-22 14:43:43,156 - simulator - INFO - CMS: Timestep for rank 0/1 - 7.568311558003188,7.568312168121338 - 2020-05-29 18:00:00\n",
      "\n",
      "2022-07-22 14:43:43,159 - rank - INFO - Next timestep\n",
      "2022-07-22 14:43:43,160 - simulator - INFO - ==================== timestep ====================\n",
      "2022-07-22 14:43:43,361 - rank - INFO - Rank 0 -- move_people -- 0.20063258700247388\n",
      "2022-07-22 14:43:43,362 - rank - INFO - Rank 0 -- move_people_waiting -- 6.375994416885078e-06\n",
      "2022-07-22 14:43:43,363 - activity_manager - INFO - CMS: People COMS for rank 0/1 - 5.10500103700906e-06,4.5299530029296875e-06 - 2020-05-29 20:00:00\n",
      "2022-07-22 14:43:43,369 - simulator - INFO - Info for rank 0, Date = 2020-05-29 20:00:00, number of deaths =  0, number of infected = 1067\n",
      "2022-07-22 14:43:43,493 - rank - INFO - Rank 0 -- interaction -- 0.12925713699951302\n",
      "2022-07-22 14:43:43,500 - tracker - INFO - Rank 0 -- tracking contacts -- 500 of 3274 of type shelter\n",
      "2022-07-22 14:43:44,473 - tracker - INFO - Rank 0 -- tracking contacts -- 115 of 115 of type communal\n",
      "2022-07-22 14:43:44,475 - tracker - INFO - Rank 0 -- tracking contacts -- 21 of 21 of type distribution_center\n",
      "2022-07-22 14:43:44,477 - tracker - INFO - Rank 0 -- tracking contacts -- 7 of 7 of type e_voucher\n",
      "2022-07-22 14:43:44,478 - tracker - INFO - Rank 0 -- tracking contacts -- 67 of 67 of type female_communal\n",
      "2022-07-22 14:43:44,479 - tracker - INFO - Rank 0 -- tracking contacts -- 80 of 80 of type informal_work\n",
      "2022-07-22 14:43:44,482 - tracker - INFO - Rank 0 -- tracking contacts -- 41 of 41 of type n_f_distribution_center\n",
      "2022-07-22 14:43:44,485 - tracker - INFO - Rank 0 -- tracking contacts -- 500 of 538 of type play_group\n",
      "2022-07-22 14:43:44,493 - tracker - INFO - Rank 0 -- tracking contacts -- 82 of 82 of type pump_latrine\n",
      "2022-07-22 14:43:44,503 - tracker - INFO - Rank 0 -- tracking contacts -- 500 of 2065 of type religious\n",
      "2022-07-22 14:43:44,510 - tracker - INFO - Rank 0 -- tracking contacts -- 8 of 8 of type hospital\n",
      "2022-07-22 14:43:44,511 - tracker - INFO - Rank 0 -- tracking contacts -- 8 of 8 of type isolation_unit\n"
     ]
    },
    {
     "name": "stdout",
     "output_type": "stream",
     "text": [
      "2022-07-22 14:43:44,512 - tracker - INFO - Rank 0 -- tracking contacts -- 389 of 389 of type learning_center\n",
      "2022-07-22 14:43:44,518 - rank - INFO - Rank 0 -- tracker -- 1.0243901469948469\n",
      "2022-07-22 14:43:44,559 - epidemiology - INFO - CMS: Infection COMS-v2 for rank 0/1(2)0.00020229599613230675,0.000202178955078125 - 2020-05-29 20:00:00\n",
      "2022-07-22 14:43:44,605 - rank - INFO - Rank 0 -- interaction_waiting -- 6.640999345108867e-06\n",
      "2022-07-22 14:43:44,619 - simulator - INFO - CMS: Timestep for rank 0/1 - 1.4581141969974851,1.4581146240234375 - 2020-05-29 20:00:00\n",
      "\n",
      "2022-07-22 14:43:44,621 - rank - INFO - Next timestep\n",
      "2022-07-22 14:43:44,622 - simulator - INFO - ==================== timestep ====================\n",
      "2022-07-22 14:43:44,801 - rank - INFO - Rank 0 -- move_people -- 0.1777904810005566\n",
      "2022-07-22 14:43:44,801 - rank - INFO - Rank 0 -- move_people_waiting -- 8.443006663583219e-06\n",
      "2022-07-22 14:43:44,802 - activity_manager - INFO - CMS: People COMS for rank 0/1 - 4.2750034481287e-06,3.814697265625e-06 - 2020-05-30 09:00:00\n",
      "2022-07-22 14:43:44,809 - simulator - INFO - Info for rank 0, Date = 2020-05-30 09:00:00, number of deaths =  0, number of infected = 1188\n",
      "2022-07-22 14:43:44,939 - rank - INFO - Rank 0 -- interaction -- 0.1357192209979985\n",
      "2022-07-22 14:43:44,946 - tracker - INFO - Rank 0 -- tracking contacts -- 500 of 3274 of type shelter\n",
      "2022-07-22 14:43:45,852 - tracker - INFO - Rank 0 -- tracking contacts -- 115 of 115 of type communal\n",
      "2022-07-22 14:43:45,854 - tracker - INFO - Rank 0 -- tracking contacts -- 21 of 21 of type distribution_center\n",
      "2022-07-22 14:43:45,856 - tracker - INFO - Rank 0 -- tracking contacts -- 7 of 7 of type e_voucher\n",
      "2022-07-22 14:43:45,857 - tracker - INFO - Rank 0 -- tracking contacts -- 67 of 67 of type female_communal\n",
      "2022-07-22 14:43:45,859 - tracker - INFO - Rank 0 -- tracking contacts -- 80 of 80 of type informal_work\n",
      "2022-07-22 14:43:45,862 - tracker - INFO - Rank 0 -- tracking contacts -- 41 of 41 of type n_f_distribution_center\n",
      "2022-07-22 14:43:45,864 - tracker - INFO - Rank 0 -- tracking contacts -- 500 of 538 of type play_group\n",
      "2022-07-22 14:43:45,874 - tracker - INFO - Rank 0 -- tracking contacts -- 82 of 82 of type pump_latrine\n",
      "2022-07-22 14:43:45,886 - tracker - INFO - Rank 0 -- tracking contacts -- 500 of 2065 of type religious\n",
      "2022-07-22 14:43:45,894 - tracker - INFO - Rank 0 -- tracking contacts -- 8 of 8 of type hospital\n",
      "2022-07-22 14:43:45,895 - tracker - INFO - Rank 0 -- tracking contacts -- 8 of 8 of type isolation_unit\n",
      "2022-07-22 14:43:45,897 - tracker - INFO - Rank 0 -- tracking contacts -- 389 of 389 of type learning_center\n",
      "2022-07-22 14:43:45,903 - rank - INFO - Rank 0 -- tracker -- 0.9632174010039307\n",
      "2022-07-22 14:43:45,917 - epidemiology - INFO - CMS: Infection COMS-v2 for rank 0/1(2)0.00035399400803726166,0.0003533363342285156 - 2020-05-30 09:00:00\n",
      "2022-07-22 14:43:45,963 - rank - INFO - Rank 0 -- interaction_waiting -- 7.620008545927703e-06\n",
      "2022-07-22 14:43:45,977 - simulator - INFO - CMS: Timestep for rank 0/1 - 1.3544835579959909,1.3544845581054688 - 2020-05-30 09:00:00\n",
      "\n",
      "2022-07-22 14:43:45,980 - rank - INFO - Next timestep\n",
      "2022-07-22 14:43:45,981 - simulator - INFO - ==================== timestep ====================\n",
      "2022-07-22 14:43:46,871 - rank - INFO - Rank 0 -- move_people -- 0.8889089250005782\n",
      "2022-07-22 14:43:46,872 - rank - INFO - Rank 0 -- move_people_waiting -- 8.597999112680554e-06\n",
      "2022-07-22 14:43:46,872 - activity_manager - INFO - CMS: People COMS for rank 0/1 - 5.507012247107923e-06,5.245208740234375e-06 - 2020-05-30 12:00:00\n",
      "2022-07-22 14:43:46,879 - simulator - INFO - Info for rank 0, Date = 2020-05-30 12:00:00, number of deaths =  0, number of infected = 1219\n",
      "2022-07-22 14:43:47,092 - rank - INFO - Rank 0 -- interaction -- 0.21800612099468708\n",
      "2022-07-22 14:43:47,098 - tracker - INFO - Rank 0 -- tracking contacts -- 500 of 3274 of type shelter\n",
      "2022-07-22 14:43:47,428 - tracker - INFO - Rank 0 -- tracking contacts -- 115 of 115 of type communal\n",
      "2022-07-22 14:43:47,430 - tracker - INFO - Rank 0 -- tracking contacts -- 21 of 21 of type distribution_center\n",
      "2022-07-22 14:43:47,484 - tracker - INFO - Rank 0 -- tracking contacts -- 7 of 7 of type e_voucher\n",
      "2022-07-22 14:43:47,510 - tracker - INFO - Rank 0 -- tracking contacts -- 67 of 67 of type female_communal\n",
      "2022-07-22 14:43:47,512 - tracker - INFO - Rank 0 -- tracking contacts -- 80 of 80 of type informal_work\n",
      "2022-07-22 14:43:47,603 - tracker - INFO - Rank 0 -- tracking contacts -- 41 of 41 of type n_f_distribution_center\n",
      "2022-07-22 14:43:47,755 - tracker - INFO - Rank 0 -- tracking contacts -- 500 of 538 of type play_group\n",
      "2022-07-22 14:43:48,271 - tracker - INFO - Rank 0 -- tracking contacts -- 82 of 82 of type pump_latrine\n",
      "2022-07-22 14:43:54,072 - tracker - INFO - Rank 0 -- tracking contacts -- 500 of 2065 of type religious\n",
      "2022-07-22 14:43:54,799 - tracker - INFO - Rank 0 -- tracking contacts -- 8 of 8 of type hospital\n",
      "2022-07-22 14:43:54,801 - tracker - INFO - Rank 0 -- tracking contacts -- 8 of 8 of type isolation_unit\n",
      "2022-07-22 14:43:54,802 - tracker - INFO - Rank 0 -- tracking contacts -- 389 of 389 of type learning_center\n",
      "2022-07-22 14:43:54,811 - rank - INFO - Rank 0 -- tracker -- 7.7186035129998345\n",
      "2022-07-22 14:43:54,835 - epidemiology - INFO - CMS: Infection COMS-v2 for rank 0/1(2)0.00043622200610116124,0.0004355907440185547 - 2020-05-30 12:00:00\n",
      "2022-07-22 14:43:54,887 - rank - INFO - Rank 0 -- interaction_waiting -- 7.040012860670686e-06\n",
      "2022-07-22 14:43:54,901 - simulator - INFO - CMS: Timestep for rank 0/1 - 8.919591744008358,8.91959285736084 - 2020-05-30 12:00:00\n",
      "\n",
      "2022-07-22 14:43:54,904 - rank - INFO - Next timestep\n",
      "2022-07-22 14:43:54,905 - simulator - INFO - ==================== timestep ====================\n",
      "2022-07-22 14:43:55,962 - rank - INFO - Rank 0 -- move_people -- 1.0554703650122974\n",
      "2022-07-22 14:43:55,963 - rank - INFO - Rank 0 -- move_people_waiting -- 4.089000867679715e-06\n",
      "2022-07-22 14:43:55,964 - activity_manager - INFO - CMS: People COMS for rank 0/1 - 5.870999302715063e-06,5.4836273193359375e-06 - 2020-05-30 14:00:00\n",
      "2022-07-22 14:43:55,969 - simulator - INFO - Info for rank 0, Date = 2020-05-30 14:00:00, number of deaths =  0, number of infected = 1260\n",
      "2022-07-22 14:43:56,183 - rank - INFO - Rank 0 -- interaction -- 0.2179848540108651\n",
      "2022-07-22 14:43:56,189 - tracker - INFO - Rank 0 -- tracking contacts -- 500 of 3274 of type shelter\n",
      "2022-07-22 14:43:56,509 - tracker - INFO - Rank 0 -- tracking contacts -- 115 of 115 of type communal\n",
      "2022-07-22 14:43:56,512 - tracker - INFO - Rank 0 -- tracking contacts -- 21 of 21 of type distribution_center\n",
      "2022-07-22 14:43:56,568 - tracker - INFO - Rank 0 -- tracking contacts -- 7 of 7 of type e_voucher\n",
      "2022-07-22 14:43:56,585 - tracker - INFO - Rank 0 -- tracking contacts -- 67 of 67 of type female_communal\n",
      "2022-07-22 14:43:56,587 - tracker - INFO - Rank 0 -- tracking contacts -- 80 of 80 of type informal_work\n",
      "2022-07-22 14:43:56,670 - tracker - INFO - Rank 0 -- tracking contacts -- 41 of 41 of type n_f_distribution_center\n",
      "2022-07-22 14:43:56,861 - tracker - INFO - Rank 0 -- tracking contacts -- 500 of 538 of type play_group\n",
      "2022-07-22 14:43:57,359 - tracker - INFO - Rank 0 -- tracking contacts -- 82 of 82 of type pump_latrine\n",
      "2022-07-22 14:44:02,161 - tracker - INFO - Rank 0 -- tracking contacts -- 500 of 2065 of type religious\n",
      "2022-07-22 14:44:02,996 - tracker - INFO - Rank 0 -- tracking contacts -- 8 of 8 of type hospital\n",
      "2022-07-22 14:44:02,998 - tracker - INFO - Rank 0 -- tracking contacts -- 8 of 8 of type isolation_unit\n",
      "2022-07-22 14:44:02,999 - tracker - INFO - Rank 0 -- tracking contacts -- 389 of 389 of type learning_center\n",
      "2022-07-22 14:44:03,009 - rank - INFO - Rank 0 -- tracker -- 6.825419651999255\n",
      "2022-07-22 14:44:03,041 - epidemiology - INFO - CMS: Infection COMS-v2 for rank 0/1(2)0.0012675359903369099,0.0012667179107666016 - 2020-05-30 14:00:00\n",
      "2022-07-22 14:44:03,096 - rank - INFO - Rank 0 -- interaction_waiting -- 9.048002539202571e-06\n",
      "2022-07-22 14:44:03,117 - simulator - INFO - CMS: Timestep for rank 0/1 - 8.21092024599784,8.210921287536621 - 2020-05-30 14:00:00\n",
      "\n",
      "2022-07-22 14:44:03,121 - rank - INFO - Next timestep\n"
     ]
    },
    {
     "name": "stdout",
     "output_type": "stream",
     "text": [
      "2022-07-22 14:44:03,122 - simulator - INFO - ==================== timestep ====================\n",
      "2022-07-22 14:44:04,157 - rank - INFO - Rank 0 -- move_people -- 1.0336946450115647\n",
      "2022-07-22 14:44:04,158 - rank - INFO - Rank 0 -- move_people_waiting -- 4.385001375339925e-06\n",
      "2022-07-22 14:44:04,159 - activity_manager - INFO - CMS: People COMS for rank 0/1 - 5.440000677481294e-06,5.0067901611328125e-06 - 2020-05-30 16:00:00\n",
      "2022-07-22 14:44:04,167 - simulator - INFO - Info for rank 0, Date = 2020-05-30 16:00:00, number of deaths =  0, number of infected = 1315\n",
      "2022-07-22 14:44:04,451 - rank - INFO - Rank 0 -- interaction -- 0.2913719070056686\n",
      "2022-07-22 14:44:04,460 - tracker - INFO - Rank 0 -- tracking contacts -- 500 of 3274 of type shelter\n",
      "2022-07-22 14:44:04,796 - tracker - INFO - Rank 0 -- tracking contacts -- 115 of 115 of type communal\n",
      "2022-07-22 14:44:04,799 - tracker - INFO - Rank 0 -- tracking contacts -- 21 of 21 of type distribution_center\n",
      "2022-07-22 14:44:04,871 - tracker - INFO - Rank 0 -- tracking contacts -- 7 of 7 of type e_voucher\n",
      "2022-07-22 14:44:04,887 - tracker - INFO - Rank 0 -- tracking contacts -- 67 of 67 of type female_communal\n",
      "2022-07-22 14:44:04,890 - tracker - INFO - Rank 0 -- tracking contacts -- 80 of 80 of type informal_work\n",
      "2022-07-22 14:44:04,988 - tracker - INFO - Rank 0 -- tracking contacts -- 41 of 41 of type n_f_distribution_center\n",
      "2022-07-22 14:44:05,239 - tracker - INFO - Rank 0 -- tracking contacts -- 500 of 538 of type play_group\n",
      "2022-07-22 14:44:05,759 - tracker - INFO - Rank 0 -- tracking contacts -- 82 of 82 of type pump_latrine\n",
      "2022-07-22 14:44:11,117 - tracker - INFO - Rank 0 -- tracking contacts -- 500 of 2065 of type religious\n",
      "2022-07-22 14:44:11,829 - tracker - INFO - Rank 0 -- tracking contacts -- 8 of 8 of type hospital\n",
      "2022-07-22 14:44:11,831 - tracker - INFO - Rank 0 -- tracking contacts -- 8 of 8 of type isolation_unit\n",
      "2022-07-22 14:44:11,833 - tracker - INFO - Rank 0 -- tracking contacts -- 389 of 389 of type learning_center\n",
      "2022-07-22 14:44:11,840 - rank - INFO - Rank 0 -- tracker -- 7.385577171007753\n",
      "2022-07-22 14:44:11,861 - epidemiology - INFO - CMS: Infection COMS-v2 for rank 0/1(2)0.0002260430046590045,0.00022554397583007812 - 2020-05-30 16:00:00\n",
      "2022-07-22 14:44:11,906 - rank - INFO - Rank 0 -- interaction_waiting -- 9.092007530853152e-06\n",
      "2022-07-22 14:44:11,921 - simulator - INFO - CMS: Timestep for rank 0/1 - 8.797649387997808,8.797650575637817 - 2020-05-30 16:00:00\n",
      "\n",
      "2022-07-22 14:44:11,923 - rank - INFO - Next timestep\n",
      "2022-07-22 14:44:11,924 - simulator - INFO - ==================== timestep ====================\n",
      "2022-07-22 14:44:12,832 - rank - INFO - Rank 0 -- move_people -- 0.9075421739980811\n",
      "2022-07-22 14:44:12,834 - rank - INFO - Rank 0 -- move_people_waiting -- 1.0591000318527222e-05\n",
      "2022-07-22 14:44:12,835 - activity_manager - INFO - CMS: People COMS for rank 0/1 - 5.67000824958086e-06,5.4836273193359375e-06 - 2020-05-30 18:00:00\n",
      "2022-07-22 14:44:12,843 - simulator - INFO - Info for rank 0, Date = 2020-05-30 18:00:00, number of deaths =  0, number of infected = 1362\n",
      "2022-07-22 14:44:13,078 - rank - INFO - Rank 0 -- interaction -- 0.24204335099784657\n",
      "2022-07-22 14:44:13,085 - tracker - INFO - Rank 0 -- tracking contacts -- 500 of 3274 of type shelter\n",
      "2022-07-22 14:44:13,415 - tracker - INFO - Rank 0 -- tracking contacts -- 115 of 115 of type communal\n",
      "2022-07-22 14:44:13,419 - tracker - INFO - Rank 0 -- tracking contacts -- 21 of 21 of type distribution_center\n",
      "2022-07-22 14:44:13,494 - tracker - INFO - Rank 0 -- tracking contacts -- 7 of 7 of type e_voucher\n",
      "2022-07-22 14:44:13,512 - tracker - INFO - Rank 0 -- tracking contacts -- 67 of 67 of type female_communal\n",
      "2022-07-22 14:44:13,514 - tracker - INFO - Rank 0 -- tracking contacts -- 80 of 80 of type informal_work\n",
      "2022-07-22 14:44:13,596 - tracker - INFO - Rank 0 -- tracking contacts -- 41 of 41 of type n_f_distribution_center\n",
      "2022-07-22 14:44:13,767 - tracker - INFO - Rank 0 -- tracking contacts -- 500 of 538 of type play_group\n",
      "2022-07-22 14:44:14,280 - tracker - INFO - Rank 0 -- tracking contacts -- 82 of 82 of type pump_latrine\n",
      "2022-07-22 14:44:19,457 - tracker - INFO - Rank 0 -- tracking contacts -- 500 of 2065 of type religious\n",
      "2022-07-22 14:44:20,157 - tracker - INFO - Rank 0 -- tracking contacts -- 8 of 8 of type hospital\n",
      "2022-07-22 14:44:20,158 - tracker - INFO - Rank 0 -- tracking contacts -- 8 of 8 of type isolation_unit\n",
      "2022-07-22 14:44:20,160 - tracker - INFO - Rank 0 -- tracking contacts -- 389 of 389 of type learning_center\n",
      "2022-07-22 14:44:20,166 - rank - INFO - Rank 0 -- tracker -- 7.087469526988571\n",
      "2022-07-22 14:44:20,188 - epidemiology - INFO - CMS: Infection COMS-v2 for rank 0/1(2)0.0007776169950375333,0.0007772445678710938 - 2020-05-30 18:00:00\n",
      "2022-07-22 14:44:20,237 - rank - INFO - Rank 0 -- interaction_waiting -- 8.612987585365772e-06\n",
      "2022-07-22 14:44:20,258 - simulator - INFO - CMS: Timestep for rank 0/1 - 8.333277387995622,8.333277940750122 - 2020-05-30 18:00:00\n",
      "\n",
      "2022-07-22 14:44:20,262 - rank - INFO - Next timestep\n",
      "2022-07-22 14:44:20,263 - simulator - INFO - ==================== timestep ====================\n",
      "2022-07-22 14:44:20,474 - rank - INFO - Rank 0 -- move_people -- 0.2100904729886679\n",
      "2022-07-22 14:44:20,475 - rank - INFO - Rank 0 -- move_people_waiting -- 8.356000762432814e-06\n",
      "2022-07-22 14:44:20,476 - activity_manager - INFO - CMS: People COMS for rank 0/1 - 4.320012521930039e-06,3.5762786865234375e-06 - 2020-05-30 20:00:00\n",
      "2022-07-22 14:44:20,482 - simulator - INFO - Info for rank 0, Date = 2020-05-30 20:00:00, number of deaths =  0, number of infected = 1408\n",
      "2022-07-22 14:44:20,615 - rank - INFO - Rank 0 -- interaction -- 0.1378902449941961\n",
      "2022-07-22 14:44:20,621 - tracker - INFO - Rank 0 -- tracking contacts -- 500 of 3274 of type shelter\n",
      "2022-07-22 14:44:21,634 - tracker - INFO - Rank 0 -- tracking contacts -- 115 of 115 of type communal\n",
      "2022-07-22 14:44:21,636 - tracker - INFO - Rank 0 -- tracking contacts -- 21 of 21 of type distribution_center\n",
      "2022-07-22 14:44:21,638 - tracker - INFO - Rank 0 -- tracking contacts -- 7 of 7 of type e_voucher\n",
      "2022-07-22 14:44:21,639 - tracker - INFO - Rank 0 -- tracking contacts -- 67 of 67 of type female_communal\n",
      "2022-07-22 14:44:21,641 - tracker - INFO - Rank 0 -- tracking contacts -- 80 of 80 of type informal_work\n",
      "2022-07-22 14:44:21,644 - tracker - INFO - Rank 0 -- tracking contacts -- 41 of 41 of type n_f_distribution_center\n",
      "2022-07-22 14:44:21,647 - tracker - INFO - Rank 0 -- tracking contacts -- 500 of 538 of type play_group\n",
      "2022-07-22 14:44:21,657 - tracker - INFO - Rank 0 -- tracking contacts -- 82 of 82 of type pump_latrine\n",
      "2022-07-22 14:44:21,669 - tracker - INFO - Rank 0 -- tracking contacts -- 500 of 2065 of type religious\n",
      "2022-07-22 14:44:21,678 - tracker - INFO - Rank 0 -- tracking contacts -- 8 of 8 of type hospital\n",
      "2022-07-22 14:44:21,679 - tracker - INFO - Rank 0 -- tracking contacts -- 8 of 8 of type isolation_unit\n",
      "2022-07-22 14:44:21,681 - tracker - INFO - Rank 0 -- tracking contacts -- 389 of 389 of type learning_center\n",
      "2022-07-22 14:44:21,687 - rank - INFO - Rank 0 -- tracker -- 1.071761293002055\n",
      "2022-07-22 14:44:21,753 - epidemiology - INFO - CMS: Infection COMS-v2 for rank 0/1(2)0.0002215349959442392,0.00022125244140625 - 2020-05-30 20:00:00\n",
      "2022-07-22 14:44:21,804 - rank - INFO - Rank 0 -- interaction_waiting -- 7.572001777589321e-06\n",
      "2022-07-22 14:44:21,819 - simulator - INFO - CMS: Timestep for rank 0/1 - 1.5549749020137824,1.5549747943878174 - 2020-05-30 20:00:00\n",
      "\n",
      "2022-07-22 14:44:21,822 - rank - INFO - Next timestep\n",
      "2022-07-22 14:44:21,823 - simulator - INFO - ==================== timestep ====================\n",
      "2022-07-22 14:44:22,028 - rank - INFO - Rank 0 -- move_people -- 0.20418100099777803\n",
      "2022-07-22 14:44:22,029 - rank - INFO - Rank 0 -- move_people_waiting -- 6.841000868007541e-06\n",
      "2022-07-22 14:44:22,030 - activity_manager - INFO - CMS: People COMS for rank 0/1 - 4.446003003977239e-06,3.5762786865234375e-06 - 2020-05-31 09:00:00\n",
      "2022-07-22 14:44:22,036 - simulator - INFO - Info for rank 0, Date = 2020-05-31 09:00:00, number of deaths =  0, number of infected = 1562\n",
      "2022-07-22 14:44:22,174 - rank - INFO - Rank 0 -- interaction -- 0.14386495000508148\n"
     ]
    },
    {
     "name": "stdout",
     "output_type": "stream",
     "text": [
      "2022-07-22 14:44:22,181 - tracker - INFO - Rank 0 -- tracking contacts -- 500 of 3274 of type shelter\n",
      "2022-07-22 14:44:22,887 - tracker - INFO - Rank 0 -- tracking contacts -- 115 of 115 of type communal\n",
      "2022-07-22 14:44:22,889 - tracker - INFO - Rank 0 -- tracking contacts -- 21 of 21 of type distribution_center\n",
      "2022-07-22 14:44:22,891 - tracker - INFO - Rank 0 -- tracking contacts -- 7 of 7 of type e_voucher\n",
      "2022-07-22 14:44:22,892 - tracker - INFO - Rank 0 -- tracking contacts -- 67 of 67 of type female_communal\n",
      "2022-07-22 14:44:22,894 - tracker - INFO - Rank 0 -- tracking contacts -- 80 of 80 of type informal_work\n",
      "2022-07-22 14:44:22,898 - tracker - INFO - Rank 0 -- tracking contacts -- 41 of 41 of type n_f_distribution_center\n",
      "2022-07-22 14:44:22,902 - tracker - INFO - Rank 0 -- tracking contacts -- 500 of 538 of type play_group\n",
      "2022-07-22 14:44:22,913 - tracker - INFO - Rank 0 -- tracking contacts -- 82 of 82 of type pump_latrine\n",
      "2022-07-22 14:44:22,930 - tracker - INFO - Rank 0 -- tracking contacts -- 500 of 2065 of type religious\n",
      "2022-07-22 14:44:22,944 - tracker - INFO - Rank 0 -- tracking contacts -- 8 of 8 of type hospital\n",
      "2022-07-22 14:44:22,956 - tracker - INFO - Rank 0 -- tracking contacts -- 8 of 8 of type isolation_unit\n",
      "2022-07-22 14:44:22,959 - tracker - INFO - Rank 0 -- tracking contacts -- 389 of 389 of type learning_center\n",
      "2022-07-22 14:44:23,896 - rank - INFO - Rank 0 -- tracker -- 1.720859727007337\n",
      "2022-07-22 14:44:23,911 - epidemiology - INFO - CMS: Infection COMS-v2 for rank 0/1(2)0.00024038700212258846,0.00023984909057617188 - 2020-05-31 09:00:00\n",
      "2022-07-22 14:44:23,954 - rank - INFO - Rank 0 -- interaction_waiting -- 6.553003913722932e-06\n",
      "2022-07-22 14:44:23,967 - simulator - INFO - CMS: Timestep for rank 0/1 - 2.143355356005486,2.1433560848236084 - 2020-05-31 09:00:00\n",
      "\n",
      "2022-07-22 14:44:23,970 - rank - INFO - Next timestep\n",
      "2022-07-22 14:44:23,971 - simulator - INFO - ==================== timestep ====================\n",
      "2022-07-22 14:44:24,768 - rank - INFO - Rank 0 -- move_people -- 0.7951852330006659\n",
      "2022-07-22 14:44:24,768 - rank - INFO - Rank 0 -- move_people_waiting -- 6.991002010181546e-06\n",
      "2022-07-22 14:44:24,769 - activity_manager - INFO - CMS: People COMS for rank 0/1 - 4.034998710267246e-06,3.5762786865234375e-06 - 2020-05-31 11:00:00\n",
      "2022-07-22 14:44:24,776 - simulator - INFO - Info for rank 0, Date = 2020-05-31 11:00:00, number of deaths =  0, number of infected = 1599\n",
      "2022-07-22 14:44:25,020 - rank - INFO - Rank 0 -- interaction -- 0.2503518910089042\n",
      "2022-07-22 14:44:25,027 - tracker - INFO - Rank 0 -- tracking contacts -- 500 of 3274 of type shelter\n",
      "2022-07-22 14:44:25,304 - tracker - INFO - Rank 0 -- tracking contacts -- 115 of 115 of type communal\n",
      "2022-07-22 14:44:25,322 - tracker - INFO - Rank 0 -- tracking contacts -- 21 of 21 of type distribution_center\n",
      "2022-07-22 14:44:25,391 - tracker - INFO - Rank 0 -- tracking contacts -- 7 of 7 of type e_voucher\n",
      "2022-07-22 14:44:25,404 - tracker - INFO - Rank 0 -- tracking contacts -- 67 of 67 of type female_communal\n",
      "2022-07-22 14:44:25,457 - tracker - INFO - Rank 0 -- tracking contacts -- 80 of 80 of type informal_work\n",
      "2022-07-22 14:44:25,535 - tracker - INFO - Rank 0 -- tracking contacts -- 41 of 41 of type n_f_distribution_center\n",
      "2022-07-22 14:44:25,650 - tracker - INFO - Rank 0 -- tracking contacts -- 500 of 538 of type play_group\n",
      "2022-07-22 14:44:26,052 - tracker - INFO - Rank 0 -- tracking contacts -- 82 of 82 of type pump_latrine\n",
      "2022-07-22 14:44:30,229 - tracker - INFO - Rank 0 -- tracking contacts -- 500 of 2065 of type religious\n",
      "2022-07-22 14:44:30,814 - tracker - INFO - Rank 0 -- tracking contacts -- 8 of 8 of type hospital\n",
      "2022-07-22 14:44:30,824 - tracker - INFO - Rank 0 -- tracking contacts -- 8 of 8 of type isolation_unit\n",
      "2022-07-22 14:44:30,826 - tracker - INFO - Rank 0 -- tracking contacts -- 389 of 389 of type learning_center\n",
      "2022-07-22 14:44:31,782 - rank - INFO - Rank 0 -- tracker -- 6.761388819999411\n",
      "2022-07-22 14:44:31,813 - epidemiology - INFO - CMS: Infection COMS-v2 for rank 0/1(2)0.00034410899388603866,0.00034332275390625 - 2020-05-31 11:00:00\n",
      "2022-07-22 14:44:31,864 - rank - INFO - Rank 0 -- interaction_waiting -- 7.897993782535195e-06\n",
      "2022-07-22 14:44:31,878 - simulator - INFO - CMS: Timestep for rank 0/1 - 7.905826150003122,7.905827045440674 - 2020-05-31 11:00:00\n",
      "\n",
      "2022-07-22 14:44:31,881 - rank - INFO - Next timestep\n",
      "2022-07-22 14:44:31,882 - simulator - INFO - ==================== timestep ====================\n",
      "2022-07-22 14:44:32,738 - rank - INFO - Rank 0 -- move_people -- 0.8554675109917298\n",
      "2022-07-22 14:44:32,740 - rank - INFO - Rank 0 -- move_people_waiting -- 4.6539935283362865e-06\n",
      "2022-07-22 14:44:32,741 - activity_manager - INFO - CMS: People COMS for rank 0/1 - 3.994995495304465e-06,3.337860107421875e-06 - 2020-05-31 13:00:00\n",
      "2022-07-22 14:44:32,747 - simulator - INFO - Info for rank 0, Date = 2020-05-31 13:00:00, number of deaths =  0, number of infected = 1655\n",
      "2022-07-22 14:44:32,989 - rank - INFO - Rank 0 -- interaction -- 0.2475796100043226\n",
      "2022-07-22 14:44:32,996 - tracker - INFO - Rank 0 -- tracking contacts -- 500 of 3274 of type shelter\n",
      "2022-07-22 14:44:33,250 - tracker - INFO - Rank 0 -- tracking contacts -- 115 of 115 of type communal\n",
      "2022-07-22 14:44:33,271 - tracker - INFO - Rank 0 -- tracking contacts -- 21 of 21 of type distribution_center\n",
      "2022-07-22 14:44:33,308 - tracker - INFO - Rank 0 -- tracking contacts -- 7 of 7 of type e_voucher\n",
      "2022-07-22 14:44:33,326 - tracker - INFO - Rank 0 -- tracking contacts -- 67 of 67 of type female_communal\n",
      "2022-07-22 14:44:33,383 - tracker - INFO - Rank 0 -- tracking contacts -- 80 of 80 of type informal_work\n",
      "2022-07-22 14:44:33,457 - tracker - INFO - Rank 0 -- tracking contacts -- 41 of 41 of type n_f_distribution_center\n",
      "2022-07-22 14:44:33,586 - tracker - INFO - Rank 0 -- tracking contacts -- 500 of 538 of type play_group\n",
      "2022-07-22 14:44:33,939 - tracker - INFO - Rank 0 -- tracking contacts -- 82 of 82 of type pump_latrine\n",
      "2022-07-22 14:44:38,356 - tracker - INFO - Rank 0 -- tracking contacts -- 500 of 2065 of type religious\n",
      "2022-07-22 14:44:39,016 - tracker - INFO - Rank 0 -- tracking contacts -- 8 of 8 of type hospital\n",
      "2022-07-22 14:44:39,023 - tracker - INFO - Rank 0 -- tracking contacts -- 8 of 8 of type isolation_unit\n",
      "2022-07-22 14:44:39,025 - tracker - INFO - Rank 0 -- tracking contacts -- 389 of 389 of type learning_center\n",
      "2022-07-22 14:44:40,043 - rank - INFO - Rank 0 -- tracker -- 7.053143676006584\n",
      "2022-07-22 14:44:40,067 - epidemiology - INFO - CMS: Infection COMS-v2 for rank 0/1(2)0.0002300850028404966,0.00022912025451660156 - 2020-05-31 13:00:00\n",
      "2022-07-22 14:44:40,125 - rank - INFO - Rank 0 -- interaction_waiting -- 8.84699693415314e-06\n",
      "2022-07-22 14:44:40,140 - simulator - INFO - CMS: Timestep for rank 0/1 - 8.257541339000454,8.257542133331299 - 2020-05-31 13:00:00\n",
      "\n",
      "2022-07-22 14:44:40,143 - rank - INFO - Next timestep\n",
      "2022-07-22 14:44:40,144 - simulator - INFO - ==================== timestep ====================\n",
      "2022-07-22 14:44:41,039 - rank - INFO - Rank 0 -- move_people -- 0.8921930520009482\n",
      "2022-07-22 14:44:41,040 - rank - INFO - Rank 0 -- move_people_waiting -- 4.61199670098722e-06\n",
      "2022-07-22 14:44:41,040 - activity_manager - INFO - CMS: People COMS for rank 0/1 - 6.1240134527906775e-06,5.9604644775390625e-06 - 2020-05-31 15:00:00\n",
      "2022-07-22 14:44:41,047 - simulator - INFO - Info for rank 0, Date = 2020-05-31 15:00:00, number of deaths =  0, number of infected = 1711\n",
      "2022-07-22 14:44:41,323 - rank - INFO - Rank 0 -- interaction -- 0.2812192870042054\n",
      "2022-07-22 14:44:41,330 - tracker - INFO - Rank 0 -- tracking contacts -- 500 of 3274 of type shelter\n",
      "2022-07-22 14:44:41,627 - tracker - INFO - Rank 0 -- tracking contacts -- 115 of 115 of type communal\n",
      "2022-07-22 14:44:41,676 - tracker - INFO - Rank 0 -- tracking contacts -- 21 of 21 of type distribution_center\n",
      "2022-07-22 14:44:41,793 - tracker - INFO - Rank 0 -- tracking contacts -- 7 of 7 of type e_voucher\n",
      "2022-07-22 14:44:41,829 - tracker - INFO - Rank 0 -- tracking contacts -- 67 of 67 of type female_communal\n",
      "2022-07-22 14:44:41,895 - tracker - INFO - Rank 0 -- tracking contacts -- 80 of 80 of type informal_work\n"
     ]
    },
    {
     "name": "stdout",
     "output_type": "stream",
     "text": [
      "2022-07-22 14:44:41,968 - tracker - INFO - Rank 0 -- tracking contacts -- 41 of 41 of type n_f_distribution_center\n",
      "2022-07-22 14:44:42,196 - tracker - INFO - Rank 0 -- tracking contacts -- 500 of 538 of type play_group\n",
      "2022-07-22 14:44:42,618 - tracker - INFO - Rank 0 -- tracking contacts -- 82 of 82 of type pump_latrine\n",
      "2022-07-22 14:44:46,970 - tracker - INFO - Rank 0 -- tracking contacts -- 500 of 2065 of type religious\n",
      "2022-07-22 14:44:47,503 - tracker - INFO - Rank 0 -- tracking contacts -- 8 of 8 of type hospital\n",
      "2022-07-22 14:44:47,511 - tracker - INFO - Rank 0 -- tracking contacts -- 8 of 8 of type isolation_unit\n",
      "2022-07-22 14:44:47,513 - tracker - INFO - Rank 0 -- tracking contacts -- 389 of 389 of type learning_center\n",
      "2022-07-22 14:44:48,501 - rank - INFO - Rank 0 -- tracker -- 7.176859128987417\n",
      "2022-07-22 14:44:48,528 - epidemiology - INFO - CMS: Infection COMS-v2 for rank 0/1(2)0.00029961900145281106,0.00029921531677246094 - 2020-05-31 15:00:00\n",
      "2022-07-22 14:44:48,575 - rank - INFO - Rank 0 -- interaction_waiting -- 7.14600901119411e-06\n",
      "2022-07-22 14:44:48,590 - simulator - INFO - CMS: Timestep for rank 0/1 - 8.444022463008878,8.444023370742798 - 2020-05-31 15:00:00\n",
      "\n",
      "2022-07-22 14:44:48,593 - rank - INFO - Next timestep\n",
      "2022-07-22 14:44:48,594 - simulator - INFO - ==================== timestep ====================\n",
      "2022-07-22 14:44:49,384 - rank - INFO - Rank 0 -- move_people -- 0.788847641000757\n",
      "2022-07-22 14:44:49,385 - rank - INFO - Rank 0 -- move_people_waiting -- 8.983013685792685e-06\n",
      "2022-07-22 14:44:49,385 - activity_manager - INFO - CMS: People COMS for rank 0/1 - 3.941997420042753e-06,3.337860107421875e-06 - 2020-05-31 17:00:00\n",
      "2022-07-22 14:44:49,391 - simulator - INFO - Info for rank 0, Date = 2020-05-31 17:00:00, number of deaths =  0, number of infected = 1774\n",
      "2022-07-22 14:44:49,627 - rank - INFO - Rank 0 -- interaction -- 0.24048528900311794\n",
      "2022-07-22 14:44:49,636 - tracker - INFO - Rank 0 -- tracking contacts -- 500 of 3274 of type shelter\n",
      "2022-07-22 14:44:50,004 - tracker - INFO - Rank 0 -- tracking contacts -- 115 of 115 of type communal\n",
      "2022-07-22 14:44:50,007 - tracker - INFO - Rank 0 -- tracking contacts -- 21 of 21 of type distribution_center\n",
      "2022-07-22 14:44:50,058 - tracker - INFO - Rank 0 -- tracking contacts -- 7 of 7 of type e_voucher\n",
      "2022-07-22 14:44:50,076 - tracker - INFO - Rank 0 -- tracking contacts -- 67 of 67 of type female_communal\n",
      "2022-07-22 14:44:50,078 - tracker - INFO - Rank 0 -- tracking contacts -- 80 of 80 of type informal_work\n",
      "2022-07-22 14:44:50,172 - tracker - INFO - Rank 0 -- tracking contacts -- 41 of 41 of type n_f_distribution_center\n",
      "2022-07-22 14:44:50,314 - tracker - INFO - Rank 0 -- tracking contacts -- 500 of 538 of type play_group\n",
      "2022-07-22 14:44:50,866 - tracker - INFO - Rank 0 -- tracking contacts -- 82 of 82 of type pump_latrine\n",
      "2022-07-22 14:44:56,156 - tracker - INFO - Rank 0 -- tracking contacts -- 500 of 2065 of type religious\n",
      "2022-07-22 14:44:56,860 - tracker - INFO - Rank 0 -- tracking contacts -- 8 of 8 of type hospital\n",
      "2022-07-22 14:44:56,862 - tracker - INFO - Rank 0 -- tracking contacts -- 8 of 8 of type isolation_unit\n",
      "2022-07-22 14:44:56,863 - tracker - INFO - Rank 0 -- tracking contacts -- 389 of 389 of type learning_center\n",
      "2022-07-22 14:44:56,874 - rank - INFO - Rank 0 -- tracker -- 7.2464234810031485\n",
      "2022-07-22 14:44:56,897 - epidemiology - INFO - CMS: Infection COMS-v2 for rank 0/1(2)0.00029402499785646796,0.00029349327087402344 - 2020-05-31 17:00:00\n",
      "2022-07-22 14:44:56,947 - rank - INFO - Rank 0 -- interaction_waiting -- 7.296999683603644e-06\n",
      "2022-07-22 14:44:56,961 - simulator - INFO - CMS: Timestep for rank 0/1 - 8.366051360004349,8.366052389144897 - 2020-05-31 17:00:00\n",
      "\n",
      "2022-07-22 14:44:56,964 - rank - INFO - Next timestep\n",
      "2022-07-22 14:44:56,965 - simulator - INFO - ==================== timestep ====================\n",
      "2022-07-22 14:44:57,152 - rank - INFO - Rank 0 -- move_people -- 0.18653164101124275\n",
      "2022-07-22 14:44:57,153 - rank - INFO - Rank 0 -- move_people_waiting -- 4.034998710267246e-06\n",
      "2022-07-22 14:44:57,154 - activity_manager - INFO - CMS: People COMS for rank 0/1 - 4.021989298053086e-06,3.5762786865234375e-06 - 2020-05-31 19:00:00\n",
      "2022-07-22 14:44:57,161 - simulator - INFO - Info for rank 0, Date = 2020-05-31 19:00:00, number of deaths =  0, number of infected = 1821\n",
      "2022-07-22 14:44:57,338 - rank - INFO - Rank 0 -- interaction -- 0.18231784900126513\n",
      "2022-07-22 14:44:57,345 - tracker - INFO - Rank 0 -- tracking contacts -- 500 of 3274 of type shelter\n",
      "2022-07-22 14:44:58,443 - tracker - INFO - Rank 0 -- tracking contacts -- 115 of 115 of type communal\n",
      "2022-07-22 14:44:58,447 - tracker - INFO - Rank 0 -- tracking contacts -- 21 of 21 of type distribution_center\n",
      "2022-07-22 14:44:58,449 - tracker - INFO - Rank 0 -- tracking contacts -- 7 of 7 of type e_voucher\n",
      "2022-07-22 14:44:58,450 - tracker - INFO - Rank 0 -- tracking contacts -- 67 of 67 of type female_communal\n",
      "2022-07-22 14:44:58,454 - tracker - INFO - Rank 0 -- tracking contacts -- 80 of 80 of type informal_work\n",
      "2022-07-22 14:44:58,459 - tracker - INFO - Rank 0 -- tracking contacts -- 41 of 41 of type n_f_distribution_center\n",
      "2022-07-22 14:44:58,463 - tracker - INFO - Rank 0 -- tracking contacts -- 500 of 538 of type play_group\n",
      "2022-07-22 14:44:58,479 - tracker - INFO - Rank 0 -- tracking contacts -- 82 of 82 of type pump_latrine\n",
      "2022-07-22 14:44:58,497 - tracker - INFO - Rank 0 -- tracking contacts -- 500 of 2065 of type religious\n",
      "2022-07-22 14:44:58,512 - tracker - INFO - Rank 0 -- tracking contacts -- 8 of 8 of type hospital\n",
      "2022-07-22 14:44:58,514 - tracker - INFO - Rank 0 -- tracking contacts -- 8 of 8 of type isolation_unit\n",
      "2022-07-22 14:44:58,516 - tracker - INFO - Rank 0 -- tracking contacts -- 389 of 389 of type learning_center\n",
      "2022-07-22 14:44:58,527 - rank - INFO - Rank 0 -- tracker -- 1.1888138109934516\n",
      "2022-07-22 14:44:58,616 - epidemiology - INFO - CMS: Infection COMS-v2 for rank 0/1(2)0.00023751599655952305,0.0002372264862060547 - 2020-05-31 19:00:00\n",
      "2022-07-22 14:44:58,922 - rank - INFO - Rank 0 -- interaction_waiting -- 8.665010682307184e-06\n",
      "2022-07-22 14:44:58,947 - simulator - INFO - CMS: Timestep for rank 0/1 - 1.9809254720021272,1.9809260368347168 - 2020-05-31 19:00:00\n",
      "\n",
      "CPU times: user 5min 25s, sys: 5.97 s, total: 5min 31s\n",
      "Wall time: 5min 23s\n"
     ]
    }
   ],
   "source": [
    "%%time\n",
    "simulator.run()"
   ]
  },
  {
   "cell_type": "markdown",
   "metadata": {},
   "source": [
    "# Getting the results"
   ]
  },
  {
   "cell_type": "markdown",
   "metadata": {},
   "source": [
    "All results are stored in a json file specified in the `record_path` when defining the recorder. This can be read in by passing the folder locations to the `RecordReader` class and results derived.\n",
    "\n",
    "Here we show some examples of the kind of analysis you can extract from the records."
   ]
  },
  {
   "cell_type": "code",
   "execution_count": 55,
   "metadata": {},
   "outputs": [],
   "source": [
    "import pandas as pd"
   ]
  },
  {
   "cell_type": "code",
   "execution_count": 56,
   "metadata": {},
   "outputs": [],
   "source": [
    "read = RecordReader(Results_Path)"
   ]
  },
  {
   "cell_type": "markdown",
   "metadata": {},
   "source": [
    "The regional summary gives you information at the regional (camp) level."
   ]
  },
  {
   "cell_type": "markdown",
   "metadata": {},
   "source": [
    "### Regional information"
   ]
  },
  {
   "cell_type": "code",
   "execution_count": 57,
   "metadata": {},
   "outputs": [
    {
     "data": {
      "text/html": [
       "<div>\n",
       "<style scoped>\n",
       "    .dataframe tbody tr th:only-of-type {\n",
       "        vertical-align: middle;\n",
       "    }\n",
       "\n",
       "    .dataframe tbody tr th {\n",
       "        vertical-align: top;\n",
       "    }\n",
       "\n",
       "    .dataframe thead th {\n",
       "        text-align: right;\n",
       "    }\n",
       "</style>\n",
       "<table border=\"1\" class=\"dataframe\">\n",
       "  <thead>\n",
       "    <tr style=\"text-align: right;\">\n",
       "      <th></th>\n",
       "      <th>region</th>\n",
       "      <th>current_infected</th>\n",
       "      <th>daily_infected</th>\n",
       "      <th>current_hospitalised</th>\n",
       "      <th>daily_hospitalised</th>\n",
       "      <th>current_intensive_care</th>\n",
       "      <th>daily_intensive_care</th>\n",
       "      <th>daily_hospital_deaths</th>\n",
       "      <th>daily_deaths</th>\n",
       "    </tr>\n",
       "    <tr>\n",
       "      <th>time_stamp</th>\n",
       "      <th></th>\n",
       "      <th></th>\n",
       "      <th></th>\n",
       "      <th></th>\n",
       "      <th></th>\n",
       "      <th></th>\n",
       "      <th></th>\n",
       "      <th></th>\n",
       "      <th></th>\n",
       "    </tr>\n",
       "  </thead>\n",
       "  <tbody>\n",
       "    <tr>\n",
       "      <th>2020-05-24</th>\n",
       "      <td>CXB-219</td>\n",
       "      <td>229.333333</td>\n",
       "      <td>256</td>\n",
       "      <td>0.0</td>\n",
       "      <td>0</td>\n",
       "      <td>0.0</td>\n",
       "      <td>0</td>\n",
       "      <td>0</td>\n",
       "      <td>0</td>\n",
       "    </tr>\n",
       "    <tr>\n",
       "      <th>2020-05-25</th>\n",
       "      <td>CXB-219</td>\n",
       "      <td>285.500000</td>\n",
       "      <td>84</td>\n",
       "      <td>0.0</td>\n",
       "      <td>0</td>\n",
       "      <td>0.0</td>\n",
       "      <td>0</td>\n",
       "      <td>0</td>\n",
       "      <td>0</td>\n",
       "    </tr>\n",
       "    <tr>\n",
       "      <th>2020-05-26</th>\n",
       "      <td>CXB-219</td>\n",
       "      <td>394.000000</td>\n",
       "      <td>140</td>\n",
       "      <td>0.0</td>\n",
       "      <td>0</td>\n",
       "      <td>0.0</td>\n",
       "      <td>0</td>\n",
       "      <td>0</td>\n",
       "      <td>0</td>\n",
       "    </tr>\n",
       "  </tbody>\n",
       "</table>\n",
       "</div>"
      ],
      "text/plain": [
       "             region  current_infected  daily_infected  current_hospitalised  \\\n",
       "time_stamp                                                                    \n",
       "2020-05-24  CXB-219        229.333333             256                   0.0   \n",
       "2020-05-25  CXB-219        285.500000              84                   0.0   \n",
       "2020-05-26  CXB-219        394.000000             140                   0.0   \n",
       "\n",
       "            daily_hospitalised  current_intensive_care  daily_intensive_care  \\\n",
       "time_stamp                                                                     \n",
       "2020-05-24                   0                     0.0                     0   \n",
       "2020-05-25                   0                     0.0                     0   \n",
       "2020-05-26                   0                     0.0                     0   \n",
       "\n",
       "            daily_hospital_deaths  daily_deaths  \n",
       "time_stamp                                       \n",
       "2020-05-24                      0             0  \n",
       "2020-05-25                      0             0  \n",
       "2020-05-26                      0             0  "
      ]
     },
     "execution_count": 57,
     "metadata": {},
     "output_type": "execute_result"
    }
   ],
   "source": [
    "read.regional_summary.head(3) # this is the equivalent of the summary.csv"
   ]
  },
  {
   "cell_type": "markdown",
   "metadata": {},
   "source": [
    "### Daily infections"
   ]
  },
  {
   "cell_type": "code",
   "execution_count": 58,
   "metadata": {},
   "outputs": [],
   "source": [
    "summary = read.regional_summary.reset_index()"
   ]
  },
  {
   "cell_type": "code",
   "execution_count": 59,
   "metadata": {},
   "outputs": [
    {
     "data": {
      "image/png": "[encoded data removed]",
      "text/plain": [
       "<Figure size 432x288 with 1 Axes>"
      ]
     },
     "metadata": {
      "needs_background": "light"
     },
     "output_type": "display_data"
    }
   ],
   "source": [
    "summary.groupby(['time_stamp']).sum().plot(y=['daily_infected'])\n",
    "plt.ylabel('Daily infections')\n",
    "plt.show()"
   ]
  },
  {
   "cell_type": "markdown",
   "metadata": {},
   "source": [
    "### Hospital and intensive care"
   ]
  },
  {
   "cell_type": "code",
   "execution_count": 60,
   "metadata": {},
   "outputs": [
    {
     "data": {
      "image/png": "[encoded data removed]",
      "text/plain": [
       "<Figure size 432x288 with 1 Axes>"
      ]
     },
     "metadata": {
      "needs_background": "light"
     },
     "output_type": "display_data"
    }
   ],
   "source": [
    "summary.groupby(['time_stamp']).sum().plot(y=['current_hospitalised', 'current_intensive_care'])\n",
    "plt.show()"
   ]
  },
  {
   "cell_type": "markdown",
   "metadata": {},
   "source": [
    "### Cumulative infections by age"
   ]
  },
  {
   "cell_type": "code",
   "execution_count": 61,
   "metadata": {},
   "outputs": [
    {
     "name": "stdout",
     "output_type": "stream",
     "text": [
      "2022-07-22 14:44:59,554 - june.records.records_reader - INFO - Loading infections table\n",
      "2022-07-22 14:44:59,573 - june.records.records_reader - INFO - Loading population table\n",
      "2022-07-22 14:44:59,632 - june.records.records_reader - INFO - Merging infection and population tables\n",
      "2022-07-22 14:44:59,639 - june.records.records_reader - INFO - Loading geography table\n",
      "2022-07-22 14:44:59,663 - june.records.records_reader - INFO - Mergeing infection and geography tables\n"
     ]
    }
   ],
   "source": [
    "infections_df = read.get_table_with_extras('infections',\n",
    "                                           'infected_ids')"
   ]
  },
  {
   "cell_type": "code",
   "execution_count": 62,
   "metadata": {},
   "outputs": [
    {
     "name": "stdout",
     "output_type": "stream",
     "text": [
      "2022-07-22 14:44:59,680 - june.records.records_reader - INFO - Loading deaths table\n",
      "2022-07-22 14:44:59,688 - june.records.records_reader - INFO - Loading population table\n",
      "2022-07-22 14:44:59,741 - june.records.records_reader - INFO - Merging infection and population tables\n",
      "2022-07-22 14:44:59,748 - june.records.records_reader - INFO - Loading geography table\n",
      "2022-07-22 14:44:59,775 - june.records.records_reader - INFO - Mergeing infection and geography tables\n"
     ]
    }
   ],
   "source": [
    "deaths_df = read.get_table_with_extras('deaths', \n",
    "                                       'dead_person_ids')"
   ]
  },
  {
   "cell_type": "code",
   "execution_count": 63,
   "metadata": {},
   "outputs": [],
   "source": [
    "age_bins = (0,20,60,100)"
   ]
  },
  {
   "cell_type": "code",
   "execution_count": 64,
   "metadata": {},
   "outputs": [],
   "source": [
    "infected_by_age = infections_df.groupby([pd.cut(infections_df['age'],\n",
    "            bins=age_bins), 'timestamp']).size()"
   ]
  },
  {
   "cell_type": "code",
   "execution_count": 65,
   "metadata": {},
   "outputs": [],
   "source": [
    "people_df = read.table_to_df('population')"
   ]
  },
  {
   "cell_type": "code",
   "execution_count": 66,
   "metadata": {},
   "outputs": [],
   "source": [
    "n_by_age = people_df.groupby(pd.cut(people_df['age'],\n",
    "            bins=age_bins)).size()"
   ]
  },
  {
   "cell_type": "code",
   "execution_count": 67,
   "metadata": {},
   "outputs": [
    {
     "data": {
      "text/plain": [
       "<matplotlib.legend.Legend at 0x7fe043fbc670>"
      ]
     },
     "execution_count": 67,
     "metadata": {},
     "output_type": "execute_result"
    },
    {
     "data": {
      "image/png": "[encoded data removed]",
      "text/plain": [
       "<Figure size 432x288 with 1 Axes>"
      ]
     },
     "metadata": {
      "needs_background": "light"
     },
     "output_type": "display_data"
    }
   ],
   "source": [
    "(100*infected_by_age/n_by_age).xs(10).cumsum().plot(label='0,20')\n",
    "(100*infected_by_age/n_by_age).xs(30).cumsum().plot(label='20,60')\n",
    "(100*infected_by_age/n_by_age).xs(70).cumsum().plot(label='60,100')\n",
    "plt.ylabel(\"% cumulative infected\")\n",
    "plt.legend()"
   ]
  },
  {
   "cell_type": "markdown",
   "metadata": {},
   "source": [
    "### Where people get infected"
   ]
  },
  {
   "cell_type": "code",
   "execution_count": 68,
   "metadata": {},
   "outputs": [],
   "source": [
    "locations_df = infections_df.groupby(['location_specs', \n",
    "                                'timestamp']).size()"
   ]
  },
  {
   "cell_type": "code",
   "execution_count": 69,
   "metadata": {},
   "outputs": [
    {
     "data": {
      "text/plain": [
       "<AxesSubplot:xlabel='timestamp'>"
      ]
     },
     "execution_count": 69,
     "metadata": {},
     "output_type": "execute_result"
    },
    {
     "data": {
      "image/png": "[encoded data removed]",
      "text/plain": [
       "<Figure size 432x288 with 1 Axes>"
      ]
     },
     "metadata": {
      "needs_background": "light"
     },
     "output_type": "display_data"
    }
   ],
   "source": [
    "locations_df.unstack(level=0).plot()"
   ]
  },
  {
   "cell_type": "code",
   "execution_count": 70,
   "metadata": {},
   "outputs": [
    {
     "data": {
      "text/plain": [
       "Text(0.5, 0, 'location')"
      ]
     },
     "execution_count": 70,
     "metadata": {},
     "output_type": "execute_result"
    },
    {
     "data": {
      "image/png": "[encoded data removed]",
      "text/plain": [
       "<Figure size 432x288 with 1 Axes>"
      ]
     },
     "metadata": {
      "needs_background": "light"
     },
     "output_type": "display_data"
    }
   ],
   "source": [
    "import matplotlib.ticker as mtick\n",
    "location_counts_df = locations_df.groupby('location_specs').size()\n",
    "location_counts_df = 100*location_counts_df / location_counts_df.sum()\n",
    "ax = location_counts_df.sort_values().plot.bar()\n",
    "ax.yaxis.set_major_formatter(mtick.PercentFormatter())\n",
    "plt.ylabel('Percentage of infections at location')\n",
    "plt.xlabel('location')"
   ]
  },
  {
   "cell_type": "markdown",
   "metadata": {},
   "source": [
    "# Tracker results"
   ]
  },
  {
   "cell_type": "markdown",
   "metadata": {},
   "source": [
    "We can define custom binnings with bin edges as such."
   ]
  },
  {
   "cell_type": "code",
   "execution_count": 71,
   "metadata": {},
   "outputs": [
    {
     "data": {
      "text/plain": [
       "1"
      ]
     },
     "execution_count": 71,
     "metadata": {},
     "output_type": "execute_result"
    }
   ],
   "source": [
    "simulator.tracker.contract_matrices(\"AC\", np.array([0,18,60]))"
   ]
  },
  {
   "cell_type": "markdown",
   "metadata": {},
   "source": [
    "Lastly we call the tracker to save the results to file and provide a print out of the results."
   ]
  },
  {
   "cell_type": "code",
   "execution_count": 72,
   "metadata": {},
   "outputs": [
    {
     "name": "stdout",
     "output_type": "stream",
     "text": [
      "Results from 1D interactions...\n",
      "\n",
      "  communal:\n",
      "    contacts: [[3.86,8.17],[1.14,5.78]]\n",
      "    contacts_err: [[1.39,2.02],[0.75,1.70]]\n",
      "    proportion_physical: [[0.12]]\n",
      "    characteristic_time: 1.00\n",
      "\n",
      "    Ratio of contacts and feed in values: [[0.77,1.01],[0.74,0.96]]\n",
      "\n",
      "  distribution_center:\n",
      "    contacts: [[4.01,13.58],[0.77,9.97]]\n",
      "    contacts_err: [[1.42,2.61],[0.62,2.23]]\n",
      "    proportion_physical: [[0.12]]\n",
      "    characteristic_time: 1.00\n",
      "\n",
      "    Ratio of contacts and feed in values: [[1.00,1.00],[0.98,1.00]]\n",
      "\n",
      "  e_voucher:\n",
      "    contacts: [[0.24,2.12],[0.11,13.54]]\n",
      "    contacts_err: [[0.35,1.03],[0.23,2.60]]\n",
      "    proportion_physical: [[0.12]]\n",
      "    characteristic_time: 1.00\n",
      "\n",
      "    Ratio of contacts and feed in values: [[0.00,1.06],[1.07,1.00]]\n",
      "\n",
      "  female_communal:\n",
      "    contacts: [[4.99,8.11],[1.51,5.91]]\n",
      "    contacts_err: [[1.58,2.01],[0.87,1.72]]\n",
      "    proportion_physical: [[0.12]]\n",
      "    characteristic_time: 1.00\n",
      "\n",
      "    Ratio of contacts and feed in values: [[1.00,1.00],[0.98,0.99]]\n",
      "\n",
      "  hospital:\n",
      "    contacts: [[4.63,0.27,0.21],[0.56,0.00,0.00],[0.00,0.00,0.00]]\n",
      "    contacts_err: [[4.27,1.04,0.91],[1.49,0.00,0.00],[0.00,0.00,0.00]]\n",
      "    proportion_physical: [[0.05,1.00,1.00],[1.00,0.00,0.00],[1.00,0.00,0.00]]\n",
      "    characteristic_time: 8.00\n",
      "\n",
      "    Ratio of contacts and feed in values: [[0.93,0.03,0.02],[0.56,0.00,0.00],[0.00,0.00,0.00]]\n",
      "\n",
      "  informal_work:\n",
      "    contacts: [[5.00]]\n",
      "    contacts_err: [[4.00]]\n",
      "    proportion_physical: [[0.12]]\n",
      "    characteristic_time: 8.00\n",
      "\n",
      "    Ratio of contacts and feed in values: [[1.00]]\n",
      "\n",
      "  isolation_unit:\n",
      "    contacts: [[0.00,0.00],[0.00,0.00]]\n",
      "    contacts_err: [[0.00,0.00],[0.00,0.00]]\n",
      "    proportion_physical: [[0.00,0.00],[0.00,0.00]]\n",
      "    characteristic_time: 24.00\n",
      "\n",
      "    Ratio of contacts and feed in values: [[0.00,0.00],[0.00,0.00]]\n",
      "\n",
      "  learning_center:\n",
      "    contacts: [[9.99,6.40],[1.97,3.84]]\n",
      "    contacts_err: [[2.74,2.19],[1.22,1.70]]\n",
      "    proportion_physical: [[0.12,0.12],[0.12,0.12]]\n",
      "    characteristic_time: 1.50\n",
      "\n",
      "    Ratio of contacts and feed in values: [[1.00,1.00],[0.44,0.99]]\n",
      "\n",
      "  n_f_distribution_center:\n",
      "    contacts: [[4.01,13.18],[0.78,10.03]]\n",
      "    contacts_err: [[1.42,2.57],[0.63,2.24]]\n",
      "    proportion_physical: [[0.12]]\n",
      "    characteristic_time: 1.00\n",
      "\n",
      "    Ratio of contacts and feed in values: [[1.00,0.97],[0.99,1.00]]\n",
      "\n",
      "  play_group:\n",
      "    contacts: [[4.00,0.00,0.00],[0.00,5.00,0.00],[0.00,0.00,4.00]]\n",
      "    contacts_err: [[2.00,0.00,0.00],[0.00,2.00,0.00],[0.00,0.00,2.00]]\n",
      "    proportion_physical: [[0.60,0.00,0.00],[0.00,0.30,0.00],[0.00,0.00,0.15]]\n",
      "    characteristic_time: 2.00\n",
      "\n",
      "    Ratio of contacts and feed in values: [[0.80,0.00,0.00],[0.00,1.00,0.00],[0.00,0.00,0.80]]\n",
      "\n",
      "  pump_latrine:\n",
      "    contacts: [[3.25,9.72],[1.63,4.32]]\n",
      "    contacts_err: [[0.94,1.62],[0.66,1.08]]\n",
      "    proportion_physical: [[0.02]]\n",
      "    characteristic_time: 0.54\n",
      "\n",
      "    Ratio of contacts and feed in values: [[1.00,1.00],[1.00,1.00]]\n",
      "\n",
      "  religious:\n",
      "    contacts: [[5.01,9.47],[1.10,8.51]]\n",
      "    contacts_err: [[1.58,2.18],[0.74,2.06]]\n",
      "    proportion_physical: [[0.12]]\n",
      "    characteristic_time: 1.00\n",
      "\n",
      "    Ratio of contacts and feed in values: [[1.00,1.00],[1.00,1.00]]\n",
      "\n",
      "  shelter:\n",
      "    contacts: [[5.00,2.00],[2.00,5.00]]\n",
      "    contacts_err: [[3.00,3.00],[3.00,3.00]]\n",
      "    proportion_physical: [[0.80,0.30],[0.80,0.30]]\n",
      "    characteristic_time: 12.00\n",
      "\n",
      "    Ratio of contacts and feed in values: [[1.00,1.00],[1.00,1.00]]\n",
      "\n",
      "Results from all contacts all interactions...\n",
      "\n",
      "  communal:\n",
      "    contacts: [[1.01,2.63],[0.97,2.57]]\n",
      "    contacts_err: [[0.71,1.15],[0.70,1.13]]\n",
      "    proportion_physical: [[0.12]]\n",
      "    characteristic_time: 1.00\n",
      "\n",
      "    Ratio of contacts and feed in values: [[0.20,0.32],[0.63,0.43]]\n",
      "\n",
      "  distribution_center:\n",
      "    contacts: [[11.17,28.45],[11.02,28.14]]\n",
      "    contacts_err: [[2.36,3.77],[2.35,3.75]]\n",
      "    proportion_physical: [[0.12]]\n",
      "    characteristic_time: 1.00\n",
      "\n",
      "    Ratio of contacts and feed in values: [[2.79,2.09],[13.95,2.81]]\n",
      "\n",
      "  e_voucher:\n",
      "    contacts: [[4.40,13.55],[4.54,13.62]]\n",
      "    contacts_err: [[1.48,2.60],[1.51,2.61]]\n",
      "    proportion_physical: [[0.12]]\n",
      "    characteristic_time: 1.00\n",
      "\n",
      "    Ratio of contacts and feed in values: [[0.00,6.78],[45.39,1.01]]\n",
      "\n",
      "  female_communal:\n",
      "    contacts: [[6.86,6.27],[6.90,6.33]]\n",
      "    contacts_err: [[1.85,1.77],[1.86,1.78]]\n",
      "    proportion_physical: [[0.12]]\n",
      "    characteristic_time: 1.00\n",
      "\n",
      "    Ratio of contacts and feed in values: [[1.37,0.77],[4.51,1.06]]\n",
      "\n",
      "  hospital:\n",
      "    contacts: [[12.41,0.12,0.07],[14.08,1.13,2.82],[11.82,3.94,0.00]]\n",
      "    contacts_err: [[6.99,0.70,0.54],[7.45,2.11,3.33],[6.83,3.94,0.00]]\n",
      "    proportion_physical: [[0.05,1.00,1.00],[1.00,0.00,0.00],[1.00,0.00,0.00]]\n",
      "    characteristic_time: 8.00\n",
      "\n",
      "    Ratio of contacts and feed in values: [[2.48,0.01,0.01],[14.08,0.00,0.00],[11.82,0.00,0.00]]\n",
      "\n",
      "  informal_work:\n",
      "    contacts: [[31.00]]\n",
      "    contacts_err: [[11.00]]\n",
      "    proportion_physical: [[0.12]]\n",
      "    characteristic_time: 8.00\n",
      "\n",
      "    Ratio of contacts and feed in values: [[6.20]]\n",
      "\n",
      "  isolation_unit:\n",
      "    contacts: [[0.00,0.00],[0.00,0.00]]\n",
      "    contacts_err: [[0.00,0.00],[0.00,0.00]]\n",
      "    proportion_physical: [[0.00,0.00],[0.00,0.00]]\n",
      "    characteristic_time: 24.00\n",
      "\n",
      "    Ratio of contacts and feed in values: [[0.00,0.00],[0.00,0.00]]\n",
      "\n",
      "  learning_center:\n",
      "    contacts: [[8.82,2.92],[3.71,2.78]]\n",
      "    contacts_err: [[2.57,1.48],[1.67,1.44]]\n",
      "    proportion_physical: [[0.12,0.12],[0.12,0.12]]\n",
      "    characteristic_time: 1.50\n",
      "\n",
      "    Ratio of contacts and feed in values: [[0.88,0.46],[0.84,0.72]]\n",
      "\n",
      "  n_f_distribution_center:\n",
      "    contacts: [[20.21,55.44],[20.33,55.34]]\n",
      "    contacts_err: [[3.18,5.27],[3.19,5.26]]\n",
      "    proportion_physical: [[0.12]]\n",
      "    characteristic_time: 1.00\n",
      "\n",
      "    Ratio of contacts and feed in values: [[5.05,4.07],[25.74,5.53]]\n",
      "\n",
      "  play_group:\n",
      "    contacts: [[7.00,8.00,4.00],[7.00,8.00,4.00],[7.00,8.00,4.00]]\n",
      "    contacts_err: [[2.00,2.00,2.00],[2.00,2.00,2.00],[2.00,2.00,2.00]]\n",
      "    proportion_physical: [[0.60,0.00,0.00],[0.00,0.30,0.00],[0.00,0.00,0.15]]\n",
      "    characteristic_time: 2.00\n",
      "\n",
      "    Ratio of contacts and feed in values: [[1.40,0.00,0.00],[0.00,1.60,0.00],[0.00,0.00,0.80]]\n",
      "\n",
      "  pump_latrine:\n",
      "    contacts: [[15.66,12.00],[15.76,12.31]]\n",
      "    contacts_err: [[2.06,1.80],[2.06,1.82]]\n",
      "    proportion_physical: [[0.02]]\n",
      "    characteristic_time: 0.54\n",
      "\n",
      "    Ratio of contacts and feed in values: [[4.82,1.23],[9.67,2.84]]\n",
      "\n",
      "  religious:\n",
      "    contacts: [[15.83,33.58],[15.50,33.12]]\n",
      "    contacts_err: [[2.81,4.10],[2.78,4.07]]\n",
      "    proportion_physical: [[0.12]]\n",
      "    characteristic_time: 1.00\n",
      "\n",
      "    Ratio of contacts and feed in values: [[3.17,3.55],[14.09,3.90]]\n",
      "\n",
      "  shelter:\n",
      "    contacts: [[6.00,9.00],[9.00,6.00]]\n",
      "    contacts_err: [[3.00,6.00],[6.00,3.00]]\n",
      "    proportion_physical: [[0.80,0.30],[0.80,0.30]]\n",
      "    characteristic_time: 12.00\n",
      "\n",
      "    Ratio of contacts and feed in values: [[1.20,4.50],[4.50,1.20]]\n",
      "\n"
     ]
    },
    {
     "data": {
      "text/plain": [
       "1"
      ]
     },
     "execution_count": 72,
     "metadata": {},
     "output_type": "execute_result"
    }
   ],
   "source": [
    "simulator.tracker.post_process_simulation(save=True)"
   ]
  }
 ],
 "metadata": {
  "kernelspec": {
   "display_name": "Python 3 (ipykernel)",
   "language": "python",
   "name": "python3"
  },
  "language_info": {
   "codemirror_mode": {
    "name": "ipython",
    "version": 3
   },
   "file_extension": ".py",
   "mimetype": "text/x-python",
   "name": "python",
   "nbconvert_exporter": "python",
   "pygments_lexer": "ipython3",
   "version": "3.8.10"
  }
 },
 "nbformat": 4,
 "nbformat_minor": 4
}
