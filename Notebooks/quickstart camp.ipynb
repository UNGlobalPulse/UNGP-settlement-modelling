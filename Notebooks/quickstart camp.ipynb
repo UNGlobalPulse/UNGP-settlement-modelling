{
 "cells": [
  {
   "cell_type": "code",
   "execution_count": 1,
   "metadata": {},
   "outputs": [],
   "source": [
    "import warnings\n",
    "warnings.filterwarnings('ignore')"
   ]
  },
  {
   "cell_type": "code",
   "execution_count": 2,
   "metadata": {},
   "outputs": [],
   "source": [
    "import numpy as np\n",
    "import pandas as pd\n",
    "import time\n",
    "import matplotlib.pyplot as plt\n",
    "from datetime import datetime\n",
    "import sys\n",
    "import argparse\n",
    "from pathlib import Path"
   ]
  },
  {
   "cell_type": "code",
   "execution_count": 3,
   "metadata": {},
   "outputs": [
    {
     "name": "stderr",
     "output_type": "stream",
     "text": [
      "No --data argument given - defaulting to:\n",
      "/home/joseph/Documents/PhD/UN_Work/UNGP-settlement-modelling-private/data\n",
      "No --configs argument given - defaulting to:\n",
      "/home/joseph/Documents/PhD/UN_Work/JUNE-private/june/configs\n"
     ]
    },
    {
     "name": "stdout",
     "output_type": "stream",
     "text": [
      "2022-09-26 09:43:56,041 - camps.paths - WARNING - No --camp_data argument given - defaulting to:\n",
      "/home/joseph/Documents/PhD/UN_Work/UNGP-settlement-modelling-private/camp_data\n",
      "2022-09-26 09:43:56,043 - camps.paths - WARNING - No --configs_camps argument given - defaulting to:\n",
      "/home/joseph/Documents/PhD/UN_Work/UNGP-settlement-modelling-private/configs_camps\n"
     ]
    }
   ],
   "source": [
    "from june.geography import Geography\n",
    "from june.demography.demography import (\n",
    "    load_age_and_sex_generators_for_bins,\n",
    "    Demography,\n",
    "    Population,\n",
    "    load_comorbidity_data,\n",
    "    generate_comorbidity,\n",
    ")\n",
    "from june.paths import data_path, configs_path\n",
    "from june.epidemiology.epidemiology import Epidemiology\n",
    "from june.epidemiology.infection import ImmunitySetter\n",
    "from june.epidemiology.infection import Infection, HealthIndexGenerator, InfectionSelector, InfectionSelectors\n",
    "from june.epidemiology.infection_seed import InfectionSeed, InfectionSeeds\n",
    "from june.interaction import Interaction\n",
    "from june.groups import Hospital, Hospitals, Cemeteries\n",
    "from june.distributors import HospitalDistributor\n",
    "from june.hdf5_savers import generate_world_from_hdf5\n",
    "from june.policy import Policy, Policies\n",
    "from june.records import Record\n",
    "from june.simulator import Simulator\n",
    "from june.records import Record, RecordReader\n",
    "\n",
    "from camps.activity import CampActivityManager\n",
    "from camps.paths import camp_data_path, camp_configs_path\n",
    "from camps.world import World\n",
    "from camps.groups.leisure import generate_leisure_for_world, generate_leisure_for_config\n",
    "from camps.camp_creation import (\n",
    "    generate_empty_world,\n",
    "    populate_world,\n",
    "    distribute_people_to_households,\n",
    ")  # this is loaded from the ../camp_scripts folder\n",
    "\n",
    "from june.tracker.tracker import Tracker"
   ]
  },
  {
   "cell_type": "code",
   "execution_count": 4,
   "metadata": {},
   "outputs": [],
   "source": [
    "from camps.groups import PumpLatrines, PumpLatrineDistributor\n",
    "from camps.groups import DistributionCenters, DistributionCenterDistributor\n",
    "from camps.groups import Communals, CommunalDistributor\n",
    "from camps.groups import FemaleCommunals, FemaleCommunalDistributor\n",
    "from camps.groups import Religiouss, ReligiousDistributor\n",
    "from camps.groups import Shelter, Shelters, ShelterDistributor\n",
    "from camps.groups import IsolationUnit, IsolationUnits\n",
    "from camps.groups import LearningCenters\n",
    "from camps.distributors import LearningCenterDistributor\n",
    "from camps.groups import PlayGroups, PlayGroupDistributor\n",
    "from camps.groups import EVouchers, EVoucherDistributor\n",
    "from camps.groups import NFDistributionCenters, NFDistributionCenterDistributor\n",
    "from camps.groups import SheltersVisitsDistributor\n",
    "from camps.groups import InformalWorks, InformalWorkDistributor"
   ]
  },
  {
   "cell_type": "code",
   "execution_count": 5,
   "metadata": {},
   "outputs": [],
   "source": [
    "Results_Path = Path(\"results\")\n",
    "\n",
    "Config_File_Path = camp_configs_path / \"config_demo.yaml\"\n",
    "Interactions_File_Path = camp_configs_path / \"defaults/interaction/interaction_Survey.yaml\"\n",
    "Policies_File_Path = camp_configs_path / \"defaults/policy/simple_policy.yaml\"\n",
    "Hospitals_File_Path = camp_data_path / \"input/hospitals/hospitals.csv\"\n",
    "comorbidity_multipliers_path = camp_configs_path / \"defaults/comorbidities.yaml\"\n",
    "male_comorbidity_reference_prevalence_path = camp_data_path / \"input/demography/uk_male_comorbidities.csv\"\n",
    "female_comorbidity_reference_prevalence_path = camp_data_path / \"input/demography/uk_female_comorbidities.csv\""
   ]
  },
  {
   "cell_type": "markdown",
   "metadata": {},
   "source": [
    "## Initialize the world"
   ]
  },
  {
   "cell_type": "markdown",
   "metadata": {},
   "source": [
    "When we create the camp to be simulated, we call this the 'world'. The world is initialised after specifying which geographical regions you want to simulate. We can do this by using the `filter_key` argument in the `generate_empty_world` function. Cox's Bazar Expansion Site is made up of camps (which we call regions), UNHCR blocks (which we call super areas) and Mahjee blocks (which we call areas). These are the 3 heirarchical levels on which our model works. You can pass lists of the regions/super_areas/areas to the function here. Alternatively, by leaving the function empty you can generate the entire Cox's Bazar Expansion Site consisting of 112 super areas."
   ]
  },
  {
   "cell_type": "code",
   "execution_count": 6,
   "metadata": {},
   "outputs": [
    {
     "name": "stdout",
     "output_type": "stream",
     "text": [
      "2022-09-26 09:43:58,312 - june.geography.geography - INFO - There are 65 areas and 4 super_areas and 1 regions in the world.\n"
     ]
    }
   ],
   "source": [
    "# create empty world's geography\n",
    "world = generate_empty_world(filter_key = {\"region\" : [\"CXB-219\"]})"
   ]
  },
  {
   "cell_type": "code",
   "execution_count": 7,
   "metadata": {},
   "outputs": [],
   "source": [
    "# populate empty world\n",
    "populate_world(world)"
   ]
  },
  {
   "cell_type": "code",
   "execution_count": 8,
   "metadata": {},
   "outputs": [
    {
     "name": "stdout",
     "output_type": "stream",
     "text": [
      "Distributing 467 people to CXB-219-001\n",
      "Distributing 369 people to CXB-219-002\n",
      "Distributing 330 people to CXB-219-003\n",
      "Distributing 386 people to CXB-219-004\n",
      "Distributing 313 people to CXB-219-005\n",
      "Distributing 331 people to CXB-219-006\n",
      "Distributing 259 people to CXB-219-007\n",
      "Distributing 349 people to CXB-219-009\n",
      "Distributing 274 people to CXB-219-010\n",
      "Distributing 249 people to CXB-219-011\n",
      "Distributing 464 people to CXB-219-012\n",
      "Distributing 418 people to CXB-219-013\n",
      "Distributing 460 people to CXB-219-014\n",
      "Distributing 383 people to CXB-219-017\n",
      "Distributing 417 people to CXB-219-020\n",
      "Distributing 425 people to CXB-219-021\n",
      "Distributing 414 people to CXB-219-022\n",
      "Distributing 383 people to CXB-219-024\n",
      "Distributing 377 people to CXB-219-025\n",
      "Distributing 380 people to CXB-219-026\n",
      "Distributing 413 people to CXB-219-027\n",
      "Distributing 392 people to CXB-219-028\n",
      "Distributing 331 people to CXB-219-029\n",
      "Distributing 459 people to CXB-219-030\n",
      "Distributing 394 people to CXB-219-032\n",
      "Distributing 339 people to CXB-219-033\n",
      "Distributing 373 people to CXB-219-034\n",
      "Distributing 259 people to CXB-219-036\n",
      "Distributing 455 people to CXB-219-037\n",
      "Distributing 459 people to CXB-219-038\n",
      "Distributing 488 people to CXB-219-039\n",
      "Distributing 175 people to CXB-219-040\n",
      "Distributing 330 people to CXB-219-041\n",
      "Distributing 399 people to CXB-219-042\n",
      "Distributing 397 people to CXB-219-043\n",
      "Distributing 367 people to CXB-219-044\n",
      "Distributing 430 people to CXB-219-045\n",
      "Distributing 450 people to CXB-219-046\n",
      "Distributing 246 people to CXB-219-047\n",
      "Distributing 311 people to CXB-219-048\n",
      "Distributing 335 people to CXB-219-049\n",
      "Distributing 206 people to CXB-219-050\n",
      "Distributing 343 people to CXB-219-051\n",
      "Distributing 347 people to CXB-219-052\n",
      "Distributing 534 people to CXB-219-053\n",
      "Distributing 381 people to CXB-219-054\n",
      "Distributing 253 people to CXB-219-055\n",
      "Distributing 274 people to CXB-219-056\n",
      "Distributing 248 people to CXB-219-057\n",
      "Distributing 375 people to CXB-219-058\n",
      "Distributing 342 people to CXB-219-059\n",
      "Distributing 330 people to CXB-219-060\n",
      "Distributing 413 people to CXB-219-061\n",
      "Distributing 259 people to CXB-219-062\n",
      "Distributing 287 people to CXB-219-063\n",
      "Distributing 194 people to CXB-219-064\n",
      "Distributing 212 people to CXB-219-065\n",
      "Distributing 330 people to CXB-219-066\n",
      "Distributing 314 people to CXB-219-067\n",
      "Distributing 386 people to CXB-219-068\n",
      "Distributing 551 people to CXB-219-069\n",
      "Distributing 320 people to CXB-219-070\n",
      "Distributing 219 people to CXB-219-071\n",
      "Distributing 310 people to CXB-234-001\n",
      "Distributing 275 people to CXB-234-002\n"
     ]
    }
   ],
   "source": [
    "# distribute people to households\n",
    "distribute_people_to_households(world)"
   ]
  },
  {
   "cell_type": "code",
   "execution_count": 9,
   "metadata": {},
   "outputs": [
    {
     "name": "stdout",
     "output_type": "stream",
     "text": [
      "2022-09-26 09:44:06,476 - learning_centers - INFO - There are 1243 learning center(s)\n"
     ]
    }
   ],
   "source": [
    "LearningCenters.Get_Interaction(Interactions_File_Path)\n",
    "world.learning_centers = LearningCenters.for_areas(world.areas)\n",
    "\n",
    "learningcenter_distributor = LearningCenterDistributor.from_file(world.learning_centers)\n",
    "\n",
    "learningcenter_distributor.distribute_teachers_to_learning_centers(world.areas)\n",
    "learningcenter_distributor.distribute_kids_to_learning_centers(world.areas)"
   ]
  },
  {
   "cell_type": "code",
   "execution_count": 10,
   "metadata": {},
   "outputs": [
    {
     "name": "stdout",
     "output_type": "stream",
     "text": [
      "2022-09-26 09:44:07,615 - hospitals - INFO - There are 8 hospitals in the world.\n",
      "2022-09-26 09:44:07,629 - isolation units - INFO - There are 8 isolation unit(s)\n"
     ]
    }
   ],
   "source": [
    "# distribute hospitals\n",
    "Hospitals.Get_Interaction(Interactions_File_Path)\n",
    "IsolationUnits.Get_Interaction(Interactions_File_Path)\n",
    "\n",
    "hospitals = Hospitals.from_file(\n",
    "    filename=Hospitals_File_Path\n",
    ")\n",
    "\n",
    "\n",
    "for hospital in hospitals:\n",
    "    hospital.area = world.areas.get_closest_area(hospital.coordinates)\n",
    "    \n",
    "world.hospitals = hospitals\n",
    "hospital_distributor = HospitalDistributor(\n",
    "    hospitals, medic_min_age=20, patients_per_medic=10\n",
    ")\n",
    "hospital_distributor.assign_closest_hospitals_to_super_areas(\n",
    "    world.super_areas\n",
    ")\n",
    "\n",
    "world.isolation_units = IsolationUnits([IsolationUnit(area=hospital.area) for hospital in world.hospitals])\n",
    "hospital_distributor.distribute_medics_from_world(world.people)"
   ]
  },
  {
   "cell_type": "code",
   "execution_count": 11,
   "metadata": {},
   "outputs": [
    {
     "name": "stdout",
     "output_type": "stream",
     "text": [
      "2022-09-26 09:44:07,709 - social_venue - INFO - Domain 0 has 82 pump_latrines(s)\n",
      "2022-09-26 09:44:07,837 - social_venue - INFO - Domain 0 has 536 play_groups(s)\n",
      "2022-09-26 09:44:07,881 - social_venue - INFO - Domain 0 has 21 distribution_centers(s)\n",
      "2022-09-26 09:44:07,971 - social_venue - INFO - Domain 0 has 115 communals(s)\n",
      "2022-09-26 09:44:08,039 - social_venue - INFO - Domain 0 has 67 female_communals(s)\n",
      "2022-09-26 09:44:09,052 - social_venue - INFO - Domain 0 has 2065 religiouss(s)\n",
      "2022-09-26 09:44:09,097 - social_venue - INFO - Domain 0 has 7 e_vouchers(s)\n",
      "2022-09-26 09:44:09,151 - social_venue - INFO - Domain 0 has 41 n_f_distribution_centers(s)\n",
      "2022-09-26 09:44:09,195 - social_venue - INFO - Domain 0 has 80 informal_works(s)\n"
     ]
    }
   ],
   "source": [
    "PumpLatrines.Get_Interaction(Interactions_File_Path)\n",
    "world.pump_latrines = PumpLatrines.for_areas(world.areas)\n",
    "\n",
    "PlayGroups.Get_Interaction(Interactions_File_Path)\n",
    "world.play_groups = PlayGroups.for_areas(world.areas)\n",
    "\n",
    "DistributionCenters.Get_Interaction(Interactions_File_Path)\n",
    "world.distribution_centers = DistributionCenters.for_areas(world.areas)\n",
    "\n",
    "Communals.Get_Interaction(Interactions_File_Path)\n",
    "world.communals = Communals.for_areas(world.areas)\n",
    "\n",
    "FemaleCommunals.Get_Interaction(Interactions_File_Path)\n",
    "world.female_communals = FemaleCommunals.for_areas(world.areas)\n",
    "\n",
    "Religiouss.Get_Interaction(Interactions_File_Path)\n",
    "world.religiouss = Religiouss.for_areas(world.areas)\n",
    "\n",
    "EVouchers.Get_Interaction(Interactions_File_Path)\n",
    "world.e_vouchers = EVouchers.for_areas(world.areas)\n",
    "\n",
    "NFDistributionCenters.Get_Interaction(Interactions_File_Path)\n",
    "world.n_f_distribution_centers = NFDistributionCenters.for_areas(world.areas)\n",
    "\n",
    "InformalWorks.Get_Interaction(Interactions_File_Path)\n",
    "world.informal_works = InformalWorks.for_areas(world.areas)"
   ]
  },
  {
   "cell_type": "code",
   "execution_count": 12,
   "metadata": {},
   "outputs": [
    {
     "name": "stdout",
     "output_type": "stream",
     "text": [
      "cemetery not defined in interaction yaml or defualt options\n"
     ]
    }
   ],
   "source": [
    "world.cemeteries = Cemeteries()"
   ]
  },
  {
   "cell_type": "markdown",
   "metadata": {},
   "source": [
    "## Geography exploration"
   ]
  },
  {
   "cell_type": "markdown",
   "metadata": {},
   "source": [
    "The geography is initialised first and can be explored."
   ]
  },
  {
   "cell_type": "markdown",
   "metadata": {},
   "source": [
    "### UNHCR camp blocks inside the World"
   ]
  },
  {
   "cell_type": "code",
   "execution_count": 13,
   "metadata": {},
   "outputs": [],
   "source": [
    "super_areas = []\n",
    "for super_area in world.super_areas:\n",
    "    super_areas.append(super_area.name)"
   ]
  },
  {
   "cell_type": "code",
   "execution_count": 14,
   "metadata": {},
   "outputs": [
    {
     "data": {
      "text/plain": [
       "['CXB-219-A', 'CXB-219-B', 'CXB-219-C', 'CXB-219-D']"
      ]
     },
     "execution_count": 14,
     "metadata": {},
     "output_type": "execute_result"
    }
   ],
   "source": [
    "super_areas[:5]"
   ]
  },
  {
   "cell_type": "markdown",
   "metadata": {},
   "source": [
    "### Mahjee blocks inside World"
   ]
  },
  {
   "cell_type": "code",
   "execution_count": 15,
   "metadata": {},
   "outputs": [],
   "source": [
    "areas = []\n",
    "for area in world.areas:\n",
    "    areas.append(area.name)"
   ]
  },
  {
   "cell_type": "code",
   "execution_count": 16,
   "metadata": {},
   "outputs": [
    {
     "data": {
      "text/plain": [
       "['CXB-219-001', 'CXB-219-002', 'CXB-219-003', 'CXB-219-004', 'CXB-219-005']"
      ]
     },
     "execution_count": 16,
     "metadata": {},
     "output_type": "execute_result"
    }
   ],
   "source": [
    "areas[:5]"
   ]
  },
  {
   "cell_type": "markdown",
   "metadata": {},
   "source": [
    "## Demography exploration"
   ]
  },
  {
   "cell_type": "markdown",
   "metadata": {},
   "source": [
    "Once we have populated the 'digital twin' we can explore some of the attributes of the people we have created in the simulation."
   ]
  },
  {
   "cell_type": "markdown",
   "metadata": {},
   "source": [
    "### UNHCR block residents"
   ]
  },
  {
   "cell_type": "code",
   "execution_count": 17,
   "metadata": {},
   "outputs": [],
   "source": [
    "sample_ages = []\n",
    "sample_sexes = []\n",
    "for person in world.super_areas.members[0].people:\n",
    "    sample_ages.append(person.age)\n",
    "    sample_sexes.append(person.sex)"
   ]
  },
  {
   "cell_type": "code",
   "execution_count": 18,
   "metadata": {},
   "outputs": [
    {
     "data": {
      "text/plain": [
       "(['f', 'f', 'f', 'm', 'm'], [34, 38, 30, 45, 61])"
      ]
     },
     "execution_count": 18,
     "metadata": {},
     "output_type": "execute_result"
    }
   ],
   "source": [
    "sample_sexes[:5], sample_ages[:5]"
   ]
  },
  {
   "cell_type": "code",
   "execution_count": 19,
   "metadata": {},
   "outputs": [
    {
     "data": {
      "image/png": "[encoded data removed]",
      "text/plain": [
       "<Figure size 432x288 with 1 Axes>"
      ]
     },
     "metadata": {
      "needs_background": "light"
     },
     "output_type": "display_data"
    }
   ],
   "source": [
    "ages, counts = np.unique(sample_ages, return_counts=True)\n",
    "plt.bar(ages, counts)\n",
    "plt.title('super area: {} age distribution'.format(world.super_areas.members[0].name))\n",
    "plt.show()"
   ]
  },
  {
   "cell_type": "code",
   "execution_count": 20,
   "metadata": {},
   "outputs": [
    {
     "name": "stdout",
     "output_type": "stream",
     "text": [
      "The % children between ages 0-16 is 49%\n"
     ]
    }
   ],
   "source": [
    "print ('The % children between ages 0-16 is {}%'.format(round(np.sum(counts[:16])/(np.sum(counts[:16])+np.sum(counts[16:]))*100)))"
   ]
  },
  {
   "cell_type": "markdown",
   "metadata": {},
   "source": [
    "## Households"
   ]
  },
  {
   "cell_type": "markdown",
   "metadata": {},
   "source": [
    "In this model, we will use the term 'family' and 'household' interchangeably. After populating the 'digital twin', we need to cluster people into families. To do this, we take account of age structure so that children live with adults, that there are some intergenerational households and such that we might also have some households of only adults."
   ]
  },
  {
   "cell_type": "markdown",
   "metadata": {},
   "source": [
    "### Household size distribution"
   ]
  },
  {
   "cell_type": "code",
   "execution_count": 21,
   "metadata": {},
   "outputs": [
    {
     "data": {
      "image/png": "[encoded data removed]",
      "text/plain": [
       "<Figure size 432x288 with 1 Axes>"
      ]
     },
     "metadata": {
      "needs_background": "light"
     },
     "output_type": "display_data"
    }
   ],
   "source": [
    "household_sizes = [household.size for household in world.households]\n",
    "plt.hist(household_sizes, density=True, bins=np.arange(0,12))\n",
    "plt.xlabel(\"Household size\")\n",
    "plt.ylabel(\"Frequency\")\n",
    "plt.axvline(np.mean(household_sizes), color=\"cyan\")\n",
    "plt.text(8, 0.150, f\"Avg. size: {(np.mean(household_sizes)):.2f}\")\n",
    "plt.show()"
   ]
  },
  {
   "cell_type": "markdown",
   "metadata": {},
   "source": [
    "# Shelters"
   ]
  },
  {
   "cell_type": "markdown",
   "metadata": {},
   "source": [
    "Shelters house people in the camp. Since we know that families (houseohlds) often share shelters with other families, we can set the `sharing_shelter_ratio` to cluster families into shared shelters."
   ]
  },
  {
   "cell_type": "code",
   "execution_count": 22,
   "metadata": {},
   "outputs": [],
   "source": [
    "Shelters.Get_Interaction(Interactions_File_Path)\n",
    "world.shelters = Shelters.for_areas(world.areas)\n",
    "shelter_distributor = ShelterDistributor(sharing_shelter_ratio = 0.75) # proportion of families that share a shelter\n",
    "for area in world.areas:\n",
    "    shelter_distributor.distribute_people_in_shelters(area.shelters, area.households)"
   ]
  },
  {
   "cell_type": "code",
   "execution_count": 23,
   "metadata": {},
   "outputs": [
    {
     "data": {
      "image/png": "[encoded data removed]",
      "text/plain": [
       "<Figure size 576x216 with 2 Axes>"
      ]
     },
     "metadata": {
      "needs_background": "light"
     },
     "output_type": "display_data"
    }
   ],
   "source": [
    "fig, ax = plt.subplots(1, 2, figsize=(8,3))\n",
    "shelter_sizes = [shelter.size for shelter in world.shelters]\n",
    "shelter_families = [shelter.n_families for shelter in world.shelters]\n",
    "ax[0].hist(shelter_sizes)\n",
    "ax[0].set_title(\"Shelter size\")\n",
    "shelter_families = {1 : len([shelter for shelter in world.shelters if shelter.n_families == 1]),\n",
    "                    2 : len([shelter for shelter in world.shelters if shelter.n_families == 2])}\n",
    "ax[1].bar(shelter_families.keys(), shelter_families.values())\n",
    "ax[1].set_title(\"# families per shelter\")\n",
    "plt.show()"
   ]
  },
  {
   "cell_type": "markdown",
   "metadata": {},
   "source": [
    "## Activity exploration"
   ]
  },
  {
   "cell_type": "markdown",
   "metadata": {},
   "source": [
    "Once different activity locations are seeded in the 'digital twin' we can explore how many there are in different areas of the twin, and their coordinates to check they've all been added correctly."
   ]
  },
  {
   "cell_type": "markdown",
   "metadata": {},
   "source": [
    "### Pumps and latrines "
   ]
  },
  {
   "cell_type": "code",
   "execution_count": 24,
   "metadata": {},
   "outputs": [],
   "source": [
    "pumps_and_latrines = []\n",
    "for pump_latrine in world.areas.members[0].pump_latrines:\n",
    "    pumps_and_latrines.append(pump_latrine)"
   ]
  },
  {
   "cell_type": "code",
   "execution_count": 25,
   "metadata": {},
   "outputs": [
    {
     "name": "stdout",
     "output_type": "stream",
     "text": [
      "There are 2 pumps and latrines in area CXB-219-001\n"
     ]
    }
   ],
   "source": [
    "print ('There are {} pumps and latrines in area {}'.format(len(pumps_and_latrines), world.areas.members[0].name))"
   ]
  },
  {
   "cell_type": "markdown",
   "metadata": {},
   "source": [
    "### Informal work"
   ]
  },
  {
   "cell_type": "code",
   "execution_count": 26,
   "metadata": {},
   "outputs": [],
   "source": [
    "Informal_work_Sites = []\n",
    "for informal_work in world.areas.members[0].informal_works:\n",
    "    Informal_work_Sites.append(informal_work)"
   ]
  },
  {
   "cell_type": "code",
   "execution_count": 27,
   "metadata": {},
   "outputs": [
    {
     "name": "stdout",
     "output_type": "stream",
     "text": [
      "There are 2 informal work sites in area CXB-219-001\n"
     ]
    }
   ],
   "source": [
    "print ('There are {} informal work sites in area {}'.format(len(Informal_work_Sites), world.areas.members[0].name))"
   ]
  },
  {
   "cell_type": "markdown",
   "metadata": {},
   "source": [
    "### Distribution centers"
   ]
  },
  {
   "cell_type": "code",
   "execution_count": 28,
   "metadata": {},
   "outputs": [],
   "source": [
    "distribution_centers = []\n",
    "for center in world.distribution_centers:\n",
    "    distribution_centers.append(center)"
   ]
  },
  {
   "cell_type": "code",
   "execution_count": 29,
   "metadata": {},
   "outputs": [
    {
     "data": {
      "text/plain": [
       "array([21.2136    , 92.15678833])"
      ]
     },
     "execution_count": 29,
     "metadata": {},
     "output_type": "execute_result"
    }
   ],
   "source": [
    "distribution_centers[0].coordinates"
   ]
  },
  {
   "cell_type": "markdown",
   "metadata": {},
   "source": [
    "### Non-food Distribution centers"
   ]
  },
  {
   "cell_type": "code",
   "execution_count": 30,
   "metadata": {},
   "outputs": [],
   "source": [
    "non_food_distribution_centers = []\n",
    "for center in world.n_f_distribution_centers:\n",
    "    non_food_distribution_centers.append(center)"
   ]
  },
  {
   "cell_type": "code",
   "execution_count": 31,
   "metadata": {},
   "outputs": [
    {
     "data": {
      "text/plain": [
       "array([21.21268167, 92.1438    ])"
      ]
     },
     "execution_count": 31,
     "metadata": {},
     "output_type": "execute_result"
    }
   ],
   "source": [
    "non_food_distribution_centers[0].coordinates"
   ]
  },
  {
   "cell_type": "markdown",
   "metadata": {},
   "source": [
    "### E-Voucher outlets"
   ]
  },
  {
   "cell_type": "code",
   "execution_count": 32,
   "metadata": {},
   "outputs": [],
   "source": [
    "e_voucher_outlets = []\n",
    "for center in world.e_vouchers:\n",
    "    e_voucher_outlets.append(center)"
   ]
  },
  {
   "cell_type": "code",
   "execution_count": 33,
   "metadata": {},
   "outputs": [
    {
     "data": {
      "text/plain": [
       "array([21.212945, 92.142915])"
      ]
     },
     "execution_count": 33,
     "metadata": {},
     "output_type": "execute_result"
    }
   ],
   "source": [
    "e_voucher_outlets[0].coordinates"
   ]
  },
  {
   "cell_type": "markdown",
   "metadata": {},
   "source": [
    "### Communal spaces"
   ]
  },
  {
   "cell_type": "code",
   "execution_count": 34,
   "metadata": {},
   "outputs": [],
   "source": [
    "communal_spaces = []\n",
    "for space in world.communals:\n",
    "    communal_spaces.append(space)"
   ]
  },
  {
   "cell_type": "code",
   "execution_count": 35,
   "metadata": {},
   "outputs": [
    {
     "data": {
      "text/plain": [
       "array([21.19508, 92.16525])"
      ]
     },
     "execution_count": 35,
     "metadata": {},
     "output_type": "execute_result"
    }
   ],
   "source": [
    "communal_spaces[0].coordinates"
   ]
  },
  {
   "cell_type": "markdown",
   "metadata": {},
   "source": [
    "### Female friendly communal spaces"
   ]
  },
  {
   "cell_type": "code",
   "execution_count": 36,
   "metadata": {},
   "outputs": [],
   "source": [
    "female_communal_spaces = []\n",
    "for space in world.female_communals:\n",
    "    female_communal_spaces.append(space)"
   ]
  },
  {
   "cell_type": "code",
   "execution_count": 37,
   "metadata": {},
   "outputs": [
    {
     "data": {
      "text/plain": [
       "array([21.20686305, 92.16070923])"
      ]
     },
     "execution_count": 37,
     "metadata": {},
     "output_type": "execute_result"
    }
   ],
   "source": [
    "female_communal_spaces[0].coordinates"
   ]
  },
  {
   "cell_type": "markdown",
   "metadata": {},
   "source": [
    "### Religious sites"
   ]
  },
  {
   "cell_type": "code",
   "execution_count": 38,
   "metadata": {},
   "outputs": [],
   "source": [
    "religious = []\n",
    "for rel in world.religiouss:\n",
    "    religious.append(rel)"
   ]
  },
  {
   "cell_type": "code",
   "execution_count": 39,
   "metadata": {},
   "outputs": [
    {
     "data": {
      "text/plain": [
       "array([21.21804605, 92.1546829 ])"
      ]
     },
     "execution_count": 39,
     "metadata": {},
     "output_type": "execute_result"
    }
   ],
   "source": [
    "religious[0].coordinates"
   ]
  },
  {
   "cell_type": "markdown",
   "metadata": {},
   "source": [
    "# Adding the infection"
   ]
  },
  {
   "cell_type": "markdown",
   "metadata": {},
   "source": [
    "The selector handles how infections are handled in the code. You can set different 'symptom trajectories' (e.g. exposed->mild->severe->hospitalised->intensive care) from different files. Here, we use the default."
   ]
  },
  {
   "cell_type": "code",
   "execution_count": 40,
   "metadata": {},
   "outputs": [],
   "source": [
    "selector = InfectionSelector.from_file()"
   ]
  },
  {
   "cell_type": "code",
   "execution_count": 41,
   "metadata": {},
   "outputs": [],
   "source": [
    "selectors = InfectionSelectors([selector])"
   ]
  },
  {
   "cell_type": "markdown",
   "metadata": {},
   "source": [
    "# Adding the interaction"
   ]
  },
  {
   "cell_type": "markdown",
   "metadata": {},
   "source": [
    "The interaction class handles how many contacts people have in different locations and with who. If contact matrices are available, these can be coded in a `.yaml` file and fed into the class here."
   ]
  },
  {
   "cell_type": "code",
   "execution_count": 42,
   "metadata": {},
   "outputs": [],
   "source": [
    "interaction = Interaction.from_file(\n",
    "    config_filename=Interactions_File_Path,\n",
    ")"
   ]
  },
  {
   "cell_type": "markdown",
   "metadata": {},
   "source": [
    "# Set policies"
   ]
  },
  {
   "cell_type": "markdown",
   "metadata": {},
   "source": [
    "Policies control how 'operational interventions' are set in the camp. Here we set some social distancing policies, policies relating to medical care, such as people with severe symptoms being hospitalised, and individual and activity policies which can dynamically change how often and where people go, e.g. here, we close all female communal spaces and non-food distirbution centers which the camp did back in March"
   ]
  },
  {
   "cell_type": "code",
   "execution_count": 43,
   "metadata": {},
   "outputs": [],
   "source": [
    "policies = Policies.from_file(\n",
    "        Policies_File_Path,\n",
    "        base_policy_modules=(\"june.policy\", \"camps.policy\"),\n",
    "    )"
   ]
  },
  {
   "cell_type": "code",
   "execution_count": 44,
   "metadata": {},
   "outputs": [
    {
     "data": {
      "text/plain": [
       "[<june.policy.interaction_policies.SocialDistancing at 0x7f2e598420d0>,\n",
       " <june.policy.medical_care_policies.Hospitalisation at 0x7f2e5a24b190>,\n",
       " <june.policy.individual_policies.SevereSymptomsStayHome at 0x7f2e5a33ac10>,\n",
       " <june.policy.individual_policies.Quarantine at 0x7f2e59836e80>]"
      ]
     },
     "execution_count": 44,
     "metadata": {},
     "output_type": "execute_result"
    }
   ],
   "source": [
    "policies.policies"
   ]
  },
  {
   "cell_type": "markdown",
   "metadata": {},
   "source": [
    "# Seed the disease"
   ]
  },
  {
   "cell_type": "markdown",
   "metadata": {},
   "source": [
    "Set intial seeding conditions. This can be done at the camp level specifically, or generally by seeding them randomly. Here the `n_cases` is the number of randomly seeded people over the entire population."
   ]
  },
  {
   "cell_type": "code",
   "execution_count": 45,
   "metadata": {},
   "outputs": [],
   "source": [
    "infection_seed = InfectionSeed.from_uniform_cases(\n",
    "    world=world, infection_selector=selector, cases_per_capita=0.01, date=\"2020-05-24 9:00\", seed_past_infections=False,\n",
    ")"
   ]
  },
  {
   "cell_type": "code",
   "execution_count": 46,
   "metadata": {},
   "outputs": [],
   "source": [
    "infection_seeds = InfectionSeeds([infection_seed])"
   ]
  },
  {
   "cell_type": "code",
   "execution_count": 47,
   "metadata": {},
   "outputs": [],
   "source": [
    "immunity_setter = ImmunitySetter.from_file_with_comorbidities(\n",
    "    comorbidity_multipliers_path= comorbidity_multipliers_path,\n",
    "    male_comorbidity_reference_prevalence_path= male_comorbidity_reference_prevalence_path,\n",
    "    female_comorbidity_reference_prevalence_path = female_comorbidity_reference_prevalence_path,   \n",
    ")"
   ]
  },
  {
   "cell_type": "code",
   "execution_count": 48,
   "metadata": {},
   "outputs": [],
   "source": [
    "epidemiology = Epidemiology(\n",
    "    infection_selectors=selectors,\n",
    "    infection_seeds=infection_seeds,\n",
    "    immunity_setter=immunity_setter,\n",
    ")"
   ]
  },
  {
   "cell_type": "markdown",
   "metadata": {},
   "source": [
    "## Select config file"
   ]
  },
  {
   "cell_type": "markdown",
   "metadata": {},
   "source": [
    "Before running the simualtion we must select the config file which defines how the world is set up and the simualtor will work. Specifically, the condif file specifies which activities will be included, how long we'll run the simualtion for, what the initial starting day will be and what the structure of weekdays and weekends will look like (if different)"
   ]
  },
  {
   "cell_type": "code",
   "execution_count": 49,
   "metadata": {},
   "outputs": [],
   "source": [
    "CONFIG_PATH = Config_File_Path"
   ]
  },
  {
   "cell_type": "markdown",
   "metadata": {},
   "source": [
    "# Initialise activities"
   ]
  },
  {
   "cell_type": "markdown",
   "metadata": {},
   "source": [
    "The final step to intialising the simulator class which brings all of this together is to inialise all the activity distirbutors (the term 'leisure' is a legacy of the original version of this code used for modelling COVID-19 in the UK). This will mean that people know where they can go at and given time."
   ]
  },
  {
   "cell_type": "code",
   "execution_count": 50,
   "metadata": {},
   "outputs": [
    {
     "name": "stdout",
     "output_type": "stream",
     "text": [
      "2022-09-26 09:44:11,842 - leisure - INFO - Linking households and care homes for visits\n",
      "2022-09-26 09:44:11,843 - leisure - INFO - Done\n",
      "2022-09-26 09:44:11,843 - leisure - INFO - Distributing social venues to areas\n",
      "2022-09-26 09:44:11,844 - leisure - INFO - Distributed in 0 of 65 areas.\n",
      "2022-09-26 09:44:11,940 - leisure - INFO - Distributed in 65 of 65 areas.\n"
     ]
    }
   ],
   "source": [
    "leisure = generate_leisure_for_config(world=world, config_filename=CONFIG_PATH)\n",
    "# associate social activities to shelters\n",
    "leisure.distribute_social_venues_to_areas(world.areas, world.super_areas)"
   ]
  },
  {
   "cell_type": "markdown",
   "metadata": {},
   "source": [
    "# Define a contact Tracker"
   ]
  },
  {
   "cell_type": "markdown",
   "metadata": {},
   "source": [
    "We define a list of venues in which to track. This is fed into JUNE's tracker class. We can specify tracking contacts by sex, the type of possible contacts \"1D\" (simulated contacts based on the input interaction matrices) or \"All\" (everyone at each venue contacts each other). Lastly we can find a subset of venues upto N but defining MaxVenueTrackingSize=N."
   ]
  },
  {
   "cell_type": "code",
   "execution_count": 51,
   "metadata": {},
   "outputs": [],
   "source": [
    "group_types=[\n",
    "        world.hospitals,\n",
    "        world.distribution_centers,\n",
    "        world.communals,\n",
    "        world.female_communals,\n",
    "        world.pump_latrines,\n",
    "        world.religiouss,\n",
    "        world.play_groups,\n",
    "        world.e_vouchers,\n",
    "        world.n_f_distribution_centers,\n",
    "        world.shelters,\n",
    "        world.learning_centers,\n",
    "        world.informal_works,\n",
    "        world.isolation_units,\n",
    "    ]\n",
    "\n",
    "tracker = Tracker(\n",
    "    world=world,\n",
    "    record_path=Results_Path,\n",
    "    group_types=group_types,\n",
    "    load_interactions_path=Interactions_File_Path,\n",
    "    contact_sexes=[\"unisex\", \"male\", \"female\"],\n",
    "    MaxVenueTrackingSize = 500\n",
    ")"
   ]
  },
  {
   "cell_type": "markdown",
   "metadata": {},
   "source": [
    "# Initialise simulator and run"
   ]
  },
  {
   "cell_type": "markdown",
   "metadata": {},
   "source": [
    "The recorder is defined which will log all interactions and infections in the simualation for later analysis. The `record_path` can be changed to any path where you want the recorded data to be stored."
   ]
  },
  {
   "cell_type": "code",
   "execution_count": 52,
   "metadata": {},
   "outputs": [],
   "source": [
    "record = Record(\n",
    "    record_path=Results_Path, \n",
    "    record_static_data=True\n",
    ")\n"
   ]
  },
  {
   "cell_type": "markdown",
   "metadata": {},
   "source": [
    "The simulator is defined with all the different necessary components we have built up so far"
   ]
  },
  {
   "cell_type": "code",
   "execution_count": 53,
   "metadata": {},
   "outputs": [],
   "source": [
    "Simulator.ActivityManager = CampActivityManager\n",
    "simulator = Simulator.from_file(\n",
    "    world=world,\n",
    "    interaction=interaction,\n",
    "    tracker=tracker,\n",
    "    leisure=leisure,\n",
    "    policies=policies,\n",
    "    config_filename=CONFIG_PATH,\n",
    "    epidemiology=epidemiology,\n",
    "    record=record,\n",
    ")"
   ]
  },
  {
   "cell_type": "markdown",
   "metadata": {},
   "source": [
    "Finally we can run a small simualation"
   ]
  },
  {
   "cell_type": "code",
   "execution_count": 54,
   "metadata": {
    "scrolled": true
   },
   "outputs": [
    {
     "name": "stdout",
     "output_type": "stream",
     "text": [
      "2022-09-26 09:44:12,640 - simulator - INFO - Starting simulation for 7 days at day 2020-05-24 09:00:00,to run for 7 days\n",
      "2022-09-26 09:44:12,728 - seed - INFO - Seeding Covid19 infections at date 2020-05-24\n",
      "2022-09-26 09:44:13,193 - rank - INFO - Next timestep\n",
      "2022-09-26 09:44:13,194 - simulator - INFO - ==================== timestep ====================\n",
      "2022-09-26 09:44:13,401 - rank - INFO - Rank 0 -- move_people -- 0.20578339099301957\n",
      "2022-09-26 09:44:13,401 - rank - INFO - Rank 0 -- move_people_waiting -- 7.552996976301074e-06\n",
      "2022-09-26 09:44:13,402 - activity_manager - INFO - CMS: People COMS for rank 0/1 - 3.836001269519329e-06,3.337860107421875e-06 - 2020-05-24 09:00:00\n",
      "2022-09-26 09:44:13,408 - simulator - INFO - Info for rank 0, Date = 2020-05-24 09:00:00, number of deaths =  0, number of infected = 228\n",
      "2022-09-26 09:44:13,484 - rank - INFO - Rank 0 -- interaction -- 0.08036824397277087\n",
      "2022-09-26 09:44:13,486 - tracker - INFO - Rank 0 -- tracking contacts -- 389 of 389 of type learning_center\n",
      "2022-09-26 09:44:14,436 - tracker - INFO - Rank 0 -- tracking contacts -- 8 of 8 of type hospital\n",
      "2022-09-26 09:44:14,446 - tracker - INFO - Rank 0 -- tracking contacts -- 8 of 8 of type isolation_unit\n",
      "2022-09-26 09:44:14,455 - tracker - INFO - Rank 0 -- tracking contacts -- 500 of 3257 of type shelter\n",
      "2022-09-26 09:44:15,230 - tracker - INFO - Rank 0 -- tracking contacts -- 115 of 115 of type communal\n",
      "2022-09-26 09:44:15,232 - tracker - INFO - Rank 0 -- tracking contacts -- 21 of 21 of type distribution_center\n",
      "2022-09-26 09:44:15,232 - tracker - INFO - Rank 0 -- tracking contacts -- 7 of 7 of type e_voucher\n",
      "2022-09-26 09:44:15,233 - tracker - INFO - Rank 0 -- tracking contacts -- 67 of 67 of type female_communal\n",
      "2022-09-26 09:44:15,235 - tracker - INFO - Rank 0 -- tracking contacts -- 80 of 80 of type informal_work\n",
      "2022-09-26 09:44:15,237 - tracker - INFO - Rank 0 -- tracking contacts -- 41 of 41 of type n_f_distribution_center\n",
      "2022-09-26 09:44:15,240 - tracker - INFO - Rank 0 -- tracking contacts -- 500 of 536 of type play_group\n",
      "2022-09-26 09:44:15,249 - tracker - INFO - Rank 0 -- tracking contacts -- 82 of 82 of type pump_latrine\n",
      "2022-09-26 09:44:15,255 - tracker - INFO - Rank 0 -- tracking contacts -- 500 of 2065 of type religious\n",
      "2022-09-26 09:44:15,264 - rank - INFO - Rank 0 -- tracker -- 1.7789147160074208\n",
      "2022-09-26 09:44:15,267 - epidemiology - INFO - CMS: Infection COMS-v2 for rank 0/1(2)0.0020830150169786066,0.0020837783813476562 - 2020-05-24 09:00:00\n",
      "2022-09-26 09:44:15,392 - rank - INFO - Rank 0 -- interaction_waiting -- 7.476977771148086e-06\n",
      "2022-09-26 09:44:15,404 - simulator - INFO - CMS: Timestep for rank 0/1 - 2.2092499930004124,2.2092504501342773 - 2020-05-24 09:00:00\n",
      "\n",
      "2022-09-26 09:44:15,405 - rank - INFO - Next timestep\n",
      "2022-09-26 09:44:15,406 - simulator - INFO - ==================== timestep ====================\n",
      "2022-09-26 09:44:16,474 - rank - INFO - Rank 0 -- move_people -- 1.0671829320199322\n",
      "2022-09-26 09:44:16,474 - rank - INFO - Rank 0 -- move_people_waiting -- 9.768991731107235e-06\n",
      "2022-09-26 09:44:16,475 - activity_manager - INFO - CMS: People COMS for rank 0/1 - 3.402994479984045e-06,3.0994415283203125e-06 - 2020-05-24 11:00:00\n",
      "2022-09-26 09:44:16,480 - simulator - INFO - Info for rank 0, Date = 2020-05-24 11:00:00, number of deaths =  0, number of infected = 228\n",
      "2022-09-26 09:44:16,594 - rank - INFO - Rank 0 -- interaction -- 0.11892490700120106\n",
      "2022-09-26 09:44:16,596 - tracker - INFO - Rank 0 -- tracking contacts -- 389 of 389 of type learning_center\n",
      "2022-09-26 09:44:17,371 - tracker - INFO - Rank 0 -- tracking contacts -- 8 of 8 of type hospital\n",
      "2022-09-26 09:44:17,379 - tracker - INFO - Rank 0 -- tracking contacts -- 8 of 8 of type isolation_unit\n",
      "2022-09-26 09:44:17,385 - tracker - INFO - Rank 0 -- tracking contacts -- 500 of 3257 of type shelter\n",
      "2022-09-26 09:44:17,728 - tracker - INFO - Rank 0 -- tracking contacts -- 115 of 115 of type communal\n",
      "2022-09-26 09:44:17,756 - tracker - INFO - Rank 0 -- tracking contacts -- 21 of 21 of type distribution_center\n",
      "2022-09-26 09:44:17,802 - tracker - INFO - Rank 0 -- tracking contacts -- 7 of 7 of type e_voucher\n",
      "2022-09-26 09:44:17,813 - tracker - INFO - Rank 0 -- tracking contacts -- 67 of 67 of type female_communal\n",
      "2022-09-26 09:44:17,852 - tracker - INFO - Rank 0 -- tracking contacts -- 80 of 80 of type informal_work\n",
      "2022-09-26 09:44:17,919 - tracker - INFO - Rank 0 -- tracking contacts -- 41 of 41 of type n_f_distribution_center\n",
      "2022-09-26 09:44:17,960 - tracker - INFO - Rank 0 -- tracking contacts -- 500 of 536 of type play_group\n",
      "2022-09-26 09:44:18,204 - tracker - INFO - Rank 0 -- tracking contacts -- 82 of 82 of type pump_latrine\n",
      "2022-09-26 09:44:19,793 - tracker - INFO - Rank 0 -- tracking contacts -- 500 of 2065 of type religious\n",
      "2022-09-26 09:44:19,998 - rank - INFO - Rank 0 -- tracker -- 3.4024166430172045\n",
      "2022-09-26 09:44:20,000 - epidemiology - INFO - CMS: Infection COMS-v2 for rank 0/1(2)0.0004658399848267436,0.00046563148498535156 - 2020-05-24 11:00:00\n",
      "2022-09-26 09:44:20,026 - rank - INFO - Rank 0 -- interaction_waiting -- 5.328009137883782e-06\n",
      "2022-09-26 09:44:20,038 - simulator - INFO - CMS: Timestep for rank 0/1 - 4.631579087988939,4.631579637527466 - 2020-05-24 11:00:00\n",
      "\n",
      "2022-09-26 09:44:20,039 - rank - INFO - Next timestep\n",
      "2022-09-26 09:44:20,040 - simulator - INFO - ==================== timestep ====================\n",
      "2022-09-26 09:44:20,753 - rank - INFO - Rank 0 -- move_people -- 0.7126733319892082\n",
      "2022-09-26 09:44:20,754 - rank - INFO - Rank 0 -- move_people_waiting -- 7.2150141932070255e-06\n",
      "2022-09-26 09:44:20,755 - activity_manager - INFO - CMS: People COMS for rank 0/1 - 3.1040108297020197e-06,2.86102294921875e-06 - 2020-05-24 13:00:00\n",
      "2022-09-26 09:44:20,762 - simulator - INFO - Info for rank 0, Date = 2020-05-24 13:00:00, number of deaths =  0, number of infected = 232\n",
      "2022-09-26 09:44:20,880 - rank - INFO - Rank 0 -- interaction -- 0.12491846599732526\n",
      "2022-09-26 09:44:20,882 - tracker - INFO - Rank 0 -- tracking contacts -- 389 of 389 of type learning_center\n",
      "2022-09-26 09:44:21,751 - tracker - INFO - Rank 0 -- tracking contacts -- 8 of 8 of type hospital\n",
      "2022-09-26 09:44:21,766 - tracker - INFO - Rank 0 -- tracking contacts -- 8 of 8 of type isolation_unit\n",
      "2022-09-26 09:44:21,773 - tracker - INFO - Rank 0 -- tracking contacts -- 500 of 3257 of type shelter\n",
      "2022-09-26 09:44:22,568 - tracker - INFO - Rank 0 -- tracking contacts -- 115 of 115 of type communal\n",
      "2022-09-26 09:44:22,613 - tracker - INFO - Rank 0 -- tracking contacts -- 21 of 21 of type distribution_center\n",
      "2022-09-26 09:44:22,672 - tracker - INFO - Rank 0 -- tracking contacts -- 7 of 7 of type e_voucher\n",
      "2022-09-26 09:44:22,687 - tracker - INFO - Rank 0 -- tracking contacts -- 67 of 67 of type female_communal\n",
      "2022-09-26 09:44:22,757 - tracker - INFO - Rank 0 -- tracking contacts -- 80 of 80 of type informal_work\n",
      "2022-09-26 09:44:22,884 - tracker - INFO - Rank 0 -- tracking contacts -- 41 of 41 of type n_f_distribution_center\n",
      "2022-09-26 09:44:22,951 - tracker - INFO - Rank 0 -- tracking contacts -- 500 of 536 of type play_group\n",
      "2022-09-26 09:44:23,245 - tracker - INFO - Rank 0 -- tracking contacts -- 82 of 82 of type pump_latrine\n",
      "2022-09-26 09:44:25,205 - tracker - INFO - Rank 0 -- tracking contacts -- 500 of 2065 of type religious\n",
      "2022-09-26 09:44:25,587 - rank - INFO - Rank 0 -- tracker -- 4.706055535993073\n",
      "2022-09-26 09:44:25,595 - epidemiology - INFO - CMS: Infection COMS-v2 for rank 0/1(2)0.0008397220226470381,0.0008397102355957031 - 2020-05-24 13:00:00\n",
      "2022-09-26 09:44:25,649 - rank - INFO - Rank 0 -- interaction_waiting -- 7.275986718013883e-06\n",
      "2022-09-26 09:44:25,671 - simulator - INFO - CMS: Timestep for rank 0/1 - 5.630109471007017,5.630110740661621 - 2020-05-24 13:00:00\n",
      "\n",
      "2022-09-26 09:44:25,672 - rank - INFO - Next timestep\n",
      "2022-09-26 09:44:25,673 - simulator - INFO - ==================== timestep ====================\n",
      "2022-09-26 09:44:26,544 - rank - INFO - Rank 0 -- move_people -- 0.8695045389758889\n",
      "2022-09-26 09:44:26,545 - rank - INFO - Rank 0 -- move_people_waiting -- 1.1087016901001334e-05\n",
      "2022-09-26 09:44:26,546 - activity_manager - INFO - CMS: People COMS for rank 0/1 - 5.070993211120367e-06,4.76837158203125e-06 - 2020-05-24 15:00:00\n"
     ]
    },
    {
     "name": "stdout",
     "output_type": "stream",
     "text": [
      "2022-09-26 09:44:26,553 - simulator - INFO - Info for rank 0, Date = 2020-05-24 15:00:00, number of deaths =  0, number of infected = 239\n",
      "2022-09-26 09:44:26,723 - rank - INFO - Rank 0 -- interaction -- 0.1754637630074285\n",
      "2022-09-26 09:44:26,724 - tracker - INFO - Rank 0 -- tracking contacts -- 389 of 389 of type learning_center\n",
      "2022-09-26 09:44:27,718 - tracker - INFO - Rank 0 -- tracking contacts -- 8 of 8 of type hospital\n",
      "2022-09-26 09:44:27,731 - tracker - INFO - Rank 0 -- tracking contacts -- 8 of 8 of type isolation_unit\n",
      "2022-09-26 09:44:27,741 - tracker - INFO - Rank 0 -- tracking contacts -- 500 of 3257 of type shelter\n",
      "2022-09-26 09:44:28,191 - tracker - INFO - Rank 0 -- tracking contacts -- 115 of 115 of type communal\n",
      "2022-09-26 09:44:28,218 - tracker - INFO - Rank 0 -- tracking contacts -- 21 of 21 of type distribution_center\n",
      "2022-09-26 09:44:28,251 - tracker - INFO - Rank 0 -- tracking contacts -- 7 of 7 of type e_voucher\n",
      "2022-09-26 09:44:28,266 - tracker - INFO - Rank 0 -- tracking contacts -- 67 of 67 of type female_communal\n",
      "2022-09-26 09:44:28,337 - tracker - INFO - Rank 0 -- tracking contacts -- 80 of 80 of type informal_work\n",
      "2022-09-26 09:44:28,429 - tracker - INFO - Rank 0 -- tracking contacts -- 41 of 41 of type n_f_distribution_center\n",
      "2022-09-26 09:44:28,522 - tracker - INFO - Rank 0 -- tracking contacts -- 500 of 536 of type play_group\n",
      "2022-09-26 09:44:28,821 - tracker - INFO - Rank 0 -- tracking contacts -- 82 of 82 of type pump_latrine\n",
      "2022-09-26 09:44:30,745 - tracker - INFO - Rank 0 -- tracking contacts -- 500 of 2065 of type religious\n",
      "2022-09-26 09:44:30,979 - rank - INFO - Rank 0 -- tracker -- 4.25509471600526\n",
      "2022-09-26 09:44:30,984 - epidemiology - INFO - CMS: Infection COMS-v2 for rank 0/1(2)0.00043975800508633256,0.000438690185546875 - 2020-05-24 15:00:00\n",
      "2022-09-26 09:44:31,018 - rank - INFO - Rank 0 -- interaction_waiting -- 7.466995157301426e-06\n",
      "2022-09-26 09:44:31,031 - simulator - INFO - CMS: Timestep for rank 0/1 - 5.356996924005216,5.356997966766357 - 2020-05-24 15:00:00\n",
      "\n",
      "2022-09-26 09:44:31,032 - rank - INFO - Next timestep\n",
      "2022-09-26 09:44:31,033 - simulator - INFO - ==================== timestep ====================\n",
      "2022-09-26 09:44:31,784 - rank - INFO - Rank 0 -- move_people -- 0.7496661260083783\n",
      "2022-09-26 09:44:31,785 - rank - INFO - Rank 0 -- move_people_waiting -- 3.3710093703120947e-06\n",
      "2022-09-26 09:44:31,785 - activity_manager - INFO - CMS: People COMS for rank 0/1 - 3.824010491371155e-06,3.5762786865234375e-06 - 2020-05-24 17:00:00\n",
      "2022-09-26 09:44:31,793 - simulator - INFO - Info for rank 0, Date = 2020-05-24 17:00:00, number of deaths =  0, number of infected = 245\n",
      "2022-09-26 09:44:31,935 - rank - INFO - Rank 0 -- interaction -- 0.14861023498815484\n",
      "2022-09-26 09:44:31,938 - tracker - INFO - Rank 0 -- tracking contacts -- 389 of 389 of type learning_center\n",
      "2022-09-26 09:44:31,947 - tracker - INFO - Rank 0 -- tracking contacts -- 8 of 8 of type hospital\n",
      "2022-09-26 09:44:31,948 - tracker - INFO - Rank 0 -- tracking contacts -- 8 of 8 of type isolation_unit\n",
      "2022-09-26 09:44:31,956 - tracker - INFO - Rank 0 -- tracking contacts -- 500 of 3257 of type shelter\n",
      "2022-09-26 09:44:32,461 - tracker - INFO - Rank 0 -- tracking contacts -- 115 of 115 of type communal\n",
      "2022-09-26 09:44:32,463 - tracker - INFO - Rank 0 -- tracking contacts -- 21 of 21 of type distribution_center\n",
      "2022-09-26 09:44:32,502 - tracker - INFO - Rank 0 -- tracking contacts -- 7 of 7 of type e_voucher\n",
      "2022-09-26 09:44:32,518 - tracker - INFO - Rank 0 -- tracking contacts -- 67 of 67 of type female_communal\n",
      "2022-09-26 09:44:32,520 - tracker - INFO - Rank 0 -- tracking contacts -- 80 of 80 of type informal_work\n",
      "2022-09-26 09:44:32,618 - tracker - INFO - Rank 0 -- tracking contacts -- 41 of 41 of type n_f_distribution_center\n",
      "2022-09-26 09:44:32,672 - tracker - INFO - Rank 0 -- tracking contacts -- 500 of 536 of type play_group\n",
      "2022-09-26 09:44:33,007 - tracker - INFO - Rank 0 -- tracking contacts -- 82 of 82 of type pump_latrine\n",
      "2022-09-26 09:44:35,369 - tracker - INFO - Rank 0 -- tracking contacts -- 500 of 2065 of type religious\n",
      "2022-09-26 09:44:35,699 - rank - INFO - Rank 0 -- tracker -- 3.762588355981279\n",
      "2022-09-26 09:44:35,705 - epidemiology - INFO - CMS: Infection COMS-v2 for rank 0/1(2)0.0009138820169027895,0.0009136199951171875 - 2020-05-24 17:00:00\n",
      "2022-09-26 09:44:35,748 - rank - INFO - Rank 0 -- interaction_waiting -- 7.961003575474024e-06\n",
      "2022-09-26 09:44:35,762 - simulator - INFO - CMS: Timestep for rank 0/1 - 4.728015522006899,4.72801661491394 - 2020-05-24 17:00:00\n",
      "\n",
      "2022-09-26 09:44:35,763 - rank - INFO - Next timestep\n",
      "2022-09-26 09:44:35,764 - simulator - INFO - ==================== timestep ====================\n",
      "2022-09-26 09:44:35,963 - rank - INFO - Rank 0 -- move_people -- 0.1986276079842355\n",
      "2022-09-26 09:44:35,964 - rank - INFO - Rank 0 -- move_people_waiting -- 6.754999049007893e-06\n",
      "2022-09-26 09:44:35,965 - activity_manager - INFO - CMS: People COMS for rank 0/1 - 3.821012796834111e-06,3.337860107421875e-06 - 2020-05-24 19:00:00\n",
      "2022-09-26 09:44:35,973 - simulator - INFO - Info for rank 0, Date = 2020-05-24 19:00:00, number of deaths =  0, number of infected = 250\n",
      "2022-09-26 09:44:36,063 - rank - INFO - Rank 0 -- interaction -- 0.09792435599956661\n",
      "2022-09-26 09:44:36,068 - tracker - INFO - Rank 0 -- tracking contacts -- 389 of 389 of type learning_center\n",
      "2022-09-26 09:44:36,078 - tracker - INFO - Rank 0 -- tracking contacts -- 8 of 8 of type hospital\n",
      "2022-09-26 09:44:36,081 - tracker - INFO - Rank 0 -- tracking contacts -- 8 of 8 of type isolation_unit\n",
      "2022-09-26 09:44:36,092 - tracker - INFO - Rank 0 -- tracking contacts -- 500 of 3257 of type shelter\n",
      "2022-09-26 09:44:37,506 - tracker - INFO - Rank 0 -- tracking contacts -- 115 of 115 of type communal\n",
      "2022-09-26 09:44:37,511 - tracker - INFO - Rank 0 -- tracking contacts -- 21 of 21 of type distribution_center\n",
      "2022-09-26 09:44:37,513 - tracker - INFO - Rank 0 -- tracking contacts -- 7 of 7 of type e_voucher\n",
      "2022-09-26 09:44:37,515 - tracker - INFO - Rank 0 -- tracking contacts -- 67 of 67 of type female_communal\n",
      "2022-09-26 09:44:37,518 - tracker - INFO - Rank 0 -- tracking contacts -- 80 of 80 of type informal_work\n",
      "2022-09-26 09:44:37,523 - tracker - INFO - Rank 0 -- tracking contacts -- 41 of 41 of type n_f_distribution_center\n",
      "2022-09-26 09:44:37,528 - tracker - INFO - Rank 0 -- tracking contacts -- 500 of 536 of type play_group\n",
      "2022-09-26 09:44:37,545 - tracker - INFO - Rank 0 -- tracking contacts -- 82 of 82 of type pump_latrine\n",
      "2022-09-26 09:44:37,565 - tracker - INFO - Rank 0 -- tracking contacts -- 500 of 2065 of type religious\n",
      "2022-09-26 09:44:37,582 - rank - INFO - Rank 0 -- tracker -- 1.515221288020257\n",
      "2022-09-26 09:44:37,616 - epidemiology - INFO - CMS: Infection COMS-v2 for rank 0/1(2)0.00039662598283030093,0.00039649009704589844 - 2020-05-24 19:00:00\n",
      "2022-09-26 09:44:37,658 - rank - INFO - Rank 0 -- interaction_waiting -- 6.9029920268803835e-06\n",
      "2022-09-26 09:44:37,680 - simulator - INFO - CMS: Timestep for rank 0/1 - 1.9152005609939806,1.9152016639709473 - 2020-05-24 19:00:00\n",
      "\n",
      "2022-09-26 09:44:37,683 - rank - INFO - Next timestep\n",
      "2022-09-26 09:44:37,684 - simulator - INFO - ==================== timestep ====================\n",
      "2022-09-26 09:44:38,073 - rank - INFO - Rank 0 -- move_people -- 0.3873601389932446\n",
      "2022-09-26 09:44:38,074 - rank - INFO - Rank 0 -- move_people_waiting -- 9.710027370601892e-06\n",
      "2022-09-26 09:44:38,074 - activity_manager - INFO - CMS: People COMS for rank 0/1 - 4.655012162402272e-06,4.291534423828125e-06 - 2020-05-25 09:00:00\n",
      "2022-09-26 09:44:38,084 - simulator - INFO - Info for rank 0, Date = 2020-05-25 09:00:00, number of deaths =  0, number of infected = 290\n",
      "2022-09-26 09:44:38,193 - rank - INFO - Rank 0 -- interaction -- 0.11735449300613254\n",
      "2022-09-26 09:44:44,325 - tracker - INFO - Rank 0 -- tracking contacts -- 389 of 389 of type learning_center\n",
      "2022-09-26 09:44:45,251 - tracker - INFO - Rank 0 -- tracking contacts -- 8 of 8 of type hospital\n",
      "2022-09-26 09:44:45,262 - tracker - INFO - Rank 0 -- tracking contacts -- 8 of 8 of type isolation_unit\n",
      "2022-09-26 09:44:45,270 - tracker - INFO - Rank 0 -- tracking contacts -- 500 of 3257 of type shelter\n"
     ]
    },
    {
     "name": "stdout",
     "output_type": "stream",
     "text": [
      "2022-09-26 09:44:46,193 - tracker - INFO - Rank 0 -- tracking contacts -- 115 of 115 of type communal\n",
      "2022-09-26 09:44:46,196 - tracker - INFO - Rank 0 -- tracking contacts -- 21 of 21 of type distribution_center\n",
      "2022-09-26 09:44:46,198 - tracker - INFO - Rank 0 -- tracking contacts -- 7 of 7 of type e_voucher\n",
      "2022-09-26 09:44:46,200 - tracker - INFO - Rank 0 -- tracking contacts -- 67 of 67 of type female_communal\n",
      "2022-09-26 09:44:46,203 - tracker - INFO - Rank 0 -- tracking contacts -- 80 of 80 of type informal_work\n",
      "2022-09-26 09:44:46,206 - tracker - INFO - Rank 0 -- tracking contacts -- 41 of 41 of type n_f_distribution_center\n",
      "2022-09-26 09:44:46,210 - tracker - INFO - Rank 0 -- tracking contacts -- 500 of 536 of type play_group\n",
      "2022-09-26 09:44:46,225 - tracker - INFO - Rank 0 -- tracking contacts -- 82 of 82 of type pump_latrine\n",
      "2022-09-26 09:44:46,244 - tracker - INFO - Rank 0 -- tracking contacts -- 500 of 2065 of type religious\n",
      "2022-09-26 09:44:46,257 - rank - INFO - Rank 0 -- tracker -- 8.062911246001022\n",
      "2022-09-26 09:44:46,264 - epidemiology - INFO - CMS: Infection COMS-v2 for rank 0/1(2)0.001541325997095555,0.0015413761138916016 - 2020-05-25 09:00:00\n",
      "2022-09-26 09:44:46,314 - rank - INFO - Rank 0 -- interaction_waiting -- 6.2899780459702015e-06\n",
      "2022-09-26 09:44:46,328 - simulator - INFO - CMS: Timestep for rank 0/1 - 8.643130109005142,8.643131017684937 - 2020-05-25 09:00:00\n",
      "\n",
      "2022-09-26 09:44:46,331 - rank - INFO - Next timestep\n",
      "2022-09-26 09:44:46,332 - simulator - INFO - ==================== timestep ====================\n",
      "2022-09-26 09:44:47,226 - rank - INFO - Rank 0 -- move_people -- 0.8930283640220296\n",
      "2022-09-26 09:44:47,227 - rank - INFO - Rank 0 -- move_people_waiting -- 8.911010809242725e-06\n",
      "2022-09-26 09:44:47,227 - activity_manager - INFO - CMS: People COMS for rank 0/1 - 3.935012500733137e-06,3.814697265625e-06 - 2020-05-25 11:00:00\n",
      "2022-09-26 09:44:47,234 - simulator - INFO - Info for rank 0, Date = 2020-05-25 11:00:00, number of deaths =  0, number of infected = 296\n",
      "2022-09-26 09:44:47,377 - rank - INFO - Rank 0 -- interaction -- 0.14820453300490044\n",
      "2022-09-26 09:44:48,606 - tracker - INFO - Rank 0 -- tracking contacts -- 389 of 389 of type learning_center\n",
      "2022-09-26 09:44:49,760 - tracker - INFO - Rank 0 -- tracking contacts -- 8 of 8 of type hospital\n",
      "2022-09-26 09:44:49,771 - tracker - INFO - Rank 0 -- tracking contacts -- 8 of 8 of type isolation_unit\n",
      "2022-09-26 09:44:49,782 - tracker - INFO - Rank 0 -- tracking contacts -- 500 of 3257 of type shelter\n",
      "2022-09-26 09:44:50,257 - tracker - INFO - Rank 0 -- tracking contacts -- 115 of 115 of type communal\n",
      "2022-09-26 09:44:50,283 - tracker - INFO - Rank 0 -- tracking contacts -- 21 of 21 of type distribution_center\n",
      "2022-09-26 09:44:50,315 - tracker - INFO - Rank 0 -- tracking contacts -- 7 of 7 of type e_voucher\n",
      "2022-09-26 09:44:50,332 - tracker - INFO - Rank 0 -- tracking contacts -- 67 of 67 of type female_communal\n",
      "2022-09-26 09:44:50,374 - tracker - INFO - Rank 0 -- tracking contacts -- 80 of 80 of type informal_work\n",
      "2022-09-26 09:44:50,467 - tracker - INFO - Rank 0 -- tracking contacts -- 41 of 41 of type n_f_distribution_center\n",
      "2022-09-26 09:44:50,518 - tracker - INFO - Rank 0 -- tracking contacts -- 500 of 536 of type play_group\n",
      "2022-09-26 09:44:50,837 - tracker - INFO - Rank 0 -- tracking contacts -- 82 of 82 of type pump_latrine\n",
      "2022-09-26 09:44:52,952 - tracker - INFO - Rank 0 -- tracking contacts -- 500 of 2065 of type religious\n",
      "2022-09-26 09:44:53,243 - rank - INFO - Rank 0 -- tracker -- 5.864802252006484\n",
      "2022-09-26 09:44:53,250 - epidemiology - INFO - CMS: Infection COMS-v2 for rank 0/1(2)0.0004172869957983494,0.0004165172576904297 - 2020-05-25 11:00:00\n",
      "2022-09-26 09:44:53,296 - rank - INFO - Rank 0 -- interaction_waiting -- 7.79700349085033e-06\n",
      "2022-09-26 09:44:53,318 - simulator - INFO - CMS: Timestep for rank 0/1 - 6.984821750986157,6.984822511672974 - 2020-05-25 11:00:00\n",
      "\n",
      "2022-09-26 09:44:53,320 - rank - INFO - Next timestep\n",
      "2022-09-26 09:44:53,322 - simulator - INFO - ==================== timestep ====================\n",
      "2022-09-26 09:44:54,146 - rank - INFO - Rank 0 -- move_people -- 0.8235298170184251\n",
      "2022-09-26 09:44:54,148 - rank - INFO - Rank 0 -- move_people_waiting -- 4.4330081436783075e-06\n",
      "2022-09-26 09:44:54,148 - activity_manager - INFO - CMS: People COMS for rank 0/1 - 4.857021849602461e-06,4.5299530029296875e-06 - 2020-05-25 13:00:00\n",
      "2022-09-26 09:44:54,155 - simulator - INFO - Info for rank 0, Date = 2020-05-25 13:00:00, number of deaths =  0, number of infected = 308\n",
      "2022-09-26 09:44:54,309 - rank - INFO - Rank 0 -- interaction -- 0.15985813102452084\n",
      "2022-09-26 09:44:57,310 - tracker - INFO - Rank 0 -- tracking contacts -- 389 of 389 of type learning_center\n",
      "2022-09-26 09:44:58,285 - tracker - INFO - Rank 0 -- tracking contacts -- 8 of 8 of type hospital\n",
      "2022-09-26 09:44:58,295 - tracker - INFO - Rank 0 -- tracking contacts -- 8 of 8 of type isolation_unit\n",
      "2022-09-26 09:44:58,303 - tracker - INFO - Rank 0 -- tracking contacts -- 500 of 3257 of type shelter\n",
      "2022-09-26 09:44:58,716 - tracker - INFO - Rank 0 -- tracking contacts -- 115 of 115 of type communal\n",
      "2022-09-26 09:44:58,744 - tracker - INFO - Rank 0 -- tracking contacts -- 21 of 21 of type distribution_center\n",
      "2022-09-26 09:44:58,770 - tracker - INFO - Rank 0 -- tracking contacts -- 7 of 7 of type e_voucher\n",
      "2022-09-26 09:44:58,785 - tracker - INFO - Rank 0 -- tracking contacts -- 67 of 67 of type female_communal\n",
      "2022-09-26 09:44:58,843 - tracker - INFO - Rank 0 -- tracking contacts -- 80 of 80 of type informal_work\n",
      "2022-09-26 09:44:58,921 - tracker - INFO - Rank 0 -- tracking contacts -- 41 of 41 of type n_f_distribution_center\n",
      "2022-09-26 09:44:58,962 - tracker - INFO - Rank 0 -- tracking contacts -- 500 of 536 of type play_group\n",
      "2022-09-26 09:44:59,248 - tracker - INFO - Rank 0 -- tracking contacts -- 82 of 82 of type pump_latrine\n",
      "2022-09-26 09:45:01,309 - tracker - INFO - Rank 0 -- tracking contacts -- 500 of 2065 of type religious\n",
      "2022-09-26 09:45:01,614 - rank - INFO - Rank 0 -- tracker -- 7.303675221017329\n",
      "2022-09-26 09:45:01,619 - epidemiology - INFO - CMS: Infection COMS-v2 for rank 0/1(2)0.00022634599008597434,0.00022530555725097656 - 2020-05-25 13:00:00\n",
      "2022-09-26 09:45:01,652 - rank - INFO - Rank 0 -- interaction_waiting -- 6.9029920268803835e-06\n",
      "2022-09-26 09:45:01,665 - simulator - INFO - CMS: Timestep for rank 0/1 - 8.342325764009729,8.342326641082764 - 2020-05-25 13:00:00\n",
      "\n",
      "2022-09-26 09:45:01,667 - rank - INFO - Next timestep\n",
      "2022-09-26 09:45:01,668 - simulator - INFO - ==================== timestep ====================\n",
      "2022-09-26 09:45:02,621 - rank - INFO - Rank 0 -- move_people -- 0.9520671860082075\n",
      "2022-09-26 09:45:02,622 - rank - INFO - Rank 0 -- move_people_waiting -- 7.144000846892595e-06\n",
      "2022-09-26 09:45:02,623 - activity_manager - INFO - CMS: People COMS for rank 0/1 - 3.6959827411919832e-06,3.5762786865234375e-06 - 2020-05-25 15:00:00\n",
      "2022-09-26 09:45:02,628 - simulator - INFO - Info for rank 0, Date = 2020-05-25 15:00:00, number of deaths =  0, number of infected = 316\n",
      "2022-09-26 09:45:02,769 - rank - INFO - Rank 0 -- interaction -- 0.14497573499102145\n",
      "2022-09-26 09:45:06,726 - tracker - INFO - Rank 0 -- tracking contacts -- 389 of 389 of type learning_center\n",
      "2022-09-26 09:45:07,646 - tracker - INFO - Rank 0 -- tracking contacts -- 8 of 8 of type hospital\n",
      "2022-09-26 09:45:07,655 - tracker - INFO - Rank 0 -- tracking contacts -- 8 of 8 of type isolation_unit\n",
      "2022-09-26 09:45:07,662 - tracker - INFO - Rank 0 -- tracking contacts -- 500 of 3257 of type shelter\n",
      "2022-09-26 09:45:08,071 - tracker - INFO - Rank 0 -- tracking contacts -- 115 of 115 of type communal\n",
      "2022-09-26 09:45:08,098 - tracker - INFO - Rank 0 -- tracking contacts -- 21 of 21 of type distribution_center\n",
      "2022-09-26 09:45:08,129 - tracker - INFO - Rank 0 -- tracking contacts -- 7 of 7 of type e_voucher\n",
      "2022-09-26 09:45:08,142 - tracker - INFO - Rank 0 -- tracking contacts -- 67 of 67 of type female_communal\n",
      "2022-09-26 09:45:08,191 - tracker - INFO - Rank 0 -- tracking contacts -- 80 of 80 of type informal_work\n",
      "2022-09-26 09:45:08,265 - tracker - INFO - Rank 0 -- tracking contacts -- 41 of 41 of type n_f_distribution_center\n"
     ]
    },
    {
     "name": "stdout",
     "output_type": "stream",
     "text": [
      "2022-09-26 09:45:08,317 - tracker - INFO - Rank 0 -- tracking contacts -- 500 of 536 of type play_group\n",
      "2022-09-26 09:45:08,596 - tracker - INFO - Rank 0 -- tracking contacts -- 82 of 82 of type pump_latrine\n",
      "2022-09-26 09:45:10,530 - tracker - INFO - Rank 0 -- tracking contacts -- 500 of 2065 of type religious\n",
      "2022-09-26 09:45:10,782 - rank - INFO - Rank 0 -- tracker -- 8.012728373025311\n",
      "2022-09-26 09:45:10,791 - epidemiology - INFO - CMS: Infection COMS-v2 for rank 0/1(2)0.0003405110037419945,0.00033974647521972656 - 2020-05-25 15:00:00\n",
      "2022-09-26 09:45:10,841 - rank - INFO - Rank 0 -- interaction_waiting -- 8.684990461915731e-06\n",
      "2022-09-26 09:45:10,862 - simulator - INFO - CMS: Timestep for rank 0/1 - 9.192782715021167,9.192783832550049 - 2020-05-25 15:00:00\n",
      "\n",
      "2022-09-26 09:45:10,865 - rank - INFO - Next timestep\n",
      "2022-09-26 09:45:10,866 - simulator - INFO - ==================== timestep ====================\n",
      "2022-09-26 09:45:11,889 - rank - INFO - Rank 0 -- move_people -- 1.0218138379859738\n",
      "2022-09-26 09:45:11,890 - rank - INFO - Rank 0 -- move_people_waiting -- 8.169998181983829e-06\n",
      "2022-09-26 09:45:11,891 - activity_manager - INFO - CMS: People COMS for rank 0/1 - 4.603993147611618e-06,4.5299530029296875e-06 - 2020-05-25 17:00:00\n",
      "2022-09-26 09:45:11,897 - simulator - INFO - Info for rank 0, Date = 2020-05-25 17:00:00, number of deaths =  0, number of infected = 333\n",
      "2022-09-26 09:45:12,059 - rank - INFO - Rank 0 -- interaction -- 0.16738657100358978\n",
      "2022-09-26 09:45:17,298 - tracker - INFO - Rank 0 -- tracking contacts -- 389 of 389 of type learning_center\n",
      "2022-09-26 09:45:17,313 - tracker - INFO - Rank 0 -- tracking contacts -- 8 of 8 of type hospital\n",
      "2022-09-26 09:45:17,314 - tracker - INFO - Rank 0 -- tracking contacts -- 8 of 8 of type isolation_unit\n",
      "2022-09-26 09:45:17,322 - tracker - INFO - Rank 0 -- tracking contacts -- 500 of 3257 of type shelter\n",
      "2022-09-26 09:45:17,850 - tracker - INFO - Rank 0 -- tracking contacts -- 115 of 115 of type communal\n",
      "2022-09-26 09:45:17,852 - tracker - INFO - Rank 0 -- tracking contacts -- 21 of 21 of type distribution_center\n",
      "2022-09-26 09:45:17,891 - tracker - INFO - Rank 0 -- tracking contacts -- 7 of 7 of type e_voucher\n",
      "2022-09-26 09:45:17,906 - tracker - INFO - Rank 0 -- tracking contacts -- 67 of 67 of type female_communal\n",
      "2022-09-26 09:45:17,909 - tracker - INFO - Rank 0 -- tracking contacts -- 80 of 80 of type informal_work\n",
      "2022-09-26 09:45:18,006 - tracker - INFO - Rank 0 -- tracking contacts -- 41 of 41 of type n_f_distribution_center\n",
      "2022-09-26 09:45:18,068 - tracker - INFO - Rank 0 -- tracking contacts -- 500 of 536 of type play_group\n",
      "2022-09-26 09:45:18,403 - tracker - INFO - Rank 0 -- tracking contacts -- 82 of 82 of type pump_latrine\n",
      "2022-09-26 09:45:20,668 - tracker - INFO - Rank 0 -- tracking contacts -- 500 of 2065 of type religious\n",
      "2022-09-26 09:45:20,980 - rank - INFO - Rank 0 -- tracker -- 8.91948878299445\n",
      "2022-09-26 09:45:20,989 - epidemiology - INFO - CMS: Infection COMS-v2 for rank 0/1(2)0.00022415598505176604,0.00022363662719726562 - 2020-05-25 17:00:00\n",
      "2022-09-26 09:45:21,028 - rank - INFO - Rank 0 -- interaction_waiting -- 6.674003088846803e-06\n",
      "2022-09-26 09:45:21,043 - simulator - INFO - CMS: Timestep for rank 0/1 - 10.175416816986399,10.175417423248291 - 2020-05-25 17:00:00\n",
      "\n",
      "2022-09-26 09:45:21,045 - rank - INFO - Next timestep\n",
      "2022-09-26 09:45:21,047 - simulator - INFO - ==================== timestep ====================\n",
      "2022-09-26 09:45:21,233 - rank - INFO - Rank 0 -- move_people -- 0.18569957301951945\n",
      "2022-09-26 09:45:21,234 - rank - INFO - Rank 0 -- move_people_waiting -- 7.171998731791973e-06\n",
      "2022-09-26 09:45:21,236 - activity_manager - INFO - CMS: People COMS for rank 0/1 - 4.2539904825389385e-06,3.814697265625e-06 - 2020-05-25 19:00:00\n",
      "2022-09-26 09:45:21,241 - simulator - INFO - Info for rank 0, Date = 2020-05-25 19:00:00, number of deaths =  0, number of infected = 345\n",
      "2022-09-26 09:45:21,335 - rank - INFO - Rank 0 -- interaction -- 0.09802899000351317\n",
      "2022-09-26 09:45:27,245 - tracker - INFO - Rank 0 -- tracking contacts -- 389 of 389 of type learning_center\n",
      "2022-09-26 09:45:27,258 - tracker - INFO - Rank 0 -- tracking contacts -- 8 of 8 of type hospital\n",
      "2022-09-26 09:45:27,259 - tracker - INFO - Rank 0 -- tracking contacts -- 8 of 8 of type isolation_unit\n",
      "2022-09-26 09:45:27,266 - tracker - INFO - Rank 0 -- tracking contacts -- 500 of 3257 of type shelter\n",
      "2022-09-26 09:45:28,441 - tracker - INFO - Rank 0 -- tracking contacts -- 115 of 115 of type communal\n",
      "2022-09-26 09:45:28,443 - tracker - INFO - Rank 0 -- tracking contacts -- 21 of 21 of type distribution_center\n",
      "2022-09-26 09:45:28,444 - tracker - INFO - Rank 0 -- tracking contacts -- 7 of 7 of type e_voucher\n",
      "2022-09-26 09:45:28,445 - tracker - INFO - Rank 0 -- tracking contacts -- 67 of 67 of type female_communal\n",
      "2022-09-26 09:45:28,448 - tracker - INFO - Rank 0 -- tracking contacts -- 80 of 80 of type informal_work\n",
      "2022-09-26 09:45:28,451 - tracker - INFO - Rank 0 -- tracking contacts -- 41 of 41 of type n_f_distribution_center\n",
      "2022-09-26 09:45:28,453 - tracker - INFO - Rank 0 -- tracking contacts -- 500 of 536 of type play_group\n",
      "2022-09-26 09:45:28,463 - tracker - INFO - Rank 0 -- tracking contacts -- 82 of 82 of type pump_latrine\n",
      "2022-09-26 09:45:28,475 - tracker - INFO - Rank 0 -- tracking contacts -- 500 of 2065 of type religious\n",
      "2022-09-26 09:45:28,484 - rank - INFO - Rank 0 -- tracker -- 7.148071486997651\n",
      "2022-09-26 09:45:28,518 - epidemiology - INFO - CMS: Infection COMS-v2 for rank 0/1(2)0.0002543599985074252,0.0002536773681640625 - 2020-05-25 19:00:00\n",
      "2022-09-26 09:45:28,554 - rank - INFO - Rank 0 -- interaction_waiting -- 7.263995939865708e-06\n",
      "2022-09-26 09:45:28,568 - simulator - INFO - CMS: Timestep for rank 0/1 - 7.520045526995091,7.520046234130859 - 2020-05-25 19:00:00\n",
      "\n",
      "2022-09-26 09:45:28,570 - rank - INFO - Next timestep\n",
      "2022-09-26 09:45:28,570 - simulator - INFO - ==================== timestep ====================\n",
      "2022-09-26 09:45:28,777 - rank - INFO - Rank 0 -- move_people -- 0.20579958998132497\n",
      "2022-09-26 09:45:28,778 - rank - INFO - Rank 0 -- move_people_waiting -- 8.343980880454183e-06\n",
      "2022-09-26 09:45:28,778 - activity_manager - INFO - CMS: People COMS for rank 0/1 - 3.188994014635682e-06,3.0994415283203125e-06 - 2020-05-26 09:00:00\n",
      "2022-09-26 09:45:28,786 - simulator - INFO - Info for rank 0, Date = 2020-05-26 09:00:00, number of deaths =  0, number of infected = 403\n",
      "2022-09-26 09:45:28,877 - rank - INFO - Rank 0 -- interaction -- 0.09777359498548321\n",
      "2022-09-26 09:45:34,892 - tracker - INFO - Rank 0 -- tracking contacts -- 389 of 389 of type learning_center\n",
      "2022-09-26 09:45:35,857 - tracker - INFO - Rank 0 -- tracking contacts -- 8 of 8 of type hospital\n",
      "2022-09-26 09:45:35,868 - tracker - INFO - Rank 0 -- tracking contacts -- 8 of 8 of type isolation_unit\n",
      "2022-09-26 09:45:35,876 - tracker - INFO - Rank 0 -- tracking contacts -- 500 of 3257 of type shelter\n",
      "2022-09-26 09:45:36,806 - tracker - INFO - Rank 0 -- tracking contacts -- 115 of 115 of type communal\n",
      "2022-09-26 09:45:36,809 - tracker - INFO - Rank 0 -- tracking contacts -- 21 of 21 of type distribution_center\n",
      "2022-09-26 09:45:36,811 - tracker - INFO - Rank 0 -- tracking contacts -- 7 of 7 of type e_voucher\n",
      "2022-09-26 09:45:36,814 - tracker - INFO - Rank 0 -- tracking contacts -- 67 of 67 of type female_communal\n",
      "2022-09-26 09:45:36,816 - tracker - INFO - Rank 0 -- tracking contacts -- 80 of 80 of type informal_work\n",
      "2022-09-26 09:45:36,819 - tracker - INFO - Rank 0 -- tracking contacts -- 41 of 41 of type n_f_distribution_center\n",
      "2022-09-26 09:45:36,822 - tracker - INFO - Rank 0 -- tracking contacts -- 500 of 536 of type play_group\n",
      "2022-09-26 09:45:36,833 - tracker - INFO - Rank 0 -- tracking contacts -- 82 of 82 of type pump_latrine\n",
      "2022-09-26 09:45:36,849 - tracker - INFO - Rank 0 -- tracking contacts -- 500 of 2065 of type religious\n",
      "2022-09-26 09:45:36,860 - rank - INFO - Rank 0 -- tracker -- 7.981718678987818\n",
      "2022-09-26 09:45:36,870 - epidemiology - INFO - CMS: Infection COMS-v2 for rank 0/1(2)0.0009331530018243939,0.0009319782257080078 - 2020-05-26 09:00:00\n",
      "2022-09-26 09:45:36,910 - rank - INFO - Rank 0 -- interaction_waiting -- 6.500980816781521e-06\n"
     ]
    },
    {
     "name": "stdout",
     "output_type": "stream",
     "text": [
      "2022-09-26 09:45:36,925 - simulator - INFO - CMS: Timestep for rank 0/1 - 8.35349902798771,8.35349988937378 - 2020-05-26 09:00:00\n",
      "\n",
      "2022-09-26 09:45:36,928 - rank - INFO - Next timestep\n",
      "2022-09-26 09:45:36,929 - simulator - INFO - ==================== timestep ====================\n",
      "2022-09-26 09:45:37,895 - rank - INFO - Rank 0 -- move_people -- 0.9648226489953231\n",
      "2022-09-26 09:45:37,896 - rank - INFO - Rank 0 -- move_people_waiting -- 8.503993740305305e-06\n",
      "2022-09-26 09:45:37,896 - activity_manager - INFO - CMS: People COMS for rank 0/1 - 3.903987817466259e-06,4.0531158447265625e-06 - 2020-05-26 11:00:00\n",
      "2022-09-26 09:45:37,903 - simulator - INFO - Info for rank 0, Date = 2020-05-26 11:00:00, number of deaths =  0, number of infected = 418\n",
      "2022-09-26 09:45:38,062 - rank - INFO - Rank 0 -- interaction -- 0.16488273499999195\n",
      "2022-09-26 09:45:39,182 - tracker - INFO - Rank 0 -- tracking contacts -- 389 of 389 of type learning_center\n",
      "2022-09-26 09:45:40,428 - tracker - INFO - Rank 0 -- tracking contacts -- 8 of 8 of type hospital\n",
      "2022-09-26 09:45:40,440 - tracker - INFO - Rank 0 -- tracking contacts -- 8 of 8 of type isolation_unit\n",
      "2022-09-26 09:45:40,449 - tracker - INFO - Rank 0 -- tracking contacts -- 500 of 3257 of type shelter\n",
      "2022-09-26 09:45:41,098 - tracker - INFO - Rank 0 -- tracking contacts -- 115 of 115 of type communal\n",
      "2022-09-26 09:45:41,130 - tracker - INFO - Rank 0 -- tracking contacts -- 21 of 21 of type distribution_center\n",
      "2022-09-26 09:45:41,163 - tracker - INFO - Rank 0 -- tracking contacts -- 7 of 7 of type e_voucher\n",
      "2022-09-26 09:45:41,181 - tracker - INFO - Rank 0 -- tracking contacts -- 67 of 67 of type female_communal\n",
      "2022-09-26 09:45:41,233 - tracker - INFO - Rank 0 -- tracking contacts -- 80 of 80 of type informal_work\n",
      "2022-09-26 09:45:41,313 - tracker - INFO - Rank 0 -- tracking contacts -- 41 of 41 of type n_f_distribution_center\n",
      "2022-09-26 09:45:41,391 - tracker - INFO - Rank 0 -- tracking contacts -- 500 of 536 of type play_group\n",
      "2022-09-26 09:45:41,792 - tracker - INFO - Rank 0 -- tracking contacts -- 82 of 82 of type pump_latrine\n",
      "2022-09-26 09:45:44,863 - tracker - INFO - Rank 0 -- tracking contacts -- 500 of 2065 of type religious\n",
      "2022-09-26 09:45:45,276 - rank - INFO - Rank 0 -- tracker -- 7.212308903981466\n",
      "2022-09-26 09:45:45,287 - epidemiology - INFO - CMS: Infection COMS-v2 for rank 0/1(2)0.0003538910241331905,0.0003533363342285156 - 2020-05-26 11:00:00\n",
      "2022-09-26 09:45:45,343 - rank - INFO - Rank 0 -- interaction_waiting -- 8.94500408321619e-06\n",
      "2022-09-26 09:45:45,368 - simulator - INFO - CMS: Timestep for rank 0/1 - 8.4376563509868,8.437657594680786 - 2020-05-26 11:00:00\n",
      "\n",
      "2022-09-26 09:45:45,371 - rank - INFO - Next timestep\n",
      "2022-09-26 09:45:45,372 - simulator - INFO - ==================== timestep ====================\n",
      "2022-09-26 09:45:46,470 - rank - INFO - Rank 0 -- move_people -- 1.0975793490069918\n",
      "2022-09-26 09:45:46,472 - rank - INFO - Rank 0 -- move_people_waiting -- 1.2648000847548246e-05\n",
      "2022-09-26 09:45:46,474 - activity_manager - INFO - CMS: People COMS for rank 0/1 - 5.409005098044872e-06,4.76837158203125e-06 - 2020-05-26 13:00:00\n",
      "2022-09-26 09:45:46,483 - simulator - INFO - Info for rank 0, Date = 2020-05-26 13:00:00, number of deaths =  0, number of infected = 434\n",
      "2022-09-26 09:45:46,755 - rank - INFO - Rank 0 -- interaction -- 0.2799695619905833\n",
      "2022-09-26 09:45:50,737 - tracker - INFO - Rank 0 -- tracking contacts -- 389 of 389 of type learning_center\n",
      "2022-09-26 09:45:51,935 - tracker - INFO - Rank 0 -- tracking contacts -- 8 of 8 of type hospital\n",
      "2022-09-26 09:45:51,945 - tracker - INFO - Rank 0 -- tracking contacts -- 8 of 8 of type isolation_unit\n",
      "2022-09-26 09:45:51,954 - tracker - INFO - Rank 0 -- tracking contacts -- 500 of 3257 of type shelter\n",
      "2022-09-26 09:45:52,489 - tracker - INFO - Rank 0 -- tracking contacts -- 115 of 115 of type communal\n",
      "2022-09-26 09:45:52,517 - tracker - INFO - Rank 0 -- tracking contacts -- 21 of 21 of type distribution_center\n",
      "2022-09-26 09:45:52,548 - tracker - INFO - Rank 0 -- tracking contacts -- 7 of 7 of type e_voucher\n",
      "2022-09-26 09:45:52,560 - tracker - INFO - Rank 0 -- tracking contacts -- 67 of 67 of type female_communal\n",
      "2022-09-26 09:45:52,602 - tracker - INFO - Rank 0 -- tracking contacts -- 80 of 80 of type informal_work\n",
      "2022-09-26 09:45:52,687 - tracker - INFO - Rank 0 -- tracking contacts -- 41 of 41 of type n_f_distribution_center\n",
      "2022-09-26 09:45:52,733 - tracker - INFO - Rank 0 -- tracking contacts -- 500 of 536 of type play_group\n",
      "2022-09-26 09:45:53,049 - tracker - INFO - Rank 0 -- tracking contacts -- 82 of 82 of type pump_latrine\n",
      "2022-09-26 09:45:55,172 - tracker - INFO - Rank 0 -- tracking contacts -- 500 of 2065 of type religious\n",
      "2022-09-26 09:45:55,414 - rank - INFO - Rank 0 -- tracker -- 8.658018838003045\n",
      "2022-09-26 09:45:55,419 - epidemiology - INFO - CMS: Infection COMS-v2 for rank 0/1(2)0.0002572190132923424,0.0002570152282714844 - 2020-05-26 13:00:00\n",
      "2022-09-26 09:45:55,454 - rank - INFO - Rank 0 -- interaction_waiting -- 6.852991646155715e-06\n",
      "2022-09-26 09:45:55,470 - simulator - INFO - CMS: Timestep for rank 0/1 - 10.09704378299648,10.097045421600342 - 2020-05-26 13:00:00\n",
      "\n",
      "2022-09-26 09:45:55,473 - rank - INFO - Next timestep\n",
      "2022-09-26 09:45:55,474 - simulator - INFO - ==================== timestep ====================\n",
      "2022-09-26 09:45:56,301 - rank - INFO - Rank 0 -- move_people -- 0.8257039489981253\n",
      "2022-09-26 09:45:56,302 - rank - INFO - Rank 0 -- move_people_waiting -- 3.736990038305521e-06\n",
      "2022-09-26 09:45:56,303 - activity_manager - INFO - CMS: People COMS for rank 0/1 - 4.864996299147606e-06,4.76837158203125e-06 - 2020-05-26 15:00:00\n",
      "2022-09-26 09:45:56,311 - simulator - INFO - Info for rank 0, Date = 2020-05-26 15:00:00, number of deaths =  0, number of infected = 442\n",
      "2022-09-26 09:45:56,495 - rank - INFO - Rank 0 -- interaction -- 0.19058315199799836\n",
      "2022-09-26 09:46:01,165 - tracker - INFO - Rank 0 -- tracking contacts -- 389 of 389 of type learning_center\n",
      "2022-09-26 09:46:02,170 - tracker - INFO - Rank 0 -- tracking contacts -- 8 of 8 of type hospital\n",
      "2022-09-26 09:46:02,181 - tracker - INFO - Rank 0 -- tracking contacts -- 8 of 8 of type isolation_unit\n",
      "2022-09-26 09:46:02,189 - tracker - INFO - Rank 0 -- tracking contacts -- 500 of 3257 of type shelter\n",
      "2022-09-26 09:46:02,683 - tracker - INFO - Rank 0 -- tracking contacts -- 115 of 115 of type communal\n",
      "2022-09-26 09:46:02,712 - tracker - INFO - Rank 0 -- tracking contacts -- 21 of 21 of type distribution_center\n",
      "2022-09-26 09:46:02,737 - tracker - INFO - Rank 0 -- tracking contacts -- 7 of 7 of type e_voucher\n",
      "2022-09-26 09:46:02,747 - tracker - INFO - Rank 0 -- tracking contacts -- 67 of 67 of type female_communal\n",
      "2022-09-26 09:46:02,803 - tracker - INFO - Rank 0 -- tracking contacts -- 80 of 80 of type informal_work\n",
      "2022-09-26 09:46:02,895 - tracker - INFO - Rank 0 -- tracking contacts -- 41 of 41 of type n_f_distribution_center\n",
      "2022-09-26 09:46:02,954 - tracker - INFO - Rank 0 -- tracking contacts -- 500 of 536 of type play_group\n",
      "2022-09-26 09:46:03,239 - tracker - INFO - Rank 0 -- tracking contacts -- 82 of 82 of type pump_latrine\n",
      "2022-09-26 09:46:05,233 - tracker - INFO - Rank 0 -- tracking contacts -- 500 of 2065 of type religious\n",
      "2022-09-26 09:46:05,533 - rank - INFO - Rank 0 -- tracker -- 9.036192725994624\n",
      "2022-09-26 09:46:05,550 - epidemiology - INFO - CMS: Infection COMS-v2 for rank 0/1(2)0.00024258802295662463,0.0002422332763671875 - 2020-05-26 15:00:00\n",
      "2022-09-26 09:46:05,613 - rank - INFO - Rank 0 -- interaction_waiting -- 8.314003935083747e-06\n",
      "2022-09-26 09:46:05,633 - simulator - INFO - CMS: Timestep for rank 0/1 - 10.157969715015497,10.157970666885376 - 2020-05-26 15:00:00\n",
      "\n",
      "2022-09-26 09:46:05,636 - rank - INFO - Next timestep\n",
      "2022-09-26 09:46:05,638 - simulator - INFO - ==================== timestep ====================\n",
      "2022-09-26 09:46:06,859 - rank - INFO - Rank 0 -- move_people -- 1.2202330110012554\n",
      "2022-09-26 09:46:06,860 - rank - INFO - Rank 0 -- move_people_waiting -- 8.981995051726699e-06\n",
      "2022-09-26 09:46:06,861 - activity_manager - INFO - CMS: People COMS for rank 0/1 - 5.032023182138801e-06,4.76837158203125e-06 - 2020-05-26 17:00:00\n",
      "2022-09-26 09:46:06,869 - simulator - INFO - Info for rank 0, Date = 2020-05-26 17:00:00, number of deaths =  0, number of infected = 468\n"
     ]
    },
    {
     "name": "stdout",
     "output_type": "stream",
     "text": [
      "2022-09-26 09:46:07,089 - rank - INFO - Rank 0 -- interaction -- 0.22705547499936074\n",
      "2022-09-26 09:46:12,619 - tracker - INFO - Rank 0 -- tracking contacts -- 389 of 389 of type learning_center\n",
      "2022-09-26 09:46:12,629 - tracker - INFO - Rank 0 -- tracking contacts -- 8 of 8 of type hospital\n",
      "2022-09-26 09:46:12,630 - tracker - INFO - Rank 0 -- tracking contacts -- 8 of 8 of type isolation_unit\n",
      "2022-09-26 09:46:12,639 - tracker - INFO - Rank 0 -- tracking contacts -- 500 of 3257 of type shelter\n",
      "2022-09-26 09:46:13,147 - tracker - INFO - Rank 0 -- tracking contacts -- 115 of 115 of type communal\n",
      "2022-09-26 09:46:13,151 - tracker - INFO - Rank 0 -- tracking contacts -- 21 of 21 of type distribution_center\n",
      "2022-09-26 09:46:13,184 - tracker - INFO - Rank 0 -- tracking contacts -- 7 of 7 of type e_voucher\n",
      "2022-09-26 09:46:13,196 - tracker - INFO - Rank 0 -- tracking contacts -- 67 of 67 of type female_communal\n",
      "2022-09-26 09:46:13,199 - tracker - INFO - Rank 0 -- tracking contacts -- 80 of 80 of type informal_work\n",
      "2022-09-26 09:46:13,293 - tracker - INFO - Rank 0 -- tracking contacts -- 41 of 41 of type n_f_distribution_center\n",
      "2022-09-26 09:46:13,353 - tracker - INFO - Rank 0 -- tracking contacts -- 500 of 536 of type play_group\n",
      "2022-09-26 09:46:13,702 - tracker - INFO - Rank 0 -- tracking contacts -- 82 of 82 of type pump_latrine\n",
      "2022-09-26 09:46:15,907 - tracker - INFO - Rank 0 -- tracking contacts -- 500 of 2065 of type religious\n",
      "2022-09-26 09:46:16,182 - rank - INFO - Rank 0 -- tracker -- 9.09112792101223\n",
      "2022-09-26 09:46:16,192 - epidemiology - INFO - CMS: Infection COMS-v2 for rank 0/1(2)0.00036917999386787415,0.0003688335418701172 - 2020-05-26 17:00:00\n",
      "2022-09-26 09:46:16,230 - rank - INFO - Rank 0 -- interaction_waiting -- 6.674003088846803e-06\n",
      "2022-09-26 09:46:16,246 - simulator - INFO - CMS: Timestep for rank 0/1 - 10.607415603997651,10.60741662979126 - 2020-05-26 17:00:00\n",
      "\n",
      "2022-09-26 09:46:16,249 - rank - INFO - Next timestep\n",
      "2022-09-26 09:46:16,250 - simulator - INFO - ==================== timestep ====================\n",
      "2022-09-26 09:46:16,423 - rank - INFO - Rank 0 -- move_people -- 0.1725392900116276\n",
      "2022-09-26 09:46:16,424 - rank - INFO - Rank 0 -- move_people_waiting -- 7.50197796151042e-06\n",
      "2022-09-26 09:46:16,424 - activity_manager - INFO - CMS: People COMS for rank 0/1 - 3.3669930417090654e-06,3.0994415283203125e-06 - 2020-05-26 19:00:00\n",
      "2022-09-26 09:46:16,432 - simulator - INFO - Info for rank 0, Date = 2020-05-26 19:00:00, number of deaths =  0, number of infected = 491\n",
      "2022-09-26 09:46:16,526 - rank - INFO - Rank 0 -- interaction -- 0.10030184799688868\n",
      "2022-09-26 09:46:22,076 - tracker - INFO - Rank 0 -- tracking contacts -- 389 of 389 of type learning_center\n",
      "2022-09-26 09:46:22,090 - tracker - INFO - Rank 0 -- tracking contacts -- 8 of 8 of type hospital\n",
      "2022-09-26 09:46:22,092 - tracker - INFO - Rank 0 -- tracking contacts -- 8 of 8 of type isolation_unit\n",
      "2022-09-26 09:46:22,103 - tracker - INFO - Rank 0 -- tracking contacts -- 500 of 3257 of type shelter\n",
      "2022-09-26 09:46:23,222 - tracker - INFO - Rank 0 -- tracking contacts -- 115 of 115 of type communal\n",
      "2022-09-26 09:46:23,225 - tracker - INFO - Rank 0 -- tracking contacts -- 21 of 21 of type distribution_center\n",
      "2022-09-26 09:46:23,227 - tracker - INFO - Rank 0 -- tracking contacts -- 7 of 7 of type e_voucher\n",
      "2022-09-26 09:46:23,228 - tracker - INFO - Rank 0 -- tracking contacts -- 67 of 67 of type female_communal\n",
      "2022-09-26 09:46:23,231 - tracker - INFO - Rank 0 -- tracking contacts -- 80 of 80 of type informal_work\n",
      "2022-09-26 09:46:23,233 - tracker - INFO - Rank 0 -- tracking contacts -- 41 of 41 of type n_f_distribution_center\n",
      "2022-09-26 09:46:23,237 - tracker - INFO - Rank 0 -- tracking contacts -- 500 of 536 of type play_group\n",
      "2022-09-26 09:46:23,246 - tracker - INFO - Rank 0 -- tracking contacts -- 82 of 82 of type pump_latrine\n",
      "2022-09-26 09:46:23,259 - tracker - INFO - Rank 0 -- tracking contacts -- 500 of 2065 of type religious\n",
      "2022-09-26 09:46:23,267 - rank - INFO - Rank 0 -- tracker -- 6.741074195015244\n",
      "2022-09-26 09:46:23,305 - epidemiology - INFO - CMS: Infection COMS-v2 for rank 0/1(2)0.0002228319935966283,0.0002219676971435547 - 2020-05-26 19:00:00\n",
      "2022-09-26 09:46:23,345 - rank - INFO - Rank 0 -- interaction_waiting -- 7.152993930503726e-06\n",
      "2022-09-26 09:46:23,360 - simulator - INFO - CMS: Timestep for rank 0/1 - 7.109956396016059,7.109957695007324 - 2020-05-26 19:00:00\n",
      "\n",
      "2022-09-26 09:46:23,363 - rank - INFO - Next timestep\n",
      "2022-09-26 09:46:23,364 - simulator - INFO - ==================== timestep ====================\n",
      "2022-09-26 09:46:23,572 - rank - INFO - Rank 0 -- move_people -- 0.2066989199956879\n",
      "2022-09-26 09:46:23,572 - rank - INFO - Rank 0 -- move_people_waiting -- 6.743997801095247e-06\n",
      "2022-09-26 09:46:23,573 - activity_manager - INFO - CMS: People COMS for rank 0/1 - 3.914989065378904e-06,3.5762786865234375e-06 - 2020-05-27 09:00:00\n",
      "2022-09-26 09:46:23,580 - simulator - INFO - Info for rank 0, Date = 2020-05-27 09:00:00, number of deaths =  0, number of infected = 573\n",
      "2022-09-26 09:46:23,677 - rank - INFO - Rank 0 -- interaction -- 0.10240045099635608\n",
      "2022-09-26 09:46:29,742 - tracker - INFO - Rank 0 -- tracking contacts -- 389 of 389 of type learning_center\n",
      "2022-09-26 09:46:30,653 - tracker - INFO - Rank 0 -- tracking contacts -- 8 of 8 of type hospital\n",
      "2022-09-26 09:46:30,663 - tracker - INFO - Rank 0 -- tracking contacts -- 8 of 8 of type isolation_unit\n",
      "2022-09-26 09:46:30,670 - tracker - INFO - Rank 0 -- tracking contacts -- 500 of 3257 of type shelter\n",
      "2022-09-26 09:46:31,531 - tracker - INFO - Rank 0 -- tracking contacts -- 115 of 115 of type communal\n",
      "2022-09-26 09:46:31,533 - tracker - INFO - Rank 0 -- tracking contacts -- 21 of 21 of type distribution_center\n",
      "2022-09-26 09:46:31,535 - tracker - INFO - Rank 0 -- tracking contacts -- 7 of 7 of type e_voucher\n",
      "2022-09-26 09:46:31,537 - tracker - INFO - Rank 0 -- tracking contacts -- 67 of 67 of type female_communal\n",
      "2022-09-26 09:46:31,540 - tracker - INFO - Rank 0 -- tracking contacts -- 80 of 80 of type informal_work\n",
      "2022-09-26 09:46:31,544 - tracker - INFO - Rank 0 -- tracking contacts -- 41 of 41 of type n_f_distribution_center\n",
      "2022-09-26 09:46:31,548 - tracker - INFO - Rank 0 -- tracking contacts -- 500 of 536 of type play_group\n",
      "2022-09-26 09:46:31,563 - tracker - INFO - Rank 0 -- tracking contacts -- 82 of 82 of type pump_latrine\n",
      "2022-09-26 09:46:31,580 - tracker - INFO - Rank 0 -- tracking contacts -- 500 of 2065 of type religious\n",
      "2022-09-26 09:46:31,593 - rank - INFO - Rank 0 -- tracker -- 7.9155977579939645\n",
      "2022-09-26 09:46:31,609 - epidemiology - INFO - CMS: Infection COMS-v2 for rank 0/1(2)0.0009637449984438717,0.0009627342224121094 - 2020-05-27 09:00:00\n",
      "2022-09-26 09:46:31,654 - rank - INFO - Rank 0 -- interaction_waiting -- 6.79297954775393e-06\n",
      "2022-09-26 09:46:31,669 - simulator - INFO - CMS: Timestep for rank 0/1 - 8.30364036600804,8.303641557693481 - 2020-05-27 09:00:00\n",
      "\n",
      "2022-09-26 09:46:31,671 - rank - INFO - Next timestep\n",
      "2022-09-26 09:46:31,672 - simulator - INFO - ==================== timestep ====================\n",
      "2022-09-26 09:46:32,464 - rank - INFO - Rank 0 -- move_people -- 0.7905863399791997\n",
      "2022-09-26 09:46:32,465 - rank - INFO - Rank 0 -- move_people_waiting -- 7.696013199165463e-06\n",
      "2022-09-26 09:46:32,465 - activity_manager - INFO - CMS: People COMS for rank 0/1 - 3.4910044632852077e-06,3.337860107421875e-06 - 2020-05-27 11:00:00\n",
      "2022-09-26 09:46:32,473 - simulator - INFO - Info for rank 0, Date = 2020-05-27 11:00:00, number of deaths =  0, number of infected = 595\n",
      "2022-09-26 09:46:32,645 - rank - INFO - Rank 0 -- interaction -- 0.17944326100405306\n",
      "2022-09-26 09:46:33,792 - tracker - INFO - Rank 0 -- tracking contacts -- 389 of 389 of type learning_center\n",
      "2022-09-26 09:46:34,726 - tracker - INFO - Rank 0 -- tracking contacts -- 8 of 8 of type hospital\n",
      "2022-09-26 09:46:34,736 - tracker - INFO - Rank 0 -- tracking contacts -- 8 of 8 of type isolation_unit\n",
      "2022-09-26 09:46:34,743 - tracker - INFO - Rank 0 -- tracking contacts -- 500 of 3257 of type shelter\n",
      "2022-09-26 09:46:35,163 - tracker - INFO - Rank 0 -- tracking contacts -- 115 of 115 of type communal\n",
      "2022-09-26 09:46:35,186 - tracker - INFO - Rank 0 -- tracking contacts -- 21 of 21 of type distribution_center\n"
     ]
    },
    {
     "name": "stdout",
     "output_type": "stream",
     "text": [
      "2022-09-26 09:46:35,208 - tracker - INFO - Rank 0 -- tracking contacts -- 7 of 7 of type e_voucher\n",
      "2022-09-26 09:46:35,220 - tracker - INFO - Rank 0 -- tracking contacts -- 67 of 67 of type female_communal\n",
      "2022-09-26 09:46:35,259 - tracker - INFO - Rank 0 -- tracking contacts -- 80 of 80 of type informal_work\n",
      "2022-09-26 09:46:35,335 - tracker - INFO - Rank 0 -- tracking contacts -- 41 of 41 of type n_f_distribution_center\n",
      "2022-09-26 09:46:35,390 - tracker - INFO - Rank 0 -- tracking contacts -- 500 of 536 of type play_group\n",
      "2022-09-26 09:46:35,672 - tracker - INFO - Rank 0 -- tracking contacts -- 82 of 82 of type pump_latrine\n",
      "2022-09-26 09:46:37,475 - tracker - INFO - Rank 0 -- tracking contacts -- 500 of 2065 of type religious\n",
      "2022-09-26 09:46:37,719 - rank - INFO - Rank 0 -- tracker -- 5.07293181802379\n",
      "2022-09-26 09:46:37,729 - epidemiology - INFO - CMS: Infection COMS-v2 for rank 0/1(2)0.0004154960042797029,0.0004153251647949219 - 2020-05-27 11:00:00\n",
      "2022-09-26 09:46:37,765 - rank - INFO - Rank 0 -- interaction_waiting -- 7.188995368778706e-06\n",
      "2022-09-26 09:46:37,778 - simulator - INFO - CMS: Timestep for rank 0/1 - 6.104430830979254,6.104432106018066 - 2020-05-27 11:00:00\n",
      "\n",
      "2022-09-26 09:46:37,781 - rank - INFO - Next timestep\n",
      "2022-09-26 09:46:37,781 - simulator - INFO - ==================== timestep ====================\n",
      "2022-09-26 09:46:38,497 - rank - INFO - Rank 0 -- move_people -- 0.7147394929779693\n",
      "2022-09-26 09:46:38,498 - rank - INFO - Rank 0 -- move_people_waiting -- 5.843990948051214e-06\n",
      "2022-09-26 09:46:38,499 - activity_manager - INFO - CMS: People COMS for rank 0/1 - 3.989989636465907e-06,3.814697265625e-06 - 2020-05-27 13:00:00\n",
      "2022-09-26 09:46:38,506 - simulator - INFO - Info for rank 0, Date = 2020-05-27 13:00:00, number of deaths =  0, number of infected = 617\n",
      "2022-09-26 09:46:38,669 - rank - INFO - Rank 0 -- interaction -- 0.16955644899280742\n",
      "2022-09-26 09:46:41,343 - tracker - INFO - Rank 0 -- tracking contacts -- 389 of 389 of type learning_center\n",
      "2022-09-26 09:46:42,223 - tracker - INFO - Rank 0 -- tracking contacts -- 8 of 8 of type hospital\n",
      "2022-09-26 09:46:42,233 - tracker - INFO - Rank 0 -- tracking contacts -- 8 of 8 of type isolation_unit\n",
      "2022-09-26 09:46:42,240 - tracker - INFO - Rank 0 -- tracking contacts -- 500 of 3257 of type shelter\n",
      "2022-09-26 09:46:42,631 - tracker - INFO - Rank 0 -- tracking contacts -- 115 of 115 of type communal\n",
      "2022-09-26 09:46:42,657 - tracker - INFO - Rank 0 -- tracking contacts -- 21 of 21 of type distribution_center\n",
      "2022-09-26 09:46:42,680 - tracker - INFO - Rank 0 -- tracking contacts -- 7 of 7 of type e_voucher\n",
      "2022-09-26 09:46:42,692 - tracker - INFO - Rank 0 -- tracking contacts -- 67 of 67 of type female_communal\n",
      "2022-09-26 09:46:42,737 - tracker - INFO - Rank 0 -- tracking contacts -- 80 of 80 of type informal_work\n",
      "2022-09-26 09:46:42,810 - tracker - INFO - Rank 0 -- tracking contacts -- 41 of 41 of type n_f_distribution_center\n",
      "2022-09-26 09:46:42,850 - tracker - INFO - Rank 0 -- tracking contacts -- 500 of 536 of type play_group\n",
      "2022-09-26 09:46:43,113 - tracker - INFO - Rank 0 -- tracking contacts -- 82 of 82 of type pump_latrine\n",
      "2022-09-26 09:46:44,954 - tracker - INFO - Rank 0 -- tracking contacts -- 500 of 2065 of type religious\n",
      "2022-09-26 09:46:45,244 - rank - INFO - Rank 0 -- tracker -- 6.573689239972737\n",
      "2022-09-26 09:46:45,257 - epidemiology - INFO - CMS: Infection COMS-v2 for rank 0/1(2)0.0005980700079817325,0.0005977153778076172 - 2020-05-27 13:00:00\n",
      "2022-09-26 09:46:45,305 - rank - INFO - Rank 0 -- interaction_waiting -- 8.77099228091538e-06\n",
      "2022-09-26 09:46:45,321 - simulator - INFO - CMS: Timestep for rank 0/1 - 7.538437392999185,7.538438558578491 - 2020-05-27 13:00:00\n",
      "\n",
      "2022-09-26 09:46:45,323 - rank - INFO - Next timestep\n",
      "2022-09-26 09:46:45,324 - simulator - INFO - ==================== timestep ====================\n",
      "2022-09-26 09:46:46,187 - rank - INFO - Rank 0 -- move_people -- 0.8614277160086203\n",
      "2022-09-26 09:46:46,187 - rank - INFO - Rank 0 -- move_people_waiting -- 7.0499954745173454e-06\n",
      "2022-09-26 09:46:46,188 - activity_manager - INFO - CMS: People COMS for rank 0/1 - 4.141998942941427e-06,4.0531158447265625e-06 - 2020-05-27 15:00:00\n",
      "2022-09-26 09:46:46,195 - simulator - INFO - Info for rank 0, Date = 2020-05-27 15:00:00, number of deaths =  0, number of infected = 645\n",
      "2022-09-26 09:46:46,358 - rank - INFO - Rank 0 -- interaction -- 0.16889526598970406\n",
      "2022-09-26 09:46:50,529 - tracker - INFO - Rank 0 -- tracking contacts -- 389 of 389 of type learning_center\n",
      "2022-09-26 09:46:51,472 - tracker - INFO - Rank 0 -- tracking contacts -- 8 of 8 of type hospital\n",
      "2022-09-26 09:46:51,485 - tracker - INFO - Rank 0 -- tracking contacts -- 8 of 8 of type isolation_unit\n",
      "2022-09-26 09:46:51,492 - tracker - INFO - Rank 0 -- tracking contacts -- 500 of 3257 of type shelter\n",
      "2022-09-26 09:46:51,929 - tracker - INFO - Rank 0 -- tracking contacts -- 115 of 115 of type communal\n",
      "2022-09-26 09:46:51,956 - tracker - INFO - Rank 0 -- tracking contacts -- 21 of 21 of type distribution_center\n",
      "2022-09-26 09:46:51,985 - tracker - INFO - Rank 0 -- tracking contacts -- 7 of 7 of type e_voucher\n",
      "2022-09-26 09:46:52,002 - tracker - INFO - Rank 0 -- tracking contacts -- 67 of 67 of type female_communal\n",
      "2022-09-26 09:46:52,050 - tracker - INFO - Rank 0 -- tracking contacts -- 80 of 80 of type informal_work\n",
      "2022-09-26 09:46:52,165 - tracker - INFO - Rank 0 -- tracking contacts -- 41 of 41 of type n_f_distribution_center\n",
      "2022-09-26 09:46:52,215 - tracker - INFO - Rank 0 -- tracking contacts -- 500 of 536 of type play_group\n",
      "2022-09-26 09:46:52,496 - tracker - INFO - Rank 0 -- tracking contacts -- 82 of 82 of type pump_latrine\n",
      "2022-09-26 09:46:54,410 - tracker - INFO - Rank 0 -- tracking contacts -- 500 of 2065 of type religious\n",
      "2022-09-26 09:46:54,676 - rank - INFO - Rank 0 -- tracker -- 8.317444927000906\n",
      "2022-09-26 09:46:54,699 - epidemiology - INFO - CMS: Infection COMS-v2 for rank 0/1(2)0.00086209099390544,0.0008609294891357422 - 2020-05-27 15:00:00\n",
      "2022-09-26 09:46:54,740 - rank - INFO - Rank 0 -- interaction_waiting -- 8.23699519969523e-06\n",
      "2022-09-26 09:46:54,755 - simulator - INFO - CMS: Timestep for rank 0/1 - 9.429417615989223,9.429418563842773 - 2020-05-27 15:00:00\n",
      "\n",
      "2022-09-26 09:46:54,757 - rank - INFO - Next timestep\n",
      "2022-09-26 09:46:54,758 - simulator - INFO - ==================== timestep ====================\n",
      "2022-09-26 09:46:55,895 - rank - INFO - Rank 0 -- move_people -- 1.1357752449985128\n",
      "2022-09-26 09:46:55,896 - rank - INFO - Rank 0 -- move_people_waiting -- 6.551999831572175e-06\n",
      "2022-09-26 09:46:55,896 - activity_manager - INFO - CMS: People COMS for rank 0/1 - 3.5159755498170853e-06,3.0994415283203125e-06 - 2020-05-27 17:00:00\n",
      "2022-09-26 09:46:55,904 - simulator - INFO - Info for rank 0, Date = 2020-05-27 17:00:00, number of deaths =  0, number of infected = 677\n",
      "2022-09-26 09:46:56,090 - rank - INFO - Rank 0 -- interaction -- 0.19289601701893844\n",
      "2022-09-26 09:47:01,137 - tracker - INFO - Rank 0 -- tracking contacts -- 389 of 389 of type learning_center\n",
      "2022-09-26 09:47:01,147 - tracker - INFO - Rank 0 -- tracking contacts -- 8 of 8 of type hospital\n",
      "2022-09-26 09:47:01,148 - tracker - INFO - Rank 0 -- tracking contacts -- 8 of 8 of type isolation_unit\n",
      "2022-09-26 09:47:01,154 - tracker - INFO - Rank 0 -- tracking contacts -- 500 of 3257 of type shelter\n",
      "2022-09-26 09:47:01,628 - tracker - INFO - Rank 0 -- tracking contacts -- 115 of 115 of type communal\n",
      "2022-09-26 09:47:01,630 - tracker - INFO - Rank 0 -- tracking contacts -- 21 of 21 of type distribution_center\n",
      "2022-09-26 09:47:01,661 - tracker - INFO - Rank 0 -- tracking contacts -- 7 of 7 of type e_voucher\n",
      "2022-09-26 09:47:01,674 - tracker - INFO - Rank 0 -- tracking contacts -- 67 of 67 of type female_communal\n",
      "2022-09-26 09:47:01,677 - tracker - INFO - Rank 0 -- tracking contacts -- 80 of 80 of type informal_work\n",
      "2022-09-26 09:47:01,767 - tracker - INFO - Rank 0 -- tracking contacts -- 41 of 41 of type n_f_distribution_center\n",
      "2022-09-26 09:47:01,812 - tracker - INFO - Rank 0 -- tracking contacts -- 500 of 536 of type play_group\n",
      "2022-09-26 09:47:02,164 - tracker - INFO - Rank 0 -- tracking contacts -- 82 of 82 of type pump_latrine\n"
     ]
    },
    {
     "name": "stdout",
     "output_type": "stream",
     "text": [
      "2022-09-26 09:47:04,370 - tracker - INFO - Rank 0 -- tracking contacts -- 500 of 2065 of type religious\n",
      "2022-09-26 09:47:04,643 - rank - INFO - Rank 0 -- tracker -- 8.55189006900764\n",
      "2022-09-26 09:47:04,655 - epidemiology - INFO - CMS: Infection COMS-v2 for rank 0/1(2)0.0005552809743676335,0.0005545616149902344 - 2020-05-27 17:00:00\n",
      "2022-09-26 09:47:04,691 - rank - INFO - Rank 0 -- interaction_waiting -- 1.254398375749588e-05\n",
      "2022-09-26 09:47:04,704 - simulator - INFO - CMS: Timestep for rank 0/1 - 9.944769670022652,9.944770097732544 - 2020-05-27 17:00:00\n",
      "\n",
      "2022-09-26 09:47:04,706 - rank - INFO - Next timestep\n",
      "2022-09-26 09:47:04,707 - simulator - INFO - ==================== timestep ====================\n",
      "2022-09-26 09:47:04,877 - rank - INFO - Rank 0 -- move_people -- 0.16870971501339227\n",
      "2022-09-26 09:47:04,878 - rank - INFO - Rank 0 -- move_people_waiting -- 7.171998731791973e-06\n",
      "2022-09-26 09:47:04,878 - activity_manager - INFO - CMS: People COMS for rank 0/1 - 3.838009433820844e-06,3.337860107421875e-06 - 2020-05-27 19:00:00\n",
      "2022-09-26 09:47:04,885 - simulator - INFO - Info for rank 0, Date = 2020-05-27 19:00:00, number of deaths =  0, number of infected = 705\n",
      "2022-09-26 09:47:04,995 - rank - INFO - Rank 0 -- interaction -- 0.11635108198970556\n",
      "2022-09-26 09:47:10,822 - tracker - INFO - Rank 0 -- tracking contacts -- 389 of 389 of type learning_center\n",
      "2022-09-26 09:47:10,832 - tracker - INFO - Rank 0 -- tracking contacts -- 8 of 8 of type hospital\n",
      "2022-09-26 09:47:10,833 - tracker - INFO - Rank 0 -- tracking contacts -- 8 of 8 of type isolation_unit\n",
      "2022-09-26 09:47:10,840 - tracker - INFO - Rank 0 -- tracking contacts -- 500 of 3257 of type shelter\n",
      "2022-09-26 09:47:11,966 - tracker - INFO - Rank 0 -- tracking contacts -- 115 of 115 of type communal\n",
      "2022-09-26 09:47:11,968 - tracker - INFO - Rank 0 -- tracking contacts -- 21 of 21 of type distribution_center\n",
      "2022-09-26 09:47:11,970 - tracker - INFO - Rank 0 -- tracking contacts -- 7 of 7 of type e_voucher\n",
      "2022-09-26 09:47:11,972 - tracker - INFO - Rank 0 -- tracking contacts -- 67 of 67 of type female_communal\n",
      "2022-09-26 09:47:11,975 - tracker - INFO - Rank 0 -- tracking contacts -- 80 of 80 of type informal_work\n",
      "2022-09-26 09:47:11,978 - tracker - INFO - Rank 0 -- tracking contacts -- 41 of 41 of type n_f_distribution_center\n",
      "2022-09-26 09:47:11,982 - tracker - INFO - Rank 0 -- tracking contacts -- 500 of 536 of type play_group\n",
      "2022-09-26 09:47:11,994 - tracker - INFO - Rank 0 -- tracking contacts -- 82 of 82 of type pump_latrine\n",
      "2022-09-26 09:47:12,008 - tracker - INFO - Rank 0 -- tracking contacts -- 500 of 2065 of type religious\n",
      "2022-09-26 09:47:12,016 - rank - INFO - Rank 0 -- tracker -- 7.01940117101185\n",
      "2022-09-26 09:47:12,070 - epidemiology - INFO - CMS: Infection COMS-v2 for rank 0/1(2)0.00027288298588246107,0.0002722740173339844 - 2020-05-27 19:00:00\n",
      "2022-09-26 09:47:12,129 - rank - INFO - Rank 0 -- interaction_waiting -- 7.916009053587914e-06\n",
      "2022-09-26 09:47:12,148 - simulator - INFO - CMS: Timestep for rank 0/1 - 7.439367987011792,7.439368963241577 - 2020-05-27 19:00:00\n",
      "\n",
      "2022-09-26 09:47:12,150 - rank - INFO - Next timestep\n",
      "2022-09-26 09:47:12,151 - simulator - INFO - ==================== timestep ====================\n",
      "2022-09-26 09:47:12,357 - rank - INFO - Rank 0 -- move_people -- 0.20564631902379915\n",
      "2022-09-26 09:47:12,358 - rank - INFO - Rank 0 -- move_people_waiting -- 4.5130145736038685e-06\n",
      "2022-09-26 09:47:12,359 - activity_manager - INFO - CMS: People COMS for rank 0/1 - 4.563975380733609e-06,4.0531158447265625e-06 - 2020-05-28 09:00:00\n",
      "2022-09-26 09:47:12,367 - simulator - INFO - Info for rank 0, Date = 2020-05-28 09:00:00, number of deaths =  0, number of infected = 834\n",
      "2022-09-26 09:47:12,473 - rank - INFO - Rank 0 -- interaction -- 0.11319740299950354\n",
      "2022-09-26 09:47:18,394 - tracker - INFO - Rank 0 -- tracking contacts -- 389 of 389 of type learning_center\n",
      "2022-09-26 09:47:19,324 - tracker - INFO - Rank 0 -- tracking contacts -- 8 of 8 of type hospital\n",
      "2022-09-26 09:47:19,335 - tracker - INFO - Rank 0 -- tracking contacts -- 8 of 8 of type isolation_unit\n",
      "2022-09-26 09:47:19,343 - tracker - INFO - Rank 0 -- tracking contacts -- 500 of 3257 of type shelter\n",
      "2022-09-26 09:47:20,178 - tracker - INFO - Rank 0 -- tracking contacts -- 115 of 115 of type communal\n",
      "2022-09-26 09:47:20,181 - tracker - INFO - Rank 0 -- tracking contacts -- 21 of 21 of type distribution_center\n",
      "2022-09-26 09:47:20,183 - tracker - INFO - Rank 0 -- tracking contacts -- 7 of 7 of type e_voucher\n",
      "2022-09-26 09:47:20,184 - tracker - INFO - Rank 0 -- tracking contacts -- 67 of 67 of type female_communal\n",
      "2022-09-26 09:47:20,188 - tracker - INFO - Rank 0 -- tracking contacts -- 80 of 80 of type informal_work\n",
      "2022-09-26 09:47:20,191 - tracker - INFO - Rank 0 -- tracking contacts -- 41 of 41 of type n_f_distribution_center\n",
      "2022-09-26 09:47:20,195 - tracker - INFO - Rank 0 -- tracking contacts -- 500 of 536 of type play_group\n",
      "2022-09-26 09:47:20,210 - tracker - INFO - Rank 0 -- tracking contacts -- 82 of 82 of type pump_latrine\n",
      "2022-09-26 09:47:20,224 - tracker - INFO - Rank 0 -- tracking contacts -- 500 of 2065 of type religious\n",
      "2022-09-26 09:47:20,236 - rank - INFO - Rank 0 -- tracker -- 7.761787873983849\n",
      "2022-09-26 09:47:20,251 - epidemiology - INFO - CMS: Infection COMS-v2 for rank 0/1(2)0.0003696289786603302,0.0003695487976074219 - 2020-05-28 09:00:00\n",
      "2022-09-26 09:47:20,300 - rank - INFO - Rank 0 -- interaction_waiting -- 7.5039861258119345e-06\n",
      "2022-09-26 09:47:20,314 - simulator - INFO - CMS: Timestep for rank 0/1 - 8.162779841019074,8.16278076171875 - 2020-05-28 09:00:00\n",
      "\n",
      "2022-09-26 09:47:20,317 - rank - INFO - Next timestep\n",
      "2022-09-26 09:47:20,317 - simulator - INFO - ==================== timestep ====================\n",
      "2022-09-26 09:47:21,180 - rank - INFO - Rank 0 -- move_people -- 0.8613525409891736\n",
      "2022-09-26 09:47:21,180 - rank - INFO - Rank 0 -- move_people_waiting -- 6.914982805028558e-06\n",
      "2022-09-26 09:47:21,181 - activity_manager - INFO - CMS: People COMS for rank 0/1 - 4.330999217927456e-06,4.291534423828125e-06 - 2020-05-28 11:00:00\n",
      "2022-09-26 09:47:21,189 - simulator - INFO - Info for rank 0, Date = 2020-05-28 11:00:00, number of deaths =  0, number of infected = 860\n",
      "2022-09-26 09:47:21,363 - rank - INFO - Rank 0 -- interaction -- 0.1806837529875338\n",
      "2022-09-26 09:47:22,477 - tracker - INFO - Rank 0 -- tracking contacts -- 389 of 389 of type learning_center\n",
      "2022-09-26 09:47:23,198 - tracker - INFO - Rank 0 -- tracking contacts -- 8 of 8 of type hospital\n",
      "2022-09-26 09:47:23,206 - tracker - INFO - Rank 0 -- tracking contacts -- 8 of 8 of type isolation_unit\n",
      "2022-09-26 09:47:23,211 - tracker - INFO - Rank 0 -- tracking contacts -- 500 of 3257 of type shelter\n",
      "2022-09-26 09:47:23,532 - tracker - INFO - Rank 0 -- tracking contacts -- 115 of 115 of type communal\n",
      "2022-09-26 09:47:23,554 - tracker - INFO - Rank 0 -- tracking contacts -- 21 of 21 of type distribution_center\n",
      "2022-09-26 09:47:23,582 - tracker - INFO - Rank 0 -- tracking contacts -- 7 of 7 of type e_voucher\n",
      "2022-09-26 09:47:23,597 - tracker - INFO - Rank 0 -- tracking contacts -- 67 of 67 of type female_communal\n",
      "2022-09-26 09:47:23,635 - tracker - INFO - Rank 0 -- tracking contacts -- 80 of 80 of type informal_work\n",
      "2022-09-26 09:47:23,702 - tracker - INFO - Rank 0 -- tracking contacts -- 41 of 41 of type n_f_distribution_center\n",
      "2022-09-26 09:47:23,738 - tracker - INFO - Rank 0 -- tracking contacts -- 500 of 536 of type play_group\n",
      "2022-09-26 09:47:23,958 - tracker - INFO - Rank 0 -- tracking contacts -- 82 of 82 of type pump_latrine\n",
      "2022-09-26 09:47:25,432 - tracker - INFO - Rank 0 -- tracking contacts -- 500 of 2065 of type religious\n",
      "2022-09-26 09:47:25,634 - rank - INFO - Rank 0 -- tracker -- 4.269787606986938\n",
      "2022-09-26 09:47:25,645 - epidemiology - INFO - CMS: Infection COMS-v2 for rank 0/1(2)0.00019040799816139042,0.0001900196075439453 - 2020-05-28 11:00:00\n",
      "2022-09-26 09:47:25,677 - rank - INFO - Rank 0 -- interaction_waiting -- 6.030022632330656e-06\n",
      "2022-09-26 09:47:25,689 - simulator - INFO - CMS: Timestep for rank 0/1 - 5.370957663981244,5.37095832824707 - 2020-05-28 11:00:00\n",
      "\n",
      "2022-09-26 09:47:25,692 - rank - INFO - Next timestep\n"
     ]
    },
    {
     "name": "stdout",
     "output_type": "stream",
     "text": [
      "2022-09-26 09:47:25,693 - simulator - INFO - ==================== timestep ====================\n",
      "2022-09-26 09:47:26,526 - rank - INFO - Rank 0 -- move_people -- 0.8328261279966682\n",
      "2022-09-26 09:47:26,527 - rank - INFO - Rank 0 -- move_people_waiting -- 8.77099228091538e-06\n",
      "2022-09-26 09:47:26,527 - activity_manager - INFO - CMS: People COMS for rank 0/1 - 2.8059876058250666e-06,2.6226043701171875e-06 - 2020-05-28 13:00:00\n",
      "2022-09-26 09:47:26,532 - simulator - INFO - Info for rank 0, Date = 2020-05-28 13:00:00, number of deaths =  0, number of infected = 891\n",
      "2022-09-26 09:47:26,693 - rank - INFO - Rank 0 -- interaction -- 0.16462918202159926\n",
      "2022-09-26 09:47:29,109 - tracker - INFO - Rank 0 -- tracking contacts -- 389 of 389 of type learning_center\n",
      "2022-09-26 09:47:30,027 - tracker - INFO - Rank 0 -- tracking contacts -- 8 of 8 of type hospital\n",
      "2022-09-26 09:47:30,037 - tracker - INFO - Rank 0 -- tracking contacts -- 8 of 8 of type isolation_unit\n",
      "2022-09-26 09:47:30,044 - tracker - INFO - Rank 0 -- tracking contacts -- 500 of 3257 of type shelter\n",
      "2022-09-26 09:47:30,460 - tracker - INFO - Rank 0 -- tracking contacts -- 115 of 115 of type communal\n",
      "2022-09-26 09:47:30,482 - tracker - INFO - Rank 0 -- tracking contacts -- 21 of 21 of type distribution_center\n",
      "2022-09-26 09:47:30,514 - tracker - INFO - Rank 0 -- tracking contacts -- 7 of 7 of type e_voucher\n",
      "2022-09-26 09:47:30,523 - tracker - INFO - Rank 0 -- tracking contacts -- 67 of 67 of type female_communal\n",
      "2022-09-26 09:47:30,567 - tracker - INFO - Rank 0 -- tracking contacts -- 80 of 80 of type informal_work\n",
      "2022-09-26 09:47:30,649 - tracker - INFO - Rank 0 -- tracking contacts -- 41 of 41 of type n_f_distribution_center\n",
      "2022-09-26 09:47:30,693 - tracker - INFO - Rank 0 -- tracking contacts -- 500 of 536 of type play_group\n",
      "2022-09-26 09:47:30,960 - tracker - INFO - Rank 0 -- tracking contacts -- 82 of 82 of type pump_latrine\n",
      "2022-09-26 09:47:32,978 - tracker - INFO - Rank 0 -- tracking contacts -- 500 of 2065 of type religious\n",
      "2022-09-26 09:47:33,234 - rank - INFO - Rank 0 -- tracker -- 6.540337276994251\n",
      "2022-09-26 09:47:33,251 - epidemiology - INFO - CMS: Infection COMS-v2 for rank 0/1(2)0.00022276400704868138,0.00022172927856445312 - 2020-05-28 13:00:00\n",
      "2022-09-26 09:47:33,292 - rank - INFO - Rank 0 -- interaction_waiting -- 8.6090003605932e-06\n",
      "2022-09-26 09:47:33,314 - simulator - INFO - CMS: Timestep for rank 0/1 - 7.620113867014879,7.620114803314209 - 2020-05-28 13:00:00\n",
      "\n",
      "2022-09-26 09:47:33,317 - rank - INFO - Next timestep\n",
      "2022-09-26 09:47:33,318 - simulator - INFO - ==================== timestep ====================\n",
      "2022-09-26 09:47:34,070 - rank - INFO - Rank 0 -- move_people -- 0.7510991040035151\n",
      "2022-09-26 09:47:34,071 - rank - INFO - Rank 0 -- move_people_waiting -- 7.788999937474728e-06\n",
      "2022-09-26 09:47:34,072 - activity_manager - INFO - CMS: People COMS for rank 0/1 - 3.991997800767422e-06,3.5762786865234375e-06 - 2020-05-28 15:00:00\n",
      "2022-09-26 09:47:34,078 - simulator - INFO - Info for rank 0, Date = 2020-05-28 15:00:00, number of deaths =  0, number of infected = 931\n",
      "2022-09-26 09:47:34,262 - rank - INFO - Rank 0 -- interaction -- 0.18970346299465746\n",
      "2022-09-26 09:47:38,322 - tracker - INFO - Rank 0 -- tracking contacts -- 389 of 389 of type learning_center\n",
      "2022-09-26 09:47:39,243 - tracker - INFO - Rank 0 -- tracking contacts -- 8 of 8 of type hospital\n",
      "2022-09-26 09:47:39,254 - tracker - INFO - Rank 0 -- tracking contacts -- 8 of 8 of type isolation_unit\n",
      "2022-09-26 09:47:39,261 - tracker - INFO - Rank 0 -- tracking contacts -- 500 of 3257 of type shelter\n",
      "2022-09-26 09:47:39,688 - tracker - INFO - Rank 0 -- tracking contacts -- 115 of 115 of type communal\n",
      "2022-09-26 09:47:39,709 - tracker - INFO - Rank 0 -- tracking contacts -- 21 of 21 of type distribution_center\n",
      "2022-09-26 09:47:39,733 - tracker - INFO - Rank 0 -- tracking contacts -- 7 of 7 of type e_voucher\n",
      "2022-09-26 09:47:39,743 - tracker - INFO - Rank 0 -- tracking contacts -- 67 of 67 of type female_communal\n",
      "2022-09-26 09:47:39,783 - tracker - INFO - Rank 0 -- tracking contacts -- 80 of 80 of type informal_work\n",
      "2022-09-26 09:47:39,863 - tracker - INFO - Rank 0 -- tracking contacts -- 41 of 41 of type n_f_distribution_center\n",
      "2022-09-26 09:47:39,927 - tracker - INFO - Rank 0 -- tracking contacts -- 500 of 536 of type play_group\n",
      "2022-09-26 09:47:40,201 - tracker - INFO - Rank 0 -- tracking contacts -- 82 of 82 of type pump_latrine\n",
      "2022-09-26 09:47:42,092 - tracker - INFO - Rank 0 -- tracking contacts -- 500 of 2065 of type religious\n",
      "2022-09-26 09:47:42,349 - rank - INFO - Rank 0 -- tracker -- 8.086162542982493\n",
      "2022-09-26 09:47:42,365 - epidemiology - INFO - CMS: Infection COMS-v2 for rank 0/1(2)0.0002450179890729487,0.0002446174621582031 - 2020-05-28 15:00:00\n",
      "2022-09-26 09:47:42,408 - rank - INFO - Rank 0 -- interaction_waiting -- 7.497001206502318e-06\n",
      "2022-09-26 09:47:42,423 - simulator - INFO - CMS: Timestep for rank 0/1 - 9.103875690983841,9.10387659072876 - 2020-05-28 15:00:00\n",
      "\n",
      "2022-09-26 09:47:42,425 - rank - INFO - Next timestep\n",
      "2022-09-26 09:47:42,426 - simulator - INFO - ==================== timestep ====================\n",
      "2022-09-26 09:47:43,242 - rank - INFO - Rank 0 -- move_people -- 0.8149405260046478\n",
      "2022-09-26 09:47:43,243 - rank - INFO - Rank 0 -- move_people_waiting -- 1.1096999514847994e-05\n",
      "2022-09-26 09:47:43,244 - activity_manager - INFO - CMS: People COMS for rank 0/1 - 4.015018930658698e-06,3.5762786865234375e-06 - 2020-05-28 17:00:00\n",
      "2022-09-26 09:47:43,251 - simulator - INFO - Info for rank 0, Date = 2020-05-28 17:00:00, number of deaths =  0, number of infected = 964\n",
      "2022-09-26 09:47:43,441 - rank - INFO - Rank 0 -- interaction -- 0.19617062000907026\n",
      "2022-09-26 09:47:47,705 - tracker - INFO - Rank 0 -- tracking contacts -- 389 of 389 of type learning_center\n",
      "2022-09-26 09:47:47,713 - tracker - INFO - Rank 0 -- tracking contacts -- 8 of 8 of type hospital\n",
      "2022-09-26 09:47:47,714 - tracker - INFO - Rank 0 -- tracking contacts -- 8 of 8 of type isolation_unit\n",
      "2022-09-26 09:47:47,719 - tracker - INFO - Rank 0 -- tracking contacts -- 500 of 3257 of type shelter\n",
      "2022-09-26 09:47:48,100 - tracker - INFO - Rank 0 -- tracking contacts -- 115 of 115 of type communal\n",
      "2022-09-26 09:47:48,102 - tracker - INFO - Rank 0 -- tracking contacts -- 21 of 21 of type distribution_center\n",
      "2022-09-26 09:47:48,129 - tracker - INFO - Rank 0 -- tracking contacts -- 7 of 7 of type e_voucher\n",
      "2022-09-26 09:47:48,138 - tracker - INFO - Rank 0 -- tracking contacts -- 67 of 67 of type female_communal\n",
      "2022-09-26 09:47:48,140 - tracker - INFO - Rank 0 -- tracking contacts -- 80 of 80 of type informal_work\n",
      "2022-09-26 09:47:48,212 - tracker - INFO - Rank 0 -- tracking contacts -- 41 of 41 of type n_f_distribution_center\n",
      "2022-09-26 09:47:48,257 - tracker - INFO - Rank 0 -- tracking contacts -- 500 of 536 of type play_group\n",
      "2022-09-26 09:47:48,554 - tracker - INFO - Rank 0 -- tracking contacts -- 82 of 82 of type pump_latrine\n",
      "2022-09-26 09:47:50,727 - tracker - INFO - Rank 0 -- tracking contacts -- 500 of 2065 of type religious\n",
      "2022-09-26 09:47:51,020 - rank - INFO - Rank 0 -- tracker -- 7.5786025039851665\n",
      "2022-09-26 09:47:51,043 - epidemiology - INFO - CMS: Infection COMS-v2 for rank 0/1(2)0.000559698004508391,0.0005593299865722656 - 2020-05-28 17:00:00\n",
      "2022-09-26 09:47:51,099 - rank - INFO - Rank 0 -- interaction_waiting -- 6.921996828168631e-06\n",
      "2022-09-26 09:47:51,113 - simulator - INFO - CMS: Timestep for rank 0/1 - 8.685664200980682,8.685665369033813 - 2020-05-28 17:00:00\n",
      "\n",
      "2022-09-26 09:47:51,116 - rank - INFO - Next timestep\n",
      "2022-09-26 09:47:51,117 - simulator - INFO - ==================== timestep ====================\n",
      "2022-09-26 09:47:51,351 - rank - INFO - Rank 0 -- move_people -- 0.23275224599638022\n",
      "2022-09-26 09:47:51,352 - rank - INFO - Rank 0 -- move_people_waiting -- 8.453993359580636e-06\n",
      "2022-09-26 09:47:51,353 - activity_manager - INFO - CMS: People COMS for rank 0/1 - 3.972003469243646e-06,3.5762786865234375e-06 - 2020-05-28 19:00:00\n",
      "2022-09-26 09:47:51,359 - simulator - INFO - Info for rank 0, Date = 2020-05-28 19:00:00, number of deaths =  0, number of infected = 1011\n",
      "2022-09-26 09:47:51,490 - rank - INFO - Rank 0 -- interaction -- 0.13618343000416644\n"
     ]
    },
    {
     "name": "stdout",
     "output_type": "stream",
     "text": [
      "2022-09-26 09:47:56,893 - tracker - INFO - Rank 0 -- tracking contacts -- 389 of 389 of type learning_center\n",
      "2022-09-26 09:47:56,902 - tracker - INFO - Rank 0 -- tracking contacts -- 8 of 8 of type hospital\n",
      "2022-09-26 09:47:56,903 - tracker - INFO - Rank 0 -- tracking contacts -- 8 of 8 of type isolation_unit\n",
      "2022-09-26 09:47:56,909 - tracker - INFO - Rank 0 -- tracking contacts -- 500 of 3257 of type shelter\n",
      "2022-09-26 09:47:57,982 - tracker - INFO - Rank 0 -- tracking contacts -- 115 of 115 of type communal\n",
      "2022-09-26 09:47:57,985 - tracker - INFO - Rank 0 -- tracking contacts -- 21 of 21 of type distribution_center\n",
      "2022-09-26 09:47:57,987 - tracker - INFO - Rank 0 -- tracking contacts -- 7 of 7 of type e_voucher\n",
      "2022-09-26 09:47:57,988 - tracker - INFO - Rank 0 -- tracking contacts -- 67 of 67 of type female_communal\n",
      "2022-09-26 09:47:57,990 - tracker - INFO - Rank 0 -- tracking contacts -- 80 of 80 of type informal_work\n",
      "2022-09-26 09:47:57,993 - tracker - INFO - Rank 0 -- tracking contacts -- 41 of 41 of type n_f_distribution_center\n",
      "2022-09-26 09:47:57,995 - tracker - INFO - Rank 0 -- tracking contacts -- 500 of 536 of type play_group\n",
      "2022-09-26 09:47:58,005 - tracker - INFO - Rank 0 -- tracking contacts -- 82 of 82 of type pump_latrine\n",
      "2022-09-26 09:47:58,020 - tracker - INFO - Rank 0 -- tracking contacts -- 500 of 2065 of type religious\n",
      "2022-09-26 09:47:58,027 - rank - INFO - Rank 0 -- tracker -- 6.536622056999477\n",
      "2022-09-26 09:47:58,085 - epidemiology - INFO - CMS: Infection COMS-v2 for rank 0/1(2)0.0003200659994035959,0.0003199577331542969 - 2020-05-28 19:00:00\n",
      "2022-09-26 09:47:58,125 - rank - INFO - Rank 0 -- interaction_waiting -- 6.090005626901984e-06\n",
      "2022-09-26 09:47:58,144 - simulator - INFO - CMS: Timestep for rank 0/1 - 7.025579763983842,7.025580406188965 - 2020-05-28 19:00:00\n",
      "\n",
      "2022-09-26 09:47:58,146 - rank - INFO - Next timestep\n",
      "2022-09-26 09:47:58,147 - simulator - INFO - ==================== timestep ====================\n",
      "2022-09-26 09:47:58,321 - rank - INFO - Rank 0 -- move_people -- 0.17356818399275653\n",
      "2022-09-26 09:47:58,322 - rank - INFO - Rank 0 -- move_people_waiting -- 6.785994628444314e-06\n",
      "2022-09-26 09:47:58,322 - activity_manager - INFO - CMS: People COMS for rank 0/1 - 3.1459785532206297e-06,2.86102294921875e-06 - 2020-05-29 09:00:00\n",
      "2022-09-26 09:47:58,329 - simulator - INFO - Info for rank 0, Date = 2020-05-29 09:00:00, number of deaths =  0, number of infected = 1149\n",
      "2022-09-26 09:47:58,436 - rank - INFO - Rank 0 -- interaction -- 0.11341191799147055\n",
      "2022-09-26 09:48:03,992 - tracker - INFO - Rank 0 -- tracking contacts -- 389 of 389 of type learning_center\n",
      "2022-09-26 09:48:04,004 - tracker - INFO - Rank 0 -- tracking contacts -- 8 of 8 of type hospital\n",
      "2022-09-26 09:48:04,005 - tracker - INFO - Rank 0 -- tracking contacts -- 8 of 8 of type isolation_unit\n",
      "2022-09-26 09:48:04,017 - tracker - INFO - Rank 0 -- tracking contacts -- 500 of 3257 of type shelter\n",
      "2022-09-26 09:48:05,036 - tracker - INFO - Rank 0 -- tracking contacts -- 115 of 115 of type communal\n",
      "2022-09-26 09:48:05,040 - tracker - INFO - Rank 0 -- tracking contacts -- 21 of 21 of type distribution_center\n",
      "2022-09-26 09:48:05,042 - tracker - INFO - Rank 0 -- tracking contacts -- 7 of 7 of type e_voucher\n",
      "2022-09-26 09:48:05,043 - tracker - INFO - Rank 0 -- tracking contacts -- 67 of 67 of type female_communal\n",
      "2022-09-26 09:48:05,047 - tracker - INFO - Rank 0 -- tracking contacts -- 80 of 80 of type informal_work\n",
      "2022-09-26 09:48:05,051 - tracker - INFO - Rank 0 -- tracking contacts -- 41 of 41 of type n_f_distribution_center\n",
      "2022-09-26 09:48:05,055 - tracker - INFO - Rank 0 -- tracking contacts -- 500 of 536 of type play_group\n",
      "2022-09-26 09:48:05,068 - tracker - INFO - Rank 0 -- tracking contacts -- 82 of 82 of type pump_latrine\n",
      "2022-09-26 09:48:05,081 - tracker - INFO - Rank 0 -- tracking contacts -- 500 of 2065 of type religious\n",
      "2022-09-26 09:48:05,090 - rank - INFO - Rank 0 -- tracker -- 6.652722476021154\n",
      "2022-09-26 09:48:05,115 - epidemiology - INFO - CMS: Infection COMS-v2 for rank 0/1(2)0.0008263039926532656,0.0008258819580078125 - 2020-05-29 09:00:00\n",
      "2022-09-26 09:48:05,155 - rank - INFO - Rank 0 -- interaction_waiting -- 6.821006536483765e-06\n",
      "2022-09-26 09:48:05,168 - simulator - INFO - CMS: Timestep for rank 0/1 - 7.020821114012506,7.020822048187256 - 2020-05-29 09:00:00\n",
      "\n",
      "2022-09-26 09:48:05,171 - rank - INFO - Next timestep\n",
      "2022-09-26 09:48:05,172 - simulator - INFO - ==================== timestep ====================\n",
      "2022-09-26 09:48:05,999 - rank - INFO - Rank 0 -- move_people -- 0.8262273180007469\n",
      "2022-09-26 09:48:06,000 - rank - INFO - Rank 0 -- move_people_waiting -- 6.418995326384902e-06\n",
      "2022-09-26 09:48:06,001 - activity_manager - INFO - CMS: People COMS for rank 0/1 - 3.3500255085527897e-06,3.337860107421875e-06 - 2020-05-29 12:00:00\n",
      "2022-09-26 09:48:06,008 - simulator - INFO - Info for rank 0, Date = 2020-05-29 12:00:00, number of deaths =  0, number of infected = 1186\n",
      "2022-09-26 09:48:06,195 - rank - INFO - Rank 0 -- interaction -- 0.1940732339862734\n",
      "2022-09-26 09:48:06,740 - tracker - INFO - Rank 0 -- tracking contacts -- 389 of 389 of type learning_center\n",
      "2022-09-26 09:48:06,745 - tracker - INFO - Rank 0 -- tracking contacts -- 8 of 8 of type hospital\n",
      "2022-09-26 09:48:06,746 - tracker - INFO - Rank 0 -- tracking contacts -- 8 of 8 of type isolation_unit\n",
      "2022-09-26 09:48:06,754 - tracker - INFO - Rank 0 -- tracking contacts -- 500 of 3257 of type shelter\n",
      "2022-09-26 09:48:07,221 - tracker - INFO - Rank 0 -- tracking contacts -- 115 of 115 of type communal\n",
      "2022-09-26 09:48:07,223 - tracker - INFO - Rank 0 -- tracking contacts -- 21 of 21 of type distribution_center\n",
      "2022-09-26 09:48:07,255 - tracker - INFO - Rank 0 -- tracking contacts -- 7 of 7 of type e_voucher\n",
      "2022-09-26 09:48:07,272 - tracker - INFO - Rank 0 -- tracking contacts -- 67 of 67 of type female_communal\n",
      "2022-09-26 09:48:07,274 - tracker - INFO - Rank 0 -- tracking contacts -- 80 of 80 of type informal_work\n",
      "2022-09-26 09:48:07,358 - tracker - INFO - Rank 0 -- tracking contacts -- 41 of 41 of type n_f_distribution_center\n",
      "2022-09-26 09:48:07,414 - tracker - INFO - Rank 0 -- tracking contacts -- 500 of 536 of type play_group\n",
      "2022-09-26 09:48:07,752 - tracker - INFO - Rank 0 -- tracking contacts -- 82 of 82 of type pump_latrine\n",
      "2022-09-26 09:48:09,920 - tracker - INFO - Rank 0 -- tracking contacts -- 500 of 2065 of type religious\n",
      "2022-09-26 09:48:10,192 - rank - INFO - Rank 0 -- tracker -- 3.995717431011144\n",
      "2022-09-26 09:48:10,208 - epidemiology - INFO - CMS: Infection COMS-v2 for rank 0/1(2)0.000509023986523971,0.0005083084106445312 - 2020-05-29 12:00:00\n",
      "2022-09-26 09:48:10,247 - rank - INFO - Rank 0 -- interaction_waiting -- 6.663991371169686e-06\n",
      "2022-09-26 09:48:10,260 - simulator - INFO - CMS: Timestep for rank 0/1 - 5.086493295006221,5.086494445800781 - 2020-05-29 12:00:00\n",
      "\n",
      "2022-09-26 09:48:10,262 - rank - INFO - Next timestep\n",
      "2022-09-26 09:48:10,263 - simulator - INFO - ==================== timestep ====================\n",
      "2022-09-26 09:48:11,110 - rank - INFO - Rank 0 -- move_people -- 0.8466666380118113\n",
      "2022-09-26 09:48:11,111 - rank - INFO - Rank 0 -- move_people_waiting -- 7.290014764294028e-06\n",
      "2022-09-26 09:48:11,112 - activity_manager - INFO - CMS: People COMS for rank 0/1 - 3.6580022424459457e-06,3.337860107421875e-06 - 2020-05-29 14:00:00\n",
      "2022-09-26 09:48:11,118 - simulator - INFO - Info for rank 0, Date = 2020-05-29 14:00:00, number of deaths =  0, number of infected = 1223\n",
      "2022-09-26 09:48:11,310 - rank - INFO - Rank 0 -- interaction -- 0.19748314798926003\n",
      "2022-09-26 09:48:13,360 - tracker - INFO - Rank 0 -- tracking contacts -- 389 of 389 of type learning_center\n",
      "2022-09-26 09:48:13,366 - tracker - INFO - Rank 0 -- tracking contacts -- 8 of 8 of type hospital\n",
      "2022-09-26 09:48:13,368 - tracker - INFO - Rank 0 -- tracking contacts -- 8 of 8 of type isolation_unit\n",
      "2022-09-26 09:48:13,377 - tracker - INFO - Rank 0 -- tracking contacts -- 500 of 3257 of type shelter\n",
      "2022-09-26 09:48:13,877 - tracker - INFO - Rank 0 -- tracking contacts -- 115 of 115 of type communal\n",
      "2022-09-26 09:48:13,880 - tracker - INFO - Rank 0 -- tracking contacts -- 21 of 21 of type distribution_center\n"
     ]
    },
    {
     "name": "stdout",
     "output_type": "stream",
     "text": [
      "2022-09-26 09:48:13,916 - tracker - INFO - Rank 0 -- tracking contacts -- 7 of 7 of type e_voucher\n",
      "2022-09-26 09:48:13,935 - tracker - INFO - Rank 0 -- tracking contacts -- 67 of 67 of type female_communal\n",
      "2022-09-26 09:48:13,937 - tracker - INFO - Rank 0 -- tracking contacts -- 80 of 80 of type informal_work\n",
      "2022-09-26 09:48:14,028 - tracker - INFO - Rank 0 -- tracking contacts -- 41 of 41 of type n_f_distribution_center\n",
      "2022-09-26 09:48:14,120 - tracker - INFO - Rank 0 -- tracking contacts -- 500 of 536 of type play_group\n",
      "2022-09-26 09:48:14,474 - tracker - INFO - Rank 0 -- tracking contacts -- 82 of 82 of type pump_latrine\n",
      "2022-09-26 09:48:16,762 - tracker - INFO - Rank 0 -- tracking contacts -- 500 of 2065 of type religious\n",
      "2022-09-26 09:48:17,086 - rank - INFO - Rank 0 -- tracker -- 5.775212039006874\n",
      "2022-09-26 09:48:17,105 - epidemiology - INFO - CMS: Infection COMS-v2 for rank 0/1(2)0.00023557699751108885,0.0002353191375732422 - 2020-05-29 14:00:00\n",
      "2022-09-26 09:48:17,148 - rank - INFO - Rank 0 -- interaction_waiting -- 7.46001023799181e-06\n",
      "2022-09-26 09:48:17,164 - simulator - INFO - CMS: Timestep for rank 0/1 - 6.9002490080019925,6.900250434875488 - 2020-05-29 14:00:00\n",
      "\n",
      "2022-09-26 09:48:17,166 - rank - INFO - Next timestep\n",
      "2022-09-26 09:48:17,167 - simulator - INFO - ==================== timestep ====================\n",
      "2022-09-26 09:48:18,121 - rank - INFO - Rank 0 -- move_people -- 0.9531222780060489\n",
      "2022-09-26 09:48:18,123 - rank - INFO - Rank 0 -- move_people_waiting -- 4.2330066207796335e-06\n",
      "2022-09-26 09:48:18,123 - activity_manager - INFO - CMS: People COMS for rank 0/1 - 3.716006176546216e-06,3.337860107421875e-06 - 2020-05-29 16:00:00\n",
      "2022-09-26 09:48:18,130 - simulator - INFO - Info for rank 0, Date = 2020-05-29 16:00:00, number of deaths =  0, number of infected = 1259\n",
      "2022-09-26 09:48:18,377 - rank - INFO - Rank 0 -- interaction -- 0.2535237170231994\n",
      "2022-09-26 09:48:21,519 - tracker - INFO - Rank 0 -- tracking contacts -- 389 of 389 of type learning_center\n",
      "2022-09-26 09:48:21,527 - tracker - INFO - Rank 0 -- tracking contacts -- 8 of 8 of type hospital\n",
      "2022-09-26 09:48:21,528 - tracker - INFO - Rank 0 -- tracking contacts -- 8 of 8 of type isolation_unit\n",
      "2022-09-26 09:48:21,538 - tracker - INFO - Rank 0 -- tracking contacts -- 500 of 3257 of type shelter\n",
      "2022-09-26 09:48:22,080 - tracker - INFO - Rank 0 -- tracking contacts -- 115 of 115 of type communal\n",
      "2022-09-26 09:48:22,082 - tracker - INFO - Rank 0 -- tracking contacts -- 21 of 21 of type distribution_center\n",
      "2022-09-26 09:48:22,110 - tracker - INFO - Rank 0 -- tracking contacts -- 7 of 7 of type e_voucher\n",
      "2022-09-26 09:48:22,124 - tracker - INFO - Rank 0 -- tracking contacts -- 67 of 67 of type female_communal\n",
      "2022-09-26 09:48:22,126 - tracker - INFO - Rank 0 -- tracking contacts -- 80 of 80 of type informal_work\n",
      "2022-09-26 09:48:22,220 - tracker - INFO - Rank 0 -- tracking contacts -- 41 of 41 of type n_f_distribution_center\n",
      "2022-09-26 09:48:22,286 - tracker - INFO - Rank 0 -- tracking contacts -- 500 of 536 of type play_group\n",
      "2022-09-26 09:48:22,648 - tracker - INFO - Rank 0 -- tracking contacts -- 82 of 82 of type pump_latrine\n",
      "2022-09-26 09:48:24,916 - tracker - INFO - Rank 0 -- tracking contacts -- 500 of 2065 of type religious\n",
      "2022-09-26 09:48:25,209 - rank - INFO - Rank 0 -- tracker -- 6.8301898739882745\n",
      "2022-09-26 09:48:25,229 - epidemiology - INFO - CMS: Infection COMS-v2 for rank 0/1(2)0.0002365480177104473,0.00023603439331054688 - 2020-05-29 16:00:00\n",
      "2022-09-26 09:48:25,273 - rank - INFO - Rank 0 -- interaction_waiting -- 7.790978997945786e-06\n",
      "2022-09-26 09:48:25,289 - simulator - INFO - CMS: Timestep for rank 0/1 - 8.120573392981896,8.120574474334717 - 2020-05-29 16:00:00\n",
      "\n",
      "2022-09-26 09:48:25,291 - rank - INFO - Next timestep\n",
      "2022-09-26 09:48:25,292 - simulator - INFO - ==================== timestep ====================\n",
      "2022-09-26 09:48:26,193 - rank - INFO - Rank 0 -- move_people -- 0.900496087007923\n",
      "2022-09-26 09:48:26,196 - rank - INFO - Rank 0 -- move_people_waiting -- 4.341010935604572e-06\n",
      "2022-09-26 09:48:26,197 - activity_manager - INFO - CMS: People COMS for rank 0/1 - 4.3800100684165955e-06,3.814697265625e-06 - 2020-05-29 18:00:00\n",
      "2022-09-26 09:48:26,206 - simulator - INFO - Info for rank 0, Date = 2020-05-29 18:00:00, number of deaths =  0, number of infected = 1312\n",
      "2022-09-26 09:48:26,448 - rank - INFO - Rank 0 -- interaction -- 0.2488299079996068\n",
      "2022-09-26 09:48:30,179 - tracker - INFO - Rank 0 -- tracking contacts -- 389 of 389 of type learning_center\n",
      "2022-09-26 09:48:30,185 - tracker - INFO - Rank 0 -- tracking contacts -- 8 of 8 of type hospital\n",
      "2022-09-26 09:48:30,186 - tracker - INFO - Rank 0 -- tracking contacts -- 8 of 8 of type isolation_unit\n",
      "2022-09-26 09:48:30,193 - tracker - INFO - Rank 0 -- tracking contacts -- 500 of 3257 of type shelter\n",
      "2022-09-26 09:48:30,686 - tracker - INFO - Rank 0 -- tracking contacts -- 115 of 115 of type communal\n",
      "2022-09-26 09:48:30,688 - tracker - INFO - Rank 0 -- tracking contacts -- 21 of 21 of type distribution_center\n",
      "2022-09-26 09:48:30,717 - tracker - INFO - Rank 0 -- tracking contacts -- 7 of 7 of type e_voucher\n",
      "2022-09-26 09:48:30,729 - tracker - INFO - Rank 0 -- tracking contacts -- 67 of 67 of type female_communal\n",
      "2022-09-26 09:48:30,731 - tracker - INFO - Rank 0 -- tracking contacts -- 80 of 80 of type informal_work\n",
      "2022-09-26 09:48:30,821 - tracker - INFO - Rank 0 -- tracking contacts -- 41 of 41 of type n_f_distribution_center\n",
      "2022-09-26 09:48:30,871 - tracker - INFO - Rank 0 -- tracking contacts -- 500 of 536 of type play_group\n",
      "2022-09-26 09:48:31,206 - tracker - INFO - Rank 0 -- tracking contacts -- 82 of 82 of type pump_latrine\n",
      "2022-09-26 09:48:33,337 - tracker - INFO - Rank 0 -- tracking contacts -- 500 of 2065 of type religious\n",
      "2022-09-26 09:48:33,610 - rank - INFO - Rank 0 -- tracker -- 7.161689843982458\n",
      "2022-09-26 09:48:33,630 - epidemiology - INFO - CMS: Infection COMS-v2 for rank 0/1(2)0.0005968640034552664,0.0005970001220703125 - 2020-05-29 18:00:00\n",
      "2022-09-26 09:48:33,672 - rank - INFO - Rank 0 -- interaction_waiting -- 6.689020665362477e-06\n",
      "2022-09-26 09:48:33,685 - simulator - INFO - CMS: Timestep for rank 0/1 - 8.392489780002506,8.392491102218628 - 2020-05-29 18:00:00\n",
      "\n",
      "2022-09-26 09:48:33,687 - rank - INFO - Next timestep\n",
      "2022-09-26 09:48:33,688 - simulator - INFO - ==================== timestep ====================\n",
      "2022-09-26 09:48:33,863 - rank - INFO - Rank 0 -- move_people -- 0.17376327500096522\n",
      "2022-09-26 09:48:33,863 - rank - INFO - Rank 0 -- move_people_waiting -- 6.704998668283224e-06\n",
      "2022-09-26 09:48:33,864 - activity_manager - INFO - CMS: People COMS for rank 0/1 - 3.877998096868396e-06,3.5762786865234375e-06 - 2020-05-29 20:00:00\n",
      "2022-09-26 09:48:33,870 - simulator - INFO - Info for rank 0, Date = 2020-05-29 20:00:00, number of deaths =  0, number of infected = 1356\n",
      "2022-09-26 09:48:34,001 - rank - INFO - Rank 0 -- interaction -- 0.13617045801947825\n",
      "2022-09-26 09:48:38,243 - tracker - INFO - Rank 0 -- tracking contacts -- 389 of 389 of type learning_center\n",
      "2022-09-26 09:48:38,252 - tracker - INFO - Rank 0 -- tracking contacts -- 8 of 8 of type hospital\n",
      "2022-09-26 09:48:38,253 - tracker - INFO - Rank 0 -- tracking contacts -- 8 of 8 of type isolation_unit\n",
      "2022-09-26 09:48:38,262 - tracker - INFO - Rank 0 -- tracking contacts -- 500 of 3257 of type shelter\n",
      "2022-09-26 09:48:39,440 - tracker - INFO - Rank 0 -- tracking contacts -- 115 of 115 of type communal\n",
      "2022-09-26 09:48:39,442 - tracker - INFO - Rank 0 -- tracking contacts -- 21 of 21 of type distribution_center\n",
      "2022-09-26 09:48:39,444 - tracker - INFO - Rank 0 -- tracking contacts -- 7 of 7 of type e_voucher\n",
      "2022-09-26 09:48:39,445 - tracker - INFO - Rank 0 -- tracking contacts -- 67 of 67 of type female_communal\n",
      "2022-09-26 09:48:39,448 - tracker - INFO - Rank 0 -- tracking contacts -- 80 of 80 of type informal_work\n",
      "2022-09-26 09:48:39,452 - tracker - INFO - Rank 0 -- tracking contacts -- 41 of 41 of type n_f_distribution_center\n",
      "2022-09-26 09:48:39,457 - tracker - INFO - Rank 0 -- tracking contacts -- 500 of 536 of type play_group\n",
      "2022-09-26 09:48:39,473 - tracker - INFO - Rank 0 -- tracking contacts -- 82 of 82 of type pump_latrine\n"
     ]
    },
    {
     "name": "stdout",
     "output_type": "stream",
     "text": [
      "2022-09-26 09:48:39,487 - tracker - INFO - Rank 0 -- tracking contacts -- 500 of 2065 of type religious\n",
      "2022-09-26 09:48:39,496 - rank - INFO - Rank 0 -- tracker -- 5.494389666011557\n",
      "2022-09-26 09:48:39,557 - epidemiology - INFO - CMS: Infection COMS-v2 for rank 0/1(2)0.00029812398133799434,0.0002980232238769531 - 2020-05-29 20:00:00\n",
      "2022-09-26 09:48:39,635 - rank - INFO - Rank 0 -- interaction_waiting -- 6.10999995842576e-06\n",
      "2022-09-26 09:48:39,651 - simulator - INFO - CMS: Timestep for rank 0/1 - 5.962043298990466,5.9620442390441895 - 2020-05-29 20:00:00\n",
      "\n",
      "2022-09-26 09:48:39,654 - rank - INFO - Next timestep\n",
      "2022-09-26 09:48:39,655 - simulator - INFO - ==================== timestep ====================\n",
      "2022-09-26 09:48:39,846 - rank - INFO - Rank 0 -- move_people -- 0.1902165389910806\n",
      "2022-09-26 09:48:39,847 - rank - INFO - Rank 0 -- move_people_waiting -- 9.031005902215838e-06\n",
      "2022-09-26 09:48:39,848 - activity_manager - INFO - CMS: People COMS for rank 0/1 - 4.28801286034286e-06,3.814697265625e-06 - 2020-05-30 09:00:00\n",
      "2022-09-26 09:48:39,857 - simulator - INFO - Info for rank 0, Date = 2020-05-30 09:00:00, number of deaths =  0, number of infected = 1484\n",
      "2022-09-26 09:48:39,974 - rank - INFO - Rank 0 -- interaction -- 0.1251042369985953\n",
      "2022-09-26 09:48:44,283 - tracker - INFO - Rank 0 -- tracking contacts -- 389 of 389 of type learning_center\n",
      "2022-09-26 09:48:44,292 - tracker - INFO - Rank 0 -- tracking contacts -- 8 of 8 of type hospital\n",
      "2022-09-26 09:48:44,293 - tracker - INFO - Rank 0 -- tracking contacts -- 8 of 8 of type isolation_unit\n",
      "2022-09-26 09:48:44,304 - tracker - INFO - Rank 0 -- tracking contacts -- 500 of 3257 of type shelter\n",
      "2022-09-26 09:48:45,323 - tracker - INFO - Rank 0 -- tracking contacts -- 115 of 115 of type communal\n",
      "2022-09-26 09:48:45,325 - tracker - INFO - Rank 0 -- tracking contacts -- 21 of 21 of type distribution_center\n",
      "2022-09-26 09:48:45,327 - tracker - INFO - Rank 0 -- tracking contacts -- 7 of 7 of type e_voucher\n",
      "2022-09-26 09:48:45,329 - tracker - INFO - Rank 0 -- tracking contacts -- 67 of 67 of type female_communal\n",
      "2022-09-26 09:48:45,331 - tracker - INFO - Rank 0 -- tracking contacts -- 80 of 80 of type informal_work\n",
      "2022-09-26 09:48:45,334 - tracker - INFO - Rank 0 -- tracking contacts -- 41 of 41 of type n_f_distribution_center\n",
      "2022-09-26 09:48:45,337 - tracker - INFO - Rank 0 -- tracking contacts -- 500 of 536 of type play_group\n",
      "2022-09-26 09:48:45,353 - tracker - INFO - Rank 0 -- tracking contacts -- 82 of 82 of type pump_latrine\n",
      "2022-09-26 09:48:45,369 - tracker - INFO - Rank 0 -- tracking contacts -- 500 of 2065 of type religious\n",
      "2022-09-26 09:48:45,379 - rank - INFO - Rank 0 -- tracker -- 5.403865838976344\n",
      "2022-09-26 09:48:45,397 - epidemiology - INFO - CMS: Infection COMS-v2 for rank 0/1(2)0.0008244230120908469,0.000823974609375 - 2020-05-30 09:00:00\n",
      "2022-09-26 09:48:45,443 - rank - INFO - Rank 0 -- interaction_waiting -- 6.76099443808198e-06\n",
      "2022-09-26 09:48:45,457 - simulator - INFO - CMS: Timestep for rank 0/1 - 5.801148088008631,5.801148891448975 - 2020-05-30 09:00:00\n",
      "\n",
      "2022-09-26 09:48:45,460 - rank - INFO - Next timestep\n",
      "2022-09-26 09:48:45,461 - simulator - INFO - ==================== timestep ====================\n",
      "2022-09-26 09:48:46,680 - rank - INFO - Rank 0 -- move_people -- 1.2182753850065637\n",
      "2022-09-26 09:48:46,681 - rank - INFO - Rank 0 -- move_people_waiting -- 1.3210024917498231e-05\n",
      "2022-09-26 09:48:46,682 - activity_manager - INFO - CMS: People COMS for rank 0/1 - 4.556000931188464e-06,4.291534423828125e-06 - 2020-05-30 12:00:00\n",
      "2022-09-26 09:48:46,689 - simulator - INFO - Info for rank 0, Date = 2020-05-30 12:00:00, number of deaths =  0, number of infected = 1513\n",
      "2022-09-26 09:48:46,937 - rank - INFO - Rank 0 -- interaction -- 0.2539312559820246\n",
      "2022-09-26 09:48:47,490 - tracker - INFO - Rank 0 -- tracking contacts -- 389 of 389 of type learning_center\n",
      "2022-09-26 09:48:47,500 - tracker - INFO - Rank 0 -- tracking contacts -- 8 of 8 of type hospital\n",
      "2022-09-26 09:48:47,501 - tracker - INFO - Rank 0 -- tracking contacts -- 8 of 8 of type isolation_unit\n",
      "2022-09-26 09:48:47,510 - tracker - INFO - Rank 0 -- tracking contacts -- 500 of 3257 of type shelter\n",
      "2022-09-26 09:48:48,045 - tracker - INFO - Rank 0 -- tracking contacts -- 115 of 115 of type communal\n",
      "2022-09-26 09:48:48,047 - tracker - INFO - Rank 0 -- tracking contacts -- 21 of 21 of type distribution_center\n",
      "2022-09-26 09:48:48,094 - tracker - INFO - Rank 0 -- tracking contacts -- 7 of 7 of type e_voucher\n",
      "2022-09-26 09:48:48,117 - tracker - INFO - Rank 0 -- tracking contacts -- 67 of 67 of type female_communal\n",
      "2022-09-26 09:48:48,119 - tracker - INFO - Rank 0 -- tracking contacts -- 80 of 80 of type informal_work\n",
      "2022-09-26 09:48:48,211 - tracker - INFO - Rank 0 -- tracking contacts -- 41 of 41 of type n_f_distribution_center\n",
      "2022-09-26 09:48:48,296 - tracker - INFO - Rank 0 -- tracking contacts -- 500 of 536 of type play_group\n",
      "2022-09-26 09:48:48,679 - tracker - INFO - Rank 0 -- tracking contacts -- 82 of 82 of type pump_latrine\n",
      "2022-09-26 09:48:50,934 - tracker - INFO - Rank 0 -- tracking contacts -- 500 of 2065 of type religious\n",
      "2022-09-26 09:48:51,238 - rank - INFO - Rank 0 -- tracker -- 4.300337316002697\n",
      "2022-09-26 09:48:51,276 - epidemiology - INFO - CMS: Infection COMS-v2 for rank 0/1(2)0.0004056390025652945,0.00040531158447265625 - 2020-05-30 12:00:00\n",
      "2022-09-26 09:48:51,324 - rank - INFO - Rank 0 -- interaction_waiting -- 7.467024261131883e-06\n",
      "2022-09-26 09:48:51,338 - simulator - INFO - CMS: Timestep for rank 0/1 - 5.87592877302086,5.875930070877075 - 2020-05-30 12:00:00\n",
      "\n",
      "2022-09-26 09:48:51,341 - rank - INFO - Next timestep\n",
      "2022-09-26 09:48:51,342 - simulator - INFO - ==================== timestep ====================\n",
      "2022-09-26 09:48:52,147 - rank - INFO - Rank 0 -- move_people -- 0.8039995270082727\n",
      "2022-09-26 09:48:52,147 - rank - INFO - Rank 0 -- move_people_waiting -- 7.039023330435157e-06\n",
      "2022-09-26 09:48:52,148 - activity_manager - INFO - CMS: People COMS for rank 0/1 - 3.6840210668742657e-06,3.337860107421875e-06 - 2020-05-30 14:00:00\n",
      "2022-09-26 09:48:52,153 - simulator - INFO - Info for rank 0, Date = 2020-05-30 14:00:00, number of deaths =  0, number of infected = 1569\n",
      "2022-09-26 09:48:52,354 - rank - INFO - Rank 0 -- interaction -- 0.20544884901028126\n",
      "2022-09-26 09:48:54,344 - tracker - INFO - Rank 0 -- tracking contacts -- 389 of 389 of type learning_center\n",
      "2022-09-26 09:48:54,349 - tracker - INFO - Rank 0 -- tracking contacts -- 8 of 8 of type hospital\n",
      "2022-09-26 09:48:54,350 - tracker - INFO - Rank 0 -- tracking contacts -- 8 of 8 of type isolation_unit\n",
      "2022-09-26 09:48:54,357 - tracker - INFO - Rank 0 -- tracking contacts -- 500 of 3257 of type shelter\n",
      "2022-09-26 09:48:54,846 - tracker - INFO - Rank 0 -- tracking contacts -- 115 of 115 of type communal\n",
      "2022-09-26 09:48:54,849 - tracker - INFO - Rank 0 -- tracking contacts -- 21 of 21 of type distribution_center\n",
      "2022-09-26 09:48:54,890 - tracker - INFO - Rank 0 -- tracking contacts -- 7 of 7 of type e_voucher\n",
      "2022-09-26 09:48:54,909 - tracker - INFO - Rank 0 -- tracking contacts -- 67 of 67 of type female_communal\n",
      "2022-09-26 09:48:54,912 - tracker - INFO - Rank 0 -- tracking contacts -- 80 of 80 of type informal_work\n",
      "2022-09-26 09:48:55,002 - tracker - INFO - Rank 0 -- tracking contacts -- 41 of 41 of type n_f_distribution_center\n",
      "2022-09-26 09:48:55,085 - tracker - INFO - Rank 0 -- tracking contacts -- 500 of 536 of type play_group\n",
      "2022-09-26 09:48:55,419 - tracker - INFO - Rank 0 -- tracking contacts -- 82 of 82 of type pump_latrine\n",
      "2022-09-26 09:48:57,550 - tracker - INFO - Rank 0 -- tracking contacts -- 500 of 2065 of type religious\n",
      "2022-09-26 09:48:57,817 - rank - INFO - Rank 0 -- tracker -- 5.4615682369912975\n",
      "2022-09-26 09:48:57,843 - epidemiology - INFO - CMS: Infection COMS-v2 for rank 0/1(2)0.0006244099931791425,0.0006237030029296875 - 2020-05-30 14:00:00\n",
      "2022-09-26 09:48:57,885 - rank - INFO - Rank 0 -- interaction_waiting -- 6.285990821197629e-06\n",
      "2022-09-26 09:48:57,900 - simulator - INFO - CMS: Timestep for rank 0/1 - 6.557113668997772,6.557114601135254 - 2020-05-30 14:00:00\n",
      "\n",
      "2022-09-26 09:48:57,902 - rank - INFO - Next timestep\n",
      "2022-09-26 09:48:57,903 - simulator - INFO - ==================== timestep ====================\n"
     ]
    },
    {
     "name": "stdout",
     "output_type": "stream",
     "text": [
      "2022-09-26 09:48:58,764 - rank - INFO - Rank 0 -- move_people -- 0.8601498609932605\n",
      "2022-09-26 09:48:58,765 - rank - INFO - Rank 0 -- move_people_waiting -- 7.3699920903891325e-06\n",
      "2022-09-26 09:48:58,766 - activity_manager - INFO - CMS: People COMS for rank 0/1 - 4.54401015304029e-06,3.814697265625e-06 - 2020-05-30 16:00:00\n",
      "2022-09-26 09:48:58,774 - simulator - INFO - Info for rank 0, Date = 2020-05-30 16:00:00, number of deaths =  0, number of infected = 1637\n",
      "2022-09-26 09:48:59,000 - rank - INFO - Rank 0 -- interaction -- 0.2333805609960109\n",
      "2022-09-26 09:49:02,064 - tracker - INFO - Rank 0 -- tracking contacts -- 389 of 389 of type learning_center\n",
      "2022-09-26 09:49:02,072 - tracker - INFO - Rank 0 -- tracking contacts -- 8 of 8 of type hospital\n",
      "2022-09-26 09:49:02,073 - tracker - INFO - Rank 0 -- tracking contacts -- 8 of 8 of type isolation_unit\n",
      "2022-09-26 09:49:02,081 - tracker - INFO - Rank 0 -- tracking contacts -- 500 of 3257 of type shelter\n",
      "2022-09-26 09:49:02,612 - tracker - INFO - Rank 0 -- tracking contacts -- 115 of 115 of type communal\n",
      "2022-09-26 09:49:02,614 - tracker - INFO - Rank 0 -- tracking contacts -- 21 of 21 of type distribution_center\n",
      "2022-09-26 09:49:02,650 - tracker - INFO - Rank 0 -- tracking contacts -- 7 of 7 of type e_voucher\n",
      "2022-09-26 09:49:02,668 - tracker - INFO - Rank 0 -- tracking contacts -- 67 of 67 of type female_communal\n",
      "2022-09-26 09:49:02,670 - tracker - INFO - Rank 0 -- tracking contacts -- 80 of 80 of type informal_work\n",
      "2022-09-26 09:49:02,767 - tracker - INFO - Rank 0 -- tracking contacts -- 41 of 41 of type n_f_distribution_center\n",
      "2022-09-26 09:49:02,842 - tracker - INFO - Rank 0 -- tracking contacts -- 500 of 536 of type play_group\n",
      "2022-09-26 09:49:03,202 - tracker - INFO - Rank 0 -- tracking contacts -- 82 of 82 of type pump_latrine\n",
      "2022-09-26 09:49:05,457 - tracker - INFO - Rank 0 -- tracking contacts -- 500 of 2065 of type religious\n",
      "2022-09-26 09:49:05,744 - rank - INFO - Rank 0 -- tracker -- 6.74296995298937\n",
      "2022-09-26 09:49:05,771 - epidemiology - INFO - CMS: Infection COMS-v2 for rank 0/1(2)0.00023606998729519546,0.00023555755615234375 - 2020-05-30 16:00:00\n",
      "2022-09-26 09:49:05,817 - rank - INFO - Rank 0 -- interaction_waiting -- 7.163005648180842e-06\n",
      "2022-09-26 09:49:05,832 - simulator - INFO - CMS: Timestep for rank 0/1 - 7.927704169007484,7.9277050495147705 - 2020-05-30 16:00:00\n",
      "\n",
      "2022-09-26 09:49:05,835 - rank - INFO - Next timestep\n",
      "2022-09-26 09:49:05,836 - simulator - INFO - ==================== timestep ====================\n",
      "2022-09-26 09:49:06,701 - rank - INFO - Rank 0 -- move_people -- 0.864165799022885\n",
      "2022-09-26 09:49:06,702 - rank - INFO - Rank 0 -- move_people_waiting -- 4.518020432442427e-06\n",
      "2022-09-26 09:49:06,703 - activity_manager - INFO - CMS: People COMS for rank 0/1 - 4.231987986713648e-06,3.814697265625e-06 - 2020-05-30 18:00:00\n",
      "2022-09-26 09:49:06,709 - simulator - INFO - Info for rank 0, Date = 2020-05-30 18:00:00, number of deaths =  0, number of infected = 1703\n",
      "2022-09-26 09:49:06,925 - rank - INFO - Rank 0 -- interaction -- 0.22135057600098662\n",
      "2022-09-26 09:49:10,664 - tracker - INFO - Rank 0 -- tracking contacts -- 389 of 389 of type learning_center\n",
      "2022-09-26 09:49:10,670 - tracker - INFO - Rank 0 -- tracking contacts -- 8 of 8 of type hospital\n",
      "2022-09-26 09:49:10,671 - tracker - INFO - Rank 0 -- tracking contacts -- 8 of 8 of type isolation_unit\n",
      "2022-09-26 09:49:10,678 - tracker - INFO - Rank 0 -- tracking contacts -- 500 of 3257 of type shelter\n",
      "2022-09-26 09:49:11,207 - tracker - INFO - Rank 0 -- tracking contacts -- 115 of 115 of type communal\n",
      "2022-09-26 09:49:11,210 - tracker - INFO - Rank 0 -- tracking contacts -- 21 of 21 of type distribution_center\n",
      "2022-09-26 09:49:11,241 - tracker - INFO - Rank 0 -- tracking contacts -- 7 of 7 of type e_voucher\n",
      "2022-09-26 09:49:11,255 - tracker - INFO - Rank 0 -- tracking contacts -- 67 of 67 of type female_communal\n",
      "2022-09-26 09:49:11,258 - tracker - INFO - Rank 0 -- tracking contacts -- 80 of 80 of type informal_work\n",
      "2022-09-26 09:49:11,356 - tracker - INFO - Rank 0 -- tracking contacts -- 41 of 41 of type n_f_distribution_center\n",
      "2022-09-26 09:49:11,411 - tracker - INFO - Rank 0 -- tracking contacts -- 500 of 536 of type play_group\n",
      "2022-09-26 09:49:11,762 - tracker - INFO - Rank 0 -- tracking contacts -- 82 of 82 of type pump_latrine\n",
      "2022-09-26 09:49:14,039 - tracker - INFO - Rank 0 -- tracking contacts -- 500 of 2065 of type religious\n",
      "2022-09-26 09:49:14,311 - rank - INFO - Rank 0 -- tracker -- 7.384269625006709\n",
      "2022-09-26 09:49:14,339 - epidemiology - INFO - CMS: Infection COMS-v2 for rank 0/1(2)0.0006703450053464621,0.0006697177886962891 - 2020-05-30 18:00:00\n",
      "2022-09-26 09:49:14,384 - rank - INFO - Rank 0 -- interaction_waiting -- 7.090013241395354e-06\n",
      "2022-09-26 09:49:14,396 - simulator - INFO - CMS: Timestep for rank 0/1 - 8.559780707990285,8.559782028198242 - 2020-05-30 18:00:00\n",
      "\n",
      "2022-09-26 09:49:14,399 - rank - INFO - Next timestep\n",
      "2022-09-26 09:49:14,400 - simulator - INFO - ==================== timestep ====================\n",
      "2022-09-26 09:49:14,584 - rank - INFO - Rank 0 -- move_people -- 0.18322773202089593\n",
      "2022-09-26 09:49:14,585 - rank - INFO - Rank 0 -- move_people_waiting -- 8.475995855405927e-06\n",
      "2022-09-26 09:49:14,586 - activity_manager - INFO - CMS: People COMS for rank 0/1 - 4.209985490888357e-06,4.0531158447265625e-06 - 2020-05-30 20:00:00\n",
      "2022-09-26 09:49:14,593 - simulator - INFO - Info for rank 0, Date = 2020-05-30 20:00:00, number of deaths =  0, number of infected = 1747\n",
      "2022-09-26 09:49:14,751 - rank - INFO - Rank 0 -- interaction -- 0.1632296729949303\n",
      "2022-09-26 09:49:18,851 - tracker - INFO - Rank 0 -- tracking contacts -- 389 of 389 of type learning_center\n",
      "2022-09-26 09:49:18,857 - tracker - INFO - Rank 0 -- tracking contacts -- 8 of 8 of type hospital\n",
      "2022-09-26 09:49:18,858 - tracker - INFO - Rank 0 -- tracking contacts -- 8 of 8 of type isolation_unit\n",
      "2022-09-26 09:49:18,864 - tracker - INFO - Rank 0 -- tracking contacts -- 500 of 3257 of type shelter\n",
      "2022-09-26 09:49:19,942 - tracker - INFO - Rank 0 -- tracking contacts -- 115 of 115 of type communal\n",
      "2022-09-26 09:49:19,944 - tracker - INFO - Rank 0 -- tracking contacts -- 21 of 21 of type distribution_center\n",
      "2022-09-26 09:49:19,946 - tracker - INFO - Rank 0 -- tracking contacts -- 7 of 7 of type e_voucher\n",
      "2022-09-26 09:49:19,947 - tracker - INFO - Rank 0 -- tracking contacts -- 67 of 67 of type female_communal\n",
      "2022-09-26 09:49:19,949 - tracker - INFO - Rank 0 -- tracking contacts -- 80 of 80 of type informal_work\n",
      "2022-09-26 09:49:19,952 - tracker - INFO - Rank 0 -- tracking contacts -- 41 of 41 of type n_f_distribution_center\n",
      "2022-09-26 09:49:19,955 - tracker - INFO - Rank 0 -- tracking contacts -- 500 of 536 of type play_group\n",
      "2022-09-26 09:49:19,965 - tracker - INFO - Rank 0 -- tracking contacts -- 82 of 82 of type pump_latrine\n",
      "2022-09-26 09:49:19,977 - tracker - INFO - Rank 0 -- tracking contacts -- 500 of 2065 of type religious\n",
      "2022-09-26 09:49:19,985 - rank - INFO - Rank 0 -- tracker -- 5.2335287099995185\n",
      "2022-09-26 09:49:20,080 - epidemiology - INFO - CMS: Infection COMS-v2 for rank 0/1(2)0.00032145000295713544,0.00032138824462890625 - 2020-05-30 20:00:00\n",
      "2022-09-26 09:49:20,125 - rank - INFO - Rank 0 -- interaction_waiting -- 6.5359927248209715e-06\n",
      "2022-09-26 09:49:20,138 - simulator - INFO - CMS: Timestep for rank 0/1 - 5.736702817986952,5.736703395843506 - 2020-05-30 20:00:00\n",
      "\n",
      "CPU times: user 5min 8s, sys: 2.87 s, total: 5min 11s\n",
      "Wall time: 5min 7s\n"
     ]
    }
   ],
   "source": [
    "%%time\n",
    "simulator.run()"
   ]
  },
  {
   "cell_type": "markdown",
   "metadata": {},
   "source": [
    "# Getting the results"
   ]
  },
  {
   "cell_type": "markdown",
   "metadata": {},
   "source": [
    "All results are stored in a json file specified in the `record_path` when defining the recorder. This can be read in by passing the folder locations to the `RecordReader` class and results derived.\n",
    "\n",
    "Here we show some examples of the kind of analysis you can extract from the records."
   ]
  },
  {
   "cell_type": "code",
   "execution_count": 55,
   "metadata": {},
   "outputs": [],
   "source": [
    "import pandas as pd"
   ]
  },
  {
   "cell_type": "code",
   "execution_count": 56,
   "metadata": {},
   "outputs": [],
   "source": [
    "read = RecordReader(Results_Path)"
   ]
  },
  {
   "cell_type": "markdown",
   "metadata": {},
   "source": [
    "The regional summary gives you information at the regional (camp) level."
   ]
  },
  {
   "cell_type": "markdown",
   "metadata": {},
   "source": [
    "### Regional information"
   ]
  },
  {
   "cell_type": "code",
   "execution_count": 57,
   "metadata": {},
   "outputs": [
    {
     "data": {
      "text/html": [
       "<div>\n",
       "<style scoped>\n",
       "    .dataframe tbody tr th:only-of-type {\n",
       "        vertical-align: middle;\n",
       "    }\n",
       "\n",
       "    .dataframe tbody tr th {\n",
       "        vertical-align: top;\n",
       "    }\n",
       "\n",
       "    .dataframe thead th {\n",
       "        text-align: right;\n",
       "    }\n",
       "</style>\n",
       "<table border=\"1\" class=\"dataframe\">\n",
       "  <thead>\n",
       "    <tr style=\"text-align: right;\">\n",
       "      <th></th>\n",
       "      <th>region</th>\n",
       "      <th>current_infected</th>\n",
       "      <th>daily_infected</th>\n",
       "      <th>current_hospitalised</th>\n",
       "      <th>daily_hospitalised</th>\n",
       "      <th>current_intensive_care</th>\n",
       "      <th>daily_intensive_care</th>\n",
       "      <th>daily_hospital_deaths</th>\n",
       "      <th>daily_deaths</th>\n",
       "    </tr>\n",
       "    <tr>\n",
       "      <th>time_stamp</th>\n",
       "      <th></th>\n",
       "      <th></th>\n",
       "      <th></th>\n",
       "      <th></th>\n",
       "      <th></th>\n",
       "      <th></th>\n",
       "      <th></th>\n",
       "      <th></th>\n",
       "      <th></th>\n",
       "    </tr>\n",
       "  </thead>\n",
       "  <tbody>\n",
       "    <tr>\n",
       "      <th>2020-05-24</th>\n",
       "      <td>CXB-219</td>\n",
       "      <td>247.333333</td>\n",
       "      <td>290</td>\n",
       "      <td>0.0</td>\n",
       "      <td>0</td>\n",
       "      <td>0.0</td>\n",
       "      <td>0</td>\n",
       "      <td>0</td>\n",
       "      <td>0</td>\n",
       "    </tr>\n",
       "    <tr>\n",
       "      <th>2020-05-25</th>\n",
       "      <td>CXB-219</td>\n",
       "      <td>333.500000</td>\n",
       "      <td>113</td>\n",
       "      <td>0.0</td>\n",
       "      <td>0</td>\n",
       "      <td>0.0</td>\n",
       "      <td>0</td>\n",
       "      <td>0</td>\n",
       "      <td>0</td>\n",
       "    </tr>\n",
       "    <tr>\n",
       "      <th>2020-05-26</th>\n",
       "      <td>CXB-219</td>\n",
       "      <td>471.000000</td>\n",
       "      <td>170</td>\n",
       "      <td>0.0</td>\n",
       "      <td>0</td>\n",
       "      <td>0.0</td>\n",
       "      <td>0</td>\n",
       "      <td>0</td>\n",
       "      <td>0</td>\n",
       "    </tr>\n",
       "  </tbody>\n",
       "</table>\n",
       "</div>"
      ],
      "text/plain": [
       "             region  current_infected  daily_infected  current_hospitalised  \\\n",
       "time_stamp                                                                    \n",
       "2020-05-24  CXB-219        247.333333             290                   0.0   \n",
       "2020-05-25  CXB-219        333.500000             113                   0.0   \n",
       "2020-05-26  CXB-219        471.000000             170                   0.0   \n",
       "\n",
       "            daily_hospitalised  current_intensive_care  daily_intensive_care  \\\n",
       "time_stamp                                                                     \n",
       "2020-05-24                   0                     0.0                     0   \n",
       "2020-05-25                   0                     0.0                     0   \n",
       "2020-05-26                   0                     0.0                     0   \n",
       "\n",
       "            daily_hospital_deaths  daily_deaths  \n",
       "time_stamp                                       \n",
       "2020-05-24                      0             0  \n",
       "2020-05-25                      0             0  \n",
       "2020-05-26                      0             0  "
      ]
     },
     "execution_count": 57,
     "metadata": {},
     "output_type": "execute_result"
    }
   ],
   "source": [
    "read.regional_summary.head(3) # this is the equivalent of the summary.csv"
   ]
  },
  {
   "cell_type": "markdown",
   "metadata": {},
   "source": [
    "### Daily infections"
   ]
  },
  {
   "cell_type": "code",
   "execution_count": 58,
   "metadata": {},
   "outputs": [],
   "source": [
    "summary = read.regional_summary.reset_index()"
   ]
  },
  {
   "cell_type": "code",
   "execution_count": 59,
   "metadata": {},
   "outputs": [
    {
     "data": {
      "image/png": "[encoded data removed]",
      "text/plain": [
       "<Figure size 432x288 with 1 Axes>"
      ]
     },
     "metadata": {
      "needs_background": "light"
     },
     "output_type": "display_data"
    }
   ],
   "source": [
    "summary.groupby(['time_stamp']).sum().plot(y=['daily_infected'])\n",
    "plt.ylabel('Daily infections')\n",
    "plt.show()"
   ]
  },
  {
   "cell_type": "markdown",
   "metadata": {},
   "source": [
    "### Hospital and intensive care"
   ]
  },
  {
   "cell_type": "code",
   "execution_count": 60,
   "metadata": {},
   "outputs": [
    {
     "data": {
      "image/png": "[encoded data removed]",
      "text/plain": [
       "<Figure size 432x288 with 1 Axes>"
      ]
     },
     "metadata": {
      "needs_background": "light"
     },
     "output_type": "display_data"
    }
   ],
   "source": [
    "summary.groupby(['time_stamp']).sum().plot(y=['current_hospitalised', 'current_intensive_care'])\n",
    "plt.show()"
   ]
  },
  {
   "cell_type": "markdown",
   "metadata": {},
   "source": [
    "### Cumulative infections by age"
   ]
  },
  {
   "cell_type": "code",
   "execution_count": 61,
   "metadata": {},
   "outputs": [
    {
     "name": "stdout",
     "output_type": "stream",
     "text": [
      "2022-09-26 09:49:20,907 - june.records.records_reader - INFO - Loading infections table\n",
      "2022-09-26 09:49:20,918 - june.records.records_reader - INFO - Loading population table\n",
      "2022-09-26 09:49:21,009 - june.records.records_reader - INFO - Merging infection and population tables\n",
      "2022-09-26 09:49:21,018 - june.records.records_reader - INFO - Loading geography table\n",
      "2022-09-26 09:49:21,045 - june.records.records_reader - INFO - Mergeing infection and geography tables\n"
     ]
    }
   ],
   "source": [
    "infections_df = read.get_table_with_extras('infections',\n",
    "                                           'infected_ids')"
   ]
  },
  {
   "cell_type": "code",
   "execution_count": 62,
   "metadata": {},
   "outputs": [
    {
     "name": "stdout",
     "output_type": "stream",
     "text": [
      "2022-09-26 09:49:21,060 - june.records.records_reader - INFO - Loading deaths table\n",
      "2022-09-26 09:49:21,068 - june.records.records_reader - INFO - Loading population table\n",
      "2022-09-26 09:49:21,127 - june.records.records_reader - INFO - Merging infection and population tables\n",
      "2022-09-26 09:49:21,133 - june.records.records_reader - INFO - Loading geography table\n",
      "2022-09-26 09:49:21,156 - june.records.records_reader - INFO - Mergeing infection and geography tables\n"
     ]
    }
   ],
   "source": [
    "deaths_df = read.get_table_with_extras('deaths', \n",
    "                                       'dead_person_ids')"
   ]
  },
  {
   "cell_type": "code",
   "execution_count": 63,
   "metadata": {},
   "outputs": [],
   "source": [
    "age_bins = (0,20,60,100)"
   ]
  },
  {
   "cell_type": "code",
   "execution_count": 64,
   "metadata": {},
   "outputs": [],
   "source": [
    "infected_by_age = infections_df.groupby([pd.cut(infections_df['age'],\n",
    "            bins=age_bins), 'timestamp']).size()"
   ]
  },
  {
   "cell_type": "code",
   "execution_count": 65,
   "metadata": {},
   "outputs": [],
   "source": [
    "people_df = read.table_to_df('population')"
   ]
  },
  {
   "cell_type": "code",
   "execution_count": 66,
   "metadata": {},
   "outputs": [],
   "source": [
    "n_by_age = people_df.groupby(pd.cut(people_df['age'],\n",
    "            bins=age_bins)).size()"
   ]
  },
  {
   "cell_type": "code",
   "execution_count": 67,
   "metadata": {},
   "outputs": [
    {
     "data": {
      "text/plain": [
       "<matplotlib.legend.Legend at 0x7f2e584c82b0>"
      ]
     },
     "execution_count": 67,
     "metadata": {},
     "output_type": "execute_result"
    },
    {
     "data": {
      "image/png": "[encoded data removed]",
      "text/plain": [
       "<Figure size 432x288 with 1 Axes>"
      ]
     },
     "metadata": {
      "needs_background": "light"
     },
     "output_type": "display_data"
    }
   ],
   "source": [
    "(100*infected_by_age/n_by_age).xs(10).cumsum().plot(label='0,20')\n",
    "(100*infected_by_age/n_by_age).xs(30).cumsum().plot(label='20,60')\n",
    "(100*infected_by_age/n_by_age).xs(70).cumsum().plot(label='60,100')\n",
    "plt.ylabel(\"% cumulative infected\")\n",
    "plt.legend()"
   ]
  },
  {
   "cell_type": "markdown",
   "metadata": {},
   "source": [
    "### Where people get infected"
   ]
  },
  {
   "cell_type": "code",
   "execution_count": 68,
   "metadata": {},
   "outputs": [],
   "source": [
    "locations_df = infections_df.groupby(['location_specs', \n",
    "                                'timestamp']).size()"
   ]
  },
  {
   "cell_type": "code",
   "execution_count": 69,
   "metadata": {},
   "outputs": [
    {
     "data": {
      "text/plain": [
       "<AxesSubplot:xlabel='timestamp'>"
      ]
     },
     "execution_count": 69,
     "metadata": {},
     "output_type": "execute_result"
    },
    {
     "data": {
      "image/png": "[encoded data removed]",
      "text/plain": [
       "<Figure size 432x288 with 1 Axes>"
      ]
     },
     "metadata": {
      "needs_background": "light"
     },
     "output_type": "display_data"
    }
   ],
   "source": [
    "locations_df.unstack(level=0).plot()"
   ]
  },
  {
   "cell_type": "code",
   "execution_count": 70,
   "metadata": {},
   "outputs": [
    {
     "data": {
      "text/plain": [
       "Text(0.5, 0, 'location')"
      ]
     },
     "execution_count": 70,
     "metadata": {},
     "output_type": "execute_result"
    },
    {
     "data": {
      "image/png": "[encoded data removed]",
      "text/plain": [
       "<Figure size 432x288 with 1 Axes>"
      ]
     },
     "metadata": {
      "needs_background": "light"
     },
     "output_type": "display_data"
    }
   ],
   "source": [
    "import matplotlib.ticker as mtick\n",
    "location_counts_df = locations_df.groupby('location_specs').size()\n",
    "location_counts_df = 100*location_counts_df / location_counts_df.sum()\n",
    "ax = location_counts_df.sort_values().plot.bar()\n",
    "ax.yaxis.set_major_formatter(mtick.PercentFormatter())\n",
    "plt.ylabel('Percentage of infections at location')\n",
    "plt.xlabel('location')"
   ]
  },
  {
   "cell_type": "markdown",
   "metadata": {},
   "source": [
    "# Tracker results"
   ]
  },
  {
   "cell_type": "markdown",
   "metadata": {},
   "source": [
    "We can define custom binnings with bin edges as such."
   ]
  },
  {
   "cell_type": "code",
   "execution_count": 71,
   "metadata": {},
   "outputs": [
    {
     "data": {
      "text/plain": [
       "1"
      ]
     },
     "execution_count": 71,
     "metadata": {},
     "output_type": "execute_result"
    }
   ],
   "source": [
    "simulator.tracker.contract_matrices(\"AC\", np.array([0,18,60]))"
   ]
  },
  {
   "cell_type": "markdown",
   "metadata": {},
   "source": [
    "Lastly we call the tracker to save the results to file and provide a print out of the results."
   ]
  },
  {
   "cell_type": "code",
   "execution_count": 72,
   "metadata": {
    "scrolled": true
   },
   "outputs": [
    {
     "name": "stdout",
     "output_type": "stream",
     "text": [
      "Results from UNCM\n",
      "  communal:\n",
      "    contacts: [[3.69e+00,7.52e+00],[1.14e+00,5.81e+00]]\n",
      "    contacts_err: [[8.12e-02,1.16e-01],[2.84e-02,6.42e-02]]\n",
      "    proportion_physical: [[1.20e-01]]\n",
      "    characteristic_time: 1.00\n",
      "\n",
      "    Ratio of contacts and feed in values: [[7.38e-01,9.27e-01],[7.44e-01,9.68e-01]]\n",
      "\n",
      "  distribution_center:\n",
      "    contacts: [[4.14e+00,1.37e+01],[7.90e-01,1.00e+01]]\n",
      "    contacts_err: [[5.67e-02,1.03e-01],[1.51e-02,5.36e-02]]\n",
      "    proportion_physical: [[1.20e-01]]\n",
      "    characteristic_time: 1.00\n",
      "\n",
      "    Ratio of contacts and feed in values: [[1.04e+00,1.01e+00],[1.00e+00,1.00e+00]]\n",
      "\n",
      "  e_voucher:\n",
      "    contacts: [[3.17e-01,2.01e+00],[1.09e-01,1.37e+01]]\n",
      "    contacts_err: [[2.51e-02,6.33e-02],[8.43e-03,9.47e-02]]\n",
      "    proportion_physical: [[1.20e-01]]\n",
      "    characteristic_time: 1.00\n",
      "\n",
      "    Ratio of contacts and feed in values: [[0.00e+00,1.01e+00],[1.09e+00,1.02e+00]]\n",
      "\n",
      "  female_communal:\n",
      "    contacts: [[5.06e+00,8.06e+00],[1.50e+00,6.02e+00]]\n",
      "    contacts_err: [[4.77e-02,6.02e-02],[2.67e-02,5.34e-02]]\n",
      "    proportion_physical: [[1.20e-01]]\n",
      "    characteristic_time: 1.00\n",
      "\n",
      "    Ratio of contacts and feed in values: [[1.01e+00,9.94e-01],[9.83e-01,1.00e+00]]\n",
      "\n",
      "  hospital:\n",
      "    contacts: [[4.62e+00,0.00e+00,0.00e+00],[0.00e+00,0.00e+00,0.00e+00],[0.00e+00,0.00e+00,0.00e+00]]\n",
      "    contacts_err: [[1.67e-01,0.00e+00,0.00e+00],[0.00e+00,0.00e+00,0.00e+00],[0.00e+00,0.00e+00,0.00e+00]]\n",
      "    proportion_physical: [[5.00e-02,1.00e+00,1.00e+00],[1.00e+00,0.00e+00,0.00e+00],[1.00e+00,0.00e+00,0.00e+00]]\n",
      "    characteristic_time: 8.00\n",
      "\n",
      "    Ratio of contacts and feed in values: [[9.24e-01,0.00e+00,0.00e+00],[0.00e+00,0.00e+00,0.00e+00],[0.00e+00,0.00e+00,0.00e+00]]\n",
      "\n",
      "  informal_work:\n",
      "    contacts: [[5.04e+00]]\n",
      "    contacts_err: [[3.93e-02]]\n",
      "    proportion_physical: [[1.20e-01]]\n",
      "    characteristic_time: 8.00\n",
      "\n",
      "    Ratio of contacts and feed in values: [[1.01e+00]]\n",
      "\n",
      "  isolation_unit:\n",
      "    contacts: [[0.00e+00,0.00e+00],[0.00e+00,0.00e+00]]\n",
      "    contacts_err: [[0.00e+00,0.00e+00],[0.00e+00,0.00e+00]]\n",
      "    proportion_physical: [[0.00e+00,0.00e+00],[0.00e+00,0.00e+00]]\n",
      "    characteristic_time: 24.00\n",
      "\n",
      "    Ratio of contacts and feed in values: [[0.00e+00,0.00e+00],[0.00e+00,0.00e+00]]\n",
      "\n",
      "  learning_center:\n",
      "    contacts: [[9.98e+00,6.39e+00],[1.91e+00,3.87e+00]]\n",
      "    contacts_err: [[1.41e-02,1.13e-02],[6.88e-03,9.81e-03]]\n",
      "    proportion_physical: [[1.20e-01,1.20e-01],[1.20e-01,1.20e-01]]\n",
      "    characteristic_time: 1.50\n",
      "\n",
      "    Ratio of contacts and feed in values: [[9.98e-01,9.98e-01],[4.29e-01,9.97e-01]]\n",
      "\n",
      "  n_f_distribution_center:\n",
      "    contacts: [[3.97e+00,1.35e+01],[7.87e-01,1.00e+01]]\n",
      "    contacts_err: [[4.18e-02,7.72e-02],[1.13e-02,4.02e-02]]\n",
      "    proportion_physical: [[1.20e-01]]\n",
      "    characteristic_time: 1.00\n",
      "\n",
      "    Ratio of contacts and feed in values: [[9.91e-01,9.91e-01],[9.96e-01,1.00e+00]]\n",
      "\n",
      "  play_group:\n",
      "    contacts: [[5.01e+00,0.00e+00,0.00e+00],[0.00e+00,4.97e+00,0.00e+00],[0.00e+00,0.00e+00,4.89e+00]]\n",
      "    contacts_err: [[2.05e-02,0.00e+00,0.00e+00],[0.00e+00,1.97e-02,0.00e+00],[0.00e+00,0.00e+00,2.70e-02]]\n",
      "    proportion_physical: [[6.00e-01,0.00e+00,0.00e+00],[0.00e+00,3.00e-01,0.00e+00],[0.00e+00,0.00e+00,1.50e-01]]\n",
      "    characteristic_time: 2.00\n",
      "\n",
      "    Ratio of contacts and feed in values: [[1.00e+00,0.00e+00,0.00e+00],[0.00e+00,9.94e-01,0.00e+00],[0.00e+00,0.00e+00,9.77e-01]]\n",
      "\n",
      "  pump_latrine:\n",
      "    contacts: [[3.25e+00,9.73e+00],[1.63e+00,4.32e+00]]\n",
      "    contacts_err: [[2.97e-03,5.14e-03],[2.41e-03,3.92e-03]]\n",
      "    proportion_physical: [[2.00e-02]]\n",
      "    characteristic_time: 0.54\n",
      "\n",
      "    Ratio of contacts and feed in values: [[9.99e-01,1.00e+00],[1.00e+00,9.98e-01]]\n",
      "\n",
      "  religious:\n",
      "    contacts: [[5.00e+00,9.46e+00],[1.10e+00,8.49e+00]]\n",
      "    contacts_err: [[1.69e-02,2.33e-02],[5.51e-03,1.53e-02]]\n",
      "    proportion_physical: [[1.20e-01]]\n",
      "    characteristic_time: 1.00\n",
      "\n",
      "    Ratio of contacts and feed in values: [[1.00e+00,9.99e-01],[1.00e+00,9.99e-01]]\n",
      "\n",
      "  shelter:\n",
      "    contacts: [[4.85e+00,1.96e+00],[1.96e+00,4.85e+00]]\n",
      "    contacts_err: [[1.57e-02,9.95e-03],[9.95e-03,1.57e-02]]\n",
      "    proportion_physical: [[8.00e-01,3.00e-01],[8.00e-01,3.00e-01]]\n",
      "    characteristic_time: 12.00\n",
      "\n",
      "    Ratio of contacts and feed in values: [[9.71e-01,9.80e-01],[9.80e-01,9.71e-01]]\n",
      "\n",
      "\n",
      "Results from UNCM_R\n",
      "  communal:\n",
      "    contacts: [[3.69e+00,5.19e+00],[2.06e+00,5.81e+00]]\n",
      "    contacts_err: [[5.74e-02,6.81e-02],[2.71e-02,4.54e-02]]\n",
      "    proportion_physical: [[1.20e-01]]\n",
      "    characteristic_time: 1.00\n",
      "\n",
      "    Ratio of contacts and feed in values: [[7.38e-01,6.40e-01],[1.35e+00,9.68e-01]]\n",
      "\n",
      "  distribution_center:\n",
      "    contacts: [[4.14e+00,7.93e+00],[2.93e+00,1.00e+01]]\n",
      "    contacts_err: [[4.01e-02,5.55e-02],[2.05e-02,3.79e-02]]\n",
      "    proportion_physical: [[1.20e-01]]\n",
      "    characteristic_time: 1.00\n",
      "\n",
      "    Ratio of contacts and feed in values: [[1.04e+00,5.82e-01],[3.71e+00,1.00e+00]]\n",
      "\n",
      "  e_voucher:\n",
      "    contacts: [[3.17e-01,1.17e+00],[3.85e-01,1.37e+01]]\n",
      "    contacts_err: [[1.78e-02,3.42e-02],[1.12e-02,6.70e-02]]\n",
      "    proportion_physical: [[1.20e-01]]\n",
      "    characteristic_time: 1.00\n",
      "\n",
      "    Ratio of contacts and feed in values: [[0.00e+00,5.86e-01],[3.85e+00,1.02e+00]]\n",
      "\n",
      "  female_communal:\n",
      "    contacts: [[5.06e+00,4.74e+00],[5.00e+00,6.02e+00]]\n",
      "    contacts_err: [[3.37e-02,3.26e-02],[3.44e-02,3.77e-02]]\n",
      "    proportion_physical: [[1.20e-01]]\n",
      "    characteristic_time: 1.00\n",
      "\n",
      "    Ratio of contacts and feed in values: [[1.01e+00,5.85e-01],[3.27e+00,1.00e+00]]\n",
      "\n",
      "  hospital:\n",
      "    contacts: [[4.62e+00,0.00e+00,0.00e+00],[0.00e+00,0.00e+00,0.00e+00],[0.00e+00,0.00e+00,0.00e+00]]\n",
      "    contacts_err: [[1.18e-01,0.00e+00,0.00e+00],[0.00e+00,0.00e+00,0.00e+00],[0.00e+00,0.00e+00,0.00e+00]]\n",
      "    proportion_physical: [[5.00e-02,1.00e+00,1.00e+00],[1.00e+00,0.00e+00,0.00e+00],[1.00e+00,0.00e+00,0.00e+00]]\n",
      "    characteristic_time: 8.00\n",
      "\n",
      "    Ratio of contacts and feed in values: [[9.24e-01,0.00e+00,0.00e+00],[0.00e+00,0.00e+00,0.00e+00],[0.00e+00,0.00e+00,0.00e+00]]\n",
      "\n",
      "  informal_work:\n",
      "    contacts: [[5.04e+00]]\n",
      "    contacts_err: [[2.78e-02]]\n",
      "    proportion_physical: [[1.20e-01]]\n",
      "    characteristic_time: 8.00\n",
      "\n",
      "    Ratio of contacts and feed in values: [[1.01e+00]]\n",
      "\n",
      "  isolation_unit:\n",
      "    contacts: [[0.00e+00,0.00e+00],[0.00e+00,0.00e+00]]\n",
      "    contacts_err: [[0.00e+00,0.00e+00],[0.00e+00,0.00e+00]]\n",
      "    proportion_physical: [[0.00e+00,0.00e+00],[0.00e+00,0.00e+00]]\n",
      "    characteristic_time: 24.00\n",
      "\n",
      "    Ratio of contacts and feed in values: [[0.00e+00,0.00e+00],[0.00e+00,0.00e+00]]\n",
      "\n",
      "  learning_center:\n",
      "    contacts: [[9.98e+00,3.95e+00],[4.96e+00,3.87e+00]]\n",
      "    contacts_err: [[9.95e-03,6.26e-03],[7.86e-03,6.94e-03]]\n",
      "    proportion_physical: [[1.20e-01,1.20e-01],[1.20e-01,1.20e-01]]\n",
      "    characteristic_time: 1.50\n",
      "\n",
      "    Ratio of contacts and feed in values: [[9.98e-01,6.18e-01],[1.12e+00,9.97e-01]]\n",
      "\n",
      "  n_f_distribution_center:\n",
      "    contacts: [[3.97e+00,7.83e+00],[2.86e+00,1.00e+01]]\n",
      "    contacts_err: [[2.96e-02,4.16e-02],[1.52e-02,2.84e-02]]\n",
      "    proportion_physical: [[1.20e-01]]\n",
      "    characteristic_time: 1.00\n",
      "\n",
      "    Ratio of contacts and feed in values: [[9.91e-01,5.75e-01],[3.62e+00,1.00e+00]]\n",
      "\n",
      "  play_group:\n",
      "    contacts: [[5.01e+00,0.00e+00,0.00e+00],[0.00e+00,4.97e+00,0.00e+00],[0.00e+00,0.00e+00,4.89e+00]]\n",
      "    contacts_err: [[1.45e-02,0.00e+00,0.00e+00],[0.00e+00,1.39e-02,0.00e+00],[0.00e+00,0.00e+00,1.91e-02]]\n",
      "    proportion_physical: [[6.00e-01,0.00e+00,0.00e+00],[0.00e+00,3.00e-01,0.00e+00],[0.00e+00,0.00e+00,1.50e-01]]\n",
      "    characteristic_time: 2.00\n",
      "\n",
      "    Ratio of contacts and feed in values: [[1.00e+00,0.00e+00,0.00e+00],[0.00e+00,9.94e-01,0.00e+00],[0.00e+00,0.00e+00,9.77e-01]]\n",
      "\n",
      "  pump_latrine:\n",
      "    contacts: [[3.25e+00,5.49e+00],[7.19e+00,4.32e+00]]\n",
      "    contacts_err: [[2.10e-03,2.73e-03],[3.57e-03,2.77e-03]]\n",
      "    proportion_physical: [[2.00e-02]]\n",
      "    characteristic_time: 0.54\n",
      "\n",
      "    Ratio of contacts and feed in values: [[9.99e-01,5.64e-01],[4.41e+00,9.98e-01]]\n",
      "\n",
      "  religious:\n",
      "    contacts: [[5.00e+00,5.87e+00],[2.82e+00,8.49e+00]]\n",
      "    contacts_err: [[1.20e-02,1.30e-02],[6.24e-03,1.08e-02]]\n",
      "    proportion_physical: [[1.20e-01]]\n",
      "    characteristic_time: 1.00\n",
      "\n",
      "    Ratio of contacts and feed in values: [[1.00e+00,6.20e-01],[2.57e+00,9.99e-01]]\n",
      "\n",
      "  shelter:\n",
      "    contacts: [[4.85e+00,1.96e+00],[1.96e+00,4.85e+00]]\n",
      "    contacts_err: [[1.11e-02,7.03e-03],[7.03e-03,1.11e-02]]\n",
      "    proportion_physical: [[8.00e-01,3.00e-01],[8.00e-01,3.00e-01]]\n",
      "    characteristic_time: 12.00\n",
      "\n",
      "    Ratio of contacts and feed in values: [[9.71e-01,9.80e-01],[9.80e-01,9.71e-01]]\n",
      "\n",
      "\n",
      "Results from UNCM_V\n",
      "  communal:\n",
      "    contacts: [[9.64e-01,2.41e+00],[9.58e-01,2.44e+00]]\n",
      "    contacts_err: [[4.15e-02,6.56e-02],[2.61e-02,4.17e-02]]\n",
      "    proportion_physical: [[1.20e-01]]\n",
      "    characteristic_time: 1.00\n",
      "\n",
      "    Ratio of contacts and feed in values: [[1.93e-01,2.97e-01],[6.26e-01,4.07e-01]]\n",
      "\n",
      "  distribution_center:\n",
      "    contacts: [[1.16e+01,3.11e+01],[1.15e+01,3.11e+01]]\n",
      "    contacts_err: [[9.50e-02,1.55e-01],[5.74e-02,9.45e-02]]\n",
      "    proportion_physical: [[1.20e-01]]\n",
      "    characteristic_time: 1.00\n",
      "\n",
      "    Ratio of contacts and feed in values: [[2.90e+00,2.28e+00],[1.45e+01,3.11e+00]]\n",
      "\n",
      "  e_voucher:\n",
      "    contacts: [[4.26e+00,1.35e+01],[4.43e+00,1.40e+01]]\n",
      "    contacts_err: [[9.21e-02,1.64e-01],[5.38e-02,9.57e-02]]\n",
      "    proportion_physical: [[1.20e-01]]\n",
      "    characteristic_time: 1.00\n",
      "\n",
      "    Ratio of contacts and feed in values: [[0.00e+00,6.74e+00],[4.43e+01,1.04e+00]]\n",
      "\n",
      "  female_communal:\n",
      "    contacts: [[6.71e+00,6.54e+00],[6.90e+00,6.68e+00]]\n",
      "    contacts_err: [[5.49e-02,5.42e-02],[5.72e-02,5.63e-02]]\n",
      "    proportion_physical: [[1.20e-01]]\n",
      "    characteristic_time: 1.00\n",
      "\n",
      "    Ratio of contacts and feed in values: [[1.34e+00,8.07e-01],[4.51e+00,1.11e+00]]\n",
      "\n",
      "  hospital:\n",
      "    contacts: [[1.26e+01,0.00e+00,0.00e+00],[0.00e+00,0.00e+00,0.00e+00],[0.00e+00,0.00e+00,0.00e+00]]\n",
      "    contacts_err: [[2.76e-01,0.00e+00,0.00e+00],[0.00e+00,0.00e+00,0.00e+00],[0.00e+00,0.00e+00,0.00e+00]]\n",
      "    proportion_physical: [[5.00e-02,1.00e+00,1.00e+00],[1.00e+00,0.00e+00,0.00e+00],[1.00e+00,0.00e+00,0.00e+00]]\n",
      "    characteristic_time: 8.00\n",
      "\n",
      "    Ratio of contacts and feed in values: [[2.52e+00,0.00e+00,0.00e+00],[0.00e+00,0.00e+00,0.00e+00],[0.00e+00,0.00e+00,0.00e+00]]\n",
      "\n",
      "  informal_work:\n",
      "    contacts: [[3.16e+01]]\n",
      "    contacts_err: [[9.85e-02]]\n",
      "    proportion_physical: [[1.20e-01]]\n",
      "    characteristic_time: 8.00\n",
      "\n",
      "    Ratio of contacts and feed in values: [[6.32e+00]]\n",
      "\n",
      "  isolation_unit:\n",
      "    contacts: [[0.00e+00,0.00e+00],[0.00e+00,0.00e+00]]\n",
      "    contacts_err: [[0.00e+00,0.00e+00],[0.00e+00,0.00e+00]]\n",
      "    proportion_physical: [[0.00e+00,0.00e+00],[0.00e+00,0.00e+00]]\n",
      "    characteristic_time: 24.00\n",
      "\n",
      "    Ratio of contacts and feed in values: [[0.00e+00,0.00e+00],[0.00e+00,0.00e+00]]\n",
      "\n",
      "  learning_center:\n",
      "    contacts: [[8.88e+00,2.92e+00],[3.67e+00,2.66e+00]]\n",
      "    contacts_err: [[1.33e-02,7.61e-03],[9.55e-03,8.13e-03]]\n",
      "    proportion_physical: [[1.20e-01,1.20e-01],[1.20e-01,1.20e-01]]\n",
      "    characteristic_time: 1.50\n",
      "\n",
      "    Ratio of contacts and feed in values: [[8.88e-01,4.56e-01],[8.26e-01,6.85e-01]]\n",
      "\n",
      "  n_f_distribution_center:\n",
      "    contacts: [[2.03e+01,5.61e+01],[2.05e+01,5.57e+01]]\n",
      "    contacts_err: [[9.45e-02,1.57e-01],[5.75e-02,9.48e-02]]\n",
      "    proportion_physical: [[1.20e-01]]\n",
      "    characteristic_time: 1.00\n",
      "\n",
      "    Ratio of contacts and feed in values: [[5.07e+00,4.12e+00],[2.60e+01,5.57e+00]]\n",
      "\n",
      "  play_group:\n",
      "    contacts: [[7.36e+00,8.04e+00,4.11e+00],[7.44e+00,8.27e+00,4.19e+00],[7.28e+00,8.03e+00,4.23e+00]]\n",
      "    contacts_err: [[2.49e-02,2.60e-02,1.86e-02],[2.41e-02,2.54e-02,1.81e-02],[3.29e-02,3.46e-02,2.51e-02]]\n",
      "    proportion_physical: [[6.00e-01,0.00e+00,0.00e+00],[0.00e+00,3.00e-01,0.00e+00],[0.00e+00,0.00e+00,1.50e-01]]\n",
      "    characteristic_time: 2.00\n",
      "\n",
      "    Ratio of contacts and feed in values: [[1.47e+00,0.00e+00,0.00e+00],[0.00e+00,1.65e+00,0.00e+00],[0.00e+00,0.00e+00,8.47e-01]]\n",
      "\n",
      "  pump_latrine:\n",
      "    contacts: [[1.56e+01,1.20e+01],[1.57e+01,1.23e+01]]\n",
      "    contacts_err: [[6.51e-03,5.71e-03],[7.47e-03,6.62e-03]]\n",
      "    proportion_physical: [[2.00e-02]]\n",
      "    characteristic_time: 0.54\n",
      "\n",
      "    Ratio of contacts and feed in values: [[4.80e+00,1.23e+00],[9.64e+00,2.85e+00]]\n",
      "\n",
      "  religious:\n",
      "    contacts: [[1.52e+01,3.09e+01],[1.49e+01,2.99e+01]]\n",
      "    contacts_err: [[2.95e-02,4.21e-02],[2.02e-02,2.87e-02]]\n",
      "    proportion_physical: [[1.20e-01]]\n",
      "    characteristic_time: 1.00\n",
      "\n",
      "    Ratio of contacts and feed in values: [[3.03e+00,3.26e+00],[1.35e+01,3.52e+00]]\n",
      "\n",
      "  shelter:\n",
      "    contacts: [[4.76e+00,3.52e+00],[3.52e+00,5.18e+00]]\n",
      "    contacts_err: [[1.55e-02,1.33e-02],[1.33e-02,1.62e-02]]\n",
      "    proportion_physical: [[8.00e-01,3.00e-01],[8.00e-01,3.00e-01]]\n",
      "    characteristic_time: 12.00\n",
      "\n",
      "    Ratio of contacts and feed in values: [[9.53e-01,1.76e+00],[1.76e+00,1.04e+00]]\n",
      "\n",
      "\n"
     ]
    },
    {
     "data": {
      "text/plain": [
       "1"
      ]
     },
     "execution_count": 72,
     "metadata": {},
     "output_type": "execute_result"
    }
   ],
   "source": [
    "simulator.tracker.post_process_simulation(save=True)"
   ]
  },
  {
   "cell_type": "code",
   "execution_count": 73,
   "metadata": {},
   "outputs": [
    {
     "name": "stdout",
     "output_type": "stream",
     "text": [
      "82\n"
     ]
    }
   ],
   "source": []
  },
  {
   "cell_type": "code",
   "execution_count": 74,
   "metadata": {},
   "outputs": [
    {
     "name": "stdout",
     "output_type": "stream",
     "text": [
      "65\n",
      "1\n",
      "1\n",
      "1\n",
      "1\n",
      "1\n",
      "1\n",
      "1\n",
      "1\n",
      "1\n",
      "1\n",
      "1\n",
      "1\n",
      "1\n",
      "1\n",
      "1\n",
      "1\n",
      "1\n",
      "1\n",
      "1\n",
      "1\n",
      "1\n",
      "1\n",
      "1\n",
      "1\n",
      "1\n",
      "1\n",
      "1\n",
      "1\n",
      "1\n",
      "1\n",
      "1\n",
      "1\n",
      "1\n",
      "1\n",
      "1\n",
      "1\n",
      "1\n",
      "1\n",
      "1\n",
      "1\n",
      "1\n",
      "1\n",
      "1\n",
      "1\n",
      "1\n",
      "1\n",
      "1\n",
      "1\n",
      "1\n",
      "1\n",
      "1\n",
      "1\n",
      "1\n",
      "1\n",
      "1\n",
      "1\n",
      "1\n",
      "1\n",
      "1\n",
      "1\n",
      "1\n",
      "1\n",
      "1\n",
      "1\n",
      "1\n"
     ]
    }
   ],
   "source": []
  },
  {
   "cell_type": "code",
   "execution_count": 75,
   "metadata": {},
   "outputs": [
    {
     "data": {
      "text/plain": [
       "{0: {'unisex': [0, 0, 0, 0, 0, 0, 0],\n",
       "  'male': [0, 0, 0, 0, 0, 0, 0],\n",
       "  'female': [0, 0, 0, 0, 0, 0, 0]},\n",
       " 1: {'unisex': [316, 319, 308, 318, 316, 316, 319],\n",
       "  'male': [158, 147, 144, 154, 151, 151, 144],\n",
       "  'female': [158, 172, 164, 164, 165, 165, 175]},\n",
       " 2: {'unisex': [265, 276, 262, 274, 269, 278, 266],\n",
       "  'male': [109, 123, 114, 124, 116, 117, 108],\n",
       "  'female': [156, 153, 148, 150, 153, 161, 158]},\n",
       " 3: {'unisex': [222, 211, 209, 205, 214, 240, 242],\n",
       "  'male': [100, 95, 96, 104, 98, 106, 111],\n",
       "  'female': [122, 116, 113, 101, 116, 134, 131]},\n",
       " 4: {'unisex': [263, 262, 267, 275, 265, 292, 284],\n",
       "  'male': [111, 114, 119, 122, 111, 129, 123],\n",
       "  'female': [152, 148, 148, 153, 154, 163, 161]},\n",
       " 5: {'unisex': [154, 164, 156, 161, 160, 215, 224],\n",
       "  'male': [63, 65, 60, 74, 65, 87, 92],\n",
       "  'female': [91, 99, 96, 87, 95, 128, 132]},\n",
       " 6: {'unisex': [185, 181, 197, 197, 176, 232, 232],\n",
       "  'male': [82, 73, 81, 86, 76, 103, 101],\n",
       "  'female': [103, 108, 116, 111, 100, 129, 131]},\n",
       " 7: {'unisex': [174, 188, 181, 185, 184, 187, 185],\n",
       "  'male': [67, 73, 71, 72, 73, 72, 67],\n",
       "  'female': [107, 115, 110, 113, 111, 115, 118]},\n",
       " 8: {'unisex': [186, 181, 191, 196, 181, 252, 251],\n",
       "  'male': [87, 85, 88, 92, 78, 121, 115],\n",
       "  'female': [99, 96, 103, 104, 103, 131, 136]},\n",
       " 9: {'unisex': [191, 179, 190, 184, 178, 205, 192],\n",
       "  'male': [85, 71, 83, 87, 77, 89, 85],\n",
       "  'female': [106, 108, 107, 97, 101, 116, 107]},\n",
       " 10: {'unisex': [161, 149, 164, 166, 173, 186, 171],\n",
       "  'male': [76, 72, 77, 87, 81, 88, 82],\n",
       "  'female': [85, 77, 87, 79, 92, 98, 89]},\n",
       " 11: {'unisex': [0, 0, 0, 0, 0, 0, 0],\n",
       "  'male': [0, 0, 0, 0, 0, 0, 0],\n",
       "  'female': [0, 0, 0, 0, 0, 0, 0]},\n",
       " 12: {'unisex': [312, 328, 324, 304, 304, 325, 322],\n",
       "  'male': [139, 152, 158, 134, 140, 148, 154],\n",
       "  'female': [173, 176, 166, 170, 164, 177, 168]},\n",
       " 13: {'unisex': [292, 285, 282, 286, 308, 297, 300],\n",
       "  'male': [123, 115, 113, 121, 135, 124, 125],\n",
       "  'female': [169, 170, 169, 165, 173, 173, 175]},\n",
       " 14: {'unisex': [0, 0, 0, 0, 0, 0, 0],\n",
       "  'male': [0, 0, 0, 0, 0, 0, 0],\n",
       "  'female': [0, 0, 0, 0, 0, 0, 0]},\n",
       " 15: {'unisex': [326, 321, 318, 317, 323, 326, 321],\n",
       "  'male': [138, 137, 132, 128, 133, 133, 127],\n",
       "  'female': [188, 184, 186, 189, 190, 193, 194]},\n",
       " 16: {'unisex': [0, 0, 0, 0, 0, 0, 0],\n",
       "  'male': [0, 0, 0, 0, 0, 0, 0],\n",
       "  'female': [0, 0, 0, 0, 0, 0, 0]},\n",
       " 17: {'unisex': [260, 279, 259, 275, 252, 265, 270],\n",
       "  'male': [114, 126, 120, 131, 115, 117, 118],\n",
       "  'female': [146, 153, 139, 144, 137, 148, 152]},\n",
       " 18: {'unisex': [261, 278, 297, 287, 288, 294, 291],\n",
       "  'male': [113, 119, 129, 123, 128, 122, 124],\n",
       "  'female': [148, 159, 168, 164, 160, 172, 167]},\n",
       " 19: {'unisex': [0, 0, 0, 0, 0, 0, 0],\n",
       "  'male': [0, 0, 0, 0, 0, 0, 0],\n",
       "  'female': [0, 0, 0, 0, 0, 0, 0]},\n",
       " 20: {'unisex': [287, 283, 287, 287, 276, 319, 298],\n",
       "  'male': [133, 123, 117, 127, 122, 144, 137],\n",
       "  'female': [154, 160, 170, 160, 154, 175, 161]},\n",
       " 21: {'unisex': [0, 0, 0, 0, 0, 0, 0],\n",
       "  'male': [0, 0, 0, 0, 0, 0, 0],\n",
       "  'female': [0, 0, 0, 0, 0, 0, 0]},\n",
       " 22: {'unisex': [271, 290, 285, 278, 303, 300, 303],\n",
       "  'male': [102, 123, 114, 107, 128, 122, 113],\n",
       "  'female': [169, 167, 171, 171, 175, 178, 190]},\n",
       " 23: {'unisex': [0, 0, 0, 0, 0, 0, 0],\n",
       "  'male': [0, 0, 0, 0, 0, 0, 0],\n",
       "  'female': [0, 0, 0, 0, 0, 0, 0]},\n",
       " 24: {'unisex': [260, 265, 259, 259, 261, 274, 292],\n",
       "  'male': [120, 124, 129, 120, 118, 129, 147],\n",
       "  'female': [140, 141, 130, 139, 143, 145, 145]},\n",
       " 25: {'unisex': [253, 250, 256, 255, 257, 279, 279],\n",
       "  'male': [101, 101, 99, 104, 103, 114, 117],\n",
       "  'female': [152, 149, 157, 151, 154, 165, 162]},\n",
       " 26: {'unisex': [234, 223, 236, 230, 236, 267, 270],\n",
       "  'male': [110, 99, 110, 102, 101, 123, 124],\n",
       "  'female': [124, 124, 126, 128, 135, 144, 146]},\n",
       " 27: {'unisex': [0, 0, 0, 0, 0, 0, 0],\n",
       "  'male': [0, 0, 0, 0, 0, 0, 0],\n",
       "  'female': [0, 0, 0, 0, 0, 0, 0]},\n",
       " 28: {'unisex': [281, 279, 278, 288, 268, 289, 297],\n",
       "  'male': [119, 118, 119, 127, 108, 123, 123],\n",
       "  'female': [162, 161, 159, 161, 160, 166, 174]},\n",
       " 29: {'unisex': [284, 281, 263, 279, 293, 274, 280],\n",
       "  'male': [112, 114, 109, 113, 123, 113, 111],\n",
       "  'female': [172, 167, 154, 166, 170, 161, 169]},\n",
       " 30: {'unisex': [230, 233, 229, 231, 230, 256, 227],\n",
       "  'male': [95, 97, 99, 100, 90, 108, 79],\n",
       "  'female': [135, 136, 130, 131, 140, 148, 148]},\n",
       " 31: {'unisex': [0, 0, 0, 0, 0, 0, 0],\n",
       "  'male': [0, 0, 0, 0, 0, 0, 0],\n",
       "  'female': [0, 0, 0, 0, 0, 0, 0]},\n",
       " 32: {'unisex': [340, 324, 334, 307, 314, 328, 338],\n",
       "  'male': [125, 114, 129, 114, 115, 121, 132],\n",
       "  'female': [215, 210, 205, 193, 199, 207, 206]},\n",
       " 33: {'unisex': [239, 245, 232, 240, 232, 273, 277],\n",
       "  'male': [120, 129, 120, 119, 114, 130, 138],\n",
       "  'female': [119, 116, 112, 121, 118, 143, 139]},\n",
       " 34: {'unisex': [246, 241, 232, 237, 227, 241, 233],\n",
       "  'male': [111, 108, 104, 108, 99, 108, 107],\n",
       "  'female': [135, 133, 128, 129, 128, 133, 126]},\n",
       " 35: {'unisex': [268, 266, 269, 269, 255, 271, 268],\n",
       "  'male': [101, 106, 104, 101, 90, 110, 106],\n",
       "  'female': [167, 160, 165, 168, 165, 161, 162]},\n",
       " 36: {'unisex': [178, 180, 180, 185, 180, 189, 201],\n",
       "  'male': [86, 87, 85, 91, 89, 88, 103],\n",
       "  'female': [92, 93, 95, 94, 91, 101, 98]},\n",
       " 37: {'unisex': [311, 294, 288, 295, 301, 340, 321],\n",
       "  'male': [140, 121, 115, 112, 131, 145, 125],\n",
       "  'female': [171, 173, 173, 183, 170, 195, 196]},\n",
       " 38: {'unisex': [0, 0, 0, 0, 0, 0, 0],\n",
       "  'male': [0, 0, 0, 0, 0, 0, 0],\n",
       "  'female': [0, 0, 0, 0, 0, 0, 0]},\n",
       " 39: {'unisex': [330, 323, 324, 334, 321, 340, 329],\n",
       "  'male': [138, 132, 134, 139, 143, 145, 134],\n",
       "  'female': [192, 191, 190, 195, 178, 195, 195]},\n",
       " 40: {'unisex': [0, 0, 0, 0, 0, 0, 0],\n",
       "  'male': [0, 0, 0, 0, 0, 0, 0],\n",
       "  'female': [0, 0, 0, 0, 0, 0, 0]},\n",
       " 41: {'unisex': [361, 348, 333, 338, 348, 337, 344],\n",
       "  'male': [148, 141, 127, 132, 150, 139, 141],\n",
       "  'female': [213, 207, 206, 206, 198, 198, 203]},\n",
       " 42: {'unisex': [0, 0, 0, 0, 0, 0, 0],\n",
       "  'male': [0, 0, 0, 0, 0, 0, 0],\n",
       "  'female': [0, 0, 0, 0, 0, 0, 0]},\n",
       " 43: {'unisex': [118, 134, 116, 117, 123, 127, 131],\n",
       "  'male': [57, 61, 54, 49, 62, 61, 61],\n",
       "  'female': [61, 73, 62, 68, 61, 66, 70]},\n",
       " 44: {'unisex': [225, 242, 226, 228, 224, 229, 228],\n",
       "  'male': [96, 109, 99, 93, 91, 99, 98],\n",
       "  'female': [129, 133, 127, 135, 133, 130, 130]},\n",
       " 45: {'unisex': [278, 276, 303, 283, 286, 290, 296],\n",
       "  'male': [111, 111, 127, 109, 111, 116, 120],\n",
       "  'female': [167, 165, 176, 174, 175, 174, 176]},\n",
       " 46: {'unisex': [259, 274, 279, 286, 260, 290, 275],\n",
       "  'male': [103, 102, 106, 116, 97, 115, 101],\n",
       "  'female': [156, 172, 173, 170, 163, 175, 174]},\n",
       " 47: {'unisex': [258, 236, 243, 244, 243, 251, 252],\n",
       "  'male': [124, 117, 121, 116, 119, 116, 130],\n",
       "  'female': [134, 119, 122, 128, 124, 135, 122]},\n",
       " 48: {'unisex': [299, 308, 300, 295, 300, 322, 322],\n",
       "  'male': [118, 127, 124, 113, 115, 126, 129],\n",
       "  'female': [181, 181, 176, 182, 185, 196, 193]},\n",
       " 49: {'unisex': [0, 0, 0, 0, 0, 0, 0],\n",
       "  'male': [0, 0, 0, 0, 0, 0, 0],\n",
       "  'female': [0, 0, 0, 0, 0, 0, 0]},\n",
       " 50: {'unisex': [324, 332, 303, 314, 314, 322, 314],\n",
       "  'male': [136, 137, 117, 125, 132, 135, 127],\n",
       "  'female': [188, 195, 186, 189, 182, 187, 187]},\n",
       " 51: {'unisex': [0, 0, 0, 0, 0, 0, 0],\n",
       "  'male': [0, 0, 0, 0, 0, 0, 0],\n",
       "  'female': [0, 0, 0, 0, 0, 0, 0]},\n",
       " 52: {'unisex': [179, 170, 178, 169, 174, 191, 180],\n",
       "  'male': [68, 65, 63, 62, 63, 76, 64],\n",
       "  'female': [111, 105, 115, 107, 111, 115, 116]},\n",
       " 53: {'unisex': [205, 211, 203, 218, 205, 217, 213],\n",
       "  'male': [85, 104, 87, 101, 96, 103, 98],\n",
       "  'female': [120, 107, 116, 117, 109, 114, 115]},\n",
       " 54: {'unisex': [237, 244, 236, 220, 227, 229, 236],\n",
       "  'male': [113, 122, 120, 110, 112, 113, 116],\n",
       "  'female': [124, 122, 116, 110, 115, 116, 120]},\n",
       " 55: {'unisex': [139, 141, 138, 135, 148, 158, 148],\n",
       "  'male': [59, 67, 55, 58, 66, 76, 69],\n",
       "  'female': [80, 74, 83, 77, 82, 82, 79]},\n",
       " 56: {'unisex': [221, 213, 236, 223, 226, 240, 249],\n",
       "  'male': [88, 84, 100, 89, 89, 95, 100],\n",
       "  'female': [133, 129, 136, 134, 137, 145, 149]},\n",
       " 57: {'unisex': [243, 238, 234, 226, 244, 246, 240],\n",
       "  'male': [97, 102, 100, 93, 111, 101, 99],\n",
       "  'female': [146, 136, 134, 133, 133, 145, 141]},\n",
       " 58: {'unisex': [0, 0, 0, 0, 0, 0, 0],\n",
       "  'male': [0, 0, 0, 0, 0, 0, 0],\n",
       "  'female': [0, 0, 0, 0, 0, 0, 0]},\n",
       " 59: {'unisex': [363, 367, 386, 379, 385, 375, 394],\n",
       "  'male': [143, 149, 163, 150, 159, 146, 165],\n",
       "  'female': [220, 218, 223, 229, 226, 229, 229]},\n",
       " 60: {'unisex': [258, 263, 251, 261, 274, 275, 268],\n",
       "  'male': [112, 113, 103, 110, 116, 116, 116],\n",
       "  'female': [146, 150, 148, 151, 158, 159, 152]},\n",
       " 61: {'unisex': [174, 175, 173, 173, 161, 169, 172],\n",
       "  'male': [72, 69, 71, 66, 63, 74, 69],\n",
       "  'female': [102, 106, 102, 107, 98, 95, 103]},\n",
       " 62: {'unisex': [195, 185, 197, 194, 204, 204, 214],\n",
       "  'male': [77, 77, 73, 76, 81, 76, 83],\n",
       "  'female': [118, 108, 124, 118, 123, 128, 131]},\n",
       " 63: {'unisex': [170, 176, 170, 177, 166, 177, 180],\n",
       "  'male': [71, 80, 70, 78, 64, 72, 77],\n",
       "  'female': [99, 96, 100, 99, 102, 105, 103]},\n",
       " 64: {'unisex': [231, 227, 227, 216, 205, 262, 259],\n",
       "  'male': [100, 92, 96, 89, 84, 101, 107],\n",
       "  'female': [131, 135, 131, 127, 121, 161, 152]},\n",
       " 65: {'unisex': [203, 215, 212, 189, 191, 244, 239],\n",
       "  'male': [89, 90, 89, 85, 82, 107, 111],\n",
       "  'female': [114, 125, 123, 104, 109, 137, 128]},\n",
       " 66: {'unisex': [233, 228, 223, 223, 221, 235, 241],\n",
       "  'male': [94, 92, 87, 83, 87, 87, 95],\n",
       "  'female': [139, 136, 136, 140, 134, 148, 146]},\n",
       " 67: {'unisex': [0, 0, 0, 0, 0, 0, 0],\n",
       "  'male': [0, 0, 0, 0, 0, 0, 0],\n",
       "  'female': [0, 0, 0, 0, 0, 0, 0]},\n",
       " 68: {'unisex': [275, 287, 283, 286, 289, 294, 296],\n",
       "  'male': [108, 118, 117, 119, 120, 118, 124],\n",
       "  'female': [167, 169, 166, 167, 169, 176, 172]},\n",
       " 69: {'unisex': [179, 182, 187, 178, 184, 194, 200],\n",
       "  'male': [67, 63, 70, 66, 62, 74, 74],\n",
       "  'female': [112, 119, 117, 112, 122, 120, 126]},\n",
       " 70: {'unisex': [189, 181, 184, 196, 208, 202, 213],\n",
       "  'male': [93, 85, 89, 98, 105, 96, 115],\n",
       "  'female': [96, 96, 95, 98, 103, 106, 98]},\n",
       " 71: {'unisex': [128, 136, 133, 129, 130, 134, 138],\n",
       "  'male': [50, 61, 50, 54, 48, 54, 61],\n",
       "  'female': [78, 75, 83, 75, 82, 80, 77]},\n",
       " 72: {'unisex': [126, 128, 133, 135, 134, 139, 136],\n",
       "  'male': [51, 50, 53, 54, 55, 59, 55],\n",
       "  'female': [75, 78, 80, 81, 79, 80, 81]},\n",
       " 73: {'unisex': [173, 202, 186, 190, 178, 233, 226],\n",
       "  'male': [80, 90, 85, 86, 82, 104, 103],\n",
       "  'female': [93, 112, 101, 104, 96, 129, 123]},\n",
       " 74: {'unisex': [178, 178, 168, 190, 162, 211, 219],\n",
       "  'male': [77, 89, 72, 89, 68, 101, 97],\n",
       "  'female': [101, 89, 96, 101, 94, 110, 122]},\n",
       " 75: {'unisex': [264, 247, 256, 263, 246, 259, 257],\n",
       "  'male': [118, 105, 112, 115, 107, 111, 117],\n",
       "  'female': [146, 142, 144, 148, 139, 148, 140]},\n",
       " 76: {'unisex': [0, 0, 0, 0, 0, 0, 0],\n",
       "  'male': [0, 0, 0, 0, 0, 0, 0],\n",
       "  'female': [0, 0, 0, 0, 0, 0, 0]},\n",
       " 77: {'unisex': [408, 376, 377, 383, 384, 388, 387],\n",
       "  'male': [173, 161, 157, 159, 163, 153, 173],\n",
       "  'female': [235, 215, 220, 224, 221, 235, 214]},\n",
       " 78: {'unisex': [215, 221, 233, 227, 221, 217, 226],\n",
       "  'male': [86, 91, 99, 91, 91, 85, 97],\n",
       "  'female': [129, 130, 134, 136, 130, 132, 129]},\n",
       " 79: {'unisex': [155, 151, 143, 157, 146, 158, 164],\n",
       "  'male': [62, 60, 55, 68, 61, 64, 64],\n",
       "  'female': [93, 91, 88, 89, 85, 94, 100]},\n",
       " 80: {'unisex': [231, 217, 224, 220, 218, 235, 223],\n",
       "  'male': [101, 84, 89, 89, 96, 98, 92],\n",
       "  'female': [130, 133, 135, 131, 122, 137, 131]},\n",
       " 81: {'unisex': [185, 184, 192, 198, 197, 193, 203],\n",
       "  'male': [70, 71, 82, 74, 74, 80, 83],\n",
       "  'female': [115, 113, 110, 124, 123, 113, 120]}}"
      ]
     },
     "execution_count": 75,
     "metadata": {},
     "output_type": "execute_result"
    }
   ],
   "source": []
  },
  {
   "cell_type": "code",
   "execution_count": null,
   "metadata": {},
   "outputs": [],
   "source": []
  }
 ],
 "metadata": {
  "kernelspec": {
   "display_name": "Python 3 (ipykernel)",
   "language": "python",
   "name": "python3"
  },
  "language_info": {
   "codemirror_mode": {
    "name": "ipython",
    "version": 3
   },
   "file_extension": ".py",
   "mimetype": "text/x-python",
   "name": "python",
   "nbconvert_exporter": "python",
   "pygments_lexer": "ipython3",
   "version": "3.8.10"
  }
 },
 "nbformat": 4,
 "nbformat_minor": 4
}
