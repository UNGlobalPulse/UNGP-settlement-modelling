{
 "cells": [
  {
   "cell_type": "code",
   "execution_count": 1,
   "metadata": {},
   "outputs": [],
   "source": [
    "import warnings\n",
    "warnings.filterwarnings('ignore')"
   ]
  },
  {
   "cell_type": "code",
   "execution_count": 2,
   "metadata": {},
   "outputs": [],
   "source": [
    "import numpy as np\n",
    "import pandas as pd\n",
    "import time\n",
    "import matplotlib.pyplot as plt\n",
    "from datetime import datetime\n",
    "import sys\n",
    "import argparse\n",
    "from pathlib import Path"
   ]
  },
  {
   "cell_type": "code",
   "execution_count": 3,
   "metadata": {},
   "outputs": [
    {
     "name": "stderr",
     "output_type": "stream",
     "text": [
      "No --data argument given - defaulting to:\n",
      "/home/joseph/Documents/PhD/UN_Work/UNGP-settlement-modelling-private/data\n",
      "No --configs argument given - defaulting to:\n",
      "/home/joseph/Documents/PhD/UN_Work/JUNE-private/june/configs\n"
     ]
    },
    {
     "name": "stdout",
     "output_type": "stream",
     "text": [
      "2022-07-26 16:11:28,781 - camps.paths - WARNING - No --camp_data argument given - defaulting to:\n",
      "/home/joseph/Documents/PhD/UN_Work/UNGP-settlement-modelling-private/camp_data\n",
      "2022-07-26 16:11:28,782 - camps.paths - WARNING - No --configs_camps argument given - defaulting to:\n",
      "/home/joseph/Documents/PhD/UN_Work/UNGP-settlement-modelling-private/configs_camps\n"
     ]
    }
   ],
   "source": [
    "from june.geography import Geography\n",
    "from june.demography.demography import (\n",
    "    load_age_and_sex_generators_for_bins,\n",
    "    Demography,\n",
    "    Population,\n",
    "    load_comorbidity_data,\n",
    "    generate_comorbidity,\n",
    ")\n",
    "from june.paths import data_path, configs_path\n",
    "from june.epidemiology.epidemiology import Epidemiology\n",
    "from june.epidemiology.infection import ImmunitySetter\n",
    "from june.epidemiology.infection import Infection, HealthIndexGenerator, InfectionSelector, InfectionSelectors\n",
    "from june.epidemiology.infection_seed import InfectionSeed, InfectionSeeds\n",
    "from june.interaction import Interaction\n",
    "from june.groups import Hospital, Hospitals, Cemeteries\n",
    "from june.distributors import HospitalDistributor\n",
    "from june.hdf5_savers import generate_world_from_hdf5\n",
    "from june.policy import Policy, Policies\n",
    "from june.records import Record\n",
    "from june.simulator import Simulator\n",
    "from june.records import Record, RecordReader\n",
    "\n",
    "from camps.activity import CampActivityManager\n",
    "from camps.paths import camp_data_path, camp_configs_path\n",
    "from camps.world import World\n",
    "from camps.groups.leisure import generate_leisure_for_world, generate_leisure_for_config\n",
    "from camps.camp_creation import (\n",
    "    generate_empty_world,\n",
    "    populate_world,\n",
    "    distribute_people_to_households,\n",
    ")  # this is loaded from the ../camp_scripts folder\n",
    "\n",
    "from june.tracker.tracker import Tracker"
   ]
  },
  {
   "cell_type": "code",
   "execution_count": 4,
   "metadata": {},
   "outputs": [],
   "source": [
    "from camps.groups import PumpLatrines, PumpLatrineDistributor\n",
    "from camps.groups import DistributionCenters, DistributionCenterDistributor\n",
    "from camps.groups import Communals, CommunalDistributor\n",
    "from camps.groups import FemaleCommunals, FemaleCommunalDistributor\n",
    "from camps.groups import Religiouss, ReligiousDistributor\n",
    "from camps.groups import Shelter, Shelters, ShelterDistributor\n",
    "from camps.groups import IsolationUnit, IsolationUnits\n",
    "from camps.groups import LearningCenters\n",
    "from camps.distributors import LearningCenterDistributor\n",
    "from camps.groups import PlayGroups, PlayGroupDistributor\n",
    "from camps.groups import EVouchers, EVoucherDistributor\n",
    "from camps.groups import NFDistributionCenters, NFDistributionCenterDistributor\n",
    "from camps.groups import SheltersVisitsDistributor\n",
    "from camps.groups import InformalWorks, InformalWorkDistributor"
   ]
  },
  {
   "cell_type": "code",
   "execution_count": 5,
   "metadata": {},
   "outputs": [],
   "source": [
    "Results_Path = Path(\"results\")\n",
    "\n",
    "Config_File_Path = camp_configs_path / \"config_demo.yaml\"\n",
    "Interactions_File_Path = camp_configs_path / \"defaults/interaction/interaction_Survey.yaml\"\n",
    "Policies_File_Path = camp_configs_path / \"defaults/policy/simple_policy.yaml\"\n",
    "Hospitals_File_Path = camp_data_path / \"input/hospitals/hospitals.csv\"\n",
    "comorbidity_multipliers_path = camp_configs_path / \"defaults/comorbidities.yaml\"\n",
    "male_comorbidity_reference_prevalence_path = camp_data_path / \"input/demography/uk_male_comorbidities.csv\"\n",
    "female_comorbidity_reference_prevalence_path = camp_data_path / \"input/demography/uk_female_comorbidities.csv\""
   ]
  },
  {
   "cell_type": "markdown",
   "metadata": {},
   "source": [
    "## Initialize the world"
   ]
  },
  {
   "cell_type": "markdown",
   "metadata": {},
   "source": [
    "When we create the camp to be simulated, we call this the 'world'. The world is initialised after specifying which geographical regions you want to simulate. We can do this by using the `filter_key` argument in the `generate_empty_world` function. Cox's Bazar Expansion Site is made up of camps (which we call regions), UNHCR blocks (which we call super areas) and Mahjee blocks (which we call areas). These are the 3 heirarchical levels on which our model works. You can pass lists of the regions/super_areas/areas to the function here. Alternatively, by leaving the function empty you can generate the entire Cox's Bazar Expansion Site consisting of 112 super areas."
   ]
  },
  {
   "cell_type": "code",
   "execution_count": 6,
   "metadata": {},
   "outputs": [
    {
     "name": "stdout",
     "output_type": "stream",
     "text": [
      "2022-07-26 16:11:29,508 - june.geography.geography - INFO - There are 65 areas and 4 super_areas and 1 regions in the world.\n"
     ]
    }
   ],
   "source": [
    "# create empty world's geography\n",
    "world = generate_empty_world(filter_key = {\"region\" : [\"CXB-219\"]})"
   ]
  },
  {
   "cell_type": "code",
   "execution_count": 7,
   "metadata": {},
   "outputs": [],
   "source": [
    "# populate empty world\n",
    "populate_world(world)"
   ]
  },
  {
   "cell_type": "code",
   "execution_count": 8,
   "metadata": {},
   "outputs": [
    {
     "name": "stdout",
     "output_type": "stream",
     "text": [
      "Distributing 468 people to CXB-219-001\n",
      "Distributing 369 people to CXB-219-002\n",
      "Distributing 330 people to CXB-219-003\n",
      "Distributing 387 people to CXB-219-004\n",
      "Distributing 314 people to CXB-219-005\n",
      "Distributing 331 people to CXB-219-006\n",
      "Distributing 259 people to CXB-219-007\n",
      "Distributing 349 people to CXB-219-009\n",
      "Distributing 274 people to CXB-219-010\n",
      "Distributing 248 people to CXB-219-011\n",
      "Distributing 463 people to CXB-219-012\n",
      "Distributing 418 people to CXB-219-013\n",
      "Distributing 460 people to CXB-219-014\n",
      "Distributing 383 people to CXB-219-017\n",
      "Distributing 417 people to CXB-219-020\n",
      "Distributing 425 people to CXB-219-021\n",
      "Distributing 414 people to CXB-219-022\n",
      "Distributing 383 people to CXB-219-024\n",
      "Distributing 377 people to CXB-219-025\n",
      "Distributing 380 people to CXB-219-026\n",
      "Distributing 413 people to CXB-219-027\n",
      "Distributing 392 people to CXB-219-028\n",
      "Distributing 332 people to CXB-219-029\n",
      "Distributing 458 people to CXB-219-030\n",
      "Distributing 394 people to CXB-219-032\n",
      "Distributing 340 people to CXB-219-033\n",
      "Distributing 373 people to CXB-219-034\n",
      "Distributing 260 people to CXB-219-036\n",
      "Distributing 455 people to CXB-219-037\n",
      "Distributing 458 people to CXB-219-038\n",
      "Distributing 488 people to CXB-219-039\n",
      "Distributing 174 people to CXB-219-040\n",
      "Distributing 330 people to CXB-219-041\n",
      "Distributing 399 people to CXB-219-042\n",
      "Distributing 397 people to CXB-219-043\n",
      "Distributing 368 people to CXB-219-044\n",
      "Distributing 430 people to CXB-219-045\n",
      "Distributing 450 people to CXB-219-046\n",
      "Distributing 246 people to CXB-219-047\n",
      "Distributing 311 people to CXB-219-048\n",
      "Distributing 336 people to CXB-219-049\n",
      "Distributing 206 people to CXB-219-050\n",
      "Distributing 343 people to CXB-219-051\n",
      "Distributing 347 people to CXB-219-052\n",
      "Distributing 533 people to CXB-219-053\n",
      "Distributing 381 people to CXB-219-054\n",
      "Distributing 252 people to CXB-219-055\n",
      "Distributing 274 people to CXB-219-056\n",
      "Distributing 247 people to CXB-219-057\n",
      "Distributing 376 people to CXB-219-058\n",
      "Distributing 342 people to CXB-219-059\n",
      "Distributing 331 people to CXB-219-060\n",
      "Distributing 412 people to CXB-219-061\n",
      "Distributing 258 people to CXB-219-062\n",
      "Distributing 287 people to CXB-219-063\n",
      "Distributing 194 people to CXB-219-064\n",
      "Distributing 211 people to CXB-219-065\n",
      "Distributing 330 people to CXB-219-066\n",
      "Distributing 314 people to CXB-219-067\n",
      "Distributing 385 people to CXB-219-068\n",
      "Distributing 551 people to CXB-219-069\n",
      "Distributing 321 people to CXB-219-070\n",
      "Distributing 218 people to CXB-219-071\n",
      "Distributing 312 people to CXB-234-001\n",
      "Distributing 275 people to CXB-234-002\n"
     ]
    }
   ],
   "source": [
    "# distribute people to households\n",
    "distribute_people_to_households(world)"
   ]
  },
  {
   "cell_type": "code",
   "execution_count": 9,
   "metadata": {},
   "outputs": [
    {
     "name": "stdout",
     "output_type": "stream",
     "text": [
      "2022-07-26 16:11:34,441 - learning_centers - INFO - There are 1243 learning center(s)\n"
     ]
    }
   ],
   "source": [
    "LearningCenters.Get_Interaction(Interactions_File_Path)\n",
    "world.learning_centers = LearningCenters.for_areas(world.areas)\n",
    "\n",
    "learningcenter_distributor = LearningCenterDistributor.from_file(world.learning_centers)\n",
    "\n",
    "learningcenter_distributor.distribute_teachers_to_learning_centers(world.areas)\n",
    "learningcenter_distributor.distribute_kids_to_learning_centers(world.areas)"
   ]
  },
  {
   "cell_type": "code",
   "execution_count": 10,
   "metadata": {},
   "outputs": [
    {
     "name": "stdout",
     "output_type": "stream",
     "text": [
      "2022-07-26 16:11:35,427 - hospitals - INFO - There are 8 hospitals in the world.\n",
      "2022-07-26 16:11:35,445 - isolation units - INFO - There are 8 isolation unit(s)\n"
     ]
    }
   ],
   "source": [
    "# distribute hospitals\n",
    "Hospitals.Get_Interaction(Interactions_File_Path)\n",
    "IsolationUnits.Get_Interaction(Interactions_File_Path)\n",
    "\n",
    "hospitals = Hospitals.from_file(\n",
    "    filename=Hospitals_File_Path\n",
    ")\n",
    "\n",
    "\n",
    "for hospital in hospitals:\n",
    "    hospital.area = world.areas.get_closest_area(hospital.coordinates)\n",
    "    \n",
    "world.hospitals = hospitals\n",
    "hospital_distributor = HospitalDistributor(\n",
    "    hospitals, medic_min_age=20, patients_per_medic=10\n",
    ")\n",
    "hospital_distributor.assign_closest_hospitals_to_super_areas(\n",
    "    world.super_areas\n",
    ")\n",
    "\n",
    "world.isolation_units = IsolationUnits([IsolationUnit(area=hospital.area) for hospital in world.hospitals])\n",
    "hospital_distributor.distribute_medics_from_world(world.people)"
   ]
  },
  {
   "cell_type": "code",
   "execution_count": 11,
   "metadata": {},
   "outputs": [
    {
     "name": "stdout",
     "output_type": "stream",
     "text": [
      "2022-07-26 16:11:35,525 - social_venue - INFO - Domain 0 has 81 pump_latrines(s)\n",
      "2022-07-26 16:11:35,654 - social_venue - INFO - Domain 0 has 544 play_groups(s)\n",
      "2022-07-26 16:11:35,708 - social_venue - INFO - Domain 0 has 21 distribution_centers(s)\n",
      "2022-07-26 16:11:35,804 - social_venue - INFO - Domain 0 has 115 communals(s)\n",
      "2022-07-26 16:11:35,874 - social_venue - INFO - Domain 0 has 67 female_communals(s)\n",
      "2022-07-26 16:11:37,121 - social_venue - INFO - Domain 0 has 2065 religiouss(s)\n",
      "2022-07-26 16:11:37,164 - social_venue - INFO - Domain 0 has 7 e_vouchers(s)\n",
      "2022-07-26 16:11:37,221 - social_venue - INFO - Domain 0 has 41 n_f_distribution_centers(s)\n",
      "2022-07-26 16:11:37,264 - social_venue - INFO - Domain 0 has 80 informal_works(s)\n"
     ]
    }
   ],
   "source": [
    "PumpLatrines.Get_Interaction(Interactions_File_Path)\n",
    "world.pump_latrines = PumpLatrines.for_areas(world.areas)\n",
    "\n",
    "PlayGroups.Get_Interaction(Interactions_File_Path)\n",
    "world.play_groups = PlayGroups.for_areas(world.areas)\n",
    "\n",
    "DistributionCenters.Get_Interaction(Interactions_File_Path)\n",
    "world.distribution_centers = DistributionCenters.for_areas(world.areas)\n",
    "\n",
    "Communals.Get_Interaction(Interactions_File_Path)\n",
    "world.communals = Communals.for_areas(world.areas)\n",
    "\n",
    "FemaleCommunals.Get_Interaction(Interactions_File_Path)\n",
    "world.female_communals = FemaleCommunals.for_areas(world.areas)\n",
    "\n",
    "Religiouss.Get_Interaction(Interactions_File_Path)\n",
    "world.religiouss = Religiouss.for_areas(world.areas)\n",
    "\n",
    "EVouchers.Get_Interaction(Interactions_File_Path)\n",
    "world.e_vouchers = EVouchers.for_areas(world.areas)\n",
    "\n",
    "NFDistributionCenters.Get_Interaction(Interactions_File_Path)\n",
    "world.n_f_distribution_centers = NFDistributionCenters.for_areas(world.areas)\n",
    "\n",
    "InformalWorks.Get_Interaction(Interactions_File_Path)\n",
    "world.informal_works = InformalWorks.for_areas(world.areas)"
   ]
  },
  {
   "cell_type": "code",
   "execution_count": 12,
   "metadata": {},
   "outputs": [
    {
     "name": "stdout",
     "output_type": "stream",
     "text": [
      "cemetery not defined in interaction yaml or defualt options\n"
     ]
    }
   ],
   "source": [
    "world.cemeteries = Cemeteries()"
   ]
  },
  {
   "cell_type": "markdown",
   "metadata": {},
   "source": [
    "## Geography exploration"
   ]
  },
  {
   "cell_type": "markdown",
   "metadata": {},
   "source": [
    "The geography is initialised first and can be explored."
   ]
  },
  {
   "cell_type": "markdown",
   "metadata": {},
   "source": [
    "### UNHCR camp blocks inside the World"
   ]
  },
  {
   "cell_type": "code",
   "execution_count": 13,
   "metadata": {},
   "outputs": [],
   "source": [
    "super_areas = []\n",
    "for super_area in world.super_areas:\n",
    "    super_areas.append(super_area.name)"
   ]
  },
  {
   "cell_type": "code",
   "execution_count": 14,
   "metadata": {},
   "outputs": [
    {
     "data": {
      "text/plain": [
       "['CXB-219-A', 'CXB-219-B', 'CXB-219-C', 'CXB-219-D']"
      ]
     },
     "execution_count": 14,
     "metadata": {},
     "output_type": "execute_result"
    }
   ],
   "source": [
    "super_areas[:5]"
   ]
  },
  {
   "cell_type": "markdown",
   "metadata": {},
   "source": [
    "### Mahjee blocks inside World"
   ]
  },
  {
   "cell_type": "code",
   "execution_count": 15,
   "metadata": {},
   "outputs": [],
   "source": [
    "areas = []\n",
    "for area in world.areas:\n",
    "    areas.append(area.name)"
   ]
  },
  {
   "cell_type": "code",
   "execution_count": 16,
   "metadata": {},
   "outputs": [
    {
     "data": {
      "text/plain": [
       "['CXB-219-001', 'CXB-219-002', 'CXB-219-003', 'CXB-219-004', 'CXB-219-005']"
      ]
     },
     "execution_count": 16,
     "metadata": {},
     "output_type": "execute_result"
    }
   ],
   "source": [
    "areas[:5]"
   ]
  },
  {
   "cell_type": "markdown",
   "metadata": {},
   "source": [
    "## Demography exploration"
   ]
  },
  {
   "cell_type": "markdown",
   "metadata": {},
   "source": [
    "Once we have populated the 'digital twin' we can explore some of the attributes of the people we have created in the simulation."
   ]
  },
  {
   "cell_type": "markdown",
   "metadata": {},
   "source": [
    "### UNHCR block residents"
   ]
  },
  {
   "cell_type": "code",
   "execution_count": 17,
   "metadata": {},
   "outputs": [],
   "source": [
    "sample_ages = []\n",
    "sample_sexes = []\n",
    "for person in world.super_areas.members[0].people:\n",
    "    sample_ages.append(person.age)\n",
    "    sample_sexes.append(person.sex)"
   ]
  },
  {
   "cell_type": "code",
   "execution_count": 18,
   "metadata": {},
   "outputs": [
    {
     "data": {
      "text/plain": [
       "(['f', 'm', 'm', 'f', 'f'], [23, 56, 41, 48, 27])"
      ]
     },
     "execution_count": 18,
     "metadata": {},
     "output_type": "execute_result"
    }
   ],
   "source": [
    "sample_sexes[:5], sample_ages[:5]"
   ]
  },
  {
   "cell_type": "code",
   "execution_count": 19,
   "metadata": {},
   "outputs": [
    {
     "data": {
      "image/png": "[encoded data removed]",
      "text/plain": [
       "<Figure size 432x288 with 1 Axes>"
      ]
     },
     "metadata": {
      "needs_background": "light"
     },
     "output_type": "display_data"
    }
   ],
   "source": [
    "ages, counts = np.unique(sample_ages, return_counts=True)\n",
    "plt.bar(ages, counts)\n",
    "plt.title('super area: {} age distribution'.format(world.super_areas.members[0].name))\n",
    "plt.show()"
   ]
  },
  {
   "cell_type": "code",
   "execution_count": 20,
   "metadata": {},
   "outputs": [
    {
     "name": "stdout",
     "output_type": "stream",
     "text": [
      "The % children between ages 0-16 is 49%\n"
     ]
    }
   ],
   "source": [
    "print ('The % children between ages 0-16 is {}%'.format(round(np.sum(counts[:16])/(np.sum(counts[:16])+np.sum(counts[16:]))*100)))"
   ]
  },
  {
   "cell_type": "markdown",
   "metadata": {},
   "source": [
    "## Households"
   ]
  },
  {
   "cell_type": "markdown",
   "metadata": {},
   "source": [
    "In this model, we will use the term 'family' and 'household' interchangeably. After populating the 'digital twin', we need to cluster people into families. To do this, we take account of age structure so that children live with adults, that there are some intergenerational households and such that we might also have some households of only adults."
   ]
  },
  {
   "cell_type": "markdown",
   "metadata": {},
   "source": [
    "### Household size distribution"
   ]
  },
  {
   "cell_type": "code",
   "execution_count": 21,
   "metadata": {},
   "outputs": [
    {
     "data": {
      "image/png": "[encoded data removed]",
      "text/plain": [
       "<Figure size 432x288 with 1 Axes>"
      ]
     },
     "metadata": {
      "needs_background": "light"
     },
     "output_type": "display_data"
    }
   ],
   "source": [
    "household_sizes = [household.size for household in world.households]\n",
    "plt.hist(household_sizes, density=True, bins=np.arange(0,12))\n",
    "plt.xlabel(\"Household size\")\n",
    "plt.ylabel(\"Frequency\")\n",
    "plt.axvline(np.mean(household_sizes), color=\"cyan\")\n",
    "plt.text(8, 0.150, f\"Avg. size: {(np.mean(household_sizes)):.2f}\")\n",
    "plt.show()"
   ]
  },
  {
   "cell_type": "markdown",
   "metadata": {},
   "source": [
    "# Shelters"
   ]
  },
  {
   "cell_type": "markdown",
   "metadata": {},
   "source": [
    "Shelters house people in the camp. Since we know that families (houseohlds) often share shelters with other families, we can set the `sharing_shelter_ratio` to cluster families into shared shelters."
   ]
  },
  {
   "cell_type": "code",
   "execution_count": 22,
   "metadata": {},
   "outputs": [],
   "source": [
    "Shelters.Get_Interaction(Interactions_File_Path)\n",
    "world.shelters = Shelters.for_areas(world.areas)\n",
    "shelter_distributor = ShelterDistributor(sharing_shelter_ratio = 0.75) # proportion of families that share a shelter\n",
    "for area in world.areas:\n",
    "    shelter_distributor.distribute_people_in_shelters(area.shelters, area.households)"
   ]
  },
  {
   "cell_type": "code",
   "execution_count": 23,
   "metadata": {},
   "outputs": [
    {
     "data": {
      "image/png": "[encoded data removed]",
      "text/plain": [
       "<Figure size 576x216 with 2 Axes>"
      ]
     },
     "metadata": {
      "needs_background": "light"
     },
     "output_type": "display_data"
    }
   ],
   "source": [
    "fig, ax = plt.subplots(1, 2, figsize=(8,3))\n",
    "shelter_sizes = [shelter.size for shelter in world.shelters]\n",
    "shelter_families = [shelter.n_families for shelter in world.shelters]\n",
    "ax[0].hist(shelter_sizes)\n",
    "ax[0].set_title(\"Shelter size\")\n",
    "shelter_families = {1 : len([shelter for shelter in world.shelters if shelter.n_families == 1]),\n",
    "                    2 : len([shelter for shelter in world.shelters if shelter.n_families == 2])}\n",
    "ax[1].bar(shelter_families.keys(), shelter_families.values())\n",
    "ax[1].set_title(\"# families per shelter\")\n",
    "plt.show()"
   ]
  },
  {
   "cell_type": "markdown",
   "metadata": {},
   "source": [
    "## Activity exploration"
   ]
  },
  {
   "cell_type": "markdown",
   "metadata": {},
   "source": [
    "Once different activity locations are seeded in the 'digital twin' we can explore how many there are in different areas of the twin, and their coordinates to check they've all been added correctly."
   ]
  },
  {
   "cell_type": "markdown",
   "metadata": {},
   "source": [
    "### Pumps and latrines "
   ]
  },
  {
   "cell_type": "code",
   "execution_count": 24,
   "metadata": {},
   "outputs": [],
   "source": [
    "pumps_and_latrines = []\n",
    "for pump_latrine in world.areas.members[0].pump_latrines:\n",
    "    pumps_and_latrines.append(pump_latrine)"
   ]
  },
  {
   "cell_type": "code",
   "execution_count": 25,
   "metadata": {},
   "outputs": [
    {
     "name": "stdout",
     "output_type": "stream",
     "text": [
      "There are 2 pumps and latrines in area CXB-219-001\n"
     ]
    }
   ],
   "source": [
    "print ('There are {} pumps and latrines in area {}'.format(len(pumps_and_latrines), world.areas.members[0].name))"
   ]
  },
  {
   "cell_type": "markdown",
   "metadata": {},
   "source": [
    "### Informal work"
   ]
  },
  {
   "cell_type": "code",
   "execution_count": 26,
   "metadata": {},
   "outputs": [],
   "source": [
    "Informal_work_Sites = []\n",
    "for informal_work in world.areas.members[0].informal_works:\n",
    "    Informal_work_Sites.append(informal_work)"
   ]
  },
  {
   "cell_type": "code",
   "execution_count": 27,
   "metadata": {},
   "outputs": [
    {
     "name": "stdout",
     "output_type": "stream",
     "text": [
      "There are 2 informal work sites in area CXB-219-001\n"
     ]
    }
   ],
   "source": [
    "print ('There are {} informal work sites in area {}'.format(len(Informal_work_Sites), world.areas.members[0].name))"
   ]
  },
  {
   "cell_type": "markdown",
   "metadata": {},
   "source": [
    "### Distribution centers"
   ]
  },
  {
   "cell_type": "code",
   "execution_count": 28,
   "metadata": {},
   "outputs": [],
   "source": [
    "distribution_centers = []\n",
    "for center in world.distribution_centers:\n",
    "    distribution_centers.append(center)"
   ]
  },
  {
   "cell_type": "code",
   "execution_count": 29,
   "metadata": {},
   "outputs": [
    {
     "data": {
      "text/plain": [
       "array([21.2136    , 92.15678833])"
      ]
     },
     "execution_count": 29,
     "metadata": {},
     "output_type": "execute_result"
    }
   ],
   "source": [
    "distribution_centers[0].coordinates"
   ]
  },
  {
   "cell_type": "markdown",
   "metadata": {},
   "source": [
    "### Non-food Distribution centers"
   ]
  },
  {
   "cell_type": "code",
   "execution_count": 30,
   "metadata": {},
   "outputs": [],
   "source": [
    "non_food_distribution_centers = []\n",
    "for center in world.n_f_distribution_centers:\n",
    "    non_food_distribution_centers.append(center)"
   ]
  },
  {
   "cell_type": "code",
   "execution_count": 31,
   "metadata": {},
   "outputs": [
    {
     "data": {
      "text/plain": [
       "array([21.21268167, 92.1438    ])"
      ]
     },
     "execution_count": 31,
     "metadata": {},
     "output_type": "execute_result"
    }
   ],
   "source": [
    "non_food_distribution_centers[0].coordinates"
   ]
  },
  {
   "cell_type": "markdown",
   "metadata": {},
   "source": [
    "### E-Voucher outlets"
   ]
  },
  {
   "cell_type": "code",
   "execution_count": 32,
   "metadata": {},
   "outputs": [],
   "source": [
    "e_voucher_outlets = []\n",
    "for center in world.e_vouchers:\n",
    "    e_voucher_outlets.append(center)"
   ]
  },
  {
   "cell_type": "code",
   "execution_count": 33,
   "metadata": {},
   "outputs": [
    {
     "data": {
      "text/plain": [
       "array([21.212945, 92.142915])"
      ]
     },
     "execution_count": 33,
     "metadata": {},
     "output_type": "execute_result"
    }
   ],
   "source": [
    "e_voucher_outlets[0].coordinates"
   ]
  },
  {
   "cell_type": "markdown",
   "metadata": {},
   "source": [
    "### Communal spaces"
   ]
  },
  {
   "cell_type": "code",
   "execution_count": 34,
   "metadata": {},
   "outputs": [],
   "source": [
    "communal_spaces = []\n",
    "for space in world.communals:\n",
    "    communal_spaces.append(space)"
   ]
  },
  {
   "cell_type": "code",
   "execution_count": 35,
   "metadata": {},
   "outputs": [
    {
     "data": {
      "text/plain": [
       "array([21.19508, 92.16525])"
      ]
     },
     "execution_count": 35,
     "metadata": {},
     "output_type": "execute_result"
    }
   ],
   "source": [
    "communal_spaces[0].coordinates"
   ]
  },
  {
   "cell_type": "markdown",
   "metadata": {},
   "source": [
    "### Female friendly communal spaces"
   ]
  },
  {
   "cell_type": "code",
   "execution_count": 36,
   "metadata": {},
   "outputs": [],
   "source": [
    "female_communal_spaces = []\n",
    "for space in world.female_communals:\n",
    "    female_communal_spaces.append(space)"
   ]
  },
  {
   "cell_type": "code",
   "execution_count": 37,
   "metadata": {},
   "outputs": [
    {
     "data": {
      "text/plain": [
       "array([21.20686305, 92.16070923])"
      ]
     },
     "execution_count": 37,
     "metadata": {},
     "output_type": "execute_result"
    }
   ],
   "source": [
    "female_communal_spaces[0].coordinates"
   ]
  },
  {
   "cell_type": "markdown",
   "metadata": {},
   "source": [
    "### Religious sites"
   ]
  },
  {
   "cell_type": "code",
   "execution_count": 38,
   "metadata": {},
   "outputs": [],
   "source": [
    "religious = []\n",
    "for rel in world.religiouss:\n",
    "    religious.append(rel)"
   ]
  },
  {
   "cell_type": "code",
   "execution_count": 39,
   "metadata": {},
   "outputs": [
    {
     "data": {
      "text/plain": [
       "array([21.21804605, 92.1546829 ])"
      ]
     },
     "execution_count": 39,
     "metadata": {},
     "output_type": "execute_result"
    }
   ],
   "source": [
    "religious[0].coordinates"
   ]
  },
  {
   "cell_type": "markdown",
   "metadata": {},
   "source": [
    "# Adding the infection"
   ]
  },
  {
   "cell_type": "markdown",
   "metadata": {},
   "source": [
    "The selector handles how infections are handled in the code. You can set different 'symptom trajectories' (e.g. exposed->mild->severe->hospitalised->intensive care) from different files. Here, we use the default."
   ]
  },
  {
   "cell_type": "code",
   "execution_count": 40,
   "metadata": {},
   "outputs": [],
   "source": [
    "selector = InfectionSelector.from_file()"
   ]
  },
  {
   "cell_type": "code",
   "execution_count": 41,
   "metadata": {},
   "outputs": [],
   "source": [
    "selectors = InfectionSelectors([selector])"
   ]
  },
  {
   "cell_type": "markdown",
   "metadata": {},
   "source": [
    "# Adding the interaction"
   ]
  },
  {
   "cell_type": "markdown",
   "metadata": {},
   "source": [
    "The interaction class handles how many contacts people have in different locations and with who. If contact matrices are available, these can be coded in a `.yaml` file and fed into the class here."
   ]
  },
  {
   "cell_type": "code",
   "execution_count": 42,
   "metadata": {},
   "outputs": [],
   "source": [
    "interaction = Interaction.from_file(\n",
    "    config_filename=Interactions_File_Path,\n",
    ")"
   ]
  },
  {
   "cell_type": "markdown",
   "metadata": {},
   "source": [
    "# Set policies"
   ]
  },
  {
   "cell_type": "markdown",
   "metadata": {},
   "source": [
    "Policies control how 'operational interventions' are set in the camp. Here we set some social distancing policies, policies relating to medical care, such as people with severe symptoms being hospitalised, and individual and activity policies which can dynamically change how often and where people go, e.g. here, we close all female communal spaces and non-food distirbution centers which the camp did back in March"
   ]
  },
  {
   "cell_type": "code",
   "execution_count": 43,
   "metadata": {},
   "outputs": [],
   "source": [
    "policies = Policies.from_file(\n",
    "        Policies_File_Path,\n",
    "        base_policy_modules=(\"june.policy\", \"camps.policy\"),\n",
    "    )"
   ]
  },
  {
   "cell_type": "code",
   "execution_count": 44,
   "metadata": {},
   "outputs": [
    {
     "data": {
      "text/plain": [
       "[<june.policy.interaction_policies.SocialDistancing at 0x7f2510df0370>,\n",
       " <june.policy.medical_care_policies.Hospitalisation at 0x7f2510e305b0>,\n",
       " <june.policy.individual_policies.SevereSymptomsStayHome at 0x7f2510e30100>,\n",
       " <june.policy.individual_policies.Quarantine at 0x7f2510e30730>]"
      ]
     },
     "execution_count": 44,
     "metadata": {},
     "output_type": "execute_result"
    }
   ],
   "source": [
    "policies.policies"
   ]
  },
  {
   "cell_type": "markdown",
   "metadata": {},
   "source": [
    "# Seed the disease"
   ]
  },
  {
   "cell_type": "markdown",
   "metadata": {},
   "source": [
    "Set intial seeding conditions. This can be done at the camp level specifically, or generally by seeding them randomly. Here the `n_cases` is the number of randomly seeded people over the entire population."
   ]
  },
  {
   "cell_type": "code",
   "execution_count": 45,
   "metadata": {},
   "outputs": [],
   "source": [
    "infection_seed = InfectionSeed.from_uniform_cases(\n",
    "    world=world, infection_selector=selector, cases_per_capita=0.01, date=\"2020-05-24 9:00\", seed_past_infections=False,\n",
    ")"
   ]
  },
  {
   "cell_type": "code",
   "execution_count": 46,
   "metadata": {},
   "outputs": [],
   "source": [
    "infection_seeds = InfectionSeeds([infection_seed])"
   ]
  },
  {
   "cell_type": "code",
   "execution_count": 47,
   "metadata": {},
   "outputs": [],
   "source": [
    "immunity_setter = ImmunitySetter.from_file_with_comorbidities(\n",
    "    comorbidity_multipliers_path= comorbidity_multipliers_path,\n",
    "    male_comorbidity_reference_prevalence_path= male_comorbidity_reference_prevalence_path,\n",
    "    female_comorbidity_reference_prevalence_path = female_comorbidity_reference_prevalence_path,   \n",
    ")"
   ]
  },
  {
   "cell_type": "code",
   "execution_count": 48,
   "metadata": {},
   "outputs": [],
   "source": [
    "epidemiology = Epidemiology(\n",
    "    infection_selectors=selectors,\n",
    "    infection_seeds=infection_seeds,\n",
    "    immunity_setter=immunity_setter,\n",
    ")"
   ]
  },
  {
   "cell_type": "markdown",
   "metadata": {},
   "source": [
    "## Select config file"
   ]
  },
  {
   "cell_type": "markdown",
   "metadata": {},
   "source": [
    "Before running the simualtion we must select the config file which defines how the world is set up and the simualtor will work. Specifically, the condif file specifies which activities will be included, how long we'll run the simualtion for, what the initial starting day will be and what the structure of weekdays and weekends will look like (if different)"
   ]
  },
  {
   "cell_type": "code",
   "execution_count": 49,
   "metadata": {},
   "outputs": [],
   "source": [
    "CONFIG_PATH = Config_File_Path"
   ]
  },
  {
   "cell_type": "markdown",
   "metadata": {},
   "source": [
    "# Initialise activities"
   ]
  },
  {
   "cell_type": "markdown",
   "metadata": {},
   "source": [
    "The final step to intialising the simulator class which brings all of this together is to inialise all the activity distirbutors (the term 'leisure' is a legacy of the original version of this code used for modelling COVID-19 in the UK). This will mean that people know where they can go at and given time."
   ]
  },
  {
   "cell_type": "code",
   "execution_count": 50,
   "metadata": {},
   "outputs": [
    {
     "name": "stdout",
     "output_type": "stream",
     "text": [
      "2022-07-26 16:11:39,537 - leisure - INFO - Linking households and care homes for visits\n",
      "2022-07-26 16:11:39,538 - leisure - INFO - Done\n",
      "2022-07-26 16:11:39,539 - leisure - INFO - Distributing social venues to areas\n",
      "2022-07-26 16:11:39,540 - leisure - INFO - Distributed in 0 of 65 areas.\n",
      "2022-07-26 16:11:39,639 - leisure - INFO - Distributed in 65 of 65 areas.\n"
     ]
    }
   ],
   "source": [
    "leisure = generate_leisure_for_config(world=world, config_filename=CONFIG_PATH)\n",
    "# associate social activities to shelters\n",
    "leisure.distribute_social_venues_to_areas(world.areas, world.super_areas)"
   ]
  },
  {
   "cell_type": "markdown",
   "metadata": {},
   "source": [
    "# Define a contact Tracker"
   ]
  },
  {
   "cell_type": "markdown",
   "metadata": {},
   "source": [
    "We define a list of venues in which to track. This is fed into JUNE's tracker class. We can specify tracking contacts by sex, the type of possible contacts \"1D\" (simulated contacts based on the input interaction matrices) or \"All\" (everyone at each venue contacts each other). Lastly we can find a subset of venues upto N but defining MaxVenueTrackingSize=N."
   ]
  },
  {
   "cell_type": "code",
   "execution_count": 51,
   "metadata": {},
   "outputs": [],
   "source": [
    "group_types=[\n",
    "        world.hospitals,\n",
    "        world.distribution_centers,\n",
    "        world.communals,\n",
    "        world.female_communals,\n",
    "        world.pump_latrines,\n",
    "        world.religiouss,\n",
    "        world.play_groups,\n",
    "        world.e_vouchers,\n",
    "        world.n_f_distribution_centers,\n",
    "        world.shelters,\n",
    "        world.learning_centers,\n",
    "        world.informal_works,\n",
    "        world.isolation_units,\n",
    "    ]\n",
    "\n",
    "tracker = Tracker(\n",
    "    world=world,\n",
    "    record_path=Results_Path,\n",
    "    group_types=group_types,\n",
    "    load_interactions_path=Interactions_File_Path,\n",
    "    contact_sexes=[\"unisex\", \"male\", \"female\"],\n",
    "    Tracker_Contact_Type=[\"1D\", \"All\"],\n",
    "    MaxVenueTrackingSize = 500\n",
    ")"
   ]
  },
  {
   "cell_type": "markdown",
   "metadata": {},
   "source": [
    "# Initialise simulator and run"
   ]
  },
  {
   "cell_type": "markdown",
   "metadata": {},
   "source": [
    "The recorder is defined which will log all interactions and infections in the simualation for later analysis. The `record_path` can be changed to any path where you want the recorded data to be stored."
   ]
  },
  {
   "cell_type": "code",
   "execution_count": 52,
   "metadata": {},
   "outputs": [],
   "source": [
    "record = Record(\n",
    "    record_path=Results_Path, \n",
    "    record_static_data=True\n",
    ")\n"
   ]
  },
  {
   "cell_type": "markdown",
   "metadata": {},
   "source": [
    "The simulator is defined with all the different necessary components we have built up so far"
   ]
  },
  {
   "cell_type": "code",
   "execution_count": 53,
   "metadata": {},
   "outputs": [],
   "source": [
    "Simulator.ActivityManager = CampActivityManager\n",
    "simulator = Simulator.from_file(\n",
    "    world=world,\n",
    "    interaction=interaction,\n",
    "    tracker=tracker,\n",
    "    leisure=leisure,\n",
    "    policies=policies,\n",
    "    config_filename=CONFIG_PATH,\n",
    "    epidemiology=epidemiology,\n",
    "    record=record,\n",
    ")"
   ]
  },
  {
   "cell_type": "markdown",
   "metadata": {},
   "source": [
    "Finally we can run a small simualation"
   ]
  },
  {
   "cell_type": "code",
   "execution_count": 54,
   "metadata": {
    "scrolled": true
   },
   "outputs": [
    {
     "name": "stdout",
     "output_type": "stream",
     "text": [
      "2022-07-26 16:11:40,521 - simulator - INFO - Starting simulation for 7 days at day 2020-05-24 09:00:00,to run for 7 days\n",
      "2022-07-26 16:11:40,631 - seed - INFO - Seeding Covid19 infections at date 2020-05-24\n",
      "2022-07-26 16:11:41,179 - rank - INFO - Next timestep\n",
      "2022-07-26 16:11:41,180 - simulator - INFO - ==================== timestep ====================\n",
      "2022-07-26 16:11:41,384 - rank - INFO - Rank 0 -- move_people -- 0.20332261701696552\n",
      "2022-07-26 16:11:41,384 - rank - INFO - Rank 0 -- move_people_waiting -- 7.252994691953063e-06\n",
      "2022-07-26 16:11:41,386 - activity_manager - INFO - CMS: People COMS for rank 0/1 - 3.730005118995905e-06,3.337860107421875e-06 - 2020-05-24 09:00:00\n",
      "2022-07-26 16:11:41,393 - simulator - INFO - Info for rank 0, Date = 2020-05-24 09:00:00, number of deaths =  0, number of infected = 229\n",
      "2022-07-26 16:11:41,476 - rank - INFO - Rank 0 -- interaction -- 0.08951180599979125\n",
      "2022-07-26 16:11:41,485 - tracker - INFO - Rank 0 -- tracking contacts -- 500 of 3274 of type shelter\n",
      "2022-07-26 16:11:42,366 - tracker - INFO - Rank 0 -- tracking contacts -- 115 of 115 of type communal\n",
      "2022-07-26 16:11:42,369 - tracker - INFO - Rank 0 -- tracking contacts -- 21 of 21 of type distribution_center\n",
      "2022-07-26 16:11:42,372 - tracker - INFO - Rank 0 -- tracking contacts -- 7 of 7 of type e_voucher\n",
      "2022-07-26 16:11:42,372 - tracker - INFO - Rank 0 -- tracking contacts -- 67 of 67 of type female_communal\n",
      "2022-07-26 16:11:42,374 - tracker - INFO - Rank 0 -- tracking contacts -- 80 of 80 of type informal_work\n",
      "2022-07-26 16:11:42,376 - tracker - INFO - Rank 0 -- tracking contacts -- 41 of 41 of type n_f_distribution_center\n",
      "2022-07-26 16:11:42,379 - tracker - INFO - Rank 0 -- tracking contacts -- 500 of 544 of type play_group\n",
      "2022-07-26 16:11:42,389 - tracker - INFO - Rank 0 -- tracking contacts -- 81 of 81 of type pump_latrine\n",
      "2022-07-26 16:11:42,400 - tracker - INFO - Rank 0 -- tracking contacts -- 500 of 2065 of type religious\n",
      "2022-07-26 16:11:42,425 - tracker - INFO - Rank 0 -- tracking contacts -- 389 of 389 of type learning_center\n",
      "2022-07-26 16:11:43,373 - tracker - INFO - Rank 0 -- tracking contacts -- 8 of 8 of type hospital\n",
      "2022-07-26 16:11:43,379 - tracker - INFO - Rank 0 -- tracking contacts -- 8 of 8 of type isolation_unit\n",
      "2022-07-26 16:11:43,380 - rank - INFO - Rank 0 -- tracker -- 1.9035769509791862\n",
      "2022-07-26 16:11:43,382 - epidemiology - INFO - CMS: Infection COMS-v2 for rank 0/1(2)0.001200440019601956,0.0012006759643554688 - 2020-05-24 09:00:00\n",
      "2022-07-26 16:11:43,510 - rank - INFO - Rank 0 -- interaction_waiting -- 7.925991667434573e-06\n",
      "2022-07-26 16:11:43,522 - simulator - INFO - CMS: Timestep for rank 0/1 - 2.341919536003843,2.3419206142425537 - 2020-05-24 09:00:00\n",
      "\n",
      "2022-07-26 16:11:43,523 - rank - INFO - Next timestep\n",
      "2022-07-26 16:11:43,524 - simulator - INFO - ==================== timestep ====================\n",
      "2022-07-26 16:11:44,734 - rank - INFO - Rank 0 -- move_people -- 1.209217992000049\n",
      "2022-07-26 16:11:44,735 - rank - INFO - Rank 0 -- move_people_waiting -- 7.432972779497504e-06\n",
      "2022-07-26 16:11:44,736 - activity_manager - INFO - CMS: People COMS for rank 0/1 - 3.3240066841244698e-06,3.0994415283203125e-06 - 2020-05-24 11:00:00\n",
      "2022-07-26 16:11:44,741 - simulator - INFO - Info for rank 0, Date = 2020-05-24 11:00:00, number of deaths =  0, number of infected = 229\n",
      "2022-07-26 16:11:44,865 - rank - INFO - Rank 0 -- interaction -- 0.12809231199207716\n",
      "2022-07-26 16:11:44,872 - tracker - INFO - Rank 0 -- tracking contacts -- 500 of 3274 of type shelter\n",
      "2022-07-26 16:11:45,133 - tracker - INFO - Rank 0 -- tracking contacts -- 115 of 115 of type communal\n",
      "2022-07-26 16:11:45,151 - tracker - INFO - Rank 0 -- tracking contacts -- 21 of 21 of type distribution_center\n",
      "2022-07-26 16:11:45,194 - tracker - INFO - Rank 0 -- tracking contacts -- 7 of 7 of type e_voucher\n",
      "2022-07-26 16:11:45,205 - tracker - INFO - Rank 0 -- tracking contacts -- 67 of 67 of type female_communal\n",
      "2022-07-26 16:11:45,246 - tracker - INFO - Rank 0 -- tracking contacts -- 80 of 80 of type informal_work\n",
      "2022-07-26 16:11:45,320 - tracker - INFO - Rank 0 -- tracking contacts -- 41 of 41 of type n_f_distribution_center\n",
      "2022-07-26 16:11:45,413 - tracker - INFO - Rank 0 -- tracking contacts -- 500 of 544 of type play_group\n",
      "2022-07-26 16:11:45,731 - tracker - INFO - Rank 0 -- tracking contacts -- 81 of 81 of type pump_latrine\n",
      "2022-07-26 16:11:49,002 - tracker - INFO - Rank 0 -- tracking contacts -- 500 of 2065 of type religious\n",
      "2022-07-26 16:11:49,410 - tracker - INFO - Rank 0 -- tracking contacts -- 389 of 389 of type learning_center\n",
      "2022-07-26 16:11:50,357 - tracker - INFO - Rank 0 -- tracking contacts -- 8 of 8 of type hospital\n",
      "2022-07-26 16:11:50,367 - tracker - INFO - Rank 0 -- tracking contacts -- 8 of 8 of type isolation_unit\n",
      "2022-07-26 16:11:50,369 - rank - INFO - Rank 0 -- tracker -- 5.503052504995139\n",
      "2022-07-26 16:11:50,374 - epidemiology - INFO - CMS: Infection COMS-v2 for rank 0/1(2)0.0009027580090332776,0.0009026527404785156 - 2020-05-24 11:00:00\n",
      "2022-07-26 16:11:50,410 - rank - INFO - Rank 0 -- interaction_waiting -- 6.760004907846451e-06\n",
      "2022-07-26 16:11:50,423 - simulator - INFO - CMS: Timestep for rank 0/1 - 6.897854581009597,6.897855758666992 - 2020-05-24 11:00:00\n",
      "\n",
      "2022-07-26 16:11:50,424 - rank - INFO - Next timestep\n",
      "2022-07-26 16:11:50,424 - simulator - INFO - ==================== timestep ====================\n",
      "2022-07-26 16:11:51,222 - rank - INFO - Rank 0 -- move_people -- 0.7964475199987646\n",
      "2022-07-26 16:11:51,222 - rank - INFO - Rank 0 -- move_people_waiting -- 6.54099858365953e-06\n",
      "2022-07-26 16:11:51,224 - activity_manager - INFO - CMS: People COMS for rank 0/1 - 4.0230224840343e-06,3.5762786865234375e-06 - 2020-05-24 13:00:00\n",
      "2022-07-26 16:11:51,230 - simulator - INFO - Info for rank 0, Date = 2020-05-24 13:00:00, number of deaths =  0, number of infected = 234\n",
      "2022-07-26 16:11:51,366 - rank - INFO - Rank 0 -- interaction -- 0.14154617799795233\n",
      "2022-07-26 16:11:51,373 - tracker - INFO - Rank 0 -- tracking contacts -- 500 of 3274 of type shelter\n",
      "2022-07-26 16:11:51,664 - tracker - INFO - Rank 0 -- tracking contacts -- 115 of 115 of type communal\n",
      "2022-07-26 16:11:51,684 - tracker - INFO - Rank 0 -- tracking contacts -- 21 of 21 of type distribution_center\n",
      "2022-07-26 16:11:51,728 - tracker - INFO - Rank 0 -- tracking contacts -- 7 of 7 of type e_voucher\n",
      "2022-07-26 16:11:51,741 - tracker - INFO - Rank 0 -- tracking contacts -- 67 of 67 of type female_communal\n",
      "2022-07-26 16:11:51,787 - tracker - INFO - Rank 0 -- tracking contacts -- 80 of 80 of type informal_work\n",
      "2022-07-26 16:11:51,862 - tracker - INFO - Rank 0 -- tracking contacts -- 41 of 41 of type n_f_distribution_center\n",
      "2022-07-26 16:11:51,981 - tracker - INFO - Rank 0 -- tracking contacts -- 500 of 544 of type play_group\n",
      "2022-07-26 16:11:52,372 - tracker - INFO - Rank 0 -- tracking contacts -- 81 of 81 of type pump_latrine\n",
      "2022-07-26 16:11:56,438 - tracker - INFO - Rank 0 -- tracking contacts -- 500 of 2065 of type religious\n",
      "2022-07-26 16:11:57,056 - tracker - INFO - Rank 0 -- tracking contacts -- 389 of 389 of type learning_center\n",
      "2022-07-26 16:11:58,296 - tracker - INFO - Rank 0 -- tracking contacts -- 8 of 8 of type hospital\n",
      "2022-07-26 16:11:58,302 - tracker - INFO - Rank 0 -- tracking contacts -- 8 of 8 of type isolation_unit\n",
      "2022-07-26 16:11:58,304 - rank - INFO - Rank 0 -- tracker -- 6.936421638005413\n",
      "2022-07-26 16:11:58,309 - epidemiology - INFO - CMS: Infection COMS-v2 for rank 0/1(2)0.00021753201144747436,0.000217437744140625 - 2020-05-24 13:00:00\n",
      "2022-07-26 16:11:58,344 - rank - INFO - Rank 0 -- interaction_waiting -- 8.919014362618327e-06\n",
      "2022-07-26 16:11:58,358 - simulator - INFO - CMS: Timestep for rank 0/1 - 7.933019912976306,7.933020830154419 - 2020-05-24 13:00:00\n",
      "\n",
      "2022-07-26 16:11:58,359 - rank - INFO - Next timestep\n",
      "2022-07-26 16:11:58,360 - simulator - INFO - ==================== timestep ====================\n",
      "2022-07-26 16:11:59,242 - rank - INFO - Rank 0 -- move_people -- 0.8809811340179294\n",
      "2022-07-26 16:11:59,244 - rank - INFO - Rank 0 -- move_people_waiting -- 1.1420022929087281e-05\n",
      "2022-07-26 16:11:59,244 - activity_manager - INFO - CMS: People COMS for rank 0/1 - 4.095985786989331e-06,3.814697265625e-06 - 2020-05-24 15:00:00\n"
     ]
    },
    {
     "name": "stdout",
     "output_type": "stream",
     "text": [
      "2022-07-26 16:11:59,254 - simulator - INFO - Info for rank 0, Date = 2020-05-24 15:00:00, number of deaths =  0, number of infected = 241\n",
      "2022-07-26 16:11:59,393 - rank - INFO - Rank 0 -- interaction -- 0.1468721010023728\n",
      "2022-07-26 16:11:59,403 - tracker - INFO - Rank 0 -- tracking contacts -- 500 of 3274 of type shelter\n",
      "2022-07-26 16:11:59,805 - tracker - INFO - Rank 0 -- tracking contacts -- 115 of 115 of type communal\n",
      "2022-07-26 16:11:59,824 - tracker - INFO - Rank 0 -- tracking contacts -- 21 of 21 of type distribution_center\n",
      "2022-07-26 16:11:59,870 - tracker - INFO - Rank 0 -- tracking contacts -- 7 of 7 of type e_voucher\n",
      "2022-07-26 16:11:59,890 - tracker - INFO - Rank 0 -- tracking contacts -- 67 of 67 of type female_communal\n",
      "2022-07-26 16:11:59,940 - tracker - INFO - Rank 0 -- tracking contacts -- 80 of 80 of type informal_work\n",
      "2022-07-26 16:12:00,031 - tracker - INFO - Rank 0 -- tracking contacts -- 41 of 41 of type n_f_distribution_center\n",
      "2022-07-26 16:12:00,148 - tracker - INFO - Rank 0 -- tracking contacts -- 500 of 544 of type play_group\n",
      "2022-07-26 16:12:00,536 - tracker - INFO - Rank 0 -- tracking contacts -- 81 of 81 of type pump_latrine\n",
      "2022-07-26 16:12:04,842 - tracker - INFO - Rank 0 -- tracking contacts -- 500 of 2065 of type religious\n",
      "2022-07-26 16:12:05,690 - tracker - INFO - Rank 0 -- tracking contacts -- 389 of 389 of type learning_center\n",
      "2022-07-26 16:12:07,201 - tracker - INFO - Rank 0 -- tracking contacts -- 8 of 8 of type hospital\n",
      "2022-07-26 16:12:07,208 - tracker - INFO - Rank 0 -- tracking contacts -- 8 of 8 of type isolation_unit\n",
      "2022-07-26 16:12:07,209 - rank - INFO - Rank 0 -- tracker -- 7.815746093983762\n",
      "2022-07-26 16:12:07,213 - epidemiology - INFO - CMS: Infection COMS-v2 for rank 0/1(2)0.0003983870265074074,0.0003981590270996094 - 2020-05-24 15:00:00\n",
      "2022-07-26 16:12:07,260 - rank - INFO - Rank 0 -- interaction_waiting -- 1.0184012353420258e-05\n",
      "2022-07-26 16:12:07,281 - simulator - INFO - CMS: Timestep for rank 0/1 - 8.91929388200515,8.919295072555542 - 2020-05-24 15:00:00\n",
      "\n",
      "2022-07-26 16:12:07,282 - rank - INFO - Next timestep\n",
      "2022-07-26 16:12:07,283 - simulator - INFO - ==================== timestep ====================\n",
      "2022-07-26 16:12:08,221 - rank - INFO - Rank 0 -- move_people -- 0.9370859309856314\n",
      "2022-07-26 16:12:08,222 - rank - INFO - Rank 0 -- move_people_waiting -- 5.461013643071055e-06\n",
      "2022-07-26 16:12:08,224 - activity_manager - INFO - CMS: People COMS for rank 0/1 - 5.706999218091369e-06,5.245208740234375e-06 - 2020-05-24 17:00:00\n",
      "2022-07-26 16:12:08,232 - simulator - INFO - Info for rank 0, Date = 2020-05-24 17:00:00, number of deaths =  0, number of infected = 245\n",
      "2022-07-26 16:12:08,428 - rank - INFO - Rank 0 -- interaction -- 0.2028039550059475\n",
      "2022-07-26 16:12:08,439 - tracker - INFO - Rank 0 -- tracking contacts -- 500 of 3274 of type shelter\n",
      "2022-07-26 16:12:08,796 - tracker - INFO - Rank 0 -- tracking contacts -- 115 of 115 of type communal\n",
      "2022-07-26 16:12:08,798 - tracker - INFO - Rank 0 -- tracking contacts -- 21 of 21 of type distribution_center\n",
      "2022-07-26 16:12:08,849 - tracker - INFO - Rank 0 -- tracking contacts -- 7 of 7 of type e_voucher\n",
      "2022-07-26 16:12:08,861 - tracker - INFO - Rank 0 -- tracking contacts -- 67 of 67 of type female_communal\n",
      "2022-07-26 16:12:08,863 - tracker - INFO - Rank 0 -- tracking contacts -- 80 of 80 of type informal_work\n",
      "2022-07-26 16:12:08,949 - tracker - INFO - Rank 0 -- tracking contacts -- 41 of 41 of type n_f_distribution_center\n",
      "2022-07-26 16:12:09,095 - tracker - INFO - Rank 0 -- tracking contacts -- 500 of 544 of type play_group\n",
      "2022-07-26 16:12:09,520 - tracker - INFO - Rank 0 -- tracking contacts -- 81 of 81 of type pump_latrine\n",
      "2022-07-26 16:12:14,223 - tracker - INFO - Rank 0 -- tracking contacts -- 500 of 2065 of type religious\n",
      "2022-07-26 16:12:15,037 - tracker - INFO - Rank 0 -- tracking contacts -- 389 of 389 of type learning_center\n",
      "2022-07-26 16:12:15,051 - tracker - INFO - Rank 0 -- tracking contacts -- 8 of 8 of type hospital\n",
      "2022-07-26 16:12:15,053 - tracker - INFO - Rank 0 -- tracking contacts -- 8 of 8 of type isolation_unit\n",
      "2022-07-26 16:12:15,054 - rank - INFO - Rank 0 -- tracker -- 6.625025926012313\n",
      "2022-07-26 16:12:15,058 - epidemiology - INFO - CMS: Infection COMS-v2 for rank 0/1(2)0.0013319690187927336,0.0013318061828613281 - 2020-05-24 17:00:00\n",
      "2022-07-26 16:12:15,094 - rank - INFO - Rank 0 -- interaction_waiting -- 6.975984433665872e-06\n",
      "2022-07-26 16:12:15,111 - simulator - INFO - CMS: Timestep for rank 0/1 - 7.827782195992768,7.82778525352478 - 2020-05-24 17:00:00\n",
      "\n",
      "2022-07-26 16:12:15,113 - rank - INFO - Next timestep\n",
      "2022-07-26 16:12:15,114 - simulator - INFO - ==================== timestep ====================\n",
      "2022-07-26 16:12:15,333 - rank - INFO - Rank 0 -- move_people -- 0.2181125700008124\n",
      "2022-07-26 16:12:15,334 - rank - INFO - Rank 0 -- move_people_waiting -- 1.0334013495594263e-05\n",
      "2022-07-26 16:12:15,336 - activity_manager - INFO - CMS: People COMS for rank 0/1 - 5.282985512167215e-06,5.0067901611328125e-06 - 2020-05-24 19:00:00\n",
      "2022-07-26 16:12:15,344 - simulator - INFO - Info for rank 0, Date = 2020-05-24 19:00:00, number of deaths =  0, number of infected = 248\n",
      "2022-07-26 16:12:15,499 - rank - INFO - Rank 0 -- interaction -- 0.16197818500222638\n",
      "2022-07-26 16:12:15,511 - tracker - INFO - Rank 0 -- tracking contacts -- 500 of 3274 of type shelter\n",
      "2022-07-26 16:12:17,059 - tracker - INFO - Rank 0 -- tracking contacts -- 115 of 115 of type communal\n",
      "2022-07-26 16:12:17,061 - tracker - INFO - Rank 0 -- tracking contacts -- 21 of 21 of type distribution_center\n",
      "2022-07-26 16:12:17,064 - tracker - INFO - Rank 0 -- tracking contacts -- 7 of 7 of type e_voucher\n",
      "2022-07-26 16:12:17,065 - tracker - INFO - Rank 0 -- tracking contacts -- 67 of 67 of type female_communal\n",
      "2022-07-26 16:12:17,068 - tracker - INFO - Rank 0 -- tracking contacts -- 80 of 80 of type informal_work\n",
      "2022-07-26 16:12:17,072 - tracker - INFO - Rank 0 -- tracking contacts -- 41 of 41 of type n_f_distribution_center\n",
      "2022-07-26 16:12:17,076 - tracker - INFO - Rank 0 -- tracking contacts -- 500 of 544 of type play_group\n",
      "2022-07-26 16:12:17,086 - tracker - INFO - Rank 0 -- tracking contacts -- 81 of 81 of type pump_latrine\n",
      "2022-07-26 16:12:17,104 - tracker - INFO - Rank 0 -- tracking contacts -- 500 of 2065 of type religious\n",
      "2022-07-26 16:12:17,119 - tracker - INFO - Rank 0 -- tracking contacts -- 389 of 389 of type learning_center\n",
      "2022-07-26 16:12:17,134 - tracker - INFO - Rank 0 -- tracking contacts -- 8 of 8 of type hospital\n",
      "2022-07-26 16:12:17,136 - tracker - INFO - Rank 0 -- tracking contacts -- 8 of 8 of type isolation_unit\n",
      "2022-07-26 16:12:17,137 - rank - INFO - Rank 0 -- tracker -- 1.6368685530032963\n",
      "2022-07-26 16:12:17,156 - epidemiology - INFO - CMS: Infection COMS-v2 for rank 0/1(2)0.0003177619946654886,0.0003173351287841797 - 2020-05-24 19:00:00\n",
      "2022-07-26 16:12:17,198 - rank - INFO - Rank 0 -- interaction_waiting -- 7.377006113529205e-06\n",
      "2022-07-26 16:12:17,212 - simulator - INFO - CMS: Timestep for rank 0/1 - 2.096780622989172,2.096781015396118 - 2020-05-24 19:00:00\n",
      "\n",
      "2022-07-26 16:12:17,215 - rank - INFO - Next timestep\n",
      "2022-07-26 16:12:17,216 - simulator - INFO - ==================== timestep ====================\n",
      "2022-07-26 16:12:17,435 - rank - INFO - Rank 0 -- move_people -- 0.2177985030284617\n",
      "2022-07-26 16:12:17,436 - rank - INFO - Rank 0 -- move_people_waiting -- 1.0799994925037026e-05\n",
      "2022-07-26 16:12:17,437 - activity_manager - INFO - CMS: People COMS for rank 0/1 - 4.147994332015514e-06,3.814697265625e-06 - 2020-05-25 09:00:00\n",
      "2022-07-26 16:12:17,444 - simulator - INFO - Info for rank 0, Date = 2020-05-25 09:00:00, number of deaths =  0, number of infected = 275\n",
      "2022-07-26 16:12:17,550 - rank - INFO - Rank 0 -- interaction -- 0.11242782798944972\n",
      "2022-07-26 16:12:24,344 - tracker - INFO - Rank 0 -- tracking contacts -- 500 of 3274 of type shelter\n",
      "2022-07-26 16:12:25,166 - tracker - INFO - Rank 0 -- tracking contacts -- 115 of 115 of type communal\n",
      "2022-07-26 16:12:25,169 - tracker - INFO - Rank 0 -- tracking contacts -- 21 of 21 of type distribution_center\n",
      "2022-07-26 16:12:25,170 - tracker - INFO - Rank 0 -- tracking contacts -- 7 of 7 of type e_voucher\n"
     ]
    },
    {
     "name": "stdout",
     "output_type": "stream",
     "text": [
      "2022-07-26 16:12:25,172 - tracker - INFO - Rank 0 -- tracking contacts -- 67 of 67 of type female_communal\n",
      "2022-07-26 16:12:25,174 - tracker - INFO - Rank 0 -- tracking contacts -- 80 of 80 of type informal_work\n",
      "2022-07-26 16:12:25,176 - tracker - INFO - Rank 0 -- tracking contacts -- 41 of 41 of type n_f_distribution_center\n",
      "2022-07-26 16:12:25,179 - tracker - INFO - Rank 0 -- tracking contacts -- 500 of 544 of type play_group\n",
      "2022-07-26 16:12:25,188 - tracker - INFO - Rank 0 -- tracking contacts -- 81 of 81 of type pump_latrine\n",
      "2022-07-26 16:12:25,199 - tracker - INFO - Rank 0 -- tracking contacts -- 500 of 2065 of type religious\n",
      "2022-07-26 16:12:25,211 - tracker - INFO - Rank 0 -- tracking contacts -- 389 of 389 of type learning_center\n",
      "2022-07-26 16:12:26,289 - tracker - INFO - Rank 0 -- tracking contacts -- 8 of 8 of type hospital\n",
      "2022-07-26 16:12:26,299 - tracker - INFO - Rank 0 -- tracking contacts -- 8 of 8 of type isolation_unit\n",
      "2022-07-26 16:12:26,301 - rank - INFO - Rank 0 -- tracker -- 8.749551976012299\n",
      "2022-07-26 16:12:26,307 - epidemiology - INFO - CMS: Infection COMS-v2 for rank 0/1(2)0.00044255799730308354,0.0004420280456542969 - 2020-05-25 09:00:00\n",
      "2022-07-26 16:12:26,345 - rank - INFO - Rank 0 -- interaction_waiting -- 7.077993359416723e-06\n",
      "2022-07-26 16:12:26,359 - simulator - INFO - CMS: Timestep for rank 0/1 - 9.142201495997142,9.142202615737915 - 2020-05-25 09:00:00\n",
      "\n",
      "2022-07-26 16:12:26,362 - rank - INFO - Next timestep\n",
      "2022-07-26 16:12:26,363 - simulator - INFO - ==================== timestep ====================\n",
      "2022-07-26 16:12:27,307 - rank - INFO - Rank 0 -- move_people -- 0.9438533889770042\n",
      "2022-07-26 16:12:27,308 - rank - INFO - Rank 0 -- move_people_waiting -- 8.937990060076118e-06\n",
      "2022-07-26 16:12:27,309 - activity_manager - INFO - CMS: People COMS for rank 0/1 - 4.606990842148662e-06,4.291534423828125e-06 - 2020-05-25 11:00:00\n",
      "2022-07-26 16:12:27,317 - simulator - INFO - Info for rank 0, Date = 2020-05-25 11:00:00, number of deaths =  0, number of infected = 285\n",
      "2022-07-26 16:12:27,531 - rank - INFO - Rank 0 -- interaction -- 0.22140541899716482\n",
      "2022-07-26 16:12:29,014 - tracker - INFO - Rank 0 -- tracking contacts -- 500 of 3274 of type shelter\n",
      "2022-07-26 16:12:29,319 - tracker - INFO - Rank 0 -- tracking contacts -- 115 of 115 of type communal\n",
      "2022-07-26 16:12:29,341 - tracker - INFO - Rank 0 -- tracking contacts -- 21 of 21 of type distribution_center\n",
      "2022-07-26 16:12:29,405 - tracker - INFO - Rank 0 -- tracking contacts -- 7 of 7 of type e_voucher\n",
      "2022-07-26 16:12:29,423 - tracker - INFO - Rank 0 -- tracking contacts -- 67 of 67 of type female_communal\n",
      "2022-07-26 16:12:29,479 - tracker - INFO - Rank 0 -- tracking contacts -- 80 of 80 of type informal_work\n",
      "2022-07-26 16:12:29,580 - tracker - INFO - Rank 0 -- tracking contacts -- 41 of 41 of type n_f_distribution_center\n",
      "2022-07-26 16:12:29,721 - tracker - INFO - Rank 0 -- tracking contacts -- 500 of 544 of type play_group\n",
      "2022-07-26 16:12:30,282 - tracker - INFO - Rank 0 -- tracking contacts -- 81 of 81 of type pump_latrine\n",
      "2022-07-26 16:12:34,504 - tracker - INFO - Rank 0 -- tracking contacts -- 500 of 2065 of type religious\n",
      "2022-07-26 16:12:35,060 - tracker - INFO - Rank 0 -- tracking contacts -- 389 of 389 of type learning_center\n",
      "2022-07-26 16:12:36,154 - tracker - INFO - Rank 0 -- tracking contacts -- 8 of 8 of type hospital\n",
      "2022-07-26 16:12:36,162 - tracker - INFO - Rank 0 -- tracking contacts -- 8 of 8 of type isolation_unit\n",
      "2022-07-26 16:12:36,163 - rank - INFO - Rank 0 -- tracker -- 8.62829080101801\n",
      "2022-07-26 16:12:36,170 - epidemiology - INFO - CMS: Infection COMS-v2 for rank 0/1(2)0.0008107800094876438,0.0008103847503662109 - 2020-05-25 11:00:00\n",
      "2022-07-26 16:12:36,209 - rank - INFO - Rank 0 -- interaction_waiting -- 7.854978321120143e-06\n",
      "2022-07-26 16:12:36,223 - simulator - INFO - CMS: Timestep for rank 0/1 - 9.859537078998983,9.859538316726685 - 2020-05-25 11:00:00\n",
      "\n",
      "2022-07-26 16:12:36,225 - rank - INFO - Next timestep\n",
      "2022-07-26 16:12:36,226 - simulator - INFO - ==================== timestep ====================\n",
      "2022-07-26 16:12:37,083 - rank - INFO - Rank 0 -- move_people -- 0.855903824995039\n",
      "2022-07-26 16:12:37,084 - rank - INFO - Rank 0 -- move_people_waiting -- 4.814995918422937e-06\n",
      "2022-07-26 16:12:37,085 - activity_manager - INFO - CMS: People COMS for rank 0/1 - 5.644018528982997e-06,5.4836273193359375e-06 - 2020-05-25 13:00:00\n",
      "2022-07-26 16:12:37,093 - simulator - INFO - Info for rank 0, Date = 2020-05-25 13:00:00, number of deaths =  0, number of infected = 292\n",
      "2022-07-26 16:12:37,258 - rank - INFO - Rank 0 -- interaction -- 0.1719322099816054\n",
      "2022-07-26 16:12:40,685 - tracker - INFO - Rank 0 -- tracking contacts -- 500 of 3274 of type shelter\n",
      "2022-07-26 16:12:41,021 - tracker - INFO - Rank 0 -- tracking contacts -- 115 of 115 of type communal\n",
      "2022-07-26 16:12:41,049 - tracker - INFO - Rank 0 -- tracking contacts -- 21 of 21 of type distribution_center\n",
      "2022-07-26 16:12:41,087 - tracker - INFO - Rank 0 -- tracking contacts -- 7 of 7 of type e_voucher\n",
      "2022-07-26 16:12:41,103 - tracker - INFO - Rank 0 -- tracking contacts -- 67 of 67 of type female_communal\n",
      "2022-07-26 16:12:41,169 - tracker - INFO - Rank 0 -- tracking contacts -- 80 of 80 of type informal_work\n",
      "2022-07-26 16:12:41,267 - tracker - INFO - Rank 0 -- tracking contacts -- 41 of 41 of type n_f_distribution_center\n",
      "2022-07-26 16:12:41,394 - tracker - INFO - Rank 0 -- tracking contacts -- 500 of 544 of type play_group\n",
      "2022-07-26 16:12:41,796 - tracker - INFO - Rank 0 -- tracking contacts -- 81 of 81 of type pump_latrine\n",
      "2022-07-26 16:12:46,228 - tracker - INFO - Rank 0 -- tracking contacts -- 500 of 2065 of type religious\n",
      "2022-07-26 16:12:46,869 - tracker - INFO - Rank 0 -- tracking contacts -- 389 of 389 of type learning_center\n",
      "2022-07-26 16:12:48,045 - tracker - INFO - Rank 0 -- tracking contacts -- 8 of 8 of type hospital\n",
      "2022-07-26 16:12:48,052 - tracker - INFO - Rank 0 -- tracking contacts -- 8 of 8 of type isolation_unit\n",
      "2022-07-26 16:12:48,053 - rank - INFO - Rank 0 -- tracker -- 10.794025420007529\n",
      "2022-07-26 16:12:48,063 - epidemiology - INFO - CMS: Infection COMS-v2 for rank 0/1(2)0.00041566198342479765,0.0004150867462158203 - 2020-05-25 13:00:00\n",
      "2022-07-26 16:12:48,107 - rank - INFO - Rank 0 -- interaction_waiting -- 6.996007869020104e-06\n",
      "2022-07-26 16:12:48,122 - simulator - INFO - CMS: Timestep for rank 0/1 - 11.894558788015274,11.894559860229492 - 2020-05-25 13:00:00\n",
      "\n",
      "2022-07-26 16:12:48,125 - rank - INFO - Next timestep\n",
      "2022-07-26 16:12:48,126 - simulator - INFO - ==================== timestep ====================\n",
      "2022-07-26 16:12:49,253 - rank - INFO - Rank 0 -- move_people -- 1.1257114319887478\n",
      "2022-07-26 16:12:49,254 - rank - INFO - Rank 0 -- move_people_waiting -- 9.195005986839533e-06\n",
      "2022-07-26 16:12:49,255 - activity_manager - INFO - CMS: People COMS for rank 0/1 - 4.330999217927456e-06,3.814697265625e-06 - 2020-05-25 15:00:00\n",
      "2022-07-26 16:12:49,263 - simulator - INFO - Info for rank 0, Date = 2020-05-25 15:00:00, number of deaths =  0, number of infected = 309\n",
      "2022-07-26 16:12:49,430 - rank - INFO - Rank 0 -- interaction -- 0.17440961697138846\n",
      "2022-07-26 16:12:54,231 - tracker - INFO - Rank 0 -- tracking contacts -- 500 of 3274 of type shelter\n",
      "2022-07-26 16:12:54,620 - tracker - INFO - Rank 0 -- tracking contacts -- 115 of 115 of type communal\n",
      "2022-07-26 16:12:54,653 - tracker - INFO - Rank 0 -- tracking contacts -- 21 of 21 of type distribution_center\n",
      "2022-07-26 16:12:54,717 - tracker - INFO - Rank 0 -- tracking contacts -- 7 of 7 of type e_voucher\n",
      "2022-07-26 16:12:54,744 - tracker - INFO - Rank 0 -- tracking contacts -- 67 of 67 of type female_communal\n",
      "2022-07-26 16:12:54,818 - tracker - INFO - Rank 0 -- tracking contacts -- 80 of 80 of type informal_work\n",
      "2022-07-26 16:12:54,914 - tracker - INFO - Rank 0 -- tracking contacts -- 41 of 41 of type n_f_distribution_center\n",
      "2022-07-26 16:12:55,027 - tracker - INFO - Rank 0 -- tracking contacts -- 500 of 544 of type play_group\n",
      "2022-07-26 16:12:55,445 - tracker - INFO - Rank 0 -- tracking contacts -- 81 of 81 of type pump_latrine\n",
      "2022-07-26 16:12:59,461 - tracker - INFO - Rank 0 -- tracking contacts -- 500 of 2065 of type religious\n"
     ]
    },
    {
     "name": "stdout",
     "output_type": "stream",
     "text": [
      "2022-07-26 16:13:00,026 - tracker - INFO - Rank 0 -- tracking contacts -- 389 of 389 of type learning_center\n",
      "2022-07-26 16:13:01,017 - tracker - INFO - Rank 0 -- tracking contacts -- 8 of 8 of type hospital\n",
      "2022-07-26 16:13:01,023 - tracker - INFO - Rank 0 -- tracking contacts -- 8 of 8 of type isolation_unit\n",
      "2022-07-26 16:13:01,024 - rank - INFO - Rank 0 -- tracker -- 11.592933403007919\n",
      "2022-07-26 16:13:01,033 - epidemiology - INFO - CMS: Infection COMS-v2 for rank 0/1(2)0.0002786340191960335,0.000278472900390625 - 2020-05-25 15:00:00\n",
      "2022-07-26 16:13:01,076 - rank - INFO - Rank 0 -- interaction_waiting -- 8.225004421547055e-06\n",
      "2022-07-26 16:13:01,091 - simulator - INFO - CMS: Timestep for rank 0/1 - 12.963974429992959,12.963974952697754 - 2020-05-25 15:00:00\n",
      "\n",
      "2022-07-26 16:13:01,094 - rank - INFO - Next timestep\n",
      "2022-07-26 16:13:01,095 - simulator - INFO - ==================== timestep ====================\n",
      "2022-07-26 16:13:02,086 - rank - INFO - Rank 0 -- move_people -- 0.9903284289757721\n",
      "2022-07-26 16:13:02,088 - rank - INFO - Rank 0 -- move_people_waiting -- 4.206987796351314e-06\n",
      "2022-07-26 16:13:02,089 - activity_manager - INFO - CMS: People COMS for rank 0/1 - 4.083995008841157e-06,3.5762786865234375e-06 - 2020-05-25 17:00:00\n",
      "2022-07-26 16:13:02,095 - simulator - INFO - Info for rank 0, Date = 2020-05-25 17:00:00, number of deaths =  0, number of infected = 324\n",
      "2022-07-26 16:13:02,269 - rank - INFO - Rank 0 -- interaction -- 0.17833645199425519\n",
      "2022-07-26 16:13:07,911 - tracker - INFO - Rank 0 -- tracking contacts -- 500 of 3274 of type shelter\n",
      "2022-07-26 16:13:08,381 - tracker - INFO - Rank 0 -- tracking contacts -- 115 of 115 of type communal\n",
      "2022-07-26 16:13:08,384 - tracker - INFO - Rank 0 -- tracking contacts -- 21 of 21 of type distribution_center\n",
      "2022-07-26 16:13:08,441 - tracker - INFO - Rank 0 -- tracking contacts -- 7 of 7 of type e_voucher\n",
      "2022-07-26 16:13:08,473 - tracker - INFO - Rank 0 -- tracking contacts -- 67 of 67 of type female_communal\n",
      "2022-07-26 16:13:08,477 - tracker - INFO - Rank 0 -- tracking contacts -- 80 of 80 of type informal_work\n",
      "2022-07-26 16:13:08,593 - tracker - INFO - Rank 0 -- tracking contacts -- 41 of 41 of type n_f_distribution_center\n",
      "2022-07-26 16:13:08,907 - tracker - INFO - Rank 0 -- tracking contacts -- 500 of 544 of type play_group\n",
      "2022-07-26 16:13:09,470 - tracker - INFO - Rank 0 -- tracking contacts -- 81 of 81 of type pump_latrine\n",
      "2022-07-26 16:13:15,002 - tracker - INFO - Rank 0 -- tracking contacts -- 500 of 2065 of type religious\n",
      "2022-07-26 16:13:15,661 - tracker - INFO - Rank 0 -- tracking contacts -- 389 of 389 of type learning_center\n",
      "2022-07-26 16:13:15,671 - tracker - INFO - Rank 0 -- tracking contacts -- 8 of 8 of type hospital\n",
      "2022-07-26 16:13:15,673 - tracker - INFO - Rank 0 -- tracking contacts -- 8 of 8 of type isolation_unit\n",
      "2022-07-26 16:13:15,674 - rank - INFO - Rank 0 -- tracker -- 13.404020899994066\n",
      "2022-07-26 16:13:15,682 - epidemiology - INFO - CMS: Infection COMS-v2 for rank 0/1(2)0.00029525402351282537,0.00029468536376953125 - 2020-05-25 17:00:00\n",
      "2022-07-26 16:13:15,978 - rank - INFO - Rank 0 -- interaction_waiting -- 8.950009942054749e-06\n",
      "2022-07-26 16:13:15,995 - simulator - INFO - CMS: Timestep for rank 0/1 - 14.898995233990718,14.898995876312256 - 2020-05-25 17:00:00\n",
      "\n",
      "2022-07-26 16:13:15,998 - rank - INFO - Next timestep\n",
      "2022-07-26 16:13:15,999 - simulator - INFO - ==================== timestep ====================\n",
      "2022-07-26 16:13:16,182 - rank - INFO - Rank 0 -- move_people -- 0.1807058049889747\n",
      "2022-07-26 16:13:16,183 - rank - INFO - Rank 0 -- move_people_waiting -- 4.940986400470138e-06\n",
      "2022-07-26 16:13:16,184 - activity_manager - INFO - CMS: People COMS for rank 0/1 - 5.476002115756273e-06,4.76837158203125e-06 - 2020-05-25 19:00:00\n",
      "2022-07-26 16:13:16,190 - simulator - INFO - Info for rank 0, Date = 2020-05-25 19:00:00, number of deaths =  0, number of infected = 341\n",
      "2022-07-26 16:13:16,292 - rank - INFO - Rank 0 -- interaction -- 0.10763934202259406\n",
      "2022-07-26 16:13:22,987 - tracker - INFO - Rank 0 -- tracking contacts -- 500 of 3274 of type shelter\n",
      "2022-07-26 16:13:24,130 - tracker - INFO - Rank 0 -- tracking contacts -- 115 of 115 of type communal\n",
      "2022-07-26 16:13:24,132 - tracker - INFO - Rank 0 -- tracking contacts -- 21 of 21 of type distribution_center\n",
      "2022-07-26 16:13:24,134 - tracker - INFO - Rank 0 -- tracking contacts -- 7 of 7 of type e_voucher\n",
      "2022-07-26 16:13:24,135 - tracker - INFO - Rank 0 -- tracking contacts -- 67 of 67 of type female_communal\n",
      "2022-07-26 16:13:24,137 - tracker - INFO - Rank 0 -- tracking contacts -- 80 of 80 of type informal_work\n",
      "2022-07-26 16:13:24,139 - tracker - INFO - Rank 0 -- tracking contacts -- 41 of 41 of type n_f_distribution_center\n",
      "2022-07-26 16:13:24,142 - tracker - INFO - Rank 0 -- tracking contacts -- 500 of 544 of type play_group\n",
      "2022-07-26 16:13:24,151 - tracker - INFO - Rank 0 -- tracking contacts -- 81 of 81 of type pump_latrine\n",
      "2022-07-26 16:13:24,163 - tracker - INFO - Rank 0 -- tracking contacts -- 500 of 2065 of type religious\n",
      "2022-07-26 16:13:24,174 - tracker - INFO - Rank 0 -- tracking contacts -- 389 of 389 of type learning_center\n",
      "2022-07-26 16:13:24,183 - tracker - INFO - Rank 0 -- tracking contacts -- 8 of 8 of type hospital\n",
      "2022-07-26 16:13:24,184 - tracker - INFO - Rank 0 -- tracking contacts -- 8 of 8 of type isolation_unit\n",
      "2022-07-26 16:13:24,185 - rank - INFO - Rank 0 -- tracker -- 7.892348246998154\n",
      "2022-07-26 16:13:24,205 - epidemiology - INFO - CMS: Infection COMS-v2 for rank 0/1(2)0.00035731898969970644,0.0003571510314941406 - 2020-05-25 19:00:00\n",
      "2022-07-26 16:13:24,244 - rank - INFO - Rank 0 -- interaction_waiting -- 7.301016012206674e-06\n",
      "2022-07-26 16:13:24,258 - simulator - INFO - CMS: Timestep for rank 0/1 - 8.257049092004308,8.257049798965454 - 2020-05-25 19:00:00\n",
      "\n",
      "2022-07-26 16:13:24,261 - rank - INFO - Next timestep\n",
      "2022-07-26 16:13:24,262 - simulator - INFO - ==================== timestep ====================\n",
      "2022-07-26 16:13:24,465 - rank - INFO - Rank 0 -- move_people -- 0.20238614900154062\n",
      "2022-07-26 16:13:24,466 - rank - INFO - Rank 0 -- move_people_waiting -- 4.040019121021032e-06\n",
      "2022-07-26 16:13:24,467 - activity_manager - INFO - CMS: People COMS for rank 0/1 - 4.405999789014459e-06,3.814697265625e-06 - 2020-05-26 09:00:00\n",
      "2022-07-26 16:13:24,472 - simulator - INFO - Info for rank 0, Date = 2020-05-26 09:00:00, number of deaths =  0, number of infected = 384\n",
      "2022-07-26 16:13:24,553 - rank - INFO - Rank 0 -- interaction -- 0.08472252800129354\n",
      "2022-07-26 16:13:24,559 - tracker - INFO - Rank 0 -- tracking contacts -- 500 of 3274 of type shelter\n",
      "2022-07-26 16:13:25,344 - tracker - INFO - Rank 0 -- tracking contacts -- 115 of 115 of type communal\n",
      "2022-07-26 16:13:25,346 - tracker - INFO - Rank 0 -- tracking contacts -- 21 of 21 of type distribution_center\n",
      "2022-07-26 16:13:25,348 - tracker - INFO - Rank 0 -- tracking contacts -- 7 of 7 of type e_voucher\n",
      "2022-07-26 16:13:25,349 - tracker - INFO - Rank 0 -- tracking contacts -- 67 of 67 of type female_communal\n",
      "2022-07-26 16:13:25,352 - tracker - INFO - Rank 0 -- tracking contacts -- 80 of 80 of type informal_work\n",
      "2022-07-26 16:13:25,355 - tracker - INFO - Rank 0 -- tracking contacts -- 41 of 41 of type n_f_distribution_center\n",
      "2022-07-26 16:13:25,359 - tracker - INFO - Rank 0 -- tracking contacts -- 500 of 544 of type play_group\n",
      "2022-07-26 16:13:25,371 - tracker - INFO - Rank 0 -- tracking contacts -- 81 of 81 of type pump_latrine\n",
      "2022-07-26 16:13:25,383 - tracker - INFO - Rank 0 -- tracking contacts -- 500 of 2065 of type religious\n",
      "2022-07-26 16:13:25,392 - tracker - INFO - Rank 0 -- tracking contacts -- 389 of 389 of type learning_center\n",
      "2022-07-26 16:13:26,381 - tracker - INFO - Rank 0 -- tracking contacts -- 8 of 8 of type hospital\n",
      "2022-07-26 16:13:26,388 - tracker - INFO - Rank 0 -- tracking contacts -- 8 of 8 of type isolation_unit\n",
      "2022-07-26 16:13:26,389 - rank - INFO - Rank 0 -- tracker -- 1.8354891449853312\n",
      "2022-07-26 16:13:26,395 - epidemiology - INFO - CMS: Infection COMS-v2 for rank 0/1(2)0.001102954993257299,0.0011022090911865234 - 2020-05-26 09:00:00\n",
      "2022-07-26 16:13:26,433 - rank - INFO - Rank 0 -- interaction_waiting -- 8.917006198316813e-06\n"
     ]
    },
    {
     "name": "stdout",
     "output_type": "stream",
     "text": [
      "2022-07-26 16:13:26,446 - simulator - INFO - CMS: Timestep for rank 0/1 - 2.183718924992718,2.1837198734283447 - 2020-05-26 09:00:00\n",
      "\n",
      "2022-07-26 16:13:26,449 - rank - INFO - Next timestep\n",
      "2022-07-26 16:13:26,450 - simulator - INFO - ==================== timestep ====================\n",
      "2022-07-26 16:13:27,212 - rank - INFO - Rank 0 -- move_people -- 0.7611781290033832\n",
      "2022-07-26 16:13:27,213 - rank - INFO - Rank 0 -- move_people_waiting -- 7.872004061937332e-06\n",
      "2022-07-26 16:13:27,214 - activity_manager - INFO - CMS: People COMS for rank 0/1 - 3.942986950278282e-06,3.5762786865234375e-06 - 2020-05-26 11:00:00\n",
      "2022-07-26 16:13:27,223 - simulator - INFO - Info for rank 0, Date = 2020-05-26 11:00:00, number of deaths =  0, number of infected = 394\n",
      "2022-07-26 16:13:27,378 - rank - INFO - Rank 0 -- interaction -- 0.163706736988388\n",
      "2022-07-26 16:13:27,385 - tracker - INFO - Rank 0 -- tracking contacts -- 500 of 3274 of type shelter\n",
      "2022-07-26 16:13:27,707 - tracker - INFO - Rank 0 -- tracking contacts -- 115 of 115 of type communal\n",
      "2022-07-26 16:13:27,730 - tracker - INFO - Rank 0 -- tracking contacts -- 21 of 21 of type distribution_center\n",
      "2022-07-26 16:13:27,800 - tracker - INFO - Rank 0 -- tracking contacts -- 7 of 7 of type e_voucher\n",
      "2022-07-26 16:13:27,817 - tracker - INFO - Rank 0 -- tracking contacts -- 67 of 67 of type female_communal\n",
      "2022-07-26 16:13:27,883 - tracker - INFO - Rank 0 -- tracking contacts -- 80 of 80 of type informal_work\n",
      "2022-07-26 16:13:27,969 - tracker - INFO - Rank 0 -- tracking contacts -- 41 of 41 of type n_f_distribution_center\n",
      "2022-07-26 16:13:28,081 - tracker - INFO - Rank 0 -- tracking contacts -- 500 of 544 of type play_group\n",
      "2022-07-26 16:13:28,540 - tracker - INFO - Rank 0 -- tracking contacts -- 81 of 81 of type pump_latrine\n",
      "2022-07-26 16:13:32,958 - tracker - INFO - Rank 0 -- tracking contacts -- 500 of 2065 of type religious\n",
      "2022-07-26 16:13:33,557 - tracker - INFO - Rank 0 -- tracking contacts -- 389 of 389 of type learning_center\n",
      "2022-07-26 16:13:34,645 - tracker - INFO - Rank 0 -- tracking contacts -- 8 of 8 of type hospital\n",
      "2022-07-26 16:13:34,652 - tracker - INFO - Rank 0 -- tracking contacts -- 8 of 8 of type isolation_unit\n",
      "2022-07-26 16:13:34,653 - rank - INFO - Rank 0 -- tracker -- 7.273736647999613\n",
      "2022-07-26 16:13:34,666 - epidemiology - INFO - CMS: Infection COMS-v2 for rank 0/1(2)0.0011530740011949092,0.0011527538299560547 - 2020-05-26 11:00:00\n",
      "2022-07-26 16:13:34,701 - rank - INFO - Rank 0 -- interaction_waiting -- 9.529001545161009e-06\n",
      "2022-07-26 16:13:34,716 - simulator - INFO - CMS: Timestep for rank 0/1 - 8.265059627010487,8.265060424804688 - 2020-05-26 11:00:00\n",
      "\n",
      "2022-07-26 16:13:34,718 - rank - INFO - Next timestep\n",
      "2022-07-26 16:13:34,719 - simulator - INFO - ==================== timestep ====================\n",
      "2022-07-26 16:13:35,590 - rank - INFO - Rank 0 -- move_people -- 0.8702102840179577\n",
      "2022-07-26 16:13:35,591 - rank - INFO - Rank 0 -- move_people_waiting -- 8.222006727010012e-06\n",
      "2022-07-26 16:13:35,592 - activity_manager - INFO - CMS: People COMS for rank 0/1 - 4.105997504666448e-06,3.814697265625e-06 - 2020-05-26 13:00:00\n",
      "2022-07-26 16:13:35,599 - simulator - INFO - Info for rank 0, Date = 2020-05-26 13:00:00, number of deaths =  0, number of infected = 417\n",
      "2022-07-26 16:13:35,771 - rank - INFO - Rank 0 -- interaction -- 0.17754699298529886\n",
      "2022-07-26 16:13:35,779 - tracker - INFO - Rank 0 -- tracking contacts -- 500 of 3274 of type shelter\n",
      "2022-07-26 16:13:36,095 - tracker - INFO - Rank 0 -- tracking contacts -- 115 of 115 of type communal\n",
      "2022-07-26 16:13:36,119 - tracker - INFO - Rank 0 -- tracking contacts -- 21 of 21 of type distribution_center\n",
      "2022-07-26 16:13:36,171 - tracker - INFO - Rank 0 -- tracking contacts -- 7 of 7 of type e_voucher\n",
      "2022-07-26 16:13:36,184 - tracker - INFO - Rank 0 -- tracking contacts -- 67 of 67 of type female_communal\n",
      "2022-07-26 16:13:36,245 - tracker - INFO - Rank 0 -- tracking contacts -- 80 of 80 of type informal_work\n",
      "2022-07-26 16:13:36,343 - tracker - INFO - Rank 0 -- tracking contacts -- 41 of 41 of type n_f_distribution_center\n",
      "2022-07-26 16:13:36,537 - tracker - INFO - Rank 0 -- tracking contacts -- 500 of 544 of type play_group\n",
      "2022-07-26 16:13:37,014 - tracker - INFO - Rank 0 -- tracking contacts -- 81 of 81 of type pump_latrine\n",
      "2022-07-26 16:13:41,331 - tracker - INFO - Rank 0 -- tracking contacts -- 500 of 2065 of type religious\n",
      "2022-07-26 16:13:41,881 - tracker - INFO - Rank 0 -- tracking contacts -- 389 of 389 of type learning_center\n",
      "2022-07-26 16:13:42,955 - tracker - INFO - Rank 0 -- tracking contacts -- 8 of 8 of type hospital\n",
      "2022-07-26 16:13:42,965 - tracker - INFO - Rank 0 -- tracking contacts -- 8 of 8 of type isolation_unit\n",
      "2022-07-26 16:13:42,966 - rank - INFO - Rank 0 -- tracker -- 7.193835791986203\n",
      "2022-07-26 16:13:42,977 - epidemiology - INFO - CMS: Infection COMS-v2 for rank 0/1(2)0.00042950600618496537,0.0004284381866455078 - 2020-05-26 13:00:00\n",
      "2022-07-26 16:13:43,014 - rank - INFO - Rank 0 -- interaction_waiting -- 8.96799610927701e-06\n",
      "2022-07-26 16:13:43,028 - simulator - INFO - CMS: Timestep for rank 0/1 - 8.308440495020477,8.308441638946533 - 2020-05-26 13:00:00\n",
      "\n",
      "2022-07-26 16:13:43,031 - rank - INFO - Next timestep\n",
      "2022-07-26 16:13:43,033 - simulator - INFO - ==================== timestep ====================\n",
      "2022-07-26 16:13:43,937 - rank - INFO - Rank 0 -- move_people -- 0.9039716660045087\n",
      "2022-07-26 16:13:43,939 - rank - INFO - Rank 0 -- move_people_waiting -- 4.483008524402976e-06\n",
      "2022-07-26 16:13:43,939 - activity_manager - INFO - CMS: People COMS for rank 0/1 - 4.806992365047336e-06,4.291534423828125e-06 - 2020-05-26 15:00:00\n",
      "2022-07-26 16:13:43,945 - simulator - INFO - Info for rank 0, Date = 2020-05-26 15:00:00, number of deaths =  0, number of infected = 435\n",
      "2022-07-26 16:13:44,124 - rank - INFO - Rank 0 -- interaction -- 0.18379790600738488\n",
      "2022-07-26 16:13:44,135 - tracker - INFO - Rank 0 -- tracking contacts -- 500 of 3274 of type shelter\n",
      "2022-07-26 16:13:44,480 - tracker - INFO - Rank 0 -- tracking contacts -- 115 of 115 of type communal\n",
      "2022-07-26 16:13:44,511 - tracker - INFO - Rank 0 -- tracking contacts -- 21 of 21 of type distribution_center\n",
      "2022-07-26 16:13:44,551 - tracker - INFO - Rank 0 -- tracking contacts -- 7 of 7 of type e_voucher\n",
      "2022-07-26 16:13:44,572 - tracker - INFO - Rank 0 -- tracking contacts -- 67 of 67 of type female_communal\n",
      "2022-07-26 16:13:44,632 - tracker - INFO - Rank 0 -- tracking contacts -- 80 of 80 of type informal_work\n",
      "2022-07-26 16:13:44,720 - tracker - INFO - Rank 0 -- tracking contacts -- 41 of 41 of type n_f_distribution_center\n",
      "2022-07-26 16:13:44,892 - tracker - INFO - Rank 0 -- tracking contacts -- 500 of 544 of type play_group\n",
      "2022-07-26 16:13:45,299 - tracker - INFO - Rank 0 -- tracking contacts -- 81 of 81 of type pump_latrine\n",
      "2022-07-26 16:13:49,573 - tracker - INFO - Rank 0 -- tracking contacts -- 500 of 2065 of type religious\n",
      "2022-07-26 16:13:50,106 - tracker - INFO - Rank 0 -- tracking contacts -- 389 of 389 of type learning_center\n",
      "2022-07-26 16:13:51,118 - tracker - INFO - Rank 0 -- tracking contacts -- 8 of 8 of type hospital\n",
      "2022-07-26 16:13:51,124 - tracker - INFO - Rank 0 -- tracking contacts -- 8 of 8 of type isolation_unit\n",
      "2022-07-26 16:13:51,125 - rank - INFO - Rank 0 -- tracker -- 7.000084856990725\n",
      "2022-07-26 16:13:51,140 - epidemiology - INFO - CMS: Infection COMS-v2 for rank 0/1(2)0.0002299490151926875,0.00022935867309570312 - 2020-05-26 15:00:00\n",
      "2022-07-26 16:13:51,174 - rank - INFO - Rank 0 -- interaction_waiting -- 6.896007107570767e-06\n",
      "2022-07-26 16:13:51,186 - simulator - INFO - CMS: Timestep for rank 0/1 - 8.15282754699001,8.152828931808472 - 2020-05-26 15:00:00\n",
      "\n",
      "2022-07-26 16:13:51,189 - rank - INFO - Next timestep\n",
      "2022-07-26 16:13:51,190 - simulator - INFO - ==================== timestep ====================\n",
      "2022-07-26 16:13:52,128 - rank - INFO - Rank 0 -- move_people -- 0.9377865270071197\n",
      "2022-07-26 16:13:52,129 - rank - INFO - Rank 0 -- move_people_waiting -- 6.991991540417075e-06\n",
      "2022-07-26 16:13:52,130 - activity_manager - INFO - CMS: People COMS for rank 0/1 - 3.5609991755336523e-06,3.337860107421875e-06 - 2020-05-26 17:00:00\n",
      "2022-07-26 16:13:52,136 - simulator - INFO - Info for rank 0, Date = 2020-05-26 17:00:00, number of deaths =  0, number of infected = 463\n"
     ]
    },
    {
     "name": "stdout",
     "output_type": "stream",
     "text": [
      "2022-07-26 16:13:52,311 - rank - INFO - Rank 0 -- interaction -- 0.18044109601760283\n",
      "2022-07-26 16:13:52,318 - tracker - INFO - Rank 0 -- tracking contacts -- 500 of 3274 of type shelter\n",
      "2022-07-26 16:13:52,703 - tracker - INFO - Rank 0 -- tracking contacts -- 115 of 115 of type communal\n",
      "2022-07-26 16:13:52,707 - tracker - INFO - Rank 0 -- tracking contacts -- 21 of 21 of type distribution_center\n",
      "2022-07-26 16:13:52,759 - tracker - INFO - Rank 0 -- tracking contacts -- 7 of 7 of type e_voucher\n",
      "2022-07-26 16:13:52,777 - tracker - INFO - Rank 0 -- tracking contacts -- 67 of 67 of type female_communal\n",
      "2022-07-26 16:13:52,783 - tracker - INFO - Rank 0 -- tracking contacts -- 80 of 80 of type informal_work\n",
      "2022-07-26 16:13:52,889 - tracker - INFO - Rank 0 -- tracking contacts -- 41 of 41 of type n_f_distribution_center\n",
      "2022-07-26 16:13:53,037 - tracker - INFO - Rank 0 -- tracking contacts -- 500 of 544 of type play_group\n",
      "2022-07-26 16:13:53,542 - tracker - INFO - Rank 0 -- tracking contacts -- 81 of 81 of type pump_latrine\n",
      "2022-07-26 16:13:58,913 - tracker - INFO - Rank 0 -- tracking contacts -- 500 of 2065 of type religious\n",
      "2022-07-26 16:13:59,589 - tracker - INFO - Rank 0 -- tracking contacts -- 389 of 389 of type learning_center\n",
      "2022-07-26 16:13:59,599 - tracker - INFO - Rank 0 -- tracking contacts -- 8 of 8 of type hospital\n",
      "2022-07-26 16:13:59,600 - tracker - INFO - Rank 0 -- tracking contacts -- 8 of 8 of type isolation_unit\n",
      "2022-07-26 16:13:59,602 - rank - INFO - Rank 0 -- tracker -- 7.289772585005267\n",
      "2022-07-26 16:13:59,612 - epidemiology - INFO - CMS: Infection COMS-v2 for rank 0/1(2)0.000361544982297346,0.0003612041473388672 - 2020-05-26 17:00:00\n",
      "2022-07-26 16:13:59,669 - rank - INFO - Rank 0 -- interaction_waiting -- 8.567993063479662e-06\n",
      "2022-07-26 16:13:59,690 - simulator - INFO - CMS: Timestep for rank 0/1 - 8.499467892019311,8.49946904182434 - 2020-05-26 17:00:00\n",
      "\n",
      "2022-07-26 16:13:59,694 - rank - INFO - Next timestep\n",
      "2022-07-26 16:13:59,695 - simulator - INFO - ==================== timestep ====================\n",
      "2022-07-26 16:13:59,912 - rank - INFO - Rank 0 -- move_people -- 0.21630754400393926\n",
      "2022-07-26 16:13:59,913 - rank - INFO - Rank 0 -- move_people_waiting -- 8.104019798338413e-06\n",
      "2022-07-26 16:13:59,914 - activity_manager - INFO - CMS: People COMS for rank 0/1 - 3.891997039318085e-06,3.337860107421875e-06 - 2020-05-26 19:00:00\n",
      "2022-07-26 16:13:59,922 - simulator - INFO - Info for rank 0, Date = 2020-05-26 19:00:00, number of deaths =  0, number of infected = 481\n",
      "2022-07-26 16:14:00,061 - rank - INFO - Rank 0 -- interaction -- 0.1466221989830956\n",
      "2022-07-26 16:14:00,069 - tracker - INFO - Rank 0 -- tracking contacts -- 500 of 3274 of type shelter\n",
      "2022-07-26 16:14:01,311 - tracker - INFO - Rank 0 -- tracking contacts -- 115 of 115 of type communal\n",
      "2022-07-26 16:14:01,313 - tracker - INFO - Rank 0 -- tracking contacts -- 21 of 21 of type distribution_center\n",
      "2022-07-26 16:14:01,315 - tracker - INFO - Rank 0 -- tracking contacts -- 7 of 7 of type e_voucher\n",
      "2022-07-26 16:14:01,317 - tracker - INFO - Rank 0 -- tracking contacts -- 67 of 67 of type female_communal\n",
      "2022-07-26 16:14:01,321 - tracker - INFO - Rank 0 -- tracking contacts -- 80 of 80 of type informal_work\n",
      "2022-07-26 16:14:01,325 - tracker - INFO - Rank 0 -- tracking contacts -- 41 of 41 of type n_f_distribution_center\n",
      "2022-07-26 16:14:01,329 - tracker - INFO - Rank 0 -- tracking contacts -- 500 of 544 of type play_group\n",
      "2022-07-26 16:14:01,345 - tracker - INFO - Rank 0 -- tracking contacts -- 81 of 81 of type pump_latrine\n",
      "2022-07-26 16:14:01,364 - tracker - INFO - Rank 0 -- tracking contacts -- 500 of 2065 of type religious\n",
      "2022-07-26 16:14:01,376 - tracker - INFO - Rank 0 -- tracking contacts -- 389 of 389 of type learning_center\n",
      "2022-07-26 16:14:01,386 - tracker - INFO - Rank 0 -- tracking contacts -- 8 of 8 of type hospital\n",
      "2022-07-26 16:14:01,387 - tracker - INFO - Rank 0 -- tracking contacts -- 8 of 8 of type isolation_unit\n",
      "2022-07-26 16:14:01,388 - rank - INFO - Rank 0 -- tracker -- 1.3257252129842527\n",
      "2022-07-26 16:14:01,439 - epidemiology - INFO - CMS: Infection COMS-v2 for rank 0/1(2)0.004757731017889455,0.004758119583129883 - 2020-05-26 19:00:00\n",
      "2022-07-26 16:14:01,483 - rank - INFO - Rank 0 -- interaction_waiting -- 7.52799678593874e-06\n",
      "2022-07-26 16:14:01,497 - simulator - INFO - CMS: Timestep for rank 0/1 - 1.8011773539765272,1.801178216934204 - 2020-05-26 19:00:00\n",
      "\n",
      "2022-07-26 16:14:01,499 - rank - INFO - Next timestep\n",
      "2022-07-26 16:14:01,501 - simulator - INFO - ==================== timestep ====================\n",
      "2022-07-26 16:14:01,710 - rank - INFO - Rank 0 -- move_people -- 0.20831984700635076\n",
      "2022-07-26 16:14:01,710 - rank - INFO - Rank 0 -- move_people_waiting -- 7.198017556220293e-06\n",
      "2022-07-26 16:14:01,711 - activity_manager - INFO - CMS: People COMS for rank 0/1 - 5.259993486106396e-06,4.76837158203125e-06 - 2020-05-27 09:00:00\n",
      "2022-07-26 16:14:01,717 - simulator - INFO - Info for rank 0, Date = 2020-05-27 09:00:00, number of deaths =  0, number of infected = 578\n",
      "2022-07-26 16:14:01,824 - rank - INFO - Rank 0 -- interaction -- 0.11129209800856188\n",
      "2022-07-26 16:14:01,831 - tracker - INFO - Rank 0 -- tracking contacts -- 500 of 3274 of type shelter\n",
      "2022-07-26 16:14:02,697 - tracker - INFO - Rank 0 -- tracking contacts -- 115 of 115 of type communal\n",
      "2022-07-26 16:14:02,701 - tracker - INFO - Rank 0 -- tracking contacts -- 21 of 21 of type distribution_center\n",
      "2022-07-26 16:14:02,703 - tracker - INFO - Rank 0 -- tracking contacts -- 7 of 7 of type e_voucher\n",
      "2022-07-26 16:14:02,705 - tracker - INFO - Rank 0 -- tracking contacts -- 67 of 67 of type female_communal\n",
      "2022-07-26 16:14:02,708 - tracker - INFO - Rank 0 -- tracking contacts -- 80 of 80 of type informal_work\n",
      "2022-07-26 16:14:02,712 - tracker - INFO - Rank 0 -- tracking contacts -- 41 of 41 of type n_f_distribution_center\n",
      "2022-07-26 16:14:02,716 - tracker - INFO - Rank 0 -- tracking contacts -- 500 of 544 of type play_group\n",
      "2022-07-26 16:14:02,733 - tracker - INFO - Rank 0 -- tracking contacts -- 81 of 81 of type pump_latrine\n",
      "2022-07-26 16:14:02,752 - tracker - INFO - Rank 0 -- tracking contacts -- 500 of 2065 of type religious\n",
      "2022-07-26 16:14:02,767 - tracker - INFO - Rank 0 -- tracking contacts -- 389 of 389 of type learning_center\n",
      "2022-07-26 16:14:03,752 - tracker - INFO - Rank 0 -- tracking contacts -- 8 of 8 of type hospital\n",
      "2022-07-26 16:14:03,760 - tracker - INFO - Rank 0 -- tracking contacts -- 8 of 8 of type isolation_unit\n",
      "2022-07-26 16:14:03,762 - rank - INFO - Rank 0 -- tracker -- 1.9371348019922152\n",
      "2022-07-26 16:14:03,772 - epidemiology - INFO - CMS: Infection COMS-v2 for rank 0/1(2)0.0003202139923814684,0.0003199577331542969 - 2020-05-27 09:00:00\n",
      "2022-07-26 16:14:03,812 - rank - INFO - Rank 0 -- interaction_waiting -- 7.187016308307648e-06\n",
      "2022-07-26 16:14:03,825 - simulator - INFO - CMS: Timestep for rank 0/1 - 2.3236498209880665,2.323651075363159 - 2020-05-27 09:00:00\n",
      "\n",
      "2022-07-26 16:14:03,828 - rank - INFO - Next timestep\n",
      "2022-07-26 16:14:03,829 - simulator - INFO - ==================== timestep ====================\n",
      "2022-07-26 16:14:04,659 - rank - INFO - Rank 0 -- move_people -- 0.8290595449798275\n",
      "2022-07-26 16:14:04,660 - rank - INFO - Rank 0 -- move_people_waiting -- 1.0523974196985364e-05\n",
      "2022-07-26 16:14:04,661 - activity_manager - INFO - CMS: People COMS for rank 0/1 - 5.127978511154652e-06,4.5299530029296875e-06 - 2020-05-27 11:00:00\n",
      "2022-07-26 16:14:04,668 - simulator - INFO - Info for rank 0, Date = 2020-05-27 11:00:00, number of deaths =  0, number of infected = 598\n",
      "2022-07-26 16:14:04,835 - rank - INFO - Rank 0 -- interaction -- 0.17239719998906367\n",
      "2022-07-26 16:14:04,843 - tracker - INFO - Rank 0 -- tracking contacts -- 500 of 3274 of type shelter\n",
      "2022-07-26 16:14:05,149 - tracker - INFO - Rank 0 -- tracking contacts -- 115 of 115 of type communal\n",
      "2022-07-26 16:14:05,179 - tracker - INFO - Rank 0 -- tracking contacts -- 21 of 21 of type distribution_center\n",
      "2022-07-26 16:14:05,236 - tracker - INFO - Rank 0 -- tracking contacts -- 7 of 7 of type e_voucher\n",
      "2022-07-26 16:14:05,266 - tracker - INFO - Rank 0 -- tracking contacts -- 67 of 67 of type female_communal\n",
      "2022-07-26 16:14:05,341 - tracker - INFO - Rank 0 -- tracking contacts -- 80 of 80 of type informal_work\n"
     ]
    },
    {
     "name": "stdout",
     "output_type": "stream",
     "text": [
      "2022-07-26 16:14:05,442 - tracker - INFO - Rank 0 -- tracking contacts -- 41 of 41 of type n_f_distribution_center\n",
      "2022-07-26 16:14:05,660 - tracker - INFO - Rank 0 -- tracking contacts -- 500 of 544 of type play_group\n",
      "2022-07-26 16:14:06,222 - tracker - INFO - Rank 0 -- tracking contacts -- 81 of 81 of type pump_latrine\n",
      "2022-07-26 16:14:10,539 - tracker - INFO - Rank 0 -- tracking contacts -- 500 of 2065 of type religious\n",
      "2022-07-26 16:14:11,057 - tracker - INFO - Rank 0 -- tracking contacts -- 389 of 389 of type learning_center\n",
      "2022-07-26 16:14:12,060 - tracker - INFO - Rank 0 -- tracking contacts -- 8 of 8 of type hospital\n",
      "2022-07-26 16:14:12,066 - tracker - INFO - Rank 0 -- tracking contacts -- 8 of 8 of type isolation_unit\n",
      "2022-07-26 16:14:12,067 - rank - INFO - Rank 0 -- tracker -- 7.23167511500651\n",
      "2022-07-26 16:14:12,081 - epidemiology - INFO - CMS: Infection COMS-v2 for rank 0/1(2)0.000286257010884583,0.00028586387634277344 - 2020-05-27 11:00:00\n",
      "2022-07-26 16:14:12,119 - rank - INFO - Rank 0 -- interaction_waiting -- 8.451985195279121e-06\n",
      "2022-07-26 16:14:12,140 - simulator - INFO - CMS: Timestep for rank 0/1 - 8.309416494012112,8.309417486190796 - 2020-05-27 11:00:00\n",
      "\n",
      "2022-07-26 16:14:12,143 - rank - INFO - Next timestep\n",
      "2022-07-26 16:14:12,144 - simulator - INFO - ==================== timestep ====================\n",
      "2022-07-26 16:14:12,973 - rank - INFO - Rank 0 -- move_people -- 0.8185509600152727\n",
      "2022-07-26 16:14:12,974 - rank - INFO - Rank 0 -- move_people_waiting -- 8.43399902805686e-06\n",
      "2022-07-26 16:14:12,975 - activity_manager - INFO - CMS: People COMS for rank 0/1 - 3.91600769944489e-06,3.5762786865234375e-06 - 2020-05-27 13:00:00\n",
      "2022-07-26 16:14:12,982 - simulator - INFO - Info for rank 0, Date = 2020-05-27 13:00:00, number of deaths =  0, number of infected = 624\n",
      "2022-07-26 16:14:13,174 - rank - INFO - Rank 0 -- interaction -- 0.19779715800541453\n",
      "2022-07-26 16:14:13,189 - tracker - INFO - Rank 0 -- tracking contacts -- 500 of 3274 of type shelter\n",
      "2022-07-26 16:14:13,616 - tracker - INFO - Rank 0 -- tracking contacts -- 115 of 115 of type communal\n",
      "2022-07-26 16:14:13,644 - tracker - INFO - Rank 0 -- tracking contacts -- 21 of 21 of type distribution_center\n",
      "2022-07-26 16:14:13,721 - tracker - INFO - Rank 0 -- tracking contacts -- 7 of 7 of type e_voucher\n",
      "2022-07-26 16:14:13,735 - tracker - INFO - Rank 0 -- tracking contacts -- 67 of 67 of type female_communal\n",
      "2022-07-26 16:14:13,796 - tracker - INFO - Rank 0 -- tracking contacts -- 80 of 80 of type informal_work\n",
      "2022-07-26 16:14:13,898 - tracker - INFO - Rank 0 -- tracking contacts -- 41 of 41 of type n_f_distribution_center\n",
      "2022-07-26 16:14:13,984 - tracker - INFO - Rank 0 -- tracking contacts -- 500 of 544 of type play_group\n",
      "2022-07-26 16:14:14,388 - tracker - INFO - Rank 0 -- tracking contacts -- 81 of 81 of type pump_latrine\n",
      "2022-07-26 16:14:19,066 - tracker - INFO - Rank 0 -- tracking contacts -- 500 of 2065 of type religious\n",
      "2022-07-26 16:14:19,670 - tracker - INFO - Rank 0 -- tracking contacts -- 389 of 389 of type learning_center\n",
      "2022-07-26 16:14:20,854 - tracker - INFO - Rank 0 -- tracking contacts -- 8 of 8 of type hospital\n",
      "2022-07-26 16:14:20,863 - tracker - INFO - Rank 0 -- tracking contacts -- 8 of 8 of type isolation_unit\n",
      "2022-07-26 16:14:20,864 - rank - INFO - Rank 0 -- tracker -- 7.688840678980341\n",
      "2022-07-26 16:14:20,878 - epidemiology - INFO - CMS: Infection COMS-v2 for rank 0/1(2)0.00023626800975762308,0.0002357959747314453 - 2020-05-27 13:00:00\n",
      "2022-07-26 16:14:20,929 - rank - INFO - Rank 0 -- interaction_waiting -- 8.347997209057212e-06\n",
      "2022-07-26 16:14:20,952 - simulator - INFO - CMS: Timestep for rank 0/1 - 8.797209028009092,8.79720950126648 - 2020-05-27 13:00:00\n",
      "\n",
      "2022-07-26 16:14:20,955 - rank - INFO - Next timestep\n",
      "2022-07-26 16:14:20,956 - simulator - INFO - ==================== timestep ====================\n",
      "2022-07-26 16:14:21,850 - rank - INFO - Rank 0 -- move_people -- 0.8928789439960383\n",
      "2022-07-26 16:14:21,851 - rank - INFO - Rank 0 -- move_people_waiting -- 8.08498589321971e-06\n",
      "2022-07-26 16:14:21,852 - activity_manager - INFO - CMS: People COMS for rank 0/1 - 4.19098068960011e-06,3.814697265625e-06 - 2020-05-27 15:00:00\n",
      "2022-07-26 16:14:21,860 - simulator - INFO - Info for rank 0, Date = 2020-05-27 15:00:00, number of deaths =  0, number of infected = 648\n",
      "2022-07-26 16:14:22,099 - rank - INFO - Rank 0 -- interaction -- 0.24545136498636566\n",
      "2022-07-26 16:14:22,106 - tracker - INFO - Rank 0 -- tracking contacts -- 500 of 3274 of type shelter\n",
      "2022-07-26 16:14:22,550 - tracker - INFO - Rank 0 -- tracking contacts -- 115 of 115 of type communal\n",
      "2022-07-26 16:14:22,576 - tracker - INFO - Rank 0 -- tracking contacts -- 21 of 21 of type distribution_center\n",
      "2022-07-26 16:14:22,644 - tracker - INFO - Rank 0 -- tracking contacts -- 7 of 7 of type e_voucher\n",
      "2022-07-26 16:14:22,673 - tracker - INFO - Rank 0 -- tracking contacts -- 67 of 67 of type female_communal\n",
      "2022-07-26 16:14:22,722 - tracker - INFO - Rank 0 -- tracking contacts -- 80 of 80 of type informal_work\n",
      "2022-07-26 16:14:22,814 - tracker - INFO - Rank 0 -- tracking contacts -- 41 of 41 of type n_f_distribution_center\n",
      "2022-07-26 16:14:22,967 - tracker - INFO - Rank 0 -- tracking contacts -- 500 of 544 of type play_group\n",
      "2022-07-26 16:14:23,441 - tracker - INFO - Rank 0 -- tracking contacts -- 81 of 81 of type pump_latrine\n",
      "2022-07-26 16:14:28,111 - tracker - INFO - Rank 0 -- tracking contacts -- 500 of 2065 of type religious\n",
      "2022-07-26 16:14:28,702 - tracker - INFO - Rank 0 -- tracking contacts -- 389 of 389 of type learning_center\n",
      "2022-07-26 16:14:30,038 - tracker - INFO - Rank 0 -- tracking contacts -- 8 of 8 of type hospital\n",
      "2022-07-26 16:14:30,046 - tracker - INFO - Rank 0 -- tracking contacts -- 8 of 8 of type isolation_unit\n",
      "2022-07-26 16:14:30,047 - rank - INFO - Rank 0 -- tracker -- 7.947702792007476\n",
      "2022-07-26 16:14:30,061 - epidemiology - INFO - CMS: Infection COMS-v2 for rank 0/1(2)0.0002367839915677905,0.00023603439331054688 - 2020-05-27 15:00:00\n",
      "2022-07-26 16:14:30,102 - rank - INFO - Rank 0 -- interaction_waiting -- 1.0563002433627844e-05\n",
      "2022-07-26 16:14:30,116 - simulator - INFO - CMS: Timestep for rank 0/1 - 9.158672780002235,9.158673524856567 - 2020-05-27 15:00:00\n",
      "\n",
      "2022-07-26 16:14:30,119 - rank - INFO - Next timestep\n",
      "2022-07-26 16:14:30,120 - simulator - INFO - ==================== timestep ====================\n",
      "2022-07-26 16:14:31,093 - rank - INFO - Rank 0 -- move_people -- 0.9719038199982606\n",
      "2022-07-26 16:14:31,093 - rank - INFO - Rank 0 -- move_people_waiting -- 6.238988135010004e-06\n",
      "2022-07-26 16:14:31,094 - activity_manager - INFO - CMS: People COMS for rank 0/1 - 4.240020643919706e-06,3.814697265625e-06 - 2020-05-27 17:00:00\n",
      "2022-07-26 16:14:31,102 - simulator - INFO - Info for rank 0, Date = 2020-05-27 17:00:00, number of deaths =  0, number of infected = 675\n",
      "2022-07-26 16:14:31,328 - rank - INFO - Rank 0 -- interaction -- 0.2330927090079058\n",
      "2022-07-26 16:14:31,339 - tracker - INFO - Rank 0 -- tracking contacts -- 500 of 3274 of type shelter\n",
      "2022-07-26 16:14:31,744 - tracker - INFO - Rank 0 -- tracking contacts -- 115 of 115 of type communal\n",
      "2022-07-26 16:14:31,747 - tracker - INFO - Rank 0 -- tracking contacts -- 21 of 21 of type distribution_center\n",
      "2022-07-26 16:14:31,815 - tracker - INFO - Rank 0 -- tracking contacts -- 7 of 7 of type e_voucher\n",
      "2022-07-26 16:14:31,833 - tracker - INFO - Rank 0 -- tracking contacts -- 67 of 67 of type female_communal\n",
      "2022-07-26 16:14:31,836 - tracker - INFO - Rank 0 -- tracking contacts -- 80 of 80 of type informal_work\n",
      "2022-07-26 16:14:31,948 - tracker - INFO - Rank 0 -- tracking contacts -- 41 of 41 of type n_f_distribution_center\n",
      "2022-07-26 16:14:32,176 - tracker - INFO - Rank 0 -- tracking contacts -- 500 of 544 of type play_group\n",
      "2022-07-26 16:14:32,880 - tracker - INFO - Rank 0 -- tracking contacts -- 81 of 81 of type pump_latrine\n",
      "2022-07-26 16:14:38,312 - tracker - INFO - Rank 0 -- tracking contacts -- 500 of 2065 of type religious\n",
      "2022-07-26 16:14:38,905 - tracker - INFO - Rank 0 -- tracking contacts -- 389 of 389 of type learning_center\n",
      "2022-07-26 16:14:38,914 - tracker - INFO - Rank 0 -- tracking contacts -- 8 of 8 of type hospital\n"
     ]
    },
    {
     "name": "stdout",
     "output_type": "stream",
     "text": [
      "2022-07-26 16:14:38,916 - tracker - INFO - Rank 0 -- tracking contacts -- 8 of 8 of type isolation_unit\n",
      "2022-07-26 16:14:38,916 - rank - INFO - Rank 0 -- tracker -- 7.587374810012989\n",
      "2022-07-26 16:14:38,942 - epidemiology - INFO - CMS: Infection COMS-v2 for rank 0/1(2)0.0003288489824626595,0.00032806396484375 - 2020-05-27 17:00:00\n",
      "2022-07-26 16:14:38,987 - rank - INFO - Rank 0 -- interaction_waiting -- 6.703019607812166e-06\n",
      "2022-07-26 16:14:39,000 - simulator - INFO - CMS: Timestep for rank 0/1 - 8.879000197019195,8.879001140594482 - 2020-05-27 17:00:00\n",
      "\n",
      "2022-07-26 16:14:39,002 - rank - INFO - Next timestep\n",
      "2022-07-26 16:14:39,003 - simulator - INFO - ==================== timestep ====================\n",
      "2022-07-26 16:14:39,176 - rank - INFO - Rank 0 -- move_people -- 0.17179207899607718\n",
      "2022-07-26 16:14:39,176 - rank - INFO - Rank 0 -- move_people_waiting -- 7.871974958106875e-06\n",
      "2022-07-26 16:14:39,177 - activity_manager - INFO - CMS: People COMS for rank 0/1 - 4.394009010866284e-06,3.814697265625e-06 - 2020-05-27 19:00:00\n",
      "2022-07-26 16:14:39,184 - simulator - INFO - Info for rank 0, Date = 2020-05-27 19:00:00, number of deaths =  0, number of infected = 713\n",
      "2022-07-26 16:14:39,296 - rank - INFO - Rank 0 -- interaction -- 0.11831834400072694\n",
      "2022-07-26 16:14:39,304 - tracker - INFO - Rank 0 -- tracking contacts -- 500 of 3274 of type shelter\n",
      "2022-07-26 16:14:40,515 - tracker - INFO - Rank 0 -- tracking contacts -- 115 of 115 of type communal\n",
      "2022-07-26 16:14:40,518 - tracker - INFO - Rank 0 -- tracking contacts -- 21 of 21 of type distribution_center\n",
      "2022-07-26 16:14:40,520 - tracker - INFO - Rank 0 -- tracking contacts -- 7 of 7 of type e_voucher\n",
      "2022-07-26 16:14:40,522 - tracker - INFO - Rank 0 -- tracking contacts -- 67 of 67 of type female_communal\n",
      "2022-07-26 16:14:40,524 - tracker - INFO - Rank 0 -- tracking contacts -- 80 of 80 of type informal_work\n",
      "2022-07-26 16:14:40,526 - tracker - INFO - Rank 0 -- tracking contacts -- 41 of 41 of type n_f_distribution_center\n",
      "2022-07-26 16:14:40,529 - tracker - INFO - Rank 0 -- tracking contacts -- 500 of 544 of type play_group\n",
      "2022-07-26 16:14:40,539 - tracker - INFO - Rank 0 -- tracking contacts -- 81 of 81 of type pump_latrine\n",
      "2022-07-26 16:14:40,551 - tracker - INFO - Rank 0 -- tracking contacts -- 500 of 2065 of type religious\n",
      "2022-07-26 16:14:40,560 - tracker - INFO - Rank 0 -- tracking contacts -- 389 of 389 of type learning_center\n",
      "2022-07-26 16:14:40,572 - tracker - INFO - Rank 0 -- tracking contacts -- 8 of 8 of type hospital\n",
      "2022-07-26 16:14:40,573 - tracker - INFO - Rank 0 -- tracking contacts -- 8 of 8 of type isolation_unit\n",
      "2022-07-26 16:14:40,574 - rank - INFO - Rank 0 -- tracker -- 1.2768164360022638\n",
      "2022-07-26 16:14:40,625 - epidemiology - INFO - CMS: Infection COMS-v2 for rank 0/1(2)0.00022539400379173458,0.000225067138671875 - 2020-05-27 19:00:00\n",
      "2022-07-26 16:14:40,664 - rank - INFO - Rank 0 -- interaction_waiting -- 9.28199733607471e-06\n",
      "2022-07-26 16:14:40,678 - simulator - INFO - CMS: Timestep for rank 0/1 - 1.6737189030100126,1.6737194061279297 - 2020-05-27 19:00:00\n",
      "\n",
      "2022-07-26 16:14:40,681 - rank - INFO - Next timestep\n",
      "2022-07-26 16:14:40,682 - simulator - INFO - ==================== timestep ====================\n",
      "2022-07-26 16:14:40,895 - rank - INFO - Rank 0 -- move_people -- 0.2124452290008776\n",
      "2022-07-26 16:14:40,896 - rank - INFO - Rank 0 -- move_people_waiting -- 7.985014235600829e-06\n",
      "2022-07-26 16:14:40,896 - activity_manager - INFO - CMS: People COMS for rank 0/1 - 5.382986273616552e-06,4.76837158203125e-06 - 2020-05-28 09:00:00\n",
      "2022-07-26 16:14:40,904 - simulator - INFO - Info for rank 0, Date = 2020-05-28 09:00:00, number of deaths =  0, number of infected = 834\n",
      "2022-07-26 16:14:41,023 - rank - INFO - Rank 0 -- interaction -- 0.12566905800485983\n",
      "2022-07-26 16:14:41,031 - tracker - INFO - Rank 0 -- tracking contacts -- 500 of 3274 of type shelter\n",
      "2022-07-26 16:14:41,925 - tracker - INFO - Rank 0 -- tracking contacts -- 115 of 115 of type communal\n",
      "2022-07-26 16:14:41,927 - tracker - INFO - Rank 0 -- tracking contacts -- 21 of 21 of type distribution_center\n",
      "2022-07-26 16:14:41,930 - tracker - INFO - Rank 0 -- tracking contacts -- 7 of 7 of type e_voucher\n",
      "2022-07-26 16:14:41,932 - tracker - INFO - Rank 0 -- tracking contacts -- 67 of 67 of type female_communal\n",
      "2022-07-26 16:14:41,936 - tracker - INFO - Rank 0 -- tracking contacts -- 80 of 80 of type informal_work\n",
      "2022-07-26 16:14:41,941 - tracker - INFO - Rank 0 -- tracking contacts -- 41 of 41 of type n_f_distribution_center\n",
      "2022-07-26 16:14:41,946 - tracker - INFO - Rank 0 -- tracking contacts -- 500 of 544 of type play_group\n",
      "2022-07-26 16:14:41,958 - tracker - INFO - Rank 0 -- tracking contacts -- 81 of 81 of type pump_latrine\n",
      "2022-07-26 16:14:41,975 - tracker - INFO - Rank 0 -- tracking contacts -- 500 of 2065 of type religious\n",
      "2022-07-26 16:14:41,990 - tracker - INFO - Rank 0 -- tracking contacts -- 389 of 389 of type learning_center\n",
      "2022-07-26 16:14:43,434 - tracker - INFO - Rank 0 -- tracking contacts -- 8 of 8 of type hospital\n",
      "2022-07-26 16:14:43,441 - tracker - INFO - Rank 0 -- tracking contacts -- 8 of 8 of type isolation_unit\n",
      "2022-07-26 16:14:43,443 - rank - INFO - Rank 0 -- tracker -- 2.4183927009871695\n",
      "2022-07-26 16:14:43,455 - epidemiology - INFO - CMS: Infection COMS-v2 for rank 0/1(2)0.0004018110048491508,0.0004012584686279297 - 2020-05-28 09:00:00\n",
      "2022-07-26 16:14:43,499 - rank - INFO - Rank 0 -- interaction_waiting -- 7.989001460373402e-06\n",
      "2022-07-26 16:14:43,514 - simulator - INFO - CMS: Timestep for rank 0/1 - 2.8314062709978316,2.831407308578491 - 2020-05-28 09:00:00\n",
      "\n",
      "2022-07-26 16:14:43,516 - rank - INFO - Next timestep\n",
      "2022-07-26 16:14:43,517 - simulator - INFO - ==================== timestep ====================\n",
      "2022-07-26 16:14:44,400 - rank - INFO - Rank 0 -- move_people -- 0.8815497680043336\n",
      "2022-07-26 16:14:44,401 - rank - INFO - Rank 0 -- move_people_waiting -- 7.355993147939444e-06\n",
      "2022-07-26 16:14:44,402 - activity_manager - INFO - CMS: People COMS for rank 0/1 - 6.0349993873387575e-06,5.4836273193359375e-06 - 2020-05-28 11:00:00\n",
      "2022-07-26 16:14:44,410 - simulator - INFO - Info for rank 0, Date = 2020-05-28 11:00:00, number of deaths =  0, number of infected = 856\n",
      "2022-07-26 16:14:44,674 - rank - INFO - Rank 0 -- interaction -- 0.27117317100055516\n",
      "2022-07-26 16:14:44,687 - tracker - INFO - Rank 0 -- tracking contacts -- 500 of 3274 of type shelter\n",
      "2022-07-26 16:14:45,036 - tracker - INFO - Rank 0 -- tracking contacts -- 115 of 115 of type communal\n",
      "2022-07-26 16:14:45,063 - tracker - INFO - Rank 0 -- tracking contacts -- 21 of 21 of type distribution_center\n",
      "2022-07-26 16:14:45,110 - tracker - INFO - Rank 0 -- tracking contacts -- 7 of 7 of type e_voucher\n",
      "2022-07-26 16:14:45,121 - tracker - INFO - Rank 0 -- tracking contacts -- 67 of 67 of type female_communal\n",
      "2022-07-26 16:14:45,199 - tracker - INFO - Rank 0 -- tracking contacts -- 80 of 80 of type informal_work\n",
      "2022-07-26 16:14:45,291 - tracker - INFO - Rank 0 -- tracking contacts -- 41 of 41 of type n_f_distribution_center\n",
      "2022-07-26 16:14:45,417 - tracker - INFO - Rank 0 -- tracking contacts -- 500 of 544 of type play_group\n",
      "2022-07-26 16:14:45,858 - tracker - INFO - Rank 0 -- tracking contacts -- 81 of 81 of type pump_latrine\n",
      "2022-07-26 16:14:49,962 - tracker - INFO - Rank 0 -- tracking contacts -- 500 of 2065 of type religious\n",
      "2022-07-26 16:14:50,541 - tracker - INFO - Rank 0 -- tracking contacts -- 389 of 389 of type learning_center\n",
      "2022-07-26 16:14:51,546 - tracker - INFO - Rank 0 -- tracking contacts -- 8 of 8 of type hospital\n",
      "2022-07-26 16:14:51,553 - tracker - INFO - Rank 0 -- tracking contacts -- 8 of 8 of type isolation_unit\n",
      "2022-07-26 16:14:51,554 - rank - INFO - Rank 0 -- tracker -- 6.879129608016228\n",
      "2022-07-26 16:14:51,573 - epidemiology - INFO - CMS: Infection COMS-v2 for rank 0/1(2)0.0009369040199089795,0.0009367465972900391 - 2020-05-28 11:00:00\n",
      "2022-07-26 16:14:51,617 - rank - INFO - Rank 0 -- interaction_waiting -- 6.727001164108515e-06\n",
      "2022-07-26 16:14:51,631 - simulator - INFO - CMS: Timestep for rank 0/1 - 8.112765810015844,8.11276650428772 - 2020-05-28 11:00:00\n",
      "\n",
      "2022-07-26 16:14:51,633 - rank - INFO - Next timestep\n",
      "2022-07-26 16:14:51,634 - simulator - INFO - ==================== timestep ====================\n"
     ]
    },
    {
     "name": "stdout",
     "output_type": "stream",
     "text": [
      "2022-07-26 16:14:52,468 - rank - INFO - Rank 0 -- move_people -- 0.8323746809910517\n",
      "2022-07-26 16:14:52,469 - rank - INFO - Rank 0 -- move_people_waiting -- 8.49299249239266e-06\n",
      "2022-07-26 16:14:52,469 - activity_manager - INFO - CMS: People COMS for rank 0/1 - 4.939996870234609e-06,4.76837158203125e-06 - 2020-05-28 13:00:00\n",
      "2022-07-26 16:14:52,477 - simulator - INFO - Info for rank 0, Date = 2020-05-28 13:00:00, number of deaths =  0, number of infected = 893\n",
      "2022-07-26 16:14:52,652 - rank - INFO - Rank 0 -- interaction -- 0.18146555699058808\n",
      "2022-07-26 16:14:52,659 - tracker - INFO - Rank 0 -- tracking contacts -- 500 of 3274 of type shelter\n",
      "2022-07-26 16:14:53,003 - tracker - INFO - Rank 0 -- tracking contacts -- 115 of 115 of type communal\n",
      "2022-07-26 16:14:53,031 - tracker - INFO - Rank 0 -- tracking contacts -- 21 of 21 of type distribution_center\n",
      "2022-07-26 16:14:53,089 - tracker - INFO - Rank 0 -- tracking contacts -- 7 of 7 of type e_voucher\n",
      "2022-07-26 16:14:53,108 - tracker - INFO - Rank 0 -- tracking contacts -- 67 of 67 of type female_communal\n",
      "2022-07-26 16:14:53,168 - tracker - INFO - Rank 0 -- tracking contacts -- 80 of 80 of type informal_work\n",
      "2022-07-26 16:14:53,256 - tracker - INFO - Rank 0 -- tracking contacts -- 41 of 41 of type n_f_distribution_center\n",
      "2022-07-26 16:14:53,430 - tracker - INFO - Rank 0 -- tracking contacts -- 500 of 544 of type play_group\n",
      "2022-07-26 16:14:53,788 - tracker - INFO - Rank 0 -- tracking contacts -- 81 of 81 of type pump_latrine\n",
      "2022-07-26 16:14:57,636 - tracker - INFO - Rank 0 -- tracking contacts -- 500 of 2065 of type religious\n",
      "2022-07-26 16:14:58,214 - tracker - INFO - Rank 0 -- tracking contacts -- 389 of 389 of type learning_center\n",
      "2022-07-26 16:14:59,095 - tracker - INFO - Rank 0 -- tracking contacts -- 8 of 8 of type hospital\n",
      "2022-07-26 16:14:59,101 - tracker - INFO - Rank 0 -- tracking contacts -- 8 of 8 of type isolation_unit\n",
      "2022-07-26 16:14:59,103 - rank - INFO - Rank 0 -- tracker -- 6.449803881987464\n",
      "2022-07-26 16:14:59,123 - epidemiology - INFO - CMS: Infection COMS-v2 for rank 0/1(2)0.0006357120000757277,0.0006353855133056641 - 2020-05-28 13:00:00\n",
      "2022-07-26 16:14:59,164 - rank - INFO - Rank 0 -- interaction_waiting -- 6.826012395322323e-06\n",
      "2022-07-26 16:14:59,177 - simulator - INFO - CMS: Timestep for rank 0/1 - 7.541609940002672,7.5416107177734375 - 2020-05-28 13:00:00\n",
      "\n",
      "2022-07-26 16:14:59,179 - rank - INFO - Next timestep\n",
      "2022-07-26 16:14:59,180 - simulator - INFO - ==================== timestep ====================\n",
      "2022-07-26 16:15:00,030 - rank - INFO - Rank 0 -- move_people -- 0.8492193570127711\n",
      "2022-07-26 16:15:00,031 - rank - INFO - Rank 0 -- move_people_waiting -- 7.694005034863949e-06\n",
      "2022-07-26 16:15:00,032 - activity_manager - INFO - CMS: People COMS for rank 0/1 - 3.1070085242390633e-06,2.86102294921875e-06 - 2020-05-28 15:00:00\n",
      "2022-07-26 16:15:00,037 - simulator - INFO - Info for rank 0, Date = 2020-05-28 15:00:00, number of deaths =  0, number of infected = 935\n",
      "2022-07-26 16:15:00,213 - rank - INFO - Rank 0 -- interaction -- 0.18000465800287202\n",
      "2022-07-26 16:15:00,219 - tracker - INFO - Rank 0 -- tracking contacts -- 500 of 3274 of type shelter\n",
      "2022-07-26 16:15:00,556 - tracker - INFO - Rank 0 -- tracking contacts -- 115 of 115 of type communal\n",
      "2022-07-26 16:15:00,584 - tracker - INFO - Rank 0 -- tracking contacts -- 21 of 21 of type distribution_center\n",
      "2022-07-26 16:15:00,648 - tracker - INFO - Rank 0 -- tracking contacts -- 7 of 7 of type e_voucher\n",
      "2022-07-26 16:15:00,671 - tracker - INFO - Rank 0 -- tracking contacts -- 67 of 67 of type female_communal\n",
      "2022-07-26 16:15:00,735 - tracker - INFO - Rank 0 -- tracking contacts -- 80 of 80 of type informal_work\n",
      "2022-07-26 16:15:00,810 - tracker - INFO - Rank 0 -- tracking contacts -- 41 of 41 of type n_f_distribution_center\n",
      "2022-07-26 16:15:00,911 - tracker - INFO - Rank 0 -- tracking contacts -- 500 of 544 of type play_group\n",
      "2022-07-26 16:15:01,271 - tracker - INFO - Rank 0 -- tracking contacts -- 81 of 81 of type pump_latrine\n",
      "2022-07-26 16:15:05,240 - tracker - INFO - Rank 0 -- tracking contacts -- 500 of 2065 of type religious\n",
      "2022-07-26 16:15:05,800 - tracker - INFO - Rank 0 -- tracking contacts -- 389 of 389 of type learning_center\n",
      "2022-07-26 16:15:06,927 - tracker - INFO - Rank 0 -- tracking contacts -- 8 of 8 of type hospital\n",
      "2022-07-26 16:15:06,934 - tracker - INFO - Rank 0 -- tracking contacts -- 8 of 8 of type isolation_unit\n",
      "2022-07-26 16:15:06,936 - rank - INFO - Rank 0 -- tracker -- 6.722115290991496\n",
      "2022-07-26 16:15:06,955 - epidemiology - INFO - CMS: Infection COMS-v2 for rank 0/1(2)0.00045304300147108734,0.0004527568817138672 - 2020-05-28 15:00:00\n",
      "2022-07-26 16:15:07,022 - rank - INFO - Rank 0 -- interaction_waiting -- 8.464005077257752e-06\n",
      "2022-07-26 16:15:07,045 - simulator - INFO - CMS: Timestep for rank 0/1 - 7.863874209986534,7.863875865936279 - 2020-05-28 15:00:00\n",
      "\n",
      "2022-07-26 16:15:07,049 - rank - INFO - Next timestep\n",
      "2022-07-26 16:15:07,051 - simulator - INFO - ==================== timestep ====================\n",
      "2022-07-26 16:15:07,960 - rank - INFO - Rank 0 -- move_people -- 0.9086880200193264\n",
      "2022-07-26 16:15:07,961 - rank - INFO - Rank 0 -- move_people_waiting -- 5.145004251971841e-06\n",
      "2022-07-26 16:15:07,962 - activity_manager - INFO - CMS: People COMS for rank 0/1 - 5.395995685830712e-06,5.245208740234375e-06 - 2020-05-28 17:00:00\n",
      "2022-07-26 16:15:07,971 - simulator - INFO - Info for rank 0, Date = 2020-05-28 17:00:00, number of deaths =  0, number of infected = 971\n",
      "2022-07-26 16:15:08,217 - rank - INFO - Rank 0 -- interaction -- 0.2533904690062627\n",
      "2022-07-26 16:15:08,225 - tracker - INFO - Rank 0 -- tracking contacts -- 500 of 3274 of type shelter\n",
      "2022-07-26 16:15:08,777 - tracker - INFO - Rank 0 -- tracking contacts -- 115 of 115 of type communal\n",
      "2022-07-26 16:15:08,781 - tracker - INFO - Rank 0 -- tracking contacts -- 21 of 21 of type distribution_center\n",
      "2022-07-26 16:15:08,850 - tracker - INFO - Rank 0 -- tracking contacts -- 7 of 7 of type e_voucher\n",
      "2022-07-26 16:15:08,861 - tracker - INFO - Rank 0 -- tracking contacts -- 67 of 67 of type female_communal\n",
      "2022-07-26 16:15:08,864 - tracker - INFO - Rank 0 -- tracking contacts -- 80 of 80 of type informal_work\n",
      "2022-07-26 16:15:08,970 - tracker - INFO - Rank 0 -- tracking contacts -- 41 of 41 of type n_f_distribution_center\n",
      "2022-07-26 16:15:09,140 - tracker - INFO - Rank 0 -- tracking contacts -- 500 of 544 of type play_group\n",
      "2022-07-26 16:15:09,735 - tracker - INFO - Rank 0 -- tracking contacts -- 81 of 81 of type pump_latrine\n",
      "2022-07-26 16:15:15,036 - tracker - INFO - Rank 0 -- tracking contacts -- 500 of 2065 of type religious\n",
      "2022-07-26 16:15:15,864 - tracker - INFO - Rank 0 -- tracking contacts -- 389 of 389 of type learning_center\n",
      "2022-07-26 16:15:15,879 - tracker - INFO - Rank 0 -- tracking contacts -- 8 of 8 of type hospital\n",
      "2022-07-26 16:15:15,881 - tracker - INFO - Rank 0 -- tracking contacts -- 8 of 8 of type isolation_unit\n",
      "2022-07-26 16:15:15,883 - rank - INFO - Rank 0 -- tracker -- 7.664386813994497\n",
      "2022-07-26 16:15:15,906 - epidemiology - INFO - CMS: Infection COMS-v2 for rank 0/1(2)0.00036213500425219536,0.0003616809844970703 - 2020-05-28 17:00:00\n",
      "2022-07-26 16:15:15,959 - rank - INFO - Rank 0 -- interaction_waiting -- 8.273986168205738e-06\n",
      "2022-07-26 16:15:15,976 - simulator - INFO - CMS: Timestep for rank 0/1 - 8.924266154994257,8.924266815185547 - 2020-05-28 17:00:00\n",
      "\n",
      "2022-07-26 16:15:15,978 - rank - INFO - Next timestep\n",
      "2022-07-26 16:15:15,979 - simulator - INFO - ==================== timestep ====================\n",
      "2022-07-26 16:15:16,241 - rank - INFO - Rank 0 -- move_people -- 0.26042335998499766\n",
      "2022-07-26 16:15:16,242 - rank - INFO - Rank 0 -- move_people_waiting -- 7.430993719026446e-06\n",
      "2022-07-26 16:15:16,242 - activity_manager - INFO - CMS: People COMS for rank 0/1 - 4.049012204632163e-06,4.0531158447265625e-06 - 2020-05-28 19:00:00\n",
      "2022-07-26 16:15:16,249 - simulator - INFO - Info for rank 0, Date = 2020-05-28 19:00:00, number of deaths =  0, number of infected = 1005\n",
      "2022-07-26 16:15:16,405 - rank - INFO - Rank 0 -- interaction -- 0.1618761819845531\n",
      "2022-07-26 16:15:16,412 - tracker - INFO - Rank 0 -- tracking contacts -- 500 of 3274 of type shelter\n"
     ]
    },
    {
     "name": "stdout",
     "output_type": "stream",
     "text": [
      "2022-07-26 16:15:17,751 - tracker - INFO - Rank 0 -- tracking contacts -- 115 of 115 of type communal\n",
      "2022-07-26 16:15:17,753 - tracker - INFO - Rank 0 -- tracking contacts -- 21 of 21 of type distribution_center\n",
      "2022-07-26 16:15:17,755 - tracker - INFO - Rank 0 -- tracking contacts -- 7 of 7 of type e_voucher\n",
      "2022-07-26 16:15:17,756 - tracker - INFO - Rank 0 -- tracking contacts -- 67 of 67 of type female_communal\n",
      "2022-07-26 16:15:17,758 - tracker - INFO - Rank 0 -- tracking contacts -- 80 of 80 of type informal_work\n",
      "2022-07-26 16:15:17,761 - tracker - INFO - Rank 0 -- tracking contacts -- 41 of 41 of type n_f_distribution_center\n",
      "2022-07-26 16:15:17,764 - tracker - INFO - Rank 0 -- tracking contacts -- 500 of 544 of type play_group\n",
      "2022-07-26 16:15:17,774 - tracker - INFO - Rank 0 -- tracking contacts -- 81 of 81 of type pump_latrine\n",
      "2022-07-26 16:15:17,786 - tracker - INFO - Rank 0 -- tracking contacts -- 500 of 2065 of type religious\n",
      "2022-07-26 16:15:17,797 - tracker - INFO - Rank 0 -- tracking contacts -- 389 of 389 of type learning_center\n",
      "2022-07-26 16:15:17,811 - tracker - INFO - Rank 0 -- tracking contacts -- 8 of 8 of type hospital\n",
      "2022-07-26 16:15:17,813 - tracker - INFO - Rank 0 -- tracking contacts -- 8 of 8 of type isolation_unit\n",
      "2022-07-26 16:15:17,816 - rank - INFO - Rank 0 -- tracker -- 1.4097160570090637\n",
      "2022-07-26 16:15:17,888 - epidemiology - INFO - CMS: Infection COMS-v2 for rank 0/1(2)0.0003874700050801039,0.0003867149353027344 - 2020-05-28 19:00:00\n",
      "2022-07-26 16:15:17,938 - rank - INFO - Rank 0 -- interaction_waiting -- 8.472008630633354e-06\n",
      "2022-07-26 16:15:17,960 - simulator - INFO - CMS: Timestep for rank 0/1 - 1.9800923469883855,1.9800934791564941 - 2020-05-28 19:00:00\n",
      "\n",
      "2022-07-26 16:15:17,964 - rank - INFO - Next timestep\n",
      "2022-07-26 16:15:17,965 - simulator - INFO - ==================== timestep ====================\n",
      "2022-07-26 16:15:18,243 - rank - INFO - Rank 0 -- move_people -- 0.2777356620063074\n",
      "2022-07-26 16:15:18,244 - rank - INFO - Rank 0 -- move_people_waiting -- 4.856992745772004e-06\n",
      "2022-07-26 16:15:18,245 - activity_manager - INFO - CMS: People COMS for rank 0/1 - 4.958012141287327e-06,4.0531158447265625e-06 - 2020-05-29 09:00:00\n",
      "2022-07-26 16:15:18,253 - simulator - INFO - Info for rank 0, Date = 2020-05-29 09:00:00, number of deaths =  0, number of infected = 1150\n",
      "2022-07-26 16:15:18,451 - rank - INFO - Rank 0 -- interaction -- 0.2046005969750695\n",
      "2022-07-26 16:15:18,463 - tracker - INFO - Rank 0 -- tracking contacts -- 500 of 3274 of type shelter\n",
      "2022-07-26 16:15:19,664 - tracker - INFO - Rank 0 -- tracking contacts -- 115 of 115 of type communal\n",
      "2022-07-26 16:15:19,667 - tracker - INFO - Rank 0 -- tracking contacts -- 21 of 21 of type distribution_center\n",
      "2022-07-26 16:15:19,669 - tracker - INFO - Rank 0 -- tracking contacts -- 7 of 7 of type e_voucher\n",
      "2022-07-26 16:15:19,671 - tracker - INFO - Rank 0 -- tracking contacts -- 67 of 67 of type female_communal\n",
      "2022-07-26 16:15:19,673 - tracker - INFO - Rank 0 -- tracking contacts -- 80 of 80 of type informal_work\n",
      "2022-07-26 16:15:19,677 - tracker - INFO - Rank 0 -- tracking contacts -- 41 of 41 of type n_f_distribution_center\n",
      "2022-07-26 16:15:19,680 - tracker - INFO - Rank 0 -- tracking contacts -- 500 of 544 of type play_group\n",
      "2022-07-26 16:15:19,691 - tracker - INFO - Rank 0 -- tracking contacts -- 81 of 81 of type pump_latrine\n",
      "2022-07-26 16:15:19,703 - tracker - INFO - Rank 0 -- tracking contacts -- 500 of 2065 of type religious\n",
      "2022-07-26 16:15:19,714 - tracker - INFO - Rank 0 -- tracking contacts -- 389 of 389 of type learning_center\n",
      "2022-07-26 16:15:19,724 - tracker - INFO - Rank 0 -- tracking contacts -- 8 of 8 of type hospital\n",
      "2022-07-26 16:15:19,725 - tracker - INFO - Rank 0 -- tracking contacts -- 8 of 8 of type isolation_unit\n",
      "2022-07-26 16:15:19,727 - rank - INFO - Rank 0 -- tracker -- 1.2745388250041287\n",
      "2022-07-26 16:15:19,744 - epidemiology - INFO - CMS: Infection COMS-v2 for rank 0/1(2)0.0003231430018786341,0.0003228187561035156 - 2020-05-29 09:00:00\n",
      "2022-07-26 16:15:19,794 - rank - INFO - Rank 0 -- interaction_waiting -- 9.007984772324562e-06\n",
      "2022-07-26 16:15:19,813 - simulator - INFO - CMS: Timestep for rank 0/1 - 1.8472281669965014,1.847229242324829 - 2020-05-29 09:00:00\n",
      "\n",
      "2022-07-26 16:15:19,816 - rank - INFO - Next timestep\n",
      "2022-07-26 16:15:19,817 - simulator - INFO - ==================== timestep ====================\n",
      "2022-07-26 16:15:20,881 - rank - INFO - Rank 0 -- move_people -- 1.0627005120040849\n",
      "2022-07-26 16:15:20,882 - rank - INFO - Rank 0 -- move_people_waiting -- 8.33100057207048e-06\n",
      "2022-07-26 16:15:20,883 - activity_manager - INFO - CMS: People COMS for rank 0/1 - 5.739013431593776e-06,5.0067901611328125e-06 - 2020-05-29 12:00:00\n",
      "2022-07-26 16:15:20,891 - simulator - INFO - Info for rank 0, Date = 2020-05-29 12:00:00, number of deaths =  0, number of infected = 1181\n",
      "2022-07-26 16:15:21,128 - rank - INFO - Rank 0 -- interaction -- 0.24395226300111972\n",
      "2022-07-26 16:15:21,135 - tracker - INFO - Rank 0 -- tracking contacts -- 500 of 3274 of type shelter\n",
      "2022-07-26 16:15:21,609 - tracker - INFO - Rank 0 -- tracking contacts -- 115 of 115 of type communal\n",
      "2022-07-26 16:15:21,613 - tracker - INFO - Rank 0 -- tracking contacts -- 21 of 21 of type distribution_center\n",
      "2022-07-26 16:15:21,684 - tracker - INFO - Rank 0 -- tracking contacts -- 7 of 7 of type e_voucher\n",
      "2022-07-26 16:15:21,711 - tracker - INFO - Rank 0 -- tracking contacts -- 67 of 67 of type female_communal\n",
      "2022-07-26 16:15:21,713 - tracker - INFO - Rank 0 -- tracking contacts -- 80 of 80 of type informal_work\n",
      "2022-07-26 16:15:21,809 - tracker - INFO - Rank 0 -- tracking contacts -- 41 of 41 of type n_f_distribution_center\n",
      "2022-07-26 16:15:21,977 - tracker - INFO - Rank 0 -- tracking contacts -- 500 of 544 of type play_group\n",
      "2022-07-26 16:15:22,495 - tracker - INFO - Rank 0 -- tracking contacts -- 81 of 81 of type pump_latrine\n",
      "2022-07-26 16:15:27,270 - tracker - INFO - Rank 0 -- tracking contacts -- 500 of 2065 of type religious\n",
      "2022-07-26 16:15:27,725 - tracker - INFO - Rank 0 -- tracking contacts -- 389 of 389 of type learning_center\n",
      "2022-07-26 16:15:27,729 - tracker - INFO - Rank 0 -- tracking contacts -- 8 of 8 of type hospital\n",
      "2022-07-26 16:15:27,730 - tracker - INFO - Rank 0 -- tracking contacts -- 8 of 8 of type isolation_unit\n",
      "2022-07-26 16:15:27,731 - rank - INFO - Rank 0 -- tracker -- 6.602510775002884\n",
      "2022-07-26 16:15:27,750 - epidemiology - INFO - CMS: Infection COMS-v2 for rank 0/1(2)0.00019694797811098397,0.00019621849060058594 - 2020-05-29 12:00:00\n",
      "2022-07-26 16:15:27,788 - rank - INFO - Rank 0 -- interaction_waiting -- 6.990012479946017e-06\n",
      "2022-07-26 16:15:27,801 - simulator - INFO - CMS: Timestep for rank 0/1 - 7.983061386999907,7.983062028884888 - 2020-05-29 12:00:00\n",
      "\n",
      "2022-07-26 16:15:27,804 - rank - INFO - Next timestep\n",
      "2022-07-26 16:15:27,805 - simulator - INFO - ==================== timestep ====================\n",
      "2022-07-26 16:15:28,477 - rank - INFO - Rank 0 -- move_people -- 0.6712406730221119\n",
      "2022-07-26 16:15:28,478 - rank - INFO - Rank 0 -- move_people_waiting -- 6.009999196976423e-06\n",
      "2022-07-26 16:15:28,478 - activity_manager - INFO - CMS: People COMS for rank 0/1 - 3.2400130294263363e-06,2.6226043701171875e-06 - 2020-05-29 14:00:00\n",
      "2022-07-26 16:15:28,483 - simulator - INFO - Info for rank 0, Date = 2020-05-29 14:00:00, number of deaths =  0, number of infected = 1223\n",
      "2022-07-26 16:15:28,644 - rank - INFO - Rank 0 -- interaction -- 0.16545443798531778\n",
      "2022-07-26 16:15:28,650 - tracker - INFO - Rank 0 -- tracking contacts -- 500 of 3274 of type shelter\n",
      "2022-07-26 16:15:28,962 - tracker - INFO - Rank 0 -- tracking contacts -- 115 of 115 of type communal\n",
      "2022-07-26 16:15:28,964 - tracker - INFO - Rank 0 -- tracking contacts -- 21 of 21 of type distribution_center\n",
      "2022-07-26 16:15:29,003 - tracker - INFO - Rank 0 -- tracking contacts -- 7 of 7 of type e_voucher\n",
      "2022-07-26 16:15:29,015 - tracker - INFO - Rank 0 -- tracking contacts -- 67 of 67 of type female_communal\n",
      "2022-07-26 16:15:29,017 - tracker - INFO - Rank 0 -- tracking contacts -- 80 of 80 of type informal_work\n",
      "2022-07-26 16:15:29,090 - tracker - INFO - Rank 0 -- tracking contacts -- 41 of 41 of type n_f_distribution_center\n"
     ]
    },
    {
     "name": "stdout",
     "output_type": "stream",
     "text": [
      "2022-07-26 16:15:29,208 - tracker - INFO - Rank 0 -- tracking contacts -- 500 of 544 of type play_group\n",
      "2022-07-26 16:15:29,602 - tracker - INFO - Rank 0 -- tracking contacts -- 81 of 81 of type pump_latrine\n",
      "2022-07-26 16:15:34,492 - tracker - INFO - Rank 0 -- tracking contacts -- 500 of 2065 of type religious\n",
      "2022-07-26 16:15:35,156 - tracker - INFO - Rank 0 -- tracking contacts -- 389 of 389 of type learning_center\n",
      "2022-07-26 16:15:35,162 - tracker - INFO - Rank 0 -- tracking contacts -- 8 of 8 of type hospital\n",
      "2022-07-26 16:15:35,163 - tracker - INFO - Rank 0 -- tracking contacts -- 8 of 8 of type isolation_unit\n",
      "2022-07-26 16:15:35,165 - rank - INFO - Rank 0 -- tracker -- 6.51967857699492\n",
      "2022-07-26 16:15:35,189 - epidemiology - INFO - CMS: Infection COMS-v2 for rank 0/1(2)0.0004021549830213189,0.00040149688720703125 - 2020-05-29 14:00:00\n",
      "2022-07-26 16:15:35,245 - rank - INFO - Rank 0 -- interaction_waiting -- 8.126982720568776e-06\n",
      "2022-07-26 16:15:35,260 - simulator - INFO - CMS: Timestep for rank 0/1 - 7.4538351869850885,7.453836679458618 - 2020-05-29 14:00:00\n",
      "\n",
      "2022-07-26 16:15:35,264 - rank - INFO - Next timestep\n",
      "2022-07-26 16:15:35,265 - simulator - INFO - ==================== timestep ====================\n",
      "2022-07-26 16:15:36,221 - rank - INFO - Rank 0 -- move_people -- 0.9549114379915409\n",
      "2022-07-26 16:15:36,222 - rank - INFO - Rank 0 -- move_people_waiting -- 5.875015631318092e-06\n",
      "2022-07-26 16:15:36,223 - activity_manager - INFO - CMS: People COMS for rank 0/1 - 5.407986463978887e-06,4.76837158203125e-06 - 2020-05-29 16:00:00\n",
      "2022-07-26 16:15:36,231 - simulator - INFO - Info for rank 0, Date = 2020-05-29 16:00:00, number of deaths =  0, number of infected = 1266\n",
      "2022-07-26 16:15:36,481 - rank - INFO - Rank 0 -- interaction -- 0.25686600399785675\n",
      "2022-07-26 16:15:36,488 - tracker - INFO - Rank 0 -- tracking contacts -- 500 of 3274 of type shelter\n",
      "2022-07-26 16:15:36,906 - tracker - INFO - Rank 0 -- tracking contacts -- 115 of 115 of type communal\n",
      "2022-07-26 16:15:36,909 - tracker - INFO - Rank 0 -- tracking contacts -- 21 of 21 of type distribution_center\n",
      "2022-07-26 16:15:36,973 - tracker - INFO - Rank 0 -- tracking contacts -- 7 of 7 of type e_voucher\n",
      "2022-07-26 16:15:36,984 - tracker - INFO - Rank 0 -- tracking contacts -- 67 of 67 of type female_communal\n",
      "2022-07-26 16:15:36,987 - tracker - INFO - Rank 0 -- tracking contacts -- 80 of 80 of type informal_work\n",
      "2022-07-26 16:15:37,108 - tracker - INFO - Rank 0 -- tracking contacts -- 41 of 41 of type n_f_distribution_center\n",
      "2022-07-26 16:15:37,256 - tracker - INFO - Rank 0 -- tracking contacts -- 500 of 544 of type play_group\n",
      "2022-07-26 16:15:37,794 - tracker - INFO - Rank 0 -- tracking contacts -- 81 of 81 of type pump_latrine\n",
      "2022-07-26 16:15:43,385 - tracker - INFO - Rank 0 -- tracking contacts -- 500 of 2065 of type religious\n",
      "2022-07-26 16:15:44,062 - tracker - INFO - Rank 0 -- tracking contacts -- 389 of 389 of type learning_center\n",
      "2022-07-26 16:15:44,068 - tracker - INFO - Rank 0 -- tracking contacts -- 8 of 8 of type hospital\n",
      "2022-07-26 16:15:44,069 - tracker - INFO - Rank 0 -- tracking contacts -- 8 of 8 of type isolation_unit\n",
      "2022-07-26 16:15:44,070 - rank - INFO - Rank 0 -- tracker -- 7.587927771004615\n",
      "2022-07-26 16:15:44,091 - epidemiology - INFO - CMS: Infection COMS-v2 for rank 0/1(2)0.000671640009386465,0.0006711483001708984 - 2020-05-29 16:00:00\n",
      "2022-07-26 16:15:44,135 - rank - INFO - Rank 0 -- interaction_waiting -- 7.341994205489755e-06\n",
      "2022-07-26 16:15:44,151 - simulator - INFO - CMS: Timestep for rank 0/1 - 8.884572406997904,8.884573698043823 - 2020-05-29 16:00:00\n",
      "\n",
      "2022-07-26 16:15:44,153 - rank - INFO - Next timestep\n",
      "2022-07-26 16:15:44,154 - simulator - INFO - ==================== timestep ====================\n",
      "2022-07-26 16:15:45,030 - rank - INFO - Rank 0 -- move_people -- 0.8749443569977302\n",
      "2022-07-26 16:15:45,031 - rank - INFO - Rank 0 -- move_people_waiting -- 1.0397983714938164e-05\n",
      "2022-07-26 16:15:45,032 - activity_manager - INFO - CMS: People COMS for rank 0/1 - 4.842993803322315e-06,4.5299530029296875e-06 - 2020-05-29 18:00:00\n",
      "2022-07-26 16:15:45,038 - simulator - INFO - Info for rank 0, Date = 2020-05-29 18:00:00, number of deaths =  0, number of infected = 1298\n",
      "2022-07-26 16:15:45,247 - rank - INFO - Rank 0 -- interaction -- 0.21429432701552287\n",
      "2022-07-26 16:15:45,254 - tracker - INFO - Rank 0 -- tracking contacts -- 500 of 3274 of type shelter\n",
      "2022-07-26 16:15:45,667 - tracker - INFO - Rank 0 -- tracking contacts -- 115 of 115 of type communal\n",
      "2022-07-26 16:15:45,671 - tracker - INFO - Rank 0 -- tracking contacts -- 21 of 21 of type distribution_center\n",
      "2022-07-26 16:15:45,724 - tracker - INFO - Rank 0 -- tracking contacts -- 7 of 7 of type e_voucher\n",
      "2022-07-26 16:15:45,739 - tracker - INFO - Rank 0 -- tracking contacts -- 67 of 67 of type female_communal\n",
      "2022-07-26 16:15:45,740 - tracker - INFO - Rank 0 -- tracking contacts -- 80 of 80 of type informal_work\n",
      "2022-07-26 16:15:45,833 - tracker - INFO - Rank 0 -- tracking contacts -- 41 of 41 of type n_f_distribution_center\n",
      "2022-07-26 16:15:45,982 - tracker - INFO - Rank 0 -- tracking contacts -- 500 of 544 of type play_group\n",
      "2022-07-26 16:15:46,514 - tracker - INFO - Rank 0 -- tracking contacts -- 81 of 81 of type pump_latrine\n",
      "2022-07-26 16:15:50,914 - tracker - INFO - Rank 0 -- tracking contacts -- 500 of 2065 of type religious\n",
      "2022-07-26 16:15:51,468 - tracker - INFO - Rank 0 -- tracking contacts -- 389 of 389 of type learning_center\n",
      "2022-07-26 16:15:51,474 - tracker - INFO - Rank 0 -- tracking contacts -- 8 of 8 of type hospital\n",
      "2022-07-26 16:15:51,475 - tracker - INFO - Rank 0 -- tracking contacts -- 8 of 8 of type isolation_unit\n",
      "2022-07-26 16:15:51,475 - rank - INFO - Rank 0 -- tracker -- 6.227342981001129\n",
      "2022-07-26 16:15:51,492 - epidemiology - INFO - CMS: Infection COMS-v2 for rank 0/1(2)0.0002555859973654151,0.0002548694610595703 - 2020-05-29 18:00:00\n",
      "2022-07-26 16:15:51,528 - rank - INFO - Rank 0 -- interaction_waiting -- 6.37900666333735e-06\n",
      "2022-07-26 16:15:51,540 - simulator - INFO - CMS: Timestep for rank 0/1 - 7.384790896001505,7.384791374206543 - 2020-05-29 18:00:00\n",
      "\n",
      "2022-07-26 16:15:51,542 - rank - INFO - Next timestep\n",
      "2022-07-26 16:15:51,543 - simulator - INFO - ==================== timestep ====================\n",
      "2022-07-26 16:15:51,698 - rank - INFO - Rank 0 -- move_people -- 0.15381640699342825\n",
      "2022-07-26 16:15:51,699 - rank - INFO - Rank 0 -- move_people_waiting -- 5.766021786257625e-06\n",
      "2022-07-26 16:15:51,699 - activity_manager - INFO - CMS: People COMS for rank 0/1 - 4.1490129660815e-06,3.814697265625e-06 - 2020-05-29 20:00:00\n",
      "2022-07-26 16:15:51,705 - simulator - INFO - Info for rank 0, Date = 2020-05-29 20:00:00, number of deaths =  0, number of infected = 1343\n",
      "2022-07-26 16:15:51,832 - rank - INFO - Rank 0 -- interaction -- 0.13224904300295748\n",
      "2022-07-26 16:15:51,840 - tracker - INFO - Rank 0 -- tracking contacts -- 500 of 3274 of type shelter\n",
      "2022-07-26 16:15:52,775 - tracker - INFO - Rank 0 -- tracking contacts -- 115 of 115 of type communal\n",
      "2022-07-26 16:15:52,777 - tracker - INFO - Rank 0 -- tracking contacts -- 21 of 21 of type distribution_center\n",
      "2022-07-26 16:15:52,778 - tracker - INFO - Rank 0 -- tracking contacts -- 7 of 7 of type e_voucher\n",
      "2022-07-26 16:15:52,779 - tracker - INFO - Rank 0 -- tracking contacts -- 67 of 67 of type female_communal\n",
      "2022-07-26 16:15:52,781 - tracker - INFO - Rank 0 -- tracking contacts -- 80 of 80 of type informal_work\n",
      "2022-07-26 16:15:52,784 - tracker - INFO - Rank 0 -- tracking contacts -- 41 of 41 of type n_f_distribution_center\n",
      "2022-07-26 16:15:52,787 - tracker - INFO - Rank 0 -- tracking contacts -- 500 of 544 of type play_group\n",
      "2022-07-26 16:15:52,801 - tracker - INFO - Rank 0 -- tracking contacts -- 81 of 81 of type pump_latrine\n",
      "2022-07-26 16:15:52,821 - tracker - INFO - Rank 0 -- tracking contacts -- 500 of 2065 of type religious\n",
      "2022-07-26 16:15:52,834 - tracker - INFO - Rank 0 -- tracking contacts -- 389 of 389 of type learning_center\n",
      "2022-07-26 16:15:52,842 - tracker - INFO - Rank 0 -- tracking contacts -- 8 of 8 of type hospital\n",
      "2022-07-26 16:15:52,843 - tracker - INFO - Rank 0 -- tracking contacts -- 8 of 8 of type isolation_unit\n"
     ]
    },
    {
     "name": "stdout",
     "output_type": "stream",
     "text": [
      "2022-07-26 16:15:52,844 - rank - INFO - Rank 0 -- tracker -- 1.0110444239981007\n",
      "2022-07-26 16:15:52,907 - epidemiology - INFO - CMS: Infection COMS-v2 for rank 0/1(2)0.0006418900156859308,0.0006411075592041016 - 2020-05-29 20:00:00\n",
      "2022-07-26 16:15:52,944 - rank - INFO - Rank 0 -- interaction_waiting -- 6.1140162870287895e-06\n",
      "2022-07-26 16:15:52,956 - simulator - INFO - CMS: Timestep for rank 0/1 - 1.4117084309982602,1.4117095470428467 - 2020-05-29 20:00:00\n",
      "\n",
      "2022-07-26 16:15:52,958 - rank - INFO - Next timestep\n",
      "2022-07-26 16:15:52,959 - simulator - INFO - ==================== timestep ====================\n",
      "2022-07-26 16:15:53,116 - rank - INFO - Rank 0 -- move_people -- 0.15647900599287823\n",
      "2022-07-26 16:15:53,117 - rank - INFO - Rank 0 -- move_people_waiting -- 6.788002792745829e-06\n",
      "2022-07-26 16:15:53,118 - activity_manager - INFO - CMS: People COMS for rank 0/1 - 3.6070123314857483e-06,3.337860107421875e-06 - 2020-05-30 09:00:00\n",
      "2022-07-26 16:15:53,124 - simulator - INFO - Info for rank 0, Date = 2020-05-30 09:00:00, number of deaths =  0, number of infected = 1486\n",
      "2022-07-26 16:15:53,227 - rank - INFO - Rank 0 -- interaction -- 0.10812767801689915\n",
      "2022-07-26 16:15:53,232 - tracker - INFO - Rank 0 -- tracking contacts -- 500 of 3274 of type shelter\n",
      "2022-07-26 16:15:54,087 - tracker - INFO - Rank 0 -- tracking contacts -- 115 of 115 of type communal\n",
      "2022-07-26 16:15:54,089 - tracker - INFO - Rank 0 -- tracking contacts -- 21 of 21 of type distribution_center\n",
      "2022-07-26 16:15:54,090 - tracker - INFO - Rank 0 -- tracking contacts -- 7 of 7 of type e_voucher\n",
      "2022-07-26 16:15:54,091 - tracker - INFO - Rank 0 -- tracking contacts -- 67 of 67 of type female_communal\n",
      "2022-07-26 16:15:54,093 - tracker - INFO - Rank 0 -- tracking contacts -- 80 of 80 of type informal_work\n",
      "2022-07-26 16:15:54,095 - tracker - INFO - Rank 0 -- tracking contacts -- 41 of 41 of type n_f_distribution_center\n",
      "2022-07-26 16:15:54,097 - tracker - INFO - Rank 0 -- tracking contacts -- 500 of 544 of type play_group\n",
      "2022-07-26 16:15:54,105 - tracker - INFO - Rank 0 -- tracking contacts -- 81 of 81 of type pump_latrine\n",
      "2022-07-26 16:15:54,116 - tracker - INFO - Rank 0 -- tracking contacts -- 500 of 2065 of type religious\n",
      "2022-07-26 16:15:54,123 - tracker - INFO - Rank 0 -- tracking contacts -- 389 of 389 of type learning_center\n",
      "2022-07-26 16:15:54,132 - tracker - INFO - Rank 0 -- tracking contacts -- 8 of 8 of type hospital\n",
      "2022-07-26 16:15:54,135 - tracker - INFO - Rank 0 -- tracking contacts -- 8 of 8 of type isolation_unit\n",
      "2022-07-26 16:15:54,139 - rank - INFO - Rank 0 -- tracker -- 0.9119421539944597\n",
      "2022-07-26 16:15:54,159 - epidemiology - INFO - CMS: Infection COMS-v2 for rank 0/1(2)0.00031874599517323077,0.00031828880310058594 - 2020-05-30 09:00:00\n",
      "2022-07-26 16:15:54,200 - rank - INFO - Rank 0 -- interaction_waiting -- 6.652990123257041e-06\n",
      "2022-07-26 16:15:54,213 - simulator - INFO - CMS: Timestep for rank 0/1 - 1.252874770987546,1.252875566482544 - 2020-05-30 09:00:00\n",
      "\n",
      "2022-07-26 16:15:54,215 - rank - INFO - Next timestep\n",
      "2022-07-26 16:15:54,216 - simulator - INFO - ==================== timestep ====================\n",
      "2022-07-26 16:15:55,058 - rank - INFO - Rank 0 -- move_people -- 0.8419281860115007\n",
      "2022-07-26 16:15:55,060 - rank - INFO - Rank 0 -- move_people_waiting -- 9.784998837858438e-06\n",
      "2022-07-26 16:15:55,060 - activity_manager - INFO - CMS: People COMS for rank 0/1 - 6.071000825613737e-06,5.7220458984375e-06 - 2020-05-30 12:00:00\n",
      "2022-07-26 16:15:55,069 - simulator - INFO - Info for rank 0, Date = 2020-05-30 12:00:00, number of deaths =  0, number of infected = 1532\n",
      "2022-07-26 16:15:55,318 - rank - INFO - Rank 0 -- interaction -- 0.25718226699973457\n",
      "2022-07-26 16:15:55,325 - tracker - INFO - Rank 0 -- tracking contacts -- 500 of 3274 of type shelter\n",
      "2022-07-26 16:15:55,715 - tracker - INFO - Rank 0 -- tracking contacts -- 115 of 115 of type communal\n",
      "2022-07-26 16:15:55,718 - tracker - INFO - Rank 0 -- tracking contacts -- 21 of 21 of type distribution_center\n",
      "2022-07-26 16:15:55,783 - tracker - INFO - Rank 0 -- tracking contacts -- 7 of 7 of type e_voucher\n",
      "2022-07-26 16:15:55,800 - tracker - INFO - Rank 0 -- tracking contacts -- 67 of 67 of type female_communal\n",
      "2022-07-26 16:15:55,801 - tracker - INFO - Rank 0 -- tracking contacts -- 80 of 80 of type informal_work\n",
      "2022-07-26 16:15:55,889 - tracker - INFO - Rank 0 -- tracking contacts -- 41 of 41 of type n_f_distribution_center\n",
      "2022-07-26 16:15:56,040 - tracker - INFO - Rank 0 -- tracking contacts -- 500 of 544 of type play_group\n",
      "2022-07-26 16:15:56,499 - tracker - INFO - Rank 0 -- tracking contacts -- 81 of 81 of type pump_latrine\n",
      "2022-07-26 16:16:02,072 - tracker - INFO - Rank 0 -- tracking contacts -- 500 of 2065 of type religious\n",
      "2022-07-26 16:16:02,614 - tracker - INFO - Rank 0 -- tracking contacts -- 389 of 389 of type learning_center\n",
      "2022-07-26 16:16:02,619 - tracker - INFO - Rank 0 -- tracking contacts -- 8 of 8 of type hospital\n",
      "2022-07-26 16:16:02,620 - tracker - INFO - Rank 0 -- tracking contacts -- 8 of 8 of type isolation_unit\n",
      "2022-07-26 16:16:02,621 - rank - INFO - Rank 0 -- tracker -- 7.301326134998817\n",
      "2022-07-26 16:16:02,645 - epidemiology - INFO - CMS: Infection COMS-v2 for rank 0/1(2)0.00033242799690924585,0.0003323554992675781 - 2020-05-30 12:00:00\n",
      "2022-07-26 16:16:02,692 - rank - INFO - Rank 0 -- interaction_waiting -- 6.741000106558204e-06\n",
      "2022-07-26 16:16:02,712 - simulator - INFO - CMS: Timestep for rank 0/1 - 8.495272133994149,8.495273113250732 - 2020-05-30 12:00:00\n",
      "\n",
      "2022-07-26 16:16:02,714 - rank - INFO - Next timestep\n",
      "2022-07-26 16:16:02,715 - simulator - INFO - ==================== timestep ====================\n",
      "2022-07-26 16:16:03,588 - rank - INFO - Rank 0 -- move_people -- 0.8714187070145272\n",
      "2022-07-26 16:16:03,588 - rank - INFO - Rank 0 -- move_people_waiting -- 8.389994036406279e-06\n",
      "2022-07-26 16:16:03,589 - activity_manager - INFO - CMS: People COMS for rank 0/1 - 4.089000867679715e-06,3.814697265625e-06 - 2020-05-30 14:00:00\n",
      "2022-07-26 16:16:03,595 - simulator - INFO - Info for rank 0, Date = 2020-05-30 14:00:00, number of deaths =  0, number of infected = 1582\n",
      "2022-07-26 16:16:03,796 - rank - INFO - Rank 0 -- interaction -- 0.2061085450113751\n",
      "2022-07-26 16:16:03,804 - tracker - INFO - Rank 0 -- tracking contacts -- 500 of 3274 of type shelter\n",
      "2022-07-26 16:16:04,226 - tracker - INFO - Rank 0 -- tracking contacts -- 115 of 115 of type communal\n",
      "2022-07-26 16:16:04,228 - tracker - INFO - Rank 0 -- tracking contacts -- 21 of 21 of type distribution_center\n",
      "2022-07-26 16:16:04,272 - tracker - INFO - Rank 0 -- tracking contacts -- 7 of 7 of type e_voucher\n",
      "2022-07-26 16:16:04,290 - tracker - INFO - Rank 0 -- tracking contacts -- 67 of 67 of type female_communal\n",
      "2022-07-26 16:16:04,292 - tracker - INFO - Rank 0 -- tracking contacts -- 80 of 80 of type informal_work\n",
      "2022-07-26 16:16:04,373 - tracker - INFO - Rank 0 -- tracking contacts -- 41 of 41 of type n_f_distribution_center\n",
      "2022-07-26 16:16:04,508 - tracker - INFO - Rank 0 -- tracking contacts -- 500 of 544 of type play_group\n",
      "2022-07-26 16:16:04,962 - tracker - INFO - Rank 0 -- tracking contacts -- 81 of 81 of type pump_latrine\n",
      "2022-07-26 16:16:09,911 - tracker - INFO - Rank 0 -- tracking contacts -- 500 of 2065 of type religious\n",
      "2022-07-26 16:16:10,562 - tracker - INFO - Rank 0 -- tracking contacts -- 389 of 389 of type learning_center\n",
      "2022-07-26 16:16:10,570 - tracker - INFO - Rank 0 -- tracking contacts -- 8 of 8 of type hospital\n",
      "2022-07-26 16:16:10,571 - tracker - INFO - Rank 0 -- tracking contacts -- 8 of 8 of type isolation_unit\n",
      "2022-07-26 16:16:10,572 - rank - INFO - Rank 0 -- tracker -- 6.774024198995903\n",
      "2022-07-26 16:16:10,609 - epidemiology - INFO - CMS: Infection COMS-v2 for rank 0/1(2)0.0003410880162846297,0.0003409385681152344 - 2020-05-30 14:00:00\n",
      "2022-07-26 16:16:10,655 - rank - INFO - Rank 0 -- interaction_waiting -- 7.1359972935169935e-06\n",
      "2022-07-26 16:16:10,671 - simulator - INFO - CMS: Timestep for rank 0/1 - 7.954660908988444,7.95466160774231 - 2020-05-30 14:00:00\n",
      "\n",
      "2022-07-26 16:16:10,673 - rank - INFO - Next timestep\n",
      "2022-07-26 16:16:10,674 - simulator - INFO - ==================== timestep ====================\n",
      "2022-07-26 16:16:11,520 - rank - INFO - Rank 0 -- move_people -- 0.8454195210069884\n"
     ]
    },
    {
     "name": "stdout",
     "output_type": "stream",
     "text": [
      "2022-07-26 16:16:11,522 - rank - INFO - Rank 0 -- move_people_waiting -- 5.770009011030197e-06\n",
      "2022-07-26 16:16:11,523 - activity_manager - INFO - CMS: People COMS for rank 0/1 - 4.745990736410022e-06,4.0531158447265625e-06 - 2020-05-30 16:00:00\n",
      "2022-07-26 16:16:11,530 - simulator - INFO - Info for rank 0, Date = 2020-05-30 16:00:00, number of deaths =  0, number of infected = 1639\n",
      "2022-07-26 16:16:11,732 - rank - INFO - Rank 0 -- interaction -- 0.2078538159839809\n",
      "2022-07-26 16:16:11,738 - tracker - INFO - Rank 0 -- tracking contacts -- 500 of 3274 of type shelter\n",
      "2022-07-26 16:16:12,109 - tracker - INFO - Rank 0 -- tracking contacts -- 115 of 115 of type communal\n",
      "2022-07-26 16:16:12,111 - tracker - INFO - Rank 0 -- tracking contacts -- 21 of 21 of type distribution_center\n",
      "2022-07-26 16:16:12,172 - tracker - INFO - Rank 0 -- tracking contacts -- 7 of 7 of type e_voucher\n",
      "2022-07-26 16:16:12,189 - tracker - INFO - Rank 0 -- tracking contacts -- 67 of 67 of type female_communal\n",
      "2022-07-26 16:16:12,191 - tracker - INFO - Rank 0 -- tracking contacts -- 80 of 80 of type informal_work\n",
      "2022-07-26 16:16:12,281 - tracker - INFO - Rank 0 -- tracking contacts -- 41 of 41 of type n_f_distribution_center\n",
      "2022-07-26 16:16:12,410 - tracker - INFO - Rank 0 -- tracking contacts -- 500 of 544 of type play_group\n",
      "2022-07-26 16:16:12,893 - tracker - INFO - Rank 0 -- tracking contacts -- 81 of 81 of type pump_latrine\n",
      "2022-07-26 16:16:17,699 - tracker - INFO - Rank 0 -- tracking contacts -- 500 of 2065 of type religious\n",
      "2022-07-26 16:16:18,287 - tracker - INFO - Rank 0 -- tracking contacts -- 389 of 389 of type learning_center\n",
      "2022-07-26 16:16:18,293 - tracker - INFO - Rank 0 -- tracking contacts -- 8 of 8 of type hospital\n",
      "2022-07-26 16:16:18,294 - tracker - INFO - Rank 0 -- tracking contacts -- 8 of 8 of type isolation_unit\n",
      "2022-07-26 16:16:18,295 - rank - INFO - Rank 0 -- tracker -- 6.562240628001746\n",
      "2022-07-26 16:16:18,320 - epidemiology - INFO - CMS: Infection COMS-v2 for rank 0/1(2)0.0003577939933165908,0.0003573894500732422 - 2020-05-30 16:00:00\n",
      "2022-07-26 16:16:18,364 - rank - INFO - Rank 0 -- interaction_waiting -- 7.0820096880197525e-06\n",
      "2022-07-26 16:16:18,379 - simulator - INFO - CMS: Timestep for rank 0/1 - 7.704127689998131,7.704128265380859 - 2020-05-30 16:00:00\n",
      "\n",
      "2022-07-26 16:16:18,381 - rank - INFO - Next timestep\n",
      "2022-07-26 16:16:18,383 - simulator - INFO - ==================== timestep ====================\n",
      "2022-07-26 16:16:19,260 - rank - INFO - Rank 0 -- move_people -- 0.876342562987702\n",
      "2022-07-26 16:16:19,261 - rank - INFO - Rank 0 -- move_people_waiting -- 5.261012120172381e-06\n",
      "2022-07-26 16:16:19,262 - activity_manager - INFO - CMS: People COMS for rank 0/1 - 5.929003236815333e-06,5.245208740234375e-06 - 2020-05-30 18:00:00\n",
      "2022-07-26 16:16:19,270 - simulator - INFO - Info for rank 0, Date = 2020-05-30 18:00:00, number of deaths =  0, number of infected = 1696\n",
      "2022-07-26 16:16:19,501 - rank - INFO - Rank 0 -- interaction -- 0.23751007198006846\n",
      "2022-07-26 16:16:19,508 - tracker - INFO - Rank 0 -- tracking contacts -- 500 of 3274 of type shelter\n",
      "2022-07-26 16:16:19,884 - tracker - INFO - Rank 0 -- tracking contacts -- 115 of 115 of type communal\n",
      "2022-07-26 16:16:19,888 - tracker - INFO - Rank 0 -- tracking contacts -- 21 of 21 of type distribution_center\n",
      "2022-07-26 16:16:19,941 - tracker - INFO - Rank 0 -- tracking contacts -- 7 of 7 of type e_voucher\n",
      "2022-07-26 16:16:19,953 - tracker - INFO - Rank 0 -- tracking contacts -- 67 of 67 of type female_communal\n",
      "2022-07-26 16:16:19,955 - tracker - INFO - Rank 0 -- tracking contacts -- 80 of 80 of type informal_work\n",
      "2022-07-26 16:16:20,053 - tracker - INFO - Rank 0 -- tracking contacts -- 41 of 41 of type n_f_distribution_center\n",
      "2022-07-26 16:16:20,185 - tracker - INFO - Rank 0 -- tracking contacts -- 500 of 544 of type play_group\n",
      "2022-07-26 16:16:20,673 - tracker - INFO - Rank 0 -- tracking contacts -- 81 of 81 of type pump_latrine\n",
      "2022-07-26 16:16:25,826 - tracker - INFO - Rank 0 -- tracking contacts -- 500 of 2065 of type religious\n",
      "2022-07-26 16:16:26,435 - tracker - INFO - Rank 0 -- tracking contacts -- 389 of 389 of type learning_center\n",
      "2022-07-26 16:16:26,441 - tracker - INFO - Rank 0 -- tracking contacts -- 8 of 8 of type hospital\n",
      "2022-07-26 16:16:26,443 - tracker - INFO - Rank 0 -- tracking contacts -- 8 of 8 of type isolation_unit\n",
      "2022-07-26 16:16:26,444 - rank - INFO - Rank 0 -- tracker -- 6.942160979000619\n",
      "2022-07-26 16:16:26,480 - epidemiology - INFO - CMS: Infection COMS-v2 for rank 0/1(2)0.0007708389894105494,0.00077056884765625 - 2020-05-30 18:00:00\n",
      "2022-07-26 16:16:26,548 - rank - INFO - Rank 0 -- interaction_waiting -- 7.5239804573357105e-06\n",
      "2022-07-26 16:16:26,561 - simulator - INFO - CMS: Timestep for rank 0/1 - 8.178095778974239,8.178096771240234 - 2020-05-30 18:00:00\n",
      "\n",
      "2022-07-26 16:16:26,564 - rank - INFO - Next timestep\n",
      "2022-07-26 16:16:26,565 - simulator - INFO - ==================== timestep ====================\n",
      "2022-07-26 16:16:26,767 - rank - INFO - Rank 0 -- move_people -- 0.20054673799313605\n",
      "2022-07-26 16:16:26,768 - rank - INFO - Rank 0 -- move_people_waiting -- 4.75099659524858e-06\n",
      "2022-07-26 16:16:26,768 - activity_manager - INFO - CMS: People COMS for rank 0/1 - 4.878995241597295e-06,4.291534423828125e-06 - 2020-05-30 20:00:00\n",
      "2022-07-26 16:16:26,775 - simulator - INFO - Info for rank 0, Date = 2020-05-30 20:00:00, number of deaths =  0, number of infected = 1748\n",
      "2022-07-26 16:16:26,923 - rank - INFO - Rank 0 -- interaction -- 0.1533150050090626\n",
      "2022-07-26 16:16:26,930 - tracker - INFO - Rank 0 -- tracking contacts -- 500 of 3274 of type shelter\n",
      "2022-07-26 16:16:28,254 - tracker - INFO - Rank 0 -- tracking contacts -- 115 of 115 of type communal\n",
      "2022-07-26 16:16:28,257 - tracker - INFO - Rank 0 -- tracking contacts -- 21 of 21 of type distribution_center\n",
      "2022-07-26 16:16:28,259 - tracker - INFO - Rank 0 -- tracking contacts -- 7 of 7 of type e_voucher\n",
      "2022-07-26 16:16:28,260 - tracker - INFO - Rank 0 -- tracking contacts -- 67 of 67 of type female_communal\n",
      "2022-07-26 16:16:28,263 - tracker - INFO - Rank 0 -- tracking contacts -- 80 of 80 of type informal_work\n",
      "2022-07-26 16:16:28,267 - tracker - INFO - Rank 0 -- tracking contacts -- 41 of 41 of type n_f_distribution_center\n",
      "2022-07-26 16:16:28,272 - tracker - INFO - Rank 0 -- tracking contacts -- 500 of 544 of type play_group\n",
      "2022-07-26 16:16:28,288 - tracker - INFO - Rank 0 -- tracking contacts -- 81 of 81 of type pump_latrine\n",
      "2022-07-26 16:16:28,308 - tracker - INFO - Rank 0 -- tracking contacts -- 500 of 2065 of type religious\n",
      "2022-07-26 16:16:28,324 - tracker - INFO - Rank 0 -- tracking contacts -- 389 of 389 of type learning_center\n",
      "2022-07-26 16:16:28,334 - tracker - INFO - Rank 0 -- tracking contacts -- 8 of 8 of type hospital\n",
      "2022-07-26 16:16:28,336 - tracker - INFO - Rank 0 -- tracking contacts -- 8 of 8 of type isolation_unit\n",
      "2022-07-26 16:16:28,337 - rank - INFO - Rank 0 -- tracker -- 1.4125612440111581\n",
      "2022-07-26 16:16:28,415 - epidemiology - INFO - CMS: Infection COMS-v2 for rank 0/1(2)0.0002375299809500575,0.00023698806762695312 - 2020-05-30 20:00:00\n",
      "2022-07-26 16:16:28,463 - rank - INFO - Rank 0 -- interaction_waiting -- 1.4193006791174412e-05\n",
      "2022-07-26 16:16:28,477 - simulator - INFO - CMS: Timestep for rank 0/1 - 1.9108623340143822,1.9108633995056152 - 2020-05-30 20:00:00\n",
      "\n",
      "2022-07-26 16:16:28,480 - rank - INFO - Next timestep\n",
      "2022-07-26 16:16:28,481 - simulator - INFO - ==================== timestep ====================\n",
      "2022-07-26 16:16:28,731 - rank - INFO - Rank 0 -- move_people -- 0.24899514400749467\n",
      "2022-07-26 16:16:28,731 - rank - INFO - Rank 0 -- move_people_waiting -- 9.140989277511835e-06\n",
      "2022-07-26 16:16:28,732 - activity_manager - INFO - CMS: People COMS for rank 0/1 - 3.4589902497828007e-06,3.0994415283203125e-06 - 2020-05-31 09:00:00\n",
      "2022-07-26 16:16:28,738 - simulator - INFO - Info for rank 0, Date = 2020-05-31 09:00:00, number of deaths =  0, number of infected = 1937\n",
      "2022-07-26 16:16:28,896 - rank - INFO - Rank 0 -- interaction -- 0.16311784498975612\n",
      "2022-07-26 16:16:28,903 - tracker - INFO - Rank 0 -- tracking contacts -- 500 of 3274 of type shelter\n",
      "2022-07-26 16:16:29,721 - tracker - INFO - Rank 0 -- tracking contacts -- 115 of 115 of type communal\n"
     ]
    },
    {
     "name": "stdout",
     "output_type": "stream",
     "text": [
      "2022-07-26 16:16:29,725 - tracker - INFO - Rank 0 -- tracking contacts -- 21 of 21 of type distribution_center\n",
      "2022-07-26 16:16:29,727 - tracker - INFO - Rank 0 -- tracking contacts -- 7 of 7 of type e_voucher\n",
      "2022-07-26 16:16:29,728 - tracker - INFO - Rank 0 -- tracking contacts -- 67 of 67 of type female_communal\n",
      "2022-07-26 16:16:29,731 - tracker - INFO - Rank 0 -- tracking contacts -- 80 of 80 of type informal_work\n",
      "2022-07-26 16:16:29,735 - tracker - INFO - Rank 0 -- tracking contacts -- 41 of 41 of type n_f_distribution_center\n",
      "2022-07-26 16:16:29,740 - tracker - INFO - Rank 0 -- tracking contacts -- 500 of 544 of type play_group\n",
      "2022-07-26 16:16:29,757 - tracker - INFO - Rank 0 -- tracking contacts -- 81 of 81 of type pump_latrine\n",
      "2022-07-26 16:16:29,777 - tracker - INFO - Rank 0 -- tracking contacts -- 500 of 2065 of type religious\n",
      "2022-07-26 16:16:29,787 - tracker - INFO - Rank 0 -- tracking contacts -- 389 of 389 of type learning_center\n",
      "2022-07-26 16:16:30,787 - tracker - INFO - Rank 0 -- tracking contacts -- 8 of 8 of type hospital\n",
      "2022-07-26 16:16:30,797 - tracker - INFO - Rank 0 -- tracking contacts -- 8 of 8 of type isolation_unit\n",
      "2022-07-26 16:16:30,798 - rank - INFO - Rank 0 -- tracker -- 1.901351785985753\n",
      "2022-07-26 16:16:30,824 - epidemiology - INFO - CMS: Infection COMS-v2 for rank 0/1(2)0.000295450008707121,0.0002949237823486328 - 2020-05-31 09:00:00\n",
      "2022-07-26 16:16:30,885 - rank - INFO - Rank 0 -- interaction_waiting -- 8.729984983801842e-06\n",
      "2022-07-26 16:16:30,901 - simulator - INFO - CMS: Timestep for rank 0/1 - 2.4199539789988194,2.419954776763916 - 2020-05-31 09:00:00\n",
      "\n",
      "2022-07-26 16:16:30,904 - rank - INFO - Next timestep\n",
      "2022-07-26 16:16:30,905 - simulator - INFO - ==================== timestep ====================\n",
      "2022-07-26 16:16:31,830 - rank - INFO - Rank 0 -- move_people -- 0.924494434002554\n",
      "2022-07-26 16:16:31,832 - rank - INFO - Rank 0 -- move_people_waiting -- 4.492991138249636e-06\n",
      "2022-07-26 16:16:31,832 - activity_manager - INFO - CMS: People COMS for rank 0/1 - 5.198991857469082e-06,4.76837158203125e-06 - 2020-05-31 11:00:00\n",
      "2022-07-26 16:16:31,841 - simulator - INFO - Info for rank 0, Date = 2020-05-31 11:00:00, number of deaths =  0, number of infected = 1978\n",
      "2022-07-26 16:16:32,069 - rank - INFO - Rank 0 -- interaction -- 0.23535833900677972\n",
      "2022-07-26 16:16:32,077 - tracker - INFO - Rank 0 -- tracking contacts -- 500 of 3274 of type shelter\n",
      "2022-07-26 16:16:32,477 - tracker - INFO - Rank 0 -- tracking contacts -- 115 of 115 of type communal\n",
      "2022-07-26 16:16:32,503 - tracker - INFO - Rank 0 -- tracking contacts -- 21 of 21 of type distribution_center\n",
      "2022-07-26 16:16:32,530 - tracker - INFO - Rank 0 -- tracking contacts -- 7 of 7 of type e_voucher\n",
      "2022-07-26 16:16:32,548 - tracker - INFO - Rank 0 -- tracking contacts -- 67 of 67 of type female_communal\n",
      "2022-07-26 16:16:32,609 - tracker - INFO - Rank 0 -- tracking contacts -- 80 of 80 of type informal_work\n",
      "2022-07-26 16:16:32,689 - tracker - INFO - Rank 0 -- tracking contacts -- 41 of 41 of type n_f_distribution_center\n",
      "2022-07-26 16:16:32,801 - tracker - INFO - Rank 0 -- tracking contacts -- 500 of 544 of type play_group\n",
      "2022-07-26 16:16:33,184 - tracker - INFO - Rank 0 -- tracking contacts -- 81 of 81 of type pump_latrine\n",
      "2022-07-26 16:16:36,852 - tracker - INFO - Rank 0 -- tracking contacts -- 500 of 2065 of type religious\n",
      "2022-07-26 16:16:37,329 - tracker - INFO - Rank 0 -- tracking contacts -- 389 of 389 of type learning_center\n",
      "2022-07-26 16:16:38,241 - tracker - INFO - Rank 0 -- tracking contacts -- 8 of 8 of type hospital\n",
      "2022-07-26 16:16:38,247 - tracker - INFO - Rank 0 -- tracking contacts -- 8 of 8 of type isolation_unit\n",
      "2022-07-26 16:16:38,248 - rank - INFO - Rank 0 -- tracker -- 6.178005310997833\n",
      "2022-07-26 16:16:38,292 - epidemiology - INFO - CMS: Infection COMS-v2 for rank 0/1(2)0.00023727299412712455,0.00023651123046875 - 2020-05-31 11:00:00\n",
      "2022-07-26 16:16:38,342 - rank - INFO - Rank 0 -- interaction_waiting -- 6.259011570364237e-06\n",
      "2022-07-26 16:16:38,356 - simulator - INFO - CMS: Timestep for rank 0/1 - 7.4503365109849256,7.4503374099731445 - 2020-05-31 11:00:00\n",
      "\n",
      "2022-07-26 16:16:38,359 - rank - INFO - Next timestep\n",
      "2022-07-26 16:16:38,360 - simulator - INFO - ==================== timestep ====================\n",
      "2022-07-26 16:16:39,147 - rank - INFO - Rank 0 -- move_people -- 0.7863925190176815\n",
      "2022-07-26 16:16:39,148 - rank - INFO - Rank 0 -- move_people_waiting -- 7.403024937957525e-06\n",
      "2022-07-26 16:16:39,149 - activity_manager - INFO - CMS: People COMS for rank 0/1 - 5.418987711891532e-06,4.76837158203125e-06 - 2020-05-31 13:00:00\n",
      "2022-07-26 16:16:39,157 - simulator - INFO - Info for rank 0, Date = 2020-05-31 13:00:00, number of deaths =  0, number of infected = 2044\n",
      "2022-07-26 16:16:39,383 - rank - INFO - Rank 0 -- interaction -- 0.2331106569909025\n",
      "2022-07-26 16:16:39,396 - tracker - INFO - Rank 0 -- tracking contacts -- 500 of 3274 of type shelter\n",
      "2022-07-26 16:16:39,701 - tracker - INFO - Rank 0 -- tracking contacts -- 115 of 115 of type communal\n",
      "2022-07-26 16:16:39,724 - tracker - INFO - Rank 0 -- tracking contacts -- 21 of 21 of type distribution_center\n",
      "2022-07-26 16:16:39,764 - tracker - INFO - Rank 0 -- tracking contacts -- 7 of 7 of type e_voucher\n",
      "2022-07-26 16:16:39,777 - tracker - INFO - Rank 0 -- tracking contacts -- 67 of 67 of type female_communal\n",
      "2022-07-26 16:16:39,829 - tracker - INFO - Rank 0 -- tracking contacts -- 80 of 80 of type informal_work\n",
      "2022-07-26 16:16:39,910 - tracker - INFO - Rank 0 -- tracking contacts -- 41 of 41 of type n_f_distribution_center\n",
      "2022-07-26 16:16:40,029 - tracker - INFO - Rank 0 -- tracking contacts -- 500 of 544 of type play_group\n",
      "2022-07-26 16:16:40,351 - tracker - INFO - Rank 0 -- tracking contacts -- 81 of 81 of type pump_latrine\n",
      "2022-07-26 16:16:44,056 - tracker - INFO - Rank 0 -- tracking contacts -- 500 of 2065 of type religious\n",
      "2022-07-26 16:16:44,532 - tracker - INFO - Rank 0 -- tracking contacts -- 389 of 389 of type learning_center\n",
      "2022-07-26 16:16:45,504 - tracker - INFO - Rank 0 -- tracking contacts -- 8 of 8 of type hospital\n",
      "2022-07-26 16:16:45,513 - tracker - INFO - Rank 0 -- tracking contacts -- 8 of 8 of type isolation_unit\n",
      "2022-07-26 16:16:45,514 - rank - INFO - Rank 0 -- tracker -- 6.130372267973144\n",
      "2022-07-26 16:16:45,544 - epidemiology - INFO - CMS: Infection COMS-v2 for rank 0/1(2)0.0003580129996407777,0.00035762786865234375 - 2020-05-31 13:00:00\n",
      "2022-07-26 16:16:45,655 - rank - INFO - Rank 0 -- interaction_waiting -- 7.780006853863597e-06\n",
      "2022-07-26 16:16:45,670 - simulator - INFO - CMS: Timestep for rank 0/1 - 7.309643123007845,7.309643983840942 - 2020-05-31 13:00:00\n",
      "\n",
      "2022-07-26 16:16:45,673 - rank - INFO - Next timestep\n",
      "2022-07-26 16:16:45,674 - simulator - INFO - ==================== timestep ====================\n",
      "2022-07-26 16:16:46,521 - rank - INFO - Rank 0 -- move_people -- 0.845371163013624\n",
      "2022-07-26 16:16:46,522 - rank - INFO - Rank 0 -- move_people_waiting -- 4.742003511637449e-06\n",
      "2022-07-26 16:16:46,523 - activity_manager - INFO - CMS: People COMS for rank 0/1 - 3.684981493279338e-06,3.337860107421875e-06 - 2020-05-31 15:00:00\n",
      "2022-07-26 16:16:46,532 - simulator - INFO - Info for rank 0, Date = 2020-05-31 15:00:00, number of deaths =  0, number of infected = 2107\n",
      "2022-07-26 16:16:46,778 - rank - INFO - Rank 0 -- interaction -- 0.2546931660035625\n",
      "2022-07-26 16:16:46,793 - tracker - INFO - Rank 0 -- tracking contacts -- 500 of 3274 of type shelter\n",
      "2022-07-26 16:16:47,157 - tracker - INFO - Rank 0 -- tracking contacts -- 115 of 115 of type communal\n",
      "2022-07-26 16:16:47,190 - tracker - INFO - Rank 0 -- tracking contacts -- 21 of 21 of type distribution_center\n",
      "2022-07-26 16:16:47,245 - tracker - INFO - Rank 0 -- tracking contacts -- 7 of 7 of type e_voucher\n",
      "2022-07-26 16:16:47,257 - tracker - INFO - Rank 0 -- tracking contacts -- 67 of 67 of type female_communal\n",
      "2022-07-26 16:16:47,328 - tracker - INFO - Rank 0 -- tracking contacts -- 80 of 80 of type informal_work\n",
      "2022-07-26 16:16:47,420 - tracker - INFO - Rank 0 -- tracking contacts -- 41 of 41 of type n_f_distribution_center\n",
      "2022-07-26 16:16:47,553 - tracker - INFO - Rank 0 -- tracking contacts -- 500 of 544 of type play_group\n"
     ]
    },
    {
     "name": "stdout",
     "output_type": "stream",
     "text": [
      "2022-07-26 16:16:47,894 - tracker - INFO - Rank 0 -- tracking contacts -- 81 of 81 of type pump_latrine\n",
      "2022-07-26 16:16:51,569 - tracker - INFO - Rank 0 -- tracking contacts -- 500 of 2065 of type religious\n",
      "2022-07-26 16:16:52,047 - tracker - INFO - Rank 0 -- tracking contacts -- 389 of 389 of type learning_center\n",
      "2022-07-26 16:16:53,039 - tracker - INFO - Rank 0 -- tracking contacts -- 8 of 8 of type hospital\n",
      "2022-07-26 16:16:53,046 - tracker - INFO - Rank 0 -- tracking contacts -- 8 of 8 of type isolation_unit\n",
      "2022-07-26 16:16:53,048 - rank - INFO - Rank 0 -- tracker -- 6.2656750610040035\n",
      "2022-07-26 16:16:53,085 - epidemiology - INFO - CMS: Infection COMS-v2 for rank 0/1(2)0.0014293249987531453,0.0014286041259765625 - 2020-05-31 15:00:00\n",
      "2022-07-26 16:16:53,152 - rank - INFO - Rank 0 -- interaction_waiting -- 7.986993296071887e-06\n",
      "2022-07-26 16:16:53,167 - simulator - INFO - CMS: Timestep for rank 0/1 - 7.491972972988151,7.491973400115967 - 2020-05-31 15:00:00\n",
      "\n",
      "2022-07-26 16:16:53,170 - rank - INFO - Next timestep\n",
      "2022-07-26 16:16:53,171 - simulator - INFO - ==================== timestep ====================\n",
      "2022-07-26 16:16:54,086 - rank - INFO - Rank 0 -- move_people -- 0.9136851940129418\n",
      "2022-07-26 16:16:54,086 - rank - INFO - Rank 0 -- move_people_waiting -- 6.896996637806296e-06\n",
      "2022-07-26 16:16:54,087 - activity_manager - INFO - CMS: People COMS for rank 0/1 - 4.125002305954695e-06,3.814697265625e-06 - 2020-05-31 17:00:00\n",
      "2022-07-26 16:16:54,094 - simulator - INFO - Info for rank 0, Date = 2020-05-31 17:00:00, number of deaths =  0, number of infected = 2178\n",
      "2022-07-26 16:16:54,335 - rank - INFO - Rank 0 -- interaction -- 0.2464780749869533\n",
      "2022-07-26 16:16:54,342 - tracker - INFO - Rank 0 -- tracking contacts -- 500 of 3274 of type shelter\n",
      "2022-07-26 16:16:54,754 - tracker - INFO - Rank 0 -- tracking contacts -- 115 of 115 of type communal\n",
      "2022-07-26 16:16:54,757 - tracker - INFO - Rank 0 -- tracking contacts -- 21 of 21 of type distribution_center\n",
      "2022-07-26 16:16:54,802 - tracker - INFO - Rank 0 -- tracking contacts -- 7 of 7 of type e_voucher\n",
      "2022-07-26 16:16:54,819 - tracker - INFO - Rank 0 -- tracking contacts -- 67 of 67 of type female_communal\n",
      "2022-07-26 16:16:54,822 - tracker - INFO - Rank 0 -- tracking contacts -- 80 of 80 of type informal_work\n",
      "2022-07-26 16:16:54,925 - tracker - INFO - Rank 0 -- tracking contacts -- 41 of 41 of type n_f_distribution_center\n",
      "2022-07-26 16:16:55,068 - tracker - INFO - Rank 0 -- tracking contacts -- 500 of 544 of type play_group\n",
      "2022-07-26 16:16:55,561 - tracker - INFO - Rank 0 -- tracking contacts -- 81 of 81 of type pump_latrine\n",
      "2022-07-26 16:17:00,179 - tracker - INFO - Rank 0 -- tracking contacts -- 500 of 2065 of type religious\n",
      "2022-07-26 16:17:00,753 - tracker - INFO - Rank 0 -- tracking contacts -- 389 of 389 of type learning_center\n",
      "2022-07-26 16:17:00,763 - tracker - INFO - Rank 0 -- tracking contacts -- 8 of 8 of type hospital\n",
      "2022-07-26 16:17:00,764 - tracker - INFO - Rank 0 -- tracking contacts -- 8 of 8 of type isolation_unit\n",
      "2022-07-26 16:17:00,765 - rank - INFO - Rank 0 -- tracker -- 6.4294434519833885\n",
      "2022-07-26 16:17:00,806 - epidemiology - INFO - CMS: Infection COMS-v2 for rank 0/1(2)0.0010664160072337836,0.001066446304321289 - 2020-05-31 17:00:00\n",
      "2022-07-26 16:17:00,862 - rank - INFO - Rank 0 -- interaction_waiting -- 6.7810178734362125e-06\n",
      "2022-07-26 16:17:00,876 - simulator - INFO - CMS: Timestep for rank 0/1 - 7.703639615006978,7.703640460968018 - 2020-05-31 17:00:00\n",
      "\n",
      "2022-07-26 16:17:00,878 - rank - INFO - Next timestep\n",
      "2022-07-26 16:17:00,879 - simulator - INFO - ==================== timestep ====================\n",
      "2022-07-26 16:17:01,060 - rank - INFO - Rank 0 -- move_people -- 0.18040662302519195\n",
      "2022-07-26 16:17:01,061 - rank - INFO - Rank 0 -- move_people_waiting -- 7.88699253462255e-06\n",
      "2022-07-26 16:17:01,062 - activity_manager - INFO - CMS: People COMS for rank 0/1 - 3.6609999369829893e-06,3.337860107421875e-06 - 2020-05-31 19:00:00\n",
      "2022-07-26 16:17:01,067 - simulator - INFO - Info for rank 0, Date = 2020-05-31 19:00:00, number of deaths =  0, number of infected = 2250\n",
      "2022-07-26 16:17:01,244 - rank - INFO - Rank 0 -- interaction -- 0.1811546879762318\n",
      "2022-07-26 16:17:01,251 - tracker - INFO - Rank 0 -- tracking contacts -- 500 of 3274 of type shelter\n",
      "2022-07-26 16:17:02,464 - tracker - INFO - Rank 0 -- tracking contacts -- 115 of 115 of type communal\n",
      "2022-07-26 16:17:02,468 - tracker - INFO - Rank 0 -- tracking contacts -- 21 of 21 of type distribution_center\n",
      "2022-07-26 16:17:02,469 - tracker - INFO - Rank 0 -- tracking contacts -- 7 of 7 of type e_voucher\n",
      "2022-07-26 16:17:02,471 - tracker - INFO - Rank 0 -- tracking contacts -- 67 of 67 of type female_communal\n",
      "2022-07-26 16:17:02,474 - tracker - INFO - Rank 0 -- tracking contacts -- 80 of 80 of type informal_work\n",
      "2022-07-26 16:17:02,477 - tracker - INFO - Rank 0 -- tracking contacts -- 41 of 41 of type n_f_distribution_center\n",
      "2022-07-26 16:17:02,481 - tracker - INFO - Rank 0 -- tracking contacts -- 500 of 544 of type play_group\n",
      "2022-07-26 16:17:02,491 - tracker - INFO - Rank 0 -- tracking contacts -- 81 of 81 of type pump_latrine\n",
      "2022-07-26 16:17:02,503 - tracker - INFO - Rank 0 -- tracking contacts -- 500 of 2065 of type religious\n",
      "2022-07-26 16:17:02,514 - tracker - INFO - Rank 0 -- tracking contacts -- 389 of 389 of type learning_center\n",
      "2022-07-26 16:17:02,523 - tracker - INFO - Rank 0 -- tracking contacts -- 8 of 8 of type hospital\n",
      "2022-07-26 16:17:02,525 - tracker - INFO - Rank 0 -- tracking contacts -- 8 of 8 of type isolation_unit\n",
      "2022-07-26 16:17:02,526 - rank - INFO - Rank 0 -- tracker -- 1.2810769689967856\n",
      "2022-07-26 16:17:02,625 - epidemiology - INFO - CMS: Infection COMS-v2 for rank 0/1(2)0.001168825983768329,0.0011684894561767578 - 2020-05-31 19:00:00\n",
      "2022-07-26 16:17:02,680 - rank - INFO - Rank 0 -- interaction_waiting -- 2.4187000235542655e-05\n",
      "2022-07-26 16:17:02,693 - simulator - INFO - CMS: Timestep for rank 0/1 - 1.8130752359866165,1.8130762577056885 - 2020-05-31 19:00:00\n",
      "\n",
      "CPU times: user 5min 24s, sys: 6.25 s, total: 5min 30s\n",
      "Wall time: 5min 22s\n"
     ]
    }
   ],
   "source": [
    "%%time\n",
    "simulator.run()"
   ]
  },
  {
   "cell_type": "markdown",
   "metadata": {},
   "source": [
    "# Getting the results"
   ]
  },
  {
   "cell_type": "markdown",
   "metadata": {},
   "source": [
    "All results are stored in a json file specified in the `record_path` when defining the recorder. This can be read in by passing the folder locations to the `RecordReader` class and results derived.\n",
    "\n",
    "Here we show some examples of the kind of analysis you can extract from the records."
   ]
  },
  {
   "cell_type": "code",
   "execution_count": 55,
   "metadata": {},
   "outputs": [],
   "source": [
    "import pandas as pd"
   ]
  },
  {
   "cell_type": "code",
   "execution_count": 56,
   "metadata": {},
   "outputs": [],
   "source": [
    "read = RecordReader(Results_Path)"
   ]
  },
  {
   "cell_type": "markdown",
   "metadata": {},
   "source": [
    "The regional summary gives you information at the regional (camp) level."
   ]
  },
  {
   "cell_type": "markdown",
   "metadata": {},
   "source": [
    "### Regional information"
   ]
  },
  {
   "cell_type": "code",
   "execution_count": 57,
   "metadata": {},
   "outputs": [
    {
     "data": {
      "text/html": [
       "<div>\n",
       "<style scoped>\n",
       "    .dataframe tbody tr th:only-of-type {\n",
       "        vertical-align: middle;\n",
       "    }\n",
       "\n",
       "    .dataframe tbody tr th {\n",
       "        vertical-align: top;\n",
       "    }\n",
       "\n",
       "    .dataframe thead th {\n",
       "        text-align: right;\n",
       "    }\n",
       "</style>\n",
       "<table border=\"1\" class=\"dataframe\">\n",
       "  <thead>\n",
       "    <tr style=\"text-align: right;\">\n",
       "      <th></th>\n",
       "      <th>region</th>\n",
       "      <th>current_infected</th>\n",
       "      <th>daily_infected</th>\n",
       "      <th>current_hospitalised</th>\n",
       "      <th>daily_hospitalised</th>\n",
       "      <th>current_intensive_care</th>\n",
       "      <th>daily_intensive_care</th>\n",
       "      <th>daily_hospital_deaths</th>\n",
       "      <th>daily_deaths</th>\n",
       "    </tr>\n",
       "    <tr>\n",
       "      <th>time_stamp</th>\n",
       "      <th></th>\n",
       "      <th></th>\n",
       "      <th></th>\n",
       "      <th></th>\n",
       "      <th></th>\n",
       "      <th></th>\n",
       "      <th></th>\n",
       "      <th></th>\n",
       "      <th></th>\n",
       "    </tr>\n",
       "  </thead>\n",
       "  <tbody>\n",
       "    <tr>\n",
       "      <th>2020-05-24</th>\n",
       "      <td>CXB-219</td>\n",
       "      <td>245.333333</td>\n",
       "      <td>275</td>\n",
       "      <td>0.0</td>\n",
       "      <td>0</td>\n",
       "      <td>0.0</td>\n",
       "      <td>0</td>\n",
       "      <td>0</td>\n",
       "      <td>0</td>\n",
       "    </tr>\n",
       "    <tr>\n",
       "      <th>2020-05-25</th>\n",
       "      <td>CXB-219</td>\n",
       "      <td>322.500000</td>\n",
       "      <td>109</td>\n",
       "      <td>0.0</td>\n",
       "      <td>0</td>\n",
       "      <td>0.0</td>\n",
       "      <td>0</td>\n",
       "      <td>0</td>\n",
       "      <td>0</td>\n",
       "    </tr>\n",
       "    <tr>\n",
       "      <th>2020-05-26</th>\n",
       "      <td>CXB-219</td>\n",
       "      <td>461.333333</td>\n",
       "      <td>194</td>\n",
       "      <td>0.0</td>\n",
       "      <td>0</td>\n",
       "      <td>0.0</td>\n",
       "      <td>0</td>\n",
       "      <td>0</td>\n",
       "      <td>0</td>\n",
       "    </tr>\n",
       "  </tbody>\n",
       "</table>\n",
       "</div>"
      ],
      "text/plain": [
       "             region  current_infected  daily_infected  current_hospitalised  \\\n",
       "time_stamp                                                                    \n",
       "2020-05-24  CXB-219        245.333333             275                   0.0   \n",
       "2020-05-25  CXB-219        322.500000             109                   0.0   \n",
       "2020-05-26  CXB-219        461.333333             194                   0.0   \n",
       "\n",
       "            daily_hospitalised  current_intensive_care  daily_intensive_care  \\\n",
       "time_stamp                                                                     \n",
       "2020-05-24                   0                     0.0                     0   \n",
       "2020-05-25                   0                     0.0                     0   \n",
       "2020-05-26                   0                     0.0                     0   \n",
       "\n",
       "            daily_hospital_deaths  daily_deaths  \n",
       "time_stamp                                       \n",
       "2020-05-24                      0             0  \n",
       "2020-05-25                      0             0  \n",
       "2020-05-26                      0             0  "
      ]
     },
     "execution_count": 57,
     "metadata": {},
     "output_type": "execute_result"
    }
   ],
   "source": [
    "read.regional_summary.head(3) # this is the equivalent of the summary.csv"
   ]
  },
  {
   "cell_type": "markdown",
   "metadata": {},
   "source": [
    "### Daily infections"
   ]
  },
  {
   "cell_type": "code",
   "execution_count": 58,
   "metadata": {},
   "outputs": [],
   "source": [
    "summary = read.regional_summary.reset_index()"
   ]
  },
  {
   "cell_type": "code",
   "execution_count": 59,
   "metadata": {},
   "outputs": [
    {
     "data": {
      "image/png": "[encoded data removed]",
      "text/plain": [
       "<Figure size 432x288 with 1 Axes>"
      ]
     },
     "metadata": {
      "needs_background": "light"
     },
     "output_type": "display_data"
    }
   ],
   "source": [
    "summary.groupby(['time_stamp']).sum().plot(y=['daily_infected'])\n",
    "plt.ylabel('Daily infections')\n",
    "plt.show()"
   ]
  },
  {
   "cell_type": "markdown",
   "metadata": {},
   "source": [
    "### Hospital and intensive care"
   ]
  },
  {
   "cell_type": "code",
   "execution_count": 60,
   "metadata": {},
   "outputs": [
    {
     "data": {
      "image/png": "[encoded data removed]",
      "text/plain": [
       "<Figure size 432x288 with 1 Axes>"
      ]
     },
     "metadata": {
      "needs_background": "light"
     },
     "output_type": "display_data"
    }
   ],
   "source": [
    "summary.groupby(['time_stamp']).sum().plot(y=['current_hospitalised', 'current_intensive_care'])\n",
    "plt.show()"
   ]
  },
  {
   "cell_type": "markdown",
   "metadata": {},
   "source": [
    "### Cumulative infections by age"
   ]
  },
  {
   "cell_type": "code",
   "execution_count": 61,
   "metadata": {},
   "outputs": [
    {
     "name": "stdout",
     "output_type": "stream",
     "text": [
      "2022-07-26 16:17:03,344 - june.records.records_reader - INFO - Loading infections table\n",
      "2022-07-26 16:17:03,359 - june.records.records_reader - INFO - Loading population table\n",
      "2022-07-26 16:17:03,425 - june.records.records_reader - INFO - Merging infection and population tables\n",
      "2022-07-26 16:17:03,432 - june.records.records_reader - INFO - Loading geography table\n",
      "2022-07-26 16:17:03,456 - june.records.records_reader - INFO - Mergeing infection and geography tables\n"
     ]
    }
   ],
   "source": [
    "infections_df = read.get_table_with_extras('infections',\n",
    "                                           'infected_ids')"
   ]
  },
  {
   "cell_type": "code",
   "execution_count": 62,
   "metadata": {},
   "outputs": [
    {
     "name": "stdout",
     "output_type": "stream",
     "text": [
      "2022-07-26 16:17:03,473 - june.records.records_reader - INFO - Loading deaths table\n",
      "2022-07-26 16:17:03,482 - june.records.records_reader - INFO - Loading population table\n",
      "2022-07-26 16:17:03,542 - june.records.records_reader - INFO - Merging infection and population tables\n",
      "2022-07-26 16:17:03,547 - june.records.records_reader - INFO - Loading geography table\n",
      "2022-07-26 16:17:03,570 - june.records.records_reader - INFO - Mergeing infection and geography tables\n"
     ]
    }
   ],
   "source": [
    "deaths_df = read.get_table_with_extras('deaths', \n",
    "                                       'dead_person_ids')"
   ]
  },
  {
   "cell_type": "code",
   "execution_count": 63,
   "metadata": {},
   "outputs": [],
   "source": [
    "age_bins = (0,20,60,100)"
   ]
  },
  {
   "cell_type": "code",
   "execution_count": 64,
   "metadata": {},
   "outputs": [],
   "source": [
    "infected_by_age = infections_df.groupby([pd.cut(infections_df['age'],\n",
    "            bins=age_bins), 'timestamp']).size()"
   ]
  },
  {
   "cell_type": "code",
   "execution_count": 65,
   "metadata": {},
   "outputs": [],
   "source": [
    "people_df = read.table_to_df('population')"
   ]
  },
  {
   "cell_type": "code",
   "execution_count": 66,
   "metadata": {},
   "outputs": [],
   "source": [
    "n_by_age = people_df.groupby(pd.cut(people_df['age'],\n",
    "            bins=age_bins)).size()"
   ]
  },
  {
   "cell_type": "code",
   "execution_count": 67,
   "metadata": {},
   "outputs": [
    {
     "data": {
      "text/plain": [
       "<matplotlib.legend.Legend at 0x7f2510d9f220>"
      ]
     },
     "execution_count": 67,
     "metadata": {},
     "output_type": "execute_result"
    },
    {
     "data": {
      "image/png": "[encoded data removed]",
      "text/plain": [
       "<Figure size 432x288 with 1 Axes>"
      ]
     },
     "metadata": {
      "needs_background": "light"
     },
     "output_type": "display_data"
    }
   ],
   "source": [
    "(100*infected_by_age/n_by_age).xs(10).cumsum().plot(label='0,20')\n",
    "(100*infected_by_age/n_by_age).xs(30).cumsum().plot(label='20,60')\n",
    "(100*infected_by_age/n_by_age).xs(70).cumsum().plot(label='60,100')\n",
    "plt.ylabel(\"% cumulative infected\")\n",
    "plt.legend()"
   ]
  },
  {
   "cell_type": "markdown",
   "metadata": {},
   "source": [
    "### Where people get infected"
   ]
  },
  {
   "cell_type": "code",
   "execution_count": 68,
   "metadata": {},
   "outputs": [],
   "source": [
    "locations_df = infections_df.groupby(['location_specs', \n",
    "                                'timestamp']).size()"
   ]
  },
  {
   "cell_type": "code",
   "execution_count": 69,
   "metadata": {},
   "outputs": [
    {
     "data": {
      "text/plain": [
       "<AxesSubplot:xlabel='timestamp'>"
      ]
     },
     "execution_count": 69,
     "metadata": {},
     "output_type": "execute_result"
    },
    {
     "data": {
      "image/png": "[encoded data removed]",
      "text/plain": [
       "<Figure size 432x288 with 1 Axes>"
      ]
     },
     "metadata": {
      "needs_background": "light"
     },
     "output_type": "display_data"
    }
   ],
   "source": [
    "locations_df.unstack(level=0).plot()"
   ]
  },
  {
   "cell_type": "code",
   "execution_count": 70,
   "metadata": {},
   "outputs": [
    {
     "data": {
      "text/plain": [
       "Text(0.5, 0, 'location')"
      ]
     },
     "execution_count": 70,
     "metadata": {},
     "output_type": "execute_result"
    },
    {
     "data": {
      "image/png": "[encoded data removed]",
      "text/plain": [
       "<Figure size 432x288 with 1 Axes>"
      ]
     },
     "metadata": {
      "needs_background": "light"
     },
     "output_type": "display_data"
    }
   ],
   "source": [
    "import matplotlib.ticker as mtick\n",
    "location_counts_df = locations_df.groupby('location_specs').size()\n",
    "location_counts_df = 100*location_counts_df / location_counts_df.sum()\n",
    "ax = location_counts_df.sort_values().plot.bar()\n",
    "ax.yaxis.set_major_formatter(mtick.PercentFormatter())\n",
    "plt.ylabel('Percentage of infections at location')\n",
    "plt.xlabel('location')"
   ]
  },
  {
   "cell_type": "markdown",
   "metadata": {},
   "source": [
    "# Tracker results"
   ]
  },
  {
   "cell_type": "markdown",
   "metadata": {},
   "source": [
    "We can define custom binnings with bin edges as such."
   ]
  },
  {
   "cell_type": "code",
   "execution_count": 71,
   "metadata": {},
   "outputs": [
    {
     "data": {
      "text/plain": [
       "1"
      ]
     },
     "execution_count": 71,
     "metadata": {},
     "output_type": "execute_result"
    }
   ],
   "source": [
    "simulator.tracker.contract_matrices(\"AC\", np.array([0,18,60]))"
   ]
  },
  {
   "cell_type": "markdown",
   "metadata": {},
   "source": [
    "Lastly we call the tracker to save the results to file and provide a print out of the results."
   ]
  },
  {
   "cell_type": "code",
   "execution_count": 72,
   "metadata": {
    "scrolled": false
   },
   "outputs": [
    {
     "name": "stdout",
     "output_type": "stream",
     "text": [
      "Results from 1D interactions...\n",
      "\n",
      "  communal:\n",
      "    contacts: [[4.04,7.66],[1.23,5.75]]\n",
      "    contacts_err: [[1.42,1.96],[0.79,1.70]]\n",
      "    proportion_physical: [[0.12]]\n",
      "    characteristic_time: 1.00\n",
      "\n",
      "    Ratio of contacts and feed in values: [[0.81,0.95],[0.81,0.96]]\n",
      "\n",
      "  distribution_center:\n",
      "    contacts: [[3.94,13.12],[0.82,10.06]]\n",
      "    contacts_err: [[1.40,2.56],[0.64,2.24]]\n",
      "    proportion_physical: [[0.12]]\n",
      "    characteristic_time: 1.00\n",
      "\n",
      "    Ratio of contacts and feed in values: [[0.99,0.96],[1.03,1.01]]\n",
      "\n",
      "  e_voucher:\n",
      "    contacts: [[0.22,2.08],[0.10,13.45]]\n",
      "    contacts_err: [[0.33,1.02],[0.22,2.59]]\n",
      "    proportion_physical: [[0.12]]\n",
      "    characteristic_time: 1.00\n",
      "\n",
      "    Ratio of contacts and feed in values: [[0.00,1.04],[0.95,1.00]]\n",
      "\n",
      "  female_communal:\n",
      "    contacts: [[4.91,8.23],[1.53,5.98]]\n",
      "    contacts_err: [[1.57,2.03],[0.87,1.73]]\n",
      "    proportion_physical: [[0.12]]\n",
      "    characteristic_time: 1.00\n",
      "\n",
      "    Ratio of contacts and feed in values: [[0.98,1.01],[1.00,1.00]]\n",
      "\n",
      "  hospital:\n",
      "    contacts: [[5.35,0.00,0.00],[0.00,0.00,0.00],[0.00,0.00,0.00]]\n",
      "    contacts_err: [[4.62,0.00,0.00],[0.00,0.00,0.00],[0.00,0.00,0.00]]\n",
      "    proportion_physical: [[0.05,1.00,1.00],[1.00,0.00,0.00],[1.00,0.00,0.00]]\n",
      "    characteristic_time: 8.00\n",
      "\n",
      "    Ratio of contacts and feed in values: [[1.07,0.00,0.00],[0.00,0.00,0.00],[0.00,0.00,0.00]]\n",
      "\n",
      "  informal_work:\n",
      "    contacts: [[5.05]]\n",
      "    contacts_err: [[4.49]]\n",
      "    proportion_physical: [[0.12]]\n",
      "    characteristic_time: 8.00\n",
      "\n",
      "    Ratio of contacts and feed in values: [[1.01]]\n",
      "\n",
      "  isolation_unit:\n",
      "    contacts: [[0.00,0.00],[0.00,0.00]]\n",
      "    contacts_err: [[0.00,0.00],[0.00,0.00]]\n",
      "    proportion_physical: [[0.00,0.00],[0.00,0.00]]\n",
      "    characteristic_time: 24.00\n",
      "\n",
      "    Ratio of contacts and feed in values: [[0.00,0.00],[0.00,0.00]]\n",
      "\n",
      "  learning_center:\n",
      "    contacts: [[9.99,6.39],[1.96,3.86]]\n",
      "    contacts_err: [[2.74,2.19],[1.21,1.70]]\n",
      "    proportion_physical: [[0.12,0.12],[0.12,0.12]]\n",
      "    characteristic_time: 1.50\n",
      "\n",
      "    Ratio of contacts and feed in values: [[1.00,1.00],[0.44,0.99]]\n",
      "\n",
      "  n_f_distribution_center:\n",
      "    contacts: [[3.99,13.48],[0.78,10.01]]\n",
      "    contacts_err: [[1.41,2.60],[0.62,2.24]]\n",
      "    proportion_physical: [[0.12]]\n",
      "    characteristic_time: 1.00\n",
      "\n",
      "    Ratio of contacts and feed in values: [[1.00,0.99],[0.98,1.00]]\n",
      "\n",
      "  play_group:\n",
      "    contacts: [[4.97,0.00,0.00],[0.00,4.97,0.00],[0.00,0.00,4.93]]\n",
      "    contacts_err: [[2.23,0.00,0.00],[0.00,2.23,0.00],[0.00,0.00,2.22]]\n",
      "    proportion_physical: [[0.60,0.00,0.00],[0.00,0.30,0.00],[0.00,0.00,0.15]]\n",
      "    characteristic_time: 2.00\n",
      "\n",
      "    Ratio of contacts and feed in values: [[0.99,0.00,0.00],[0.00,0.99,0.00],[0.00,0.00,0.99]]\n",
      "\n",
      "  pump_latrine:\n",
      "    contacts: [[3.25,9.72],[1.63,4.33]]\n",
      "    contacts_err: [[0.94,1.62],[0.66,1.08]]\n",
      "    proportion_physical: [[0.02]]\n",
      "    characteristic_time: 0.54\n",
      "\n",
      "    Ratio of contacts and feed in values: [[1.00,1.00],[1.00,1.00]]\n",
      "\n",
      "  religious:\n",
      "    contacts: [[4.99,9.40],[1.10,8.50]]\n",
      "    contacts_err: [[1.58,2.17],[0.74,2.06]]\n",
      "    proportion_physical: [[0.12]]\n",
      "    characteristic_time: 1.00\n",
      "\n",
      "    Ratio of contacts and feed in values: [[1.00,0.99],[1.00,1.00]]\n",
      "\n",
      "  shelter:\n",
      "    contacts: [[5.50,2.94],[2.94,5.50]]\n",
      "    contacts_err: [[3.64,3.55],[3.55,3.64]]\n",
      "    proportion_physical: [[0.80,0.30],[0.80,0.30]]\n",
      "    characteristic_time: 12.00\n",
      "\n",
      "    Ratio of contacts and feed in values: [[1.10,1.47],[1.47,1.10]]\n",
      "\n",
      "Results from all contacts all interactions...\n",
      "\n",
      "  communal:\n",
      "    contacts: [[0.16,0.34],[0.14,0.36]]\n",
      "    contacts_err: [[0.28,0.41],[0.27,0.42]]\n",
      "    proportion_physical: [[0.12]]\n",
      "    characteristic_time: 1.00\n",
      "\n",
      "    Ratio of contacts and feed in values: [[0.03,0.04],[0.09,0.06]]\n",
      "\n",
      "  distribution_center:\n",
      "    contacts: [[0.14,0.36],[0.14,0.36]]\n",
      "    contacts_err: [[0.26,0.43],[0.26,0.43]]\n",
      "    proportion_physical: [[0.12]]\n",
      "    characteristic_time: 1.00\n",
      "\n",
      "    Ratio of contacts and feed in values: [[0.03,0.03],[0.17,0.04]]\n",
      "\n",
      "  e_voucher:\n",
      "    contacts: [[0.14,0.36],[0.14,0.36]]\n",
      "    contacts_err: [[0.27,0.42],[0.27,0.42]]\n",
      "    proportion_physical: [[0.12]]\n",
      "    characteristic_time: 1.00\n",
      "\n",
      "    Ratio of contacts and feed in values: [[0.00,0.18],[1.41,0.03]]\n",
      "\n",
      "  female_communal:\n",
      "    contacts: [[0.26,0.24],[0.26,0.24]]\n",
      "    contacts_err: [[0.36,0.34],[0.36,0.34]]\n",
      "    proportion_physical: [[0.12]]\n",
      "    characteristic_time: 1.00\n",
      "\n",
      "    Ratio of contacts and feed in values: [[0.05,0.03],[0.17,0.04]]\n",
      "\n",
      "  hospital:\n",
      "    contacts: [[4.00,0.00,0.00],[0.00,0.00,0.00],[0.00,0.00,0.00]]\n",
      "    contacts_err: [[4.00,0.00,0.00],[0.00,0.00,0.00],[0.00,0.00,0.00]]\n",
      "    proportion_physical: [[0.05,1.00,1.00],[1.00,0.00,0.00],[1.00,0.00,0.00]]\n",
      "    characteristic_time: 8.00\n",
      "\n",
      "    Ratio of contacts and feed in values: [[0.80,0.00,0.00],[0.00,0.00,0.00],[0.00,0.00,0.00]]\n",
      "\n",
      "  informal_work:\n",
      "    contacts: [[4.00]]\n",
      "    contacts_err: [[4.00]]\n",
      "    proportion_physical: [[0.12]]\n",
      "    characteristic_time: 8.00\n",
      "\n",
      "    Ratio of contacts and feed in values: [[0.80]]\n",
      "\n",
      "  isolation_unit:\n",
      "    contacts: [[0.00,0.00],[0.00,0.00]]\n",
      "    contacts_err: [[0.00,0.00],[0.00,0.00]]\n",
      "    proportion_physical: [[0.00,0.00],[0.00,0.00]]\n",
      "    characteristic_time: 24.00\n",
      "\n",
      "    Ratio of contacts and feed in values: [[0.00,0.00],[0.00,0.00]]\n",
      "\n",
      "  learning_center:\n",
      "    contacts: [[0.56,0.19],[0.25,0.50]]\n",
      "    contacts_err: [[0.65,0.38],[0.43,0.61]]\n",
      "    proportion_physical: [[0.12,0.12],[0.12,0.12]]\n",
      "    characteristic_time: 1.50\n",
      "\n",
      "    Ratio of contacts and feed in values: [[0.06,0.03],[0.06,0.13]]\n",
      "\n",
      "  n_f_distribution_center:\n",
      "    contacts: [[0.14,0.36],[0.14,0.36]]\n",
      "    contacts_err: [[0.26,0.43],[0.26,0.43]]\n",
      "    proportion_physical: [[0.12]]\n",
      "    characteristic_time: 1.00\n",
      "\n",
      "    Ratio of contacts and feed in values: [[0.03,0.03],[0.17,0.04]]\n",
      "\n",
      "  play_group:\n",
      "    contacts: [[0.00,0.00,0.00],[0.00,0.00,0.00],[0.00,0.00,0.00]]\n",
      "    contacts_err: [[0.00,0.01,0.00],[0.01,0.00,0.00],[0.00,0.00,0.00]]\n",
      "    proportion_physical: [[0.60,0.00,0.00],[0.00,0.30,0.00],[0.00,0.00,0.15]]\n",
      "    characteristic_time: 2.00\n",
      "\n",
      "    Ratio of contacts and feed in values: [[0.00,0.00,0.00],[0.00,0.00,0.00],[0.00,0.00,0.00]]\n",
      "\n",
      "  pump_latrine:\n",
      "    contacts: [[0.15,0.12],[0.15,0.12]]\n",
      "    contacts_err: [[0.20,0.18],[0.20,0.18]]\n",
      "    proportion_physical: [[0.02]]\n",
      "    characteristic_time: 0.54\n",
      "\n",
      "    Ratio of contacts and feed in values: [[0.05,0.01],[0.09,0.03]]\n",
      "\n",
      "  religious:\n",
      "    contacts: [[0.16,0.34],[0.15,0.35]]\n",
      "    contacts_err: [[0.28,0.42],[0.28,0.42]]\n",
      "    proportion_physical: [[0.12]]\n",
      "    characteristic_time: 1.00\n",
      "\n",
      "    Ratio of contacts and feed in values: [[0.03,0.04],[0.14,0.04]]\n",
      "\n",
      "  shelter:\n",
      "    contacts: [[0.69,0.24],[0.24,0.69]]\n",
      "    contacts_err: [[1.29,1.02],[1.02,1.29]]\n",
      "    proportion_physical: [[0.80,0.30],[0.80,0.30]]\n",
      "    characteristic_time: 12.00\n",
      "\n",
      "    Ratio of contacts and feed in values: [[0.14,0.12],[0.12,0.14]]\n",
      "\n"
     ]
    },
    {
     "data": {
      "text/plain": [
       "1"
      ]
     },
     "execution_count": 72,
     "metadata": {},
     "output_type": "execute_result"
    }
   ],
   "source": [
    "simulator.tracker.post_process_simulation(save=True)"
   ]
  },
  {
   "cell_type": "code",
   "execution_count": null,
   "metadata": {},
   "outputs": [],
   "source": []
  }
 ],
 "metadata": {
  "kernelspec": {
   "display_name": "Python 3 (ipykernel)",
   "language": "python",
   "name": "python3"
  },
  "language_info": {
   "codemirror_mode": {
    "name": "ipython",
    "version": 3
   },
   "file_extension": ".py",
   "mimetype": "text/x-python",
   "name": "python",
   "nbconvert_exporter": "python",
   "pygments_lexer": "ipython3",
   "version": "3.8.10"
  }
 },
 "nbformat": 4,
 "nbformat_minor": 4
}
