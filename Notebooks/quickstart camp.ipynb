{
 "cells": [
  {
   "cell_type": "code",
   "execution_count": 1,
   "metadata": {},
   "outputs": [],
   "source": [
    "import warnings\n",
    "warnings.filterwarnings('ignore')"
   ]
  },
  {
   "cell_type": "code",
   "execution_count": 2,
   "metadata": {},
   "outputs": [],
   "source": [
    "import numpy as np\n",
    "import pandas as pd\n",
    "import time\n",
    "import matplotlib.pyplot as plt\n",
    "import seaborn as sns\n",
    "from datetime import datetime\n",
    "import sys\n",
    "import argparse\n",
    "from pathlib import Path\n",
    "sns.set_context('notebook')"
   ]
  },
  {
   "cell_type": "code",
   "execution_count": 3,
   "metadata": {},
   "outputs": [
    {
     "name": "stderr",
     "output_type": "stream",
     "text": [
      "No --data argument given - defaulting to:\n",
      "/Users/josephbullock/Documents/campmodelling/UNGP-settlement-modelling-private/data\n",
      "No --configs argument given - defaulting to:\n",
      "/Users/josephbullock/Documents/campmodelling/UNGP-settlement-modelling-private/campmodelling-private/lib/python3.7/site-packages/june/configs\n"
     ]
    },
    {
     "name": "stdout",
     "output_type": "stream",
     "text": [
      "2021-03-23 14:47:21,143 - camps.paths - WARNING - No --camp_data argument given - defaulting to:\n",
      "/Users/josephbullock/Documents/campmodelling/UNGP-settlement-modelling-private/camp_data\n",
      "2021-03-23 14:47:21,143 - camps.paths - WARNING - No --configs_camps argument given - defaulting to:\n",
      "/Users/josephbullock/Documents/campmodelling/UNGP-settlement-modelling-private/configs_camps\n"
     ]
    }
   ],
   "source": [
    "from june.geography import Geography\n",
    "from june.demography.demography import (\n",
    "    load_age_and_sex_generators_for_bins,\n",
    "    Demography,\n",
    "    Population,\n",
    "    load_comorbidity_data,\n",
    "    generate_comorbidity,\n",
    ")\n",
    "from june.paths import data_path, configs_path\n",
    "from june.infection import Infection, HealthIndexGenerator\n",
    "from june.infection_seed import InfectionSeed\n",
    "from june.infection import InfectionSelector, InfectionSelectors\n",
    "from june.interaction import Interaction\n",
    "from june.groups import Hospital, Hospitals, Cemeteries\n",
    "from june.distributors import HospitalDistributor\n",
    "from june.hdf5_savers import generate_world_from_hdf5\n",
    "from june.policy import Policy, Policies\n",
    "from june.records import Record\n",
    "from june.simulator import Simulator\n",
    "from june.records import Record, RecordReader\n",
    "\n",
    "from camps.activity import CampActivityManager\n",
    "from camps.paths import camp_data_path, camp_configs_path\n",
    "from camps.world import World\n",
    "from camps.groups.leisure import generate_leisure_for_world, generate_leisure_for_config\n",
    "from camps.camp_creation import (\n",
    "    generate_empty_world,\n",
    "    populate_world,\n",
    "    distribute_people_to_households,\n",
    ")  # this is loaded from the ../camp_scripts folder"
   ]
  },
  {
   "cell_type": "code",
   "execution_count": 4,
   "metadata": {},
   "outputs": [],
   "source": [
    "from camps.groups import PumpLatrines, PumpLatrineDistributor\n",
    "from camps.groups import DistributionCenters, DistributionCenterDistributor\n",
    "from camps.groups import Communals, CommunalDistributor\n",
    "from camps.groups import FemaleCommunals, FemaleCommunalDistributor\n",
    "from camps.groups import Religiouss, ReligiousDistributor\n",
    "from camps.groups import Shelter, Shelters, ShelterDistributor\n",
    "from camps.groups import IsolationUnit, IsolationUnits\n",
    "from camps.groups import LearningCenters\n",
    "from camps.distributors import LearningCenterDistributor\n",
    "from camps.groups import PlayGroups, PlayGroupDistributor\n",
    "from camps.groups import EVouchers, EVoucherDistributor\n",
    "from camps.groups import NFDistributionCenters, NFDistributionCenterDistributor\n",
    "from camps.groups import SheltersVisitsDistributor"
   ]
  },
  {
   "cell_type": "markdown",
   "metadata": {},
   "source": [
    "## Initialize the world"
   ]
  },
  {
   "cell_type": "markdown",
   "metadata": {},
   "source": [
    "When we create the camp to be simulated, we call this the 'world'. The world is initialised after specifying which geographical regions you want to simulate. We can do this by using the `filter_key` argument in the `generate_empty_world` function. Cox's Bazar Expansion Site is made up of camps (which we call regions), UNHCR blocks (which we call super areas) and Mahjee blocks (which we call areas). These are the 3 heirarchical levels on which our model works. You can pass lists of the regions/super_areas/areas to the function here. Alternatively, by leaving the function empty you can generate the entire Cox's Bazar Expansion Site consisting of 112 super areas."
   ]
  },
  {
   "cell_type": "code",
   "execution_count": 5,
   "metadata": {},
   "outputs": [
    {
     "name": "stdout",
     "output_type": "stream",
     "text": [
      "2021-03-23 14:47:21,517 - june.geography.geography - INFO - There are 65 areas and 4 super_areas and 1 regions in the world.\n"
     ]
    }
   ],
   "source": [
    "# create empty world's geography\n",
    "world = generate_empty_world(filter_key = {\"region\" : [\"CXB-219\"]})"
   ]
  },
  {
   "cell_type": "code",
   "execution_count": 6,
   "metadata": {},
   "outputs": [],
   "source": [
    "# populate empty world\n",
    "populate_world(world)"
   ]
  },
  {
   "cell_type": "code",
   "execution_count": 7,
   "metadata": {},
   "outputs": [],
   "source": [
    "# distribute people to households\n",
    "distribute_people_to_households(world)"
   ]
  },
  {
   "cell_type": "code",
   "execution_count": 8,
   "metadata": {},
   "outputs": [
    {
     "name": "stdout",
     "output_type": "stream",
     "text": [
      "2021-03-23 14:47:22,062 - hospitals - INFO - There are 8 hospitals in the world.\n"
     ]
    }
   ],
   "source": [
    "# distirbute hospitals\n",
    "hospitals = Hospitals.from_file(\n",
    "    filename=camp_data_path / \"input/hospitals/hospitals.csv\"\n",
    ")\n",
    "for hospital in hospitals:\n",
    "    hospital.area = world.areas.get_closest_area(hospital.coordinates)\n",
    "world.hospitals = hospitals\n",
    "hospital_distributor = HospitalDistributor(\n",
    "    hospitals, medic_min_age=20, patients_per_medic=10\n",
    ")\n",
    "hospital_distributor.assign_closest_hospitals_to_super_areas(\n",
    "    world.super_areas\n",
    ")\n",
    "hospital_distributor.distribute_medics_from_world(world.people)"
   ]
  },
  {
   "cell_type": "code",
   "execution_count": 9,
   "metadata": {},
   "outputs": [
    {
     "name": "stdout",
     "output_type": "stream",
     "text": [
      "2021-03-23 14:47:22,090 - social_venue - INFO - Domain 0 has 225 pump_latrines(s)\n",
      "2021-03-23 14:47:22,175 - social_venue - INFO - Domain 0 has 507 play_groups(s)\n",
      "2021-03-23 14:47:22,182 - social_venue - INFO - Domain 0 has 7 distribution_centers(s)\n",
      "2021-03-23 14:47:22,219 - social_venue - INFO - Domain 0 has 125 communals(s)\n",
      "2021-03-23 14:47:22,239 - social_venue - INFO - Domain 0 has 67 female_communals(s)\n",
      "2021-03-23 14:47:22,657 - social_venue - INFO - Domain 0 has 2064 religiouss(s)\n",
      "2021-03-23 14:47:22,666 - social_venue - INFO - Domain 0 has 7 e_vouchers(s)\n",
      "2021-03-23 14:47:22,676 - social_venue - INFO - Domain 0 has 36 n_f_distribution_centers(s)\n"
     ]
    }
   ],
   "source": [
    "world.pump_latrines = PumpLatrines.for_areas(world.areas)\n",
    "world.play_groups = PlayGroups.for_areas(world.areas)\n",
    "world.distribution_centers = DistributionCenters.for_areas(world.areas)\n",
    "world.communals = Communals.for_areas(world.areas)\n",
    "world.female_communals = FemaleCommunals.for_areas(world.areas)\n",
    "world.religiouss = Religiouss.for_areas(world.areas)\n",
    "world.e_vouchers = EVouchers.for_areas(world.areas)\n",
    "world.n_f_distribution_centers = NFDistributionCenters.for_areas(world.areas)"
   ]
  },
  {
   "cell_type": "code",
   "execution_count": 10,
   "metadata": {},
   "outputs": [],
   "source": [
    "world.cemeteries = Cemeteries()"
   ]
  },
  {
   "cell_type": "markdown",
   "metadata": {},
   "source": [
    "## Geography exploration"
   ]
  },
  {
   "cell_type": "markdown",
   "metadata": {},
   "source": [
    "The geography is initialised first and can be explored."
   ]
  },
  {
   "cell_type": "markdown",
   "metadata": {},
   "source": [
    "### UNHCR camp blocks inside the World"
   ]
  },
  {
   "cell_type": "code",
   "execution_count": 11,
   "metadata": {},
   "outputs": [],
   "source": [
    "super_areas = []\n",
    "for super_area in world.super_areas:\n",
    "    super_areas.append(super_area.name)"
   ]
  },
  {
   "cell_type": "code",
   "execution_count": 12,
   "metadata": {},
   "outputs": [
    {
     "data": {
      "text/plain": [
       "['CXB-219-A', 'CXB-219-B', 'CXB-219-C', 'CXB-219-D']"
      ]
     },
     "execution_count": 12,
     "metadata": {},
     "output_type": "execute_result"
    }
   ],
   "source": [
    "super_areas[:5]"
   ]
  },
  {
   "cell_type": "markdown",
   "metadata": {},
   "source": [
    "### Mahjee blocks inside World"
   ]
  },
  {
   "cell_type": "code",
   "execution_count": 13,
   "metadata": {},
   "outputs": [],
   "source": [
    "areas = []\n",
    "for area in world.areas:\n",
    "    areas.append(area.name)"
   ]
  },
  {
   "cell_type": "code",
   "execution_count": 14,
   "metadata": {},
   "outputs": [
    {
     "data": {
      "text/plain": [
       "['CXB-219-001', 'CXB-219-002', 'CXB-219-003', 'CXB-219-004', 'CXB-219-005']"
      ]
     },
     "execution_count": 14,
     "metadata": {},
     "output_type": "execute_result"
    }
   ],
   "source": [
    "areas[:5]"
   ]
  },
  {
   "cell_type": "markdown",
   "metadata": {},
   "source": [
    "## Demography exploration"
   ]
  },
  {
   "cell_type": "markdown",
   "metadata": {},
   "source": [
    "Once we have populated the 'digital twin' we can explore some of the attributes of the people we have created in the simulation."
   ]
  },
  {
   "cell_type": "markdown",
   "metadata": {},
   "source": [
    "### UNHCR block residents"
   ]
  },
  {
   "cell_type": "code",
   "execution_count": 15,
   "metadata": {},
   "outputs": [],
   "source": [
    "sample_ages = []\n",
    "sample_sexes = []\n",
    "for person in world.super_areas.members[0].people:\n",
    "    sample_ages.append(person.age)\n",
    "    sample_sexes.append(person.sex)"
   ]
  },
  {
   "cell_type": "code",
   "execution_count": 16,
   "metadata": {},
   "outputs": [
    {
     "data": {
      "text/plain": [
       "(['m', 'f', 'f', 'f', 'f'], [35, 40, 22, 50, 33])"
      ]
     },
     "execution_count": 16,
     "metadata": {},
     "output_type": "execute_result"
    }
   ],
   "source": [
    "sample_sexes[:5], sample_ages[:5]"
   ]
  },
  {
   "cell_type": "code",
   "execution_count": 17,
   "metadata": {},
   "outputs": [
    {
     "data": {
      "image/png": "[encoded data removed]",
      "text/plain": [
       "<Figure size 432x288 with 1 Axes>"
      ]
     },
     "metadata": {
      "needs_background": "light"
     },
     "output_type": "display_data"
    }
   ],
   "source": [
    "ages, counts = np.unique(sample_ages, return_counts=True)\n",
    "plt.bar(ages, counts)\n",
    "plt.title('super area: {} age distribution'.format(world.super_areas.members[0].name))\n",
    "plt.show()"
   ]
  },
  {
   "cell_type": "code",
   "execution_count": 18,
   "metadata": {},
   "outputs": [
    {
     "name": "stdout",
     "output_type": "stream",
     "text": [
      "The % children between ages 0-16 is 49%\n"
     ]
    }
   ],
   "source": [
    "print ('The % children between ages 0-16 is {}%'.format(round(np.sum(counts[:16])/(np.sum(counts[:16])+np.sum(counts[16:]))*100)))"
   ]
  },
  {
   "cell_type": "markdown",
   "metadata": {},
   "source": [
    "## Households"
   ]
  },
  {
   "cell_type": "markdown",
   "metadata": {},
   "source": [
    "In this model, we will use the term 'family' and 'household' interchangeably. After populating the 'digital twin', we need to cluster people into families. To do this, we take account of age structure so that children live with adults, that there are some intergenerational households and such that we might also have some households of only adults."
   ]
  },
  {
   "cell_type": "markdown",
   "metadata": {},
   "source": [
    "### Household size distribution"
   ]
  },
  {
   "cell_type": "code",
   "execution_count": 19,
   "metadata": {},
   "outputs": [
    {
     "data": {
      "image/png": "[encoded data removed]",
      "text/plain": [
       "<Figure size 432x288 with 1 Axes>"
      ]
     },
     "metadata": {
      "needs_background": "light"
     },
     "output_type": "display_data"
    }
   ],
   "source": [
    "household_sizes = [household.size for household in world.households]\n",
    "plt.hist(household_sizes, density=True, bins=np.arange(0,12))\n",
    "plt.xlabel(\"Household size\")\n",
    "plt.ylabel(\"Frequency\")\n",
    "plt.axvline(np.mean(household_sizes), color=\"cyan\")\n",
    "plt.text(8, 0.150, f\"Avg. size: {(np.mean(household_sizes)):.2f}\")\n",
    "plt.show()"
   ]
  },
  {
   "cell_type": "markdown",
   "metadata": {},
   "source": [
    "# Shelters"
   ]
  },
  {
   "cell_type": "markdown",
   "metadata": {},
   "source": [
    "Shelters house people in the camp. Since we know that families (houseohlds) often share shelters with other families, we can set the `sharing_shelter_ratio` to cluster families into shared shelters."
   ]
  },
  {
   "cell_type": "code",
   "execution_count": 20,
   "metadata": {},
   "outputs": [],
   "source": [
    "world.shelters = Shelters.for_areas(world.areas)\n",
    "shelter_distributor = ShelterDistributor(sharing_shelter_ratio = 0.75) # proportion of families that share a shelter\n",
    "for area in world.areas:\n",
    "    shelter_distributor.distribute_people_in_shelters(area.shelters, area.households)"
   ]
  },
  {
   "cell_type": "code",
   "execution_count": 21,
   "metadata": {},
   "outputs": [
    {
     "data": {
      "image/png": "[encoded data removed]",
      "text/plain": [
       "<Figure size 576x216 with 2 Axes>"
      ]
     },
     "metadata": {
      "needs_background": "light"
     },
     "output_type": "display_data"
    }
   ],
   "source": [
    "fig, ax = plt.subplots(1, 2, figsize=(8,3))\n",
    "shelter_sizes = [shelter.size for shelter in world.shelters]\n",
    "shelter_families = [shelter.n_families for shelter in world.shelters]\n",
    "ax[0].hist(shelter_sizes)\n",
    "ax[0].set_title(\"Shelter size\")\n",
    "shelter_families = {1 : len([shelter for shelter in world.shelters if shelter.n_families == 1]),\n",
    "                    2 : len([shelter for shelter in world.shelters if shelter.n_families == 2])}\n",
    "ax[1].bar(shelter_families.keys(), shelter_families.values())\n",
    "ax[1].set_title(\"# families per shelter\")\n",
    "plt.show()"
   ]
  },
  {
   "cell_type": "markdown",
   "metadata": {},
   "source": [
    "## Activity exploration"
   ]
  },
  {
   "cell_type": "markdown",
   "metadata": {},
   "source": [
    "Once different activity locations are seeded in the 'digital twin' we can explore how many there are in different areas of the twin, and their coordinates to check they've all been added correctly."
   ]
  },
  {
   "cell_type": "markdown",
   "metadata": {},
   "source": [
    "### Pumps and latrines "
   ]
  },
  {
   "cell_type": "code",
   "execution_count": 22,
   "metadata": {},
   "outputs": [],
   "source": [
    "pumps_and_latrines = []\n",
    "for pump_latrine in world.areas.members[0].pump_latrines:\n",
    "    pumps_and_latrines.append(pump_latrine)"
   ]
  },
  {
   "cell_type": "code",
   "execution_count": 23,
   "metadata": {},
   "outputs": [
    {
     "name": "stdout",
     "output_type": "stream",
     "text": [
      "There are 4 pumps and latrines in area CXB-219-001\n"
     ]
    }
   ],
   "source": [
    "print ('There are {} pumps and latrines in area {}'.format(len(pumps_and_latrines), world.areas.members[0].name))"
   ]
  },
  {
   "cell_type": "markdown",
   "metadata": {},
   "source": [
    "### Distribution centers"
   ]
  },
  {
   "cell_type": "code",
   "execution_count": 24,
   "metadata": {},
   "outputs": [],
   "source": [
    "distribution_centers = []\n",
    "for center in world.distribution_centers:\n",
    "    distribution_centers.append(center)"
   ]
  },
  {
   "cell_type": "code",
   "execution_count": 25,
   "metadata": {},
   "outputs": [
    {
     "data": {
      "text/plain": [
       "array([21.21176333, 92.13597667])"
      ]
     },
     "execution_count": 25,
     "metadata": {},
     "output_type": "execute_result"
    }
   ],
   "source": [
    "distribution_centers[0].coordinates"
   ]
  },
  {
   "cell_type": "markdown",
   "metadata": {},
   "source": [
    "### Non-food Distribution centers"
   ]
  },
  {
   "cell_type": "code",
   "execution_count": 26,
   "metadata": {},
   "outputs": [],
   "source": [
    "non_food_distribution_centers = []\n",
    "for center in world.n_f_distribution_centers:\n",
    "    non_food_distribution_centers.append(center)"
   ]
  },
  {
   "cell_type": "code",
   "execution_count": 27,
   "metadata": {},
   "outputs": [
    {
     "data": {
      "text/plain": [
       "array([21.1962 , 92.14936])"
      ]
     },
     "execution_count": 27,
     "metadata": {},
     "output_type": "execute_result"
    }
   ],
   "source": [
    "non_food_distribution_centers[0].coordinates"
   ]
  },
  {
   "cell_type": "markdown",
   "metadata": {},
   "source": [
    "### E-Voucher outlets"
   ]
  },
  {
   "cell_type": "code",
   "execution_count": 28,
   "metadata": {},
   "outputs": [],
   "source": [
    "e_voucher_outlets = []\n",
    "for center in world.e_vouchers:\n",
    "    e_voucher_outlets.append(center)"
   ]
  },
  {
   "cell_type": "code",
   "execution_count": 29,
   "metadata": {},
   "outputs": [
    {
     "data": {
      "text/plain": [
       "array([21.21176333, 92.13597667])"
      ]
     },
     "execution_count": 29,
     "metadata": {},
     "output_type": "execute_result"
    }
   ],
   "source": [
    "e_voucher_outlets[0].coordinates"
   ]
  },
  {
   "cell_type": "markdown",
   "metadata": {},
   "source": [
    "### Communal spaces"
   ]
  },
  {
   "cell_type": "code",
   "execution_count": 30,
   "metadata": {},
   "outputs": [],
   "source": [
    "communal_spaces = []\n",
    "for space in world.communals:\n",
    "    communal_spaces.append(space)"
   ]
  },
  {
   "cell_type": "code",
   "execution_count": 31,
   "metadata": {},
   "outputs": [
    {
     "data": {
      "text/plain": [
       "array([21.19621, 92.14924])"
      ]
     },
     "execution_count": 31,
     "metadata": {},
     "output_type": "execute_result"
    }
   ],
   "source": [
    "communal_spaces[0].coordinates"
   ]
  },
  {
   "cell_type": "markdown",
   "metadata": {},
   "source": [
    "### Female friendly communal spaces"
   ]
  },
  {
   "cell_type": "code",
   "execution_count": 32,
   "metadata": {},
   "outputs": [],
   "source": [
    "female_communal_spaces = []\n",
    "for space in world.female_communals:\n",
    "    female_communal_spaces.append(space)"
   ]
  },
  {
   "cell_type": "code",
   "execution_count": 33,
   "metadata": {},
   "outputs": [
    {
     "data": {
      "text/plain": [
       "array([21.19588, 92.152  ])"
      ]
     },
     "execution_count": 33,
     "metadata": {},
     "output_type": "execute_result"
    }
   ],
   "source": [
    "female_communal_spaces[0].coordinates"
   ]
  },
  {
   "cell_type": "markdown",
   "metadata": {},
   "source": [
    "### Religious sites"
   ]
  },
  {
   "cell_type": "code",
   "execution_count": 34,
   "metadata": {},
   "outputs": [],
   "source": [
    "religious = []\n",
    "for rel in world.religiouss:\n",
    "    religious.append(rel)"
   ]
  },
  {
   "cell_type": "code",
   "execution_count": 35,
   "metadata": {},
   "outputs": [
    {
     "data": {
      "text/plain": [
       "array([21.20069, 92.15216])"
      ]
     },
     "execution_count": 35,
     "metadata": {},
     "output_type": "execute_result"
    }
   ],
   "source": [
    "religious[0].coordinates"
   ]
  },
  {
   "cell_type": "markdown",
   "metadata": {},
   "source": [
    "# Adding the infection"
   ]
  },
  {
   "cell_type": "markdown",
   "metadata": {},
   "source": [
    "The selector handles how infections are handled in the code. You can set different 'symptom trajectories' (e.g. exposed->mild->severe->hospitalised->intensive care) from different files. Here, we use the default."
   ]
  },
  {
   "cell_type": "code",
   "execution_count": 36,
   "metadata": {},
   "outputs": [],
   "source": [
    "selector = InfectionSelector.from_file()"
   ]
  },
  {
   "cell_type": "markdown",
   "metadata": {},
   "source": [
    "# Adding the interaction"
   ]
  },
  {
   "cell_type": "markdown",
   "metadata": {},
   "source": [
    "The interaction class handles how many contacts people have in different locations and with who. If contact matrices are available, these can be coded in a `.yaml` file and fed into the class here."
   ]
  },
  {
   "cell_type": "code",
   "execution_count": 37,
   "metadata": {},
   "outputs": [],
   "source": [
    "interaction = Interaction.from_file(\n",
    "    config_filename=camp_configs_path / \"defaults/interaction/\" / \"ContactInteraction_med_low_low_low.yaml\",\n",
    "    population=world.people,\n",
    ")"
   ]
  },
  {
   "cell_type": "markdown",
   "metadata": {},
   "source": [
    "# Set policies"
   ]
  },
  {
   "cell_type": "markdown",
   "metadata": {},
   "source": [
    "Policies control how 'operational interventions' are set in the camp. Here we set some social distancing policies, policies relating to medical care, such as people with severe symptoms being hospitalised, and individual and activity policies which can dynamically change how often and where people go, e.g. here, we close all female communal spaces and non-food distirbution centers which the camp did back in March"
   ]
  },
  {
   "cell_type": "code",
   "execution_count": 38,
   "metadata": {},
   "outputs": [],
   "source": [
    "policies = Policies.from_file(\n",
    "        camp_configs_path / \"defaults/policy/vaccine.yaml\",\n",
    "        base_policy_modules=(\"june.policy\", \"camps.policy\"),\n",
    "    )"
   ]
  },
  {
   "cell_type": "code",
   "execution_count": 39,
   "metadata": {},
   "outputs": [
    {
     "data": {
      "text/plain": [
       "[<june.policy.interaction_policies.SocialDistancing at 0x7f95998bd910>,\n",
       " <june.policy.medical_care_policies.Hospitalisation at 0x7f95998bdd90>,\n",
       " <june.policy.individual_policies.SevereSymptomsStayHome at 0x7f95998bdd10>,\n",
       " <june.policy.individual_policies.Quarantine at 0x7f95998bde10>,\n",
       " <june.policy.vaccine_policy.VaccineDistribution at 0x7f95998bd990>,\n",
       " <june.policy.vaccine_policy.VaccineDistribution at 0x7f95998bdb10>,\n",
       " <june.policy.leisure_policies.CloseLeisureVenue at 0x7f95998bd750>,\n",
       " <june.policy.leisure_policies.ChangeLeisureProbability at 0x7f95998bdc10>,\n",
       " <june.policy.leisure_policies.ChangeLeisureProbability at 0x7f95998bd790>]"
      ]
     },
     "execution_count": 39,
     "metadata": {},
     "output_type": "execute_result"
    }
   ],
   "source": [
    "policies.policies"
   ]
  },
  {
   "cell_type": "markdown",
   "metadata": {},
   "source": [
    "# Seed the disease"
   ]
  },
  {
   "cell_type": "markdown",
   "metadata": {},
   "source": [
    "Set intial seeding conditions. This can be done at the camp level specifically, or generally by seeding them randomly. Here the `n_cases` is the number of randomly seeded people over the entire population."
   ]
  },
  {
   "cell_type": "code",
   "execution_count": 40,
   "metadata": {},
   "outputs": [],
   "source": [
    "infection_seed = InfectionSeed(\n",
    "    world=world, infection_selector=selector, \n",
    ")\n",
    "infection_seed.unleash_virus(n_cases=5, population=world.people, time=0)"
   ]
  },
  {
   "cell_type": "markdown",
   "metadata": {},
   "source": [
    "## Select config file"
   ]
  },
  {
   "cell_type": "markdown",
   "metadata": {},
   "source": [
    "Before running the simualtion we must select the config file which defines how the world is set up and the simualtor will work. Specifically, the condif file specifies which activities will be included, how long we'll run the simualtion for, what the initial starting day will be and what the structure of weekdays and weekends will look like (if different)"
   ]
  },
  {
   "cell_type": "code",
   "execution_count": 41,
   "metadata": {},
   "outputs": [],
   "source": [
    "CONFIG_PATH = \"../configs_camps/config_demo.yaml\""
   ]
  },
  {
   "cell_type": "markdown",
   "metadata": {},
   "source": [
    "# Initialise activities"
   ]
  },
  {
   "cell_type": "markdown",
   "metadata": {},
   "source": [
    "The final step to intialising the simulator class which brings all of this together is to inialise all the activity distirbutors (the term 'leisure' is a legacy of the original version of this code used for modelling COVID-19 in the UK). This will mean that people know where they can go at and given time."
   ]
  },
  {
   "cell_type": "code",
   "execution_count": 42,
   "metadata": {},
   "outputs": [
    {
     "name": "stdout",
     "output_type": "stream",
     "text": [
      "2021-03-23 14:47:23,931 - leisure - INFO - Linking households and care homes for visits\n",
      "2021-03-23 14:47:23,931 - leisure - INFO - Done\n",
      "2021-03-23 14:47:23,932 - leisure - INFO - Distributing social venues to areas\n",
      "2021-03-23 14:47:23,932 - leisure - INFO - Distributed in 0 of 65 areas.\n",
      "2021-03-23 14:47:24,032 - leisure - INFO - Distributed in 65 of 65 areas.\n"
     ]
    }
   ],
   "source": [
    "leisure = generate_leisure_for_config(world=world, config_filename=CONFIG_PATH)\n",
    "leisure.leisure_distributors = {}\n",
    "leisure.leisure_distributors[\"pump_latrine\"] = PumpLatrineDistributor.from_config(\n",
    "    world.pump_latrines\n",
    ")\n",
    "leisure.leisure_distributors[\"play_group\"] = PlayGroupDistributor.from_config(\n",
    "    world.play_groups\n",
    ")\n",
    "leisure.leisure_distributors[\n",
    "    \"distribution_center\"\n",
    "] = DistributionCenterDistributor.from_config(world.distribution_centers)\n",
    "leisure.leisure_distributors[\"communal\"] = CommunalDistributor.from_config(\n",
    "    world.communals\n",
    ")\n",
    "leisure.leisure_distributors[\n",
    "    \"female_communals\"\n",
    "] = FemaleCommunalDistributor.from_config(world.female_communals)\n",
    "leisure.leisure_distributors[\"religious\"] = ReligiousDistributor.from_config(\n",
    "    world.religiouss\n",
    ")\n",
    "leisure.leisure_distributors[\"e_voucher\"] = EVoucherDistributor.from_config(\n",
    "    world.e_vouchers\n",
    ")\n",
    "leisure.leisure_distributors[\n",
    "    \"n_f_distribution_center\"\n",
    "] = NFDistributionCenterDistributor.from_config(world.n_f_distribution_centers)\n",
    "leisure.leisure_distributors[\n",
    "    \"shelters_visits\"\n",
    "] = SheltersVisitsDistributor.from_config()\n",
    "leisure.leisure_distributors[\"shelters_visits\"].link_shelters_to_shelters(\n",
    "    world.super_areas\n",
    ")\n",
    "# associate social activities to shelters\n",
    "leisure.distribute_social_venues_to_areas(world.areas, world.super_areas)"
   ]
  },
  {
   "cell_type": "markdown",
   "metadata": {},
   "source": [
    "# Initialise simulator and run"
   ]
  },
  {
   "cell_type": "markdown",
   "metadata": {},
   "source": [
    "The recorder is defined which will log all interactions and infections in the simualation for later analysis. The `record_path` can be changed to any path where you want the recorded data to be stored."
   ]
  },
  {
   "cell_type": "code",
   "execution_count": 43,
   "metadata": {},
   "outputs": [],
   "source": [
    "record = Record(\n",
    "    record_path='results', record_static_data=True\n",
    ")\n",
    "record.static_data(world=world)"
   ]
  },
  {
   "cell_type": "markdown",
   "metadata": {},
   "source": [
    "The simulator is defined with all the different necessary components we have built up so far"
   ]
  },
  {
   "cell_type": "code",
   "execution_count": 44,
   "metadata": {},
   "outputs": [],
   "source": [
    "Simulator.ActivityManager = CampActivityManager\n",
    "simulator = Simulator.from_file(\n",
    "    world=world,\n",
    "    interaction=interaction,\n",
    "    leisure=leisure,\n",
    "    policies=policies,\n",
    "    config_filename=CONFIG_PATH,\n",
    "    infection_selectors=InfectionSelectors([selector]),\n",
    "    record=record,\n",
    ")"
   ]
  },
  {
   "cell_type": "markdown",
   "metadata": {},
   "source": [
    "Finally we can run a small simualation"
   ]
  },
  {
   "cell_type": "code",
   "execution_count": 45,
   "metadata": {
    "scrolled": true
   },
   "outputs": [
    {
     "name": "stdout",
     "output_type": "stream",
     "text": [
      "2021-03-23 14:47:24,178 - simulator - INFO - Starting simulation for 20 days at day 2020-05-24 00:00:00,to run for 20 days\n",
      "2021-03-23 14:47:24,210 - simulator - INFO - ==================== timestep ====================\n",
      "2021-03-23 14:47:24,380 - activity_manager - INFO - CMS: People COMS for rank 0/1 - 2.6410000000254286e-06,1.9073486328125e-06 - 2020-05-24 00:00:00\n",
      "2021-03-23 14:47:24,384 - simulator - INFO - Info for rank 0, Date = 2020-05-24 00:00:00, number of deaths =  0, number of infected = 5\n",
      "2021-03-23 14:47:24,421 - simulator - INFO - CMS: Infection COMS-v2 for rank 0/1(2)0.0004343019999994979,0.00043392181396484375 - 2020-05-24 00:00:00\n",
      "2021-03-23 14:47:24,630 - simulator - INFO - CMS: Timestep for rank 0/1 - 0.42013314200000007,0.4201469421386719 - 2020-05-24 00:00:00\n",
      "\n",
      "2021-03-23 14:47:24,631 - simulator - INFO - ==================== timestep ====================\n",
      "2021-03-23 14:47:25,263 - activity_manager - INFO - CMS: People COMS for rank 0/1 - 2.31499999969742e-06,1.9073486328125e-06 - 2020-05-24 03:00:00\n",
      "2021-03-23 14:47:25,267 - simulator - INFO - Info for rank 0, Date = 2020-05-24 03:00:00, number of deaths =  0, number of infected = 5\n",
      "2021-03-23 14:47:25,311 - simulator - INFO - CMS: Infection COMS-v2 for rank 0/1(2)0.0001904070000007252,0.00019097328186035156 - 2020-05-24 03:00:00\n",
      "2021-03-23 14:47:25,356 - simulator - INFO - CMS: Timestep for rank 0/1 - 0.7243671340000004,0.7243900299072266 - 2020-05-24 03:00:00\n",
      "\n",
      "2021-03-23 14:47:25,357 - simulator - INFO - ==================== timestep ====================\n",
      "2021-03-23 14:47:25,761 - activity_manager - INFO - CMS: People COMS for rank 0/1 - 2.6060000006822293e-06,3.0994415283203125e-06 - 2020-05-24 05:00:00\n",
      "2021-03-23 14:47:25,766 - simulator - INFO - Info for rank 0, Date = 2020-05-24 05:00:00, number of deaths =  0, number of infected = 5\n",
      "2021-03-23 14:47:25,812 - simulator - INFO - CMS: Infection COMS-v2 for rank 0/1(2)0.00018923100000023396,0.0001900196075439453 - 2020-05-24 05:00:00\n",
      "2021-03-23 14:47:25,862 - simulator - INFO - CMS: Timestep for rank 0/1 - 0.5047140529999998,0.5047307014465332 - 2020-05-24 05:00:00\n",
      "\n",
      "2021-03-23 14:47:25,863 - simulator - INFO - ==================== timestep ====================\n",
      "2021-03-23 14:47:26,299 - activity_manager - INFO - CMS: People COMS for rank 0/1 - 3.0320000004024905e-06,3.0994415283203125e-06 - 2020-05-24 07:00:00\n",
      "2021-03-23 14:47:26,304 - simulator - INFO - Info for rank 0, Date = 2020-05-24 07:00:00, number of deaths =  0, number of infected = 5\n",
      "2021-03-23 14:47:26,353 - simulator - INFO - CMS: Infection COMS-v2 for rank 0/1(2)0.0005639990000005923,0.0005638599395751953 - 2020-05-24 07:00:00\n",
      "2021-03-23 14:47:26,402 - simulator - INFO - CMS: Timestep for rank 0/1 - 0.5393112469999997,0.53932785987854 - 2020-05-24 07:00:00\n",
      "\n",
      "2021-03-23 14:47:26,403 - simulator - INFO - ==================== timestep ====================\n",
      "2021-03-23 14:47:26,872 - activity_manager - INFO - CMS: People COMS for rank 0/1 - 2.9739999991562627e-06,3.0994415283203125e-06 - 2020-05-24 09:00:00\n",
      "2021-03-23 14:47:26,877 - simulator - INFO - Info for rank 0, Date = 2020-05-24 09:00:00, number of deaths =  0, number of infected = 5\n",
      "2021-03-23 14:47:26,929 - simulator - INFO - CMS: Infection COMS-v2 for rank 0/1(2)0.00021628100000015138,0.00021576881408691406 - 2020-05-24 09:00:00\n",
      "2021-03-23 14:47:26,983 - simulator - INFO - CMS: Timestep for rank 0/1 - 0.579837435,0.5798559188842773 - 2020-05-24 09:00:00\n",
      "\n",
      "2021-03-23 14:47:26,984 - simulator - INFO - ==================== timestep ====================\n",
      "2021-03-23 14:47:27,180 - activity_manager - INFO - CMS: People COMS for rank 0/1 - 2.045000000450159e-06,2.1457672119140625e-06 - 2020-05-24 11:00:00\n",
      "2021-03-23 14:47:27,183 - simulator - INFO - Info for rank 0, Date = 2020-05-24 11:00:00, number of deaths =  0, number of infected = 5\n",
      "2021-03-23 14:47:27,218 - simulator - INFO - CMS: Infection COMS-v2 for rank 0/1(2)0.0004600769999996146,0.00045990943908691406 - 2020-05-24 11:00:00\n",
      "2021-03-23 14:47:27,263 - simulator - INFO - CMS: Timestep for rank 0/1 - 0.27800762000000034,0.2780170440673828 - 2020-05-24 11:00:00\n",
      "\n",
      "2021-03-23 14:47:27,263 - simulator - INFO - ==================== timestep ====================\n",
      "2021-03-23 14:47:27,442 - activity_manager - INFO - CMS: People COMS for rank 0/1 - 2.3159999997801606e-06,2.1457672119140625e-06 - 2020-05-25 00:00:00\n",
      "2021-03-23 14:47:27,446 - simulator - INFO - Info for rank 0, Date = 2020-05-25 00:00:00, number of deaths =  0, number of infected = 5\n",
      "2021-03-23 14:47:27,481 - simulator - INFO - CMS: Infection COMS-v2 for rank 0/1(2)0.00019821599999936268,0.00019788742065429688 - 2020-05-25 00:00:00\n",
      "2021-03-23 14:47:27,536 - simulator - INFO - CMS: Timestep for rank 0/1 - 0.27189384400000094,0.27190399169921875 - 2020-05-25 00:00:00\n",
      "\n",
      "2021-03-23 14:47:27,537 - simulator - INFO - ==================== timestep ====================\n",
      "2021-03-23 14:47:27,990 - activity_manager - INFO - CMS: People COMS for rank 0/1 - 2.575999999976375e-06,3.0994415283203125e-06 - 2020-05-25 02:00:00\n",
      "2021-03-23 14:47:27,994 - simulator - INFO - Info for rank 0, Date = 2020-05-25 02:00:00, number of deaths =  0, number of infected = 6\n",
      "2021-03-23 14:47:28,044 - simulator - INFO - CMS: Infection COMS-v2 for rank 0/1(2)0.00041606099999924595,0.00041604042053222656 - 2020-05-25 02:00:00\n",
      "2021-03-23 14:47:28,094 - simulator - INFO - CMS: Timestep for rank 0/1 - 0.555961267999999,0.5559780597686768 - 2020-05-25 02:00:00\n",
      "\n",
      "2021-03-23 14:47:28,095 - simulator - INFO - ==================== timestep ====================\n",
      "2021-03-23 14:47:28,506 - activity_manager - INFO - CMS: People COMS for rank 0/1 - 2.59999999840943e-06,2.1457672119140625e-06 - 2020-05-25 04:00:00\n",
      "2021-03-23 14:47:28,511 - simulator - INFO - Info for rank 0, Date = 2020-05-25 04:00:00, number of deaths =  0, number of infected = 7\n",
      "2021-03-23 14:47:28,555 - simulator - INFO - CMS: Infection COMS-v2 for rank 0/1(2)0.0003019149999996529,0.0003018379211425781 - 2020-05-25 04:00:00\n",
      "2021-03-23 14:47:28,603 - simulator - INFO - CMS: Timestep for rank 0/1 - 0.5080158309999998,0.5080320835113525 - 2020-05-25 04:00:00\n",
      "\n",
      "2021-03-23 14:47:28,604 - simulator - INFO - ==================== timestep ====================\n",
      "2021-03-23 14:47:29,025 - activity_manager - INFO - CMS: People COMS for rank 0/1 - 2.6139999995677954e-06,1.9073486328125e-06 - 2020-05-25 06:00:00\n",
      "2021-03-23 14:47:29,029 - simulator - INFO - Info for rank 0, Date = 2020-05-25 06:00:00, number of deaths =  0, number of infected = 7\n",
      "2021-03-23 14:47:29,077 - simulator - INFO - CMS: Infection COMS-v2 for rank 0/1(2)0.00019248200000099303,0.00019216537475585938 - 2020-05-25 06:00:00\n",
      "2021-03-23 14:47:29,125 - simulator - INFO - CMS: Timestep for rank 0/1 - 0.5209340010000005,0.5209510326385498 - 2020-05-25 06:00:00\n",
      "\n",
      "2021-03-23 14:47:29,126 - simulator - INFO - ==================== timestep ====================\n",
      "2021-03-23 14:47:29,550 - activity_manager - INFO - CMS: People COMS for rank 0/1 - 2.6220000002297184e-06,1.9073486328125e-06 - 2020-05-25 08:00:00\n",
      "2021-03-23 14:47:29,554 - simulator - INFO - Info for rank 0, Date = 2020-05-25 08:00:00, number of deaths =  0, number of infected = 7\n",
      "2021-03-23 14:47:29,602 - simulator - INFO - CMS: Infection COMS-v2 for rank 0/1(2)0.0003088280000014265,0.0003082752227783203 - 2020-05-25 08:00:00\n",
      "2021-03-23 14:47:29,651 - simulator - INFO - CMS: Timestep for rank 0/1 - 0.5239308779999998,0.52394700050354 - 2020-05-25 08:00:00\n",
      "\n",
      "2021-03-23 14:47:29,651 - simulator - INFO - ==================== timestep ====================\n",
      "2021-03-23 14:47:29,841 - activity_manager - INFO - CMS: People COMS for rank 0/1 - 1.810000000546097e-06,1.9073486328125e-06 - 2020-05-25 10:00:00\n",
      "2021-03-23 14:47:29,846 - simulator - INFO - Info for rank 0, Date = 2020-05-25 10:00:00, number of deaths =  0, number of infected = 8\n",
      "2021-03-23 14:47:29,885 - simulator - INFO - CMS: Infection COMS-v2 for rank 0/1(2)0.00016099300000149697,0.0001609325408935547 - 2020-05-25 10:00:00\n",
      "2021-03-23 14:47:29,930 - simulator - INFO - CMS: Timestep for rank 0/1 - 0.27838543600000065,0.2783949375152588 - 2020-05-25 10:00:00\n",
      "\n",
      "2021-03-23 14:47:29,931 - simulator - INFO - ==================== timestep ====================\n"
     ]
    },
    {
     "name": "stdout",
     "output_type": "stream",
     "text": [
      "2021-03-23 14:47:30,113 - activity_manager - INFO - CMS: People COMS for rank 0/1 - 1.7400000000833415e-06,9.5367431640625e-07 - 2020-05-26 00:00:00\n",
      "2021-03-23 14:47:30,116 - simulator - INFO - Info for rank 0, Date = 2020-05-26 00:00:00, number of deaths =  0, number of infected = 10\n",
      "2021-03-23 14:47:30,152 - simulator - INFO - CMS: Infection COMS-v2 for rank 0/1(2)0.00019734700000029193,0.00019621849060058594 - 2020-05-26 00:00:00\n",
      "2021-03-23 14:47:30,198 - simulator - INFO - CMS: Timestep for rank 0/1 - 0.2667915409999999,0.2667999267578125 - 2020-05-26 00:00:00\n",
      "\n",
      "2021-03-23 14:47:30,199 - simulator - INFO - ==================== timestep ====================\n",
      "2021-03-23 14:47:30,616 - activity_manager - INFO - CMS: People COMS for rank 0/1 - 2.5990000001030467e-06,3.0994415283203125e-06 - 2020-05-26 02:00:00\n",
      "2021-03-23 14:47:30,621 - simulator - INFO - Info for rank 0, Date = 2020-05-26 02:00:00, number of deaths =  0, number of infected = 12\n",
      "2021-03-23 14:47:30,667 - simulator - INFO - CMS: Infection COMS-v2 for rank 0/1(2)0.00019577599999998085,0.00019598007202148438 - 2020-05-26 02:00:00\n",
      "2021-03-23 14:47:30,715 - simulator - INFO - CMS: Timestep for rank 0/1 - 0.5161842799999992,0.5162007808685303 - 2020-05-26 02:00:00\n",
      "\n",
      "2021-03-23 14:47:30,716 - simulator - INFO - ==================== timestep ====================\n",
      "2021-03-23 14:47:31,124 - activity_manager - INFO - CMS: People COMS for rank 0/1 - 2.89299999955972e-06,3.0994415283203125e-06 - 2020-05-26 04:00:00\n",
      "2021-03-23 14:47:31,129 - simulator - INFO - Info for rank 0, Date = 2020-05-26 04:00:00, number of deaths =  0, number of infected = 12\n",
      "2021-03-23 14:47:31,175 - simulator - INFO - CMS: Infection COMS-v2 for rank 0/1(2)0.00030687300000131756,0.00030684471130371094 - 2020-05-26 04:00:00\n",
      "2021-03-23 14:47:31,224 - simulator - INFO - CMS: Timestep for rank 0/1 - 0.5071959049999997,0.5072119235992432 - 2020-05-26 04:00:00\n",
      "\n",
      "2021-03-23 14:47:31,224 - simulator - INFO - ==================== timestep ====================\n",
      "2021-03-23 14:47:31,642 - activity_manager - INFO - CMS: People COMS for rank 0/1 - 2.4459999998782678e-06,3.0994415283203125e-06 - 2020-05-26 06:00:00\n",
      "2021-03-23 14:47:31,647 - simulator - INFO - Info for rank 0, Date = 2020-05-26 06:00:00, number of deaths =  0, number of infected = 12\n",
      "2021-03-23 14:47:31,694 - simulator - INFO - CMS: Infection COMS-v2 for rank 0/1(2)0.0003569629999997659,0.0003571510314941406 - 2020-05-26 06:00:00\n",
      "2021-03-23 14:47:31,742 - simulator - INFO - CMS: Timestep for rank 0/1 - 0.5172744250000001,0.5172910690307617 - 2020-05-26 06:00:00\n",
      "\n",
      "2021-03-23 14:47:31,743 - simulator - INFO - ==================== timestep ====================\n",
      "2021-03-23 14:47:32,150 - activity_manager - INFO - CMS: People COMS for rank 0/1 - 2.68199999986507e-06,3.0994415283203125e-06 - 2020-05-26 08:00:00\n",
      "2021-03-23 14:47:32,155 - simulator - INFO - Info for rank 0, Date = 2020-05-26 08:00:00, number of deaths =  0, number of infected = 12\n",
      "2021-03-23 14:47:32,202 - simulator - INFO - CMS: Infection COMS-v2 for rank 0/1(2)0.00020634999999913362,0.00020575523376464844 - 2020-05-26 08:00:00\n",
      "2021-03-23 14:47:32,251 - simulator - INFO - CMS: Timestep for rank 0/1 - 0.507671028999999,0.5076868534088135 - 2020-05-26 08:00:00\n",
      "\n",
      "2021-03-23 14:47:32,251 - simulator - INFO - ==================== timestep ====================\n",
      "2021-03-23 14:47:32,437 - activity_manager - INFO - CMS: People COMS for rank 0/1 - 2.0059999989996413e-06,2.1457672119140625e-06 - 2020-05-26 10:00:00\n",
      "2021-03-23 14:47:32,442 - simulator - INFO - Info for rank 0, Date = 2020-05-26 10:00:00, number of deaths =  0, number of infected = 12\n",
      "2021-03-23 14:47:32,484 - simulator - INFO - CMS: Infection COMS-v2 for rank 0/1(2)0.00019683000000014772,0.00019598007202148438 - 2020-05-26 10:00:00\n",
      "2021-03-23 14:47:32,534 - simulator - INFO - CMS: Timestep for rank 0/1 - 0.2826116970000001,0.2826201915740967 - 2020-05-26 10:00:00\n",
      "\n",
      "2021-03-23 14:47:32,535 - simulator - INFO - ==================== timestep ====================\n",
      "2021-03-23 14:47:32,716 - activity_manager - INFO - CMS: People COMS for rank 0/1 - 1.7500000009107453e-06,1.9073486328125e-06 - 2020-05-27 00:00:00\n",
      "2021-03-23 14:47:32,720 - simulator - INFO - Info for rank 0, Date = 2020-05-27 00:00:00, number of deaths =  0, number of infected = 14\n",
      "2021-03-23 14:47:32,755 - simulator - INFO - CMS: Infection COMS-v2 for rank 0/1(2)0.00016129399999975647,0.00016117095947265625 - 2020-05-27 00:00:00\n",
      "2021-03-23 14:47:32,802 - simulator - INFO - CMS: Timestep for rank 0/1 - 0.266559204,0.2665679454803467 - 2020-05-27 00:00:00\n",
      "\n",
      "2021-03-23 14:47:32,803 - simulator - INFO - ==================== timestep ====================\n",
      "2021-03-23 14:47:33,206 - activity_manager - INFO - CMS: People COMS for rank 0/1 - 3.1090000014444286e-06,3.0994415283203125e-06 - 2020-05-27 02:00:00\n",
      "2021-03-23 14:47:33,211 - simulator - INFO - Info for rank 0, Date = 2020-05-27 02:00:00, number of deaths =  0, number of infected = 15\n",
      "2021-03-23 14:47:33,259 - simulator - INFO - CMS: Infection COMS-v2 for rank 0/1(2)0.00019020699999927615,0.00019025802612304688 - 2020-05-27 02:00:00\n",
      "2021-03-23 14:47:33,307 - simulator - INFO - CMS: Timestep for rank 0/1 - 0.5034880489999995,0.5035040378570557 - 2020-05-27 02:00:00\n",
      "\n",
      "2021-03-23 14:47:33,308 - simulator - INFO - ==================== timestep ====================\n",
      "2021-03-23 14:47:33,703 - activity_manager - INFO - CMS: People COMS for rank 0/1 - 2.7070000001572225e-06,1.9073486328125e-06 - 2020-05-27 04:00:00\n",
      "2021-03-23 14:47:33,707 - simulator - INFO - Info for rank 0, Date = 2020-05-27 04:00:00, number of deaths =  0, number of infected = 15\n",
      "2021-03-23 14:47:33,754 - simulator - INFO - CMS: Infection COMS-v2 for rank 0/1(2)0.00020968799999998566,0.0002090930938720703 - 2020-05-27 04:00:00\n",
      "2021-03-23 14:47:33,801 - simulator - INFO - CMS: Timestep for rank 0/1 - 0.49235842400000074,0.492372989654541 - 2020-05-27 04:00:00\n",
      "\n",
      "2021-03-23 14:47:33,801 - simulator - INFO - ==================== timestep ====================\n",
      "2021-03-23 14:47:34,199 - activity_manager - INFO - CMS: People COMS for rank 0/1 - 2.072999997437819e-06,1.6689300537109375e-06 - 2020-05-27 06:00:00\n",
      "2021-03-23 14:47:34,203 - simulator - INFO - Info for rank 0, Date = 2020-05-27 06:00:00, number of deaths =  0, number of infected = 15\n",
      "2021-03-23 14:47:34,248 - simulator - INFO - CMS: Infection COMS-v2 for rank 0/1(2)0.00016469299999855025,0.000164031982421875 - 2020-05-27 06:00:00\n",
      "2021-03-23 14:47:34,294 - simulator - INFO - CMS: Timestep for rank 0/1 - 0.4927702209999989,0.49278688430786133 - 2020-05-27 06:00:00\n",
      "\n",
      "2021-03-23 14:47:34,295 - simulator - INFO - ==================== timestep ====================\n",
      "2021-03-23 14:47:34,717 - activity_manager - INFO - CMS: People COMS for rank 0/1 - 2.45200000037471e-06,2.1457672119140625e-06 - 2020-05-27 08:00:00\n",
      "2021-03-23 14:47:34,721 - simulator - INFO - Info for rank 0, Date = 2020-05-27 08:00:00, number of deaths =  0, number of infected = 16\n",
      "2021-03-23 14:47:34,765 - simulator - INFO - CMS: Infection COMS-v2 for rank 0/1(2)0.0001783539999991035,0.0001780986785888672 - 2020-05-27 08:00:00\n",
      "2021-03-23 14:47:34,812 - simulator - INFO - CMS: Timestep for rank 0/1 - 0.5159656760000004,0.5159831047058105 - 2020-05-27 08:00:00\n",
      "\n",
      "2021-03-23 14:47:34,812 - simulator - INFO - ==================== timestep ====================\n",
      "2021-03-23 14:47:34,990 - activity_manager - INFO - CMS: People COMS for rank 0/1 - 2.421000001362472e-06,1.9073486328125e-06 - 2020-05-27 10:00:00\n",
      "2021-03-23 14:47:34,995 - simulator - INFO - Info for rank 0, Date = 2020-05-27 10:00:00, number of deaths =  0, number of infected = 16\n",
      "2021-03-23 14:47:35,032 - simulator - INFO - CMS: Infection COMS-v2 for rank 0/1(2)0.00015931300000104898,0.0001590251922607422 - 2020-05-27 10:00:00\n",
      "2021-03-23 14:47:35,078 - simulator - INFO - CMS: Timestep for rank 0/1 - 0.26528222700000015,0.2652912139892578 - 2020-05-27 10:00:00\n",
      "\n",
      "2021-03-23 14:47:35,079 - simulator - INFO - ==================== timestep ====================\n",
      "2021-03-23 14:47:35,254 - activity_manager - INFO - CMS: People COMS for rank 0/1 - 1.8229999980690081e-06,2.1457672119140625e-06 - 2020-05-28 00:00:00\n",
      "2021-03-23 14:47:35,258 - simulator - INFO - Info for rank 0, Date = 2020-05-28 00:00:00, number of deaths =  0, number of infected = 18\n"
     ]
    },
    {
     "name": "stdout",
     "output_type": "stream",
     "text": [
      "2021-03-23 14:47:35,293 - simulator - INFO - CMS: Infection COMS-v2 for rank 0/1(2)0.00018950700000175402,0.00019025802612304688 - 2020-05-28 00:00:00\n",
      "2021-03-23 14:47:35,341 - simulator - INFO - CMS: Timestep for rank 0/1 - 0.26139174600000104,0.26140308380126953 - 2020-05-28 00:00:00\n",
      "\n",
      "2021-03-23 14:47:35,341 - simulator - INFO - ==================== timestep ====================\n",
      "2021-03-23 14:47:35,744 - activity_manager - INFO - CMS: People COMS for rank 0/1 - 2.3290000008557854e-06,1.6689300537109375e-06 - 2020-05-28 02:00:00\n",
      "2021-03-23 14:47:35,748 - simulator - INFO - Info for rank 0, Date = 2020-05-28 02:00:00, number of deaths =  0, number of infected = 18\n",
      "2021-03-23 14:47:35,794 - simulator - INFO - CMS: Infection COMS-v2 for rank 0/1(2)0.0001671359999981803,0.0001678466796875 - 2020-05-28 02:00:00\n",
      "2021-03-23 14:47:35,840 - simulator - INFO - CMS: Timestep for rank 0/1 - 0.4981555110000002,0.498171329498291 - 2020-05-28 02:00:00\n",
      "\n",
      "2021-03-23 14:47:35,840 - simulator - INFO - ==================== timestep ====================\n",
      "2021-03-23 14:47:36,238 - activity_manager - INFO - CMS: People COMS for rank 0/1 - 2.955999999443293e-06,1.9073486328125e-06 - 2020-05-28 04:00:00\n",
      "2021-03-23 14:47:36,243 - simulator - INFO - Info for rank 0, Date = 2020-05-28 04:00:00, number of deaths =  0, number of infected = 19\n",
      "2021-03-23 14:47:36,299 - simulator - INFO - CMS: Infection COMS-v2 for rank 0/1(2)0.00022389300000114076,0.00022411346435546875 - 2020-05-28 04:00:00\n",
      "2021-03-23 14:47:36,355 - simulator - INFO - CMS: Timestep for rank 0/1 - 0.5146052100000027,0.5146207809448242 - 2020-05-28 04:00:00\n",
      "\n",
      "2021-03-23 14:47:36,356 - simulator - INFO - ==================== timestep ====================\n",
      "2021-03-23 14:47:36,753 - activity_manager - INFO - CMS: People COMS for rank 0/1 - 2.320000000111122e-06,2.1457672119140625e-06 - 2020-05-28 06:00:00\n",
      "2021-03-23 14:47:36,757 - simulator - INFO - Info for rank 0, Date = 2020-05-28 06:00:00, number of deaths =  0, number of infected = 20\n",
      "2021-03-23 14:47:36,800 - simulator - INFO - CMS: Infection COMS-v2 for rank 0/1(2)0.00019953199999989124,0.00020003318786621094 - 2020-05-28 06:00:00\n",
      "2021-03-23 14:47:36,845 - simulator - INFO - CMS: Timestep for rank 0/1 - 0.48797688599999844,0.4879930019378662 - 2020-05-28 06:00:00\n",
      "\n",
      "2021-03-23 14:47:36,845 - simulator - INFO - ==================== timestep ====================\n",
      "2021-03-23 14:47:37,240 - activity_manager - INFO - CMS: People COMS for rank 0/1 - 2.4849999995524286e-06,2.1457672119140625e-06 - 2020-05-28 08:00:00\n",
      "2021-03-23 14:47:37,245 - simulator - INFO - Info for rank 0, Date = 2020-05-28 08:00:00, number of deaths =  0, number of infected = 20\n",
      "2021-03-23 14:47:37,290 - simulator - INFO - CMS: Infection COMS-v2 for rank 0/1(2)0.00016454500000051553,0.0001647472381591797 - 2020-05-28 08:00:00\n",
      "2021-03-23 14:47:37,333 - simulator - INFO - CMS: Timestep for rank 0/1 - 0.48763466400000155,0.48764896392822266 - 2020-05-28 08:00:00\n",
      "\n",
      "2021-03-23 14:47:37,334 - simulator - INFO - ==================== timestep ====================\n",
      "2021-03-23 14:47:37,515 - activity_manager - INFO - CMS: People COMS for rank 0/1 - 2.6619999999866195e-06,3.0994415283203125e-06 - 2020-05-28 10:00:00\n",
      "2021-03-23 14:47:37,520 - simulator - INFO - Info for rank 0, Date = 2020-05-28 10:00:00, number of deaths =  0, number of infected = 20\n",
      "2021-03-23 14:47:37,558 - simulator - INFO - CMS: Infection COMS-v2 for rank 0/1(2)0.00018985299999840777,0.00018906593322753906 - 2020-05-28 10:00:00\n",
      "2021-03-23 14:47:37,605 - simulator - INFO - CMS: Timestep for rank 0/1 - 0.2701769270000014,0.2701849937438965 - 2020-05-28 10:00:00\n",
      "\n",
      "2021-03-23 14:47:37,605 - simulator - INFO - ==================== timestep ====================\n",
      "2021-03-23 14:47:37,778 - activity_manager - INFO - CMS: People COMS for rank 0/1 - 1.8780000026197285e-06,1.9073486328125e-06 - 2020-05-29 00:00:00\n",
      "2021-03-23 14:47:37,783 - simulator - INFO - Info for rank 0, Date = 2020-05-29 00:00:00, number of deaths =  0, number of infected = 23\n",
      "2021-03-23 14:47:37,817 - simulator - INFO - CMS: Infection COMS-v2 for rank 0/1(2)0.00016262499999797342,0.0001621246337890625 - 2020-05-29 00:00:00\n",
      "2021-03-23 14:47:37,862 - simulator - INFO - CMS: Timestep for rank 0/1 - 0.2566779270000019,0.2566871643066406 - 2020-05-29 00:00:00\n",
      "\n",
      "2021-03-23 14:47:37,863 - simulator - INFO - ==================== timestep ====================\n",
      "2021-03-23 14:47:38,255 - activity_manager - INFO - CMS: People COMS for rank 0/1 - 2.3260000006075643e-06,1.6689300537109375e-06 - 2020-05-29 02:00:00\n",
      "2021-03-23 14:47:38,260 - simulator - INFO - Info for rank 0, Date = 2020-05-29 02:00:00, number of deaths =  0, number of infected = 23\n",
      "2021-03-23 14:47:38,304 - simulator - INFO - CMS: Infection COMS-v2 for rank 0/1(2)0.00018462499999927218,0.00018405914306640625 - 2020-05-29 02:00:00\n",
      "2021-03-23 14:47:38,349 - simulator - INFO - CMS: Timestep for rank 0/1 - 0.48515986600000005,0.48517489433288574 - 2020-05-29 02:00:00\n",
      "\n",
      "2021-03-23 14:47:38,349 - simulator - INFO - ==================== timestep ====================\n",
      "2021-03-23 14:47:38,743 - activity_manager - INFO - CMS: People COMS for rank 0/1 - 2.768999998181698e-06,2.86102294921875e-06 - 2020-05-29 04:00:00\n",
      "2021-03-23 14:47:38,747 - simulator - INFO - Info for rank 0, Date = 2020-05-29 04:00:00, number of deaths =  0, number of infected = 23\n",
      "2021-03-23 14:47:38,790 - simulator - INFO - CMS: Infection COMS-v2 for rank 0/1(2)0.00017947500000303762,0.00017905235290527344 - 2020-05-29 04:00:00\n",
      "2021-03-23 14:47:38,837 - simulator - INFO - CMS: Timestep for rank 0/1 - 0.4869257769999997,0.4869420528411865 - 2020-05-29 04:00:00\n",
      "\n",
      "2021-03-23 14:47:38,837 - simulator - INFO - ==================== timestep ====================\n",
      "2021-03-23 14:47:39,239 - activity_manager - INFO - CMS: People COMS for rank 0/1 - 2.6589999997383984e-06,3.0994415283203125e-06 - 2020-05-29 06:00:00\n",
      "2021-03-23 14:47:39,244 - simulator - INFO - Info for rank 0, Date = 2020-05-29 06:00:00, number of deaths =  0, number of infected = 23\n",
      "2021-03-23 14:47:39,292 - simulator - INFO - CMS: Infection COMS-v2 for rank 0/1(2)0.0003900880000031748,0.0003898143768310547 - 2020-05-29 06:00:00\n",
      "2021-03-23 14:47:39,339 - simulator - INFO - CMS: Timestep for rank 0/1 - 0.5015702590000011,0.5015871524810791 - 2020-05-29 06:00:00\n",
      "\n",
      "2021-03-23 14:47:39,340 - simulator - INFO - ==================== timestep ====================\n",
      "2021-03-23 14:47:39,761 - activity_manager - INFO - CMS: People COMS for rank 0/1 - 2.446999999961008e-06,1.9073486328125e-06 - 2020-05-29 08:00:00\n",
      "2021-03-23 14:47:39,765 - simulator - INFO - Info for rank 0, Date = 2020-05-29 08:00:00, number of deaths =  0, number of infected = 23\n",
      "2021-03-23 14:47:39,812 - simulator - INFO - CMS: Infection COMS-v2 for rank 0/1(2)0.0005010950000006176,0.0005009174346923828 - 2020-05-29 08:00:00\n",
      "2021-03-23 14:47:39,859 - simulator - INFO - CMS: Timestep for rank 0/1 - 0.5186917529999988,0.5187089443206787 - 2020-05-29 08:00:00\n",
      "\n",
      "2021-03-23 14:47:39,860 - simulator - INFO - ==================== timestep ====================\n",
      "2021-03-23 14:47:40,046 - activity_manager - INFO - CMS: People COMS for rank 0/1 - 1.973999999904663e-06,9.5367431640625e-07 - 2020-05-29 10:00:00\n",
      "2021-03-23 14:47:40,050 - simulator - INFO - Info for rank 0, Date = 2020-05-29 10:00:00, number of deaths =  0, number of infected = 23\n",
      "2021-03-23 14:47:40,090 - simulator - INFO - CMS: Infection COMS-v2 for rank 0/1(2)0.00017306199999822525,0.00017309188842773438 - 2020-05-29 10:00:00\n",
      "2021-03-23 14:47:40,138 - simulator - INFO - CMS: Timestep for rank 0/1 - 0.2774640650000002,0.27747297286987305 - 2020-05-29 10:00:00\n",
      "\n",
      "2021-03-23 14:47:40,139 - simulator - INFO - ==================== timestep ====================\n",
      "2021-03-23 14:47:40,321 - activity_manager - INFO - CMS: People COMS for rank 0/1 - 2.9179999998518724e-06,2.86102294921875e-06 - 2020-05-30 00:00:00\n",
      "2021-03-23 14:47:40,327 - simulator - INFO - Info for rank 0, Date = 2020-05-30 00:00:00, number of deaths =  0, number of infected = 25\n",
      "2021-03-23 14:47:40,363 - simulator - INFO - CMS: Infection COMS-v2 for rank 0/1(2)0.00017358199999861768,0.00017309188842773438 - 2020-05-30 00:00:00\n",
      "2021-03-23 14:47:40,409 - simulator - INFO - CMS: Timestep for rank 0/1 - 0.2696010539999989,0.2696108818054199 - 2020-05-30 00:00:00\n",
      "\n"
     ]
    },
    {
     "name": "stdout",
     "output_type": "stream",
     "text": [
      "2021-03-23 14:47:40,410 - simulator - INFO - ==================== timestep ====================\n",
      "2021-03-23 14:47:40,825 - activity_manager - INFO - CMS: People COMS for rank 0/1 - 2.6680000004830617e-06,2.6226043701171875e-06 - 2020-05-30 03:00:00\n",
      "2021-03-23 14:47:40,829 - simulator - INFO - Info for rank 0, Date = 2020-05-30 03:00:00, number of deaths =  0, number of infected = 26\n",
      "2021-03-23 14:47:40,877 - simulator - INFO - CMS: Infection COMS-v2 for rank 0/1(2)0.00018436399999899322,0.00018405914306640625 - 2020-05-30 03:00:00\n",
      "2021-03-23 14:47:40,924 - simulator - INFO - CMS: Timestep for rank 0/1 - 0.51319582,0.5132122039794922 - 2020-05-30 03:00:00\n",
      "\n",
      "2021-03-23 14:47:40,924 - simulator - INFO - ==================== timestep ====================\n",
      "2021-03-23 14:47:41,326 - activity_manager - INFO - CMS: People COMS for rank 0/1 - 2.5990000018794035e-06,2.1457672119140625e-06 - 2020-05-30 05:00:00\n",
      "2021-03-23 14:47:41,332 - simulator - INFO - Info for rank 0, Date = 2020-05-30 05:00:00, number of deaths =  0, number of infected = 27\n",
      "2021-03-23 14:47:41,375 - simulator - INFO - CMS: Infection COMS-v2 for rank 0/1(2)0.00016380100000290554,0.000164031982421875 - 2020-05-30 05:00:00\n",
      "2021-03-23 14:47:41,423 - simulator - INFO - CMS: Timestep for rank 0/1 - 0.49802181800000156,0.49803805351257324 - 2020-05-30 05:00:00\n",
      "\n",
      "2021-03-23 14:47:41,424 - simulator - INFO - ==================== timestep ====================\n",
      "2021-03-23 14:47:41,821 - activity_manager - INFO - CMS: People COMS for rank 0/1 - 2.431000002189876e-06,3.0994415283203125e-06 - 2020-05-30 07:00:00\n",
      "2021-03-23 14:47:41,826 - simulator - INFO - Info for rank 0, Date = 2020-05-30 07:00:00, number of deaths =  0, number of infected = 27\n",
      "2021-03-23 14:47:41,871 - simulator - INFO - CMS: Infection COMS-v2 for rank 0/1(2)0.00032792900000089276,0.00032830238342285156 - 2020-05-30 07:00:00\n",
      "2021-03-23 14:47:41,919 - simulator - INFO - CMS: Timestep for rank 0/1 - 0.49499581999999975,0.4950120449066162 - 2020-05-30 07:00:00\n",
      "\n",
      "2021-03-23 14:47:41,920 - simulator - INFO - ==================== timestep ====================\n",
      "2021-03-23 14:47:42,325 - activity_manager - INFO - CMS: People COMS for rank 0/1 - 2.2649999991131153e-06,1.9073486328125e-06 - 2020-05-30 09:00:00\n",
      "2021-03-23 14:47:42,329 - simulator - INFO - Info for rank 0, Date = 2020-05-30 09:00:00, number of deaths =  0, number of infected = 27\n",
      "2021-03-23 14:47:42,371 - simulator - INFO - CMS: Infection COMS-v2 for rank 0/1(2)0.0001621899999975085,0.0001621246337890625 - 2020-05-30 09:00:00\n",
      "2021-03-23 14:47:42,417 - simulator - INFO - CMS: Timestep for rank 0/1 - 0.49685906699999904,0.4968740940093994 - 2020-05-30 09:00:00\n",
      "\n",
      "2021-03-23 14:47:42,418 - simulator - INFO - ==================== timestep ====================\n",
      "2021-03-23 14:47:42,603 - activity_manager - INFO - CMS: People COMS for rank 0/1 - 2.038000001647333e-06,1.9073486328125e-06 - 2020-05-30 11:00:00\n",
      "2021-03-23 14:47:42,607 - simulator - INFO - Info for rank 0, Date = 2020-05-30 11:00:00, number of deaths =  0, number of infected = 27\n",
      "2021-03-23 14:47:42,644 - simulator - INFO - CMS: Infection COMS-v2 for rank 0/1(2)0.0001633930000011219,0.000164031982421875 - 2020-05-30 11:00:00\n",
      "2021-03-23 14:47:42,692 - simulator - INFO - CMS: Timestep for rank 0/1 - 0.27405491700000084,0.274064302444458 - 2020-05-30 11:00:00\n",
      "\n",
      "2021-03-23 14:47:42,693 - simulator - INFO - ==================== timestep ====================\n",
      "2021-03-23 14:47:42,877 - activity_manager - INFO - CMS: People COMS for rank 0/1 - 2.218999998859772e-06,1.9073486328125e-06 - 2020-05-31 00:00:00\n",
      "2021-03-23 14:47:42,881 - simulator - INFO - Info for rank 0, Date = 2020-05-31 00:00:00, number of deaths =  0, number of infected = 28\n",
      "2021-03-23 14:47:42,917 - simulator - INFO - CMS: Infection COMS-v2 for rank 0/1(2)0.00018825899999797002,0.00018906593322753906 - 2020-05-31 00:00:00\n",
      "2021-03-23 14:47:42,966 - simulator - INFO - CMS: Timestep for rank 0/1 - 0.272201012,0.27220988273620605 - 2020-05-31 00:00:00\n",
      "\n",
      "2021-03-23 14:47:42,966 - simulator - INFO - ==================== timestep ====================\n",
      "2021-03-23 14:47:43,380 - activity_manager - INFO - CMS: People COMS for rank 0/1 - 2.925000000431055e-06,2.86102294921875e-06 - 2020-05-31 03:00:00\n",
      "2021-03-23 14:47:43,384 - simulator - INFO - Info for rank 0, Date = 2020-05-31 03:00:00, number of deaths =  0, number of infected = 28\n",
      "2021-03-23 14:47:43,431 - simulator - INFO - CMS: Infection COMS-v2 for rank 0/1(2)0.00019267200000072648,0.0001926422119140625 - 2020-05-31 03:00:00\n",
      "2021-03-23 14:47:43,480 - simulator - INFO - CMS: Timestep for rank 0/1 - 0.5131691819999986,0.5131869316101074 - 2020-05-31 03:00:00\n",
      "\n",
      "2021-03-23 14:47:43,480 - simulator - INFO - ==================== timestep ====================\n",
      "2021-03-23 14:47:43,879 - activity_manager - INFO - CMS: People COMS for rank 0/1 - 2.5380000003849545e-06,1.9073486328125e-06 - 2020-05-31 05:00:00\n",
      "2021-03-23 14:47:43,883 - simulator - INFO - Info for rank 0, Date = 2020-05-31 05:00:00, number of deaths =  0, number of infected = 28\n",
      "2021-03-23 14:47:43,928 - simulator - INFO - CMS: Infection COMS-v2 for rank 0/1(2)0.00018622300000004088,0.00018596649169921875 - 2020-05-31 05:00:00\n",
      "2021-03-23 14:47:43,975 - simulator - INFO - CMS: Timestep for rank 0/1 - 0.49394492700000114,0.4939608573913574 - 2020-05-31 05:00:00\n",
      "\n",
      "2021-03-23 14:47:43,976 - simulator - INFO - ==================== timestep ====================\n",
      "2021-03-23 14:47:44,381 - activity_manager - INFO - CMS: People COMS for rank 0/1 - 2.4719999984768037e-06,2.86102294921875e-06 - 2020-05-31 07:00:00\n",
      "2021-03-23 14:47:44,386 - simulator - INFO - Info for rank 0, Date = 2020-05-31 07:00:00, number of deaths =  0, number of infected = 28\n",
      "2021-03-23 14:47:44,431 - simulator - INFO - CMS: Infection COMS-v2 for rank 0/1(2)0.0001800140000014494,0.0001800060272216797 - 2020-05-31 07:00:00\n",
      "2021-03-23 14:47:44,479 - simulator - INFO - CMS: Timestep for rank 0/1 - 0.5031666140000013,0.503183126449585 - 2020-05-31 07:00:00\n",
      "\n",
      "2021-03-23 14:47:44,480 - simulator - INFO - ==================== timestep ====================\n",
      "2021-03-23 14:47:44,878 - activity_manager - INFO - CMS: People COMS for rank 0/1 - 2.336000001434968e-06,2.86102294921875e-06 - 2020-05-31 09:00:00\n",
      "2021-03-23 14:47:44,883 - simulator - INFO - Info for rank 0, Date = 2020-05-31 09:00:00, number of deaths =  0, number of infected = 28\n",
      "2021-03-23 14:47:44,925 - simulator - INFO - CMS: Infection COMS-v2 for rank 0/1(2)0.00017070300000199268,0.0001709461212158203 - 2020-05-31 09:00:00\n",
      "2021-03-23 14:47:44,970 - simulator - INFO - CMS: Timestep for rank 0/1 - 0.49014317500000004,0.4901599884033203 - 2020-05-31 09:00:00\n",
      "\n",
      "2021-03-23 14:47:44,971 - simulator - INFO - ==================== timestep ====================\n",
      "2021-03-23 14:47:45,145 - activity_manager - INFO - CMS: People COMS for rank 0/1 - 1.9449999975051924e-06,9.5367431640625e-07 - 2020-05-31 11:00:00\n",
      "2021-03-23 14:47:45,149 - simulator - INFO - Info for rank 0, Date = 2020-05-31 11:00:00, number of deaths =  0, number of infected = 28\n",
      "2021-03-23 14:47:45,184 - simulator - INFO - CMS: Infection COMS-v2 for rank 0/1(2)0.00016471300000020506,0.00016379356384277344 - 2020-05-31 11:00:00\n",
      "2021-03-23 14:47:45,230 - simulator - INFO - CMS: Timestep for rank 0/1 - 0.2584422019999977,0.2584500312805176 - 2020-05-31 11:00:00\n",
      "\n",
      "2021-03-23 14:47:45,231 - simulator - INFO - ==================== timestep ====================\n",
      "2021-03-23 14:47:45,412 - activity_manager - INFO - CMS: People COMS for rank 0/1 - 1.7509999992171288e-06,2.1457672119140625e-06 - 2020-06-01 00:00:00\n",
      "2021-03-23 14:47:45,417 - simulator - INFO - Info for rank 0, Date = 2020-06-01 00:00:00, number of deaths =  0, number of infected = 31\n",
      "2021-03-23 14:47:45,455 - simulator - INFO - CMS: Infection COMS-v2 for rank 0/1(2)0.00019805900000235965,0.00019788742065429688 - 2020-06-01 00:00:00\n",
      "2021-03-23 14:47:45,504 - simulator - INFO - CMS: Timestep for rank 0/1 - 0.272764200000001,0.27277302742004395 - 2020-06-01 00:00:00\n",
      "\n",
      "2021-03-23 14:47:45,505 - simulator - INFO - ==================== timestep ====================\n",
      "2021-03-23 14:47:45,905 - activity_manager - INFO - CMS: People COMS for rank 0/1 - 4.275000001996432e-06,4.0531158447265625e-06 - 2020-06-01 02:00:00\n"
     ]
    },
    {
     "name": "stdout",
     "output_type": "stream",
     "text": [
      "2021-03-23 14:47:45,910 - simulator - INFO - Info for rank 0, Date = 2020-06-01 02:00:00, number of deaths =  0, number of infected = 31\n",
      "2021-03-23 14:47:45,957 - simulator - INFO - CMS: Infection COMS-v2 for rank 0/1(2)0.0003266640000028076,0.0003268718719482422 - 2020-06-01 02:00:00\n",
      "2021-03-23 14:47:46,005 - simulator - INFO - CMS: Timestep for rank 0/1 - 0.4995150509999995,0.4995310306549072 - 2020-06-01 02:00:00\n",
      "\n",
      "2021-03-23 14:47:46,006 - simulator - INFO - ==================== timestep ====================\n",
      "2021-03-23 14:47:46,401 - activity_manager - INFO - CMS: People COMS for rank 0/1 - 2.432999998802643e-06,3.0994415283203125e-06 - 2020-06-01 04:00:00\n",
      "2021-03-23 14:47:46,406 - simulator - INFO - Info for rank 0, Date = 2020-06-01 04:00:00, number of deaths =  0, number of infected = 31\n",
      "2021-03-23 14:47:46,448 - simulator - INFO - CMS: Infection COMS-v2 for rank 0/1(2)0.00036046099999964554,0.0003612041473388672 - 2020-06-01 04:00:00\n",
      "2021-03-23 14:47:46,494 - simulator - INFO - CMS: Timestep for rank 0/1 - 0.48777124300000096,0.48778700828552246 - 2020-06-01 04:00:00\n",
      "\n",
      "2021-03-23 14:47:46,494 - simulator - INFO - ==================== timestep ====================\n",
      "2021-03-23 14:47:46,891 - activity_manager - INFO - CMS: People COMS for rank 0/1 - 2.3080000026709513e-06,1.9073486328125e-06 - 2020-06-01 06:00:00\n",
      "2021-03-23 14:47:46,895 - simulator - INFO - Info for rank 0, Date = 2020-06-01 06:00:00, number of deaths =  0, number of infected = 32\n",
      "2021-03-23 14:47:46,940 - simulator - INFO - CMS: Infection COMS-v2 for rank 0/1(2)0.00018299599999949123,0.00018286705017089844 - 2020-06-01 06:00:00\n",
      "2021-03-23 14:47:46,989 - simulator - INFO - CMS: Timestep for rank 0/1 - 0.4940376509999993,0.4940526485443115 - 2020-06-01 06:00:00\n",
      "\n",
      "2021-03-23 14:47:46,990 - simulator - INFO - ==================== timestep ====================\n",
      "2021-03-23 14:47:47,399 - activity_manager - INFO - CMS: People COMS for rank 0/1 - 2.4769999988905056e-06,2.1457672119140625e-06 - 2020-06-01 08:00:00\n",
      "2021-03-23 14:47:47,403 - simulator - INFO - Info for rank 0, Date = 2020-06-01 08:00:00, number of deaths =  0, number of infected = 32\n",
      "2021-03-23 14:47:47,446 - simulator - INFO - CMS: Infection COMS-v2 for rank 0/1(2)0.00017135800000289692,0.00017118453979492188 - 2020-06-01 08:00:00\n",
      "2021-03-23 14:47:47,493 - simulator - INFO - CMS: Timestep for rank 0/1 - 0.5033474369999986,0.503363847732544 - 2020-06-01 08:00:00\n",
      "\n",
      "2021-03-23 14:47:47,494 - simulator - INFO - ==================== timestep ====================\n",
      "2021-03-23 14:47:47,671 - activity_manager - INFO - CMS: People COMS for rank 0/1 - 1.7269999972313599e-06,9.5367431640625e-07 - 2020-06-01 10:00:00\n",
      "2021-03-23 14:47:47,676 - simulator - INFO - Info for rank 0, Date = 2020-06-01 10:00:00, number of deaths =  0, number of infected = 32\n",
      "2021-03-23 14:47:47,712 - simulator - INFO - CMS: Infection COMS-v2 for rank 0/1(2)0.00021421499999974003,0.000213623046875 - 2020-06-01 10:00:00\n",
      "2021-03-23 14:47:47,760 - simulator - INFO - CMS: Timestep for rank 0/1 - 0.2656391049999982,0.26564812660217285 - 2020-06-01 10:00:00\n",
      "\n",
      "2021-03-23 14:47:47,761 - simulator - INFO - ==================== timestep ====================\n",
      "2021-03-23 14:47:47,940 - activity_manager - INFO - CMS: People COMS for rank 0/1 - 2.063000000163129e-06,2.1457672119140625e-06 - 2020-06-02 00:00:00\n",
      "2021-03-23 14:47:47,944 - simulator - INFO - Info for rank 0, Date = 2020-06-02 00:00:00, number of deaths =  0, number of infected = 35\n",
      "2021-03-23 14:47:47,980 - simulator - INFO - CMS: Infection COMS-v2 for rank 0/1(2)0.0001867300000029104,0.0001857280731201172 - 2020-06-02 00:00:00\n",
      "2021-03-23 14:47:48,027 - simulator - INFO - CMS: Timestep for rank 0/1 - 0.2652426530000014,0.26525211334228516 - 2020-06-02 00:00:00\n",
      "\n",
      "2021-03-23 14:47:48,028 - simulator - INFO - ==================== timestep ====================\n",
      "2021-03-23 14:47:48,434 - activity_manager - INFO - CMS: People COMS for rank 0/1 - 2.8150000019877552e-06,1.6689300537109375e-06 - 2020-06-02 02:00:00\n",
      "2021-03-23 14:47:48,439 - simulator - INFO - Info for rank 0, Date = 2020-06-02 02:00:00, number of deaths =  0, number of infected = 36\n",
      "2021-03-23 14:47:48,485 - simulator - INFO - CMS: Infection COMS-v2 for rank 0/1(2)0.0003225379999989286,0.00032210350036621094 - 2020-06-02 02:00:00\n",
      "2021-03-23 14:47:48,532 - simulator - INFO - CMS: Timestep for rank 0/1 - 0.5036026070000013,0.5036191940307617 - 2020-06-02 02:00:00\n",
      "\n",
      "2021-03-23 14:47:48,532 - simulator - INFO - ==================== timestep ====================\n",
      "2021-03-23 14:47:49,034 - activity_manager - INFO - CMS: People COMS for rank 0/1 - 2.410000000452328e-06,1.6689300537109375e-06 - 2020-06-02 04:00:00\n",
      "2021-03-23 14:47:49,038 - simulator - INFO - Info for rank 0, Date = 2020-06-02 04:00:00, number of deaths =  0, number of infected = 36\n",
      "2021-03-23 14:47:49,084 - simulator - INFO - CMS: Infection COMS-v2 for rank 0/1(2)0.00018786200000064923,0.0001881122589111328 - 2020-06-02 04:00:00\n",
      "2021-03-23 14:47:49,130 - simulator - INFO - CMS: Timestep for rank 0/1 - 0.5972748959999983,0.5972940921783447 - 2020-06-02 04:00:00\n",
      "\n",
      "2021-03-23 14:47:49,131 - simulator - INFO - ==================== timestep ====================\n",
      "2021-03-23 14:47:49,558 - activity_manager - INFO - CMS: People COMS for rank 0/1 - 3.1060000011962074e-06,3.0994415283203125e-06 - 2020-06-02 06:00:00\n",
      "2021-03-23 14:47:49,562 - simulator - INFO - Info for rank 0, Date = 2020-06-02 06:00:00, number of deaths =  0, number of infected = 36\n",
      "2021-03-23 14:47:49,616 - simulator - INFO - CMS: Infection COMS-v2 for rank 0/1(2)0.0006295250000007968,0.0006299018859863281 - 2020-06-02 06:00:00\n",
      "2021-03-23 14:47:49,662 - simulator - INFO - CMS: Timestep for rank 0/1 - 0.5312080680000015,0.5312247276306152 - 2020-06-02 06:00:00\n",
      "\n",
      "2021-03-23 14:47:49,663 - simulator - INFO - ==================== timestep ====================\n",
      "2021-03-23 14:47:50,089 - activity_manager - INFO - CMS: People COMS for rank 0/1 - 2.970999993578971e-06,3.0994415283203125e-06 - 2020-06-02 08:00:00\n",
      "2021-03-23 14:47:50,093 - simulator - INFO - Info for rank 0, Date = 2020-06-02 08:00:00, number of deaths =  0, number of infected = 36\n",
      "2021-03-23 14:47:50,141 - simulator - INFO - CMS: Infection COMS-v2 for rank 0/1(2)0.00019584700000052635,0.00019598007202148438 - 2020-06-02 08:00:00\n",
      "2021-03-23 14:47:50,193 - simulator - INFO - CMS: Timestep for rank 0/1 - 0.5294269449999973,0.5294439792633057 - 2020-06-02 08:00:00\n",
      "\n",
      "2021-03-23 14:47:50,194 - simulator - INFO - ==================== timestep ====================\n",
      "2021-03-23 14:47:50,380 - activity_manager - INFO - CMS: People COMS for rank 0/1 - 2.0490000025574773e-06,2.1457672119140625e-06 - 2020-06-02 10:00:00\n",
      "2021-03-23 14:47:50,384 - simulator - INFO - Info for rank 0, Date = 2020-06-02 10:00:00, number of deaths =  0, number of infected = 36\n",
      "2021-03-23 14:47:50,424 - simulator - INFO - CMS: Infection COMS-v2 for rank 0/1(2)0.00017618300000066256,0.00017571449279785156 - 2020-06-02 10:00:00\n",
      "2021-03-23 14:47:50,476 - simulator - INFO - CMS: Timestep for rank 0/1 - 0.2814191400000041,0.2814290523529053 - 2020-06-02 10:00:00\n",
      "\n",
      "2021-03-23 14:47:50,476 - simulator - INFO - ==================== timestep ====================\n",
      "2021-03-23 14:47:50,661 - activity_manager - INFO - CMS: People COMS for rank 0/1 - 1.8369999992273733e-06,1.9073486328125e-06 - 2020-06-03 00:00:00\n",
      "2021-03-23 14:47:50,665 - simulator - INFO - Info for rank 0, Date = 2020-06-03 00:00:00, number of deaths =  0, number of infected = 39\n",
      "2021-03-23 14:47:50,703 - simulator - INFO - CMS: Infection COMS-v2 for rank 0/1(2)0.0003233859999980382,0.0003228187561035156 - 2020-06-03 00:00:00\n",
      "2021-03-23 14:47:50,750 - simulator - INFO - CMS: Timestep for rank 0/1 - 0.27352556599999645,0.27353429794311523 - 2020-06-03 00:00:00\n",
      "\n",
      "2021-03-23 14:47:50,751 - simulator - INFO - ==================== timestep ====================\n",
      "2021-03-23 14:47:51,151 - activity_manager - INFO - CMS: People COMS for rank 0/1 - 2.4830000029396615e-06,2.1457672119140625e-06 - 2020-06-03 02:00:00\n",
      "2021-03-23 14:47:51,155 - simulator - INFO - Info for rank 0, Date = 2020-06-03 02:00:00, number of deaths =  0, number of infected = 41\n",
      "2021-03-23 14:47:51,201 - simulator - INFO - CMS: Infection COMS-v2 for rank 0/1(2)0.00015926000000376916,0.0001590251922607422 - 2020-06-03 02:00:00\n"
     ]
    },
    {
     "name": "stdout",
     "output_type": "stream",
     "text": [
      "2021-03-23 14:47:51,247 - simulator - INFO - CMS: Timestep for rank 0/1 - 0.4959689450000013,0.4959852695465088 - 2020-06-03 02:00:00\n",
      "\n",
      "2021-03-23 14:47:51,248 - simulator - INFO - ==================== timestep ====================\n",
      "2021-03-23 14:47:51,654 - activity_manager - INFO - CMS: People COMS for rank 0/1 - 2.6219999966770047e-06,1.9073486328125e-06 - 2020-06-03 04:00:00\n",
      "2021-03-23 14:47:51,658 - simulator - INFO - Info for rank 0, Date = 2020-06-03 04:00:00, number of deaths =  0, number of infected = 42\n",
      "2021-03-23 14:47:51,706 - simulator - INFO - CMS: Infection COMS-v2 for rank 0/1(2)0.0003165270000025089,0.0003159046173095703 - 2020-06-03 04:00:00\n",
      "2021-03-23 14:47:51,755 - simulator - INFO - CMS: Timestep for rank 0/1 - 0.5061610580000035,0.5061781406402588 - 2020-06-03 04:00:00\n",
      "\n",
      "2021-03-23 14:47:51,756 - simulator - INFO - ==================== timestep ====================\n",
      "2021-03-23 14:47:52,152 - activity_manager - INFO - CMS: People COMS for rank 0/1 - 2.841000004139005e-06,3.0994415283203125e-06 - 2020-06-03 06:00:00\n",
      "2021-03-23 14:47:52,156 - simulator - INFO - Info for rank 0, Date = 2020-06-03 06:00:00, number of deaths =  0, number of infected = 42\n",
      "2021-03-23 14:47:52,200 - simulator - INFO - CMS: Infection COMS-v2 for rank 0/1(2)0.00016067700000377272,0.00015997886657714844 - 2020-06-03 06:00:00\n",
      "2021-03-23 14:47:52,248 - simulator - INFO - CMS: Timestep for rank 0/1 - 0.4915248689999956,0.49154090881347656 - 2020-06-03 06:00:00\n",
      "\n",
      "2021-03-23 14:47:52,248 - simulator - INFO - ==================== timestep ====================\n",
      "2021-03-23 14:47:52,644 - activity_manager - INFO - CMS: People COMS for rank 0/1 - 2.5979999946912358e-06,3.0994415283203125e-06 - 2020-06-03 08:00:00\n",
      "2021-03-23 14:47:52,648 - simulator - INFO - Info for rank 0, Date = 2020-06-03 08:00:00, number of deaths =  0, number of infected = 44\n",
      "2021-03-23 14:47:52,693 - simulator - INFO - CMS: Infection COMS-v2 for rank 0/1(2)0.0001740340000040419,0.00017380714416503906 - 2020-06-03 08:00:00\n",
      "2021-03-23 14:47:52,738 - simulator - INFO - CMS: Timestep for rank 0/1 - 0.48905742099999827,0.4890718460083008 - 2020-06-03 08:00:00\n",
      "\n",
      "2021-03-23 14:47:52,739 - simulator - INFO - ==================== timestep ====================\n",
      "2021-03-23 14:47:52,916 - activity_manager - INFO - CMS: People COMS for rank 0/1 - 1.89200000022538e-06,2.1457672119140625e-06 - 2020-06-03 10:00:00\n",
      "2021-03-23 14:47:52,920 - simulator - INFO - Info for rank 0, Date = 2020-06-03 10:00:00, number of deaths =  0, number of infected = 45\n",
      "2021-03-23 14:47:52,960 - simulator - INFO - CMS: Infection COMS-v2 for rank 0/1(2)0.00021529600000036453,0.00021600723266601562 - 2020-06-03 10:00:00\n",
      "2021-03-23 14:47:53,012 - simulator - INFO - CMS: Timestep for rank 0/1 - 0.2729597009999978,0.27296996116638184 - 2020-06-03 10:00:00\n",
      "\n",
      "2021-03-23 14:47:53,013 - simulator - INFO - ==================== timestep ====================\n",
      "2021-03-23 14:47:53,189 - activity_manager - INFO - CMS: People COMS for rank 0/1 - 1.8810000028679497e-06,2.1457672119140625e-06 - 2020-06-04 00:00:00\n",
      "2021-03-23 14:47:53,193 - simulator - INFO - Info for rank 0, Date = 2020-06-04 00:00:00, number of deaths =  0, number of infected = 48\n",
      "2021-03-23 14:47:53,226 - simulator - INFO - CMS: Infection COMS-v2 for rank 0/1(2)0.0003062469999974837,0.0003058910369873047 - 2020-06-04 00:00:00\n",
      "2021-03-23 14:47:53,272 - simulator - INFO - CMS: Timestep for rank 0/1 - 0.2593085140000042,0.25931715965270996 - 2020-06-04 00:00:00\n",
      "\n",
      "2021-03-23 14:47:53,273 - simulator - INFO - ==================== timestep ====================\n",
      "2021-03-23 14:47:53,758 - activity_manager - INFO - CMS: People COMS for rank 0/1 - 2.725999998176576e-06,1.9073486328125e-06 - 2020-06-04 02:00:00\n",
      "2021-03-23 14:47:53,762 - simulator - INFO - Info for rank 0, Date = 2020-06-04 02:00:00, number of deaths =  0, number of infected = 48\n",
      "2021-03-23 14:47:53,810 - simulator - INFO - CMS: Infection COMS-v2 for rank 0/1(2)0.0003016349999995782,0.0003020763397216797 - 2020-06-04 02:00:00\n",
      "2021-03-23 14:47:53,859 - simulator - INFO - CMS: Timestep for rank 0/1 - 0.5849902570000012,0.5850090980529785 - 2020-06-04 02:00:00\n",
      "\n",
      "2021-03-23 14:47:53,859 - simulator - INFO - ==================== timestep ====================\n",
      "2021-03-23 14:47:54,269 - activity_manager - INFO - CMS: People COMS for rank 0/1 - 2.537000000302214e-06,2.86102294921875e-06 - 2020-06-04 04:00:00\n",
      "2021-03-23 14:47:54,273 - simulator - INFO - Info for rank 0, Date = 2020-06-04 04:00:00, number of deaths =  0, number of infected = 49\n",
      "2021-03-23 14:47:54,318 - simulator - INFO - CMS: Infection COMS-v2 for rank 0/1(2)0.00017652499999343263,0.00017690658569335938 - 2020-06-04 04:00:00\n",
      "2021-03-23 14:47:54,366 - simulator - INFO - CMS: Timestep for rank 0/1 - 0.5062934930000011,0.506309986114502 - 2020-06-04 04:00:00\n",
      "\n",
      "2021-03-23 14:47:54,367 - simulator - INFO - ==================== timestep ====================\n",
      "2021-03-23 14:47:54,797 - activity_manager - INFO - CMS: People COMS for rank 0/1 - 2.547000001129618e-06,3.0994415283203125e-06 - 2020-06-04 06:00:00\n",
      "2021-03-23 14:47:54,801 - simulator - INFO - Info for rank 0, Date = 2020-06-04 06:00:00, number of deaths =  0, number of infected = 49\n",
      "2021-03-23 14:47:54,853 - simulator - INFO - CMS: Infection COMS-v2 for rank 0/1(2)0.0001998480000011682,0.0002002716064453125 - 2020-06-04 06:00:00\n",
      "2021-03-23 14:47:54,903 - simulator - INFO - CMS: Timestep for rank 0/1 - 0.5355795480000012,0.5355970859527588 - 2020-06-04 06:00:00\n",
      "\n",
      "2021-03-23 14:47:54,904 - simulator - INFO - ==================== timestep ====================\n",
      "2021-03-23 14:47:55,322 - activity_manager - INFO - CMS: People COMS for rank 0/1 - 2.5619999988180098e-06,1.9073486328125e-06 - 2020-06-04 08:00:00\n",
      "2021-03-23 14:47:55,327 - simulator - INFO - Info for rank 0, Date = 2020-06-04 08:00:00, number of deaths =  0, number of infected = 49\n",
      "2021-03-23 14:47:55,378 - simulator - INFO - CMS: Infection COMS-v2 for rank 0/1(2)0.00040710700000090583,0.00040602684020996094 - 2020-06-04 08:00:00\n",
      "2021-03-23 14:47:55,426 - simulator - INFO - CMS: Timestep for rank 0/1 - 0.5220662309999966,0.5220828056335449 - 2020-06-04 08:00:00\n",
      "\n",
      "2021-03-23 14:47:55,427 - simulator - INFO - ==================== timestep ====================\n",
      "2021-03-23 14:47:55,614 - activity_manager - INFO - CMS: People COMS for rank 0/1 - 2.3389999981304754e-06,2.1457672119140625e-06 - 2020-06-04 10:00:00\n",
      "2021-03-23 14:47:55,618 - simulator - INFO - Info for rank 0, Date = 2020-06-04 10:00:00, number of deaths =  0, number of infected = 51\n",
      "2021-03-23 14:47:55,656 - simulator - INFO - CMS: Infection COMS-v2 for rank 0/1(2)0.0001647389999988036,0.0001647472381591797 - 2020-06-04 10:00:00\n",
      "2021-03-23 14:47:55,704 - simulator - INFO - CMS: Timestep for rank 0/1 - 0.2762143930000036,0.27622294425964355 - 2020-06-04 10:00:00\n",
      "\n",
      "2021-03-23 14:47:55,704 - simulator - INFO - ==================== timestep ====================\n",
      "2021-03-23 14:47:55,883 - activity_manager - INFO - CMS: People COMS for rank 0/1 - 1.956999994945363e-06,2.1457672119140625e-06 - 2020-06-05 00:00:00\n",
      "2021-03-23 14:47:55,888 - simulator - INFO - Info for rank 0, Date = 2020-06-05 00:00:00, number of deaths =  0, number of infected = 52\n",
      "2021-03-23 14:47:55,923 - simulator - INFO - CMS: Infection COMS-v2 for rank 0/1(2)0.00017369300000069643,0.00017380714416503906 - 2020-06-05 00:00:00\n",
      "2021-03-23 14:47:55,971 - simulator - INFO - CMS: Timestep for rank 0/1 - 0.2659772700000005,0.26598691940307617 - 2020-06-05 00:00:00\n",
      "\n",
      "2021-03-23 14:47:55,971 - simulator - INFO - ==================== timestep ====================\n",
      "2021-03-23 14:47:56,416 - activity_manager - INFO - CMS: People COMS for rank 0/1 - 2.913999999520911e-06,2.86102294921875e-06 - 2020-06-05 02:00:00\n",
      "2021-03-23 14:47:56,420 - simulator - INFO - Info for rank 0, Date = 2020-06-05 02:00:00, number of deaths =  0, number of infected = 52\n",
      "2021-03-23 14:47:56,475 - simulator - INFO - CMS: Infection COMS-v2 for rank 0/1(2)0.0006454409999960831,0.0006449222564697266 - 2020-06-05 02:00:00\n",
      "2021-03-23 14:47:56,525 - simulator - INFO - CMS: Timestep for rank 0/1 - 0.553114922000006,0.5531308650970459 - 2020-06-05 02:00:00\n",
      "\n",
      "2021-03-23 14:47:56,526 - simulator - INFO - ==================== timestep ====================\n"
     ]
    },
    {
     "name": "stdout",
     "output_type": "stream",
     "text": [
      "2021-03-23 14:47:56,930 - activity_manager - INFO - CMS: People COMS for rank 0/1 - 2.4799999991387267e-06,3.0994415283203125e-06 - 2020-06-05 04:00:00\n",
      "2021-03-23 14:47:56,934 - simulator - INFO - Info for rank 0, Date = 2020-06-05 04:00:00, number of deaths =  0, number of infected = 52\n",
      "2021-03-23 14:47:56,983 - simulator - INFO - CMS: Infection COMS-v2 for rank 0/1(2)0.00019121599999749606,0.0001919269561767578 - 2020-06-05 04:00:00\n",
      "2021-03-23 14:47:57,029 - simulator - INFO - CMS: Timestep for rank 0/1 - 0.5033525349999977,0.5033679008483887 - 2020-06-05 04:00:00\n",
      "\n",
      "2021-03-23 14:47:57,030 - simulator - INFO - ==================== timestep ====================\n",
      "2021-03-23 14:47:57,447 - activity_manager - INFO - CMS: People COMS for rank 0/1 - 2.6940000026343114e-06,2.86102294921875e-06 - 2020-06-05 06:00:00\n",
      "2021-03-23 14:47:57,451 - simulator - INFO - Info for rank 0, Date = 2020-06-05 06:00:00, number of deaths =  0, number of infected = 52\n",
      "2021-03-23 14:47:57,499 - simulator - INFO - CMS: Infection COMS-v2 for rank 0/1(2)0.00017081000000018776,0.00017118453979492188 - 2020-06-05 06:00:00\n",
      "2021-03-23 14:47:57,545 - simulator - INFO - CMS: Timestep for rank 0/1 - 0.5143823499999982,0.5143990516662598 - 2020-06-05 06:00:00\n",
      "\n",
      "2021-03-23 14:47:57,546 - simulator - INFO - ==================== timestep ====================\n",
      "2021-03-23 14:47:57,947 - activity_manager - INFO - CMS: People COMS for rank 0/1 - 2.76400000132071e-06,3.0994415283203125e-06 - 2020-06-05 08:00:00\n",
      "2021-03-23 14:47:57,951 - simulator - INFO - Info for rank 0, Date = 2020-06-05 08:00:00, number of deaths =  0, number of infected = 53\n",
      "2021-03-23 14:47:57,994 - simulator - INFO - CMS: Infection COMS-v2 for rank 0/1(2)0.0001703739999996401,0.0001709461212158203 - 2020-06-05 08:00:00\n",
      "2021-03-23 14:47:58,036 - simulator - INFO - CMS: Timestep for rank 0/1 - 0.4895704990000027,0.48958683013916016 - 2020-06-05 08:00:00\n",
      "\n",
      "2021-03-23 14:47:58,036 - simulator - INFO - ==================== timestep ====================\n",
      "2021-03-23 14:47:58,211 - activity_manager - INFO - CMS: People COMS for rank 0/1 - 1.7699999972364822e-06,2.1457672119140625e-06 - 2020-06-05 10:00:00\n",
      "2021-03-23 14:47:58,215 - simulator - INFO - Info for rank 0, Date = 2020-06-05 10:00:00, number of deaths =  0, number of infected = 53\n",
      "2021-03-23 14:47:58,250 - simulator - INFO - CMS: Infection COMS-v2 for rank 0/1(2)0.00017084799999622646,0.0001709461212158203 - 2020-06-05 10:00:00\n",
      "2021-03-23 14:47:58,295 - simulator - INFO - CMS: Timestep for rank 0/1 - 0.25851255300000275,0.25852108001708984 - 2020-06-05 10:00:00\n",
      "\n",
      "2021-03-23 14:47:58,296 - simulator - INFO - ==================== timestep ====================\n",
      "2021-03-23 14:47:58,470 - activity_manager - INFO - CMS: People COMS for rank 0/1 - 1.9169999987411757e-06,1.1920928955078125e-06 - 2020-06-06 00:00:00\n",
      "2021-03-23 14:47:58,475 - simulator - INFO - Info for rank 0, Date = 2020-06-06 00:00:00, number of deaths =  0, number of infected = 54\n",
      "2021-03-23 14:47:58,513 - simulator - INFO - CMS: Infection COMS-v2 for rank 0/1(2)0.00017024000000276374,0.00016999244689941406 - 2020-06-06 00:00:00\n",
      "2021-03-23 14:47:58,647 - simulator - INFO - CMS: Timestep for rank 0/1 - 0.350866019999998,0.3508780002593994 - 2020-06-06 00:00:00\n",
      "\n",
      "2021-03-23 14:47:58,648 - simulator - INFO - ==================== timestep ====================\n",
      "2021-03-23 14:47:59,066 - activity_manager - INFO - CMS: People COMS for rank 0/1 - 2.328000000773045e-06,3.0994415283203125e-06 - 2020-06-06 03:00:00\n",
      "2021-03-23 14:47:59,071 - simulator - INFO - Info for rank 0, Date = 2020-06-06 03:00:00, number of deaths =  0, number of infected = 55\n",
      "2021-03-23 14:47:59,113 - simulator - INFO - CMS: Infection COMS-v2 for rank 0/1(2)0.00016967599999873073,0.00016999244689941406 - 2020-06-06 03:00:00\n",
      "2021-03-23 14:47:59,159 - simulator - INFO - CMS: Timestep for rank 0/1 - 0.5107074510000018,0.5107238292694092 - 2020-06-06 03:00:00\n",
      "\n",
      "2021-03-23 14:47:59,160 - simulator - INFO - ==================== timestep ====================\n",
      "2021-03-23 14:47:59,570 - activity_manager - INFO - CMS: People COMS for rank 0/1 - 2.8820000039786464e-06,2.86102294921875e-06 - 2020-06-06 05:00:00\n",
      "2021-03-23 14:47:59,575 - simulator - INFO - Info for rank 0, Date = 2020-06-06 05:00:00, number of deaths =  0, number of infected = 55\n",
      "2021-03-23 14:47:59,627 - simulator - INFO - CMS: Infection COMS-v2 for rank 0/1(2)0.0004513330000008864,0.00045180320739746094 - 2020-06-06 05:00:00\n",
      "2021-03-23 14:47:59,674 - simulator - INFO - CMS: Timestep for rank 0/1 - 0.5135075520000001,0.5135250091552734 - 2020-06-06 05:00:00\n",
      "\n",
      "2021-03-23 14:47:59,674 - simulator - INFO - ==================== timestep ====================\n",
      "2021-03-23 14:48:00,078 - activity_manager - INFO - CMS: People COMS for rank 0/1 - 2.2190000024124856e-06,1.9073486328125e-06 - 2020-06-06 07:00:00\n",
      "2021-03-23 14:48:00,082 - simulator - INFO - Info for rank 0, Date = 2020-06-06 07:00:00, number of deaths =  0, number of infected = 55\n",
      "2021-03-23 14:48:00,130 - simulator - INFO - CMS: Infection COMS-v2 for rank 0/1(2)0.0001670789999934641,0.00016689300537109375 - 2020-06-06 07:00:00\n",
      "2021-03-23 14:48:00,175 - simulator - INFO - CMS: Timestep for rank 0/1 - 0.5007150049999964,0.5007288455963135 - 2020-06-06 07:00:00\n",
      "\n",
      "2021-03-23 14:48:00,176 - simulator - INFO - ==================== timestep ====================\n",
      "2021-03-23 14:48:00,571 - activity_manager - INFO - CMS: People COMS for rank 0/1 - 2.7359999990039796e-06,3.0994415283203125e-06 - 2020-06-06 09:00:00\n",
      "2021-03-23 14:48:00,575 - simulator - INFO - Info for rank 0, Date = 2020-06-06 09:00:00, number of deaths =  0, number of infected = 55\n",
      "2021-03-23 14:48:00,620 - simulator - INFO - CMS: Infection COMS-v2 for rank 0/1(2)0.00018400000000440286,0.0001838207244873047 - 2020-06-06 09:00:00\n",
      "2021-03-23 14:48:00,666 - simulator - INFO - CMS: Timestep for rank 0/1 - 0.4896207660000016,0.4896368980407715 - 2020-06-06 09:00:00\n",
      "\n",
      "2021-03-23 14:48:00,667 - simulator - INFO - ==================== timestep ====================\n",
      "2021-03-23 14:48:00,841 - activity_manager - INFO - CMS: People COMS for rank 0/1 - 1.7349999978932829e-06,1.9073486328125e-06 - 2020-06-06 11:00:00\n",
      "2021-03-23 14:48:00,845 - simulator - INFO - Info for rank 0, Date = 2020-06-06 11:00:00, number of deaths =  0, number of infected = 55\n",
      "2021-03-23 14:48:00,882 - simulator - INFO - CMS: Infection COMS-v2 for rank 0/1(2)0.00016843000000221764,0.0001678466796875 - 2020-06-06 11:00:00\n",
      "2021-03-23 14:48:00,929 - simulator - INFO - CMS: Timestep for rank 0/1 - 0.2611370690000001,0.26114606857299805 - 2020-06-06 11:00:00\n",
      "\n",
      "2021-03-23 14:48:00,929 - simulator - INFO - ==================== timestep ====================\n",
      "2021-03-23 14:48:01,102 - activity_manager - INFO - CMS: People COMS for rank 0/1 - 1.6340000001946464e-06,1.9073486328125e-06 - 2020-06-07 00:00:00\n",
      "2021-03-23 14:48:01,107 - simulator - INFO - Info for rank 0, Date = 2020-06-07 00:00:00, number of deaths =  0, number of infected = 57\n",
      "2021-03-23 14:48:01,146 - simulator - INFO - CMS: Infection COMS-v2 for rank 0/1(2)0.00018132099999945694,0.00018095970153808594 - 2020-06-07 00:00:00\n",
      "2021-03-23 14:48:01,194 - simulator - INFO - CMS: Timestep for rank 0/1 - 0.2641026289999999,0.264110803604126 - 2020-06-07 00:00:00\n",
      "\n",
      "2021-03-23 14:48:01,195 - simulator - INFO - ==================== timestep ====================\n",
      "2021-03-23 14:48:01,589 - activity_manager - INFO - CMS: People COMS for rank 0/1 - 2.4060000001213666e-06,2.1457672119140625e-06 - 2020-06-07 03:00:00\n",
      "2021-03-23 14:48:01,594 - simulator - INFO - Info for rank 0, Date = 2020-06-07 03:00:00, number of deaths =  0, number of infected = 58\n",
      "2021-03-23 14:48:01,639 - simulator - INFO - CMS: Infection COMS-v2 for rank 0/1(2)0.00015433600000136494,0.00015401840209960938 - 2020-06-07 03:00:00\n",
      "2021-03-23 14:48:01,683 - simulator - INFO - CMS: Timestep for rank 0/1 - 0.48772712800000306,0.48774194717407227 - 2020-06-07 03:00:00\n",
      "\n",
      "2021-03-23 14:48:01,684 - simulator - INFO - ==================== timestep ====================\n",
      "2021-03-23 14:48:02,084 - activity_manager - INFO - CMS: People COMS for rank 0/1 - 2.567999999314452e-06,2.1457672119140625e-06 - 2020-06-07 05:00:00\n",
      "2021-03-23 14:48:02,088 - simulator - INFO - Info for rank 0, Date = 2020-06-07 05:00:00, number of deaths =  0, number of infected = 59\n"
     ]
    },
    {
     "name": "stdout",
     "output_type": "stream",
     "text": [
      "2021-03-23 14:48:02,133 - simulator - INFO - CMS: Infection COMS-v2 for rank 0/1(2)0.0002758509999978287,0.0002758502960205078 - 2020-06-07 05:00:00\n",
      "2021-03-23 14:48:02,178 - simulator - INFO - CMS: Timestep for rank 0/1 - 0.4938370130000038,0.4938509464263916 - 2020-06-07 05:00:00\n",
      "\n",
      "2021-03-23 14:48:02,179 - simulator - INFO - ==================== timestep ====================\n",
      "2021-03-23 14:48:02,574 - activity_manager - INFO - CMS: People COMS for rank 0/1 - 2.55300000162606e-06,2.1457672119140625e-06 - 2020-06-07 07:00:00\n",
      "2021-03-23 14:48:02,579 - simulator - INFO - Info for rank 0, Date = 2020-06-07 07:00:00, number of deaths =  0, number of infected = 59\n",
      "2021-03-23 14:48:02,624 - simulator - INFO - CMS: Infection COMS-v2 for rank 0/1(2)0.000170900999997059,0.00017118453979492188 - 2020-06-07 07:00:00\n",
      "2021-03-23 14:48:02,668 - simulator - INFO - CMS: Timestep for rank 0/1 - 0.48874825899999763,0.48876500129699707 - 2020-06-07 07:00:00\n",
      "\n",
      "2021-03-23 14:48:02,669 - simulator - INFO - ==================== timestep ====================\n",
      "2021-03-23 14:48:03,068 - activity_manager - INFO - CMS: People COMS for rank 0/1 - 2.2030000010886397e-06,1.9073486328125e-06 - 2020-06-07 09:00:00\n",
      "2021-03-23 14:48:03,074 - simulator - INFO - Info for rank 0, Date = 2020-06-07 09:00:00, number of deaths =  0, number of infected = 59\n",
      "2021-03-23 14:48:03,117 - simulator - INFO - CMS: Infection COMS-v2 for rank 0/1(2)0.00039520899999700987,0.0003960132598876953 - 2020-06-07 09:00:00\n",
      "2021-03-23 14:48:03,161 - simulator - INFO - CMS: Timestep for rank 0/1 - 0.4924727599999983,0.4924900531768799 - 2020-06-07 09:00:00\n",
      "\n",
      "2021-03-23 14:48:03,162 - simulator - INFO - ==================== timestep ====================\n",
      "2021-03-23 14:48:03,340 - activity_manager - INFO - CMS: People COMS for rank 0/1 - 2.389000002267494e-06,3.0994415283203125e-06 - 2020-06-07 11:00:00\n",
      "2021-03-23 14:48:03,345 - simulator - INFO - Info for rank 0, Date = 2020-06-07 11:00:00, number of deaths =  0, number of infected = 59\n",
      "2021-03-23 14:48:03,386 - simulator - INFO - CMS: Infection COMS-v2 for rank 0/1(2)0.00019103800000408455,0.0001900196075439453 - 2020-06-07 11:00:00\n",
      "2021-03-23 14:48:03,435 - simulator - INFO - CMS: Timestep for rank 0/1 - 0.2726260929999995,0.27263593673706055 - 2020-06-07 11:00:00\n",
      "\n",
      "2021-03-23 14:48:03,436 - simulator - INFO - ==================== timestep ====================\n",
      "2021-03-23 14:48:03,620 - activity_manager - INFO - CMS: People COMS for rank 0/1 - 1.953000001719829e-06,9.5367431640625e-07 - 2020-06-08 00:00:00\n",
      "2021-03-23 14:48:03,625 - simulator - INFO - Info for rank 0, Date = 2020-06-08 00:00:00, number of deaths =  0, number of infected = 67\n",
      "2021-03-23 14:48:03,661 - simulator - INFO - CMS: Infection COMS-v2 for rank 0/1(2)0.00019035999999772457,0.00019097328186035156 - 2020-06-08 00:00:00\n",
      "2021-03-23 14:48:03,707 - simulator - INFO - CMS: Timestep for rank 0/1 - 0.27034604600000023,0.2703559398651123 - 2020-06-08 00:00:00\n",
      "\n",
      "2021-03-23 14:48:03,707 - simulator - INFO - ==================== timestep ====================\n",
      "2021-03-23 14:48:04,117 - activity_manager - INFO - CMS: People COMS for rank 0/1 - 2.621000000146978e-06,3.0994415283203125e-06 - 2020-06-08 02:00:00\n",
      "2021-03-23 14:48:04,121 - simulator - INFO - Info for rank 0, Date = 2020-06-08 02:00:00, number of deaths =  0, number of infected = 67\n",
      "2021-03-23 14:48:04,166 - simulator - INFO - CMS: Infection COMS-v2 for rank 0/1(2)0.00020796300000114343,0.00020813941955566406 - 2020-06-08 02:00:00\n",
      "2021-03-23 14:48:04,212 - simulator - INFO - CMS: Timestep for rank 0/1 - 0.5037834139999973,0.5038001537322998 - 2020-06-08 02:00:00\n",
      "\n",
      "2021-03-23 14:48:04,212 - simulator - INFO - ==================== timestep ====================\n",
      "2021-03-23 14:48:04,631 - activity_manager - INFO - CMS: People COMS for rank 0/1 - 3.102000000865246e-06,3.0994415283203125e-06 - 2020-06-08 04:00:00\n",
      "2021-03-23 14:48:04,636 - simulator - INFO - Info for rank 0, Date = 2020-06-08 04:00:00, number of deaths =  0, number of infected = 70\n",
      "2021-03-23 14:48:04,681 - simulator - INFO - CMS: Infection COMS-v2 for rank 0/1(2)0.00017872900000526215,0.00017786026000976562 - 2020-06-08 04:00:00\n",
      "2021-03-23 14:48:04,725 - simulator - INFO - CMS: Timestep for rank 0/1 - 0.5121853919999992,0.5122008323669434 - 2020-06-08 04:00:00\n",
      "\n",
      "2021-03-23 14:48:04,726 - simulator - INFO - ==================== timestep ====================\n",
      "2021-03-23 14:48:05,136 - activity_manager - INFO - CMS: People COMS for rank 0/1 - 2.59899999832669e-06,1.9073486328125e-06 - 2020-06-08 06:00:00\n",
      "2021-03-23 14:48:05,141 - simulator - INFO - Info for rank 0, Date = 2020-06-08 06:00:00, number of deaths =  0, number of infected = 70\n",
      "2021-03-23 14:48:05,189 - simulator - INFO - CMS: Infection COMS-v2 for rank 0/1(2)0.00045416100000039705,0.000453948974609375 - 2020-06-08 06:00:00\n",
      "2021-03-23 14:48:05,232 - simulator - INFO - CMS: Timestep for rank 0/1 - 0.5063539410000004,0.506371021270752 - 2020-06-08 06:00:00\n",
      "\n",
      "2021-03-23 14:48:05,233 - simulator - INFO - ==================== timestep ====================\n",
      "2021-03-23 14:48:05,635 - activity_manager - INFO - CMS: People COMS for rank 0/1 - 2.484999995999715e-06,2.1457672119140625e-06 - 2020-06-08 08:00:00\n",
      "2021-03-23 14:48:05,639 - simulator - INFO - Info for rank 0, Date = 2020-06-08 08:00:00, number of deaths =  0, number of infected = 70\n",
      "2021-03-23 14:48:05,683 - simulator - INFO - CMS: Infection COMS-v2 for rank 0/1(2)0.0003245520000021429,0.00032520294189453125 - 2020-06-08 08:00:00\n",
      "2021-03-23 14:48:05,727 - simulator - INFO - CMS: Timestep for rank 0/1 - 0.4931349390000008,0.493149995803833 - 2020-06-08 08:00:00\n",
      "\n",
      "2021-03-23 14:48:05,727 - simulator - INFO - ==================== timestep ====================\n",
      "2021-03-23 14:48:05,901 - activity_manager - INFO - CMS: People COMS for rank 0/1 - 1.8519999969157652e-06,1.9073486328125e-06 - 2020-06-08 10:00:00\n",
      "2021-03-23 14:48:05,906 - simulator - INFO - Info for rank 0, Date = 2020-06-08 10:00:00, number of deaths =  0, number of infected = 71\n",
      "2021-03-23 14:48:05,944 - simulator - INFO - CMS: Infection COMS-v2 for rank 0/1(2)0.0001899359999981698,0.0001900196075439453 - 2020-06-08 10:00:00\n",
      "2021-03-23 14:48:05,991 - simulator - INFO - CMS: Timestep for rank 0/1 - 0.26341780599999964,0.2634270191192627 - 2020-06-08 10:00:00\n",
      "\n",
      "2021-03-23 14:48:05,992 - simulator - INFO - ==================== timestep ====================\n",
      "2021-03-23 14:48:06,164 - activity_manager - INFO - CMS: People COMS for rank 0/1 - 1.6529999982139998e-06,9.5367431640625e-07 - 2020-06-09 00:00:00\n",
      "2021-03-23 14:48:06,168 - simulator - INFO - Info for rank 0, Date = 2020-06-09 00:00:00, number of deaths =  0, number of infected = 76\n",
      "2021-03-23 14:48:06,201 - simulator - INFO - CMS: Infection COMS-v2 for rank 0/1(2)0.00014714099999935115,0.00014734268188476562 - 2020-06-09 00:00:00\n",
      "2021-03-23 14:48:06,248 - simulator - INFO - CMS: Timestep for rank 0/1 - 0.25547704799999593,0.25548601150512695 - 2020-06-09 00:00:00\n",
      "\n",
      "2021-03-23 14:48:06,249 - simulator - INFO - ==================== timestep ====================\n",
      "2021-03-23 14:48:06,675 - activity_manager - INFO - CMS: People COMS for rank 0/1 - 2.5660000062543986e-06,2.1457672119140625e-06 - 2020-06-09 02:00:00\n",
      "2021-03-23 14:48:06,680 - simulator - INFO - Info for rank 0, Date = 2020-06-09 02:00:00, number of deaths =  0, number of infected = 77\n",
      "2021-03-23 14:48:06,723 - simulator - INFO - CMS: Infection COMS-v2 for rank 0/1(2)0.00016436299999611492,0.00016498565673828125 - 2020-06-09 02:00:00\n",
      "2021-03-23 14:48:06,767 - simulator - INFO - CMS: Timestep for rank 0/1 - 0.5182398259999985,0.5182559490203857 - 2020-06-09 02:00:00\n",
      "\n",
      "2021-03-23 14:48:06,768 - simulator - INFO - ==================== timestep ====================\n",
      "2021-03-23 14:48:07,198 - activity_manager - INFO - CMS: People COMS for rank 0/1 - 2.4619999976494e-06,1.9073486328125e-06 - 2020-06-09 04:00:00\n",
      "2021-03-23 14:48:07,202 - simulator - INFO - Info for rank 0, Date = 2020-06-09 04:00:00, number of deaths =  0, number of infected = 77\n",
      "2021-03-23 14:48:07,249 - simulator - INFO - CMS: Infection COMS-v2 for rank 0/1(2)0.00017830499999860194,0.00017905235290527344 - 2020-06-09 04:00:00\n",
      "2021-03-23 14:48:07,296 - simulator - INFO - CMS: Timestep for rank 0/1 - 0.5278823310000007,0.5278980731964111 - 2020-06-09 04:00:00\n",
      "\n"
     ]
    },
    {
     "name": "stdout",
     "output_type": "stream",
     "text": [
      "2021-03-23 14:48:07,297 - simulator - INFO - ==================== timestep ====================\n",
      "2021-03-23 14:48:07,710 - activity_manager - INFO - CMS: People COMS for rank 0/1 - 2.421999994339785e-06,3.0994415283203125e-06 - 2020-06-09 06:00:00\n",
      "2021-03-23 14:48:07,714 - simulator - INFO - Info for rank 0, Date = 2020-06-09 06:00:00, number of deaths =  0, number of infected = 78\n",
      "2021-03-23 14:48:07,757 - simulator - INFO - CMS: Infection COMS-v2 for rank 0/1(2)0.00023233900000008134,0.00023221969604492188 - 2020-06-09 06:00:00\n",
      "2021-03-23 14:48:07,801 - simulator - INFO - CMS: Timestep for rank 0/1 - 0.5034796039999989,0.5034952163696289 - 2020-06-09 06:00:00\n",
      "\n",
      "2021-03-23 14:48:07,802 - simulator - INFO - ==================== timestep ====================\n",
      "2021-03-23 14:48:08,196 - activity_manager - INFO - CMS: People COMS for rank 0/1 - 2.4160000009487703e-06,2.86102294921875e-06 - 2020-06-09 08:00:00\n",
      "2021-03-23 14:48:08,200 - simulator - INFO - Info for rank 0, Date = 2020-06-09 08:00:00, number of deaths =  0, number of infected = 78\n",
      "2021-03-23 14:48:08,242 - simulator - INFO - CMS: Infection COMS-v2 for rank 0/1(2)0.00014783999999679054,0.00014710426330566406 - 2020-06-09 08:00:00\n",
      "2021-03-23 14:48:08,286 - simulator - INFO - CMS: Timestep for rank 0/1 - 0.48369572000000005,0.48371124267578125 - 2020-06-09 08:00:00\n",
      "\n",
      "2021-03-23 14:48:08,287 - simulator - INFO - ==================== timestep ====================\n",
      "2021-03-23 14:48:08,472 - activity_manager - INFO - CMS: People COMS for rank 0/1 - 2.3099999992837184e-06,2.1457672119140625e-06 - 2020-06-09 10:00:00\n",
      "2021-03-23 14:48:08,476 - simulator - INFO - Info for rank 0, Date = 2020-06-09 10:00:00, number of deaths =  0, number of infected = 79\n",
      "2021-03-23 14:48:08,516 - simulator - INFO - CMS: Infection COMS-v2 for rank 0/1(2)0.00043722500000598075,0.00043582916259765625 - 2020-06-09 10:00:00\n",
      "2021-03-23 14:48:08,562 - simulator - INFO - CMS: Timestep for rank 0/1 - 0.2753024499999981,0.2753129005432129 - 2020-06-09 10:00:00\n",
      "\n",
      "2021-03-23 14:48:08,563 - simulator - INFO - ==================== timestep ====================\n",
      "2021-03-23 14:48:08,739 - activity_manager - INFO - CMS: People COMS for rank 0/1 - 1.6850000008616917e-06,1.9073486328125e-06 - 2020-06-10 00:00:00\n",
      "2021-03-23 14:48:08,744 - simulator - INFO - Info for rank 0, Date = 2020-06-10 00:00:00, number of deaths =  0, number of infected = 80\n",
      "2021-03-23 14:48:08,778 - simulator - INFO - CMS: Infection COMS-v2 for rank 0/1(2)0.00018254700000142066,0.00018286705017089844 - 2020-06-10 00:00:00\n",
      "2021-03-23 14:48:08,821 - simulator - INFO - CMS: Timestep for rank 0/1 - 0.25720570500000406,0.2572150230407715 - 2020-06-10 00:00:00\n",
      "\n",
      "2021-03-23 14:48:08,821 - simulator - INFO - ==================== timestep ====================\n",
      "2021-03-23 14:48:09,227 - activity_manager - INFO - CMS: People COMS for rank 0/1 - 2.3870000021020132e-06,3.0994415283203125e-06 - 2020-06-10 02:00:00\n",
      "2021-03-23 14:48:09,232 - simulator - INFO - Info for rank 0, Date = 2020-06-10 02:00:00, number of deaths =  0, number of infected = 81\n",
      "2021-03-23 14:48:09,276 - simulator - INFO - CMS: Infection COMS-v2 for rank 0/1(2)0.00018455000000017208,0.0001838207244873047 - 2020-06-10 02:00:00\n",
      "2021-03-23 14:48:09,322 - simulator - INFO - CMS: Timestep for rank 0/1 - 0.4998804910000061,0.4998958110809326 - 2020-06-10 02:00:00\n",
      "\n",
      "2021-03-23 14:48:09,322 - simulator - INFO - ==================== timestep ====================\n",
      "2021-03-23 14:48:09,727 - activity_manager - INFO - CMS: People COMS for rank 0/1 - 2.6069999989886128e-06,1.9073486328125e-06 - 2020-06-10 04:00:00\n",
      "2021-03-23 14:48:09,731 - simulator - INFO - Info for rank 0, Date = 2020-06-10 04:00:00, number of deaths =  0, number of infected = 81\n",
      "2021-03-23 14:48:09,774 - simulator - INFO - CMS: Infection COMS-v2 for rank 0/1(2)0.00015311599999989767,0.00015306472778320312 - 2020-06-10 04:00:00\n",
      "2021-03-23 14:48:09,816 - simulator - INFO - CMS: Timestep for rank 0/1 - 0.49346089499999835,0.49347710609436035 - 2020-06-10 04:00:00\n",
      "\n",
      "2021-03-23 14:48:09,817 - simulator - INFO - ==================== timestep ====================\n",
      "2021-03-23 14:48:10,232 - activity_manager - INFO - CMS: People COMS for rank 0/1 - 2.8210000024841975e-06,2.86102294921875e-06 - 2020-06-10 06:00:00\n",
      "2021-03-23 14:48:10,238 - simulator - INFO - Info for rank 0, Date = 2020-06-10 06:00:00, number of deaths =  0, number of infected = 82\n",
      "2021-03-23 14:48:10,287 - simulator - INFO - CMS: Infection COMS-v2 for rank 0/1(2)0.00019183299999525616,0.0001919269561767578 - 2020-06-10 06:00:00\n",
      "2021-03-23 14:48:10,335 - simulator - INFO - CMS: Timestep for rank 0/1 - 0.5176407149999989,0.5176582336425781 - 2020-06-10 06:00:00\n",
      "\n",
      "2021-03-23 14:48:10,336 - simulator - INFO - ==================== timestep ====================\n",
      "2021-03-23 14:48:10,742 - activity_manager - INFO - CMS: People COMS for rank 0/1 - 2.598000001796663e-06,1.6689300537109375e-06 - 2020-06-10 08:00:00\n",
      "2021-03-23 14:48:10,747 - simulator - INFO - Info for rank 0, Date = 2020-06-10 08:00:00, number of deaths =  0, number of infected = 82\n",
      "2021-03-23 14:48:10,791 - simulator - INFO - CMS: Infection COMS-v2 for rank 0/1(2)0.000203972999997859,0.0002040863037109375 - 2020-06-10 08:00:00\n",
      "2021-03-23 14:48:10,840 - simulator - INFO - CMS: Timestep for rank 0/1 - 0.5030057379999988,0.5030219554901123 - 2020-06-10 08:00:00\n",
      "\n",
      "2021-03-23 14:48:10,840 - simulator - INFO - ==================== timestep ====================\n",
      "2021-03-23 14:48:11,023 - activity_manager - INFO - CMS: People COMS for rank 0/1 - 1.8140000008770585e-06,1.9073486328125e-06 - 2020-06-10 10:00:00\n",
      "2021-03-23 14:48:11,027 - simulator - INFO - Info for rank 0, Date = 2020-06-10 10:00:00, number of deaths =  0, number of infected = 84\n",
      "2021-03-23 14:48:11,065 - simulator - INFO - CMS: Infection COMS-v2 for rank 0/1(2)0.00017279699999761533,0.00017213821411132812 - 2020-06-10 10:00:00\n",
      "2021-03-23 14:48:11,111 - simulator - INFO - CMS: Timestep for rank 0/1 - 0.27072090800000126,0.2707326412200928 - 2020-06-10 10:00:00\n",
      "\n",
      "2021-03-23 14:48:11,112 - simulator - INFO - ==================== timestep ====================\n",
      "2021-03-23 14:48:11,291 - activity_manager - INFO - CMS: People COMS for rank 0/1 - 1.80099999624872e-06,1.6689300537109375e-06 - 2020-06-11 00:00:00\n",
      "2021-03-23 14:48:11,296 - simulator - INFO - Info for rank 0, Date = 2020-06-11 00:00:00, number of deaths =  0, number of infected = 90\n",
      "2021-03-23 14:48:11,329 - simulator - INFO - CMS: Infection COMS-v2 for rank 0/1(2)0.00017281599999563468,0.0001728534698486328 - 2020-06-11 00:00:00\n",
      "2021-03-23 14:48:11,373 - simulator - INFO - CMS: Timestep for rank 0/1 - 0.2600797770000014,0.2600889205932617 - 2020-06-11 00:00:00\n",
      "\n",
      "2021-03-23 14:48:11,374 - simulator - INFO - ==================== timestep ====================\n",
      "2021-03-23 14:48:11,782 - activity_manager - INFO - CMS: People COMS for rank 0/1 - 2.551999997990606e-06,3.0994415283203125e-06 - 2020-06-11 02:00:00\n",
      "2021-03-23 14:48:11,788 - simulator - INFO - Info for rank 0, Date = 2020-06-11 02:00:00, number of deaths =  0, number of infected = 91\n",
      "2021-03-23 14:48:11,834 - simulator - INFO - CMS: Infection COMS-v2 for rank 0/1(2)0.00020257599999951026,0.0002028942108154297 - 2020-06-11 02:00:00\n",
      "2021-03-23 14:48:11,883 - simulator - INFO - CMS: Timestep for rank 0/1 - 0.5087810389999987,0.5087952613830566 - 2020-06-11 02:00:00\n",
      "\n",
      "2021-03-23 14:48:11,884 - simulator - INFO - ==================== timestep ====================\n",
      "2021-03-23 14:48:12,289 - activity_manager - INFO - CMS: People COMS for rank 0/1 - 2.5800000003073364e-06,1.9073486328125e-06 - 2020-06-11 04:00:00\n",
      "2021-03-23 14:48:12,293 - simulator - INFO - Info for rank 0, Date = 2020-06-11 04:00:00, number of deaths =  0, number of infected = 93\n",
      "2021-03-23 14:48:12,338 - simulator - INFO - CMS: Infection COMS-v2 for rank 0/1(2)0.00015357499999879565,0.00015401840209960938 - 2020-06-11 04:00:00\n",
      "2021-03-23 14:48:12,383 - simulator - INFO - CMS: Timestep for rank 0/1 - 0.4990487479999999,0.4990651607513428 - 2020-06-11 04:00:00\n",
      "\n",
      "2021-03-23 14:48:12,384 - simulator - INFO - ==================== timestep ====================\n",
      "2021-03-23 14:48:12,783 - activity_manager - INFO - CMS: People COMS for rank 0/1 - 2.10299999992003e-06,2.1457672119140625e-06 - 2020-06-11 06:00:00\n"
     ]
    },
    {
     "name": "stdout",
     "output_type": "stream",
     "text": [
      "2021-03-23 14:48:12,787 - simulator - INFO - Info for rank 0, Date = 2020-06-11 06:00:00, number of deaths =  0, number of infected = 94\n",
      "2021-03-23 14:48:12,829 - simulator - INFO - CMS: Infection COMS-v2 for rank 0/1(2)0.00015863500000534714,0.0001590251922607422 - 2020-06-11 06:00:00\n",
      "2021-03-23 14:48:12,874 - simulator - INFO - CMS: Timestep for rank 0/1 - 0.48937032999999985,0.48938703536987305 - 2020-06-11 06:00:00\n",
      "\n",
      "2021-03-23 14:48:12,874 - simulator - INFO - ==================== timestep ====================\n",
      "2021-03-23 14:48:13,275 - activity_manager - INFO - CMS: People COMS for rank 0/1 - 3.0980000005342845e-06,2.86102294921875e-06 - 2020-06-11 08:00:00\n",
      "2021-03-23 14:48:13,280 - simulator - INFO - Info for rank 0, Date = 2020-06-11 08:00:00, number of deaths =  0, number of infected = 94\n",
      "2021-03-23 14:48:13,334 - simulator - INFO - CMS: Infection COMS-v2 for rank 0/1(2)0.00018987699999684082,0.0001900196075439453 - 2020-06-11 08:00:00\n",
      "2021-03-23 14:48:13,381 - simulator - INFO - CMS: Timestep for rank 0/1 - 0.5061749269999964,0.5061919689178467 - 2020-06-11 08:00:00\n",
      "\n",
      "2021-03-23 14:48:13,382 - simulator - INFO - ==================== timestep ====================\n",
      "2021-03-23 14:48:13,563 - activity_manager - INFO - CMS: People COMS for rank 0/1 - 1.9159999951057216e-06,1.6689300537109375e-06 - 2020-06-11 10:00:00\n",
      "2021-03-23 14:48:13,568 - simulator - INFO - Info for rank 0, Date = 2020-06-11 10:00:00, number of deaths =  0, number of infected = 94\n",
      "2021-03-23 14:48:13,602 - simulator - INFO - CMS: Infection COMS-v2 for rank 0/1(2)0.00019434100000381704,0.0001938343048095703 - 2020-06-11 10:00:00\n",
      "2021-03-23 14:48:13,649 - simulator - INFO - CMS: Timestep for rank 0/1 - 0.2663143930000018,0.2663240432739258 - 2020-06-11 10:00:00\n",
      "\n",
      "2021-03-23 14:48:13,649 - simulator - INFO - ==================== timestep ====================\n",
      "2021-03-23 14:48:13,825 - activity_manager - INFO - CMS: People COMS for rank 0/1 - 2.0219999967707736e-06,2.1457672119140625e-06 - 2020-06-12 00:00:00\n",
      "2021-03-23 14:48:13,829 - simulator - INFO - Info for rank 0, Date = 2020-06-12 00:00:00, number of deaths =  0, number of infected = 94\n",
      "2021-03-23 14:48:13,864 - simulator - INFO - CMS: Infection COMS-v2 for rank 0/1(2)0.0001455519999993271,0.00014519691467285156 - 2020-06-12 00:00:00\n",
      "2021-03-23 14:48:13,906 - simulator - INFO - CMS: Timestep for rank 0/1 - 0.25691060599999815,0.25691914558410645 - 2020-06-12 00:00:00\n",
      "\n",
      "2021-03-23 14:48:13,907 - simulator - INFO - ==================== timestep ====================\n",
      "2021-03-23 14:48:14,330 - activity_manager - INFO - CMS: People COMS for rank 0/1 - 2.5490000012950986e-06,3.0994415283203125e-06 - 2020-06-12 02:00:00\n",
      "2021-03-23 14:48:14,334 - simulator - INFO - Info for rank 0, Date = 2020-06-12 02:00:00, number of deaths =  0, number of infected = 95\n",
      "2021-03-23 14:48:14,385 - simulator - INFO - CMS: Infection COMS-v2 for rank 0/1(2)0.00018024500000279886,0.0001800060272216797 - 2020-06-12 02:00:00\n",
      "2021-03-23 14:48:14,431 - simulator - INFO - CMS: Timestep for rank 0/1 - 0.5235483439999982,0.5235641002655029 - 2020-06-12 02:00:00\n",
      "\n",
      "2021-03-23 14:48:14,432 - simulator - INFO - ==================== timestep ====================\n",
      "2021-03-23 14:48:14,839 - activity_manager - INFO - CMS: People COMS for rank 0/1 - 2.910999995719976e-06,2.6226043701171875e-06 - 2020-06-12 04:00:00\n",
      "2021-03-23 14:48:14,843 - simulator - INFO - Info for rank 0, Date = 2020-06-12 04:00:00, number of deaths =  0, number of infected = 96\n",
      "2021-03-23 14:48:14,888 - simulator - INFO - CMS: Infection COMS-v2 for rank 0/1(2)0.00017944599999708544,0.0001800060272216797 - 2020-06-12 04:00:00\n",
      "2021-03-23 14:48:14,932 - simulator - INFO - CMS: Timestep for rank 0/1 - 0.49994338699999474,0.49996018409729004 - 2020-06-12 04:00:00\n",
      "\n",
      "2021-03-23 14:48:14,933 - simulator - INFO - ==================== timestep ====================\n",
      "2021-03-23 14:48:15,334 - activity_manager - INFO - CMS: People COMS for rank 0/1 - 2.2650000062185427e-06,1.9073486328125e-06 - 2020-06-12 06:00:00\n",
      "2021-03-23 14:48:15,339 - simulator - INFO - Info for rank 0, Date = 2020-06-12 06:00:00, number of deaths =  0, number of infected = 96\n",
      "2021-03-23 14:48:15,389 - simulator - INFO - CMS: Infection COMS-v2 for rank 0/1(2)0.0005408869999996568,0.0005409717559814453 - 2020-06-12 06:00:00\n",
      "2021-03-23 14:48:15,437 - simulator - INFO - CMS: Timestep for rank 0/1 - 0.5031487649999988,0.5031647682189941 - 2020-06-12 06:00:00\n",
      "\n",
      "2021-03-23 14:48:15,437 - simulator - INFO - ==================== timestep ====================\n",
      "2021-03-23 14:48:15,844 - activity_manager - INFO - CMS: People COMS for rank 0/1 - 2.3809999945001437e-06,1.6689300537109375e-06 - 2020-06-12 08:00:00\n",
      "2021-03-23 14:48:15,848 - simulator - INFO - Info for rank 0, Date = 2020-06-12 08:00:00, number of deaths =  0, number of infected = 97\n",
      "2021-03-23 14:48:15,891 - simulator - INFO - CMS: Infection COMS-v2 for rank 0/1(2)0.00017037799999997105,0.00016999244689941406 - 2020-06-12 08:00:00\n",
      "2021-03-23 14:48:15,933 - simulator - INFO - CMS: Timestep for rank 0/1 - 0.49528463900000474,0.4953000545501709 - 2020-06-12 08:00:00\n",
      "\n",
      "2021-03-23 14:48:15,934 - simulator - INFO - ==================== timestep ====================\n",
      "2021-03-23 14:48:16,122 - activity_manager - INFO - CMS: People COMS for rank 0/1 - 2.197999997122224e-06,1.9073486328125e-06 - 2020-06-12 10:00:00\n",
      "2021-03-23 14:48:16,126 - simulator - INFO - Info for rank 0, Date = 2020-06-12 10:00:00, number of deaths =  0, number of infected = 97\n",
      "2021-03-23 14:48:16,165 - simulator - INFO - CMS: Infection COMS-v2 for rank 0/1(2)0.0006483180000032007,0.0006477832794189453 - 2020-06-12 10:00:00\n",
      "2021-03-23 14:48:16,209 - simulator - INFO - CMS: Timestep for rank 0/1 - 0.27459015000000164,0.2745997905731201 - 2020-06-12 10:00:00\n",
      "\n",
      "CPU times: user 51.2 s, sys: 3.57 s, total: 54.7 s\n",
      "Wall time: 52 s\n"
     ]
    }
   ],
   "source": [
    "%%time\n",
    "simulator.run()"
   ]
  },
  {
   "cell_type": "markdown",
   "metadata": {},
   "source": [
    "# Getting the results"
   ]
  },
  {
   "cell_type": "markdown",
   "metadata": {},
   "source": [
    "All results are stored in a json file specified in the `record_path` when defining the recorder. This can be read in by passing the folder locations to the `RecordReader` class and results derived.\n",
    "\n",
    "Here we show some examples of the kind of analysis you can extract from the records."
   ]
  },
  {
   "cell_type": "code",
   "execution_count": 46,
   "metadata": {},
   "outputs": [],
   "source": [
    "import pandas as pd"
   ]
  },
  {
   "cell_type": "code",
   "execution_count": 47,
   "metadata": {},
   "outputs": [],
   "source": [
    "read = RecordReader('results')"
   ]
  },
  {
   "cell_type": "markdown",
   "metadata": {},
   "source": [
    "The regional summary gives you information at the regional (camp) level."
   ]
  },
  {
   "cell_type": "markdown",
   "metadata": {},
   "source": [
    "### Regional information"
   ]
  },
  {
   "cell_type": "code",
   "execution_count": 48,
   "metadata": {},
   "outputs": [
    {
     "data": {
      "text/html": [
       "<div>\n",
       "<style scoped>\n",
       "    .dataframe tbody tr th:only-of-type {\n",
       "        vertical-align: middle;\n",
       "    }\n",
       "\n",
       "    .dataframe tbody tr th {\n",
       "        vertical-align: top;\n",
       "    }\n",
       "\n",
       "    .dataframe thead th {\n",
       "        text-align: right;\n",
       "    }\n",
       "</style>\n",
       "<table border=\"1\" class=\"dataframe\">\n",
       "  <thead>\n",
       "    <tr style=\"text-align: right;\">\n",
       "      <th></th>\n",
       "      <th>region</th>\n",
       "      <th>current_infected</th>\n",
       "      <th>daily_infected</th>\n",
       "      <th>current_recovered</th>\n",
       "      <th>daily_recovered</th>\n",
       "      <th>current_hospitalised</th>\n",
       "      <th>daily_hospitalised</th>\n",
       "      <th>current_intensive_care</th>\n",
       "      <th>daily_intensive_care</th>\n",
       "      <th>current_susceptible</th>\n",
       "      <th>daily_hospital_deaths</th>\n",
       "      <th>daily_deaths</th>\n",
       "    </tr>\n",
       "    <tr>\n",
       "      <th>time_stamp</th>\n",
       "      <th></th>\n",
       "      <th></th>\n",
       "      <th></th>\n",
       "      <th></th>\n",
       "      <th></th>\n",
       "      <th></th>\n",
       "      <th></th>\n",
       "      <th></th>\n",
       "      <th></th>\n",
       "      <th></th>\n",
       "      <th></th>\n",
       "      <th></th>\n",
       "    </tr>\n",
       "  </thead>\n",
       "  <tbody>\n",
       "    <tr>\n",
       "      <th>2020-05-24</th>\n",
       "      <td>CXB-219</td>\n",
       "      <td>5.000000</td>\n",
       "      <td>0</td>\n",
       "      <td>0.0</td>\n",
       "      <td>0</td>\n",
       "      <td>0</td>\n",
       "      <td>0</td>\n",
       "      <td>0</td>\n",
       "      <td>0</td>\n",
       "      <td>22948.000000</td>\n",
       "      <td>0</td>\n",
       "      <td>0</td>\n",
       "    </tr>\n",
       "    <tr>\n",
       "      <th>2020-05-25</th>\n",
       "      <td>CXB-219</td>\n",
       "      <td>7.500000</td>\n",
       "      <td>5</td>\n",
       "      <td>0.0</td>\n",
       "      <td>0</td>\n",
       "      <td>0</td>\n",
       "      <td>0</td>\n",
       "      <td>0</td>\n",
       "      <td>0</td>\n",
       "      <td>22945.500000</td>\n",
       "      <td>0</td>\n",
       "      <td>0</td>\n",
       "    </tr>\n",
       "    <tr>\n",
       "      <th>2020-05-26</th>\n",
       "      <td>CXB-219</td>\n",
       "      <td>12.333333</td>\n",
       "      <td>4</td>\n",
       "      <td>0.0</td>\n",
       "      <td>0</td>\n",
       "      <td>0</td>\n",
       "      <td>0</td>\n",
       "      <td>0</td>\n",
       "      <td>0</td>\n",
       "      <td>22940.666667</td>\n",
       "      <td>0</td>\n",
       "      <td>0</td>\n",
       "    </tr>\n",
       "  </tbody>\n",
       "</table>\n",
       "</div>"
      ],
      "text/plain": [
       "             region  current_infected  daily_infected  current_recovered  \\\n",
       "time_stamp                                                                 \n",
       "2020-05-24  CXB-219          5.000000               0                0.0   \n",
       "2020-05-25  CXB-219          7.500000               5                0.0   \n",
       "2020-05-26  CXB-219         12.333333               4                0.0   \n",
       "\n",
       "            daily_recovered  current_hospitalised  daily_hospitalised  \\\n",
       "time_stamp                                                              \n",
       "2020-05-24                0                     0                   0   \n",
       "2020-05-25                0                     0                   0   \n",
       "2020-05-26                0                     0                   0   \n",
       "\n",
       "            current_intensive_care  daily_intensive_care  current_susceptible  \\\n",
       "time_stamp                                                                      \n",
       "2020-05-24                       0                     0         22948.000000   \n",
       "2020-05-25                       0                     0         22945.500000   \n",
       "2020-05-26                       0                     0         22940.666667   \n",
       "\n",
       "            daily_hospital_deaths  daily_deaths  \n",
       "time_stamp                                       \n",
       "2020-05-24                      0             0  \n",
       "2020-05-25                      0             0  \n",
       "2020-05-26                      0             0  "
      ]
     },
     "execution_count": 48,
     "metadata": {},
     "output_type": "execute_result"
    }
   ],
   "source": [
    "read.regional_summary.head(3)"
   ]
  },
  {
   "cell_type": "code",
   "execution_count": 49,
   "metadata": {},
   "outputs": [
    {
     "data": {
      "image/png": "[encoded data removed]",
      "text/plain": [
       "<Figure size 432x288 with 1 Axes>"
      ]
     },
     "metadata": {
      "needs_background": "light"
     },
     "output_type": "display_data"
    }
   ],
   "source": [
    "for region in read.regional_summary['region'].unique():\n",
    "    read.regional_summary[\n",
    "        read.regional_summary['region'] == region\n",
    "    ]['current_infected'].plot(label=\"current infected\")\n",
    "    read.regional_summary[\n",
    "        read.regional_summary['region'] == region\n",
    "    ]['current_susceptible'].plot(label=\"current susceptible\")\n",
    "    plt.title(region)\n",
    "    plt.legend()\n",
    "    plt.show()"
   ]
  },
  {
   "cell_type": "markdown",
   "metadata": {},
   "source": [
    "### Daily infections"
   ]
  },
  {
   "cell_type": "code",
   "execution_count": 50,
   "metadata": {},
   "outputs": [],
   "source": [
    "summary = read.regional_summary.reset_index()"
   ]
  },
  {
   "cell_type": "code",
   "execution_count": 51,
   "metadata": {},
   "outputs": [
    {
     "data": {
      "text/plain": [
       "datetime.date(2020, 5, 24)"
      ]
     },
     "execution_count": 51,
     "metadata": {},
     "output_type": "execute_result"
    }
   ],
   "source": [
    "summary['time_stamp'][0].date()"
   ]
  },
  {
   "cell_type": "code",
   "execution_count": 52,
   "metadata": {},
   "outputs": [],
   "source": [
    "def new_infections(summary):\n",
    "    \n",
    "    date = []\n",
    "    for idx, row in summary.iterrows():\n",
    "        date.append(row['time_stamp'].date())\n",
    "    summary['date'] = date\n",
    "    \n",
    "    dates = np.unique(summary['date'])\n",
    "    \n",
    "    new_infections = []\n",
    "    \n",
    "    for date in dates:\n",
    "        date_data = summary['daily_infected'][summary['date'] == date]\n",
    "        new_infections.append(np.sum(date_data))\n",
    "        \n",
    "    return dates, new_infections"
   ]
  },
  {
   "cell_type": "code",
   "execution_count": 53,
   "metadata": {},
   "outputs": [],
   "source": [
    "dates, new_infections = new_infections(summary)"
   ]
  },
  {
   "cell_type": "code",
   "execution_count": 54,
   "metadata": {},
   "outputs": [
    {
     "data": {
      "image/png": "[encoded data removed]",
      "text/plain": [
       "<Figure size 432x288 with 1 Axes>"
      ]
     },
     "metadata": {
      "needs_background": "light"
     },
     "output_type": "display_data"
    }
   ],
   "source": [
    "plt.plot(dates, new_infections)\n",
    "plt.xticks(rotation=45)\n",
    "plt.ylabel('Daily infections')\n",
    "plt.show()"
   ]
  },
  {
   "cell_type": "markdown",
   "metadata": {},
   "source": [
    "### Hospital and intensive care"
   ]
  },
  {
   "cell_type": "code",
   "execution_count": 55,
   "metadata": {},
   "outputs": [],
   "source": [
    "def hospitalised(summary):\n",
    "    date = []\n",
    "    for idx, row in summary.iterrows():\n",
    "        date.append(row['time_stamp'].date())\n",
    "    summary['date'] = date\n",
    "    \n",
    "    dates = np.unique(summary['date'])\n",
    "    \n",
    "    hospitalised = []\n",
    "    icu = []\n",
    "    \n",
    "    for date in dates:\n",
    "        date_data = summary['current_hospitalised'][summary['date'] == date]\n",
    "        hospitalised.append(np.sum(date_data))\n",
    "        date_data = summary['current_intensive_care'][summary['date'] == date]\n",
    "        icu.append(np.sum(date_data))\n",
    "        \n",
    "    return dates, hospitalised, icu"
   ]
  },
  {
   "cell_type": "code",
   "execution_count": 56,
   "metadata": {},
   "outputs": [],
   "source": [
    "dates, hospitalised, icu = hospitalised(summary)"
   ]
  },
  {
   "cell_type": "code",
   "execution_count": 57,
   "metadata": {},
   "outputs": [
    {
     "data": {
      "image/png": "[encoded data removed]",
      "text/plain": [
       "<Figure size 432x288 with 1 Axes>"
      ]
     },
     "metadata": {
      "needs_background": "light"
     },
     "output_type": "display_data"
    }
   ],
   "source": [
    "plt.plot(dates, hospitalised, label=\"current hospitalised\")\n",
    "plt.plot(dates, icu, label=\"current intensive care\")\n",
    "plt.xticks(rotation=45)\n",
    "plt.ylabel('Daily infections')\n",
    "plt.legend()\n",
    "plt.show()"
   ]
  },
  {
   "cell_type": "markdown",
   "metadata": {},
   "source": [
    "### Cumulative infections by age"
   ]
  },
  {
   "cell_type": "code",
   "execution_count": 58,
   "metadata": {},
   "outputs": [
    {
     "name": "stdout",
     "output_type": "stream",
     "text": [
      "2021-03-23 14:48:16,873 - june.records.records_reader - INFO - Loading infections table\n",
      "2021-03-23 14:48:16,881 - june.records.records_reader - INFO - Loading population table\n",
      "2021-03-23 14:48:16,923 - june.records.records_reader - INFO - Merging infection and population tables\n",
      "2021-03-23 14:48:16,926 - june.records.records_reader - INFO - Loading geography table\n",
      "2021-03-23 14:48:16,945 - june.records.records_reader - INFO - Mergeing infection and geography tables\n"
     ]
    }
   ],
   "source": [
    "infections_df = read.get_table_with_extras('infections',\n",
    "                                           'infected_ids')"
   ]
  },
  {
   "cell_type": "code",
   "execution_count": 59,
   "metadata": {},
   "outputs": [
    {
     "name": "stdout",
     "output_type": "stream",
     "text": [
      "2021-03-23 14:48:16,954 - june.records.records_reader - INFO - Loading deaths table\n",
      "2021-03-23 14:48:16,960 - june.records.records_reader - INFO - Loading population table\n",
      "2021-03-23 14:48:17,003 - june.records.records_reader - INFO - Merging infection and population tables\n",
      "2021-03-23 14:48:17,009 - june.records.records_reader - INFO - Loading geography table\n",
      "2021-03-23 14:48:17,027 - june.records.records_reader - INFO - Mergeing infection and geography tables\n"
     ]
    }
   ],
   "source": [
    "deaths_df = read.get_table_with_extras('deaths', \n",
    "                                       'dead_person_ids')"
   ]
  },
  {
   "cell_type": "code",
   "execution_count": 60,
   "metadata": {},
   "outputs": [],
   "source": [
    "age_bins = (0,20,60,100)"
   ]
  },
  {
   "cell_type": "code",
   "execution_count": 61,
   "metadata": {},
   "outputs": [],
   "source": [
    "infected_by_age = infections_df.groupby([pd.cut(infections_df['age'],\n",
    "            bins=age_bins), 'timestamp']).size()"
   ]
  },
  {
   "cell_type": "code",
   "execution_count": 62,
   "metadata": {},
   "outputs": [],
   "source": [
    "people_df = read.table_to_df('population')"
   ]
  },
  {
   "cell_type": "code",
   "execution_count": 63,
   "metadata": {},
   "outputs": [],
   "source": [
    "n_by_age = people_df.groupby(pd.cut(people_df['age'],\n",
    "            bins=age_bins)).size()"
   ]
  },
  {
   "cell_type": "code",
   "execution_count": 64,
   "metadata": {},
   "outputs": [
    {
     "data": {
      "text/plain": [
       "<matplotlib.legend.Legend at 0x7f9599868b90>"
      ]
     },
     "execution_count": 64,
     "metadata": {},
     "output_type": "execute_result"
    },
    {
     "data": {
      "image/png": "[encoded data removed]",
      "text/plain": [
       "<Figure size 432x288 with 1 Axes>"
      ]
     },
     "metadata": {
      "needs_background": "light"
     },
     "output_type": "display_data"
    }
   ],
   "source": [
    "(100*infected_by_age/n_by_age).xs(10).cumsum().plot(label='0,20')\n",
    "(100*infected_by_age/n_by_age).xs(30).cumsum().plot(label='20,60')\n",
    "(100*infected_by_age/n_by_age).xs(70).cumsum().plot(label='60,100')\n",
    "plt.legend()"
   ]
  },
  {
   "cell_type": "markdown",
   "metadata": {},
   "source": [
    "### Where people get infected"
   ]
  },
  {
   "cell_type": "code",
   "execution_count": 65,
   "metadata": {},
   "outputs": [],
   "source": [
    "locations_df = infections_df.groupby(['location_specs', \n",
    "                                'timestamp']).size()"
   ]
  },
  {
   "cell_type": "code",
   "execution_count": 66,
   "metadata": {},
   "outputs": [
    {
     "data": {
      "text/plain": [
       "<AxesSubplot:xlabel='timestamp'>"
      ]
     },
     "execution_count": 66,
     "metadata": {},
     "output_type": "execute_result"
    },
    {
     "data": {
      "image/png": "[encoded data removed]",
      "text/plain": [
       "<Figure size 432x288 with 1 Axes>"
      ]
     },
     "metadata": {
      "needs_background": "light"
     },
     "output_type": "display_data"
    }
   ],
   "source": [
    "locations_df.unstack(level=0).plot()"
   ]
  },
  {
   "cell_type": "code",
   "execution_count": 67,
   "metadata": {},
   "outputs": [
    {
     "data": {
      "text/plain": [
       "Text(0.5, 0, 'location')"
      ]
     },
     "execution_count": 67,
     "metadata": {},
     "output_type": "execute_result"
    },
    {
     "data": {
      "image/png": "[encoded data removed]",
      "text/plain": [
       "<Figure size 432x288 with 1 Axes>"
      ]
     },
     "metadata": {
      "needs_background": "light"
     },
     "output_type": "display_data"
    }
   ],
   "source": [
    "import matplotlib.ticker as mtick\n",
    "location_counts_df = locations_df.groupby('location_specs').size()\n",
    "location_counts_df = 100*location_counts_df / location_counts_df.sum()\n",
    "ax = location_counts_df.sort_values().plot.bar()\n",
    "ax.yaxis.set_major_formatter(mtick.PercentFormatter())\n",
    "plt.ylabel('Percentage of infections at location')\n",
    "plt.xlabel('location')"
   ]
  }
 ],
 "metadata": {
  "kernelspec": {
   "display_name": "campmodelling-private",
   "language": "python",
   "name": "campmodelling-private"
  },
  "language_info": {
   "codemirror_mode": {
    "name": "ipython",
    "version": 3
   },
   "file_extension": ".py",
   "mimetype": "text/x-python",
   "name": "python",
   "nbconvert_exporter": "python",
   "pygments_lexer": "ipython3",
   "version": "3.7.6"
  }
 },
 "nbformat": 4,
 "nbformat_minor": 4
}
