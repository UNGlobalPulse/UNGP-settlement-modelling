{
 "cells": [
  {
   "cell_type": "code",
   "execution_count": 1,
   "metadata": {},
   "outputs": [],
   "source": [
    "%load_ext autoreload\n",
    "%autoreload 2"
   ]
  },
  {
   "cell_type": "code",
   "execution_count": 2,
   "metadata": {},
   "outputs": [],
   "source": [
    "import warnings\n",
    "warnings.filterwarnings('ignore')"
   ]
  },
  {
   "cell_type": "code",
   "execution_count": 3,
   "metadata": {},
   "outputs": [],
   "source": [
    "import numpy as np\n",
    "import pandas as pd\n",
    "import time\n",
    "import matplotlib.pyplot as plt\n",
    "import seaborn as sns\n",
    "from datetime import datetime\n",
    "import sys\n",
    "import argparse\n",
    "from pathlib import Path\n",
    "sns.set_context('notebook')"
   ]
  },
  {
   "cell_type": "code",
   "execution_count": 5,
   "metadata": {},
   "outputs": [],
   "source": [
    "from june.geography import Geography\n",
    "from june.demography.demography import (\n",
    "    load_age_and_sex_generators_for_bins,\n",
    "    Demography,\n",
    "    Population,\n",
    "    load_comorbidity_data,\n",
    "    generate_comorbidity,\n",
    ")\n",
    "from june.paths import data_path, configs_path\n",
    "from june.infection import Infection, HealthIndexGenerator\n",
    "from june.infection_seed import InfectionSeed\n",
    "from june.infection import InfectionSelector\n",
    "from june.interaction import Interaction\n",
    "from june.groups import Hospital, Hospitals, Cemeteries\n",
    "from june.distributors import HospitalDistributor\n",
    "from june.hdf5_savers import generate_world_from_hdf5\n",
    "from june.policy import Policy, Policies\n",
    "from june.records import Record\n",
    "from june.simulator import Simulator\n",
    "from june.records import Record, RecordReader\n",
    "\n",
    "from camps.activity import CampActivityManager\n",
    "from camps.paths import camp_data_path, camp_configs_path\n",
    "from camps.world import World\n",
    "from camps.groups.leisure import generate_leisure_for_world, generate_leisure_for_config\n",
    "from camps.camp_creation import (\n",
    "    generate_empty_world,\n",
    "    populate_world,\n",
    "    distribute_people_to_households,\n",
    ")  # this is loaded from the ../camp_scripts folder"
   ]
  },
  {
   "cell_type": "code",
   "execution_count": 6,
   "metadata": {},
   "outputs": [],
   "source": [
    "from camps.groups import PumpLatrines, PumpLatrineDistributor\n",
    "from camps.groups import DistributionCenters, DistributionCenterDistributor\n",
    "from camps.groups import Communals, CommunalDistributor\n",
    "from camps.groups import FemaleCommunals, FemaleCommunalDistributor\n",
    "from camps.groups import Religiouss, ReligiousDistributor\n",
    "from camps.groups import Shelter, Shelters, ShelterDistributor\n",
    "from camps.groups import IsolationUnit, IsolationUnits\n",
    "from camps.groups import LearningCenters\n",
    "from camps.distributors import LearningCenterDistributor\n",
    "from camps.groups import PlayGroups, PlayGroupDistributor\n",
    "from camps.groups import EVouchers, EVoucherDistributor\n",
    "from camps.groups import NFDistributionCenters, NFDistributionCenterDistributor\n",
    "from camps.groups import SheltersVisitsDistributor"
   ]
  },
  {
   "cell_type": "markdown",
   "metadata": {},
   "source": [
    "## Initialize the world"
   ]
  },
  {
   "cell_type": "markdown",
   "metadata": {},
   "source": [
    "When we create the camp to be simulated, we call this the 'world'. The world is initialised after specifying which geographical regions you want to simulate. We can do this by using the `filter_key` argument in the `generate_empty_world` function. Cox's Bazar Expansion Site is made up of camps (which we call regions), UNHCR blocks (which we call super areas) and Mahjee blocks (which we call areas). These are the 3 heirarchical levels on which our model works. You can pass lists of the regions/super_areas/areas to the function here. Alternatively, by leaving the function empty you can generate the entire Cox's Bazar Expansion Site consisting of 112 super areas."
   ]
  },
  {
   "cell_type": "code",
   "execution_count": 7,
   "metadata": {},
   "outputs": [
    {
     "name": "stdout",
     "output_type": "stream",
     "text": [
      "2020-12-20 16:05:13,069 - june.geography.geography - INFO - There are 65 areas and 4 super_areas and 1 in the world.\n"
     ]
    }
   ],
   "source": [
    "# create empty world's geography\n",
    "world = generate_empty_world(filter_key = {\"region\" : [\"CXB-219\"]})"
   ]
  },
  {
   "cell_type": "code",
   "execution_count": 8,
   "metadata": {},
   "outputs": [],
   "source": [
    "# populate empty world\n",
    "populate_world(world)"
   ]
  },
  {
   "cell_type": "code",
   "execution_count": 9,
   "metadata": {},
   "outputs": [],
   "source": [
    "# distribute people to households\n",
    "distribute_people_to_households(world)"
   ]
  },
  {
   "cell_type": "code",
   "execution_count": 10,
   "metadata": {},
   "outputs": [
    {
     "name": "stdout",
     "output_type": "stream",
     "text": [
      "2020-12-20 16:05:15,972 - hospitals - INFO - There are 8 hospitals in the world.\n"
     ]
    }
   ],
   "source": [
    "# distirbute hospitals\n",
    "hospitals = Hospitals.from_file(\n",
    "    filename=camp_data_path / \"input/hospitals/hospitals.csv\"\n",
    ")\n",
    "for hospital in hospitals:\n",
    "    hospital.area = world.areas.get_closest_area(hospital.coordinates)\n",
    "world.hospitals = hospitals\n",
    "hospital_distributor = HospitalDistributor(\n",
    "    hospitals, medic_min_age=20, patients_per_medic=10\n",
    ")\n",
    "hospital_distributor.assign_closest_hospitals_to_super_areas(\n",
    "    world.super_areas\n",
    ")\n",
    "hospital_distributor.distribute_medics_from_world(world.people)"
   ]
  },
  {
   "cell_type": "code",
   "execution_count": 11,
   "metadata": {},
   "outputs": [
    {
     "name": "stdout",
     "output_type": "stream",
     "text": [
      "2020-12-20 16:05:18,981 - social_venue - INFO - Domain 0 has 225 pump_latrines(s)\n",
      "2020-12-20 16:05:18,999 - social_venue - INFO - Domain 0 has 502 play_groups(s)\n",
      "2020-12-20 16:05:19,005 - social_venue - INFO - Domain 0 has 7 distribution_centers(s)\n",
      "2020-12-20 16:05:19,033 - social_venue - INFO - Domain 0 has 125 communals(s)\n",
      "2020-12-20 16:05:19,051 - social_venue - INFO - Domain 0 has 67 female_communals(s)\n",
      "2020-12-20 16:05:19,404 - social_venue - INFO - Domain 0 has 2064 religiouss(s)\n",
      "2020-12-20 16:05:19,412 - social_venue - INFO - Domain 0 has 7 e_vouchers(s)\n",
      "2020-12-20 16:05:19,422 - social_venue - INFO - Domain 0 has 36 n_f_distribution_centers(s)\n"
     ]
    }
   ],
   "source": [
    "world.pump_latrines = PumpLatrines.for_areas(world.areas)\n",
    "world.play_groups = PlayGroups.for_areas(world.areas)\n",
    "world.distribution_centers = DistributionCenters.for_areas(world.areas)\n",
    "world.communals = Communals.for_areas(world.areas)\n",
    "world.female_communals = FemaleCommunals.for_areas(world.areas)\n",
    "world.religiouss = Religiouss.for_areas(world.areas)\n",
    "world.e_vouchers = EVouchers.for_areas(world.areas)\n",
    "world.n_f_distribution_centers = NFDistributionCenters.for_areas(world.areas)"
   ]
  },
  {
   "cell_type": "code",
   "execution_count": 12,
   "metadata": {},
   "outputs": [],
   "source": [
    "world.cemeteries = Cemeteries()"
   ]
  },
  {
   "cell_type": "markdown",
   "metadata": {},
   "source": [
    "## Geography exploration"
   ]
  },
  {
   "cell_type": "markdown",
   "metadata": {},
   "source": [
    "The geography is initialised first and can be explored."
   ]
  },
  {
   "cell_type": "markdown",
   "metadata": {},
   "source": [
    "### UNHCR camp blocks inside the World"
   ]
  },
  {
   "cell_type": "code",
   "execution_count": 13,
   "metadata": {},
   "outputs": [],
   "source": [
    "super_areas = []\n",
    "for super_area in world.super_areas:\n",
    "    super_areas.append(super_area.name)"
   ]
  },
  {
   "cell_type": "code",
   "execution_count": 14,
   "metadata": {},
   "outputs": [
    {
     "data": {
      "text/plain": [
       "['CXB-219-A', 'CXB-219-B', 'CXB-219-C', 'CXB-219-D']"
      ]
     },
     "execution_count": 14,
     "metadata": {},
     "output_type": "execute_result"
    }
   ],
   "source": [
    "super_areas[:5]"
   ]
  },
  {
   "cell_type": "markdown",
   "metadata": {},
   "source": [
    "### Mahjee blocks inside World"
   ]
  },
  {
   "cell_type": "code",
   "execution_count": 15,
   "metadata": {},
   "outputs": [],
   "source": [
    "areas = []\n",
    "for area in world.areas:\n",
    "    areas.append(area.name)"
   ]
  },
  {
   "cell_type": "code",
   "execution_count": 16,
   "metadata": {},
   "outputs": [
    {
     "data": {
      "text/plain": [
       "['CXB-219-001', 'CXB-219-002', 'CXB-219-003', 'CXB-219-004', 'CXB-219-005']"
      ]
     },
     "execution_count": 16,
     "metadata": {},
     "output_type": "execute_result"
    }
   ],
   "source": [
    "areas[:5]"
   ]
  },
  {
   "cell_type": "markdown",
   "metadata": {},
   "source": [
    "## Demography exploration"
   ]
  },
  {
   "cell_type": "markdown",
   "metadata": {},
   "source": [
    "Once we have populated the 'digital twin' we can explore some of the attributes of the people we have created in the simulation."
   ]
  },
  {
   "cell_type": "markdown",
   "metadata": {},
   "source": [
    "### UNHCR block residents"
   ]
  },
  {
   "cell_type": "code",
   "execution_count": 17,
   "metadata": {},
   "outputs": [],
   "source": [
    "sample_ages = []\n",
    "sample_sexes = []\n",
    "for person in world.super_areas.members[0].people:\n",
    "    sample_ages.append(person.age)\n",
    "    sample_sexes.append(person.sex)"
   ]
  },
  {
   "cell_type": "code",
   "execution_count": 18,
   "metadata": {},
   "outputs": [
    {
     "data": {
      "text/plain": [
       "(['f', 'f', 'f', 'f', 'm'], [28, 54, 39, 32, 31])"
      ]
     },
     "execution_count": 18,
     "metadata": {},
     "output_type": "execute_result"
    }
   ],
   "source": [
    "sample_sexes[:5], sample_ages[:5]"
   ]
  },
  {
   "cell_type": "code",
   "execution_count": 19,
   "metadata": {},
   "outputs": [
    {
     "data": {
      "image/png": "[encoded data removed]",
      "text/plain": [
       "<Figure size 432x288 with 1 Axes>"
      ]
     },
     "metadata": {
      "needs_background": "light"
     },
     "output_type": "display_data"
    }
   ],
   "source": [
    "ages, counts = np.unique(sample_ages, return_counts=True)\n",
    "plt.bar(ages, counts)\n",
    "plt.title('super area: {} age distribution'.format(world.super_areas.members[0].name))\n",
    "plt.show()"
   ]
  },
  {
   "cell_type": "code",
   "execution_count": 20,
   "metadata": {},
   "outputs": [
    {
     "name": "stdout",
     "output_type": "stream",
     "text": [
      "The % children between ages 0-16 is 49%\n"
     ]
    }
   ],
   "source": [
    "print ('The % children between ages 0-16 is {}%'.format(round(np.sum(counts[:16])/(np.sum(counts[:16])+np.sum(counts[16:]))*100)))"
   ]
  },
  {
   "cell_type": "markdown",
   "metadata": {},
   "source": [
    "## Households"
   ]
  },
  {
   "cell_type": "markdown",
   "metadata": {},
   "source": [
    "In this model, we will use the term 'family' and 'household' interchangeably. After populating the 'digital twin', we need to cluster people into families. To do this, we take account of age structure so that children live with adults, that there are some intergenerational households and such that we might also have some households of only adults."
   ]
  },
  {
   "cell_type": "markdown",
   "metadata": {},
   "source": [
    "### Household size distribution"
   ]
  },
  {
   "cell_type": "code",
   "execution_count": 21,
   "metadata": {},
   "outputs": [
    {
     "data": {
      "image/png": "[encoded data removed]",
      "text/plain": [
       "<Figure size 432x288 with 1 Axes>"
      ]
     },
     "metadata": {
      "needs_background": "light"
     },
     "output_type": "display_data"
    }
   ],
   "source": [
    "household_sizes = [household.size for household in world.households]\n",
    "plt.hist(household_sizes, density=True, bins=np.arange(0,12))\n",
    "plt.xlabel(\"Household size\")\n",
    "plt.ylabel(\"Frequency\")\n",
    "plt.axvline(np.mean(household_sizes), color=\"cyan\")\n",
    "plt.text(8, 0.150, f\"Avg. size: {(np.mean(household_sizes)):.2f}\")\n",
    "plt.show()"
   ]
  },
  {
   "cell_type": "markdown",
   "metadata": {},
   "source": [
    "# Shelters"
   ]
  },
  {
   "cell_type": "markdown",
   "metadata": {},
   "source": [
    "Shelters house people in the camp. Since we know that families (houseohlds) often share shelters with other families, we can set the `sharing_shelter_ratio` to cluster families into shared shelters."
   ]
  },
  {
   "cell_type": "code",
   "execution_count": 22,
   "metadata": {},
   "outputs": [],
   "source": [
    "world.shelters = Shelters.for_areas(world.areas)\n",
    "shelter_distributor = ShelterDistributor(sharing_shelter_ratio = 0.75) # proportion of families that share a shelter\n",
    "for area in world.areas:\n",
    "    shelter_distributor.distribute_people_in_shelters(area.shelters, area.households)"
   ]
  },
  {
   "cell_type": "code",
   "execution_count": 23,
   "metadata": {},
   "outputs": [
    {
     "data": {
      "image/png": "[encoded data removed]",
      "text/plain": [
       "<Figure size 576x216 with 2 Axes>"
      ]
     },
     "metadata": {
      "needs_background": "light"
     },
     "output_type": "display_data"
    }
   ],
   "source": [
    "fig, ax = plt.subplots(1, 2, figsize=(8,3))\n",
    "shelter_sizes = [shelter.size for shelter in world.shelters]\n",
    "shelter_families = [shelter.n_families for shelter in world.shelters]\n",
    "ax[0].hist(shelter_sizes)\n",
    "ax[0].set_title(\"Shelter size\")\n",
    "shelter_families = {1 : len([shelter for shelter in world.shelters if shelter.n_families == 1]),\n",
    "                    2 : len([shelter for shelter in world.shelters if shelter.n_families == 2])}\n",
    "ax[1].bar(shelter_families.keys(), shelter_families.values())\n",
    "ax[1].set_title(\"# families per shelter\")\n",
    "plt.show()"
   ]
  },
  {
   "cell_type": "markdown",
   "metadata": {},
   "source": [
    "## Activity exploration"
   ]
  },
  {
   "cell_type": "markdown",
   "metadata": {},
   "source": [
    "Once different activity locations are seeded in the 'digital twin' we can explore how many there are in different areas of the twin, and their coordinates to check they've all been added correctly."
   ]
  },
  {
   "cell_type": "markdown",
   "metadata": {},
   "source": [
    "### Pumps and latrines "
   ]
  },
  {
   "cell_type": "code",
   "execution_count": 24,
   "metadata": {},
   "outputs": [],
   "source": [
    "pumps_and_latrines = []\n",
    "for pump_latrine in world.areas.members[0].pump_latrines:\n",
    "    pumps_and_latrines.append(pump_latrine)"
   ]
  },
  {
   "cell_type": "code",
   "execution_count": 25,
   "metadata": {},
   "outputs": [
    {
     "name": "stdout",
     "output_type": "stream",
     "text": [
      "There are 4 pumps and latrines in area CXB-219-001\n"
     ]
    }
   ],
   "source": [
    "print ('There are {} pumps and latrines in area {}'.format(len(pumps_and_latrines), world.areas.members[0].name))"
   ]
  },
  {
   "cell_type": "markdown",
   "metadata": {},
   "source": [
    "### Distribution centers"
   ]
  },
  {
   "cell_type": "code",
   "execution_count": 26,
   "metadata": {},
   "outputs": [],
   "source": [
    "distribution_centers = []\n",
    "for center in world.distribution_centers:\n",
    "    distribution_centers.append(center)"
   ]
  },
  {
   "cell_type": "code",
   "execution_count": 27,
   "metadata": {},
   "outputs": [
    {
     "data": {
      "text/plain": [
       "array([21.21176333, 92.13597667])"
      ]
     },
     "execution_count": 27,
     "metadata": {},
     "output_type": "execute_result"
    }
   ],
   "source": [
    "distribution_centers[0].coordinates"
   ]
  },
  {
   "cell_type": "markdown",
   "metadata": {},
   "source": [
    "### Non-food Distribution centers"
   ]
  },
  {
   "cell_type": "code",
   "execution_count": 28,
   "metadata": {},
   "outputs": [],
   "source": [
    "non_food_distribution_centers = []\n",
    "for center in world.n_f_distribution_centers:\n",
    "    non_food_distribution_centers.append(center)"
   ]
  },
  {
   "cell_type": "code",
   "execution_count": 29,
   "metadata": {},
   "outputs": [
    {
     "data": {
      "text/plain": [
       "array([21.1962 , 92.14936])"
      ]
     },
     "execution_count": 29,
     "metadata": {},
     "output_type": "execute_result"
    }
   ],
   "source": [
    "non_food_distribution_centers[0].coordinates"
   ]
  },
  {
   "cell_type": "markdown",
   "metadata": {},
   "source": [
    "### E-Voucher outlets"
   ]
  },
  {
   "cell_type": "code",
   "execution_count": 30,
   "metadata": {},
   "outputs": [],
   "source": [
    "e_voucher_outlets = []\n",
    "for center in world.e_vouchers:\n",
    "    e_voucher_outlets.append(center)"
   ]
  },
  {
   "cell_type": "code",
   "execution_count": 31,
   "metadata": {},
   "outputs": [
    {
     "data": {
      "text/plain": [
       "array([21.21176333, 92.13597667])"
      ]
     },
     "execution_count": 31,
     "metadata": {},
     "output_type": "execute_result"
    }
   ],
   "source": [
    "e_voucher_outlets[0].coordinates"
   ]
  },
  {
   "cell_type": "markdown",
   "metadata": {},
   "source": [
    "### Communal spaces"
   ]
  },
  {
   "cell_type": "code",
   "execution_count": 32,
   "metadata": {},
   "outputs": [],
   "source": [
    "communal_spaces = []\n",
    "for space in world.communals:\n",
    "    communal_spaces.append(space)"
   ]
  },
  {
   "cell_type": "code",
   "execution_count": 33,
   "metadata": {},
   "outputs": [
    {
     "data": {
      "text/plain": [
       "array([21.19621, 92.14924])"
      ]
     },
     "execution_count": 33,
     "metadata": {},
     "output_type": "execute_result"
    }
   ],
   "source": [
    "communal_spaces[0].coordinates"
   ]
  },
  {
   "cell_type": "markdown",
   "metadata": {},
   "source": [
    "### Female friendly communal spaces"
   ]
  },
  {
   "cell_type": "code",
   "execution_count": 34,
   "metadata": {},
   "outputs": [],
   "source": [
    "female_communal_spaces = []\n",
    "for space in world.female_communals:\n",
    "    female_communal_spaces.append(space)"
   ]
  },
  {
   "cell_type": "code",
   "execution_count": 35,
   "metadata": {},
   "outputs": [
    {
     "data": {
      "text/plain": [
       "array([21.19588, 92.152  ])"
      ]
     },
     "execution_count": 35,
     "metadata": {},
     "output_type": "execute_result"
    }
   ],
   "source": [
    "female_communal_spaces[0].coordinates"
   ]
  },
  {
   "cell_type": "markdown",
   "metadata": {},
   "source": [
    "### Religious sites"
   ]
  },
  {
   "cell_type": "code",
   "execution_count": 36,
   "metadata": {},
   "outputs": [],
   "source": [
    "religious = []\n",
    "for rel in world.religiouss:\n",
    "    religious.append(rel)"
   ]
  },
  {
   "cell_type": "code",
   "execution_count": 37,
   "metadata": {},
   "outputs": [
    {
     "data": {
      "text/plain": [
       "array([21.20069, 92.15216])"
      ]
     },
     "execution_count": 37,
     "metadata": {},
     "output_type": "execute_result"
    }
   ],
   "source": [
    "religious[0].coordinates"
   ]
  },
  {
   "cell_type": "markdown",
   "metadata": {},
   "source": [
    "# Adding the infection"
   ]
  },
  {
   "cell_type": "markdown",
   "metadata": {},
   "source": [
    "The selector handles how infections are handled in the code. You can set different 'symptom trajectories' (e.g. exposed->mild->severe->hospitalised->intensive care) from different files. Here, we use the default."
   ]
  },
  {
   "cell_type": "code",
   "execution_count": 38,
   "metadata": {},
   "outputs": [],
   "source": [
    "selector = InfectionSelector.from_file()"
   ]
  },
  {
   "cell_type": "markdown",
   "metadata": {},
   "source": [
    "# Adding the interaction"
   ]
  },
  {
   "cell_type": "markdown",
   "metadata": {},
   "source": [
    "The interaction class handles how many contacts people have in different locations and with who. If contact matrices are available, these can be coded in a `.yaml` file and fed into the class here."
   ]
  },
  {
   "cell_type": "code",
   "execution_count": 39,
   "metadata": {},
   "outputs": [],
   "source": [
    "interaction = Interaction.from_file(config_filename='../configs_camps/defaults/interaction/ContactInteraction.yaml')"
   ]
  },
  {
   "cell_type": "markdown",
   "metadata": {},
   "source": [
    "# Set policies"
   ]
  },
  {
   "cell_type": "markdown",
   "metadata": {},
   "source": [
    "Policies control how 'operational interventions' are set in the camp. Here we set some social distancing policies, policies relating to medical care, such as people with severe symptoms being hospitalised, and individual and activity policies which can dynamically change how often and where people go, e.g. here, we close all female communal spaces and non-food distirbution centers which the camp did back in March"
   ]
  },
  {
   "cell_type": "code",
   "execution_count": 40,
   "metadata": {},
   "outputs": [],
   "source": [
    "policies = Policies.from_file(\n",
    "        camp_configs_path / \"defaults/policy/home_care_policy.yaml\",\n",
    "        base_policy_modules=(\"june.policy\", \"camps.policy\"),\n",
    "    )"
   ]
  },
  {
   "cell_type": "code",
   "execution_count": 41,
   "metadata": {},
   "outputs": [
    {
     "data": {
      "text/plain": [
       "[<june.policy.interaction_policies.SocialDistancing at 0x7fc73d8231d0>,\n",
       " <june.policy.medical_care_policies.Hospitalisation at 0x7fc73cc02050>,\n",
       " <june.policy.individual_policies.SevereSymptomsStayHome at 0x7fc73d83c610>,\n",
       " <june.policy.individual_policies.Quarantine at 0x7fc73d83c2d0>,\n",
       " <june.policy.leisure_policies.CloseLeisureVenue at 0x7fc73e0efb50>,\n",
       " <june.policy.leisure_policies.ChangeLeisureProbability at 0x7fc73e0efcd0>,\n",
       " <june.policy.leisure_policies.ChangeLeisureProbability at 0x7fc73e0efe10>]"
      ]
     },
     "execution_count": 41,
     "metadata": {},
     "output_type": "execute_result"
    }
   ],
   "source": [
    "policies.policies"
   ]
  },
  {
   "cell_type": "markdown",
   "metadata": {},
   "source": [
    "# Seed the disease"
   ]
  },
  {
   "cell_type": "markdown",
   "metadata": {},
   "source": [
    "Set intial seeding conditions. This can be done at the camp level specifically, or generally by seeding them randomly. Here the `n_cases` is the number of randomly seeded people over the entire population."
   ]
  },
  {
   "cell_type": "code",
   "execution_count": 42,
   "metadata": {},
   "outputs": [],
   "source": [
    "infection_seed = InfectionSeed(\n",
    "    world=world, infection_selector=selector, \n",
    ")\n",
    "infection_seed.unleash_virus(n_cases=5, population=world.people)"
   ]
  },
  {
   "cell_type": "markdown",
   "metadata": {},
   "source": [
    "## Select config file"
   ]
  },
  {
   "cell_type": "markdown",
   "metadata": {},
   "source": [
    "Before running the simualtion we must select the config file which defines how the world is set up and the simualtor will work. Specifically, the condif file specifies which activities will be included, how long we'll run the simualtion for, what the initial starting day will be and what the structure of weekdays and weekends will look like (if different)"
   ]
  },
  {
   "cell_type": "code",
   "execution_count": 43,
   "metadata": {},
   "outputs": [],
   "source": [
    "CONFIG_PATH = \"../configs_camps/config_demo.yaml\""
   ]
  },
  {
   "cell_type": "markdown",
   "metadata": {},
   "source": [
    "# Initialise activities"
   ]
  },
  {
   "cell_type": "markdown",
   "metadata": {},
   "source": [
    "The final step to intialising the simulator class which brings all of this together is to inialise all the activity distirbutors (the term 'leisure' is a legacy of the original version of this code used for modelling COVID-19 in the UK). This will mean that people know where they can go at and given time."
   ]
  },
  {
   "cell_type": "code",
   "execution_count": 45,
   "metadata": {},
   "outputs": [
    {
     "name": "stdout",
     "output_type": "stream",
     "text": [
      "2020-12-20 16:07:39,111 - leisure - INFO - Linking households for visits\n",
      "2020-12-20 16:07:39,112 - leisure - INFO - Done\n",
      "2020-12-20 16:07:39,112 - leisure - INFO - Linking households with care homes for visits\n",
      "2020-12-20 16:07:39,113 - leisure - INFO - Done\n",
      "2020-12-20 16:07:39,113 - leisure - INFO - Distributing social venues to areas\n",
      "2020-12-20 16:07:39,114 - leisure - INFO - Distributed in 0 of 65 areas.\n",
      "2020-12-20 16:07:39,216 - leisure - INFO - Distributed in 65 of 65 areas.\n"
     ]
    }
   ],
   "source": [
    "leisure = generate_leisure_for_config(world=world, config_filename=CONFIG_PATH)\n",
    "leisure.leisure_distributors = {}\n",
    "leisure.leisure_distributors[\"pump_latrines\"] = PumpLatrineDistributor.from_config(\n",
    "    world.pump_latrines\n",
    ")\n",
    "leisure.leisure_distributors[\"play_groups\"] = PlayGroupDistributor.from_config(\n",
    "    world.play_groups\n",
    ")\n",
    "leisure.leisure_distributors[\n",
    "    \"distribution_centers\"\n",
    "] = DistributionCenterDistributor.from_config(\n",
    "    world.distribution_centers\n",
    ")\n",
    "leisure.leisure_distributors[\"communals\"] = CommunalDistributor.from_config(\n",
    "    world.communals\n",
    ")\n",
    "leisure.leisure_distributors[\n",
    "    \"female_communals\"\n",
    "] = FemaleCommunalDistributor.from_config(world.female_communals)\n",
    "leisure.leisure_distributors[\"religiouss\"] = ReligiousDistributor.from_config(\n",
    "    world.religiouss\n",
    ")\n",
    "leisure.leisure_distributors[\"e_vouchers\"] = EVoucherDistributor.from_config(\n",
    "    world.e_vouchers\n",
    ")\n",
    "leisure.leisure_distributors[\n",
    "    \"n_f_distribution_centers\"\n",
    "] = NFDistributionCenterDistributor.from_config(\n",
    "    world.n_f_distribution_centers\n",
    ")\n",
    "leisure.leisure_distributors[\n",
    "    \"shelters_visits\"\n",
    "] = SheltersVisitsDistributor.from_config()\n",
    "leisure.leisure_distributors[\"shelters_visits\"].link_shelters_to_shelters(\n",
    "    world.super_areas\n",
    ")\n",
    "# associate social activities to shelters\n",
    "leisure.distribute_social_venues_to_areas(world.areas, world.super_areas)\n"
   ]
  },
  {
   "cell_type": "markdown",
   "metadata": {},
   "source": [
    "# Initialise simulator and run"
   ]
  },
  {
   "cell_type": "markdown",
   "metadata": {},
   "source": [
    "The recorder is defined which will log all interactions and infections in the simualation for later analysis. The `record_path` can be changed to any path where you want the recorded data to be stored."
   ]
  },
  {
   "cell_type": "code",
   "execution_count": 46,
   "metadata": {},
   "outputs": [],
   "source": [
    "record = Record(\n",
    "    record_path='results', record_static_data=True\n",
    ")\n",
    "record.static_data(world=world)"
   ]
  },
  {
   "cell_type": "markdown",
   "metadata": {},
   "source": [
    "The simulator is defined with all the different necessary components we have built up so far"
   ]
  },
  {
   "cell_type": "code",
   "execution_count": 47,
   "metadata": {},
   "outputs": [],
   "source": [
    "Simulator.ActivityManager = CampActivityManager\n",
    "simulator = Simulator.from_file(\n",
    "    world=world,\n",
    "    interaction=interaction,\n",
    "    leisure=leisure,\n",
    "    policies=policies,\n",
    "    config_filename=CONFIG_PATH,\n",
    "    infection_selector=selector,\n",
    "    record=record,\n",
    ")"
   ]
  },
  {
   "cell_type": "markdown",
   "metadata": {},
   "source": [
    "Finally we can run a small simualation"
   ]
  },
  {
   "cell_type": "code",
   "execution_count": 48,
   "metadata": {
    "scrolled": true
   },
   "outputs": [
    {
     "name": "stdout",
     "output_type": "stream",
     "text": [
      "2020-12-20 16:07:50,482 - simulator - INFO - Starting simulation for 20 days at day 2020-05-24 00:00:00, to run for 20 days\n",
      "2020-12-20 16:07:50,517 - simulator - INFO - ==================== timestep ====================\n",
      "2020-12-20 16:07:50,653 - activity_manager - INFO - CMS: People COMS for rank 0/1 - 3.916000025583344e-06,4.291534423828125e-06 - 2020-05-24 00:00:00\n",
      "2020-12-20 16:07:50,657 - simulator - INFO - Info for rank 0, Date = 2020-05-24 00:00:00, number of deaths =  0, number of infected = 5\n",
      "2020-12-20 16:07:50,695 - simulator - INFO - CMS: Infection COMS-v2 for rank 0/1(2) 0.004797120000006316,0.004796028137207031 - 2020-05-24 00:00:00\n",
      "2020-12-20 16:07:50,948 - simulator - INFO - CMS: Timestep for rank 0/1 - 0.430382853999987, 0.4303898811340332 - 2020-05-24 00:00:00\n",
      "\n",
      "2020-12-20 16:07:50,948 - simulator - INFO - ==================== timestep ====================\n",
      "2020-12-20 16:07:51,244 - activity_manager - INFO - CMS: People COMS for rank 0/1 - 3.5429999911684718e-06,3.0994415283203125e-06 - 2020-05-24 03:00:00\n",
      "2020-12-20 16:07:51,249 - simulator - INFO - Info for rank 0, Date = 2020-05-24 03:00:00, number of deaths =  0, number of infected = 5\n",
      "2020-12-20 16:07:51,293 - simulator - INFO - CMS: Infection COMS-v2 for rank 0/1(2) 0.00013271299999928488,0.0001327991485595703 - 2020-05-24 03:00:00\n",
      "2020-12-20 16:07:51,342 - simulator - INFO - CMS: Timestep for rank 0/1 - 0.39288631099998383, 0.39289379119873047 - 2020-05-24 03:00:00\n",
      "\n",
      "2020-12-20 16:07:51,343 - simulator - INFO - ==================== timestep ====================\n",
      "2020-12-20 16:07:51,663 - activity_manager - INFO - CMS: People COMS for rank 0/1 - 3.2049999845185084e-06,2.6226043701171875e-06 - 2020-05-24 05:00:00\n",
      "2020-12-20 16:07:51,668 - simulator - INFO - Info for rank 0, Date = 2020-05-24 05:00:00, number of deaths =  0, number of infected = 5\n",
      "2020-12-20 16:07:51,711 - simulator - INFO - CMS: Infection COMS-v2 for rank 0/1(2) 0.00012930699998037198,0.0001289844512939453 - 2020-05-24 05:00:00\n",
      "2020-12-20 16:07:51,759 - simulator - INFO - CMS: Timestep for rank 0/1 - 0.4162399569999877, 0.4162478446960449 - 2020-05-24 05:00:00\n",
      "\n",
      "2020-12-20 16:07:51,760 - simulator - INFO - ==================== timestep ====================\n",
      "2020-12-20 16:07:52,085 - activity_manager - INFO - CMS: People COMS for rank 0/1 - 3.4210000023904286e-06,3.0994415283203125e-06 - 2020-05-24 07:00:00\n",
      "2020-12-20 16:07:52,089 - simulator - INFO - Info for rank 0, Date = 2020-05-24 07:00:00, number of deaths =  0, number of infected = 5\n",
      "2020-12-20 16:07:52,135 - simulator - INFO - CMS: Infection COMS-v2 for rank 0/1(2) 0.00011225099999023769,0.00011181831359863281 - 2020-05-24 07:00:00\n",
      "2020-12-20 16:07:52,184 - simulator - INFO - CMS: Timestep for rank 0/1 - 0.42328653100000224, 0.4232950210571289 - 2020-05-24 07:00:00\n",
      "\n",
      "2020-12-20 16:07:52,185 - simulator - INFO - ==================== timestep ====================\n",
      "2020-12-20 16:07:52,500 - activity_manager - INFO - CMS: People COMS for rank 0/1 - 3.553999988525902e-06,3.0994415283203125e-06 - 2020-05-24 09:00:00\n",
      "2020-12-20 16:07:52,504 - simulator - INFO - Info for rank 0, Date = 2020-05-24 09:00:00, number of deaths =  0, number of infected = 6\n",
      "2020-12-20 16:07:52,547 - simulator - INFO - CMS: Infection COMS-v2 for rank 0/1(2) 0.00024616100000685037,0.0002467632293701172 - 2020-05-24 09:00:00\n",
      "2020-12-20 16:07:52,592 - simulator - INFO - CMS: Timestep for rank 0/1 - 0.4065472469999918, 0.4065558910369873 - 2020-05-24 09:00:00\n",
      "\n",
      "2020-12-20 16:07:52,592 - simulator - INFO - ==================== timestep ====================\n",
      "2020-12-20 16:07:52,731 - activity_manager - INFO - CMS: People COMS for rank 0/1 - 3.0019999996966362e-06,2.86102294921875e-06 - 2020-05-24 11:00:00\n",
      "2020-12-20 16:07:52,735 - simulator - INFO - Info for rank 0, Date = 2020-05-24 11:00:00, number of deaths =  0, number of infected = 6\n",
      "2020-12-20 16:07:52,772 - simulator - INFO - CMS: Infection COMS-v2 for rank 0/1(2) 0.00012478400000759393,0.0001239776611328125 - 2020-05-24 11:00:00\n",
      "2020-12-20 16:07:52,818 - simulator - INFO - CMS: Timestep for rank 0/1 - 0.22522722100001147, 0.22523212432861328 - 2020-05-24 11:00:00\n",
      "\n",
      "2020-12-20 16:07:52,819 - simulator - INFO - ==================== timestep ====================\n",
      "2020-12-20 16:07:52,949 - activity_manager - INFO - CMS: People COMS for rank 0/1 - 2.2849999936624954e-06,2.1457672119140625e-06 - 2020-05-25 00:00:00\n",
      "2020-12-20 16:07:52,953 - simulator - INFO - Info for rank 0, Date = 2020-05-25 00:00:00, number of deaths =  0, number of infected = 10\n",
      "2020-12-20 16:07:52,987 - simulator - INFO - CMS: Infection COMS-v2 for rank 0/1(2) 0.000129060999995545,0.00012922286987304688 - 2020-05-25 00:00:00\n",
      "2020-12-20 16:07:53,032 - simulator - INFO - CMS: Timestep for rank 0/1 - 0.21245429999999033, 0.21245908737182617 - 2020-05-25 00:00:00\n",
      "\n",
      "2020-12-20 16:07:53,032 - simulator - INFO - ==================== timestep ====================\n",
      "2020-12-20 16:07:53,362 - activity_manager - INFO - CMS: People COMS for rank 0/1 - 3.7349999786329136e-06,3.0994415283203125e-06 - 2020-05-25 02:00:00\n",
      "2020-12-20 16:07:53,366 - simulator - INFO - Info for rank 0, Date = 2020-05-25 02:00:00, number of deaths =  0, number of infected = 11\n",
      "2020-12-20 16:07:53,414 - simulator - INFO - CMS: Infection COMS-v2 for rank 0/1(2) 0.00015163399999096328,0.00015091896057128906 - 2020-05-25 02:00:00\n",
      "2020-12-20 16:07:53,463 - simulator - INFO - CMS: Timestep for rank 0/1 - 0.429870367999996, 0.42987895011901855 - 2020-05-25 02:00:00\n",
      "\n",
      "2020-12-20 16:07:53,463 - simulator - INFO - ==================== timestep ====================\n",
      "2020-12-20 16:07:53,774 - activity_manager - INFO - CMS: People COMS for rank 0/1 - 3.4850000076858123e-06,3.0994415283203125e-06 - 2020-05-25 04:00:00\n",
      "2020-12-20 16:07:53,778 - simulator - INFO - Info for rank 0, Date = 2020-05-25 04:00:00, number of deaths =  0, number of infected = 11\n",
      "2020-12-20 16:07:53,819 - simulator - INFO - CMS: Infection COMS-v2 for rank 0/1(2) 0.00012411500000553133,0.0001227855682373047 - 2020-05-25 04:00:00\n",
      "2020-12-20 16:07:53,863 - simulator - INFO - CMS: Timestep for rank 0/1 - 0.3990334609999877, 0.39904093742370605 - 2020-05-25 04:00:00\n",
      "\n",
      "2020-12-20 16:07:53,864 - simulator - INFO - ==================== timestep ====================\n",
      "2020-12-20 16:07:54,180 - activity_manager - INFO - CMS: People COMS for rank 0/1 - 3.904000010379605e-06,2.86102294921875e-06 - 2020-05-25 06:00:00\n",
      "2020-12-20 16:07:54,184 - simulator - INFO - Info for rank 0, Date = 2020-05-25 06:00:00, number of deaths =  0, number of infected = 13\n",
      "2020-12-20 16:07:54,226 - simulator - INFO - CMS: Infection COMS-v2 for rank 0/1(2) 0.00011730500000339816,0.00011587142944335938 - 2020-05-25 06:00:00\n",
      "2020-12-20 16:07:54,271 - simulator - INFO - CMS: Timestep for rank 0/1 - 0.40737689799999544, 0.4073827266693115 - 2020-05-25 06:00:00\n",
      "\n",
      "2020-12-20 16:07:54,272 - simulator - INFO - ==================== timestep ====================\n",
      "2020-12-20 16:07:54,600 - activity_manager - INFO - CMS: People COMS for rank 0/1 - 3.181000010954449e-06,3.0994415283203125e-06 - 2020-05-25 08:00:00\n",
      "2020-12-20 16:07:54,604 - simulator - INFO - Info for rank 0, Date = 2020-05-25 08:00:00, number of deaths =  0, number of infected = 17\n",
      "2020-12-20 16:07:54,647 - simulator - INFO - CMS: Infection COMS-v2 for rank 0/1(2) 0.0001430659999925865,0.00014328956604003906 - 2020-05-25 08:00:00\n",
      "2020-12-20 16:07:54,692 - simulator - INFO - CMS: Timestep for rank 0/1 - 0.4191307699999811, 0.41913914680480957 - 2020-05-25 08:00:00\n",
      "\n",
      "2020-12-20 16:07:54,692 - simulator - INFO - ==================== timestep ====================\n",
      "2020-12-20 16:07:54,823 - activity_manager - INFO - CMS: People COMS for rank 0/1 - 2.2509999837438954e-06,1.9073486328125e-06 - 2020-05-25 10:00:00\n",
      "2020-12-20 16:07:54,827 - simulator - INFO - Info for rank 0, Date = 2020-05-25 10:00:00, number of deaths =  0, number of infected = 19\n",
      "2020-12-20 16:07:54,863 - simulator - INFO - CMS: Infection COMS-v2 for rank 0/1(2) 0.00014359700000454723,0.00014281272888183594 - 2020-05-25 10:00:00\n",
      "2020-12-20 16:07:54,910 - simulator - INFO - CMS: Timestep for rank 0/1 - 0.21685558000001492, 0.2168588638305664 - 2020-05-25 10:00:00\n",
      "\n",
      "2020-12-20 16:07:54,910 - simulator - INFO - ==================== timestep ====================\n"
     ]
    },
    {
     "name": "stdout",
     "output_type": "stream",
     "text": [
      "2020-12-20 16:07:55,041 - activity_manager - INFO - CMS: People COMS for rank 0/1 - 2.326000014818419e-06,1.9073486328125e-06 - 2020-05-26 00:00:00\n",
      "2020-12-20 16:07:55,045 - simulator - INFO - Info for rank 0, Date = 2020-05-26 00:00:00, number of deaths =  0, number of infected = 28\n",
      "2020-12-20 16:07:55,079 - simulator - INFO - CMS: Infection COMS-v2 for rank 0/1(2) 0.00011495999999056039,0.00011491775512695312 - 2020-05-26 00:00:00\n",
      "2020-12-20 16:07:55,125 - simulator - INFO - CMS: Timestep for rank 0/1 - 0.214442240000011, 0.2144467830657959 - 2020-05-26 00:00:00\n",
      "\n",
      "2020-12-20 16:07:55,126 - simulator - INFO - ==================== timestep ====================\n",
      "2020-12-20 16:07:55,432 - activity_manager - INFO - CMS: People COMS for rank 0/1 - 3.064999987145711e-06,3.0994415283203125e-06 - 2020-05-26 02:00:00\n",
      "2020-12-20 16:07:55,436 - simulator - INFO - Info for rank 0, Date = 2020-05-26 02:00:00, number of deaths =  0, number of infected = 30\n",
      "2020-12-20 16:07:55,478 - simulator - INFO - CMS: Infection COMS-v2 for rank 0/1(2) 0.00015099799998097296,0.0001499652862548828 - 2020-05-26 02:00:00\n",
      "2020-12-20 16:07:55,521 - simulator - INFO - CMS: Timestep for rank 0/1 - 0.3947835269999871, 0.3947927951812744 - 2020-05-26 02:00:00\n",
      "\n",
      "2020-12-20 16:07:55,522 - simulator - INFO - ==================== timestep ====================\n",
      "2020-12-20 16:07:55,824 - activity_manager - INFO - CMS: People COMS for rank 0/1 - 3.5460000162856886e-06,2.86102294921875e-06 - 2020-05-26 04:00:00\n",
      "2020-12-20 16:07:55,828 - simulator - INFO - Info for rank 0, Date = 2020-05-26 04:00:00, number of deaths =  0, number of infected = 33\n",
      "2020-12-20 16:07:55,869 - simulator - INFO - CMS: Infection COMS-v2 for rank 0/1(2) 0.00011828499998500774,0.00011801719665527344 - 2020-05-26 04:00:00\n",
      "2020-12-20 16:07:55,913 - simulator - INFO - CMS: Timestep for rank 0/1 - 0.39042215099999567, 0.3904299736022949 - 2020-05-26 04:00:00\n",
      "\n",
      "2020-12-20 16:07:55,913 - simulator - INFO - ==================== timestep ====================\n",
      "2020-12-20 16:07:56,221 - activity_manager - INFO - CMS: People COMS for rank 0/1 - 2.4100000075577555e-06,1.6689300537109375e-06 - 2020-05-26 06:00:00\n",
      "2020-12-20 16:07:56,226 - simulator - INFO - Info for rank 0, Date = 2020-05-26 06:00:00, number of deaths =  0, number of infected = 35\n",
      "2020-12-20 16:07:56,267 - simulator - INFO - CMS: Infection COMS-v2 for rank 0/1(2) 0.00012574299998391325,0.00012493133544921875 - 2020-05-26 06:00:00\n",
      "2020-12-20 16:07:56,312 - simulator - INFO - CMS: Timestep for rank 0/1 - 0.3984454049999897, 0.3984529972076416 - 2020-05-26 06:00:00\n",
      "\n",
      "2020-12-20 16:07:56,313 - simulator - INFO - ==================== timestep ====================\n",
      "2020-12-20 16:07:56,617 - activity_manager - INFO - CMS: People COMS for rank 0/1 - 3.340999995771199e-06,3.0994415283203125e-06 - 2020-05-26 08:00:00\n",
      "2020-12-20 16:07:56,621 - simulator - INFO - Info for rank 0, Date = 2020-05-26 08:00:00, number of deaths =  0, number of infected = 38\n",
      "2020-12-20 16:07:56,663 - simulator - INFO - CMS: Infection COMS-v2 for rank 0/1(2) 0.00012682799999197414,0.000125885009765625 - 2020-05-26 08:00:00\n",
      "2020-12-20 16:07:56,712 - simulator - INFO - CMS: Timestep for rank 0/1 - 0.39842071600000395, 0.39842772483825684 - 2020-05-26 08:00:00\n",
      "\n",
      "2020-12-20 16:07:56,713 - simulator - INFO - ==================== timestep ====================\n",
      "2020-12-20 16:07:56,866 - activity_manager - INFO - CMS: People COMS for rank 0/1 - 2.5199999811320595e-06,2.1457672119140625e-06 - 2020-05-26 10:00:00\n",
      "2020-12-20 16:07:56,870 - simulator - INFO - Info for rank 0, Date = 2020-05-26 10:00:00, number of deaths =  0, number of infected = 46\n",
      "2020-12-20 16:07:56,908 - simulator - INFO - CMS: Infection COMS-v2 for rank 0/1(2) 0.0001392249999980777,0.00013899803161621094 - 2020-05-26 10:00:00\n",
      "2020-12-20 16:07:56,951 - simulator - INFO - CMS: Timestep for rank 0/1 - 0.2383369000000073, 0.2383420467376709 - 2020-05-26 10:00:00\n",
      "\n",
      "2020-12-20 16:07:56,952 - simulator - INFO - ==================== timestep ====================\n",
      "2020-12-20 16:07:57,088 - activity_manager - INFO - CMS: People COMS for rank 0/1 - 2.152000007527022e-06,2.1457672119140625e-06 - 2020-05-27 00:00:00\n",
      "2020-12-20 16:07:57,092 - simulator - INFO - Info for rank 0, Date = 2020-05-27 00:00:00, number of deaths =  0, number of infected = 63\n",
      "2020-12-20 16:07:57,125 - simulator - INFO - CMS: Infection COMS-v2 for rank 0/1(2) 0.0001404619999902934,0.00014066696166992188 - 2020-05-27 00:00:00\n",
      "2020-12-20 16:07:57,169 - simulator - INFO - CMS: Timestep for rank 0/1 - 0.21596796399998652, 0.215972900390625 - 2020-05-27 00:00:00\n",
      "\n",
      "2020-12-20 16:07:57,169 - simulator - INFO - ==================== timestep ====================\n",
      "2020-12-20 16:07:57,473 - activity_manager - INFO - CMS: People COMS for rank 0/1 - 3.4539999944627198e-06,3.0994415283203125e-06 - 2020-05-27 02:00:00\n",
      "2020-12-20 16:07:57,477 - simulator - INFO - Info for rank 0, Date = 2020-05-27 02:00:00, number of deaths =  0, number of infected = 65\n",
      "2020-12-20 16:07:57,521 - simulator - INFO - CMS: Infection COMS-v2 for rank 0/1(2) 0.00011704199999940101,0.00011706352233886719 - 2020-05-27 02:00:00\n",
      "2020-12-20 16:07:57,567 - simulator - INFO - CMS: Timestep for rank 0/1 - 0.3976056189999895, 0.3976130485534668 - 2020-05-27 02:00:00\n",
      "\n",
      "2020-12-20 16:07:57,568 - simulator - INFO - ==================== timestep ====================\n",
      "2020-12-20 16:07:57,878 - activity_manager - INFO - CMS: People COMS for rank 0/1 - 3.3279999911428604e-06,3.0994415283203125e-06 - 2020-05-27 04:00:00\n",
      "2020-12-20 16:07:57,882 - simulator - INFO - Info for rank 0, Date = 2020-05-27 04:00:00, number of deaths =  0, number of infected = 66\n",
      "2020-12-20 16:07:57,924 - simulator - INFO - CMS: Infection COMS-v2 for rank 0/1(2) 0.00014666000001284374,0.00014591217041015625 - 2020-05-27 04:00:00\n",
      "2020-12-20 16:07:57,968 - simulator - INFO - CMS: Timestep for rank 0/1 - 0.3998203829999909, 0.3998279571533203 - 2020-05-27 04:00:00\n",
      "\n",
      "2020-12-20 16:07:57,969 - simulator - INFO - ==================== timestep ====================\n",
      "2020-12-20 16:07:58,283 - activity_manager - INFO - CMS: People COMS for rank 0/1 - 3.150000026153066e-06,3.0994415283203125e-06 - 2020-05-27 06:00:00\n",
      "2020-12-20 16:07:58,287 - simulator - INFO - Info for rank 0, Date = 2020-05-27 06:00:00, number of deaths =  0, number of infected = 72\n",
      "2020-12-20 16:07:58,332 - simulator - INFO - CMS: Infection COMS-v2 for rank 0/1(2) 0.0001317680000170185,0.00013113021850585938 - 2020-05-27 06:00:00\n",
      "2020-12-20 16:07:58,376 - simulator - INFO - CMS: Timestep for rank 0/1 - 0.4064935760000026, 0.40650010108947754 - 2020-05-27 06:00:00\n",
      "\n",
      "2020-12-20 16:07:58,377 - simulator - INFO - ==================== timestep ====================\n",
      "2020-12-20 16:07:58,696 - activity_manager - INFO - CMS: People COMS for rank 0/1 - 3.010000000358559e-06,3.0994415283203125e-06 - 2020-05-27 08:00:00\n",
      "2020-12-20 16:07:58,700 - simulator - INFO - Info for rank 0, Date = 2020-05-27 08:00:00, number of deaths =  0, number of infected = 81\n",
      "2020-12-20 16:07:58,743 - simulator - INFO - CMS: Infection COMS-v2 for rank 0/1(2) 0.0002592800000229545,0.0002598762512207031 - 2020-05-27 08:00:00\n",
      "2020-12-20 16:07:58,791 - simulator - INFO - CMS: Timestep for rank 0/1 - 0.4140097479999838, 0.4140176773071289 - 2020-05-27 08:00:00\n",
      "\n",
      "2020-12-20 16:07:58,792 - simulator - INFO - ==================== timestep ====================\n",
      "2020-12-20 16:07:58,926 - activity_manager - INFO - CMS: People COMS for rank 0/1 - 2.4899999857552757e-06,1.9073486328125e-06 - 2020-05-27 10:00:00\n",
      "2020-12-20 16:07:58,929 - simulator - INFO - Info for rank 0, Date = 2020-05-27 10:00:00, number of deaths =  0, number of infected = 84\n",
      "2020-12-20 16:07:58,963 - simulator - INFO - CMS: Infection COMS-v2 for rank 0/1(2) 0.00014519299998028146,0.00014400482177734375 - 2020-05-27 10:00:00\n",
      "2020-12-20 16:07:59,010 - simulator - INFO - CMS: Timestep for rank 0/1 - 0.2173047550000149, 0.21730995178222656 - 2020-05-27 10:00:00\n",
      "\n",
      "2020-12-20 16:07:59,010 - simulator - INFO - ==================== timestep ====================\n",
      "2020-12-20 16:07:59,145 - activity_manager - INFO - CMS: People COMS for rank 0/1 - 3.393999975287443e-06,3.0994415283203125e-06 - 2020-05-28 00:00:00\n"
     ]
    },
    {
     "name": "stdout",
     "output_type": "stream",
     "text": [
      "2020-12-20 16:07:59,149 - simulator - INFO - Info for rank 0, Date = 2020-05-28 00:00:00, number of deaths =  0, number of infected = 89\n",
      "2020-12-20 16:07:59,182 - simulator - INFO - CMS: Infection COMS-v2 for rank 0/1(2) 0.00011873700000819554,0.00011920928955078125 - 2020-05-28 00:00:00\n",
      "2020-12-20 16:07:59,227 - simulator - INFO - CMS: Timestep for rank 0/1 - 0.2162516070000038, 0.21625590324401855 - 2020-05-28 00:00:00\n",
      "\n",
      "2020-12-20 16:07:59,228 - simulator - INFO - ==================== timestep ====================\n",
      "2020-12-20 16:07:59,537 - activity_manager - INFO - CMS: People COMS for rank 0/1 - 3.359000004365953e-06,2.86102294921875e-06 - 2020-05-28 02:00:00\n",
      "2020-12-20 16:07:59,541 - simulator - INFO - Info for rank 0, Date = 2020-05-28 02:00:00, number of deaths =  0, number of infected = 90\n",
      "2020-12-20 16:07:59,588 - simulator - INFO - CMS: Infection COMS-v2 for rank 0/1(2) 0.0001461210000002211,0.00014591217041015625 - 2020-05-28 02:00:00\n",
      "2020-12-20 16:07:59,633 - simulator - INFO - CMS: Timestep for rank 0/1 - 0.4048906559999921, 0.40489721298217773 - 2020-05-28 02:00:00\n",
      "\n",
      "2020-12-20 16:07:59,634 - simulator - INFO - ==================== timestep ====================\n",
      "2020-12-20 16:07:59,938 - activity_manager - INFO - CMS: People COMS for rank 0/1 - 3.276999990475815e-06,1.9073486328125e-06 - 2020-05-28 04:00:00\n",
      "2020-12-20 16:07:59,942 - simulator - INFO - Info for rank 0, Date = 2020-05-28 04:00:00, number of deaths =  0, number of infected = 95\n",
      "2020-12-20 16:07:59,989 - simulator - INFO - CMS: Infection COMS-v2 for rank 0/1(2) 0.00011474299998326387,0.00011420249938964844 - 2020-05-28 04:00:00\n",
      "2020-12-20 16:08:00,033 - simulator - INFO - CMS: Timestep for rank 0/1 - 0.3990334419999897, 0.39903998374938965 - 2020-05-28 04:00:00\n",
      "\n",
      "2020-12-20 16:08:00,034 - simulator - INFO - ==================== timestep ====================\n",
      "2020-12-20 16:08:00,334 - activity_manager - INFO - CMS: People COMS for rank 0/1 - 3.0850000030113733e-06,1.9073486328125e-06 - 2020-05-28 06:00:00\n",
      "2020-12-20 16:08:00,339 - simulator - INFO - Info for rank 0, Date = 2020-05-28 06:00:00, number of deaths =  0, number of infected = 97\n",
      "2020-12-20 16:08:00,383 - simulator - INFO - CMS: Infection COMS-v2 for rank 0/1(2) 0.00011814699999490585,0.00011682510375976562 - 2020-05-28 06:00:00\n",
      "2020-12-20 16:08:00,429 - simulator - INFO - CMS: Timestep for rank 0/1 - 0.39449866900000075, 0.39450597763061523 - 2020-05-28 06:00:00\n",
      "\n",
      "2020-12-20 16:08:00,429 - simulator - INFO - ==================== timestep ====================\n",
      "2020-12-20 16:08:00,731 - activity_manager - INFO - CMS: People COMS for rank 0/1 - 2.9980000135765295e-06,3.0994415283203125e-06 - 2020-05-28 08:00:00\n",
      "2020-12-20 16:08:00,735 - simulator - INFO - Info for rank 0, Date = 2020-05-28 08:00:00, number of deaths =  0, number of infected = 101\n",
      "2020-12-20 16:08:00,781 - simulator - INFO - CMS: Infection COMS-v2 for rank 0/1(2) 0.0001235740000140595,0.0001232624053955078 - 2020-05-28 08:00:00\n",
      "2020-12-20 16:08:00,827 - simulator - INFO - CMS: Timestep for rank 0/1 - 0.39663796000002094, 0.39664578437805176 - 2020-05-28 08:00:00\n",
      "\n",
      "2020-12-20 16:08:00,827 - simulator - INFO - ==================== timestep ====================\n",
      "2020-12-20 16:08:00,964 - activity_manager - INFO - CMS: People COMS for rank 0/1 - 2.6829999910660263e-06,3.0994415283203125e-06 - 2020-05-28 10:00:00\n",
      "2020-12-20 16:08:00,968 - simulator - INFO - Info for rank 0, Date = 2020-05-28 10:00:00, number of deaths =  0, number of infected = 107\n",
      "2020-12-20 16:08:01,007 - simulator - INFO - CMS: Infection COMS-v2 for rank 0/1(2) 0.00014989599998216363,0.00014901161193847656 - 2020-05-28 10:00:00\n",
      "2020-12-20 16:08:01,054 - simulator - INFO - CMS: Timestep for rank 0/1 - 0.2267963850000001, 0.22680211067199707 - 2020-05-28 10:00:00\n",
      "\n",
      "2020-12-20 16:08:01,055 - simulator - INFO - ==================== timestep ====================\n",
      "2020-12-20 16:08:01,191 - activity_manager - INFO - CMS: People COMS for rank 0/1 - 2.8329999963716546e-06,2.1457672119140625e-06 - 2020-05-29 00:00:00\n",
      "2020-12-20 16:08:01,195 - simulator - INFO - Info for rank 0, Date = 2020-05-29 00:00:00, number of deaths =  0, number of infected = 116\n",
      "2020-12-20 16:08:01,237 - simulator - INFO - CMS: Infection COMS-v2 for rank 0/1(2) 0.0001483759999985068,0.00014781951904296875 - 2020-05-29 00:00:00\n",
      "2020-12-20 16:08:01,295 - simulator - INFO - CMS: Timestep for rank 0/1 - 0.23902656000001343, 0.23903203010559082 - 2020-05-29 00:00:00\n",
      "\n",
      "2020-12-20 16:08:01,295 - simulator - INFO - ==================== timestep ====================\n",
      "2020-12-20 16:08:01,609 - activity_manager - INFO - CMS: People COMS for rank 0/1 - 3.029999987802512e-06,2.1457672119140625e-06 - 2020-05-29 02:00:00\n",
      "2020-12-20 16:08:01,613 - simulator - INFO - Info for rank 0, Date = 2020-05-29 02:00:00, number of deaths =  0, number of infected = 122\n",
      "2020-12-20 16:08:01,655 - simulator - INFO - CMS: Infection COMS-v2 for rank 0/1(2) 0.00011184400000274763,0.00011110305786132812 - 2020-05-29 02:00:00\n",
      "2020-12-20 16:08:01,699 - simulator - INFO - CMS: Timestep for rank 0/1 - 0.40308701399999336, 0.4030940532684326 - 2020-05-29 02:00:00\n",
      "\n",
      "2020-12-20 16:08:01,700 - simulator - INFO - ==================== timestep ====================\n",
      "2020-12-20 16:08:02,004 - activity_manager - INFO - CMS: People COMS for rank 0/1 - 3.058000004330097e-06,2.86102294921875e-06 - 2020-05-29 04:00:00\n",
      "2020-12-20 16:08:02,008 - simulator - INFO - Info for rank 0, Date = 2020-05-29 04:00:00, number of deaths =  0, number of infected = 131\n",
      "2020-12-20 16:08:02,050 - simulator - INFO - CMS: Infection COMS-v2 for rank 0/1(2) 0.00010885200001098383,0.00010895729064941406 - 2020-05-29 04:00:00\n",
      "2020-12-20 16:08:02,091 - simulator - INFO - CMS: Timestep for rank 0/1 - 0.39098490099999594, 0.3909919261932373 - 2020-05-29 04:00:00\n",
      "\n",
      "2020-12-20 16:08:02,091 - simulator - INFO - ==================== timestep ====================\n",
      "2020-12-20 16:08:02,401 - activity_manager - INFO - CMS: People COMS for rank 0/1 - 3.050000003668174e-06,3.0994415283203125e-06 - 2020-05-29 06:00:00\n",
      "2020-12-20 16:08:02,405 - simulator - INFO - Info for rank 0, Date = 2020-05-29 06:00:00, number of deaths =  0, number of infected = 143\n",
      "2020-12-20 16:08:02,451 - simulator - INFO - CMS: Infection COMS-v2 for rank 0/1(2) 0.00011849599999891325,0.00011801719665527344 - 2020-05-29 06:00:00\n",
      "2020-12-20 16:08:02,497 - simulator - INFO - CMS: Timestep for rank 0/1 - 0.405507297999975, 0.4055161476135254 - 2020-05-29 06:00:00\n",
      "\n",
      "2020-12-20 16:08:02,498 - simulator - INFO - ==================== timestep ====================\n",
      "2020-12-20 16:08:02,826 - activity_manager - INFO - CMS: People COMS for rank 0/1 - 3.12299999905008e-06,3.0994415283203125e-06 - 2020-05-29 08:00:00\n",
      "2020-12-20 16:08:02,831 - simulator - INFO - Info for rank 0, Date = 2020-05-29 08:00:00, number of deaths =  0, number of infected = 156\n",
      "2020-12-20 16:08:02,877 - simulator - INFO - CMS: Infection COMS-v2 for rank 0/1(2) 0.00011091100000726328,0.00011014938354492188 - 2020-05-29 08:00:00\n",
      "2020-12-20 16:08:02,922 - simulator - INFO - CMS: Timestep for rank 0/1 - 0.42334384199998, 0.4233522415161133 - 2020-05-29 08:00:00\n",
      "\n",
      "2020-12-20 16:08:02,923 - simulator - INFO - ==================== timestep ====================\n",
      "2020-12-20 16:08:03,057 - activity_manager - INFO - CMS: People COMS for rank 0/1 - 3.1659999990552024e-06,2.86102294921875e-06 - 2020-05-29 10:00:00\n",
      "2020-12-20 16:08:03,061 - simulator - INFO - Info for rank 0, Date = 2020-05-29 10:00:00, number of deaths =  0, number of infected = 165\n",
      "2020-12-20 16:08:03,115 - simulator - INFO - CMS: Infection COMS-v2 for rank 0/1(2) 0.00015388500000312888,0.00015282630920410156 - 2020-05-29 10:00:00\n",
      "2020-12-20 16:08:03,162 - simulator - INFO - CMS: Timestep for rank 0/1 - 0.23893553799999268, 0.23894000053405762 - 2020-05-29 10:00:00\n",
      "\n",
      "2020-12-20 16:08:03,163 - simulator - INFO - ==================== timestep ====================\n",
      "2020-12-20 16:08:03,311 - activity_manager - INFO - CMS: People COMS for rank 0/1 - 2.760999990414348e-06,2.1457672119140625e-06 - 2020-05-30 00:00:00\n",
      "2020-12-20 16:08:03,316 - simulator - INFO - Info for rank 0, Date = 2020-05-30 00:00:00, number of deaths =  0, number of infected = 212\n"
     ]
    },
    {
     "name": "stdout",
     "output_type": "stream",
     "text": [
      "2020-12-20 16:08:03,355 - simulator - INFO - CMS: Infection COMS-v2 for rank 0/1(2) 0.000164968000007093,0.00016427040100097656 - 2020-05-30 00:00:00\n",
      "2020-12-20 16:08:03,399 - simulator - INFO - CMS: Timestep for rank 0/1 - 0.2357275379999919, 0.23573088645935059 - 2020-05-30 00:00:00\n",
      "\n",
      "2020-12-20 16:08:03,400 - simulator - INFO - ==================== timestep ====================\n",
      "2020-12-20 16:08:03,706 - activity_manager - INFO - CMS: People COMS for rank 0/1 - 3.1010000043352193e-06,3.0994415283203125e-06 - 2020-05-30 03:00:00\n",
      "2020-12-20 16:08:03,710 - simulator - INFO - Info for rank 0, Date = 2020-05-30 03:00:00, number of deaths =  0, number of infected = 222\n",
      "2020-12-20 16:08:03,754 - simulator - INFO - CMS: Infection COMS-v2 for rank 0/1(2) 0.0001134869999930288,0.00011301040649414062 - 2020-05-30 03:00:00\n",
      "2020-12-20 16:08:03,795 - simulator - INFO - CMS: Timestep for rank 0/1 - 0.3954659430000049, 0.3954739570617676 - 2020-05-30 03:00:00\n",
      "\n",
      "2020-12-20 16:08:03,796 - simulator - INFO - ==================== timestep ====================\n",
      "2020-12-20 16:08:04,101 - activity_manager - INFO - CMS: People COMS for rank 0/1 - 3.0829999957404652e-06,3.0994415283203125e-06 - 2020-05-30 05:00:00\n",
      "2020-12-20 16:08:04,105 - simulator - INFO - Info for rank 0, Date = 2020-05-30 05:00:00, number of deaths =  0, number of infected = 232\n",
      "2020-12-20 16:08:04,148 - simulator - INFO - CMS: Infection COMS-v2 for rank 0/1(2) 0.00010353999999779262,0.00010228157043457031 - 2020-05-30 05:00:00\n",
      "2020-12-20 16:08:04,191 - simulator - INFO - CMS: Timestep for rank 0/1 - 0.3946534970000073, 0.39466094970703125 - 2020-05-30 05:00:00\n",
      "\n",
      "2020-12-20 16:08:04,192 - simulator - INFO - ==================== timestep ====================\n",
      "2020-12-20 16:08:04,553 - activity_manager - INFO - CMS: People COMS for rank 0/1 - 3.6650000083682244e-06,3.0994415283203125e-06 - 2020-05-30 07:00:00\n",
      "2020-12-20 16:08:04,557 - simulator - INFO - Info for rank 0, Date = 2020-05-30 07:00:00, number of deaths =  0, number of infected = 242\n",
      "2020-12-20 16:08:04,603 - simulator - INFO - CMS: Infection COMS-v2 for rank 0/1(2) 0.00012224999997556552,0.00012111663818359375 - 2020-05-30 07:00:00\n",
      "2020-12-20 16:08:04,646 - simulator - INFO - CMS: Timestep for rank 0/1 - 0.4529100970000002, 0.45291805267333984 - 2020-05-30 07:00:00\n",
      "\n",
      "2020-12-20 16:08:04,646 - simulator - INFO - ==================== timestep ====================\n",
      "2020-12-20 16:08:04,961 - activity_manager - INFO - CMS: People COMS for rank 0/1 - 4.2679999978645355e-06,3.814697265625e-06 - 2020-05-30 09:00:00\n",
      "2020-12-20 16:08:04,967 - simulator - INFO - Info for rank 0, Date = 2020-05-30 09:00:00, number of deaths =  0, number of infected = 256\n",
      "2020-12-20 16:08:05,020 - simulator - INFO - CMS: Infection COMS-v2 for rank 0/1(2) 0.0001159100000052149,0.00011491775512695312 - 2020-05-30 09:00:00\n",
      "2020-12-20 16:08:05,065 - simulator - INFO - CMS: Timestep for rank 0/1 - 0.4184257240000022, 0.41843295097351074 - 2020-05-30 09:00:00\n",
      "\n",
      "2020-12-20 16:08:05,066 - simulator - INFO - ==================== timestep ====================\n",
      "2020-12-20 16:08:05,216 - activity_manager - INFO - CMS: People COMS for rank 0/1 - 3.1569999805469706e-06,3.0994415283203125e-06 - 2020-05-30 11:00:00\n",
      "2020-12-20 16:08:05,221 - simulator - INFO - Info for rank 0, Date = 2020-05-30 11:00:00, number of deaths =  0, number of infected = 274\n",
      "2020-12-20 16:08:05,276 - simulator - INFO - CMS: Infection COMS-v2 for rank 0/1(2) 0.00031462600000509156,0.0003142356872558594 - 2020-05-30 11:00:00\n",
      "2020-12-20 16:08:05,319 - simulator - INFO - CMS: Timestep for rank 0/1 - 0.2528365519999909, 0.2528409957885742 - 2020-05-30 11:00:00\n",
      "\n",
      "2020-12-20 16:08:05,320 - simulator - INFO - ==================== timestep ====================\n",
      "2020-12-20 16:08:05,465 - activity_manager - INFO - CMS: People COMS for rank 0/1 - 2.435000027389833e-06,2.1457672119140625e-06 - 2020-05-31 00:00:00\n",
      "2020-12-20 16:08:05,470 - simulator - INFO - Info for rank 0, Date = 2020-05-31 00:00:00, number of deaths =  0, number of infected = 320\n",
      "2020-12-20 16:08:05,511 - simulator - INFO - CMS: Infection COMS-v2 for rank 0/1(2) 0.00037753800000928095,0.0003769397735595703 - 2020-05-31 00:00:00\n",
      "2020-12-20 16:08:05,556 - simulator - INFO - CMS: Timestep for rank 0/1 - 0.23570105299998545, 0.23570513725280762 - 2020-05-31 00:00:00\n",
      "\n",
      "2020-12-20 16:08:05,556 - simulator - INFO - ==================== timestep ====================\n",
      "2020-12-20 16:08:05,880 - activity_manager - INFO - CMS: People COMS for rank 0/1 - 4.025999999157648e-06,3.0994415283203125e-06 - 2020-05-31 03:00:00\n",
      "2020-12-20 16:08:05,885 - simulator - INFO - Info for rank 0, Date = 2020-05-31 03:00:00, number of deaths =  0, number of infected = 342\n",
      "2020-12-20 16:08:05,949 - simulator - INFO - CMS: Infection COMS-v2 for rank 0/1(2) 0.0005452590000061264,0.0005450248718261719 - 2020-05-31 03:00:00\n",
      "2020-12-20 16:08:06,009 - simulator - INFO - CMS: Timestep for rank 0/1 - 0.4523409519999859, 0.4523489475250244 - 2020-05-31 03:00:00\n",
      "\n",
      "2020-12-20 16:08:06,010 - simulator - INFO - ==================== timestep ====================\n",
      "2020-12-20 16:08:06,387 - activity_manager - INFO - CMS: People COMS for rank 0/1 - 1.803000000677457e-05,1.6927719116210938e-05 - 2020-05-31 05:00:00\n",
      "2020-12-20 16:08:06,392 - simulator - INFO - Info for rank 0, Date = 2020-05-31 05:00:00, number of deaths =  0, number of infected = 360\n",
      "2020-12-20 16:08:06,457 - simulator - INFO - CMS: Infection COMS-v2 for rank 0/1(2) 0.0002911840000194843,0.00029087066650390625 - 2020-05-31 05:00:00\n",
      "2020-12-20 16:08:06,518 - simulator - INFO - CMS: Timestep for rank 0/1 - 0.5078628119999848, 0.5078730583190918 - 2020-05-31 05:00:00\n",
      "\n",
      "2020-12-20 16:08:06,519 - simulator - INFO - ==================== timestep ====================\n",
      "2020-12-20 16:08:06,885 - activity_manager - INFO - CMS: People COMS for rank 0/1 - 3.6590000149772095e-06,3.0994415283203125e-06 - 2020-05-31 07:00:00\n",
      "2020-12-20 16:08:06,890 - simulator - INFO - Info for rank 0, Date = 2020-05-31 07:00:00, number of deaths =  0, number of infected = 383\n",
      "2020-12-20 16:08:06,939 - simulator - INFO - CMS: Infection COMS-v2 for rank 0/1(2) 0.00010890099997595826,0.00010800361633300781 - 2020-05-31 07:00:00\n",
      "2020-12-20 16:08:06,982 - simulator - INFO - CMS: Timestep for rank 0/1 - 0.4625076110000066, 0.46251606941223145 - 2020-05-31 07:00:00\n",
      "\n",
      "2020-12-20 16:08:06,983 - simulator - INFO - ==================== timestep ====================\n",
      "2020-12-20 16:08:07,290 - activity_manager - INFO - CMS: People COMS for rank 0/1 - 3.5019999984342576e-06,3.0994415283203125e-06 - 2020-05-31 09:00:00\n",
      "2020-12-20 16:08:07,294 - simulator - INFO - Info for rank 0, Date = 2020-05-31 09:00:00, number of deaths =  0, number of infected = 403\n",
      "2020-12-20 16:08:07,343 - simulator - INFO - CMS: Infection COMS-v2 for rank 0/1(2) 0.0001161239999873942,0.00011491775512695312 - 2020-05-31 09:00:00\n",
      "2020-12-20 16:08:07,386 - simulator - INFO - CMS: Timestep for rank 0/1 - 0.40319319500000006, 0.4031999111175537 - 2020-05-31 09:00:00\n",
      "\n",
      "2020-12-20 16:08:07,387 - simulator - INFO - ==================== timestep ====================\n",
      "2020-12-20 16:08:07,515 - activity_manager - INFO - CMS: People COMS for rank 0/1 - 2.706000003627196e-06,2.1457672119140625e-06 - 2020-05-31 11:00:00\n",
      "2020-12-20 16:08:07,519 - simulator - INFO - Info for rank 0, Date = 2020-05-31 11:00:00, number of deaths =  0, number of infected = 432\n",
      "2020-12-20 16:08:07,580 - simulator - INFO - CMS: Infection COMS-v2 for rank 0/1(2) 0.00014922599999067643,0.0001480579376220703 - 2020-05-31 11:00:00\n",
      "2020-12-20 16:08:07,623 - simulator - INFO - CMS: Timestep for rank 0/1 - 0.23569705799999952, 0.2357010841369629 - 2020-05-31 11:00:00\n",
      "\n",
      "2020-12-20 16:08:07,624 - simulator - INFO - ==================== timestep ====================\n",
      "2020-12-20 16:08:07,757 - activity_manager - INFO - CMS: People COMS for rank 0/1 - 2.3700000042481406e-06,2.1457672119140625e-06 - 2020-06-01 00:00:00\n",
      "2020-12-20 16:08:07,761 - simulator - INFO - Info for rank 0, Date = 2020-06-01 00:00:00, number of deaths =  0, number of infected = 517\n",
      "2020-12-20 16:08:07,814 - simulator - INFO - CMS: Infection COMS-v2 for rank 0/1(2) 0.00013885199999208453,0.0001347064971923828 - 2020-06-01 00:00:00\n"
     ]
    },
    {
     "name": "stdout",
     "output_type": "stream",
     "text": [
      "2020-12-20 16:08:07,876 - simulator - INFO - CMS: Timestep for rank 0/1 - 0.2516872759999842, 0.2516932487487793 - 2020-06-01 00:00:00\n",
      "\n",
      "2020-12-20 16:08:07,877 - simulator - INFO - ==================== timestep ====================\n",
      "2020-12-20 16:08:08,188 - activity_manager - INFO - CMS: People COMS for rank 0/1 - 2.5520000122014608e-06,2.1457672119140625e-06 - 2020-06-01 02:00:00\n",
      "2020-12-20 16:08:08,192 - simulator - INFO - Info for rank 0, Date = 2020-06-01 02:00:00, number of deaths =  0, number of infected = 554\n",
      "2020-12-20 16:08:08,246 - simulator - INFO - CMS: Infection COMS-v2 for rank 0/1(2) 0.0001271659999986241,0.0001270771026611328 - 2020-06-01 02:00:00\n",
      "2020-12-20 16:08:08,289 - simulator - INFO - CMS: Timestep for rank 0/1 - 0.4120058370000095, 0.4120140075683594 - 2020-06-01 02:00:00\n",
      "\n",
      "2020-12-20 16:08:08,290 - simulator - INFO - ==================== timestep ====================\n",
      "2020-12-20 16:08:08,600 - activity_manager - INFO - CMS: People COMS for rank 0/1 - 3.24800001294534e-06,3.0994415283203125e-06 - 2020-06-01 04:00:00\n",
      "2020-12-20 16:08:08,605 - simulator - INFO - Info for rank 0, Date = 2020-06-01 04:00:00, number of deaths =  0, number of infected = 588\n",
      "2020-12-20 16:08:08,671 - simulator - INFO - CMS: Infection COMS-v2 for rank 0/1(2) 0.00013660700000173165,0.00013589859008789062 - 2020-06-01 04:00:00\n",
      "2020-12-20 16:08:08,721 - simulator - INFO - CMS: Timestep for rank 0/1 - 0.4301632600000005, 0.4301722049713135 - 2020-06-01 04:00:00\n",
      "\n",
      "2020-12-20 16:08:08,721 - simulator - INFO - ==================== timestep ====================\n",
      "2020-12-20 16:08:09,037 - activity_manager - INFO - CMS: People COMS for rank 0/1 - 3.0850000030113733e-06,3.0994415283203125e-06 - 2020-06-01 06:00:00\n",
      "2020-12-20 16:08:09,041 - simulator - INFO - Info for rank 0, Date = 2020-06-01 06:00:00, number of deaths =  0, number of infected = 641\n",
      "2020-12-20 16:08:09,098 - simulator - INFO - CMS: Infection COMS-v2 for rank 0/1(2) 0.00019102400000292619,0.0001900196075439453 - 2020-06-01 06:00:00\n",
      "2020-12-20 16:08:09,143 - simulator - INFO - CMS: Timestep for rank 0/1 - 0.4208872300000053, 0.420896053314209 - 2020-06-01 06:00:00\n",
      "\n",
      "2020-12-20 16:08:09,144 - simulator - INFO - ==================== timestep ====================\n",
      "2020-12-20 16:08:09,451 - activity_manager - INFO - CMS: People COMS for rank 0/1 - 3.0369999990398355e-06,1.6689300537109375e-06 - 2020-06-01 08:00:00\n",
      "2020-12-20 16:08:09,456 - simulator - INFO - Info for rank 0, Date = 2020-06-01 08:00:00, number of deaths =  0, number of infected = 688\n",
      "2020-12-20 16:08:09,524 - simulator - INFO - CMS: Infection COMS-v2 for rank 0/1(2) 0.00012657999999987624,0.00012612342834472656 - 2020-06-01 08:00:00\n",
      "2020-12-20 16:08:09,571 - simulator - INFO - CMS: Timestep for rank 0/1 - 0.4267101150000201, 0.42671799659729004 - 2020-06-01 08:00:00\n",
      "\n",
      "2020-12-20 16:08:09,571 - simulator - INFO - ==================== timestep ====================\n",
      "2020-12-20 16:08:09,708 - activity_manager - INFO - CMS: People COMS for rank 0/1 - 2.670000014859397e-06,1.6689300537109375e-06 - 2020-06-01 10:00:00\n",
      "2020-12-20 16:08:09,713 - simulator - INFO - Info for rank 0, Date = 2020-06-01 10:00:00, number of deaths =  0, number of infected = 755\n",
      "2020-12-20 16:08:09,801 - simulator - INFO - CMS: Infection COMS-v2 for rank 0/1(2) 0.00011224400000742207,0.00011181831359863281 - 2020-06-01 10:00:00\n",
      "2020-12-20 16:08:09,847 - simulator - INFO - CMS: Timestep for rank 0/1 - 0.274786612000014, 0.27479100227355957 - 2020-06-01 10:00:00\n",
      "\n",
      "2020-12-20 16:08:09,847 - simulator - INFO - ==================== timestep ====================\n",
      "2020-12-20 16:08:09,994 - activity_manager - INFO - CMS: People COMS for rank 0/1 - 2.8510000049664086e-06,1.9073486328125e-06 - 2020-06-02 00:00:00\n",
      "2020-12-20 16:08:09,998 - simulator - INFO - Info for rank 0, Date = 2020-06-02 00:00:00, number of deaths =  0, number of infected = 953\n",
      "2020-12-20 16:08:10,053 - simulator - INFO - CMS: Infection COMS-v2 for rank 0/1(2) 0.000270716999978049,0.0002701282501220703 - 2020-06-02 00:00:00\n",
      "2020-12-20 16:08:10,100 - simulator - INFO - CMS: Timestep for rank 0/1 - 0.2528440309999951, 0.25284814834594727 - 2020-06-02 00:00:00\n",
      "\n",
      "2020-12-20 16:08:10,101 - simulator - INFO - ==================== timestep ====================\n",
      "2020-12-20 16:08:10,405 - activity_manager - INFO - CMS: People COMS for rank 0/1 - 2.94099999109676e-06,3.0994415283203125e-06 - 2020-06-02 02:00:00\n",
      "2020-12-20 16:08:10,409 - simulator - INFO - Info for rank 0, Date = 2020-06-02 02:00:00, number of deaths =  0, number of infected = 1001\n",
      "2020-12-20 16:08:10,473 - simulator - INFO - CMS: Infection COMS-v2 for rank 0/1(2) 0.0001848750000021937,0.0001838207244873047 - 2020-06-02 02:00:00\n",
      "2020-12-20 16:08:10,516 - simulator - INFO - CMS: Timestep for rank 0/1 - 0.41424891299999445, 0.41425609588623047 - 2020-06-02 02:00:00\n",
      "\n",
      "2020-12-20 16:08:10,516 - simulator - INFO - ==================== timestep ====================\n",
      "2020-12-20 16:08:10,830 - activity_manager - INFO - CMS: People COMS for rank 0/1 - 3.6010000030728406e-06,3.0994415283203125e-06 - 2020-06-02 04:00:00\n",
      "2020-12-20 16:08:10,835 - simulator - INFO - Info for rank 0, Date = 2020-06-02 04:00:00, number of deaths =  0, number of infected = 1078\n",
      "2020-12-20 16:08:10,917 - simulator - INFO - CMS: Infection COMS-v2 for rank 0/1(2) 0.0002438879999999699,0.0002429485321044922 - 2020-06-02 04:00:00\n",
      "2020-12-20 16:08:10,968 - simulator - INFO - CMS: Timestep for rank 0/1 - 0.45116526600000384, 0.4511737823486328 - 2020-06-02 04:00:00\n",
      "\n",
      "2020-12-20 16:08:10,969 - simulator - INFO - ==================== timestep ====================\n",
      "2020-12-20 16:08:11,275 - activity_manager - INFO - CMS: People COMS for rank 0/1 - 2.652000006264643e-06,2.1457672119140625e-06 - 2020-06-02 06:00:00\n",
      "2020-12-20 16:08:11,279 - simulator - INFO - Info for rank 0, Date = 2020-06-02 06:00:00, number of deaths =  0, number of infected = 1163\n",
      "2020-12-20 16:08:11,341 - simulator - INFO - CMS: Infection COMS-v2 for rank 0/1(2) 0.00017416200000752724,0.00017309188842773438 - 2020-06-02 06:00:00\n",
      "2020-12-20 16:08:11,387 - simulator - INFO - CMS: Timestep for rank 0/1 - 0.4181698470000015, 0.41817784309387207 - 2020-06-02 06:00:00\n",
      "\n",
      "2020-12-20 16:08:11,388 - simulator - INFO - ==================== timestep ====================\n",
      "2020-12-20 16:08:11,694 - activity_manager - INFO - CMS: People COMS for rank 0/1 - 3.308999993123507e-06,2.86102294921875e-06 - 2020-06-02 08:00:00\n",
      "2020-12-20 16:08:11,698 - simulator - INFO - Info for rank 0, Date = 2020-06-02 08:00:00, number of deaths =  0, number of infected = 1225\n",
      "2020-12-20 16:08:11,770 - simulator - INFO - CMS: Infection COMS-v2 for rank 0/1(2) 0.00016701500001659042,0.00016689300537109375 - 2020-06-02 08:00:00\n",
      "2020-12-20 16:08:11,819 - simulator - INFO - CMS: Timestep for rank 0/1 - 0.4305816019999895, 0.430588960647583 - 2020-06-02 08:00:00\n",
      "\n",
      "2020-12-20 16:08:11,820 - simulator - INFO - ==================== timestep ====================\n",
      "2020-12-20 16:08:11,956 - activity_manager - INFO - CMS: People COMS for rank 0/1 - 2.203000008194067e-06,2.1457672119140625e-06 - 2020-06-02 10:00:00\n",
      "2020-12-20 16:08:11,960 - simulator - INFO - Info for rank 0, Date = 2020-06-02 10:00:00, number of deaths =  0, number of infected = 1309\n",
      "2020-12-20 16:08:12,054 - simulator - INFO - CMS: Infection COMS-v2 for rank 0/1(2) 0.00014533300000607596,0.00014519691467285156 - 2020-06-02 10:00:00\n",
      "2020-12-20 16:08:12,102 - simulator - INFO - CMS: Timestep for rank 0/1 - 0.2815328540000053, 0.2815380096435547 - 2020-06-02 10:00:00\n",
      "\n",
      "2020-12-20 16:08:12,102 - simulator - INFO - ==================== timestep ====================\n",
      "2020-12-20 16:08:12,236 - activity_manager - INFO - CMS: People COMS for rank 0/1 - 2.3860000055719865e-06,9.5367431640625e-07 - 2020-06-03 00:00:00\n",
      "2020-12-20 16:08:12,240 - simulator - INFO - Info for rank 0, Date = 2020-06-03 00:00:00, number of deaths =  0, number of infected = 1545\n",
      "2020-12-20 16:08:12,301 - simulator - INFO - CMS: Infection COMS-v2 for rank 0/1(2) 0.00028075299999841263,0.00028014183044433594 - 2020-06-03 00:00:00\n",
      "2020-12-20 16:08:12,355 - simulator - INFO - CMS: Timestep for rank 0/1 - 0.25244732100000533, 0.25245189666748047 - 2020-06-03 00:00:00\n",
      "\n"
     ]
    },
    {
     "name": "stdout",
     "output_type": "stream",
     "text": [
      "2020-12-20 16:08:12,356 - simulator - INFO - ==================== timestep ====================\n",
      "2020-12-20 16:08:12,662 - activity_manager - INFO - CMS: People COMS for rank 0/1 - 2.99700002415193e-06,2.86102294921875e-06 - 2020-06-03 02:00:00\n",
      "2020-12-20 16:08:12,666 - simulator - INFO - Info for rank 0, Date = 2020-06-03 02:00:00, number of deaths =  0, number of infected = 1621\n",
      "2020-12-20 16:08:12,750 - simulator - INFO - CMS: Infection COMS-v2 for rank 0/1(2) 0.00011714800001527692,0.00011706352233886719 - 2020-06-03 02:00:00\n",
      "2020-12-20 16:08:12,798 - simulator - INFO - CMS: Timestep for rank 0/1 - 0.4418662340000026, 0.44187474250793457 - 2020-06-03 02:00:00\n",
      "\n",
      "2020-12-20 16:08:12,799 - simulator - INFO - ==================== timestep ====================\n",
      "2020-12-20 16:08:13,104 - activity_manager - INFO - CMS: People COMS for rank 0/1 - 3.098000007639712e-06,3.0994415283203125e-06 - 2020-06-03 04:00:00\n",
      "2020-12-20 16:08:13,109 - simulator - INFO - Info for rank 0, Date = 2020-06-03 04:00:00, number of deaths =  0, number of infected = 1741\n",
      "2020-12-20 16:08:13,188 - simulator - INFO - CMS: Infection COMS-v2 for rank 0/1(2) 0.00011051199999201344,0.00011014938354492188 - 2020-06-03 04:00:00\n",
      "2020-12-20 16:08:13,238 - simulator - INFO - CMS: Timestep for rank 0/1 - 0.43827159200000665, 0.4382798671722412 - 2020-06-03 04:00:00\n",
      "\n",
      "2020-12-20 16:08:13,238 - simulator - INFO - ==================== timestep ====================\n",
      "2020-12-20 16:08:13,545 - activity_manager - INFO - CMS: People COMS for rank 0/1 - 2.97500000101536e-06,2.6226043701171875e-06 - 2020-06-03 06:00:00\n",
      "2020-12-20 16:08:13,549 - simulator - INFO - Info for rank 0, Date = 2020-06-03 06:00:00, number of deaths =  0, number of infected = 1863\n",
      "2020-12-20 16:08:13,631 - simulator - INFO - CMS: Infection COMS-v2 for rank 0/1(2) 0.0001538189999905626,0.00015282630920410156 - 2020-06-03 06:00:00\n",
      "2020-12-20 16:08:13,681 - simulator - INFO - CMS: Timestep for rank 0/1 - 0.4421713640000178, 0.4421811103820801 - 2020-06-03 06:00:00\n",
      "\n",
      "2020-12-20 16:08:13,682 - simulator - INFO - ==================== timestep ====================\n",
      "2020-12-20 16:08:13,989 - activity_manager - INFO - CMS: People COMS for rank 0/1 - 2.993000009610114e-06,3.0994415283203125e-06 - 2020-06-03 08:00:00\n",
      "2020-12-20 16:08:13,993 - simulator - INFO - Info for rank 0, Date = 2020-06-03 08:00:00, number of deaths =  0, number of infected = 1972\n",
      "2020-12-20 16:08:14,078 - simulator - INFO - CMS: Infection COMS-v2 for rank 0/1(2) 0.0001529109999864886,0.00015211105346679688 - 2020-06-03 08:00:00\n",
      "2020-12-20 16:08:14,130 - simulator - INFO - CMS: Timestep for rank 0/1 - 0.4474988480000093, 0.4475080966949463 - 2020-06-03 08:00:00\n",
      "\n",
      "2020-12-20 16:08:14,130 - simulator - INFO - ==================== timestep ====================\n",
      "2020-12-20 16:08:14,270 - activity_manager - INFO - CMS: People COMS for rank 0/1 - 2.3009999949863413e-06,9.5367431640625e-07 - 2020-06-03 10:00:00\n",
      "2020-12-20 16:08:14,275 - simulator - INFO - Info for rank 0, Date = 2020-06-03 10:00:00, number of deaths =  0, number of infected = 2110\n",
      "2020-12-20 16:08:14,427 - simulator - INFO - CMS: Infection COMS-v2 for rank 0/1(2) 0.000260908999990761,0.0002598762512207031 - 2020-06-03 10:00:00\n",
      "2020-12-20 16:08:14,475 - simulator - INFO - CMS: Timestep for rank 0/1 - 0.3445201309999959, 0.344527006149292 - 2020-06-03 10:00:00\n",
      "\n",
      "2020-12-20 16:08:14,476 - simulator - INFO - ==================== timestep ====================\n",
      "2020-12-20 16:08:14,615 - activity_manager - INFO - CMS: People COMS for rank 0/1 - 2.3370000121758494e-06,2.1457672119140625e-06 - 2020-06-04 00:00:00\n",
      "2020-12-20 16:08:14,620 - simulator - INFO - Info for rank 0, Date = 2020-06-04 00:00:00, number of deaths =  0, number of infected = 2568\n",
      "2020-12-20 16:08:14,691 - simulator - INFO - CMS: Infection COMS-v2 for rank 0/1(2) 0.00021225899999421927,0.00021076202392578125 - 2020-06-04 00:00:00\n",
      "2020-12-20 16:08:14,739 - simulator - INFO - CMS: Timestep for rank 0/1 - 0.26196784200001844, 0.2619740962982178 - 2020-06-04 00:00:00\n",
      "\n",
      "2020-12-20 16:08:14,739 - simulator - INFO - ==================== timestep ====================\n",
      "2020-12-20 16:08:15,046 - activity_manager - INFO - CMS: People COMS for rank 0/1 - 2.9410000195184693e-06,1.9073486328125e-06 - 2020-06-04 02:00:00\n",
      "2020-12-20 16:08:15,050 - simulator - INFO - Info for rank 0, Date = 2020-06-04 02:00:00, number of deaths =  0, number of infected = 2670\n",
      "2020-12-20 16:08:15,131 - simulator - INFO - CMS: Infection COMS-v2 for rank 0/1(2) 0.00012226900000200658,0.00012111663818359375 - 2020-06-04 02:00:00\n",
      "2020-12-20 16:08:15,184 - simulator - INFO - CMS: Timestep for rank 0/1 - 0.4445638239999994, 0.44457173347473145 - 2020-06-04 02:00:00\n",
      "\n",
      "2020-12-20 16:08:15,185 - simulator - INFO - ==================== timestep ====================\n",
      "2020-12-20 16:08:15,488 - activity_manager - INFO - CMS: People COMS for rank 0/1 - 3.063999997721112e-06,3.0994415283203125e-06 - 2020-06-04 04:00:00\n",
      "2020-12-20 16:08:15,493 - simulator - INFO - Info for rank 0, Date = 2020-06-04 04:00:00, number of deaths =  0, number of infected = 2797\n",
      "2020-12-20 16:08:15,583 - simulator - INFO - CMS: Infection COMS-v2 for rank 0/1(2) 0.00010755100001347273,0.00010704994201660156 - 2020-06-04 04:00:00\n",
      "2020-12-20 16:08:15,642 - simulator - INFO - CMS: Timestep for rank 0/1 - 0.45586215999998103, 0.4558711051940918 - 2020-06-04 04:00:00\n",
      "\n",
      "2020-12-20 16:08:15,642 - simulator - INFO - ==================== timestep ====================\n",
      "2020-12-20 16:08:15,949 - activity_manager - INFO - CMS: People COMS for rank 0/1 - 3.0699999911121267e-06,1.9073486328125e-06 - 2020-06-04 06:00:00\n",
      "2020-12-20 16:08:15,954 - simulator - INFO - Info for rank 0, Date = 2020-06-04 06:00:00, number of deaths =  0, number of infected = 2946\n",
      "2020-12-20 16:08:16,045 - simulator - INFO - CMS: Infection COMS-v2 for rank 0/1(2) 0.00011100200001123994,0.00010991096496582031 - 2020-06-04 06:00:00\n",
      "2020-12-20 16:08:16,099 - simulator - INFO - CMS: Timestep for rank 0/1 - 0.4563192339999773, 0.4563281536102295 - 2020-06-04 06:00:00\n",
      "\n",
      "2020-12-20 16:08:16,100 - simulator - INFO - ==================== timestep ====================\n",
      "2020-12-20 16:08:16,436 - activity_manager - INFO - CMS: People COMS for rank 0/1 - 3.058000004330097e-06,3.0994415283203125e-06 - 2020-06-04 08:00:00\n",
      "2020-12-20 16:08:16,441 - simulator - INFO - Info for rank 0, Date = 2020-06-04 08:00:00, number of deaths =  0, number of infected = 3088\n",
      "2020-12-20 16:08:16,543 - simulator - INFO - CMS: Infection COMS-v2 for rank 0/1(2) 0.0001122889999862764,0.00011205673217773438 - 2020-06-04 08:00:00\n",
      "2020-12-20 16:08:16,600 - simulator - INFO - CMS: Timestep for rank 0/1 - 0.49955436000001896, 0.49956417083740234 - 2020-06-04 08:00:00\n",
      "\n",
      "2020-12-20 16:08:16,601 - simulator - INFO - ==================== timestep ====================\n",
      "2020-12-20 16:08:16,738 - activity_manager - INFO - CMS: People COMS for rank 0/1 - 2.741000002970395e-06,1.9073486328125e-06 - 2020-06-04 10:00:00\n",
      "2020-12-20 16:08:16,743 - simulator - INFO - Info for rank 0, Date = 2020-06-04 10:00:00, number of deaths =  0, number of infected = 3250\n",
      "2020-12-20 16:08:16,922 - simulator - INFO - CMS: Infection COMS-v2 for rank 0/1(2) 0.00011503700000048411,0.00011396408081054688 - 2020-06-04 10:00:00\n",
      "2020-12-20 16:08:16,982 - simulator - INFO - CMS: Timestep for rank 0/1 - 0.38001015300000063, 0.3800170421600342 - 2020-06-04 10:00:00\n",
      "\n",
      "2020-12-20 16:08:16,982 - simulator - INFO - ==================== timestep ====================\n",
      "2020-12-20 16:08:17,140 - activity_manager - INFO - CMS: People COMS for rank 0/1 - 4.386999989947071e-06,4.0531158447265625e-06 - 2020-06-05 00:00:00\n",
      "2020-12-20 16:08:17,146 - simulator - INFO - Info for rank 0, Date = 2020-06-05 00:00:00, number of deaths =  0, number of infected = 3774\n",
      "2020-12-20 16:08:17,242 - simulator - INFO - CMS: Infection COMS-v2 for rank 0/1(2) 0.00012193399999205212,0.00012087821960449219 - 2020-06-05 00:00:00\n",
      "2020-12-20 16:08:17,318 - simulator - INFO - CMS: Timestep for rank 0/1 - 0.3354271560000086, 0.3354339599609375 - 2020-06-05 00:00:00\n",
      "\n",
      "2020-12-20 16:08:17,319 - simulator - INFO - ==================== timestep ====================\n",
      "2020-12-20 16:08:17,684 - activity_manager - INFO - CMS: People COMS for rank 0/1 - 4.866000011816141e-06,4.0531158447265625e-06 - 2020-06-05 02:00:00\n"
     ]
    },
    {
     "name": "stdout",
     "output_type": "stream",
     "text": [
      "2020-12-20 16:08:17,689 - simulator - INFO - Info for rank 0, Date = 2020-06-05 02:00:00, number of deaths =  0, number of infected = 3920\n",
      "2020-12-20 16:08:17,815 - simulator - INFO - CMS: Infection COMS-v2 for rank 0/1(2) 0.00024312999997277984,0.00024199485778808594 - 2020-06-05 02:00:00\n",
      "2020-12-20 16:08:17,883 - simulator - INFO - CMS: Timestep for rank 0/1 - 0.5634490770000014, 0.563460111618042 - 2020-06-05 02:00:00\n",
      "\n",
      "2020-12-20 16:08:17,884 - simulator - INFO - ==================== timestep ====================\n",
      "2020-12-20 16:08:18,208 - activity_manager - INFO - CMS: People COMS for rank 0/1 - 3.472999992482073e-06,3.0994415283203125e-06 - 2020-06-05 04:00:00\n",
      "2020-12-20 16:08:18,214 - simulator - INFO - Info for rank 0, Date = 2020-06-05 04:00:00, number of deaths =  0, number of infected = 4117\n",
      "2020-12-20 16:08:18,322 - simulator - INFO - CMS: Infection COMS-v2 for rank 0/1(2) 0.0001466119999804505,0.00014495849609375 - 2020-06-05 04:00:00\n",
      "2020-12-20 16:08:18,383 - simulator - INFO - CMS: Timestep for rank 0/1 - 0.49910485399999516, 0.4991133213043213 - 2020-06-05 04:00:00\n",
      "\n",
      "2020-12-20 16:08:18,384 - simulator - INFO - ==================== timestep ====================\n",
      "2020-12-20 16:08:18,705 - activity_manager - INFO - CMS: People COMS for rank 0/1 - 3.090999996402388e-06,2.1457672119140625e-06 - 2020-06-05 06:00:00\n",
      "2020-12-20 16:08:18,710 - simulator - INFO - Info for rank 0, Date = 2020-06-05 06:00:00, number of deaths =  0, number of infected = 4305\n",
      "2020-12-20 16:08:18,834 - simulator - INFO - CMS: Infection COMS-v2 for rank 0/1(2) 0.00011881500000754386,0.00011897087097167969 - 2020-06-05 06:00:00\n",
      "2020-12-20 16:08:18,911 - simulator - INFO - CMS: Timestep for rank 0/1 - 0.5263837319999993, 0.5263960361480713 - 2020-06-05 06:00:00\n",
      "\n",
      "2020-12-20 16:08:18,912 - simulator - INFO - ==================== timestep ====================\n",
      "2020-12-20 16:08:19,313 - activity_manager - INFO - CMS: People COMS for rank 0/1 - 4.138999997849169e-06,4.0531158447265625e-06 - 2020-06-05 08:00:00\n",
      "2020-12-20 16:08:19,319 - simulator - INFO - Info for rank 0, Date = 2020-06-05 08:00:00, number of deaths =  0, number of infected = 4524\n",
      "2020-12-20 16:08:19,455 - simulator - INFO - CMS: Infection COMS-v2 for rank 0/1(2) 0.0001361980000069707,0.00013589859008789062 - 2020-06-05 08:00:00\n",
      "2020-12-20 16:08:19,524 - simulator - INFO - CMS: Timestep for rank 0/1 - 0.6109053700000118, 0.6109158992767334 - 2020-06-05 08:00:00\n",
      "\n",
      "2020-12-20 16:08:19,525 - simulator - INFO - ==================== timestep ====================\n",
      "2020-12-20 16:08:19,670 - activity_manager - INFO - CMS: People COMS for rank 0/1 - 2.5079999943500297e-06,1.9073486328125e-06 - 2020-06-05 10:00:00\n",
      "2020-12-20 16:08:19,676 - simulator - INFO - Info for rank 0, Date = 2020-06-05 10:00:00, number of deaths =  0, number of infected = 4734\n",
      "2020-12-20 16:08:20,019 - simulator - INFO - CMS: Infection COMS-v2 for rank 0/1(2) 0.00015507800000591487,0.0001537799835205078 - 2020-06-05 10:00:00\n",
      "2020-12-20 16:08:20,102 - simulator - INFO - CMS: Timestep for rank 0/1 - 0.5764092830000038, 0.5764200687408447 - 2020-06-05 10:00:00\n",
      "\n",
      "2020-12-20 16:08:20,102 - simulator - INFO - ==================== timestep ====================\n",
      "2020-12-20 16:08:20,254 - activity_manager - INFO - CMS: People COMS for rank 0/1 - 4.171000000496861e-06,3.0994415283203125e-06 - 2020-06-06 00:00:00\n",
      "2020-12-20 16:08:20,261 - simulator - INFO - Info for rank 0, Date = 2020-06-06 00:00:00, number of deaths =  0, number of infected = 5483\n",
      "2020-12-20 16:08:20,387 - simulator - INFO - CMS: Infection COMS-v2 for rank 0/1(2) 0.0001255420000063623,0.0001251697540283203 - 2020-06-06 00:00:00\n",
      "2020-12-20 16:08:20,457 - simulator - INFO - CMS: Timestep for rank 0/1 - 0.35389268199998014, 0.3538990020751953 - 2020-06-06 00:00:00\n",
      "\n",
      "2020-12-20 16:08:20,458 - simulator - INFO - ==================== timestep ====================\n",
      "2020-12-20 16:08:20,839 - activity_manager - INFO - CMS: People COMS for rank 0/1 - 2.8399999791872688e-06,2.1457672119140625e-06 - 2020-06-06 03:00:00\n",
      "2020-12-20 16:08:20,845 - simulator - INFO - Info for rank 0, Date = 2020-06-06 03:00:00, number of deaths =  0, number of infected = 5764\n",
      "2020-12-20 16:08:20,970 - simulator - INFO - CMS: Infection COMS-v2 for rank 0/1(2) 0.00013573200001815167,0.00013518333435058594 - 2020-06-06 03:00:00\n",
      "2020-12-20 16:08:21,040 - simulator - INFO - CMS: Timestep for rank 0/1 - 0.5823909339999886, 0.582399845123291 - 2020-06-06 03:00:00\n",
      "\n",
      "2020-12-20 16:08:21,041 - simulator - INFO - ==================== timestep ====================\n",
      "2020-12-20 16:08:21,375 - activity_manager - INFO - CMS: People COMS for rank 0/1 - 3.4089999871866894e-06,3.0994415283203125e-06 - 2020-06-06 05:00:00\n",
      "2020-12-20 16:08:21,381 - simulator - INFO - Info for rank 0, Date = 2020-06-06 05:00:00, number of deaths =  0, number of infected = 6002\n",
      "2020-12-20 16:08:21,556 - simulator - INFO - CMS: Infection COMS-v2 for rank 0/1(2) 0.00018362800000204516,0.00018262863159179688 - 2020-06-06 05:00:00\n",
      "2020-12-20 16:08:21,628 - simulator - INFO - CMS: Timestep for rank 0/1 - 0.5860331590000101, 0.5860428810119629 - 2020-06-06 05:00:00\n",
      "\n",
      "2020-12-20 16:08:21,628 - simulator - INFO - ==================== timestep ====================\n",
      "2020-12-20 16:08:21,935 - activity_manager - INFO - CMS: People COMS for rank 0/1 - 3.1130000195389584e-06,2.1457672119140625e-06 - 2020-06-06 07:00:00\n",
      "2020-12-20 16:08:21,940 - simulator - INFO - Info for rank 0, Date = 2020-06-06 07:00:00, number of deaths =  0, number of infected = 6251\n",
      "2020-12-20 16:08:22,064 - simulator - INFO - CMS: Infection COMS-v2 for rank 0/1(2) 0.00019311799999854884,0.0001919269561767578 - 2020-06-06 07:00:00\n",
      "2020-12-20 16:08:22,129 - simulator - INFO - CMS: Timestep for rank 0/1 - 0.500113784000007, 0.5001232624053955 - 2020-06-06 07:00:00\n",
      "\n",
      "2020-12-20 16:08:22,129 - simulator - INFO - ==================== timestep ====================\n",
      "2020-12-20 16:08:22,473 - activity_manager - INFO - CMS: People COMS for rank 0/1 - 5.092999998623782e-06,3.0994415283203125e-06 - 2020-06-06 09:00:00\n",
      "2020-12-20 16:08:22,479 - simulator - INFO - Info for rank 0, Date = 2020-06-06 09:00:00, number of deaths =  0, number of infected = 6517\n",
      "2020-12-20 16:08:22,622 - simulator - INFO - CMS: Infection COMS-v2 for rank 0/1(2) 0.00012883099998362013,0.0001289844512939453 - 2020-06-06 09:00:00\n",
      "2020-12-20 16:08:22,698 - simulator - INFO - CMS: Timestep for rank 0/1 - 0.568027160000014, 0.5680382251739502 - 2020-06-06 09:00:00\n",
      "\n",
      "2020-12-20 16:08:22,698 - simulator - INFO - ==================== timestep ====================\n",
      "2020-12-20 16:08:22,854 - activity_manager - INFO - CMS: People COMS for rank 0/1 - 4.300000000512227e-06,3.0994415283203125e-06 - 2020-06-06 11:00:00\n",
      "2020-12-20 16:08:22,860 - simulator - INFO - Info for rank 0, Date = 2020-06-06 11:00:00, number of deaths =  0, number of infected = 6760\n",
      "2020-12-20 16:08:23,153 - simulator - INFO - CMS: Infection COMS-v2 for rank 0/1(2) 0.00010753899999826899,0.00010704994201660156 - 2020-06-06 11:00:00\n",
      "2020-12-20 16:08:23,225 - simulator - INFO - CMS: Timestep for rank 0/1 - 0.5266283170000179, 0.5266368389129639 - 2020-06-06 11:00:00\n",
      "\n",
      "2020-12-20 16:08:23,226 - simulator - INFO - ==================== timestep ====================\n",
      "2020-12-20 16:08:23,362 - activity_manager - INFO - CMS: People COMS for rank 0/1 - 2.5219999884029676e-06,2.1457672119140625e-06 - 2020-06-07 00:00:00\n",
      "2020-12-20 16:08:23,367 - simulator - INFO - Info for rank 0, Date = 2020-06-07 00:00:00, number of deaths =  0, number of infected = 7671\n",
      "2020-12-20 16:08:23,490 - simulator - INFO - CMS: Infection COMS-v2 for rank 0/1(2) 0.00033603800000037154,0.0003361701965332031 - 2020-06-07 00:00:00\n",
      "2020-12-20 16:08:23,594 - simulator - INFO - CMS: Timestep for rank 0/1 - 0.36763298400001077, 0.3676421642303467 - 2020-06-07 00:00:00\n",
      "\n",
      "2020-12-20 16:08:23,595 - simulator - INFO - ==================== timestep ====================\n",
      "2020-12-20 16:08:23,953 - activity_manager - INFO - CMS: People COMS for rank 0/1 - 2.8999999983625457e-06,1.9073486328125e-06 - 2020-06-07 03:00:00\n",
      "2020-12-20 16:08:23,958 - simulator - INFO - Info for rank 0, Date = 2020-06-07 03:00:00, number of deaths =  0, number of infected = 7966\n"
     ]
    },
    {
     "name": "stdout",
     "output_type": "stream",
     "text": [
      "2020-12-20 16:08:24,098 - simulator - INFO - CMS: Infection COMS-v2 for rank 0/1(2) 0.00011414700000500488,0.00011396408081054688 - 2020-06-07 03:00:00\n",
      "2020-12-20 16:08:24,175 - simulator - INFO - CMS: Timestep for rank 0/1 - 0.5793018170000153, 0.5793123245239258 - 2020-06-07 03:00:00\n",
      "\n",
      "2020-12-20 16:08:24,175 - simulator - INFO - ==================== timestep ====================\n",
      "2020-12-20 16:08:24,490 - activity_manager - INFO - CMS: People COMS for rank 0/1 - 3.2570000030318624e-06,2.6226043701171875e-06 - 2020-06-07 05:00:00\n",
      "2020-12-20 16:08:24,496 - simulator - INFO - Info for rank 0, Date = 2020-06-07 05:00:00, number of deaths =  0, number of infected = 8270\n",
      "2020-12-20 16:08:24,650 - simulator - INFO - CMS: Infection COMS-v2 for rank 0/1(2) 0.00020500900001252376,0.0002040863037109375 - 2020-06-07 05:00:00\n",
      "2020-12-20 16:08:24,733 - simulator - INFO - CMS: Timestep for rank 0/1 - 0.5568432679999944, 0.5568530559539795 - 2020-06-07 05:00:00\n",
      "\n",
      "2020-12-20 16:08:24,733 - simulator - INFO - ==================== timestep ====================\n",
      "2020-12-20 16:08:25,039 - activity_manager - INFO - CMS: People COMS for rank 0/1 - 3.090999996402388e-06,1.9073486328125e-06 - 2020-06-07 07:00:00\n",
      "2020-12-20 16:08:25,045 - simulator - INFO - Info for rank 0, Date = 2020-06-07 07:00:00, number of deaths =  0, number of infected = 8627\n",
      "2020-12-20 16:08:25,212 - simulator - INFO - CMS: Infection COMS-v2 for rank 0/1(2) 0.0003900099999896156,0.00038909912109375 - 2020-06-07 07:00:00\n",
      "2020-12-20 16:08:25,321 - simulator - INFO - CMS: Timestep for rank 0/1 - 0.587170183000012, 0.5871808528900146 - 2020-06-07 07:00:00\n",
      "\n",
      "2020-12-20 16:08:25,322 - simulator - INFO - ==================== timestep ====================\n",
      "2020-12-20 16:08:25,698 - activity_manager - INFO - CMS: People COMS for rank 0/1 - 2.898000019513347e-06,2.86102294921875e-06 - 2020-06-07 09:00:00\n",
      "2020-12-20 16:08:25,703 - simulator - INFO - Info for rank 0, Date = 2020-06-07 09:00:00, number of deaths =  0, number of infected = 8940\n",
      "2020-12-20 16:08:25,840 - simulator - INFO - CMS: Infection COMS-v2 for rank 0/1(2) 0.00011330300000622628,0.00011301040649414062 - 2020-06-07 09:00:00\n",
      "2020-12-20 16:08:25,927 - simulator - INFO - CMS: Timestep for rank 0/1 - 0.6040275409999936, 0.6040372848510742 - 2020-06-07 09:00:00\n",
      "\n",
      "2020-12-20 16:08:25,927 - simulator - INFO - ==================== timestep ====================\n",
      "2020-12-20 16:08:26,068 - activity_manager - INFO - CMS: People COMS for rank 0/1 - 2.1959999969567434e-06,2.1457672119140625e-06 - 2020-06-07 11:00:00\n",
      "2020-12-20 16:08:26,073 - simulator - INFO - Info for rank 0, Date = 2020-06-07 11:00:00, number of deaths =  0, number of infected = 9254\n",
      "2020-12-20 16:08:26,415 - simulator - INFO - CMS: Infection COMS-v2 for rank 0/1(2) 0.00011402399999838053,0.00011372566223144531 - 2020-06-07 11:00:00\n",
      "2020-12-20 16:08:26,538 - simulator - INFO - CMS: Timestep for rank 0/1 - 0.6101716039999872, 0.6101851463317871 - 2020-06-07 11:00:00\n",
      "\n",
      "2020-12-20 16:08:26,539 - simulator - INFO - ==================== timestep ====================\n",
      "2020-12-20 16:08:26,696 - activity_manager - INFO - CMS: People COMS for rank 0/1 - 4.397000026301612e-06,4.0531158447265625e-06 - 2020-06-08 00:00:00\n",
      "2020-12-20 16:08:26,702 - simulator - INFO - Info for rank 0, Date = 2020-06-08 00:00:00, number of deaths =  0, number of infected = 10366\n",
      "2020-12-20 16:08:26,840 - simulator - INFO - CMS: Infection COMS-v2 for rank 0/1(2) 0.0001083150000056321,0.00010776519775390625 - 2020-06-08 00:00:00\n",
      "2020-12-20 16:08:26,936 - simulator - INFO - CMS: Timestep for rank 0/1 - 0.39552428799999007, 0.39553117752075195 - 2020-06-08 00:00:00\n",
      "\n",
      "2020-12-20 16:08:26,936 - simulator - INFO - ==================== timestep ====================\n",
      "2020-12-20 16:08:27,251 - activity_manager - INFO - CMS: People COMS for rank 0/1 - 3.7540000050739764e-06,2.6226043701171875e-06 - 2020-06-08 02:00:00\n",
      "2020-12-20 16:08:27,256 - simulator - INFO - Info for rank 0, Date = 2020-06-08 02:00:00, number of deaths =  0, number of infected = 10628\n",
      "2020-12-20 16:08:27,401 - simulator - INFO - CMS: Infection COMS-v2 for rank 0/1(2) 0.00010691500000348242,0.00010704994201660156 - 2020-06-08 02:00:00\n",
      "2020-12-20 16:08:27,497 - simulator - INFO - CMS: Timestep for rank 0/1 - 0.5598879910000107, 0.5598969459533691 - 2020-06-08 02:00:00\n",
      "\n",
      "2020-12-20 16:08:27,497 - simulator - INFO - ==================== timestep ====================\n",
      "2020-12-20 16:08:27,805 - activity_manager - INFO - CMS: People COMS for rank 0/1 - 2.912999974569175e-06,2.86102294921875e-06 - 2020-06-08 04:00:00\n",
      "2020-12-20 16:08:27,810 - simulator - INFO - Info for rank 0, Date = 2020-06-08 04:00:00, number of deaths =  0, number of infected = 10938\n",
      "2020-12-20 16:08:27,960 - simulator - INFO - CMS: Infection COMS-v2 for rank 0/1(2) 0.00022269199999414013,0.0002219676971435547 - 2020-06-08 04:00:00\n",
      "2020-12-20 16:08:28,058 - simulator - INFO - CMS: Timestep for rank 0/1 - 0.5602382339999963, 0.5602490901947021 - 2020-06-08 04:00:00\n",
      "\n",
      "2020-12-20 16:08:28,059 - simulator - INFO - ==================== timestep ====================\n",
      "2020-12-20 16:08:28,368 - activity_manager - INFO - CMS: People COMS for rank 0/1 - 3.0269999911070045e-06,2.86102294921875e-06 - 2020-06-08 06:00:00\n",
      "2020-12-20 16:08:28,373 - simulator - INFO - Info for rank 0, Date = 2020-06-08 06:00:00, number of deaths =  0, number of infected = 11304\n",
      "2020-12-20 16:08:28,540 - simulator - INFO - CMS: Infection COMS-v2 for rank 0/1(2) 0.0001234340000166867,0.0001227855682373047 - 2020-06-08 06:00:00\n",
      "2020-12-20 16:08:28,641 - simulator - INFO - CMS: Timestep for rank 0/1 - 0.5817127740000103, 0.5817241668701172 - 2020-06-08 06:00:00\n",
      "\n",
      "2020-12-20 16:08:28,641 - simulator - INFO - ==================== timestep ====================\n",
      "2020-12-20 16:08:28,956 - activity_manager - INFO - CMS: People COMS for rank 0/1 - 3.2920000023750617e-06,2.1457672119140625e-06 - 2020-06-08 08:00:00\n",
      "2020-12-20 16:08:28,962 - simulator - INFO - Info for rank 0, Date = 2020-06-08 08:00:00, number of deaths =  0, number of infected = 11706\n",
      "2020-12-20 16:08:29,114 - simulator - INFO - CMS: Infection COMS-v2 for rank 0/1(2) 0.000109121000008372,0.00010895729064941406 - 2020-06-08 08:00:00\n",
      "2020-12-20 16:08:29,209 - simulator - INFO - CMS: Timestep for rank 0/1 - 0.5670613549999928, 0.5670709609985352 - 2020-06-08 08:00:00\n",
      "\n",
      "2020-12-20 16:08:29,209 - simulator - INFO - ==================== timestep ====================\n",
      "2020-12-20 16:08:29,348 - activity_manager - INFO - CMS: People COMS for rank 0/1 - 2.0669999969413766e-06,2.1457672119140625e-06 - 2020-06-08 10:00:00\n",
      "2020-12-20 16:08:29,353 - simulator - INFO - Info for rank 0, Date = 2020-06-08 10:00:00, number of deaths =  0, number of infected = 12090\n",
      "2020-12-20 16:08:29,679 - simulator - INFO - CMS: Infection COMS-v2 for rank 0/1(2) 0.0001091949999931785,0.00010800361633300781 - 2020-06-08 10:00:00\n",
      "2020-12-20 16:08:29,783 - simulator - INFO - CMS: Timestep for rank 0/1 - 0.5730314999999848, 0.5730419158935547 - 2020-06-08 10:00:00\n",
      "\n",
      "2020-12-20 16:08:29,784 - simulator - INFO - ==================== timestep ====================\n",
      "2020-12-20 16:08:29,923 - activity_manager - INFO - CMS: People COMS for rank 0/1 - 2.5699999923745054e-06,1.9073486328125e-06 - 2020-06-09 00:00:00\n",
      "2020-12-20 16:08:29,928 - simulator - INFO - Info for rank 0, Date = 2020-06-09 00:00:00, number of deaths =  0, number of infected = 13279\n",
      "2020-12-20 16:08:30,057 - simulator - INFO - CMS: Infection COMS-v2 for rank 0/1(2) 0.00023504399999296766,0.0002541542053222656 - 2020-06-09 00:00:00\n",
      "2020-12-20 16:08:30,162 - simulator - INFO - CMS: Timestep for rank 0/1 - 0.3783737589999987, 0.37838101387023926 - 2020-06-09 00:00:00\n",
      "\n",
      "2020-12-20 16:08:30,163 - simulator - INFO - ==================== timestep ====================\n",
      "2020-12-20 16:08:30,474 - activity_manager - INFO - CMS: People COMS for rank 0/1 - 3.219999996417755e-06,2.6226043701171875e-06 - 2020-06-09 02:00:00\n",
      "2020-12-20 16:08:30,479 - simulator - INFO - Info for rank 0, Date = 2020-06-09 02:00:00, number of deaths =  0, number of infected = 13577\n",
      "2020-12-20 16:08:30,625 - simulator - INFO - CMS: Infection COMS-v2 for rank 0/1(2) 0.00011169699999413751,0.00011086463928222656 - 2020-06-09 02:00:00\n"
     ]
    },
    {
     "name": "stdout",
     "output_type": "stream",
     "text": [
      "2020-12-20 16:08:30,730 - simulator - INFO - CMS: Timestep for rank 0/1 - 0.5670307469999898, 0.5670411586761475 - 2020-06-09 02:00:00\n",
      "\n",
      "2020-12-20 16:08:30,731 - simulator - INFO - ==================== timestep ====================\n",
      "2020-12-20 16:08:31,044 - activity_manager - INFO - CMS: People COMS for rank 0/1 - 3.3359999918047833e-06,2.86102294921875e-06 - 2020-06-09 04:00:00\n",
      "2020-12-20 16:08:31,050 - simulator - INFO - Info for rank 0, Date = 2020-06-09 04:00:00, number of deaths =  0, number of infected = 13914\n",
      "2020-12-20 16:08:31,211 - simulator - INFO - CMS: Infection COMS-v2 for rank 0/1(2) 0.00019331800001509691,0.00019216537475585938 - 2020-06-09 04:00:00\n",
      "2020-12-20 16:08:31,323 - simulator - INFO - CMS: Timestep for rank 0/1 - 0.591536949000016, 0.5915460586547852 - 2020-06-09 04:00:00\n",
      "\n",
      "2020-12-20 16:08:31,324 - simulator - INFO - ==================== timestep ====================\n",
      "2020-12-20 16:08:31,637 - activity_manager - INFO - CMS: People COMS for rank 0/1 - 3.139000000373926e-06,1.9073486328125e-06 - 2020-06-09 06:00:00\n",
      "2020-12-20 16:08:31,642 - simulator - INFO - Info for rank 0, Date = 2020-06-09 06:00:00, number of deaths =  0, number of infected = 14290\n",
      "2020-12-20 16:08:31,795 - simulator - INFO - CMS: Infection COMS-v2 for rank 0/1(2) 0.0002705709999872852,0.0002701282501220703 - 2020-06-09 06:00:00\n",
      "2020-12-20 16:08:31,908 - simulator - INFO - CMS: Timestep for rank 0/1 - 0.5843261680000182, 0.5843372344970703 - 2020-06-09 06:00:00\n",
      "\n",
      "2020-12-20 16:08:31,909 - simulator - INFO - ==================== timestep ====================\n",
      "2020-12-20 16:08:32,216 - activity_manager - INFO - CMS: People COMS for rank 0/1 - 2.4009999890495237e-06,1.9073486328125e-06 - 2020-06-09 08:00:00\n",
      "2020-12-20 16:08:32,222 - simulator - INFO - Info for rank 0, Date = 2020-06-09 08:00:00, number of deaths =  0, number of infected = 14671\n",
      "2020-12-20 16:08:32,372 - simulator - INFO - CMS: Infection COMS-v2 for rank 0/1(2) 0.0002096329999972113,0.00020933151245117188 - 2020-06-09 08:00:00\n",
      "2020-12-20 16:08:32,487 - simulator - INFO - CMS: Timestep for rank 0/1 - 0.5774543699999981, 0.5774657726287842 - 2020-06-09 08:00:00\n",
      "\n",
      "2020-12-20 16:08:32,488 - simulator - INFO - ==================== timestep ====================\n",
      "2020-12-20 16:08:32,664 - activity_manager - INFO - CMS: People COMS for rank 0/1 - 5.2119999907063175e-06,4.291534423828125e-06 - 2020-06-09 10:00:00\n",
      "2020-12-20 16:08:32,671 - simulator - INFO - Info for rank 0, Date = 2020-06-09 10:00:00, number of deaths =  0, number of infected = 15024\n",
      "2020-12-20 16:08:33,204 - simulator - INFO - CMS: Infection COMS-v2 for rank 0/1(2) 0.00010127199999487857,0.0001010894775390625 - 2020-06-09 10:00:00\n",
      "2020-12-20 16:08:33,326 - simulator - INFO - CMS: Timestep for rank 0/1 - 0.8376064560000032, 0.8376209735870361 - 2020-06-09 10:00:00\n",
      "\n",
      "2020-12-20 16:08:33,326 - simulator - INFO - ==================== timestep ====================\n",
      "2020-12-20 16:08:33,492 - activity_manager - INFO - CMS: People COMS for rank 0/1 - 4.063000005771755e-06,3.814697265625e-06 - 2020-06-10 00:00:00\n",
      "2020-12-20 16:08:33,498 - simulator - INFO - Info for rank 0, Date = 2020-06-10 00:00:00, number of deaths =  0, number of infected = 16220\n",
      "2020-12-20 16:08:33,639 - simulator - INFO - CMS: Infection COMS-v2 for rank 0/1(2) 0.00019144399999504458,0.00019097328186035156 - 2020-06-10 00:00:00\n",
      "2020-12-20 16:08:33,759 - simulator - INFO - CMS: Timestep for rank 0/1 - 0.4324103880000223, 0.4324190616607666 - 2020-06-10 00:00:00\n",
      "\n",
      "2020-12-20 16:08:33,760 - simulator - INFO - ==================== timestep ====================\n",
      "2020-12-20 16:08:34,103 - activity_manager - INFO - CMS: People COMS for rank 0/1 - 3.397999989829259e-06,2.86102294921875e-06 - 2020-06-10 02:00:00\n",
      "2020-12-20 16:08:34,109 - simulator - INFO - Info for rank 0, Date = 2020-06-10 02:00:00, number of deaths =  0, number of infected = 16495\n",
      "2020-12-20 16:08:34,260 - simulator - INFO - CMS: Infection COMS-v2 for rank 0/1(2) 0.00012493700000959507,0.00012373924255371094 - 2020-06-10 02:00:00\n",
      "2020-12-20 16:08:34,387 - simulator - INFO - CMS: Timestep for rank 0/1 - 0.6267734120000057, 0.6267838478088379 - 2020-06-10 02:00:00\n",
      "\n",
      "2020-12-20 16:08:34,388 - simulator - INFO - ==================== timestep ====================\n",
      "2020-12-20 16:08:34,718 - activity_manager - INFO - CMS: People COMS for rank 0/1 - 3.436000014289675e-06,3.0994415283203125e-06 - 2020-06-10 04:00:00\n",
      "2020-12-20 16:08:34,724 - simulator - INFO - Info for rank 0, Date = 2020-06-10 04:00:00, number of deaths =  0, number of infected = 16852\n",
      "2020-12-20 16:08:34,871 - simulator - INFO - CMS: Infection COMS-v2 for rank 0/1(2) 0.00012715299999399576,0.00012636184692382812 - 2020-06-10 04:00:00\n",
      "2020-12-20 16:08:34,990 - simulator - INFO - CMS: Timestep for rank 0/1 - 0.6017616270000019, 0.6017730236053467 - 2020-06-10 04:00:00\n",
      "\n",
      "2020-12-20 16:08:34,991 - simulator - INFO - ==================== timestep ====================\n",
      "2020-12-20 16:08:35,319 - activity_manager - INFO - CMS: People COMS for rank 0/1 - 3.1880000221917726e-06,1.9073486328125e-06 - 2020-06-10 06:00:00\n",
      "2020-12-20 16:08:35,325 - simulator - INFO - Info for rank 0, Date = 2020-06-10 06:00:00, number of deaths =  0, number of infected = 17168\n",
      "2020-12-20 16:08:35,479 - simulator - INFO - CMS: Infection COMS-v2 for rank 0/1(2) 0.00011855400001081762,0.00011801719665527344 - 2020-06-10 06:00:00\n",
      "2020-12-20 16:08:35,596 - simulator - INFO - CMS: Timestep for rank 0/1 - 0.6050095070000054, 0.6050200462341309 - 2020-06-10 06:00:00\n",
      "\n",
      "2020-12-20 16:08:35,596 - simulator - INFO - ==================== timestep ====================\n",
      "2020-12-20 16:08:35,918 - activity_manager - INFO - CMS: People COMS for rank 0/1 - 3.0630000082965125e-06,1.6689300537109375e-06 - 2020-06-10 08:00:00\n",
      "2020-12-20 16:08:35,924 - simulator - INFO - Info for rank 0, Date = 2020-06-10 08:00:00, number of deaths =  0, number of infected = 17505\n",
      "2020-12-20 16:08:36,067 - simulator - INFO - CMS: Infection COMS-v2 for rank 0/1(2) 0.00011994799999115457,0.00011920928955078125 - 2020-06-10 08:00:00\n",
      "2020-12-20 16:08:36,191 - simulator - INFO - CMS: Timestep for rank 0/1 - 0.5939821469999913, 0.5939922332763672 - 2020-06-10 08:00:00\n",
      "\n",
      "2020-12-20 16:08:36,191 - simulator - INFO - ==================== timestep ====================\n",
      "2020-12-20 16:08:36,338 - activity_manager - INFO - CMS: People COMS for rank 0/1 - 3.716999998459869e-06,2.6226043701171875e-06 - 2020-06-10 10:00:00\n",
      "2020-12-20 16:08:36,343 - simulator - INFO - Info for rank 0, Date = 2020-06-10 10:00:00, number of deaths =  0, number of infected = 17828\n",
      "2020-12-20 16:08:36,618 - simulator - INFO - CMS: Infection COMS-v2 for rank 0/1(2) 0.00010792200001219499,0.00010704994201660156 - 2020-06-10 10:00:00\n",
      "2020-12-20 16:08:36,742 - simulator - INFO - CMS: Timestep for rank 0/1 - 0.5497822099999894, 0.5497908592224121 - 2020-06-10 10:00:00\n",
      "\n",
      "2020-12-20 16:08:36,742 - simulator - INFO - ==================== timestep ====================\n",
      "2020-12-20 16:08:36,891 - activity_manager - INFO - CMS: People COMS for rank 0/1 - 3.6920000070495007e-06,3.0994415283203125e-06 - 2020-06-11 00:00:00\n",
      "2020-12-20 16:08:36,896 - simulator - INFO - Info for rank 0, Date = 2020-06-11 00:00:00, number of deaths =  0, number of infected = 18762\n",
      "2020-12-20 16:08:37,000 - simulator - INFO - CMS: Infection COMS-v2 for rank 0/1(2) 0.00016775200001006851,0.00016689300537109375 - 2020-06-11 00:00:00\n",
      "2020-12-20 16:08:37,123 - simulator - INFO - CMS: Timestep for rank 0/1 - 0.3802769319999868, 0.3802831172943115 - 2020-06-11 00:00:00\n",
      "\n",
      "2020-12-20 16:08:37,124 - simulator - INFO - ==================== timestep ====================\n",
      "2020-12-20 16:08:37,439 - activity_manager - INFO - CMS: People COMS for rank 0/1 - 3.4120000123039063e-06,3.0994415283203125e-06 - 2020-06-11 02:00:00\n",
      "2020-12-20 16:08:37,445 - simulator - INFO - Info for rank 0, Date = 2020-06-11 02:00:00, number of deaths =  0, number of infected = 18965\n",
      "2020-12-20 16:08:37,564 - simulator - INFO - CMS: Infection COMS-v2 for rank 0/1(2) 0.0001409140000134812,0.00014019012451171875 - 2020-06-11 02:00:00\n",
      "2020-12-20 16:08:37,689 - simulator - INFO - CMS: Timestep for rank 0/1 - 0.564684418000013, 0.5646951198577881 - 2020-06-11 02:00:00\n",
      "\n"
     ]
    },
    {
     "name": "stdout",
     "output_type": "stream",
     "text": [
      "2020-12-20 16:08:37,689 - simulator - INFO - ==================== timestep ====================\n",
      "2020-12-20 16:08:38,005 - activity_manager - INFO - CMS: People COMS for rank 0/1 - 2.9859999983727903e-06,2.86102294921875e-06 - 2020-06-11 04:00:00\n",
      "2020-12-20 16:08:38,011 - simulator - INFO - Info for rank 0, Date = 2020-06-11 04:00:00, number of deaths =  0, number of infected = 19182\n",
      "2020-12-20 16:08:38,129 - simulator - INFO - CMS: Infection COMS-v2 for rank 0/1(2) 0.00011835899999823596,0.00011801719665527344 - 2020-06-11 04:00:00\n",
      "2020-12-20 16:08:38,268 - simulator - INFO - CMS: Timestep for rank 0/1 - 0.578411568000007, 0.5784220695495605 - 2020-06-11 04:00:00\n",
      "\n",
      "2020-12-20 16:08:38,269 - simulator - INFO - ==================== timestep ====================\n",
      "2020-12-20 16:08:38,583 - activity_manager - INFO - CMS: People COMS for rank 0/1 - 3.3459999997376144e-06,3.0994415283203125e-06 - 2020-06-11 06:00:00\n",
      "2020-12-20 16:08:38,589 - simulator - INFO - Info for rank 0, Date = 2020-06-11 06:00:00, number of deaths =  0, number of infected = 19398\n",
      "2020-12-20 16:08:38,710 - simulator - INFO - CMS: Infection COMS-v2 for rank 0/1(2) 0.00014196399999377718,0.000141143798828125 - 2020-06-11 06:00:00\n",
      "2020-12-20 16:08:38,850 - simulator - INFO - CMS: Timestep for rank 0/1 - 0.5806344769999896, 0.5806431770324707 - 2020-06-11 06:00:00\n",
      "\n",
      "2020-12-20 16:08:38,850 - simulator - INFO - ==================== timestep ====================\n",
      "2020-12-20 16:08:39,161 - activity_manager - INFO - CMS: People COMS for rank 0/1 - 2.955000013571407e-06,2.86102294921875e-06 - 2020-06-11 08:00:00\n",
      "2020-12-20 16:08:39,167 - simulator - INFO - Info for rank 0, Date = 2020-06-11 08:00:00, number of deaths =  0, number of infected = 19631\n",
      "2020-12-20 16:08:39,284 - simulator - INFO - CMS: Infection COMS-v2 for rank 0/1(2) 0.00012045500000112952,0.00011992454528808594 - 2020-06-11 08:00:00\n",
      "2020-12-20 16:08:39,419 - simulator - INFO - CMS: Timestep for rank 0/1 - 0.5682767640000179, 0.5682859420776367 - 2020-06-11 08:00:00\n",
      "\n",
      "2020-12-20 16:08:39,420 - simulator - INFO - ==================== timestep ====================\n",
      "2020-12-20 16:08:39,574 - activity_manager - INFO - CMS: People COMS for rank 0/1 - 3.887000019631159e-06,3.0994415283203125e-06 - 2020-06-11 10:00:00\n",
      "2020-12-20 16:08:39,580 - simulator - INFO - Info for rank 0, Date = 2020-06-11 10:00:00, number of deaths =  0, number of infected = 19842\n",
      "2020-12-20 16:08:39,793 - simulator - INFO - CMS: Infection COMS-v2 for rank 0/1(2) 0.00010667000000808002,0.00010609626770019531 - 2020-06-11 10:00:00\n",
      "2020-12-20 16:08:39,925 - simulator - INFO - CMS: Timestep for rank 0/1 - 0.50458930100001, 0.5045981407165527 - 2020-06-11 10:00:00\n",
      "\n",
      "2020-12-20 16:08:39,925 - simulator - INFO - ==================== timestep ====================\n",
      "2020-12-20 16:08:40,077 - activity_manager - INFO - CMS: People COMS for rank 0/1 - 4.119999999829815e-06,3.0994415283203125e-06 - 2020-06-12 00:00:00\n",
      "2020-12-20 16:08:40,083 - simulator - INFO - Info for rank 0, Date = 2020-06-12 00:00:00, number of deaths =  0, number of infected = 20526\n",
      "2020-12-20 16:08:40,173 - simulator - INFO - CMS: Infection COMS-v2 for rank 0/1(2) 0.00016161799999281357,0.00016117095947265625 - 2020-06-12 00:00:00\n",
      "2020-12-20 16:08:40,307 - simulator - INFO - CMS: Timestep for rank 0/1 - 0.381416124000026, 0.3814241886138916 - 2020-06-12 00:00:00\n",
      "\n",
      "2020-12-20 16:08:40,308 - simulator - INFO - ==================== timestep ====================\n",
      "2020-12-20 16:08:40,624 - activity_manager - INFO - CMS: People COMS for rank 0/1 - 3.2020000162447104e-06,1.9073486328125e-06 - 2020-06-12 02:00:00\n",
      "2020-12-20 16:08:40,631 - simulator - INFO - Info for rank 0, Date = 2020-06-12 02:00:00, number of deaths =  0, number of infected = 20693\n",
      "2020-12-20 16:08:40,729 - simulator - INFO - CMS: Infection COMS-v2 for rank 0/1(2) 0.00016217700002130186,0.0001609325408935547 - 2020-06-12 02:00:00\n",
      "2020-12-20 16:08:40,876 - simulator - INFO - CMS: Timestep for rank 0/1 - 0.5675504849999982, 0.5675609111785889 - 2020-06-12 02:00:00\n",
      "\n",
      "2020-12-20 16:08:40,876 - simulator - INFO - ==================== timestep ====================\n",
      "2020-12-20 16:08:41,193 - activity_manager - INFO - CMS: People COMS for rank 0/1 - 2.6640000214683823e-06,2.1457672119140625e-06 - 2020-06-12 04:00:00\n",
      "2020-12-20 16:08:41,200 - simulator - INFO - Info for rank 0, Date = 2020-06-12 04:00:00, number of deaths =  0, number of infected = 20838\n",
      "2020-12-20 16:08:41,297 - simulator - INFO - CMS: Infection COMS-v2 for rank 0/1(2) 0.00014085000000818582,0.0001399517059326172 - 2020-06-12 04:00:00\n",
      "2020-12-20 16:08:41,439 - simulator - INFO - CMS: Timestep for rank 0/1 - 0.5628306819999978, 0.5628409385681152 - 2020-06-12 04:00:00\n",
      "\n",
      "2020-12-20 16:08:41,440 - simulator - INFO - ==================== timestep ====================\n",
      "2020-12-20 16:08:41,754 - activity_manager - INFO - CMS: People COMS for rank 0/1 - 2.8799999824968836e-06,2.1457672119140625e-06 - 2020-06-12 06:00:00\n",
      "2020-12-20 16:08:41,759 - simulator - INFO - Info for rank 0, Date = 2020-06-12 06:00:00, number of deaths =  0, number of infected = 20972\n",
      "2020-12-20 16:08:41,861 - simulator - INFO - CMS: Infection COMS-v2 for rank 0/1(2) 0.0001058909999755997,0.0001049041748046875 - 2020-06-12 06:00:00\n",
      "2020-12-20 16:08:42,010 - simulator - INFO - CMS: Timestep for rank 0/1 - 0.5692373550000127, 0.569246768951416 - 2020-06-12 06:00:00\n",
      "\n",
      "2020-12-20 16:08:42,010 - simulator - INFO - ==================== timestep ====================\n",
      "2020-12-20 16:08:42,326 - activity_manager - INFO - CMS: People COMS for rank 0/1 - 2.9939999990347133e-06,1.6689300537109375e-06 - 2020-06-12 08:00:00\n",
      "2020-12-20 16:08:42,332 - simulator - INFO - Info for rank 0, Date = 2020-06-12 08:00:00, number of deaths =  1, number of infected = 21129\n",
      "2020-12-20 16:08:42,421 - simulator - INFO - CMS: Infection COMS-v2 for rank 0/1(2) 0.00013323999999670377,0.00013303756713867188 - 2020-06-12 08:00:00\n",
      "2020-12-20 16:08:42,573 - simulator - INFO - CMS: Timestep for rank 0/1 - 0.5619399459999954, 0.5619487762451172 - 2020-06-12 08:00:00\n",
      "\n",
      "2020-12-20 16:08:42,574 - simulator - INFO - ==================== timestep ====================\n",
      "2020-12-20 16:08:42,728 - activity_manager - INFO - CMS: People COMS for rank 0/1 - 3.579999997782579e-06,2.86102294921875e-06 - 2020-06-12 10:00:00\n",
      "2020-12-20 16:08:42,735 - simulator - INFO - Info for rank 0, Date = 2020-06-12 10:00:00, number of deaths =  1, number of infected = 21251\n",
      "2020-12-20 16:08:42,891 - simulator - INFO - CMS: Infection COMS-v2 for rank 0/1(2) 0.0002393819999895186,0.00023794174194335938 - 2020-06-12 10:00:00\n",
      "2020-12-20 16:08:43,070 - simulator - INFO - CMS: Timestep for rank 0/1 - 0.49584579000000417, 0.49585390090942383 - 2020-06-12 10:00:00\n",
      "\n",
      "CPU times: user 51.6 s, sys: 3.9 s, total: 55.5 s\n",
      "Wall time: 52.6 s\n"
     ]
    }
   ],
   "source": [
    "%%time\n",
    "simulator.run()"
   ]
  },
  {
   "cell_type": "markdown",
   "metadata": {},
   "source": [
    "# Getting the results"
   ]
  },
  {
   "cell_type": "markdown",
   "metadata": {},
   "source": [
    "All results are stored in a json file specified in the `record_path` when defining the recorder. This can be read in by passing the folder locations to the `RecordReader` class and results derived.\n",
    "\n",
    "Here we show some examples of the kind of analysis you can extract from the records."
   ]
  },
  {
   "cell_type": "code",
   "execution_count": 49,
   "metadata": {},
   "outputs": [],
   "source": [
    "import pandas as pd"
   ]
  },
  {
   "cell_type": "code",
   "execution_count": 50,
   "metadata": {},
   "outputs": [],
   "source": [
    "read = RecordReader('results')"
   ]
  },
  {
   "cell_type": "markdown",
   "metadata": {},
   "source": [
    "The regional summary gives you information at the regional (camp) level."
   ]
  },
  {
   "cell_type": "markdown",
   "metadata": {},
   "source": [
    "### Regional information"
   ]
  },
  {
   "cell_type": "code",
   "execution_count": 51,
   "metadata": {},
   "outputs": [
    {
     "data": {
      "text/html": [
       "<div>\n",
       "<style scoped>\n",
       "    .dataframe tbody tr th:only-of-type {\n",
       "        vertical-align: middle;\n",
       "    }\n",
       "\n",
       "    .dataframe tbody tr th {\n",
       "        vertical-align: top;\n",
       "    }\n",
       "\n",
       "    .dataframe thead th {\n",
       "        text-align: right;\n",
       "    }\n",
       "</style>\n",
       "<table border=\"1\" class=\"dataframe\">\n",
       "  <thead>\n",
       "    <tr style=\"text-align: right;\">\n",
       "      <th></th>\n",
       "      <th>region</th>\n",
       "      <th>current_infected</th>\n",
       "      <th>daily_infected</th>\n",
       "      <th>current_recovered</th>\n",
       "      <th>daily_recovered</th>\n",
       "      <th>current_hospitalised</th>\n",
       "      <th>daily_hospitalised</th>\n",
       "      <th>current_intensive_care</th>\n",
       "      <th>daily_intensive_care</th>\n",
       "      <th>current_susceptible</th>\n",
       "      <th>daily_hospital_deaths</th>\n",
       "      <th>daily_deaths</th>\n",
       "    </tr>\n",
       "    <tr>\n",
       "      <th>time_stamp</th>\n",
       "      <th></th>\n",
       "      <th></th>\n",
       "      <th></th>\n",
       "      <th></th>\n",
       "      <th></th>\n",
       "      <th></th>\n",
       "      <th></th>\n",
       "      <th></th>\n",
       "      <th></th>\n",
       "      <th></th>\n",
       "      <th></th>\n",
       "      <th></th>\n",
       "    </tr>\n",
       "  </thead>\n",
       "  <tbody>\n",
       "    <tr>\n",
       "      <th>2020-05-24</th>\n",
       "      <td>CXB-219</td>\n",
       "      <td>6.166667</td>\n",
       "      <td>5</td>\n",
       "      <td>0.0</td>\n",
       "      <td>0</td>\n",
       "      <td>0.0</td>\n",
       "      <td>0</td>\n",
       "      <td>0.0</td>\n",
       "      <td>0</td>\n",
       "      <td>22946.833333</td>\n",
       "      <td>0</td>\n",
       "      <td>0</td>\n",
       "    </tr>\n",
       "    <tr>\n",
       "      <th>2020-05-25</th>\n",
       "      <td>CXB-219</td>\n",
       "      <td>16.500000</td>\n",
       "      <td>18</td>\n",
       "      <td>0.0</td>\n",
       "      <td>0</td>\n",
       "      <td>0.0</td>\n",
       "      <td>0</td>\n",
       "      <td>0.0</td>\n",
       "      <td>0</td>\n",
       "      <td>22936.500000</td>\n",
       "      <td>0</td>\n",
       "      <td>0</td>\n",
       "    </tr>\n",
       "    <tr>\n",
       "      <th>2020-05-26</th>\n",
       "      <td>CXB-219</td>\n",
       "      <td>40.833333</td>\n",
       "      <td>35</td>\n",
       "      <td>0.0</td>\n",
       "      <td>0</td>\n",
       "      <td>0.0</td>\n",
       "      <td>0</td>\n",
       "      <td>0.0</td>\n",
       "      <td>0</td>\n",
       "      <td>22912.166667</td>\n",
       "      <td>0</td>\n",
       "      <td>0</td>\n",
       "    </tr>\n",
       "  </tbody>\n",
       "</table>\n",
       "</div>"
      ],
      "text/plain": [
       "             region  current_infected  daily_infected  current_recovered  \\\n",
       "time_stamp                                                                 \n",
       "2020-05-24  CXB-219          6.166667               5                0.0   \n",
       "2020-05-25  CXB-219         16.500000              18                0.0   \n",
       "2020-05-26  CXB-219         40.833333              35                0.0   \n",
       "\n",
       "            daily_recovered  current_hospitalised  daily_hospitalised  \\\n",
       "time_stamp                                                              \n",
       "2020-05-24                0                   0.0                   0   \n",
       "2020-05-25                0                   0.0                   0   \n",
       "2020-05-26                0                   0.0                   0   \n",
       "\n",
       "            current_intensive_care  daily_intensive_care  current_susceptible  \\\n",
       "time_stamp                                                                      \n",
       "2020-05-24                     0.0                     0         22946.833333   \n",
       "2020-05-25                     0.0                     0         22936.500000   \n",
       "2020-05-26                     0.0                     0         22912.166667   \n",
       "\n",
       "            daily_hospital_deaths  daily_deaths  \n",
       "time_stamp                                       \n",
       "2020-05-24                      0             0  \n",
       "2020-05-25                      0             0  \n",
       "2020-05-26                      0             0  "
      ]
     },
     "execution_count": 51,
     "metadata": {},
     "output_type": "execute_result"
    }
   ],
   "source": [
    "read.regional_summary.head(3)"
   ]
  },
  {
   "cell_type": "code",
   "execution_count": 52,
   "metadata": {},
   "outputs": [
    {
     "data": {
      "image/png": "[encoded data removed]",
      "text/plain": [
       "<Figure size 432x288 with 1 Axes>"
      ]
     },
     "metadata": {
      "needs_background": "light"
     },
     "output_type": "display_data"
    }
   ],
   "source": [
    "for region in read.regional_summary['region'].unique():\n",
    "    read.regional_summary[\n",
    "        read.regional_summary['region'] == region\n",
    "    ]['current_infected'].plot(label=\"current infected\")\n",
    "    read.regional_summary[\n",
    "        read.regional_summary['region'] == region\n",
    "    ]['current_susceptible'].plot(label=\"current susceptible\")\n",
    "    plt.title(region)\n",
    "    plt.legend()\n",
    "    plt.show()"
   ]
  },
  {
   "cell_type": "markdown",
   "metadata": {},
   "source": [
    "### Daily infections"
   ]
  },
  {
   "cell_type": "code",
   "execution_count": 53,
   "metadata": {},
   "outputs": [],
   "source": [
    "summary = read.regional_summary.reset_index()"
   ]
  },
  {
   "cell_type": "code",
   "execution_count": 54,
   "metadata": {},
   "outputs": [
    {
     "data": {
      "text/plain": [
       "datetime.date(2020, 5, 24)"
      ]
     },
     "execution_count": 54,
     "metadata": {},
     "output_type": "execute_result"
    }
   ],
   "source": [
    "summary['time_stamp'][0].date()"
   ]
  },
  {
   "cell_type": "code",
   "execution_count": 55,
   "metadata": {},
   "outputs": [],
   "source": [
    "def new_infections(summary):\n",
    "    \n",
    "    date = []\n",
    "    for idx, row in summary.iterrows():\n",
    "        date.append(row['time_stamp'].date())\n",
    "    summary['date'] = date\n",
    "    \n",
    "    dates = np.unique(summary['date'])\n",
    "    \n",
    "    new_infections = []\n",
    "    \n",
    "    for date in dates:\n",
    "        date_data = summary['daily_infected'][summary['date'] == date]\n",
    "        new_infections.append(np.sum(date_data))\n",
    "        \n",
    "    return dates, new_infections"
   ]
  },
  {
   "cell_type": "code",
   "execution_count": 56,
   "metadata": {},
   "outputs": [],
   "source": [
    "dates, new_infections = new_infections(summary)"
   ]
  },
  {
   "cell_type": "code",
   "execution_count": 57,
   "metadata": {},
   "outputs": [
    {
     "data": {
      "image/png": "[encoded data removed]",
      "text/plain": [
       "<Figure size 432x288 with 1 Axes>"
      ]
     },
     "metadata": {
      "needs_background": "light"
     },
     "output_type": "display_data"
    }
   ],
   "source": [
    "plt.plot(dates, new_infections)\n",
    "plt.xticks(rotation=45)\n",
    "plt.ylabel('Daily infections')\n",
    "plt.show()"
   ]
  },
  {
   "cell_type": "markdown",
   "metadata": {},
   "source": [
    "### Hospital and intensive care"
   ]
  },
  {
   "cell_type": "code",
   "execution_count": 58,
   "metadata": {},
   "outputs": [],
   "source": [
    "def hospitalised(summary):\n",
    "    date = []\n",
    "    for idx, row in summary.iterrows():\n",
    "        date.append(row['time_stamp'].date())\n",
    "    summary['date'] = date\n",
    "    \n",
    "    dates = np.unique(summary['date'])\n",
    "    \n",
    "    hospitalised = []\n",
    "    icu = []\n",
    "    \n",
    "    for date in dates:\n",
    "        date_data = summary['current_hospitalised'][summary['date'] == date]\n",
    "        hospitalised.append(np.sum(date_data))\n",
    "        date_data = summary['current_intensive_care'][summary['date'] == date]\n",
    "        icu.append(np.sum(date_data))\n",
    "        \n",
    "    return dates, hospitalised, icu"
   ]
  },
  {
   "cell_type": "code",
   "execution_count": 59,
   "metadata": {},
   "outputs": [],
   "source": [
    "dates, hospitalised, icu = hospitalised(summary)"
   ]
  },
  {
   "cell_type": "code",
   "execution_count": 60,
   "metadata": {},
   "outputs": [
    {
     "data": {
      "image/png": "[encoded data removed]",
      "text/plain": [
       "<Figure size 432x288 with 1 Axes>"
      ]
     },
     "metadata": {
      "needs_background": "light"
     },
     "output_type": "display_data"
    }
   ],
   "source": [
    "plt.plot(dates, hospitalised, label=\"current hospitalised\")\n",
    "plt.plot(dates, icu, label=\"current intensive care\")\n",
    "plt.xticks(rotation=45)\n",
    "plt.ylabel('Daily infections')\n",
    "plt.legend()\n",
    "plt.show()"
   ]
  },
  {
   "cell_type": "markdown",
   "metadata": {},
   "source": [
    "### Cumulative infections by age"
   ]
  },
  {
   "cell_type": "code",
   "execution_count": 61,
   "metadata": {},
   "outputs": [
    {
     "name": "stdout",
     "output_type": "stream",
     "text": [
      "2020-12-20 16:09:12,434 - june.records.records_reader - INFO - Loading infections table\n",
      "2020-12-20 16:09:12,475 - june.records.records_reader - INFO - Loading population table\n",
      "2020-12-20 16:09:12,527 - june.records.records_reader - INFO - Merging infection and population tables\n",
      "2020-12-20 16:09:12,537 - june.records.records_reader - INFO - Loading geography table\n",
      "2020-12-20 16:09:12,561 - june.records.records_reader - INFO - Mergeing infection and geography tables\n"
     ]
    }
   ],
   "source": [
    "infections_df = read.get_table_with_extras('infections',\n",
    "                                           'infected_ids')"
   ]
  },
  {
   "cell_type": "code",
   "execution_count": 62,
   "metadata": {},
   "outputs": [
    {
     "name": "stdout",
     "output_type": "stream",
     "text": [
      "2020-12-20 16:09:12,987 - june.records.records_reader - INFO - Loading deaths table\n",
      "2020-12-20 16:09:12,993 - june.records.records_reader - INFO - Loading population table\n",
      "2020-12-20 16:09:13,046 - june.records.records_reader - INFO - Merging infection and population tables\n",
      "2020-12-20 16:09:13,049 - june.records.records_reader - INFO - Loading geography table\n",
      "2020-12-20 16:09:13,070 - june.records.records_reader - INFO - Mergeing infection and geography tables\n"
     ]
    }
   ],
   "source": [
    "deaths_df = read.get_table_with_extras('deaths', \n",
    "                                       'dead_person_ids')"
   ]
  },
  {
   "cell_type": "code",
   "execution_count": 63,
   "metadata": {},
   "outputs": [],
   "source": [
    "age_bins = (0,20,60,100)"
   ]
  },
  {
   "cell_type": "code",
   "execution_count": 64,
   "metadata": {},
   "outputs": [],
   "source": [
    "infected_by_age = infections_df.groupby([pd.cut(infections_df['age'],\n",
    "            bins=age_bins), 'timestamp']).size()"
   ]
  },
  {
   "cell_type": "code",
   "execution_count": 65,
   "metadata": {},
   "outputs": [],
   "source": [
    "people_df = read.table_to_df('population')"
   ]
  },
  {
   "cell_type": "code",
   "execution_count": 66,
   "metadata": {},
   "outputs": [],
   "source": [
    "n_by_age = people_df.groupby(pd.cut(people_df['age'],\n",
    "            bins=age_bins)).size()"
   ]
  },
  {
   "cell_type": "code",
   "execution_count": 67,
   "metadata": {},
   "outputs": [
    {
     "data": {
      "text/plain": [
       "<matplotlib.legend.Legend at 0x7fc73f580c10>"
      ]
     },
     "execution_count": 67,
     "metadata": {},
     "output_type": "execute_result"
    },
    {
     "data": {
      "image/png": "[encoded data removed]",
      "text/plain": [
       "<Figure size 432x288 with 1 Axes>"
      ]
     },
     "metadata": {
      "needs_background": "light"
     },
     "output_type": "display_data"
    }
   ],
   "source": [
    "(100*infected_by_age/n_by_age).xs(10).cumsum().plot(label='0,20')\n",
    "(100*infected_by_age/n_by_age).xs(30).cumsum().plot(label='20,60')\n",
    "(100*infected_by_age/n_by_age).xs(70).cumsum().plot(label='60,100')\n",
    "plt.legend()"
   ]
  },
  {
   "cell_type": "markdown",
   "metadata": {},
   "source": [
    "### Where people get infected"
   ]
  },
  {
   "cell_type": "code",
   "execution_count": 68,
   "metadata": {},
   "outputs": [],
   "source": [
    "locations_df = infections_df.groupby(['location_specs', \n",
    "                                'timestamp']).size()"
   ]
  },
  {
   "cell_type": "code",
   "execution_count": 69,
   "metadata": {},
   "outputs": [
    {
     "data": {
      "text/plain": [
       "<AxesSubplot:xlabel='timestamp'>"
      ]
     },
     "execution_count": 69,
     "metadata": {},
     "output_type": "execute_result"
    },
    {
     "data": {
      "image/png": "[encoded data removed]",
      "text/plain": [
       "<Figure size 432x288 with 1 Axes>"
      ]
     },
     "metadata": {
      "needs_background": "light"
     },
     "output_type": "display_data"
    }
   ],
   "source": [
    "locations_df.unstack(level=0).plot()"
   ]
  },
  {
   "cell_type": "code",
   "execution_count": 70,
   "metadata": {},
   "outputs": [
    {
     "data": {
      "text/plain": [
       "Text(0.5, 0, 'location')"
      ]
     },
     "execution_count": 70,
     "metadata": {},
     "output_type": "execute_result"
    },
    {
     "data": {
      "image/png": "[encoded data removed]",
      "text/plain": [
       "<Figure size 432x288 with 1 Axes>"
      ]
     },
     "metadata": {
      "needs_background": "light"
     },
     "output_type": "display_data"
    }
   ],
   "source": [
    "import matplotlib.ticker as mtick\n",
    "location_counts_df = locations_df.groupby('location_specs').size()\n",
    "location_counts_df = 100*location_counts_df / location_counts_df.sum()\n",
    "ax = location_counts_df.sort_values().plot.bar()\n",
    "ax.yaxis.set_major_formatter(mtick.PercentFormatter())\n",
    "plt.ylabel('Percentage of infections at location')\n",
    "plt.xlabel('location')"
   ]
  }
 ],
 "metadata": {
  "kernelspec": {
   "display_name": "Python 3",
   "language": "python",
   "name": "python3"
  },
  "language_info": {
   "codemirror_mode": {
    "name": "ipython",
    "version": 3
   },
   "file_extension": ".py",
   "mimetype": "text/x-python",
   "name": "python",
   "nbconvert_exporter": "python",
   "pygments_lexer": "ipython3",
   "version": "3.7.6"
  }
 },
 "nbformat": 4,
 "nbformat_minor": 4
}
