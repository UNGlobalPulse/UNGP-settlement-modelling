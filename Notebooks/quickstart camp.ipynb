{
 "cells": [
  {
   "cell_type": "code",
   "execution_count": 1,
   "metadata": {},
   "outputs": [],
   "source": [
    "import warnings\n",
    "warnings.filterwarnings('ignore')"
   ]
  },
  {
   "cell_type": "code",
   "execution_count": 2,
   "metadata": {},
   "outputs": [],
   "source": [
    "import numpy as np\n",
    "import pandas as pd\n",
    "import time\n",
    "import matplotlib.pyplot as plt\n",
    "from datetime import datetime\n",
    "import sys\n",
    "import argparse\n",
    "from pathlib import Path"
   ]
  },
  {
   "cell_type": "code",
   "execution_count": 3,
   "metadata": {},
   "outputs": [
    {
     "name": "stderr",
     "output_type": "stream",
     "text": [
      "No --data argument given - defaulting to:\n",
      "/home/joseph/Documents/PhD/UN_Work/UNGP-settlement-modelling-private/data\n",
      "No --configs argument given - defaulting to:\n",
      "/home/joseph/Documents/PhD/UN_Work/JUNE-private/june/configs\n"
     ]
    },
    {
     "name": "stdout",
     "output_type": "stream",
     "text": [
      "2022-10-05 18:48:16,685 - camps.paths - WARNING - No --camp_data argument given - defaulting to:\n",
      "/home/joseph/Documents/PhD/UN_Work/UNGP-settlement-modelling-private/camp_data\n",
      "2022-10-05 18:48:16,686 - camps.paths - WARNING - No --configs_camps argument given - defaulting to:\n",
      "/home/joseph/Documents/PhD/UN_Work/UNGP-settlement-modelling-private/configs_camps\n"
     ]
    }
   ],
   "source": [
    "from june.geography import Geography\n",
    "from june.demography.demography import (\n",
    "    load_age_and_sex_generators_for_bins,\n",
    "    Demography,\n",
    "    Population,\n",
    "    load_comorbidity_data,\n",
    "    generate_comorbidity,\n",
    ")\n",
    "from june.paths import data_path, configs_path\n",
    "from june.epidemiology.epidemiology import Epidemiology\n",
    "from june.epidemiology.infection import ImmunitySetter\n",
    "from june.epidemiology.infection import Infection, HealthIndexGenerator, InfectionSelector, InfectionSelectors\n",
    "from june.epidemiology.infection_seed import InfectionSeed, InfectionSeeds\n",
    "from june.interaction import Interaction\n",
    "from june.groups import Hospital, Hospitals, Cemeteries\n",
    "from june.distributors import HospitalDistributor\n",
    "from june.hdf5_savers import generate_world_from_hdf5\n",
    "from june.policy import Policy, Policies\n",
    "from june.records import Record\n",
    "from june.simulator import Simulator\n",
    "from june.records import Record, RecordReader\n",
    "\n",
    "from camps.activity import CampActivityManager\n",
    "from camps.paths import camp_data_path, camp_configs_path\n",
    "from camps.world import World\n",
    "from camps.groups.leisure import generate_leisure_for_world, generate_leisure_for_config\n",
    "from camps.camp_creation import (\n",
    "    generate_empty_world,\n",
    "    populate_world,\n",
    "    distribute_people_to_households,\n",
    ")  # this is loaded from the ../camp_scripts folder\n",
    "\n",
    "from june.tracker.tracker import Tracker"
   ]
  },
  {
   "cell_type": "code",
   "execution_count": 4,
   "metadata": {},
   "outputs": [],
   "source": [
    "from camps.groups import PumpLatrines, PumpLatrineDistributor\n",
    "from camps.groups import DistributionCenters, DistributionCenterDistributor\n",
    "from camps.groups import Communals, CommunalDistributor\n",
    "from camps.groups import FemaleCommunals, FemaleCommunalDistributor\n",
    "from camps.groups import Religiouss, ReligiousDistributor\n",
    "from camps.groups import Shelter, Shelters, ShelterDistributor\n",
    "from camps.groups import IsolationUnit, IsolationUnits\n",
    "from camps.groups import LearningCenters\n",
    "from camps.distributors import LearningCenterDistributor\n",
    "from camps.groups import PlayGroups, PlayGroupDistributor\n",
    "from camps.groups import EVouchers, EVoucherDistributor\n",
    "from camps.groups import NFDistributionCenters, NFDistributionCenterDistributor\n",
    "from camps.groups import SheltersVisitsDistributor\n",
    "from camps.groups import InformalWorks, InformalWorkDistributor"
   ]
  },
  {
   "cell_type": "code",
   "execution_count": 5,
   "metadata": {},
   "outputs": [],
   "source": [
    "Results_Path = Path(\"results\")\n",
    "\n",
    "Config_File_Path = camp_configs_path / \"config_demo.yaml\"\n",
    "Interactions_File_Path = camp_configs_path / \"defaults/interaction/interaction_Survey.yaml\"\n",
    "Policies_File_Path = camp_configs_path / \"defaults/policy/simple_policy.yaml\"\n",
    "Hospitals_File_Path = camp_data_path / \"input/hospitals/hospitals.csv\"\n",
    "comorbidity_multipliers_path = camp_configs_path / \"defaults/comorbidities.yaml\"\n",
    "male_comorbidity_reference_prevalence_path = camp_data_path / \"input/demography/uk_male_comorbidities.csv\"\n",
    "female_comorbidity_reference_prevalence_path = camp_data_path / \"input/demography/uk_female_comorbidities.csv\""
   ]
  },
  {
   "cell_type": "markdown",
   "metadata": {},
   "source": [
    "## Initialize the world"
   ]
  },
  {
   "cell_type": "markdown",
   "metadata": {},
   "source": [
    "When we create the camp to be simulated, we call this the 'world'. The world is initialised after specifying which geographical regions you want to simulate. We can do this by using the `filter_key` argument in the `generate_empty_world` function. Cox's Bazar Expansion Site is made up of camps (which we call regions), UNHCR blocks (which we call super areas) and Mahjee blocks (which we call areas). These are the 3 heirarchical levels on which our model works. You can pass lists of the regions/super_areas/areas to the function here. Alternatively, by leaving the function empty you can generate the entire Cox's Bazar Expansion Site consisting of 112 super areas."
   ]
  },
  {
   "cell_type": "code",
   "execution_count": 6,
   "metadata": {},
   "outputs": [
    {
     "name": "stdout",
     "output_type": "stream",
     "text": [
      "2022-10-05 18:48:17,378 - june.geography.geography - INFO - There are 65 areas and 4 super_areas and 1 regions in the world.\n"
     ]
    }
   ],
   "source": [
    "# create empty world's geography\n",
    "world = generate_empty_world(filter_key = {\"region\" : [\"CXB-219\"]})"
   ]
  },
  {
   "cell_type": "code",
   "execution_count": 7,
   "metadata": {},
   "outputs": [],
   "source": [
    "# populate empty world\n",
    "populate_world(world)"
   ]
  },
  {
   "cell_type": "code",
   "execution_count": 8,
   "metadata": {},
   "outputs": [
    {
     "name": "stdout",
     "output_type": "stream",
     "text": [
      "Distributing 467 people to CXB-219-001\n",
      "Distributing 370 people to CXB-219-002\n",
      "Distributing 330 people to CXB-219-003\n",
      "Distributing 386 people to CXB-219-004\n",
      "Distributing 313 people to CXB-219-005\n",
      "Distributing 330 people to CXB-219-006\n",
      "Distributing 259 people to CXB-219-007\n",
      "Distributing 350 people to CXB-219-009\n",
      "Distributing 274 people to CXB-219-010\n",
      "Distributing 249 people to CXB-219-011\n",
      "Distributing 463 people to CXB-219-012\n",
      "Distributing 418 people to CXB-219-013\n",
      "Distributing 460 people to CXB-219-014\n",
      "Distributing 384 people to CXB-219-017\n",
      "Distributing 417 people to CXB-219-020\n",
      "Distributing 426 people to CXB-219-021\n",
      "Distributing 414 people to CXB-219-022\n",
      "Distributing 384 people to CXB-219-024\n",
      "Distributing 378 people to CXB-219-025\n",
      "Distributing 378 people to CXB-219-026\n",
      "Distributing 413 people to CXB-219-027\n",
      "Distributing 392 people to CXB-219-028\n",
      "Distributing 331 people to CXB-219-029\n",
      "Distributing 459 people to CXB-219-030\n",
      "Distributing 394 people to CXB-219-032\n",
      "Distributing 339 people to CXB-219-033\n",
      "Distributing 373 people to CXB-219-034\n",
      "Distributing 259 people to CXB-219-036\n",
      "Distributing 455 people to CXB-219-037\n",
      "Distributing 459 people to CXB-219-038\n",
      "Distributing 487 people to CXB-219-039\n",
      "Distributing 175 people to CXB-219-040\n",
      "Distributing 330 people to CXB-219-041\n",
      "Distributing 398 people to CXB-219-042\n",
      "Distributing 398 people to CXB-219-043\n",
      "Distributing 368 people to CXB-219-044\n",
      "Distributing 430 people to CXB-219-045\n",
      "Distributing 449 people to CXB-219-046\n",
      "Distributing 244 people to CXB-219-047\n",
      "Distributing 311 people to CXB-219-048\n",
      "Distributing 336 people to CXB-219-049\n",
      "Distributing 206 people to CXB-219-050\n",
      "Distributing 343 people to CXB-219-051\n",
      "Distributing 347 people to CXB-219-052\n",
      "Distributing 533 people to CXB-219-053\n",
      "Distributing 381 people to CXB-219-054\n",
      "Distributing 252 people to CXB-219-055\n",
      "Distributing 274 people to CXB-219-056\n",
      "Distributing 247 people to CXB-219-057\n",
      "Distributing 376 people to CXB-219-058\n",
      "Distributing 342 people to CXB-219-059\n",
      "Distributing 330 people to CXB-219-060\n",
      "Distributing 413 people to CXB-219-061\n",
      "Distributing 259 people to CXB-219-062\n",
      "Distributing 286 people to CXB-219-063\n",
      "Distributing 194 people to CXB-219-064\n",
      "Distributing 212 people to CXB-219-065\n",
      "Distributing 330 people to CXB-219-066\n",
      "Distributing 315 people to CXB-219-067\n",
      "Distributing 386 people to CXB-219-068\n",
      "Distributing 551 people to CXB-219-069\n",
      "Distributing 321 people to CXB-219-070\n",
      "Distributing 218 people to CXB-219-071\n",
      "Distributing 311 people to CXB-234-001\n",
      "Distributing 276 people to CXB-234-002\n"
     ]
    }
   ],
   "source": [
    "# distribute people to households\n",
    "distribute_people_to_households(world)"
   ]
  },
  {
   "cell_type": "code",
   "execution_count": 9,
   "metadata": {},
   "outputs": [
    {
     "name": "stdout",
     "output_type": "stream",
     "text": [
      "2022-10-05 18:48:25,989 - learning_centers - INFO - There are 1243 learning center(s)\n"
     ]
    }
   ],
   "source": [
    "LearningCenters.Get_Interaction(Interactions_File_Path)\n",
    "world.learning_centers = LearningCenters.for_areas(world.areas)\n",
    "\n",
    "learningcenter_distributor = LearningCenterDistributor.from_file(world.learning_centers)\n",
    "\n",
    "learningcenter_distributor.distribute_teachers_to_learning_centers(world.areas)\n",
    "learningcenter_distributor.distribute_kids_to_learning_centers(world.areas)"
   ]
  },
  {
   "cell_type": "code",
   "execution_count": 10,
   "metadata": {},
   "outputs": [
    {
     "name": "stdout",
     "output_type": "stream",
     "text": [
      "2022-10-05 18:48:27,071 - hospitals - INFO - There are 8 hospitals in the world.\n",
      "2022-10-05 18:48:27,090 - isolation units - INFO - There are 8 isolation unit(s)\n"
     ]
    }
   ],
   "source": [
    "# distribute hospitals\n",
    "Hospitals.Get_Interaction(Interactions_File_Path)\n",
    "IsolationUnits.Get_Interaction(Interactions_File_Path)\n",
    "\n",
    "hospitals = Hospitals.from_file(\n",
    "    filename=Hospitals_File_Path\n",
    ")\n",
    "\n",
    "\n",
    "for hospital in hospitals:\n",
    "    hospital.area = world.areas.get_closest_area(hospital.coordinates)\n",
    "    \n",
    "world.hospitals = hospitals\n",
    "hospital_distributor = HospitalDistributor(\n",
    "    hospitals, medic_min_age=20, patients_per_medic=10\n",
    ")\n",
    "hospital_distributor.assign_closest_hospitals_to_super_areas(\n",
    "    world.super_areas\n",
    ")\n",
    "\n",
    "world.isolation_units = IsolationUnits([IsolationUnit(area=hospital.area) for hospital in world.hospitals])\n",
    "hospital_distributor.distribute_medics_from_world(world.people)"
   ]
  },
  {
   "cell_type": "code",
   "execution_count": 11,
   "metadata": {},
   "outputs": [
    {
     "name": "stdout",
     "output_type": "stream",
     "text": [
      "2022-10-05 18:48:27,184 - social_venue - INFO - Domain 0 has 82 pump_latrines(s)\n",
      "2022-10-05 18:48:27,344 - social_venue - INFO - Domain 0 has 536 play_groups(s)\n",
      "2022-10-05 18:48:27,459 - social_venue - INFO - Domain 0 has 21 distribution_centers(s)\n",
      "2022-10-05 18:48:27,549 - social_venue - INFO - Domain 0 has 115 communals(s)\n",
      "2022-10-05 18:48:27,613 - social_venue - INFO - Domain 0 has 67 female_communals(s)\n",
      "2022-10-05 18:48:28,935 - social_venue - INFO - Domain 0 has 2065 religiouss(s)\n",
      "2022-10-05 18:48:29,044 - social_venue - INFO - Domain 0 has 7 e_vouchers(s)\n",
      "2022-10-05 18:48:29,122 - social_venue - INFO - Domain 0 has 41 n_f_distribution_centers(s)\n",
      "2022-10-05 18:48:29,181 - social_venue - INFO - Domain 0 has 80 informal_works(s)\n"
     ]
    }
   ],
   "source": [
    "PumpLatrines.Get_Interaction(Interactions_File_Path)\n",
    "world.pump_latrines = PumpLatrines.for_areas(world.areas)\n",
    "\n",
    "PlayGroups.Get_Interaction(Interactions_File_Path)\n",
    "world.play_groups = PlayGroups.for_areas(world.areas)\n",
    "\n",
    "DistributionCenters.Get_Interaction(Interactions_File_Path)\n",
    "world.distribution_centers = DistributionCenters.for_areas(world.areas)\n",
    "\n",
    "Communals.Get_Interaction(Interactions_File_Path)\n",
    "world.communals = Communals.for_areas(world.areas)\n",
    "\n",
    "FemaleCommunals.Get_Interaction(Interactions_File_Path)\n",
    "world.female_communals = FemaleCommunals.for_areas(world.areas)\n",
    "\n",
    "Religiouss.Get_Interaction(Interactions_File_Path)\n",
    "world.religiouss = Religiouss.for_areas(world.areas)\n",
    "\n",
    "EVouchers.Get_Interaction(Interactions_File_Path)\n",
    "world.e_vouchers = EVouchers.for_areas(world.areas)\n",
    "\n",
    "NFDistributionCenters.Get_Interaction(Interactions_File_Path)\n",
    "world.n_f_distribution_centers = NFDistributionCenters.for_areas(world.areas)\n",
    "\n",
    "InformalWorks.Get_Interaction(Interactions_File_Path)\n",
    "world.informal_works = InformalWorks.for_areas(world.areas)"
   ]
  },
  {
   "cell_type": "code",
   "execution_count": 12,
   "metadata": {},
   "outputs": [
    {
     "name": "stdout",
     "output_type": "stream",
     "text": [
      "cemetery not defined in interaction yaml or defualt options\n"
     ]
    }
   ],
   "source": [
    "world.cemeteries = Cemeteries()"
   ]
  },
  {
   "cell_type": "markdown",
   "metadata": {},
   "source": [
    "## Geography exploration"
   ]
  },
  {
   "cell_type": "markdown",
   "metadata": {},
   "source": [
    "The geography is initialised first and can be explored."
   ]
  },
  {
   "cell_type": "markdown",
   "metadata": {},
   "source": [
    "### UNHCR camp blocks inside the World"
   ]
  },
  {
   "cell_type": "code",
   "execution_count": 13,
   "metadata": {},
   "outputs": [],
   "source": [
    "super_areas = []\n",
    "for super_area in world.super_areas:\n",
    "    super_areas.append(super_area.name)"
   ]
  },
  {
   "cell_type": "code",
   "execution_count": 14,
   "metadata": {},
   "outputs": [
    {
     "data": {
      "text/plain": [
       "['CXB-219-A', 'CXB-219-B', 'CXB-219-C', 'CXB-219-D']"
      ]
     },
     "execution_count": 14,
     "metadata": {},
     "output_type": "execute_result"
    }
   ],
   "source": [
    "super_areas[:5]"
   ]
  },
  {
   "cell_type": "markdown",
   "metadata": {},
   "source": [
    "### Mahjee blocks inside World"
   ]
  },
  {
   "cell_type": "code",
   "execution_count": 15,
   "metadata": {},
   "outputs": [],
   "source": [
    "areas = []\n",
    "for area in world.areas:\n",
    "    areas.append(area.name)"
   ]
  },
  {
   "cell_type": "code",
   "execution_count": 16,
   "metadata": {},
   "outputs": [
    {
     "data": {
      "text/plain": [
       "['CXB-219-001', 'CXB-219-002', 'CXB-219-003', 'CXB-219-004', 'CXB-219-005']"
      ]
     },
     "execution_count": 16,
     "metadata": {},
     "output_type": "execute_result"
    }
   ],
   "source": [
    "areas[:5]"
   ]
  },
  {
   "cell_type": "markdown",
   "metadata": {},
   "source": [
    "## Demography exploration"
   ]
  },
  {
   "cell_type": "markdown",
   "metadata": {},
   "source": [
    "Once we have populated the 'digital twin' we can explore some of the attributes of the people we have created in the simulation."
   ]
  },
  {
   "cell_type": "markdown",
   "metadata": {},
   "source": [
    "### UNHCR block residents"
   ]
  },
  {
   "cell_type": "code",
   "execution_count": 17,
   "metadata": {},
   "outputs": [],
   "source": [
    "sample_ages = []\n",
    "sample_sexes = []\n",
    "for person in world.super_areas.members[0].people:\n",
    "    sample_ages.append(person.age)\n",
    "    sample_sexes.append(person.sex)"
   ]
  },
  {
   "cell_type": "code",
   "execution_count": 18,
   "metadata": {},
   "outputs": [
    {
     "data": {
      "text/plain": [
       "(['f', 'f', 'm', 'm', 'm'], [41, 38, 49, 18, 60])"
      ]
     },
     "execution_count": 18,
     "metadata": {},
     "output_type": "execute_result"
    }
   ],
   "source": [
    "sample_sexes[:5], sample_ages[:5]"
   ]
  },
  {
   "cell_type": "code",
   "execution_count": 19,
   "metadata": {},
   "outputs": [
    {
     "data": {
      "image/png": "[encoded data removed]",
      "text/plain": [
       "<Figure size 432x288 with 1 Axes>"
      ]
     },
     "metadata": {
      "needs_background": "light"
     },
     "output_type": "display_data"
    }
   ],
   "source": [
    "ages, counts = np.unique(sample_ages, return_counts=True)\n",
    "plt.bar(ages, counts)\n",
    "plt.title('super area: {} age distribution'.format(world.super_areas.members[0].name))\n",
    "plt.show()"
   ]
  },
  {
   "cell_type": "code",
   "execution_count": 20,
   "metadata": {},
   "outputs": [
    {
     "name": "stdout",
     "output_type": "stream",
     "text": [
      "The % children between ages 0-16 is 49%\n"
     ]
    }
   ],
   "source": [
    "print ('The % children between ages 0-16 is {}%'.format(round(np.sum(counts[:16])/(np.sum(counts[:16])+np.sum(counts[16:]))*100)))"
   ]
  },
  {
   "cell_type": "markdown",
   "metadata": {},
   "source": [
    "## Households"
   ]
  },
  {
   "cell_type": "markdown",
   "metadata": {},
   "source": [
    "In this model, we will use the term 'family' and 'household' interchangeably. After populating the 'digital twin', we need to cluster people into families. To do this, we take account of age structure so that children live with adults, that there are some intergenerational households and such that we might also have some households of only adults."
   ]
  },
  {
   "cell_type": "markdown",
   "metadata": {},
   "source": [
    "### Household size distribution"
   ]
  },
  {
   "cell_type": "code",
   "execution_count": 21,
   "metadata": {},
   "outputs": [
    {
     "data": {
      "image/png": "[encoded data removed]",
      "text/plain": [
       "<Figure size 432x288 with 1 Axes>"
      ]
     },
     "metadata": {
      "needs_background": "light"
     },
     "output_type": "display_data"
    }
   ],
   "source": [
    "household_sizes = [household.size for household in world.households]\n",
    "plt.hist(household_sizes, density=True, bins=np.arange(0,12))\n",
    "plt.xlabel(\"Household size\")\n",
    "plt.ylabel(\"Frequency\")\n",
    "plt.axvline(np.mean(household_sizes), color=\"cyan\")\n",
    "plt.text(8, 0.150, f\"Avg. size: {(np.mean(household_sizes)):.2f}\")\n",
    "plt.show()"
   ]
  },
  {
   "cell_type": "markdown",
   "metadata": {},
   "source": [
    "# Shelters"
   ]
  },
  {
   "cell_type": "markdown",
   "metadata": {},
   "source": [
    "Shelters house people in the camp. Since we know that families (houseohlds) often share shelters with other families, we can set the `sharing_shelter_ratio` to cluster families into shared shelters."
   ]
  },
  {
   "cell_type": "code",
   "execution_count": 22,
   "metadata": {},
   "outputs": [],
   "source": [
    "Shelters.Get_Interaction(Interactions_File_Path)\n",
    "world.shelters = Shelters.for_areas(world.areas)\n",
    "shelter_distributor = ShelterDistributor(sharing_shelter_ratio = 0.75) # proportion of families that share a shelter\n",
    "for area in world.areas:\n",
    "    shelter_distributor.distribute_people_in_shelters(area.shelters, area.households)"
   ]
  },
  {
   "cell_type": "code",
   "execution_count": 23,
   "metadata": {},
   "outputs": [
    {
     "data": {
      "image/png": "[encoded data removed]",
      "text/plain": [
       "<Figure size 576x216 with 2 Axes>"
      ]
     },
     "metadata": {
      "needs_background": "light"
     },
     "output_type": "display_data"
    }
   ],
   "source": [
    "fig, ax = plt.subplots(1, 2, figsize=(8,3))\n",
    "shelter_sizes = [shelter.size for shelter in world.shelters]\n",
    "shelter_families = [shelter.n_families for shelter in world.shelters]\n",
    "ax[0].hist(shelter_sizes)\n",
    "ax[0].set_title(\"Shelter size\")\n",
    "shelter_families = {1 : len([shelter for shelter in world.shelters if shelter.n_families == 1]),\n",
    "                    2 : len([shelter for shelter in world.shelters if shelter.n_families == 2])}\n",
    "ax[1].bar(shelter_families.keys(), shelter_families.values())\n",
    "ax[1].set_title(\"# families per shelter\")\n",
    "plt.show()"
   ]
  },
  {
   "cell_type": "markdown",
   "metadata": {},
   "source": [
    "## Activity exploration"
   ]
  },
  {
   "cell_type": "markdown",
   "metadata": {},
   "source": [
    "Once different activity locations are seeded in the 'digital twin' we can explore how many there are in different areas of the twin, and their coordinates to check they've all been added correctly."
   ]
  },
  {
   "cell_type": "markdown",
   "metadata": {},
   "source": [
    "### Pumps and latrines "
   ]
  },
  {
   "cell_type": "code",
   "execution_count": 24,
   "metadata": {},
   "outputs": [],
   "source": [
    "pumps_and_latrines = []\n",
    "for pump_latrine in world.areas.members[0].pump_latrines:\n",
    "    pumps_and_latrines.append(pump_latrine)"
   ]
  },
  {
   "cell_type": "code",
   "execution_count": 25,
   "metadata": {},
   "outputs": [
    {
     "name": "stdout",
     "output_type": "stream",
     "text": [
      "There are 2 pumps and latrines in area CXB-219-001\n"
     ]
    }
   ],
   "source": [
    "print ('There are {} pumps and latrines in area {}'.format(len(pumps_and_latrines), world.areas.members[0].name))"
   ]
  },
  {
   "cell_type": "markdown",
   "metadata": {},
   "source": [
    "### Informal work"
   ]
  },
  {
   "cell_type": "code",
   "execution_count": 26,
   "metadata": {},
   "outputs": [],
   "source": [
    "Informal_work_Sites = []\n",
    "for informal_work in world.areas.members[0].informal_works:\n",
    "    Informal_work_Sites.append(informal_work)"
   ]
  },
  {
   "cell_type": "code",
   "execution_count": 27,
   "metadata": {},
   "outputs": [
    {
     "name": "stdout",
     "output_type": "stream",
     "text": [
      "There are 2 informal work sites in area CXB-219-001\n"
     ]
    }
   ],
   "source": [
    "print ('There are {} informal work sites in area {}'.format(len(Informal_work_Sites), world.areas.members[0].name))"
   ]
  },
  {
   "cell_type": "markdown",
   "metadata": {},
   "source": [
    "### Distribution centers"
   ]
  },
  {
   "cell_type": "code",
   "execution_count": 28,
   "metadata": {},
   "outputs": [],
   "source": [
    "distribution_centers = []\n",
    "for center in world.distribution_centers:\n",
    "    distribution_centers.append(center)"
   ]
  },
  {
   "cell_type": "code",
   "execution_count": 29,
   "metadata": {},
   "outputs": [
    {
     "data": {
      "text/plain": [
       "array([21.2136    , 92.15678833])"
      ]
     },
     "execution_count": 29,
     "metadata": {},
     "output_type": "execute_result"
    }
   ],
   "source": [
    "distribution_centers[0].coordinates"
   ]
  },
  {
   "cell_type": "markdown",
   "metadata": {},
   "source": [
    "### Non-food Distribution centers"
   ]
  },
  {
   "cell_type": "code",
   "execution_count": 30,
   "metadata": {},
   "outputs": [],
   "source": [
    "non_food_distribution_centers = []\n",
    "for center in world.n_f_distribution_centers:\n",
    "    non_food_distribution_centers.append(center)"
   ]
  },
  {
   "cell_type": "code",
   "execution_count": 31,
   "metadata": {},
   "outputs": [
    {
     "data": {
      "text/plain": [
       "array([21.21268167, 92.1438    ])"
      ]
     },
     "execution_count": 31,
     "metadata": {},
     "output_type": "execute_result"
    }
   ],
   "source": [
    "non_food_distribution_centers[0].coordinates"
   ]
  },
  {
   "cell_type": "markdown",
   "metadata": {},
   "source": [
    "### E-Voucher outlets"
   ]
  },
  {
   "cell_type": "code",
   "execution_count": 32,
   "metadata": {},
   "outputs": [],
   "source": [
    "e_voucher_outlets = []\n",
    "for center in world.e_vouchers:\n",
    "    e_voucher_outlets.append(center)"
   ]
  },
  {
   "cell_type": "code",
   "execution_count": 33,
   "metadata": {},
   "outputs": [
    {
     "data": {
      "text/plain": [
       "array([21.212945, 92.142915])"
      ]
     },
     "execution_count": 33,
     "metadata": {},
     "output_type": "execute_result"
    }
   ],
   "source": [
    "e_voucher_outlets[0].coordinates"
   ]
  },
  {
   "cell_type": "markdown",
   "metadata": {},
   "source": [
    "### Communal spaces"
   ]
  },
  {
   "cell_type": "code",
   "execution_count": 34,
   "metadata": {},
   "outputs": [],
   "source": [
    "communal_spaces = []\n",
    "for space in world.communals:\n",
    "    communal_spaces.append(space)"
   ]
  },
  {
   "cell_type": "code",
   "execution_count": 35,
   "metadata": {},
   "outputs": [
    {
     "data": {
      "text/plain": [
       "array([21.19508, 92.16525])"
      ]
     },
     "execution_count": 35,
     "metadata": {},
     "output_type": "execute_result"
    }
   ],
   "source": [
    "communal_spaces[0].coordinates"
   ]
  },
  {
   "cell_type": "markdown",
   "metadata": {},
   "source": [
    "### Female friendly communal spaces"
   ]
  },
  {
   "cell_type": "code",
   "execution_count": 36,
   "metadata": {},
   "outputs": [],
   "source": [
    "female_communal_spaces = []\n",
    "for space in world.female_communals:\n",
    "    female_communal_spaces.append(space)"
   ]
  },
  {
   "cell_type": "code",
   "execution_count": 37,
   "metadata": {},
   "outputs": [
    {
     "data": {
      "text/plain": [
       "array([21.20686305, 92.16070923])"
      ]
     },
     "execution_count": 37,
     "metadata": {},
     "output_type": "execute_result"
    }
   ],
   "source": [
    "female_communal_spaces[0].coordinates"
   ]
  },
  {
   "cell_type": "markdown",
   "metadata": {},
   "source": [
    "### Religious sites"
   ]
  },
  {
   "cell_type": "code",
   "execution_count": 38,
   "metadata": {},
   "outputs": [],
   "source": [
    "religious = []\n",
    "for rel in world.religiouss:\n",
    "    religious.append(rel)"
   ]
  },
  {
   "cell_type": "code",
   "execution_count": 39,
   "metadata": {},
   "outputs": [
    {
     "data": {
      "text/plain": [
       "array([21.21804605, 92.1546829 ])"
      ]
     },
     "execution_count": 39,
     "metadata": {},
     "output_type": "execute_result"
    }
   ],
   "source": [
    "religious[0].coordinates"
   ]
  },
  {
   "cell_type": "markdown",
   "metadata": {},
   "source": [
    "# Adding the infection"
   ]
  },
  {
   "cell_type": "markdown",
   "metadata": {},
   "source": [
    "The selector handles how infections are handled in the code. You can set different 'symptom trajectories' (e.g. exposed->mild->severe->hospitalised->intensive care) from different files. Here, we use the default."
   ]
  },
  {
   "cell_type": "code",
   "execution_count": 40,
   "metadata": {},
   "outputs": [],
   "source": [
    "selector = InfectionSelector.from_file()"
   ]
  },
  {
   "cell_type": "code",
   "execution_count": 41,
   "metadata": {},
   "outputs": [],
   "source": [
    "selectors = InfectionSelectors([selector])"
   ]
  },
  {
   "cell_type": "markdown",
   "metadata": {},
   "source": [
    "# Adding the interaction"
   ]
  },
  {
   "cell_type": "markdown",
   "metadata": {},
   "source": [
    "The interaction class handles how many contacts people have in different locations and with who. If contact matrices are available, these can be coded in a `.yaml` file and fed into the class here."
   ]
  },
  {
   "cell_type": "code",
   "execution_count": 42,
   "metadata": {},
   "outputs": [],
   "source": [
    "interaction = Interaction.from_file(\n",
    "    config_filename=Interactions_File_Path,\n",
    ")"
   ]
  },
  {
   "cell_type": "markdown",
   "metadata": {},
   "source": [
    "# Set policies"
   ]
  },
  {
   "cell_type": "markdown",
   "metadata": {},
   "source": [
    "Policies control how 'operational interventions' are set in the camp. Here we set some social distancing policies, policies relating to medical care, such as people with severe symptoms being hospitalised, and individual and activity policies which can dynamically change how often and where people go, e.g. here, we close all female communal spaces and non-food distirbution centers which the camp did back in March"
   ]
  },
  {
   "cell_type": "code",
   "execution_count": 43,
   "metadata": {},
   "outputs": [],
   "source": [
    "policies = Policies.from_file(\n",
    "        Policies_File_Path,\n",
    "        base_policy_modules=(\"june.policy\", \"camps.policy\"),\n",
    "    )"
   ]
  },
  {
   "cell_type": "code",
   "execution_count": 44,
   "metadata": {},
   "outputs": [
    {
     "data": {
      "text/plain": [
       "[<june.policy.interaction_policies.SocialDistancing at 0x7f353c90b760>,\n",
       " <june.policy.medical_care_policies.Hospitalisation at 0x7f34cb6f1970>,\n",
       " <june.policy.individual_policies.SevereSymptomsStayHome at 0x7f34cd82de20>,\n",
       " <june.policy.individual_policies.Quarantine at 0x7f34cb6d78b0>]"
      ]
     },
     "execution_count": 44,
     "metadata": {},
     "output_type": "execute_result"
    }
   ],
   "source": [
    "policies.policies"
   ]
  },
  {
   "cell_type": "markdown",
   "metadata": {},
   "source": [
    "# Seed the disease"
   ]
  },
  {
   "cell_type": "markdown",
   "metadata": {},
   "source": [
    "Set intial seeding conditions. This can be done at the camp level specifically, or generally by seeding them randomly. Here the `n_cases` is the number of randomly seeded people over the entire population."
   ]
  },
  {
   "cell_type": "code",
   "execution_count": 45,
   "metadata": {},
   "outputs": [],
   "source": [
    "infection_seed = InfectionSeed.from_uniform_cases(\n",
    "    world=world, infection_selector=selector, cases_per_capita=0.01, date=\"2020-05-24 9:00\", seed_past_infections=False,\n",
    ")"
   ]
  },
  {
   "cell_type": "code",
   "execution_count": 46,
   "metadata": {},
   "outputs": [],
   "source": [
    "infection_seeds = InfectionSeeds([infection_seed])"
   ]
  },
  {
   "cell_type": "code",
   "execution_count": 47,
   "metadata": {},
   "outputs": [],
   "source": [
    "immunity_setter = ImmunitySetter.from_file_with_comorbidities(\n",
    "    comorbidity_multipliers_path= comorbidity_multipliers_path,\n",
    "    male_comorbidity_reference_prevalence_path= male_comorbidity_reference_prevalence_path,\n",
    "    female_comorbidity_reference_prevalence_path = female_comorbidity_reference_prevalence_path,   \n",
    ")"
   ]
  },
  {
   "cell_type": "code",
   "execution_count": 48,
   "metadata": {},
   "outputs": [],
   "source": [
    "epidemiology = Epidemiology(\n",
    "    infection_selectors=selectors,\n",
    "    infection_seeds=infection_seeds,\n",
    "    immunity_setter=immunity_setter,\n",
    ")"
   ]
  },
  {
   "cell_type": "markdown",
   "metadata": {},
   "source": [
    "## Select config file"
   ]
  },
  {
   "cell_type": "markdown",
   "metadata": {},
   "source": [
    "Before running the simualtion we must select the config file which defines how the world is set up and the simualtor will work. Specifically, the condif file specifies which activities will be included, how long we'll run the simualtion for, what the initial starting day will be and what the structure of weekdays and weekends will look like (if different)"
   ]
  },
  {
   "cell_type": "code",
   "execution_count": 49,
   "metadata": {},
   "outputs": [],
   "source": [
    "CONFIG_PATH = Config_File_Path"
   ]
  },
  {
   "cell_type": "markdown",
   "metadata": {},
   "source": [
    "# Initialise activities"
   ]
  },
  {
   "cell_type": "markdown",
   "metadata": {},
   "source": [
    "The final step to intialising the simulator class which brings all of this together is to inialise all the activity distirbutors (the term 'leisure' is a legacy of the original version of this code used for modelling COVID-19 in the UK). This will mean that people know where they can go at and given time."
   ]
  },
  {
   "cell_type": "code",
   "execution_count": 50,
   "metadata": {},
   "outputs": [
    {
     "name": "stdout",
     "output_type": "stream",
     "text": [
      "2022-10-05 18:48:31,936 - leisure - INFO - Linking households and care homes for visits\n",
      "2022-10-05 18:48:31,937 - leisure - INFO - Done\n",
      "2022-10-05 18:48:31,939 - leisure - INFO - Distributing social venues to areas\n",
      "2022-10-05 18:48:31,940 - leisure - INFO - Distributed in 0 of 65 areas.\n",
      "2022-10-05 18:48:32,038 - leisure - INFO - Distributed in 65 of 65 areas.\n"
     ]
    }
   ],
   "source": [
    "leisure = generate_leisure_for_config(world=world, config_filename=CONFIG_PATH)\n",
    "# associate social activities to shelters\n",
    "leisure.distribute_social_venues_to_areas(world.areas, world.super_areas)"
   ]
  },
  {
   "cell_type": "markdown",
   "metadata": {},
   "source": [
    "# Define a contact Tracker"
   ]
  },
  {
   "cell_type": "markdown",
   "metadata": {},
   "source": [
    "We define a list of venues in which to track. This is fed into JUNE's tracker class. We can specify tracking contacts by sex, the type of possible contacts \"1D\" (simulated contacts based on the input interaction matrices) or \"All\" (everyone at each venue contacts each other). Lastly we can find a subset of venues upto N but defining MaxVenueTrackingSize=N."
   ]
  },
  {
   "cell_type": "code",
   "execution_count": 51,
   "metadata": {},
   "outputs": [],
   "source": [
    "group_types=[\n",
    "        world.hospitals,\n",
    "        world.distribution_centers,\n",
    "        world.communals,\n",
    "        world.female_communals,\n",
    "        world.pump_latrines,\n",
    "        world.religiouss,\n",
    "        world.play_groups,\n",
    "        world.e_vouchers,\n",
    "        world.n_f_distribution_centers,\n",
    "        world.shelters,\n",
    "        world.learning_centers,\n",
    "        world.informal_works,\n",
    "        world.isolation_units,\n",
    "    ]\n",
    "\n",
    "tracker = Tracker(\n",
    "    world=world,\n",
    "    record_path=Results_Path,\n",
    "    group_types=group_types,\n",
    "    load_interactions_path=Interactions_File_Path,\n",
    "    contact_sexes=[\"unisex\", \"male\", \"female\"],\n",
    "    MaxVenueTrackingSize = 500\n",
    ")"
   ]
  },
  {
   "cell_type": "markdown",
   "metadata": {},
   "source": [
    "# Initialise simulator and run"
   ]
  },
  {
   "cell_type": "markdown",
   "metadata": {},
   "source": [
    "The recorder is defined which will log all interactions and infections in the simualation for later analysis. The `record_path` can be changed to any path where you want the recorded data to be stored."
   ]
  },
  {
   "cell_type": "code",
   "execution_count": 52,
   "metadata": {},
   "outputs": [],
   "source": [
    "record = Record(\n",
    "    record_path=Results_Path, \n",
    "    record_static_data=True\n",
    ")\n"
   ]
  },
  {
   "cell_type": "markdown",
   "metadata": {},
   "source": [
    "The simulator is defined with all the different necessary components we have built up so far"
   ]
  },
  {
   "cell_type": "code",
   "execution_count": 53,
   "metadata": {},
   "outputs": [],
   "source": [
    "Simulator.ActivityManager = CampActivityManager\n",
    "simulator = Simulator.from_file(\n",
    "    world=world,\n",
    "    interaction=interaction,\n",
    "    tracker=tracker,\n",
    "    leisure=leisure,\n",
    "    policies=policies,\n",
    "    config_filename=CONFIG_PATH,\n",
    "    epidemiology=epidemiology,\n",
    "    record=record,\n",
    ")"
   ]
  },
  {
   "cell_type": "markdown",
   "metadata": {},
   "source": [
    "Finally we can run a small simualation"
   ]
  },
  {
   "cell_type": "code",
   "execution_count": 54,
   "metadata": {
    "scrolled": true
   },
   "outputs": [
    {
     "name": "stdout",
     "output_type": "stream",
     "text": [
      "2022-10-05 18:48:32,820 - simulator - INFO - Starting simulation for 7 days at day 2020-05-24 09:00:00,to run for 7 days\n",
      "2022-10-05 18:48:32,912 - seed - INFO - Seeding Covid19 infections at date 2020-05-24\n",
      "2022-10-05 18:48:33,431 - rank - INFO - Next timestep\n",
      "2022-10-05 18:48:33,433 - simulator - INFO - ==================== timestep ====================\n",
      "2022-10-05 18:48:33,651 - rank - INFO - Rank 0 -- move_people -- 0.21713568398263305\n",
      "2022-10-05 18:48:33,652 - rank - INFO - Rank 0 -- move_people_waiting -- 8.408969733864069e-06\n",
      "2022-10-05 18:48:33,653 - activity_manager - INFO - CMS: People COMS for rank 0/1 - 5.249981768429279e-06,4.5299530029296875e-06 - 2020-05-24 09:00:00\n",
      "2022-10-05 18:48:33,661 - simulator - INFO - Info for rank 0, Date = 2020-05-24 09:00:00, number of deaths =  0, number of infected = 227\n",
      "2022-10-05 18:48:33,764 - rank - INFO - Rank 0 -- interaction -- 0.10971019801218063\n",
      "2022-10-05 18:48:33,774 - tracker - INFO - Rank 0 -- tracking contacts -- 500 of 3267 of type shelter\n",
      "2022-10-05 18:48:34,712 - tracker - INFO - Rank 0 -- tracking contacts -- 115 of 115 of type communal\n",
      "2022-10-05 18:48:34,715 - tracker - INFO - Rank 0 -- tracking contacts -- 21 of 21 of type distribution_center\n",
      "2022-10-05 18:48:34,717 - tracker - INFO - Rank 0 -- tracking contacts -- 7 of 7 of type e_voucher\n",
      "2022-10-05 18:48:34,718 - tracker - INFO - Rank 0 -- tracking contacts -- 67 of 67 of type female_communal\n",
      "2022-10-05 18:48:34,721 - tracker - INFO - Rank 0 -- tracking contacts -- 80 of 80 of type informal_work\n",
      "2022-10-05 18:48:34,723 - tracker - INFO - Rank 0 -- tracking contacts -- 41 of 41 of type n_f_distribution_center\n",
      "2022-10-05 18:48:34,727 - tracker - INFO - Rank 0 -- tracking contacts -- 500 of 536 of type play_group\n",
      "2022-10-05 18:48:34,740 - tracker - INFO - Rank 0 -- tracking contacts -- 82 of 82 of type pump_latrine\n",
      "2022-10-05 18:48:34,749 - tracker - INFO - Rank 0 -- tracking contacts -- 500 of 2065 of type religious\n",
      "2022-10-05 18:48:34,758 - tracker - INFO - Rank 0 -- tracking contacts -- 8 of 8 of type hospital\n",
      "2022-10-05 18:48:34,770 - tracker - INFO - Rank 0 -- tracking contacts -- 8 of 8 of type isolation_unit\n",
      "2022-10-05 18:48:34,772 - tracker - INFO - Rank 0 -- tracking contacts -- 389 of 389 of type learning_center\n",
      "2022-10-05 18:48:35,808 - rank - INFO - Rank 0 -- tracker -- 2.043317583971657\n",
      "2022-10-05 18:48:35,810 - epidemiology - INFO - CMS: Infection COMS-v2 for rank 0/1(2)0.00041823304491117597,0.0004181861877441406 - 2020-05-24 09:00:00\n",
      "2022-10-05 18:48:35,936 - rank - INFO - Rank 0 -- interaction_waiting -- 7.2480179369449615e-06\n",
      "2022-10-05 18:48:35,951 - simulator - INFO - CMS: Timestep for rank 0/1 - 2.517245191964321,2.5172460079193115 - 2020-05-24 09:00:00\n",
      "\n",
      "2022-10-05 18:48:35,952 - rank - INFO - Next timestep\n",
      "2022-10-05 18:48:35,953 - simulator - INFO - ==================== timestep ====================\n",
      "2022-10-05 18:48:37,465 - rank - INFO - Rank 0 -- move_people -- 1.511710841965396\n",
      "2022-10-05 18:48:37,467 - rank - INFO - Rank 0 -- move_people_waiting -- 6.315996870398521e-06\n",
      "2022-10-05 18:48:37,468 - activity_manager - INFO - CMS: People COMS for rank 0/1 - 5.9470185078680515e-06,5.4836273193359375e-06 - 2020-05-24 11:00:00\n",
      "2022-10-05 18:48:37,476 - simulator - INFO - Info for rank 0, Date = 2020-05-24 11:00:00, number of deaths =  0, number of infected = 227\n",
      "2022-10-05 18:48:37,653 - rank - INFO - Rank 0 -- interaction -- 0.1824815539875999\n",
      "2022-10-05 18:48:37,666 - tracker - INFO - Rank 0 -- tracking contacts -- 500 of 3267 of type shelter\n",
      "2022-10-05 18:48:38,088 - tracker - INFO - Rank 0 -- tracking contacts -- 115 of 115 of type communal\n",
      "2022-10-05 18:48:38,111 - tracker - INFO - Rank 0 -- tracking contacts -- 21 of 21 of type distribution_center\n",
      "2022-10-05 18:48:38,135 - tracker - INFO - Rank 0 -- tracking contacts -- 7 of 7 of type e_voucher\n",
      "2022-10-05 18:48:38,149 - tracker - INFO - Rank 0 -- tracking contacts -- 67 of 67 of type female_communal\n",
      "2022-10-05 18:48:38,195 - tracker - INFO - Rank 0 -- tracking contacts -- 80 of 80 of type informal_work\n",
      "2022-10-05 18:48:38,281 - tracker - INFO - Rank 0 -- tracking contacts -- 41 of 41 of type n_f_distribution_center\n",
      "2022-10-05 18:48:38,329 - tracker - INFO - Rank 0 -- tracking contacts -- 500 of 536 of type play_group\n",
      "2022-10-05 18:48:38,640 - tracker - INFO - Rank 0 -- tracking contacts -- 82 of 82 of type pump_latrine\n",
      "2022-10-05 18:48:40,538 - tracker - INFO - Rank 0 -- tracking contacts -- 500 of 2065 of type religious\n",
      "2022-10-05 18:48:40,755 - tracker - INFO - Rank 0 -- tracking contacts -- 8 of 8 of type hospital\n",
      "2022-10-05 18:48:40,764 - tracker - INFO - Rank 0 -- tracking contacts -- 8 of 8 of type isolation_unit\n",
      "2022-10-05 18:48:40,766 - tracker - INFO - Rank 0 -- tracking contacts -- 389 of 389 of type learning_center\n",
      "2022-10-05 18:48:41,618 - rank - INFO - Rank 0 -- tracker -- 3.963700679014437\n",
      "2022-10-05 18:48:41,621 - epidemiology - INFO - CMS: Infection COMS-v2 for rank 0/1(2)0.00020842900266870856,0.00020813941955566406 - 2020-05-24 11:00:00\n",
      "2022-10-05 18:48:41,650 - rank - INFO - Rank 0 -- interaction_waiting -- 5.793990567326546e-06\n",
      "2022-10-05 18:48:41,663 - simulator - INFO - CMS: Timestep for rank 0/1 - 5.709075638034847,5.709076404571533 - 2020-05-24 11:00:00\n",
      "\n",
      "2022-10-05 18:48:41,664 - rank - INFO - Next timestep\n",
      "2022-10-05 18:48:41,665 - simulator - INFO - ==================== timestep ====================\n",
      "2022-10-05 18:48:42,354 - rank - INFO - Rank 0 -- move_people -- 0.6886395329493098\n",
      "2022-10-05 18:48:42,355 - rank - INFO - Rank 0 -- move_people_waiting -- 6.471003871411085e-06\n",
      "2022-10-05 18:48:42,355 - activity_manager - INFO - CMS: People COMS for rank 0/1 - 3.0500232242047787e-06,2.86102294921875e-06 - 2020-05-24 13:00:00\n",
      "2022-10-05 18:48:42,360 - simulator - INFO - Info for rank 0, Date = 2020-05-24 13:00:00, number of deaths =  0, number of infected = 233\n",
      "2022-10-05 18:48:42,487 - rank - INFO - Rank 0 -- interaction -- 0.1306222720304504\n",
      "2022-10-05 18:48:42,494 - tracker - INFO - Rank 0 -- tracking contacts -- 500 of 3267 of type shelter\n",
      "2022-10-05 18:48:42,882 - tracker - INFO - Rank 0 -- tracking contacts -- 115 of 115 of type communal\n",
      "2022-10-05 18:48:42,904 - tracker - INFO - Rank 0 -- tracking contacts -- 21 of 21 of type distribution_center\n",
      "2022-10-05 18:48:42,925 - tracker - INFO - Rank 0 -- tracking contacts -- 7 of 7 of type e_voucher\n",
      "2022-10-05 18:48:42,936 - tracker - INFO - Rank 0 -- tracking contacts -- 67 of 67 of type female_communal\n",
      "2022-10-05 18:48:42,974 - tracker - INFO - Rank 0 -- tracking contacts -- 80 of 80 of type informal_work\n",
      "2022-10-05 18:48:43,046 - tracker - INFO - Rank 0 -- tracking contacts -- 41 of 41 of type n_f_distribution_center\n",
      "2022-10-05 18:48:43,099 - tracker - INFO - Rank 0 -- tracking contacts -- 500 of 536 of type play_group\n",
      "2022-10-05 18:48:43,414 - tracker - INFO - Rank 0 -- tracking contacts -- 82 of 82 of type pump_latrine\n",
      "2022-10-05 18:48:45,235 - tracker - INFO - Rank 0 -- tracking contacts -- 500 of 2065 of type religious\n",
      "2022-10-05 18:48:45,502 - tracker - INFO - Rank 0 -- tracking contacts -- 8 of 8 of type hospital\n",
      "2022-10-05 18:48:45,516 - tracker - INFO - Rank 0 -- tracking contacts -- 8 of 8 of type isolation_unit\n",
      "2022-10-05 18:48:45,519 - tracker - INFO - Rank 0 -- tracking contacts -- 389 of 389 of type learning_center\n",
      "2022-10-05 18:48:46,518 - rank - INFO - Rank 0 -- tracker -- 4.030749624012969\n",
      "2022-10-05 18:48:46,524 - epidemiology - INFO - CMS: Infection COMS-v2 for rank 0/1(2)0.000745509983971715,0.0007450580596923828 - 2020-05-24 13:00:00\n",
      "2022-10-05 18:48:46,559 - rank - INFO - Rank 0 -- interaction_waiting -- 6.499991286545992e-06\n",
      "2022-10-05 18:48:46,573 - simulator - INFO - CMS: Timestep for rank 0/1 - 4.908142346015666,4.908143520355225 - 2020-05-24 13:00:00\n",
      "\n",
      "2022-10-05 18:48:46,575 - rank - INFO - Next timestep\n",
      "2022-10-05 18:48:46,575 - simulator - INFO - ==================== timestep ====================\n",
      "2022-10-05 18:48:47,653 - rank - INFO - Rank 0 -- move_people -- 1.0766875609988347\n",
      "2022-10-05 18:48:47,654 - rank - INFO - Rank 0 -- move_people_waiting -- 8.908042218536139e-06\n",
      "2022-10-05 18:48:47,654 - activity_manager - INFO - CMS: People COMS for rank 0/1 - 3.9450242184102535e-06,3.5762786865234375e-06 - 2020-05-24 15:00:00\n"
     ]
    },
    {
     "name": "stdout",
     "output_type": "stream",
     "text": [
      "2022-10-05 18:48:47,661 - simulator - INFO - Info for rank 0, Date = 2020-05-24 15:00:00, number of deaths =  0, number of infected = 237\n",
      "2022-10-05 18:48:47,809 - rank - INFO - Rank 0 -- interaction -- 0.1535764919826761\n",
      "2022-10-05 18:48:47,818 - tracker - INFO - Rank 0 -- tracking contacts -- 500 of 3267 of type shelter\n",
      "2022-10-05 18:48:48,291 - tracker - INFO - Rank 0 -- tracking contacts -- 115 of 115 of type communal\n",
      "2022-10-05 18:48:48,325 - tracker - INFO - Rank 0 -- tracking contacts -- 21 of 21 of type distribution_center\n",
      "2022-10-05 18:48:48,359 - tracker - INFO - Rank 0 -- tracking contacts -- 7 of 7 of type e_voucher\n",
      "2022-10-05 18:48:48,373 - tracker - INFO - Rank 0 -- tracking contacts -- 67 of 67 of type female_communal\n",
      "2022-10-05 18:48:48,426 - tracker - INFO - Rank 0 -- tracking contacts -- 80 of 80 of type informal_work\n",
      "2022-10-05 18:48:48,530 - tracker - INFO - Rank 0 -- tracking contacts -- 41 of 41 of type n_f_distribution_center\n",
      "2022-10-05 18:48:48,597 - tracker - INFO - Rank 0 -- tracking contacts -- 500 of 536 of type play_group\n",
      "2022-10-05 18:48:48,959 - tracker - INFO - Rank 0 -- tracking contacts -- 82 of 82 of type pump_latrine\n",
      "2022-10-05 18:48:51,223 - tracker - INFO - Rank 0 -- tracking contacts -- 500 of 2065 of type religious\n",
      "2022-10-05 18:48:51,512 - tracker - INFO - Rank 0 -- tracking contacts -- 8 of 8 of type hospital\n",
      "2022-10-05 18:48:51,526 - tracker - INFO - Rank 0 -- tracking contacts -- 8 of 8 of type isolation_unit\n",
      "2022-10-05 18:48:51,528 - tracker - INFO - Rank 0 -- tracking contacts -- 389 of 389 of type learning_center\n",
      "2022-10-05 18:48:52,603 - rank - INFO - Rank 0 -- tracker -- 4.791342261014506\n",
      "2022-10-05 18:48:52,609 - epidemiology - INFO - CMS: Infection COMS-v2 for rank 0/1(2)0.0008976099779829383,0.0008990764617919922 - 2020-05-24 15:00:00\n",
      "2022-10-05 18:48:52,660 - rank - INFO - Rank 0 -- interaction_waiting -- 1.2418022379279137e-05\n",
      "2022-10-05 18:48:52,681 - simulator - INFO - CMS: Timestep for rank 0/1 - 6.1046989330207,6.104700088500977 - 2020-05-24 15:00:00\n",
      "\n",
      "2022-10-05 18:48:52,682 - rank - INFO - Next timestep\n",
      "2022-10-05 18:48:52,683 - simulator - INFO - ==================== timestep ====================\n",
      "2022-10-05 18:48:53,588 - rank - INFO - Rank 0 -- move_people -- 0.9035749009926803\n",
      "2022-10-05 18:48:53,589 - rank - INFO - Rank 0 -- move_people_waiting -- 8.7380176410079e-06\n",
      "2022-10-05 18:48:53,589 - activity_manager - INFO - CMS: People COMS for rank 0/1 - 4.009983967989683e-06,3.5762786865234375e-06 - 2020-05-24 17:00:00\n",
      "2022-10-05 18:48:53,596 - simulator - INFO - Info for rank 0, Date = 2020-05-24 17:00:00, number of deaths =  0, number of infected = 242\n",
      "2022-10-05 18:48:53,746 - rank - INFO - Rank 0 -- interaction -- 0.15590728598181158\n",
      "2022-10-05 18:48:53,756 - tracker - INFO - Rank 0 -- tracking contacts -- 500 of 3267 of type shelter\n",
      "2022-10-05 18:48:54,339 - tracker - INFO - Rank 0 -- tracking contacts -- 115 of 115 of type communal\n",
      "2022-10-05 18:48:54,342 - tracker - INFO - Rank 0 -- tracking contacts -- 21 of 21 of type distribution_center\n",
      "2022-10-05 18:48:54,372 - tracker - INFO - Rank 0 -- tracking contacts -- 7 of 7 of type e_voucher\n",
      "2022-10-05 18:48:54,396 - tracker - INFO - Rank 0 -- tracking contacts -- 67 of 67 of type female_communal\n",
      "2022-10-05 18:48:54,399 - tracker - INFO - Rank 0 -- tracking contacts -- 80 of 80 of type informal_work\n",
      "2022-10-05 18:48:54,504 - tracker - INFO - Rank 0 -- tracking contacts -- 41 of 41 of type n_f_distribution_center\n",
      "2022-10-05 18:48:54,592 - tracker - INFO - Rank 0 -- tracking contacts -- 500 of 536 of type play_group\n",
      "2022-10-05 18:48:54,984 - tracker - INFO - Rank 0 -- tracking contacts -- 82 of 82 of type pump_latrine\n",
      "2022-10-05 18:48:57,495 - tracker - INFO - Rank 0 -- tracking contacts -- 500 of 2065 of type religious\n",
      "2022-10-05 18:48:57,813 - tracker - INFO - Rank 0 -- tracking contacts -- 8 of 8 of type hospital\n",
      "2022-10-05 18:48:57,814 - tracker - INFO - Rank 0 -- tracking contacts -- 8 of 8 of type isolation_unit\n",
      "2022-10-05 18:48:57,816 - tracker - INFO - Rank 0 -- tracking contacts -- 389 of 389 of type learning_center\n",
      "2022-10-05 18:48:57,831 - rank - INFO - Rank 0 -- tracker -- 4.083954318950418\n",
      "2022-10-05 18:48:57,837 - epidemiology - INFO - CMS: Infection COMS-v2 for rank 0/1(2)0.0005232240073382854,0.0005221366882324219 - 2020-05-24 17:00:00\n",
      "2022-10-05 18:48:57,890 - rank - INFO - Rank 0 -- interaction_waiting -- 7.755006663501263e-06\n",
      "2022-10-05 18:48:57,912 - simulator - INFO - CMS: Timestep for rank 0/1 - 5.22756428696448,5.227565050125122 - 2020-05-24 17:00:00\n",
      "\n",
      "2022-10-05 18:48:57,913 - rank - INFO - Next timestep\n",
      "2022-10-05 18:48:57,915 - simulator - INFO - ==================== timestep ====================\n",
      "2022-10-05 18:48:58,144 - rank - INFO - Rank 0 -- move_people -- 0.22756724496139213\n",
      "2022-10-05 18:48:58,145 - rank - INFO - Rank 0 -- move_people_waiting -- 8.682021871209145e-06\n",
      "2022-10-05 18:48:58,146 - activity_manager - INFO - CMS: People COMS for rank 0/1 - 3.8019497878849506e-06,3.0994415283203125e-06 - 2020-05-24 19:00:00\n",
      "2022-10-05 18:48:58,154 - simulator - INFO - Info for rank 0, Date = 2020-05-24 19:00:00, number of deaths =  0, number of infected = 248\n",
      "2022-10-05 18:48:58,290 - rank - INFO - Rank 0 -- interaction -- 0.14335199201013893\n",
      "2022-10-05 18:48:58,303 - tracker - INFO - Rank 0 -- tracking contacts -- 500 of 3267 of type shelter\n",
      "2022-10-05 18:48:59,565 - tracker - INFO - Rank 0 -- tracking contacts -- 115 of 115 of type communal\n",
      "2022-10-05 18:48:59,567 - tracker - INFO - Rank 0 -- tracking contacts -- 21 of 21 of type distribution_center\n",
      "2022-10-05 18:48:59,570 - tracker - INFO - Rank 0 -- tracking contacts -- 7 of 7 of type e_voucher\n",
      "2022-10-05 18:48:59,572 - tracker - INFO - Rank 0 -- tracking contacts -- 67 of 67 of type female_communal\n",
      "2022-10-05 18:48:59,575 - tracker - INFO - Rank 0 -- tracking contacts -- 80 of 80 of type informal_work\n",
      "2022-10-05 18:48:59,579 - tracker - INFO - Rank 0 -- tracking contacts -- 41 of 41 of type n_f_distribution_center\n",
      "2022-10-05 18:48:59,582 - tracker - INFO - Rank 0 -- tracking contacts -- 500 of 536 of type play_group\n",
      "2022-10-05 18:48:59,591 - tracker - INFO - Rank 0 -- tracking contacts -- 82 of 82 of type pump_latrine\n",
      "2022-10-05 18:48:59,604 - tracker - INFO - Rank 0 -- tracking contacts -- 500 of 2065 of type religious\n",
      "2022-10-05 18:48:59,612 - tracker - INFO - Rank 0 -- tracking contacts -- 8 of 8 of type hospital\n",
      "2022-10-05 18:48:59,613 - tracker - INFO - Rank 0 -- tracking contacts -- 8 of 8 of type isolation_unit\n",
      "2022-10-05 18:48:59,615 - tracker - INFO - Rank 0 -- tracking contacts -- 389 of 389 of type learning_center\n",
      "2022-10-05 18:48:59,625 - rank - INFO - Rank 0 -- tracker -- 1.3335679559968412\n",
      "2022-10-05 18:48:59,650 - epidemiology - INFO - CMS: Infection COMS-v2 for rank 0/1(2)0.0002244909992441535,0.0002238750457763672 - 2020-05-24 19:00:00\n",
      "2022-10-05 18:48:59,694 - rank - INFO - Rank 0 -- interaction_waiting -- 9.158975444734097e-06\n",
      "2022-10-05 18:48:59,714 - simulator - INFO - CMS: Timestep for rank 0/1 - 1.7982025729725137,1.798203468322754 - 2020-05-24 19:00:00\n",
      "\n",
      "2022-10-05 18:48:59,717 - rank - INFO - Next timestep\n",
      "2022-10-05 18:48:59,718 - simulator - INFO - ==================== timestep ====================\n",
      "2022-10-05 18:48:59,937 - rank - INFO - Rank 0 -- move_people -- 0.21805364300962538\n",
      "2022-10-05 18:48:59,938 - rank - INFO - Rank 0 -- move_people_waiting -- 7.300986908376217e-06\n",
      "2022-10-05 18:48:59,939 - activity_manager - INFO - CMS: People COMS for rank 0/1 - 5.452020559459925e-06,5.0067901611328125e-06 - 2020-05-25 09:00:00\n",
      "2022-10-05 18:48:59,947 - simulator - INFO - Info for rank 0, Date = 2020-05-25 09:00:00, number of deaths =  0, number of infected = 285\n",
      "2022-10-05 18:49:00,046 - rank - INFO - Rank 0 -- interaction -- 0.10618036502273753\n",
      "2022-10-05 18:49:06,266 - tracker - INFO - Rank 0 -- tracking contacts -- 500 of 3267 of type shelter\n",
      "2022-10-05 18:49:07,063 - tracker - INFO - Rank 0 -- tracking contacts -- 115 of 115 of type communal\n",
      "2022-10-05 18:49:07,067 - tracker - INFO - Rank 0 -- tracking contacts -- 21 of 21 of type distribution_center\n",
      "2022-10-05 18:49:07,068 - tracker - INFO - Rank 0 -- tracking contacts -- 7 of 7 of type e_voucher\n"
     ]
    },
    {
     "name": "stdout",
     "output_type": "stream",
     "text": [
      "2022-10-05 18:49:07,070 - tracker - INFO - Rank 0 -- tracking contacts -- 67 of 67 of type female_communal\n",
      "2022-10-05 18:49:07,072 - tracker - INFO - Rank 0 -- tracking contacts -- 80 of 80 of type informal_work\n",
      "2022-10-05 18:49:07,075 - tracker - INFO - Rank 0 -- tracking contacts -- 41 of 41 of type n_f_distribution_center\n",
      "2022-10-05 18:49:07,078 - tracker - INFO - Rank 0 -- tracking contacts -- 500 of 536 of type play_group\n",
      "2022-10-05 18:49:07,087 - tracker - INFO - Rank 0 -- tracking contacts -- 82 of 82 of type pump_latrine\n",
      "2022-10-05 18:49:07,102 - tracker - INFO - Rank 0 -- tracking contacts -- 500 of 2065 of type religious\n",
      "2022-10-05 18:49:07,113 - tracker - INFO - Rank 0 -- tracking contacts -- 8 of 8 of type hospital\n",
      "2022-10-05 18:49:07,123 - tracker - INFO - Rank 0 -- tracking contacts -- 8 of 8 of type isolation_unit\n",
      "2022-10-05 18:49:07,125 - tracker - INFO - Rank 0 -- tracking contacts -- 389 of 389 of type learning_center\n",
      "2022-10-05 18:49:07,995 - rank - INFO - Rank 0 -- tracker -- 7.946955774037633\n",
      "2022-10-05 18:49:08,000 - epidemiology - INFO - CMS: Infection COMS-v2 for rank 0/1(2)0.00071416498394683,0.0007135868072509766 - 2020-05-25 09:00:00\n",
      "2022-10-05 18:49:08,031 - rank - INFO - Rank 0 -- interaction_waiting -- 5.504000000655651e-06\n",
      "2022-10-05 18:49:08,044 - simulator - INFO - CMS: Timestep for rank 0/1 - 8.324813252023887,8.324814081192017 - 2020-05-25 09:00:00\n",
      "\n",
      "2022-10-05 18:49:08,047 - rank - INFO - Next timestep\n",
      "2022-10-05 18:49:08,048 - simulator - INFO - ==================== timestep ====================\n",
      "2022-10-05 18:49:08,973 - rank - INFO - Rank 0 -- move_people -- 0.9247758400160819\n",
      "2022-10-05 18:49:08,974 - rank - INFO - Rank 0 -- move_people_waiting -- 1.0171032045036554e-05\n",
      "2022-10-05 18:49:08,975 - activity_manager - INFO - CMS: People COMS for rank 0/1 - 3.95200913771987e-06,3.5762786865234375e-06 - 2020-05-25 11:00:00\n",
      "2022-10-05 18:49:08,983 - simulator - INFO - Info for rank 0, Date = 2020-05-25 11:00:00, number of deaths =  0, number of infected = 292\n",
      "2022-10-05 18:49:09,130 - rank - INFO - Rank 0 -- interaction -- 0.1529266420402564\n",
      "2022-10-05 18:49:10,364 - tracker - INFO - Rank 0 -- tracking contacts -- 500 of 3267 of type shelter\n",
      "2022-10-05 18:49:10,855 - tracker - INFO - Rank 0 -- tracking contacts -- 115 of 115 of type communal\n",
      "2022-10-05 18:49:10,883 - tracker - INFO - Rank 0 -- tracking contacts -- 21 of 21 of type distribution_center\n",
      "2022-10-05 18:49:10,907 - tracker - INFO - Rank 0 -- tracking contacts -- 7 of 7 of type e_voucher\n",
      "2022-10-05 18:49:10,923 - tracker - INFO - Rank 0 -- tracking contacts -- 67 of 67 of type female_communal\n",
      "2022-10-05 18:49:10,973 - tracker - INFO - Rank 0 -- tracking contacts -- 80 of 80 of type informal_work\n",
      "2022-10-05 18:49:11,058 - tracker - INFO - Rank 0 -- tracking contacts -- 41 of 41 of type n_f_distribution_center\n",
      "2022-10-05 18:49:11,117 - tracker - INFO - Rank 0 -- tracking contacts -- 500 of 536 of type play_group\n",
      "2022-10-05 18:49:11,432 - tracker - INFO - Rank 0 -- tracking contacts -- 82 of 82 of type pump_latrine\n",
      "2022-10-05 18:49:13,483 - tracker - INFO - Rank 0 -- tracking contacts -- 500 of 2065 of type religious\n",
      "2022-10-05 18:49:13,729 - tracker - INFO - Rank 0 -- tracking contacts -- 8 of 8 of type hospital\n",
      "2022-10-05 18:49:13,739 - tracker - INFO - Rank 0 -- tracking contacts -- 8 of 8 of type isolation_unit\n",
      "2022-10-05 18:49:13,741 - tracker - INFO - Rank 0 -- tracking contacts -- 389 of 389 of type learning_center\n",
      "2022-10-05 18:49:14,702 - rank - INFO - Rank 0 -- tracker -- 5.5703005159739405\n",
      "2022-10-05 18:49:14,709 - epidemiology - INFO - CMS: Infection COMS-v2 for rank 0/1(2)0.0003157900064252317,0.00031495094299316406 - 2020-05-25 11:00:00\n",
      "2022-10-05 18:49:14,752 - rank - INFO - Rank 0 -- interaction_waiting -- 6.4390478655695915e-06\n",
      "2022-10-05 18:49:14,770 - simulator - INFO - CMS: Timestep for rank 0/1 - 6.721327325038146,6.721328496932983 - 2020-05-25 11:00:00\n",
      "\n",
      "2022-10-05 18:49:14,773 - rank - INFO - Next timestep\n",
      "2022-10-05 18:49:14,774 - simulator - INFO - ==================== timestep ====================\n",
      "2022-10-05 18:49:15,768 - rank - INFO - Rank 0 -- move_people -- 0.9925872159656137\n",
      "2022-10-05 18:49:15,769 - rank - INFO - Rank 0 -- move_people_waiting -- 7.572001777589321e-06\n",
      "2022-10-05 18:49:15,770 - activity_manager - INFO - CMS: People COMS for rank 0/1 - 4.836998414248228e-06,4.291534423828125e-06 - 2020-05-25 13:00:00\n",
      "2022-10-05 18:49:15,777 - simulator - INFO - Info for rank 0, Date = 2020-05-25 13:00:00, number of deaths =  0, number of infected = 300\n",
      "2022-10-05 18:49:15,925 - rank - INFO - Rank 0 -- interaction -- 0.15424377500312403\n",
      "2022-10-05 18:49:18,969 - tracker - INFO - Rank 0 -- tracking contacts -- 500 of 3267 of type shelter\n",
      "2022-10-05 18:49:19,404 - tracker - INFO - Rank 0 -- tracking contacts -- 115 of 115 of type communal\n",
      "2022-10-05 18:49:19,437 - tracker - INFO - Rank 0 -- tracking contacts -- 21 of 21 of type distribution_center\n",
      "2022-10-05 18:49:19,468 - tracker - INFO - Rank 0 -- tracking contacts -- 7 of 7 of type e_voucher\n",
      "2022-10-05 18:49:19,481 - tracker - INFO - Rank 0 -- tracking contacts -- 67 of 67 of type female_communal\n",
      "2022-10-05 18:49:19,524 - tracker - INFO - Rank 0 -- tracking contacts -- 80 of 80 of type informal_work\n",
      "2022-10-05 18:49:19,608 - tracker - INFO - Rank 0 -- tracking contacts -- 41 of 41 of type n_f_distribution_center\n",
      "2022-10-05 18:49:19,653 - tracker - INFO - Rank 0 -- tracking contacts -- 500 of 536 of type play_group\n",
      "2022-10-05 18:49:19,965 - tracker - INFO - Rank 0 -- tracking contacts -- 82 of 82 of type pump_latrine\n",
      "2022-10-05 18:49:22,881 - tracker - INFO - Rank 0 -- tracking contacts -- 500 of 2065 of type religious\n",
      "2022-10-05 18:49:23,214 - tracker - INFO - Rank 0 -- tracking contacts -- 8 of 8 of type hospital\n",
      "2022-10-05 18:49:23,225 - tracker - INFO - Rank 0 -- tracking contacts -- 8 of 8 of type isolation_unit\n",
      "2022-10-05 18:49:23,227 - tracker - INFO - Rank 0 -- tracking contacts -- 389 of 389 of type learning_center\n",
      "2022-10-05 18:49:24,479 - rank - INFO - Rank 0 -- tracker -- 8.55156429699855\n",
      "2022-10-05 18:49:24,484 - epidemiology - INFO - CMS: Infection COMS-v2 for rank 0/1(2)0.002186065015848726,0.0021860599517822266 - 2020-05-25 13:00:00\n",
      "2022-10-05 18:49:24,523 - rank - INFO - Rank 0 -- interaction_waiting -- 7.027003448456526e-06\n",
      "2022-10-05 18:49:24,541 - simulator - INFO - CMS: Timestep for rank 0/1 - 9.765743641997688,9.76574420928955 - 2020-05-25 13:00:00\n",
      "\n",
      "2022-10-05 18:49:24,544 - rank - INFO - Next timestep\n",
      "2022-10-05 18:49:24,545 - simulator - INFO - ==================== timestep ====================\n",
      "2022-10-05 18:49:25,476 - rank - INFO - Rank 0 -- move_people -- 0.929834934999235\n",
      "2022-10-05 18:49:25,477 - rank - INFO - Rank 0 -- move_people_waiting -- 9.064038749784231e-06\n",
      "2022-10-05 18:49:25,478 - activity_manager - INFO - CMS: People COMS for rank 0/1 - 4.024012014269829e-06,3.814697265625e-06 - 2020-05-25 15:00:00\n",
      "2022-10-05 18:49:25,489 - simulator - INFO - Info for rank 0, Date = 2020-05-25 15:00:00, number of deaths =  0, number of infected = 303\n",
      "2022-10-05 18:49:25,705 - rank - INFO - Rank 0 -- interaction -- 0.2243389500072226\n",
      "2022-10-05 18:49:30,148 - tracker - INFO - Rank 0 -- tracking contacts -- 500 of 3267 of type shelter\n",
      "2022-10-05 18:49:30,563 - tracker - INFO - Rank 0 -- tracking contacts -- 115 of 115 of type communal\n",
      "2022-10-05 18:49:30,606 - tracker - INFO - Rank 0 -- tracking contacts -- 21 of 21 of type distribution_center\n",
      "2022-10-05 18:49:30,652 - tracker - INFO - Rank 0 -- tracking contacts -- 7 of 7 of type e_voucher\n",
      "2022-10-05 18:49:30,666 - tracker - INFO - Rank 0 -- tracking contacts -- 67 of 67 of type female_communal\n",
      "2022-10-05 18:49:30,710 - tracker - INFO - Rank 0 -- tracking contacts -- 80 of 80 of type informal_work\n",
      "2022-10-05 18:49:30,791 - tracker - INFO - Rank 0 -- tracking contacts -- 41 of 41 of type n_f_distribution_center\n",
      "2022-10-05 18:49:30,832 - tracker - INFO - Rank 0 -- tracking contacts -- 500 of 536 of type play_group\n",
      "2022-10-05 18:49:31,139 - tracker - INFO - Rank 0 -- tracking contacts -- 82 of 82 of type pump_latrine\n",
      "2022-10-05 18:49:33,019 - tracker - INFO - Rank 0 -- tracking contacts -- 500 of 2065 of type religious\n"
     ]
    },
    {
     "name": "stdout",
     "output_type": "stream",
     "text": [
      "2022-10-05 18:49:33,243 - tracker - INFO - Rank 0 -- tracking contacts -- 8 of 8 of type hospital\n",
      "2022-10-05 18:49:33,254 - tracker - INFO - Rank 0 -- tracking contacts -- 8 of 8 of type isolation_unit\n",
      "2022-10-05 18:49:33,255 - tracker - INFO - Rank 0 -- tracking contacts -- 389 of 389 of type learning_center\n",
      "2022-10-05 18:49:34,214 - rank - INFO - Rank 0 -- tracker -- 8.508267669996712\n",
      "2022-10-05 18:49:34,225 - epidemiology - INFO - CMS: Infection COMS-v2 for rank 0/1(2)0.00046727596782147884,0.0004668235778808594 - 2020-05-25 15:00:00\n",
      "2022-10-05 18:49:34,259 - rank - INFO - Rank 0 -- interaction_waiting -- 6.076996214687824e-06\n",
      "2022-10-05 18:49:34,273 - simulator - INFO - CMS: Timestep for rank 0/1 - 9.726571144012269,9.726572036743164 - 2020-05-25 15:00:00\n",
      "\n",
      "2022-10-05 18:49:34,275 - rank - INFO - Next timestep\n",
      "2022-10-05 18:49:34,276 - simulator - INFO - ==================== timestep ====================\n",
      "2022-10-05 18:49:35,305 - rank - INFO - Rank 0 -- move_people -- 1.0280706290504895\n",
      "2022-10-05 18:49:35,306 - rank - INFO - Rank 0 -- move_people_waiting -- 8.289003744721413e-06\n",
      "2022-10-05 18:49:35,307 - activity_manager - INFO - CMS: People COMS for rank 0/1 - 3.493041731417179e-06,3.337860107421875e-06 - 2020-05-25 17:00:00\n",
      "2022-10-05 18:49:35,313 - simulator - INFO - Info for rank 0, Date = 2020-05-25 17:00:00, number of deaths =  0, number of infected = 317\n",
      "2022-10-05 18:49:35,500 - rank - INFO - Rank 0 -- interaction -- 0.1921080350293778\n",
      "2022-10-05 18:49:41,217 - tracker - INFO - Rank 0 -- tracking contacts -- 500 of 3267 of type shelter\n",
      "2022-10-05 18:49:41,770 - tracker - INFO - Rank 0 -- tracking contacts -- 115 of 115 of type communal\n",
      "2022-10-05 18:49:41,774 - tracker - INFO - Rank 0 -- tracking contacts -- 21 of 21 of type distribution_center\n",
      "2022-10-05 18:49:41,808 - tracker - INFO - Rank 0 -- tracking contacts -- 7 of 7 of type e_voucher\n",
      "2022-10-05 18:49:41,824 - tracker - INFO - Rank 0 -- tracking contacts -- 67 of 67 of type female_communal\n",
      "2022-10-05 18:49:41,828 - tracker - INFO - Rank 0 -- tracking contacts -- 80 of 80 of type informal_work\n",
      "2022-10-05 18:49:41,966 - tracker - INFO - Rank 0 -- tracking contacts -- 41 of 41 of type n_f_distribution_center\n",
      "2022-10-05 18:49:42,046 - tracker - INFO - Rank 0 -- tracking contacts -- 500 of 536 of type play_group\n",
      "2022-10-05 18:49:42,584 - tracker - INFO - Rank 0 -- tracking contacts -- 82 of 82 of type pump_latrine\n",
      "2022-10-05 18:49:45,023 - tracker - INFO - Rank 0 -- tracking contacts -- 500 of 2065 of type religious\n",
      "2022-10-05 18:49:45,315 - tracker - INFO - Rank 0 -- tracking contacts -- 8 of 8 of type hospital\n",
      "2022-10-05 18:49:45,316 - tracker - INFO - Rank 0 -- tracking contacts -- 8 of 8 of type isolation_unit\n",
      "2022-10-05 18:49:45,319 - tracker - INFO - Rank 0 -- tracking contacts -- 389 of 389 of type learning_center\n",
      "2022-10-05 18:49:45,334 - rank - INFO - Rank 0 -- tracker -- 9.832589355006348\n",
      "2022-10-05 18:49:45,343 - epidemiology - INFO - CMS: Infection COMS-v2 for rank 0/1(2)0.0004834209685213864,0.00048279762268066406 - 2020-05-25 17:00:00\n",
      "2022-10-05 18:49:45,397 - rank - INFO - Rank 0 -- interaction_waiting -- 7.800001185387373e-06\n",
      "2022-10-05 18:49:45,414 - simulator - INFO - CMS: Timestep for rank 0/1 - 11.137018088018522,11.137019395828247 - 2020-05-25 17:00:00\n",
      "\n",
      "2022-10-05 18:49:45,417 - rank - INFO - Next timestep\n",
      "2022-10-05 18:49:45,418 - simulator - INFO - ==================== timestep ====================\n",
      "2022-10-05 18:49:45,618 - rank - INFO - Rank 0 -- move_people -- 0.19919725699583068\n",
      "2022-10-05 18:49:45,620 - rank - INFO - Rank 0 -- move_people_waiting -- 5.146954208612442e-06\n",
      "2022-10-05 18:49:45,622 - activity_manager - INFO - CMS: People COMS for rank 0/1 - 4.69299266114831e-06,4.0531158447265625e-06 - 2020-05-25 19:00:00\n",
      "2022-10-05 18:49:45,631 - simulator - INFO - Info for rank 0, Date = 2020-05-25 19:00:00, number of deaths =  0, number of infected = 328\n",
      "2022-10-05 18:49:45,767 - rank - INFO - Rank 0 -- interaction -- 0.14375296904472634\n",
      "2022-10-05 18:49:52,405 - tracker - INFO - Rank 0 -- tracking contacts -- 500 of 3267 of type shelter\n",
      "2022-10-05 18:49:53,649 - tracker - INFO - Rank 0 -- tracking contacts -- 115 of 115 of type communal\n",
      "2022-10-05 18:49:53,653 - tracker - INFO - Rank 0 -- tracking contacts -- 21 of 21 of type distribution_center\n",
      "2022-10-05 18:49:53,655 - tracker - INFO - Rank 0 -- tracking contacts -- 7 of 7 of type e_voucher\n",
      "2022-10-05 18:49:53,656 - tracker - INFO - Rank 0 -- tracking contacts -- 67 of 67 of type female_communal\n",
      "2022-10-05 18:49:53,659 - tracker - INFO - Rank 0 -- tracking contacts -- 80 of 80 of type informal_work\n",
      "2022-10-05 18:49:53,663 - tracker - INFO - Rank 0 -- tracking contacts -- 41 of 41 of type n_f_distribution_center\n",
      "2022-10-05 18:49:53,667 - tracker - INFO - Rank 0 -- tracking contacts -- 500 of 536 of type play_group\n",
      "2022-10-05 18:49:53,682 - tracker - INFO - Rank 0 -- tracking contacts -- 82 of 82 of type pump_latrine\n",
      "2022-10-05 18:49:53,699 - tracker - INFO - Rank 0 -- tracking contacts -- 500 of 2065 of type religious\n",
      "2022-10-05 18:49:53,711 - tracker - INFO - Rank 0 -- tracking contacts -- 8 of 8 of type hospital\n",
      "2022-10-05 18:49:53,713 - tracker - INFO - Rank 0 -- tracking contacts -- 8 of 8 of type isolation_unit\n",
      "2022-10-05 18:49:53,715 - tracker - INFO - Rank 0 -- tracking contacts -- 389 of 389 of type learning_center\n",
      "2022-10-05 18:49:53,729 - rank - INFO - Rank 0 -- tracker -- 7.960893614974339\n",
      "2022-10-05 18:49:53,763 - epidemiology - INFO - CMS: Infection COMS-v2 for rank 0/1(2)0.00041109498124569654,0.0004107952117919922 - 2020-05-25 19:00:00\n",
      "2022-10-05 18:49:54,061 - rank - INFO - Rank 0 -- interaction_waiting -- 7.4499985203146935e-06\n",
      "2022-10-05 18:49:54,078 - simulator - INFO - CMS: Timestep for rank 0/1 - 8.658537866955157,8.658538341522217 - 2020-05-25 19:00:00\n",
      "\n",
      "2022-10-05 18:49:54,081 - rank - INFO - Next timestep\n",
      "2022-10-05 18:49:54,084 - simulator - INFO - ==================== timestep ====================\n",
      "2022-10-05 18:49:54,285 - rank - INFO - Rank 0 -- move_people -- 0.20022547099506482\n",
      "2022-10-05 18:49:54,286 - rank - INFO - Rank 0 -- move_people_waiting -- 8.353963494300842e-06\n",
      "2022-10-05 18:49:54,287 - activity_manager - INFO - CMS: People COMS for rank 0/1 - 4.490022547543049e-06,4.0531158447265625e-06 - 2020-05-26 09:00:00\n",
      "2022-10-05 18:49:54,293 - simulator - INFO - Info for rank 0, Date = 2020-05-26 09:00:00, number of deaths =  0, number of infected = 380\n",
      "2022-10-05 18:49:54,380 - rank - INFO - Rank 0 -- interaction -- 0.092303253011778\n",
      "2022-10-05 18:50:01,662 - tracker - INFO - Rank 0 -- tracking contacts -- 500 of 3267 of type shelter\n",
      "2022-10-05 18:50:02,582 - tracker - INFO - Rank 0 -- tracking contacts -- 115 of 115 of type communal\n",
      "2022-10-05 18:50:02,587 - tracker - INFO - Rank 0 -- tracking contacts -- 21 of 21 of type distribution_center\n",
      "2022-10-05 18:50:02,589 - tracker - INFO - Rank 0 -- tracking contacts -- 7 of 7 of type e_voucher\n",
      "2022-10-05 18:50:02,591 - tracker - INFO - Rank 0 -- tracking contacts -- 67 of 67 of type female_communal\n",
      "2022-10-05 18:50:02,594 - tracker - INFO - Rank 0 -- tracking contacts -- 80 of 80 of type informal_work\n",
      "2022-10-05 18:50:02,598 - tracker - INFO - Rank 0 -- tracking contacts -- 41 of 41 of type n_f_distribution_center\n",
      "2022-10-05 18:50:02,602 - tracker - INFO - Rank 0 -- tracking contacts -- 500 of 536 of type play_group\n",
      "2022-10-05 18:50:02,616 - tracker - INFO - Rank 0 -- tracking contacts -- 82 of 82 of type pump_latrine\n",
      "2022-10-05 18:50:02,630 - tracker - INFO - Rank 0 -- tracking contacts -- 500 of 2065 of type religious\n",
      "2022-10-05 18:50:02,641 - tracker - INFO - Rank 0 -- tracking contacts -- 8 of 8 of type hospital\n",
      "2022-10-05 18:50:02,654 - tracker - INFO - Rank 0 -- tracking contacts -- 8 of 8 of type isolation_unit\n",
      "2022-10-05 18:50:02,656 - tracker - INFO - Rank 0 -- tracking contacts -- 389 of 389 of type learning_center\n",
      "2022-10-05 18:50:03,849 - rank - INFO - Rank 0 -- tracker -- 9.467955091968179\n",
      "2022-10-05 18:50:03,854 - epidemiology - INFO - CMS: Infection COMS-v2 for rank 0/1(2)0.0008256910368800163,0.0008254051208496094 - 2020-05-26 09:00:00\n",
      "2022-10-05 18:50:03,892 - rank - INFO - Rank 0 -- interaction_waiting -- 7.502036169171333e-06\n"
     ]
    },
    {
     "name": "stdout",
     "output_type": "stream",
     "text": [
      "2022-10-05 18:50:03,907 - simulator - INFO - CMS: Timestep for rank 0/1 - 9.82236902200384,9.822369575500488 - 2020-05-26 09:00:00\n",
      "\n",
      "2022-10-05 18:50:03,910 - rank - INFO - Next timestep\n",
      "2022-10-05 18:50:03,911 - simulator - INFO - ==================== timestep ====================\n",
      "2022-10-05 18:50:04,942 - rank - INFO - Rank 0 -- move_people -- 1.0293593530077487\n",
      "2022-10-05 18:50:04,944 - rank - INFO - Rank 0 -- move_people_waiting -- 4.2530009523034096e-06\n",
      "2022-10-05 18:50:04,945 - activity_manager - INFO - CMS: People COMS for rank 0/1 - 4.018016625195742e-06,3.5762786865234375e-06 - 2020-05-26 11:00:00\n",
      "2022-10-05 18:50:04,951 - simulator - INFO - Info for rank 0, Date = 2020-05-26 11:00:00, number of deaths =  0, number of infected = 387\n",
      "2022-10-05 18:50:05,106 - rank - INFO - Rank 0 -- interaction -- 0.15994318900629878\n",
      "2022-10-05 18:50:06,408 - tracker - INFO - Rank 0 -- tracking contacts -- 500 of 3267 of type shelter\n",
      "2022-10-05 18:50:06,891 - tracker - INFO - Rank 0 -- tracking contacts -- 115 of 115 of type communal\n",
      "2022-10-05 18:50:06,929 - tracker - INFO - Rank 0 -- tracking contacts -- 21 of 21 of type distribution_center\n",
      "2022-10-05 18:50:06,964 - tracker - INFO - Rank 0 -- tracking contacts -- 7 of 7 of type e_voucher\n",
      "2022-10-05 18:50:06,983 - tracker - INFO - Rank 0 -- tracking contacts -- 67 of 67 of type female_communal\n",
      "2022-10-05 18:50:07,030 - tracker - INFO - Rank 0 -- tracking contacts -- 80 of 80 of type informal_work\n",
      "2022-10-05 18:50:07,124 - tracker - INFO - Rank 0 -- tracking contacts -- 41 of 41 of type n_f_distribution_center\n",
      "2022-10-05 18:50:07,175 - tracker - INFO - Rank 0 -- tracking contacts -- 500 of 536 of type play_group\n",
      "2022-10-05 18:50:07,478 - tracker - INFO - Rank 0 -- tracking contacts -- 82 of 82 of type pump_latrine\n",
      "2022-10-05 18:50:09,608 - tracker - INFO - Rank 0 -- tracking contacts -- 500 of 2065 of type religious\n",
      "2022-10-05 18:50:09,838 - tracker - INFO - Rank 0 -- tracking contacts -- 8 of 8 of type hospital\n",
      "2022-10-05 18:50:09,850 - tracker - INFO - Rank 0 -- tracking contacts -- 8 of 8 of type isolation_unit\n",
      "2022-10-05 18:50:09,852 - tracker - INFO - Rank 0 -- tracking contacts -- 389 of 389 of type learning_center\n",
      "2022-10-05 18:50:10,859 - rank - INFO - Rank 0 -- tracker -- 5.752602328022476\n",
      "2022-10-05 18:50:10,866 - epidemiology - INFO - CMS: Infection COMS-v2 for rank 0/1(2)0.00023525801952928305,0.0002346038818359375 - 2020-05-26 11:00:00\n",
      "2022-10-05 18:50:10,903 - rank - INFO - Rank 0 -- interaction_waiting -- 7.284048479050398e-06\n",
      "2022-10-05 18:50:10,917 - simulator - INFO - CMS: Timestep for rank 0/1 - 7.004893628007267,7.004894733428955 - 2020-05-26 11:00:00\n",
      "\n",
      "2022-10-05 18:50:10,919 - rank - INFO - Next timestep\n",
      "2022-10-05 18:50:10,921 - simulator - INFO - ==================== timestep ====================\n",
      "2022-10-05 18:50:11,954 - rank - INFO - Rank 0 -- move_people -- 1.0326836860040203\n",
      "2022-10-05 18:50:11,955 - rank - INFO - Rank 0 -- move_people_waiting -- 7.110997103154659e-06\n",
      "2022-10-05 18:50:11,956 - activity_manager - INFO - CMS: People COMS for rank 0/1 - 3.744964487850666e-06,3.5762786865234375e-06 - 2020-05-26 13:00:00\n",
      "2022-10-05 18:50:11,966 - simulator - INFO - Info for rank 0, Date = 2020-05-26 13:00:00, number of deaths =  0, number of infected = 401\n",
      "2022-10-05 18:50:12,155 - rank - INFO - Rank 0 -- interaction -- 0.1966323850210756\n",
      "2022-10-05 18:50:15,205 - tracker - INFO - Rank 0 -- tracking contacts -- 500 of 3267 of type shelter\n",
      "2022-10-05 18:50:15,661 - tracker - INFO - Rank 0 -- tracking contacts -- 115 of 115 of type communal\n",
      "2022-10-05 18:50:15,701 - tracker - INFO - Rank 0 -- tracking contacts -- 21 of 21 of type distribution_center\n",
      "2022-10-05 18:50:15,738 - tracker - INFO - Rank 0 -- tracking contacts -- 7 of 7 of type e_voucher\n",
      "2022-10-05 18:50:15,758 - tracker - INFO - Rank 0 -- tracking contacts -- 67 of 67 of type female_communal\n",
      "2022-10-05 18:50:15,827 - tracker - INFO - Rank 0 -- tracking contacts -- 80 of 80 of type informal_work\n",
      "2022-10-05 18:50:15,917 - tracker - INFO - Rank 0 -- tracking contacts -- 41 of 41 of type n_f_distribution_center\n",
      "2022-10-05 18:50:15,967 - tracker - INFO - Rank 0 -- tracking contacts -- 500 of 536 of type play_group\n",
      "2022-10-05 18:50:16,297 - tracker - INFO - Rank 0 -- tracking contacts -- 82 of 82 of type pump_latrine\n",
      "2022-10-05 18:50:18,320 - tracker - INFO - Rank 0 -- tracking contacts -- 500 of 2065 of type religious\n",
      "2022-10-05 18:50:18,531 - tracker - INFO - Rank 0 -- tracking contacts -- 8 of 8 of type hospital\n",
      "2022-10-05 18:50:18,543 - tracker - INFO - Rank 0 -- tracking contacts -- 8 of 8 of type isolation_unit\n",
      "2022-10-05 18:50:18,544 - tracker - INFO - Rank 0 -- tracking contacts -- 389 of 389 of type learning_center\n",
      "2022-10-05 18:50:19,362 - rank - INFO - Rank 0 -- tracker -- 7.206262235995382\n",
      "2022-10-05 18:50:19,370 - epidemiology - INFO - CMS: Infection COMS-v2 for rank 0/1(2)0.0002754319575615227,0.00027489662170410156 - 2020-05-26 13:00:00\n",
      "2022-10-05 18:50:19,398 - rank - INFO - Rank 0 -- interaction_waiting -- 6.488000508397818e-06\n",
      "2022-10-05 18:50:19,410 - simulator - INFO - CMS: Timestep for rank 0/1 - 8.488752070988994,8.488753318786621 - 2020-05-26 13:00:00\n",
      "\n",
      "2022-10-05 18:50:19,412 - rank - INFO - Next timestep\n",
      "2022-10-05 18:50:19,413 - simulator - INFO - ==================== timestep ====================\n",
      "2022-10-05 18:50:20,134 - rank - INFO - Rank 0 -- move_people -- 0.7199132370296866\n",
      "2022-10-05 18:50:20,135 - rank - INFO - Rank 0 -- move_people_waiting -- 7.121008820831776e-06\n",
      "2022-10-05 18:50:20,135 - activity_manager - INFO - CMS: People COMS for rank 0/1 - 3.4229597076773643e-06,3.0994415283203125e-06 - 2020-05-26 15:00:00\n",
      "2022-10-05 18:50:20,140 - simulator - INFO - Info for rank 0, Date = 2020-05-26 15:00:00, number of deaths =  0, number of infected = 420\n",
      "2022-10-05 18:50:20,272 - rank - INFO - Rank 0 -- interaction -- 0.13588640099624172\n",
      "2022-10-05 18:50:23,826 - tracker - INFO - Rank 0 -- tracking contacts -- 500 of 3267 of type shelter\n",
      "2022-10-05 18:50:24,252 - tracker - INFO - Rank 0 -- tracking contacts -- 115 of 115 of type communal\n",
      "2022-10-05 18:50:24,279 - tracker - INFO - Rank 0 -- tracking contacts -- 21 of 21 of type distribution_center\n",
      "2022-10-05 18:50:24,305 - tracker - INFO - Rank 0 -- tracking contacts -- 7 of 7 of type e_voucher\n",
      "2022-10-05 18:50:24,322 - tracker - INFO - Rank 0 -- tracking contacts -- 67 of 67 of type female_communal\n",
      "2022-10-05 18:50:24,364 - tracker - INFO - Rank 0 -- tracking contacts -- 80 of 80 of type informal_work\n",
      "2022-10-05 18:50:24,466 - tracker - INFO - Rank 0 -- tracking contacts -- 41 of 41 of type n_f_distribution_center\n",
      "2022-10-05 18:50:24,524 - tracker - INFO - Rank 0 -- tracking contacts -- 500 of 536 of type play_group\n",
      "2022-10-05 18:50:24,859 - tracker - INFO - Rank 0 -- tracking contacts -- 82 of 82 of type pump_latrine\n",
      "2022-10-05 18:50:26,931 - tracker - INFO - Rank 0 -- tracking contacts -- 500 of 2065 of type religious\n",
      "2022-10-05 18:50:27,169 - tracker - INFO - Rank 0 -- tracking contacts -- 8 of 8 of type hospital\n",
      "2022-10-05 18:50:27,180 - tracker - INFO - Rank 0 -- tracking contacts -- 8 of 8 of type isolation_unit\n",
      "2022-10-05 18:50:27,182 - tracker - INFO - Rank 0 -- tracking contacts -- 389 of 389 of type learning_center\n",
      "2022-10-05 18:50:28,185 - rank - INFO - Rank 0 -- tracker -- 7.912283511948772\n",
      "2022-10-05 18:50:28,195 - epidemiology - INFO - CMS: Infection COMS-v2 for rank 0/1(2)0.00024075101828202605,0.00024008750915527344 - 2020-05-26 15:00:00\n",
      "2022-10-05 18:50:28,234 - rank - INFO - Rank 0 -- interaction_waiting -- 6.68596476316452e-06\n",
      "2022-10-05 18:50:28,249 - simulator - INFO - CMS: Timestep for rank 0/1 - 8.835151934006717,8.835153341293335 - 2020-05-26 15:00:00\n",
      "\n",
      "2022-10-05 18:50:28,252 - rank - INFO - Next timestep\n",
      "2022-10-05 18:50:28,253 - simulator - INFO - ==================== timestep ====================\n",
      "2022-10-05 18:50:29,282 - rank - INFO - Rank 0 -- move_people -- 1.0278405249700882\n",
      "2022-10-05 18:50:29,283 - rank - INFO - Rank 0 -- move_people_waiting -- 6.999995093792677e-06\n",
      "2022-10-05 18:50:29,284 - activity_manager - INFO - CMS: People COMS for rank 0/1 - 5.382986273616552e-06,5.245208740234375e-06 - 2020-05-26 17:00:00\n"
     ]
    },
    {
     "name": "stdout",
     "output_type": "stream",
     "text": [
      "2022-10-05 18:50:29,290 - simulator - INFO - Info for rank 0, Date = 2020-05-26 17:00:00, number of deaths =  0, number of infected = 440\n",
      "2022-10-05 18:50:29,461 - rank - INFO - Rank 0 -- interaction -- 0.17586112901335582\n",
      "2022-10-05 18:50:35,402 - tracker - INFO - Rank 0 -- tracking contacts -- 500 of 3267 of type shelter\n",
      "2022-10-05 18:50:35,896 - tracker - INFO - Rank 0 -- tracking contacts -- 115 of 115 of type communal\n",
      "2022-10-05 18:50:35,898 - tracker - INFO - Rank 0 -- tracking contacts -- 21 of 21 of type distribution_center\n",
      "2022-10-05 18:50:35,929 - tracker - INFO - Rank 0 -- tracking contacts -- 7 of 7 of type e_voucher\n",
      "2022-10-05 18:50:35,948 - tracker - INFO - Rank 0 -- tracking contacts -- 67 of 67 of type female_communal\n",
      "2022-10-05 18:50:35,951 - tracker - INFO - Rank 0 -- tracking contacts -- 80 of 80 of type informal_work\n",
      "2022-10-05 18:50:36,074 - tracker - INFO - Rank 0 -- tracking contacts -- 41 of 41 of type n_f_distribution_center\n",
      "2022-10-05 18:50:36,130 - tracker - INFO - Rank 0 -- tracking contacts -- 500 of 536 of type play_group\n",
      "2022-10-05 18:50:36,496 - tracker - INFO - Rank 0 -- tracking contacts -- 82 of 82 of type pump_latrine\n",
      "2022-10-05 18:50:39,086 - tracker - INFO - Rank 0 -- tracking contacts -- 500 of 2065 of type religious\n",
      "2022-10-05 18:50:39,372 - tracker - INFO - Rank 0 -- tracking contacts -- 8 of 8 of type hospital\n",
      "2022-10-05 18:50:39,373 - tracker - INFO - Rank 0 -- tracking contacts -- 8 of 8 of type isolation_unit\n",
      "2022-10-05 18:50:39,375 - tracker - INFO - Rank 0 -- tracking contacts -- 389 of 389 of type learning_center\n",
      "2022-10-05 18:50:39,385 - rank - INFO - Rank 0 -- tracker -- 9.923036947962828\n",
      "2022-10-05 18:50:39,393 - epidemiology - INFO - CMS: Infection COMS-v2 for rank 0/1(2)0.0004633940407074988,0.00046253204345703125 - 2020-05-26 17:00:00\n",
      "2022-10-05 18:50:39,435 - rank - INFO - Rank 0 -- interaction_waiting -- 7.433001883327961e-06\n",
      "2022-10-05 18:50:39,451 - simulator - INFO - CMS: Timestep for rank 0/1 - 11.196490890986752,11.196491718292236 - 2020-05-26 17:00:00\n",
      "\n",
      "2022-10-05 18:50:39,454 - rank - INFO - Next timestep\n",
      "2022-10-05 18:50:39,455 - simulator - INFO - ==================== timestep ====================\n",
      "2022-10-05 18:50:39,640 - rank - INFO - Rank 0 -- move_people -- 0.18415338802151382\n",
      "2022-10-05 18:50:39,641 - rank - INFO - Rank 0 -- move_people_waiting -- 3.787048626691103e-06\n",
      "2022-10-05 18:50:39,642 - activity_manager - INFO - CMS: People COMS for rank 0/1 - 3.923021722584963e-06,3.337860107421875e-06 - 2020-05-26 19:00:00\n",
      "2022-10-05 18:50:39,647 - simulator - INFO - Info for rank 0, Date = 2020-05-26 19:00:00, number of deaths =  0, number of infected = 453\n",
      "2022-10-05 18:50:39,744 - rank - INFO - Rank 0 -- interaction -- 0.10083386895712465\n",
      "2022-10-05 18:50:45,051 - tracker - INFO - Rank 0 -- tracking contacts -- 500 of 3267 of type shelter\n",
      "2022-10-05 18:50:46,034 - tracker - INFO - Rank 0 -- tracking contacts -- 115 of 115 of type communal\n",
      "2022-10-05 18:50:46,040 - tracker - INFO - Rank 0 -- tracking contacts -- 21 of 21 of type distribution_center\n",
      "2022-10-05 18:50:46,042 - tracker - INFO - Rank 0 -- tracking contacts -- 7 of 7 of type e_voucher\n",
      "2022-10-05 18:50:46,044 - tracker - INFO - Rank 0 -- tracking contacts -- 67 of 67 of type female_communal\n",
      "2022-10-05 18:50:46,047 - tracker - INFO - Rank 0 -- tracking contacts -- 80 of 80 of type informal_work\n",
      "2022-10-05 18:50:46,050 - tracker - INFO - Rank 0 -- tracking contacts -- 41 of 41 of type n_f_distribution_center\n",
      "2022-10-05 18:50:46,054 - tracker - INFO - Rank 0 -- tracking contacts -- 500 of 536 of type play_group\n",
      "2022-10-05 18:50:46,067 - tracker - INFO - Rank 0 -- tracking contacts -- 82 of 82 of type pump_latrine\n",
      "2022-10-05 18:50:46,085 - tracker - INFO - Rank 0 -- tracking contacts -- 500 of 2065 of type religious\n",
      "2022-10-05 18:50:46,097 - tracker - INFO - Rank 0 -- tracking contacts -- 8 of 8 of type hospital\n",
      "2022-10-05 18:50:46,098 - tracker - INFO - Rank 0 -- tracking contacts -- 8 of 8 of type isolation_unit\n",
      "2022-10-05 18:50:46,100 - tracker - INFO - Rank 0 -- tracking contacts -- 389 of 389 of type learning_center\n",
      "2022-10-05 18:50:46,109 - rank - INFO - Rank 0 -- tracker -- 6.364500276977196\n",
      "2022-10-05 18:50:46,160 - epidemiology - INFO - CMS: Infection COMS-v2 for rank 0/1(2)0.0004035410238429904,0.00040340423583984375 - 2020-05-26 19:00:00\n",
      "2022-10-05 18:50:46,206 - rank - INFO - Rank 0 -- interaction_waiting -- 7.0899841375648975e-06\n",
      "2022-10-05 18:50:46,223 - simulator - INFO - CMS: Timestep for rank 0/1 - 6.767602366046049,6.767602443695068 - 2020-05-26 19:00:00\n",
      "\n",
      "2022-10-05 18:50:46,226 - rank - INFO - Next timestep\n",
      "2022-10-05 18:50:46,227 - simulator - INFO - ==================== timestep ====================\n",
      "2022-10-05 18:50:46,456 - rank - INFO - Rank 0 -- move_people -- 0.2279415699886158\n",
      "2022-10-05 18:50:46,456 - rank - INFO - Rank 0 -- move_people_waiting -- 1.0225980076938868e-05\n",
      "2022-10-05 18:50:46,458 - activity_manager - INFO - CMS: People COMS for rank 0/1 - 5.511974450200796e-06,5.0067901611328125e-06 - 2020-05-27 09:00:00\n",
      "2022-10-05 18:50:46,466 - simulator - INFO - Info for rank 0, Date = 2020-05-27 09:00:00, number of deaths =  0, number of infected = 529\n",
      "2022-10-05 18:50:46,567 - rank - INFO - Rank 0 -- interaction -- 0.10798924200935289\n",
      "2022-10-05 18:50:53,139 - tracker - INFO - Rank 0 -- tracking contacts -- 500 of 3267 of type shelter\n",
      "2022-10-05 18:50:54,028 - tracker - INFO - Rank 0 -- tracking contacts -- 115 of 115 of type communal\n",
      "2022-10-05 18:50:54,032 - tracker - INFO - Rank 0 -- tracking contacts -- 21 of 21 of type distribution_center\n",
      "2022-10-05 18:50:54,034 - tracker - INFO - Rank 0 -- tracking contacts -- 7 of 7 of type e_voucher\n",
      "2022-10-05 18:50:54,035 - tracker - INFO - Rank 0 -- tracking contacts -- 67 of 67 of type female_communal\n",
      "2022-10-05 18:50:54,039 - tracker - INFO - Rank 0 -- tracking contacts -- 80 of 80 of type informal_work\n",
      "2022-10-05 18:50:54,042 - tracker - INFO - Rank 0 -- tracking contacts -- 41 of 41 of type n_f_distribution_center\n",
      "2022-10-05 18:50:54,046 - tracker - INFO - Rank 0 -- tracking contacts -- 500 of 536 of type play_group\n",
      "2022-10-05 18:50:54,056 - tracker - INFO - Rank 0 -- tracking contacts -- 82 of 82 of type pump_latrine\n",
      "2022-10-05 18:50:54,069 - tracker - INFO - Rank 0 -- tracking contacts -- 500 of 2065 of type religious\n",
      "2022-10-05 18:50:54,080 - tracker - INFO - Rank 0 -- tracking contacts -- 8 of 8 of type hospital\n",
      "2022-10-05 18:50:54,091 - tracker - INFO - Rank 0 -- tracking contacts -- 8 of 8 of type isolation_unit\n",
      "2022-10-05 18:50:54,093 - tracker - INFO - Rank 0 -- tracking contacts -- 389 of 389 of type learning_center\n",
      "2022-10-05 18:50:55,052 - rank - INFO - Rank 0 -- tracker -- 8.484595964953769\n",
      "2022-10-05 18:50:55,062 - epidemiology - INFO - CMS: Infection COMS-v2 for rank 0/1(2)0.0006562320049852133,0.0006558895111083984 - 2020-05-27 09:00:00\n",
      "2022-10-05 18:50:55,111 - rank - INFO - Rank 0 -- interaction_waiting -- 7.660011760890484e-06\n",
      "2022-10-05 18:50:55,131 - simulator - INFO - CMS: Timestep for rank 0/1 - 8.903633514011744,8.903634548187256 - 2020-05-27 09:00:00\n",
      "\n",
      "2022-10-05 18:50:55,134 - rank - INFO - Next timestep\n",
      "2022-10-05 18:50:55,135 - simulator - INFO - ==================== timestep ====================\n",
      "2022-10-05 18:50:55,979 - rank - INFO - Rank 0 -- move_people -- 0.8435496860183775\n",
      "2022-10-05 18:50:55,980 - rank - INFO - Rank 0 -- move_people_waiting -- 9.278999641537666e-06\n",
      "2022-10-05 18:50:55,981 - activity_manager - INFO - CMS: People COMS for rank 0/1 - 4.191009793430567e-06,3.814697265625e-06 - 2020-05-27 11:00:00\n",
      "2022-10-05 18:50:55,989 - simulator - INFO - Info for rank 0, Date = 2020-05-27 11:00:00, number of deaths =  0, number of infected = 542\n",
      "2022-10-05 18:50:56,182 - rank - INFO - Rank 0 -- interaction -- 0.19932488503400236\n",
      "2022-10-05 18:50:57,332 - tracker - INFO - Rank 0 -- tracking contacts -- 500 of 3267 of type shelter\n",
      "2022-10-05 18:50:57,825 - tracker - INFO - Rank 0 -- tracking contacts -- 115 of 115 of type communal\n",
      "2022-10-05 18:50:57,847 - tracker - INFO - Rank 0 -- tracking contacts -- 21 of 21 of type distribution_center\n",
      "2022-10-05 18:50:57,882 - tracker - INFO - Rank 0 -- tracking contacts -- 7 of 7 of type e_voucher\n"
     ]
    },
    {
     "name": "stdout",
     "output_type": "stream",
     "text": [
      "2022-10-05 18:50:57,896 - tracker - INFO - Rank 0 -- tracking contacts -- 67 of 67 of type female_communal\n",
      "2022-10-05 18:50:57,950 - tracker - INFO - Rank 0 -- tracking contacts -- 80 of 80 of type informal_work\n",
      "2022-10-05 18:50:58,034 - tracker - INFO - Rank 0 -- tracking contacts -- 41 of 41 of type n_f_distribution_center\n",
      "2022-10-05 18:50:58,110 - tracker - INFO - Rank 0 -- tracking contacts -- 500 of 536 of type play_group\n",
      "2022-10-05 18:50:58,401 - tracker - INFO - Rank 0 -- tracking contacts -- 82 of 82 of type pump_latrine\n",
      "2022-10-05 18:51:00,472 - tracker - INFO - Rank 0 -- tracking contacts -- 500 of 2065 of type religious\n",
      "2022-10-05 18:51:00,707 - tracker - INFO - Rank 0 -- tracking contacts -- 8 of 8 of type hospital\n",
      "2022-10-05 18:51:00,718 - tracker - INFO - Rank 0 -- tracking contacts -- 8 of 8 of type isolation_unit\n",
      "2022-10-05 18:51:00,720 - tracker - INFO - Rank 0 -- tracking contacts -- 389 of 389 of type learning_center\n",
      "2022-10-05 18:51:01,754 - rank - INFO - Rank 0 -- tracker -- 5.571172736003064\n",
      "2022-10-05 18:51:01,766 - epidemiology - INFO - CMS: Infection COMS-v2 for rank 0/1(2)0.0006074320408515632,0.0006072521209716797 - 2020-05-27 11:00:00\n",
      "2022-10-05 18:51:01,803 - rank - INFO - Rank 0 -- interaction_waiting -- 6.979971658438444e-06\n",
      "2022-10-05 18:51:01,817 - simulator - INFO - CMS: Timestep for rank 0/1 - 6.6809687510249205,6.680969715118408 - 2020-05-27 11:00:00\n",
      "\n",
      "2022-10-05 18:51:01,819 - rank - INFO - Next timestep\n",
      "2022-10-05 18:51:01,820 - simulator - INFO - ==================== timestep ====================\n",
      "2022-10-05 18:51:02,758 - rank - INFO - Rank 0 -- move_people -- 0.9366228340077214\n",
      "2022-10-05 18:51:02,759 - rank - INFO - Rank 0 -- move_people_waiting -- 8.728995453566313e-06\n",
      "2022-10-05 18:51:02,760 - activity_manager - INFO - CMS: People COMS for rank 0/1 - 4.785018973052502e-06,4.5299530029296875e-06 - 2020-05-27 13:00:00\n",
      "2022-10-05 18:51:02,766 - simulator - INFO - Info for rank 0, Date = 2020-05-27 13:00:00, number of deaths =  0, number of infected = 561\n",
      "2022-10-05 18:51:02,942 - rank - INFO - Rank 0 -- interaction -- 0.1807727020350285\n",
      "2022-10-05 18:51:06,209 - tracker - INFO - Rank 0 -- tracking contacts -- 500 of 3267 of type shelter\n",
      "2022-10-05 18:51:06,610 - tracker - INFO - Rank 0 -- tracking contacts -- 115 of 115 of type communal\n",
      "2022-10-05 18:51:06,631 - tracker - INFO - Rank 0 -- tracking contacts -- 21 of 21 of type distribution_center\n",
      "2022-10-05 18:51:06,651 - tracker - INFO - Rank 0 -- tracking contacts -- 7 of 7 of type e_voucher\n",
      "2022-10-05 18:51:06,661 - tracker - INFO - Rank 0 -- tracking contacts -- 67 of 67 of type female_communal\n",
      "2022-10-05 18:51:06,711 - tracker - INFO - Rank 0 -- tracking contacts -- 80 of 80 of type informal_work\n",
      "2022-10-05 18:51:06,792 - tracker - INFO - Rank 0 -- tracking contacts -- 41 of 41 of type n_f_distribution_center\n",
      "2022-10-05 18:51:06,852 - tracker - INFO - Rank 0 -- tracking contacts -- 500 of 536 of type play_group\n",
      "2022-10-05 18:51:07,167 - tracker - INFO - Rank 0 -- tracking contacts -- 82 of 82 of type pump_latrine\n",
      "2022-10-05 18:51:09,105 - tracker - INFO - Rank 0 -- tracking contacts -- 500 of 2065 of type religious\n",
      "2022-10-05 18:51:09,320 - tracker - INFO - Rank 0 -- tracking contacts -- 8 of 8 of type hospital\n",
      "2022-10-05 18:51:09,329 - tracker - INFO - Rank 0 -- tracking contacts -- 8 of 8 of type isolation_unit\n",
      "2022-10-05 18:51:09,331 - tracker - INFO - Rank 0 -- tracking contacts -- 389 of 389 of type learning_center\n",
      "2022-10-05 18:51:10,282 - rank - INFO - Rank 0 -- tracker -- 7.339350640017074\n",
      "2022-10-05 18:51:10,293 - epidemiology - INFO - CMS: Infection COMS-v2 for rank 0/1(2)0.0006090740207582712,0.0006084442138671875 - 2020-05-27 13:00:00\n",
      "2022-10-05 18:51:10,327 - rank - INFO - Rank 0 -- interaction_waiting -- 6.276008207350969e-06\n",
      "2022-10-05 18:51:10,341 - simulator - INFO - CMS: Timestep for rank 0/1 - 8.519650275993627,8.519651412963867 - 2020-05-27 13:00:00\n",
      "\n",
      "2022-10-05 18:51:10,343 - rank - INFO - Next timestep\n",
      "2022-10-05 18:51:10,344 - simulator - INFO - ==================== timestep ====================\n",
      "2022-10-05 18:51:11,158 - rank - INFO - Rank 0 -- move_people -- 0.8126888229744509\n",
      "2022-10-05 18:51:11,158 - rank - INFO - Rank 0 -- move_people_waiting -- 7.956987246870995e-06\n",
      "2022-10-05 18:51:11,160 - activity_manager - INFO - CMS: People COMS for rank 0/1 - 4.106026608496904e-06,3.814697265625e-06 - 2020-05-27 15:00:00\n",
      "2022-10-05 18:51:11,167 - simulator - INFO - Info for rank 0, Date = 2020-05-27 15:00:00, number of deaths =  0, number of infected = 583\n",
      "2022-10-05 18:51:11,375 - rank - INFO - Rank 0 -- interaction -- 0.21455824305303395\n",
      "2022-10-05 18:51:15,847 - tracker - INFO - Rank 0 -- tracking contacts -- 500 of 3267 of type shelter\n",
      "2022-10-05 18:51:16,346 - tracker - INFO - Rank 0 -- tracking contacts -- 115 of 115 of type communal\n",
      "2022-10-05 18:51:16,380 - tracker - INFO - Rank 0 -- tracking contacts -- 21 of 21 of type distribution_center\n",
      "2022-10-05 18:51:16,415 - tracker - INFO - Rank 0 -- tracking contacts -- 7 of 7 of type e_voucher\n",
      "2022-10-05 18:51:16,429 - tracker - INFO - Rank 0 -- tracking contacts -- 67 of 67 of type female_communal\n",
      "2022-10-05 18:51:16,494 - tracker - INFO - Rank 0 -- tracking contacts -- 80 of 80 of type informal_work\n",
      "2022-10-05 18:51:16,587 - tracker - INFO - Rank 0 -- tracking contacts -- 41 of 41 of type n_f_distribution_center\n",
      "2022-10-05 18:51:16,650 - tracker - INFO - Rank 0 -- tracking contacts -- 500 of 536 of type play_group\n",
      "2022-10-05 18:51:16,954 - tracker - INFO - Rank 0 -- tracking contacts -- 82 of 82 of type pump_latrine\n",
      "2022-10-05 18:51:19,334 - tracker - INFO - Rank 0 -- tracking contacts -- 500 of 2065 of type religious\n",
      "2022-10-05 18:51:19,616 - tracker - INFO - Rank 0 -- tracking contacts -- 8 of 8 of type hospital\n",
      "2022-10-05 18:51:19,633 - tracker - INFO - Rank 0 -- tracking contacts -- 8 of 8 of type isolation_unit\n",
      "2022-10-05 18:51:19,636 - tracker - INFO - Rank 0 -- tracking contacts -- 389 of 389 of type learning_center\n",
      "2022-10-05 18:51:20,916 - rank - INFO - Rank 0 -- tracker -- 9.540366847999394\n",
      "2022-10-05 18:51:20,935 - epidemiology - INFO - CMS: Infection COMS-v2 for rank 0/1(2)0.0019344669999554753,0.0019345283508300781 - 2020-05-27 15:00:00\n",
      "2022-10-05 18:51:20,994 - rank - INFO - Rank 0 -- interaction_waiting -- 6.927002687007189e-06\n",
      "2022-10-05 18:51:21,019 - simulator - INFO - CMS: Timestep for rank 0/1 - 10.674094755027909,10.674095869064331 - 2020-05-27 15:00:00\n",
      "\n",
      "2022-10-05 18:51:21,023 - rank - INFO - Next timestep\n",
      "2022-10-05 18:51:21,024 - simulator - INFO - ==================== timestep ====================\n",
      "2022-10-05 18:51:22,032 - rank - INFO - Rank 0 -- move_people -- 1.0069640160072595\n",
      "2022-10-05 18:51:22,033 - rank - INFO - Rank 0 -- move_people_waiting -- 7.271009963005781e-06\n",
      "2022-10-05 18:51:22,034 - activity_manager - INFO - CMS: People COMS for rank 0/1 - 5.372974555939436e-06,4.76837158203125e-06 - 2020-05-27 17:00:00\n",
      "2022-10-05 18:51:22,041 - simulator - INFO - Info for rank 0, Date = 2020-05-27 17:00:00, number of deaths =  0, number of infected = 606\n",
      "2022-10-05 18:51:22,254 - rank - INFO - Rank 0 -- interaction -- 0.21954750799341127\n",
      "2022-10-05 18:51:28,455 - tracker - INFO - Rank 0 -- tracking contacts -- 500 of 3267 of type shelter\n",
      "2022-10-05 18:51:29,070 - tracker - INFO - Rank 0 -- tracking contacts -- 115 of 115 of type communal\n",
      "2022-10-05 18:51:29,073 - tracker - INFO - Rank 0 -- tracking contacts -- 21 of 21 of type distribution_center\n",
      "2022-10-05 18:51:29,103 - tracker - INFO - Rank 0 -- tracking contacts -- 7 of 7 of type e_voucher\n",
      "2022-10-05 18:51:29,117 - tracker - INFO - Rank 0 -- tracking contacts -- 67 of 67 of type female_communal\n",
      "2022-10-05 18:51:29,119 - tracker - INFO - Rank 0 -- tracking contacts -- 80 of 80 of type informal_work\n",
      "2022-10-05 18:51:29,232 - tracker - INFO - Rank 0 -- tracking contacts -- 41 of 41 of type n_f_distribution_center\n",
      "2022-10-05 18:51:29,330 - tracker - INFO - Rank 0 -- tracking contacts -- 500 of 536 of type play_group\n",
      "2022-10-05 18:51:29,773 - tracker - INFO - Rank 0 -- tracking contacts -- 82 of 82 of type pump_latrine\n",
      "2022-10-05 18:51:32,549 - tracker - INFO - Rank 0 -- tracking contacts -- 500 of 2065 of type religious\n"
     ]
    },
    {
     "name": "stdout",
     "output_type": "stream",
     "text": [
      "2022-10-05 18:51:32,898 - tracker - INFO - Rank 0 -- tracking contacts -- 8 of 8 of type hospital\n",
      "2022-10-05 18:51:32,899 - tracker - INFO - Rank 0 -- tracking contacts -- 8 of 8 of type isolation_unit\n",
      "2022-10-05 18:51:32,902 - tracker - INFO - Rank 0 -- tracking contacts -- 389 of 389 of type learning_center\n",
      "2022-10-05 18:51:32,917 - rank - INFO - Rank 0 -- tracker -- 10.661966580024455\n",
      "2022-10-05 18:51:32,937 - epidemiology - INFO - CMS: Infection COMS-v2 for rank 0/1(2)0.0011509060277603567,0.0011510848999023438 - 2020-05-27 17:00:00\n",
      "2022-10-05 18:51:32,975 - rank - INFO - Rank 0 -- interaction_waiting -- 6.187008693814278e-06\n",
      "2022-10-05 18:51:32,989 - simulator - INFO - CMS: Timestep for rank 0/1 - 11.964412859000731,11.9644136428833 - 2020-05-27 17:00:00\n",
      "\n",
      "2022-10-05 18:51:32,991 - rank - INFO - Next timestep\n",
      "2022-10-05 18:51:32,992 - simulator - INFO - ==================== timestep ====================\n",
      "2022-10-05 18:51:33,160 - rank - INFO - Rank 0 -- move_people -- 0.1665825149975717\n",
      "2022-10-05 18:51:33,161 - rank - INFO - Rank 0 -- move_people_waiting -- 6.967049557715654e-06\n",
      "2022-10-05 18:51:33,161 - activity_manager - INFO - CMS: People COMS for rank 0/1 - 3.6819837987422943e-06,3.337860107421875e-06 - 2020-05-27 19:00:00\n",
      "2022-10-05 18:51:33,167 - simulator - INFO - Info for rank 0, Date = 2020-05-27 19:00:00, number of deaths =  0, number of infected = 630\n",
      "2022-10-05 18:51:33,265 - rank - INFO - Rank 0 -- interaction -- 0.1029523320030421\n",
      "2022-10-05 18:51:39,217 - tracker - INFO - Rank 0 -- tracking contacts -- 500 of 3267 of type shelter\n",
      "2022-10-05 18:51:40,590 - tracker - INFO - Rank 0 -- tracking contacts -- 115 of 115 of type communal\n",
      "2022-10-05 18:51:40,593 - tracker - INFO - Rank 0 -- tracking contacts -- 21 of 21 of type distribution_center\n",
      "2022-10-05 18:51:40,599 - tracker - INFO - Rank 0 -- tracking contacts -- 7 of 7 of type e_voucher\n",
      "2022-10-05 18:51:40,600 - tracker - INFO - Rank 0 -- tracking contacts -- 67 of 67 of type female_communal\n",
      "2022-10-05 18:51:40,604 - tracker - INFO - Rank 0 -- tracking contacts -- 80 of 80 of type informal_work\n",
      "2022-10-05 18:51:40,608 - tracker - INFO - Rank 0 -- tracking contacts -- 41 of 41 of type n_f_distribution_center\n",
      "2022-10-05 18:51:40,612 - tracker - INFO - Rank 0 -- tracking contacts -- 500 of 536 of type play_group\n",
      "2022-10-05 18:51:40,627 - tracker - INFO - Rank 0 -- tracking contacts -- 82 of 82 of type pump_latrine\n",
      "2022-10-05 18:51:40,645 - tracker - INFO - Rank 0 -- tracking contacts -- 500 of 2065 of type religious\n",
      "2022-10-05 18:51:40,660 - tracker - INFO - Rank 0 -- tracking contacts -- 8 of 8 of type hospital\n",
      "2022-10-05 18:51:40,662 - tracker - INFO - Rank 0 -- tracking contacts -- 8 of 8 of type isolation_unit\n",
      "2022-10-05 18:51:40,665 - tracker - INFO - Rank 0 -- tracking contacts -- 389 of 389 of type learning_center\n",
      "2022-10-05 18:51:40,680 - rank - INFO - Rank 0 -- tracker -- 7.4132048189640045\n",
      "2022-10-05 18:51:40,742 - epidemiology - INFO - CMS: Infection COMS-v2 for rank 0/1(2)0.00032633799128234386,0.00032591819763183594 - 2020-05-27 19:00:00\n",
      "2022-10-05 18:51:40,809 - rank - INFO - Rank 0 -- interaction_waiting -- 1.6974983736872673e-05\n",
      "2022-10-05 18:51:40,827 - simulator - INFO - CMS: Timestep for rank 0/1 - 7.834021729009692,7.834022521972656 - 2020-05-27 19:00:00\n",
      "\n",
      "2022-10-05 18:51:40,830 - rank - INFO - Next timestep\n",
      "2022-10-05 18:51:40,831 - simulator - INFO - ==================== timestep ====================\n",
      "2022-10-05 18:51:41,082 - rank - INFO - Rank 0 -- move_people -- 0.24894099502125755\n",
      "2022-10-05 18:51:41,083 - rank - INFO - Rank 0 -- move_people_waiting -- 1.075398176908493e-05\n",
      "2022-10-05 18:51:41,084 - activity_manager - INFO - CMS: People COMS for rank 0/1 - 7.355993147939444e-06,9.775161743164062e-06 - 2020-05-28 09:00:00\n",
      "2022-10-05 18:51:41,092 - simulator - INFO - Info for rank 0, Date = 2020-05-28 09:00:00, number of deaths =  0, number of infected = 725\n",
      "2022-10-05 18:51:41,244 - rank - INFO - Rank 0 -- interaction -- 0.15860591101227328\n",
      "2022-10-05 18:51:47,820 - tracker - INFO - Rank 0 -- tracking contacts -- 500 of 3267 of type shelter\n",
      "2022-10-05 18:51:48,724 - tracker - INFO - Rank 0 -- tracking contacts -- 115 of 115 of type communal\n",
      "2022-10-05 18:51:48,727 - tracker - INFO - Rank 0 -- tracking contacts -- 21 of 21 of type distribution_center\n",
      "2022-10-05 18:51:48,729 - tracker - INFO - Rank 0 -- tracking contacts -- 7 of 7 of type e_voucher\n",
      "2022-10-05 18:51:48,731 - tracker - INFO - Rank 0 -- tracking contacts -- 67 of 67 of type female_communal\n",
      "2022-10-05 18:51:48,733 - tracker - INFO - Rank 0 -- tracking contacts -- 80 of 80 of type informal_work\n",
      "2022-10-05 18:51:48,737 - tracker - INFO - Rank 0 -- tracking contacts -- 41 of 41 of type n_f_distribution_center\n",
      "2022-10-05 18:51:48,741 - tracker - INFO - Rank 0 -- tracking contacts -- 500 of 536 of type play_group\n",
      "2022-10-05 18:51:48,751 - tracker - INFO - Rank 0 -- tracking contacts -- 82 of 82 of type pump_latrine\n",
      "2022-10-05 18:51:48,767 - tracker - INFO - Rank 0 -- tracking contacts -- 500 of 2065 of type religious\n",
      "2022-10-05 18:51:48,776 - tracker - INFO - Rank 0 -- tracking contacts -- 8 of 8 of type hospital\n",
      "2022-10-05 18:51:48,787 - tracker - INFO - Rank 0 -- tracking contacts -- 8 of 8 of type isolation_unit\n",
      "2022-10-05 18:51:48,789 - tracker - INFO - Rank 0 -- tracking contacts -- 389 of 389 of type learning_center\n",
      "2022-10-05 18:51:49,816 - rank - INFO - Rank 0 -- tracker -- 8.571693990030326\n",
      "2022-10-05 18:51:49,828 - epidemiology - INFO - CMS: Infection COMS-v2 for rank 0/1(2)0.0003523300401866436,0.0003523826599121094 - 2020-05-28 09:00:00\n",
      "2022-10-05 18:51:49,878 - rank - INFO - Rank 0 -- interaction_waiting -- 7.528986316174269e-06\n",
      "2022-10-05 18:51:49,895 - simulator - INFO - CMS: Timestep for rank 0/1 - 9.062388630001806,9.06238865852356 - 2020-05-28 09:00:00\n",
      "\n",
      "2022-10-05 18:51:49,898 - rank - INFO - Next timestep\n",
      "2022-10-05 18:51:49,899 - simulator - INFO - ==================== timestep ====================\n",
      "2022-10-05 18:51:50,753 - rank - INFO - Rank 0 -- move_people -- 0.8531964379944839\n",
      "2022-10-05 18:51:50,754 - rank - INFO - Rank 0 -- move_people_waiting -- 9.165960364043713e-06\n",
      "2022-10-05 18:51:50,756 - activity_manager - INFO - CMS: People COMS for rank 0/1 - 5.228037480264902e-06,4.76837158203125e-06 - 2020-05-28 11:00:00\n",
      "2022-10-05 18:51:50,763 - simulator - INFO - Info for rank 0, Date = 2020-05-28 11:00:00, number of deaths =  0, number of infected = 740\n",
      "2022-10-05 18:51:50,999 - rank - INFO - Rank 0 -- interaction -- 0.24178919498808682\n",
      "2022-10-05 18:51:52,419 - tracker - INFO - Rank 0 -- tracking contacts -- 500 of 3267 of type shelter\n",
      "2022-10-05 18:51:52,984 - tracker - INFO - Rank 0 -- tracking contacts -- 115 of 115 of type communal\n",
      "2022-10-05 18:51:53,023 - tracker - INFO - Rank 0 -- tracking contacts -- 21 of 21 of type distribution_center\n",
      "2022-10-05 18:51:53,073 - tracker - INFO - Rank 0 -- tracking contacts -- 7 of 7 of type e_voucher\n",
      "2022-10-05 18:51:53,094 - tracker - INFO - Rank 0 -- tracking contacts -- 67 of 67 of type female_communal\n",
      "2022-10-05 18:51:53,153 - tracker - INFO - Rank 0 -- tracking contacts -- 80 of 80 of type informal_work\n",
      "2022-10-05 18:51:53,261 - tracker - INFO - Rank 0 -- tracking contacts -- 41 of 41 of type n_f_distribution_center\n",
      "2022-10-05 18:51:53,337 - tracker - INFO - Rank 0 -- tracking contacts -- 500 of 536 of type play_group\n",
      "2022-10-05 18:51:53,716 - tracker - INFO - Rank 0 -- tracking contacts -- 82 of 82 of type pump_latrine\n",
      "2022-10-05 18:51:56,518 - tracker - INFO - Rank 0 -- tracking contacts -- 500 of 2065 of type religious\n",
      "2022-10-05 18:51:56,771 - tracker - INFO - Rank 0 -- tracking contacts -- 8 of 8 of type hospital\n",
      "2022-10-05 18:51:56,782 - tracker - INFO - Rank 0 -- tracking contacts -- 8 of 8 of type isolation_unit\n",
      "2022-10-05 18:51:56,784 - tracker - INFO - Rank 0 -- tracking contacts -- 389 of 389 of type learning_center\n",
      "2022-10-05 18:51:57,900 - rank - INFO - Rank 0 -- tracker -- 6.900897808023728\n",
      "2022-10-05 18:51:57,924 - epidemiology - INFO - CMS: Infection COMS-v2 for rank 0/1(2)0.0008895320352166891,0.0008890628814697266 - 2020-05-28 11:00:00\n",
      "2022-10-05 18:51:57,979 - rank - INFO - Rank 0 -- interaction_waiting -- 6.170012056827545e-06\n"
     ]
    },
    {
     "name": "stdout",
     "output_type": "stream",
     "text": [
      "2022-10-05 18:51:57,994 - simulator - INFO - CMS: Timestep for rank 0/1 - 8.094110272999387,8.094111204147339 - 2020-05-28 11:00:00\n",
      "\n",
      "2022-10-05 18:51:57,997 - rank - INFO - Next timestep\n",
      "2022-10-05 18:51:57,998 - simulator - INFO - ==================== timestep ====================\n",
      "2022-10-05 18:51:59,091 - rank - INFO - Rank 0 -- move_people -- 1.092364064999856\n",
      "2022-10-05 18:51:59,092 - rank - INFO - Rank 0 -- move_people_waiting -- 9.606010280549526e-06\n",
      "2022-10-05 18:51:59,094 - activity_manager - INFO - CMS: People COMS for rank 0/1 - 4.3959589675068855e-06,3.5762786865234375e-06 - 2020-05-28 13:00:00\n",
      "2022-10-05 18:51:59,104 - simulator - INFO - Info for rank 0, Date = 2020-05-28 13:00:00, number of deaths =  0, number of infected = 773\n",
      "2022-10-05 18:51:59,309 - rank - INFO - Rank 0 -- interaction -- 0.21313535800436512\n",
      "2022-10-05 18:52:02,035 - tracker - INFO - Rank 0 -- tracking contacts -- 500 of 3267 of type shelter\n",
      "2022-10-05 18:52:02,526 - tracker - INFO - Rank 0 -- tracking contacts -- 115 of 115 of type communal\n",
      "2022-10-05 18:52:02,565 - tracker - INFO - Rank 0 -- tracking contacts -- 21 of 21 of type distribution_center\n",
      "2022-10-05 18:52:02,607 - tracker - INFO - Rank 0 -- tracking contacts -- 7 of 7 of type e_voucher\n",
      "2022-10-05 18:52:02,623 - tracker - INFO - Rank 0 -- tracking contacts -- 67 of 67 of type female_communal\n",
      "2022-10-05 18:52:02,690 - tracker - INFO - Rank 0 -- tracking contacts -- 80 of 80 of type informal_work\n",
      "2022-10-05 18:52:02,802 - tracker - INFO - Rank 0 -- tracking contacts -- 41 of 41 of type n_f_distribution_center\n",
      "2022-10-05 18:52:02,868 - tracker - INFO - Rank 0 -- tracking contacts -- 500 of 536 of type play_group\n",
      "2022-10-05 18:52:03,141 - tracker - INFO - Rank 0 -- tracking contacts -- 82 of 82 of type pump_latrine\n",
      "2022-10-05 18:52:05,331 - tracker - INFO - Rank 0 -- tracking contacts -- 500 of 2065 of type religious\n",
      "2022-10-05 18:52:05,615 - tracker - INFO - Rank 0 -- tracking contacts -- 8 of 8 of type hospital\n",
      "2022-10-05 18:52:05,629 - tracker - INFO - Rank 0 -- tracking contacts -- 8 of 8 of type isolation_unit\n",
      "2022-10-05 18:52:05,632 - tracker - INFO - Rank 0 -- tracking contacts -- 389 of 389 of type learning_center\n",
      "2022-10-05 18:52:06,968 - rank - INFO - Rank 0 -- tracker -- 7.658718147024047\n",
      "2022-10-05 18:52:06,994 - epidemiology - INFO - CMS: Infection COMS-v2 for rank 0/1(2)0.0003431609948165715,0.0003428459167480469 - 2020-05-28 13:00:00\n",
      "2022-10-05 18:52:07,058 - rank - INFO - Rank 0 -- interaction_waiting -- 7.241964340209961e-06\n",
      "2022-10-05 18:52:07,072 - simulator - INFO - CMS: Timestep for rank 0/1 - 9.072811388992704,9.072812557220459 - 2020-05-28 13:00:00\n",
      "\n",
      "2022-10-05 18:52:07,075 - rank - INFO - Next timestep\n",
      "2022-10-05 18:52:07,076 - simulator - INFO - ==================== timestep ====================\n",
      "2022-10-05 18:52:08,287 - rank - INFO - Rank 0 -- move_people -- 1.2103896049666218\n",
      "2022-10-05 18:52:08,288 - rank - INFO - Rank 0 -- move_people_waiting -- 1.0153977200388908e-05\n",
      "2022-10-05 18:52:08,289 - activity_manager - INFO - CMS: People COMS for rank 0/1 - 4.928966518491507e-06,4.291534423828125e-06 - 2020-05-28 15:00:00\n",
      "2022-10-05 18:52:08,300 - simulator - INFO - Info for rank 0, Date = 2020-05-28 15:00:00, number of deaths =  0, number of infected = 809\n",
      "2022-10-05 18:52:08,589 - rank - INFO - Rank 0 -- interaction -- 0.2962472849758342\n",
      "2022-10-05 18:52:13,981 - tracker - INFO - Rank 0 -- tracking contacts -- 500 of 3267 of type shelter\n",
      "2022-10-05 18:52:14,438 - tracker - INFO - Rank 0 -- tracking contacts -- 115 of 115 of type communal\n",
      "2022-10-05 18:52:14,478 - tracker - INFO - Rank 0 -- tracking contacts -- 21 of 21 of type distribution_center\n",
      "2022-10-05 18:52:14,515 - tracker - INFO - Rank 0 -- tracking contacts -- 7 of 7 of type e_voucher\n",
      "2022-10-05 18:52:14,536 - tracker - INFO - Rank 0 -- tracking contacts -- 67 of 67 of type female_communal\n",
      "2022-10-05 18:52:14,608 - tracker - INFO - Rank 0 -- tracking contacts -- 80 of 80 of type informal_work\n",
      "2022-10-05 18:52:14,754 - tracker - INFO - Rank 0 -- tracking contacts -- 41 of 41 of type n_f_distribution_center\n",
      "2022-10-05 18:52:14,822 - tracker - INFO - Rank 0 -- tracking contacts -- 500 of 536 of type play_group\n",
      "2022-10-05 18:52:15,140 - tracker - INFO - Rank 0 -- tracking contacts -- 82 of 82 of type pump_latrine\n",
      "2022-10-05 18:52:17,388 - tracker - INFO - Rank 0 -- tracking contacts -- 500 of 2065 of type religious\n",
      "2022-10-05 18:52:17,672 - tracker - INFO - Rank 0 -- tracking contacts -- 8 of 8 of type hospital\n",
      "2022-10-05 18:52:17,683 - tracker - INFO - Rank 0 -- tracking contacts -- 8 of 8 of type isolation_unit\n",
      "2022-10-05 18:52:17,685 - tracker - INFO - Rank 0 -- tracking contacts -- 389 of 389 of type learning_center\n",
      "2022-10-05 18:52:18,819 - rank - INFO - Rank 0 -- tracker -- 10.229108696978074\n",
      "2022-10-05 18:52:18,831 - epidemiology - INFO - CMS: Infection COMS-v2 for rank 0/1(2)0.00022882199846208096,0.00022840499877929688 - 2020-05-28 15:00:00\n",
      "2022-10-05 18:52:18,877 - rank - INFO - Rank 0 -- interaction_waiting -- 7.152964826673269e-06\n",
      "2022-10-05 18:52:18,892 - simulator - INFO - CMS: Timestep for rank 0/1 - 11.8157805519877,11.815781831741333 - 2020-05-28 15:00:00\n",
      "\n",
      "2022-10-05 18:52:18,895 - rank - INFO - Next timestep\n",
      "2022-10-05 18:52:18,897 - simulator - INFO - ==================== timestep ====================\n",
      "2022-10-05 18:52:19,742 - rank - INFO - Rank 0 -- move_people -- 0.8440176940057427\n",
      "2022-10-05 18:52:19,743 - rank - INFO - Rank 0 -- move_people_waiting -- 8.49796924740076e-06\n",
      "2022-10-05 18:52:19,743 - activity_manager - INFO - CMS: People COMS for rank 0/1 - 3.8549769669771194e-06,3.5762786865234375e-06 - 2020-05-28 17:00:00\n",
      "2022-10-05 18:52:19,750 - simulator - INFO - Info for rank 0, Date = 2020-05-28 17:00:00, number of deaths =  0, number of infected = 833\n",
      "2022-10-05 18:52:19,936 - rank - INFO - Rank 0 -- interaction -- 0.1916970619931817\n",
      "2022-10-05 18:52:25,584 - tracker - INFO - Rank 0 -- tracking contacts -- 500 of 3267 of type shelter\n",
      "2022-10-05 18:52:26,085 - tracker - INFO - Rank 0 -- tracking contacts -- 115 of 115 of type communal\n",
      "2022-10-05 18:52:26,088 - tracker - INFO - Rank 0 -- tracking contacts -- 21 of 21 of type distribution_center\n",
      "2022-10-05 18:52:26,132 - tracker - INFO - Rank 0 -- tracking contacts -- 7 of 7 of type e_voucher\n",
      "2022-10-05 18:52:26,154 - tracker - INFO - Rank 0 -- tracking contacts -- 67 of 67 of type female_communal\n",
      "2022-10-05 18:52:26,156 - tracker - INFO - Rank 0 -- tracking contacts -- 80 of 80 of type informal_work\n",
      "2022-10-05 18:52:26,261 - tracker - INFO - Rank 0 -- tracking contacts -- 41 of 41 of type n_f_distribution_center\n",
      "2022-10-05 18:52:26,321 - tracker - INFO - Rank 0 -- tracking contacts -- 500 of 536 of type play_group\n",
      "2022-10-05 18:52:26,709 - tracker - INFO - Rank 0 -- tracking contacts -- 82 of 82 of type pump_latrine\n",
      "2022-10-05 18:52:29,135 - tracker - INFO - Rank 0 -- tracking contacts -- 500 of 2065 of type religious\n",
      "2022-10-05 18:52:29,457 - tracker - INFO - Rank 0 -- tracking contacts -- 8 of 8 of type hospital\n",
      "2022-10-05 18:52:29,459 - tracker - INFO - Rank 0 -- tracking contacts -- 8 of 8 of type isolation_unit\n",
      "2022-10-05 18:52:29,462 - tracker - INFO - Rank 0 -- tracking contacts -- 389 of 389 of type learning_center\n",
      "2022-10-05 18:52:29,475 - rank - INFO - Rank 0 -- tracker -- 9.537239059980493\n",
      "2022-10-05 18:52:29,495 - epidemiology - INFO - CMS: Infection COMS-v2 for rank 0/1(2)0.0005551210488192737,0.0005548000335693359 - 2020-05-28 17:00:00\n",
      "2022-10-05 18:52:29,553 - rank - INFO - Rank 0 -- interaction_waiting -- 6.654008757323027e-06\n",
      "2022-10-05 18:52:29,576 - simulator - INFO - CMS: Timestep for rank 0/1 - 10.678071704984177,10.678072929382324 - 2020-05-28 17:00:00\n",
      "\n",
      "2022-10-05 18:52:29,579 - rank - INFO - Next timestep\n",
      "2022-10-05 18:52:29,580 - simulator - INFO - ==================== timestep ====================\n",
      "2022-10-05 18:52:29,864 - rank - INFO - Rank 0 -- move_people -- 0.2824782550451346\n",
      "2022-10-05 18:52:29,865 - rank - INFO - Rank 0 -- move_people_waiting -- 8.796982001513243e-06\n",
      "2022-10-05 18:52:29,866 - activity_manager - INFO - CMS: People COMS for rank 0/1 - 4.475994501262903e-06,3.814697265625e-06 - 2020-05-28 19:00:00\n",
      "2022-10-05 18:52:29,875 - simulator - INFO - Info for rank 0, Date = 2020-05-28 19:00:00, number of deaths =  0, number of infected = 860\n"
     ]
    },
    {
     "name": "stdout",
     "output_type": "stream",
     "text": [
      "2022-10-05 18:52:30,033 - rank - INFO - Rank 0 -- interaction -- 0.16480229899752885\n",
      "2022-10-05 18:52:36,346 - tracker - INFO - Rank 0 -- tracking contacts -- 500 of 3267 of type shelter\n",
      "2022-10-05 18:52:37,582 - tracker - INFO - Rank 0 -- tracking contacts -- 115 of 115 of type communal\n",
      "2022-10-05 18:52:37,587 - tracker - INFO - Rank 0 -- tracking contacts -- 21 of 21 of type distribution_center\n",
      "2022-10-05 18:52:37,589 - tracker - INFO - Rank 0 -- tracking contacts -- 7 of 7 of type e_voucher\n",
      "2022-10-05 18:52:37,591 - tracker - INFO - Rank 0 -- tracking contacts -- 67 of 67 of type female_communal\n",
      "2022-10-05 18:52:37,594 - tracker - INFO - Rank 0 -- tracking contacts -- 80 of 80 of type informal_work\n",
      "2022-10-05 18:52:37,598 - tracker - INFO - Rank 0 -- tracking contacts -- 41 of 41 of type n_f_distribution_center\n",
      "2022-10-05 18:52:37,602 - tracker - INFO - Rank 0 -- tracking contacts -- 500 of 536 of type play_group\n",
      "2022-10-05 18:52:37,621 - tracker - INFO - Rank 0 -- tracking contacts -- 82 of 82 of type pump_latrine\n",
      "2022-10-05 18:52:37,638 - tracker - INFO - Rank 0 -- tracking contacts -- 500 of 2065 of type religious\n",
      "2022-10-05 18:52:37,651 - tracker - INFO - Rank 0 -- tracking contacts -- 8 of 8 of type hospital\n",
      "2022-10-05 18:52:37,652 - tracker - INFO - Rank 0 -- tracking contacts -- 8 of 8 of type isolation_unit\n",
      "2022-10-05 18:52:37,655 - tracker - INFO - Rank 0 -- tracking contacts -- 389 of 389 of type learning_center\n",
      "2022-10-05 18:52:37,669 - rank - INFO - Rank 0 -- tracker -- 7.635033415979706\n",
      "2022-10-05 18:52:37,754 - epidemiology - INFO - CMS: Infection COMS-v2 for rank 0/1(2)0.0002528280019760132,0.0002524852752685547 - 2020-05-28 19:00:00\n",
      "2022-10-05 18:52:37,807 - rank - INFO - Rank 0 -- interaction_waiting -- 6.3820043578743935e-06\n",
      "2022-10-05 18:52:37,821 - simulator - INFO - CMS: Timestep for rank 0/1 - 8.239764179044869,8.239765167236328 - 2020-05-28 19:00:00\n",
      "\n",
      "2022-10-05 18:52:37,824 - rank - INFO - Next timestep\n",
      "2022-10-05 18:52:37,825 - simulator - INFO - ==================== timestep ====================\n",
      "2022-10-05 18:52:38,032 - rank - INFO - Rank 0 -- move_people -- 0.20672670396743342\n",
      "2022-10-05 18:52:38,033 - rank - INFO - Rank 0 -- move_people_waiting -- 8.94500408321619e-06\n",
      "2022-10-05 18:52:38,035 - activity_manager - INFO - CMS: People COMS for rank 0/1 - 4.535017069429159e-06,3.814697265625e-06 - 2020-05-29 09:00:00\n",
      "2022-10-05 18:52:38,043 - simulator - INFO - Info for rank 0, Date = 2020-05-29 09:00:00, number of deaths =  0, number of infected = 993\n",
      "2022-10-05 18:52:38,201 - rank - INFO - Rank 0 -- interaction -- 0.1655103950179182\n",
      "2022-10-05 18:52:44,767 - tracker - INFO - Rank 0 -- tracking contacts -- 500 of 3267 of type shelter\n",
      "2022-10-05 18:52:45,845 - tracker - INFO - Rank 0 -- tracking contacts -- 115 of 115 of type communal\n",
      "2022-10-05 18:52:45,849 - tracker - INFO - Rank 0 -- tracking contacts -- 21 of 21 of type distribution_center\n",
      "2022-10-05 18:52:45,852 - tracker - INFO - Rank 0 -- tracking contacts -- 7 of 7 of type e_voucher\n",
      "2022-10-05 18:52:45,854 - tracker - INFO - Rank 0 -- tracking contacts -- 67 of 67 of type female_communal\n",
      "2022-10-05 18:52:45,856 - tracker - INFO - Rank 0 -- tracking contacts -- 80 of 80 of type informal_work\n",
      "2022-10-05 18:52:45,862 - tracker - INFO - Rank 0 -- tracking contacts -- 41 of 41 of type n_f_distribution_center\n",
      "2022-10-05 18:52:45,866 - tracker - INFO - Rank 0 -- tracking contacts -- 500 of 536 of type play_group\n",
      "2022-10-05 18:52:45,884 - tracker - INFO - Rank 0 -- tracking contacts -- 82 of 82 of type pump_latrine\n",
      "2022-10-05 18:52:45,902 - tracker - INFO - Rank 0 -- tracking contacts -- 500 of 2065 of type religious\n",
      "2022-10-05 18:52:45,915 - tracker - INFO - Rank 0 -- tracking contacts -- 8 of 8 of type hospital\n",
      "2022-10-05 18:52:45,916 - tracker - INFO - Rank 0 -- tracking contacts -- 8 of 8 of type isolation_unit\n",
      "2022-10-05 18:52:45,919 - tracker - INFO - Rank 0 -- tracking contacts -- 389 of 389 of type learning_center\n",
      "2022-10-05 18:52:45,934 - rank - INFO - Rank 0 -- tracker -- 7.731792658974882\n",
      "2022-10-05 18:52:45,961 - epidemiology - INFO - CMS: Infection COMS-v2 for rank 0/1(2)0.0017041810206137598,0.0017049312591552734 - 2020-05-29 09:00:00\n",
      "2022-10-05 18:52:46,027 - rank - INFO - Rank 0 -- interaction_waiting -- 1.1185999028384686e-05\n",
      "2022-10-05 18:52:46,044 - simulator - INFO - CMS: Timestep for rank 0/1 - 8.217946108954493,8.217946529388428 - 2020-05-29 09:00:00\n",
      "\n",
      "2022-10-05 18:52:46,047 - rank - INFO - Next timestep\n",
      "2022-10-05 18:52:46,048 - simulator - INFO - ==================== timestep ====================\n",
      "2022-10-05 18:52:47,009 - rank - INFO - Rank 0 -- move_people -- 0.9583533580298536\n",
      "2022-10-05 18:52:47,010 - rank - INFO - Rank 0 -- move_people_waiting -- 8.678005542606115e-06\n",
      "2022-10-05 18:52:47,011 - activity_manager - INFO - CMS: People COMS for rank 0/1 - 4.103989340364933e-06,3.814697265625e-06 - 2020-05-29 12:00:00\n",
      "2022-10-05 18:52:47,017 - simulator - INFO - Info for rank 0, Date = 2020-05-29 12:00:00, number of deaths =  0, number of infected = 1024\n",
      "2022-10-05 18:52:47,236 - rank - INFO - Rank 0 -- interaction -- 0.22476540604839101\n",
      "2022-10-05 18:52:47,806 - tracker - INFO - Rank 0 -- tracking contacts -- 500 of 3267 of type shelter\n",
      "2022-10-05 18:52:48,352 - tracker - INFO - Rank 0 -- tracking contacts -- 115 of 115 of type communal\n",
      "2022-10-05 18:52:48,355 - tracker - INFO - Rank 0 -- tracking contacts -- 21 of 21 of type distribution_center\n",
      "2022-10-05 18:52:48,389 - tracker - INFO - Rank 0 -- tracking contacts -- 7 of 7 of type e_voucher\n",
      "2022-10-05 18:52:48,405 - tracker - INFO - Rank 0 -- tracking contacts -- 67 of 67 of type female_communal\n",
      "2022-10-05 18:52:48,407 - tracker - INFO - Rank 0 -- tracking contacts -- 80 of 80 of type informal_work\n",
      "2022-10-05 18:52:48,499 - tracker - INFO - Rank 0 -- tracking contacts -- 41 of 41 of type n_f_distribution_center\n",
      "2022-10-05 18:52:48,560 - tracker - INFO - Rank 0 -- tracking contacts -- 500 of 536 of type play_group\n",
      "2022-10-05 18:52:48,890 - tracker - INFO - Rank 0 -- tracking contacts -- 82 of 82 of type pump_latrine\n",
      "2022-10-05 18:52:50,961 - tracker - INFO - Rank 0 -- tracking contacts -- 500 of 2065 of type religious\n",
      "2022-10-05 18:52:51,207 - tracker - INFO - Rank 0 -- tracking contacts -- 8 of 8 of type hospital\n",
      "2022-10-05 18:52:51,208 - tracker - INFO - Rank 0 -- tracking contacts -- 8 of 8 of type isolation_unit\n",
      "2022-10-05 18:52:51,210 - tracker - INFO - Rank 0 -- tracking contacts -- 389 of 389 of type learning_center\n",
      "2022-10-05 18:52:51,219 - rank - INFO - Rank 0 -- tracker -- 3.9806513160001487\n",
      "2022-10-05 18:52:51,253 - epidemiology - INFO - CMS: Infection COMS-v2 for rank 0/1(2)0.0009063509642146528,0.0009062290191650391 - 2020-05-29 12:00:00\n",
      "2022-10-05 18:52:51,302 - rank - INFO - Rank 0 -- interaction_waiting -- 5.699985194951296e-06\n",
      "2022-10-05 18:52:51,315 - simulator - INFO - CMS: Timestep for rank 0/1 - 5.264925362949725,5.264925718307495 - 2020-05-29 12:00:00\n",
      "\n",
      "2022-10-05 18:52:51,318 - rank - INFO - Next timestep\n",
      "2022-10-05 18:52:51,319 - simulator - INFO - ==================== timestep ====================\n",
      "2022-10-05 18:52:52,157 - rank - INFO - Rank 0 -- move_people -- 0.8379706330015324\n",
      "2022-10-05 18:52:52,158 - rank - INFO - Rank 0 -- move_people_waiting -- 6.98695657774806e-06\n",
      "2022-10-05 18:52:52,159 - activity_manager - INFO - CMS: People COMS for rank 0/1 - 4.375004209578037e-06,3.814697265625e-06 - 2020-05-29 14:00:00\n",
      "2022-10-05 18:52:52,165 - simulator - INFO - Info for rank 0, Date = 2020-05-29 14:00:00, number of deaths =  0, number of infected = 1060\n",
      "2022-10-05 18:52:52,332 - rank - INFO - Rank 0 -- interaction -- 0.17137494904454798\n",
      "2022-10-05 18:52:54,289 - tracker - INFO - Rank 0 -- tracking contacts -- 500 of 3267 of type shelter\n",
      "2022-10-05 18:52:54,840 - tracker - INFO - Rank 0 -- tracking contacts -- 115 of 115 of type communal\n",
      "2022-10-05 18:52:54,842 - tracker - INFO - Rank 0 -- tracking contacts -- 21 of 21 of type distribution_center\n",
      "2022-10-05 18:52:54,875 - tracker - INFO - Rank 0 -- tracking contacts -- 7 of 7 of type e_voucher\n",
      "2022-10-05 18:52:54,888 - tracker - INFO - Rank 0 -- tracking contacts -- 67 of 67 of type female_communal\n",
      "2022-10-05 18:52:54,890 - tracker - INFO - Rank 0 -- tracking contacts -- 80 of 80 of type informal_work\n"
     ]
    },
    {
     "name": "stdout",
     "output_type": "stream",
     "text": [
      "2022-10-05 18:52:54,985 - tracker - INFO - Rank 0 -- tracking contacts -- 41 of 41 of type n_f_distribution_center\n",
      "2022-10-05 18:52:55,061 - tracker - INFO - Rank 0 -- tracking contacts -- 500 of 536 of type play_group\n",
      "2022-10-05 18:52:55,527 - tracker - INFO - Rank 0 -- tracking contacts -- 82 of 82 of type pump_latrine\n",
      "2022-10-05 18:52:58,237 - tracker - INFO - Rank 0 -- tracking contacts -- 500 of 2065 of type religious\n",
      "2022-10-05 18:52:58,539 - tracker - INFO - Rank 0 -- tracking contacts -- 8 of 8 of type hospital\n",
      "2022-10-05 18:52:58,540 - tracker - INFO - Rank 0 -- tracking contacts -- 8 of 8 of type isolation_unit\n",
      "2022-10-05 18:52:58,542 - tracker - INFO - Rank 0 -- tracking contacts -- 389 of 389 of type learning_center\n",
      "2022-10-05 18:52:58,549 - rank - INFO - Rank 0 -- tracker -- 6.216948838031385\n",
      "2022-10-05 18:52:58,581 - epidemiology - INFO - CMS: Infection COMS-v2 for rank 0/1(2)0.0005800140206702054,0.0005800724029541016 - 2020-05-29 14:00:00\n",
      "2022-10-05 18:52:58,625 - rank - INFO - Rank 0 -- interaction_waiting -- 6.327987648546696e-06\n",
      "2022-10-05 18:52:58,639 - simulator - INFO - CMS: Timestep for rank 0/1 - 7.319958906969987,7.31995964050293 - 2020-05-29 14:00:00\n",
      "\n",
      "2022-10-05 18:52:58,642 - rank - INFO - Next timestep\n",
      "2022-10-05 18:52:58,643 - simulator - INFO - ==================== timestep ====================\n",
      "2022-10-05 18:52:59,867 - rank - INFO - Rank 0 -- move_people -- 1.2227870199712925\n",
      "2022-10-05 18:52:59,868 - rank - INFO - Rank 0 -- move_people_waiting -- 1.1652009561657906e-05\n",
      "2022-10-05 18:52:59,869 - activity_manager - INFO - CMS: People COMS for rank 0/1 - 3.272958565503359e-06,3.0994415283203125e-06 - 2020-05-29 16:00:00\n",
      "2022-10-05 18:52:59,880 - simulator - INFO - Info for rank 0, Date = 2020-05-29 16:00:00, number of deaths =  0, number of infected = 1104\n",
      "2022-10-05 18:53:00,138 - rank - INFO - Rank 0 -- interaction -- 0.2675392359960824\n",
      "2022-10-05 18:53:03,492 - tracker - INFO - Rank 0 -- tracking contacts -- 500 of 3267 of type shelter\n",
      "2022-10-05 18:53:04,149 - tracker - INFO - Rank 0 -- tracking contacts -- 115 of 115 of type communal\n",
      "2022-10-05 18:53:04,152 - tracker - INFO - Rank 0 -- tracking contacts -- 21 of 21 of type distribution_center\n",
      "2022-10-05 18:53:04,203 - tracker - INFO - Rank 0 -- tracking contacts -- 7 of 7 of type e_voucher\n",
      "2022-10-05 18:53:04,226 - tracker - INFO - Rank 0 -- tracking contacts -- 67 of 67 of type female_communal\n",
      "2022-10-05 18:53:04,229 - tracker - INFO - Rank 0 -- tracking contacts -- 80 of 80 of type informal_work\n",
      "2022-10-05 18:53:04,376 - tracker - INFO - Rank 0 -- tracking contacts -- 41 of 41 of type n_f_distribution_center\n",
      "2022-10-05 18:53:04,458 - tracker - INFO - Rank 0 -- tracking contacts -- 500 of 536 of type play_group\n",
      "2022-10-05 18:53:05,073 - tracker - INFO - Rank 0 -- tracking contacts -- 82 of 82 of type pump_latrine\n",
      "2022-10-05 18:53:08,031 - tracker - INFO - Rank 0 -- tracking contacts -- 500 of 2065 of type religious\n",
      "2022-10-05 18:53:08,328 - tracker - INFO - Rank 0 -- tracking contacts -- 8 of 8 of type hospital\n",
      "2022-10-05 18:53:08,329 - tracker - INFO - Rank 0 -- tracking contacts -- 8 of 8 of type isolation_unit\n",
      "2022-10-05 18:53:08,334 - tracker - INFO - Rank 0 -- tracking contacts -- 389 of 389 of type learning_center\n",
      "2022-10-05 18:53:08,343 - rank - INFO - Rank 0 -- tracker -- 8.203961034014355\n",
      "2022-10-05 18:53:08,381 - epidemiology - INFO - CMS: Infection COMS-v2 for rank 0/1(2)0.00028987397672608495,0.00028896331787109375 - 2020-05-29 16:00:00\n",
      "2022-10-05 18:53:08,444 - rank - INFO - Rank 0 -- interaction_waiting -- 6.458023563027382e-06\n",
      "2022-10-05 18:53:08,464 - simulator - INFO - CMS: Timestep for rank 0/1 - 9.820218311040662,9.820219278335571 - 2020-05-29 16:00:00\n",
      "\n",
      "2022-10-05 18:53:08,468 - rank - INFO - Next timestep\n",
      "2022-10-05 18:53:08,469 - simulator - INFO - ==================== timestep ====================\n",
      "2022-10-05 18:53:09,899 - rank - INFO - Rank 0 -- move_people -- 1.4295162460184656\n",
      "2022-10-05 18:53:09,900 - rank - INFO - Rank 0 -- move_people_waiting -- 9.124982170760632e-06\n",
      "2022-10-05 18:53:09,901 - activity_manager - INFO - CMS: People COMS for rank 0/1 - 5.623965989798307e-06,4.5299530029296875e-06 - 2020-05-29 18:00:00\n",
      "2022-10-05 18:53:09,910 - simulator - INFO - Info for rank 0, Date = 2020-05-29 18:00:00, number of deaths =  0, number of infected = 1153\n",
      "2022-10-05 18:53:10,281 - rank - INFO - Rank 0 -- interaction -- 0.3782788829994388\n",
      "2022-10-05 18:53:15,461 - tracker - INFO - Rank 0 -- tracking contacts -- 500 of 3267 of type shelter\n",
      "2022-10-05 18:53:15,939 - tracker - INFO - Rank 0 -- tracking contacts -- 115 of 115 of type communal\n",
      "2022-10-05 18:53:15,942 - tracker - INFO - Rank 0 -- tracking contacts -- 21 of 21 of type distribution_center\n",
      "2022-10-05 18:53:15,967 - tracker - INFO - Rank 0 -- tracking contacts -- 7 of 7 of type e_voucher\n",
      "2022-10-05 18:53:15,983 - tracker - INFO - Rank 0 -- tracking contacts -- 67 of 67 of type female_communal\n",
      "2022-10-05 18:53:15,985 - tracker - INFO - Rank 0 -- tracking contacts -- 80 of 80 of type informal_work\n",
      "2022-10-05 18:53:16,072 - tracker - INFO - Rank 0 -- tracking contacts -- 41 of 41 of type n_f_distribution_center\n",
      "2022-10-05 18:53:16,152 - tracker - INFO - Rank 0 -- tracking contacts -- 500 of 536 of type play_group\n",
      "2022-10-05 18:53:16,509 - tracker - INFO - Rank 0 -- tracking contacts -- 82 of 82 of type pump_latrine\n",
      "2022-10-05 18:53:19,005 - tracker - INFO - Rank 0 -- tracking contacts -- 500 of 2065 of type religious\n",
      "2022-10-05 18:53:19,275 - tracker - INFO - Rank 0 -- tracking contacts -- 8 of 8 of type hospital\n",
      "2022-10-05 18:53:19,276 - tracker - INFO - Rank 0 -- tracking contacts -- 8 of 8 of type isolation_unit\n",
      "2022-10-05 18:53:19,278 - tracker - INFO - Rank 0 -- tracking contacts -- 389 of 389 of type learning_center\n",
      "2022-10-05 18:53:19,285 - rank - INFO - Rank 0 -- tracker -- 9.003189607989043\n",
      "2022-10-05 18:53:19,314 - epidemiology - INFO - CMS: Infection COMS-v2 for rank 0/1(2)0.0007946359692141414,0.0007939338684082031 - 2020-05-29 18:00:00\n",
      "2022-10-05 18:53:19,356 - rank - INFO - Rank 0 -- interaction_waiting -- 5.7559809647500515e-06\n",
      "2022-10-05 18:53:19,369 - simulator - INFO - CMS: Timestep for rank 0/1 - 10.899275872972794,10.899276971817017 - 2020-05-29 18:00:00\n",
      "\n",
      "2022-10-05 18:53:19,372 - rank - INFO - Next timestep\n",
      "2022-10-05 18:53:19,373 - simulator - INFO - ==================== timestep ====================\n",
      "2022-10-05 18:53:19,563 - rank - INFO - Rank 0 -- move_people -- 0.18919205898419023\n",
      "2022-10-05 18:53:19,564 - rank - INFO - Rank 0 -- move_people_waiting -- 1.0608986485749483e-05\n",
      "2022-10-05 18:53:19,565 - activity_manager - INFO - CMS: People COMS for rank 0/1 - 3.924011252820492e-06,3.0994415283203125e-06 - 2020-05-29 20:00:00\n",
      "2022-10-05 18:53:19,572 - simulator - INFO - Info for rank 0, Date = 2020-05-29 20:00:00, number of deaths =  0, number of infected = 1197\n",
      "2022-10-05 18:53:19,731 - rank - INFO - Rank 0 -- interaction -- 0.16531763802049682\n",
      "2022-10-05 18:53:26,453 - tracker - INFO - Rank 0 -- tracking contacts -- 500 of 3267 of type shelter\n",
      "2022-10-05 18:53:27,623 - tracker - INFO - Rank 0 -- tracking contacts -- 115 of 115 of type communal\n",
      "2022-10-05 18:53:27,625 - tracker - INFO - Rank 0 -- tracking contacts -- 21 of 21 of type distribution_center\n",
      "2022-10-05 18:53:27,627 - tracker - INFO - Rank 0 -- tracking contacts -- 7 of 7 of type e_voucher\n",
      "2022-10-05 18:53:27,629 - tracker - INFO - Rank 0 -- tracking contacts -- 67 of 67 of type female_communal\n",
      "2022-10-05 18:53:27,631 - tracker - INFO - Rank 0 -- tracking contacts -- 80 of 80 of type informal_work\n",
      "2022-10-05 18:53:27,635 - tracker - INFO - Rank 0 -- tracking contacts -- 41 of 41 of type n_f_distribution_center\n",
      "2022-10-05 18:53:27,639 - tracker - INFO - Rank 0 -- tracking contacts -- 500 of 536 of type play_group\n",
      "2022-10-05 18:53:27,650 - tracker - INFO - Rank 0 -- tracking contacts -- 82 of 82 of type pump_latrine\n",
      "2022-10-05 18:53:27,662 - tracker - INFO - Rank 0 -- tracking contacts -- 500 of 2065 of type religious\n",
      "2022-10-05 18:53:27,672 - tracker - INFO - Rank 0 -- tracking contacts -- 8 of 8 of type hospital\n",
      "2022-10-05 18:53:27,673 - tracker - INFO - Rank 0 -- tracking contacts -- 8 of 8 of type isolation_unit\n"
     ]
    },
    {
     "name": "stdout",
     "output_type": "stream",
     "text": [
      "2022-10-05 18:53:27,675 - tracker - INFO - Rank 0 -- tracking contacts -- 389 of 389 of type learning_center\n",
      "2022-10-05 18:53:27,685 - rank - INFO - Rank 0 -- tracker -- 7.95335486199474\n",
      "2022-10-05 18:53:27,780 - epidemiology - INFO - CMS: Infection COMS-v2 for rank 0/1(2)0.0003086650394834578,0.0003082752227783203 - 2020-05-29 20:00:00\n",
      "2022-10-05 18:53:27,825 - rank - INFO - Rank 0 -- interaction_waiting -- 1.4711986295878887e-05\n",
      "2022-10-05 18:53:27,843 - simulator - INFO - CMS: Timestep for rank 0/1 - 8.469508543028496,8.469509840011597 - 2020-05-29 20:00:00\n",
      "\n",
      "2022-10-05 18:53:27,846 - rank - INFO - Next timestep\n",
      "2022-10-05 18:53:27,847 - simulator - INFO - ==================== timestep ====================\n",
      "2022-10-05 18:53:28,044 - rank - INFO - Rank 0 -- move_people -- 0.19607686600647867\n",
      "2022-10-05 18:53:28,045 - rank - INFO - Rank 0 -- move_people_waiting -- 6.08799746260047e-06\n",
      "2022-10-05 18:53:28,047 - activity_manager - INFO - CMS: People COMS for rank 0/1 - 4.9460213631391525e-06,4.5299530029296875e-06 - 2020-05-30 09:00:00\n",
      "2022-10-05 18:53:28,053 - simulator - INFO - Info for rank 0, Date = 2020-05-30 09:00:00, number of deaths =  0, number of infected = 1341\n",
      "2022-10-05 18:53:28,249 - rank - INFO - Rank 0 -- interaction -- 0.2009617059957236\n",
      "2022-10-05 18:53:34,916 - tracker - INFO - Rank 0 -- tracking contacts -- 500 of 3267 of type shelter\n",
      "2022-10-05 18:53:36,311 - tracker - INFO - Rank 0 -- tracking contacts -- 115 of 115 of type communal\n",
      "2022-10-05 18:53:36,314 - tracker - INFO - Rank 0 -- tracking contacts -- 21 of 21 of type distribution_center\n",
      "2022-10-05 18:53:36,315 - tracker - INFO - Rank 0 -- tracking contacts -- 7 of 7 of type e_voucher\n",
      "2022-10-05 18:53:36,317 - tracker - INFO - Rank 0 -- tracking contacts -- 67 of 67 of type female_communal\n",
      "2022-10-05 18:53:36,320 - tracker - INFO - Rank 0 -- tracking contacts -- 80 of 80 of type informal_work\n",
      "2022-10-05 18:53:36,324 - tracker - INFO - Rank 0 -- tracking contacts -- 41 of 41 of type n_f_distribution_center\n",
      "2022-10-05 18:53:36,328 - tracker - INFO - Rank 0 -- tracking contacts -- 500 of 536 of type play_group\n",
      "2022-10-05 18:53:36,338 - tracker - INFO - Rank 0 -- tracking contacts -- 82 of 82 of type pump_latrine\n",
      "2022-10-05 18:53:36,351 - tracker - INFO - Rank 0 -- tracking contacts -- 500 of 2065 of type religious\n",
      "2022-10-05 18:53:36,361 - tracker - INFO - Rank 0 -- tracking contacts -- 8 of 8 of type hospital\n",
      "2022-10-05 18:53:36,362 - tracker - INFO - Rank 0 -- tracking contacts -- 8 of 8 of type isolation_unit\n",
      "2022-10-05 18:53:36,372 - tracker - INFO - Rank 0 -- tracking contacts -- 389 of 389 of type learning_center\n",
      "2022-10-05 18:53:36,378 - rank - INFO - Rank 0 -- tracker -- 8.12823682097951\n",
      "2022-10-05 18:53:36,399 - epidemiology - INFO - CMS: Infection COMS-v2 for rank 0/1(2)0.0008804170065559447,0.0008804798126220703 - 2020-05-30 09:00:00\n",
      "2022-10-05 18:53:36,471 - rank - INFO - Rank 0 -- interaction_waiting -- 5.95202436670661e-06\n",
      "2022-10-05 18:53:36,495 - simulator - INFO - CMS: Timestep for rank 0/1 - 8.646973740018439,8.64697551727295 - 2020-05-30 09:00:00\n",
      "\n",
      "2022-10-05 18:53:36,498 - rank - INFO - Next timestep\n",
      "2022-10-05 18:53:36,500 - simulator - INFO - ==================== timestep ====================\n",
      "2022-10-05 18:53:37,911 - rank - INFO - Rank 0 -- move_people -- 1.4099062099703588\n",
      "2022-10-05 18:53:37,912 - rank - INFO - Rank 0 -- move_people_waiting -- 4.531990271061659e-06\n",
      "2022-10-05 18:53:37,914 - activity_manager - INFO - CMS: People COMS for rank 0/1 - 4.115980118513107e-06,3.5762786865234375e-06 - 2020-05-30 12:00:00\n",
      "2022-10-05 18:53:37,923 - simulator - INFO - Info for rank 0, Date = 2020-05-30 12:00:00, number of deaths =  0, number of infected = 1368\n",
      "2022-10-05 18:53:38,326 - rank - INFO - Rank 0 -- interaction -- 0.41071221098536626\n",
      "2022-10-05 18:53:39,290 - tracker - INFO - Rank 0 -- tracking contacts -- 500 of 3267 of type shelter\n",
      "2022-10-05 18:53:40,105 - tracker - INFO - Rank 0 -- tracking contacts -- 115 of 115 of type communal\n",
      "2022-10-05 18:53:40,109 - tracker - INFO - Rank 0 -- tracking contacts -- 21 of 21 of type distribution_center\n",
      "2022-10-05 18:53:40,158 - tracker - INFO - Rank 0 -- tracking contacts -- 7 of 7 of type e_voucher\n",
      "2022-10-05 18:53:40,175 - tracker - INFO - Rank 0 -- tracking contacts -- 67 of 67 of type female_communal\n",
      "2022-10-05 18:53:40,179 - tracker - INFO - Rank 0 -- tracking contacts -- 80 of 80 of type informal_work\n",
      "2022-10-05 18:53:40,341 - tracker - INFO - Rank 0 -- tracking contacts -- 41 of 41 of type n_f_distribution_center\n",
      "2022-10-05 18:53:40,438 - tracker - INFO - Rank 0 -- tracking contacts -- 500 of 536 of type play_group\n",
      "2022-10-05 18:53:40,973 - tracker - INFO - Rank 0 -- tracking contacts -- 82 of 82 of type pump_latrine\n",
      "2022-10-05 18:53:44,212 - tracker - INFO - Rank 0 -- tracking contacts -- 500 of 2065 of type religious\n",
      "2022-10-05 18:53:44,606 - tracker - INFO - Rank 0 -- tracking contacts -- 8 of 8 of type hospital\n",
      "2022-10-05 18:53:44,610 - tracker - INFO - Rank 0 -- tracking contacts -- 8 of 8 of type isolation_unit\n",
      "2022-10-05 18:53:44,613 - tracker - INFO - Rank 0 -- tracking contacts -- 389 of 389 of type learning_center\n",
      "2022-10-05 18:53:44,623 - rank - INFO - Rank 0 -- tracker -- 6.29607587098144\n",
      "2022-10-05 18:53:44,675 - epidemiology - INFO - CMS: Infection COMS-v2 for rank 0/1(2)0.0011745860101655126,0.0011744499206542969 - 2020-05-30 12:00:00\n",
      "2022-10-05 18:53:44,738 - rank - INFO - Rank 0 -- interaction_waiting -- 7.006980013102293e-06\n",
      "2022-10-05 18:53:44,759 - simulator - INFO - CMS: Timestep for rank 0/1 - 8.258098285994492,8.25809931755066 - 2020-05-30 12:00:00\n",
      "\n",
      "2022-10-05 18:53:44,762 - rank - INFO - Next timestep\n",
      "2022-10-05 18:53:44,763 - simulator - INFO - ==================== timestep ====================\n",
      "2022-10-05 18:53:45,837 - rank - INFO - Rank 0 -- move_people -- 1.0726448830100708\n",
      "2022-10-05 18:53:45,838 - rank - INFO - Rank 0 -- move_people_waiting -- 7.547030691057444e-06\n",
      "2022-10-05 18:53:45,839 - activity_manager - INFO - CMS: People COMS for rank 0/1 - 4.801026079803705e-06,4.5299530029296875e-06 - 2020-05-30 14:00:00\n",
      "2022-10-05 18:53:45,847 - simulator - INFO - Info for rank 0, Date = 2020-05-30 14:00:00, number of deaths =  0, number of infected = 1422\n",
      "2022-10-05 18:53:46,081 - rank - INFO - Rank 0 -- interaction -- 0.24114317301427945\n",
      "2022-10-05 18:53:48,315 - tracker - INFO - Rank 0 -- tracking contacts -- 500 of 3267 of type shelter\n",
      "2022-10-05 18:53:48,822 - tracker - INFO - Rank 0 -- tracking contacts -- 115 of 115 of type communal\n",
      "2022-10-05 18:53:48,825 - tracker - INFO - Rank 0 -- tracking contacts -- 21 of 21 of type distribution_center\n",
      "2022-10-05 18:53:48,876 - tracker - INFO - Rank 0 -- tracking contacts -- 7 of 7 of type e_voucher\n",
      "2022-10-05 18:53:48,898 - tracker - INFO - Rank 0 -- tracking contacts -- 67 of 67 of type female_communal\n",
      "2022-10-05 18:53:48,900 - tracker - INFO - Rank 0 -- tracking contacts -- 80 of 80 of type informal_work\n",
      "2022-10-05 18:53:49,047 - tracker - INFO - Rank 0 -- tracking contacts -- 41 of 41 of type n_f_distribution_center\n",
      "2022-10-05 18:53:49,132 - tracker - INFO - Rank 0 -- tracking contacts -- 500 of 536 of type play_group\n",
      "2022-10-05 18:53:49,700 - tracker - INFO - Rank 0 -- tracking contacts -- 82 of 82 of type pump_latrine\n",
      "2022-10-05 18:53:53,028 - tracker - INFO - Rank 0 -- tracking contacts -- 500 of 2065 of type religious\n",
      "2022-10-05 18:53:53,324 - tracker - INFO - Rank 0 -- tracking contacts -- 8 of 8 of type hospital\n",
      "2022-10-05 18:53:53,325 - tracker - INFO - Rank 0 -- tracking contacts -- 8 of 8 of type isolation_unit\n",
      "2022-10-05 18:53:53,328 - tracker - INFO - Rank 0 -- tracking contacts -- 389 of 389 of type learning_center\n",
      "2022-10-05 18:53:53,335 - rank - INFO - Rank 0 -- tracker -- 7.25313336099498\n",
      "2022-10-05 18:53:53,375 - epidemiology - INFO - CMS: Infection COMS-v2 for rank 0/1(2)0.0002694439608603716,0.00026869773864746094 - 2020-05-30 14:00:00\n",
      "2022-10-05 18:53:53,435 - rank - INFO - Rank 0 -- interaction_waiting -- 6.384041626006365e-06\n",
      "2022-10-05 18:53:53,456 - simulator - INFO - CMS: Timestep for rank 0/1 - 8.692150150018279,8.692150831222534 - 2020-05-30 14:00:00\n",
      "\n",
      "2022-10-05 18:53:53,460 - rank - INFO - Next timestep\n"
     ]
    },
    {
     "name": "stdout",
     "output_type": "stream",
     "text": [
      "2022-10-05 18:53:53,461 - simulator - INFO - ==================== timestep ====================\n",
      "2022-10-05 18:53:54,960 - rank - INFO - Rank 0 -- move_people -- 1.4988041099859402\n",
      "2022-10-05 18:53:54,962 - rank - INFO - Rank 0 -- move_people_waiting -- 1.0253977961838245e-05\n",
      "2022-10-05 18:53:54,963 - activity_manager - INFO - CMS: People COMS for rank 0/1 - 5.754001904278994e-06,5.245208740234375e-06 - 2020-05-30 16:00:00\n",
      "2022-10-05 18:53:54,973 - simulator - INFO - Info for rank 0, Date = 2020-05-30 16:00:00, number of deaths =  0, number of infected = 1485\n",
      "2022-10-05 18:53:55,352 - rank - INFO - Rank 0 -- interaction -- 0.3868276370340027\n",
      "2022-10-05 18:53:59,855 - tracker - INFO - Rank 0 -- tracking contacts -- 500 of 3267 of type shelter\n",
      "2022-10-05 18:54:00,542 - tracker - INFO - Rank 0 -- tracking contacts -- 115 of 115 of type communal\n",
      "2022-10-05 18:54:00,544 - tracker - INFO - Rank 0 -- tracking contacts -- 21 of 21 of type distribution_center\n",
      "2022-10-05 18:54:00,598 - tracker - INFO - Rank 0 -- tracking contacts -- 7 of 7 of type e_voucher\n",
      "2022-10-05 18:54:00,614 - tracker - INFO - Rank 0 -- tracking contacts -- 67 of 67 of type female_communal\n",
      "2022-10-05 18:54:00,617 - tracker - INFO - Rank 0 -- tracking contacts -- 80 of 80 of type informal_work\n",
      "2022-10-05 18:54:00,726 - tracker - INFO - Rank 0 -- tracking contacts -- 41 of 41 of type n_f_distribution_center\n",
      "2022-10-05 18:54:00,778 - tracker - INFO - Rank 0 -- tracking contacts -- 500 of 536 of type play_group\n",
      "2022-10-05 18:54:01,138 - tracker - INFO - Rank 0 -- tracking contacts -- 82 of 82 of type pump_latrine\n",
      "2022-10-05 18:54:04,066 - tracker - INFO - Rank 0 -- tracking contacts -- 500 of 2065 of type religious\n",
      "2022-10-05 18:54:04,355 - tracker - INFO - Rank 0 -- tracking contacts -- 8 of 8 of type hospital\n",
      "2022-10-05 18:54:04,356 - tracker - INFO - Rank 0 -- tracking contacts -- 8 of 8 of type isolation_unit\n",
      "2022-10-05 18:54:04,358 - tracker - INFO - Rank 0 -- tracking contacts -- 389 of 389 of type learning_center\n",
      "2022-10-05 18:54:04,363 - rank - INFO - Rank 0 -- tracker -- 9.010784096026327\n",
      "2022-10-05 18:54:04,390 - epidemiology - INFO - CMS: Infection COMS-v2 for rank 0/1(2)0.00023957097437232733,0.0002391338348388672 - 2020-05-30 16:00:00\n",
      "2022-10-05 18:54:04,439 - rank - INFO - Rank 0 -- interaction_waiting -- 6.913032848387957e-06\n",
      "2022-10-05 18:54:04,461 - simulator - INFO - CMS: Timestep for rank 0/1 - 10.999247320985887,10.999248266220093 - 2020-05-30 16:00:00\n",
      "\n",
      "2022-10-05 18:54:04,464 - rank - INFO - Next timestep\n",
      "2022-10-05 18:54:04,465 - simulator - INFO - ==================== timestep ====================\n",
      "2022-10-05 18:54:05,709 - rank - INFO - Rank 0 -- move_people -- 1.2427575019537471\n",
      "2022-10-05 18:54:05,710 - rank - INFO - Rank 0 -- move_people_waiting -- 3.776978701353073e-06\n",
      "2022-10-05 18:54:05,711 - activity_manager - INFO - CMS: People COMS for rank 0/1 - 3.91004141420126e-06,3.814697265625e-06 - 2020-05-30 18:00:00\n",
      "2022-10-05 18:54:05,721 - simulator - INFO - Info for rank 0, Date = 2020-05-30 18:00:00, number of deaths =  0, number of infected = 1537\n",
      "2022-10-05 18:54:05,978 - rank - INFO - Rank 0 -- interaction -- 0.265230359043926\n",
      "2022-10-05 18:54:10,939 - tracker - INFO - Rank 0 -- tracking contacts -- 500 of 3267 of type shelter\n",
      "2022-10-05 18:54:11,618 - tracker - INFO - Rank 0 -- tracking contacts -- 115 of 115 of type communal\n",
      "2022-10-05 18:54:11,620 - tracker - INFO - Rank 0 -- tracking contacts -- 21 of 21 of type distribution_center\n",
      "2022-10-05 18:54:11,661 - tracker - INFO - Rank 0 -- tracking contacts -- 7 of 7 of type e_voucher\n",
      "2022-10-05 18:54:11,679 - tracker - INFO - Rank 0 -- tracking contacts -- 67 of 67 of type female_communal\n",
      "2022-10-05 18:54:11,683 - tracker - INFO - Rank 0 -- tracking contacts -- 80 of 80 of type informal_work\n",
      "2022-10-05 18:54:11,823 - tracker - INFO - Rank 0 -- tracking contacts -- 41 of 41 of type n_f_distribution_center\n",
      "2022-10-05 18:54:11,884 - tracker - INFO - Rank 0 -- tracking contacts -- 500 of 536 of type play_group\n",
      "2022-10-05 18:54:12,492 - tracker - INFO - Rank 0 -- tracking contacts -- 82 of 82 of type pump_latrine\n",
      "2022-10-05 18:54:15,881 - tracker - INFO - Rank 0 -- tracking contacts -- 500 of 2065 of type religious\n",
      "2022-10-05 18:54:16,318 - tracker - INFO - Rank 0 -- tracking contacts -- 8 of 8 of type hospital\n",
      "2022-10-05 18:54:16,322 - tracker - INFO - Rank 0 -- tracking contacts -- 8 of 8 of type isolation_unit\n",
      "2022-10-05 18:54:16,325 - tracker - INFO - Rank 0 -- tracking contacts -- 389 of 389 of type learning_center\n",
      "2022-10-05 18:54:16,335 - rank - INFO - Rank 0 -- tracker -- 10.356006363988854\n",
      "2022-10-05 18:54:16,370 - epidemiology - INFO - CMS: Infection COMS-v2 for rank 0/1(2)0.0003748689778149128,0.0003745555877685547 - 2020-05-30 18:00:00\n",
      "2022-10-05 18:54:16,444 - rank - INFO - Rank 0 -- interaction_waiting -- 7.147027645260096e-06\n",
      "2022-10-05 18:54:16,468 - simulator - INFO - CMS: Timestep for rank 0/1 - 12.00187840196304,12.001879215240479 - 2020-05-30 18:00:00\n",
      "\n",
      "2022-10-05 18:54:16,472 - rank - INFO - Next timestep\n",
      "2022-10-05 18:54:16,474 - simulator - INFO - ==================== timestep ====================\n",
      "2022-10-05 18:54:16,751 - rank - INFO - Rank 0 -- move_people -- 0.27616263198433444\n",
      "2022-10-05 18:54:16,753 - rank - INFO - Rank 0 -- move_people_waiting -- 6.099988240748644e-06\n",
      "2022-10-05 18:54:16,756 - activity_manager - INFO - CMS: People COMS for rank 0/1 - 5.602953024208546e-06,5.0067901611328125e-06 - 2020-05-30 20:00:00\n",
      "2022-10-05 18:54:16,769 - simulator - INFO - Info for rank 0, Date = 2020-05-30 20:00:00, number of deaths =  0, number of infected = 1587\n",
      "2022-10-05 18:54:17,009 - rank - INFO - Rank 0 -- interaction -- 0.25065157300559804\n",
      "2022-10-05 18:54:23,717 - tracker - INFO - Rank 0 -- tracking contacts -- 500 of 3267 of type shelter\n",
      "2022-10-05 18:54:25,623 - tracker - INFO - Rank 0 -- tracking contacts -- 115 of 115 of type communal\n",
      "2022-10-05 18:54:25,627 - tracker - INFO - Rank 0 -- tracking contacts -- 21 of 21 of type distribution_center\n",
      "2022-10-05 18:54:25,633 - tracker - INFO - Rank 0 -- tracking contacts -- 7 of 7 of type e_voucher\n",
      "2022-10-05 18:54:25,635 - tracker - INFO - Rank 0 -- tracking contacts -- 67 of 67 of type female_communal\n",
      "2022-10-05 18:54:25,639 - tracker - INFO - Rank 0 -- tracking contacts -- 80 of 80 of type informal_work\n",
      "2022-10-05 18:54:25,644 - tracker - INFO - Rank 0 -- tracking contacts -- 41 of 41 of type n_f_distribution_center\n",
      "2022-10-05 18:54:25,649 - tracker - INFO - Rank 0 -- tracking contacts -- 500 of 536 of type play_group\n",
      "2022-10-05 18:54:25,669 - tracker - INFO - Rank 0 -- tracking contacts -- 82 of 82 of type pump_latrine\n",
      "2022-10-05 18:54:25,691 - tracker - INFO - Rank 0 -- tracking contacts -- 500 of 2065 of type religious\n",
      "2022-10-05 18:54:25,705 - tracker - INFO - Rank 0 -- tracking contacts -- 8 of 8 of type hospital\n",
      "2022-10-05 18:54:25,707 - tracker - INFO - Rank 0 -- tracking contacts -- 8 of 8 of type isolation_unit\n",
      "2022-10-05 18:54:25,710 - tracker - INFO - Rank 0 -- tracking contacts -- 389 of 389 of type learning_center\n",
      "2022-10-05 18:54:25,723 - rank - INFO - Rank 0 -- tracker -- 8.71287670196034\n",
      "2022-10-05 18:54:25,886 - epidemiology - INFO - CMS: Infection COMS-v2 for rank 0/1(2)0.0004599380190484226,0.00045990943908691406 - 2020-05-30 20:00:00\n",
      "2022-10-05 18:54:25,962 - rank - INFO - Rank 0 -- interaction_waiting -- 8.422997780144215e-06\n",
      "2022-10-05 18:54:25,985 - simulator - INFO - CMS: Timestep for rank 0/1 - 9.509897865995299,9.50989842414856 - 2020-05-30 20:00:00\n",
      "\n",
      "CPU times: user 5min 52s, sys: 2.74 s, total: 5min 55s\n",
      "Wall time: 5min 53s\n"
     ]
    }
   ],
   "source": [
    "%%time\n",
    "simulator.run()"
   ]
  },
  {
   "cell_type": "markdown",
   "metadata": {},
   "source": [
    "# Getting the results"
   ]
  },
  {
   "cell_type": "markdown",
   "metadata": {},
   "source": [
    "All results are stored in a json file specified in the `record_path` when defining the recorder. This can be read in by passing the folder locations to the `RecordReader` class and results derived.\n",
    "\n",
    "Here we show some examples of the kind of analysis you can extract from the records."
   ]
  },
  {
   "cell_type": "code",
   "execution_count": 55,
   "metadata": {},
   "outputs": [],
   "source": [
    "import pandas as pd"
   ]
  },
  {
   "cell_type": "code",
   "execution_count": 56,
   "metadata": {},
   "outputs": [],
   "source": [
    "read = RecordReader(Results_Path)"
   ]
  },
  {
   "cell_type": "markdown",
   "metadata": {},
   "source": [
    "The regional summary gives you information at the regional (camp) level."
   ]
  },
  {
   "cell_type": "markdown",
   "metadata": {},
   "source": [
    "### Regional information"
   ]
  },
  {
   "cell_type": "code",
   "execution_count": 57,
   "metadata": {},
   "outputs": [
    {
     "data": {
      "text/html": [
       "<div>\n",
       "<style scoped>\n",
       "    .dataframe tbody tr th:only-of-type {\n",
       "        vertical-align: middle;\n",
       "    }\n",
       "\n",
       "    .dataframe tbody tr th {\n",
       "        vertical-align: top;\n",
       "    }\n",
       "\n",
       "    .dataframe thead th {\n",
       "        text-align: right;\n",
       "    }\n",
       "</style>\n",
       "<table border=\"1\" class=\"dataframe\">\n",
       "  <thead>\n",
       "    <tr style=\"text-align: right;\">\n",
       "      <th></th>\n",
       "      <th>region</th>\n",
       "      <th>current_infected</th>\n",
       "      <th>daily_infected</th>\n",
       "      <th>current_hospitalised</th>\n",
       "      <th>daily_hospitalised</th>\n",
       "      <th>current_intensive_care</th>\n",
       "      <th>daily_intensive_care</th>\n",
       "      <th>daily_hospital_deaths</th>\n",
       "      <th>daily_deaths</th>\n",
       "    </tr>\n",
       "    <tr>\n",
       "      <th>time_stamp</th>\n",
       "      <th></th>\n",
       "      <th></th>\n",
       "      <th></th>\n",
       "      <th></th>\n",
       "      <th></th>\n",
       "      <th></th>\n",
       "      <th></th>\n",
       "      <th></th>\n",
       "      <th></th>\n",
       "    </tr>\n",
       "  </thead>\n",
       "  <tbody>\n",
       "    <tr>\n",
       "      <th>2020-05-24</th>\n",
       "      <td>CXB-219</td>\n",
       "      <td>245.333333</td>\n",
       "      <td>285</td>\n",
       "      <td>0.0</td>\n",
       "      <td>0</td>\n",
       "      <td>0.0</td>\n",
       "      <td>0</td>\n",
       "      <td>0</td>\n",
       "      <td>0</td>\n",
       "    </tr>\n",
       "    <tr>\n",
       "      <th>2020-05-25</th>\n",
       "      <td>CXB-219</td>\n",
       "      <td>320.000000</td>\n",
       "      <td>95</td>\n",
       "      <td>0.0</td>\n",
       "      <td>0</td>\n",
       "      <td>0.0</td>\n",
       "      <td>0</td>\n",
       "      <td>0</td>\n",
       "      <td>0</td>\n",
       "    </tr>\n",
       "    <tr>\n",
       "      <th>2020-05-26</th>\n",
       "      <td>CXB-219</td>\n",
       "      <td>438.333333</td>\n",
       "      <td>149</td>\n",
       "      <td>0.0</td>\n",
       "      <td>0</td>\n",
       "      <td>0.0</td>\n",
       "      <td>0</td>\n",
       "      <td>0</td>\n",
       "      <td>0</td>\n",
       "    </tr>\n",
       "  </tbody>\n",
       "</table>\n",
       "</div>"
      ],
      "text/plain": [
       "             region  current_infected  daily_infected  current_hospitalised  \\\n",
       "time_stamp                                                                    \n",
       "2020-05-24  CXB-219        245.333333             285                   0.0   \n",
       "2020-05-25  CXB-219        320.000000              95                   0.0   \n",
       "2020-05-26  CXB-219        438.333333             149                   0.0   \n",
       "\n",
       "            daily_hospitalised  current_intensive_care  daily_intensive_care  \\\n",
       "time_stamp                                                                     \n",
       "2020-05-24                   0                     0.0                     0   \n",
       "2020-05-25                   0                     0.0                     0   \n",
       "2020-05-26                   0                     0.0                     0   \n",
       "\n",
       "            daily_hospital_deaths  daily_deaths  \n",
       "time_stamp                                       \n",
       "2020-05-24                      0             0  \n",
       "2020-05-25                      0             0  \n",
       "2020-05-26                      0             0  "
      ]
     },
     "execution_count": 57,
     "metadata": {},
     "output_type": "execute_result"
    }
   ],
   "source": [
    "read.regional_summary.head(3) # this is the equivalent of the summary.csv"
   ]
  },
  {
   "cell_type": "markdown",
   "metadata": {},
   "source": [
    "### Daily infections"
   ]
  },
  {
   "cell_type": "code",
   "execution_count": 58,
   "metadata": {},
   "outputs": [],
   "source": [
    "summary = read.regional_summary.reset_index()"
   ]
  },
  {
   "cell_type": "code",
   "execution_count": 59,
   "metadata": {},
   "outputs": [
    {
     "data": {
      "image/png": "[encoded data removed]",
      "text/plain": [
       "<Figure size 432x288 with 1 Axes>"
      ]
     },
     "metadata": {
      "needs_background": "light"
     },
     "output_type": "display_data"
    }
   ],
   "source": [
    "summary.groupby(['time_stamp']).sum().plot(y=['daily_infected'])\n",
    "plt.ylabel('Daily infections')\n",
    "plt.show()"
   ]
  },
  {
   "cell_type": "markdown",
   "metadata": {},
   "source": [
    "### Hospital and intensive care"
   ]
  },
  {
   "cell_type": "code",
   "execution_count": 60,
   "metadata": {},
   "outputs": [
    {
     "data": {
      "image/png": "[encoded data removed]",
      "text/plain": [
       "<Figure size 432x288 with 1 Axes>"
      ]
     },
     "metadata": {
      "needs_background": "light"
     },
     "output_type": "display_data"
    }
   ],
   "source": [
    "summary.groupby(['time_stamp']).sum().plot(y=['current_hospitalised', 'current_intensive_care'])\n",
    "plt.show()"
   ]
  },
  {
   "cell_type": "markdown",
   "metadata": {},
   "source": [
    "### Cumulative infections by age"
   ]
  },
  {
   "cell_type": "code",
   "execution_count": 61,
   "metadata": {},
   "outputs": [
    {
     "name": "stdout",
     "output_type": "stream",
     "text": [
      "2022-10-05 18:54:26,659 - june.records.records_reader - INFO - Loading infections table\n",
      "2022-10-05 18:54:26,677 - june.records.records_reader - INFO - Loading population table\n",
      "2022-10-05 18:54:26,744 - june.records.records_reader - INFO - Merging infection and population tables\n",
      "2022-10-05 18:54:26,754 - june.records.records_reader - INFO - Loading geography table\n",
      "2022-10-05 18:54:27,012 - june.records.records_reader - INFO - Mergeing infection and geography tables\n"
     ]
    }
   ],
   "source": [
    "infections_df = read.get_table_with_extras('infections',\n",
    "                                           'infected_ids')"
   ]
  },
  {
   "cell_type": "code",
   "execution_count": 62,
   "metadata": {},
   "outputs": [
    {
     "name": "stdout",
     "output_type": "stream",
     "text": [
      "2022-10-05 18:54:27,031 - june.records.records_reader - INFO - Loading deaths table\n",
      "2022-10-05 18:54:27,050 - june.records.records_reader - INFO - Loading population table\n",
      "2022-10-05 18:54:27,115 - june.records.records_reader - INFO - Merging infection and population tables\n",
      "2022-10-05 18:54:27,122 - june.records.records_reader - INFO - Loading geography table\n",
      "2022-10-05 18:54:27,152 - june.records.records_reader - INFO - Mergeing infection and geography tables\n"
     ]
    }
   ],
   "source": [
    "deaths_df = read.get_table_with_extras('deaths', \n",
    "                                       'dead_person_ids')"
   ]
  },
  {
   "cell_type": "code",
   "execution_count": 63,
   "metadata": {},
   "outputs": [],
   "source": [
    "age_bins = (0,20,60,100)"
   ]
  },
  {
   "cell_type": "code",
   "execution_count": 64,
   "metadata": {},
   "outputs": [],
   "source": [
    "infected_by_age = infections_df.groupby([pd.cut(infections_df['age'],\n",
    "            bins=age_bins), 'timestamp']).size()"
   ]
  },
  {
   "cell_type": "code",
   "execution_count": 65,
   "metadata": {},
   "outputs": [],
   "source": [
    "people_df = read.table_to_df('population')"
   ]
  },
  {
   "cell_type": "code",
   "execution_count": 66,
   "metadata": {},
   "outputs": [],
   "source": [
    "n_by_age = people_df.groupby(pd.cut(people_df['age'],\n",
    "            bins=age_bins)).size()"
   ]
  },
  {
   "cell_type": "code",
   "execution_count": 67,
   "metadata": {},
   "outputs": [
    {
     "data": {
      "text/plain": [
       "<matplotlib.legend.Legend at 0x7f34c94e30a0>"
      ]
     },
     "execution_count": 67,
     "metadata": {},
     "output_type": "execute_result"
    },
    {
     "data": {
      "image/png": "[encoded data removed]",
      "text/plain": [
       "<Figure size 432x288 with 1 Axes>"
      ]
     },
     "metadata": {
      "needs_background": "light"
     },
     "output_type": "display_data"
    }
   ],
   "source": [
    "(100*infected_by_age/n_by_age).xs(10).cumsum().plot(label='0,20')\n",
    "(100*infected_by_age/n_by_age).xs(30).cumsum().plot(label='20,60')\n",
    "(100*infected_by_age/n_by_age).xs(70).cumsum().plot(label='60,100')\n",
    "plt.ylabel(\"% cumulative infected\")\n",
    "plt.legend()"
   ]
  },
  {
   "cell_type": "markdown",
   "metadata": {},
   "source": [
    "### Where people get infected"
   ]
  },
  {
   "cell_type": "code",
   "execution_count": 68,
   "metadata": {},
   "outputs": [],
   "source": [
    "locations_df = infections_df.groupby(['location_specs', \n",
    "                                'timestamp']).size()"
   ]
  },
  {
   "cell_type": "code",
   "execution_count": 69,
   "metadata": {},
   "outputs": [
    {
     "data": {
      "text/plain": [
       "<AxesSubplot:xlabel='timestamp'>"
      ]
     },
     "execution_count": 69,
     "metadata": {},
     "output_type": "execute_result"
    },
    {
     "data": {
      "image/png": "[encoded data removed]",
      "text/plain": [
       "<Figure size 432x288 with 1 Axes>"
      ]
     },
     "metadata": {
      "needs_background": "light"
     },
     "output_type": "display_data"
    }
   ],
   "source": [
    "locations_df.unstack(level=0).plot()"
   ]
  },
  {
   "cell_type": "code",
   "execution_count": 70,
   "metadata": {},
   "outputs": [
    {
     "data": {
      "text/plain": [
       "Text(0.5, 0, 'location')"
      ]
     },
     "execution_count": 70,
     "metadata": {},
     "output_type": "execute_result"
    },
    {
     "data": {
      "image/png": "[encoded data removed]",
      "text/plain": [
       "<Figure size 432x288 with 1 Axes>"
      ]
     },
     "metadata": {
      "needs_background": "light"
     },
     "output_type": "display_data"
    }
   ],
   "source": [
    "import matplotlib.ticker as mtick\n",
    "location_counts_df = locations_df.groupby('location_specs').size()\n",
    "location_counts_df = 100*location_counts_df / location_counts_df.sum()\n",
    "ax = location_counts_df.sort_values().plot.bar()\n",
    "ax.yaxis.set_major_formatter(mtick.PercentFormatter())\n",
    "plt.ylabel('Percentage of infections at location')\n",
    "plt.xlabel('location')"
   ]
  },
  {
   "cell_type": "markdown",
   "metadata": {},
   "source": [
    "# Tracker results"
   ]
  },
  {
   "cell_type": "markdown",
   "metadata": {},
   "source": [
    "We can define custom binnings with bin edges as such."
   ]
  },
  {
   "cell_type": "code",
   "execution_count": 71,
   "metadata": {},
   "outputs": [
    {
     "data": {
      "text/plain": [
       "1"
      ]
     },
     "execution_count": 71,
     "metadata": {},
     "output_type": "execute_result"
    }
   ],
   "source": [
    "simulator.tracker.contract_matrices(\"AC\", np.array([0,18,60]))"
   ]
  },
  {
   "cell_type": "markdown",
   "metadata": {},
   "source": [
    "Lastly we call the tracker to save the results to file and provide a print out of the results."
   ]
  },
  {
   "cell_type": "code",
   "execution_count": null,
   "metadata": {
    "scrolled": true
   },
   "outputs": [
    {
     "name": "stdout",
     "output_type": "stream",
     "text": [
      "Results from UNCM\n",
      "  communal:\n",
      "    contacts: [[3.99e+00,7.77e+00],[1.13e+00,5.77e+00]]\n",
      "    contacts_err: [[8.48e-02,1.18e-01],[2.82e-02,6.39e-02]]\n",
      "    proportion_physical: [[1.20e-01]]\n",
      "    characteristic_time: 1.00\n",
      "\n",
      "    Ratio of contacts and feed in values: [[7.97e-01,9.58e-01],[7.36e-01,9.62e-01]]\n",
      "\n",
      "  distribution_center:\n",
      "    contacts: [[4.08e+00,1.32e+01],[7.89e-01,9.94e+00]]\n",
      "    contacts_err: [[5.62e-02,1.01e-01],[1.56e-02,5.53e-02]]\n",
      "    proportion_physical: [[1.20e-01]]\n",
      "    characteristic_time: 1.00\n",
      "\n",
      "    Ratio of contacts and feed in values: [[1.02e+00,9.70e-01],[9.99e-01,9.94e-01]]\n",
      "\n",
      "  e_voucher:\n",
      "    contacts: [[2.45e-01,2.17e+00],[9.11e-02,1.35e+01]]\n",
      "    contacts_err: [[2.23e-02,6.62e-02],[7.76e-03,9.43e-02]]\n",
      "    proportion_physical: [[1.20e-01]]\n",
      "    characteristic_time: 1.00\n",
      "\n",
      "    Ratio of contacts and feed in values: [[0.00e+00,1.08e+00],[9.11e-01,9.98e-01]]\n",
      "\n",
      "  female_communal:\n",
      "    contacts: [[5.02e+00,8.03e+00],[1.58e+00,6.03e+00]]\n",
      "    contacts_err: [[4.86e-02,6.14e-02],[2.79e-02,5.44e-02]]\n",
      "    proportion_physical: [[1.20e-01]]\n",
      "    characteristic_time: 1.00\n",
      "\n",
      "    Ratio of contacts and feed in values: [[1.00e+00,9.90e-01],[1.03e+00,1.01e+00]]\n",
      "\n",
      "  hospital:\n",
      "    contacts: [[5.14e+00,0.00e+00,0.00e+00],[0.00e+00,0.00e+00,0.00e+00],[0.00e+00,0.00e+00,0.00e+00]]\n",
      "    contacts_err: [[1.77e-01,0.00e+00,0.00e+00],[0.00e+00,0.00e+00,0.00e+00],[0.00e+00,0.00e+00,0.00e+00]]\n",
      "    proportion_physical: [[5.00e-02,1.00e+00,1.00e+00],[1.00e+00,0.00e+00,0.00e+00],[1.00e+00,0.00e+00,0.00e+00]]\n",
      "    characteristic_time: 8.00\n",
      "\n",
      "    Ratio of contacts and feed in values: [[1.03e+00,0.00e+00,0.00e+00],[0.00e+00,0.00e+00,0.00e+00],[0.00e+00,0.00e+00,0.00e+00]]\n",
      "\n",
      "  informal_work:\n",
      "    contacts: [[4.97e+00]]\n",
      "    contacts_err: [[3.97e-02]]\n",
      "    proportion_physical: [[1.20e-01]]\n",
      "    characteristic_time: 8.00\n",
      "\n",
      "    Ratio of contacts and feed in values: [[9.95e-01]]\n",
      "\n",
      "  isolation_unit:\n",
      "    contacts: [[0.00e+00,0.00e+00],[0.00e+00,0.00e+00]]\n",
      "    contacts_err: [[0.00e+00,0.00e+00],[0.00e+00,0.00e+00]]\n",
      "    proportion_physical: [[0.00e+00,0.00e+00],[0.00e+00,0.00e+00]]\n",
      "    characteristic_time: 24.00\n",
      "\n",
      "    Ratio of contacts and feed in values: [[0.00e+00,0.00e+00],[0.00e+00,0.00e+00]]\n",
      "\n",
      "  learning_center:\n",
      "    contacts: [[1.00e+01,6.42e+00],[1.93e+00,3.85e+00]]\n",
      "    contacts_err: [[1.40e-02,1.12e-02],[6.82e-03,9.62e-03]]\n",
      "    proportion_physical: [[1.20e-01,1.20e-01],[1.20e-01,1.20e-01]]\n",
      "    characteristic_time: 1.50\n",
      "\n",
      "    Ratio of contacts and feed in values: [[1.00e+00,1.00e+00],[4.36e-01,9.93e-01]]\n",
      "\n",
      "  n_f_distribution_center:\n",
      "    contacts: [[3.97e+00,1.37e+01],[7.66e-01,9.97e+00]]\n",
      "    contacts_err: [[4.35e-02,8.08e-02],[1.10e-02,3.98e-02]]\n",
      "    proportion_physical: [[1.20e-01]]\n",
      "    characteristic_time: 1.00\n",
      "\n",
      "    Ratio of contacts and feed in values: [[9.93e-01,1.01e+00],[9.69e-01,9.97e-01]]\n",
      "\n",
      "  play_group:\n",
      "    contacts: [[4.98e+00,0.00e+00,0.00e+00],[0.00e+00,4.98e+00,0.00e+00],[0.00e+00,0.00e+00,4.91e+00]]\n",
      "    contacts_err: [[2.05e-02,0.00e+00,0.00e+00],[0.00e+00,1.90e-02,0.00e+00],[0.00e+00,0.00e+00,2.71e-02]]\n",
      "    proportion_physical: [[6.00e-01,0.00e+00,0.00e+00],[0.00e+00,3.00e-01,0.00e+00],[0.00e+00,0.00e+00,1.50e-01]]\n",
      "    characteristic_time: 2.00\n",
      "\n",
      "    Ratio of contacts and feed in values: [[9.96e-01,0.00e+00,0.00e+00],[0.00e+00,9.95e-01,0.00e+00],[0.00e+00,0.00e+00,9.81e-01]]\n",
      "\n",
      "  pump_latrine:\n",
      "    contacts: [[3.25e+00,9.73e+00],[1.63e+00,4.33e+00]]\n",
      "    contacts_err: [[2.96e-03,5.12e-03],[2.40e-03,3.91e-03]]\n",
      "    proportion_physical: [[2.00e-02]]\n",
      "    characteristic_time: 0.54\n",
      "\n",
      "    Ratio of contacts and feed in values: [[1.00e+00,1.00e+00],[1.00e+00,1.00e+00]]\n",
      "\n",
      "  religious:\n",
      "    contacts: [[5.01e+00,9.47e+00],[1.10e+00,8.52e+00]]\n",
      "    contacts_err: [[1.76e-02,2.42e-02],[6.07e-03,1.69e-02]]\n",
      "    proportion_physical: [[1.20e-01]]\n",
      "    characteristic_time: 1.00\n",
      "\n",
      "    Ratio of contacts and feed in values: [[1.00e+00,1.00e+00],[1.00e+00,1.00e+00]]\n",
      "\n",
      "  shelter:\n",
      "    contacts: [[4.83e+00,1.92e+00],[1.92e+00,4.83e+00]]\n",
      "    contacts_err: [[1.61e-02,1.02e-02],[1.02e-02,1.61e-02]]\n",
      "    proportion_physical: [[8.00e-01,3.00e-01],[8.00e-01,3.00e-01]]\n",
      "    characteristic_time: 12.00\n",
      "\n",
      "    Ratio of contacts and feed in values: [[9.66e-01,9.59e-01],[9.59e-01,9.66e-01]]\n",
      "\n",
      "\n",
      "Results from UNCM_R\n",
      "  communal:\n",
      "    contacts: [[3.99e+00,5.32e+00],[2.08e+00,5.77e+00]]\n",
      "    contacts_err: [[6.00e-02,6.93e-02],[2.71e-02,4.52e-02]]\n",
      "    proportion_physical: [[1.20e-01]]\n",
      "    characteristic_time: 1.00\n",
      "\n",
      "    Ratio of contacts and feed in values: [[7.97e-01,6.56e-01],[1.36e+00,9.62e-01]]\n",
      "\n",
      "  distribution_center:\n",
      "    contacts: [[4.08e+00,7.60e+00],[3.02e+00,9.94e+00]]\n",
      "    contacts_err: [[3.98e-02,5.43e-02],[2.16e-02,3.91e-02]]\n",
      "    proportion_physical: [[1.20e-01]]\n",
      "    characteristic_time: 1.00\n",
      "\n",
      "    Ratio of contacts and feed in values: [[1.02e+00,5.58e-01],[3.82e+00,9.94e-01]]\n",
      "\n",
      "  e_voucher:\n",
      "    contacts: [[2.45e-01,1.22e+00],[3.99e-01,1.35e+01]]\n",
      "    contacts_err: [[1.57e-02,3.52e-02],[1.15e-02,6.67e-02]]\n",
      "    proportion_physical: [[1.20e-01]]\n",
      "    characteristic_time: 1.00\n",
      "\n",
      "    Ratio of contacts and feed in values: [[0.00e+00,6.11e-01],[3.99e+00,9.98e-01]]\n",
      "\n",
      "  female_communal:\n",
      "    contacts: [[5.02e+00,4.77e+00],[4.98e+00,6.03e+00]]\n",
      "    contacts_err: [[3.43e-02,3.35e-02],[3.50e-02,3.85e-02]]\n",
      "    proportion_physical: [[1.20e-01]]\n",
      "    characteristic_time: 1.00\n",
      "\n",
      "    Ratio of contacts and feed in values: [[1.00e+00,5.88e-01],[3.26e+00,1.01e+00]]\n",
      "\n",
      "  hospital:\n",
      "    contacts: [[5.14e+00,0.00e+00,0.00e+00],[0.00e+00,0.00e+00,0.00e+00],[0.00e+00,0.00e+00,0.00e+00]]\n",
      "    contacts_err: [[1.25e-01,0.00e+00,0.00e+00],[0.00e+00,0.00e+00,0.00e+00],[0.00e+00,0.00e+00,0.00e+00]]\n",
      "    proportion_physical: [[5.00e-02,1.00e+00,1.00e+00],[1.00e+00,0.00e+00,0.00e+00],[1.00e+00,0.00e+00,0.00e+00]]\n",
      "    characteristic_time: 8.00\n",
      "\n",
      "    Ratio of contacts and feed in values: [[1.03e+00,0.00e+00,0.00e+00],[0.00e+00,0.00e+00,0.00e+00],[0.00e+00,0.00e+00,0.00e+00]]\n",
      "\n",
      "  informal_work:\n",
      "    contacts: [[4.97e+00]]\n",
      "    contacts_err: [[2.81e-02]]\n",
      "    proportion_physical: [[1.20e-01]]\n",
      "    characteristic_time: 8.00\n",
      "\n",
      "    Ratio of contacts and feed in values: [[9.95e-01]]\n",
      "\n",
      "  isolation_unit:\n",
      "    contacts: [[0.00e+00,0.00e+00],[0.00e+00,0.00e+00]]\n",
      "    contacts_err: [[0.00e+00,0.00e+00],[0.00e+00,0.00e+00]]\n",
      "    proportion_physical: [[0.00e+00,0.00e+00],[0.00e+00,0.00e+00]]\n",
      "    characteristic_time: 24.00\n",
      "\n",
      "    Ratio of contacts and feed in values: [[0.00e+00,0.00e+00],[0.00e+00,0.00e+00]]\n",
      "\n",
      "  learning_center:\n",
      "    contacts: [[1.00e+01,4.00e+00],[4.91e+00,3.85e+00]]\n",
      "    contacts_err: [[9.90e-03,6.25e-03],[7.68e-03,6.81e-03]]\n",
      "    proportion_physical: [[1.20e-01,1.20e-01],[1.20e-01,1.20e-01]]\n",
      "    characteristic_time: 1.50\n",
      "\n",
      "    Ratio of contacts and feed in values: [[1.00e+00,6.24e-01],[1.10e+00,9.93e-01]]\n",
      "\n",
      "  n_f_distribution_center:\n",
      "    contacts: [[3.97e+00,8.01e+00],[2.68e+00,9.97e+00]]\n",
      "    contacts_err: [[3.07e-02,4.36e-02],[1.46e-02,2.81e-02]]\n",
      "    proportion_physical: [[1.20e-01]]\n",
      "    characteristic_time: 1.00\n",
      "\n",
      "    Ratio of contacts and feed in values: [[9.93e-01,5.88e-01],[3.39e+00,9.97e-01]]\n",
      "\n",
      "  play_group:\n",
      "    contacts: [[4.98e+00,0.00e+00,0.00e+00],[0.00e+00,4.98e+00,0.00e+00],[0.00e+00,0.00e+00,4.91e+00]]\n",
      "    contacts_err: [[1.45e-02,0.00e+00,0.00e+00],[0.00e+00,1.35e-02,0.00e+00],[0.00e+00,0.00e+00,1.92e-02]]\n",
      "    proportion_physical: [[6.00e-01,0.00e+00,0.00e+00],[0.00e+00,3.00e-01,0.00e+00],[0.00e+00,0.00e+00,1.50e-01]]\n",
      "    characteristic_time: 2.00\n",
      "\n",
      "    Ratio of contacts and feed in values: [[9.96e-01,0.00e+00,0.00e+00],[0.00e+00,9.95e-01,0.00e+00],[0.00e+00,0.00e+00,9.81e-01]]\n",
      "\n",
      "  pump_latrine:\n",
      "    contacts: [[3.25e+00,5.49e+00],[7.17e+00,4.33e+00]]\n",
      "    contacts_err: [[2.09e-03,2.72e-03],[3.55e-03,2.76e-03]]\n",
      "    proportion_physical: [[2.00e-02]]\n",
      "    characteristic_time: 0.54\n",
      "\n",
      "    Ratio of contacts and feed in values: [[1.00e+00,5.64e-01],[4.40e+00,1.00e+00]]\n",
      "\n",
      "  religious:\n",
      "    contacts: [[5.01e+00,5.75e+00],[3.11e+00,8.52e+00]]\n",
      "    contacts_err: [[1.24e-02,1.33e-02],[7.21e-03,1.19e-02]]\n",
      "    proportion_physical: [[1.20e-01]]\n",
      "    characteristic_time: 1.00\n",
      "\n",
      "    Ratio of contacts and feed in values: [[1.00e+00,6.07e-01],[2.83e+00,1.00e+00]]\n",
      "\n",
      "  shelter:\n",
      "    contacts: [[4.83e+00,1.92e+00],[1.92e+00,4.83e+00]]\n",
      "    contacts_err: [[1.14e-02,7.19e-03],[7.19e-03,1.14e-02]]\n",
      "    proportion_physical: [[8.00e-01,3.00e-01],[8.00e-01,3.00e-01]]\n",
      "    characteristic_time: 12.00\n",
      "\n",
      "    Ratio of contacts and feed in values: [[9.66e-01,9.59e-01],[9.59e-01,9.66e-01]]\n",
      "\n",
      "\n",
      "Results from UNCM_V\n",
      "  communal:\n",
      "    contacts: [[9.64e-01,2.43e+00],[9.52e-01,2.45e+00]]\n",
      "    contacts_err: [[4.17e-02,6.63e-02],[2.59e-02,4.16e-02]]\n",
      "    proportion_physical: [[1.20e-01]]\n",
      "    characteristic_time: 1.00\n",
      "\n",
      "    Ratio of contacts and feed in values: [[1.93e-01,3.00e-01],[6.22e-01,4.09e-01]]\n",
      "\n",
      "  distribution_center:\n",
      "    contacts: [[1.16e+01,2.88e+01],[1.14e+01,2.94e+01]]\n",
      "    contacts_err: [[9.49e-02,1.49e-01],[5.94e-02,9.52e-02]]\n",
      "    proportion_physical: [[1.20e-01]]\n",
      "    characteristic_time: 1.00\n",
      "\n",
      "    Ratio of contacts and feed in values: [[2.90e+00,2.11e+00],[1.45e+01,2.94e+00]]\n",
      "\n",
      "  e_voucher:\n",
      "    contacts: [[4.60e+00,1.36e+01],[4.43e+00,1.35e+01]]\n",
      "    contacts_err: [[9.65e-02,1.66e-01],[5.41e-02,9.44e-02]]\n",
      "    proportion_physical: [[1.20e-01]]\n",
      "    characteristic_time: 1.00\n",
      "\n",
      "    Ratio of contacts and feed in values: [[0.00e+00,6.79e+00],[4.43e+01,9.98e-01]]\n",
      "\n",
      "  female_communal:\n",
      "    contacts: [[6.58e+00,6.47e+00],[6.76e+00,6.59e+00]]\n",
      "    contacts_err: [[5.56e-02,5.51e-02],[5.76e-02,5.69e-02]]\n",
      "    proportion_physical: [[1.20e-01]]\n",
      "    characteristic_time: 1.00\n",
      "\n",
      "    Ratio of contacts and feed in values: [[1.32e+00,7.97e-01],[4.42e+00,1.10e+00]]\n",
      "\n",
      "  hospital:\n",
      "    contacts: [[1.26e+01,0.00e+00,0.00e+00],[0.00e+00,0.00e+00,0.00e+00],[0.00e+00,0.00e+00,0.00e+00]]\n",
      "    contacts_err: [[2.76e-01,0.00e+00,0.00e+00],[0.00e+00,0.00e+00,0.00e+00],[0.00e+00,0.00e+00,0.00e+00]]\n",
      "    proportion_physical: [[5.00e-02,1.00e+00,1.00e+00],[1.00e+00,0.00e+00,0.00e+00],[1.00e+00,0.00e+00,0.00e+00]]\n",
      "    characteristic_time: 8.00\n",
      "\n",
      "    Ratio of contacts and feed in values: [[2.51e+00,0.00e+00,0.00e+00],[0.00e+00,0.00e+00,0.00e+00],[0.00e+00,0.00e+00,0.00e+00]]\n",
      "\n",
      "  informal_work:\n",
      "    contacts: [[3.10e+01]]\n",
      "    contacts_err: [[9.90e-02]]\n",
      "    proportion_physical: [[1.20e-01]]\n",
      "    characteristic_time: 8.00\n",
      "\n",
      "    Ratio of contacts and feed in values: [[6.19e+00]]\n",
      "\n",
      "  isolation_unit:\n",
      "    contacts: [[0.00e+00,0.00e+00],[0.00e+00,0.00e+00]]\n",
      "    contacts_err: [[0.00e+00,0.00e+00],[0.00e+00,0.00e+00]]\n",
      "    proportion_physical: [[0.00e+00,0.00e+00],[0.00e+00,0.00e+00]]\n",
      "    characteristic_time: 24.00\n",
      "\n",
      "    Ratio of contacts and feed in values: [[0.00e+00,0.00e+00],[0.00e+00,0.00e+00]]\n",
      "\n",
      "  learning_center:\n",
      "    contacts: [[9.02e+00,2.98e+00],[3.66e+00,2.85e+00]]\n",
      "    contacts_err: [[1.33e-02,7.64e-03],[9.37e-03,8.27e-03]]\n",
      "    proportion_physical: [[1.20e-01,1.20e-01],[1.20e-01,1.20e-01]]\n",
      "    characteristic_time: 1.50\n",
      "\n",
      "    Ratio of contacts and feed in values: [[9.02e-01,4.65e-01],[8.24e-01,7.34e-01]]\n",
      "\n",
      "  n_f_distribution_center:\n",
      "    contacts: [[1.90e+01,5.67e+01],[1.89e+01,5.64e+01]]\n",
      "    contacts_err: [[9.51e-02,1.64e-01],[5.49e-02,9.47e-02]]\n",
      "    proportion_physical: [[1.20e-01]]\n",
      "    characteristic_time: 1.00\n",
      "\n",
      "    Ratio of contacts and feed in values: [[4.75e+00,4.16e+00],[2.40e+01,5.64e+00]]\n",
      "\n",
      "  play_group:\n",
      "    contacts: [[7.47e+00,8.60e+00,4.17e+00],[7.42e+00,8.72e+00,4.09e+00],[7.41e+00,8.43e+00,4.08e+00]]\n",
      "    contacts_err: [[2.51e-02,2.70e-02,1.88e-02],[2.32e-02,2.52e-02,1.73e-02],[3.34e-02,3.56e-02,2.48e-02]]\n",
      "    proportion_physical: [[6.00e-01,0.00e+00,0.00e+00],[0.00e+00,3.00e-01,0.00e+00],[0.00e+00,0.00e+00,1.50e-01]]\n",
      "    characteristic_time: 2.00\n",
      "\n",
      "    Ratio of contacts and feed in values: [[1.49e+00,0.00e+00,0.00e+00],[0.00e+00,1.74e+00,0.00e+00],[0.00e+00,0.00e+00,8.16e-01]]\n",
      "\n",
      "  pump_latrine:\n",
      "    contacts: [[1.57e+01,1.21e+01],[1.58e+01,1.24e+01]]\n",
      "    contacts_err: [[6.51e-03,5.71e-03],[7.46e-03,6.62e-03]]\n",
      "    proportion_physical: [[2.00e-02]]\n",
      "    characteristic_time: 0.54\n",
      "\n",
      "    Ratio of contacts and feed in values: [[4.84e+00,1.24e+00],[9.70e+00,2.87e+00]]\n",
      "\n",
      "  religious:\n",
      "    contacts: [[1.49e+01,2.88e+01],[1.56e+01,3.01e+01]]\n",
      "    contacts_err: [[3.03e-02,4.22e-02],[2.28e-02,3.17e-02]]\n",
      "    proportion_physical: [[1.20e-01]]\n",
      "    characteristic_time: 1.00\n",
      "\n",
      "    Ratio of contacts and feed in values: [[2.98e+00,3.04e+00],[1.42e+01,3.54e+00]]\n",
      "\n",
      "  shelter:\n",
      "    contacts: [[4.32e+00,3.30e+00],[3.30e+00,4.15e+00]]\n",
      "    contacts_err: [[1.52e-02,1.33e-02],[1.33e-02,1.49e-02]]\n",
      "    proportion_physical: [[8.00e-01,3.00e-01],[8.00e-01,3.00e-01]]\n",
      "    characteristic_time: 12.00\n",
      "\n",
      "    Ratio of contacts and feed in values: [[8.64e-01,1.65e+00],[1.65e+00,8.29e-01]]\n",
      "\n",
      "\n"
     ]
    }
   ],
   "source": [
    "simulator.tracker.post_process_simulation(save=True)"
   ]
  },
  {
   "cell_type": "code",
   "execution_count": null,
   "metadata": {},
   "outputs": [],
   "source": []
  },
  {
   "cell_type": "code",
   "execution_count": null,
   "metadata": {},
   "outputs": [],
   "source": []
  },
  {
   "cell_type": "code",
   "execution_count": null,
   "metadata": {},
   "outputs": [],
   "source": []
  },
  {
   "cell_type": "code",
   "execution_count": null,
   "metadata": {},
   "outputs": [],
   "source": []
  }
 ],
 "metadata": {
  "kernelspec": {
   "display_name": "venvPrivateJune",
   "language": "python",
   "name": "venvprivatejune"
  },
  "language_info": {
   "codemirror_mode": {
    "name": "ipython",
    "version": 3
   },
   "file_extension": ".py",
   "mimetype": "text/x-python",
   "name": "python",
   "nbconvert_exporter": "python",
   "pygments_lexer": "ipython3",
   "version": "3.8.10"
  }
 },
 "nbformat": 4,
 "nbformat_minor": 4
}
