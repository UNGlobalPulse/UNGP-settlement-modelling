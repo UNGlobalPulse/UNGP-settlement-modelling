{
 "cells": [
  {
   "cell_type": "code",
   "execution_count": 1,
   "metadata": {},
   "outputs": [],
   "source": [
    "import warnings\n",
    "warnings.filterwarnings('ignore')"
   ]
  },
  {
   "cell_type": "code",
   "execution_count": 2,
   "metadata": {},
   "outputs": [],
   "source": [
    "import numpy as np\n",
    "import pandas as pd\n",
    "import time\n",
    "import matplotlib.pyplot as plt\n",
    "from datetime import datetime\n",
    "import sys\n",
    "import argparse\n",
    "from pathlib import Path\n"
   ]
  },
  {
   "cell_type": "code",
   "execution_count": 3,
   "metadata": {},
   "outputs": [
    {
     "name": "stderr",
     "output_type": "stream",
     "text": [
      "No --data argument given - defaulting to:\n",
      "/home/joseph/Documents/PhD/UN_Work/JUNE/data\n",
      "No --configs argument given - defaulting to:\n",
      "/home/joseph/Documents/PhD/UN_Work/JUNE/june/configs\n"
     ]
    },
    {
     "name": "stdout",
     "output_type": "stream",
     "text": [
      "2022-02-14 17:12:42,979 - camps.paths - WARNING - No --camp_data argument given - defaulting to:\n",
      "/home/joseph/Documents/PhD/UN_Work/UNGP-settlement-modelling-private/camp_data\n",
      "2022-02-14 17:12:42,980 - camps.paths - WARNING - No --configs_camps argument given - defaulting to:\n",
      "/home/joseph/Documents/PhD/UN_Work/UNGP-settlement-modelling-private/configs_camps\n"
     ]
    }
   ],
   "source": [
    "from june.geography import Geography\n",
    "from june.demography.demography import (\n",
    "    load_age_and_sex_generators_for_bins,\n",
    "    Demography,\n",
    "    Population,\n",
    "    load_comorbidity_data,\n",
    "    generate_comorbidity,\n",
    ")\n",
    "from june.paths import data_path, configs_path\n",
    "from june.epidemiology.epidemiology import Epidemiology\n",
    "from june.epidemiology.infection import ImmunitySetter\n",
    "from june.epidemiology.infection import Infection, HealthIndexGenerator, InfectionSelector, InfectionSelectors\n",
    "from june.epidemiology.infection_seed import InfectionSeed, InfectionSeeds\n",
    "from june.interaction import Interaction\n",
    "from june.groups import Hospital, Hospitals, Cemeteries\n",
    "from june.distributors import HospitalDistributor\n",
    "from june.hdf5_savers import generate_world_from_hdf5\n",
    "from june.policy import Policy, Policies\n",
    "from june.records import Record\n",
    "from june.simulator import Simulator\n",
    "from june.records import Record, RecordReader\n",
    "\n",
    "from june.tracker.tracker import Tracker\n",
    "\n",
    "from camps.activity import CampActivityManager\n",
    "from camps.paths import camp_data_path, camp_configs_path\n",
    "from camps.world import World\n",
    "from camps.groups.leisure import generate_leisure_for_world, generate_leisure_for_config\n",
    "from camps.camp_creation import (\n",
    "    generate_empty_world,\n",
    "    populate_world,\n",
    "    distribute_people_to_households,\n",
    ")  # this is loaded from the ../camp_scripts folder\n",
    "\n"
   ]
  },
  {
   "cell_type": "code",
   "execution_count": 4,
   "metadata": {},
   "outputs": [],
   "source": [
    "from camps.groups import PumpLatrines, PumpLatrineDistributor\n",
    "from camps.groups import DistributionCenters, DistributionCenterDistributor\n",
    "from camps.groups import Communals, CommunalDistributor\n",
    "from camps.groups import FemaleCommunals, FemaleCommunalDistributor\n",
    "from camps.groups import Religiouss, ReligiousDistributor\n",
    "from camps.groups import Shelter, Shelters, ShelterDistributor\n",
    "from camps.groups import IsolationUnit, IsolationUnits\n",
    "from camps.groups import LearningCenters\n",
    "from camps.distributors import LearningCenterDistributor\n",
    "from camps.groups import PlayGroups, PlayGroupDistributor\n",
    "from camps.groups import EVouchers, EVoucherDistributor\n",
    "from camps.groups import NFDistributionCenters, NFDistributionCenterDistributor\n",
    "from camps.groups import SheltersVisitsDistributor"
   ]
  },
  {
   "cell_type": "code",
   "execution_count": 5,
   "metadata": {},
   "outputs": [],
   "source": [
    "Results_Path = Path(\"/home/joseph/Documents/PhD/UN_Work/Results\")\n",
    "\n",
    "Config_File_Path = camp_configs_path / \"config_demo.yaml\"\n",
    "Interactions_File_Path= camp_configs_path / \"defaults/interaction/ContactInteraction_subgroups.yaml\"\n",
    "Policies_File_Path = camp_configs_path / \"defaults/policy/simple_policy.yaml\"\n",
    "\n",
    "Hospitals_File_Path = camp_data_path / \"input/hospitals/hospitals.csv\"\n",
    "\n",
    "comorbidity_multipliers_path = camp_configs_path / \"defaults/comorbidities.yaml\"\n",
    "male_comorbidity_reference_prevalence_path = camp_data_path / \"input/demography/uk_male_comorbidities.csv\"\n",
    "female_comorbidity_reference_prevalence_path = camp_data_path / \"input/demography/uk_female_comorbidities.csv\""
   ]
  },
  {
   "cell_type": "markdown",
   "metadata": {},
   "source": [
    "## Initialize the world"
   ]
  },
  {
   "cell_type": "markdown",
   "metadata": {},
   "source": [
    "When we create the camp to be simulated, we call this the 'world'. The world is initialised after specifying which geographical regions you want to simulate. We can do this by using the `filter_key` argument in the `generate_empty_world` function. Cox's Bazar Expansion Site is made up of camps (which we call regions), UNHCR blocks (which we call super areas) and Mahjee blocks (which we call areas). These are the 3 heirarchical levels on which our model works. You can pass lists of the regions/super_areas/areas to the function here. Alternatively, by leaving the function empty you can generate the entire Cox's Bazar Expansion Site consisting of 112 super areas."
   ]
  },
  {
   "cell_type": "code",
   "execution_count": 6,
   "metadata": {},
   "outputs": [
    {
     "name": "stdout",
     "output_type": "stream",
     "text": [
      "2022-02-14 17:12:43,433 - june.geography.geography - INFO - There are 65 areas and 4 super_areas and 1 regions in the world.\n"
     ]
    }
   ],
   "source": [
    "# create empty world's geography\n",
    "world = generate_empty_world(filter_key = {\"region\" : [\"CXB-219\"]})"
   ]
  },
  {
   "cell_type": "code",
   "execution_count": 7,
   "metadata": {},
   "outputs": [],
   "source": [
    "# populate empty world\n",
    "populate_world(world)"
   ]
  },
  {
   "cell_type": "code",
   "execution_count": 8,
   "metadata": {},
   "outputs": [
    {
     "name": "stdout",
     "output_type": "stream",
     "text": [
      "Distributing 467 people to CXB-219-001\n",
      "Parents done\n",
      "Kids done\n",
      "All multigen adults done\n",
      "All adults only houses done\n",
      "Distributing 369 people to CXB-219-002\n",
      "Parents done\n",
      "Kids done\n",
      "All multigen adults done\n",
      "All adults only houses done\n",
      "Distributing 331 people to CXB-219-003\n",
      "Parents done\n",
      "Kids done\n",
      "All multigen adults done\n",
      "All adults only houses done\n",
      "Distributing 386 people to CXB-219-004\n",
      "Parents done\n",
      "Kids done\n",
      "All multigen adults done\n",
      "All adults only houses done\n",
      "Distributing 314 people to CXB-219-005\n",
      "Parents done\n",
      "Kids done\n",
      "All multigen adults done\n",
      "All adults only houses done\n",
      "Distributing 330 people to CXB-219-006\n",
      "Parents done\n",
      "Kids done\n",
      "All multigen adults done\n",
      "All adults only houses done\n",
      "Distributing 259 people to CXB-219-007\n",
      "Parents done\n",
      "Kids done\n",
      "All multigen adults done\n",
      "All adults only houses done\n",
      "Distributing 350 people to CXB-219-009\n",
      "Parents done\n",
      "Kids done\n",
      "All multigen adults done\n",
      "All adults only houses done\n",
      "Distributing 275 people to CXB-219-010\n",
      "Parents done\n",
      "Kids done\n",
      "All multigen adults done\n",
      "All adults only houses done\n",
      "Distributing 249 people to CXB-219-011\n",
      "Parents done\n",
      "Kids done\n",
      "All multigen adults done\n",
      "All adults only houses done\n",
      "Distributing 464 people to CXB-219-012\n",
      "Parents done\n",
      "Kids done\n",
      "All multigen adults done\n",
      "All adults only houses done\n",
      "Distributing 418 people to CXB-219-013\n",
      "Parents done\n",
      "Kids done\n",
      "All multigen adults done\n",
      "All adults only houses done\n",
      "Distributing 460 people to CXB-219-014\n",
      "Parents done\n",
      "Kids done\n",
      "All multigen adults done\n",
      "All adults only houses done\n",
      "Distributing 384 people to CXB-219-017\n",
      "Parents done\n",
      "Kids done\n",
      "All multigen adults done\n",
      "All adults only houses done\n",
      "Distributing 417 people to CXB-219-020\n",
      "Parents done\n",
      "Kids done\n",
      "All multigen adults done\n",
      "All adults only houses done\n",
      "Distributing 426 people to CXB-219-021\n",
      "Parents done\n",
      "Kids done\n",
      "All multigen adults done\n",
      "All adults only houses done\n",
      "Distributing 414 people to CXB-219-022\n",
      "Parents done\n",
      "Kids done\n",
      "All multigen adults done\n",
      "All adults only houses done\n",
      "Distributing 384 people to CXB-219-024\n",
      "Parents done\n",
      "Kids done\n",
      "All multigen adults done\n",
      "All adults only houses done\n",
      "Distributing 378 people to CXB-219-025\n",
      "Parents done\n",
      "Kids done\n",
      "All multigen adults done\n",
      "All adults only houses done\n",
      "Distributing 379 people to CXB-219-026\n",
      "Parents done\n",
      "Kids done\n",
      "All multigen adults done\n",
      "All adults only houses done\n",
      "Distributing 413 people to CXB-219-027\n",
      "Parents done\n",
      "Kids done\n",
      "All multigen adults done\n",
      "All adults only houses done\n",
      "Distributing 392 people to CXB-219-028\n",
      "Parents done\n",
      "Kids done\n",
      "All multigen adults done\n",
      "All adults only houses done\n",
      "Distributing 331 people to CXB-219-029\n",
      "Parents done\n",
      "Kids done\n",
      "All multigen adults done\n",
      "All adults only houses done\n",
      "Distributing 459 people to CXB-219-030\n",
      "Parents done\n",
      "Kids done\n",
      "All multigen adults done\n",
      "All adults only houses done\n",
      "Distributing 394 people to CXB-219-032\n",
      "Parents done\n",
      "Kids done\n",
      "All multigen adults done\n",
      "All adults only houses done\n",
      "Distributing 339 people to CXB-219-033\n",
      "Parents done\n",
      "Kids done\n",
      "All multigen adults done\n",
      "All adults only houses done\n",
      "Distributing 373 people to CXB-219-034\n",
      "Parents done\n",
      "Kids done\n",
      "All multigen adults done\n",
      "All adults only houses done\n",
      "Distributing 259 people to CXB-219-036\n",
      "Parents done\n",
      "Kids done\n",
      "All multigen adults done\n",
      "All adults only houses done\n",
      "Distributing 455 people to CXB-219-037\n",
      "Parents done\n",
      "Kids done\n",
      "All multigen adults done\n",
      "All adults only houses done\n",
      "Distributing 459 people to CXB-219-038\n",
      "Parents done\n",
      "Kids done\n",
      "All multigen adults done\n",
      "All adults only houses done\n",
      "Distributing 488 people to CXB-219-039\n",
      "Parents done\n",
      "Kids done\n",
      "All multigen adults done\n",
      "All adults only houses done\n",
      "Distributing 174 people to CXB-219-040\n",
      "Parents done\n",
      "Kids done\n",
      "All multigen adults done\n",
      "All adults only houses done\n",
      "Distributing 330 people to CXB-219-041\n",
      "Parents done\n",
      "Kids done\n",
      "All multigen adults done\n",
      "All adults only houses done\n",
      "Distributing 398 people to CXB-219-042\n",
      "Parents done\n",
      "Kids done\n",
      "All multigen adults done\n",
      "All adults only houses done\n",
      "Distributing 398 people to CXB-219-043\n",
      "Parents done\n",
      "Kids done\n",
      "All multigen adults done\n",
      "All adults only houses done\n",
      "Distributing 368 people to CXB-219-044\n",
      "Parents done\n",
      "Kids done\n",
      "All multigen adults done\n",
      "All adults only houses done\n",
      "Distributing 429 people to CXB-219-045\n",
      "Parents done\n",
      "Kids done\n",
      "All multigen adults done\n",
      "All adults only houses done\n",
      "Distributing 449 people to CXB-219-046\n",
      "Parents done\n",
      "Kids done\n",
      "All multigen adults done\n",
      "All adults only houses done\n",
      "Distributing 244 people to CXB-219-047\n",
      "Parents done\n",
      "Kids done\n",
      "All multigen adults done\n",
      "All adults only houses done\n",
      "Distributing 311 people to CXB-219-048\n",
      "Parents done\n",
      "Kids done\n",
      "All multigen adults done\n",
      "All adults only houses done\n",
      "Distributing 335 people to CXB-219-049\n",
      "Parents done\n",
      "Kids done\n",
      "All multigen adults done\n",
      "All adults only houses done\n",
      "Distributing 206 people to CXB-219-050\n",
      "Parents done\n",
      "Kids done\n",
      "All multigen adults done\n",
      "All adults only houses done\n",
      "Distributing 344 people to CXB-219-051\n",
      "Parents done\n",
      "Kids done\n",
      "All multigen adults done\n",
      "All adults only houses done\n",
      "Distributing 347 people to CXB-219-052\n",
      "Parents done\n",
      "Kids done\n",
      "All multigen adults done\n",
      "All adults only houses done\n",
      "Distributing 533 people to CXB-219-053\n",
      "Parents done\n",
      "Kids done\n",
      "All multigen adults done\n",
      "All adults only houses done\n",
      "Distributing 380 people to CXB-219-054\n",
      "Parents done\n",
      "Kids done\n",
      "All multigen adults done\n",
      "All adults only houses done\n",
      "Distributing 253 people to CXB-219-055\n",
      "Parents done\n",
      "Kids done\n",
      "All multigen adults done\n",
      "All adults only houses done\n",
      "Distributing 274 people to CXB-219-056\n",
      "Parents done\n",
      "Kids done\n",
      "All multigen adults done\n",
      "All adults only houses done\n",
      "Distributing 247 people to CXB-219-057\n",
      "Parents done\n",
      "Kids done\n",
      "All multigen adults done\n",
      "All adults only houses done\n",
      "Distributing 376 people to CXB-219-058\n",
      "Parents done\n",
      "Kids done\n",
      "All multigen adults done\n",
      "All adults only houses done\n",
      "Distributing 341 people to CXB-219-059\n",
      "Parents done\n",
      "Kids done\n",
      "All multigen adults done\n",
      "All adults only houses done\n",
      "Distributing 331 people to CXB-219-060\n",
      "Parents done\n",
      "Kids done\n",
      "All multigen adults done\n",
      "All adults only houses done\n",
      "Distributing 413 people to CXB-219-061\n",
      "Parents done\n",
      "Kids done\n",
      "All multigen adults done\n",
      "All adults only houses done\n",
      "Distributing 259 people to CXB-219-062\n",
      "Parents done\n",
      "Kids done\n",
      "All multigen adults done\n",
      "All adults only houses done\n",
      "Distributing 286 people to CXB-219-063\n",
      "Parents done\n",
      "Kids done\n",
      "All multigen adults done\n",
      "All adults only houses done\n",
      "Distributing 194 people to CXB-219-064\n",
      "Parents done\n",
      "Kids done\n",
      "All multigen adults done\n",
      "All adults only houses done\n",
      "Distributing 212 people to CXB-219-065\n",
      "Parents done\n",
      "Kids done\n",
      "All multigen adults done\n",
      "All adults only houses done\n",
      "Distributing 330 people to CXB-219-066\n",
      "Parents done\n",
      "Kids done\n",
      "All multigen adults done\n",
      "All adults only houses done\n",
      "Distributing 315 people to CXB-219-067\n",
      "Parents done\n",
      "Kids done\n",
      "All multigen adults done\n",
      "All adults only houses done\n",
      "Distributing 386 people to CXB-219-068\n",
      "Parents done\n",
      "Kids done\n",
      "All multigen adults done\n",
      "All adults only houses done\n",
      "Distributing 551 people to CXB-219-069\n",
      "Parents done\n",
      "Kids done\n",
      "All multigen adults done\n",
      "All adults only houses done\n",
      "Distributing 321 people to CXB-219-070\n",
      "Parents done\n",
      "Kids done\n",
      "All multigen adults done\n",
      "All adults only houses done\n",
      "Distributing 216 people to CXB-219-071\n",
      "Parents done\n",
      "Kids done\n",
      "All multigen adults done\n",
      "All adults only houses done\n",
      "Distributing 311 people to CXB-234-001\n",
      "Parents done\n",
      "Kids done\n",
      "All multigen adults done\n",
      "All adults only houses done\n",
      "Distributing 275 people to CXB-234-002\n",
      "Parents done\n",
      "Kids done\n",
      "All multigen adults done\n",
      "All adults only houses done\n"
     ]
    }
   ],
   "source": [
    "# distribute people to households\n",
    "distribute_people_to_households(world)"
   ]
  },
  {
   "cell_type": "code",
   "execution_count": 9,
   "metadata": {},
   "outputs": [
    {
     "name": "stdout",
     "output_type": "stream",
     "text": [
      "2022-02-14 17:12:45,789 - hospitals - INFO - There are 8 hospitals in the world.\n"
     ]
    }
   ],
   "source": [
    "# distirbute hospitals\n",
    "hospitals = Hospitals.from_file(\n",
    "    filename=Hospitals_File_Path\n",
    ")\n",
    "for hospital in hospitals:\n",
    "    hospital.area = world.areas.get_closest_area(hospital.coordinates)\n",
    "world.hospitals = hospitals\n",
    "hospital_distributor = HospitalDistributor(\n",
    "    hospitals, medic_min_age=20, patients_per_medic=10\n",
    ")\n",
    "hospital_distributor.assign_closest_hospitals_to_super_areas(\n",
    "    world.super_areas\n",
    ")\n",
    "hospital_distributor.distribute_medics_from_world(world.people)"
   ]
  },
  {
   "cell_type": "code",
   "execution_count": 10,
   "metadata": {},
   "outputs": [
    {
     "name": "stdout",
     "output_type": "stream",
     "text": [
      "2022-02-14 17:12:45,814 - social_venue - INFO - Domain 0 has 225 pump_latrines(s)\n",
      "2022-02-14 17:12:45,836 - social_venue - INFO - Domain 0 has 498 play_groups(s)\n",
      "2022-02-14 17:12:45,843 - social_venue - INFO - Domain 0 has 7 distribution_centers(s)\n",
      "2022-02-14 17:12:45,886 - social_venue - INFO - Domain 0 has 125 communals(s)\n",
      "2022-02-14 17:12:45,909 - social_venue - INFO - Domain 0 has 67 female_communals(s)\n",
      "2022-02-14 17:12:46,329 - social_venue - INFO - Domain 0 has 2064 religiouss(s)\n",
      "2022-02-14 17:12:46,336 - social_venue - INFO - Domain 0 has 7 e_vouchers(s)\n",
      "2022-02-14 17:12:46,346 - social_venue - INFO - Domain 0 has 36 n_f_distribution_centers(s)\n"
     ]
    }
   ],
   "source": [
    "world.pump_latrines = PumpLatrines.for_areas(world.areas)\n",
    "world.play_groups = PlayGroups.for_areas(world.areas)\n",
    "world.distribution_centers = DistributionCenters.for_areas(world.areas)\n",
    "world.communals = Communals.for_areas(world.areas)\n",
    "world.female_communals = FemaleCommunals.for_areas(world.areas)\n",
    "world.religiouss = Religiouss.for_areas(world.areas)\n",
    "world.e_vouchers = EVouchers.for_areas(world.areas)\n",
    "world.n_f_distribution_centers = NFDistributionCenters.for_areas(world.areas)"
   ]
  },
  {
   "cell_type": "code",
   "execution_count": 11,
   "metadata": {},
   "outputs": [],
   "source": [
    "world.cemeteries = Cemeteries()"
   ]
  },
  {
   "cell_type": "markdown",
   "metadata": {},
   "source": [
    "## Geography exploration"
   ]
  },
  {
   "cell_type": "markdown",
   "metadata": {},
   "source": [
    "The geography is initialised first and can be explored."
   ]
  },
  {
   "cell_type": "markdown",
   "metadata": {},
   "source": [
    "### UNHCR camp blocks inside the World"
   ]
  },
  {
   "cell_type": "code",
   "execution_count": 12,
   "metadata": {},
   "outputs": [],
   "source": [
    "super_areas = []\n",
    "for super_area in world.super_areas:\n",
    "    super_areas.append(super_area.name)"
   ]
  },
  {
   "cell_type": "code",
   "execution_count": 13,
   "metadata": {},
   "outputs": [
    {
     "data": {
      "text/plain": [
       "['CXB-219-A', 'CXB-219-B', 'CXB-219-C', 'CXB-219-D']"
      ]
     },
     "execution_count": 13,
     "metadata": {},
     "output_type": "execute_result"
    }
   ],
   "source": [
    "super_areas[:5]"
   ]
  },
  {
   "cell_type": "markdown",
   "metadata": {},
   "source": [
    "### Mahjee blocks inside World"
   ]
  },
  {
   "cell_type": "code",
   "execution_count": 14,
   "metadata": {},
   "outputs": [],
   "source": [
    "areas = []\n",
    "for area in world.areas:\n",
    "    areas.append(area.name)"
   ]
  },
  {
   "cell_type": "code",
   "execution_count": 15,
   "metadata": {},
   "outputs": [
    {
     "data": {
      "text/plain": [
       "['CXB-219-001', 'CXB-219-002', 'CXB-219-003', 'CXB-219-004', 'CXB-219-005']"
      ]
     },
     "execution_count": 15,
     "metadata": {},
     "output_type": "execute_result"
    }
   ],
   "source": [
    "areas[:5]"
   ]
  },
  {
   "cell_type": "markdown",
   "metadata": {},
   "source": [
    "## Demography exploration"
   ]
  },
  {
   "cell_type": "markdown",
   "metadata": {},
   "source": [
    "Once we have populated the 'digital twin' we can explore some of the attributes of the people we have created in the simulation."
   ]
  },
  {
   "cell_type": "markdown",
   "metadata": {},
   "source": [
    "### UNHCR block residents"
   ]
  },
  {
   "cell_type": "code",
   "execution_count": 16,
   "metadata": {},
   "outputs": [],
   "source": [
    "sample_ages = []\n",
    "sample_sexes = []\n",
    "for person in world.super_areas.members[0].people:\n",
    "    sample_ages.append(person.age)\n",
    "    sample_sexes.append(person.sex)"
   ]
  },
  {
   "cell_type": "code",
   "execution_count": 17,
   "metadata": {},
   "outputs": [
    {
     "data": {
      "text/plain": [
       "(['f', 'f', 'm', 'm', 'f'], [30, 42, 25, 50, 55])"
      ]
     },
     "execution_count": 17,
     "metadata": {},
     "output_type": "execute_result"
    }
   ],
   "source": [
    "sample_sexes[:5], sample_ages[:5]"
   ]
  },
  {
   "cell_type": "code",
   "execution_count": 18,
   "metadata": {},
   "outputs": [
    {
     "data": {
      "image/png": "[encoded data removed]",
      "text/plain": [
       "<Figure size 432x288 with 1 Axes>"
      ]
     },
     "metadata": {
      "needs_background": "light"
     },
     "output_type": "display_data"
    }
   ],
   "source": [
    "ages, counts = np.unique(sample_ages, return_counts=True)\n",
    "plt.bar(ages, counts)\n",
    "plt.title('super area: {} age distribution'.format(world.super_areas.members[0].name))\n",
    "plt.show()"
   ]
  },
  {
   "cell_type": "code",
   "execution_count": 19,
   "metadata": {},
   "outputs": [
    {
     "name": "stdout",
     "output_type": "stream",
     "text": [
      "The % children between ages 0-18 is 53%\n"
     ]
    }
   ],
   "source": [
    "print ('The % children between ages 0-18 is {}%'.format(round(np.sum(counts[:18])/(np.sum(counts[:18])+np.sum(counts[18:]))*100)))"
   ]
  },
  {
   "cell_type": "markdown",
   "metadata": {},
   "source": [
    "## Households"
   ]
  },
  {
   "cell_type": "markdown",
   "metadata": {},
   "source": [
    "In this model, we will use the term 'family' and 'household' interchangeably. After populating the 'digital twin', we need to cluster people into families. To do this, we take account of age structure so that children live with adults, that there are some intergenerational households and such that we might also have some households of only adults."
   ]
  },
  {
   "cell_type": "markdown",
   "metadata": {},
   "source": [
    "### Household size distribution"
   ]
  },
  {
   "cell_type": "code",
   "execution_count": 20,
   "metadata": {},
   "outputs": [
    {
     "data": {
      "image/png": "[encoded data removed]",
      "text/plain": [
       "<Figure size 432x288 with 1 Axes>"
      ]
     },
     "metadata": {
      "needs_background": "light"
     },
     "output_type": "display_data"
    }
   ],
   "source": [
    "household_sizes = [household.size for household in world.households]\n",
    "plt.hist(household_sizes, density=True, bins=np.arange(0,12))\n",
    "plt.xlabel(\"Household size\")\n",
    "plt.ylabel(\"Frequency\")\n",
    "plt.axvline(np.mean(household_sizes), color=\"cyan\")\n",
    "plt.text(8, 0.150, f\"Avg. size: {(np.mean(household_sizes)):.2f}\")\n",
    "plt.show()"
   ]
  },
  {
   "cell_type": "code",
   "execution_count": null,
   "metadata": {},
   "outputs": [],
   "source": []
  },
  {
   "cell_type": "markdown",
   "metadata": {},
   "source": [
    "# Shelters"
   ]
  },
  {
   "cell_type": "markdown",
   "metadata": {},
   "source": [
    "Shelters house people in the camp. Since we know that families (houseohlds) often share shelters with other families, we can set the `sharing_shelter_ratio` to cluster families into shared shelters."
   ]
  },
  {
   "cell_type": "code",
   "execution_count": 21,
   "metadata": {},
   "outputs": [],
   "source": [
    "world.shelters = Shelters.for_areas(world.areas)\n",
    "shelter_distributor = ShelterDistributor(sharing_shelter_ratio = 0.75) # proportion of families that share a shelter\n",
    "for area in world.areas:\n",
    "    shelter_distributor.distribute_people_in_shelters(area.shelters, area.households)"
   ]
  },
  {
   "cell_type": "code",
   "execution_count": 22,
   "metadata": {},
   "outputs": [
    {
     "data": {
      "image/png": "[encoded data removed]",
      "text/plain": [
       "<Figure size 576x216 with 2 Axes>"
      ]
     },
     "metadata": {
      "needs_background": "light"
     },
     "output_type": "display_data"
    }
   ],
   "source": [
    "fig, ax = plt.subplots(1, 2, figsize=(8,3))\n",
    "shelter_sizes = [shelter.size for shelter in world.shelters]\n",
    "shelter_families = [shelter.n_families for shelter in world.shelters]\n",
    "ax[0].hist(shelter_sizes)\n",
    "ax[0].set_title(\"Shelter size\")\n",
    "shelter_families = {1 : len([shelter for shelter in world.shelters if shelter.n_families == 1]),\n",
    "                    2 : len([shelter for shelter in world.shelters if shelter.n_families == 2])}\n",
    "ax[1].bar(shelter_families.keys(), shelter_families.values())\n",
    "ax[1].set_title(\"# families per shelter\")\n",
    "plt.show()"
   ]
  },
  {
   "cell_type": "markdown",
   "metadata": {},
   "source": [
    "## Activity exploration"
   ]
  },
  {
   "cell_type": "markdown",
   "metadata": {},
   "source": [
    "Once different activity locations are seeded in the 'digital twin' we can explore how many there are in different areas of the twin, and their coordinates to check they've all been added correctly."
   ]
  },
  {
   "cell_type": "markdown",
   "metadata": {},
   "source": [
    "### Pumps and latrines "
   ]
  },
  {
   "cell_type": "code",
   "execution_count": 23,
   "metadata": {},
   "outputs": [],
   "source": [
    "pumps_and_latrines = []\n",
    "for pump_latrine in world.areas.members[0].pump_latrines:\n",
    "    pumps_and_latrines.append(pump_latrine)"
   ]
  },
  {
   "cell_type": "code",
   "execution_count": 24,
   "metadata": {},
   "outputs": [
    {
     "name": "stdout",
     "output_type": "stream",
     "text": [
      "There are 4 pumps and latrines in area CXB-219-001\n"
     ]
    }
   ],
   "source": [
    "print ('There are {} pumps and latrines in area {}'.format(len(pumps_and_latrines), world.areas.members[0].name))"
   ]
  },
  {
   "cell_type": "markdown",
   "metadata": {},
   "source": [
    "### Distribution centers"
   ]
  },
  {
   "cell_type": "code",
   "execution_count": 25,
   "metadata": {},
   "outputs": [],
   "source": [
    "distribution_centers = []\n",
    "for center in world.distribution_centers:\n",
    "    distribution_centers.append(center)"
   ]
  },
  {
   "cell_type": "code",
   "execution_count": 26,
   "metadata": {},
   "outputs": [
    {
     "data": {
      "text/plain": [
       "array([21.21176333, 92.13597667])"
      ]
     },
     "execution_count": 26,
     "metadata": {},
     "output_type": "execute_result"
    }
   ],
   "source": [
    "distribution_centers[0].coordinates"
   ]
  },
  {
   "cell_type": "markdown",
   "metadata": {},
   "source": [
    "### Non-food Distribution centers"
   ]
  },
  {
   "cell_type": "code",
   "execution_count": 27,
   "metadata": {},
   "outputs": [],
   "source": [
    "non_food_distribution_centers = []\n",
    "for center in world.n_f_distribution_centers:\n",
    "    non_food_distribution_centers.append(center)"
   ]
  },
  {
   "cell_type": "code",
   "execution_count": 28,
   "metadata": {},
   "outputs": [
    {
     "data": {
      "text/plain": [
       "array([21.1962 , 92.14936])"
      ]
     },
     "execution_count": 28,
     "metadata": {},
     "output_type": "execute_result"
    }
   ],
   "source": [
    "non_food_distribution_centers[0].coordinates"
   ]
  },
  {
   "cell_type": "markdown",
   "metadata": {},
   "source": [
    "### E-Voucher outlets"
   ]
  },
  {
   "cell_type": "code",
   "execution_count": 29,
   "metadata": {},
   "outputs": [],
   "source": [
    "e_voucher_outlets = []\n",
    "for center in world.e_vouchers:\n",
    "    e_voucher_outlets.append(center)"
   ]
  },
  {
   "cell_type": "code",
   "execution_count": 30,
   "metadata": {},
   "outputs": [
    {
     "data": {
      "text/plain": [
       "array([21.21176333, 92.13597667])"
      ]
     },
     "execution_count": 30,
     "metadata": {},
     "output_type": "execute_result"
    }
   ],
   "source": [
    "e_voucher_outlets[0].coordinates"
   ]
  },
  {
   "cell_type": "markdown",
   "metadata": {},
   "source": [
    "### Communal spaces"
   ]
  },
  {
   "cell_type": "code",
   "execution_count": 31,
   "metadata": {},
   "outputs": [],
   "source": [
    "communal_spaces = []\n",
    "for space in world.communals:\n",
    "    communal_spaces.append(space)"
   ]
  },
  {
   "cell_type": "code",
   "execution_count": 32,
   "metadata": {},
   "outputs": [
    {
     "data": {
      "text/plain": [
       "array([21.19621, 92.14924])"
      ]
     },
     "execution_count": 32,
     "metadata": {},
     "output_type": "execute_result"
    }
   ],
   "source": [
    "communal_spaces[0].coordinates\n"
   ]
  },
  {
   "cell_type": "markdown",
   "metadata": {},
   "source": [
    "### Female friendly communal spaces"
   ]
  },
  {
   "cell_type": "code",
   "execution_count": 33,
   "metadata": {},
   "outputs": [],
   "source": [
    "female_communal_spaces = []\n",
    "for space in world.female_communals:\n",
    "    female_communal_spaces.append(space)"
   ]
  },
  {
   "cell_type": "code",
   "execution_count": 34,
   "metadata": {},
   "outputs": [
    {
     "data": {
      "text/plain": [
       "array([21.19588, 92.152  ])"
      ]
     },
     "execution_count": 34,
     "metadata": {},
     "output_type": "execute_result"
    }
   ],
   "source": [
    "female_communal_spaces[0].coordinates"
   ]
  },
  {
   "cell_type": "markdown",
   "metadata": {},
   "source": [
    "### Religious sites"
   ]
  },
  {
   "cell_type": "code",
   "execution_count": 35,
   "metadata": {},
   "outputs": [],
   "source": [
    "religious = []\n",
    "for rel in world.religiouss:\n",
    "    religious.append(rel)"
   ]
  },
  {
   "cell_type": "code",
   "execution_count": 36,
   "metadata": {},
   "outputs": [
    {
     "data": {
      "text/plain": [
       "array([21.20069, 92.15216])"
      ]
     },
     "execution_count": 36,
     "metadata": {},
     "output_type": "execute_result"
    }
   ],
   "source": [
    "religious[0].coordinates"
   ]
  },
  {
   "cell_type": "markdown",
   "metadata": {},
   "source": [
    "# Adding the infection"
   ]
  },
  {
   "cell_type": "markdown",
   "metadata": {},
   "source": [
    "The selector handles how infections are handled in the code. You can set different 'symptom trajectories' (e.g. exposed->mild->severe->hospitalised->intensive care) from different files. Here, we use the default."
   ]
  },
  {
   "cell_type": "code",
   "execution_count": 37,
   "metadata": {},
   "outputs": [],
   "source": [
    "selector = InfectionSelector.from_file()"
   ]
  },
  {
   "cell_type": "code",
   "execution_count": 38,
   "metadata": {},
   "outputs": [],
   "source": [
    "selectors = InfectionSelectors([selector])"
   ]
  },
  {
   "cell_type": "markdown",
   "metadata": {},
   "source": [
    "# Adding the interaction"
   ]
  },
  {
   "cell_type": "markdown",
   "metadata": {},
   "source": [
    "The interaction class handles how many contacts people have in different locations and with who. If contact matrices are available, these can be coded in a `.yaml` file and fed into the class here."
   ]
  },
  {
   "cell_type": "code",
   "execution_count": 39,
   "metadata": {},
   "outputs": [],
   "source": [
    "interaction = Interaction.from_file(\n",
    "    config_filename=Interactions_File_Path,\n",
    ")"
   ]
  },
  {
   "cell_type": "markdown",
   "metadata": {},
   "source": [
    "# Set policies"
   ]
  },
  {
   "cell_type": "markdown",
   "metadata": {},
   "source": [
    "Policies control how 'operational interventions' are set in the camp. Here we set some social distancing policies, policies relating to medical care, such as people with severe symptoms being hospitalised, and individual and activity policies which can dynamically change how often and where people go, e.g. here, we close all female communal spaces and non-food distirbution centers which the camp did back in March"
   ]
  },
  {
   "cell_type": "code",
   "execution_count": 40,
   "metadata": {},
   "outputs": [],
   "source": [
    "policies = Policies.from_file(\n",
    "        Policies_File_Path,\n",
    "        base_policy_modules=(\"june.policy\", \"camps.policy\"),\n",
    "    )"
   ]
  },
  {
   "cell_type": "code",
   "execution_count": 41,
   "metadata": {},
   "outputs": [
    {
     "data": {
      "text/plain": [
       "[<june.policy.interaction_policies.SocialDistancing at 0x7fca4670c2e0>,\n",
       " <june.policy.medical_care_policies.Hospitalisation at 0x7fca4670c100>,\n",
       " <june.policy.individual_policies.SevereSymptomsStayHome at 0x7fca4670c6a0>,\n",
       " <june.policy.individual_policies.Quarantine at 0x7fca4670c700>]"
      ]
     },
     "execution_count": 41,
     "metadata": {},
     "output_type": "execute_result"
    }
   ],
   "source": [
    "policies.policies"
   ]
  },
  {
   "cell_type": "markdown",
   "metadata": {},
   "source": [
    "# Seed the disease"
   ]
  },
  {
   "cell_type": "markdown",
   "metadata": {},
   "source": [
    "Set intial seeding conditions. This can be done at the camp level specifically, or generally by seeding them randomly. Here the `n_cases` is the number of randomly seeded people over the entire population."
   ]
  },
  {
   "cell_type": "code",
   "execution_count": 42,
   "metadata": {},
   "outputs": [],
   "source": [
    "infection_seed = InfectionSeed.from_uniform_cases(\n",
    "    world=world, infection_selector=selector, cases_per_capita=0.01, date=\"2020-05-24\"\n",
    ")"
   ]
  },
  {
   "cell_type": "code",
   "execution_count": 43,
   "metadata": {},
   "outputs": [],
   "source": [
    "infection_seeds = InfectionSeeds([infection_seed])"
   ]
  },
  {
   "cell_type": "code",
   "execution_count": 44,
   "metadata": {},
   "outputs": [],
   "source": [
    "immunity_setter = ImmunitySetter.from_file_with_comorbidities(\n",
    "    comorbidity_multipliers_path= comorbidity_multipliers_path,\n",
    "    male_comorbidity_reference_prevalence_path= male_comorbidity_reference_prevalence_path,\n",
    "    female_comorbidity_reference_prevalence_path = female_comorbidity_reference_prevalence_path,\n",
    "    \n",
    ")"
   ]
  },
  {
   "cell_type": "code",
   "execution_count": 45,
   "metadata": {},
   "outputs": [],
   "source": [
    "epidemiology = Epidemiology(\n",
    "    infection_selectors=selectors,\n",
    "    infection_seeds=infection_seeds,\n",
    "    immunity_setter=immunity_setter,\n",
    ")"
   ]
  },
  {
   "cell_type": "markdown",
   "metadata": {},
   "source": [
    "## Select config file"
   ]
  },
  {
   "cell_type": "markdown",
   "metadata": {},
   "source": [
    "Before running the simualtion we must select the config file which defines how the world is set up and the simualtor will work. Specifically, the condif file specifies which activities will be included, how long we'll run the simualtion for, what the initial starting day will be and what the structure of weekdays and weekends will look like (if different)"
   ]
  },
  {
   "cell_type": "code",
   "execution_count": 46,
   "metadata": {},
   "outputs": [],
   "source": [
    "CONFIG_PATH = Config_File_Path"
   ]
  },
  {
   "cell_type": "markdown",
   "metadata": {},
   "source": [
    "# Initialise activities"
   ]
  },
  {
   "cell_type": "markdown",
   "metadata": {},
   "source": [
    "The final step to intialising the simulator class which brings all of this together is to inialise all the activity distirbutors (the term 'leisure' is a legacy of the original version of this code used for modelling COVID-19 in the UK). This will mean that people know where they can go at and given time."
   ]
  },
  {
   "cell_type": "code",
   "execution_count": 47,
   "metadata": {},
   "outputs": [
    {
     "name": "stdout",
     "output_type": "stream",
     "text": [
      "2022-02-14 17:12:47,953 - leisure - INFO - Linking households and care homes for visits\n",
      "2022-02-14 17:12:47,953 - leisure - INFO - Done\n",
      "2022-02-14 17:12:47,954 - leisure - INFO - Distributing social venues to areas\n",
      "2022-02-14 17:12:47,954 - leisure - INFO - Distributed in 0 of 65 areas.\n",
      "2022-02-14 17:12:48,050 - leisure - INFO - Distributed in 65 of 65 areas.\n"
     ]
    }
   ],
   "source": [
    "leisure = generate_leisure_for_config(world=world, config_filename=CONFIG_PATH)\n",
    "leisure.leisure_distributors = {}\n",
    "leisure.leisure_distributors[\"pump_latrine\"] = PumpLatrineDistributor.from_config(\n",
    "    world.pump_latrines\n",
    ")\n",
    "leisure.leisure_distributors[\"play_group\"] = PlayGroupDistributor.from_config(\n",
    "    world.play_groups\n",
    ")\n",
    "leisure.leisure_distributors[\n",
    "    \"distribution_center\"\n",
    "] = DistributionCenterDistributor.from_config(world.distribution_centers)\n",
    "leisure.leisure_distributors[\"communal\"] = CommunalDistributor.from_config(\n",
    "    world.communals\n",
    ")\n",
    "leisure.leisure_distributors[\n",
    "    \"female_communal\"\n",
    "] = FemaleCommunalDistributor.from_config(world.female_communals)\n",
    "leisure.leisure_distributors[\"religious\"] = ReligiousDistributor.from_config(\n",
    "    world.religiouss\n",
    ")\n",
    "leisure.leisure_distributors[\"e_voucher\"] = EVoucherDistributor.from_config(\n",
    "    world.e_vouchers\n",
    ")\n",
    "leisure.leisure_distributors[\n",
    "    \"n_f_distribution_center\"\n",
    "] = NFDistributionCenterDistributor.from_config(world.n_f_distribution_centers)\n",
    "leisure.leisure_distributors[\n",
    "    \"shelters_visits\"\n",
    "] = SheltersVisitsDistributor.from_config()\n",
    "leisure.leisure_distributors[\"shelters_visits\"].link_shelters_to_shelters(\n",
    "    world.super_areas\n",
    ")\n",
    "# associate social activities to shelters\n",
    "leisure.distribute_social_venues_to_areas(world.areas, world.super_areas)"
   ]
  },
  {
   "cell_type": "code",
   "execution_count": 48,
   "metadata": {},
   "outputs": [],
   "source": [
    "Tracker.ActivityManager = CampActivityManager\n",
    "tracker = Tracker(\n",
    "    world=world,\n",
    "    pickle_path=Results_Path,\n",
    "    group_types=[\n",
    "        world.hospitals,\n",
    "        world.distribution_centers,\n",
    "        world.communals,\n",
    "        world.female_communals,\n",
    "        world.pump_latrines,\n",
    "        world.religiouss,\n",
    "        world.play_groups,\n",
    "        world.e_vouchers,\n",
    "        world.n_f_distribution_centers,\n",
    "        world.shelters\n",
    "    ],\n",
    "    load_interactions_path=Interactions_File_Path,\n",
    "    track_contacts_count=True,\n",
    ")"
   ]
  },
  {
   "cell_type": "markdown",
   "metadata": {},
   "source": [
    "# Initialise simulator and run"
   ]
  },
  {
   "cell_type": "markdown",
   "metadata": {},
   "source": [
    "The recorder is defined which will log all interactions and infections in the simualation for later analysis. The `record_path` can be changed to any path where you want the recorded data to be stored."
   ]
  },
  {
   "cell_type": "code",
   "execution_count": 49,
   "metadata": {},
   "outputs": [],
   "source": [
    "record = Record(\n",
    "    record_path=Results_Path, \n",
    "    record_static_data=True\n",
    ")"
   ]
  },
  {
   "cell_type": "markdown",
   "metadata": {},
   "source": [
    "The simulator is defined with all the different necessary components we have built up so far"
   ]
  },
  {
   "cell_type": "code",
   "execution_count": 50,
   "metadata": {},
   "outputs": [],
   "source": [
    "Simulator.ActivityManager = CampActivityManager\n",
    "simulator = Simulator.from_file(\n",
    "    world=world,\n",
    "    interaction=interaction,\n",
    "    tracker=tracker,\n",
    "    leisure=leisure,\n",
    "    policies=policies,\n",
    "    config_filename=CONFIG_PATH,\n",
    "    epidemiology=epidemiology,\n",
    "    record=record,\n",
    ")\n"
   ]
  },
  {
   "cell_type": "markdown",
   "metadata": {},
   "source": [
    "Finally we can run a small simualation"
   ]
  },
  {
   "cell_type": "code",
   "execution_count": null,
   "metadata": {
    "scrolled": true
   },
   "outputs": [
    {
     "name": "stdout",
     "output_type": "stream",
     "text": [
      "2022-02-14 17:12:48,603 - simulator - INFO - Starting simulation for 7 days at day 2020-05-24 00:00:00,to run for 7 days\n",
      "2022-02-14 17:12:49,058 - rank - INFO - Next timestep\n",
      "2022-02-14 17:12:49,059 - simulator - INFO - ==================== timestep ====================\n",
      "2022-02-14 17:12:49,163 - rank - INFO - Rank 0 -- move_people -- 0.10397950501646847\n",
      "2022-02-14 17:12:49,167 - rank - INFO - Rank 0 -- move_people_waiting -- 6.016984116286039e-06\n",
      "2022-02-14 17:12:49,167 - activity_manager - INFO - CMS: People COMS for rank 0/1 - 2.4109904188662767e-06,2.384185791015625e-06 - 2020-05-24 00:00:00\n",
      "2022-02-14 17:12:49,171 - simulator - INFO - Info for rank 0, Date = 2020-05-24 00:00:00, number of deaths =  0, number of infected = 235\n",
      "2022-02-14 17:12:54,218 - rank - INFO - Rank 0 -- interaction -- 5.04988152498845\n",
      "2022-02-14 17:12:54,218 - epidemiology - INFO - CMS: Infection COMS-v2 for rank 0/1(2)0.0002935319789685309,0.0002932548522949219 - 2020-05-24 00:00:00\n",
      "2022-02-14 17:12:54,335 - rank - INFO - Rank 0 -- interaction_waiting -- 4.742993041872978e-06\n",
      "2022-02-14 17:12:54,344 - simulator - INFO - CMS: Timestep for rank 0/1 - 0.00909320599748753,0.009093523025512695 - 2020-05-24 00:00:00\n",
      "\n",
      "2022-02-14 17:12:54,344 - rank - INFO - Next timestep\n",
      "2022-02-14 17:12:54,345 - simulator - INFO - ==================== timestep ====================\n",
      "2022-02-14 17:12:55,128 - rank - INFO - Rank 0 -- move_people -- 0.7829893040179741\n",
      "2022-02-14 17:12:55,129 - rank - INFO - Rank 0 -- move_people_waiting -- 6.12300937063992e-06\n",
      "2022-02-14 17:12:55,129 - activity_manager - INFO - CMS: People COMS for rank 0/1 - 2.3809843696653843e-06,2.384185791015625e-06 - 2020-05-24 03:00:00\n",
      "2022-02-14 17:12:55,133 - simulator - INFO - Info for rank 0, Date = 2020-05-24 03:00:00, number of deaths =  0, number of infected = 235\n",
      "2022-02-14 17:13:02,329 - rank - INFO - Rank 0 -- interaction -- 7.19974661100423\n",
      "2022-02-14 17:13:02,331 - epidemiology - INFO - CMS: Infection COMS-v2 for rank 0/1(2)0.0001691990182735026,0.00016927719116210938 - 2020-05-24 03:00:00\n",
      "2022-02-14 17:13:02,351 - rank - INFO - Rank 0 -- interaction_waiting -- 4.182016709819436e-06\n",
      "2022-02-14 17:13:02,360 - simulator - INFO - CMS: Timestep for rank 0/1 - 0.00911229700432159,0.00911259651184082 - 2020-05-24 03:00:00\n",
      "\n",
      "2022-02-14 17:13:02,361 - rank - INFO - Next timestep\n",
      "2022-02-14 17:13:02,361 - simulator - INFO - ==================== timestep ====================\n",
      "2022-02-14 17:13:02,770 - rank - INFO - Rank 0 -- move_people -- 0.40814727402175777\n",
      "2022-02-14 17:13:02,771 - rank - INFO - Rank 0 -- move_people_waiting -- 3.2410025596618652e-06\n",
      "2022-02-14 17:13:02,771 - activity_manager - INFO - CMS: People COMS for rank 0/1 - 2.442975528538227e-06,2.1457672119140625e-06 - 2020-05-24 05:00:00\n",
      "2022-02-14 17:13:02,775 - simulator - INFO - Info for rank 0, Date = 2020-05-24 05:00:00, number of deaths =  0, number of infected = 239\n",
      "2022-02-14 17:13:09,716 - rank - INFO - Rank 0 -- interaction -- 6.944599504000507\n",
      "2022-02-14 17:13:09,718 - epidemiology - INFO - CMS: Infection COMS-v2 for rank 0/1(2)0.0001483260130044073,0.00014829635620117188 - 2020-05-24 05:00:00\n",
      "2022-02-14 17:13:09,739 - rank - INFO - Rank 0 -- interaction_waiting -- 4.303990863263607e-06\n",
      "2022-02-14 17:13:09,748 - simulator - INFO - CMS: Timestep for rank 0/1 - 0.009172669000690803,0.009173154830932617 - 2020-05-24 05:00:00\n",
      "\n",
      "2022-02-14 17:13:09,749 - rank - INFO - Next timestep\n",
      "2022-02-14 17:13:09,749 - simulator - INFO - ==================== timestep ====================\n",
      "2022-02-14 17:13:10,140 - rank - INFO - Rank 0 -- move_people -- 0.3905041409889236\n",
      "2022-02-14 17:13:10,141 - rank - INFO - Rank 0 -- move_people_waiting -- 6.196001777425408e-06\n",
      "2022-02-14 17:13:10,141 - activity_manager - INFO - CMS: People COMS for rank 0/1 - 2.9990042094141245e-06,2.6226043701171875e-06 - 2020-05-24 07:00:00\n",
      "2022-02-14 17:13:10,146 - simulator - INFO - Info for rank 0, Date = 2020-05-24 07:00:00, number of deaths =  0, number of infected = 244\n",
      "2022-02-14 17:13:17,268 - rank - INFO - Rank 0 -- interaction -- 7.12602680499549\n",
      "2022-02-14 17:13:17,270 - epidemiology - INFO - CMS: Infection COMS-v2 for rank 0/1(2)0.00033911201171576977,0.0003390312194824219 - 2020-05-24 07:00:00\n",
      "2022-02-14 17:13:17,350 - rank - INFO - Rank 0 -- interaction_waiting -- 4.828994860872626e-06\n",
      "2022-02-14 17:13:17,362 - simulator - INFO - CMS: Timestep for rank 0/1 - 0.012180362973595038,0.012180805206298828 - 2020-05-24 07:00:00\n",
      "\n",
      "2022-02-14 17:13:17,363 - rank - INFO - Next timestep\n",
      "2022-02-14 17:13:17,364 - simulator - INFO - ==================== timestep ====================\n",
      "2022-02-14 17:13:17,839 - rank - INFO - Rank 0 -- move_people -- 0.47529645400936715\n",
      "2022-02-14 17:13:17,841 - rank - INFO - Rank 0 -- move_people_waiting -- 3.1640229281038046e-06\n",
      "2022-02-14 17:13:17,841 - activity_manager - INFO - CMS: People COMS for rank 0/1 - 2.3650063667446375e-06,1.9073486328125e-06 - 2020-05-24 09:00:00\n",
      "2022-02-14 17:13:17,845 - simulator - INFO - Info for rank 0, Date = 2020-05-24 09:00:00, number of deaths =  0, number of infected = 247\n",
      "2022-02-14 17:13:24,862 - rank - INFO - Rank 0 -- interaction -- 7.020631691993913\n",
      "2022-02-14 17:13:24,865 - epidemiology - INFO - CMS: Infection COMS-v2 for rank 0/1(2)0.00015230898861773312,0.00015211105346679688 - 2020-05-24 09:00:00\n",
      "2022-02-14 17:13:24,884 - rank - INFO - Rank 0 -- interaction_waiting -- 5.014997441321611e-06\n",
      "2022-02-14 17:13:24,893 - simulator - INFO - CMS: Timestep for rank 0/1 - 0.009025209001265466,0.009025096893310547 - 2020-05-24 09:00:00\n",
      "\n",
      "2022-02-14 17:13:24,894 - rank - INFO - Next timestep\n",
      "2022-02-14 17:13:24,895 - simulator - INFO - ==================== timestep ====================\n",
      "2022-02-14 17:13:25,010 - rank - INFO - Rank 0 -- move_people -- 0.11448402600944974\n",
      "2022-02-14 17:13:25,010 - rank - INFO - Rank 0 -- move_people_waiting -- 4.572997568175197e-06\n",
      "2022-02-14 17:13:25,010 - activity_manager - INFO - CMS: People COMS for rank 0/1 - 3.107998054474592e-06,3.0994415283203125e-06 - 2020-05-24 11:00:00\n",
      "2022-02-14 17:13:25,016 - simulator - INFO - Info for rank 0, Date = 2020-05-24 11:00:00, number of deaths =  0, number of infected = 252\n",
      "2022-02-14 17:13:30,101 - rank - INFO - Rank 0 -- interaction -- 5.089865843008738\n",
      "2022-02-14 17:13:30,109 - epidemiology - INFO - CMS: Infection COMS-v2 for rank 0/1(2)0.0003552020061761141,0.0003554821014404297 - 2020-05-24 11:00:00\n",
      "2022-02-14 17:13:30,128 - rank - INFO - Rank 0 -- interaction_waiting -- 4.353001713752747e-06\n",
      "2022-02-14 17:13:30,137 - simulator - INFO - CMS: Timestep for rank 0/1 - 0.00859506000415422,0.008595943450927734 - 2020-05-24 11:00:00\n",
      "\n",
      "2022-02-14 17:13:30,138 - rank - INFO - Next timestep\n",
      "2022-02-14 17:13:30,139 - simulator - INFO - ==================== timestep ====================\n",
      "2022-02-14 17:13:30,265 - rank - INFO - Rank 0 -- move_people -- 0.12520243198378012\n",
      "2022-02-14 17:13:30,266 - rank - INFO - Rank 0 -- move_people_waiting -- 5.131994839757681e-06\n",
      "2022-02-14 17:13:30,266 - activity_manager - INFO - CMS: People COMS for rank 0/1 - 2.70901364274323e-06,2.384185791015625e-06 - 2020-05-25 00:00:00\n",
      "2022-02-14 17:13:30,270 - simulator - INFO - Info for rank 0, Date = 2020-05-25 00:00:00, number of deaths =  0, number of infected = 278\n",
      "2022-02-14 17:13:35,320 - rank - INFO - Rank 0 -- interaction -- 5.0535742710053455\n",
      "2022-02-14 17:13:35,323 - epidemiology - INFO - CMS: Infection COMS-v2 for rank 0/1(2)0.00014848701539449394,0.00014829635620117188 - 2020-05-25 00:00:00\n",
      "2022-02-14 17:13:35,343 - rank - INFO - Rank 0 -- interaction_waiting -- 4.675996024161577e-06\n",
      "2022-02-14 17:13:35,352 - simulator - INFO - CMS: Timestep for rank 0/1 - 0.008976971002994105,0.008977651596069336 - 2020-05-25 00:00:00\n",
      "\n",
      "2022-02-14 17:13:35,353 - rank - INFO - Next timestep\n",
      "2022-02-14 17:13:35,354 - simulator - INFO - ==================== timestep ====================\n",
      "2022-02-14 17:13:35,765 - rank - INFO - Rank 0 -- move_people -- 0.4105859629926272\n",
      "2022-02-14 17:13:35,766 - rank - INFO - Rank 0 -- move_people_waiting -- 5.387002602219582e-06\n",
      "2022-02-14 17:13:35,766 - activity_manager - INFO - CMS: People COMS for rank 0/1 - 3.4780241549015045e-06,3.337860107421875e-06 - 2020-05-25 02:00:00\n"
     ]
    },
    {
     "name": "stdout",
     "output_type": "stream",
     "text": [
      "2022-02-14 17:13:35,771 - simulator - INFO - Info for rank 0, Date = 2020-05-25 02:00:00, number of deaths =  0, number of infected = 285\n",
      "2022-02-14 17:13:42,888 - rank - INFO - Rank 0 -- interaction -- 7.121452316001523\n",
      "2022-02-14 17:13:42,891 - epidemiology - INFO - CMS: Infection COMS-v2 for rank 0/1(2)0.00014915299834683537,0.00014901161193847656 - 2020-05-25 02:00:00\n",
      "2022-02-14 17:13:42,913 - rank - INFO - Rank 0 -- interaction_waiting -- 5.238980520516634e-06\n",
      "2022-02-14 17:13:42,922 - simulator - INFO - CMS: Timestep for rank 0/1 - 0.009338033996755257,0.00933837890625 - 2020-05-25 02:00:00\n",
      "\n",
      "2022-02-14 17:13:42,924 - rank - INFO - Next timestep\n",
      "2022-02-14 17:13:42,925 - simulator - INFO - ==================== timestep ====================\n",
      "2022-02-14 17:13:43,377 - rank - INFO - Rank 0 -- move_people -- 0.45119007100583985\n",
      "2022-02-14 17:13:43,378 - rank - INFO - Rank 0 -- move_people_waiting -- 3.2459793146699667e-06\n",
      "2022-02-14 17:13:43,378 - activity_manager - INFO - CMS: People COMS for rank 0/1 - 3.4800032153725624e-06,3.337860107421875e-06 - 2020-05-25 04:00:00\n",
      "2022-02-14 17:13:43,382 - simulator - INFO - Info for rank 0, Date = 2020-05-25 04:00:00, number of deaths =  0, number of infected = 292\n",
      "2022-02-14 17:13:50,563 - rank - INFO - Rank 0 -- interaction -- 7.184444067999721\n",
      "2022-02-14 17:13:50,566 - epidemiology - INFO - CMS: Infection COMS-v2 for rank 0/1(2)0.0001467200054321438,0.00014638900756835938 - 2020-05-25 04:00:00\n",
      "2022-02-14 17:13:50,588 - rank - INFO - Rank 0 -- interaction_waiting -- 4.750007065013051e-06\n",
      "2022-02-14 17:13:50,598 - simulator - INFO - CMS: Timestep for rank 0/1 - 0.010413944983156398,0.010414361953735352 - 2020-05-25 04:00:00\n",
      "\n",
      "2022-02-14 17:13:50,599 - rank - INFO - Next timestep\n",
      "2022-02-14 17:13:50,600 - simulator - INFO - ==================== timestep ====================\n",
      "2022-02-14 17:13:51,005 - rank - INFO - Rank 0 -- move_people -- 0.40407175399013795\n",
      "2022-02-14 17:13:51,005 - rank - INFO - Rank 0 -- move_people_waiting -- 5.191017407923937e-06\n",
      "2022-02-14 17:13:51,006 - activity_manager - INFO - CMS: People COMS for rank 0/1 - 3.05499997921288e-06,2.86102294921875e-06 - 2020-05-25 06:00:00\n",
      "2022-02-14 17:13:51,010 - simulator - INFO - Info for rank 0, Date = 2020-05-25 06:00:00, number of deaths =  0, number of infected = 300\n",
      "2022-02-14 17:13:58,371 - rank - INFO - Rank 0 -- interaction -- 7.364734716014937\n",
      "2022-02-14 17:13:58,375 - epidemiology - INFO - CMS: Infection COMS-v2 for rank 0/1(2)0.00014877200010232627,0.0001480579376220703 - 2020-05-25 06:00:00\n",
      "2022-02-14 17:13:58,395 - rank - INFO - Rank 0 -- interaction_waiting -- 4.42398595623672e-06\n",
      "2022-02-14 17:13:58,403 - simulator - INFO - CMS: Timestep for rank 0/1 - 0.008876969979610294,0.008877277374267578 - 2020-05-25 06:00:00\n",
      "\n",
      "2022-02-14 17:13:58,405 - rank - INFO - Next timestep\n",
      "2022-02-14 17:13:58,405 - simulator - INFO - ==================== timestep ====================\n",
      "2022-02-14 17:13:58,831 - rank - INFO - Rank 0 -- move_people -- 0.4248273189878091\n",
      "2022-02-14 17:13:58,831 - rank - INFO - Rank 0 -- move_people_waiting -- 6.019981810823083e-06\n",
      "2022-02-14 17:13:58,832 - activity_manager - INFO - CMS: People COMS for rank 0/1 - 2.4990004021674395e-06,2.1457672119140625e-06 - 2020-05-25 08:00:00\n",
      "2022-02-14 17:13:58,836 - simulator - INFO - Info for rank 0, Date = 2020-05-25 08:00:00, number of deaths =  0, number of infected = 312\n",
      "2022-02-14 17:14:06,048 - rank - INFO - Rank 0 -- interaction -- 7.215871685009915\n",
      "2022-02-14 17:14:06,051 - epidemiology - INFO - CMS: Infection COMS-v2 for rank 0/1(2)0.00033009800245054066,0.00033020973205566406 - 2020-05-25 08:00:00\n",
      "2022-02-14 17:14:06,071 - rank - INFO - Rank 0 -- interaction_waiting -- 3.891997039318085e-06\n",
      "2022-02-14 17:14:06,080 - simulator - INFO - CMS: Timestep for rank 0/1 - 0.008816871006274596,0.008817672729492188 - 2020-05-25 08:00:00\n",
      "\n",
      "2022-02-14 17:14:06,081 - rank - INFO - Next timestep\n",
      "2022-02-14 17:14:06,082 - simulator - INFO - ==================== timestep ====================\n",
      "2022-02-14 17:14:06,194 - rank - INFO - Rank 0 -- move_people -- 0.11158552800770849\n",
      "2022-02-14 17:14:06,195 - rank - INFO - Rank 0 -- move_people_waiting -- 5.440000677481294e-06\n",
      "2022-02-14 17:14:06,195 - activity_manager - INFO - CMS: People COMS for rank 0/1 - 2.4329929146915674e-06,2.384185791015625e-06 - 2020-05-25 10:00:00\n",
      "2022-02-14 17:14:06,199 - simulator - INFO - Info for rank 0, Date = 2020-05-25 10:00:00, number of deaths =  0, number of infected = 320\n",
      "2022-02-14 17:14:11,287 - rank - INFO - Rank 0 -- interaction -- 5.091013782017399\n",
      "2022-02-14 17:14:11,304 - epidemiology - INFO - CMS: Infection COMS-v2 for rank 0/1(2)0.0003434350073803216,0.00034356117248535156 - 2020-05-25 10:00:00\n",
      "2022-02-14 17:14:11,325 - rank - INFO - Rank 0 -- interaction_waiting -- 4.272005753591657e-06\n",
      "2022-02-14 17:14:11,333 - simulator - INFO - CMS: Timestep for rank 0/1 - 0.008738981996430084,0.008739948272705078 - 2020-05-25 10:00:00\n",
      "\n",
      "2022-02-14 17:14:11,335 - rank - INFO - Next timestep\n",
      "2022-02-14 17:14:11,336 - simulator - INFO - ==================== timestep ====================\n",
      "2022-02-14 17:14:11,452 - rank - INFO - Rank 0 -- move_people -- 0.11479006000445224\n",
      "2022-02-14 17:14:11,452 - rank - INFO - Rank 0 -- move_people_waiting -- 4.93900733999908e-06\n",
      "2022-02-14 17:14:11,453 - activity_manager - INFO - CMS: People COMS for rank 0/1 - 2.343003870919347e-06,2.384185791015625e-06 - 2020-05-26 00:00:00\n",
      "2022-02-14 17:14:11,457 - simulator - INFO - Info for rank 0, Date = 2020-05-26 00:00:00, number of deaths =  0, number of infected = 380\n",
      "2022-02-14 17:14:17,038 - rank - INFO - Rank 0 -- interaction -- 5.584396869991906\n",
      "2022-02-14 17:14:17,042 - epidemiology - INFO - CMS: Infection COMS-v2 for rank 0/1(2)0.0003855740069411695,0.000385284423828125 - 2020-05-26 00:00:00\n",
      "2022-02-14 17:14:17,066 - rank - INFO - Rank 0 -- interaction_waiting -- 1.1055992217734456e-05\n",
      "2022-02-14 17:14:17,077 - simulator - INFO - CMS: Timestep for rank 0/1 - 0.010965319990646094,0.011006593704223633 - 2020-05-26 00:00:00\n",
      "\n",
      "2022-02-14 17:14:17,079 - rank - INFO - Next timestep\n"
     ]
    }
   ],
   "source": [
    "%%time\n",
    "simulator.run()"
   ]
  },
  {
   "cell_type": "code",
   "execution_count": null,
   "metadata": {},
   "outputs": [],
   "source": []
  },
  {
   "cell_type": "markdown",
   "metadata": {},
   "source": [
    "# Getting the results"
   ]
  },
  {
   "cell_type": "markdown",
   "metadata": {},
   "source": [
    "All results are stored in a json file specified in the `record_path` when defining the recorder. This can be read in by passing the folder locations to the `RecordReader` class and results derived.\n",
    "\n",
    "Here we show some examples of the kind of analysis you can extract from the records."
   ]
  },
  {
   "cell_type": "code",
   "execution_count": null,
   "metadata": {},
   "outputs": [],
   "source": [
    "import pandas as pd"
   ]
  },
  {
   "cell_type": "code",
   "execution_count": null,
   "metadata": {},
   "outputs": [],
   "source": [
    "read = RecordReader(Results_Path)"
   ]
  },
  {
   "cell_type": "markdown",
   "metadata": {},
   "source": [
    "The regional summary gives you information at the regional (camp) level."
   ]
  },
  {
   "cell_type": "markdown",
   "metadata": {},
   "source": [
    "### Regional information"
   ]
  },
  {
   "cell_type": "code",
   "execution_count": null,
   "metadata": {},
   "outputs": [],
   "source": [
    "read.regional_summary.head(3) # this is the equivalent of the summary.csv"
   ]
  },
  {
   "cell_type": "markdown",
   "metadata": {},
   "source": [
    "### Daily infections"
   ]
  },
  {
   "cell_type": "code",
   "execution_count": null,
   "metadata": {},
   "outputs": [],
   "source": [
    "summary = read.regional_summary.reset_index()"
   ]
  },
  {
   "cell_type": "code",
   "execution_count": null,
   "metadata": {},
   "outputs": [],
   "source": [
    "summary.groupby(['time_stamp']).sum().plot(y=['daily_infected'])\n",
    "plt.ylabel('Daily infections')\n",
    "plt.show()"
   ]
  },
  {
   "cell_type": "markdown",
   "metadata": {},
   "source": [
    "### Hospital and intensive care"
   ]
  },
  {
   "cell_type": "code",
   "execution_count": null,
   "metadata": {},
   "outputs": [],
   "source": [
    "summary.groupby(['time_stamp']).sum().plot(y=['current_hospitalised', 'current_intensive_care'])\n",
    "plt.show()"
   ]
  },
  {
   "cell_type": "markdown",
   "metadata": {},
   "source": [
    "### Cumulative infections by age"
   ]
  },
  {
   "cell_type": "code",
   "execution_count": null,
   "metadata": {},
   "outputs": [],
   "source": [
    "infections_df = read.get_table_with_extras('infections',\n",
    "                                           'infected_ids')"
   ]
  },
  {
   "cell_type": "code",
   "execution_count": null,
   "metadata": {},
   "outputs": [],
   "source": [
    "deaths_df = read.get_table_with_extras('deaths', \n",
    "                                       'dead_person_ids')"
   ]
  },
  {
   "cell_type": "code",
   "execution_count": null,
   "metadata": {},
   "outputs": [],
   "source": [
    "age_bins = (0,20,60,100)"
   ]
  },
  {
   "cell_type": "code",
   "execution_count": null,
   "metadata": {},
   "outputs": [],
   "source": [
    "infected_by_age = infections_df.groupby([pd.cut(infections_df['age'],\n",
    "            bins=age_bins), 'timestamp']).size()"
   ]
  },
  {
   "cell_type": "code",
   "execution_count": null,
   "metadata": {},
   "outputs": [],
   "source": [
    "people_df = read.table_to_df('population')"
   ]
  },
  {
   "cell_type": "code",
   "execution_count": null,
   "metadata": {},
   "outputs": [],
   "source": [
    "n_by_age = people_df.groupby(pd.cut(people_df['age'],\n",
    "            bins=age_bins)).size()"
   ]
  },
  {
   "cell_type": "code",
   "execution_count": null,
   "metadata": {},
   "outputs": [],
   "source": [
    "(100*infected_by_age/n_by_age).xs(10).cumsum().plot(label='0,20')\n",
    "(100*infected_by_age/n_by_age).xs(30).cumsum().plot(label='20,60')\n",
    "(100*infected_by_age/n_by_age).xs(70).cumsum().plot(label='60,100')\n",
    "plt.ylabel(\"% cumulative infected\")\n",
    "plt.legend()"
   ]
  },
  {
   "cell_type": "markdown",
   "metadata": {},
   "source": [
    "### Where people get infected"
   ]
  },
  {
   "cell_type": "code",
   "execution_count": null,
   "metadata": {},
   "outputs": [],
   "source": [
    "locations_df = infections_df.groupby(['location_specs', \n",
    "                                'timestamp']).size()"
   ]
  },
  {
   "cell_type": "code",
   "execution_count": null,
   "metadata": {},
   "outputs": [],
   "source": [
    "locations_df.unstack(level=0).plot()"
   ]
  },
  {
   "cell_type": "code",
   "execution_count": null,
   "metadata": {},
   "outputs": [],
   "source": [
    "import matplotlib.ticker as mtick\n",
    "location_counts_df = locations_df.groupby('location_specs').size()\n",
    "location_counts_df = 100*location_counts_df / location_counts_df.sum()\n",
    "ax = location_counts_df.sort_values().plot.bar()\n",
    "ax.yaxis.set_major_formatter(mtick.PercentFormatter())\n",
    "plt.ylabel('Percentage of infections at location')\n",
    "plt.xlabel('location')"
   ]
  },
  {
   "cell_type": "code",
   "execution_count": null,
   "metadata": {},
   "outputs": [],
   "source": [
    "for locs in simulator.tracker.location_counters[\"loc\"].keys():\n",
    "    loc_max = 0\n",
    "    for locs_i in simulator.tracker.location_counters[\"loc\"][locs].keys():\n",
    "        loc_max_i = np.max(simulator.tracker.location_counters[\"loc\"][locs][locs_i])\n",
    "        if loc_max_i > loc_max:\n",
    "            loc_max = loc_max_i\n",
    "            \n",
    "    print(locs, loc_max)\n",
    "     "
   ]
  },
  {
   "cell_type": "code",
   "execution_count": null,
   "metadata": {},
   "outputs": [],
   "source": [
    "import sys\n",
    "import importlib\n",
    "importlib.reload(sys.modules['june.tracker.tracker'])\n",
    "\n",
    "from june.tracker.tracker import Tracker\n",
    "\n",
    "tracker = Tracker.from_pickle(world, Results_Path / \"tracker.pkl\")\n",
    "tracker.pickle_path =  Results_Path\n",
    "tracker.track_contacts_count = True\n",
    "tracker.location_counters = simulator.tracker.location_counters\n",
    "\n",
    "tracker.contract_matrix(\"5yr\")\n",
    "tracker.contract_matrix(\"AC\", np.array([0,18,60]))\n",
    "tracker.contract_matrix(\"All\", np.array([0,100]))\n",
    "\n",
    "tracker.make_plots()"
   ]
  },
  {
   "cell_type": "code",
   "execution_count": null,
   "metadata": {
    "scrolled": false
   },
   "outputs": [],
   "source": [
    "#225 pump_latrines(s)\n",
    "#498 play_groups(s)\n",
    "#7 distribution_centers(s)\n",
    "#125 communals(s)\n",
    "#67 female_communals(s)\n",
    "#2064 religiouss(s)\n",
    "#7 e_vouchers(s)\n",
    "#36 n_f_distribution_centers(s)\n",
    "\n",
    "for local in tracker.contact_matrices[\"AC\"].keys():\n",
    "    if local in [\"global\", \"shelter_intra\", \"shelter\", \"shelter_inter\"]:\n",
    "        continue\n",
    "    \n",
    "    contact = tracker.normalised_contact_matrices[\"AC\"][local] \n",
    "    contact_unnorm = tracker.contact_matrices[\"AC\"][local]\n",
    "    interact = np.array(tracker.interaction_matrices[local][\"contacts\"])\n",
    "    charect_time = tracker.interaction_matrices[local][\"characteristic_time\"]\n",
    "    if contact.shape != interact.shape:\n",
    "        continue\n",
    "    \n",
    "    print(local, charect_time)\n",
    "    print(contact/interact) #Ratio differences in our understanding of the locations?\n",
    "print(tracker.average_contacts[\"AC\"])"
   ]
  },
  {
   "cell_type": "code",
   "execution_count": null,
   "metadata": {},
   "outputs": [],
   "source": []
  },
  {
   "cell_type": "code",
   "execution_count": null,
   "metadata": {},
   "outputs": [],
   "source": []
  },
  {
   "cell_type": "code",
   "execution_count": null,
   "metadata": {},
   "outputs": [],
   "source": []
  }
 ],
 "metadata": {
  "kernelspec": {
   "display_name": "Python 3 (ipykernel)",
   "language": "python",
   "name": "python3"
  },
  "language_info": {
   "codemirror_mode": {
    "name": "ipython",
    "version": 3
   },
   "file_extension": ".py",
   "mimetype": "text/x-python",
   "name": "python",
   "nbconvert_exporter": "python",
   "pygments_lexer": "ipython3",
   "version": "3.8.10"
  }
 },
 "nbformat": 4,
 "nbformat_minor": 4
}
