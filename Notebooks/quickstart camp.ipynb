{
 "cells": [
  {
   "cell_type": "code",
   "execution_count": 1,
   "metadata": {},
   "outputs": [],
   "source": [
    "%load_ext autoreload\n",
    "%autoreload 2"
   ]
  },
  {
   "cell_type": "code",
   "execution_count": 2,
   "metadata": {},
   "outputs": [],
   "source": [
    "import warnings\n",
    "warnings.filterwarnings('ignore')"
   ]
  },
  {
   "cell_type": "code",
   "execution_count": 3,
   "metadata": {},
   "outputs": [],
   "source": [
    "import numpy as np\n",
    "import matplotlib.pyplot as plt \n",
    "import pandas as pd\n",
    "import time\n",
    "import matplotlib.pyplot as plt\n",
    "import seaborn as sns\n",
    "from datetime import datetime\n",
    "import sys\n",
    "sys.path.append(\"../camp_scripts\") # change accordingly\n",
    "sns.set_context('notebook')"
   ]
  },
  {
   "cell_type": "code",
   "execution_count": 4,
   "metadata": {},
   "outputs": [
    {
     "name": "stderr",
     "output_type": "stream",
     "text": [
      "No --data argument given - defaulting to:\n",
      "/home/florpi/camps/JUNE/data\n",
      "No --configs argument given - defaulting to:\n",
      "/home/florpi/camps/JUNE/configs\n"
     ]
    },
    {
     "name": "stdout",
     "output_type": "stream",
     "text": [
      "2020-09-01 17:18:08,515 - camps.paths - WARNING - No --data argument given - defaulting to:\n",
      "/home/florpi/camps/JUNE/data\n",
      "2020-09-01 17:18:08,516 - camps.paths - WARNING - No --configs argument given - defaulting to:\n",
      "/home/florpi/camps/JUNE/configs\n",
      "2020-09-01 17:18:08,516 - camps.paths - WARNING - No --camp_data argument given - defaulting to:\n",
      "/home/florpi/camps/JUNE/camp_data\n",
      "2020-09-01 17:18:08,517 - camps.paths - WARNING - No --configs_camps argument given - defaulting to:\n",
      "/home/florpi/camps/JUNE/configs_camps\n"
     ]
    }
   ],
   "source": [
    "from june.demography.geography import Geography\n",
    "from june.demography.demography import load_age_and_sex_generators_for_bins, Demography, Population\n",
    "from june.paths import data_path\n",
    "from june.infection_seed import InfectionSeed\n",
    "from june.simulator import Simulator\n",
    "from june.infection import InfectionSelector\n",
    "from june.interaction import Interaction\n",
    "from june.groups import Hospital, Hospitals\n",
    "from june.distributors import HospitalDistributor\n",
    "from june.hdf5_savers import generate_world_from_hdf5\n",
    "from june.groups import Cemeteries\n",
    "from june.policy import Policy, Policies\n",
    "from june.logger.read_logger import ReadLogger\n",
    "\n",
    "from camps.paths import camp_data_path\n",
    "from camps.world import World\n",
    "from camps.groups.leisure import generate_leisure_for_world, generate_leisure_for_config\n",
    "from camp_creation import generate_empty_world, populate_world, distribute_people_to_households # this is loaded from the ../camp_scripts folder"
   ]
  },
  {
   "cell_type": "code",
   "execution_count": 5,
   "metadata": {},
   "outputs": [],
   "source": [
    "from camps.groups import PumpLatrines, PumpLatrineDistributor\n",
    "from camps.groups import DistributionCenters, DistributionCenterDistributor\n",
    "from camps.groups import Communals, CommunalDistributor\n",
    "from camps.groups import FemaleCommunals, FemaleCommunalDistributor\n",
    "from camps.groups import Religiouss, ReligiousDistributor\n",
    "from camps.groups import Shelter, Shelters, ShelterDistributor\n",
    "from camps.groups import IsolationUnit, IsolationUnits\n",
    "from june.groups.leisure import HouseholdVisitsDistributor\n",
    "from camps.groups import PlayGroups, PlayGroupDistributor"
   ]
  },
  {
   "cell_type": "markdown",
   "metadata": {},
   "source": [
    "## Initialize the world"
   ]
  },
  {
   "cell_type": "code",
   "execution_count": 6,
   "metadata": {},
   "outputs": [
    {
     "name": "stdout",
     "output_type": "stream",
     "text": [
      "2020-09-01 17:18:08,679 - june.demography.geography - INFO - There are 65 areas and 4 super_areas in the world.\n"
     ]
    }
   ],
   "source": [
    "# create empty world's geography\n",
    "world = generate_empty_world(filter_key = {\"region\" : [\"CXB-219\"]})"
   ]
  },
  {
   "cell_type": "code",
   "execution_count": 7,
   "metadata": {},
   "outputs": [],
   "source": [
    "# populate empty world\n",
    "populate_world(world)"
   ]
  },
  {
   "cell_type": "code",
   "execution_count": 8,
   "metadata": {},
   "outputs": [],
   "source": [
    "# distribute people to households\n",
    "distribute_people_to_households(world)"
   ]
  },
  {
   "cell_type": "code",
   "execution_count": 9,
   "metadata": {},
   "outputs": [
    {
     "name": "stdout",
     "output_type": "stream",
     "text": [
      "2020-09-01 17:18:09,417 - june.groups.hospital - INFO - There are 8 hospitals in the world.\n"
     ]
    }
   ],
   "source": [
    "# this is not working\n",
    "hospitals= Hospitals.from_file(\n",
    "    filename=camp_data_path / 'input/hospitals/hospitals.csv'\n",
    ")\n",
    "world.hospitals = hospitals\n",
    "for hospital in world.hospitals:\n",
    "    hospital.super_area = world.super_areas.members[0]\n",
    "hospital_distributor = HospitalDistributor(hospitals, \n",
    "                                           medic_min_age=20,\n",
    "                                           patients_per_medic=10)\n",
    "\n",
    "hospital_distributor.distribute_medics_from_world(world.people)\n",
    "world.isolation_units = IsolationUnits([IsolationUnit()])"
   ]
  },
  {
   "cell_type": "code",
   "execution_count": 10,
   "metadata": {},
   "outputs": [],
   "source": [
    "world.pump_latrines = PumpLatrines.for_areas(world.areas)\n",
    "world.distribution_centers = DistributionCenters.for_areas(world.areas)\n",
    "world.communals = Communals.for_areas(world.areas)\n",
    "world.female_communals = FemaleCommunals.for_areas(world.areas)\n",
    "world.religiouss = Religiouss.for_areas(world.areas)\n",
    "world.play_groups = PlayGroups.for_areas(world.areas)"
   ]
  },
  {
   "cell_type": "code",
   "execution_count": 11,
   "metadata": {},
   "outputs": [],
   "source": [
    "#world.box_mode = False\n",
    "world.cemeteries = Cemeteries()"
   ]
  },
  {
   "cell_type": "markdown",
   "metadata": {},
   "source": [
    "## Geography exploration"
   ]
  },
  {
   "cell_type": "markdown",
   "metadata": {},
   "source": [
    "### UNHCR camp blocks inside the World"
   ]
  },
  {
   "cell_type": "code",
   "execution_count": 12,
   "metadata": {},
   "outputs": [],
   "source": [
    "super_areas = []\n",
    "for super_area in world.super_areas:\n",
    "    super_areas.append(super_area.name)"
   ]
  },
  {
   "cell_type": "code",
   "execution_count": 13,
   "metadata": {},
   "outputs": [
    {
     "data": {
      "text/plain": [
       "['CXB-219-A', 'CXB-219-B', 'CXB-219-C', 'CXB-219-D']"
      ]
     },
     "execution_count": 13,
     "metadata": {},
     "output_type": "execute_result"
    }
   ],
   "source": [
    "super_areas[:5]"
   ]
  },
  {
   "cell_type": "markdown",
   "metadata": {},
   "source": [
    "### Mahjee blocks inside World"
   ]
  },
  {
   "cell_type": "code",
   "execution_count": 14,
   "metadata": {},
   "outputs": [],
   "source": [
    "areas = []\n",
    "for area in world.areas:\n",
    "    areas.append(area.name)"
   ]
  },
  {
   "cell_type": "code",
   "execution_count": 15,
   "metadata": {},
   "outputs": [
    {
     "data": {
      "text/plain": [
       "['CXB-219-062', 'CXB-219-063', 'CXB-219-061', 'CXB-219-060', 'CXB-219-065']"
      ]
     },
     "execution_count": 15,
     "metadata": {},
     "output_type": "execute_result"
    }
   ],
   "source": [
    "areas[:5]"
   ]
  },
  {
   "cell_type": "markdown",
   "metadata": {},
   "source": [
    "## Demography exploration"
   ]
  },
  {
   "cell_type": "markdown",
   "metadata": {},
   "source": [
    "### UNHCR block residents"
   ]
  },
  {
   "cell_type": "code",
   "execution_count": 16,
   "metadata": {},
   "outputs": [],
   "source": [
    "sample_ages = []\n",
    "sample_sexes = []\n",
    "for person in world.super_areas.members[0].people:\n",
    "    sample_ages.append(person.age)\n",
    "    sample_sexes.append(person.sex)"
   ]
  },
  {
   "cell_type": "code",
   "execution_count": 17,
   "metadata": {},
   "outputs": [
    {
     "data": {
      "text/plain": [
       "(['m', 'f', 'f', 'm', 'm'], [45, 17, 21, 39, 62])"
      ]
     },
     "execution_count": 17,
     "metadata": {},
     "output_type": "execute_result"
    }
   ],
   "source": [
    "sample_sexes[:5], sample_ages[:5]"
   ]
  },
  {
   "cell_type": "code",
   "execution_count": 18,
   "metadata": {},
   "outputs": [
    {
     "data": {
      "image/png": "[encoded data removed]",
      "text/plain": [
       "<Figure size 432x288 with 1 Axes>"
      ]
     },
     "metadata": {
      "needs_background": "light"
     },
     "output_type": "display_data"
    }
   ],
   "source": [
    "ages, counts = np.unique(sample_ages, return_counts=True)\n",
    "plt.bar(ages, counts)\n",
    "plt.title('super area: {} age distribution'.format(world.super_areas.members[0].name))\n",
    "plt.show()"
   ]
  },
  {
   "cell_type": "code",
   "execution_count": 19,
   "metadata": {},
   "outputs": [
    {
     "name": "stdout",
     "output_type": "stream",
     "text": [
      "The % children between ages 0-16 is 49.0%\n"
     ]
    }
   ],
   "source": [
    "print ('The % children between ages 0-16 is {}%'.format(round(np.sum(counts[:16])/(np.sum(counts[:16])+np.sum(counts[16:]))*100)))"
   ]
  },
  {
   "cell_type": "markdown",
   "metadata": {},
   "source": [
    "## Households"
   ]
  },
  {
   "cell_type": "markdown",
   "metadata": {},
   "source": [
    "### Household size distribution"
   ]
  },
  {
   "cell_type": "code",
   "execution_count": 20,
   "metadata": {},
   "outputs": [
    {
     "data": {
      "image/png": "[encoded data removed]",
      "text/plain": [
       "<Figure size 432x288 with 1 Axes>"
      ]
     },
     "metadata": {
      "needs_background": "light"
     },
     "output_type": "display_data"
    }
   ],
   "source": [
    "household_sizes = [household.size for household in world.households]\n",
    "plt.hist(household_sizes, density=True, bins=np.arange(0,12))\n",
    "plt.xlabel(\"Household size\")\n",
    "plt.ylabel(\"Frequency\")\n",
    "plt.axvline(np.mean(household_sizes), color=\"cyan\")\n",
    "plt.text(8, 0.150, f\"Avg. size: {(np.mean(household_sizes)):.2f}\")\n",
    "plt.show()"
   ]
  },
  {
   "cell_type": "markdown",
   "metadata": {},
   "source": [
    "# Shelters"
   ]
  },
  {
   "cell_type": "code",
   "execution_count": 21,
   "metadata": {},
   "outputs": [],
   "source": [
    "world.shelters = Shelters.for_areas(world.areas)\n",
    "shelter_distributor = ShelterDistributor(sharing_shelter_ratio = 0.75) # proportion of families that share a shelter\n",
    "for area in world.areas:\n",
    "    shelter_distributor.distribute_people_in_shelters(area.shelters, area.households)"
   ]
  },
  {
   "cell_type": "code",
   "execution_count": 22,
   "metadata": {},
   "outputs": [
    {
     "data": {
      "image/png": "[encoded data removed]",
      "text/plain": [
       "<Figure size 576x216 with 2 Axes>"
      ]
     },
     "metadata": {
      "needs_background": "light"
     },
     "output_type": "display_data"
    }
   ],
   "source": [
    "fig, ax = plt.subplots(1, 2, figsize=(8,3))\n",
    "shelter_sizes = [shelter.size for shelter in world.shelters]\n",
    "shelter_families = [shelter.n_families for shelter in world.shelters]\n",
    "ax[0].hist(shelter_sizes)\n",
    "ax[0].set_title(\"Shelter size\")\n",
    "shelter_families = {1 : len([shelter for shelter in world.shelters if shelter.n_families == 1]),\n",
    "                    2 : len([shelter for shelter in world.shelters if shelter.n_families == 2])}\n",
    "ax[1].bar(shelter_families.keys(), shelter_families.values())\n",
    "ax[1].set_title(\"# families per shelter\")\n",
    "plt.show()"
   ]
  },
  {
   "cell_type": "markdown",
   "metadata": {},
   "source": [
    "## Activity exploration"
   ]
  },
  {
   "cell_type": "markdown",
   "metadata": {},
   "source": [
    "### Pumps and latrines "
   ]
  },
  {
   "cell_type": "code",
   "execution_count": 23,
   "metadata": {},
   "outputs": [],
   "source": [
    "pumps_and_latrines = []\n",
    "for pump_latrine in world.areas.members[0].pump_latrines:\n",
    "    pumps_and_latrines.append(pump_latrine)"
   ]
  },
  {
   "cell_type": "code",
   "execution_count": 24,
   "metadata": {},
   "outputs": [
    {
     "name": "stdout",
     "output_type": "stream",
     "text": [
      "There are 3 pumps and latrines in area CXB-219-062\n"
     ]
    }
   ],
   "source": [
    "print ('There are {} pumps and latrines in area {}'.format(len(pumps_and_latrines), world.areas.members[0].name))"
   ]
  },
  {
   "cell_type": "markdown",
   "metadata": {},
   "source": [
    "### Distribution centers"
   ]
  },
  {
   "cell_type": "code",
   "execution_count": 25,
   "metadata": {},
   "outputs": [],
   "source": [
    "distribution_centers = []\n",
    "for center in world.distribution_centers:\n",
    "    distribution_centers.append(center)"
   ]
  },
  {
   "cell_type": "code",
   "execution_count": 26,
   "metadata": {},
   "outputs": [
    {
     "data": {
      "text/plain": [
       "array([21.1962 , 92.14936])"
      ]
     },
     "execution_count": 26,
     "metadata": {},
     "output_type": "execute_result"
    }
   ],
   "source": [
    "distribution_centers[0].coordinates"
   ]
  },
  {
   "cell_type": "markdown",
   "metadata": {},
   "source": [
    "### Communal spaces"
   ]
  },
  {
   "cell_type": "code",
   "execution_count": 27,
   "metadata": {},
   "outputs": [],
   "source": [
    "communal_spaces = []\n",
    "for space in world.communals:\n",
    "    communal_spaces.append(space)"
   ]
  },
  {
   "cell_type": "code",
   "execution_count": 28,
   "metadata": {},
   "outputs": [
    {
     "data": {
      "text/plain": [
       "array([21.19621, 92.14924])"
      ]
     },
     "execution_count": 28,
     "metadata": {},
     "output_type": "execute_result"
    }
   ],
   "source": [
    "communal_spaces[0].coordinates"
   ]
  },
  {
   "cell_type": "markdown",
   "metadata": {},
   "source": [
    "### Female friendly communal spaces"
   ]
  },
  {
   "cell_type": "code",
   "execution_count": 29,
   "metadata": {},
   "outputs": [],
   "source": [
    "female_communal_spaces = []\n",
    "for space in world.female_communals:\n",
    "    female_communal_spaces.append(space)"
   ]
  },
  {
   "cell_type": "code",
   "execution_count": 30,
   "metadata": {},
   "outputs": [
    {
     "data": {
      "text/plain": [
       "array([21.19588, 92.152  ])"
      ]
     },
     "execution_count": 30,
     "metadata": {},
     "output_type": "execute_result"
    }
   ],
   "source": [
    "female_communal_spaces[0].coordinates"
   ]
  },
  {
   "cell_type": "markdown",
   "metadata": {},
   "source": [
    "### Religious sites"
   ]
  },
  {
   "cell_type": "code",
   "execution_count": 31,
   "metadata": {},
   "outputs": [],
   "source": [
    "religious = []\n",
    "for rel in world.religiouss:\n",
    "    religious.append(rel)"
   ]
  },
  {
   "cell_type": "code",
   "execution_count": 32,
   "metadata": {},
   "outputs": [
    {
     "data": {
      "text/plain": [
       "array([21.20069, 92.15216])"
      ]
     },
     "execution_count": 32,
     "metadata": {},
     "output_type": "execute_result"
    }
   ],
   "source": [
    "religious[0].coordinates"
   ]
  },
  {
   "cell_type": "markdown",
   "metadata": {},
   "source": [
    "# Adding the infection"
   ]
  },
  {
   "cell_type": "code",
   "execution_count": 33,
   "metadata": {},
   "outputs": [],
   "source": [
    "selector = InfectionSelector.from_file()"
   ]
  },
  {
   "cell_type": "markdown",
   "metadata": {},
   "source": [
    "# Adding the interaction"
   ]
  },
  {
   "cell_type": "code",
   "execution_count": 34,
   "metadata": {},
   "outputs": [],
   "source": [
    "interaction = Interaction.from_file(config_filename='../configs_camps/defaults/interaction/ContactInteraction.yaml')"
   ]
  },
  {
   "cell_type": "markdown",
   "metadata": {},
   "source": [
    "# Set policies"
   ]
  },
  {
   "cell_type": "code",
   "execution_count": 35,
   "metadata": {},
   "outputs": [],
   "source": [
    "policies = Policies.from_file('../configs_camps/defaults/policy/home_care_policy.yaml', base_policy_modules=('june.policy', 'camps.policy'))"
   ]
  },
  {
   "cell_type": "code",
   "execution_count": 36,
   "metadata": {},
   "outputs": [
    {
     "data": {
      "text/plain": [
       "[<june.policy.interaction_policies.SocialDistancing at 0x7f874fec1d60>,\n",
       " <june.policy.medical_care_policies.Hospitalisation at 0x7f874fec1fa0>,\n",
       " <june.policy.individual_policies.SevereSymptomsStayHome at 0x7f874fccc550>,\n",
       " <june.policy.individual_policies.Quarantine at 0x7f874fe8f100>]"
      ]
     },
     "execution_count": 36,
     "metadata": {},
     "output_type": "execute_result"
    }
   ],
   "source": [
    "policies.policies"
   ]
  },
  {
   "cell_type": "markdown",
   "metadata": {},
   "source": [
    "# Seed the disease"
   ]
  },
  {
   "cell_type": "code",
   "execution_count": 37,
   "metadata": {},
   "outputs": [],
   "source": [
    "seed = InfectionSeed(world.super_areas,\n",
    "           selector)\n",
    "\n",
    "seed.unleash_virus(n_cases=5)"
   ]
  },
  {
   "cell_type": "markdown",
   "metadata": {},
   "source": [
    "# Init leisure"
   ]
  },
  {
   "cell_type": "code",
   "execution_count": 38,
   "metadata": {},
   "outputs": [
    {
     "name": "stdout",
     "output_type": "stream",
     "text": [
      "2020-09-01 17:18:11,775 - june.groups.leisure.leisure - INFO - Distributing social venues to households\n",
      "2020-09-01 17:18:11,777 - june.groups.leisure.leisure - INFO - Distributed in 0 of 3315 households.\n"
     ]
    },
    {
     "data": {
      "text/plain": [
       "{'pump_latrines': <camps.groups.pump_latrine.PumpLatrineDistributor at 0x7f874fc711c0>,\n",
       " 'distribution_centers': <camps.groups.distribution_center.DistributionCenterDistributor at 0x7f874fc71580>,\n",
       " 'communals': <camps.groups.communal.CommunalDistributor at 0x7f874fc71430>,\n",
       " 'female_communals': <camps.groups.female_communal.FemaleCommunalDistributor at 0x7f874fc71730>,\n",
       " 'play_groups': <camps.groups.play_group.PlayGroupDistributor at 0x7f874fc711f0>}"
      ]
     },
     "execution_count": 38,
     "metadata": {},
     "output_type": "execute_result"
    }
   ],
   "source": [
    "CONFIG_PATH = \"../configs_camps/config_example.yaml\"\n",
    "\n",
    "leisure_instance = generate_leisure_for_config(\n",
    "            world=world, config_filename=CONFIG_PATH\n",
    ")\n",
    "leisure_instance.leisure_distributors = {}\n",
    "leisure_instance.leisure_distributors['pump_latrines'] = PumpLatrineDistributor.from_config(pump_latrines=world.pump_latrines)\n",
    "leisure_instance.leisure_distributors['distribution_centers'] = DistributionCenterDistributor.from_config(distribution_centers=world.distribution_centers)\n",
    "leisure_instance.leisure_distributors['communals'] = CommunalDistributor.from_config(communals=world.communals)\n",
    "leisure_instance.leisure_distributors['female_communals'] = FemaleCommunalDistributor.from_config(female_communals=world.female_communals)\n",
    "leisure_instance.leisure_distributors['play_groups'] = PlayGroupDistributor.from_config(play_groups=world.play_groups)\n",
    "\n",
    "#associate social activities to shelters\n",
    "leisure_instance.distribute_social_venues_to_households(world.shelters, world.super_areas)\n",
    "leisure_instance.leisure_distributors"
   ]
  },
  {
   "cell_type": "markdown",
   "metadata": {},
   "source": [
    "# Initialize simulator and run"
   ]
  },
  {
   "cell_type": "code",
   "execution_count": 39,
   "metadata": {},
   "outputs": [],
   "source": [
    "simulator = Simulator.from_file(\n",
    "    world = world,\n",
    "    interaction = interaction,\n",
    "    infection_selector=selector,\n",
    "    leisure = leisure_instance,\n",
    "    policies=policies,\n",
    "    config_filename = CONFIG_PATH\n",
    ")"
   ]
  },
  {
   "cell_type": "code",
   "execution_count": 40,
   "metadata": {
    "scrolled": true
   },
   "outputs": [
    {
     "name": "stdout",
     "output_type": "stream",
     "text": [
      "2020-09-01 17:18:13,647 - june.simulator - INFO - Starting group_dynamics for 120 days at day 0\n",
      "2020-09-01 17:18:13,648 - june.simulator - INFO - starting the loop ..., at 0 days, to run for 120 days\n",
      "2020-09-01 17:18:13,813 - june.simulator - INFO - Date = 2020-05-24 00:00:00, number of deaths =  0, number of infected = 5\n",
      "2020-09-01 17:18:14,458 - june.simulator - INFO - Date = 2020-05-24 03:00:00, number of deaths =  0, number of infected = 5\n",
      "2020-09-01 17:18:14,733 - june.simulator - INFO - Date = 2020-05-24 05:00:00, number of deaths =  0, number of infected = 5\n",
      "2020-09-01 17:18:15,008 - june.simulator - INFO - Date = 2020-05-24 07:00:00, number of deaths =  0, number of infected = 5\n",
      "2020-09-01 17:18:15,282 - june.simulator - INFO - Date = 2020-05-24 09:00:00, number of deaths =  0, number of infected = 5\n",
      "2020-09-01 17:18:15,425 - june.simulator - INFO - Date = 2020-05-24 11:00:00, number of deaths =  0, number of infected = 5\n",
      "2020-09-01 17:18:15,558 - june.simulator - INFO - Date = 2020-05-25 00:00:00, number of deaths =  0, number of infected = 5\n",
      "2020-09-01 17:18:15,810 - june.simulator - INFO - Date = 2020-05-25 02:00:00, number of deaths =  0, number of infected = 5\n",
      "2020-09-01 17:18:16,057 - june.simulator - INFO - Date = 2020-05-25 04:00:00, number of deaths =  0, number of infected = 5\n",
      "2020-09-01 17:18:16,333 - june.simulator - INFO - Date = 2020-05-25 06:00:00, number of deaths =  0, number of infected = 5\n",
      "2020-09-01 17:18:16,573 - june.simulator - INFO - Date = 2020-05-25 08:00:00, number of deaths =  0, number of infected = 5\n",
      "2020-09-01 17:18:16,708 - june.simulator - INFO - Date = 2020-05-25 10:00:00, number of deaths =  0, number of infected = 6\n",
      "2020-09-01 17:18:16,841 - june.simulator - INFO - Date = 2020-05-26 00:00:00, number of deaths =  0, number of infected = 6\n",
      "2020-09-01 17:18:17,089 - june.simulator - INFO - Date = 2020-05-26 02:00:00, number of deaths =  0, number of infected = 6\n",
      "2020-09-01 17:18:17,327 - june.simulator - INFO - Date = 2020-05-26 04:00:00, number of deaths =  0, number of infected = 6\n",
      "2020-09-01 17:18:17,596 - june.simulator - INFO - Date = 2020-05-26 06:00:00, number of deaths =  0, number of infected = 6\n",
      "2020-09-01 17:18:17,835 - june.simulator - INFO - Date = 2020-05-26 08:00:00, number of deaths =  0, number of infected = 6\n",
      "2020-09-01 17:18:17,980 - june.simulator - INFO - Date = 2020-05-26 10:00:00, number of deaths =  0, number of infected = 6\n",
      "2020-09-01 17:18:18,111 - june.simulator - INFO - Date = 2020-05-27 00:00:00, number of deaths =  0, number of infected = 7\n",
      "2020-09-01 17:18:18,364 - june.simulator - INFO - Date = 2020-05-27 02:00:00, number of deaths =  0, number of infected = 8\n",
      "2020-09-01 17:18:18,604 - june.simulator - INFO - Date = 2020-05-27 04:00:00, number of deaths =  0, number of infected = 10\n",
      "2020-09-01 17:18:18,845 - june.simulator - INFO - Date = 2020-05-27 06:00:00, number of deaths =  0, number of infected = 10\n",
      "2020-09-01 17:18:19,090 - june.simulator - INFO - Date = 2020-05-27 08:00:00, number of deaths =  0, number of infected = 10\n",
      "2020-09-01 17:18:19,225 - june.simulator - INFO - Date = 2020-05-27 10:00:00, number of deaths =  0, number of infected = 10\n",
      "2020-09-01 17:18:19,357 - june.simulator - INFO - Date = 2020-05-28 00:00:00, number of deaths =  0, number of infected = 11\n",
      "2020-09-01 17:18:19,613 - june.simulator - INFO - Date = 2020-05-28 02:00:00, number of deaths =  0, number of infected = 11\n",
      "2020-09-01 17:18:19,844 - june.simulator - INFO - Date = 2020-05-28 04:00:00, number of deaths =  0, number of infected = 11\n",
      "2020-09-01 17:18:20,110 - june.simulator - INFO - Date = 2020-05-28 06:00:00, number of deaths =  0, number of infected = 11\n",
      "2020-09-01 17:18:20,349 - june.simulator - INFO - Date = 2020-05-28 08:00:00, number of deaths =  0, number of infected = 12\n",
      "2020-09-01 17:18:20,483 - june.simulator - INFO - Date = 2020-05-28 10:00:00, number of deaths =  0, number of infected = 12\n",
      "2020-09-01 17:18:20,614 - june.simulator - INFO - Date = 2020-05-29 00:00:00, number of deaths =  0, number of infected = 13\n",
      "2020-09-01 17:18:20,854 - june.simulator - INFO - Date = 2020-05-29 02:00:00, number of deaths =  0, number of infected = 13\n",
      "2020-09-01 17:18:21,096 - june.simulator - INFO - Date = 2020-05-29 04:00:00, number of deaths =  0, number of infected = 13\n",
      "2020-09-01 17:18:21,342 - june.simulator - INFO - Date = 2020-05-29 06:00:00, number of deaths =  0, number of infected = 13\n",
      "2020-09-01 17:18:21,585 - june.simulator - INFO - Date = 2020-05-29 08:00:00, number of deaths =  0, number of infected = 14\n",
      "2020-09-01 17:18:21,725 - june.simulator - INFO - Date = 2020-05-29 10:00:00, number of deaths =  0, number of infected = 15\n",
      "2020-09-01 17:18:21,860 - june.simulator - INFO - Date = 2020-05-30 00:00:00, number of deaths =  0, number of infected = 20\n",
      "2020-09-01 17:18:22,138 - june.simulator - INFO - Date = 2020-05-30 03:00:00, number of deaths =  0, number of infected = 20\n",
      "2020-09-01 17:18:22,444 - june.simulator - INFO - Date = 2020-05-30 05:00:00, number of deaths =  0, number of infected = 23\n",
      "2020-09-01 17:18:22,718 - june.simulator - INFO - Date = 2020-05-30 07:00:00, number of deaths =  0, number of infected = 23\n",
      "2020-09-01 17:18:22,994 - june.simulator - INFO - Date = 2020-05-30 09:00:00, number of deaths =  0, number of infected = 27\n",
      "2020-09-01 17:18:23,131 - june.simulator - INFO - Date = 2020-05-30 11:00:00, number of deaths =  0, number of infected = 27\n",
      "2020-09-01 17:18:23,265 - june.simulator - INFO - Date = 2020-05-31 00:00:00, number of deaths =  0, number of infected = 28\n",
      "2020-09-01 17:18:23,554 - june.simulator - INFO - Date = 2020-05-31 03:00:00, number of deaths =  0, number of infected = 29\n",
      "2020-09-01 17:18:23,821 - june.simulator - INFO - Date = 2020-05-31 05:00:00, number of deaths =  0, number of infected = 29\n",
      "2020-09-01 17:18:24,088 - june.simulator - INFO - Date = 2020-05-31 07:00:00, number of deaths =  0, number of infected = 36\n",
      "2020-09-01 17:18:24,362 - june.simulator - INFO - Date = 2020-05-31 09:00:00, number of deaths =  0, number of infected = 40\n",
      "2020-09-01 17:18:24,493 - june.simulator - INFO - Date = 2020-05-31 11:00:00, number of deaths =  0, number of infected = 40\n",
      "2020-09-01 17:18:24,622 - june.simulator - INFO - Date = 2020-06-01 00:00:00, number of deaths =  0, number of infected = 41\n",
      "2020-09-01 17:18:24,884 - june.simulator - INFO - Date = 2020-06-01 02:00:00, number of deaths =  0, number of infected = 41\n",
      "2020-09-01 17:18:25,123 - june.simulator - INFO - Date = 2020-06-01 04:00:00, number of deaths =  0, number of infected = 42\n",
      "2020-09-01 17:18:25,366 - june.simulator - INFO - Date = 2020-06-01 06:00:00, number of deaths =  0, number of infected = 43\n",
      "2020-09-01 17:18:25,609 - june.simulator - INFO - Date = 2020-06-01 08:00:00, number of deaths =  0, number of infected = 49\n",
      "2020-09-01 17:18:25,746 - june.simulator - INFO - Date = 2020-06-01 10:00:00, number of deaths =  0, number of infected = 52\n",
      "2020-09-01 17:18:25,877 - june.simulator - INFO - Date = 2020-06-02 00:00:00, number of deaths =  0, number of infected = 68\n",
      "2020-09-01 17:18:26,146 - june.simulator - INFO - Date = 2020-06-02 02:00:00, number of deaths =  0, number of infected = 70\n",
      "2020-09-01 17:18:26,398 - june.simulator - INFO - Date = 2020-06-02 04:00:00, number of deaths =  0, number of infected = 79\n",
      "2020-09-01 17:18:26,659 - june.simulator - INFO - Date = 2020-06-02 06:00:00, number of deaths =  0, number of infected = 82\n",
      "2020-09-01 17:18:26,908 - june.simulator - INFO - Date = 2020-06-02 08:00:00, number of deaths =  0, number of infected = 86\n",
      "2020-09-01 17:18:27,050 - june.simulator - INFO - Date = 2020-06-02 10:00:00, number of deaths =  0, number of infected = 91\n",
      "2020-09-01 17:18:27,191 - june.simulator - INFO - Date = 2020-06-03 00:00:00, number of deaths =  0, number of infected = 111\n",
      "2020-09-01 17:18:27,449 - june.simulator - INFO - Date = 2020-06-03 02:00:00, number of deaths =  0, number of infected = 115\n",
      "2020-09-01 17:18:27,704 - june.simulator - INFO - Date = 2020-06-03 04:00:00, number of deaths =  0, number of infected = 119\n",
      "2020-09-01 17:18:27,954 - june.simulator - INFO - Date = 2020-06-03 06:00:00, number of deaths =  0, number of infected = 126\n",
      "2020-09-01 17:18:28,213 - june.simulator - INFO - Date = 2020-06-03 08:00:00, number of deaths =  0, number of infected = 133\n"
     ]
    },
    {
     "name": "stdout",
     "output_type": "stream",
     "text": [
      "2020-09-01 17:18:28,354 - june.simulator - INFO - Date = 2020-06-03 10:00:00, number of deaths =  0, number of infected = 137\n",
      "2020-09-01 17:18:28,496 - june.simulator - INFO - Date = 2020-06-04 00:00:00, number of deaths =  0, number of infected = 168\n",
      "2020-09-01 17:18:28,763 - june.simulator - INFO - Date = 2020-06-04 02:00:00, number of deaths =  0, number of infected = 170\n",
      "2020-09-01 17:18:29,016 - june.simulator - INFO - Date = 2020-06-04 04:00:00, number of deaths =  0, number of infected = 179\n",
      "2020-09-01 17:18:29,265 - june.simulator - INFO - Date = 2020-06-04 06:00:00, number of deaths =  0, number of infected = 187\n",
      "2020-09-01 17:18:29,529 - june.simulator - INFO - Date = 2020-06-04 08:00:00, number of deaths =  0, number of infected = 198\n",
      "2020-09-01 17:18:29,683 - june.simulator - INFO - Date = 2020-06-04 10:00:00, number of deaths =  0, number of infected = 209\n",
      "2020-09-01 17:18:29,832 - june.simulator - INFO - Date = 2020-06-05 00:00:00, number of deaths =  0, number of infected = 233\n",
      "2020-09-01 17:18:30,100 - june.simulator - INFO - Date = 2020-06-05 02:00:00, number of deaths =  0, number of infected = 243\n",
      "2020-09-01 17:18:30,368 - june.simulator - INFO - Date = 2020-06-05 04:00:00, number of deaths =  0, number of infected = 255\n",
      "2020-09-01 17:18:30,619 - june.simulator - INFO - Date = 2020-06-05 06:00:00, number of deaths =  0, number of infected = 264\n",
      "2020-09-01 17:18:30,882 - june.simulator - INFO - Date = 2020-06-05 08:00:00, number of deaths =  0, number of infected = 275\n",
      "2020-09-01 17:18:31,029 - june.simulator - INFO - Date = 2020-06-05 10:00:00, number of deaths =  0, number of infected = 284\n",
      "2020-09-01 17:18:31,272 - june.simulator - INFO - Date = 2020-06-06 00:00:00, number of deaths =  0, number of infected = 312\n",
      "2020-09-01 17:18:31,550 - june.simulator - INFO - Date = 2020-06-06 03:00:00, number of deaths =  0, number of infected = 324\n",
      "2020-09-01 17:18:31,841 - june.simulator - INFO - Date = 2020-06-06 05:00:00, number of deaths =  0, number of infected = 338\n",
      "2020-09-01 17:18:32,132 - june.simulator - INFO - Date = 2020-06-06 07:00:00, number of deaths =  0, number of infected = 358\n",
      "2020-09-01 17:18:32,412 - june.simulator - INFO - Date = 2020-06-06 09:00:00, number of deaths =  0, number of infected = 376\n",
      "2020-09-01 17:18:32,563 - june.simulator - INFO - Date = 2020-06-06 11:00:00, number of deaths =  0, number of infected = 393\n",
      "2020-09-01 17:18:32,717 - june.simulator - INFO - Date = 2020-06-07 00:00:00, number of deaths =  0, number of infected = 440\n",
      "2020-09-01 17:18:33,007 - june.simulator - INFO - Date = 2020-06-07 03:00:00, number of deaths =  0, number of infected = 453\n",
      "2020-09-01 17:18:33,305 - june.simulator - INFO - Date = 2020-06-07 05:00:00, number of deaths =  0, number of infected = 475\n",
      "2020-09-01 17:18:33,587 - june.simulator - INFO - Date = 2020-06-07 07:00:00, number of deaths =  0, number of infected = 493\n",
      "2020-09-01 17:18:33,883 - june.simulator - INFO - Date = 2020-06-07 09:00:00, number of deaths =  0, number of infected = 513\n",
      "2020-09-01 17:18:34,042 - june.simulator - INFO - Date = 2020-06-07 11:00:00, number of deaths =  0, number of infected = 549\n",
      "2020-09-01 17:18:34,206 - june.simulator - INFO - Date = 2020-06-08 00:00:00, number of deaths =  0, number of infected = 618\n",
      "2020-09-01 17:18:34,464 - june.simulator - INFO - Date = 2020-06-08 02:00:00, number of deaths =  0, number of infected = 638\n",
      "2020-09-01 17:18:34,724 - june.simulator - INFO - Date = 2020-06-08 04:00:00, number of deaths =  0, number of infected = 669\n",
      "2020-09-01 17:18:35,000 - june.simulator - INFO - Date = 2020-06-08 06:00:00, number of deaths =  0, number of infected = 708\n",
      "2020-09-01 17:18:35,260 - june.simulator - INFO - Date = 2020-06-08 08:00:00, number of deaths =  0, number of infected = 736\n",
      "2020-09-01 17:18:35,417 - june.simulator - INFO - Date = 2020-06-08 10:00:00, number of deaths =  0, number of infected = 765\n",
      "2020-09-01 17:18:35,606 - june.simulator - INFO - Date = 2020-06-09 00:00:00, number of deaths =  0, number of infected = 896\n",
      "2020-09-01 17:18:35,873 - june.simulator - INFO - Date = 2020-06-09 02:00:00, number of deaths =  0, number of infected = 919\n",
      "2020-09-01 17:18:36,150 - june.simulator - INFO - Date = 2020-06-09 04:00:00, number of deaths =  0, number of infected = 970\n",
      "2020-09-01 17:18:36,435 - june.simulator - INFO - Date = 2020-06-09 06:00:00, number of deaths =  0, number of infected = 1025\n",
      "2020-09-01 17:18:36,724 - june.simulator - INFO - Date = 2020-06-09 08:00:00, number of deaths =  0, number of infected = 1083\n",
      "2020-09-01 17:18:36,889 - june.simulator - INFO - Date = 2020-06-09 10:00:00, number of deaths =  0, number of infected = 1119\n",
      "2020-09-01 17:18:37,094 - june.simulator - INFO - Date = 2020-06-10 00:00:00, number of deaths =  0, number of infected = 1313\n",
      "2020-09-01 17:18:37,373 - june.simulator - INFO - Date = 2020-06-10 02:00:00, number of deaths =  0, number of infected = 1350\n",
      "2020-09-01 17:18:37,672 - june.simulator - INFO - Date = 2020-06-10 04:00:00, number of deaths =  0, number of infected = 1421\n",
      "2020-09-01 17:18:37,963 - june.simulator - INFO - Date = 2020-06-10 06:00:00, number of deaths =  0, number of infected = 1479\n",
      "2020-09-01 17:18:38,269 - june.simulator - INFO - Date = 2020-06-10 08:00:00, number of deaths =  0, number of infected = 1576\n",
      "2020-09-01 17:18:38,460 - june.simulator - INFO - Date = 2020-06-10 10:00:00, number of deaths =  0, number of infected = 1649\n",
      "2020-09-01 17:18:38,691 - june.simulator - INFO - Date = 2020-06-11 00:00:00, number of deaths =  0, number of infected = 1898\n",
      "2020-09-01 17:18:38,983 - june.simulator - INFO - Date = 2020-06-11 02:00:00, number of deaths =  0, number of infected = 1945\n",
      "2020-09-01 17:18:39,293 - june.simulator - INFO - Date = 2020-06-11 04:00:00, number of deaths =  0, number of infected = 2025\n",
      "2020-09-01 17:18:39,591 - june.simulator - INFO - Date = 2020-06-11 06:00:00, number of deaths =  0, number of infected = 2092\n",
      "2020-09-01 17:18:39,906 - june.simulator - INFO - Date = 2020-06-11 08:00:00, number of deaths =  0, number of infected = 2180\n",
      "2020-09-01 17:18:40,101 - june.simulator - INFO - Date = 2020-06-11 10:00:00, number of deaths =  0, number of infected = 2254\n",
      "2020-09-01 17:18:40,358 - june.simulator - INFO - Date = 2020-06-12 00:00:00, number of deaths =  0, number of infected = 2523\n",
      "2020-09-01 17:18:40,663 - june.simulator - INFO - Date = 2020-06-12 02:00:00, number of deaths =  0, number of infected = 2587\n",
      "2020-09-01 17:18:40,985 - june.simulator - INFO - Date = 2020-06-12 04:00:00, number of deaths =  0, number of infected = 2684\n",
      "2020-09-01 17:18:41,311 - june.simulator - INFO - Date = 2020-06-12 06:00:00, number of deaths =  0, number of infected = 2795\n",
      "2020-09-01 17:18:41,649 - june.simulator - INFO - Date = 2020-06-12 08:00:00, number of deaths =  0, number of infected = 2901\n",
      "2020-09-01 17:18:41,865 - june.simulator - INFO - Date = 2020-06-12 10:00:00, number of deaths =  0, number of infected = 2994\n",
      "2020-09-01 17:18:42,144 - june.simulator - INFO - Date = 2020-06-13 00:00:00, number of deaths =  0, number of infected = 3371\n",
      "2020-09-01 17:18:42,517 - june.simulator - INFO - Date = 2020-06-13 03:00:00, number of deaths =  0, number of infected = 3470\n",
      "2020-09-01 17:18:42,910 - june.simulator - INFO - Date = 2020-06-13 05:00:00, number of deaths =  0, number of infected = 3643\n",
      "2020-09-01 17:18:43,277 - june.simulator - INFO - Date = 2020-06-13 07:00:00, number of deaths =  0, number of infected = 3808\n",
      "2020-09-01 17:18:43,654 - june.simulator - INFO - Date = 2020-06-13 09:00:00, number of deaths =  0, number of infected = 3979\n",
      "2020-09-01 17:18:43,902 - june.simulator - INFO - Date = 2020-06-13 11:00:00, number of deaths =  0, number of infected = 4164\n",
      "2020-09-01 17:18:44,231 - june.simulator - INFO - Date = 2020-06-14 00:00:00, number of deaths =  0, number of infected = 4661\n",
      "2020-09-01 17:18:44,604 - june.simulator - INFO - Date = 2020-06-14 03:00:00, number of deaths =  0, number of infected = 4806\n",
      "2020-09-01 17:18:45,033 - june.simulator - INFO - Date = 2020-06-14 05:00:00, number of deaths =  0, number of infected = 5064\n",
      "2020-09-01 17:18:45,460 - june.simulator - INFO - Date = 2020-06-14 07:00:00, number of deaths =  0, number of infected = 5260\n"
     ]
    },
    {
     "name": "stdout",
     "output_type": "stream",
     "text": [
      "2020-09-01 17:18:45,875 - june.simulator - INFO - Date = 2020-06-14 09:00:00, number of deaths =  0, number of infected = 5478\n",
      "2020-09-01 17:18:46,156 - june.simulator - INFO - Date = 2020-06-14 11:00:00, number of deaths =  0, number of infected = 5694\n",
      "2020-09-01 17:18:46,548 - june.simulator - INFO - Date = 2020-06-15 00:00:00, number of deaths =  0, number of infected = 6348\n",
      "2020-09-01 17:18:46,898 - june.simulator - INFO - Date = 2020-06-15 02:00:00, number of deaths =  0, number of infected = 6466\n",
      "2020-09-01 17:18:47,319 - june.simulator - INFO - Date = 2020-06-15 04:00:00, number of deaths =  0, number of infected = 6695\n",
      "2020-09-01 17:18:47,727 - june.simulator - INFO - Date = 2020-06-15 06:00:00, number of deaths =  0, number of infected = 6952\n",
      "2020-09-01 17:18:48,144 - june.simulator - INFO - Date = 2020-06-15 08:00:00, number of deaths =  0, number of infected = 7179\n",
      "2020-09-01 17:18:48,433 - june.simulator - INFO - Date = 2020-06-15 10:00:00, number of deaths =  0, number of infected = 7399\n",
      "2020-09-01 17:18:48,858 - june.simulator - INFO - Date = 2020-06-16 00:00:00, number of deaths =  0, number of infected = 8150\n",
      "2020-09-01 17:18:49,266 - june.simulator - INFO - Date = 2020-06-16 02:00:00, number of deaths =  0, number of infected = 8300\n",
      "2020-09-01 17:18:49,699 - june.simulator - INFO - Date = 2020-06-16 04:00:00, number of deaths =  0, number of infected = 8573\n",
      "2020-09-01 17:18:50,132 - june.simulator - INFO - Date = 2020-06-16 06:00:00, number of deaths =  0, number of infected = 8849\n",
      "2020-09-01 17:18:50,557 - june.simulator - INFO - Date = 2020-06-16 08:00:00, number of deaths =  0, number of infected = 9092\n",
      "2020-09-01 17:18:50,884 - june.simulator - INFO - Date = 2020-06-16 10:00:00, number of deaths =  0, number of infected = 9343\n",
      "2020-09-01 17:18:51,363 - june.simulator - INFO - Date = 2020-06-17 00:00:00, number of deaths =  0, number of infected = 10158\n",
      "2020-09-01 17:18:51,792 - june.simulator - INFO - Date = 2020-06-17 02:00:00, number of deaths =  0, number of infected = 10333\n",
      "2020-09-01 17:18:52,233 - june.simulator - INFO - Date = 2020-06-17 04:00:00, number of deaths =  0, number of infected = 10613\n",
      "2020-09-01 17:18:52,685 - june.simulator - INFO - Date = 2020-06-17 06:00:00, number of deaths =  0, number of infected = 10918\n",
      "2020-09-01 17:18:53,239 - june.simulator - INFO - Date = 2020-06-17 08:00:00, number of deaths =  0, number of infected = 11218\n",
      "2020-09-01 17:18:53,585 - june.simulator - INFO - Date = 2020-06-17 10:00:00, number of deaths =  0, number of infected = 11497\n",
      "2020-09-01 17:18:54,096 - june.simulator - INFO - Date = 2020-06-18 00:00:00, number of deaths =  0, number of infected = 12378\n",
      "2020-09-01 17:18:54,516 - june.simulator - INFO - Date = 2020-06-18 02:00:00, number of deaths =  0, number of infected = 12532\n",
      "2020-09-01 17:18:54,986 - june.simulator - INFO - Date = 2020-06-18 04:00:00, number of deaths =  0, number of infected = 12792\n",
      "2020-09-01 17:18:55,463 - june.simulator - INFO - Date = 2020-06-18 06:00:00, number of deaths =  0, number of infected = 13085\n",
      "2020-09-01 17:18:55,948 - june.simulator - INFO - Date = 2020-06-18 08:00:00, number of deaths =  0, number of infected = 13348\n",
      "2020-09-01 17:18:56,333 - june.simulator - INFO - Date = 2020-06-18 10:00:00, number of deaths =  0, number of infected = 13606\n",
      "2020-09-01 17:18:56,883 - june.simulator - INFO - Date = 2020-06-19 00:00:00, number of deaths =  0, number of infected = 14520\n",
      "2020-09-01 17:18:57,339 - june.simulator - INFO - Date = 2020-06-19 02:00:00, number of deaths =  0, number of infected = 14674\n",
      "2020-09-01 17:18:57,843 - june.simulator - INFO - Date = 2020-06-19 04:00:00, number of deaths =  0, number of infected = 14960\n",
      "2020-09-01 17:18:58,346 - june.simulator - INFO - Date = 2020-06-19 06:00:00, number of deaths =  0, number of infected = 15247\n",
      "2020-09-01 17:18:58,852 - june.simulator - INFO - Date = 2020-06-19 08:00:00, number of deaths =  0, number of infected = 15517\n",
      "2020-09-01 17:18:59,272 - june.simulator - INFO - Date = 2020-06-19 10:00:00, number of deaths =  0, number of infected = 15763\n",
      "2020-09-01 17:18:59,822 - june.simulator - INFO - Date = 2020-06-20 00:00:00, number of deaths =  2, number of infected = 16599\n",
      "2020-09-01 17:19:00,338 - june.simulator - INFO - Date = 2020-06-20 03:00:00, number of deaths =  2, number of infected = 16790\n",
      "2020-09-01 17:19:00,886 - june.simulator - INFO - Date = 2020-06-20 05:00:00, number of deaths =  2, number of infected = 17041\n",
      "2020-09-01 17:19:01,441 - june.simulator - INFO - Date = 2020-06-20 07:00:00, number of deaths =  2, number of infected = 17297\n",
      "2020-09-01 17:19:01,997 - june.simulator - INFO - Date = 2020-06-20 09:00:00, number of deaths =  2, number of infected = 17583\n",
      "2020-09-01 17:19:02,402 - june.simulator - INFO - Date = 2020-06-20 11:00:00, number of deaths =  2, number of infected = 17807\n",
      "2020-09-01 17:19:02,933 - june.simulator - INFO - Date = 2020-06-21 00:00:00, number of deaths =  2, number of infected = 18476\n",
      "2020-09-01 17:19:03,459 - june.simulator - INFO - Date = 2020-06-21 03:00:00, number of deaths =  2, number of infected = 18642\n",
      "2020-09-01 17:19:04,013 - june.simulator - INFO - Date = 2020-06-21 05:00:00, number of deaths =  2, number of infected = 18871\n",
      "2020-09-01 17:19:04,567 - june.simulator - INFO - Date = 2020-06-21 07:00:00, number of deaths =  2, number of infected = 19096\n",
      "2020-09-01 17:19:05,142 - june.simulator - INFO - Date = 2020-06-21 09:00:00, number of deaths =  2, number of infected = 19289\n",
      "2020-09-01 17:19:05,571 - june.simulator - INFO - Date = 2020-06-21 11:00:00, number of deaths =  2, number of infected = 19480\n",
      "2020-09-01 17:19:06,088 - june.simulator - INFO - Date = 2020-06-22 00:00:00, number of deaths =  2, number of infected = 20015\n",
      "2020-09-01 17:19:06,572 - june.simulator - INFO - Date = 2020-06-22 02:00:00, number of deaths =  2, number of infected = 20103\n",
      "2020-09-01 17:19:07,076 - june.simulator - INFO - Date = 2020-06-22 04:00:00, number of deaths =  2, number of infected = 20238\n",
      "2020-09-01 17:19:07,587 - june.simulator - INFO - Date = 2020-06-22 06:00:00, number of deaths =  2, number of infected = 20365\n",
      "2020-09-01 17:19:08,095 - june.simulator - INFO - Date = 2020-06-22 08:00:00, number of deaths =  2, number of infected = 20490\n",
      "2020-09-01 17:19:08,511 - june.simulator - INFO - Date = 2020-06-22 10:00:00, number of deaths =  2, number of infected = 20593\n",
      "2020-09-01 17:19:08,988 - june.simulator - INFO - Date = 2020-06-23 00:00:00, number of deaths =  2, number of infected = 20937\n",
      "2020-09-01 17:19:09,473 - june.simulator - INFO - Date = 2020-06-23 02:00:00, number of deaths =  2, number of infected = 20994\n",
      "2020-09-01 17:19:09,979 - june.simulator - INFO - Date = 2020-06-23 04:00:00, number of deaths =  2, number of infected = 21074\n",
      "2020-09-01 17:19:10,492 - june.simulator - INFO - Date = 2020-06-23 06:00:00, number of deaths =  2, number of infected = 21164\n",
      "2020-09-01 17:19:11,004 - june.simulator - INFO - Date = 2020-06-23 08:00:00, number of deaths =  2, number of infected = 21242\n",
      "2020-09-01 17:19:11,419 - june.simulator - INFO - Date = 2020-06-23 10:00:00, number of deaths =  2, number of infected = 21314\n",
      "2020-09-01 17:19:11,877 - june.simulator - INFO - Date = 2020-06-24 00:00:00, number of deaths =  2, number of infected = 21538\n",
      "2020-09-01 17:19:12,382 - june.simulator - INFO - Date = 2020-06-24 02:00:00, number of deaths =  2, number of infected = 21572\n",
      "2020-09-01 17:19:12,882 - june.simulator - INFO - Date = 2020-06-24 04:00:00, number of deaths =  2, number of infected = 21627\n",
      "2020-09-01 17:19:13,410 - june.simulator - INFO - Date = 2020-06-24 06:00:00, number of deaths =  2, number of infected = 21692\n",
      "2020-09-01 17:19:13,919 - june.simulator - INFO - Date = 2020-06-24 08:00:00, number of deaths =  2, number of infected = 21730\n",
      "2020-09-01 17:19:14,331 - june.simulator - INFO - Date = 2020-06-24 10:00:00, number of deaths =  2, number of infected = 21767\n",
      "2020-09-01 17:19:14,771 - june.simulator - INFO - Date = 2020-06-25 00:00:00, number of deaths =  3, number of infected = 21887\n",
      "2020-09-01 17:19:15,259 - june.simulator - INFO - Date = 2020-06-25 02:00:00, number of deaths =  3, number of infected = 21905\n",
      "2020-09-01 17:19:15,773 - june.simulator - INFO - Date = 2020-06-25 04:00:00, number of deaths =  3, number of infected = 21931\n"
     ]
    },
    {
     "name": "stdout",
     "output_type": "stream",
     "text": [
      "2020-09-01 17:19:16,303 - june.simulator - INFO - Date = 2020-06-25 06:00:00, number of deaths =  3, number of infected = 21957\n",
      "2020-09-01 17:19:16,863 - june.simulator - INFO - Date = 2020-06-25 08:00:00, number of deaths =  3, number of infected = 21980\n",
      "2020-09-01 17:19:17,341 - june.simulator - INFO - Date = 2020-06-25 10:00:00, number of deaths =  3, number of infected = 21991\n",
      "2020-09-01 17:19:17,779 - june.simulator - INFO - Date = 2020-06-26 00:00:00, number of deaths =  3, number of infected = 22039\n",
      "2020-09-01 17:19:18,262 - june.simulator - INFO - Date = 2020-06-26 02:00:00, number of deaths =  3, number of infected = 22043\n",
      "2020-09-01 17:19:18,762 - june.simulator - INFO - Date = 2020-06-26 04:00:00, number of deaths =  3, number of infected = 22063\n",
      "2020-09-01 17:19:19,276 - june.simulator - INFO - Date = 2020-06-26 06:00:00, number of deaths =  3, number of infected = 22073\n",
      "2020-09-01 17:19:19,776 - june.simulator - INFO - Date = 2020-06-26 08:00:00, number of deaths =  3, number of infected = 22087\n",
      "2020-09-01 17:19:20,193 - june.simulator - INFO - Date = 2020-06-26 10:00:00, number of deaths =  3, number of infected = 22104\n",
      "2020-09-01 17:19:20,735 - june.simulator - INFO - Date = 2020-06-27 00:00:00, number of deaths =  3, number of infected = 22111\n",
      "2020-09-01 17:19:21,237 - june.simulator - INFO - Date = 2020-06-27 03:00:00, number of deaths =  3, number of infected = 22123\n",
      "2020-09-01 17:19:21,759 - june.simulator - INFO - Date = 2020-06-27 05:00:00, number of deaths =  3, number of infected = 22131\n",
      "2020-09-01 17:19:22,303 - june.simulator - INFO - Date = 2020-06-27 07:00:00, number of deaths =  3, number of infected = 22134\n",
      "2020-09-01 17:19:22,834 - june.simulator - INFO - Date = 2020-06-27 09:00:00, number of deaths =  3, number of infected = 22135\n",
      "2020-09-01 17:19:23,258 - june.simulator - INFO - Date = 2020-06-27 11:00:00, number of deaths =  3, number of infected = 22148\n",
      "2020-09-01 17:19:23,685 - june.simulator - INFO - Date = 2020-06-28 00:00:00, number of deaths =  3, number of infected = 22097\n",
      "2020-09-01 17:19:24,205 - june.simulator - INFO - Date = 2020-06-28 03:00:00, number of deaths =  3, number of infected = 22082\n",
      "2020-09-01 17:19:24,751 - june.simulator - INFO - Date = 2020-06-28 05:00:00, number of deaths =  3, number of infected = 22077\n",
      "2020-09-01 17:19:25,338 - june.simulator - INFO - Date = 2020-06-28 07:00:00, number of deaths =  3, number of infected = 22073\n",
      "2020-09-01 17:19:25,907 - june.simulator - INFO - Date = 2020-06-28 09:00:00, number of deaths =  3, number of infected = 22065\n",
      "2020-09-01 17:19:26,352 - june.simulator - INFO - Date = 2020-06-28 11:00:00, number of deaths =  3, number of infected = 22061\n",
      "2020-09-01 17:19:26,797 - june.simulator - INFO - Date = 2020-06-29 00:00:00, number of deaths =  3, number of infected = 21939\n",
      "2020-09-01 17:19:27,355 - june.simulator - INFO - Date = 2020-06-29 02:00:00, number of deaths =  3, number of infected = 21916\n",
      "2020-09-01 17:19:27,942 - june.simulator - INFO - Date = 2020-06-29 04:00:00, number of deaths =  3, number of infected = 21900\n",
      "2020-09-01 17:19:28,537 - june.simulator - INFO - Date = 2020-06-29 06:00:00, number of deaths =  3, number of infected = 21879\n",
      "2020-09-01 17:19:29,098 - june.simulator - INFO - Date = 2020-06-29 08:00:00, number of deaths =  3, number of infected = 21863\n",
      "2020-09-01 17:19:29,582 - june.simulator - INFO - Date = 2020-06-29 10:00:00, number of deaths =  3, number of infected = 21849\n",
      "2020-09-01 17:19:30,172 - june.simulator - INFO - Date = 2020-06-30 00:00:00, number of deaths =  3, number of infected = 21680\n",
      "2020-09-01 17:19:30,834 - june.simulator - INFO - Date = 2020-06-30 02:00:00, number of deaths =  3, number of infected = 21656\n",
      "2020-09-01 17:19:31,417 - june.simulator - INFO - Date = 2020-06-30 04:00:00, number of deaths =  3, number of infected = 21625\n",
      "2020-09-01 17:19:31,981 - june.simulator - INFO - Date = 2020-06-30 06:00:00, number of deaths =  3, number of infected = 21598\n",
      "2020-09-01 17:19:32,561 - june.simulator - INFO - Date = 2020-06-30 08:00:00, number of deaths =  3, number of infected = 21571\n",
      "2020-09-01 17:19:32,994 - june.simulator - INFO - Date = 2020-06-30 10:00:00, number of deaths =  4, number of infected = 21542\n",
      "2020-09-01 17:19:33,391 - june.simulator - INFO - Date = 2020-07-01 00:00:00, number of deaths =  5, number of infected = 21286\n",
      "2020-09-01 17:19:33,868 - june.simulator - INFO - Date = 2020-07-01 02:00:00, number of deaths =  5, number of infected = 21247\n",
      "2020-09-01 17:19:34,374 - june.simulator - INFO - Date = 2020-07-01 04:00:00, number of deaths =  5, number of infected = 21217\n",
      "2020-09-01 17:19:34,910 - june.simulator - INFO - Date = 2020-07-01 06:00:00, number of deaths =  5, number of infected = 21178\n",
      "2020-09-01 17:19:35,414 - june.simulator - INFO - Date = 2020-07-01 08:00:00, number of deaths =  5, number of infected = 21141\n",
      "2020-09-01 17:19:35,814 - june.simulator - INFO - Date = 2020-07-01 10:00:00, number of deaths =  5, number of infected = 21106\n",
      "2020-09-01 17:19:36,201 - june.simulator - INFO - Date = 2020-07-02 00:00:00, number of deaths =  5, number of infected = 20763\n",
      "2020-09-01 17:19:36,672 - june.simulator - INFO - Date = 2020-07-02 02:00:00, number of deaths =  5, number of infected = 20713\n",
      "2020-09-01 17:19:37,157 - june.simulator - INFO - Date = 2020-07-02 04:00:00, number of deaths =  5, number of infected = 20670\n",
      "2020-09-01 17:19:37,721 - june.simulator - INFO - Date = 2020-07-02 06:00:00, number of deaths =  5, number of infected = 20634\n",
      "2020-09-01 17:19:38,287 - june.simulator - INFO - Date = 2020-07-02 08:00:00, number of deaths =  5, number of infected = 20574\n",
      "2020-09-01 17:19:39,053 - june.simulator - INFO - Date = 2020-07-02 10:00:00, number of deaths =  6, number of infected = 20513\n",
      "2020-09-01 17:19:39,571 - june.simulator - INFO - Date = 2020-07-03 00:00:00, number of deaths =  7, number of infected = 20133\n",
      "2020-09-01 17:19:40,073 - june.simulator - INFO - Date = 2020-07-03 02:00:00, number of deaths =  7, number of infected = 20068\n",
      "2020-09-01 17:19:40,579 - june.simulator - INFO - Date = 2020-07-03 04:00:00, number of deaths =  7, number of infected = 19986\n",
      "2020-09-01 17:19:41,097 - june.simulator - INFO - Date = 2020-07-03 06:00:00, number of deaths =  7, number of infected = 19919\n",
      "2020-09-01 17:19:41,707 - june.simulator - INFO - Date = 2020-07-03 08:00:00, number of deaths =  7, number of infected = 19856\n",
      "2020-09-01 17:19:42,101 - june.simulator - INFO - Date = 2020-07-03 10:00:00, number of deaths =  7, number of infected = 19800\n",
      "2020-09-01 17:19:42,501 - june.simulator - INFO - Date = 2020-07-04 00:00:00, number of deaths =  7, number of infected = 19326\n",
      "2020-09-01 17:19:43,021 - june.simulator - INFO - Date = 2020-07-04 03:00:00, number of deaths =  7, number of infected = 19225\n",
      "2020-09-01 17:19:43,557 - june.simulator - INFO - Date = 2020-07-04 05:00:00, number of deaths =  7, number of infected = 19146\n",
      "2020-09-01 17:19:44,091 - june.simulator - INFO - Date = 2020-07-04 07:00:00, number of deaths =  7, number of infected = 19065\n",
      "2020-09-01 17:19:44,648 - june.simulator - INFO - Date = 2020-07-04 09:00:00, number of deaths =  7, number of infected = 18992\n",
      "2020-09-01 17:19:45,065 - june.simulator - INFO - Date = 2020-07-04 11:00:00, number of deaths =  7, number of infected = 18907\n",
      "2020-09-01 17:19:45,453 - june.simulator - INFO - Date = 2020-07-05 00:00:00, number of deaths =  8, number of infected = 18392\n",
      "2020-09-01 17:19:46,035 - june.simulator - INFO - Date = 2020-07-05 03:00:00, number of deaths =  8, number of infected = 18265\n",
      "2020-09-01 17:19:46,777 - june.simulator - INFO - Date = 2020-07-05 05:00:00, number of deaths =  8, number of infected = 18178\n",
      "2020-09-01 17:19:47,365 - june.simulator - INFO - Date = 2020-07-05 07:00:00, number of deaths =  9, number of infected = 18091\n",
      "2020-09-01 17:19:48,183 - june.simulator - INFO - Date = 2020-07-05 09:00:00, number of deaths =  9, number of infected = 18011\n",
      "2020-09-01 17:19:48,596 - june.simulator - INFO - Date = 2020-07-05 11:00:00, number of deaths =  9, number of infected = 17939\n",
      "2020-09-01 17:19:48,951 - june.simulator - INFO - Date = 2020-07-06 00:00:00, number of deaths =  9, number of infected = 17335\n",
      "2020-09-01 17:19:49,413 - june.simulator - INFO - Date = 2020-07-06 02:00:00, number of deaths =  9, number of infected = 17246\n"
     ]
    },
    {
     "name": "stdout",
     "output_type": "stream",
     "text": [
      "2020-09-01 17:19:50,066 - june.simulator - INFO - Date = 2020-07-06 04:00:00, number of deaths =  9, number of infected = 17136\n",
      "2020-09-01 17:19:50,672 - june.simulator - INFO - Date = 2020-07-06 06:00:00, number of deaths =  9, number of infected = 17039\n",
      "2020-09-01 17:19:51,226 - june.simulator - INFO - Date = 2020-07-06 08:00:00, number of deaths =  9, number of infected = 16947\n",
      "2020-09-01 17:19:51,584 - june.simulator - INFO - Date = 2020-07-06 10:00:00, number of deaths =  9, number of infected = 16847\n",
      "2020-09-01 17:19:51,942 - june.simulator - INFO - Date = 2020-07-07 00:00:00, number of deaths =  10, number of infected = 16110\n",
      "2020-09-01 17:19:52,410 - june.simulator - INFO - Date = 2020-07-07 02:00:00, number of deaths =  10, number of infected = 16018\n",
      "2020-09-01 17:19:52,856 - june.simulator - INFO - Date = 2020-07-07 04:00:00, number of deaths =  10, number of infected = 15937\n",
      "2020-09-01 17:19:53,316 - june.simulator - INFO - Date = 2020-07-07 06:00:00, number of deaths =  10, number of infected = 15828\n",
      "2020-09-01 17:19:53,753 - june.simulator - INFO - Date = 2020-07-07 08:00:00, number of deaths =  10, number of infected = 15710\n",
      "2020-09-01 17:19:54,087 - june.simulator - INFO - Date = 2020-07-07 10:00:00, number of deaths =  10, number of infected = 15603\n",
      "2020-09-01 17:19:54,419 - june.simulator - INFO - Date = 2020-07-08 00:00:00, number of deaths =  10, number of infected = 14791\n",
      "2020-09-01 17:19:54,848 - june.simulator - INFO - Date = 2020-07-08 02:00:00, number of deaths =  10, number of infected = 14669\n",
      "2020-09-01 17:19:55,281 - june.simulator - INFO - Date = 2020-07-08 04:00:00, number of deaths =  10, number of infected = 14543\n",
      "2020-09-01 17:19:55,717 - june.simulator - INFO - Date = 2020-07-08 06:00:00, number of deaths =  10, number of infected = 14432\n",
      "2020-09-01 17:19:56,141 - june.simulator - INFO - Date = 2020-07-08 08:00:00, number of deaths =  10, number of infected = 14325\n",
      "2020-09-01 17:19:56,464 - june.simulator - INFO - Date = 2020-07-08 10:00:00, number of deaths =  10, number of infected = 14195\n",
      "2020-09-01 17:19:56,777 - june.simulator - INFO - Date = 2020-07-09 00:00:00, number of deaths =  10, number of infected = 13355\n",
      "2020-09-01 17:19:57,204 - june.simulator - INFO - Date = 2020-07-09 02:00:00, number of deaths =  10, number of infected = 13213\n",
      "2020-09-01 17:19:57,641 - june.simulator - INFO - Date = 2020-07-09 04:00:00, number of deaths =  10, number of infected = 13092\n",
      "2020-09-01 17:19:58,050 - june.simulator - INFO - Date = 2020-07-09 06:00:00, number of deaths =  10, number of infected = 12956\n",
      "2020-09-01 17:19:58,460 - june.simulator - INFO - Date = 2020-07-09 08:00:00, number of deaths =  10, number of infected = 12823\n",
      "2020-09-01 17:19:58,762 - june.simulator - INFO - Date = 2020-07-09 10:00:00, number of deaths =  10, number of infected = 12716\n",
      "2020-09-01 17:19:59,050 - june.simulator - INFO - Date = 2020-07-10 00:00:00, number of deaths =  10, number of infected = 11810\n",
      "2020-09-01 17:19:59,442 - june.simulator - INFO - Date = 2020-07-10 02:00:00, number of deaths =  10, number of infected = 11688\n",
      "2020-09-01 17:19:59,866 - june.simulator - INFO - Date = 2020-07-10 04:00:00, number of deaths =  10, number of infected = 11536\n",
      "2020-09-01 17:20:00,294 - june.simulator - INFO - Date = 2020-07-10 06:00:00, number of deaths =  10, number of infected = 11394\n",
      "2020-09-01 17:20:00,696 - june.simulator - INFO - Date = 2020-07-10 08:00:00, number of deaths =  10, number of infected = 11266\n",
      "2020-09-01 17:20:00,971 - june.simulator - INFO - Date = 2020-07-10 10:00:00, number of deaths =  10, number of infected = 11158\n",
      "2020-09-01 17:20:01,275 - june.simulator - INFO - Date = 2020-07-11 00:00:00, number of deaths =  10, number of infected = 10268\n",
      "2020-09-01 17:20:01,694 - june.simulator - INFO - Date = 2020-07-11 03:00:00, number of deaths =  10, number of infected = 10076\n",
      "2020-09-01 17:20:02,116 - june.simulator - INFO - Date = 2020-07-11 05:00:00, number of deaths =  10, number of infected = 9938\n",
      "2020-09-01 17:20:02,539 - june.simulator - INFO - Date = 2020-07-11 07:00:00, number of deaths =  10, number of infected = 9798\n",
      "2020-09-01 17:20:02,943 - june.simulator - INFO - Date = 2020-07-11 09:00:00, number of deaths =  10, number of infected = 9652\n",
      "2020-09-01 17:20:03,201 - june.simulator - INFO - Date = 2020-07-11 11:00:00, number of deaths =  10, number of infected = 9538\n",
      "2020-09-01 17:20:03,451 - june.simulator - INFO - Date = 2020-07-12 00:00:00, number of deaths =  10, number of infected = 8744\n",
      "2020-09-01 17:20:03,870 - june.simulator - INFO - Date = 2020-07-12 03:00:00, number of deaths =  10, number of infected = 8540\n",
      "2020-09-01 17:20:04,252 - june.simulator - INFO - Date = 2020-07-12 05:00:00, number of deaths =  10, number of infected = 8411\n",
      "2020-09-01 17:20:04,640 - june.simulator - INFO - Date = 2020-07-12 07:00:00, number of deaths =  10, number of infected = 8300\n",
      "2020-09-01 17:20:05,053 - june.simulator - INFO - Date = 2020-07-12 09:00:00, number of deaths =  10, number of infected = 8172\n",
      "2020-09-01 17:20:05,301 - june.simulator - INFO - Date = 2020-07-12 11:00:00, number of deaths =  10, number of infected = 8054\n",
      "2020-09-01 17:20:05,534 - june.simulator - INFO - Date = 2020-07-13 00:00:00, number of deaths =  10, number of infected = 7269\n",
      "2020-09-01 17:20:05,892 - june.simulator - INFO - Date = 2020-07-13 02:00:00, number of deaths =  10, number of infected = 7134\n",
      "2020-09-01 17:20:06,236 - june.simulator - INFO - Date = 2020-07-13 04:00:00, number of deaths =  10, number of infected = 7015\n",
      "2020-09-01 17:20:06,587 - june.simulator - INFO - Date = 2020-07-13 06:00:00, number of deaths =  10, number of infected = 6896\n",
      "2020-09-01 17:20:06,935 - june.simulator - INFO - Date = 2020-07-13 08:00:00, number of deaths =  10, number of infected = 6766\n",
      "2020-09-01 17:20:07,167 - june.simulator - INFO - Date = 2020-07-13 10:00:00, number of deaths =  10, number of infected = 6649\n",
      "2020-09-01 17:20:07,388 - june.simulator - INFO - Date = 2020-07-14 00:00:00, number of deaths =  11, number of infected = 5835\n",
      "2020-09-01 17:20:07,730 - june.simulator - INFO - Date = 2020-07-14 02:00:00, number of deaths =  11, number of infected = 5727\n",
      "2020-09-01 17:20:08,069 - june.simulator - INFO - Date = 2020-07-14 04:00:00, number of deaths =  11, number of infected = 5591\n",
      "2020-09-01 17:20:08,412 - june.simulator - INFO - Date = 2020-07-14 06:00:00, number of deaths =  11, number of infected = 5484\n",
      "2020-09-01 17:20:08,744 - june.simulator - INFO - Date = 2020-07-14 08:00:00, number of deaths =  11, number of infected = 5385\n",
      "2020-09-01 17:20:08,959 - june.simulator - INFO - Date = 2020-07-14 10:00:00, number of deaths =  11, number of infected = 5282\n",
      "2020-09-01 17:20:09,159 - june.simulator - INFO - Date = 2020-07-15 00:00:00, number of deaths =  11, number of infected = 4634\n",
      "2020-09-01 17:20:09,481 - june.simulator - INFO - Date = 2020-07-15 02:00:00, number of deaths =  11, number of infected = 4551\n",
      "2020-09-01 17:20:09,860 - june.simulator - INFO - Date = 2020-07-15 04:00:00, number of deaths =  11, number of infected = 4456\n",
      "2020-09-01 17:20:10,161 - june.simulator - INFO - Date = 2020-07-15 06:00:00, number of deaths =  11, number of infected = 4359\n",
      "2020-09-01 17:20:10,474 - june.simulator - INFO - Date = 2020-07-15 08:00:00, number of deaths =  11, number of infected = 4290\n",
      "2020-09-01 17:20:10,681 - june.simulator - INFO - Date = 2020-07-15 10:00:00, number of deaths =  11, number of infected = 4207\n",
      "2020-09-01 17:20:10,876 - june.simulator - INFO - Date = 2020-07-16 00:00:00, number of deaths =  11, number of infected = 3677\n",
      "2020-09-01 17:20:11,183 - june.simulator - INFO - Date = 2020-07-16 02:00:00, number of deaths =  11, number of infected = 3605\n",
      "2020-09-01 17:20:11,495 - june.simulator - INFO - Date = 2020-07-16 04:00:00, number of deaths =  11, number of infected = 3528\n",
      "2020-09-01 17:20:11,854 - june.simulator - INFO - Date = 2020-07-16 06:00:00, number of deaths =  11, number of infected = 3441\n",
      "2020-09-01 17:20:12,257 - june.simulator - INFO - Date = 2020-07-16 08:00:00, number of deaths =  11, number of infected = 3354\n",
      "2020-09-01 17:20:12,441 - june.simulator - INFO - Date = 2020-07-16 10:00:00, number of deaths =  11, number of infected = 3286\n"
     ]
    },
    {
     "name": "stdout",
     "output_type": "stream",
     "text": [
      "2020-09-01 17:20:12,620 - june.simulator - INFO - Date = 2020-07-17 00:00:00, number of deaths =  11, number of infected = 2792\n",
      "2020-09-01 17:20:12,898 - june.simulator - INFO - Date = 2020-07-17 02:00:00, number of deaths =  11, number of infected = 2746\n",
      "2020-09-01 17:20:13,190 - june.simulator - INFO - Date = 2020-07-17 04:00:00, number of deaths =  11, number of infected = 2697\n",
      "2020-09-01 17:20:13,488 - june.simulator - INFO - Date = 2020-07-17 06:00:00, number of deaths =  11, number of infected = 2643\n",
      "2020-09-01 17:20:13,779 - june.simulator - INFO - Date = 2020-07-17 08:00:00, number of deaths =  11, number of infected = 2570\n",
      "2020-09-01 17:20:13,959 - june.simulator - INFO - Date = 2020-07-17 10:00:00, number of deaths =  11, number of infected = 2508\n",
      "2020-09-01 17:20:14,135 - june.simulator - INFO - Date = 2020-07-18 00:00:00, number of deaths =  11, number of infected = 2125\n",
      "2020-09-01 17:20:14,447 - june.simulator - INFO - Date = 2020-07-18 03:00:00, number of deaths =  11, number of infected = 2046\n",
      "2020-09-01 17:20:14,773 - june.simulator - INFO - Date = 2020-07-18 05:00:00, number of deaths =  11, number of infected = 2000\n",
      "2020-09-01 17:20:15,079 - june.simulator - INFO - Date = 2020-07-18 07:00:00, number of deaths =  11, number of infected = 1948\n",
      "2020-09-01 17:20:15,384 - june.simulator - INFO - Date = 2020-07-18 09:00:00, number of deaths =  11, number of infected = 1905\n",
      "2020-09-01 17:20:15,552 - june.simulator - INFO - Date = 2020-07-18 11:00:00, number of deaths =  11, number of infected = 1869\n",
      "2020-09-01 17:20:15,710 - june.simulator - INFO - Date = 2020-07-19 00:00:00, number of deaths =  12, number of infected = 1613\n",
      "2020-09-01 17:20:16,009 - june.simulator - INFO - Date = 2020-07-19 03:00:00, number of deaths =  12, number of infected = 1558\n",
      "2020-09-01 17:20:16,319 - june.simulator - INFO - Date = 2020-07-19 05:00:00, number of deaths =  12, number of infected = 1525\n",
      "2020-09-01 17:20:16,621 - june.simulator - INFO - Date = 2020-07-19 07:00:00, number of deaths =  12, number of infected = 1482\n",
      "2020-09-01 17:20:16,909 - june.simulator - INFO - Date = 2020-07-19 09:00:00, number of deaths =  12, number of infected = 1450\n",
      "2020-09-01 17:20:17,069 - june.simulator - INFO - Date = 2020-07-19 11:00:00, number of deaths =  12, number of infected = 1407\n",
      "2020-09-01 17:20:17,228 - june.simulator - INFO - Date = 2020-07-20 00:00:00, number of deaths =  12, number of infected = 1212\n",
      "2020-09-01 17:20:17,496 - june.simulator - INFO - Date = 2020-07-20 02:00:00, number of deaths =  12, number of infected = 1183\n",
      "2020-09-01 17:20:17,767 - june.simulator - INFO - Date = 2020-07-20 04:00:00, number of deaths =  12, number of infected = 1155\n",
      "2020-09-01 17:20:18,035 - june.simulator - INFO - Date = 2020-07-20 06:00:00, number of deaths =  12, number of infected = 1125\n",
      "2020-09-01 17:20:18,327 - june.simulator - INFO - Date = 2020-07-20 08:00:00, number of deaths =  12, number of infected = 1110\n",
      "2020-09-01 17:20:18,500 - june.simulator - INFO - Date = 2020-07-20 10:00:00, number of deaths =  12, number of infected = 1088\n",
      "2020-09-01 17:20:18,655 - june.simulator - INFO - Date = 2020-07-21 00:00:00, number of deaths =  14, number of infected = 922\n",
      "2020-09-01 17:20:18,911 - june.simulator - INFO - Date = 2020-07-21 02:00:00, number of deaths =  14, number of infected = 897\n",
      "2020-09-01 17:20:19,192 - june.simulator - INFO - Date = 2020-07-21 04:00:00, number of deaths =  14, number of infected = 881\n",
      "2020-09-01 17:20:19,552 - june.simulator - INFO - Date = 2020-07-21 06:00:00, number of deaths =  14, number of infected = 863\n",
      "2020-09-01 17:20:19,896 - june.simulator - INFO - Date = 2020-07-21 08:00:00, number of deaths =  14, number of infected = 842\n",
      "2020-09-01 17:20:20,119 - june.simulator - INFO - Date = 2020-07-21 10:00:00, number of deaths =  14, number of infected = 823\n",
      "2020-09-01 17:20:20,319 - june.simulator - INFO - Date = 2020-07-22 00:00:00, number of deaths =  14, number of infected = 691\n",
      "2020-09-01 17:20:20,706 - june.simulator - INFO - Date = 2020-07-22 02:00:00, number of deaths =  14, number of infected = 671\n",
      "2020-09-01 17:20:21,266 - june.simulator - INFO - Date = 2020-07-22 04:00:00, number of deaths =  15, number of infected = 659\n",
      "2020-09-01 17:20:21,863 - june.simulator - INFO - Date = 2020-07-22 06:00:00, number of deaths =  15, number of infected = 637\n",
      "2020-09-01 17:20:22,420 - june.simulator - INFO - Date = 2020-07-22 08:00:00, number of deaths =  15, number of infected = 623\n",
      "2020-09-01 17:20:22,661 - june.simulator - INFO - Date = 2020-07-22 10:00:00, number of deaths =  15, number of infected = 612\n",
      "2020-09-01 17:20:22,853 - june.simulator - INFO - Date = 2020-07-23 00:00:00, number of deaths =  15, number of infected = 524\n",
      "2020-09-01 17:20:23,217 - june.simulator - INFO - Date = 2020-07-23 02:00:00, number of deaths =  15, number of infected = 511\n",
      "2020-09-01 17:20:23,545 - june.simulator - INFO - Date = 2020-07-23 04:00:00, number of deaths =  15, number of infected = 502\n",
      "2020-09-01 17:20:23,909 - june.simulator - INFO - Date = 2020-07-23 06:00:00, number of deaths =  15, number of infected = 487\n",
      "2020-09-01 17:20:24,234 - june.simulator - INFO - Date = 2020-07-23 08:00:00, number of deaths =  15, number of infected = 478\n",
      "2020-09-01 17:20:24,449 - june.simulator - INFO - Date = 2020-07-23 10:00:00, number of deaths =  15, number of infected = 466\n",
      "2020-09-01 17:20:24,661 - june.simulator - INFO - Date = 2020-07-24 00:00:00, number of deaths =  15, number of infected = 395\n",
      "2020-09-01 17:20:24,989 - june.simulator - INFO - Date = 2020-07-24 02:00:00, number of deaths =  15, number of infected = 392\n",
      "2020-09-01 17:20:25,294 - june.simulator - INFO - Date = 2020-07-24 04:00:00, number of deaths =  15, number of infected = 383\n",
      "2020-09-01 17:20:25,590 - june.simulator - INFO - Date = 2020-07-24 06:00:00, number of deaths =  15, number of infected = 379\n",
      "2020-09-01 17:20:25,867 - june.simulator - INFO - Date = 2020-07-24 08:00:00, number of deaths =  15, number of infected = 371\n",
      "2020-09-01 17:20:26,027 - june.simulator - INFO - Date = 2020-07-24 10:00:00, number of deaths =  15, number of infected = 367\n",
      "2020-09-01 17:20:26,177 - june.simulator - INFO - Date = 2020-07-25 00:00:00, number of deaths =  15, number of infected = 320\n",
      "2020-09-01 17:20:26,499 - june.simulator - INFO - Date = 2020-07-25 03:00:00, number of deaths =  15, number of infected = 308\n",
      "2020-09-01 17:20:26,792 - june.simulator - INFO - Date = 2020-07-25 05:00:00, number of deaths =  15, number of infected = 301\n",
      "2020-09-01 17:20:27,089 - june.simulator - INFO - Date = 2020-07-25 07:00:00, number of deaths =  15, number of infected = 295\n",
      "2020-09-01 17:20:27,383 - june.simulator - INFO - Date = 2020-07-25 09:00:00, number of deaths =  15, number of infected = 290\n",
      "2020-09-01 17:20:27,537 - june.simulator - INFO - Date = 2020-07-25 11:00:00, number of deaths =  15, number of infected = 283\n",
      "2020-09-01 17:20:27,686 - june.simulator - INFO - Date = 2020-07-26 00:00:00, number of deaths =  15, number of infected = 250\n",
      "2020-09-01 17:20:27,985 - june.simulator - INFO - Date = 2020-07-26 03:00:00, number of deaths =  15, number of infected = 242\n",
      "2020-09-01 17:20:28,270 - june.simulator - INFO - Date = 2020-07-26 05:00:00, number of deaths =  15, number of infected = 239\n",
      "2020-09-01 17:20:28,569 - june.simulator - INFO - Date = 2020-07-26 07:00:00, number of deaths =  15, number of infected = 232\n",
      "2020-09-01 17:20:28,856 - june.simulator - INFO - Date = 2020-07-26 09:00:00, number of deaths =  15, number of infected = 225\n",
      "2020-09-01 17:20:29,004 - june.simulator - INFO - Date = 2020-07-26 11:00:00, number of deaths =  15, number of infected = 220\n",
      "2020-09-01 17:20:29,153 - june.simulator - INFO - Date = 2020-07-27 00:00:00, number of deaths =  15, number of infected = 198\n",
      "2020-09-01 17:20:29,430 - june.simulator - INFO - Date = 2020-07-27 02:00:00, number of deaths =  15, number of infected = 190\n",
      "2020-09-01 17:20:29,708 - june.simulator - INFO - Date = 2020-07-27 04:00:00, number of deaths =  15, number of infected = 188\n",
      "2020-09-01 17:20:29,973 - june.simulator - INFO - Date = 2020-07-27 06:00:00, number of deaths =  15, number of infected = 185\n",
      "2020-09-01 17:20:30,250 - june.simulator - INFO - Date = 2020-07-27 08:00:00, number of deaths =  15, number of infected = 182\n"
     ]
    },
    {
     "name": "stdout",
     "output_type": "stream",
     "text": [
      "2020-09-01 17:20:30,405 - june.simulator - INFO - Date = 2020-07-27 10:00:00, number of deaths =  15, number of infected = 182\n",
      "2020-09-01 17:20:30,555 - june.simulator - INFO - Date = 2020-07-28 00:00:00, number of deaths =  15, number of infected = 164\n",
      "2020-09-01 17:20:30,811 - june.simulator - INFO - Date = 2020-07-28 02:00:00, number of deaths =  15, number of infected = 161\n",
      "2020-09-01 17:20:31,069 - june.simulator - INFO - Date = 2020-07-28 04:00:00, number of deaths =  15, number of infected = 157\n",
      "2020-09-01 17:20:31,325 - june.simulator - INFO - Date = 2020-07-28 06:00:00, number of deaths =  15, number of infected = 154\n",
      "2020-09-01 17:20:31,593 - june.simulator - INFO - Date = 2020-07-28 08:00:00, number of deaths =  15, number of infected = 150\n",
      "2020-09-01 17:20:31,750 - june.simulator - INFO - Date = 2020-07-28 10:00:00, number of deaths =  15, number of infected = 149\n",
      "2020-09-01 17:20:31,886 - june.simulator - INFO - Date = 2020-07-29 00:00:00, number of deaths =  15, number of infected = 137\n",
      "2020-09-01 17:20:32,153 - june.simulator - INFO - Date = 2020-07-29 02:00:00, number of deaths =  15, number of infected = 136\n",
      "2020-09-01 17:20:32,411 - june.simulator - INFO - Date = 2020-07-29 04:00:00, number of deaths =  15, number of infected = 134\n",
      "2020-09-01 17:20:32,669 - june.simulator - INFO - Date = 2020-07-29 06:00:00, number of deaths =  16, number of infected = 133\n",
      "2020-09-01 17:20:32,923 - june.simulator - INFO - Date = 2020-07-29 08:00:00, number of deaths =  16, number of infected = 130\n",
      "2020-09-01 17:20:33,072 - june.simulator - INFO - Date = 2020-07-29 10:00:00, number of deaths =  16, number of infected = 130\n",
      "2020-09-01 17:20:33,219 - june.simulator - INFO - Date = 2020-07-30 00:00:00, number of deaths =  16, number of infected = 119\n",
      "2020-09-01 17:20:33,472 - june.simulator - INFO - Date = 2020-07-30 02:00:00, number of deaths =  16, number of infected = 119\n",
      "2020-09-01 17:20:33,745 - june.simulator - INFO - Date = 2020-07-30 04:00:00, number of deaths =  16, number of infected = 116\n",
      "2020-09-01 17:20:34,008 - june.simulator - INFO - Date = 2020-07-30 06:00:00, number of deaths =  16, number of infected = 114\n",
      "2020-09-01 17:20:34,273 - june.simulator - INFO - Date = 2020-07-30 08:00:00, number of deaths =  16, number of infected = 113\n",
      "2020-09-01 17:20:34,425 - june.simulator - INFO - Date = 2020-07-30 10:00:00, number of deaths =  16, number of infected = 113\n",
      "2020-09-01 17:20:34,573 - june.simulator - INFO - Date = 2020-07-31 00:00:00, number of deaths =  16, number of infected = 99\n",
      "2020-09-01 17:20:34,836 - june.simulator - INFO - Date = 2020-07-31 02:00:00, number of deaths =  16, number of infected = 98\n",
      "2020-09-01 17:20:35,097 - june.simulator - INFO - Date = 2020-07-31 04:00:00, number of deaths =  16, number of infected = 96\n",
      "2020-09-01 17:20:35,359 - june.simulator - INFO - Date = 2020-07-31 06:00:00, number of deaths =  16, number of infected = 95\n",
      "2020-09-01 17:20:35,625 - june.simulator - INFO - Date = 2020-07-31 08:00:00, number of deaths =  16, number of infected = 93\n",
      "2020-09-01 17:20:35,767 - june.simulator - INFO - Date = 2020-07-31 10:00:00, number of deaths =  16, number of infected = 93\n",
      "2020-09-01 17:20:35,909 - june.simulator - INFO - Date = 2020-08-01 00:00:00, number of deaths =  16, number of infected = 81\n",
      "2020-09-01 17:20:36,224 - june.simulator - INFO - Date = 2020-08-01 03:00:00, number of deaths =  16, number of infected = 79\n",
      "2020-09-01 17:20:36,513 - june.simulator - INFO - Date = 2020-08-01 05:00:00, number of deaths =  16, number of infected = 77\n",
      "2020-09-01 17:20:36,826 - june.simulator - INFO - Date = 2020-08-01 07:00:00, number of deaths =  16, number of infected = 76\n",
      "2020-09-01 17:20:37,113 - june.simulator - INFO - Date = 2020-08-01 09:00:00, number of deaths =  16, number of infected = 76\n",
      "2020-09-01 17:20:37,256 - june.simulator - INFO - Date = 2020-08-01 11:00:00, number of deaths =  16, number of infected = 73\n",
      "2020-09-01 17:20:37,407 - june.simulator - INFO - Date = 2020-08-02 00:00:00, number of deaths =  16, number of infected = 70\n",
      "2020-09-01 17:20:37,709 - june.simulator - INFO - Date = 2020-08-02 03:00:00, number of deaths =  16, number of infected = 69\n",
      "2020-09-01 17:20:37,999 - june.simulator - INFO - Date = 2020-08-02 05:00:00, number of deaths =  16, number of infected = 68\n",
      "2020-09-01 17:20:38,306 - june.simulator - INFO - Date = 2020-08-02 07:00:00, number of deaths =  16, number of infected = 68\n",
      "2020-09-01 17:20:38,635 - june.simulator - INFO - Date = 2020-08-02 09:00:00, number of deaths =  16, number of infected = 68\n",
      "2020-09-01 17:20:38,870 - june.simulator - INFO - Date = 2020-08-02 11:00:00, number of deaths =  16, number of infected = 67\n",
      "2020-09-01 17:20:39,043 - june.simulator - INFO - Date = 2020-08-03 00:00:00, number of deaths =  16, number of infected = 58\n",
      "2020-09-01 17:20:39,320 - june.simulator - INFO - Date = 2020-08-03 02:00:00, number of deaths =  16, number of infected = 56\n",
      "2020-09-01 17:20:39,602 - june.simulator - INFO - Date = 2020-08-03 04:00:00, number of deaths =  16, number of infected = 56\n",
      "2020-09-01 17:20:39,889 - june.simulator - INFO - Date = 2020-08-03 06:00:00, number of deaths =  16, number of infected = 56\n",
      "2020-09-01 17:20:40,193 - june.simulator - INFO - Date = 2020-08-03 08:00:00, number of deaths =  16, number of infected = 56\n",
      "2020-09-01 17:20:40,374 - june.simulator - INFO - Date = 2020-08-03 10:00:00, number of deaths =  16, number of infected = 56\n",
      "2020-09-01 17:20:40,533 - june.simulator - INFO - Date = 2020-08-04 00:00:00, number of deaths =  16, number of infected = 52\n",
      "2020-09-01 17:20:40,833 - june.simulator - INFO - Date = 2020-08-04 02:00:00, number of deaths =  16, number of infected = 52\n",
      "2020-09-01 17:20:41,173 - june.simulator - INFO - Date = 2020-08-04 04:00:00, number of deaths =  16, number of infected = 51\n",
      "2020-09-01 17:20:41,653 - june.simulator - INFO - Date = 2020-08-04 06:00:00, number of deaths =  16, number of infected = 50\n",
      "2020-09-01 17:20:42,107 - june.simulator - INFO - Date = 2020-08-04 08:00:00, number of deaths =  16, number of infected = 49\n",
      "2020-09-01 17:20:42,277 - june.simulator - INFO - Date = 2020-08-04 10:00:00, number of deaths =  16, number of infected = 49\n",
      "2020-09-01 17:20:42,462 - june.simulator - INFO - Date = 2020-08-05 00:00:00, number of deaths =  16, number of infected = 49\n",
      "2020-09-01 17:20:42,764 - june.simulator - INFO - Date = 2020-08-05 02:00:00, number of deaths =  16, number of infected = 49\n",
      "2020-09-01 17:20:43,065 - june.simulator - INFO - Date = 2020-08-05 04:00:00, number of deaths =  16, number of infected = 49\n",
      "2020-09-01 17:20:43,362 - june.simulator - INFO - Date = 2020-08-05 06:00:00, number of deaths =  16, number of infected = 48\n",
      "2020-09-01 17:20:43,638 - june.simulator - INFO - Date = 2020-08-05 08:00:00, number of deaths =  16, number of infected = 48\n",
      "2020-09-01 17:20:43,825 - june.simulator - INFO - Date = 2020-08-05 10:00:00, number of deaths =  16, number of infected = 47\n",
      "2020-09-01 17:20:44,122 - june.simulator - INFO - Date = 2020-08-06 00:00:00, number of deaths =  16, number of infected = 44\n",
      "2020-09-01 17:20:44,642 - june.simulator - INFO - Date = 2020-08-06 02:00:00, number of deaths =  16, number of infected = 44\n",
      "2020-09-01 17:20:45,004 - june.simulator - INFO - Date = 2020-08-06 04:00:00, number of deaths =  16, number of infected = 43\n",
      "2020-09-01 17:20:45,397 - june.simulator - INFO - Date = 2020-08-06 06:00:00, number of deaths =  16, number of infected = 43\n",
      "2020-09-01 17:20:45,938 - june.simulator - INFO - Date = 2020-08-06 08:00:00, number of deaths =  16, number of infected = 43\n",
      "2020-09-01 17:20:46,208 - june.simulator - INFO - Date = 2020-08-06 10:00:00, number of deaths =  16, number of infected = 43\n",
      "2020-09-01 17:20:46,399 - june.simulator - INFO - Date = 2020-08-07 00:00:00, number of deaths =  16, number of infected = 41\n",
      "2020-09-01 17:20:46,851 - june.simulator - INFO - Date = 2020-08-07 02:00:00, number of deaths =  16, number of infected = 40\n",
      "2020-09-01 17:20:47,272 - june.simulator - INFO - Date = 2020-08-07 04:00:00, number of deaths =  16, number of infected = 40\n",
      "2020-09-01 17:20:47,587 - june.simulator - INFO - Date = 2020-08-07 06:00:00, number of deaths =  16, number of infected = 38\n"
     ]
    },
    {
     "name": "stdout",
     "output_type": "stream",
     "text": [
      "2020-09-01 17:20:47,873 - june.simulator - INFO - Date = 2020-08-07 08:00:00, number of deaths =  16, number of infected = 37\n",
      "2020-09-01 17:20:48,033 - june.simulator - INFO - Date = 2020-08-07 10:00:00, number of deaths =  16, number of infected = 35\n",
      "2020-09-01 17:20:48,231 - june.simulator - INFO - Date = 2020-08-08 00:00:00, number of deaths =  16, number of infected = 35\n",
      "2020-09-01 17:20:49,205 - june.simulator - INFO - Date = 2020-08-08 03:00:00, number of deaths =  16, number of infected = 35\n",
      "2020-09-01 17:20:49,721 - june.simulator - INFO - Date = 2020-08-08 05:00:00, number of deaths =  16, number of infected = 35\n",
      "2020-09-01 17:20:50,060 - june.simulator - INFO - Date = 2020-08-08 07:00:00, number of deaths =  16, number of infected = 34\n",
      "2020-09-01 17:20:50,398 - june.simulator - INFO - Date = 2020-08-08 09:00:00, number of deaths =  16, number of infected = 33\n",
      "2020-09-01 17:20:50,649 - june.simulator - INFO - Date = 2020-08-08 11:00:00, number of deaths =  16, number of infected = 33\n",
      "2020-09-01 17:20:50,862 - june.simulator - INFO - Date = 2020-08-09 00:00:00, number of deaths =  16, number of infected = 33\n",
      "2020-09-01 17:20:51,205 - june.simulator - INFO - Date = 2020-08-09 03:00:00, number of deaths =  16, number of infected = 33\n",
      "2020-09-01 17:20:51,537 - june.simulator - INFO - Date = 2020-08-09 05:00:00, number of deaths =  16, number of infected = 32\n",
      "2020-09-01 17:20:51,868 - june.simulator - INFO - Date = 2020-08-09 07:00:00, number of deaths =  16, number of infected = 32\n",
      "2020-09-01 17:20:52,256 - june.simulator - INFO - Date = 2020-08-09 09:00:00, number of deaths =  16, number of infected = 31\n",
      "2020-09-01 17:20:52,410 - june.simulator - INFO - Date = 2020-08-09 11:00:00, number of deaths =  16, number of infected = 30\n",
      "2020-09-01 17:20:52,553 - june.simulator - INFO - Date = 2020-08-10 00:00:00, number of deaths =  16, number of infected = 29\n",
      "2020-09-01 17:20:52,819 - june.simulator - INFO - Date = 2020-08-10 02:00:00, number of deaths =  16, number of infected = 29\n",
      "2020-09-01 17:20:53,088 - june.simulator - INFO - Date = 2020-08-10 04:00:00, number of deaths =  16, number of infected = 29\n",
      "2020-09-01 17:20:53,428 - june.simulator - INFO - Date = 2020-08-10 06:00:00, number of deaths =  16, number of infected = 29\n",
      "2020-09-01 17:20:53,759 - june.simulator - INFO - Date = 2020-08-10 08:00:00, number of deaths =  16, number of infected = 29\n",
      "2020-09-01 17:20:53,929 - june.simulator - INFO - Date = 2020-08-10 10:00:00, number of deaths =  16, number of infected = 29\n",
      "2020-09-01 17:20:54,117 - june.simulator - INFO - Date = 2020-08-11 00:00:00, number of deaths =  16, number of infected = 29\n",
      "2020-09-01 17:20:54,603 - june.simulator - INFO - Date = 2020-08-11 02:00:00, number of deaths =  16, number of infected = 29\n",
      "2020-09-01 17:20:55,036 - june.simulator - INFO - Date = 2020-08-11 04:00:00, number of deaths =  16, number of infected = 27\n",
      "2020-09-01 17:20:55,450 - june.simulator - INFO - Date = 2020-08-11 06:00:00, number of deaths =  16, number of infected = 27\n",
      "2020-09-01 17:20:55,758 - june.simulator - INFO - Date = 2020-08-11 08:00:00, number of deaths =  16, number of infected = 27\n",
      "2020-09-01 17:20:55,930 - june.simulator - INFO - Date = 2020-08-11 10:00:00, number of deaths =  16, number of infected = 26\n",
      "2020-09-01 17:20:56,081 - june.simulator - INFO - Date = 2020-08-12 00:00:00, number of deaths =  16, number of infected = 24\n",
      "2020-09-01 17:20:56,349 - june.simulator - INFO - Date = 2020-08-12 02:00:00, number of deaths =  16, number of infected = 24\n",
      "2020-09-01 17:20:56,656 - june.simulator - INFO - Date = 2020-08-12 04:00:00, number of deaths =  16, number of infected = 24\n",
      "2020-09-01 17:20:56,919 - june.simulator - INFO - Date = 2020-08-12 06:00:00, number of deaths =  16, number of infected = 23\n",
      "2020-09-01 17:20:57,197 - june.simulator - INFO - Date = 2020-08-12 08:00:00, number of deaths =  16, number of infected = 23\n",
      "2020-09-01 17:20:57,361 - june.simulator - INFO - Date = 2020-08-12 10:00:00, number of deaths =  16, number of infected = 23\n",
      "2020-09-01 17:20:57,517 - june.simulator - INFO - Date = 2020-08-13 00:00:00, number of deaths =  16, number of infected = 22\n",
      "2020-09-01 17:20:57,808 - june.simulator - INFO - Date = 2020-08-13 02:00:00, number of deaths =  16, number of infected = 22\n",
      "2020-09-01 17:20:58,092 - june.simulator - INFO - Date = 2020-08-13 04:00:00, number of deaths =  16, number of infected = 22\n",
      "2020-09-01 17:20:58,618 - june.simulator - INFO - Date = 2020-08-13 06:00:00, number of deaths =  16, number of infected = 22\n",
      "2020-09-01 17:20:58,969 - june.simulator - INFO - Date = 2020-08-13 08:00:00, number of deaths =  16, number of infected = 22\n",
      "2020-09-01 17:20:59,138 - june.simulator - INFO - Date = 2020-08-13 10:00:00, number of deaths =  16, number of infected = 22\n",
      "2020-09-01 17:20:59,301 - june.simulator - INFO - Date = 2020-08-14 00:00:00, number of deaths =  16, number of infected = 20\n",
      "2020-09-01 17:20:59,885 - june.simulator - INFO - Date = 2020-08-14 02:00:00, number of deaths =  16, number of infected = 20\n",
      "2020-09-01 17:21:00,204 - june.simulator - INFO - Date = 2020-08-14 04:00:00, number of deaths =  16, number of infected = 20\n",
      "2020-09-01 17:21:00,521 - june.simulator - INFO - Date = 2020-08-14 06:00:00, number of deaths =  16, number of infected = 20\n",
      "2020-09-01 17:21:00,830 - june.simulator - INFO - Date = 2020-08-14 08:00:00, number of deaths =  16, number of infected = 20\n",
      "2020-09-01 17:21:00,994 - june.simulator - INFO - Date = 2020-08-14 10:00:00, number of deaths =  16, number of infected = 20\n",
      "2020-09-01 17:21:01,158 - june.simulator - INFO - Date = 2020-08-15 00:00:00, number of deaths =  16, number of infected = 20\n",
      "2020-09-01 17:21:01,504 - june.simulator - INFO - Date = 2020-08-15 03:00:00, number of deaths =  16, number of infected = 20\n",
      "2020-09-01 17:21:01,861 - june.simulator - INFO - Date = 2020-08-15 05:00:00, number of deaths =  16, number of infected = 20\n",
      "2020-09-01 17:21:02,201 - june.simulator - INFO - Date = 2020-08-15 07:00:00, number of deaths =  16, number of infected = 20\n",
      "2020-09-01 17:21:02,519 - june.simulator - INFO - Date = 2020-08-15 09:00:00, number of deaths =  16, number of infected = 20\n",
      "2020-09-01 17:21:02,687 - june.simulator - INFO - Date = 2020-08-15 11:00:00, number of deaths =  16, number of infected = 20\n",
      "2020-09-01 17:21:02,842 - june.simulator - INFO - Date = 2020-08-16 00:00:00, number of deaths =  16, number of infected = 19\n",
      "2020-09-01 17:21:03,165 - june.simulator - INFO - Date = 2020-08-16 03:00:00, number of deaths =  16, number of infected = 19\n",
      "2020-09-01 17:21:03,582 - june.simulator - INFO - Date = 2020-08-16 05:00:00, number of deaths =  16, number of infected = 19\n",
      "2020-09-01 17:21:04,141 - june.simulator - INFO - Date = 2020-08-16 07:00:00, number of deaths =  16, number of infected = 19\n",
      "2020-09-01 17:21:04,794 - june.simulator - INFO - Date = 2020-08-16 09:00:00, number of deaths =  16, number of infected = 18\n",
      "2020-09-01 17:21:05,190 - june.simulator - INFO - Date = 2020-08-16 11:00:00, number of deaths =  16, number of infected = 18\n",
      "2020-09-01 17:21:05,454 - june.simulator - INFO - Date = 2020-08-17 00:00:00, number of deaths =  16, number of infected = 18\n",
      "2020-09-01 17:21:05,794 - june.simulator - INFO - Date = 2020-08-17 02:00:00, number of deaths =  16, number of infected = 18\n",
      "2020-09-01 17:21:06,342 - june.simulator - INFO - Date = 2020-08-17 04:00:00, number of deaths =  16, number of infected = 18\n",
      "2020-09-01 17:21:06,708 - june.simulator - INFO - Date = 2020-08-17 06:00:00, number of deaths =  16, number of infected = 17\n",
      "2020-09-01 17:21:07,046 - june.simulator - INFO - Date = 2020-08-17 08:00:00, number of deaths =  16, number of infected = 17\n",
      "2020-09-01 17:21:07,227 - june.simulator - INFO - Date = 2020-08-17 10:00:00, number of deaths =  16, number of infected = 17\n",
      "2020-09-01 17:21:07,546 - june.simulator - INFO - Date = 2020-08-18 00:00:00, number of deaths =  16, number of infected = 17\n",
      "2020-09-01 17:21:07,987 - june.simulator - INFO - Date = 2020-08-18 02:00:00, number of deaths =  16, number of infected = 17\n",
      "2020-09-01 17:21:08,319 - june.simulator - INFO - Date = 2020-08-18 04:00:00, number of deaths =  16, number of infected = 17\n",
      "2020-09-01 17:21:08,658 - june.simulator - INFO - Date = 2020-08-18 06:00:00, number of deaths =  16, number of infected = 17\n"
     ]
    },
    {
     "name": "stdout",
     "output_type": "stream",
     "text": [
      "2020-09-01 17:21:08,996 - june.simulator - INFO - Date = 2020-08-18 08:00:00, number of deaths =  16, number of infected = 17\n",
      "2020-09-01 17:21:09,205 - june.simulator - INFO - Date = 2020-08-18 10:00:00, number of deaths =  16, number of infected = 16\n",
      "2020-09-01 17:21:09,380 - june.simulator - INFO - Date = 2020-08-19 00:00:00, number of deaths =  16, number of infected = 16\n",
      "2020-09-01 17:21:09,691 - june.simulator - INFO - Date = 2020-08-19 02:00:00, number of deaths =  16, number of infected = 16\n",
      "2020-09-01 17:21:09,996 - june.simulator - INFO - Date = 2020-08-19 04:00:00, number of deaths =  16, number of infected = 16\n",
      "2020-09-01 17:21:10,300 - june.simulator - INFO - Date = 2020-08-19 06:00:00, number of deaths =  16, number of infected = 15\n",
      "2020-09-01 17:21:10,611 - june.simulator - INFO - Date = 2020-08-19 08:00:00, number of deaths =  16, number of infected = 15\n",
      "2020-09-01 17:21:10,794 - june.simulator - INFO - Date = 2020-08-19 10:00:00, number of deaths =  16, number of infected = 15\n",
      "2020-09-01 17:21:10,965 - june.simulator - INFO - Date = 2020-08-20 00:00:00, number of deaths =  16, number of infected = 13\n",
      "2020-09-01 17:21:11,265 - june.simulator - INFO - Date = 2020-08-20 02:00:00, number of deaths =  16, number of infected = 13\n",
      "2020-09-01 17:21:11,558 - june.simulator - INFO - Date = 2020-08-20 04:00:00, number of deaths =  16, number of infected = 13\n",
      "2020-09-01 17:21:11,863 - june.simulator - INFO - Date = 2020-08-20 06:00:00, number of deaths =  16, number of infected = 13\n",
      "2020-09-01 17:21:12,161 - june.simulator - INFO - Date = 2020-08-20 08:00:00, number of deaths =  16, number of infected = 12\n",
      "2020-09-01 17:21:12,330 - june.simulator - INFO - Date = 2020-08-20 10:00:00, number of deaths =  16, number of infected = 12\n",
      "2020-09-01 17:21:12,500 - june.simulator - INFO - Date = 2020-08-21 00:00:00, number of deaths =  16, number of infected = 10\n",
      "2020-09-01 17:21:12,929 - june.simulator - INFO - Date = 2020-08-21 02:00:00, number of deaths =  16, number of infected = 10\n",
      "2020-09-01 17:21:13,320 - june.simulator - INFO - Date = 2020-08-21 04:00:00, number of deaths =  16, number of infected = 10\n",
      "2020-09-01 17:21:13,908 - june.simulator - INFO - Date = 2020-08-21 06:00:00, number of deaths =  16, number of infected = 10\n",
      "2020-09-01 17:21:14,260 - june.simulator - INFO - Date = 2020-08-21 08:00:00, number of deaths =  16, number of infected = 10\n",
      "2020-09-01 17:21:14,503 - june.simulator - INFO - Date = 2020-08-21 10:00:00, number of deaths =  16, number of infected = 10\n",
      "2020-09-01 17:21:14,684 - june.simulator - INFO - Date = 2020-08-22 00:00:00, number of deaths =  16, number of infected = 10\n",
      "2020-09-01 17:21:14,998 - june.simulator - INFO - Date = 2020-08-22 03:00:00, number of deaths =  16, number of infected = 10\n",
      "2020-09-01 17:21:15,344 - june.simulator - INFO - Date = 2020-08-22 05:00:00, number of deaths =  16, number of infected = 10\n",
      "2020-09-01 17:21:15,750 - june.simulator - INFO - Date = 2020-08-22 07:00:00, number of deaths =  16, number of infected = 10\n",
      "2020-09-01 17:21:16,091 - june.simulator - INFO - Date = 2020-08-22 09:00:00, number of deaths =  16, number of infected = 10\n",
      "2020-09-01 17:21:16,256 - june.simulator - INFO - Date = 2020-08-22 11:00:00, number of deaths =  16, number of infected = 10\n",
      "2020-09-01 17:21:16,441 - june.simulator - INFO - Date = 2020-08-23 00:00:00, number of deaths =  16, number of infected = 10\n",
      "2020-09-01 17:21:16,790 - june.simulator - INFO - Date = 2020-08-23 03:00:00, number of deaths =  16, number of infected = 10\n",
      "2020-09-01 17:21:17,121 - june.simulator - INFO - Date = 2020-08-23 05:00:00, number of deaths =  16, number of infected = 10\n",
      "2020-09-01 17:21:17,436 - june.simulator - INFO - Date = 2020-08-23 07:00:00, number of deaths =  16, number of infected = 10\n",
      "2020-09-01 17:21:17,786 - june.simulator - INFO - Date = 2020-08-23 09:00:00, number of deaths =  16, number of infected = 10\n",
      "2020-09-01 17:21:17,994 - june.simulator - INFO - Date = 2020-08-23 11:00:00, number of deaths =  16, number of infected = 10\n",
      "2020-09-01 17:21:18,182 - june.simulator - INFO - Date = 2020-08-24 00:00:00, number of deaths =  16, number of infected = 8\n",
      "2020-09-01 17:21:18,476 - june.simulator - INFO - Date = 2020-08-24 02:00:00, number of deaths =  16, number of infected = 8\n",
      "2020-09-01 17:21:18,780 - june.simulator - INFO - Date = 2020-08-24 04:00:00, number of deaths =  16, number of infected = 8\n",
      "2020-09-01 17:21:19,106 - june.simulator - INFO - Date = 2020-08-24 06:00:00, number of deaths =  16, number of infected = 8\n",
      "2020-09-01 17:21:19,418 - june.simulator - INFO - Date = 2020-08-24 08:00:00, number of deaths =  16, number of infected = 8\n",
      "2020-09-01 17:21:19,591 - june.simulator - INFO - Date = 2020-08-24 10:00:00, number of deaths =  16, number of infected = 8\n",
      "2020-09-01 17:21:19,759 - june.simulator - INFO - Date = 2020-08-25 00:00:00, number of deaths =  16, number of infected = 8\n",
      "2020-09-01 17:21:20,042 - june.simulator - INFO - Date = 2020-08-25 02:00:00, number of deaths =  16, number of infected = 8\n",
      "2020-09-01 17:21:20,376 - june.simulator - INFO - Date = 2020-08-25 04:00:00, number of deaths =  16, number of infected = 8\n",
      "2020-09-01 17:21:20,694 - june.simulator - INFO - Date = 2020-08-25 06:00:00, number of deaths =  16, number of infected = 8\n",
      "2020-09-01 17:21:21,028 - june.simulator - INFO - Date = 2020-08-25 08:00:00, number of deaths =  16, number of infected = 8\n",
      "2020-09-01 17:21:21,217 - june.simulator - INFO - Date = 2020-08-25 10:00:00, number of deaths =  16, number of infected = 8\n",
      "2020-09-01 17:21:21,388 - june.simulator - INFO - Date = 2020-08-26 00:00:00, number of deaths =  16, number of infected = 8\n",
      "2020-09-01 17:21:21,723 - june.simulator - INFO - Date = 2020-08-26 02:00:00, number of deaths =  16, number of infected = 8\n",
      "2020-09-01 17:21:22,030 - june.simulator - INFO - Date = 2020-08-26 04:00:00, number of deaths =  16, number of infected = 8\n",
      "2020-09-01 17:21:22,347 - june.simulator - INFO - Date = 2020-08-26 06:00:00, number of deaths =  16, number of infected = 8\n",
      "2020-09-01 17:21:22,660 - june.simulator - INFO - Date = 2020-08-26 08:00:00, number of deaths =  16, number of infected = 8\n",
      "2020-09-01 17:21:22,834 - june.simulator - INFO - Date = 2020-08-26 10:00:00, number of deaths =  16, number of infected = 8\n",
      "2020-09-01 17:21:23,016 - june.simulator - INFO - Date = 2020-08-27 00:00:00, number of deaths =  16, number of infected = 8\n",
      "2020-09-01 17:21:23,318 - june.simulator - INFO - Date = 2020-08-27 02:00:00, number of deaths =  16, number of infected = 8\n",
      "2020-09-01 17:21:23,622 - june.simulator - INFO - Date = 2020-08-27 04:00:00, number of deaths =  16, number of infected = 8\n",
      "2020-09-01 17:21:23,924 - june.simulator - INFO - Date = 2020-08-27 06:00:00, number of deaths =  16, number of infected = 8\n",
      "2020-09-01 17:21:24,233 - june.simulator - INFO - Date = 2020-08-27 08:00:00, number of deaths =  16, number of infected = 8\n",
      "2020-09-01 17:21:24,404 - june.simulator - INFO - Date = 2020-08-27 10:00:00, number of deaths =  16, number of infected = 8\n",
      "2020-09-01 17:21:24,570 - june.simulator - INFO - Date = 2020-08-28 00:00:00, number of deaths =  16, number of infected = 8\n",
      "2020-09-01 17:21:24,872 - june.simulator - INFO - Date = 2020-08-28 02:00:00, number of deaths =  16, number of infected = 8\n",
      "2020-09-01 17:21:25,180 - june.simulator - INFO - Date = 2020-08-28 04:00:00, number of deaths =  16, number of infected = 8\n",
      "2020-09-01 17:21:25,484 - june.simulator - INFO - Date = 2020-08-28 06:00:00, number of deaths =  16, number of infected = 8\n",
      "2020-09-01 17:21:25,850 - june.simulator - INFO - Date = 2020-08-28 08:00:00, number of deaths =  16, number of infected = 8\n",
      "2020-09-01 17:21:26,103 - june.simulator - INFO - Date = 2020-08-28 10:00:00, number of deaths =  16, number of infected = 7\n",
      "2020-09-01 17:21:26,377 - june.simulator - INFO - Date = 2020-08-29 00:00:00, number of deaths =  16, number of infected = 7\n",
      "2020-09-01 17:21:26,771 - june.simulator - INFO - Date = 2020-08-29 03:00:00, number of deaths =  16, number of infected = 7\n",
      "2020-09-01 17:21:27,152 - june.simulator - INFO - Date = 2020-08-29 05:00:00, number of deaths =  16, number of infected = 7\n",
      "2020-09-01 17:21:27,576 - june.simulator - INFO - Date = 2020-08-29 07:00:00, number of deaths =  16, number of infected = 7\n"
     ]
    },
    {
     "name": "stdout",
     "output_type": "stream",
     "text": [
      "2020-09-01 17:21:27,944 - june.simulator - INFO - Date = 2020-08-29 09:00:00, number of deaths =  16, number of infected = 7\n",
      "2020-09-01 17:21:28,137 - june.simulator - INFO - Date = 2020-08-29 11:00:00, number of deaths =  16, number of infected = 7\n",
      "2020-09-01 17:21:28,324 - june.simulator - INFO - Date = 2020-08-30 00:00:00, number of deaths =  16, number of infected = 7\n",
      "2020-09-01 17:21:28,672 - june.simulator - INFO - Date = 2020-08-30 03:00:00, number of deaths =  16, number of infected = 7\n",
      "2020-09-01 17:21:29,003 - june.simulator - INFO - Date = 2020-08-30 05:00:00, number of deaths =  16, number of infected = 7\n",
      "2020-09-01 17:21:29,338 - june.simulator - INFO - Date = 2020-08-30 07:00:00, number of deaths =  16, number of infected = 7\n",
      "2020-09-01 17:21:29,676 - june.simulator - INFO - Date = 2020-08-30 09:00:00, number of deaths =  16, number of infected = 7\n",
      "2020-09-01 17:21:29,847 - june.simulator - INFO - Date = 2020-08-30 11:00:00, number of deaths =  16, number of infected = 7\n",
      "2020-09-01 17:21:30,008 - june.simulator - INFO - Date = 2020-08-31 00:00:00, number of deaths =  16, number of infected = 7\n",
      "2020-09-01 17:21:30,314 - june.simulator - INFO - Date = 2020-08-31 02:00:00, number of deaths =  16, number of infected = 7\n",
      "2020-09-01 17:21:30,618 - june.simulator - INFO - Date = 2020-08-31 04:00:00, number of deaths =  16, number of infected = 7\n",
      "2020-09-01 17:21:30,929 - june.simulator - INFO - Date = 2020-08-31 06:00:00, number of deaths =  16, number of infected = 7\n",
      "2020-09-01 17:21:31,239 - june.simulator - INFO - Date = 2020-08-31 08:00:00, number of deaths =  16, number of infected = 7\n",
      "2020-09-01 17:21:31,413 - june.simulator - INFO - Date = 2020-08-31 10:00:00, number of deaths =  16, number of infected = 7\n",
      "2020-09-01 17:21:31,578 - june.simulator - INFO - Date = 2020-09-01 00:00:00, number of deaths =  16, number of infected = 7\n",
      "2020-09-01 17:21:31,925 - june.simulator - INFO - Date = 2020-09-01 02:00:00, number of deaths =  16, number of infected = 7\n",
      "2020-09-01 17:21:32,251 - june.simulator - INFO - Date = 2020-09-01 04:00:00, number of deaths =  16, number of infected = 7\n",
      "2020-09-01 17:21:32,768 - june.simulator - INFO - Date = 2020-09-01 06:00:00, number of deaths =  16, number of infected = 7\n",
      "2020-09-01 17:21:33,085 - june.simulator - INFO - Date = 2020-09-01 08:00:00, number of deaths =  16, number of infected = 7\n",
      "2020-09-01 17:21:33,367 - june.simulator - INFO - Date = 2020-09-01 10:00:00, number of deaths =  16, number of infected = 7\n",
      "2020-09-01 17:21:33,560 - june.simulator - INFO - Date = 2020-09-02 00:00:00, number of deaths =  16, number of infected = 6\n",
      "2020-09-01 17:21:33,868 - june.simulator - INFO - Date = 2020-09-02 02:00:00, number of deaths =  16, number of infected = 6\n",
      "2020-09-01 17:21:34,259 - june.simulator - INFO - Date = 2020-09-02 04:00:00, number of deaths =  16, number of infected = 6\n",
      "2020-09-01 17:21:34,608 - june.simulator - INFO - Date = 2020-09-02 06:00:00, number of deaths =  16, number of infected = 6\n",
      "2020-09-01 17:21:34,967 - june.simulator - INFO - Date = 2020-09-02 08:00:00, number of deaths =  16, number of infected = 6\n",
      "2020-09-01 17:21:35,183 - june.simulator - INFO - Date = 2020-09-02 10:00:00, number of deaths =  16, number of infected = 6\n",
      "2020-09-01 17:21:35,352 - june.simulator - INFO - Date = 2020-09-03 00:00:00, number of deaths =  16, number of infected = 6\n",
      "2020-09-01 17:21:35,621 - june.simulator - INFO - Date = 2020-09-03 02:00:00, number of deaths =  16, number of infected = 6\n",
      "2020-09-01 17:21:35,914 - june.simulator - INFO - Date = 2020-09-03 04:00:00, number of deaths =  16, number of infected = 6\n",
      "2020-09-01 17:21:36,220 - june.simulator - INFO - Date = 2020-09-03 06:00:00, number of deaths =  16, number of infected = 6\n",
      "2020-09-01 17:21:36,504 - june.simulator - INFO - Date = 2020-09-03 08:00:00, number of deaths =  16, number of infected = 6\n",
      "2020-09-01 17:21:36,666 - june.simulator - INFO - Date = 2020-09-03 10:00:00, number of deaths =  16, number of infected = 6\n",
      "2020-09-01 17:21:36,847 - june.simulator - INFO - Date = 2020-09-04 00:00:00, number of deaths =  16, number of infected = 6\n",
      "2020-09-01 17:21:37,171 - june.simulator - INFO - Date = 2020-09-04 02:00:00, number of deaths =  16, number of infected = 6\n",
      "2020-09-01 17:21:37,505 - june.simulator - INFO - Date = 2020-09-04 04:00:00, number of deaths =  16, number of infected = 6\n",
      "2020-09-01 17:21:37,844 - june.simulator - INFO - Date = 2020-09-04 06:00:00, number of deaths =  16, number of infected = 6\n",
      "2020-09-01 17:21:38,111 - june.simulator - INFO - Date = 2020-09-04 08:00:00, number of deaths =  16, number of infected = 6\n",
      "2020-09-01 17:21:38,276 - june.simulator - INFO - Date = 2020-09-04 10:00:00, number of deaths =  16, number of infected = 6\n",
      "2020-09-01 17:21:38,421 - june.simulator - INFO - Date = 2020-09-05 00:00:00, number of deaths =  16, number of infected = 5\n",
      "2020-09-01 17:21:38,712 - june.simulator - INFO - Date = 2020-09-05 03:00:00, number of deaths =  16, number of infected = 5\n",
      "2020-09-01 17:21:39,014 - june.simulator - INFO - Date = 2020-09-05 05:00:00, number of deaths =  16, number of infected = 5\n",
      "2020-09-01 17:21:39,315 - june.simulator - INFO - Date = 2020-09-05 07:00:00, number of deaths =  16, number of infected = 5\n",
      "2020-09-01 17:21:39,644 - june.simulator - INFO - Date = 2020-09-05 09:00:00, number of deaths =  16, number of infected = 5\n",
      "2020-09-01 17:21:39,803 - june.simulator - INFO - Date = 2020-09-05 11:00:00, number of deaths =  16, number of infected = 5\n",
      "2020-09-01 17:21:39,963 - june.simulator - INFO - Date = 2020-09-06 00:00:00, number of deaths =  16, number of infected = 4\n",
      "2020-09-01 17:21:40,257 - june.simulator - INFO - Date = 2020-09-06 03:00:00, number of deaths =  16, number of infected = 4\n",
      "2020-09-01 17:21:40,562 - june.simulator - INFO - Date = 2020-09-06 05:00:00, number of deaths =  16, number of infected = 4\n",
      "2020-09-01 17:21:40,879 - june.simulator - INFO - Date = 2020-09-06 07:00:00, number of deaths =  16, number of infected = 4\n",
      "2020-09-01 17:21:41,213 - june.simulator - INFO - Date = 2020-09-06 09:00:00, number of deaths =  16, number of infected = 4\n",
      "2020-09-01 17:21:41,373 - june.simulator - INFO - Date = 2020-09-06 11:00:00, number of deaths =  16, number of infected = 4\n",
      "2020-09-01 17:21:41,516 - june.simulator - INFO - Date = 2020-09-07 00:00:00, number of deaths =  16, number of infected = 4\n",
      "2020-09-01 17:21:41,800 - june.simulator - INFO - Date = 2020-09-07 02:00:00, number of deaths =  16, number of infected = 4\n",
      "2020-09-01 17:21:42,074 - june.simulator - INFO - Date = 2020-09-07 04:00:00, number of deaths =  16, number of infected = 4\n",
      "2020-09-01 17:21:42,339 - june.simulator - INFO - Date = 2020-09-07 06:00:00, number of deaths =  16, number of infected = 4\n",
      "2020-09-01 17:21:42,594 - june.simulator - INFO - Date = 2020-09-07 08:00:00, number of deaths =  16, number of infected = 4\n",
      "2020-09-01 17:21:42,750 - june.simulator - INFO - Date = 2020-09-07 10:00:00, number of deaths =  16, number of infected = 4\n",
      "2020-09-01 17:21:42,899 - june.simulator - INFO - Date = 2020-09-08 00:00:00, number of deaths =  16, number of infected = 4\n",
      "2020-09-01 17:21:43,175 - june.simulator - INFO - Date = 2020-09-08 02:00:00, number of deaths =  16, number of infected = 4\n",
      "2020-09-01 17:21:43,458 - june.simulator - INFO - Date = 2020-09-08 04:00:00, number of deaths =  16, number of infected = 4\n",
      "2020-09-01 17:21:43,751 - june.simulator - INFO - Date = 2020-09-08 06:00:00, number of deaths =  16, number of infected = 4\n",
      "2020-09-01 17:21:44,023 - june.simulator - INFO - Date = 2020-09-08 08:00:00, number of deaths =  16, number of infected = 4\n",
      "2020-09-01 17:21:44,178 - june.simulator - INFO - Date = 2020-09-08 10:00:00, number of deaths =  16, number of infected = 4\n",
      "2020-09-01 17:21:44,329 - june.simulator - INFO - Date = 2020-09-09 00:00:00, number of deaths =  16, number of infected = 4\n",
      "2020-09-01 17:21:44,579 - june.simulator - INFO - Date = 2020-09-09 02:00:00, number of deaths =  16, number of infected = 3\n",
      "2020-09-01 17:21:44,844 - june.simulator - INFO - Date = 2020-09-09 04:00:00, number of deaths =  16, number of infected = 3\n",
      "2020-09-01 17:21:45,113 - june.simulator - INFO - Date = 2020-09-09 06:00:00, number of deaths =  16, number of infected = 3\n"
     ]
    },
    {
     "name": "stdout",
     "output_type": "stream",
     "text": [
      "2020-09-01 17:21:45,379 - june.simulator - INFO - Date = 2020-09-09 08:00:00, number of deaths =  16, number of infected = 3\n",
      "2020-09-01 17:21:45,536 - june.simulator - INFO - Date = 2020-09-09 10:00:00, number of deaths =  16, number of infected = 3\n",
      "2020-09-01 17:21:45,681 - june.simulator - INFO - Date = 2020-09-10 00:00:00, number of deaths =  16, number of infected = 3\n",
      "2020-09-01 17:21:45,977 - june.simulator - INFO - Date = 2020-09-10 02:00:00, number of deaths =  16, number of infected = 3\n",
      "2020-09-01 17:21:46,238 - june.simulator - INFO - Date = 2020-09-10 04:00:00, number of deaths =  16, number of infected = 3\n",
      "2020-09-01 17:21:46,534 - june.simulator - INFO - Date = 2020-09-10 06:00:00, number of deaths =  16, number of infected = 3\n",
      "2020-09-01 17:21:46,798 - june.simulator - INFO - Date = 2020-09-10 08:00:00, number of deaths =  16, number of infected = 3\n",
      "2020-09-01 17:21:46,952 - june.simulator - INFO - Date = 2020-09-10 10:00:00, number of deaths =  16, number of infected = 3\n",
      "2020-09-01 17:21:47,098 - june.simulator - INFO - Date = 2020-09-11 00:00:00, number of deaths =  16, number of infected = 3\n",
      "2020-09-01 17:21:47,369 - june.simulator - INFO - Date = 2020-09-11 02:00:00, number of deaths =  16, number of infected = 3\n",
      "2020-09-01 17:21:47,641 - june.simulator - INFO - Date = 2020-09-11 04:00:00, number of deaths =  16, number of infected = 3\n",
      "2020-09-01 17:21:48,026 - june.simulator - INFO - Date = 2020-09-11 06:00:00, number of deaths =  16, number of infected = 3\n",
      "2020-09-01 17:21:48,370 - june.simulator - INFO - Date = 2020-09-11 08:00:00, number of deaths =  16, number of infected = 3\n",
      "2020-09-01 17:21:48,538 - june.simulator - INFO - Date = 2020-09-11 10:00:00, number of deaths =  16, number of infected = 3\n",
      "2020-09-01 17:21:48,698 - june.simulator - INFO - Date = 2020-09-12 00:00:00, number of deaths =  16, number of infected = 3\n",
      "2020-09-01 17:21:49,012 - june.simulator - INFO - Date = 2020-09-12 03:00:00, number of deaths =  16, number of infected = 3\n",
      "2020-09-01 17:21:49,348 - june.simulator - INFO - Date = 2020-09-12 05:00:00, number of deaths =  16, number of infected = 3\n",
      "2020-09-01 17:21:49,742 - june.simulator - INFO - Date = 2020-09-12 07:00:00, number of deaths =  16, number of infected = 3\n",
      "2020-09-01 17:21:50,050 - june.simulator - INFO - Date = 2020-09-12 09:00:00, number of deaths =  16, number of infected = 3\n",
      "2020-09-01 17:21:50,203 - june.simulator - INFO - Date = 2020-09-12 11:00:00, number of deaths =  16, number of infected = 3\n",
      "2020-09-01 17:21:50,346 - june.simulator - INFO - Date = 2020-09-13 00:00:00, number of deaths =  16, number of infected = 3\n",
      "2020-09-01 17:21:50,692 - june.simulator - INFO - Date = 2020-09-13 03:00:00, number of deaths =  16, number of infected = 3\n",
      "2020-09-01 17:21:51,031 - june.simulator - INFO - Date = 2020-09-13 05:00:00, number of deaths =  16, number of infected = 3\n",
      "2020-09-01 17:21:51,368 - june.simulator - INFO - Date = 2020-09-13 07:00:00, number of deaths =  16, number of infected = 3\n",
      "2020-09-01 17:21:51,722 - june.simulator - INFO - Date = 2020-09-13 09:00:00, number of deaths =  16, number of infected = 3\n",
      "2020-09-01 17:21:51,891 - june.simulator - INFO - Date = 2020-09-13 11:00:00, number of deaths =  16, number of infected = 3\n",
      "2020-09-01 17:21:52,051 - june.simulator - INFO - Date = 2020-09-14 00:00:00, number of deaths =  16, number of infected = 3\n",
      "2020-09-01 17:21:52,360 - june.simulator - INFO - Date = 2020-09-14 02:00:00, number of deaths =  16, number of infected = 3\n",
      "2020-09-01 17:21:52,666 - june.simulator - INFO - Date = 2020-09-14 04:00:00, number of deaths =  16, number of infected = 3\n",
      "2020-09-01 17:21:53,081 - june.simulator - INFO - Date = 2020-09-14 06:00:00, number of deaths =  16, number of infected = 3\n",
      "2020-09-01 17:21:53,446 - june.simulator - INFO - Date = 2020-09-14 08:00:00, number of deaths =  16, number of infected = 3\n",
      "2020-09-01 17:21:53,630 - june.simulator - INFO - Date = 2020-09-14 10:00:00, number of deaths =  16, number of infected = 3\n",
      "2020-09-01 17:21:53,800 - june.simulator - INFO - Date = 2020-09-15 00:00:00, number of deaths =  16, number of infected = 3\n",
      "2020-09-01 17:21:54,098 - june.simulator - INFO - Date = 2020-09-15 02:00:00, number of deaths =  16, number of infected = 3\n",
      "2020-09-01 17:21:54,401 - june.simulator - INFO - Date = 2020-09-15 04:00:00, number of deaths =  16, number of infected = 3\n",
      "2020-09-01 17:21:54,704 - june.simulator - INFO - Date = 2020-09-15 06:00:00, number of deaths =  16, number of infected = 3\n",
      "2020-09-01 17:21:55,017 - june.simulator - INFO - Date = 2020-09-15 08:00:00, number of deaths =  16, number of infected = 3\n",
      "2020-09-01 17:21:55,185 - june.simulator - INFO - Date = 2020-09-15 10:00:00, number of deaths =  16, number of infected = 3\n",
      "2020-09-01 17:21:55,353 - june.simulator - INFO - Date = 2020-09-16 00:00:00, number of deaths =  16, number of infected = 3\n",
      "2020-09-01 17:21:55,660 - june.simulator - INFO - Date = 2020-09-16 02:00:00, number of deaths =  16, number of infected = 3\n",
      "2020-09-01 17:21:55,959 - june.simulator - INFO - Date = 2020-09-16 04:00:00, number of deaths =  16, number of infected = 3\n",
      "2020-09-01 17:21:56,319 - june.simulator - INFO - Date = 2020-09-16 06:00:00, number of deaths =  16, number of infected = 3\n",
      "2020-09-01 17:21:56,676 - june.simulator - INFO - Date = 2020-09-16 08:00:00, number of deaths =  16, number of infected = 3\n",
      "2020-09-01 17:21:56,856 - june.simulator - INFO - Date = 2020-09-16 10:00:00, number of deaths =  16, number of infected = 3\n",
      "2020-09-01 17:21:57,025 - june.simulator - INFO - Date = 2020-09-17 00:00:00, number of deaths =  16, number of infected = 3\n",
      "2020-09-01 17:21:57,384 - june.simulator - INFO - Date = 2020-09-17 02:00:00, number of deaths =  16, number of infected = 3\n",
      "2020-09-01 17:21:57,703 - june.simulator - INFO - Date = 2020-09-17 04:00:00, number of deaths =  16, number of infected = 3\n",
      "2020-09-01 17:21:58,017 - june.simulator - INFO - Date = 2020-09-17 06:00:00, number of deaths =  16, number of infected = 3\n",
      "2020-09-01 17:21:58,324 - june.simulator - INFO - Date = 2020-09-17 08:00:00, number of deaths =  16, number of infected = 3\n",
      "2020-09-01 17:21:58,496 - june.simulator - INFO - Date = 2020-09-17 10:00:00, number of deaths =  16, number of infected = 3\n",
      "2020-09-01 17:21:58,673 - june.simulator - INFO - Date = 2020-09-18 00:00:00, number of deaths =  16, number of infected = 2\n",
      "2020-09-01 17:21:58,980 - june.simulator - INFO - Date = 2020-09-18 02:00:00, number of deaths =  16, number of infected = 2\n",
      "2020-09-01 17:21:59,282 - june.simulator - INFO - Date = 2020-09-18 04:00:00, number of deaths =  16, number of infected = 2\n",
      "2020-09-01 17:21:59,586 - june.simulator - INFO - Date = 2020-09-18 06:00:00, number of deaths =  16, number of infected = 2\n",
      "2020-09-01 17:21:59,863 - june.simulator - INFO - Date = 2020-09-18 08:00:00, number of deaths =  16, number of infected = 2\n",
      "2020-09-01 17:22:00,013 - june.simulator - INFO - Date = 2020-09-18 10:00:00, number of deaths =  16, number of infected = 2\n",
      "2020-09-01 17:22:00,169 - june.simulator - INFO - Date = 2020-09-19 00:00:00, number of deaths =  17, number of infected = 1\n",
      "2020-09-01 17:22:00,475 - june.simulator - INFO - Date = 2020-09-19 03:00:00, number of deaths =  17, number of infected = 1\n",
      "2020-09-01 17:22:00,790 - june.simulator - INFO - Date = 2020-09-19 05:00:00, number of deaths =  17, number of infected = 1\n",
      "2020-09-01 17:22:01,133 - june.simulator - INFO - Date = 2020-09-19 07:00:00, number of deaths =  17, number of infected = 1\n",
      "2020-09-01 17:22:01,446 - june.simulator - INFO - Date = 2020-09-19 09:00:00, number of deaths =  17, number of infected = 1\n",
      "2020-09-01 17:22:01,636 - june.simulator - INFO - Date = 2020-09-19 11:00:00, number of deaths =  17, number of infected = 1\n",
      "2020-09-01 17:22:01,797 - june.simulator - INFO - Date = 2020-09-20 00:00:00, number of deaths =  17, number of infected = 1\n",
      "2020-09-01 17:22:02,142 - june.simulator - INFO - Date = 2020-09-20 03:00:00, number of deaths =  17, number of infected = 1\n",
      "2020-09-01 17:22:02,465 - june.simulator - INFO - Date = 2020-09-20 05:00:00, number of deaths =  17, number of infected = 1\n",
      "2020-09-01 17:22:02,780 - june.simulator - INFO - Date = 2020-09-20 07:00:00, number of deaths =  17, number of infected = 1\n"
     ]
    },
    {
     "name": "stdout",
     "output_type": "stream",
     "text": [
      "2020-09-01 17:22:03,080 - june.simulator - INFO - Date = 2020-09-20 09:00:00, number of deaths =  17, number of infected = 1\n",
      "2020-09-01 17:22:03,236 - june.simulator - INFO - Date = 2020-09-20 11:00:00, number of deaths =  17, number of infected = 1\n",
      "CPU times: user 3min 46s, sys: 3.98 s, total: 3min 50s\n",
      "Wall time: 3min 49s\n"
     ]
    }
   ],
   "source": [
    "%%time\n",
    "simulator.run()"
   ]
  },
  {
   "cell_type": "markdown",
   "metadata": {},
   "source": [
    "# Getting the results"
   ]
  },
  {
   "cell_type": "markdown",
   "metadata": {},
   "source": [
    "All results are stored in a json file specified in the ``save_path`` variable in the config file. We can also access it from ``world.logger`` directly."
   ]
  },
  {
   "cell_type": "code",
   "execution_count": 43,
   "metadata": {},
   "outputs": [],
   "source": [
    "import pandas as pd\n",
    "read = ReadLogger()"
   ]
  },
  {
   "cell_type": "code",
   "execution_count": 44,
   "metadata": {},
   "outputs": [],
   "source": [
    "read.load_infection_location()"
   ]
  },
  {
   "cell_type": "code",
   "execution_count": 45,
   "metadata": {},
   "outputs": [],
   "source": [
    "infection_locations = read.get_locations_infections()"
   ]
  },
  {
   "cell_type": "code",
   "execution_count": 46,
   "metadata": {},
   "outputs": [],
   "source": [
    "unique_locations, counts_locations = np.unique(\n",
    "                np.array(infection_locations),\n",
    "                return_counts=True)\n",
    "\n",
    "location_counts_df = pd.DataFrame(\n",
    "    {'locations': unique_locations,\n",
    "    'counts': counts_locations}\n",
    ")\n",
    "location_counts_df.set_index('locations', inplace=True)\n"
   ]
  },
  {
   "cell_type": "code",
   "execution_count": 47,
   "metadata": {},
   "outputs": [],
   "source": [
    "location_counts_df['percent_infections']= 100*(location_counts_df['counts'])/location_counts_df.values.sum()"
   ]
  },
  {
   "cell_type": "code",
   "execution_count": 48,
   "metadata": {},
   "outputs": [
    {
     "data": {
      "text/plain": [
       "Text(0.5, 0, 'location')"
      ]
     },
     "execution_count": 48,
     "metadata": {},
     "output_type": "execute_result"
    },
    {
     "data": {
      "image/png": "[encoded data removed]",
      "text/plain": [
       "<Figure size 432x288 with 1 Axes>"
      ]
     },
     "metadata": {
      "needs_background": "light"
     },
     "output_type": "display_data"
    }
   ],
   "source": [
    "import matplotlib.ticker as mtick\n",
    "\n",
    "ax = location_counts_df['percent_infections'].sort_values().plot.bar()\n",
    "ax.yaxis.set_major_formatter(mtick.PercentFormatter())\n",
    "plt.ylabel('Percentage of infections at location')\n",
    "plt.xlabel('location')"
   ]
  },
  {
   "cell_type": "code",
   "execution_count": 49,
   "metadata": {},
   "outputs": [],
   "source": [
    "for location in unique_locations:\n",
    "    read.locations_df[str(location)] = read.locations_df.apply(\n",
    "        lambda x: x.location.count(str(location)), axis=1\n",
    "    )\n",
    "read.locations_df.index = pd.to_datetime(read.locations_df.index)"
   ]
  },
  {
   "cell_type": "code",
   "execution_count": 50,
   "metadata": {},
   "outputs": [
    {
     "data": {
      "text/plain": [
       "<matplotlib.axes._subplots.AxesSubplot at 0x7f874f7d2fa0>"
      ]
     },
     "execution_count": 50,
     "metadata": {},
     "output_type": "execute_result"
    },
    {
     "data": {
      "image/png": "[encoded data removed]",
      "text/plain": [
       "<Figure size 432x288 with 1 Axes>"
      ]
     },
     "metadata": {
      "needs_background": "light"
     },
     "output_type": "display_data"
    }
   ],
   "source": [
    "read.locations_df.iloc[:,3:].plot()"
   ]
  },
  {
   "cell_type": "markdown",
   "metadata": {},
   "source": [
    "## Where did outbreaks happen?"
   ]
  },
  {
   "cell_type": "code",
   "execution_count": 51,
   "metadata": {},
   "outputs": [],
   "source": [
    "unique_id, count_id =  np.unique(\n",
    "        np.array(read.locations_df['location_id'].sum()),\n",
    "        return_counts=True\n",
    ")"
   ]
  },
  {
   "cell_type": "code",
   "execution_count": 52,
   "metadata": {},
   "outputs": [
    {
     "data": {
      "text/plain": [
       "array(['communal_58', 'communal_48', 'communal_97', 'communal_3',\n",
       "       'communal_63'], dtype='<U22')"
      ]
     },
     "execution_count": 52,
     "metadata": {},
     "output_type": "execute_result"
    }
   ],
   "source": [
    "unique_id[np.argsort(count_id)[-5:]]"
   ]
  },
  {
   "cell_type": "code",
   "execution_count": 53,
   "metadata": {},
   "outputs": [
    {
     "data": {
      "text/plain": [
       "array([56, 60, 60, 61, 63])"
      ]
     },
     "execution_count": 53,
     "metadata": {},
     "output_type": "execute_result"
    }
   ],
   "source": [
    "count_id[np.argsort(count_id)[-5:]]"
   ]
  },
  {
   "cell_type": "code",
   "execution_count": 54,
   "metadata": {},
   "outputs": [
    {
     "data": {
      "text/plain": [
       "<matplotlib.legend.Legend at 0x7f87507bb2e0>"
      ]
     },
     "execution_count": 54,
     "metadata": {},
     "output_type": "execute_result"
    },
    {
     "data": {
      "image/png": "[encoded data removed]",
      "text/plain": [
       "<Figure size 432x288 with 1 Axes>"
      ]
     },
     "metadata": {
      "needs_background": "light"
     },
     "output_type": "display_data"
    }
   ],
   "source": [
    "world_df = read.world_summary()\n",
    "world_df.plot()\n",
    "plt.legend()"
   ]
  },
  {
   "cell_type": "code",
   "execution_count": 58,
   "metadata": {},
   "outputs": [
    {
     "data": {
      "text/plain": [
       "<matplotlib.axes._subplots.AxesSubplot at 0x7f874f5b3460>"
      ]
     },
     "execution_count": 58,
     "metadata": {},
     "output_type": "execute_result"
    },
    {
     "data": {
      "image/png": "[encoded data removed]",
      "text/plain": [
       "<Figure size 432x288 with 1 Axes>"
      ]
     },
     "metadata": {
      "needs_background": "light"
     },
     "output_type": "display_data"
    }
   ],
   "source": [
    "world_df['daily_infections'].plot()"
   ]
  },
  {
   "cell_type": "code",
   "execution_count": 64,
   "metadata": {},
   "outputs": [
    {
     "data": {
      "text/plain": [
       "time_stamp\n",
       "2020-07-28 00:00:00    0\n",
       "2020-07-28 02:00:00    0\n",
       "2020-07-28 04:00:00    0\n",
       "2020-07-28 06:00:00    0\n",
       "2020-07-28 08:00:00    1\n",
       "                      ..\n",
       "2020-09-20 03:00:00    0\n",
       "2020-09-20 05:00:00    0\n",
       "2020-09-20 07:00:00    0\n",
       "2020-09-20 09:00:00    0\n",
       "2020-09-20 11:00:00    0\n",
       "Name: daily_infections, Length: 330, dtype: int64"
      ]
     },
     "execution_count": 64,
     "metadata": {},
     "output_type": "execute_result"
    }
   ],
   "source": [
    "world_df['daily_infections'].iloc[390:]"
   ]
  },
  {
   "cell_type": "markdown",
   "metadata": {},
   "source": [
    "## Output to save"
   ]
  },
  {
   "cell_type": "code",
   "execution_count": 65,
   "metadata": {},
   "outputs": [
    {
     "name": "stdout",
     "output_type": "stream",
     "text": [
      "CPU times: user 5.15 s, sys: 92.8 ms, total: 5.24 s\n",
      "Wall time: 5.29 s\n"
     ]
    }
   ],
   "source": [
    "%%time\n",
    "summary = read.run_summary(\n",
    "    super_area_region_path=camp_data_path \n",
    "    / 'input/geography/area_super_area_region.csv'\n",
    ")"
   ]
  },
  {
   "cell_type": "code",
   "execution_count": 66,
   "metadata": {},
   "outputs": [
    {
     "data": {
      "text/html": [
       "<div>\n",
       "<style scoped>\n",
       "    .dataframe tbody tr th:only-of-type {\n",
       "        vertical-align: middle;\n",
       "    }\n",
       "\n",
       "    .dataframe tbody tr th {\n",
       "        vertical-align: top;\n",
       "    }\n",
       "\n",
       "    .dataframe thead th {\n",
       "        text-align: right;\n",
       "    }\n",
       "</style>\n",
       "<table border=\"1\" class=\"dataframe\">\n",
       "  <thead>\n",
       "    <tr style=\"text-align: right;\">\n",
       "      <th></th>\n",
       "      <th>super_area</th>\n",
       "      <th>current_infected</th>\n",
       "      <th>current_dead</th>\n",
       "      <th>current_recovered</th>\n",
       "      <th>current_susceptible</th>\n",
       "      <th>current_hospitalised</th>\n",
       "      <th>current_intensive_care</th>\n",
       "      <th>daily_recovered</th>\n",
       "      <th>daily_deaths_home</th>\n",
       "      <th>daily_deaths_hospital</th>\n",
       "      <th>daily_deaths_icu</th>\n",
       "      <th>daily_deaths</th>\n",
       "      <th>daily_hospital_admissions</th>\n",
       "      <th>daily_infections</th>\n",
       "      <th>region</th>\n",
       "      <th>location_id</th>\n",
       "    </tr>\n",
       "    <tr>\n",
       "      <th>time_stamp</th>\n",
       "      <th></th>\n",
       "      <th></th>\n",
       "      <th></th>\n",
       "      <th></th>\n",
       "      <th></th>\n",
       "      <th></th>\n",
       "      <th></th>\n",
       "      <th></th>\n",
       "      <th></th>\n",
       "      <th></th>\n",
       "      <th></th>\n",
       "      <th></th>\n",
       "      <th></th>\n",
       "      <th></th>\n",
       "      <th></th>\n",
       "      <th></th>\n",
       "    </tr>\n",
       "  </thead>\n",
       "  <tbody>\n",
       "    <tr>\n",
       "      <th>2020-05-24</th>\n",
       "      <td>CXB-219-A</td>\n",
       "      <td>2</td>\n",
       "      <td>0</td>\n",
       "      <td>0</td>\n",
       "      <td>5967</td>\n",
       "      <td>0</td>\n",
       "      <td>0</td>\n",
       "      <td>0</td>\n",
       "      <td>0</td>\n",
       "      <td>0</td>\n",
       "      <td>0</td>\n",
       "      <td>0</td>\n",
       "      <td>0.0</td>\n",
       "      <td>2</td>\n",
       "      <td>CXB-219</td>\n",
       "      <td>NaN</td>\n",
       "    </tr>\n",
       "    <tr>\n",
       "      <th>2020-05-25</th>\n",
       "      <td>CXB-219-A</td>\n",
       "      <td>2</td>\n",
       "      <td>0</td>\n",
       "      <td>0</td>\n",
       "      <td>5967</td>\n",
       "      <td>0</td>\n",
       "      <td>0</td>\n",
       "      <td>0</td>\n",
       "      <td>0</td>\n",
       "      <td>0</td>\n",
       "      <td>0</td>\n",
       "      <td>0</td>\n",
       "      <td>0.0</td>\n",
       "      <td>0</td>\n",
       "      <td>CXB-219</td>\n",
       "      <td>NaN</td>\n",
       "    </tr>\n",
       "    <tr>\n",
       "      <th>2020-05-26</th>\n",
       "      <td>CXB-219-A</td>\n",
       "      <td>2</td>\n",
       "      <td>0</td>\n",
       "      <td>0</td>\n",
       "      <td>5967</td>\n",
       "      <td>0</td>\n",
       "      <td>0</td>\n",
       "      <td>0</td>\n",
       "      <td>0</td>\n",
       "      <td>0</td>\n",
       "      <td>0</td>\n",
       "      <td>0</td>\n",
       "      <td>0.0</td>\n",
       "      <td>0</td>\n",
       "      <td>CXB-219</td>\n",
       "      <td>NaN</td>\n",
       "    </tr>\n",
       "    <tr>\n",
       "      <th>2020-05-27</th>\n",
       "      <td>CXB-219-A</td>\n",
       "      <td>2</td>\n",
       "      <td>0</td>\n",
       "      <td>0</td>\n",
       "      <td>5967</td>\n",
       "      <td>0</td>\n",
       "      <td>0</td>\n",
       "      <td>0</td>\n",
       "      <td>0</td>\n",
       "      <td>0</td>\n",
       "      <td>0</td>\n",
       "      <td>0</td>\n",
       "      <td>0.0</td>\n",
       "      <td>0</td>\n",
       "      <td>CXB-219</td>\n",
       "      <td>NaN</td>\n",
       "    </tr>\n",
       "    <tr>\n",
       "      <th>2020-05-28</th>\n",
       "      <td>CXB-219-A</td>\n",
       "      <td>2</td>\n",
       "      <td>0</td>\n",
       "      <td>0</td>\n",
       "      <td>5966</td>\n",
       "      <td>0</td>\n",
       "      <td>0</td>\n",
       "      <td>0</td>\n",
       "      <td>0</td>\n",
       "      <td>0</td>\n",
       "      <td>0</td>\n",
       "      <td>0</td>\n",
       "      <td>0.0</td>\n",
       "      <td>1</td>\n",
       "      <td>CXB-219</td>\n",
       "      <td>[communal_63]</td>\n",
       "    </tr>\n",
       "    <tr>\n",
       "      <th>...</th>\n",
       "      <td>...</td>\n",
       "      <td>...</td>\n",
       "      <td>...</td>\n",
       "      <td>...</td>\n",
       "      <td>...</td>\n",
       "      <td>...</td>\n",
       "      <td>...</td>\n",
       "      <td>...</td>\n",
       "      <td>...</td>\n",
       "      <td>...</td>\n",
       "      <td>...</td>\n",
       "      <td>...</td>\n",
       "      <td>...</td>\n",
       "      <td>...</td>\n",
       "      <td>...</td>\n",
       "      <td>...</td>\n",
       "    </tr>\n",
       "    <tr>\n",
       "      <th>2020-09-16</th>\n",
       "      <td>CXB-219-D</td>\n",
       "      <td>0</td>\n",
       "      <td>7</td>\n",
       "      <td>4777</td>\n",
       "      <td>9</td>\n",
       "      <td>0</td>\n",
       "      <td>0</td>\n",
       "      <td>0</td>\n",
       "      <td>0</td>\n",
       "      <td>0</td>\n",
       "      <td>0</td>\n",
       "      <td>0</td>\n",
       "      <td>0.0</td>\n",
       "      <td>0</td>\n",
       "      <td>CXB-219</td>\n",
       "      <td>NaN</td>\n",
       "    </tr>\n",
       "    <tr>\n",
       "      <th>2020-09-17</th>\n",
       "      <td>CXB-219-D</td>\n",
       "      <td>0</td>\n",
       "      <td>7</td>\n",
       "      <td>4777</td>\n",
       "      <td>9</td>\n",
       "      <td>0</td>\n",
       "      <td>0</td>\n",
       "      <td>0</td>\n",
       "      <td>0</td>\n",
       "      <td>0</td>\n",
       "      <td>0</td>\n",
       "      <td>0</td>\n",
       "      <td>0.0</td>\n",
       "      <td>0</td>\n",
       "      <td>CXB-219</td>\n",
       "      <td>NaN</td>\n",
       "    </tr>\n",
       "    <tr>\n",
       "      <th>2020-09-18</th>\n",
       "      <td>CXB-219-D</td>\n",
       "      <td>0</td>\n",
       "      <td>7</td>\n",
       "      <td>4777</td>\n",
       "      <td>9</td>\n",
       "      <td>0</td>\n",
       "      <td>0</td>\n",
       "      <td>0</td>\n",
       "      <td>0</td>\n",
       "      <td>0</td>\n",
       "      <td>0</td>\n",
       "      <td>0</td>\n",
       "      <td>0.0</td>\n",
       "      <td>0</td>\n",
       "      <td>CXB-219</td>\n",
       "      <td>NaN</td>\n",
       "    </tr>\n",
       "    <tr>\n",
       "      <th>2020-09-19</th>\n",
       "      <td>CXB-219-D</td>\n",
       "      <td>0</td>\n",
       "      <td>7</td>\n",
       "      <td>4777</td>\n",
       "      <td>9</td>\n",
       "      <td>0</td>\n",
       "      <td>0</td>\n",
       "      <td>0</td>\n",
       "      <td>0</td>\n",
       "      <td>0</td>\n",
       "      <td>0</td>\n",
       "      <td>0</td>\n",
       "      <td>0.0</td>\n",
       "      <td>0</td>\n",
       "      <td>CXB-219</td>\n",
       "      <td>NaN</td>\n",
       "    </tr>\n",
       "    <tr>\n",
       "      <th>2020-09-20</th>\n",
       "      <td>CXB-219-D</td>\n",
       "      <td>0</td>\n",
       "      <td>7</td>\n",
       "      <td>4777</td>\n",
       "      <td>9</td>\n",
       "      <td>0</td>\n",
       "      <td>0</td>\n",
       "      <td>0</td>\n",
       "      <td>0</td>\n",
       "      <td>0</td>\n",
       "      <td>0</td>\n",
       "      <td>0</td>\n",
       "      <td>0.0</td>\n",
       "      <td>0</td>\n",
       "      <td>CXB-219</td>\n",
       "      <td>NaN</td>\n",
       "    </tr>\n",
       "  </tbody>\n",
       "</table>\n",
       "<p>480 rows × 16 columns</p>\n",
       "</div>"
      ],
      "text/plain": [
       "           super_area  current_infected  current_dead  current_recovered  \\\n",
       "time_stamp                                                                 \n",
       "2020-05-24  CXB-219-A                 2             0                  0   \n",
       "2020-05-25  CXB-219-A                 2             0                  0   \n",
       "2020-05-26  CXB-219-A                 2             0                  0   \n",
       "2020-05-27  CXB-219-A                 2             0                  0   \n",
       "2020-05-28  CXB-219-A                 2             0                  0   \n",
       "...               ...               ...           ...                ...   \n",
       "2020-09-16  CXB-219-D                 0             7               4777   \n",
       "2020-09-17  CXB-219-D                 0             7               4777   \n",
       "2020-09-18  CXB-219-D                 0             7               4777   \n",
       "2020-09-19  CXB-219-D                 0             7               4777   \n",
       "2020-09-20  CXB-219-D                 0             7               4777   \n",
       "\n",
       "            current_susceptible  current_hospitalised  current_intensive_care  \\\n",
       "time_stamp                                                                      \n",
       "2020-05-24                 5967                     0                       0   \n",
       "2020-05-25                 5967                     0                       0   \n",
       "2020-05-26                 5967                     0                       0   \n",
       "2020-05-27                 5967                     0                       0   \n",
       "2020-05-28                 5966                     0                       0   \n",
       "...                         ...                   ...                     ...   \n",
       "2020-09-16                    9                     0                       0   \n",
       "2020-09-17                    9                     0                       0   \n",
       "2020-09-18                    9                     0                       0   \n",
       "2020-09-19                    9                     0                       0   \n",
       "2020-09-20                    9                     0                       0   \n",
       "\n",
       "            daily_recovered  daily_deaths_home  daily_deaths_hospital  \\\n",
       "time_stamp                                                              \n",
       "2020-05-24                0                  0                      0   \n",
       "2020-05-25                0                  0                      0   \n",
       "2020-05-26                0                  0                      0   \n",
       "2020-05-27                0                  0                      0   \n",
       "2020-05-28                0                  0                      0   \n",
       "...                     ...                ...                    ...   \n",
       "2020-09-16                0                  0                      0   \n",
       "2020-09-17                0                  0                      0   \n",
       "2020-09-18                0                  0                      0   \n",
       "2020-09-19                0                  0                      0   \n",
       "2020-09-20                0                  0                      0   \n",
       "\n",
       "            daily_deaths_icu  daily_deaths  daily_hospital_admissions  \\\n",
       "time_stamp                                                              \n",
       "2020-05-24                 0             0                        0.0   \n",
       "2020-05-25                 0             0                        0.0   \n",
       "2020-05-26                 0             0                        0.0   \n",
       "2020-05-27                 0             0                        0.0   \n",
       "2020-05-28                 0             0                        0.0   \n",
       "...                      ...           ...                        ...   \n",
       "2020-09-16                 0             0                        0.0   \n",
       "2020-09-17                 0             0                        0.0   \n",
       "2020-09-18                 0             0                        0.0   \n",
       "2020-09-19                 0             0                        0.0   \n",
       "2020-09-20                 0             0                        0.0   \n",
       "\n",
       "            daily_infections   region    location_id  \n",
       "time_stamp                                            \n",
       "2020-05-24                 2  CXB-219            NaN  \n",
       "2020-05-25                 0  CXB-219            NaN  \n",
       "2020-05-26                 0  CXB-219            NaN  \n",
       "2020-05-27                 0  CXB-219            NaN  \n",
       "2020-05-28                 1  CXB-219  [communal_63]  \n",
       "...                      ...      ...            ...  \n",
       "2020-09-16                 0  CXB-219            NaN  \n",
       "2020-09-17                 0  CXB-219            NaN  \n",
       "2020-09-18                 0  CXB-219            NaN  \n",
       "2020-09-19                 0  CXB-219            NaN  \n",
       "2020-09-20                 0  CXB-219            NaN  \n",
       "\n",
       "[480 rows x 16 columns]"
      ]
     },
     "execution_count": 66,
     "metadata": {},
     "output_type": "execute_result"
    }
   ],
   "source": [
    "summary"
   ]
  },
  {
   "cell_type": "code",
   "execution_count": null,
   "metadata": {},
   "outputs": [],
   "source": []
  },
  {
   "cell_type": "code",
   "execution_count": null,
   "metadata": {},
   "outputs": [],
   "source": []
  }
 ],
 "metadata": {
  "kernelspec": {
   "display_name": "camps",
   "language": "python",
   "name": "camps"
  },
  "language_info": {
   "codemirror_mode": {
    "name": "ipython",
    "version": 3
   },
   "file_extension": ".py",
   "mimetype": "text/x-python",
   "name": "python",
   "nbconvert_exporter": "python",
   "pygments_lexer": "ipython3",
   "version": "3.8.3"
  }
 },
 "nbformat": 4,
 "nbformat_minor": 4
}
