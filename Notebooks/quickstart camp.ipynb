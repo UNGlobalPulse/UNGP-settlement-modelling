{
 "cells": [
  {
   "cell_type": "code",
   "execution_count": 1,
   "metadata": {},
   "outputs": [],
   "source": [
    "import warnings\n",
    "warnings.filterwarnings('ignore')"
   ]
  },
  {
   "cell_type": "code",
   "execution_count": 2,
   "metadata": {},
   "outputs": [],
   "source": [
    "import numpy as np\n",
    "import pandas as pd\n",
    "import time\n",
    "import matplotlib.pyplot as plt\n",
    "from datetime import datetime\n",
    "import sys\n",
    "import argparse\n",
    "from pathlib import Path"
   ]
  },
  {
   "cell_type": "code",
   "execution_count": 3,
   "metadata": {},
   "outputs": [
    {
     "name": "stderr",
     "output_type": "stream",
     "text": [
      "No --data argument given - defaulting to:\n",
      "/home/joseph/Documents/PhD/UN_Work/UNGP-settlement-modelling-private/data\n",
      "No --configs argument given - defaulting to:\n",
      "/home/joseph/Documents/PhD/UN_Work/JUNE-private/june/configs\n"
     ]
    },
    {
     "name": "stdout",
     "output_type": "stream",
     "text": [
      "2022-07-27 17:13:49,218 - camps.paths - WARNING - No --camp_data argument given - defaulting to:\n",
      "/home/joseph/Documents/PhD/UN_Work/UNGP-settlement-modelling-private/camp_data\n",
      "2022-07-27 17:13:49,219 - camps.paths - WARNING - No --configs_camps argument given - defaulting to:\n",
      "/home/joseph/Documents/PhD/UN_Work/UNGP-settlement-modelling-private/configs_camps\n"
     ]
    }
   ],
   "source": [
    "from june.geography import Geography\n",
    "from june.demography.demography import (\n",
    "    load_age_and_sex_generators_for_bins,\n",
    "    Demography,\n",
    "    Population,\n",
    "    load_comorbidity_data,\n",
    "    generate_comorbidity,\n",
    ")\n",
    "from june.paths import data_path, configs_path\n",
    "from june.epidemiology.epidemiology import Epidemiology\n",
    "from june.epidemiology.infection import ImmunitySetter\n",
    "from june.epidemiology.infection import Infection, HealthIndexGenerator, InfectionSelector, InfectionSelectors\n",
    "from june.epidemiology.infection_seed import InfectionSeed, InfectionSeeds\n",
    "from june.interaction import Interaction\n",
    "from june.groups import Hospital, Hospitals, Cemeteries\n",
    "from june.distributors import HospitalDistributor\n",
    "from june.hdf5_savers import generate_world_from_hdf5\n",
    "from june.policy import Policy, Policies\n",
    "from june.records import Record\n",
    "from june.simulator import Simulator\n",
    "from june.records import Record, RecordReader\n",
    "\n",
    "from camps.activity import CampActivityManager\n",
    "from camps.paths import camp_data_path, camp_configs_path\n",
    "from camps.world import World\n",
    "from camps.groups.leisure import generate_leisure_for_world, generate_leisure_for_config\n",
    "from camps.camp_creation import (\n",
    "    generate_empty_world,\n",
    "    populate_world,\n",
    "    distribute_people_to_households,\n",
    ")  # this is loaded from the ../camp_scripts folder\n",
    "\n",
    "from june.tracker.tracker import Tracker"
   ]
  },
  {
   "cell_type": "code",
   "execution_count": 4,
   "metadata": {},
   "outputs": [],
   "source": [
    "from camps.groups import PumpLatrines, PumpLatrineDistributor\n",
    "from camps.groups import DistributionCenters, DistributionCenterDistributor\n",
    "from camps.groups import Communals, CommunalDistributor\n",
    "from camps.groups import FemaleCommunals, FemaleCommunalDistributor\n",
    "from camps.groups import Religiouss, ReligiousDistributor\n",
    "from camps.groups import Shelter, Shelters, ShelterDistributor\n",
    "from camps.groups import IsolationUnit, IsolationUnits\n",
    "from camps.groups import LearningCenters\n",
    "from camps.distributors import LearningCenterDistributor\n",
    "from camps.groups import PlayGroups, PlayGroupDistributor\n",
    "from camps.groups import EVouchers, EVoucherDistributor\n",
    "from camps.groups import NFDistributionCenters, NFDistributionCenterDistributor\n",
    "from camps.groups import SheltersVisitsDistributor\n",
    "from camps.groups import InformalWorks, InformalWorkDistributor"
   ]
  },
  {
   "cell_type": "code",
   "execution_count": 5,
   "metadata": {},
   "outputs": [],
   "source": [
    "Results_Path = Path(\"results\")\n",
    "\n",
    "Config_File_Path = camp_configs_path / \"config_demo.yaml\"\n",
    "Interactions_File_Path = camp_configs_path / \"defaults/interaction/interaction_Survey.yaml\"\n",
    "Policies_File_Path = camp_configs_path / \"defaults/policy/simple_policy.yaml\"\n",
    "Hospitals_File_Path = camp_data_path / \"input/hospitals/hospitals.csv\"\n",
    "comorbidity_multipliers_path = camp_configs_path / \"defaults/comorbidities.yaml\"\n",
    "male_comorbidity_reference_prevalence_path = camp_data_path / \"input/demography/uk_male_comorbidities.csv\"\n",
    "female_comorbidity_reference_prevalence_path = camp_data_path / \"input/demography/uk_female_comorbidities.csv\""
   ]
  },
  {
   "cell_type": "markdown",
   "metadata": {},
   "source": [
    "## Initialize the world"
   ]
  },
  {
   "cell_type": "markdown",
   "metadata": {},
   "source": [
    "When we create the camp to be simulated, we call this the 'world'. The world is initialised after specifying which geographical regions you want to simulate. We can do this by using the `filter_key` argument in the `generate_empty_world` function. Cox's Bazar Expansion Site is made up of camps (which we call regions), UNHCR blocks (which we call super areas) and Mahjee blocks (which we call areas). These are the 3 heirarchical levels on which our model works. You can pass lists of the regions/super_areas/areas to the function here. Alternatively, by leaving the function empty you can generate the entire Cox's Bazar Expansion Site consisting of 112 super areas."
   ]
  },
  {
   "cell_type": "code",
   "execution_count": 6,
   "metadata": {},
   "outputs": [
    {
     "name": "stdout",
     "output_type": "stream",
     "text": [
      "2022-07-27 17:13:49,906 - june.geography.geography - INFO - There are 65 areas and 4 super_areas and 1 regions in the world.\n"
     ]
    }
   ],
   "source": [
    "# create empty world's geography\n",
    "world = generate_empty_world(filter_key = {\"region\" : [\"CXB-219\"]})"
   ]
  },
  {
   "cell_type": "code",
   "execution_count": 7,
   "metadata": {},
   "outputs": [],
   "source": [
    "# populate empty world\n",
    "populate_world(world)"
   ]
  },
  {
   "cell_type": "code",
   "execution_count": 8,
   "metadata": {},
   "outputs": [
    {
     "name": "stdout",
     "output_type": "stream",
     "text": [
      "Distributing 468 people to CXB-219-001\n",
      "Distributing 369 people to CXB-219-002\n",
      "Distributing 331 people to CXB-219-003\n",
      "Distributing 387 people to CXB-219-004\n",
      "Distributing 313 people to CXB-219-005\n",
      "Distributing 331 people to CXB-219-006\n",
      "Distributing 260 people to CXB-219-007\n",
      "Distributing 350 people to CXB-219-009\n",
      "Distributing 274 people to CXB-219-010\n",
      "Distributing 249 people to CXB-219-011\n",
      "Distributing 464 people to CXB-219-012\n",
      "Distributing 418 people to CXB-219-013\n",
      "Distributing 461 people to CXB-219-014\n",
      "Distributing 383 people to CXB-219-017\n",
      "Distributing 416 people to CXB-219-020\n",
      "Distributing 426 people to CXB-219-021\n",
      "Distributing 414 people to CXB-219-022\n",
      "Distributing 383 people to CXB-219-024\n",
      "Distributing 378 people to CXB-219-025\n",
      "Distributing 378 people to CXB-219-026\n",
      "Distributing 413 people to CXB-219-027\n",
      "Distributing 392 people to CXB-219-028\n",
      "Distributing 331 people to CXB-219-029\n",
      "Distributing 459 people to CXB-219-030\n",
      "Distributing 394 people to CXB-219-032\n",
      "Distributing 339 people to CXB-219-033\n",
      "Distributing 373 people to CXB-219-034\n",
      "Distributing 259 people to CXB-219-036\n",
      "Distributing 455 people to CXB-219-037\n",
      "Distributing 459 people to CXB-219-038\n",
      "Distributing 488 people to CXB-219-039\n",
      "Distributing 175 people to CXB-219-040\n",
      "Distributing 330 people to CXB-219-041\n",
      "Distributing 398 people to CXB-219-042\n",
      "Distributing 398 people to CXB-219-043\n",
      "Distributing 368 people to CXB-219-044\n",
      "Distributing 430 people to CXB-219-045\n",
      "Distributing 450 people to CXB-219-046\n",
      "Distributing 244 people to CXB-219-047\n",
      "Distributing 311 people to CXB-219-048\n",
      "Distributing 335 people to CXB-219-049\n",
      "Distributing 206 people to CXB-219-050\n",
      "Distributing 343 people to CXB-219-051\n",
      "Distributing 347 people to CXB-219-052\n",
      "Distributing 533 people to CXB-219-053\n",
      "Distributing 380 people to CXB-219-054\n",
      "Distributing 253 people to CXB-219-055\n",
      "Distributing 274 people to CXB-219-056\n",
      "Distributing 247 people to CXB-219-057\n",
      "Distributing 376 people to CXB-219-058\n",
      "Distributing 341 people to CXB-219-059\n",
      "Distributing 331 people to CXB-219-060\n",
      "Distributing 413 people to CXB-219-061\n",
      "Distributing 259 people to CXB-219-062\n",
      "Distributing 286 people to CXB-219-063\n",
      "Distributing 194 people to CXB-219-064\n",
      "Distributing 212 people to CXB-219-065\n",
      "Distributing 330 people to CXB-219-066\n",
      "Distributing 314 people to CXB-219-067\n",
      "Distributing 386 people to CXB-219-068\n",
      "Distributing 551 people to CXB-219-069\n",
      "Distributing 321 people to CXB-219-070\n",
      "Distributing 218 people to CXB-219-071\n",
      "Distributing 308 people to CXB-234-001\n",
      "Distributing 276 people to CXB-234-002\n"
     ]
    }
   ],
   "source": [
    "# distribute people to households\n",
    "distribute_people_to_households(world)"
   ]
  },
  {
   "cell_type": "code",
   "execution_count": 9,
   "metadata": {},
   "outputs": [
    {
     "name": "stdout",
     "output_type": "stream",
     "text": [
      "2022-07-27 17:13:55,058 - learning_centers - INFO - There are 1243 learning center(s)\n"
     ]
    }
   ],
   "source": [
    "LearningCenters.Get_Interaction(Interactions_File_Path)\n",
    "world.learning_centers = LearningCenters.for_areas(world.areas)\n",
    "\n",
    "learningcenter_distributor = LearningCenterDistributor.from_file(world.learning_centers)\n",
    "\n",
    "learningcenter_distributor.distribute_teachers_to_learning_centers(world.areas)\n",
    "learningcenter_distributor.distribute_kids_to_learning_centers(world.areas)"
   ]
  },
  {
   "cell_type": "code",
   "execution_count": 10,
   "metadata": {},
   "outputs": [
    {
     "name": "stdout",
     "output_type": "stream",
     "text": [
      "2022-07-27 17:13:56,228 - hospitals - INFO - There are 8 hospitals in the world.\n",
      "2022-07-27 17:13:56,254 - isolation units - INFO - There are 8 isolation unit(s)\n"
     ]
    }
   ],
   "source": [
    "# distribute hospitals\n",
    "Hospitals.Get_Interaction(Interactions_File_Path)\n",
    "IsolationUnits.Get_Interaction(Interactions_File_Path)\n",
    "\n",
    "hospitals = Hospitals.from_file(\n",
    "    filename=Hospitals_File_Path\n",
    ")\n",
    "\n",
    "\n",
    "for hospital in hospitals:\n",
    "    hospital.area = world.areas.get_closest_area(hospital.coordinates)\n",
    "    \n",
    "world.hospitals = hospitals\n",
    "hospital_distributor = HospitalDistributor(\n",
    "    hospitals, medic_min_age=20, patients_per_medic=10\n",
    ")\n",
    "hospital_distributor.assign_closest_hospitals_to_super_areas(\n",
    "    world.super_areas\n",
    ")\n",
    "\n",
    "world.isolation_units = IsolationUnits([IsolationUnit(area=hospital.area) for hospital in world.hospitals])\n",
    "hospital_distributor.distribute_medics_from_world(world.people)"
   ]
  },
  {
   "cell_type": "code",
   "execution_count": 11,
   "metadata": {},
   "outputs": [
    {
     "name": "stdout",
     "output_type": "stream",
     "text": [
      "2022-07-27 17:13:56,379 - social_venue - INFO - Domain 0 has 82 pump_latrines(s)\n",
      "2022-07-27 17:13:56,557 - social_venue - INFO - Domain 0 has 540 play_groups(s)\n",
      "2022-07-27 17:13:56,610 - social_venue - INFO - Domain 0 has 21 distribution_centers(s)\n",
      "2022-07-27 17:13:56,760 - social_venue - INFO - Domain 0 has 115 communals(s)\n",
      "2022-07-27 17:13:56,844 - social_venue - INFO - Domain 0 has 67 female_communals(s)\n",
      "2022-07-27 17:13:58,172 - social_venue - INFO - Domain 0 has 2065 religiouss(s)\n",
      "2022-07-27 17:13:58,228 - social_venue - INFO - Domain 0 has 7 e_vouchers(s)\n",
      "2022-07-27 17:13:58,290 - social_venue - INFO - Domain 0 has 41 n_f_distribution_centers(s)\n",
      "2022-07-27 17:13:58,355 - social_venue - INFO - Domain 0 has 80 informal_works(s)\n"
     ]
    }
   ],
   "source": [
    "PumpLatrines.Get_Interaction(Interactions_File_Path)\n",
    "world.pump_latrines = PumpLatrines.for_areas(world.areas)\n",
    "\n",
    "PlayGroups.Get_Interaction(Interactions_File_Path)\n",
    "world.play_groups = PlayGroups.for_areas(world.areas)\n",
    "\n",
    "DistributionCenters.Get_Interaction(Interactions_File_Path)\n",
    "world.distribution_centers = DistributionCenters.for_areas(world.areas)\n",
    "\n",
    "Communals.Get_Interaction(Interactions_File_Path)\n",
    "world.communals = Communals.for_areas(world.areas)\n",
    "\n",
    "FemaleCommunals.Get_Interaction(Interactions_File_Path)\n",
    "world.female_communals = FemaleCommunals.for_areas(world.areas)\n",
    "\n",
    "Religiouss.Get_Interaction(Interactions_File_Path)\n",
    "world.religiouss = Religiouss.for_areas(world.areas)\n",
    "\n",
    "EVouchers.Get_Interaction(Interactions_File_Path)\n",
    "world.e_vouchers = EVouchers.for_areas(world.areas)\n",
    "\n",
    "NFDistributionCenters.Get_Interaction(Interactions_File_Path)\n",
    "world.n_f_distribution_centers = NFDistributionCenters.for_areas(world.areas)\n",
    "\n",
    "InformalWorks.Get_Interaction(Interactions_File_Path)\n",
    "world.informal_works = InformalWorks.for_areas(world.areas)"
   ]
  },
  {
   "cell_type": "code",
   "execution_count": 12,
   "metadata": {},
   "outputs": [
    {
     "name": "stdout",
     "output_type": "stream",
     "text": [
      "cemetery not defined in interaction yaml or defualt options\n"
     ]
    }
   ],
   "source": [
    "world.cemeteries = Cemeteries()"
   ]
  },
  {
   "cell_type": "markdown",
   "metadata": {},
   "source": [
    "## Geography exploration"
   ]
  },
  {
   "cell_type": "markdown",
   "metadata": {},
   "source": [
    "The geography is initialised first and can be explored."
   ]
  },
  {
   "cell_type": "markdown",
   "metadata": {},
   "source": [
    "### UNHCR camp blocks inside the World"
   ]
  },
  {
   "cell_type": "code",
   "execution_count": 13,
   "metadata": {},
   "outputs": [],
   "source": [
    "super_areas = []\n",
    "for super_area in world.super_areas:\n",
    "    super_areas.append(super_area.name)"
   ]
  },
  {
   "cell_type": "code",
   "execution_count": 14,
   "metadata": {},
   "outputs": [
    {
     "data": {
      "text/plain": [
       "['CXB-219-A', 'CXB-219-B', 'CXB-219-C', 'CXB-219-D']"
      ]
     },
     "execution_count": 14,
     "metadata": {},
     "output_type": "execute_result"
    }
   ],
   "source": [
    "super_areas[:5]"
   ]
  },
  {
   "cell_type": "markdown",
   "metadata": {},
   "source": [
    "### Mahjee blocks inside World"
   ]
  },
  {
   "cell_type": "code",
   "execution_count": 15,
   "metadata": {},
   "outputs": [],
   "source": [
    "areas = []\n",
    "for area in world.areas:\n",
    "    areas.append(area.name)"
   ]
  },
  {
   "cell_type": "code",
   "execution_count": 16,
   "metadata": {},
   "outputs": [
    {
     "data": {
      "text/plain": [
       "['CXB-219-001', 'CXB-219-002', 'CXB-219-003', 'CXB-219-004', 'CXB-219-005']"
      ]
     },
     "execution_count": 16,
     "metadata": {},
     "output_type": "execute_result"
    }
   ],
   "source": [
    "areas[:5]"
   ]
  },
  {
   "cell_type": "markdown",
   "metadata": {},
   "source": [
    "## Demography exploration"
   ]
  },
  {
   "cell_type": "markdown",
   "metadata": {},
   "source": [
    "Once we have populated the 'digital twin' we can explore some of the attributes of the people we have created in the simulation."
   ]
  },
  {
   "cell_type": "markdown",
   "metadata": {},
   "source": [
    "### UNHCR block residents"
   ]
  },
  {
   "cell_type": "code",
   "execution_count": 17,
   "metadata": {},
   "outputs": [],
   "source": [
    "sample_ages = []\n",
    "sample_sexes = []\n",
    "for person in world.super_areas.members[0].people:\n",
    "    sample_ages.append(person.age)\n",
    "    sample_sexes.append(person.sex)"
   ]
  },
  {
   "cell_type": "code",
   "execution_count": 18,
   "metadata": {},
   "outputs": [
    {
     "data": {
      "text/plain": [
       "(['m', 'f', 'm', 'f', 'm'], [54, 44, 26, 22, 30])"
      ]
     },
     "execution_count": 18,
     "metadata": {},
     "output_type": "execute_result"
    }
   ],
   "source": [
    "sample_sexes[:5], sample_ages[:5]"
   ]
  },
  {
   "cell_type": "code",
   "execution_count": 19,
   "metadata": {},
   "outputs": [
    {
     "data": {
      "image/png": "[encoded data removed]",
      "text/plain": [
       "<Figure size 432x288 with 1 Axes>"
      ]
     },
     "metadata": {
      "needs_background": "light"
     },
     "output_type": "display_data"
    }
   ],
   "source": [
    "ages, counts = np.unique(sample_ages, return_counts=True)\n",
    "plt.bar(ages, counts)\n",
    "plt.title('super area: {} age distribution'.format(world.super_areas.members[0].name))\n",
    "plt.show()"
   ]
  },
  {
   "cell_type": "code",
   "execution_count": 20,
   "metadata": {},
   "outputs": [
    {
     "name": "stdout",
     "output_type": "stream",
     "text": [
      "The % children between ages 0-16 is 49%\n"
     ]
    }
   ],
   "source": [
    "print ('The % children between ages 0-16 is {}%'.format(round(np.sum(counts[:16])/(np.sum(counts[:16])+np.sum(counts[16:]))*100)))"
   ]
  },
  {
   "cell_type": "markdown",
   "metadata": {},
   "source": [
    "## Households"
   ]
  },
  {
   "cell_type": "markdown",
   "metadata": {},
   "source": [
    "In this model, we will use the term 'family' and 'household' interchangeably. After populating the 'digital twin', we need to cluster people into families. To do this, we take account of age structure so that children live with adults, that there are some intergenerational households and such that we might also have some households of only adults."
   ]
  },
  {
   "cell_type": "markdown",
   "metadata": {},
   "source": [
    "### Household size distribution"
   ]
  },
  {
   "cell_type": "code",
   "execution_count": 21,
   "metadata": {},
   "outputs": [
    {
     "data": {
      "image/png": "[encoded data removed]",
      "text/plain": [
       "<Figure size 432x288 with 1 Axes>"
      ]
     },
     "metadata": {
      "needs_background": "light"
     },
     "output_type": "display_data"
    }
   ],
   "source": [
    "household_sizes = [household.size for household in world.households]\n",
    "plt.hist(household_sizes, density=True, bins=np.arange(0,12))\n",
    "plt.xlabel(\"Household size\")\n",
    "plt.ylabel(\"Frequency\")\n",
    "plt.axvline(np.mean(household_sizes), color=\"cyan\")\n",
    "plt.text(8, 0.150, f\"Avg. size: {(np.mean(household_sizes)):.2f}\")\n",
    "plt.show()"
   ]
  },
  {
   "cell_type": "markdown",
   "metadata": {},
   "source": [
    "# Shelters"
   ]
  },
  {
   "cell_type": "markdown",
   "metadata": {},
   "source": [
    "Shelters house people in the camp. Since we know that families (houseohlds) often share shelters with other families, we can set the `sharing_shelter_ratio` to cluster families into shared shelters."
   ]
  },
  {
   "cell_type": "code",
   "execution_count": 22,
   "metadata": {},
   "outputs": [],
   "source": [
    "Shelters.Get_Interaction(Interactions_File_Path)\n",
    "world.shelters = Shelters.for_areas(world.areas)\n",
    "shelter_distributor = ShelterDistributor(sharing_shelter_ratio = 0.75) # proportion of families that share a shelter\n",
    "for area in world.areas:\n",
    "    shelter_distributor.distribute_people_in_shelters(area.shelters, area.households)"
   ]
  },
  {
   "cell_type": "code",
   "execution_count": 23,
   "metadata": {},
   "outputs": [
    {
     "data": {
      "image/png": "[encoded data removed]",
      "text/plain": [
       "<Figure size 576x216 with 2 Axes>"
      ]
     },
     "metadata": {
      "needs_background": "light"
     },
     "output_type": "display_data"
    }
   ],
   "source": [
    "fig, ax = plt.subplots(1, 2, figsize=(8,3))\n",
    "shelter_sizes = [shelter.size for shelter in world.shelters]\n",
    "shelter_families = [shelter.n_families for shelter in world.shelters]\n",
    "ax[0].hist(shelter_sizes)\n",
    "ax[0].set_title(\"Shelter size\")\n",
    "shelter_families = {1 : len([shelter for shelter in world.shelters if shelter.n_families == 1]),\n",
    "                    2 : len([shelter for shelter in world.shelters if shelter.n_families == 2])}\n",
    "ax[1].bar(shelter_families.keys(), shelter_families.values())\n",
    "ax[1].set_title(\"# families per shelter\")\n",
    "plt.show()"
   ]
  },
  {
   "cell_type": "markdown",
   "metadata": {},
   "source": [
    "## Activity exploration"
   ]
  },
  {
   "cell_type": "markdown",
   "metadata": {},
   "source": [
    "Once different activity locations are seeded in the 'digital twin' we can explore how many there are in different areas of the twin, and their coordinates to check they've all been added correctly."
   ]
  },
  {
   "cell_type": "markdown",
   "metadata": {},
   "source": [
    "### Pumps and latrines "
   ]
  },
  {
   "cell_type": "code",
   "execution_count": 24,
   "metadata": {},
   "outputs": [],
   "source": [
    "pumps_and_latrines = []\n",
    "for pump_latrine in world.areas.members[0].pump_latrines:\n",
    "    pumps_and_latrines.append(pump_latrine)"
   ]
  },
  {
   "cell_type": "code",
   "execution_count": 25,
   "metadata": {},
   "outputs": [
    {
     "name": "stdout",
     "output_type": "stream",
     "text": [
      "There are 2 pumps and latrines in area CXB-219-001\n"
     ]
    }
   ],
   "source": [
    "print ('There are {} pumps and latrines in area {}'.format(len(pumps_and_latrines), world.areas.members[0].name))"
   ]
  },
  {
   "cell_type": "markdown",
   "metadata": {},
   "source": [
    "### Informal work"
   ]
  },
  {
   "cell_type": "code",
   "execution_count": 26,
   "metadata": {},
   "outputs": [],
   "source": [
    "Informal_work_Sites = []\n",
    "for informal_work in world.areas.members[0].informal_works:\n",
    "    Informal_work_Sites.append(informal_work)"
   ]
  },
  {
   "cell_type": "code",
   "execution_count": 27,
   "metadata": {},
   "outputs": [
    {
     "name": "stdout",
     "output_type": "stream",
     "text": [
      "There are 2 informal work sites in area CXB-219-001\n"
     ]
    }
   ],
   "source": [
    "print ('There are {} informal work sites in area {}'.format(len(Informal_work_Sites), world.areas.members[0].name))"
   ]
  },
  {
   "cell_type": "markdown",
   "metadata": {},
   "source": [
    "### Distribution centers"
   ]
  },
  {
   "cell_type": "code",
   "execution_count": 28,
   "metadata": {},
   "outputs": [],
   "source": [
    "distribution_centers = []\n",
    "for center in world.distribution_centers:\n",
    "    distribution_centers.append(center)"
   ]
  },
  {
   "cell_type": "code",
   "execution_count": 29,
   "metadata": {},
   "outputs": [
    {
     "data": {
      "text/plain": [
       "array([21.2136    , 92.15678833])"
      ]
     },
     "execution_count": 29,
     "metadata": {},
     "output_type": "execute_result"
    }
   ],
   "source": [
    "distribution_centers[0].coordinates"
   ]
  },
  {
   "cell_type": "markdown",
   "metadata": {},
   "source": [
    "### Non-food Distribution centers"
   ]
  },
  {
   "cell_type": "code",
   "execution_count": 30,
   "metadata": {},
   "outputs": [],
   "source": [
    "non_food_distribution_centers = []\n",
    "for center in world.n_f_distribution_centers:\n",
    "    non_food_distribution_centers.append(center)"
   ]
  },
  {
   "cell_type": "code",
   "execution_count": 31,
   "metadata": {},
   "outputs": [
    {
     "data": {
      "text/plain": [
       "array([21.21268167, 92.1438    ])"
      ]
     },
     "execution_count": 31,
     "metadata": {},
     "output_type": "execute_result"
    }
   ],
   "source": [
    "non_food_distribution_centers[0].coordinates"
   ]
  },
  {
   "cell_type": "markdown",
   "metadata": {},
   "source": [
    "### E-Voucher outlets"
   ]
  },
  {
   "cell_type": "code",
   "execution_count": 32,
   "metadata": {},
   "outputs": [],
   "source": [
    "e_voucher_outlets = []\n",
    "for center in world.e_vouchers:\n",
    "    e_voucher_outlets.append(center)"
   ]
  },
  {
   "cell_type": "code",
   "execution_count": 33,
   "metadata": {},
   "outputs": [
    {
     "data": {
      "text/plain": [
       "array([21.212945, 92.142915])"
      ]
     },
     "execution_count": 33,
     "metadata": {},
     "output_type": "execute_result"
    }
   ],
   "source": [
    "e_voucher_outlets[0].coordinates"
   ]
  },
  {
   "cell_type": "markdown",
   "metadata": {},
   "source": [
    "### Communal spaces"
   ]
  },
  {
   "cell_type": "code",
   "execution_count": 34,
   "metadata": {},
   "outputs": [],
   "source": [
    "communal_spaces = []\n",
    "for space in world.communals:\n",
    "    communal_spaces.append(space)"
   ]
  },
  {
   "cell_type": "code",
   "execution_count": 35,
   "metadata": {},
   "outputs": [
    {
     "data": {
      "text/plain": [
       "array([21.19508, 92.16525])"
      ]
     },
     "execution_count": 35,
     "metadata": {},
     "output_type": "execute_result"
    }
   ],
   "source": [
    "communal_spaces[0].coordinates"
   ]
  },
  {
   "cell_type": "markdown",
   "metadata": {},
   "source": [
    "### Female friendly communal spaces"
   ]
  },
  {
   "cell_type": "code",
   "execution_count": 36,
   "metadata": {},
   "outputs": [],
   "source": [
    "female_communal_spaces = []\n",
    "for space in world.female_communals:\n",
    "    female_communal_spaces.append(space)"
   ]
  },
  {
   "cell_type": "code",
   "execution_count": 37,
   "metadata": {},
   "outputs": [
    {
     "data": {
      "text/plain": [
       "array([21.20686305, 92.16070923])"
      ]
     },
     "execution_count": 37,
     "metadata": {},
     "output_type": "execute_result"
    }
   ],
   "source": [
    "female_communal_spaces[0].coordinates"
   ]
  },
  {
   "cell_type": "markdown",
   "metadata": {},
   "source": [
    "### Religious sites"
   ]
  },
  {
   "cell_type": "code",
   "execution_count": 38,
   "metadata": {},
   "outputs": [],
   "source": [
    "religious = []\n",
    "for rel in world.religiouss:\n",
    "    religious.append(rel)"
   ]
  },
  {
   "cell_type": "code",
   "execution_count": 39,
   "metadata": {},
   "outputs": [
    {
     "data": {
      "text/plain": [
       "array([21.21804605, 92.1546829 ])"
      ]
     },
     "execution_count": 39,
     "metadata": {},
     "output_type": "execute_result"
    }
   ],
   "source": [
    "religious[0].coordinates"
   ]
  },
  {
   "cell_type": "markdown",
   "metadata": {},
   "source": [
    "# Adding the infection"
   ]
  },
  {
   "cell_type": "markdown",
   "metadata": {},
   "source": [
    "The selector handles how infections are handled in the code. You can set different 'symptom trajectories' (e.g. exposed->mild->severe->hospitalised->intensive care) from different files. Here, we use the default."
   ]
  },
  {
   "cell_type": "code",
   "execution_count": 40,
   "metadata": {},
   "outputs": [],
   "source": [
    "selector = InfectionSelector.from_file()"
   ]
  },
  {
   "cell_type": "code",
   "execution_count": 41,
   "metadata": {},
   "outputs": [],
   "source": [
    "selectors = InfectionSelectors([selector])"
   ]
  },
  {
   "cell_type": "markdown",
   "metadata": {},
   "source": [
    "# Adding the interaction"
   ]
  },
  {
   "cell_type": "markdown",
   "metadata": {},
   "source": [
    "The interaction class handles how many contacts people have in different locations and with who. If contact matrices are available, these can be coded in a `.yaml` file and fed into the class here."
   ]
  },
  {
   "cell_type": "code",
   "execution_count": 42,
   "metadata": {},
   "outputs": [],
   "source": [
    "interaction = Interaction.from_file(\n",
    "    config_filename=Interactions_File_Path,\n",
    ")"
   ]
  },
  {
   "cell_type": "markdown",
   "metadata": {},
   "source": [
    "# Set policies"
   ]
  },
  {
   "cell_type": "markdown",
   "metadata": {},
   "source": [
    "Policies control how 'operational interventions' are set in the camp. Here we set some social distancing policies, policies relating to medical care, such as people with severe symptoms being hospitalised, and individual and activity policies which can dynamically change how often and where people go, e.g. here, we close all female communal spaces and non-food distirbution centers which the camp did back in March"
   ]
  },
  {
   "cell_type": "code",
   "execution_count": 43,
   "metadata": {},
   "outputs": [],
   "source": [
    "policies = Policies.from_file(\n",
    "        Policies_File_Path,\n",
    "        base_policy_modules=(\"june.policy\", \"camps.policy\"),\n",
    "    )"
   ]
  },
  {
   "cell_type": "code",
   "execution_count": 44,
   "metadata": {},
   "outputs": [
    {
     "data": {
      "text/plain": [
       "[<june.policy.interaction_policies.SocialDistancing at 0x7ff123cbb730>,\n",
       " <june.policy.medical_care_policies.Hospitalisation at 0x7ff123cbb8b0>,\n",
       " <june.policy.individual_policies.SevereSymptomsStayHome at 0x7ff123cbbd30>,\n",
       " <june.policy.individual_policies.Quarantine at 0x7ff123cbb340>]"
      ]
     },
     "execution_count": 44,
     "metadata": {},
     "output_type": "execute_result"
    }
   ],
   "source": [
    "policies.policies"
   ]
  },
  {
   "cell_type": "markdown",
   "metadata": {},
   "source": [
    "# Seed the disease"
   ]
  },
  {
   "cell_type": "markdown",
   "metadata": {},
   "source": [
    "Set intial seeding conditions. This can be done at the camp level specifically, or generally by seeding them randomly. Here the `n_cases` is the number of randomly seeded people over the entire population."
   ]
  },
  {
   "cell_type": "code",
   "execution_count": 45,
   "metadata": {},
   "outputs": [],
   "source": [
    "infection_seed = InfectionSeed.from_uniform_cases(\n",
    "    world=world, infection_selector=selector, cases_per_capita=0.01, date=\"2020-05-24 9:00\", seed_past_infections=False,\n",
    ")"
   ]
  },
  {
   "cell_type": "code",
   "execution_count": 46,
   "metadata": {},
   "outputs": [],
   "source": [
    "infection_seeds = InfectionSeeds([infection_seed])"
   ]
  },
  {
   "cell_type": "code",
   "execution_count": 47,
   "metadata": {},
   "outputs": [],
   "source": [
    "immunity_setter = ImmunitySetter.from_file_with_comorbidities(\n",
    "    comorbidity_multipliers_path= comorbidity_multipliers_path,\n",
    "    male_comorbidity_reference_prevalence_path= male_comorbidity_reference_prevalence_path,\n",
    "    female_comorbidity_reference_prevalence_path = female_comorbidity_reference_prevalence_path,   \n",
    ")"
   ]
  },
  {
   "cell_type": "code",
   "execution_count": 48,
   "metadata": {},
   "outputs": [],
   "source": [
    "epidemiology = Epidemiology(\n",
    "    infection_selectors=selectors,\n",
    "    infection_seeds=infection_seeds,\n",
    "    immunity_setter=immunity_setter,\n",
    ")"
   ]
  },
  {
   "cell_type": "markdown",
   "metadata": {},
   "source": [
    "## Select config file"
   ]
  },
  {
   "cell_type": "markdown",
   "metadata": {},
   "source": [
    "Before running the simualtion we must select the config file which defines how the world is set up and the simualtor will work. Specifically, the condif file specifies which activities will be included, how long we'll run the simualtion for, what the initial starting day will be and what the structure of weekdays and weekends will look like (if different)"
   ]
  },
  {
   "cell_type": "code",
   "execution_count": 49,
   "metadata": {},
   "outputs": [],
   "source": [
    "CONFIG_PATH = Config_File_Path"
   ]
  },
  {
   "cell_type": "markdown",
   "metadata": {},
   "source": [
    "# Initialise activities"
   ]
  },
  {
   "cell_type": "markdown",
   "metadata": {},
   "source": [
    "The final step to intialising the simulator class which brings all of this together is to inialise all the activity distirbutors (the term 'leisure' is a legacy of the original version of this code used for modelling COVID-19 in the UK). This will mean that people know where they can go at and given time."
   ]
  },
  {
   "cell_type": "code",
   "execution_count": 50,
   "metadata": {},
   "outputs": [
    {
     "name": "stdout",
     "output_type": "stream",
     "text": [
      "2022-07-27 17:14:00,816 - leisure - INFO - Linking households and care homes for visits\n",
      "2022-07-27 17:14:00,817 - leisure - INFO - Done\n",
      "2022-07-27 17:14:00,818 - leisure - INFO - Distributing social venues to areas\n",
      "2022-07-27 17:14:00,819 - leisure - INFO - Distributed in 0 of 65 areas.\n",
      "2022-07-27 17:14:00,939 - leisure - INFO - Distributed in 65 of 65 areas.\n"
     ]
    }
   ],
   "source": [
    "leisure = generate_leisure_for_config(world=world, config_filename=CONFIG_PATH)\n",
    "# associate social activities to shelters\n",
    "leisure.distribute_social_venues_to_areas(world.areas, world.super_areas)"
   ]
  },
  {
   "cell_type": "markdown",
   "metadata": {},
   "source": [
    "# Define a contact Tracker"
   ]
  },
  {
   "cell_type": "markdown",
   "metadata": {},
   "source": [
    "We define a list of venues in which to track. This is fed into JUNE's tracker class. We can specify tracking contacts by sex, the type of possible contacts \"1D\" (simulated contacts based on the input interaction matrices) or \"All\" (everyone at each venue contacts each other). Lastly we can find a subset of venues upto N but defining MaxVenueTrackingSize=N."
   ]
  },
  {
   "cell_type": "code",
   "execution_count": 51,
   "metadata": {},
   "outputs": [],
   "source": [
    "group_types=[\n",
    "        world.hospitals,\n",
    "        world.distribution_centers,\n",
    "        world.communals,\n",
    "        world.female_communals,\n",
    "        world.pump_latrines,\n",
    "        world.religiouss,\n",
    "        world.play_groups,\n",
    "        world.e_vouchers,\n",
    "        world.n_f_distribution_centers,\n",
    "        world.shelters,\n",
    "        world.learning_centers,\n",
    "        world.informal_works,\n",
    "        world.isolation_units,\n",
    "    ]\n",
    "\n",
    "tracker = Tracker(\n",
    "    world=world,\n",
    "    record_path=Results_Path,\n",
    "    group_types=group_types,\n",
    "    load_interactions_path=Interactions_File_Path,\n",
    "    contact_sexes=[\"unisex\", \"male\", \"female\"],\n",
    "    Tracker_Contact_Type=[\"1D\", \"All\"],\n",
    "    MaxVenueTrackingSize = 500\n",
    ")"
   ]
  },
  {
   "cell_type": "markdown",
   "metadata": {},
   "source": [
    "# Initialise simulator and run"
   ]
  },
  {
   "cell_type": "markdown",
   "metadata": {},
   "source": [
    "The recorder is defined which will log all interactions and infections in the simualation for later analysis. The `record_path` can be changed to any path where you want the recorded data to be stored."
   ]
  },
  {
   "cell_type": "code",
   "execution_count": 52,
   "metadata": {},
   "outputs": [],
   "source": [
    "record = Record(\n",
    "    record_path=Results_Path, \n",
    "    record_static_data=True\n",
    ")\n"
   ]
  },
  {
   "cell_type": "markdown",
   "metadata": {},
   "source": [
    "The simulator is defined with all the different necessary components we have built up so far"
   ]
  },
  {
   "cell_type": "code",
   "execution_count": 53,
   "metadata": {},
   "outputs": [],
   "source": [
    "Simulator.ActivityManager = CampActivityManager\n",
    "simulator = Simulator.from_file(\n",
    "    world=world,\n",
    "    interaction=interaction,\n",
    "    tracker=tracker,\n",
    "    leisure=leisure,\n",
    "    policies=policies,\n",
    "    config_filename=CONFIG_PATH,\n",
    "    epidemiology=epidemiology,\n",
    "    record=record,\n",
    ")"
   ]
  },
  {
   "cell_type": "markdown",
   "metadata": {},
   "source": [
    "Finally we can run a small simualation"
   ]
  },
  {
   "cell_type": "code",
   "execution_count": 54,
   "metadata": {
    "scrolled": true
   },
   "outputs": [
    {
     "name": "stdout",
     "output_type": "stream",
     "text": [
      "2022-07-27 17:14:01,958 - simulator - INFO - Starting simulation for 7 days at day 2020-05-24 09:00:00,to run for 7 days\n",
      "2022-07-27 17:14:02,038 - seed - INFO - Seeding Covid19 infections at date 2020-05-24\n",
      "2022-07-27 17:14:02,599 - rank - INFO - Next timestep\n",
      "2022-07-27 17:14:02,600 - simulator - INFO - ==================== timestep ====================\n",
      "2022-07-27 17:14:02,815 - rank - INFO - Rank 0 -- move_people -- 0.21400512900436297\n",
      "2022-07-27 17:14:02,816 - rank - INFO - Rank 0 -- move_people_waiting -- 9.348004823550582e-06\n",
      "2022-07-27 17:14:02,817 - activity_manager - INFO - CMS: People COMS for rank 0/1 - 4.241999704390764e-06,3.814697265625e-06 - 2020-05-24 09:00:00\n",
      "2022-07-27 17:14:02,826 - simulator - INFO - Info for rank 0, Date = 2020-05-24 09:00:00, number of deaths =  0, number of infected = 222\n",
      "2022-07-27 17:14:02,907 - rank - INFO - Rank 0 -- interaction -- 0.08891357900574803\n",
      "2022-07-27 17:14:02,908 - tracker - INFO - Rank 0 -- tracking contacts -- 8 of 8 of type hospital\n",
      "2022-07-27 17:14:02,915 - tracker - INFO - Rank 0 -- tracking contacts -- 8 of 8 of type isolation_unit\n",
      "2022-07-27 17:14:02,920 - tracker - INFO - Rank 0 -- tracking contacts -- 389 of 389 of type learning_center\n",
      "2022-07-27 17:14:04,023 - tracker - INFO - Rank 0 -- tracking contacts -- 500 of 3272 of type shelter\n",
      "2022-07-27 17:14:04,754 - tracker - INFO - Rank 0 -- tracking contacts -- 115 of 115 of type communal\n",
      "2022-07-27 17:14:04,758 - tracker - INFO - Rank 0 -- tracking contacts -- 21 of 21 of type distribution_center\n",
      "2022-07-27 17:14:04,759 - tracker - INFO - Rank 0 -- tracking contacts -- 7 of 7 of type e_voucher\n",
      "2022-07-27 17:14:04,760 - tracker - INFO - Rank 0 -- tracking contacts -- 67 of 67 of type female_communal\n",
      "2022-07-27 17:14:04,761 - tracker - INFO - Rank 0 -- tracking contacts -- 80 of 80 of type informal_work\n",
      "2022-07-27 17:14:04,764 - tracker - INFO - Rank 0 -- tracking contacts -- 41 of 41 of type n_f_distribution_center\n",
      "2022-07-27 17:14:04,769 - tracker - INFO - Rank 0 -- tracking contacts -- 500 of 540 of type play_group\n",
      "2022-07-27 17:14:04,779 - tracker - INFO - Rank 0 -- tracking contacts -- 82 of 82 of type pump_latrine\n",
      "2022-07-27 17:14:04,788 - tracker - INFO - Rank 0 -- tracking contacts -- 500 of 2065 of type religious\n",
      "2022-07-27 17:14:04,800 - rank - INFO - Rank 0 -- tracker -- 1.8917781810159795\n",
      "2022-07-27 17:14:04,804 - epidemiology - INFO - CMS: Infection COMS-v2 for rank 0/1(2)0.0031230589956976473,0.0031232833862304688 - 2020-05-24 09:00:00\n",
      "2022-07-27 17:14:04,953 - rank - INFO - Rank 0 -- interaction_waiting -- 8.953997166827321e-06\n",
      "2022-07-27 17:14:04,968 - simulator - INFO - CMS: Timestep for rank 0/1 - 2.367370995983947,2.3673720359802246 - 2020-05-24 09:00:00\n",
      "\n",
      "2022-07-27 17:14:04,969 - rank - INFO - Next timestep\n",
      "2022-07-27 17:14:04,970 - simulator - INFO - ==================== timestep ====================\n",
      "2022-07-27 17:14:06,304 - rank - INFO - Rank 0 -- move_people -- 1.3324415610113647\n",
      "2022-07-27 17:14:06,304 - rank - INFO - Rank 0 -- move_people_waiting -- 6.4899795688688755e-06\n",
      "2022-07-27 17:14:06,305 - activity_manager - INFO - CMS: People COMS for rank 0/1 - 3.4599797800183296e-06,2.86102294921875e-06 - 2020-05-24 11:00:00\n",
      "2022-07-27 17:14:06,310 - simulator - INFO - Info for rank 0, Date = 2020-05-24 11:00:00, number of deaths =  0, number of infected = 222\n",
      "2022-07-27 17:14:06,431 - rank - INFO - Rank 0 -- interaction -- 0.12543866600026377\n",
      "2022-07-27 17:14:06,432 - tracker - INFO - Rank 0 -- tracking contacts -- 8 of 8 of type hospital\n",
      "2022-07-27 17:14:06,440 - tracker - INFO - Rank 0 -- tracking contacts -- 8 of 8 of type isolation_unit\n",
      "2022-07-27 17:14:06,442 - tracker - INFO - Rank 0 -- tracking contacts -- 389 of 389 of type learning_center\n",
      "2022-07-27 17:14:07,296 - tracker - INFO - Rank 0 -- tracking contacts -- 500 of 3272 of type shelter\n",
      "2022-07-27 17:14:07,532 - tracker - INFO - Rank 0 -- tracking contacts -- 115 of 115 of type communal\n",
      "2022-07-27 17:14:07,555 - tracker - INFO - Rank 0 -- tracking contacts -- 21 of 21 of type distribution_center\n",
      "2022-07-27 17:14:07,593 - tracker - INFO - Rank 0 -- tracking contacts -- 7 of 7 of type e_voucher\n",
      "2022-07-27 17:14:07,607 - tracker - INFO - Rank 0 -- tracking contacts -- 67 of 67 of type female_communal\n",
      "2022-07-27 17:14:07,662 - tracker - INFO - Rank 0 -- tracking contacts -- 80 of 80 of type informal_work\n",
      "2022-07-27 17:14:07,731 - tracker - INFO - Rank 0 -- tracking contacts -- 41 of 41 of type n_f_distribution_center\n",
      "2022-07-27 17:14:07,836 - tracker - INFO - Rank 0 -- tracking contacts -- 500 of 540 of type play_group\n",
      "2022-07-27 17:14:08,138 - tracker - INFO - Rank 0 -- tracking contacts -- 82 of 82 of type pump_latrine\n",
      "2022-07-27 17:14:12,003 - tracker - INFO - Rank 0 -- tracking contacts -- 500 of 2065 of type religious\n",
      "2022-07-27 17:14:12,627 - rank - INFO - Rank 0 -- tracker -- 6.19446290898486\n",
      "2022-07-27 17:14:12,630 - epidemiology - INFO - CMS: Infection COMS-v2 for rank 0/1(2)0.0005476709920912981,0.0005474090576171875 - 2020-05-24 11:00:00\n",
      "2022-07-27 17:14:12,670 - rank - INFO - Rank 0 -- interaction_waiting -- 6.988004315644503e-06\n",
      "2022-07-27 17:14:12,687 - simulator - INFO - CMS: Timestep for rank 0/1 - 7.715798205987085,7.715798616409302 - 2020-05-24 11:00:00\n",
      "\n",
      "2022-07-27 17:14:12,688 - rank - INFO - Next timestep\n",
      "2022-07-27 17:14:12,689 - simulator - INFO - ==================== timestep ====================\n",
      "2022-07-27 17:14:13,524 - rank - INFO - Rank 0 -- move_people -- 0.8341756979934871\n",
      "2022-07-27 17:14:13,525 - rank - INFO - Rank 0 -- move_people_waiting -- 1.1443014955148101e-05\n",
      "2022-07-27 17:14:13,526 - activity_manager - INFO - CMS: People COMS for rank 0/1 - 4.9219815991818905e-06,4.5299530029296875e-06 - 2020-05-24 13:00:00\n",
      "2022-07-27 17:14:13,538 - simulator - INFO - Info for rank 0, Date = 2020-05-24 13:00:00, number of deaths =  0, number of infected = 224\n",
      "2022-07-27 17:14:13,708 - rank - INFO - Rank 0 -- interaction -- 0.17756989601184614\n",
      "2022-07-27 17:14:13,709 - tracker - INFO - Rank 0 -- tracking contacts -- 8 of 8 of type hospital\n",
      "2022-07-27 17:14:13,717 - tracker - INFO - Rank 0 -- tracking contacts -- 8 of 8 of type isolation_unit\n",
      "2022-07-27 17:14:13,719 - tracker - INFO - Rank 0 -- tracking contacts -- 389 of 389 of type learning_center\n",
      "2022-07-27 17:14:14,811 - tracker - INFO - Rank 0 -- tracking contacts -- 500 of 3272 of type shelter\n",
      "2022-07-27 17:14:15,069 - tracker - INFO - Rank 0 -- tracking contacts -- 115 of 115 of type communal\n",
      "2022-07-27 17:14:15,094 - tracker - INFO - Rank 0 -- tracking contacts -- 21 of 21 of type distribution_center\n",
      "2022-07-27 17:14:15,150 - tracker - INFO - Rank 0 -- tracking contacts -- 7 of 7 of type e_voucher\n",
      "2022-07-27 17:14:15,174 - tracker - INFO - Rank 0 -- tracking contacts -- 67 of 67 of type female_communal\n",
      "2022-07-27 17:14:15,237 - tracker - INFO - Rank 0 -- tracking contacts -- 80 of 80 of type informal_work\n",
      "2022-07-27 17:14:15,316 - tracker - INFO - Rank 0 -- tracking contacts -- 41 of 41 of type n_f_distribution_center\n",
      "2022-07-27 17:14:15,443 - tracker - INFO - Rank 0 -- tracking contacts -- 500 of 540 of type play_group\n",
      "2022-07-27 17:14:15,834 - tracker - INFO - Rank 0 -- tracking contacts -- 82 of 82 of type pump_latrine\n",
      "2022-07-27 17:14:20,018 - tracker - INFO - Rank 0 -- tracking contacts -- 500 of 2065 of type religious\n",
      "2022-07-27 17:14:20,651 - rank - INFO - Rank 0 -- tracker -- 6.941948227991816\n",
      "2022-07-27 17:14:20,654 - epidemiology - INFO - CMS: Infection COMS-v2 for rank 0/1(2)0.0005612200184259564,0.0005612373352050781 - 2020-05-24 13:00:00\n",
      "2022-07-27 17:14:20,697 - rank - INFO - Rank 0 -- interaction_waiting -- 1.0885996744036674e-05\n",
      "2022-07-27 17:14:20,718 - simulator - INFO - CMS: Timestep for rank 0/1 - 8.028122949006502,8.028124809265137 - 2020-05-24 13:00:00\n",
      "\n",
      "2022-07-27 17:14:20,720 - rank - INFO - Next timestep\n",
      "2022-07-27 17:14:20,720 - simulator - INFO - ==================== timestep ====================\n",
      "2022-07-27 17:14:21,599 - rank - INFO - Rank 0 -- move_people -- 0.8775557840126567\n",
      "2022-07-27 17:14:21,600 - rank - INFO - Rank 0 -- move_people_waiting -- 8.557981345802546e-06\n",
      "2022-07-27 17:14:21,601 - activity_manager - INFO - CMS: People COMS for rank 0/1 - 4.375993739813566e-06,4.0531158447265625e-06 - 2020-05-24 15:00:00\n"
     ]
    },
    {
     "name": "stdout",
     "output_type": "stream",
     "text": [
      "2022-07-27 17:14:21,608 - simulator - INFO - Info for rank 0, Date = 2020-05-24 15:00:00, number of deaths =  0, number of infected = 226\n",
      "2022-07-27 17:14:21,811 - rank - INFO - Rank 0 -- interaction -- 0.20855413100798614\n",
      "2022-07-27 17:14:21,812 - tracker - INFO - Rank 0 -- tracking contacts -- 8 of 8 of type hospital\n",
      "2022-07-27 17:14:21,822 - tracker - INFO - Rank 0 -- tracking contacts -- 8 of 8 of type isolation_unit\n",
      "2022-07-27 17:14:21,824 - tracker - INFO - Rank 0 -- tracking contacts -- 389 of 389 of type learning_center\n",
      "2022-07-27 17:14:22,889 - tracker - INFO - Rank 0 -- tracking contacts -- 500 of 3272 of type shelter\n",
      "2022-07-27 17:14:23,160 - tracker - INFO - Rank 0 -- tracking contacts -- 115 of 115 of type communal\n",
      "2022-07-27 17:14:23,187 - tracker - INFO - Rank 0 -- tracking contacts -- 21 of 21 of type distribution_center\n",
      "2022-07-27 17:14:23,249 - tracker - INFO - Rank 0 -- tracking contacts -- 7 of 7 of type e_voucher\n",
      "2022-07-27 17:14:23,272 - tracker - INFO - Rank 0 -- tracking contacts -- 67 of 67 of type female_communal\n",
      "2022-07-27 17:14:23,331 - tracker - INFO - Rank 0 -- tracking contacts -- 80 of 80 of type informal_work\n",
      "2022-07-27 17:14:23,405 - tracker - INFO - Rank 0 -- tracking contacts -- 41 of 41 of type n_f_distribution_center\n",
      "2022-07-27 17:14:23,539 - tracker - INFO - Rank 0 -- tracking contacts -- 500 of 540 of type play_group\n",
      "2022-07-27 17:14:23,907 - tracker - INFO - Rank 0 -- tracking contacts -- 82 of 82 of type pump_latrine\n",
      "2022-07-27 17:14:28,466 - tracker - INFO - Rank 0 -- tracking contacts -- 500 of 2065 of type religious\n",
      "2022-07-27 17:14:28,981 - rank - INFO - Rank 0 -- tracker -- 7.168875489995116\n",
      "2022-07-27 17:14:28,983 - epidemiology - INFO - CMS: Infection COMS-v2 for rank 0/1(2)0.00027293601306155324,0.00027251243591308594 - 2020-05-24 15:00:00\n",
      "2022-07-27 17:14:29,035 - rank - INFO - Rank 0 -- interaction_waiting -- 6.5019994508475065e-06\n",
      "2022-07-27 17:14:29,050 - simulator - INFO - CMS: Timestep for rank 0/1 - 8.328650056995684,8.328650712966919 - 2020-05-24 15:00:00\n",
      "\n",
      "2022-07-27 17:14:29,051 - rank - INFO - Next timestep\n",
      "2022-07-27 17:14:29,052 - simulator - INFO - ==================== timestep ====================\n",
      "2022-07-27 17:14:29,943 - rank - INFO - Rank 0 -- move_people -- 0.8901809560193215\n",
      "2022-07-27 17:14:29,944 - rank - INFO - Rank 0 -- move_people_waiting -- 6.799993570894003e-06\n",
      "2022-07-27 17:14:29,944 - activity_manager - INFO - CMS: People COMS for rank 0/1 - 3.7990103010088205e-06,3.814697265625e-06 - 2020-05-24 17:00:00\n",
      "2022-07-27 17:14:29,952 - simulator - INFO - Info for rank 0, Date = 2020-05-24 17:00:00, number of deaths =  0, number of infected = 228\n",
      "2022-07-27 17:14:30,112 - rank - INFO - Rank 0 -- interaction -- 0.16720399100449868\n",
      "2022-07-27 17:14:30,113 - tracker - INFO - Rank 0 -- tracking contacts -- 8 of 8 of type hospital\n",
      "2022-07-27 17:14:30,114 - tracker - INFO - Rank 0 -- tracking contacts -- 8 of 8 of type isolation_unit\n",
      "2022-07-27 17:14:30,118 - tracker - INFO - Rank 0 -- tracking contacts -- 389 of 389 of type learning_center\n",
      "2022-07-27 17:14:30,133 - tracker - INFO - Rank 0 -- tracking contacts -- 500 of 3272 of type shelter\n",
      "2022-07-27 17:14:30,445 - tracker - INFO - Rank 0 -- tracking contacts -- 115 of 115 of type communal\n",
      "2022-07-27 17:14:30,449 - tracker - INFO - Rank 0 -- tracking contacts -- 21 of 21 of type distribution_center\n",
      "2022-07-27 17:14:30,514 - tracker - INFO - Rank 0 -- tracking contacts -- 7 of 7 of type e_voucher\n",
      "2022-07-27 17:14:30,534 - tracker - INFO - Rank 0 -- tracking contacts -- 67 of 67 of type female_communal\n",
      "2022-07-27 17:14:30,537 - tracker - INFO - Rank 0 -- tracking contacts -- 80 of 80 of type informal_work\n",
      "2022-07-27 17:14:30,621 - tracker - INFO - Rank 0 -- tracking contacts -- 41 of 41 of type n_f_distribution_center\n",
      "2022-07-27 17:14:30,840 - tracker - INFO - Rank 0 -- tracking contacts -- 500 of 540 of type play_group\n",
      "2022-07-27 17:14:31,269 - tracker - INFO - Rank 0 -- tracking contacts -- 82 of 82 of type pump_latrine\n",
      "2022-07-27 17:14:35,877 - tracker - INFO - Rank 0 -- tracking contacts -- 500 of 2065 of type religious\n",
      "2022-07-27 17:14:36,624 - rank - INFO - Rank 0 -- tracker -- 6.511110343009932\n",
      "2022-07-27 17:14:36,629 - epidemiology - INFO - CMS: Infection COMS-v2 for rank 0/1(2)0.0008725379884708673,0.0008723735809326172 - 2020-05-24 17:00:00\n",
      "2022-07-27 17:14:36,677 - rank - INFO - Rank 0 -- interaction_waiting -- 8.526985766366124e-06\n",
      "2022-07-27 17:14:36,700 - simulator - INFO - CMS: Timestep for rank 0/1 - 7.647446602000855,7.647447824478149 - 2020-05-24 17:00:00\n",
      "\n",
      "2022-07-27 17:14:36,701 - rank - INFO - Next timestep\n",
      "2022-07-27 17:14:36,702 - simulator - INFO - ==================== timestep ====================\n",
      "2022-07-27 17:14:36,911 - rank - INFO - Rank 0 -- move_people -- 0.20807645400054753\n",
      "2022-07-27 17:14:36,912 - rank - INFO - Rank 0 -- move_people_waiting -- 7.793016266077757e-06\n",
      "2022-07-27 17:14:36,912 - activity_manager - INFO - CMS: People COMS for rank 0/1 - 3.2719981390982866e-06,3.0994415283203125e-06 - 2020-05-24 19:00:00\n",
      "2022-07-27 17:14:36,918 - simulator - INFO - Info for rank 0, Date = 2020-05-24 19:00:00, number of deaths =  0, number of infected = 235\n",
      "2022-07-27 17:14:36,997 - rank - INFO - Rank 0 -- interaction -- 0.08445498498622328\n",
      "2022-07-27 17:14:36,998 - tracker - INFO - Rank 0 -- tracking contacts -- 8 of 8 of type hospital\n",
      "2022-07-27 17:14:37,000 - tracker - INFO - Rank 0 -- tracking contacts -- 8 of 8 of type isolation_unit\n",
      "2022-07-27 17:14:37,003 - tracker - INFO - Rank 0 -- tracking contacts -- 389 of 389 of type learning_center\n",
      "2022-07-27 17:14:37,030 - tracker - INFO - Rank 0 -- tracking contacts -- 500 of 3272 of type shelter\n",
      "2022-07-27 17:14:38,256 - tracker - INFO - Rank 0 -- tracking contacts -- 115 of 115 of type communal\n",
      "2022-07-27 17:14:38,259 - tracker - INFO - Rank 0 -- tracking contacts -- 21 of 21 of type distribution_center\n",
      "2022-07-27 17:14:38,260 - tracker - INFO - Rank 0 -- tracking contacts -- 7 of 7 of type e_voucher\n",
      "2022-07-27 17:14:38,262 - tracker - INFO - Rank 0 -- tracking contacts -- 67 of 67 of type female_communal\n",
      "2022-07-27 17:14:38,264 - tracker - INFO - Rank 0 -- tracking contacts -- 80 of 80 of type informal_work\n",
      "2022-07-27 17:14:38,267 - tracker - INFO - Rank 0 -- tracking contacts -- 41 of 41 of type n_f_distribution_center\n",
      "2022-07-27 17:14:38,270 - tracker - INFO - Rank 0 -- tracking contacts -- 500 of 540 of type play_group\n",
      "2022-07-27 17:14:38,280 - tracker - INFO - Rank 0 -- tracking contacts -- 82 of 82 of type pump_latrine\n",
      "2022-07-27 17:14:38,304 - tracker - INFO - Rank 0 -- tracking contacts -- 500 of 2065 of type religious\n",
      "2022-07-27 17:14:38,318 - rank - INFO - Rank 0 -- tracker -- 1.319529959000647\n",
      "2022-07-27 17:14:38,331 - epidemiology - INFO - CMS: Infection COMS-v2 for rank 0/1(2)0.0004692210059147328,0.00046896934509277344 - 2020-05-24 19:00:00\n",
      "2022-07-27 17:14:38,386 - rank - INFO - Rank 0 -- interaction_waiting -- 8.31700162962079e-06\n",
      "2022-07-27 17:14:38,406 - simulator - INFO - CMS: Timestep for rank 0/1 - 1.7027762279903982,1.7027771472930908 - 2020-05-24 19:00:00\n",
      "\n",
      "2022-07-27 17:14:38,410 - rank - INFO - Next timestep\n",
      "2022-07-27 17:14:38,411 - simulator - INFO - ==================== timestep ====================\n",
      "2022-07-27 17:14:38,654 - rank - INFO - Rank 0 -- move_people -- 0.24202843898092397\n",
      "2022-07-27 17:14:38,655 - rank - INFO - Rank 0 -- move_people_waiting -- 6.374000804498792e-06\n",
      "2022-07-27 17:14:38,656 - activity_manager - INFO - CMS: People COMS for rank 0/1 - 4.1530001908540726e-06,3.0994415283203125e-06 - 2020-05-25 09:00:00\n",
      "2022-07-27 17:14:38,665 - simulator - INFO - Info for rank 0, Date = 2020-05-25 09:00:00, number of deaths =  0, number of infected = 251\n",
      "2022-07-27 17:14:38,748 - rank - INFO - Rank 0 -- interaction -- 0.08982426900183782\n",
      "2022-07-27 17:14:44,799 - tracker - INFO - Rank 0 -- tracking contacts -- 8 of 8 of type hospital\n",
      "2022-07-27 17:14:44,806 - tracker - INFO - Rank 0 -- tracking contacts -- 8 of 8 of type isolation_unit\n",
      "2022-07-27 17:14:44,809 - tracker - INFO - Rank 0 -- tracking contacts -- 389 of 389 of type learning_center\n",
      "2022-07-27 17:14:45,824 - tracker - INFO - Rank 0 -- tracking contacts -- 500 of 3272 of type shelter\n"
     ]
    },
    {
     "name": "stdout",
     "output_type": "stream",
     "text": [
      "2022-07-27 17:14:46,544 - tracker - INFO - Rank 0 -- tracking contacts -- 115 of 115 of type communal\n",
      "2022-07-27 17:14:46,546 - tracker - INFO - Rank 0 -- tracking contacts -- 21 of 21 of type distribution_center\n",
      "2022-07-27 17:14:46,548 - tracker - INFO - Rank 0 -- tracking contacts -- 7 of 7 of type e_voucher\n",
      "2022-07-27 17:14:46,550 - tracker - INFO - Rank 0 -- tracking contacts -- 67 of 67 of type female_communal\n",
      "2022-07-27 17:14:46,553 - tracker - INFO - Rank 0 -- tracking contacts -- 80 of 80 of type informal_work\n",
      "2022-07-27 17:14:46,556 - tracker - INFO - Rank 0 -- tracking contacts -- 41 of 41 of type n_f_distribution_center\n",
      "2022-07-27 17:14:46,560 - tracker - INFO - Rank 0 -- tracking contacts -- 500 of 540 of type play_group\n",
      "2022-07-27 17:14:46,571 - tracker - INFO - Rank 0 -- tracking contacts -- 82 of 82 of type pump_latrine\n",
      "2022-07-27 17:14:46,588 - tracker - INFO - Rank 0 -- tracking contacts -- 500 of 2065 of type religious\n",
      "2022-07-27 17:14:46,602 - rank - INFO - Rank 0 -- tracker -- 7.853524650010513\n",
      "2022-07-27 17:14:46,607 - epidemiology - INFO - CMS: Infection COMS-v2 for rank 0/1(2)0.0002532560029067099,0.00025272369384765625 - 2020-05-25 09:00:00\n",
      "2022-07-27 17:14:46,653 - rank - INFO - Rank 0 -- interaction_waiting -- 8.333998266607523e-06\n",
      "2022-07-27 17:14:46,672 - simulator - INFO - CMS: Timestep for rank 0/1 - 8.259674645989435,8.259675741195679 - 2020-05-25 09:00:00\n",
      "\n",
      "2022-07-27 17:14:46,675 - rank - INFO - Next timestep\n",
      "2022-07-27 17:14:46,677 - simulator - INFO - ==================== timestep ====================\n",
      "2022-07-27 17:14:47,499 - rank - INFO - Rank 0 -- move_people -- 0.8209444520180114\n",
      "2022-07-27 17:14:47,501 - rank - INFO - Rank 0 -- move_people_waiting -- 4.51799132861197e-06\n",
      "2022-07-27 17:14:47,502 - activity_manager - INFO - CMS: People COMS for rank 0/1 - 4.336994607001543e-06,3.814697265625e-06 - 2020-05-25 11:00:00\n",
      "2022-07-27 17:14:47,512 - simulator - INFO - Info for rank 0, Date = 2020-05-25 11:00:00, number of deaths =  0, number of infected = 255\n",
      "2022-07-27 17:14:47,684 - rank - INFO - Rank 0 -- interaction -- 0.18111393501749262\n",
      "2022-07-27 17:14:48,922 - tracker - INFO - Rank 0 -- tracking contacts -- 8 of 8 of type hospital\n",
      "2022-07-27 17:14:48,930 - tracker - INFO - Rank 0 -- tracking contacts -- 8 of 8 of type isolation_unit\n",
      "2022-07-27 17:14:48,932 - tracker - INFO - Rank 0 -- tracking contacts -- 389 of 389 of type learning_center\n",
      "2022-07-27 17:14:50,022 - tracker - INFO - Rank 0 -- tracking contacts -- 500 of 3272 of type shelter\n",
      "2022-07-27 17:14:50,245 - tracker - INFO - Rank 0 -- tracking contacts -- 115 of 115 of type communal\n",
      "2022-07-27 17:14:50,267 - tracker - INFO - Rank 0 -- tracking contacts -- 21 of 21 of type distribution_center\n",
      "2022-07-27 17:14:50,319 - tracker - INFO - Rank 0 -- tracking contacts -- 7 of 7 of type e_voucher\n",
      "2022-07-27 17:14:50,343 - tracker - INFO - Rank 0 -- tracking contacts -- 67 of 67 of type female_communal\n",
      "2022-07-27 17:14:50,407 - tracker - INFO - Rank 0 -- tracking contacts -- 80 of 80 of type informal_work\n",
      "2022-07-27 17:14:50,484 - tracker - INFO - Rank 0 -- tracking contacts -- 41 of 41 of type n_f_distribution_center\n",
      "2022-07-27 17:14:50,613 - tracker - INFO - Rank 0 -- tracking contacts -- 500 of 540 of type play_group\n",
      "2022-07-27 17:14:51,019 - tracker - INFO - Rank 0 -- tracking contacts -- 82 of 82 of type pump_latrine\n",
      "2022-07-27 17:14:54,809 - tracker - INFO - Rank 0 -- tracking contacts -- 500 of 2065 of type religious\n",
      "2022-07-27 17:14:55,338 - rank - INFO - Rank 0 -- tracker -- 7.6525655129808\n",
      "2022-07-27 17:14:55,340 - epidemiology - INFO - CMS: Infection COMS-v2 for rank 0/1(2)0.0005236529977992177,0.0005235671997070312 - 2020-05-25 11:00:00\n",
      "2022-07-27 17:14:55,373 - rank - INFO - Rank 0 -- interaction_waiting -- 7.821014150977135e-06\n",
      "2022-07-27 17:14:55,387 - simulator - INFO - CMS: Timestep for rank 0/1 - 8.7085602680163,8.708560705184937 - 2020-05-25 11:00:00\n",
      "\n",
      "2022-07-27 17:14:55,389 - rank - INFO - Next timestep\n",
      "2022-07-27 17:14:55,390 - simulator - INFO - ==================== timestep ====================\n",
      "2022-07-27 17:14:56,054 - rank - INFO - Rank 0 -- move_people -- 0.6626472969946917\n",
      "2022-07-27 17:14:56,055 - rank - INFO - Rank 0 -- move_people_waiting -- 9.553012205287814e-06\n",
      "2022-07-27 17:14:56,055 - activity_manager - INFO - CMS: People COMS for rank 0/1 - 4.672998329624534e-06,4.291534423828125e-06 - 2020-05-25 13:00:00\n",
      "2022-07-27 17:14:56,061 - simulator - INFO - Info for rank 0, Date = 2020-05-25 13:00:00, number of deaths =  0, number of infected = 257\n",
      "2022-07-27 17:14:56,193 - rank - INFO - Rank 0 -- interaction -- 0.1368877729983069\n",
      "2022-07-27 17:14:58,553 - tracker - INFO - Rank 0 -- tracking contacts -- 8 of 8 of type hospital\n",
      "2022-07-27 17:14:58,558 - tracker - INFO - Rank 0 -- tracking contacts -- 8 of 8 of type isolation_unit\n",
      "2022-07-27 17:14:58,560 - tracker - INFO - Rank 0 -- tracking contacts -- 389 of 389 of type learning_center\n",
      "2022-07-27 17:14:59,501 - tracker - INFO - Rank 0 -- tracking contacts -- 500 of 3272 of type shelter\n",
      "2022-07-27 17:14:59,748 - tracker - INFO - Rank 0 -- tracking contacts -- 115 of 115 of type communal\n",
      "2022-07-27 17:14:59,776 - tracker - INFO - Rank 0 -- tracking contacts -- 21 of 21 of type distribution_center\n",
      "2022-07-27 17:14:59,827 - tracker - INFO - Rank 0 -- tracking contacts -- 7 of 7 of type e_voucher\n",
      "2022-07-27 17:14:59,837 - tracker - INFO - Rank 0 -- tracking contacts -- 67 of 67 of type female_communal\n",
      "2022-07-27 17:14:59,884 - tracker - INFO - Rank 0 -- tracking contacts -- 80 of 80 of type informal_work\n",
      "2022-07-27 17:14:59,953 - tracker - INFO - Rank 0 -- tracking contacts -- 41 of 41 of type n_f_distribution_center\n",
      "2022-07-27 17:15:00,062 - tracker - INFO - Rank 0 -- tracking contacts -- 500 of 540 of type play_group\n",
      "2022-07-27 17:15:00,454 - tracker - INFO - Rank 0 -- tracking contacts -- 82 of 82 of type pump_latrine\n",
      "2022-07-27 17:15:04,515 - tracker - INFO - Rank 0 -- tracking contacts -- 500 of 2065 of type religious\n",
      "2022-07-27 17:15:05,134 - rank - INFO - Rank 0 -- tracker -- 8.939876841002842\n",
      "2022-07-27 17:15:05,140 - epidemiology - INFO - CMS: Infection COMS-v2 for rank 0/1(2)0.0008798670023679733,0.0008795261383056641 - 2020-05-25 13:00:00\n",
      "2022-07-27 17:15:05,194 - rank - INFO - Rank 0 -- interaction_waiting -- 8.843024261295795e-06\n",
      "2022-07-27 17:15:05,217 - simulator - INFO - CMS: Timestep for rank 0/1 - 9.825610961997882,9.82561206817627 - 2020-05-25 13:00:00\n",
      "\n",
      "2022-07-27 17:15:05,220 - rank - INFO - Next timestep\n",
      "2022-07-27 17:15:05,221 - simulator - INFO - ==================== timestep ====================\n",
      "2022-07-27 17:15:06,148 - rank - INFO - Rank 0 -- move_people -- 0.9261531920055859\n",
      "2022-07-27 17:15:06,149 - rank - INFO - Rank 0 -- move_people_waiting -- 5.582987796515226e-06\n",
      "2022-07-27 17:15:06,150 - activity_manager - INFO - CMS: People COMS for rank 0/1 - 4.793982952833176e-06,4.0531158447265625e-06 - 2020-05-25 15:00:00\n",
      "2022-07-27 17:15:06,160 - simulator - INFO - Info for rank 0, Date = 2020-05-25 15:00:00, number of deaths =  0, number of infected = 265\n",
      "2022-07-27 17:15:06,322 - rank - INFO - Rank 0 -- interaction -- 0.17054573399946094\n",
      "2022-07-27 17:15:10,830 - tracker - INFO - Rank 0 -- tracking contacts -- 8 of 8 of type hospital\n",
      "2022-07-27 17:15:10,846 - tracker - INFO - Rank 0 -- tracking contacts -- 8 of 8 of type isolation_unit\n",
      "2022-07-27 17:15:10,848 - tracker - INFO - Rank 0 -- tracking contacts -- 389 of 389 of type learning_center\n",
      "2022-07-27 17:15:11,947 - tracker - INFO - Rank 0 -- tracking contacts -- 500 of 3272 of type shelter\n",
      "2022-07-27 17:15:12,210 - tracker - INFO - Rank 0 -- tracking contacts -- 115 of 115 of type communal\n",
      "2022-07-27 17:15:12,244 - tracker - INFO - Rank 0 -- tracking contacts -- 21 of 21 of type distribution_center\n",
      "2022-07-27 17:15:12,288 - tracker - INFO - Rank 0 -- tracking contacts -- 7 of 7 of type e_voucher\n",
      "2022-07-27 17:15:12,324 - tracker - INFO - Rank 0 -- tracking contacts -- 67 of 67 of type female_communal\n",
      "2022-07-27 17:15:12,411 - tracker - INFO - Rank 0 -- tracking contacts -- 80 of 80 of type informal_work\n",
      "2022-07-27 17:15:12,504 - tracker - INFO - Rank 0 -- tracking contacts -- 41 of 41 of type n_f_distribution_center\n"
     ]
    },
    {
     "name": "stdout",
     "output_type": "stream",
     "text": [
      "2022-07-27 17:15:12,667 - tracker - INFO - Rank 0 -- tracking contacts -- 500 of 540 of type play_group\n",
      "2022-07-27 17:15:13,022 - tracker - INFO - Rank 0 -- tracking contacts -- 82 of 82 of type pump_latrine\n",
      "2022-07-27 17:15:16,918 - tracker - INFO - Rank 0 -- tracking contacts -- 500 of 2065 of type religious\n",
      "2022-07-27 17:15:17,498 - rank - INFO - Rank 0 -- tracker -- 11.174534397985553\n",
      "2022-07-27 17:15:17,503 - epidemiology - INFO - CMS: Infection COMS-v2 for rank 0/1(2)0.0011348529951646924,0.001135110855102539 - 2020-05-25 15:00:00\n",
      "2022-07-27 17:15:17,544 - rank - INFO - Rank 0 -- interaction_waiting -- 9.037001291289926e-06\n",
      "2022-07-27 17:15:17,559 - simulator - INFO - CMS: Timestep for rank 0/1 - 12.336762507999083,12.336763381958008 - 2020-05-25 15:00:00\n",
      "\n",
      "2022-07-27 17:15:17,563 - rank - INFO - Next timestep\n",
      "2022-07-27 17:15:17,564 - simulator - INFO - ==================== timestep ====================\n",
      "2022-07-27 17:15:18,387 - rank - INFO - Rank 0 -- move_people -- 0.8219051720225252\n",
      "2022-07-27 17:15:18,388 - rank - INFO - Rank 0 -- move_people_waiting -- 5.856010830029845e-06\n",
      "2022-07-27 17:15:18,388 - activity_manager - INFO - CMS: People COMS for rank 0/1 - 3.288994776085019e-06,3.0994415283203125e-06 - 2020-05-25 17:00:00\n",
      "2022-07-27 17:15:18,395 - simulator - INFO - Info for rank 0, Date = 2020-05-25 17:00:00, number of deaths =  0, number of infected = 273\n",
      "2022-07-27 17:15:18,589 - rank - INFO - Rank 0 -- interaction -- 0.19940964199486189\n",
      "2022-07-27 17:15:23,327 - tracker - INFO - Rank 0 -- tracking contacts -- 8 of 8 of type hospital\n",
      "2022-07-27 17:15:23,328 - tracker - INFO - Rank 0 -- tracking contacts -- 8 of 8 of type isolation_unit\n",
      "2022-07-27 17:15:23,330 - tracker - INFO - Rank 0 -- tracking contacts -- 389 of 389 of type learning_center\n",
      "2022-07-27 17:15:23,344 - tracker - INFO - Rank 0 -- tracking contacts -- 500 of 3272 of type shelter\n",
      "2022-07-27 17:15:23,603 - tracker - INFO - Rank 0 -- tracking contacts -- 115 of 115 of type communal\n",
      "2022-07-27 17:15:23,605 - tracker - INFO - Rank 0 -- tracking contacts -- 21 of 21 of type distribution_center\n",
      "2022-07-27 17:15:23,657 - tracker - INFO - Rank 0 -- tracking contacts -- 7 of 7 of type e_voucher\n",
      "2022-07-27 17:15:23,674 - tracker - INFO - Rank 0 -- tracking contacts -- 67 of 67 of type female_communal\n",
      "2022-07-27 17:15:23,677 - tracker - INFO - Rank 0 -- tracking contacts -- 80 of 80 of type informal_work\n",
      "2022-07-27 17:15:23,770 - tracker - INFO - Rank 0 -- tracking contacts -- 41 of 41 of type n_f_distribution_center\n",
      "2022-07-27 17:15:23,909 - tracker - INFO - Rank 0 -- tracking contacts -- 500 of 540 of type play_group\n",
      "2022-07-27 17:15:24,405 - tracker - INFO - Rank 0 -- tracking contacts -- 82 of 82 of type pump_latrine\n",
      "2022-07-27 17:15:29,527 - tracker - INFO - Rank 0 -- tracking contacts -- 500 of 2065 of type religious\n",
      "2022-07-27 17:15:30,281 - rank - INFO - Rank 0 -- tracker -- 11.69135770201683\n",
      "2022-07-27 17:15:30,288 - epidemiology - INFO - CMS: Infection COMS-v2 for rank 0/1(2)0.0006598900072276592,0.0006594657897949219 - 2020-05-25 17:00:00\n",
      "2022-07-27 17:15:30,339 - rank - INFO - Rank 0 -- interaction_waiting -- 7.625989383086562e-06\n",
      "2022-07-27 17:15:30,360 - simulator - INFO - CMS: Timestep for rank 0/1 - 12.794534152984852,12.794534921646118 - 2020-05-25 17:00:00\n",
      "\n",
      "2022-07-27 17:15:30,363 - rank - INFO - Next timestep\n",
      "2022-07-27 17:15:30,364 - simulator - INFO - ==================== timestep ====================\n",
      "2022-07-27 17:15:30,599 - rank - INFO - Rank 0 -- move_people -- 0.23395047802478075\n",
      "2022-07-27 17:15:30,600 - rank - INFO - Rank 0 -- move_people_waiting -- 4.746980266645551e-06\n",
      "2022-07-27 17:15:30,600 - activity_manager - INFO - CMS: People COMS for rank 0/1 - 4.736008122563362e-06,4.0531158447265625e-06 - 2020-05-25 19:00:00\n",
      "2022-07-27 17:15:30,608 - simulator - INFO - Info for rank 0, Date = 2020-05-25 19:00:00, number of deaths =  0, number of infected = 282\n",
      "2022-07-27 17:15:30,722 - rank - INFO - Rank 0 -- interaction -- 0.12092873599613085\n",
      "2022-07-27 17:15:36,727 - tracker - INFO - Rank 0 -- tracking contacts -- 8 of 8 of type hospital\n",
      "2022-07-27 17:15:36,728 - tracker - INFO - Rank 0 -- tracking contacts -- 8 of 8 of type isolation_unit\n",
      "2022-07-27 17:15:36,731 - tracker - INFO - Rank 0 -- tracking contacts -- 389 of 389 of type learning_center\n",
      "2022-07-27 17:15:36,756 - tracker - INFO - Rank 0 -- tracking contacts -- 500 of 3272 of type shelter\n",
      "2022-07-27 17:15:38,126 - tracker - INFO - Rank 0 -- tracking contacts -- 115 of 115 of type communal\n",
      "2022-07-27 17:15:38,131 - tracker - INFO - Rank 0 -- tracking contacts -- 21 of 21 of type distribution_center\n",
      "2022-07-27 17:15:38,132 - tracker - INFO - Rank 0 -- tracking contacts -- 7 of 7 of type e_voucher\n",
      "2022-07-27 17:15:38,134 - tracker - INFO - Rank 0 -- tracking contacts -- 67 of 67 of type female_communal\n",
      "2022-07-27 17:15:38,137 - tracker - INFO - Rank 0 -- tracking contacts -- 80 of 80 of type informal_work\n",
      "2022-07-27 17:15:38,141 - tracker - INFO - Rank 0 -- tracking contacts -- 41 of 41 of type n_f_distribution_center\n",
      "2022-07-27 17:15:38,145 - tracker - INFO - Rank 0 -- tracking contacts -- 500 of 540 of type play_group\n",
      "2022-07-27 17:15:38,164 - tracker - INFO - Rank 0 -- tracking contacts -- 82 of 82 of type pump_latrine\n",
      "2022-07-27 17:15:38,182 - tracker - INFO - Rank 0 -- tracking contacts -- 500 of 2065 of type religious\n",
      "2022-07-27 17:15:38,196 - rank - INFO - Rank 0 -- tracker -- 7.473072655993747\n",
      "2022-07-27 17:15:38,227 - epidemiology - INFO - CMS: Infection COMS-v2 for rank 0/1(2)0.0018259770004078746,0.0018260478973388672 - 2020-05-25 19:00:00\n",
      "2022-07-27 17:15:38,276 - rank - INFO - Rank 0 -- interaction_waiting -- 1.0042014764621854e-05\n",
      "2022-07-27 17:15:38,300 - simulator - INFO - CMS: Timestep for rank 0/1 - 7.935879019991262,7.935880422592163 - 2020-05-25 19:00:00\n",
      "\n",
      "2022-07-27 17:15:38,304 - rank - INFO - Next timestep\n",
      "2022-07-27 17:15:38,305 - simulator - INFO - ==================== timestep ====================\n",
      "2022-07-27 17:15:38,557 - rank - INFO - Rank 0 -- move_people -- 0.2508423269900959\n",
      "2022-07-27 17:15:38,558 - rank - INFO - Rank 0 -- move_people_waiting -- 9.198993211612105e-06\n",
      "2022-07-27 17:15:38,559 - activity_manager - INFO - CMS: People COMS for rank 0/1 - 3.901019226759672e-06,3.5762786865234375e-06 - 2020-05-26 09:00:00\n",
      "2022-07-27 17:15:38,565 - simulator - INFO - Info for rank 0, Date = 2020-05-26 09:00:00, number of deaths =  0, number of infected = 316\n",
      "2022-07-27 17:15:38,653 - rank - INFO - Rank 0 -- interaction -- 0.09288718202151358\n",
      "2022-07-27 17:15:38,654 - tracker - INFO - Rank 0 -- tracking contacts -- 8 of 8 of type hospital\n",
      "2022-07-27 17:15:38,674 - tracker - INFO - Rank 0 -- tracking contacts -- 8 of 8 of type isolation_unit\n",
      "2022-07-27 17:15:38,677 - tracker - INFO - Rank 0 -- tracking contacts -- 389 of 389 of type learning_center\n",
      "2022-07-27 17:15:39,796 - tracker - INFO - Rank 0 -- tracking contacts -- 500 of 3272 of type shelter\n",
      "2022-07-27 17:15:40,531 - tracker - INFO - Rank 0 -- tracking contacts -- 115 of 115 of type communal\n",
      "2022-07-27 17:15:40,534 - tracker - INFO - Rank 0 -- tracking contacts -- 21 of 21 of type distribution_center\n",
      "2022-07-27 17:15:40,536 - tracker - INFO - Rank 0 -- tracking contacts -- 7 of 7 of type e_voucher\n",
      "2022-07-27 17:15:40,538 - tracker - INFO - Rank 0 -- tracking contacts -- 67 of 67 of type female_communal\n",
      "2022-07-27 17:15:40,542 - tracker - INFO - Rank 0 -- tracking contacts -- 80 of 80 of type informal_work\n",
      "2022-07-27 17:15:40,547 - tracker - INFO - Rank 0 -- tracking contacts -- 41 of 41 of type n_f_distribution_center\n",
      "2022-07-27 17:15:40,551 - tracker - INFO - Rank 0 -- tracking contacts -- 500 of 540 of type play_group\n",
      "2022-07-27 17:15:40,567 - tracker - INFO - Rank 0 -- tracking contacts -- 82 of 82 of type pump_latrine\n",
      "2022-07-27 17:15:40,586 - tracker - INFO - Rank 0 -- tracking contacts -- 500 of 2065 of type religious\n",
      "2022-07-27 17:15:40,600 - rank - INFO - Rank 0 -- tracker -- 1.9458601200021803\n",
      "2022-07-27 17:15:40,607 - epidemiology - INFO - CMS: Infection COMS-v2 for rank 0/1(2)0.0014188539935275912,0.0014188289642333984 - 2020-05-26 09:00:00\n",
      "2022-07-27 17:15:40,663 - rank - INFO - Rank 0 -- interaction_waiting -- 8.592993253841996e-06\n"
     ]
    },
    {
     "name": "stdout",
     "output_type": "stream",
     "text": [
      "2022-07-27 17:15:40,686 - simulator - INFO - CMS: Timestep for rank 0/1 - 2.3791511119925417,2.3791518211364746 - 2020-05-26 09:00:00\n",
      "\n",
      "2022-07-27 17:15:40,689 - rank - INFO - Next timestep\n",
      "2022-07-27 17:15:40,690 - simulator - INFO - ==================== timestep ====================\n",
      "2022-07-27 17:15:41,518 - rank - INFO - Rank 0 -- move_people -- 0.8275064019835554\n",
      "2022-07-27 17:15:41,519 - rank - INFO - Rank 0 -- move_people_waiting -- 7.2160037234425545e-06\n",
      "2022-07-27 17:15:41,520 - activity_manager - INFO - CMS: People COMS for rank 0/1 - 4.478992195799947e-06,4.0531158447265625e-06 - 2020-05-26 11:00:00\n",
      "2022-07-27 17:15:41,530 - simulator - INFO - Info for rank 0, Date = 2020-05-26 11:00:00, number of deaths =  0, number of infected = 322\n",
      "2022-07-27 17:15:41,719 - rank - INFO - Rank 0 -- interaction -- 0.19735325701185502\n",
      "2022-07-27 17:15:41,720 - tracker - INFO - Rank 0 -- tracking contacts -- 8 of 8 of type hospital\n",
      "2022-07-27 17:15:41,730 - tracker - INFO - Rank 0 -- tracking contacts -- 8 of 8 of type isolation_unit\n",
      "2022-07-27 17:15:41,733 - tracker - INFO - Rank 0 -- tracking contacts -- 389 of 389 of type learning_center\n",
      "2022-07-27 17:15:42,717 - tracker - INFO - Rank 0 -- tracking contacts -- 500 of 3272 of type shelter\n",
      "2022-07-27 17:15:42,951 - tracker - INFO - Rank 0 -- tracking contacts -- 115 of 115 of type communal\n",
      "2022-07-27 17:15:42,976 - tracker - INFO - Rank 0 -- tracking contacts -- 21 of 21 of type distribution_center\n",
      "2022-07-27 17:15:43,014 - tracker - INFO - Rank 0 -- tracking contacts -- 7 of 7 of type e_voucher\n",
      "2022-07-27 17:15:43,026 - tracker - INFO - Rank 0 -- tracking contacts -- 67 of 67 of type female_communal\n",
      "2022-07-27 17:15:43,086 - tracker - INFO - Rank 0 -- tracking contacts -- 80 of 80 of type informal_work\n",
      "2022-07-27 17:15:43,158 - tracker - INFO - Rank 0 -- tracking contacts -- 41 of 41 of type n_f_distribution_center\n",
      "2022-07-27 17:15:43,307 - tracker - INFO - Rank 0 -- tracking contacts -- 500 of 540 of type play_group\n",
      "2022-07-27 17:15:43,642 - tracker - INFO - Rank 0 -- tracking contacts -- 82 of 82 of type pump_latrine\n",
      "2022-07-27 17:15:47,223 - tracker - INFO - Rank 0 -- tracking contacts -- 500 of 2065 of type religious\n",
      "2022-07-27 17:15:47,755 - rank - INFO - Rank 0 -- tracker -- 6.034687114995904\n",
      "2022-07-27 17:15:47,762 - epidemiology - INFO - CMS: Infection COMS-v2 for rank 0/1(2)0.0006941750179976225,0.0006940364837646484 - 2020-05-26 11:00:00\n",
      "2022-07-27 17:15:47,799 - rank - INFO - Rank 0 -- interaction_waiting -- 6.439018761739135e-06\n",
      "2022-07-27 17:15:47,815 - simulator - INFO - CMS: Timestep for rank 0/1 - 7.124589548009681,7.1245903968811035 - 2020-05-26 11:00:00\n",
      "\n",
      "2022-07-27 17:15:47,819 - rank - INFO - Next timestep\n",
      "2022-07-27 17:15:47,820 - simulator - INFO - ==================== timestep ====================\n",
      "2022-07-27 17:15:48,684 - rank - INFO - Rank 0 -- move_people -- 0.8626273919944651\n",
      "2022-07-27 17:15:48,685 - rank - INFO - Rank 0 -- move_people_waiting -- 8.956994861364365e-06\n",
      "2022-07-27 17:15:48,686 - activity_manager - INFO - CMS: People COMS for rank 0/1 - 4.9419759307056665e-06,4.76837158203125e-06 - 2020-05-26 13:00:00\n",
      "2022-07-27 17:15:48,693 - simulator - INFO - Info for rank 0, Date = 2020-05-26 13:00:00, number of deaths =  0, number of infected = 338\n",
      "2022-07-27 17:15:48,849 - rank - INFO - Rank 0 -- interaction -- 0.1625564570131246\n",
      "2022-07-27 17:15:48,851 - tracker - INFO - Rank 0 -- tracking contacts -- 8 of 8 of type hospital\n",
      "2022-07-27 17:15:48,859 - tracker - INFO - Rank 0 -- tracking contacts -- 8 of 8 of type isolation_unit\n",
      "2022-07-27 17:15:48,862 - tracker - INFO - Rank 0 -- tracking contacts -- 389 of 389 of type learning_center\n",
      "2022-07-27 17:15:49,934 - tracker - INFO - Rank 0 -- tracking contacts -- 500 of 3272 of type shelter\n",
      "2022-07-27 17:15:50,210 - tracker - INFO - Rank 0 -- tracking contacts -- 115 of 115 of type communal\n",
      "2022-07-27 17:15:50,231 - tracker - INFO - Rank 0 -- tracking contacts -- 21 of 21 of type distribution_center\n",
      "2022-07-27 17:15:50,304 - tracker - INFO - Rank 0 -- tracking contacts -- 7 of 7 of type e_voucher\n",
      "2022-07-27 17:15:50,318 - tracker - INFO - Rank 0 -- tracking contacts -- 67 of 67 of type female_communal\n",
      "2022-07-27 17:15:50,371 - tracker - INFO - Rank 0 -- tracking contacts -- 80 of 80 of type informal_work\n",
      "2022-07-27 17:15:50,441 - tracker - INFO - Rank 0 -- tracking contacts -- 41 of 41 of type n_f_distribution_center\n",
      "2022-07-27 17:15:50,586 - tracker - INFO - Rank 0 -- tracking contacts -- 500 of 540 of type play_group\n",
      "2022-07-27 17:15:50,919 - tracker - INFO - Rank 0 -- tracking contacts -- 82 of 82 of type pump_latrine\n",
      "2022-07-27 17:15:54,877 - tracker - INFO - Rank 0 -- tracking contacts -- 500 of 2065 of type religious\n",
      "2022-07-27 17:15:55,474 - rank - INFO - Rank 0 -- tracker -- 6.623689561005449\n",
      "2022-07-27 17:15:55,485 - epidemiology - INFO - CMS: Infection COMS-v2 for rank 0/1(2)0.0006295130006037652,0.0006287097930908203 - 2020-05-26 13:00:00\n",
      "2022-07-27 17:15:55,538 - rank - INFO - Rank 0 -- interaction_waiting -- 8.417991921305656e-06\n",
      "2022-07-27 17:15:55,558 - simulator - INFO - CMS: Timestep for rank 0/1 - 7.73707714601187,7.737077951431274 - 2020-05-26 13:00:00\n",
      "\n",
      "2022-07-27 17:15:55,561 - rank - INFO - Next timestep\n",
      "2022-07-27 17:15:55,562 - simulator - INFO - ==================== timestep ====================\n",
      "2022-07-27 17:15:56,369 - rank - INFO - Rank 0 -- move_people -- 0.8058356170076877\n",
      "2022-07-27 17:15:56,370 - rank - INFO - Rank 0 -- move_people_waiting -- 2.3651024093851447e-05\n",
      "2022-07-27 17:15:56,371 - activity_manager - INFO - CMS: People COMS for rank 0/1 - 3.9669976104050875e-06,3.5762786865234375e-06 - 2020-05-26 15:00:00\n",
      "2022-07-27 17:15:56,378 - simulator - INFO - Info for rank 0, Date = 2020-05-26 15:00:00, number of deaths =  0, number of infected = 352\n",
      "2022-07-27 17:15:56,543 - rank - INFO - Rank 0 -- interaction -- 0.17004270001780242\n",
      "2022-07-27 17:15:56,544 - tracker - INFO - Rank 0 -- tracking contacts -- 8 of 8 of type hospital\n",
      "2022-07-27 17:15:56,554 - tracker - INFO - Rank 0 -- tracking contacts -- 8 of 8 of type isolation_unit\n",
      "2022-07-27 17:15:56,557 - tracker - INFO - Rank 0 -- tracking contacts -- 389 of 389 of type learning_center\n",
      "2022-07-27 17:15:57,561 - tracker - INFO - Rank 0 -- tracking contacts -- 500 of 3272 of type shelter\n",
      "2022-07-27 17:15:57,831 - tracker - INFO - Rank 0 -- tracking contacts -- 115 of 115 of type communal\n",
      "2022-07-27 17:15:57,859 - tracker - INFO - Rank 0 -- tracking contacts -- 21 of 21 of type distribution_center\n",
      "2022-07-27 17:15:57,939 - tracker - INFO - Rank 0 -- tracking contacts -- 7 of 7 of type e_voucher\n",
      "2022-07-27 17:15:57,956 - tracker - INFO - Rank 0 -- tracking contacts -- 67 of 67 of type female_communal\n",
      "2022-07-27 17:15:58,049 - tracker - INFO - Rank 0 -- tracking contacts -- 80 of 80 of type informal_work\n",
      "2022-07-27 17:15:58,125 - tracker - INFO - Rank 0 -- tracking contacts -- 41 of 41 of type n_f_distribution_center\n",
      "2022-07-27 17:15:58,243 - tracker - INFO - Rank 0 -- tracking contacts -- 500 of 540 of type play_group\n",
      "2022-07-27 17:15:58,631 - tracker - INFO - Rank 0 -- tracking contacts -- 82 of 82 of type pump_latrine\n",
      "2022-07-27 17:16:03,778 - tracker - INFO - Rank 0 -- tracking contacts -- 500 of 2065 of type religious\n",
      "2022-07-27 17:16:05,725 - rank - INFO - Rank 0 -- tracker -- 9.180578100000275\n",
      "2022-07-27 17:16:05,785 - epidemiology - INFO - CMS: Infection COMS-v2 for rank 0/1(2)0.010848655016161501,0.010846614837646484 - 2020-05-26 15:00:00\n",
      "2022-07-27 17:16:05,862 - rank - INFO - Rank 0 -- interaction_waiting -- 8.081988198682666e-06\n",
      "2022-07-27 17:16:05,884 - simulator - INFO - CMS: Timestep for rank 0/1 - 10.32081558398204,10.3208167552948 - 2020-05-26 15:00:00\n",
      "\n",
      "2022-07-27 17:16:05,910 - rank - INFO - Next timestep\n",
      "2022-07-27 17:16:05,911 - simulator - INFO - ==================== timestep ====================\n",
      "2022-07-27 17:16:06,895 - rank - INFO - Rank 0 -- move_people -- 0.982806404994335\n",
      "2022-07-27 17:16:06,896 - rank - INFO - Rank 0 -- move_people_waiting -- 1.016902388073504e-05\n",
      "2022-07-27 17:16:06,897 - activity_manager - INFO - CMS: People COMS for rank 0/1 - 3.3640244510024786e-06,3.0994415283203125e-06 - 2020-05-26 17:00:00\n",
      "2022-07-27 17:16:06,904 - simulator - INFO - Info for rank 0, Date = 2020-05-26 17:00:00, number of deaths =  0, number of infected = 372\n"
     ]
    },
    {
     "name": "stdout",
     "output_type": "stream",
     "text": [
      "2022-07-27 17:16:07,119 - rank - INFO - Rank 0 -- interaction -- 0.22072354098781943\n",
      "2022-07-27 17:16:07,120 - tracker - INFO - Rank 0 -- tracking contacts -- 8 of 8 of type hospital\n",
      "2022-07-27 17:16:07,121 - tracker - INFO - Rank 0 -- tracking contacts -- 8 of 8 of type isolation_unit\n",
      "2022-07-27 17:16:07,124 - tracker - INFO - Rank 0 -- tracking contacts -- 389 of 389 of type learning_center\n",
      "2022-07-27 17:16:07,150 - tracker - INFO - Rank 0 -- tracking contacts -- 500 of 3272 of type shelter\n",
      "2022-07-27 17:16:07,501 - tracker - INFO - Rank 0 -- tracking contacts -- 115 of 115 of type communal\n",
      "2022-07-27 17:16:07,503 - tracker - INFO - Rank 0 -- tracking contacts -- 21 of 21 of type distribution_center\n",
      "2022-07-27 17:16:07,618 - tracker - INFO - Rank 0 -- tracking contacts -- 7 of 7 of type e_voucher\n",
      "2022-07-27 17:16:07,638 - tracker - INFO - Rank 0 -- tracking contacts -- 67 of 67 of type female_communal\n",
      "2022-07-27 17:16:07,641 - tracker - INFO - Rank 0 -- tracking contacts -- 80 of 80 of type informal_work\n",
      "2022-07-27 17:16:07,748 - tracker - INFO - Rank 0 -- tracking contacts -- 41 of 41 of type n_f_distribution_center\n",
      "2022-07-27 17:16:08,055 - tracker - INFO - Rank 0 -- tracking contacts -- 500 of 540 of type play_group\n",
      "2022-07-27 17:16:08,581 - tracker - INFO - Rank 0 -- tracking contacts -- 82 of 82 of type pump_latrine\n",
      "2022-07-27 17:16:13,760 - tracker - INFO - Rank 0 -- tracking contacts -- 500 of 2065 of type religious\n",
      "2022-07-27 17:16:14,487 - rank - INFO - Rank 0 -- tracker -- 7.36675942200236\n",
      "2022-07-27 17:16:14,495 - epidemiology - INFO - CMS: Infection COMS-v2 for rank 0/1(2)0.001108635013224557,0.001108407974243164 - 2020-05-26 17:00:00\n",
      "2022-07-27 17:16:14,535 - rank - INFO - Rank 0 -- interaction_waiting -- 7.719994755461812e-06\n",
      "2022-07-27 17:16:14,549 - simulator - INFO - CMS: Timestep for rank 0/1 - 8.63608962399303,8.636090517044067 - 2020-05-26 17:00:00\n",
      "\n",
      "2022-07-27 17:16:14,553 - rank - INFO - Next timestep\n",
      "2022-07-27 17:16:14,554 - simulator - INFO - ==================== timestep ====================\n",
      "2022-07-27 17:16:14,716 - rank - INFO - Rank 0 -- move_people -- 0.16137658501975238\n",
      "2022-07-27 17:16:14,717 - rank - INFO - Rank 0 -- move_people_waiting -- 6.084999768063426e-06\n",
      "2022-07-27 17:16:14,718 - activity_manager - INFO - CMS: People COMS for rank 0/1 - 3.998022293671966e-06,3.814697265625e-06 - 2020-05-26 19:00:00\n",
      "2022-07-27 17:16:14,724 - simulator - INFO - Info for rank 0, Date = 2020-05-26 19:00:00, number of deaths =  0, number of infected = 387\n",
      "2022-07-27 17:16:14,845 - rank - INFO - Rank 0 -- interaction -- 0.12645703900489025\n",
      "2022-07-27 17:16:14,846 - tracker - INFO - Rank 0 -- tracking contacts -- 8 of 8 of type hospital\n",
      "2022-07-27 17:16:14,846 - tracker - INFO - Rank 0 -- tracking contacts -- 8 of 8 of type isolation_unit\n",
      "2022-07-27 17:16:14,848 - tracker - INFO - Rank 0 -- tracking contacts -- 389 of 389 of type learning_center\n",
      "2022-07-27 17:16:14,872 - tracker - INFO - Rank 0 -- tracking contacts -- 500 of 3272 of type shelter\n",
      "2022-07-27 17:16:15,983 - tracker - INFO - Rank 0 -- tracking contacts -- 115 of 115 of type communal\n",
      "2022-07-27 17:16:15,985 - tracker - INFO - Rank 0 -- tracking contacts -- 21 of 21 of type distribution_center\n",
      "2022-07-27 17:16:15,987 - tracker - INFO - Rank 0 -- tracking contacts -- 7 of 7 of type e_voucher\n",
      "2022-07-27 17:16:15,988 - tracker - INFO - Rank 0 -- tracking contacts -- 67 of 67 of type female_communal\n",
      "2022-07-27 17:16:15,990 - tracker - INFO - Rank 0 -- tracking contacts -- 80 of 80 of type informal_work\n",
      "2022-07-27 17:16:15,993 - tracker - INFO - Rank 0 -- tracking contacts -- 41 of 41 of type n_f_distribution_center\n",
      "2022-07-27 17:16:16,000 - tracker - INFO - Rank 0 -- tracking contacts -- 500 of 540 of type play_group\n",
      "2022-07-27 17:16:16,010 - tracker - INFO - Rank 0 -- tracking contacts -- 82 of 82 of type pump_latrine\n",
      "2022-07-27 17:16:16,024 - tracker - INFO - Rank 0 -- tracking contacts -- 500 of 2065 of type religious\n",
      "2022-07-27 17:16:16,034 - rank - INFO - Rank 0 -- tracker -- 1.1880967489851173\n",
      "2022-07-27 17:16:16,086 - epidemiology - INFO - CMS: Infection COMS-v2 for rank 0/1(2)0.0003032709937542677,0.00030303001403808594 - 2020-05-26 19:00:00\n",
      "2022-07-27 17:16:16,144 - rank - INFO - Rank 0 -- interaction_waiting -- 1.189700560644269e-05\n",
      "2022-07-27 17:16:16,159 - simulator - INFO - CMS: Timestep for rank 0/1 - 1.60406851398875,1.6040692329406738 - 2020-05-26 19:00:00\n",
      "\n",
      "2022-07-27 17:16:16,161 - rank - INFO - Next timestep\n",
      "2022-07-27 17:16:16,162 - simulator - INFO - ==================== timestep ====================\n",
      "2022-07-27 17:16:16,372 - rank - INFO - Rank 0 -- move_people -- 0.2085844969842583\n",
      "2022-07-27 17:16:16,373 - rank - INFO - Rank 0 -- move_people_waiting -- 7.683993317186832e-06\n",
      "2022-07-27 17:16:16,374 - activity_manager - INFO - CMS: People COMS for rank 0/1 - 3.825989551842213e-06,3.5762786865234375e-06 - 2020-05-27 09:00:00\n",
      "2022-07-27 17:16:16,379 - simulator - INFO - Info for rank 0, Date = 2020-05-27 09:00:00, number of deaths =  0, number of infected = 461\n",
      "2022-07-27 17:16:16,488 - rank - INFO - Rank 0 -- interaction -- 0.11333295199437998\n",
      "2022-07-27 17:16:16,489 - tracker - INFO - Rank 0 -- tracking contacts -- 8 of 8 of type hospital\n",
      "2022-07-27 17:16:16,496 - tracker - INFO - Rank 0 -- tracking contacts -- 8 of 8 of type isolation_unit\n",
      "2022-07-27 17:16:16,499 - tracker - INFO - Rank 0 -- tracking contacts -- 389 of 389 of type learning_center\n",
      "2022-07-27 17:16:17,348 - tracker - INFO - Rank 0 -- tracking contacts -- 500 of 3272 of type shelter\n",
      "2022-07-27 17:16:18,007 - tracker - INFO - Rank 0 -- tracking contacts -- 115 of 115 of type communal\n",
      "2022-07-27 17:16:18,009 - tracker - INFO - Rank 0 -- tracking contacts -- 21 of 21 of type distribution_center\n",
      "2022-07-27 17:16:18,011 - tracker - INFO - Rank 0 -- tracking contacts -- 7 of 7 of type e_voucher\n",
      "2022-07-27 17:16:18,012 - tracker - INFO - Rank 0 -- tracking contacts -- 67 of 67 of type female_communal\n",
      "2022-07-27 17:16:18,014 - tracker - INFO - Rank 0 -- tracking contacts -- 80 of 80 of type informal_work\n",
      "2022-07-27 17:16:18,016 - tracker - INFO - Rank 0 -- tracking contacts -- 41 of 41 of type n_f_distribution_center\n",
      "2022-07-27 17:16:18,019 - tracker - INFO - Rank 0 -- tracking contacts -- 500 of 540 of type play_group\n",
      "2022-07-27 17:16:18,029 - tracker - INFO - Rank 0 -- tracking contacts -- 82 of 82 of type pump_latrine\n",
      "2022-07-27 17:16:18,040 - tracker - INFO - Rank 0 -- tracking contacts -- 500 of 2065 of type religious\n",
      "2022-07-27 17:16:18,052 - rank - INFO - Rank 0 -- tracker -- 1.5634877730044536\n",
      "2022-07-27 17:16:18,062 - epidemiology - INFO - CMS: Infection COMS-v2 for rank 0/1(2)0.0008870709862094373,0.0008869171142578125 - 2020-05-27 09:00:00\n",
      "2022-07-27 17:16:18,113 - rank - INFO - Rank 0 -- interaction_waiting -- 6.476009730249643e-06\n",
      "2022-07-27 17:16:18,132 - simulator - INFO - CMS: Timestep for rank 0/1 - 1.968422998994356,1.9684240818023682 - 2020-05-27 09:00:00\n",
      "\n",
      "2022-07-27 17:16:18,135 - rank - INFO - Next timestep\n",
      "2022-07-27 17:16:18,136 - simulator - INFO - ==================== timestep ====================\n",
      "2022-07-27 17:16:19,077 - rank - INFO - Rank 0 -- move_people -- 0.940804551995825\n",
      "2022-07-27 17:16:19,078 - rank - INFO - Rank 0 -- move_people_waiting -- 9.522977052256465e-06\n",
      "2022-07-27 17:16:19,079 - activity_manager - INFO - CMS: People COMS for rank 0/1 - 3.4529948607087135e-06,3.0994415283203125e-06 - 2020-05-27 11:00:00\n",
      "2022-07-27 17:16:19,085 - simulator - INFO - Info for rank 0, Date = 2020-05-27 11:00:00, number of deaths =  0, number of infected = 472\n",
      "2022-07-27 17:16:19,236 - rank - INFO - Rank 0 -- interaction -- 0.15571087299031205\n",
      "2022-07-27 17:16:19,236 - tracker - INFO - Rank 0 -- tracking contacts -- 8 of 8 of type hospital\n",
      "2022-07-27 17:16:19,243 - tracker - INFO - Rank 0 -- tracking contacts -- 8 of 8 of type isolation_unit\n",
      "2022-07-27 17:16:19,245 - tracker - INFO - Rank 0 -- tracking contacts -- 389 of 389 of type learning_center\n",
      "2022-07-27 17:16:20,382 - tracker - INFO - Rank 0 -- tracking contacts -- 500 of 3272 of type shelter\n",
      "2022-07-27 17:16:20,632 - tracker - INFO - Rank 0 -- tracking contacts -- 115 of 115 of type communal\n",
      "2022-07-27 17:16:20,649 - tracker - INFO - Rank 0 -- tracking contacts -- 21 of 21 of type distribution_center\n"
     ]
    },
    {
     "name": "stdout",
     "output_type": "stream",
     "text": [
      "2022-07-27 17:16:20,691 - tracker - INFO - Rank 0 -- tracking contacts -- 7 of 7 of type e_voucher\n",
      "2022-07-27 17:16:20,709 - tracker - INFO - Rank 0 -- tracking contacts -- 67 of 67 of type female_communal\n",
      "2022-07-27 17:16:20,780 - tracker - INFO - Rank 0 -- tracking contacts -- 80 of 80 of type informal_work\n",
      "2022-07-27 17:16:20,877 - tracker - INFO - Rank 0 -- tracking contacts -- 41 of 41 of type n_f_distribution_center\n",
      "2022-07-27 17:16:21,022 - tracker - INFO - Rank 0 -- tracking contacts -- 500 of 540 of type play_group\n",
      "2022-07-27 17:16:21,393 - tracker - INFO - Rank 0 -- tracking contacts -- 82 of 82 of type pump_latrine\n",
      "2022-07-27 17:16:25,396 - tracker - INFO - Rank 0 -- tracking contacts -- 500 of 2065 of type religious\n",
      "2022-07-27 17:16:26,039 - rank - INFO - Rank 0 -- tracker -- 6.803003045002697\n",
      "2022-07-27 17:16:26,057 - epidemiology - INFO - CMS: Infection COMS-v2 for rank 0/1(2)0.005581720004556701,0.005581855773925781 - 2020-05-27 11:00:00\n",
      "2022-07-27 17:16:26,109 - rank - INFO - Rank 0 -- interaction_waiting -- 6.05199602432549e-06\n",
      "2022-07-27 17:16:26,126 - simulator - INFO - CMS: Timestep for rank 0/1 - 7.98940848899656,7.989409923553467 - 2020-05-27 11:00:00\n",
      "\n",
      "2022-07-27 17:16:26,138 - rank - INFO - Next timestep\n",
      "2022-07-27 17:16:26,139 - simulator - INFO - ==================== timestep ====================\n",
      "2022-07-27 17:16:26,962 - rank - INFO - Rank 0 -- move_people -- 0.8228173769894056\n",
      "2022-07-27 17:16:26,963 - rank - INFO - Rank 0 -- move_people_waiting -- 0.00014256002032198012\n",
      "2022-07-27 17:16:26,964 - activity_manager - INFO - CMS: People COMS for rank 0/1 - 4.383997293189168e-06,3.814697265625e-06 - 2020-05-27 13:00:00\n",
      "2022-07-27 17:16:26,971 - simulator - INFO - Info for rank 0, Date = 2020-05-27 13:00:00, number of deaths =  0, number of infected = 491\n",
      "2022-07-27 17:16:27,137 - rank - INFO - Rank 0 -- interaction -- 0.17150896799284965\n",
      "2022-07-27 17:16:27,139 - tracker - INFO - Rank 0 -- tracking contacts -- 8 of 8 of type hospital\n",
      "2022-07-27 17:16:27,146 - tracker - INFO - Rank 0 -- tracking contacts -- 8 of 8 of type isolation_unit\n",
      "2022-07-27 17:16:27,147 - tracker - INFO - Rank 0 -- tracking contacts -- 389 of 389 of type learning_center\n",
      "2022-07-27 17:16:28,117 - tracker - INFO - Rank 0 -- tracking contacts -- 500 of 3272 of type shelter\n",
      "2022-07-27 17:16:28,373 - tracker - INFO - Rank 0 -- tracking contacts -- 115 of 115 of type communal\n",
      "2022-07-27 17:16:28,398 - tracker - INFO - Rank 0 -- tracking contacts -- 21 of 21 of type distribution_center\n",
      "2022-07-27 17:16:28,446 - tracker - INFO - Rank 0 -- tracking contacts -- 7 of 7 of type e_voucher\n",
      "2022-07-27 17:16:28,457 - tracker - INFO - Rank 0 -- tracking contacts -- 67 of 67 of type female_communal\n",
      "2022-07-27 17:16:28,533 - tracker - INFO - Rank 0 -- tracking contacts -- 80 of 80 of type informal_work\n",
      "2022-07-27 17:16:28,613 - tracker - INFO - Rank 0 -- tracking contacts -- 41 of 41 of type n_f_distribution_center\n",
      "2022-07-27 17:16:28,760 - tracker - INFO - Rank 0 -- tracking contacts -- 500 of 540 of type play_group\n",
      "2022-07-27 17:16:29,128 - tracker - INFO - Rank 0 -- tracking contacts -- 82 of 82 of type pump_latrine\n",
      "2022-07-27 17:16:32,841 - tracker - INFO - Rank 0 -- tracking contacts -- 500 of 2065 of type religious\n",
      "2022-07-27 17:16:33,469 - rank - INFO - Rank 0 -- tracker -- 6.330709475994809\n",
      "2022-07-27 17:16:33,481 - epidemiology - INFO - CMS: Infection COMS-v2 for rank 0/1(2)0.0003342609852552414,0.0003342628479003906 - 2020-05-27 13:00:00\n",
      "2022-07-27 17:16:33,533 - rank - INFO - Rank 0 -- interaction_waiting -- 9.267998393625021e-06\n",
      "2022-07-27 17:16:33,554 - simulator - INFO - CMS: Timestep for rank 0/1 - 7.4149992709863,7.414999723434448 - 2020-05-27 13:00:00\n",
      "\n",
      "2022-07-27 17:16:33,557 - rank - INFO - Next timestep\n",
      "2022-07-27 17:16:33,559 - simulator - INFO - ==================== timestep ====================\n",
      "2022-07-27 17:16:34,377 - rank - INFO - Rank 0 -- move_people -- 0.8177725420100614\n",
      "2022-07-27 17:16:34,378 - rank - INFO - Rank 0 -- move_people_waiting -- 9.554991265758872e-06\n",
      "2022-07-27 17:16:34,379 - activity_manager - INFO - CMS: People COMS for rank 0/1 - 5.1670067477971315e-06,4.5299530029296875e-06 - 2020-05-27 15:00:00\n",
      "2022-07-27 17:16:34,388 - simulator - INFO - Info for rank 0, Date = 2020-05-27 15:00:00, number of deaths =  0, number of infected = 508\n",
      "2022-07-27 17:16:34,560 - rank - INFO - Rank 0 -- interaction -- 0.17944131800322793\n",
      "2022-07-27 17:16:34,561 - tracker - INFO - Rank 0 -- tracking contacts -- 8 of 8 of type hospital\n",
      "2022-07-27 17:16:34,568 - tracker - INFO - Rank 0 -- tracking contacts -- 8 of 8 of type isolation_unit\n",
      "2022-07-27 17:16:34,571 - tracker - INFO - Rank 0 -- tracking contacts -- 389 of 389 of type learning_center\n",
      "2022-07-27 17:16:35,582 - tracker - INFO - Rank 0 -- tracking contacts -- 500 of 3272 of type shelter\n",
      "2022-07-27 17:16:35,848 - tracker - INFO - Rank 0 -- tracking contacts -- 115 of 115 of type communal\n",
      "2022-07-27 17:16:35,883 - tracker - INFO - Rank 0 -- tracking contacts -- 21 of 21 of type distribution_center\n",
      "2022-07-27 17:16:35,937 - tracker - INFO - Rank 0 -- tracking contacts -- 7 of 7 of type e_voucher\n",
      "2022-07-27 17:16:35,952 - tracker - INFO - Rank 0 -- tracking contacts -- 67 of 67 of type female_communal\n",
      "2022-07-27 17:16:36,004 - tracker - INFO - Rank 0 -- tracking contacts -- 80 of 80 of type informal_work\n",
      "2022-07-27 17:16:36,072 - tracker - INFO - Rank 0 -- tracking contacts -- 41 of 41 of type n_f_distribution_center\n",
      "2022-07-27 17:16:36,181 - tracker - INFO - Rank 0 -- tracking contacts -- 500 of 540 of type play_group\n",
      "2022-07-27 17:16:36,565 - tracker - INFO - Rank 0 -- tracking contacts -- 82 of 82 of type pump_latrine\n",
      "2022-07-27 17:16:40,706 - tracker - INFO - Rank 0 -- tracking contacts -- 500 of 2065 of type religious\n",
      "2022-07-27 17:16:41,243 - rank - INFO - Rank 0 -- tracker -- 6.682008963980479\n",
      "2022-07-27 17:16:41,254 - epidemiology - INFO - CMS: Infection COMS-v2 for rank 0/1(2)0.0005481539992615581,0.0005476474761962891 - 2020-05-27 15:00:00\n",
      "2022-07-27 17:16:41,292 - rank - INFO - Rank 0 -- interaction_waiting -- 6.310991011559963e-06\n",
      "2022-07-27 17:16:41,307 - simulator - INFO - CMS: Timestep for rank 0/1 - 7.746919470024295,7.746920347213745 - 2020-05-27 15:00:00\n",
      "\n",
      "2022-07-27 17:16:41,311 - rank - INFO - Next timestep\n",
      "2022-07-27 17:16:41,313 - simulator - INFO - ==================== timestep ====================\n",
      "2022-07-27 17:16:42,140 - rank - INFO - Rank 0 -- move_people -- 0.8261251719959546\n",
      "2022-07-27 17:16:42,141 - rank - INFO - Rank 0 -- move_people_waiting -- 9.145995136350393e-06\n",
      "2022-07-27 17:16:42,141 - activity_manager - INFO - CMS: People COMS for rank 0/1 - 4.105997504666448e-06,3.814697265625e-06 - 2020-05-27 17:00:00\n",
      "2022-07-27 17:16:42,150 - simulator - INFO - Info for rank 0, Date = 2020-05-27 17:00:00, number of deaths =  0, number of infected = 534\n",
      "2022-07-27 17:16:42,311 - rank - INFO - Rank 0 -- interaction -- 0.16831306598032825\n",
      "2022-07-27 17:16:42,311 - tracker - INFO - Rank 0 -- tracking contacts -- 8 of 8 of type hospital\n",
      "2022-07-27 17:16:42,312 - tracker - INFO - Rank 0 -- tracking contacts -- 8 of 8 of type isolation_unit\n",
      "2022-07-27 17:16:42,314 - tracker - INFO - Rank 0 -- tracking contacts -- 389 of 389 of type learning_center\n",
      "2022-07-27 17:16:42,331 - tracker - INFO - Rank 0 -- tracking contacts -- 500 of 3272 of type shelter\n",
      "2022-07-27 17:16:42,644 - tracker - INFO - Rank 0 -- tracking contacts -- 115 of 115 of type communal\n",
      "2022-07-27 17:16:42,646 - tracker - INFO - Rank 0 -- tracking contacts -- 21 of 21 of type distribution_center\n",
      "2022-07-27 17:16:42,719 - tracker - INFO - Rank 0 -- tracking contacts -- 7 of 7 of type e_voucher\n",
      "2022-07-27 17:16:42,734 - tracker - INFO - Rank 0 -- tracking contacts -- 67 of 67 of type female_communal\n",
      "2022-07-27 17:16:42,737 - tracker - INFO - Rank 0 -- tracking contacts -- 80 of 80 of type informal_work\n",
      "2022-07-27 17:16:42,827 - tracker - INFO - Rank 0 -- tracking contacts -- 41 of 41 of type n_f_distribution_center\n",
      "2022-07-27 17:16:42,973 - tracker - INFO - Rank 0 -- tracking contacts -- 500 of 540 of type play_group\n",
      "2022-07-27 17:16:43,438 - tracker - INFO - Rank 0 -- tracking contacts -- 82 of 82 of type pump_latrine\n"
     ]
    },
    {
     "name": "stdout",
     "output_type": "stream",
     "text": [
      "2022-07-27 17:16:48,455 - tracker - INFO - Rank 0 -- tracking contacts -- 500 of 2065 of type religious\n",
      "2022-07-27 17:16:49,261 - rank - INFO - Rank 0 -- tracker -- 6.94942670801538\n",
      "2022-07-27 17:16:49,270 - epidemiology - INFO - CMS: Infection COMS-v2 for rank 0/1(2)0.0010127770074177533,0.001012563705444336 - 2020-05-27 17:00:00\n",
      "2022-07-27 17:16:49,316 - rank - INFO - Rank 0 -- interaction_waiting -- 7.185997674241662e-06\n",
      "2022-07-27 17:16:49,331 - simulator - INFO - CMS: Timestep for rank 0/1 - 8.017865845002234,8.017866611480713 - 2020-05-27 17:00:00\n",
      "\n",
      "2022-07-27 17:16:49,336 - rank - INFO - Next timestep\n",
      "2022-07-27 17:16:49,337 - simulator - INFO - ==================== timestep ====================\n",
      "2022-07-27 17:16:49,505 - rank - INFO - Rank 0 -- move_people -- 0.16685237997444347\n",
      "2022-07-27 17:16:49,506 - rank - INFO - Rank 0 -- move_people_waiting -- 4.797009751200676e-06\n",
      "2022-07-27 17:16:49,506 - activity_manager - INFO - CMS: People COMS for rank 0/1 - 4.645989974960685e-06,4.5299530029296875e-06 - 2020-05-27 19:00:00\n",
      "2022-07-27 17:16:49,516 - simulator - INFO - Info for rank 0, Date = 2020-05-27 19:00:00, number of deaths =  0, number of infected = 549\n",
      "2022-07-27 17:16:49,613 - rank - INFO - Rank 0 -- interaction -- 0.10515677600051276\n",
      "2022-07-27 17:16:49,614 - tracker - INFO - Rank 0 -- tracking contacts -- 8 of 8 of type hospital\n",
      "2022-07-27 17:16:49,615 - tracker - INFO - Rank 0 -- tracking contacts -- 8 of 8 of type isolation_unit\n",
      "2022-07-27 17:16:49,618 - tracker - INFO - Rank 0 -- tracking contacts -- 389 of 389 of type learning_center\n",
      "2022-07-27 17:16:49,637 - tracker - INFO - Rank 0 -- tracking contacts -- 500 of 3272 of type shelter\n",
      "2022-07-27 17:16:50,733 - tracker - INFO - Rank 0 -- tracking contacts -- 115 of 115 of type communal\n",
      "2022-07-27 17:16:50,736 - tracker - INFO - Rank 0 -- tracking contacts -- 21 of 21 of type distribution_center\n",
      "2022-07-27 17:16:50,738 - tracker - INFO - Rank 0 -- tracking contacts -- 7 of 7 of type e_voucher\n",
      "2022-07-27 17:16:50,740 - tracker - INFO - Rank 0 -- tracking contacts -- 67 of 67 of type female_communal\n",
      "2022-07-27 17:16:50,744 - tracker - INFO - Rank 0 -- tracking contacts -- 80 of 80 of type informal_work\n",
      "2022-07-27 17:16:50,748 - tracker - INFO - Rank 0 -- tracking contacts -- 41 of 41 of type n_f_distribution_center\n",
      "2022-07-27 17:16:50,752 - tracker - INFO - Rank 0 -- tracking contacts -- 500 of 540 of type play_group\n",
      "2022-07-27 17:16:50,764 - tracker - INFO - Rank 0 -- tracking contacts -- 82 of 82 of type pump_latrine\n",
      "2022-07-27 17:16:50,782 - tracker - INFO - Rank 0 -- tracking contacts -- 500 of 2065 of type religious\n",
      "2022-07-27 17:16:50,795 - rank - INFO - Rank 0 -- tracker -- 1.180515996995382\n",
      "2022-07-27 17:16:50,847 - epidemiology - INFO - CMS: Infection COMS-v2 for rank 0/1(2)0.0010146059794351459,0.0010142326354980469 - 2020-05-27 19:00:00\n",
      "2022-07-27 17:16:50,899 - rank - INFO - Rank 0 -- interaction_waiting -- 7.180991815403104e-06\n",
      "2022-07-27 17:16:50,916 - simulator - INFO - CMS: Timestep for rank 0/1 - 1.5776860719779506,1.5776877403259277 - 2020-05-27 19:00:00\n",
      "\n",
      "2022-07-27 17:16:50,919 - rank - INFO - Next timestep\n",
      "2022-07-27 17:16:50,920 - simulator - INFO - ==================== timestep ====================\n",
      "2022-07-27 17:16:51,153 - rank - INFO - Rank 0 -- move_people -- 0.23199243799899705\n",
      "2022-07-27 17:16:51,154 - rank - INFO - Rank 0 -- move_people_waiting -- 4.9810041673481464e-06\n",
      "2022-07-27 17:16:51,155 - activity_manager - INFO - CMS: People COMS for rank 0/1 - 4.596979124471545e-06,4.0531158447265625e-06 - 2020-05-28 09:00:00\n",
      "2022-07-27 17:16:51,163 - simulator - INFO - Info for rank 0, Date = 2020-05-28 09:00:00, number of deaths =  0, number of infected = 641\n",
      "2022-07-27 17:16:51,272 - rank - INFO - Rank 0 -- interaction -- 0.11594955399050377\n",
      "2022-07-27 17:16:51,273 - tracker - INFO - Rank 0 -- tracking contacts -- 8 of 8 of type hospital\n",
      "2022-07-27 17:16:51,281 - tracker - INFO - Rank 0 -- tracking contacts -- 8 of 8 of type isolation_unit\n",
      "2022-07-27 17:16:51,283 - tracker - INFO - Rank 0 -- tracking contacts -- 389 of 389 of type learning_center\n",
      "2022-07-27 17:16:52,231 - tracker - INFO - Rank 0 -- tracking contacts -- 500 of 3272 of type shelter\n",
      "2022-07-27 17:16:53,006 - tracker - INFO - Rank 0 -- tracking contacts -- 115 of 115 of type communal\n",
      "2022-07-27 17:16:53,009 - tracker - INFO - Rank 0 -- tracking contacts -- 21 of 21 of type distribution_center\n",
      "2022-07-27 17:16:53,011 - tracker - INFO - Rank 0 -- tracking contacts -- 7 of 7 of type e_voucher\n",
      "2022-07-27 17:16:53,012 - tracker - INFO - Rank 0 -- tracking contacts -- 67 of 67 of type female_communal\n",
      "2022-07-27 17:16:53,016 - tracker - INFO - Rank 0 -- tracking contacts -- 80 of 80 of type informal_work\n",
      "2022-07-27 17:16:53,021 - tracker - INFO - Rank 0 -- tracking contacts -- 41 of 41 of type n_f_distribution_center\n",
      "2022-07-27 17:16:53,025 - tracker - INFO - Rank 0 -- tracking contacts -- 500 of 540 of type play_group\n",
      "2022-07-27 17:16:53,037 - tracker - INFO - Rank 0 -- tracking contacts -- 82 of 82 of type pump_latrine\n",
      "2022-07-27 17:16:53,050 - tracker - INFO - Rank 0 -- tracking contacts -- 500 of 2065 of type religious\n",
      "2022-07-27 17:16:53,063 - rank - INFO - Rank 0 -- tracker -- 1.7901903169986326\n",
      "2022-07-27 17:16:53,076 - epidemiology - INFO - CMS: Infection COMS-v2 for rank 0/1(2)0.0005735400191042572,0.0005724430084228516 - 2020-05-28 09:00:00\n",
      "2022-07-27 17:16:53,139 - rank - INFO - Rank 0 -- interaction_waiting -- 7.722002919763327e-06\n",
      "2022-07-27 17:16:53,157 - simulator - INFO - CMS: Timestep for rank 0/1 - 2.2361600279982667,2.23616099357605 - 2020-05-28 09:00:00\n",
      "\n",
      "2022-07-27 17:16:53,160 - rank - INFO - Next timestep\n",
      "2022-07-27 17:16:53,161 - simulator - INFO - ==================== timestep ====================\n",
      "2022-07-27 17:16:54,023 - rank - INFO - Rank 0 -- move_people -- 0.861761470005149\n",
      "2022-07-27 17:16:54,024 - rank - INFO - Rank 0 -- move_people_waiting -- 1.0082003427669406e-05\n",
      "2022-07-27 17:16:54,025 - activity_manager - INFO - CMS: People COMS for rank 0/1 - 3.3910037018358707e-06,3.0994415283203125e-06 - 2020-05-28 11:00:00\n",
      "2022-07-27 17:16:54,031 - simulator - INFO - Info for rank 0, Date = 2020-05-28 11:00:00, number of deaths =  0, number of infected = 658\n",
      "2022-07-27 17:16:54,222 - rank - INFO - Rank 0 -- interaction -- 0.1960456590168178\n",
      "2022-07-27 17:16:54,223 - tracker - INFO - Rank 0 -- tracking contacts -- 8 of 8 of type hospital\n",
      "2022-07-27 17:16:54,230 - tracker - INFO - Rank 0 -- tracking contacts -- 8 of 8 of type isolation_unit\n",
      "2022-07-27 17:16:54,233 - tracker - INFO - Rank 0 -- tracking contacts -- 389 of 389 of type learning_center\n",
      "2022-07-27 17:16:55,265 - tracker - INFO - Rank 0 -- tracking contacts -- 500 of 3272 of type shelter\n",
      "2022-07-27 17:16:55,598 - tracker - INFO - Rank 0 -- tracking contacts -- 115 of 115 of type communal\n",
      "2022-07-27 17:16:55,631 - tracker - INFO - Rank 0 -- tracking contacts -- 21 of 21 of type distribution_center\n",
      "2022-07-27 17:16:55,673 - tracker - INFO - Rank 0 -- tracking contacts -- 7 of 7 of type e_voucher\n",
      "2022-07-27 17:16:55,685 - tracker - INFO - Rank 0 -- tracking contacts -- 67 of 67 of type female_communal\n",
      "2022-07-27 17:16:55,757 - tracker - INFO - Rank 0 -- tracking contacts -- 80 of 80 of type informal_work\n",
      "2022-07-27 17:16:55,831 - tracker - INFO - Rank 0 -- tracking contacts -- 41 of 41 of type n_f_distribution_center\n",
      "2022-07-27 17:16:55,969 - tracker - INFO - Rank 0 -- tracking contacts -- 500 of 540 of type play_group\n",
      "2022-07-27 17:16:56,309 - tracker - INFO - Rank 0 -- tracking contacts -- 82 of 82 of type pump_latrine\n",
      "2022-07-27 17:17:00,188 - tracker - INFO - Rank 0 -- tracking contacts -- 500 of 2065 of type religious\n",
      "2022-07-27 17:17:00,739 - rank - INFO - Rank 0 -- tracker -- 6.516110597993247\n",
      "2022-07-27 17:17:00,754 - epidemiology - INFO - CMS: Infection COMS-v2 for rank 0/1(2)0.0003545119834598154,0.0003542900085449219 - 2020-05-28 11:00:00\n",
      "2022-07-27 17:17:00,798 - rank - INFO - Rank 0 -- interaction_waiting -- 8.24002199806273e-06\n",
      "2022-07-27 17:17:00,813 - simulator - INFO - CMS: Timestep for rank 0/1 - 7.651247921981849,7.651248931884766 - 2020-05-28 11:00:00\n",
      "\n",
      "2022-07-27 17:17:00,816 - rank - INFO - Next timestep\n"
     ]
    },
    {
     "name": "stdout",
     "output_type": "stream",
     "text": [
      "2022-07-27 17:17:00,817 - simulator - INFO - ==================== timestep ====================\n",
      "2022-07-27 17:17:01,628 - rank - INFO - Rank 0 -- move_people -- 0.8099357069877442\n",
      "2022-07-27 17:17:01,629 - rank - INFO - Rank 0 -- move_people_waiting -- 6.955000571906567e-06\n",
      "2022-07-27 17:17:01,630 - activity_manager - INFO - CMS: People COMS for rank 0/1 - 4.927016561850905e-06,4.5299530029296875e-06 - 2020-05-28 13:00:00\n",
      "2022-07-27 17:17:01,638 - simulator - INFO - Info for rank 0, Date = 2020-05-28 13:00:00, number of deaths =  0, number of infected = 689\n",
      "2022-07-27 17:17:01,836 - rank - INFO - Rank 0 -- interaction -- 0.20569467500899918\n",
      "2022-07-27 17:17:01,838 - tracker - INFO - Rank 0 -- tracking contacts -- 8 of 8 of type hospital\n",
      "2022-07-27 17:17:01,845 - tracker - INFO - Rank 0 -- tracking contacts -- 8 of 8 of type isolation_unit\n",
      "2022-07-27 17:17:01,847 - tracker - INFO - Rank 0 -- tracking contacts -- 389 of 389 of type learning_center\n",
      "2022-07-27 17:17:02,896 - tracker - INFO - Rank 0 -- tracking contacts -- 500 of 3272 of type shelter\n",
      "2022-07-27 17:17:03,160 - tracker - INFO - Rank 0 -- tracking contacts -- 115 of 115 of type communal\n",
      "2022-07-27 17:17:03,180 - tracker - INFO - Rank 0 -- tracking contacts -- 21 of 21 of type distribution_center\n",
      "2022-07-27 17:17:03,258 - tracker - INFO - Rank 0 -- tracking contacts -- 7 of 7 of type e_voucher\n",
      "2022-07-27 17:17:03,272 - tracker - INFO - Rank 0 -- tracking contacts -- 67 of 67 of type female_communal\n",
      "2022-07-27 17:17:03,331 - tracker - INFO - Rank 0 -- tracking contacts -- 80 of 80 of type informal_work\n",
      "2022-07-27 17:17:03,404 - tracker - INFO - Rank 0 -- tracking contacts -- 41 of 41 of type n_f_distribution_center\n",
      "2022-07-27 17:17:03,509 - tracker - INFO - Rank 0 -- tracking contacts -- 500 of 540 of type play_group\n",
      "2022-07-27 17:17:03,881 - tracker - INFO - Rank 0 -- tracking contacts -- 82 of 82 of type pump_latrine\n",
      "2022-07-27 17:17:07,490 - tracker - INFO - Rank 0 -- tracking contacts -- 500 of 2065 of type religious\n",
      "2022-07-27 17:17:07,998 - rank - INFO - Rank 0 -- tracker -- 6.160560321994126\n",
      "2022-07-27 17:17:08,013 - epidemiology - INFO - CMS: Infection COMS-v2 for rank 0/1(2)0.00033222700585611165,0.000331878662109375 - 2020-05-28 13:00:00\n",
      "2022-07-27 17:17:08,057 - rank - INFO - Rank 0 -- interaction_waiting -- 8.811999578028917e-06\n",
      "2022-07-27 17:17:08,072 - simulator - INFO - CMS: Timestep for rank 0/1 - 7.2536064040032215,7.253608465194702 - 2020-05-28 13:00:00\n",
      "\n",
      "2022-07-27 17:17:08,075 - rank - INFO - Next timestep\n",
      "2022-07-27 17:17:08,076 - simulator - INFO - ==================== timestep ====================\n",
      "2022-07-27 17:17:08,784 - rank - INFO - Rank 0 -- move_people -- 0.7067196030111518\n",
      "2022-07-27 17:17:08,785 - rank - INFO - Rank 0 -- move_people_waiting -- 3.722991095855832e-06\n",
      "2022-07-27 17:17:08,786 - activity_manager - INFO - CMS: People COMS for rank 0/1 - 2.888002200052142e-06,2.384185791015625e-06 - 2020-05-28 15:00:00\n",
      "2022-07-27 17:17:08,791 - simulator - INFO - Info for rank 0, Date = 2020-05-28 15:00:00, number of deaths =  0, number of infected = 721\n",
      "2022-07-27 17:17:08,953 - rank - INFO - Rank 0 -- interaction -- 0.16621928199310787\n",
      "2022-07-27 17:17:08,954 - tracker - INFO - Rank 0 -- tracking contacts -- 8 of 8 of type hospital\n",
      "2022-07-27 17:17:08,961 - tracker - INFO - Rank 0 -- tracking contacts -- 8 of 8 of type isolation_unit\n",
      "2022-07-27 17:17:08,963 - tracker - INFO - Rank 0 -- tracking contacts -- 389 of 389 of type learning_center\n",
      "2022-07-27 17:17:09,831 - tracker - INFO - Rank 0 -- tracking contacts -- 500 of 3272 of type shelter\n",
      "2022-07-27 17:17:10,066 - tracker - INFO - Rank 0 -- tracking contacts -- 115 of 115 of type communal\n",
      "2022-07-27 17:17:10,090 - tracker - INFO - Rank 0 -- tracking contacts -- 21 of 21 of type distribution_center\n",
      "2022-07-27 17:17:10,179 - tracker - INFO - Rank 0 -- tracking contacts -- 7 of 7 of type e_voucher\n",
      "2022-07-27 17:17:10,199 - tracker - INFO - Rank 0 -- tracking contacts -- 67 of 67 of type female_communal\n",
      "2022-07-27 17:17:10,259 - tracker - INFO - Rank 0 -- tracking contacts -- 80 of 80 of type informal_work\n",
      "2022-07-27 17:17:10,337 - tracker - INFO - Rank 0 -- tracking contacts -- 41 of 41 of type n_f_distribution_center\n",
      "2022-07-27 17:17:10,440 - tracker - INFO - Rank 0 -- tracking contacts -- 500 of 540 of type play_group\n",
      "2022-07-27 17:17:10,737 - tracker - INFO - Rank 0 -- tracking contacts -- 82 of 82 of type pump_latrine\n",
      "2022-07-27 17:17:14,555 - tracker - INFO - Rank 0 -- tracking contacts -- 500 of 2065 of type religious\n",
      "2022-07-27 17:17:15,136 - rank - INFO - Rank 0 -- tracker -- 6.18171030501253\n",
      "2022-07-27 17:17:15,156 - epidemiology - INFO - CMS: Infection COMS-v2 for rank 0/1(2)0.00041605401202104986,0.00041484832763671875 - 2020-05-28 15:00:00\n",
      "2022-07-27 17:17:15,220 - rank - INFO - Rank 0 -- interaction_waiting -- 8.01600981503725e-06\n",
      "2022-07-27 17:17:15,236 - simulator - INFO - CMS: Timestep for rank 0/1 - 7.159054089017445,7.159055471420288 - 2020-05-28 15:00:00\n",
      "\n",
      "2022-07-27 17:17:15,240 - rank - INFO - Next timestep\n",
      "2022-07-27 17:17:15,241 - simulator - INFO - ==================== timestep ====================\n",
      "2022-07-27 17:17:16,171 - rank - INFO - Rank 0 -- move_people -- 0.9285396880004555\n",
      "2022-07-27 17:17:16,171 - rank - INFO - Rank 0 -- move_people_waiting -- 6.399000994861126e-06\n",
      "2022-07-27 17:17:16,172 - activity_manager - INFO - CMS: People COMS for rank 0/1 - 5.889014573767781e-06,5.0067901611328125e-06 - 2020-05-28 17:00:00\n",
      "2022-07-27 17:17:16,180 - simulator - INFO - Info for rank 0, Date = 2020-05-28 17:00:00, number of deaths =  0, number of infected = 750\n",
      "2022-07-27 17:17:16,385 - rank - INFO - Rank 0 -- interaction -- 0.21183219400700182\n",
      "2022-07-27 17:17:16,385 - tracker - INFO - Rank 0 -- tracking contacts -- 8 of 8 of type hospital\n",
      "2022-07-27 17:17:16,387 - tracker - INFO - Rank 0 -- tracking contacts -- 8 of 8 of type isolation_unit\n",
      "2022-07-27 17:17:16,389 - tracker - INFO - Rank 0 -- tracking contacts -- 389 of 389 of type learning_center\n",
      "2022-07-27 17:17:16,410 - tracker - INFO - Rank 0 -- tracking contacts -- 500 of 3272 of type shelter\n",
      "2022-07-27 17:17:16,773 - tracker - INFO - Rank 0 -- tracking contacts -- 115 of 115 of type communal\n",
      "2022-07-27 17:17:16,776 - tracker - INFO - Rank 0 -- tracking contacts -- 21 of 21 of type distribution_center\n",
      "2022-07-27 17:17:16,836 - tracker - INFO - Rank 0 -- tracking contacts -- 7 of 7 of type e_voucher\n",
      "2022-07-27 17:17:16,847 - tracker - INFO - Rank 0 -- tracking contacts -- 67 of 67 of type female_communal\n",
      "2022-07-27 17:17:16,850 - tracker - INFO - Rank 0 -- tracking contacts -- 80 of 80 of type informal_work\n",
      "2022-07-27 17:17:16,950 - tracker - INFO - Rank 0 -- tracking contacts -- 41 of 41 of type n_f_distribution_center\n",
      "2022-07-27 17:17:17,090 - tracker - INFO - Rank 0 -- tracking contacts -- 500 of 540 of type play_group\n",
      "2022-07-27 17:17:17,565 - tracker - INFO - Rank 0 -- tracking contacts -- 82 of 82 of type pump_latrine\n",
      "2022-07-27 17:17:23,056 - tracker - INFO - Rank 0 -- tracking contacts -- 500 of 2065 of type religious\n",
      "2022-07-27 17:17:23,807 - rank - INFO - Rank 0 -- tracker -- 7.421722489991225\n",
      "2022-07-27 17:17:23,825 - epidemiology - INFO - CMS: Infection COMS-v2 for rank 0/1(2)0.00027429702458903193,0.0002734661102294922 - 2020-05-28 17:00:00\n",
      "2022-07-27 17:17:23,880 - rank - INFO - Rank 0 -- interaction_waiting -- 6.550981197506189e-06\n",
      "2022-07-27 17:17:23,902 - simulator - INFO - CMS: Timestep for rank 0/1 - 8.660453557997243,8.660454273223877 - 2020-05-28 17:00:00\n",
      "\n",
      "2022-07-27 17:17:23,905 - rank - INFO - Next timestep\n",
      "2022-07-27 17:17:23,907 - simulator - INFO - ==================== timestep ====================\n",
      "2022-07-27 17:17:24,120 - rank - INFO - Rank 0 -- move_people -- 0.2123999059840571\n",
      "2022-07-27 17:17:24,121 - rank - INFO - Rank 0 -- move_people_waiting -- 8.973991498351097e-06\n",
      "2022-07-27 17:17:24,122 - activity_manager - INFO - CMS: People COMS for rank 0/1 - 4.378001904115081e-06,4.0531158447265625e-06 - 2020-05-28 19:00:00\n",
      "2022-07-27 17:17:24,131 - simulator - INFO - Info for rank 0, Date = 2020-05-28 19:00:00, number of deaths =  0, number of infected = 790\n",
      "2022-07-27 17:17:24,246 - rank - INFO - Rank 0 -- interaction -- 0.12301146701793186\n"
     ]
    },
    {
     "name": "stdout",
     "output_type": "stream",
     "text": [
      "2022-07-27 17:17:24,250 - tracker - INFO - Rank 0 -- tracking contacts -- 8 of 8 of type hospital\n",
      "2022-07-27 17:17:24,252 - tracker - INFO - Rank 0 -- tracking contacts -- 8 of 8 of type isolation_unit\n",
      "2022-07-27 17:17:24,256 - tracker - INFO - Rank 0 -- tracking contacts -- 389 of 389 of type learning_center\n",
      "2022-07-27 17:17:24,277 - tracker - INFO - Rank 0 -- tracking contacts -- 500 of 3272 of type shelter\n",
      "2022-07-27 17:17:25,333 - tracker - INFO - Rank 0 -- tracking contacts -- 115 of 115 of type communal\n",
      "2022-07-27 17:17:25,336 - tracker - INFO - Rank 0 -- tracking contacts -- 21 of 21 of type distribution_center\n",
      "2022-07-27 17:17:25,339 - tracker - INFO - Rank 0 -- tracking contacts -- 7 of 7 of type e_voucher\n",
      "2022-07-27 17:17:25,341 - tracker - INFO - Rank 0 -- tracking contacts -- 67 of 67 of type female_communal\n",
      "2022-07-27 17:17:25,344 - tracker - INFO - Rank 0 -- tracking contacts -- 80 of 80 of type informal_work\n",
      "2022-07-27 17:17:25,351 - tracker - INFO - Rank 0 -- tracking contacts -- 41 of 41 of type n_f_distribution_center\n",
      "2022-07-27 17:17:25,353 - tracker - INFO - Rank 0 -- tracking contacts -- 500 of 540 of type play_group\n",
      "2022-07-27 17:17:25,364 - tracker - INFO - Rank 0 -- tracking contacts -- 82 of 82 of type pump_latrine\n",
      "2022-07-27 17:17:25,379 - tracker - INFO - Rank 0 -- tracking contacts -- 500 of 2065 of type religious\n",
      "2022-07-27 17:17:25,387 - rank - INFO - Rank 0 -- tracker -- 1.1370696329977363\n",
      "2022-07-27 17:17:25,443 - epidemiology - INFO - CMS: Infection COMS-v2 for rank 0/1(2)0.00022280297707766294,0.0002224445343017578 - 2020-05-28 19:00:00\n",
      "2022-07-27 17:17:25,494 - rank - INFO - Rank 0 -- interaction_waiting -- 6.512971594929695e-06\n",
      "2022-07-27 17:17:25,509 - simulator - INFO - CMS: Timestep for rank 0/1 - 1.6013056350057013,1.601306676864624 - 2020-05-28 19:00:00\n",
      "\n",
      "2022-07-27 17:17:25,512 - rank - INFO - Next timestep\n",
      "2022-07-27 17:17:25,513 - simulator - INFO - ==================== timestep ====================\n",
      "2022-07-27 17:17:25,755 - rank - INFO - Rank 0 -- move_people -- 0.24070473099709488\n",
      "2022-07-27 17:17:25,755 - rank - INFO - Rank 0 -- move_people_waiting -- 7.878988981246948e-06\n",
      "2022-07-27 17:17:25,756 - activity_manager - INFO - CMS: People COMS for rank 0/1 - 4.577974323183298e-06,4.0531158447265625e-06 - 2020-05-29 09:00:00\n",
      "2022-07-27 17:17:25,763 - simulator - INFO - Info for rank 0, Date = 2020-05-29 09:00:00, number of deaths =  0, number of infected = 901\n",
      "2022-07-27 17:17:25,872 - rank - INFO - Rank 0 -- interaction -- 0.11494333698647097\n",
      "2022-07-27 17:17:25,873 - tracker - INFO - Rank 0 -- tracking contacts -- 8 of 8 of type hospital\n",
      "2022-07-27 17:17:25,874 - tracker - INFO - Rank 0 -- tracking contacts -- 8 of 8 of type isolation_unit\n",
      "2022-07-27 17:17:25,876 - tracker - INFO - Rank 0 -- tracking contacts -- 389 of 389 of type learning_center\n",
      "2022-07-27 17:17:25,897 - tracker - INFO - Rank 0 -- tracking contacts -- 500 of 3272 of type shelter\n",
      "2022-07-27 17:17:26,793 - tracker - INFO - Rank 0 -- tracking contacts -- 115 of 115 of type communal\n",
      "2022-07-27 17:17:26,796 - tracker - INFO - Rank 0 -- tracking contacts -- 21 of 21 of type distribution_center\n",
      "2022-07-27 17:17:26,798 - tracker - INFO - Rank 0 -- tracking contacts -- 7 of 7 of type e_voucher\n",
      "2022-07-27 17:17:26,800 - tracker - INFO - Rank 0 -- tracking contacts -- 67 of 67 of type female_communal\n",
      "2022-07-27 17:17:26,803 - tracker - INFO - Rank 0 -- tracking contacts -- 80 of 80 of type informal_work\n",
      "2022-07-27 17:17:26,807 - tracker - INFO - Rank 0 -- tracking contacts -- 41 of 41 of type n_f_distribution_center\n",
      "2022-07-27 17:17:26,811 - tracker - INFO - Rank 0 -- tracking contacts -- 500 of 540 of type play_group\n",
      "2022-07-27 17:17:26,824 - tracker - INFO - Rank 0 -- tracking contacts -- 82 of 82 of type pump_latrine\n",
      "2022-07-27 17:17:26,838 - tracker - INFO - Rank 0 -- tracking contacts -- 500 of 2065 of type religious\n",
      "2022-07-27 17:17:26,853 - rank - INFO - Rank 0 -- tracker -- 0.9802842700155452\n",
      "2022-07-27 17:17:26,876 - epidemiology - INFO - CMS: Infection COMS-v2 for rank 0/1(2)0.00031960499472916126,0.0003190040588378906 - 2020-05-29 09:00:00\n",
      "2022-07-27 17:17:26,925 - rank - INFO - Rank 0 -- interaction_waiting -- 7.761991582810879e-06\n",
      "2022-07-27 17:17:26,940 - simulator - INFO - CMS: Timestep for rank 0/1 - 1.4263888800051063,1.4263899326324463 - 2020-05-29 09:00:00\n",
      "\n",
      "2022-07-27 17:17:26,943 - rank - INFO - Next timestep\n",
      "2022-07-27 17:17:26,944 - simulator - INFO - ==================== timestep ====================\n",
      "2022-07-27 17:17:27,857 - rank - INFO - Rank 0 -- move_people -- 0.9121137309994083\n",
      "2022-07-27 17:17:27,858 - rank - INFO - Rank 0 -- move_people_waiting -- 6.824993761256337e-06\n",
      "2022-07-27 17:17:27,859 - activity_manager - INFO - CMS: People COMS for rank 0/1 - 3.8069847505539656e-06,3.337860107421875e-06 - 2020-05-29 12:00:00\n",
      "2022-07-27 17:17:27,864 - simulator - INFO - Info for rank 0, Date = 2020-05-29 12:00:00, number of deaths =  0, number of infected = 933\n",
      "2022-07-27 17:17:28,060 - rank - INFO - Rank 0 -- interaction -- 0.2003322800155729\n",
      "2022-07-27 17:17:28,062 - tracker - INFO - Rank 0 -- tracking contacts -- 8 of 8 of type hospital\n",
      "2022-07-27 17:17:28,063 - tracker - INFO - Rank 0 -- tracking contacts -- 8 of 8 of type isolation_unit\n",
      "2022-07-27 17:17:28,065 - tracker - INFO - Rank 0 -- tracking contacts -- 389 of 389 of type learning_center\n",
      "2022-07-27 17:17:28,089 - tracker - INFO - Rank 0 -- tracking contacts -- 500 of 3272 of type shelter\n",
      "2022-07-27 17:17:28,449 - tracker - INFO - Rank 0 -- tracking contacts -- 115 of 115 of type communal\n",
      "2022-07-27 17:17:28,453 - tracker - INFO - Rank 0 -- tracking contacts -- 21 of 21 of type distribution_center\n",
      "2022-07-27 17:17:28,508 - tracker - INFO - Rank 0 -- tracking contacts -- 7 of 7 of type e_voucher\n",
      "2022-07-27 17:17:28,527 - tracker - INFO - Rank 0 -- tracking contacts -- 67 of 67 of type female_communal\n",
      "2022-07-27 17:17:28,530 - tracker - INFO - Rank 0 -- tracking contacts -- 80 of 80 of type informal_work\n",
      "2022-07-27 17:17:28,616 - tracker - INFO - Rank 0 -- tracking contacts -- 41 of 41 of type n_f_distribution_center\n",
      "2022-07-27 17:17:28,767 - tracker - INFO - Rank 0 -- tracking contacts -- 500 of 540 of type play_group\n",
      "2022-07-27 17:17:29,260 - tracker - INFO - Rank 0 -- tracking contacts -- 82 of 82 of type pump_latrine\n",
      "2022-07-27 17:17:33,740 - tracker - INFO - Rank 0 -- tracking contacts -- 500 of 2065 of type religious\n",
      "2022-07-27 17:17:34,474 - rank - INFO - Rank 0 -- tracker -- 6.411736002017278\n",
      "2022-07-27 17:17:34,490 - epidemiology - INFO - CMS: Infection COMS-v2 for rank 0/1(2)0.00026600799174048007,0.0002655982971191406 - 2020-05-29 12:00:00\n",
      "2022-07-27 17:17:34,531 - rank - INFO - Rank 0 -- interaction_waiting -- 6.564980139955878e-06\n",
      "2022-07-27 17:17:34,544 - simulator - INFO - CMS: Timestep for rank 0/1 - 7.59936021399335,7.599360942840576 - 2020-05-29 12:00:00\n",
      "\n",
      "2022-07-27 17:17:34,547 - rank - INFO - Next timestep\n",
      "2022-07-27 17:17:34,547 - simulator - INFO - ==================== timestep ====================\n",
      "2022-07-27 17:17:35,340 - rank - INFO - Rank 0 -- move_people -- 0.7915377110184636\n",
      "2022-07-27 17:17:35,340 - rank - INFO - Rank 0 -- move_people_waiting -- 6.79600634612143e-06\n",
      "2022-07-27 17:17:35,341 - activity_manager - INFO - CMS: People COMS for rank 0/1 - 4.15899557992816e-06,3.814697265625e-06 - 2020-05-29 14:00:00\n",
      "2022-07-27 17:17:35,347 - simulator - INFO - Info for rank 0, Date = 2020-05-29 14:00:00, number of deaths =  0, number of infected = 968\n",
      "2022-07-27 17:17:35,532 - rank - INFO - Rank 0 -- interaction -- 0.19020669398014434\n",
      "2022-07-27 17:17:35,533 - tracker - INFO - Rank 0 -- tracking contacts -- 8 of 8 of type hospital\n",
      "2022-07-27 17:17:35,534 - tracker - INFO - Rank 0 -- tracking contacts -- 8 of 8 of type isolation_unit\n",
      "2022-07-27 17:17:35,537 - tracker - INFO - Rank 0 -- tracking contacts -- 389 of 389 of type learning_center\n",
      "2022-07-27 17:17:35,549 - tracker - INFO - Rank 0 -- tracking contacts -- 500 of 3272 of type shelter\n",
      "2022-07-27 17:17:35,844 - tracker - INFO - Rank 0 -- tracking contacts -- 115 of 115 of type communal\n",
      "2022-07-27 17:17:35,847 - tracker - INFO - Rank 0 -- tracking contacts -- 21 of 21 of type distribution_center\n"
     ]
    },
    {
     "name": "stdout",
     "output_type": "stream",
     "text": [
      "2022-07-27 17:17:35,906 - tracker - INFO - Rank 0 -- tracking contacts -- 7 of 7 of type e_voucher\n",
      "2022-07-27 17:17:35,934 - tracker - INFO - Rank 0 -- tracking contacts -- 67 of 67 of type female_communal\n",
      "2022-07-27 17:17:35,936 - tracker - INFO - Rank 0 -- tracking contacts -- 80 of 80 of type informal_work\n",
      "2022-07-27 17:17:36,012 - tracker - INFO - Rank 0 -- tracking contacts -- 41 of 41 of type n_f_distribution_center\n",
      "2022-07-27 17:17:36,129 - tracker - INFO - Rank 0 -- tracking contacts -- 500 of 540 of type play_group\n",
      "2022-07-27 17:17:36,563 - tracker - INFO - Rank 0 -- tracking contacts -- 82 of 82 of type pump_latrine\n",
      "2022-07-27 17:17:41,604 - tracker - INFO - Rank 0 -- tracking contacts -- 500 of 2065 of type religious\n",
      "2022-07-27 17:17:42,355 - rank - INFO - Rank 0 -- tracker -- 6.822326712019276\n",
      "2022-07-27 17:17:42,373 - epidemiology - INFO - CMS: Infection COMS-v2 for rank 0/1(2)0.00031911098631098866,0.0003185272216796875 - 2020-05-29 14:00:00\n",
      "2022-07-27 17:17:42,420 - rank - INFO - Rank 0 -- interaction_waiting -- 7.968017598614097e-06\n",
      "2022-07-27 17:17:42,435 - simulator - INFO - CMS: Timestep for rank 0/1 - 7.887239317002241,7.887240648269653 - 2020-05-29 14:00:00\n",
      "\n",
      "2022-07-27 17:17:42,438 - rank - INFO - Next timestep\n",
      "2022-07-27 17:17:42,440 - simulator - INFO - ==================== timestep ====================\n",
      "2022-07-27 17:17:43,377 - rank - INFO - Rank 0 -- move_people -- 0.9364272340026218\n",
      "2022-07-27 17:17:43,378 - rank - INFO - Rank 0 -- move_people_waiting -- 1.0201998520642519e-05\n",
      "2022-07-27 17:17:43,379 - activity_manager - INFO - CMS: People COMS for rank 0/1 - 5.026988219469786e-06,4.5299530029296875e-06 - 2020-05-29 16:00:00\n",
      "2022-07-27 17:17:43,386 - simulator - INFO - Info for rank 0, Date = 2020-05-29 16:00:00, number of deaths =  0, number of infected = 1009\n",
      "2022-07-27 17:17:43,583 - rank - INFO - Rank 0 -- interaction -- 0.20335257999249734\n",
      "2022-07-27 17:17:43,584 - tracker - INFO - Rank 0 -- tracking contacts -- 8 of 8 of type hospital\n",
      "2022-07-27 17:17:43,585 - tracker - INFO - Rank 0 -- tracking contacts -- 8 of 8 of type isolation_unit\n",
      "2022-07-27 17:17:43,588 - tracker - INFO - Rank 0 -- tracking contacts -- 389 of 389 of type learning_center\n",
      "2022-07-27 17:17:43,607 - tracker - INFO - Rank 0 -- tracking contacts -- 500 of 3272 of type shelter\n",
      "2022-07-27 17:17:44,014 - tracker - INFO - Rank 0 -- tracking contacts -- 115 of 115 of type communal\n",
      "2022-07-27 17:17:44,017 - tracker - INFO - Rank 0 -- tracking contacts -- 21 of 21 of type distribution_center\n",
      "2022-07-27 17:17:44,083 - tracker - INFO - Rank 0 -- tracking contacts -- 7 of 7 of type e_voucher\n",
      "2022-07-27 17:17:44,108 - tracker - INFO - Rank 0 -- tracking contacts -- 67 of 67 of type female_communal\n",
      "2022-07-27 17:17:44,111 - tracker - INFO - Rank 0 -- tracking contacts -- 80 of 80 of type informal_work\n",
      "2022-07-27 17:17:44,225 - tracker - INFO - Rank 0 -- tracking contacts -- 41 of 41 of type n_f_distribution_center\n",
      "2022-07-27 17:17:44,431 - tracker - INFO - Rank 0 -- tracking contacts -- 500 of 540 of type play_group\n",
      "2022-07-27 17:17:44,906 - tracker - INFO - Rank 0 -- tracking contacts -- 82 of 82 of type pump_latrine\n",
      "2022-07-27 17:17:50,377 - tracker - INFO - Rank 0 -- tracking contacts -- 500 of 2065 of type religious\n",
      "2022-07-27 17:17:51,139 - rank - INFO - Rank 0 -- tracker -- 7.554543903010199\n",
      "2022-07-27 17:17:51,155 - epidemiology - INFO - CMS: Infection COMS-v2 for rank 0/1(2)0.0006940430030226707,0.0006940364837646484 - 2020-05-29 16:00:00\n",
      "2022-07-27 17:17:51,198 - rank - INFO - Rank 0 -- interaction_waiting -- 6.819987902417779e-06\n",
      "2022-07-27 17:17:51,211 - simulator - INFO - CMS: Timestep for rank 0/1 - 8.77076199601288,8.77076244354248 - 2020-05-29 16:00:00\n",
      "\n",
      "2022-07-27 17:17:51,215 - rank - INFO - Next timestep\n",
      "2022-07-27 17:17:51,215 - simulator - INFO - ==================== timestep ====================\n",
      "2022-07-27 17:17:52,077 - rank - INFO - Rank 0 -- move_people -- 0.8601688610215206\n",
      "2022-07-27 17:17:52,078 - rank - INFO - Rank 0 -- move_people_waiting -- 9.293988114222884e-06\n",
      "2022-07-27 17:17:52,079 - activity_manager - INFO - CMS: People COMS for rank 0/1 - 5.097972461953759e-06,4.76837158203125e-06 - 2020-05-29 18:00:00\n",
      "2022-07-27 17:17:52,088 - simulator - INFO - Info for rank 0, Date = 2020-05-29 18:00:00, number of deaths =  0, number of infected = 1041\n",
      "2022-07-27 17:17:52,310 - rank - INFO - Rank 0 -- interaction -- 0.23024637799244374\n",
      "2022-07-27 17:17:52,311 - tracker - INFO - Rank 0 -- tracking contacts -- 8 of 8 of type hospital\n",
      "2022-07-27 17:17:52,313 - tracker - INFO - Rank 0 -- tracking contacts -- 8 of 8 of type isolation_unit\n",
      "2022-07-27 17:17:52,316 - tracker - INFO - Rank 0 -- tracking contacts -- 389 of 389 of type learning_center\n",
      "2022-07-27 17:17:52,330 - tracker - INFO - Rank 0 -- tracking contacts -- 500 of 3272 of type shelter\n",
      "2022-07-27 17:17:52,640 - tracker - INFO - Rank 0 -- tracking contacts -- 115 of 115 of type communal\n",
      "2022-07-27 17:17:52,644 - tracker - INFO - Rank 0 -- tracking contacts -- 21 of 21 of type distribution_center\n",
      "2022-07-27 17:17:52,715 - tracker - INFO - Rank 0 -- tracking contacts -- 7 of 7 of type e_voucher\n",
      "2022-07-27 17:17:52,732 - tracker - INFO - Rank 0 -- tracking contacts -- 67 of 67 of type female_communal\n",
      "2022-07-27 17:17:52,734 - tracker - INFO - Rank 0 -- tracking contacts -- 80 of 80 of type informal_work\n",
      "2022-07-27 17:17:52,821 - tracker - INFO - Rank 0 -- tracking contacts -- 41 of 41 of type n_f_distribution_center\n",
      "2022-07-27 17:17:52,965 - tracker - INFO - Rank 0 -- tracking contacts -- 500 of 540 of type play_group\n",
      "2022-07-27 17:17:53,436 - tracker - INFO - Rank 0 -- tracking contacts -- 82 of 82 of type pump_latrine\n",
      "2022-07-27 17:17:58,134 - tracker - INFO - Rank 0 -- tracking contacts -- 500 of 2065 of type religious\n",
      "2022-07-27 17:17:58,775 - rank - INFO - Rank 0 -- tracker -- 6.463559891999466\n",
      "2022-07-27 17:17:58,792 - epidemiology - INFO - CMS: Infection COMS-v2 for rank 0/1(2)0.0005226719949860126,0.000522613525390625 - 2020-05-29 18:00:00\n",
      "2022-07-27 17:17:58,834 - rank - INFO - Rank 0 -- interaction_waiting -- 6.377988029271364e-06\n",
      "2022-07-27 17:17:58,848 - simulator - INFO - CMS: Timestep for rank 0/1 - 7.631396696990123,7.631397247314453 - 2020-05-29 18:00:00\n",
      "\n",
      "2022-07-27 17:17:58,850 - rank - INFO - Next timestep\n",
      "2022-07-27 17:17:58,851 - simulator - INFO - ==================== timestep ====================\n",
      "2022-07-27 17:17:59,029 - rank - INFO - Rank 0 -- move_people -- 0.17722733301343396\n",
      "2022-07-27 17:17:59,030 - rank - INFO - Rank 0 -- move_people_waiting -- 7.203023415058851e-06\n",
      "2022-07-27 17:17:59,030 - activity_manager - INFO - CMS: People COMS for rank 0/1 - 3.1579984351992607e-06,2.86102294921875e-06 - 2020-05-29 20:00:00\n",
      "2022-07-27 17:17:59,035 - simulator - INFO - Info for rank 0, Date = 2020-05-29 20:00:00, number of deaths =  0, number of infected = 1076\n",
      "2022-07-27 17:17:59,154 - rank - INFO - Rank 0 -- interaction -- 0.122849707986461\n",
      "2022-07-27 17:17:59,155 - tracker - INFO - Rank 0 -- tracking contacts -- 8 of 8 of type hospital\n",
      "2022-07-27 17:17:59,156 - tracker - INFO - Rank 0 -- tracking contacts -- 8 of 8 of type isolation_unit\n",
      "2022-07-27 17:17:59,158 - tracker - INFO - Rank 0 -- tracking contacts -- 389 of 389 of type learning_center\n",
      "2022-07-27 17:17:59,176 - tracker - INFO - Rank 0 -- tracking contacts -- 500 of 3272 of type shelter\n",
      "2022-07-27 17:18:00,087 - tracker - INFO - Rank 0 -- tracking contacts -- 115 of 115 of type communal\n",
      "2022-07-27 17:18:00,089 - tracker - INFO - Rank 0 -- tracking contacts -- 21 of 21 of type distribution_center\n",
      "2022-07-27 17:18:00,091 - tracker - INFO - Rank 0 -- tracking contacts -- 7 of 7 of type e_voucher\n",
      "2022-07-27 17:18:00,092 - tracker - INFO - Rank 0 -- tracking contacts -- 67 of 67 of type female_communal\n",
      "2022-07-27 17:18:00,095 - tracker - INFO - Rank 0 -- tracking contacts -- 80 of 80 of type informal_work\n",
      "2022-07-27 17:18:00,097 - tracker - INFO - Rank 0 -- tracking contacts -- 41 of 41 of type n_f_distribution_center\n",
      "2022-07-27 17:18:00,100 - tracker - INFO - Rank 0 -- tracking contacts -- 500 of 540 of type play_group\n",
      "2022-07-27 17:18:00,112 - tracker - INFO - Rank 0 -- tracking contacts -- 82 of 82 of type pump_latrine\n"
     ]
    },
    {
     "name": "stdout",
     "output_type": "stream",
     "text": [
      "2022-07-27 17:18:00,124 - tracker - INFO - Rank 0 -- tracking contacts -- 500 of 2065 of type religious\n",
      "2022-07-27 17:18:00,133 - rank - INFO - Rank 0 -- tracker -- 0.9781212669913657\n",
      "2022-07-27 17:18:00,195 - epidemiology - INFO - CMS: Infection COMS-v2 for rank 0/1(2)0.0003229939902666956,0.00032258033752441406 - 2020-05-29 20:00:00\n",
      "2022-07-27 17:18:00,237 - rank - INFO - Rank 0 -- interaction_waiting -- 6.933987606316805e-06\n",
      "2022-07-27 17:18:00,250 - simulator - INFO - CMS: Timestep for rank 0/1 - 1.3982792309834622,1.3982799053192139 - 2020-05-29 20:00:00\n",
      "\n",
      "2022-07-27 17:18:00,253 - rank - INFO - Next timestep\n",
      "2022-07-27 17:18:00,254 - simulator - INFO - ==================== timestep ====================\n",
      "2022-07-27 17:18:00,444 - rank - INFO - Rank 0 -- move_people -- 0.18964099799632095\n",
      "2022-07-27 17:18:00,445 - rank - INFO - Rank 0 -- move_people_waiting -- 8.146977052092552e-06\n",
      "2022-07-27 17:18:00,446 - activity_manager - INFO - CMS: People COMS for rank 0/1 - 4.308996722102165e-06,4.291534423828125e-06 - 2020-05-30 09:00:00\n",
      "2022-07-27 17:18:00,452 - simulator - INFO - Info for rank 0, Date = 2020-05-30 09:00:00, number of deaths =  0, number of infected = 1227\n",
      "2022-07-27 17:18:00,551 - rank - INFO - Rank 0 -- interaction -- 0.10452006600098684\n",
      "2022-07-27 17:18:00,552 - tracker - INFO - Rank 0 -- tracking contacts -- 8 of 8 of type hospital\n",
      "2022-07-27 17:18:00,553 - tracker - INFO - Rank 0 -- tracking contacts -- 8 of 8 of type isolation_unit\n",
      "2022-07-27 17:18:00,555 - tracker - INFO - Rank 0 -- tracking contacts -- 389 of 389 of type learning_center\n",
      "2022-07-27 17:18:00,567 - tracker - INFO - Rank 0 -- tracking contacts -- 500 of 3272 of type shelter\n",
      "2022-07-27 17:18:01,348 - tracker - INFO - Rank 0 -- tracking contacts -- 115 of 115 of type communal\n",
      "2022-07-27 17:18:01,350 - tracker - INFO - Rank 0 -- tracking contacts -- 21 of 21 of type distribution_center\n",
      "2022-07-27 17:18:01,352 - tracker - INFO - Rank 0 -- tracking contacts -- 7 of 7 of type e_voucher\n",
      "2022-07-27 17:18:01,358 - tracker - INFO - Rank 0 -- tracking contacts -- 67 of 67 of type female_communal\n",
      "2022-07-27 17:18:01,360 - tracker - INFO - Rank 0 -- tracking contacts -- 80 of 80 of type informal_work\n",
      "2022-07-27 17:18:01,364 - tracker - INFO - Rank 0 -- tracking contacts -- 41 of 41 of type n_f_distribution_center\n",
      "2022-07-27 17:18:01,367 - tracker - INFO - Rank 0 -- tracking contacts -- 500 of 540 of type play_group\n",
      "2022-07-27 17:18:01,383 - tracker - INFO - Rank 0 -- tracking contacts -- 82 of 82 of type pump_latrine\n",
      "2022-07-27 17:18:01,402 - tracker - INFO - Rank 0 -- tracking contacts -- 500 of 2065 of type religious\n",
      "2022-07-27 17:18:01,414 - rank - INFO - Rank 0 -- tracker -- 0.8621253189921845\n",
      "2022-07-27 17:18:01,431 - epidemiology - INFO - CMS: Infection COMS-v2 for rank 0/1(2)0.00035297698923386633,0.0003521442413330078 - 2020-05-30 09:00:00\n",
      "2022-07-27 17:18:01,475 - rank - INFO - Rank 0 -- interaction_waiting -- 6.943009793758392e-06\n",
      "2022-07-27 17:18:01,490 - simulator - INFO - CMS: Timestep for rank 0/1 - 1.2350722220144235,1.2350733280181885 - 2020-05-30 09:00:00\n",
      "\n",
      "2022-07-27 17:18:01,492 - rank - INFO - Next timestep\n",
      "2022-07-27 17:18:01,494 - simulator - INFO - ==================== timestep ====================\n",
      "2022-07-27 17:18:02,362 - rank - INFO - Rank 0 -- move_people -- 0.867540018982254\n",
      "2022-07-27 17:18:02,363 - rank - INFO - Rank 0 -- move_people_waiting -- 8.284987416118383e-06\n",
      "2022-07-27 17:18:02,364 - activity_manager - INFO - CMS: People COMS for rank 0/1 - 5.39200846105814e-06,5.0067901611328125e-06 - 2020-05-30 12:00:00\n",
      "2022-07-27 17:18:02,372 - simulator - INFO - Info for rank 0, Date = 2020-05-30 12:00:00, number of deaths =  0, number of infected = 1264\n",
      "2022-07-27 17:18:02,596 - rank - INFO - Rank 0 -- interaction -- 0.23059508099686354\n",
      "2022-07-27 17:18:02,597 - tracker - INFO - Rank 0 -- tracking contacts -- 8 of 8 of type hospital\n",
      "2022-07-27 17:18:02,598 - tracker - INFO - Rank 0 -- tracking contacts -- 8 of 8 of type isolation_unit\n",
      "2022-07-27 17:18:02,601 - tracker - INFO - Rank 0 -- tracking contacts -- 389 of 389 of type learning_center\n",
      "2022-07-27 17:18:02,615 - tracker - INFO - Rank 0 -- tracking contacts -- 500 of 3272 of type shelter\n",
      "2022-07-27 17:18:02,955 - tracker - INFO - Rank 0 -- tracking contacts -- 115 of 115 of type communal\n",
      "2022-07-27 17:18:02,958 - tracker - INFO - Rank 0 -- tracking contacts -- 21 of 21 of type distribution_center\n",
      "2022-07-27 17:18:03,025 - tracker - INFO - Rank 0 -- tracking contacts -- 7 of 7 of type e_voucher\n",
      "2022-07-27 17:18:03,039 - tracker - INFO - Rank 0 -- tracking contacts -- 67 of 67 of type female_communal\n",
      "2022-07-27 17:18:03,041 - tracker - INFO - Rank 0 -- tracking contacts -- 80 of 80 of type informal_work\n",
      "2022-07-27 17:18:03,128 - tracker - INFO - Rank 0 -- tracking contacts -- 41 of 41 of type n_f_distribution_center\n",
      "2022-07-27 17:18:03,316 - tracker - INFO - Rank 0 -- tracking contacts -- 500 of 540 of type play_group\n",
      "2022-07-27 17:18:03,783 - tracker - INFO - Rank 0 -- tracking contacts -- 82 of 82 of type pump_latrine\n",
      "2022-07-27 17:18:09,037 - tracker - INFO - Rank 0 -- tracking contacts -- 500 of 2065 of type religious\n",
      "2022-07-27 17:18:09,834 - rank - INFO - Rank 0 -- tracker -- 7.237497945985524\n",
      "2022-07-27 17:18:09,859 - epidemiology - INFO - CMS: Infection COMS-v2 for rank 0/1(2)0.0002320940257050097,0.0002315044403076172 - 2020-05-30 12:00:00\n",
      "2022-07-27 17:18:09,906 - rank - INFO - Rank 0 -- interaction_waiting -- 8.44398164190352e-06\n",
      "2022-07-27 17:18:09,921 - simulator - INFO - CMS: Timestep for rank 0/1 - 8.426308544003405,8.42630910873413 - 2020-05-30 12:00:00\n",
      "\n",
      "2022-07-27 17:18:09,924 - rank - INFO - Next timestep\n",
      "2022-07-27 17:18:09,926 - simulator - INFO - ==================== timestep ====================\n",
      "2022-07-27 17:18:10,843 - rank - INFO - Rank 0 -- move_people -- 0.9166305969993118\n",
      "2022-07-27 17:18:10,844 - rank - INFO - Rank 0 -- move_people_waiting -- 7.3480186983942986e-06\n",
      "2022-07-27 17:18:10,845 - activity_manager - INFO - CMS: People COMS for rank 0/1 - 5.615991540253162e-06,5.4836273193359375e-06 - 2020-05-30 14:00:00\n",
      "2022-07-27 17:18:10,853 - simulator - INFO - Info for rank 0, Date = 2020-05-30 14:00:00, number of deaths =  0, number of infected = 1311\n",
      "2022-07-27 17:18:11,083 - rank - INFO - Rank 0 -- interaction -- 0.23716370400507003\n",
      "2022-07-27 17:18:11,084 - tracker - INFO - Rank 0 -- tracking contacts -- 8 of 8 of type hospital\n",
      "2022-07-27 17:18:11,085 - tracker - INFO - Rank 0 -- tracking contacts -- 8 of 8 of type isolation_unit\n",
      "2022-07-27 17:18:11,087 - tracker - INFO - Rank 0 -- tracking contacts -- 389 of 389 of type learning_center\n",
      "2022-07-27 17:18:11,101 - tracker - INFO - Rank 0 -- tracking contacts -- 500 of 3272 of type shelter\n",
      "2022-07-27 17:18:11,439 - tracker - INFO - Rank 0 -- tracking contacts -- 115 of 115 of type communal\n",
      "2022-07-27 17:18:11,444 - tracker - INFO - Rank 0 -- tracking contacts -- 21 of 21 of type distribution_center\n",
      "2022-07-27 17:18:11,522 - tracker - INFO - Rank 0 -- tracking contacts -- 7 of 7 of type e_voucher\n",
      "2022-07-27 17:18:11,539 - tracker - INFO - Rank 0 -- tracking contacts -- 67 of 67 of type female_communal\n",
      "2022-07-27 17:18:11,541 - tracker - INFO - Rank 0 -- tracking contacts -- 80 of 80 of type informal_work\n",
      "2022-07-27 17:18:11,622 - tracker - INFO - Rank 0 -- tracking contacts -- 41 of 41 of type n_f_distribution_center\n",
      "2022-07-27 17:18:11,773 - tracker - INFO - Rank 0 -- tracking contacts -- 500 of 540 of type play_group\n",
      "2022-07-27 17:18:12,251 - tracker - INFO - Rank 0 -- tracking contacts -- 82 of 82 of type pump_latrine\n",
      "2022-07-27 17:18:17,450 - tracker - INFO - Rank 0 -- tracking contacts -- 500 of 2065 of type religious\n",
      "2022-07-27 17:18:18,304 - rank - INFO - Rank 0 -- tracker -- 7.220033199002501\n",
      "2022-07-27 17:18:18,330 - epidemiology - INFO - CMS: Infection COMS-v2 for rank 0/1(2)0.0002456989896018058,0.00024509429931640625 - 2020-05-30 14:00:00\n",
      "2022-07-27 17:18:18,374 - rank - INFO - Rank 0 -- interaction_waiting -- 8.222006727010012e-06\n",
      "2022-07-27 17:18:18,395 - simulator - INFO - CMS: Timestep for rank 0/1 - 8.468349244998535,8.468350410461426 - 2020-05-30 14:00:00\n",
      "\n",
      "2022-07-27 17:18:18,397 - rank - INFO - Next timestep\n"
     ]
    },
    {
     "name": "stdout",
     "output_type": "stream",
     "text": [
      "2022-07-27 17:18:18,399 - simulator - INFO - ==================== timestep ====================\n",
      "2022-07-27 17:18:19,211 - rank - INFO - Rank 0 -- move_people -- 0.8117143150011543\n",
      "2022-07-27 17:18:19,212 - rank - INFO - Rank 0 -- move_people_waiting -- 6.677000783383846e-06\n",
      "2022-07-27 17:18:19,212 - activity_manager - INFO - CMS: People COMS for rank 0/1 - 3.2469979487359524e-06,2.86102294921875e-06 - 2020-05-30 16:00:00\n",
      "2022-07-27 17:18:19,220 - simulator - INFO - Info for rank 0, Date = 2020-05-30 16:00:00, number of deaths =  0, number of infected = 1362\n",
      "2022-07-27 17:18:19,413 - rank - INFO - Rank 0 -- interaction -- 0.19939700499526225\n",
      "2022-07-27 17:18:19,414 - tracker - INFO - Rank 0 -- tracking contacts -- 8 of 8 of type hospital\n",
      "2022-07-27 17:18:19,414 - tracker - INFO - Rank 0 -- tracking contacts -- 8 of 8 of type isolation_unit\n",
      "2022-07-27 17:18:19,416 - tracker - INFO - Rank 0 -- tracking contacts -- 389 of 389 of type learning_center\n",
      "2022-07-27 17:18:19,428 - tracker - INFO - Rank 0 -- tracking contacts -- 500 of 3272 of type shelter\n",
      "2022-07-27 17:18:19,719 - tracker - INFO - Rank 0 -- tracking contacts -- 115 of 115 of type communal\n",
      "2022-07-27 17:18:19,722 - tracker - INFO - Rank 0 -- tracking contacts -- 21 of 21 of type distribution_center\n",
      "2022-07-27 17:18:19,779 - tracker - INFO - Rank 0 -- tracking contacts -- 7 of 7 of type e_voucher\n",
      "2022-07-27 17:18:19,809 - tracker - INFO - Rank 0 -- tracking contacts -- 67 of 67 of type female_communal\n",
      "2022-07-27 17:18:19,812 - tracker - INFO - Rank 0 -- tracking contacts -- 80 of 80 of type informal_work\n",
      "2022-07-27 17:18:19,896 - tracker - INFO - Rank 0 -- tracking contacts -- 41 of 41 of type n_f_distribution_center\n",
      "2022-07-27 17:18:20,071 - tracker - INFO - Rank 0 -- tracking contacts -- 500 of 540 of type play_group\n",
      "2022-07-27 17:18:20,501 - tracker - INFO - Rank 0 -- tracking contacts -- 82 of 82 of type pump_latrine\n",
      "2022-07-27 17:18:24,850 - tracker - INFO - Rank 0 -- tracking contacts -- 500 of 2065 of type religious\n",
      "2022-07-27 17:18:25,560 - rank - INFO - Rank 0 -- tracker -- 6.146537390013691\n",
      "2022-07-27 17:18:25,581 - epidemiology - INFO - CMS: Infection COMS-v2 for rank 0/1(2)0.00023066002177074552,0.00023031234741210938 - 2020-05-30 16:00:00\n",
      "2022-07-27 17:18:25,629 - rank - INFO - Rank 0 -- interaction_waiting -- 6.204994861036539e-06\n",
      "2022-07-27 17:18:25,643 - simulator - INFO - CMS: Timestep for rank 0/1 - 7.24311983800726,7.2431206703186035 - 2020-05-30 16:00:00\n",
      "\n",
      "2022-07-27 17:18:25,646 - rank - INFO - Next timestep\n",
      "2022-07-27 17:18:25,647 - simulator - INFO - ==================== timestep ====================\n",
      "2022-07-27 17:18:26,501 - rank - INFO - Rank 0 -- move_people -- 0.8529540699964855\n",
      "2022-07-27 17:18:26,502 - rank - INFO - Rank 0 -- move_people_waiting -- 3.928988007828593e-06\n",
      "2022-07-27 17:18:26,503 - activity_manager - INFO - CMS: People COMS for rank 0/1 - 3.60200647264719e-06,3.0994415283203125e-06 - 2020-05-30 18:00:00\n",
      "2022-07-27 17:18:26,509 - simulator - INFO - Info for rank 0, Date = 2020-05-30 18:00:00, number of deaths =  0, number of infected = 1411\n",
      "2022-07-27 17:18:26,733 - rank - INFO - Rank 0 -- interaction -- 0.22943605500040576\n",
      "2022-07-27 17:18:26,734 - tracker - INFO - Rank 0 -- tracking contacts -- 8 of 8 of type hospital\n",
      "2022-07-27 17:18:26,735 - tracker - INFO - Rank 0 -- tracking contacts -- 8 of 8 of type isolation_unit\n",
      "2022-07-27 17:18:26,738 - tracker - INFO - Rank 0 -- tracking contacts -- 389 of 389 of type learning_center\n",
      "2022-07-27 17:18:26,752 - tracker - INFO - Rank 0 -- tracking contacts -- 500 of 3272 of type shelter\n",
      "2022-07-27 17:18:27,076 - tracker - INFO - Rank 0 -- tracking contacts -- 115 of 115 of type communal\n",
      "2022-07-27 17:18:27,078 - tracker - INFO - Rank 0 -- tracking contacts -- 21 of 21 of type distribution_center\n",
      "2022-07-27 17:18:27,149 - tracker - INFO - Rank 0 -- tracking contacts -- 7 of 7 of type e_voucher\n",
      "2022-07-27 17:18:27,167 - tracker - INFO - Rank 0 -- tracking contacts -- 67 of 67 of type female_communal\n",
      "2022-07-27 17:18:27,169 - tracker - INFO - Rank 0 -- tracking contacts -- 80 of 80 of type informal_work\n",
      "2022-07-27 17:18:27,256 - tracker - INFO - Rank 0 -- tracking contacts -- 41 of 41 of type n_f_distribution_center\n",
      "2022-07-27 17:18:27,431 - tracker - INFO - Rank 0 -- tracking contacts -- 500 of 540 of type play_group\n",
      "2022-07-27 17:18:27,898 - tracker - INFO - Rank 0 -- tracking contacts -- 82 of 82 of type pump_latrine\n",
      "2022-07-27 17:18:32,932 - tracker - INFO - Rank 0 -- tracking contacts -- 500 of 2065 of type religious\n",
      "2022-07-27 17:18:33,686 - rank - INFO - Rank 0 -- tracker -- 6.951478665985633\n",
      "2022-07-27 17:18:33,715 - epidemiology - INFO - CMS: Infection COMS-v2 for rank 0/1(2)0.00022396599524654448,0.00022268295288085938 - 2020-05-30 18:00:00\n",
      "2022-07-27 17:18:33,761 - rank - INFO - Rank 0 -- interaction_waiting -- 7.1150134317576885e-06\n",
      "2022-07-27 17:18:33,777 - simulator - INFO - CMS: Timestep for rank 0/1 - 8.128324718010845,8.128326177597046 - 2020-05-30 18:00:00\n",
      "\n",
      "2022-07-27 17:18:33,780 - rank - INFO - Next timestep\n",
      "2022-07-27 17:18:33,781 - simulator - INFO - ==================== timestep ====================\n",
      "2022-07-27 17:18:34,040 - rank - INFO - Rank 0 -- move_people -- 0.2580527320096735\n",
      "2022-07-27 17:18:34,041 - rank - INFO - Rank 0 -- move_people_waiting -- 9.821000276133418e-06\n",
      "2022-07-27 17:18:34,042 - activity_manager - INFO - CMS: People COMS for rank 0/1 - 4.060013452544808e-06,3.5762786865234375e-06 - 2020-05-30 20:00:00\n",
      "2022-07-27 17:18:34,050 - simulator - INFO - Info for rank 0, Date = 2020-05-30 20:00:00, number of deaths =  0, number of infected = 1468\n",
      "2022-07-27 17:18:34,227 - rank - INFO - Rank 0 -- interaction -- 0.18390883499523625\n",
      "2022-07-27 17:18:34,228 - tracker - INFO - Rank 0 -- tracking contacts -- 8 of 8 of type hospital\n",
      "2022-07-27 17:18:34,229 - tracker - INFO - Rank 0 -- tracking contacts -- 8 of 8 of type isolation_unit\n",
      "2022-07-27 17:18:34,231 - tracker - INFO - Rank 0 -- tracking contacts -- 389 of 389 of type learning_center\n",
      "2022-07-27 17:18:34,250 - tracker - INFO - Rank 0 -- tracking contacts -- 500 of 3272 of type shelter\n",
      "2022-07-27 17:18:35,366 - tracker - INFO - Rank 0 -- tracking contacts -- 115 of 115 of type communal\n",
      "2022-07-27 17:18:35,369 - tracker - INFO - Rank 0 -- tracking contacts -- 21 of 21 of type distribution_center\n",
      "2022-07-27 17:18:35,371 - tracker - INFO - Rank 0 -- tracking contacts -- 7 of 7 of type e_voucher\n",
      "2022-07-27 17:18:35,373 - tracker - INFO - Rank 0 -- tracking contacts -- 67 of 67 of type female_communal\n",
      "2022-07-27 17:18:35,379 - tracker - INFO - Rank 0 -- tracking contacts -- 80 of 80 of type informal_work\n",
      "2022-07-27 17:18:35,382 - tracker - INFO - Rank 0 -- tracking contacts -- 41 of 41 of type n_f_distribution_center\n",
      "2022-07-27 17:18:35,386 - tracker - INFO - Rank 0 -- tracking contacts -- 500 of 540 of type play_group\n",
      "2022-07-27 17:18:35,401 - tracker - INFO - Rank 0 -- tracking contacts -- 82 of 82 of type pump_latrine\n",
      "2022-07-27 17:18:35,416 - tracker - INFO - Rank 0 -- tracking contacts -- 500 of 2065 of type religious\n",
      "2022-07-27 17:18:35,428 - rank - INFO - Rank 0 -- tracker -- 1.2006548030185513\n",
      "2022-07-27 17:18:35,498 - epidemiology - INFO - CMS: Infection COMS-v2 for rank 0/1(2)0.00026375800371170044,0.00026297569274902344 - 2020-05-30 20:00:00\n",
      "2022-07-27 17:18:35,552 - rank - INFO - Rank 0 -- interaction_waiting -- 7.404974894598126e-06\n",
      "2022-07-27 17:18:35,569 - simulator - INFO - CMS: Timestep for rank 0/1 - 1.7871088560204953,1.7871098518371582 - 2020-05-30 20:00:00\n",
      "\n",
      "CPU times: user 4min 33s, sys: 7.03 s, total: 4min 40s\n",
      "Wall time: 4min 33s\n"
     ]
    }
   ],
   "source": [
    "%%time\n",
    "simulator.run()"
   ]
  },
  {
   "cell_type": "markdown",
   "metadata": {},
   "source": [
    "# Getting the results"
   ]
  },
  {
   "cell_type": "markdown",
   "metadata": {},
   "source": [
    "All results are stored in a json file specified in the `record_path` when defining the recorder. This can be read in by passing the folder locations to the `RecordReader` class and results derived.\n",
    "\n",
    "Here we show some examples of the kind of analysis you can extract from the records."
   ]
  },
  {
   "cell_type": "code",
   "execution_count": 55,
   "metadata": {},
   "outputs": [],
   "source": [
    "import pandas as pd"
   ]
  },
  {
   "cell_type": "code",
   "execution_count": 56,
   "metadata": {},
   "outputs": [],
   "source": [
    "read = RecordReader(Results_Path)"
   ]
  },
  {
   "cell_type": "markdown",
   "metadata": {},
   "source": [
    "The regional summary gives you information at the regional (camp) level."
   ]
  },
  {
   "cell_type": "markdown",
   "metadata": {},
   "source": [
    "### Regional information"
   ]
  },
  {
   "cell_type": "code",
   "execution_count": 57,
   "metadata": {},
   "outputs": [
    {
     "data": {
      "text/html": [
       "<div>\n",
       "<style scoped>\n",
       "    .dataframe tbody tr th:only-of-type {\n",
       "        vertical-align: middle;\n",
       "    }\n",
       "\n",
       "    .dataframe tbody tr th {\n",
       "        vertical-align: top;\n",
       "    }\n",
       "\n",
       "    .dataframe thead th {\n",
       "        text-align: right;\n",
       "    }\n",
       "</style>\n",
       "<table border=\"1\" class=\"dataframe\">\n",
       "  <thead>\n",
       "    <tr style=\"text-align: right;\">\n",
       "      <th></th>\n",
       "      <th>region</th>\n",
       "      <th>current_infected</th>\n",
       "      <th>daily_infected</th>\n",
       "      <th>current_hospitalised</th>\n",
       "      <th>daily_hospitalised</th>\n",
       "      <th>current_intensive_care</th>\n",
       "      <th>daily_intensive_care</th>\n",
       "      <th>daily_hospital_deaths</th>\n",
       "      <th>daily_deaths</th>\n",
       "    </tr>\n",
       "    <tr>\n",
       "      <th>time_stamp</th>\n",
       "      <th></th>\n",
       "      <th></th>\n",
       "      <th></th>\n",
       "      <th></th>\n",
       "      <th></th>\n",
       "      <th></th>\n",
       "      <th></th>\n",
       "      <th></th>\n",
       "      <th></th>\n",
       "    </tr>\n",
       "  </thead>\n",
       "  <tbody>\n",
       "    <tr>\n",
       "      <th>2020-05-24</th>\n",
       "      <td>CXB-219</td>\n",
       "      <td>231.000000</td>\n",
       "      <td>251</td>\n",
       "      <td>0.0</td>\n",
       "      <td>0</td>\n",
       "      <td>0.0</td>\n",
       "      <td>0</td>\n",
       "      <td>0</td>\n",
       "      <td>0</td>\n",
       "    </tr>\n",
       "    <tr>\n",
       "      <th>2020-05-25</th>\n",
       "      <td>CXB-219</td>\n",
       "      <td>274.666667</td>\n",
       "      <td>65</td>\n",
       "      <td>0.0</td>\n",
       "      <td>0</td>\n",
       "      <td>0.0</td>\n",
       "      <td>0</td>\n",
       "      <td>0</td>\n",
       "      <td>0</td>\n",
       "    </tr>\n",
       "    <tr>\n",
       "      <th>2020-05-26</th>\n",
       "      <td>CXB-219</td>\n",
       "      <td>372.000000</td>\n",
       "      <td>145</td>\n",
       "      <td>0.0</td>\n",
       "      <td>0</td>\n",
       "      <td>0.0</td>\n",
       "      <td>0</td>\n",
       "      <td>0</td>\n",
       "      <td>0</td>\n",
       "    </tr>\n",
       "  </tbody>\n",
       "</table>\n",
       "</div>"
      ],
      "text/plain": [
       "             region  current_infected  daily_infected  current_hospitalised  \\\n",
       "time_stamp                                                                    \n",
       "2020-05-24  CXB-219        231.000000             251                   0.0   \n",
       "2020-05-25  CXB-219        274.666667              65                   0.0   \n",
       "2020-05-26  CXB-219        372.000000             145                   0.0   \n",
       "\n",
       "            daily_hospitalised  current_intensive_care  daily_intensive_care  \\\n",
       "time_stamp                                                                     \n",
       "2020-05-24                   0                     0.0                     0   \n",
       "2020-05-25                   0                     0.0                     0   \n",
       "2020-05-26                   0                     0.0                     0   \n",
       "\n",
       "            daily_hospital_deaths  daily_deaths  \n",
       "time_stamp                                       \n",
       "2020-05-24                      0             0  \n",
       "2020-05-25                      0             0  \n",
       "2020-05-26                      0             0  "
      ]
     },
     "execution_count": 57,
     "metadata": {},
     "output_type": "execute_result"
    }
   ],
   "source": [
    "read.regional_summary.head(3) # this is the equivalent of the summary.csv"
   ]
  },
  {
   "cell_type": "markdown",
   "metadata": {},
   "source": [
    "### Daily infections"
   ]
  },
  {
   "cell_type": "code",
   "execution_count": 58,
   "metadata": {},
   "outputs": [],
   "source": [
    "summary = read.regional_summary.reset_index()"
   ]
  },
  {
   "cell_type": "code",
   "execution_count": 59,
   "metadata": {},
   "outputs": [
    {
     "data": {
      "image/png": "[encoded data removed]",
      "text/plain": [
       "<Figure size 432x288 with 1 Axes>"
      ]
     },
     "metadata": {
      "needs_background": "light"
     },
     "output_type": "display_data"
    }
   ],
   "source": [
    "summary.groupby(['time_stamp']).sum().plot(y=['daily_infected'])\n",
    "plt.ylabel('Daily infections')\n",
    "plt.show()"
   ]
  },
  {
   "cell_type": "markdown",
   "metadata": {},
   "source": [
    "### Hospital and intensive care"
   ]
  },
  {
   "cell_type": "code",
   "execution_count": 60,
   "metadata": {},
   "outputs": [
    {
     "data": {
      "image/png": "[encoded data removed]",
      "text/plain": [
       "<Figure size 432x288 with 1 Axes>"
      ]
     },
     "metadata": {
      "needs_background": "light"
     },
     "output_type": "display_data"
    }
   ],
   "source": [
    "summary.groupby(['time_stamp']).sum().plot(y=['current_hospitalised', 'current_intensive_care'])\n",
    "plt.show()"
   ]
  },
  {
   "cell_type": "markdown",
   "metadata": {},
   "source": [
    "### Cumulative infections by age"
   ]
  },
  {
   "cell_type": "code",
   "execution_count": 61,
   "metadata": {},
   "outputs": [
    {
     "name": "stdout",
     "output_type": "stream",
     "text": [
      "2022-07-27 17:18:36,209 - june.records.records_reader - INFO - Loading infections table\n",
      "2022-07-27 17:18:36,227 - june.records.records_reader - INFO - Loading population table\n",
      "2022-07-27 17:18:36,291 - june.records.records_reader - INFO - Merging infection and population tables\n",
      "2022-07-27 17:18:36,300 - june.records.records_reader - INFO - Loading geography table\n",
      "2022-07-27 17:18:36,591 - june.records.records_reader - INFO - Mergeing infection and geography tables\n"
     ]
    }
   ],
   "source": [
    "infections_df = read.get_table_with_extras('infections',\n",
    "                                           'infected_ids')"
   ]
  },
  {
   "cell_type": "code",
   "execution_count": 62,
   "metadata": {},
   "outputs": [
    {
     "name": "stdout",
     "output_type": "stream",
     "text": [
      "2022-07-27 17:18:36,606 - june.records.records_reader - INFO - Loading deaths table\n",
      "2022-07-27 17:18:36,616 - june.records.records_reader - INFO - Loading population table\n",
      "2022-07-27 17:18:36,708 - june.records.records_reader - INFO - Merging infection and population tables\n",
      "2022-07-27 17:18:36,715 - june.records.records_reader - INFO - Loading geography table\n",
      "2022-07-27 17:18:36,747 - june.records.records_reader - INFO - Mergeing infection and geography tables\n"
     ]
    }
   ],
   "source": [
    "deaths_df = read.get_table_with_extras('deaths', \n",
    "                                       'dead_person_ids')"
   ]
  },
  {
   "cell_type": "code",
   "execution_count": 63,
   "metadata": {},
   "outputs": [],
   "source": [
    "age_bins = (0,20,60,100)"
   ]
  },
  {
   "cell_type": "code",
   "execution_count": 64,
   "metadata": {},
   "outputs": [],
   "source": [
    "infected_by_age = infections_df.groupby([pd.cut(infections_df['age'],\n",
    "            bins=age_bins), 'timestamp']).size()"
   ]
  },
  {
   "cell_type": "code",
   "execution_count": 65,
   "metadata": {},
   "outputs": [],
   "source": [
    "people_df = read.table_to_df('population')"
   ]
  },
  {
   "cell_type": "code",
   "execution_count": 66,
   "metadata": {},
   "outputs": [],
   "source": [
    "n_by_age = people_df.groupby(pd.cut(people_df['age'],\n",
    "            bins=age_bins)).size()"
   ]
  },
  {
   "cell_type": "code",
   "execution_count": 67,
   "metadata": {},
   "outputs": [
    {
     "data": {
      "text/plain": [
       "<matplotlib.legend.Legend at 0x7ff122792160>"
      ]
     },
     "execution_count": 67,
     "metadata": {},
     "output_type": "execute_result"
    },
    {
     "data": {
      "image/png": "[encoded data removed]",
      "text/plain": [
       "<Figure size 432x288 with 1 Axes>"
      ]
     },
     "metadata": {
      "needs_background": "light"
     },
     "output_type": "display_data"
    }
   ],
   "source": [
    "(100*infected_by_age/n_by_age).xs(10).cumsum().plot(label='0,20')\n",
    "(100*infected_by_age/n_by_age).xs(30).cumsum().plot(label='20,60')\n",
    "(100*infected_by_age/n_by_age).xs(70).cumsum().plot(label='60,100')\n",
    "plt.ylabel(\"% cumulative infected\")\n",
    "plt.legend()"
   ]
  },
  {
   "cell_type": "markdown",
   "metadata": {},
   "source": [
    "### Where people get infected"
   ]
  },
  {
   "cell_type": "code",
   "execution_count": 68,
   "metadata": {},
   "outputs": [],
   "source": [
    "locations_df = infections_df.groupby(['location_specs', \n",
    "                                'timestamp']).size()"
   ]
  },
  {
   "cell_type": "code",
   "execution_count": 69,
   "metadata": {},
   "outputs": [
    {
     "data": {
      "text/plain": [
       "<AxesSubplot:xlabel='timestamp'>"
      ]
     },
     "execution_count": 69,
     "metadata": {},
     "output_type": "execute_result"
    },
    {
     "data": {
      "image/png": "[encoded data removed]",
      "text/plain": [
       "<Figure size 432x288 with 1 Axes>"
      ]
     },
     "metadata": {
      "needs_background": "light"
     },
     "output_type": "display_data"
    }
   ],
   "source": [
    "locations_df.unstack(level=0).plot()"
   ]
  },
  {
   "cell_type": "code",
   "execution_count": 70,
   "metadata": {},
   "outputs": [
    {
     "data": {
      "text/plain": [
       "Text(0.5, 0, 'location')"
      ]
     },
     "execution_count": 70,
     "metadata": {},
     "output_type": "execute_result"
    },
    {
     "data": {
      "image/png": "[encoded data removed]",
      "text/plain": [
       "<Figure size 432x288 with 1 Axes>"
      ]
     },
     "metadata": {
      "needs_background": "light"
     },
     "output_type": "display_data"
    }
   ],
   "source": [
    "import matplotlib.ticker as mtick\n",
    "location_counts_df = locations_df.groupby('location_specs').size()\n",
    "location_counts_df = 100*location_counts_df / location_counts_df.sum()\n",
    "ax = location_counts_df.sort_values().plot.bar()\n",
    "ax.yaxis.set_major_formatter(mtick.PercentFormatter())\n",
    "plt.ylabel('Percentage of infections at location')\n",
    "plt.xlabel('location')"
   ]
  },
  {
   "cell_type": "markdown",
   "metadata": {},
   "source": [
    "# Tracker results"
   ]
  },
  {
   "cell_type": "markdown",
   "metadata": {},
   "source": [
    "We can define custom binnings with bin edges as such."
   ]
  },
  {
   "cell_type": "code",
   "execution_count": 71,
   "metadata": {},
   "outputs": [
    {
     "data": {
      "text/plain": [
       "1"
      ]
     },
     "execution_count": 71,
     "metadata": {},
     "output_type": "execute_result"
    }
   ],
   "source": [
    "simulator.tracker.contract_matrices(\"AC\", np.array([0,18,60]))"
   ]
  },
  {
   "cell_type": "markdown",
   "metadata": {},
   "source": [
    "Lastly we call the tracker to save the results to file and provide a print out of the results."
   ]
  },
  {
   "cell_type": "code",
   "execution_count": 72,
   "metadata": {
    "scrolled": true
   },
   "outputs": [
    {
     "name": "stdout",
     "output_type": "stream",
     "text": [
      "2.0 1.5\n",
      "Results from 1D interactions...\n",
      "\n",
      "  communal:\n",
      "    contacts: [[3.9240,7.8640],[1.1228,5.9252]]\n",
      "    contacts_err: [[1.4007,1.9829],[0.7493,1.7212]]\n",
      "    proportion_physical: [[0.1200]]\n",
      "    characteristic_time: 1.00\n",
      "\n",
      "    Ratio of contacts and feed in values: [[0.7848,0.9697],[0.7339,0.9875]]\n",
      "\n",
      "  distribution_center:\n",
      "    contacts: [[4.0485,13.6308],[0.7600,10.0529]]\n",
      "    contacts_err: [[1.4228,2.6106],[0.6164,2.2420]]\n",
      "    proportion_physical: [[0.1200]]\n",
      "    characteristic_time: 1.00\n",
      "\n",
      "    Ratio of contacts and feed in values: [[1.0121,1.0001],[0.9620,1.0053]]\n",
      "\n",
      "  e_voucher:\n",
      "    contacts: [[0.2262,2.0989],[0.0992,13.2716]]\n",
      "    contacts_err: [[0.3363,1.0244],[0.2227,2.5760]]\n",
      "    proportion_physical: [[0.1200]]\n",
      "    characteristic_time: 1.00\n",
      "\n",
      "    Ratio of contacts and feed in values: [[0.0000,1.0494],[0.9916,0.9831]]\n",
      "\n",
      "  female_communal:\n",
      "    contacts: [[5.0445,8.2170],[1.5418,6.0294]]\n",
      "    contacts_err: [[1.5882,2.0269],[0.8780,1.7363]]\n",
      "    proportion_physical: [[0.1200]]\n",
      "    characteristic_time: 1.00\n",
      "\n",
      "    Ratio of contacts and feed in values: [[1.0089,1.0132],[1.0077,1.0049]]\n",
      "\n",
      "  hospital:\n",
      "    contacts: [[4.9772,0.0000,0.0000],[0.0000,0.0000,0.0000],[0.0000,0.0000,0.0000]]\n",
      "    contacts_err: [[4.4619,0.0000,0.0000],[0.0000,0.0000,0.0000],[0.0000,0.0000,0.0000]]\n",
      "    proportion_physical: [[0.0500,1.0000,1.0000],[1.0000,0.0000,0.0000],[1.0000,0.0000,0.0000]]\n",
      "    characteristic_time: 8.00\n",
      "\n",
      "    Ratio of contacts and feed in values: [[0.9954,0.0000,0.0000],[0.0000,0.0000,0.0000],[0.0000,0.0000,0.0000]]\n",
      "\n",
      "  informal_work:\n",
      "    contacts: [[5.0850]]\n",
      "    contacts_err: [[4.5100]]\n",
      "    proportion_physical: [[0.1200]]\n",
      "    characteristic_time: 8.00\n",
      "\n",
      "    Ratio of contacts and feed in values: [[1.0170]]\n",
      "\n",
      "  isolation_unit:\n",
      "    contacts: [[0.0000,0.0000],[0.0000,0.0000]]\n",
      "    contacts_err: [[0.0000,0.0000],[0.0000,0.0000]]\n",
      "    proportion_physical: [[0.0000,0.0000],[0.0000,0.0000]]\n",
      "    characteristic_time: 24.00\n",
      "\n",
      "    Ratio of contacts and feed in values: [[0.0000,0.0000],[0.0000,0.0000]]\n",
      "\n",
      "  learning_center:\n",
      "    contacts: [[10.0001,6.4065],[2.0062,3.8688]]\n",
      "    contacts_err: [[2.7386,2.1920],[1.2266,1.7034]]\n",
      "    proportion_physical: [[0.1200,0.1200],[0.1200,0.1200]]\n",
      "    characteristic_time: 1.50\n",
      "\n",
      "    Ratio of contacts and feed in values: [[1.0000,1.0010],[0.4519,0.9971]]\n",
      "\n",
      "  n_f_distribution_center:\n",
      "    contacts: [[3.9937,13.7941],[0.7981,10.0474]]\n",
      "    contacts_err: [[1.4131,2.6262],[0.6317,2.2414]]\n",
      "    proportion_physical: [[0.1200]]\n",
      "    characteristic_time: 1.00\n",
      "\n",
      "    Ratio of contacts and feed in values: [[0.9984,1.0120],[1.0102,1.0047]]\n",
      "\n",
      "  play_group:\n",
      "    contacts: [[4.9830,0.0000,0.0000],[0.0000,4.9396,0.0000],[0.0000,0.0000,4.9222]]\n",
      "    contacts_err: [[2.2323,0.0000,0.0000],[0.0000,2.2225,0.0000],[0.0000,0.0000,2.2186]]\n",
      "    proportion_physical: [[0.6000,0.0000,0.0000],[0.0000,0.3000,0.0000],[0.0000,0.0000,0.1500]]\n",
      "    characteristic_time: 2.00\n",
      "\n",
      "    Ratio of contacts and feed in values: [[0.9966,0.0000,0.0000],[0.0000,0.9879,0.0000],[0.0000,0.0000,0.9844]]\n",
      "\n",
      "  pump_latrine:\n",
      "    contacts: [[3.2480,9.7158],[1.6299,4.3276]]\n",
      "    contacts_err: [[0.9365,1.6196],[0.6634,1.0809]]\n",
      "    proportion_physical: [[0.0200]]\n",
      "    characteristic_time: 0.54\n",
      "\n",
      "    Ratio of contacts and feed in values: [[0.9994,0.9985],[0.9999,0.9994]]\n",
      "\n",
      "  religious:\n",
      "    contacts: [[4.9851,9.4303],[1.1060,8.4941]]\n",
      "    contacts_err: [[1.5788,2.1714],[0.7436,2.0608]]\n",
      "    proportion_physical: [[0.1200]]\n",
      "    characteristic_time: 1.00\n",
      "\n",
      "    Ratio of contacts and feed in values: [[0.9970,0.9958],[1.0054,0.9993]]\n",
      "\n",
      "  shelter:\n",
      "    contacts: [[4.8504,2.0022],[2.0022,4.8504]]\n",
      "    contacts_err: [[3.2238,2.3917],[2.3917,3.2238]]\n",
      "    proportion_physical: [[0.8000,0.3000],[0.8000,0.3000]]\n",
      "    characteristic_time: 12.00\n",
      "\n",
      "    Ratio of contacts and feed in values: [[0.9701,1.0011],[1.0011,0.9701]]\n",
      "\n",
      "Results from all contacts all interactions...\n",
      "\n",
      "  communal:\n",
      "    contacts: [[0.1356,0.3644],[0.1377,0.3623]]\n",
      "    contacts_err: [[0.2604,0.4269],[0.2624,0.4256]]\n",
      "    proportion_physical: [[0.1200]]\n",
      "    characteristic_time: 1.00\n",
      "\n",
      "    Ratio of contacts and feed in values: [[0.0271,0.0449],[0.0900,0.0604]]\n",
      "\n",
      "  distribution_center:\n",
      "    contacts: [[0.1283,0.3717],[0.1272,0.3728]]\n",
      "    contacts_err: [[0.2533,0.4311],[0.2522,0.4318]]\n",
      "    proportion_physical: [[0.1200]]\n",
      "    characteristic_time: 1.00\n",
      "\n",
      "    Ratio of contacts and feed in values: [[0.0321,0.0273],[0.1610,0.0373]]\n",
      "\n",
      "  e_voucher:\n",
      "    contacts: [[0.1307,0.3693],[0.1356,0.3644]]\n",
      "    contacts_err: [[0.2556,0.4297],[0.2604,0.4268]]\n",
      "    proportion_physical: [[0.1200]]\n",
      "    characteristic_time: 1.00\n",
      "\n",
      "    Ratio of contacts and feed in values: [[0.0000,0.1846],[1.3565,0.0270]]\n",
      "\n",
      "  female_communal:\n",
      "    contacts: [[0.2441,0.2559],[0.2460,0.2540]]\n",
      "    contacts_err: [[0.3493,0.3577],[0.3507,0.3563]]\n",
      "    proportion_physical: [[0.1200]]\n",
      "    characteristic_time: 1.00\n",
      "\n",
      "    Ratio of contacts and feed in values: [[0.0488,0.0316],[0.1608,0.0423]]\n",
      "\n",
      "  hospital:\n",
      "    contacts: [[4.0000,0.0000,0.0000],[0.0000,0.0000,0.0000],[0.0000,0.0000,0.0000]]\n",
      "    contacts_err: [[4.0000,0.0000,0.0000],[0.0000,0.0000,0.0000],[0.0000,0.0000,0.0000]]\n",
      "    proportion_physical: [[0.0500,1.0000,1.0000],[1.0000,0.0000,0.0000],[1.0000,0.0000,0.0000]]\n",
      "    characteristic_time: 8.00\n",
      "\n",
      "    Ratio of contacts and feed in values: [[0.8000,0.0000,0.0000],[0.0000,0.0000,0.0000],[0.0000,0.0000,0.0000]]\n",
      "\n",
      "  informal_work:\n",
      "    contacts: [[4.0000]]\n",
      "    contacts_err: [[4.0000]]\n",
      "    proportion_physical: [[0.1200]]\n",
      "    characteristic_time: 8.00\n",
      "\n",
      "    Ratio of contacts and feed in values: [[0.8000]]\n",
      "\n",
      "  isolation_unit:\n",
      "    contacts: [[0.0000,0.0000],[0.0000,0.0000]]\n",
      "    contacts_err: [[0.0000,0.0000],[0.0000,0.0000]]\n",
      "    proportion_physical: [[0.0000,0.0000],[0.0000,0.0000]]\n",
      "    characteristic_time: 24.00\n",
      "\n",
      "    Ratio of contacts and feed in values: [[0.0000,0.0000],[0.0000,0.0000]]\n",
      "\n",
      "  learning_center:\n",
      "    contacts: [[0.5481,0.2019],[0.2516,0.4984]]\n",
      "    contacts_err: [[0.6412,0.3891],[0.4344,0.6114]]\n",
      "    proportion_physical: [[0.1200,0.1200],[0.1200,0.1200]]\n",
      "    characteristic_time: 1.50\n",
      "\n",
      "    Ratio of contacts and feed in values: [[0.0548,0.0315],[0.0567,0.1284]]\n",
      "\n",
      "  n_f_distribution_center:\n",
      "    contacts: [[0.1309,0.3691],[0.1318,0.3682]]\n",
      "    contacts_err: [[0.2559,0.4296],[0.2568,0.4290]]\n",
      "    proportion_physical: [[0.1200]]\n",
      "    characteristic_time: 1.00\n",
      "\n",
      "    Ratio of contacts and feed in values: [[0.0327,0.0271],[0.1669,0.0368]]\n",
      "\n",
      "  play_group:\n",
      "    contacts: [[0.3742,0.4143,0.2114],[0.3703,0.4189,0.2107],[0.3725,0.4154,0.2121]]\n",
      "    contacts_err: [[0.6117,0.6437,0.4598],[0.6085,0.6473,0.4591],[0.6103,0.6445,0.4606]]\n",
      "    proportion_physical: [[0.6000,0.0000,0.0000],[0.0000,0.3000,0.0000],[0.0000,0.0000,0.1500]]\n",
      "    characteristic_time: 2.00\n",
      "\n",
      "    Ratio of contacts and feed in values: [[0.0748,0.0000,0.0000],[0.0000,0.0838,0.0000],[0.0000,0.0000,0.0424]]\n",
      "\n",
      "  pump_latrine:\n",
      "    contacts: [[0.1539,0.1161],[0.1512,0.1188]]\n",
      "    contacts_err: [[0.2038,0.1770],[0.2020,0.1791]]\n",
      "    proportion_physical: [[0.0200]]\n",
      "    characteristic_time: 0.54\n",
      "\n",
      "    Ratio of contacts and feed in values: [[0.0474,0.0119],[0.0927,0.0274]]\n",
      "\n",
      "  religious:\n",
      "    contacts: [[0.1674,0.3326],[0.1551,0.3449]]\n",
      "    contacts_err: [[0.2893,0.4078],[0.2785,0.4153]]\n",
      "    proportion_physical: [[0.1200]]\n",
      "    characteristic_time: 1.00\n",
      "\n",
      "    Ratio of contacts and feed in values: [[0.0335,0.0351],[0.1410,0.0406]]\n",
      "\n",
      "  shelter:\n",
      "    contacts: [[1.2808,1.1491],[1.1491,1.2808]]\n",
      "    contacts_err: [[1.6566,1.8119],[1.8119,1.6566]]\n",
      "    proportion_physical: [[0.8000,0.3000],[0.8000,0.3000]]\n",
      "    characteristic_time: 12.00\n",
      "\n",
      "    Ratio of contacts and feed in values: [[0.2562,0.5745],[0.5745,0.2562]]\n",
      "\n"
     ]
    },
    {
     "data": {
      "text/plain": [
       "1"
      ]
     },
     "execution_count": 72,
     "metadata": {},
     "output_type": "execute_result"
    }
   ],
   "source": [
    "simulator.tracker.post_process_simulation(save=True)"
   ]
  },
  {
   "cell_type": "code",
   "execution_count": null,
   "metadata": {},
   "outputs": [],
   "source": []
  },
  {
   "cell_type": "code",
   "execution_count": null,
   "metadata": {},
   "outputs": [],
   "source": []
  }
 ],
 "metadata": {
  "kernelspec": {
   "display_name": "Python 3 (ipykernel)",
   "language": "python",
   "name": "python3"
  },
  "language_info": {
   "codemirror_mode": {
    "name": "ipython",
    "version": 3
   },
   "file_extension": ".py",
   "mimetype": "text/x-python",
   "name": "python",
   "nbconvert_exporter": "python",
   "pygments_lexer": "ipython3",
   "version": "3.8.10"
  }
 },
 "nbformat": 4,
 "nbformat_minor": 4
}
