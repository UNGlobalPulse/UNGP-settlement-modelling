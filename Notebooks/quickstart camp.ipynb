{
 "cells": [
  {
   "cell_type": "code",
   "execution_count": 1,
   "metadata": {},
   "outputs": [],
   "source": [
    "%load_ext autoreload\n",
    "%autoreload 2"
   ]
  },
  {
   "cell_type": "code",
   "execution_count": 2,
   "metadata": {},
   "outputs": [],
   "source": [
    "import warnings\n",
    "warnings.filterwarnings('ignore')"
   ]
  },
  {
   "cell_type": "code",
   "execution_count": 3,
   "metadata": {},
   "outputs": [],
   "source": [
    "import numpy as np\n",
    "import matplotlib.pyplot as plt \n",
    "import pandas as pd\n",
    "import time\n",
    "import matplotlib.pyplot as plt\n",
    "import seaborn as sns\n",
    "from datetime import datetime\n",
    "import sys\n",
    "sys.path.append(\"../camp_scripts\") # change accordingly\n",
    "sns.set_context('notebook')"
   ]
  },
  {
   "cell_type": "code",
   "execution_count": 4,
   "metadata": {},
   "outputs": [
    {
     "name": "stderr",
     "output_type": "stream",
     "text": [
      "No --data argument given - defaulting to:\n",
      "/home/florpi/camps/JUNE/data\n",
      "No --configs argument given - defaulting to:\n",
      "/home/florpi/camps/JUNE/configs\n"
     ]
    },
    {
     "name": "stdout",
     "output_type": "stream",
     "text": [
      "2020-09-01 16:57:42,277 - camps.paths - WARNING - No --data argument given - defaulting to:\n",
      "/home/florpi/camps/JUNE/data\n",
      "2020-09-01 16:57:42,278 - camps.paths - WARNING - No --configs argument given - defaulting to:\n",
      "/home/florpi/camps/JUNE/configs\n",
      "2020-09-01 16:57:42,279 - camps.paths - WARNING - No --camp_data argument given - defaulting to:\n",
      "/home/florpi/camps/JUNE/camp_data\n",
      "2020-09-01 16:57:42,281 - camps.paths - WARNING - No --configs_camps argument given - defaulting to:\n",
      "/home/florpi/camps/JUNE/configs_camps\n"
     ]
    }
   ],
   "source": [
    "from june.demography.geography import Geography\n",
    "from june.demography.demography import load_age_and_sex_generators_for_bins, Demography, Population\n",
    "from june.paths import data_path\n",
    "from june.infection_seed import InfectionSeed\n",
    "from june.simulator import Simulator\n",
    "from june.infection import InfectionSelector\n",
    "from june.interaction import Interaction\n",
    "from june.groups import Hospital, Hospitals\n",
    "from june.distributors import HospitalDistributor\n",
    "from june.hdf5_savers import generate_world_from_hdf5\n",
    "from june.groups import Cemeteries\n",
    "from june.policy import Policy, Policies\n",
    "from june.logger.read_logger import ReadLogger\n",
    "\n",
    "from camps.paths import camp_data_path\n",
    "from camps.world import World\n",
    "from camps.groups.leisure import generate_leisure_for_world, generate_leisure_for_config\n",
    "from camp_creation import generate_empty_world, populate_world, distribute_people_to_households # this is loaded from the ../camp_scripts folder"
   ]
  },
  {
   "cell_type": "code",
   "execution_count": 5,
   "metadata": {},
   "outputs": [],
   "source": [
    "from camps.groups import PumpLatrines, PumpLatrineDistributor\n",
    "from camps.groups import DistributionCenters, DistributionCenterDistributor\n",
    "from camps.groups import Communals, CommunalDistributor\n",
    "from camps.groups import FemaleCommunals, FemaleCommunalDistributor\n",
    "from camps.groups import Religiouss, ReligiousDistributor\n",
    "from camps.groups import Shelter, Shelters, ShelterDistributor\n",
    "from camps.groups import IsolationUnit, IsolationUnits\n",
    "from june.groups.leisure import HouseholdVisitsDistributor\n",
    "from camps.groups import PlayGroups, PlayGroupDistributor"
   ]
  },
  {
   "cell_type": "markdown",
   "metadata": {},
   "source": [
    "## Initialize the world"
   ]
  },
  {
   "cell_type": "code",
   "execution_count": 6,
   "metadata": {},
   "outputs": [
    {
     "name": "stdout",
     "output_type": "stream",
     "text": [
      "2020-09-01 16:57:42,510 - june.demography.geography - INFO - There are 65 areas and 4 super_areas in the world.\n"
     ]
    }
   ],
   "source": [
    "# create empty world's geography\n",
    "world = generate_empty_world(filter_key = {\"region\" : [\"CXB-219\"]})"
   ]
  },
  {
   "cell_type": "code",
   "execution_count": 7,
   "metadata": {},
   "outputs": [],
   "source": [
    "# populate empty world\n",
    "populate_world(world)"
   ]
  },
  {
   "cell_type": "code",
   "execution_count": 8,
   "metadata": {},
   "outputs": [],
   "source": [
    "# distribute people to households\n",
    "distribute_people_to_households(world)"
   ]
  },
  {
   "cell_type": "code",
   "execution_count": 9,
   "metadata": {},
   "outputs": [
    {
     "name": "stdout",
     "output_type": "stream",
     "text": [
      "2020-09-01 16:57:43,203 - june.groups.hospital - INFO - There are 8 hospitals in the world.\n"
     ]
    }
   ],
   "source": [
    "# this is not working\n",
    "hospitals= Hospitals.from_file(\n",
    "    filename=camp_data_path / 'input/hospitals/hospitals.csv'\n",
    ")\n",
    "world.hospitals = hospitals\n",
    "for hospital in world.hospitals:\n",
    "    hospital.super_area = world.super_areas.members[0]\n",
    "hospital_distributor = HospitalDistributor(hospitals, \n",
    "                                           medic_min_age=20,\n",
    "                                           patients_per_medic=10)\n",
    "\n",
    "hospital_distributor.distribute_medics_from_world(world.people)\n",
    "world.isolation_units = IsolationUnits([IsolationUnit()])"
   ]
  },
  {
   "cell_type": "code",
   "execution_count": 10,
   "metadata": {},
   "outputs": [],
   "source": [
    "world.pump_latrines = PumpLatrines.for_areas(world.areas)\n",
    "world.distribution_centers = DistributionCenters.for_areas(world.areas)\n",
    "world.communals = Communals.for_areas(world.areas)\n",
    "world.female_communals = FemaleCommunals.for_areas(world.areas)\n",
    "world.religiouss = Religiouss.for_areas(world.areas)\n",
    "world.play_groups = PlayGroups.for_areas(world.areas)"
   ]
  },
  {
   "cell_type": "code",
   "execution_count": 11,
   "metadata": {},
   "outputs": [],
   "source": [
    "#world.box_mode = False\n",
    "world.cemeteries = Cemeteries()"
   ]
  },
  {
   "cell_type": "markdown",
   "metadata": {},
   "source": [
    "## Geography exploration"
   ]
  },
  {
   "cell_type": "markdown",
   "metadata": {},
   "source": [
    "### UNHCR camp blocks inside the World"
   ]
  },
  {
   "cell_type": "code",
   "execution_count": 12,
   "metadata": {},
   "outputs": [],
   "source": [
    "super_areas = []\n",
    "for super_area in world.super_areas:\n",
    "    super_areas.append(super_area.name)"
   ]
  },
  {
   "cell_type": "code",
   "execution_count": 13,
   "metadata": {},
   "outputs": [
    {
     "data": {
      "text/plain": [
       "['CXB-219-A', 'CXB-219-B', 'CXB-219-C', 'CXB-219-D']"
      ]
     },
     "execution_count": 13,
     "metadata": {},
     "output_type": "execute_result"
    }
   ],
   "source": [
    "super_areas[:5]"
   ]
  },
  {
   "cell_type": "markdown",
   "metadata": {},
   "source": [
    "### Mahjee blocks inside World"
   ]
  },
  {
   "cell_type": "code",
   "execution_count": 14,
   "metadata": {},
   "outputs": [],
   "source": [
    "areas = []\n",
    "for area in world.areas:\n",
    "    areas.append(area.name)"
   ]
  },
  {
   "cell_type": "code",
   "execution_count": 15,
   "metadata": {},
   "outputs": [
    {
     "data": {
      "text/plain": [
       "['CXB-219-062', 'CXB-219-063', 'CXB-219-061', 'CXB-219-060', 'CXB-219-065']"
      ]
     },
     "execution_count": 15,
     "metadata": {},
     "output_type": "execute_result"
    }
   ],
   "source": [
    "areas[:5]"
   ]
  },
  {
   "cell_type": "markdown",
   "metadata": {},
   "source": [
    "## Demography exploration"
   ]
  },
  {
   "cell_type": "markdown",
   "metadata": {},
   "source": [
    "### UNHCR block residents"
   ]
  },
  {
   "cell_type": "code",
   "execution_count": 16,
   "metadata": {},
   "outputs": [],
   "source": [
    "sample_ages = []\n",
    "sample_sexes = []\n",
    "for person in world.super_areas.members[0].people:\n",
    "    sample_ages.append(person.age)\n",
    "    sample_sexes.append(person.sex)"
   ]
  },
  {
   "cell_type": "code",
   "execution_count": 17,
   "metadata": {},
   "outputs": [
    {
     "data": {
      "text/plain": [
       "(['m', 'm', 'f', 'f', 'f'], [39, 48, 44, 35, 21])"
      ]
     },
     "execution_count": 17,
     "metadata": {},
     "output_type": "execute_result"
    }
   ],
   "source": [
    "sample_sexes[:5], sample_ages[:5]"
   ]
  },
  {
   "cell_type": "code",
   "execution_count": 18,
   "metadata": {},
   "outputs": [
    {
     "data": {
      "image/png": "[encoded data removed]",
      "text/plain": [
       "<Figure size 432x288 with 1 Axes>"
      ]
     },
     "metadata": {
      "needs_background": "light"
     },
     "output_type": "display_data"
    }
   ],
   "source": [
    "ages, counts = np.unique(sample_ages, return_counts=True)\n",
    "plt.bar(ages, counts)\n",
    "plt.title('super area: {} age distribution'.format(world.super_areas.members[0].name))\n",
    "plt.show()"
   ]
  },
  {
   "cell_type": "code",
   "execution_count": 19,
   "metadata": {},
   "outputs": [
    {
     "name": "stdout",
     "output_type": "stream",
     "text": [
      "The % children between ages 0-16 is 49.0%\n"
     ]
    }
   ],
   "source": [
    "print ('The % children between ages 0-16 is {}%'.format(round(np.sum(counts[:16])/(np.sum(counts[:16])+np.sum(counts[16:]))*100)))"
   ]
  },
  {
   "cell_type": "markdown",
   "metadata": {},
   "source": [
    "## Households"
   ]
  },
  {
   "cell_type": "markdown",
   "metadata": {},
   "source": [
    "### Household size distribution"
   ]
  },
  {
   "cell_type": "code",
   "execution_count": 20,
   "metadata": {},
   "outputs": [
    {
     "data": {
      "image/png": "[encoded data removed]",
      "text/plain": [
       "<Figure size 432x288 with 1 Axes>"
      ]
     },
     "metadata": {
      "needs_background": "light"
     },
     "output_type": "display_data"
    }
   ],
   "source": [
    "household_sizes = [household.size for household in world.households]\n",
    "plt.hist(household_sizes, density=True, bins=np.arange(0,12))\n",
    "plt.xlabel(\"Household size\")\n",
    "plt.ylabel(\"Frequency\")\n",
    "plt.axvline(np.mean(household_sizes), color=\"cyan\")\n",
    "plt.text(8, 0.150, f\"Avg. size: {(np.mean(household_sizes)):.2f}\")\n",
    "plt.show()"
   ]
  },
  {
   "cell_type": "markdown",
   "metadata": {},
   "source": [
    "# Shelters"
   ]
  },
  {
   "cell_type": "code",
   "execution_count": 21,
   "metadata": {},
   "outputs": [],
   "source": [
    "world.shelters = Shelters.for_areas(world.areas)\n",
    "shelter_distributor = ShelterDistributor(sharing_shelter_ratio = 0.75) # proportion of families that share a shelter\n",
    "for area in world.areas:\n",
    "    shelter_distributor.distribute_people_in_shelters(area.shelters, area.households)"
   ]
  },
  {
   "cell_type": "code",
   "execution_count": 22,
   "metadata": {},
   "outputs": [
    {
     "data": {
      "image/png": "[encoded data removed]",
      "text/plain": [
       "<Figure size 576x216 with 2 Axes>"
      ]
     },
     "metadata": {
      "needs_background": "light"
     },
     "output_type": "display_data"
    }
   ],
   "source": [
    "fig, ax = plt.subplots(1, 2, figsize=(8,3))\n",
    "shelter_sizes = [shelter.size for shelter in world.shelters]\n",
    "shelter_families = [shelter.n_families for shelter in world.shelters]\n",
    "ax[0].hist(shelter_sizes)\n",
    "ax[0].set_title(\"Shelter size\")\n",
    "shelter_families = {1 : len([shelter for shelter in world.shelters if shelter.n_families == 1]),\n",
    "                    2 : len([shelter for shelter in world.shelters if shelter.n_families == 2])}\n",
    "ax[1].bar(shelter_families.keys(), shelter_families.values())\n",
    "ax[1].set_title(\"# families per shelter\")\n",
    "plt.show()"
   ]
  },
  {
   "cell_type": "markdown",
   "metadata": {},
   "source": [
    "## Activity exploration"
   ]
  },
  {
   "cell_type": "markdown",
   "metadata": {},
   "source": [
    "### Pumps and latrines "
   ]
  },
  {
   "cell_type": "code",
   "execution_count": 23,
   "metadata": {},
   "outputs": [],
   "source": [
    "pumps_and_latrines = []\n",
    "for pump_latrine in world.areas.members[0].pump_latrines:\n",
    "    pumps_and_latrines.append(pump_latrine)"
   ]
  },
  {
   "cell_type": "code",
   "execution_count": 24,
   "metadata": {},
   "outputs": [
    {
     "name": "stdout",
     "output_type": "stream",
     "text": [
      "There are 3 pumps and latrines in area CXB-219-062\n"
     ]
    }
   ],
   "source": [
    "print ('There are {} pumps and latrines in area {}'.format(len(pumps_and_latrines), world.areas.members[0].name))"
   ]
  },
  {
   "cell_type": "markdown",
   "metadata": {},
   "source": [
    "### Distribution centers"
   ]
  },
  {
   "cell_type": "code",
   "execution_count": 25,
   "metadata": {},
   "outputs": [],
   "source": [
    "distribution_centers = []\n",
    "for center in world.distribution_centers:\n",
    "    distribution_centers.append(center)"
   ]
  },
  {
   "cell_type": "code",
   "execution_count": 26,
   "metadata": {},
   "outputs": [
    {
     "data": {
      "text/plain": [
       "array([21.1962 , 92.14936])"
      ]
     },
     "execution_count": 26,
     "metadata": {},
     "output_type": "execute_result"
    }
   ],
   "source": [
    "distribution_centers[0].coordinates"
   ]
  },
  {
   "cell_type": "markdown",
   "metadata": {},
   "source": [
    "### Communal spaces"
   ]
  },
  {
   "cell_type": "code",
   "execution_count": 27,
   "metadata": {},
   "outputs": [],
   "source": [
    "communal_spaces = []\n",
    "for space in world.communals:\n",
    "    communal_spaces.append(space)"
   ]
  },
  {
   "cell_type": "code",
   "execution_count": 28,
   "metadata": {},
   "outputs": [
    {
     "data": {
      "text/plain": [
       "array([21.19621, 92.14924])"
      ]
     },
     "execution_count": 28,
     "metadata": {},
     "output_type": "execute_result"
    }
   ],
   "source": [
    "communal_spaces[0].coordinates"
   ]
  },
  {
   "cell_type": "markdown",
   "metadata": {},
   "source": [
    "### Female friendly communal spaces"
   ]
  },
  {
   "cell_type": "code",
   "execution_count": 29,
   "metadata": {},
   "outputs": [],
   "source": [
    "female_communal_spaces = []\n",
    "for space in world.female_communals:\n",
    "    female_communal_spaces.append(space)"
   ]
  },
  {
   "cell_type": "code",
   "execution_count": 30,
   "metadata": {},
   "outputs": [
    {
     "data": {
      "text/plain": [
       "array([21.19588, 92.152  ])"
      ]
     },
     "execution_count": 30,
     "metadata": {},
     "output_type": "execute_result"
    }
   ],
   "source": [
    "female_communal_spaces[0].coordinates"
   ]
  },
  {
   "cell_type": "markdown",
   "metadata": {},
   "source": [
    "### Religious sites"
   ]
  },
  {
   "cell_type": "code",
   "execution_count": 31,
   "metadata": {},
   "outputs": [],
   "source": [
    "religious = []\n",
    "for rel in world.religiouss:\n",
    "    religious.append(rel)"
   ]
  },
  {
   "cell_type": "code",
   "execution_count": 32,
   "metadata": {},
   "outputs": [
    {
     "data": {
      "text/plain": [
       "array([21.20069, 92.15216])"
      ]
     },
     "execution_count": 32,
     "metadata": {},
     "output_type": "execute_result"
    }
   ],
   "source": [
    "religious[0].coordinates"
   ]
  },
  {
   "cell_type": "markdown",
   "metadata": {},
   "source": [
    "# Adding the infection"
   ]
  },
  {
   "cell_type": "code",
   "execution_count": 33,
   "metadata": {},
   "outputs": [],
   "source": [
    "selector = InfectionSelector.from_file()"
   ]
  },
  {
   "cell_type": "markdown",
   "metadata": {},
   "source": [
    "# Adding the interaction"
   ]
  },
  {
   "cell_type": "code",
   "execution_count": 34,
   "metadata": {},
   "outputs": [],
   "source": [
    "interaction = Interaction.from_file(config_filename='../configs_camps/defaults/interaction/ContactInteraction.yaml')"
   ]
  },
  {
   "cell_type": "markdown",
   "metadata": {},
   "source": [
    "# Set policies"
   ]
  },
  {
   "cell_type": "code",
   "execution_count": 35,
   "metadata": {},
   "outputs": [],
   "source": [
    "policies = Policies.from_file('../configs_camps/defaults/policy/policy.yaml', base_policy_modules=('june.policy', 'camps.policy'))"
   ]
  },
  {
   "cell_type": "code",
   "execution_count": 36,
   "metadata": {},
   "outputs": [
    {
     "data": {
      "text/plain": [
       "[<june.policy.interaction_policies.SocialDistancing at 0x7f43ac3da730>,\n",
       " <june.policy.medical_care_policies.Hospitalisation at 0x7f43ac3da850>,\n",
       " <june.policy.individual_policies.SevereSymptomsStayHome at 0x7f43ac551460>,\n",
       " <camps.policy.isolation.Isolation at 0x7f43ac551160>,\n",
       " <june.policy.individual_policies.Quarantine at 0x7f43ac551220>]"
      ]
     },
     "execution_count": 36,
     "metadata": {},
     "output_type": "execute_result"
    }
   ],
   "source": [
    "policies.policies"
   ]
  },
  {
   "cell_type": "markdown",
   "metadata": {},
   "source": [
    "# Seed the disease"
   ]
  },
  {
   "cell_type": "code",
   "execution_count": 37,
   "metadata": {},
   "outputs": [],
   "source": [
    "seed = InfectionSeed(world.super_areas,\n",
    "           selector)\n",
    "\n",
    "seed.unleash_virus(n_cases=5)"
   ]
  },
  {
   "cell_type": "markdown",
   "metadata": {},
   "source": [
    "# Init leisure"
   ]
  },
  {
   "cell_type": "code",
   "execution_count": 38,
   "metadata": {},
   "outputs": [
    {
     "name": "stdout",
     "output_type": "stream",
     "text": [
      "2020-09-01 16:57:45,491 - june.groups.leisure.leisure - INFO - Distributing social venues to households\n",
      "2020-09-01 16:57:45,492 - june.groups.leisure.leisure - INFO - Distributed in 0 of 3312 households.\n"
     ]
    },
    {
     "data": {
      "text/plain": [
       "{'pump_latrines': <camps.groups.pump_latrine.PumpLatrineDistributor at 0x7f43ac37f1f0>,\n",
       " 'distribution_centers': <camps.groups.distribution_center.DistributionCenterDistributor at 0x7f43ac37f2b0>,\n",
       " 'communals': <camps.groups.communal.CommunalDistributor at 0x7f43ac37f100>,\n",
       " 'female_communals': <camps.groups.female_communal.FemaleCommunalDistributor at 0x7f43ac37f6d0>,\n",
       " 'play_groups': <camps.groups.play_group.PlayGroupDistributor at 0x7f43ac37f5e0>}"
      ]
     },
     "execution_count": 38,
     "metadata": {},
     "output_type": "execute_result"
    }
   ],
   "source": [
    "CONFIG_PATH = \"../configs_camps/config_example.yaml\"\n",
    "\n",
    "leisure_instance = generate_leisure_for_config(\n",
    "            world=world, config_filename=CONFIG_PATH\n",
    ")\n",
    "leisure_instance.leisure_distributors = {}\n",
    "leisure_instance.leisure_distributors['pump_latrines'] = PumpLatrineDistributor.from_config(pump_latrines=world.pump_latrines)\n",
    "leisure_instance.leisure_distributors['distribution_centers'] = DistributionCenterDistributor.from_config(distribution_centers=world.distribution_centers)\n",
    "leisure_instance.leisure_distributors['communals'] = CommunalDistributor.from_config(communals=world.communals)\n",
    "leisure_instance.leisure_distributors['female_communals'] = FemaleCommunalDistributor.from_config(female_communals=world.female_communals)\n",
    "leisure_instance.leisure_distributors['play_groups'] = PlayGroupDistributor.from_config(play_groups=world.play_groups)\n",
    "\n",
    "#associate social activities to shelters\n",
    "leisure_instance.distribute_social_venues_to_households(world.shelters, world.super_areas)\n",
    "leisure_instance.leisure_distributors"
   ]
  },
  {
   "cell_type": "markdown",
   "metadata": {},
   "source": [
    "# Initialize simulator and run"
   ]
  },
  {
   "cell_type": "code",
   "execution_count": 39,
   "metadata": {},
   "outputs": [],
   "source": [
    "simulator = Simulator.from_file(\n",
    "    world = world,\n",
    "    interaction = interaction,\n",
    "    infection_selector=selector,\n",
    "    leisure = leisure_instance,\n",
    "    policies=policies,\n",
    "    config_filename = CONFIG_PATH\n",
    ")"
   ]
  },
  {
   "cell_type": "code",
   "execution_count": 40,
   "metadata": {
    "scrolled": true
   },
   "outputs": [
    {
     "name": "stdout",
     "output_type": "stream",
     "text": [
      "2020-09-01 16:57:47,402 - june.simulator - INFO - Starting group_dynamics for 120 days at day 0\n",
      "2020-09-01 16:57:47,403 - june.simulator - INFO - starting the loop ..., at 0 days, to run for 120 days\n",
      "2020-09-01 16:57:47,569 - june.simulator - INFO - Date = 2020-05-24 00:00:00, number of deaths =  0, number of infected = 5\n",
      "2020-09-01 16:57:48,199 - june.simulator - INFO - Date = 2020-05-24 03:00:00, number of deaths =  0, number of infected = 5\n",
      "2020-09-01 16:57:48,470 - june.simulator - INFO - Date = 2020-05-24 05:00:00, number of deaths =  0, number of infected = 5\n",
      "2020-09-01 16:57:48,733 - june.simulator - INFO - Date = 2020-05-24 07:00:00, number of deaths =  0, number of infected = 5\n",
      "2020-09-01 16:57:48,982 - june.simulator - INFO - Date = 2020-05-24 09:00:00, number of deaths =  0, number of infected = 5\n",
      "2020-09-01 16:57:49,127 - june.simulator - INFO - Date = 2020-05-24 11:00:00, number of deaths =  0, number of infected = 5\n",
      "2020-09-01 16:57:49,271 - june.simulator - INFO - Date = 2020-05-25 00:00:00, number of deaths =  0, number of infected = 5\n",
      "2020-09-01 16:57:49,540 - june.simulator - INFO - Date = 2020-05-25 02:00:00, number of deaths =  0, number of infected = 5\n",
      "2020-09-01 16:57:49,868 - june.simulator - INFO - Date = 2020-05-25 04:00:00, number of deaths =  0, number of infected = 5\n",
      "2020-09-01 16:57:50,200 - june.simulator - INFO - Date = 2020-05-25 06:00:00, number of deaths =  0, number of infected = 5\n",
      "2020-09-01 16:57:50,722 - june.simulator - INFO - Date = 2020-05-25 08:00:00, number of deaths =  0, number of infected = 5\n",
      "2020-09-01 16:57:51,022 - june.simulator - INFO - Date = 2020-05-25 10:00:00, number of deaths =  0, number of infected = 5\n",
      "2020-09-01 16:57:51,229 - june.simulator - INFO - Date = 2020-05-26 00:00:00, number of deaths =  0, number of infected = 5\n",
      "2020-09-01 16:57:51,561 - june.simulator - INFO - Date = 2020-05-26 02:00:00, number of deaths =  0, number of infected = 5\n",
      "2020-09-01 16:57:51,902 - june.simulator - INFO - Date = 2020-05-26 04:00:00, number of deaths =  0, number of infected = 5\n",
      "2020-09-01 16:57:52,220 - june.simulator - INFO - Date = 2020-05-26 06:00:00, number of deaths =  0, number of infected = 5\n",
      "2020-09-01 16:57:52,539 - june.simulator - INFO - Date = 2020-05-26 08:00:00, number of deaths =  0, number of infected = 5\n",
      "2020-09-01 16:57:52,716 - june.simulator - INFO - Date = 2020-05-26 10:00:00, number of deaths =  0, number of infected = 5\n",
      "2020-09-01 16:57:52,861 - june.simulator - INFO - Date = 2020-05-27 00:00:00, number of deaths =  0, number of infected = 7\n",
      "2020-09-01 16:57:53,359 - june.simulator - INFO - Date = 2020-05-27 02:00:00, number of deaths =  0, number of infected = 7\n",
      "2020-09-01 16:57:53,704 - june.simulator - INFO - Date = 2020-05-27 04:00:00, number of deaths =  0, number of infected = 8\n",
      "2020-09-01 16:57:54,013 - june.simulator - INFO - Date = 2020-05-27 06:00:00, number of deaths =  0, number of infected = 8\n",
      "2020-09-01 16:57:54,241 - june.simulator - INFO - Date = 2020-05-27 08:00:00, number of deaths =  0, number of infected = 8\n",
      "2020-09-01 16:57:54,404 - june.simulator - INFO - Date = 2020-05-27 10:00:00, number of deaths =  0, number of infected = 10\n",
      "2020-09-01 16:57:54,630 - june.simulator - INFO - Date = 2020-05-28 00:00:00, number of deaths =  0, number of infected = 14\n",
      "2020-09-01 16:57:54,887 - june.simulator - INFO - Date = 2020-05-28 02:00:00, number of deaths =  0, number of infected = 15\n",
      "2020-09-01 16:57:55,144 - june.simulator - INFO - Date = 2020-05-28 04:00:00, number of deaths =  0, number of infected = 17\n",
      "2020-09-01 16:57:55,415 - june.simulator - INFO - Date = 2020-05-28 06:00:00, number of deaths =  0, number of infected = 17\n",
      "2020-09-01 16:57:55,648 - june.simulator - INFO - Date = 2020-05-28 08:00:00, number of deaths =  0, number of infected = 17\n",
      "2020-09-01 16:57:55,796 - june.simulator - INFO - Date = 2020-05-28 10:00:00, number of deaths =  0, number of infected = 19\n",
      "2020-09-01 16:57:56,018 - june.simulator - INFO - Date = 2020-05-29 00:00:00, number of deaths =  0, number of infected = 25\n",
      "2020-09-01 16:57:56,262 - june.simulator - INFO - Date = 2020-05-29 02:00:00, number of deaths =  0, number of infected = 25\n",
      "2020-09-01 16:57:56,493 - june.simulator - INFO - Date = 2020-05-29 04:00:00, number of deaths =  0, number of infected = 25\n",
      "2020-09-01 16:57:56,950 - june.simulator - INFO - Date = 2020-05-29 06:00:00, number of deaths =  0, number of infected = 25\n",
      "2020-09-01 16:57:57,396 - june.simulator - INFO - Date = 2020-05-29 08:00:00, number of deaths =  0, number of infected = 27\n",
      "2020-09-01 16:57:57,546 - june.simulator - INFO - Date = 2020-05-29 10:00:00, number of deaths =  0, number of infected = 27\n",
      "2020-09-01 16:57:57,680 - june.simulator - INFO - Date = 2020-05-30 00:00:00, number of deaths =  0, number of infected = 30\n",
      "2020-09-01 16:57:57,946 - june.simulator - INFO - Date = 2020-05-30 03:00:00, number of deaths =  0, number of infected = 33\n",
      "2020-09-01 16:57:58,250 - june.simulator - INFO - Date = 2020-05-30 05:00:00, number of deaths =  0, number of infected = 35\n",
      "2020-09-01 16:57:58,630 - june.simulator - INFO - Date = 2020-05-30 07:00:00, number of deaths =  0, number of infected = 35\n",
      "2020-09-01 16:57:58,980 - june.simulator - INFO - Date = 2020-05-30 09:00:00, number of deaths =  0, number of infected = 36\n",
      "2020-09-01 16:57:59,224 - june.simulator - INFO - Date = 2020-05-30 11:00:00, number of deaths =  0, number of infected = 39\n",
      "2020-09-01 16:57:59,413 - june.simulator - INFO - Date = 2020-05-31 00:00:00, number of deaths =  0, number of infected = 45\n",
      "2020-09-01 16:57:59,718 - june.simulator - INFO - Date = 2020-05-31 03:00:00, number of deaths =  0, number of infected = 48\n",
      "2020-09-01 16:58:00,014 - june.simulator - INFO - Date = 2020-05-31 05:00:00, number of deaths =  0, number of infected = 50\n",
      "2020-09-01 16:58:00,291 - june.simulator - INFO - Date = 2020-05-31 07:00:00, number of deaths =  0, number of infected = 51\n",
      "2020-09-01 16:58:00,684 - june.simulator - INFO - Date = 2020-05-31 09:00:00, number of deaths =  0, number of infected = 53\n",
      "2020-09-01 16:58:00,842 - june.simulator - INFO - Date = 2020-05-31 11:00:00, number of deaths =  0, number of infected = 56\n",
      "2020-09-01 16:58:00,984 - june.simulator - INFO - Date = 2020-06-01 00:00:00, number of deaths =  0, number of infected = 65\n",
      "2020-09-01 16:58:01,236 - june.simulator - INFO - Date = 2020-06-01 02:00:00, number of deaths =  0, number of infected = 65\n",
      "2020-09-01 16:58:01,484 - june.simulator - INFO - Date = 2020-06-01 04:00:00, number of deaths =  0, number of infected = 72\n",
      "2020-09-01 16:58:01,737 - june.simulator - INFO - Date = 2020-06-01 06:00:00, number of deaths =  0, number of infected = 75\n",
      "2020-09-01 16:58:01,976 - june.simulator - INFO - Date = 2020-06-01 08:00:00, number of deaths =  0, number of infected = 79\n",
      "2020-09-01 16:58:02,114 - june.simulator - INFO - Date = 2020-06-01 10:00:00, number of deaths =  0, number of infected = 81\n",
      "2020-09-01 16:58:02,247 - june.simulator - INFO - Date = 2020-06-02 00:00:00, number of deaths =  0, number of infected = 88\n",
      "2020-09-01 16:58:02,492 - june.simulator - INFO - Date = 2020-06-02 02:00:00, number of deaths =  0, number of infected = 92\n",
      "2020-09-01 16:58:02,730 - june.simulator - INFO - Date = 2020-06-02 04:00:00, number of deaths =  0, number of infected = 95\n",
      "2020-09-01 16:58:02,967 - june.simulator - INFO - Date = 2020-06-02 06:00:00, number of deaths =  0, number of infected = 101\n",
      "2020-09-01 16:58:03,192 - june.simulator - INFO - Date = 2020-06-02 08:00:00, number of deaths =  0, number of infected = 105\n",
      "2020-09-01 16:58:03,339 - june.simulator - INFO - Date = 2020-06-02 10:00:00, number of deaths =  0, number of infected = 107\n",
      "2020-09-01 16:58:03,482 - june.simulator - INFO - Date = 2020-06-03 00:00:00, number of deaths =  0, number of infected = 121\n",
      "2020-09-01 16:58:03,715 - june.simulator - INFO - Date = 2020-06-03 02:00:00, number of deaths =  0, number of infected = 124\n",
      "2020-09-01 16:58:03,952 - june.simulator - INFO - Date = 2020-06-03 04:00:00, number of deaths =  0, number of infected = 133\n",
      "2020-09-01 16:58:04,181 - june.simulator - INFO - Date = 2020-06-03 06:00:00, number of deaths =  0, number of infected = 133\n",
      "2020-09-01 16:58:04,412 - june.simulator - INFO - Date = 2020-06-03 08:00:00, number of deaths =  0, number of infected = 135\n"
     ]
    },
    {
     "name": "stdout",
     "output_type": "stream",
     "text": [
      "2020-09-01 16:58:04,552 - june.simulator - INFO - Date = 2020-06-03 10:00:00, number of deaths =  0, number of infected = 144\n",
      "2020-09-01 16:58:04,694 - june.simulator - INFO - Date = 2020-06-04 00:00:00, number of deaths =  0, number of infected = 170\n",
      "2020-09-01 16:58:04,946 - june.simulator - INFO - Date = 2020-06-04 02:00:00, number of deaths =  0, number of infected = 174\n",
      "2020-09-01 16:58:05,185 - june.simulator - INFO - Date = 2020-06-04 04:00:00, number of deaths =  0, number of infected = 179\n",
      "2020-09-01 16:58:05,419 - june.simulator - INFO - Date = 2020-06-04 06:00:00, number of deaths =  0, number of infected = 184\n",
      "2020-09-01 16:58:05,657 - june.simulator - INFO - Date = 2020-06-04 08:00:00, number of deaths =  0, number of infected = 196\n",
      "2020-09-01 16:58:05,799 - june.simulator - INFO - Date = 2020-06-04 10:00:00, number of deaths =  0, number of infected = 211\n",
      "2020-09-01 16:58:05,942 - june.simulator - INFO - Date = 2020-06-05 00:00:00, number of deaths =  0, number of infected = 237\n",
      "2020-09-01 16:58:06,196 - june.simulator - INFO - Date = 2020-06-05 02:00:00, number of deaths =  0, number of infected = 243\n",
      "2020-09-01 16:58:06,525 - june.simulator - INFO - Date = 2020-06-05 04:00:00, number of deaths =  0, number of infected = 260\n",
      "2020-09-01 16:58:06,786 - june.simulator - INFO - Date = 2020-06-05 06:00:00, number of deaths =  0, number of infected = 280\n",
      "2020-09-01 16:58:07,046 - june.simulator - INFO - Date = 2020-06-05 08:00:00, number of deaths =  0, number of infected = 295\n",
      "2020-09-01 16:58:07,205 - june.simulator - INFO - Date = 2020-06-05 10:00:00, number of deaths =  0, number of infected = 312\n",
      "2020-09-01 16:58:07,361 - june.simulator - INFO - Date = 2020-06-06 00:00:00, number of deaths =  0, number of infected = 371\n",
      "2020-09-01 16:58:07,630 - june.simulator - INFO - Date = 2020-06-06 03:00:00, number of deaths =  0, number of infected = 383\n",
      "2020-09-01 16:58:07,919 - june.simulator - INFO - Date = 2020-06-06 05:00:00, number of deaths =  0, number of infected = 395\n",
      "2020-09-01 16:58:08,194 - june.simulator - INFO - Date = 2020-06-06 07:00:00, number of deaths =  0, number of infected = 413\n",
      "2020-09-01 16:58:08,470 - june.simulator - INFO - Date = 2020-06-06 09:00:00, number of deaths =  0, number of infected = 438\n",
      "2020-09-01 16:58:08,626 - june.simulator - INFO - Date = 2020-06-06 11:00:00, number of deaths =  0, number of infected = 457\n",
      "2020-09-01 16:58:08,787 - june.simulator - INFO - Date = 2020-06-07 00:00:00, number of deaths =  0, number of infected = 516\n",
      "2020-09-01 16:58:09,063 - june.simulator - INFO - Date = 2020-06-07 03:00:00, number of deaths =  0, number of infected = 536\n",
      "2020-09-01 16:58:09,344 - june.simulator - INFO - Date = 2020-06-07 05:00:00, number of deaths =  0, number of infected = 561\n",
      "2020-09-01 16:58:09,643 - june.simulator - INFO - Date = 2020-06-07 07:00:00, number of deaths =  0, number of infected = 591\n",
      "2020-09-01 16:58:09,970 - june.simulator - INFO - Date = 2020-06-07 09:00:00, number of deaths =  0, number of infected = 619\n",
      "2020-09-01 16:58:10,126 - june.simulator - INFO - Date = 2020-06-07 11:00:00, number of deaths =  0, number of infected = 660\n",
      "2020-09-01 16:58:10,291 - june.simulator - INFO - Date = 2020-06-08 00:00:00, number of deaths =  0, number of infected = 741\n",
      "2020-09-01 16:58:10,538 - june.simulator - INFO - Date = 2020-06-08 02:00:00, number of deaths =  0, number of infected = 760\n",
      "2020-09-01 16:58:10,790 - june.simulator - INFO - Date = 2020-06-08 04:00:00, number of deaths =  0, number of infected = 790\n",
      "2020-09-01 16:58:11,049 - june.simulator - INFO - Date = 2020-06-08 06:00:00, number of deaths =  0, number of infected = 825\n",
      "2020-09-01 16:58:11,312 - june.simulator - INFO - Date = 2020-06-08 08:00:00, number of deaths =  0, number of infected = 857\n",
      "2020-09-01 16:58:11,470 - june.simulator - INFO - Date = 2020-06-08 10:00:00, number of deaths =  0, number of infected = 899\n",
      "2020-09-01 16:58:11,647 - june.simulator - INFO - Date = 2020-06-09 00:00:00, number of deaths =  0, number of infected = 997\n",
      "2020-09-01 16:58:11,958 - june.simulator - INFO - Date = 2020-06-09 02:00:00, number of deaths =  0, number of infected = 1024\n",
      "2020-09-01 16:58:12,236 - june.simulator - INFO - Date = 2020-06-09 04:00:00, number of deaths =  0, number of infected = 1063\n",
      "2020-09-01 16:58:12,511 - june.simulator - INFO - Date = 2020-06-09 06:00:00, number of deaths =  0, number of infected = 1137\n",
      "2020-09-01 16:58:12,782 - june.simulator - INFO - Date = 2020-06-09 08:00:00, number of deaths =  0, number of infected = 1190\n",
      "2020-09-01 16:58:12,960 - june.simulator - INFO - Date = 2020-06-09 10:00:00, number of deaths =  0, number of infected = 1248\n",
      "2020-09-01 16:58:13,178 - june.simulator - INFO - Date = 2020-06-10 00:00:00, number of deaths =  0, number of infected = 1428\n",
      "2020-09-01 16:58:13,468 - june.simulator - INFO - Date = 2020-06-10 02:00:00, number of deaths =  0, number of infected = 1460\n",
      "2020-09-01 16:58:13,794 - june.simulator - INFO - Date = 2020-06-10 04:00:00, number of deaths =  0, number of infected = 1525\n",
      "2020-09-01 16:58:14,094 - june.simulator - INFO - Date = 2020-06-10 06:00:00, number of deaths =  0, number of infected = 1597\n",
      "2020-09-01 16:58:14,406 - june.simulator - INFO - Date = 2020-06-10 08:00:00, number of deaths =  0, number of infected = 1655\n",
      "2020-09-01 16:58:14,616 - june.simulator - INFO - Date = 2020-06-10 10:00:00, number of deaths =  0, number of infected = 1731\n",
      "2020-09-01 16:58:14,896 - june.simulator - INFO - Date = 2020-06-11 00:00:00, number of deaths =  0, number of infected = 1959\n",
      "2020-09-01 16:58:15,244 - june.simulator - INFO - Date = 2020-06-11 02:00:00, number of deaths =  0, number of infected = 1996\n",
      "2020-09-01 16:58:15,616 - june.simulator - INFO - Date = 2020-06-11 04:00:00, number of deaths =  0, number of infected = 2075\n",
      "2020-09-01 16:58:15,965 - june.simulator - INFO - Date = 2020-06-11 06:00:00, number of deaths =  0, number of infected = 2176\n",
      "2020-09-01 16:58:16,314 - june.simulator - INFO - Date = 2020-06-11 08:00:00, number of deaths =  0, number of infected = 2258\n",
      "2020-09-01 16:58:16,582 - june.simulator - INFO - Date = 2020-06-11 10:00:00, number of deaths =  0, number of infected = 2363\n",
      "2020-09-01 16:58:16,869 - june.simulator - INFO - Date = 2020-06-12 00:00:00, number of deaths =  0, number of infected = 2656\n",
      "2020-09-01 16:58:17,202 - june.simulator - INFO - Date = 2020-06-12 02:00:00, number of deaths =  0, number of infected = 2706\n",
      "2020-09-01 16:58:17,539 - june.simulator - INFO - Date = 2020-06-12 04:00:00, number of deaths =  0, number of infected = 2807\n",
      "2020-09-01 16:58:17,856 - june.simulator - INFO - Date = 2020-06-12 06:00:00, number of deaths =  0, number of infected = 2925\n",
      "2020-09-01 16:58:18,187 - june.simulator - INFO - Date = 2020-06-12 08:00:00, number of deaths =  0, number of infected = 3057\n",
      "2020-09-01 16:58:18,401 - june.simulator - INFO - Date = 2020-06-12 10:00:00, number of deaths =  0, number of infected = 3155\n",
      "2020-09-01 16:58:18,687 - june.simulator - INFO - Date = 2020-06-13 00:00:00, number of deaths =  0, number of infected = 3528\n",
      "2020-09-01 16:58:19,032 - june.simulator - INFO - Date = 2020-06-13 03:00:00, number of deaths =  0, number of infected = 3658\n",
      "2020-09-01 16:58:19,417 - june.simulator - INFO - Date = 2020-06-13 05:00:00, number of deaths =  0, number of infected = 3826\n",
      "2020-09-01 16:58:19,785 - june.simulator - INFO - Date = 2020-06-13 07:00:00, number of deaths =  0, number of infected = 3988\n",
      "2020-09-01 16:58:20,186 - june.simulator - INFO - Date = 2020-06-13 09:00:00, number of deaths =  0, number of infected = 4167\n",
      "2020-09-01 16:58:20,452 - june.simulator - INFO - Date = 2020-06-13 11:00:00, number of deaths =  0, number of infected = 4379\n",
      "2020-09-01 16:58:20,805 - june.simulator - INFO - Date = 2020-06-14 00:00:00, number of deaths =  0, number of infected = 4939\n",
      "2020-09-01 16:58:21,191 - june.simulator - INFO - Date = 2020-06-14 03:00:00, number of deaths =  0, number of infected = 5078\n",
      "2020-09-01 16:58:21,616 - june.simulator - INFO - Date = 2020-06-14 05:00:00, number of deaths =  0, number of infected = 5325\n",
      "2020-09-01 16:58:22,130 - june.simulator - INFO - Date = 2020-06-14 07:00:00, number of deaths =  0, number of infected = 5562\n"
     ]
    },
    {
     "name": "stdout",
     "output_type": "stream",
     "text": [
      "2020-09-01 16:58:22,576 - june.simulator - INFO - Date = 2020-06-14 09:00:00, number of deaths =  0, number of infected = 5798\n",
      "2020-09-01 16:58:22,909 - june.simulator - INFO - Date = 2020-06-14 11:00:00, number of deaths =  0, number of infected = 6049\n",
      "2020-09-01 16:58:23,376 - june.simulator - INFO - Date = 2020-06-15 00:00:00, number of deaths =  0, number of infected = 6756\n",
      "2020-09-01 16:58:23,805 - june.simulator - INFO - Date = 2020-06-15 02:00:00, number of deaths =  0, number of infected = 6911\n",
      "2020-09-01 16:58:24,282 - june.simulator - INFO - Date = 2020-06-15 04:00:00, number of deaths =  0, number of infected = 7173\n",
      "2020-09-01 16:58:24,733 - june.simulator - INFO - Date = 2020-06-15 06:00:00, number of deaths =  0, number of infected = 7416\n",
      "2020-09-01 16:58:25,156 - june.simulator - INFO - Date = 2020-06-15 08:00:00, number of deaths =  0, number of infected = 7655\n",
      "2020-09-01 16:58:25,490 - june.simulator - INFO - Date = 2020-06-15 10:00:00, number of deaths =  0, number of infected = 7919\n",
      "2020-09-01 16:58:25,965 - june.simulator - INFO - Date = 2020-06-16 00:00:00, number of deaths =  0, number of infected = 8718\n",
      "2020-09-01 16:58:26,384 - june.simulator - INFO - Date = 2020-06-16 02:00:00, number of deaths =  0, number of infected = 8882\n",
      "2020-09-01 16:58:26,827 - june.simulator - INFO - Date = 2020-06-16 04:00:00, number of deaths =  0, number of infected = 9160\n",
      "2020-09-01 16:58:27,292 - june.simulator - INFO - Date = 2020-06-16 06:00:00, number of deaths =  0, number of infected = 9442\n",
      "2020-09-01 16:58:27,757 - june.simulator - INFO - Date = 2020-06-16 08:00:00, number of deaths =  0, number of infected = 9728\n",
      "2020-09-01 16:58:28,142 - june.simulator - INFO - Date = 2020-06-16 10:00:00, number of deaths =  0, number of infected = 10000\n",
      "2020-09-01 16:58:28,778 - june.simulator - INFO - Date = 2020-06-17 00:00:00, number of deaths =  0, number of infected = 10921\n",
      "2020-09-01 16:58:29,257 - june.simulator - INFO - Date = 2020-06-17 02:00:00, number of deaths =  0, number of infected = 11103\n",
      "2020-09-01 16:58:29,852 - june.simulator - INFO - Date = 2020-06-17 04:00:00, number of deaths =  0, number of infected = 11407\n",
      "2020-09-01 16:58:30,413 - june.simulator - INFO - Date = 2020-06-17 06:00:00, number of deaths =  0, number of infected = 11676\n",
      "2020-09-01 16:58:30,970 - june.simulator - INFO - Date = 2020-06-17 08:00:00, number of deaths =  0, number of infected = 11940\n",
      "2020-09-01 16:58:31,445 - june.simulator - INFO - Date = 2020-06-17 10:00:00, number of deaths =  0, number of infected = 12224\n",
      "2020-09-01 16:58:32,623 - june.simulator - INFO - Date = 2020-06-18 00:00:00, number of deaths =  1, number of infected = 13118\n",
      "2020-09-01 16:58:33,695 - june.simulator - INFO - Date = 2020-06-18 02:00:00, number of deaths =  1, number of infected = 13276\n",
      "2020-09-01 16:58:34,551 - june.simulator - INFO - Date = 2020-06-18 04:00:00, number of deaths =  1, number of infected = 13585\n",
      "2020-09-01 16:58:35,365 - june.simulator - INFO - Date = 2020-06-18 06:00:00, number of deaths =  1, number of infected = 13878\n",
      "2020-09-01 16:58:35,983 - june.simulator - INFO - Date = 2020-06-18 08:00:00, number of deaths =  1, number of infected = 14153\n",
      "2020-09-01 16:58:36,453 - june.simulator - INFO - Date = 2020-06-18 10:00:00, number of deaths =  1, number of infected = 14420\n",
      "2020-09-01 16:58:37,064 - june.simulator - INFO - Date = 2020-06-19 00:00:00, number of deaths =  1, number of infected = 15248\n",
      "2020-09-01 16:58:37,605 - june.simulator - INFO - Date = 2020-06-19 02:00:00, number of deaths =  1, number of infected = 15384\n",
      "2020-09-01 16:58:38,177 - june.simulator - INFO - Date = 2020-06-19 04:00:00, number of deaths =  1, number of infected = 15662\n",
      "2020-09-01 16:58:38,758 - june.simulator - INFO - Date = 2020-06-19 06:00:00, number of deaths =  1, number of infected = 15898\n",
      "2020-09-01 16:58:39,339 - june.simulator - INFO - Date = 2020-06-19 08:00:00, number of deaths =  1, number of infected = 16134\n",
      "2020-09-01 16:58:39,989 - june.simulator - INFO - Date = 2020-06-19 10:00:00, number of deaths =  1, number of infected = 16367\n",
      "2020-09-01 16:58:40,826 - june.simulator - INFO - Date = 2020-06-20 00:00:00, number of deaths =  1, number of infected = 17166\n",
      "2020-09-01 16:58:41,460 - june.simulator - INFO - Date = 2020-06-20 03:00:00, number of deaths =  1, number of infected = 17365\n",
      "2020-09-01 16:58:42,241 - june.simulator - INFO - Date = 2020-06-20 05:00:00, number of deaths =  1, number of infected = 17623\n",
      "2020-09-01 16:58:42,933 - june.simulator - INFO - Date = 2020-06-20 07:00:00, number of deaths =  1, number of infected = 17910\n",
      "2020-09-01 16:58:44,016 - june.simulator - INFO - Date = 2020-06-20 09:00:00, number of deaths =  2, number of infected = 18149\n",
      "2020-09-01 16:58:45,050 - june.simulator - INFO - Date = 2020-06-20 11:00:00, number of deaths =  2, number of infected = 18392\n",
      "2020-09-01 16:58:45,758 - june.simulator - INFO - Date = 2020-06-21 00:00:00, number of deaths =  2, number of infected = 19023\n",
      "2020-09-01 16:58:46,403 - june.simulator - INFO - Date = 2020-06-21 03:00:00, number of deaths =  2, number of infected = 19168\n",
      "2020-09-01 16:58:47,441 - june.simulator - INFO - Date = 2020-06-21 05:00:00, number of deaths =  2, number of infected = 19389\n",
      "2020-09-01 16:58:48,283 - june.simulator - INFO - Date = 2020-06-21 07:00:00, number of deaths =  2, number of infected = 19565\n",
      "2020-09-01 16:58:49,225 - june.simulator - INFO - Date = 2020-06-21 09:00:00, number of deaths =  3, number of infected = 19731\n",
      "2020-09-01 16:58:49,962 - june.simulator - INFO - Date = 2020-06-21 11:00:00, number of deaths =  3, number of infected = 19891\n",
      "2020-09-01 16:58:50,613 - june.simulator - INFO - Date = 2020-06-22 00:00:00, number of deaths =  3, number of infected = 20341\n",
      "2020-09-01 16:58:51,204 - june.simulator - INFO - Date = 2020-06-22 02:00:00, number of deaths =  3, number of infected = 20418\n",
      "2020-09-01 16:58:51,890 - june.simulator - INFO - Date = 2020-06-22 04:00:00, number of deaths =  3, number of infected = 20526\n",
      "2020-09-01 16:58:52,467 - june.simulator - INFO - Date = 2020-06-22 06:00:00, number of deaths =  3, number of infected = 20646\n",
      "2020-09-01 16:58:53,035 - june.simulator - INFO - Date = 2020-06-22 08:00:00, number of deaths =  3, number of infected = 20745\n",
      "2020-09-01 16:58:53,521 - june.simulator - INFO - Date = 2020-06-22 10:00:00, number of deaths =  3, number of infected = 20850\n",
      "2020-09-01 16:58:54,067 - june.simulator - INFO - Date = 2020-06-23 00:00:00, number of deaths =  3, number of infected = 21196\n",
      "2020-09-01 16:58:54,619 - june.simulator - INFO - Date = 2020-06-23 02:00:00, number of deaths =  3, number of infected = 21265\n",
      "2020-09-01 16:58:55,175 - june.simulator - INFO - Date = 2020-06-23 04:00:00, number of deaths =  3, number of infected = 21325\n",
      "2020-09-01 16:58:55,738 - june.simulator - INFO - Date = 2020-06-23 06:00:00, number of deaths =  3, number of infected = 21398\n",
      "2020-09-01 16:58:56,341 - june.simulator - INFO - Date = 2020-06-23 08:00:00, number of deaths =  3, number of infected = 21465\n",
      "2020-09-01 16:58:56,849 - june.simulator - INFO - Date = 2020-06-23 10:00:00, number of deaths =  3, number of infected = 21525\n",
      "2020-09-01 16:58:57,395 - june.simulator - INFO - Date = 2020-06-24 00:00:00, number of deaths =  3, number of infected = 21732\n",
      "2020-09-01 16:58:57,994 - june.simulator - INFO - Date = 2020-06-24 02:00:00, number of deaths =  3, number of infected = 21770\n",
      "2020-09-01 16:58:58,582 - june.simulator - INFO - Date = 2020-06-24 04:00:00, number of deaths =  3, number of infected = 21797\n",
      "2020-09-01 16:58:59,162 - june.simulator - INFO - Date = 2020-06-24 06:00:00, number of deaths =  3, number of infected = 21841\n",
      "2020-09-01 16:58:59,735 - june.simulator - INFO - Date = 2020-06-24 08:00:00, number of deaths =  3, number of infected = 21893\n",
      "2020-09-01 16:59:00,319 - june.simulator - INFO - Date = 2020-06-24 10:00:00, number of deaths =  3, number of infected = 21933\n",
      "2020-09-01 16:59:00,898 - june.simulator - INFO - Date = 2020-06-25 00:00:00, number of deaths =  3, number of infected = 22054\n",
      "2020-09-01 16:59:01,470 - june.simulator - INFO - Date = 2020-06-25 02:00:00, number of deaths =  3, number of infected = 22064\n",
      "2020-09-01 16:59:02,061 - june.simulator - INFO - Date = 2020-06-25 04:00:00, number of deaths =  3, number of infected = 22095\n"
     ]
    },
    {
     "name": "stdout",
     "output_type": "stream",
     "text": [
      "2020-09-01 16:59:02,638 - june.simulator - INFO - Date = 2020-06-25 06:00:00, number of deaths =  3, number of infected = 22114\n",
      "2020-09-01 16:59:03,209 - june.simulator - INFO - Date = 2020-06-25 08:00:00, number of deaths =  3, number of infected = 22129\n",
      "2020-09-01 16:59:03,800 - june.simulator - INFO - Date = 2020-06-25 10:00:00, number of deaths =  3, number of infected = 22147\n",
      "2020-09-01 16:59:04,297 - june.simulator - INFO - Date = 2020-06-26 00:00:00, number of deaths =  3, number of infected = 22175\n",
      "2020-09-01 16:59:04,854 - june.simulator - INFO - Date = 2020-06-26 02:00:00, number of deaths =  4, number of infected = 22175\n",
      "2020-09-01 16:59:05,420 - june.simulator - INFO - Date = 2020-06-26 04:00:00, number of deaths =  4, number of infected = 22181\n",
      "2020-09-01 16:59:05,991 - june.simulator - INFO - Date = 2020-06-26 06:00:00, number of deaths =  4, number of infected = 22197\n",
      "2020-09-01 16:59:06,555 - june.simulator - INFO - Date = 2020-06-26 08:00:00, number of deaths =  4, number of infected = 22200\n",
      "2020-09-01 16:59:07,035 - june.simulator - INFO - Date = 2020-06-26 10:00:00, number of deaths =  4, number of infected = 22211\n",
      "2020-09-01 16:59:07,528 - june.simulator - INFO - Date = 2020-06-27 00:00:00, number of deaths =  5, number of infected = 22174\n",
      "2020-09-01 16:59:08,127 - june.simulator - INFO - Date = 2020-06-27 03:00:00, number of deaths =  5, number of infected = 22159\n",
      "2020-09-01 16:59:08,700 - june.simulator - INFO - Date = 2020-06-27 05:00:00, number of deaths =  5, number of infected = 22158\n",
      "2020-09-01 16:59:09,281 - june.simulator - INFO - Date = 2020-06-27 07:00:00, number of deaths =  5, number of infected = 22167\n",
      "2020-09-01 16:59:09,867 - june.simulator - INFO - Date = 2020-06-27 09:00:00, number of deaths =  5, number of infected = 22169\n",
      "2020-09-01 16:59:10,346 - june.simulator - INFO - Date = 2020-06-27 11:00:00, number of deaths =  5, number of infected = 22166\n",
      "2020-09-01 16:59:10,829 - june.simulator - INFO - Date = 2020-06-28 00:00:00, number of deaths =  6, number of infected = 22118\n",
      "2020-09-01 16:59:11,413 - june.simulator - INFO - Date = 2020-06-28 03:00:00, number of deaths =  6, number of infected = 22099\n",
      "2020-09-01 16:59:12,012 - june.simulator - INFO - Date = 2020-06-28 05:00:00, number of deaths =  6, number of infected = 22090\n",
      "2020-09-01 16:59:12,600 - june.simulator - INFO - Date = 2020-06-28 07:00:00, number of deaths =  6, number of infected = 22071\n",
      "2020-09-01 16:59:13,174 - june.simulator - INFO - Date = 2020-06-28 09:00:00, number of deaths =  6, number of infected = 22061\n",
      "2020-09-01 16:59:13,642 - june.simulator - INFO - Date = 2020-06-28 11:00:00, number of deaths =  6, number of infected = 22049\n",
      "2020-09-01 16:59:14,237 - june.simulator - INFO - Date = 2020-06-29 00:00:00, number of deaths =  6, number of infected = 21944\n",
      "2020-09-01 16:59:14,847 - june.simulator - INFO - Date = 2020-06-29 02:00:00, number of deaths =  6, number of infected = 21921\n",
      "2020-09-01 16:59:15,628 - june.simulator - INFO - Date = 2020-06-29 04:00:00, number of deaths =  6, number of infected = 21899\n",
      "2020-09-01 16:59:16,218 - june.simulator - INFO - Date = 2020-06-29 06:00:00, number of deaths =  6, number of infected = 21880\n",
      "2020-09-01 16:59:16,826 - june.simulator - INFO - Date = 2020-06-29 08:00:00, number of deaths =  6, number of infected = 21861\n",
      "2020-09-01 16:59:17,343 - june.simulator - INFO - Date = 2020-06-29 10:00:00, number of deaths =  6, number of infected = 21846\n",
      "2020-09-01 16:59:17,812 - june.simulator - INFO - Date = 2020-06-30 00:00:00, number of deaths =  7, number of infected = 21646\n",
      "2020-09-01 16:59:18,372 - june.simulator - INFO - Date = 2020-06-30 02:00:00, number of deaths =  7, number of infected = 21623\n",
      "2020-09-01 16:59:18,936 - june.simulator - INFO - Date = 2020-06-30 04:00:00, number of deaths =  7, number of infected = 21588\n",
      "2020-09-01 16:59:19,514 - june.simulator - INFO - Date = 2020-06-30 06:00:00, number of deaths =  7, number of infected = 21559\n",
      "2020-09-01 16:59:20,063 - june.simulator - INFO - Date = 2020-06-30 08:00:00, number of deaths =  7, number of infected = 21526\n",
      "2020-09-01 16:59:20,562 - june.simulator - INFO - Date = 2020-06-30 10:00:00, number of deaths =  7, number of infected = 21495\n",
      "2020-09-01 16:59:21,024 - june.simulator - INFO - Date = 2020-07-01 00:00:00, number of deaths =  7, number of infected = 21253\n",
      "2020-09-01 16:59:21,569 - june.simulator - INFO - Date = 2020-07-01 02:00:00, number of deaths =  7, number of infected = 21218\n",
      "2020-09-01 16:59:22,110 - june.simulator - INFO - Date = 2020-07-01 04:00:00, number of deaths =  7, number of infected = 21173\n",
      "2020-09-01 16:59:22,681 - june.simulator - INFO - Date = 2020-07-01 06:00:00, number of deaths =  7, number of infected = 21116\n",
      "2020-09-01 16:59:23,227 - june.simulator - INFO - Date = 2020-07-01 08:00:00, number of deaths =  7, number of infected = 21079\n",
      "2020-09-01 16:59:23,692 - june.simulator - INFO - Date = 2020-07-01 10:00:00, number of deaths =  7, number of infected = 21040\n",
      "2020-09-01 16:59:24,156 - june.simulator - INFO - Date = 2020-07-02 00:00:00, number of deaths =  7, number of infected = 20691\n",
      "2020-09-01 16:59:24,739 - june.simulator - INFO - Date = 2020-07-02 02:00:00, number of deaths =  8, number of infected = 20643\n",
      "2020-09-01 16:59:25,338 - june.simulator - INFO - Date = 2020-07-02 04:00:00, number of deaths =  8, number of infected = 20595\n",
      "2020-09-01 16:59:26,217 - june.simulator - INFO - Date = 2020-07-02 06:00:00, number of deaths =  8, number of infected = 20536\n",
      "2020-09-01 16:59:26,932 - june.simulator - INFO - Date = 2020-07-02 08:00:00, number of deaths =  8, number of infected = 20480\n",
      "2020-09-01 16:59:27,480 - june.simulator - INFO - Date = 2020-07-02 10:00:00, number of deaths =  8, number of infected = 20426\n",
      "2020-09-01 16:59:27,981 - june.simulator - INFO - Date = 2020-07-03 00:00:00, number of deaths =  9, number of infected = 20042\n",
      "2020-09-01 16:59:28,578 - june.simulator - INFO - Date = 2020-07-03 02:00:00, number of deaths =  9, number of infected = 19982\n",
      "2020-09-01 16:59:29,120 - june.simulator - INFO - Date = 2020-07-03 04:00:00, number of deaths =  9, number of infected = 19928\n",
      "2020-09-01 16:59:29,673 - june.simulator - INFO - Date = 2020-07-03 06:00:00, number of deaths =  9, number of infected = 19859\n",
      "2020-09-01 16:59:30,203 - june.simulator - INFO - Date = 2020-07-03 08:00:00, number of deaths =  9, number of infected = 19784\n",
      "2020-09-01 16:59:30,645 - june.simulator - INFO - Date = 2020-07-03 10:00:00, number of deaths =  9, number of infected = 19714\n",
      "2020-09-01 16:59:31,087 - june.simulator - INFO - Date = 2020-07-04 00:00:00, number of deaths =  9, number of infected = 19269\n",
      "2020-09-01 16:59:31,643 - june.simulator - INFO - Date = 2020-07-04 03:00:00, number of deaths =  9, number of infected = 19171\n",
      "2020-09-01 16:59:32,193 - june.simulator - INFO - Date = 2020-07-04 05:00:00, number of deaths =  9, number of infected = 19098\n",
      "2020-09-01 16:59:32,754 - june.simulator - INFO - Date = 2020-07-04 07:00:00, number of deaths =  9, number of infected = 19015\n",
      "2020-09-01 16:59:33,306 - june.simulator - INFO - Date = 2020-07-04 09:00:00, number of deaths =  11, number of infected = 18939\n",
      "2020-09-01 16:59:33,733 - june.simulator - INFO - Date = 2020-07-04 11:00:00, number of deaths =  11, number of infected = 18858\n",
      "2020-09-01 16:59:34,187 - june.simulator - INFO - Date = 2020-07-05 00:00:00, number of deaths =  12, number of infected = 18333\n",
      "2020-09-01 16:59:34,820 - june.simulator - INFO - Date = 2020-07-05 03:00:00, number of deaths =  12, number of infected = 18200\n",
      "2020-09-01 16:59:35,505 - june.simulator - INFO - Date = 2020-07-05 05:00:00, number of deaths =  12, number of infected = 18109\n",
      "2020-09-01 16:59:36,081 - june.simulator - INFO - Date = 2020-07-05 07:00:00, number of deaths =  12, number of infected = 18035\n",
      "2020-09-01 16:59:36,704 - june.simulator - INFO - Date = 2020-07-05 09:00:00, number of deaths =  12, number of infected = 17945\n",
      "2020-09-01 16:59:37,189 - june.simulator - INFO - Date = 2020-07-05 11:00:00, number of deaths =  12, number of infected = 17840\n",
      "2020-09-01 16:59:37,687 - june.simulator - INFO - Date = 2020-07-06 00:00:00, number of deaths =  12, number of infected = 17181\n"
     ]
    },
    {
     "name": "stdout",
     "output_type": "stream",
     "text": [
      "2020-09-01 16:59:38,251 - june.simulator - INFO - Date = 2020-07-06 02:00:00, number of deaths =  12, number of infected = 17072\n",
      "2020-09-01 16:59:38,801 - june.simulator - INFO - Date = 2020-07-06 04:00:00, number of deaths =  12, number of infected = 16981\n",
      "2020-09-01 16:59:39,363 - june.simulator - INFO - Date = 2020-07-06 06:00:00, number of deaths =  12, number of infected = 16863\n",
      "2020-09-01 16:59:39,978 - june.simulator - INFO - Date = 2020-07-06 08:00:00, number of deaths =  12, number of infected = 16749\n",
      "2020-09-01 16:59:40,458 - june.simulator - INFO - Date = 2020-07-06 10:00:00, number of deaths =  12, number of infected = 16648\n",
      "2020-09-01 16:59:40,898 - june.simulator - INFO - Date = 2020-07-07 00:00:00, number of deaths =  12, number of infected = 15841\n",
      "2020-09-01 16:59:41,444 - june.simulator - INFO - Date = 2020-07-07 02:00:00, number of deaths =  12, number of infected = 15733\n",
      "2020-09-01 16:59:41,982 - june.simulator - INFO - Date = 2020-07-07 04:00:00, number of deaths =  12, number of infected = 15616\n",
      "2020-09-01 16:59:42,511 - june.simulator - INFO - Date = 2020-07-07 06:00:00, number of deaths =  12, number of infected = 15496\n",
      "2020-09-01 16:59:43,127 - june.simulator - INFO - Date = 2020-07-07 08:00:00, number of deaths =  12, number of infected = 15377\n",
      "2020-09-01 16:59:43,615 - june.simulator - INFO - Date = 2020-07-07 10:00:00, number of deaths =  12, number of infected = 15252\n",
      "2020-09-01 16:59:44,045 - june.simulator - INFO - Date = 2020-07-08 00:00:00, number of deaths =  12, number of infected = 14412\n",
      "2020-09-01 16:59:44,568 - june.simulator - INFO - Date = 2020-07-08 02:00:00, number of deaths =  12, number of infected = 14291\n",
      "2020-09-01 16:59:45,115 - june.simulator - INFO - Date = 2020-07-08 04:00:00, number of deaths =  12, number of infected = 14174\n",
      "2020-09-01 16:59:45,649 - june.simulator - INFO - Date = 2020-07-08 06:00:00, number of deaths =  12, number of infected = 14033\n",
      "2020-09-01 16:59:46,296 - june.simulator - INFO - Date = 2020-07-08 08:00:00, number of deaths =  12, number of infected = 13924\n",
      "2020-09-01 16:59:46,923 - june.simulator - INFO - Date = 2020-07-08 10:00:00, number of deaths =  12, number of infected = 13797\n",
      "2020-09-01 16:59:47,573 - june.simulator - INFO - Date = 2020-07-09 00:00:00, number of deaths =  13, number of infected = 12942\n",
      "2020-09-01 16:59:48,409 - june.simulator - INFO - Date = 2020-07-09 02:00:00, number of deaths =  13, number of infected = 12830\n",
      "2020-09-01 16:59:48,901 - june.simulator - INFO - Date = 2020-07-09 04:00:00, number of deaths =  13, number of infected = 12676\n",
      "2020-09-01 16:59:49,446 - june.simulator - INFO - Date = 2020-07-09 06:00:00, number of deaths =  13, number of infected = 12537\n",
      "2020-09-01 16:59:50,001 - june.simulator - INFO - Date = 2020-07-09 08:00:00, number of deaths =  13, number of infected = 12410\n",
      "2020-09-01 16:59:50,443 - june.simulator - INFO - Date = 2020-07-09 10:00:00, number of deaths =  13, number of infected = 12275\n",
      "2020-09-01 16:59:50,848 - june.simulator - INFO - Date = 2020-07-10 00:00:00, number of deaths =  13, number of infected = 11387\n",
      "2020-09-01 16:59:51,354 - june.simulator - INFO - Date = 2020-07-10 02:00:00, number of deaths =  13, number of infected = 11246\n",
      "2020-09-01 16:59:51,849 - june.simulator - INFO - Date = 2020-07-10 04:00:00, number of deaths =  13, number of infected = 11109\n",
      "2020-09-01 16:59:52,287 - june.simulator - INFO - Date = 2020-07-10 06:00:00, number of deaths =  13, number of infected = 10983\n",
      "2020-09-01 16:59:52,714 - june.simulator - INFO - Date = 2020-07-10 08:00:00, number of deaths =  13, number of infected = 10860\n",
      "2020-09-01 16:59:53,033 - june.simulator - INFO - Date = 2020-07-10 10:00:00, number of deaths =  13, number of infected = 10719\n",
      "2020-09-01 16:59:53,358 - june.simulator - INFO - Date = 2020-07-11 00:00:00, number of deaths =  13, number of infected = 9805\n",
      "2020-09-01 16:59:53,791 - june.simulator - INFO - Date = 2020-07-11 03:00:00, number of deaths =  13, number of infected = 9630\n",
      "2020-09-01 16:59:54,272 - june.simulator - INFO - Date = 2020-07-11 05:00:00, number of deaths =  13, number of infected = 9503\n",
      "2020-09-01 16:59:54,694 - june.simulator - INFO - Date = 2020-07-11 07:00:00, number of deaths =  13, number of infected = 9366\n",
      "2020-09-01 16:59:55,100 - june.simulator - INFO - Date = 2020-07-11 09:00:00, number of deaths =  13, number of infected = 9220\n",
      "2020-09-01 16:59:55,414 - june.simulator - INFO - Date = 2020-07-11 11:00:00, number of deaths =  13, number of infected = 9088\n",
      "2020-09-01 16:59:55,734 - june.simulator - INFO - Date = 2020-07-12 00:00:00, number of deaths =  14, number of infected = 8206\n",
      "2020-09-01 16:59:56,182 - june.simulator - INFO - Date = 2020-07-12 03:00:00, number of deaths =  14, number of infected = 8017\n",
      "2020-09-01 16:59:56,575 - june.simulator - INFO - Date = 2020-07-12 05:00:00, number of deaths =  14, number of infected = 7881\n",
      "2020-09-01 16:59:56,991 - june.simulator - INFO - Date = 2020-07-12 07:00:00, number of deaths =  14, number of infected = 7763\n",
      "2020-09-01 16:59:57,389 - june.simulator - INFO - Date = 2020-07-12 09:00:00, number of deaths =  14, number of infected = 7649\n",
      "2020-09-01 16:59:57,646 - june.simulator - INFO - Date = 2020-07-12 11:00:00, number of deaths =  14, number of infected = 7519\n",
      "2020-09-01 16:59:57,907 - june.simulator - INFO - Date = 2020-07-13 00:00:00, number of deaths =  15, number of infected = 6764\n",
      "2020-09-01 16:59:58,275 - june.simulator - INFO - Date = 2020-07-13 02:00:00, number of deaths =  15, number of infected = 6632\n",
      "2020-09-01 16:59:58,620 - june.simulator - INFO - Date = 2020-07-13 04:00:00, number of deaths =  15, number of infected = 6509\n",
      "2020-09-01 16:59:58,977 - june.simulator - INFO - Date = 2020-07-13 06:00:00, number of deaths =  15, number of infected = 6397\n",
      "2020-09-01 16:59:59,310 - june.simulator - INFO - Date = 2020-07-13 08:00:00, number of deaths =  15, number of infected = 6286\n",
      "2020-09-01 16:59:59,547 - june.simulator - INFO - Date = 2020-07-13 10:00:00, number of deaths =  15, number of infected = 6176\n",
      "2020-09-01 16:59:59,777 - june.simulator - INFO - Date = 2020-07-14 00:00:00, number of deaths =  15, number of infected = 5405\n",
      "2020-09-01 17:00:00,109 - june.simulator - INFO - Date = 2020-07-14 02:00:00, number of deaths =  15, number of infected = 5296\n",
      "2020-09-01 17:00:00,462 - june.simulator - INFO - Date = 2020-07-14 04:00:00, number of deaths =  15, number of infected = 5175\n",
      "2020-09-01 17:00:00,881 - june.simulator - INFO - Date = 2020-07-14 06:00:00, number of deaths =  15, number of infected = 5082\n",
      "2020-09-01 17:00:01,241 - june.simulator - INFO - Date = 2020-07-14 08:00:00, number of deaths =  15, number of infected = 4974\n",
      "2020-09-01 17:00:01,471 - june.simulator - INFO - Date = 2020-07-14 10:00:00, number of deaths =  15, number of infected = 4874\n",
      "2020-09-01 17:00:01,694 - june.simulator - INFO - Date = 2020-07-15 00:00:00, number of deaths =  15, number of infected = 4232\n",
      "2020-09-01 17:00:02,033 - june.simulator - INFO - Date = 2020-07-15 02:00:00, number of deaths =  16, number of infected = 4142\n",
      "2020-09-01 17:00:02,386 - june.simulator - INFO - Date = 2020-07-15 04:00:00, number of deaths =  16, number of infected = 4051\n",
      "2020-09-01 17:00:02,726 - june.simulator - INFO - Date = 2020-07-15 06:00:00, number of deaths =  16, number of infected = 3956\n",
      "2020-09-01 17:00:03,063 - june.simulator - INFO - Date = 2020-07-15 08:00:00, number of deaths =  16, number of infected = 3858\n",
      "2020-09-01 17:00:03,292 - june.simulator - INFO - Date = 2020-07-15 10:00:00, number of deaths =  16, number of infected = 3770\n",
      "2020-09-01 17:00:03,508 - june.simulator - INFO - Date = 2020-07-16 00:00:00, number of deaths =  16, number of infected = 3247\n",
      "2020-09-01 17:00:03,826 - june.simulator - INFO - Date = 2020-07-16 02:00:00, number of deaths =  16, number of infected = 3181\n",
      "2020-09-01 17:00:04,170 - june.simulator - INFO - Date = 2020-07-16 04:00:00, number of deaths =  16, number of infected = 3123\n",
      "2020-09-01 17:00:04,494 - june.simulator - INFO - Date = 2020-07-16 06:00:00, number of deaths =  16, number of infected = 3051\n",
      "2020-09-01 17:00:04,807 - june.simulator - INFO - Date = 2020-07-16 08:00:00, number of deaths =  16, number of infected = 2982\n"
     ]
    },
    {
     "name": "stdout",
     "output_type": "stream",
     "text": [
      "2020-09-01 17:00:05,006 - june.simulator - INFO - Date = 2020-07-16 10:00:00, number of deaths =  16, number of infected = 2925\n",
      "2020-09-01 17:00:05,207 - june.simulator - INFO - Date = 2020-07-17 00:00:00, number of deaths =  17, number of infected = 2497\n",
      "2020-09-01 17:00:05,518 - june.simulator - INFO - Date = 2020-07-17 02:00:00, number of deaths =  17, number of infected = 2438\n",
      "2020-09-01 17:00:05,840 - june.simulator - INFO - Date = 2020-07-17 04:00:00, number of deaths =  17, number of infected = 2375\n",
      "2020-09-01 17:00:06,150 - june.simulator - INFO - Date = 2020-07-17 06:00:00, number of deaths =  17, number of infected = 2308\n",
      "2020-09-01 17:00:06,449 - june.simulator - INFO - Date = 2020-07-17 08:00:00, number of deaths =  17, number of infected = 2258\n",
      "2020-09-01 17:00:06,649 - june.simulator - INFO - Date = 2020-07-17 10:00:00, number of deaths =  17, number of infected = 2185\n",
      "2020-09-01 17:00:06,839 - june.simulator - INFO - Date = 2020-07-18 00:00:00, number of deaths =  17, number of infected = 1838\n",
      "2020-09-01 17:00:07,162 - june.simulator - INFO - Date = 2020-07-18 03:00:00, number of deaths =  17, number of infected = 1766\n",
      "2020-09-01 17:00:07,476 - june.simulator - INFO - Date = 2020-07-18 05:00:00, number of deaths =  17, number of infected = 1728\n",
      "2020-09-01 17:00:07,795 - june.simulator - INFO - Date = 2020-07-18 07:00:00, number of deaths =  17, number of infected = 1691\n",
      "2020-09-01 17:00:08,117 - june.simulator - INFO - Date = 2020-07-18 09:00:00, number of deaths =  17, number of infected = 1654\n",
      "2020-09-01 17:00:08,293 - june.simulator - INFO - Date = 2020-07-18 11:00:00, number of deaths =  17, number of infected = 1619\n",
      "2020-09-01 17:00:08,459 - june.simulator - INFO - Date = 2020-07-19 00:00:00, number of deaths =  18, number of infected = 1378\n",
      "2020-09-01 17:00:08,756 - june.simulator - INFO - Date = 2020-07-19 03:00:00, number of deaths =  18, number of infected = 1324\n",
      "2020-09-01 17:00:09,093 - june.simulator - INFO - Date = 2020-07-19 05:00:00, number of deaths =  18, number of infected = 1292\n",
      "2020-09-01 17:00:09,426 - june.simulator - INFO - Date = 2020-07-19 07:00:00, number of deaths =  18, number of infected = 1252\n",
      "2020-09-01 17:00:09,746 - june.simulator - INFO - Date = 2020-07-19 09:00:00, number of deaths =  18, number of infected = 1218\n",
      "2020-09-01 17:00:09,924 - june.simulator - INFO - Date = 2020-07-19 11:00:00, number of deaths =  18, number of infected = 1191\n",
      "2020-09-01 17:00:10,114 - june.simulator - INFO - Date = 2020-07-20 00:00:00, number of deaths =  18, number of infected = 1008\n",
      "2020-09-01 17:00:10,459 - june.simulator - INFO - Date = 2020-07-20 02:00:00, number of deaths =  18, number of infected = 979\n",
      "2020-09-01 17:00:10,759 - june.simulator - INFO - Date = 2020-07-20 04:00:00, number of deaths =  18, number of infected = 958\n",
      "2020-09-01 17:00:11,055 - june.simulator - INFO - Date = 2020-07-20 06:00:00, number of deaths =  18, number of infected = 935\n",
      "2020-09-01 17:00:11,332 - june.simulator - INFO - Date = 2020-07-20 08:00:00, number of deaths =  18, number of infected = 916\n",
      "2020-09-01 17:00:11,498 - june.simulator - INFO - Date = 2020-07-20 10:00:00, number of deaths =  18, number of infected = 879\n",
      "2020-09-01 17:00:11,652 - june.simulator - INFO - Date = 2020-07-21 00:00:00, number of deaths =  18, number of infected = 733\n",
      "2020-09-01 17:00:11,930 - june.simulator - INFO - Date = 2020-07-21 02:00:00, number of deaths =  18, number of infected = 715\n",
      "2020-09-01 17:00:12,196 - june.simulator - INFO - Date = 2020-07-21 04:00:00, number of deaths =  18, number of infected = 702\n",
      "2020-09-01 17:00:12,479 - june.simulator - INFO - Date = 2020-07-21 06:00:00, number of deaths =  18, number of infected = 687\n",
      "2020-09-01 17:00:12,775 - june.simulator - INFO - Date = 2020-07-21 08:00:00, number of deaths =  18, number of infected = 679\n",
      "2020-09-01 17:00:12,944 - june.simulator - INFO - Date = 2020-07-21 10:00:00, number of deaths =  18, number of infected = 663\n",
      "2020-09-01 17:00:13,101 - june.simulator - INFO - Date = 2020-07-22 00:00:00, number of deaths =  18, number of infected = 562\n",
      "2020-09-01 17:00:13,375 - june.simulator - INFO - Date = 2020-07-22 02:00:00, number of deaths =  18, number of infected = 552\n",
      "2020-09-01 17:00:13,643 - june.simulator - INFO - Date = 2020-07-22 04:00:00, number of deaths =  18, number of infected = 543\n",
      "2020-09-01 17:00:13,965 - june.simulator - INFO - Date = 2020-07-22 06:00:00, number of deaths =  18, number of infected = 532\n",
      "2020-09-01 17:00:14,280 - june.simulator - INFO - Date = 2020-07-22 08:00:00, number of deaths =  18, number of infected = 525\n",
      "2020-09-01 17:00:14,444 - june.simulator - INFO - Date = 2020-07-22 10:00:00, number of deaths =  18, number of infected = 508\n",
      "2020-09-01 17:00:14,669 - june.simulator - INFO - Date = 2020-07-23 00:00:00, number of deaths =  18, number of infected = 432\n",
      "2020-09-01 17:00:14,947 - june.simulator - INFO - Date = 2020-07-23 02:00:00, number of deaths =  18, number of infected = 423\n",
      "2020-09-01 17:00:15,253 - june.simulator - INFO - Date = 2020-07-23 04:00:00, number of deaths =  18, number of infected = 411\n",
      "2020-09-01 17:00:15,530 - june.simulator - INFO - Date = 2020-07-23 06:00:00, number of deaths =  18, number of infected = 402\n",
      "2020-09-01 17:00:15,814 - june.simulator - INFO - Date = 2020-07-23 08:00:00, number of deaths =  18, number of infected = 397\n",
      "2020-09-01 17:00:15,986 - june.simulator - INFO - Date = 2020-07-23 10:00:00, number of deaths =  18, number of infected = 391\n",
      "2020-09-01 17:00:16,154 - june.simulator - INFO - Date = 2020-07-24 00:00:00, number of deaths =  18, number of infected = 337\n",
      "2020-09-01 17:00:16,393 - june.simulator - INFO - Date = 2020-07-24 02:00:00, number of deaths =  18, number of infected = 335\n",
      "2020-09-01 17:00:16,650 - june.simulator - INFO - Date = 2020-07-24 04:00:00, number of deaths =  18, number of infected = 322\n",
      "2020-09-01 17:00:16,907 - june.simulator - INFO - Date = 2020-07-24 06:00:00, number of deaths =  18, number of infected = 315\n",
      "2020-09-01 17:00:17,162 - june.simulator - INFO - Date = 2020-07-24 08:00:00, number of deaths =  18, number of infected = 309\n",
      "2020-09-01 17:00:17,304 - june.simulator - INFO - Date = 2020-07-24 10:00:00, number of deaths =  18, number of infected = 303\n",
      "2020-09-01 17:00:17,441 - june.simulator - INFO - Date = 2020-07-25 00:00:00, number of deaths =  18, number of infected = 263\n",
      "2020-09-01 17:00:17,708 - june.simulator - INFO - Date = 2020-07-25 03:00:00, number of deaths =  18, number of infected = 258\n",
      "2020-09-01 17:00:17,985 - june.simulator - INFO - Date = 2020-07-25 05:00:00, number of deaths =  18, number of infected = 254\n",
      "2020-09-01 17:00:18,272 - june.simulator - INFO - Date = 2020-07-25 07:00:00, number of deaths =  18, number of infected = 249\n",
      "2020-09-01 17:00:18,573 - june.simulator - INFO - Date = 2020-07-25 09:00:00, number of deaths =  18, number of infected = 245\n",
      "2020-09-01 17:00:18,714 - june.simulator - INFO - Date = 2020-07-25 11:00:00, number of deaths =  18, number of infected = 240\n",
      "2020-09-01 17:00:18,851 - june.simulator - INFO - Date = 2020-07-26 00:00:00, number of deaths =  18, number of infected = 213\n",
      "2020-09-01 17:00:19,119 - june.simulator - INFO - Date = 2020-07-26 03:00:00, number of deaths =  19, number of infected = 204\n",
      "2020-09-01 17:00:19,458 - june.simulator - INFO - Date = 2020-07-26 05:00:00, number of deaths =  19, number of infected = 200\n",
      "2020-09-01 17:00:19,729 - june.simulator - INFO - Date = 2020-07-26 07:00:00, number of deaths =  19, number of infected = 197\n",
      "2020-09-01 17:00:19,987 - june.simulator - INFO - Date = 2020-07-26 09:00:00, number of deaths =  19, number of infected = 191\n",
      "2020-09-01 17:00:20,126 - june.simulator - INFO - Date = 2020-07-26 11:00:00, number of deaths =  19, number of infected = 188\n",
      "2020-09-01 17:00:20,264 - june.simulator - INFO - Date = 2020-07-27 00:00:00, number of deaths =  19, number of infected = 168\n",
      "2020-09-01 17:00:20,526 - june.simulator - INFO - Date = 2020-07-27 02:00:00, number of deaths =  19, number of infected = 165\n",
      "2020-09-01 17:00:20,762 - june.simulator - INFO - Date = 2020-07-27 04:00:00, number of deaths =  19, number of infected = 160\n",
      "2020-09-01 17:00:20,997 - june.simulator - INFO - Date = 2020-07-27 06:00:00, number of deaths =  19, number of infected = 157\n"
     ]
    },
    {
     "name": "stdout",
     "output_type": "stream",
     "text": [
      "2020-09-01 17:00:21,283 - june.simulator - INFO - Date = 2020-07-27 08:00:00, number of deaths =  19, number of infected = 154\n",
      "2020-09-01 17:00:21,433 - june.simulator - INFO - Date = 2020-07-27 10:00:00, number of deaths =  19, number of infected = 152\n",
      "2020-09-01 17:00:21,562 - june.simulator - INFO - Date = 2020-07-28 00:00:00, number of deaths =  19, number of infected = 136\n",
      "2020-09-01 17:00:21,787 - june.simulator - INFO - Date = 2020-07-28 02:00:00, number of deaths =  19, number of infected = 133\n",
      "2020-09-01 17:00:22,030 - june.simulator - INFO - Date = 2020-07-28 04:00:00, number of deaths =  19, number of infected = 131\n",
      "2020-09-01 17:00:22,265 - june.simulator - INFO - Date = 2020-07-28 06:00:00, number of deaths =  19, number of infected = 128\n",
      "2020-09-01 17:00:22,497 - june.simulator - INFO - Date = 2020-07-28 08:00:00, number of deaths =  19, number of infected = 124\n",
      "2020-09-01 17:00:22,627 - june.simulator - INFO - Date = 2020-07-28 10:00:00, number of deaths =  19, number of infected = 121\n",
      "2020-09-01 17:00:22,758 - june.simulator - INFO - Date = 2020-07-29 00:00:00, number of deaths =  19, number of infected = 111\n",
      "2020-09-01 17:00:23,010 - june.simulator - INFO - Date = 2020-07-29 02:00:00, number of deaths =  19, number of infected = 110\n",
      "2020-09-01 17:00:23,254 - june.simulator - INFO - Date = 2020-07-29 04:00:00, number of deaths =  19, number of infected = 109\n",
      "2020-09-01 17:00:23,524 - june.simulator - INFO - Date = 2020-07-29 06:00:00, number of deaths =  19, number of infected = 108\n",
      "2020-09-01 17:00:23,761 - june.simulator - INFO - Date = 2020-07-29 08:00:00, number of deaths =  19, number of infected = 106\n",
      "2020-09-01 17:00:23,923 - june.simulator - INFO - Date = 2020-07-29 10:00:00, number of deaths =  19, number of infected = 106\n",
      "2020-09-01 17:00:24,056 - june.simulator - INFO - Date = 2020-07-30 00:00:00, number of deaths =  19, number of infected = 97\n",
      "2020-09-01 17:00:24,329 - june.simulator - INFO - Date = 2020-07-30 02:00:00, number of deaths =  19, number of infected = 94\n",
      "2020-09-01 17:00:24,576 - june.simulator - INFO - Date = 2020-07-30 04:00:00, number of deaths =  19, number of infected = 93\n",
      "2020-09-01 17:00:24,818 - june.simulator - INFO - Date = 2020-07-30 06:00:00, number of deaths =  19, number of infected = 92\n",
      "2020-09-01 17:00:25,063 - june.simulator - INFO - Date = 2020-07-30 08:00:00, number of deaths =  19, number of infected = 92\n",
      "2020-09-01 17:00:25,232 - june.simulator - INFO - Date = 2020-07-30 10:00:00, number of deaths =  19, number of infected = 91\n",
      "2020-09-01 17:00:25,378 - june.simulator - INFO - Date = 2020-07-31 00:00:00, number of deaths =  19, number of infected = 81\n",
      "2020-09-01 17:00:25,617 - june.simulator - INFO - Date = 2020-07-31 02:00:00, number of deaths =  19, number of infected = 81\n",
      "2020-09-01 17:00:25,853 - june.simulator - INFO - Date = 2020-07-31 04:00:00, number of deaths =  19, number of infected = 81\n",
      "2020-09-01 17:00:26,137 - june.simulator - INFO - Date = 2020-07-31 06:00:00, number of deaths =  19, number of infected = 81\n",
      "2020-09-01 17:00:26,371 - june.simulator - INFO - Date = 2020-07-31 08:00:00, number of deaths =  19, number of infected = 81\n",
      "2020-09-01 17:00:26,504 - june.simulator - INFO - Date = 2020-07-31 10:00:00, number of deaths =  19, number of infected = 80\n",
      "2020-09-01 17:00:26,635 - june.simulator - INFO - Date = 2020-08-01 00:00:00, number of deaths =  19, number of infected = 78\n",
      "2020-09-01 17:00:26,907 - june.simulator - INFO - Date = 2020-08-01 03:00:00, number of deaths =  19, number of infected = 78\n",
      "2020-09-01 17:00:27,201 - june.simulator - INFO - Date = 2020-08-01 05:00:00, number of deaths =  19, number of infected = 78\n",
      "2020-09-01 17:00:27,471 - june.simulator - INFO - Date = 2020-08-01 07:00:00, number of deaths =  19, number of infected = 78\n",
      "2020-09-01 17:00:27,757 - june.simulator - INFO - Date = 2020-08-01 09:00:00, number of deaths =  19, number of infected = 75\n",
      "2020-09-01 17:00:27,893 - june.simulator - INFO - Date = 2020-08-01 11:00:00, number of deaths =  19, number of infected = 74\n",
      "2020-09-01 17:00:28,023 - june.simulator - INFO - Date = 2020-08-02 00:00:00, number of deaths =  19, number of infected = 71\n",
      "2020-09-01 17:00:28,273 - june.simulator - INFO - Date = 2020-08-02 03:00:00, number of deaths =  19, number of infected = 71\n",
      "2020-09-01 17:00:28,591 - june.simulator - INFO - Date = 2020-08-02 05:00:00, number of deaths =  19, number of infected = 70\n",
      "2020-09-01 17:00:28,865 - june.simulator - INFO - Date = 2020-08-02 07:00:00, number of deaths =  19, number of infected = 70\n",
      "2020-09-01 17:00:29,135 - june.simulator - INFO - Date = 2020-08-02 09:00:00, number of deaths =  19, number of infected = 70\n",
      "2020-09-01 17:00:29,269 - june.simulator - INFO - Date = 2020-08-02 11:00:00, number of deaths =  19, number of infected = 70\n",
      "2020-09-01 17:00:29,397 - june.simulator - INFO - Date = 2020-08-03 00:00:00, number of deaths =  19, number of infected = 63\n",
      "2020-09-01 17:00:29,640 - june.simulator - INFO - Date = 2020-08-03 02:00:00, number of deaths =  19, number of infected = 62\n",
      "2020-09-01 17:00:29,868 - june.simulator - INFO - Date = 2020-08-03 04:00:00, number of deaths =  19, number of infected = 62\n",
      "2020-09-01 17:00:30,099 - june.simulator - INFO - Date = 2020-08-03 06:00:00, number of deaths =  19, number of infected = 61\n",
      "2020-09-01 17:00:30,361 - june.simulator - INFO - Date = 2020-08-03 08:00:00, number of deaths =  19, number of infected = 61\n",
      "2020-09-01 17:00:30,530 - june.simulator - INFO - Date = 2020-08-03 10:00:00, number of deaths =  19, number of infected = 61\n",
      "2020-09-01 17:00:30,710 - june.simulator - INFO - Date = 2020-08-04 00:00:00, number of deaths =  19, number of infected = 56\n",
      "2020-09-01 17:00:30,993 - june.simulator - INFO - Date = 2020-08-04 02:00:00, number of deaths =  19, number of infected = 56\n",
      "2020-09-01 17:00:31,327 - june.simulator - INFO - Date = 2020-08-04 04:00:00, number of deaths =  19, number of infected = 56\n",
      "2020-09-01 17:00:31,583 - june.simulator - INFO - Date = 2020-08-04 06:00:00, number of deaths =  19, number of infected = 55\n",
      "2020-09-01 17:00:31,908 - june.simulator - INFO - Date = 2020-08-04 08:00:00, number of deaths =  19, number of infected = 55\n",
      "2020-09-01 17:00:32,108 - june.simulator - INFO - Date = 2020-08-04 10:00:00, number of deaths =  19, number of infected = 55\n",
      "2020-09-01 17:00:32,261 - june.simulator - INFO - Date = 2020-08-05 00:00:00, number of deaths =  19, number of infected = 48\n",
      "2020-09-01 17:00:32,525 - june.simulator - INFO - Date = 2020-08-05 02:00:00, number of deaths =  19, number of infected = 48\n",
      "2020-09-01 17:00:32,866 - june.simulator - INFO - Date = 2020-08-05 04:00:00, number of deaths =  19, number of infected = 46\n",
      "2020-09-01 17:00:33,148 - june.simulator - INFO - Date = 2020-08-05 06:00:00, number of deaths =  19, number of infected = 46\n",
      "2020-09-01 17:00:33,426 - june.simulator - INFO - Date = 2020-08-05 08:00:00, number of deaths =  19, number of infected = 45\n",
      "2020-09-01 17:00:33,583 - june.simulator - INFO - Date = 2020-08-05 10:00:00, number of deaths =  19, number of infected = 45\n",
      "2020-09-01 17:00:33,737 - june.simulator - INFO - Date = 2020-08-06 00:00:00, number of deaths =  19, number of infected = 43\n",
      "2020-09-01 17:00:33,998 - june.simulator - INFO - Date = 2020-08-06 02:00:00, number of deaths =  19, number of infected = 42\n",
      "2020-09-01 17:00:34,240 - june.simulator - INFO - Date = 2020-08-06 04:00:00, number of deaths =  19, number of infected = 40\n",
      "2020-09-01 17:00:34,505 - june.simulator - INFO - Date = 2020-08-06 06:00:00, number of deaths =  19, number of infected = 39\n",
      "2020-09-01 17:00:34,744 - june.simulator - INFO - Date = 2020-08-06 08:00:00, number of deaths =  19, number of infected = 38\n",
      "2020-09-01 17:00:34,880 - june.simulator - INFO - Date = 2020-08-06 10:00:00, number of deaths =  19, number of infected = 38\n",
      "2020-09-01 17:00:35,016 - june.simulator - INFO - Date = 2020-08-07 00:00:00, number of deaths =  19, number of infected = 37\n",
      "2020-09-01 17:00:35,247 - june.simulator - INFO - Date = 2020-08-07 02:00:00, number of deaths =  19, number of infected = 37\n",
      "2020-09-01 17:00:35,503 - june.simulator - INFO - Date = 2020-08-07 04:00:00, number of deaths =  19, number of infected = 37\n"
     ]
    },
    {
     "name": "stdout",
     "output_type": "stream",
     "text": [
      "2020-09-01 17:00:35,794 - june.simulator - INFO - Date = 2020-08-07 06:00:00, number of deaths =  19, number of infected = 37\n",
      "2020-09-01 17:00:36,059 - june.simulator - INFO - Date = 2020-08-07 08:00:00, number of deaths =  19, number of infected = 37\n",
      "2020-09-01 17:00:36,203 - june.simulator - INFO - Date = 2020-08-07 10:00:00, number of deaths =  19, number of infected = 37\n",
      "2020-09-01 17:00:36,344 - june.simulator - INFO - Date = 2020-08-08 00:00:00, number of deaths =  20, number of infected = 34\n",
      "2020-09-01 17:00:36,670 - june.simulator - INFO - Date = 2020-08-08 03:00:00, number of deaths =  20, number of infected = 33\n",
      "2020-09-01 17:00:37,028 - june.simulator - INFO - Date = 2020-08-08 05:00:00, number of deaths =  20, number of infected = 33\n",
      "2020-09-01 17:00:37,334 - june.simulator - INFO - Date = 2020-08-08 07:00:00, number of deaths =  20, number of infected = 33\n",
      "2020-09-01 17:00:37,667 - june.simulator - INFO - Date = 2020-08-08 09:00:00, number of deaths =  20, number of infected = 32\n",
      "2020-09-01 17:00:37,826 - june.simulator - INFO - Date = 2020-08-08 11:00:00, number of deaths =  20, number of infected = 32\n",
      "2020-09-01 17:00:37,979 - june.simulator - INFO - Date = 2020-08-09 00:00:00, number of deaths =  20, number of infected = 32\n",
      "2020-09-01 17:00:38,293 - june.simulator - INFO - Date = 2020-08-09 03:00:00, number of deaths =  20, number of infected = 32\n",
      "2020-09-01 17:00:38,685 - june.simulator - INFO - Date = 2020-08-09 05:00:00, number of deaths =  20, number of infected = 32\n",
      "2020-09-01 17:00:39,002 - june.simulator - INFO - Date = 2020-08-09 07:00:00, number of deaths =  20, number of infected = 32\n",
      "2020-09-01 17:00:39,334 - june.simulator - INFO - Date = 2020-08-09 09:00:00, number of deaths =  20, number of infected = 32\n",
      "2020-09-01 17:00:39,484 - june.simulator - INFO - Date = 2020-08-09 11:00:00, number of deaths =  20, number of infected = 32\n",
      "2020-09-01 17:00:39,636 - june.simulator - INFO - Date = 2020-08-10 00:00:00, number of deaths =  20, number of infected = 32\n",
      "2020-09-01 17:00:39,929 - june.simulator - INFO - Date = 2020-08-10 02:00:00, number of deaths =  20, number of infected = 32\n",
      "2020-09-01 17:00:40,179 - june.simulator - INFO - Date = 2020-08-10 04:00:00, number of deaths =  20, number of infected = 31\n",
      "2020-09-01 17:00:40,412 - june.simulator - INFO - Date = 2020-08-10 06:00:00, number of deaths =  20, number of infected = 31\n",
      "2020-09-01 17:00:40,669 - june.simulator - INFO - Date = 2020-08-10 08:00:00, number of deaths =  20, number of infected = 30\n",
      "2020-09-01 17:00:40,811 - june.simulator - INFO - Date = 2020-08-10 10:00:00, number of deaths =  20, number of infected = 29\n",
      "2020-09-01 17:00:40,945 - june.simulator - INFO - Date = 2020-08-11 00:00:00, number of deaths =  20, number of infected = 28\n",
      "2020-09-01 17:00:41,170 - june.simulator - INFO - Date = 2020-08-11 02:00:00, number of deaths =  20, number of infected = 28\n",
      "2020-09-01 17:00:41,400 - june.simulator - INFO - Date = 2020-08-11 04:00:00, number of deaths =  20, number of infected = 28\n",
      "2020-09-01 17:00:41,632 - june.simulator - INFO - Date = 2020-08-11 06:00:00, number of deaths =  20, number of infected = 27\n",
      "2020-09-01 17:00:41,858 - june.simulator - INFO - Date = 2020-08-11 08:00:00, number of deaths =  20, number of infected = 27\n",
      "2020-09-01 17:00:41,996 - june.simulator - INFO - Date = 2020-08-11 10:00:00, number of deaths =  20, number of infected = 27\n",
      "2020-09-01 17:00:42,141 - june.simulator - INFO - Date = 2020-08-12 00:00:00, number of deaths =  20, number of infected = 24\n",
      "2020-09-01 17:00:42,389 - june.simulator - INFO - Date = 2020-08-12 02:00:00, number of deaths =  20, number of infected = 24\n",
      "2020-09-01 17:00:42,761 - june.simulator - INFO - Date = 2020-08-12 04:00:00, number of deaths =  20, number of infected = 24\n",
      "2020-09-01 17:00:43,065 - june.simulator - INFO - Date = 2020-08-12 06:00:00, number of deaths =  20, number of infected = 23\n",
      "2020-09-01 17:00:43,332 - june.simulator - INFO - Date = 2020-08-12 08:00:00, number of deaths =  20, number of infected = 23\n",
      "2020-09-01 17:00:43,493 - june.simulator - INFO - Date = 2020-08-12 10:00:00, number of deaths =  20, number of infected = 23\n",
      "2020-09-01 17:00:43,635 - june.simulator - INFO - Date = 2020-08-13 00:00:00, number of deaths =  20, number of infected = 23\n",
      "2020-09-01 17:00:43,928 - june.simulator - INFO - Date = 2020-08-13 02:00:00, number of deaths =  20, number of infected = 22\n",
      "2020-09-01 17:00:44,296 - june.simulator - INFO - Date = 2020-08-13 04:00:00, number of deaths =  20, number of infected = 22\n",
      "2020-09-01 17:00:44,642 - june.simulator - INFO - Date = 2020-08-13 06:00:00, number of deaths =  20, number of infected = 22\n",
      "2020-09-01 17:00:44,943 - june.simulator - INFO - Date = 2020-08-13 08:00:00, number of deaths =  20, number of infected = 21\n",
      "2020-09-01 17:00:45,092 - june.simulator - INFO - Date = 2020-08-13 10:00:00, number of deaths =  20, number of infected = 21\n",
      "2020-09-01 17:00:45,250 - june.simulator - INFO - Date = 2020-08-14 00:00:00, number of deaths =  20, number of infected = 21\n",
      "2020-09-01 17:00:45,632 - june.simulator - INFO - Date = 2020-08-14 02:00:00, number of deaths =  20, number of infected = 21\n",
      "2020-09-01 17:00:46,024 - june.simulator - INFO - Date = 2020-08-14 04:00:00, number of deaths =  20, number of infected = 21\n",
      "2020-09-01 17:00:46,295 - june.simulator - INFO - Date = 2020-08-14 06:00:00, number of deaths =  20, number of infected = 21\n",
      "2020-09-01 17:00:46,630 - june.simulator - INFO - Date = 2020-08-14 08:00:00, number of deaths =  20, number of infected = 21\n",
      "2020-09-01 17:00:46,797 - june.simulator - INFO - Date = 2020-08-14 10:00:00, number of deaths =  20, number of infected = 21\n",
      "2020-09-01 17:00:47,016 - june.simulator - INFO - Date = 2020-08-15 00:00:00, number of deaths =  20, number of infected = 21\n",
      "2020-09-01 17:00:47,345 - june.simulator - INFO - Date = 2020-08-15 03:00:00, number of deaths =  20, number of infected = 20\n",
      "2020-09-01 17:00:47,712 - june.simulator - INFO - Date = 2020-08-15 05:00:00, number of deaths =  20, number of infected = 20\n",
      "2020-09-01 17:00:48,024 - june.simulator - INFO - Date = 2020-08-15 07:00:00, number of deaths =  20, number of infected = 20\n",
      "2020-09-01 17:00:48,418 - june.simulator - INFO - Date = 2020-08-15 09:00:00, number of deaths =  20, number of infected = 20\n",
      "2020-09-01 17:00:48,609 - june.simulator - INFO - Date = 2020-08-15 11:00:00, number of deaths =  20, number of infected = 20\n",
      "2020-09-01 17:00:48,768 - june.simulator - INFO - Date = 2020-08-16 00:00:00, number of deaths =  20, number of infected = 18\n",
      "2020-09-01 17:00:49,087 - june.simulator - INFO - Date = 2020-08-16 03:00:00, number of deaths =  20, number of infected = 17\n",
      "2020-09-01 17:00:49,379 - june.simulator - INFO - Date = 2020-08-16 05:00:00, number of deaths =  20, number of infected = 17\n",
      "2020-09-01 17:00:49,684 - june.simulator - INFO - Date = 2020-08-16 07:00:00, number of deaths =  20, number of infected = 16\n",
      "2020-09-01 17:00:49,982 - june.simulator - INFO - Date = 2020-08-16 09:00:00, number of deaths =  20, number of infected = 16\n",
      "2020-09-01 17:00:50,141 - june.simulator - INFO - Date = 2020-08-16 11:00:00, number of deaths =  20, number of infected = 15\n",
      "2020-09-01 17:00:50,285 - june.simulator - INFO - Date = 2020-08-17 00:00:00, number of deaths =  20, number of infected = 14\n",
      "2020-09-01 17:00:50,569 - june.simulator - INFO - Date = 2020-08-17 02:00:00, number of deaths =  20, number of infected = 13\n",
      "2020-09-01 17:00:50,857 - june.simulator - INFO - Date = 2020-08-17 04:00:00, number of deaths =  20, number of infected = 13\n",
      "2020-09-01 17:00:51,136 - june.simulator - INFO - Date = 2020-08-17 06:00:00, number of deaths =  20, number of infected = 13\n",
      "2020-09-01 17:00:51,421 - june.simulator - INFO - Date = 2020-08-17 08:00:00, number of deaths =  20, number of infected = 12\n",
      "2020-09-01 17:00:51,580 - june.simulator - INFO - Date = 2020-08-17 10:00:00, number of deaths =  20, number of infected = 12\n",
      "2020-09-01 17:00:51,788 - june.simulator - INFO - Date = 2020-08-18 00:00:00, number of deaths =  20, number of infected = 12\n",
      "2020-09-01 17:00:52,061 - june.simulator - INFO - Date = 2020-08-18 02:00:00, number of deaths =  20, number of infected = 11\n",
      "2020-09-01 17:00:52,343 - june.simulator - INFO - Date = 2020-08-18 04:00:00, number of deaths =  20, number of infected = 11\n"
     ]
    },
    {
     "name": "stdout",
     "output_type": "stream",
     "text": [
      "2020-09-01 17:00:52,697 - june.simulator - INFO - Date = 2020-08-18 06:00:00, number of deaths =  20, number of infected = 11\n",
      "2020-09-01 17:00:53,021 - june.simulator - INFO - Date = 2020-08-18 08:00:00, number of deaths =  20, number of infected = 11\n",
      "2020-09-01 17:00:53,193 - june.simulator - INFO - Date = 2020-08-18 10:00:00, number of deaths =  20, number of infected = 11\n",
      "2020-09-01 17:00:53,363 - june.simulator - INFO - Date = 2020-08-19 00:00:00, number of deaths =  20, number of infected = 9\n",
      "2020-09-01 17:00:53,644 - june.simulator - INFO - Date = 2020-08-19 02:00:00, number of deaths =  20, number of infected = 9\n",
      "2020-09-01 17:00:53,926 - june.simulator - INFO - Date = 2020-08-19 04:00:00, number of deaths =  20, number of infected = 9\n",
      "2020-09-01 17:00:54,207 - june.simulator - INFO - Date = 2020-08-19 06:00:00, number of deaths =  20, number of infected = 9\n",
      "2020-09-01 17:00:54,582 - june.simulator - INFO - Date = 2020-08-19 08:00:00, number of deaths =  20, number of infected = 9\n",
      "2020-09-01 17:00:54,805 - june.simulator - INFO - Date = 2020-08-19 10:00:00, number of deaths =  20, number of infected = 9\n",
      "2020-09-01 17:00:55,037 - june.simulator - INFO - Date = 2020-08-20 00:00:00, number of deaths =  20, number of infected = 9\n",
      "2020-09-01 17:00:55,492 - june.simulator - INFO - Date = 2020-08-20 02:00:00, number of deaths =  20, number of infected = 9\n",
      "2020-09-01 17:00:55,965 - june.simulator - INFO - Date = 2020-08-20 04:00:00, number of deaths =  20, number of infected = 8\n",
      "2020-09-01 17:00:56,289 - june.simulator - INFO - Date = 2020-08-20 06:00:00, number of deaths =  20, number of infected = 8\n",
      "2020-09-01 17:00:56,642 - june.simulator - INFO - Date = 2020-08-20 08:00:00, number of deaths =  20, number of infected = 8\n",
      "2020-09-01 17:00:56,804 - june.simulator - INFO - Date = 2020-08-20 10:00:00, number of deaths =  20, number of infected = 8\n",
      "2020-09-01 17:00:56,954 - june.simulator - INFO - Date = 2020-08-21 00:00:00, number of deaths =  20, number of infected = 8\n",
      "2020-09-01 17:00:57,219 - june.simulator - INFO - Date = 2020-08-21 02:00:00, number of deaths =  20, number of infected = 8\n",
      "2020-09-01 17:00:57,671 - june.simulator - INFO - Date = 2020-08-21 04:00:00, number of deaths =  20, number of infected = 8\n",
      "2020-09-01 17:00:58,080 - june.simulator - INFO - Date = 2020-08-21 06:00:00, number of deaths =  20, number of infected = 8\n",
      "2020-09-01 17:00:58,454 - june.simulator - INFO - Date = 2020-08-21 08:00:00, number of deaths =  20, number of infected = 8\n",
      "2020-09-01 17:00:58,604 - june.simulator - INFO - Date = 2020-08-21 10:00:00, number of deaths =  20, number of infected = 8\n",
      "2020-09-01 17:00:58,742 - june.simulator - INFO - Date = 2020-08-22 00:00:00, number of deaths =  20, number of infected = 7\n",
      "2020-09-01 17:00:59,157 - june.simulator - INFO - Date = 2020-08-22 03:00:00, number of deaths =  20, number of infected = 7\n",
      "2020-09-01 17:00:59,481 - june.simulator - INFO - Date = 2020-08-22 05:00:00, number of deaths =  20, number of infected = 7\n",
      "2020-09-01 17:00:59,799 - june.simulator - INFO - Date = 2020-08-22 07:00:00, number of deaths =  20, number of infected = 7\n",
      "2020-09-01 17:01:00,245 - june.simulator - INFO - Date = 2020-08-22 09:00:00, number of deaths =  20, number of infected = 7\n",
      "2020-09-01 17:01:00,406 - june.simulator - INFO - Date = 2020-08-22 11:00:00, number of deaths =  20, number of infected = 7\n",
      "2020-09-01 17:01:00,559 - june.simulator - INFO - Date = 2020-08-23 00:00:00, number of deaths =  20, number of infected = 6\n",
      "2020-09-01 17:01:00,853 - june.simulator - INFO - Date = 2020-08-23 03:00:00, number of deaths =  20, number of infected = 6\n",
      "2020-09-01 17:01:01,147 - june.simulator - INFO - Date = 2020-08-23 05:00:00, number of deaths =  20, number of infected = 6\n",
      "2020-09-01 17:01:01,446 - june.simulator - INFO - Date = 2020-08-23 07:00:00, number of deaths =  20, number of infected = 6\n",
      "2020-09-01 17:01:01,724 - june.simulator - INFO - Date = 2020-08-23 09:00:00, number of deaths =  20, number of infected = 6\n",
      "2020-09-01 17:01:01,924 - june.simulator - INFO - Date = 2020-08-23 11:00:00, number of deaths =  20, number of infected = 6\n",
      "2020-09-01 17:01:02,075 - june.simulator - INFO - Date = 2020-08-24 00:00:00, number of deaths =  20, number of infected = 5\n",
      "2020-09-01 17:01:02,465 - june.simulator - INFO - Date = 2020-08-24 02:00:00, number of deaths =  20, number of infected = 5\n",
      "2020-09-01 17:01:03,037 - june.simulator - INFO - Date = 2020-08-24 04:00:00, number of deaths =  20, number of infected = 5\n",
      "2020-09-01 17:01:03,621 - june.simulator - INFO - Date = 2020-08-24 06:00:00, number of deaths =  20, number of infected = 5\n",
      "2020-09-01 17:01:03,878 - june.simulator - INFO - Date = 2020-08-24 08:00:00, number of deaths =  20, number of infected = 5\n",
      "2020-09-01 17:01:04,233 - june.simulator - INFO - Date = 2020-08-24 10:00:00, number of deaths =  20, number of infected = 5\n",
      "2020-09-01 17:01:04,453 - june.simulator - INFO - Date = 2020-08-25 00:00:00, number of deaths =  20, number of infected = 5\n",
      "2020-09-01 17:01:04,715 - june.simulator - INFO - Date = 2020-08-25 02:00:00, number of deaths =  20, number of infected = 5\n",
      "2020-09-01 17:01:04,969 - june.simulator - INFO - Date = 2020-08-25 04:00:00, number of deaths =  20, number of infected = 5\n",
      "2020-09-01 17:01:05,672 - june.simulator - INFO - Date = 2020-08-25 06:00:00, number of deaths =  20, number of infected = 5\n",
      "2020-09-01 17:01:05,989 - june.simulator - INFO - Date = 2020-08-25 08:00:00, number of deaths =  20, number of infected = 5\n",
      "2020-09-01 17:01:06,148 - june.simulator - INFO - Date = 2020-08-25 10:00:00, number of deaths =  20, number of infected = 5\n",
      "2020-09-01 17:01:06,295 - june.simulator - INFO - Date = 2020-08-26 00:00:00, number of deaths =  20, number of infected = 5\n",
      "2020-09-01 17:01:06,552 - june.simulator - INFO - Date = 2020-08-26 02:00:00, number of deaths =  20, number of infected = 5\n",
      "2020-09-01 17:01:06,828 - june.simulator - INFO - Date = 2020-08-26 04:00:00, number of deaths =  20, number of infected = 5\n",
      "2020-09-01 17:01:07,107 - june.simulator - INFO - Date = 2020-08-26 06:00:00, number of deaths =  20, number of infected = 5\n",
      "2020-09-01 17:01:07,388 - june.simulator - INFO - Date = 2020-08-26 08:00:00, number of deaths =  20, number of infected = 5\n",
      "2020-09-01 17:01:07,538 - june.simulator - INFO - Date = 2020-08-26 10:00:00, number of deaths =  20, number of infected = 5\n",
      "2020-09-01 17:01:07,681 - june.simulator - INFO - Date = 2020-08-27 00:00:00, number of deaths =  20, number of infected = 5\n",
      "2020-09-01 17:01:07,952 - june.simulator - INFO - Date = 2020-08-27 02:00:00, number of deaths =  20, number of infected = 5\n",
      "2020-09-01 17:01:08,222 - june.simulator - INFO - Date = 2020-08-27 04:00:00, number of deaths =  20, number of infected = 5\n",
      "2020-09-01 17:01:08,486 - june.simulator - INFO - Date = 2020-08-27 06:00:00, number of deaths =  20, number of infected = 5\n",
      "2020-09-01 17:01:08,809 - june.simulator - INFO - Date = 2020-08-27 08:00:00, number of deaths =  20, number of infected = 5\n",
      "2020-09-01 17:01:08,977 - june.simulator - INFO - Date = 2020-08-27 10:00:00, number of deaths =  20, number of infected = 5\n",
      "2020-09-01 17:01:09,125 - june.simulator - INFO - Date = 2020-08-28 00:00:00, number of deaths =  20, number of infected = 5\n",
      "2020-09-01 17:01:09,443 - june.simulator - INFO - Date = 2020-08-28 02:00:00, number of deaths =  20, number of infected = 5\n",
      "2020-09-01 17:01:09,993 - june.simulator - INFO - Date = 2020-08-28 04:00:00, number of deaths =  20, number of infected = 5\n",
      "2020-09-01 17:01:10,402 - june.simulator - INFO - Date = 2020-08-28 06:00:00, number of deaths =  20, number of infected = 5\n",
      "2020-09-01 17:01:10,729 - june.simulator - INFO - Date = 2020-08-28 08:00:00, number of deaths =  20, number of infected = 5\n",
      "2020-09-01 17:01:10,997 - june.simulator - INFO - Date = 2020-08-28 10:00:00, number of deaths =  20, number of infected = 5\n",
      "2020-09-01 17:01:11,227 - june.simulator - INFO - Date = 2020-08-29 00:00:00, number of deaths =  20, number of infected = 5\n",
      "2020-09-01 17:01:11,696 - june.simulator - INFO - Date = 2020-08-29 03:00:00, number of deaths =  20, number of infected = 5\n",
      "2020-09-01 17:01:12,036 - june.simulator - INFO - Date = 2020-08-29 05:00:00, number of deaths =  20, number of infected = 5\n"
     ]
    },
    {
     "name": "stdout",
     "output_type": "stream",
     "text": [
      "2020-09-01 17:01:12,460 - june.simulator - INFO - Date = 2020-08-29 07:00:00, number of deaths =  20, number of infected = 5\n",
      "2020-09-01 17:01:12,764 - june.simulator - INFO - Date = 2020-08-29 09:00:00, number of deaths =  20, number of infected = 5\n",
      "2020-09-01 17:01:12,923 - june.simulator - INFO - Date = 2020-08-29 11:00:00, number of deaths =  20, number of infected = 5\n",
      "2020-09-01 17:01:13,064 - june.simulator - INFO - Date = 2020-08-30 00:00:00, number of deaths =  20, number of infected = 5\n",
      "2020-09-01 17:01:13,337 - june.simulator - INFO - Date = 2020-08-30 03:00:00, number of deaths =  20, number of infected = 5\n",
      "2020-09-01 17:01:13,602 - june.simulator - INFO - Date = 2020-08-30 05:00:00, number of deaths =  20, number of infected = 5\n",
      "2020-09-01 17:01:13,871 - june.simulator - INFO - Date = 2020-08-30 07:00:00, number of deaths =  20, number of infected = 5\n",
      "2020-09-01 17:01:14,160 - june.simulator - INFO - Date = 2020-08-30 09:00:00, number of deaths =  20, number of infected = 5\n",
      "2020-09-01 17:01:14,306 - june.simulator - INFO - Date = 2020-08-30 11:00:00, number of deaths =  20, number of infected = 5\n",
      "2020-09-01 17:01:14,461 - june.simulator - INFO - Date = 2020-08-31 00:00:00, number of deaths =  20, number of infected = 5\n",
      "2020-09-01 17:01:14,715 - june.simulator - INFO - Date = 2020-08-31 02:00:00, number of deaths =  20, number of infected = 4\n",
      "2020-09-01 17:01:14,955 - june.simulator - INFO - Date = 2020-08-31 04:00:00, number of deaths =  20, number of infected = 4\n",
      "2020-09-01 17:01:15,236 - june.simulator - INFO - Date = 2020-08-31 06:00:00, number of deaths =  20, number of infected = 4\n",
      "2020-09-01 17:01:15,498 - june.simulator - INFO - Date = 2020-08-31 08:00:00, number of deaths =  20, number of infected = 4\n",
      "2020-09-01 17:01:15,642 - june.simulator - INFO - Date = 2020-08-31 10:00:00, number of deaths =  20, number of infected = 4\n",
      "2020-09-01 17:01:15,783 - june.simulator - INFO - Date = 2020-09-01 00:00:00, number of deaths =  20, number of infected = 4\n",
      "2020-09-01 17:01:16,024 - june.simulator - INFO - Date = 2020-09-01 02:00:00, number of deaths =  20, number of infected = 4\n",
      "2020-09-01 17:01:16,276 - june.simulator - INFO - Date = 2020-09-01 04:00:00, number of deaths =  20, number of infected = 4\n",
      "2020-09-01 17:01:16,511 - june.simulator - INFO - Date = 2020-09-01 06:00:00, number of deaths =  20, number of infected = 4\n",
      "2020-09-01 17:01:16,754 - june.simulator - INFO - Date = 2020-09-01 08:00:00, number of deaths =  20, number of infected = 4\n",
      "2020-09-01 17:01:16,898 - june.simulator - INFO - Date = 2020-09-01 10:00:00, number of deaths =  20, number of infected = 4\n",
      "2020-09-01 17:01:17,040 - june.simulator - INFO - Date = 2020-09-02 00:00:00, number of deaths =  20, number of infected = 4\n",
      "2020-09-01 17:01:17,293 - june.simulator - INFO - Date = 2020-09-02 02:00:00, number of deaths =  20, number of infected = 4\n",
      "2020-09-01 17:01:17,549 - june.simulator - INFO - Date = 2020-09-02 04:00:00, number of deaths =  20, number of infected = 4\n",
      "2020-09-01 17:01:17,802 - june.simulator - INFO - Date = 2020-09-02 06:00:00, number of deaths =  20, number of infected = 4\n",
      "2020-09-01 17:01:18,056 - june.simulator - INFO - Date = 2020-09-02 08:00:00, number of deaths =  20, number of infected = 4\n",
      "2020-09-01 17:01:18,199 - june.simulator - INFO - Date = 2020-09-02 10:00:00, number of deaths =  20, number of infected = 4\n",
      "2020-09-01 17:01:18,340 - june.simulator - INFO - Date = 2020-09-03 00:00:00, number of deaths =  20, number of infected = 4\n",
      "2020-09-01 17:01:18,601 - june.simulator - INFO - Date = 2020-09-03 02:00:00, number of deaths =  20, number of infected = 4\n",
      "2020-09-01 17:01:18,841 - june.simulator - INFO - Date = 2020-09-03 04:00:00, number of deaths =  20, number of infected = 4\n",
      "2020-09-01 17:01:19,087 - june.simulator - INFO - Date = 2020-09-03 06:00:00, number of deaths =  20, number of infected = 4\n",
      "2020-09-01 17:01:19,348 - june.simulator - INFO - Date = 2020-09-03 08:00:00, number of deaths =  20, number of infected = 4\n",
      "2020-09-01 17:01:19,492 - june.simulator - INFO - Date = 2020-09-03 10:00:00, number of deaths =  20, number of infected = 4\n",
      "2020-09-01 17:01:19,633 - june.simulator - INFO - Date = 2020-09-04 00:00:00, number of deaths =  20, number of infected = 4\n",
      "2020-09-01 17:01:19,876 - june.simulator - INFO - Date = 2020-09-04 02:00:00, number of deaths =  20, number of infected = 4\n",
      "2020-09-01 17:01:20,116 - june.simulator - INFO - Date = 2020-09-04 04:00:00, number of deaths =  20, number of infected = 3\n",
      "2020-09-01 17:01:20,367 - june.simulator - INFO - Date = 2020-09-04 06:00:00, number of deaths =  20, number of infected = 3\n",
      "2020-09-01 17:01:20,613 - june.simulator - INFO - Date = 2020-09-04 08:00:00, number of deaths =  20, number of infected = 3\n",
      "2020-09-01 17:01:20,759 - june.simulator - INFO - Date = 2020-09-04 10:00:00, number of deaths =  20, number of infected = 3\n",
      "2020-09-01 17:01:20,897 - june.simulator - INFO - Date = 2020-09-05 00:00:00, number of deaths =  20, number of infected = 3\n",
      "2020-09-01 17:01:21,191 - june.simulator - INFO - Date = 2020-09-05 03:00:00, number of deaths =  20, number of infected = 3\n",
      "2020-09-01 17:01:21,476 - june.simulator - INFO - Date = 2020-09-05 05:00:00, number of deaths =  20, number of infected = 3\n",
      "2020-09-01 17:01:21,749 - june.simulator - INFO - Date = 2020-09-05 07:00:00, number of deaths =  20, number of infected = 3\n",
      "2020-09-01 17:01:22,012 - june.simulator - INFO - Date = 2020-09-05 09:00:00, number of deaths =  20, number of infected = 3\n",
      "2020-09-01 17:01:22,149 - june.simulator - INFO - Date = 2020-09-05 11:00:00, number of deaths =  20, number of infected = 3\n",
      "2020-09-01 17:01:22,294 - june.simulator - INFO - Date = 2020-09-06 00:00:00, number of deaths =  20, number of infected = 3\n",
      "2020-09-01 17:01:22,605 - june.simulator - INFO - Date = 2020-09-06 03:00:00, number of deaths =  20, number of infected = 3\n",
      "2020-09-01 17:01:23,036 - june.simulator - INFO - Date = 2020-09-06 05:00:00, number of deaths =  20, number of infected = 3\n",
      "2020-09-01 17:01:23,336 - june.simulator - INFO - Date = 2020-09-06 07:00:00, number of deaths =  20, number of infected = 3\n",
      "2020-09-01 17:01:23,637 - june.simulator - INFO - Date = 2020-09-06 09:00:00, number of deaths =  20, number of infected = 3\n",
      "2020-09-01 17:01:23,797 - june.simulator - INFO - Date = 2020-09-06 11:00:00, number of deaths =  20, number of infected = 3\n",
      "2020-09-01 17:01:23,953 - june.simulator - INFO - Date = 2020-09-07 00:00:00, number of deaths =  20, number of infected = 3\n",
      "2020-09-01 17:01:24,255 - june.simulator - INFO - Date = 2020-09-07 02:00:00, number of deaths =  20, number of infected = 3\n",
      "2020-09-01 17:01:24,615 - june.simulator - INFO - Date = 2020-09-07 04:00:00, number of deaths =  20, number of infected = 3\n",
      "2020-09-01 17:01:24,880 - june.simulator - INFO - Date = 2020-09-07 06:00:00, number of deaths =  20, number of infected = 3\n",
      "2020-09-01 17:01:25,117 - june.simulator - INFO - Date = 2020-09-07 08:00:00, number of deaths =  20, number of infected = 3\n",
      "2020-09-01 17:01:25,262 - june.simulator - INFO - Date = 2020-09-07 10:00:00, number of deaths =  20, number of infected = 3\n",
      "2020-09-01 17:01:25,412 - june.simulator - INFO - Date = 2020-09-08 00:00:00, number of deaths =  20, number of infected = 3\n",
      "2020-09-01 17:01:25,691 - june.simulator - INFO - Date = 2020-09-08 02:00:00, number of deaths =  20, number of infected = 3\n",
      "2020-09-01 17:01:25,969 - june.simulator - INFO - Date = 2020-09-08 04:00:00, number of deaths =  20, number of infected = 3\n",
      "2020-09-01 17:01:26,237 - june.simulator - INFO - Date = 2020-09-08 06:00:00, number of deaths =  20, number of infected = 3\n",
      "2020-09-01 17:01:26,489 - june.simulator - INFO - Date = 2020-09-08 08:00:00, number of deaths =  20, number of infected = 3\n",
      "2020-09-01 17:01:26,651 - june.simulator - INFO - Date = 2020-09-08 10:00:00, number of deaths =  20, number of infected = 3\n",
      "2020-09-01 17:01:26,787 - june.simulator - INFO - Date = 2020-09-09 00:00:00, number of deaths =  20, number of infected = 3\n",
      "2020-09-01 17:01:27,042 - june.simulator - INFO - Date = 2020-09-09 02:00:00, number of deaths =  20, number of infected = 3\n",
      "2020-09-01 17:01:27,295 - june.simulator - INFO - Date = 2020-09-09 04:00:00, number of deaths =  20, number of infected = 3\n"
     ]
    },
    {
     "name": "stdout",
     "output_type": "stream",
     "text": [
      "2020-09-01 17:01:27,548 - june.simulator - INFO - Date = 2020-09-09 06:00:00, number of deaths =  20, number of infected = 3\n",
      "2020-09-01 17:01:27,802 - june.simulator - INFO - Date = 2020-09-09 08:00:00, number of deaths =  20, number of infected = 3\n",
      "2020-09-01 17:01:27,947 - june.simulator - INFO - Date = 2020-09-09 10:00:00, number of deaths =  20, number of infected = 3\n",
      "2020-09-01 17:01:28,099 - june.simulator - INFO - Date = 2020-09-10 00:00:00, number of deaths =  20, number of infected = 3\n",
      "2020-09-01 17:01:28,360 - june.simulator - INFO - Date = 2020-09-10 02:00:00, number of deaths =  20, number of infected = 3\n",
      "2020-09-01 17:01:28,633 - june.simulator - INFO - Date = 2020-09-10 04:00:00, number of deaths =  20, number of infected = 3\n",
      "2020-09-01 17:01:28,920 - june.simulator - INFO - Date = 2020-09-10 06:00:00, number of deaths =  20, number of infected = 3\n",
      "2020-09-01 17:01:29,202 - june.simulator - INFO - Date = 2020-09-10 08:00:00, number of deaths =  20, number of infected = 3\n",
      "2020-09-01 17:01:29,349 - june.simulator - INFO - Date = 2020-09-10 10:00:00, number of deaths =  20, number of infected = 3\n",
      "2020-09-01 17:01:29,491 - june.simulator - INFO - Date = 2020-09-11 00:00:00, number of deaths =  20, number of infected = 3\n",
      "2020-09-01 17:01:29,725 - june.simulator - INFO - Date = 2020-09-11 02:00:00, number of deaths =  20, number of infected = 3\n",
      "2020-09-01 17:01:29,961 - june.simulator - INFO - Date = 2020-09-11 04:00:00, number of deaths =  20, number of infected = 3\n",
      "2020-09-01 17:01:30,199 - june.simulator - INFO - Date = 2020-09-11 06:00:00, number of deaths =  20, number of infected = 3\n",
      "2020-09-01 17:01:30,437 - june.simulator - INFO - Date = 2020-09-11 08:00:00, number of deaths =  20, number of infected = 3\n",
      "2020-09-01 17:01:30,576 - june.simulator - INFO - Date = 2020-09-11 10:00:00, number of deaths =  20, number of infected = 3\n",
      "2020-09-01 17:01:30,721 - june.simulator - INFO - Date = 2020-09-12 00:00:00, number of deaths =  20, number of infected = 3\n",
      "2020-09-01 17:01:31,009 - june.simulator - INFO - Date = 2020-09-12 03:00:00, number of deaths =  20, number of infected = 3\n",
      "2020-09-01 17:01:31,297 - june.simulator - INFO - Date = 2020-09-12 05:00:00, number of deaths =  20, number of infected = 3\n",
      "2020-09-01 17:01:31,564 - june.simulator - INFO - Date = 2020-09-12 07:00:00, number of deaths =  20, number of infected = 3\n",
      "2020-09-01 17:01:31,838 - june.simulator - INFO - Date = 2020-09-12 09:00:00, number of deaths =  20, number of infected = 3\n",
      "2020-09-01 17:01:31,986 - june.simulator - INFO - Date = 2020-09-12 11:00:00, number of deaths =  20, number of infected = 3\n",
      "2020-09-01 17:01:32,132 - june.simulator - INFO - Date = 2020-09-13 00:00:00, number of deaths =  20, number of infected = 3\n",
      "2020-09-01 17:01:32,410 - june.simulator - INFO - Date = 2020-09-13 03:00:00, number of deaths =  20, number of infected = 3\n",
      "2020-09-01 17:01:32,724 - june.simulator - INFO - Date = 2020-09-13 05:00:00, number of deaths =  20, number of infected = 3\n",
      "2020-09-01 17:01:33,035 - june.simulator - INFO - Date = 2020-09-13 07:00:00, number of deaths =  20, number of infected = 3\n",
      "2020-09-01 17:01:33,311 - june.simulator - INFO - Date = 2020-09-13 09:00:00, number of deaths =  20, number of infected = 3\n",
      "2020-09-01 17:01:33,454 - june.simulator - INFO - Date = 2020-09-13 11:00:00, number of deaths =  20, number of infected = 3\n",
      "2020-09-01 17:01:33,596 - june.simulator - INFO - Date = 2020-09-14 00:00:00, number of deaths =  20, number of infected = 3\n",
      "2020-09-01 17:01:33,854 - june.simulator - INFO - Date = 2020-09-14 02:00:00, number of deaths =  20, number of infected = 3\n",
      "2020-09-01 17:01:34,110 - june.simulator - INFO - Date = 2020-09-14 04:00:00, number of deaths =  20, number of infected = 3\n",
      "2020-09-01 17:01:34,359 - june.simulator - INFO - Date = 2020-09-14 06:00:00, number of deaths =  20, number of infected = 3\n",
      "2020-09-01 17:01:34,601 - june.simulator - INFO - Date = 2020-09-14 08:00:00, number of deaths =  20, number of infected = 3\n",
      "2020-09-01 17:01:34,744 - june.simulator - INFO - Date = 2020-09-14 10:00:00, number of deaths =  20, number of infected = 3\n",
      "2020-09-01 17:01:34,883 - june.simulator - INFO - Date = 2020-09-15 00:00:00, number of deaths =  20, number of infected = 2\n",
      "2020-09-01 17:01:35,146 - june.simulator - INFO - Date = 2020-09-15 02:00:00, number of deaths =  20, number of infected = 2\n",
      "2020-09-01 17:01:35,405 - june.simulator - INFO - Date = 2020-09-15 04:00:00, number of deaths =  20, number of infected = 2\n",
      "2020-09-01 17:01:35,651 - june.simulator - INFO - Date = 2020-09-15 06:00:00, number of deaths =  20, number of infected = 1\n",
      "2020-09-01 17:01:35,929 - june.simulator - INFO - Date = 2020-09-15 08:00:00, number of deaths =  20, number of infected = 1\n",
      "2020-09-01 17:01:36,090 - june.simulator - INFO - Date = 2020-09-15 10:00:00, number of deaths =  20, number of infected = 1\n",
      "2020-09-01 17:01:36,254 - june.simulator - INFO - Date = 2020-09-16 00:00:00, number of deaths =  20, number of infected = 1\n",
      "2020-09-01 17:01:36,593 - june.simulator - INFO - Date = 2020-09-16 02:00:00, number of deaths =  20, number of infected = 1\n",
      "2020-09-01 17:01:36,891 - june.simulator - INFO - Date = 2020-09-16 04:00:00, number of deaths =  20, number of infected = 1\n",
      "2020-09-01 17:01:37,167 - june.simulator - INFO - Date = 2020-09-16 06:00:00, number of deaths =  20, number of infected = 1\n",
      "2020-09-01 17:01:37,424 - june.simulator - INFO - Date = 2020-09-16 08:00:00, number of deaths =  20, number of infected = 1\n",
      "2020-09-01 17:01:37,574 - june.simulator - INFO - Date = 2020-09-16 10:00:00, number of deaths =  20, number of infected = 1\n",
      "2020-09-01 17:01:37,706 - june.simulator - INFO - Date = 2020-09-17 00:00:00, number of deaths =  20, number of infected = 1\n",
      "2020-09-01 17:01:37,965 - june.simulator - INFO - Date = 2020-09-17 02:00:00, number of deaths =  20, number of infected = 1\n",
      "2020-09-01 17:01:38,200 - june.simulator - INFO - Date = 2020-09-17 04:00:00, number of deaths =  20, number of infected = 1\n",
      "2020-09-01 17:01:38,437 - june.simulator - INFO - Date = 2020-09-17 06:00:00, number of deaths =  20, number of infected = 1\n",
      "2020-09-01 17:01:38,674 - june.simulator - INFO - Date = 2020-09-17 08:00:00, number of deaths =  20, number of infected = 1\n",
      "2020-09-01 17:01:38,820 - june.simulator - INFO - Date = 2020-09-17 10:00:00, number of deaths =  20, number of infected = 1\n",
      "2020-09-01 17:01:38,956 - june.simulator - INFO - Date = 2020-09-18 00:00:00, number of deaths =  20, number of infected = 1\n",
      "2020-09-01 17:01:39,206 - june.simulator - INFO - Date = 2020-09-18 02:00:00, number of deaths =  20, number of infected = 1\n",
      "2020-09-01 17:01:39,438 - june.simulator - INFO - Date = 2020-09-18 04:00:00, number of deaths =  20, number of infected = 1\n",
      "2020-09-01 17:01:39,699 - june.simulator - INFO - Date = 2020-09-18 06:00:00, number of deaths =  20, number of infected = 1\n",
      "2020-09-01 17:01:39,952 - june.simulator - INFO - Date = 2020-09-18 08:00:00, number of deaths =  20, number of infected = 1\n",
      "2020-09-01 17:01:40,095 - june.simulator - INFO - Date = 2020-09-18 10:00:00, number of deaths =  20, number of infected = 1\n",
      "2020-09-01 17:01:40,233 - june.simulator - INFO - Date = 2020-09-19 00:00:00, number of deaths =  20, number of infected = 1\n",
      "2020-09-01 17:01:40,488 - june.simulator - INFO - Date = 2020-09-19 03:00:00, number of deaths =  20, number of infected = 1\n",
      "2020-09-01 17:01:40,755 - june.simulator - INFO - Date = 2020-09-19 05:00:00, number of deaths =  20, number of infected = 1\n",
      "2020-09-01 17:01:41,046 - june.simulator - INFO - Date = 2020-09-19 07:00:00, number of deaths =  20, number of infected = 1\n",
      "2020-09-01 17:01:41,315 - june.simulator - INFO - Date = 2020-09-19 09:00:00, number of deaths =  20, number of infected = 1\n",
      "2020-09-01 17:01:41,450 - june.simulator - INFO - Date = 2020-09-19 11:00:00, number of deaths =  20, number of infected = 1\n",
      "2020-09-01 17:01:41,587 - june.simulator - INFO - Date = 2020-09-20 00:00:00, number of deaths =  20, number of infected = 1\n",
      "2020-09-01 17:01:41,865 - june.simulator - INFO - Date = 2020-09-20 03:00:00, number of deaths =  20, number of infected = 1\n",
      "2020-09-01 17:01:42,143 - june.simulator - INFO - Date = 2020-09-20 05:00:00, number of deaths =  20, number of infected = 1\n"
     ]
    },
    {
     "name": "stdout",
     "output_type": "stream",
     "text": [
      "2020-09-01 17:01:42,450 - june.simulator - INFO - Date = 2020-09-20 07:00:00, number of deaths =  20, number of infected = 1\n",
      "2020-09-01 17:01:42,716 - june.simulator - INFO - Date = 2020-09-20 09:00:00, number of deaths =  20, number of infected = 1\n",
      "2020-09-01 17:01:42,866 - june.simulator - INFO - Date = 2020-09-20 11:00:00, number of deaths =  20, number of infected = 1\n",
      "CPU times: user 3min 54s, sys: 4.42 s, total: 3min 58s\n",
      "Wall time: 3min 55s\n"
     ]
    }
   ],
   "source": [
    "%%time\n",
    "simulator.run()"
   ]
  },
  {
   "cell_type": "markdown",
   "metadata": {},
   "source": [
    "# Getting the results"
   ]
  },
  {
   "cell_type": "markdown",
   "metadata": {},
   "source": [
    "All results are stored in a json file specified in the ``save_path`` variable in the config file. We can also access it from ``world.logger`` directly."
   ]
  },
  {
   "cell_type": "code",
   "execution_count": 56,
   "metadata": {},
   "outputs": [],
   "source": [
    "import pandas as pd\n",
    "read = ReadLogger()"
   ]
  },
  {
   "cell_type": "code",
   "execution_count": 42,
   "metadata": {},
   "outputs": [],
   "source": [
    "read.load_infection_location()"
   ]
  },
  {
   "cell_type": "code",
   "execution_count": 43,
   "metadata": {},
   "outputs": [],
   "source": [
    "infection_locations = read.get_locations_infections()"
   ]
  },
  {
   "cell_type": "code",
   "execution_count": 44,
   "metadata": {},
   "outputs": [],
   "source": [
    "unique_locations, counts_locations = np.unique(\n",
    "                np.array(infection_locations),\n",
    "                return_counts=True)\n",
    "\n",
    "location_counts_df = pd.DataFrame(\n",
    "    {'locations': unique_locations,\n",
    "    'counts': counts_locations}\n",
    ")\n",
    "location_counts_df.set_index('locations', inplace=True)\n"
   ]
  },
  {
   "cell_type": "code",
   "execution_count": 45,
   "metadata": {},
   "outputs": [],
   "source": [
    "location_counts_df['percent_infections']= 100*(location_counts_df['counts'])/location_counts_df.values.sum()"
   ]
  },
  {
   "cell_type": "code",
   "execution_count": 46,
   "metadata": {},
   "outputs": [
    {
     "data": {
      "text/plain": [
       "Text(0.5, 0, 'location')"
      ]
     },
     "execution_count": 46,
     "metadata": {},
     "output_type": "execute_result"
    },
    {
     "data": {
      "image/png": "[encoded data removed]",
      "text/plain": [
       "<Figure size 432x288 with 1 Axes>"
      ]
     },
     "metadata": {
      "needs_background": "light"
     },
     "output_type": "display_data"
    }
   ],
   "source": [
    "import matplotlib.ticker as mtick\n",
    "\n",
    "ax = location_counts_df['percent_infections'].sort_values().plot.bar()\n",
    "ax.yaxis.set_major_formatter(mtick.PercentFormatter())\n",
    "plt.ylabel('Percentage of infections at location')\n",
    "plt.xlabel('location')"
   ]
  },
  {
   "cell_type": "code",
   "execution_count": 47,
   "metadata": {},
   "outputs": [],
   "source": [
    "for location in unique_locations:\n",
    "    read.locations_df[str(location)] = read.locations_df.apply(\n",
    "        lambda x: x.location.count(str(location)), axis=1\n",
    "    )\n",
    "read.locations_df.index = pd.to_datetime(read.locations_df.index)"
   ]
  },
  {
   "cell_type": "code",
   "execution_count": 48,
   "metadata": {},
   "outputs": [
    {
     "data": {
      "text/plain": [
       "<matplotlib.axes._subplots.AxesSubplot at 0x7f43ab9d3fd0>"
      ]
     },
     "execution_count": 48,
     "metadata": {},
     "output_type": "execute_result"
    },
    {
     "data": {
      "image/png": "[encoded data removed]",
      "text/plain": [
       "<Figure size 432x288 with 1 Axes>"
      ]
     },
     "metadata": {
      "needs_background": "light"
     },
     "output_type": "display_data"
    }
   ],
   "source": [
    "read.locations_df.iloc[:,3:].plot()"
   ]
  },
  {
   "cell_type": "markdown",
   "metadata": {},
   "source": [
    "# Where did outbreaks happen?"
   ]
  },
  {
   "cell_type": "code",
   "execution_count": 49,
   "metadata": {},
   "outputs": [],
   "source": [
    "unique_id, count_id =  np.unique(\n",
    "        np.array(read.locations_df['location_id'].sum()),\n",
    "        return_counts=True\n",
    ")"
   ]
  },
  {
   "cell_type": "code",
   "execution_count": 50,
   "metadata": {},
   "outputs": [
    {
     "data": {
      "text/plain": [
       "array(['communal_97', 'communal_59', 'communal_17', 'communal_80',\n",
       "       'communal_94'], dtype='<U22')"
      ]
     },
     "execution_count": 50,
     "metadata": {},
     "output_type": "execute_result"
    }
   ],
   "source": [
    "unique_id[np.argsort(count_id)[-5:]]"
   ]
  },
  {
   "cell_type": "code",
   "execution_count": 51,
   "metadata": {},
   "outputs": [
    {
     "data": {
      "text/plain": [
       "array([56, 61, 61, 64, 66])"
      ]
     },
     "execution_count": 51,
     "metadata": {},
     "output_type": "execute_result"
    }
   ],
   "source": [
    "count_id[np.argsort(count_id)[-5:]]"
   ]
  },
  {
   "cell_type": "code",
   "execution_count": 52,
   "metadata": {},
   "outputs": [
    {
     "data": {
      "text/plain": [
       "<matplotlib.legend.Legend at 0x7f43aaf6c640>"
      ]
     },
     "execution_count": 52,
     "metadata": {},
     "output_type": "execute_result"
    },
    {
     "data": {
      "image/png": "[encoded data removed]",
      "text/plain": [
       "<Figure size 432x288 with 1 Axes>"
      ]
     },
     "metadata": {
      "needs_background": "light"
     },
     "output_type": "display_data"
    }
   ],
   "source": [
    "world_df = read.world_summary()\n",
    "world_df.plot()\n",
    "#plt.axvspan(policies.social_distancing_start, \n",
    "#            policies.social_distancing_end,\n",
    "#            facecolor='y', alpha=0.2)\n",
    "plt.legend()"
   ]
  },
  {
   "cell_type": "markdown",
   "metadata": {},
   "source": [
    "# Output to save"
   ]
  },
  {
   "cell_type": "code",
   "execution_count": 62,
   "metadata": {},
   "outputs": [],
   "source": [
    "sa_summary = read.super_area_summary()"
   ]
  },
  {
   "cell_type": "code",
   "execution_count": 64,
   "metadata": {},
   "outputs": [
    {
     "data": {
      "text/plain": [
       "array(['CXB-219-A', 'CXB-219-B', 'CXB-219-C', 'CXB-219-D'], dtype=object)"
      ]
     },
     "execution_count": 64,
     "metadata": {},
     "output_type": "execute_result"
    }
   ],
   "source": [
    "sa_summary['super_area'].unique()"
   ]
  },
  {
   "cell_type": "code",
   "execution_count": 71,
   "metadata": {},
   "outputs": [],
   "source": [
    "super_area_region = pd.read_csv(camp_data_path \n",
    "    / 'input/geography/area_super_area_region.csv')\n",
    "super_area_region = super_area_region.drop(columns=\"area\").drop_duplicates()\n",
    "super_area_region.set_index(\"super_area\", inplace=True)"
   ]
  },
  {
   "cell_type": "code",
   "execution_count": 72,
   "metadata": {},
   "outputs": [
    {
     "data": {
      "text/html": [
       "<div>\n",
       "<style scoped>\n",
       "    .dataframe tbody tr th:only-of-type {\n",
       "        vertical-align: middle;\n",
       "    }\n",
       "\n",
       "    .dataframe tbody tr th {\n",
       "        vertical-align: top;\n",
       "    }\n",
       "\n",
       "    .dataframe thead th {\n",
       "        text-align: right;\n",
       "    }\n",
       "</style>\n",
       "<table border=\"1\" class=\"dataframe\">\n",
       "  <thead>\n",
       "    <tr style=\"text-align: right;\">\n",
       "      <th></th>\n",
       "      <th>Unnamed: 0</th>\n",
       "      <th>region</th>\n",
       "    </tr>\n",
       "    <tr>\n",
       "      <th>super_area</th>\n",
       "      <th></th>\n",
       "      <th></th>\n",
       "    </tr>\n",
       "  </thead>\n",
       "  <tbody>\n",
       "    <tr>\n",
       "      <th>CXB-219-C</th>\n",
       "      <td>0</td>\n",
       "      <td>CXB-219</td>\n",
       "    </tr>\n",
       "    <tr>\n",
       "      <th>CXB-219-C</th>\n",
       "      <td>1</td>\n",
       "      <td>CXB-219</td>\n",
       "    </tr>\n",
       "    <tr>\n",
       "      <th>CXB-219-C</th>\n",
       "      <td>2</td>\n",
       "      <td>CXB-219</td>\n",
       "    </tr>\n",
       "    <tr>\n",
       "      <th>CXB-219-C</th>\n",
       "      <td>3</td>\n",
       "      <td>CXB-219</td>\n",
       "    </tr>\n",
       "    <tr>\n",
       "      <th>CXB-219-C</th>\n",
       "      <td>4</td>\n",
       "      <td>CXB-219</td>\n",
       "    </tr>\n",
       "    <tr>\n",
       "      <th>...</th>\n",
       "      <td>...</td>\n",
       "      <td>...</td>\n",
       "    </tr>\n",
       "    <tr>\n",
       "      <th>CXB-216-A</th>\n",
       "      <td>1380</td>\n",
       "      <td>CXB-216</td>\n",
       "    </tr>\n",
       "    <tr>\n",
       "      <th>CXB-232-B</th>\n",
       "      <td>1381</td>\n",
       "      <td>CXB-232</td>\n",
       "    </tr>\n",
       "    <tr>\n",
       "      <th>CXB-232-C</th>\n",
       "      <td>1382</td>\n",
       "      <td>CXB-232</td>\n",
       "    </tr>\n",
       "    <tr>\n",
       "      <th>CXB-232-C</th>\n",
       "      <td>1383</td>\n",
       "      <td>CXB-232</td>\n",
       "    </tr>\n",
       "    <tr>\n",
       "      <th>CXB-232-G</th>\n",
       "      <td>1384</td>\n",
       "      <td>CXB-232</td>\n",
       "    </tr>\n",
       "  </tbody>\n",
       "</table>\n",
       "<p>1385 rows × 2 columns</p>\n",
       "</div>"
      ],
      "text/plain": [
       "            Unnamed: 0   region\n",
       "super_area                     \n",
       "CXB-219-C            0  CXB-219\n",
       "CXB-219-C            1  CXB-219\n",
       "CXB-219-C            2  CXB-219\n",
       "CXB-219-C            3  CXB-219\n",
       "CXB-219-C            4  CXB-219\n",
       "...                ...      ...\n",
       "CXB-216-A         1380  CXB-216\n",
       "CXB-232-B         1381  CXB-232\n",
       "CXB-232-C         1382  CXB-232\n",
       "CXB-232-C         1383  CXB-232\n",
       "CXB-232-G         1384  CXB-232\n",
       "\n",
       "[1385 rows x 2 columns]"
      ]
     },
     "execution_count": 72,
     "metadata": {},
     "output_type": "execute_result"
    }
   ],
   "source": [
    "super_area_region"
   ]
  },
  {
   "cell_type": "code",
   "execution_count": 74,
   "metadata": {},
   "outputs": [],
   "source": [
    "summary = read.run_summary(\n",
    "    super_area_region_path=camp_data_path \n",
    "    / 'input/geography/area_super_area_region.csv'\n",
    ")"
   ]
  },
  {
   "cell_type": "code",
   "execution_count": 75,
   "metadata": {},
   "outputs": [
    {
     "data": {
      "text/html": [
       "<div>\n",
       "<style scoped>\n",
       "    .dataframe tbody tr th:only-of-type {\n",
       "        vertical-align: middle;\n",
       "    }\n",
       "\n",
       "    .dataframe tbody tr th {\n",
       "        vertical-align: top;\n",
       "    }\n",
       "\n",
       "    .dataframe thead th {\n",
       "        text-align: right;\n",
       "    }\n",
       "</style>\n",
       "<table border=\"1\" class=\"dataframe\">\n",
       "  <thead>\n",
       "    <tr style=\"text-align: right;\">\n",
       "      <th></th>\n",
       "      <th>super_area</th>\n",
       "      <th>current_infected</th>\n",
       "      <th>current_dead</th>\n",
       "      <th>current_recovered</th>\n",
       "      <th>current_susceptible</th>\n",
       "      <th>current_hospitalised</th>\n",
       "      <th>current_intensive_care</th>\n",
       "      <th>daily_recovered</th>\n",
       "      <th>daily_deaths_home</th>\n",
       "      <th>daily_deaths_hospital</th>\n",
       "      <th>daily_deaths_icu</th>\n",
       "      <th>daily_deaths</th>\n",
       "      <th>daily_hospital_admissions</th>\n",
       "      <th>daily_infections</th>\n",
       "      <th>region</th>\n",
       "      <th>location_id</th>\n",
       "    </tr>\n",
       "    <tr>\n",
       "      <th>time_stamp</th>\n",
       "      <th></th>\n",
       "      <th></th>\n",
       "      <th></th>\n",
       "      <th></th>\n",
       "      <th></th>\n",
       "      <th></th>\n",
       "      <th></th>\n",
       "      <th></th>\n",
       "      <th></th>\n",
       "      <th></th>\n",
       "      <th></th>\n",
       "      <th></th>\n",
       "      <th></th>\n",
       "      <th></th>\n",
       "      <th></th>\n",
       "      <th></th>\n",
       "    </tr>\n",
       "  </thead>\n",
       "  <tbody>\n",
       "    <tr>\n",
       "      <th>2020-05-29</th>\n",
       "      <td>CXB-219-A</td>\n",
       "      <td>0</td>\n",
       "      <td>0</td>\n",
       "      <td>0</td>\n",
       "      <td>5968</td>\n",
       "      <td>0</td>\n",
       "      <td>0</td>\n",
       "      <td>0</td>\n",
       "      <td>0</td>\n",
       "      <td>0</td>\n",
       "      <td>0</td>\n",
       "      <td>0</td>\n",
       "      <td>0.0</td>\n",
       "      <td>1</td>\n",
       "      <td>CXB-219</td>\n",
       "      <td>[communal_33]</td>\n",
       "    </tr>\n",
       "    <tr>\n",
       "      <th>2020-06-01</th>\n",
       "      <td>CXB-219-A</td>\n",
       "      <td>1</td>\n",
       "      <td>0</td>\n",
       "      <td>0</td>\n",
       "      <td>5967</td>\n",
       "      <td>0</td>\n",
       "      <td>0</td>\n",
       "      <td>0</td>\n",
       "      <td>0</td>\n",
       "      <td>0</td>\n",
       "      <td>0</td>\n",
       "      <td>0</td>\n",
       "      <td>0.0</td>\n",
       "      <td>1</td>\n",
       "      <td>CXB-219</td>\n",
       "      <td>[communal_65]</td>\n",
       "    </tr>\n",
       "    <tr>\n",
       "      <th>2020-06-02</th>\n",
       "      <td>CXB-219-A</td>\n",
       "      <td>3</td>\n",
       "      <td>0</td>\n",
       "      <td>0</td>\n",
       "      <td>5965</td>\n",
       "      <td>0</td>\n",
       "      <td>0</td>\n",
       "      <td>0</td>\n",
       "      <td>0</td>\n",
       "      <td>0</td>\n",
       "      <td>0</td>\n",
       "      <td>0</td>\n",
       "      <td>0.0</td>\n",
       "      <td>4</td>\n",
       "      <td>CXB-219</td>\n",
       "      <td>[communal_121, communal_91, communal_91, shelt...</td>\n",
       "    </tr>\n",
       "    <tr>\n",
       "      <th>2020-06-03</th>\n",
       "      <td>CXB-219-A</td>\n",
       "      <td>8</td>\n",
       "      <td>0</td>\n",
       "      <td>0</td>\n",
       "      <td>5960</td>\n",
       "      <td>0</td>\n",
       "      <td>0</td>\n",
       "      <td>0</td>\n",
       "      <td>0</td>\n",
       "      <td>0</td>\n",
       "      <td>0</td>\n",
       "      <td>0</td>\n",
       "      <td>0.0</td>\n",
       "      <td>9</td>\n",
       "      <td>CXB-219</td>\n",
       "      <td>[distribution_center_14, communal_40, shelter_...</td>\n",
       "    </tr>\n",
       "    <tr>\n",
       "      <th>2020-06-04</th>\n",
       "      <td>CXB-219-A</td>\n",
       "      <td>20</td>\n",
       "      <td>0</td>\n",
       "      <td>0</td>\n",
       "      <td>5948</td>\n",
       "      <td>0</td>\n",
       "      <td>0</td>\n",
       "      <td>0</td>\n",
       "      <td>0</td>\n",
       "      <td>0</td>\n",
       "      <td>0</td>\n",
       "      <td>0</td>\n",
       "      <td>0.0</td>\n",
       "      <td>13</td>\n",
       "      <td>CXB-219</td>\n",
       "      <td>[shelter_519, shelter_802, communal_29, commun...</td>\n",
       "    </tr>\n",
       "    <tr>\n",
       "      <th>...</th>\n",
       "      <td>...</td>\n",
       "      <td>...</td>\n",
       "      <td>...</td>\n",
       "      <td>...</td>\n",
       "      <td>...</td>\n",
       "      <td>...</td>\n",
       "      <td>...</td>\n",
       "      <td>...</td>\n",
       "      <td>...</td>\n",
       "      <td>...</td>\n",
       "      <td>...</td>\n",
       "      <td>...</td>\n",
       "      <td>...</td>\n",
       "      <td>...</td>\n",
       "      <td>...</td>\n",
       "      <td>...</td>\n",
       "    </tr>\n",
       "    <tr>\n",
       "      <th>2020-07-01</th>\n",
       "      <td>CXB-219-D</td>\n",
       "      <td>4367</td>\n",
       "      <td>2</td>\n",
       "      <td>399</td>\n",
       "      <td>24</td>\n",
       "      <td>10</td>\n",
       "      <td>1</td>\n",
       "      <td>114</td>\n",
       "      <td>0</td>\n",
       "      <td>0</td>\n",
       "      <td>0</td>\n",
       "      <td>0</td>\n",
       "      <td>2.0</td>\n",
       "      <td>4</td>\n",
       "      <td>CXB-219</td>\n",
       "      <td>[communal_97, shelter_3303, communal_67, shelt...</td>\n",
       "    </tr>\n",
       "    <tr>\n",
       "      <th>2020-07-02</th>\n",
       "      <td>CXB-219-D</td>\n",
       "      <td>4248</td>\n",
       "      <td>3</td>\n",
       "      <td>521</td>\n",
       "      <td>20</td>\n",
       "      <td>7</td>\n",
       "      <td>1</td>\n",
       "      <td>134</td>\n",
       "      <td>0</td>\n",
       "      <td>1</td>\n",
       "      <td>1</td>\n",
       "      <td>2</td>\n",
       "      <td>0.0</td>\n",
       "      <td>6</td>\n",
       "      <td>CXB-219</td>\n",
       "      <td>[shelter_2697, shelter_3041, shelter_3041, she...</td>\n",
       "    </tr>\n",
       "    <tr>\n",
       "      <th>2020-07-04</th>\n",
       "      <td>CXB-219-D</td>\n",
       "      <td>3928</td>\n",
       "      <td>4</td>\n",
       "      <td>845</td>\n",
       "      <td>15</td>\n",
       "      <td>7</td>\n",
       "      <td>1</td>\n",
       "      <td>192</td>\n",
       "      <td>0</td>\n",
       "      <td>0</td>\n",
       "      <td>0</td>\n",
       "      <td>0</td>\n",
       "      <td>3.0</td>\n",
       "      <td>2</td>\n",
       "      <td>CXB-219</td>\n",
       "      <td>[play_group_292, shelter_2697]</td>\n",
       "    </tr>\n",
       "    <tr>\n",
       "      <th>2020-07-05</th>\n",
       "      <td>CXB-219-D</td>\n",
       "      <td>3721</td>\n",
       "      <td>4</td>\n",
       "      <td>1054</td>\n",
       "      <td>13</td>\n",
       "      <td>9</td>\n",
       "      <td>1</td>\n",
       "      <td>252</td>\n",
       "      <td>0</td>\n",
       "      <td>0</td>\n",
       "      <td>0</td>\n",
       "      <td>0</td>\n",
       "      <td>2.0</td>\n",
       "      <td>1</td>\n",
       "      <td>CXB-219</td>\n",
       "      <td>[shelter_2760]</td>\n",
       "    </tr>\n",
       "    <tr>\n",
       "      <th>2020-07-06</th>\n",
       "      <td>CXB-219-D</td>\n",
       "      <td>3473</td>\n",
       "      <td>4</td>\n",
       "      <td>1303</td>\n",
       "      <td>12</td>\n",
       "      <td>10</td>\n",
       "      <td>1</td>\n",
       "      <td>264</td>\n",
       "      <td>0</td>\n",
       "      <td>0</td>\n",
       "      <td>0</td>\n",
       "      <td>0</td>\n",
       "      <td>1.0</td>\n",
       "      <td>1</td>\n",
       "      <td>CXB-219</td>\n",
       "      <td>[shelter_2760]</td>\n",
       "    </tr>\n",
       "  </tbody>\n",
       "</table>\n",
       "<p>157 rows × 16 columns</p>\n",
       "</div>"
      ],
      "text/plain": [
       "           super_area  current_infected  current_dead  current_recovered  \\\n",
       "time_stamp                                                                 \n",
       "2020-05-29  CXB-219-A                 0             0                  0   \n",
       "2020-06-01  CXB-219-A                 1             0                  0   \n",
       "2020-06-02  CXB-219-A                 3             0                  0   \n",
       "2020-06-03  CXB-219-A                 8             0                  0   \n",
       "2020-06-04  CXB-219-A                20             0                  0   \n",
       "...               ...               ...           ...                ...   \n",
       "2020-07-01  CXB-219-D              4367             2                399   \n",
       "2020-07-02  CXB-219-D              4248             3                521   \n",
       "2020-07-04  CXB-219-D              3928             4                845   \n",
       "2020-07-05  CXB-219-D              3721             4               1054   \n",
       "2020-07-06  CXB-219-D              3473             4               1303   \n",
       "\n",
       "            current_susceptible  current_hospitalised  current_intensive_care  \\\n",
       "time_stamp                                                                      \n",
       "2020-05-29                 5968                     0                       0   \n",
       "2020-06-01                 5967                     0                       0   \n",
       "2020-06-02                 5965                     0                       0   \n",
       "2020-06-03                 5960                     0                       0   \n",
       "2020-06-04                 5948                     0                       0   \n",
       "...                         ...                   ...                     ...   \n",
       "2020-07-01                   24                    10                       1   \n",
       "2020-07-02                   20                     7                       1   \n",
       "2020-07-04                   15                     7                       1   \n",
       "2020-07-05                   13                     9                       1   \n",
       "2020-07-06                   12                    10                       1   \n",
       "\n",
       "            daily_recovered  daily_deaths_home  daily_deaths_hospital  \\\n",
       "time_stamp                                                              \n",
       "2020-05-29                0                  0                      0   \n",
       "2020-06-01                0                  0                      0   \n",
       "2020-06-02                0                  0                      0   \n",
       "2020-06-03                0                  0                      0   \n",
       "2020-06-04                0                  0                      0   \n",
       "...                     ...                ...                    ...   \n",
       "2020-07-01              114                  0                      0   \n",
       "2020-07-02              134                  0                      1   \n",
       "2020-07-04              192                  0                      0   \n",
       "2020-07-05              252                  0                      0   \n",
       "2020-07-06              264                  0                      0   \n",
       "\n",
       "            daily_deaths_icu  daily_deaths  daily_hospital_admissions  \\\n",
       "time_stamp                                                              \n",
       "2020-05-29                 0             0                        0.0   \n",
       "2020-06-01                 0             0                        0.0   \n",
       "2020-06-02                 0             0                        0.0   \n",
       "2020-06-03                 0             0                        0.0   \n",
       "2020-06-04                 0             0                        0.0   \n",
       "...                      ...           ...                        ...   \n",
       "2020-07-01                 0             0                        2.0   \n",
       "2020-07-02                 1             2                        0.0   \n",
       "2020-07-04                 0             0                        3.0   \n",
       "2020-07-05                 0             0                        2.0   \n",
       "2020-07-06                 0             0                        1.0   \n",
       "\n",
       "            daily_infections   region  \\\n",
       "time_stamp                              \n",
       "2020-05-29                 1  CXB-219   \n",
       "2020-06-01                 1  CXB-219   \n",
       "2020-06-02                 4  CXB-219   \n",
       "2020-06-03                 9  CXB-219   \n",
       "2020-06-04                13  CXB-219   \n",
       "...                      ...      ...   \n",
       "2020-07-01                 4  CXB-219   \n",
       "2020-07-02                 6  CXB-219   \n",
       "2020-07-04                 2  CXB-219   \n",
       "2020-07-05                 1  CXB-219   \n",
       "2020-07-06                 1  CXB-219   \n",
       "\n",
       "                                                  location_id  \n",
       "time_stamp                                                     \n",
       "2020-05-29                                      [communal_33]  \n",
       "2020-06-01                                      [communal_65]  \n",
       "2020-06-02  [communal_121, communal_91, communal_91, shelt...  \n",
       "2020-06-03  [distribution_center_14, communal_40, shelter_...  \n",
       "2020-06-04  [shelter_519, shelter_802, communal_29, commun...  \n",
       "...                                                       ...  \n",
       "2020-07-01  [communal_97, shelter_3303, communal_67, shelt...  \n",
       "2020-07-02  [shelter_2697, shelter_3041, shelter_3041, she...  \n",
       "2020-07-04                     [play_group_292, shelter_2697]  \n",
       "2020-07-05                                     [shelter_2760]  \n",
       "2020-07-06                                     [shelter_2760]  \n",
       "\n",
       "[157 rows x 16 columns]"
      ]
     },
     "execution_count": 75,
     "metadata": {},
     "output_type": "execute_result"
    }
   ],
   "source": [
    "summary"
   ]
  },
  {
   "cell_type": "code",
   "execution_count": null,
   "metadata": {},
   "outputs": [],
   "source": []
  },
  {
   "cell_type": "code",
   "execution_count": null,
   "metadata": {},
   "outputs": [],
   "source": []
  }
 ],
 "metadata": {
  "kernelspec": {
   "display_name": "camps",
   "language": "python",
   "name": "camps"
  },
  "language_info": {
   "codemirror_mode": {
    "name": "ipython",
    "version": 3
   },
   "file_extension": ".py",
   "mimetype": "text/x-python",
   "name": "python",
   "nbconvert_exporter": "python",
   "pygments_lexer": "ipython3",
   "version": "3.8.3"
  }
 },
 "nbformat": 4,
 "nbformat_minor": 4
}
