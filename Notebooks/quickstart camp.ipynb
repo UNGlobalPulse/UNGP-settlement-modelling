{
 "cells": [
  {
   "cell_type": "code",
   "execution_count": 1,
   "metadata": {},
   "outputs": [],
   "source": [
    "%load_ext autoreload\n",
    "%autoreload 2"
   ]
  },
  {
   "cell_type": "code",
   "execution_count": 2,
   "metadata": {},
   "outputs": [],
   "source": [
    "import warnings\n",
    "warnings.filterwarnings('ignore')"
   ]
  },
  {
   "cell_type": "code",
   "execution_count": 3,
   "metadata": {},
   "outputs": [],
   "source": [
    "import numpy as np\n",
    "import pandas as pd\n",
    "import time\n",
    "import matplotlib.pyplot as plt\n",
    "import seaborn as sns\n",
    "from datetime import datetime\n",
    "import sys\n",
    "import argparse\n",
    "from pathlib import Path\n",
    "sns.set_context('notebook')"
   ]
  },
  {
   "cell_type": "code",
   "execution_count": 4,
   "metadata": {},
   "outputs": [
    {
     "name": "stderr",
     "output_type": "stream",
     "text": [
      "No --data argument given - defaulting to:\n",
      "/Users/josephbullock/Documents/campmodelling/JUNE/data\n",
      "No --configs argument given - defaulting to:\n",
      "/Users/josephbullock/Documents/campmodelling/JUNE/campmodelling/lib/python3.7/site-packages/june/configs\n",
      "INFO:numexpr.utils:Note: NumExpr detected 12 cores but \"NUMEXPR_MAX_THREADS\" not set, so enforcing safe limit of 8.\n",
      "INFO:numexpr.utils:NumExpr defaulting to 8 threads.\n"
     ]
    },
    {
     "name": "stdout",
     "output_type": "stream",
     "text": [
      "2021-01-27 15:27:33,345 - camps.paths - WARNING - No --camp_data argument given - defaulting to:\n",
      "/Users/josephbullock/Documents/campmodelling/JUNE/camp_data\n",
      "2021-01-27 15:27:33,345 - camps.paths - WARNING - No --configs_camps argument given - defaulting to:\n",
      "/Users/josephbullock/Documents/campmodelling/JUNE/configs_camps\n"
     ]
    }
   ],
   "source": [
    "from june.geography import Geography\n",
    "from june.demography.demography import (\n",
    "    load_age_and_sex_generators_for_bins,\n",
    "    Demography,\n",
    "    Population,\n",
    "    load_comorbidity_data,\n",
    "    generate_comorbidity,\n",
    ")\n",
    "from june.paths import data_path, configs_path\n",
    "from june.infection import Infection, HealthIndexGenerator\n",
    "from june.infection_seed import InfectionSeed\n",
    "from june.infection import InfectionSelector\n",
    "from june.interaction import Interaction\n",
    "from june.groups import Hospital, Hospitals, Cemeteries\n",
    "from june.distributors import HospitalDistributor\n",
    "from june.hdf5_savers import generate_world_from_hdf5\n",
    "from june.policy import Policy, Policies\n",
    "from june.records import Record\n",
    "from june.simulator import Simulator\n",
    "from june.records import Record, RecordReader\n",
    "\n",
    "from camps.activity import CampActivityManager\n",
    "from camps.paths import camp_data_path, camp_configs_path\n",
    "from camps.world import World\n",
    "from camps.groups.leisure import generate_leisure_for_world, generate_leisure_for_config\n",
    "from camps.camp_creation import (\n",
    "    generate_empty_world,\n",
    "    populate_world,\n",
    "    distribute_people_to_households,\n",
    ")  # this is loaded from the ../camp_scripts folder"
   ]
  },
  {
   "cell_type": "code",
   "execution_count": 5,
   "metadata": {},
   "outputs": [],
   "source": [
    "from camps.groups import PumpLatrines, PumpLatrineDistributor\n",
    "from camps.groups import DistributionCenters, DistributionCenterDistributor\n",
    "from camps.groups import Communals, CommunalDistributor\n",
    "from camps.groups import FemaleCommunals, FemaleCommunalDistributor\n",
    "from camps.groups import Religiouss, ReligiousDistributor\n",
    "from camps.groups import Shelter, Shelters, ShelterDistributor\n",
    "from camps.groups import IsolationUnit, IsolationUnits\n",
    "from camps.groups import LearningCenters\n",
    "from camps.distributors import LearningCenterDistributor\n",
    "from camps.groups import PlayGroups, PlayGroupDistributor\n",
    "from camps.groups import EVouchers, EVoucherDistributor\n",
    "from camps.groups import NFDistributionCenters, NFDistributionCenterDistributor\n",
    "from camps.groups import SheltersVisitsDistributor"
   ]
  },
  {
   "cell_type": "markdown",
   "metadata": {},
   "source": [
    "## Initialize the world"
   ]
  },
  {
   "cell_type": "markdown",
   "metadata": {},
   "source": [
    "When we create the camp to be simulated, we call this the 'world'. The world is initialised after specifying which geographical regions you want to simulate. We can do this by using the `filter_key` argument in the `generate_empty_world` function. Cox's Bazar Expansion Site is made up of camps (which we call regions), UNHCR blocks (which we call super areas) and Mahjee blocks (which we call areas). These are the 3 heirarchical levels on which our model works. You can pass lists of the regions/super_areas/areas to the function here. Alternatively, by leaving the function empty you can generate the entire Cox's Bazar Expansion Site consisting of 112 super areas."
   ]
  },
  {
   "cell_type": "code",
   "execution_count": 6,
   "metadata": {},
   "outputs": [
    {
     "name": "stdout",
     "output_type": "stream",
     "text": [
      "2021-01-27 15:27:33,594 - june.geography.geography - INFO - There are 65 areas and 4 super_areas and 1 in the world.\n"
     ]
    }
   ],
   "source": [
    "# create empty world's geography\n",
    "world = generate_empty_world(filter_key = {\"region\" : [\"CXB-219\"]})"
   ]
  },
  {
   "cell_type": "code",
   "execution_count": 7,
   "metadata": {},
   "outputs": [],
   "source": [
    "# populate empty world\n",
    "populate_world(world)"
   ]
  },
  {
   "cell_type": "code",
   "execution_count": 8,
   "metadata": {},
   "outputs": [],
   "source": [
    "# distribute people to households\n",
    "distribute_people_to_households(world)"
   ]
  },
  {
   "cell_type": "code",
   "execution_count": 9,
   "metadata": {},
   "outputs": [
    {
     "name": "stdout",
     "output_type": "stream",
     "text": [
      "2021-01-27 15:27:34,266 - hospitals - INFO - There are 8 hospitals in the world.\n"
     ]
    }
   ],
   "source": [
    "# distirbute hospitals\n",
    "hospitals = Hospitals.from_file(\n",
    "    filename=camp_data_path / \"input/hospitals/hospitals.csv\"\n",
    ")\n",
    "for hospital in hospitals:\n",
    "    hospital.area = world.areas.get_closest_area(hospital.coordinates)\n",
    "world.hospitals = hospitals\n",
    "hospital_distributor = HospitalDistributor(\n",
    "    hospitals, medic_min_age=20, patients_per_medic=10\n",
    ")\n",
    "hospital_distributor.assign_closest_hospitals_to_super_areas(\n",
    "    world.super_areas\n",
    ")\n",
    "hospital_distributor.distribute_medics_from_world(world.people)"
   ]
  },
  {
   "cell_type": "code",
   "execution_count": 10,
   "metadata": {},
   "outputs": [
    {
     "name": "stdout",
     "output_type": "stream",
     "text": [
      "2021-01-27 15:27:34,323 - social_venue - INFO - Domain 0 has 225 pump_latrines(s)\n",
      "2021-01-27 15:27:34,342 - social_venue - INFO - Domain 0 has 505 play_groups(s)\n",
      "2021-01-27 15:27:34,347 - social_venue - INFO - Domain 0 has 7 distribution_centers(s)\n",
      "2021-01-27 15:27:34,378 - social_venue - INFO - Domain 0 has 125 communals(s)\n",
      "2021-01-27 15:27:34,396 - social_venue - INFO - Domain 0 has 67 female_communals(s)\n",
      "2021-01-27 15:27:34,778 - social_venue - INFO - Domain 0 has 2064 religiouss(s)\n",
      "2021-01-27 15:27:34,786 - social_venue - INFO - Domain 0 has 7 e_vouchers(s)\n",
      "2021-01-27 15:27:34,795 - social_venue - INFO - Domain 0 has 36 n_f_distribution_centers(s)\n"
     ]
    }
   ],
   "source": [
    "world.pump_latrines = PumpLatrines.for_areas(world.areas)\n",
    "world.play_groups = PlayGroups.for_areas(world.areas)\n",
    "world.distribution_centers = DistributionCenters.for_areas(world.areas)\n",
    "world.communals = Communals.for_areas(world.areas)\n",
    "world.female_communals = FemaleCommunals.for_areas(world.areas)\n",
    "world.religiouss = Religiouss.for_areas(world.areas)\n",
    "world.e_vouchers = EVouchers.for_areas(world.areas)\n",
    "world.n_f_distribution_centers = NFDistributionCenters.for_areas(world.areas)"
   ]
  },
  {
   "cell_type": "code",
   "execution_count": 11,
   "metadata": {},
   "outputs": [],
   "source": [
    "world.cemeteries = Cemeteries()"
   ]
  },
  {
   "cell_type": "markdown",
   "metadata": {},
   "source": [
    "## Geography exploration"
   ]
  },
  {
   "cell_type": "markdown",
   "metadata": {},
   "source": [
    "The geography is initialised first and can be explored."
   ]
  },
  {
   "cell_type": "markdown",
   "metadata": {},
   "source": [
    "### UNHCR camp blocks inside the World"
   ]
  },
  {
   "cell_type": "code",
   "execution_count": 12,
   "metadata": {},
   "outputs": [],
   "source": [
    "super_areas = []\n",
    "for super_area in world.super_areas:\n",
    "    super_areas.append(super_area.name)"
   ]
  },
  {
   "cell_type": "code",
   "execution_count": 13,
   "metadata": {},
   "outputs": [
    {
     "data": {
      "text/plain": [
       "['CXB-219-A', 'CXB-219-B', 'CXB-219-C', 'CXB-219-D']"
      ]
     },
     "execution_count": 13,
     "metadata": {},
     "output_type": "execute_result"
    }
   ],
   "source": [
    "super_areas[:5]"
   ]
  },
  {
   "cell_type": "markdown",
   "metadata": {},
   "source": [
    "### Mahjee blocks inside World"
   ]
  },
  {
   "cell_type": "code",
   "execution_count": 14,
   "metadata": {},
   "outputs": [],
   "source": [
    "areas = []\n",
    "for area in world.areas:\n",
    "    areas.append(area.name)"
   ]
  },
  {
   "cell_type": "code",
   "execution_count": 15,
   "metadata": {},
   "outputs": [
    {
     "data": {
      "text/plain": [
       "['CXB-219-001', 'CXB-219-002', 'CXB-219-003', 'CXB-219-004', 'CXB-219-005']"
      ]
     },
     "execution_count": 15,
     "metadata": {},
     "output_type": "execute_result"
    }
   ],
   "source": [
    "areas[:5]"
   ]
  },
  {
   "cell_type": "markdown",
   "metadata": {},
   "source": [
    "## Demography exploration"
   ]
  },
  {
   "cell_type": "markdown",
   "metadata": {},
   "source": [
    "Once we have populated the 'digital twin' we can explore some of the attributes of the people we have created in the simulation."
   ]
  },
  {
   "cell_type": "markdown",
   "metadata": {},
   "source": [
    "### UNHCR block residents"
   ]
  },
  {
   "cell_type": "code",
   "execution_count": 16,
   "metadata": {},
   "outputs": [],
   "source": [
    "sample_ages = []\n",
    "sample_sexes = []\n",
    "for person in world.super_areas.members[0].people:\n",
    "    sample_ages.append(person.age)\n",
    "    sample_sexes.append(person.sex)"
   ]
  },
  {
   "cell_type": "code",
   "execution_count": 17,
   "metadata": {},
   "outputs": [
    {
     "data": {
      "text/plain": [
       "(['m', 'm', 'm', 'm', 'f'], [40, 56, 32, 60, 27])"
      ]
     },
     "execution_count": 17,
     "metadata": {},
     "output_type": "execute_result"
    }
   ],
   "source": [
    "sample_sexes[:5], sample_ages[:5]"
   ]
  },
  {
   "cell_type": "code",
   "execution_count": 18,
   "metadata": {},
   "outputs": [
    {
     "data": {
      "image/png": "[encoded data removed]",
      "text/plain": [
       "<Figure size 432x288 with 1 Axes>"
      ]
     },
     "metadata": {
      "needs_background": "light"
     },
     "output_type": "display_data"
    }
   ],
   "source": [
    "ages, counts = np.unique(sample_ages, return_counts=True)\n",
    "plt.bar(ages, counts)\n",
    "plt.title('super area: {} age distribution'.format(world.super_areas.members[0].name))\n",
    "plt.show()"
   ]
  },
  {
   "cell_type": "code",
   "execution_count": 19,
   "metadata": {},
   "outputs": [
    {
     "name": "stdout",
     "output_type": "stream",
     "text": [
      "The % children between ages 0-16 is 49%\n"
     ]
    }
   ],
   "source": [
    "print ('The % children between ages 0-16 is {}%'.format(round(np.sum(counts[:16])/(np.sum(counts[:16])+np.sum(counts[16:]))*100)))"
   ]
  },
  {
   "cell_type": "markdown",
   "metadata": {},
   "source": [
    "## Households"
   ]
  },
  {
   "cell_type": "markdown",
   "metadata": {},
   "source": [
    "In this model, we will use the term 'family' and 'household' interchangeably. After populating the 'digital twin', we need to cluster people into families. To do this, we take account of age structure so that children live with adults, that there are some intergenerational households and such that we might also have some households of only adults."
   ]
  },
  {
   "cell_type": "markdown",
   "metadata": {},
   "source": [
    "### Household size distribution"
   ]
  },
  {
   "cell_type": "code",
   "execution_count": 20,
   "metadata": {},
   "outputs": [
    {
     "data": {
      "image/png": "[encoded data removed]",
      "text/plain": [
       "<Figure size 432x288 with 1 Axes>"
      ]
     },
     "metadata": {
      "needs_background": "light"
     },
     "output_type": "display_data"
    }
   ],
   "source": [
    "household_sizes = [household.size for household in world.households]\n",
    "plt.hist(household_sizes, density=True, bins=np.arange(0,12))\n",
    "plt.xlabel(\"Household size\")\n",
    "plt.ylabel(\"Frequency\")\n",
    "plt.axvline(np.mean(household_sizes), color=\"cyan\")\n",
    "plt.text(8, 0.150, f\"Avg. size: {(np.mean(household_sizes)):.2f}\")\n",
    "plt.show()"
   ]
  },
  {
   "cell_type": "markdown",
   "metadata": {},
   "source": [
    "# Shelters"
   ]
  },
  {
   "cell_type": "markdown",
   "metadata": {},
   "source": [
    "Shelters house people in the camp. Since we know that families (houseohlds) often share shelters with other families, we can set the `sharing_shelter_ratio` to cluster families into shared shelters."
   ]
  },
  {
   "cell_type": "code",
   "execution_count": 21,
   "metadata": {},
   "outputs": [],
   "source": [
    "world.shelters = Shelters.for_areas(world.areas)\n",
    "shelter_distributor = ShelterDistributor(sharing_shelter_ratio = 0.75) # proportion of families that share a shelter\n",
    "for area in world.areas:\n",
    "    shelter_distributor.distribute_people_in_shelters(area.shelters, area.households)"
   ]
  },
  {
   "cell_type": "code",
   "execution_count": 22,
   "metadata": {},
   "outputs": [
    {
     "data": {
      "image/png": "[encoded data removed]",
      "text/plain": [
       "<Figure size 576x216 with 2 Axes>"
      ]
     },
     "metadata": {
      "needs_background": "light"
     },
     "output_type": "display_data"
    }
   ],
   "source": [
    "fig, ax = plt.subplots(1, 2, figsize=(8,3))\n",
    "shelter_sizes = [shelter.size for shelter in world.shelters]\n",
    "shelter_families = [shelter.n_families for shelter in world.shelters]\n",
    "ax[0].hist(shelter_sizes)\n",
    "ax[0].set_title(\"Shelter size\")\n",
    "shelter_families = {1 : len([shelter for shelter in world.shelters if shelter.n_families == 1]),\n",
    "                    2 : len([shelter for shelter in world.shelters if shelter.n_families == 2])}\n",
    "ax[1].bar(shelter_families.keys(), shelter_families.values())\n",
    "ax[1].set_title(\"# families per shelter\")\n",
    "plt.show()"
   ]
  },
  {
   "cell_type": "markdown",
   "metadata": {},
   "source": [
    "## Activity exploration"
   ]
  },
  {
   "cell_type": "markdown",
   "metadata": {},
   "source": [
    "Once different activity locations are seeded in the 'digital twin' we can explore how many there are in different areas of the twin, and their coordinates to check they've all been added correctly."
   ]
  },
  {
   "cell_type": "markdown",
   "metadata": {},
   "source": [
    "### Pumps and latrines "
   ]
  },
  {
   "cell_type": "code",
   "execution_count": 23,
   "metadata": {},
   "outputs": [],
   "source": [
    "pumps_and_latrines = []\n",
    "for pump_latrine in world.areas.members[0].pump_latrines:\n",
    "    pumps_and_latrines.append(pump_latrine)"
   ]
  },
  {
   "cell_type": "code",
   "execution_count": 24,
   "metadata": {},
   "outputs": [
    {
     "name": "stdout",
     "output_type": "stream",
     "text": [
      "There are 4 pumps and latrines in area CXB-219-001\n"
     ]
    }
   ],
   "source": [
    "print ('There are {} pumps and latrines in area {}'.format(len(pumps_and_latrines), world.areas.members[0].name))"
   ]
  },
  {
   "cell_type": "markdown",
   "metadata": {},
   "source": [
    "### Distribution centers"
   ]
  },
  {
   "cell_type": "code",
   "execution_count": 25,
   "metadata": {},
   "outputs": [],
   "source": [
    "distribution_centers = []\n",
    "for center in world.distribution_centers:\n",
    "    distribution_centers.append(center)"
   ]
  },
  {
   "cell_type": "code",
   "execution_count": 26,
   "metadata": {},
   "outputs": [
    {
     "data": {
      "text/plain": [
       "array([21.21176333, 92.13597667])"
      ]
     },
     "execution_count": 26,
     "metadata": {},
     "output_type": "execute_result"
    }
   ],
   "source": [
    "distribution_centers[0].coordinates"
   ]
  },
  {
   "cell_type": "markdown",
   "metadata": {},
   "source": [
    "### Non-food Distribution centers"
   ]
  },
  {
   "cell_type": "code",
   "execution_count": 27,
   "metadata": {},
   "outputs": [],
   "source": [
    "non_food_distribution_centers = []\n",
    "for center in world.n_f_distribution_centers:\n",
    "    non_food_distribution_centers.append(center)"
   ]
  },
  {
   "cell_type": "code",
   "execution_count": 28,
   "metadata": {},
   "outputs": [
    {
     "data": {
      "text/plain": [
       "array([21.1962 , 92.14936])"
      ]
     },
     "execution_count": 28,
     "metadata": {},
     "output_type": "execute_result"
    }
   ],
   "source": [
    "non_food_distribution_centers[0].coordinates"
   ]
  },
  {
   "cell_type": "markdown",
   "metadata": {},
   "source": [
    "### E-Voucher outlets"
   ]
  },
  {
   "cell_type": "code",
   "execution_count": 29,
   "metadata": {},
   "outputs": [],
   "source": [
    "e_voucher_outlets = []\n",
    "for center in world.e_vouchers:\n",
    "    e_voucher_outlets.append(center)"
   ]
  },
  {
   "cell_type": "code",
   "execution_count": 30,
   "metadata": {},
   "outputs": [
    {
     "data": {
      "text/plain": [
       "array([21.21176333, 92.13597667])"
      ]
     },
     "execution_count": 30,
     "metadata": {},
     "output_type": "execute_result"
    }
   ],
   "source": [
    "e_voucher_outlets[0].coordinates"
   ]
  },
  {
   "cell_type": "markdown",
   "metadata": {},
   "source": [
    "### Communal spaces"
   ]
  },
  {
   "cell_type": "code",
   "execution_count": 31,
   "metadata": {},
   "outputs": [],
   "source": [
    "communal_spaces = []\n",
    "for space in world.communals:\n",
    "    communal_spaces.append(space)"
   ]
  },
  {
   "cell_type": "code",
   "execution_count": 32,
   "metadata": {},
   "outputs": [
    {
     "data": {
      "text/plain": [
       "array([21.19621, 92.14924])"
      ]
     },
     "execution_count": 32,
     "metadata": {},
     "output_type": "execute_result"
    }
   ],
   "source": [
    "communal_spaces[0].coordinates"
   ]
  },
  {
   "cell_type": "markdown",
   "metadata": {},
   "source": [
    "### Female friendly communal spaces"
   ]
  },
  {
   "cell_type": "code",
   "execution_count": 33,
   "metadata": {},
   "outputs": [],
   "source": [
    "female_communal_spaces = []\n",
    "for space in world.female_communals:\n",
    "    female_communal_spaces.append(space)"
   ]
  },
  {
   "cell_type": "code",
   "execution_count": 34,
   "metadata": {},
   "outputs": [
    {
     "data": {
      "text/plain": [
       "array([21.19588, 92.152  ])"
      ]
     },
     "execution_count": 34,
     "metadata": {},
     "output_type": "execute_result"
    }
   ],
   "source": [
    "female_communal_spaces[0].coordinates"
   ]
  },
  {
   "cell_type": "markdown",
   "metadata": {},
   "source": [
    "### Religious sites"
   ]
  },
  {
   "cell_type": "code",
   "execution_count": 35,
   "metadata": {},
   "outputs": [],
   "source": [
    "religious = []\n",
    "for rel in world.religiouss:\n",
    "    religious.append(rel)"
   ]
  },
  {
   "cell_type": "code",
   "execution_count": 36,
   "metadata": {},
   "outputs": [
    {
     "data": {
      "text/plain": [
       "array([21.20069, 92.15216])"
      ]
     },
     "execution_count": 36,
     "metadata": {},
     "output_type": "execute_result"
    }
   ],
   "source": [
    "religious[0].coordinates"
   ]
  },
  {
   "cell_type": "markdown",
   "metadata": {},
   "source": [
    "# Adding the infection"
   ]
  },
  {
   "cell_type": "markdown",
   "metadata": {},
   "source": [
    "The selector handles how infections are handled in the code. You can set different 'symptom trajectories' (e.g. exposed->mild->severe->hospitalised->intensive care) from different files. Here, we use the default."
   ]
  },
  {
   "cell_type": "code",
   "execution_count": 37,
   "metadata": {},
   "outputs": [],
   "source": [
    "selector = InfectionSelector.from_file()"
   ]
  },
  {
   "cell_type": "markdown",
   "metadata": {},
   "source": [
    "# Adding the interaction"
   ]
  },
  {
   "cell_type": "markdown",
   "metadata": {},
   "source": [
    "The interaction class handles how many contacts people have in different locations and with who. If contact matrices are available, these can be coded in a `.yaml` file and fed into the class here."
   ]
  },
  {
   "cell_type": "code",
   "execution_count": 38,
   "metadata": {},
   "outputs": [],
   "source": [
    "interaction = Interaction.from_file(config_filename='../configs_camps/defaults/interaction/ContactInteraction.yaml')"
   ]
  },
  {
   "cell_type": "markdown",
   "metadata": {},
   "source": [
    "# Set policies"
   ]
  },
  {
   "cell_type": "markdown",
   "metadata": {},
   "source": [
    "Policies control how 'operational interventions' are set in the camp. Here we set some social distancing policies, policies relating to medical care, such as people with severe symptoms being hospitalised, and individual and activity policies which can dynamically change how often and where people go, e.g. here, we close all female communal spaces and non-food distirbution centers which the camp did back in March"
   ]
  },
  {
   "cell_type": "code",
   "execution_count": 39,
   "metadata": {},
   "outputs": [],
   "source": [
    "policies = Policies.from_file(\n",
    "        camp_configs_path / \"defaults/policy/home_care_policy.yaml\",\n",
    "        base_policy_modules=(\"june.policy\", \"camps.policy\"),\n",
    "    )"
   ]
  },
  {
   "cell_type": "code",
   "execution_count": 40,
   "metadata": {},
   "outputs": [
    {
     "data": {
      "text/plain": [
       "[<june.policy.interaction_policies.SocialDistancing at 0x7ff7e165a810>,\n",
       " <june.policy.medical_care_policies.Hospitalisation at 0x7ff7e165a7d0>,\n",
       " <june.policy.individual_policies.SevereSymptomsStayHome at 0x7ff7e0f088d0>,\n",
       " <june.policy.individual_policies.Quarantine at 0x7ff7e0f08710>,\n",
       " <june.policy.leisure_policies.CloseLeisureVenue at 0x7ff7e0f08390>,\n",
       " <june.policy.leisure_policies.ChangeLeisureProbability at 0x7ff7e0f081d0>,\n",
       " <june.policy.leisure_policies.ChangeLeisureProbability at 0x7ff7e0f08410>]"
      ]
     },
     "execution_count": 40,
     "metadata": {},
     "output_type": "execute_result"
    }
   ],
   "source": [
    "policies.policies"
   ]
  },
  {
   "cell_type": "markdown",
   "metadata": {},
   "source": [
    "# Seed the disease"
   ]
  },
  {
   "cell_type": "markdown",
   "metadata": {},
   "source": [
    "Set intial seeding conditions. This can be done at the camp level specifically, or generally by seeding them randomly. Here the `n_cases` is the number of randomly seeded people over the entire population."
   ]
  },
  {
   "cell_type": "code",
   "execution_count": 41,
   "metadata": {},
   "outputs": [],
   "source": [
    "infection_seed = InfectionSeed(\n",
    "    world=world, infection_selector=selector, \n",
    ")\n",
    "infection_seed.unleash_virus(n_cases=5, population=world.people)"
   ]
  },
  {
   "cell_type": "markdown",
   "metadata": {},
   "source": [
    "## Select config file"
   ]
  },
  {
   "cell_type": "markdown",
   "metadata": {},
   "source": [
    "Before running the simualtion we must select the config file which defines how the world is set up and the simualtor will work. Specifically, the condif file specifies which activities will be included, how long we'll run the simualtion for, what the initial starting day will be and what the structure of weekdays and weekends will look like (if different)"
   ]
  },
  {
   "cell_type": "code",
   "execution_count": 42,
   "metadata": {},
   "outputs": [],
   "source": [
    "CONFIG_PATH = \"../configs_camps/config_demo.yaml\""
   ]
  },
  {
   "cell_type": "markdown",
   "metadata": {},
   "source": [
    "# Initialise activities"
   ]
  },
  {
   "cell_type": "markdown",
   "metadata": {},
   "source": [
    "The final step to intialising the simulator class which brings all of this together is to inialise all the activity distirbutors (the term 'leisure' is a legacy of the original version of this code used for modelling COVID-19 in the UK). This will mean that people know where they can go at and given time."
   ]
  },
  {
   "cell_type": "code",
   "execution_count": 43,
   "metadata": {},
   "outputs": [
    {
     "name": "stdout",
     "output_type": "stream",
     "text": [
      "2021-01-27 15:27:36,758 - leisure - INFO - Linking households for visits\n",
      "2021-01-27 15:27:36,758 - leisure - INFO - Done\n",
      "2021-01-27 15:27:36,759 - leisure - INFO - Linking households with care homes for visits\n",
      "2021-01-27 15:27:36,759 - leisure - INFO - Done\n",
      "2021-01-27 15:27:36,759 - leisure - INFO - Distributing social venues to areas\n",
      "2021-01-27 15:27:36,760 - leisure - INFO - Distributed in 0 of 65 areas.\n",
      "2021-01-27 15:27:36,862 - leisure - INFO - Distributed in 65 of 65 areas.\n"
     ]
    }
   ],
   "source": [
    "leisure = generate_leisure_for_config(world=world, config_filename=CONFIG_PATH)\n",
    "leisure.leisure_distributors = {}\n",
    "leisure.leisure_distributors[\"pump_latrines\"] = PumpLatrineDistributor.from_config(\n",
    "    world.pump_latrines\n",
    ")\n",
    "leisure.leisure_distributors[\"play_groups\"] = PlayGroupDistributor.from_config(\n",
    "    world.play_groups\n",
    ")\n",
    "leisure.leisure_distributors[\n",
    "    \"distribution_centers\"\n",
    "] = DistributionCenterDistributor.from_config(\n",
    "    world.distribution_centers\n",
    ")\n",
    "leisure.leisure_distributors[\"communals\"] = CommunalDistributor.from_config(\n",
    "    world.communals\n",
    ")\n",
    "leisure.leisure_distributors[\n",
    "    \"female_communals\"\n",
    "] = FemaleCommunalDistributor.from_config(world.female_communals)\n",
    "leisure.leisure_distributors[\"religiouss\"] = ReligiousDistributor.from_config(\n",
    "    world.religiouss\n",
    ")\n",
    "leisure.leisure_distributors[\"e_vouchers\"] = EVoucherDistributor.from_config(\n",
    "    world.e_vouchers\n",
    ")\n",
    "leisure.leisure_distributors[\n",
    "    \"n_f_distribution_centers\"\n",
    "] = NFDistributionCenterDistributor.from_config(\n",
    "    world.n_f_distribution_centers\n",
    ")\n",
    "leisure.leisure_distributors[\n",
    "    \"shelters_visits\"\n",
    "] = SheltersVisitsDistributor.from_config()\n",
    "leisure.leisure_distributors[\"shelters_visits\"].link_shelters_to_shelters(\n",
    "    world.super_areas\n",
    ")\n",
    "# associate social activities to shelters\n",
    "leisure.distribute_social_venues_to_areas(world.areas, world.super_areas)\n"
   ]
  },
  {
   "cell_type": "markdown",
   "metadata": {},
   "source": [
    "# Initialise simulator and run"
   ]
  },
  {
   "cell_type": "markdown",
   "metadata": {},
   "source": [
    "The recorder is defined which will log all interactions and infections in the simualation for later analysis. The `record_path` can be changed to any path where you want the recorded data to be stored."
   ]
  },
  {
   "cell_type": "code",
   "execution_count": 44,
   "metadata": {},
   "outputs": [],
   "source": [
    "record = Record(\n",
    "    record_path='results', record_static_data=True\n",
    ")\n",
    "record.static_data(world=world)"
   ]
  },
  {
   "cell_type": "markdown",
   "metadata": {},
   "source": [
    "The simulator is defined with all the different necessary components we have built up so far"
   ]
  },
  {
   "cell_type": "code",
   "execution_count": 45,
   "metadata": {},
   "outputs": [],
   "source": [
    "Simulator.ActivityManager = CampActivityManager\n",
    "simulator = Simulator.from_file(\n",
    "    world=world,\n",
    "    interaction=interaction,\n",
    "    leisure=leisure,\n",
    "    policies=policies,\n",
    "    config_filename=CONFIG_PATH,\n",
    "    infection_selector=selector,\n",
    "    record=record,\n",
    ")"
   ]
  },
  {
   "cell_type": "markdown",
   "metadata": {},
   "source": [
    "Finally we can run a small simualation"
   ]
  },
  {
   "cell_type": "code",
   "execution_count": 46,
   "metadata": {
    "scrolled": true
   },
   "outputs": [
    {
     "name": "stdout",
     "output_type": "stream",
     "text": [
      "2021-01-27 15:27:37,104 - simulator - INFO - Starting simulation for 20 days at day 2020-05-24 00:00:00, to run for 20 days\n",
      "2021-01-27 15:27:37,135 - simulator - INFO - ==================== timestep ====================\n",
      "2021-01-27 15:27:37,270 - activity_manager - INFO - CMS: People COMS for rank 0/1 - 3.4659999998964963e-06,3.0994415283203125e-06 - 2020-05-24 00:00:00\n",
      "2021-01-27 15:27:37,274 - simulator - INFO - Info for rank 0, Date = 2020-05-24 00:00:00, number of deaths =  0, number of infected = 5\n",
      "2021-01-27 15:27:37,306 - simulator - INFO - CMS: Infection COMS-v2 for rank 0/1(2) 0.00022512700000021368,0.0002238750457763672 - 2020-05-24 00:00:00\n",
      "2021-01-27 15:27:37,513 - simulator - INFO - CMS: Timestep for rank 0/1 - 0.37700390799999983, 0.37668490409851074 - 2020-05-24 00:00:00\n",
      "\n",
      "2021-01-27 15:27:37,513 - simulator - INFO - ==================== timestep ====================\n",
      "2021-01-27 15:27:37,811 - activity_manager - INFO - CMS: People COMS for rank 0/1 - 3.073000000242132e-06,1.6689300537109375e-06 - 2020-05-24 03:00:00\n",
      "2021-01-27 15:27:37,815 - simulator - INFO - Info for rank 0, Date = 2020-05-24 03:00:00, number of deaths =  0, number of infected = 5\n",
      "2021-01-27 15:27:37,853 - simulator - INFO - CMS: Infection COMS-v2 for rank 0/1(2) 0.00012864600000028759,0.00012803077697753906 - 2020-05-24 03:00:00\n",
      "2021-01-27 15:27:37,895 - simulator - INFO - CMS: Timestep for rank 0/1 - 0.38155184299999956, 0.3812439441680908 - 2020-05-24 03:00:00\n",
      "\n",
      "2021-01-27 15:27:37,896 - simulator - INFO - ==================== timestep ====================\n",
      "2021-01-27 15:27:38,212 - activity_manager - INFO - CMS: People COMS for rank 0/1 - 3.196999999843797e-06,2.86102294921875e-06 - 2020-05-24 05:00:00\n",
      "2021-01-27 15:27:38,216 - simulator - INFO - Info for rank 0, Date = 2020-05-24 05:00:00, number of deaths =  0, number of infected = 5\n",
      "2021-01-27 15:27:38,260 - simulator - INFO - CMS: Infection COMS-v2 for rank 0/1(2) 0.00013637500000029945,0.0001361370086669922 - 2020-05-24 05:00:00\n",
      "2021-01-27 15:27:38,304 - simulator - INFO - CMS: Timestep for rank 0/1 - 0.4079702379999999, 0.4076402187347412 - 2020-05-24 05:00:00\n",
      "\n",
      "2021-01-27 15:27:38,304 - simulator - INFO - ==================== timestep ====================\n",
      "2021-01-27 15:27:38,625 - activity_manager - INFO - CMS: People COMS for rank 0/1 - 3.48999999921773e-06,3.0994415283203125e-06 - 2020-05-24 07:00:00\n",
      "2021-01-27 15:27:38,630 - simulator - INFO - Info for rank 0, Date = 2020-05-24 07:00:00, number of deaths =  0, number of infected = 5\n",
      "2021-01-27 15:27:38,673 - simulator - INFO - CMS: Infection COMS-v2 for rank 0/1(2) 0.00016098200000058682,0.0001609325408935547 - 2020-05-24 07:00:00\n",
      "2021-01-27 15:27:38,717 - simulator - INFO - CMS: Timestep for rank 0/1 - 0.4127399349999994, 0.41242289543151855 - 2020-05-24 07:00:00\n",
      "\n",
      "2021-01-27 15:27:38,718 - simulator - INFO - ==================== timestep ====================\n",
      "2021-01-27 15:27:39,047 - activity_manager - INFO - CMS: People COMS for rank 0/1 - 3.1990000000092778e-06,2.86102294921875e-06 - 2020-05-24 09:00:00\n",
      "2021-01-27 15:27:39,051 - simulator - INFO - Info for rank 0, Date = 2020-05-24 09:00:00, number of deaths =  0, number of infected = 5\n",
      "2021-01-27 15:27:39,094 - simulator - INFO - CMS: Infection COMS-v2 for rank 0/1(2) 0.0002964499999986714,0.00029587745666503906 - 2020-05-24 09:00:00\n",
      "2021-01-27 15:27:39,139 - simulator - INFO - CMS: Timestep for rank 0/1 - 0.4206775349999994, 0.42035913467407227 - 2020-05-24 09:00:00\n",
      "\n",
      "2021-01-27 15:27:39,139 - simulator - INFO - ==================== timestep ====================\n",
      "2021-01-27 15:27:39,283 - activity_manager - INFO - CMS: People COMS for rank 0/1 - 3.4489999993780884e-06,2.86102294921875e-06 - 2020-05-24 11:00:00\n",
      "2021-01-27 15:27:39,288 - simulator - INFO - Info for rank 0, Date = 2020-05-24 11:00:00, number of deaths =  0, number of infected = 5\n",
      "2021-01-27 15:27:39,325 - simulator - INFO - CMS: Infection COMS-v2 for rank 0/1(2) 0.00015773100000160412,0.00015735626220703125 - 2020-05-24 11:00:00\n",
      "2021-01-27 15:27:39,371 - simulator - INFO - CMS: Timestep for rank 0/1 - 0.2309084109999997, 0.23073410987854004 - 2020-05-24 11:00:00\n",
      "\n",
      "2021-01-27 15:27:39,371 - simulator - INFO - ==================== timestep ====================\n",
      "2021-01-27 15:27:39,510 - activity_manager - INFO - CMS: People COMS for rank 0/1 - 2.8329999999243682e-06,2.1457672119140625e-06 - 2020-05-25 00:00:00\n",
      "2021-01-27 15:27:39,515 - simulator - INFO - Info for rank 0, Date = 2020-05-25 00:00:00, number of deaths =  0, number of infected = 7\n",
      "2021-01-27 15:27:39,550 - simulator - INFO - CMS: Infection COMS-v2 for rank 0/1(2) 0.00011197600000123487,0.00011229515075683594 - 2020-05-25 00:00:00\n",
      "2021-01-27 15:27:39,595 - simulator - INFO - CMS: Timestep for rank 0/1 - 0.222847333999999, 0.2226881980895996 - 2020-05-25 00:00:00\n",
      "\n",
      "2021-01-27 15:27:39,595 - simulator - INFO - ==================== timestep ====================\n",
      "2021-01-27 15:27:39,907 - activity_manager - INFO - CMS: People COMS for rank 0/1 - 3.3169999991145005e-06,2.86102294921875e-06 - 2020-05-25 02:00:00\n",
      "2021-01-27 15:27:39,912 - simulator - INFO - Info for rank 0, Date = 2020-05-25 02:00:00, number of deaths =  0, number of infected = 9\n",
      "2021-01-27 15:27:39,956 - simulator - INFO - CMS: Infection COMS-v2 for rank 0/1(2) 0.00014067500000081168,0.00014019012451171875 - 2020-05-25 02:00:00\n",
      "2021-01-27 15:27:40,001 - simulator - INFO - CMS: Timestep for rank 0/1 - 0.4049991389999992, 0.40471386909484863 - 2020-05-25 02:00:00\n",
      "\n",
      "2021-01-27 15:27:40,002 - simulator - INFO - ==================== timestep ====================\n",
      "2021-01-27 15:27:40,321 - activity_manager - INFO - CMS: People COMS for rank 0/1 - 3.8089999989665557e-06,3.814697265625e-06 - 2020-05-25 04:00:00\n",
      "2021-01-27 15:27:40,325 - simulator - INFO - Info for rank 0, Date = 2020-05-25 04:00:00, number of deaths =  0, number of infected = 9\n",
      "2021-01-27 15:27:40,367 - simulator - INFO - CMS: Infection COMS-v2 for rank 0/1(2) 0.00012623599999983526,0.000125885009765625 - 2020-05-25 04:00:00\n",
      "2021-01-27 15:27:40,411 - simulator - INFO - CMS: Timestep for rank 0/1 - 0.4089391229999997, 0.40865087509155273 - 2020-05-25 04:00:00\n",
      "\n",
      "2021-01-27 15:27:40,411 - simulator - INFO - ==================== timestep ====================\n",
      "2021-01-27 15:27:40,720 - activity_manager - INFO - CMS: People COMS for rank 0/1 - 3.287000000185003e-06,1.9073486328125e-06 - 2020-05-25 06:00:00\n",
      "2021-01-27 15:27:40,724 - simulator - INFO - Info for rank 0, Date = 2020-05-25 06:00:00, number of deaths =  0, number of infected = 10\n",
      "2021-01-27 15:27:40,765 - simulator - INFO - CMS: Infection COMS-v2 for rank 0/1(2) 0.00010387899999919625,0.00010395050048828125 - 2020-05-25 06:00:00\n",
      "2021-01-27 15:27:40,809 - simulator - INFO - CMS: Timestep for rank 0/1 - 0.3977368080000012, 0.3974738121032715 - 2020-05-25 06:00:00\n",
      "\n",
      "2021-01-27 15:27:40,810 - simulator - INFO - ==================== timestep ====================\n",
      "2021-01-27 15:27:41,113 - activity_manager - INFO - CMS: People COMS for rank 0/1 - 3.5290000006682476e-06,3.0994415283203125e-06 - 2020-05-25 08:00:00\n",
      "2021-01-27 15:27:41,117 - simulator - INFO - Info for rank 0, Date = 2020-05-25 08:00:00, number of deaths =  0, number of infected = 12\n",
      "2021-01-27 15:27:41,157 - simulator - INFO - CMS: Infection COMS-v2 for rank 0/1(2) 0.00012016900000055841,0.00011968612670898438 - 2020-05-25 08:00:00\n",
      "2021-01-27 15:27:41,199 - simulator - INFO - CMS: Timestep for rank 0/1 - 0.3889839300000002, 0.38872694969177246 - 2020-05-25 08:00:00\n",
      "\n",
      "2021-01-27 15:27:41,200 - simulator - INFO - ==================== timestep ====================\n",
      "2021-01-27 15:27:41,330 - activity_manager - INFO - CMS: People COMS for rank 0/1 - 2.443999999712787e-06,2.1457672119140625e-06 - 2020-05-25 10:00:00\n",
      "2021-01-27 15:27:41,334 - simulator - INFO - Info for rank 0, Date = 2020-05-25 10:00:00, number of deaths =  0, number of infected = 12\n",
      "2021-01-27 15:27:41,367 - simulator - INFO - CMS: Infection COMS-v2 for rank 0/1(2) 0.00011883799999878875,0.00011801719665527344 - 2020-05-25 10:00:00\n",
      "2021-01-27 15:27:41,410 - simulator - INFO - CMS: Timestep for rank 0/1 - 0.20947776700000098, 0.20933985710144043 - 2020-05-25 10:00:00\n",
      "\n",
      "2021-01-27 15:27:41,410 - simulator - INFO - ==================== timestep ====================\n"
     ]
    },
    {
     "name": "stdout",
     "output_type": "stream",
     "text": [
      "2021-01-27 15:27:41,541 - activity_manager - INFO - CMS: People COMS for rank 0/1 - 2.7520000003278255e-06,1.9073486328125e-06 - 2020-05-26 00:00:00\n",
      "2021-01-27 15:27:41,544 - simulator - INFO - Info for rank 0, Date = 2020-05-26 00:00:00, number of deaths =  0, number of infected = 16\n",
      "2021-01-27 15:27:41,580 - simulator - INFO - CMS: Infection COMS-v2 for rank 0/1(2) 0.0001491429999997962,0.00014901161193847656 - 2020-05-26 00:00:00\n",
      "2021-01-27 15:27:41,625 - simulator - INFO - CMS: Timestep for rank 0/1 - 0.2139738280000003, 0.21384310722351074 - 2020-05-26 00:00:00\n",
      "\n",
      "2021-01-27 15:27:41,625 - simulator - INFO - ==================== timestep ====================\n",
      "2021-01-27 15:27:41,934 - activity_manager - INFO - CMS: People COMS for rank 0/1 - 2.756000000658787e-06,2.86102294921875e-06 - 2020-05-26 02:00:00\n",
      "2021-01-27 15:27:41,938 - simulator - INFO - Info for rank 0, Date = 2020-05-26 02:00:00, number of deaths =  0, number of infected = 18\n",
      "2021-01-27 15:27:41,979 - simulator - INFO - CMS: Infection COMS-v2 for rank 0/1(2) 0.00010105900000034751,0.0001010894775390625 - 2020-05-26 02:00:00\n",
      "2021-01-27 15:27:42,023 - simulator - INFO - CMS: Timestep for rank 0/1 - 0.39719183999999963, 0.39694809913635254 - 2020-05-26 02:00:00\n",
      "\n",
      "2021-01-27 15:27:42,024 - simulator - INFO - ==================== timestep ====================\n",
      "2021-01-27 15:27:42,339 - activity_manager - INFO - CMS: People COMS for rank 0/1 - 3.792000001112683e-06,3.814697265625e-06 - 2020-05-26 04:00:00\n",
      "2021-01-27 15:27:42,343 - simulator - INFO - Info for rank 0, Date = 2020-05-26 04:00:00, number of deaths =  0, number of infected = 19\n",
      "2021-01-27 15:27:42,388 - simulator - INFO - CMS: Infection COMS-v2 for rank 0/1(2) 0.00011417199999996797,0.00011396408081054688 - 2020-05-26 04:00:00\n",
      "2021-01-27 15:27:42,430 - simulator - INFO - CMS: Timestep for rank 0/1 - 0.40640825000000014, 0.4061586856842041 - 2020-05-26 04:00:00\n",
      "\n",
      "2021-01-27 15:27:42,431 - simulator - INFO - ==================== timestep ====================\n",
      "2021-01-27 15:27:42,751 - activity_manager - INFO - CMS: People COMS for rank 0/1 - 3.480000000166683e-06,2.6226043701171875e-06 - 2020-05-26 06:00:00\n",
      "2021-01-27 15:27:42,755 - simulator - INFO - Info for rank 0, Date = 2020-05-26 06:00:00, number of deaths =  0, number of infected = 20\n",
      "2021-01-27 15:27:42,801 - simulator - INFO - CMS: Infection COMS-v2 for rank 0/1(2) 0.00012626000000004467,0.000125885009765625 - 2020-05-26 06:00:00\n",
      "2021-01-27 15:27:42,845 - simulator - INFO - CMS: Timestep for rank 0/1 - 0.41349508200000074, 0.4132571220397949 - 2020-05-26 06:00:00\n",
      "\n",
      "2021-01-27 15:27:42,846 - simulator - INFO - ==================== timestep ====================\n",
      "2021-01-27 15:27:43,187 - activity_manager - INFO - CMS: People COMS for rank 0/1 - 3.953000000223028e-06,2.86102294921875e-06 - 2020-05-26 08:00:00\n",
      "2021-01-27 15:27:43,192 - simulator - INFO - Info for rank 0, Date = 2020-05-26 08:00:00, number of deaths =  0, number of infected = 22\n",
      "2021-01-27 15:27:43,239 - simulator - INFO - CMS: Infection COMS-v2 for rank 0/1(2) 0.0001725710000002323,0.00017309188842773438 - 2020-05-26 08:00:00\n",
      "2021-01-27 15:27:43,283 - simulator - INFO - CMS: Timestep for rank 0/1 - 0.4371278390000004, 0.4368751049041748 - 2020-05-26 08:00:00\n",
      "\n",
      "2021-01-27 15:27:43,284 - simulator - INFO - ==================== timestep ====================\n",
      "2021-01-27 15:27:43,418 - activity_manager - INFO - CMS: People COMS for rank 0/1 - 2.8000000007466497e-06,2.6226043701171875e-06 - 2020-05-26 10:00:00\n",
      "2021-01-27 15:27:43,422 - simulator - INFO - Info for rank 0, Date = 2020-05-26 10:00:00, number of deaths =  0, number of infected = 22\n",
      "2021-01-27 15:27:43,460 - simulator - INFO - CMS: Infection COMS-v2 for rank 0/1(2) 0.0001250600000002322,0.00012493133544921875 - 2020-05-26 10:00:00\n",
      "2021-01-27 15:27:43,506 - simulator - INFO - CMS: Timestep for rank 0/1 - 0.22202565799999974, 0.22190189361572266 - 2020-05-26 10:00:00\n",
      "\n",
      "2021-01-27 15:27:43,507 - simulator - INFO - ==================== timestep ====================\n",
      "2021-01-27 15:27:43,647 - activity_manager - INFO - CMS: People COMS for rank 0/1 - 2.863999998936606e-06,2.1457672119140625e-06 - 2020-05-27 00:00:00\n",
      "2021-01-27 15:27:43,651 - simulator - INFO - Info for rank 0, Date = 2020-05-27 00:00:00, number of deaths =  0, number of infected = 30\n",
      "2021-01-27 15:27:43,687 - simulator - INFO - CMS: Infection COMS-v2 for rank 0/1(2) 0.0001186680000007101,0.00011873245239257812 - 2020-05-27 00:00:00\n",
      "2021-01-27 15:27:43,735 - simulator - INFO - CMS: Timestep for rank 0/1 - 0.22737373200000022, 0.22725129127502441 - 2020-05-27 00:00:00\n",
      "\n",
      "2021-01-27 15:27:43,735 - simulator - INFO - ==================== timestep ====================\n",
      "2021-01-27 15:27:44,042 - activity_manager - INFO - CMS: People COMS for rank 0/1 - 3.393000000073698e-06,3.0994415283203125e-06 - 2020-05-27 02:00:00\n",
      "2021-01-27 15:27:44,046 - simulator - INFO - Info for rank 0, Date = 2020-05-27 02:00:00, number of deaths =  0, number of infected = 31\n",
      "2021-01-27 15:27:44,090 - simulator - INFO - CMS: Infection COMS-v2 for rank 0/1(2) 0.0001257140000010537,0.00012421607971191406 - 2020-05-27 02:00:00\n",
      "2021-01-27 15:27:44,134 - simulator - INFO - CMS: Timestep for rank 0/1 - 0.39869077800000063, 0.39847660064697266 - 2020-05-27 02:00:00\n",
      "\n",
      "2021-01-27 15:27:44,135 - simulator - INFO - ==================== timestep ====================\n",
      "2021-01-27 15:27:44,456 - activity_manager - INFO - CMS: People COMS for rank 0/1 - 3.321000001221819e-06,2.86102294921875e-06 - 2020-05-27 04:00:00\n",
      "2021-01-27 15:27:44,460 - simulator - INFO - Info for rank 0, Date = 2020-05-27 04:00:00, number of deaths =  0, number of infected = 34\n",
      "2021-01-27 15:27:44,505 - simulator - INFO - CMS: Infection COMS-v2 for rank 0/1(2) 0.00013641299999989087,0.00013589859008789062 - 2020-05-27 04:00:00\n",
      "2021-01-27 15:27:44,550 - simulator - INFO - CMS: Timestep for rank 0/1 - 0.4148220580000004, 0.41460371017456055 - 2020-05-27 04:00:00\n",
      "\n",
      "2021-01-27 15:27:44,551 - simulator - INFO - ==================== timestep ====================\n",
      "2021-01-27 15:27:44,864 - activity_manager - INFO - CMS: People COMS for rank 0/1 - 3.3510000001513163e-06,3.0994415283203125e-06 - 2020-05-27 06:00:00\n",
      "2021-01-27 15:27:44,868 - simulator - INFO - Info for rank 0, Date = 2020-05-27 06:00:00, number of deaths =  0, number of infected = 36\n",
      "2021-01-27 15:27:44,910 - simulator - INFO - CMS: Infection COMS-v2 for rank 0/1(2) 0.00034448999999980856,0.0003440380096435547 - 2020-05-27 06:00:00\n",
      "2021-01-27 15:27:44,953 - simulator - INFO - CMS: Timestep for rank 0/1 - 0.40227426400000077, 0.4020729064941406 - 2020-05-27 06:00:00\n",
      "\n",
      "2021-01-27 15:27:44,954 - simulator - INFO - ==================== timestep ====================\n",
      "2021-01-27 15:27:45,273 - activity_manager - INFO - CMS: People COMS for rank 0/1 - 3.0640000012738255e-06,3.0994415283203125e-06 - 2020-05-27 08:00:00\n",
      "2021-01-27 15:27:45,277 - simulator - INFO - Info for rank 0, Date = 2020-05-27 08:00:00, number of deaths =  0, number of infected = 38\n",
      "2021-01-27 15:27:45,321 - simulator - INFO - CMS: Infection COMS-v2 for rank 0/1(2) 0.00013732599999904949,0.00013589859008789062 - 2020-05-27 08:00:00\n",
      "2021-01-27 15:27:45,364 - simulator - INFO - CMS: Timestep for rank 0/1 - 0.4092073420000002, 0.40900182723999023 - 2020-05-27 08:00:00\n",
      "\n",
      "2021-01-27 15:27:45,365 - simulator - INFO - ==================== timestep ====================\n",
      "2021-01-27 15:27:45,498 - activity_manager - INFO - CMS: People COMS for rank 0/1 - 3.615000000678492e-06,3.0994415283203125e-06 - 2020-05-27 10:00:00\n",
      "2021-01-27 15:27:45,503 - simulator - INFO - Info for rank 0, Date = 2020-05-27 10:00:00, number of deaths =  0, number of infected = 41\n",
      "2021-01-27 15:27:45,539 - simulator - INFO - CMS: Infection COMS-v2 for rank 0/1(2) 0.00013177900000016507,0.0001308917999267578 - 2020-05-27 10:00:00\n",
      "2021-01-27 15:27:45,585 - simulator - INFO - CMS: Timestep for rank 0/1 - 0.21989114799999854, 0.2197880744934082 - 2020-05-27 10:00:00\n",
      "\n",
      "2021-01-27 15:27:45,585 - simulator - INFO - ==================== timestep ====================\n",
      "2021-01-27 15:27:45,724 - activity_manager - INFO - CMS: People COMS for rank 0/1 - 2.797999998804812e-06,1.6689300537109375e-06 - 2020-05-28 00:00:00\n"
     ]
    },
    {
     "name": "stdout",
     "output_type": "stream",
     "text": [
      "2021-01-27 15:27:45,728 - simulator - INFO - Info for rank 0, Date = 2020-05-28 00:00:00, number of deaths =  0, number of infected = 42\n",
      "2021-01-27 15:27:45,763 - simulator - INFO - CMS: Infection COMS-v2 for rank 0/1(2) 0.00013409499999994523,0.00013399124145507812 - 2020-05-28 00:00:00\n",
      "2021-01-27 15:27:45,807 - simulator - INFO - CMS: Timestep for rank 0/1 - 0.22131391299999947, 0.22121000289916992 - 2020-05-28 00:00:00\n",
      "\n",
      "2021-01-27 15:27:45,808 - simulator - INFO - ==================== timestep ====================\n",
      "2021-01-27 15:27:46,115 - activity_manager - INFO - CMS: People COMS for rank 0/1 - 3.4150000001176295e-06,2.86102294921875e-06 - 2020-05-28 02:00:00\n",
      "2021-01-27 15:27:46,119 - simulator - INFO - Info for rank 0, Date = 2020-05-28 02:00:00, number of deaths =  0, number of infected = 42\n",
      "2021-01-27 15:27:46,163 - simulator - INFO - CMS: Infection COMS-v2 for rank 0/1(2) 0.00014531999999967127,0.00014495849609375 - 2020-05-28 02:00:00\n",
      "2021-01-27 15:27:46,207 - simulator - INFO - CMS: Timestep for rank 0/1 - 0.3992352530000005, 0.3990480899810791 - 2020-05-28 02:00:00\n",
      "\n",
      "2021-01-27 15:27:46,208 - simulator - INFO - ==================== timestep ====================\n",
      "2021-01-27 15:27:46,528 - activity_manager - INFO - CMS: People COMS for rank 0/1 - 3.7060000011024385e-06,3.0994415283203125e-06 - 2020-05-28 04:00:00\n",
      "2021-01-27 15:27:46,532 - simulator - INFO - Info for rank 0, Date = 2020-05-28 04:00:00, number of deaths =  0, number of infected = 44\n",
      "2021-01-27 15:27:46,576 - simulator - INFO - CMS: Infection COMS-v2 for rank 0/1(2) 0.00011586699999810435,0.00011491775512695312 - 2020-05-28 04:00:00\n",
      "2021-01-27 15:27:46,621 - simulator - INFO - CMS: Timestep for rank 0/1 - 0.412492073000001, 0.4123060703277588 - 2020-05-28 04:00:00\n",
      "\n",
      "2021-01-27 15:27:46,622 - simulator - INFO - ==================== timestep ====================\n",
      "2021-01-27 15:27:46,935 - activity_manager - INFO - CMS: People COMS for rank 0/1 - 4.029999999488609e-06,4.0531158447265625e-06 - 2020-05-28 06:00:00\n",
      "2021-01-27 15:27:46,939 - simulator - INFO - Info for rank 0, Date = 2020-05-28 06:00:00, number of deaths =  0, number of infected = 45\n",
      "2021-01-27 15:27:46,985 - simulator - INFO - CMS: Infection COMS-v2 for rank 0/1(2) 0.00012273099999760007,0.00012183189392089844 - 2020-05-28 06:00:00\n",
      "2021-01-27 15:27:47,032 - simulator - INFO - CMS: Timestep for rank 0/1 - 0.4103758149999983, 0.41019582748413086 - 2020-05-28 06:00:00\n",
      "\n",
      "2021-01-27 15:27:47,033 - simulator - INFO - ==================== timestep ====================\n",
      "2021-01-27 15:27:47,346 - activity_manager - INFO - CMS: People COMS for rank 0/1 - 3.7800000001197986e-06,2.86102294921875e-06 - 2020-05-28 08:00:00\n",
      "2021-01-27 15:27:47,350 - simulator - INFO - Info for rank 0, Date = 2020-05-28 08:00:00, number of deaths =  0, number of infected = 49\n",
      "2021-01-27 15:27:47,395 - simulator - INFO - CMS: Infection COMS-v2 for rank 0/1(2) 0.00021685499999790636,0.00021600723266601562 - 2020-05-28 08:00:00\n",
      "2021-01-27 15:27:47,441 - simulator - INFO - CMS: Timestep for rank 0/1 - 0.40733198100000223, 0.40715503692626953 - 2020-05-28 08:00:00\n",
      "\n",
      "2021-01-27 15:27:47,442 - simulator - INFO - ==================== timestep ====================\n",
      "2021-01-27 15:27:47,575 - activity_manager - INFO - CMS: People COMS for rank 0/1 - 2.5739999998108942e-06,1.6689300537109375e-06 - 2020-05-28 10:00:00\n",
      "2021-01-27 15:27:47,580 - simulator - INFO - Info for rank 0, Date = 2020-05-28 10:00:00, number of deaths =  0, number of infected = 53\n",
      "2021-01-27 15:27:47,616 - simulator - INFO - CMS: Infection COMS-v2 for rank 0/1(2) 0.00014726399999887008,0.0001468658447265625 - 2020-05-28 10:00:00\n",
      "2021-01-27 15:27:47,663 - simulator - INFO - CMS: Timestep for rank 0/1 - 0.22061022700000166, 0.2205209732055664 - 2020-05-28 10:00:00\n",
      "\n",
      "2021-01-27 15:27:47,663 - simulator - INFO - ==================== timestep ====================\n",
      "2021-01-27 15:27:47,800 - activity_manager - INFO - CMS: People COMS for rank 0/1 - 2.3790000014400903e-06,2.1457672119140625e-06 - 2020-05-29 00:00:00\n",
      "2021-01-27 15:27:47,804 - simulator - INFO - Info for rank 0, Date = 2020-05-29 00:00:00, number of deaths =  0, number of infected = 59\n",
      "2021-01-27 15:27:47,841 - simulator - INFO - CMS: Infection COMS-v2 for rank 0/1(2) 0.0001281869999978369,0.00012683868408203125 - 2020-05-29 00:00:00\n",
      "2021-01-27 15:27:47,887 - simulator - INFO - CMS: Timestep for rank 0/1 - 0.22325853199999912, 0.22316813468933105 - 2020-05-29 00:00:00\n",
      "\n",
      "2021-01-27 15:27:47,888 - simulator - INFO - ==================== timestep ====================\n",
      "2021-01-27 15:27:48,207 - activity_manager - INFO - CMS: People COMS for rank 0/1 - 3.1280000030164956e-06,1.9073486328125e-06 - 2020-05-29 02:00:00\n",
      "2021-01-27 15:27:48,211 - simulator - INFO - Info for rank 0, Date = 2020-05-29 02:00:00, number of deaths =  0, number of infected = 63\n",
      "2021-01-27 15:27:48,260 - simulator - INFO - CMS: Infection COMS-v2 for rank 0/1(2) 0.00019624999999834358,0.00019621849060058594 - 2020-05-29 02:00:00\n",
      "2021-01-27 15:27:48,305 - simulator - INFO - CMS: Timestep for rank 0/1 - 0.4163959790000007, 0.4162259101867676 - 2020-05-29 02:00:00\n",
      "\n",
      "2021-01-27 15:27:48,305 - simulator - INFO - ==================== timestep ====================\n",
      "2021-01-27 15:27:48,631 - activity_manager - INFO - CMS: People COMS for rank 0/1 - 3.561999999845966e-06,3.0994415283203125e-06 - 2020-05-29 04:00:00\n",
      "2021-01-27 15:27:48,636 - simulator - INFO - Info for rank 0, Date = 2020-05-29 04:00:00, number of deaths =  0, number of infected = 70\n",
      "2021-01-27 15:27:48,680 - simulator - INFO - CMS: Infection COMS-v2 for rank 0/1(2) 0.00011304399999900738,0.00011301040649414062 - 2020-05-29 04:00:00\n",
      "2021-01-27 15:27:48,723 - simulator - INFO - CMS: Timestep for rank 0/1 - 0.4172435299999968, 0.4170811176300049 - 2020-05-29 04:00:00\n",
      "\n",
      "2021-01-27 15:27:48,724 - simulator - INFO - ==================== timestep ====================\n",
      "2021-01-27 15:27:49,048 - activity_manager - INFO - CMS: People COMS for rank 0/1 - 3.5310000008337283e-06,2.86102294921875e-06 - 2020-05-29 06:00:00\n",
      "2021-01-27 15:27:49,053 - simulator - INFO - Info for rank 0, Date = 2020-05-29 06:00:00, number of deaths =  0, number of infected = 73\n",
      "2021-01-27 15:27:49,104 - simulator - INFO - CMS: Infection COMS-v2 for rank 0/1(2) 0.0003264800000017942,0.0003247261047363281 - 2020-05-29 06:00:00\n",
      "2021-01-27 15:27:49,154 - simulator - INFO - CMS: Timestep for rank 0/1 - 0.42999800300000146, 0.42983508110046387 - 2020-05-29 06:00:00\n",
      "\n",
      "2021-01-27 15:27:49,154 - simulator - INFO - ==================== timestep ====================\n",
      "2021-01-27 15:27:49,495 - activity_manager - INFO - CMS: People COMS for rank 0/1 - 3.3349999988274703e-06,2.86102294921875e-06 - 2020-05-29 08:00:00\n",
      "2021-01-27 15:27:49,499 - simulator - INFO - Info for rank 0, Date = 2020-05-29 08:00:00, number of deaths =  0, number of infected = 82\n",
      "2021-01-27 15:27:49,551 - simulator - INFO - CMS: Infection COMS-v2 for rank 0/1(2) 0.0001692780000013272,0.00016808509826660156 - 2020-05-29 08:00:00\n",
      "2021-01-27 15:27:49,600 - simulator - INFO - CMS: Timestep for rank 0/1 - 0.44508059900000063, 0.4449169635772705 - 2020-05-29 08:00:00\n",
      "\n",
      "2021-01-27 15:27:49,601 - simulator - INFO - ==================== timestep ====================\n",
      "2021-01-27 15:27:49,750 - activity_manager - INFO - CMS: People COMS for rank 0/1 - 3.1179999986363782e-06,3.0994415283203125e-06 - 2020-05-29 10:00:00\n",
      "2021-01-27 15:27:49,756 - simulator - INFO - Info for rank 0, Date = 2020-05-29 10:00:00, number of deaths =  0, number of infected = 88\n",
      "2021-01-27 15:27:49,805 - simulator - INFO - CMS: Infection COMS-v2 for rank 0/1(2) 0.00022587800000195557,0.000225067138671875 - 2020-05-29 10:00:00\n",
      "2021-01-27 15:27:49,855 - simulator - INFO - CMS: Timestep for rank 0/1 - 0.2536022810000027, 0.25351405143737793 - 2020-05-29 10:00:00\n",
      "\n",
      "2021-01-27 15:27:49,855 - simulator - INFO - ==================== timestep ====================\n",
      "2021-01-27 15:27:50,005 - activity_manager - INFO - CMS: People COMS for rank 0/1 - 3.1700000029388775e-06,2.86102294921875e-06 - 2020-05-30 00:00:00\n",
      "2021-01-27 15:27:50,010 - simulator - INFO - Info for rank 0, Date = 2020-05-30 00:00:00, number of deaths =  0, number of infected = 117\n"
     ]
    },
    {
     "name": "stdout",
     "output_type": "stream",
     "text": [
      "2021-01-27 15:27:50,050 - simulator - INFO - CMS: Infection COMS-v2 for rank 0/1(2) 0.0001235429999972837,0.0001227855682373047 - 2020-05-30 00:00:00\n",
      "2021-01-27 15:27:50,097 - simulator - INFO - CMS: Timestep for rank 0/1 - 0.24160048099999898, 0.2415149211883545 - 2020-05-30 00:00:00\n",
      "\n",
      "2021-01-27 15:27:50,098 - simulator - INFO - ==================== timestep ====================\n",
      "2021-01-27 15:27:50,417 - activity_manager - INFO - CMS: People COMS for rank 0/1 - 3.0980000005342845e-06,2.1457672119140625e-06 - 2020-05-30 03:00:00\n",
      "2021-01-27 15:27:50,421 - simulator - INFO - Info for rank 0, Date = 2020-05-30 03:00:00, number of deaths =  0, number of infected = 127\n",
      "2021-01-27 15:27:50,464 - simulator - INFO - CMS: Infection COMS-v2 for rank 0/1(2) 0.00010993500000111567,0.0001087188720703125 - 2020-05-30 03:00:00\n",
      "2021-01-27 15:27:50,506 - simulator - INFO - CMS: Timestep for rank 0/1 - 0.4073585709999996, 0.40721607208251953 - 2020-05-30 03:00:00\n",
      "\n",
      "2021-01-27 15:27:50,507 - simulator - INFO - ==================== timestep ====================\n",
      "2021-01-27 15:27:50,847 - activity_manager - INFO - CMS: People COMS for rank 0/1 - 3.6660000013455374e-06,3.0994415283203125e-06 - 2020-05-30 05:00:00\n",
      "2021-01-27 15:27:50,852 - simulator - INFO - Info for rank 0, Date = 2020-05-30 05:00:00, number of deaths =  0, number of infected = 136\n",
      "2021-01-27 15:27:50,903 - simulator - INFO - CMS: Infection COMS-v2 for rank 0/1(2) 0.00012188099999832502,0.00012111663818359375 - 2020-05-30 05:00:00\n",
      "2021-01-27 15:27:50,952 - simulator - INFO - CMS: Timestep for rank 0/1 - 0.44437938399999766, 0.4442329406738281 - 2020-05-30 05:00:00\n",
      "\n",
      "2021-01-27 15:27:50,953 - simulator - INFO - ==================== timestep ====================\n",
      "2021-01-27 15:27:51,279 - activity_manager - INFO - CMS: People COMS for rank 0/1 - 3.905999999886944e-06,3.0994415283203125e-06 - 2020-05-30 07:00:00\n",
      "2021-01-27 15:27:51,283 - simulator - INFO - Info for rank 0, Date = 2020-05-30 07:00:00, number of deaths =  0, number of infected = 146\n",
      "2021-01-27 15:27:51,337 - simulator - INFO - CMS: Infection COMS-v2 for rank 0/1(2) 0.0005187560000017299,0.0005130767822265625 - 2020-05-30 07:00:00\n",
      "2021-01-27 15:27:51,388 - simulator - INFO - CMS: Timestep for rank 0/1 - 0.4350964519999998, 0.4349532127380371 - 2020-05-30 07:00:00\n",
      "\n",
      "2021-01-27 15:27:51,389 - simulator - INFO - ==================== timestep ====================\n",
      "2021-01-27 15:27:51,710 - activity_manager - INFO - CMS: People COMS for rank 0/1 - 3.4570000018163682e-06,3.0994415283203125e-06 - 2020-05-30 09:00:00\n",
      "2021-01-27 15:27:51,714 - simulator - INFO - Info for rank 0, Date = 2020-05-30 09:00:00, number of deaths =  0, number of infected = 157\n",
      "2021-01-27 15:27:51,765 - simulator - INFO - CMS: Infection COMS-v2 for rank 0/1(2) 0.00012932599999970762,0.0001289844512939453 - 2020-05-30 09:00:00\n",
      "2021-01-27 15:27:51,821 - simulator - INFO - CMS: Timestep for rank 0/1 - 0.4315727890000005, 0.4314401149749756 - 2020-05-30 09:00:00\n",
      "\n",
      "2021-01-27 15:27:51,822 - simulator - INFO - ==================== timestep ====================\n",
      "2021-01-27 15:27:51,970 - activity_manager - INFO - CMS: People COMS for rank 0/1 - 4.8019999994153295e-06,4.0531158447265625e-06 - 2020-05-30 11:00:00\n",
      "2021-01-27 15:27:51,974 - simulator - INFO - Info for rank 0, Date = 2020-05-30 11:00:00, number of deaths =  0, number of infected = 168\n",
      "2021-01-27 15:27:52,027 - simulator - INFO - CMS: Infection COMS-v2 for rank 0/1(2) 0.0001771630000000357,0.00017690658569335938 - 2020-05-30 11:00:00\n",
      "2021-01-27 15:27:52,075 - simulator - INFO - CMS: Timestep for rank 0/1 - 0.252756576000003, 0.25268006324768066 - 2020-05-30 11:00:00\n",
      "\n",
      "2021-01-27 15:27:52,076 - simulator - INFO - ==================== timestep ====================\n",
      "2021-01-27 15:27:52,208 - activity_manager - INFO - CMS: People COMS for rank 0/1 - 4.40800000234276e-06,4.0531158447265625e-06 - 2020-05-31 00:00:00\n",
      "2021-01-27 15:27:52,213 - simulator - INFO - Info for rank 0, Date = 2020-05-31 00:00:00, number of deaths =  0, number of infected = 223\n",
      "2021-01-27 15:27:52,254 - simulator - INFO - CMS: Infection COMS-v2 for rank 0/1(2) 0.00014559500000288494,0.00014472007751464844 - 2020-05-31 00:00:00\n",
      "2021-01-27 15:27:52,300 - simulator - INFO - CMS: Timestep for rank 0/1 - 0.22387699600000133, 0.22380900382995605 - 2020-05-31 00:00:00\n",
      "\n",
      "2021-01-27 15:27:52,301 - simulator - INFO - ==================== timestep ====================\n",
      "2021-01-27 15:27:52,620 - activity_manager - INFO - CMS: People COMS for rank 0/1 - 3.491000001076827e-06,1.9073486328125e-06 - 2020-05-31 03:00:00\n",
      "2021-01-27 15:27:52,625 - simulator - INFO - Info for rank 0, Date = 2020-05-31 03:00:00, number of deaths =  0, number of infected = 240\n",
      "2021-01-27 15:27:52,671 - simulator - INFO - CMS: Infection COMS-v2 for rank 0/1(2) 0.00012885699999998224,0.00012803077697753906 - 2020-05-31 03:00:00\n",
      "2021-01-27 15:27:52,716 - simulator - INFO - CMS: Timestep for rank 0/1 - 0.41511403899999877, 0.4149923324584961 - 2020-05-31 03:00:00\n",
      "\n",
      "2021-01-27 15:27:52,717 - simulator - INFO - ==================== timestep ====================\n",
      "2021-01-27 15:27:53,032 - activity_manager - INFO - CMS: People COMS for rank 0/1 - 3.280999997912204e-06,3.0994415283203125e-06 - 2020-05-31 05:00:00\n",
      "2021-01-27 15:27:53,037 - simulator - INFO - Info for rank 0, Date = 2020-05-31 05:00:00, number of deaths =  0, number of infected = 251\n",
      "2021-01-27 15:27:53,088 - simulator - INFO - CMS: Infection COMS-v2 for rank 0/1(2) 0.00021402500000178293,0.0002129077911376953 - 2020-05-31 05:00:00\n",
      "2021-01-27 15:27:53,133 - simulator - INFO - CMS: Timestep for rank 0/1 - 0.41570417200000165, 0.4155862331390381 - 2020-05-31 05:00:00\n",
      "\n",
      "2021-01-27 15:27:53,134 - simulator - INFO - ==================== timestep ====================\n",
      "2021-01-27 15:27:53,446 - activity_manager - INFO - CMS: People COMS for rank 0/1 - 3.18700000079275e-06,2.86102294921875e-06 - 2020-05-31 07:00:00\n",
      "2021-01-27 15:27:53,451 - simulator - INFO - Info for rank 0, Date = 2020-05-31 07:00:00, number of deaths =  0, number of infected = 264\n",
      "2021-01-27 15:27:53,496 - simulator - INFO - CMS: Infection COMS-v2 for rank 0/1(2) 0.00012565200000125287,0.0001251697540283203 - 2020-05-31 07:00:00\n",
      "2021-01-27 15:27:53,539 - simulator - INFO - CMS: Timestep for rank 0/1 - 0.4051409570000004, 0.405026912689209 - 2020-05-31 07:00:00\n",
      "\n",
      "2021-01-27 15:27:53,540 - simulator - INFO - ==================== timestep ====================\n",
      "2021-01-27 15:27:53,866 - activity_manager - INFO - CMS: People COMS for rank 0/1 - 3.6449999996079896e-06,3.0994415283203125e-06 - 2020-05-31 09:00:00\n",
      "2021-01-27 15:27:53,870 - simulator - INFO - Info for rank 0, Date = 2020-05-31 09:00:00, number of deaths =  0, number of infected = 280\n",
      "2021-01-27 15:27:53,923 - simulator - INFO - CMS: Infection COMS-v2 for rank 0/1(2) 0.00022764499999894383,0.00022673606872558594 - 2020-05-31 09:00:00\n",
      "2021-01-27 15:27:53,969 - simulator - INFO - CMS: Timestep for rank 0/1 - 0.4289683780000004, 0.42885398864746094 - 2020-05-31 09:00:00\n",
      "\n",
      "2021-01-27 15:27:53,970 - simulator - INFO - ==================== timestep ====================\n",
      "2021-01-27 15:27:54,117 - activity_manager - INFO - CMS: People COMS for rank 0/1 - 2.9579999996087736e-06,3.0994415283203125e-06 - 2020-05-31 11:00:00\n",
      "2021-01-27 15:27:54,121 - simulator - INFO - Info for rank 0, Date = 2020-05-31 11:00:00, number of deaths =  0, number of infected = 298\n",
      "2021-01-27 15:27:54,177 - simulator - INFO - CMS: Infection COMS-v2 for rank 0/1(2) 0.00016343899999782252,0.0001621246337890625 - 2020-05-31 11:00:00\n",
      "2021-01-27 15:27:54,222 - simulator - INFO - CMS: Timestep for rank 0/1 - 0.2521769760000012, 0.2521097660064697 - 2020-05-31 11:00:00\n",
      "\n",
      "2021-01-27 15:27:54,223 - simulator - INFO - ==================== timestep ====================\n",
      "2021-01-27 15:27:54,367 - activity_manager - INFO - CMS: People COMS for rank 0/1 - 3.3439999995721337e-06,3.0994415283203125e-06 - 2020-06-01 00:00:00\n",
      "2021-01-27 15:27:54,371 - simulator - INFO - Info for rank 0, Date = 2020-06-01 00:00:00, number of deaths =  0, number of infected = 360\n",
      "2021-01-27 15:27:54,412 - simulator - INFO - CMS: Infection COMS-v2 for rank 0/1(2) 0.00016734699999787495,0.00016689300537109375 - 2020-06-01 00:00:00\n"
     ]
    },
    {
     "name": "stdout",
     "output_type": "stream",
     "text": [
      "2021-01-27 15:27:54,461 - simulator - INFO - CMS: Timestep for rank 0/1 - 0.23747289699999996, 0.2374117374420166 - 2020-06-01 00:00:00\n",
      "\n",
      "2021-01-27 15:27:54,462 - simulator - INFO - ==================== timestep ====================\n",
      "2021-01-27 15:27:54,779 - activity_manager - INFO - CMS: People COMS for rank 0/1 - 3.4139999982585323e-06,3.0994415283203125e-06 - 2020-06-01 02:00:00\n",
      "2021-01-27 15:27:54,783 - simulator - INFO - Info for rank 0, Date = 2020-06-01 02:00:00, number of deaths =  0, number of infected = 373\n",
      "2021-01-27 15:27:54,836 - simulator - INFO - CMS: Infection COMS-v2 for rank 0/1(2) 0.000129597999997344,0.00012803077697753906 - 2020-06-01 02:00:00\n",
      "2021-01-27 15:27:54,882 - simulator - INFO - CMS: Timestep for rank 0/1 - 0.42006357500000036, 0.41996002197265625 - 2020-06-01 02:00:00\n",
      "\n",
      "2021-01-27 15:27:54,883 - simulator - INFO - ==================== timestep ====================\n",
      "2021-01-27 15:27:55,198 - activity_manager - INFO - CMS: People COMS for rank 0/1 - 2.982999998124569e-06,2.86102294921875e-06 - 2020-06-01 04:00:00\n",
      "2021-01-27 15:27:55,202 - simulator - INFO - Info for rank 0, Date = 2020-06-01 04:00:00, number of deaths =  0, number of infected = 394\n",
      "2021-01-27 15:27:55,255 - simulator - INFO - CMS: Infection COMS-v2 for rank 0/1(2) 0.00024381000000062159,0.0002429485321044922 - 2020-06-01 04:00:00\n",
      "2021-01-27 15:27:55,299 - simulator - INFO - CMS: Timestep for rank 0/1 - 0.41548825499999964, 0.4153861999511719 - 2020-06-01 04:00:00\n",
      "\n",
      "2021-01-27 15:27:55,299 - simulator - INFO - ==================== timestep ====================\n",
      "2021-01-27 15:27:55,613 - activity_manager - INFO - CMS: People COMS for rank 0/1 - 3.5519999990185624e-06,3.0994415283203125e-06 - 2020-06-01 06:00:00\n",
      "2021-01-27 15:27:55,617 - simulator - INFO - Info for rank 0, Date = 2020-06-01 06:00:00, number of deaths =  0, number of infected = 423\n",
      "2021-01-27 15:27:55,665 - simulator - INFO - CMS: Infection COMS-v2 for rank 0/1(2) 0.0001324760000009917,0.00013113021850585938 - 2020-06-01 06:00:00\n",
      "2021-01-27 15:27:55,709 - simulator - INFO - CMS: Timestep for rank 0/1 - 0.40975853200000145, 0.40966200828552246 - 2020-06-01 06:00:00\n",
      "\n",
      "2021-01-27 15:27:55,710 - simulator - INFO - ==================== timestep ====================\n",
      "2021-01-27 15:27:56,028 - activity_manager - INFO - CMS: People COMS for rank 0/1 - 3.57200000067337e-06,3.0994415283203125e-06 - 2020-06-01 08:00:00\n",
      "2021-01-27 15:27:56,033 - simulator - INFO - Info for rank 0, Date = 2020-06-01 08:00:00, number of deaths =  0, number of infected = 444\n",
      "2021-01-27 15:27:56,093 - simulator - INFO - CMS: Infection COMS-v2 for rank 0/1(2) 0.00026757099999841216,0.00026702880859375 - 2020-06-01 08:00:00\n",
      "2021-01-27 15:27:56,138 - simulator - INFO - CMS: Timestep for rank 0/1 - 0.4270438679999984, 0.42694616317749023 - 2020-06-01 08:00:00\n",
      "\n",
      "2021-01-27 15:27:56,138 - simulator - INFO - ==================== timestep ====================\n",
      "2021-01-27 15:27:56,273 - activity_manager - INFO - CMS: People COMS for rank 0/1 - 2.6819999980887133e-06,1.9073486328125e-06 - 2020-06-01 10:00:00\n",
      "2021-01-27 15:27:56,278 - simulator - INFO - Info for rank 0, Date = 2020-06-01 10:00:00, number of deaths =  0, number of infected = 471\n",
      "2021-01-27 15:27:56,337 - simulator - INFO - CMS: Infection COMS-v2 for rank 0/1(2) 0.0001326259999991919,0.00013208389282226562 - 2020-06-01 10:00:00\n",
      "2021-01-27 15:27:56,385 - simulator - INFO - CMS: Timestep for rank 0/1 - 0.2464007009999989, 0.24634385108947754 - 2020-06-01 10:00:00\n",
      "\n",
      "2021-01-27 15:27:56,386 - simulator - INFO - ==================== timestep ====================\n",
      "2021-01-27 15:27:56,525 - activity_manager - INFO - CMS: People COMS for rank 0/1 - 2.8810000003431924e-06,3.0994415283203125e-06 - 2020-06-02 00:00:00\n",
      "2021-01-27 15:27:56,529 - simulator - INFO - Info for rank 0, Date = 2020-06-02 00:00:00, number of deaths =  0, number of infected = 546\n",
      "2021-01-27 15:27:56,570 - simulator - INFO - CMS: Infection COMS-v2 for rank 0/1(2) 0.0001566749999994954,0.00015592575073242188 - 2020-06-02 00:00:00\n",
      "2021-01-27 15:27:56,618 - simulator - INFO - CMS: Timestep for rank 0/1 - 0.23218891099999794, 0.23213982582092285 - 2020-06-02 00:00:00\n",
      "\n",
      "2021-01-27 15:27:56,619 - simulator - INFO - ==================== timestep ====================\n",
      "2021-01-27 15:27:56,933 - activity_manager - INFO - CMS: People COMS for rank 0/1 - 3.0899999998723615e-06,1.6689300537109375e-06 - 2020-06-02 02:00:00\n",
      "2021-01-27 15:27:56,937 - simulator - INFO - Info for rank 0, Date = 2020-06-02 02:00:00, number of deaths =  0, number of infected = 563\n",
      "2021-01-27 15:27:56,994 - simulator - INFO - CMS: Infection COMS-v2 for rank 0/1(2) 0.0001147170000024289,0.00011420249938964844 - 2020-06-02 02:00:00\n",
      "2021-01-27 15:27:57,039 - simulator - INFO - CMS: Timestep for rank 0/1 - 0.4195927959999999, 0.41950321197509766 - 2020-06-02 02:00:00\n",
      "\n",
      "2021-01-27 15:27:57,040 - simulator - INFO - ==================== timestep ====================\n",
      "2021-01-27 15:27:57,357 - activity_manager - INFO - CMS: People COMS for rank 0/1 - 3.988999999648968e-06,3.0994415283203125e-06 - 2020-06-02 04:00:00\n",
      "2021-01-27 15:27:57,363 - simulator - INFO - Info for rank 0, Date = 2020-06-02 04:00:00, number of deaths =  0, number of infected = 594\n",
      "2021-01-27 15:27:57,425 - simulator - INFO - CMS: Infection COMS-v2 for rank 0/1(2) 0.00014722599999927866,0.00014710426330566406 - 2020-06-02 04:00:00\n",
      "2021-01-27 15:27:57,472 - simulator - INFO - CMS: Timestep for rank 0/1 - 0.4315313709999984, 0.4314408302307129 - 2020-06-02 04:00:00\n",
      "\n",
      "2021-01-27 15:27:57,472 - simulator - INFO - ==================== timestep ====================\n",
      "2021-01-27 15:27:57,777 - activity_manager - INFO - CMS: People COMS for rank 0/1 - 3.364000001226941e-06,2.86102294921875e-06 - 2020-06-02 06:00:00\n",
      "2021-01-27 15:27:57,782 - simulator - INFO - Info for rank 0, Date = 2020-06-02 06:00:00, number of deaths =  0, number of infected = 635\n",
      "2021-01-27 15:27:57,840 - simulator - INFO - CMS: Infection COMS-v2 for rank 0/1(2) 0.0001337170000006438,0.00013303756713867188 - 2020-06-02 06:00:00\n",
      "2021-01-27 15:27:57,885 - simulator - INFO - CMS: Timestep for rank 0/1 - 0.41285035099999945, 0.4127678871154785 - 2020-06-02 06:00:00\n",
      "\n",
      "2021-01-27 15:27:57,886 - simulator - INFO - ==================== timestep ====================\n",
      "2021-01-27 15:27:58,201 - activity_manager - INFO - CMS: People COMS for rank 0/1 - 3.1590000020287334e-06,3.0994415283203125e-06 - 2020-06-02 08:00:00\n",
      "2021-01-27 15:27:58,206 - simulator - INFO - Info for rank 0, Date = 2020-06-02 08:00:00, number of deaths =  0, number of infected = 675\n",
      "2021-01-27 15:27:58,261 - simulator - INFO - CMS: Infection COMS-v2 for rank 0/1(2) 0.0002618210000022714,0.00026106834411621094 - 2020-06-02 08:00:00\n",
      "2021-01-27 15:27:58,306 - simulator - INFO - CMS: Timestep for rank 0/1 - 0.4195645770000027, 0.4194822311401367 - 2020-06-02 08:00:00\n",
      "\n",
      "2021-01-27 15:27:58,307 - simulator - INFO - ==================== timestep ====================\n",
      "2021-01-27 15:27:58,439 - activity_manager - INFO - CMS: People COMS for rank 0/1 - 4.41799999961745e-06,3.0994415283203125e-06 - 2020-06-02 10:00:00\n",
      "2021-01-27 15:27:58,444 - simulator - INFO - Info for rank 0, Date = 2020-06-02 10:00:00, number of deaths =  0, number of infected = 710\n",
      "2021-01-27 15:27:58,506 - simulator - INFO - CMS: Infection COMS-v2 for rank 0/1(2) 0.00014095099999877903,0.0001399517059326172 - 2020-06-02 10:00:00\n",
      "2021-01-27 15:27:58,553 - simulator - INFO - CMS: Timestep for rank 0/1 - 0.2456437600000001, 0.24559807777404785 - 2020-06-02 10:00:00\n",
      "\n",
      "2021-01-27 15:27:58,554 - simulator - INFO - ==================== timestep ====================\n",
      "2021-01-27 15:27:58,691 - activity_manager - INFO - CMS: People COMS for rank 0/1 - 2.7920000000847267e-06,2.1457672119140625e-06 - 2020-06-03 00:00:00\n",
      "2021-01-27 15:27:58,695 - simulator - INFO - Info for rank 0, Date = 2020-06-03 00:00:00, number of deaths =  0, number of infected = 808\n",
      "2021-01-27 15:27:58,741 - simulator - INFO - CMS: Infection COMS-v2 for rank 0/1(2) 0.00013694500000127618,0.00013589859008789062 - 2020-06-03 00:00:00\n",
      "2021-01-27 15:27:58,788 - simulator - INFO - CMS: Timestep for rank 0/1 - 0.233893541999997, 0.23385095596313477 - 2020-06-03 00:00:00\n",
      "\n"
     ]
    },
    {
     "name": "stdout",
     "output_type": "stream",
     "text": [
      "2021-01-27 15:27:58,789 - simulator - INFO - ==================== timestep ====================\n",
      "2021-01-27 15:27:59,099 - activity_manager - INFO - CMS: People COMS for rank 0/1 - 3.139000000373926e-06,2.1457672119140625e-06 - 2020-06-03 02:00:00\n",
      "2021-01-27 15:27:59,104 - simulator - INFO - Info for rank 0, Date = 2020-06-03 02:00:00, number of deaths =  0, number of infected = 832\n",
      "2021-01-27 15:27:59,161 - simulator - INFO - CMS: Infection COMS-v2 for rank 0/1(2) 0.00013618300000217687,0.0001361370086669922 - 2020-06-03 02:00:00\n",
      "2021-01-27 15:27:59,208 - simulator - INFO - CMS: Timestep for rank 0/1 - 0.4185919009999992, 0.4185140132904053 - 2020-06-03 02:00:00\n",
      "\n",
      "2021-01-27 15:27:59,209 - simulator - INFO - ==================== timestep ====================\n",
      "2021-01-27 15:27:59,526 - activity_manager - INFO - CMS: People COMS for rank 0/1 - 2.9469999986986295e-06,2.1457672119140625e-06 - 2020-06-03 04:00:00\n",
      "2021-01-27 15:27:59,531 - simulator - INFO - Info for rank 0, Date = 2020-06-03 04:00:00, number of deaths =  0, number of infected = 882\n",
      "2021-01-27 15:27:59,593 - simulator - INFO - CMS: Infection COMS-v2 for rank 0/1(2) 0.0001378619999989894,0.00013709068298339844 - 2020-06-03 04:00:00\n",
      "2021-01-27 15:27:59,638 - simulator - INFO - CMS: Timestep for rank 0/1 - 0.4294429710000003, 0.429365873336792 - 2020-06-03 04:00:00\n",
      "\n",
      "2021-01-27 15:27:59,639 - simulator - INFO - ==================== timestep ====================\n",
      "2021-01-27 15:27:59,948 - activity_manager - INFO - CMS: People COMS for rank 0/1 - 3.4920000011595675e-06,3.0994415283203125e-06 - 2020-06-03 06:00:00\n",
      "2021-01-27 15:27:59,953 - simulator - INFO - Info for rank 0, Date = 2020-06-03 06:00:00, number of deaths =  0, number of infected = 934\n",
      "2021-01-27 15:28:00,017 - simulator - INFO - CMS: Infection COMS-v2 for rank 0/1(2) 0.00011258400000002666,0.00011229515075683594 - 2020-06-03 06:00:00\n",
      "2021-01-27 15:28:00,063 - simulator - INFO - CMS: Timestep for rank 0/1 - 0.42389558400000027, 0.42382192611694336 - 2020-06-03 06:00:00\n",
      "\n",
      "2021-01-27 15:28:00,064 - simulator - INFO - ==================== timestep ====================\n",
      "2021-01-27 15:28:00,377 - activity_manager - INFO - CMS: People COMS for rank 0/1 - 3.130999999712003e-06,2.86102294921875e-06 - 2020-06-03 08:00:00\n",
      "2021-01-27 15:28:00,381 - simulator - INFO - Info for rank 0, Date = 2020-06-03 08:00:00, number of deaths =  0, number of infected = 981\n",
      "2021-01-27 15:28:00,446 - simulator - INFO - CMS: Infection COMS-v2 for rank 0/1(2) 0.0001436689999998464,0.00014281272888183594 - 2020-06-03 08:00:00\n",
      "2021-01-27 15:28:00,495 - simulator - INFO - CMS: Timestep for rank 0/1 - 0.43092701600000183, 0.43085408210754395 - 2020-06-03 08:00:00\n",
      "\n",
      "2021-01-27 15:28:00,496 - simulator - INFO - ==================== timestep ====================\n",
      "2021-01-27 15:28:00,636 - activity_manager - INFO - CMS: People COMS for rank 0/1 - 2.536000000219474e-06,1.6689300537109375e-06 - 2020-06-03 10:00:00\n",
      "2021-01-27 15:28:00,641 - simulator - INFO - Info for rank 0, Date = 2020-06-03 10:00:00, number of deaths =  0, number of infected = 1033\n",
      "2021-01-27 15:28:00,734 - simulator - INFO - CMS: Infection COMS-v2 for rank 0/1(2) 0.00013687000000217608,0.00013589859008789062 - 2020-06-03 10:00:00\n",
      "2021-01-27 15:28:00,780 - simulator - INFO - CMS: Timestep for rank 0/1 - 0.2833257220000007, 0.2832810878753662 - 2020-06-03 10:00:00\n",
      "\n",
      "2021-01-27 15:28:00,781 - simulator - INFO - ==================== timestep ====================\n",
      "2021-01-27 15:28:00,914 - activity_manager - INFO - CMS: People COMS for rank 0/1 - 2.556999998404308e-06,2.1457672119140625e-06 - 2020-06-04 00:00:00\n",
      "2021-01-27 15:28:00,917 - simulator - INFO - Info for rank 0, Date = 2020-06-04 00:00:00, number of deaths =  0, number of infected = 1251\n",
      "2021-01-27 15:28:00,969 - simulator - INFO - CMS: Infection COMS-v2 for rank 0/1(2) 0.00011823800000243523,0.00011706352233886719 - 2020-06-04 00:00:00\n",
      "2021-01-27 15:28:01,019 - simulator - INFO - CMS: Timestep for rank 0/1 - 0.23706895899999836, 0.2370319366455078 - 2020-06-04 00:00:00\n",
      "\n",
      "2021-01-27 15:28:01,019 - simulator - INFO - ==================== timestep ====================\n",
      "2021-01-27 15:28:01,331 - activity_manager - INFO - CMS: People COMS for rank 0/1 - 3.272999997250281e-06,2.86102294921875e-06 - 2020-06-04 02:00:00\n",
      "2021-01-27 15:28:01,335 - simulator - INFO - Info for rank 0, Date = 2020-06-04 02:00:00, number of deaths =  0, number of infected = 1308\n",
      "2021-01-27 15:28:01,400 - simulator - INFO - CMS: Infection COMS-v2 for rank 0/1(2) 0.00014565499999719123,0.00014495849609375 - 2020-06-04 02:00:00\n",
      "2021-01-27 15:28:01,446 - simulator - INFO - CMS: Timestep for rank 0/1 - 0.42644783199999736, 0.4263801574707031 - 2020-06-04 02:00:00\n",
      "\n",
      "2021-01-27 15:28:01,447 - simulator - INFO - ==================== timestep ====================\n",
      "2021-01-27 15:28:01,758 - activity_manager - INFO - CMS: People COMS for rank 0/1 - 3.0899999998723615e-06,3.0994415283203125e-06 - 2020-06-04 04:00:00\n",
      "2021-01-27 15:28:01,763 - simulator - INFO - Info for rank 0, Date = 2020-06-04 04:00:00, number of deaths =  0, number of infected = 1381\n",
      "2021-01-27 15:28:01,839 - simulator - INFO - CMS: Infection COMS-v2 for rank 0/1(2) 0.00024960700000065117,0.00024890899658203125 - 2020-06-04 04:00:00\n",
      "2021-01-27 15:28:01,888 - simulator - INFO - CMS: Timestep for rank 0/1 - 0.4410640920000013, 0.44100093841552734 - 2020-06-04 04:00:00\n",
      "\n",
      "2021-01-27 15:28:01,889 - simulator - INFO - ==================== timestep ====================\n",
      "2021-01-27 15:28:02,203 - activity_manager - INFO - CMS: People COMS for rank 0/1 - 3.3370000025456648e-06,2.86102294921875e-06 - 2020-06-04 06:00:00\n",
      "2021-01-27 15:28:02,208 - simulator - INFO - Info for rank 0, Date = 2020-06-04 06:00:00, number of deaths =  0, number of infected = 1453\n",
      "2021-01-27 15:28:02,285 - simulator - INFO - CMS: Infection COMS-v2 for rank 0/1(2) 0.00014917399999703207,0.00014781951904296875 - 2020-06-04 06:00:00\n",
      "2021-01-27 15:28:02,337 - simulator - INFO - CMS: Timestep for rank 0/1 - 0.4473764659999979, 0.4473111629486084 - 2020-06-04 06:00:00\n",
      "\n",
      "2021-01-27 15:28:02,337 - simulator - INFO - ==================== timestep ====================\n",
      "2021-01-27 15:28:02,660 - activity_manager - INFO - CMS: People COMS for rank 0/1 - 3.4349999964433664e-06,3.0994415283203125e-06 - 2020-06-04 08:00:00\n",
      "2021-01-27 15:28:02,664 - simulator - INFO - Info for rank 0, Date = 2020-06-04 08:00:00, number of deaths =  0, number of infected = 1528\n",
      "2021-01-27 15:28:02,743 - simulator - INFO - CMS: Infection COMS-v2 for rank 0/1(2) 0.0001401540000003365,0.0001399517059326172 - 2020-06-04 08:00:00\n",
      "2021-01-27 15:28:02,796 - simulator - INFO - CMS: Timestep for rank 0/1 - 0.4578844390000043, 0.4578218460083008 - 2020-06-04 08:00:00\n",
      "\n",
      "2021-01-27 15:28:02,796 - simulator - INFO - ==================== timestep ====================\n",
      "2021-01-27 15:28:02,935 - activity_manager - INFO - CMS: People COMS for rank 0/1 - 2.6490000024637084e-06,2.1457672119140625e-06 - 2020-06-04 10:00:00\n",
      "2021-01-27 15:28:02,939 - simulator - INFO - Info for rank 0, Date = 2020-06-04 10:00:00, number of deaths =  0, number of infected = 1609\n",
      "2021-01-27 15:28:03,058 - simulator - INFO - CMS: Infection COMS-v2 for rank 0/1(2) 0.0003143550000004325,0.0003139972686767578 - 2020-06-04 10:00:00\n",
      "2021-01-27 15:28:03,110 - simulator - INFO - CMS: Timestep for rank 0/1 - 0.3130931690000054, 0.3130512237548828 - 2020-06-04 10:00:00\n",
      "\n",
      "2021-01-27 15:28:03,111 - simulator - INFO - ==================== timestep ====================\n",
      "2021-01-27 15:28:03,250 - activity_manager - INFO - CMS: People COMS for rank 0/1 - 2.3830000017710518e-06,2.1457672119140625e-06 - 2020-06-05 00:00:00\n",
      "2021-01-27 15:28:03,254 - simulator - INFO - Info for rank 0, Date = 2020-06-05 00:00:00, number of deaths =  0, number of infected = 1916\n",
      "2021-01-27 15:28:03,318 - simulator - INFO - CMS: Infection COMS-v2 for rank 0/1(2) 0.0002689759999938701,0.00026798248291015625 - 2020-06-05 00:00:00\n",
      "2021-01-27 15:28:03,369 - simulator - INFO - CMS: Timestep for rank 0/1 - 0.257484680999994, 0.25745105743408203 - 2020-06-05 00:00:00\n",
      "\n",
      "2021-01-27 15:28:03,369 - simulator - INFO - ==================== timestep ====================\n",
      "2021-01-27 15:28:03,684 - activity_manager - INFO - CMS: People COMS for rank 0/1 - 3.216000003192221e-06,2.86102294921875e-06 - 2020-06-05 02:00:00\n"
     ]
    },
    {
     "name": "stdout",
     "output_type": "stream",
     "text": [
      "2021-01-27 15:28:03,689 - simulator - INFO - Info for rank 0, Date = 2020-06-05 02:00:00, number of deaths =  0, number of infected = 2015\n",
      "2021-01-27 15:28:03,772 - simulator - INFO - CMS: Infection COMS-v2 for rank 0/1(2) 0.00030716699999544517,0.00030684471130371094 - 2020-06-05 02:00:00\n",
      "2021-01-27 15:28:03,822 - simulator - INFO - CMS: Timestep for rank 0/1 - 0.4527966090000035, 0.4527401924133301 - 2020-06-05 02:00:00\n",
      "\n",
      "2021-01-27 15:28:03,823 - simulator - INFO - ==================== timestep ====================\n",
      "2021-01-27 15:28:04,131 - activity_manager - INFO - CMS: People COMS for rank 0/1 - 3.2339999975761202e-06,3.0994415283203125e-06 - 2020-06-05 04:00:00\n",
      "2021-01-27 15:28:04,136 - simulator - INFO - Info for rank 0, Date = 2020-06-05 04:00:00, number of deaths =  0, number of infected = 2140\n",
      "2021-01-27 15:28:04,218 - simulator - INFO - CMS: Infection COMS-v2 for rank 0/1(2) 0.00022435500000028696,0.00022292137145996094 - 2020-06-05 04:00:00\n",
      "2021-01-27 15:28:04,269 - simulator - INFO - CMS: Timestep for rank 0/1 - 0.4456006039999991, 0.445544958114624 - 2020-06-05 04:00:00\n",
      "\n",
      "2021-01-27 15:28:04,270 - simulator - INFO - ==================== timestep ====================\n",
      "2021-01-27 15:28:04,579 - activity_manager - INFO - CMS: People COMS for rank 0/1 - 3.583000001583514e-06,3.0994415283203125e-06 - 2020-06-05 06:00:00\n",
      "2021-01-27 15:28:04,583 - simulator - INFO - Info for rank 0, Date = 2020-06-05 06:00:00, number of deaths =  0, number of infected = 2249\n",
      "2021-01-27 15:28:04,662 - simulator - INFO - CMS: Infection COMS-v2 for rank 0/1(2) 0.00044621300000358133,0.0004458427429199219 - 2020-06-05 06:00:00\n",
      "2021-01-27 15:28:04,718 - simulator - INFO - CMS: Timestep for rank 0/1 - 0.44845928000000157, 0.4484066963195801 - 2020-06-05 06:00:00\n",
      "\n",
      "2021-01-27 15:28:04,719 - simulator - INFO - ==================== timestep ====================\n",
      "2021-01-27 15:28:05,035 - activity_manager - INFO - CMS: People COMS for rank 0/1 - 3.2940000025405425e-06,3.0994415283203125e-06 - 2020-06-05 08:00:00\n",
      "2021-01-27 15:28:05,040 - simulator - INFO - Info for rank 0, Date = 2020-06-05 08:00:00, number of deaths =  0, number of infected = 2347\n",
      "2021-01-27 15:28:05,125 - simulator - INFO - CMS: Infection COMS-v2 for rank 0/1(2) 0.00012009400000323467,0.00011992454528808594 - 2020-06-05 08:00:00\n",
      "2021-01-27 15:28:05,178 - simulator - INFO - CMS: Timestep for rank 0/1 - 0.45859166799999684, 0.4585390090942383 - 2020-06-05 08:00:00\n",
      "\n",
      "2021-01-27 15:28:05,179 - simulator - INFO - ==================== timestep ====================\n",
      "2021-01-27 15:28:05,314 - activity_manager - INFO - CMS: People COMS for rank 0/1 - 2.215999998611551e-06,1.9073486328125e-06 - 2020-06-05 10:00:00\n",
      "2021-01-27 15:28:05,318 - simulator - INFO - Info for rank 0, Date = 2020-06-05 10:00:00, number of deaths =  0, number of infected = 2476\n",
      "2021-01-27 15:28:05,468 - simulator - INFO - CMS: Infection COMS-v2 for rank 0/1(2) 0.00023159500000247135,0.00023126602172851562 - 2020-06-05 10:00:00\n",
      "2021-01-27 15:28:05,523 - simulator - INFO - CMS: Timestep for rank 0/1 - 0.34371231800000146, 0.3436729907989502 - 2020-06-05 10:00:00\n",
      "\n",
      "2021-01-27 15:28:05,524 - simulator - INFO - ==================== timestep ====================\n",
      "2021-01-27 15:28:05,663 - activity_manager - INFO - CMS: People COMS for rank 0/1 - 2.2640000025830886e-06,1.1920928955078125e-06 - 2020-06-06 00:00:00\n",
      "2021-01-27 15:28:05,667 - simulator - INFO - Info for rank 0, Date = 2020-06-06 00:00:00, number of deaths =  0, number of infected = 2902\n",
      "2021-01-27 15:28:05,739 - simulator - INFO - CMS: Infection COMS-v2 for rank 0/1(2) 0.00012470800000130566,0.00012493133544921875 - 2020-06-06 00:00:00\n",
      "2021-01-27 15:28:05,792 - simulator - INFO - CMS: Timestep for rank 0/1 - 0.2677996590000049, 0.26777172088623047 - 2020-06-06 00:00:00\n",
      "\n",
      "2021-01-27 15:28:05,792 - simulator - INFO - ==================== timestep ====================\n",
      "2021-01-27 15:28:06,114 - activity_manager - INFO - CMS: People COMS for rank 0/1 - 3.2780000012166965e-06,3.0994415283203125e-06 - 2020-06-06 03:00:00\n",
      "2021-01-27 15:28:06,118 - simulator - INFO - Info for rank 0, Date = 2020-06-06 03:00:00, number of deaths =  0, number of infected = 3036\n",
      "2021-01-27 15:28:06,208 - simulator - INFO - CMS: Infection COMS-v2 for rank 0/1(2) 0.00015672899999685797,0.00015592575073242188 - 2020-06-06 03:00:00\n",
      "2021-01-27 15:28:06,262 - simulator - INFO - CMS: Timestep for rank 0/1 - 0.46907181299999934, 0.4690229892730713 - 2020-06-06 03:00:00\n",
      "\n",
      "2021-01-27 15:28:06,263 - simulator - INFO - ==================== timestep ====================\n",
      "2021-01-27 15:28:06,578 - activity_manager - INFO - CMS: People COMS for rank 0/1 - 3.22300000021869e-06,3.0994415283203125e-06 - 2020-06-06 05:00:00\n",
      "2021-01-27 15:28:06,583 - simulator - INFO - Info for rank 0, Date = 2020-06-06 05:00:00, number of deaths =  0, number of infected = 3181\n",
      "2021-01-27 15:28:06,678 - simulator - INFO - CMS: Infection COMS-v2 for rank 0/1(2) 0.00012193400000626298,0.00012087821960449219 - 2020-06-06 05:00:00\n",
      "2021-01-27 15:28:06,737 - simulator - INFO - CMS: Timestep for rank 0/1 - 0.4737452250000018, 0.47369813919067383 - 2020-06-06 05:00:00\n",
      "\n",
      "2021-01-27 15:28:06,737 - simulator - INFO - ==================== timestep ====================\n",
      "2021-01-27 15:28:07,059 - activity_manager - INFO - CMS: People COMS for rank 0/1 - 3.575000000921591e-06,3.0994415283203125e-06 - 2020-06-06 07:00:00\n",
      "2021-01-27 15:28:07,063 - simulator - INFO - Info for rank 0, Date = 2020-06-06 07:00:00, number of deaths =  0, number of infected = 3332\n",
      "2021-01-27 15:28:07,158 - simulator - INFO - CMS: Infection COMS-v2 for rank 0/1(2) 0.00011728900000207432,0.00011706352233886719 - 2020-06-06 07:00:00\n",
      "2021-01-27 15:28:07,215 - simulator - INFO - CMS: Timestep for rank 0/1 - 0.47737165600000253, 0.4773240089416504 - 2020-06-06 07:00:00\n",
      "\n",
      "2021-01-27 15:28:07,216 - simulator - INFO - ==================== timestep ====================\n",
      "2021-01-27 15:28:07,530 - activity_manager - INFO - CMS: People COMS for rank 0/1 - 3.31400000419535e-06,2.86102294921875e-06 - 2020-06-06 09:00:00\n",
      "2021-01-27 15:28:07,535 - simulator - INFO - Info for rank 0, Date = 2020-06-06 09:00:00, number of deaths =  0, number of infected = 3476\n",
      "2021-01-27 15:28:07,643 - simulator - INFO - CMS: Infection COMS-v2 for rank 0/1(2) 0.0002811740000012719,0.00028014183044433594 - 2020-06-06 09:00:00\n",
      "2021-01-27 15:28:07,704 - simulator - INFO - CMS: Timestep for rank 0/1 - 0.48730451099999783, 0.4872581958770752 - 2020-06-06 09:00:00\n",
      "\n",
      "2021-01-27 15:28:07,704 - simulator - INFO - ==================== timestep ====================\n",
      "2021-01-27 15:28:07,845 - activity_manager - INFO - CMS: People COMS for rank 0/1 - 2.4499999966565156e-06,2.1457672119140625e-06 - 2020-06-06 11:00:00\n",
      "2021-01-27 15:28:07,850 - simulator - INFO - Info for rank 0, Date = 2020-06-06 11:00:00, number of deaths =  0, number of infected = 3644\n",
      "2021-01-27 15:28:08,036 - simulator - INFO - CMS: Infection COMS-v2 for rank 0/1(2) 0.00026349099999833925,0.00026297569274902344 - 2020-06-06 11:00:00\n",
      "2021-01-27 15:28:08,095 - simulator - INFO - CMS: Timestep for rank 0/1 - 0.38979457800000006, 0.38976001739501953 - 2020-06-06 11:00:00\n",
      "\n",
      "2021-01-27 15:28:08,095 - simulator - INFO - ==================== timestep ====================\n",
      "2021-01-27 15:28:08,230 - activity_manager - INFO - CMS: People COMS for rank 0/1 - 2.7279999983420566e-06,2.1457672119140625e-06 - 2020-06-07 00:00:00\n",
      "2021-01-27 15:28:08,235 - simulator - INFO - Info for rank 0, Date = 2020-06-07 00:00:00, number of deaths =  0, number of infected = 4179\n",
      "2021-01-27 15:28:08,323 - simulator - INFO - CMS: Infection COMS-v2 for rank 0/1(2) 0.00014380100000010998,0.0001430511474609375 - 2020-06-07 00:00:00\n",
      "2021-01-27 15:28:08,470 - simulator - INFO - CMS: Timestep for rank 0/1 - 0.3746936580000053, 0.3746607303619385 - 2020-06-07 00:00:00\n",
      "\n",
      "2021-01-27 15:28:08,471 - simulator - INFO - ==================== timestep ====================\n",
      "2021-01-27 15:28:08,806 - activity_manager - INFO - CMS: People COMS for rank 0/1 - 3.327000001718261e-06,3.0994415283203125e-06 - 2020-06-07 03:00:00\n",
      "2021-01-27 15:28:08,810 - simulator - INFO - Info for rank 0, Date = 2020-06-07 03:00:00, number of deaths =  0, number of infected = 4362\n"
     ]
    },
    {
     "name": "stdout",
     "output_type": "stream",
     "text": [
      "2021-01-27 15:28:08,920 - simulator - INFO - CMS: Infection COMS-v2 for rank 0/1(2) 0.00011641100000048255,0.00011491775512695312 - 2020-06-07 03:00:00\n",
      "2021-01-27 15:28:08,979 - simulator - INFO - CMS: Timestep for rank 0/1 - 0.5069769460000018, 0.5069360733032227 - 2020-06-07 03:00:00\n",
      "\n",
      "2021-01-27 15:28:08,980 - simulator - INFO - ==================== timestep ====================\n",
      "2021-01-27 15:28:09,295 - activity_manager - INFO - CMS: People COMS for rank 0/1 - 3.8109999991320365e-06,3.814697265625e-06 - 2020-06-07 05:00:00\n",
      "2021-01-27 15:28:09,299 - simulator - INFO - Info for rank 0, Date = 2020-06-07 05:00:00, number of deaths =  0, number of infected = 4550\n",
      "2021-01-27 15:28:09,411 - simulator - INFO - CMS: Infection COMS-v2 for rank 0/1(2) 0.00011488100000178747,0.00011420249938964844 - 2020-06-07 05:00:00\n",
      "2021-01-27 15:28:09,475 - simulator - INFO - CMS: Timestep for rank 0/1 - 0.4947005269999991, 0.4946610927581787 - 2020-06-07 05:00:00\n",
      "\n",
      "2021-01-27 15:28:09,476 - simulator - INFO - ==================== timestep ====================\n",
      "2021-01-27 15:28:09,787 - activity_manager - INFO - CMS: People COMS for rank 0/1 - 3.0520000038336548e-06,3.0994415283203125e-06 - 2020-06-07 07:00:00\n",
      "2021-01-27 15:28:09,791 - simulator - INFO - Info for rank 0, Date = 2020-06-07 07:00:00, number of deaths =  0, number of infected = 4739\n",
      "2021-01-27 15:28:09,899 - simulator - INFO - CMS: Infection COMS-v2 for rank 0/1(2) 0.00011410899999475532,0.00011277198791503906 - 2020-06-07 07:00:00\n",
      "2021-01-27 15:28:09,964 - simulator - INFO - CMS: Timestep for rank 0/1 - 0.4880623390000025, 0.4880249500274658 - 2020-06-07 07:00:00\n",
      "\n",
      "2021-01-27 15:28:09,965 - simulator - INFO - ==================== timestep ====================\n",
      "2021-01-27 15:28:10,281 - activity_manager - INFO - CMS: People COMS for rank 0/1 - 3.1910000046764253e-06,3.0994415283203125e-06 - 2020-06-07 09:00:00\n",
      "2021-01-27 15:28:10,286 - simulator - INFO - Info for rank 0, Date = 2020-06-07 09:00:00, number of deaths =  0, number of infected = 4944\n",
      "2021-01-27 15:28:10,415 - simulator - INFO - CMS: Infection COMS-v2 for rank 0/1(2) 0.00012539600000138762,0.00012493133544921875 - 2020-06-07 09:00:00\n",
      "2021-01-27 15:28:10,479 - simulator - INFO - CMS: Timestep for rank 0/1 - 0.5141028560000009, 0.5140652656555176 - 2020-06-07 09:00:00\n",
      "\n",
      "2021-01-27 15:28:10,480 - simulator - INFO - ==================== timestep ====================\n",
      "2021-01-27 15:28:10,616 - activity_manager - INFO - CMS: People COMS for rank 0/1 - 2.2480000012592427e-06,2.1457672119140625e-06 - 2020-06-07 11:00:00\n",
      "2021-01-27 15:28:10,621 - simulator - INFO - Info for rank 0, Date = 2020-06-07 11:00:00, number of deaths =  0, number of infected = 5217\n",
      "2021-01-27 15:28:10,836 - simulator - INFO - CMS: Infection COMS-v2 for rank 0/1(2) 0.00028466899999557427,0.00028324127197265625 - 2020-06-07 11:00:00\n",
      "2021-01-27 15:28:10,903 - simulator - INFO - CMS: Timestep for rank 0/1 - 0.42257740599999494, 0.4225480556488037 - 2020-06-07 11:00:00\n",
      "\n",
      "2021-01-27 15:28:10,904 - simulator - INFO - ==================== timestep ====================\n",
      "2021-01-27 15:28:11,041 - activity_manager - INFO - CMS: People COMS for rank 0/1 - 2.7970000004984286e-06,1.9073486328125e-06 - 2020-06-08 00:00:00\n",
      "2021-01-27 15:28:11,045 - simulator - INFO - Info for rank 0, Date = 2020-06-08 00:00:00, number of deaths =  0, number of infected = 5890\n",
      "2021-01-27 15:28:11,139 - simulator - INFO - CMS: Infection COMS-v2 for rank 0/1(2) 0.00015434800000235782,0.00015306472778320312 - 2020-06-08 00:00:00\n",
      "2021-01-27 15:28:11,218 - simulator - INFO - CMS: Timestep for rank 0/1 - 0.31338208799999734, 0.31335973739624023 - 2020-06-08 00:00:00\n",
      "\n",
      "2021-01-27 15:28:11,219 - simulator - INFO - ==================== timestep ====================\n",
      "2021-01-27 15:28:11,544 - activity_manager - INFO - CMS: People COMS for rank 0/1 - 3.3379999990756914e-06,2.86102294921875e-06 - 2020-06-08 02:00:00\n",
      "2021-01-27 15:28:11,549 - simulator - INFO - Info for rank 0, Date = 2020-06-08 02:00:00, number of deaths =  0, number of infected = 6082\n",
      "2021-01-27 15:28:11,696 - simulator - INFO - CMS: Infection COMS-v2 for rank 0/1(2) 0.00030250199999670713,0.0003006458282470703 - 2020-06-08 02:00:00\n",
      "2021-01-27 15:28:11,769 - simulator - INFO - CMS: Timestep for rank 0/1 - 0.5495905329999999, 0.5495560169219971 - 2020-06-08 02:00:00\n",
      "\n",
      "2021-01-27 15:28:11,769 - simulator - INFO - ==================== timestep ====================\n",
      "2021-01-27 15:28:12,082 - activity_manager - INFO - CMS: People COMS for rank 0/1 - 3.221000000053209e-06,2.86102294921875e-06 - 2020-06-08 04:00:00\n",
      "2021-01-27 15:28:12,087 - simulator - INFO - Info for rank 0, Date = 2020-06-08 04:00:00, number of deaths =  0, number of infected = 6367\n",
      "2021-01-27 15:28:12,221 - simulator - INFO - CMS: Infection COMS-v2 for rank 0/1(2) 0.0001328609999973196,0.0001323223114013672 - 2020-06-08 04:00:00\n",
      "2021-01-27 15:28:12,299 - simulator - INFO - CMS: Timestep for rank 0/1 - 0.529138531000001, 0.5291059017181396 - 2020-06-08 04:00:00\n",
      "\n",
      "2021-01-27 15:28:12,299 - simulator - INFO - ==================== timestep ====================\n",
      "2021-01-27 15:28:12,624 - activity_manager - INFO - CMS: People COMS for rank 0/1 - 3.456000001733628e-06,2.86102294921875e-06 - 2020-06-08 06:00:00\n",
      "2021-01-27 15:28:12,628 - simulator - INFO - Info for rank 0, Date = 2020-06-08 06:00:00, number of deaths =  0, number of infected = 6659\n",
      "2021-01-27 15:28:12,772 - simulator - INFO - CMS: Infection COMS-v2 for rank 0/1(2) 0.0001762939999991886,0.00017499923706054688 - 2020-06-08 06:00:00\n",
      "2021-01-27 15:28:12,853 - simulator - INFO - CMS: Timestep for rank 0/1 - 0.5535952050000006, 0.5535640716552734 - 2020-06-08 06:00:00\n",
      "\n",
      "2021-01-27 15:28:12,854 - simulator - INFO - ==================== timestep ====================\n",
      "2021-01-27 15:28:13,201 - activity_manager - INFO - CMS: People COMS for rank 0/1 - 3.702000000771477e-06,2.86102294921875e-06 - 2020-06-08 08:00:00\n",
      "2021-01-27 15:28:13,206 - simulator - INFO - Info for rank 0, Date = 2020-06-08 08:00:00, number of deaths =  0, number of infected = 6935\n",
      "2021-01-27 15:28:13,346 - simulator - INFO - CMS: Infection COMS-v2 for rank 0/1(2) 0.00014379699999977902,0.00014281272888183594 - 2020-06-08 08:00:00\n",
      "2021-01-27 15:28:13,421 - simulator - INFO - CMS: Timestep for rank 0/1 - 0.5658090169999994, 0.5657777786254883 - 2020-06-08 08:00:00\n",
      "\n",
      "2021-01-27 15:28:13,421 - simulator - INFO - ==================== timestep ====================\n",
      "2021-01-27 15:28:13,564 - activity_manager - INFO - CMS: People COMS for rank 0/1 - 2.1760000024073634e-06,1.9073486328125e-06 - 2020-06-08 10:00:00\n",
      "2021-01-27 15:28:13,569 - simulator - INFO - Info for rank 0, Date = 2020-06-08 10:00:00, number of deaths =  0, number of infected = 7226\n",
      "2021-01-27 15:28:13,873 - simulator - INFO - CMS: Infection COMS-v2 for rank 0/1(2) 9.906599999709442e-05,9.799003601074219e-05 - 2020-06-08 10:00:00\n",
      "2021-01-27 15:28:13,958 - simulator - INFO - CMS: Timestep for rank 0/1 - 0.5360435250000037, 0.5360171794891357 - 2020-06-08 10:00:00\n",
      "\n",
      "2021-01-27 15:28:13,958 - simulator - INFO - ==================== timestep ====================\n",
      "2021-01-27 15:28:14,102 - activity_manager - INFO - CMS: People COMS for rank 0/1 - 2.82099999537877e-06,3.0994415283203125e-06 - 2020-06-09 00:00:00\n",
      "2021-01-27 15:28:14,107 - simulator - INFO - Info for rank 0, Date = 2020-06-09 00:00:00, number of deaths =  0, number of infected = 8237\n",
      "2021-01-27 15:28:14,219 - simulator - INFO - CMS: Infection COMS-v2 for rank 0/1(2) 0.00021659400000118012,0.00021600723266601562 - 2020-06-09 00:00:00\n",
      "2021-01-27 15:28:14,303 - simulator - INFO - CMS: Timestep for rank 0/1 - 0.34417442899999884, 0.3441581726074219 - 2020-06-09 00:00:00\n",
      "\n",
      "2021-01-27 15:28:14,304 - simulator - INFO - ==================== timestep ====================\n",
      "2021-01-27 15:28:14,617 - activity_manager - INFO - CMS: People COMS for rank 0/1 - 3.6049999962983748e-06,2.86102294921875e-06 - 2020-06-09 02:00:00\n",
      "2021-01-27 15:28:14,622 - simulator - INFO - Info for rank 0, Date = 2020-06-09 02:00:00, number of deaths =  0, number of infected = 8483\n",
      "2021-01-27 15:28:14,760 - simulator - INFO - CMS: Infection COMS-v2 for rank 0/1(2) 0.0002494599999991465,0.0002491474151611328 - 2020-06-09 02:00:00\n"
     ]
    },
    {
     "name": "stdout",
     "output_type": "stream",
     "text": [
      "2021-01-27 15:28:14,846 - simulator - INFO - CMS: Timestep for rank 0/1 - 0.5419411419999989, 0.5419178009033203 - 2020-06-09 02:00:00\n",
      "\n",
      "2021-01-27 15:28:14,847 - simulator - INFO - ==================== timestep ====================\n",
      "2021-01-27 15:28:15,164 - activity_manager - INFO - CMS: People COMS for rank 0/1 - 3.0309999985433933e-06,2.1457672119140625e-06 - 2020-06-09 04:00:00\n",
      "2021-01-27 15:28:15,169 - simulator - INFO - Info for rank 0, Date = 2020-06-09 04:00:00, number of deaths =  0, number of infected = 8773\n",
      "2021-01-27 15:28:15,304 - simulator - INFO - CMS: Infection COMS-v2 for rank 0/1(2) 0.0002006519999966372,0.00019979476928710938 - 2020-06-09 04:00:00\n",
      "2021-01-27 15:28:15,388 - simulator - INFO - CMS: Timestep for rank 0/1 - 0.541338279999998, 0.5413141250610352 - 2020-06-09 04:00:00\n",
      "\n",
      "2021-01-27 15:28:15,389 - simulator - INFO - ==================== timestep ====================\n",
      "2021-01-27 15:28:15,704 - activity_manager - INFO - CMS: People COMS for rank 0/1 - 3.2749999974157618e-06,3.0994415283203125e-06 - 2020-06-09 06:00:00\n",
      "2021-01-27 15:28:15,709 - simulator - INFO - Info for rank 0, Date = 2020-06-09 06:00:00, number of deaths =  0, number of infected = 9057\n",
      "2021-01-27 15:28:15,860 - simulator - INFO - CMS: Infection COMS-v2 for rank 0/1(2) 0.0002476780000009171,0.00024700164794921875 - 2020-06-09 06:00:00\n",
      "2021-01-27 15:28:15,942 - simulator - INFO - CMS: Timestep for rank 0/1 - 0.5529942559999981, 0.5529720783233643 - 2020-06-09 06:00:00\n",
      "\n",
      "2021-01-27 15:28:15,943 - simulator - INFO - ==================== timestep ====================\n",
      "2021-01-27 15:28:16,258 - activity_manager - INFO - CMS: People COMS for rank 0/1 - 3.4349999964433664e-06,3.0994415283203125e-06 - 2020-06-09 08:00:00\n",
      "2021-01-27 15:28:16,265 - simulator - INFO - Info for rank 0, Date = 2020-06-09 08:00:00, number of deaths =  0, number of infected = 9395\n",
      "2021-01-27 15:28:16,417 - simulator - INFO - CMS: Infection COMS-v2 for rank 0/1(2) 0.0001799069999961489,0.00017905235290527344 - 2020-06-09 08:00:00\n",
      "2021-01-27 15:28:16,503 - simulator - INFO - CMS: Timestep for rank 0/1 - 0.5600689059999979, 0.5600471496582031 - 2020-06-09 08:00:00\n",
      "\n",
      "2021-01-27 15:28:16,504 - simulator - INFO - ==================== timestep ====================\n",
      "2021-01-27 15:28:16,652 - activity_manager - INFO - CMS: People COMS for rank 0/1 - 4.146000001981065e-06,4.0531158447265625e-06 - 2020-06-09 10:00:00\n",
      "2021-01-27 15:28:16,657 - simulator - INFO - Info for rank 0, Date = 2020-06-09 10:00:00, number of deaths =  0, number of infected = 9737\n",
      "2021-01-27 15:28:16,999 - simulator - INFO - CMS: Infection COMS-v2 for rank 0/1(2) 0.00010335999999711021,0.00010418891906738281 - 2020-06-09 10:00:00\n",
      "2021-01-27 15:28:17,098 - simulator - INFO - CMS: Timestep for rank 0/1 - 0.5940662189999983, 0.5940461158752441 - 2020-06-09 10:00:00\n",
      "\n",
      "2021-01-27 15:28:17,099 - simulator - INFO - ==================== timestep ====================\n",
      "2021-01-27 15:28:17,252 - activity_manager - INFO - CMS: People COMS for rank 0/1 - 3.718000002095323e-06,3.0994415283203125e-06 - 2020-06-10 00:00:00\n",
      "2021-01-27 15:28:17,257 - simulator - INFO - Info for rank 0, Date = 2020-06-10 00:00:00, number of deaths =  0, number of infected = 10860\n",
      "2021-01-27 15:28:17,386 - simulator - INFO - CMS: Infection COMS-v2 for rank 0/1(2) 0.0001159109999946395,0.0001163482666015625 - 2020-06-10 00:00:00\n",
      "2021-01-27 15:28:17,482 - simulator - INFO - CMS: Timestep for rank 0/1 - 0.3825856109999961, 0.38257384300231934 - 2020-06-10 00:00:00\n",
      "\n",
      "2021-01-27 15:28:17,483 - simulator - INFO - ==================== timestep ====================\n",
      "2021-01-27 15:28:17,801 - activity_manager - INFO - CMS: People COMS for rank 0/1 - 3.2780000012166965e-06,2.1457672119140625e-06 - 2020-06-10 02:00:00\n",
      "2021-01-27 15:28:17,807 - simulator - INFO - Info for rank 0, Date = 2020-06-10 02:00:00, number of deaths =  0, number of infected = 11121\n",
      "2021-01-27 15:28:17,971 - simulator - INFO - CMS: Infection COMS-v2 for rank 0/1(2) 0.0002353340000027515,0.00023603439331054688 - 2020-06-10 02:00:00\n",
      "2021-01-27 15:28:18,073 - simulator - INFO - CMS: Timestep for rank 0/1 - 0.5897858140000025, 0.5897657871246338 - 2020-06-10 02:00:00\n",
      "\n",
      "2021-01-27 15:28:18,074 - simulator - INFO - ==================== timestep ====================\n",
      "2021-01-27 15:28:18,400 - activity_manager - INFO - CMS: People COMS for rank 0/1 - 3.0369999990398355e-06,3.0994415283203125e-06 - 2020-06-10 04:00:00\n",
      "2021-01-27 15:28:18,406 - simulator - INFO - Info for rank 0, Date = 2020-06-10 04:00:00, number of deaths =  0, number of infected = 11456\n",
      "2021-01-27 15:28:18,571 - simulator - INFO - CMS: Infection COMS-v2 for rank 0/1(2) 0.0002473260000002142,0.0002460479736328125 - 2020-06-10 04:00:00\n",
      "2021-01-27 15:28:18,665 - simulator - INFO - CMS: Timestep for rank 0/1 - 0.5905886850000002, 0.5905699729919434 - 2020-06-10 04:00:00\n",
      "\n",
      "2021-01-27 15:28:18,665 - simulator - INFO - ==================== timestep ====================\n",
      "2021-01-27 15:28:18,982 - activity_manager - INFO - CMS: People COMS for rank 0/1 - 3.024999998046951e-06,3.0994415283203125e-06 - 2020-06-10 06:00:00\n",
      "2021-01-27 15:28:18,987 - simulator - INFO - Info for rank 0, Date = 2020-06-10 06:00:00, number of deaths =  0, number of infected = 11820\n",
      "2021-01-27 15:28:19,152 - simulator - INFO - CMS: Infection COMS-v2 for rank 0/1(2) 0.0001000310000023319,0.00010013580322265625 - 2020-06-10 06:00:00\n",
      "2021-01-27 15:28:19,257 - simulator - INFO - CMS: Timestep for rank 0/1 - 0.5914004779999971, 0.5913829803466797 - 2020-06-10 06:00:00\n",
      "\n",
      "2021-01-27 15:28:19,258 - simulator - INFO - ==================== timestep ====================\n",
      "2021-01-27 15:28:19,582 - activity_manager - INFO - CMS: People COMS for rank 0/1 - 3.5500000024057954e-06,3.0994415283203125e-06 - 2020-06-10 08:00:00\n",
      "2021-01-27 15:28:19,588 - simulator - INFO - Info for rank 0, Date = 2020-06-10 08:00:00, number of deaths =  0, number of infected = 12180\n",
      "2021-01-27 15:28:19,753 - simulator - INFO - CMS: Infection COMS-v2 for rank 0/1(2) 0.00029774600000109785,0.0002968311309814453 - 2020-06-10 08:00:00\n",
      "2021-01-27 15:28:19,862 - simulator - INFO - CMS: Timestep for rank 0/1 - 0.6035334930000005, 0.603518009185791 - 2020-06-10 08:00:00\n",
      "\n",
      "2021-01-27 15:28:19,863 - simulator - INFO - ==================== timestep ====================\n",
      "2021-01-27 15:28:20,015 - activity_manager - INFO - CMS: People COMS for rank 0/1 - 3.557999995962291e-06,2.86102294921875e-06 - 2020-06-10 10:00:00\n",
      "2021-01-27 15:28:20,021 - simulator - INFO - Info for rank 0, Date = 2020-06-10 10:00:00, number of deaths =  0, number of infected = 12548\n",
      "2021-01-27 15:28:20,356 - simulator - INFO - CMS: Infection COMS-v2 for rank 0/1(2) 0.0001049299999991149,0.00010395050048828125 - 2020-06-10 10:00:00\n",
      "2021-01-27 15:28:20,471 - simulator - INFO - CMS: Timestep for rank 0/1 - 0.6081328859999999, 0.6081180572509766 - 2020-06-10 10:00:00\n",
      "\n",
      "2021-01-27 15:28:20,472 - simulator - INFO - ==================== timestep ====================\n",
      "2021-01-27 15:28:20,629 - activity_manager - INFO - CMS: People COMS for rank 0/1 - 4.146000001981065e-06,4.0531158447265625e-06 - 2020-06-11 00:00:00\n",
      "2021-01-27 15:28:20,634 - simulator - INFO - Info for rank 0, Date = 2020-06-11 00:00:00, number of deaths =  0, number of infected = 13676\n",
      "2021-01-27 15:28:20,764 - simulator - INFO - CMS: Infection COMS-v2 for rank 0/1(2) 0.00012909199999455723,0.00012803077697753906 - 2020-06-11 00:00:00\n",
      "2021-01-27 15:28:20,873 - simulator - INFO - CMS: Timestep for rank 0/1 - 0.40067943400000416, 0.40067124366760254 - 2020-06-11 00:00:00\n",
      "\n",
      "2021-01-27 15:28:20,873 - simulator - INFO - ==================== timestep ====================\n",
      "2021-01-27 15:28:21,189 - activity_manager - INFO - CMS: People COMS for rank 0/1 - 3.4029999937956745e-06,2.6226043701171875e-06 - 2020-06-11 02:00:00\n",
      "2021-01-27 15:28:21,195 - simulator - INFO - Info for rank 0, Date = 2020-06-11 02:00:00, number of deaths =  0, number of infected = 13946\n",
      "2021-01-27 15:28:21,354 - simulator - INFO - CMS: Infection COMS-v2 for rank 0/1(2) 0.00030504999999436677,0.0003039836883544922 - 2020-06-11 02:00:00\n",
      "2021-01-27 15:28:21,567 - simulator - INFO - CMS: Timestep for rank 0/1 - 0.6934885599999987, 0.6934762001037598 - 2020-06-11 02:00:00\n",
      "\n"
     ]
    },
    {
     "name": "stdout",
     "output_type": "stream",
     "text": [
      "2021-01-27 15:28:21,568 - simulator - INFO - ==================== timestep ====================\n",
      "2021-01-27 15:28:21,907 - activity_manager - INFO - CMS: People COMS for rank 0/1 - 3.2029999985638824e-06,3.0994415283203125e-06 - 2020-06-11 04:00:00\n",
      "2021-01-27 15:28:21,913 - simulator - INFO - Info for rank 0, Date = 2020-06-11 04:00:00, number of deaths =  0, number of infected = 14271\n",
      "2021-01-27 15:28:22,076 - simulator - INFO - CMS: Infection COMS-v2 for rank 0/1(2) 0.00020935100000230022,0.0002079010009765625 - 2020-06-11 04:00:00\n",
      "2021-01-27 15:28:22,195 - simulator - INFO - CMS: Timestep for rank 0/1 - 0.6262001770000012, 0.6261889934539795 - 2020-06-11 04:00:00\n",
      "\n",
      "2021-01-27 15:28:22,195 - simulator - INFO - ==================== timestep ====================\n",
      "2021-01-27 15:28:22,521 - activity_manager - INFO - CMS: People COMS for rank 0/1 - 3.133000006982911e-06,3.0994415283203125e-06 - 2020-06-11 06:00:00\n",
      "2021-01-27 15:28:22,527 - simulator - INFO - Info for rank 0, Date = 2020-06-11 06:00:00, number of deaths =  0, number of infected = 14634\n",
      "2021-01-27 15:28:22,682 - simulator - INFO - CMS: Infection COMS-v2 for rank 0/1(2) 0.00023549399999467369,0.00023508071899414062 - 2020-06-11 06:00:00\n",
      "2021-01-27 15:28:22,803 - simulator - INFO - CMS: Timestep for rank 0/1 - 0.6071113579999974, 0.6071021556854248 - 2020-06-11 06:00:00\n",
      "\n",
      "2021-01-27 15:28:22,804 - simulator - INFO - ==================== timestep ====================\n",
      "2021-01-27 15:28:23,133 - activity_manager - INFO - CMS: People COMS for rank 0/1 - 3.5690000004251488e-06,3.0994415283203125e-06 - 2020-06-11 08:00:00\n",
      "2021-01-27 15:28:23,139 - simulator - INFO - Info for rank 0, Date = 2020-06-11 08:00:00, number of deaths =  0, number of infected = 14943\n",
      "2021-01-27 15:28:23,308 - simulator - INFO - CMS: Infection COMS-v2 for rank 0/1(2) 0.00017873100000542763,0.00017714500427246094 - 2020-06-11 08:00:00\n",
      "2021-01-27 15:28:23,427 - simulator - INFO - CMS: Timestep for rank 0/1 - 0.6231657610000028, 0.6231560707092285 - 2020-06-11 08:00:00\n",
      "\n",
      "2021-01-27 15:28:23,428 - simulator - INFO - ==================== timestep ====================\n",
      "2021-01-27 15:28:23,583 - activity_manager - INFO - CMS: People COMS for rank 0/1 - 3.579999997782579e-06,1.9073486328125e-06 - 2020-06-11 10:00:00\n",
      "2021-01-27 15:28:23,589 - simulator - INFO - Info for rank 0, Date = 2020-06-11 10:00:00, number of deaths =  0, number of infected = 15293\n",
      "2021-01-27 15:28:23,909 - simulator - INFO - CMS: Infection COMS-v2 for rank 0/1(2) 9.837300000015148e-05,9.799003601074219e-05 - 2020-06-11 10:00:00\n",
      "2021-01-27 15:28:24,039 - simulator - INFO - CMS: Timestep for rank 0/1 - 0.6101682870000005, 0.6101617813110352 - 2020-06-11 10:00:00\n",
      "\n",
      "2021-01-27 15:28:24,039 - simulator - INFO - ==================== timestep ====================\n",
      "2021-01-27 15:28:24,196 - activity_manager - INFO - CMS: People COMS for rank 0/1 - 3.966000001298653e-06,3.0994415283203125e-06 - 2020-06-12 00:00:00\n",
      "2021-01-27 15:28:24,202 - simulator - INFO - Info for rank 0, Date = 2020-06-12 00:00:00, number of deaths =  0, number of infected = 16373\n",
      "2021-01-27 15:28:24,333 - simulator - INFO - CMS: Infection COMS-v2 for rank 0/1(2) 0.00011450600000273425,0.00011396408081054688 - 2020-06-12 00:00:00\n",
      "2021-01-27 15:28:24,458 - simulator - INFO - CMS: Timestep for rank 0/1 - 0.41836934300000195, 0.4183628559112549 - 2020-06-12 00:00:00\n",
      "\n",
      "2021-01-27 15:28:24,459 - simulator - INFO - ==================== timestep ====================\n",
      "2021-01-27 15:28:24,784 - activity_manager - INFO - CMS: People COMS for rank 0/1 - 3.626999998118663e-06,2.86102294921875e-06 - 2020-06-12 02:00:00\n",
      "2021-01-27 15:28:24,789 - simulator - INFO - Info for rank 0, Date = 2020-06-12 02:00:00, number of deaths =  0, number of infected = 16642\n",
      "2021-01-27 15:28:24,924 - simulator - INFO - CMS: Infection COMS-v2 for rank 0/1(2) 0.0003484500000041635,0.0003478527069091797 - 2020-06-12 02:00:00\n",
      "2021-01-27 15:28:25,056 - simulator - INFO - CMS: Timestep for rank 0/1 - 0.5966613659999993, 0.5966570377349854 - 2020-06-12 02:00:00\n",
      "\n",
      "2021-01-27 15:28:25,056 - simulator - INFO - ==================== timestep ====================\n",
      "2021-01-27 15:28:25,382 - activity_manager - INFO - CMS: People COMS for rank 0/1 - 3.0920000000378423e-06,1.6689300537109375e-06 - 2020-06-12 04:00:00\n",
      "2021-01-27 15:28:25,387 - simulator - INFO - Info for rank 0, Date = 2020-06-12 04:00:00, number of deaths =  0, number of infected = 16919\n",
      "2021-01-27 15:28:25,543 - simulator - INFO - CMS: Infection COMS-v2 for rank 0/1(2) 0.00023150500000213015,0.0002307891845703125 - 2020-06-12 04:00:00\n",
      "2021-01-27 15:28:25,664 - simulator - INFO - CMS: Timestep for rank 0/1 - 0.6068178230000001, 0.6068131923675537 - 2020-06-12 04:00:00\n",
      "\n",
      "2021-01-27 15:28:25,664 - simulator - INFO - ==================== timestep ====================\n",
      "2021-01-27 15:28:25,986 - activity_manager - INFO - CMS: People COMS for rank 0/1 - 3.0519999967282274e-06,3.0994415283203125e-06 - 2020-06-12 06:00:00\n",
      "2021-01-27 15:28:25,992 - simulator - INFO - Info for rank 0, Date = 2020-06-12 06:00:00, number of deaths =  0, number of infected = 17256\n",
      "2021-01-27 15:28:26,124 - simulator - INFO - CMS: Infection COMS-v2 for rank 0/1(2) 0.0001303140000032954,0.0001289844512939453 - 2020-06-12 06:00:00\n",
      "2021-01-27 15:28:26,250 - simulator - INFO - CMS: Timestep for rank 0/1 - 0.585393339999996, 0.5853900909423828 - 2020-06-12 06:00:00\n",
      "\n",
      "2021-01-27 15:28:26,251 - simulator - INFO - ==================== timestep ====================\n",
      "2021-01-27 15:28:26,567 - activity_manager - INFO - CMS: People COMS for rank 0/1 - 3.5859999982790214e-06,3.0994415283203125e-06 - 2020-06-12 08:00:00\n",
      "2021-01-27 15:28:26,573 - simulator - INFO - Info for rank 0, Date = 2020-06-12 08:00:00, number of deaths =  0, number of infected = 17525\n",
      "2021-01-27 15:28:26,711 - simulator - INFO - CMS: Infection COMS-v2 for rank 0/1(2) 0.00013194000000282813,0.00013113021850585938 - 2020-06-12 08:00:00\n",
      "2021-01-27 15:28:26,840 - simulator - INFO - CMS: Timestep for rank 0/1 - 0.5887615450000041, 0.5887570381164551 - 2020-06-12 08:00:00\n",
      "\n",
      "2021-01-27 15:28:26,841 - simulator - INFO - ==================== timestep ====================\n",
      "2021-01-27 15:28:26,992 - activity_manager - INFO - CMS: People COMS for rank 0/1 - 3.055000000529162e-06,1.9073486328125e-06 - 2020-06-12 10:00:00\n",
      "2021-01-27 15:28:26,997 - simulator - INFO - Info for rank 0, Date = 2020-06-12 10:00:00, number of deaths =  0, number of infected = 17810\n",
      "2021-01-27 15:28:27,265 - simulator - INFO - CMS: Infection COMS-v2 for rank 0/1(2) 9.995099999571266e-05,9.965896606445312e-05 - 2020-06-12 10:00:00\n",
      "2021-01-27 15:28:27,399 - simulator - INFO - CMS: Timestep for rank 0/1 - 0.557991634000004, 0.5579898357391357 - 2020-06-12 10:00:00\n",
      "\n",
      "CPU times: user 49.4 s, sys: 3.89 s, total: 53.3 s\n",
      "Wall time: 50.3 s\n"
     ]
    }
   ],
   "source": [
    "%%time\n",
    "simulator.run()"
   ]
  },
  {
   "cell_type": "markdown",
   "metadata": {},
   "source": [
    "# Getting the results"
   ]
  },
  {
   "cell_type": "markdown",
   "metadata": {},
   "source": [
    "All results are stored in a json file specified in the `record_path` when defining the recorder. This can be read in by passing the folder locations to the `RecordReader` class and results derived.\n",
    "\n",
    "Here we show some examples of the kind of analysis you can extract from the records."
   ]
  },
  {
   "cell_type": "code",
   "execution_count": 47,
   "metadata": {},
   "outputs": [],
   "source": [
    "import pandas as pd"
   ]
  },
  {
   "cell_type": "code",
   "execution_count": 48,
   "metadata": {},
   "outputs": [],
   "source": [
    "read = RecordReader('results')"
   ]
  },
  {
   "cell_type": "markdown",
   "metadata": {},
   "source": [
    "The regional summary gives you information at the regional (camp) level."
   ]
  },
  {
   "cell_type": "markdown",
   "metadata": {},
   "source": [
    "### Regional information"
   ]
  },
  {
   "cell_type": "code",
   "execution_count": 49,
   "metadata": {},
   "outputs": [
    {
     "data": {
      "text/html": [
       "<div>\n",
       "<style scoped>\n",
       "    .dataframe tbody tr th:only-of-type {\n",
       "        vertical-align: middle;\n",
       "    }\n",
       "\n",
       "    .dataframe tbody tr th {\n",
       "        vertical-align: top;\n",
       "    }\n",
       "\n",
       "    .dataframe thead th {\n",
       "        text-align: right;\n",
       "    }\n",
       "</style>\n",
       "<table border=\"1\" class=\"dataframe\">\n",
       "  <thead>\n",
       "    <tr style=\"text-align: right;\">\n",
       "      <th></th>\n",
       "      <th>region</th>\n",
       "      <th>current_infected</th>\n",
       "      <th>daily_infected</th>\n",
       "      <th>current_recovered</th>\n",
       "      <th>daily_recovered</th>\n",
       "      <th>current_hospitalised</th>\n",
       "      <th>daily_hospitalised</th>\n",
       "      <th>current_intensive_care</th>\n",
       "      <th>daily_intensive_care</th>\n",
       "      <th>current_susceptible</th>\n",
       "      <th>daily_hospital_deaths</th>\n",
       "      <th>daily_deaths</th>\n",
       "    </tr>\n",
       "    <tr>\n",
       "      <th>time_stamp</th>\n",
       "      <th></th>\n",
       "      <th></th>\n",
       "      <th></th>\n",
       "      <th></th>\n",
       "      <th></th>\n",
       "      <th></th>\n",
       "      <th></th>\n",
       "      <th></th>\n",
       "      <th></th>\n",
       "      <th></th>\n",
       "      <th></th>\n",
       "      <th></th>\n",
       "    </tr>\n",
       "  </thead>\n",
       "  <tbody>\n",
       "    <tr>\n",
       "      <th>2020-05-24</th>\n",
       "      <td>CXB-219</td>\n",
       "      <td>5.333333</td>\n",
       "      <td>2</td>\n",
       "      <td>0.0</td>\n",
       "      <td>0</td>\n",
       "      <td>0.0</td>\n",
       "      <td>0</td>\n",
       "      <td>0</td>\n",
       "      <td>0</td>\n",
       "      <td>22947.666667</td>\n",
       "      <td>0</td>\n",
       "      <td>0</td>\n",
       "    </tr>\n",
       "    <tr>\n",
       "      <th>2020-05-25</th>\n",
       "      <td>CXB-219</td>\n",
       "      <td>11.333333</td>\n",
       "      <td>9</td>\n",
       "      <td>0.0</td>\n",
       "      <td>0</td>\n",
       "      <td>0.0</td>\n",
       "      <td>0</td>\n",
       "      <td>0</td>\n",
       "      <td>0</td>\n",
       "      <td>22941.666667</td>\n",
       "      <td>0</td>\n",
       "      <td>0</td>\n",
       "    </tr>\n",
       "    <tr>\n",
       "      <th>2020-05-26</th>\n",
       "      <td>CXB-219</td>\n",
       "      <td>21.833333</td>\n",
       "      <td>14</td>\n",
       "      <td>0.0</td>\n",
       "      <td>0</td>\n",
       "      <td>0.0</td>\n",
       "      <td>0</td>\n",
       "      <td>0</td>\n",
       "      <td>0</td>\n",
       "      <td>22931.166667</td>\n",
       "      <td>0</td>\n",
       "      <td>0</td>\n",
       "    </tr>\n",
       "  </tbody>\n",
       "</table>\n",
       "</div>"
      ],
      "text/plain": [
       "             region  current_infected  daily_infected  current_recovered  \\\n",
       "time_stamp                                                                 \n",
       "2020-05-24  CXB-219          5.333333               2                0.0   \n",
       "2020-05-25  CXB-219         11.333333               9                0.0   \n",
       "2020-05-26  CXB-219         21.833333              14                0.0   \n",
       "\n",
       "            daily_recovered  current_hospitalised  daily_hospitalised  \\\n",
       "time_stamp                                                              \n",
       "2020-05-24                0                   0.0                   0   \n",
       "2020-05-25                0                   0.0                   0   \n",
       "2020-05-26                0                   0.0                   0   \n",
       "\n",
       "            current_intensive_care  daily_intensive_care  current_susceptible  \\\n",
       "time_stamp                                                                      \n",
       "2020-05-24                       0                     0         22947.666667   \n",
       "2020-05-25                       0                     0         22941.666667   \n",
       "2020-05-26                       0                     0         22931.166667   \n",
       "\n",
       "            daily_hospital_deaths  daily_deaths  \n",
       "time_stamp                                       \n",
       "2020-05-24                      0             0  \n",
       "2020-05-25                      0             0  \n",
       "2020-05-26                      0             0  "
      ]
     },
     "execution_count": 49,
     "metadata": {},
     "output_type": "execute_result"
    }
   ],
   "source": [
    "read.regional_summary.head(3)"
   ]
  },
  {
   "cell_type": "code",
   "execution_count": 50,
   "metadata": {},
   "outputs": [
    {
     "data": {
      "image/png": "[encoded data removed]",
      "text/plain": [
       "<Figure size 432x288 with 1 Axes>"
      ]
     },
     "metadata": {
      "needs_background": "light"
     },
     "output_type": "display_data"
    }
   ],
   "source": [
    "for region in read.regional_summary['region'].unique():\n",
    "    read.regional_summary[\n",
    "        read.regional_summary['region'] == region\n",
    "    ]['current_infected'].plot(label=\"current infected\")\n",
    "    read.regional_summary[\n",
    "        read.regional_summary['region'] == region\n",
    "    ]['current_susceptible'].plot(label=\"current susceptible\")\n",
    "    plt.title(region)\n",
    "    plt.legend()\n",
    "    plt.show()"
   ]
  },
  {
   "cell_type": "markdown",
   "metadata": {},
   "source": [
    "### Daily infections"
   ]
  },
  {
   "cell_type": "code",
   "execution_count": 51,
   "metadata": {},
   "outputs": [],
   "source": [
    "summary = read.regional_summary.reset_index()"
   ]
  },
  {
   "cell_type": "code",
   "execution_count": 52,
   "metadata": {},
   "outputs": [
    {
     "data": {
      "text/plain": [
       "datetime.date(2020, 5, 24)"
      ]
     },
     "execution_count": 52,
     "metadata": {},
     "output_type": "execute_result"
    }
   ],
   "source": [
    "summary['time_stamp'][0].date()"
   ]
  },
  {
   "cell_type": "code",
   "execution_count": 53,
   "metadata": {},
   "outputs": [],
   "source": [
    "def new_infections(summary):\n",
    "    \n",
    "    date = []\n",
    "    for idx, row in summary.iterrows():\n",
    "        date.append(row['time_stamp'].date())\n",
    "    summary['date'] = date\n",
    "    \n",
    "    dates = np.unique(summary['date'])\n",
    "    \n",
    "    new_infections = []\n",
    "    \n",
    "    for date in dates:\n",
    "        date_data = summary['daily_infected'][summary['date'] == date]\n",
    "        new_infections.append(np.sum(date_data))\n",
    "        \n",
    "    return dates, new_infections"
   ]
  },
  {
   "cell_type": "code",
   "execution_count": 54,
   "metadata": {},
   "outputs": [],
   "source": [
    "dates, new_infections = new_infections(summary)"
   ]
  },
  {
   "cell_type": "code",
   "execution_count": 55,
   "metadata": {},
   "outputs": [
    {
     "data": {
      "image/png": "[encoded data removed]",
      "text/plain": [
       "<Figure size 432x288 with 1 Axes>"
      ]
     },
     "metadata": {
      "needs_background": "light"
     },
     "output_type": "display_data"
    }
   ],
   "source": [
    "plt.plot(dates, new_infections)\n",
    "plt.xticks(rotation=45)\n",
    "plt.ylabel('Daily infections')\n",
    "plt.show()"
   ]
  },
  {
   "cell_type": "markdown",
   "metadata": {},
   "source": [
    "### Hospital and intensive care"
   ]
  },
  {
   "cell_type": "code",
   "execution_count": 56,
   "metadata": {},
   "outputs": [],
   "source": [
    "def hospitalised(summary):\n",
    "    date = []\n",
    "    for idx, row in summary.iterrows():\n",
    "        date.append(row['time_stamp'].date())\n",
    "    summary['date'] = date\n",
    "    \n",
    "    dates = np.unique(summary['date'])\n",
    "    \n",
    "    hospitalised = []\n",
    "    icu = []\n",
    "    \n",
    "    for date in dates:\n",
    "        date_data = summary['current_hospitalised'][summary['date'] == date]\n",
    "        hospitalised.append(np.sum(date_data))\n",
    "        date_data = summary['current_intensive_care'][summary['date'] == date]\n",
    "        icu.append(np.sum(date_data))\n",
    "        \n",
    "    return dates, hospitalised, icu"
   ]
  },
  {
   "cell_type": "code",
   "execution_count": 57,
   "metadata": {},
   "outputs": [],
   "source": [
    "dates, hospitalised, icu = hospitalised(summary)"
   ]
  },
  {
   "cell_type": "code",
   "execution_count": 58,
   "metadata": {},
   "outputs": [
    {
     "data": {
      "image/png": "[encoded data removed]",
      "text/plain": [
       "<Figure size 432x288 with 1 Axes>"
      ]
     },
     "metadata": {
      "needs_background": "light"
     },
     "output_type": "display_data"
    }
   ],
   "source": [
    "plt.plot(dates, hospitalised, label=\"current hospitalised\")\n",
    "plt.plot(dates, icu, label=\"current intensive care\")\n",
    "plt.xticks(rotation=45)\n",
    "plt.ylabel('Daily infections')\n",
    "plt.legend()\n",
    "plt.show()"
   ]
  },
  {
   "cell_type": "markdown",
   "metadata": {},
   "source": [
    "### Cumulative infections by age"
   ]
  },
  {
   "cell_type": "code",
   "execution_count": 59,
   "metadata": {},
   "outputs": [
    {
     "name": "stdout",
     "output_type": "stream",
     "text": [
      "2021-01-27 15:28:28,435 - june.records.records_reader - INFO - Loading infections table\n",
      "2021-01-27 15:28:28,468 - june.records.records_reader - INFO - Loading population table\n",
      "2021-01-27 15:28:28,517 - june.records.records_reader - INFO - Merging infection and population tables\n",
      "2021-01-27 15:28:28,527 - june.records.records_reader - INFO - Loading geography table\n",
      "2021-01-27 15:28:28,551 - june.records.records_reader - INFO - Mergeing infection and geography tables\n"
     ]
    }
   ],
   "source": [
    "infections_df = read.get_table_with_extras('infections',\n",
    "                                           'infected_ids')"
   ]
  },
  {
   "cell_type": "code",
   "execution_count": 60,
   "metadata": {},
   "outputs": [
    {
     "name": "stdout",
     "output_type": "stream",
     "text": [
      "2021-01-27 15:28:28,598 - june.records.records_reader - INFO - Loading deaths table\n",
      "2021-01-27 15:28:28,603 - june.records.records_reader - INFO - Loading population table\n",
      "2021-01-27 15:28:28,651 - june.records.records_reader - INFO - Merging infection and population tables\n",
      "2021-01-27 15:28:28,659 - june.records.records_reader - INFO - Loading geography table\n",
      "2021-01-27 15:28:28,679 - june.records.records_reader - INFO - Mergeing infection and geography tables\n"
     ]
    }
   ],
   "source": [
    "deaths_df = read.get_table_with_extras('deaths', \n",
    "                                       'dead_person_ids')"
   ]
  },
  {
   "cell_type": "code",
   "execution_count": 61,
   "metadata": {},
   "outputs": [],
   "source": [
    "age_bins = (0,20,60,100)"
   ]
  },
  {
   "cell_type": "code",
   "execution_count": 62,
   "metadata": {},
   "outputs": [],
   "source": [
    "infected_by_age = infections_df.groupby([pd.cut(infections_df['age'],\n",
    "            bins=age_bins), 'timestamp']).size()"
   ]
  },
  {
   "cell_type": "code",
   "execution_count": 63,
   "metadata": {},
   "outputs": [],
   "source": [
    "people_df = read.table_to_df('population')"
   ]
  },
  {
   "cell_type": "code",
   "execution_count": 64,
   "metadata": {},
   "outputs": [],
   "source": [
    "n_by_age = people_df.groupby(pd.cut(people_df['age'],\n",
    "            bins=age_bins)).size()"
   ]
  },
  {
   "cell_type": "code",
   "execution_count": 65,
   "metadata": {},
   "outputs": [
    {
     "data": {
      "text/plain": [
       "<matplotlib.legend.Legend at 0x7ff7e3d3c5d0>"
      ]
     },
     "execution_count": 65,
     "metadata": {},
     "output_type": "execute_result"
    },
    {
     "data": {
      "image/png": "[encoded data removed]",
      "text/plain": [
       "<Figure size 432x288 with 1 Axes>"
      ]
     },
     "metadata": {
      "needs_background": "light"
     },
     "output_type": "display_data"
    }
   ],
   "source": [
    "(100*infected_by_age/n_by_age).xs(10).cumsum().plot(label='0,20')\n",
    "(100*infected_by_age/n_by_age).xs(30).cumsum().plot(label='20,60')\n",
    "(100*infected_by_age/n_by_age).xs(70).cumsum().plot(label='60,100')\n",
    "plt.legend()"
   ]
  },
  {
   "cell_type": "markdown",
   "metadata": {},
   "source": [
    "### Where people get infected"
   ]
  },
  {
   "cell_type": "code",
   "execution_count": 66,
   "metadata": {},
   "outputs": [],
   "source": [
    "locations_df = infections_df.groupby(['location_specs', \n",
    "                                'timestamp']).size()"
   ]
  },
  {
   "cell_type": "code",
   "execution_count": 67,
   "metadata": {},
   "outputs": [
    {
     "data": {
      "text/plain": [
       "<AxesSubplot:xlabel='timestamp'>"
      ]
     },
     "execution_count": 67,
     "metadata": {},
     "output_type": "execute_result"
    },
    {
     "data": {
      "image/png": "[encoded data removed]",
      "text/plain": [
       "<Figure size 432x288 with 1 Axes>"
      ]
     },
     "metadata": {
      "needs_background": "light"
     },
     "output_type": "display_data"
    }
   ],
   "source": [
    "locations_df.unstack(level=0).plot()"
   ]
  },
  {
   "cell_type": "code",
   "execution_count": 68,
   "metadata": {},
   "outputs": [
    {
     "data": {
      "text/plain": [
       "Text(0.5, 0, 'location')"
      ]
     },
     "execution_count": 68,
     "metadata": {},
     "output_type": "execute_result"
    },
    {
     "data": {
      "image/png": "[encoded data removed]",
      "text/plain": [
       "<Figure size 432x288 with 1 Axes>"
      ]
     },
     "metadata": {
      "needs_background": "light"
     },
     "output_type": "display_data"
    }
   ],
   "source": [
    "import matplotlib.ticker as mtick\n",
    "location_counts_df = locations_df.groupby('location_specs').size()\n",
    "location_counts_df = 100*location_counts_df / location_counts_df.sum()\n",
    "ax = location_counts_df.sort_values().plot.bar()\n",
    "ax.yaxis.set_major_formatter(mtick.PercentFormatter())\n",
    "plt.ylabel('Percentage of infections at location')\n",
    "plt.xlabel('location')"
   ]
  }
 ],
 "metadata": {
  "kernelspec": {
   "display_name": "Python 3",
   "language": "python",
   "name": "python3"
  },
  "language_info": {
   "codemirror_mode": {
    "name": "ipython",
    "version": 3
   },
   "file_extension": ".py",
   "mimetype": "text/x-python",
   "name": "python",
   "nbconvert_exporter": "python",
   "pygments_lexer": "ipython3",
   "version": "3.7.6"
  }
 },
 "nbformat": 4,
 "nbformat_minor": 4
}
