{
 "cells": [
  {
   "cell_type": "code",
   "execution_count": 1,
   "metadata": {},
   "outputs": [],
   "source": [
    "import warnings\n",
    "warnings.filterwarnings('ignore')"
   ]
  },
  {
   "cell_type": "code",
   "execution_count": 2,
   "metadata": {},
   "outputs": [],
   "source": [
    "import numpy as np\n",
    "import pandas as pd\n",
    "import time\n",
    "import matplotlib.pyplot as plt\n",
    "from datetime import datetime\n",
    "import sys\n",
    "import argparse\n",
    "from pathlib import Path"
   ]
  },
  {
   "cell_type": "code",
   "execution_count": 3,
   "metadata": {},
   "outputs": [
    {
     "name": "stderr",
     "output_type": "stream",
     "text": [
      "No --data argument given - defaulting to:\n",
      "/home/joseph/Documents/PhD/UN_Work/UNGP-settlement-modelling-private/data\n",
      "No --configs argument given - defaulting to:\n",
      "/home/joseph/Documents/PhD/UN_Work/JUNE-private/june/configs\n"
     ]
    },
    {
     "name": "stdout",
     "output_type": "stream",
     "text": [
      "2022-04-25 12:05:19,128 - camps.paths - WARNING - No --camp_data argument given - defaulting to:\n",
      "/home/joseph/Documents/PhD/UN_Work/UNGP-settlement-modelling-private/camp_data\n",
      "2022-04-25 12:05:19,128 - camps.paths - WARNING - No --configs_camps argument given - defaulting to:\n",
      "/home/joseph/Documents/PhD/UN_Work/UNGP-settlement-modelling-private/configs_camps\n"
     ]
    }
   ],
   "source": [
    "from june.geography import Geography\n",
    "from june.demography.demography import (\n",
    "    load_age_and_sex_generators_for_bins,\n",
    "    Demography,\n",
    "    Population,\n",
    "    load_comorbidity_data,\n",
    "    generate_comorbidity,\n",
    ")\n",
    "from june.paths import data_path, configs_path\n",
    "from june.epidemiology.epidemiology import Epidemiology\n",
    "from june.epidemiology.infection import ImmunitySetter\n",
    "from june.epidemiology.infection import Infection, HealthIndexGenerator, InfectionSelector, InfectionSelectors\n",
    "from june.epidemiology.infection_seed import InfectionSeed, InfectionSeeds\n",
    "from june.interaction import Interaction\n",
    "from june.groups import Hospital, Hospitals, Cemeteries\n",
    "from june.distributors import HospitalDistributor\n",
    "from june.hdf5_savers import generate_world_from_hdf5\n",
    "from june.policy import Policy, Policies\n",
    "from june.records import Record\n",
    "from june.simulator import Simulator\n",
    "from june.records import Record, RecordReader\n",
    "\n",
    "from camps.activity import CampActivityManager\n",
    "from camps.paths import camp_data_path, camp_configs_path\n",
    "from camps.world import World\n",
    "from camps.groups.leisure import generate_leisure_for_world, generate_leisure_for_config\n",
    "from camps.camp_creation import (\n",
    "    generate_empty_world,\n",
    "    populate_world,\n",
    "    distribute_people_to_households,\n",
    ")  # this is loaded from the ../camp_scripts folder\n"
   ]
  },
  {
   "cell_type": "code",
   "execution_count": 4,
   "metadata": {},
   "outputs": [],
   "source": [
    "from camps.groups import PumpLatrines, PumpLatrineDistributor\n",
    "from camps.groups import DistributionCenters, DistributionCenterDistributor\n",
    "from camps.groups import Communals, CommunalDistributor\n",
    "from camps.groups import FemaleCommunals, FemaleCommunalDistributor\n",
    "from camps.groups import Religiouss, ReligiousDistributor\n",
    "from camps.groups import Shelter, Shelters, ShelterDistributor\n",
    "from camps.groups import IsolationUnit, IsolationUnits\n",
    "from camps.groups import LearningCenters\n",
    "from camps.distributors import LearningCenterDistributor\n",
    "from camps.groups import PlayGroups, PlayGroupDistributor\n",
    "from camps.groups import EVouchers, EVoucherDistributor\n",
    "from camps.groups import NFDistributionCenters, NFDistributionCenterDistributor\n",
    "from camps.groups import SheltersVisitsDistributor"
   ]
  },
  {
   "cell_type": "code",
   "execution_count": 5,
   "metadata": {},
   "outputs": [],
   "source": [
    "Results_Path = Path(\"results\")\n",
    "\n",
    "Config_File_Path = camp_configs_path / \"config_demo.yaml\"\n",
    "Interactions_File_Path = camp_configs_path / \"defaults/interaction/ContactInteraction_subgroups.yaml\"\n",
    "Policies_File_Path = camp_configs_path / \"defaults/policy/simple_policy.yaml\"\n",
    "Hospitals_File_Path = camp_data_path / \"input/hospitals/hospitals.csv\"\n",
    "comorbidity_multipliers_path = camp_configs_path / \"defaults/comorbidities.yaml\"\n",
    "male_comorbidity_reference_prevalence_path = camp_data_path / \"input/demography/uk_male_comorbidities.csv\"\n",
    "female_comorbidity_reference_prevalence_path = camp_data_path / \"input/demography/uk_female_comorbidities.csv\""
   ]
  },
  {
   "cell_type": "markdown",
   "metadata": {},
   "source": [
    "## Initialize the world"
   ]
  },
  {
   "cell_type": "markdown",
   "metadata": {},
   "source": [
    "When we create the camp to be simulated, we call this the 'world'. The world is initialised after specifying which geographical regions you want to simulate. We can do this by using the `filter_key` argument in the `generate_empty_world` function. Cox's Bazar Expansion Site is made up of camps (which we call regions), UNHCR blocks (which we call super areas) and Mahjee blocks (which we call areas). These are the 3 heirarchical levels on which our model works. You can pass lists of the regions/super_areas/areas to the function here. Alternatively, by leaving the function empty you can generate the entire Cox's Bazar Expansion Site consisting of 112 super areas."
   ]
  },
  {
   "cell_type": "code",
   "execution_count": 6,
   "metadata": {},
   "outputs": [
    {
     "name": "stdout",
     "output_type": "stream",
     "text": [
      "2022-04-25 12:05:19,639 - june.geography.geography - INFO - There are 65 areas and 4 super_areas and 1 regions in the world.\n"
     ]
    }
   ],
   "source": [
    "# create empty world's geography\n",
    "world = generate_empty_world(filter_key = {\"region\" : [\"CXB-219\"]})"
   ]
  },
  {
   "cell_type": "code",
   "execution_count": 7,
   "metadata": {},
   "outputs": [],
   "source": [
    "# populate empty world\n",
    "populate_world(world)"
   ]
  },
  {
   "cell_type": "code",
   "execution_count": 8,
   "metadata": {},
   "outputs": [
    {
     "name": "stdout",
     "output_type": "stream",
     "text": [
      "2022-04-25 12:05:19,866 - subgroup maker - INFO - household interaction bins need default values for methods.\n",
      "Distributing 468 people to CXB-219-001\n",
      "Parents done\n",
      "Kids done\n",
      "All multigen adults done\n",
      "All adults only houses done\n",
      "Distributing 369 people to CXB-219-002\n",
      "Parents done\n",
      "Kids done\n",
      "All multigen adults done\n",
      "All adults only houses done\n",
      "Distributing 330 people to CXB-219-003\n",
      "Parents done\n",
      "Kids done\n",
      "All multigen adults done\n",
      "All adults only houses done\n",
      "Distributing 386 people to CXB-219-004\n",
      "Parents done\n",
      "Kids done\n",
      "All multigen adults done\n",
      "All adults only houses done\n",
      "Distributing 314 people to CXB-219-005\n",
      "Parents done\n",
      "Kids done\n",
      "All multigen adults done\n",
      "All adults only houses done\n",
      "Distributing 331 people to CXB-219-006\n",
      "Parents done\n",
      "Kids done\n",
      "All multigen adults done\n",
      "All adults only houses done\n",
      "Distributing 259 people to CXB-219-007\n",
      "Parents done\n",
      "Kids done\n",
      "All multigen adults done\n",
      "All adults only houses done\n",
      "Distributing 349 people to CXB-219-009\n",
      "Parents done\n",
      "Kids done\n",
      "All multigen adults done\n",
      "All adults only houses done\n",
      "Distributing 275 people to CXB-219-010\n",
      "Parents done\n",
      "Kids done\n",
      "All multigen adults done\n",
      "All adults only houses done\n",
      "Distributing 249 people to CXB-219-011\n",
      "Parents done\n",
      "Kids done\n",
      "All multigen adults done\n",
      "All adults only houses done\n",
      "Distributing 463 people to CXB-219-012\n",
      "Parents done\n",
      "Kids done\n",
      "All multigen adults done\n",
      "All adults only houses done\n",
      "Distributing 418 people to CXB-219-013\n",
      "Parents done\n",
      "Kids done\n",
      "All multigen adults done\n",
      "All adults only houses done\n",
      "Distributing 460 people to CXB-219-014\n",
      "Parents done\n",
      "Kids done\n",
      "All multigen adults done\n",
      "All adults only houses done\n",
      "Distributing 383 people to CXB-219-017\n",
      "Parents done\n",
      "Kids done\n",
      "All multigen adults done\n",
      "All adults only houses done\n",
      "Distributing 417 people to CXB-219-020\n",
      "Parents done\n",
      "Kids done\n",
      "All multigen adults done\n",
      "All adults only houses done\n",
      "Distributing 426 people to CXB-219-021\n",
      "Parents done\n",
      "Kids done\n",
      "All multigen adults done\n",
      "All adults only houses done\n",
      "Distributing 414 people to CXB-219-022\n",
      "Parents done\n",
      "Kids done\n",
      "All multigen adults done\n",
      "All adults only houses done\n",
      "Distributing 383 people to CXB-219-024\n",
      "Parents done\n",
      "Kids done\n",
      "All multigen adults done\n",
      "All adults only houses done\n",
      "Distributing 377 people to CXB-219-025\n",
      "Parents done\n",
      "Kids done\n",
      "All multigen adults done\n",
      "All adults only houses done\n",
      "Distributing 379 people to CXB-219-026\n",
      "Parents done\n",
      "Kids done\n",
      "All multigen adults done\n",
      "All adults only houses done\n",
      "Distributing 413 people to CXB-219-027\n",
      "Parents done\n",
      "Kids done\n",
      "All multigen adults done\n",
      "All adults only houses done\n",
      "Distributing 392 people to CXB-219-028\n",
      "Parents done\n",
      "Kids done\n",
      "All multigen adults done\n",
      "All adults only houses done\n",
      "Distributing 331 people to CXB-219-029\n",
      "Parents done\n",
      "Kids done\n",
      "All multigen adults done\n",
      "All adults only houses done\n",
      "Distributing 458 people to CXB-219-030\n",
      "Parents done\n",
      "Kids done\n",
      "All multigen adults done\n",
      "All adults only houses done\n",
      "Distributing 393 people to CXB-219-032\n",
      "Parents done\n",
      "Kids done\n",
      "All multigen adults done\n",
      "All adults only houses done\n",
      "Distributing 340 people to CXB-219-033\n",
      "Parents done\n",
      "Kids done\n",
      "All multigen adults done\n",
      "All adults only houses done\n",
      "Distributing 373 people to CXB-219-034\n",
      "Parents done\n",
      "Kids done\n",
      "All multigen adults done\n",
      "All adults only houses done\n",
      "Distributing 260 people to CXB-219-036\n",
      "Parents done\n",
      "Kids done\n",
      "All multigen adults done\n",
      "All adults only houses done\n",
      "Distributing 455 people to CXB-219-037\n",
      "Parents done\n",
      "Kids done\n",
      "All multigen adults done\n",
      "All adults only houses done\n",
      "Distributing 458 people to CXB-219-038\n",
      "Parents done\n",
      "Kids done\n",
      "All multigen adults done\n",
      "All adults only houses done\n",
      "Distributing 488 people to CXB-219-039\n",
      "Parents done\n",
      "Kids done\n",
      "All multigen adults done\n",
      "All adults only houses done\n",
      "Distributing 174 people to CXB-219-040\n",
      "Parents done\n",
      "Kids done\n",
      "All multigen adults done\n",
      "All adults only houses done\n",
      "Distributing 330 people to CXB-219-041\n",
      "Parents done\n",
      "Kids done\n",
      "All multigen adults done\n",
      "All adults only houses done\n",
      "Distributing 399 people to CXB-219-042\n",
      "Parents done\n",
      "Kids done\n",
      "All multigen adults done\n",
      "All adults only houses done\n",
      "Distributing 398 people to CXB-219-043\n",
      "Parents done\n",
      "Kids done\n",
      "All multigen adults done\n",
      "All adults only houses done\n",
      "Distributing 368 people to CXB-219-044\n",
      "Parents done\n",
      "Kids done\n",
      "All multigen adults done\n",
      "All adults only houses done\n",
      "Distributing 431 people to CXB-219-045\n",
      "Parents done\n",
      "Kids done\n",
      "All multigen adults done\n",
      "All adults only houses done\n",
      "Distributing 449 people to CXB-219-046\n",
      "Parents done\n",
      "Kids done\n",
      "All multigen adults done\n",
      "All adults only houses done\n",
      "Distributing 244 people to CXB-219-047\n",
      "Parents done\n",
      "Kids done\n",
      "All multigen adults done\n",
      "All adults only houses done\n",
      "Distributing 311 people to CXB-219-048\n",
      "Parents done\n",
      "Kids done\n",
      "All multigen adults done\n",
      "All adults only houses done\n",
      "Distributing 335 people to CXB-219-049\n",
      "Parents done\n",
      "Kids done\n",
      "All multigen adults done\n",
      "All adults only houses done\n",
      "Distributing 206 people to CXB-219-050\n",
      "Parents done\n",
      "Kids done\n",
      "All multigen adults done\n",
      "All adults only houses done\n",
      "Distributing 344 people to CXB-219-051\n",
      "Parents done\n",
      "Kids done\n",
      "All multigen adults done\n",
      "All adults only houses done\n",
      "Distributing 347 people to CXB-219-052\n",
      "Parents done\n",
      "Kids done\n",
      "All multigen adults done\n",
      "All adults only houses done\n",
      "Distributing 533 people to CXB-219-053\n",
      "Parents done\n",
      "Kids done\n",
      "All multigen adults done\n",
      "All adults only houses done\n",
      "Distributing 381 people to CXB-219-054\n",
      "Parents done\n",
      "Kids done\n",
      "All multigen adults done\n",
      "All adults only houses done\n",
      "Distributing 253 people to CXB-219-055\n",
      "Parents done\n",
      "Kids done\n",
      "All multigen adults done\n",
      "All adults only houses done\n",
      "Distributing 274 people to CXB-219-056\n",
      "Parents done\n",
      "Kids done\n",
      "All multigen adults done\n",
      "All adults only houses done\n",
      "Distributing 247 people to CXB-219-057\n",
      "Parents done\n",
      "Kids done\n",
      "All multigen adults done\n",
      "All adults only houses done\n",
      "Distributing 376 people to CXB-219-058\n",
      "Parents done\n",
      "Kids done\n",
      "All multigen adults done\n",
      "All adults only houses done\n",
      "Distributing 342 people to CXB-219-059\n",
      "Parents done\n",
      "Kids done\n",
      "All multigen adults done\n",
      "All adults only houses done\n",
      "Distributing 330 people to CXB-219-060\n",
      "Parents done\n",
      "Kids done\n",
      "All multigen adults done\n",
      "All adults only houses done\n",
      "Distributing 413 people to CXB-219-061\n",
      "Parents done\n",
      "Kids done\n",
      "All multigen adults done\n",
      "All adults only houses done\n",
      "Distributing 259 people to CXB-219-062\n",
      "Parents done\n",
      "Kids done\n",
      "All multigen adults done\n",
      "All adults only houses done\n",
      "Distributing 287 people to CXB-219-063\n",
      "Parents done\n",
      "Kids done\n",
      "All multigen adults done\n",
      "All adults only houses done\n",
      "Distributing 194 people to CXB-219-064\n",
      "Parents done\n",
      "Kids done\n",
      "All multigen adults done\n",
      "All adults only houses done\n",
      "Distributing 212 people to CXB-219-065\n",
      "Parents done\n",
      "Kids done\n",
      "All multigen adults done\n",
      "All adults only houses done\n",
      "Distributing 329 people to CXB-219-066\n",
      "Parents done\n",
      "Kids done\n",
      "All multigen adults done\n",
      "All adults only houses done\n",
      "Distributing 314 people to CXB-219-067\n",
      "Parents done\n",
      "Kids done\n",
      "All multigen adults done\n",
      "All adults only houses done\n",
      "Distributing 386 people to CXB-219-068\n",
      "Parents done\n",
      "Kids done\n",
      "All multigen adults done\n",
      "All adults only houses done\n",
      "Distributing 551 people to CXB-219-069\n",
      "Parents done\n",
      "Kids done\n",
      "All multigen adults done\n",
      "All adults only houses done\n",
      "Distributing 321 people to CXB-219-070\n",
      "Parents done\n",
      "Kids done\n",
      "All multigen adults done\n",
      "All adults only houses done\n",
      "Distributing 218 people to CXB-219-071\n",
      "Parents done\n",
      "Kids done\n",
      "All multigen adults done\n",
      "All adults only houses done\n",
      "Distributing 311 people to CXB-234-001\n",
      "Parents done\n",
      "Kids done\n",
      "All multigen adults done\n",
      "All adults only houses done\n",
      "Distributing 275 people to CXB-234-002\n",
      "Parents done\n",
      "Kids done\n",
      "All multigen adults done\n",
      "All adults only houses done\n"
     ]
    }
   ],
   "source": [
    "# distribute people to households\n",
    "distribute_people_to_households(world)"
   ]
  },
  {
   "cell_type": "code",
   "execution_count": 9,
   "metadata": {},
   "outputs": [
    {
     "name": "stdout",
     "output_type": "stream",
     "text": [
      "2022-04-25 12:05:25,314 - learning_centers - INFO - There are 1243 learning center(s)\n"
     ]
    }
   ],
   "source": [
    "LearningCenters.Get_Interaction(Interactions_File_Path)\n",
    "world.learning_centers = LearningCenters.for_areas(world.areas)\n",
    "\n",
    "learningcenter_distributor = LearningCenterDistributor.from_file(world.learning_centers)\n",
    "\n",
    "learningcenter_distributor.distribute_teachers_to_learning_centers(world.areas)\n",
    "learningcenter_distributor.distribute_kids_to_learning_centers(world.areas)"
   ]
  },
  {
   "cell_type": "code",
   "execution_count": 10,
   "metadata": {},
   "outputs": [
    {
     "name": "stdout",
     "output_type": "stream",
     "text": [
      "2022-04-25 12:05:42,885 - hospitals - INFO - There are 8 hospitals in the world.\n"
     ]
    }
   ],
   "source": [
    "# distribute hospitals\n",
    "Hospitals.Get_Interaction(Interactions_File_Path)\n",
    "hospitals = Hospitals.from_file(\n",
    "    filename=Hospitals_File_Path\n",
    ")\n",
    "\n",
    "\n",
    "for hospital in hospitals:\n",
    "    hospital.area = world.areas.get_closest_area(hospital.coordinates)\n",
    "    \n",
    "world.hospitals = hospitals\n",
    "hospital_distributor = HospitalDistributor(\n",
    "    hospitals, medic_min_age=20, patients_per_medic=10\n",
    ")\n",
    "hospital_distributor.assign_closest_hospitals_to_super_areas(\n",
    "    world.super_areas\n",
    ")\n",
    "hospital_distributor.distribute_medics_from_world(world.people)"
   ]
  },
  {
   "cell_type": "code",
   "execution_count": null,
   "metadata": {},
   "outputs": [],
   "source": [
    "IsolationUnits.Get_Interaction(Interactions_File_Path)\n",
    "world.isolation_units = IsolationUnits([IsolationUnit(area=hospital.area) for hospital in world.hospitals])"
   ]
  },
  {
   "cell_type": "code",
   "execution_count": 11,
   "metadata": {},
   "outputs": [
    {
     "name": "stdout",
     "output_type": "stream",
     "text": [
      "2022-04-25 12:05:42,964 - social_venue - INFO - Domain 0 has 225 pump_latrines(s)\n",
      "2022-04-25 12:05:43,046 - social_venue - INFO - Domain 0 has 544 play_groups(s)\n",
      "2022-04-25 12:05:43,067 - social_venue - INFO - Domain 0 has 7 distribution_centers(s)\n",
      "2022-04-25 12:05:43,136 - social_venue - INFO - Domain 0 has 125 communals(s)\n",
      "2022-04-25 12:05:43,177 - social_venue - INFO - Domain 0 has 67 female_communals(s)\n",
      "2022-04-25 12:05:43,864 - social_venue - INFO - Domain 0 has 2064 religiouss(s)\n",
      "2022-04-25 12:05:43,892 - social_venue - INFO - Domain 0 has 7 e_vouchers(s)\n",
      "2022-04-25 12:05:43,927 - social_venue - INFO - Domain 0 has 36 n_f_distribution_centers(s)\n"
     ]
    }
   ],
   "source": [
    "PumpLatrines.Get_Interaction(Interactions_File_Path)\n",
    "world.pump_latrines = PumpLatrines.for_areas(world.areas)\n",
    "\n",
    "PlayGroups.Get_Interaction(Interactions_File_Path)\n",
    "world.play_groups = PlayGroups.for_areas(world.areas)\n",
    "\n",
    "DistributionCenters.Get_Interaction(Interactions_File_Path)\n",
    "world.distribution_centers = DistributionCenters.for_areas(world.areas)\n",
    "\n",
    "Communals.Get_Interaction(Interactions_File_Path)\n",
    "world.communals = Communals.for_areas(world.areas)\n",
    "\n",
    "FemaleCommunals.Get_Interaction(Interactions_File_Path)\n",
    "world.female_communals = FemaleCommunals.for_areas(world.areas)\n",
    "\n",
    "Religiouss.Get_Interaction(Interactions_File_Path)\n",
    "world.religiouss = Religiouss.for_areas(world.areas)\n",
    "\n",
    "EVouchers.Get_Interaction(Interactions_File_Path)\n",
    "world.e_vouchers = EVouchers.for_areas(world.areas)\n",
    "\n",
    "NFDistributionCenters.Get_Interaction(Interactions_File_Path)\n",
    "world.n_f_distribution_centers = NFDistributionCenters.for_areas(world.areas)"
   ]
  },
  {
   "cell_type": "code",
   "execution_count": 12,
   "metadata": {},
   "outputs": [],
   "source": [
    "world.cemeteries = Cemeteries()"
   ]
  },
  {
   "cell_type": "markdown",
   "metadata": {},
   "source": [
    "## Geography exploration"
   ]
  },
  {
   "cell_type": "markdown",
   "metadata": {},
   "source": [
    "The geography is initialised first and can be explored."
   ]
  },
  {
   "cell_type": "markdown",
   "metadata": {},
   "source": [
    "### UNHCR camp blocks inside the World"
   ]
  },
  {
   "cell_type": "code",
   "execution_count": 13,
   "metadata": {},
   "outputs": [],
   "source": [
    "super_areas = []\n",
    "for super_area in world.super_areas:\n",
    "    super_areas.append(super_area.name)"
   ]
  },
  {
   "cell_type": "code",
   "execution_count": 14,
   "metadata": {},
   "outputs": [
    {
     "data": {
      "text/plain": [
       "['CXB-219-A', 'CXB-219-B', 'CXB-219-C', 'CXB-219-D']"
      ]
     },
     "execution_count": 14,
     "metadata": {},
     "output_type": "execute_result"
    }
   ],
   "source": [
    "super_areas[:5]"
   ]
  },
  {
   "cell_type": "markdown",
   "metadata": {},
   "source": [
    "### Mahjee blocks inside World"
   ]
  },
  {
   "cell_type": "code",
   "execution_count": 15,
   "metadata": {},
   "outputs": [],
   "source": [
    "areas = []\n",
    "for area in world.areas:\n",
    "    areas.append(area.name)"
   ]
  },
  {
   "cell_type": "code",
   "execution_count": 16,
   "metadata": {},
   "outputs": [
    {
     "data": {
      "text/plain": [
       "['CXB-219-001', 'CXB-219-002', 'CXB-219-003', 'CXB-219-004', 'CXB-219-005']"
      ]
     },
     "execution_count": 16,
     "metadata": {},
     "output_type": "execute_result"
    }
   ],
   "source": [
    "areas[:5]"
   ]
  },
  {
   "cell_type": "markdown",
   "metadata": {},
   "source": [
    "## Demography exploration"
   ]
  },
  {
   "cell_type": "markdown",
   "metadata": {},
   "source": [
    "Once we have populated the 'digital twin' we can explore some of the attributes of the people we have created in the simulation."
   ]
  },
  {
   "cell_type": "markdown",
   "metadata": {},
   "source": [
    "### UNHCR block residents"
   ]
  },
  {
   "cell_type": "code",
   "execution_count": 17,
   "metadata": {},
   "outputs": [],
   "source": [
    "sample_ages = []\n",
    "sample_sexes = []\n",
    "for person in world.super_areas.members[0].people:\n",
    "    sample_ages.append(person.age)\n",
    "    sample_sexes.append(person.sex)"
   ]
  },
  {
   "cell_type": "code",
   "execution_count": 18,
   "metadata": {},
   "outputs": [
    {
     "data": {
      "text/plain": [
       "(['f', 'f', 'f', 'f', 'm'], [54, 18, 50, 25, 52])"
      ]
     },
     "execution_count": 18,
     "metadata": {},
     "output_type": "execute_result"
    }
   ],
   "source": [
    "sample_sexes[:5], sample_ages[:5]"
   ]
  },
  {
   "cell_type": "code",
   "execution_count": 19,
   "metadata": {},
   "outputs": [
    {
     "data": {
      "image/png": "[encoded data removed]",
      "text/plain": [
       "<Figure size 432x288 with 1 Axes>"
      ]
     },
     "metadata": {
      "needs_background": "light"
     },
     "output_type": "display_data"
    }
   ],
   "source": [
    "ages, counts = np.unique(sample_ages, return_counts=True)\n",
    "plt.bar(ages, counts)\n",
    "plt.title('super area: {} age distribution'.format(world.super_areas.members[0].name))\n",
    "plt.show()"
   ]
  },
  {
   "cell_type": "code",
   "execution_count": 20,
   "metadata": {},
   "outputs": [
    {
     "name": "stdout",
     "output_type": "stream",
     "text": [
      "The % children between ages 0-16 is 48%\n"
     ]
    }
   ],
   "source": [
    "print ('The % children between ages 0-16 is {}%'.format(round(np.sum(counts[:16])/(np.sum(counts[:16])+np.sum(counts[16:]))*100)))"
   ]
  },
  {
   "cell_type": "markdown",
   "metadata": {},
   "source": [
    "## Households"
   ]
  },
  {
   "cell_type": "markdown",
   "metadata": {},
   "source": [
    "In this model, we will use the term 'family' and 'household' interchangeably. After populating the 'digital twin', we need to cluster people into families. To do this, we take account of age structure so that children live with adults, that there are some intergenerational households and such that we might also have some households of only adults."
   ]
  },
  {
   "cell_type": "markdown",
   "metadata": {},
   "source": [
    "### Household size distribution"
   ]
  },
  {
   "cell_type": "code",
   "execution_count": 21,
   "metadata": {},
   "outputs": [
    {
     "data": {
      "image/png": "[encoded data removed]",
      "text/plain": [
       "<Figure size 432x288 with 1 Axes>"
      ]
     },
     "metadata": {
      "needs_background": "light"
     },
     "output_type": "display_data"
    }
   ],
   "source": [
    "household_sizes = [household.size for household in world.households]\n",
    "plt.hist(household_sizes, density=True, bins=np.arange(0,12))\n",
    "plt.xlabel(\"Household size\")\n",
    "plt.ylabel(\"Frequency\")\n",
    "plt.axvline(np.mean(household_sizes), color=\"cyan\")\n",
    "plt.text(8, 0.150, f\"Avg. size: {(np.mean(household_sizes)):.2f}\")\n",
    "plt.show()"
   ]
  },
  {
   "cell_type": "markdown",
   "metadata": {},
   "source": [
    "# Shelters"
   ]
  },
  {
   "cell_type": "markdown",
   "metadata": {},
   "source": [
    "Shelters house people in the camp. Since we know that families (houseohlds) often share shelters with other families, we can set the `sharing_shelter_ratio` to cluster families into shared shelters."
   ]
  },
  {
   "cell_type": "code",
   "execution_count": 22,
   "metadata": {},
   "outputs": [],
   "source": [
    "world.shelters = Shelters.for_areas(world.areas)\n",
    "shelter_distributor = ShelterDistributor(sharing_shelter_ratio = 0.75) # proportion of families that share a shelter\n",
    "for area in world.areas:\n",
    "    shelter_distributor.distribute_people_in_shelters(area.shelters, area.households)"
   ]
  },
  {
   "cell_type": "code",
   "execution_count": 23,
   "metadata": {},
   "outputs": [
    {
     "data": {
      "image/png": "[encoded data removed]",
      "text/plain": [
       "<Figure size 576x216 with 2 Axes>"
      ]
     },
     "metadata": {
      "needs_background": "light"
     },
     "output_type": "display_data"
    }
   ],
   "source": [
    "fig, ax = plt.subplots(1, 2, figsize=(8,3))\n",
    "shelter_sizes = [shelter.size for shelter in world.shelters]\n",
    "shelter_families = [shelter.n_families for shelter in world.shelters]\n",
    "ax[0].hist(shelter_sizes)\n",
    "ax[0].set_title(\"Shelter size\")\n",
    "shelter_families = {1 : len([shelter for shelter in world.shelters if shelter.n_families == 1]),\n",
    "                    2 : len([shelter for shelter in world.shelters if shelter.n_families == 2])}\n",
    "ax[1].bar(shelter_families.keys(), shelter_families.values())\n",
    "ax[1].set_title(\"# families per shelter\")\n",
    "plt.show()"
   ]
  },
  {
   "cell_type": "markdown",
   "metadata": {},
   "source": [
    "## Activity exploration"
   ]
  },
  {
   "cell_type": "markdown",
   "metadata": {},
   "source": [
    "Once different activity locations are seeded in the 'digital twin' we can explore how many there are in different areas of the twin, and their coordinates to check they've all been added correctly."
   ]
  },
  {
   "cell_type": "markdown",
   "metadata": {},
   "source": [
    "### Pumps and latrines "
   ]
  },
  {
   "cell_type": "code",
   "execution_count": 24,
   "metadata": {},
   "outputs": [],
   "source": [
    "pumps_and_latrines = []\n",
    "for pump_latrine in world.areas.members[0].pump_latrines:\n",
    "    pumps_and_latrines.append(pump_latrine)"
   ]
  },
  {
   "cell_type": "code",
   "execution_count": 25,
   "metadata": {},
   "outputs": [
    {
     "name": "stdout",
     "output_type": "stream",
     "text": [
      "There are 4 pumps and latrines in area CXB-219-001\n"
     ]
    }
   ],
   "source": [
    "print ('There are {} pumps and latrines in area {}'.format(len(pumps_and_latrines), world.areas.members[0].name))"
   ]
  },
  {
   "cell_type": "markdown",
   "metadata": {},
   "source": [
    "### Distribution centers"
   ]
  },
  {
   "cell_type": "code",
   "execution_count": 26,
   "metadata": {},
   "outputs": [],
   "source": [
    "distribution_centers = []\n",
    "for center in world.distribution_centers:\n",
    "    distribution_centers.append(center)"
   ]
  },
  {
   "cell_type": "code",
   "execution_count": 27,
   "metadata": {},
   "outputs": [
    {
     "data": {
      "text/plain": [
       "array([21.21176333, 92.13597667])"
      ]
     },
     "execution_count": 27,
     "metadata": {},
     "output_type": "execute_result"
    }
   ],
   "source": [
    "distribution_centers[0].coordinates"
   ]
  },
  {
   "cell_type": "markdown",
   "metadata": {},
   "source": [
    "### Non-food Distribution centers"
   ]
  },
  {
   "cell_type": "code",
   "execution_count": 28,
   "metadata": {},
   "outputs": [],
   "source": [
    "non_food_distribution_centers = []\n",
    "for center in world.n_f_distribution_centers:\n",
    "    non_food_distribution_centers.append(center)"
   ]
  },
  {
   "cell_type": "code",
   "execution_count": 29,
   "metadata": {},
   "outputs": [
    {
     "data": {
      "text/plain": [
       "array([21.1962 , 92.14936])"
      ]
     },
     "execution_count": 29,
     "metadata": {},
     "output_type": "execute_result"
    }
   ],
   "source": [
    "non_food_distribution_centers[0].coordinates"
   ]
  },
  {
   "cell_type": "markdown",
   "metadata": {},
   "source": [
    "### E-Voucher outlets"
   ]
  },
  {
   "cell_type": "code",
   "execution_count": 30,
   "metadata": {},
   "outputs": [],
   "source": [
    "e_voucher_outlets = []\n",
    "for center in world.e_vouchers:\n",
    "    e_voucher_outlets.append(center)"
   ]
  },
  {
   "cell_type": "code",
   "execution_count": 31,
   "metadata": {},
   "outputs": [
    {
     "data": {
      "text/plain": [
       "array([21.21176333, 92.13597667])"
      ]
     },
     "execution_count": 31,
     "metadata": {},
     "output_type": "execute_result"
    }
   ],
   "source": [
    "e_voucher_outlets[0].coordinates"
   ]
  },
  {
   "cell_type": "markdown",
   "metadata": {},
   "source": [
    "### Communal spaces"
   ]
  },
  {
   "cell_type": "code",
   "execution_count": 32,
   "metadata": {},
   "outputs": [],
   "source": [
    "communal_spaces = []\n",
    "for space in world.communals:\n",
    "    communal_spaces.append(space)"
   ]
  },
  {
   "cell_type": "code",
   "execution_count": 33,
   "metadata": {},
   "outputs": [
    {
     "data": {
      "text/plain": [
       "array([21.19621, 92.14924])"
      ]
     },
     "execution_count": 33,
     "metadata": {},
     "output_type": "execute_result"
    }
   ],
   "source": [
    "communal_spaces[0].coordinates"
   ]
  },
  {
   "cell_type": "markdown",
   "metadata": {},
   "source": [
    "### Female friendly communal spaces"
   ]
  },
  {
   "cell_type": "code",
   "execution_count": 34,
   "metadata": {},
   "outputs": [],
   "source": [
    "female_communal_spaces = []\n",
    "for space in world.female_communals:\n",
    "    female_communal_spaces.append(space)"
   ]
  },
  {
   "cell_type": "code",
   "execution_count": 35,
   "metadata": {},
   "outputs": [
    {
     "data": {
      "text/plain": [
       "array([21.19588, 92.152  ])"
      ]
     },
     "execution_count": 35,
     "metadata": {},
     "output_type": "execute_result"
    }
   ],
   "source": [
    "female_communal_spaces[0].coordinates"
   ]
  },
  {
   "cell_type": "markdown",
   "metadata": {},
   "source": [
    "### Religious sites"
   ]
  },
  {
   "cell_type": "code",
   "execution_count": 36,
   "metadata": {},
   "outputs": [],
   "source": [
    "religious = []\n",
    "for rel in world.religiouss:\n",
    "    religious.append(rel)"
   ]
  },
  {
   "cell_type": "code",
   "execution_count": 37,
   "metadata": {},
   "outputs": [
    {
     "data": {
      "text/plain": [
       "array([21.20069, 92.15216])"
      ]
     },
     "execution_count": 37,
     "metadata": {},
     "output_type": "execute_result"
    }
   ],
   "source": [
    "religious[0].coordinates"
   ]
  },
  {
   "cell_type": "markdown",
   "metadata": {},
   "source": [
    "# Adding the infection"
   ]
  },
  {
   "cell_type": "markdown",
   "metadata": {},
   "source": [
    "The selector handles how infections are handled in the code. You can set different 'symptom trajectories' (e.g. exposed->mild->severe->hospitalised->intensive care) from different files. Here, we use the default."
   ]
  },
  {
   "cell_type": "code",
   "execution_count": 38,
   "metadata": {},
   "outputs": [],
   "source": [
    "selector = InfectionSelector.from_file()"
   ]
  },
  {
   "cell_type": "code",
   "execution_count": 39,
   "metadata": {},
   "outputs": [],
   "source": [
    "selectors = InfectionSelectors([selector])"
   ]
  },
  {
   "cell_type": "markdown",
   "metadata": {},
   "source": [
    "# Adding the interaction"
   ]
  },
  {
   "cell_type": "markdown",
   "metadata": {},
   "source": [
    "The interaction class handles how many contacts people have in different locations and with who. If contact matrices are available, these can be coded in a `.yaml` file and fed into the class here."
   ]
  },
  {
   "cell_type": "code",
   "execution_count": 40,
   "metadata": {},
   "outputs": [],
   "source": [
    "interaction = Interaction.from_file(\n",
    "    config_filename=Interactions_File_Path,\n",
    ")"
   ]
  },
  {
   "cell_type": "markdown",
   "metadata": {},
   "source": [
    "# Set policies"
   ]
  },
  {
   "cell_type": "markdown",
   "metadata": {},
   "source": [
    "Policies control how 'operational interventions' are set in the camp. Here we set some social distancing policies, policies relating to medical care, such as people with severe symptoms being hospitalised, and individual and activity policies which can dynamically change how often and where people go, e.g. here, we close all female communal spaces and non-food distirbution centers which the camp did back in March"
   ]
  },
  {
   "cell_type": "code",
   "execution_count": 41,
   "metadata": {},
   "outputs": [],
   "source": [
    "policies = Policies.from_file(\n",
    "        Policies_File_Path,\n",
    "        base_policy_modules=(\"june.policy\", \"camps.policy\"),\n",
    "    )"
   ]
  },
  {
   "cell_type": "code",
   "execution_count": 42,
   "metadata": {},
   "outputs": [
    {
     "data": {
      "text/plain": [
       "[<june.policy.interaction_policies.SocialDistancing at 0x7f70ce7a0f40>,\n",
       " <june.policy.medical_care_policies.Hospitalisation at 0x7f70ce7a0ac0>,\n",
       " <june.policy.individual_policies.SevereSymptomsStayHome at 0x7f70ce7a0d30>,\n",
       " <june.policy.individual_policies.Quarantine at 0x7f70ce7a0ee0>]"
      ]
     },
     "execution_count": 42,
     "metadata": {},
     "output_type": "execute_result"
    }
   ],
   "source": [
    "policies.policies"
   ]
  },
  {
   "cell_type": "markdown",
   "metadata": {},
   "source": [
    "# Seed the disease"
   ]
  },
  {
   "cell_type": "markdown",
   "metadata": {},
   "source": [
    "Set intial seeding conditions. This can be done at the camp level specifically, or generally by seeding them randomly. Here the `n_cases` is the number of randomly seeded people over the entire population."
   ]
  },
  {
   "cell_type": "code",
   "execution_count": 43,
   "metadata": {},
   "outputs": [],
   "source": [
    "infection_seed = InfectionSeed.from_uniform_cases(\n",
    "    world=world, infection_selector=selector, cases_per_capita=0.01, date=\"2020-05-24\", seed_past_infections=False,\n",
    ")"
   ]
  },
  {
   "cell_type": "code",
   "execution_count": 44,
   "metadata": {},
   "outputs": [],
   "source": [
    "infection_seeds = InfectionSeeds([infection_seed])"
   ]
  },
  {
   "cell_type": "code",
   "execution_count": 45,
   "metadata": {},
   "outputs": [],
   "source": [
    "immunity_setter = ImmunitySetter.from_file_with_comorbidities(\n",
    "    comorbidity_multipliers_path= comorbidity_multipliers_path,\n",
    "    male_comorbidity_reference_prevalence_path= male_comorbidity_reference_prevalence_path,\n",
    "    female_comorbidity_reference_prevalence_path = female_comorbidity_reference_prevalence_path,   \n",
    ")"
   ]
  },
  {
   "cell_type": "code",
   "execution_count": 46,
   "metadata": {},
   "outputs": [],
   "source": [
    "epidemiology = Epidemiology(\n",
    "    infection_selectors=selectors,\n",
    "    infection_seeds=infection_seeds,\n",
    "    immunity_setter=immunity_setter,\n",
    ")"
   ]
  },
  {
   "cell_type": "markdown",
   "metadata": {},
   "source": [
    "## Select config file"
   ]
  },
  {
   "cell_type": "markdown",
   "metadata": {},
   "source": [
    "Before running the simualtion we must select the config file which defines how the world is set up and the simualtor will work. Specifically, the condif file specifies which activities will be included, how long we'll run the simualtion for, what the initial starting day will be and what the structure of weekdays and weekends will look like (if different)"
   ]
  },
  {
   "cell_type": "code",
   "execution_count": 47,
   "metadata": {},
   "outputs": [],
   "source": [
    "CONFIG_PATH = Config_File_Path"
   ]
  },
  {
   "cell_type": "markdown",
   "metadata": {},
   "source": [
    "# Initialise activities"
   ]
  },
  {
   "cell_type": "markdown",
   "metadata": {},
   "source": [
    "The final step to intialising the simulator class which brings all of this together is to inialise all the activity distirbutors (the term 'leisure' is a legacy of the original version of this code used for modelling COVID-19 in the UK). This will mean that people know where they can go at and given time."
   ]
  },
  {
   "cell_type": "code",
   "execution_count": 48,
   "metadata": {},
   "outputs": [
    {
     "name": "stdout",
     "output_type": "stream",
     "text": [
      "2022-04-25 12:05:45,478 - leisure - INFO - Linking households and care homes for visits\n",
      "2022-04-25 12:05:45,479 - leisure - INFO - Done\n",
      "2022-04-25 12:05:45,479 - leisure - INFO - Distributing social venues to areas\n",
      "2022-04-25 12:05:45,480 - leisure - INFO - Distributed in 0 of 65 areas.\n",
      "2022-04-25 12:05:45,582 - leisure - INFO - Distributed in 65 of 65 areas.\n"
     ]
    }
   ],
   "source": [
    "leisure = generate_leisure_for_config(world=world, config_filename=CONFIG_PATH)\n",
    "leisure.leisure_distributors = {}\n",
    "leisure.leisure_distributors[\"pump_latrine\"] = PumpLatrineDistributor.from_config(\n",
    "    world.pump_latrines\n",
    ")\n",
    "leisure.leisure_distributors[\"play_group\"] = PlayGroupDistributor.from_config(\n",
    "    world.play_groups\n",
    ")\n",
    "leisure.leisure_distributors[\n",
    "    \"distribution_center\"\n",
    "] = DistributionCenterDistributor.from_config(world.distribution_centers)\n",
    "leisure.leisure_distributors[\"communal\"] = CommunalDistributor.from_config(\n",
    "    world.communals\n",
    ")\n",
    "leisure.leisure_distributors[\n",
    "    \"female_communal\"\n",
    "] = FemaleCommunalDistributor.from_config(world.female_communals)\n",
    "leisure.leisure_distributors[\"religious\"] = ReligiousDistributor.from_config(\n",
    "    world.religiouss\n",
    ")\n",
    "leisure.leisure_distributors[\"e_voucher\"] = EVoucherDistributor.from_config(\n",
    "    world.e_vouchers\n",
    ")\n",
    "leisure.leisure_distributors[\n",
    "    \"n_f_distribution_center\"\n",
    "] = NFDistributionCenterDistributor.from_config(world.n_f_distribution_centers)\n",
    "leisure.leisure_distributors[\n",
    "    \"shelters_visits\"\n",
    "] = SheltersVisitsDistributor.from_config()\n",
    "leisure.leisure_distributors[\"shelters_visits\"].link_shelters_to_shelters(\n",
    "    world.super_areas\n",
    ")\n",
    "# associate social activities to shelters\n",
    "leisure.distribute_social_venues_to_areas(world.areas, world.super_areas)"
   ]
  },
  {
   "cell_type": "markdown",
   "metadata": {},
   "source": [
    "# Initialise simulator and run"
   ]
  },
  {
   "cell_type": "markdown",
   "metadata": {},
   "source": [
    "The recorder is defined which will log all interactions and infections in the simualation for later analysis. The `record_path` can be changed to any path where you want the recorded data to be stored."
   ]
  },
  {
   "cell_type": "code",
   "execution_count": 49,
   "metadata": {},
   "outputs": [],
   "source": [
    "record = Record(\n",
    "    record_path=Results_Path, \n",
    "    record_static_data=True\n",
    ")\n"
   ]
  },
  {
   "cell_type": "code",
   "execution_count": null,
   "metadata": {},
   "outputs": [],
   "source": []
  },
  {
   "cell_type": "markdown",
   "metadata": {},
   "source": [
    "The simulator is defined with all the different necessary components we have built up so far"
   ]
  },
  {
   "cell_type": "code",
   "execution_count": 50,
   "metadata": {},
   "outputs": [],
   "source": [
    "Simulator.ActivityManager = CampActivityManager\n",
    "simulator = Simulator.from_file(\n",
    "    world=world,\n",
    "    interaction=interaction,\n",
    "    tracker=None,\n",
    "    leisure=leisure,\n",
    "    policies=policies,\n",
    "    config_filename=CONFIG_PATH,\n",
    "    epidemiology=epidemiology,\n",
    "    record=record,\n",
    ")"
   ]
  },
  {
   "cell_type": "markdown",
   "metadata": {},
   "source": [
    "Finally we can run a small simualation"
   ]
  },
  {
   "cell_type": "code",
   "execution_count": 51,
   "metadata": {
    "scrolled": true
   },
   "outputs": [
    {
     "name": "stdout",
     "output_type": "stream",
     "text": [
      "2022-04-25 12:05:45,828 - simulator - INFO - Starting simulation for 3 days at day 2020-05-24 00:00:00,to run for 3 days\n",
      "2022-04-25 12:05:45,871 - seed - INFO - Seeding Covid19 infections at date 2020-05-24\n",
      "2022-04-25 12:05:46,160 - rank - INFO - Next timestep\n",
      "2022-04-25 12:05:46,161 - simulator - INFO - ==================== timestep ====================\n",
      "2022-04-25 12:05:46,261 - rank - INFO - Rank 0 -- move_people -- 0.10016912900027819\n",
      "2022-04-25 12:05:46,262 - rank - INFO - Rank 0 -- move_people_waiting -- 5.0019998525385745e-06\n",
      "2022-04-25 12:05:46,262 - activity_manager - INFO - CMS: People COMS for rank 0/1 - 2.2880003598402254e-06,2.1457672119140625e-06 - 2020-05-24 00:00:00\n",
      "2022-04-25 12:05:46,266 - simulator - INFO - Info for rank 0, Date = 2020-05-24 00:00:00, number of deaths =  0, number of infected = 219\n",
      "2022-04-25 12:05:46,327 - rank - INFO - Rank 0 -- interaction -- 0.0646764630000689\n",
      "2022-04-25 12:05:46,328 - epidemiology - INFO - CMS: Infection COMS-v2 for rank 0/1(2)0.000290111000140314,0.00029015541076660156 - 2020-05-24 00:00:00\n",
      "2022-04-25 12:05:46,459 - rank - INFO - Rank 0 -- interaction_waiting -- 8.209000043279957e-06\n",
      "2022-04-25 12:05:46,471 - simulator - INFO - CMS: Timestep for rank 0/1 - 0.012378757999613299,0.012379169464111328 - 2020-05-24 00:00:00\n",
      "\n",
      "2022-04-25 12:05:46,472 - rank - INFO - Next timestep\n",
      "2022-04-25 12:05:46,473 - simulator - INFO - ==================== timestep ====================\n",
      "2022-04-25 12:05:47,257 - rank - INFO - Rank 0 -- move_people -- 0.783956087999286\n",
      "2022-04-25 12:05:47,258 - rank - INFO - Rank 0 -- move_people_waiting -- 5.173000317881815e-06\n",
      "2022-04-25 12:05:47,258 - activity_manager - INFO - CMS: People COMS for rank 0/1 - 2.495000444469042e-06,2.1457672119140625e-06 - 2020-05-24 03:00:00\n",
      "2022-04-25 12:05:47,262 - simulator - INFO - Info for rank 0, Date = 2020-05-24 03:00:00, number of deaths =  0, number of infected = 219\n",
      "2022-04-25 12:05:47,352 - rank - INFO - Rank 0 -- interaction -- 0.0936298850001549\n",
      "2022-04-25 12:05:47,354 - epidemiology - INFO - CMS: Infection COMS-v2 for rank 0/1(2)0.00027406499975768384,0.00027370452880859375 - 2020-05-24 03:00:00\n",
      "2022-04-25 12:05:47,385 - rank - INFO - Rank 0 -- interaction_waiting -- 5.796000550617464e-06\n",
      "2022-04-25 12:05:47,398 - simulator - INFO - CMS: Timestep for rank 0/1 - 0.013007292000111192,0.013008356094360352 - 2020-05-24 03:00:00\n",
      "\n",
      "2022-04-25 12:05:47,398 - rank - INFO - Next timestep\n",
      "2022-04-25 12:05:47,399 - simulator - INFO - ==================== timestep ====================\n",
      "2022-04-25 12:05:47,890 - rank - INFO - Rank 0 -- move_people -- 0.49016481199942064\n",
      "2022-04-25 12:05:47,890 - rank - INFO - Rank 0 -- move_people_waiting -- 5.84499957767548e-06\n",
      "2022-04-25 12:05:47,891 - activity_manager - INFO - CMS: People COMS for rank 0/1 - 2.887999471568037e-06,2.86102294921875e-06 - 2020-05-24 05:00:00\n",
      "2022-04-25 12:05:47,895 - simulator - INFO - Info for rank 0, Date = 2020-05-24 05:00:00, number of deaths =  0, number of infected = 221\n",
      "2022-04-25 12:05:47,983 - rank - INFO - Rank 0 -- interaction -- 0.09229550899999595\n",
      "2022-04-25 12:05:47,986 - epidemiology - INFO - CMS: Infection COMS-v2 for rank 0/1(2)0.00026422199971420923,0.0002636909484863281 - 2020-05-24 05:00:00\n",
      "2022-04-25 12:05:48,020 - rank - INFO - Rank 0 -- interaction_waiting -- 6.364999535435345e-06\n",
      "2022-04-25 12:05:48,034 - simulator - INFO - CMS: Timestep for rank 0/1 - 0.01370527899962326,0.013705730438232422 - 2020-05-24 05:00:00\n",
      "\n",
      "2022-04-25 12:05:48,035 - rank - INFO - Next timestep\n",
      "2022-04-25 12:05:48,036 - simulator - INFO - ==================== timestep ====================\n",
      "2022-04-25 12:05:48,536 - rank - INFO - Rank 0 -- move_people -- 0.4993205800001306\n",
      "2022-04-25 12:05:48,536 - rank - INFO - Rank 0 -- move_people_waiting -- 5.984000381431542e-06\n",
      "2022-04-25 12:05:48,537 - activity_manager - INFO - CMS: People COMS for rank 0/1 - 3.3269998311880045e-06,3.337860107421875e-06 - 2020-05-24 07:00:00\n",
      "2022-04-25 12:05:48,541 - simulator - INFO - Info for rank 0, Date = 2020-05-24 07:00:00, number of deaths =  0, number of infected = 226\n",
      "2022-04-25 12:05:48,618 - rank - INFO - Rank 0 -- interaction -- 0.08091092700033187\n",
      "2022-04-25 12:05:48,621 - epidemiology - INFO - CMS: Infection COMS-v2 for rank 0/1(2)0.00047458300014113775,0.00047469139099121094 - 2020-05-24 07:00:00\n",
      "2022-04-25 12:05:48,652 - rank - INFO - Rank 0 -- interaction_waiting -- 4.503999662119895e-06\n",
      "2022-04-25 12:05:48,662 - simulator - INFO - CMS: Timestep for rank 0/1 - 0.009882288999506272,0.009882450103759766 - 2020-05-24 07:00:00\n",
      "\n",
      "2022-04-25 12:05:48,663 - rank - INFO - Next timestep\n",
      "2022-04-25 12:05:48,663 - simulator - INFO - ==================== timestep ====================\n",
      "2022-04-25 12:05:49,201 - rank - INFO - Rank 0 -- move_people -- 0.5377847680001651\n",
      "2022-04-25 12:05:49,202 - rank - INFO - Rank 0 -- move_people_waiting -- 4.857000021729618e-06\n",
      "2022-04-25 12:05:49,202 - activity_manager - INFO - CMS: People COMS for rank 0/1 - 2.544999915699009e-06,2.6226043701171875e-06 - 2020-05-24 09:00:00\n",
      "2022-04-25 12:05:49,206 - simulator - INFO - Info for rank 0, Date = 2020-05-24 09:00:00, number of deaths =  0, number of infected = 229\n",
      "2022-04-25 12:05:49,286 - rank - INFO - Rank 0 -- interaction -- 0.08345401699989452\n",
      "2022-04-25 12:05:49,289 - epidemiology - INFO - CMS: Infection COMS-v2 for rank 0/1(2)0.0010114289998455206,0.001010894775390625 - 2020-05-24 09:00:00\n",
      "2022-04-25 12:05:49,435 - rank - INFO - Rank 0 -- interaction_waiting -- 5.697000233340077e-06\n",
      "2022-04-25 12:05:49,448 - simulator - INFO - CMS: Timestep for rank 0/1 - 0.012620135000361188,0.012619972229003906 - 2020-05-24 09:00:00\n",
      "\n",
      "2022-04-25 12:05:49,449 - rank - INFO - Next timestep\n",
      "2022-04-25 12:05:49,449 - simulator - INFO - ==================== timestep ====================\n",
      "2022-04-25 12:05:49,584 - rank - INFO - Rank 0 -- move_people -- 0.13403024899980664\n",
      "2022-04-25 12:05:49,584 - rank - INFO - Rank 0 -- move_people_waiting -- 7.110000296961516e-06\n",
      "2022-04-25 12:05:49,585 - activity_manager - INFO - CMS: People COMS for rank 0/1 - 3.839000783045776e-06,3.5762786865234375e-06 - 2020-05-24 11:00:00\n",
      "2022-04-25 12:05:49,590 - simulator - INFO - Info for rank 0, Date = 2020-05-24 11:00:00, number of deaths =  0, number of infected = 232\n",
      "2022-04-25 12:05:49,659 - rank - INFO - Rank 0 -- interaction -- 0.07345549300043785\n",
      "2022-04-25 12:05:49,672 - epidemiology - INFO - CMS: Infection COMS-v2 for rank 0/1(2)0.0002017940005316632,0.0002014636993408203 - 2020-05-24 11:00:00\n",
      "2022-04-25 12:05:49,705 - rank - INFO - Rank 0 -- interaction_waiting -- 6.104000021878164e-06\n",
      "2022-04-25 12:05:49,718 - simulator - INFO - CMS: Timestep for rank 0/1 - 0.013104605000080483,0.013104915618896484 - 2020-05-24 11:00:00\n",
      "\n",
      "2022-04-25 12:05:49,720 - rank - INFO - Next timestep\n",
      "2022-04-25 12:05:49,721 - simulator - INFO - ==================== timestep ====================\n",
      "2022-04-25 12:05:49,849 - rank - INFO - Rank 0 -- move_people -- 0.12759555699994962\n",
      "2022-04-25 12:05:49,849 - rank - INFO - Rank 0 -- move_people_waiting -- 4.749999789055437e-06\n",
      "2022-04-25 12:05:49,850 - activity_manager - INFO - CMS: People COMS for rank 0/1 - 2.249999852210749e-06,2.384185791015625e-06 - 2020-05-25 00:00:00\n",
      "2022-04-25 12:05:49,853 - simulator - INFO - Info for rank 0, Date = 2020-05-25 00:00:00, number of deaths =  0, number of infected = 255\n",
      "2022-04-25 12:05:49,907 - rank - INFO - Rank 0 -- interaction -- 0.05637691999982053\n",
      "2022-04-25 12:05:49,911 - epidemiology - INFO - CMS: Infection COMS-v2 for rank 0/1(2)0.0007986750006239163,0.0007984638214111328 - 2020-05-25 00:00:00\n",
      "2022-04-25 12:05:49,937 - rank - INFO - Rank 0 -- interaction_waiting -- 5.765999958384782e-06\n",
      "2022-04-25 12:05:49,947 - simulator - INFO - CMS: Timestep for rank 0/1 - 0.009870191000118211,0.009870290756225586 - 2020-05-25 00:00:00\n",
      "\n",
      "2022-04-25 12:05:49,949 - rank - INFO - Next timestep\n",
      "2022-04-25 12:05:49,949 - simulator - INFO - ==================== timestep ====================\n",
      "2022-04-25 12:05:50,422 - rank - INFO - Rank 0 -- move_people -- 0.47223982400009845\n",
      "2022-04-25 12:05:50,423 - rank - INFO - Rank 0 -- move_people_waiting -- 4.287000592739787e-06\n",
      "2022-04-25 12:05:50,423 - activity_manager - INFO - CMS: People COMS for rank 0/1 - 2.5260005713789724e-06,2.6226043701171875e-06 - 2020-05-25 02:00:00\n"
     ]
    },
    {
     "name": "stdout",
     "output_type": "stream",
     "text": [
      "2022-04-25 12:05:50,427 - simulator - INFO - Info for rank 0, Date = 2020-05-25 02:00:00, number of deaths =  0, number of infected = 262\n",
      "2022-04-25 12:05:50,515 - rank - INFO - Rank 0 -- interaction -- 0.09127527300006477\n",
      "2022-04-25 12:05:50,519 - epidemiology - INFO - CMS: Infection COMS-v2 for rank 0/1(2)0.0006159710001156782,0.0006160736083984375 - 2020-05-25 02:00:00\n",
      "2022-04-25 12:05:50,547 - rank - INFO - Rank 0 -- interaction_waiting -- 5.554999916057568e-06\n",
      "2022-04-25 12:05:50,558 - simulator - INFO - CMS: Timestep for rank 0/1 - 0.011372691000360646,0.011373043060302734 - 2020-05-25 02:00:00\n",
      "\n",
      "2022-04-25 12:05:50,560 - rank - INFO - Next timestep\n",
      "2022-04-25 12:05:50,561 - simulator - INFO - ==================== timestep ====================\n",
      "2022-04-25 12:05:51,034 - rank - INFO - Rank 0 -- move_people -- 0.47270607100017514\n",
      "2022-04-25 12:05:51,034 - rank - INFO - Rank 0 -- move_people_waiting -- 5.2340001275297254e-06\n",
      "2022-04-25 12:05:51,035 - activity_manager - INFO - CMS: People COMS for rank 0/1 - 3.2819998523336835e-06,3.0994415283203125e-06 - 2020-05-25 04:00:00\n",
      "2022-04-25 12:05:51,040 - simulator - INFO - Info for rank 0, Date = 2020-05-25 04:00:00, number of deaths =  0, number of infected = 269\n",
      "2022-04-25 12:05:51,159 - rank - INFO - Rank 0 -- interaction -- 0.12335796099978324\n",
      "2022-04-25 12:05:51,164 - epidemiology - INFO - CMS: Infection COMS-v2 for rank 0/1(2)0.0010107069992955076,0.0010104179382324219 - 2020-05-25 04:00:00\n",
      "2022-04-25 12:05:51,200 - rank - INFO - Rank 0 -- interaction_waiting -- 6.166999810375273e-06\n",
      "2022-04-25 12:05:51,214 - simulator - INFO - CMS: Timestep for rank 0/1 - 0.013172285000109696,0.013172626495361328 - 2020-05-25 04:00:00\n",
      "\n",
      "2022-04-25 12:05:51,216 - rank - INFO - Next timestep\n",
      "2022-04-25 12:05:51,216 - simulator - INFO - ==================== timestep ====================\n",
      "2022-04-25 12:05:51,717 - rank - INFO - Rank 0 -- move_people -- 0.4996242470006109\n",
      "2022-04-25 12:05:51,717 - rank - INFO - Rank 0 -- move_people_waiting -- 5.185000190977007e-06\n",
      "2022-04-25 12:05:51,717 - activity_manager - INFO - CMS: People COMS for rank 0/1 - 2.0549996406771243e-06,1.9073486328125e-06 - 2020-05-25 06:00:00\n",
      "2022-04-25 12:05:51,723 - simulator - INFO - Info for rank 0, Date = 2020-05-25 06:00:00, number of deaths =  0, number of infected = 276\n",
      "2022-04-25 12:05:51,813 - rank - INFO - Rank 0 -- interaction -- 0.09526623100009601\n",
      "2022-04-25 12:05:51,817 - epidemiology - INFO - CMS: Infection COMS-v2 for rank 0/1(2)0.00023336899994319538,0.00023293495178222656 - 2020-05-25 06:00:00\n",
      "2022-04-25 12:05:51,844 - rank - INFO - Rank 0 -- interaction_waiting -- 4.218999492877629e-06\n",
      "2022-04-25 12:05:51,859 - simulator - INFO - CMS: Timestep for rank 0/1 - 0.015362434999588004,0.0153656005859375 - 2020-05-25 06:00:00\n",
      "\n",
      "2022-04-25 12:05:51,861 - rank - INFO - Next timestep\n",
      "2022-04-25 12:05:51,861 - simulator - INFO - ==================== timestep ====================\n",
      "2022-04-25 12:05:52,356 - rank - INFO - Rank 0 -- move_people -- 0.49392186099976243\n",
      "2022-04-25 12:05:52,356 - rank - INFO - Rank 0 -- move_people_waiting -- 5.527000212168787e-06\n",
      "2022-04-25 12:05:52,357 - activity_manager - INFO - CMS: People COMS for rank 0/1 - 2.58999989455333e-06,2.384185791015625e-06 - 2020-05-25 08:00:00\n",
      "2022-04-25 12:05:52,360 - simulator - INFO - Info for rank 0, Date = 2020-05-25 08:00:00, number of deaths =  0, number of infected = 281\n",
      "2022-04-25 12:05:52,432 - rank - INFO - Rank 0 -- interaction -- 0.07510818999980984\n",
      "2022-04-25 12:05:52,435 - epidemiology - INFO - CMS: Infection COMS-v2 for rank 0/1(2)0.0004152889996476006,0.0004150867462158203 - 2020-05-25 08:00:00\n",
      "2022-04-25 12:05:52,463 - rank - INFO - Rank 0 -- interaction_waiting -- 4.900000021734741e-06\n",
      "2022-04-25 12:05:52,473 - simulator - INFO - CMS: Timestep for rank 0/1 - 0.010333296999306185,0.010333776473999023 - 2020-05-25 08:00:00\n",
      "\n",
      "2022-04-25 12:05:52,475 - rank - INFO - Next timestep\n",
      "2022-04-25 12:05:52,475 - simulator - INFO - ==================== timestep ====================\n",
      "2022-04-25 12:05:52,583 - rank - INFO - Rank 0 -- move_people -- 0.10763860399947589\n",
      "2022-04-25 12:05:52,584 - rank - INFO - Rank 0 -- move_people_waiting -- 4.685999556386378e-06\n",
      "2022-04-25 12:05:52,584 - activity_manager - INFO - CMS: People COMS for rank 0/1 - 2.592999408079777e-06,2.384185791015625e-06 - 2020-05-25 10:00:00\n",
      "2022-04-25 12:05:52,588 - simulator - INFO - Info for rank 0, Date = 2020-05-25 10:00:00, number of deaths =  0, number of infected = 285\n",
      "2022-04-25 12:05:52,653 - rank - INFO - Rank 0 -- interaction -- 0.0680411749999621\n",
      "2022-04-25 12:05:52,671 - epidemiology - INFO - CMS: Infection COMS-v2 for rank 0/1(2)0.00048708800022723153,0.00048661231994628906 - 2020-05-25 10:00:00\n",
      "2022-04-25 12:05:52,705 - rank - INFO - Rank 0 -- interaction_waiting -- 5.5300006351899356e-06\n",
      "2022-04-25 12:05:52,718 - simulator - INFO - CMS: Timestep for rank 0/1 - 0.01298305300042557,0.012983083724975586 - 2020-05-25 10:00:00\n",
      "\n",
      "2022-04-25 12:05:52,720 - rank - INFO - Next timestep\n",
      "2022-04-25 12:05:52,722 - simulator - INFO - ==================== timestep ====================\n",
      "2022-04-25 12:05:52,856 - rank - INFO - Rank 0 -- move_people -- 0.13379228499979945\n",
      "2022-04-25 12:05:52,857 - rank - INFO - Rank 0 -- move_people_waiting -- 4.872999852523208e-06\n",
      "2022-04-25 12:05:52,857 - activity_manager - INFO - CMS: People COMS for rank 0/1 - 2.043000677076634e-06,2.1457672119140625e-06 - 2020-05-26 00:00:00\n",
      "2022-04-25 12:05:52,860 - simulator - INFO - Info for rank 0, Date = 2020-05-26 00:00:00, number of deaths =  0, number of infected = 319\n",
      "2022-04-25 12:05:52,914 - rank - INFO - Rank 0 -- interaction -- 0.05674918200020329\n",
      "2022-04-25 12:05:52,919 - epidemiology - INFO - CMS: Infection COMS-v2 for rank 0/1(2)0.0006918250001035631,0.0006914138793945312 - 2020-05-26 00:00:00\n",
      "2022-04-25 12:05:52,948 - rank - INFO - Rank 0 -- interaction_waiting -- 5.22399932378903e-06\n",
      "2022-04-25 12:05:52,958 - simulator - INFO - CMS: Timestep for rank 0/1 - 0.010494875999938813,0.010495185852050781 - 2020-05-26 00:00:00\n",
      "\n",
      "2022-04-25 12:05:52,960 - rank - INFO - Next timestep\n",
      "2022-04-25 12:05:52,960 - simulator - INFO - ==================== timestep ====================\n",
      "2022-04-25 12:05:53,472 - rank - INFO - Rank 0 -- move_people -- 0.5108921250002822\n",
      "2022-04-25 12:05:53,472 - rank - INFO - Rank 0 -- move_people_waiting -- 5.472000339068472e-06\n",
      "2022-04-25 12:05:53,473 - activity_manager - INFO - CMS: People COMS for rank 0/1 - 2.4470000425935723e-06,2.1457672119140625e-06 - 2020-05-26 02:00:00\n",
      "2022-04-25 12:05:53,477 - simulator - INFO - Info for rank 0, Date = 2020-05-26 02:00:00, number of deaths =  0, number of infected = 330\n",
      "2022-04-25 12:05:53,599 - rank - INFO - Rank 0 -- interaction -- 0.1250067789997047\n",
      "2022-04-25 12:05:53,610 - epidemiology - INFO - CMS: Infection COMS-v2 for rank 0/1(2)0.0007526449999204488,0.0007519721984863281 - 2020-05-26 02:00:00\n",
      "2022-04-25 12:05:53,645 - rank - INFO - Rank 0 -- interaction_waiting -- 4.749999789055437e-06\n",
      "2022-04-25 12:05:53,655 - simulator - INFO - CMS: Timestep for rank 0/1 - 0.010147066999707022,0.010147571563720703 - 2020-05-26 02:00:00\n",
      "\n",
      "2022-04-25 12:05:53,656 - rank - INFO - Next timestep\n",
      "2022-04-25 12:05:53,657 - simulator - INFO - ==================== timestep ====================\n",
      "2022-04-25 12:05:54,148 - rank - INFO - Rank 0 -- move_people -- 0.4906137250000029\n",
      "2022-04-25 12:05:54,149 - rank - INFO - Rank 0 -- move_people_waiting -- 4.537000677373726e-06\n",
      "2022-04-25 12:05:54,149 - activity_manager - INFO - CMS: People COMS for rank 0/1 - 2.6580000849207863e-06,2.6226043701171875e-06 - 2020-05-26 04:00:00\n",
      "2022-04-25 12:05:54,154 - simulator - INFO - Info for rank 0, Date = 2020-05-26 04:00:00, number of deaths =  0, number of infected = 348\n",
      "2022-04-25 12:05:54,284 - rank - INFO - Rank 0 -- interaction -- 0.1339677229998415\n",
      "2022-04-25 12:05:54,291 - epidemiology - INFO - CMS: Infection COMS-v2 for rank 0/1(2)0.0002396019999650889,0.00023937225341796875 - 2020-05-26 04:00:00\n",
      "2022-04-25 12:05:54,326 - rank - INFO - Rank 0 -- interaction_waiting -- 5.267999767966103e-06\n",
      "2022-04-25 12:05:54,336 - simulator - INFO - CMS: Timestep for rank 0/1 - 0.010629766999954882,0.010630369186401367 - 2020-05-26 04:00:00\n",
      "\n"
     ]
    },
    {
     "name": "stdout",
     "output_type": "stream",
     "text": [
      "2022-04-25 12:05:54,338 - rank - INFO - Next timestep\n",
      "2022-04-25 12:05:54,339 - simulator - INFO - ==================== timestep ====================\n",
      "2022-04-25 12:05:54,849 - rank - INFO - Rank 0 -- move_people -- 0.5102027580005597\n",
      "2022-04-25 12:05:54,850 - rank - INFO - Rank 0 -- move_people_waiting -- 5.4210004236665554e-06\n",
      "2022-04-25 12:05:54,850 - activity_manager - INFO - CMS: People COMS for rank 0/1 - 2.094000592478551e-06,1.9073486328125e-06 - 2020-05-26 06:00:00\n",
      "2022-04-25 12:05:54,854 - simulator - INFO - Info for rank 0, Date = 2020-05-26 06:00:00, number of deaths =  0, number of infected = 364\n",
      "2022-04-25 12:05:54,952 - rank - INFO - Rank 0 -- interaction -- 0.10117239400005928\n",
      "2022-04-25 12:05:54,961 - epidemiology - INFO - CMS: Infection COMS-v2 for rank 0/1(2)0.0009072250004464877,0.0009067058563232422 - 2020-05-26 06:00:00\n",
      "2022-04-25 12:05:54,985 - rank - INFO - Rank 0 -- interaction_waiting -- 4.399000317789614e-06\n",
      "2022-04-25 12:05:54,995 - simulator - INFO - CMS: Timestep for rank 0/1 - 0.009954084999662882,0.009954214096069336 - 2020-05-26 06:00:00\n",
      "\n",
      "2022-04-25 12:05:54,997 - rank - INFO - Next timestep\n",
      "2022-04-25 12:05:54,997 - simulator - INFO - ==================== timestep ====================\n",
      "2022-04-25 12:05:55,504 - rank - INFO - Rank 0 -- move_people -- 0.5065557990001253\n",
      "2022-04-25 12:05:55,505 - rank - INFO - Rank 0 -- move_people_waiting -- 5.169999894860666e-06\n",
      "2022-04-25 12:05:55,505 - activity_manager - INFO - CMS: People COMS for rank 0/1 - 2.1189998733461834e-06,1.9073486328125e-06 - 2020-05-26 08:00:00\n",
      "2022-04-25 12:05:55,509 - simulator - INFO - Info for rank 0, Date = 2020-05-26 08:00:00, number of deaths =  0, number of infected = 382\n",
      "2022-04-25 12:05:55,600 - rank - INFO - Rank 0 -- interaction -- 0.09402593699996942\n",
      "2022-04-25 12:05:55,603 - epidemiology - INFO - CMS: Infection COMS-v2 for rank 0/1(2)0.0002059400003417977,0.00020575523376464844 - 2020-05-26 08:00:00\n",
      "2022-04-25 12:05:55,631 - rank - INFO - Rank 0 -- interaction_waiting -- 4.704999810201116e-06\n",
      "2022-04-25 12:05:55,641 - simulator - INFO - CMS: Timestep for rank 0/1 - 0.010376567999628605,0.010376930236816406 - 2020-05-26 08:00:00\n",
      "\n",
      "2022-04-25 12:05:55,643 - rank - INFO - Next timestep\n",
      "2022-04-25 12:05:55,643 - simulator - INFO - ==================== timestep ====================\n",
      "2022-04-25 12:05:55,759 - rank - INFO - Rank 0 -- move_people -- 0.11494074300026114\n",
      "2022-04-25 12:05:55,759 - rank - INFO - Rank 0 -- move_people_waiting -- 6.455000402638689e-06\n",
      "2022-04-25 12:05:55,760 - activity_manager - INFO - CMS: People COMS for rank 0/1 - 2.2920003175386228e-06,1.9073486328125e-06 - 2020-05-26 10:00:00\n",
      "2022-04-25 12:05:55,763 - simulator - INFO - Info for rank 0, Date = 2020-05-26 10:00:00, number of deaths =  0, number of infected = 391\n",
      "2022-04-25 12:05:55,823 - rank - INFO - Rank 0 -- interaction -- 0.06337741799961805\n",
      "2022-04-25 12:05:55,848 - epidemiology - INFO - CMS: Infection COMS-v2 for rank 0/1(2)0.0002979809996759286,0.00029730796813964844 - 2020-05-26 10:00:00\n",
      "2022-04-25 12:05:55,876 - rank - INFO - Rank 0 -- interaction_waiting -- 4.5229999159346335e-06\n",
      "2022-04-25 12:05:55,887 - simulator - INFO - CMS: Timestep for rank 0/1 - 0.010152992000257655,0.010153055191040039 - 2020-05-26 10:00:00\n",
      "\n",
      "CPU times: user 10.2 s, sys: 271 ms, total: 10.5 s\n",
      "Wall time: 10.1 s\n"
     ]
    }
   ],
   "source": [
    "%%time\n",
    "simulator.run()"
   ]
  },
  {
   "cell_type": "markdown",
   "metadata": {},
   "source": [
    "# Getting the results"
   ]
  },
  {
   "cell_type": "markdown",
   "metadata": {},
   "source": [
    "All results are stored in a json file specified in the `record_path` when defining the recorder. This can be read in by passing the folder locations to the `RecordReader` class and results derived.\n",
    "\n",
    "Here we show some examples of the kind of analysis you can extract from the records."
   ]
  },
  {
   "cell_type": "code",
   "execution_count": 52,
   "metadata": {},
   "outputs": [],
   "source": [
    "import pandas as pd"
   ]
  },
  {
   "cell_type": "code",
   "execution_count": 53,
   "metadata": {},
   "outputs": [],
   "source": [
    "read = RecordReader(Results_Path)"
   ]
  },
  {
   "cell_type": "markdown",
   "metadata": {},
   "source": [
    "The regional summary gives you information at the regional (camp) level."
   ]
  },
  {
   "cell_type": "markdown",
   "metadata": {},
   "source": [
    "### Regional information"
   ]
  },
  {
   "cell_type": "code",
   "execution_count": 54,
   "metadata": {},
   "outputs": [
    {
     "data": {
      "text/html": [
       "<div>\n",
       "<style scoped>\n",
       "    .dataframe tbody tr th:only-of-type {\n",
       "        vertical-align: middle;\n",
       "    }\n",
       "\n",
       "    .dataframe tbody tr th {\n",
       "        vertical-align: top;\n",
       "    }\n",
       "\n",
       "    .dataframe thead th {\n",
       "        text-align: right;\n",
       "    }\n",
       "</style>\n",
       "<table border=\"1\" class=\"dataframe\">\n",
       "  <thead>\n",
       "    <tr style=\"text-align: right;\">\n",
       "      <th></th>\n",
       "      <th>region</th>\n",
       "      <th>current_infected</th>\n",
       "      <th>daily_infected</th>\n",
       "      <th>current_hospitalised</th>\n",
       "      <th>daily_hospitalised</th>\n",
       "      <th>current_intensive_care</th>\n",
       "      <th>daily_intensive_care</th>\n",
       "      <th>daily_hospital_deaths</th>\n",
       "      <th>daily_deaths</th>\n",
       "    </tr>\n",
       "    <tr>\n",
       "      <th>time_stamp</th>\n",
       "      <th></th>\n",
       "      <th></th>\n",
       "      <th></th>\n",
       "      <th></th>\n",
       "      <th></th>\n",
       "      <th></th>\n",
       "      <th></th>\n",
       "      <th></th>\n",
       "      <th></th>\n",
       "    </tr>\n",
       "  </thead>\n",
       "  <tbody>\n",
       "    <tr>\n",
       "      <th>2020-05-24</th>\n",
       "      <td>CXB-219</td>\n",
       "      <td>230.333333</td>\n",
       "      <td>255</td>\n",
       "      <td>0</td>\n",
       "      <td>0</td>\n",
       "      <td>0</td>\n",
       "      <td>0</td>\n",
       "      <td>0</td>\n",
       "      <td>0</td>\n",
       "    </tr>\n",
       "    <tr>\n",
       "      <th>2020-05-25</th>\n",
       "      <td>CXB-219</td>\n",
       "      <td>282.000000</td>\n",
       "      <td>64</td>\n",
       "      <td>0</td>\n",
       "      <td>0</td>\n",
       "      <td>0</td>\n",
       "      <td>0</td>\n",
       "      <td>0</td>\n",
       "      <td>0</td>\n",
       "    </tr>\n",
       "    <tr>\n",
       "      <th>2020-05-26</th>\n",
       "      <td>CXB-219</td>\n",
       "      <td>378.333333</td>\n",
       "      <td>136</td>\n",
       "      <td>0</td>\n",
       "      <td>0</td>\n",
       "      <td>0</td>\n",
       "      <td>0</td>\n",
       "      <td>0</td>\n",
       "      <td>0</td>\n",
       "    </tr>\n",
       "  </tbody>\n",
       "</table>\n",
       "</div>"
      ],
      "text/plain": [
       "             region  current_infected  daily_infected  current_hospitalised  \\\n",
       "time_stamp                                                                    \n",
       "2020-05-24  CXB-219        230.333333             255                     0   \n",
       "2020-05-25  CXB-219        282.000000              64                     0   \n",
       "2020-05-26  CXB-219        378.333333             136                     0   \n",
       "\n",
       "            daily_hospitalised  current_intensive_care  daily_intensive_care  \\\n",
       "time_stamp                                                                     \n",
       "2020-05-24                   0                       0                     0   \n",
       "2020-05-25                   0                       0                     0   \n",
       "2020-05-26                   0                       0                     0   \n",
       "\n",
       "            daily_hospital_deaths  daily_deaths  \n",
       "time_stamp                                       \n",
       "2020-05-24                      0             0  \n",
       "2020-05-25                      0             0  \n",
       "2020-05-26                      0             0  "
      ]
     },
     "execution_count": 54,
     "metadata": {},
     "output_type": "execute_result"
    }
   ],
   "source": [
    "read.regional_summary.head(3) # this is the equivalent of the summary.csv"
   ]
  },
  {
   "cell_type": "markdown",
   "metadata": {},
   "source": [
    "### Daily infections"
   ]
  },
  {
   "cell_type": "code",
   "execution_count": 55,
   "metadata": {},
   "outputs": [],
   "source": [
    "summary = read.regional_summary.reset_index()"
   ]
  },
  {
   "cell_type": "code",
   "execution_count": 56,
   "metadata": {},
   "outputs": [
    {
     "data": {
      "image/png": "[encoded data removed]",
      "text/plain": [
       "<Figure size 432x288 with 1 Axes>"
      ]
     },
     "metadata": {
      "needs_background": "light"
     },
     "output_type": "display_data"
    }
   ],
   "source": [
    "summary.groupby(['time_stamp']).sum().plot(y=['daily_infected'])\n",
    "plt.ylabel('Daily infections')\n",
    "plt.show()"
   ]
  },
  {
   "cell_type": "markdown",
   "metadata": {},
   "source": [
    "### Hospital and intensive care"
   ]
  },
  {
   "cell_type": "code",
   "execution_count": 57,
   "metadata": {},
   "outputs": [
    {
     "data": {
      "image/png": "[encoded data removed]",
      "text/plain": [
       "<Figure size 432x288 with 1 Axes>"
      ]
     },
     "metadata": {
      "needs_background": "light"
     },
     "output_type": "display_data"
    }
   ],
   "source": [
    "summary.groupby(['time_stamp']).sum().plot(y=['current_hospitalised', 'current_intensive_care'])\n",
    "plt.show()"
   ]
  },
  {
   "cell_type": "markdown",
   "metadata": {},
   "source": [
    "### Cumulative infections by age"
   ]
  },
  {
   "cell_type": "code",
   "execution_count": 58,
   "metadata": {},
   "outputs": [
    {
     "name": "stdout",
     "output_type": "stream",
     "text": [
      "2022-04-25 12:05:56,185 - june.records.records_reader - INFO - Loading infections table\n",
      "2022-04-25 12:05:56,193 - june.records.records_reader - INFO - Loading population table\n",
      "2022-04-25 12:05:56,238 - june.records.records_reader - INFO - Merging infection and population tables\n",
      "2022-04-25 12:05:56,241 - june.records.records_reader - INFO - Loading geography table\n",
      "2022-04-25 12:05:56,263 - june.records.records_reader - INFO - Mergeing infection and geography tables\n"
     ]
    }
   ],
   "source": [
    "infections_df = read.get_table_with_extras('infections',\n",
    "                                           'infected_ids')"
   ]
  },
  {
   "cell_type": "code",
   "execution_count": 59,
   "metadata": {},
   "outputs": [
    {
     "name": "stdout",
     "output_type": "stream",
     "text": [
      "2022-04-25 12:05:56,275 - june.records.records_reader - INFO - Loading deaths table\n",
      "2022-04-25 12:05:56,280 - june.records.records_reader - INFO - Loading population table\n",
      "2022-04-25 12:05:56,322 - june.records.records_reader - INFO - Merging infection and population tables\n",
      "2022-04-25 12:05:56,328 - june.records.records_reader - INFO - Loading geography table\n",
      "2022-04-25 12:05:56,347 - june.records.records_reader - INFO - Mergeing infection and geography tables\n"
     ]
    }
   ],
   "source": [
    "deaths_df = read.get_table_with_extras('deaths', \n",
    "                                       'dead_person_ids')"
   ]
  },
  {
   "cell_type": "code",
   "execution_count": 60,
   "metadata": {},
   "outputs": [],
   "source": [
    "age_bins = (0,20,60,100)"
   ]
  },
  {
   "cell_type": "code",
   "execution_count": 61,
   "metadata": {},
   "outputs": [],
   "source": [
    "infected_by_age = infections_df.groupby([pd.cut(infections_df['age'],\n",
    "            bins=age_bins), 'timestamp']).size()"
   ]
  },
  {
   "cell_type": "code",
   "execution_count": 62,
   "metadata": {},
   "outputs": [],
   "source": [
    "people_df = read.table_to_df('population')"
   ]
  },
  {
   "cell_type": "code",
   "execution_count": 63,
   "metadata": {},
   "outputs": [],
   "source": [
    "n_by_age = people_df.groupby(pd.cut(people_df['age'],\n",
    "            bins=age_bins)).size()"
   ]
  },
  {
   "cell_type": "code",
   "execution_count": 64,
   "metadata": {},
   "outputs": [
    {
     "data": {
      "text/plain": [
       "<matplotlib.legend.Legend at 0x7f70cb7a3dc0>"
      ]
     },
     "execution_count": 64,
     "metadata": {},
     "output_type": "execute_result"
    },
    {
     "data": {
      "image/png": "[encoded data removed]",
      "text/plain": [
       "<Figure size 432x288 with 1 Axes>"
      ]
     },
     "metadata": {
      "needs_background": "light"
     },
     "output_type": "display_data"
    }
   ],
   "source": [
    "(100*infected_by_age/n_by_age).xs(10).cumsum().plot(label='0,20')\n",
    "(100*infected_by_age/n_by_age).xs(30).cumsum().plot(label='20,60')\n",
    "(100*infected_by_age/n_by_age).xs(70).cumsum().plot(label='60,100')\n",
    "plt.ylabel(\"% cumulative infected\")\n",
    "plt.legend()"
   ]
  },
  {
   "cell_type": "markdown",
   "metadata": {},
   "source": [
    "### Where people get infected"
   ]
  },
  {
   "cell_type": "code",
   "execution_count": 65,
   "metadata": {},
   "outputs": [],
   "source": [
    "locations_df = infections_df.groupby(['location_specs', \n",
    "                                'timestamp']).size()"
   ]
  },
  {
   "cell_type": "code",
   "execution_count": 66,
   "metadata": {},
   "outputs": [
    {
     "data": {
      "text/plain": [
       "<AxesSubplot:xlabel='timestamp'>"
      ]
     },
     "execution_count": 66,
     "metadata": {},
     "output_type": "execute_result"
    },
    {
     "data": {
      "image/png": "[encoded data removed]",
      "text/plain": [
       "<Figure size 432x288 with 1 Axes>"
      ]
     },
     "metadata": {
      "needs_background": "light"
     },
     "output_type": "display_data"
    }
   ],
   "source": [
    "locations_df.unstack(level=0).plot()"
   ]
  },
  {
   "cell_type": "code",
   "execution_count": 67,
   "metadata": {},
   "outputs": [
    {
     "data": {
      "text/plain": [
       "Text(0.5, 0, 'location')"
      ]
     },
     "execution_count": 67,
     "metadata": {},
     "output_type": "execute_result"
    },
    {
     "data": {
      "image/png": "[encoded data removed]",
      "text/plain": [
       "<Figure size 432x288 with 1 Axes>"
      ]
     },
     "metadata": {
      "needs_background": "light"
     },
     "output_type": "display_data"
    }
   ],
   "source": [
    "import matplotlib.ticker as mtick\n",
    "location_counts_df = locations_df.groupby('location_specs').size()\n",
    "location_counts_df = 100*location_counts_df / location_counts_df.sum()\n",
    "ax = location_counts_df.sort_values().plot.bar()\n",
    "ax.yaxis.set_major_formatter(mtick.PercentFormatter())\n",
    "plt.ylabel('Percentage of infections at location')\n",
    "plt.xlabel('location')"
   ]
  },
  {
   "cell_type": "code",
   "execution_count": null,
   "metadata": {},
   "outputs": [],
   "source": []
  },
  {
   "cell_type": "code",
   "execution_count": null,
   "metadata": {},
   "outputs": [],
   "source": []
  }
 ],
 "metadata": {
  "kernelspec": {
   "display_name": "Python 3 (ipykernel)",
   "language": "python",
   "name": "python3"
  },
  "language_info": {
   "codemirror_mode": {
    "name": "ipython",
    "version": 3
   },
   "file_extension": ".py",
   "mimetype": "text/x-python",
   "name": "python",
   "nbconvert_exporter": "python",
   "pygments_lexer": "ipython3",
   "version": "3.8.10"
  }
 },
 "nbformat": 4,
 "nbformat_minor": 4
}
