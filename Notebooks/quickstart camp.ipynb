{
 "cells": [
  {
   "cell_type": "code",
   "execution_count": 1,
   "metadata": {},
   "outputs": [],
   "source": [
    "import warnings\n",
    "warnings.filterwarnings('ignore')"
   ]
  },
  {
   "cell_type": "code",
   "execution_count": 2,
   "metadata": {},
   "outputs": [],
   "source": [
    "import numpy as np\n",
    "import pandas as pd\n",
    "import time\n",
    "import matplotlib.pyplot as plt\n",
    "from datetime import datetime\n",
    "import sys\n",
    "import argparse\n",
    "from pathlib import Path\n"
   ]
  },
  {
   "cell_type": "code",
   "execution_count": 3,
   "metadata": {},
   "outputs": [
    {
     "name": "stderr",
     "output_type": "stream",
     "text": [
      "No --data argument given - defaulting to:\n",
      "/home/joseph/Documents/PhD/UN_Work/JUNE/data\n",
      "No --configs argument given - defaulting to:\n",
      "/home/joseph/Documents/PhD/UN_Work/JUNE/june/configs\n"
     ]
    },
    {
     "name": "stdout",
     "output_type": "stream",
     "text": [
      "2022-02-07 13:58:00,470 - camps.paths - WARNING - No --camp_data argument given - defaulting to:\n",
      "/home/joseph/Documents/PhD/UN_Work/UNGP-settlement-modelling-private/camp_data\n",
      "2022-02-07 13:58:00,470 - camps.paths - WARNING - No --configs_camps argument given - defaulting to:\n",
      "/home/joseph/Documents/PhD/UN_Work/UNGP-settlement-modelling-private/configs_camps\n"
     ]
    }
   ],
   "source": [
    "from june.geography import Geography\n",
    "from june.demography.demography import (\n",
    "    load_age_and_sex_generators_for_bins,\n",
    "    Demography,\n",
    "    Population,\n",
    "    load_comorbidity_data,\n",
    "    generate_comorbidity,\n",
    ")\n",
    "from june.paths import data_path, configs_path\n",
    "from june.epidemiology.epidemiology import Epidemiology\n",
    "from june.epidemiology.infection import ImmunitySetter\n",
    "from june.epidemiology.infection import Infection, HealthIndexGenerator, InfectionSelector, InfectionSelectors\n",
    "from june.epidemiology.infection_seed import InfectionSeed, InfectionSeeds\n",
    "from june.interaction import Interaction\n",
    "from june.groups import Hospital, Hospitals, Cemeteries\n",
    "from june.distributors import HospitalDistributor\n",
    "from june.hdf5_savers import generate_world_from_hdf5\n",
    "from june.policy import Policy, Policies\n",
    "from june.records import Record\n",
    "from june.simulator import Simulator\n",
    "from june.records import Record, RecordReader\n",
    "\n",
    "from june.tracker.tracker import Tracker\n",
    "\n",
    "from camps.activity import CampActivityManager\n",
    "from camps.paths import camp_data_path, camp_configs_path\n",
    "from camps.world import World\n",
    "from camps.groups.leisure import generate_leisure_for_world, generate_leisure_for_config\n",
    "from camps.camp_creation import (\n",
    "    generate_empty_world,\n",
    "    populate_world,\n",
    "    distribute_people_to_households,\n",
    ")  # this is loaded from the ../camp_scripts folder\n",
    "\n"
   ]
  },
  {
   "cell_type": "code",
   "execution_count": 4,
   "metadata": {},
   "outputs": [],
   "source": [
    "from camps.groups import PumpLatrines, PumpLatrineDistributor\n",
    "from camps.groups import DistributionCenters, DistributionCenterDistributor\n",
    "from camps.groups import Communals, CommunalDistributor\n",
    "from camps.groups import FemaleCommunals, FemaleCommunalDistributor\n",
    "from camps.groups import Religiouss, ReligiousDistributor\n",
    "from camps.groups import Shelter, Shelters, ShelterDistributor\n",
    "from camps.groups import IsolationUnit, IsolationUnits\n",
    "from camps.groups import LearningCenters\n",
    "from camps.distributors import LearningCenterDistributor\n",
    "from camps.groups import PlayGroups, PlayGroupDistributor\n",
    "from camps.groups import EVouchers, EVoucherDistributor\n",
    "from camps.groups import NFDistributionCenters, NFDistributionCenterDistributor\n",
    "from camps.groups import SheltersVisitsDistributor"
   ]
  },
  {
   "cell_type": "code",
   "execution_count": 5,
   "metadata": {},
   "outputs": [],
   "source": [
    "Results_Path = Path(\"/home/joseph/Documents/PhD/UN_Work/Results\")\n",
    "\n",
    "Config_File_Path = camp_configs_path / \"config_demo.yaml\"\n",
    "Interactions_File_Path= camp_configs_path / \"defaults/interaction/ContactInteraction_subgroups.yaml\"\n",
    "Policies_File_Path = camp_configs_path / \"defaults/policy/home_care_policy.yaml\"\n",
    "\n",
    "Hospitals_File_Path = camp_data_path / \"input/hospitals/hospitals.csv\"\n",
    "\n",
    "comorbidity_multipliers_path = camp_configs_path / \"defaults/comorbidities.yaml\"\n",
    "male_comorbidity_reference_prevalence_path = camp_data_path / \"input/demography/uk_male_comorbidities.csv\"\n",
    "female_comorbidity_reference_prevalence_path = camp_data_path / \"input/demography/uk_female_comorbidities.csv\""
   ]
  },
  {
   "cell_type": "markdown",
   "metadata": {},
   "source": [
    "## Initialize the world"
   ]
  },
  {
   "cell_type": "markdown",
   "metadata": {},
   "source": [
    "When we create the camp to be simulated, we call this the 'world'. The world is initialised after specifying which geographical regions you want to simulate. We can do this by using the `filter_key` argument in the `generate_empty_world` function. Cox's Bazar Expansion Site is made up of camps (which we call regions), UNHCR blocks (which we call super areas) and Mahjee blocks (which we call areas). These are the 3 heirarchical levels on which our model works. You can pass lists of the regions/super_areas/areas to the function here. Alternatively, by leaving the function empty you can generate the entire Cox's Bazar Expansion Site consisting of 112 super areas."
   ]
  },
  {
   "cell_type": "code",
   "execution_count": 6,
   "metadata": {},
   "outputs": [
    {
     "name": "stdout",
     "output_type": "stream",
     "text": [
      "2022-02-07 13:58:00,928 - june.geography.geography - INFO - There are 65 areas and 4 super_areas and 1 regions in the world.\n"
     ]
    }
   ],
   "source": [
    "# create empty world's geography\n",
    "world = generate_empty_world(filter_key = {\"region\" : [\"CXB-219\"]})"
   ]
  },
  {
   "cell_type": "code",
   "execution_count": 7,
   "metadata": {},
   "outputs": [],
   "source": [
    "# populate empty world\n",
    "populate_world(world)"
   ]
  },
  {
   "cell_type": "code",
   "execution_count": 8,
   "metadata": {},
   "outputs": [],
   "source": [
    "# distribute people to households\n",
    "distribute_people_to_households(world)"
   ]
  },
  {
   "cell_type": "code",
   "execution_count": 9,
   "metadata": {},
   "outputs": [
    {
     "name": "stdout",
     "output_type": "stream",
     "text": [
      "2022-02-07 13:58:04,361 - hospitals - INFO - There are 8 hospitals in the world.\n"
     ]
    }
   ],
   "source": [
    "# distirbute hospitals\n",
    "hospitals = Hospitals.from_file(\n",
    "    filename=Hospitals_File_Path\n",
    ")\n",
    "for hospital in hospitals:\n",
    "    hospital.area = world.areas.get_closest_area(hospital.coordinates)\n",
    "world.hospitals = hospitals\n",
    "hospital_distributor = HospitalDistributor(\n",
    "    hospitals, medic_min_age=20, patients_per_medic=10\n",
    ")\n",
    "hospital_distributor.assign_closest_hospitals_to_super_areas(\n",
    "    world.super_areas\n",
    ")\n",
    "hospital_distributor.distribute_medics_from_world(world.people)"
   ]
  },
  {
   "cell_type": "code",
   "execution_count": 10,
   "metadata": {},
   "outputs": [
    {
     "name": "stdout",
     "output_type": "stream",
     "text": [
      "2022-02-07 13:58:04,403 - social_venue - INFO - Domain 0 has 225 pump_latrines(s)\n",
      "2022-02-07 13:58:04,427 - social_venue - INFO - Domain 0 has 500 play_groups(s)\n",
      "2022-02-07 13:58:04,433 - social_venue - INFO - Domain 0 has 7 distribution_centers(s)\n",
      "2022-02-07 13:58:04,472 - social_venue - INFO - Domain 0 has 125 communals(s)\n",
      "2022-02-07 13:58:04,492 - social_venue - INFO - Domain 0 has 67 female_communals(s)\n",
      "2022-02-07 13:58:04,931 - social_venue - INFO - Domain 0 has 2064 religiouss(s)\n",
      "2022-02-07 13:58:04,939 - social_venue - INFO - Domain 0 has 7 e_vouchers(s)\n",
      "2022-02-07 13:58:04,955 - social_venue - INFO - Domain 0 has 36 n_f_distribution_centers(s)\n"
     ]
    }
   ],
   "source": [
    "world.pump_latrines = PumpLatrines.for_areas(world.areas)\n",
    "world.play_groups = PlayGroups.for_areas(world.areas)\n",
    "world.distribution_centers = DistributionCenters.for_areas(world.areas)\n",
    "world.communals = Communals.for_areas(world.areas)\n",
    "world.female_communals = FemaleCommunals.for_areas(world.areas)\n",
    "world.religiouss = Religiouss.for_areas(world.areas)\n",
    "world.e_vouchers = EVouchers.for_areas(world.areas)\n",
    "world.n_f_distribution_centers = NFDistributionCenters.for_areas(world.areas)"
   ]
  },
  {
   "cell_type": "code",
   "execution_count": 11,
   "metadata": {},
   "outputs": [],
   "source": [
    "world.cemeteries = Cemeteries()"
   ]
  },
  {
   "cell_type": "markdown",
   "metadata": {},
   "source": [
    "## Geography exploration"
   ]
  },
  {
   "cell_type": "markdown",
   "metadata": {},
   "source": [
    "The geography is initialised first and can be explored."
   ]
  },
  {
   "cell_type": "markdown",
   "metadata": {},
   "source": [
    "### UNHCR camp blocks inside the World"
   ]
  },
  {
   "cell_type": "code",
   "execution_count": 12,
   "metadata": {},
   "outputs": [],
   "source": [
    "super_areas = []\n",
    "for super_area in world.super_areas:\n",
    "    super_areas.append(super_area.name)"
   ]
  },
  {
   "cell_type": "code",
   "execution_count": 13,
   "metadata": {},
   "outputs": [
    {
     "data": {
      "text/plain": [
       "['CXB-219-A', 'CXB-219-B', 'CXB-219-C', 'CXB-219-D']"
      ]
     },
     "execution_count": 13,
     "metadata": {},
     "output_type": "execute_result"
    }
   ],
   "source": [
    "super_areas[:5]"
   ]
  },
  {
   "cell_type": "markdown",
   "metadata": {},
   "source": [
    "### Mahjee blocks inside World"
   ]
  },
  {
   "cell_type": "code",
   "execution_count": 14,
   "metadata": {},
   "outputs": [],
   "source": [
    "areas = []\n",
    "for area in world.areas:\n",
    "    areas.append(area.name)"
   ]
  },
  {
   "cell_type": "code",
   "execution_count": 15,
   "metadata": {},
   "outputs": [
    {
     "data": {
      "text/plain": [
       "['CXB-219-001', 'CXB-219-002', 'CXB-219-003', 'CXB-219-004', 'CXB-219-005']"
      ]
     },
     "execution_count": 15,
     "metadata": {},
     "output_type": "execute_result"
    }
   ],
   "source": [
    "areas[:5]"
   ]
  },
  {
   "cell_type": "markdown",
   "metadata": {},
   "source": [
    "## Demography exploration"
   ]
  },
  {
   "cell_type": "markdown",
   "metadata": {},
   "source": [
    "Once we have populated the 'digital twin' we can explore some of the attributes of the people we have created in the simulation."
   ]
  },
  {
   "cell_type": "markdown",
   "metadata": {},
   "source": [
    "### UNHCR block residents"
   ]
  },
  {
   "cell_type": "code",
   "execution_count": 16,
   "metadata": {},
   "outputs": [],
   "source": [
    "sample_ages = []\n",
    "sample_sexes = []\n",
    "for person in world.super_areas.members[0].people:\n",
    "    sample_ages.append(person.age)\n",
    "    sample_sexes.append(person.sex)"
   ]
  },
  {
   "cell_type": "code",
   "execution_count": 17,
   "metadata": {},
   "outputs": [
    {
     "data": {
      "text/plain": [
       "(['f', 'f', 'f', 'f', 'm'], [63, 40, 39, 37, 33])"
      ]
     },
     "execution_count": 17,
     "metadata": {},
     "output_type": "execute_result"
    }
   ],
   "source": [
    "sample_sexes[:5], sample_ages[:5]"
   ]
  },
  {
   "cell_type": "code",
   "execution_count": 18,
   "metadata": {},
   "outputs": [
    {
     "data": {
      "image/png": "[encoded data removed]",
      "text/plain": [
       "<Figure size 432x288 with 1 Axes>"
      ]
     },
     "metadata": {
      "needs_background": "light"
     },
     "output_type": "display_data"
    }
   ],
   "source": [
    "ages, counts = np.unique(sample_ages, return_counts=True)\n",
    "plt.bar(ages, counts)\n",
    "plt.title('super area: {} age distribution'.format(world.super_areas.members[0].name))\n",
    "plt.show()"
   ]
  },
  {
   "cell_type": "code",
   "execution_count": 19,
   "metadata": {},
   "outputs": [
    {
     "name": "stdout",
     "output_type": "stream",
     "text": [
      "The % children between ages 0-16 is 49%\n"
     ]
    }
   ],
   "source": [
    "print ('The % children between ages 0-16 is {}%'.format(round(np.sum(counts[:16])/(np.sum(counts[:16])+np.sum(counts[16:]))*100)))"
   ]
  },
  {
   "cell_type": "markdown",
   "metadata": {},
   "source": [
    "## Households"
   ]
  },
  {
   "cell_type": "markdown",
   "metadata": {},
   "source": [
    "In this model, we will use the term 'family' and 'household' interchangeably. After populating the 'digital twin', we need to cluster people into families. To do this, we take account of age structure so that children live with adults, that there are some intergenerational households and such that we might also have some households of only adults."
   ]
  },
  {
   "cell_type": "markdown",
   "metadata": {},
   "source": [
    "### Household size distribution"
   ]
  },
  {
   "cell_type": "code",
   "execution_count": 20,
   "metadata": {},
   "outputs": [
    {
     "data": {
      "image/png": "[encoded data removed]",
      "text/plain": [
       "<Figure size 432x288 with 1 Axes>"
      ]
     },
     "metadata": {
      "needs_background": "light"
     },
     "output_type": "display_data"
    }
   ],
   "source": [
    "household_sizes = [household.size for household in world.households]\n",
    "plt.hist(household_sizes, density=True, bins=np.arange(0,12))\n",
    "plt.xlabel(\"Household size\")\n",
    "plt.ylabel(\"Frequency\")\n",
    "plt.axvline(np.mean(household_sizes), color=\"cyan\")\n",
    "plt.text(8, 0.150, f\"Avg. size: {(np.mean(household_sizes)):.2f}\")\n",
    "plt.show()"
   ]
  },
  {
   "cell_type": "code",
   "execution_count": null,
   "metadata": {},
   "outputs": [],
   "source": []
  },
  {
   "cell_type": "markdown",
   "metadata": {},
   "source": [
    "# Shelters"
   ]
  },
  {
   "cell_type": "markdown",
   "metadata": {},
   "source": [
    "Shelters house people in the camp. Since we know that families (houseohlds) often share shelters with other families, we can set the `sharing_shelter_ratio` to cluster families into shared shelters."
   ]
  },
  {
   "cell_type": "code",
   "execution_count": 21,
   "metadata": {},
   "outputs": [],
   "source": [
    "world.shelters = Shelters.for_areas(world.areas)\n",
    "shelter_distributor = ShelterDistributor(sharing_shelter_ratio = 0.75) # proportion of families that share a shelter\n",
    "for area in world.areas:\n",
    "    shelter_distributor.distribute_people_in_shelters(area.shelters, area.households)"
   ]
  },
  {
   "cell_type": "code",
   "execution_count": 22,
   "metadata": {},
   "outputs": [
    {
     "data": {
      "image/png": "[encoded data removed]",
      "text/plain": [
       "<Figure size 576x216 with 2 Axes>"
      ]
     },
     "metadata": {
      "needs_background": "light"
     },
     "output_type": "display_data"
    }
   ],
   "source": [
    "fig, ax = plt.subplots(1, 2, figsize=(8,3))\n",
    "shelter_sizes = [shelter.size for shelter in world.shelters]\n",
    "shelter_families = [shelter.n_families for shelter in world.shelters]\n",
    "ax[0].hist(shelter_sizes)\n",
    "ax[0].set_title(\"Shelter size\")\n",
    "shelter_families = {1 : len([shelter for shelter in world.shelters if shelter.n_families == 1]),\n",
    "                    2 : len([shelter for shelter in world.shelters if shelter.n_families == 2])}\n",
    "ax[1].bar(shelter_families.keys(), shelter_families.values())\n",
    "ax[1].set_title(\"# families per shelter\")\n",
    "plt.show()"
   ]
  },
  {
   "cell_type": "markdown",
   "metadata": {},
   "source": [
    "## Activity exploration"
   ]
  },
  {
   "cell_type": "markdown",
   "metadata": {},
   "source": [
    "Once different activity locations are seeded in the 'digital twin' we can explore how many there are in different areas of the twin, and their coordinates to check they've all been added correctly."
   ]
  },
  {
   "cell_type": "markdown",
   "metadata": {},
   "source": [
    "### Pumps and latrines "
   ]
  },
  {
   "cell_type": "code",
   "execution_count": 23,
   "metadata": {},
   "outputs": [],
   "source": [
    "pumps_and_latrines = []\n",
    "for pump_latrine in world.areas.members[0].pump_latrines:\n",
    "    pumps_and_latrines.append(pump_latrine)"
   ]
  },
  {
   "cell_type": "code",
   "execution_count": 24,
   "metadata": {},
   "outputs": [
    {
     "name": "stdout",
     "output_type": "stream",
     "text": [
      "There are 4 pumps and latrines in area CXB-219-001\n"
     ]
    }
   ],
   "source": [
    "print ('There are {} pumps and latrines in area {}'.format(len(pumps_and_latrines), world.areas.members[0].name))"
   ]
  },
  {
   "cell_type": "markdown",
   "metadata": {},
   "source": [
    "### Distribution centers"
   ]
  },
  {
   "cell_type": "code",
   "execution_count": 25,
   "metadata": {},
   "outputs": [],
   "source": [
    "distribution_centers = []\n",
    "for center in world.distribution_centers:\n",
    "    distribution_centers.append(center)"
   ]
  },
  {
   "cell_type": "code",
   "execution_count": 26,
   "metadata": {},
   "outputs": [
    {
     "data": {
      "text/plain": [
       "array([21.21176333, 92.13597667])"
      ]
     },
     "execution_count": 26,
     "metadata": {},
     "output_type": "execute_result"
    }
   ],
   "source": [
    "distribution_centers[0].coordinates"
   ]
  },
  {
   "cell_type": "markdown",
   "metadata": {},
   "source": [
    "### Non-food Distribution centers"
   ]
  },
  {
   "cell_type": "code",
   "execution_count": 27,
   "metadata": {},
   "outputs": [],
   "source": [
    "non_food_distribution_centers = []\n",
    "for center in world.n_f_distribution_centers:\n",
    "    non_food_distribution_centers.append(center)"
   ]
  },
  {
   "cell_type": "code",
   "execution_count": 28,
   "metadata": {},
   "outputs": [
    {
     "data": {
      "text/plain": [
       "array([21.1962 , 92.14936])"
      ]
     },
     "execution_count": 28,
     "metadata": {},
     "output_type": "execute_result"
    }
   ],
   "source": [
    "non_food_distribution_centers[0].coordinates"
   ]
  },
  {
   "cell_type": "markdown",
   "metadata": {},
   "source": [
    "### E-Voucher outlets"
   ]
  },
  {
   "cell_type": "code",
   "execution_count": 29,
   "metadata": {},
   "outputs": [],
   "source": [
    "e_voucher_outlets = []\n",
    "for center in world.e_vouchers:\n",
    "    e_voucher_outlets.append(center)"
   ]
  },
  {
   "cell_type": "code",
   "execution_count": 30,
   "metadata": {},
   "outputs": [
    {
     "data": {
      "text/plain": [
       "array([21.21176333, 92.13597667])"
      ]
     },
     "execution_count": 30,
     "metadata": {},
     "output_type": "execute_result"
    }
   ],
   "source": [
    "e_voucher_outlets[0].coordinates"
   ]
  },
  {
   "cell_type": "markdown",
   "metadata": {},
   "source": [
    "### Communal spaces"
   ]
  },
  {
   "cell_type": "code",
   "execution_count": 31,
   "metadata": {},
   "outputs": [],
   "source": [
    "communal_spaces = []\n",
    "for space in world.communals:\n",
    "    communal_spaces.append(space)"
   ]
  },
  {
   "cell_type": "code",
   "execution_count": 32,
   "metadata": {},
   "outputs": [
    {
     "data": {
      "text/plain": [
       "array([21.19621, 92.14924])"
      ]
     },
     "execution_count": 32,
     "metadata": {},
     "output_type": "execute_result"
    }
   ],
   "source": [
    "communal_spaces[0].coordinates\n"
   ]
  },
  {
   "cell_type": "markdown",
   "metadata": {},
   "source": [
    "### Female friendly communal spaces"
   ]
  },
  {
   "cell_type": "code",
   "execution_count": 33,
   "metadata": {},
   "outputs": [],
   "source": [
    "female_communal_spaces = []\n",
    "for space in world.female_communals:\n",
    "    female_communal_spaces.append(space)"
   ]
  },
  {
   "cell_type": "code",
   "execution_count": 34,
   "metadata": {},
   "outputs": [
    {
     "data": {
      "text/plain": [
       "array([21.19588, 92.152  ])"
      ]
     },
     "execution_count": 34,
     "metadata": {},
     "output_type": "execute_result"
    }
   ],
   "source": [
    "female_communal_spaces[0].coordinates"
   ]
  },
  {
   "cell_type": "markdown",
   "metadata": {},
   "source": [
    "### Religious sites"
   ]
  },
  {
   "cell_type": "code",
   "execution_count": 35,
   "metadata": {},
   "outputs": [],
   "source": [
    "religious = []\n",
    "for rel in world.religiouss:\n",
    "    religious.append(rel)"
   ]
  },
  {
   "cell_type": "code",
   "execution_count": 36,
   "metadata": {},
   "outputs": [
    {
     "data": {
      "text/plain": [
       "array([21.20069, 92.15216])"
      ]
     },
     "execution_count": 36,
     "metadata": {},
     "output_type": "execute_result"
    }
   ],
   "source": [
    "religious[0].coordinates"
   ]
  },
  {
   "cell_type": "markdown",
   "metadata": {},
   "source": [
    "# Adding the infection"
   ]
  },
  {
   "cell_type": "markdown",
   "metadata": {},
   "source": [
    "The selector handles how infections are handled in the code. You can set different 'symptom trajectories' (e.g. exposed->mild->severe->hospitalised->intensive care) from different files. Here, we use the default."
   ]
  },
  {
   "cell_type": "code",
   "execution_count": 37,
   "metadata": {},
   "outputs": [],
   "source": [
    "selector = InfectionSelector.from_file()"
   ]
  },
  {
   "cell_type": "code",
   "execution_count": 38,
   "metadata": {},
   "outputs": [],
   "source": [
    "selectors = InfectionSelectors([selector])"
   ]
  },
  {
   "cell_type": "markdown",
   "metadata": {},
   "source": [
    "# Adding the interaction"
   ]
  },
  {
   "cell_type": "markdown",
   "metadata": {},
   "source": [
    "The interaction class handles how many contacts people have in different locations and with who. If contact matrices are available, these can be coded in a `.yaml` file and fed into the class here."
   ]
  },
  {
   "cell_type": "code",
   "execution_count": 39,
   "metadata": {},
   "outputs": [],
   "source": [
    "interaction = Interaction.from_file(\n",
    "    config_filename=Interactions_File_Path,\n",
    ")"
   ]
  },
  {
   "cell_type": "markdown",
   "metadata": {},
   "source": [
    "# Set policies"
   ]
  },
  {
   "cell_type": "markdown",
   "metadata": {},
   "source": [
    "Policies control how 'operational interventions' are set in the camp. Here we set some social distancing policies, policies relating to medical care, such as people with severe symptoms being hospitalised, and individual and activity policies which can dynamically change how often and where people go, e.g. here, we close all female communal spaces and non-food distirbution centers which the camp did back in March"
   ]
  },
  {
   "cell_type": "code",
   "execution_count": 40,
   "metadata": {},
   "outputs": [],
   "source": [
    "policies = Policies.from_file(\n",
    "        Policies_File_Path,\n",
    "        base_policy_modules=(\"june.policy\", \"camps.policy\"),\n",
    "    )"
   ]
  },
  {
   "cell_type": "code",
   "execution_count": 41,
   "metadata": {},
   "outputs": [
    {
     "data": {
      "text/plain": [
       "[<june.policy.interaction_policies.SocialDistancing at 0x7fae861f8e50>,\n",
       " <june.policy.medical_care_policies.Hospitalisation at 0x7fae861f8220>,\n",
       " <june.policy.individual_policies.SevereSymptomsStayHome at 0x7fae861f8280>,\n",
       " <june.policy.individual_policies.Quarantine at 0x7fae861f81c0>,\n",
       " <june.policy.leisure_policies.CloseLeisureVenue at 0x7fae861f8310>,\n",
       " <june.policy.leisure_policies.ChangeLeisureProbability at 0x7fae861f8490>,\n",
       " <june.policy.leisure_policies.ChangeLeisureProbability at 0x7fae861f8130>]"
      ]
     },
     "execution_count": 41,
     "metadata": {},
     "output_type": "execute_result"
    }
   ],
   "source": [
    "policies.policies"
   ]
  },
  {
   "cell_type": "markdown",
   "metadata": {},
   "source": [
    "# Seed the disease"
   ]
  },
  {
   "cell_type": "markdown",
   "metadata": {},
   "source": [
    "Set intial seeding conditions. This can be done at the camp level specifically, or generally by seeding them randomly. Here the `n_cases` is the number of randomly seeded people over the entire population."
   ]
  },
  {
   "cell_type": "code",
   "execution_count": 42,
   "metadata": {},
   "outputs": [],
   "source": [
    "infection_seed = InfectionSeed.from_uniform_cases(\n",
    "    world=world, infection_selector=selector, cases_per_capita=0.01, date=\"2020-05-24\"\n",
    ")"
   ]
  },
  {
   "cell_type": "code",
   "execution_count": 43,
   "metadata": {},
   "outputs": [],
   "source": [
    "infection_seeds = InfectionSeeds([infection_seed])"
   ]
  },
  {
   "cell_type": "code",
   "execution_count": 44,
   "metadata": {},
   "outputs": [],
   "source": [
    "immunity_setter = ImmunitySetter.from_file_with_comorbidities(\n",
    "    comorbidity_multipliers_path= comorbidity_multipliers_path,\n",
    "    male_comorbidity_reference_prevalence_path= male_comorbidity_reference_prevalence_path,\n",
    "    female_comorbidity_reference_prevalence_path = female_comorbidity_reference_prevalence_path,\n",
    "    \n",
    ")"
   ]
  },
  {
   "cell_type": "code",
   "execution_count": 45,
   "metadata": {},
   "outputs": [],
   "source": [
    "epidemiology = Epidemiology(\n",
    "    infection_selectors=selectors,\n",
    "    infection_seeds=infection_seeds,\n",
    "    immunity_setter=immunity_setter,\n",
    ")"
   ]
  },
  {
   "cell_type": "markdown",
   "metadata": {},
   "source": [
    "## Select config file"
   ]
  },
  {
   "cell_type": "markdown",
   "metadata": {},
   "source": [
    "Before running the simualtion we must select the config file which defines how the world is set up and the simualtor will work. Specifically, the condif file specifies which activities will be included, how long we'll run the simualtion for, what the initial starting day will be and what the structure of weekdays and weekends will look like (if different)"
   ]
  },
  {
   "cell_type": "code",
   "execution_count": 46,
   "metadata": {},
   "outputs": [],
   "source": [
    "CONFIG_PATH = Config_File_Path"
   ]
  },
  {
   "cell_type": "markdown",
   "metadata": {},
   "source": [
    "# Initialise activities"
   ]
  },
  {
   "cell_type": "markdown",
   "metadata": {},
   "source": [
    "The final step to intialising the simulator class which brings all of this together is to inialise all the activity distirbutors (the term 'leisure' is a legacy of the original version of this code used for modelling COVID-19 in the UK). This will mean that people know where they can go at and given time."
   ]
  },
  {
   "cell_type": "code",
   "execution_count": 47,
   "metadata": {},
   "outputs": [
    {
     "name": "stdout",
     "output_type": "stream",
     "text": [
      "2022-02-07 13:58:06,698 - leisure - INFO - Linking households and care homes for visits\n",
      "2022-02-07 13:58:06,698 - leisure - INFO - Done\n",
      "2022-02-07 13:58:06,699 - leisure - INFO - Distributing social venues to areas\n",
      "2022-02-07 13:58:06,699 - leisure - INFO - Distributed in 0 of 65 areas.\n",
      "2022-02-07 13:58:06,786 - leisure - INFO - Distributed in 65 of 65 areas.\n"
     ]
    }
   ],
   "source": [
    "leisure = generate_leisure_for_config(world=world, config_filename=CONFIG_PATH)\n",
    "leisure.leisure_distributors = {}\n",
    "leisure.leisure_distributors[\"pump_latrine\"] = PumpLatrineDistributor.from_config(\n",
    "    world.pump_latrines\n",
    ")\n",
    "leisure.leisure_distributors[\"play_group\"] = PlayGroupDistributor.from_config(\n",
    "    world.play_groups\n",
    ")\n",
    "leisure.leisure_distributors[\n",
    "    \"distribution_center\"\n",
    "] = DistributionCenterDistributor.from_config(world.distribution_centers)\n",
    "leisure.leisure_distributors[\"communal\"] = CommunalDistributor.from_config(\n",
    "    world.communals\n",
    ")\n",
    "leisure.leisure_distributors[\n",
    "    \"female_communals\"\n",
    "] = FemaleCommunalDistributor.from_config(world.female_communals)\n",
    "leisure.leisure_distributors[\"religious\"] = ReligiousDistributor.from_config(\n",
    "    world.religiouss\n",
    ")\n",
    "leisure.leisure_distributors[\"e_voucher\"] = EVoucherDistributor.from_config(\n",
    "    world.e_vouchers\n",
    ")\n",
    "leisure.leisure_distributors[\n",
    "    \"n_f_distribution_center\"\n",
    "] = NFDistributionCenterDistributor.from_config(world.n_f_distribution_centers)\n",
    "leisure.leisure_distributors[\n",
    "    \"shelters_visits\"\n",
    "] = SheltersVisitsDistributor.from_config()\n",
    "leisure.leisure_distributors[\"shelters_visits\"].link_shelters_to_shelters(\n",
    "    world.super_areas\n",
    ")\n",
    "# associate social activities to shelters\n",
    "leisure.distribute_social_venues_to_areas(world.areas, world.super_areas)"
   ]
  },
  {
   "cell_type": "code",
   "execution_count": 48,
   "metadata": {},
   "outputs": [],
   "source": [
    "Tracker.ActivityManager = CampActivityManager\n",
    "tracker = Tracker(\n",
    "    world=world,\n",
    "    pickle_path=Results_Path,\n",
    "    group_types=[\n",
    "        world.hospitals,\n",
    "        world.distribution_centers,\n",
    "        world.communals,\n",
    "        world.female_communals,\n",
    "        world.pump_latrines,\n",
    "        world.religiouss,\n",
    "        world.play_groups,\n",
    "        world.e_vouchers,\n",
    "        world.n_f_distribution_centers,\n",
    "        world.shelters\n",
    "    ],\n",
    "    load_interactions_path=Interactions_File_Path,\n",
    ")"
   ]
  },
  {
   "cell_type": "markdown",
   "metadata": {},
   "source": [
    "# Initialise simulator and run"
   ]
  },
  {
   "cell_type": "markdown",
   "metadata": {},
   "source": [
    "The recorder is defined which will log all interactions and infections in the simualation for later analysis. The `record_path` can be changed to any path where you want the recorded data to be stored."
   ]
  },
  {
   "cell_type": "code",
   "execution_count": 49,
   "metadata": {},
   "outputs": [],
   "source": [
    "record = Record(\n",
    "    record_path=Results_Path, \n",
    "    record_static_data=True\n",
    ")"
   ]
  },
  {
   "cell_type": "markdown",
   "metadata": {},
   "source": [
    "The simulator is defined with all the different necessary components we have built up so far"
   ]
  },
  {
   "cell_type": "code",
   "execution_count": 50,
   "metadata": {},
   "outputs": [],
   "source": [
    "Simulator.ActivityManager = CampActivityManager\n",
    "simulator = Simulator.from_file(\n",
    "    world=world,\n",
    "    interaction=interaction,\n",
    "    tracker=tracker,\n",
    "    leisure=leisure,\n",
    "    policies=policies,\n",
    "    config_filename=CONFIG_PATH,\n",
    "    epidemiology=epidemiology,\n",
    "    record=record,\n",
    ")\n"
   ]
  },
  {
   "cell_type": "markdown",
   "metadata": {},
   "source": [
    "Finally we can run a small simualation"
   ]
  },
  {
   "cell_type": "code",
   "execution_count": 51,
   "metadata": {
    "scrolled": true
   },
   "outputs": [
    {
     "name": "stdout",
     "output_type": "stream",
     "text": [
      "2022-02-07 13:58:07,302 - simulator - INFO - Starting simulation for 35 days at day 2020-05-24 00:00:00,to run for 35 days\n",
      "2022-02-07 13:58:07,765 - rank - INFO - Next timestep\n",
      "2022-02-07 13:58:07,766 - simulator - INFO - ==================== timestep ====================\n",
      "2022-02-07 13:58:07,920 - rank - INFO - Rank 0 -- move_people -- 0.15366211900072813\n",
      "2022-02-07 13:58:07,921 - rank - INFO - Rank 0 -- move_people_waiting -- 9.907000276143663e-06\n",
      "2022-02-07 13:58:07,924 - activity_manager - INFO - CMS: People COMS for rank 0/1 - 6.014000973664224e-06,4.5299530029296875e-06 - 2020-05-24 00:00:00\n",
      "2022-02-07 13:58:07,932 - simulator - INFO - Info for rank 0, Date = 2020-05-24 00:00:00, number of deaths =  0, number of infected = 247\n",
      "2022-02-07 13:58:12,627 - rank - INFO - Rank 0 -- interaction -- 4.700078521998876\n",
      "2022-02-07 13:58:12,628 - epidemiology - INFO - CMS: Infection COMS-v2 for rank 0/1(2)0.00019157600036123767,0.00019168853759765625 - 2020-05-24 00:00:00\n",
      "2022-02-07 13:58:12,805 - rank - INFO - Rank 0 -- interaction_waiting -- 1.0489000487723388e-05\n",
      "2022-02-07 13:58:12,819 - simulator - INFO - CMS: Timestep for rank 0/1 - 0.014148551999824122,0.014148235321044922 - 2020-05-24 00:00:00\n",
      "\n",
      "2022-02-07 13:58:12,820 - rank - INFO - Next timestep\n",
      "2022-02-07 13:58:12,821 - simulator - INFO - ==================== timestep ====================\n",
      "2022-02-07 13:58:13,608 - rank - INFO - Rank 0 -- move_people -- 0.7860001320004812\n",
      "2022-02-07 13:58:13,608 - rank - INFO - Rank 0 -- move_people_waiting -- 3.1269992177840322e-06\n",
      "2022-02-07 13:58:13,609 - activity_manager - INFO - CMS: People COMS for rank 0/1 - 3.1969993870006874e-06,3.0994415283203125e-06 - 2020-05-24 03:00:00\n",
      "2022-02-07 13:58:13,613 - simulator - INFO - Info for rank 0, Date = 2020-05-24 03:00:00, number of deaths =  0, number of infected = 247\n",
      "2022-02-07 13:58:19,799 - rank - INFO - Rank 0 -- interaction -- 6.189649542999177\n",
      "2022-02-07 13:58:19,801 - epidemiology - INFO - CMS: Infection COMS-v2 for rank 0/1(2)0.00016482200044265483,0.00016427040100097656 - 2020-05-24 03:00:00\n",
      "2022-02-07 13:58:19,825 - rank - INFO - Rank 0 -- interaction_waiting -- 5.071000487077981e-06\n",
      "2022-02-07 13:58:19,839 - simulator - INFO - CMS: Timestep for rank 0/1 - 0.014575526000044192,0.014576435089111328 - 2020-05-24 03:00:00\n",
      "\n",
      "2022-02-07 13:58:19,840 - rank - INFO - Next timestep\n",
      "2022-02-07 13:58:19,841 - simulator - INFO - ==================== timestep ====================\n",
      "2022-02-07 13:58:20,255 - rank - INFO - Rank 0 -- move_people -- 0.4129400589990837\n",
      "2022-02-07 13:58:20,255 - rank - INFO - Rank 0 -- move_people_waiting -- 5.202000465942547e-06\n",
      "2022-02-07 13:58:20,255 - activity_manager - INFO - CMS: People COMS for rank 0/1 - 2.1930009097559378e-06,2.1457672119140625e-06 - 2020-05-24 05:00:00\n",
      "2022-02-07 13:58:20,259 - simulator - INFO - Info for rank 0, Date = 2020-05-24 05:00:00, number of deaths =  0, number of infected = 250\n",
      "2022-02-07 13:58:26,532 - rank - INFO - Rank 0 -- interaction -- 6.276066634000017\n",
      "2022-02-07 13:58:26,534 - epidemiology - INFO - CMS: Infection COMS-v2 for rank 0/1(2)0.0002044890006800415,0.00020432472229003906 - 2020-05-24 05:00:00\n",
      "2022-02-07 13:58:26,560 - rank - INFO - Rank 0 -- interaction_waiting -- 5.223000698606484e-06\n",
      "2022-02-07 13:58:26,573 - simulator - INFO - CMS: Timestep for rank 0/1 - 0.012353995000012219,0.012354373931884766 - 2020-05-24 05:00:00\n",
      "\n",
      "2022-02-07 13:58:26,573 - rank - INFO - Next timestep\n",
      "2022-02-07 13:58:26,574 - simulator - INFO - ==================== timestep ====================\n",
      "2022-02-07 13:58:26,941 - rank - INFO - Rank 0 -- move_people -- 0.36650106699926255\n",
      "2022-02-07 13:58:26,942 - rank - INFO - Rank 0 -- move_people_waiting -- 5.16299951414112e-06\n",
      "2022-02-07 13:58:26,942 - activity_manager - INFO - CMS: People COMS for rank 0/1 - 3.149998519802466e-06,3.0994415283203125e-06 - 2020-05-24 07:00:00\n",
      "2022-02-07 13:58:26,946 - simulator - INFO - Info for rank 0, Date = 2020-05-24 07:00:00, number of deaths =  0, number of infected = 254\n",
      "2022-02-07 13:58:33,238 - rank - INFO - Rank 0 -- interaction -- 6.295414731999699\n",
      "2022-02-07 13:58:33,240 - epidemiology - INFO - CMS: Infection COMS-v2 for rank 0/1(2)0.0001546200001030229,0.0001544952392578125 - 2020-05-24 07:00:00\n",
      "2022-02-07 13:58:33,327 - rank - INFO - Rank 0 -- interaction_waiting -- 4.534000254352577e-06\n",
      "2022-02-07 13:58:33,338 - simulator - INFO - CMS: Timestep for rank 0/1 - 0.01073296700087667,0.010733842849731445 - 2020-05-24 07:00:00\n",
      "\n",
      "2022-02-07 13:58:33,339 - rank - INFO - Next timestep\n",
      "2022-02-07 13:58:33,339 - simulator - INFO - ==================== timestep ====================\n",
      "2022-02-07 13:58:33,738 - rank - INFO - Rank 0 -- move_people -- 0.39834198799871956\n",
      "2022-02-07 13:58:33,739 - rank - INFO - Rank 0 -- move_people_waiting -- 4.73000000056345e-06\n",
      "2022-02-07 13:58:33,739 - activity_manager - INFO - CMS: People COMS for rank 0/1 - 2.5800000003073364e-06,2.6226043701171875e-06 - 2020-05-24 09:00:00\n",
      "2022-02-07 13:58:33,743 - simulator - INFO - Info for rank 0, Date = 2020-05-24 09:00:00, number of deaths =  0, number of infected = 259\n",
      "2022-02-07 13:58:40,086 - rank - INFO - Rank 0 -- interaction -- 6.3463261050001165\n",
      "2022-02-07 13:58:40,088 - epidemiology - INFO - CMS: Infection COMS-v2 for rank 0/1(2)0.00034732800122583285,0.00034737586975097656 - 2020-05-24 09:00:00\n",
      "2022-02-07 13:58:40,113 - rank - INFO - Rank 0 -- interaction_waiting -- 6.311000106506981e-06\n",
      "2022-02-07 13:58:40,125 - simulator - INFO - CMS: Timestep for rank 0/1 - 0.011391547999664908,0.011391639709472656 - 2020-05-24 09:00:00\n",
      "\n",
      "2022-02-07 13:58:40,126 - rank - INFO - Next timestep\n",
      "2022-02-07 13:58:40,126 - simulator - INFO - ==================== timestep ====================\n",
      "2022-02-07 13:58:40,254 - rank - INFO - Rank 0 -- move_people -- 0.12708815900077752\n",
      "2022-02-07 13:58:40,255 - rank - INFO - Rank 0 -- move_people_waiting -- 4.330999217927456e-06\n",
      "2022-02-07 13:58:40,255 - activity_manager - INFO - CMS: People COMS for rank 0/1 - 2.345999746466987e-06,2.384185791015625e-06 - 2020-05-24 11:00:00\n",
      "2022-02-07 13:58:40,258 - simulator - INFO - Info for rank 0, Date = 2020-05-24 11:00:00, number of deaths =  0, number of infected = 261\n",
      "2022-02-07 13:58:44,826 - rank - INFO - Rank 0 -- interaction -- 4.5712310380004055\n",
      "2022-02-07 13:58:44,834 - epidemiology - INFO - CMS: Infection COMS-v2 for rank 0/1(2)0.00019143800091114827,0.00019121170043945312 - 2020-05-24 11:00:00\n",
      "2022-02-07 13:58:44,862 - rank - INFO - Rank 0 -- interaction_waiting -- 7.85899828770198e-06\n",
      "2022-02-07 13:58:44,873 - simulator - INFO - CMS: Timestep for rank 0/1 - 0.011006701999576762,0.011007070541381836 - 2020-05-24 11:00:00\n",
      "\n",
      "2022-02-07 13:58:44,875 - rank - INFO - Next timestep\n",
      "2022-02-07 13:58:44,875 - simulator - INFO - ==================== timestep ====================\n",
      "2022-02-07 13:58:44,999 - rank - INFO - Rank 0 -- move_people -- 0.1227914499995677\n",
      "2022-02-07 13:58:45,000 - rank - INFO - Rank 0 -- move_people_waiting -- 5.208999937167391e-06\n",
      "2022-02-07 13:58:45,000 - activity_manager - INFO - CMS: People COMS for rank 0/1 - 2.9809998522978276e-06,2.86102294921875e-06 - 2020-05-25 00:00:00\n",
      "2022-02-07 13:58:45,005 - simulator - INFO - Info for rank 0, Date = 2020-05-25 00:00:00, number of deaths =  0, number of infected = 286\n",
      "2022-02-07 13:58:49,475 - rank - INFO - Rank 0 -- interaction -- 4.474901425999633\n",
      "2022-02-07 13:58:49,477 - epidemiology - INFO - CMS: Infection COMS-v2 for rank 0/1(2)0.00020263599981262814,0.00020265579223632812 - 2020-05-25 00:00:00\n",
      "2022-02-07 13:58:49,501 - rank - INFO - Rank 0 -- interaction_waiting -- 5.099000190966763e-06\n",
      "2022-02-07 13:58:49,512 - simulator - INFO - CMS: Timestep for rank 0/1 - 0.010749408000265248,0.01074981689453125 - 2020-05-25 00:00:00\n",
      "\n",
      "2022-02-07 13:58:49,513 - rank - INFO - Next timestep\n",
      "2022-02-07 13:58:49,514 - simulator - INFO - ==================== timestep ====================\n",
      "2022-02-07 13:58:49,889 - rank - INFO - Rank 0 -- move_people -- 0.37410490100046445\n",
      "2022-02-07 13:58:49,889 - rank - INFO - Rank 0 -- move_people_waiting -- 4.274999810149893e-06\n",
      "2022-02-07 13:58:49,890 - activity_manager - INFO - CMS: People COMS for rank 0/1 - 2.5350000214530155e-06,2.384185791015625e-06 - 2020-05-25 02:00:00\n"
     ]
    },
    {
     "name": "stdout",
     "output_type": "stream",
     "text": [
      "2022-02-07 13:58:49,894 - simulator - INFO - Info for rank 0, Date = 2020-05-25 02:00:00, number of deaths =  0, number of infected = 290\n",
      "2022-02-07 13:58:56,033 - rank - INFO - Rank 0 -- interaction -- 6.143182396999691\n",
      "2022-02-07 13:58:56,037 - epidemiology - INFO - CMS: Infection COMS-v2 for rank 0/1(2)0.00015307899957406335,0.00015282630920410156 - 2020-05-25 02:00:00\n",
      "2022-02-07 13:58:56,062 - rank - INFO - Rank 0 -- interaction_waiting -- 5.404001058195718e-06\n",
      "2022-02-07 13:58:56,074 - simulator - INFO - CMS: Timestep for rank 0/1 - 0.011895929999809596,0.011896133422851562 - 2020-05-25 02:00:00\n",
      "\n",
      "2022-02-07 13:58:56,075 - rank - INFO - Next timestep\n",
      "2022-02-07 13:58:56,076 - simulator - INFO - ==================== timestep ====================\n",
      "2022-02-07 13:58:56,499 - rank - INFO - Rank 0 -- move_people -- 0.4224962259995664\n",
      "2022-02-07 13:58:56,500 - rank - INFO - Rank 0 -- move_people_waiting -- 5.081999916001223e-06\n",
      "2022-02-07 13:58:56,500 - activity_manager - INFO - CMS: People COMS for rank 0/1 - 2.6609995984472334e-06,2.6226043701171875e-06 - 2020-05-25 04:00:00\n",
      "2022-02-07 13:58:56,506 - simulator - INFO - Info for rank 0, Date = 2020-05-25 04:00:00, number of deaths =  0, number of infected = 300\n",
      "2022-02-07 13:59:02,675 - rank - INFO - Rank 0 -- interaction -- 6.174286069999653\n",
      "2022-02-07 13:59:02,679 - epidemiology - INFO - CMS: Infection COMS-v2 for rank 0/1(2)0.00016009799946914427,0.0001595020294189453 - 2020-05-25 04:00:00\n",
      "2022-02-07 13:59:02,707 - rank - INFO - Rank 0 -- interaction_waiting -- 5.947998943156563e-06\n",
      "2022-02-07 13:59:02,718 - simulator - INFO - CMS: Timestep for rank 0/1 - 0.011257382000621874,0.011257171630859375 - 2020-05-25 04:00:00\n",
      "\n",
      "2022-02-07 13:59:02,720 - rank - INFO - Next timestep\n",
      "2022-02-07 13:59:02,720 - simulator - INFO - ==================== timestep ====================\n",
      "2022-02-07 13:59:03,133 - rank - INFO - Rank 0 -- move_people -- 0.41207121099978394\n",
      "2022-02-07 13:59:03,133 - rank - INFO - Rank 0 -- move_people_waiting -- 4.972998794983141e-06\n",
      "2022-02-07 13:59:03,134 - activity_manager - INFO - CMS: People COMS for rank 0/1 - 2.5480003387201577e-06,2.6226043701171875e-06 - 2020-05-25 06:00:00\n",
      "2022-02-07 13:59:03,138 - simulator - INFO - Info for rank 0, Date = 2020-05-25 06:00:00, number of deaths =  0, number of infected = 311\n",
      "2022-02-07 13:59:09,498 - rank - INFO - Rank 0 -- interaction -- 6.3634266629997\n",
      "2022-02-07 13:59:09,499 - epidemiology - INFO - CMS: Infection COMS-v2 for rank 0/1(2)0.00017283799934375565,0.0001723766326904297 - 2020-05-25 06:00:00\n",
      "2022-02-07 13:59:09,527 - rank - INFO - Rank 0 -- interaction_waiting -- 5.074000000604428e-06\n",
      "2022-02-07 13:59:09,537 - simulator - INFO - CMS: Timestep for rank 0/1 - 0.010279091000484186,0.010279417037963867 - 2020-05-25 06:00:00\n",
      "\n",
      "2022-02-07 13:59:09,540 - rank - INFO - Next timestep\n",
      "2022-02-07 13:59:09,541 - simulator - INFO - ==================== timestep ====================\n",
      "2022-02-07 13:59:09,946 - rank - INFO - Rank 0 -- move_people -- 0.4047603420003725\n",
      "2022-02-07 13:59:09,947 - rank - INFO - Rank 0 -- move_people_waiting -- 6.1350001487880945e-06\n",
      "2022-02-07 13:59:09,947 - activity_manager - INFO - CMS: People COMS for rank 0/1 - 3.4129989217035472e-06,2.86102294921875e-06 - 2020-05-25 08:00:00\n",
      "2022-02-07 13:59:09,951 - simulator - INFO - Info for rank 0, Date = 2020-05-25 08:00:00, number of deaths =  0, number of infected = 315\n",
      "2022-02-07 13:59:16,134 - rank - INFO - Rank 0 -- interaction -- 6.1860105769992515\n",
      "2022-02-07 13:59:16,138 - epidemiology - INFO - CMS: Infection COMS-v2 for rank 0/1(2)0.0001649980004003737,0.0001647472381591797 - 2020-05-25 08:00:00\n",
      "2022-02-07 13:59:16,164 - rank - INFO - Rank 0 -- interaction_waiting -- 4.907000402454287e-06\n",
      "2022-02-07 13:59:16,174 - simulator - INFO - CMS: Timestep for rank 0/1 - 0.010518598999624373,0.010519027709960938 - 2020-05-25 08:00:00\n",
      "\n",
      "2022-02-07 13:59:16,176 - rank - INFO - Next timestep\n",
      "2022-02-07 13:59:16,177 - simulator - INFO - ==================== timestep ====================\n",
      "2022-02-07 13:59:16,309 - rank - INFO - Rank 0 -- move_people -- 0.1305655790001765\n",
      "2022-02-07 13:59:16,309 - rank - INFO - Rank 0 -- move_people_waiting -- 6.230999133549631e-06\n",
      "2022-02-07 13:59:16,310 - activity_manager - INFO - CMS: People COMS for rank 0/1 - 2.4520013539586216e-06,2.1457672119140625e-06 - 2020-05-25 10:00:00\n",
      "2022-02-07 13:59:16,315 - simulator - INFO - Info for rank 0, Date = 2020-05-25 10:00:00, number of deaths =  0, number of infected = 328\n",
      "2022-02-07 13:59:21,189 - rank - INFO - Rank 0 -- interaction -- 4.879246456999681\n",
      "2022-02-07 13:59:21,202 - epidemiology - INFO - CMS: Infection COMS-v2 for rank 0/1(2)0.0001671290010563098,0.0001666545867919922 - 2020-05-25 10:00:00\n",
      "2022-02-07 13:59:21,228 - rank - INFO - Rank 0 -- interaction_waiting -- 5.980000423733145e-06\n",
      "2022-02-07 13:59:21,238 - simulator - INFO - CMS: Timestep for rank 0/1 - 0.010295505000613048,0.010295391082763672 - 2020-05-25 10:00:00\n",
      "\n",
      "2022-02-07 13:59:21,240 - rank - INFO - Next timestep\n",
      "2022-02-07 13:59:21,241 - simulator - INFO - ==================== timestep ====================\n",
      "2022-02-07 13:59:21,364 - rank - INFO - Rank 0 -- move_people -- 0.12310271900059888\n",
      "2022-02-07 13:59:21,365 - rank - INFO - Rank 0 -- move_people_waiting -- 5.0430007831892e-06\n",
      "2022-02-07 13:59:21,365 - activity_manager - INFO - CMS: People COMS for rank 0/1 - 2.8229987947270274e-06,2.6226043701171875e-06 - 2020-05-26 00:00:00\n",
      "2022-02-07 13:59:21,369 - simulator - INFO - Info for rank 0, Date = 2020-05-26 00:00:00, number of deaths =  0, number of infected = 376\n",
      "2022-02-07 13:59:26,304 - rank - INFO - Rank 0 -- interaction -- 4.938139043000774\n",
      "2022-02-07 13:59:26,310 - epidemiology - INFO - CMS: Infection COMS-v2 for rank 0/1(2)0.0003019539999513654,0.0003020763397216797 - 2020-05-26 00:00:00\n",
      "2022-02-07 13:59:26,333 - rank - INFO - Rank 0 -- interaction_waiting -- 4.990999514120631e-06\n",
      "2022-02-07 13:59:26,343 - simulator - INFO - CMS: Timestep for rank 0/1 - 0.010286213999279425,0.01028585433959961 - 2020-05-26 00:00:00\n",
      "\n",
      "2022-02-07 13:59:26,345 - rank - INFO - Next timestep\n",
      "2022-02-07 13:59:26,346 - simulator - INFO - ==================== timestep ====================\n",
      "2022-02-07 13:59:26,752 - rank - INFO - Rank 0 -- move_people -- 0.4056282800011104\n",
      "2022-02-07 13:59:26,752 - rank - INFO - Rank 0 -- move_people_waiting -- 8.914999853004701e-06\n",
      "2022-02-07 13:59:26,753 - activity_manager - INFO - CMS: People COMS for rank 0/1 - 2.4060009309323505e-06,2.1457672119140625e-06 - 2020-05-26 02:00:00\n",
      "2022-02-07 13:59:26,758 - simulator - INFO - Info for rank 0, Date = 2020-05-26 02:00:00, number of deaths =  0, number of infected = 396\n",
      "2022-02-07 13:59:33,359 - rank - INFO - Rank 0 -- interaction -- 6.605954605000079\n",
      "2022-02-07 13:59:33,363 - epidemiology - INFO - CMS: Infection COMS-v2 for rank 0/1(2)0.0001590330011822516,0.00015878677368164062 - 2020-05-26 02:00:00\n",
      "2022-02-07 13:59:33,389 - rank - INFO - Rank 0 -- interaction_waiting -- 5.30099896423053e-06\n",
      "2022-02-07 13:59:33,402 - simulator - INFO - CMS: Timestep for rank 0/1 - 0.012763250000716653,0.012763738632202148 - 2020-05-26 02:00:00\n",
      "\n",
      "2022-02-07 13:59:33,404 - rank - INFO - Next timestep\n",
      "2022-02-07 13:59:33,404 - simulator - INFO - ==================== timestep ====================\n",
      "2022-02-07 13:59:33,800 - rank - INFO - Rank 0 -- move_people -- 0.39511329400011164\n",
      "2022-02-07 13:59:33,801 - rank - INFO - Rank 0 -- move_people_waiting -- 5.080000846646726e-06\n",
      "2022-02-07 13:59:33,801 - activity_manager - INFO - CMS: People COMS for rank 0/1 - 2.519000190659426e-06,2.384185791015625e-06 - 2020-05-26 04:00:00\n",
      "2022-02-07 13:59:33,805 - simulator - INFO - Info for rank 0, Date = 2020-05-26 04:00:00, number of deaths =  0, number of infected = 407\n",
      "2022-02-07 13:59:40,308 - rank - INFO - Rank 0 -- interaction -- 6.505859872999281\n",
      "2022-02-07 13:59:40,312 - epidemiology - INFO - CMS: Infection COMS-v2 for rank 0/1(2)0.00020745899928442668,0.00020694732666015625 - 2020-05-26 04:00:00\n",
      "2022-02-07 13:59:40,343 - rank - INFO - Rank 0 -- interaction_waiting -- 5.077999958302826e-06\n",
      "2022-02-07 13:59:40,356 - simulator - INFO - CMS: Timestep for rank 0/1 - 0.012988334001420299,0.012989282608032227 - 2020-05-26 04:00:00\n",
      "\n"
     ]
    },
    {
     "name": "stdout",
     "output_type": "stream",
     "text": [
      "2022-02-07 13:59:40,358 - rank - INFO - Next timestep\n",
      "2022-02-07 13:59:40,359 - simulator - INFO - ==================== timestep ====================\n",
      "2022-02-07 13:59:40,749 - rank - INFO - Rank 0 -- move_people -- 0.3899790680006845\n",
      "2022-02-07 13:59:40,750 - rank - INFO - Rank 0 -- move_people_waiting -- 4.8719994083512574e-06\n",
      "2022-02-07 13:59:40,750 - activity_manager - INFO - CMS: People COMS for rank 0/1 - 2.622999090817757e-06,2.6226043701171875e-06 - 2020-05-26 06:00:00\n",
      "2022-02-07 13:59:40,754 - simulator - INFO - Info for rank 0, Date = 2020-05-26 06:00:00, number of deaths =  0, number of infected = 418\n",
      "2022-02-07 13:59:47,318 - rank - INFO - Rank 0 -- interaction -- 6.567615882000609\n",
      "2022-02-07 13:59:47,323 - epidemiology - INFO - CMS: Infection COMS-v2 for rank 0/1(2)0.0002801179998641601,0.00028014183044433594 - 2020-05-26 06:00:00\n",
      "2022-02-07 13:59:47,346 - rank - INFO - Rank 0 -- interaction_waiting -- 7.450998964486644e-06\n",
      "2022-02-07 13:59:47,358 - simulator - INFO - CMS: Timestep for rank 0/1 - 0.011616200999924331,0.011615991592407227 - 2020-05-26 06:00:00\n",
      "\n",
      "2022-02-07 13:59:47,359 - rank - INFO - Next timestep\n",
      "2022-02-07 13:59:47,360 - simulator - INFO - ==================== timestep ====================\n",
      "2022-02-07 13:59:47,780 - rank - INFO - Rank 0 -- move_people -- 0.4192927049989521\n",
      "2022-02-07 13:59:47,781 - rank - INFO - Rank 0 -- move_people_waiting -- 3.236000338802114e-06\n",
      "2022-02-07 13:59:47,781 - activity_manager - INFO - CMS: People COMS for rank 0/1 - 4.008999894722365e-06,3.814697265625e-06 - 2020-05-26 08:00:00\n",
      "2022-02-07 13:59:47,785 - simulator - INFO - Info for rank 0, Date = 2020-05-26 08:00:00, number of deaths =  0, number of infected = 430\n",
      "2022-02-07 13:59:54,548 - rank - INFO - Rank 0 -- interaction -- 6.7659107459985535\n",
      "2022-02-07 13:59:54,553 - epidemiology - INFO - CMS: Infection COMS-v2 for rank 0/1(2)0.00031622300048184115,0.0003159046173095703 - 2020-05-26 08:00:00\n",
      "2022-02-07 13:59:54,579 - rank - INFO - Rank 0 -- interaction_waiting -- 5.24200004292652e-06\n",
      "2022-02-07 13:59:54,590 - simulator - INFO - CMS: Timestep for rank 0/1 - 0.011066744998970535,0.011067390441894531 - 2020-05-26 08:00:00\n",
      "\n",
      "2022-02-07 13:59:54,592 - rank - INFO - Next timestep\n",
      "2022-02-07 13:59:54,593 - simulator - INFO - ==================== timestep ====================\n",
      "2022-02-07 13:59:54,714 - rank - INFO - Rank 0 -- move_people -- 0.12126652799997828\n",
      "2022-02-07 13:59:54,715 - rank - INFO - Rank 0 -- move_people_waiting -- 2.9990005714353174e-06\n",
      "2022-02-07 13:59:54,715 - activity_manager - INFO - CMS: People COMS for rank 0/1 - 2.611999661894515e-06,2.6226043701171875e-06 - 2020-05-26 10:00:00\n",
      "2022-02-07 13:59:54,720 - simulator - INFO - Info for rank 0, Date = 2020-05-26 10:00:00, number of deaths =  0, number of infected = 446\n",
      "2022-02-07 13:59:59,545 - rank - INFO - Rank 0 -- interaction -- 4.828769054000077\n",
      "2022-02-07 13:59:59,572 - epidemiology - INFO - CMS: Infection COMS-v2 for rank 0/1(2)0.00032783099959488027,0.00032711029052734375 - 2020-05-26 10:00:00\n",
      "2022-02-07 13:59:59,667 - rank - INFO - Rank 0 -- interaction_waiting -- 9.437000699108467e-06\n",
      "2022-02-07 13:59:59,681 - simulator - INFO - CMS: Timestep for rank 0/1 - 0.014492611999230576,0.014492273330688477 - 2020-05-26 10:00:00\n",
      "\n",
      "2022-02-07 13:59:59,683 - rank - INFO - Next timestep\n",
      "2022-02-07 13:59:59,684 - simulator - INFO - ==================== timestep ====================\n",
      "2022-02-07 13:59:59,806 - rank - INFO - Rank 0 -- move_people -- 0.12139939400003641\n",
      "2022-02-07 13:59:59,806 - rank - INFO - Rank 0 -- move_people_waiting -- 5.5180007620947435e-06\n",
      "2022-02-07 13:59:59,807 - activity_manager - INFO - CMS: People COMS for rank 0/1 - 2.5780009309528396e-06,2.384185791015625e-06 - 2020-05-27 00:00:00\n",
      "2022-02-07 13:59:59,812 - simulator - INFO - Info for rank 0, Date = 2020-05-27 00:00:00, number of deaths =  0, number of infected = 526\n",
      "2022-02-07 14:00:04,545 - rank - INFO - Rank 0 -- interaction -- 4.737831934000496\n",
      "2022-02-07 14:00:04,550 - epidemiology - INFO - CMS: Infection COMS-v2 for rank 0/1(2)0.000158658000145806,0.00015854835510253906 - 2020-05-27 00:00:00\n",
      "2022-02-07 14:00:04,654 - rank - INFO - Rank 0 -- interaction_waiting -- 6.410999048966914e-06\n",
      "2022-02-07 14:00:04,667 - simulator - INFO - CMS: Timestep for rank 0/1 - 0.012804136998965987,0.012804746627807617 - 2020-05-27 00:00:00\n",
      "\n",
      "2022-02-07 14:00:04,669 - rank - INFO - Next timestep\n",
      "2022-02-07 14:00:04,670 - simulator - INFO - ==================== timestep ====================\n",
      "2022-02-07 14:00:05,068 - rank - INFO - Rank 0 -- move_people -- 0.39748741099901963\n",
      "2022-02-07 14:00:05,069 - rank - INFO - Rank 0 -- move_people_waiting -- 5.992998922010884e-06\n",
      "2022-02-07 14:00:05,069 - activity_manager - INFO - CMS: People COMS for rank 0/1 - 3.646999175543897e-06,3.5762786865234375e-06 - 2020-05-27 02:00:00\n",
      "2022-02-07 14:00:05,073 - simulator - INFO - Info for rank 0, Date = 2020-05-27 02:00:00, number of deaths =  0, number of infected = 539\n",
      "2022-02-07 14:00:11,431 - rank - INFO - Rank 0 -- interaction -- 6.361266694999358\n",
      "2022-02-07 14:00:11,436 - epidemiology - INFO - CMS: Infection COMS-v2 for rank 0/1(2)0.00016335799955413677,0.0001628398895263672 - 2020-05-27 02:00:00\n",
      "2022-02-07 14:00:11,464 - rank - INFO - Rank 0 -- interaction_waiting -- 4.8910005716606975e-06\n",
      "2022-02-07 14:00:11,477 - simulator - INFO - CMS: Timestep for rank 0/1 - 0.01320263300112856,0.01320338249206543 - 2020-05-27 02:00:00\n",
      "\n",
      "2022-02-07 14:00:11,479 - rank - INFO - Next timestep\n",
      "2022-02-07 14:00:11,480 - simulator - INFO - ==================== timestep ====================\n",
      "2022-02-07 14:00:11,888 - rank - INFO - Rank 0 -- move_people -- 0.407466442000441\n",
      "2022-02-07 14:00:11,889 - rank - INFO - Rank 0 -- move_people_waiting -- 3.441000444581732e-06\n",
      "2022-02-07 14:00:11,889 - activity_manager - INFO - CMS: People COMS for rank 0/1 - 2.6010002329712734e-06,2.1457672119140625e-06 - 2020-05-27 04:00:00\n",
      "2022-02-07 14:00:11,893 - simulator - INFO - Info for rank 0, Date = 2020-05-27 04:00:00, number of deaths =  0, number of infected = 556\n",
      "2022-02-07 14:00:18,390 - rank - INFO - Rank 0 -- interaction -- 6.500386593999792\n",
      "2022-02-07 14:00:18,394 - epidemiology - INFO - CMS: Infection COMS-v2 for rank 0/1(2)0.00015469199934159406,0.0001544952392578125 - 2020-05-27 04:00:00\n",
      "2022-02-07 14:00:18,419 - rank - INFO - Rank 0 -- interaction_waiting -- 6.1039991123834625e-06\n",
      "2022-02-07 14:00:18,430 - simulator - INFO - CMS: Timestep for rank 0/1 - 0.01072899700011476,0.010729312896728516 - 2020-05-27 04:00:00\n",
      "\n",
      "2022-02-07 14:00:18,431 - rank - INFO - Next timestep\n",
      "2022-02-07 14:00:18,433 - simulator - INFO - ==================== timestep ====================\n",
      "2022-02-07 14:00:18,841 - rank - INFO - Rank 0 -- move_people -- 0.4075400179990538\n",
      "2022-02-07 14:00:18,841 - rank - INFO - Rank 0 -- move_people_waiting -- 4.6290006139315665e-06\n",
      "2022-02-07 14:00:18,841 - activity_manager - INFO - CMS: People COMS for rank 0/1 - 2.5739991542650387e-06,2.384185791015625e-06 - 2020-05-27 06:00:00\n",
      "2022-02-07 14:00:18,846 - simulator - INFO - Info for rank 0, Date = 2020-05-27 06:00:00, number of deaths =  0, number of infected = 568\n",
      "2022-02-07 14:00:25,422 - rank - INFO - Rank 0 -- interaction -- 6.580502983999395\n",
      "2022-02-07 14:00:25,431 - epidemiology - INFO - CMS: Infection COMS-v2 for rank 0/1(2)0.00029093100056343246,0.0002906322479248047 - 2020-05-27 06:00:00\n",
      "2022-02-07 14:00:25,455 - rank - INFO - Rank 0 -- interaction_waiting -- 4.997000360162929e-06\n",
      "2022-02-07 14:00:25,466 - simulator - INFO - CMS: Timestep for rank 0/1 - 0.010712840999985929,0.01071310043334961 - 2020-05-27 06:00:00\n",
      "\n",
      "2022-02-07 14:00:25,468 - rank - INFO - Next timestep\n",
      "2022-02-07 14:00:25,468 - simulator - INFO - ==================== timestep ====================\n",
      "2022-02-07 14:00:25,876 - rank - INFO - Rank 0 -- move_people -- 0.4076642660002108\n",
      "2022-02-07 14:00:25,877 - rank - INFO - Rank 0 -- move_people_waiting -- 2.9009988793404773e-06\n",
      "2022-02-07 14:00:25,878 - activity_manager - INFO - CMS: People COMS for rank 0/1 - 2.7669993869494647e-06,2.6226043701171875e-06 - 2020-05-27 08:00:00\n",
      "2022-02-07 14:00:25,881 - simulator - INFO - Info for rank 0, Date = 2020-05-27 08:00:00, number of deaths =  0, number of infected = 592\n"
     ]
    },
    {
     "name": "stdout",
     "output_type": "stream",
     "text": [
      "2022-02-07 14:00:32,510 - rank - INFO - Rank 0 -- interaction -- 6.631239210999411\n",
      "2022-02-07 14:00:32,516 - epidemiology - INFO - CMS: Infection COMS-v2 for rank 0/1(2)0.00034452200088708196,0.00034427642822265625 - 2020-05-27 08:00:00\n",
      "2022-02-07 14:00:32,542 - rank - INFO - Rank 0 -- interaction_waiting -- 5.071999112260528e-06\n",
      "2022-02-07 14:00:32,553 - simulator - INFO - CMS: Timestep for rank 0/1 - 0.010228006000033929,0.010228157043457031 - 2020-05-27 08:00:00\n",
      "\n",
      "2022-02-07 14:00:32,554 - rank - INFO - Next timestep\n",
      "2022-02-07 14:00:32,555 - simulator - INFO - ==================== timestep ====================\n",
      "2022-02-07 14:00:32,676 - rank - INFO - Rank 0 -- move_people -- 0.12130818200057547\n",
      "2022-02-07 14:00:32,677 - rank - INFO - Rank 0 -- move_people_waiting -- 4.807001459994353e-06\n",
      "2022-02-07 14:00:32,677 - activity_manager - INFO - CMS: People COMS for rank 0/1 - 2.410000888630748e-06,2.6226043701171875e-06 - 2020-05-27 10:00:00\n",
      "2022-02-07 14:00:32,681 - simulator - INFO - Info for rank 0, Date = 2020-05-27 10:00:00, number of deaths =  0, number of infected = 611\n",
      "2022-02-07 14:00:37,571 - rank - INFO - Rank 0 -- interaction -- 4.893551109998953\n",
      "2022-02-07 14:00:37,595 - epidemiology - INFO - CMS: Infection COMS-v2 for rank 0/1(2)0.0003346920002513798,0.0003349781036376953 - 2020-05-27 10:00:00\n",
      "2022-02-07 14:00:37,682 - rank - INFO - Rank 0 -- interaction_waiting -- 5.04200033901725e-06\n",
      "2022-02-07 14:00:37,692 - simulator - INFO - CMS: Timestep for rank 0/1 - 0.010180291999859037,0.010181188583374023 - 2020-05-27 10:00:00\n",
      "\n",
      "2022-02-07 14:00:37,694 - rank - INFO - Next timestep\n",
      "2022-02-07 14:00:37,694 - simulator - INFO - ==================== timestep ====================\n",
      "2022-02-07 14:00:37,820 - rank - INFO - Rank 0 -- move_people -- 0.12461356699895987\n",
      "2022-02-07 14:00:37,820 - rank - INFO - Rank 0 -- move_people_waiting -- 5.148000127519481e-06\n",
      "2022-02-07 14:00:37,820 - activity_manager - INFO - CMS: People COMS for rank 0/1 - 2.2429994714912027e-06,1.9073486328125e-06 - 2020-05-28 00:00:00\n",
      "2022-02-07 14:00:37,824 - simulator - INFO - Info for rank 0, Date = 2020-05-28 00:00:00, number of deaths =  0, number of infected = 698\n",
      "2022-02-07 14:00:42,525 - rank - INFO - Rank 0 -- interaction -- 4.704343900999447\n",
      "2022-02-07 14:00:42,529 - epidemiology - INFO - CMS: Infection COMS-v2 for rank 0/1(2)0.00017081000078178477,0.00017023086547851562 - 2020-05-28 00:00:00\n",
      "2022-02-07 14:00:42,553 - rank - INFO - Rank 0 -- interaction_waiting -- 6.355001460178755e-06\n",
      "2022-02-07 14:00:42,563 - simulator - INFO - CMS: Timestep for rank 0/1 - 0.010101256000780268,0.010102033615112305 - 2020-05-28 00:00:00\n",
      "\n",
      "2022-02-07 14:00:42,564 - rank - INFO - Next timestep\n",
      "2022-02-07 14:00:42,565 - simulator - INFO - ==================== timestep ====================\n",
      "2022-02-07 14:00:42,977 - rank - INFO - Rank 0 -- move_people -- 0.4107135169997491\n",
      "2022-02-07 14:00:42,978 - rank - INFO - Rank 0 -- move_people_waiting -- 5.077999958302826e-06\n",
      "2022-02-07 14:00:42,978 - activity_manager - INFO - CMS: People COMS for rank 0/1 - 2.791999577311799e-06,2.6226043701171875e-06 - 2020-05-28 02:00:00\n",
      "2022-02-07 14:00:42,982 - simulator - INFO - Info for rank 0, Date = 2020-05-28 02:00:00, number of deaths =  0, number of infected = 709\n",
      "2022-02-07 14:00:49,473 - rank - INFO - Rank 0 -- interaction -- 6.494578720999925\n",
      "2022-02-07 14:00:49,479 - epidemiology - INFO - CMS: Infection COMS-v2 for rank 0/1(2)0.00016396300088672433,0.00016355514526367188 - 2020-05-28 02:00:00\n",
      "2022-02-07 14:00:49,519 - rank - INFO - Rank 0 -- interaction_waiting -- 5.699999746866524e-06\n",
      "2022-02-07 14:00:49,535 - simulator - INFO - CMS: Timestep for rank 0/1 - 0.015738259999125148,0.015738964080810547 - 2020-05-28 02:00:00\n",
      "\n",
      "2022-02-07 14:00:49,537 - rank - INFO - Next timestep\n",
      "2022-02-07 14:00:49,537 - simulator - INFO - ==================== timestep ====================\n",
      "2022-02-07 14:00:49,932 - rank - INFO - Rank 0 -- move_people -- 0.3942742689996521\n",
      "2022-02-07 14:00:49,933 - rank - INFO - Rank 0 -- move_people_waiting -- 4.398998498800211e-06\n",
      "2022-02-07 14:00:49,933 - activity_manager - INFO - CMS: People COMS for rank 0/1 - 2.337999831070192e-06,2.384185791015625e-06 - 2020-05-28 04:00:00\n",
      "2022-02-07 14:00:49,936 - simulator - INFO - Info for rank 0, Date = 2020-05-28 04:00:00, number of deaths =  0, number of infected = 731\n",
      "2022-02-07 14:00:56,465 - rank - INFO - Rank 0 -- interaction -- 6.531890446000034\n",
      "2022-02-07 14:00:56,471 - epidemiology - INFO - CMS: Infection COMS-v2 for rank 0/1(2)0.00015844600056880154,0.0001583099365234375 - 2020-05-28 04:00:00\n",
      "2022-02-07 14:00:56,498 - rank - INFO - Rank 0 -- interaction_waiting -- 4.926001565763727e-06\n",
      "2022-02-07 14:00:56,508 - simulator - INFO - CMS: Timestep for rank 0/1 - 0.010041690000434755,0.010042428970336914 - 2020-05-28 04:00:00\n",
      "\n",
      "2022-02-07 14:00:56,510 - rank - INFO - Next timestep\n",
      "2022-02-07 14:00:56,511 - simulator - INFO - ==================== timestep ====================\n",
      "2022-02-07 14:00:56,949 - rank - INFO - Rank 0 -- move_people -- 0.4366831670013198\n",
      "2022-02-07 14:00:56,949 - rank - INFO - Rank 0 -- move_people_waiting -- 5.403000614023767e-06\n",
      "2022-02-07 14:00:56,950 - activity_manager - INFO - CMS: People COMS for rank 0/1 - 2.3310003598453477e-06,2.1457672119140625e-06 - 2020-05-28 06:00:00\n",
      "2022-02-07 14:00:56,953 - simulator - INFO - Info for rank 0, Date = 2020-05-28 06:00:00, number of deaths =  0, number of infected = 753\n",
      "2022-02-07 14:01:03,619 - rank - INFO - Rank 0 -- interaction -- 6.669343937999656\n",
      "2022-02-07 14:01:03,626 - epidemiology - INFO - CMS: Infection COMS-v2 for rank 0/1(2)0.00015793500097061042,0.00015735626220703125 - 2020-05-28 06:00:00\n",
      "2022-02-07 14:01:03,653 - rank - INFO - Rank 0 -- interaction_waiting -- 4.8029996833065525e-06\n",
      "2022-02-07 14:01:03,663 - simulator - INFO - CMS: Timestep for rank 0/1 - 0.010213842999291955,0.010215044021606445 - 2020-05-28 06:00:00\n",
      "\n",
      "2022-02-07 14:01:03,665 - rank - INFO - Next timestep\n",
      "2022-02-07 14:01:03,666 - simulator - INFO - ==================== timestep ====================\n",
      "2022-02-07 14:01:04,094 - rank - INFO - Rank 0 -- move_people -- 0.4274175930004276\n",
      "2022-02-07 14:01:04,095 - rank - INFO - Rank 0 -- move_people_waiting -- 6.722999387420714e-06\n",
      "2022-02-07 14:01:04,095 - activity_manager - INFO - CMS: People COMS for rank 0/1 - 3.815999662037939e-06,3.5762786865234375e-06 - 2020-05-28 08:00:00\n",
      "2022-02-07 14:01:04,101 - simulator - INFO - Info for rank 0, Date = 2020-05-28 08:00:00, number of deaths =  0, number of infected = 778\n",
      "2022-02-07 14:01:10,672 - rank - INFO - Rank 0 -- interaction -- 6.576019066000299\n",
      "2022-02-07 14:01:10,678 - epidemiology - INFO - CMS: Infection COMS-v2 for rank 0/1(2)0.00016824299927975517,0.00016808509826660156 - 2020-05-28 08:00:00\n",
      "2022-02-07 14:01:10,705 - rank - INFO - Rank 0 -- interaction_waiting -- 7.083999662427232e-06\n",
      "2022-02-07 14:01:10,715 - simulator - INFO - CMS: Timestep for rank 0/1 - 0.010778245999972569,0.010777950286865234 - 2020-05-28 08:00:00\n",
      "\n",
      "2022-02-07 14:01:10,717 - rank - INFO - Next timestep\n",
      "2022-02-07 14:01:10,718 - simulator - INFO - ==================== timestep ====================\n",
      "2022-02-07 14:01:10,848 - rank - INFO - Rank 0 -- move_people -- 0.12955341300039436\n",
      "2022-02-07 14:01:10,849 - rank - INFO - Rank 0 -- move_people_waiting -- 5.408999641076662e-06\n",
      "2022-02-07 14:01:10,849 - activity_manager - INFO - CMS: People COMS for rank 0/1 - 3.085000571445562e-06,3.0994415283203125e-06 - 2020-05-28 10:00:00\n",
      "2022-02-07 14:01:10,853 - simulator - INFO - Info for rank 0, Date = 2020-05-28 10:00:00, number of deaths =  0, number of infected = 802\n",
      "2022-02-07 14:01:15,700 - rank - INFO - Rank 0 -- interaction -- 4.850816414998917\n",
      "2022-02-07 14:01:15,728 - epidemiology - INFO - CMS: Infection COMS-v2 for rank 0/1(2)0.00036550199911289383,0.0003654956817626953 - 2020-05-28 10:00:00\n",
      "2022-02-07 14:01:15,754 - rank - INFO - Rank 0 -- interaction_waiting -- 4.741999873658642e-06\n",
      "2022-02-07 14:01:15,764 - simulator - INFO - CMS: Timestep for rank 0/1 - 0.010287396000421722,0.010287761688232422 - 2020-05-28 10:00:00\n",
      "\n",
      "2022-02-07 14:01:15,766 - rank - INFO - Next timestep\n",
      "2022-02-07 14:01:15,767 - simulator - INFO - ==================== timestep ====================\n"
     ]
    },
    {
     "name": "stdout",
     "output_type": "stream",
     "text": [
      "2022-02-07 14:01:15,897 - rank - INFO - Rank 0 -- move_people -- 0.1302134620000288\n",
      "2022-02-07 14:01:15,898 - rank - INFO - Rank 0 -- move_people_waiting -- 5.836000127601437e-06\n",
      "2022-02-07 14:01:15,899 - activity_manager - INFO - CMS: People COMS for rank 0/1 - 2.721000782912597e-06,2.6226043701171875e-06 - 2020-05-29 00:00:00\n",
      "2022-02-07 14:01:15,902 - simulator - INFO - Info for rank 0, Date = 2020-05-29 00:00:00, number of deaths =  0, number of infected = 903\n",
      "2022-02-07 14:01:20,651 - rank - INFO - Rank 0 -- interaction -- 4.751910258999487\n",
      "2022-02-07 14:01:20,657 - epidemiology - INFO - CMS: Infection COMS-v2 for rank 0/1(2)0.00019737199909286574,0.0001971721649169922 - 2020-05-29 00:00:00\n",
      "2022-02-07 14:01:20,682 - rank - INFO - Rank 0 -- interaction_waiting -- 5.2440009312704206e-06\n",
      "2022-02-07 14:01:20,692 - simulator - INFO - CMS: Timestep for rank 0/1 - 0.010384786999566131,0.01038503646850586 - 2020-05-29 00:00:00\n",
      "\n",
      "2022-02-07 14:01:20,694 - rank - INFO - Next timestep\n",
      "2022-02-07 14:01:20,694 - simulator - INFO - ==================== timestep ====================\n",
      "2022-02-07 14:01:21,098 - rank - INFO - Rank 0 -- move_people -- 0.40301014999931795\n",
      "2022-02-07 14:01:21,098 - rank - INFO - Rank 0 -- move_people_waiting -- 4.633000571629964e-06\n",
      "2022-02-07 14:01:21,099 - activity_manager - INFO - CMS: People COMS for rank 0/1 - 2.495000444469042e-06,2.1457672119140625e-06 - 2020-05-29 02:00:00\n",
      "2022-02-07 14:01:21,102 - simulator - INFO - Info for rank 0, Date = 2020-05-29 02:00:00, number of deaths =  0, number of infected = 924\n",
      "2022-02-07 14:01:27,548 - rank - INFO - Rank 0 -- interaction -- 6.4487677100005385\n",
      "2022-02-07 14:01:27,558 - epidemiology - INFO - CMS: Infection COMS-v2 for rank 0/1(2)0.0003673760002129711,0.00036716461181640625 - 2020-05-29 02:00:00\n",
      "2022-02-07 14:01:27,583 - rank - INFO - Rank 0 -- interaction_waiting -- 4.7289995563915e-06\n",
      "2022-02-07 14:01:27,594 - simulator - INFO - CMS: Timestep for rank 0/1 - 0.010542641999563784,0.010542631149291992 - 2020-05-29 02:00:00\n",
      "\n",
      "2022-02-07 14:01:27,595 - rank - INFO - Next timestep\n",
      "2022-02-07 14:01:27,596 - simulator - INFO - ==================== timestep ====================\n",
      "2022-02-07 14:01:28,004 - rank - INFO - Rank 0 -- move_people -- 0.40799362100005965\n",
      "2022-02-07 14:01:28,005 - rank - INFO - Rank 0 -- move_people_waiting -- 6.090000169933774e-06\n",
      "2022-02-07 14:01:28,005 - activity_manager - INFO - CMS: People COMS for rank 0/1 - 2.6819998311111704e-06,2.6226043701171875e-06 - 2020-05-29 04:00:00\n",
      "2022-02-07 14:01:28,010 - simulator - INFO - Info for rank 0, Date = 2020-05-29 04:00:00, number of deaths =  0, number of infected = 959\n",
      "2022-02-07 14:01:34,450 - rank - INFO - Rank 0 -- interaction -- 6.444289850000132\n",
      "2022-02-07 14:01:34,458 - epidemiology - INFO - CMS: Infection COMS-v2 for rank 0/1(2)0.0001918460002343636,0.0001914501190185547 - 2020-05-29 04:00:00\n",
      "2022-02-07 14:01:34,483 - rank - INFO - Rank 0 -- interaction_waiting -- 4.94599953526631e-06\n",
      "2022-02-07 14:01:34,493 - simulator - INFO - CMS: Timestep for rank 0/1 - 0.010666277999916929,0.010666608810424805 - 2020-05-29 04:00:00\n",
      "\n",
      "2022-02-07 14:01:34,495 - rank - INFO - Next timestep\n",
      "2022-02-07 14:01:34,495 - simulator - INFO - ==================== timestep ====================\n",
      "2022-02-07 14:01:34,876 - rank - INFO - Rank 0 -- move_people -- 0.3803309579998313\n",
      "2022-02-07 14:01:34,877 - rank - INFO - Rank 0 -- move_people_waiting -- 4.878998879576102e-06\n",
      "2022-02-07 14:01:34,877 - activity_manager - INFO - CMS: People COMS for rank 0/1 - 2.4290002329507843e-06,2.384185791015625e-06 - 2020-05-29 06:00:00\n",
      "2022-02-07 14:01:34,884 - simulator - INFO - Info for rank 0, Date = 2020-05-29 06:00:00, number of deaths =  0, number of infected = 988\n",
      "2022-02-07 14:01:41,480 - rank - INFO - Rank 0 -- interaction -- 6.601024495999809\n",
      "2022-02-07 14:01:41,487 - epidemiology - INFO - CMS: Infection COMS-v2 for rank 0/1(2)0.0003834290000668261,0.00038361549377441406 - 2020-05-29 06:00:00\n",
      "2022-02-07 14:01:41,514 - rank - INFO - Rank 0 -- interaction_waiting -- 4.716999683296308e-06\n",
      "2022-02-07 14:01:41,525 - simulator - INFO - CMS: Timestep for rank 0/1 - 0.011262698000791715,0.011263132095336914 - 2020-05-29 06:00:00\n",
      "\n",
      "2022-02-07 14:01:41,526 - rank - INFO - Next timestep\n",
      "2022-02-07 14:01:41,527 - simulator - INFO - ==================== timestep ====================\n",
      "2022-02-07 14:01:41,938 - rank - INFO - Rank 0 -- move_people -- 0.4104117090009822\n",
      "2022-02-07 14:01:41,938 - rank - INFO - Rank 0 -- move_people_waiting -- 5.142001100466587e-06\n",
      "2022-02-07 14:01:41,939 - activity_manager - INFO - CMS: People COMS for rank 0/1 - 2.675000359886326e-06,2.6226043701171875e-06 - 2020-05-29 08:00:00\n",
      "2022-02-07 14:01:41,942 - simulator - INFO - Info for rank 0, Date = 2020-05-29 08:00:00, number of deaths =  0, number of infected = 1014\n",
      "2022-02-07 14:01:48,468 - rank - INFO - Rank 0 -- interaction -- 6.529171527001381\n",
      "2022-02-07 14:01:48,476 - epidemiology - INFO - CMS: Infection COMS-v2 for rank 0/1(2)0.0001815510004234966,0.00018095970153808594 - 2020-05-29 08:00:00\n",
      "2022-02-07 14:01:48,505 - rank - INFO - Rank 0 -- interaction_waiting -- 8.446999345324002e-06\n",
      "2022-02-07 14:01:48,521 - simulator - INFO - CMS: Timestep for rank 0/1 - 0.016028805999667384,0.016028881072998047 - 2020-05-29 08:00:00\n",
      "\n",
      "2022-02-07 14:01:48,523 - rank - INFO - Next timestep\n",
      "2022-02-07 14:01:48,523 - simulator - INFO - ==================== timestep ====================\n",
      "2022-02-07 14:01:48,651 - rank - INFO - Rank 0 -- move_people -- 0.12696878600036143\n",
      "2022-02-07 14:01:48,651 - rank - INFO - Rank 0 -- move_people_waiting -- 6.939999366295524e-06\n",
      "2022-02-07 14:01:48,652 - activity_manager - INFO - CMS: People COMS for rank 0/1 - 2.34500112128444e-06,2.384185791015625e-06 - 2020-05-29 10:00:00\n",
      "2022-02-07 14:01:48,657 - simulator - INFO - Info for rank 0, Date = 2020-05-29 10:00:00, number of deaths =  0, number of infected = 1043\n",
      "2022-02-07 14:01:53,539 - rank - INFO - Rank 0 -- interaction -- 4.8872947259987995\n",
      "2022-02-07 14:01:53,575 - epidemiology - INFO - CMS: Infection COMS-v2 for rank 0/1(2)0.00015527399955317378,0.0001552104949951172 - 2020-05-29 10:00:00\n",
      "2022-02-07 14:01:53,598 - rank - INFO - Rank 0 -- interaction_waiting -- 5.346999387256801e-06\n",
      "2022-02-07 14:01:53,608 - simulator - INFO - CMS: Timestep for rank 0/1 - 0.010368999999627704,0.010369539260864258 - 2020-05-29 10:00:00\n",
      "\n",
      "2022-02-07 14:01:53,610 - rank - INFO - Next timestep\n",
      "2022-02-07 14:01:53,610 - simulator - INFO - ==================== timestep ====================\n",
      "2022-02-07 14:01:53,742 - rank - INFO - Rank 0 -- move_people -- 0.13086242899953504\n",
      "2022-02-07 14:01:53,742 - rank - INFO - Rank 0 -- move_people_waiting -- 5.04200033901725e-06\n",
      "2022-02-07 14:01:53,743 - activity_manager - INFO - CMS: People COMS for rank 0/1 - 2.8370013751555234e-06,2.86102294921875e-06 - 2020-05-30 00:00:00\n",
      "2022-02-07 14:01:53,746 - simulator - INFO - Info for rank 0, Date = 2020-05-30 00:00:00, number of deaths =  0, number of infected = 1185\n",
      "2022-02-07 14:01:58,620 - rank - INFO - Rank 0 -- interaction -- 4.877418258000034\n",
      "2022-02-07 14:01:58,630 - epidemiology - INFO - CMS: Infection COMS-v2 for rank 0/1(2)0.00036298599843576085,0.0003628730773925781 - 2020-05-30 00:00:00\n",
      "2022-02-07 14:01:58,661 - rank - INFO - Rank 0 -- interaction_waiting -- 5.080000846646726e-06\n",
      "2022-02-07 14:01:58,672 - simulator - INFO - CMS: Timestep for rank 0/1 - 0.010138728999663726,0.010139226913452148 - 2020-05-30 00:00:00\n",
      "\n",
      "2022-02-07 14:01:58,673 - rank - INFO - Next timestep\n",
      "2022-02-07 14:01:58,674 - simulator - INFO - ==================== timestep ====================\n",
      "2022-02-07 14:01:59,069 - rank - INFO - Rank 0 -- move_people -- 0.39437926699974923\n",
      "2022-02-07 14:01:59,070 - rank - INFO - Rank 0 -- move_people_waiting -- 5.059000613982789e-06\n",
      "2022-02-07 14:01:59,070 - activity_manager - INFO - CMS: People COMS for rank 0/1 - 2.5379995349794626e-06,2.1457672119140625e-06 - 2020-05-30 03:00:00\n",
      "2022-02-07 14:01:59,073 - simulator - INFO - Info for rank 0, Date = 2020-05-30 03:00:00, number of deaths =  0, number of infected = 1219\n",
      "2022-02-07 14:02:05,570 - rank - INFO - Rank 0 -- interaction -- 6.499595782001052\n",
      "2022-02-07 14:02:05,582 - epidemiology - INFO - CMS: Infection COMS-v2 for rank 0/1(2)0.0001625540007808013,0.0001621246337890625 - 2020-05-30 03:00:00\n"
     ]
    },
    {
     "name": "stdout",
     "output_type": "stream",
     "text": [
      "2022-02-07 14:02:05,614 - rank - INFO - Rank 0 -- interaction_waiting -- 4.605999492923729e-06\n",
      "2022-02-07 14:02:05,624 - simulator - INFO - CMS: Timestep for rank 0/1 - 0.010426516999359592,0.010426759719848633 - 2020-05-30 03:00:00\n",
      "\n",
      "2022-02-07 14:02:05,626 - rank - INFO - Next timestep\n",
      "2022-02-07 14:02:05,627 - simulator - INFO - ==================== timestep ====================\n",
      "2022-02-07 14:02:06,048 - rank - INFO - Rank 0 -- move_people -- 0.4204901550001523\n",
      "2022-02-07 14:02:06,048 - rank - INFO - Rank 0 -- move_people_waiting -- 5.631000021821819e-06\n",
      "2022-02-07 14:02:06,049 - activity_manager - INFO - CMS: People COMS for rank 0/1 - 2.6099987735506147e-06,2.384185791015625e-06 - 2020-05-30 05:00:00\n",
      "2022-02-07 14:02:06,052 - simulator - INFO - Info for rank 0, Date = 2020-05-30 05:00:00, number of deaths =  0, number of infected = 1246\n",
      "2022-02-07 14:02:12,745 - rank - INFO - Rank 0 -- interaction -- 6.695746886000052\n",
      "2022-02-07 14:02:12,752 - epidemiology - INFO - CMS: Infection COMS-v2 for rank 0/1(2)0.00017731999832903966,0.0001766681671142578 - 2020-05-30 05:00:00\n",
      "2022-02-07 14:02:12,780 - rank - INFO - Rank 0 -- interaction_waiting -- 4.5030010369373485e-06\n",
      "2022-02-07 14:02:12,791 - simulator - INFO - CMS: Timestep for rank 0/1 - 0.011520056999870576,0.011520147323608398 - 2020-05-30 05:00:00\n",
      "\n",
      "2022-02-07 14:02:12,793 - rank - INFO - Next timestep\n",
      "2022-02-07 14:02:12,793 - simulator - INFO - ==================== timestep ====================\n",
      "2022-02-07 14:02:13,169 - rank - INFO - Rank 0 -- move_people -- 0.3750140980009746\n",
      "2022-02-07 14:02:13,170 - rank - INFO - Rank 0 -- move_people_waiting -- 3.3329997677356005e-06\n",
      "2022-02-07 14:02:13,170 - activity_manager - INFO - CMS: People COMS for rank 0/1 - 2.4820001272019e-06,2.384185791015625e-06 - 2020-05-30 07:00:00\n",
      "2022-02-07 14:02:13,174 - simulator - INFO - Info for rank 0, Date = 2020-05-30 07:00:00, number of deaths =  0, number of infected = 1272\n",
      "2022-02-07 14:02:19,641 - rank - INFO - Rank 0 -- interaction -- 6.470024904001548\n",
      "2022-02-07 14:02:19,647 - epidemiology - INFO - CMS: Infection COMS-v2 for rank 0/1(2)0.00017039700105669908,0.0001697540283203125 - 2020-05-30 07:00:00\n",
      "2022-02-07 14:02:19,677 - rank - INFO - Rank 0 -- interaction_waiting -- 4.331999662099406e-06\n",
      "2022-02-07 14:02:19,687 - simulator - INFO - CMS: Timestep for rank 0/1 - 0.010014211999077816,0.010014772415161133 - 2020-05-30 07:00:00\n",
      "\n",
      "2022-02-07 14:02:19,688 - rank - INFO - Next timestep\n",
      "2022-02-07 14:02:19,689 - simulator - INFO - ==================== timestep ====================\n",
      "2022-02-07 14:02:20,133 - rank - INFO - Rank 0 -- move_people -- 0.44334455500029435\n",
      "2022-02-07 14:02:20,134 - rank - INFO - Rank 0 -- move_people_waiting -- 2.7599999157246202e-06\n",
      "2022-02-07 14:02:20,134 - activity_manager - INFO - CMS: People COMS for rank 0/1 - 2.847000359906815e-06,2.86102294921875e-06 - 2020-05-30 09:00:00\n",
      "2022-02-07 14:02:20,138 - simulator - INFO - Info for rank 0, Date = 2020-05-30 09:00:00, number of deaths =  0, number of infected = 1292\n",
      "2022-02-07 14:02:26,866 - rank - INFO - Rank 0 -- interaction -- 6.730373608999798\n",
      "2022-02-07 14:02:26,873 - epidemiology - INFO - CMS: Infection COMS-v2 for rank 0/1(2)0.0003036010002688272,0.0003037452697753906 - 2020-05-30 09:00:00\n",
      "2022-02-07 14:02:26,904 - rank - INFO - Rank 0 -- interaction_waiting -- 6.0990005295025185e-06\n",
      "2022-02-07 14:02:26,919 - simulator - INFO - CMS: Timestep for rank 0/1 - 0.0150978239998949,0.015098094940185547 - 2020-05-30 09:00:00\n",
      "\n",
      "2022-02-07 14:02:26,921 - rank - INFO - Next timestep\n",
      "2022-02-07 14:02:26,922 - simulator - INFO - ==================== timestep ====================\n",
      "2022-02-07 14:02:27,059 - rank - INFO - Rank 0 -- move_people -- 0.13703111600079865\n",
      "2022-02-07 14:02:27,060 - rank - INFO - Rank 0 -- move_people_waiting -- 5.018999218009412e-06\n",
      "2022-02-07 14:02:27,060 - activity_manager - INFO - CMS: People COMS for rank 0/1 - 2.2849999368190765e-06,2.1457672119140625e-06 - 2020-05-30 11:00:00\n",
      "2022-02-07 14:02:27,064 - simulator - INFO - Info for rank 0, Date = 2020-05-30 11:00:00, number of deaths =  0, number of infected = 1316\n",
      "2022-02-07 14:02:31,816 - rank - INFO - Rank 0 -- interaction -- 4.7558218789999955\n",
      "2022-02-07 14:02:31,855 - epidemiology - INFO - CMS: Infection COMS-v2 for rank 0/1(2)0.0003531399997882545,0.0003533363342285156 - 2020-05-30 11:00:00\n",
      "2022-02-07 14:02:31,883 - rank - INFO - Rank 0 -- interaction_waiting -- 5.077999958302826e-06\n",
      "2022-02-07 14:02:31,892 - simulator - INFO - CMS: Timestep for rank 0/1 - 0.009697399000287987,0.009698152542114258 - 2020-05-30 11:00:00\n",
      "\n",
      "2022-02-07 14:02:31,894 - rank - INFO - Next timestep\n",
      "2022-02-07 14:02:31,895 - simulator - INFO - ==================== timestep ====================\n",
      "2022-02-07 14:02:32,022 - rank - INFO - Rank 0 -- move_people -- 0.12685471399890957\n",
      "2022-02-07 14:02:32,023 - rank - INFO - Rank 0 -- move_people_waiting -- 4.292000085115433e-06\n",
      "2022-02-07 14:02:32,023 - activity_manager - INFO - CMS: People COMS for rank 0/1 - 2.905999281210825e-06,2.86102294921875e-06 - 2020-05-31 00:00:00\n",
      "2022-02-07 14:02:32,027 - simulator - INFO - Info for rank 0, Date = 2020-05-31 00:00:00, number of deaths =  0, number of infected = 1463\n",
      "2022-02-07 14:02:36,857 - rank - INFO - Rank 0 -- interaction -- 4.83309189800093\n",
      "2022-02-07 14:02:36,867 - epidemiology - INFO - CMS: Infection COMS-v2 for rank 0/1(2)0.000191068000276573,0.00019097328186035156 - 2020-05-31 00:00:00\n",
      "2022-02-07 14:02:36,894 - rank - INFO - Rank 0 -- interaction_waiting -- 4.110999725526199e-06\n",
      "2022-02-07 14:02:36,904 - simulator - INFO - CMS: Timestep for rank 0/1 - 0.009870498999589472,0.009871244430541992 - 2020-05-31 00:00:00\n",
      "\n",
      "2022-02-07 14:02:36,905 - rank - INFO - Next timestep\n",
      "2022-02-07 14:02:36,906 - simulator - INFO - ==================== timestep ====================\n",
      "2022-02-07 14:02:37,288 - rank - INFO - Rank 0 -- move_people -- 0.38173991899930115\n",
      "2022-02-07 14:02:37,289 - rank - INFO - Rank 0 -- move_people_waiting -- 5.191001037019305e-06\n",
      "2022-02-07 14:02:37,289 - activity_manager - INFO - CMS: People COMS for rank 0/1 - 2.4550008674850687e-06,2.384185791015625e-06 - 2020-05-31 03:00:00\n",
      "2022-02-07 14:02:37,293 - simulator - INFO - Info for rank 0, Date = 2020-05-31 03:00:00, number of deaths =  0, number of infected = 1498\n",
      "2022-02-07 14:02:43,819 - rank - INFO - Rank 0 -- interaction -- 6.529593212999316\n",
      "2022-02-07 14:02:43,828 - epidemiology - INFO - CMS: Infection COMS-v2 for rank 0/1(2)0.00019042799976887181,0.0001900196075439453 - 2020-05-31 03:00:00\n",
      "2022-02-07 14:02:43,857 - rank - INFO - Rank 0 -- interaction_waiting -- 4.8149995564017445e-06\n",
      "2022-02-07 14:02:43,867 - simulator - INFO - CMS: Timestep for rank 0/1 - 0.010016326999902958,0.010016918182373047 - 2020-05-31 03:00:00\n",
      "\n",
      "2022-02-07 14:02:43,868 - rank - INFO - Next timestep\n",
      "2022-02-07 14:02:43,869 - simulator - INFO - ==================== timestep ====================\n",
      "2022-02-07 14:02:44,261 - rank - INFO - Rank 0 -- move_people -- 0.3918385100005253\n",
      "2022-02-07 14:02:44,262 - rank - INFO - Rank 0 -- move_people_waiting -- 3.339999238960445e-06\n",
      "2022-02-07 14:02:44,262 - activity_manager - INFO - CMS: People COMS for rank 0/1 - 2.694001523195766e-06,2.384185791015625e-06 - 2020-05-31 05:00:00\n",
      "2022-02-07 14:02:44,268 - simulator - INFO - Info for rank 0, Date = 2020-05-31 05:00:00, number of deaths =  0, number of infected = 1530\n",
      "2022-02-07 14:02:51,090 - rank - INFO - Rank 0 -- interaction -- 6.827489956000136\n",
      "2022-02-07 14:02:51,105 - epidemiology - INFO - CMS: Infection COMS-v2 for rank 0/1(2)0.00016474800031573977,0.000164031982421875 - 2020-05-31 05:00:00\n",
      "2022-02-07 14:02:51,133 - rank - INFO - Rank 0 -- interaction_waiting -- 4.637000529328361e-06\n",
      "2022-02-07 14:02:51,143 - simulator - INFO - CMS: Timestep for rank 0/1 - 0.010135438000361319,0.010136604309082031 - 2020-05-31 05:00:00\n",
      "\n",
      "2022-02-07 14:02:51,144 - rank - INFO - Next timestep\n",
      "2022-02-07 14:02:51,145 - simulator - INFO - ==================== timestep ====================\n",
      "2022-02-07 14:02:51,625 - rank - INFO - Rank 0 -- move_people -- 0.47949263999908\n",
      "2022-02-07 14:02:51,626 - rank - INFO - Rank 0 -- move_people_waiting -- 5.759000487159938e-06\n",
      "2022-02-07 14:02:51,626 - activity_manager - INFO - CMS: People COMS for rank 0/1 - 3.0650007829535753e-06,3.0994415283203125e-06 - 2020-05-31 07:00:00\n"
     ]
    },
    {
     "name": "stdout",
     "output_type": "stream",
     "text": [
      "2022-02-07 14:02:51,630 - simulator - INFO - Info for rank 0, Date = 2020-05-31 07:00:00, number of deaths =  0, number of infected = 1561\n",
      "2022-02-07 14:02:58,261 - rank - INFO - Rank 0 -- interaction -- 6.63376945500022\n",
      "2022-02-07 14:02:58,272 - epidemiology - INFO - CMS: Infection COMS-v2 for rank 0/1(2)0.00016620999849692453,0.0001659393310546875 - 2020-05-31 07:00:00\n",
      "2022-02-07 14:02:58,304 - rank - INFO - Rank 0 -- interaction_waiting -- 5.387999408412725e-06\n",
      "2022-02-07 14:02:58,313 - simulator - INFO - CMS: Timestep for rank 0/1 - 0.009869773999525933,0.009870052337646484 - 2020-05-31 07:00:00\n",
      "\n",
      "2022-02-07 14:02:58,316 - rank - INFO - Next timestep\n",
      "2022-02-07 14:02:58,317 - simulator - INFO - ==================== timestep ====================\n",
      "2022-02-07 14:02:58,758 - rank - INFO - Rank 0 -- move_people -- 0.4404477030002454\n",
      "2022-02-07 14:02:58,759 - rank - INFO - Rank 0 -- move_people_waiting -- 5.040001269662753e-06\n",
      "2022-02-07 14:02:58,759 - activity_manager - INFO - CMS: People COMS for rank 0/1 - 3.2459993235534057e-06,3.0994415283203125e-06 - 2020-05-31 09:00:00\n",
      "2022-02-07 14:02:58,766 - simulator - INFO - Info for rank 0, Date = 2020-05-31 09:00:00, number of deaths =  0, number of infected = 1603\n",
      "2022-02-07 14:03:05,380 - rank - INFO - Rank 0 -- interaction -- 6.62035744899913\n",
      "2022-02-07 14:03:05,392 - epidemiology - INFO - CMS: Infection COMS-v2 for rank 0/1(2)0.00022623099903285038,0.0002257823944091797 - 2020-05-31 09:00:00\n",
      "2022-02-07 14:03:05,420 - rank - INFO - Rank 0 -- interaction_waiting -- 4.856001396547072e-06\n",
      "2022-02-07 14:03:05,430 - simulator - INFO - CMS: Timestep for rank 0/1 - 0.01009309300025052,0.010095834732055664 - 2020-05-31 09:00:00\n",
      "\n",
      "2022-02-07 14:03:05,432 - rank - INFO - Next timestep\n",
      "2022-02-07 14:03:05,433 - simulator - INFO - ==================== timestep ====================\n",
      "2022-02-07 14:03:05,563 - rank - INFO - Rank 0 -- move_people -- 0.12945090600078402\n",
      "2022-02-07 14:03:05,563 - rank - INFO - Rank 0 -- move_people_waiting -- 4.953999450663105e-06\n",
      "2022-02-07 14:03:05,564 - activity_manager - INFO - CMS: People COMS for rank 0/1 - 3.2070001907413825e-06,3.0994415283203125e-06 - 2020-05-31 11:00:00\n",
      "2022-02-07 14:03:05,568 - simulator - INFO - Info for rank 0, Date = 2020-05-31 11:00:00, number of deaths =  0, number of infected = 1640\n",
      "2022-02-07 14:03:10,196 - rank - INFO - Rank 0 -- interaction -- 4.631406358001186\n",
      "2022-02-07 14:03:10,233 - epidemiology - INFO - CMS: Infection COMS-v2 for rank 0/1(2)0.00015727299978607334,0.00015664100646972656 - 2020-05-31 11:00:00\n",
      "2022-02-07 14:03:10,263 - rank - INFO - Rank 0 -- interaction_waiting -- 5.4749998525949195e-06\n",
      "2022-02-07 14:03:10,273 - simulator - INFO - CMS: Timestep for rank 0/1 - 0.009632543000407168,0.009632587432861328 - 2020-05-31 11:00:00\n",
      "\n",
      "2022-02-07 14:03:10,274 - rank - INFO - Next timestep\n",
      "2022-02-07 14:03:10,275 - simulator - INFO - ==================== timestep ====================\n",
      "2022-02-07 14:03:10,398 - rank - INFO - Rank 0 -- move_people -- 0.12288306300069962\n",
      "2022-02-07 14:03:10,399 - rank - INFO - Rank 0 -- move_people_waiting -- 3.0600003810832277e-06\n",
      "2022-02-07 14:03:10,399 - activity_manager - INFO - CMS: People COMS for rank 0/1 - 2.495000444469042e-06,2.384185791015625e-06 - 2020-06-01 00:00:00\n",
      "2022-02-07 14:03:10,405 - simulator - INFO - Info for rank 0, Date = 2020-06-01 00:00:00, number of deaths =  0, number of infected = 1764\n",
      "2022-02-07 14:03:15,266 - rank - INFO - Rank 0 -- interaction -- 4.865813497999625\n",
      "2022-02-07 14:03:15,272 - epidemiology - INFO - CMS: Infection COMS-v2 for rank 0/1(2)0.00017617500088817906,0.00017547607421875 - 2020-06-01 00:00:00\n",
      "2022-02-07 14:03:15,303 - rank - INFO - Rank 0 -- interaction_waiting -- 5.057001544628292e-06\n",
      "2022-02-07 14:03:15,316 - simulator - INFO - CMS: Timestep for rank 0/1 - 0.012439525000445428,0.012440204620361328 - 2020-06-01 00:00:00\n",
      "\n",
      "2022-02-07 14:03:15,318 - rank - INFO - Next timestep\n",
      "2022-02-07 14:03:15,318 - simulator - INFO - ==================== timestep ====================\n",
      "2022-02-07 14:03:15,724 - rank - INFO - Rank 0 -- move_people -- 0.4051503449991287\n",
      "2022-02-07 14:03:15,724 - rank - INFO - Rank 0 -- move_people_waiting -- 5.654999768012203e-06\n",
      "2022-02-07 14:03:15,725 - activity_manager - INFO - CMS: People COMS for rank 0/1 - 2.929000402218662e-06,2.6226043701171875e-06 - 2020-06-01 02:00:00\n",
      "2022-02-07 14:03:15,730 - simulator - INFO - Info for rank 0, Date = 2020-06-01 02:00:00, number of deaths =  0, number of infected = 1787\n",
      "2022-02-07 14:03:22,102 - rank - INFO - Rank 0 -- interaction -- 6.376473686999816\n",
      "2022-02-07 14:03:22,110 - epidemiology - INFO - CMS: Infection COMS-v2 for rank 0/1(2)0.00016406099894084036,0.00016379356384277344 - 2020-06-01 02:00:00\n",
      "2022-02-07 14:03:22,145 - rank - INFO - Rank 0 -- interaction_waiting -- 1.2333000995568e-05\n",
      "2022-02-07 14:03:22,157 - simulator - INFO - CMS: Timestep for rank 0/1 - 0.011533622000570176,0.011533260345458984 - 2020-06-01 02:00:00\n",
      "\n",
      "2022-02-07 14:03:22,158 - rank - INFO - Next timestep\n",
      "2022-02-07 14:03:22,159 - simulator - INFO - ==================== timestep ====================\n",
      "2022-02-07 14:03:22,597 - rank - INFO - Rank 0 -- move_people -- 0.43730472900097084\n",
      "2022-02-07 14:03:22,597 - rank - INFO - Rank 0 -- move_people_waiting -- 4.741999873658642e-06\n",
      "2022-02-07 14:03:22,598 - activity_manager - INFO - CMS: People COMS for rank 0/1 - 3.454999387031421e-06,3.337860107421875e-06 - 2020-06-01 04:00:00\n",
      "2022-02-07 14:03:22,602 - simulator - INFO - Info for rank 0, Date = 2020-06-01 04:00:00, number of deaths =  0, number of infected = 1820\n",
      "2022-02-07 14:03:29,158 - rank - INFO - Rank 0 -- interaction -- 6.560352820999469\n",
      "2022-02-07 14:03:29,169 - epidemiology - INFO - CMS: Infection COMS-v2 for rank 0/1(2)0.00016788799985079095,0.0001671314239501953 - 2020-06-01 04:00:00\n",
      "2022-02-07 14:03:29,200 - rank - INFO - Rank 0 -- interaction_waiting -- 1.1850001101265661e-05\n",
      "2022-02-07 14:03:29,210 - simulator - INFO - CMS: Timestep for rank 0/1 - 0.010561056000369717,0.010560989379882812 - 2020-06-01 04:00:00\n",
      "\n",
      "2022-02-07 14:03:29,212 - rank - INFO - Next timestep\n",
      "2022-02-07 14:03:29,213 - simulator - INFO - ==================== timestep ====================\n",
      "2022-02-07 14:03:29,631 - rank - INFO - Rank 0 -- move_people -- 0.41691809499934607\n",
      "2022-02-07 14:03:29,631 - rank - INFO - Rank 0 -- move_people_waiting -- 4.933999662171118e-06\n",
      "2022-02-07 14:03:29,632 - activity_manager - INFO - CMS: People COMS for rank 0/1 - 3.396000465727411e-06,3.0994415283203125e-06 - 2020-06-01 06:00:00\n",
      "2022-02-07 14:03:29,636 - simulator - INFO - Info for rank 0, Date = 2020-06-01 06:00:00, number of deaths =  0, number of infected = 1859\n",
      "2022-02-07 14:03:36,213 - rank - INFO - Rank 0 -- interaction -- 6.5805258879991015\n",
      "2022-02-07 14:03:36,221 - epidemiology - INFO - CMS: Infection COMS-v2 for rank 0/1(2)0.0001623640000616433,0.00016188621520996094 - 2020-06-01 06:00:00\n",
      "2022-02-07 14:03:36,257 - rank - INFO - Rank 0 -- interaction_waiting -- 8.344000889337622e-06\n",
      "2022-02-07 14:03:36,272 - simulator - INFO - CMS: Timestep for rank 0/1 - 0.014906387999872095,0.014907121658325195 - 2020-06-01 06:00:00\n",
      "\n",
      "2022-02-07 14:03:36,273 - rank - INFO - Next timestep\n",
      "2022-02-07 14:03:36,274 - simulator - INFO - ==================== timestep ====================\n",
      "2022-02-07 14:03:36,702 - rank - INFO - Rank 0 -- move_people -- 0.42748818200016103\n",
      "2022-02-07 14:03:36,703 - rank - INFO - Rank 0 -- move_people_waiting -- 5.298999894876033e-06\n",
      "2022-02-07 14:03:36,703 - activity_manager - INFO - CMS: People COMS for rank 0/1 - 3.2860007195267826e-06,3.0994415283203125e-06 - 2020-06-01 08:00:00\n",
      "2022-02-07 14:03:36,711 - simulator - INFO - Info for rank 0, Date = 2020-06-01 08:00:00, number of deaths =  0, number of infected = 1891\n",
      "2022-02-07 14:03:43,269 - rank - INFO - Rank 0 -- interaction -- 6.564925463999316\n",
      "2022-02-07 14:03:43,279 - epidemiology - INFO - CMS: Infection COMS-v2 for rank 0/1(2)0.00017744099932315294,0.0001773834228515625 - 2020-06-01 08:00:00\n",
      "2022-02-07 14:03:43,312 - rank - INFO - Rank 0 -- interaction_waiting -- 6.407000910257921e-06\n",
      "2022-02-07 14:03:43,323 - simulator - INFO - CMS: Timestep for rank 0/1 - 0.011630888000581763,0.011630773544311523 - 2020-06-01 08:00:00\n",
      "\n"
     ]
    },
    {
     "name": "stdout",
     "output_type": "stream",
     "text": [
      "2022-02-07 14:03:43,325 - rank - INFO - Next timestep\n",
      "2022-02-07 14:03:43,326 - simulator - INFO - ==================== timestep ====================\n",
      "2022-02-07 14:03:43,453 - rank - INFO - Rank 0 -- move_people -- 0.12634710800011817\n",
      "2022-02-07 14:03:43,453 - rank - INFO - Rank 0 -- move_people_waiting -- 5.025998689234257e-06\n",
      "2022-02-07 14:03:43,454 - activity_manager - INFO - CMS: People COMS for rank 0/1 - 2.4529999791411683e-06,2.384185791015625e-06 - 2020-06-01 10:00:00\n",
      "2022-02-07 14:03:43,457 - simulator - INFO - Info for rank 0, Date = 2020-06-01 10:00:00, number of deaths =  0, number of infected = 1924\n",
      "2022-02-07 14:03:48,332 - rank - INFO - Rank 0 -- interaction -- 4.8775746440005605\n",
      "2022-02-07 14:03:48,369 - epidemiology - INFO - CMS: Infection COMS-v2 for rank 0/1(2)0.0003742580011021346,0.0003743171691894531 - 2020-06-01 10:00:00\n",
      "2022-02-07 14:03:48,409 - rank - INFO - Rank 0 -- interaction_waiting -- 4.796000212081708e-06\n",
      "2022-02-07 14:03:48,419 - simulator - INFO - CMS: Timestep for rank 0/1 - 0.010297233999153832,0.010298013687133789 - 2020-06-01 10:00:00\n",
      "\n",
      "2022-02-07 14:03:48,421 - rank - INFO - Next timestep\n",
      "2022-02-07 14:03:48,421 - simulator - INFO - ==================== timestep ====================\n",
      "2022-02-07 14:03:48,548 - rank - INFO - Rank 0 -- move_people -- 0.1264619279991166\n",
      "2022-02-07 14:03:48,549 - rank - INFO - Rank 0 -- move_people_waiting -- 5.777999831479974e-06\n",
      "2022-02-07 14:03:48,549 - activity_manager - INFO - CMS: People COMS for rank 0/1 - 3.1039999157655984e-06,2.6226043701171875e-06 - 2020-06-02 00:00:00\n",
      "2022-02-07 14:03:48,555 - simulator - INFO - Info for rank 0, Date = 2020-06-02 00:00:00, number of deaths =  0, number of infected = 2056\n",
      "2022-02-07 14:03:53,326 - rank - INFO - Rank 0 -- interaction -- 4.776043537000078\n",
      "2022-02-07 14:03:53,333 - epidemiology - INFO - CMS: Infection COMS-v2 for rank 0/1(2)0.00017436500093026552,0.00017452239990234375 - 2020-06-02 00:00:00\n",
      "2022-02-07 14:03:53,363 - rank - INFO - Rank 0 -- interaction_waiting -- 4.4670014176517725e-06\n",
      "2022-02-07 14:03:53,374 - simulator - INFO - CMS: Timestep for rank 0/1 - 0.010994838999977219,0.010996580123901367 - 2020-06-02 00:00:00\n",
      "\n",
      "2022-02-07 14:03:53,376 - rank - INFO - Next timestep\n",
      "2022-02-07 14:03:53,377 - simulator - INFO - ==================== timestep ====================\n",
      "2022-02-07 14:03:53,830 - rank - INFO - Rank 0 -- move_people -- 0.452444275999369\n",
      "2022-02-07 14:03:53,830 - rank - INFO - Rank 0 -- move_people_waiting -- 5.187999704503454e-06\n",
      "2022-02-07 14:03:53,831 - activity_manager - INFO - CMS: People COMS for rank 0/1 - 3.6899982660543174e-06,3.337860107421875e-06 - 2020-06-02 02:00:00\n",
      "2022-02-07 14:03:53,837 - simulator - INFO - Info for rank 0, Date = 2020-06-02 02:00:00, number of deaths =  0, number of infected = 2082\n",
      "2022-02-07 14:04:00,255 - rank - INFO - Rank 0 -- interaction -- 6.423953934001474\n",
      "2022-02-07 14:04:00,270 - epidemiology - INFO - CMS: Infection COMS-v2 for rank 0/1(2)0.00033029199948941823,0.0003304481506347656 - 2020-06-02 02:00:00\n",
      "2022-02-07 14:04:00,307 - rank - INFO - Rank 0 -- interaction_waiting -- 6.120000762166455e-06\n",
      "2022-02-07 14:04:00,323 - simulator - INFO - CMS: Timestep for rank 0/1 - 0.01562756300154433,0.01562786102294922 - 2020-06-02 02:00:00\n",
      "\n",
      "2022-02-07 14:04:00,324 - rank - INFO - Next timestep\n",
      "2022-02-07 14:04:00,325 - simulator - INFO - ==================== timestep ====================\n",
      "2022-02-07 14:04:00,735 - rank - INFO - Rank 0 -- move_people -- 0.40938492699933704\n",
      "2022-02-07 14:04:00,736 - rank - INFO - Rank 0 -- move_people_waiting -- 4.556999556371011e-06\n",
      "2022-02-07 14:04:00,736 - activity_manager - INFO - CMS: People COMS for rank 0/1 - 2.8960002964595333e-06,2.6226043701171875e-06 - 2020-06-02 04:00:00\n",
      "2022-02-07 14:04:00,740 - simulator - INFO - Info for rank 0, Date = 2020-06-02 04:00:00, number of deaths =  0, number of infected = 2134\n",
      "2022-02-07 14:04:07,138 - rank - INFO - Rank 0 -- interaction -- 6.400955061000786\n",
      "2022-02-07 14:04:07,151 - epidemiology - INFO - CMS: Infection COMS-v2 for rank 0/1(2)0.0003282469988334924,0.00032806396484375 - 2020-06-02 04:00:00\n",
      "2022-02-07 14:04:07,183 - rank - INFO - Rank 0 -- interaction_waiting -- 4.818999514100142e-06\n",
      "2022-02-07 14:04:07,194 - simulator - INFO - CMS: Timestep for rank 0/1 - 0.010981372999594896,0.010981559753417969 - 2020-06-02 04:00:00\n",
      "\n",
      "2022-02-07 14:04:07,195 - rank - INFO - Next timestep\n",
      "2022-02-07 14:04:07,196 - simulator - INFO - ==================== timestep ====================\n",
      "2022-02-07 14:04:07,609 - rank - INFO - Rank 0 -- move_people -- 0.412099188000866\n",
      "2022-02-07 14:04:07,609 - rank - INFO - Rank 0 -- move_people_waiting -- 4.661000275518745e-06\n",
      "2022-02-07 14:04:07,610 - activity_manager - INFO - CMS: People COMS for rank 0/1 - 3.273999027442187e-06,3.0994415283203125e-06 - 2020-06-02 06:00:00\n",
      "2022-02-07 14:04:07,614 - simulator - INFO - Info for rank 0, Date = 2020-06-02 06:00:00, number of deaths =  0, number of infected = 2183\n",
      "2022-02-07 14:04:14,078 - rank - INFO - Rank 0 -- interaction -- 6.468250562000321\n",
      "2022-02-07 14:04:14,090 - epidemiology - INFO - CMS: Infection COMS-v2 for rank 0/1(2)0.00019704000078490935,0.0001971721649169922 - 2020-06-02 06:00:00\n",
      "2022-02-07 14:04:14,121 - rank - INFO - Rank 0 -- interaction_waiting -- 4.988000000594184e-06\n",
      "2022-02-07 14:04:14,132 - simulator - INFO - CMS: Timestep for rank 0/1 - 0.011060765000365791,0.01106119155883789 - 2020-06-02 06:00:00\n",
      "\n",
      "2022-02-07 14:04:14,134 - rank - INFO - Next timestep\n",
      "2022-02-07 14:04:14,134 - simulator - INFO - ==================== timestep ====================\n",
      "2022-02-07 14:04:14,561 - rank - INFO - Rank 0 -- move_people -- 0.42674591500144743\n",
      "2022-02-07 14:04:14,562 - rank - INFO - Rank 0 -- move_people_waiting -- 6.171998393256217e-06\n",
      "2022-02-07 14:04:14,562 - activity_manager - INFO - CMS: People COMS for rank 0/1 - 2.677999873412773e-06,2.6226043701171875e-06 - 2020-06-02 08:00:00\n",
      "2022-02-07 14:04:14,566 - simulator - INFO - Info for rank 0, Date = 2020-06-02 08:00:00, number of deaths =  0, number of infected = 2222\n",
      "2022-02-07 14:04:21,126 - rank - INFO - Rank 0 -- interaction -- 6.563049792001038\n",
      "2022-02-07 14:04:21,137 - epidemiology - INFO - CMS: Infection COMS-v2 for rank 0/1(2)0.00017514199862489477,0.0001747608184814453 - 2020-06-02 08:00:00\n",
      "2022-02-07 14:04:21,174 - rank - INFO - Rank 0 -- interaction_waiting -- 5.944999429630116e-06\n",
      "2022-02-07 14:04:21,184 - simulator - INFO - CMS: Timestep for rank 0/1 - 0.010044192998975632,0.01004481315612793 - 2020-06-02 08:00:00\n",
      "\n",
      "2022-02-07 14:04:21,186 - rank - INFO - Next timestep\n",
      "2022-02-07 14:04:21,187 - simulator - INFO - ==================== timestep ====================\n",
      "2022-02-07 14:04:21,317 - rank - INFO - Rank 0 -- move_people -- 0.1290435310002067\n",
      "2022-02-07 14:04:21,317 - rank - INFO - Rank 0 -- move_people_waiting -- 4.5529995986726135e-06\n",
      "2022-02-07 14:04:21,317 - activity_manager - INFO - CMS: People COMS for rank 0/1 - 2.303999281139113e-06,2.384185791015625e-06 - 2020-06-02 10:00:00\n",
      "2022-02-07 14:04:21,323 - simulator - INFO - Info for rank 0, Date = 2020-06-02 10:00:00, number of deaths =  0, number of infected = 2265\n",
      "2022-02-07 14:04:26,294 - rank - INFO - Rank 0 -- interaction -- 4.97576889300035\n",
      "2022-02-07 14:04:26,346 - epidemiology - INFO - CMS: Infection COMS-v2 for rank 0/1(2)0.0003899650000676047,0.00039005279541015625 - 2020-06-02 10:00:00\n",
      "2022-02-07 14:04:26,377 - rank - INFO - Rank 0 -- interaction_waiting -- 6.610000127693638e-06\n",
      "2022-02-07 14:04:26,387 - simulator - INFO - CMS: Timestep for rank 0/1 - 0.00997156799894583,0.009971857070922852 - 2020-06-02 10:00:00\n",
      "\n",
      "2022-02-07 14:04:26,388 - rank - INFO - Next timestep\n",
      "2022-02-07 14:04:26,389 - simulator - INFO - ==================== timestep ====================\n",
      "2022-02-07 14:04:26,515 - rank - INFO - Rank 0 -- move_people -- 0.12478377399929741\n",
      "2022-02-07 14:04:26,515 - rank - INFO - Rank 0 -- move_people_waiting -- 4.456998794921674e-06\n",
      "2022-02-07 14:04:26,516 - activity_manager - INFO - CMS: People COMS for rank 0/1 - 2.44499824475497e-06,2.384185791015625e-06 - 2020-06-03 00:00:00\n",
      "2022-02-07 14:04:26,521 - simulator - INFO - Info for rank 0, Date = 2020-06-03 00:00:00, number of deaths =  0, number of infected = 2438\n"
     ]
    },
    {
     "name": "stdout",
     "output_type": "stream",
     "text": [
      "2022-02-07 14:04:31,522 - rank - INFO - Rank 0 -- interaction -- 5.0060134190007375\n",
      "2022-02-07 14:04:31,531 - epidemiology - INFO - CMS: Infection COMS-v2 for rank 0/1(2)0.0003150989996356657,0.0003151893615722656 - 2020-06-03 00:00:00\n",
      "2022-02-07 14:04:31,562 - rank - INFO - Rank 0 -- interaction_waiting -- 4.13899942941498e-06\n",
      "2022-02-07 14:04:31,571 - simulator - INFO - CMS: Timestep for rank 0/1 - 0.009169409999230993,0.009169816970825195 - 2020-06-03 00:00:00\n",
      "\n",
      "2022-02-07 14:04:31,573 - rank - INFO - Next timestep\n",
      "2022-02-07 14:04:31,574 - simulator - INFO - ==================== timestep ====================\n",
      "2022-02-07 14:04:32,007 - rank - INFO - Rank 0 -- move_people -- 0.4328603710000607\n",
      "2022-02-07 14:04:32,008 - rank - INFO - Rank 0 -- move_people_waiting -- 4.502999217947945e-06\n",
      "2022-02-07 14:04:32,008 - activity_manager - INFO - CMS: People COMS for rank 0/1 - 2.270999175379984e-06,2.384185791015625e-06 - 2020-06-03 02:00:00\n",
      "2022-02-07 14:04:32,012 - simulator - INFO - Info for rank 0, Date = 2020-06-03 02:00:00, number of deaths =  0, number of infected = 2469\n",
      "2022-02-07 14:04:38,858 - rank - INFO - Rank 0 -- interaction -- 6.849939491999976\n",
      "2022-02-07 14:04:38,871 - epidemiology - INFO - CMS: Infection COMS-v2 for rank 0/1(2)0.00016960999892035034,0.00016927719116210938 - 2020-06-03 02:00:00\n",
      "2022-02-07 14:04:38,902 - rank - INFO - Rank 0 -- interaction_waiting -- 4.6080003812676296e-06\n",
      "2022-02-07 14:04:38,913 - simulator - INFO - CMS: Timestep for rank 0/1 - 0.01054112299971166,0.010541439056396484 - 2020-06-03 02:00:00\n",
      "\n",
      "2022-02-07 14:04:38,914 - rank - INFO - Next timestep\n",
      "2022-02-07 14:04:38,915 - simulator - INFO - ==================== timestep ====================\n",
      "2022-02-07 14:04:39,320 - rank - INFO - Rank 0 -- move_people -- 0.40439611799956765\n",
      "2022-02-07 14:04:39,321 - rank - INFO - Rank 0 -- move_people_waiting -- 4.870998964179307e-06\n",
      "2022-02-07 14:04:39,321 - activity_manager - INFO - CMS: People COMS for rank 0/1 - 2.9809998522978276e-06,3.0994415283203125e-06 - 2020-06-03 04:00:00\n",
      "2022-02-07 14:04:39,327 - simulator - INFO - Info for rank 0, Date = 2020-06-03 04:00:00, number of deaths =  0, number of infected = 2519\n",
      "2022-02-07 14:04:45,814 - rank - INFO - Rank 0 -- interaction -- 6.492841376000797\n",
      "2022-02-07 14:04:45,828 - epidemiology - INFO - CMS: Infection COMS-v2 for rank 0/1(2)0.0003500639995763777,0.00034928321838378906 - 2020-06-03 04:00:00\n",
      "2022-02-07 14:04:45,863 - rank - INFO - Rank 0 -- interaction_waiting -- 8.535998858860694e-06\n",
      "2022-02-07 14:04:45,874 - simulator - INFO - CMS: Timestep for rank 0/1 - 0.011157613000250421,0.011157512664794922 - 2020-06-03 04:00:00\n",
      "\n",
      "2022-02-07 14:04:45,876 - rank - INFO - Next timestep\n",
      "2022-02-07 14:04:45,876 - simulator - INFO - ==================== timestep ====================\n",
      "2022-02-07 14:04:46,288 - rank - INFO - Rank 0 -- move_people -- 0.4108274699992762\n",
      "2022-02-07 14:04:46,289 - rank - INFO - Rank 0 -- move_people_waiting -- 6.000000212225132e-06\n",
      "2022-02-07 14:04:46,289 - activity_manager - INFO - CMS: People COMS for rank 0/1 - 2.8909998945891857e-06,2.384185791015625e-06 - 2020-06-03 06:00:00\n",
      "2022-02-07 14:04:46,296 - simulator - INFO - Info for rank 0, Date = 2020-06-03 06:00:00, number of deaths =  0, number of infected = 2566\n",
      "2022-02-07 14:04:52,720 - rank - INFO - Rank 0 -- interaction -- 6.430046982000931\n",
      "2022-02-07 14:04:52,733 - epidemiology - INFO - CMS: Infection COMS-v2 for rank 0/1(2)0.00017157799993583467,0.00017142295837402344 - 2020-06-03 06:00:00\n",
      "2022-02-07 14:04:52,767 - rank - INFO - Rank 0 -- interaction_waiting -- 5.481000698637217e-06\n",
      "2022-02-07 14:04:52,778 - simulator - INFO - CMS: Timestep for rank 0/1 - 0.011235826001211535,0.011236190795898438 - 2020-06-03 06:00:00\n",
      "\n",
      "2022-02-07 14:04:52,780 - rank - INFO - Next timestep\n",
      "2022-02-07 14:04:52,780 - simulator - INFO - ==================== timestep ====================\n",
      "2022-02-07 14:04:53,212 - rank - INFO - Rank 0 -- move_people -- 0.43099459699988074\n",
      "2022-02-07 14:04:53,212 - rank - INFO - Rank 0 -- move_people_waiting -- 4.800000169780105e-06\n",
      "2022-02-07 14:04:53,213 - activity_manager - INFO - CMS: People COMS for rank 0/1 - 3.1820000003790483e-06,2.86102294921875e-06 - 2020-06-03 08:00:00\n",
      "2022-02-07 14:04:53,217 - simulator - INFO - Info for rank 0, Date = 2020-06-03 08:00:00, number of deaths =  0, number of infected = 2617\n",
      "2022-02-07 14:04:59,914 - rank - INFO - Rank 0 -- interaction -- 6.700476776999494\n",
      "2022-02-07 14:04:59,926 - epidemiology - INFO - CMS: Infection COMS-v2 for rank 0/1(2)0.00016427999980805907,0.00016355514526367188 - 2020-06-03 08:00:00\n",
      "2022-02-07 14:04:59,961 - rank - INFO - Rank 0 -- interaction_waiting -- 4.568999429466203e-06\n",
      "2022-02-07 14:04:59,970 - simulator - INFO - CMS: Timestep for rank 0/1 - 0.009706056000140961,0.009706735610961914 - 2020-06-03 08:00:00\n",
      "\n",
      "2022-02-07 14:04:59,972 - rank - INFO - Next timestep\n",
      "2022-02-07 14:04:59,973 - simulator - INFO - ==================== timestep ====================\n",
      "2022-02-07 14:05:00,099 - rank - INFO - Rank 0 -- move_people -- 0.12598038599935535\n",
      "2022-02-07 14:05:00,100 - rank - INFO - Rank 0 -- move_people_waiting -- 4.568999429466203e-06\n",
      "2022-02-07 14:05:00,100 - activity_manager - INFO - CMS: People COMS for rank 0/1 - 3.373999788891524e-06,3.337860107421875e-06 - 2020-06-03 10:00:00\n",
      "2022-02-07 14:05:00,106 - simulator - INFO - Info for rank 0, Date = 2020-06-03 10:00:00, number of deaths =  0, number of infected = 2666\n",
      "2022-02-07 14:05:04,965 - rank - INFO - Rank 0 -- interaction -- 4.8640383839992865\n",
      "2022-02-07 14:05:05,011 - epidemiology - INFO - CMS: Infection COMS-v2 for rank 0/1(2)0.00015245099893945735,0.00015211105346679688 - 2020-06-03 10:00:00\n",
      "2022-02-07 14:05:05,043 - rank - INFO - Rank 0 -- interaction_waiting -- 5.6440003390889615e-06\n",
      "2022-02-07 14:05:05,053 - simulator - INFO - CMS: Timestep for rank 0/1 - 0.010087032000228646,0.010087251663208008 - 2020-06-03 10:00:00\n",
      "\n",
      "2022-02-07 14:05:05,054 - rank - INFO - Next timestep\n",
      "2022-02-07 14:05:05,055 - simulator - INFO - ==================== timestep ====================\n",
      "2022-02-07 14:05:05,186 - rank - INFO - Rank 0 -- move_people -- 0.1309143229991605\n",
      "2022-02-07 14:05:05,187 - rank - INFO - Rank 0 -- move_people_waiting -- 5.706000592908822e-06\n",
      "2022-02-07 14:05:05,187 - activity_manager - INFO - CMS: People COMS for rank 0/1 - 2.554999809945002e-06,2.384185791015625e-06 - 2020-06-04 00:00:00\n",
      "2022-02-07 14:05:05,191 - simulator - INFO - Info for rank 0, Date = 2020-06-04 00:00:00, number of deaths =  0, number of infected = 2854\n",
      "2022-02-07 14:05:09,924 - rank - INFO - Rank 0 -- interaction -- 4.736188532000597\n",
      "2022-02-07 14:05:09,935 - epidemiology - INFO - CMS: Infection COMS-v2 for rank 0/1(2)0.00030367699946509674,0.00030350685119628906 - 2020-06-04 00:00:00\n",
      "2022-02-07 14:05:09,968 - rank - INFO - Rank 0 -- interaction_waiting -- 5.056001100456342e-06\n",
      "2022-02-07 14:05:09,982 - simulator - INFO - CMS: Timestep for rank 0/1 - 0.014184448000378325,0.014184951782226562 - 2020-06-04 00:00:00\n",
      "\n",
      "2022-02-07 14:05:09,983 - rank - INFO - Next timestep\n",
      "2022-02-07 14:05:09,984 - simulator - INFO - ==================== timestep ====================\n",
      "2022-02-07 14:05:10,458 - rank - INFO - Rank 0 -- move_people -- 0.47291142600079183\n",
      "2022-02-07 14:05:10,459 - rank - INFO - Rank 0 -- move_people_waiting -- 5.669000529451296e-06\n",
      "2022-02-07 14:05:10,459 - activity_manager - INFO - CMS: People COMS for rank 0/1 - 2.6369998522568494e-06,2.1457672119140625e-06 - 2020-06-04 02:00:00\n",
      "2022-02-07 14:05:10,465 - simulator - INFO - Info for rank 0, Date = 2020-06-04 02:00:00, number of deaths =  0, number of infected = 2892\n",
      "2022-02-07 14:05:17,073 - rank - INFO - Rank 0 -- interaction -- 6.613100214000951\n",
      "2022-02-07 14:05:17,089 - epidemiology - INFO - CMS: Infection COMS-v2 for rank 0/1(2)0.00038206800127227325,0.0003819465637207031 - 2020-06-04 02:00:00\n",
      "2022-02-07 14:05:17,128 - rank - INFO - Rank 0 -- interaction_waiting -- 4.755998816108331e-06\n",
      "2022-02-07 14:05:17,137 - simulator - INFO - CMS: Timestep for rank 0/1 - 0.009560908998537343,0.009561538696289062 - 2020-06-04 02:00:00\n",
      "\n",
      "2022-02-07 14:05:17,139 - rank - INFO - Next timestep\n",
      "2022-02-07 14:05:17,139 - simulator - INFO - ==================== timestep ====================\n"
     ]
    },
    {
     "name": "stdout",
     "output_type": "stream",
     "text": [
      "2022-02-07 14:05:17,503 - rank - INFO - Rank 0 -- move_people -- 0.3632599680004205\n",
      "2022-02-07 14:05:17,504 - rank - INFO - Rank 0 -- move_people_waiting -- 5.158999556442723e-06\n",
      "2022-02-07 14:05:17,504 - activity_manager - INFO - CMS: People COMS for rank 0/1 - 2.7969999791821465e-06,2.1457672119140625e-06 - 2020-06-04 04:00:00\n",
      "2022-02-07 14:05:17,508 - simulator - INFO - Info for rank 0, Date = 2020-06-04 04:00:00, number of deaths =  0, number of infected = 2949\n",
      "2022-02-07 14:05:24,026 - rank - INFO - Rank 0 -- interaction -- 6.521274996999637\n",
      "2022-02-07 14:05:24,041 - epidemiology - INFO - CMS: Infection COMS-v2 for rank 0/1(2)0.00019803900067927316,0.00019788742065429688 - 2020-06-04 04:00:00\n",
      "2022-02-07 14:05:24,075 - rank - INFO - Rank 0 -- interaction_waiting -- 4.835999789065681e-06\n",
      "2022-02-07 14:05:24,086 - simulator - INFO - CMS: Timestep for rank 0/1 - 0.01074277699990489,0.010742902755737305 - 2020-06-04 04:00:00\n",
      "\n",
      "2022-02-07 14:05:24,087 - rank - INFO - Next timestep\n",
      "2022-02-07 14:05:24,088 - simulator - INFO - ==================== timestep ====================\n",
      "2022-02-07 14:05:24,514 - rank - INFO - Rank 0 -- move_people -- 0.4252474450004229\n",
      "2022-02-07 14:05:24,514 - rank - INFO - Rank 0 -- move_people_waiting -- 4.519000867730938e-06\n",
      "2022-02-07 14:05:24,515 - activity_manager - INFO - CMS: People COMS for rank 0/1 - 2.4210003175539896e-06,2.384185791015625e-06 - 2020-06-04 06:00:00\n",
      "2022-02-07 14:05:24,518 - simulator - INFO - Info for rank 0, Date = 2020-06-04 06:00:00, number of deaths =  0, number of infected = 3003\n",
      "2022-02-07 14:05:30,933 - rank - INFO - Rank 0 -- interaction -- 6.417761103000885\n",
      "2022-02-07 14:05:30,947 - epidemiology - INFO - CMS: Infection COMS-v2 for rank 0/1(2)0.00016525600040040445,0.0001647472381591797 - 2020-06-04 06:00:00\n",
      "2022-02-07 14:05:30,987 - rank - INFO - Rank 0 -- interaction_waiting -- 4.610999894794077e-06\n",
      "2022-02-07 14:05:30,997 - simulator - INFO - CMS: Timestep for rank 0/1 - 0.00949633300115238,0.009496450424194336 - 2020-06-04 06:00:00\n",
      "\n",
      "2022-02-07 14:05:30,998 - rank - INFO - Next timestep\n",
      "2022-02-07 14:05:30,999 - simulator - INFO - ==================== timestep ====================\n",
      "2022-02-07 14:05:31,427 - rank - INFO - Rank 0 -- move_people -- 0.4275031850011146\n",
      "2022-02-07 14:05:31,428 - rank - INFO - Rank 0 -- move_people_waiting -- 5.505000444827601e-06\n",
      "2022-02-07 14:05:31,428 - activity_manager - INFO - CMS: People COMS for rank 0/1 - 2.34500112128444e-06,2.1457672119140625e-06 - 2020-06-04 08:00:00\n",
      "2022-02-07 14:05:31,432 - simulator - INFO - Info for rank 0, Date = 2020-06-04 08:00:00, number of deaths =  0, number of infected = 3059\n",
      "2022-02-07 14:05:38,126 - rank - INFO - Rank 0 -- interaction -- 6.697066566999638\n",
      "2022-02-07 14:05:38,143 - epidemiology - INFO - CMS: Infection COMS-v2 for rank 0/1(2)0.00016845400023157708,0.0001678466796875 - 2020-06-04 08:00:00\n",
      "2022-02-07 14:05:38,177 - rank - INFO - Rank 0 -- interaction_waiting -- 4.923000233247876e-06\n",
      "2022-02-07 14:05:38,188 - simulator - INFO - CMS: Timestep for rank 0/1 - 0.010821657000633422,0.010822772979736328 - 2020-06-04 08:00:00\n",
      "\n",
      "2022-02-07 14:05:38,190 - rank - INFO - Next timestep\n",
      "2022-02-07 14:05:38,191 - simulator - INFO - ==================== timestep ====================\n",
      "2022-02-07 14:05:38,320 - rank - INFO - Rank 0 -- move_people -- 0.12843170999985887\n",
      "2022-02-07 14:05:38,320 - rank - INFO - Rank 0 -- move_people_waiting -- 5.758000042987987e-06\n",
      "2022-02-07 14:05:38,321 - activity_manager - INFO - CMS: People COMS for rank 0/1 - 2.4170003598555923e-06,2.1457672119140625e-06 - 2020-06-04 10:00:00\n",
      "2022-02-07 14:05:38,324 - simulator - INFO - Info for rank 0, Date = 2020-06-04 10:00:00, number of deaths =  0, number of infected = 3114\n",
      "2022-02-07 14:05:43,128 - rank - INFO - Rank 0 -- interaction -- 4.80692572100088\n",
      "2022-02-07 14:05:43,179 - epidemiology - INFO - CMS: Infection COMS-v2 for rank 0/1(2)0.00015459300084330607,0.00015401840209960938 - 2020-06-04 10:00:00\n",
      "2022-02-07 14:05:43,211 - rank - INFO - Rank 0 -- interaction_waiting -- 5.614998372038826e-06\n",
      "2022-02-07 14:05:43,221 - simulator - INFO - CMS: Timestep for rank 0/1 - 0.009853677998762578,0.00985407829284668 - 2020-06-04 10:00:00\n",
      "\n",
      "2022-02-07 14:05:43,223 - rank - INFO - Next timestep\n",
      "2022-02-07 14:05:43,223 - simulator - INFO - ==================== timestep ====================\n",
      "2022-02-07 14:05:43,350 - rank - INFO - Rank 0 -- move_people -- 0.12550487000044086\n",
      "2022-02-07 14:05:43,350 - rank - INFO - Rank 0 -- move_people_waiting -- 4.550000085146166e-06\n",
      "2022-02-07 14:05:43,350 - activity_manager - INFO - CMS: People COMS for rank 0/1 - 2.5249992177123204e-06,2.1457672119140625e-06 - 2020-06-05 00:00:00\n",
      "2022-02-07 14:05:43,354 - simulator - INFO - Info for rank 0, Date = 2020-06-05 00:00:00, number of deaths =  0, number of infected = 3323\n",
      "2022-02-07 14:05:48,203 - rank - INFO - Rank 0 -- interaction -- 4.852580090000629\n",
      "2022-02-07 14:05:48,216 - epidemiology - INFO - CMS: Infection COMS-v2 for rank 0/1(2)0.0003487920002953615,0.0003485679626464844 - 2020-06-05 00:00:00\n",
      "2022-02-07 14:05:48,252 - rank - INFO - Rank 0 -- interaction_waiting -- 4.7100002120714635e-06\n",
      "2022-02-07 14:05:48,262 - simulator - INFO - CMS: Timestep for rank 0/1 - 0.009756536999702803,0.009757041931152344 - 2020-06-05 00:00:00\n",
      "\n",
      "2022-02-07 14:05:48,263 - rank - INFO - Next timestep\n",
      "2022-02-07 14:05:48,264 - simulator - INFO - ==================== timestep ====================\n",
      "2022-02-07 14:05:48,659 - rank - INFO - Rank 0 -- move_people -- 0.3939777989999129\n",
      "2022-02-07 14:05:48,659 - rank - INFO - Rank 0 -- move_people_waiting -- 4.878000254393555e-06\n",
      "2022-02-07 14:05:48,659 - activity_manager - INFO - CMS: People COMS for rank 0/1 - 2.9389993869699538e-06,2.86102294921875e-06 - 2020-06-05 02:00:00\n",
      "2022-02-07 14:05:48,664 - simulator - INFO - Info for rank 0, Date = 2020-06-05 02:00:00, number of deaths =  0, number of infected = 3363\n",
      "2022-02-07 14:05:55,068 - rank - INFO - Rank 0 -- interaction -- 6.408062301999962\n",
      "2022-02-07 14:05:55,088 - epidemiology - INFO - CMS: Infection COMS-v2 for rank 0/1(2)0.00034391600092931185,0.0003437995910644531 - 2020-06-05 02:00:00\n",
      "2022-02-07 14:05:55,122 - rank - INFO - Rank 0 -- interaction_waiting -- 5.031000910094008e-06\n",
      "2022-02-07 14:05:55,132 - simulator - INFO - CMS: Timestep for rank 0/1 - 0.0104083090009226,0.010408401489257812 - 2020-06-05 02:00:00\n",
      "\n",
      "2022-02-07 14:05:55,134 - rank - INFO - Next timestep\n",
      "2022-02-07 14:05:55,135 - simulator - INFO - ==================== timestep ====================\n",
      "2022-02-07 14:05:55,558 - rank - INFO - Rank 0 -- move_people -- 0.42196854800022265\n",
      "2022-02-07 14:05:55,558 - rank - INFO - Rank 0 -- move_people_waiting -- 5.924001015955582e-06\n",
      "2022-02-07 14:05:55,559 - activity_manager - INFO - CMS: People COMS for rank 0/1 - 2.576000042608939e-06,2.384185791015625e-06 - 2020-06-05 04:00:00\n",
      "2022-02-07 14:05:55,562 - simulator - INFO - Info for rank 0, Date = 2020-06-05 04:00:00, number of deaths =  0, number of infected = 3435\n",
      "2022-02-07 14:06:02,140 - rank - INFO - Rank 0 -- interaction -- 6.581056080000053\n",
      "2022-02-07 14:06:02,156 - epidemiology - INFO - CMS: Infection COMS-v2 for rank 0/1(2)0.00017700200078252237,0.00017690658569335938 - 2020-06-05 04:00:00\n",
      "2022-02-07 14:06:02,254 - rank - INFO - Rank 0 -- interaction_waiting -- 5.071999112260528e-06\n",
      "2022-02-07 14:06:02,266 - simulator - INFO - CMS: Timestep for rank 0/1 - 0.01171927500035963,0.011718988418579102 - 2020-06-05 04:00:00\n",
      "\n",
      "2022-02-07 14:06:02,267 - rank - INFO - Next timestep\n",
      "2022-02-07 14:06:02,267 - simulator - INFO - ==================== timestep ====================\n",
      "2022-02-07 14:06:02,681 - rank - INFO - Rank 0 -- move_people -- 0.4127324469991436\n",
      "2022-02-07 14:06:02,682 - rank - INFO - Rank 0 -- move_people_waiting -- 3.4310014598304406e-06\n",
      "2022-02-07 14:06:02,682 - activity_manager - INFO - CMS: People COMS for rank 0/1 - 2.9120001272531226e-06,2.6226043701171875e-06 - 2020-06-05 06:00:00\n",
      "2022-02-07 14:06:02,686 - simulator - INFO - Info for rank 0, Date = 2020-06-05 06:00:00, number of deaths =  0, number of infected = 3493\n",
      "2022-02-07 14:06:09,149 - rank - INFO - Rank 0 -- interaction -- 6.465659773999505\n",
      "2022-02-07 14:06:09,167 - epidemiology - INFO - CMS: Infection COMS-v2 for rank 0/1(2)0.00017893000040203333,0.00017881393432617188 - 2020-06-05 06:00:00\n"
     ]
    },
    {
     "name": "stdout",
     "output_type": "stream",
     "text": [
      "2022-02-07 14:06:09,205 - rank - INFO - Rank 0 -- interaction_waiting -- 4.845000148634426e-06\n",
      "2022-02-07 14:06:09,215 - simulator - INFO - CMS: Timestep for rank 0/1 - 0.010110514000189141,0.010110616683959961 - 2020-06-05 06:00:00\n",
      "\n",
      "2022-02-07 14:06:09,216 - rank - INFO - Next timestep\n",
      "2022-02-07 14:06:09,217 - simulator - INFO - ==================== timestep ====================\n",
      "2022-02-07 14:06:09,626 - rank - INFO - Rank 0 -- move_people -- 0.4069816390001506\n",
      "2022-02-07 14:06:09,627 - rank - INFO - Rank 0 -- move_people_waiting -- 4.520999937085435e-06\n",
      "2022-02-07 14:06:09,627 - activity_manager - INFO - CMS: People COMS for rank 0/1 - 2.9900002118665725e-06,2.6226043701171875e-06 - 2020-06-05 08:00:00\n",
      "2022-02-07 14:06:09,633 - simulator - INFO - Info for rank 0, Date = 2020-06-05 08:00:00, number of deaths =  0, number of infected = 3561\n",
      "2022-02-07 14:06:16,099 - rank - INFO - Rank 0 -- interaction -- 6.471937669999534\n",
      "2022-02-07 14:06:16,118 - epidemiology - INFO - CMS: Infection COMS-v2 for rank 0/1(2)0.00017093800124712288,0.00017070770263671875 - 2020-06-05 08:00:00\n",
      "2022-02-07 14:06:16,154 - rank - INFO - Rank 0 -- interaction_waiting -- 4.112998794880696e-06\n",
      "2022-02-07 14:06:16,164 - simulator - INFO - CMS: Timestep for rank 0/1 - 0.009840245000305003,0.009840965270996094 - 2020-06-05 08:00:00\n",
      "\n",
      "2022-02-07 14:06:16,166 - rank - INFO - Next timestep\n",
      "2022-02-07 14:06:16,167 - simulator - INFO - ==================== timestep ====================\n",
      "2022-02-07 14:06:16,303 - rank - INFO - Rank 0 -- move_people -- 0.13505555799929425\n",
      "2022-02-07 14:06:16,303 - rank - INFO - Rank 0 -- move_people_waiting -- 4.466999598662369e-06\n",
      "2022-02-07 14:06:16,303 - activity_manager - INFO - CMS: People COMS for rank 0/1 - 2.225999196525663e-06,2.384185791015625e-06 - 2020-06-05 10:00:00\n",
      "2022-02-07 14:06:16,307 - simulator - INFO - Info for rank 0, Date = 2020-06-05 10:00:00, number of deaths =  0, number of infected = 3634\n",
      "2022-02-07 14:06:21,152 - rank - INFO - Rank 0 -- interaction -- 4.848111154000435\n",
      "2022-02-07 14:06:21,210 - epidemiology - INFO - CMS: Infection COMS-v2 for rank 0/1(2)0.000347171000612434,0.000347137451171875 - 2020-06-05 10:00:00\n",
      "2022-02-07 14:06:21,288 - rank - INFO - Rank 0 -- interaction_waiting -- 5.6320004659937695e-06\n",
      "2022-02-07 14:06:21,301 - simulator - INFO - CMS: Timestep for rank 0/1 - 0.012661402000958333,0.012661933898925781 - 2020-06-05 10:00:00\n",
      "\n",
      "2022-02-07 14:06:21,303 - rank - INFO - Next timestep\n",
      "2022-02-07 14:06:21,304 - simulator - INFO - ==================== timestep ====================\n",
      "2022-02-07 14:06:21,433 - rank - INFO - Rank 0 -- move_people -- 0.1287287089999154\n",
      "2022-02-07 14:06:21,434 - rank - INFO - Rank 0 -- move_people_waiting -- 4.993000402464531e-06\n",
      "2022-02-07 14:06:21,434 - activity_manager - INFO - CMS: People COMS for rank 0/1 - 2.918999598477967e-06,2.86102294921875e-06 - 2020-06-06 00:00:00\n",
      "2022-02-07 14:06:21,439 - simulator - INFO - Info for rank 0, Date = 2020-06-06 00:00:00, number of deaths =  0, number of infected = 3857\n",
      "2022-02-07 14:06:26,283 - rank - INFO - Rank 0 -- interaction -- 4.8485700669989455\n",
      "2022-02-07 14:06:26,301 - epidemiology - INFO - CMS: Infection COMS-v2 for rank 0/1(2)0.00020590900021488778,0.00020599365234375 - 2020-06-06 00:00:00\n",
      "2022-02-07 14:06:26,398 - rank - INFO - Rank 0 -- interaction_waiting -- 5.7249999372288585e-06\n",
      "2022-02-07 14:06:26,411 - simulator - INFO - CMS: Timestep for rank 0/1 - 0.013205358000050182,0.013206243515014648 - 2020-06-06 00:00:00\n",
      "\n",
      "2022-02-07 14:06:26,413 - rank - INFO - Next timestep\n",
      "2022-02-07 14:06:26,413 - simulator - INFO - ==================== timestep ====================\n",
      "2022-02-07 14:06:26,812 - rank - INFO - Rank 0 -- move_people -- 0.39782356599971536\n",
      "2022-02-07 14:06:26,812 - rank - INFO - Rank 0 -- move_people_waiting -- 6.139000106486492e-06\n",
      "2022-02-07 14:06:26,813 - activity_manager - INFO - CMS: People COMS for rank 0/1 - 2.5420013116672635e-06,2.384185791015625e-06 - 2020-06-06 03:00:00\n",
      "2022-02-07 14:06:26,817 - simulator - INFO - Info for rank 0, Date = 2020-06-06 03:00:00, number of deaths =  0, number of infected = 3921\n",
      "2022-02-07 14:06:33,429 - rank - INFO - Rank 0 -- interaction -- 6.616281643000548\n",
      "2022-02-07 14:06:33,453 - epidemiology - INFO - CMS: Infection COMS-v2 for rank 0/1(2)0.00021360099890443962,0.000213623046875 - 2020-06-06 03:00:00\n",
      "2022-02-07 14:06:33,490 - rank - INFO - Rank 0 -- interaction_waiting -- 5.525000233319588e-06\n",
      "2022-02-07 14:06:33,500 - simulator - INFO - CMS: Timestep for rank 0/1 - 0.009815696001169272,0.00981593132019043 - 2020-06-06 03:00:00\n",
      "\n",
      "2022-02-07 14:06:33,502 - rank - INFO - Next timestep\n",
      "2022-02-07 14:06:33,503 - simulator - INFO - ==================== timestep ====================\n",
      "2022-02-07 14:06:33,949 - rank - INFO - Rank 0 -- move_people -- 0.44502414199996565\n",
      "2022-02-07 14:06:33,949 - rank - INFO - Rank 0 -- move_people_waiting -- 5.447998773888685e-06\n",
      "2022-02-07 14:06:33,949 - activity_manager - INFO - CMS: People COMS for rank 0/1 - 2.8799986466765404e-06,2.6226043701171875e-06 - 2020-06-06 05:00:00\n",
      "2022-02-07 14:06:33,954 - simulator - INFO - Info for rank 0, Date = 2020-06-06 05:00:00, number of deaths =  0, number of infected = 3997\n",
      "2022-02-07 14:06:40,802 - rank - INFO - Rank 0 -- interaction -- 6.8518425739985105\n",
      "2022-02-07 14:06:40,841 - epidemiology - INFO - CMS: Infection COMS-v2 for rank 0/1(2)0.00036516200088954065,0.0003647804260253906 - 2020-06-06 05:00:00\n",
      "2022-02-07 14:06:40,884 - rank - INFO - Rank 0 -- interaction_waiting -- 5.6129993026843295e-06\n",
      "2022-02-07 14:06:40,897 - simulator - INFO - CMS: Timestep for rank 0/1 - 0.012892163000287837,0.012892723083496094 - 2020-06-06 05:00:00\n",
      "\n",
      "2022-02-07 14:06:40,898 - rank - INFO - Next timestep\n",
      "2022-02-07 14:06:40,899 - simulator - INFO - ==================== timestep ====================\n",
      "2022-02-07 14:06:41,328 - rank - INFO - Rank 0 -- move_people -- 0.4283640049998212\n",
      "2022-02-07 14:06:41,328 - rank - INFO - Rank 0 -- move_people_waiting -- 6.5949989220825955e-06\n",
      "2022-02-07 14:06:41,329 - activity_manager - INFO - CMS: People COMS for rank 0/1 - 3.4829990909202024e-06,3.337860107421875e-06 - 2020-06-06 07:00:00\n",
      "2022-02-07 14:06:41,336 - simulator - INFO - Info for rank 0, Date = 2020-06-06 07:00:00, number of deaths =  0, number of infected = 4077\n",
      "2022-02-07 14:06:48,030 - rank - INFO - Rank 0 -- interaction -- 6.7002546950006945\n",
      "2022-02-07 14:06:48,046 - epidemiology - INFO - CMS: Infection COMS-v2 for rank 0/1(2)0.00017775100059225224,0.00017714500427246094 - 2020-06-06 07:00:00\n",
      "2022-02-07 14:06:48,083 - rank - INFO - Rank 0 -- interaction_waiting -- 4.65099947177805e-06\n",
      "2022-02-07 14:06:48,093 - simulator - INFO - CMS: Timestep for rank 0/1 - 0.009772252999027842,0.00977325439453125 - 2020-06-06 07:00:00\n",
      "\n",
      "2022-02-07 14:06:48,095 - rank - INFO - Next timestep\n",
      "2022-02-07 14:06:48,096 - simulator - INFO - ==================== timestep ====================\n",
      "2022-02-07 14:06:48,475 - rank - INFO - Rank 0 -- move_people -- 0.3782486290001543\n",
      "2022-02-07 14:06:48,475 - rank - INFO - Rank 0 -- move_people_waiting -- 4.284000169718638e-06\n",
      "2022-02-07 14:06:48,476 - activity_manager - INFO - CMS: People COMS for rank 0/1 - 2.5169993023155257e-06,2.384185791015625e-06 - 2020-06-06 09:00:00\n",
      "2022-02-07 14:06:48,479 - simulator - INFO - Info for rank 0, Date = 2020-06-06 09:00:00, number of deaths =  0, number of infected = 4141\n",
      "2022-02-07 14:06:55,029 - rank - INFO - Rank 0 -- interaction -- 6.552625764001277\n",
      "2022-02-07 14:06:55,043 - epidemiology - INFO - CMS: Infection COMS-v2 for rank 0/1(2)0.00033294300010311417,0.0003330707550048828 - 2020-06-06 09:00:00\n",
      "2022-02-07 14:06:55,080 - rank - INFO - Rank 0 -- interaction_waiting -- 5.884001438971609e-06\n",
      "2022-02-07 14:06:55,091 - simulator - INFO - CMS: Timestep for rank 0/1 - 0.010296738000761252,0.01029658317565918 - 2020-06-06 09:00:00\n",
      "\n",
      "2022-02-07 14:06:55,092 - rank - INFO - Next timestep\n",
      "2022-02-07 14:06:55,093 - simulator - INFO - ==================== timestep ====================\n",
      "2022-02-07 14:06:55,228 - rank - INFO - Rank 0 -- move_people -- 0.13464721700074733\n",
      "2022-02-07 14:06:55,229 - rank - INFO - Rank 0 -- move_people_waiting -- 4.664001608034596e-06\n",
      "2022-02-07 14:06:55,229 - activity_manager - INFO - CMS: People COMS for rank 0/1 - 2.562999725341797e-06,2.6226043701171875e-06 - 2020-06-06 11:00:00\n"
     ]
    },
    {
     "name": "stdout",
     "output_type": "stream",
     "text": [
      "2022-02-07 14:06:55,233 - simulator - INFO - Info for rank 0, Date = 2020-06-06 11:00:00, number of deaths =  0, number of infected = 4191\n",
      "2022-02-07 14:07:00,064 - rank - INFO - Rank 0 -- interaction -- 4.834670988000653\n",
      "2022-02-07 14:07:00,146 - epidemiology - INFO - CMS: Infection COMS-v2 for rank 0/1(2)0.00039624700002605096,0.00039577484130859375 - 2020-06-06 11:00:00\n",
      "2022-02-07 14:07:00,184 - rank - INFO - Rank 0 -- interaction_waiting -- 4.6909990487620234e-06\n",
      "2022-02-07 14:07:00,195 - simulator - INFO - CMS: Timestep for rank 0/1 - 0.010474695000084466,0.01047515869140625 - 2020-06-06 11:00:00\n",
      "\n",
      "2022-02-07 14:07:00,196 - rank - INFO - Next timestep\n",
      "2022-02-07 14:07:00,197 - simulator - INFO - ==================== timestep ====================\n",
      "2022-02-07 14:07:00,344 - rank - INFO - Rank 0 -- move_people -- 0.1455499960011366\n",
      "2022-02-07 14:07:00,344 - rank - INFO - Rank 0 -- move_people_waiting -- 4.752000677399337e-06\n",
      "2022-02-07 14:07:00,344 - activity_manager - INFO - CMS: People COMS for rank 0/1 - 2.7789992600446567e-06,2.6226043701171875e-06 - 2020-06-07 00:00:00\n",
      "2022-02-07 14:07:00,349 - simulator - INFO - Info for rank 0, Date = 2020-06-07 00:00:00, number of deaths =  0, number of infected = 4469\n",
      "2022-02-07 14:07:05,118 - rank - INFO - Rank 0 -- interaction -- 4.773368215999653\n",
      "2022-02-07 14:07:05,139 - epidemiology - INFO - CMS: Infection COMS-v2 for rank 0/1(2)0.00023913099903438706,0.00023889541625976562 - 2020-06-07 00:00:00\n",
      "2022-02-07 14:07:05,179 - rank - INFO - Rank 0 -- interaction_waiting -- 5.0559992814669386e-06\n",
      "2022-02-07 14:07:05,188 - simulator - INFO - CMS: Timestep for rank 0/1 - 0.00984597799833864,0.00984644889831543 - 2020-06-07 00:00:00\n",
      "\n",
      "2022-02-07 14:07:05,190 - rank - INFO - Next timestep\n",
      "2022-02-07 14:07:05,190 - simulator - INFO - ==================== timestep ====================\n",
      "2022-02-07 14:07:05,611 - rank - INFO - Rank 0 -- move_people -- 0.42038203300035093\n",
      "2022-02-07 14:07:05,612 - rank - INFO - Rank 0 -- move_people_waiting -- 4.093999450560659e-06\n",
      "2022-02-07 14:07:05,613 - activity_manager - INFO - CMS: People COMS for rank 0/1 - 2.9929997253930196e-06,2.6226043701171875e-06 - 2020-06-07 03:00:00\n",
      "2022-02-07 14:07:05,617 - simulator - INFO - Info for rank 0, Date = 2020-06-07 03:00:00, number of deaths =  0, number of infected = 4537\n",
      "2022-02-07 14:07:12,137 - rank - INFO - Rank 0 -- interaction -- 6.523251381999216\n",
      "2022-02-07 14:07:12,155 - epidemiology - INFO - CMS: Infection COMS-v2 for rank 0/1(2)0.00018432199976814445,0.0001838207244873047 - 2020-06-07 03:00:00\n",
      "2022-02-07 14:07:12,196 - rank - INFO - Rank 0 -- interaction_waiting -- 4.699000783148222e-06\n",
      "2022-02-07 14:07:12,205 - simulator - INFO - CMS: Timestep for rank 0/1 - 0.009380436000355985,0.009380578994750977 - 2020-06-07 03:00:00\n",
      "\n",
      "2022-02-07 14:07:12,207 - rank - INFO - Next timestep\n",
      "2022-02-07 14:07:12,207 - simulator - INFO - ==================== timestep ====================\n",
      "2022-02-07 14:07:12,602 - rank - INFO - Rank 0 -- move_people -- 0.39381963499909034\n",
      "2022-02-07 14:07:12,602 - rank - INFO - Rank 0 -- move_people_waiting -- 4.702000296674669e-06\n",
      "2022-02-07 14:07:12,602 - activity_manager - INFO - CMS: People COMS for rank 0/1 - 2.7740006771637127e-06,2.384185791015625e-06 - 2020-06-07 05:00:00\n",
      "2022-02-07 14:07:12,607 - simulator - INFO - Info for rank 0, Date = 2020-06-07 05:00:00, number of deaths =  0, number of infected = 4609\n",
      "2022-02-07 14:07:19,301 - rank - INFO - Rank 0 -- interaction -- 6.698408459000348\n",
      "2022-02-07 14:07:19,325 - epidemiology - INFO - CMS: Infection COMS-v2 for rank 0/1(2)0.0003606789996410953,0.00036072731018066406 - 2020-06-07 05:00:00\n",
      "2022-02-07 14:07:19,370 - rank - INFO - Rank 0 -- interaction_waiting -- 6.083000698708929e-06\n",
      "2022-02-07 14:07:19,380 - simulator - INFO - CMS: Timestep for rank 0/1 - 0.010016901000199141,0.01001739501953125 - 2020-06-07 05:00:00\n",
      "\n",
      "2022-02-07 14:07:19,382 - rank - INFO - Next timestep\n",
      "2022-02-07 14:07:19,382 - simulator - INFO - ==================== timestep ====================\n",
      "2022-02-07 14:07:19,816 - rank - INFO - Rank 0 -- move_people -- 0.43244747099925007\n",
      "2022-02-07 14:07:19,816 - rank - INFO - Rank 0 -- move_people_waiting -- 4.743000317830592e-06\n",
      "2022-02-07 14:07:19,817 - activity_manager - INFO - CMS: People COMS for rank 0/1 - 3.2580010156380013e-06,3.0994415283203125e-06 - 2020-06-07 07:00:00\n",
      "2022-02-07 14:07:19,822 - simulator - INFO - Info for rank 0, Date = 2020-06-07 07:00:00, number of deaths =  0, number of infected = 4685\n",
      "2022-02-07 14:07:26,424 - rank - INFO - Rank 0 -- interaction -- 6.606755516999328\n",
      "2022-02-07 14:07:26,444 - epidemiology - INFO - CMS: Infection COMS-v2 for rank 0/1(2)0.0001935319996846374,0.00019359588623046875 - 2020-06-07 07:00:00\n",
      "2022-02-07 14:07:26,485 - rank - INFO - Rank 0 -- interaction_waiting -- 5.755999154644087e-06\n",
      "2022-02-07 14:07:26,496 - simulator - INFO - CMS: Timestep for rank 0/1 - 0.01033437799924286,0.010334253311157227 - 2020-06-07 07:00:00\n",
      "\n",
      "2022-02-07 14:07:26,498 - rank - INFO - Next timestep\n",
      "2022-02-07 14:07:26,498 - simulator - INFO - ==================== timestep ====================\n",
      "2022-02-07 14:07:26,952 - rank - INFO - Rank 0 -- move_people -- 0.4527859659992828\n",
      "2022-02-07 14:07:26,952 - rank - INFO - Rank 0 -- move_people_waiting -- 4.821000402444042e-06\n",
      "2022-02-07 14:07:26,952 - activity_manager - INFO - CMS: People COMS for rank 0/1 - 9.52200025494676e-06,9.5367431640625e-06 - 2020-06-07 09:00:00\n",
      "2022-02-07 14:07:26,957 - simulator - INFO - Info for rank 0, Date = 2020-06-07 09:00:00, number of deaths =  0, number of infected = 4759\n",
      "2022-02-07 14:07:33,635 - rank - INFO - Rank 0 -- interaction -- 6.682235219999711\n",
      "2022-02-07 14:07:33,657 - epidemiology - INFO - CMS: Infection COMS-v2 for rank 0/1(2)0.00020204599968565162,0.00020194053649902344 - 2020-06-07 09:00:00\n",
      "2022-02-07 14:07:33,696 - rank - INFO - Rank 0 -- interaction_waiting -- 4.784000338986516e-06\n",
      "2022-02-07 14:07:33,706 - simulator - INFO - CMS: Timestep for rank 0/1 - 0.009688436000942602,0.009688854217529297 - 2020-06-07 09:00:00\n",
      "\n",
      "2022-02-07 14:07:33,707 - rank - INFO - Next timestep\n",
      "2022-02-07 14:07:33,708 - simulator - INFO - ==================== timestep ====================\n",
      "2022-02-07 14:07:33,842 - rank - INFO - Rank 0 -- move_people -- 0.1329524909997417\n",
      "2022-02-07 14:07:33,842 - rank - INFO - Rank 0 -- move_people_waiting -- 5.4349984566215426e-06\n",
      "2022-02-07 14:07:33,842 - activity_manager - INFO - CMS: People COMS for rank 0/1 - 2.410000888630748e-06,2.384185791015625e-06 - 2020-06-07 11:00:00\n",
      "2022-02-07 14:07:33,846 - simulator - INFO - Info for rank 0, Date = 2020-06-07 11:00:00, number of deaths =  0, number of infected = 4840\n",
      "2022-02-07 14:07:38,914 - rank - INFO - Rank 0 -- interaction -- 5.070760558999609\n",
      "2022-02-07 14:07:39,001 - epidemiology - INFO - CMS: Infection COMS-v2 for rank 0/1(2)0.0003900869996869005,0.00038933753967285156 - 2020-06-07 11:00:00\n",
      "2022-02-07 14:07:39,043 - rank - INFO - Rank 0 -- interaction_waiting -- 5.044999852543697e-06\n",
      "2022-02-07 14:07:39,054 - simulator - INFO - CMS: Timestep for rank 0/1 - 0.010004630999901565,0.010004997253417969 - 2020-06-07 11:00:00\n",
      "\n",
      "2022-02-07 14:07:39,055 - rank - INFO - Next timestep\n",
      "2022-02-07 14:07:39,056 - simulator - INFO - ==================== timestep ====================\n",
      "2022-02-07 14:07:39,189 - rank - INFO - Rank 0 -- move_people -- 0.13177157800055284\n",
      "2022-02-07 14:07:39,190 - rank - INFO - Rank 0 -- move_people_waiting -- 3.373999788891524e-06\n",
      "2022-02-07 14:07:39,190 - activity_manager - INFO - CMS: People COMS for rank 0/1 - 2.34500112128444e-06,2.384185791015625e-06 - 2020-06-08 00:00:00\n",
      "2022-02-07 14:07:39,194 - simulator - INFO - Info for rank 0, Date = 2020-06-08 00:00:00, number of deaths =  0, number of infected = 5125\n",
      "2022-02-07 14:07:45,514 - rank - INFO - Rank 0 -- interaction -- 6.322941858999911\n",
      "2022-02-07 14:07:45,537 - epidemiology - INFO - CMS: Infection COMS-v2 for rank 0/1(2)0.0004918750000797445,0.0004916191101074219 - 2020-06-08 00:00:00\n",
      "2022-02-07 14:07:45,593 - rank - INFO - Rank 0 -- interaction_waiting -- 5.308998879627325e-06\n",
      "2022-02-07 14:07:45,604 - simulator - INFO - CMS: Timestep for rank 0/1 - 0.010595059999104706,0.010596275329589844 - 2020-06-08 00:00:00\n",
      "\n"
     ]
    },
    {
     "name": "stdout",
     "output_type": "stream",
     "text": [
      "2022-02-07 14:07:45,605 - rank - INFO - Next timestep\n",
      "2022-02-07 14:07:45,606 - simulator - INFO - ==================== timestep ====================\n",
      "2022-02-07 14:07:46,272 - rank - INFO - Rank 0 -- move_people -- 0.6645518289988104\n",
      "2022-02-07 14:07:46,272 - rank - INFO - Rank 0 -- move_people_waiting -- 7.514001481467858e-06\n",
      "2022-02-07 14:07:46,273 - activity_manager - INFO - CMS: People COMS for rank 0/1 - 5.002000762033276e-06,4.5299530029296875e-06 - 2020-06-08 02:00:00\n",
      "2022-02-07 14:07:46,281 - simulator - INFO - Info for rank 0, Date = 2020-06-08 02:00:00, number of deaths =  0, number of infected = 5176\n",
      "2022-02-07 14:07:53,015 - rank - INFO - Rank 0 -- interaction -- 6.741711675000261\n",
      "2022-02-07 14:07:53,040 - epidemiology - INFO - CMS: Infection COMS-v2 for rank 0/1(2)0.00023173800036602188,0.00023174285888671875 - 2020-06-08 02:00:00\n",
      "2022-02-07 14:07:53,086 - rank - INFO - Rank 0 -- interaction_waiting -- 6.389000191120431e-06\n",
      "2022-02-07 14:07:53,097 - simulator - INFO - CMS: Timestep for rank 0/1 - 0.010744383998826379,0.010744333267211914 - 2020-06-08 02:00:00\n",
      "\n",
      "2022-02-07 14:07:53,099 - rank - INFO - Next timestep\n",
      "2022-02-07 14:07:53,100 - simulator - INFO - ==================== timestep ====================\n",
      "2022-02-07 14:07:53,587 - rank - INFO - Rank 0 -- move_people -- 0.486841017000188\n",
      "2022-02-07 14:07:53,588 - rank - INFO - Rank 0 -- move_people_waiting -- 5.665999196935445e-06\n",
      "2022-02-07 14:07:53,588 - activity_manager - INFO - CMS: People COMS for rank 0/1 - 2.5859990273602307e-06,2.384185791015625e-06 - 2020-06-08 04:00:00\n",
      "2022-02-07 14:07:53,592 - simulator - INFO - Info for rank 0, Date = 2020-06-08 04:00:00, number of deaths =  0, number of infected = 5257\n",
      "2022-02-07 14:08:00,429 - rank - INFO - Rank 0 -- interaction -- 6.840200255999662\n",
      "2022-02-07 14:08:00,451 - epidemiology - INFO - CMS: Infection COMS-v2 for rank 0/1(2)0.00015570699906675145,0.0001552104949951172 - 2020-06-08 04:00:00\n",
      "2022-02-07 14:08:00,492 - rank - INFO - Rank 0 -- interaction_waiting -- 4.812000042875297e-06\n",
      "2022-02-07 14:08:00,502 - simulator - INFO - CMS: Timestep for rank 0/1 - 0.009671024999988731,0.009671211242675781 - 2020-06-08 04:00:00\n",
      "\n",
      "2022-02-07 14:08:00,504 - rank - INFO - Next timestep\n",
      "2022-02-07 14:08:00,504 - simulator - INFO - ==================== timestep ====================\n",
      "2022-02-07 14:08:00,921 - rank - INFO - Rank 0 -- move_people -- 0.4158476789998531\n",
      "2022-02-07 14:08:00,921 - rank - INFO - Rank 0 -- move_people_waiting -- 5.292999048833735e-06\n",
      "2022-02-07 14:08:00,922 - activity_manager - INFO - CMS: People COMS for rank 0/1 - 3.5780012694885954e-06,3.337860107421875e-06 - 2020-06-08 06:00:00\n",
      "2022-02-07 14:08:00,929 - simulator - INFO - Info for rank 0, Date = 2020-06-08 06:00:00, number of deaths =  0, number of infected = 5346\n",
      "2022-02-07 14:08:07,640 - rank - INFO - Rank 0 -- interaction -- 6.716978582999218\n",
      "2022-02-07 14:08:07,661 - epidemiology - INFO - CMS: Infection COMS-v2 for rank 0/1(2)0.0003534180013957666,0.0003533363342285156 - 2020-06-08 06:00:00\n",
      "2022-02-07 14:08:07,706 - rank - INFO - Rank 0 -- interaction_waiting -- 5.8299992815591395e-06\n",
      "2022-02-07 14:08:07,715 - simulator - INFO - CMS: Timestep for rank 0/1 - 0.00960665499951574,0.009607076644897461 - 2020-06-08 06:00:00\n",
      "\n",
      "2022-02-07 14:08:07,717 - rank - INFO - Next timestep\n",
      "2022-02-07 14:08:07,718 - simulator - INFO - ==================== timestep ====================\n",
      "2022-02-07 14:08:08,152 - rank - INFO - Rank 0 -- move_people -- 0.43402967099973466\n",
      "2022-02-07 14:08:08,153 - rank - INFO - Rank 0 -- move_people_waiting -- 4.671999704441987e-06\n",
      "2022-02-07 14:08:08,153 - activity_manager - INFO - CMS: People COMS for rank 0/1 - 3.3270007406827062e-06,3.337860107421875e-06 - 2020-06-08 08:00:00\n",
      "2022-02-07 14:08:08,157 - simulator - INFO - Info for rank 0, Date = 2020-06-08 08:00:00, number of deaths =  0, number of infected = 5422\n",
      "2022-02-07 14:08:15,594 - rank - INFO - Rank 0 -- interaction -- 7.440772444999311\n",
      "2022-02-07 14:08:15,617 - epidemiology - INFO - CMS: Infection COMS-v2 for rank 0/1(2)0.00015396799972222652,0.00015354156494140625 - 2020-06-08 08:00:00\n",
      "2022-02-07 14:08:15,661 - rank - INFO - Rank 0 -- interaction_waiting -- 5.109999619890004e-06\n",
      "2022-02-07 14:08:15,671 - simulator - INFO - CMS: Timestep for rank 0/1 - 0.010247598000205471,0.010248184204101562 - 2020-06-08 08:00:00\n",
      "\n",
      "2022-02-07 14:08:15,673 - rank - INFO - Next timestep\n",
      "2022-02-07 14:08:15,674 - simulator - INFO - ==================== timestep ====================\n",
      "2022-02-07 14:08:15,828 - rank - INFO - Rank 0 -- move_people -- 0.15367989799960924\n",
      "2022-02-07 14:08:15,829 - rank - INFO - Rank 0 -- move_people_waiting -- 4.778001311933622e-06\n",
      "2022-02-07 14:08:15,829 - activity_manager - INFO - CMS: People COMS for rank 0/1 - 3.1270010367734358e-06,2.86102294921875e-06 - 2020-06-08 10:00:00\n",
      "2022-02-07 14:08:15,833 - simulator - INFO - Info for rank 0, Date = 2020-06-08 10:00:00, number of deaths =  0, number of infected = 5511\n",
      "2022-02-07 14:08:20,782 - rank - INFO - Rank 0 -- interaction -- 4.951896157999727\n",
      "2022-02-07 14:08:20,864 - epidemiology - INFO - CMS: Infection COMS-v2 for rank 0/1(2)0.00035385599949222524,0.00035309791564941406 - 2020-06-08 10:00:00\n",
      "2022-02-07 14:08:20,917 - rank - INFO - Rank 0 -- interaction_waiting -- 5.664998752763495e-06\n",
      "2022-02-07 14:08:20,927 - simulator - INFO - CMS: Timestep for rank 0/1 - 0.009618096999474801,0.009618997573852539 - 2020-06-08 10:00:00\n",
      "\n",
      "2022-02-07 14:08:20,929 - rank - INFO - Next timestep\n",
      "2022-02-07 14:08:20,930 - simulator - INFO - ==================== timestep ====================\n",
      "2022-02-07 14:08:21,066 - rank - INFO - Rank 0 -- move_people -- 0.13519992399960756\n",
      "2022-02-07 14:08:21,066 - rank - INFO - Rank 0 -- move_people_waiting -- 4.526000338955782e-06\n",
      "2022-02-07 14:08:21,066 - activity_manager - INFO - CMS: People COMS for rank 0/1 - 2.9240000003483146e-06,2.6226043701171875e-06 - 2020-06-09 00:00:00\n",
      "2022-02-07 14:08:21,071 - simulator - INFO - Info for rank 0, Date = 2020-06-09 00:00:00, number of deaths =  0, number of infected = 5823\n",
      "2022-02-07 14:08:25,904 - rank - INFO - Rank 0 -- interaction -- 4.837576228001126\n",
      "2022-02-07 14:08:25,924 - epidemiology - INFO - CMS: Infection COMS-v2 for rank 0/1(2)0.00015481800073757768,0.0001544952392578125 - 2020-06-09 00:00:00\n",
      "2022-02-07 14:08:25,971 - rank - INFO - Rank 0 -- interaction_waiting -- 5.4580013966187835e-06\n",
      "2022-02-07 14:08:25,980 - simulator - INFO - CMS: Timestep for rank 0/1 - 0.009625728000173694,0.009625911712646484 - 2020-06-09 00:00:00\n",
      "\n",
      "2022-02-07 14:08:25,982 - rank - INFO - Next timestep\n",
      "2022-02-07 14:08:25,983 - simulator - INFO - ==================== timestep ====================\n",
      "2022-02-07 14:08:26,436 - rank - INFO - Rank 0 -- move_people -- 0.45269045799977903\n",
      "2022-02-07 14:08:26,436 - rank - INFO - Rank 0 -- move_people_waiting -- 4.548999640974216e-06\n",
      "2022-02-07 14:08:26,437 - activity_manager - INFO - CMS: People COMS for rank 0/1 - 3.258999640820548e-06,3.0994415283203125e-06 - 2020-06-09 02:00:00\n",
      "2022-02-07 14:08:26,441 - simulator - INFO - Info for rank 0, Date = 2020-06-09 02:00:00, number of deaths =  0, number of infected = 5879\n",
      "2022-02-07 14:08:33,132 - rank - INFO - Rank 0 -- interaction -- 6.694530971000859\n",
      "2022-02-07 14:08:33,154 - epidemiology - INFO - CMS: Infection COMS-v2 for rank 0/1(2)0.0003614170000219019,0.00036144256591796875 - 2020-06-09 02:00:00\n",
      "2022-02-07 14:08:33,199 - rank - INFO - Rank 0 -- interaction_waiting -- 5.25900031789206e-06\n",
      "2022-02-07 14:08:33,209 - simulator - INFO - CMS: Timestep for rank 0/1 - 0.009676194000348914,0.009676456451416016 - 2020-06-09 02:00:00\n",
      "\n",
      "2022-02-07 14:08:33,210 - rank - INFO - Next timestep\n",
      "2022-02-07 14:08:33,211 - simulator - INFO - ==================== timestep ====================\n",
      "2022-02-07 14:08:33,647 - rank - INFO - Rank 0 -- move_people -- 0.43534305700086406\n",
      "2022-02-07 14:08:33,647 - rank - INFO - Rank 0 -- move_people_waiting -- 4.531999366008677e-06\n",
      "2022-02-07 14:08:33,648 - activity_manager - INFO - CMS: People COMS for rank 0/1 - 2.5139997887890786e-06,2.6226043701171875e-06 - 2020-06-09 04:00:00\n",
      "2022-02-07 14:08:33,652 - simulator - INFO - Info for rank 0, Date = 2020-06-09 04:00:00, number of deaths =  0, number of infected = 5961\n"
     ]
    },
    {
     "name": "stdout",
     "output_type": "stream",
     "text": [
      "2022-02-07 14:08:40,175 - rank - INFO - Rank 0 -- interaction -- 6.526826322000488\n",
      "2022-02-07 14:08:40,199 - epidemiology - INFO - CMS: Infection COMS-v2 for rank 0/1(2)0.00017493900122644845,0.00017499923706054688 - 2020-06-09 04:00:00\n",
      "2022-02-07 14:08:40,246 - rank - INFO - Rank 0 -- interaction_waiting -- 5.769999916083179e-06\n",
      "2022-02-07 14:08:40,257 - simulator - INFO - CMS: Timestep for rank 0/1 - 0.010496079999938956,0.010495901107788086 - 2020-06-09 04:00:00\n",
      "\n",
      "2022-02-07 14:08:40,258 - rank - INFO - Next timestep\n",
      "2022-02-07 14:08:40,259 - simulator - INFO - ==================== timestep ====================\n",
      "2022-02-07 14:08:40,686 - rank - INFO - Rank 0 -- move_people -- 0.42639075800070714\n",
      "2022-02-07 14:08:40,686 - rank - INFO - Rank 0 -- move_people_waiting -- 5.339999916031957e-06\n",
      "2022-02-07 14:08:40,687 - activity_manager - INFO - CMS: People COMS for rank 0/1 - 3.315999492770061e-06,2.86102294921875e-06 - 2020-06-09 06:00:00\n",
      "2022-02-07 14:08:40,691 - simulator - INFO - Info for rank 0, Date = 2020-06-09 06:00:00, number of deaths =  0, number of infected = 6046\n",
      "2022-02-07 14:08:47,320 - rank - INFO - Rank 0 -- interaction -- 6.632250623999425\n",
      "2022-02-07 14:08:47,342 - epidemiology - INFO - CMS: Infection COMS-v2 for rank 0/1(2)0.0001956369997060392,0.0001952648162841797 - 2020-06-09 06:00:00\n",
      "2022-02-07 14:08:47,398 - rank - INFO - Rank 0 -- interaction_waiting -- 4.399000317789614e-06\n",
      "2022-02-07 14:08:47,408 - simulator - INFO - CMS: Timestep for rank 0/1 - 0.009469464001085726,0.009470224380493164 - 2020-06-09 06:00:00\n",
      "\n",
      "2022-02-07 14:08:47,409 - rank - INFO - Next timestep\n",
      "2022-02-07 14:08:47,410 - simulator - INFO - ==================== timestep ====================\n",
      "2022-02-07 14:08:47,834 - rank - INFO - Rank 0 -- move_people -- 0.4224097409987735\n",
      "2022-02-07 14:08:47,834 - rank - INFO - Rank 0 -- move_people_waiting -- 5.038000381318852e-06\n",
      "2022-02-07 14:08:47,835 - activity_manager - INFO - CMS: People COMS for rank 0/1 - 2.62100002146326e-06,2.6226043701171875e-06 - 2020-06-09 08:00:00\n",
      "2022-02-07 14:08:47,841 - simulator - INFO - Info for rank 0, Date = 2020-06-09 08:00:00, number of deaths =  0, number of infected = 6128\n",
      "2022-02-07 14:08:54,664 - rank - INFO - Rank 0 -- interaction -- 6.828576279000117\n",
      "2022-02-07 14:08:54,690 - epidemiology - INFO - CMS: Infection COMS-v2 for rank 0/1(2)0.0003272640005889116,0.0003268718719482422 - 2020-06-09 08:00:00\n",
      "2022-02-07 14:08:54,741 - rank - INFO - Rank 0 -- interaction_waiting -- 4.978999641025439e-06\n",
      "2022-02-07 14:08:54,751 - simulator - INFO - CMS: Timestep for rank 0/1 - 0.009787399998458568,0.009787797927856445 - 2020-06-09 08:00:00\n",
      "\n",
      "2022-02-07 14:08:54,752 - rank - INFO - Next timestep\n",
      "2022-02-07 14:08:54,753 - simulator - INFO - ==================== timestep ====================\n",
      "2022-02-07 14:08:54,888 - rank - INFO - Rank 0 -- move_people -- 0.13471010099965497\n",
      "2022-02-07 14:08:54,888 - rank - INFO - Rank 0 -- move_people_waiting -- 5.148000127519481e-06\n",
      "2022-02-07 14:08:54,889 - activity_manager - INFO - CMS: People COMS for rank 0/1 - 2.3630000214325264e-06,2.1457672119140625e-06 - 2020-06-09 10:00:00\n",
      "2022-02-07 14:08:54,895 - simulator - INFO - Info for rank 0, Date = 2020-06-09 10:00:00, number of deaths =  0, number of infected = 6221\n",
      "2022-02-07 14:08:59,820 - rank - INFO - Rank 0 -- interaction -- 4.9307973269988\n",
      "2022-02-07 14:08:59,929 - epidemiology - INFO - CMS: Infection COMS-v2 for rank 0/1(2)0.0001539090008009225,0.0001537799835205078 - 2020-06-09 10:00:00\n",
      "2022-02-07 14:08:59,974 - rank - INFO - Rank 0 -- interaction_waiting -- 4.708999767899513e-06\n",
      "2022-02-07 14:08:59,984 - simulator - INFO - CMS: Timestep for rank 0/1 - 0.010165756000787951,0.010166168212890625 - 2020-06-09 10:00:00\n",
      "\n",
      "2022-02-07 14:08:59,986 - rank - INFO - Next timestep\n",
      "2022-02-07 14:08:59,987 - simulator - INFO - ==================== timestep ====================\n",
      "2022-02-07 14:09:00,120 - rank - INFO - Rank 0 -- move_people -- 0.13264675100072054\n",
      "2022-02-07 14:09:00,120 - rank - INFO - Rank 0 -- move_people_waiting -- 4.8820002120919526e-06\n",
      "2022-02-07 14:09:00,121 - activity_manager - INFO - CMS: People COMS for rank 0/1 - 2.611999661894515e-06,2.384185791015625e-06 - 2020-06-10 00:00:00\n",
      "2022-02-07 14:09:00,124 - simulator - INFO - Info for rank 0, Date = 2020-06-10 00:00:00, number of deaths =  1, number of infected = 6570\n",
      "2022-02-07 14:09:04,868 - rank - INFO - Rank 0 -- interaction -- 4.746652940000786\n",
      "2022-02-07 14:09:04,882 - epidemiology - INFO - CMS: Infection COMS-v2 for rank 0/1(2)0.00015920999976515304,0.00015878677368164062 - 2020-06-10 00:00:00\n",
      "2022-02-07 14:09:04,993 - rank - INFO - Rank 0 -- interaction_waiting -- 4.8839992814464495e-06\n",
      "2022-02-07 14:09:05,005 - simulator - INFO - CMS: Timestep for rank 0/1 - 0.011313842000163277,0.011314153671264648 - 2020-06-10 00:00:00\n",
      "\n",
      "2022-02-07 14:09:05,006 - rank - INFO - Next timestep\n",
      "2022-02-07 14:09:05,007 - simulator - INFO - ==================== timestep ====================\n",
      "2022-02-07 14:09:05,431 - rank - INFO - Rank 0 -- move_people -- 0.42373349299850815\n",
      "2022-02-07 14:09:05,432 - rank - INFO - Rank 0 -- move_people_waiting -- 4.178000381216407e-06\n",
      "2022-02-07 14:09:05,432 - activity_manager - INFO - CMS: People COMS for rank 0/1 - 3.0139999580569565e-06,2.86102294921875e-06 - 2020-06-10 02:00:00\n",
      "2022-02-07 14:09:05,437 - simulator - INFO - Info for rank 0, Date = 2020-06-10 02:00:00, number of deaths =  1, number of infected = 6624\n",
      "2022-02-07 14:09:12,202 - rank - INFO - Rank 0 -- interaction -- 6.769342027999301\n",
      "2022-02-07 14:09:12,223 - epidemiology - INFO - CMS: Infection COMS-v2 for rank 0/1(2)0.00018505700063542463,0.00018525123596191406 - 2020-06-10 02:00:00\n",
      "2022-02-07 14:09:12,276 - rank - INFO - Rank 0 -- interaction_waiting -- 5.187999704503454e-06\n",
      "2022-02-07 14:09:12,286 - simulator - INFO - CMS: Timestep for rank 0/1 - 0.010159443998418283,0.010159969329833984 - 2020-06-10 02:00:00\n",
      "\n",
      "2022-02-07 14:09:12,288 - rank - INFO - Next timestep\n",
      "2022-02-07 14:09:12,289 - simulator - INFO - ==================== timestep ====================\n",
      "2022-02-07 14:09:12,734 - rank - INFO - Rank 0 -- move_people -- 0.44424656999945\n",
      "2022-02-07 14:09:12,734 - rank - INFO - Rank 0 -- move_people_waiting -- 5.108999175718054e-06\n",
      "2022-02-07 14:09:12,734 - activity_manager - INFO - CMS: People COMS for rank 0/1 - 2.6719990273704752e-06,2.384185791015625e-06 - 2020-06-10 04:00:00\n",
      "2022-02-07 14:09:12,739 - simulator - INFO - Info for rank 0, Date = 2020-06-10 04:00:00, number of deaths =  1, number of infected = 6699\n",
      "2022-02-07 14:09:19,444 - rank - INFO - Rank 0 -- interaction -- 6.7085475839994615\n",
      "2022-02-07 14:09:19,463 - epidemiology - INFO - CMS: Infection COMS-v2 for rank 0/1(2)0.00019344800057297107,0.0001933574676513672 - 2020-06-10 04:00:00\n",
      "2022-02-07 14:09:19,515 - rank - INFO - Rank 0 -- interaction_waiting -- 4.9700011004460976e-06\n",
      "2022-02-07 14:09:19,525 - simulator - INFO - CMS: Timestep for rank 0/1 - 0.010206336000919691,0.010206937789916992 - 2020-06-10 04:00:00\n",
      "\n",
      "2022-02-07 14:09:19,526 - rank - INFO - Next timestep\n",
      "2022-02-07 14:09:19,527 - simulator - INFO - ==================== timestep ====================\n",
      "2022-02-07 14:09:19,952 - rank - INFO - Rank 0 -- move_people -- 0.42426884999986214\n",
      "2022-02-07 14:09:19,952 - rank - INFO - Rank 0 -- move_people_waiting -- 7.095999535522424e-06\n",
      "2022-02-07 14:09:19,953 - activity_manager - INFO - CMS: People COMS for rank 0/1 - 4.065001121489331e-06,4.0531158447265625e-06 - 2020-06-10 06:00:00\n",
      "2022-02-07 14:09:19,959 - simulator - INFO - Info for rank 0, Date = 2020-06-10 06:00:00, number of deaths =  1, number of infected = 6772\n",
      "2022-02-07 14:09:26,652 - rank - INFO - Rank 0 -- interaction -- 6.698788595998849\n",
      "2022-02-07 14:09:26,681 - epidemiology - INFO - CMS: Infection COMS-v2 for rank 0/1(2)0.00034638999932212755,0.0003464221954345703 - 2020-06-10 06:00:00\n",
      "2022-02-07 14:09:26,736 - rank - INFO - Rank 0 -- interaction_waiting -- 4.420000550453551e-06\n",
      "2022-02-07 14:09:26,746 - simulator - INFO - CMS: Timestep for rank 0/1 - 0.00986120400011714,0.009861469268798828 - 2020-06-10 06:00:00\n",
      "\n",
      "2022-02-07 14:09:26,747 - rank - INFO - Next timestep\n",
      "2022-02-07 14:09:26,748 - simulator - INFO - ==================== timestep ====================\n"
     ]
    },
    {
     "name": "stdout",
     "output_type": "stream",
     "text": [
      "2022-02-07 14:09:27,234 - rank - INFO - Rank 0 -- move_people -- 0.48511893800059624\n",
      "2022-02-07 14:09:27,234 - rank - INFO - Rank 0 -- move_people_waiting -- 5.7920005929190665e-06\n",
      "2022-02-07 14:09:27,235 - activity_manager - INFO - CMS: People COMS for rank 0/1 - 2.950999260065146e-06,2.86102294921875e-06 - 2020-06-10 08:00:00\n",
      "2022-02-07 14:09:27,239 - simulator - INFO - Info for rank 0, Date = 2020-06-10 08:00:00, number of deaths =  1, number of infected = 6878\n",
      "2022-02-07 14:09:33,919 - rank - INFO - Rank 0 -- interaction -- 6.683929212000294\n",
      "2022-02-07 14:09:33,947 - epidemiology - INFO - CMS: Infection COMS-v2 for rank 0/1(2)0.0001564209997013677,0.00015616416931152344 - 2020-06-10 08:00:00\n",
      "2022-02-07 14:09:33,997 - rank - INFO - Rank 0 -- interaction_waiting -- 4.550000085146166e-06\n",
      "2022-02-07 14:09:34,007 - simulator - INFO - CMS: Timestep for rank 0/1 - 0.009696699999039993,0.00969696044921875 - 2020-06-10 08:00:00\n",
      "\n",
      "2022-02-07 14:09:34,008 - rank - INFO - Next timestep\n",
      "2022-02-07 14:09:34,009 - simulator - INFO - ==================== timestep ====================\n",
      "2022-02-07 14:09:34,149 - rank - INFO - Rank 0 -- move_people -- 0.13929684100003215\n",
      "2022-02-07 14:09:34,149 - rank - INFO - Rank 0 -- move_people_waiting -- 4.618999810190871e-06\n",
      "2022-02-07 14:09:34,150 - activity_manager - INFO - CMS: People COMS for rank 0/1 - 3.6690016713691875e-06,3.337860107421875e-06 - 2020-06-10 10:00:00\n",
      "2022-02-07 14:09:34,154 - simulator - INFO - Info for rank 0, Date = 2020-06-10 10:00:00, number of deaths =  1, number of infected = 6981\n",
      "2022-02-07 14:09:39,004 - rank - INFO - Rank 0 -- interaction -- 4.854205542998898\n",
      "2022-02-07 14:09:39,109 - epidemiology - INFO - CMS: Infection COMS-v2 for rank 0/1(2)0.00015618299948982894,0.00015592575073242188 - 2020-06-10 10:00:00\n",
      "2022-02-07 14:09:39,228 - rank - INFO - Rank 0 -- interaction_waiting -- 7.523000022047199e-06\n",
      "2022-02-07 14:09:39,240 - simulator - INFO - CMS: Timestep for rank 0/1 - 0.012795116999768652,0.012795448303222656 - 2020-06-10 10:00:00\n",
      "\n",
      "2022-02-07 14:09:39,242 - rank - INFO - Next timestep\n",
      "2022-02-07 14:09:39,243 - simulator - INFO - ==================== timestep ====================\n",
      "2022-02-07 14:09:39,377 - rank - INFO - Rank 0 -- move_people -- 0.13376790399888705\n",
      "2022-02-07 14:09:39,377 - rank - INFO - Rank 0 -- move_people_waiting -- 4.732999514089897e-06\n",
      "2022-02-07 14:09:39,378 - activity_manager - INFO - CMS: People COMS for rank 0/1 - 2.361999577260576e-06,2.1457672119140625e-06 - 2020-06-11 00:00:00\n",
      "2022-02-07 14:09:39,382 - simulator - INFO - Info for rank 0, Date = 2020-06-11 00:00:00, number of deaths =  1, number of infected = 7358\n",
      "2022-02-07 14:09:45,430 - rank - INFO - Rank 0 -- interaction -- 6.051837756000168\n",
      "2022-02-07 14:09:45,453 - epidemiology - INFO - CMS: Infection COMS-v2 for rank 0/1(2)0.0005160750006325543,0.0005161762237548828 - 2020-06-11 00:00:00\n",
      "2022-02-07 14:09:45,518 - rank - INFO - Rank 0 -- interaction_waiting -- 4.959998477715999e-06\n",
      "2022-02-07 14:09:45,529 - simulator - INFO - CMS: Timestep for rank 0/1 - 0.011002498999005184,0.01100301742553711 - 2020-06-11 00:00:00\n",
      "\n",
      "2022-02-07 14:09:45,531 - rank - INFO - Next timestep\n",
      "2022-02-07 14:09:45,532 - simulator - INFO - ==================== timestep ====================\n",
      "2022-02-07 14:09:46,177 - rank - INFO - Rank 0 -- move_people -- 0.6441067840005417\n",
      "2022-02-07 14:09:46,178 - rank - INFO - Rank 0 -- move_people_waiting -- 6.690999725833535e-06\n",
      "2022-02-07 14:09:46,178 - activity_manager - INFO - CMS: People COMS for rank 0/1 - 4.989999069948681e-06,4.5299530029296875e-06 - 2020-06-11 02:00:00\n",
      "2022-02-07 14:09:46,187 - simulator - INFO - Info for rank 0, Date = 2020-06-11 02:00:00, number of deaths =  1, number of infected = 7414\n",
      "2022-02-07 14:09:53,235 - rank - INFO - Rank 0 -- interaction -- 7.055691569999908\n",
      "2022-02-07 14:09:53,256 - epidemiology - INFO - CMS: Infection COMS-v2 for rank 0/1(2)0.00016341700029443018,0.00016307830810546875 - 2020-06-11 02:00:00\n",
      "2022-02-07 14:09:53,308 - rank - INFO - Rank 0 -- interaction_waiting -- 4.778001311933622e-06\n",
      "2022-02-07 14:09:53,319 - simulator - INFO - CMS: Timestep for rank 0/1 - 0.011131930999908946,0.011132001876831055 - 2020-06-11 02:00:00\n",
      "\n",
      "2022-02-07 14:09:53,321 - rank - INFO - Next timestep\n",
      "2022-02-07 14:09:53,321 - simulator - INFO - ==================== timestep ====================\n",
      "2022-02-07 14:09:53,754 - rank - INFO - Rank 0 -- move_people -- 0.432538196000678\n",
      "2022-02-07 14:09:53,755 - rank - INFO - Rank 0 -- move_people_waiting -- 6.0500005929498e-06\n",
      "2022-02-07 14:09:53,755 - activity_manager - INFO - CMS: People COMS for rank 0/1 - 3.6750006984220818e-06,3.0994415283203125e-06 - 2020-06-11 04:00:00\n",
      "2022-02-07 14:09:53,760 - simulator - INFO - Info for rank 0, Date = 2020-06-11 04:00:00, number of deaths =  1, number of infected = 7495\n",
      "2022-02-07 14:10:00,500 - rank - INFO - Rank 0 -- interaction -- 6.744809341998916\n",
      "2022-02-07 14:10:00,526 - epidemiology - INFO - CMS: Infection COMS-v2 for rank 0/1(2)0.0001583519988344051,0.00015783309936523438 - 2020-06-11 04:00:00\n",
      "2022-02-07 14:10:00,641 - rank - INFO - Rank 0 -- interaction_waiting -- 4.487999831326306e-06\n",
      "2022-02-07 14:10:00,653 - simulator - INFO - CMS: Timestep for rank 0/1 - 0.011205142000108026,0.011205196380615234 - 2020-06-11 04:00:00\n",
      "\n",
      "2022-02-07 14:10:00,656 - rank - INFO - Next timestep\n",
      "2022-02-07 14:10:00,656 - simulator - INFO - ==================== timestep ====================\n",
      "2022-02-07 14:10:01,106 - rank - INFO - Rank 0 -- move_people -- 0.44864936500016483\n",
      "2022-02-07 14:10:01,106 - rank - INFO - Rank 0 -- move_people_waiting -- 5.029000021750107e-06\n",
      "2022-02-07 14:10:01,107 - activity_manager - INFO - CMS: People COMS for rank 0/1 - 3.008999556186609e-06,2.86102294921875e-06 - 2020-06-11 06:00:00\n",
      "2022-02-07 14:10:01,113 - simulator - INFO - Info for rank 0, Date = 2020-06-11 06:00:00, number of deaths =  1, number of infected = 7593\n",
      "2022-02-07 14:10:07,719 - rank - INFO - Rank 0 -- interaction -- 6.611564487999203\n",
      "2022-02-07 14:10:07,741 - epidemiology - INFO - CMS: Infection COMS-v2 for rank 0/1(2)0.0001581010001245886,0.00015783309936523438 - 2020-06-11 06:00:00\n",
      "2022-02-07 14:10:07,799 - rank - INFO - Rank 0 -- interaction_waiting -- 4.718000127468258e-06\n",
      "2022-02-07 14:10:07,809 - simulator - INFO - CMS: Timestep for rank 0/1 - 0.01046786900042207,0.010468482971191406 - 2020-06-11 06:00:00\n",
      "\n",
      "2022-02-07 14:10:07,811 - rank - INFO - Next timestep\n",
      "2022-02-07 14:10:07,812 - simulator - INFO - ==================== timestep ====================\n",
      "2022-02-07 14:10:08,376 - rank - INFO - Rank 0 -- move_people -- 0.5633466889994452\n",
      "2022-02-07 14:10:08,377 - rank - INFO - Rank 0 -- move_people_waiting -- 8.310000339406542e-06\n",
      "2022-02-07 14:10:08,377 - activity_manager - INFO - CMS: People COMS for rank 0/1 - 4.108000211999752e-06,3.814697265625e-06 - 2020-06-11 08:00:00\n",
      "2022-02-07 14:10:08,384 - simulator - INFO - Info for rank 0, Date = 2020-06-11 08:00:00, number of deaths =  1, number of infected = 7679\n",
      "2022-02-07 14:10:15,909 - rank - INFO - Rank 0 -- interaction -- 7.531048446000568\n",
      "2022-02-07 14:10:15,943 - epidemiology - INFO - CMS: Infection COMS-v2 for rank 0/1(2)0.0001672449998295633,0.00016689300537109375 - 2020-06-11 08:00:00\n",
      "2022-02-07 14:10:16,003 - rank - INFO - Rank 0 -- interaction_waiting -- 4.813999112229794e-06\n",
      "2022-02-07 14:10:16,017 - simulator - INFO - CMS: Timestep for rank 0/1 - 0.014134822999039898,0.014135122299194336 - 2020-06-11 08:00:00\n",
      "\n",
      "2022-02-07 14:10:16,019 - rank - INFO - Next timestep\n",
      "2022-02-07 14:10:16,020 - simulator - INFO - ==================== timestep ====================\n",
      "2022-02-07 14:10:16,159 - rank - INFO - Rank 0 -- move_people -- 0.13901028100008261\n",
      "2022-02-07 14:10:16,160 - rank - INFO - Rank 0 -- move_people_waiting -- 6.838001354481094e-06\n",
      "2022-02-07 14:10:16,160 - activity_manager - INFO - CMS: People COMS for rank 0/1 - 2.913000571425073e-06,2.86102294921875e-06 - 2020-06-11 10:00:00\n",
      "2022-02-07 14:10:16,164 - simulator - INFO - Info for rank 0, Date = 2020-06-11 10:00:00, number of deaths =  1, number of infected = 7780\n",
      "2022-02-07 14:10:21,029 - rank - INFO - Rank 0 -- interaction -- 4.868625914999939\n",
      "2022-02-07 14:10:21,137 - epidemiology - INFO - CMS: Infection COMS-v2 for rank 0/1(2)0.0002095360014209291,0.00020933151245117188 - 2020-06-11 10:00:00\n"
     ]
    },
    {
     "name": "stdout",
     "output_type": "stream",
     "text": [
      "2022-02-07 14:10:21,194 - rank - INFO - Rank 0 -- interaction_waiting -- 4.871000783168711e-06\n",
      "2022-02-07 14:10:21,204 - simulator - INFO - CMS: Timestep for rank 0/1 - 0.009666353000284289,0.009665966033935547 - 2020-06-11 10:00:00\n",
      "\n",
      "2022-02-07 14:10:21,206 - rank - INFO - Next timestep\n",
      "2022-02-07 14:10:21,207 - simulator - INFO - ==================== timestep ====================\n",
      "2022-02-07 14:10:21,354 - rank - INFO - Rank 0 -- move_people -- 0.14705314400089264\n",
      "2022-02-07 14:10:21,355 - rank - INFO - Rank 0 -- move_people_waiting -- 4.6860004658810794e-06\n",
      "2022-02-07 14:10:21,355 - activity_manager - INFO - CMS: People COMS for rank 0/1 - 2.598999344627373e-06,2.6226043701171875e-06 - 2020-06-12 00:00:00\n",
      "2022-02-07 14:10:21,361 - simulator - INFO - Info for rank 0, Date = 2020-06-12 00:00:00, number of deaths =  1, number of infected = 8170\n",
      "2022-02-07 14:10:26,299 - rank - INFO - Rank 0 -- interaction -- 4.943278454000392\n",
      "2022-02-07 14:10:26,316 - epidemiology - INFO - CMS: Infection COMS-v2 for rank 0/1(2)0.0001956350006366847,0.00019550323486328125 - 2020-06-12 00:00:00\n",
      "2022-02-07 14:10:26,441 - rank - INFO - Rank 0 -- interaction_waiting -- 5.08499942952767e-06\n",
      "2022-02-07 14:10:26,454 - simulator - INFO - CMS: Timestep for rank 0/1 - 0.012801656999727129,0.012801885604858398 - 2020-06-12 00:00:00\n",
      "\n",
      "2022-02-07 14:10:26,456 - rank - INFO - Next timestep\n",
      "2022-02-07 14:10:26,456 - simulator - INFO - ==================== timestep ====================\n",
      "2022-02-07 14:10:26,929 - rank - INFO - Rank 0 -- move_people -- 0.471502935000899\n",
      "2022-02-07 14:10:26,929 - rank - INFO - Rank 0 -- move_people_waiting -- 4.57399983133655e-06\n",
      "2022-02-07 14:10:26,930 - activity_manager - INFO - CMS: People COMS for rank 0/1 - 2.8750000637955964e-06,2.86102294921875e-06 - 2020-06-12 02:00:00\n",
      "2022-02-07 14:10:26,934 - simulator - INFO - Info for rank 0, Date = 2020-06-12 02:00:00, number of deaths =  1, number of infected = 8228\n",
      "2022-02-07 14:10:33,548 - rank - INFO - Rank 0 -- interaction -- 6.618162665999989\n",
      "2022-02-07 14:10:33,571 - epidemiology - INFO - CMS: Infection COMS-v2 for rank 0/1(2)0.00020100099936826155,0.0002002716064453125 - 2020-06-12 02:00:00\n",
      "2022-02-07 14:10:33,626 - rank - INFO - Rank 0 -- interaction_waiting -- 6.5330004872521386e-06\n",
      "2022-02-07 14:10:33,636 - simulator - INFO - CMS: Timestep for rank 0/1 - 0.009602258000086294,0.009602069854736328 - 2020-06-12 02:00:00\n",
      "\n",
      "2022-02-07 14:10:33,637 - rank - INFO - Next timestep\n",
      "2022-02-07 14:10:33,638 - simulator - INFO - ==================== timestep ====================\n",
      "2022-02-07 14:10:34,083 - rank - INFO - Rank 0 -- move_people -- 0.44484602000011364\n",
      "2022-02-07 14:10:34,084 - rank - INFO - Rank 0 -- move_people_waiting -- 5.529998816200532e-06\n",
      "2022-02-07 14:10:34,084 - activity_manager - INFO - CMS: People COMS for rank 0/1 - 3.2520001695957035e-06,2.86102294921875e-06 - 2020-06-12 04:00:00\n",
      "2022-02-07 14:10:34,090 - simulator - INFO - Info for rank 0, Date = 2020-06-12 04:00:00, number of deaths =  1, number of infected = 8315\n",
      "2022-02-07 14:10:40,830 - rank - INFO - Rank 0 -- interaction -- 6.743715970000267\n",
      "2022-02-07 14:10:40,856 - epidemiology - INFO - CMS: Infection COMS-v2 for rank 0/1(2)0.00015460500071640126,0.0001544952392578125 - 2020-06-12 04:00:00\n",
      "2022-02-07 14:10:40,912 - rank - INFO - Rank 0 -- interaction_waiting -- 4.103001629118808e-06\n",
      "2022-02-07 14:10:40,922 - simulator - INFO - CMS: Timestep for rank 0/1 - 0.00918378000096709,0.00918436050415039 - 2020-06-12 04:00:00\n",
      "\n",
      "2022-02-07 14:10:40,923 - rank - INFO - Next timestep\n",
      "2022-02-07 14:10:40,924 - simulator - INFO - ==================== timestep ====================\n",
      "2022-02-07 14:10:41,339 - rank - INFO - Rank 0 -- move_people -- 0.4150579099987226\n",
      "2022-02-07 14:10:41,340 - rank - INFO - Rank 0 -- move_people_waiting -- 4.822999471798539e-06\n",
      "2022-02-07 14:10:41,340 - activity_manager - INFO - CMS: People COMS for rank 0/1 - 2.450999090797268e-06,2.1457672119140625e-06 - 2020-06-12 06:00:00\n",
      "2022-02-07 14:10:41,344 - simulator - INFO - Info for rank 0, Date = 2020-06-12 06:00:00, number of deaths =  1, number of infected = 8407\n",
      "2022-02-07 14:10:47,946 - rank - INFO - Rank 0 -- interaction -- 6.605843069999537\n",
      "2022-02-07 14:10:47,972 - epidemiology - INFO - CMS: Infection COMS-v2 for rank 0/1(2)0.00017250400014745537,0.0001723766326904297 - 2020-06-12 06:00:00\n",
      "2022-02-07 14:10:48,028 - rank - INFO - Rank 0 -- interaction_waiting -- 5.740999768022448e-06\n",
      "2022-02-07 14:10:48,039 - simulator - INFO - CMS: Timestep for rank 0/1 - 0.010713073999795597,0.01071310043334961 - 2020-06-12 06:00:00\n",
      "\n",
      "2022-02-07 14:10:48,041 - rank - INFO - Next timestep\n",
      "2022-02-07 14:10:48,042 - simulator - INFO - ==================== timestep ====================\n",
      "2022-02-07 14:10:48,486 - rank - INFO - Rank 0 -- move_people -- 0.44344788399939716\n",
      "2022-02-07 14:10:48,487 - rank - INFO - Rank 0 -- move_people_waiting -- 6.242999006644823e-06\n",
      "2022-02-07 14:10:48,487 - activity_manager - INFO - CMS: People COMS for rank 0/1 - 2.6269990485161543e-06,2.384185791015625e-06 - 2020-06-12 08:00:00\n",
      "2022-02-07 14:10:48,492 - simulator - INFO - Info for rank 0, Date = 2020-06-12 08:00:00, number of deaths =  1, number of infected = 8503\n",
      "2022-02-07 14:10:55,577 - rank - INFO - Rank 0 -- interaction -- 7.089788174000205\n",
      "2022-02-07 14:10:55,602 - epidemiology - INFO - CMS: Infection COMS-v2 for rank 0/1(2)0.000155723999341717,0.00015544891357421875 - 2020-06-12 08:00:00\n",
      "2022-02-07 14:10:55,659 - rank - INFO - Rank 0 -- interaction_waiting -- 4.843999704462476e-06\n",
      "2022-02-07 14:10:55,668 - simulator - INFO - CMS: Timestep for rank 0/1 - 0.009651458000007551,0.009651899337768555 - 2020-06-12 08:00:00\n",
      "\n",
      "2022-02-07 14:10:55,670 - rank - INFO - Next timestep\n",
      "2022-02-07 14:10:55,671 - simulator - INFO - ==================== timestep ====================\n",
      "2022-02-07 14:10:55,816 - rank - INFO - Rank 0 -- move_people -- 0.1446335469991027\n",
      "2022-02-07 14:10:55,817 - rank - INFO - Rank 0 -- move_people_waiting -- 4.499999704421498e-06\n",
      "2022-02-07 14:10:55,817 - activity_manager - INFO - CMS: People COMS for rank 0/1 - 2.460999894537963e-06,2.384185791015625e-06 - 2020-06-12 10:00:00\n",
      "2022-02-07 14:10:55,821 - simulator - INFO - Info for rank 0, Date = 2020-06-12 10:00:00, number of deaths =  1, number of infected = 8598\n",
      "2022-02-07 14:11:00,767 - rank - INFO - Rank 0 -- interaction -- 4.949455539001065\n",
      "2022-02-07 14:11:00,889 - epidemiology - INFO - CMS: Infection COMS-v2 for rank 0/1(2)0.0004079059999639867,0.0004074573516845703 - 2020-06-12 10:00:00\n",
      "2022-02-07 14:11:01,015 - rank - INFO - Rank 0 -- interaction_waiting -- 4.908999471808784e-06\n",
      "2022-02-07 14:11:01,025 - simulator - INFO - CMS: Timestep for rank 0/1 - 0.010050178998426418,0.010050535202026367 - 2020-06-12 10:00:00\n",
      "\n",
      "2022-02-07 14:11:01,027 - rank - INFO - Next timestep\n",
      "2022-02-07 14:11:01,027 - simulator - INFO - ==================== timestep ====================\n",
      "2022-02-07 14:11:01,180 - rank - INFO - Rank 0 -- move_people -- 0.15231878899976437\n",
      "2022-02-07 14:11:01,181 - rank - INFO - Rank 0 -- move_people_waiting -- 3.1529998523183167e-06\n",
      "2022-02-07 14:11:01,181 - activity_manager - INFO - CMS: People COMS for rank 0/1 - 2.3760003386996686e-06,2.1457672119140625e-06 - 2020-06-13 00:00:00\n",
      "2022-02-07 14:11:01,187 - simulator - INFO - Info for rank 0, Date = 2020-06-13 00:00:00, number of deaths =  1, number of infected = 8990\n",
      "2022-02-07 14:11:05,993 - rank - INFO - Rank 0 -- interaction -- 4.811496799000452\n",
      "2022-02-07 14:11:06,019 - epidemiology - INFO - CMS: Infection COMS-v2 for rank 0/1(2)0.00015541099855909124,0.0001552104949951172 - 2020-06-13 00:00:00\n",
      "2022-02-07 14:11:06,140 - rank - INFO - Rank 0 -- interaction_waiting -- 4.63299875264056e-06\n",
      "2022-02-07 14:11:06,153 - simulator - INFO - CMS: Timestep for rank 0/1 - 0.012625424998987,0.012626409530639648 - 2020-06-13 00:00:00\n",
      "\n",
      "2022-02-07 14:11:06,154 - rank - INFO - Next timestep\n",
      "2022-02-07 14:11:06,155 - simulator - INFO - ==================== timestep ====================\n",
      "2022-02-07 14:11:06,614 - rank - INFO - Rank 0 -- move_people -- 0.45798005500000727\n",
      "2022-02-07 14:11:06,614 - rank - INFO - Rank 0 -- move_people_waiting -- 5.124000381329097e-06\n",
      "2022-02-07 14:11:06,615 - activity_manager - INFO - CMS: People COMS for rank 0/1 - 2.628001311677508e-06,2.1457672119140625e-06 - 2020-06-13 03:00:00\n"
     ]
    },
    {
     "name": "stdout",
     "output_type": "stream",
     "text": [
      "2022-02-07 14:11:06,619 - simulator - INFO - Info for rank 0, Date = 2020-06-13 03:00:00, number of deaths =  1, number of infected = 9086\n",
      "2022-02-07 14:11:13,485 - rank - INFO - Rank 0 -- interaction -- 6.870335472000079\n",
      "2022-02-07 14:11:13,515 - epidemiology - INFO - CMS: Infection COMS-v2 for rank 0/1(2)0.00015944299957482144,0.00015926361083984375 - 2020-06-13 03:00:00\n",
      "2022-02-07 14:11:13,636 - rank - INFO - Rank 0 -- interaction_waiting -- 5.002999387215823e-06\n",
      "2022-02-07 14:11:13,647 - simulator - INFO - CMS: Timestep for rank 0/1 - 0.010385580999354715,0.010386228561401367 - 2020-06-13 03:00:00\n",
      "\n",
      "2022-02-07 14:11:13,648 - rank - INFO - Next timestep\n",
      "2022-02-07 14:11:13,649 - simulator - INFO - ==================== timestep ====================\n",
      "2022-02-07 14:11:14,143 - rank - INFO - Rank 0 -- move_people -- 0.49300457000026654\n",
      "2022-02-07 14:11:14,144 - rank - INFO - Rank 0 -- move_people_waiting -- 2.911001502070576e-06\n",
      "2022-02-07 14:11:14,144 - activity_manager - INFO - CMS: People COMS for rank 0/1 - 2.4750006559770554e-06,2.384185791015625e-06 - 2020-06-13 05:00:00\n",
      "2022-02-07 14:11:14,149 - simulator - INFO - Info for rank 0, Date = 2020-06-13 05:00:00, number of deaths =  1, number of infected = 9184\n",
      "2022-02-07 14:11:20,758 - rank - INFO - Rank 0 -- interaction -- 6.612823860999924\n",
      "2022-02-07 14:11:20,784 - epidemiology - INFO - CMS: Infection COMS-v2 for rank 0/1(2)0.00018894900131272152,0.0001888275146484375 - 2020-06-13 05:00:00\n",
      "2022-02-07 14:11:20,848 - rank - INFO - Rank 0 -- interaction_waiting -- 4.712999725597911e-06\n",
      "2022-02-07 14:11:20,858 - simulator - INFO - CMS: Timestep for rank 0/1 - 0.009902788000545115,0.009903430938720703 - 2020-06-13 05:00:00\n",
      "\n",
      "2022-02-07 14:11:20,859 - rank - INFO - Next timestep\n",
      "2022-02-07 14:11:20,860 - simulator - INFO - ==================== timestep ====================\n",
      "2022-02-07 14:11:21,360 - rank - INFO - Rank 0 -- move_people -- 0.49928457100031665\n",
      "2022-02-07 14:11:21,360 - rank - INFO - Rank 0 -- move_people_waiting -- 5.403999239206314e-06\n",
      "2022-02-07 14:11:21,361 - activity_manager - INFO - CMS: People COMS for rank 0/1 - 2.826000127242878e-06,2.6226043701171875e-06 - 2020-06-13 07:00:00\n",
      "2022-02-07 14:11:21,365 - simulator - INFO - Info for rank 0, Date = 2020-06-13 07:00:00, number of deaths =  1, number of infected = 9283\n",
      "2022-02-07 14:11:27,911 - rank - INFO - Rank 0 -- interaction -- 6.550343066001005\n",
      "2022-02-07 14:11:27,946 - epidemiology - INFO - CMS: Infection COMS-v2 for rank 0/1(2)0.00022927900135982782,0.00022912025451660156 - 2020-06-13 07:00:00\n",
      "2022-02-07 14:11:28,013 - rank - INFO - Rank 0 -- interaction_waiting -- 5.056999725638889e-06\n",
      "2022-02-07 14:11:28,022 - simulator - INFO - CMS: Timestep for rank 0/1 - 0.009321478000856587,0.009322166442871094 - 2020-06-13 07:00:00\n",
      "\n",
      "2022-02-07 14:11:28,023 - rank - INFO - Next timestep\n",
      "2022-02-07 14:11:28,024 - simulator - INFO - ==================== timestep ====================\n",
      "2022-02-07 14:11:28,472 - rank - INFO - Rank 0 -- move_people -- 0.4469711229994573\n",
      "2022-02-07 14:11:28,472 - rank - INFO - Rank 0 -- move_people_waiting -- 4.838000677409582e-06\n",
      "2022-02-07 14:11:28,472 - activity_manager - INFO - CMS: People COMS for rank 0/1 - 2.9120001272531226e-06,2.86102294921875e-06 - 2020-06-13 09:00:00\n",
      "2022-02-07 14:11:28,478 - simulator - INFO - Info for rank 0, Date = 2020-06-13 09:00:00, number of deaths =  1, number of infected = 9400\n",
      "2022-02-07 14:11:35,007 - rank - INFO - Rank 0 -- interaction -- 6.534045745000185\n",
      "2022-02-07 14:11:35,037 - epidemiology - INFO - CMS: Infection COMS-v2 for rank 0/1(2)0.000197342998944805,0.00019741058349609375 - 2020-06-13 09:00:00\n",
      "2022-02-07 14:11:35,099 - rank - INFO - Rank 0 -- interaction_waiting -- 4.514999091043137e-06\n",
      "2022-02-07 14:11:35,108 - simulator - INFO - CMS: Timestep for rank 0/1 - 0.009268456999052432,0.009268999099731445 - 2020-06-13 09:00:00\n",
      "\n",
      "2022-02-07 14:11:35,110 - rank - INFO - Next timestep\n",
      "2022-02-07 14:11:35,111 - simulator - INFO - ==================== timestep ====================\n",
      "2022-02-07 14:11:35,252 - rank - INFO - Rank 0 -- move_people -- 0.1403966620000574\n",
      "2022-02-07 14:11:35,252 - rank - INFO - Rank 0 -- move_people_waiting -- 4.599000021698885e-06\n",
      "2022-02-07 14:11:35,252 - activity_manager - INFO - CMS: People COMS for rank 0/1 - 2.844000846380368e-06,2.86102294921875e-06 - 2020-06-13 11:00:00\n",
      "2022-02-07 14:11:35,258 - simulator - INFO - Info for rank 0, Date = 2020-06-13 11:00:00, number of deaths =  1, number of infected = 9507\n",
      "2022-02-07 14:11:40,257 - rank - INFO - Rank 0 -- interaction -- 5.004033204000734\n",
      "2022-02-07 14:11:40,351 - epidemiology - INFO - CMS: Infection COMS-v2 for rank 0/1(2)0.0001545509985589888,0.00015401840209960938 - 2020-06-13 11:00:00\n",
      "2022-02-07 14:11:40,424 - rank - INFO - Rank 0 -- interaction_waiting -- 8.247001460404135e-06\n",
      "2022-02-07 14:11:40,436 - simulator - INFO - CMS: Timestep for rank 0/1 - 0.012084285001037642,0.012084007263183594 - 2020-06-13 11:00:00\n",
      "\n",
      "2022-02-07 14:11:40,438 - rank - INFO - Next timestep\n",
      "2022-02-07 14:11:40,439 - simulator - INFO - ==================== timestep ====================\n",
      "2022-02-07 14:11:40,591 - rank - INFO - Rank 0 -- move_people -- 0.1521850959998119\n",
      "2022-02-07 14:11:40,592 - rank - INFO - Rank 0 -- move_people_waiting -- 4.659001206164248e-06\n",
      "2022-02-07 14:11:40,592 - activity_manager - INFO - CMS: People COMS for rank 0/1 - 2.632999894558452e-06,2.384185791015625e-06 - 2020-06-14 00:00:00\n",
      "2022-02-07 14:11:40,597 - simulator - INFO - Info for rank 0, Date = 2020-06-14 00:00:00, number of deaths =  1, number of infected = 9851\n",
      "2022-02-07 14:11:45,588 - rank - INFO - Rank 0 -- interaction -- 4.9949665580006695\n",
      "2022-02-07 14:11:45,620 - epidemiology - INFO - CMS: Infection COMS-v2 for rank 0/1(2)0.00022452600023825653,0.0002243518829345703 - 2020-06-14 00:00:00\n",
      "2022-02-07 14:11:45,685 - rank - INFO - Rank 0 -- interaction_waiting -- 4.606999937095679e-06\n",
      "2022-02-07 14:11:45,695 - simulator - INFO - CMS: Timestep for rank 0/1 - 0.00940662799985148,0.009407281875610352 - 2020-06-14 00:00:00\n",
      "\n",
      "2022-02-07 14:11:45,696 - rank - INFO - Next timestep\n",
      "2022-02-07 14:11:45,697 - simulator - INFO - ==================== timestep ====================\n",
      "2022-02-07 14:11:46,166 - rank - INFO - Rank 0 -- move_people -- 0.46818144700046105\n",
      "2022-02-07 14:11:46,166 - rank - INFO - Rank 0 -- move_people_waiting -- 4.773000910063274e-06\n",
      "2022-02-07 14:11:46,167 - activity_manager - INFO - CMS: People COMS for rank 0/1 - 3.373999788891524e-06,3.337860107421875e-06 - 2020-06-14 03:00:00\n",
      "2022-02-07 14:11:46,172 - simulator - INFO - Info for rank 0, Date = 2020-06-14 03:00:00, number of deaths =  1, number of infected = 9949\n",
      "2022-02-07 14:11:53,160 - rank - INFO - Rank 0 -- interaction -- 6.9928081540001585\n",
      "2022-02-07 14:11:53,185 - epidemiology - INFO - CMS: Infection COMS-v2 for rank 0/1(2)0.00016104199858091306,0.00016045570373535156 - 2020-06-14 03:00:00\n",
      "2022-02-07 14:11:53,250 - rank - INFO - Rank 0 -- interaction_waiting -- 4.154000635026023e-06\n",
      "2022-02-07 14:11:53,259 - simulator - INFO - CMS: Timestep for rank 0/1 - 0.009310697001637891,0.009311199188232422 - 2020-06-14 03:00:00\n",
      "\n",
      "2022-02-07 14:11:53,261 - rank - INFO - Next timestep\n",
      "2022-02-07 14:11:53,262 - simulator - INFO - ==================== timestep ====================\n",
      "2022-02-07 14:11:53,721 - rank - INFO - Rank 0 -- move_people -- 0.4590492600000289\n",
      "2022-02-07 14:11:53,722 - rank - INFO - Rank 0 -- move_people_waiting -- 5.284999133436941e-06\n",
      "2022-02-07 14:11:53,722 - activity_manager - INFO - CMS: People COMS for rank 0/1 - 2.3329994291998446e-06,2.1457672119140625e-06 - 2020-06-14 05:00:00\n",
      "2022-02-07 14:11:53,728 - simulator - INFO - Info for rank 0, Date = 2020-06-14 05:00:00, number of deaths =  1, number of infected = 10037\n",
      "2022-02-07 14:12:00,304 - rank - INFO - Rank 0 -- interaction -- 6.581609291999484\n",
      "2022-02-07 14:12:00,328 - epidemiology - INFO - CMS: Infection COMS-v2 for rank 0/1(2)0.00033306200020888355,0.0003330707550048828 - 2020-06-14 05:00:00\n",
      "2022-02-07 14:12:00,460 - rank - INFO - Rank 0 -- interaction_waiting -- 4.6770001063123345e-06\n",
      "2022-02-07 14:12:00,470 - simulator - INFO - CMS: Timestep for rank 0/1 - 0.009925746000590152,0.00992584228515625 - 2020-06-14 05:00:00\n",
      "\n"
     ]
    },
    {
     "name": "stdout",
     "output_type": "stream",
     "text": [
      "2022-02-07 14:12:00,471 - rank - INFO - Next timestep\n",
      "2022-02-07 14:12:00,472 - simulator - INFO - ==================== timestep ====================\n",
      "2022-02-07 14:12:00,984 - rank - INFO - Rank 0 -- move_people -- 0.5116244589989947\n",
      "2022-02-07 14:12:00,985 - rank - INFO - Rank 0 -- move_people_waiting -- 2.755999958026223e-06\n",
      "2022-02-07 14:12:00,985 - activity_manager - INFO - CMS: People COMS for rank 0/1 - 2.4910004867706448e-06,2.384185791015625e-06 - 2020-06-14 07:00:00\n",
      "2022-02-07 14:12:00,989 - simulator - INFO - Info for rank 0, Date = 2020-06-14 07:00:00, number of deaths =  1, number of infected = 10116\n",
      "2022-02-07 14:12:07,847 - rank - INFO - Rank 0 -- interaction -- 6.861833381999531\n",
      "2022-02-07 14:12:07,877 - epidemiology - INFO - CMS: Infection COMS-v2 for rank 0/1(2)0.0003834139988612151,0.00038313865661621094 - 2020-06-14 07:00:00\n",
      "2022-02-07 14:12:07,947 - rank - INFO - Rank 0 -- interaction_waiting -- 4.341998646850698e-06\n",
      "2022-02-07 14:12:07,957 - simulator - INFO - CMS: Timestep for rank 0/1 - 0.009684807999292389,0.009685754776000977 - 2020-06-14 07:00:00\n",
      "\n",
      "2022-02-07 14:12:07,959 - rank - INFO - Next timestep\n",
      "2022-02-07 14:12:07,959 - simulator - INFO - ==================== timestep ====================\n",
      "2022-02-07 14:12:08,468 - rank - INFO - Rank 0 -- move_people -- 0.5085631919992011\n",
      "2022-02-07 14:12:08,469 - rank - INFO - Rank 0 -- move_people_waiting -- 5.539999619941227e-06\n",
      "2022-02-07 14:12:08,469 - activity_manager - INFO - CMS: People COMS for rank 0/1 - 2.465001671225764e-06,2.384185791015625e-06 - 2020-06-14 09:00:00\n",
      "2022-02-07 14:12:08,474 - simulator - INFO - Info for rank 0, Date = 2020-06-14 09:00:00, number of deaths =  1, number of infected = 10208\n",
      "2022-02-07 14:12:15,322 - rank - INFO - Rank 0 -- interaction -- 6.851783055999476\n",
      "2022-02-07 14:12:15,351 - epidemiology - INFO - CMS: Infection COMS-v2 for rank 0/1(2)0.00015720000010333024,0.00015687942504882812 - 2020-06-14 09:00:00\n",
      "2022-02-07 14:12:15,415 - rank - INFO - Rank 0 -- interaction_waiting -- 4.407000233186409e-06\n",
      "2022-02-07 14:12:15,427 - simulator - INFO - CMS: Timestep for rank 0/1 - 0.011725653001121827,0.011727094650268555 - 2020-06-14 09:00:00\n",
      "\n",
      "2022-02-07 14:12:15,429 - rank - INFO - Next timestep\n",
      "2022-02-07 14:12:15,429 - simulator - INFO - ==================== timestep ====================\n",
      "2022-02-07 14:12:15,573 - rank - INFO - Rank 0 -- move_people -- 0.1433273350012314\n",
      "2022-02-07 14:12:15,573 - rank - INFO - Rank 0 -- move_people_waiting -- 4.658000761992298e-06\n",
      "2022-02-07 14:12:15,574 - activity_manager - INFO - CMS: People COMS for rank 0/1 - 2.814000254147686e-06,2.86102294921875e-06 - 2020-06-14 11:00:00\n",
      "2022-02-07 14:12:15,579 - simulator - INFO - Info for rank 0, Date = 2020-06-14 11:00:00, number of deaths =  2, number of infected = 10310\n",
      "2022-02-07 14:12:20,577 - rank - INFO - Rank 0 -- interaction -- 5.002387259999523\n",
      "2022-02-07 14:12:20,673 - epidemiology - INFO - CMS: Infection COMS-v2 for rank 0/1(2)0.00015463300042029005,0.0001544952392578125 - 2020-06-14 11:00:00\n",
      "2022-02-07 14:12:20,796 - rank - INFO - Rank 0 -- interaction_waiting -- 4.4600001274375245e-06\n",
      "2022-02-07 14:12:20,807 - simulator - INFO - CMS: Timestep for rank 0/1 - 0.011060142000133055,0.011060714721679688 - 2020-06-14 11:00:00\n",
      "\n",
      "2022-02-07 14:12:20,809 - rank - INFO - Next timestep\n",
      "2022-02-07 14:12:20,810 - simulator - INFO - ==================== timestep ====================\n",
      "2022-02-07 14:12:20,952 - rank - INFO - Rank 0 -- move_people -- 0.14173174499956076\n",
      "2022-02-07 14:12:20,953 - rank - INFO - Rank 0 -- move_people_waiting -- 4.796000212081708e-06\n",
      "2022-02-07 14:12:20,953 - activity_manager - INFO - CMS: People COMS for rank 0/1 - 2.961000063805841e-06,2.86102294921875e-06 - 2020-06-15 00:00:00\n",
      "2022-02-07 14:12:20,958 - simulator - INFO - Info for rank 0, Date = 2020-06-15 00:00:00, number of deaths =  2, number of infected = 10677\n",
      "2022-02-07 14:12:25,727 - rank - INFO - Rank 0 -- interaction -- 4.7735055909997754\n",
      "2022-02-07 14:12:25,744 - epidemiology - INFO - CMS: Infection COMS-v2 for rank 0/1(2)0.0001981229997909395,0.00019812583923339844 - 2020-06-15 00:00:00\n",
      "2022-02-07 14:12:25,894 - rank - INFO - Rank 0 -- interaction_waiting -- 6.890999429742806e-06\n",
      "2022-02-07 14:12:25,910 - simulator - INFO - CMS: Timestep for rank 0/1 - 0.016060846999607747,0.016061067581176758 - 2020-06-15 00:00:00\n",
      "\n",
      "2022-02-07 14:12:25,912 - rank - INFO - Next timestep\n",
      "2022-02-07 14:12:25,913 - simulator - INFO - ==================== timestep ====================\n",
      "2022-02-07 14:12:26,426 - rank - INFO - Rank 0 -- move_people -- 0.51317611399827\n",
      "2022-02-07 14:12:26,427 - rank - INFO - Rank 0 -- move_people_waiting -- 6.194999514264055e-06\n",
      "2022-02-07 14:12:26,427 - activity_manager - INFO - CMS: People COMS for rank 0/1 - 2.906999725382775e-06,2.6226043701171875e-06 - 2020-06-15 02:00:00\n",
      "2022-02-07 14:12:26,432 - simulator - INFO - Info for rank 0, Date = 2020-06-15 02:00:00, number of deaths =  2, number of infected = 10730\n",
      "2022-02-07 14:12:32,975 - rank - INFO - Rank 0 -- interaction -- 6.5477531570013525\n",
      "2022-02-07 14:12:33,007 - epidemiology - INFO - CMS: Infection COMS-v2 for rank 0/1(2)0.0003566859995771665,0.00035643577575683594 - 2020-06-15 02:00:00\n",
      "2022-02-07 14:12:33,081 - rank - INFO - Rank 0 -- interaction_waiting -- 4.978999641025439e-06\n",
      "2022-02-07 14:12:33,095 - simulator - INFO - CMS: Timestep for rank 0/1 - 0.014175512000292656,0.0141754150390625 - 2020-06-15 02:00:00\n",
      "\n",
      "2022-02-07 14:12:33,098 - rank - INFO - Next timestep\n",
      "2022-02-07 14:12:33,099 - simulator - INFO - ==================== timestep ====================\n",
      "2022-02-07 14:12:33,527 - rank - INFO - Rank 0 -- move_people -- 0.42751255100120034\n",
      "2022-02-07 14:12:33,527 - rank - INFO - Rank 0 -- move_people_waiting -- 5.240000973572023e-06\n",
      "2022-02-07 14:12:33,528 - activity_manager - INFO - CMS: People COMS for rank 0/1 - 2.4820001272019e-06,2.1457672119140625e-06 - 2020-06-15 04:00:00\n",
      "2022-02-07 14:12:33,532 - simulator - INFO - Info for rank 0, Date = 2020-06-15 04:00:00, number of deaths =  2, number of infected = 10829\n",
      "2022-02-07 14:12:40,162 - rank - INFO - Rank 0 -- interaction -- 6.634372260999953\n",
      "2022-02-07 14:12:40,190 - epidemiology - INFO - CMS: Infection COMS-v2 for rank 0/1(2)0.0003285789989604382,0.0003285408020019531 - 2020-06-15 04:00:00\n",
      "2022-02-07 14:12:40,261 - rank - INFO - Rank 0 -- interaction_waiting -- 4.842000635107979e-06\n",
      "2022-02-07 14:12:40,275 - simulator - INFO - CMS: Timestep for rank 0/1 - 0.014088059000641806,0.01408839225769043 - 2020-06-15 04:00:00\n",
      "\n",
      "2022-02-07 14:12:40,277 - rank - INFO - Next timestep\n",
      "2022-02-07 14:12:40,278 - simulator - INFO - ==================== timestep ====================\n",
      "2022-02-07 14:12:40,716 - rank - INFO - Rank 0 -- move_people -- 0.43799208299969905\n",
      "2022-02-07 14:12:40,717 - rank - INFO - Rank 0 -- move_people_waiting -- 5.021000106353313e-06\n",
      "2022-02-07 14:12:40,717 - activity_manager - INFO - CMS: People COMS for rank 0/1 - 2.6130001060664654e-06,2.1457672119140625e-06 - 2020-06-15 06:00:00\n",
      "2022-02-07 14:12:40,722 - simulator - INFO - Info for rank 0, Date = 2020-06-15 06:00:00, number of deaths =  2, number of infected = 10924\n",
      "2022-02-07 14:12:47,519 - rank - INFO - Rank 0 -- interaction -- 6.801996156998939\n",
      "2022-02-07 14:12:47,549 - epidemiology - INFO - CMS: Infection COMS-v2 for rank 0/1(2)0.0001575109999976121,0.00015664100646972656 - 2020-06-15 06:00:00\n",
      "2022-02-07 14:12:47,619 - rank - INFO - Rank 0 -- interaction_waiting -- 4.327001079218462e-06\n",
      "2022-02-07 14:12:47,628 - simulator - INFO - CMS: Timestep for rank 0/1 - 0.009424798001418822,0.00942540168762207 - 2020-06-15 06:00:00\n",
      "\n",
      "2022-02-07 14:12:47,630 - rank - INFO - Next timestep\n",
      "2022-02-07 14:12:47,631 - simulator - INFO - ==================== timestep ====================\n",
      "2022-02-07 14:12:48,069 - rank - INFO - Rank 0 -- move_people -- 0.4376186650006275\n",
      "2022-02-07 14:12:48,069 - rank - INFO - Rank 0 -- move_people_waiting -- 4.167000952293165e-06\n",
      "2022-02-07 14:12:48,070 - activity_manager - INFO - CMS: People COMS for rank 0/1 - 3.956000000471249e-06,3.5762786865234375e-06 - 2020-06-15 08:00:00\n",
      "2022-02-07 14:12:48,076 - simulator - INFO - Info for rank 0, Date = 2020-06-15 08:00:00, number of deaths =  2, number of infected = 11029\n"
     ]
    },
    {
     "name": "stdout",
     "output_type": "stream",
     "text": [
      "2022-02-07 14:12:54,967 - rank - INFO - Rank 0 -- interaction -- 6.89667195400034\n",
      "2022-02-07 14:12:54,998 - epidemiology - INFO - CMS: Infection COMS-v2 for rank 0/1(2)0.00018343000010645483,0.00018310546875 - 2020-06-15 08:00:00\n",
      "2022-02-07 14:12:55,072 - rank - INFO - Rank 0 -- interaction_waiting -- 4.678000550484285e-06\n",
      "2022-02-07 14:12:55,081 - simulator - INFO - CMS: Timestep for rank 0/1 - 0.009246450001228368,0.009247064590454102 - 2020-06-15 08:00:00\n",
      "\n",
      "2022-02-07 14:12:55,083 - rank - INFO - Next timestep\n",
      "2022-02-07 14:12:55,084 - simulator - INFO - ==================== timestep ====================\n",
      "2022-02-07 14:12:55,227 - rank - INFO - Rank 0 -- move_people -- 0.1427687760005938\n",
      "2022-02-07 14:12:55,228 - rank - INFO - Rank 0 -- move_people_waiting -- 4.661998900701292e-06\n",
      "2022-02-07 14:12:55,228 - activity_manager - INFO - CMS: People COMS for rank 0/1 - 2.77800063486211e-06,2.6226043701171875e-06 - 2020-06-15 10:00:00\n",
      "2022-02-07 14:12:55,233 - simulator - INFO - Info for rank 0, Date = 2020-06-15 10:00:00, number of deaths =  2, number of infected = 11133\n",
      "2022-02-07 14:13:00,281 - rank - INFO - Rank 0 -- interaction -- 5.052526421000948\n",
      "2022-02-07 14:13:00,391 - epidemiology - INFO - CMS: Infection COMS-v2 for rank 0/1(2)0.00015229100063152146,0.00015163421630859375 - 2020-06-15 10:00:00\n",
      "2022-02-07 14:13:00,459 - rank - INFO - Rank 0 -- interaction_waiting -- 4.257000910001807e-06\n",
      "2022-02-07 14:13:00,468 - simulator - INFO - CMS: Timestep for rank 0/1 - 0.008939909001128399,0.008940696716308594 - 2020-06-15 10:00:00\n",
      "\n",
      "2022-02-07 14:13:00,469 - rank - INFO - Next timestep\n",
      "2022-02-07 14:13:00,470 - simulator - INFO - ==================== timestep ====================\n",
      "2022-02-07 14:13:00,614 - rank - INFO - Rank 0 -- move_people -- 0.14313994599979196\n",
      "2022-02-07 14:13:00,614 - rank - INFO - Rank 0 -- move_people_waiting -- 4.614999852492474e-06\n",
      "2022-02-07 14:13:00,615 - activity_manager - INFO - CMS: People COMS for rank 0/1 - 2.5489989639027044e-06,2.6226043701171875e-06 - 2020-06-16 00:00:00\n",
      "2022-02-07 14:13:00,621 - simulator - INFO - Info for rank 0, Date = 2020-06-16 00:00:00, number of deaths =  2, number of infected = 11520\n",
      "2022-02-07 14:13:05,464 - rank - INFO - Rank 0 -- interaction -- 4.84851814799913\n",
      "2022-02-07 14:13:05,480 - epidemiology - INFO - CMS: Infection COMS-v2 for rank 0/1(2)0.00032141799965756945,0.0003211498260498047 - 2020-06-16 00:00:00\n",
      "2022-02-07 14:13:05,554 - rank - INFO - Rank 0 -- interaction_waiting -- 4.877998435404152e-06\n",
      "2022-02-07 14:13:05,566 - simulator - INFO - CMS: Timestep for rank 0/1 - 0.012038140999720781,0.01203775405883789 - 2020-06-16 00:00:00\n",
      "\n",
      "2022-02-07 14:13:05,569 - rank - INFO - Next timestep\n",
      "2022-02-07 14:13:05,569 - simulator - INFO - ==================== timestep ====================\n",
      "2022-02-07 14:13:05,996 - rank - INFO - Rank 0 -- move_people -- 0.4262586240001838\n",
      "2022-02-07 14:13:05,997 - rank - INFO - Rank 0 -- move_people_waiting -- 4.416000592755154e-06\n",
      "2022-02-07 14:13:05,997 - activity_manager - INFO - CMS: People COMS for rank 0/1 - 2.5459994503762573e-06,2.6226043701171875e-06 - 2020-06-16 02:00:00\n",
      "2022-02-07 14:13:06,002 - simulator - INFO - Info for rank 0, Date = 2020-06-16 02:00:00, number of deaths =  2, number of infected = 11570\n",
      "2022-02-07 14:13:12,514 - rank - INFO - Rank 0 -- interaction -- 6.515994377999959\n",
      "2022-02-07 14:13:12,539 - epidemiology - INFO - CMS: Infection COMS-v2 for rank 0/1(2)0.00015863299995544367,0.0001583099365234375 - 2020-06-16 02:00:00\n",
      "2022-02-07 14:13:12,607 - rank - INFO - Rank 0 -- interaction_waiting -- 4.3289983295835555e-06\n",
      "2022-02-07 14:13:12,617 - simulator - INFO - CMS: Timestep for rank 0/1 - 0.01013511399833078,0.010135650634765625 - 2020-06-16 02:00:00\n",
      "\n",
      "2022-02-07 14:13:12,619 - rank - INFO - Next timestep\n",
      "2022-02-07 14:13:12,619 - simulator - INFO - ==================== timestep ====================\n",
      "2022-02-07 14:13:13,031 - rank - INFO - Rank 0 -- move_people -- 0.41085426900099264\n",
      "2022-02-07 14:13:13,031 - rank - INFO - Rank 0 -- move_people_waiting -- 5.148000127519481e-06\n",
      "2022-02-07 14:13:13,031 - activity_manager - INFO - CMS: People COMS for rank 0/1 - 3.1250001484295353e-06,2.86102294921875e-06 - 2020-06-16 04:00:00\n",
      "2022-02-07 14:13:13,036 - simulator - INFO - Info for rank 0, Date = 2020-06-16 04:00:00, number of deaths =  2, number of infected = 11666\n",
      "2022-02-07 14:13:19,626 - rank - INFO - Rank 0 -- interaction -- 6.594046101999993\n",
      "2022-02-07 14:13:19,650 - epidemiology - INFO - CMS: Infection COMS-v2 for rank 0/1(2)0.0001678890002949629,0.00016760826110839844 - 2020-06-16 04:00:00\n",
      "2022-02-07 14:13:19,728 - rank - INFO - Rank 0 -- interaction_waiting -- 4.056999387103133e-06\n",
      "2022-02-07 14:13:19,737 - simulator - INFO - CMS: Timestep for rank 0/1 - 0.009283307999794488,0.009284019470214844 - 2020-06-16 04:00:00\n",
      "\n",
      "2022-02-07 14:13:19,739 - rank - INFO - Next timestep\n",
      "2022-02-07 14:13:19,739 - simulator - INFO - ==================== timestep ====================\n",
      "2022-02-07 14:13:20,241 - rank - INFO - Rank 0 -- move_people -- 0.5010718189987529\n",
      "2022-02-07 14:13:20,241 - rank - INFO - Rank 0 -- move_people_waiting -- 4.956998964189552e-06\n",
      "2022-02-07 14:13:20,242 - activity_manager - INFO - CMS: People COMS for rank 0/1 - 3.4499989851610735e-06,3.337860107421875e-06 - 2020-06-16 06:00:00\n",
      "2022-02-07 14:13:20,249 - simulator - INFO - Info for rank 0, Date = 2020-06-16 06:00:00, number of deaths =  2, number of infected = 11728\n",
      "2022-02-07 14:13:26,796 - rank - INFO - Rank 0 -- interaction -- 6.554253669999525\n",
      "2022-02-07 14:13:26,822 - epidemiology - INFO - CMS: Infection COMS-v2 for rank 0/1(2)0.00015576599980704486,0.00015544891357421875 - 2020-06-16 06:00:00\n",
      "2022-02-07 14:13:26,893 - rank - INFO - Rank 0 -- interaction_waiting -- 4.665998858399689e-06\n",
      "2022-02-07 14:13:26,903 - simulator - INFO - CMS: Timestep for rank 0/1 - 0.01050969399875612,0.01051020622253418 - 2020-06-16 06:00:00\n",
      "\n",
      "2022-02-07 14:13:26,905 - rank - INFO - Next timestep\n",
      "2022-02-07 14:13:26,906 - simulator - INFO - ==================== timestep ====================\n",
      "2022-02-07 14:13:27,361 - rank - INFO - Rank 0 -- move_people -- 0.4540850280009181\n",
      "2022-02-07 14:13:27,361 - rank - INFO - Rank 0 -- move_people_waiting -- 5.040001269662753e-06\n",
      "2022-02-07 14:13:27,362 - activity_manager - INFO - CMS: People COMS for rank 0/1 - 3.826000465778634e-06,3.5762786865234375e-06 - 2020-06-16 08:00:00\n",
      "2022-02-07 14:13:27,369 - simulator - INFO - Info for rank 0, Date = 2020-06-16 08:00:00, number of deaths =  2, number of infected = 11822\n",
      "2022-02-07 14:13:33,963 - rank - INFO - Rank 0 -- interaction -- 6.600745486999585\n",
      "2022-02-07 14:13:33,990 - epidemiology - INFO - CMS: Infection COMS-v2 for rank 0/1(2)0.00015267399976437446,0.00015234947204589844 - 2020-06-16 08:00:00\n",
      "2022-02-07 14:13:34,060 - rank - INFO - Rank 0 -- interaction_waiting -- 4.610999894794077e-06\n",
      "2022-02-07 14:13:34,069 - simulator - INFO - CMS: Timestep for rank 0/1 - 0.00929170199924556,0.009292364120483398 - 2020-06-16 08:00:00\n",
      "\n",
      "2022-02-07 14:13:34,070 - rank - INFO - Next timestep\n",
      "2022-02-07 14:13:34,071 - simulator - INFO - ==================== timestep ====================\n",
      "2022-02-07 14:13:34,212 - rank - INFO - Rank 0 -- move_people -- 0.14063558599991666\n",
      "2022-02-07 14:13:34,212 - rank - INFO - Rank 0 -- move_people_waiting -- 4.622999767889269e-06\n",
      "2022-02-07 14:13:34,213 - activity_manager - INFO - CMS: People COMS for rank 0/1 - 2.427999788778834e-06,2.1457672119140625e-06 - 2020-06-16 10:00:00\n",
      "2022-02-07 14:13:34,217 - simulator - INFO - Info for rank 0, Date = 2020-06-16 10:00:00, number of deaths =  2, number of infected = 11906\n",
      "2022-02-07 14:13:39,105 - rank - INFO - Rank 0 -- interaction -- 4.891868348000571\n",
      "2022-02-07 14:13:39,222 - epidemiology - INFO - CMS: Infection COMS-v2 for rank 0/1(2)0.0003348600002937019,0.0003345012664794922 - 2020-06-16 10:00:00\n",
      "2022-02-07 14:13:39,302 - rank - INFO - Rank 0 -- interaction_waiting -- 4.6770001063123345e-06\n",
      "2022-02-07 14:13:39,312 - simulator - INFO - CMS: Timestep for rank 0/1 - 0.009089711998967687,0.009089946746826172 - 2020-06-16 10:00:00\n",
      "\n",
      "2022-02-07 14:13:39,313 - rank - INFO - Next timestep\n",
      "2022-02-07 14:13:39,314 - simulator - INFO - ==================== timestep ====================\n"
     ]
    },
    {
     "name": "stdout",
     "output_type": "stream",
     "text": [
      "2022-02-07 14:13:39,461 - rank - INFO - Rank 0 -- move_people -- 0.1464843200010364\n",
      "2022-02-07 14:13:39,461 - rank - INFO - Rank 0 -- move_people_waiting -- 4.678000550484285e-06\n",
      "2022-02-07 14:13:39,462 - activity_manager - INFO - CMS: People COMS for rank 0/1 - 2.9220009309938177e-06,2.86102294921875e-06 - 2020-06-17 00:00:00\n",
      "2022-02-07 14:13:39,467 - simulator - INFO - Info for rank 0, Date = 2020-06-17 00:00:00, number of deaths =  2, number of infected = 12264\n",
      "2022-02-07 14:13:45,903 - rank - INFO - Rank 0 -- interaction -- 6.440737191000153\n",
      "2022-02-07 14:13:45,928 - epidemiology - INFO - CMS: Infection COMS-v2 for rank 0/1(2)0.00021413099966594018,0.00021338462829589844 - 2020-06-17 00:00:00\n",
      "2022-02-07 14:13:46,017 - rank - INFO - Rank 0 -- interaction_waiting -- 4.632000127458014e-06\n",
      "2022-02-07 14:13:46,028 - simulator - INFO - CMS: Timestep for rank 0/1 - 0.010382471000411897,0.010383367538452148 - 2020-06-17 00:00:00\n",
      "\n",
      "2022-02-07 14:13:46,030 - rank - INFO - Next timestep\n",
      "2022-02-07 14:13:46,031 - simulator - INFO - ==================== timestep ====================\n",
      "2022-02-07 14:13:46,804 - rank - INFO - Rank 0 -- move_people -- 0.7726083160014241\n",
      "2022-02-07 14:13:46,807 - rank - INFO - Rank 0 -- move_people_waiting -- 4.351999450591393e-06\n",
      "2022-02-07 14:13:46,807 - activity_manager - INFO - CMS: People COMS for rank 0/1 - 3.814999217865989e-06,3.814697265625e-06 - 2020-06-17 02:00:00\n",
      "2022-02-07 14:13:46,813 - simulator - INFO - Info for rank 0, Date = 2020-06-17 02:00:00, number of deaths =  2, number of infected = 12314\n",
      "2022-02-07 14:13:53,345 - rank - INFO - Rank 0 -- interaction -- 6.536865621001198\n",
      "2022-02-07 14:13:53,369 - epidemiology - INFO - CMS: Infection COMS-v2 for rank 0/1(2)0.00015380299919343088,0.00015354156494140625 - 2020-06-17 02:00:00\n",
      "2022-02-07 14:13:53,447 - rank - INFO - Rank 0 -- interaction_waiting -- 4.245001036906615e-06\n",
      "2022-02-07 14:13:53,457 - simulator - INFO - CMS: Timestep for rank 0/1 - 0.010193255000558565,0.010193824768066406 - 2020-06-17 02:00:00\n",
      "\n",
      "2022-02-07 14:13:53,459 - rank - INFO - Next timestep\n",
      "2022-02-07 14:13:53,459 - simulator - INFO - ==================== timestep ====================\n",
      "2022-02-07 14:13:53,906 - rank - INFO - Rank 0 -- move_people -- 0.44658181200065883\n",
      "2022-02-07 14:13:53,907 - rank - INFO - Rank 0 -- move_people_waiting -- 3.420998837100342e-06\n",
      "2022-02-07 14:13:53,907 - activity_manager - INFO - CMS: People COMS for rank 0/1 - 2.815999323502183e-06,2.6226043701171875e-06 - 2020-06-17 04:00:00\n",
      "2022-02-07 14:13:53,912 - simulator - INFO - Info for rank 0, Date = 2020-06-17 04:00:00, number of deaths =  2, number of infected = 12406\n",
      "2022-02-07 14:14:00,507 - rank - INFO - Rank 0 -- interaction -- 6.599615477000043\n",
      "2022-02-07 14:14:00,535 - epidemiology - INFO - CMS: Infection COMS-v2 for rank 0/1(2)0.0003472890002740314,0.00034737586975097656 - 2020-06-17 04:00:00\n",
      "2022-02-07 14:14:00,611 - rank - INFO - Rank 0 -- interaction_waiting -- 4.280000212020241e-06\n",
      "2022-02-07 14:14:00,620 - simulator - INFO - CMS: Timestep for rank 0/1 - 0.009246409999832395,0.009247064590454102 - 2020-06-17 04:00:00\n",
      "\n",
      "2022-02-07 14:14:00,621 - rank - INFO - Next timestep\n",
      "2022-02-07 14:14:00,622 - simulator - INFO - ==================== timestep ====================\n",
      "2022-02-07 14:14:01,048 - rank - INFO - Rank 0 -- move_people -- 0.42513225699985924\n",
      "2022-02-07 14:14:01,048 - rank - INFO - Rank 0 -- move_people_waiting -- 3.3319993235636503e-06\n",
      "2022-02-07 14:14:01,049 - activity_manager - INFO - CMS: People COMS for rank 0/1 - 2.8989998099859804e-06,2.6226043701171875e-06 - 2020-06-17 06:00:00\n",
      "2022-02-07 14:14:01,054 - simulator - INFO - Info for rank 0, Date = 2020-06-17 06:00:00, number of deaths =  2, number of infected = 12501\n",
      "2022-02-07 14:14:07,638 - rank - INFO - Rank 0 -- interaction -- 6.5883851110011165\n",
      "2022-02-07 14:14:07,669 - epidemiology - INFO - CMS: Infection COMS-v2 for rank 0/1(2)0.00033256999995501246,0.0003325939178466797 - 2020-06-17 06:00:00\n",
      "2022-02-07 14:14:07,747 - rank - INFO - Rank 0 -- interaction_waiting -- 4.203000571578741e-06\n",
      "2022-02-07 14:14:07,756 - simulator - INFO - CMS: Timestep for rank 0/1 - 0.009196959999826504,0.009197711944580078 - 2020-06-17 06:00:00\n",
      "\n",
      "2022-02-07 14:14:07,757 - rank - INFO - Next timestep\n",
      "2022-02-07 14:14:07,758 - simulator - INFO - ==================== timestep ====================\n",
      "2022-02-07 14:14:08,256 - rank - INFO - Rank 0 -- move_people -- 0.49700935699911497\n",
      "2022-02-07 14:14:08,257 - rank - INFO - Rank 0 -- move_people_waiting -- 3.1820000003790483e-06\n",
      "2022-02-07 14:14:08,257 - activity_manager - INFO - CMS: People COMS for rank 0/1 - 3.7400004657683894e-06,3.337860107421875e-06 - 2020-06-17 08:00:00\n",
      "2022-02-07 14:14:08,263 - simulator - INFO - Info for rank 0, Date = 2020-06-17 08:00:00, number of deaths =  2, number of infected = 12603\n",
      "2022-02-07 14:14:16,120 - rank - INFO - Rank 0 -- interaction -- 7.861854427999788\n",
      "2022-02-07 14:14:16,143 - epidemiology - INFO - CMS: Infection COMS-v2 for rank 0/1(2)0.0001603700002306141,0.00015997886657714844 - 2020-06-17 08:00:00\n",
      "2022-02-07 14:14:16,217 - rank - INFO - Rank 0 -- interaction_waiting -- 4.188999810139649e-06\n",
      "2022-02-07 14:14:16,227 - simulator - INFO - CMS: Timestep for rank 0/1 - 0.009312904001490097,0.009313583374023438 - 2020-06-17 08:00:00\n",
      "\n",
      "2022-02-07 14:14:16,228 - rank - INFO - Next timestep\n",
      "2022-02-07 14:14:16,229 - simulator - INFO - ==================== timestep ====================\n",
      "2022-02-07 14:14:16,375 - rank - INFO - Rank 0 -- move_people -- 0.1456013789993449\n",
      "2022-02-07 14:14:16,375 - rank - INFO - Rank 0 -- move_people_waiting -- 5.290999979479238e-06\n",
      "2022-02-07 14:14:16,376 - activity_manager - INFO - CMS: People COMS for rank 0/1 - 2.585000402177684e-06,2.6226043701171875e-06 - 2020-06-17 10:00:00\n",
      "2022-02-07 14:14:16,381 - simulator - INFO - Info for rank 0, Date = 2020-06-17 10:00:00, number of deaths =  2, number of infected = 12687\n",
      "2022-02-07 14:14:21,487 - rank - INFO - Rank 0 -- interaction -- 5.110346466999545\n",
      "2022-02-07 14:14:21,586 - epidemiology - INFO - CMS: Infection COMS-v2 for rank 0/1(2)0.0001514350005891174,0.00015091896057128906 - 2020-06-17 10:00:00\n",
      "2022-02-07 14:14:21,720 - rank - INFO - Rank 0 -- interaction_waiting -- 4.797000656253658e-06\n",
      "2022-02-07 14:14:21,730 - simulator - INFO - CMS: Timestep for rank 0/1 - 0.009060865000719787,0.009061336517333984 - 2020-06-17 10:00:00\n",
      "\n",
      "2022-02-07 14:14:21,731 - rank - INFO - Next timestep\n",
      "2022-02-07 14:14:21,731 - simulator - INFO - ==================== timestep ====================\n",
      "2022-02-07 14:14:21,880 - rank - INFO - Rank 0 -- move_people -- 0.14837896800054295\n",
      "2022-02-07 14:14:21,881 - rank - INFO - Rank 0 -- move_people_waiting -- 5.67499955650419e-06\n",
      "2022-02-07 14:14:21,881 - activity_manager - INFO - CMS: People COMS for rank 0/1 - 2.5039989850483835e-06,2.6226043701171875e-06 - 2020-06-18 00:00:00\n",
      "2022-02-07 14:14:21,886 - simulator - INFO - Info for rank 0, Date = 2020-06-18 00:00:00, number of deaths =  2, number of infected = 13001\n",
      "2022-02-07 14:14:26,719 - rank - INFO - Rank 0 -- interaction -- 4.837781278998591\n",
      "2022-02-07 14:14:26,737 - epidemiology - INFO - CMS: Infection COMS-v2 for rank 0/1(2)0.00018639800146047492,0.00018596649169921875 - 2020-06-18 00:00:00\n",
      "2022-02-07 14:14:26,815 - rank - INFO - Rank 0 -- interaction_waiting -- 4.255998646840453e-06\n",
      "2022-02-07 14:14:26,824 - simulator - INFO - CMS: Timestep for rank 0/1 - 0.009252611998817883,0.00925302505493164 - 2020-06-18 00:00:00\n",
      "\n",
      "2022-02-07 14:14:26,826 - rank - INFO - Next timestep\n",
      "2022-02-07 14:14:26,826 - simulator - INFO - ==================== timestep ====================\n",
      "2022-02-07 14:14:27,293 - rank - INFO - Rank 0 -- move_people -- 0.4661418940013391\n",
      "2022-02-07 14:14:27,294 - rank - INFO - Rank 0 -- move_people_waiting -- 3.8809994293842465e-06\n",
      "2022-02-07 14:14:27,295 - activity_manager - INFO - CMS: People COMS for rank 0/1 - 3.395000021555461e-06,3.337860107421875e-06 - 2020-06-18 02:00:00\n",
      "2022-02-07 14:14:27,300 - simulator - INFO - Info for rank 0, Date = 2020-06-18 02:00:00, number of deaths =  3, number of infected = 13060\n",
      "2022-02-07 14:14:33,816 - rank - INFO - Rank 0 -- interaction -- 6.521099330999277\n",
      "2022-02-07 14:14:33,841 - epidemiology - INFO - CMS: Infection COMS-v2 for rank 0/1(2)0.00019419899945205543,0.00019407272338867188 - 2020-06-18 02:00:00\n"
     ]
    },
    {
     "name": "stdout",
     "output_type": "stream",
     "text": [
      "2022-02-07 14:14:33,985 - rank - INFO - Rank 0 -- interaction_waiting -- 4.309000360080972e-06\n",
      "2022-02-07 14:14:33,995 - simulator - INFO - CMS: Timestep for rank 0/1 - 0.00955216199872666,0.009552955627441406 - 2020-06-18 02:00:00\n",
      "\n",
      "2022-02-07 14:14:33,996 - rank - INFO - Next timestep\n",
      "2022-02-07 14:14:33,997 - simulator - INFO - ==================== timestep ====================\n",
      "2022-02-07 14:14:34,451 - rank - INFO - Rank 0 -- move_people -- 0.45393465899906005\n",
      "2022-02-07 14:14:34,452 - rank - INFO - Rank 0 -- move_people_waiting -- 4.736000846605748e-06\n",
      "2022-02-07 14:14:34,452 - activity_manager - INFO - CMS: People COMS for rank 0/1 - 3.11499934468884e-06,2.6226043701171875e-06 - 2020-06-18 04:00:00\n",
      "2022-02-07 14:14:34,458 - simulator - INFO - Info for rank 0, Date = 2020-06-18 04:00:00, number of deaths =  3, number of infected = 13135\n",
      "2022-02-07 14:14:41,362 - rank - INFO - Rank 0 -- interaction -- 6.9090030750012374\n",
      "2022-02-07 14:14:41,385 - epidemiology - INFO - CMS: Infection COMS-v2 for rank 0/1(2)0.00033629800054768566,0.0003364086151123047 - 2020-06-18 04:00:00\n",
      "2022-02-07 14:14:41,464 - rank - INFO - Rank 0 -- interaction_waiting -- 4.987001375411637e-06\n",
      "2022-02-07 14:14:41,473 - simulator - INFO - CMS: Timestep for rank 0/1 - 0.009315784000136773,0.009316205978393555 - 2020-06-18 04:00:00\n",
      "\n",
      "2022-02-07 14:14:41,475 - rank - INFO - Next timestep\n",
      "2022-02-07 14:14:41,475 - simulator - INFO - ==================== timestep ====================\n",
      "2022-02-07 14:14:41,937 - rank - INFO - Rank 0 -- move_people -- 0.4615806919991883\n",
      "2022-02-07 14:14:41,938 - rank - INFO - Rank 0 -- move_people_waiting -- 2.9559996619354934e-06\n",
      "2022-02-07 14:14:41,939 - activity_manager - INFO - CMS: People COMS for rank 0/1 - 3.1859999580774456e-06,2.86102294921875e-06 - 2020-06-18 06:00:00\n",
      "2022-02-07 14:14:41,944 - simulator - INFO - Info for rank 0, Date = 2020-06-18 06:00:00, number of deaths =  3, number of infected = 13200\n",
      "2022-02-07 14:14:48,608 - rank - INFO - Rank 0 -- interaction -- 6.668316879999111\n",
      "2022-02-07 14:14:48,633 - epidemiology - INFO - CMS: Infection COMS-v2 for rank 0/1(2)0.00016205300016736146,0.00016164779663085938 - 2020-06-18 06:00:00\n",
      "2022-02-07 14:14:48,712 - rank - INFO - Rank 0 -- interaction_waiting -- 4.537998393061571e-06\n",
      "2022-02-07 14:14:48,721 - simulator - INFO - CMS: Timestep for rank 0/1 - 0.009474883998336736,0.009475469589233398 - 2020-06-18 06:00:00\n",
      "\n",
      "2022-02-07 14:14:48,722 - rank - INFO - Next timestep\n",
      "2022-02-07 14:14:48,723 - simulator - INFO - ==================== timestep ====================\n",
      "2022-02-07 14:14:49,168 - rank - INFO - Rank 0 -- move_people -- 0.44455000599919003\n",
      "2022-02-07 14:14:49,169 - rank - INFO - Rank 0 -- move_people_waiting -- 6.0109996411483735e-06\n",
      "2022-02-07 14:14:49,170 - activity_manager - INFO - CMS: People COMS for rank 0/1 - 3.6720011848956347e-06,3.337860107421875e-06 - 2020-06-18 08:00:00\n",
      "2022-02-07 14:14:49,176 - simulator - INFO - Info for rank 0, Date = 2020-06-18 08:00:00, number of deaths =  3, number of infected = 13280\n",
      "2022-02-07 14:14:55,988 - rank - INFO - Rank 0 -- interaction -- 6.8175810190004995\n",
      "2022-02-07 14:14:56,017 - epidemiology - INFO - CMS: Infection COMS-v2 for rank 0/1(2)0.0003207609988749027,0.00032067298889160156 - 2020-06-18 08:00:00\n",
      "2022-02-07 14:14:56,100 - rank - INFO - Rank 0 -- interaction_waiting -- 4.624000212061219e-06\n",
      "2022-02-07 14:14:56,110 - simulator - INFO - CMS: Timestep for rank 0/1 - 0.009450182998989476,0.009450674057006836 - 2020-06-18 08:00:00\n",
      "\n",
      "2022-02-07 14:14:56,111 - rank - INFO - Next timestep\n",
      "2022-02-07 14:14:56,112 - simulator - INFO - ==================== timestep ====================\n",
      "2022-02-07 14:14:56,259 - rank - INFO - Rank 0 -- move_people -- 0.14649213700067776\n",
      "2022-02-07 14:14:56,259 - rank - INFO - Rank 0 -- move_people_waiting -- 5.829000656376593e-06\n",
      "2022-02-07 14:14:56,260 - activity_manager - INFO - CMS: People COMS for rank 0/1 - 2.3930006136652082e-06,2.1457672119140625e-06 - 2020-06-18 10:00:00\n",
      "2022-02-07 14:14:56,264 - simulator - INFO - Info for rank 0, Date = 2020-06-18 10:00:00, number of deaths =  4, number of infected = 13370\n",
      "2022-02-07 14:15:01,258 - rank - INFO - Rank 0 -- interaction -- 4.99843366999994\n",
      "2022-02-07 14:15:01,374 - epidemiology - INFO - CMS: Infection COMS-v2 for rank 0/1(2)0.0003582560002541868,0.0003581047058105469 - 2020-06-18 10:00:00\n",
      "2022-02-07 14:15:01,524 - rank - INFO - Rank 0 -- interaction_waiting -- 4.9889986257767305e-06\n",
      "2022-02-07 14:15:01,534 - simulator - INFO - CMS: Timestep for rank 0/1 - 0.0096331309996458,0.009633779525756836 - 2020-06-18 10:00:00\n",
      "\n",
      "2022-02-07 14:15:01,537 - rank - INFO - Next timestep\n",
      "2022-02-07 14:15:01,538 - simulator - INFO - ==================== timestep ====================\n",
      "2022-02-07 14:15:01,685 - rank - INFO - Rank 0 -- move_people -- 0.14635105500019563\n",
      "2022-02-07 14:15:01,685 - rank - INFO - Rank 0 -- move_people_waiting -- 5.088000762043521e-06\n",
      "2022-02-07 14:15:01,686 - activity_manager - INFO - CMS: People COMS for rank 0/1 - 2.2549993445863947e-06,2.1457672119140625e-06 - 2020-06-19 00:00:00\n",
      "2022-02-07 14:15:01,690 - simulator - INFO - Info for rank 0, Date = 2020-06-19 00:00:00, number of deaths =  4, number of infected = 13677\n",
      "2022-02-07 14:15:06,718 - rank - INFO - Rank 0 -- interaction -- 5.031830840998737\n",
      "2022-02-07 14:15:06,743 - epidemiology - INFO - CMS: Infection COMS-v2 for rank 0/1(2)0.0001560040000185836,0.00015544891357421875 - 2020-06-19 00:00:00\n",
      "2022-02-07 14:15:06,820 - rank - INFO - Rank 0 -- interaction_waiting -- 4.830999387195334e-06\n",
      "2022-02-07 14:15:06,830 - simulator - INFO - CMS: Timestep for rank 0/1 - 0.009389495999130304,0.009389877319335938 - 2020-06-19 00:00:00\n",
      "\n",
      "2022-02-07 14:15:06,831 - rank - INFO - Next timestep\n",
      "2022-02-07 14:15:06,832 - simulator - INFO - ==================== timestep ====================\n",
      "2022-02-07 14:15:07,292 - rank - INFO - Rank 0 -- move_people -- 0.45976941299886676\n",
      "2022-02-07 14:15:07,293 - rank - INFO - Rank 0 -- move_people_waiting -- 4.8100009735208005e-06\n",
      "2022-02-07 14:15:07,294 - activity_manager - INFO - CMS: People COMS for rank 0/1 - 3.949000529246405e-06,3.5762786865234375e-06 - 2020-06-19 02:00:00\n",
      "2022-02-07 14:15:07,302 - simulator - INFO - Info for rank 0, Date = 2020-06-19 02:00:00, number of deaths =  4, number of infected = 13748\n",
      "2022-02-07 14:15:14,028 - rank - INFO - Rank 0 -- interaction -- 6.733758731001217\n",
      "2022-02-07 14:15:14,049 - epidemiology - INFO - CMS: Infection COMS-v2 for rank 0/1(2)0.00019045299995923415,0.00019025802612304688 - 2020-06-19 02:00:00\n",
      "2022-02-07 14:15:14,131 - rank - INFO - Rank 0 -- interaction_waiting -- 4.86899989482481e-06\n",
      "2022-02-07 14:15:14,141 - simulator - INFO - CMS: Timestep for rank 0/1 - 0.009278030998757458,0.009278297424316406 - 2020-06-19 02:00:00\n",
      "\n",
      "2022-02-07 14:15:14,142 - rank - INFO - Next timestep\n",
      "2022-02-07 14:15:14,143 - simulator - INFO - ==================== timestep ====================\n",
      "2022-02-07 14:15:14,622 - rank - INFO - Rank 0 -- move_people -- 0.4781835100002354\n",
      "2022-02-07 14:15:14,622 - rank - INFO - Rank 0 -- move_people_waiting -- 5.964999218122102e-06\n",
      "2022-02-07 14:15:14,623 - activity_manager - INFO - CMS: People COMS for rank 0/1 - 2.5680001272121444e-06,2.6226043701171875e-06 - 2020-06-19 04:00:00\n",
      "2022-02-07 14:15:14,628 - simulator - INFO - Info for rank 0, Date = 2020-06-19 04:00:00, number of deaths =  4, number of infected = 13807\n",
      "2022-02-07 14:15:21,385 - rank - INFO - Rank 0 -- interaction -- 6.761526483000125\n",
      "2022-02-07 14:15:21,407 - epidemiology - INFO - CMS: Infection COMS-v2 for rank 0/1(2)0.00016879299982974771,0.0001685619354248047 - 2020-06-19 04:00:00\n",
      "2022-02-07 14:15:21,557 - rank - INFO - Rank 0 -- interaction_waiting -- 4.797999281436205e-06\n",
      "2022-02-07 14:15:21,569 - simulator - INFO - CMS: Timestep for rank 0/1 - 0.01241994399970281,0.012421131134033203 - 2020-06-19 04:00:00\n",
      "\n",
      "2022-02-07 14:15:21,571 - rank - INFO - Next timestep\n",
      "2022-02-07 14:15:21,572 - simulator - INFO - ==================== timestep ====================\n",
      "2022-02-07 14:15:22,047 - rank - INFO - Rank 0 -- move_people -- 0.47430155700021714\n",
      "2022-02-07 14:15:22,048 - rank - INFO - Rank 0 -- move_people_waiting -- 2.800999936880544e-06\n"
     ]
    },
    {
     "name": "stdout",
     "output_type": "stream",
     "text": [
      "2022-02-07 14:15:22,048 - activity_manager - INFO - CMS: People COMS for rank 0/1 - 2.755999958026223e-06,2.6226043701171875e-06 - 2020-06-19 06:00:00\n",
      "2022-02-07 14:15:22,053 - simulator - INFO - Info for rank 0, Date = 2020-06-19 06:00:00, number of deaths =  4, number of infected = 13875\n",
      "2022-02-07 14:15:28,627 - rank - INFO - Rank 0 -- interaction -- 6.578211406998889\n",
      "2022-02-07 14:15:28,650 - epidemiology - INFO - CMS: Infection COMS-v2 for rank 0/1(2)0.0003192100011801813,0.0003192424774169922 - 2020-06-19 06:00:00\n",
      "2022-02-07 14:15:28,802 - rank - INFO - Rank 0 -- interaction_waiting -- 8.999999408842996e-06\n",
      "2022-02-07 14:15:28,816 - simulator - INFO - CMS: Timestep for rank 0/1 - 0.014688066999951843,0.01468801498413086 - 2020-06-19 06:00:00\n",
      "\n",
      "2022-02-07 14:15:28,818 - rank - INFO - Next timestep\n",
      "2022-02-07 14:15:28,819 - simulator - INFO - ==================== timestep ====================\n",
      "2022-02-07 14:15:29,235 - rank - INFO - Rank 0 -- move_people -- 0.41580093599986867\n",
      "2022-02-07 14:15:29,236 - rank - INFO - Rank 0 -- move_people_waiting -- 3.1130002753343433e-06\n",
      "2022-02-07 14:15:29,236 - activity_manager - INFO - CMS: People COMS for rank 0/1 - 3.2940006349235773e-06,3.0994415283203125e-06 - 2020-06-19 08:00:00\n",
      "2022-02-07 14:15:29,244 - simulator - INFO - Info for rank 0, Date = 2020-06-19 08:00:00, number of deaths =  4, number of infected = 13949\n",
      "2022-02-07 14:15:36,031 - rank - INFO - Rank 0 -- interaction -- 6.794036403000064\n",
      "2022-02-07 14:15:36,055 - epidemiology - INFO - CMS: Infection COMS-v2 for rank 0/1(2)0.0001704520000203047,0.00016999244689941406 - 2020-06-19 08:00:00\n",
      "2022-02-07 14:15:36,136 - rank - INFO - Rank 0 -- interaction_waiting -- 4.381001417641528e-06\n",
      "2022-02-07 14:15:36,147 - simulator - INFO - CMS: Timestep for rank 0/1 - 0.010175183000683319,0.010175704956054688 - 2020-06-19 08:00:00\n",
      "\n",
      "2022-02-07 14:15:36,148 - rank - INFO - Next timestep\n",
      "2022-02-07 14:15:36,148 - simulator - INFO - ==================== timestep ====================\n",
      "2022-02-07 14:15:36,293 - rank - INFO - Rank 0 -- move_people -- 0.14337386499937566\n",
      "2022-02-07 14:15:36,293 - rank - INFO - Rank 0 -- move_people_waiting -- 4.569001248455606e-06\n",
      "2022-02-07 14:15:36,293 - activity_manager - INFO - CMS: People COMS for rank 0/1 - 2.4029995984165e-06,2.384185791015625e-06 - 2020-06-19 10:00:00\n",
      "2022-02-07 14:15:36,300 - simulator - INFO - Info for rank 0, Date = 2020-06-19 10:00:00, number of deaths =  4, number of infected = 14023\n",
      "2022-02-07 14:15:41,544 - rank - INFO - Rank 0 -- interaction -- 5.2497718060003535\n",
      "2022-02-07 14:15:41,686 - epidemiology - INFO - CMS: Infection COMS-v2 for rank 0/1(2)0.00020175699864921626,0.0002014636993408203 - 2020-06-19 10:00:00\n",
      "2022-02-07 14:15:41,850 - rank - INFO - Rank 0 -- interaction_waiting -- 4.676001481129788e-06\n",
      "2022-02-07 14:15:41,860 - simulator - INFO - CMS: Timestep for rank 0/1 - 0.010003919000155292,0.010004520416259766 - 2020-06-19 10:00:00\n",
      "\n",
      "2022-02-07 14:15:41,862 - rank - INFO - Next timestep\n",
      "2022-02-07 14:15:41,862 - simulator - INFO - ==================== timestep ====================\n",
      "2022-02-07 14:15:42,063 - rank - INFO - Rank 0 -- move_people -- 0.19961313999920094\n",
      "2022-02-07 14:15:42,063 - rank - INFO - Rank 0 -- move_people_waiting -- 5.949999831500463e-06\n",
      "2022-02-07 14:15:42,064 - activity_manager - INFO - CMS: People COMS for rank 0/1 - 3.6250003176974133e-06,3.5762786865234375e-06 - 2020-06-20 00:00:00\n",
      "2022-02-07 14:15:42,073 - simulator - INFO - Info for rank 0, Date = 2020-06-20 00:00:00, number of deaths =  4, number of infected = 14303\n",
      "2022-02-07 14:15:48,738 - rank - INFO - Rank 0 -- interaction -- 6.672885714999211\n",
      "2022-02-07 14:15:48,761 - epidemiology - INFO - CMS: Infection COMS-v2 for rank 0/1(2)0.00015341899961640593,0.00015282630920410156 - 2020-06-20 00:00:00\n",
      "2022-02-07 14:15:48,843 - rank - INFO - Rank 0 -- interaction_waiting -- 4.270999852451496e-06\n",
      "2022-02-07 14:15:48,852 - simulator - INFO - CMS: Timestep for rank 0/1 - 0.009044402000654372,0.009044885635375977 - 2020-06-20 00:00:00\n",
      "\n",
      "2022-02-07 14:15:48,853 - rank - INFO - Next timestep\n",
      "2022-02-07 14:15:48,854 - simulator - INFO - ==================== timestep ====================\n",
      "2022-02-07 14:15:49,315 - rank - INFO - Rank 0 -- move_people -- 0.4602758040000481\n",
      "2022-02-07 14:15:49,316 - rank - INFO - Rank 0 -- move_people_waiting -- 7.19399940862786e-06\n",
      "2022-02-07 14:15:49,316 - activity_manager - INFO - CMS: People COMS for rank 0/1 - 2.930999471573159e-06,2.86102294921875e-06 - 2020-06-20 03:00:00\n",
      "2022-02-07 14:15:49,322 - simulator - INFO - Info for rank 0, Date = 2020-06-20 03:00:00, number of deaths =  4, number of infected = 14359\n",
      "2022-02-07 14:15:55,925 - rank - INFO - Rank 0 -- interaction -- 6.607630862001315\n",
      "2022-02-07 14:15:55,943 - epidemiology - INFO - CMS: Infection COMS-v2 for rank 0/1(2)0.00015675800023018382,0.00015664100646972656 - 2020-06-20 03:00:00\n",
      "2022-02-07 14:15:56,028 - rank - INFO - Rank 0 -- interaction_waiting -- 4.640000042854808e-06\n",
      "2022-02-07 14:15:56,038 - simulator - INFO - CMS: Timestep for rank 0/1 - 0.009146299000349245,0.009146928787231445 - 2020-06-20 03:00:00\n",
      "\n",
      "2022-02-07 14:15:56,039 - rank - INFO - Next timestep\n",
      "2022-02-07 14:15:56,039 - simulator - INFO - ==================== timestep ====================\n",
      "2022-02-07 14:15:56,492 - rank - INFO - Rank 0 -- move_people -- 0.4519634819989733\n",
      "2022-02-07 14:15:56,493 - rank - INFO - Rank 0 -- move_people_waiting -- 6.199999916134402e-06\n",
      "2022-02-07 14:15:56,493 - activity_manager - INFO - CMS: People COMS for rank 0/1 - 3.1269992177840322e-06,2.86102294921875e-06 - 2020-06-20 05:00:00\n",
      "2022-02-07 14:15:56,502 - simulator - INFO - Info for rank 0, Date = 2020-06-20 05:00:00, number of deaths =  4, number of infected = 14414\n",
      "2022-02-07 14:16:03,124 - rank - INFO - Rank 0 -- interaction -- 6.630443799000204\n",
      "2022-02-07 14:16:03,143 - epidemiology - INFO - CMS: Infection COMS-v2 for rank 0/1(2)0.00018666400137590244,0.00018668174743652344 - 2020-06-20 05:00:00\n",
      "2022-02-07 14:16:03,235 - rank - INFO - Rank 0 -- interaction_waiting -- 4.436999006429687e-06\n",
      "2022-02-07 14:16:03,244 - simulator - INFO - CMS: Timestep for rank 0/1 - 0.009219397999913781,0.009219646453857422 - 2020-06-20 05:00:00\n",
      "\n",
      "2022-02-07 14:16:03,246 - rank - INFO - Next timestep\n",
      "2022-02-07 14:16:03,246 - simulator - INFO - ==================== timestep ====================\n",
      "2022-02-07 14:16:03,713 - rank - INFO - Rank 0 -- move_people -- 0.4654522069995437\n",
      "2022-02-07 14:16:03,713 - rank - INFO - Rank 0 -- move_people_waiting -- 4.421999619808048e-06\n",
      "2022-02-07 14:16:03,713 - activity_manager - INFO - CMS: People COMS for rank 0/1 - 2.9990005714353174e-06,2.6226043701171875e-06 - 2020-06-20 07:00:00\n",
      "2022-02-07 14:16:03,721 - simulator - INFO - Info for rank 0, Date = 2020-06-20 07:00:00, number of deaths =  4, number of infected = 14457\n",
      "2022-02-07 14:16:10,433 - rank - INFO - Rank 0 -- interaction -- 6.7189321239984565\n",
      "2022-02-07 14:16:10,456 - epidemiology - INFO - CMS: Infection COMS-v2 for rank 0/1(2)0.00016939099987212103,0.00016880035400390625 - 2020-06-20 07:00:00\n",
      "2022-02-07 14:16:10,541 - rank - INFO - Rank 0 -- interaction_waiting -- 4.523000825429335e-06\n",
      "2022-02-07 14:16:10,555 - simulator - INFO - CMS: Timestep for rank 0/1 - 0.014061260000744369,0.014061689376831055 - 2020-06-20 07:00:00\n",
      "\n",
      "2022-02-07 14:16:10,557 - rank - INFO - Next timestep\n",
      "2022-02-07 14:16:10,557 - simulator - INFO - ==================== timestep ====================\n",
      "2022-02-07 14:16:11,008 - rank - INFO - Rank 0 -- move_people -- 0.4496589659993333\n",
      "2022-02-07 14:16:11,008 - rank - INFO - Rank 0 -- move_people_waiting -- 5.770998541265726e-06\n",
      "2022-02-07 14:16:11,009 - activity_manager - INFO - CMS: People COMS for rank 0/1 - 3.633000233094208e-06,3.5762786865234375e-06 - 2020-06-20 09:00:00\n",
      "2022-02-07 14:16:11,014 - simulator - INFO - Info for rank 0, Date = 2020-06-20 09:00:00, number of deaths =  4, number of infected = 14523\n",
      "2022-02-07 14:16:18,678 - rank - INFO - Rank 0 -- interaction -- 7.668751291001172\n",
      "2022-02-07 14:16:18,702 - epidemiology - INFO - CMS: Infection COMS-v2 for rank 0/1(2)0.0003678920002130326,0.00036787986755371094 - 2020-06-20 09:00:00\n",
      "2022-02-07 14:16:18,852 - rank - INFO - Rank 0 -- interaction_waiting -- 4.4529988372232765e-06\n"
     ]
    },
    {
     "name": "stdout",
     "output_type": "stream",
     "text": [
      "2022-02-07 14:16:18,862 - simulator - INFO - CMS: Timestep for rank 0/1 - 0.010022599999501836,0.010023355484008789 - 2020-06-20 09:00:00\n",
      "\n",
      "2022-02-07 14:16:18,864 - rank - INFO - Next timestep\n",
      "2022-02-07 14:16:18,865 - simulator - INFO - ==================== timestep ====================\n",
      "2022-02-07 14:16:19,025 - rank - INFO - Rank 0 -- move_people -- 0.1590395509992959\n",
      "2022-02-07 14:16:19,025 - rank - INFO - Rank 0 -- move_people_waiting -- 5.145000613993034e-06\n",
      "2022-02-07 14:16:19,025 - activity_manager - INFO - CMS: People COMS for rank 0/1 - 2.4510009097866714e-06,2.384185791015625e-06 - 2020-06-20 11:00:00\n",
      "2022-02-07 14:16:19,030 - simulator - INFO - Info for rank 0, Date = 2020-06-20 11:00:00, number of deaths =  4, number of infected = 14583\n",
      "2022-02-07 14:16:23,909 - rank - INFO - Rank 0 -- interaction -- 4.8830524800014246\n",
      "2022-02-07 14:16:23,998 - epidemiology - INFO - CMS: Infection COMS-v2 for rank 0/1(2)0.000390086001061718,0.0003898143768310547 - 2020-06-20 11:00:00\n",
      "2022-02-07 14:16:24,085 - rank - INFO - Rank 0 -- interaction_waiting -- 4.419000106281601e-06\n",
      "2022-02-07 14:16:24,094 - simulator - INFO - CMS: Timestep for rank 0/1 - 0.009099659999264986,0.009099960327148438 - 2020-06-20 11:00:00\n",
      "\n",
      "2022-02-07 14:16:24,095 - rank - INFO - Next timestep\n",
      "2022-02-07 14:16:24,096 - simulator - INFO - ==================== timestep ====================\n",
      "2022-02-07 14:16:24,261 - rank - INFO - Rank 0 -- move_people -- 0.1646549180004513\n",
      "2022-02-07 14:16:24,262 - rank - INFO - Rank 0 -- move_people_waiting -- 5.122999937157147e-06\n",
      "2022-02-07 14:16:24,262 - activity_manager - INFO - CMS: People COMS for rank 0/1 - 3.0720002541784197e-06,2.6226043701171875e-06 - 2020-06-21 00:00:00\n",
      "2022-02-07 14:16:24,268 - simulator - INFO - Info for rank 0, Date = 2020-06-21 00:00:00, number of deaths =  4, number of infected = 14777\n",
      "2022-02-07 14:16:29,049 - rank - INFO - Rank 0 -- interaction -- 4.786084858000322\n",
      "2022-02-07 14:16:29,071 - epidemiology - INFO - CMS: Infection COMS-v2 for rank 0/1(2)0.00015469400022993796,0.00015425682067871094 - 2020-06-21 00:00:00\n",
      "2022-02-07 14:16:29,221 - rank - INFO - Rank 0 -- interaction_waiting -- 6.726999345119111e-06\n",
      "2022-02-07 14:16:29,236 - simulator - INFO - CMS: Timestep for rank 0/1 - 0.014938898000764311,0.014938831329345703 - 2020-06-21 00:00:00\n",
      "\n",
      "2022-02-07 14:16:29,237 - rank - INFO - Next timestep\n",
      "2022-02-07 14:16:29,238 - simulator - INFO - ==================== timestep ====================\n",
      "2022-02-07 14:16:29,679 - rank - INFO - Rank 0 -- move_people -- 0.4406007210000098\n",
      "2022-02-07 14:16:29,680 - rank - INFO - Rank 0 -- move_people_waiting -- 4.925999746774323e-06\n",
      "2022-02-07 14:16:29,680 - activity_manager - INFO - CMS: People COMS for rank 0/1 - 2.7910009521292523e-06,2.6226043701171875e-06 - 2020-06-21 03:00:00\n",
      "2022-02-07 14:16:29,686 - simulator - INFO - Info for rank 0, Date = 2020-06-21 03:00:00, number of deaths =  4, number of infected = 14826\n",
      "2022-02-07 14:16:36,266 - rank - INFO - Rank 0 -- interaction -- 6.585502525998891\n",
      "2022-02-07 14:16:36,286 - epidemiology - INFO - CMS: Infection COMS-v2 for rank 0/1(2)0.00019724500089068897,0.00019741058349609375 - 2020-06-21 03:00:00\n",
      "2022-02-07 14:16:36,378 - rank - INFO - Rank 0 -- interaction_waiting -- 4.309000360080972e-06\n",
      "2022-02-07 14:16:36,389 - simulator - INFO - CMS: Timestep for rank 0/1 - 0.011431589000494569,0.011431694030761719 - 2020-06-21 03:00:00\n",
      "\n",
      "2022-02-07 14:16:36,391 - rank - INFO - Next timestep\n",
      "2022-02-07 14:16:36,392 - simulator - INFO - ==================== timestep ====================\n",
      "2022-02-07 14:16:36,885 - rank - INFO - Rank 0 -- move_people -- 0.4929788669996924\n",
      "2022-02-07 14:16:36,886 - rank - INFO - Rank 0 -- move_people_waiting -- 5.427998985396698e-06\n",
      "2022-02-07 14:16:36,887 - activity_manager - INFO - CMS: People COMS for rank 0/1 - 3.7219997466308996e-06,3.337860107421875e-06 - 2020-06-21 05:00:00\n",
      "2022-02-07 14:16:36,892 - simulator - INFO - Info for rank 0, Date = 2020-06-21 05:00:00, number of deaths =  4, number of infected = 14882\n",
      "2022-02-07 14:16:43,831 - rank - INFO - Rank 0 -- interaction -- 6.944021241000883\n",
      "2022-02-07 14:16:43,849 - epidemiology - INFO - CMS: Infection COMS-v2 for rank 0/1(2)0.00031794300048204605,0.00031757354736328125 - 2020-06-21 05:00:00\n",
      "2022-02-07 14:16:43,935 - rank - INFO - Rank 0 -- interaction_waiting -- 4.447998435352929e-06\n",
      "2022-02-07 14:16:43,944 - simulator - INFO - CMS: Timestep for rank 0/1 - 0.009236371999577386,0.009236812591552734 - 2020-06-21 05:00:00\n",
      "\n",
      "2022-02-07 14:16:43,946 - rank - INFO - Next timestep\n",
      "2022-02-07 14:16:43,946 - simulator - INFO - ==================== timestep ====================\n",
      "2022-02-07 14:16:44,430 - rank - INFO - Rank 0 -- move_people -- 0.4833342399997491\n",
      "2022-02-07 14:16:44,431 - rank - INFO - Rank 0 -- move_people_waiting -- 3.305000063846819e-06\n",
      "2022-02-07 14:16:44,431 - activity_manager - INFO - CMS: People COMS for rank 0/1 - 3.5960001696366817e-06,3.5762786865234375e-06 - 2020-06-21 07:00:00\n",
      "2022-02-07 14:16:44,437 - simulator - INFO - Info for rank 0, Date = 2020-06-21 07:00:00, number of deaths =  4, number of infected = 14923\n",
      "2022-02-07 14:16:51,188 - rank - INFO - Rank 0 -- interaction -- 6.755820652000693\n",
      "2022-02-07 14:16:51,206 - epidemiology - INFO - CMS: Infection COMS-v2 for rank 0/1(2)0.0003537620013958076,0.0003535747528076172 - 2020-06-21 07:00:00\n",
      "2022-02-07 14:16:51,293 - rank - INFO - Rank 0 -- interaction_waiting -- 4.703000740846619e-06\n",
      "2022-02-07 14:16:51,302 - simulator - INFO - CMS: Timestep for rank 0/1 - 0.009875147999991896,0.00987553596496582 - 2020-06-21 07:00:00\n",
      "\n",
      "2022-02-07 14:16:51,304 - rank - INFO - Next timestep\n",
      "2022-02-07 14:16:51,305 - simulator - INFO - ==================== timestep ====================\n",
      "2022-02-07 14:16:51,749 - rank - INFO - Rank 0 -- move_people -- 0.44373499599896604\n",
      "2022-02-07 14:16:51,749 - rank - INFO - Rank 0 -- move_people_waiting -- 4.948999048792757e-06\n",
      "2022-02-07 14:16:51,750 - activity_manager - INFO - CMS: People COMS for rank 0/1 - 2.5930003175744787e-06,2.1457672119140625e-06 - 2020-06-21 09:00:00\n",
      "2022-02-07 14:16:51,757 - simulator - INFO - Info for rank 0, Date = 2020-06-21 09:00:00, number of deaths =  4, number of infected = 14958\n",
      "2022-02-07 14:16:58,570 - rank - INFO - Rank 0 -- interaction -- 6.819351850001112\n",
      "2022-02-07 14:16:58,593 - epidemiology - INFO - CMS: Infection COMS-v2 for rank 0/1(2)0.0001573410008859355,0.0001571178436279297 - 2020-06-21 09:00:00\n",
      "2022-02-07 14:16:58,683 - rank - INFO - Rank 0 -- interaction_waiting -- 4.023999281344004e-06\n",
      "2022-02-07 14:16:58,693 - simulator - INFO - CMS: Timestep for rank 0/1 - 0.00932544899842469,0.009325981140136719 - 2020-06-21 09:00:00\n",
      "\n",
      "2022-02-07 14:16:58,694 - rank - INFO - Next timestep\n",
      "2022-02-07 14:16:58,695 - simulator - INFO - ==================== timestep ====================\n",
      "2022-02-07 14:16:58,842 - rank - INFO - Rank 0 -- move_people -- 0.14714381600060733\n",
      "2022-02-07 14:16:58,843 - rank - INFO - Rank 0 -- move_people_waiting -- 4.907000402454287e-06\n",
      "2022-02-07 14:16:58,843 - activity_manager - INFO - CMS: People COMS for rank 0/1 - 2.5249992177123204e-06,2.384185791015625e-06 - 2020-06-21 11:00:00\n",
      "2022-02-07 14:16:58,848 - simulator - INFO - Info for rank 0, Date = 2020-06-21 11:00:00, number of deaths =  4, number of infected = 15001\n",
      "2022-02-07 14:17:03,616 - rank - INFO - Rank 0 -- interaction -- 4.772172915001647\n",
      "2022-02-07 14:17:03,702 - epidemiology - INFO - CMS: Infection COMS-v2 for rank 0/1(2)0.00015134900058910716,0.00015115737915039062 - 2020-06-21 11:00:00\n",
      "2022-02-07 14:17:03,787 - rank - INFO - Rank 0 -- interaction_waiting -- 4.212999556330033e-06\n",
      "2022-02-07 14:17:03,796 - simulator - INFO - CMS: Timestep for rank 0/1 - 0.009243497999705141,0.009243965148925781 - 2020-06-21 11:00:00\n",
      "\n",
      "2022-02-07 14:17:03,798 - rank - INFO - Next timestep\n",
      "2022-02-07 14:17:03,798 - simulator - INFO - ==================== timestep ====================\n",
      "2022-02-07 14:17:03,947 - rank - INFO - Rank 0 -- move_people -- 0.14819996100050048\n",
      "2022-02-07 14:17:03,948 - rank - INFO - Rank 0 -- move_people_waiting -- 2.75899947155267e-06\n",
      "2022-02-07 14:17:03,948 - activity_manager - INFO - CMS: People COMS for rank 0/1 - 2.517999746487476e-06,2.6226043701171875e-06 - 2020-06-22 00:00:00\n"
     ]
    },
    {
     "name": "stdout",
     "output_type": "stream",
     "text": [
      "2022-02-07 14:17:03,955 - simulator - INFO - Info for rank 0, Date = 2020-06-22 00:00:00, number of deaths =  5, number of infected = 15201\n",
      "2022-02-07 14:17:08,743 - rank - INFO - Rank 0 -- interaction -- 4.794775131000279\n",
      "2022-02-07 14:17:08,755 - epidemiology - INFO - CMS: Infection COMS-v2 for rank 0/1(2)0.0001543340003991034,0.00015425682067871094 - 2020-06-22 00:00:00\n",
      "2022-02-07 14:17:08,846 - rank - INFO - Rank 0 -- interaction_waiting -- 4.714000169769861e-06\n",
      "2022-02-07 14:17:08,856 - simulator - INFO - CMS: Timestep for rank 0/1 - 0.009359424999274779,0.009360074996948242 - 2020-06-22 00:00:00\n",
      "\n",
      "2022-02-07 14:17:08,857 - rank - INFO - Next timestep\n",
      "2022-02-07 14:17:08,858 - simulator - INFO - ==================== timestep ====================\n",
      "2022-02-07 14:17:09,318 - rank - INFO - Rank 0 -- move_people -- 0.45901898999909463\n",
      "2022-02-07 14:17:09,318 - rank - INFO - Rank 0 -- move_people_waiting -- 5.148000127519481e-06\n",
      "2022-02-07 14:17:09,318 - activity_manager - INFO - CMS: People COMS for rank 0/1 - 2.9269995138747618e-06,2.86102294921875e-06 - 2020-06-22 02:00:00\n",
      "2022-02-07 14:17:09,324 - simulator - INFO - Info for rank 0, Date = 2020-06-22 02:00:00, number of deaths =  5, number of infected = 15221\n",
      "2022-02-07 14:17:16,134 - rank - INFO - Rank 0 -- interaction -- 6.814807831999133\n",
      "2022-02-07 14:17:16,150 - epidemiology - INFO - CMS: Infection COMS-v2 for rank 0/1(2)0.00015693699970142916,0.00015664100646972656 - 2020-06-22 02:00:00\n",
      "2022-02-07 14:17:16,240 - rank - INFO - Rank 0 -- interaction_waiting -- 4.027999239042401e-06\n",
      "2022-02-07 14:17:16,249 - simulator - INFO - CMS: Timestep for rank 0/1 - 0.009281163998821285,0.009282112121582031 - 2020-06-22 02:00:00\n",
      "\n",
      "2022-02-07 14:17:16,251 - rank - INFO - Next timestep\n",
      "2022-02-07 14:17:16,251 - simulator - INFO - ==================== timestep ====================\n",
      "2022-02-07 14:17:16,663 - rank - INFO - Rank 0 -- move_people -- 0.41114264799944067\n",
      "2022-02-07 14:17:16,663 - rank - INFO - Rank 0 -- move_people_waiting -- 4.9270001909462735e-06\n",
      "2022-02-07 14:17:16,664 - activity_manager - INFO - CMS: People COMS for rank 0/1 - 2.503000359865837e-06,2.6226043701171875e-06 - 2020-06-22 04:00:00\n",
      "2022-02-07 14:17:16,669 - simulator - INFO - Info for rank 0, Date = 2020-06-22 04:00:00, number of deaths =  5, number of infected = 15254\n",
      "2022-02-07 14:17:23,286 - rank - INFO - Rank 0 -- interaction -- 6.622034395999435\n",
      "2022-02-07 14:17:23,302 - epidemiology - INFO - CMS: Infection COMS-v2 for rank 0/1(2)0.00015922999955364503,0.0001590251922607422 - 2020-06-22 04:00:00\n",
      "2022-02-07 14:17:23,392 - rank - INFO - Rank 0 -- interaction_waiting -- 3.962999471696094e-06\n",
      "2022-02-07 14:17:23,401 - simulator - INFO - CMS: Timestep for rank 0/1 - 0.00935063699944294,0.009351253509521484 - 2020-06-22 04:00:00\n",
      "\n",
      "2022-02-07 14:17:23,402 - rank - INFO - Next timestep\n",
      "2022-02-07 14:17:23,403 - simulator - INFO - ==================== timestep ====================\n",
      "2022-02-07 14:17:23,856 - rank - INFO - Rank 0 -- move_people -- 0.4524093029995129\n",
      "2022-02-07 14:17:23,857 - rank - INFO - Rank 0 -- move_people_waiting -- 3.84299892175477e-06\n",
      "2022-02-07 14:17:23,857 - activity_manager - INFO - CMS: People COMS for rank 0/1 - 2.793998646666296e-06,2.6226043701171875e-06 - 2020-06-22 06:00:00\n",
      "2022-02-07 14:17:23,862 - simulator - INFO - Info for rank 0, Date = 2020-06-22 06:00:00, number of deaths =  5, number of infected = 15292\n",
      "2022-02-07 14:17:30,499 - rank - INFO - Rank 0 -- interaction -- 6.64100652200068\n",
      "2022-02-07 14:17:30,516 - epidemiology - INFO - CMS: Infection COMS-v2 for rank 0/1(2)0.00017027499961841386,0.00016999244689941406 - 2020-06-22 06:00:00\n",
      "2022-02-07 14:17:30,601 - rank - INFO - Rank 0 -- interaction_waiting -- 4.735000402433798e-06\n",
      "2022-02-07 14:17:30,610 - simulator - INFO - CMS: Timestep for rank 0/1 - 0.009287946000767988,0.00928807258605957 - 2020-06-22 06:00:00\n",
      "\n",
      "2022-02-07 14:17:30,612 - rank - INFO - Next timestep\n",
      "2022-02-07 14:17:30,612 - simulator - INFO - ==================== timestep ====================\n",
      "2022-02-07 14:17:31,063 - rank - INFO - Rank 0 -- move_people -- 0.45006412099974114\n",
      "2022-02-07 14:17:31,064 - rank - INFO - Rank 0 -- move_people_waiting -- 5.24099959875457e-06\n",
      "2022-02-07 14:17:31,064 - activity_manager - INFO - CMS: People COMS for rank 0/1 - 3.3199994504684582e-06,3.0994415283203125e-06 - 2020-06-22 08:00:00\n",
      "2022-02-07 14:17:31,069 - simulator - INFO - Info for rank 0, Date = 2020-06-22 08:00:00, number of deaths =  5, number of infected = 15344\n",
      "2022-02-07 14:17:37,697 - rank - INFO - Rank 0 -- interaction -- 6.632978544001162\n",
      "2022-02-07 14:17:37,719 - epidemiology - INFO - CMS: Infection COMS-v2 for rank 0/1(2)0.0003467839997028932,0.00034689903259277344 - 2020-06-22 08:00:00\n",
      "2022-02-07 14:17:37,811 - rank - INFO - Rank 0 -- interaction_waiting -- 4.168001396465115e-06\n",
      "2022-02-07 14:17:37,823 - simulator - INFO - CMS: Timestep for rank 0/1 - 0.011380977000953862,0.011381387710571289 - 2020-06-22 08:00:00\n",
      "\n",
      "2022-02-07 14:17:37,824 - rank - INFO - Next timestep\n",
      "2022-02-07 14:17:37,825 - simulator - INFO - ==================== timestep ====================\n",
      "2022-02-07 14:17:37,976 - rank - INFO - Rank 0 -- move_people -- 0.1512001909995888\n",
      "2022-02-07 14:17:37,977 - rank - INFO - Rank 0 -- move_people_waiting -- 5.154999598744325e-06\n",
      "2022-02-07 14:17:37,977 - activity_manager - INFO - CMS: People COMS for rank 0/1 - 2.6269990485161543e-06,2.6226043701171875e-06 - 2020-06-22 10:00:00\n",
      "2022-02-07 14:17:37,982 - simulator - INFO - Info for rank 0, Date = 2020-06-22 10:00:00, number of deaths =  5, number of infected = 15406\n",
      "2022-02-07 14:17:42,938 - rank - INFO - Rank 0 -- interaction -- 4.9603502999998454\n",
      "2022-02-07 14:17:43,014 - epidemiology - INFO - CMS: Infection COMS-v2 for rank 0/1(2)0.0001537890002509812,0.0001533031463623047 - 2020-06-22 10:00:00\n",
      "2022-02-07 14:17:43,106 - rank - INFO - Rank 0 -- interaction_waiting -- 4.288000127417035e-06\n",
      "2022-02-07 14:17:43,115 - simulator - INFO - CMS: Timestep for rank 0/1 - 0.009094070999708492,0.009094476699829102 - 2020-06-22 10:00:00\n",
      "\n",
      "2022-02-07 14:17:43,117 - rank - INFO - Next timestep\n",
      "2022-02-07 14:17:43,117 - simulator - INFO - ==================== timestep ====================\n",
      "2022-02-07 14:17:43,272 - rank - INFO - Rank 0 -- move_people -- 0.1548177239983488\n",
      "2022-02-07 14:17:43,273 - rank - INFO - Rank 0 -- move_people_waiting -- 4.8820002120919526e-06\n",
      "2022-02-07 14:17:43,273 - activity_manager - INFO - CMS: People COMS for rank 0/1 - 3.0360006348928437e-06,2.86102294921875e-06 - 2020-06-23 00:00:00\n",
      "2022-02-07 14:17:43,281 - simulator - INFO - Info for rank 0, Date = 2020-06-23 00:00:00, number of deaths =  7, number of infected = 15533\n",
      "2022-02-07 14:17:48,147 - rank - INFO - Rank 0 -- interaction -- 4.873555197000314\n",
      "2022-02-07 14:17:48,162 - epidemiology - INFO - CMS: Infection COMS-v2 for rank 0/1(2)0.00015444599921465851,0.00015401840209960938 - 2020-06-23 00:00:00\n",
      "2022-02-07 14:17:48,254 - rank - INFO - Rank 0 -- interaction_waiting -- 4.685000021709129e-06\n",
      "2022-02-07 14:17:48,268 - simulator - INFO - CMS: Timestep for rank 0/1 - 0.013860057000783854,0.013860702514648438 - 2020-06-23 00:00:00\n",
      "\n",
      "2022-02-07 14:17:48,269 - rank - INFO - Next timestep\n",
      "2022-02-07 14:17:48,270 - simulator - INFO - ==================== timestep ====================\n",
      "2022-02-07 14:17:48,774 - rank - INFO - Rank 0 -- move_people -- 0.503112862999842\n",
      "2022-02-07 14:17:48,774 - rank - INFO - Rank 0 -- move_people_waiting -- 5.758000042987987e-06\n",
      "2022-02-07 14:17:48,775 - activity_manager - INFO - CMS: People COMS for rank 0/1 - 4.737999915960245e-06,4.0531158447265625e-06 - 2020-06-23 02:00:00\n",
      "2022-02-07 14:17:48,784 - simulator - INFO - Info for rank 0, Date = 2020-06-23 02:00:00, number of deaths =  7, number of infected = 15553\n",
      "2022-02-07 14:17:55,524 - rank - INFO - Rank 0 -- interaction -- 6.748968245001379\n",
      "2022-02-07 14:17:55,544 - epidemiology - INFO - CMS: Infection COMS-v2 for rank 0/1(2)0.000177818999873125,0.00017714500427246094 - 2020-06-23 02:00:00\n",
      "2022-02-07 14:17:55,636 - rank - INFO - Rank 0 -- interaction_waiting -- 4.305000402382575e-06\n",
      "2022-02-07 14:17:55,647 - simulator - INFO - CMS: Timestep for rank 0/1 - 0.010797612001624657,0.010798215866088867 - 2020-06-23 02:00:00\n",
      "\n"
     ]
    },
    {
     "name": "stdout",
     "output_type": "stream",
     "text": [
      "2022-02-07 14:17:55,649 - rank - INFO - Next timestep\n",
      "2022-02-07 14:17:55,650 - simulator - INFO - ==================== timestep ====================\n",
      "2022-02-07 14:17:56,103 - rank - INFO - Rank 0 -- move_people -- 0.45284598499893036\n",
      "2022-02-07 14:17:56,103 - rank - INFO - Rank 0 -- move_people_waiting -- 4.853000064031221e-06\n",
      "2022-02-07 14:17:56,104 - activity_manager - INFO - CMS: People COMS for rank 0/1 - 2.6269990485161543e-06,2.384185791015625e-06 - 2020-06-23 04:00:00\n",
      "2022-02-07 14:17:56,111 - simulator - INFO - Info for rank 0, Date = 2020-06-23 04:00:00, number of deaths =  7, number of infected = 15590\n",
      "2022-02-07 14:18:02,815 - rank - INFO - Rank 0 -- interaction -- 6.7106295979992865\n",
      "2022-02-07 14:18:02,835 - epidemiology - INFO - CMS: Infection COMS-v2 for rank 0/1(2)0.0003518659996188944,0.00035190582275390625 - 2020-06-23 04:00:00\n",
      "2022-02-07 14:18:02,929 - rank - INFO - Rank 0 -- interaction_waiting -- 4.784000338986516e-06\n",
      "2022-02-07 14:18:02,939 - simulator - INFO - CMS: Timestep for rank 0/1 - 0.009717459999592393,0.009717941284179688 - 2020-06-23 04:00:00\n",
      "\n",
      "2022-02-07 14:18:02,941 - rank - INFO - Next timestep\n",
      "2022-02-07 14:18:02,942 - simulator - INFO - ==================== timestep ====================\n",
      "2022-02-07 14:18:03,432 - rank - INFO - Rank 0 -- move_people -- 0.48936391700044624\n",
      "2022-02-07 14:18:03,432 - rank - INFO - Rank 0 -- move_people_waiting -- 4.5649994717678055e-06\n",
      "2022-02-07 14:18:03,433 - activity_manager - INFO - CMS: People COMS for rank 0/1 - 3.418999767745845e-06,2.86102294921875e-06 - 2020-06-23 06:00:00\n",
      "2022-02-07 14:18:03,440 - simulator - INFO - Info for rank 0, Date = 2020-06-23 06:00:00, number of deaths =  7, number of infected = 15631\n",
      "2022-02-07 14:18:10,054 - rank - INFO - Rank 0 -- interaction -- 6.620666558001176\n",
      "2022-02-07 14:18:10,073 - epidemiology - INFO - CMS: Infection COMS-v2 for rank 0/1(2)0.00018300500050827395,0.0001823902130126953 - 2020-06-23 06:00:00\n",
      "2022-02-07 14:18:10,164 - rank - INFO - Rank 0 -- interaction_waiting -- 4.056999387103133e-06\n",
      "2022-02-07 14:18:10,174 - simulator - INFO - CMS: Timestep for rank 0/1 - 0.009208106999722077,0.00920867919921875 - 2020-06-23 06:00:00\n",
      "\n",
      "2022-02-07 14:18:10,175 - rank - INFO - Next timestep\n",
      "2022-02-07 14:18:10,176 - simulator - INFO - ==================== timestep ====================\n",
      "2022-02-07 14:18:10,675 - rank - INFO - Rank 0 -- move_people -- 0.4989199989995541\n",
      "2022-02-07 14:18:10,676 - rank - INFO - Rank 0 -- move_people_waiting -- 4.779998562298715e-06\n",
      "2022-02-07 14:18:10,676 - activity_manager - INFO - CMS: People COMS for rank 0/1 - 2.913000571425073e-06,2.86102294921875e-06 - 2020-06-23 08:00:00\n",
      "2022-02-07 14:18:10,682 - simulator - INFO - Info for rank 0, Date = 2020-06-23 08:00:00, number of deaths =  8, number of infected = 15661\n",
      "2022-02-07 14:18:17,319 - rank - INFO - Rank 0 -- interaction -- 6.642113473999416\n",
      "2022-02-07 14:18:17,334 - epidemiology - INFO - CMS: Infection COMS-v2 for rank 0/1(2)0.00017443400065531023,0.0001742839813232422 - 2020-06-23 08:00:00\n",
      "2022-02-07 14:18:17,425 - rank - INFO - Rank 0 -- interaction_waiting -- 4.207999154459685e-06\n",
      "2022-02-07 14:18:17,436 - simulator - INFO - CMS: Timestep for rank 0/1 - 0.010484315998837701,0.010484695434570312 - 2020-06-23 08:00:00\n",
      "\n",
      "2022-02-07 14:18:17,437 - rank - INFO - Next timestep\n",
      "2022-02-07 14:18:17,438 - simulator - INFO - ==================== timestep ====================\n",
      "2022-02-07 14:18:17,608 - rank - INFO - Rank 0 -- move_people -- 0.1691920619996381\n",
      "2022-02-07 14:18:17,608 - rank - INFO - Rank 0 -- move_people_waiting -- 6.451000444940291e-06\n",
      "2022-02-07 14:18:17,609 - activity_manager - INFO - CMS: People COMS for rank 0/1 - 3.1039999157655984e-06,2.6226043701171875e-06 - 2020-06-23 10:00:00\n",
      "2022-02-07 14:18:17,614 - simulator - INFO - Info for rank 0, Date = 2020-06-23 10:00:00, number of deaths =  8, number of infected = 15680\n",
      "2022-02-07 14:18:22,555 - rank - INFO - Rank 0 -- interaction -- 4.945814472001075\n",
      "2022-02-07 14:18:22,623 - epidemiology - INFO - CMS: Infection COMS-v2 for rank 0/1(2)0.00015455599896085914,0.00015401840209960938 - 2020-06-23 10:00:00\n",
      "2022-02-07 14:18:22,777 - rank - INFO - Rank 0 -- interaction_waiting -- 4.360999810160138e-06\n",
      "2022-02-07 14:18:22,787 - simulator - INFO - CMS: Timestep for rank 0/1 - 0.01017464899996412,0.010175228118896484 - 2020-06-23 10:00:00\n",
      "\n",
      "2022-02-07 14:18:22,789 - rank - INFO - Next timestep\n",
      "2022-02-07 14:18:22,790 - simulator - INFO - ==================== timestep ====================\n",
      "2022-02-07 14:18:22,951 - rank - INFO - Rank 0 -- move_people -- 0.15997562899974582\n",
      "2022-02-07 14:18:22,951 - rank - INFO - Rank 0 -- move_people_waiting -- 4.969000656274147e-06\n",
      "2022-02-07 14:18:22,952 - activity_manager - INFO - CMS: People COMS for rank 0/1 - 2.415999915683642e-06,2.384185791015625e-06 - 2020-06-24 00:00:00\n",
      "2022-02-07 14:18:22,958 - simulator - INFO - Info for rank 0, Date = 2020-06-24 00:00:00, number of deaths =  8, number of infected = 15764\n",
      "2022-02-07 14:18:27,758 - rank - INFO - Rank 0 -- interaction -- 4.806273075000718\n",
      "2022-02-07 14:18:27,772 - epidemiology - INFO - CMS: Infection COMS-v2 for rank 0/1(2)0.00021209999977145344,0.00021219253540039062 - 2020-06-24 00:00:00\n",
      "2022-02-07 14:18:27,944 - rank - INFO - Rank 0 -- interaction_waiting -- 5.920999683439732e-06\n",
      "2022-02-07 14:18:27,957 - simulator - INFO - CMS: Timestep for rank 0/1 - 0.012651463999645784,0.012651681900024414 - 2020-06-24 00:00:00\n",
      "\n",
      "2022-02-07 14:18:27,958 - rank - INFO - Next timestep\n",
      "2022-02-07 14:18:27,959 - simulator - INFO - ==================== timestep ====================\n",
      "2022-02-07 14:18:28,418 - rank - INFO - Rank 0 -- move_people -- 0.45828759299911326\n",
      "2022-02-07 14:18:28,418 - rank - INFO - Rank 0 -- move_people_waiting -- 3.1529998523183167e-06\n",
      "2022-02-07 14:18:28,419 - activity_manager - INFO - CMS: People COMS for rank 0/1 - 2.7050009521190077e-06,2.86102294921875e-06 - 2020-06-24 02:00:00\n",
      "2022-02-07 14:18:28,426 - simulator - INFO - Info for rank 0, Date = 2020-06-24 02:00:00, number of deaths =  8, number of infected = 15784\n",
      "2022-02-07 14:18:34,950 - rank - INFO - Rank 0 -- interaction -- 6.530252451999331\n",
      "2022-02-07 14:18:34,963 - epidemiology - INFO - CMS: Infection COMS-v2 for rank 0/1(2)0.00017202300114149693,0.000171661376953125 - 2020-06-24 02:00:00\n",
      "2022-02-07 14:18:35,118 - rank - INFO - Rank 0 -- interaction_waiting -- 4.626999725587666e-06\n",
      "2022-02-07 14:18:35,130 - simulator - INFO - CMS: Timestep for rank 0/1 - 0.011597320999499061,0.011597394943237305 - 2020-06-24 02:00:00\n",
      "\n",
      "2022-02-07 14:18:35,131 - rank - INFO - Next timestep\n",
      "2022-02-07 14:18:35,132 - simulator - INFO - ==================== timestep ====================\n",
      "2022-02-07 14:18:35,587 - rank - INFO - Rank 0 -- move_people -- 0.4543030770000769\n",
      "2022-02-07 14:18:35,588 - rank - INFO - Rank 0 -- move_people_waiting -- 5.116999091114849e-06\n",
      "2022-02-07 14:18:35,588 - activity_manager - INFO - CMS: People COMS for rank 0/1 - 2.875998688978143e-06,2.384185791015625e-06 - 2020-06-24 04:00:00\n",
      "2022-02-07 14:18:35,593 - simulator - INFO - Info for rank 0, Date = 2020-06-24 04:00:00, number of deaths =  8, number of infected = 15801\n",
      "2022-02-07 14:18:42,266 - rank - INFO - Rank 0 -- interaction -- 6.677169357000821\n",
      "2022-02-07 14:18:42,281 - epidemiology - INFO - CMS: Infection COMS-v2 for rank 0/1(2)0.0003465650006546639,0.0003464221954345703 - 2020-06-24 04:00:00\n",
      "2022-02-07 14:18:42,442 - rank - INFO - Rank 0 -- interaction_waiting -- 4.923998858430423e-06\n",
      "2022-02-07 14:18:42,452 - simulator - INFO - CMS: Timestep for rank 0/1 - 0.009846019000178785,0.00984644889831543 - 2020-06-24 04:00:00\n",
      "\n",
      "2022-02-07 14:18:42,454 - rank - INFO - Next timestep\n",
      "2022-02-07 14:18:42,454 - simulator - INFO - ==================== timestep ====================\n",
      "2022-02-07 14:18:42,963 - rank - INFO - Rank 0 -- move_people -- 0.5077342879994831\n",
      "2022-02-07 14:18:42,963 - rank - INFO - Rank 0 -- move_people_waiting -- 5.330000931280665e-06\n",
      "2022-02-07 14:18:42,963 - activity_manager - INFO - CMS: People COMS for rank 0/1 - 2.508999386918731e-06,2.1457672119140625e-06 - 2020-06-24 06:00:00\n",
      "2022-02-07 14:18:42,968 - simulator - INFO - Info for rank 0, Date = 2020-06-24 06:00:00, number of deaths =  8, number of infected = 15823\n"
     ]
    },
    {
     "name": "stdout",
     "output_type": "stream",
     "text": [
      "2022-02-07 14:18:49,742 - rank - INFO - Rank 0 -- interaction -- 6.7786000539999804\n",
      "2022-02-07 14:18:49,762 - epidemiology - INFO - CMS: Infection COMS-v2 for rank 0/1(2)0.00034932000016851816,0.00034928321838378906 - 2020-06-24 06:00:00\n",
      "2022-02-07 14:18:49,853 - rank - INFO - Rank 0 -- interaction_waiting -- 4.73000000056345e-06\n",
      "2022-02-07 14:18:49,862 - simulator - INFO - CMS: Timestep for rank 0/1 - 0.00924313500036078,0.009243965148925781 - 2020-06-24 06:00:00\n",
      "\n",
      "2022-02-07 14:18:49,864 - rank - INFO - Next timestep\n",
      "2022-02-07 14:18:49,864 - simulator - INFO - ==================== timestep ====================\n",
      "2022-02-07 14:18:50,390 - rank - INFO - Rank 0 -- move_people -- 0.5246775849991536\n",
      "2022-02-07 14:18:50,390 - rank - INFO - Rank 0 -- move_people_waiting -- 5.23999915458262e-06\n",
      "2022-02-07 14:18:50,390 - activity_manager - INFO - CMS: People COMS for rank 0/1 - 2.3000011424301192e-06,2.1457672119140625e-06 - 2020-06-24 08:00:00\n",
      "2022-02-07 14:18:50,396 - simulator - INFO - Info for rank 0, Date = 2020-06-24 08:00:00, number of deaths =  8, number of infected = 15860\n",
      "2022-02-07 14:18:56,987 - rank - INFO - Rank 0 -- interaction -- 6.596477896000579\n",
      "2022-02-07 14:18:57,000 - epidemiology - INFO - CMS: Infection COMS-v2 for rank 0/1(2)0.0003379930003575282,0.0003376007080078125 - 2020-06-24 08:00:00\n",
      "2022-02-07 14:18:57,097 - rank - INFO - Rank 0 -- interaction_waiting -- 4.165000063949265e-06\n",
      "2022-02-07 14:18:57,106 - simulator - INFO - CMS: Timestep for rank 0/1 - 0.009616571000151453,0.009617090225219727 - 2020-06-24 08:00:00\n",
      "\n",
      "2022-02-07 14:18:57,108 - rank - INFO - Next timestep\n",
      "2022-02-07 14:18:57,109 - simulator - INFO - ==================== timestep ====================\n",
      "2022-02-07 14:18:57,266 - rank - INFO - Rank 0 -- move_people -- 0.15646477399968717\n",
      "2022-02-07 14:18:57,266 - rank - INFO - Rank 0 -- move_people_waiting -- 5.08499942952767e-06\n",
      "2022-02-07 14:18:57,267 - activity_manager - INFO - CMS: People COMS for rank 0/1 - 2.322000000276603e-06,2.1457672119140625e-06 - 2020-06-24 10:00:00\n",
      "2022-02-07 14:18:57,272 - simulator - INFO - Info for rank 0, Date = 2020-06-24 10:00:00, number of deaths =  8, number of infected = 15861\n",
      "2022-02-07 14:19:02,159 - rank - INFO - Rank 0 -- interaction -- 4.8921481580000545\n",
      "2022-02-07 14:19:02,231 - epidemiology - INFO - CMS: Infection COMS-v2 for rank 0/1(2)0.0002065799999400042,0.00020647048950195312 - 2020-06-24 10:00:00\n",
      "2022-02-07 14:19:02,328 - rank - INFO - Rank 0 -- interaction_waiting -- 4.5960005081724375e-06\n",
      "2022-02-07 14:19:02,337 - simulator - INFO - CMS: Timestep for rank 0/1 - 0.009323261001554783,0.009323596954345703 - 2020-06-24 10:00:00\n",
      "\n",
      "2022-02-07 14:19:02,339 - rank - INFO - Next timestep\n",
      "2022-02-07 14:19:02,339 - simulator - INFO - ==================== timestep ====================\n",
      "2022-02-07 14:19:02,495 - rank - INFO - Rank 0 -- move_people -- 0.15532800799883262\n",
      "2022-02-07 14:19:02,496 - rank - INFO - Rank 0 -- move_people_waiting -- 5.2780014812015e-06\n",
      "2022-02-07 14:19:02,496 - activity_manager - INFO - CMS: People COMS for rank 0/1 - 3.459001163719222e-06,3.337860107421875e-06 - 2020-06-25 00:00:00\n",
      "2022-02-07 14:19:02,503 - simulator - INFO - Info for rank 0, Date = 2020-06-25 00:00:00, number of deaths =  8, number of infected = 15910\n",
      "2022-02-07 14:19:07,493 - rank - INFO - Rank 0 -- interaction -- 4.9961433640000905\n",
      "2022-02-07 14:19:07,507 - epidemiology - INFO - CMS: Infection COMS-v2 for rank 0/1(2)0.00034943900027428754,0.0003485679626464844 - 2020-06-25 00:00:00\n",
      "2022-02-07 14:19:07,597 - rank - INFO - Rank 0 -- interaction_waiting -- 4.090001311851665e-06\n",
      "2022-02-07 14:19:07,606 - simulator - INFO - CMS: Timestep for rank 0/1 - 0.009057090001078905,0.00905752182006836 - 2020-06-25 00:00:00\n",
      "\n",
      "2022-02-07 14:19:07,607 - rank - INFO - Next timestep\n",
      "2022-02-07 14:19:07,608 - simulator - INFO - ==================== timestep ====================\n",
      "2022-02-07 14:19:08,058 - rank - INFO - Rank 0 -- move_people -- 0.44948526400003175\n",
      "2022-02-07 14:19:08,058 - rank - INFO - Rank 0 -- move_people_waiting -- 5.6560002121841535e-06\n",
      "2022-02-07 14:19:08,059 - activity_manager - INFO - CMS: People COMS for rank 0/1 - 2.9359998734435067e-06,2.6226043701171875e-06 - 2020-06-25 02:00:00\n",
      "2022-02-07 14:19:08,067 - simulator - INFO - Info for rank 0, Date = 2020-06-25 02:00:00, number of deaths =  8, number of infected = 15916\n",
      "2022-02-07 14:19:14,633 - rank - INFO - Rank 0 -- interaction -- 6.5736659669983055\n",
      "2022-02-07 14:19:14,643 - epidemiology - INFO - CMS: Infection COMS-v2 for rank 0/1(2)0.00019701199926203117,0.0001971721649169922 - 2020-06-25 02:00:00\n",
      "2022-02-07 14:19:14,737 - rank - INFO - Rank 0 -- interaction_waiting -- 4.644000000553206e-06\n",
      "2022-02-07 14:19:14,746 - simulator - INFO - CMS: Timestep for rank 0/1 - 0.009275529000660754,0.009276151657104492 - 2020-06-25 02:00:00\n",
      "\n",
      "2022-02-07 14:19:14,748 - rank - INFO - Next timestep\n",
      "2022-02-07 14:19:14,748 - simulator - INFO - ==================== timestep ====================\n",
      "2022-02-07 14:19:15,263 - rank - INFO - Rank 0 -- move_people -- 0.5139483050006675\n",
      "2022-02-07 14:19:15,263 - rank - INFO - Rank 0 -- move_people_waiting -- 5.795000106445514e-06\n",
      "2022-02-07 14:19:15,264 - activity_manager - INFO - CMS: People COMS for rank 0/1 - 2.30699879466556e-06,2.1457672119140625e-06 - 2020-06-25 04:00:00\n",
      "2022-02-07 14:19:15,268 - simulator - INFO - Info for rank 0, Date = 2020-06-25 04:00:00, number of deaths =  8, number of infected = 15925\n",
      "2022-02-07 14:19:22,087 - rank - INFO - Rank 0 -- interaction -- 6.823316985999554\n",
      "2022-02-07 14:19:22,104 - epidemiology - INFO - CMS: Infection COMS-v2 for rank 0/1(2)0.00031591299921274185,0.00031566619873046875 - 2020-06-25 04:00:00\n",
      "2022-02-07 14:19:22,197 - rank - INFO - Rank 0 -- interaction_waiting -- 4.154000635026023e-06\n",
      "2022-02-07 14:19:22,206 - simulator - INFO - CMS: Timestep for rank 0/1 - 0.009185214999888558,0.009185791015625 - 2020-06-25 04:00:00\n",
      "\n",
      "2022-02-07 14:19:22,208 - rank - INFO - Next timestep\n",
      "2022-02-07 14:19:22,209 - simulator - INFO - ==================== timestep ====================\n",
      "2022-02-07 14:19:22,731 - rank - INFO - Rank 0 -- move_people -- 0.5220060800002102\n",
      "2022-02-07 14:19:22,732 - rank - INFO - Rank 0 -- move_people_waiting -- 4.893001460004598e-06\n",
      "2022-02-07 14:19:22,733 - activity_manager - INFO - CMS: People COMS for rank 0/1 - 3.1509989639744163e-06,2.6226043701171875e-06 - 2020-06-25 06:00:00\n",
      "2022-02-07 14:19:22,741 - simulator - INFO - Info for rank 0, Date = 2020-06-25 06:00:00, number of deaths =  8, number of infected = 15949\n",
      "2022-02-07 14:19:29,430 - rank - INFO - Rank 0 -- interaction -- 6.696476926999821\n",
      "2022-02-07 14:19:29,442 - epidemiology - INFO - CMS: Infection COMS-v2 for rank 0/1(2)0.0003519750007399125,0.00035190582275390625 - 2020-06-25 06:00:00\n",
      "2022-02-07 14:19:29,537 - rank - INFO - Rank 0 -- interaction_waiting -- 4.438001269591041e-06\n",
      "2022-02-07 14:19:29,548 - simulator - INFO - CMS: Timestep for rank 0/1 - 0.011075586000515614,0.011076211929321289 - 2020-06-25 06:00:00\n",
      "\n",
      "2022-02-07 14:19:29,550 - rank - INFO - Next timestep\n",
      "2022-02-07 14:19:29,551 - simulator - INFO - ==================== timestep ====================\n",
      "2022-02-07 14:19:30,010 - rank - INFO - Rank 0 -- move_people -- 0.45809607000046526\n",
      "2022-02-07 14:19:30,010 - rank - INFO - Rank 0 -- move_people_waiting -- 4.829000317840837e-06\n",
      "2022-02-07 14:19:30,011 - activity_manager - INFO - CMS: People COMS for rank 0/1 - 2.598999344627373e-06,2.384185791015625e-06 - 2020-06-25 08:00:00\n",
      "2022-02-07 14:19:30,016 - simulator - INFO - Info for rank 0, Date = 2020-06-25 08:00:00, number of deaths =  8, number of infected = 15959\n",
      "2022-02-07 14:19:36,625 - rank - INFO - Rank 0 -- interaction -- 6.614339962001395\n",
      "2022-02-07 14:19:36,639 - epidemiology - INFO - CMS: Infection COMS-v2 for rank 0/1(2)0.0003427949995966628,0.00034236907958984375 - 2020-06-25 08:00:00\n",
      "2022-02-07 14:19:36,805 - rank - INFO - Rank 0 -- interaction_waiting -- 2.932399911514949e-05\n",
      "2022-02-07 14:19:36,819 - simulator - INFO - CMS: Timestep for rank 0/1 - 0.014075477000005776,0.014075279235839844 - 2020-06-25 08:00:00\n",
      "\n",
      "2022-02-07 14:19:36,820 - rank - INFO - Next timestep\n",
      "2022-02-07 14:19:36,821 - simulator - INFO - ==================== timestep ====================\n"
     ]
    },
    {
     "name": "stdout",
     "output_type": "stream",
     "text": [
      "2022-02-07 14:19:36,973 - rank - INFO - Rank 0 -- move_people -- 0.1508593300004577\n",
      "2022-02-07 14:19:36,973 - rank - INFO - Rank 0 -- move_people_waiting -- 5.069001417723484e-06\n",
      "2022-02-07 14:19:36,974 - activity_manager - INFO - CMS: People COMS for rank 0/1 - 2.8329995984677225e-06,2.86102294921875e-06 - 2020-06-25 10:00:00\n",
      "2022-02-07 14:19:36,979 - simulator - INFO - Info for rank 0, Date = 2020-06-25 10:00:00, number of deaths =  8, number of infected = 15973\n",
      "2022-02-07 14:19:42,087 - rank - INFO - Rank 0 -- interaction -- 5.112640080000347\n",
      "2022-02-07 14:19:42,145 - epidemiology - INFO - CMS: Infection COMS-v2 for rank 0/1(2)0.00016106600014609285,0.0001609325408935547 - 2020-06-25 10:00:00\n",
      "2022-02-07 14:19:42,233 - rank - INFO - Rank 0 -- interaction_waiting -- 4.277000698493794e-06\n",
      "2022-02-07 14:19:42,242 - simulator - INFO - CMS: Timestep for rank 0/1 - 0.009035311000843649,0.009035587310791016 - 2020-06-25 10:00:00\n",
      "\n",
      "2022-02-07 14:19:42,244 - rank - INFO - Next timestep\n",
      "2022-02-07 14:19:42,245 - simulator - INFO - ==================== timestep ====================\n",
      "2022-02-07 14:19:42,397 - rank - INFO - Rank 0 -- move_people -- 0.15126856799906818\n",
      "2022-02-07 14:19:42,397 - rank - INFO - Rank 0 -- move_people_waiting -- 4.902000000583939e-06\n",
      "2022-02-07 14:19:42,398 - activity_manager - INFO - CMS: People COMS for rank 0/1 - 2.812999809975736e-06,2.6226043701171875e-06 - 2020-06-26 00:00:00\n",
      "2022-02-07 14:19:42,404 - simulator - INFO - Info for rank 0, Date = 2020-06-26 00:00:00, number of deaths =  9, number of infected = 15945\n",
      "2022-02-07 14:19:47,397 - rank - INFO - Rank 0 -- interaction -- 4.99921765200088\n",
      "2022-02-07 14:19:47,412 - epidemiology - INFO - CMS: Infection COMS-v2 for rank 0/1(2)0.00031366199982585385,0.00031375885009765625 - 2020-06-26 00:00:00\n",
      "2022-02-07 14:19:47,507 - rank - INFO - Rank 0 -- interaction_waiting -- 4.446999810170382e-06\n",
      "2022-02-07 14:19:47,516 - simulator - INFO - CMS: Timestep for rank 0/1 - 0.009095130000787321,0.009095907211303711 - 2020-06-26 00:00:00\n",
      "\n",
      "2022-02-07 14:19:47,517 - rank - INFO - Next timestep\n",
      "2022-02-07 14:19:47,518 - simulator - INFO - ==================== timestep ====================\n",
      "2022-02-07 14:19:47,969 - rank - INFO - Rank 0 -- move_people -- 0.451033372000893\n",
      "2022-02-07 14:19:47,970 - rank - INFO - Rank 0 -- move_people_waiting -- 4.307001290726475e-06\n",
      "2022-02-07 14:19:47,970 - activity_manager - INFO - CMS: People COMS for rank 0/1 - 2.7140013116877526e-06,2.384185791015625e-06 - 2020-06-26 02:00:00\n",
      "2022-02-07 14:19:47,975 - simulator - INFO - Info for rank 0, Date = 2020-06-26 02:00:00, number of deaths =  9, number of infected = 15952\n",
      "2022-02-07 14:19:54,498 - rank - INFO - Rank 0 -- interaction -- 6.527413886999057\n",
      "2022-02-07 14:19:54,509 - epidemiology - INFO - CMS: Infection COMS-v2 for rank 0/1(2)0.0003894599994964665,0.00038909912109375 - 2020-06-26 02:00:00\n",
      "2022-02-07 14:19:54,602 - rank - INFO - Rank 0 -- interaction_waiting -- 3.913999535143375e-06\n",
      "2022-02-07 14:19:54,612 - simulator - INFO - CMS: Timestep for rank 0/1 - 0.009366706000946579,0.00936746597290039 - 2020-06-26 02:00:00\n",
      "\n",
      "2022-02-07 14:19:54,613 - rank - INFO - Next timestep\n",
      "2022-02-07 14:19:54,614 - simulator - INFO - ==================== timestep ====================\n",
      "2022-02-07 14:19:55,066 - rank - INFO - Rank 0 -- move_people -- 0.4509110649996728\n",
      "2022-02-07 14:19:55,066 - rank - INFO - Rank 0 -- move_people_waiting -- 4.214000000501983e-06\n",
      "2022-02-07 14:19:55,067 - activity_manager - INFO - CMS: People COMS for rank 0/1 - 3.5150005714967847e-06,3.337860107421875e-06 - 2020-06-26 04:00:00\n",
      "2022-02-07 14:19:55,072 - simulator - INFO - Info for rank 0, Date = 2020-06-26 04:00:00, number of deaths =  9, number of infected = 15953\n",
      "2022-02-07 14:20:01,740 - rank - INFO - Rank 0 -- interaction -- 6.672853795000265\n",
      "2022-02-07 14:20:01,752 - epidemiology - INFO - CMS: Infection COMS-v2 for rank 0/1(2)0.00037020099989604205,0.0003695487976074219 - 2020-06-26 04:00:00\n",
      "2022-02-07 14:20:01,848 - rank - INFO - Rank 0 -- interaction_waiting -- 4.014000296592712e-06\n",
      "2022-02-07 14:20:01,858 - simulator - INFO - CMS: Timestep for rank 0/1 - 0.009375573999932385,0.009375810623168945 - 2020-06-26 04:00:00\n",
      "\n",
      "2022-02-07 14:20:01,859 - rank - INFO - Next timestep\n",
      "2022-02-07 14:20:01,860 - simulator - INFO - ==================== timestep ====================\n",
      "2022-02-07 14:20:02,311 - rank - INFO - Rank 0 -- move_people -- 0.4486001009991014\n",
      "2022-02-07 14:20:02,311 - rank - INFO - Rank 0 -- move_people_waiting -- 4.366000212030485e-06\n",
      "2022-02-07 14:20:02,311 - activity_manager - INFO - CMS: People COMS for rank 0/1 - 2.8550002753036097e-06,2.384185791015625e-06 - 2020-06-26 06:00:00\n",
      "2022-02-07 14:20:02,317 - simulator - INFO - Info for rank 0, Date = 2020-06-26 06:00:00, number of deaths =  9, number of infected = 15953\n",
      "2022-02-07 14:20:08,990 - rank - INFO - Rank 0 -- interaction -- 6.6779029200006335\n",
      "2022-02-07 14:20:09,001 - epidemiology - INFO - CMS: Infection COMS-v2 for rank 0/1(2)0.00016342799972335342,0.00016307830810546875 - 2020-06-26 06:00:00\n",
      "2022-02-07 14:20:09,094 - rank - INFO - Rank 0 -- interaction_waiting -- 4.896000973531045e-06\n",
      "2022-02-07 14:20:09,103 - simulator - INFO - CMS: Timestep for rank 0/1 - 0.009336095999969984,0.009335994720458984 - 2020-06-26 06:00:00\n",
      "\n",
      "2022-02-07 14:20:09,105 - rank - INFO - Next timestep\n",
      "2022-02-07 14:20:09,105 - simulator - INFO - ==================== timestep ====================\n",
      "2022-02-07 14:20:09,553 - rank - INFO - Rank 0 -- move_people -- 0.4476846090001345\n",
      "2022-02-07 14:20:09,554 - rank - INFO - Rank 0 -- move_people_waiting -- 4.888999683316797e-06\n",
      "2022-02-07 14:20:09,554 - activity_manager - INFO - CMS: People COMS for rank 0/1 - 3.6519995774142444e-06,3.5762786865234375e-06 - 2020-06-26 08:00:00\n",
      "2022-02-07 14:20:09,562 - simulator - INFO - Info for rank 0, Date = 2020-06-26 08:00:00, number of deaths =  9, number of infected = 15960\n",
      "2022-02-07 14:20:16,266 - rank - INFO - Rank 0 -- interaction -- 6.711344323999583\n",
      "2022-02-07 14:20:16,280 - epidemiology - INFO - CMS: Infection COMS-v2 for rank 0/1(2)0.00015836300008231774,0.00015807151794433594 - 2020-06-26 08:00:00\n",
      "2022-02-07 14:20:16,371 - rank - INFO - Rank 0 -- interaction_waiting -- 4.342999091022648e-06\n",
      "2022-02-07 14:20:16,381 - simulator - INFO - CMS: Timestep for rank 0/1 - 0.009129408999797306,0.009129524230957031 - 2020-06-26 08:00:00\n",
      "\n",
      "2022-02-07 14:20:16,382 - rank - INFO - Next timestep\n",
      "2022-02-07 14:20:16,382 - simulator - INFO - ==================== timestep ====================\n",
      "2022-02-07 14:20:16,535 - rank - INFO - Rank 0 -- move_people -- 0.1519430320004176\n",
      "2022-02-07 14:20:16,536 - rank - INFO - Rank 0 -- move_people_waiting -- 4.313998942961916e-06\n",
      "2022-02-07 14:20:16,536 - activity_manager - INFO - CMS: People COMS for rank 0/1 - 2.472999767633155e-06,2.6226043701171875e-06 - 2020-06-26 10:00:00\n",
      "2022-02-07 14:20:16,541 - simulator - INFO - Info for rank 0, Date = 2020-06-26 10:00:00, number of deaths =  9, number of infected = 15981\n",
      "2022-02-07 14:20:21,574 - rank - INFO - Rank 0 -- interaction -- 5.037349189000452\n",
      "2022-02-07 14:20:21,639 - epidemiology - INFO - CMS: Infection COMS-v2 for rank 0/1(2)0.00036672799978987314,0.0003669261932373047 - 2020-06-26 10:00:00\n",
      "2022-02-07 14:20:21,732 - rank - INFO - Rank 0 -- interaction_waiting -- 4.911998985335231e-06\n",
      "2022-02-07 14:20:21,741 - simulator - INFO - CMS: Timestep for rank 0/1 - 0.009139674999460112,0.009140491485595703 - 2020-06-26 10:00:00\n",
      "\n",
      "2022-02-07 14:20:21,742 - rank - INFO - Next timestep\n",
      "2022-02-07 14:20:21,744 - simulator - INFO - ==================== timestep ====================\n",
      "2022-02-07 14:20:21,903 - rank - INFO - Rank 0 -- move_people -- 0.15879860099994403\n",
      "2022-02-07 14:20:21,904 - rank - INFO - Rank 0 -- move_people_waiting -- 4.713001544587314e-06\n",
      "2022-02-07 14:20:21,904 - activity_manager - INFO - CMS: People COMS for rank 0/1 - 2.5529989216011018e-06,2.1457672119140625e-06 - 2020-06-27 00:00:00\n",
      "2022-02-07 14:20:21,909 - simulator - INFO - Info for rank 0, Date = 2020-06-27 00:00:00, number of deaths =  9, number of infected = 15901\n",
      "2022-02-07 14:20:26,794 - rank - INFO - Rank 0 -- interaction -- 4.889816836001046\n",
      "2022-02-07 14:20:26,806 - epidemiology - INFO - CMS: Infection COMS-v2 for rank 0/1(2)0.00019867899936798494,0.0001983642578125 - 2020-06-27 00:00:00\n"
     ]
    },
    {
     "name": "stdout",
     "output_type": "stream",
     "text": [
      "2022-02-07 14:20:26,964 - rank - INFO - Rank 0 -- interaction_waiting -- 7.000999175943434e-06\n",
      "2022-02-07 14:20:26,979 - simulator - INFO - CMS: Timestep for rank 0/1 - 0.014738601999852108,0.01473855972290039 - 2020-06-27 00:00:00\n",
      "\n",
      "2022-02-07 14:20:26,980 - rank - INFO - Next timestep\n",
      "2022-02-07 14:20:26,981 - simulator - INFO - ==================== timestep ====================\n",
      "2022-02-07 14:20:27,445 - rank - INFO - Rank 0 -- move_people -- 0.46381504199962365\n",
      "2022-02-07 14:20:27,446 - rank - INFO - Rank 0 -- move_people_waiting -- 4.7310004447354e-06\n",
      "2022-02-07 14:20:27,446 - activity_manager - INFO - CMS: People COMS for rank 0/1 - 2.8409995138645172e-06,2.6226043701171875e-06 - 2020-06-27 03:00:00\n",
      "2022-02-07 14:20:27,453 - simulator - INFO - Info for rank 0, Date = 2020-06-27 03:00:00, number of deaths =  9, number of infected = 15871\n",
      "2022-02-07 14:20:33,924 - rank - INFO - Rank 0 -- interaction -- 6.477083850000781\n",
      "2022-02-07 14:20:33,936 - epidemiology - INFO - CMS: Infection COMS-v2 for rank 0/1(2)0.0003237750006519491,0.0003235340118408203 - 2020-06-27 03:00:00\n",
      "2022-02-07 14:20:34,026 - rank - INFO - Rank 0 -- interaction_waiting -- 4.252999133314006e-06\n",
      "2022-02-07 14:20:34,035 - simulator - INFO - CMS: Timestep for rank 0/1 - 0.009218839999448392,0.00921940803527832 - 2020-06-27 03:00:00\n",
      "\n",
      "2022-02-07 14:20:34,037 - rank - INFO - Next timestep\n",
      "2022-02-07 14:20:34,037 - simulator - INFO - ==================== timestep ====================\n",
      "2022-02-07 14:20:34,552 - rank - INFO - Rank 0 -- move_people -- 0.5140888099995209\n",
      "2022-02-07 14:20:34,553 - rank - INFO - Rank 0 -- move_people_waiting -- 6.69899964123033e-06\n",
      "2022-02-07 14:20:34,553 - activity_manager - INFO - CMS: People COMS for rank 0/1 - 3.914001354132779e-06,3.5762786865234375e-06 - 2020-06-27 05:00:00\n",
      "2022-02-07 14:20:34,559 - simulator - INFO - Info for rank 0, Date = 2020-06-27 05:00:00, number of deaths =  9, number of infected = 15869\n",
      "2022-02-07 14:20:41,303 - rank - INFO - Rank 0 -- interaction -- 6.7498642500013375\n",
      "2022-02-07 14:20:41,313 - epidemiology - INFO - CMS: Infection COMS-v2 for rank 0/1(2)0.0001630709994060453,0.0001628398895263672 - 2020-06-27 05:00:00\n",
      "2022-02-07 14:20:41,403 - rank - INFO - Rank 0 -- interaction_waiting -- 4.352999894763343e-06\n",
      "2022-02-07 14:20:41,413 - simulator - INFO - CMS: Timestep for rank 0/1 - 0.009273374000258627,0.009274005889892578 - 2020-06-27 05:00:00\n",
      "\n",
      "2022-02-07 14:20:41,414 - rank - INFO - Next timestep\n",
      "2022-02-07 14:20:41,415 - simulator - INFO - ==================== timestep ====================\n",
      "2022-02-07 14:20:41,961 - rank - INFO - Rank 0 -- move_people -- 0.5451427970001532\n",
      "2022-02-07 14:20:41,961 - rank - INFO - Rank 0 -- move_people_waiting -- 5.436999344965443e-06\n",
      "2022-02-07 14:20:41,962 - activity_manager - INFO - CMS: People COMS for rank 0/1 - 3.9979986468097195e-06,3.814697265625e-06 - 2020-06-27 07:00:00\n",
      "2022-02-07 14:20:41,968 - simulator - INFO - Info for rank 0, Date = 2020-06-27 07:00:00, number of deaths =  9, number of infected = 15862\n",
      "2022-02-07 14:20:49,302 - rank - INFO - Rank 0 -- interaction -- 7.339652033000675\n",
      "2022-02-07 14:20:49,313 - epidemiology - INFO - CMS: Infection COMS-v2 for rank 0/1(2)0.00019836100000247825,0.0001983642578125 - 2020-06-27 07:00:00\n",
      "2022-02-07 14:20:49,403 - rank - INFO - Rank 0 -- interaction_waiting -- 3.817000106209889e-06\n",
      "2022-02-07 14:20:49,412 - simulator - INFO - CMS: Timestep for rank 0/1 - 0.009266502998798387,0.009267091751098633 - 2020-06-27 07:00:00\n",
      "\n",
      "2022-02-07 14:20:49,413 - rank - INFO - Next timestep\n",
      "2022-02-07 14:20:49,414 - simulator - INFO - ==================== timestep ====================\n",
      "2022-02-07 14:20:49,886 - rank - INFO - Rank 0 -- move_people -- 0.47161041400067916\n",
      "2022-02-07 14:20:49,887 - rank - INFO - Rank 0 -- move_people_waiting -- 5.5679993238300085e-06\n",
      "2022-02-07 14:20:49,887 - activity_manager - INFO - CMS: People COMS for rank 0/1 - 3.1380004656966776e-06,2.86102294921875e-06 - 2020-06-27 09:00:00\n",
      "2022-02-07 14:20:49,895 - simulator - INFO - Info for rank 0, Date = 2020-06-27 09:00:00, number of deaths =  9, number of infected = 15847\n",
      "2022-02-07 14:20:56,735 - rank - INFO - Rank 0 -- interaction -- 6.847131337000974\n",
      "2022-02-07 14:20:56,745 - epidemiology - INFO - CMS: Infection COMS-v2 for rank 0/1(2)0.00016607299949100707,0.00016498565673828125 - 2020-06-27 09:00:00\n",
      "2022-02-07 14:20:56,836 - rank - INFO - Rank 0 -- interaction_waiting -- 4.340001396485604e-06\n",
      "2022-02-07 14:20:56,847 - simulator - INFO - CMS: Timestep for rank 0/1 - 0.010605905999909737,0.01060628890991211 - 2020-06-27 09:00:00\n",
      "\n",
      "2022-02-07 14:20:56,849 - rank - INFO - Next timestep\n",
      "2022-02-07 14:20:56,850 - simulator - INFO - ==================== timestep ====================\n",
      "2022-02-07 14:20:56,999 - rank - INFO - Rank 0 -- move_people -- 0.14903923900055815\n",
      "2022-02-07 14:20:57,000 - rank - INFO - Rank 0 -- move_people_waiting -- 4.7310004447354e-06\n",
      "2022-02-07 14:20:57,000 - activity_manager - INFO - CMS: People COMS for rank 0/1 - 3.2820007618283853e-06,2.86102294921875e-06 - 2020-06-27 11:00:00\n",
      "2022-02-07 14:20:57,005 - simulator - INFO - Info for rank 0, Date = 2020-06-27 11:00:00, number of deaths =  9, number of infected = 15829\n",
      "2022-02-07 14:21:01,797 - rank - INFO - Rank 0 -- interaction -- 4.795896923998953\n",
      "2022-02-07 14:21:01,842 - epidemiology - INFO - CMS: Infection COMS-v2 for rank 0/1(2)0.0001556150000396883,0.00015544891357421875 - 2020-06-27 11:00:00\n",
      "2022-02-07 14:21:01,932 - rank - INFO - Rank 0 -- interaction_waiting -- 4.279998393030837e-06\n",
      "2022-02-07 14:21:01,941 - simulator - INFO - CMS: Timestep for rank 0/1 - 0.00930682699981844,0.009307384490966797 - 2020-06-27 11:00:00\n",
      "\n",
      "CPU times: user 23min 8s, sys: 40.1 s, total: 23min 48s\n",
      "Wall time: 22min 55s\n"
     ]
    }
   ],
   "source": [
    "%%time\n",
    "simulator.run()"
   ]
  },
  {
   "cell_type": "code",
   "execution_count": null,
   "metadata": {},
   "outputs": [],
   "source": []
  },
  {
   "cell_type": "markdown",
   "metadata": {},
   "source": [
    "# Getting the results"
   ]
  },
  {
   "cell_type": "markdown",
   "metadata": {},
   "source": [
    "All results are stored in a json file specified in the `record_path` when defining the recorder. This can be read in by passing the folder locations to the `RecordReader` class and results derived.\n",
    "\n",
    "Here we show some examples of the kind of analysis you can extract from the records."
   ]
  },
  {
   "cell_type": "code",
   "execution_count": 52,
   "metadata": {},
   "outputs": [],
   "source": [
    "import pandas as pd"
   ]
  },
  {
   "cell_type": "code",
   "execution_count": 53,
   "metadata": {},
   "outputs": [],
   "source": [
    "read = RecordReader(Results_Path)"
   ]
  },
  {
   "cell_type": "markdown",
   "metadata": {},
   "source": [
    "The regional summary gives you information at the regional (camp) level."
   ]
  },
  {
   "cell_type": "markdown",
   "metadata": {},
   "source": [
    "### Regional information"
   ]
  },
  {
   "cell_type": "code",
   "execution_count": 54,
   "metadata": {},
   "outputs": [
    {
     "data": {
      "text/html": [
       "<div>\n",
       "<style scoped>\n",
       "    .dataframe tbody tr th:only-of-type {\n",
       "        vertical-align: middle;\n",
       "    }\n",
       "\n",
       "    .dataframe tbody tr th {\n",
       "        vertical-align: top;\n",
       "    }\n",
       "\n",
       "    .dataframe thead th {\n",
       "        text-align: right;\n",
       "    }\n",
       "</style>\n",
       "<table border=\"1\" class=\"dataframe\">\n",
       "  <thead>\n",
       "    <tr style=\"text-align: right;\">\n",
       "      <th></th>\n",
       "      <th>region</th>\n",
       "      <th>current_infected</th>\n",
       "      <th>daily_infected</th>\n",
       "      <th>current_hospitalised</th>\n",
       "      <th>daily_hospitalised</th>\n",
       "      <th>current_intensive_care</th>\n",
       "      <th>daily_intensive_care</th>\n",
       "      <th>daily_hospital_deaths</th>\n",
       "      <th>daily_deaths</th>\n",
       "    </tr>\n",
       "    <tr>\n",
       "      <th>time_stamp</th>\n",
       "      <th></th>\n",
       "      <th></th>\n",
       "      <th></th>\n",
       "      <th></th>\n",
       "      <th></th>\n",
       "      <th></th>\n",
       "      <th></th>\n",
       "      <th></th>\n",
       "      <th></th>\n",
       "    </tr>\n",
       "  </thead>\n",
       "  <tbody>\n",
       "    <tr>\n",
       "      <th>2020-05-24</th>\n",
       "      <td>CXB-219</td>\n",
       "      <td>259.500000</td>\n",
       "      <td>286</td>\n",
       "      <td>0.0</td>\n",
       "      <td>0</td>\n",
       "      <td>0.0</td>\n",
       "      <td>0</td>\n",
       "      <td>0</td>\n",
       "      <td>0</td>\n",
       "    </tr>\n",
       "    <tr>\n",
       "      <th>2020-05-25</th>\n",
       "      <td>CXB-219</td>\n",
       "      <td>320.000000</td>\n",
       "      <td>90</td>\n",
       "      <td>0.0</td>\n",
       "      <td>0</td>\n",
       "      <td>0.0</td>\n",
       "      <td>0</td>\n",
       "      <td>0</td>\n",
       "      <td>0</td>\n",
       "    </tr>\n",
       "    <tr>\n",
       "      <th>2020-05-26</th>\n",
       "      <td>CXB-219</td>\n",
       "      <td>437.166667</td>\n",
       "      <td>150</td>\n",
       "      <td>0.0</td>\n",
       "      <td>0</td>\n",
       "      <td>0.0</td>\n",
       "      <td>0</td>\n",
       "      <td>0</td>\n",
       "      <td>0</td>\n",
       "    </tr>\n",
       "  </tbody>\n",
       "</table>\n",
       "</div>"
      ],
      "text/plain": [
       "             region  current_infected  daily_infected  current_hospitalised  \\\n",
       "time_stamp                                                                    \n",
       "2020-05-24  CXB-219        259.500000             286                   0.0   \n",
       "2020-05-25  CXB-219        320.000000              90                   0.0   \n",
       "2020-05-26  CXB-219        437.166667             150                   0.0   \n",
       "\n",
       "            daily_hospitalised  current_intensive_care  daily_intensive_care  \\\n",
       "time_stamp                                                                     \n",
       "2020-05-24                   0                     0.0                     0   \n",
       "2020-05-25                   0                     0.0                     0   \n",
       "2020-05-26                   0                     0.0                     0   \n",
       "\n",
       "            daily_hospital_deaths  daily_deaths  \n",
       "time_stamp                                       \n",
       "2020-05-24                      0             0  \n",
       "2020-05-25                      0             0  \n",
       "2020-05-26                      0             0  "
      ]
     },
     "execution_count": 54,
     "metadata": {},
     "output_type": "execute_result"
    }
   ],
   "source": [
    "read.regional_summary.head(3) # this is the equivalent of the summary.csv"
   ]
  },
  {
   "cell_type": "markdown",
   "metadata": {},
   "source": [
    "### Daily infections"
   ]
  },
  {
   "cell_type": "code",
   "execution_count": 55,
   "metadata": {},
   "outputs": [],
   "source": [
    "summary = read.regional_summary.reset_index()"
   ]
  },
  {
   "cell_type": "code",
   "execution_count": 56,
   "metadata": {},
   "outputs": [
    {
     "data": {
      "image/png": "[encoded data removed]",
      "text/plain": [
       "<Figure size 432x288 with 1 Axes>"
      ]
     },
     "metadata": {
      "needs_background": "light"
     },
     "output_type": "display_data"
    }
   ],
   "source": [
    "summary.groupby(['time_stamp']).sum().plot(y=['daily_infected'])\n",
    "plt.ylabel('Daily infections')\n",
    "plt.show()"
   ]
  },
  {
   "cell_type": "markdown",
   "metadata": {},
   "source": [
    "### Hospital and intensive care"
   ]
  },
  {
   "cell_type": "code",
   "execution_count": 57,
   "metadata": {},
   "outputs": [
    {
     "data": {
      "image/png": "[encoded data removed]",
      "text/plain": [
       "<Figure size 432x288 with 1 Axes>"
      ]
     },
     "metadata": {
      "needs_background": "light"
     },
     "output_type": "display_data"
    }
   ],
   "source": [
    "summary.groupby(['time_stamp']).sum().plot(y=['current_hospitalised', 'current_intensive_care'])\n",
    "plt.show()"
   ]
  },
  {
   "cell_type": "markdown",
   "metadata": {},
   "source": [
    "### Cumulative infections by age"
   ]
  },
  {
   "cell_type": "code",
   "execution_count": 58,
   "metadata": {},
   "outputs": [
    {
     "name": "stdout",
     "output_type": "stream",
     "text": [
      "2022-02-07 14:21:03,783 - june.records.records_reader - INFO - Loading infections table\n",
      "2022-02-07 14:21:03,818 - june.records.records_reader - INFO - Loading population table\n",
      "2022-02-07 14:21:03,864 - june.records.records_reader - INFO - Merging infection and population tables\n",
      "2022-02-07 14:21:03,875 - june.records.records_reader - INFO - Loading geography table\n",
      "2022-02-07 14:21:03,899 - june.records.records_reader - INFO - Mergeing infection and geography tables\n"
     ]
    }
   ],
   "source": [
    "infections_df = read.get_table_with_extras('infections',\n",
    "                                           'infected_ids')"
   ]
  },
  {
   "cell_type": "code",
   "execution_count": 59,
   "metadata": {},
   "outputs": [
    {
     "name": "stdout",
     "output_type": "stream",
     "text": [
      "2022-02-07 14:21:03,923 - june.records.records_reader - INFO - Loading deaths table\n",
      "2022-02-07 14:21:03,931 - june.records.records_reader - INFO - Loading population table\n",
      "2022-02-07 14:21:03,981 - june.records.records_reader - INFO - Merging infection and population tables\n",
      "2022-02-07 14:21:03,984 - june.records.records_reader - INFO - Loading geography table\n",
      "2022-02-07 14:21:04,009 - june.records.records_reader - INFO - Mergeing infection and geography tables\n"
     ]
    }
   ],
   "source": [
    "deaths_df = read.get_table_with_extras('deaths', \n",
    "                                       'dead_person_ids')"
   ]
  },
  {
   "cell_type": "code",
   "execution_count": 60,
   "metadata": {},
   "outputs": [],
   "source": [
    "age_bins = (0,20,60,100)"
   ]
  },
  {
   "cell_type": "code",
   "execution_count": 61,
   "metadata": {},
   "outputs": [],
   "source": [
    "infected_by_age = infections_df.groupby([pd.cut(infections_df['age'],\n",
    "            bins=age_bins), 'timestamp']).size()"
   ]
  },
  {
   "cell_type": "code",
   "execution_count": 62,
   "metadata": {},
   "outputs": [],
   "source": [
    "people_df = read.table_to_df('population')"
   ]
  },
  {
   "cell_type": "code",
   "execution_count": 63,
   "metadata": {},
   "outputs": [],
   "source": [
    "n_by_age = people_df.groupby(pd.cut(people_df['age'],\n",
    "            bins=age_bins)).size()"
   ]
  },
  {
   "cell_type": "code",
   "execution_count": 64,
   "metadata": {},
   "outputs": [
    {
     "data": {
      "text/plain": [
       "<matplotlib.legend.Legend at 0x7fae7cc20580>"
      ]
     },
     "execution_count": 64,
     "metadata": {},
     "output_type": "execute_result"
    },
    {
     "data": {
      "image/png": "[encoded data removed]",
      "text/plain": [
       "<Figure size 432x288 with 1 Axes>"
      ]
     },
     "metadata": {
      "needs_background": "light"
     },
     "output_type": "display_data"
    }
   ],
   "source": [
    "(100*infected_by_age/n_by_age).xs(10).cumsum().plot(label='0,20')\n",
    "(100*infected_by_age/n_by_age).xs(30).cumsum().plot(label='20,60')\n",
    "(100*infected_by_age/n_by_age).xs(70).cumsum().plot(label='60,100')\n",
    "plt.ylabel(\"% cumulative infected\")\n",
    "plt.legend()"
   ]
  },
  {
   "cell_type": "markdown",
   "metadata": {},
   "source": [
    "### Where people get infected"
   ]
  },
  {
   "cell_type": "code",
   "execution_count": 65,
   "metadata": {},
   "outputs": [],
   "source": [
    "locations_df = infections_df.groupby(['location_specs', \n",
    "                                'timestamp']).size()"
   ]
  },
  {
   "cell_type": "code",
   "execution_count": 66,
   "metadata": {},
   "outputs": [
    {
     "data": {
      "text/plain": [
       "<AxesSubplot:xlabel='timestamp'>"
      ]
     },
     "execution_count": 66,
     "metadata": {},
     "output_type": "execute_result"
    },
    {
     "data": {
      "image/png": "[encoded data removed]",
      "text/plain": [
       "<Figure size 432x288 with 1 Axes>"
      ]
     },
     "metadata": {
      "needs_background": "light"
     },
     "output_type": "display_data"
    }
   ],
   "source": [
    "locations_df.unstack(level=0).plot()"
   ]
  },
  {
   "cell_type": "code",
   "execution_count": 67,
   "metadata": {},
   "outputs": [
    {
     "data": {
      "text/plain": [
       "Text(0.5, 0, 'location')"
      ]
     },
     "execution_count": 67,
     "metadata": {},
     "output_type": "execute_result"
    },
    {
     "data": {
      "image/png": "[encoded data removed]",
      "text/plain": [
       "<Figure size 432x288 with 1 Axes>"
      ]
     },
     "metadata": {
      "needs_background": "light"
     },
     "output_type": "display_data"
    }
   ],
   "source": [
    "import matplotlib.ticker as mtick\n",
    "location_counts_df = locations_df.groupby('location_specs').size()\n",
    "location_counts_df = 100*location_counts_df / location_counts_df.sum()\n",
    "ax = location_counts_df.sort_values().plot.bar()\n",
    "ax.yaxis.set_major_formatter(mtick.PercentFormatter())\n",
    "plt.ylabel('Percentage of infections at location')\n",
    "plt.xlabel('location')"
   ]
  },
  {
   "cell_type": "code",
   "execution_count": 68,
   "metadata": {},
   "outputs": [
    {
     "name": "stdout",
     "output_type": "stream",
     "text": [
      "Loading from pkl...\n",
      "Loaded\n"
     ]
    }
   ],
   "source": [
    "import sys\n",
    "import importlib\n",
    "importlib.reload(sys.modules['june.tracker.tracker'])\n",
    "\n",
    "from june.tracker.tracker import Tracker\n",
    "\n",
    "\n",
    "#tracker = simulator.tracker\n",
    "\n",
    "tracker = Tracker.from_pickle(world, Results_Path / \"tracker.pkl\")\n",
    "tracker.pickle_path =  Results_Path\n",
    "\n",
    "tracker.contract_matrix(\"5yr\")\n",
    "tracker.contract_matrix(\"AC\", np.array([0,18,60]))\n",
    "tracker.contract_matrix(\"All\", np.array([0,100]))\n",
    "tracker.make_plots()"
   ]
  },
  {
   "cell_type": "code",
   "execution_count": null,
   "metadata": {},
   "outputs": [],
   "source": []
  },
  {
   "cell_type": "code",
   "execution_count": null,
   "metadata": {},
   "outputs": [],
   "source": []
  },
  {
   "cell_type": "code",
   "execution_count": null,
   "metadata": {},
   "outputs": [],
   "source": []
  },
  {
   "cell_type": "code",
   "execution_count": null,
   "metadata": {},
   "outputs": [],
   "source": []
  }
 ],
 "metadata": {
  "kernelspec": {
   "display_name": "Python 3 (ipykernel)",
   "language": "python",
   "name": "python3"
  },
  "language_info": {
   "codemirror_mode": {
    "name": "ipython",
    "version": 3
   },
   "file_extension": ".py",
   "mimetype": "text/x-python",
   "name": "python",
   "nbconvert_exporter": "python",
   "pygments_lexer": "ipython3",
   "version": "3.8.10"
  }
 },
 "nbformat": 4,
 "nbformat_minor": 4
}
