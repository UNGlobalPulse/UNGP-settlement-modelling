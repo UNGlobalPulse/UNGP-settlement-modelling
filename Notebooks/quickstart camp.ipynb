{
 "cells": [
  {
   "cell_type": "code",
   "execution_count": 1,
   "metadata": {},
   "outputs": [],
   "source": [
    "import warnings\n",
    "warnings.filterwarnings('ignore')"
   ]
  },
  {
   "cell_type": "code",
   "execution_count": 2,
   "metadata": {},
   "outputs": [],
   "source": [
    "import numpy as np\n",
    "import pandas as pd\n",
    "import time\n",
    "import matplotlib.pyplot as plt\n",
    "from datetime import datetime\n",
    "import sys\n",
    "import argparse\n",
    "from pathlib import Path"
   ]
  },
  {
   "cell_type": "code",
   "execution_count": 3,
   "metadata": {},
   "outputs": [
    {
     "name": "stderr",
     "output_type": "stream",
     "text": [
      "No --data argument given - defaulting to:\n",
      "/home/joseph/Documents/PhD/UN_Work/UNGP-settlement-modelling-private/data\n",
      "No --configs argument given - defaulting to:\n",
      "/home/joseph/Documents/PhD/UN_Work/JUNE-private/june/configs\n"
     ]
    },
    {
     "name": "stdout",
     "output_type": "stream",
     "text": [
      "2022-09-07 10:40:05,783 - camps.paths - WARNING - No --camp_data argument given - defaulting to:\n",
      "/home/joseph/Documents/PhD/UN_Work/UNGP-settlement-modelling-private/camp_data\n",
      "2022-09-07 10:40:05,784 - camps.paths - WARNING - No --configs_camps argument given - defaulting to:\n",
      "/home/joseph/Documents/PhD/UN_Work/UNGP-settlement-modelling-private/configs_camps\n"
     ]
    }
   ],
   "source": [
    "from june.geography import Geography\n",
    "from june.demography.demography import (\n",
    "    load_age_and_sex_generators_for_bins,\n",
    "    Demography,\n",
    "    Population,\n",
    "    load_comorbidity_data,\n",
    "    generate_comorbidity,\n",
    ")\n",
    "from june.paths import data_path, configs_path\n",
    "from june.epidemiology.epidemiology import Epidemiology\n",
    "from june.epidemiology.infection import ImmunitySetter\n",
    "from june.epidemiology.infection import Infection, HealthIndexGenerator, InfectionSelector, InfectionSelectors\n",
    "from june.epidemiology.infection_seed import InfectionSeed, InfectionSeeds\n",
    "from june.interaction import Interaction\n",
    "from june.groups import Hospital, Hospitals, Cemeteries\n",
    "from june.distributors import HospitalDistributor\n",
    "from june.hdf5_savers import generate_world_from_hdf5\n",
    "from june.policy import Policy, Policies\n",
    "from june.records import Record\n",
    "from june.simulator import Simulator\n",
    "from june.records import Record, RecordReader\n",
    "\n",
    "from camps.activity import CampActivityManager\n",
    "from camps.paths import camp_data_path, camp_configs_path\n",
    "from camps.world import World\n",
    "from camps.groups.leisure import generate_leisure_for_world, generate_leisure_for_config\n",
    "from camps.camp_creation import (\n",
    "    generate_empty_world,\n",
    "    populate_world,\n",
    "    distribute_people_to_households,\n",
    ")  # this is loaded from the ../camp_scripts folder\n",
    "\n",
    "from june.tracker.tracker import Tracker"
   ]
  },
  {
   "cell_type": "code",
   "execution_count": 4,
   "metadata": {},
   "outputs": [],
   "source": [
    "from camps.groups import PumpLatrines, PumpLatrineDistributor\n",
    "from camps.groups import DistributionCenters, DistributionCenterDistributor\n",
    "from camps.groups import Communals, CommunalDistributor\n",
    "from camps.groups import FemaleCommunals, FemaleCommunalDistributor\n",
    "from camps.groups import Religiouss, ReligiousDistributor\n",
    "from camps.groups import Shelter, Shelters, ShelterDistributor\n",
    "from camps.groups import IsolationUnit, IsolationUnits\n",
    "from camps.groups import LearningCenters\n",
    "from camps.distributors import LearningCenterDistributor\n",
    "from camps.groups import PlayGroups, PlayGroupDistributor\n",
    "from camps.groups import EVouchers, EVoucherDistributor\n",
    "from camps.groups import NFDistributionCenters, NFDistributionCenterDistributor\n",
    "from camps.groups import SheltersVisitsDistributor\n",
    "from camps.groups import InformalWorks, InformalWorkDistributor"
   ]
  },
  {
   "cell_type": "code",
   "execution_count": 5,
   "metadata": {},
   "outputs": [],
   "source": [
    "Results_Path = Path(\"results\")\n",
    "\n",
    "Config_File_Path = camp_configs_path / \"config_demo.yaml\"\n",
    "Interactions_File_Path = camp_configs_path / \"defaults/interaction/interaction_Survey.yaml\"\n",
    "Policies_File_Path = camp_configs_path / \"defaults/policy/simple_policy.yaml\"\n",
    "Hospitals_File_Path = camp_data_path / \"input/hospitals/hospitals.csv\"\n",
    "comorbidity_multipliers_path = camp_configs_path / \"defaults/comorbidities.yaml\"\n",
    "male_comorbidity_reference_prevalence_path = camp_data_path / \"input/demography/uk_male_comorbidities.csv\"\n",
    "female_comorbidity_reference_prevalence_path = camp_data_path / \"input/demography/uk_female_comorbidities.csv\""
   ]
  },
  {
   "cell_type": "markdown",
   "metadata": {},
   "source": [
    "## Initialize the world"
   ]
  },
  {
   "cell_type": "markdown",
   "metadata": {},
   "source": [
    "When we create the camp to be simulated, we call this the 'world'. The world is initialised after specifying which geographical regions you want to simulate. We can do this by using the `filter_key` argument in the `generate_empty_world` function. Cox's Bazar Expansion Site is made up of camps (which we call regions), UNHCR blocks (which we call super areas) and Mahjee blocks (which we call areas). These are the 3 heirarchical levels on which our model works. You can pass lists of the regions/super_areas/areas to the function here. Alternatively, by leaving the function empty you can generate the entire Cox's Bazar Expansion Site consisting of 112 super areas."
   ]
  },
  {
   "cell_type": "code",
   "execution_count": 6,
   "metadata": {},
   "outputs": [
    {
     "name": "stdout",
     "output_type": "stream",
     "text": [
      "2022-09-07 10:40:06,555 - june.geography.geography - INFO - There are 65 areas and 4 super_areas and 1 regions in the world.\n"
     ]
    }
   ],
   "source": [
    "# create empty world's geography\n",
    "world = generate_empty_world(filter_key = {\"region\" : [\"CXB-219\"]})"
   ]
  },
  {
   "cell_type": "code",
   "execution_count": 7,
   "metadata": {},
   "outputs": [],
   "source": [
    "# populate empty world\n",
    "populate_world(world)"
   ]
  },
  {
   "cell_type": "code",
   "execution_count": 8,
   "metadata": {},
   "outputs": [
    {
     "name": "stdout",
     "output_type": "stream",
     "text": [
      "Distributing 468 people to CXB-219-001\n",
      "Distributing 369 people to CXB-219-002\n",
      "Distributing 330 people to CXB-219-003\n",
      "Distributing 386 people to CXB-219-004\n",
      "Distributing 313 people to CXB-219-005\n",
      "Distributing 330 people to CXB-219-006\n",
      "Distributing 259 people to CXB-219-007\n",
      "Distributing 350 people to CXB-219-009\n",
      "Distributing 274 people to CXB-219-010\n",
      "Distributing 249 people to CXB-219-011\n",
      "Distributing 464 people to CXB-219-012\n",
      "Distributing 418 people to CXB-219-013\n",
      "Distributing 460 people to CXB-219-014\n",
      "Distributing 384 people to CXB-219-017\n",
      "Distributing 417 people to CXB-219-020\n",
      "Distributing 425 people to CXB-219-021\n",
      "Distributing 414 people to CXB-219-022\n",
      "Distributing 384 people to CXB-219-024\n",
      "Distributing 378 people to CXB-219-025\n",
      "Distributing 379 people to CXB-219-026\n",
      "Distributing 412 people to CXB-219-027\n",
      "Distributing 392 people to CXB-219-028\n",
      "Distributing 331 people to CXB-219-029\n",
      "Distributing 458 people to CXB-219-030\n",
      "Distributing 394 people to CXB-219-032\n",
      "Distributing 339 people to CXB-219-033\n",
      "Distributing 373 people to CXB-219-034\n",
      "Distributing 259 people to CXB-219-036\n",
      "Distributing 455 people to CXB-219-037\n",
      "Distributing 458 people to CXB-219-038\n",
      "Distributing 488 people to CXB-219-039\n",
      "Distributing 175 people to CXB-219-040\n",
      "Distributing 330 people to CXB-219-041\n",
      "Distributing 398 people to CXB-219-042\n",
      "Distributing 398 people to CXB-219-043\n",
      "Distributing 368 people to CXB-219-044\n",
      "Distributing 429 people to CXB-219-045\n",
      "Distributing 449 people to CXB-219-046\n",
      "Distributing 245 people to CXB-219-047\n",
      "Distributing 311 people to CXB-219-048\n",
      "Distributing 337 people to CXB-219-049\n",
      "Distributing 206 people to CXB-219-050\n",
      "Distributing 343 people to CXB-219-051\n",
      "Distributing 347 people to CXB-219-052\n",
      "Distributing 534 people to CXB-219-053\n",
      "Distributing 380 people to CXB-219-054\n",
      "Distributing 252 people to CXB-219-055\n",
      "Distributing 274 people to CXB-219-056\n",
      "Distributing 247 people to CXB-219-057\n",
      "Distributing 376 people to CXB-219-058\n",
      "Distributing 341 people to CXB-219-059\n",
      "Distributing 330 people to CXB-219-060\n",
      "Distributing 413 people to CXB-219-061\n",
      "Distributing 258 people to CXB-219-062\n",
      "Distributing 286 people to CXB-219-063\n",
      "Distributing 194 people to CXB-219-064\n",
      "Distributing 212 people to CXB-219-065\n",
      "Distributing 331 people to CXB-219-066\n",
      "Distributing 314 people to CXB-219-067\n",
      "Distributing 386 people to CXB-219-068\n",
      "Distributing 552 people to CXB-219-069\n",
      "Distributing 321 people to CXB-219-070\n",
      "Distributing 219 people to CXB-219-071\n",
      "Distributing 311 people to CXB-234-001\n",
      "Distributing 276 people to CXB-234-002\n"
     ]
    }
   ],
   "source": [
    "# distribute people to households\n",
    "distribute_people_to_households(world)"
   ]
  },
  {
   "cell_type": "code",
   "execution_count": 9,
   "metadata": {},
   "outputs": [
    {
     "name": "stdout",
     "output_type": "stream",
     "text": [
      "2022-09-07 10:40:14,634 - learning_centers - INFO - There are 1243 learning center(s)\n"
     ]
    }
   ],
   "source": [
    "LearningCenters.Get_Interaction(Interactions_File_Path)\n",
    "world.learning_centers = LearningCenters.for_areas(world.areas)\n",
    "\n",
    "learningcenter_distributor = LearningCenterDistributor.from_file(world.learning_centers)\n",
    "\n",
    "learningcenter_distributor.distribute_teachers_to_learning_centers(world.areas)\n",
    "learningcenter_distributor.distribute_kids_to_learning_centers(world.areas)"
   ]
  },
  {
   "cell_type": "code",
   "execution_count": 10,
   "metadata": {},
   "outputs": [
    {
     "name": "stdout",
     "output_type": "stream",
     "text": [
      "2022-09-07 10:40:15,602 - hospitals - INFO - There are 8 hospitals in the world.\n",
      "2022-09-07 10:40:15,616 - isolation units - INFO - There are 8 isolation unit(s)\n"
     ]
    }
   ],
   "source": [
    "# distribute hospitals\n",
    "Hospitals.Get_Interaction(Interactions_File_Path)\n",
    "IsolationUnits.Get_Interaction(Interactions_File_Path)\n",
    "\n",
    "hospitals = Hospitals.from_file(\n",
    "    filename=Hospitals_File_Path\n",
    ")\n",
    "\n",
    "\n",
    "for hospital in hospitals:\n",
    "    hospital.area = world.areas.get_closest_area(hospital.coordinates)\n",
    "    \n",
    "world.hospitals = hospitals\n",
    "hospital_distributor = HospitalDistributor(\n",
    "    hospitals, medic_min_age=20, patients_per_medic=10\n",
    ")\n",
    "hospital_distributor.assign_closest_hospitals_to_super_areas(\n",
    "    world.super_areas\n",
    ")\n",
    "\n",
    "world.isolation_units = IsolationUnits([IsolationUnit(area=hospital.area) for hospital in world.hospitals])\n",
    "hospital_distributor.distribute_medics_from_world(world.people)"
   ]
  },
  {
   "cell_type": "code",
   "execution_count": 11,
   "metadata": {},
   "outputs": [
    {
     "name": "stdout",
     "output_type": "stream",
     "text": [
      "2022-09-07 10:40:15,682 - social_venue - INFO - Domain 0 has 81 pump_latrines(s)\n",
      "2022-09-07 10:40:15,807 - social_venue - INFO - Domain 0 has 536 play_groups(s)\n",
      "2022-09-07 10:40:15,919 - social_venue - INFO - Domain 0 has 21 distribution_centers(s)\n",
      "2022-09-07 10:40:16,010 - social_venue - INFO - Domain 0 has 115 communals(s)\n",
      "2022-09-07 10:40:16,088 - social_venue - INFO - Domain 0 has 67 female_communals(s)\n",
      "2022-09-07 10:40:17,321 - social_venue - INFO - Domain 0 has 2065 religiouss(s)\n",
      "2022-09-07 10:40:17,421 - social_venue - INFO - Domain 0 has 7 e_vouchers(s)\n",
      "2022-09-07 10:40:17,481 - social_venue - INFO - Domain 0 has 41 n_f_distribution_centers(s)\n",
      "2022-09-07 10:40:17,524 - social_venue - INFO - Domain 0 has 80 informal_works(s)\n"
     ]
    }
   ],
   "source": [
    "PumpLatrines.Get_Interaction(Interactions_File_Path)\n",
    "world.pump_latrines = PumpLatrines.for_areas(world.areas)\n",
    "\n",
    "PlayGroups.Get_Interaction(Interactions_File_Path)\n",
    "world.play_groups = PlayGroups.for_areas(world.areas)\n",
    "\n",
    "DistributionCenters.Get_Interaction(Interactions_File_Path)\n",
    "world.distribution_centers = DistributionCenters.for_areas(world.areas)\n",
    "\n",
    "Communals.Get_Interaction(Interactions_File_Path)\n",
    "world.communals = Communals.for_areas(world.areas)\n",
    "\n",
    "FemaleCommunals.Get_Interaction(Interactions_File_Path)\n",
    "world.female_communals = FemaleCommunals.for_areas(world.areas)\n",
    "\n",
    "Religiouss.Get_Interaction(Interactions_File_Path)\n",
    "world.religiouss = Religiouss.for_areas(world.areas)\n",
    "\n",
    "EVouchers.Get_Interaction(Interactions_File_Path)\n",
    "world.e_vouchers = EVouchers.for_areas(world.areas)\n",
    "\n",
    "NFDistributionCenters.Get_Interaction(Interactions_File_Path)\n",
    "world.n_f_distribution_centers = NFDistributionCenters.for_areas(world.areas)\n",
    "\n",
    "InformalWorks.Get_Interaction(Interactions_File_Path)\n",
    "world.informal_works = InformalWorks.for_areas(world.areas)"
   ]
  },
  {
   "cell_type": "code",
   "execution_count": 12,
   "metadata": {},
   "outputs": [
    {
     "name": "stdout",
     "output_type": "stream",
     "text": [
      "cemetery not defined in interaction yaml or defualt options\n"
     ]
    }
   ],
   "source": [
    "world.cemeteries = Cemeteries()"
   ]
  },
  {
   "cell_type": "markdown",
   "metadata": {},
   "source": [
    "## Geography exploration"
   ]
  },
  {
   "cell_type": "markdown",
   "metadata": {},
   "source": [
    "The geography is initialised first and can be explored."
   ]
  },
  {
   "cell_type": "markdown",
   "metadata": {},
   "source": [
    "### UNHCR camp blocks inside the World"
   ]
  },
  {
   "cell_type": "code",
   "execution_count": 13,
   "metadata": {},
   "outputs": [],
   "source": [
    "super_areas = []\n",
    "for super_area in world.super_areas:\n",
    "    super_areas.append(super_area.name)"
   ]
  },
  {
   "cell_type": "code",
   "execution_count": 14,
   "metadata": {},
   "outputs": [
    {
     "data": {
      "text/plain": [
       "['CXB-219-A', 'CXB-219-B', 'CXB-219-C', 'CXB-219-D']"
      ]
     },
     "execution_count": 14,
     "metadata": {},
     "output_type": "execute_result"
    }
   ],
   "source": [
    "super_areas[:5]"
   ]
  },
  {
   "cell_type": "markdown",
   "metadata": {},
   "source": [
    "### Mahjee blocks inside World"
   ]
  },
  {
   "cell_type": "code",
   "execution_count": 15,
   "metadata": {},
   "outputs": [],
   "source": [
    "areas = []\n",
    "for area in world.areas:\n",
    "    areas.append(area.name)"
   ]
  },
  {
   "cell_type": "code",
   "execution_count": 16,
   "metadata": {},
   "outputs": [
    {
     "data": {
      "text/plain": [
       "['CXB-219-001', 'CXB-219-002', 'CXB-219-003', 'CXB-219-004', 'CXB-219-005']"
      ]
     },
     "execution_count": 16,
     "metadata": {},
     "output_type": "execute_result"
    }
   ],
   "source": [
    "areas[:5]"
   ]
  },
  {
   "cell_type": "markdown",
   "metadata": {},
   "source": [
    "## Demography exploration"
   ]
  },
  {
   "cell_type": "markdown",
   "metadata": {},
   "source": [
    "Once we have populated the 'digital twin' we can explore some of the attributes of the people we have created in the simulation."
   ]
  },
  {
   "cell_type": "markdown",
   "metadata": {},
   "source": [
    "### UNHCR block residents"
   ]
  },
  {
   "cell_type": "code",
   "execution_count": 17,
   "metadata": {},
   "outputs": [],
   "source": [
    "sample_ages = []\n",
    "sample_sexes = []\n",
    "for person in world.super_areas.members[0].people:\n",
    "    sample_ages.append(person.age)\n",
    "    sample_sexes.append(person.sex)"
   ]
  },
  {
   "cell_type": "code",
   "execution_count": 18,
   "metadata": {},
   "outputs": [
    {
     "data": {
      "text/plain": [
       "(['f', 'm', 'f', 'm', 'm'], [33, 47, 19, 26, 24])"
      ]
     },
     "execution_count": 18,
     "metadata": {},
     "output_type": "execute_result"
    }
   ],
   "source": [
    "sample_sexes[:5], sample_ages[:5]"
   ]
  },
  {
   "cell_type": "code",
   "execution_count": 19,
   "metadata": {},
   "outputs": [
    {
     "data": {
      "image/png": "[encoded data removed]",
      "text/plain": [
       "<Figure size 432x288 with 1 Axes>"
      ]
     },
     "metadata": {
      "needs_background": "light"
     },
     "output_type": "display_data"
    }
   ],
   "source": [
    "ages, counts = np.unique(sample_ages, return_counts=True)\n",
    "plt.bar(ages, counts)\n",
    "plt.title('super area: {} age distribution'.format(world.super_areas.members[0].name))\n",
    "plt.show()"
   ]
  },
  {
   "cell_type": "code",
   "execution_count": 20,
   "metadata": {},
   "outputs": [
    {
     "name": "stdout",
     "output_type": "stream",
     "text": [
      "The % children between ages 0-16 is 49%\n"
     ]
    }
   ],
   "source": [
    "print ('The % children between ages 0-16 is {}%'.format(round(np.sum(counts[:16])/(np.sum(counts[:16])+np.sum(counts[16:]))*100)))"
   ]
  },
  {
   "cell_type": "markdown",
   "metadata": {},
   "source": [
    "## Households"
   ]
  },
  {
   "cell_type": "markdown",
   "metadata": {},
   "source": [
    "In this model, we will use the term 'family' and 'household' interchangeably. After populating the 'digital twin', we need to cluster people into families. To do this, we take account of age structure so that children live with adults, that there are some intergenerational households and such that we might also have some households of only adults."
   ]
  },
  {
   "cell_type": "markdown",
   "metadata": {},
   "source": [
    "### Household size distribution"
   ]
  },
  {
   "cell_type": "code",
   "execution_count": 21,
   "metadata": {},
   "outputs": [
    {
     "data": {
      "image/png": "[encoded data removed]",
      "text/plain": [
       "<Figure size 432x288 with 1 Axes>"
      ]
     },
     "metadata": {
      "needs_background": "light"
     },
     "output_type": "display_data"
    }
   ],
   "source": [
    "household_sizes = [household.size for household in world.households]\n",
    "plt.hist(household_sizes, density=True, bins=np.arange(0,12))\n",
    "plt.xlabel(\"Household size\")\n",
    "plt.ylabel(\"Frequency\")\n",
    "plt.axvline(np.mean(household_sizes), color=\"cyan\")\n",
    "plt.text(8, 0.150, f\"Avg. size: {(np.mean(household_sizes)):.2f}\")\n",
    "plt.show()"
   ]
  },
  {
   "cell_type": "markdown",
   "metadata": {},
   "source": [
    "# Shelters"
   ]
  },
  {
   "cell_type": "markdown",
   "metadata": {},
   "source": [
    "Shelters house people in the camp. Since we know that families (houseohlds) often share shelters with other families, we can set the `sharing_shelter_ratio` to cluster families into shared shelters."
   ]
  },
  {
   "cell_type": "code",
   "execution_count": 22,
   "metadata": {},
   "outputs": [],
   "source": [
    "Shelters.Get_Interaction(Interactions_File_Path)\n",
    "world.shelters = Shelters.for_areas(world.areas)\n",
    "shelter_distributor = ShelterDistributor(sharing_shelter_ratio = 0.75) # proportion of families that share a shelter\n",
    "for area in world.areas:\n",
    "    shelter_distributor.distribute_people_in_shelters(area.shelters, area.households)"
   ]
  },
  {
   "cell_type": "code",
   "execution_count": 23,
   "metadata": {},
   "outputs": [
    {
     "data": {
      "image/png": "[encoded data removed]",
      "text/plain": [
       "<Figure size 576x216 with 2 Axes>"
      ]
     },
     "metadata": {
      "needs_background": "light"
     },
     "output_type": "display_data"
    }
   ],
   "source": [
    "fig, ax = plt.subplots(1, 2, figsize=(8,3))\n",
    "shelter_sizes = [shelter.size for shelter in world.shelters]\n",
    "shelter_families = [shelter.n_families for shelter in world.shelters]\n",
    "ax[0].hist(shelter_sizes)\n",
    "ax[0].set_title(\"Shelter size\")\n",
    "shelter_families = {1 : len([shelter for shelter in world.shelters if shelter.n_families == 1]),\n",
    "                    2 : len([shelter for shelter in world.shelters if shelter.n_families == 2])}\n",
    "ax[1].bar(shelter_families.keys(), shelter_families.values())\n",
    "ax[1].set_title(\"# families per shelter\")\n",
    "plt.show()"
   ]
  },
  {
   "cell_type": "markdown",
   "metadata": {},
   "source": [
    "## Activity exploration"
   ]
  },
  {
   "cell_type": "markdown",
   "metadata": {},
   "source": [
    "Once different activity locations are seeded in the 'digital twin' we can explore how many there are in different areas of the twin, and their coordinates to check they've all been added correctly."
   ]
  },
  {
   "cell_type": "markdown",
   "metadata": {},
   "source": [
    "### Pumps and latrines "
   ]
  },
  {
   "cell_type": "code",
   "execution_count": 24,
   "metadata": {},
   "outputs": [],
   "source": [
    "pumps_and_latrines = []\n",
    "for pump_latrine in world.areas.members[0].pump_latrines:\n",
    "    pumps_and_latrines.append(pump_latrine)"
   ]
  },
  {
   "cell_type": "code",
   "execution_count": 25,
   "metadata": {},
   "outputs": [
    {
     "name": "stdout",
     "output_type": "stream",
     "text": [
      "There are 2 pumps and latrines in area CXB-219-001\n"
     ]
    }
   ],
   "source": [
    "print ('There are {} pumps and latrines in area {}'.format(len(pumps_and_latrines), world.areas.members[0].name))"
   ]
  },
  {
   "cell_type": "markdown",
   "metadata": {},
   "source": [
    "### Informal work"
   ]
  },
  {
   "cell_type": "code",
   "execution_count": 26,
   "metadata": {},
   "outputs": [],
   "source": [
    "Informal_work_Sites = []\n",
    "for informal_work in world.areas.members[0].informal_works:\n",
    "    Informal_work_Sites.append(informal_work)"
   ]
  },
  {
   "cell_type": "code",
   "execution_count": 27,
   "metadata": {},
   "outputs": [
    {
     "name": "stdout",
     "output_type": "stream",
     "text": [
      "There are 2 informal work sites in area CXB-219-001\n"
     ]
    }
   ],
   "source": [
    "print ('There are {} informal work sites in area {}'.format(len(Informal_work_Sites), world.areas.members[0].name))"
   ]
  },
  {
   "cell_type": "markdown",
   "metadata": {},
   "source": [
    "### Distribution centers"
   ]
  },
  {
   "cell_type": "code",
   "execution_count": 28,
   "metadata": {},
   "outputs": [],
   "source": [
    "distribution_centers = []\n",
    "for center in world.distribution_centers:\n",
    "    distribution_centers.append(center)"
   ]
  },
  {
   "cell_type": "code",
   "execution_count": 29,
   "metadata": {},
   "outputs": [
    {
     "data": {
      "text/plain": [
       "array([21.2136    , 92.15678833])"
      ]
     },
     "execution_count": 29,
     "metadata": {},
     "output_type": "execute_result"
    }
   ],
   "source": [
    "distribution_centers[0].coordinates"
   ]
  },
  {
   "cell_type": "markdown",
   "metadata": {},
   "source": [
    "### Non-food Distribution centers"
   ]
  },
  {
   "cell_type": "code",
   "execution_count": 30,
   "metadata": {},
   "outputs": [],
   "source": [
    "non_food_distribution_centers = []\n",
    "for center in world.n_f_distribution_centers:\n",
    "    non_food_distribution_centers.append(center)"
   ]
  },
  {
   "cell_type": "code",
   "execution_count": 31,
   "metadata": {},
   "outputs": [
    {
     "data": {
      "text/plain": [
       "array([21.21268167, 92.1438    ])"
      ]
     },
     "execution_count": 31,
     "metadata": {},
     "output_type": "execute_result"
    }
   ],
   "source": [
    "non_food_distribution_centers[0].coordinates"
   ]
  },
  {
   "cell_type": "markdown",
   "metadata": {},
   "source": [
    "### E-Voucher outlets"
   ]
  },
  {
   "cell_type": "code",
   "execution_count": 32,
   "metadata": {},
   "outputs": [],
   "source": [
    "e_voucher_outlets = []\n",
    "for center in world.e_vouchers:\n",
    "    e_voucher_outlets.append(center)"
   ]
  },
  {
   "cell_type": "code",
   "execution_count": 33,
   "metadata": {},
   "outputs": [
    {
     "data": {
      "text/plain": [
       "array([21.212945, 92.142915])"
      ]
     },
     "execution_count": 33,
     "metadata": {},
     "output_type": "execute_result"
    }
   ],
   "source": [
    "e_voucher_outlets[0].coordinates"
   ]
  },
  {
   "cell_type": "markdown",
   "metadata": {},
   "source": [
    "### Communal spaces"
   ]
  },
  {
   "cell_type": "code",
   "execution_count": 34,
   "metadata": {},
   "outputs": [],
   "source": [
    "communal_spaces = []\n",
    "for space in world.communals:\n",
    "    communal_spaces.append(space)"
   ]
  },
  {
   "cell_type": "code",
   "execution_count": 35,
   "metadata": {},
   "outputs": [
    {
     "data": {
      "text/plain": [
       "array([21.19508, 92.16525])"
      ]
     },
     "execution_count": 35,
     "metadata": {},
     "output_type": "execute_result"
    }
   ],
   "source": [
    "communal_spaces[0].coordinates"
   ]
  },
  {
   "cell_type": "markdown",
   "metadata": {},
   "source": [
    "### Female friendly communal spaces"
   ]
  },
  {
   "cell_type": "code",
   "execution_count": 36,
   "metadata": {},
   "outputs": [],
   "source": [
    "female_communal_spaces = []\n",
    "for space in world.female_communals:\n",
    "    female_communal_spaces.append(space)"
   ]
  },
  {
   "cell_type": "code",
   "execution_count": 37,
   "metadata": {},
   "outputs": [
    {
     "data": {
      "text/plain": [
       "array([21.20686305, 92.16070923])"
      ]
     },
     "execution_count": 37,
     "metadata": {},
     "output_type": "execute_result"
    }
   ],
   "source": [
    "female_communal_spaces[0].coordinates"
   ]
  },
  {
   "cell_type": "markdown",
   "metadata": {},
   "source": [
    "### Religious sites"
   ]
  },
  {
   "cell_type": "code",
   "execution_count": 38,
   "metadata": {},
   "outputs": [],
   "source": [
    "religious = []\n",
    "for rel in world.religiouss:\n",
    "    religious.append(rel)"
   ]
  },
  {
   "cell_type": "code",
   "execution_count": 39,
   "metadata": {},
   "outputs": [
    {
     "data": {
      "text/plain": [
       "array([21.21804605, 92.1546829 ])"
      ]
     },
     "execution_count": 39,
     "metadata": {},
     "output_type": "execute_result"
    }
   ],
   "source": [
    "religious[0].coordinates"
   ]
  },
  {
   "cell_type": "markdown",
   "metadata": {},
   "source": [
    "# Adding the infection"
   ]
  },
  {
   "cell_type": "markdown",
   "metadata": {},
   "source": [
    "The selector handles how infections are handled in the code. You can set different 'symptom trajectories' (e.g. exposed->mild->severe->hospitalised->intensive care) from different files. Here, we use the default."
   ]
  },
  {
   "cell_type": "code",
   "execution_count": 40,
   "metadata": {},
   "outputs": [],
   "source": [
    "selector = InfectionSelector.from_file()"
   ]
  },
  {
   "cell_type": "code",
   "execution_count": 41,
   "metadata": {},
   "outputs": [],
   "source": [
    "selectors = InfectionSelectors([selector])"
   ]
  },
  {
   "cell_type": "markdown",
   "metadata": {},
   "source": [
    "# Adding the interaction"
   ]
  },
  {
   "cell_type": "markdown",
   "metadata": {},
   "source": [
    "The interaction class handles how many contacts people have in different locations and with who. If contact matrices are available, these can be coded in a `.yaml` file and fed into the class here."
   ]
  },
  {
   "cell_type": "code",
   "execution_count": 42,
   "metadata": {},
   "outputs": [],
   "source": [
    "interaction = Interaction.from_file(\n",
    "    config_filename=Interactions_File_Path,\n",
    ")"
   ]
  },
  {
   "cell_type": "markdown",
   "metadata": {},
   "source": [
    "# Set policies"
   ]
  },
  {
   "cell_type": "markdown",
   "metadata": {},
   "source": [
    "Policies control how 'operational interventions' are set in the camp. Here we set some social distancing policies, policies relating to medical care, such as people with severe symptoms being hospitalised, and individual and activity policies which can dynamically change how often and where people go, e.g. here, we close all female communal spaces and non-food distirbution centers which the camp did back in March"
   ]
  },
  {
   "cell_type": "code",
   "execution_count": 43,
   "metadata": {},
   "outputs": [],
   "source": [
    "policies = Policies.from_file(\n",
    "        Policies_File_Path,\n",
    "        base_policy_modules=(\"june.policy\", \"camps.policy\"),\n",
    "    )"
   ]
  },
  {
   "cell_type": "code",
   "execution_count": 44,
   "metadata": {},
   "outputs": [
    {
     "data": {
      "text/plain": [
       "[<june.policy.interaction_policies.SocialDistancing at 0x7fb76ed61d90>,\n",
       " <june.policy.medical_care_policies.Hospitalisation at 0x7fb76efd8cd0>,\n",
       " <june.policy.individual_policies.SevereSymptomsStayHome at 0x7fb76efd8310>,\n",
       " <june.policy.individual_policies.Quarantine at 0x7fb76efd89a0>]"
      ]
     },
     "execution_count": 44,
     "metadata": {},
     "output_type": "execute_result"
    }
   ],
   "source": [
    "policies.policies"
   ]
  },
  {
   "cell_type": "markdown",
   "metadata": {},
   "source": [
    "# Seed the disease"
   ]
  },
  {
   "cell_type": "markdown",
   "metadata": {},
   "source": [
    "Set intial seeding conditions. This can be done at the camp level specifically, or generally by seeding them randomly. Here the `n_cases` is the number of randomly seeded people over the entire population."
   ]
  },
  {
   "cell_type": "code",
   "execution_count": 45,
   "metadata": {},
   "outputs": [],
   "source": [
    "infection_seed = InfectionSeed.from_uniform_cases(\n",
    "    world=world, infection_selector=selector, cases_per_capita=0.01, date=\"2020-05-24 9:00\", seed_past_infections=False,\n",
    ")"
   ]
  },
  {
   "cell_type": "code",
   "execution_count": 46,
   "metadata": {},
   "outputs": [],
   "source": [
    "infection_seeds = InfectionSeeds([infection_seed])"
   ]
  },
  {
   "cell_type": "code",
   "execution_count": 47,
   "metadata": {},
   "outputs": [],
   "source": [
    "immunity_setter = ImmunitySetter.from_file_with_comorbidities(\n",
    "    comorbidity_multipliers_path= comorbidity_multipliers_path,\n",
    "    male_comorbidity_reference_prevalence_path= male_comorbidity_reference_prevalence_path,\n",
    "    female_comorbidity_reference_prevalence_path = female_comorbidity_reference_prevalence_path,   \n",
    ")"
   ]
  },
  {
   "cell_type": "code",
   "execution_count": 48,
   "metadata": {},
   "outputs": [],
   "source": [
    "epidemiology = Epidemiology(\n",
    "    infection_selectors=selectors,\n",
    "    infection_seeds=infection_seeds,\n",
    "    immunity_setter=immunity_setter,\n",
    ")"
   ]
  },
  {
   "cell_type": "markdown",
   "metadata": {},
   "source": [
    "## Select config file"
   ]
  },
  {
   "cell_type": "markdown",
   "metadata": {},
   "source": [
    "Before running the simualtion we must select the config file which defines how the world is set up and the simualtor will work. Specifically, the condif file specifies which activities will be included, how long we'll run the simualtion for, what the initial starting day will be and what the structure of weekdays and weekends will look like (if different)"
   ]
  },
  {
   "cell_type": "code",
   "execution_count": 49,
   "metadata": {},
   "outputs": [],
   "source": [
    "CONFIG_PATH = Config_File_Path"
   ]
  },
  {
   "cell_type": "markdown",
   "metadata": {},
   "source": [
    "# Initialise activities"
   ]
  },
  {
   "cell_type": "markdown",
   "metadata": {},
   "source": [
    "The final step to intialising the simulator class which brings all of this together is to inialise all the activity distirbutors (the term 'leisure' is a legacy of the original version of this code used for modelling COVID-19 in the UK). This will mean that people know where they can go at and given time."
   ]
  },
  {
   "cell_type": "code",
   "execution_count": 50,
   "metadata": {},
   "outputs": [
    {
     "name": "stdout",
     "output_type": "stream",
     "text": [
      "2022-09-07 10:40:20,170 - leisure - INFO - Linking households and care homes for visits\n",
      "2022-09-07 10:40:20,171 - leisure - INFO - Done\n",
      "2022-09-07 10:40:20,172 - leisure - INFO - Distributing social venues to areas\n",
      "2022-09-07 10:40:20,173 - leisure - INFO - Distributed in 0 of 65 areas.\n",
      "2022-09-07 10:40:20,265 - leisure - INFO - Distributed in 65 of 65 areas.\n"
     ]
    }
   ],
   "source": [
    "leisure = generate_leisure_for_config(world=world, config_filename=CONFIG_PATH)\n",
    "# associate social activities to shelters\n",
    "leisure.distribute_social_venues_to_areas(world.areas, world.super_areas)"
   ]
  },
  {
   "cell_type": "markdown",
   "metadata": {},
   "source": [
    "# Define a contact Tracker"
   ]
  },
  {
   "cell_type": "markdown",
   "metadata": {},
   "source": [
    "We define a list of venues in which to track. This is fed into JUNE's tracker class. We can specify tracking contacts by sex, the type of possible contacts \"1D\" (simulated contacts based on the input interaction matrices) or \"All\" (everyone at each venue contacts each other). Lastly we can find a subset of venues upto N but defining MaxVenueTrackingSize=N."
   ]
  },
  {
   "cell_type": "code",
   "execution_count": 51,
   "metadata": {},
   "outputs": [],
   "source": [
    "group_types=[\n",
    "        world.hospitals,\n",
    "        world.distribution_centers,\n",
    "        world.communals,\n",
    "        world.female_communals,\n",
    "        world.pump_latrines,\n",
    "        world.religiouss,\n",
    "        world.play_groups,\n",
    "        world.e_vouchers,\n",
    "        world.n_f_distribution_centers,\n",
    "        world.shelters,\n",
    "        world.learning_centers,\n",
    "        world.informal_works,\n",
    "        world.isolation_units,\n",
    "    ]\n",
    "\n",
    "tracker = Tracker(\n",
    "    world=world,\n",
    "    record_path=Results_Path,\n",
    "    group_types=group_types,\n",
    "    load_interactions_path=Interactions_File_Path,\n",
    "    contact_sexes=[\"unisex\", \"male\", \"female\"],\n",
    "    Tracker_Contact_Type=[\"1D\", \"All\"],\n",
    "    MaxVenueTrackingSize = 500\n",
    ")"
   ]
  },
  {
   "cell_type": "markdown",
   "metadata": {},
   "source": [
    "# Initialise simulator and run"
   ]
  },
  {
   "cell_type": "markdown",
   "metadata": {},
   "source": [
    "The recorder is defined which will log all interactions and infections in the simualation for later analysis. The `record_path` can be changed to any path where you want the recorded data to be stored."
   ]
  },
  {
   "cell_type": "code",
   "execution_count": 52,
   "metadata": {},
   "outputs": [],
   "source": [
    "record = Record(\n",
    "    record_path=Results_Path, \n",
    "    record_static_data=True\n",
    ")\n"
   ]
  },
  {
   "cell_type": "markdown",
   "metadata": {},
   "source": [
    "The simulator is defined with all the different necessary components we have built up so far"
   ]
  },
  {
   "cell_type": "code",
   "execution_count": 53,
   "metadata": {},
   "outputs": [],
   "source": [
    "Simulator.ActivityManager = CampActivityManager\n",
    "simulator = Simulator.from_file(\n",
    "    world=world,\n",
    "    interaction=interaction,\n",
    "    tracker=tracker,\n",
    "    leisure=leisure,\n",
    "    policies=policies,\n",
    "    config_filename=CONFIG_PATH,\n",
    "    epidemiology=epidemiology,\n",
    "    record=record,\n",
    ")"
   ]
  },
  {
   "cell_type": "markdown",
   "metadata": {},
   "source": [
    "Finally we can run a small simualation"
   ]
  },
  {
   "cell_type": "code",
   "execution_count": 54,
   "metadata": {
    "scrolled": true
   },
   "outputs": [
    {
     "name": "stdout",
     "output_type": "stream",
     "text": [
      "2022-09-07 10:40:21,205 - simulator - INFO - Starting simulation for 7 days at day 2020-05-24 09:00:00,to run for 7 days\n",
      "2022-09-07 10:40:21,309 - seed - INFO - Seeding Covid19 infections at date 2020-05-24\n",
      "2022-09-07 10:40:21,831 - rank - INFO - Next timestep\n",
      "2022-09-07 10:40:21,832 - simulator - INFO - ==================== timestep ====================\n",
      "2022-09-07 10:40:22,051 - rank - INFO - Rank 0 -- move_people -- 0.2179898880131077\n",
      "2022-09-07 10:40:22,052 - rank - INFO - Rank 0 -- move_people_waiting -- 1.1714000720530748e-05\n",
      "2022-09-07 10:40:22,053 - activity_manager - INFO - CMS: People COMS for rank 0/1 - 4.091998562216759e-06,4.0531158447265625e-06 - 2020-05-24 09:00:00\n",
      "2022-09-07 10:40:22,060 - simulator - INFO - Info for rank 0, Date = 2020-05-24 09:00:00, number of deaths =  0, number of infected = 224\n",
      "2022-09-07 10:40:22,139 - rank - INFO - Rank 0 -- interaction -- 0.08521889799158089\n",
      "2022-09-07 10:40:22,147 - tracker - INFO - Rank 0 -- tracking contacts -- 500 of 3265 of type shelter\n",
      "2022-09-07 10:40:22,998 - tracker - INFO - Rank 0 -- tracking contacts -- 8 of 8 of type hospital\n",
      "2022-09-07 10:40:23,005 - tracker - INFO - Rank 0 -- tracking contacts -- 8 of 8 of type isolation_unit\n",
      "2022-09-07 10:40:23,007 - tracker - INFO - Rank 0 -- tracking contacts -- 389 of 389 of type learning_center\n",
      "2022-09-07 10:40:24,080 - tracker - INFO - Rank 0 -- tracking contacts -- 115 of 115 of type communal\n",
      "2022-09-07 10:40:24,082 - tracker - INFO - Rank 0 -- tracking contacts -- 21 of 21 of type distribution_center\n",
      "2022-09-07 10:40:24,084 - tracker - INFO - Rank 0 -- tracking contacts -- 7 of 7 of type e_voucher\n",
      "2022-09-07 10:40:24,085 - tracker - INFO - Rank 0 -- tracking contacts -- 67 of 67 of type female_communal\n",
      "2022-09-07 10:40:24,089 - tracker - INFO - Rank 0 -- tracking contacts -- 80 of 80 of type informal_work\n",
      "2022-09-07 10:40:24,092 - tracker - INFO - Rank 0 -- tracking contacts -- 41 of 41 of type n_f_distribution_center\n",
      "2022-09-07 10:40:24,096 - tracker - INFO - Rank 0 -- tracking contacts -- 500 of 536 of type play_group\n",
      "2022-09-07 10:40:24,107 - tracker - INFO - Rank 0 -- tracking contacts -- 81 of 81 of type pump_latrine\n",
      "2022-09-07 10:40:24,113 - tracker - INFO - Rank 0 -- tracking contacts -- 500 of 2065 of type religious\n",
      "2022-09-07 10:40:24,123 - rank - INFO - Rank 0 -- tracker -- 1.9830388500122353\n",
      "2022-09-07 10:40:24,188 - epidemiology - INFO - CMS: Infection COMS-v2 for rank 0/1(2)0.06367320401477627,0.06367373466491699 - 2020-05-24 09:00:00\n",
      "2022-09-07 10:40:24,342 - rank - INFO - Rank 0 -- interaction_waiting -- 7.716997060924768e-06\n",
      "2022-09-07 10:40:24,360 - simulator - INFO - CMS: Timestep for rank 0/1 - 2.5275680080230813,2.527569055557251 - 2020-05-24 09:00:00\n",
      "\n",
      "2022-09-07 10:40:24,362 - rank - INFO - Next timestep\n",
      "2022-09-07 10:40:24,363 - simulator - INFO - ==================== timestep ====================\n",
      "2022-09-07 10:40:25,859 - rank - INFO - Rank 0 -- move_people -- 1.4953451490146108\n",
      "2022-09-07 10:40:25,860 - rank - INFO - Rank 0 -- move_people_waiting -- 4.973000613972545e-06\n",
      "2022-09-07 10:40:25,861 - activity_manager - INFO - CMS: People COMS for rank 0/1 - 4.150992026552558e-06,3.5762786865234375e-06 - 2020-05-24 11:00:00\n",
      "2022-09-07 10:40:25,867 - simulator - INFO - Info for rank 0, Date = 2020-05-24 11:00:00, number of deaths =  0, number of infected = 224\n",
      "2022-09-07 10:40:26,019 - rank - INFO - Rank 0 -- interaction -- 0.1570419860072434\n",
      "2022-09-07 10:40:26,027 - tracker - INFO - Rank 0 -- tracking contacts -- 500 of 3265 of type shelter\n",
      "2022-09-07 10:40:26,329 - tracker - INFO - Rank 0 -- tracking contacts -- 8 of 8 of type hospital\n",
      "2022-09-07 10:40:26,339 - tracker - INFO - Rank 0 -- tracking contacts -- 8 of 8 of type isolation_unit\n",
      "2022-09-07 10:40:26,341 - tracker - INFO - Rank 0 -- tracking contacts -- 389 of 389 of type learning_center\n",
      "2022-09-07 10:40:27,421 - tracker - INFO - Rank 0 -- tracking contacts -- 115 of 115 of type communal\n",
      "2022-09-07 10:40:27,453 - tracker - INFO - Rank 0 -- tracking contacts -- 21 of 21 of type distribution_center\n",
      "2022-09-07 10:40:27,506 - tracker - INFO - Rank 0 -- tracking contacts -- 7 of 7 of type e_voucher\n",
      "2022-09-07 10:40:27,522 - tracker - INFO - Rank 0 -- tracking contacts -- 67 of 67 of type female_communal\n",
      "2022-09-07 10:40:27,577 - tracker - INFO - Rank 0 -- tracking contacts -- 80 of 80 of type informal_work\n",
      "2022-09-07 10:40:27,658 - tracker - INFO - Rank 0 -- tracking contacts -- 41 of 41 of type n_f_distribution_center\n",
      "2022-09-07 10:40:27,779 - tracker - INFO - Rank 0 -- tracking contacts -- 500 of 536 of type play_group\n",
      "2022-09-07 10:40:28,171 - tracker - INFO - Rank 0 -- tracking contacts -- 81 of 81 of type pump_latrine\n",
      "2022-09-07 10:40:32,587 - tracker - INFO - Rank 0 -- tracking contacts -- 500 of 2065 of type religious\n",
      "2022-09-07 10:40:32,808 - rank - INFO - Rank 0 -- tracker -- 6.788611989992205\n",
      "2022-09-07 10:40:32,810 - epidemiology - INFO - CMS: Infection COMS-v2 for rank 0/1(2)0.00030471201171167195,0.0003044605255126953 - 2020-05-24 11:00:00\n",
      "2022-09-07 10:40:32,845 - rank - INFO - Rank 0 -- interaction_waiting -- 6.827001925557852e-06\n",
      "2022-09-07 10:40:32,859 - simulator - INFO - CMS: Timestep for rank 0/1 - 8.495522643002914,8.495523691177368 - 2020-05-24 11:00:00\n",
      "\n",
      "2022-09-07 10:40:32,860 - rank - INFO - Next timestep\n",
      "2022-09-07 10:40:32,861 - simulator - INFO - ==================== timestep ====================\n",
      "2022-09-07 10:40:33,689 - rank - INFO - Rank 0 -- move_people -- 0.8265263729845174\n",
      "2022-09-07 10:40:33,690 - rank - INFO - Rank 0 -- move_people_waiting -- 3.975990694016218e-06\n",
      "2022-09-07 10:40:33,690 - activity_manager - INFO - CMS: People COMS for rank 0/1 - 4.314992111176252e-06,4.0531158447265625e-06 - 2020-05-24 13:00:00\n",
      "2022-09-07 10:40:33,699 - simulator - INFO - Info for rank 0, Date = 2020-05-24 13:00:00, number of deaths =  0, number of infected = 225\n",
      "2022-09-07 10:40:33,841 - rank - INFO - Rank 0 -- interaction -- 0.14997296000365168\n",
      "2022-09-07 10:40:33,848 - tracker - INFO - Rank 0 -- tracking contacts -- 500 of 3265 of type shelter\n",
      "2022-09-07 10:40:34,160 - tracker - INFO - Rank 0 -- tracking contacts -- 8 of 8 of type hospital\n",
      "2022-09-07 10:40:34,171 - tracker - INFO - Rank 0 -- tracking contacts -- 8 of 8 of type isolation_unit\n",
      "2022-09-07 10:40:34,174 - tracker - INFO - Rank 0 -- tracking contacts -- 389 of 389 of type learning_center\n",
      "2022-09-07 10:40:35,235 - tracker - INFO - Rank 0 -- tracking contacts -- 115 of 115 of type communal\n",
      "2022-09-07 10:40:35,272 - tracker - INFO - Rank 0 -- tracking contacts -- 21 of 21 of type distribution_center\n",
      "2022-09-07 10:40:35,336 - tracker - INFO - Rank 0 -- tracking contacts -- 7 of 7 of type e_voucher\n",
      "2022-09-07 10:40:35,362 - tracker - INFO - Rank 0 -- tracking contacts -- 67 of 67 of type female_communal\n",
      "2022-09-07 10:40:35,447 - tracker - INFO - Rank 0 -- tracking contacts -- 80 of 80 of type informal_work\n",
      "2022-09-07 10:40:35,535 - tracker - INFO - Rank 0 -- tracking contacts -- 41 of 41 of type n_f_distribution_center\n",
      "2022-09-07 10:40:35,707 - tracker - INFO - Rank 0 -- tracking contacts -- 500 of 536 of type play_group\n",
      "2022-09-07 10:40:36,124 - tracker - INFO - Rank 0 -- tracking contacts -- 81 of 81 of type pump_latrine\n",
      "2022-09-07 10:40:40,109 - tracker - INFO - Rank 0 -- tracking contacts -- 500 of 2065 of type religious\n",
      "2022-09-07 10:40:40,339 - rank - INFO - Rank 0 -- tracker -- 6.496994065993931\n",
      "2022-09-07 10:40:40,343 - epidemiology - INFO - CMS: Infection COMS-v2 for rank 0/1(2)0.0006070410017855465,0.0006070137023925781 - 2020-05-24 13:00:00\n",
      "2022-09-07 10:40:40,377 - rank - INFO - Rank 0 -- interaction_waiting -- 6.290007149800658e-06\n",
      "2022-09-07 10:40:40,389 - simulator - INFO - CMS: Timestep for rank 0/1 - 7.527314467006363,7.527316093444824 - 2020-05-24 13:00:00\n",
      "\n",
      "2022-09-07 10:40:40,390 - rank - INFO - Next timestep\n",
      "2022-09-07 10:40:40,391 - simulator - INFO - ==================== timestep ====================\n",
      "2022-09-07 10:40:41,180 - rank - INFO - Rank 0 -- move_people -- 0.7877006469934713\n",
      "2022-09-07 10:40:41,181 - rank - INFO - Rank 0 -- move_people_waiting -- 7.287977496162057e-06\n",
      "2022-09-07 10:40:41,182 - activity_manager - INFO - CMS: People COMS for rank 0/1 - 4.108995199203491e-06,3.5762786865234375e-06 - 2020-05-24 15:00:00\n"
     ]
    },
    {
     "name": "stdout",
     "output_type": "stream",
     "text": [
      "2022-09-07 10:40:41,188 - simulator - INFO - Info for rank 0, Date = 2020-05-24 15:00:00, number of deaths =  0, number of infected = 229\n",
      "2022-09-07 10:40:41,311 - rank - INFO - Rank 0 -- interaction -- 0.12796969199553132\n",
      "2022-09-07 10:40:41,318 - tracker - INFO - Rank 0 -- tracking contacts -- 500 of 3265 of type shelter\n",
      "2022-09-07 10:40:41,602 - tracker - INFO - Rank 0 -- tracking contacts -- 8 of 8 of type hospital\n",
      "2022-09-07 10:40:41,610 - tracker - INFO - Rank 0 -- tracking contacts -- 8 of 8 of type isolation_unit\n",
      "2022-09-07 10:40:41,612 - tracker - INFO - Rank 0 -- tracking contacts -- 389 of 389 of type learning_center\n",
      "2022-09-07 10:40:42,603 - tracker - INFO - Rank 0 -- tracking contacts -- 115 of 115 of type communal\n",
      "2022-09-07 10:40:42,630 - tracker - INFO - Rank 0 -- tracking contacts -- 21 of 21 of type distribution_center\n",
      "2022-09-07 10:40:42,671 - tracker - INFO - Rank 0 -- tracking contacts -- 7 of 7 of type e_voucher\n",
      "2022-09-07 10:40:42,691 - tracker - INFO - Rank 0 -- tracking contacts -- 67 of 67 of type female_communal\n",
      "2022-09-07 10:40:42,752 - tracker - INFO - Rank 0 -- tracking contacts -- 80 of 80 of type informal_work\n",
      "2022-09-07 10:40:42,832 - tracker - INFO - Rank 0 -- tracking contacts -- 41 of 41 of type n_f_distribution_center\n",
      "2022-09-07 10:40:42,949 - tracker - INFO - Rank 0 -- tracking contacts -- 500 of 536 of type play_group\n",
      "2022-09-07 10:40:43,305 - tracker - INFO - Rank 0 -- tracking contacts -- 81 of 81 of type pump_latrine\n",
      "2022-09-07 10:40:47,652 - tracker - INFO - Rank 0 -- tracking contacts -- 500 of 2065 of type religious\n",
      "2022-09-07 10:40:47,885 - rank - INFO - Rank 0 -- tracker -- 6.5731522669957485\n",
      "2022-09-07 10:40:47,887 - epidemiology - INFO - CMS: Infection COMS-v2 for rank 0/1(2)0.00032511999597772956,0.000324249267578125 - 2020-05-24 15:00:00\n",
      "2022-09-07 10:40:47,923 - rank - INFO - Rank 0 -- interaction_waiting -- 8.131988579407334e-06\n",
      "2022-09-07 10:40:47,938 - simulator - INFO - CMS: Timestep for rank 0/1 - 7.545432267012075,7.545433521270752 - 2020-05-24 15:00:00\n",
      "\n",
      "2022-09-07 10:40:47,939 - rank - INFO - Next timestep\n",
      "2022-09-07 10:40:47,940 - simulator - INFO - ==================== timestep ====================\n",
      "2022-09-07 10:40:49,032 - rank - INFO - Rank 0 -- move_people -- 1.0911851900164038\n",
      "2022-09-07 10:40:49,033 - rank - INFO - Rank 0 -- move_people_waiting -- 1.1652009561657906e-05\n",
      "2022-09-07 10:40:49,035 - activity_manager - INFO - CMS: People COMS for rank 0/1 - 4.3879845179617405e-06,3.814697265625e-06 - 2020-05-24 17:00:00\n",
      "2022-09-07 10:40:49,043 - simulator - INFO - Info for rank 0, Date = 2020-05-24 17:00:00, number of deaths =  0, number of infected = 232\n",
      "2022-09-07 10:40:49,187 - rank - INFO - Rank 0 -- interaction -- 0.1503020429809112\n",
      "2022-09-07 10:40:49,194 - tracker - INFO - Rank 0 -- tracking contacts -- 500 of 3265 of type shelter\n",
      "2022-09-07 10:40:49,498 - tracker - INFO - Rank 0 -- tracking contacts -- 8 of 8 of type hospital\n",
      "2022-09-07 10:40:49,499 - tracker - INFO - Rank 0 -- tracking contacts -- 8 of 8 of type isolation_unit\n",
      "2022-09-07 10:40:49,502 - tracker - INFO - Rank 0 -- tracking contacts -- 389 of 389 of type learning_center\n",
      "2022-09-07 10:40:49,517 - tracker - INFO - Rank 0 -- tracking contacts -- 115 of 115 of type communal\n",
      "2022-09-07 10:40:49,521 - tracker - INFO - Rank 0 -- tracking contacts -- 21 of 21 of type distribution_center\n",
      "2022-09-07 10:40:49,611 - tracker - INFO - Rank 0 -- tracking contacts -- 7 of 7 of type e_voucher\n",
      "2022-09-07 10:40:49,626 - tracker - INFO - Rank 0 -- tracking contacts -- 67 of 67 of type female_communal\n",
      "2022-09-07 10:40:49,628 - tracker - INFO - Rank 0 -- tracking contacts -- 80 of 80 of type informal_work\n",
      "2022-09-07 10:40:49,732 - tracker - INFO - Rank 0 -- tracking contacts -- 41 of 41 of type n_f_distribution_center\n",
      "2022-09-07 10:40:49,917 - tracker - INFO - Rank 0 -- tracking contacts -- 500 of 536 of type play_group\n",
      "2022-09-07 10:40:50,483 - tracker - INFO - Rank 0 -- tracking contacts -- 81 of 81 of type pump_latrine\n",
      "2022-09-07 10:40:56,003 - tracker - INFO - Rank 0 -- tracking contacts -- 500 of 2065 of type religious\n",
      "2022-09-07 10:40:56,301 - rank - INFO - Rank 0 -- tracker -- 7.113215596007649\n",
      "2022-09-07 10:40:56,307 - epidemiology - INFO - CMS: Infection COMS-v2 for rank 0/1(2)0.000302920991089195,0.00030231475830078125 - 2020-05-24 17:00:00\n",
      "2022-09-07 10:40:56,340 - rank - INFO - Rank 0 -- interaction_waiting -- 6.739981472492218e-06\n",
      "2022-09-07 10:40:56,353 - simulator - INFO - CMS: Timestep for rank 0/1 - 8.412062351009808,8.412062883377075 - 2020-05-24 17:00:00\n",
      "\n",
      "2022-09-07 10:40:56,354 - rank - INFO - Next timestep\n",
      "2022-09-07 10:40:56,355 - simulator - INFO - ==================== timestep ====================\n",
      "2022-09-07 10:40:56,549 - rank - INFO - Rank 0 -- move_people -- 0.19269817700842395\n",
      "2022-09-07 10:40:56,550 - rank - INFO - Rank 0 -- move_people_waiting -- 7.405003998428583e-06\n",
      "2022-09-07 10:40:56,551 - activity_manager - INFO - CMS: People COMS for rank 0/1 - 4.824978532269597e-06,4.291534423828125e-06 - 2020-05-24 19:00:00\n",
      "2022-09-07 10:40:56,560 - simulator - INFO - Info for rank 0, Date = 2020-05-24 19:00:00, number of deaths =  0, number of infected = 239\n",
      "2022-09-07 10:40:56,644 - rank - INFO - Rank 0 -- interaction -- 0.09197016400867142\n",
      "2022-09-07 10:40:56,652 - tracker - INFO - Rank 0 -- tracking contacts -- 500 of 3265 of type shelter\n",
      "2022-09-07 10:40:57,879 - tracker - INFO - Rank 0 -- tracking contacts -- 8 of 8 of type hospital\n",
      "2022-09-07 10:40:57,880 - tracker - INFO - Rank 0 -- tracking contacts -- 8 of 8 of type isolation_unit\n",
      "2022-09-07 10:40:57,882 - tracker - INFO - Rank 0 -- tracking contacts -- 389 of 389 of type learning_center\n",
      "2022-09-07 10:40:57,892 - tracker - INFO - Rank 0 -- tracking contacts -- 115 of 115 of type communal\n",
      "2022-09-07 10:40:57,895 - tracker - INFO - Rank 0 -- tracking contacts -- 21 of 21 of type distribution_center\n",
      "2022-09-07 10:40:57,897 - tracker - INFO - Rank 0 -- tracking contacts -- 7 of 7 of type e_voucher\n",
      "2022-09-07 10:40:57,899 - tracker - INFO - Rank 0 -- tracking contacts -- 67 of 67 of type female_communal\n",
      "2022-09-07 10:40:57,901 - tracker - INFO - Rank 0 -- tracking contacts -- 80 of 80 of type informal_work\n",
      "2022-09-07 10:40:57,904 - tracker - INFO - Rank 0 -- tracking contacts -- 41 of 41 of type n_f_distribution_center\n",
      "2022-09-07 10:40:57,907 - tracker - INFO - Rank 0 -- tracking contacts -- 500 of 536 of type play_group\n",
      "2022-09-07 10:40:57,918 - tracker - INFO - Rank 0 -- tracking contacts -- 81 of 81 of type pump_latrine\n",
      "2022-09-07 10:40:57,929 - tracker - INFO - Rank 0 -- tracking contacts -- 500 of 2065 of type religious\n",
      "2022-09-07 10:40:57,941 - rank - INFO - Rank 0 -- tracker -- 1.2959908219927456\n",
      "2022-09-07 10:40:57,959 - epidemiology - INFO - CMS: Infection COMS-v2 for rank 0/1(2)0.0004272849764674902,0.0004267692565917969 - 2020-05-24 19:00:00\n",
      "2022-09-07 10:40:58,006 - rank - INFO - Rank 0 -- interaction_waiting -- 6.578979082405567e-06\n",
      "2022-09-07 10:40:58,022 - simulator - INFO - CMS: Timestep for rank 0/1 - 1.6658248189778533,1.6658270359039307 - 2020-05-24 19:00:00\n",
      "\n",
      "2022-09-07 10:40:58,026 - rank - INFO - Next timestep\n",
      "2022-09-07 10:40:58,027 - simulator - INFO - ==================== timestep ====================\n",
      "2022-09-07 10:40:58,208 - rank - INFO - Rank 0 -- move_people -- 0.18062490699230693\n",
      "2022-09-07 10:40:58,209 - rank - INFO - Rank 0 -- move_people_waiting -- 4.539600922726095e-05\n",
      "2022-09-07 10:40:58,210 - activity_manager - INFO - CMS: People COMS for rank 0/1 - 3.148015821352601e-06,2.86102294921875e-06 - 2020-05-25 09:00:00\n",
      "2022-09-07 10:40:58,214 - simulator - INFO - Info for rank 0, Date = 2020-05-25 09:00:00, number of deaths =  0, number of infected = 270\n",
      "2022-09-07 10:40:58,289 - rank - INFO - Rank 0 -- interaction -- 0.07891537097748369\n",
      "2022-09-07 10:41:04,301 - tracker - INFO - Rank 0 -- tracking contacts -- 500 of 3265 of type shelter\n",
      "2022-09-07 10:41:05,010 - tracker - INFO - Rank 0 -- tracking contacts -- 8 of 8 of type hospital\n",
      "2022-09-07 10:41:05,021 - tracker - INFO - Rank 0 -- tracking contacts -- 8 of 8 of type isolation_unit\n",
      "2022-09-07 10:41:05,024 - tracker - INFO - Rank 0 -- tracking contacts -- 389 of 389 of type learning_center\n"
     ]
    },
    {
     "name": "stdout",
     "output_type": "stream",
     "text": [
      "2022-09-07 10:41:06,091 - tracker - INFO - Rank 0 -- tracking contacts -- 115 of 115 of type communal\n",
      "2022-09-07 10:41:06,093 - tracker - INFO - Rank 0 -- tracking contacts -- 21 of 21 of type distribution_center\n",
      "2022-09-07 10:41:06,095 - tracker - INFO - Rank 0 -- tracking contacts -- 7 of 7 of type e_voucher\n",
      "2022-09-07 10:41:06,096 - tracker - INFO - Rank 0 -- tracking contacts -- 67 of 67 of type female_communal\n",
      "2022-09-07 10:41:06,099 - tracker - INFO - Rank 0 -- tracking contacts -- 80 of 80 of type informal_work\n",
      "2022-09-07 10:41:06,102 - tracker - INFO - Rank 0 -- tracking contacts -- 41 of 41 of type n_f_distribution_center\n",
      "2022-09-07 10:41:06,105 - tracker - INFO - Rank 0 -- tracking contacts -- 500 of 536 of type play_group\n",
      "2022-09-07 10:41:06,114 - tracker - INFO - Rank 0 -- tracking contacts -- 81 of 81 of type pump_latrine\n",
      "2022-09-07 10:41:06,126 - tracker - INFO - Rank 0 -- tracking contacts -- 500 of 2065 of type religious\n",
      "2022-09-07 10:41:06,135 - rank - INFO - Rank 0 -- tracker -- 7.844477383012418\n",
      "2022-09-07 10:41:06,139 - epidemiology - INFO - CMS: Infection COMS-v2 for rank 0/1(2)0.0003228639834560454,0.00032210350036621094 - 2020-05-25 09:00:00\n",
      "2022-09-07 10:41:06,174 - rank - INFO - Rank 0 -- interaction_waiting -- 7.274997187778354e-06\n",
      "2022-09-07 10:41:06,196 - simulator - INFO - CMS: Timestep for rank 0/1 - 8.168437286018161,8.168437957763672 - 2020-05-25 09:00:00\n",
      "\n",
      "2022-09-07 10:41:06,199 - rank - INFO - Next timestep\n",
      "2022-09-07 10:41:06,200 - simulator - INFO - ==================== timestep ====================\n",
      "2022-09-07 10:41:07,070 - rank - INFO - Rank 0 -- move_people -- 0.8686224260018207\n",
      "2022-09-07 10:41:07,071 - rank - INFO - Rank 0 -- move_people_waiting -- 1.0303017916157842e-05\n",
      "2022-09-07 10:41:07,072 - activity_manager - INFO - CMS: People COMS for rank 0/1 - 3.6720011848956347e-06,3.337860107421875e-06 - 2020-05-25 11:00:00\n",
      "2022-09-07 10:41:07,079 - simulator - INFO - Info for rank 0, Date = 2020-05-25 11:00:00, number of deaths =  0, number of infected = 276\n",
      "2022-09-07 10:41:07,222 - rank - INFO - Rank 0 -- interaction -- 0.1482189779926557\n",
      "2022-09-07 10:41:08,421 - tracker - INFO - Rank 0 -- tracking contacts -- 500 of 3265 of type shelter\n",
      "2022-09-07 10:41:08,669 - tracker - INFO - Rank 0 -- tracking contacts -- 8 of 8 of type hospital\n",
      "2022-09-07 10:41:08,678 - tracker - INFO - Rank 0 -- tracking contacts -- 8 of 8 of type isolation_unit\n",
      "2022-09-07 10:41:08,681 - tracker - INFO - Rank 0 -- tracking contacts -- 389 of 389 of type learning_center\n",
      "2022-09-07 10:41:09,688 - tracker - INFO - Rank 0 -- tracking contacts -- 115 of 115 of type communal\n",
      "2022-09-07 10:41:09,714 - tracker - INFO - Rank 0 -- tracking contacts -- 21 of 21 of type distribution_center\n",
      "2022-09-07 10:41:09,761 - tracker - INFO - Rank 0 -- tracking contacts -- 7 of 7 of type e_voucher\n",
      "2022-09-07 10:41:09,779 - tracker - INFO - Rank 0 -- tracking contacts -- 67 of 67 of type female_communal\n",
      "2022-09-07 10:41:09,836 - tracker - INFO - Rank 0 -- tracking contacts -- 80 of 80 of type informal_work\n",
      "2022-09-07 10:41:09,915 - tracker - INFO - Rank 0 -- tracking contacts -- 41 of 41 of type n_f_distribution_center\n",
      "2022-09-07 10:41:10,026 - tracker - INFO - Rank 0 -- tracking contacts -- 500 of 536 of type play_group\n",
      "2022-09-07 10:41:10,412 - tracker - INFO - Rank 0 -- tracking contacts -- 81 of 81 of type pump_latrine\n",
      "2022-09-07 10:41:14,795 - tracker - INFO - Rank 0 -- tracking contacts -- 500 of 2065 of type religious\n",
      "2022-09-07 10:41:15,031 - rank - INFO - Rank 0 -- tracker -- 7.808739820000483\n",
      "2022-09-07 10:41:15,041 - epidemiology - INFO - CMS: Infection COMS-v2 for rank 0/1(2)0.0007670619816053659,0.000766754150390625 - 2020-05-25 11:00:00\n",
      "2022-09-07 10:41:15,079 - rank - INFO - Rank 0 -- interaction_waiting -- 6.516987923532724e-06\n",
      "2022-09-07 10:41:15,093 - simulator - INFO - CMS: Timestep for rank 0/1 - 8.891861501004314,8.891861915588379 - 2020-05-25 11:00:00\n",
      "\n",
      "2022-09-07 10:41:15,097 - rank - INFO - Next timestep\n",
      "2022-09-07 10:41:15,098 - simulator - INFO - ==================== timestep ====================\n",
      "2022-09-07 10:41:16,026 - rank - INFO - Rank 0 -- move_people -- 0.9270071529899724\n",
      "2022-09-07 10:41:16,027 - rank - INFO - Rank 0 -- move_people_waiting -- 8.19200067780912e-06\n",
      "2022-09-07 10:41:16,028 - activity_manager - INFO - CMS: People COMS for rank 0/1 - 5.244975909590721e-06,5.0067901611328125e-06 - 2020-05-25 13:00:00\n",
      "2022-09-07 10:41:16,037 - simulator - INFO - Info for rank 0, Date = 2020-05-25 13:00:00, number of deaths =  0, number of infected = 287\n",
      "2022-09-07 10:41:16,191 - rank - INFO - Rank 0 -- interaction -- 0.16139663200010546\n",
      "2022-09-07 10:41:19,264 - tracker - INFO - Rank 0 -- tracking contacts -- 500 of 3265 of type shelter\n",
      "2022-09-07 10:41:19,541 - tracker - INFO - Rank 0 -- tracking contacts -- 8 of 8 of type hospital\n",
      "2022-09-07 10:41:19,549 - tracker - INFO - Rank 0 -- tracking contacts -- 8 of 8 of type isolation_unit\n",
      "2022-09-07 10:41:19,551 - tracker - INFO - Rank 0 -- tracking contacts -- 389 of 389 of type learning_center\n",
      "2022-09-07 10:41:20,678 - tracker - INFO - Rank 0 -- tracking contacts -- 115 of 115 of type communal\n",
      "2022-09-07 10:41:20,702 - tracker - INFO - Rank 0 -- tracking contacts -- 21 of 21 of type distribution_center\n",
      "2022-09-07 10:41:20,748 - tracker - INFO - Rank 0 -- tracking contacts -- 7 of 7 of type e_voucher\n",
      "2022-09-07 10:41:20,771 - tracker - INFO - Rank 0 -- tracking contacts -- 67 of 67 of type female_communal\n",
      "2022-09-07 10:41:20,820 - tracker - INFO - Rank 0 -- tracking contacts -- 80 of 80 of type informal_work\n",
      "2022-09-07 10:41:20,913 - tracker - INFO - Rank 0 -- tracking contacts -- 41 of 41 of type n_f_distribution_center\n",
      "2022-09-07 10:41:21,033 - tracker - INFO - Rank 0 -- tracking contacts -- 500 of 536 of type play_group\n",
      "2022-09-07 10:41:21,456 - tracker - INFO - Rank 0 -- tracking contacts -- 81 of 81 of type pump_latrine\n",
      "2022-09-07 10:41:25,560 - tracker - INFO - Rank 0 -- tracking contacts -- 500 of 2065 of type religious\n",
      "2022-09-07 10:41:25,775 - rank - INFO - Rank 0 -- tracker -- 9.582668157003354\n",
      "2022-09-07 10:41:25,782 - epidemiology - INFO - CMS: Infection COMS-v2 for rank 0/1(2)0.00021213199943304062,0.00021195411682128906 - 2020-05-25 13:00:00\n",
      "2022-09-07 10:41:25,807 - rank - INFO - Rank 0 -- interaction_waiting -- 5.161011358723044e-06\n",
      "2022-09-07 10:41:25,819 - simulator - INFO - CMS: Timestep for rank 0/1 - 10.719919722992927,10.71992015838623 - 2020-05-25 13:00:00\n",
      "\n",
      "2022-09-07 10:41:25,821 - rank - INFO - Next timestep\n",
      "2022-09-07 10:41:25,822 - simulator - INFO - ==================== timestep ====================\n",
      "2022-09-07 10:41:26,615 - rank - INFO - Rank 0 -- move_people -- 0.7923754929797724\n",
      "2022-09-07 10:41:26,616 - rank - INFO - Rank 0 -- move_people_waiting -- 6.905000191181898e-06\n",
      "2022-09-07 10:41:26,617 - activity_manager - INFO - CMS: People COMS for rank 0/1 - 4.5349879655987024e-06,4.291534423828125e-06 - 2020-05-25 15:00:00\n",
      "2022-09-07 10:41:26,623 - simulator - INFO - Info for rank 0, Date = 2020-05-25 15:00:00, number of deaths =  0, number of infected = 302\n",
      "2022-09-07 10:41:26,783 - rank - INFO - Rank 0 -- interaction -- 0.1655186439747922\n",
      "2022-09-07 10:41:30,956 - tracker - INFO - Rank 0 -- tracking contacts -- 500 of 3265 of type shelter\n",
      "2022-09-07 10:41:31,144 - tracker - INFO - Rank 0 -- tracking contacts -- 8 of 8 of type hospital\n",
      "2022-09-07 10:41:31,149 - tracker - INFO - Rank 0 -- tracking contacts -- 8 of 8 of type isolation_unit\n",
      "2022-09-07 10:41:31,150 - tracker - INFO - Rank 0 -- tracking contacts -- 389 of 389 of type learning_center\n",
      "2022-09-07 10:41:31,793 - tracker - INFO - Rank 0 -- tracking contacts -- 115 of 115 of type communal\n",
      "2022-09-07 10:41:31,811 - tracker - INFO - Rank 0 -- tracking contacts -- 21 of 21 of type distribution_center\n",
      "2022-09-07 10:41:31,840 - tracker - INFO - Rank 0 -- tracking contacts -- 7 of 7 of type e_voucher\n",
      "2022-09-07 10:41:31,850 - tracker - INFO - Rank 0 -- tracking contacts -- 67 of 67 of type female_communal\n",
      "2022-09-07 10:41:31,887 - tracker - INFO - Rank 0 -- tracking contacts -- 80 of 80 of type informal_work\n",
      "2022-09-07 10:41:31,932 - tracker - INFO - Rank 0 -- tracking contacts -- 41 of 41 of type n_f_distribution_center\n"
     ]
    },
    {
     "name": "stdout",
     "output_type": "stream",
     "text": [
      "2022-09-07 10:41:31,994 - tracker - INFO - Rank 0 -- tracking contacts -- 500 of 536 of type play_group\n",
      "2022-09-07 10:41:32,260 - tracker - INFO - Rank 0 -- tracking contacts -- 81 of 81 of type pump_latrine\n",
      "2022-09-07 10:41:36,286 - tracker - INFO - Rank 0 -- tracking contacts -- 500 of 2065 of type religious\n",
      "2022-09-07 10:41:36,521 - rank - INFO - Rank 0 -- tracker -- 9.737137940013781\n",
      "2022-09-07 10:41:36,527 - epidemiology - INFO - CMS: Infection COMS-v2 for rank 0/1(2)0.0005367740232031792,0.0005366802215576172 - 2020-05-25 15:00:00\n",
      "2022-09-07 10:41:36,562 - rank - INFO - Rank 0 -- interaction_waiting -- 8.005998097360134e-06\n",
      "2022-09-07 10:41:36,575 - simulator - INFO - CMS: Timestep for rank 0/1 - 10.75251052400563,10.752511501312256 - 2020-05-25 15:00:00\n",
      "\n",
      "2022-09-07 10:41:36,578 - rank - INFO - Next timestep\n",
      "2022-09-07 10:41:36,579 - simulator - INFO - ==================== timestep ====================\n",
      "2022-09-07 10:41:37,442 - rank - INFO - Rank 0 -- move_people -- 0.8617706130025908\n",
      "2022-09-07 10:41:37,443 - rank - INFO - Rank 0 -- move_people_waiting -- 5.030975444242358e-06\n",
      "2022-09-07 10:41:37,443 - activity_manager - INFO - CMS: People COMS for rank 0/1 - 3.7520076148211956e-06,3.5762786865234375e-06 - 2020-05-25 17:00:00\n",
      "2022-09-07 10:41:37,449 - simulator - INFO - Info for rank 0, Date = 2020-05-25 17:00:00, number of deaths =  0, number of infected = 309\n",
      "2022-09-07 10:41:37,650 - rank - INFO - Rank 0 -- interaction -- 0.20623860499472357\n",
      "2022-09-07 10:41:42,725 - tracker - INFO - Rank 0 -- tracking contacts -- 500 of 3265 of type shelter\n",
      "2022-09-07 10:41:43,074 - tracker - INFO - Rank 0 -- tracking contacts -- 8 of 8 of type hospital\n",
      "2022-09-07 10:41:43,075 - tracker - INFO - Rank 0 -- tracking contacts -- 8 of 8 of type isolation_unit\n",
      "2022-09-07 10:41:43,079 - tracker - INFO - Rank 0 -- tracking contacts -- 389 of 389 of type learning_center\n",
      "2022-09-07 10:41:43,091 - tracker - INFO - Rank 0 -- tracking contacts -- 115 of 115 of type communal\n",
      "2022-09-07 10:41:43,095 - tracker - INFO - Rank 0 -- tracking contacts -- 21 of 21 of type distribution_center\n",
      "2022-09-07 10:41:43,149 - tracker - INFO - Rank 0 -- tracking contacts -- 7 of 7 of type e_voucher\n",
      "2022-09-07 10:41:43,168 - tracker - INFO - Rank 0 -- tracking contacts -- 67 of 67 of type female_communal\n",
      "2022-09-07 10:41:43,171 - tracker - INFO - Rank 0 -- tracking contacts -- 80 of 80 of type informal_work\n",
      "2022-09-07 10:41:43,286 - tracker - INFO - Rank 0 -- tracking contacts -- 41 of 41 of type n_f_distribution_center\n",
      "2022-09-07 10:41:43,450 - tracker - INFO - Rank 0 -- tracking contacts -- 500 of 536 of type play_group\n",
      "2022-09-07 10:41:44,098 - tracker - INFO - Rank 0 -- tracking contacts -- 81 of 81 of type pump_latrine\n",
      "2022-09-07 10:41:49,313 - tracker - INFO - Rank 0 -- tracking contacts -- 500 of 2065 of type religious\n",
      "2022-09-07 10:41:49,605 - rank - INFO - Rank 0 -- tracker -- 11.947681456018472\n",
      "2022-09-07 10:41:49,613 - epidemiology - INFO - CMS: Infection COMS-v2 for rank 0/1(2)0.0003235460026189685,0.0003230571746826172 - 2020-05-25 17:00:00\n",
      "2022-09-07 10:41:49,655 - rank - INFO - Rank 0 -- interaction_waiting -- 9.687995770946145e-06\n",
      "2022-09-07 10:41:49,671 - simulator - INFO - CMS: Timestep for rank 0/1 - 13.09130097401794,13.091301918029785 - 2020-05-25 17:00:00\n",
      "\n",
      "2022-09-07 10:41:49,675 - rank - INFO - Next timestep\n",
      "2022-09-07 10:41:49,676 - simulator - INFO - ==================== timestep ====================\n",
      "2022-09-07 10:41:49,858 - rank - INFO - Rank 0 -- move_people -- 0.1814915119903162\n",
      "2022-09-07 10:41:49,859 - rank - INFO - Rank 0 -- move_people_waiting -- 7.188005838543177e-06\n",
      "2022-09-07 10:41:49,860 - activity_manager - INFO - CMS: People COMS for rank 0/1 - 4.108005668967962e-06,3.814697265625e-06 - 2020-05-25 19:00:00\n",
      "2022-09-07 10:41:49,866 - simulator - INFO - Info for rank 0, Date = 2020-05-25 19:00:00, number of deaths =  0, number of infected = 325\n",
      "2022-09-07 10:41:49,965 - rank - INFO - Rank 0 -- interaction -- 0.10444098702282645\n",
      "2022-09-07 10:41:56,111 - tracker - INFO - Rank 0 -- tracking contacts -- 500 of 3265 of type shelter\n",
      "2022-09-07 10:41:57,248 - tracker - INFO - Rank 0 -- tracking contacts -- 8 of 8 of type hospital\n",
      "2022-09-07 10:41:57,249 - tracker - INFO - Rank 0 -- tracking contacts -- 8 of 8 of type isolation_unit\n",
      "2022-09-07 10:41:57,252 - tracker - INFO - Rank 0 -- tracking contacts -- 389 of 389 of type learning_center\n",
      "2022-09-07 10:41:57,265 - tracker - INFO - Rank 0 -- tracking contacts -- 115 of 115 of type communal\n",
      "2022-09-07 10:41:57,269 - tracker - INFO - Rank 0 -- tracking contacts -- 21 of 21 of type distribution_center\n",
      "2022-09-07 10:41:57,271 - tracker - INFO - Rank 0 -- tracking contacts -- 7 of 7 of type e_voucher\n",
      "2022-09-07 10:41:57,273 - tracker - INFO - Rank 0 -- tracking contacts -- 67 of 67 of type female_communal\n",
      "2022-09-07 10:41:57,276 - tracker - INFO - Rank 0 -- tracking contacts -- 80 of 80 of type informal_work\n",
      "2022-09-07 10:41:57,279 - tracker - INFO - Rank 0 -- tracking contacts -- 41 of 41 of type n_f_distribution_center\n",
      "2022-09-07 10:41:57,282 - tracker - INFO - Rank 0 -- tracking contacts -- 500 of 536 of type play_group\n",
      "2022-09-07 10:41:57,294 - tracker - INFO - Rank 0 -- tracking contacts -- 81 of 81 of type pump_latrine\n",
      "2022-09-07 10:41:57,308 - tracker - INFO - Rank 0 -- tracking contacts -- 500 of 2065 of type religious\n",
      "2022-09-07 10:41:57,320 - rank - INFO - Rank 0 -- tracker -- 7.35409515700303\n",
      "2022-09-07 10:41:57,346 - epidemiology - INFO - CMS: Infection COMS-v2 for rank 0/1(2)0.00022856798022985458,0.0002281665802001953 - 2020-05-25 19:00:00\n",
      "2022-09-07 10:41:57,622 - rank - INFO - Rank 0 -- interaction_waiting -- 7.731985533609986e-06\n",
      "2022-09-07 10:41:57,639 - simulator - INFO - CMS: Timestep for rank 0/1 - 7.962147151003592,7.962148427963257 - 2020-05-25 19:00:00\n",
      "\n",
      "2022-09-07 10:41:57,642 - rank - INFO - Next timestep\n",
      "2022-09-07 10:41:57,643 - simulator - INFO - ==================== timestep ====================\n",
      "2022-09-07 10:41:57,871 - rank - INFO - Rank 0 -- move_people -- 0.22725536898360588\n",
      "2022-09-07 10:41:57,872 - rank - INFO - Rank 0 -- move_people_waiting -- 8.611008524894714e-06\n",
      "2022-09-07 10:41:57,873 - activity_manager - INFO - CMS: People COMS for rank 0/1 - 4.460976924747229e-06,4.291534423828125e-06 - 2020-05-26 09:00:00\n",
      "2022-09-07 10:41:57,878 - simulator - INFO - Info for rank 0, Date = 2020-05-26 09:00:00, number of deaths =  0, number of infected = 373\n",
      "2022-09-07 10:41:57,970 - rank - INFO - Rank 0 -- interaction -- 0.0962632360169664\n",
      "2022-09-07 10:42:04,248 - tracker - INFO - Rank 0 -- tracking contacts -- 500 of 3265 of type shelter\n",
      "2022-09-07 10:42:05,075 - tracker - INFO - Rank 0 -- tracking contacts -- 8 of 8 of type hospital\n",
      "2022-09-07 10:42:05,084 - tracker - INFO - Rank 0 -- tracking contacts -- 8 of 8 of type isolation_unit\n",
      "2022-09-07 10:42:05,088 - tracker - INFO - Rank 0 -- tracking contacts -- 389 of 389 of type learning_center\n",
      "2022-09-07 10:42:06,325 - tracker - INFO - Rank 0 -- tracking contacts -- 115 of 115 of type communal\n",
      "2022-09-07 10:42:06,328 - tracker - INFO - Rank 0 -- tracking contacts -- 21 of 21 of type distribution_center\n",
      "2022-09-07 10:42:06,330 - tracker - INFO - Rank 0 -- tracking contacts -- 7 of 7 of type e_voucher\n",
      "2022-09-07 10:42:06,331 - tracker - INFO - Rank 0 -- tracking contacts -- 67 of 67 of type female_communal\n",
      "2022-09-07 10:42:06,334 - tracker - INFO - Rank 0 -- tracking contacts -- 80 of 80 of type informal_work\n",
      "2022-09-07 10:42:06,338 - tracker - INFO - Rank 0 -- tracking contacts -- 41 of 41 of type n_f_distribution_center\n",
      "2022-09-07 10:42:06,342 - tracker - INFO - Rank 0 -- tracking contacts -- 500 of 536 of type play_group\n",
      "2022-09-07 10:42:06,358 - tracker - INFO - Rank 0 -- tracking contacts -- 81 of 81 of type pump_latrine\n",
      "2022-09-07 10:42:06,377 - tracker - INFO - Rank 0 -- tracking contacts -- 500 of 2065 of type religious\n",
      "2022-09-07 10:42:06,391 - rank - INFO - Rank 0 -- tracker -- 8.420209761010483\n",
      "2022-09-07 10:42:06,399 - epidemiology - INFO - CMS: Infection COMS-v2 for rank 0/1(2)0.0004646260058507323,0.00046443939208984375 - 2020-05-26 09:00:00\n",
      "2022-09-07 10:42:06,449 - rank - INFO - Rank 0 -- interaction_waiting -- 6.7829969339072704e-06\n"
     ]
    },
    {
     "name": "stdout",
     "output_type": "stream",
     "text": [
      "2022-09-07 10:42:06,466 - simulator - INFO - CMS: Timestep for rank 0/1 - 8.82250888098497,8.822510242462158 - 2020-05-26 09:00:00\n",
      "\n",
      "2022-09-07 10:42:06,470 - rank - INFO - Next timestep\n",
      "2022-09-07 10:42:06,472 - simulator - INFO - ==================== timestep ====================\n",
      "2022-09-07 10:42:07,421 - rank - INFO - Rank 0 -- move_people -- 0.9484865129925311\n",
      "2022-09-07 10:42:07,422 - rank - INFO - Rank 0 -- move_people_waiting -- 4.260975401848555e-06\n",
      "2022-09-07 10:42:07,423 - activity_manager - INFO - CMS: People COMS for rank 0/1 - 4.122004611417651e-06,3.814697265625e-06 - 2020-05-26 11:00:00\n",
      "2022-09-07 10:42:07,430 - simulator - INFO - Info for rank 0, Date = 2020-05-26 11:00:00, number of deaths =  0, number of infected = 383\n",
      "2022-09-07 10:42:07,589 - rank - INFO - Rank 0 -- interaction -- 0.16479121299926192\n",
      "2022-09-07 10:42:08,883 - tracker - INFO - Rank 0 -- tracking contacts -- 500 of 3265 of type shelter\n",
      "2022-09-07 10:42:09,225 - tracker - INFO - Rank 0 -- tracking contacts -- 8 of 8 of type hospital\n",
      "2022-09-07 10:42:09,236 - tracker - INFO - Rank 0 -- tracking contacts -- 8 of 8 of type isolation_unit\n",
      "2022-09-07 10:42:09,238 - tracker - INFO - Rank 0 -- tracking contacts -- 389 of 389 of type learning_center\n",
      "2022-09-07 10:42:10,398 - tracker - INFO - Rank 0 -- tracking contacts -- 115 of 115 of type communal\n",
      "2022-09-07 10:42:10,424 - tracker - INFO - Rank 0 -- tracking contacts -- 21 of 21 of type distribution_center\n",
      "2022-09-07 10:42:10,498 - tracker - INFO - Rank 0 -- tracking contacts -- 7 of 7 of type e_voucher\n",
      "2022-09-07 10:42:10,519 - tracker - INFO - Rank 0 -- tracking contacts -- 67 of 67 of type female_communal\n",
      "2022-09-07 10:42:10,608 - tracker - INFO - Rank 0 -- tracking contacts -- 80 of 80 of type informal_work\n",
      "2022-09-07 10:42:10,703 - tracker - INFO - Rank 0 -- tracking contacts -- 41 of 41 of type n_f_distribution_center\n",
      "2022-09-07 10:42:10,853 - tracker - INFO - Rank 0 -- tracking contacts -- 500 of 536 of type play_group\n",
      "2022-09-07 10:42:11,224 - tracker - INFO - Rank 0 -- tracking contacts -- 81 of 81 of type pump_latrine\n",
      "2022-09-07 10:42:15,336 - tracker - INFO - Rank 0 -- tracking contacts -- 500 of 2065 of type religious\n",
      "2022-09-07 10:42:15,592 - rank - INFO - Rank 0 -- tracker -- 8.001451948017348\n",
      "2022-09-07 10:42:15,603 - epidemiology - INFO - CMS: Infection COMS-v2 for rank 0/1(2)0.0003340739931445569,0.00033354759216308594 - 2020-05-26 11:00:00\n",
      "2022-09-07 10:42:15,642 - rank - INFO - Rank 0 -- interaction_waiting -- 6.50499714538455e-06\n",
      "2022-09-07 10:42:15,661 - simulator - INFO - CMS: Timestep for rank 0/1 - 9.188212612003554,9.188213348388672 - 2020-05-26 11:00:00\n",
      "\n",
      "2022-09-07 10:42:15,664 - rank - INFO - Next timestep\n",
      "2022-09-07 10:42:15,666 - simulator - INFO - ==================== timestep ====================\n",
      "2022-09-07 10:42:16,478 - rank - INFO - Rank 0 -- move_people -- 0.8104254849895369\n",
      "2022-09-07 10:42:16,479 - rank - INFO - Rank 0 -- move_people_waiting -- 8.325005182996392e-06\n",
      "2022-09-07 10:42:16,479 - activity_manager - INFO - CMS: People COMS for rank 0/1 - 3.4009863156825304e-06,3.0994415283203125e-06 - 2020-05-26 13:00:00\n",
      "2022-09-07 10:42:16,485 - simulator - INFO - Info for rank 0, Date = 2020-05-26 13:00:00, number of deaths =  0, number of infected = 398\n",
      "2022-09-07 10:42:16,631 - rank - INFO - Rank 0 -- interaction -- 0.15094942701398395\n",
      "2022-09-07 10:42:19,484 - tracker - INFO - Rank 0 -- tracking contacts -- 500 of 3265 of type shelter\n",
      "2022-09-07 10:42:19,772 - tracker - INFO - Rank 0 -- tracking contacts -- 8 of 8 of type hospital\n",
      "2022-09-07 10:42:19,781 - tracker - INFO - Rank 0 -- tracking contacts -- 8 of 8 of type isolation_unit\n",
      "2022-09-07 10:42:19,783 - tracker - INFO - Rank 0 -- tracking contacts -- 389 of 389 of type learning_center\n",
      "2022-09-07 10:42:20,949 - tracker - INFO - Rank 0 -- tracking contacts -- 115 of 115 of type communal\n",
      "2022-09-07 10:42:20,967 - tracker - INFO - Rank 0 -- tracking contacts -- 21 of 21 of type distribution_center\n",
      "2022-09-07 10:42:21,037 - tracker - INFO - Rank 0 -- tracking contacts -- 7 of 7 of type e_voucher\n",
      "2022-09-07 10:42:21,057 - tracker - INFO - Rank 0 -- tracking contacts -- 67 of 67 of type female_communal\n",
      "2022-09-07 10:42:21,146 - tracker - INFO - Rank 0 -- tracking contacts -- 80 of 80 of type informal_work\n",
      "2022-09-07 10:42:21,260 - tracker - INFO - Rank 0 -- tracking contacts -- 41 of 41 of type n_f_distribution_center\n",
      "2022-09-07 10:42:21,362 - tracker - INFO - Rank 0 -- tracking contacts -- 500 of 536 of type play_group\n",
      "2022-09-07 10:42:21,758 - tracker - INFO - Rank 0 -- tracking contacts -- 81 of 81 of type pump_latrine\n",
      "2022-09-07 10:42:26,101 - tracker - INFO - Rank 0 -- tracking contacts -- 500 of 2065 of type religious\n",
      "2022-09-07 10:42:26,319 - rank - INFO - Rank 0 -- tracker -- 9.686181992001366\n",
      "2022-09-07 10:42:26,327 - epidemiology - INFO - CMS: Infection COMS-v2 for rank 0/1(2)0.0005681990005541593,0.0005681514739990234 - 2020-05-26 13:00:00\n",
      "2022-09-07 10:42:26,373 - rank - INFO - Rank 0 -- interaction_waiting -- 7.044000085443258e-06\n",
      "2022-09-07 10:42:26,387 - simulator - INFO - CMS: Timestep for rank 0/1 - 10.720083874999546,10.72008466720581 - 2020-05-26 13:00:00\n",
      "\n",
      "2022-09-07 10:42:26,391 - rank - INFO - Next timestep\n",
      "2022-09-07 10:42:26,392 - simulator - INFO - ==================== timestep ====================\n",
      "2022-09-07 10:42:27,369 - rank - INFO - Rank 0 -- move_people -- 0.9759729489742313\n",
      "2022-09-07 10:42:27,370 - rank - INFO - Rank 0 -- move_people_waiting -- 9.660987416282296e-06\n",
      "2022-09-07 10:42:27,371 - activity_manager - INFO - CMS: People COMS for rank 0/1 - 4.472007276490331e-06,3.814697265625e-06 - 2020-05-26 15:00:00\n",
      "2022-09-07 10:42:27,377 - simulator - INFO - Info for rank 0, Date = 2020-05-26 15:00:00, number of deaths =  0, number of infected = 413\n",
      "2022-09-07 10:42:27,547 - rank - INFO - Rank 0 -- interaction -- 0.17559544899268076\n",
      "2022-09-07 10:42:31,938 - tracker - INFO - Rank 0 -- tracking contacts -- 500 of 3265 of type shelter\n",
      "2022-09-07 10:42:32,210 - tracker - INFO - Rank 0 -- tracking contacts -- 8 of 8 of type hospital\n",
      "2022-09-07 10:42:32,220 - tracker - INFO - Rank 0 -- tracking contacts -- 8 of 8 of type isolation_unit\n",
      "2022-09-07 10:42:32,222 - tracker - INFO - Rank 0 -- tracking contacts -- 389 of 389 of type learning_center\n",
      "2022-09-07 10:42:33,387 - tracker - INFO - Rank 0 -- tracking contacts -- 115 of 115 of type communal\n",
      "2022-09-07 10:42:33,411 - tracker - INFO - Rank 0 -- tracking contacts -- 21 of 21 of type distribution_center\n",
      "2022-09-07 10:42:33,472 - tracker - INFO - Rank 0 -- tracking contacts -- 7 of 7 of type e_voucher\n",
      "2022-09-07 10:42:33,498 - tracker - INFO - Rank 0 -- tracking contacts -- 67 of 67 of type female_communal\n",
      "2022-09-07 10:42:33,581 - tracker - INFO - Rank 0 -- tracking contacts -- 80 of 80 of type informal_work\n",
      "2022-09-07 10:42:33,667 - tracker - INFO - Rank 0 -- tracking contacts -- 41 of 41 of type n_f_distribution_center\n",
      "2022-09-07 10:42:33,808 - tracker - INFO - Rank 0 -- tracking contacts -- 500 of 536 of type play_group\n",
      "2022-09-07 10:42:34,221 - tracker - INFO - Rank 0 -- tracking contacts -- 81 of 81 of type pump_latrine\n",
      "2022-09-07 10:42:38,149 - tracker - INFO - Rank 0 -- tracking contacts -- 500 of 2065 of type religious\n",
      "2022-09-07 10:42:38,357 - rank - INFO - Rank 0 -- tracker -- 10.80863945998135\n",
      "2022-09-07 10:42:38,364 - epidemiology - INFO - CMS: Infection COMS-v2 for rank 0/1(2)0.00026246398920193315,0.0002617835998535156 - 2020-05-26 15:00:00\n",
      "2022-09-07 10:42:38,400 - rank - INFO - Rank 0 -- interaction_waiting -- 6.8829976953566074e-06\n",
      "2022-09-07 10:42:38,415 - simulator - INFO - CMS: Timestep for rank 0/1 - 12.022095346997958,12.022096157073975 - 2020-05-26 15:00:00\n",
      "\n",
      "2022-09-07 10:42:38,418 - rank - INFO - Next timestep\n",
      "2022-09-07 10:42:38,419 - simulator - INFO - ==================== timestep ====================\n",
      "2022-09-07 10:42:39,351 - rank - INFO - Rank 0 -- move_people -- 0.931299713003682\n",
      "2022-09-07 10:42:39,352 - rank - INFO - Rank 0 -- move_people_waiting -- 8.175993571057916e-06\n",
      "2022-09-07 10:42:39,353 - activity_manager - INFO - CMS: People COMS for rank 0/1 - 3.723020199686289e-06,3.5762786865234375e-06 - 2020-05-26 17:00:00\n",
      "2022-09-07 10:42:39,358 - simulator - INFO - Info for rank 0, Date = 2020-05-26 17:00:00, number of deaths =  0, number of infected = 425\n"
     ]
    },
    {
     "name": "stdout",
     "output_type": "stream",
     "text": [
      "2022-09-07 10:42:39,521 - rank - INFO - Rank 0 -- interaction -- 0.16712044199812226\n",
      "2022-09-07 10:42:44,883 - tracker - INFO - Rank 0 -- tracking contacts -- 500 of 3265 of type shelter\n",
      "2022-09-07 10:42:45,227 - tracker - INFO - Rank 0 -- tracking contacts -- 8 of 8 of type hospital\n",
      "2022-09-07 10:42:45,229 - tracker - INFO - Rank 0 -- tracking contacts -- 8 of 8 of type isolation_unit\n",
      "2022-09-07 10:42:45,231 - tracker - INFO - Rank 0 -- tracking contacts -- 389 of 389 of type learning_center\n",
      "2022-09-07 10:42:45,246 - tracker - INFO - Rank 0 -- tracking contacts -- 115 of 115 of type communal\n",
      "2022-09-07 10:42:45,249 - tracker - INFO - Rank 0 -- tracking contacts -- 21 of 21 of type distribution_center\n",
      "2022-09-07 10:42:45,318 - tracker - INFO - Rank 0 -- tracking contacts -- 7 of 7 of type e_voucher\n",
      "2022-09-07 10:42:45,336 - tracker - INFO - Rank 0 -- tracking contacts -- 67 of 67 of type female_communal\n",
      "2022-09-07 10:42:45,339 - tracker - INFO - Rank 0 -- tracking contacts -- 80 of 80 of type informal_work\n",
      "2022-09-07 10:42:45,454 - tracker - INFO - Rank 0 -- tracking contacts -- 41 of 41 of type n_f_distribution_center\n",
      "2022-09-07 10:42:45,579 - tracker - INFO - Rank 0 -- tracking contacts -- 500 of 536 of type play_group\n",
      "2022-09-07 10:42:46,179 - tracker - INFO - Rank 0 -- tracking contacts -- 81 of 81 of type pump_latrine\n",
      "2022-09-07 10:42:51,973 - tracker - INFO - Rank 0 -- tracking contacts -- 500 of 2065 of type religious\n",
      "2022-09-07 10:42:52,290 - rank - INFO - Rank 0 -- tracker -- 12.768315805005841\n",
      "2022-09-07 10:42:52,301 - epidemiology - INFO - CMS: Infection COMS-v2 for rank 0/1(2)0.0007061559881549329,0.0007054805755615234 - 2020-05-26 17:00:00\n",
      "2022-09-07 10:42:52,343 - rank - INFO - Rank 0 -- interaction_waiting -- 7.5830030255019665e-06\n",
      "2022-09-07 10:42:52,361 - simulator - INFO - CMS: Timestep for rank 0/1 - 13.941422502975911,13.941424369812012 - 2020-05-26 17:00:00\n",
      "\n",
      "2022-09-07 10:42:52,365 - rank - INFO - Next timestep\n",
      "2022-09-07 10:42:52,367 - simulator - INFO - ==================== timestep ====================\n",
      "2022-09-07 10:42:52,579 - rank - INFO - Rank 0 -- move_people -- 0.21123734299908392\n",
      "2022-09-07 10:42:52,580 - rank - INFO - Rank 0 -- move_people_waiting -- 9.817013051360846e-06\n",
      "2022-09-07 10:42:52,581 - activity_manager - INFO - CMS: People COMS for rank 0/1 - 5.164009053260088e-06,5.0067901611328125e-06 - 2020-05-26 19:00:00\n",
      "2022-09-07 10:42:52,588 - simulator - INFO - Info for rank 0, Date = 2020-05-26 19:00:00, number of deaths =  0, number of infected = 439\n",
      "2022-09-07 10:42:52,697 - rank - INFO - Rank 0 -- interaction -- 0.11498152199783362\n",
      "2022-09-07 10:42:59,079 - tracker - INFO - Rank 0 -- tracking contacts -- 500 of 3265 of type shelter\n",
      "2022-09-07 10:43:00,115 - tracker - INFO - Rank 0 -- tracking contacts -- 8 of 8 of type hospital\n",
      "2022-09-07 10:43:00,116 - tracker - INFO - Rank 0 -- tracking contacts -- 8 of 8 of type isolation_unit\n",
      "2022-09-07 10:43:00,118 - tracker - INFO - Rank 0 -- tracking contacts -- 389 of 389 of type learning_center\n",
      "2022-09-07 10:43:00,132 - tracker - INFO - Rank 0 -- tracking contacts -- 115 of 115 of type communal\n",
      "2022-09-07 10:43:00,135 - tracker - INFO - Rank 0 -- tracking contacts -- 21 of 21 of type distribution_center\n",
      "2022-09-07 10:43:00,136 - tracker - INFO - Rank 0 -- tracking contacts -- 7 of 7 of type e_voucher\n",
      "2022-09-07 10:43:00,138 - tracker - INFO - Rank 0 -- tracking contacts -- 67 of 67 of type female_communal\n",
      "2022-09-07 10:43:00,140 - tracker - INFO - Rank 0 -- tracking contacts -- 80 of 80 of type informal_work\n",
      "2022-09-07 10:43:00,143 - tracker - INFO - Rank 0 -- tracking contacts -- 41 of 41 of type n_f_distribution_center\n",
      "2022-09-07 10:43:00,146 - tracker - INFO - Rank 0 -- tracking contacts -- 500 of 536 of type play_group\n",
      "2022-09-07 10:43:00,156 - tracker - INFO - Rank 0 -- tracking contacts -- 81 of 81 of type pump_latrine\n",
      "2022-09-07 10:43:00,168 - tracker - INFO - Rank 0 -- tracking contacts -- 500 of 2065 of type religious\n",
      "2022-09-07 10:43:00,176 - rank - INFO - Rank 0 -- tracker -- 7.477484521979932\n",
      "2022-09-07 10:43:00,205 - epidemiology - INFO - CMS: Infection COMS-v2 for rank 0/1(2)0.0010625039867591113,0.001062154769897461 - 2020-05-26 19:00:00\n",
      "2022-09-07 10:43:00,251 - rank - INFO - Rank 0 -- interaction_waiting -- 8.224014891311526e-06\n",
      "2022-09-07 10:43:00,264 - simulator - INFO - CMS: Timestep for rank 0/1 - 7.896183179982472,7.896183729171753 - 2020-05-26 19:00:00\n",
      "\n",
      "2022-09-07 10:43:00,267 - rank - INFO - Next timestep\n",
      "2022-09-07 10:43:00,267 - simulator - INFO - ==================== timestep ====================\n",
      "2022-09-07 10:43:00,482 - rank - INFO - Rank 0 -- move_people -- 0.2142751200008206\n",
      "2022-09-07 10:43:00,483 - rank - INFO - Rank 0 -- move_people_waiting -- 9.34000127017498e-06\n",
      "2022-09-07 10:43:00,484 - activity_manager - INFO - CMS: People COMS for rank 0/1 - 5.586014594882727e-06,5.0067901611328125e-06 - 2020-05-27 09:00:00\n",
      "2022-09-07 10:43:00,493 - simulator - INFO - Info for rank 0, Date = 2020-05-27 09:00:00, number of deaths =  0, number of infected = 507\n",
      "2022-09-07 10:43:00,595 - rank - INFO - Rank 0 -- interaction -- 0.10929225099971518\n",
      "2022-09-07 10:43:06,684 - tracker - INFO - Rank 0 -- tracking contacts -- 500 of 3265 of type shelter\n",
      "2022-09-07 10:43:07,486 - tracker - INFO - Rank 0 -- tracking contacts -- 8 of 8 of type hospital\n",
      "2022-09-07 10:43:07,492 - tracker - INFO - Rank 0 -- tracking contacts -- 8 of 8 of type isolation_unit\n",
      "2022-09-07 10:43:07,495 - tracker - INFO - Rank 0 -- tracking contacts -- 389 of 389 of type learning_center\n",
      "2022-09-07 10:43:08,598 - tracker - INFO - Rank 0 -- tracking contacts -- 115 of 115 of type communal\n",
      "2022-09-07 10:43:08,601 - tracker - INFO - Rank 0 -- tracking contacts -- 21 of 21 of type distribution_center\n",
      "2022-09-07 10:43:08,602 - tracker - INFO - Rank 0 -- tracking contacts -- 7 of 7 of type e_voucher\n",
      "2022-09-07 10:43:08,604 - tracker - INFO - Rank 0 -- tracking contacts -- 67 of 67 of type female_communal\n",
      "2022-09-07 10:43:08,606 - tracker - INFO - Rank 0 -- tracking contacts -- 80 of 80 of type informal_work\n",
      "2022-09-07 10:43:08,610 - tracker - INFO - Rank 0 -- tracking contacts -- 41 of 41 of type n_f_distribution_center\n",
      "2022-09-07 10:43:08,613 - tracker - INFO - Rank 0 -- tracking contacts -- 500 of 536 of type play_group\n",
      "2022-09-07 10:43:08,623 - tracker - INFO - Rank 0 -- tracking contacts -- 81 of 81 of type pump_latrine\n",
      "2022-09-07 10:43:08,638 - tracker - INFO - Rank 0 -- tracking contacts -- 500 of 2065 of type religious\n",
      "2022-09-07 10:43:08,648 - rank - INFO - Rank 0 -- tracker -- 8.052284359000623\n",
      "2022-09-07 10:43:08,657 - epidemiology - INFO - CMS: Infection COMS-v2 for rank 0/1(2)0.0002799680223688483,0.00027871131896972656 - 2020-05-27 09:00:00\n",
      "2022-09-07 10:43:08,701 - rank - INFO - Rank 0 -- interaction_waiting -- 6.4159976318478584e-06\n",
      "2022-09-07 10:43:08,717 - simulator - INFO - CMS: Timestep for rank 0/1 - 8.448385904019233,8.448386907577515 - 2020-05-27 09:00:00\n",
      "\n",
      "2022-09-07 10:43:08,719 - rank - INFO - Next timestep\n",
      "2022-09-07 10:43:08,720 - simulator - INFO - ==================== timestep ====================\n",
      "2022-09-07 10:43:09,675 - rank - INFO - Rank 0 -- move_people -- 0.9533506809966639\n",
      "2022-09-07 10:43:09,676 - rank - INFO - Rank 0 -- move_people_waiting -- 6.939982995390892e-06\n",
      "2022-09-07 10:43:09,677 - activity_manager - INFO - CMS: People COMS for rank 0/1 - 4.039000486955047e-06,3.5762786865234375e-06 - 2020-05-27 11:00:00\n",
      "2022-09-07 10:43:09,684 - simulator - INFO - Info for rank 0, Date = 2020-05-27 11:00:00, number of deaths =  0, number of infected = 517\n",
      "2022-09-07 10:43:09,864 - rank - INFO - Rank 0 -- interaction -- 0.185600048978813\n",
      "2022-09-07 10:43:11,096 - tracker - INFO - Rank 0 -- tracking contacts -- 500 of 3265 of type shelter\n",
      "2022-09-07 10:43:11,324 - tracker - INFO - Rank 0 -- tracking contacts -- 8 of 8 of type hospital\n",
      "2022-09-07 10:43:11,331 - tracker - INFO - Rank 0 -- tracking contacts -- 8 of 8 of type isolation_unit\n",
      "2022-09-07 10:43:11,334 - tracker - INFO - Rank 0 -- tracking contacts -- 389 of 389 of type learning_center\n",
      "2022-09-07 10:43:12,381 - tracker - INFO - Rank 0 -- tracking contacts -- 115 of 115 of type communal\n",
      "2022-09-07 10:43:12,409 - tracker - INFO - Rank 0 -- tracking contacts -- 21 of 21 of type distribution_center\n"
     ]
    },
    {
     "name": "stdout",
     "output_type": "stream",
     "text": [
      "2022-09-07 10:43:12,448 - tracker - INFO - Rank 0 -- tracking contacts -- 7 of 7 of type e_voucher\n",
      "2022-09-07 10:43:12,479 - tracker - INFO - Rank 0 -- tracking contacts -- 67 of 67 of type female_communal\n",
      "2022-09-07 10:43:12,552 - tracker - INFO - Rank 0 -- tracking contacts -- 80 of 80 of type informal_work\n",
      "2022-09-07 10:43:12,635 - tracker - INFO - Rank 0 -- tracking contacts -- 41 of 41 of type n_f_distribution_center\n",
      "2022-09-07 10:43:12,800 - tracker - INFO - Rank 0 -- tracking contacts -- 500 of 536 of type play_group\n",
      "2022-09-07 10:43:13,247 - tracker - INFO - Rank 0 -- tracking contacts -- 81 of 81 of type pump_latrine\n",
      "2022-09-07 10:43:17,535 - tracker - INFO - Rank 0 -- tracking contacts -- 500 of 2065 of type religious\n",
      "2022-09-07 10:43:17,765 - rank - INFO - Rank 0 -- tracker -- 7.900348276976729\n",
      "2022-09-07 10:43:17,775 - epidemiology - INFO - CMS: Infection COMS-v2 for rank 0/1(2)0.0007309009961318225,0.0007307529449462891 - 2020-05-27 11:00:00\n",
      "2022-09-07 10:43:17,824 - rank - INFO - Rank 0 -- interaction_waiting -- 7.420021574944258e-06\n",
      "2022-09-07 10:43:17,838 - simulator - INFO - CMS: Timestep for rank 0/1 - 9.11682684198604,9.116827726364136 - 2020-05-27 11:00:00\n",
      "\n",
      "2022-09-07 10:43:17,841 - rank - INFO - Next timestep\n",
      "2022-09-07 10:43:17,842 - simulator - INFO - ==================== timestep ====================\n",
      "2022-09-07 10:43:18,710 - rank - INFO - Rank 0 -- move_people -- 0.8670015959942248\n",
      "2022-09-07 10:43:18,712 - rank - INFO - Rank 0 -- move_people_waiting -- 3.930006641894579e-06\n",
      "2022-09-07 10:43:18,714 - activity_manager - INFO - CMS: People COMS for rank 0/1 - 4.721019649878144e-06,4.291534423828125e-06 - 2020-05-27 13:00:00\n",
      "2022-09-07 10:43:18,724 - simulator - INFO - Info for rank 0, Date = 2020-05-27 13:00:00, number of deaths =  0, number of infected = 535\n",
      "2022-09-07 10:43:18,899 - rank - INFO - Rank 0 -- interaction -- 0.18447972802096047\n",
      "2022-09-07 10:43:21,878 - tracker - INFO - Rank 0 -- tracking contacts -- 500 of 3265 of type shelter\n",
      "2022-09-07 10:43:22,167 - tracker - INFO - Rank 0 -- tracking contacts -- 8 of 8 of type hospital\n",
      "2022-09-07 10:43:22,174 - tracker - INFO - Rank 0 -- tracking contacts -- 8 of 8 of type isolation_unit\n",
      "2022-09-07 10:43:22,177 - tracker - INFO - Rank 0 -- tracking contacts -- 389 of 389 of type learning_center\n",
      "2022-09-07 10:43:23,279 - tracker - INFO - Rank 0 -- tracking contacts -- 115 of 115 of type communal\n",
      "2022-09-07 10:43:23,313 - tracker - INFO - Rank 0 -- tracking contacts -- 21 of 21 of type distribution_center\n",
      "2022-09-07 10:43:23,367 - tracker - INFO - Rank 0 -- tracking contacts -- 7 of 7 of type e_voucher\n",
      "2022-09-07 10:43:23,381 - tracker - INFO - Rank 0 -- tracking contacts -- 67 of 67 of type female_communal\n",
      "2022-09-07 10:43:23,449 - tracker - INFO - Rank 0 -- tracking contacts -- 80 of 80 of type informal_work\n",
      "2022-09-07 10:43:23,527 - tracker - INFO - Rank 0 -- tracking contacts -- 41 of 41 of type n_f_distribution_center\n",
      "2022-09-07 10:43:23,656 - tracker - INFO - Rank 0 -- tracking contacts -- 500 of 536 of type play_group\n",
      "2022-09-07 10:43:24,029 - tracker - INFO - Rank 0 -- tracking contacts -- 81 of 81 of type pump_latrine\n",
      "2022-09-07 10:43:28,190 - tracker - INFO - Rank 0 -- tracking contacts -- 500 of 2065 of type religious\n",
      "2022-09-07 10:43:28,408 - rank - INFO - Rank 0 -- tracker -- 9.508174523012713\n",
      "2022-09-07 10:43:28,421 - epidemiology - INFO - CMS: Infection COMS-v2 for rank 0/1(2)0.0003215569886378944,0.0003211498260498047 - 2020-05-27 13:00:00\n",
      "2022-09-07 10:43:28,459 - rank - INFO - Rank 0 -- interaction_waiting -- 7.230992196127772e-06\n",
      "2022-09-07 10:43:28,473 - simulator - INFO - CMS: Timestep for rank 0/1 - 10.630291200999636,10.63029170036316 - 2020-05-27 13:00:00\n",
      "\n",
      "2022-09-07 10:43:28,476 - rank - INFO - Next timestep\n",
      "2022-09-07 10:43:28,477 - simulator - INFO - ==================== timestep ====================\n",
      "2022-09-07 10:43:29,338 - rank - INFO - Rank 0 -- move_people -- 0.8601695789839141\n",
      "2022-09-07 10:43:29,338 - rank - INFO - Rank 0 -- move_people_waiting -- 8.6759973783046e-06\n",
      "2022-09-07 10:43:29,339 - activity_manager - INFO - CMS: People COMS for rank 0/1 - 3.877998096868396e-06,3.5762786865234375e-06 - 2020-05-27 15:00:00\n",
      "2022-09-07 10:43:29,346 - simulator - INFO - Info for rank 0, Date = 2020-05-27 15:00:00, number of deaths =  0, number of infected = 563\n",
      "2022-09-07 10:43:29,513 - rank - INFO - Rank 0 -- interaction -- 0.1727455829968676\n",
      "2022-09-07 10:43:33,829 - tracker - INFO - Rank 0 -- tracking contacts -- 500 of 3265 of type shelter\n",
      "2022-09-07 10:43:34,124 - tracker - INFO - Rank 0 -- tracking contacts -- 8 of 8 of type hospital\n",
      "2022-09-07 10:43:34,131 - tracker - INFO - Rank 0 -- tracking contacts -- 8 of 8 of type isolation_unit\n",
      "2022-09-07 10:43:34,134 - tracker - INFO - Rank 0 -- tracking contacts -- 389 of 389 of type learning_center\n",
      "2022-09-07 10:43:35,186 - tracker - INFO - Rank 0 -- tracking contacts -- 115 of 115 of type communal\n",
      "2022-09-07 10:43:35,208 - tracker - INFO - Rank 0 -- tracking contacts -- 21 of 21 of type distribution_center\n",
      "2022-09-07 10:43:35,258 - tracker - INFO - Rank 0 -- tracking contacts -- 7 of 7 of type e_voucher\n",
      "2022-09-07 10:43:35,267 - tracker - INFO - Rank 0 -- tracking contacts -- 67 of 67 of type female_communal\n",
      "2022-09-07 10:43:35,313 - tracker - INFO - Rank 0 -- tracking contacts -- 80 of 80 of type informal_work\n",
      "2022-09-07 10:43:35,427 - tracker - INFO - Rank 0 -- tracking contacts -- 41 of 41 of type n_f_distribution_center\n",
      "2022-09-07 10:43:35,586 - tracker - INFO - Rank 0 -- tracking contacts -- 500 of 536 of type play_group\n",
      "2022-09-07 10:43:35,983 - tracker - INFO - Rank 0 -- tracking contacts -- 81 of 81 of type pump_latrine\n",
      "2022-09-07 10:43:40,108 - tracker - INFO - Rank 0 -- tracking contacts -- 500 of 2065 of type religious\n",
      "2022-09-07 10:43:40,335 - rank - INFO - Rank 0 -- tracker -- 10.820490886981133\n",
      "2022-09-07 10:43:40,345 - epidemiology - INFO - CMS: Infection COMS-v2 for rank 0/1(2)0.0007411100086756051,0.0007414817810058594 - 2020-05-27 15:00:00\n",
      "2022-09-07 10:43:40,389 - rank - INFO - Rank 0 -- interaction_waiting -- 6.376008968800306e-06\n",
      "2022-09-07 10:43:40,404 - simulator - INFO - CMS: Timestep for rank 0/1 - 11.926675110007636,11.926676034927368 - 2020-05-27 15:00:00\n",
      "\n",
      "2022-09-07 10:43:40,407 - rank - INFO - Next timestep\n",
      "2022-09-07 10:43:40,409 - simulator - INFO - ==================== timestep ====================\n",
      "2022-09-07 10:43:41,318 - rank - INFO - Rank 0 -- move_people -- 0.9082477809861302\n",
      "2022-09-07 10:43:41,319 - rank - INFO - Rank 0 -- move_people_waiting -- 4.2539904825389385e-06\n",
      "2022-09-07 10:43:41,320 - activity_manager - INFO - CMS: People COMS for rank 0/1 - 4.6330096665769815e-06,4.0531158447265625e-06 - 2020-05-27 17:00:00\n",
      "2022-09-07 10:43:41,326 - simulator - INFO - Info for rank 0, Date = 2020-05-27 17:00:00, number of deaths =  0, number of infected = 581\n",
      "2022-09-07 10:43:41,518 - rank - INFO - Rank 0 -- interaction -- 0.1974662620050367\n",
      "2022-09-07 10:43:46,927 - tracker - INFO - Rank 0 -- tracking contacts -- 500 of 3265 of type shelter\n",
      "2022-09-07 10:43:47,323 - tracker - INFO - Rank 0 -- tracking contacts -- 8 of 8 of type hospital\n",
      "2022-09-07 10:43:47,330 - tracker - INFO - Rank 0 -- tracking contacts -- 8 of 8 of type isolation_unit\n",
      "2022-09-07 10:43:47,332 - tracker - INFO - Rank 0 -- tracking contacts -- 389 of 389 of type learning_center\n",
      "2022-09-07 10:43:47,348 - tracker - INFO - Rank 0 -- tracking contacts -- 115 of 115 of type communal\n",
      "2022-09-07 10:43:47,355 - tracker - INFO - Rank 0 -- tracking contacts -- 21 of 21 of type distribution_center\n",
      "2022-09-07 10:43:47,404 - tracker - INFO - Rank 0 -- tracking contacts -- 7 of 7 of type e_voucher\n",
      "2022-09-07 10:43:47,423 - tracker - INFO - Rank 0 -- tracking contacts -- 67 of 67 of type female_communal\n",
      "2022-09-07 10:43:47,426 - tracker - INFO - Rank 0 -- tracking contacts -- 80 of 80 of type informal_work\n",
      "2022-09-07 10:43:47,510 - tracker - INFO - Rank 0 -- tracking contacts -- 41 of 41 of type n_f_distribution_center\n",
      "2022-09-07 10:43:47,689 - tracker - INFO - Rank 0 -- tracking contacts -- 500 of 536 of type play_group\n",
      "2022-09-07 10:43:48,236 - tracker - INFO - Rank 0 -- tracking contacts -- 81 of 81 of type pump_latrine\n"
     ]
    },
    {
     "name": "stdout",
     "output_type": "stream",
     "text": [
      "2022-09-07 10:43:53,563 - tracker - INFO - Rank 0 -- tracking contacts -- 500 of 2065 of type religious\n",
      "2022-09-07 10:43:53,913 - rank - INFO - Rank 0 -- tracker -- 12.393391868012259\n",
      "2022-09-07 10:43:53,930 - epidemiology - INFO - CMS: Infection COMS-v2 for rank 0/1(2)0.0008061190019361675,0.0008058547973632812 - 2020-05-27 17:00:00\n",
      "2022-09-07 10:43:53,971 - rank - INFO - Rank 0 -- interaction_waiting -- 7.166992872953415e-06\n",
      "2022-09-07 10:43:53,986 - simulator - INFO - CMS: Timestep for rank 0/1 - 13.576176397007657,13.57617735862732 - 2020-05-27 17:00:00\n",
      "\n",
      "2022-09-07 10:43:53,989 - rank - INFO - Next timestep\n",
      "2022-09-07 10:43:53,990 - simulator - INFO - ==================== timestep ====================\n",
      "2022-09-07 10:43:54,194 - rank - INFO - Rank 0 -- move_people -- 0.20247453500633128\n",
      "2022-09-07 10:43:54,195 - rank - INFO - Rank 0 -- move_people_waiting -- 8.393020834773779e-06\n",
      "2022-09-07 10:43:54,195 - activity_manager - INFO - CMS: People COMS for rank 0/1 - 3.4710101317614317e-06,3.337860107421875e-06 - 2020-05-27 19:00:00\n",
      "2022-09-07 10:43:54,201 - simulator - INFO - Info for rank 0, Date = 2020-05-27 19:00:00, number of deaths =  0, number of infected = 606\n",
      "2022-09-07 10:43:54,312 - rank - INFO - Rank 0 -- interaction -- 0.11589926699525677\n",
      "2022-09-07 10:44:00,803 - tracker - INFO - Rank 0 -- tracking contacts -- 500 of 3265 of type shelter\n",
      "2022-09-07 10:44:02,025 - tracker - INFO - Rank 0 -- tracking contacts -- 8 of 8 of type hospital\n",
      "2022-09-07 10:44:02,026 - tracker - INFO - Rank 0 -- tracking contacts -- 8 of 8 of type isolation_unit\n",
      "2022-09-07 10:44:02,029 - tracker - INFO - Rank 0 -- tracking contacts -- 389 of 389 of type learning_center\n",
      "2022-09-07 10:44:02,039 - tracker - INFO - Rank 0 -- tracking contacts -- 115 of 115 of type communal\n",
      "2022-09-07 10:44:02,042 - tracker - INFO - Rank 0 -- tracking contacts -- 21 of 21 of type distribution_center\n",
      "2022-09-07 10:44:02,044 - tracker - INFO - Rank 0 -- tracking contacts -- 7 of 7 of type e_voucher\n",
      "2022-09-07 10:44:02,045 - tracker - INFO - Rank 0 -- tracking contacts -- 67 of 67 of type female_communal\n",
      "2022-09-07 10:44:02,048 - tracker - INFO - Rank 0 -- tracking contacts -- 80 of 80 of type informal_work\n",
      "2022-09-07 10:44:02,051 - tracker - INFO - Rank 0 -- tracking contacts -- 41 of 41 of type n_f_distribution_center\n",
      "2022-09-07 10:44:02,054 - tracker - INFO - Rank 0 -- tracking contacts -- 500 of 536 of type play_group\n",
      "2022-09-07 10:44:02,065 - tracker - INFO - Rank 0 -- tracking contacts -- 81 of 81 of type pump_latrine\n",
      "2022-09-07 10:44:02,077 - tracker - INFO - Rank 0 -- tracking contacts -- 500 of 2065 of type religious\n",
      "2022-09-07 10:44:02,087 - rank - INFO - Rank 0 -- tracker -- 7.773463182995329\n",
      "2022-09-07 10:44:02,149 - epidemiology - INFO - CMS: Infection COMS-v2 for rank 0/1(2)0.0008380479994229972,0.0008382797241210938 - 2020-05-27 19:00:00\n",
      "2022-09-07 10:44:02,196 - rank - INFO - Rank 0 -- interaction_waiting -- 7.184979040175676e-06\n",
      "2022-09-07 10:44:02,214 - simulator - INFO - CMS: Timestep for rank 0/1 - 8.223425969976233,8.223426818847656 - 2020-05-27 19:00:00\n",
      "\n",
      "2022-09-07 10:44:02,218 - rank - INFO - Next timestep\n",
      "2022-09-07 10:44:02,220 - simulator - INFO - ==================== timestep ====================\n",
      "2022-09-07 10:44:02,465 - rank - INFO - Rank 0 -- move_people -- 0.2440566090226639\n",
      "2022-09-07 10:44:02,466 - rank - INFO - Rank 0 -- move_people_waiting -- 8.000002708286047e-06\n",
      "2022-09-07 10:44:02,467 - activity_manager - INFO - CMS: People COMS for rank 0/1 - 3.2399839255958796e-06,3.0994415283203125e-06 - 2020-05-28 09:00:00\n",
      "2022-09-07 10:44:02,473 - simulator - INFO - Info for rank 0, Date = 2020-05-28 09:00:00, number of deaths =  0, number of infected = 701\n",
      "2022-09-07 10:44:02,578 - rank - INFO - Rank 0 -- interaction -- 0.10988312400877476\n",
      "2022-09-07 10:44:08,835 - tracker - INFO - Rank 0 -- tracking contacts -- 500 of 3265 of type shelter\n",
      "2022-09-07 10:44:09,567 - tracker - INFO - Rank 0 -- tracking contacts -- 8 of 8 of type hospital\n",
      "2022-09-07 10:44:09,573 - tracker - INFO - Rank 0 -- tracking contacts -- 8 of 8 of type isolation_unit\n",
      "2022-09-07 10:44:09,575 - tracker - INFO - Rank 0 -- tracking contacts -- 389 of 389 of type learning_center\n",
      "2022-09-07 10:44:10,739 - tracker - INFO - Rank 0 -- tracking contacts -- 115 of 115 of type communal\n",
      "2022-09-07 10:44:10,742 - tracker - INFO - Rank 0 -- tracking contacts -- 21 of 21 of type distribution_center\n",
      "2022-09-07 10:44:10,743 - tracker - INFO - Rank 0 -- tracking contacts -- 7 of 7 of type e_voucher\n",
      "2022-09-07 10:44:10,744 - tracker - INFO - Rank 0 -- tracking contacts -- 67 of 67 of type female_communal\n",
      "2022-09-07 10:44:10,747 - tracker - INFO - Rank 0 -- tracking contacts -- 80 of 80 of type informal_work\n",
      "2022-09-07 10:44:10,750 - tracker - INFO - Rank 0 -- tracking contacts -- 41 of 41 of type n_f_distribution_center\n",
      "2022-09-07 10:44:10,753 - tracker - INFO - Rank 0 -- tracking contacts -- 500 of 536 of type play_group\n",
      "2022-09-07 10:44:10,762 - tracker - INFO - Rank 0 -- tracking contacts -- 81 of 81 of type pump_latrine\n",
      "2022-09-07 10:44:10,774 - tracker - INFO - Rank 0 -- tracking contacts -- 500 of 2065 of type religious\n",
      "2022-09-07 10:44:10,782 - rank - INFO - Rank 0 -- tracker -- 8.203209864004748\n",
      "2022-09-07 10:44:10,791 - epidemiology - INFO - CMS: Infection COMS-v2 for rank 0/1(2)0.001665253977989778,0.0016658306121826172 - 2020-05-28 09:00:00\n",
      "2022-09-07 10:44:10,827 - rank - INFO - Rank 0 -- interaction_waiting -- 7.030990673229098e-06\n",
      "2022-09-07 10:44:10,840 - simulator - INFO - CMS: Timestep for rank 0/1 - 8.618950834003044,8.618951559066772 - 2020-05-28 09:00:00\n",
      "\n",
      "2022-09-07 10:44:10,842 - rank - INFO - Next timestep\n",
      "2022-09-07 10:44:10,843 - simulator - INFO - ==================== timestep ====================\n",
      "2022-09-07 10:44:11,685 - rank - INFO - Rank 0 -- move_people -- 0.8414685210154857\n",
      "2022-09-07 10:44:11,686 - rank - INFO - Rank 0 -- move_people_waiting -- 6.6829961724579334e-06\n",
      "2022-09-07 10:44:11,687 - activity_manager - INFO - CMS: People COMS for rank 0/1 - 4.294008249416947e-06,4.0531158447265625e-06 - 2020-05-28 11:00:00\n",
      "2022-09-07 10:44:11,695 - simulator - INFO - Info for rank 0, Date = 2020-05-28 11:00:00, number of deaths =  0, number of infected = 715\n",
      "2022-09-07 10:44:11,888 - rank - INFO - Rank 0 -- interaction -- 0.19975505297770724\n",
      "2022-09-07 10:44:13,038 - tracker - INFO - Rank 0 -- tracking contacts -- 500 of 3265 of type shelter\n",
      "2022-09-07 10:44:13,280 - tracker - INFO - Rank 0 -- tracking contacts -- 8 of 8 of type hospital\n",
      "2022-09-07 10:44:13,287 - tracker - INFO - Rank 0 -- tracking contacts -- 8 of 8 of type isolation_unit\n",
      "2022-09-07 10:44:13,289 - tracker - INFO - Rank 0 -- tracking contacts -- 389 of 389 of type learning_center\n",
      "2022-09-07 10:44:14,357 - tracker - INFO - Rank 0 -- tracking contacts -- 115 of 115 of type communal\n",
      "2022-09-07 10:44:14,382 - tracker - INFO - Rank 0 -- tracking contacts -- 21 of 21 of type distribution_center\n",
      "2022-09-07 10:44:14,436 - tracker - INFO - Rank 0 -- tracking contacts -- 7 of 7 of type e_voucher\n",
      "2022-09-07 10:44:14,460 - tracker - INFO - Rank 0 -- tracking contacts -- 67 of 67 of type female_communal\n",
      "2022-09-07 10:44:14,531 - tracker - INFO - Rank 0 -- tracking contacts -- 80 of 80 of type informal_work\n",
      "2022-09-07 10:44:14,609 - tracker - INFO - Rank 0 -- tracking contacts -- 41 of 41 of type n_f_distribution_center\n",
      "2022-09-07 10:44:14,728 - tracker - INFO - Rank 0 -- tracking contacts -- 500 of 536 of type play_group\n",
      "2022-09-07 10:44:15,267 - tracker - INFO - Rank 0 -- tracking contacts -- 81 of 81 of type pump_latrine\n",
      "2022-09-07 10:44:19,946 - tracker - INFO - Rank 0 -- tracking contacts -- 500 of 2065 of type religious\n",
      "2022-09-07 10:44:20,178 - rank - INFO - Rank 0 -- tracker -- 8.288428314990597\n",
      "2022-09-07 10:44:20,200 - epidemiology - INFO - CMS: Infection COMS-v2 for rank 0/1(2)0.0008207189966924489,0.0008203983306884766 - 2020-05-28 11:00:00\n",
      "2022-09-07 10:44:20,244 - rank - INFO - Rank 0 -- interaction_waiting -- 7.14298221282661e-06\n",
      "2022-09-07 10:44:20,264 - simulator - INFO - CMS: Timestep for rank 0/1 - 9.419579504989088,9.419580459594727 - 2020-05-28 11:00:00\n",
      "\n",
      "2022-09-07 10:44:20,266 - rank - INFO - Next timestep\n"
     ]
    },
    {
     "name": "stdout",
     "output_type": "stream",
     "text": [
      "2022-09-07 10:44:20,267 - simulator - INFO - ==================== timestep ====================\n",
      "2022-09-07 10:44:21,192 - rank - INFO - Rank 0 -- move_people -- 0.9239329580159392\n",
      "2022-09-07 10:44:21,193 - rank - INFO - Rank 0 -- move_people_waiting -- 8.493982022628188e-06\n",
      "2022-09-07 10:44:21,194 - activity_manager - INFO - CMS: People COMS for rank 0/1 - 4.244997398927808e-06,4.0531158447265625e-06 - 2020-05-28 13:00:00\n",
      "2022-09-07 10:44:21,205 - simulator - INFO - Info for rank 0, Date = 2020-05-28 13:00:00, number of deaths =  0, number of infected = 746\n",
      "2022-09-07 10:44:21,402 - rank - INFO - Rank 0 -- interaction -- 0.20676227498915978\n",
      "2022-09-07 10:44:24,396 - tracker - INFO - Rank 0 -- tracking contacts -- 500 of 3265 of type shelter\n",
      "2022-09-07 10:44:24,673 - tracker - INFO - Rank 0 -- tracking contacts -- 8 of 8 of type hospital\n",
      "2022-09-07 10:44:24,680 - tracker - INFO - Rank 0 -- tracking contacts -- 8 of 8 of type isolation_unit\n",
      "2022-09-07 10:44:24,682 - tracker - INFO - Rank 0 -- tracking contacts -- 389 of 389 of type learning_center\n",
      "2022-09-07 10:44:25,859 - tracker - INFO - Rank 0 -- tracking contacts -- 115 of 115 of type communal\n",
      "2022-09-07 10:44:25,890 - tracker - INFO - Rank 0 -- tracking contacts -- 21 of 21 of type distribution_center\n",
      "2022-09-07 10:44:25,946 - tracker - INFO - Rank 0 -- tracking contacts -- 7 of 7 of type e_voucher\n",
      "2022-09-07 10:44:25,969 - tracker - INFO - Rank 0 -- tracking contacts -- 67 of 67 of type female_communal\n",
      "2022-09-07 10:44:26,045 - tracker - INFO - Rank 0 -- tracking contacts -- 80 of 80 of type informal_work\n",
      "2022-09-07 10:44:26,115 - tracker - INFO - Rank 0 -- tracking contacts -- 41 of 41 of type n_f_distribution_center\n",
      "2022-09-07 10:44:26,230 - tracker - INFO - Rank 0 -- tracking contacts -- 500 of 536 of type play_group\n",
      "2022-09-07 10:44:26,603 - tracker - INFO - Rank 0 -- tracking contacts -- 81 of 81 of type pump_latrine\n",
      "2022-09-07 10:44:31,035 - tracker - INFO - Rank 0 -- tracking contacts -- 500 of 2065 of type religious\n",
      "2022-09-07 10:44:31,265 - rank - INFO - Rank 0 -- tracker -- 9.8621642459766\n",
      "2022-09-07 10:44:31,278 - epidemiology - INFO - CMS: Infection COMS-v2 for rank 0/1(2)0.00022321101278066635,0.00022268295288085938 - 2020-05-28 13:00:00\n",
      "2022-09-07 10:44:31,319 - rank - INFO - Rank 0 -- interaction_waiting -- 7.580005330964923e-06\n",
      "2022-09-07 10:44:31,334 - simulator - INFO - CMS: Timestep for rank 0/1 - 11.065637378022075,11.065638303756714 - 2020-05-28 13:00:00\n",
      "\n",
      "2022-09-07 10:44:31,336 - rank - INFO - Next timestep\n",
      "2022-09-07 10:44:31,337 - simulator - INFO - ==================== timestep ====================\n",
      "2022-09-07 10:44:32,187 - rank - INFO - Rank 0 -- move_people -- 0.8488651209918316\n",
      "2022-09-07 10:44:32,188 - rank - INFO - Rank 0 -- move_people_waiting -- 7.87799945101142e-06\n",
      "2022-09-07 10:44:32,189 - activity_manager - INFO - CMS: People COMS for rank 0/1 - 3.529014065861702e-06,3.337860107421875e-06 - 2020-05-28 15:00:00\n",
      "2022-09-07 10:44:32,196 - simulator - INFO - Info for rank 0, Date = 2020-05-28 15:00:00, number of deaths =  0, number of infected = 772\n",
      "2022-09-07 10:44:32,382 - rank - INFO - Rank 0 -- interaction -- 0.19244158998480998\n",
      "2022-09-07 10:44:36,125 - tracker - INFO - Rank 0 -- tracking contacts -- 500 of 3265 of type shelter\n",
      "2022-09-07 10:44:36,456 - tracker - INFO - Rank 0 -- tracking contacts -- 8 of 8 of type hospital\n",
      "2022-09-07 10:44:36,463 - tracker - INFO - Rank 0 -- tracking contacts -- 8 of 8 of type isolation_unit\n",
      "2022-09-07 10:44:36,465 - tracker - INFO - Rank 0 -- tracking contacts -- 389 of 389 of type learning_center\n",
      "2022-09-07 10:44:37,218 - tracker - INFO - Rank 0 -- tracking contacts -- 115 of 115 of type communal\n",
      "2022-09-07 10:44:37,235 - tracker - INFO - Rank 0 -- tracking contacts -- 21 of 21 of type distribution_center\n",
      "2022-09-07 10:44:37,271 - tracker - INFO - Rank 0 -- tracking contacts -- 7 of 7 of type e_voucher\n",
      "2022-09-07 10:44:37,289 - tracker - INFO - Rank 0 -- tracking contacts -- 67 of 67 of type female_communal\n",
      "2022-09-07 10:44:37,338 - tracker - INFO - Rank 0 -- tracking contacts -- 80 of 80 of type informal_work\n",
      "2022-09-07 10:44:37,430 - tracker - INFO - Rank 0 -- tracking contacts -- 41 of 41 of type n_f_distribution_center\n",
      "2022-09-07 10:44:37,542 - tracker - INFO - Rank 0 -- tracking contacts -- 500 of 536 of type play_group\n",
      "2022-09-07 10:44:37,921 - tracker - INFO - Rank 0 -- tracking contacts -- 81 of 81 of type pump_latrine\n",
      "2022-09-07 10:44:42,402 - tracker - INFO - Rank 0 -- tracking contacts -- 500 of 2065 of type religious\n",
      "2022-09-07 10:44:42,678 - rank - INFO - Rank 0 -- tracker -- 10.295006358996034\n",
      "2022-09-07 10:44:42,693 - epidemiology - INFO - CMS: Infection COMS-v2 for rank 0/1(2)0.00025424399063922465,0.0002536773681640625 - 2020-05-28 15:00:00\n",
      "2022-09-07 10:44:42,741 - rank - INFO - Rank 0 -- interaction_waiting -- 6.6140200942754745e-06\n",
      "2022-09-07 10:44:42,757 - simulator - INFO - CMS: Timestep for rank 0/1 - 11.418400356022175,11.418401002883911 - 2020-05-28 15:00:00\n",
      "\n",
      "2022-09-07 10:44:42,760 - rank - INFO - Next timestep\n",
      "2022-09-07 10:44:42,761 - simulator - INFO - ==================== timestep ====================\n",
      "2022-09-07 10:44:43,707 - rank - INFO - Rank 0 -- move_people -- 0.945506957010366\n",
      "2022-09-07 10:44:43,709 - rank - INFO - Rank 0 -- move_people_waiting -- 1.1994008673354983e-05\n",
      "2022-09-07 10:44:43,710 - activity_manager - INFO - CMS: People COMS for rank 0/1 - 4.7790235839784145e-06,4.291534423828125e-06 - 2020-05-28 17:00:00\n",
      "2022-09-07 10:44:43,718 - simulator - INFO - Info for rank 0, Date = 2020-05-28 17:00:00, number of deaths =  0, number of infected = 799\n",
      "2022-09-07 10:44:43,969 - rank - INFO - Rank 0 -- interaction -- 0.2583720109832939\n",
      "2022-09-07 10:44:49,542 - tracker - INFO - Rank 0 -- tracking contacts -- 500 of 3265 of type shelter\n",
      "2022-09-07 10:44:49,938 - tracker - INFO - Rank 0 -- tracking contacts -- 8 of 8 of type hospital\n",
      "2022-09-07 10:44:49,940 - tracker - INFO - Rank 0 -- tracking contacts -- 8 of 8 of type isolation_unit\n",
      "2022-09-07 10:44:49,942 - tracker - INFO - Rank 0 -- tracking contacts -- 389 of 389 of type learning_center\n",
      "2022-09-07 10:44:49,952 - tracker - INFO - Rank 0 -- tracking contacts -- 115 of 115 of type communal\n",
      "2022-09-07 10:44:49,954 - tracker - INFO - Rank 0 -- tracking contacts -- 21 of 21 of type distribution_center\n",
      "2022-09-07 10:44:50,012 - tracker - INFO - Rank 0 -- tracking contacts -- 7 of 7 of type e_voucher\n",
      "2022-09-07 10:44:50,048 - tracker - INFO - Rank 0 -- tracking contacts -- 67 of 67 of type female_communal\n",
      "2022-09-07 10:44:50,052 - tracker - INFO - Rank 0 -- tracking contacts -- 80 of 80 of type informal_work\n",
      "2022-09-07 10:44:50,136 - tracker - INFO - Rank 0 -- tracking contacts -- 41 of 41 of type n_f_distribution_center\n",
      "2022-09-07 10:44:50,299 - tracker - INFO - Rank 0 -- tracking contacts -- 500 of 536 of type play_group\n",
      "2022-09-07 10:44:50,796 - tracker - INFO - Rank 0 -- tracking contacts -- 81 of 81 of type pump_latrine\n",
      "2022-09-07 10:44:56,024 - tracker - INFO - Rank 0 -- tracking contacts -- 500 of 2065 of type religious\n",
      "2022-09-07 10:44:56,291 - rank - INFO - Rank 0 -- tracker -- 12.320866294990992\n",
      "2022-09-07 10:44:56,305 - epidemiology - INFO - CMS: Infection COMS-v2 for rank 0/1(2)0.000335952005116269,0.0003352165222167969 - 2020-05-28 17:00:00\n",
      "2022-09-07 10:44:56,344 - rank - INFO - Rank 0 -- interaction_waiting -- 7.119000656530261e-06\n",
      "2022-09-07 10:44:56,358 - simulator - INFO - CMS: Timestep for rank 0/1 - 13.596551372000249,13.59655213356018 - 2020-05-28 17:00:00\n",
      "\n",
      "2022-09-07 10:44:56,361 - rank - INFO - Next timestep\n",
      "2022-09-07 10:44:56,362 - simulator - INFO - ==================== timestep ====================\n",
      "2022-09-07 10:44:56,560 - rank - INFO - Rank 0 -- move_people -- 0.19789191501331516\n",
      "2022-09-07 10:44:56,561 - rank - INFO - Rank 0 -- move_people_waiting -- 9.147013770416379e-06\n",
      "2022-09-07 10:44:56,562 - activity_manager - INFO - CMS: People COMS for rank 0/1 - 3.702007234096527e-06,3.5762786865234375e-06 - 2020-05-28 19:00:00\n",
      "2022-09-07 10:44:56,570 - simulator - INFO - Info for rank 0, Date = 2020-05-28 19:00:00, number of deaths =  0, number of infected = 831\n",
      "2022-09-07 10:44:56,702 - rank - INFO - Rank 0 -- interaction -- 0.13830705100554042\n"
     ]
    },
    {
     "name": "stdout",
     "output_type": "stream",
     "text": [
      "2022-09-07 10:45:01,953 - tracker - INFO - Rank 0 -- tracking contacts -- 500 of 3265 of type shelter\n",
      "2022-09-07 10:45:02,972 - tracker - INFO - Rank 0 -- tracking contacts -- 8 of 8 of type hospital\n",
      "2022-09-07 10:45:02,973 - tracker - INFO - Rank 0 -- tracking contacts -- 8 of 8 of type isolation_unit\n",
      "2022-09-07 10:45:02,974 - tracker - INFO - Rank 0 -- tracking contacts -- 389 of 389 of type learning_center\n",
      "2022-09-07 10:45:02,984 - tracker - INFO - Rank 0 -- tracking contacts -- 115 of 115 of type communal\n",
      "2022-09-07 10:45:02,989 - tracker - INFO - Rank 0 -- tracking contacts -- 21 of 21 of type distribution_center\n",
      "2022-09-07 10:45:02,991 - tracker - INFO - Rank 0 -- tracking contacts -- 7 of 7 of type e_voucher\n",
      "2022-09-07 10:45:02,993 - tracker - INFO - Rank 0 -- tracking contacts -- 67 of 67 of type female_communal\n",
      "2022-09-07 10:45:02,995 - tracker - INFO - Rank 0 -- tracking contacts -- 80 of 80 of type informal_work\n",
      "2022-09-07 10:45:02,998 - tracker - INFO - Rank 0 -- tracking contacts -- 41 of 41 of type n_f_distribution_center\n",
      "2022-09-07 10:45:03,001 - tracker - INFO - Rank 0 -- tracking contacts -- 500 of 536 of type play_group\n",
      "2022-09-07 10:45:03,012 - tracker - INFO - Rank 0 -- tracking contacts -- 81 of 81 of type pump_latrine\n",
      "2022-09-07 10:45:03,024 - tracker - INFO - Rank 0 -- tracking contacts -- 500 of 2065 of type religious\n",
      "2022-09-07 10:45:03,037 - rank - INFO - Rank 0 -- tracker -- 6.334102488995995\n",
      "2022-09-07 10:45:03,095 - epidemiology - INFO - CMS: Infection COMS-v2 for rank 0/1(2)0.00027634299476630986,0.0002760887145996094 - 2020-05-28 19:00:00\n",
      "2022-09-07 10:45:03,137 - rank - INFO - Rank 0 -- interaction_waiting -- 6.704998668283224e-06\n",
      "2022-09-07 10:45:03,150 - simulator - INFO - CMS: Timestep for rank 0/1 - 6.787515952019021,6.7875165939331055 - 2020-05-28 19:00:00\n",
      "\n",
      "2022-09-07 10:45:03,152 - rank - INFO - Next timestep\n",
      "2022-09-07 10:45:03,153 - simulator - INFO - ==================== timestep ====================\n",
      "2022-09-07 10:45:03,340 - rank - INFO - Rank 0 -- move_people -- 0.18566054699476808\n",
      "2022-09-07 10:45:03,341 - rank - INFO - Rank 0 -- move_people_waiting -- 4.141009412705898e-06\n",
      "2022-09-07 10:45:03,342 - activity_manager - INFO - CMS: People COMS for rank 0/1 - 4.592991899698973e-06,4.0531158447265625e-06 - 2020-05-29 09:00:00\n",
      "2022-09-07 10:45:03,347 - simulator - INFO - Info for rank 0, Date = 2020-05-29 09:00:00, number of deaths =  0, number of infected = 961\n",
      "2022-09-07 10:45:03,457 - rank - INFO - Rank 0 -- interaction -- 0.11407852300908417\n",
      "2022-09-07 10:45:09,004 - tracker - INFO - Rank 0 -- tracking contacts -- 500 of 3265 of type shelter\n",
      "2022-09-07 10:45:09,855 - tracker - INFO - Rank 0 -- tracking contacts -- 8 of 8 of type hospital\n",
      "2022-09-07 10:45:09,856 - tracker - INFO - Rank 0 -- tracking contacts -- 8 of 8 of type isolation_unit\n",
      "2022-09-07 10:45:09,857 - tracker - INFO - Rank 0 -- tracking contacts -- 389 of 389 of type learning_center\n",
      "2022-09-07 10:45:09,868 - tracker - INFO - Rank 0 -- tracking contacts -- 115 of 115 of type communal\n",
      "2022-09-07 10:45:09,871 - tracker - INFO - Rank 0 -- tracking contacts -- 21 of 21 of type distribution_center\n",
      "2022-09-07 10:45:09,872 - tracker - INFO - Rank 0 -- tracking contacts -- 7 of 7 of type e_voucher\n",
      "2022-09-07 10:45:09,873 - tracker - INFO - Rank 0 -- tracking contacts -- 67 of 67 of type female_communal\n",
      "2022-09-07 10:45:09,876 - tracker - INFO - Rank 0 -- tracking contacts -- 80 of 80 of type informal_work\n",
      "2022-09-07 10:45:09,879 - tracker - INFO - Rank 0 -- tracking contacts -- 41 of 41 of type n_f_distribution_center\n",
      "2022-09-07 10:45:09,882 - tracker - INFO - Rank 0 -- tracking contacts -- 500 of 536 of type play_group\n",
      "2022-09-07 10:45:09,894 - tracker - INFO - Rank 0 -- tracking contacts -- 81 of 81 of type pump_latrine\n",
      "2022-09-07 10:45:09,912 - tracker - INFO - Rank 0 -- tracking contacts -- 500 of 2065 of type religious\n",
      "2022-09-07 10:45:09,925 - rank - INFO - Rank 0 -- tracker -- 6.467023673991207\n",
      "2022-09-07 10:45:09,935 - epidemiology - INFO - CMS: Infection COMS-v2 for rank 0/1(2)0.00032036699121817946,0.0003197193145751953 - 2020-05-29 09:00:00\n",
      "2022-09-07 10:45:09,973 - rank - INFO - Rank 0 -- interaction_waiting -- 6.866990588605404e-06\n",
      "2022-09-07 10:45:09,987 - simulator - INFO - CMS: Timestep for rank 0/1 - 6.833014981006272,6.833016395568848 - 2020-05-29 09:00:00\n",
      "\n",
      "2022-09-07 10:45:09,990 - rank - INFO - Next timestep\n",
      "2022-09-07 10:45:09,991 - simulator - INFO - ==================== timestep ====================\n",
      "2022-09-07 10:45:10,816 - rank - INFO - Rank 0 -- move_people -- 0.824016764992848\n",
      "2022-09-07 10:45:10,817 - rank - INFO - Rank 0 -- move_people_waiting -- 6.996997399255633e-06\n",
      "2022-09-07 10:45:10,818 - activity_manager - INFO - CMS: People COMS for rank 0/1 - 3.350985934957862e-06,3.0994415283203125e-06 - 2020-05-29 12:00:00\n",
      "2022-09-07 10:45:10,822 - simulator - INFO - Info for rank 0, Date = 2020-05-29 12:00:00, number of deaths =  0, number of infected = 984\n",
      "2022-09-07 10:45:11,013 - rank - INFO - Rank 0 -- interaction -- 0.19453903002431616\n",
      "2022-09-07 10:45:11,571 - tracker - INFO - Rank 0 -- tracking contacts -- 500 of 3265 of type shelter\n",
      "2022-09-07 10:45:11,890 - tracker - INFO - Rank 0 -- tracking contacts -- 8 of 8 of type hospital\n",
      "2022-09-07 10:45:11,890 - tracker - INFO - Rank 0 -- tracking contacts -- 8 of 8 of type isolation_unit\n",
      "2022-09-07 10:45:11,892 - tracker - INFO - Rank 0 -- tracking contacts -- 389 of 389 of type learning_center\n",
      "2022-09-07 10:45:11,898 - tracker - INFO - Rank 0 -- tracking contacts -- 115 of 115 of type communal\n",
      "2022-09-07 10:45:11,901 - tracker - INFO - Rank 0 -- tracking contacts -- 21 of 21 of type distribution_center\n",
      "2022-09-07 10:45:11,961 - tracker - INFO - Rank 0 -- tracking contacts -- 7 of 7 of type e_voucher\n",
      "2022-09-07 10:45:11,979 - tracker - INFO - Rank 0 -- tracking contacts -- 67 of 67 of type female_communal\n",
      "2022-09-07 10:45:11,981 - tracker - INFO - Rank 0 -- tracking contacts -- 80 of 80 of type informal_work\n",
      "2022-09-07 10:45:12,072 - tracker - INFO - Rank 0 -- tracking contacts -- 41 of 41 of type n_f_distribution_center\n",
      "2022-09-07 10:45:12,230 - tracker - INFO - Rank 0 -- tracking contacts -- 500 of 536 of type play_group\n",
      "2022-09-07 10:45:12,714 - tracker - INFO - Rank 0 -- tracking contacts -- 81 of 81 of type pump_latrine\n",
      "2022-09-07 10:45:17,793 - tracker - INFO - Rank 0 -- tracking contacts -- 500 of 2065 of type religious\n",
      "2022-09-07 10:45:18,067 - rank - INFO - Rank 0 -- tracker -- 7.052621659997385\n",
      "2022-09-07 10:45:18,088 - epidemiology - INFO - CMS: Infection COMS-v2 for rank 0/1(2)0.0007004950020927936,0.0007004737854003906 - 2020-05-29 12:00:00\n",
      "2022-09-07 10:45:18,130 - rank - INFO - Rank 0 -- interaction_waiting -- 7.127993740141392e-06\n",
      "2022-09-07 10:45:18,146 - simulator - INFO - CMS: Timestep for rank 0/1 - 8.154091195989167,8.15409231185913 - 2020-05-29 12:00:00\n",
      "\n",
      "2022-09-07 10:45:18,149 - rank - INFO - Next timestep\n",
      "2022-09-07 10:45:18,150 - simulator - INFO - ==================== timestep ====================\n",
      "2022-09-07 10:45:19,016 - rank - INFO - Rank 0 -- move_people -- 0.8650880729837809\n",
      "2022-09-07 10:45:19,017 - rank - INFO - Rank 0 -- move_people_waiting -- 9.45699866861105e-06\n",
      "2022-09-07 10:45:19,018 - activity_manager - INFO - CMS: People COMS for rank 0/1 - 4.230998456478119e-06,3.814697265625e-06 - 2020-05-29 14:00:00\n",
      "2022-09-07 10:45:19,025 - simulator - INFO - Info for rank 0, Date = 2020-05-29 14:00:00, number of deaths =  0, number of infected = 1027\n",
      "2022-09-07 10:45:19,232 - rank - INFO - Rank 0 -- interaction -- 0.21327668402227573\n",
      "2022-09-07 10:45:21,086 - tracker - INFO - Rank 0 -- tracking contacts -- 500 of 3265 of type shelter\n",
      "2022-09-07 10:45:21,480 - tracker - INFO - Rank 0 -- tracking contacts -- 8 of 8 of type hospital\n",
      "2022-09-07 10:45:21,481 - tracker - INFO - Rank 0 -- tracking contacts -- 8 of 8 of type isolation_unit\n",
      "2022-09-07 10:45:21,484 - tracker - INFO - Rank 0 -- tracking contacts -- 389 of 389 of type learning_center\n",
      "2022-09-07 10:45:21,491 - tracker - INFO - Rank 0 -- tracking contacts -- 115 of 115 of type communal\n",
      "2022-09-07 10:45:21,494 - tracker - INFO - Rank 0 -- tracking contacts -- 21 of 21 of type distribution_center\n"
     ]
    },
    {
     "name": "stdout",
     "output_type": "stream",
     "text": [
      "2022-09-07 10:45:21,548 - tracker - INFO - Rank 0 -- tracking contacts -- 7 of 7 of type e_voucher\n",
      "2022-09-07 10:45:21,567 - tracker - INFO - Rank 0 -- tracking contacts -- 67 of 67 of type female_communal\n",
      "2022-09-07 10:45:21,572 - tracker - INFO - Rank 0 -- tracking contacts -- 80 of 80 of type informal_work\n",
      "2022-09-07 10:45:21,657 - tracker - INFO - Rank 0 -- tracking contacts -- 41 of 41 of type n_f_distribution_center\n",
      "2022-09-07 10:45:21,820 - tracker - INFO - Rank 0 -- tracking contacts -- 500 of 536 of type play_group\n",
      "2022-09-07 10:45:22,383 - tracker - INFO - Rank 0 -- tracking contacts -- 81 of 81 of type pump_latrine\n",
      "2022-09-07 10:45:27,499 - tracker - INFO - Rank 0 -- tracking contacts -- 500 of 2065 of type religious\n",
      "2022-09-07 10:45:27,810 - rank - INFO - Rank 0 -- tracker -- 8.577025373990182\n",
      "2022-09-07 10:45:27,835 - epidemiology - INFO - CMS: Infection COMS-v2 for rank 0/1(2)0.00037252699257805943,0.00037217140197753906 - 2020-05-29 14:00:00\n",
      "2022-09-07 10:45:27,884 - rank - INFO - Rank 0 -- interaction_waiting -- 7.99400731921196e-06\n",
      "2022-09-07 10:45:27,898 - simulator - INFO - CMS: Timestep for rank 0/1 - 9.746291907998966,9.746292352676392 - 2020-05-29 14:00:00\n",
      "\n",
      "2022-09-07 10:45:27,900 - rank - INFO - Next timestep\n",
      "2022-09-07 10:45:27,901 - simulator - INFO - ==================== timestep ====================\n",
      "2022-09-07 10:45:28,852 - rank - INFO - Rank 0 -- move_people -- 0.9498447279911488\n",
      "2022-09-07 10:45:28,853 - rank - INFO - Rank 0 -- move_people_waiting -- 8.391012670472264e-06\n",
      "2022-09-07 10:45:28,854 - activity_manager - INFO - CMS: People COMS for rank 0/1 - 3.777997335419059e-06,3.5762786865234375e-06 - 2020-05-29 16:00:00\n",
      "2022-09-07 10:45:28,861 - simulator - INFO - Info for rank 0, Date = 2020-05-29 16:00:00, number of deaths =  0, number of infected = 1065\n",
      "2022-09-07 10:45:29,086 - rank - INFO - Rank 0 -- interaction -- 0.23100577999139205\n",
      "2022-09-07 10:45:32,245 - tracker - INFO - Rank 0 -- tracking contacts -- 500 of 3265 of type shelter\n",
      "2022-09-07 10:45:32,559 - tracker - INFO - Rank 0 -- tracking contacts -- 8 of 8 of type hospital\n",
      "2022-09-07 10:45:32,560 - tracker - INFO - Rank 0 -- tracking contacts -- 8 of 8 of type isolation_unit\n",
      "2022-09-07 10:45:32,562 - tracker - INFO - Rank 0 -- tracking contacts -- 389 of 389 of type learning_center\n",
      "2022-09-07 10:45:32,569 - tracker - INFO - Rank 0 -- tracking contacts -- 115 of 115 of type communal\n",
      "2022-09-07 10:45:32,572 - tracker - INFO - Rank 0 -- tracking contacts -- 21 of 21 of type distribution_center\n",
      "2022-09-07 10:45:32,643 - tracker - INFO - Rank 0 -- tracking contacts -- 7 of 7 of type e_voucher\n",
      "2022-09-07 10:45:32,677 - tracker - INFO - Rank 0 -- tracking contacts -- 67 of 67 of type female_communal\n",
      "2022-09-07 10:45:32,679 - tracker - INFO - Rank 0 -- tracking contacts -- 80 of 80 of type informal_work\n",
      "2022-09-07 10:45:32,776 - tracker - INFO - Rank 0 -- tracking contacts -- 41 of 41 of type n_f_distribution_center\n",
      "2022-09-07 10:45:32,947 - tracker - INFO - Rank 0 -- tracking contacts -- 500 of 536 of type play_group\n",
      "2022-09-07 10:45:33,458 - tracker - INFO - Rank 0 -- tracking contacts -- 81 of 81 of type pump_latrine\n",
      "2022-09-07 10:45:38,848 - tracker - INFO - Rank 0 -- tracking contacts -- 500 of 2065 of type religious\n",
      "2022-09-07 10:45:39,148 - rank - INFO - Rank 0 -- tracker -- 10.061821089009754\n",
      "2022-09-07 10:45:39,167 - epidemiology - INFO - CMS: Infection COMS-v2 for rank 0/1(2)0.0002300380147062242,0.00022912025451660156 - 2020-05-29 16:00:00\n",
      "2022-09-07 10:45:39,218 - rank - INFO - Rank 0 -- interaction_waiting -- 6.84199039824307e-06\n",
      "2022-09-07 10:45:39,235 - simulator - INFO - CMS: Timestep for rank 0/1 - 11.332406992005417,11.33240818977356 - 2020-05-29 16:00:00\n",
      "\n",
      "2022-09-07 10:45:39,237 - rank - INFO - Next timestep\n",
      "2022-09-07 10:45:39,238 - simulator - INFO - ==================== timestep ====================\n",
      "2022-09-07 10:45:40,260 - rank - INFO - Rank 0 -- move_people -- 1.0207761930068955\n",
      "2022-09-07 10:45:40,261 - rank - INFO - Rank 0 -- move_people_waiting -- 9.14299744181335e-06\n",
      "2022-09-07 10:45:40,262 - activity_manager - INFO - CMS: People COMS for rank 0/1 - 4.091998562216759e-06,3.5762786865234375e-06 - 2020-05-29 18:00:00\n",
      "2022-09-07 10:45:40,271 - simulator - INFO - Info for rank 0, Date = 2020-05-29 18:00:00, number of deaths =  0, number of infected = 1103\n",
      "2022-09-07 10:45:40,483 - rank - INFO - Rank 0 -- interaction -- 0.21976358600659296\n",
      "2022-09-07 10:45:44,504 - tracker - INFO - Rank 0 -- tracking contacts -- 500 of 3265 of type shelter\n",
      "2022-09-07 10:45:44,917 - tracker - INFO - Rank 0 -- tracking contacts -- 8 of 8 of type hospital\n",
      "2022-09-07 10:45:44,919 - tracker - INFO - Rank 0 -- tracking contacts -- 8 of 8 of type isolation_unit\n",
      "2022-09-07 10:45:44,921 - tracker - INFO - Rank 0 -- tracking contacts -- 389 of 389 of type learning_center\n",
      "2022-09-07 10:45:44,928 - tracker - INFO - Rank 0 -- tracking contacts -- 115 of 115 of type communal\n",
      "2022-09-07 10:45:44,931 - tracker - INFO - Rank 0 -- tracking contacts -- 21 of 21 of type distribution_center\n",
      "2022-09-07 10:45:44,999 - tracker - INFO - Rank 0 -- tracking contacts -- 7 of 7 of type e_voucher\n",
      "2022-09-07 10:45:45,021 - tracker - INFO - Rank 0 -- tracking contacts -- 67 of 67 of type female_communal\n",
      "2022-09-07 10:45:45,023 - tracker - INFO - Rank 0 -- tracking contacts -- 80 of 80 of type informal_work\n",
      "2022-09-07 10:45:45,167 - tracker - INFO - Rank 0 -- tracking contacts -- 41 of 41 of type n_f_distribution_center\n",
      "2022-09-07 10:45:45,343 - tracker - INFO - Rank 0 -- tracking contacts -- 500 of 536 of type play_group\n",
      "2022-09-07 10:45:45,870 - tracker - INFO - Rank 0 -- tracking contacts -- 81 of 81 of type pump_latrine\n",
      "2022-09-07 10:45:50,853 - tracker - INFO - Rank 0 -- tracking contacts -- 500 of 2065 of type religious\n",
      "2022-09-07 10:45:51,119 - rank - INFO - Rank 0 -- tracker -- 10.635291049984517\n",
      "2022-09-07 10:45:51,147 - epidemiology - INFO - CMS: Infection COMS-v2 for rank 0/1(2)0.00023458298528566957,0.00023365020751953125 - 2020-05-29 18:00:00\n",
      "2022-09-07 10:45:51,189 - rank - INFO - Rank 0 -- interaction_waiting -- 7.990020094439387e-06\n",
      "2022-09-07 10:45:51,213 - simulator - INFO - CMS: Timestep for rank 0/1 - 11.973537332989508,11.973538398742676 - 2020-05-29 18:00:00\n",
      "\n",
      "2022-09-07 10:45:51,216 - rank - INFO - Next timestep\n",
      "2022-09-07 10:45:51,218 - simulator - INFO - ==================== timestep ====================\n",
      "2022-09-07 10:45:51,426 - rank - INFO - Rank 0 -- move_people -- 0.2080509270017501\n",
      "2022-09-07 10:45:51,427 - rank - INFO - Rank 0 -- move_people_waiting -- 8.585979230701923e-06\n",
      "2022-09-07 10:45:51,428 - activity_manager - INFO - CMS: People COMS for rank 0/1 - 3.9669976104050875e-06,3.5762786865234375e-06 - 2020-05-29 20:00:00\n",
      "2022-09-07 10:45:51,435 - simulator - INFO - Info for rank 0, Date = 2020-05-29 20:00:00, number of deaths =  0, number of infected = 1146\n",
      "2022-09-07 10:45:51,589 - rank - INFO - Rank 0 -- interaction -- 0.1599922520108521\n",
      "2022-09-07 10:45:56,088 - tracker - INFO - Rank 0 -- tracking contacts -- 500 of 3265 of type shelter\n",
      "2022-09-07 10:45:57,248 - tracker - INFO - Rank 0 -- tracking contacts -- 8 of 8 of type hospital\n",
      "2022-09-07 10:45:57,250 - tracker - INFO - Rank 0 -- tracking contacts -- 8 of 8 of type isolation_unit\n",
      "2022-09-07 10:45:57,252 - tracker - INFO - Rank 0 -- tracking contacts -- 389 of 389 of type learning_center\n",
      "2022-09-07 10:45:57,263 - tracker - INFO - Rank 0 -- tracking contacts -- 115 of 115 of type communal\n",
      "2022-09-07 10:45:57,266 - tracker - INFO - Rank 0 -- tracking contacts -- 21 of 21 of type distribution_center\n",
      "2022-09-07 10:45:57,267 - tracker - INFO - Rank 0 -- tracking contacts -- 7 of 7 of type e_voucher\n",
      "2022-09-07 10:45:57,269 - tracker - INFO - Rank 0 -- tracking contacts -- 67 of 67 of type female_communal\n",
      "2022-09-07 10:45:57,270 - tracker - INFO - Rank 0 -- tracking contacts -- 80 of 80 of type informal_work\n",
      "2022-09-07 10:45:57,273 - tracker - INFO - Rank 0 -- tracking contacts -- 41 of 41 of type n_f_distribution_center\n",
      "2022-09-07 10:45:57,277 - tracker - INFO - Rank 0 -- tracking contacts -- 500 of 536 of type play_group\n",
      "2022-09-07 10:45:57,287 - tracker - INFO - Rank 0 -- tracking contacts -- 81 of 81 of type pump_latrine\n"
     ]
    },
    {
     "name": "stdout",
     "output_type": "stream",
     "text": [
      "2022-09-07 10:45:57,301 - tracker - INFO - Rank 0 -- tracking contacts -- 500 of 2065 of type religious\n",
      "2022-09-07 10:45:57,310 - rank - INFO - Rank 0 -- tracker -- 5.7198007839906495\n",
      "2022-09-07 10:45:57,370 - epidemiology - INFO - CMS: Infection COMS-v2 for rank 0/1(2)0.00022967602126300335,0.00022864341735839844 - 2020-05-29 20:00:00\n",
      "2022-09-07 10:45:57,414 - rank - INFO - Rank 0 -- interaction_waiting -- 7.194990757852793e-06\n",
      "2022-09-07 10:45:57,428 - simulator - INFO - CMS: Timestep for rank 0/1 - 6.209457066986943,6.209457635879517 - 2020-05-29 20:00:00\n",
      "\n",
      "2022-09-07 10:45:57,431 - rank - INFO - Next timestep\n",
      "2022-09-07 10:45:57,432 - simulator - INFO - ==================== timestep ====================\n",
      "2022-09-07 10:45:57,632 - rank - INFO - Rank 0 -- move_people -- 0.19955289998324588\n",
      "2022-09-07 10:45:57,633 - rank - INFO - Rank 0 -- move_people_waiting -- 3.993016434833407e-06\n",
      "2022-09-07 10:45:57,634 - activity_manager - INFO - CMS: People COMS for rank 0/1 - 4.044006345793605e-06,3.814697265625e-06 - 2020-05-30 09:00:00\n",
      "2022-09-07 10:45:57,641 - simulator - INFO - Info for rank 0, Date = 2020-05-30 09:00:00, number of deaths =  0, number of infected = 1301\n",
      "2022-09-07 10:45:57,765 - rank - INFO - Rank 0 -- interaction -- 0.12984885700279847\n",
      "2022-09-07 10:46:02,907 - tracker - INFO - Rank 0 -- tracking contacts -- 500 of 3265 of type shelter\n",
      "2022-09-07 10:46:03,853 - tracker - INFO - Rank 0 -- tracking contacts -- 8 of 8 of type hospital\n",
      "2022-09-07 10:46:03,855 - tracker - INFO - Rank 0 -- tracking contacts -- 8 of 8 of type isolation_unit\n",
      "2022-09-07 10:46:03,857 - tracker - INFO - Rank 0 -- tracking contacts -- 389 of 389 of type learning_center\n",
      "2022-09-07 10:46:03,868 - tracker - INFO - Rank 0 -- tracking contacts -- 115 of 115 of type communal\n",
      "2022-09-07 10:46:03,871 - tracker - INFO - Rank 0 -- tracking contacts -- 21 of 21 of type distribution_center\n",
      "2022-09-07 10:46:03,873 - tracker - INFO - Rank 0 -- tracking contacts -- 7 of 7 of type e_voucher\n",
      "2022-09-07 10:46:03,875 - tracker - INFO - Rank 0 -- tracking contacts -- 67 of 67 of type female_communal\n",
      "2022-09-07 10:46:03,877 - tracker - INFO - Rank 0 -- tracking contacts -- 80 of 80 of type informal_work\n",
      "2022-09-07 10:46:03,880 - tracker - INFO - Rank 0 -- tracking contacts -- 41 of 41 of type n_f_distribution_center\n",
      "2022-09-07 10:46:03,884 - tracker - INFO - Rank 0 -- tracking contacts -- 500 of 536 of type play_group\n",
      "2022-09-07 10:46:03,894 - tracker - INFO - Rank 0 -- tracking contacts -- 81 of 81 of type pump_latrine\n",
      "2022-09-07 10:46:03,911 - tracker - INFO - Rank 0 -- tracking contacts -- 500 of 2065 of type religious\n",
      "2022-09-07 10:46:03,925 - rank - INFO - Rank 0 -- tracker -- 6.158924314018805\n",
      "2022-09-07 10:46:03,954 - epidemiology - INFO - CMS: Infection COMS-v2 for rank 0/1(2)0.00034807398333214223,0.00034737586975097656 - 2020-05-30 09:00:00\n",
      "2022-09-07 10:46:04,009 - rank - INFO - Rank 0 -- interaction_waiting -- 7.274997187778354e-06\n",
      "2022-09-07 10:46:04,025 - simulator - INFO - CMS: Timestep for rank 0/1 - 6.5923230340122245,6.592324495315552 - 2020-05-30 09:00:00\n",
      "\n",
      "2022-09-07 10:46:04,028 - rank - INFO - Next timestep\n",
      "2022-09-07 10:46:04,029 - simulator - INFO - ==================== timestep ====================\n",
      "2022-09-07 10:46:05,133 - rank - INFO - Rank 0 -- move_people -- 1.1031210730143357\n",
      "2022-09-07 10:46:05,134 - rank - INFO - Rank 0 -- move_people_waiting -- 6.618007319048047e-06\n",
      "2022-09-07 10:46:05,135 - activity_manager - INFO - CMS: People COMS for rank 0/1 - 4.225003067404032e-06,3.814697265625e-06 - 2020-05-30 12:00:00\n",
      "2022-09-07 10:46:05,141 - simulator - INFO - Info for rank 0, Date = 2020-05-30 12:00:00, number of deaths =  0, number of infected = 1344\n",
      "2022-09-07 10:46:05,361 - rank - INFO - Rank 0 -- interaction -- 0.225235605990747\n",
      "2022-09-07 10:46:05,962 - tracker - INFO - Rank 0 -- tracking contacts -- 500 of 3265 of type shelter\n",
      "2022-09-07 10:46:06,373 - tracker - INFO - Rank 0 -- tracking contacts -- 8 of 8 of type hospital\n",
      "2022-09-07 10:46:06,374 - tracker - INFO - Rank 0 -- tracking contacts -- 8 of 8 of type isolation_unit\n",
      "2022-09-07 10:46:06,377 - tracker - INFO - Rank 0 -- tracking contacts -- 389 of 389 of type learning_center\n",
      "2022-09-07 10:46:06,386 - tracker - INFO - Rank 0 -- tracking contacts -- 115 of 115 of type communal\n",
      "2022-09-07 10:46:06,392 - tracker - INFO - Rank 0 -- tracking contacts -- 21 of 21 of type distribution_center\n",
      "2022-09-07 10:46:06,494 - tracker - INFO - Rank 0 -- tracking contacts -- 7 of 7 of type e_voucher\n",
      "2022-09-07 10:46:06,512 - tracker - INFO - Rank 0 -- tracking contacts -- 67 of 67 of type female_communal\n",
      "2022-09-07 10:46:06,514 - tracker - INFO - Rank 0 -- tracking contacts -- 80 of 80 of type informal_work\n",
      "2022-09-07 10:46:06,624 - tracker - INFO - Rank 0 -- tracking contacts -- 41 of 41 of type n_f_distribution_center\n",
      "2022-09-07 10:46:06,819 - tracker - INFO - Rank 0 -- tracking contacts -- 500 of 536 of type play_group\n",
      "2022-09-07 10:46:07,303 - tracker - INFO - Rank 0 -- tracking contacts -- 81 of 81 of type pump_latrine\n",
      "2022-09-07 10:46:12,506 - tracker - INFO - Rank 0 -- tracking contacts -- 500 of 2065 of type religious\n",
      "2022-09-07 10:46:12,843 - rank - INFO - Rank 0 -- tracker -- 7.481873047014233\n",
      "2022-09-07 10:46:12,864 - epidemiology - INFO - CMS: Infection COMS-v2 for rank 0/1(2)0.00022047600941732526,0.00021958351135253906 - 2020-05-30 12:00:00\n",
      "2022-09-07 10:46:12,910 - rank - INFO - Rank 0 -- interaction_waiting -- 7.318012649193406e-06\n",
      "2022-09-07 10:46:12,927 - simulator - INFO - CMS: Timestep for rank 0/1 - 8.89750572500634,8.89750623703003 - 2020-05-30 12:00:00\n",
      "\n",
      "2022-09-07 10:46:12,930 - rank - INFO - Next timestep\n",
      "2022-09-07 10:46:12,931 - simulator - INFO - ==================== timestep ====================\n",
      "2022-09-07 10:46:13,840 - rank - INFO - Rank 0 -- move_people -- 0.9084979600156657\n",
      "2022-09-07 10:46:13,841 - rank - INFO - Rank 0 -- move_people_waiting -- 8.744013030081987e-06\n",
      "2022-09-07 10:46:13,842 - activity_manager - INFO - CMS: People COMS for rank 0/1 - 4.039000486955047e-06,3.5762786865234375e-06 - 2020-05-30 14:00:00\n",
      "2022-09-07 10:46:13,852 - simulator - INFO - Info for rank 0, Date = 2020-05-30 14:00:00, number of deaths =  0, number of infected = 1395\n",
      "2022-09-07 10:46:14,079 - rank - INFO - Rank 0 -- interaction -- 0.23635801297496073\n",
      "2022-09-07 10:46:16,282 - tracker - INFO - Rank 0 -- tracking contacts -- 500 of 3265 of type shelter\n",
      "2022-09-07 10:46:16,619 - tracker - INFO - Rank 0 -- tracking contacts -- 8 of 8 of type hospital\n",
      "2022-09-07 10:46:16,621 - tracker - INFO - Rank 0 -- tracking contacts -- 8 of 8 of type isolation_unit\n",
      "2022-09-07 10:46:16,624 - tracker - INFO - Rank 0 -- tracking contacts -- 389 of 389 of type learning_center\n",
      "2022-09-07 10:46:16,631 - tracker - INFO - Rank 0 -- tracking contacts -- 115 of 115 of type communal\n",
      "2022-09-07 10:46:16,634 - tracker - INFO - Rank 0 -- tracking contacts -- 21 of 21 of type distribution_center\n",
      "2022-09-07 10:46:16,730 - tracker - INFO - Rank 0 -- tracking contacts -- 7 of 7 of type e_voucher\n",
      "2022-09-07 10:46:16,758 - tracker - INFO - Rank 0 -- tracking contacts -- 67 of 67 of type female_communal\n",
      "2022-09-07 10:46:16,761 - tracker - INFO - Rank 0 -- tracking contacts -- 80 of 80 of type informal_work\n",
      "2022-09-07 10:46:16,861 - tracker - INFO - Rank 0 -- tracking contacts -- 41 of 41 of type n_f_distribution_center\n",
      "2022-09-07 10:46:17,011 - tracker - INFO - Rank 0 -- tracking contacts -- 500 of 536 of type play_group\n",
      "2022-09-07 10:46:17,559 - tracker - INFO - Rank 0 -- tracking contacts -- 81 of 81 of type pump_latrine\n",
      "2022-09-07 10:46:22,772 - tracker - INFO - Rank 0 -- tracking contacts -- 500 of 2065 of type religious\n",
      "2022-09-07 10:46:23,146 - rank - INFO - Rank 0 -- tracker -- 9.0656532550056\n",
      "2022-09-07 10:46:23,167 - epidemiology - INFO - CMS: Infection COMS-v2 for rank 0/1(2)0.0006329790048766881,0.0006325244903564453 - 2020-05-30 14:00:00\n",
      "2022-09-07 10:46:23,220 - rank - INFO - Rank 0 -- interaction_waiting -- 8.60498403199017e-06\n",
      "2022-09-07 10:46:23,236 - simulator - INFO - CMS: Timestep for rank 0/1 - 10.303803232003702,10.30380392074585 - 2020-05-30 14:00:00\n",
      "\n",
      "2022-09-07 10:46:23,238 - rank - INFO - Next timestep\n"
     ]
    },
    {
     "name": "stdout",
     "output_type": "stream",
     "text": [
      "2022-09-07 10:46:23,239 - simulator - INFO - ==================== timestep ====================\n",
      "2022-09-07 10:46:24,200 - rank - INFO - Rank 0 -- move_people -- 0.9596590470173396\n",
      "2022-09-07 10:46:24,201 - rank - INFO - Rank 0 -- move_people_waiting -- 9.615003364160657e-06\n",
      "2022-09-07 10:46:24,202 - activity_manager - INFO - CMS: People COMS for rank 0/1 - 4.469009581953287e-06,4.0531158447265625e-06 - 2020-05-30 16:00:00\n",
      "2022-09-07 10:46:24,208 - simulator - INFO - Info for rank 0, Date = 2020-05-30 16:00:00, number of deaths =  0, number of infected = 1436\n",
      "2022-09-07 10:46:24,452 - rank - INFO - Rank 0 -- interaction -- 0.249427179020131\n",
      "2022-09-07 10:46:27,715 - tracker - INFO - Rank 0 -- tracking contacts -- 500 of 3265 of type shelter\n",
      "2022-09-07 10:46:28,118 - tracker - INFO - Rank 0 -- tracking contacts -- 8 of 8 of type hospital\n",
      "2022-09-07 10:46:28,121 - tracker - INFO - Rank 0 -- tracking contacts -- 8 of 8 of type isolation_unit\n",
      "2022-09-07 10:46:28,123 - tracker - INFO - Rank 0 -- tracking contacts -- 389 of 389 of type learning_center\n",
      "2022-09-07 10:46:28,131 - tracker - INFO - Rank 0 -- tracking contacts -- 115 of 115 of type communal\n",
      "2022-09-07 10:46:28,134 - tracker - INFO - Rank 0 -- tracking contacts -- 21 of 21 of type distribution_center\n",
      "2022-09-07 10:46:28,240 - tracker - INFO - Rank 0 -- tracking contacts -- 7 of 7 of type e_voucher\n",
      "2022-09-07 10:46:28,256 - tracker - INFO - Rank 0 -- tracking contacts -- 67 of 67 of type female_communal\n",
      "2022-09-07 10:46:28,259 - tracker - INFO - Rank 0 -- tracking contacts -- 80 of 80 of type informal_work\n",
      "2022-09-07 10:46:28,344 - tracker - INFO - Rank 0 -- tracking contacts -- 41 of 41 of type n_f_distribution_center\n",
      "2022-09-07 10:46:28,541 - tracker - INFO - Rank 0 -- tracking contacts -- 500 of 536 of type play_group\n",
      "2022-09-07 10:46:29,067 - tracker - INFO - Rank 0 -- tracking contacts -- 81 of 81 of type pump_latrine\n",
      "2022-09-07 10:46:34,212 - tracker - INFO - Rank 0 -- tracking contacts -- 500 of 2065 of type religious\n",
      "2022-09-07 10:46:34,503 - rank - INFO - Rank 0 -- tracker -- 10.049236068996834\n",
      "2022-09-07 10:46:34,530 - epidemiology - INFO - CMS: Infection COMS-v2 for rank 0/1(2)0.00022011398687027395,0.00021958351135253906 - 2020-05-30 16:00:00\n",
      "2022-09-07 10:46:34,573 - rank - INFO - Rank 0 -- interaction_waiting -- 6.796995876356959e-06\n",
      "2022-09-07 10:46:34,588 - simulator - INFO - CMS: Timestep for rank 0/1 - 11.348144963994855,11.348145961761475 - 2020-05-30 16:00:00\n",
      "\n",
      "2022-09-07 10:46:34,592 - rank - INFO - Next timestep\n",
      "2022-09-07 10:46:34,594 - simulator - INFO - ==================== timestep ====================\n",
      "2022-09-07 10:46:35,478 - rank - INFO - Rank 0 -- move_people -- 0.8839950639812741\n",
      "2022-09-07 10:46:35,479 - rank - INFO - Rank 0 -- move_people_waiting -- 8.756003808230162e-06\n",
      "2022-09-07 10:46:35,480 - activity_manager - INFO - CMS: People COMS for rank 0/1 - 3.6990095395594835e-06,3.5762786865234375e-06 - 2020-05-30 18:00:00\n",
      "2022-09-07 10:46:35,485 - simulator - INFO - Info for rank 0, Date = 2020-05-30 18:00:00, number of deaths =  0, number of infected = 1494\n",
      "2022-09-07 10:46:35,704 - rank - INFO - Rank 0 -- interaction -- 0.22302144800778478\n",
      "2022-09-07 10:46:39,601 - tracker - INFO - Rank 0 -- tracking contacts -- 500 of 3265 of type shelter\n",
      "2022-09-07 10:46:39,947 - tracker - INFO - Rank 0 -- tracking contacts -- 8 of 8 of type hospital\n",
      "2022-09-07 10:46:39,948 - tracker - INFO - Rank 0 -- tracking contacts -- 8 of 8 of type isolation_unit\n",
      "2022-09-07 10:46:39,951 - tracker - INFO - Rank 0 -- tracking contacts -- 389 of 389 of type learning_center\n",
      "2022-09-07 10:46:39,958 - tracker - INFO - Rank 0 -- tracking contacts -- 115 of 115 of type communal\n",
      "2022-09-07 10:46:39,961 - tracker - INFO - Rank 0 -- tracking contacts -- 21 of 21 of type distribution_center\n",
      "2022-09-07 10:46:40,029 - tracker - INFO - Rank 0 -- tracking contacts -- 7 of 7 of type e_voucher\n",
      "2022-09-07 10:46:40,052 - tracker - INFO - Rank 0 -- tracking contacts -- 67 of 67 of type female_communal\n",
      "2022-09-07 10:46:40,055 - tracker - INFO - Rank 0 -- tracking contacts -- 80 of 80 of type informal_work\n",
      "2022-09-07 10:46:40,156 - tracker - INFO - Rank 0 -- tracking contacts -- 41 of 41 of type n_f_distribution_center\n",
      "2022-09-07 10:46:40,311 - tracker - INFO - Rank 0 -- tracking contacts -- 500 of 536 of type play_group\n",
      "2022-09-07 10:46:40,832 - tracker - INFO - Rank 0 -- tracking contacts -- 81 of 81 of type pump_latrine\n",
      "2022-09-07 10:46:46,131 - tracker - INFO - Rank 0 -- tracking contacts -- 500 of 2065 of type religious\n",
      "2022-09-07 10:46:46,426 - rank - INFO - Rank 0 -- tracker -- 10.721253544994397\n",
      "2022-09-07 10:46:46,446 - epidemiology - INFO - CMS: Infection COMS-v2 for rank 0/1(2)0.0003290479944553226,0.0003285408020019531 - 2020-05-30 18:00:00\n",
      "2022-09-07 10:46:46,495 - rank - INFO - Rank 0 -- interaction_waiting -- 6.319984095171094e-06\n",
      "2022-09-07 10:46:46,509 - simulator - INFO - CMS: Timestep for rank 0/1 - 11.914350128994556,11.914351224899292 - 2020-05-30 18:00:00\n",
      "\n",
      "2022-09-07 10:46:46,512 - rank - INFO - Next timestep\n",
      "2022-09-07 10:46:46,513 - simulator - INFO - ==================== timestep ====================\n",
      "2022-09-07 10:46:46,713 - rank - INFO - Rank 0 -- move_people -- 0.19952277300762944\n",
      "2022-09-07 10:46:46,714 - rank - INFO - Rank 0 -- move_people_waiting -- 7.072987500578165e-06\n",
      "2022-09-07 10:46:46,715 - activity_manager - INFO - CMS: People COMS for rank 0/1 - 3.641995135694742e-06,3.337860107421875e-06 - 2020-05-30 20:00:00\n",
      "2022-09-07 10:46:46,721 - simulator - INFO - Info for rank 0, Date = 2020-05-30 20:00:00, number of deaths =  0, number of infected = 1540\n",
      "2022-09-07 10:46:46,887 - rank - INFO - Rank 0 -- interaction -- 0.17205007799202576\n",
      "2022-09-07 10:46:51,332 - tracker - INFO - Rank 0 -- tracking contacts -- 500 of 3265 of type shelter\n",
      "2022-09-07 10:46:52,537 - tracker - INFO - Rank 0 -- tracking contacts -- 8 of 8 of type hospital\n",
      "2022-09-07 10:46:52,539 - tracker - INFO - Rank 0 -- tracking contacts -- 8 of 8 of type isolation_unit\n",
      "2022-09-07 10:46:52,541 - tracker - INFO - Rank 0 -- tracking contacts -- 389 of 389 of type learning_center\n",
      "2022-09-07 10:46:52,552 - tracker - INFO - Rank 0 -- tracking contacts -- 115 of 115 of type communal\n",
      "2022-09-07 10:46:52,555 - tracker - INFO - Rank 0 -- tracking contacts -- 21 of 21 of type distribution_center\n",
      "2022-09-07 10:46:52,557 - tracker - INFO - Rank 0 -- tracking contacts -- 7 of 7 of type e_voucher\n",
      "2022-09-07 10:46:52,559 - tracker - INFO - Rank 0 -- tracking contacts -- 67 of 67 of type female_communal\n",
      "2022-09-07 10:46:52,563 - tracker - INFO - Rank 0 -- tracking contacts -- 80 of 80 of type informal_work\n",
      "2022-09-07 10:46:52,567 - tracker - INFO - Rank 0 -- tracking contacts -- 41 of 41 of type n_f_distribution_center\n",
      "2022-09-07 10:46:52,572 - tracker - INFO - Rank 0 -- tracking contacts -- 500 of 536 of type play_group\n",
      "2022-09-07 10:46:52,582 - tracker - INFO - Rank 0 -- tracking contacts -- 81 of 81 of type pump_latrine\n",
      "2022-09-07 10:46:52,601 - tracker - INFO - Rank 0 -- tracking contacts -- 500 of 2065 of type religious\n",
      "2022-09-07 10:46:52,609 - rank - INFO - Rank 0 -- tracker -- 5.721017499978188\n",
      "2022-09-07 10:46:52,688 - epidemiology - INFO - CMS: Infection COMS-v2 for rank 0/1(2)0.0012378650135360658,0.001237630844116211 - 2020-05-30 20:00:00\n",
      "2022-09-07 10:46:52,735 - rank - INFO - Rank 0 -- interaction_waiting -- 6.929010851308703e-06\n",
      "2022-09-07 10:46:52,750 - simulator - INFO - CMS: Timestep for rank 0/1 - 6.236442662018817,6.2364442348480225 - 2020-05-30 20:00:00\n",
      "\n",
      "CPU times: user 6min 32s, sys: 4.25 s, total: 6min 36s\n",
      "Wall time: 6min 31s\n"
     ]
    }
   ],
   "source": [
    "%%time\n",
    "simulator.run()"
   ]
  },
  {
   "cell_type": "markdown",
   "metadata": {},
   "source": [
    "# Getting the results"
   ]
  },
  {
   "cell_type": "markdown",
   "metadata": {},
   "source": [
    "All results are stored in a json file specified in the `record_path` when defining the recorder. This can be read in by passing the folder locations to the `RecordReader` class and results derived.\n",
    "\n",
    "Here we show some examples of the kind of analysis you can extract from the records."
   ]
  },
  {
   "cell_type": "code",
   "execution_count": 55,
   "metadata": {},
   "outputs": [],
   "source": [
    "import pandas as pd"
   ]
  },
  {
   "cell_type": "code",
   "execution_count": 56,
   "metadata": {},
   "outputs": [],
   "source": [
    "read = RecordReader(Results_Path)"
   ]
  },
  {
   "cell_type": "markdown",
   "metadata": {},
   "source": [
    "The regional summary gives you information at the regional (camp) level."
   ]
  },
  {
   "cell_type": "markdown",
   "metadata": {},
   "source": [
    "### Regional information"
   ]
  },
  {
   "cell_type": "code",
   "execution_count": 57,
   "metadata": {},
   "outputs": [
    {
     "data": {
      "text/html": [
       "<div>\n",
       "<style scoped>\n",
       "    .dataframe tbody tr th:only-of-type {\n",
       "        vertical-align: middle;\n",
       "    }\n",
       "\n",
       "    .dataframe tbody tr th {\n",
       "        vertical-align: top;\n",
       "    }\n",
       "\n",
       "    .dataframe thead th {\n",
       "        text-align: right;\n",
       "    }\n",
       "</style>\n",
       "<table border=\"1\" class=\"dataframe\">\n",
       "  <thead>\n",
       "    <tr style=\"text-align: right;\">\n",
       "      <th></th>\n",
       "      <th>region</th>\n",
       "      <th>current_infected</th>\n",
       "      <th>daily_infected</th>\n",
       "      <th>current_hospitalised</th>\n",
       "      <th>daily_hospitalised</th>\n",
       "      <th>current_intensive_care</th>\n",
       "      <th>daily_intensive_care</th>\n",
       "      <th>daily_hospital_deaths</th>\n",
       "      <th>daily_deaths</th>\n",
       "    </tr>\n",
       "    <tr>\n",
       "      <th>time_stamp</th>\n",
       "      <th></th>\n",
       "      <th></th>\n",
       "      <th></th>\n",
       "      <th></th>\n",
       "      <th></th>\n",
       "      <th></th>\n",
       "      <th></th>\n",
       "      <th></th>\n",
       "      <th></th>\n",
       "    </tr>\n",
       "  </thead>\n",
       "  <tbody>\n",
       "    <tr>\n",
       "      <th>2020-05-24</th>\n",
       "      <td>CXB-219</td>\n",
       "      <td>236.5</td>\n",
       "      <td>270</td>\n",
       "      <td>0.0</td>\n",
       "      <td>0</td>\n",
       "      <td>0.0</td>\n",
       "      <td>0</td>\n",
       "      <td>0</td>\n",
       "      <td>0</td>\n",
       "    </tr>\n",
       "    <tr>\n",
       "      <th>2020-05-25</th>\n",
       "      <td>CXB-219</td>\n",
       "      <td>312.0</td>\n",
       "      <td>103</td>\n",
       "      <td>0.0</td>\n",
       "      <td>0</td>\n",
       "      <td>0.0</td>\n",
       "      <td>0</td>\n",
       "      <td>0</td>\n",
       "      <td>0</td>\n",
       "    </tr>\n",
       "    <tr>\n",
       "      <th>2020-05-26</th>\n",
       "      <td>CXB-219</td>\n",
       "      <td>427.5</td>\n",
       "      <td>134</td>\n",
       "      <td>0.0</td>\n",
       "      <td>0</td>\n",
       "      <td>0.0</td>\n",
       "      <td>0</td>\n",
       "      <td>0</td>\n",
       "      <td>0</td>\n",
       "    </tr>\n",
       "  </tbody>\n",
       "</table>\n",
       "</div>"
      ],
      "text/plain": [
       "             region  current_infected  daily_infected  current_hospitalised  \\\n",
       "time_stamp                                                                    \n",
       "2020-05-24  CXB-219             236.5             270                   0.0   \n",
       "2020-05-25  CXB-219             312.0             103                   0.0   \n",
       "2020-05-26  CXB-219             427.5             134                   0.0   \n",
       "\n",
       "            daily_hospitalised  current_intensive_care  daily_intensive_care  \\\n",
       "time_stamp                                                                     \n",
       "2020-05-24                   0                     0.0                     0   \n",
       "2020-05-25                   0                     0.0                     0   \n",
       "2020-05-26                   0                     0.0                     0   \n",
       "\n",
       "            daily_hospital_deaths  daily_deaths  \n",
       "time_stamp                                       \n",
       "2020-05-24                      0             0  \n",
       "2020-05-25                      0             0  \n",
       "2020-05-26                      0             0  "
      ]
     },
     "execution_count": 57,
     "metadata": {},
     "output_type": "execute_result"
    }
   ],
   "source": [
    "read.regional_summary.head(3) # this is the equivalent of the summary.csv"
   ]
  },
  {
   "cell_type": "markdown",
   "metadata": {},
   "source": [
    "### Daily infections"
   ]
  },
  {
   "cell_type": "code",
   "execution_count": 58,
   "metadata": {},
   "outputs": [],
   "source": [
    "summary = read.regional_summary.reset_index()"
   ]
  },
  {
   "cell_type": "code",
   "execution_count": 59,
   "metadata": {},
   "outputs": [
    {
     "data": {
      "image/png": "[encoded data removed]",
      "text/plain": [
       "<Figure size 432x288 with 1 Axes>"
      ]
     },
     "metadata": {
      "needs_background": "light"
     },
     "output_type": "display_data"
    }
   ],
   "source": [
    "summary.groupby(['time_stamp']).sum().plot(y=['daily_infected'])\n",
    "plt.ylabel('Daily infections')\n",
    "plt.show()"
   ]
  },
  {
   "cell_type": "markdown",
   "metadata": {},
   "source": [
    "### Hospital and intensive care"
   ]
  },
  {
   "cell_type": "code",
   "execution_count": 60,
   "metadata": {},
   "outputs": [
    {
     "data": {
      "image/png": "[encoded data removed]",
      "text/plain": [
       "<Figure size 432x288 with 1 Axes>"
      ]
     },
     "metadata": {
      "needs_background": "light"
     },
     "output_type": "display_data"
    }
   ],
   "source": [
    "summary.groupby(['time_stamp']).sum().plot(y=['current_hospitalised', 'current_intensive_care'])\n",
    "plt.show()"
   ]
  },
  {
   "cell_type": "markdown",
   "metadata": {},
   "source": [
    "### Cumulative infections by age"
   ]
  },
  {
   "cell_type": "code",
   "execution_count": 61,
   "metadata": {},
   "outputs": [
    {
     "name": "stdout",
     "output_type": "stream",
     "text": [
      "2022-09-07 10:46:53,376 - june.records.records_reader - INFO - Loading infections table\n",
      "2022-09-07 10:46:53,394 - june.records.records_reader - INFO - Loading population table\n",
      "2022-09-07 10:46:53,459 - june.records.records_reader - INFO - Merging infection and population tables\n",
      "2022-09-07 10:46:53,467 - june.records.records_reader - INFO - Loading geography table\n",
      "2022-09-07 10:46:53,872 - june.records.records_reader - INFO - Mergeing infection and geography tables\n"
     ]
    }
   ],
   "source": [
    "infections_df = read.get_table_with_extras('infections',\n",
    "                                           'infected_ids')"
   ]
  },
  {
   "cell_type": "code",
   "execution_count": 62,
   "metadata": {},
   "outputs": [
    {
     "name": "stdout",
     "output_type": "stream",
     "text": [
      "2022-09-07 10:46:53,892 - june.records.records_reader - INFO - Loading deaths table\n",
      "2022-09-07 10:46:53,903 - june.records.records_reader - INFO - Loading population table\n",
      "2022-09-07 10:46:53,994 - june.records.records_reader - INFO - Merging infection and population tables\n",
      "2022-09-07 10:46:54,002 - june.records.records_reader - INFO - Loading geography table\n",
      "2022-09-07 10:46:54,039 - june.records.records_reader - INFO - Mergeing infection and geography tables\n"
     ]
    }
   ],
   "source": [
    "deaths_df = read.get_table_with_extras('deaths', \n",
    "                                       'dead_person_ids')"
   ]
  },
  {
   "cell_type": "code",
   "execution_count": 63,
   "metadata": {},
   "outputs": [],
   "source": [
    "age_bins = (0,20,60,100)"
   ]
  },
  {
   "cell_type": "code",
   "execution_count": 64,
   "metadata": {},
   "outputs": [],
   "source": [
    "infected_by_age = infections_df.groupby([pd.cut(infections_df['age'],\n",
    "            bins=age_bins), 'timestamp']).size()"
   ]
  },
  {
   "cell_type": "code",
   "execution_count": 65,
   "metadata": {},
   "outputs": [],
   "source": [
    "people_df = read.table_to_df('population')"
   ]
  },
  {
   "cell_type": "code",
   "execution_count": 66,
   "metadata": {},
   "outputs": [],
   "source": [
    "n_by_age = people_df.groupby(pd.cut(people_df['age'],\n",
    "            bins=age_bins)).size()"
   ]
  },
  {
   "cell_type": "code",
   "execution_count": 67,
   "metadata": {},
   "outputs": [
    {
     "data": {
      "text/plain": [
       "<matplotlib.legend.Legend at 0x7fb76c8484f0>"
      ]
     },
     "execution_count": 67,
     "metadata": {},
     "output_type": "execute_result"
    },
    {
     "data": {
      "image/png": "[encoded data removed]",
      "text/plain": [
       "<Figure size 432x288 with 1 Axes>"
      ]
     },
     "metadata": {
      "needs_background": "light"
     },
     "output_type": "display_data"
    }
   ],
   "source": [
    "(100*infected_by_age/n_by_age).xs(10).cumsum().plot(label='0,20')\n",
    "(100*infected_by_age/n_by_age).xs(30).cumsum().plot(label='20,60')\n",
    "(100*infected_by_age/n_by_age).xs(70).cumsum().plot(label='60,100')\n",
    "plt.ylabel(\"% cumulative infected\")\n",
    "plt.legend()"
   ]
  },
  {
   "cell_type": "markdown",
   "metadata": {},
   "source": [
    "### Where people get infected"
   ]
  },
  {
   "cell_type": "code",
   "execution_count": 68,
   "metadata": {},
   "outputs": [],
   "source": [
    "locations_df = infections_df.groupby(['location_specs', \n",
    "                                'timestamp']).size()"
   ]
  },
  {
   "cell_type": "code",
   "execution_count": 69,
   "metadata": {},
   "outputs": [
    {
     "data": {
      "text/plain": [
       "<AxesSubplot:xlabel='timestamp'>"
      ]
     },
     "execution_count": 69,
     "metadata": {},
     "output_type": "execute_result"
    },
    {
     "data": {
      "image/png": "[encoded data removed]",
      "text/plain": [
       "<Figure size 432x288 with 1 Axes>"
      ]
     },
     "metadata": {
      "needs_background": "light"
     },
     "output_type": "display_data"
    }
   ],
   "source": [
    "locations_df.unstack(level=0).plot()"
   ]
  },
  {
   "cell_type": "code",
   "execution_count": 70,
   "metadata": {},
   "outputs": [
    {
     "data": {
      "text/plain": [
       "Text(0.5, 0, 'location')"
      ]
     },
     "execution_count": 70,
     "metadata": {},
     "output_type": "execute_result"
    },
    {
     "data": {
      "image/png": "[encoded data removed]",
      "text/plain": [
       "<Figure size 432x288 with 1 Axes>"
      ]
     },
     "metadata": {
      "needs_background": "light"
     },
     "output_type": "display_data"
    }
   ],
   "source": [
    "import matplotlib.ticker as mtick\n",
    "location_counts_df = locations_df.groupby('location_specs').size()\n",
    "location_counts_df = 100*location_counts_df / location_counts_df.sum()\n",
    "ax = location_counts_df.sort_values().plot.bar()\n",
    "ax.yaxis.set_major_formatter(mtick.PercentFormatter())\n",
    "plt.ylabel('Percentage of infections at location')\n",
    "plt.xlabel('location')"
   ]
  },
  {
   "cell_type": "markdown",
   "metadata": {},
   "source": [
    "# Tracker results"
   ]
  },
  {
   "cell_type": "markdown",
   "metadata": {},
   "source": [
    "We can define custom binnings with bin edges as such."
   ]
  },
  {
   "cell_type": "code",
   "execution_count": 71,
   "metadata": {},
   "outputs": [
    {
     "data": {
      "text/plain": [
       "1"
      ]
     },
     "execution_count": 71,
     "metadata": {},
     "output_type": "execute_result"
    }
   ],
   "source": [
    "simulator.tracker.contract_matrices(\"AC\", np.array([0,18,60]))"
   ]
  },
  {
   "cell_type": "markdown",
   "metadata": {},
   "source": [
    "Lastly we call the tracker to save the results to file and provide a print out of the results."
   ]
  },
  {
   "cell_type": "code",
   "execution_count": 72,
   "metadata": {
    "scrolled": true
   },
   "outputs": [
    {
     "name": "stdout",
     "output_type": "stream",
     "text": [
      "       hospital  distribution_center  communal  female_communal  pump_latrine  \\\n",
      "3839          0                    0         0                0           104   \n",
      "352           0                    0         0                0           740   \n",
      "660           0                    0         0                0           539   \n",
      "1744          0                    0         0                0           390   \n",
      "3498          0                    0         0               15           217   \n",
      "...         ...                  ...       ...              ...           ...   \n",
      "22094         0                    0         0                0           188   \n",
      "18856         0                    0         0                0           422   \n",
      "19368         0                    0         0                0           577   \n",
      "20968         0                    0         0                0           166   \n",
      "18997         0                    0         0                0           516   \n",
      "\n",
      "       religious  play_group  e_voucher  n_f_distribution_center  shelter  \\\n",
      "3839           0           0          0                        0        0   \n",
      "352            0           0          0                        0       72   \n",
      "660            0          27          0                        0       76   \n",
      "1744           0          23          0                        0        0   \n",
      "3498           0           0          0                        0        0   \n",
      "...          ...         ...        ...                      ...      ...   \n",
      "22094          0           0          0                        0        0   \n",
      "18856          0          13          0                        0        0   \n",
      "19368          0          21          0                        0        0   \n",
      "20968          0           0          0                        0       49   \n",
      "18997          0          36          0                        0        0   \n",
      "\n",
      "       ...  learning_center  informal_work  isolation_unit  care_home_visits  \\\n",
      "3839   ...                0              1               0                 0   \n",
      "352    ...                0              0               0                 0   \n",
      "660    ...                0              0               0                 0   \n",
      "1744   ...               89              0               0                 0   \n",
      "3498   ...                0              0               0                 0   \n",
      "...    ...              ...            ...             ...               ...   \n",
      "22094  ...                0              6               0                 0   \n",
      "18856  ...              105              0               0                 0   \n",
      "19368  ...              105              0               0                 0   \n",
      "20968  ...                0              7               0                 0   \n",
      "18997  ...              110              0               0                 0   \n",
      "\n",
      "       household_visits  global  age  sex  AC_idx syoa_idx  \n",
      "3839                  0     105   28    m       1       28  \n",
      "352                   0     812    2    m       0        2  \n",
      "660                   0     642    3    m       0        3  \n",
      "1744                  0     502    8    m       0        8  \n",
      "3498                  0     232   23    f       1       23  \n",
      "...                 ...     ...  ...  ...     ...      ...  \n",
      "22094                 0     194   47    m       1       47  \n",
      "18856                 0     540    5    f       0        5  \n",
      "19368                 0     703    8    m       0        8  \n",
      "20968                 0     222   26    m       1       26  \n",
      "18997                 0     662    6    m       0        6  \n",
      "\n",
      "[22953 rows x 22 columns]\n",
      "Results from 1D interactions...\n",
      "\n",
      "  communal:\n",
      "    contacts: [[4.1011,7.5585],[1.2054,5.8412]]\n",
      "    contacts_err: [[1.4320,1.9440],[0.7763,1.7090]]\n",
      "    proportion_physical: [[0.1200]]\n",
      "    characteristic_time: 1.00\n",
      "\n",
      "    Ratio of contacts and feed in values: [[0.8202,0.9320],[0.7879,0.9735]]\n",
      "\n",
      "  distribution_center:\n",
      "    contacts: [[4.1365,13.3509],[0.7987,9.9878]]\n",
      "    contacts_err: [[1.4381,2.5837],[0.6320,2.2347]]\n",
      "    proportion_physical: [[0.1200]]\n",
      "    characteristic_time: 1.00\n",
      "\n",
      "    Ratio of contacts and feed in values: [[1.0341,0.9795],[1.0111,0.9988]]\n",
      "\n",
      "  e_voucher:\n",
      "    contacts: [[0.2248,2.2230],[0.1071,13.4869]]\n",
      "    contacts_err: [[0.3353,1.0543],[0.2314,2.5968]]\n",
      "    proportion_physical: [[0.1200]]\n",
      "    characteristic_time: 1.00\n",
      "\n",
      "    Ratio of contacts and feed in values: [[0.0000,1.1115],[1.0710,0.9990]]\n",
      "\n",
      "  female_communal:\n",
      "    contacts: [[4.9870,8.0386],[1.5177,6.0965]]\n",
      "    contacts_err: [[1.5791,2.0048],[0.8711,1.7459]]\n",
      "    proportion_physical: [[0.1200]]\n",
      "    characteristic_time: 1.00\n",
      "\n",
      "    Ratio of contacts and feed in values: [[0.9974,0.9912],[0.9920,1.0161]]\n",
      "\n",
      "  hospital:\n",
      "    contacts: [[4.9908,0.0000,0.0000],[0.0000,0.0000,0.0000],[0.0000,0.0000,0.0000]]\n",
      "    contacts_err: [[4.4680,0.0000,0.0000],[0.0000,0.0000,0.0000],[0.0000,0.0000,0.0000]]\n",
      "    proportion_physical: [[0.0500,1.0000,1.0000],[1.0000,0.0000,0.0000],[1.0000,0.0000,0.0000]]\n",
      "    characteristic_time: 8.00\n",
      "\n",
      "    Ratio of contacts and feed in values: [[0.9982,0.0000,0.0000],[0.0000,0.0000,0.0000],[0.0000,0.0000,0.0000]]\n",
      "\n",
      "  informal_work:\n",
      "    contacts: [[5.0137]]\n",
      "    contacts_err: [[4.4783]]\n",
      "    proportion_physical: [[0.1200]]\n",
      "    characteristic_time: 8.00\n",
      "\n",
      "    Ratio of contacts and feed in values: [[1.0027]]\n",
      "\n",
      "  isolation_unit:\n",
      "    contacts: [[0.0000,0.0000],[0.0000,0.0000]]\n",
      "    contacts_err: [[0.0000,0.0000],[0.0000,0.0000]]\n",
      "    proportion_physical: [[0.0000,0.0000],[0.0000,0.0000]]\n",
      "    characteristic_time: 24.00\n",
      "\n",
      "    Ratio of contacts and feed in values: [[0.0000,0.0000],[0.0000,0.0000]]\n",
      "\n",
      "  learning_center:\n",
      "    contacts: [[9.9957,6.4163],[1.9945,3.8617]]\n",
      "    contacts_err: [[2.7380,2.1937],[1.2231,1.7019]]\n",
      "    proportion_physical: [[0.1200,0.1200],[0.1200,0.1200]]\n",
      "    characteristic_time: 1.50\n",
      "\n",
      "    Ratio of contacts and feed in values: [[0.9996,1.0025],[0.4492,0.9953]]\n",
      "\n",
      "  n_f_distribution_center:\n",
      "    contacts: [[3.9786,13.6351],[0.7848,9.9894]]\n",
      "    contacts_err: [[1.4104,2.6110],[0.6264,2.2349]]\n",
      "    proportion_physical: [[0.1200]]\n",
      "    characteristic_time: 1.00\n",
      "\n",
      "    Ratio of contacts and feed in values: [[0.9947,1.0004],[0.9934,0.9989]]\n",
      "\n",
      "  play_group:\n",
      "    contacts: [[4.9777,0.0000,0.0000],[0.0000,4.9780,0.0000],[0.0000,0.0000,4.8454]]\n",
      "    contacts_err: [[2.2311,0.0000,0.0000],[0.0000,2.2311,0.0000],[0.0000,0.0000,2.2012]]\n",
      "    proportion_physical: [[0.6000,0.0000,0.0000],[0.0000,0.3000,0.0000],[0.0000,0.0000,0.1500]]\n",
      "    characteristic_time: 2.00\n",
      "\n",
      "    Ratio of contacts and feed in values: [[0.9955,0.0000,0.0000],[0.0000,0.9956,0.0000],[0.0000,0.0000,0.9691]]\n",
      "\n",
      "  pump_latrine:\n",
      "    contacts: [[3.2499,9.7195],[1.6253,4.3290]]\n",
      "    contacts_err: [[0.9367,1.6200],[0.6624,1.0811]]\n",
      "    proportion_physical: [[0.0200]]\n",
      "    characteristic_time: 0.54\n",
      "\n",
      "    Ratio of contacts and feed in values: [[1.0000,0.9989],[0.9971,0.9998]]\n",
      "\n",
      "  religious:\n",
      "    contacts: [[5.0312,9.4697],[1.0985,8.5168]]\n",
      "    contacts_err: [[1.5861,2.1760],[0.7411,2.0636]]\n",
      "    proportion_physical: [[0.1200]]\n",
      "    characteristic_time: 1.00\n",
      "\n",
      "    Ratio of contacts and feed in values: [[1.0062,1.0000],[0.9987,1.0020]]\n",
      "\n",
      "  shelter:\n",
      "    contacts: [[4.8551,1.9175],[1.9175,4.8551]]\n",
      "    contacts_err: [[3.2160,2.3338],[2.3338,3.2160]]\n",
      "    proportion_physical: [[0.8000,0.3000],[0.8000,0.3000]]\n",
      "    characteristic_time: 12.00\n",
      "\n",
      "    Ratio of contacts and feed in values: [[0.9710,0.9588],[0.9588,0.9710]]\n",
      "\n",
      "Results from all contacts all interactions...\n",
      "\n",
      "  communal:\n",
      "    contacts: [[0.1468,0.3532],[0.1387,0.3613]]\n",
      "    contacts_err: [[0.2709,0.4202],[0.2634,0.4250]]\n",
      "    proportion_physical: [[0.1200]]\n",
      "    characteristic_time: 1.00\n",
      "\n",
      "    Ratio of contacts and feed in values: [[0.0294,0.0435],[0.0907,0.0602]]\n",
      "\n",
      "  distribution_center:\n",
      "    contacts: [[0.1318,0.3682],[0.1311,0.3689]]\n",
      "    contacts_err: [[0.2567,0.4290],[0.2560,0.4295]]\n",
      "    proportion_physical: [[0.1200]]\n",
      "    characteristic_time: 1.00\n",
      "\n",
      "    Ratio of contacts and feed in values: [[0.0330,0.0270],[0.1659,0.0369]]\n",
      "\n",
      "  e_voucher:\n",
      "    contacts: [[0.1317,0.3683],[0.1345,0.3655]]\n",
      "    contacts_err: [[0.2566,0.4291],[0.2594,0.4275]]\n",
      "    proportion_physical: [[0.1200]]\n",
      "    characteristic_time: 1.00\n",
      "\n",
      "    Ratio of contacts and feed in values: [[0.0000,0.1841],[1.3454,0.0271]]\n",
      "\n",
      "  female_communal:\n",
      "    contacts: [[0.2624,0.2376],[0.2607,0.2393]]\n",
      "    contacts_err: [[0.3622,0.3447],[0.3611,0.3459]]\n",
      "    proportion_physical: [[0.1200]]\n",
      "    characteristic_time: 1.00\n",
      "\n",
      "    Ratio of contacts and feed in values: [[0.0525,0.0293],[0.1704,0.0399]]\n",
      "\n",
      "  hospital:\n",
      "    contacts: [[4.0000,0.0000,0.0000],[0.0000,0.0000,0.0000],[0.0000,0.0000,0.0000]]\n",
      "    contacts_err: [[4.0000,0.0000,0.0000],[0.0000,0.0000,0.0000],[0.0000,0.0000,0.0000]]\n",
      "    proportion_physical: [[0.0500,1.0000,1.0000],[1.0000,0.0000,0.0000],[1.0000,0.0000,0.0000]]\n",
      "    characteristic_time: 8.00\n",
      "\n",
      "    Ratio of contacts and feed in values: [[0.8000,0.0000,0.0000],[0.0000,0.0000,0.0000],[0.0000,0.0000,0.0000]]\n",
      "\n",
      "  informal_work:\n",
      "    contacts: [[4.0000]]\n",
      "    contacts_err: [[4.0000]]\n",
      "    proportion_physical: [[0.1200]]\n",
      "    characteristic_time: 8.00\n",
      "\n",
      "    Ratio of contacts and feed in values: [[0.8000]]\n",
      "\n",
      "  isolation_unit:\n",
      "    contacts: [[0.0000,0.0000],[0.0000,0.0000]]\n",
      "    contacts_err: [[0.0000,0.0000],[0.0000,0.0000]]\n",
      "    proportion_physical: [[0.0000,0.0000],[0.0000,0.0000]]\n",
      "    characteristic_time: 24.00\n",
      "\n",
      "    Ratio of contacts and feed in values: [[0.0000,0.0000],[0.0000,0.0000]]\n",
      "\n",
      "  learning_center:\n",
      "    contacts: [[0.5516,0.1984],[0.2480,0.5020]]\n",
      "    contacts_err: [[0.6432,0.3857],[0.4313,0.6136]]\n",
      "    proportion_physical: [[0.1200,0.1200],[0.1200,0.1200]]\n",
      "    characteristic_time: 1.50\n",
      "\n",
      "    Ratio of contacts and feed in values: [[0.0552,0.0310],[0.0559,0.1294]]\n",
      "\n",
      "  n_f_distribution_center:\n",
      "    contacts: [[0.1296,0.3704],[0.1306,0.3694]]\n",
      "    contacts_err: [[0.2546,0.4303],[0.2555,0.4298]]\n",
      "    proportion_physical: [[0.1200]]\n",
      "    characteristic_time: 1.00\n",
      "\n",
      "    Ratio of contacts and feed in values: [[0.0324,0.0272],[0.1653,0.0369]]\n",
      "\n",
      "  play_group:\n",
      "    contacts: [[0.3728,0.4171,0.2100],[0.3744,0.4140,0.2115],[0.3722,0.4176,0.2102]]\n",
      "    contacts_err: [[0.6106,0.6458,0.4583],[0.6119,0.6435,0.4599],[0.6101,0.6462,0.4585]]\n",
      "    proportion_physical: [[0.6000,0.0000,0.0000],[0.0000,0.3000,0.0000],[0.0000,0.0000,0.1500]]\n",
      "    characteristic_time: 2.00\n",
      "\n",
      "    Ratio of contacts and feed in values: [[0.0746,0.0000,0.0000],[0.0000,0.0828,0.0000],[0.0000,0.0000,0.0420]]\n",
      "\n",
      "  pump_latrine:\n",
      "    contacts: [[0.1548,0.1152],[0.1524,0.1176]]\n",
      "    contacts_err: [[0.2044,0.1764],[0.2028,0.1782]]\n",
      "    proportion_physical: [[0.0200]]\n",
      "    characteristic_time: 0.54\n",
      "\n",
      "    Ratio of contacts and feed in values: [[0.0476,0.0118],[0.0935,0.0272]]\n",
      "\n",
      "  religious:\n",
      "    contacts: [[0.1598,0.3402],[0.1511,0.3489]]\n",
      "    contacts_err: [[0.2826,0.4125],[0.2749,0.4177]]\n",
      "    proportion_physical: [[0.1200]]\n",
      "    characteristic_time: 1.00\n",
      "\n",
      "    Ratio of contacts and feed in values: [[0.0320,0.0359],[0.1374,0.0410]]\n",
      "\n",
      "  shelter:\n",
      "    contacts: [[1.3143,1.0879],[1.0879,1.3143]]\n",
      "    contacts_err: [[1.6733,1.7579],[1.7579,1.6733]]\n",
      "    proportion_physical: [[0.8000,0.3000],[0.8000,0.3000]]\n",
      "    characteristic_time: 12.00\n",
      "\n",
      "    Ratio of contacts and feed in values: [[0.2629,0.5440],[0.5440,0.2629]]\n",
      "\n"
     ]
    },
    {
     "data": {
      "text/plain": [
       "1"
      ]
     },
     "execution_count": 72,
     "metadata": {},
     "output_type": "execute_result"
    }
   ],
   "source": [
    "simulator.tracker.post_process_simulation(save=True)"
   ]
  },
  {
   "cell_type": "code",
   "execution_count": null,
   "metadata": {},
   "outputs": [],
   "source": []
  },
  {
   "cell_type": "code",
   "execution_count": null,
   "metadata": {},
   "outputs": [],
   "source": []
  }
 ],
 "metadata": {
  "kernelspec": {
   "display_name": "Python 3 (ipykernel)",
   "language": "python",
   "name": "python3"
  },
  "language_info": {
   "codemirror_mode": {
    "name": "ipython",
    "version": 3
   },
   "file_extension": ".py",
   "mimetype": "text/x-python",
   "name": "python",
   "nbconvert_exporter": "python",
   "pygments_lexer": "ipython3",
   "version": "3.8.10"
  }
 },
 "nbformat": 4,
 "nbformat_minor": 4
}
