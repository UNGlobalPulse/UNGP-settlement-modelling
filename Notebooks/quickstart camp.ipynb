{
 "cells": [
  {
   "cell_type": "code",
   "execution_count": 1,
   "metadata": {},
   "outputs": [],
   "source": [
    "import warnings\n",
    "warnings.filterwarnings('ignore')"
   ]
  },
  {
   "cell_type": "code",
   "execution_count": 2,
   "metadata": {},
   "outputs": [],
   "source": [
    "import numpy as np\n",
    "import pandas as pd\n",
    "import time\n",
    "import matplotlib.pyplot as plt\n",
    "from datetime import datetime\n",
    "import sys\n",
    "import argparse\n",
    "from pathlib import Path"
   ]
  },
  {
   "cell_type": "code",
   "execution_count": 3,
   "metadata": {},
   "outputs": [
    {
     "name": "stderr",
     "output_type": "stream",
     "text": [
      "No --data argument given - defaulting to:\n",
      "/home/joseph/Documents/PhD/UN_Work/UNGP-settlement-modelling-private/data\n",
      "No --configs argument given - defaulting to:\n",
      "/home/joseph/Documents/PhD/UN_Work/JUNE-private/june/configs\n"
     ]
    },
    {
     "name": "stdout",
     "output_type": "stream",
     "text": [
      "2022-07-27 16:14:15,184 - camps.paths - WARNING - No --camp_data argument given - defaulting to:\n",
      "/home/joseph/Documents/PhD/UN_Work/UNGP-settlement-modelling-private/camp_data\n",
      "2022-07-27 16:14:15,185 - camps.paths - WARNING - No --configs_camps argument given - defaulting to:\n",
      "/home/joseph/Documents/PhD/UN_Work/UNGP-settlement-modelling-private/configs_camps\n"
     ]
    }
   ],
   "source": [
    "from june.geography import Geography\n",
    "from june.demography.demography import (\n",
    "    load_age_and_sex_generators_for_bins,\n",
    "    Demography,\n",
    "    Population,\n",
    "    load_comorbidity_data,\n",
    "    generate_comorbidity,\n",
    ")\n",
    "from june.paths import data_path, configs_path\n",
    "from june.epidemiology.epidemiology import Epidemiology\n",
    "from june.epidemiology.infection import ImmunitySetter\n",
    "from june.epidemiology.infection import Infection, HealthIndexGenerator, InfectionSelector, InfectionSelectors\n",
    "from june.epidemiology.infection_seed import InfectionSeed, InfectionSeeds\n",
    "from june.interaction import Interaction\n",
    "from june.groups import Hospital, Hospitals, Cemeteries\n",
    "from june.distributors import HospitalDistributor\n",
    "from june.hdf5_savers import generate_world_from_hdf5\n",
    "from june.policy import Policy, Policies\n",
    "from june.records import Record\n",
    "from june.simulator import Simulator\n",
    "from june.records import Record, RecordReader\n",
    "\n",
    "from camps.activity import CampActivityManager\n",
    "from camps.paths import camp_data_path, camp_configs_path\n",
    "from camps.world import World\n",
    "from camps.groups.leisure import generate_leisure_for_world, generate_leisure_for_config\n",
    "from camps.camp_creation import (\n",
    "    generate_empty_world,\n",
    "    populate_world,\n",
    "    distribute_people_to_households,\n",
    ")  # this is loaded from the ../camp_scripts folder\n",
    "\n",
    "from june.tracker.tracker import Tracker"
   ]
  },
  {
   "cell_type": "code",
   "execution_count": 4,
   "metadata": {},
   "outputs": [],
   "source": [
    "from camps.groups import PumpLatrines, PumpLatrineDistributor\n",
    "from camps.groups import DistributionCenters, DistributionCenterDistributor\n",
    "from camps.groups import Communals, CommunalDistributor\n",
    "from camps.groups import FemaleCommunals, FemaleCommunalDistributor\n",
    "from camps.groups import Religiouss, ReligiousDistributor\n",
    "from camps.groups import Shelter, Shelters, ShelterDistributor\n",
    "from camps.groups import IsolationUnit, IsolationUnits\n",
    "from camps.groups import LearningCenters\n",
    "from camps.distributors import LearningCenterDistributor\n",
    "from camps.groups import PlayGroups, PlayGroupDistributor\n",
    "from camps.groups import EVouchers, EVoucherDistributor\n",
    "from camps.groups import NFDistributionCenters, NFDistributionCenterDistributor\n",
    "from camps.groups import SheltersVisitsDistributor\n",
    "from camps.groups import InformalWorks, InformalWorkDistributor"
   ]
  },
  {
   "cell_type": "code",
   "execution_count": 5,
   "metadata": {},
   "outputs": [],
   "source": [
    "Results_Path = Path(\"results\")\n",
    "\n",
    "Config_File_Path = camp_configs_path / \"config_demo.yaml\"\n",
    "Interactions_File_Path = camp_configs_path / \"defaults/interaction/interaction_Survey.yaml\"\n",
    "Policies_File_Path = camp_configs_path / \"defaults/policy/simple_policy.yaml\"\n",
    "Hospitals_File_Path = camp_data_path / \"input/hospitals/hospitals.csv\"\n",
    "comorbidity_multipliers_path = camp_configs_path / \"defaults/comorbidities.yaml\"\n",
    "male_comorbidity_reference_prevalence_path = camp_data_path / \"input/demography/uk_male_comorbidities.csv\"\n",
    "female_comorbidity_reference_prevalence_path = camp_data_path / \"input/demography/uk_female_comorbidities.csv\""
   ]
  },
  {
   "cell_type": "markdown",
   "metadata": {},
   "source": [
    "## Initialize the world"
   ]
  },
  {
   "cell_type": "markdown",
   "metadata": {},
   "source": [
    "When we create the camp to be simulated, we call this the 'world'. The world is initialised after specifying which geographical regions you want to simulate. We can do this by using the `filter_key` argument in the `generate_empty_world` function. Cox's Bazar Expansion Site is made up of camps (which we call regions), UNHCR blocks (which we call super areas) and Mahjee blocks (which we call areas). These are the 3 heirarchical levels on which our model works. You can pass lists of the regions/super_areas/areas to the function here. Alternatively, by leaving the function empty you can generate the entire Cox's Bazar Expansion Site consisting of 112 super areas."
   ]
  },
  {
   "cell_type": "code",
   "execution_count": 6,
   "metadata": {},
   "outputs": [
    {
     "name": "stdout",
     "output_type": "stream",
     "text": [
      "2022-07-27 16:14:15,851 - june.geography.geography - INFO - There are 65 areas and 4 super_areas and 1 regions in the world.\n"
     ]
    }
   ],
   "source": [
    "# create empty world's geography\n",
    "world = generate_empty_world(filter_key = {\"region\" : [\"CXB-219\"]})"
   ]
  },
  {
   "cell_type": "code",
   "execution_count": 7,
   "metadata": {},
   "outputs": [],
   "source": [
    "# populate empty world\n",
    "populate_world(world)"
   ]
  },
  {
   "cell_type": "code",
   "execution_count": 8,
   "metadata": {},
   "outputs": [
    {
     "name": "stdout",
     "output_type": "stream",
     "text": [
      "Distributing 468 people to CXB-219-001\n",
      "Distributing 369 people to CXB-219-002\n",
      "Distributing 330 people to CXB-219-003\n",
      "Distributing 386 people to CXB-219-004\n",
      "Distributing 313 people to CXB-219-005\n",
      "Distributing 331 people to CXB-219-006\n",
      "Distributing 259 people to CXB-219-007\n",
      "Distributing 350 people to CXB-219-009\n",
      "Distributing 275 people to CXB-219-010\n",
      "Distributing 249 people to CXB-219-011\n",
      "Distributing 464 people to CXB-219-012\n",
      "Distributing 418 people to CXB-219-013\n",
      "Distributing 460 people to CXB-219-014\n",
      "Distributing 383 people to CXB-219-017\n",
      "Distributing 417 people to CXB-219-020\n",
      "Distributing 426 people to CXB-219-021\n",
      "Distributing 414 people to CXB-219-022\n",
      "Distributing 384 people to CXB-219-024\n",
      "Distributing 377 people to CXB-219-025\n",
      "Distributing 379 people to CXB-219-026\n",
      "Distributing 413 people to CXB-219-027\n",
      "Distributing 392 people to CXB-219-028\n",
      "Distributing 331 people to CXB-219-029\n",
      "Distributing 459 people to CXB-219-030\n",
      "Distributing 393 people to CXB-219-032\n",
      "Distributing 340 people to CXB-219-033\n",
      "Distributing 373 people to CXB-219-034\n",
      "Distributing 259 people to CXB-219-036\n",
      "Distributing 455 people to CXB-219-037\n",
      "Distributing 459 people to CXB-219-038\n",
      "Distributing 488 people to CXB-219-039\n",
      "Distributing 175 people to CXB-219-040\n",
      "Distributing 330 people to CXB-219-041\n",
      "Distributing 399 people to CXB-219-042\n",
      "Distributing 398 people to CXB-219-043\n",
      "Distributing 368 people to CXB-219-044\n",
      "Distributing 430 people to CXB-219-045\n",
      "Distributing 449 people to CXB-219-046\n",
      "Distributing 244 people to CXB-219-047\n",
      "Distributing 311 people to CXB-219-048\n",
      "Distributing 335 people to CXB-219-049\n",
      "Distributing 206 people to CXB-219-050\n",
      "Distributing 343 people to CXB-219-051\n",
      "Distributing 347 people to CXB-219-052\n",
      "Distributing 533 people to CXB-219-053\n",
      "Distributing 381 people to CXB-219-054\n",
      "Distributing 253 people to CXB-219-055\n",
      "Distributing 274 people to CXB-219-056\n",
      "Distributing 247 people to CXB-219-057\n",
      "Distributing 376 people to CXB-219-058\n",
      "Distributing 341 people to CXB-219-059\n",
      "Distributing 330 people to CXB-219-060\n",
      "Distributing 413 people to CXB-219-061\n",
      "Distributing 259 people to CXB-219-062\n",
      "Distributing 287 people to CXB-219-063\n",
      "Distributing 194 people to CXB-219-064\n",
      "Distributing 212 people to CXB-219-065\n",
      "Distributing 330 people to CXB-219-066\n",
      "Distributing 315 people to CXB-219-067\n",
      "Distributing 385 people to CXB-219-068\n",
      "Distributing 552 people to CXB-219-069\n",
      "Distributing 321 people to CXB-219-070\n",
      "Distributing 215 people to CXB-219-071\n",
      "Distributing 311 people to CXB-234-001\n",
      "Distributing 275 people to CXB-234-002\n"
     ]
    }
   ],
   "source": [
    "# distribute people to households\n",
    "distribute_people_to_households(world)"
   ]
  },
  {
   "cell_type": "code",
   "execution_count": 9,
   "metadata": {},
   "outputs": [
    {
     "name": "stdout",
     "output_type": "stream",
     "text": [
      "2022-07-27 16:14:20,815 - learning_centers - INFO - There are 1243 learning center(s)\n"
     ]
    }
   ],
   "source": [
    "LearningCenters.Get_Interaction(Interactions_File_Path)\n",
    "world.learning_centers = LearningCenters.for_areas(world.areas)\n",
    "\n",
    "learningcenter_distributor = LearningCenterDistributor.from_file(world.learning_centers)\n",
    "\n",
    "learningcenter_distributor.distribute_teachers_to_learning_centers(world.areas)\n",
    "learningcenter_distributor.distribute_kids_to_learning_centers(world.areas)"
   ]
  },
  {
   "cell_type": "code",
   "execution_count": 10,
   "metadata": {},
   "outputs": [
    {
     "name": "stdout",
     "output_type": "stream",
     "text": [
      "2022-07-27 16:14:22,126 - hospitals - INFO - There are 8 hospitals in the world.\n",
      "2022-07-27 16:14:22,142 - isolation units - INFO - There are 8 isolation unit(s)\n"
     ]
    }
   ],
   "source": [
    "# distribute hospitals\n",
    "Hospitals.Get_Interaction(Interactions_File_Path)\n",
    "IsolationUnits.Get_Interaction(Interactions_File_Path)\n",
    "\n",
    "hospitals = Hospitals.from_file(\n",
    "    filename=Hospitals_File_Path\n",
    ")\n",
    "\n",
    "\n",
    "for hospital in hospitals:\n",
    "    hospital.area = world.areas.get_closest_area(hospital.coordinates)\n",
    "    \n",
    "world.hospitals = hospitals\n",
    "hospital_distributor = HospitalDistributor(\n",
    "    hospitals, medic_min_age=20, patients_per_medic=10\n",
    ")\n",
    "hospital_distributor.assign_closest_hospitals_to_super_areas(\n",
    "    world.super_areas\n",
    ")\n",
    "\n",
    "world.isolation_units = IsolationUnits([IsolationUnit(area=hospital.area) for hospital in world.hospitals])\n",
    "hospital_distributor.distribute_medics_from_world(world.people)"
   ]
  },
  {
   "cell_type": "code",
   "execution_count": 11,
   "metadata": {},
   "outputs": [
    {
     "name": "stdout",
     "output_type": "stream",
     "text": [
      "2022-07-27 16:14:22,220 - social_venue - INFO - Domain 0 has 82 pump_latrines(s)\n",
      "2022-07-27 16:14:22,371 - social_venue - INFO - Domain 0 has 538 play_groups(s)\n",
      "2022-07-27 16:14:22,434 - social_venue - INFO - Domain 0 has 21 distribution_centers(s)\n",
      "2022-07-27 16:14:22,576 - social_venue - INFO - Domain 0 has 115 communals(s)\n",
      "2022-07-27 16:14:22,831 - social_venue - INFO - Domain 0 has 67 female_communals(s)\n",
      "2022-07-27 16:14:24,278 - social_venue - INFO - Domain 0 has 2065 religiouss(s)\n",
      "2022-07-27 16:14:24,355 - social_venue - INFO - Domain 0 has 7 e_vouchers(s)\n",
      "2022-07-27 16:14:24,427 - social_venue - INFO - Domain 0 has 41 n_f_distribution_centers(s)\n",
      "2022-07-27 16:14:24,474 - social_venue - INFO - Domain 0 has 80 informal_works(s)\n"
     ]
    }
   ],
   "source": [
    "PumpLatrines.Get_Interaction(Interactions_File_Path)\n",
    "world.pump_latrines = PumpLatrines.for_areas(world.areas)\n",
    "\n",
    "PlayGroups.Get_Interaction(Interactions_File_Path)\n",
    "world.play_groups = PlayGroups.for_areas(world.areas)\n",
    "\n",
    "DistributionCenters.Get_Interaction(Interactions_File_Path)\n",
    "world.distribution_centers = DistributionCenters.for_areas(world.areas)\n",
    "\n",
    "Communals.Get_Interaction(Interactions_File_Path)\n",
    "world.communals = Communals.for_areas(world.areas)\n",
    "\n",
    "FemaleCommunals.Get_Interaction(Interactions_File_Path)\n",
    "world.female_communals = FemaleCommunals.for_areas(world.areas)\n",
    "\n",
    "Religiouss.Get_Interaction(Interactions_File_Path)\n",
    "world.religiouss = Religiouss.for_areas(world.areas)\n",
    "\n",
    "EVouchers.Get_Interaction(Interactions_File_Path)\n",
    "world.e_vouchers = EVouchers.for_areas(world.areas)\n",
    "\n",
    "NFDistributionCenters.Get_Interaction(Interactions_File_Path)\n",
    "world.n_f_distribution_centers = NFDistributionCenters.for_areas(world.areas)\n",
    "\n",
    "InformalWorks.Get_Interaction(Interactions_File_Path)\n",
    "world.informal_works = InformalWorks.for_areas(world.areas)"
   ]
  },
  {
   "cell_type": "code",
   "execution_count": 12,
   "metadata": {},
   "outputs": [
    {
     "name": "stdout",
     "output_type": "stream",
     "text": [
      "cemetery not defined in interaction yaml or defualt options\n"
     ]
    }
   ],
   "source": [
    "world.cemeteries = Cemeteries()"
   ]
  },
  {
   "cell_type": "markdown",
   "metadata": {},
   "source": [
    "## Geography exploration"
   ]
  },
  {
   "cell_type": "markdown",
   "metadata": {},
   "source": [
    "The geography is initialised first and can be explored."
   ]
  },
  {
   "cell_type": "markdown",
   "metadata": {},
   "source": [
    "### UNHCR camp blocks inside the World"
   ]
  },
  {
   "cell_type": "code",
   "execution_count": 13,
   "metadata": {},
   "outputs": [],
   "source": [
    "super_areas = []\n",
    "for super_area in world.super_areas:\n",
    "    super_areas.append(super_area.name)"
   ]
  },
  {
   "cell_type": "code",
   "execution_count": 14,
   "metadata": {},
   "outputs": [
    {
     "data": {
      "text/plain": [
       "['CXB-219-A', 'CXB-219-B', 'CXB-219-C', 'CXB-219-D']"
      ]
     },
     "execution_count": 14,
     "metadata": {},
     "output_type": "execute_result"
    }
   ],
   "source": [
    "super_areas[:5]"
   ]
  },
  {
   "cell_type": "markdown",
   "metadata": {},
   "source": [
    "### Mahjee blocks inside World"
   ]
  },
  {
   "cell_type": "code",
   "execution_count": 15,
   "metadata": {},
   "outputs": [],
   "source": [
    "areas = []\n",
    "for area in world.areas:\n",
    "    areas.append(area.name)"
   ]
  },
  {
   "cell_type": "code",
   "execution_count": 16,
   "metadata": {},
   "outputs": [
    {
     "data": {
      "text/plain": [
       "['CXB-219-001', 'CXB-219-002', 'CXB-219-003', 'CXB-219-004', 'CXB-219-005']"
      ]
     },
     "execution_count": 16,
     "metadata": {},
     "output_type": "execute_result"
    }
   ],
   "source": [
    "areas[:5]"
   ]
  },
  {
   "cell_type": "markdown",
   "metadata": {},
   "source": [
    "## Demography exploration"
   ]
  },
  {
   "cell_type": "markdown",
   "metadata": {},
   "source": [
    "Once we have populated the 'digital twin' we can explore some of the attributes of the people we have created in the simulation."
   ]
  },
  {
   "cell_type": "markdown",
   "metadata": {},
   "source": [
    "### UNHCR block residents"
   ]
  },
  {
   "cell_type": "code",
   "execution_count": 17,
   "metadata": {},
   "outputs": [],
   "source": [
    "sample_ages = []\n",
    "sample_sexes = []\n",
    "for person in world.super_areas.members[0].people:\n",
    "    sample_ages.append(person.age)\n",
    "    sample_sexes.append(person.sex)"
   ]
  },
  {
   "cell_type": "code",
   "execution_count": 18,
   "metadata": {},
   "outputs": [
    {
     "data": {
      "text/plain": [
       "(['f', 'm', 'f', 'm', 'm'], [41, 53, 29, 45, 65])"
      ]
     },
     "execution_count": 18,
     "metadata": {},
     "output_type": "execute_result"
    }
   ],
   "source": [
    "sample_sexes[:5], sample_ages[:5]"
   ]
  },
  {
   "cell_type": "code",
   "execution_count": 19,
   "metadata": {},
   "outputs": [
    {
     "data": {
      "image/png": "[encoded data removed]",
      "text/plain": [
       "<Figure size 432x288 with 1 Axes>"
      ]
     },
     "metadata": {
      "needs_background": "light"
     },
     "output_type": "display_data"
    }
   ],
   "source": [
    "ages, counts = np.unique(sample_ages, return_counts=True)\n",
    "plt.bar(ages, counts)\n",
    "plt.title('super area: {} age distribution'.format(world.super_areas.members[0].name))\n",
    "plt.show()"
   ]
  },
  {
   "cell_type": "code",
   "execution_count": 20,
   "metadata": {},
   "outputs": [
    {
     "name": "stdout",
     "output_type": "stream",
     "text": [
      "The % children between ages 0-16 is 48%\n"
     ]
    }
   ],
   "source": [
    "print ('The % children between ages 0-16 is {}%'.format(round(np.sum(counts[:16])/(np.sum(counts[:16])+np.sum(counts[16:]))*100)))"
   ]
  },
  {
   "cell_type": "markdown",
   "metadata": {},
   "source": [
    "## Households"
   ]
  },
  {
   "cell_type": "markdown",
   "metadata": {},
   "source": [
    "In this model, we will use the term 'family' and 'household' interchangeably. After populating the 'digital twin', we need to cluster people into families. To do this, we take account of age structure so that children live with adults, that there are some intergenerational households and such that we might also have some households of only adults."
   ]
  },
  {
   "cell_type": "markdown",
   "metadata": {},
   "source": [
    "### Household size distribution"
   ]
  },
  {
   "cell_type": "code",
   "execution_count": 21,
   "metadata": {},
   "outputs": [
    {
     "data": {
      "image/png": "[encoded data removed]",
      "text/plain": [
       "<Figure size 432x288 with 1 Axes>"
      ]
     },
     "metadata": {
      "needs_background": "light"
     },
     "output_type": "display_data"
    }
   ],
   "source": [
    "household_sizes = [household.size for household in world.households]\n",
    "plt.hist(household_sizes, density=True, bins=np.arange(0,12))\n",
    "plt.xlabel(\"Household size\")\n",
    "plt.ylabel(\"Frequency\")\n",
    "plt.axvline(np.mean(household_sizes), color=\"cyan\")\n",
    "plt.text(8, 0.150, f\"Avg. size: {(np.mean(household_sizes)):.2f}\")\n",
    "plt.show()"
   ]
  },
  {
   "cell_type": "markdown",
   "metadata": {},
   "source": [
    "# Shelters"
   ]
  },
  {
   "cell_type": "markdown",
   "metadata": {},
   "source": [
    "Shelters house people in the camp. Since we know that families (houseohlds) often share shelters with other families, we can set the `sharing_shelter_ratio` to cluster families into shared shelters."
   ]
  },
  {
   "cell_type": "code",
   "execution_count": 22,
   "metadata": {},
   "outputs": [],
   "source": [
    "Shelters.Get_Interaction(Interactions_File_Path)\n",
    "world.shelters = Shelters.for_areas(world.areas)\n",
    "shelter_distributor = ShelterDistributor(sharing_shelter_ratio = 0.75) # proportion of families that share a shelter\n",
    "for area in world.areas:\n",
    "    shelter_distributor.distribute_people_in_shelters(area.shelters, area.households)"
   ]
  },
  {
   "cell_type": "code",
   "execution_count": 23,
   "metadata": {},
   "outputs": [
    {
     "data": {
      "image/png": "[encoded data removed]",
      "text/plain": [
       "<Figure size 576x216 with 2 Axes>"
      ]
     },
     "metadata": {
      "needs_background": "light"
     },
     "output_type": "display_data"
    }
   ],
   "source": [
    "fig, ax = plt.subplots(1, 2, figsize=(8,3))\n",
    "shelter_sizes = [shelter.size for shelter in world.shelters]\n",
    "shelter_families = [shelter.n_families for shelter in world.shelters]\n",
    "ax[0].hist(shelter_sizes)\n",
    "ax[0].set_title(\"Shelter size\")\n",
    "shelter_families = {1 : len([shelter for shelter in world.shelters if shelter.n_families == 1]),\n",
    "                    2 : len([shelter for shelter in world.shelters if shelter.n_families == 2])}\n",
    "ax[1].bar(shelter_families.keys(), shelter_families.values())\n",
    "ax[1].set_title(\"# families per shelter\")\n",
    "plt.show()"
   ]
  },
  {
   "cell_type": "markdown",
   "metadata": {},
   "source": [
    "## Activity exploration"
   ]
  },
  {
   "cell_type": "markdown",
   "metadata": {},
   "source": [
    "Once different activity locations are seeded in the 'digital twin' we can explore how many there are in different areas of the twin, and their coordinates to check they've all been added correctly."
   ]
  },
  {
   "cell_type": "markdown",
   "metadata": {},
   "source": [
    "### Pumps and latrines "
   ]
  },
  {
   "cell_type": "code",
   "execution_count": 24,
   "metadata": {},
   "outputs": [],
   "source": [
    "pumps_and_latrines = []\n",
    "for pump_latrine in world.areas.members[0].pump_latrines:\n",
    "    pumps_and_latrines.append(pump_latrine)"
   ]
  },
  {
   "cell_type": "code",
   "execution_count": 25,
   "metadata": {},
   "outputs": [
    {
     "name": "stdout",
     "output_type": "stream",
     "text": [
      "There are 2 pumps and latrines in area CXB-219-001\n"
     ]
    }
   ],
   "source": [
    "print ('There are {} pumps and latrines in area {}'.format(len(pumps_and_latrines), world.areas.members[0].name))"
   ]
  },
  {
   "cell_type": "markdown",
   "metadata": {},
   "source": [
    "### Informal work"
   ]
  },
  {
   "cell_type": "code",
   "execution_count": 26,
   "metadata": {},
   "outputs": [],
   "source": [
    "Informal_work_Sites = []\n",
    "for informal_work in world.areas.members[0].informal_works:\n",
    "    Informal_work_Sites.append(informal_work)"
   ]
  },
  {
   "cell_type": "code",
   "execution_count": 27,
   "metadata": {},
   "outputs": [
    {
     "name": "stdout",
     "output_type": "stream",
     "text": [
      "There are 2 informal work sites in area CXB-219-001\n"
     ]
    }
   ],
   "source": [
    "print ('There are {} informal work sites in area {}'.format(len(Informal_work_Sites), world.areas.members[0].name))"
   ]
  },
  {
   "cell_type": "markdown",
   "metadata": {},
   "source": [
    "### Distribution centers"
   ]
  },
  {
   "cell_type": "code",
   "execution_count": 28,
   "metadata": {},
   "outputs": [],
   "source": [
    "distribution_centers = []\n",
    "for center in world.distribution_centers:\n",
    "    distribution_centers.append(center)"
   ]
  },
  {
   "cell_type": "code",
   "execution_count": 29,
   "metadata": {},
   "outputs": [
    {
     "data": {
      "text/plain": [
       "array([21.2136    , 92.15678833])"
      ]
     },
     "execution_count": 29,
     "metadata": {},
     "output_type": "execute_result"
    }
   ],
   "source": [
    "distribution_centers[0].coordinates"
   ]
  },
  {
   "cell_type": "markdown",
   "metadata": {},
   "source": [
    "### Non-food Distribution centers"
   ]
  },
  {
   "cell_type": "code",
   "execution_count": 30,
   "metadata": {},
   "outputs": [],
   "source": [
    "non_food_distribution_centers = []\n",
    "for center in world.n_f_distribution_centers:\n",
    "    non_food_distribution_centers.append(center)"
   ]
  },
  {
   "cell_type": "code",
   "execution_count": 31,
   "metadata": {},
   "outputs": [
    {
     "data": {
      "text/plain": [
       "array([21.21268167, 92.1438    ])"
      ]
     },
     "execution_count": 31,
     "metadata": {},
     "output_type": "execute_result"
    }
   ],
   "source": [
    "non_food_distribution_centers[0].coordinates"
   ]
  },
  {
   "cell_type": "markdown",
   "metadata": {},
   "source": [
    "### E-Voucher outlets"
   ]
  },
  {
   "cell_type": "code",
   "execution_count": 32,
   "metadata": {},
   "outputs": [],
   "source": [
    "e_voucher_outlets = []\n",
    "for center in world.e_vouchers:\n",
    "    e_voucher_outlets.append(center)"
   ]
  },
  {
   "cell_type": "code",
   "execution_count": 33,
   "metadata": {},
   "outputs": [
    {
     "data": {
      "text/plain": [
       "array([21.212945, 92.142915])"
      ]
     },
     "execution_count": 33,
     "metadata": {},
     "output_type": "execute_result"
    }
   ],
   "source": [
    "e_voucher_outlets[0].coordinates"
   ]
  },
  {
   "cell_type": "markdown",
   "metadata": {},
   "source": [
    "### Communal spaces"
   ]
  },
  {
   "cell_type": "code",
   "execution_count": 34,
   "metadata": {},
   "outputs": [],
   "source": [
    "communal_spaces = []\n",
    "for space in world.communals:\n",
    "    communal_spaces.append(space)"
   ]
  },
  {
   "cell_type": "code",
   "execution_count": 35,
   "metadata": {},
   "outputs": [
    {
     "data": {
      "text/plain": [
       "array([21.19508, 92.16525])"
      ]
     },
     "execution_count": 35,
     "metadata": {},
     "output_type": "execute_result"
    }
   ],
   "source": [
    "communal_spaces[0].coordinates"
   ]
  },
  {
   "cell_type": "markdown",
   "metadata": {},
   "source": [
    "### Female friendly communal spaces"
   ]
  },
  {
   "cell_type": "code",
   "execution_count": 36,
   "metadata": {},
   "outputs": [],
   "source": [
    "female_communal_spaces = []\n",
    "for space in world.female_communals:\n",
    "    female_communal_spaces.append(space)"
   ]
  },
  {
   "cell_type": "code",
   "execution_count": 37,
   "metadata": {},
   "outputs": [
    {
     "data": {
      "text/plain": [
       "array([21.20686305, 92.16070923])"
      ]
     },
     "execution_count": 37,
     "metadata": {},
     "output_type": "execute_result"
    }
   ],
   "source": [
    "female_communal_spaces[0].coordinates"
   ]
  },
  {
   "cell_type": "markdown",
   "metadata": {},
   "source": [
    "### Religious sites"
   ]
  },
  {
   "cell_type": "code",
   "execution_count": 38,
   "metadata": {},
   "outputs": [],
   "source": [
    "religious = []\n",
    "for rel in world.religiouss:\n",
    "    religious.append(rel)"
   ]
  },
  {
   "cell_type": "code",
   "execution_count": 39,
   "metadata": {},
   "outputs": [
    {
     "data": {
      "text/plain": [
       "array([21.21804605, 92.1546829 ])"
      ]
     },
     "execution_count": 39,
     "metadata": {},
     "output_type": "execute_result"
    }
   ],
   "source": [
    "religious[0].coordinates"
   ]
  },
  {
   "cell_type": "markdown",
   "metadata": {},
   "source": [
    "# Adding the infection"
   ]
  },
  {
   "cell_type": "markdown",
   "metadata": {},
   "source": [
    "The selector handles how infections are handled in the code. You can set different 'symptom trajectories' (e.g. exposed->mild->severe->hospitalised->intensive care) from different files. Here, we use the default."
   ]
  },
  {
   "cell_type": "code",
   "execution_count": 40,
   "metadata": {},
   "outputs": [],
   "source": [
    "selector = InfectionSelector.from_file()"
   ]
  },
  {
   "cell_type": "code",
   "execution_count": 41,
   "metadata": {},
   "outputs": [],
   "source": [
    "selectors = InfectionSelectors([selector])"
   ]
  },
  {
   "cell_type": "markdown",
   "metadata": {},
   "source": [
    "# Adding the interaction"
   ]
  },
  {
   "cell_type": "markdown",
   "metadata": {},
   "source": [
    "The interaction class handles how many contacts people have in different locations and with who. If contact matrices are available, these can be coded in a `.yaml` file and fed into the class here."
   ]
  },
  {
   "cell_type": "code",
   "execution_count": 42,
   "metadata": {},
   "outputs": [],
   "source": [
    "interaction = Interaction.from_file(\n",
    "    config_filename=Interactions_File_Path,\n",
    ")"
   ]
  },
  {
   "cell_type": "markdown",
   "metadata": {},
   "source": [
    "# Set policies"
   ]
  },
  {
   "cell_type": "markdown",
   "metadata": {},
   "source": [
    "Policies control how 'operational interventions' are set in the camp. Here we set some social distancing policies, policies relating to medical care, such as people with severe symptoms being hospitalised, and individual and activity policies which can dynamically change how often and where people go, e.g. here, we close all female communal spaces and non-food distirbution centers which the camp did back in March"
   ]
  },
  {
   "cell_type": "code",
   "execution_count": 43,
   "metadata": {},
   "outputs": [],
   "source": [
    "policies = Policies.from_file(\n",
    "        Policies_File_Path,\n",
    "        base_policy_modules=(\"june.policy\", \"camps.policy\"),\n",
    "    )"
   ]
  },
  {
   "cell_type": "code",
   "execution_count": 44,
   "metadata": {},
   "outputs": [
    {
     "data": {
      "text/plain": [
       "[<june.policy.interaction_policies.SocialDistancing at 0x7fc4a2825d60>,\n",
       " <june.policy.medical_care_policies.Hospitalisation at 0x7fc4a3224b50>,\n",
       " <june.policy.individual_policies.SevereSymptomsStayHome at 0x7fc4a3224c70>,\n",
       " <june.policy.individual_policies.Quarantine at 0x7fc4a28e4d00>]"
      ]
     },
     "execution_count": 44,
     "metadata": {},
     "output_type": "execute_result"
    }
   ],
   "source": [
    "policies.policies"
   ]
  },
  {
   "cell_type": "markdown",
   "metadata": {},
   "source": [
    "# Seed the disease"
   ]
  },
  {
   "cell_type": "markdown",
   "metadata": {},
   "source": [
    "Set intial seeding conditions. This can be done at the camp level specifically, or generally by seeding them randomly. Here the `n_cases` is the number of randomly seeded people over the entire population."
   ]
  },
  {
   "cell_type": "code",
   "execution_count": 45,
   "metadata": {},
   "outputs": [],
   "source": [
    "infection_seed = InfectionSeed.from_uniform_cases(\n",
    "    world=world, infection_selector=selector, cases_per_capita=0.01, date=\"2020-05-24 9:00\", seed_past_infections=False,\n",
    ")"
   ]
  },
  {
   "cell_type": "code",
   "execution_count": 46,
   "metadata": {},
   "outputs": [],
   "source": [
    "infection_seeds = InfectionSeeds([infection_seed])"
   ]
  },
  {
   "cell_type": "code",
   "execution_count": 47,
   "metadata": {},
   "outputs": [],
   "source": [
    "immunity_setter = ImmunitySetter.from_file_with_comorbidities(\n",
    "    comorbidity_multipliers_path= comorbidity_multipliers_path,\n",
    "    male_comorbidity_reference_prevalence_path= male_comorbidity_reference_prevalence_path,\n",
    "    female_comorbidity_reference_prevalence_path = female_comorbidity_reference_prevalence_path,   \n",
    ")"
   ]
  },
  {
   "cell_type": "code",
   "execution_count": 48,
   "metadata": {},
   "outputs": [],
   "source": [
    "epidemiology = Epidemiology(\n",
    "    infection_selectors=selectors,\n",
    "    infection_seeds=infection_seeds,\n",
    "    immunity_setter=immunity_setter,\n",
    ")"
   ]
  },
  {
   "cell_type": "markdown",
   "metadata": {},
   "source": [
    "## Select config file"
   ]
  },
  {
   "cell_type": "markdown",
   "metadata": {},
   "source": [
    "Before running the simualtion we must select the config file which defines how the world is set up and the simualtor will work. Specifically, the condif file specifies which activities will be included, how long we'll run the simualtion for, what the initial starting day will be and what the structure of weekdays and weekends will look like (if different)"
   ]
  },
  {
   "cell_type": "code",
   "execution_count": 49,
   "metadata": {},
   "outputs": [],
   "source": [
    "CONFIG_PATH = Config_File_Path"
   ]
  },
  {
   "cell_type": "markdown",
   "metadata": {},
   "source": [
    "# Initialise activities"
   ]
  },
  {
   "cell_type": "markdown",
   "metadata": {},
   "source": [
    "The final step to intialising the simulator class which brings all of this together is to inialise all the activity distirbutors (the term 'leisure' is a legacy of the original version of this code used for modelling COVID-19 in the UK). This will mean that people know where they can go at and given time."
   ]
  },
  {
   "cell_type": "code",
   "execution_count": 50,
   "metadata": {},
   "outputs": [
    {
     "name": "stdout",
     "output_type": "stream",
     "text": [
      "2022-07-27 16:14:27,190 - leisure - INFO - Linking households and care homes for visits\n",
      "2022-07-27 16:14:27,191 - leisure - INFO - Done\n",
      "2022-07-27 16:14:27,192 - leisure - INFO - Distributing social venues to areas\n",
      "2022-07-27 16:14:27,193 - leisure - INFO - Distributed in 0 of 65 areas.\n",
      "2022-07-27 16:14:27,301 - leisure - INFO - Distributed in 65 of 65 areas.\n"
     ]
    }
   ],
   "source": [
    "leisure = generate_leisure_for_config(world=world, config_filename=CONFIG_PATH)\n",
    "# associate social activities to shelters\n",
    "leisure.distribute_social_venues_to_areas(world.areas, world.super_areas)"
   ]
  },
  {
   "cell_type": "markdown",
   "metadata": {},
   "source": [
    "# Define a contact Tracker"
   ]
  },
  {
   "cell_type": "markdown",
   "metadata": {},
   "source": [
    "We define a list of venues in which to track. This is fed into JUNE's tracker class. We can specify tracking contacts by sex, the type of possible contacts \"1D\" (simulated contacts based on the input interaction matrices) or \"All\" (everyone at each venue contacts each other). Lastly we can find a subset of venues upto N but defining MaxVenueTrackingSize=N."
   ]
  },
  {
   "cell_type": "code",
   "execution_count": 51,
   "metadata": {},
   "outputs": [],
   "source": [
    "group_types=[\n",
    "        world.hospitals,\n",
    "        world.distribution_centers,\n",
    "        world.communals,\n",
    "        world.female_communals,\n",
    "        world.pump_latrines,\n",
    "        world.religiouss,\n",
    "        world.play_groups,\n",
    "        world.e_vouchers,\n",
    "        world.n_f_distribution_centers,\n",
    "        world.shelters,\n",
    "        world.learning_centers,\n",
    "        world.informal_works,\n",
    "        world.isolation_units,\n",
    "    ]\n",
    "\n",
    "tracker = Tracker(\n",
    "    world=world,\n",
    "    record_path=Results_Path,\n",
    "    group_types=group_types,\n",
    "    load_interactions_path=Interactions_File_Path,\n",
    "    contact_sexes=[\"unisex\", \"male\", \"female\"],\n",
    "    Tracker_Contact_Type=[\"1D\", \"All\"],\n",
    "    MaxVenueTrackingSize = 500\n",
    ")"
   ]
  },
  {
   "cell_type": "markdown",
   "metadata": {},
   "source": [
    "# Initialise simulator and run"
   ]
  },
  {
   "cell_type": "markdown",
   "metadata": {},
   "source": [
    "The recorder is defined which will log all interactions and infections in the simualation for later analysis. The `record_path` can be changed to any path where you want the recorded data to be stored."
   ]
  },
  {
   "cell_type": "code",
   "execution_count": 52,
   "metadata": {},
   "outputs": [],
   "source": [
    "record = Record(\n",
    "    record_path=Results_Path, \n",
    "    record_static_data=True\n",
    ")\n"
   ]
  },
  {
   "cell_type": "markdown",
   "metadata": {},
   "source": [
    "The simulator is defined with all the different necessary components we have built up so far"
   ]
  },
  {
   "cell_type": "code",
   "execution_count": 53,
   "metadata": {},
   "outputs": [],
   "source": [
    "Simulator.ActivityManager = CampActivityManager\n",
    "simulator = Simulator.from_file(\n",
    "    world=world,\n",
    "    interaction=interaction,\n",
    "    tracker=tracker,\n",
    "    leisure=leisure,\n",
    "    policies=policies,\n",
    "    config_filename=CONFIG_PATH,\n",
    "    epidemiology=epidemiology,\n",
    "    record=record,\n",
    ")"
   ]
  },
  {
   "cell_type": "markdown",
   "metadata": {},
   "source": [
    "Finally we can run a small simualation"
   ]
  },
  {
   "cell_type": "code",
   "execution_count": 54,
   "metadata": {
    "scrolled": true
   },
   "outputs": [
    {
     "name": "stdout",
     "output_type": "stream",
     "text": [
      "2022-07-27 16:14:28,182 - simulator - INFO - Starting simulation for 7 days at day 2020-05-24 09:00:00,to run for 7 days\n",
      "2022-07-27 16:14:28,255 - seed - INFO - Seeding Covid19 infections at date 2020-05-24\n",
      "2022-07-27 16:14:28,814 - rank - INFO - Next timestep\n",
      "2022-07-27 16:14:28,815 - simulator - INFO - ==================== timestep ====================\n",
      "2022-07-27 16:14:29,017 - rank - INFO - Rank 0 -- move_people -- 0.20122342099784873\n",
      "2022-07-27 16:14:29,018 - rank - INFO - Rank 0 -- move_people_waiting -- 5.5670097935944796e-06\n",
      "2022-07-27 16:14:29,019 - activity_manager - INFO - CMS: People COMS for rank 0/1 - 5.270994734019041e-06,4.76837158203125e-06 - 2020-05-24 09:00:00\n",
      "2022-07-27 16:14:29,025 - simulator - INFO - Info for rank 0, Date = 2020-05-24 09:00:00, number of deaths =  0, number of infected = 232\n",
      "2022-07-27 16:14:29,096 - rank - INFO - Rank 0 -- interaction -- 0.0759283619991038\n",
      "2022-07-27 16:14:29,103 - tracker - INFO - Rank 0 -- tracking contacts -- 500 of 3270 of type shelter\n",
      "2022-07-27 16:14:29,827 - rank - INFO - Rank 0 -- tracker -- 0.7294798670045566\n",
      "2022-07-27 16:14:29,828 - epidemiology - INFO - CMS: Infection COMS-v2 for rank 0/1(2)0.0003092479892075062,0.00030922889709472656 - 2020-05-24 09:00:00\n",
      "2022-07-27 16:14:30,111 - rank - INFO - Rank 0 -- interaction_waiting -- 6.639980711042881e-06\n",
      "2022-07-27 16:14:30,126 - simulator - INFO - CMS: Timestep for rank 0/1 - 1.310346109996317,1.310347557067871 - 2020-05-24 09:00:00\n",
      "\n",
      "2022-07-27 16:14:30,127 - rank - INFO - Next timestep\n",
      "2022-07-27 16:14:30,127 - simulator - INFO - ==================== timestep ====================\n",
      "2022-07-27 16:14:31,602 - rank - INFO - Rank 0 -- move_people -- 1.473736496991478\n",
      "2022-07-27 16:14:31,603 - rank - INFO - Rank 0 -- move_people_waiting -- 8.364004315808415e-06\n",
      "2022-07-27 16:14:31,603 - activity_manager - INFO - CMS: People COMS for rank 0/1 - 3.850000211969018e-06,3.337860107421875e-06 - 2020-05-24 11:00:00\n",
      "2022-07-27 16:14:31,611 - simulator - INFO - Info for rank 0, Date = 2020-05-24 11:00:00, number of deaths =  0, number of infected = 232\n",
      "2022-07-27 16:14:31,756 - rank - INFO - Rank 0 -- interaction -- 0.15158996402169578\n",
      "2022-07-27 16:14:31,763 - tracker - INFO - Rank 0 -- tracking contacts -- 500 of 3270 of type shelter\n",
      "2022-07-27 16:14:32,010 - rank - INFO - Rank 0 -- tracker -- 0.25330445598228835\n",
      "2022-07-27 16:14:32,016 - epidemiology - INFO - CMS: Infection COMS-v2 for rank 0/1(2)0.0003382459981366992,0.0003376007080078125 - 2020-05-24 11:00:00\n",
      "2022-07-27 16:14:32,053 - rank - INFO - Rank 0 -- interaction_waiting -- 6.7039800342172384e-06\n",
      "2022-07-27 16:14:32,068 - simulator - INFO - CMS: Timestep for rank 0/1 - 1.939604799990775,1.939605712890625 - 2020-05-24 11:00:00\n",
      "\n",
      "2022-07-27 16:14:32,069 - rank - INFO - Next timestep\n",
      "2022-07-27 16:14:32,070 - simulator - INFO - ==================== timestep ====================\n",
      "2022-07-27 16:14:33,006 - rank - INFO - Rank 0 -- move_people -- 0.9354114710004069\n",
      "2022-07-27 16:14:33,007 - rank - INFO - Rank 0 -- move_people_waiting -- 6.592017598450184e-06\n",
      "2022-07-27 16:14:33,008 - activity_manager - INFO - CMS: People COMS for rank 0/1 - 4.608999006450176e-06,4.291534423828125e-06 - 2020-05-24 13:00:00\n",
      "2022-07-27 16:14:33,015 - simulator - INFO - Info for rank 0, Date = 2020-05-24 13:00:00, number of deaths =  0, number of infected = 238\n",
      "2022-07-27 16:14:33,181 - rank - INFO - Rank 0 -- interaction -- 0.1717860880016815\n",
      "2022-07-27 16:14:33,189 - tracker - INFO - Rank 0 -- tracking contacts -- 500 of 3270 of type shelter\n",
      "2022-07-27 16:14:33,466 - rank - INFO - Rank 0 -- tracker -- 0.28370642598019913\n",
      "2022-07-27 16:14:33,471 - epidemiology - INFO - CMS: Infection COMS-v2 for rank 0/1(2)0.00032467200071550906,0.000324249267578125 - 2020-05-24 13:00:00\n",
      "2022-07-27 16:14:33,522 - rank - INFO - Rank 0 -- interaction_waiting -- 1.0074989404529333e-05\n",
      "2022-07-27 16:14:33,539 - simulator - INFO - CMS: Timestep for rank 0/1 - 1.4682852379919495,1.4682862758636475 - 2020-05-24 13:00:00\n",
      "\n",
      "2022-07-27 16:14:33,540 - rank - INFO - Next timestep\n",
      "2022-07-27 16:14:33,541 - simulator - INFO - ==================== timestep ====================\n",
      "2022-07-27 16:14:34,681 - rank - INFO - Rank 0 -- move_people -- 1.1393459980026819\n",
      "2022-07-27 16:14:34,683 - rank - INFO - Rank 0 -- move_people_waiting -- 1.067397533915937e-05\n",
      "2022-07-27 16:14:34,683 - activity_manager - INFO - CMS: People COMS for rank 0/1 - 5.749985575675964e-06,5.4836273193359375e-06 - 2020-05-24 15:00:00\n",
      "2022-07-27 16:14:34,692 - simulator - INFO - Info for rank 0, Date = 2020-05-24 15:00:00, number of deaths =  0, number of infected = 243\n",
      "2022-07-27 16:14:34,890 - rank - INFO - Rank 0 -- interaction -- 0.20485648000612855\n",
      "2022-07-27 16:14:34,899 - tracker - INFO - Rank 0 -- tracking contacts -- 500 of 3270 of type shelter\n",
      "2022-07-27 16:14:35,235 - rank - INFO - Rank 0 -- tracker -- 0.3447344960004557\n",
      "2022-07-27 16:14:35,240 - epidemiology - INFO - CMS: Infection COMS-v2 for rank 0/1(2)0.00031377599225379527,0.00031304359436035156 - 2020-05-24 15:00:00\n",
      "2022-07-27 16:14:35,278 - rank - INFO - Rank 0 -- interaction_waiting -- 6.773014320060611e-06\n",
      "2022-07-27 16:14:35,291 - simulator - INFO - CMS: Timestep for rank 0/1 - 1.7493005089927465,1.7493009567260742 - 2020-05-24 15:00:00\n",
      "\n",
      "2022-07-27 16:14:35,293 - rank - INFO - Next timestep\n",
      "2022-07-27 16:14:35,293 - simulator - INFO - ==================== timestep ====================\n",
      "2022-07-27 16:14:36,325 - rank - INFO - Rank 0 -- move_people -- 1.030708175007021\n",
      "2022-07-27 16:14:36,326 - rank - INFO - Rank 0 -- move_people_waiting -- 1.1146010365337133e-05\n",
      "2022-07-27 16:14:36,327 - activity_manager - INFO - CMS: People COMS for rank 0/1 - 5.1340030040591955e-06,4.5299530029296875e-06 - 2020-05-24 17:00:00\n",
      "2022-07-27 16:14:36,333 - simulator - INFO - Info for rank 0, Date = 2020-05-24 17:00:00, number of deaths =  0, number of infected = 247\n",
      "2022-07-27 16:14:36,563 - rank - INFO - Rank 0 -- interaction -- 0.2353185459796805\n",
      "2022-07-27 16:14:36,571 - tracker - INFO - Rank 0 -- tracking contacts -- 500 of 3270 of type shelter\n",
      "2022-07-27 16:14:36,923 - rank - INFO - Rank 0 -- tracker -- 0.3588126079994254\n",
      "2022-07-27 16:14:36,925 - epidemiology - INFO - CMS: Infection COMS-v2 for rank 0/1(2)0.0007007569947745651,0.0007007122039794922 - 2020-05-24 17:00:00\n",
      "2022-07-27 16:14:36,963 - rank - INFO - Rank 0 -- interaction_waiting -- 8.215982234105468e-06\n",
      "2022-07-27 16:14:36,977 - simulator - INFO - CMS: Timestep for rank 0/1 - 1.682528300996637,1.6825296878814697 - 2020-05-24 17:00:00\n",
      "\n",
      "2022-07-27 16:14:36,978 - rank - INFO - Next timestep\n",
      "2022-07-27 16:14:36,979 - simulator - INFO - ==================== timestep ====================\n",
      "2022-07-27 16:14:37,176 - rank - INFO - Rank 0 -- move_people -- 0.19689695400302298\n",
      "2022-07-27 16:14:37,177 - rank - INFO - Rank 0 -- move_people_waiting -- 7.276976248249412e-06\n",
      "2022-07-27 16:14:37,178 - activity_manager - INFO - CMS: People COMS for rank 0/1 - 7.171998731791973e-06,6.67572021484375e-06 - 2020-05-24 19:00:00\n",
      "2022-07-27 16:14:37,184 - simulator - INFO - Info for rank 0, Date = 2020-05-24 19:00:00, number of deaths =  0, number of infected = 248\n",
      "2022-07-27 16:14:37,279 - rank - INFO - Rank 0 -- interaction -- 0.10004521900555119\n",
      "2022-07-27 16:14:37,287 - tracker - INFO - Rank 0 -- tracking contacts -- 500 of 3270 of type shelter\n",
      "2022-07-27 16:14:38,470 - rank - INFO - Rank 0 -- tracker -- 1.189867940993281\n",
      "2022-07-27 16:14:38,482 - epidemiology - INFO - CMS: Infection COMS-v2 for rank 0/1(2)0.0004074389871675521,0.0004067420959472656 - 2020-05-24 19:00:00\n",
      "2022-07-27 16:14:38,528 - rank - INFO - Rank 0 -- interaction_waiting -- 9.801005944609642e-06\n",
      "2022-07-27 16:14:38,544 - simulator - INFO - CMS: Timestep for rank 0/1 - 1.564819749997696,1.5648212432861328 - 2020-05-24 19:00:00\n",
      "\n",
      "2022-07-27 16:14:38,548 - rank - INFO - Next timestep\n",
      "2022-07-27 16:14:38,549 - simulator - INFO - ==================== timestep ====================\n",
      "2022-07-27 16:14:38,794 - rank - INFO - Rank 0 -- move_people -- 0.24399906198959798\n",
      "2022-07-27 16:14:38,795 - rank - INFO - Rank 0 -- move_people_waiting -- 8.775008609518409e-06\n",
      "2022-07-27 16:14:38,797 - activity_manager - INFO - CMS: People COMS for rank 0/1 - 5.725974915549159e-06,5.0067901611328125e-06 - 2020-05-25 09:00:00\n"
     ]
    },
    {
     "name": "stdout",
     "output_type": "stream",
     "text": [
      "2022-07-27 16:14:38,806 - simulator - INFO - Info for rank 0, Date = 2020-05-25 09:00:00, number of deaths =  0, number of infected = 269\n",
      "2022-07-27 16:14:38,951 - rank - INFO - Rank 0 -- interaction -- 0.15232916999957524\n",
      "2022-07-27 16:14:39,588 - tracker - INFO - Rank 0 -- tracking contacts -- 500 of 3270 of type shelter\n",
      "2022-07-27 16:14:40,883 - rank - INFO - Rank 0 -- tracker -- 1.9313318660133518\n",
      "2022-07-27 16:14:40,890 - epidemiology - INFO - CMS: Infection COMS-v2 for rank 0/1(2)0.00035217299591749907,0.0003514289855957031 - 2020-05-25 09:00:00\n",
      "2022-07-27 16:14:40,948 - rank - INFO - Rank 0 -- interaction_waiting -- 1.2478994904085994e-05\n",
      "2022-07-27 16:14:40,978 - simulator - INFO - CMS: Timestep for rank 0/1 - 2.427891652972903,2.427894115447998 - 2020-05-25 09:00:00\n",
      "\n",
      "2022-07-27 16:14:40,983 - rank - INFO - Next timestep\n",
      "2022-07-27 16:14:40,984 - simulator - INFO - ==================== timestep ====================\n",
      "2022-07-27 16:14:42,372 - rank - INFO - Rank 0 -- move_people -- 1.3841407610161696\n",
      "2022-07-27 16:14:42,374 - rank - INFO - Rank 0 -- move_people_waiting -- 7.51498737372458e-06\n",
      "2022-07-27 16:14:42,376 - activity_manager - INFO - CMS: People COMS for rank 0/1 - 9.791983757168055e-06,7.867813110351562e-06 - 2020-05-25 11:00:00\n",
      "2022-07-27 16:14:42,387 - simulator - INFO - Info for rank 0, Date = 2020-05-25 11:00:00, number of deaths =  0, number of infected = 275\n",
      "2022-07-27 16:14:42,634 - rank - INFO - Rank 0 -- interaction -- 0.2557678709854372\n",
      "2022-07-27 16:14:43,249 - tracker - INFO - Rank 0 -- tracking contacts -- 500 of 3270 of type shelter\n",
      "2022-07-27 16:14:43,565 - rank - INFO - Rank 0 -- tracker -- 0.9301210069970693\n",
      "2022-07-27 16:14:43,572 - epidemiology - INFO - CMS: Infection COMS-v2 for rank 0/1(2)0.0003095869906246662,0.000308990478515625 - 2020-05-25 11:00:00\n",
      "2022-07-27 16:14:43,623 - rank - INFO - Rank 0 -- interaction_waiting -- 9.190989658236504e-06\n",
      "2022-07-27 16:14:43,644 - simulator - INFO - CMS: Timestep for rank 0/1 - 2.6563470590044744,2.65634822845459 - 2020-05-25 11:00:00\n",
      "\n",
      "2022-07-27 16:14:43,649 - rank - INFO - Next timestep\n",
      "2022-07-27 16:14:43,651 - simulator - INFO - ==================== timestep ====================\n",
      "2022-07-27 16:14:44,744 - rank - INFO - Rank 0 -- move_people -- 1.0910151310090441\n",
      "2022-07-27 16:14:44,745 - rank - INFO - Rank 0 -- move_people_waiting -- 6.046990165486932e-06\n",
      "2022-07-27 16:14:44,747 - activity_manager - INFO - CMS: People COMS for rank 0/1 - 6.3350016716867685e-06,5.4836273193359375e-06 - 2020-05-25 13:00:00\n",
      "2022-07-27 16:14:44,757 - simulator - INFO - Info for rank 0, Date = 2020-05-25 13:00:00, number of deaths =  0, number of infected = 288\n",
      "2022-07-27 16:14:44,989 - rank - INFO - Rank 0 -- interaction -- 0.24016765199485235\n",
      "2022-07-27 16:14:45,686 - tracker - INFO - Rank 0 -- tracking contacts -- 500 of 3270 of type shelter\n",
      "2022-07-27 16:14:46,075 - rank - INFO - Rank 0 -- tracker -- 1.0844052399916109\n",
      "2022-07-27 16:14:46,083 - epidemiology - INFO - CMS: Infection COMS-v2 for rank 0/1(2)0.0007299160060938448,0.0007290840148925781 - 2020-05-25 13:00:00\n",
      "2022-07-27 16:14:46,137 - rank - INFO - Rank 0 -- interaction_waiting -- 9.400013368576765e-06\n",
      "2022-07-27 16:14:46,158 - simulator - INFO - CMS: Timestep for rank 0/1 - 2.5050689539930318,2.5050697326660156 - 2020-05-25 13:00:00\n",
      "\n",
      "2022-07-27 16:14:46,163 - rank - INFO - Next timestep\n",
      "2022-07-27 16:14:46,164 - simulator - INFO - ==================== timestep ====================\n",
      "2022-07-27 16:14:47,225 - rank - INFO - Rank 0 -- move_people -- 1.0596909209853038\n",
      "2022-07-27 16:14:47,226 - rank - INFO - Rank 0 -- move_people_waiting -- 8.76100966706872e-06\n",
      "2022-07-27 16:14:47,227 - activity_manager - INFO - CMS: People COMS for rank 0/1 - 5.509995389729738e-06,5.0067901611328125e-06 - 2020-05-25 15:00:00\n",
      "2022-07-27 16:14:47,236 - simulator - INFO - Info for rank 0, Date = 2020-05-25 15:00:00, number of deaths =  0, number of infected = 295\n",
      "2022-07-27 16:14:47,516 - rank - INFO - Rank 0 -- interaction -- 0.2865012190013658\n",
      "2022-07-27 16:14:48,155 - tracker - INFO - Rank 0 -- tracking contacts -- 500 of 3270 of type shelter\n",
      "2022-07-27 16:14:48,518 - rank - INFO - Rank 0 -- tracker -- 1.0010138739889953\n",
      "2022-07-27 16:14:48,523 - epidemiology - INFO - CMS: Infection COMS-v2 for rank 0/1(2)0.0007203609857242554,0.0007202625274658203 - 2020-05-25 15:00:00\n",
      "2022-07-27 16:14:48,574 - rank - INFO - Rank 0 -- interaction_waiting -- 7.733993697911501e-06\n",
      "2022-07-27 16:14:48,602 - simulator - INFO - CMS: Timestep for rank 0/1 - 2.4360227470169775,2.436022996902466 - 2020-05-25 15:00:00\n",
      "\n",
      "2022-07-27 16:14:48,606 - rank - INFO - Next timestep\n",
      "2022-07-27 16:14:48,607 - simulator - INFO - ==================== timestep ====================\n",
      "2022-07-27 16:14:49,801 - rank - INFO - Rank 0 -- move_people -- 1.1926202310132794\n",
      "2022-07-27 16:14:49,802 - rank - INFO - Rank 0 -- move_people_waiting -- 8.222006727010012e-06\n",
      "2022-07-27 16:14:49,802 - activity_manager - INFO - CMS: People COMS for rank 0/1 - 4.906993126496673e-06,4.5299530029296875e-06 - 2020-05-25 17:00:00\n",
      "2022-07-27 16:14:49,808 - simulator - INFO - Info for rank 0, Date = 2020-05-25 17:00:00, number of deaths =  0, number of infected = 303\n",
      "2022-07-27 16:14:50,028 - rank - INFO - Rank 0 -- interaction -- 0.22499629299272783\n",
      "2022-07-27 16:14:50,705 - tracker - INFO - Rank 0 -- tracking contacts -- 500 of 3270 of type shelter\n",
      "2022-07-27 16:14:51,125 - rank - INFO - Rank 0 -- tracker -- 1.093243460985832\n",
      "2022-07-27 16:14:51,134 - epidemiology - INFO - CMS: Infection COMS-v2 for rank 0/1(2)0.00041284700273536146,0.00041222572326660156 - 2020-05-25 17:00:00\n",
      "2022-07-27 16:14:51,182 - rank - INFO - Rank 0 -- interaction_waiting -- 1.0226998711004853e-05\n",
      "2022-07-27 16:14:51,202 - simulator - INFO - CMS: Timestep for rank 0/1 - 2.593500604009023,2.593501567840576 - 2020-05-25 17:00:00\n",
      "\n",
      "2022-07-27 16:14:51,205 - rank - INFO - Next timestep\n",
      "2022-07-27 16:14:51,207 - simulator - INFO - ==================== timestep ====================\n",
      "2022-07-27 16:14:51,468 - rank - INFO - Rank 0 -- move_people -- 0.2602033230068628\n",
      "2022-07-27 16:14:51,469 - rank - INFO - Rank 0 -- move_people_waiting -- 8.497008820995688e-06\n",
      "2022-07-27 16:14:51,470 - activity_manager - INFO - CMS: People COMS for rank 0/1 - 3.6320125218480825e-06,3.0994415283203125e-06 - 2020-05-25 19:00:00\n",
      "2022-07-27 16:14:51,476 - simulator - INFO - Info for rank 0, Date = 2020-05-25 19:00:00, number of deaths =  0, number of infected = 309\n",
      "2022-07-27 16:14:51,625 - rank - INFO - Rank 0 -- interaction -- 0.1548908310069237\n",
      "2022-07-27 16:14:52,286 - tracker - INFO - Rank 0 -- tracking contacts -- 500 of 3270 of type shelter\n",
      "2022-07-27 16:14:53,611 - rank - INFO - Rank 0 -- tracker -- 1.9839782050112262\n",
      "2022-07-27 16:14:53,636 - epidemiology - INFO - CMS: Infection COMS-v2 for rank 0/1(2)0.0002324719971511513,0.0002319812774658203 - 2020-05-25 19:00:00\n",
      "2022-07-27 16:14:53,681 - rank - INFO - Rank 0 -- interaction_waiting -- 1.0226009180769324e-05\n",
      "2022-07-27 16:14:53,699 - simulator - INFO - CMS: Timestep for rank 0/1 - 2.49108856197563,2.4910895824432373 - 2020-05-25 19:00:00\n",
      "\n",
      "2022-07-27 16:14:53,702 - rank - INFO - Next timestep\n",
      "2022-07-27 16:14:53,703 - simulator - INFO - ==================== timestep ====================\n",
      "2022-07-27 16:14:53,940 - rank - INFO - Rank 0 -- move_people -- 0.2361636020068545\n",
      "2022-07-27 16:14:53,941 - rank - INFO - Rank 0 -- move_people_waiting -- 8.31700162962079e-06\n",
      "2022-07-27 16:14:53,942 - activity_manager - INFO - CMS: People COMS for rank 0/1 - 3.914989065378904e-06,3.5762786865234375e-06 - 2020-05-26 09:00:00\n",
      "2022-07-27 16:14:53,951 - simulator - INFO - Info for rank 0, Date = 2020-05-26 09:00:00, number of deaths =  0, number of infected = 357\n",
      "2022-07-27 16:14:54,057 - rank - INFO - Rank 0 -- interaction -- 0.11345021301531233\n",
      "2022-07-27 16:14:54,068 - tracker - INFO - Rank 0 -- tracking contacts -- 500 of 3270 of type shelter\n",
      "2022-07-27 16:14:54,940 - rank - INFO - Rank 0 -- tracker -- 0.8821157339843921\n",
      "2022-07-27 16:14:54,950 - epidemiology - INFO - CMS: Infection COMS-v2 for rank 0/1(2)0.0003212659794371575,0.0003209114074707031 - 2020-05-26 09:00:00\n",
      "2022-07-27 16:14:54,990 - rank - INFO - Rank 0 -- interaction_waiting -- 1.0032003046944737e-05\n"
     ]
    },
    {
     "name": "stdout",
     "output_type": "stream",
     "text": [
      "2022-07-27 16:14:55,007 - simulator - INFO - CMS: Timestep for rank 0/1 - 1.3029423780099023,1.302943229675293 - 2020-05-26 09:00:00\n",
      "\n",
      "2022-07-27 16:14:55,010 - rank - INFO - Next timestep\n",
      "2022-07-27 16:14:55,013 - simulator - INFO - ==================== timestep ====================\n",
      "2022-07-27 16:14:55,999 - rank - INFO - Rank 0 -- move_people -- 0.985110073001124\n",
      "2022-07-27 16:14:56,000 - rank - INFO - Rank 0 -- move_people_waiting -- 8.391012670472264e-06\n",
      "2022-07-27 16:14:56,001 - activity_manager - INFO - CMS: People COMS for rank 0/1 - 4.336994607001543e-06,3.814697265625e-06 - 2020-05-26 11:00:00\n",
      "2022-07-27 16:14:56,006 - simulator - INFO - Info for rank 0, Date = 2020-05-26 11:00:00, number of deaths =  0, number of infected = 369\n",
      "2022-07-27 16:14:56,205 - rank - INFO - Rank 0 -- interaction -- 0.20347420399775729\n",
      "2022-07-27 16:14:56,214 - tracker - INFO - Rank 0 -- tracking contacts -- 500 of 3270 of type shelter\n",
      "2022-07-27 16:14:56,574 - rank - INFO - Rank 0 -- tracker -- 0.3679853419889696\n",
      "2022-07-27 16:14:56,584 - epidemiology - INFO - CMS: Infection COMS-v2 for rank 0/1(2)0.00040295999497175217,0.00040268898010253906 - 2020-05-26 11:00:00\n",
      "2022-07-27 16:14:56,625 - rank - INFO - Rank 0 -- interaction_waiting -- 6.754009518772364e-06\n",
      "2022-07-27 16:14:56,643 - simulator - INFO - CMS: Timestep for rank 0/1 - 1.628896275011357,1.6288964748382568 - 2020-05-26 11:00:00\n",
      "\n",
      "2022-07-27 16:14:56,646 - rank - INFO - Next timestep\n",
      "2022-07-27 16:14:56,647 - simulator - INFO - ==================== timestep ====================\n",
      "2022-07-27 16:14:57,682 - rank - INFO - Rank 0 -- move_people -- 1.0344726640032604\n",
      "2022-07-27 16:14:57,683 - rank - INFO - Rank 0 -- move_people_waiting -- 9.587995009496808e-06\n",
      "2022-07-27 16:14:57,684 - activity_manager - INFO - CMS: People COMS for rank 0/1 - 3.969995304942131e-06,3.5762786865234375e-06 - 2020-05-26 13:00:00\n",
      "2022-07-27 16:14:57,690 - simulator - INFO - Info for rank 0, Date = 2020-05-26 13:00:00, number of deaths =  0, number of infected = 386\n",
      "2022-07-27 16:14:57,936 - rank - INFO - Rank 0 -- interaction -- 0.25078998299431987\n",
      "2022-07-27 16:14:57,945 - tracker - INFO - Rank 0 -- tracking contacts -- 500 of 3270 of type shelter\n",
      "2022-07-27 16:14:58,288 - rank - INFO - Rank 0 -- tracker -- 0.3505653309985064\n",
      "2022-07-27 16:14:58,299 - epidemiology - INFO - CMS: Infection COMS-v2 for rank 0/1(2)0.00043128099059686065,0.0004303455352783203 - 2020-05-26 13:00:00\n",
      "2022-07-27 16:14:58,359 - rank - INFO - Rank 0 -- interaction_waiting -- 9.130017133429646e-06\n",
      "2022-07-27 16:14:58,383 - simulator - INFO - CMS: Timestep for rank 0/1 - 1.7351941569941118,1.735196590423584 - 2020-05-26 13:00:00\n",
      "\n",
      "2022-07-27 16:14:58,387 - rank - INFO - Next timestep\n",
      "2022-07-27 16:14:58,388 - simulator - INFO - ==================== timestep ====================\n",
      "2022-07-27 16:14:59,420 - rank - INFO - Rank 0 -- move_people -- 1.030763742979616\n",
      "2022-07-27 16:14:59,420 - rank - INFO - Rank 0 -- move_people_waiting -- 8.509989129379392e-06\n",
      "2022-07-27 16:14:59,421 - activity_manager - INFO - CMS: People COMS for rank 0/1 - 3.597990144044161e-06,3.337860107421875e-06 - 2020-05-26 15:00:00\n",
      "2022-07-27 16:14:59,429 - simulator - INFO - Info for rank 0, Date = 2020-05-26 15:00:00, number of deaths =  0, number of infected = 401\n",
      "2022-07-27 16:14:59,650 - rank - INFO - Rank 0 -- interaction -- 0.2273508119978942\n",
      "2022-07-27 16:14:59,658 - tracker - INFO - Rank 0 -- tracking contacts -- 500 of 3270 of type shelter\n",
      "2022-07-27 16:15:00,012 - rank - INFO - Rank 0 -- tracker -- 0.3611412270111032\n",
      "2022-07-27 16:15:00,028 - epidemiology - INFO - CMS: Infection COMS-v2 for rank 0/1(2)0.00045896301162429154,0.0004572868347167969 - 2020-05-26 15:00:00\n",
      "2022-07-27 16:15:00,079 - rank - INFO - Rank 0 -- interaction_waiting -- 9.334995411336422e-06\n",
      "2022-07-27 16:15:00,104 - simulator - INFO - CMS: Timestep for rank 0/1 - 1.7147667800018098,1.7147676944732666 - 2020-05-26 15:00:00\n",
      "\n",
      "2022-07-27 16:15:00,106 - rank - INFO - Next timestep\n",
      "2022-07-27 16:15:00,107 - simulator - INFO - ==================== timestep ====================\n",
      "2022-07-27 16:15:01,301 - rank - INFO - Rank 0 -- move_people -- 1.1923079639964271\n",
      "2022-07-27 16:15:01,301 - rank - INFO - Rank 0 -- move_people_waiting -- 8.077011443674564e-06\n",
      "2022-07-27 16:15:01,302 - activity_manager - INFO - CMS: People COMS for rank 0/1 - 3.5130069591104984e-06,3.0994415283203125e-06 - 2020-05-26 17:00:00\n",
      "2022-07-27 16:15:01,310 - simulator - INFO - Info for rank 0, Date = 2020-05-26 17:00:00, number of deaths =  0, number of infected = 415\n",
      "2022-07-27 16:15:01,584 - rank - INFO - Rank 0 -- interaction -- 0.28125236099003814\n",
      "2022-07-27 16:15:01,594 - tracker - INFO - Rank 0 -- tracking contacts -- 500 of 3270 of type shelter\n",
      "2022-07-27 16:15:02,033 - rank - INFO - Rank 0 -- tracker -- 0.44629807202727534\n",
      "2022-07-27 16:15:02,046 - epidemiology - INFO - CMS: Infection COMS-v2 for rank 0/1(2)0.00032655600807629526,0.00032520294189453125 - 2020-05-26 17:00:00\n",
      "2022-07-27 16:15:02,107 - rank - INFO - Rank 0 -- interaction_waiting -- 1.2438016710802913e-05\n",
      "2022-07-27 16:15:02,130 - simulator - INFO - CMS: Timestep for rank 0/1 - 2.0218622959800996,2.0218634605407715 - 2020-05-26 17:00:00\n",
      "\n",
      "2022-07-27 16:15:02,134 - rank - INFO - Next timestep\n",
      "2022-07-27 16:15:02,135 - simulator - INFO - ==================== timestep ====================\n",
      "2022-07-27 16:15:02,395 - rank - INFO - Rank 0 -- move_people -- 0.2591523890150711\n",
      "2022-07-27 16:15:02,400 - rank - INFO - Rank 0 -- move_people_waiting -- 5.278008757159114e-06\n",
      "2022-07-27 16:15:02,402 - activity_manager - INFO - CMS: People COMS for rank 0/1 - 6.222020601853728e-06,5.4836273193359375e-06 - 2020-05-26 19:00:00\n",
      "2022-07-27 16:15:02,410 - simulator - INFO - Info for rank 0, Date = 2020-05-26 19:00:00, number of deaths =  0, number of infected = 435\n",
      "2022-07-27 16:15:02,559 - rank - INFO - Rank 0 -- interaction -- 0.15549933299189433\n",
      "2022-07-27 16:15:02,570 - tracker - INFO - Rank 0 -- tracking contacts -- 500 of 3270 of type shelter\n",
      "2022-07-27 16:15:04,059 - rank - INFO - Rank 0 -- tracker -- 1.4970354130200576\n",
      "2022-07-27 16:15:04,096 - epidemiology - INFO - CMS: Infection COMS-v2 for rank 0/1(2)0.00046735198702663183,0.00046563148498535156 - 2020-05-26 19:00:00\n",
      "2022-07-27 16:15:04,148 - rank - INFO - Rank 0 -- interaction_waiting -- 1.0396004654467106e-05\n",
      "2022-07-27 16:15:04,173 - simulator - INFO - CMS: Timestep for rank 0/1 - 2.036471203988185,2.0364723205566406 - 2020-05-26 19:00:00\n",
      "\n",
      "2022-07-27 16:15:04,176 - rank - INFO - Next timestep\n",
      "2022-07-27 16:15:04,178 - simulator - INFO - ==================== timestep ====================\n",
      "2022-07-27 16:15:04,452 - rank - INFO - Rank 0 -- move_people -- 0.27292979901540093\n",
      "2022-07-27 16:15:04,453 - rank - INFO - Rank 0 -- move_people_waiting -- 9.409995982423425e-06\n",
      "2022-07-27 16:15:04,454 - activity_manager - INFO - CMS: People COMS for rank 0/1 - 3.943016054108739e-06,3.814697265625e-06 - 2020-05-27 09:00:00\n",
      "2022-07-27 16:15:04,461 - simulator - INFO - Info for rank 0, Date = 2020-05-27 09:00:00, number of deaths =  0, number of infected = 498\n",
      "2022-07-27 16:15:04,605 - rank - INFO - Rank 0 -- interaction -- 0.14967890401021577\n",
      "2022-07-27 16:15:04,616 - tracker - INFO - Rank 0 -- tracking contacts -- 500 of 3270 of type shelter\n",
      "2022-07-27 16:15:05,595 - rank - INFO - Rank 0 -- tracker -- 0.9896721949917264\n",
      "2022-07-27 16:15:05,607 - epidemiology - INFO - CMS: Infection COMS-v2 for rank 0/1(2)0.001262164005311206,0.0012621879577636719 - 2020-05-27 09:00:00\n",
      "2022-07-27 16:15:05,657 - rank - INFO - Rank 0 -- interaction_waiting -- 7.445982191711664e-06\n",
      "2022-07-27 16:15:05,685 - simulator - INFO - CMS: Timestep for rank 0/1 - 1.5056662510032766,1.5056679248809814 - 2020-05-27 09:00:00\n",
      "\n",
      "2022-07-27 16:15:05,687 - rank - INFO - Next timestep\n",
      "2022-07-27 16:15:05,688 - simulator - INFO - ==================== timestep ====================\n",
      "2022-07-27 16:15:06,824 - rank - INFO - Rank 0 -- move_people -- 1.134220762993209\n",
      "2022-07-27 16:15:06,825 - rank - INFO - Rank 0 -- move_people_waiting -- 9.58298915065825e-06\n",
      "2022-07-27 16:15:06,826 - activity_manager - INFO - CMS: People COMS for rank 0/1 - 5.07800723426044e-06,4.76837158203125e-06 - 2020-05-27 11:00:00\n"
     ]
    },
    {
     "name": "stdout",
     "output_type": "stream",
     "text": [
      "2022-07-27 16:15:06,835 - simulator - INFO - Info for rank 0, Date = 2020-05-27 11:00:00, number of deaths =  0, number of infected = 514\n",
      "2022-07-27 16:15:07,084 - rank - INFO - Rank 0 -- interaction -- 0.2557098680117633\n",
      "2022-07-27 16:15:07,094 - tracker - INFO - Rank 0 -- tracking contacts -- 500 of 3270 of type shelter\n",
      "2022-07-27 16:15:07,419 - rank - INFO - Rank 0 -- tracker -- 0.33414156298385933\n",
      "2022-07-27 16:15:07,439 - epidemiology - INFO - CMS: Infection COMS-v2 for rank 0/1(2)0.00034056100412271917,0.0003399848937988281 - 2020-05-27 11:00:00\n",
      "2022-07-27 16:15:07,495 - rank - INFO - Rank 0 -- interaction_waiting -- 1.1891999747604132e-05\n",
      "2022-07-27 16:15:07,522 - simulator - INFO - CMS: Timestep for rank 0/1 - 1.8327908880019095,1.832792043685913 - 2020-05-27 11:00:00\n",
      "\n",
      "2022-07-27 16:15:07,525 - rank - INFO - Next timestep\n",
      "2022-07-27 16:15:07,531 - simulator - INFO - ==================== timestep ====================\n",
      "2022-07-27 16:15:08,541 - rank - INFO - Rank 0 -- move_people -- 1.0076266499818303\n",
      "2022-07-27 16:15:08,543 - rank - INFO - Rank 0 -- move_people_waiting -- 7.39202369004488e-06\n",
      "2022-07-27 16:15:08,544 - activity_manager - INFO - CMS: People COMS for rank 0/1 - 4.985980922356248e-06,4.5299530029296875e-06 - 2020-05-27 13:00:00\n",
      "2022-07-27 16:15:08,554 - simulator - INFO - Info for rank 0, Date = 2020-05-27 13:00:00, number of deaths =  0, number of infected = 539\n",
      "2022-07-27 16:15:08,854 - rank - INFO - Rank 0 -- interaction -- 0.3081371639855206\n",
      "2022-07-27 16:15:08,864 - tracker - INFO - Rank 0 -- tracking contacts -- 500 of 3270 of type shelter\n",
      "2022-07-27 16:15:09,234 - rank - INFO - Rank 0 -- tracker -- 0.37888531098724343\n",
      "2022-07-27 16:15:09,257 - epidemiology - INFO - CMS: Infection COMS-v2 for rank 0/1(2)0.0006788370083086193,0.0006785392761230469 - 2020-05-27 13:00:00\n",
      "2022-07-27 16:15:09,307 - rank - INFO - Rank 0 -- interaction_waiting -- 8.153991075232625e-06\n",
      "2022-07-27 16:15:09,327 - simulator - INFO - CMS: Timestep for rank 0/1 - 1.7930977539799642,1.793097972869873 - 2020-05-27 13:00:00\n",
      "\n",
      "2022-07-27 16:15:09,331 - rank - INFO - Next timestep\n",
      "2022-07-27 16:15:09,333 - simulator - INFO - ==================== timestep ====================\n",
      "2022-07-27 16:15:10,420 - rank - INFO - Rank 0 -- move_people -- 1.0857463139982428\n",
      "2022-07-27 16:15:10,421 - rank - INFO - Rank 0 -- move_people_waiting -- 1.183801214210689e-05\n",
      "2022-07-27 16:15:10,422 - activity_manager - INFO - CMS: People COMS for rank 0/1 - 5.637004505842924e-06,4.76837158203125e-06 - 2020-05-27 15:00:00\n",
      "2022-07-27 16:15:10,431 - simulator - INFO - Info for rank 0, Date = 2020-05-27 15:00:00, number of deaths =  0, number of infected = 578\n",
      "2022-07-27 16:15:10,700 - rank - INFO - Rank 0 -- interaction -- 0.2759574720112141\n",
      "2022-07-27 16:15:10,710 - tracker - INFO - Rank 0 -- tracking contacts -- 500 of 3270 of type shelter\n",
      "2022-07-27 16:15:11,070 - rank - INFO - Rank 0 -- tracker -- 0.36909572899458\n",
      "2022-07-27 16:15:11,086 - epidemiology - INFO - CMS: Infection COMS-v2 for rank 0/1(2)0.0005163059977348894,0.0005152225494384766 - 2020-05-27 15:00:00\n",
      "2022-07-27 16:15:11,149 - rank - INFO - Rank 0 -- interaction_waiting -- 1.3253011275082827e-05\n",
      "2022-07-27 16:15:11,177 - simulator - INFO - CMS: Timestep for rank 0/1 - 1.842646587989293,1.8426477909088135 - 2020-05-27 15:00:00\n",
      "\n",
      "2022-07-27 16:15:11,181 - rank - INFO - Next timestep\n",
      "2022-07-27 16:15:11,183 - simulator - INFO - ==================== timestep ====================\n",
      "2022-07-27 16:15:12,338 - rank - INFO - Rank 0 -- move_people -- 1.1536425179801881\n",
      "2022-07-27 16:15:12,339 - rank - INFO - Rank 0 -- move_people_waiting -- 1.1383002856746316e-05\n",
      "2022-07-27 16:15:12,340 - activity_manager - INFO - CMS: People COMS for rank 0/1 - 4.775007255375385e-06,4.291534423828125e-06 - 2020-05-27 17:00:00\n",
      "2022-07-27 16:15:12,347 - simulator - INFO - Info for rank 0, Date = 2020-05-27 17:00:00, number of deaths =  0, number of infected = 599\n",
      "2022-07-27 16:15:12,616 - rank - INFO - Rank 0 -- interaction -- 0.2755548149871174\n",
      "2022-07-27 16:15:12,626 - tracker - INFO - Rank 0 -- tracking contacts -- 500 of 3270 of type shelter\n",
      "2022-07-27 16:15:13,125 - rank - INFO - Rank 0 -- tracker -- 0.5063850249862298\n",
      "2022-07-27 16:15:13,144 - epidemiology - INFO - CMS: Infection COMS-v2 for rank 0/1(2)0.0012383070134092122,0.001237630844116211 - 2020-05-27 17:00:00\n",
      "2022-07-27 16:15:13,200 - rank - INFO - Rank 0 -- interaction_waiting -- 9.334005881100893e-06\n",
      "2022-07-27 16:15:13,221 - simulator - INFO - CMS: Timestep for rank 0/1 - 2.0364198189927265,2.036421298980713 - 2020-05-27 17:00:00\n",
      "\n",
      "2022-07-27 16:15:13,224 - rank - INFO - Next timestep\n",
      "2022-07-27 16:15:13,225 - simulator - INFO - ==================== timestep ====================\n",
      "2022-07-27 16:15:13,468 - rank - INFO - Rank 0 -- move_people -- 0.24146868899697438\n",
      "2022-07-27 16:15:13,469 - rank - INFO - Rank 0 -- move_people_waiting -- 9.96800372377038e-06\n",
      "2022-07-27 16:15:13,470 - activity_manager - INFO - CMS: People COMS for rank 0/1 - 4.472007276490331e-06,4.291534423828125e-06 - 2020-05-27 19:00:00\n",
      "2022-07-27 16:15:13,476 - simulator - INFO - Info for rank 0, Date = 2020-05-27 19:00:00, number of deaths =  0, number of infected = 624\n",
      "2022-07-27 16:15:13,635 - rank - INFO - Rank 0 -- interaction -- 0.1645646789984312\n",
      "2022-07-27 16:15:13,643 - tracker - INFO - Rank 0 -- tracking contacts -- 500 of 3270 of type shelter\n",
      "2022-07-27 16:15:15,004 - rank - INFO - Rank 0 -- tracker -- 1.3673655980092008\n",
      "2022-07-27 16:15:15,065 - epidemiology - INFO - CMS: Infection COMS-v2 for rank 0/1(2)0.0007252650102600455,0.0007243156433105469 - 2020-05-27 19:00:00\n",
      "2022-07-27 16:15:15,119 - rank - INFO - Rank 0 -- interaction_waiting -- 1.0096002370119095e-05\n",
      "2022-07-27 16:15:15,139 - simulator - INFO - CMS: Timestep for rank 0/1 - 1.9124575820169412,1.9124581813812256 - 2020-05-27 19:00:00\n",
      "\n",
      "2022-07-27 16:15:15,142 - rank - INFO - Next timestep\n",
      "2022-07-27 16:15:15,146 - simulator - INFO - ==================== timestep ====================\n",
      "2022-07-27 16:15:15,423 - rank - INFO - Rank 0 -- move_people -- 0.2758750000211876\n",
      "2022-07-27 16:15:15,424 - rank - INFO - Rank 0 -- move_people_waiting -- 9.348994353786111e-06\n",
      "2022-07-27 16:15:15,425 - activity_manager - INFO - CMS: People COMS for rank 0/1 - 5.687004886567593e-06,5.245208740234375e-06 - 2020-05-28 09:00:00\n",
      "2022-07-27 16:15:15,436 - simulator - INFO - Info for rank 0, Date = 2020-05-28 09:00:00, number of deaths =  0, number of infected = 716\n",
      "2022-07-27 16:15:15,587 - rank - INFO - Rank 0 -- interaction -- 0.16038454699446447\n",
      "2022-07-27 16:15:15,598 - tracker - INFO - Rank 0 -- tracking contacts -- 500 of 3270 of type shelter\n",
      "2022-07-27 16:15:16,546 - rank - INFO - Rank 0 -- tracker -- 0.9571838960109744\n",
      "2022-07-27 16:15:16,563 - epidemiology - INFO - CMS: Infection COMS-v2 for rank 0/1(2)0.00042394601041451097,0.000423431396484375 - 2020-05-28 09:00:00\n",
      "2022-07-27 16:15:16,617 - rank - INFO - Rank 0 -- interaction_waiting -- 8.320988854393363e-06\n",
      "2022-07-27 16:15:16,640 - simulator - INFO - CMS: Timestep for rank 0/1 - 1.4931300330208614,1.4931321144104004 - 2020-05-28 09:00:00\n",
      "\n",
      "2022-07-27 16:15:16,644 - rank - INFO - Next timestep\n",
      "2022-07-27 16:15:16,646 - simulator - INFO - ==================== timestep ====================\n",
      "2022-07-27 16:15:17,852 - rank - INFO - Rank 0 -- move_people -- 1.2042009209981188\n",
      "2022-07-27 16:15:17,853 - rank - INFO - Rank 0 -- move_people_waiting -- 1.0427989764139056e-05\n",
      "2022-07-27 16:15:17,854 - activity_manager - INFO - CMS: People COMS for rank 0/1 - 6.521993782371283e-06,6.198883056640625e-06 - 2020-05-28 11:00:00\n",
      "2022-07-27 16:15:17,862 - simulator - INFO - Info for rank 0, Date = 2020-05-28 11:00:00, number of deaths =  0, number of infected = 738\n",
      "2022-07-27 16:15:18,121 - rank - INFO - Rank 0 -- interaction -- 0.2658960449916776\n",
      "2022-07-27 16:15:18,130 - tracker - INFO - Rank 0 -- tracking contacts -- 500 of 3270 of type shelter\n",
      "2022-07-27 16:15:18,493 - rank - INFO - Rank 0 -- tracker -- 0.3708172310143709\n",
      "2022-07-27 16:15:18,515 - epidemiology - INFO - CMS: Infection COMS-v2 for rank 0/1(2)0.0004609019961208105,0.00046062469482421875 - 2020-05-28 11:00:00\n",
      "2022-07-27 16:15:18,575 - rank - INFO - Rank 0 -- interaction_waiting -- 9.271985618397593e-06\n"
     ]
    },
    {
     "name": "stdout",
     "output_type": "stream",
     "text": [
      "2022-07-27 16:15:18,603 - simulator - INFO - CMS: Timestep for rank 0/1 - 1.9553740699775517,1.9553756713867188 - 2020-05-28 11:00:00\n",
      "\n",
      "2022-07-27 16:15:18,608 - rank - INFO - Next timestep\n",
      "2022-07-27 16:15:18,610 - simulator - INFO - ==================== timestep ====================\n",
      "2022-07-27 16:15:19,729 - rank - INFO - Rank 0 -- move_people -- 1.117308098997455\n",
      "2022-07-27 16:15:19,730 - rank - INFO - Rank 0 -- move_people_waiting -- 1.4253018889576197e-05\n",
      "2022-07-27 16:15:19,731 - activity_manager - INFO - CMS: People COMS for rank 0/1 - 5.854002665728331e-06,5.4836273193359375e-06 - 2020-05-28 13:00:00\n",
      "2022-07-27 16:15:19,741 - simulator - INFO - Info for rank 0, Date = 2020-05-28 13:00:00, number of deaths =  0, number of infected = 768\n",
      "2022-07-27 16:15:19,993 - rank - INFO - Rank 0 -- interaction -- 0.26013802899979055\n",
      "2022-07-27 16:15:20,007 - tracker - INFO - Rank 0 -- tracking contacts -- 500 of 3270 of type shelter\n",
      "2022-07-27 16:15:20,411 - rank - INFO - Rank 0 -- tracker -- 0.4152204639976844\n",
      "2022-07-27 16:15:20,436 - epidemiology - INFO - CMS: Infection COMS-v2 for rank 0/1(2)0.0002907089947257191,0.0002906322479248047 - 2020-05-28 13:00:00\n",
      "2022-07-27 16:15:20,519 - rank - INFO - Rank 0 -- interaction_waiting -- 1.4963996363803744e-05\n",
      "2022-07-27 16:15:20,547 - simulator - INFO - CMS: Timestep for rank 0/1 - 1.9350093660177663,1.9350099563598633 - 2020-05-28 13:00:00\n",
      "\n",
      "2022-07-27 16:15:20,550 - rank - INFO - Next timestep\n",
      "2022-07-27 16:15:20,552 - simulator - INFO - ==================== timestep ====================\n",
      "2022-07-27 16:15:21,646 - rank - INFO - Rank 0 -- move_people -- 1.0928206320095342\n",
      "2022-07-27 16:15:21,647 - rank - INFO - Rank 0 -- move_people_waiting -- 1.0813993867486715e-05\n",
      "2022-07-27 16:15:21,648 - activity_manager - INFO - CMS: People COMS for rank 0/1 - 5.44698559679091e-06,4.5299530029296875e-06 - 2020-05-28 15:00:00\n",
      "2022-07-27 16:15:21,656 - simulator - INFO - Info for rank 0, Date = 2020-05-28 15:00:00, number of deaths =  0, number of infected = 800\n",
      "2022-07-27 16:15:21,907 - rank - INFO - Rank 0 -- interaction -- 0.2566281449981034\n",
      "2022-07-27 16:15:21,916 - tracker - INFO - Rank 0 -- tracking contacts -- 500 of 3270 of type shelter\n",
      "2022-07-27 16:15:22,219 - rank - INFO - Rank 0 -- tracker -- 0.31128640499082394\n",
      "2022-07-27 16:15:22,475 - epidemiology - INFO - CMS: Infection COMS-v2 for rank 0/1(2)0.0002936089877039194,0.0002930164337158203 - 2020-05-28 15:00:00\n",
      "2022-07-27 16:15:22,521 - rank - INFO - Rank 0 -- interaction_waiting -- 7.434980943799019e-06\n",
      "2022-07-27 16:15:22,534 - simulator - INFO - CMS: Timestep for rank 0/1 - 1.9810022949823178,1.9810032844543457 - 2020-05-28 15:00:00\n",
      "\n",
      "2022-07-27 16:15:22,537 - rank - INFO - Next timestep\n",
      "2022-07-27 16:15:22,537 - simulator - INFO - ==================== timestep ====================\n",
      "2022-07-27 16:15:23,510 - rank - INFO - Rank 0 -- move_people -- 0.972215857997071\n",
      "2022-07-27 16:15:23,511 - rank - INFO - Rank 0 -- move_people_waiting -- 1.2313015758991241e-05\n",
      "2022-07-27 16:15:23,512 - activity_manager - INFO - CMS: People COMS for rank 0/1 - 4.292000085115433e-06,3.5762786865234375e-06 - 2020-05-28 17:00:00\n",
      "2022-07-27 16:15:23,520 - simulator - INFO - Info for rank 0, Date = 2020-05-28 17:00:00, number of deaths =  0, number of infected = 835\n",
      "2022-07-27 16:15:23,790 - rank - INFO - Rank 0 -- interaction -- 0.2761902349884622\n",
      "2022-07-27 16:15:23,799 - tracker - INFO - Rank 0 -- tracking contacts -- 500 of 3270 of type shelter\n",
      "2022-07-27 16:15:24,168 - rank - INFO - Rank 0 -- tracker -- 0.37689176099956967\n",
      "2022-07-27 16:15:24,203 - epidemiology - INFO - CMS: Infection COMS-v2 for rank 0/1(2)0.00033535799593664706,0.0003349781036376953 - 2020-05-28 17:00:00\n",
      "2022-07-27 16:15:24,264 - rank - INFO - Rank 0 -- interaction_waiting -- 9.745010174810886e-06\n",
      "2022-07-27 16:15:24,286 - simulator - INFO - CMS: Timestep for rank 0/1 - 1.7476021480106283,1.747603178024292 - 2020-05-28 17:00:00\n",
      "\n",
      "2022-07-27 16:15:24,289 - rank - INFO - Next timestep\n",
      "2022-07-27 16:15:24,290 - simulator - INFO - ==================== timestep ====================\n",
      "2022-07-27 16:15:24,561 - rank - INFO - Rank 0 -- move_people -- 0.26858170999912545\n",
      "2022-07-27 16:15:24,562 - rank - INFO - Rank 0 -- move_people_waiting -- 8.741975761950016e-06\n",
      "2022-07-27 16:15:24,563 - activity_manager - INFO - CMS: People COMS for rank 0/1 - 4.911998985335231e-06,4.291534423828125e-06 - 2020-05-28 19:00:00\n",
      "2022-07-27 16:15:24,570 - simulator - INFO - Info for rank 0, Date = 2020-05-28 19:00:00, number of deaths =  0, number of infected = 875\n",
      "2022-07-27 16:15:24,749 - rank - INFO - Rank 0 -- interaction -- 0.18446254101581872\n",
      "2022-07-27 16:15:24,756 - tracker - INFO - Rank 0 -- tracking contacts -- 500 of 3270 of type shelter\n",
      "2022-07-27 16:15:26,121 - rank - INFO - Rank 0 -- tracker -- 1.3719046420010272\n",
      "2022-07-27 16:15:26,197 - epidemiology - INFO - CMS: Infection COMS-v2 for rank 0/1(2)0.00028967001708224416,0.0002884864807128906 - 2020-05-28 19:00:00\n",
      "2022-07-27 16:15:26,244 - rank - INFO - Rank 0 -- interaction_waiting -- 1.8851016648113728e-05\n",
      "2022-07-27 16:15:26,265 - simulator - INFO - CMS: Timestep for rank 0/1 - 1.9726553200162016,1.9726567268371582 - 2020-05-28 19:00:00\n",
      "\n",
      "2022-07-27 16:15:26,269 - rank - INFO - Next timestep\n",
      "2022-07-27 16:15:26,270 - simulator - INFO - ==================== timestep ====================\n",
      "2022-07-27 16:15:26,554 - rank - INFO - Rank 0 -- move_people -- 0.2836502010177355\n",
      "2022-07-27 16:15:26,555 - rank - INFO - Rank 0 -- move_people_waiting -- 8.463975973427296e-06\n",
      "2022-07-27 16:15:26,556 - activity_manager - INFO - CMS: People COMS for rank 0/1 - 4.157016519457102e-06,3.5762786865234375e-06 - 2020-05-29 09:00:00\n",
      "2022-07-27 16:15:26,565 - simulator - INFO - Info for rank 0, Date = 2020-05-29 09:00:00, number of deaths =  0, number of infected = 1009\n",
      "2022-07-27 16:15:26,763 - rank - INFO - Rank 0 -- interaction -- 0.20621276999008842\n",
      "2022-07-27 16:15:26,775 - tracker - INFO - Rank 0 -- tracking contacts -- 500 of 3270 of type shelter\n",
      "2022-07-27 16:15:27,997 - rank - INFO - Rank 0 -- tracker -- 1.232169355993392\n",
      "2022-07-27 16:15:28,015 - epidemiology - INFO - CMS: Infection COMS-v2 for rank 0/1(2)0.00034716600202955306,0.00034689903259277344 - 2020-05-29 09:00:00\n",
      "2022-07-27 16:15:28,087 - rank - INFO - Rank 0 -- interaction_waiting -- 8.914998034015298e-06\n",
      "2022-07-27 16:15:28,107 - simulator - INFO - CMS: Timestep for rank 0/1 - 1.8358577709877864,1.8358588218688965 - 2020-05-29 09:00:00\n",
      "\n",
      "2022-07-27 16:15:28,110 - rank - INFO - Next timestep\n",
      "2022-07-27 16:15:28,112 - simulator - INFO - ==================== timestep ====================\n",
      "2022-07-27 16:15:29,191 - rank - INFO - Rank 0 -- move_people -- 1.0758249950013123\n",
      "2022-07-27 16:15:29,192 - rank - INFO - Rank 0 -- move_people_waiting -- 7.917988114058971e-06\n",
      "2022-07-27 16:15:29,193 - activity_manager - INFO - CMS: People COMS for rank 0/1 - 3.841996658593416e-06,3.5762786865234375e-06 - 2020-05-29 12:00:00\n",
      "2022-07-27 16:15:29,202 - simulator - INFO - Info for rank 0, Date = 2020-05-29 12:00:00, number of deaths =  0, number of infected = 1035\n",
      "2022-07-27 16:15:29,518 - rank - INFO - Rank 0 -- interaction -- 0.32255411401274614\n",
      "2022-07-27 16:15:29,527 - tracker - INFO - Rank 0 -- tracking contacts -- 500 of 3270 of type shelter\n",
      "2022-07-27 16:15:29,969 - rank - INFO - Rank 0 -- tracker -- 0.4499225899926387\n",
      "2022-07-27 16:15:30,000 - epidemiology - INFO - CMS: Infection COMS-v2 for rank 0/1(2)0.00039822800317779183,0.00039768218994140625 - 2020-05-29 12:00:00\n",
      "2022-07-27 16:15:30,062 - rank - INFO - Rank 0 -- interaction_waiting -- 2.0845007384195924e-05\n",
      "2022-07-27 16:15:30,087 - simulator - INFO - CMS: Timestep for rank 0/1 - 1.9713182400155347,1.9713184833526611 - 2020-05-29 12:00:00\n",
      "\n",
      "2022-07-27 16:15:30,090 - rank - INFO - Next timestep\n",
      "2022-07-27 16:15:30,091 - simulator - INFO - ==================== timestep ====================\n",
      "2022-07-27 16:15:31,248 - rank - INFO - Rank 0 -- move_people -- 1.155623647995526\n",
      "2022-07-27 16:15:31,249 - rank - INFO - Rank 0 -- move_people_waiting -- 9.545008651912212e-06\n",
      "2022-07-27 16:15:31,250 - activity_manager - INFO - CMS: People COMS for rank 0/1 - 4.708999767899513e-06,3.814697265625e-06 - 2020-05-29 14:00:00\n"
     ]
    },
    {
     "name": "stdout",
     "output_type": "stream",
     "text": [
      "2022-07-27 16:15:31,257 - simulator - INFO - Info for rank 0, Date = 2020-05-29 14:00:00, number of deaths =  0, number of infected = 1087\n",
      "2022-07-27 16:15:31,583 - rank - INFO - Rank 0 -- interaction -- 0.3321972420089878\n",
      "2022-07-27 16:15:31,591 - tracker - INFO - Rank 0 -- tracking contacts -- 500 of 3270 of type shelter\n",
      "2022-07-27 16:15:31,996 - rank - INFO - Rank 0 -- tracker -- 0.41180119599448517\n",
      "2022-07-27 16:15:32,023 - epidemiology - INFO - CMS: Infection COMS-v2 for rank 0/1(2)0.0009183019865304232,0.0009181499481201172 - 2020-05-29 14:00:00\n",
      "2022-07-27 16:15:32,088 - rank - INFO - Rank 0 -- interaction_waiting -- 1.01790064945817e-05\n",
      "2022-07-27 16:15:32,110 - simulator - INFO - CMS: Timestep for rank 0/1 - 2.0176761879993137,2.017679214477539 - 2020-05-29 14:00:00\n",
      "\n",
      "2022-07-27 16:15:32,116 - rank - INFO - Next timestep\n",
      "2022-07-27 16:15:32,118 - simulator - INFO - ==================== timestep ====================\n",
      "2022-07-27 16:15:33,276 - rank - INFO - Rank 0 -- move_people -- 1.1573843600053806\n",
      "2022-07-27 16:15:33,278 - rank - INFO - Rank 0 -- move_people_waiting -- 5.19098830409348e-06\n",
      "2022-07-27 16:15:33,279 - activity_manager - INFO - CMS: People COMS for rank 0/1 - 9.062991011887789e-06,7.867813110351562e-06 - 2020-05-29 16:00:00\n",
      "2022-07-27 16:15:33,289 - simulator - INFO - Info for rank 0, Date = 2020-05-29 16:00:00, number of deaths =  0, number of infected = 1128\n",
      "2022-07-27 16:15:33,638 - rank - INFO - Rank 0 -- interaction -- 0.35629307499038987\n",
      "2022-07-27 16:15:33,650 - tracker - INFO - Rank 0 -- tracking contacts -- 500 of 3270 of type shelter\n",
      "2022-07-27 16:15:34,073 - rank - INFO - Rank 0 -- tracker -- 0.4337883160042111\n",
      "2022-07-27 16:15:34,092 - epidemiology - INFO - CMS: Infection COMS-v2 for rank 0/1(2)0.0002519040135666728,0.0002512931823730469 - 2020-05-29 16:00:00\n",
      "2022-07-27 16:15:34,148 - rank - INFO - Rank 0 -- interaction_waiting -- 1.227302709594369e-05\n",
      "2022-07-27 16:15:34,170 - simulator - INFO - CMS: Timestep for rank 0/1 - 2.0512690789764747,2.051270008087158 - 2020-05-29 16:00:00\n",
      "\n",
      "2022-07-27 16:15:34,174 - rank - INFO - Next timestep\n",
      "2022-07-27 16:15:34,176 - simulator - INFO - ==================== timestep ====================\n",
      "2022-07-27 16:15:35,273 - rank - INFO - Rank 0 -- move_people -- 1.0954791239928454\n",
      "2022-07-27 16:15:35,274 - rank - INFO - Rank 0 -- move_people_waiting -- 1.1422991519793868e-05\n",
      "2022-07-27 16:15:35,275 - activity_manager - INFO - CMS: People COMS for rank 0/1 - 4.280998837202787e-06,3.814697265625e-06 - 2020-05-29 18:00:00\n",
      "2022-07-27 16:15:35,284 - simulator - INFO - Info for rank 0, Date = 2020-05-29 18:00:00, number of deaths =  0, number of infected = 1162\n",
      "2022-07-27 16:15:35,595 - rank - INFO - Rank 0 -- interaction -- 0.3188490449974779\n",
      "2022-07-27 16:15:35,605 - tracker - INFO - Rank 0 -- tracking contacts -- 500 of 3270 of type shelter\n",
      "2022-07-27 16:15:36,032 - rank - INFO - Rank 0 -- tracker -- 0.43583030501031317\n",
      "2022-07-27 16:15:36,057 - epidemiology - INFO - CMS: Infection COMS-v2 for rank 0/1(2)0.0005671929975505918,0.0005667209625244141 - 2020-05-29 18:00:00\n",
      "2022-07-27 16:15:36,118 - rank - INFO - Rank 0 -- interaction_waiting -- 9.051000233739614e-06\n",
      "2022-07-27 16:15:36,141 - simulator - INFO - CMS: Timestep for rank 0/1 - 1.9632818539976142,1.9632823467254639 - 2020-05-29 18:00:00\n",
      "\n",
      "2022-07-27 16:15:36,144 - rank - INFO - Next timestep\n",
      "2022-07-27 16:15:36,145 - simulator - INFO - ==================== timestep ====================\n",
      "2022-07-27 16:15:36,401 - rank - INFO - Rank 0 -- move_people -- 0.2541660320130177\n",
      "2022-07-27 16:15:36,401 - rank - INFO - Rank 0 -- move_people_waiting -- 1.1104013537988067e-05\n",
      "2022-07-27 16:15:36,402 - activity_manager - INFO - CMS: People COMS for rank 0/1 - 4.042987711727619e-06,3.5762786865234375e-06 - 2020-05-29 20:00:00\n",
      "2022-07-27 16:15:36,408 - simulator - INFO - Info for rank 0, Date = 2020-05-29 20:00:00, number of deaths =  0, number of infected = 1200\n",
      "2022-07-27 16:15:36,610 - rank - INFO - Rank 0 -- interaction -- 0.20672183501301333\n",
      "2022-07-27 16:15:36,619 - tracker - INFO - Rank 0 -- tracking contacts -- 500 of 3270 of type shelter\n",
      "2022-07-27 16:15:37,984 - rank - INFO - Rank 0 -- tracker -- 1.371832261007512\n",
      "2022-07-27 16:15:38,074 - epidemiology - INFO - CMS: Infection COMS-v2 for rank 0/1(2)0.0003348900063429028,0.0003345012664794922 - 2020-05-29 20:00:00\n",
      "2022-07-27 16:15:38,137 - rank - INFO - Rank 0 -- interaction_waiting -- 7.811991963535547e-06\n",
      "2022-07-27 16:15:38,157 - simulator - INFO - CMS: Timestep for rank 0/1 - 2.0108506769756787,2.0108511447906494 - 2020-05-29 20:00:00\n",
      "\n",
      "2022-07-27 16:15:38,162 - rank - INFO - Next timestep\n",
      "2022-07-27 16:15:38,163 - simulator - INFO - ==================== timestep ====================\n",
      "2022-07-27 16:15:38,410 - rank - INFO - Rank 0 -- move_people -- 0.24454204298672266\n",
      "2022-07-27 16:15:38,412 - rank - INFO - Rank 0 -- move_people_waiting -- 1.4891003957018256e-05\n",
      "2022-07-27 16:15:38,414 - activity_manager - INFO - CMS: People COMS for rank 0/1 - 6.654998287558556e-06,6.198883056640625e-06 - 2020-05-30 09:00:00\n",
      "2022-07-27 16:15:38,422 - simulator - INFO - Info for rank 0, Date = 2020-05-30 09:00:00, number of deaths =  0, number of infected = 1333\n",
      "2022-07-27 16:15:38,624 - rank - INFO - Rank 0 -- interaction -- 0.20919464601320215\n",
      "2022-07-27 16:15:38,637 - tracker - INFO - Rank 0 -- tracking contacts -- 500 of 3270 of type shelter\n",
      "2022-07-27 16:15:39,850 - rank - INFO - Rank 0 -- tracker -- 1.2248703679942992\n",
      "2022-07-27 16:15:39,874 - epidemiology - INFO - CMS: Infection COMS-v2 for rank 0/1(2)0.00023233401589095592,0.0002319812774658203 - 2020-05-30 09:00:00\n",
      "2022-07-27 16:15:39,935 - rank - INFO - Rank 0 -- interaction_waiting -- 8.228002116084099e-06\n",
      "2022-07-27 16:15:39,957 - simulator - INFO - CMS: Timestep for rank 0/1 - 1.790910340991104,1.7909109592437744 - 2020-05-30 09:00:00\n",
      "\n",
      "2022-07-27 16:15:39,961 - rank - INFO - Next timestep\n",
      "2022-07-27 16:15:39,963 - simulator - INFO - ==================== timestep ====================\n",
      "2022-07-27 16:15:41,073 - rank - INFO - Rank 0 -- move_people -- 1.1088787959888577\n",
      "2022-07-27 16:15:41,074 - rank - INFO - Rank 0 -- move_people_waiting -- 8.320988854393363e-06\n",
      "2022-07-27 16:15:41,075 - activity_manager - INFO - CMS: People COMS for rank 0/1 - 3.5459815990179777e-06,3.0994415283203125e-06 - 2020-05-30 12:00:00\n",
      "2022-07-27 16:15:41,084 - simulator - INFO - Info for rank 0, Date = 2020-05-30 12:00:00, number of deaths =  0, number of infected = 1374\n",
      "2022-07-27 16:15:41,367 - rank - INFO - Rank 0 -- interaction -- 0.2909482810064219\n",
      "2022-07-27 16:15:41,374 - tracker - INFO - Rank 0 -- tracking contacts -- 500 of 3270 of type shelter\n",
      "2022-07-27 16:15:41,809 - rank - INFO - Rank 0 -- tracker -- 0.4414051159983501\n",
      "2022-07-27 16:15:41,840 - epidemiology - INFO - CMS: Infection COMS-v2 for rank 0/1(2)0.00027577797300182283,0.00027489662170410156 - 2020-05-30 12:00:00\n",
      "2022-07-27 16:15:41,903 - rank - INFO - Rank 0 -- interaction_waiting -- 9.786977898329496e-06\n",
      "2022-07-27 16:15:41,922 - simulator - INFO - CMS: Timestep for rank 0/1 - 1.9577753720222972,1.9577772617340088 - 2020-05-30 12:00:00\n",
      "\n",
      "2022-07-27 16:15:41,926 - rank - INFO - Next timestep\n",
      "2022-07-27 16:15:41,930 - simulator - INFO - ==================== timestep ====================\n",
      "2022-07-27 16:15:43,060 - rank - INFO - Rank 0 -- move_people -- 1.129301174019929\n",
      "2022-07-27 16:15:43,062 - rank - INFO - Rank 0 -- move_people_waiting -- 6.786023732274771e-06\n",
      "2022-07-27 16:15:43,064 - activity_manager - INFO - CMS: People COMS for rank 0/1 - 7.547991117462516e-06,6.9141387939453125e-06 - 2020-05-30 14:00:00\n",
      "2022-07-27 16:15:43,072 - simulator - INFO - Info for rank 0, Date = 2020-05-30 14:00:00, number of deaths =  0, number of infected = 1430\n",
      "2022-07-27 16:15:43,398 - rank - INFO - Rank 0 -- interaction -- 0.33262628299416974\n",
      "2022-07-27 16:15:43,406 - tracker - INFO - Rank 0 -- tracking contacts -- 500 of 3270 of type shelter\n",
      "2022-07-27 16:15:43,878 - rank - INFO - Rank 0 -- tracker -- 0.4793560160032939\n",
      "2022-07-27 16:15:43,914 - epidemiology - INFO - CMS: Infection COMS-v2 for rank 0/1(2)0.00039846598519943655,0.0003981590270996094 - 2020-05-30 14:00:00\n",
      "2022-07-27 16:15:43,995 - rank - INFO - Rank 0 -- interaction_waiting -- 1.1383992386981845e-05\n"
     ]
    },
    {
     "name": "stdout",
     "output_type": "stream",
     "text": [
      "2022-07-27 16:15:44,019 - simulator - INFO - CMS: Timestep for rank 0/1 - 2.0880615189962555,2.088062286376953 - 2020-05-30 14:00:00\n",
      "\n",
      "2022-07-27 16:15:44,023 - rank - INFO - Next timestep\n",
      "2022-07-27 16:15:44,025 - simulator - INFO - ==================== timestep ====================\n",
      "2022-07-27 16:15:45,150 - rank - INFO - Rank 0 -- move_people -- 1.124444233981194\n",
      "2022-07-27 16:15:45,151 - rank - INFO - Rank 0 -- move_people_waiting -- 7.001013727858663e-06\n",
      "2022-07-27 16:15:45,152 - activity_manager - INFO - CMS: People COMS for rank 0/1 - 4.324974725022912e-06,3.814697265625e-06 - 2020-05-30 16:00:00\n",
      "2022-07-27 16:15:45,159 - simulator - INFO - Info for rank 0, Date = 2020-05-30 16:00:00, number of deaths =  0, number of infected = 1475\n",
      "2022-07-27 16:15:45,490 - rank - INFO - Rank 0 -- interaction -- 0.33640534200822003\n",
      "2022-07-27 16:15:45,504 - tracker - INFO - Rank 0 -- tracking contacts -- 500 of 3270 of type shelter\n",
      "2022-07-27 16:15:45,926 - rank - INFO - Rank 0 -- tracker -- 0.43495549698127434\n",
      "2022-07-27 16:15:45,966 - epidemiology - INFO - CMS: Infection COMS-v2 for rank 0/1(2)0.000320667983032763,0.00031948089599609375 - 2020-05-30 16:00:00\n",
      "2022-07-27 16:15:46,033 - rank - INFO - Rank 0 -- interaction_waiting -- 8.347007678821683e-06\n",
      "2022-07-27 16:15:46,059 - simulator - INFO - CMS: Timestep for rank 0/1 - 2.0332137219957076,2.0332164764404297 - 2020-05-30 16:00:00\n",
      "\n",
      "2022-07-27 16:15:46,064 - rank - INFO - Next timestep\n",
      "2022-07-27 16:15:46,069 - simulator - INFO - ==================== timestep ====================\n",
      "2022-07-27 16:15:47,290 - rank - INFO - Rank 0 -- move_people -- 1.219907062011771\n",
      "2022-07-27 16:15:47,291 - rank - INFO - Rank 0 -- move_people_waiting -- 3.887020284309983e-06\n",
      "2022-07-27 16:15:47,292 - activity_manager - INFO - CMS: People COMS for rank 0/1 - 3.4800032153725624e-06,3.0994415283203125e-06 - 2020-05-30 18:00:00\n",
      "2022-07-27 16:15:47,302 - simulator - INFO - Info for rank 0, Date = 2020-05-30 18:00:00, number of deaths =  0, number of infected = 1532\n",
      "2022-07-27 16:15:47,657 - rank - INFO - Rank 0 -- interaction -- 0.36447498097550124\n",
      "2022-07-27 16:15:47,667 - tracker - INFO - Rank 0 -- tracking contacts -- 500 of 3270 of type shelter\n",
      "2022-07-27 16:15:48,119 - rank - INFO - Rank 0 -- tracker -- 0.4610089249908924\n",
      "2022-07-27 16:15:48,158 - epidemiology - INFO - CMS: Infection COMS-v2 for rank 0/1(2)0.0003162299981340766,0.0003154277801513672 - 2020-05-30 18:00:00\n",
      "2022-07-27 16:15:48,223 - rank - INFO - Rank 0 -- interaction_waiting -- 7.961993105709553e-06\n",
      "2022-07-27 16:15:48,242 - simulator - INFO - CMS: Timestep for rank 0/1 - 2.1719329350162297,2.1719343662261963 - 2020-05-30 18:00:00\n",
      "\n",
      "2022-07-27 16:15:48,246 - rank - INFO - Next timestep\n",
      "2022-07-27 16:15:48,247 - simulator - INFO - ==================== timestep ====================\n",
      "2022-07-27 16:15:48,525 - rank - INFO - Rank 0 -- move_people -- 0.27607364900177345\n",
      "2022-07-27 16:15:48,526 - rank - INFO - Rank 0 -- move_people_waiting -- 1.245702151209116e-05\n",
      "2022-07-27 16:15:48,527 - activity_manager - INFO - CMS: People COMS for rank 0/1 - 5.751993739977479e-06,5.245208740234375e-06 - 2020-05-30 20:00:00\n",
      "2022-07-27 16:15:48,538 - simulator - INFO - Info for rank 0, Date = 2020-05-30 20:00:00, number of deaths =  0, number of infected = 1585\n",
      "2022-07-27 16:15:48,769 - rank - INFO - Rank 0 -- interaction -- 0.2396986130042933\n",
      "2022-07-27 16:15:48,777 - tracker - INFO - Rank 0 -- tracking contacts -- 500 of 3270 of type shelter\n",
      "2022-07-27 16:15:50,154 - rank - INFO - Rank 0 -- tracker -- 1.3839250210148748\n",
      "2022-07-27 16:15:50,248 - epidemiology - INFO - CMS: Infection COMS-v2 for rank 0/1(2)0.0002640470047481358,0.000263214111328125 - 2020-05-30 20:00:00\n",
      "2022-07-27 16:15:50,315 - rank - INFO - Rank 0 -- interaction_waiting -- 1.0247982572764158e-05\n",
      "2022-07-27 16:15:50,340 - simulator - INFO - CMS: Timestep for rank 0/1 - 2.09088756001438,2.0908877849578857 - 2020-05-30 20:00:00\n",
      "\n",
      "2022-07-27 16:15:50,343 - rank - INFO - Next timestep\n",
      "2022-07-27 16:15:50,344 - simulator - INFO - ==================== timestep ====================\n",
      "2022-07-27 16:15:50,616 - rank - INFO - Rank 0 -- move_people -- 0.2703532390005421\n",
      "2022-07-27 16:15:50,617 - rank - INFO - Rank 0 -- move_people_waiting -- 9.81599441729486e-06\n",
      "2022-07-27 16:15:50,618 - activity_manager - INFO - CMS: People COMS for rank 0/1 - 5.170993972569704e-06,4.5299530029296875e-06 - 2020-05-31 09:00:00\n",
      "2022-07-27 16:15:50,626 - simulator - INFO - Info for rank 0, Date = 2020-05-31 09:00:00, number of deaths =  0, number of infected = 1766\n",
      "2022-07-27 16:15:50,829 - rank - INFO - Rank 0 -- interaction -- 0.20976206901832484\n",
      "2022-07-27 16:15:50,841 - tracker - INFO - Rank 0 -- tracking contacts -- 500 of 3270 of type shelter\n",
      "2022-07-27 16:15:51,675 - rank - INFO - Rank 0 -- tracker -- 0.8440387070004363\n",
      "2022-07-27 16:15:51,691 - epidemiology - INFO - CMS: Infection COMS-v2 for rank 0/1(2)0.0006434879906009883,0.0006427764892578125 - 2020-05-31 09:00:00\n",
      "2022-07-27 16:15:51,741 - rank - INFO - Rank 0 -- interaction_waiting -- 8.578004781156778e-06\n",
      "2022-07-27 16:15:51,758 - simulator - INFO - CMS: Timestep for rank 0/1 - 1.4124356700049248,1.41243577003479 - 2020-05-31 09:00:00\n",
      "\n",
      "2022-07-27 16:15:51,761 - rank - INFO - Next timestep\n",
      "2022-07-27 16:15:51,763 - simulator - INFO - ==================== timestep ====================\n",
      "2022-07-27 16:15:52,686 - rank - INFO - Rank 0 -- move_people -- 0.9213741479907185\n",
      "2022-07-27 16:15:52,686 - rank - INFO - Rank 0 -- move_people_waiting -- 6.196991307660937e-06\n",
      "2022-07-27 16:15:52,687 - activity_manager - INFO - CMS: People COMS for rank 0/1 - 3.60200647264719e-06,3.337860107421875e-06 - 2020-05-31 11:00:00\n",
      "2022-07-27 16:15:52,693 - simulator - INFO - Info for rank 0, Date = 2020-05-31 11:00:00, number of deaths =  0, number of infected = 1792\n",
      "2022-07-27 16:15:53,010 - rank - INFO - Rank 0 -- interaction -- 0.322214821993839\n",
      "2022-07-27 16:15:53,020 - tracker - INFO - Rank 0 -- tracking contacts -- 500 of 3270 of type shelter\n",
      "2022-07-27 16:15:53,333 - rank - INFO - Rank 0 -- tracker -- 0.32074857997940853\n",
      "2022-07-27 16:15:53,369 - epidemiology - INFO - CMS: Infection COMS-v2 for rank 0/1(2)0.00038328798837028444,0.0003829002380371094 - 2020-05-31 11:00:00\n",
      "2022-07-27 16:15:53,435 - rank - INFO - Rank 0 -- interaction_waiting -- 7.76100205257535e-06\n",
      "2022-07-27 16:15:53,453 - simulator - INFO - CMS: Timestep for rank 0/1 - 1.6887796040100511,1.6887791156768799 - 2020-05-31 11:00:00\n",
      "\n",
      "2022-07-27 16:15:53,457 - rank - INFO - Next timestep\n",
      "2022-07-27 16:15:53,458 - simulator - INFO - ==================== timestep ====================\n",
      "2022-07-27 16:15:54,418 - rank - INFO - Rank 0 -- move_people -- 0.9592539579898585\n",
      "2022-07-27 16:15:54,419 - rank - INFO - Rank 0 -- move_people_waiting -- 8.20099376142025e-06\n",
      "2022-07-27 16:15:54,419 - activity_manager - INFO - CMS: People COMS for rank 0/1 - 3.637978807091713e-06,3.337860107421875e-06 - 2020-05-31 13:00:00\n",
      "2022-07-27 16:15:54,426 - simulator - INFO - Info for rank 0, Date = 2020-05-31 13:00:00, number of deaths =  0, number of infected = 1855\n",
      "2022-07-27 16:15:54,717 - rank - INFO - Rank 0 -- interaction -- 0.29611566101084463\n",
      "2022-07-27 16:15:54,725 - tracker - INFO - Rank 0 -- tracking contacts -- 500 of 3270 of type shelter\n",
      "2022-07-27 16:15:55,026 - rank - INFO - Rank 0 -- tracker -- 0.30804457000340335\n",
      "2022-07-27 16:15:55,067 - epidemiology - INFO - CMS: Infection COMS-v2 for rank 0/1(2)0.00035571298212744296,0.00035500526428222656 - 2020-05-31 13:00:00\n",
      "2022-07-27 16:15:55,125 - rank - INFO - Rank 0 -- interaction_waiting -- 6.98401709087193e-06\n",
      "2022-07-27 16:15:55,141 - simulator - INFO - CMS: Timestep for rank 0/1 - 1.6826685279957019,1.6826696395874023 - 2020-05-31 13:00:00\n",
      "\n",
      "2022-07-27 16:15:55,145 - rank - INFO - Next timestep\n",
      "2022-07-27 16:15:55,147 - simulator - INFO - ==================== timestep ====================\n",
      "2022-07-27 16:15:56,227 - rank - INFO - Rank 0 -- move_people -- 1.0788977110059932\n",
      "2022-07-27 16:15:56,229 - rank - INFO - Rank 0 -- move_people_waiting -- 1.2519012670964003e-05\n",
      "2022-07-27 16:15:56,231 - activity_manager - INFO - CMS: People COMS for rank 0/1 - 7.410009857267141e-06,6.198883056640625e-06 - 2020-05-31 15:00:00\n"
     ]
    },
    {
     "name": "stdout",
     "output_type": "stream",
     "text": [
      "2022-07-27 16:15:56,240 - simulator - INFO - Info for rank 0, Date = 2020-05-31 15:00:00, number of deaths =  0, number of infected = 1935\n",
      "2022-07-27 16:15:56,615 - rank - INFO - Rank 0 -- interaction -- 0.3822640139842406\n",
      "2022-07-27 16:15:56,624 - tracker - INFO - Rank 0 -- tracking contacts -- 500 of 3270 of type shelter\n",
      "2022-07-27 16:15:56,983 - rank - INFO - Rank 0 -- tracker -- 0.36699338699691\n",
      "2022-07-27 16:15:57,031 - epidemiology - INFO - CMS: Infection COMS-v2 for rank 0/1(2)0.000601400010054931,0.0006010532379150391 - 2020-05-31 15:00:00\n",
      "2022-07-27 16:15:57,092 - rank - INFO - Rank 0 -- interaction_waiting -- 7.904978701844811e-06\n",
      "2022-07-27 16:15:57,119 - simulator - INFO - CMS: Timestep for rank 0/1 - 1.9705343690002337,1.9705350399017334 - 2020-05-31 15:00:00\n",
      "\n",
      "2022-07-27 16:15:57,122 - rank - INFO - Next timestep\n",
      "2022-07-27 16:15:57,123 - simulator - INFO - ==================== timestep ====================\n",
      "2022-07-27 16:15:58,201 - rank - INFO - Rank 0 -- move_people -- 1.076517816982232\n",
      "2022-07-27 16:15:58,203 - rank - INFO - Rank 0 -- move_people_waiting -- 1.4428980648517609e-05\n",
      "2022-07-27 16:15:58,204 - activity_manager - INFO - CMS: People COMS for rank 0/1 - 4.689005436375737e-06,4.0531158447265625e-06 - 2020-05-31 17:00:00\n",
      "2022-07-27 16:15:58,211 - simulator - INFO - Info for rank 0, Date = 2020-05-31 17:00:00, number of deaths =  0, number of infected = 2008\n",
      "2022-07-27 16:15:58,491 - rank - INFO - Rank 0 -- interaction -- 0.28671765100443736\n",
      "2022-07-27 16:15:58,500 - tracker - INFO - Rank 0 -- tracking contacts -- 500 of 3270 of type shelter\n",
      "2022-07-27 16:15:58,985 - rank - INFO - Rank 0 -- tracker -- 0.49236632700194605\n",
      "2022-07-27 16:15:59,032 - epidemiology - INFO - CMS: Infection COMS-v2 for rank 0/1(2)0.0002950409834738821,0.0002944469451904297 - 2020-05-31 17:00:00\n",
      "2022-07-27 16:15:59,107 - rank - INFO - Rank 0 -- interaction_waiting -- 1.045298995450139e-05\n",
      "2022-07-27 16:15:59,131 - simulator - INFO - CMS: Timestep for rank 0/1 - 2.0068807440111414,2.0068821907043457 - 2020-05-31 17:00:00\n",
      "\n",
      "2022-07-27 16:15:59,134 - rank - INFO - Next timestep\n",
      "2022-07-27 16:15:59,135 - simulator - INFO - ==================== timestep ====================\n",
      "2022-07-27 16:15:59,427 - rank - INFO - Rank 0 -- move_people -- 0.2898988899833057\n",
      "2022-07-27 16:15:59,428 - rank - INFO - Rank 0 -- move_people_waiting -- 1.3404001947492361e-05\n",
      "2022-07-27 16:15:59,429 - activity_manager - INFO - CMS: People COMS for rank 0/1 - 5.223992047831416e-06,4.5299530029296875e-06 - 2020-05-31 19:00:00\n",
      "2022-07-27 16:15:59,439 - simulator - INFO - Info for rank 0, Date = 2020-05-31 19:00:00, number of deaths =  0, number of infected = 2084\n",
      "2022-07-27 16:15:59,748 - rank - INFO - Rank 0 -- interaction -- 0.3170879329845775\n",
      "2022-07-27 16:15:59,758 - tracker - INFO - Rank 0 -- tracking contacts -- 500 of 3270 of type shelter\n",
      "2022-07-27 16:16:01,323 - rank - INFO - Rank 0 -- tracker -- 1.573645004973514\n",
      "2022-07-27 16:16:01,519 - epidemiology - INFO - CMS: Infection COMS-v2 for rank 0/1(2)0.0005745160160586238,0.0005733966827392578 - 2020-05-31 19:00:00\n",
      "2022-07-27 16:16:01,598 - rank - INFO - Rank 0 -- interaction_waiting -- 1.0544987162575126e-05\n",
      "2022-07-27 16:16:01,624 - simulator - INFO - CMS: Timestep for rank 0/1 - 2.486960274982266,2.486961603164673 - 2020-05-31 19:00:00\n",
      "\n",
      "CPU times: user 1min 33s, sys: 2.15 s, total: 1min 35s\n",
      "Wall time: 1min 33s\n"
     ]
    }
   ],
   "source": [
    "%%time\n",
    "simulator.run()"
   ]
  },
  {
   "cell_type": "markdown",
   "metadata": {},
   "source": [
    "# Getting the results"
   ]
  },
  {
   "cell_type": "markdown",
   "metadata": {},
   "source": [
    "All results are stored in a json file specified in the `record_path` when defining the recorder. This can be read in by passing the folder locations to the `RecordReader` class and results derived.\n",
    "\n",
    "Here we show some examples of the kind of analysis you can extract from the records."
   ]
  },
  {
   "cell_type": "code",
   "execution_count": 55,
   "metadata": {},
   "outputs": [],
   "source": [
    "import pandas as pd"
   ]
  },
  {
   "cell_type": "code",
   "execution_count": 56,
   "metadata": {},
   "outputs": [],
   "source": [
    "read = RecordReader(Results_Path)"
   ]
  },
  {
   "cell_type": "markdown",
   "metadata": {},
   "source": [
    "The regional summary gives you information at the regional (camp) level."
   ]
  },
  {
   "cell_type": "markdown",
   "metadata": {},
   "source": [
    "### Regional information"
   ]
  },
  {
   "cell_type": "code",
   "execution_count": 57,
   "metadata": {},
   "outputs": [
    {
     "data": {
      "text/html": [
       "<div>\n",
       "<style scoped>\n",
       "    .dataframe tbody tr th:only-of-type {\n",
       "        vertical-align: middle;\n",
       "    }\n",
       "\n",
       "    .dataframe tbody tr th {\n",
       "        vertical-align: top;\n",
       "    }\n",
       "\n",
       "    .dataframe thead th {\n",
       "        text-align: right;\n",
       "    }\n",
       "</style>\n",
       "<table border=\"1\" class=\"dataframe\">\n",
       "  <thead>\n",
       "    <tr style=\"text-align: right;\">\n",
       "      <th></th>\n",
       "      <th>region</th>\n",
       "      <th>current_infected</th>\n",
       "      <th>daily_infected</th>\n",
       "      <th>current_hospitalised</th>\n",
       "      <th>daily_hospitalised</th>\n",
       "      <th>current_intensive_care</th>\n",
       "      <th>daily_intensive_care</th>\n",
       "      <th>daily_hospital_deaths</th>\n",
       "      <th>daily_deaths</th>\n",
       "    </tr>\n",
       "    <tr>\n",
       "      <th>time_stamp</th>\n",
       "      <th></th>\n",
       "      <th></th>\n",
       "      <th></th>\n",
       "      <th></th>\n",
       "      <th></th>\n",
       "      <th></th>\n",
       "      <th></th>\n",
       "      <th></th>\n",
       "      <th></th>\n",
       "    </tr>\n",
       "  </thead>\n",
       "  <tbody>\n",
       "    <tr>\n",
       "      <th>2020-05-24</th>\n",
       "      <td>CXB-219</td>\n",
       "      <td>246.166667</td>\n",
       "      <td>269</td>\n",
       "      <td>0.0</td>\n",
       "      <td>0</td>\n",
       "      <td>0.0</td>\n",
       "      <td>0</td>\n",
       "      <td>0</td>\n",
       "      <td>0</td>\n",
       "    </tr>\n",
       "    <tr>\n",
       "      <th>2020-05-25</th>\n",
       "      <td>CXB-219</td>\n",
       "      <td>304.500000</td>\n",
       "      <td>88</td>\n",
       "      <td>0.0</td>\n",
       "      <td>0</td>\n",
       "      <td>0.0</td>\n",
       "      <td>0</td>\n",
       "      <td>0</td>\n",
       "      <td>0</td>\n",
       "    </tr>\n",
       "    <tr>\n",
       "      <th>2020-05-26</th>\n",
       "      <td>CXB-219</td>\n",
       "      <td>417.333333</td>\n",
       "      <td>141</td>\n",
       "      <td>0.0</td>\n",
       "      <td>0</td>\n",
       "      <td>0.0</td>\n",
       "      <td>0</td>\n",
       "      <td>0</td>\n",
       "      <td>0</td>\n",
       "    </tr>\n",
       "  </tbody>\n",
       "</table>\n",
       "</div>"
      ],
      "text/plain": [
       "             region  current_infected  daily_infected  current_hospitalised  \\\n",
       "time_stamp                                                                    \n",
       "2020-05-24  CXB-219        246.166667             269                   0.0   \n",
       "2020-05-25  CXB-219        304.500000              88                   0.0   \n",
       "2020-05-26  CXB-219        417.333333             141                   0.0   \n",
       "\n",
       "            daily_hospitalised  current_intensive_care  daily_intensive_care  \\\n",
       "time_stamp                                                                     \n",
       "2020-05-24                   0                     0.0                     0   \n",
       "2020-05-25                   0                     0.0                     0   \n",
       "2020-05-26                   0                     0.0                     0   \n",
       "\n",
       "            daily_hospital_deaths  daily_deaths  \n",
       "time_stamp                                       \n",
       "2020-05-24                      0             0  \n",
       "2020-05-25                      0             0  \n",
       "2020-05-26                      0             0  "
      ]
     },
     "execution_count": 57,
     "metadata": {},
     "output_type": "execute_result"
    }
   ],
   "source": [
    "read.regional_summary.head(3) # this is the equivalent of the summary.csv"
   ]
  },
  {
   "cell_type": "markdown",
   "metadata": {},
   "source": [
    "### Daily infections"
   ]
  },
  {
   "cell_type": "code",
   "execution_count": 58,
   "metadata": {},
   "outputs": [],
   "source": [
    "summary = read.regional_summary.reset_index()"
   ]
  },
  {
   "cell_type": "code",
   "execution_count": 59,
   "metadata": {},
   "outputs": [
    {
     "data": {
      "image/png": "[encoded data removed]",
      "text/plain": [
       "<Figure size 432x288 with 1 Axes>"
      ]
     },
     "metadata": {
      "needs_background": "light"
     },
     "output_type": "display_data"
    }
   ],
   "source": [
    "summary.groupby(['time_stamp']).sum().plot(y=['daily_infected'])\n",
    "plt.ylabel('Daily infections')\n",
    "plt.show()"
   ]
  },
  {
   "cell_type": "markdown",
   "metadata": {},
   "source": [
    "### Hospital and intensive care"
   ]
  },
  {
   "cell_type": "code",
   "execution_count": 60,
   "metadata": {},
   "outputs": [
    {
     "data": {
      "image/png": "[encoded data removed]",
      "text/plain": [
       "<Figure size 432x288 with 1 Axes>"
      ]
     },
     "metadata": {
      "needs_background": "light"
     },
     "output_type": "display_data"
    }
   ],
   "source": [
    "summary.groupby(['time_stamp']).sum().plot(y=['current_hospitalised', 'current_intensive_care'])\n",
    "plt.show()"
   ]
  },
  {
   "cell_type": "markdown",
   "metadata": {},
   "source": [
    "### Cumulative infections by age"
   ]
  },
  {
   "cell_type": "code",
   "execution_count": 61,
   "metadata": {},
   "outputs": [
    {
     "name": "stdout",
     "output_type": "stream",
     "text": [
      "2022-07-27 16:16:02,397 - june.records.records_reader - INFO - Loading infections table\n",
      "2022-07-27 16:16:02,423 - june.records.records_reader - INFO - Loading population table\n",
      "2022-07-27 16:16:02,531 - june.records.records_reader - INFO - Merging infection and population tables\n",
      "2022-07-27 16:16:02,545 - june.records.records_reader - INFO - Loading geography table\n",
      "2022-07-27 16:16:02,586 - june.records.records_reader - INFO - Mergeing infection and geography tables\n"
     ]
    }
   ],
   "source": [
    "infections_df = read.get_table_with_extras('infections',\n",
    "                                           'infected_ids')"
   ]
  },
  {
   "cell_type": "code",
   "execution_count": 62,
   "metadata": {},
   "outputs": [
    {
     "name": "stdout",
     "output_type": "stream",
     "text": [
      "2022-07-27 16:16:02,612 - june.records.records_reader - INFO - Loading deaths table\n",
      "2022-07-27 16:16:02,625 - june.records.records_reader - INFO - Loading population table\n",
      "2022-07-27 16:16:02,713 - june.records.records_reader - INFO - Merging infection and population tables\n",
      "2022-07-27 16:16:02,722 - june.records.records_reader - INFO - Loading geography table\n",
      "2022-07-27 16:16:02,757 - june.records.records_reader - INFO - Mergeing infection and geography tables\n"
     ]
    }
   ],
   "source": [
    "deaths_df = read.get_table_with_extras('deaths', \n",
    "                                       'dead_person_ids')"
   ]
  },
  {
   "cell_type": "code",
   "execution_count": 63,
   "metadata": {},
   "outputs": [],
   "source": [
    "age_bins = (0,20,60,100)"
   ]
  },
  {
   "cell_type": "code",
   "execution_count": 64,
   "metadata": {},
   "outputs": [],
   "source": [
    "infected_by_age = infections_df.groupby([pd.cut(infections_df['age'],\n",
    "            bins=age_bins), 'timestamp']).size()"
   ]
  },
  {
   "cell_type": "code",
   "execution_count": 65,
   "metadata": {},
   "outputs": [],
   "source": [
    "people_df = read.table_to_df('population')"
   ]
  },
  {
   "cell_type": "code",
   "execution_count": 66,
   "metadata": {},
   "outputs": [],
   "source": [
    "n_by_age = people_df.groupby(pd.cut(people_df['age'],\n",
    "            bins=age_bins)).size()"
   ]
  },
  {
   "cell_type": "code",
   "execution_count": 67,
   "metadata": {},
   "outputs": [
    {
     "data": {
      "text/plain": [
       "<matplotlib.legend.Legend at 0x7fc4a0818070>"
      ]
     },
     "execution_count": 67,
     "metadata": {},
     "output_type": "execute_result"
    },
    {
     "data": {
      "image/png": "[encoded data removed]",
      "text/plain": [
       "<Figure size 432x288 with 1 Axes>"
      ]
     },
     "metadata": {
      "needs_background": "light"
     },
     "output_type": "display_data"
    }
   ],
   "source": [
    "(100*infected_by_age/n_by_age).xs(10).cumsum().plot(label='0,20')\n",
    "(100*infected_by_age/n_by_age).xs(30).cumsum().plot(label='20,60')\n",
    "(100*infected_by_age/n_by_age).xs(70).cumsum().plot(label='60,100')\n",
    "plt.ylabel(\"% cumulative infected\")\n",
    "plt.legend()"
   ]
  },
  {
   "cell_type": "markdown",
   "metadata": {},
   "source": [
    "### Where people get infected"
   ]
  },
  {
   "cell_type": "code",
   "execution_count": 68,
   "metadata": {},
   "outputs": [],
   "source": [
    "locations_df = infections_df.groupby(['location_specs', \n",
    "                                'timestamp']).size()"
   ]
  },
  {
   "cell_type": "code",
   "execution_count": 69,
   "metadata": {},
   "outputs": [
    {
     "data": {
      "text/plain": [
       "<AxesSubplot:xlabel='timestamp'>"
      ]
     },
     "execution_count": 69,
     "metadata": {},
     "output_type": "execute_result"
    },
    {
     "data": {
      "image/png": "[encoded data removed]",
      "text/plain": [
       "<Figure size 432x288 with 1 Axes>"
      ]
     },
     "metadata": {
      "needs_background": "light"
     },
     "output_type": "display_data"
    }
   ],
   "source": [
    "locations_df.unstack(level=0).plot()"
   ]
  },
  {
   "cell_type": "code",
   "execution_count": 70,
   "metadata": {},
   "outputs": [
    {
     "data": {
      "text/plain": [
       "Text(0.5, 0, 'location')"
      ]
     },
     "execution_count": 70,
     "metadata": {},
     "output_type": "execute_result"
    },
    {
     "data": {
      "image/png": "[encoded data removed]",
      "text/plain": [
       "<Figure size 432x288 with 1 Axes>"
      ]
     },
     "metadata": {
      "needs_background": "light"
     },
     "output_type": "display_data"
    }
   ],
   "source": [
    "import matplotlib.ticker as mtick\n",
    "location_counts_df = locations_df.groupby('location_specs').size()\n",
    "location_counts_df = 100*location_counts_df / location_counts_df.sum()\n",
    "ax = location_counts_df.sort_values().plot.bar()\n",
    "ax.yaxis.set_major_formatter(mtick.PercentFormatter())\n",
    "plt.ylabel('Percentage of infections at location')\n",
    "plt.xlabel('location')"
   ]
  },
  {
   "cell_type": "markdown",
   "metadata": {},
   "source": [
    "# Tracker results"
   ]
  },
  {
   "cell_type": "markdown",
   "metadata": {},
   "source": [
    "We can define custom binnings with bin edges as such."
   ]
  },
  {
   "cell_type": "code",
   "execution_count": 71,
   "metadata": {},
   "outputs": [
    {
     "data": {
      "text/plain": [
       "1"
      ]
     },
     "execution_count": 71,
     "metadata": {},
     "output_type": "execute_result"
    }
   ],
   "source": [
    "simulator.tracker.contract_matrices(\"AC\", np.array([0,18,60]))"
   ]
  },
  {
   "cell_type": "markdown",
   "metadata": {},
   "source": [
    "Lastly we call the tracker to save the results to file and provide a print out of the results."
   ]
  },
  {
   "cell_type": "code",
   "execution_count": 72,
   "metadata": {
    "scrolled": false
   },
   "outputs": [
    {
     "name": "stdout",
     "output_type": "stream",
     "text": [
      "2.0 1.5\n",
      "Results from 1D interactions...\n",
      "\n",
      "  shelter:\n",
      "    contacts: [[4.8957,1.8614],[1.8614,4.8957]]\n",
      "    contacts_err: [[3.2281,2.2985],[2.2985,3.2281]]\n",
      "    proportion_physical: [[0.8000,0.3000],[0.8000,0.3000]]\n",
      "    characteristic_time: 12.00\n",
      "\n",
      "    Ratio of contacts and feed in values: [[0.9791,0.9307],[0.9307,0.9791]]\n",
      "\n",
      "Results from all contacts all interactions...\n",
      "\n",
      "  shelter:\n",
      "    contacts: [[1.3405,1.0508],[1.0508,1.3405]]\n",
      "    contacts_err: [[1.6892,1.7269],[1.7269,1.6892]]\n",
      "    proportion_physical: [[0.8000,0.3000],[0.8000,0.3000]]\n",
      "    characteristic_time: 12.00\n",
      "\n",
      "    Ratio of contacts and feed in values: [[0.2681,0.5254],[0.5254,0.2681]]\n",
      "\n"
     ]
    },
    {
     "data": {
      "text/plain": [
       "1"
      ]
     },
     "execution_count": 72,
     "metadata": {},
     "output_type": "execute_result"
    }
   ],
   "source": [
    "simulator.tracker.post_process_simulation(save=True)"
   ]
  },
  {
   "cell_type": "code",
   "execution_count": null,
   "metadata": {},
   "outputs": [],
   "source": []
  },
  {
   "cell_type": "code",
   "execution_count": null,
   "metadata": {},
   "outputs": [],
   "source": []
  }
 ],
 "metadata": {
  "kernelspec": {
   "display_name": "Python 3 (ipykernel)",
   "language": "python",
   "name": "python3"
  },
  "language_info": {
   "codemirror_mode": {
    "name": "ipython",
    "version": 3
   },
   "file_extension": ".py",
   "mimetype": "text/x-python",
   "name": "python",
   "nbconvert_exporter": "python",
   "pygments_lexer": "ipython3",
   "version": "3.8.10"
  }
 },
 "nbformat": 4,
 "nbformat_minor": 4
}
