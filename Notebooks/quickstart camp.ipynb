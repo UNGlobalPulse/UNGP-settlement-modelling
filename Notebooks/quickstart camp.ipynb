{
 "cells": [
  {
   "cell_type": "code",
   "execution_count": 1,
   "metadata": {},
   "outputs": [],
   "source": [
    "import warnings\n",
    "warnings.filterwarnings('ignore')"
   ]
  },
  {
   "cell_type": "code",
   "execution_count": 2,
   "metadata": {},
   "outputs": [],
   "source": [
    "import numpy as np\n",
    "import pandas as pd\n",
    "import time\n",
    "import matplotlib.pyplot as plt\n",
    "from datetime import datetime\n",
    "import sys\n",
    "import argparse\n",
    "from pathlib import Path"
   ]
  },
  {
   "cell_type": "code",
   "execution_count": 3,
   "metadata": {},
   "outputs": [
    {
     "name": "stderr",
     "output_type": "stream",
     "text": [
      "No --data argument given - defaulting to:\n",
      "/home/joseph/Documents/PhD/UN_Work/UNGP-settlement-modelling-private/data\n",
      "No --configs argument given - defaulting to:\n",
      "/home/joseph/Documents/PhD/UN_Work/JUNE-private/june/configs\n"
     ]
    },
    {
     "name": "stdout",
     "output_type": "stream",
     "text": [
      "2022-09-15 18:29:07,363 - camps.paths - WARNING - No --camp_data argument given - defaulting to:\n",
      "/home/joseph/Documents/PhD/UN_Work/UNGP-settlement-modelling-private/camp_data\n",
      "2022-09-15 18:29:07,365 - camps.paths - WARNING - No --configs_camps argument given - defaulting to:\n",
      "/home/joseph/Documents/PhD/UN_Work/UNGP-settlement-modelling-private/configs_camps\n"
     ]
    }
   ],
   "source": [
    "from june.geography import Geography\n",
    "from june.demography.demography import (\n",
    "    load_age_and_sex_generators_for_bins,\n",
    "    Demography,\n",
    "    Population,\n",
    "    load_comorbidity_data,\n",
    "    generate_comorbidity,\n",
    ")\n",
    "from june.paths import data_path, configs_path\n",
    "from june.epidemiology.epidemiology import Epidemiology\n",
    "from june.epidemiology.infection import ImmunitySetter\n",
    "from june.epidemiology.infection import Infection, HealthIndexGenerator, InfectionSelector, InfectionSelectors\n",
    "from june.epidemiology.infection_seed import InfectionSeed, InfectionSeeds\n",
    "from june.interaction import Interaction\n",
    "from june.groups import Hospital, Hospitals, Cemeteries\n",
    "from june.distributors import HospitalDistributor\n",
    "from june.hdf5_savers import generate_world_from_hdf5\n",
    "from june.policy import Policy, Policies\n",
    "from june.records import Record\n",
    "from june.simulator import Simulator\n",
    "from june.records import Record, RecordReader\n",
    "\n",
    "from camps.activity import CampActivityManager\n",
    "from camps.paths import camp_data_path, camp_configs_path\n",
    "from camps.world import World\n",
    "from camps.groups.leisure import generate_leisure_for_world, generate_leisure_for_config\n",
    "from camps.camp_creation import (\n",
    "    generate_empty_world,\n",
    "    populate_world,\n",
    "    distribute_people_to_households,\n",
    ")  # this is loaded from the ../camp_scripts folder\n",
    "\n",
    "from june.tracker.tracker import Tracker"
   ]
  },
  {
   "cell_type": "code",
   "execution_count": 4,
   "metadata": {},
   "outputs": [],
   "source": [
    "from camps.groups import PumpLatrines, PumpLatrineDistributor\n",
    "from camps.groups import DistributionCenters, DistributionCenterDistributor\n",
    "from camps.groups import Communals, CommunalDistributor\n",
    "from camps.groups import FemaleCommunals, FemaleCommunalDistributor\n",
    "from camps.groups import Religiouss, ReligiousDistributor\n",
    "from camps.groups import Shelter, Shelters, ShelterDistributor\n",
    "from camps.groups import IsolationUnit, IsolationUnits\n",
    "from camps.groups import LearningCenters\n",
    "from camps.distributors import LearningCenterDistributor\n",
    "from camps.groups import PlayGroups, PlayGroupDistributor\n",
    "from camps.groups import EVouchers, EVoucherDistributor\n",
    "from camps.groups import NFDistributionCenters, NFDistributionCenterDistributor\n",
    "from camps.groups import SheltersVisitsDistributor\n",
    "from camps.groups import InformalWorks, InformalWorkDistributor"
   ]
  },
  {
   "cell_type": "code",
   "execution_count": 5,
   "metadata": {},
   "outputs": [],
   "source": [
    "Results_Path = Path(\"results\")\n",
    "\n",
    "Config_File_Path = camp_configs_path / \"config_demo.yaml\"\n",
    "Interactions_File_Path = camp_configs_path / \"defaults/interaction/interaction_Survey.yaml\"\n",
    "Policies_File_Path = camp_configs_path / \"defaults/policy/simple_policy.yaml\"\n",
    "Hospitals_File_Path = camp_data_path / \"input/hospitals/hospitals.csv\"\n",
    "comorbidity_multipliers_path = camp_configs_path / \"defaults/comorbidities.yaml\"\n",
    "male_comorbidity_reference_prevalence_path = camp_data_path / \"input/demography/uk_male_comorbidities.csv\"\n",
    "female_comorbidity_reference_prevalence_path = camp_data_path / \"input/demography/uk_female_comorbidities.csv\""
   ]
  },
  {
   "cell_type": "markdown",
   "metadata": {},
   "source": [
    "## Initialize the world"
   ]
  },
  {
   "cell_type": "markdown",
   "metadata": {},
   "source": [
    "When we create the camp to be simulated, we call this the 'world'. The world is initialised after specifying which geographical regions you want to simulate. We can do this by using the `filter_key` argument in the `generate_empty_world` function. Cox's Bazar Expansion Site is made up of camps (which we call regions), UNHCR blocks (which we call super areas) and Mahjee blocks (which we call areas). These are the 3 heirarchical levels on which our model works. You can pass lists of the regions/super_areas/areas to the function here. Alternatively, by leaving the function empty you can generate the entire Cox's Bazar Expansion Site consisting of 112 super areas."
   ]
  },
  {
   "cell_type": "code",
   "execution_count": 6,
   "metadata": {},
   "outputs": [
    {
     "name": "stdout",
     "output_type": "stream",
     "text": [
      "2022-09-15 18:29:08,149 - june.geography.geography - INFO - There are 65 areas and 4 super_areas and 1 regions in the world.\n"
     ]
    }
   ],
   "source": [
    "# create empty world's geography\n",
    "world = generate_empty_world(filter_key = {\"region\" : [\"CXB-219\"]})"
   ]
  },
  {
   "cell_type": "code",
   "execution_count": 7,
   "metadata": {},
   "outputs": [],
   "source": [
    "# populate empty world\n",
    "populate_world(world)"
   ]
  },
  {
   "cell_type": "code",
   "execution_count": 8,
   "metadata": {},
   "outputs": [
    {
     "name": "stdout",
     "output_type": "stream",
     "text": [
      "Distributing 467 people to CXB-219-001\n",
      "Distributing 369 people to CXB-219-002\n",
      "Distributing 330 people to CXB-219-003\n",
      "Distributing 386 people to CXB-219-004\n",
      "Distributing 314 people to CXB-219-005\n",
      "Distributing 330 people to CXB-219-006\n",
      "Distributing 259 people to CXB-219-007\n",
      "Distributing 350 people to CXB-219-009\n",
      "Distributing 275 people to CXB-219-010\n",
      "Distributing 249 people to CXB-219-011\n",
      "Distributing 463 people to CXB-219-012\n",
      "Distributing 418 people to CXB-219-013\n",
      "Distributing 460 people to CXB-219-014\n",
      "Distributing 384 people to CXB-219-017\n",
      "Distributing 417 people to CXB-219-020\n",
      "Distributing 425 people to CXB-219-021\n",
      "Distributing 414 people to CXB-219-022\n",
      "Distributing 384 people to CXB-219-024\n",
      "Distributing 378 people to CXB-219-025\n",
      "Distributing 378 people to CXB-219-026\n",
      "Distributing 413 people to CXB-219-027\n",
      "Distributing 392 people to CXB-219-028\n",
      "Distributing 331 people to CXB-219-029\n",
      "Distributing 459 people to CXB-219-030\n",
      "Distributing 393 people to CXB-219-032\n",
      "Distributing 339 people to CXB-219-033\n",
      "Distributing 373 people to CXB-219-034\n",
      "Distributing 259 people to CXB-219-036\n",
      "Distributing 455 people to CXB-219-037\n",
      "Distributing 459 people to CXB-219-038\n",
      "Distributing 488 people to CXB-219-039\n",
      "Distributing 174 people to CXB-219-040\n",
      "Distributing 330 people to CXB-219-041\n",
      "Distributing 398 people to CXB-219-042\n",
      "Distributing 398 people to CXB-219-043\n",
      "Distributing 368 people to CXB-219-044\n",
      "Distributing 429 people to CXB-219-045\n",
      "Distributing 449 people to CXB-219-046\n",
      "Distributing 244 people to CXB-219-047\n",
      "Distributing 311 people to CXB-219-048\n",
      "Distributing 336 people to CXB-219-049\n",
      "Distributing 207 people to CXB-219-050\n",
      "Distributing 343 people to CXB-219-051\n",
      "Distributing 347 people to CXB-219-052\n",
      "Distributing 534 people to CXB-219-053\n",
      "Distributing 381 people to CXB-219-054\n",
      "Distributing 252 people to CXB-219-055\n",
      "Distributing 274 people to CXB-219-056\n",
      "Distributing 247 people to CXB-219-057\n",
      "Distributing 376 people to CXB-219-058\n",
      "Distributing 341 people to CXB-219-059\n",
      "Distributing 330 people to CXB-219-060\n",
      "Distributing 414 people to CXB-219-061\n",
      "Distributing 258 people to CXB-219-062\n",
      "Distributing 286 people to CXB-219-063\n",
      "Distributing 194 people to CXB-219-064\n",
      "Distributing 212 people to CXB-219-065\n",
      "Distributing 330 people to CXB-219-066\n",
      "Distributing 315 people to CXB-219-067\n",
      "Distributing 386 people to CXB-219-068\n",
      "Distributing 552 people to CXB-219-069\n",
      "Distributing 321 people to CXB-219-070\n",
      "Distributing 217 people to CXB-219-071\n",
      "Distributing 312 people to CXB-234-001\n",
      "Distributing 276 people to CXB-234-002\n"
     ]
    }
   ],
   "source": [
    "# distribute people to households\n",
    "distribute_people_to_households(world)"
   ]
  },
  {
   "cell_type": "code",
   "execution_count": 9,
   "metadata": {},
   "outputs": [
    {
     "name": "stdout",
     "output_type": "stream",
     "text": [
      "2022-09-15 18:29:18,169 - learning_centers - INFO - There are 1243 learning center(s)\n"
     ]
    }
   ],
   "source": [
    "LearningCenters.Get_Interaction(Interactions_File_Path)\n",
    "world.learning_centers = LearningCenters.for_areas(world.areas)\n",
    "\n",
    "learningcenter_distributor = LearningCenterDistributor.from_file(world.learning_centers)\n",
    "\n",
    "learningcenter_distributor.distribute_teachers_to_learning_centers(world.areas)\n",
    "learningcenter_distributor.distribute_kids_to_learning_centers(world.areas)"
   ]
  },
  {
   "cell_type": "code",
   "execution_count": 10,
   "metadata": {},
   "outputs": [
    {
     "name": "stdout",
     "output_type": "stream",
     "text": [
      "2022-09-15 18:29:19,420 - hospitals - INFO - There are 8 hospitals in the world.\n",
      "2022-09-15 18:29:19,438 - isolation units - INFO - There are 8 isolation unit(s)\n"
     ]
    }
   ],
   "source": [
    "# distribute hospitals\n",
    "Hospitals.Get_Interaction(Interactions_File_Path)\n",
    "IsolationUnits.Get_Interaction(Interactions_File_Path)\n",
    "\n",
    "hospitals = Hospitals.from_file(\n",
    "    filename=Hospitals_File_Path\n",
    ")\n",
    "\n",
    "\n",
    "for hospital in hospitals:\n",
    "    hospital.area = world.areas.get_closest_area(hospital.coordinates)\n",
    "    \n",
    "world.hospitals = hospitals\n",
    "hospital_distributor = HospitalDistributor(\n",
    "    hospitals, medic_min_age=20, patients_per_medic=10\n",
    ")\n",
    "hospital_distributor.assign_closest_hospitals_to_super_areas(\n",
    "    world.super_areas\n",
    ")\n",
    "\n",
    "world.isolation_units = IsolationUnits([IsolationUnit(area=hospital.area) for hospital in world.hospitals])\n",
    "hospital_distributor.distribute_medics_from_world(world.people)"
   ]
  },
  {
   "cell_type": "code",
   "execution_count": 11,
   "metadata": {},
   "outputs": [
    {
     "name": "stdout",
     "output_type": "stream",
     "text": [
      "2022-09-15 18:29:19,576 - social_venue - INFO - Domain 0 has 82 pump_latrines(s)\n",
      "2022-09-15 18:29:19,728 - social_venue - INFO - Domain 0 has 539 play_groups(s)\n",
      "2022-09-15 18:29:19,779 - social_venue - INFO - Domain 0 has 21 distribution_centers(s)\n",
      "2022-09-15 18:29:19,880 - social_venue - INFO - Domain 0 has 115 communals(s)\n",
      "2022-09-15 18:29:19,948 - social_venue - INFO - Domain 0 has 67 female_communals(s)\n",
      "2022-09-15 18:29:21,240 - social_venue - INFO - Domain 0 has 2065 religiouss(s)\n",
      "2022-09-15 18:29:21,305 - social_venue - INFO - Domain 0 has 7 e_vouchers(s)\n",
      "2022-09-15 18:29:21,381 - social_venue - INFO - Domain 0 has 41 n_f_distribution_centers(s)\n",
      "2022-09-15 18:29:21,430 - social_venue - INFO - Domain 0 has 81 informal_works(s)\n"
     ]
    }
   ],
   "source": [
    "PumpLatrines.Get_Interaction(Interactions_File_Path)\n",
    "world.pump_latrines = PumpLatrines.for_areas(world.areas)\n",
    "\n",
    "PlayGroups.Get_Interaction(Interactions_File_Path)\n",
    "world.play_groups = PlayGroups.for_areas(world.areas)\n",
    "\n",
    "DistributionCenters.Get_Interaction(Interactions_File_Path)\n",
    "world.distribution_centers = DistributionCenters.for_areas(world.areas)\n",
    "\n",
    "Communals.Get_Interaction(Interactions_File_Path)\n",
    "world.communals = Communals.for_areas(world.areas)\n",
    "\n",
    "FemaleCommunals.Get_Interaction(Interactions_File_Path)\n",
    "world.female_communals = FemaleCommunals.for_areas(world.areas)\n",
    "\n",
    "Religiouss.Get_Interaction(Interactions_File_Path)\n",
    "world.religiouss = Religiouss.for_areas(world.areas)\n",
    "\n",
    "EVouchers.Get_Interaction(Interactions_File_Path)\n",
    "world.e_vouchers = EVouchers.for_areas(world.areas)\n",
    "\n",
    "NFDistributionCenters.Get_Interaction(Interactions_File_Path)\n",
    "world.n_f_distribution_centers = NFDistributionCenters.for_areas(world.areas)\n",
    "\n",
    "InformalWorks.Get_Interaction(Interactions_File_Path)\n",
    "world.informal_works = InformalWorks.for_areas(world.areas)"
   ]
  },
  {
   "cell_type": "code",
   "execution_count": 12,
   "metadata": {},
   "outputs": [
    {
     "name": "stdout",
     "output_type": "stream",
     "text": [
      "cemetery not defined in interaction yaml or defualt options\n"
     ]
    }
   ],
   "source": [
    "world.cemeteries = Cemeteries()"
   ]
  },
  {
   "cell_type": "markdown",
   "metadata": {},
   "source": [
    "## Geography exploration"
   ]
  },
  {
   "cell_type": "markdown",
   "metadata": {},
   "source": [
    "The geography is initialised first and can be explored."
   ]
  },
  {
   "cell_type": "markdown",
   "metadata": {},
   "source": [
    "### UNHCR camp blocks inside the World"
   ]
  },
  {
   "cell_type": "code",
   "execution_count": 13,
   "metadata": {},
   "outputs": [],
   "source": [
    "super_areas = []\n",
    "for super_area in world.super_areas:\n",
    "    super_areas.append(super_area.name)"
   ]
  },
  {
   "cell_type": "code",
   "execution_count": 14,
   "metadata": {},
   "outputs": [
    {
     "data": {
      "text/plain": [
       "['CXB-219-A', 'CXB-219-B', 'CXB-219-C', 'CXB-219-D']"
      ]
     },
     "execution_count": 14,
     "metadata": {},
     "output_type": "execute_result"
    }
   ],
   "source": [
    "super_areas[:5]"
   ]
  },
  {
   "cell_type": "markdown",
   "metadata": {},
   "source": [
    "### Mahjee blocks inside World"
   ]
  },
  {
   "cell_type": "code",
   "execution_count": 15,
   "metadata": {},
   "outputs": [],
   "source": [
    "areas = []\n",
    "for area in world.areas:\n",
    "    areas.append(area.name)"
   ]
  },
  {
   "cell_type": "code",
   "execution_count": 16,
   "metadata": {},
   "outputs": [
    {
     "data": {
      "text/plain": [
       "['CXB-219-001', 'CXB-219-002', 'CXB-219-003', 'CXB-219-004', 'CXB-219-005']"
      ]
     },
     "execution_count": 16,
     "metadata": {},
     "output_type": "execute_result"
    }
   ],
   "source": [
    "areas[:5]"
   ]
  },
  {
   "cell_type": "markdown",
   "metadata": {},
   "source": [
    "## Demography exploration"
   ]
  },
  {
   "cell_type": "markdown",
   "metadata": {},
   "source": [
    "Once we have populated the 'digital twin' we can explore some of the attributes of the people we have created in the simulation."
   ]
  },
  {
   "cell_type": "markdown",
   "metadata": {},
   "source": [
    "### UNHCR block residents"
   ]
  },
  {
   "cell_type": "code",
   "execution_count": 17,
   "metadata": {},
   "outputs": [],
   "source": [
    "sample_ages = []\n",
    "sample_sexes = []\n",
    "for person in world.super_areas.members[0].people:\n",
    "    sample_ages.append(person.age)\n",
    "    sample_sexes.append(person.sex)"
   ]
  },
  {
   "cell_type": "code",
   "execution_count": 18,
   "metadata": {},
   "outputs": [
    {
     "data": {
      "text/plain": [
       "(['f', 'f', 'f', 'f', 'm'], [37, 61, 32, 17, 54])"
      ]
     },
     "execution_count": 18,
     "metadata": {},
     "output_type": "execute_result"
    }
   ],
   "source": [
    "sample_sexes[:5], sample_ages[:5]"
   ]
  },
  {
   "cell_type": "code",
   "execution_count": 19,
   "metadata": {},
   "outputs": [
    {
     "data": {
      "image/png": "[encoded data removed]",
      "text/plain": [
       "<Figure size 432x288 with 1 Axes>"
      ]
     },
     "metadata": {
      "needs_background": "light"
     },
     "output_type": "display_data"
    }
   ],
   "source": [
    "ages, counts = np.unique(sample_ages, return_counts=True)\n",
    "plt.bar(ages, counts)\n",
    "plt.title('super area: {} age distribution'.format(world.super_areas.members[0].name))\n",
    "plt.show()"
   ]
  },
  {
   "cell_type": "code",
   "execution_count": 20,
   "metadata": {},
   "outputs": [
    {
     "name": "stdout",
     "output_type": "stream",
     "text": [
      "The % children between ages 0-16 is 49%\n"
     ]
    }
   ],
   "source": [
    "print ('The % children between ages 0-16 is {}%'.format(round(np.sum(counts[:16])/(np.sum(counts[:16])+np.sum(counts[16:]))*100)))"
   ]
  },
  {
   "cell_type": "markdown",
   "metadata": {},
   "source": [
    "## Households"
   ]
  },
  {
   "cell_type": "markdown",
   "metadata": {},
   "source": [
    "In this model, we will use the term 'family' and 'household' interchangeably. After populating the 'digital twin', we need to cluster people into families. To do this, we take account of age structure so that children live with adults, that there are some intergenerational households and such that we might also have some households of only adults."
   ]
  },
  {
   "cell_type": "markdown",
   "metadata": {},
   "source": [
    "### Household size distribution"
   ]
  },
  {
   "cell_type": "code",
   "execution_count": 21,
   "metadata": {},
   "outputs": [
    {
     "data": {
      "image/png": "[encoded data removed]",
      "text/plain": [
       "<Figure size 432x288 with 1 Axes>"
      ]
     },
     "metadata": {
      "needs_background": "light"
     },
     "output_type": "display_data"
    }
   ],
   "source": [
    "household_sizes = [household.size for household in world.households]\n",
    "plt.hist(household_sizes, density=True, bins=np.arange(0,12))\n",
    "plt.xlabel(\"Household size\")\n",
    "plt.ylabel(\"Frequency\")\n",
    "plt.axvline(np.mean(household_sizes), color=\"cyan\")\n",
    "plt.text(8, 0.150, f\"Avg. size: {(np.mean(household_sizes)):.2f}\")\n",
    "plt.show()"
   ]
  },
  {
   "cell_type": "markdown",
   "metadata": {},
   "source": [
    "# Shelters"
   ]
  },
  {
   "cell_type": "markdown",
   "metadata": {},
   "source": [
    "Shelters house people in the camp. Since we know that families (houseohlds) often share shelters with other families, we can set the `sharing_shelter_ratio` to cluster families into shared shelters."
   ]
  },
  {
   "cell_type": "code",
   "execution_count": 22,
   "metadata": {},
   "outputs": [],
   "source": [
    "Shelters.Get_Interaction(Interactions_File_Path)\n",
    "world.shelters = Shelters.for_areas(world.areas)\n",
    "shelter_distributor = ShelterDistributor(sharing_shelter_ratio = 0.75) # proportion of families that share a shelter\n",
    "for area in world.areas:\n",
    "    shelter_distributor.distribute_people_in_shelters(area.shelters, area.households)"
   ]
  },
  {
   "cell_type": "code",
   "execution_count": 23,
   "metadata": {},
   "outputs": [
    {
     "data": {
      "image/png": "[encoded data removed]",
      "text/plain": [
       "<Figure size 576x216 with 2 Axes>"
      ]
     },
     "metadata": {
      "needs_background": "light"
     },
     "output_type": "display_data"
    }
   ],
   "source": [
    "fig, ax = plt.subplots(1, 2, figsize=(8,3))\n",
    "shelter_sizes = [shelter.size for shelter in world.shelters]\n",
    "shelter_families = [shelter.n_families for shelter in world.shelters]\n",
    "ax[0].hist(shelter_sizes)\n",
    "ax[0].set_title(\"Shelter size\")\n",
    "shelter_families = {1 : len([shelter for shelter in world.shelters if shelter.n_families == 1]),\n",
    "                    2 : len([shelter for shelter in world.shelters if shelter.n_families == 2])}\n",
    "ax[1].bar(shelter_families.keys(), shelter_families.values())\n",
    "ax[1].set_title(\"# families per shelter\")\n",
    "plt.show()"
   ]
  },
  {
   "cell_type": "markdown",
   "metadata": {},
   "source": [
    "## Activity exploration"
   ]
  },
  {
   "cell_type": "markdown",
   "metadata": {},
   "source": [
    "Once different activity locations are seeded in the 'digital twin' we can explore how many there are in different areas of the twin, and their coordinates to check they've all been added correctly."
   ]
  },
  {
   "cell_type": "markdown",
   "metadata": {},
   "source": [
    "### Pumps and latrines "
   ]
  },
  {
   "cell_type": "code",
   "execution_count": 24,
   "metadata": {},
   "outputs": [],
   "source": [
    "pumps_and_latrines = []\n",
    "for pump_latrine in world.areas.members[0].pump_latrines:\n",
    "    pumps_and_latrines.append(pump_latrine)"
   ]
  },
  {
   "cell_type": "code",
   "execution_count": 25,
   "metadata": {},
   "outputs": [
    {
     "name": "stdout",
     "output_type": "stream",
     "text": [
      "There are 2 pumps and latrines in area CXB-219-001\n"
     ]
    }
   ],
   "source": [
    "print ('There are {} pumps and latrines in area {}'.format(len(pumps_and_latrines), world.areas.members[0].name))"
   ]
  },
  {
   "cell_type": "markdown",
   "metadata": {},
   "source": [
    "### Informal work"
   ]
  },
  {
   "cell_type": "code",
   "execution_count": 26,
   "metadata": {},
   "outputs": [],
   "source": [
    "Informal_work_Sites = []\n",
    "for informal_work in world.areas.members[0].informal_works:\n",
    "    Informal_work_Sites.append(informal_work)"
   ]
  },
  {
   "cell_type": "code",
   "execution_count": 27,
   "metadata": {},
   "outputs": [
    {
     "name": "stdout",
     "output_type": "stream",
     "text": [
      "There are 2 informal work sites in area CXB-219-001\n"
     ]
    }
   ],
   "source": [
    "print ('There are {} informal work sites in area {}'.format(len(Informal_work_Sites), world.areas.members[0].name))"
   ]
  },
  {
   "cell_type": "markdown",
   "metadata": {},
   "source": [
    "### Distribution centers"
   ]
  },
  {
   "cell_type": "code",
   "execution_count": 28,
   "metadata": {},
   "outputs": [],
   "source": [
    "distribution_centers = []\n",
    "for center in world.distribution_centers:\n",
    "    distribution_centers.append(center)"
   ]
  },
  {
   "cell_type": "code",
   "execution_count": 29,
   "metadata": {},
   "outputs": [
    {
     "data": {
      "text/plain": [
       "array([21.2136    , 92.15678833])"
      ]
     },
     "execution_count": 29,
     "metadata": {},
     "output_type": "execute_result"
    }
   ],
   "source": [
    "distribution_centers[0].coordinates"
   ]
  },
  {
   "cell_type": "markdown",
   "metadata": {},
   "source": [
    "### Non-food Distribution centers"
   ]
  },
  {
   "cell_type": "code",
   "execution_count": 30,
   "metadata": {},
   "outputs": [],
   "source": [
    "non_food_distribution_centers = []\n",
    "for center in world.n_f_distribution_centers:\n",
    "    non_food_distribution_centers.append(center)"
   ]
  },
  {
   "cell_type": "code",
   "execution_count": 31,
   "metadata": {},
   "outputs": [
    {
     "data": {
      "text/plain": [
       "array([21.21268167, 92.1438    ])"
      ]
     },
     "execution_count": 31,
     "metadata": {},
     "output_type": "execute_result"
    }
   ],
   "source": [
    "non_food_distribution_centers[0].coordinates"
   ]
  },
  {
   "cell_type": "markdown",
   "metadata": {},
   "source": [
    "### E-Voucher outlets"
   ]
  },
  {
   "cell_type": "code",
   "execution_count": 32,
   "metadata": {},
   "outputs": [],
   "source": [
    "e_voucher_outlets = []\n",
    "for center in world.e_vouchers:\n",
    "    e_voucher_outlets.append(center)"
   ]
  },
  {
   "cell_type": "code",
   "execution_count": 33,
   "metadata": {},
   "outputs": [
    {
     "data": {
      "text/plain": [
       "array([21.212945, 92.142915])"
      ]
     },
     "execution_count": 33,
     "metadata": {},
     "output_type": "execute_result"
    }
   ],
   "source": [
    "e_voucher_outlets[0].coordinates"
   ]
  },
  {
   "cell_type": "markdown",
   "metadata": {},
   "source": [
    "### Communal spaces"
   ]
  },
  {
   "cell_type": "code",
   "execution_count": 34,
   "metadata": {},
   "outputs": [],
   "source": [
    "communal_spaces = []\n",
    "for space in world.communals:\n",
    "    communal_spaces.append(space)"
   ]
  },
  {
   "cell_type": "code",
   "execution_count": 35,
   "metadata": {},
   "outputs": [
    {
     "data": {
      "text/plain": [
       "array([21.19508, 92.16525])"
      ]
     },
     "execution_count": 35,
     "metadata": {},
     "output_type": "execute_result"
    }
   ],
   "source": [
    "communal_spaces[0].coordinates"
   ]
  },
  {
   "cell_type": "markdown",
   "metadata": {},
   "source": [
    "### Female friendly communal spaces"
   ]
  },
  {
   "cell_type": "code",
   "execution_count": 36,
   "metadata": {},
   "outputs": [],
   "source": [
    "female_communal_spaces = []\n",
    "for space in world.female_communals:\n",
    "    female_communal_spaces.append(space)"
   ]
  },
  {
   "cell_type": "code",
   "execution_count": 37,
   "metadata": {},
   "outputs": [
    {
     "data": {
      "text/plain": [
       "array([21.20686305, 92.16070923])"
      ]
     },
     "execution_count": 37,
     "metadata": {},
     "output_type": "execute_result"
    }
   ],
   "source": [
    "female_communal_spaces[0].coordinates"
   ]
  },
  {
   "cell_type": "markdown",
   "metadata": {},
   "source": [
    "### Religious sites"
   ]
  },
  {
   "cell_type": "code",
   "execution_count": 38,
   "metadata": {},
   "outputs": [],
   "source": [
    "religious = []\n",
    "for rel in world.religiouss:\n",
    "    religious.append(rel)"
   ]
  },
  {
   "cell_type": "code",
   "execution_count": 39,
   "metadata": {},
   "outputs": [
    {
     "data": {
      "text/plain": [
       "array([21.21804605, 92.1546829 ])"
      ]
     },
     "execution_count": 39,
     "metadata": {},
     "output_type": "execute_result"
    }
   ],
   "source": [
    "religious[0].coordinates"
   ]
  },
  {
   "cell_type": "markdown",
   "metadata": {},
   "source": [
    "# Adding the infection"
   ]
  },
  {
   "cell_type": "markdown",
   "metadata": {},
   "source": [
    "The selector handles how infections are handled in the code. You can set different 'symptom trajectories' (e.g. exposed->mild->severe->hospitalised->intensive care) from different files. Here, we use the default."
   ]
  },
  {
   "cell_type": "code",
   "execution_count": 40,
   "metadata": {},
   "outputs": [],
   "source": [
    "selector = InfectionSelector.from_file()"
   ]
  },
  {
   "cell_type": "code",
   "execution_count": 41,
   "metadata": {},
   "outputs": [],
   "source": [
    "selectors = InfectionSelectors([selector])"
   ]
  },
  {
   "cell_type": "markdown",
   "metadata": {},
   "source": [
    "# Adding the interaction"
   ]
  },
  {
   "cell_type": "markdown",
   "metadata": {},
   "source": [
    "The interaction class handles how many contacts people have in different locations and with who. If contact matrices are available, these can be coded in a `.yaml` file and fed into the class here."
   ]
  },
  {
   "cell_type": "code",
   "execution_count": 42,
   "metadata": {},
   "outputs": [],
   "source": [
    "interaction = Interaction.from_file(\n",
    "    config_filename=Interactions_File_Path,\n",
    ")"
   ]
  },
  {
   "cell_type": "markdown",
   "metadata": {},
   "source": [
    "# Set policies"
   ]
  },
  {
   "cell_type": "markdown",
   "metadata": {},
   "source": [
    "Policies control how 'operational interventions' are set in the camp. Here we set some social distancing policies, policies relating to medical care, such as people with severe symptoms being hospitalised, and individual and activity policies which can dynamically change how often and where people go, e.g. here, we close all female communal spaces and non-food distirbution centers which the camp did back in March"
   ]
  },
  {
   "cell_type": "code",
   "execution_count": 43,
   "metadata": {},
   "outputs": [],
   "source": [
    "policies = Policies.from_file(\n",
    "        Policies_File_Path,\n",
    "        base_policy_modules=(\"june.policy\", \"camps.policy\"),\n",
    "    )"
   ]
  },
  {
   "cell_type": "code",
   "execution_count": 44,
   "metadata": {},
   "outputs": [
    {
     "data": {
      "text/plain": [
       "[<june.policy.interaction_policies.SocialDistancing at 0x7f3c72e63f70>,\n",
       " <june.policy.medical_care_policies.Hospitalisation at 0x7f3c72e63190>,\n",
       " <june.policy.individual_policies.SevereSymptomsStayHome at 0x7f3c72e638b0>,\n",
       " <june.policy.individual_policies.Quarantine at 0x7f3c72e63d00>]"
      ]
     },
     "execution_count": 44,
     "metadata": {},
     "output_type": "execute_result"
    }
   ],
   "source": [
    "policies.policies"
   ]
  },
  {
   "cell_type": "markdown",
   "metadata": {},
   "source": [
    "# Seed the disease"
   ]
  },
  {
   "cell_type": "markdown",
   "metadata": {},
   "source": [
    "Set intial seeding conditions. This can be done at the camp level specifically, or generally by seeding them randomly. Here the `n_cases` is the number of randomly seeded people over the entire population."
   ]
  },
  {
   "cell_type": "code",
   "execution_count": 45,
   "metadata": {},
   "outputs": [],
   "source": [
    "infection_seed = InfectionSeed.from_uniform_cases(\n",
    "    world=world, infection_selector=selector, cases_per_capita=0.01, date=\"2020-05-24 9:00\", seed_past_infections=False,\n",
    ")"
   ]
  },
  {
   "cell_type": "code",
   "execution_count": 46,
   "metadata": {},
   "outputs": [],
   "source": [
    "infection_seeds = InfectionSeeds([infection_seed])"
   ]
  },
  {
   "cell_type": "code",
   "execution_count": 47,
   "metadata": {},
   "outputs": [],
   "source": [
    "immunity_setter = ImmunitySetter.from_file_with_comorbidities(\n",
    "    comorbidity_multipliers_path= comorbidity_multipliers_path,\n",
    "    male_comorbidity_reference_prevalence_path= male_comorbidity_reference_prevalence_path,\n",
    "    female_comorbidity_reference_prevalence_path = female_comorbidity_reference_prevalence_path,   \n",
    ")"
   ]
  },
  {
   "cell_type": "code",
   "execution_count": 48,
   "metadata": {},
   "outputs": [],
   "source": [
    "epidemiology = Epidemiology(\n",
    "    infection_selectors=selectors,\n",
    "    infection_seeds=infection_seeds,\n",
    "    immunity_setter=immunity_setter,\n",
    ")"
   ]
  },
  {
   "cell_type": "markdown",
   "metadata": {},
   "source": [
    "## Select config file"
   ]
  },
  {
   "cell_type": "markdown",
   "metadata": {},
   "source": [
    "Before running the simualtion we must select the config file which defines how the world is set up and the simualtor will work. Specifically, the condif file specifies which activities will be included, how long we'll run the simualtion for, what the initial starting day will be and what the structure of weekdays and weekends will look like (if different)"
   ]
  },
  {
   "cell_type": "code",
   "execution_count": 49,
   "metadata": {},
   "outputs": [],
   "source": [
    "CONFIG_PATH = Config_File_Path"
   ]
  },
  {
   "cell_type": "markdown",
   "metadata": {},
   "source": [
    "# Initialise activities"
   ]
  },
  {
   "cell_type": "markdown",
   "metadata": {},
   "source": [
    "The final step to intialising the simulator class which brings all of this together is to inialise all the activity distirbutors (the term 'leisure' is a legacy of the original version of this code used for modelling COVID-19 in the UK). This will mean that people know where they can go at and given time."
   ]
  },
  {
   "cell_type": "code",
   "execution_count": 50,
   "metadata": {},
   "outputs": [
    {
     "name": "stdout",
     "output_type": "stream",
     "text": [
      "2022-09-15 18:29:24,891 - leisure - INFO - Linking households and care homes for visits\n",
      "2022-09-15 18:29:24,892 - leisure - INFO - Done\n",
      "2022-09-15 18:29:24,892 - leisure - INFO - Distributing social venues to areas\n",
      "2022-09-15 18:29:24,893 - leisure - INFO - Distributed in 0 of 65 areas.\n",
      "2022-09-15 18:29:25,009 - leisure - INFO - Distributed in 65 of 65 areas.\n"
     ]
    }
   ],
   "source": [
    "leisure = generate_leisure_for_config(world=world, config_filename=CONFIG_PATH)\n",
    "# associate social activities to shelters\n",
    "leisure.distribute_social_venues_to_areas(world.areas, world.super_areas)"
   ]
  },
  {
   "cell_type": "markdown",
   "metadata": {},
   "source": [
    "# Define a contact Tracker"
   ]
  },
  {
   "cell_type": "markdown",
   "metadata": {},
   "source": [
    "We define a list of venues in which to track. This is fed into JUNE's tracker class. We can specify tracking contacts by sex, the type of possible contacts \"1D\" (simulated contacts based on the input interaction matrices) or \"All\" (everyone at each venue contacts each other). Lastly we can find a subset of venues upto N but defining MaxVenueTrackingSize=N."
   ]
  },
  {
   "cell_type": "code",
   "execution_count": 51,
   "metadata": {},
   "outputs": [],
   "source": [
    "group_types=[\n",
    "        world.hospitals,\n",
    "        world.distribution_centers,\n",
    "        world.communals,\n",
    "        world.female_communals,\n",
    "        world.pump_latrines,\n",
    "        world.religiouss,\n",
    "        world.play_groups,\n",
    "        world.e_vouchers,\n",
    "        world.n_f_distribution_centers,\n",
    "        world.shelters,\n",
    "        world.learning_centers,\n",
    "        world.informal_works,\n",
    "        world.isolation_units,\n",
    "    ]\n",
    "\n",
    "tracker = Tracker(\n",
    "    world=world,\n",
    "    record_path=Results_Path,\n",
    "    group_types=group_types,\n",
    "    load_interactions_path=Interactions_File_Path,\n",
    "    contact_sexes=[\"unisex\", \"male\", \"female\"],\n",
    "    MaxVenueTrackingSize = 500\n",
    ")"
   ]
  },
  {
   "cell_type": "markdown",
   "metadata": {},
   "source": [
    "# Initialise simulator and run"
   ]
  },
  {
   "cell_type": "markdown",
   "metadata": {},
   "source": [
    "The recorder is defined which will log all interactions and infections in the simualation for later analysis. The `record_path` can be changed to any path where you want the recorded data to be stored."
   ]
  },
  {
   "cell_type": "code",
   "execution_count": 52,
   "metadata": {},
   "outputs": [],
   "source": [
    "record = Record(\n",
    "    record_path=Results_Path, \n",
    "    record_static_data=True\n",
    ")\n"
   ]
  },
  {
   "cell_type": "markdown",
   "metadata": {},
   "source": [
    "The simulator is defined with all the different necessary components we have built up so far"
   ]
  },
  {
   "cell_type": "code",
   "execution_count": 53,
   "metadata": {},
   "outputs": [],
   "source": [
    "Simulator.ActivityManager = CampActivityManager\n",
    "simulator = Simulator.from_file(\n",
    "    world=world,\n",
    "    interaction=interaction,\n",
    "    tracker=tracker,\n",
    "    leisure=leisure,\n",
    "    policies=policies,\n",
    "    config_filename=CONFIG_PATH,\n",
    "    epidemiology=epidemiology,\n",
    "    record=record,\n",
    ")"
   ]
  },
  {
   "cell_type": "markdown",
   "metadata": {},
   "source": [
    "Finally we can run a small simualation"
   ]
  },
  {
   "cell_type": "code",
   "execution_count": 54,
   "metadata": {
    "scrolled": true
   },
   "outputs": [
    {
     "name": "stdout",
     "output_type": "stream",
     "text": [
      "2022-09-15 18:29:25,944 - simulator - INFO - Starting simulation for 7 days at day 2020-05-24 09:00:00,to run for 7 days\n",
      "2022-09-15 18:29:26,079 - seed - INFO - Seeding Covid19 infections at date 2020-05-24\n",
      "2022-09-15 18:29:26,947 - rank - INFO - Next timestep\n",
      "2022-09-15 18:29:26,948 - simulator - INFO - ==================== timestep ====================\n",
      "2022-09-15 18:29:27,209 - rank - INFO - Rank 0 -- move_people -- 0.2600044930004515\n",
      "2022-09-15 18:29:27,210 - rank - INFO - Rank 0 -- move_people_waiting -- 8.135990356095135e-06\n",
      "2022-09-15 18:29:27,211 - activity_manager - INFO - CMS: People COMS for rank 0/1 - 3.901994205079973e-06,3.814697265625e-06 - 2020-05-24 09:00:00\n",
      "2022-09-15 18:29:27,219 - simulator - INFO - Info for rank 0, Date = 2020-05-24 09:00:00, number of deaths =  0, number of infected = 241\n",
      "2022-09-15 18:29:27,321 - rank - INFO - Rank 0 -- interaction -- 0.10887794599693734\n",
      "2022-09-15 18:29:27,331 - tracker - INFO - Rank 0 -- tracking contacts -- 500 of 3269 of type shelter\n",
      "2022-09-15 18:29:28,371 - tracker - INFO - Rank 0 -- tracking contacts -- 8 of 8 of type hospital\n",
      "2022-09-15 18:29:28,388 - tracker - INFO - Rank 0 -- tracking contacts -- 8 of 8 of type isolation_unit\n",
      "2022-09-15 18:29:28,391 - tracker - INFO - Rank 0 -- tracking contacts -- 389 of 389 of type learning_center\n",
      "2022-09-15 18:29:29,599 - tracker - INFO - Rank 0 -- tracking contacts -- 115 of 115 of type communal\n",
      "2022-09-15 18:29:29,603 - tracker - INFO - Rank 0 -- tracking contacts -- 21 of 21 of type distribution_center\n",
      "2022-09-15 18:29:29,605 - tracker - INFO - Rank 0 -- tracking contacts -- 7 of 7 of type e_voucher\n",
      "2022-09-15 18:29:29,606 - tracker - INFO - Rank 0 -- tracking contacts -- 67 of 67 of type female_communal\n",
      "2022-09-15 18:29:29,608 - tracker - INFO - Rank 0 -- tracking contacts -- 81 of 81 of type informal_work\n",
      "2022-09-15 18:29:29,611 - tracker - INFO - Rank 0 -- tracking contacts -- 41 of 41 of type n_f_distribution_center\n",
      "2022-09-15 18:29:29,614 - tracker - INFO - Rank 0 -- tracking contacts -- 500 of 539 of type play_group\n",
      "2022-09-15 18:29:29,630 - tracker - INFO - Rank 0 -- tracking contacts -- 82 of 82 of type pump_latrine\n",
      "2022-09-15 18:29:29,638 - tracker - INFO - Rank 0 -- tracking contacts -- 500 of 2065 of type religious\n",
      "2022-09-15 18:29:29,649 - rank - INFO - Rank 0 -- tracker -- 2.3264210280030966\n",
      "2022-09-15 18:29:29,650 - epidemiology - INFO - CMS: Infection COMS-v2 for rank 0/1(2)0.0007668119942536578,0.0007662773132324219 - 2020-05-24 09:00:00\n",
      "2022-09-15 18:29:29,826 - rank - INFO - Rank 0 -- interaction_waiting -- 1.7623999156057835e-05\n",
      "2022-09-15 18:29:29,844 - simulator - INFO - CMS: Timestep for rank 0/1 - 2.8949728130100993,2.8949732780456543 - 2020-05-24 09:00:00\n",
      "\n",
      "2022-09-15 18:29:29,846 - rank - INFO - Next timestep\n",
      "2022-09-15 18:29:29,847 - simulator - INFO - ==================== timestep ====================\n",
      "2022-09-15 18:29:31,264 - rank - INFO - Rank 0 -- move_people -- 1.415767954007606\n",
      "2022-09-15 18:29:31,265 - rank - INFO - Rank 0 -- move_people_waiting -- 8.33999365568161e-06\n",
      "2022-09-15 18:29:31,266 - activity_manager - INFO - CMS: People COMS for rank 0/1 - 3.573004505597055e-06,3.337860107421875e-06 - 2020-05-24 11:00:00\n",
      "2022-09-15 18:29:31,271 - simulator - INFO - Info for rank 0, Date = 2020-05-24 11:00:00, number of deaths =  0, number of infected = 241\n",
      "2022-09-15 18:29:31,424 - rank - INFO - Rank 0 -- interaction -- 0.15785100299399346\n",
      "2022-09-15 18:29:31,431 - tracker - INFO - Rank 0 -- tracking contacts -- 500 of 3269 of type shelter\n",
      "2022-09-15 18:29:31,863 - tracker - INFO - Rank 0 -- tracking contacts -- 8 of 8 of type hospital\n",
      "2022-09-15 18:29:31,875 - tracker - INFO - Rank 0 -- tracking contacts -- 8 of 8 of type isolation_unit\n",
      "2022-09-15 18:29:31,876 - tracker - INFO - Rank 0 -- tracking contacts -- 389 of 389 of type learning_center\n",
      "2022-09-15 18:29:32,909 - tracker - INFO - Rank 0 -- tracking contacts -- 115 of 115 of type communal\n",
      "2022-09-15 18:29:32,936 - tracker - INFO - Rank 0 -- tracking contacts -- 21 of 21 of type distribution_center\n",
      "2022-09-15 18:29:32,961 - tracker - INFO - Rank 0 -- tracking contacts -- 7 of 7 of type e_voucher\n",
      "2022-09-15 18:29:32,975 - tracker - INFO - Rank 0 -- tracking contacts -- 67 of 67 of type female_communal\n",
      "2022-09-15 18:29:33,016 - tracker - INFO - Rank 0 -- tracking contacts -- 81 of 81 of type informal_work\n",
      "2022-09-15 18:29:33,095 - tracker - INFO - Rank 0 -- tracking contacts -- 41 of 41 of type n_f_distribution_center\n",
      "2022-09-15 18:29:33,170 - tracker - INFO - Rank 0 -- tracking contacts -- 500 of 539 of type play_group\n",
      "2022-09-15 18:29:33,427 - tracker - INFO - Rank 0 -- tracking contacts -- 82 of 82 of type pump_latrine\n",
      "2022-09-15 18:29:35,277 - tracker - INFO - Rank 0 -- tracking contacts -- 500 of 2065 of type religious\n",
      "2022-09-15 18:29:35,528 - rank - INFO - Rank 0 -- tracker -- 4.102792202000273\n",
      "2022-09-15 18:29:35,534 - epidemiology - INFO - CMS: Infection COMS-v2 for rank 0/1(2)0.000678241005516611,0.0006783008575439453 - 2020-05-24 11:00:00\n",
      "2022-09-15 18:29:35,591 - rank - INFO - Rank 0 -- interaction_waiting -- 9.627998224459589e-06\n",
      "2022-09-15 18:29:35,615 - simulator - INFO - CMS: Timestep for rank 0/1 - 5.766904445001273,5.766906023025513 - 2020-05-24 11:00:00\n",
      "\n",
      "2022-09-15 18:29:35,617 - rank - INFO - Next timestep\n",
      "2022-09-15 18:29:35,618 - simulator - INFO - ==================== timestep ====================\n",
      "2022-09-15 18:29:36,724 - rank - INFO - Rank 0 -- move_people -- 1.1048131919960724\n",
      "2022-09-15 18:29:36,725 - rank - INFO - Rank 0 -- move_people_waiting -- 4.689994966611266e-06\n",
      "2022-09-15 18:29:36,726 - activity_manager - INFO - CMS: People COMS for rank 0/1 - 6.123998900875449e-06,5.7220458984375e-06 - 2020-05-24 13:00:00\n",
      "2022-09-15 18:29:36,736 - simulator - INFO - Info for rank 0, Date = 2020-05-24 13:00:00, number of deaths =  0, number of infected = 248\n",
      "2022-09-15 18:29:37,015 - rank - INFO - Rank 0 -- interaction -- 0.2874243340047542\n",
      "2022-09-15 18:29:37,026 - tracker - INFO - Rank 0 -- tracking contacts -- 500 of 3269 of type shelter\n",
      "2022-09-15 18:29:37,746 - tracker - INFO - Rank 0 -- tracking contacts -- 8 of 8 of type hospital\n",
      "2022-09-15 18:29:37,764 - tracker - INFO - Rank 0 -- tracking contacts -- 8 of 8 of type isolation_unit\n",
      "2022-09-15 18:29:37,769 - tracker - INFO - Rank 0 -- tracking contacts -- 389 of 389 of type learning_center\n",
      "2022-09-15 18:29:39,342 - tracker - INFO - Rank 0 -- tracking contacts -- 115 of 115 of type communal\n",
      "2022-09-15 18:29:39,385 - tracker - INFO - Rank 0 -- tracking contacts -- 21 of 21 of type distribution_center\n",
      "2022-09-15 18:29:39,428 - tracker - INFO - Rank 0 -- tracking contacts -- 7 of 7 of type e_voucher\n",
      "2022-09-15 18:29:39,441 - tracker - INFO - Rank 0 -- tracking contacts -- 67 of 67 of type female_communal\n",
      "2022-09-15 18:29:39,506 - tracker - INFO - Rank 0 -- tracking contacts -- 81 of 81 of type informal_work\n",
      "2022-09-15 18:29:39,631 - tracker - INFO - Rank 0 -- tracking contacts -- 41 of 41 of type n_f_distribution_center\n",
      "2022-09-15 18:29:39,702 - tracker - INFO - Rank 0 -- tracking contacts -- 500 of 539 of type play_group\n",
      "2022-09-15 18:29:40,178 - tracker - INFO - Rank 0 -- tracking contacts -- 82 of 82 of type pump_latrine\n",
      "2022-09-15 18:29:42,787 - tracker - INFO - Rank 0 -- tracking contacts -- 500 of 2065 of type religious\n",
      "2022-09-15 18:29:43,064 - rank - INFO - Rank 0 -- tracker -- 6.048664732996258\n",
      "2022-09-15 18:29:43,067 - epidemiology - INFO - CMS: Infection COMS-v2 for rank 0/1(2)0.0003215189935872331,0.00032138824462890625 - 2020-05-24 13:00:00\n",
      "2022-09-15 18:29:43,119 - rank - INFO - Rank 0 -- interaction_waiting -- 7.784998160786927e-06\n",
      "2022-09-15 18:29:43,141 - simulator - INFO - CMS: Timestep for rank 0/1 - 7.521699090008042,7.521699666976929 - 2020-05-24 13:00:00\n",
      "\n",
      "2022-09-15 18:29:43,142 - rank - INFO - Next timestep\n",
      "2022-09-15 18:29:43,143 - simulator - INFO - ==================== timestep ====================\n",
      "2022-09-15 18:29:44,177 - rank - INFO - Rank 0 -- move_people -- 1.0329427410033531\n",
      "2022-09-15 18:29:44,178 - rank - INFO - Rank 0 -- move_people_waiting -- 3.990993718616664e-06\n",
      "2022-09-15 18:29:44,179 - activity_manager - INFO - CMS: People COMS for rank 0/1 - 5.3019903134554625e-06,4.291534423828125e-06 - 2020-05-24 15:00:00\n"
     ]
    },
    {
     "name": "stdout",
     "output_type": "stream",
     "text": [
      "2022-09-15 18:29:44,186 - simulator - INFO - Info for rank 0, Date = 2020-05-24 15:00:00, number of deaths =  0, number of infected = 249\n",
      "2022-09-15 18:29:44,319 - rank - INFO - Rank 0 -- interaction -- 0.13833053500275128\n",
      "2022-09-15 18:29:44,327 - tracker - INFO - Rank 0 -- tracking contacts -- 500 of 3269 of type shelter\n",
      "2022-09-15 18:29:44,792 - tracker - INFO - Rank 0 -- tracking contacts -- 8 of 8 of type hospital\n",
      "2022-09-15 18:29:44,804 - tracker - INFO - Rank 0 -- tracking contacts -- 8 of 8 of type isolation_unit\n",
      "2022-09-15 18:29:44,806 - tracker - INFO - Rank 0 -- tracking contacts -- 389 of 389 of type learning_center\n",
      "2022-09-15 18:29:45,782 - tracker - INFO - Rank 0 -- tracking contacts -- 115 of 115 of type communal\n",
      "2022-09-15 18:29:45,808 - tracker - INFO - Rank 0 -- tracking contacts -- 21 of 21 of type distribution_center\n",
      "2022-09-15 18:29:45,835 - tracker - INFO - Rank 0 -- tracking contacts -- 7 of 7 of type e_voucher\n",
      "2022-09-15 18:29:45,847 - tracker - INFO - Rank 0 -- tracking contacts -- 67 of 67 of type female_communal\n",
      "2022-09-15 18:29:45,890 - tracker - INFO - Rank 0 -- tracking contacts -- 81 of 81 of type informal_work\n",
      "2022-09-15 18:29:45,978 - tracker - INFO - Rank 0 -- tracking contacts -- 41 of 41 of type n_f_distribution_center\n",
      "2022-09-15 18:29:46,044 - tracker - INFO - Rank 0 -- tracking contacts -- 500 of 539 of type play_group\n",
      "2022-09-15 18:29:46,344 - tracker - INFO - Rank 0 -- tracking contacts -- 82 of 82 of type pump_latrine\n",
      "2022-09-15 18:29:48,148 - tracker - INFO - Rank 0 -- tracking contacts -- 500 of 2065 of type religious\n",
      "2022-09-15 18:29:48,380 - rank - INFO - Rank 0 -- tracker -- 4.0595368899957975\n",
      "2022-09-15 18:29:48,384 - epidemiology - INFO - CMS: Infection COMS-v2 for rank 0/1(2)0.00037973000144120306,0.00037860870361328125 - 2020-05-24 15:00:00\n",
      "2022-09-15 18:29:48,421 - rank - INFO - Rank 0 -- interaction_waiting -- 6.813002983108163e-06\n",
      "2022-09-15 18:29:48,438 - simulator - INFO - CMS: Timestep for rank 0/1 - 5.2938404440064915,5.29384183883667 - 2020-05-24 15:00:00\n",
      "\n",
      "2022-09-15 18:29:48,439 - rank - INFO - Next timestep\n",
      "2022-09-15 18:29:48,440 - simulator - INFO - ==================== timestep ====================\n",
      "2022-09-15 18:29:49,763 - rank - INFO - Rank 0 -- move_people -- 1.31961651299207\n",
      "2022-09-15 18:29:49,764 - rank - INFO - Rank 0 -- move_people_waiting -- 9.113995474763215e-06\n",
      "2022-09-15 18:29:49,765 - activity_manager - INFO - CMS: People COMS for rank 0/1 - 4.996996722184122e-06,4.76837158203125e-06 - 2020-05-24 17:00:00\n",
      "2022-09-15 18:29:49,773 - simulator - INFO - Info for rank 0, Date = 2020-05-24 17:00:00, number of deaths =  0, number of infected = 253\n",
      "2022-09-15 18:29:50,025 - rank - INFO - Rank 0 -- interaction -- 0.2592259850061964\n",
      "2022-09-15 18:29:50,040 - tracker - INFO - Rank 0 -- tracking contacts -- 500 of 3269 of type shelter\n",
      "2022-09-15 18:29:50,841 - tracker - INFO - Rank 0 -- tracking contacts -- 8 of 8 of type hospital\n",
      "2022-09-15 18:29:50,842 - tracker - INFO - Rank 0 -- tracking contacts -- 8 of 8 of type isolation_unit\n",
      "2022-09-15 18:29:50,845 - tracker - INFO - Rank 0 -- tracking contacts -- 389 of 389 of type learning_center\n",
      "2022-09-15 18:29:50,861 - tracker - INFO - Rank 0 -- tracking contacts -- 115 of 115 of type communal\n",
      "2022-09-15 18:29:50,865 - tracker - INFO - Rank 0 -- tracking contacts -- 21 of 21 of type distribution_center\n",
      "2022-09-15 18:29:50,913 - tracker - INFO - Rank 0 -- tracking contacts -- 7 of 7 of type e_voucher\n",
      "2022-09-15 18:29:50,928 - tracker - INFO - Rank 0 -- tracking contacts -- 67 of 67 of type female_communal\n",
      "2022-09-15 18:29:50,931 - tracker - INFO - Rank 0 -- tracking contacts -- 81 of 81 of type informal_work\n",
      "2022-09-15 18:29:51,031 - tracker - INFO - Rank 0 -- tracking contacts -- 41 of 41 of type n_f_distribution_center\n",
      "2022-09-15 18:29:51,113 - tracker - INFO - Rank 0 -- tracking contacts -- 500 of 539 of type play_group\n",
      "2022-09-15 18:29:51,507 - tracker - INFO - Rank 0 -- tracking contacts -- 82 of 82 of type pump_latrine\n",
      "2022-09-15 18:29:54,272 - tracker - INFO - Rank 0 -- tracking contacts -- 500 of 2065 of type religious\n",
      "2022-09-15 18:29:54,546 - rank - INFO - Rank 0 -- tracker -- 4.518715072990744\n",
      "2022-09-15 18:29:54,554 - epidemiology - INFO - CMS: Infection COMS-v2 for rank 0/1(2)0.0008564769959775731,0.0008556842803955078 - 2020-05-24 17:00:00\n",
      "2022-09-15 18:29:54,591 - rank - INFO - Rank 0 -- interaction_waiting -- 7.274997187778354e-06\n",
      "2022-09-15 18:29:54,605 - simulator - INFO - CMS: Timestep for rank 0/1 - 6.16249574199901,6.16249680519104 - 2020-05-24 17:00:00\n",
      "\n",
      "2022-09-15 18:29:54,607 - rank - INFO - Next timestep\n",
      "2022-09-15 18:29:54,608 - simulator - INFO - ==================== timestep ====================\n",
      "2022-09-15 18:29:54,807 - rank - INFO - Rank 0 -- move_people -- 0.19830701299360953\n",
      "2022-09-15 18:29:54,808 - rank - INFO - Rank 0 -- move_people_waiting -- 1.0591000318527222e-05\n",
      "2022-09-15 18:29:54,809 - activity_manager - INFO - CMS: People COMS for rank 0/1 - 5.070993211120367e-06,4.5299530029296875e-06 - 2020-05-24 19:00:00\n",
      "2022-09-15 18:29:54,819 - simulator - INFO - Info for rank 0, Date = 2020-05-24 19:00:00, number of deaths =  0, number of infected = 262\n",
      "2022-09-15 18:29:54,897 - rank - INFO - Rank 0 -- interaction -- 0.08232272299937904\n",
      "2022-09-15 18:29:54,905 - tracker - INFO - Rank 0 -- tracking contacts -- 500 of 3269 of type shelter\n",
      "2022-09-15 18:29:56,071 - tracker - INFO - Rank 0 -- tracking contacts -- 8 of 8 of type hospital\n",
      "2022-09-15 18:29:56,072 - tracker - INFO - Rank 0 -- tracking contacts -- 8 of 8 of type isolation_unit\n",
      "2022-09-15 18:29:56,074 - tracker - INFO - Rank 0 -- tracking contacts -- 389 of 389 of type learning_center\n",
      "2022-09-15 18:29:56,083 - tracker - INFO - Rank 0 -- tracking contacts -- 115 of 115 of type communal\n",
      "2022-09-15 18:29:56,087 - tracker - INFO - Rank 0 -- tracking contacts -- 21 of 21 of type distribution_center\n",
      "2022-09-15 18:29:56,088 - tracker - INFO - Rank 0 -- tracking contacts -- 7 of 7 of type e_voucher\n",
      "2022-09-15 18:29:56,089 - tracker - INFO - Rank 0 -- tracking contacts -- 67 of 67 of type female_communal\n",
      "2022-09-15 18:29:56,091 - tracker - INFO - Rank 0 -- tracking contacts -- 81 of 81 of type informal_work\n",
      "2022-09-15 18:29:56,093 - tracker - INFO - Rank 0 -- tracking contacts -- 41 of 41 of type n_f_distribution_center\n",
      "2022-09-15 18:29:56,096 - tracker - INFO - Rank 0 -- tracking contacts -- 500 of 539 of type play_group\n",
      "2022-09-15 18:29:56,104 - tracker - INFO - Rank 0 -- tracking contacts -- 82 of 82 of type pump_latrine\n",
      "2022-09-15 18:29:56,115 - tracker - INFO - Rank 0 -- tracking contacts -- 500 of 2065 of type religious\n",
      "2022-09-15 18:29:56,122 - rank - INFO - Rank 0 -- tracker -- 1.2242037069954677\n",
      "2022-09-15 18:29:56,147 - epidemiology - INFO - CMS: Infection COMS-v2 for rank 0/1(2)0.00048354099271818995,0.0004832744598388672 - 2020-05-24 19:00:00\n",
      "2022-09-15 18:29:56,180 - rank - INFO - Rank 0 -- interaction_waiting -- 6.371992640197277e-06\n",
      "2022-09-15 18:29:56,192 - simulator - INFO - CMS: Timestep for rank 0/1 - 1.5831869779940462,1.5831875801086426 - 2020-05-24 19:00:00\n",
      "\n",
      "2022-09-15 18:29:56,195 - rank - INFO - Next timestep\n",
      "2022-09-15 18:29:56,195 - simulator - INFO - ==================== timestep ====================\n",
      "2022-09-15 18:29:56,375 - rank - INFO - Rank 0 -- move_people -- 0.17840164199878927\n",
      "2022-09-15 18:29:56,375 - rank - INFO - Rank 0 -- move_people_waiting -- 7.176000508479774e-06\n",
      "2022-09-15 18:29:56,376 - activity_manager - INFO - CMS: People COMS for rank 0/1 - 3.221997758373618e-06,2.86102294921875e-06 - 2020-05-25 09:00:00\n",
      "2022-09-15 18:29:56,381 - simulator - INFO - Info for rank 0, Date = 2020-05-25 09:00:00, number of deaths =  0, number of infected = 301\n",
      "2022-09-15 18:29:56,459 - rank - INFO - Rank 0 -- interaction -- 0.08212263700261246\n",
      "2022-09-15 18:30:02,285 - tracker - INFO - Rank 0 -- tracking contacts -- 500 of 3269 of type shelter\n",
      "2022-09-15 18:30:03,195 - tracker - INFO - Rank 0 -- tracking contacts -- 8 of 8 of type hospital\n",
      "2022-09-15 18:30:03,207 - tracker - INFO - Rank 0 -- tracking contacts -- 8 of 8 of type isolation_unit\n",
      "2022-09-15 18:30:03,208 - tracker - INFO - Rank 0 -- tracking contacts -- 389 of 389 of type learning_center\n"
     ]
    },
    {
     "name": "stdout",
     "output_type": "stream",
     "text": [
      "2022-09-15 18:30:04,140 - tracker - INFO - Rank 0 -- tracking contacts -- 115 of 115 of type communal\n",
      "2022-09-15 18:30:04,145 - tracker - INFO - Rank 0 -- tracking contacts -- 21 of 21 of type distribution_center\n",
      "2022-09-15 18:30:04,147 - tracker - INFO - Rank 0 -- tracking contacts -- 7 of 7 of type e_voucher\n",
      "2022-09-15 18:30:04,148 - tracker - INFO - Rank 0 -- tracking contacts -- 67 of 67 of type female_communal\n",
      "2022-09-15 18:30:04,152 - tracker - INFO - Rank 0 -- tracking contacts -- 81 of 81 of type informal_work\n",
      "2022-09-15 18:30:04,156 - tracker - INFO - Rank 0 -- tracking contacts -- 41 of 41 of type n_f_distribution_center\n",
      "2022-09-15 18:30:04,160 - tracker - INFO - Rank 0 -- tracking contacts -- 500 of 539 of type play_group\n",
      "2022-09-15 18:30:04,169 - tracker - INFO - Rank 0 -- tracking contacts -- 82 of 82 of type pump_latrine\n",
      "2022-09-15 18:30:04,182 - tracker - INFO - Rank 0 -- tracking contacts -- 500 of 2065 of type religious\n",
      "2022-09-15 18:30:04,190 - rank - INFO - Rank 0 -- tracker -- 7.730636848995346\n",
      "2022-09-15 18:30:04,195 - epidemiology - INFO - CMS: Infection COMS-v2 for rank 0/1(2)0.00031517900060862303,0.0003147125244140625 - 2020-05-25 09:00:00\n",
      "2022-09-15 18:30:04,244 - rank - INFO - Rank 0 -- interaction_waiting -- 6.928996299393475e-06\n",
      "2022-09-15 18:30:04,258 - simulator - INFO - CMS: Timestep for rank 0/1 - 8.06193265299953,8.061933755874634 - 2020-05-25 09:00:00\n",
      "\n",
      "2022-09-15 18:30:04,261 - rank - INFO - Next timestep\n",
      "2022-09-15 18:30:04,262 - simulator - INFO - ==================== timestep ====================\n",
      "2022-09-15 18:30:05,540 - rank - INFO - Rank 0 -- move_people -- 1.2771686939959181\n",
      "2022-09-15 18:30:05,541 - rank - INFO - Rank 0 -- move_people_waiting -- 8.205999620258808e-06\n",
      "2022-09-15 18:30:05,542 - activity_manager - INFO - CMS: People COMS for rank 0/1 - 4.596004146151245e-06,3.814697265625e-06 - 2020-05-25 11:00:00\n",
      "2022-09-15 18:30:05,549 - simulator - INFO - Info for rank 0, Date = 2020-05-25 11:00:00, number of deaths =  0, number of infected = 308\n",
      "2022-09-15 18:30:05,790 - rank - INFO - Rank 0 -- interaction -- 0.2459654320118716\n",
      "2022-09-15 18:30:07,760 - tracker - INFO - Rank 0 -- tracking contacts -- 500 of 3269 of type shelter\n",
      "2022-09-15 18:30:08,479 - tracker - INFO - Rank 0 -- tracking contacts -- 8 of 8 of type hospital\n",
      "2022-09-15 18:30:08,497 - tracker - INFO - Rank 0 -- tracking contacts -- 8 of 8 of type isolation_unit\n",
      "2022-09-15 18:30:08,500 - tracker - INFO - Rank 0 -- tracking contacts -- 389 of 389 of type learning_center\n",
      "2022-09-15 18:30:10,184 - tracker - INFO - Rank 0 -- tracking contacts -- 115 of 115 of type communal\n",
      "2022-09-15 18:30:10,220 - tracker - INFO - Rank 0 -- tracking contacts -- 21 of 21 of type distribution_center\n",
      "2022-09-15 18:30:10,249 - tracker - INFO - Rank 0 -- tracking contacts -- 7 of 7 of type e_voucher\n",
      "2022-09-15 18:30:10,272 - tracker - INFO - Rank 0 -- tracking contacts -- 67 of 67 of type female_communal\n",
      "2022-09-15 18:30:10,325 - tracker - INFO - Rank 0 -- tracking contacts -- 81 of 81 of type informal_work\n",
      "2022-09-15 18:30:10,410 - tracker - INFO - Rank 0 -- tracking contacts -- 41 of 41 of type n_f_distribution_center\n",
      "2022-09-15 18:30:10,461 - tracker - INFO - Rank 0 -- tracking contacts -- 500 of 539 of type play_group\n",
      "2022-09-15 18:30:10,768 - tracker - INFO - Rank 0 -- tracking contacts -- 82 of 82 of type pump_latrine\n",
      "2022-09-15 18:30:13,022 - tracker - INFO - Rank 0 -- tracking contacts -- 500 of 2065 of type religious\n",
      "2022-09-15 18:30:13,282 - rank - INFO - Rank 0 -- tracker -- 7.490729710989399\n",
      "2022-09-15 18:30:13,290 - epidemiology - INFO - CMS: Infection COMS-v2 for rank 0/1(2)0.0008344569941982627,0.0008339881896972656 - 2020-05-25 11:00:00\n",
      "2022-09-15 18:30:13,327 - rank - INFO - Rank 0 -- interaction_waiting -- 6.696995114907622e-06\n",
      "2022-09-15 18:30:13,341 - simulator - INFO - CMS: Timestep for rank 0/1 - 9.077557369004353,9.077558040618896 - 2020-05-25 11:00:00\n",
      "\n",
      "2022-09-15 18:30:13,343 - rank - INFO - Next timestep\n",
      "2022-09-15 18:30:13,344 - simulator - INFO - ==================== timestep ====================\n",
      "2022-09-15 18:30:14,182 - rank - INFO - Rank 0 -- move_people -- 0.8371363490005024\n",
      "2022-09-15 18:30:14,183 - rank - INFO - Rank 0 -- move_people_waiting -- 8.569011697545648e-06\n",
      "2022-09-15 18:30:14,184 - activity_manager - INFO - CMS: People COMS for rank 0/1 - 4.51300002168864e-06,4.0531158447265625e-06 - 2020-05-25 13:00:00\n",
      "2022-09-15 18:30:14,191 - simulator - INFO - Info for rank 0, Date = 2020-05-25 13:00:00, number of deaths =  0, number of infected = 316\n",
      "2022-09-15 18:30:14,341 - rank - INFO - Rank 0 -- interaction -- 0.15586466300010215\n",
      "2022-09-15 18:30:17,516 - tracker - INFO - Rank 0 -- tracking contacts -- 500 of 3269 of type shelter\n",
      "2022-09-15 18:30:18,044 - tracker - INFO - Rank 0 -- tracking contacts -- 8 of 8 of type hospital\n",
      "2022-09-15 18:30:18,057 - tracker - INFO - Rank 0 -- tracking contacts -- 8 of 8 of type isolation_unit\n",
      "2022-09-15 18:30:18,059 - tracker - INFO - Rank 0 -- tracking contacts -- 389 of 389 of type learning_center\n",
      "2022-09-15 18:30:19,087 - tracker - INFO - Rank 0 -- tracking contacts -- 115 of 115 of type communal\n",
      "2022-09-15 18:30:19,114 - tracker - INFO - Rank 0 -- tracking contacts -- 21 of 21 of type distribution_center\n",
      "2022-09-15 18:30:19,151 - tracker - INFO - Rank 0 -- tracking contacts -- 7 of 7 of type e_voucher\n",
      "2022-09-15 18:30:19,170 - tracker - INFO - Rank 0 -- tracking contacts -- 67 of 67 of type female_communal\n",
      "2022-09-15 18:30:19,218 - tracker - INFO - Rank 0 -- tracking contacts -- 81 of 81 of type informal_work\n",
      "2022-09-15 18:30:19,295 - tracker - INFO - Rank 0 -- tracking contacts -- 41 of 41 of type n_f_distribution_center\n",
      "2022-09-15 18:30:19,338 - tracker - INFO - Rank 0 -- tracking contacts -- 500 of 539 of type play_group\n",
      "2022-09-15 18:30:19,695 - tracker - INFO - Rank 0 -- tracking contacts -- 82 of 82 of type pump_latrine\n",
      "2022-09-15 18:30:22,842 - tracker - INFO - Rank 0 -- tracking contacts -- 500 of 2065 of type religious\n",
      "2022-09-15 18:30:23,125 - rank - INFO - Rank 0 -- tracker -- 8.782771782003692\n",
      "2022-09-15 18:30:23,133 - epidemiology - INFO - CMS: Infection COMS-v2 for rank 0/1(2)0.00037537301250267774,0.0003750324249267578 - 2020-05-25 13:00:00\n",
      "2022-09-15 18:30:23,168 - rank - INFO - Rank 0 -- interaction_waiting -- 6.752990884706378e-06\n",
      "2022-09-15 18:30:23,183 - simulator - INFO - CMS: Timestep for rank 0/1 - 9.837437986992882,9.837439060211182 - 2020-05-25 13:00:00\n",
      "\n",
      "2022-09-15 18:30:23,185 - rank - INFO - Next timestep\n",
      "2022-09-15 18:30:23,186 - simulator - INFO - ==================== timestep ====================\n",
      "2022-09-15 18:30:24,319 - rank - INFO - Rank 0 -- move_people -- 1.1317162290069973\n",
      "2022-09-15 18:30:24,320 - rank - INFO - Rank 0 -- move_people_waiting -- 8.00398993305862e-06\n",
      "2022-09-15 18:30:24,321 - activity_manager - INFO - CMS: People COMS for rank 0/1 - 3.92599031329155e-06,3.5762786865234375e-06 - 2020-05-25 15:00:00\n",
      "2022-09-15 18:30:24,326 - simulator - INFO - Info for rank 0, Date = 2020-05-25 15:00:00, number of deaths =  0, number of infected = 331\n",
      "2022-09-15 18:30:24,460 - rank - INFO - Rank 0 -- interaction -- 0.13789420199464075\n",
      "2022-09-15 18:30:29,018 - tracker - INFO - Rank 0 -- tracking contacts -- 500 of 3269 of type shelter\n",
      "2022-09-15 18:30:29,494 - tracker - INFO - Rank 0 -- tracking contacts -- 8 of 8 of type hospital\n",
      "2022-09-15 18:30:29,506 - tracker - INFO - Rank 0 -- tracking contacts -- 8 of 8 of type isolation_unit\n",
      "2022-09-15 18:30:29,508 - tracker - INFO - Rank 0 -- tracking contacts -- 389 of 389 of type learning_center\n",
      "2022-09-15 18:30:30,590 - tracker - INFO - Rank 0 -- tracking contacts -- 115 of 115 of type communal\n",
      "2022-09-15 18:30:30,617 - tracker - INFO - Rank 0 -- tracking contacts -- 21 of 21 of type distribution_center\n",
      "2022-09-15 18:30:30,645 - tracker - INFO - Rank 0 -- tracking contacts -- 7 of 7 of type e_voucher\n",
      "2022-09-15 18:30:30,663 - tracker - INFO - Rank 0 -- tracking contacts -- 67 of 67 of type female_communal\n",
      "2022-09-15 18:30:30,710 - tracker - INFO - Rank 0 -- tracking contacts -- 81 of 81 of type informal_work\n",
      "2022-09-15 18:30:30,796 - tracker - INFO - Rank 0 -- tracking contacts -- 41 of 41 of type n_f_distribution_center\n"
     ]
    },
    {
     "name": "stdout",
     "output_type": "stream",
     "text": [
      "2022-09-15 18:30:30,842 - tracker - INFO - Rank 0 -- tracking contacts -- 500 of 539 of type play_group\n",
      "2022-09-15 18:30:31,157 - tracker - INFO - Rank 0 -- tracking contacts -- 82 of 82 of type pump_latrine\n",
      "2022-09-15 18:30:33,182 - tracker - INFO - Rank 0 -- tracking contacts -- 500 of 2065 of type religious\n",
      "2022-09-15 18:30:33,405 - rank - INFO - Rank 0 -- tracker -- 8.944780138001079\n",
      "2022-09-15 18:30:33,416 - epidemiology - INFO - CMS: Infection COMS-v2 for rank 0/1(2)0.000221093010623008,0.0002205371856689453 - 2020-05-25 15:00:00\n",
      "2022-09-15 18:30:33,449 - rank - INFO - Rank 0 -- interaction_waiting -- 5.756010068580508e-06\n",
      "2022-09-15 18:30:33,462 - simulator - INFO - CMS: Timestep for rank 0/1 - 10.274612786990474,10.274614334106445 - 2020-05-25 15:00:00\n",
      "\n",
      "2022-09-15 18:30:33,465 - rank - INFO - Next timestep\n",
      "2022-09-15 18:30:33,466 - simulator - INFO - ==================== timestep ====================\n",
      "2022-09-15 18:30:34,309 - rank - INFO - Rank 0 -- move_people -- 0.8418535800010432\n",
      "2022-09-15 18:30:34,310 - rank - INFO - Rank 0 -- move_people_waiting -- 5.0100061343982816e-06\n",
      "2022-09-15 18:30:34,312 - activity_manager - INFO - CMS: People COMS for rank 0/1 - 5.504000000655651e-06,5.245208740234375e-06 - 2020-05-25 17:00:00\n",
      "2022-09-15 18:30:34,318 - simulator - INFO - Info for rank 0, Date = 2020-05-25 17:00:00, number of deaths =  0, number of infected = 347\n",
      "2022-09-15 18:30:34,527 - rank - INFO - Rank 0 -- interaction -- 0.21468261801055633\n",
      "2022-09-15 18:30:40,404 - tracker - INFO - Rank 0 -- tracking contacts -- 500 of 3269 of type shelter\n",
      "2022-09-15 18:30:41,058 - tracker - INFO - Rank 0 -- tracking contacts -- 8 of 8 of type hospital\n",
      "2022-09-15 18:30:41,060 - tracker - INFO - Rank 0 -- tracking contacts -- 8 of 8 of type isolation_unit\n",
      "2022-09-15 18:30:41,062 - tracker - INFO - Rank 0 -- tracking contacts -- 389 of 389 of type learning_center\n",
      "2022-09-15 18:30:41,073 - tracker - INFO - Rank 0 -- tracking contacts -- 115 of 115 of type communal\n",
      "2022-09-15 18:30:41,076 - tracker - INFO - Rank 0 -- tracking contacts -- 21 of 21 of type distribution_center\n",
      "2022-09-15 18:30:41,107 - tracker - INFO - Rank 0 -- tracking contacts -- 7 of 7 of type e_voucher\n",
      "2022-09-15 18:30:41,119 - tracker - INFO - Rank 0 -- tracking contacts -- 67 of 67 of type female_communal\n",
      "2022-09-15 18:30:41,121 - tracker - INFO - Rank 0 -- tracking contacts -- 81 of 81 of type informal_work\n",
      "2022-09-15 18:30:41,229 - tracker - INFO - Rank 0 -- tracking contacts -- 41 of 41 of type n_f_distribution_center\n",
      "2022-09-15 18:30:41,289 - tracker - INFO - Rank 0 -- tracking contacts -- 500 of 539 of type play_group\n",
      "2022-09-15 18:30:41,706 - tracker - INFO - Rank 0 -- tracking contacts -- 82 of 82 of type pump_latrine\n",
      "2022-09-15 18:30:44,120 - tracker - INFO - Rank 0 -- tracking contacts -- 500 of 2065 of type religious\n",
      "2022-09-15 18:30:44,362 - rank - INFO - Rank 0 -- tracker -- 9.833513788995333\n",
      "2022-09-15 18:30:44,370 - epidemiology - INFO - CMS: Infection COMS-v2 for rank 0/1(2)0.00024578899319749326,0.0002455711364746094 - 2020-05-25 17:00:00\n",
      "2022-09-15 18:30:44,406 - rank - INFO - Rank 0 -- interaction_waiting -- 6.022004527039826e-06\n",
      "2022-09-15 18:30:44,423 - simulator - INFO - CMS: Timestep for rank 0/1 - 10.95563803400728,10.955639123916626 - 2020-05-25 17:00:00\n",
      "\n",
      "2022-09-15 18:30:44,425 - rank - INFO - Next timestep\n",
      "2022-09-15 18:30:44,426 - simulator - INFO - ==================== timestep ====================\n",
      "2022-09-15 18:30:44,601 - rank - INFO - Rank 0 -- move_people -- 0.17491465898638126\n",
      "2022-09-15 18:30:44,602 - rank - INFO - Rank 0 -- move_people_waiting -- 8.517003152519464e-06\n",
      "2022-09-15 18:30:44,603 - activity_manager - INFO - CMS: People COMS for rank 0/1 - 3.9969891076907516e-06,3.337860107421875e-06 - 2020-05-25 19:00:00\n",
      "2022-09-15 18:30:44,608 - simulator - INFO - Info for rank 0, Date = 2020-05-25 19:00:00, number of deaths =  0, number of infected = 359\n",
      "2022-09-15 18:30:44,698 - rank - INFO - Rank 0 -- interaction -- 0.09457008399476763\n",
      "2022-09-15 18:30:50,725 - tracker - INFO - Rank 0 -- tracking contacts -- 500 of 3269 of type shelter\n",
      "2022-09-15 18:30:52,197 - tracker - INFO - Rank 0 -- tracking contacts -- 8 of 8 of type hospital\n",
      "2022-09-15 18:30:52,200 - tracker - INFO - Rank 0 -- tracking contacts -- 8 of 8 of type isolation_unit\n",
      "2022-09-15 18:30:52,202 - tracker - INFO - Rank 0 -- tracking contacts -- 389 of 389 of type learning_center\n",
      "2022-09-15 18:30:52,219 - tracker - INFO - Rank 0 -- tracking contacts -- 115 of 115 of type communal\n",
      "2022-09-15 18:30:52,222 - tracker - INFO - Rank 0 -- tracking contacts -- 21 of 21 of type distribution_center\n",
      "2022-09-15 18:30:52,225 - tracker - INFO - Rank 0 -- tracking contacts -- 7 of 7 of type e_voucher\n",
      "2022-09-15 18:30:52,227 - tracker - INFO - Rank 0 -- tracking contacts -- 67 of 67 of type female_communal\n",
      "2022-09-15 18:30:52,231 - tracker - INFO - Rank 0 -- tracking contacts -- 81 of 81 of type informal_work\n",
      "2022-09-15 18:30:52,242 - tracker - INFO - Rank 0 -- tracking contacts -- 41 of 41 of type n_f_distribution_center\n",
      "2022-09-15 18:30:52,248 - tracker - INFO - Rank 0 -- tracking contacts -- 500 of 539 of type play_group\n",
      "2022-09-15 18:30:52,262 - tracker - INFO - Rank 0 -- tracking contacts -- 82 of 82 of type pump_latrine\n",
      "2022-09-15 18:30:52,283 - tracker - INFO - Rank 0 -- tracking contacts -- 500 of 2065 of type religious\n",
      "2022-09-15 18:30:52,295 - rank - INFO - Rank 0 -- tracker -- 7.596347693994176\n",
      "2022-09-15 18:30:52,334 - epidemiology - INFO - CMS: Infection COMS-v2 for rank 0/1(2)0.000262622008449398,0.00026226043701171875 - 2020-05-25 19:00:00\n",
      "2022-09-15 18:30:52,390 - rank - INFO - Rank 0 -- interaction_waiting -- 8.064991561695933e-06\n",
      "2022-09-15 18:30:52,412 - simulator - INFO - CMS: Timestep for rank 0/1 - 7.985207873003674,7.9852094650268555 - 2020-05-25 19:00:00\n",
      "\n",
      "2022-09-15 18:30:52,416 - rank - INFO - Next timestep\n",
      "2022-09-15 18:30:52,417 - simulator - INFO - ==================== timestep ====================\n",
      "2022-09-15 18:30:52,631 - rank - INFO - Rank 0 -- move_people -- 0.2130720389977796\n",
      "2022-09-15 18:30:52,631 - rank - INFO - Rank 0 -- move_people_waiting -- 6.3789921114221215e-06\n",
      "2022-09-15 18:30:52,632 - activity_manager - INFO - CMS: People COMS for rank 0/1 - 4.913992597721517e-06,4.5299530029296875e-06 - 2020-05-26 09:00:00\n",
      "2022-09-15 18:30:52,639 - simulator - INFO - Info for rank 0, Date = 2020-05-26 09:00:00, number of deaths =  0, number of infected = 413\n",
      "2022-09-15 18:30:52,725 - rank - INFO - Rank 0 -- interaction -- 0.09213672700570896\n",
      "2022-09-15 18:30:58,932 - tracker - INFO - Rank 0 -- tracking contacts -- 500 of 3269 of type shelter\n",
      "2022-09-15 18:30:59,850 - tracker - INFO - Rank 0 -- tracking contacts -- 8 of 8 of type hospital\n",
      "2022-09-15 18:30:59,873 - tracker - INFO - Rank 0 -- tracking contacts -- 8 of 8 of type isolation_unit\n",
      "2022-09-15 18:30:59,875 - tracker - INFO - Rank 0 -- tracking contacts -- 389 of 389 of type learning_center\n",
      "2022-09-15 18:31:00,855 - tracker - INFO - Rank 0 -- tracking contacts -- 115 of 115 of type communal\n",
      "2022-09-15 18:31:00,857 - tracker - INFO - Rank 0 -- tracking contacts -- 21 of 21 of type distribution_center\n",
      "2022-09-15 18:31:00,859 - tracker - INFO - Rank 0 -- tracking contacts -- 7 of 7 of type e_voucher\n",
      "2022-09-15 18:31:00,860 - tracker - INFO - Rank 0 -- tracking contacts -- 67 of 67 of type female_communal\n",
      "2022-09-15 18:31:00,863 - tracker - INFO - Rank 0 -- tracking contacts -- 81 of 81 of type informal_work\n",
      "2022-09-15 18:31:00,866 - tracker - INFO - Rank 0 -- tracking contacts -- 41 of 41 of type n_f_distribution_center\n",
      "2022-09-15 18:31:00,871 - tracker - INFO - Rank 0 -- tracking contacts -- 500 of 539 of type play_group\n",
      "2022-09-15 18:31:00,882 - tracker - INFO - Rank 0 -- tracking contacts -- 82 of 82 of type pump_latrine\n",
      "2022-09-15 18:31:00,896 - tracker - INFO - Rank 0 -- tracking contacts -- 500 of 2065 of type religious\n",
      "2022-09-15 18:31:00,905 - rank - INFO - Rank 0 -- tracker -- 8.177390184995602\n",
      "2022-09-15 18:31:00,912 - epidemiology - INFO - CMS: Infection COMS-v2 for rank 0/1(2)0.00045125800534151495,0.00045108795166015625 - 2020-05-26 09:00:00\n",
      "2022-09-15 18:31:00,956 - rank - INFO - Rank 0 -- interaction_waiting -- 7.353999535553157e-06\n"
     ]
    },
    {
     "name": "stdout",
     "output_type": "stream",
     "text": [
      "2022-09-15 18:31:00,970 - simulator - INFO - CMS: Timestep for rank 0/1 - 8.55286549399898,8.552865982055664 - 2020-05-26 09:00:00\n",
      "\n",
      "2022-09-15 18:31:00,973 - rank - INFO - Next timestep\n",
      "2022-09-15 18:31:00,975 - simulator - INFO - ==================== timestep ====================\n",
      "2022-09-15 18:31:01,765 - rank - INFO - Rank 0 -- move_people -- 0.7895547310035909\n",
      "2022-09-15 18:31:01,766 - rank - INFO - Rank 0 -- move_people_waiting -- 4.654997610487044e-06\n",
      "2022-09-15 18:31:01,767 - activity_manager - INFO - CMS: People COMS for rank 0/1 - 5.180001608096063e-06,5.0067901611328125e-06 - 2020-05-26 11:00:00\n",
      "2022-09-15 18:31:01,777 - simulator - INFO - Info for rank 0, Date = 2020-05-26 11:00:00, number of deaths =  0, number of infected = 422\n",
      "2022-09-15 18:31:01,978 - rank - INFO - Rank 0 -- interaction -- 0.20823692600242794\n",
      "2022-09-15 18:31:03,140 - tracker - INFO - Rank 0 -- tracking contacts -- 500 of 3269 of type shelter\n",
      "2022-09-15 18:31:03,719 - tracker - INFO - Rank 0 -- tracking contacts -- 8 of 8 of type hospital\n",
      "2022-09-15 18:31:03,743 - tracker - INFO - Rank 0 -- tracking contacts -- 8 of 8 of type isolation_unit\n",
      "2022-09-15 18:31:03,746 - tracker - INFO - Rank 0 -- tracking contacts -- 389 of 389 of type learning_center\n",
      "2022-09-15 18:31:04,872 - tracker - INFO - Rank 0 -- tracking contacts -- 115 of 115 of type communal\n",
      "2022-09-15 18:31:04,899 - tracker - INFO - Rank 0 -- tracking contacts -- 21 of 21 of type distribution_center\n",
      "2022-09-15 18:31:04,946 - tracker - INFO - Rank 0 -- tracking contacts -- 7 of 7 of type e_voucher\n",
      "2022-09-15 18:31:04,966 - tracker - INFO - Rank 0 -- tracking contacts -- 67 of 67 of type female_communal\n",
      "2022-09-15 18:31:05,015 - tracker - INFO - Rank 0 -- tracking contacts -- 81 of 81 of type informal_work\n",
      "2022-09-15 18:31:05,106 - tracker - INFO - Rank 0 -- tracking contacts -- 41 of 41 of type n_f_distribution_center\n",
      "2022-09-15 18:31:05,162 - tracker - INFO - Rank 0 -- tracking contacts -- 500 of 539 of type play_group\n",
      "2022-09-15 18:31:05,550 - tracker - INFO - Rank 0 -- tracking contacts -- 82 of 82 of type pump_latrine\n",
      "2022-09-15 18:31:07,765 - tracker - INFO - Rank 0 -- tracking contacts -- 500 of 2065 of type religious\n",
      "2022-09-15 18:31:08,037 - rank - INFO - Rank 0 -- tracker -- 6.059104093990754\n",
      "2022-09-15 18:31:08,051 - epidemiology - INFO - CMS: Infection COMS-v2 for rank 0/1(2)0.0002403760008746758,0.00024008750915527344 - 2020-05-26 11:00:00\n",
      "2022-09-15 18:31:08,086 - rank - INFO - Rank 0 -- interaction_waiting -- 6.930000381544232e-06\n",
      "2022-09-15 18:31:08,104 - simulator - INFO - CMS: Timestep for rank 0/1 - 7.128148425006657,7.128149509429932 - 2020-05-26 11:00:00\n",
      "\n",
      "2022-09-15 18:31:08,107 - rank - INFO - Next timestep\n",
      "2022-09-15 18:31:08,108 - simulator - INFO - ==================== timestep ====================\n",
      "2022-09-15 18:31:09,199 - rank - INFO - Rank 0 -- move_people -- 1.0897259539924562\n",
      "2022-09-15 18:31:09,200 - rank - INFO - Rank 0 -- move_people_waiting -- 8.098999387584627e-06\n",
      "2022-09-15 18:31:09,201 - activity_manager - INFO - CMS: People COMS for rank 0/1 - 5.041001713834703e-06,4.5299530029296875e-06 - 2020-05-26 13:00:00\n",
      "2022-09-15 18:31:09,208 - simulator - INFO - Info for rank 0, Date = 2020-05-26 13:00:00, number of deaths =  0, number of infected = 448\n",
      "2022-09-15 18:31:09,488 - rank - INFO - Rank 0 -- interaction -- 0.2860410720022628\n",
      "2022-09-15 18:31:12,995 - tracker - INFO - Rank 0 -- tracking contacts -- 500 of 3269 of type shelter\n",
      "2022-09-15 18:31:13,533 - tracker - INFO - Rank 0 -- tracking contacts -- 8 of 8 of type hospital\n",
      "2022-09-15 18:31:13,545 - tracker - INFO - Rank 0 -- tracking contacts -- 8 of 8 of type isolation_unit\n",
      "2022-09-15 18:31:13,547 - tracker - INFO - Rank 0 -- tracking contacts -- 389 of 389 of type learning_center\n",
      "2022-09-15 18:31:14,734 - tracker - INFO - Rank 0 -- tracking contacts -- 115 of 115 of type communal\n",
      "2022-09-15 18:31:14,774 - tracker - INFO - Rank 0 -- tracking contacts -- 21 of 21 of type distribution_center\n",
      "2022-09-15 18:31:14,811 - tracker - INFO - Rank 0 -- tracking contacts -- 7 of 7 of type e_voucher\n",
      "2022-09-15 18:31:14,822 - tracker - INFO - Rank 0 -- tracking contacts -- 67 of 67 of type female_communal\n",
      "2022-09-15 18:31:14,871 - tracker - INFO - Rank 0 -- tracking contacts -- 81 of 81 of type informal_work\n",
      "2022-09-15 18:31:14,977 - tracker - INFO - Rank 0 -- tracking contacts -- 41 of 41 of type n_f_distribution_center\n",
      "2022-09-15 18:31:15,032 - tracker - INFO - Rank 0 -- tracking contacts -- 500 of 539 of type play_group\n",
      "2022-09-15 18:31:15,398 - tracker - INFO - Rank 0 -- tracking contacts -- 82 of 82 of type pump_latrine\n",
      "2022-09-15 18:31:17,742 - tracker - INFO - Rank 0 -- tracking contacts -- 500 of 2065 of type religious\n",
      "2022-09-15 18:31:18,031 - rank - INFO - Rank 0 -- tracker -- 8.542038132000016\n",
      "2022-09-15 18:31:18,038 - epidemiology - INFO - CMS: Infection COMS-v2 for rank 0/1(2)0.0002925220032921061,0.0002925395965576172 - 2020-05-26 13:00:00\n",
      "2022-09-15 18:31:18,098 - rank - INFO - Rank 0 -- interaction_waiting -- 9.611001587472856e-06\n",
      "2022-09-15 18:31:18,117 - simulator - INFO - CMS: Timestep for rank 0/1 - 10.00774107700272,10.007742881774902 - 2020-05-26 13:00:00\n",
      "\n",
      "2022-09-15 18:31:18,120 - rank - INFO - Next timestep\n",
      "2022-09-15 18:31:18,121 - simulator - INFO - ==================== timestep ====================\n",
      "2022-09-15 18:31:19,152 - rank - INFO - Rank 0 -- move_people -- 1.0299080969998613\n",
      "2022-09-15 18:31:19,153 - rank - INFO - Rank 0 -- move_people_waiting -- 9.504990885034204e-06\n",
      "2022-09-15 18:31:19,154 - activity_manager - INFO - CMS: People COMS for rank 0/1 - 4.2530009523034096e-06,3.814697265625e-06 - 2020-05-26 15:00:00\n",
      "2022-09-15 18:31:19,164 - simulator - INFO - Info for rank 0, Date = 2020-05-26 15:00:00, number of deaths =  0, number of infected = 460\n",
      "2022-09-15 18:31:19,388 - rank - INFO - Rank 0 -- interaction -- 0.23254831098893192\n",
      "2022-09-15 18:31:24,549 - tracker - INFO - Rank 0 -- tracking contacts -- 500 of 3269 of type shelter\n",
      "2022-09-15 18:31:25,105 - tracker - INFO - Rank 0 -- tracking contacts -- 8 of 8 of type hospital\n",
      "2022-09-15 18:31:25,120 - tracker - INFO - Rank 0 -- tracking contacts -- 8 of 8 of type isolation_unit\n",
      "2022-09-15 18:31:25,123 - tracker - INFO - Rank 0 -- tracking contacts -- 389 of 389 of type learning_center\n",
      "2022-09-15 18:31:26,368 - tracker - INFO - Rank 0 -- tracking contacts -- 115 of 115 of type communal\n",
      "2022-09-15 18:31:26,399 - tracker - INFO - Rank 0 -- tracking contacts -- 21 of 21 of type distribution_center\n",
      "2022-09-15 18:31:26,438 - tracker - INFO - Rank 0 -- tracking contacts -- 7 of 7 of type e_voucher\n",
      "2022-09-15 18:31:26,451 - tracker - INFO - Rank 0 -- tracking contacts -- 67 of 67 of type female_communal\n",
      "2022-09-15 18:31:26,502 - tracker - INFO - Rank 0 -- tracking contacts -- 81 of 81 of type informal_work\n",
      "2022-09-15 18:31:26,612 - tracker - INFO - Rank 0 -- tracking contacts -- 41 of 41 of type n_f_distribution_center\n",
      "2022-09-15 18:31:26,674 - tracker - INFO - Rank 0 -- tracking contacts -- 500 of 539 of type play_group\n",
      "2022-09-15 18:31:27,205 - tracker - INFO - Rank 0 -- tracking contacts -- 82 of 82 of type pump_latrine\n",
      "2022-09-15 18:31:29,604 - tracker - INFO - Rank 0 -- tracking contacts -- 500 of 2065 of type religious\n",
      "2022-09-15 18:31:29,904 - rank - INFO - Rank 0 -- tracker -- 10.515173876003246\n",
      "2022-09-15 18:31:29,924 - epidemiology - INFO - CMS: Infection COMS-v2 for rank 0/1(2)0.0002410970046184957,0.00024056434631347656 - 2020-05-26 15:00:00\n",
      "2022-09-15 18:31:29,963 - rank - INFO - Rank 0 -- interaction_waiting -- 7.643000571988523e-06\n",
      "2022-09-15 18:31:29,985 - simulator - INFO - CMS: Timestep for rank 0/1 - 11.862438647003728,11.862439632415771 - 2020-05-26 15:00:00\n",
      "\n",
      "2022-09-15 18:31:29,988 - rank - INFO - Next timestep\n",
      "2022-09-15 18:31:29,989 - simulator - INFO - ==================== timestep ====================\n",
      "2022-09-15 18:31:30,939 - rank - INFO - Rank 0 -- move_people -- 0.9494060489960248\n",
      "2022-09-15 18:31:30,941 - rank - INFO - Rank 0 -- move_people_waiting -- 1.582798722665757e-05\n",
      "2022-09-15 18:31:30,946 - activity_manager - INFO - CMS: People COMS for rank 0/1 - 1.0549993021413684e-05,9.775161743164062e-06 - 2020-05-26 17:00:00\n",
      "2022-09-15 18:31:30,953 - simulator - INFO - Info for rank 0, Date = 2020-05-26 17:00:00, number of deaths =  0, number of infected = 491\n"
     ]
    },
    {
     "name": "stdout",
     "output_type": "stream",
     "text": [
      "2022-09-15 18:31:31,138 - rank - INFO - Rank 0 -- interaction -- 0.19023270599427633\n",
      "2022-09-15 18:31:37,299 - tracker - INFO - Rank 0 -- tracking contacts -- 500 of 3269 of type shelter\n",
      "2022-09-15 18:31:37,853 - tracker - INFO - Rank 0 -- tracking contacts -- 8 of 8 of type hospital\n",
      "2022-09-15 18:31:37,854 - tracker - INFO - Rank 0 -- tracking contacts -- 8 of 8 of type isolation_unit\n",
      "2022-09-15 18:31:37,856 - tracker - INFO - Rank 0 -- tracking contacts -- 389 of 389 of type learning_center\n",
      "2022-09-15 18:31:37,866 - tracker - INFO - Rank 0 -- tracking contacts -- 115 of 115 of type communal\n",
      "2022-09-15 18:31:37,869 - tracker - INFO - Rank 0 -- tracking contacts -- 21 of 21 of type distribution_center\n",
      "2022-09-15 18:31:37,902 - tracker - INFO - Rank 0 -- tracking contacts -- 7 of 7 of type e_voucher\n",
      "2022-09-15 18:31:37,914 - tracker - INFO - Rank 0 -- tracking contacts -- 67 of 67 of type female_communal\n",
      "2022-09-15 18:31:37,916 - tracker - INFO - Rank 0 -- tracking contacts -- 81 of 81 of type informal_work\n",
      "2022-09-15 18:31:38,010 - tracker - INFO - Rank 0 -- tracking contacts -- 41 of 41 of type n_f_distribution_center\n",
      "2022-09-15 18:31:38,067 - tracker - INFO - Rank 0 -- tracking contacts -- 500 of 539 of type play_group\n",
      "2022-09-15 18:31:38,394 - tracker - INFO - Rank 0 -- tracking contacts -- 82 of 82 of type pump_latrine\n",
      "2022-09-15 18:31:41,037 - tracker - INFO - Rank 0 -- tracking contacts -- 500 of 2065 of type religious\n",
      "2022-09-15 18:31:41,306 - rank - INFO - Rank 0 -- tracker -- 10.16670205599803\n",
      "2022-09-15 18:31:41,317 - epidemiology - INFO - CMS: Infection COMS-v2 for rank 0/1(2)0.00042297900654375553,0.0004220008850097656 - 2020-05-26 17:00:00\n",
      "2022-09-15 18:31:41,357 - rank - INFO - Rank 0 -- interaction_waiting -- 6.748989108018577e-06\n",
      "2022-09-15 18:31:41,370 - simulator - INFO - CMS: Timestep for rank 0/1 - 11.380430025004898,11.380431175231934 - 2020-05-26 17:00:00\n",
      "\n",
      "2022-09-15 18:31:41,373 - rank - INFO - Next timestep\n",
      "2022-09-15 18:31:41,374 - simulator - INFO - ==================== timestep ====================\n",
      "2022-09-15 18:31:41,565 - rank - INFO - Rank 0 -- move_people -- 0.19059889001073316\n",
      "2022-09-15 18:31:41,566 - rank - INFO - Rank 0 -- move_people_waiting -- 9.4920105766505e-06\n",
      "2022-09-15 18:31:41,567 - activity_manager - INFO - CMS: People COMS for rank 0/1 - 5.1249953685328364e-06,4.291534423828125e-06 - 2020-05-26 19:00:00\n",
      "2022-09-15 18:31:41,575 - simulator - INFO - Info for rank 0, Date = 2020-05-26 19:00:00, number of deaths =  0, number of infected = 510\n",
      "2022-09-15 18:31:41,688 - rank - INFO - Rank 0 -- interaction -- 0.1197086870088242\n",
      "2022-09-15 18:31:48,336 - tracker - INFO - Rank 0 -- tracking contacts -- 500 of 3269 of type shelter\n",
      "2022-09-15 18:31:49,698 - tracker - INFO - Rank 0 -- tracking contacts -- 8 of 8 of type hospital\n",
      "2022-09-15 18:31:49,700 - tracker - INFO - Rank 0 -- tracking contacts -- 8 of 8 of type isolation_unit\n",
      "2022-09-15 18:31:49,703 - tracker - INFO - Rank 0 -- tracking contacts -- 389 of 389 of type learning_center\n",
      "2022-09-15 18:31:49,721 - tracker - INFO - Rank 0 -- tracking contacts -- 115 of 115 of type communal\n",
      "2022-09-15 18:31:49,725 - tracker - INFO - Rank 0 -- tracking contacts -- 21 of 21 of type distribution_center\n",
      "2022-09-15 18:31:49,727 - tracker - INFO - Rank 0 -- tracking contacts -- 7 of 7 of type e_voucher\n",
      "2022-09-15 18:31:49,729 - tracker - INFO - Rank 0 -- tracking contacts -- 67 of 67 of type female_communal\n",
      "2022-09-15 18:31:49,736 - tracker - INFO - Rank 0 -- tracking contacts -- 81 of 81 of type informal_work\n",
      "2022-09-15 18:31:49,740 - tracker - INFO - Rank 0 -- tracking contacts -- 41 of 41 of type n_f_distribution_center\n",
      "2022-09-15 18:31:49,745 - tracker - INFO - Rank 0 -- tracking contacts -- 500 of 539 of type play_group\n",
      "2022-09-15 18:31:49,762 - tracker - INFO - Rank 0 -- tracking contacts -- 82 of 82 of type pump_latrine\n",
      "2022-09-15 18:31:49,782 - tracker - INFO - Rank 0 -- tracking contacts -- 500 of 2065 of type religious\n",
      "2022-09-15 18:31:49,797 - rank - INFO - Rank 0 -- tracker -- 8.108039577986347\n",
      "2022-09-15 18:31:49,860 - epidemiology - INFO - CMS: Infection COMS-v2 for rank 0/1(2)0.0009765579889062792,0.0009760856628417969 - 2020-05-26 19:00:00\n",
      "2022-09-15 18:31:49,940 - rank - INFO - Rank 0 -- interaction_waiting -- 1.8974998965859413e-05\n",
      "2022-09-15 18:31:49,976 - simulator - INFO - CMS: Timestep for rank 0/1 - 8.600997205998283,8.600998640060425 - 2020-05-26 19:00:00\n",
      "\n",
      "2022-09-15 18:31:49,981 - rank - INFO - Next timestep\n",
      "2022-09-15 18:31:49,984 - simulator - INFO - ==================== timestep ====================\n",
      "2022-09-15 18:31:50,303 - rank - INFO - Rank 0 -- move_people -- 0.3177302980038803\n",
      "2022-09-15 18:31:50,304 - rank - INFO - Rank 0 -- move_people_waiting -- 6.896007107570767e-06\n",
      "2022-09-15 18:31:50,306 - activity_manager - INFO - CMS: People COMS for rank 0/1 - 4.736008122563362e-06,4.291534423828125e-06 - 2020-05-27 09:00:00\n",
      "2022-09-15 18:31:50,312 - simulator - INFO - Info for rank 0, Date = 2020-05-27 09:00:00, number of deaths =  0, number of infected = 598\n",
      "2022-09-15 18:31:50,418 - rank - INFO - Rank 0 -- interaction -- 0.11089099501259625\n",
      "2022-09-15 18:31:57,301 - tracker - INFO - Rank 0 -- tracking contacts -- 500 of 3269 of type shelter\n",
      "2022-09-15 18:31:58,310 - tracker - INFO - Rank 0 -- tracking contacts -- 8 of 8 of type hospital\n",
      "2022-09-15 18:31:58,321 - tracker - INFO - Rank 0 -- tracking contacts -- 8 of 8 of type isolation_unit\n",
      "2022-09-15 18:31:58,323 - tracker - INFO - Rank 0 -- tracking contacts -- 389 of 389 of type learning_center\n",
      "2022-09-15 18:31:59,516 - tracker - INFO - Rank 0 -- tracking contacts -- 115 of 115 of type communal\n",
      "2022-09-15 18:31:59,519 - tracker - INFO - Rank 0 -- tracking contacts -- 21 of 21 of type distribution_center\n",
      "2022-09-15 18:31:59,521 - tracker - INFO - Rank 0 -- tracking contacts -- 7 of 7 of type e_voucher\n",
      "2022-09-15 18:31:59,522 - tracker - INFO - Rank 0 -- tracking contacts -- 67 of 67 of type female_communal\n",
      "2022-09-15 18:31:59,525 - tracker - INFO - Rank 0 -- tracking contacts -- 81 of 81 of type informal_work\n",
      "2022-09-15 18:31:59,530 - tracker - INFO - Rank 0 -- tracking contacts -- 41 of 41 of type n_f_distribution_center\n",
      "2022-09-15 18:31:59,533 - tracker - INFO - Rank 0 -- tracking contacts -- 500 of 539 of type play_group\n",
      "2022-09-15 18:31:59,545 - tracker - INFO - Rank 0 -- tracking contacts -- 82 of 82 of type pump_latrine\n",
      "2022-09-15 18:31:59,562 - tracker - INFO - Rank 0 -- tracking contacts -- 500 of 2065 of type religious\n",
      "2022-09-15 18:31:59,574 - rank - INFO - Rank 0 -- tracker -- 9.15551029999915\n",
      "2022-09-15 18:31:59,588 - epidemiology - INFO - CMS: Infection COMS-v2 for rank 0/1(2)0.00021654399461112916,0.0002162456512451172 - 2020-05-27 09:00:00\n",
      "2022-09-15 18:31:59,630 - rank - INFO - Rank 0 -- interaction_waiting -- 7.613009074702859e-06\n",
      "2022-09-15 18:31:59,645 - simulator - INFO - CMS: Timestep for rank 0/1 - 9.659686293001869,9.659687042236328 - 2020-05-27 09:00:00\n",
      "\n",
      "2022-09-15 18:31:59,648 - rank - INFO - Next timestep\n",
      "2022-09-15 18:31:59,649 - simulator - INFO - ==================== timestep ====================\n",
      "2022-09-15 18:32:00,606 - rank - INFO - Rank 0 -- move_people -- 0.9569454949960345\n",
      "2022-09-15 18:32:00,608 - rank - INFO - Rank 0 -- move_people_waiting -- 4.892994184046984e-06\n",
      "2022-09-15 18:32:00,609 - activity_manager - INFO - CMS: People COMS for rank 0/1 - 6.098009180277586e-06,5.245208740234375e-06 - 2020-05-27 11:00:00\n",
      "2022-09-15 18:32:00,616 - simulator - INFO - Info for rank 0, Date = 2020-05-27 11:00:00, number of deaths =  0, number of infected = 618\n",
      "2022-09-15 18:32:00,784 - rank - INFO - Rank 0 -- interaction -- 0.1736747649993049\n",
      "2022-09-15 18:32:01,941 - tracker - INFO - Rank 0 -- tracking contacts -- 500 of 3269 of type shelter\n",
      "2022-09-15 18:32:02,344 - tracker - INFO - Rank 0 -- tracking contacts -- 8 of 8 of type hospital\n",
      "2022-09-15 18:32:02,354 - tracker - INFO - Rank 0 -- tracking contacts -- 8 of 8 of type isolation_unit\n",
      "2022-09-15 18:32:02,356 - tracker - INFO - Rank 0 -- tracking contacts -- 389 of 389 of type learning_center\n",
      "2022-09-15 18:32:03,275 - tracker - INFO - Rank 0 -- tracking contacts -- 115 of 115 of type communal\n",
      "2022-09-15 18:32:03,301 - tracker - INFO - Rank 0 -- tracking contacts -- 21 of 21 of type distribution_center\n"
     ]
    },
    {
     "name": "stdout",
     "output_type": "stream",
     "text": [
      "2022-09-15 18:32:03,341 - tracker - INFO - Rank 0 -- tracking contacts -- 7 of 7 of type e_voucher\n",
      "2022-09-15 18:32:03,353 - tracker - INFO - Rank 0 -- tracking contacts -- 67 of 67 of type female_communal\n",
      "2022-09-15 18:32:03,397 - tracker - INFO - Rank 0 -- tracking contacts -- 81 of 81 of type informal_work\n",
      "2022-09-15 18:32:03,476 - tracker - INFO - Rank 0 -- tracking contacts -- 41 of 41 of type n_f_distribution_center\n",
      "2022-09-15 18:32:03,518 - tracker - INFO - Rank 0 -- tracking contacts -- 500 of 539 of type play_group\n",
      "2022-09-15 18:32:03,805 - tracker - INFO - Rank 0 -- tracking contacts -- 82 of 82 of type pump_latrine\n",
      "2022-09-15 18:32:05,604 - tracker - INFO - Rank 0 -- tracking contacts -- 500 of 2065 of type religious\n",
      "2022-09-15 18:32:05,823 - rank - INFO - Rank 0 -- tracker -- 5.037885486992309\n",
      "2022-09-15 18:32:05,835 - epidemiology - INFO - CMS: Infection COMS-v2 for rank 0/1(2)0.000647617009235546,0.0006468296051025391 - 2020-05-27 11:00:00\n",
      "2022-09-15 18:32:05,871 - rank - INFO - Rank 0 -- interaction_waiting -- 6.053000106476247e-06\n",
      "2022-09-15 18:32:05,884 - simulator - INFO - CMS: Timestep for rank 0/1 - 6.235003360998235,6.23500394821167 - 2020-05-27 11:00:00\n",
      "\n",
      "2022-09-15 18:32:05,887 - rank - INFO - Next timestep\n",
      "2022-09-15 18:32:05,888 - simulator - INFO - ==================== timestep ====================\n",
      "2022-09-15 18:32:06,650 - rank - INFO - Rank 0 -- move_people -- 0.7616852549981559\n",
      "2022-09-15 18:32:06,651 - rank - INFO - Rank 0 -- move_people_waiting -- 8.248010999523103e-06\n",
      "2022-09-15 18:32:06,652 - activity_manager - INFO - CMS: People COMS for rank 0/1 - 3.919005393981934e-06,3.337860107421875e-06 - 2020-05-27 13:00:00\n",
      "2022-09-15 18:32:06,660 - simulator - INFO - Info for rank 0, Date = 2020-05-27 13:00:00, number of deaths =  0, number of infected = 647\n",
      "2022-09-15 18:32:06,817 - rank - INFO - Rank 0 -- interaction -- 0.16409699500945862\n",
      "2022-09-15 18:32:09,542 - tracker - INFO - Rank 0 -- tracking contacts -- 500 of 3269 of type shelter\n",
      "2022-09-15 18:32:09,985 - tracker - INFO - Rank 0 -- tracking contacts -- 8 of 8 of type hospital\n",
      "2022-09-15 18:32:09,998 - tracker - INFO - Rank 0 -- tracking contacts -- 8 of 8 of type isolation_unit\n",
      "2022-09-15 18:32:10,000 - tracker - INFO - Rank 0 -- tracking contacts -- 389 of 389 of type learning_center\n",
      "2022-09-15 18:32:10,975 - tracker - INFO - Rank 0 -- tracking contacts -- 115 of 115 of type communal\n",
      "2022-09-15 18:32:10,998 - tracker - INFO - Rank 0 -- tracking contacts -- 21 of 21 of type distribution_center\n",
      "2022-09-15 18:32:11,029 - tracker - INFO - Rank 0 -- tracking contacts -- 7 of 7 of type e_voucher\n",
      "2022-09-15 18:32:11,050 - tracker - INFO - Rank 0 -- tracking contacts -- 67 of 67 of type female_communal\n",
      "2022-09-15 18:32:11,118 - tracker - INFO - Rank 0 -- tracking contacts -- 81 of 81 of type informal_work\n",
      "2022-09-15 18:32:11,217 - tracker - INFO - Rank 0 -- tracking contacts -- 41 of 41 of type n_f_distribution_center\n",
      "2022-09-15 18:32:11,261 - tracker - INFO - Rank 0 -- tracking contacts -- 500 of 539 of type play_group\n",
      "2022-09-15 18:32:11,587 - tracker - INFO - Rank 0 -- tracking contacts -- 82 of 82 of type pump_latrine\n",
      "2022-09-15 18:32:13,450 - tracker - INFO - Rank 0 -- tracking contacts -- 500 of 2065 of type religious\n",
      "2022-09-15 18:32:13,692 - rank - INFO - Rank 0 -- tracker -- 6.874452229007147\n",
      "2022-09-15 18:32:13,709 - epidemiology - INFO - CMS: Infection COMS-v2 for rank 0/1(2)0.0003104610077571124,0.0003101825714111328 - 2020-05-27 13:00:00\n",
      "2022-09-15 18:32:13,757 - rank - INFO - Rank 0 -- interaction_waiting -- 6.531990948133171e-06\n",
      "2022-09-15 18:32:13,772 - simulator - INFO - CMS: Timestep for rank 0/1 - 7.883128935005516,7.883129358291626 - 2020-05-27 13:00:00\n",
      "\n",
      "2022-09-15 18:32:13,774 - rank - INFO - Next timestep\n",
      "2022-09-15 18:32:13,775 - simulator - INFO - ==================== timestep ====================\n",
      "2022-09-15 18:32:14,805 - rank - INFO - Rank 0 -- move_people -- 1.0284532619989477\n",
      "2022-09-15 18:32:14,807 - rank - INFO - Rank 0 -- move_people_waiting -- 3.9330043364316225e-06\n",
      "2022-09-15 18:32:14,808 - activity_manager - INFO - CMS: People COMS for rank 0/1 - 5.2170071285218e-06,4.5299530029296875e-06 - 2020-05-27 15:00:00\n",
      "2022-09-15 18:32:14,815 - simulator - INFO - Info for rank 0, Date = 2020-05-27 15:00:00, number of deaths =  0, number of infected = 672\n",
      "2022-09-15 18:32:14,993 - rank - INFO - Rank 0 -- interaction -- 0.1838456249970477\n",
      "2022-09-15 18:32:19,241 - tracker - INFO - Rank 0 -- tracking contacts -- 500 of 3269 of type shelter\n",
      "2022-09-15 18:32:19,717 - tracker - INFO - Rank 0 -- tracking contacts -- 8 of 8 of type hospital\n",
      "2022-09-15 18:32:19,728 - tracker - INFO - Rank 0 -- tracking contacts -- 8 of 8 of type isolation_unit\n",
      "2022-09-15 18:32:19,730 - tracker - INFO - Rank 0 -- tracking contacts -- 389 of 389 of type learning_center\n",
      "2022-09-15 18:32:20,934 - tracker - INFO - Rank 0 -- tracking contacts -- 115 of 115 of type communal\n",
      "2022-09-15 18:32:20,964 - tracker - INFO - Rank 0 -- tracking contacts -- 21 of 21 of type distribution_center\n",
      "2022-09-15 18:32:20,996 - tracker - INFO - Rank 0 -- tracking contacts -- 7 of 7 of type e_voucher\n",
      "2022-09-15 18:32:21,015 - tracker - INFO - Rank 0 -- tracking contacts -- 67 of 67 of type female_communal\n",
      "2022-09-15 18:32:21,063 - tracker - INFO - Rank 0 -- tracking contacts -- 81 of 81 of type informal_work\n",
      "2022-09-15 18:32:21,168 - tracker - INFO - Rank 0 -- tracking contacts -- 41 of 41 of type n_f_distribution_center\n",
      "2022-09-15 18:32:21,220 - tracker - INFO - Rank 0 -- tracking contacts -- 500 of 539 of type play_group\n",
      "2022-09-15 18:32:21,520 - tracker - INFO - Rank 0 -- tracking contacts -- 82 of 82 of type pump_latrine\n",
      "2022-09-15 18:32:23,378 - tracker - INFO - Rank 0 -- tracking contacts -- 500 of 2065 of type religious\n",
      "2022-09-15 18:32:23,624 - rank - INFO - Rank 0 -- tracker -- 8.629639423001208\n",
      "2022-09-15 18:32:23,640 - epidemiology - INFO - CMS: Infection COMS-v2 for rank 0/1(2)0.0002356750046601519,0.0002353191375732422 - 2020-05-27 15:00:00\n",
      "2022-09-15 18:32:23,686 - rank - INFO - Rank 0 -- interaction_waiting -- 7.195005309768021e-06\n",
      "2022-09-15 18:32:23,703 - simulator - INFO - CMS: Timestep for rank 0/1 - 9.926457880006637,9.926458358764648 - 2020-05-27 15:00:00\n",
      "\n",
      "2022-09-15 18:32:23,705 - rank - INFO - Next timestep\n",
      "2022-09-15 18:32:23,707 - simulator - INFO - ==================== timestep ====================\n",
      "2022-09-15 18:32:24,776 - rank - INFO - Rank 0 -- move_people -- 1.0688065660069697\n",
      "2022-09-15 18:32:24,777 - rank - INFO - Rank 0 -- move_people_waiting -- 7.807000656612217e-06\n",
      "2022-09-15 18:32:24,778 - activity_manager - INFO - CMS: People COMS for rank 0/1 - 4.3100008042529225e-06,3.814697265625e-06 - 2020-05-27 17:00:00\n",
      "2022-09-15 18:32:24,784 - simulator - INFO - Info for rank 0, Date = 2020-05-27 17:00:00, number of deaths =  0, number of infected = 702\n",
      "2022-09-15 18:32:24,971 - rank - INFO - Rank 0 -- interaction -- 0.19194434600649402\n",
      "2022-09-15 18:32:29,899 - tracker - INFO - Rank 0 -- tracking contacts -- 500 of 3269 of type shelter\n",
      "2022-09-15 18:32:30,435 - tracker - INFO - Rank 0 -- tracking contacts -- 8 of 8 of type hospital\n",
      "2022-09-15 18:32:30,436 - tracker - INFO - Rank 0 -- tracking contacts -- 8 of 8 of type isolation_unit\n",
      "2022-09-15 18:32:30,438 - tracker - INFO - Rank 0 -- tracking contacts -- 389 of 389 of type learning_center\n",
      "2022-09-15 18:32:30,447 - tracker - INFO - Rank 0 -- tracking contacts -- 115 of 115 of type communal\n",
      "2022-09-15 18:32:30,450 - tracker - INFO - Rank 0 -- tracking contacts -- 21 of 21 of type distribution_center\n",
      "2022-09-15 18:32:30,480 - tracker - INFO - Rank 0 -- tracking contacts -- 7 of 7 of type e_voucher\n",
      "2022-09-15 18:32:30,490 - tracker - INFO - Rank 0 -- tracking contacts -- 67 of 67 of type female_communal\n",
      "2022-09-15 18:32:30,492 - tracker - INFO - Rank 0 -- tracking contacts -- 81 of 81 of type informal_work\n",
      "2022-09-15 18:32:30,583 - tracker - INFO - Rank 0 -- tracking contacts -- 41 of 41 of type n_f_distribution_center\n",
      "2022-09-15 18:32:30,632 - tracker - INFO - Rank 0 -- tracking contacts -- 500 of 539 of type play_group\n",
      "2022-09-15 18:32:30,959 - tracker - INFO - Rank 0 -- tracking contacts -- 82 of 82 of type pump_latrine\n"
     ]
    },
    {
     "name": "stdout",
     "output_type": "stream",
     "text": [
      "2022-09-15 18:32:33,394 - tracker - INFO - Rank 0 -- tracking contacts -- 500 of 2065 of type religious\n",
      "2022-09-15 18:32:33,650 - rank - INFO - Rank 0 -- tracker -- 8.67782414201065\n",
      "2022-09-15 18:32:33,667 - epidemiology - INFO - CMS: Infection COMS-v2 for rank 0/1(2)0.00022369800717569888,0.0002231597900390625 - 2020-05-27 17:00:00\n",
      "2022-09-15 18:32:33,706 - rank - INFO - Rank 0 -- interaction_waiting -- 6.9929956225678325e-06\n",
      "2022-09-15 18:32:33,720 - simulator - INFO - CMS: Timestep for rank 0/1 - 10.012693625991233,10.012694358825684 - 2020-05-27 17:00:00\n",
      "\n",
      "2022-09-15 18:32:33,723 - rank - INFO - Next timestep\n",
      "2022-09-15 18:32:33,724 - simulator - INFO - ==================== timestep ====================\n",
      "2022-09-15 18:32:33,898 - rank - INFO - Rank 0 -- move_people -- 0.17333996000525076\n",
      "2022-09-15 18:32:33,899 - rank - INFO - Rank 0 -- move_people_waiting -- 6.838992703706026e-06\n",
      "2022-09-15 18:32:33,900 - activity_manager - INFO - CMS: People COMS for rank 0/1 - 3.975990694016218e-06,3.5762786865234375e-06 - 2020-05-27 19:00:00\n",
      "2022-09-15 18:32:33,905 - simulator - INFO - Info for rank 0, Date = 2020-05-27 19:00:00, number of deaths =  0, number of infected = 745\n",
      "2022-09-15 18:32:34,018 - rank - INFO - Rank 0 -- interaction -- 0.11764293399755843\n",
      "2022-09-15 18:32:40,297 - tracker - INFO - Rank 0 -- tracking contacts -- 500 of 3269 of type shelter\n",
      "2022-09-15 18:32:41,573 - tracker - INFO - Rank 0 -- tracking contacts -- 8 of 8 of type hospital\n",
      "2022-09-15 18:32:41,575 - tracker - INFO - Rank 0 -- tracking contacts -- 8 of 8 of type isolation_unit\n",
      "2022-09-15 18:32:41,577 - tracker - INFO - Rank 0 -- tracking contacts -- 389 of 389 of type learning_center\n",
      "2022-09-15 18:32:41,590 - tracker - INFO - Rank 0 -- tracking contacts -- 115 of 115 of type communal\n",
      "2022-09-15 18:32:41,592 - tracker - INFO - Rank 0 -- tracking contacts -- 21 of 21 of type distribution_center\n",
      "2022-09-15 18:32:41,594 - tracker - INFO - Rank 0 -- tracking contacts -- 7 of 7 of type e_voucher\n",
      "2022-09-15 18:32:41,596 - tracker - INFO - Rank 0 -- tracking contacts -- 67 of 67 of type female_communal\n",
      "2022-09-15 18:32:41,599 - tracker - INFO - Rank 0 -- tracking contacts -- 81 of 81 of type informal_work\n",
      "2022-09-15 18:32:41,603 - tracker - INFO - Rank 0 -- tracking contacts -- 41 of 41 of type n_f_distribution_center\n",
      "2022-09-15 18:32:41,606 - tracker - INFO - Rank 0 -- tracking contacts -- 500 of 539 of type play_group\n",
      "2022-09-15 18:32:41,616 - tracker - INFO - Rank 0 -- tracking contacts -- 82 of 82 of type pump_latrine\n",
      "2022-09-15 18:32:41,631 - tracker - INFO - Rank 0 -- tracking contacts -- 500 of 2065 of type religious\n",
      "2022-09-15 18:32:41,642 - rank - INFO - Rank 0 -- tracker -- 7.623124972989899\n",
      "2022-09-15 18:32:41,697 - epidemiology - INFO - CMS: Infection COMS-v2 for rank 0/1(2)0.0002284560032421723,0.0002281665802001953 - 2020-05-27 19:00:00\n",
      "2022-09-15 18:32:41,739 - rank - INFO - Rank 0 -- interaction_waiting -- 6.149988621473312e-06\n",
      "2022-09-15 18:32:41,754 - simulator - INFO - CMS: Timestep for rank 0/1 - 8.029247687998577,8.029248237609863 - 2020-05-27 19:00:00\n",
      "\n",
      "2022-09-15 18:32:41,758 - rank - INFO - Next timestep\n",
      "2022-09-15 18:32:41,759 - simulator - INFO - ==================== timestep ====================\n",
      "2022-09-15 18:32:41,988 - rank - INFO - Rank 0 -- move_people -- 0.22856736299581826\n",
      "2022-09-15 18:32:41,989 - rank - INFO - Rank 0 -- move_people_waiting -- 9.134993888437748e-06\n",
      "2022-09-15 18:32:41,990 - activity_manager - INFO - CMS: People COMS for rank 0/1 - 4.4130138121545315e-06,3.814697265625e-06 - 2020-05-28 09:00:00\n",
      "2022-09-15 18:32:41,997 - simulator - INFO - Info for rank 0, Date = 2020-05-28 09:00:00, number of deaths =  0, number of infected = 878\n",
      "2022-09-15 18:32:42,104 - rank - INFO - Rank 0 -- interaction -- 0.1126766989909811\n",
      "2022-09-15 18:32:48,214 - tracker - INFO - Rank 0 -- tracking contacts -- 500 of 3269 of type shelter\n",
      "2022-09-15 18:32:49,133 - tracker - INFO - Rank 0 -- tracking contacts -- 8 of 8 of type hospital\n",
      "2022-09-15 18:32:49,145 - tracker - INFO - Rank 0 -- tracking contacts -- 8 of 8 of type isolation_unit\n",
      "2022-09-15 18:32:49,146 - tracker - INFO - Rank 0 -- tracking contacts -- 389 of 389 of type learning_center\n",
      "2022-09-15 18:32:50,096 - tracker - INFO - Rank 0 -- tracking contacts -- 115 of 115 of type communal\n",
      "2022-09-15 18:32:50,098 - tracker - INFO - Rank 0 -- tracking contacts -- 21 of 21 of type distribution_center\n",
      "2022-09-15 18:32:50,100 - tracker - INFO - Rank 0 -- tracking contacts -- 7 of 7 of type e_voucher\n",
      "2022-09-15 18:32:50,101 - tracker - INFO - Rank 0 -- tracking contacts -- 67 of 67 of type female_communal\n",
      "2022-09-15 18:32:50,103 - tracker - INFO - Rank 0 -- tracking contacts -- 81 of 81 of type informal_work\n",
      "2022-09-15 18:32:50,105 - tracker - INFO - Rank 0 -- tracking contacts -- 41 of 41 of type n_f_distribution_center\n",
      "2022-09-15 18:32:50,108 - tracker - INFO - Rank 0 -- tracking contacts -- 500 of 539 of type play_group\n",
      "2022-09-15 18:32:50,117 - tracker - INFO - Rank 0 -- tracking contacts -- 82 of 82 of type pump_latrine\n",
      "2022-09-15 18:32:50,129 - tracker - INFO - Rank 0 -- tracking contacts -- 500 of 2065 of type religious\n",
      "2022-09-15 18:32:50,137 - rank - INFO - Rank 0 -- tracker -- 8.032246975009912\n",
      "2022-09-15 18:32:50,152 - epidemiology - INFO - CMS: Infection COMS-v2 for rank 0/1(2)0.0015716410125605762,0.0015709400177001953 - 2020-05-28 09:00:00\n",
      "2022-09-15 18:32:50,188 - rank - INFO - Rank 0 -- interaction_waiting -- 6.5929925767704844e-06\n",
      "2022-09-15 18:32:50,201 - simulator - INFO - CMS: Timestep for rank 0/1 - 8.441324542000075,8.441325187683105 - 2020-05-28 09:00:00\n",
      "\n",
      "2022-09-15 18:32:50,204 - rank - INFO - Next timestep\n",
      "2022-09-15 18:32:50,205 - simulator - INFO - ==================== timestep ====================\n",
      "2022-09-15 18:32:51,103 - rank - INFO - Rank 0 -- move_people -- 0.8978930409939494\n",
      "2022-09-15 18:32:51,105 - rank - INFO - Rank 0 -- move_people_waiting -- 4.337009158916771e-06\n",
      "2022-09-15 18:32:51,106 - activity_manager - INFO - CMS: People COMS for rank 0/1 - 4.221001290716231e-06,3.814697265625e-06 - 2020-05-28 11:00:00\n",
      "2022-09-15 18:32:51,111 - simulator - INFO - Info for rank 0, Date = 2020-05-28 11:00:00, number of deaths =  0, number of infected = 899\n",
      "2022-09-15 18:32:51,292 - rank - INFO - Rank 0 -- interaction -- 0.18541206000372767\n",
      "2022-09-15 18:32:52,418 - tracker - INFO - Rank 0 -- tracking contacts -- 500 of 3269 of type shelter\n",
      "2022-09-15 18:32:52,888 - tracker - INFO - Rank 0 -- tracking contacts -- 8 of 8 of type hospital\n",
      "2022-09-15 18:32:52,898 - tracker - INFO - Rank 0 -- tracking contacts -- 8 of 8 of type isolation_unit\n",
      "2022-09-15 18:32:52,900 - tracker - INFO - Rank 0 -- tracking contacts -- 389 of 389 of type learning_center\n",
      "2022-09-15 18:32:53,851 - tracker - INFO - Rank 0 -- tracking contacts -- 115 of 115 of type communal\n",
      "2022-09-15 18:32:53,874 - tracker - INFO - Rank 0 -- tracking contacts -- 21 of 21 of type distribution_center\n",
      "2022-09-15 18:32:53,900 - tracker - INFO - Rank 0 -- tracking contacts -- 7 of 7 of type e_voucher\n",
      "2022-09-15 18:32:53,915 - tracker - INFO - Rank 0 -- tracking contacts -- 67 of 67 of type female_communal\n",
      "2022-09-15 18:32:53,962 - tracker - INFO - Rank 0 -- tracking contacts -- 81 of 81 of type informal_work\n",
      "2022-09-15 18:32:54,067 - tracker - INFO - Rank 0 -- tracking contacts -- 41 of 41 of type n_f_distribution_center\n",
      "2022-09-15 18:32:54,125 - tracker - INFO - Rank 0 -- tracking contacts -- 500 of 539 of type play_group\n",
      "2022-09-15 18:32:54,446 - tracker - INFO - Rank 0 -- tracking contacts -- 82 of 82 of type pump_latrine\n",
      "2022-09-15 18:32:56,379 - tracker - INFO - Rank 0 -- tracking contacts -- 500 of 2065 of type religious\n",
      "2022-09-15 18:32:56,609 - rank - INFO - Rank 0 -- tracker -- 5.316360332988552\n",
      "2022-09-15 18:32:56,627 - epidemiology - INFO - CMS: Infection COMS-v2 for rank 0/1(2)0.00036881699634250253,0.00036835670471191406 - 2020-05-28 11:00:00\n",
      "2022-09-15 18:32:56,670 - rank - INFO - Rank 0 -- interaction_waiting -- 7.030001142993569e-06\n",
      "2022-09-15 18:32:56,684 - simulator - INFO - CMS: Timestep for rank 0/1 - 6.478505061997566,6.478506088256836 - 2020-05-28 11:00:00\n",
      "\n",
      "2022-09-15 18:32:56,686 - rank - INFO - Next timestep\n"
     ]
    },
    {
     "name": "stdout",
     "output_type": "stream",
     "text": [
      "2022-09-15 18:32:56,688 - simulator - INFO - ==================== timestep ====================\n",
      "2022-09-15 18:32:57,628 - rank - INFO - Rank 0 -- move_people -- 0.9392833820020314\n",
      "2022-09-15 18:32:57,629 - rank - INFO - Rank 0 -- move_people_waiting -- 7.285998435690999e-06\n",
      "2022-09-15 18:32:57,630 - activity_manager - INFO - CMS: People COMS for rank 0/1 - 4.7149951569736e-06,4.291534423828125e-06 - 2020-05-28 13:00:00\n",
      "2022-09-15 18:32:57,638 - simulator - INFO - Info for rank 0, Date = 2020-05-28 13:00:00, number of deaths =  0, number of infected = 939\n",
      "2022-09-15 18:32:57,822 - rank - INFO - Rank 0 -- interaction -- 0.1915497099980712\n",
      "2022-09-15 18:33:00,719 - tracker - INFO - Rank 0 -- tracking contacts -- 500 of 3269 of type shelter\n",
      "2022-09-15 18:33:01,205 - tracker - INFO - Rank 0 -- tracking contacts -- 8 of 8 of type hospital\n",
      "2022-09-15 18:33:01,215 - tracker - INFO - Rank 0 -- tracking contacts -- 8 of 8 of type isolation_unit\n",
      "2022-09-15 18:33:01,217 - tracker - INFO - Rank 0 -- tracking contacts -- 389 of 389 of type learning_center\n",
      "2022-09-15 18:33:02,215 - tracker - INFO - Rank 0 -- tracking contacts -- 115 of 115 of type communal\n",
      "2022-09-15 18:33:02,244 - tracker - INFO - Rank 0 -- tracking contacts -- 21 of 21 of type distribution_center\n",
      "2022-09-15 18:33:02,268 - tracker - INFO - Rank 0 -- tracking contacts -- 7 of 7 of type e_voucher\n",
      "2022-09-15 18:33:02,278 - tracker - INFO - Rank 0 -- tracking contacts -- 67 of 67 of type female_communal\n",
      "2022-09-15 18:33:02,319 - tracker - INFO - Rank 0 -- tracking contacts -- 81 of 81 of type informal_work\n",
      "2022-09-15 18:33:02,409 - tracker - INFO - Rank 0 -- tracking contacts -- 41 of 41 of type n_f_distribution_center\n",
      "2022-09-15 18:33:02,448 - tracker - INFO - Rank 0 -- tracking contacts -- 500 of 539 of type play_group\n",
      "2022-09-15 18:33:02,739 - tracker - INFO - Rank 0 -- tracking contacts -- 82 of 82 of type pump_latrine\n",
      "2022-09-15 18:33:04,658 - tracker - INFO - Rank 0 -- tracking contacts -- 500 of 2065 of type religious\n",
      "2022-09-15 18:33:04,887 - rank - INFO - Rank 0 -- tracker -- 7.063493050009129\n",
      "2022-09-15 18:33:04,903 - epidemiology - INFO - CMS: Infection COMS-v2 for rank 0/1(2)0.00022904499201104045,0.0002281665802001953 - 2020-05-28 13:00:00\n",
      "2022-09-15 18:33:04,945 - rank - INFO - Rank 0 -- interaction_waiting -- 7.497001206502318e-06\n",
      "2022-09-15 18:33:04,961 - simulator - INFO - CMS: Timestep for rank 0/1 - 8.272489269991638,8.27249002456665 - 2020-05-28 13:00:00\n",
      "\n",
      "2022-09-15 18:33:04,964 - rank - INFO - Next timestep\n",
      "2022-09-15 18:33:04,965 - simulator - INFO - ==================== timestep ====================\n",
      "2022-09-15 18:33:05,908 - rank - INFO - Rank 0 -- move_people -- 0.9417609600059222\n",
      "2022-09-15 18:33:05,909 - rank - INFO - Rank 0 -- move_people_waiting -- 8.5460051195696e-06\n",
      "2022-09-15 18:33:05,910 - activity_manager - INFO - CMS: People COMS for rank 0/1 - 4.993999027647078e-06,4.5299530029296875e-06 - 2020-05-28 15:00:00\n",
      "2022-09-15 18:33:05,916 - simulator - INFO - Info for rank 0, Date = 2020-05-28 15:00:00, number of deaths =  0, number of infected = 979\n",
      "2022-09-15 18:33:06,100 - rank - INFO - Rank 0 -- interaction -- 0.18917703100305516\n",
      "2022-09-15 18:33:10,611 - tracker - INFO - Rank 0 -- tracking contacts -- 500 of 3269 of type shelter\n",
      "2022-09-15 18:33:11,087 - tracker - INFO - Rank 0 -- tracking contacts -- 8 of 8 of type hospital\n",
      "2022-09-15 18:33:11,102 - tracker - INFO - Rank 0 -- tracking contacts -- 8 of 8 of type isolation_unit\n",
      "2022-09-15 18:33:11,104 - tracker - INFO - Rank 0 -- tracking contacts -- 389 of 389 of type learning_center\n",
      "2022-09-15 18:33:12,204 - tracker - INFO - Rank 0 -- tracking contacts -- 115 of 115 of type communal\n",
      "2022-09-15 18:33:12,228 - tracker - INFO - Rank 0 -- tracking contacts -- 21 of 21 of type distribution_center\n",
      "2022-09-15 18:33:12,267 - tracker - INFO - Rank 0 -- tracking contacts -- 7 of 7 of type e_voucher\n",
      "2022-09-15 18:33:12,278 - tracker - INFO - Rank 0 -- tracking contacts -- 67 of 67 of type female_communal\n",
      "2022-09-15 18:33:12,329 - tracker - INFO - Rank 0 -- tracking contacts -- 81 of 81 of type informal_work\n",
      "2022-09-15 18:33:12,419 - tracker - INFO - Rank 0 -- tracking contacts -- 41 of 41 of type n_f_distribution_center\n",
      "2022-09-15 18:33:12,481 - tracker - INFO - Rank 0 -- tracking contacts -- 500 of 539 of type play_group\n",
      "2022-09-15 18:33:12,775 - tracker - INFO - Rank 0 -- tracking contacts -- 82 of 82 of type pump_latrine\n",
      "2022-09-15 18:33:14,616 - tracker - INFO - Rank 0 -- tracking contacts -- 500 of 2065 of type religious\n",
      "2022-09-15 18:33:14,852 - rank - INFO - Rank 0 -- tracker -- 8.751062598006683\n",
      "2022-09-15 18:33:14,875 - epidemiology - INFO - CMS: Infection COMS-v2 for rank 0/1(2)0.00023112799681257457,0.0002307891845703125 - 2020-05-28 15:00:00\n",
      "2022-09-15 18:33:14,921 - rank - INFO - Rank 0 -- interaction_waiting -- 6.493995897471905e-06\n",
      "2022-09-15 18:33:14,937 - simulator - INFO - CMS: Timestep for rank 0/1 - 9.971114993997617,9.971115827560425 - 2020-05-28 15:00:00\n",
      "\n",
      "2022-09-15 18:33:14,940 - rank - INFO - Next timestep\n",
      "2022-09-15 18:33:14,941 - simulator - INFO - ==================== timestep ====================\n",
      "2022-09-15 18:33:15,790 - rank - INFO - Rank 0 -- move_people -- 0.8481067060056375\n",
      "2022-09-15 18:33:15,791 - rank - INFO - Rank 0 -- move_people_waiting -- 7.982991519384086e-06\n",
      "2022-09-15 18:33:15,791 - activity_manager - INFO - CMS: People COMS for rank 0/1 - 3.8130092434585094e-06,3.337860107421875e-06 - 2020-05-28 17:00:00\n",
      "2022-09-15 18:33:15,799 - simulator - INFO - Info for rank 0, Date = 2020-05-28 17:00:00, number of deaths =  0, number of infected = 1020\n",
      "2022-09-15 18:33:15,988 - rank - INFO - Rank 0 -- interaction -- 0.19571205900865607\n",
      "2022-09-15 18:33:21,313 - tracker - INFO - Rank 0 -- tracking contacts -- 500 of 3269 of type shelter\n",
      "2022-09-15 18:33:21,863 - tracker - INFO - Rank 0 -- tracking contacts -- 8 of 8 of type hospital\n",
      "2022-09-15 18:33:21,864 - tracker - INFO - Rank 0 -- tracking contacts -- 8 of 8 of type isolation_unit\n",
      "2022-09-15 18:33:21,866 - tracker - INFO - Rank 0 -- tracking contacts -- 389 of 389 of type learning_center\n",
      "2022-09-15 18:33:21,876 - tracker - INFO - Rank 0 -- tracking contacts -- 115 of 115 of type communal\n",
      "2022-09-15 18:33:21,879 - tracker - INFO - Rank 0 -- tracking contacts -- 21 of 21 of type distribution_center\n",
      "2022-09-15 18:33:21,915 - tracker - INFO - Rank 0 -- tracking contacts -- 7 of 7 of type e_voucher\n",
      "2022-09-15 18:33:21,928 - tracker - INFO - Rank 0 -- tracking contacts -- 67 of 67 of type female_communal\n",
      "2022-09-15 18:33:21,930 - tracker - INFO - Rank 0 -- tracking contacts -- 81 of 81 of type informal_work\n",
      "2022-09-15 18:33:22,029 - tracker - INFO - Rank 0 -- tracking contacts -- 41 of 41 of type n_f_distribution_center\n",
      "2022-09-15 18:33:22,089 - tracker - INFO - Rank 0 -- tracking contacts -- 500 of 539 of type play_group\n",
      "2022-09-15 18:33:22,470 - tracker - INFO - Rank 0 -- tracking contacts -- 82 of 82 of type pump_latrine\n",
      "2022-09-15 18:33:24,782 - tracker - INFO - Rank 0 -- tracking contacts -- 500 of 2065 of type religious\n",
      "2022-09-15 18:33:25,034 - rank - INFO - Rank 0 -- tracker -- 9.045296778000193\n",
      "2022-09-15 18:33:25,061 - epidemiology - INFO - CMS: Infection COMS-v2 for rank 0/1(2)0.00022914599685464054,0.0002288818359375 - 2020-05-28 17:00:00\n",
      "2022-09-15 18:33:25,109 - rank - INFO - Rank 0 -- interaction_waiting -- 6.8250083131715655e-06\n",
      "2022-09-15 18:33:25,124 - simulator - INFO - CMS: Timestep for rank 0/1 - 10.181739042003755,10.181740283966064 - 2020-05-28 17:00:00\n",
      "\n",
      "2022-09-15 18:33:25,126 - rank - INFO - Next timestep\n",
      "2022-09-15 18:33:25,129 - simulator - INFO - ==================== timestep ====================\n",
      "2022-09-15 18:33:25,314 - rank - INFO - Rank 0 -- move_people -- 0.1838792199996533\n",
      "2022-09-15 18:33:25,315 - rank - INFO - Rank 0 -- move_people_waiting -- 4.282002919353545e-06\n",
      "2022-09-15 18:33:25,316 - activity_manager - INFO - CMS: People COMS for rank 0/1 - 4.240995622240007e-06,3.814697265625e-06 - 2020-05-28 19:00:00\n",
      "2022-09-15 18:33:25,324 - simulator - INFO - Info for rank 0, Date = 2020-05-28 19:00:00, number of deaths =  0, number of infected = 1061\n",
      "2022-09-15 18:33:25,461 - rank - INFO - Rank 0 -- interaction -- 0.1446223429957172\n"
     ]
    },
    {
     "name": "stdout",
     "output_type": "stream",
     "text": [
      "2022-09-15 18:33:31,561 - tracker - INFO - Rank 0 -- tracking contacts -- 500 of 3269 of type shelter\n",
      "2022-09-15 18:33:32,868 - tracker - INFO - Rank 0 -- tracking contacts -- 8 of 8 of type hospital\n",
      "2022-09-15 18:33:32,869 - tracker - INFO - Rank 0 -- tracking contacts -- 8 of 8 of type isolation_unit\n",
      "2022-09-15 18:33:32,872 - tracker - INFO - Rank 0 -- tracking contacts -- 389 of 389 of type learning_center\n",
      "2022-09-15 18:33:32,885 - tracker - INFO - Rank 0 -- tracking contacts -- 115 of 115 of type communal\n",
      "2022-09-15 18:33:32,888 - tracker - INFO - Rank 0 -- tracking contacts -- 21 of 21 of type distribution_center\n",
      "2022-09-15 18:33:32,890 - tracker - INFO - Rank 0 -- tracking contacts -- 7 of 7 of type e_voucher\n",
      "2022-09-15 18:33:32,891 - tracker - INFO - Rank 0 -- tracking contacts -- 67 of 67 of type female_communal\n",
      "2022-09-15 18:33:32,894 - tracker - INFO - Rank 0 -- tracking contacts -- 81 of 81 of type informal_work\n",
      "2022-09-15 18:33:32,896 - tracker - INFO - Rank 0 -- tracking contacts -- 41 of 41 of type n_f_distribution_center\n",
      "2022-09-15 18:33:32,900 - tracker - INFO - Rank 0 -- tracking contacts -- 500 of 539 of type play_group\n",
      "2022-09-15 18:33:32,912 - tracker - INFO - Rank 0 -- tracking contacts -- 82 of 82 of type pump_latrine\n",
      "2022-09-15 18:33:32,927 - tracker - INFO - Rank 0 -- tracking contacts -- 500 of 2065 of type religious\n",
      "2022-09-15 18:33:32,936 - rank - INFO - Rank 0 -- tracker -- 7.473980919996393\n",
      "2022-09-15 18:33:33,002 - epidemiology - INFO - CMS: Infection COMS-v2 for rank 0/1(2)0.0002262989873997867,0.0002257823944091797 - 2020-05-28 19:00:00\n",
      "2022-09-15 18:33:33,050 - rank - INFO - Rank 0 -- interaction_waiting -- 6.339003448374569e-06\n",
      "2022-09-15 18:33:33,064 - simulator - INFO - CMS: Timestep for rank 0/1 - 7.933949326004949,7.933950662612915 - 2020-05-28 19:00:00\n",
      "\n",
      "2022-09-15 18:33:33,067 - rank - INFO - Next timestep\n",
      "2022-09-15 18:33:33,068 - simulator - INFO - ==================== timestep ====================\n",
      "2022-09-15 18:33:33,261 - rank - INFO - Rank 0 -- move_people -- 0.1919532669999171\n",
      "2022-09-15 18:33:33,262 - rank - INFO - Rank 0 -- move_people_waiting -- 4.1900057112798095e-06\n",
      "2022-09-15 18:33:33,263 - activity_manager - INFO - CMS: People COMS for rank 0/1 - 5.822992534376681e-06,4.76837158203125e-06 - 2020-05-29 09:00:00\n",
      "2022-09-15 18:33:33,269 - simulator - INFO - Info for rank 0, Date = 2020-05-29 09:00:00, number of deaths =  0, number of infected = 1202\n",
      "2022-09-15 18:33:33,382 - rank - INFO - Rank 0 -- interaction -- 0.11726611800258979\n",
      "2022-09-15 18:33:38,927 - tracker - INFO - Rank 0 -- tracking contacts -- 500 of 3269 of type shelter\n",
      "2022-09-15 18:33:39,904 - tracker - INFO - Rank 0 -- tracking contacts -- 8 of 8 of type hospital\n",
      "2022-09-15 18:33:39,904 - tracker - INFO - Rank 0 -- tracking contacts -- 8 of 8 of type isolation_unit\n",
      "2022-09-15 18:33:39,907 - tracker - INFO - Rank 0 -- tracking contacts -- 389 of 389 of type learning_center\n",
      "2022-09-15 18:33:39,917 - tracker - INFO - Rank 0 -- tracking contacts -- 115 of 115 of type communal\n",
      "2022-09-15 18:33:39,920 - tracker - INFO - Rank 0 -- tracking contacts -- 21 of 21 of type distribution_center\n",
      "2022-09-15 18:33:39,922 - tracker - INFO - Rank 0 -- tracking contacts -- 7 of 7 of type e_voucher\n",
      "2022-09-15 18:33:39,923 - tracker - INFO - Rank 0 -- tracking contacts -- 67 of 67 of type female_communal\n",
      "2022-09-15 18:33:39,926 - tracker - INFO - Rank 0 -- tracking contacts -- 81 of 81 of type informal_work\n",
      "2022-09-15 18:33:39,929 - tracker - INFO - Rank 0 -- tracking contacts -- 41 of 41 of type n_f_distribution_center\n",
      "2022-09-15 18:33:39,931 - tracker - INFO - Rank 0 -- tracking contacts -- 500 of 539 of type play_group\n",
      "2022-09-15 18:33:39,941 - tracker - INFO - Rank 0 -- tracking contacts -- 82 of 82 of type pump_latrine\n",
      "2022-09-15 18:33:39,953 - tracker - INFO - Rank 0 -- tracking contacts -- 500 of 2065 of type religious\n",
      "2022-09-15 18:33:39,961 - rank - INFO - Rank 0 -- tracker -- 6.578619665000588\n",
      "2022-09-15 18:33:39,983 - epidemiology - INFO - CMS: Infection COMS-v2 for rank 0/1(2)0.00033201499900314957,0.00033164024353027344 - 2020-05-29 09:00:00\n",
      "2022-09-15 18:33:40,032 - rank - INFO - Rank 0 -- interaction_waiting -- 7.499009370803833e-06\n",
      "2022-09-15 18:33:40,052 - simulator - INFO - CMS: Timestep for rank 0/1 - 6.982757653997396,6.982758522033691 - 2020-05-29 09:00:00\n",
      "\n",
      "2022-09-15 18:33:40,055 - rank - INFO - Next timestep\n",
      "2022-09-15 18:33:40,056 - simulator - INFO - ==================== timestep ====================\n",
      "2022-09-15 18:33:40,935 - rank - INFO - Rank 0 -- move_people -- 0.8788571379991481\n",
      "2022-09-15 18:33:40,936 - rank - INFO - Rank 0 -- move_people_waiting -- 6.90801243763417e-06\n",
      "2022-09-15 18:33:40,937 - activity_manager - INFO - CMS: People COMS for rank 0/1 - 3.868000931106508e-06,3.5762786865234375e-06 - 2020-05-29 12:00:00\n",
      "2022-09-15 18:33:40,942 - simulator - INFO - Info for rank 0, Date = 2020-05-29 12:00:00, number of deaths =  0, number of infected = 1243\n",
      "2022-09-15 18:33:41,159 - rank - INFO - Rank 0 -- interaction -- 0.22197797099943273\n",
      "2022-09-15 18:33:41,685 - tracker - INFO - Rank 0 -- tracking contacts -- 500 of 3269 of type shelter\n",
      "2022-09-15 18:33:42,255 - tracker - INFO - Rank 0 -- tracking contacts -- 8 of 8 of type hospital\n",
      "2022-09-15 18:33:42,256 - tracker - INFO - Rank 0 -- tracking contacts -- 8 of 8 of type isolation_unit\n",
      "2022-09-15 18:33:42,259 - tracker - INFO - Rank 0 -- tracking contacts -- 389 of 389 of type learning_center\n",
      "2022-09-15 18:33:42,269 - tracker - INFO - Rank 0 -- tracking contacts -- 115 of 115 of type communal\n",
      "2022-09-15 18:33:42,273 - tracker - INFO - Rank 0 -- tracking contacts -- 21 of 21 of type distribution_center\n",
      "2022-09-15 18:33:42,317 - tracker - INFO - Rank 0 -- tracking contacts -- 7 of 7 of type e_voucher\n",
      "2022-09-15 18:33:42,331 - tracker - INFO - Rank 0 -- tracking contacts -- 67 of 67 of type female_communal\n",
      "2022-09-15 18:33:42,332 - tracker - INFO - Rank 0 -- tracking contacts -- 81 of 81 of type informal_work\n",
      "2022-09-15 18:33:42,425 - tracker - INFO - Rank 0 -- tracking contacts -- 41 of 41 of type n_f_distribution_center\n",
      "2022-09-15 18:33:42,477 - tracker - INFO - Rank 0 -- tracking contacts -- 500 of 539 of type play_group\n",
      "2022-09-15 18:33:42,846 - tracker - INFO - Rank 0 -- tracking contacts -- 82 of 82 of type pump_latrine\n",
      "2022-09-15 18:33:45,163 - tracker - INFO - Rank 0 -- tracking contacts -- 500 of 2065 of type religious\n",
      "2022-09-15 18:33:45,467 - rank - INFO - Rank 0 -- tracker -- 4.307099540994386\n",
      "2022-09-15 18:33:45,488 - epidemiology - INFO - CMS: Infection COMS-v2 for rank 0/1(2)0.0002292340068379417,0.00022840499877929688 - 2020-05-29 12:00:00\n",
      "2022-09-15 18:33:45,533 - rank - INFO - Rank 0 -- interaction_waiting -- 6.952992407605052e-06\n",
      "2022-09-15 18:33:45,547 - simulator - INFO - CMS: Timestep for rank 0/1 - 5.490797209000448,5.490797996520996 - 2020-05-29 12:00:00\n",
      "\n",
      "2022-09-15 18:33:45,551 - rank - INFO - Next timestep\n",
      "2022-09-15 18:33:45,552 - simulator - INFO - ==================== timestep ====================\n",
      "2022-09-15 18:33:46,518 - rank - INFO - Rank 0 -- move_people -- 0.9654596900072647\n",
      "2022-09-15 18:33:46,519 - rank - INFO - Rank 0 -- move_people_waiting -- 4.262008587829769e-06\n",
      "2022-09-15 18:33:46,520 - activity_manager - INFO - CMS: People COMS for rank 0/1 - 4.738991265185177e-06,4.291534423828125e-06 - 2020-05-29 14:00:00\n",
      "2022-09-15 18:33:46,527 - simulator - INFO - Info for rank 0, Date = 2020-05-29 14:00:00, number of deaths =  0, number of infected = 1289\n",
      "2022-09-15 18:33:46,735 - rank - INFO - Rank 0 -- interaction -- 0.2144537049898645\n",
      "2022-09-15 18:33:48,713 - tracker - INFO - Rank 0 -- tracking contacts -- 500 of 3269 of type shelter\n",
      "2022-09-15 18:33:49,273 - tracker - INFO - Rank 0 -- tracking contacts -- 8 of 8 of type hospital\n",
      "2022-09-15 18:33:49,274 - tracker - INFO - Rank 0 -- tracking contacts -- 8 of 8 of type isolation_unit\n",
      "2022-09-15 18:33:49,276 - tracker - INFO - Rank 0 -- tracking contacts -- 389 of 389 of type learning_center\n",
      "2022-09-15 18:33:49,284 - tracker - INFO - Rank 0 -- tracking contacts -- 115 of 115 of type communal\n",
      "2022-09-15 18:33:49,288 - tracker - INFO - Rank 0 -- tracking contacts -- 21 of 21 of type distribution_center\n"
     ]
    },
    {
     "name": "stdout",
     "output_type": "stream",
     "text": [
      "2022-09-15 18:33:49,329 - tracker - INFO - Rank 0 -- tracking contacts -- 7 of 7 of type e_voucher\n",
      "2022-09-15 18:33:49,340 - tracker - INFO - Rank 0 -- tracking contacts -- 67 of 67 of type female_communal\n",
      "2022-09-15 18:33:49,342 - tracker - INFO - Rank 0 -- tracking contacts -- 81 of 81 of type informal_work\n",
      "2022-09-15 18:33:49,439 - tracker - INFO - Rank 0 -- tracking contacts -- 41 of 41 of type n_f_distribution_center\n",
      "2022-09-15 18:33:49,516 - tracker - INFO - Rank 0 -- tracking contacts -- 500 of 539 of type play_group\n",
      "2022-09-15 18:33:49,859 - tracker - INFO - Rank 0 -- tracking contacts -- 82 of 82 of type pump_latrine\n",
      "2022-09-15 18:33:52,153 - tracker - INFO - Rank 0 -- tracking contacts -- 500 of 2065 of type religious\n",
      "2022-09-15 18:33:52,402 - rank - INFO - Rank 0 -- tracker -- 5.665438407988404\n",
      "2022-09-15 18:33:52,436 - epidemiology - INFO - CMS: Infection COMS-v2 for rank 0/1(2)0.000316764009767212,0.000316619873046875 - 2020-05-29 14:00:00\n",
      "2022-09-15 18:33:52,492 - rank - INFO - Rank 0 -- interaction_waiting -- 7.065988029353321e-06\n",
      "2022-09-15 18:33:52,510 - simulator - INFO - CMS: Timestep for rank 0/1 - 6.957337964995531,6.957339525222778 - 2020-05-29 14:00:00\n",
      "\n",
      "2022-09-15 18:33:52,513 - rank - INFO - Next timestep\n",
      "2022-09-15 18:33:52,514 - simulator - INFO - ==================== timestep ====================\n",
      "2022-09-15 18:33:53,512 - rank - INFO - Rank 0 -- move_people -- 0.997359207001864\n",
      "2022-09-15 18:33:53,513 - rank - INFO - Rank 0 -- move_people_waiting -- 1.1208991054445505e-05\n",
      "2022-09-15 18:33:53,514 - activity_manager - INFO - CMS: People COMS for rank 0/1 - 5.665991920977831e-06,5.245208740234375e-06 - 2020-05-29 16:00:00\n",
      "2022-09-15 18:33:53,522 - simulator - INFO - Info for rank 0, Date = 2020-05-29 16:00:00, number of deaths =  0, number of infected = 1344\n",
      "2022-09-15 18:33:53,736 - rank - INFO - Rank 0 -- interaction -- 0.22047166599077173\n",
      "2022-09-15 18:33:56,768 - tracker - INFO - Rank 0 -- tracking contacts -- 500 of 3269 of type shelter\n",
      "2022-09-15 18:33:57,332 - tracker - INFO - Rank 0 -- tracking contacts -- 8 of 8 of type hospital\n",
      "2022-09-15 18:33:57,333 - tracker - INFO - Rank 0 -- tracking contacts -- 8 of 8 of type isolation_unit\n",
      "2022-09-15 18:33:57,335 - tracker - INFO - Rank 0 -- tracking contacts -- 389 of 389 of type learning_center\n",
      "2022-09-15 18:33:57,340 - tracker - INFO - Rank 0 -- tracking contacts -- 115 of 115 of type communal\n",
      "2022-09-15 18:33:57,343 - tracker - INFO - Rank 0 -- tracking contacts -- 21 of 21 of type distribution_center\n",
      "2022-09-15 18:33:57,369 - tracker - INFO - Rank 0 -- tracking contacts -- 7 of 7 of type e_voucher\n",
      "2022-09-15 18:33:57,387 - tracker - INFO - Rank 0 -- tracking contacts -- 67 of 67 of type female_communal\n",
      "2022-09-15 18:33:57,389 - tracker - INFO - Rank 0 -- tracking contacts -- 81 of 81 of type informal_work\n",
      "2022-09-15 18:33:57,481 - tracker - INFO - Rank 0 -- tracking contacts -- 41 of 41 of type n_f_distribution_center\n",
      "2022-09-15 18:33:57,561 - tracker - INFO - Rank 0 -- tracking contacts -- 500 of 539 of type play_group\n",
      "2022-09-15 18:33:57,903 - tracker - INFO - Rank 0 -- tracking contacts -- 82 of 82 of type pump_latrine\n",
      "2022-09-15 18:33:59,960 - tracker - INFO - Rank 0 -- tracking contacts -- 500 of 2065 of type religious\n",
      "2022-09-15 18:34:00,192 - rank - INFO - Rank 0 -- tracker -- 6.454615580005338\n",
      "2022-09-15 18:34:00,215 - epidemiology - INFO - CMS: Infection COMS-v2 for rank 0/1(2)0.00029769800312351435,0.00029730796813964844 - 2020-05-29 16:00:00\n",
      "2022-09-15 18:34:00,255 - rank - INFO - Rank 0 -- interaction_waiting -- 5.549998604692519e-06\n",
      "2022-09-15 18:34:00,268 - simulator - INFO - CMS: Timestep for rank 0/1 - 7.75308863799728,7.753089189529419 - 2020-05-29 16:00:00\n",
      "\n",
      "2022-09-15 18:34:00,270 - rank - INFO - Next timestep\n",
      "2022-09-15 18:34:00,271 - simulator - INFO - ==================== timestep ====================\n",
      "2022-09-15 18:34:01,187 - rank - INFO - Rank 0 -- move_people -- 0.9149915529997088\n",
      "2022-09-15 18:34:01,188 - rank - INFO - Rank 0 -- move_people_waiting -- 8.710005204193294e-06\n",
      "2022-09-15 18:34:01,189 - activity_manager - INFO - CMS: People COMS for rank 0/1 - 4.465997335501015e-06,4.0531158447265625e-06 - 2020-05-29 18:00:00\n",
      "2022-09-15 18:34:01,195 - simulator - INFO - Info for rank 0, Date = 2020-05-29 18:00:00, number of deaths =  0, number of infected = 1403\n",
      "2022-09-15 18:34:01,410 - rank - INFO - Rank 0 -- interaction -- 0.2204225960012991\n",
      "2022-09-15 18:34:05,491 - tracker - INFO - Rank 0 -- tracking contacts -- 500 of 3269 of type shelter\n",
      "2022-09-15 18:34:06,173 - tracker - INFO - Rank 0 -- tracking contacts -- 8 of 8 of type hospital\n",
      "2022-09-15 18:34:06,174 - tracker - INFO - Rank 0 -- tracking contacts -- 8 of 8 of type isolation_unit\n",
      "2022-09-15 18:34:06,180 - tracker - INFO - Rank 0 -- tracking contacts -- 389 of 389 of type learning_center\n",
      "2022-09-15 18:34:06,191 - tracker - INFO - Rank 0 -- tracking contacts -- 115 of 115 of type communal\n",
      "2022-09-15 18:34:06,195 - tracker - INFO - Rank 0 -- tracking contacts -- 21 of 21 of type distribution_center\n",
      "2022-09-15 18:34:06,235 - tracker - INFO - Rank 0 -- tracking contacts -- 7 of 7 of type e_voucher\n",
      "2022-09-15 18:34:06,255 - tracker - INFO - Rank 0 -- tracking contacts -- 67 of 67 of type female_communal\n",
      "2022-09-15 18:34:06,257 - tracker - INFO - Rank 0 -- tracking contacts -- 81 of 81 of type informal_work\n",
      "2022-09-15 18:34:06,426 - tracker - INFO - Rank 0 -- tracking contacts -- 41 of 41 of type n_f_distribution_center\n",
      "2022-09-15 18:34:06,504 - tracker - INFO - Rank 0 -- tracking contacts -- 500 of 539 of type play_group\n",
      "2022-09-15 18:34:07,059 - tracker - INFO - Rank 0 -- tracking contacts -- 82 of 82 of type pump_latrine\n",
      "2022-09-15 18:34:10,835 - tracker - INFO - Rank 0 -- tracking contacts -- 500 of 2065 of type religious\n",
      "2022-09-15 18:34:11,239 - rank - INFO - Rank 0 -- tracker -- 9.82837553700665\n",
      "2022-09-15 18:34:11,276 - epidemiology - INFO - CMS: Infection COMS-v2 for rank 0/1(2)0.0004249780031386763,0.0004241466522216797 - 2020-05-29 18:00:00\n",
      "2022-09-15 18:34:11,358 - rank - INFO - Rank 0 -- interaction_waiting -- 9.534007403999567e-06\n",
      "2022-09-15 18:34:11,383 - simulator - INFO - CMS: Timestep for rank 0/1 - 11.110850627999753,11.110852003097534 - 2020-05-29 18:00:00\n",
      "\n",
      "2022-09-15 18:34:11,388 - rank - INFO - Next timestep\n",
      "2022-09-15 18:34:11,389 - simulator - INFO - ==================== timestep ====================\n",
      "2022-09-15 18:34:11,722 - rank - INFO - Rank 0 -- move_people -- 0.33086710500356276\n",
      "2022-09-15 18:34:11,723 - rank - INFO - Rank 0 -- move_people_waiting -- 5.325986421667039e-06\n",
      "2022-09-15 18:34:11,724 - activity_manager - INFO - CMS: People COMS for rank 0/1 - 6.795002263970673e-06,5.9604644775390625e-06 - 2020-05-29 20:00:00\n",
      "2022-09-15 18:34:11,735 - simulator - INFO - Info for rank 0, Date = 2020-05-29 20:00:00, number of deaths =  0, number of infected = 1457\n",
      "2022-09-15 18:34:11,994 - rank - INFO - Rank 0 -- interaction -- 0.2689702119969297\n",
      "2022-09-15 18:34:18,319 - tracker - INFO - Rank 0 -- tracking contacts -- 500 of 3269 of type shelter\n",
      "2022-09-15 18:34:20,129 - tracker - INFO - Rank 0 -- tracking contacts -- 8 of 8 of type hospital\n",
      "2022-09-15 18:34:20,131 - tracker - INFO - Rank 0 -- tracking contacts -- 8 of 8 of type isolation_unit\n",
      "2022-09-15 18:34:20,133 - tracker - INFO - Rank 0 -- tracking contacts -- 389 of 389 of type learning_center\n",
      "2022-09-15 18:34:20,143 - tracker - INFO - Rank 0 -- tracking contacts -- 115 of 115 of type communal\n",
      "2022-09-15 18:34:20,147 - tracker - INFO - Rank 0 -- tracking contacts -- 21 of 21 of type distribution_center\n",
      "2022-09-15 18:34:20,149 - tracker - INFO - Rank 0 -- tracking contacts -- 7 of 7 of type e_voucher\n",
      "2022-09-15 18:34:20,151 - tracker - INFO - Rank 0 -- tracking contacts -- 67 of 67 of type female_communal\n",
      "2022-09-15 18:34:20,155 - tracker - INFO - Rank 0 -- tracking contacts -- 81 of 81 of type informal_work\n",
      "2022-09-15 18:34:20,159 - tracker - INFO - Rank 0 -- tracking contacts -- 41 of 41 of type n_f_distribution_center\n",
      "2022-09-15 18:34:20,163 - tracker - INFO - Rank 0 -- tracking contacts -- 500 of 539 of type play_group\n",
      "2022-09-15 18:34:20,174 - tracker - INFO - Rank 0 -- tracking contacts -- 82 of 82 of type pump_latrine\n"
     ]
    },
    {
     "name": "stdout",
     "output_type": "stream",
     "text": [
      "2022-09-15 18:34:20,188 - tracker - INFO - Rank 0 -- tracking contacts -- 500 of 2065 of type religious\n",
      "2022-09-15 18:34:20,198 - rank - INFO - Rank 0 -- tracker -- 8.20258988799469\n",
      "2022-09-15 18:34:20,312 - epidemiology - INFO - CMS: Infection COMS-v2 for rank 0/1(2)0.00023333399440161884,0.00023293495178222656 - 2020-05-29 20:00:00\n",
      "2022-09-15 18:34:20,356 - rank - INFO - Rank 0 -- interaction_waiting -- 1.890500425361097e-05\n",
      "2022-09-15 18:34:20,372 - simulator - INFO - CMS: Timestep for rank 0/1 - 8.981161160001648,8.981162071228027 - 2020-05-29 20:00:00\n",
      "\n",
      "2022-09-15 18:34:20,374 - rank - INFO - Next timestep\n",
      "2022-09-15 18:34:20,375 - simulator - INFO - ==================== timestep ====================\n",
      "2022-09-15 18:34:20,647 - rank - INFO - Rank 0 -- move_people -- 0.2709121850057272\n",
      "2022-09-15 18:34:20,648 - rank - INFO - Rank 0 -- move_people_waiting -- 8.438000804744661e-06\n",
      "2022-09-15 18:34:20,649 - activity_manager - INFO - CMS: People COMS for rank 0/1 - 4.6439963625743985e-06,4.291534423828125e-06 - 2020-05-30 09:00:00\n",
      "2022-09-15 18:34:20,659 - simulator - INFO - Info for rank 0, Date = 2020-05-30 09:00:00, number of deaths =  0, number of infected = 1645\n",
      "2022-09-15 18:34:20,822 - rank - INFO - Rank 0 -- interaction -- 0.1689591879985528\n",
      "2022-09-15 18:34:27,870 - tracker - INFO - Rank 0 -- tracking contacts -- 500 of 3269 of type shelter\n",
      "2022-09-15 18:34:29,223 - tracker - INFO - Rank 0 -- tracking contacts -- 8 of 8 of type hospital\n",
      "2022-09-15 18:34:29,225 - tracker - INFO - Rank 0 -- tracking contacts -- 8 of 8 of type isolation_unit\n",
      "2022-09-15 18:34:29,227 - tracker - INFO - Rank 0 -- tracking contacts -- 389 of 389 of type learning_center\n",
      "2022-09-15 18:34:29,233 - tracker - INFO - Rank 0 -- tracking contacts -- 115 of 115 of type communal\n",
      "2022-09-15 18:34:29,236 - tracker - INFO - Rank 0 -- tracking contacts -- 21 of 21 of type distribution_center\n",
      "2022-09-15 18:34:29,238 - tracker - INFO - Rank 0 -- tracking contacts -- 7 of 7 of type e_voucher\n",
      "2022-09-15 18:34:29,239 - tracker - INFO - Rank 0 -- tracking contacts -- 67 of 67 of type female_communal\n",
      "2022-09-15 18:34:29,242 - tracker - INFO - Rank 0 -- tracking contacts -- 81 of 81 of type informal_work\n",
      "2022-09-15 18:34:29,246 - tracker - INFO - Rank 0 -- tracking contacts -- 41 of 41 of type n_f_distribution_center\n",
      "2022-09-15 18:34:29,248 - tracker - INFO - Rank 0 -- tracking contacts -- 500 of 539 of type play_group\n",
      "2022-09-15 18:34:29,259 - tracker - INFO - Rank 0 -- tracking contacts -- 82 of 82 of type pump_latrine\n",
      "2022-09-15 18:34:29,271 - tracker - INFO - Rank 0 -- tracking contacts -- 500 of 2065 of type religious\n",
      "2022-09-15 18:34:29,279 - rank - INFO - Rank 0 -- tracker -- 8.455086902002222\n",
      "2022-09-15 18:34:29,315 - epidemiology - INFO - CMS: Infection COMS-v2 for rank 0/1(2)0.0004016109887743369,0.0004012584686279297 - 2020-05-30 09:00:00\n",
      "2022-09-15 18:34:29,377 - rank - INFO - Rank 0 -- interaction_waiting -- 7.212001946754754e-06\n",
      "2022-09-15 18:34:29,395 - simulator - INFO - CMS: Timestep for rank 0/1 - 9.018803494996973,9.018803834915161 - 2020-05-30 09:00:00\n",
      "\n",
      "2022-09-15 18:34:29,398 - rank - INFO - Next timestep\n",
      "2022-09-15 18:34:29,399 - simulator - INFO - ==================== timestep ====================\n",
      "2022-09-15 18:34:30,393 - rank - INFO - Rank 0 -- move_people -- 0.9925139609986218\n",
      "2022-09-15 18:34:30,394 - rank - INFO - Rank 0 -- move_people_waiting -- 3.816996468231082e-06\n",
      "2022-09-15 18:34:30,395 - activity_manager - INFO - CMS: People COMS for rank 0/1 - 4.5909982873126864e-06,4.291534423828125e-06 - 2020-05-30 12:00:00\n",
      "2022-09-15 18:34:30,403 - simulator - INFO - Info for rank 0, Date = 2020-05-30 12:00:00, number of deaths =  0, number of infected = 1691\n",
      "2022-09-15 18:34:30,747 - rank - INFO - Rank 0 -- interaction -- 0.3507787659909809\n",
      "2022-09-15 18:34:31,399 - tracker - INFO - Rank 0 -- tracking contacts -- 500 of 3269 of type shelter\n",
      "2022-09-15 18:34:31,970 - tracker - INFO - Rank 0 -- tracking contacts -- 8 of 8 of type hospital\n",
      "2022-09-15 18:34:31,971 - tracker - INFO - Rank 0 -- tracking contacts -- 8 of 8 of type isolation_unit\n",
      "2022-09-15 18:34:31,974 - tracker - INFO - Rank 0 -- tracking contacts -- 389 of 389 of type learning_center\n",
      "2022-09-15 18:34:31,986 - tracker - INFO - Rank 0 -- tracking contacts -- 115 of 115 of type communal\n",
      "2022-09-15 18:34:31,990 - tracker - INFO - Rank 0 -- tracking contacts -- 21 of 21 of type distribution_center\n",
      "2022-09-15 18:34:32,046 - tracker - INFO - Rank 0 -- tracking contacts -- 7 of 7 of type e_voucher\n",
      "2022-09-15 18:34:32,066 - tracker - INFO - Rank 0 -- tracking contacts -- 67 of 67 of type female_communal\n",
      "2022-09-15 18:34:32,070 - tracker - INFO - Rank 0 -- tracking contacts -- 81 of 81 of type informal_work\n",
      "2022-09-15 18:34:32,188 - tracker - INFO - Rank 0 -- tracking contacts -- 41 of 41 of type n_f_distribution_center\n",
      "2022-09-15 18:34:32,288 - tracker - INFO - Rank 0 -- tracking contacts -- 500 of 539 of type play_group\n",
      "2022-09-15 18:34:32,762 - tracker - INFO - Rank 0 -- tracking contacts -- 82 of 82 of type pump_latrine\n",
      "2022-09-15 18:34:35,777 - tracker - INFO - Rank 0 -- tracking contacts -- 500 of 2065 of type religious\n",
      "2022-09-15 18:34:36,241 - rank - INFO - Rank 0 -- tracker -- 5.493382388987811\n",
      "2022-09-15 18:34:36,281 - epidemiology - INFO - CMS: Infection COMS-v2 for rank 0/1(2)0.0004921759973512962,0.0004918575286865234 - 2020-05-30 12:00:00\n",
      "2022-09-15 18:34:36,358 - rank - INFO - Rank 0 -- interaction_waiting -- 7.957991329021752e-06\n",
      "2022-09-15 18:34:36,378 - simulator - INFO - CMS: Timestep for rank 0/1 - 6.978143426007591,6.97814416885376 - 2020-05-30 12:00:00\n",
      "\n",
      "2022-09-15 18:34:36,381 - rank - INFO - Next timestep\n",
      "2022-09-15 18:34:36,383 - simulator - INFO - ==================== timestep ====================\n",
      "2022-09-15 18:34:37,647 - rank - INFO - Rank 0 -- move_people -- 1.2632046860089758\n",
      "2022-09-15 18:34:37,648 - rank - INFO - Rank 0 -- move_people_waiting -- 1.336399873252958e-05\n",
      "2022-09-15 18:34:37,649 - activity_manager - INFO - CMS: People COMS for rank 0/1 - 5.309993866831064e-06,4.5299530029296875e-06 - 2020-05-30 14:00:00\n",
      "2022-09-15 18:34:37,658 - simulator - INFO - Info for rank 0, Date = 2020-05-30 14:00:00, number of deaths =  0, number of infected = 1740\n",
      "2022-09-15 18:34:37,937 - rank - INFO - Rank 0 -- interaction -- 0.2865390389924869\n",
      "2022-09-15 18:34:40,359 - tracker - INFO - Rank 0 -- tracking contacts -- 500 of 3269 of type shelter\n",
      "2022-09-15 18:34:41,001 - tracker - INFO - Rank 0 -- tracking contacts -- 8 of 8 of type hospital\n",
      "2022-09-15 18:34:41,002 - tracker - INFO - Rank 0 -- tracking contacts -- 8 of 8 of type isolation_unit\n",
      "2022-09-15 18:34:41,005 - tracker - INFO - Rank 0 -- tracking contacts -- 389 of 389 of type learning_center\n",
      "2022-09-15 18:34:41,013 - tracker - INFO - Rank 0 -- tracking contacts -- 115 of 115 of type communal\n",
      "2022-09-15 18:34:41,019 - tracker - INFO - Rank 0 -- tracking contacts -- 21 of 21 of type distribution_center\n",
      "2022-09-15 18:34:41,065 - tracker - INFO - Rank 0 -- tracking contacts -- 7 of 7 of type e_voucher\n",
      "2022-09-15 18:34:41,089 - tracker - INFO - Rank 0 -- tracking contacts -- 67 of 67 of type female_communal\n",
      "2022-09-15 18:34:41,092 - tracker - INFO - Rank 0 -- tracking contacts -- 81 of 81 of type informal_work\n",
      "2022-09-15 18:34:41,234 - tracker - INFO - Rank 0 -- tracking contacts -- 41 of 41 of type n_f_distribution_center\n",
      "2022-09-15 18:34:41,317 - tracker - INFO - Rank 0 -- tracking contacts -- 500 of 539 of type play_group\n",
      "2022-09-15 18:34:41,867 - tracker - INFO - Rank 0 -- tracking contacts -- 82 of 82 of type pump_latrine\n",
      "2022-09-15 18:34:44,367 - tracker - INFO - Rank 0 -- tracking contacts -- 500 of 2065 of type religious\n",
      "2022-09-15 18:34:44,627 - rank - INFO - Rank 0 -- tracker -- 6.6891708510083845\n",
      "2022-09-15 18:34:44,663 - epidemiology - INFO - CMS: Infection COMS-v2 for rank 0/1(2)0.0004075009928783402,0.00040721893310546875 - 2020-05-30 14:00:00\n",
      "2022-09-15 18:34:44,717 - rank - INFO - Rank 0 -- interaction_waiting -- 6.686997949145734e-06\n",
      "2022-09-15 18:34:44,732 - simulator - INFO - CMS: Timestep for rank 0/1 - 8.34816050399968,8.348161458969116 - 2020-05-30 14:00:00\n",
      "\n",
      "2022-09-15 18:34:44,734 - rank - INFO - Next timestep\n"
     ]
    },
    {
     "name": "stdout",
     "output_type": "stream",
     "text": [
      "2022-09-15 18:34:44,736 - simulator - INFO - ==================== timestep ====================\n",
      "2022-09-15 18:34:45,612 - rank - INFO - Rank 0 -- move_people -- 0.8755830170121044\n",
      "2022-09-15 18:34:45,614 - rank - INFO - Rank 0 -- move_people_waiting -- 4.813002306036651e-06\n",
      "2022-09-15 18:34:45,615 - activity_manager - INFO - CMS: People COMS for rank 0/1 - 5.121997673995793e-06,5.0067901611328125e-06 - 2020-05-30 16:00:00\n",
      "2022-09-15 18:34:45,623 - simulator - INFO - Info for rank 0, Date = 2020-05-30 16:00:00, number of deaths =  0, number of infected = 1793\n",
      "2022-09-15 18:34:45,902 - rank - INFO - Rank 0 -- interaction -- 0.286061487000552\n",
      "2022-09-15 18:34:49,414 - tracker - INFO - Rank 0 -- tracking contacts -- 500 of 3269 of type shelter\n",
      "2022-09-15 18:34:50,012 - tracker - INFO - Rank 0 -- tracking contacts -- 8 of 8 of type hospital\n",
      "2022-09-15 18:34:50,013 - tracker - INFO - Rank 0 -- tracking contacts -- 8 of 8 of type isolation_unit\n",
      "2022-09-15 18:34:50,016 - tracker - INFO - Rank 0 -- tracking contacts -- 389 of 389 of type learning_center\n",
      "2022-09-15 18:34:50,026 - tracker - INFO - Rank 0 -- tracking contacts -- 115 of 115 of type communal\n",
      "2022-09-15 18:34:50,030 - tracker - INFO - Rank 0 -- tracking contacts -- 21 of 21 of type distribution_center\n",
      "2022-09-15 18:34:50,069 - tracker - INFO - Rank 0 -- tracking contacts -- 7 of 7 of type e_voucher\n",
      "2022-09-15 18:34:50,084 - tracker - INFO - Rank 0 -- tracking contacts -- 67 of 67 of type female_communal\n",
      "2022-09-15 18:34:50,086 - tracker - INFO - Rank 0 -- tracking contacts -- 81 of 81 of type informal_work\n",
      "2022-09-15 18:34:50,193 - tracker - INFO - Rank 0 -- tracking contacts -- 41 of 41 of type n_f_distribution_center\n",
      "2022-09-15 18:34:50,276 - tracker - INFO - Rank 0 -- tracking contacts -- 500 of 539 of type play_group\n",
      "2022-09-15 18:34:50,717 - tracker - INFO - Rank 0 -- tracking contacts -- 82 of 82 of type pump_latrine\n",
      "2022-09-15 18:34:53,132 - tracker - INFO - Rank 0 -- tracking contacts -- 500 of 2065 of type religious\n",
      "2022-09-15 18:34:53,394 - rank - INFO - Rank 0 -- tracker -- 7.490281818987569\n",
      "2022-09-15 18:34:53,418 - epidemiology - INFO - CMS: Infection COMS-v2 for rank 0/1(2)0.00023433299793396145,0.0002338886260986328 - 2020-05-30 16:00:00\n",
      "2022-09-15 18:34:53,483 - rank - INFO - Rank 0 -- interaction_waiting -- 7.955997716635466e-06\n",
      "2022-09-15 18:34:53,499 - simulator - INFO - CMS: Timestep for rank 0/1 - 8.762432888004696,8.762433052062988 - 2020-05-30 16:00:00\n",
      "\n",
      "2022-09-15 18:34:53,501 - rank - INFO - Next timestep\n",
      "2022-09-15 18:34:53,502 - simulator - INFO - ==================== timestep ====================\n",
      "2022-09-15 18:34:54,423 - rank - INFO - Rank 0 -- move_people -- 0.9193581130093662\n",
      "2022-09-15 18:34:54,424 - rank - INFO - Rank 0 -- move_people_waiting -- 1.0303003364242613e-05\n",
      "2022-09-15 18:34:54,424 - activity_manager - INFO - CMS: People COMS for rank 0/1 - 4.640998668037355e-06,3.814697265625e-06 - 2020-05-30 18:00:00\n",
      "2022-09-15 18:34:54,433 - simulator - INFO - Info for rank 0, Date = 2020-05-30 18:00:00, number of deaths =  0, number of infected = 1847\n",
      "2022-09-15 18:34:54,712 - rank - INFO - Rank 0 -- interaction -- 0.2866405590029899\n",
      "2022-09-15 18:34:58,351 - tracker - INFO - Rank 0 -- tracking contacts -- 500 of 3269 of type shelter\n",
      "2022-09-15 18:34:58,897 - tracker - INFO - Rank 0 -- tracking contacts -- 8 of 8 of type hospital\n",
      "2022-09-15 18:34:58,898 - tracker - INFO - Rank 0 -- tracking contacts -- 8 of 8 of type isolation_unit\n",
      "2022-09-15 18:34:58,899 - tracker - INFO - Rank 0 -- tracking contacts -- 389 of 389 of type learning_center\n",
      "2022-09-15 18:34:58,906 - tracker - INFO - Rank 0 -- tracking contacts -- 115 of 115 of type communal\n",
      "2022-09-15 18:34:58,908 - tracker - INFO - Rank 0 -- tracking contacts -- 21 of 21 of type distribution_center\n",
      "2022-09-15 18:34:58,943 - tracker - INFO - Rank 0 -- tracking contacts -- 7 of 7 of type e_voucher\n",
      "2022-09-15 18:34:58,958 - tracker - INFO - Rank 0 -- tracking contacts -- 67 of 67 of type female_communal\n",
      "2022-09-15 18:34:58,960 - tracker - INFO - Rank 0 -- tracking contacts -- 81 of 81 of type informal_work\n",
      "2022-09-15 18:34:59,056 - tracker - INFO - Rank 0 -- tracking contacts -- 41 of 41 of type n_f_distribution_center\n",
      "2022-09-15 18:34:59,114 - tracker - INFO - Rank 0 -- tracking contacts -- 500 of 539 of type play_group\n",
      "2022-09-15 18:34:59,462 - tracker - INFO - Rank 0 -- tracking contacts -- 82 of 82 of type pump_latrine\n",
      "2022-09-15 18:35:01,605 - tracker - INFO - Rank 0 -- tracking contacts -- 500 of 2065 of type religious\n",
      "2022-09-15 18:35:01,855 - rank - INFO - Rank 0 -- tracker -- 7.141493046990945\n",
      "2022-09-15 18:35:01,882 - epidemiology - INFO - CMS: Infection COMS-v2 for rank 0/1(2)0.00021407700842246413,0.000213623046875 - 2020-05-30 18:00:00\n",
      "2022-09-15 18:35:01,928 - rank - INFO - Rank 0 -- interaction_waiting -- 8.433009497821331e-06\n",
      "2022-09-15 18:35:01,948 - simulator - INFO - CMS: Timestep for rank 0/1 - 8.44464165699901,8.444642543792725 - 2020-05-30 18:00:00\n",
      "\n",
      "2022-09-15 18:35:01,951 - rank - INFO - Next timestep\n",
      "2022-09-15 18:35:01,952 - simulator - INFO - ==================== timestep ====================\n",
      "2022-09-15 18:35:02,158 - rank - INFO - Rank 0 -- move_people -- 0.2044217770016985\n",
      "2022-09-15 18:35:02,158 - rank - INFO - Rank 0 -- move_people_waiting -- 9.113005944527686e-06\n",
      "2022-09-15 18:35:02,159 - activity_manager - INFO - CMS: People COMS for rank 0/1 - 4.358997102826834e-06,3.814697265625e-06 - 2020-05-30 20:00:00\n",
      "2022-09-15 18:35:02,168 - simulator - INFO - Info for rank 0, Date = 2020-05-30 20:00:00, number of deaths =  0, number of infected = 1917\n",
      "2022-09-15 18:35:02,346 - rank - INFO - Rank 0 -- interaction -- 0.18552649600314908\n",
      "2022-09-15 18:35:06,997 - tracker - INFO - Rank 0 -- tracking contacts -- 500 of 3269 of type shelter\n",
      "2022-09-15 18:35:08,202 - tracker - INFO - Rank 0 -- tracking contacts -- 8 of 8 of type hospital\n",
      "2022-09-15 18:35:08,204 - tracker - INFO - Rank 0 -- tracking contacts -- 8 of 8 of type isolation_unit\n",
      "2022-09-15 18:35:08,206 - tracker - INFO - Rank 0 -- tracking contacts -- 389 of 389 of type learning_center\n",
      "2022-09-15 18:35:08,212 - tracker - INFO - Rank 0 -- tracking contacts -- 115 of 115 of type communal\n",
      "2022-09-15 18:35:08,215 - tracker - INFO - Rank 0 -- tracking contacts -- 21 of 21 of type distribution_center\n",
      "2022-09-15 18:35:08,217 - tracker - INFO - Rank 0 -- tracking contacts -- 7 of 7 of type e_voucher\n",
      "2022-09-15 18:35:08,218 - tracker - INFO - Rank 0 -- tracking contacts -- 67 of 67 of type female_communal\n",
      "2022-09-15 18:35:08,221 - tracker - INFO - Rank 0 -- tracking contacts -- 81 of 81 of type informal_work\n",
      "2022-09-15 18:35:08,223 - tracker - INFO - Rank 0 -- tracking contacts -- 41 of 41 of type n_f_distribution_center\n",
      "2022-09-15 18:35:08,227 - tracker - INFO - Rank 0 -- tracking contacts -- 500 of 539 of type play_group\n",
      "2022-09-15 18:35:08,237 - tracker - INFO - Rank 0 -- tracking contacts -- 82 of 82 of type pump_latrine\n",
      "2022-09-15 18:35:08,253 - tracker - INFO - Rank 0 -- tracking contacts -- 500 of 2065 of type religious\n",
      "2022-09-15 18:35:08,261 - rank - INFO - Rank 0 -- tracker -- 5.913776564993896\n",
      "2022-09-15 18:35:08,355 - epidemiology - INFO - CMS: Infection COMS-v2 for rank 0/1(2)0.0002552759979153052,0.0002551078796386719 - 2020-05-30 20:00:00\n",
      "2022-09-15 18:35:08,404 - rank - INFO - Rank 0 -- interaction_waiting -- 1.3937009498476982e-05\n",
      "2022-09-15 18:35:08,422 - simulator - INFO - CMS: Timestep for rank 0/1 - 6.468943687010324,6.468944787979126 - 2020-05-30 20:00:00\n",
      "\n",
      "CPU times: user 5min 42s, sys: 2.8 s, total: 5min 45s\n",
      "Wall time: 5min 42s\n"
     ]
    }
   ],
   "source": [
    "%%time\n",
    "simulator.run()"
   ]
  },
  {
   "cell_type": "markdown",
   "metadata": {},
   "source": [
    "# Getting the results"
   ]
  },
  {
   "cell_type": "markdown",
   "metadata": {},
   "source": [
    "All results are stored in a json file specified in the `record_path` when defining the recorder. This can be read in by passing the folder locations to the `RecordReader` class and results derived.\n",
    "\n",
    "Here we show some examples of the kind of analysis you can extract from the records."
   ]
  },
  {
   "cell_type": "code",
   "execution_count": 55,
   "metadata": {},
   "outputs": [],
   "source": [
    "import pandas as pd"
   ]
  },
  {
   "cell_type": "code",
   "execution_count": 56,
   "metadata": {},
   "outputs": [],
   "source": [
    "read = RecordReader(Results_Path)"
   ]
  },
  {
   "cell_type": "markdown",
   "metadata": {},
   "source": [
    "The regional summary gives you information at the regional (camp) level."
   ]
  },
  {
   "cell_type": "markdown",
   "metadata": {},
   "source": [
    "### Regional information"
   ]
  },
  {
   "cell_type": "code",
   "execution_count": 57,
   "metadata": {},
   "outputs": [
    {
     "data": {
      "text/html": [
       "<div>\n",
       "<style scoped>\n",
       "    .dataframe tbody tr th:only-of-type {\n",
       "        vertical-align: middle;\n",
       "    }\n",
       "\n",
       "    .dataframe tbody tr th {\n",
       "        vertical-align: top;\n",
       "    }\n",
       "\n",
       "    .dataframe thead th {\n",
       "        text-align: right;\n",
       "    }\n",
       "</style>\n",
       "<table border=\"1\" class=\"dataframe\">\n",
       "  <thead>\n",
       "    <tr style=\"text-align: right;\">\n",
       "      <th></th>\n",
       "      <th>region</th>\n",
       "      <th>current_infected</th>\n",
       "      <th>daily_infected</th>\n",
       "      <th>current_hospitalised</th>\n",
       "      <th>daily_hospitalised</th>\n",
       "      <th>current_intensive_care</th>\n",
       "      <th>daily_intensive_care</th>\n",
       "      <th>daily_hospital_deaths</th>\n",
       "      <th>daily_deaths</th>\n",
       "    </tr>\n",
       "    <tr>\n",
       "      <th>time_stamp</th>\n",
       "      <th></th>\n",
       "      <th></th>\n",
       "      <th></th>\n",
       "      <th></th>\n",
       "      <th></th>\n",
       "      <th></th>\n",
       "      <th></th>\n",
       "      <th></th>\n",
       "      <th></th>\n",
       "    </tr>\n",
       "  </thead>\n",
       "  <tbody>\n",
       "    <tr>\n",
       "      <th>2020-05-24</th>\n",
       "      <td>CXB-219</td>\n",
       "      <td>259.000000</td>\n",
       "      <td>301</td>\n",
       "      <td>0.0</td>\n",
       "      <td>0</td>\n",
       "      <td>0.0</td>\n",
       "      <td>0</td>\n",
       "      <td>0</td>\n",
       "      <td>0</td>\n",
       "    </tr>\n",
       "    <tr>\n",
       "      <th>2020-05-25</th>\n",
       "      <td>CXB-219</td>\n",
       "      <td>345.666667</td>\n",
       "      <td>112</td>\n",
       "      <td>0.0</td>\n",
       "      <td>0</td>\n",
       "      <td>0.0</td>\n",
       "      <td>0</td>\n",
       "      <td>0</td>\n",
       "      <td>0</td>\n",
       "    </tr>\n",
       "    <tr>\n",
       "      <th>2020-05-26</th>\n",
       "      <td>CXB-219</td>\n",
       "      <td>488.166667</td>\n",
       "      <td>185</td>\n",
       "      <td>0.0</td>\n",
       "      <td>0</td>\n",
       "      <td>0.0</td>\n",
       "      <td>0</td>\n",
       "      <td>0</td>\n",
       "      <td>0</td>\n",
       "    </tr>\n",
       "  </tbody>\n",
       "</table>\n",
       "</div>"
      ],
      "text/plain": [
       "             region  current_infected  daily_infected  current_hospitalised  \\\n",
       "time_stamp                                                                    \n",
       "2020-05-24  CXB-219        259.000000             301                   0.0   \n",
       "2020-05-25  CXB-219        345.666667             112                   0.0   \n",
       "2020-05-26  CXB-219        488.166667             185                   0.0   \n",
       "\n",
       "            daily_hospitalised  current_intensive_care  daily_intensive_care  \\\n",
       "time_stamp                                                                     \n",
       "2020-05-24                   0                     0.0                     0   \n",
       "2020-05-25                   0                     0.0                     0   \n",
       "2020-05-26                   0                     0.0                     0   \n",
       "\n",
       "            daily_hospital_deaths  daily_deaths  \n",
       "time_stamp                                       \n",
       "2020-05-24                      0             0  \n",
       "2020-05-25                      0             0  \n",
       "2020-05-26                      0             0  "
      ]
     },
     "execution_count": 57,
     "metadata": {},
     "output_type": "execute_result"
    }
   ],
   "source": [
    "read.regional_summary.head(3) # this is the equivalent of the summary.csv"
   ]
  },
  {
   "cell_type": "markdown",
   "metadata": {},
   "source": [
    "### Daily infections"
   ]
  },
  {
   "cell_type": "code",
   "execution_count": 58,
   "metadata": {},
   "outputs": [],
   "source": [
    "summary = read.regional_summary.reset_index()"
   ]
  },
  {
   "cell_type": "code",
   "execution_count": 59,
   "metadata": {},
   "outputs": [
    {
     "data": {
      "image/png": "[encoded data removed]",
      "text/plain": [
       "<Figure size 432x288 with 1 Axes>"
      ]
     },
     "metadata": {
      "needs_background": "light"
     },
     "output_type": "display_data"
    }
   ],
   "source": [
    "summary.groupby(['time_stamp']).sum().plot(y=['daily_infected'])\n",
    "plt.ylabel('Daily infections')\n",
    "plt.show()"
   ]
  },
  {
   "cell_type": "markdown",
   "metadata": {},
   "source": [
    "### Hospital and intensive care"
   ]
  },
  {
   "cell_type": "code",
   "execution_count": 60,
   "metadata": {},
   "outputs": [
    {
     "data": {
      "image/png": "[encoded data removed]",
      "text/plain": [
       "<Figure size 432x288 with 1 Axes>"
      ]
     },
     "metadata": {
      "needs_background": "light"
     },
     "output_type": "display_data"
    }
   ],
   "source": [
    "summary.groupby(['time_stamp']).sum().plot(y=['current_hospitalised', 'current_intensive_care'])\n",
    "plt.show()"
   ]
  },
  {
   "cell_type": "markdown",
   "metadata": {},
   "source": [
    "### Cumulative infections by age"
   ]
  },
  {
   "cell_type": "code",
   "execution_count": 61,
   "metadata": {},
   "outputs": [
    {
     "name": "stdout",
     "output_type": "stream",
     "text": [
      "2022-09-15 18:35:09,366 - june.records.records_reader - INFO - Loading infections table\n",
      "2022-09-15 18:35:09,380 - june.records.records_reader - INFO - Loading population table\n",
      "2022-09-15 18:35:09,444 - june.records.records_reader - INFO - Merging infection and population tables\n",
      "2022-09-15 18:35:09,453 - june.records.records_reader - INFO - Loading geography table\n",
      "2022-09-15 18:35:09,479 - june.records.records_reader - INFO - Mergeing infection and geography tables\n"
     ]
    }
   ],
   "source": [
    "infections_df = read.get_table_with_extras('infections',\n",
    "                                           'infected_ids')"
   ]
  },
  {
   "cell_type": "code",
   "execution_count": 62,
   "metadata": {},
   "outputs": [
    {
     "name": "stdout",
     "output_type": "stream",
     "text": [
      "2022-09-15 18:35:09,501 - june.records.records_reader - INFO - Loading deaths table\n",
      "2022-09-15 18:35:09,511 - june.records.records_reader - INFO - Loading population table\n",
      "2022-09-15 18:35:09,583 - june.records.records_reader - INFO - Merging infection and population tables\n",
      "2022-09-15 18:35:09,589 - june.records.records_reader - INFO - Loading geography table\n",
      "2022-09-15 18:35:09,616 - june.records.records_reader - INFO - Mergeing infection and geography tables\n"
     ]
    }
   ],
   "source": [
    "deaths_df = read.get_table_with_extras('deaths', \n",
    "                                       'dead_person_ids')"
   ]
  },
  {
   "cell_type": "code",
   "execution_count": 63,
   "metadata": {},
   "outputs": [],
   "source": [
    "age_bins = (0,20,60,100)"
   ]
  },
  {
   "cell_type": "code",
   "execution_count": 64,
   "metadata": {},
   "outputs": [],
   "source": [
    "infected_by_age = infections_df.groupby([pd.cut(infections_df['age'],\n",
    "            bins=age_bins), 'timestamp']).size()"
   ]
  },
  {
   "cell_type": "code",
   "execution_count": 65,
   "metadata": {},
   "outputs": [],
   "source": [
    "people_df = read.table_to_df('population')"
   ]
  },
  {
   "cell_type": "code",
   "execution_count": 66,
   "metadata": {},
   "outputs": [],
   "source": [
    "n_by_age = people_df.groupby(pd.cut(people_df['age'],\n",
    "            bins=age_bins)).size()"
   ]
  },
  {
   "cell_type": "code",
   "execution_count": 67,
   "metadata": {},
   "outputs": [
    {
     "data": {
      "text/plain": [
       "<matplotlib.legend.Legend at 0x7f3c711fa040>"
      ]
     },
     "execution_count": 67,
     "metadata": {},
     "output_type": "execute_result"
    },
    {
     "data": {
      "image/png": "[encoded data removed]",
      "text/plain": [
       "<Figure size 432x288 with 1 Axes>"
      ]
     },
     "metadata": {
      "needs_background": "light"
     },
     "output_type": "display_data"
    }
   ],
   "source": [
    "(100*infected_by_age/n_by_age).xs(10).cumsum().plot(label='0,20')\n",
    "(100*infected_by_age/n_by_age).xs(30).cumsum().plot(label='20,60')\n",
    "(100*infected_by_age/n_by_age).xs(70).cumsum().plot(label='60,100')\n",
    "plt.ylabel(\"% cumulative infected\")\n",
    "plt.legend()"
   ]
  },
  {
   "cell_type": "markdown",
   "metadata": {},
   "source": [
    "### Where people get infected"
   ]
  },
  {
   "cell_type": "code",
   "execution_count": 68,
   "metadata": {},
   "outputs": [],
   "source": [
    "locations_df = infections_df.groupby(['location_specs', \n",
    "                                'timestamp']).size()"
   ]
  },
  {
   "cell_type": "code",
   "execution_count": 69,
   "metadata": {},
   "outputs": [
    {
     "data": {
      "text/plain": [
       "<AxesSubplot:xlabel='timestamp'>"
      ]
     },
     "execution_count": 69,
     "metadata": {},
     "output_type": "execute_result"
    },
    {
     "data": {
      "image/png": "[encoded data removed]",
      "text/plain": [
       "<Figure size 432x288 with 1 Axes>"
      ]
     },
     "metadata": {
      "needs_background": "light"
     },
     "output_type": "display_data"
    }
   ],
   "source": [
    "locations_df.unstack(level=0).plot()"
   ]
  },
  {
   "cell_type": "code",
   "execution_count": 70,
   "metadata": {},
   "outputs": [
    {
     "data": {
      "text/plain": [
       "Text(0.5, 0, 'location')"
      ]
     },
     "execution_count": 70,
     "metadata": {},
     "output_type": "execute_result"
    },
    {
     "data": {
      "image/png": "[encoded data removed]",
      "text/plain": [
       "<Figure size 432x288 with 1 Axes>"
      ]
     },
     "metadata": {
      "needs_background": "light"
     },
     "output_type": "display_data"
    }
   ],
   "source": [
    "import matplotlib.ticker as mtick\n",
    "location_counts_df = locations_df.groupby('location_specs').size()\n",
    "location_counts_df = 100*location_counts_df / location_counts_df.sum()\n",
    "ax = location_counts_df.sort_values().plot.bar()\n",
    "ax.yaxis.set_major_formatter(mtick.PercentFormatter())\n",
    "plt.ylabel('Percentage of infections at location')\n",
    "plt.xlabel('location')"
   ]
  },
  {
   "cell_type": "markdown",
   "metadata": {},
   "source": [
    "# Tracker results"
   ]
  },
  {
   "cell_type": "markdown",
   "metadata": {},
   "source": [
    "We can define custom binnings with bin edges as such."
   ]
  },
  {
   "cell_type": "code",
   "execution_count": 71,
   "metadata": {},
   "outputs": [
    {
     "data": {
      "text/plain": [
       "1"
      ]
     },
     "execution_count": 71,
     "metadata": {},
     "output_type": "execute_result"
    }
   ],
   "source": [
    "simulator.tracker.contract_matrices(\"AC\", np.array([0,18,60]))"
   ]
  },
  {
   "cell_type": "markdown",
   "metadata": {},
   "source": [
    "Lastly we call the tracker to save the results to file and provide a print out of the results."
   ]
  },
  {
   "cell_type": "code",
   "execution_count": 72,
   "metadata": {
    "scrolled": true
   },
   "outputs": [
    {
     "name": "stdout",
     "output_type": "stream",
     "text": [
      "Results from 1D NCM\n",
      "\n",
      "  communal:\n",
      "    contacts: [[3.7432,8.0603],[1.1652,5.8528]]\n",
      "    contacts_err: [[0.0853,0.1252],[0.0290,0.0650]]\n",
      "    proportion_physical: [[0.1200]]\n",
      "    characteristic_time: 1.00\n",
      "\n",
      "    Ratio of contacts and feed in values: [[0.7486,0.9939],[0.7616,0.9755]]\n",
      "\n",
      "  distribution_center:\n",
      "    contacts: [[3.9838,13.7759],[0.8022,9.9066]]\n",
      "    contacts_err: [[0.0555,0.1032],[0.0154,0.0542]]\n",
      "    proportion_physical: [[0.1200]]\n",
      "    characteristic_time: 1.00\n",
      "\n",
      "    Ratio of contacts and feed in values: [[0.9959,1.0107],[1.0154,0.9907]]\n",
      "\n",
      "  e_voucher:\n",
      "    contacts: [[0.2336,2.0598],[0.1151,13.3904]]\n",
      "    contacts_err: [[0.0212,0.0631],[0.0089,0.0964]]\n",
      "    proportion_physical: [[0.1200]]\n",
      "    characteristic_time: 1.00\n",
      "\n",
      "    Ratio of contacts and feed in values: [[0.0000,1.0299],[1.1512,0.9919]]\n",
      "\n",
      "  female_communal:\n",
      "    contacts: [[4.9839,8.1793],[1.5211,5.8882]]\n",
      "    contacts_err: [[0.0472,0.0605],[0.0270,0.0532]]\n",
      "    proportion_physical: [[0.1200]]\n",
      "    characteristic_time: 1.00\n",
      "\n",
      "    Ratio of contacts and feed in values: [[0.9968,1.0085],[0.9942,0.9814]]\n",
      "\n",
      "  hospital:\n",
      "    contacts: [[5.1550,0.0000,0.0000],[0.0000,0.0000,0.0000],[0.0000,0.0000,0.0000]]\n",
      "    contacts_err: [[0.1770,0.0000,0.0000],[0.0000,0.0000,0.0000],[0.0000,0.0000,0.0000]]\n",
      "    proportion_physical: [[0.0500,1.0000,1.0000],[1.0000,0.0000,0.0000],[1.0000,0.0000,0.0000]]\n",
      "    characteristic_time: 8.00\n",
      "\n",
      "    Ratio of contacts and feed in values: [[1.0310,0.0000,0.0000],[0.0000,0.0000,0.0000],[0.0000,0.0000,0.0000]]\n",
      "\n",
      "  informal_work:\n",
      "    contacts: [[5.0199]]\n",
      "    contacts_err: [[0.0399]]\n",
      "    proportion_physical: [[0.1200]]\n",
      "    characteristic_time: 8.00\n",
      "\n",
      "    Ratio of contacts and feed in values: [[1.0040]]\n",
      "\n",
      "  isolation_unit:\n",
      "    contacts: [[0.0000,0.0000],[0.0000,0.0000]]\n",
      "    contacts_err: [[0.0000,0.0000],[0.0000,0.0000]]\n",
      "    proportion_physical: [[0.0000,0.0000],[0.0000,0.0000]]\n",
      "    characteristic_time: 24.00\n",
      "\n",
      "    Ratio of contacts and feed in values: [[0.0000,0.0000],[0.0000,0.0000]]\n",
      "\n",
      "  learning_center:\n",
      "    contacts: [[9.9994,6.3766],[2.0187,3.8630]]\n",
      "    contacts_err: [[0.0140,0.0112],[0.0070,0.0097]]\n",
      "    proportion_physical: [[0.1200,0.1200],[0.1200,0.1200]]\n",
      "    characteristic_time: 1.50\n",
      "\n",
      "    Ratio of contacts and feed in values: [[0.9999,0.9963],[0.4547,0.9956]]\n",
      "\n",
      "  n_f_distribution_center:\n",
      "    contacts: [[3.9570,13.3376],[0.7879,9.9881]]\n",
      "    contacts_err: [[0.0419,0.0769],[0.0112,0.0398]]\n",
      "    proportion_physical: [[0.1200]]\n",
      "    characteristic_time: 1.00\n",
      "\n",
      "    Ratio of contacts and feed in values: [[0.9892,0.9785],[0.9974,0.9988]]\n",
      "\n",
      "  play_group:\n",
      "    contacts: [[4.9702,0.0000,0.0000],[0.0000,5.0180,0.0000],[0.0000,0.0000,4.8943]]\n",
      "    contacts_err: [[0.0207,0.0000,0.0000],[0.0000,0.0192,0.0000],[0.0000,0.0000,0.0274]]\n",
      "    proportion_physical: [[0.6000,0.0000,0.0000],[0.0000,0.3000,0.0000],[0.0000,0.0000,0.1500]]\n",
      "    characteristic_time: 2.00\n",
      "\n",
      "    Ratio of contacts and feed in values: [[0.9940,0.0000,0.0000],[0.0000,1.0036,0.0000],[0.0000,0.0000,0.9789]]\n",
      "\n",
      "  pump_latrine:\n",
      "    contacts: [[3.2528,9.7090],[1.6298,4.3281]]\n",
      "    contacts_err: [[0.0030,0.0051],[0.0024,0.0039]]\n",
      "    proportion_physical: [[0.0200]]\n",
      "    characteristic_time: 0.54\n",
      "\n",
      "    Ratio of contacts and feed in values: [[1.0009,0.9978],[0.9999,0.9996]]\n",
      "\n",
      "  religious:\n",
      "    contacts: [[5.0022,9.4550],[1.1055,8.4776]]\n",
      "    contacts_err: [[0.0176,0.0242],[0.0059,0.0164]]\n",
      "    proportion_physical: [[0.1200]]\n",
      "    characteristic_time: 1.00\n",
      "\n",
      "    Ratio of contacts and feed in values: [[1.0004,0.9984],[1.0050,0.9974]]\n",
      "\n",
      "  shelter:\n",
      "    contacts: [[4.8494,1.9381],[1.9381,4.8494]]\n",
      "    contacts_err: [[0.0160,0.0101],[0.0101,0.0160]]\n",
      "    proportion_physical: [[0.8000,0.3000],[0.8000,0.3000]]\n",
      "    characteristic_time: 12.00\n",
      "\n",
      "    Ratio of contacts and feed in values: [[0.9699,0.9691],[0.9691,0.9699]]\n",
      "\n",
      "Results from NCMV\n",
      "\n",
      "  communal:\n",
      "    contacts: [[0.2541,0.7459],[0.2709,0.7291]]\n",
      "    contacts_err: [[0.2006,0.5881],[0.2109,0.5672]]\n",
      "    proportion_physical: [[0.1200]]\n",
      "    characteristic_time: 1.00\n",
      "\n",
      "    Ratio of contacts and feed in values: [[0.0508,0.0920],[0.1771,0.1215]]\n",
      "\n",
      "  distribution_center:\n",
      "    contacts: [[0.2769,0.7231],[0.2791,0.7209]]\n",
      "    contacts_err: [[0.2144,0.5600],[0.2157,0.5573]]\n",
      "    proportion_physical: [[0.1200]]\n",
      "    characteristic_time: 1.00\n",
      "\n",
      "    Ratio of contacts and feed in values: [[0.0692,0.0531],[0.3532,0.0721]]\n",
      "\n",
      "  e_voucher:\n",
      "    contacts: [[0.2679,0.7321],[0.2628,0.7372]]\n",
      "    contacts_err: [[0.2089,0.5708],[0.2057,0.5770]]\n",
      "    proportion_physical: [[0.1200]]\n",
      "    characteristic_time: 1.00\n",
      "\n",
      "    Ratio of contacts and feed in values: [[0.0000,0.3660],[2.6281,0.0546]]\n",
      "\n",
      "  female_communal:\n",
      "    contacts: [[0.5159,0.4841],[0.5165,0.4835]]\n",
      "    contacts_err: [[0.3650,0.3425],[0.3654,0.3421]]\n",
      "    proportion_physical: [[0.1200]]\n",
      "    characteristic_time: 1.00\n",
      "\n",
      "    Ratio of contacts and feed in values: [[0.1032,0.0597],[0.3376,0.0806]]\n",
      "\n",
      "  hospital:\n",
      "    contacts: [[1.0000,0.0000,0.0000],[0.0000,0.0000,0.0000],[0.0000,0.0000,0.0000]]\n",
      "    contacts_err: [[1.0002,0.0000,0.0000],[0.0000,0.0000,0.0000],[0.0000,0.0000,0.0000]]\n",
      "    proportion_physical: [[0.0500,1.0000,1.0000],[1.0000,0.0000,0.0000],[1.0000,0.0000,0.0000]]\n",
      "    characteristic_time: 8.00\n",
      "\n",
      "    Ratio of contacts and feed in values: [[0.2000,0.0000,0.0000],[0.0000,0.0000,0.0000],[0.0000,0.0000,0.0000]]\n",
      "\n",
      "  informal_work:\n",
      "    contacts: [[1.0000]]\n",
      "    contacts_err: [[1.0000]]\n",
      "    proportion_physical: [[0.1200]]\n",
      "    characteristic_time: 8.00\n",
      "\n",
      "    Ratio of contacts and feed in values: [[0.2000]]\n",
      "\n",
      "  isolation_unit:\n",
      "    contacts: [[0.0000,0.0000],[0.0000,0.0000]]\n",
      "    contacts_err: [[0.0000,0.0000],[0.0000,0.0000]]\n",
      "    proportion_physical: [[0.0000,0.0000],[0.0000,0.0000]]\n",
      "    characteristic_time: 24.00\n",
      "\n",
      "    Ratio of contacts and feed in values: [[0.0000,0.0000],[0.0000,0.0000]]\n",
      "\n",
      "  learning_center:\n",
      "    contacts: [[0.7412,0.2588],[0.5757,0.4243]]\n",
      "    contacts_err: [[0.5819,0.2032],[0.4117,0.3035]]\n",
      "    proportion_physical: [[0.1200,0.1200],[0.1200,0.1200]]\n",
      "    characteristic_time: 1.50\n",
      "\n",
      "    Ratio of contacts and feed in values: [[0.0741,0.0404],[0.1297,0.1094]]\n",
      "\n",
      "  n_f_distribution_center:\n",
      "    contacts: [[0.2612,0.7388],[0.2618,0.7382]]\n",
      "    contacts_err: [[0.2047,0.5790],[0.2051,0.5782]]\n",
      "    proportion_physical: [[0.1200]]\n",
      "    characteristic_time: 1.00\n",
      "\n",
      "    Ratio of contacts and feed in values: [[0.0653,0.0542],[0.3314,0.0738]]\n",
      "\n",
      "  play_group:\n",
      "    contacts: [[0.3645,0.4307,0.2048],[0.3645,0.4290,0.2065],[0.3631,0.4327,0.2042]]\n",
      "    contacts_err: [[0.2188,0.2585,0.1229],[0.2186,0.2572,0.1238],[0.2181,0.2599,0.1227]]\n",
      "    proportion_physical: [[0.6000,0.0000,0.0000],[0.0000,0.3000,0.0000],[0.0000,0.0000,0.1500]]\n",
      "    characteristic_time: 2.00\n",
      "\n",
      "    Ratio of contacts and feed in values: [[0.0729,0.0000,0.0000],[0.0000,0.0858,0.0000],[0.0000,0.0000,0.0408]]\n",
      "\n",
      "  pump_latrine:\n",
      "    contacts: [[0.5635,0.4365],[0.5581,0.4419]]\n",
      "    contacts_err: [[0.4016,0.3112],[0.3973,0.3146]]\n",
      "    proportion_physical: [[0.0200]]\n",
      "    characteristic_time: 0.54\n",
      "\n",
      "    Ratio of contacts and feed in values: [[0.1734,0.0449],[0.3424,0.1020]]\n",
      "\n",
      "  religious:\n",
      "    contacts: [[0.3399,0.6601],[0.3427,0.6573]]\n",
      "    contacts_err: [[0.2524,0.4901],[0.2541,0.4872]]\n",
      "    proportion_physical: [[0.1200]]\n",
      "    characteristic_time: 1.00\n",
      "\n",
      "    Ratio of contacts and feed in values: [[0.0680,0.0697],[0.3116,0.0773]]\n",
      "\n",
      "  shelter:\n",
      "    contacts: [[0.5547,0.4453],[0.4386,0.5614]]\n",
      "    contacts_err: [[0.3945,0.3168],[0.3125,0.3999]]\n",
      "    proportion_physical: [[0.8000,0.3000],[0.8000,0.3000]]\n",
      "    characteristic_time: 12.00\n",
      "\n",
      "    Ratio of contacts and feed in values: [[0.1109,0.2227],[0.2193,0.1123]]\n",
      "\n"
     ]
    },
    {
     "data": {
      "text/plain": [
       "1"
      ]
     },
     "execution_count": 72,
     "metadata": {},
     "output_type": "execute_result"
    }
   ],
   "source": [
    "simulator.tracker.post_process_simulation(save=True)"
   ]
  }
 ],
 "metadata": {
  "kernelspec": {
   "display_name": "Python 3 (ipykernel)",
   "language": "python",
   "name": "python3"
  },
  "language_info": {
   "codemirror_mode": {
    "name": "ipython",
    "version": 3
   },
   "file_extension": ".py",
   "mimetype": "text/x-python",
   "name": "python",
   "nbconvert_exporter": "python",
   "pygments_lexer": "ipython3",
   "version": "3.8.10"
  }
 },
 "nbformat": 4,
 "nbformat_minor": 4
}
