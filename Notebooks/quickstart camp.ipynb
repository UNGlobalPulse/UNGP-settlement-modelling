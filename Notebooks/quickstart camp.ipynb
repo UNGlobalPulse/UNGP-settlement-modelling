{
 "cells": [
  {
   "cell_type": "code",
   "execution_count": 1,
   "metadata": {},
   "outputs": [],
   "source": [
    "import warnings\n",
    "warnings.filterwarnings('ignore')"
   ]
  },
  {
   "cell_type": "code",
   "execution_count": 2,
   "metadata": {},
   "outputs": [],
   "source": [
    "import numpy as np\n",
    "import pandas as pd\n",
    "import time\n",
    "import matplotlib.pyplot as plt\n",
    "from datetime import datetime\n",
    "import sys\n",
    "import argparse\n",
    "from pathlib import Path\n"
   ]
  },
  {
   "cell_type": "code",
   "execution_count": 3,
   "metadata": {},
   "outputs": [
    {
     "name": "stderr",
     "output_type": "stream",
     "text": [
      "No --data argument given - defaulting to:\n",
      "/home/joseph/Documents/PhD/UN_Work/JUNE/data\n",
      "No --configs argument given - defaulting to:\n",
      "/home/joseph/Documents/PhD/UN_Work/JUNE/june/configs\n"
     ]
    },
    {
     "name": "stdout",
     "output_type": "stream",
     "text": [
      "2022-02-11 16:26:21,305 - camps.paths - WARNING - No --camp_data argument given - defaulting to:\n",
      "/home/joseph/Documents/PhD/UN_Work/UNGP-settlement-modelling-private/camp_data\n",
      "2022-02-11 16:26:21,305 - camps.paths - WARNING - No --configs_camps argument given - defaulting to:\n",
      "/home/joseph/Documents/PhD/UN_Work/UNGP-settlement-modelling-private/configs_camps\n"
     ]
    }
   ],
   "source": [
    "from june.geography import Geography\n",
    "from june.demography.demography import (\n",
    "    load_age_and_sex_generators_for_bins,\n",
    "    Demography,\n",
    "    Population,\n",
    "    load_comorbidity_data,\n",
    "    generate_comorbidity,\n",
    ")\n",
    "from june.paths import data_path, configs_path\n",
    "from june.epidemiology.epidemiology import Epidemiology\n",
    "from june.epidemiology.infection import ImmunitySetter\n",
    "from june.epidemiology.infection import Infection, HealthIndexGenerator, InfectionSelector, InfectionSelectors\n",
    "from june.epidemiology.infection_seed import InfectionSeed, InfectionSeeds\n",
    "from june.interaction import Interaction\n",
    "from june.groups import Hospital, Hospitals, Cemeteries\n",
    "from june.distributors import HospitalDistributor\n",
    "from june.hdf5_savers import generate_world_from_hdf5\n",
    "from june.policy import Policy, Policies\n",
    "from june.records import Record\n",
    "from june.simulator import Simulator\n",
    "from june.records import Record, RecordReader\n",
    "\n",
    "from june.tracker.tracker import Tracker\n",
    "\n",
    "from camps.activity import CampActivityManager\n",
    "from camps.paths import camp_data_path, camp_configs_path\n",
    "from camps.world import World\n",
    "from camps.groups.leisure import generate_leisure_for_world, generate_leisure_for_config\n",
    "from camps.camp_creation import (\n",
    "    generate_empty_world,\n",
    "    populate_world,\n",
    "    distribute_people_to_households,\n",
    ")  # this is loaded from the ../camp_scripts folder\n",
    "\n"
   ]
  },
  {
   "cell_type": "code",
   "execution_count": 4,
   "metadata": {},
   "outputs": [],
   "source": [
    "from camps.groups import PumpLatrines, PumpLatrineDistributor\n",
    "from camps.groups import DistributionCenters, DistributionCenterDistributor\n",
    "from camps.groups import Communals, CommunalDistributor\n",
    "from camps.groups import FemaleCommunals, FemaleCommunalDistributor\n",
    "from camps.groups import Religiouss, ReligiousDistributor\n",
    "from camps.groups import Shelter, Shelters, ShelterDistributor\n",
    "from camps.groups import IsolationUnit, IsolationUnits\n",
    "from camps.groups import LearningCenters\n",
    "from camps.distributors import LearningCenterDistributor\n",
    "from camps.groups import PlayGroups, PlayGroupDistributor\n",
    "from camps.groups import EVouchers, EVoucherDistributor\n",
    "from camps.groups import NFDistributionCenters, NFDistributionCenterDistributor\n",
    "from camps.groups import SheltersVisitsDistributor"
   ]
  },
  {
   "cell_type": "code",
   "execution_count": 5,
   "metadata": {},
   "outputs": [],
   "source": [
    "Results_Path = Path(\"/home/joseph/Documents/PhD/UN_Work/Results\")\n",
    "\n",
    "Config_File_Path = camp_configs_path / \"config_demo.yaml\"\n",
    "Interactions_File_Path= camp_configs_path / \"defaults/interaction/ContactInteraction_subgroups.yaml\"\n",
    "Policies_File_Path = camp_configs_path / \"defaults/policy/simple_policy.yaml\"\n",
    "\n",
    "Hospitals_File_Path = camp_data_path / \"input/hospitals/hospitals.csv\"\n",
    "\n",
    "comorbidity_multipliers_path = camp_configs_path / \"defaults/comorbidities.yaml\"\n",
    "male_comorbidity_reference_prevalence_path = camp_data_path / \"input/demography/uk_male_comorbidities.csv\"\n",
    "female_comorbidity_reference_prevalence_path = camp_data_path / \"input/demography/uk_female_comorbidities.csv\""
   ]
  },
  {
   "cell_type": "markdown",
   "metadata": {},
   "source": [
    "## Initialize the world"
   ]
  },
  {
   "cell_type": "markdown",
   "metadata": {},
   "source": [
    "When we create the camp to be simulated, we call this the 'world'. The world is initialised after specifying which geographical regions you want to simulate. We can do this by using the `filter_key` argument in the `generate_empty_world` function. Cox's Bazar Expansion Site is made up of camps (which we call regions), UNHCR blocks (which we call super areas) and Mahjee blocks (which we call areas). These are the 3 heirarchical levels on which our model works. You can pass lists of the regions/super_areas/areas to the function here. Alternatively, by leaving the function empty you can generate the entire Cox's Bazar Expansion Site consisting of 112 super areas."
   ]
  },
  {
   "cell_type": "code",
   "execution_count": 6,
   "metadata": {},
   "outputs": [
    {
     "name": "stdout",
     "output_type": "stream",
     "text": [
      "2022-02-11 16:26:21,694 - june.geography.geography - INFO - There are 65 areas and 4 super_areas and 1 regions in the world.\n"
     ]
    }
   ],
   "source": [
    "# create empty world's geography\n",
    "world = generate_empty_world(filter_key = {\"region\" : [\"CXB-219\"]})"
   ]
  },
  {
   "cell_type": "code",
   "execution_count": 7,
   "metadata": {},
   "outputs": [],
   "source": [
    "# populate empty world\n",
    "populate_world(world)"
   ]
  },
  {
   "cell_type": "code",
   "execution_count": 8,
   "metadata": {},
   "outputs": [
    {
     "name": "stdout",
     "output_type": "stream",
     "text": [
      "Distributing 468 people to CXB-219-001\n",
      "Young adults done\n",
      "Kids done\n",
      "All adults done\n",
      "\n",
      "Distributing 369 people to CXB-219-002\n",
      "Young adults done\n",
      "Kids done\n",
      "All adults done\n",
      "\n",
      "Distributing 331 people to CXB-219-003\n",
      "Young adults done\n",
      "Kids done\n",
      "All adults done\n",
      "\n",
      "Distributing 386 people to CXB-219-004\n",
      "Young adults done\n",
      "Kids done\n",
      "All adults done\n",
      "\n",
      "Distributing 313 people to CXB-219-005\n",
      "Young adults done\n",
      "Kids done\n",
      "All adults done\n",
      "\n",
      "Distributing 330 people to CXB-219-006\n",
      "Young adults done\n",
      "Kids done\n",
      "All adults done\n",
      "\n",
      "Distributing 259 people to CXB-219-007\n",
      "Young adults done\n",
      "Kids done\n",
      "All adults done\n",
      "\n",
      "Distributing 350 people to CXB-219-009\n",
      "Young adults done\n",
      "Kids done\n",
      "All adults done\n",
      "\n",
      "Distributing 275 people to CXB-219-010\n",
      "Young adults done\n",
      "Kids done\n",
      "All adults done\n",
      "\n",
      "Distributing 249 people to CXB-219-011\n",
      "Young adults done\n",
      "Kids done\n",
      "All adults done\n",
      "\n",
      "Distributing 463 people to CXB-219-012\n",
      "Young adults done\n",
      "Kids done\n",
      "All adults done\n",
      "\n",
      "Distributing 418 people to CXB-219-013\n",
      "Young adults done\n",
      "Kids done\n",
      "All adults done\n",
      "\n",
      "Distributing 460 people to CXB-219-014\n",
      "Young adults done\n",
      "Kids done\n",
      "All adults done\n",
      "\n",
      "Distributing 384 people to CXB-219-017\n",
      "Young adults done\n",
      "Kids done\n",
      "All adults done\n",
      "\n",
      "Distributing 417 people to CXB-219-020\n",
      "Young adults done\n",
      "Kids done\n",
      "All adults done\n",
      "\n",
      "Distributing 426 people to CXB-219-021\n",
      "Young adults done\n",
      "Kids done\n",
      "All adults done\n",
      "\n",
      "Distributing 414 people to CXB-219-022\n",
      "Young adults done\n",
      "Kids done\n",
      "All adults done\n",
      "\n",
      "Distributing 384 people to CXB-219-024\n",
      "Young adults done\n",
      "Kids done\n",
      "All adults done\n",
      "\n",
      "Distributing 378 people to CXB-219-025\n",
      "Young adults done\n",
      "Kids done\n",
      "All adults done\n",
      "\n",
      "Distributing 379 people to CXB-219-026\n",
      "Young adults done\n",
      "Kids done\n",
      "All adults done\n",
      "\n",
      "Distributing 413 people to CXB-219-027\n",
      "Young adults done\n",
      "Kids done\n",
      "All adults done\n",
      "\n",
      "Distributing 392 people to CXB-219-028\n",
      "Young adults done\n",
      "Kids done\n",
      "All adults done\n",
      "\n",
      "Distributing 331 people to CXB-219-029\n",
      "Young adults done\n",
      "Kids done\n",
      "All adults done\n",
      "\n",
      "Distributing 458 people to CXB-219-030\n",
      "Young adults done\n",
      "Kids done\n",
      "All adults done\n",
      "\n",
      "Distributing 394 people to CXB-219-032\n",
      "Young adults done\n",
      "Kids done\n",
      "All adults done\n",
      "\n",
      "Distributing 339 people to CXB-219-033\n",
      "Young adults done\n",
      "Kids done\n",
      "All adults done\n",
      "\n",
      "Distributing 373 people to CXB-219-034\n",
      "Young adults done\n",
      "Kids done\n",
      "All adults done\n",
      "\n",
      "Distributing 259 people to CXB-219-036\n",
      "Young adults done\n",
      "Kids done\n",
      "All adults done\n",
      "\n",
      "Distributing 455 people to CXB-219-037\n",
      "Young adults done\n",
      "Kids done\n",
      "All adults done\n",
      "\n",
      "Distributing 458 people to CXB-219-038\n",
      "Young adults done\n",
      "Kids done\n",
      "All adults done\n",
      "\n",
      "Distributing 487 people to CXB-219-039\n",
      "Young adults done\n",
      "Kids done\n",
      "All adults done\n",
      "\n",
      "Distributing 175 people to CXB-219-040\n",
      "Young adults done\n",
      "Kids done\n",
      "All adults done\n",
      "\n",
      "Distributing 330 people to CXB-219-041\n",
      "Young adults done\n",
      "Kids done\n",
      "All adults done\n",
      "\n",
      "Distributing 398 people to CXB-219-042\n",
      "Young adults done\n",
      "Kids done\n",
      "All adults done\n",
      "\n",
      "Distributing 398 people to CXB-219-043\n",
      "Young adults done\n",
      "Kids done\n",
      "All adults done\n",
      "\n",
      "Distributing 368 people to CXB-219-044\n",
      "Young adults done\n",
      "Kids done\n",
      "All adults done\n",
      "\n",
      "Distributing 429 people to CXB-219-045\n",
      "Young adults done\n",
      "Kids done\n",
      "All adults done\n",
      "\n",
      "Distributing 450 people to CXB-219-046\n",
      "Young adults done\n",
      "Kids done\n",
      "All adults done\n",
      "\n",
      "Distributing 244 people to CXB-219-047\n",
      "Young adults done\n",
      "Kids done\n",
      "All adults done\n",
      "\n",
      "Distributing 311 people to CXB-219-048\n",
      "Young adults done\n",
      "Kids done\n",
      "All adults done\n",
      "\n",
      "Distributing 336 people to CXB-219-049\n",
      "Young adults done\n",
      "Kids done\n",
      "All adults done\n",
      "\n",
      "Distributing 206 people to CXB-219-050\n",
      "Young adults done\n",
      "Kids done\n",
      "All adults done\n",
      "\n",
      "Distributing 343 people to CXB-219-051\n",
      "Young adults done\n",
      "Kids done\n",
      "All adults done\n",
      "\n",
      "Distributing 347 people to CXB-219-052\n",
      "Young adults done\n",
      "Kids done\n",
      "All adults done\n",
      "\n",
      "Distributing 533 people to CXB-219-053\n",
      "Young adults done\n",
      "Kids done\n",
      "All adults done\n",
      "\n",
      "Distributing 381 people to CXB-219-054\n",
      "Young adults done\n",
      "Kids done\n",
      "All adults done\n",
      "\n",
      "Distributing 253 people to CXB-219-055\n",
      "Young adults done\n",
      "Kids done\n",
      "All adults done\n",
      "\n",
      "Distributing 274 people to CXB-219-056\n",
      "Young adults done\n",
      "Kids done\n",
      "All adults done\n",
      "\n",
      "Distributing 247 people to CXB-219-057\n",
      "Young adults done\n",
      "Kids done\n",
      "All adults done\n",
      "\n",
      "Distributing 376 people to CXB-219-058\n",
      "Young adults done\n",
      "Kids done\n",
      "All adults done\n",
      "\n",
      "Distributing 342 people to CXB-219-059\n",
      "Young adults done\n",
      "Kids done\n",
      "All adults done\n",
      "\n",
      "Distributing 331 people to CXB-219-060\n",
      "Young adults done\n",
      "Kids done\n",
      "All adults done\n",
      "\n",
      "Distributing 414 people to CXB-219-061\n",
      "Young adults done\n",
      "Kids done\n",
      "All adults done\n",
      "\n",
      "Distributing 259 people to CXB-219-062\n",
      "Young adults done\n",
      "Kids done\n",
      "All adults done\n",
      "\n",
      "Distributing 286 people to CXB-219-063\n",
      "Young adults done\n",
      "Kids done\n",
      "All adults done\n",
      "\n",
      "Distributing 194 people to CXB-219-064\n",
      "Young adults done\n",
      "Kids done\n",
      "All adults done\n",
      "\n",
      "Distributing 212 people to CXB-219-065\n",
      "Young adults done\n",
      "Kids done\n",
      "All adults done\n",
      "\n",
      "Distributing 330 people to CXB-219-066\n",
      "Young adults done\n",
      "Kids done\n",
      "All adults done\n",
      "\n",
      "Distributing 315 people to CXB-219-067\n",
      "Young adults done\n",
      "Kids done\n",
      "All adults done\n",
      "\n",
      "Distributing 385 people to CXB-219-068\n",
      "Young adults done\n",
      "Kids done\n",
      "All adults done\n",
      "\n",
      "Distributing 552 people to CXB-219-069\n",
      "Young adults done\n",
      "Kids done\n",
      "All adults done\n",
      "\n",
      "Distributing 321 people to CXB-219-070\n",
      "Young adults done\n",
      "Kids done\n",
      "All adults done\n",
      "\n",
      "Distributing 217 people to CXB-219-071\n",
      "Young adults done\n",
      "Kids done\n",
      "All adults done\n",
      "\n",
      "Distributing 308 people to CXB-234-001\n",
      "Young adults done\n",
      "Kids done\n",
      "All adults done\n",
      "\n",
      "Distributing 276 people to CXB-234-002\n",
      "Young adults done\n",
      "Kids done\n",
      "All adults done\n",
      "\n"
     ]
    }
   ],
   "source": [
    "# distribute people to households\n",
    "distribute_people_to_households(world)"
   ]
  },
  {
   "cell_type": "code",
   "execution_count": 9,
   "metadata": {},
   "outputs": [
    {
     "name": "stdout",
     "output_type": "stream",
     "text": [
      "2022-02-11 16:26:23,945 - hospitals - INFO - There are 8 hospitals in the world.\n"
     ]
    }
   ],
   "source": [
    "# distirbute hospitals\n",
    "hospitals = Hospitals.from_file(\n",
    "    filename=Hospitals_File_Path\n",
    ")\n",
    "for hospital in hospitals:\n",
    "    hospital.area = world.areas.get_closest_area(hospital.coordinates)\n",
    "world.hospitals = hospitals\n",
    "hospital_distributor = HospitalDistributor(\n",
    "    hospitals, medic_min_age=20, patients_per_medic=10\n",
    ")\n",
    "hospital_distributor.assign_closest_hospitals_to_super_areas(\n",
    "    world.super_areas\n",
    ")\n",
    "hospital_distributor.distribute_medics_from_world(world.people)"
   ]
  },
  {
   "cell_type": "code",
   "execution_count": 10,
   "metadata": {},
   "outputs": [
    {
     "name": "stdout",
     "output_type": "stream",
     "text": [
      "2022-02-11 16:26:24,017 - social_venue - INFO - Domain 0 has 225 pump_latrines(s)\n",
      "2022-02-11 16:26:24,060 - social_venue - INFO - Domain 0 has 507 play_groups(s)\n",
      "2022-02-11 16:26:24,069 - social_venue - INFO - Domain 0 has 7 distribution_centers(s)\n",
      "2022-02-11 16:26:24,122 - social_venue - INFO - Domain 0 has 125 communals(s)\n",
      "2022-02-11 16:26:24,150 - social_venue - INFO - Domain 0 has 67 female_communals(s)\n",
      "2022-02-11 16:26:24,584 - social_venue - INFO - Domain 0 has 2064 religiouss(s)\n",
      "2022-02-11 16:26:24,590 - social_venue - INFO - Domain 0 has 7 e_vouchers(s)\n",
      "2022-02-11 16:26:24,601 - social_venue - INFO - Domain 0 has 36 n_f_distribution_centers(s)\n"
     ]
    }
   ],
   "source": [
    "world.pump_latrines = PumpLatrines.for_areas(world.areas)\n",
    "world.play_groups = PlayGroups.for_areas(world.areas)\n",
    "world.distribution_centers = DistributionCenters.for_areas(world.areas)\n",
    "world.communals = Communals.for_areas(world.areas)\n",
    "world.female_communals = FemaleCommunals.for_areas(world.areas)\n",
    "world.religiouss = Religiouss.for_areas(world.areas)\n",
    "world.e_vouchers = EVouchers.for_areas(world.areas)\n",
    "world.n_f_distribution_centers = NFDistributionCenters.for_areas(world.areas)"
   ]
  },
  {
   "cell_type": "code",
   "execution_count": 11,
   "metadata": {},
   "outputs": [],
   "source": [
    "world.cemeteries = Cemeteries()"
   ]
  },
  {
   "cell_type": "markdown",
   "metadata": {},
   "source": [
    "## Geography exploration"
   ]
  },
  {
   "cell_type": "markdown",
   "metadata": {},
   "source": [
    "The geography is initialised first and can be explored."
   ]
  },
  {
   "cell_type": "markdown",
   "metadata": {},
   "source": [
    "### UNHCR camp blocks inside the World"
   ]
  },
  {
   "cell_type": "code",
   "execution_count": 12,
   "metadata": {},
   "outputs": [],
   "source": [
    "super_areas = []\n",
    "for super_area in world.super_areas:\n",
    "    super_areas.append(super_area.name)"
   ]
  },
  {
   "cell_type": "code",
   "execution_count": 13,
   "metadata": {},
   "outputs": [
    {
     "data": {
      "text/plain": [
       "['CXB-219-A', 'CXB-219-B', 'CXB-219-C', 'CXB-219-D']"
      ]
     },
     "execution_count": 13,
     "metadata": {},
     "output_type": "execute_result"
    }
   ],
   "source": [
    "super_areas[:5]"
   ]
  },
  {
   "cell_type": "markdown",
   "metadata": {},
   "source": [
    "### Mahjee blocks inside World"
   ]
  },
  {
   "cell_type": "code",
   "execution_count": 14,
   "metadata": {},
   "outputs": [],
   "source": [
    "areas = []\n",
    "for area in world.areas:\n",
    "    areas.append(area.name)"
   ]
  },
  {
   "cell_type": "code",
   "execution_count": 15,
   "metadata": {},
   "outputs": [
    {
     "data": {
      "text/plain": [
       "['CXB-219-001', 'CXB-219-002', 'CXB-219-003', 'CXB-219-004', 'CXB-219-005']"
      ]
     },
     "execution_count": 15,
     "metadata": {},
     "output_type": "execute_result"
    }
   ],
   "source": [
    "areas[:5]"
   ]
  },
  {
   "cell_type": "markdown",
   "metadata": {},
   "source": [
    "## Demography exploration"
   ]
  },
  {
   "cell_type": "markdown",
   "metadata": {},
   "source": [
    "Once we have populated the 'digital twin' we can explore some of the attributes of the people we have created in the simulation."
   ]
  },
  {
   "cell_type": "markdown",
   "metadata": {},
   "source": [
    "### UNHCR block residents"
   ]
  },
  {
   "cell_type": "code",
   "execution_count": 16,
   "metadata": {},
   "outputs": [],
   "source": [
    "sample_ages = []\n",
    "sample_sexes = []\n",
    "for person in world.super_areas.members[0].people:\n",
    "    sample_ages.append(person.age)\n",
    "    sample_sexes.append(person.sex)"
   ]
  },
  {
   "cell_type": "code",
   "execution_count": 17,
   "metadata": {},
   "outputs": [
    {
     "data": {
      "text/plain": [
       "(['m', 'm', 'f', 'm', 'f'], [43, 17, 52, 43, 60])"
      ]
     },
     "execution_count": 17,
     "metadata": {},
     "output_type": "execute_result"
    }
   ],
   "source": [
    "sample_sexes[:5], sample_ages[:5]"
   ]
  },
  {
   "cell_type": "code",
   "execution_count": 18,
   "metadata": {},
   "outputs": [
    {
     "data": {
      "image/png": "[encoded data removed]",
      "text/plain": [
       "<Figure size 432x288 with 1 Axes>"
      ]
     },
     "metadata": {
      "needs_background": "light"
     },
     "output_type": "display_data"
    }
   ],
   "source": [
    "ages, counts = np.unique(sample_ages, return_counts=True)\n",
    "plt.bar(ages, counts)\n",
    "plt.title('super area: {} age distribution'.format(world.super_areas.members[0].name))\n",
    "plt.show()"
   ]
  },
  {
   "cell_type": "code",
   "execution_count": 19,
   "metadata": {},
   "outputs": [
    {
     "name": "stdout",
     "output_type": "stream",
     "text": [
      "The % children between ages 0-18 is 53%\n"
     ]
    }
   ],
   "source": [
    "print ('The % children between ages 0-18 is {}%'.format(round(np.sum(counts[:18])/(np.sum(counts[:18])+np.sum(counts[18:]))*100)))"
   ]
  },
  {
   "cell_type": "markdown",
   "metadata": {},
   "source": [
    "## Households"
   ]
  },
  {
   "cell_type": "markdown",
   "metadata": {},
   "source": [
    "In this model, we will use the term 'family' and 'household' interchangeably. After populating the 'digital twin', we need to cluster people into families. To do this, we take account of age structure so that children live with adults, that there are some intergenerational households and such that we might also have some households of only adults."
   ]
  },
  {
   "cell_type": "markdown",
   "metadata": {},
   "source": [
    "### Household size distribution"
   ]
  },
  {
   "cell_type": "code",
   "execution_count": 20,
   "metadata": {},
   "outputs": [
    {
     "data": {
      "image/png": "[encoded data removed]",
      "text/plain": [
       "<Figure size 432x288 with 1 Axes>"
      ]
     },
     "metadata": {
      "needs_background": "light"
     },
     "output_type": "display_data"
    }
   ],
   "source": [
    "household_sizes = [household.size for household in world.households]\n",
    "plt.hist(household_sizes, density=True, bins=np.arange(0,12))\n",
    "plt.xlabel(\"Household size\")\n",
    "plt.ylabel(\"Frequency\")\n",
    "plt.axvline(np.mean(household_sizes), color=\"cyan\")\n",
    "plt.text(8, 0.150, f\"Avg. size: {(np.mean(household_sizes)):.2f}\")\n",
    "plt.show()"
   ]
  },
  {
   "cell_type": "code",
   "execution_count": null,
   "metadata": {},
   "outputs": [],
   "source": []
  },
  {
   "cell_type": "markdown",
   "metadata": {},
   "source": [
    "# Shelters"
   ]
  },
  {
   "cell_type": "markdown",
   "metadata": {},
   "source": [
    "Shelters house people in the camp. Since we know that families (houseohlds) often share shelters with other families, we can set the `sharing_shelter_ratio` to cluster families into shared shelters."
   ]
  },
  {
   "cell_type": "code",
   "execution_count": 21,
   "metadata": {},
   "outputs": [],
   "source": [
    "world.shelters = Shelters.for_areas(world.areas)\n",
    "shelter_distributor = ShelterDistributor(sharing_shelter_ratio = 0.75) # proportion of families that share a shelter\n",
    "for area in world.areas:\n",
    "    shelter_distributor.distribute_people_in_shelters(area.shelters, area.households)"
   ]
  },
  {
   "cell_type": "code",
   "execution_count": 22,
   "metadata": {},
   "outputs": [
    {
     "data": {
      "image/png": "[encoded data removed]",
      "text/plain": [
       "<Figure size 576x216 with 2 Axes>"
      ]
     },
     "metadata": {
      "needs_background": "light"
     },
     "output_type": "display_data"
    }
   ],
   "source": [
    "fig, ax = plt.subplots(1, 2, figsize=(8,3))\n",
    "shelter_sizes = [shelter.size for shelter in world.shelters]\n",
    "shelter_families = [shelter.n_families for shelter in world.shelters]\n",
    "ax[0].hist(shelter_sizes)\n",
    "ax[0].set_title(\"Shelter size\")\n",
    "shelter_families = {1 : len([shelter for shelter in world.shelters if shelter.n_families == 1]),\n",
    "                    2 : len([shelter for shelter in world.shelters if shelter.n_families == 2])}\n",
    "ax[1].bar(shelter_families.keys(), shelter_families.values())\n",
    "ax[1].set_title(\"# families per shelter\")\n",
    "plt.show()"
   ]
  },
  {
   "cell_type": "markdown",
   "metadata": {},
   "source": [
    "## Activity exploration"
   ]
  },
  {
   "cell_type": "markdown",
   "metadata": {},
   "source": [
    "Once different activity locations are seeded in the 'digital twin' we can explore how many there are in different areas of the twin, and their coordinates to check they've all been added correctly."
   ]
  },
  {
   "cell_type": "markdown",
   "metadata": {},
   "source": [
    "### Pumps and latrines "
   ]
  },
  {
   "cell_type": "code",
   "execution_count": 23,
   "metadata": {},
   "outputs": [],
   "source": [
    "pumps_and_latrines = []\n",
    "for pump_latrine in world.areas.members[0].pump_latrines:\n",
    "    pumps_and_latrines.append(pump_latrine)"
   ]
  },
  {
   "cell_type": "code",
   "execution_count": 24,
   "metadata": {},
   "outputs": [
    {
     "name": "stdout",
     "output_type": "stream",
     "text": [
      "There are 4 pumps and latrines in area CXB-219-001\n"
     ]
    }
   ],
   "source": [
    "print ('There are {} pumps and latrines in area {}'.format(len(pumps_and_latrines), world.areas.members[0].name))"
   ]
  },
  {
   "cell_type": "markdown",
   "metadata": {},
   "source": [
    "### Distribution centers"
   ]
  },
  {
   "cell_type": "code",
   "execution_count": 25,
   "metadata": {},
   "outputs": [],
   "source": [
    "distribution_centers = []\n",
    "for center in world.distribution_centers:\n",
    "    distribution_centers.append(center)"
   ]
  },
  {
   "cell_type": "code",
   "execution_count": 26,
   "metadata": {},
   "outputs": [
    {
     "data": {
      "text/plain": [
       "array([21.21176333, 92.13597667])"
      ]
     },
     "execution_count": 26,
     "metadata": {},
     "output_type": "execute_result"
    }
   ],
   "source": [
    "distribution_centers[0].coordinates"
   ]
  },
  {
   "cell_type": "markdown",
   "metadata": {},
   "source": [
    "### Non-food Distribution centers"
   ]
  },
  {
   "cell_type": "code",
   "execution_count": 27,
   "metadata": {},
   "outputs": [],
   "source": [
    "non_food_distribution_centers = []\n",
    "for center in world.n_f_distribution_centers:\n",
    "    non_food_distribution_centers.append(center)"
   ]
  },
  {
   "cell_type": "code",
   "execution_count": 28,
   "metadata": {},
   "outputs": [
    {
     "data": {
      "text/plain": [
       "array([21.1962 , 92.14936])"
      ]
     },
     "execution_count": 28,
     "metadata": {},
     "output_type": "execute_result"
    }
   ],
   "source": [
    "non_food_distribution_centers[0].coordinates"
   ]
  },
  {
   "cell_type": "markdown",
   "metadata": {},
   "source": [
    "### E-Voucher outlets"
   ]
  },
  {
   "cell_type": "code",
   "execution_count": 29,
   "metadata": {},
   "outputs": [],
   "source": [
    "e_voucher_outlets = []\n",
    "for center in world.e_vouchers:\n",
    "    e_voucher_outlets.append(center)"
   ]
  },
  {
   "cell_type": "code",
   "execution_count": 30,
   "metadata": {},
   "outputs": [
    {
     "data": {
      "text/plain": [
       "array([21.21176333, 92.13597667])"
      ]
     },
     "execution_count": 30,
     "metadata": {},
     "output_type": "execute_result"
    }
   ],
   "source": [
    "e_voucher_outlets[0].coordinates"
   ]
  },
  {
   "cell_type": "markdown",
   "metadata": {},
   "source": [
    "### Communal spaces"
   ]
  },
  {
   "cell_type": "code",
   "execution_count": 31,
   "metadata": {},
   "outputs": [],
   "source": [
    "communal_spaces = []\n",
    "for space in world.communals:\n",
    "    communal_spaces.append(space)"
   ]
  },
  {
   "cell_type": "code",
   "execution_count": 32,
   "metadata": {},
   "outputs": [
    {
     "data": {
      "text/plain": [
       "array([21.19621, 92.14924])"
      ]
     },
     "execution_count": 32,
     "metadata": {},
     "output_type": "execute_result"
    }
   ],
   "source": [
    "communal_spaces[0].coordinates\n"
   ]
  },
  {
   "cell_type": "markdown",
   "metadata": {},
   "source": [
    "### Female friendly communal spaces"
   ]
  },
  {
   "cell_type": "code",
   "execution_count": 33,
   "metadata": {},
   "outputs": [],
   "source": [
    "female_communal_spaces = []\n",
    "for space in world.female_communals:\n",
    "    female_communal_spaces.append(space)"
   ]
  },
  {
   "cell_type": "code",
   "execution_count": 34,
   "metadata": {},
   "outputs": [
    {
     "data": {
      "text/plain": [
       "array([21.19588, 92.152  ])"
      ]
     },
     "execution_count": 34,
     "metadata": {},
     "output_type": "execute_result"
    }
   ],
   "source": [
    "female_communal_spaces[0].coordinates"
   ]
  },
  {
   "cell_type": "markdown",
   "metadata": {},
   "source": [
    "### Religious sites"
   ]
  },
  {
   "cell_type": "code",
   "execution_count": 35,
   "metadata": {},
   "outputs": [],
   "source": [
    "religious = []\n",
    "for rel in world.religiouss:\n",
    "    religious.append(rel)"
   ]
  },
  {
   "cell_type": "code",
   "execution_count": 36,
   "metadata": {},
   "outputs": [
    {
     "data": {
      "text/plain": [
       "array([21.20069, 92.15216])"
      ]
     },
     "execution_count": 36,
     "metadata": {},
     "output_type": "execute_result"
    }
   ],
   "source": [
    "religious[0].coordinates"
   ]
  },
  {
   "cell_type": "markdown",
   "metadata": {},
   "source": [
    "# Adding the infection"
   ]
  },
  {
   "cell_type": "markdown",
   "metadata": {},
   "source": [
    "The selector handles how infections are handled in the code. You can set different 'symptom trajectories' (e.g. exposed->mild->severe->hospitalised->intensive care) from different files. Here, we use the default."
   ]
  },
  {
   "cell_type": "code",
   "execution_count": 37,
   "metadata": {},
   "outputs": [],
   "source": [
    "selector = InfectionSelector.from_file()"
   ]
  },
  {
   "cell_type": "code",
   "execution_count": 38,
   "metadata": {},
   "outputs": [],
   "source": [
    "selectors = InfectionSelectors([selector])"
   ]
  },
  {
   "cell_type": "markdown",
   "metadata": {},
   "source": [
    "# Adding the interaction"
   ]
  },
  {
   "cell_type": "markdown",
   "metadata": {},
   "source": [
    "The interaction class handles how many contacts people have in different locations and with who. If contact matrices are available, these can be coded in a `.yaml` file and fed into the class here."
   ]
  },
  {
   "cell_type": "code",
   "execution_count": 39,
   "metadata": {},
   "outputs": [],
   "source": [
    "interaction = Interaction.from_file(\n",
    "    config_filename=Interactions_File_Path,\n",
    ")"
   ]
  },
  {
   "cell_type": "markdown",
   "metadata": {},
   "source": [
    "# Set policies"
   ]
  },
  {
   "cell_type": "markdown",
   "metadata": {},
   "source": [
    "Policies control how 'operational interventions' are set in the camp. Here we set some social distancing policies, policies relating to medical care, such as people with severe symptoms being hospitalised, and individual and activity policies which can dynamically change how often and where people go, e.g. here, we close all female communal spaces and non-food distirbution centers which the camp did back in March"
   ]
  },
  {
   "cell_type": "code",
   "execution_count": 40,
   "metadata": {},
   "outputs": [],
   "source": [
    "policies = Policies.from_file(\n",
    "        Policies_File_Path,\n",
    "        base_policy_modules=(\"june.policy\", \"camps.policy\"),\n",
    "    )"
   ]
  },
  {
   "cell_type": "code",
   "execution_count": 41,
   "metadata": {},
   "outputs": [
    {
     "data": {
      "text/plain": [
       "[<june.policy.interaction_policies.SocialDistancing at 0x7f360c287190>,\n",
       " <june.policy.medical_care_policies.Hospitalisation at 0x7f360c287640>,\n",
       " <june.policy.individual_policies.SevereSymptomsStayHome at 0x7f360c287580>,\n",
       " <june.policy.individual_policies.Quarantine at 0x7f360c287040>]"
      ]
     },
     "execution_count": 41,
     "metadata": {},
     "output_type": "execute_result"
    }
   ],
   "source": [
    "policies.policies"
   ]
  },
  {
   "cell_type": "markdown",
   "metadata": {},
   "source": [
    "# Seed the disease"
   ]
  },
  {
   "cell_type": "markdown",
   "metadata": {},
   "source": [
    "Set intial seeding conditions. This can be done at the camp level specifically, or generally by seeding them randomly. Here the `n_cases` is the number of randomly seeded people over the entire population."
   ]
  },
  {
   "cell_type": "code",
   "execution_count": 42,
   "metadata": {},
   "outputs": [],
   "source": [
    "infection_seed = InfectionSeed.from_uniform_cases(\n",
    "    world=world, infection_selector=selector, cases_per_capita=0.01, date=\"2020-05-24\"\n",
    ")"
   ]
  },
  {
   "cell_type": "code",
   "execution_count": 43,
   "metadata": {},
   "outputs": [],
   "source": [
    "infection_seeds = InfectionSeeds([infection_seed])"
   ]
  },
  {
   "cell_type": "code",
   "execution_count": 44,
   "metadata": {},
   "outputs": [],
   "source": [
    "immunity_setter = ImmunitySetter.from_file_with_comorbidities(\n",
    "    comorbidity_multipliers_path= comorbidity_multipliers_path,\n",
    "    male_comorbidity_reference_prevalence_path= male_comorbidity_reference_prevalence_path,\n",
    "    female_comorbidity_reference_prevalence_path = female_comorbidity_reference_prevalence_path,\n",
    "    \n",
    ")"
   ]
  },
  {
   "cell_type": "code",
   "execution_count": 45,
   "metadata": {},
   "outputs": [],
   "source": [
    "epidemiology = Epidemiology(\n",
    "    infection_selectors=selectors,\n",
    "    infection_seeds=infection_seeds,\n",
    "    immunity_setter=immunity_setter,\n",
    ")"
   ]
  },
  {
   "cell_type": "markdown",
   "metadata": {},
   "source": [
    "## Select config file"
   ]
  },
  {
   "cell_type": "markdown",
   "metadata": {},
   "source": [
    "Before running the simualtion we must select the config file which defines how the world is set up and the simualtor will work. Specifically, the condif file specifies which activities will be included, how long we'll run the simualtion for, what the initial starting day will be and what the structure of weekdays and weekends will look like (if different)"
   ]
  },
  {
   "cell_type": "code",
   "execution_count": 46,
   "metadata": {},
   "outputs": [],
   "source": [
    "CONFIG_PATH = Config_File_Path"
   ]
  },
  {
   "cell_type": "markdown",
   "metadata": {},
   "source": [
    "# Initialise activities"
   ]
  },
  {
   "cell_type": "markdown",
   "metadata": {},
   "source": [
    "The final step to intialising the simulator class which brings all of this together is to inialise all the activity distirbutors (the term 'leisure' is a legacy of the original version of this code used for modelling COVID-19 in the UK). This will mean that people know where they can go at and given time."
   ]
  },
  {
   "cell_type": "code",
   "execution_count": 47,
   "metadata": {},
   "outputs": [
    {
     "name": "stdout",
     "output_type": "stream",
     "text": [
      "2022-02-11 16:26:26,222 - leisure - INFO - Linking households and care homes for visits\n",
      "2022-02-11 16:26:26,222 - leisure - INFO - Done\n",
      "2022-02-11 16:26:26,223 - leisure - INFO - Distributing social venues to areas\n",
      "2022-02-11 16:26:26,223 - leisure - INFO - Distributed in 0 of 65 areas.\n",
      "2022-02-11 16:26:26,300 - leisure - INFO - Distributed in 65 of 65 areas.\n"
     ]
    }
   ],
   "source": [
    "leisure = generate_leisure_for_config(world=world, config_filename=CONFIG_PATH)\n",
    "leisure.leisure_distributors = {}\n",
    "leisure.leisure_distributors[\"pump_latrine\"] = PumpLatrineDistributor.from_config(\n",
    "    world.pump_latrines\n",
    ")\n",
    "leisure.leisure_distributors[\"play_group\"] = PlayGroupDistributor.from_config(\n",
    "    world.play_groups\n",
    ")\n",
    "leisure.leisure_distributors[\n",
    "    \"distribution_center\"\n",
    "] = DistributionCenterDistributor.from_config(world.distribution_centers)\n",
    "leisure.leisure_distributors[\"communal\"] = CommunalDistributor.from_config(\n",
    "    world.communals\n",
    ")\n",
    "leisure.leisure_distributors[\n",
    "    \"female_communal\"\n",
    "] = FemaleCommunalDistributor.from_config(world.female_communals)\n",
    "leisure.leisure_distributors[\"religious\"] = ReligiousDistributor.from_config(\n",
    "    world.religiouss\n",
    ")\n",
    "leisure.leisure_distributors[\"e_voucher\"] = EVoucherDistributor.from_config(\n",
    "    world.e_vouchers\n",
    ")\n",
    "leisure.leisure_distributors[\n",
    "    \"n_f_distribution_center\"\n",
    "] = NFDistributionCenterDistributor.from_config(world.n_f_distribution_centers)\n",
    "leisure.leisure_distributors[\n",
    "    \"shelters_visits\"\n",
    "] = SheltersVisitsDistributor.from_config()\n",
    "leisure.leisure_distributors[\"shelters_visits\"].link_shelters_to_shelters(\n",
    "    world.super_areas\n",
    ")\n",
    "# associate social activities to shelters\n",
    "leisure.distribute_social_venues_to_areas(world.areas, world.super_areas)"
   ]
  },
  {
   "cell_type": "code",
   "execution_count": 48,
   "metadata": {},
   "outputs": [],
   "source": [
    "Tracker.ActivityManager = CampActivityManager\n",
    "tracker = Tracker(\n",
    "    world=world,\n",
    "    pickle_path=Results_Path,\n",
    "    group_types=[\n",
    "        world.hospitals,\n",
    "        world.distribution_centers,\n",
    "        world.communals,\n",
    "        world.female_communals,\n",
    "        world.pump_latrines,\n",
    "        world.religiouss,\n",
    "        world.play_groups,\n",
    "        world.e_vouchers,\n",
    "        world.n_f_distribution_centers,\n",
    "        world.shelters\n",
    "    ],\n",
    "    load_interactions_path=Interactions_File_Path,\n",
    "    track_contacts_count=True,\n",
    ")"
   ]
  },
  {
   "cell_type": "markdown",
   "metadata": {},
   "source": [
    "# Initialise simulator and run"
   ]
  },
  {
   "cell_type": "markdown",
   "metadata": {},
   "source": [
    "The recorder is defined which will log all interactions and infections in the simualation for later analysis. The `record_path` can be changed to any path where you want the recorded data to be stored."
   ]
  },
  {
   "cell_type": "code",
   "execution_count": 49,
   "metadata": {},
   "outputs": [],
   "source": [
    "record = Record(\n",
    "    record_path=Results_Path, \n",
    "    record_static_data=True\n",
    ")"
   ]
  },
  {
   "cell_type": "markdown",
   "metadata": {},
   "source": [
    "The simulator is defined with all the different necessary components we have built up so far"
   ]
  },
  {
   "cell_type": "code",
   "execution_count": 50,
   "metadata": {},
   "outputs": [],
   "source": [
    "Simulator.ActivityManager = CampActivityManager\n",
    "simulator = Simulator.from_file(\n",
    "    world=world,\n",
    "    interaction=interaction,\n",
    "    tracker=tracker,\n",
    "    leisure=leisure,\n",
    "    policies=policies,\n",
    "    config_filename=CONFIG_PATH,\n",
    "    epidemiology=epidemiology,\n",
    "    record=record,\n",
    ")\n"
   ]
  },
  {
   "cell_type": "markdown",
   "metadata": {},
   "source": [
    "Finally we can run a small simualation"
   ]
  },
  {
   "cell_type": "code",
   "execution_count": 51,
   "metadata": {
    "scrolled": true
   },
   "outputs": [
    {
     "name": "stdout",
     "output_type": "stream",
     "text": [
      "2022-02-11 16:26:26,790 - simulator - INFO - Starting simulation for 3 days at day 2020-05-24 00:00:00,to run for 3 days\n",
      "2022-02-11 16:26:27,180 - rank - INFO - Next timestep\n",
      "2022-02-11 16:26:27,180 - simulator - INFO - ==================== timestep ====================\n",
      "2022-02-11 16:26:27,293 - rank - INFO - Rank 0 -- move_people -- 0.11256833201332483\n",
      "2022-02-11 16:26:27,294 - rank - INFO - Rank 0 -- move_people_waiting -- 5.098001565784216e-06\n",
      "2022-02-11 16:26:27,294 - activity_manager - INFO - CMS: People COMS for rank 0/1 - 2.587999915704131e-06,2.1457672119140625e-06 - 2020-05-24 00:00:00\n",
      "2022-02-11 16:26:27,299 - simulator - INFO - Info for rank 0, Date = 2020-05-24 00:00:00, number of deaths =  0, number of infected = 222\n",
      "2022-02-11 16:26:32,003 - rank - INFO - Rank 0 -- interaction -- 4.707849471000372\n",
      "2022-02-11 16:26:32,004 - epidemiology - INFO - CMS: Infection COMS-v2 for rank 0/1(2)0.0001898440095828846,0.00018978118896484375 - 2020-05-24 00:00:00\n",
      "2022-02-11 16:26:32,230 - rank - INFO - Rank 0 -- interaction_waiting -- 5.445996066555381e-06\n",
      "2022-02-11 16:26:32,239 - simulator - INFO - CMS: Timestep for rank 0/1 - 0.00907816800463479,0.009078502655029297 - 2020-05-24 00:00:00\n",
      "\n",
      "2022-02-11 16:26:32,240 - rank - INFO - Next timestep\n",
      "2022-02-11 16:26:32,240 - simulator - INFO - ==================== timestep ====================\n",
      "2022-02-11 16:26:32,940 - rank - INFO - Rank 0 -- move_people -- 0.6995508120016893\n",
      "2022-02-11 16:26:32,941 - rank - INFO - Rank 0 -- move_people_waiting -- 6.354996003210545e-06\n",
      "2022-02-11 16:26:32,941 - activity_manager - INFO - CMS: People COMS for rank 0/1 - 2.6180059649050236e-06,2.6226043701171875e-06 - 2020-05-24 03:00:00\n",
      "2022-02-11 16:26:32,946 - simulator - INFO - Info for rank 0, Date = 2020-05-24 03:00:00, number of deaths =  0, number of infected = 222\n",
      "2022-02-11 16:26:39,632 - rank - INFO - Rank 0 -- interaction -- 6.6907268810027745\n",
      "2022-02-11 16:26:39,634 - epidemiology - INFO - CMS: Infection COMS-v2 for rank 0/1(2)0.00030716200126335025,0.00030684471130371094 - 2020-05-24 03:00:00\n",
      "2022-02-11 16:26:39,658 - rank - INFO - Rank 0 -- interaction_waiting -- 7.289010682143271e-06\n",
      "2022-02-11 16:26:39,669 - simulator - INFO - CMS: Timestep for rank 0/1 - 0.011157144006574526,0.011156797409057617 - 2020-05-24 03:00:00\n",
      "\n",
      "2022-02-11 16:26:39,670 - rank - INFO - Next timestep\n",
      "2022-02-11 16:26:39,671 - simulator - INFO - ==================== timestep ====================\n",
      "2022-02-11 16:26:40,075 - rank - INFO - Rank 0 -- move_people -- 0.403597840006114\n",
      "2022-02-11 16:26:40,075 - rank - INFO - Rank 0 -- move_people_waiting -- 5.5380078265443444e-06\n",
      "2022-02-11 16:26:40,076 - activity_manager - INFO - CMS: People COMS for rank 0/1 - 2.7839996619150043e-06,2.6226043701171875e-06 - 2020-05-24 05:00:00\n",
      "2022-02-11 16:26:40,080 - simulator - INFO - Info for rank 0, Date = 2020-05-24 05:00:00, number of deaths =  0, number of infected = 226\n",
      "2022-02-11 16:26:47,301 - rank - INFO - Rank 0 -- interaction -- 7.22501646100136\n",
      "2022-02-11 16:26:47,305 - epidemiology - INFO - CMS: Infection COMS-v2 for rank 0/1(2)0.00020346099336165935,0.00020360946655273438 - 2020-05-24 05:00:00\n",
      "2022-02-11 16:26:47,335 - rank - INFO - Rank 0 -- interaction_waiting -- 6.367001333273947e-06\n",
      "2022-02-11 16:26:47,351 - simulator - INFO - CMS: Timestep for rank 0/1 - 0.016268364997813478,0.016268253326416016 - 2020-05-24 05:00:00\n",
      "\n",
      "2022-02-11 16:26:47,352 - rank - INFO - Next timestep\n",
      "2022-02-11 16:26:47,352 - simulator - INFO - ==================== timestep ====================\n",
      "2022-02-11 16:26:47,775 - rank - INFO - Rank 0 -- move_people -- 0.4219166449911427\n",
      "2022-02-11 16:26:47,775 - rank - INFO - Rank 0 -- move_people_waiting -- 5.513997166417539e-06\n",
      "2022-02-11 16:26:47,776 - activity_manager - INFO - CMS: People COMS for rank 0/1 - 3.0230003176257014e-06,2.6226043701171875e-06 - 2020-05-24 07:00:00\n",
      "2022-02-11 16:26:47,779 - simulator - INFO - Info for rank 0, Date = 2020-05-24 07:00:00, number of deaths =  0, number of infected = 235\n",
      "2022-02-11 16:26:54,640 - rank - INFO - Rank 0 -- interaction -- 6.863863987004152\n",
      "2022-02-11 16:26:54,642 - epidemiology - INFO - CMS: Infection COMS-v2 for rank 0/1(2)0.00014801700308453292,0.00014781951904296875 - 2020-05-24 07:00:00\n",
      "2022-02-11 16:26:54,670 - rank - INFO - Rank 0 -- interaction_waiting -- 6.494999979622662e-06\n",
      "2022-02-11 16:26:54,682 - simulator - INFO - CMS: Timestep for rank 0/1 - 0.01157372999296058,0.01157379150390625 - 2020-05-24 07:00:00\n",
      "\n",
      "2022-02-11 16:26:54,682 - rank - INFO - Next timestep\n",
      "2022-02-11 16:26:54,683 - simulator - INFO - ==================== timestep ====================\n",
      "2022-02-11 16:26:55,168 - rank - INFO - Rank 0 -- move_people -- 0.48442203299782705\n",
      "2022-02-11 16:26:55,168 - rank - INFO - Rank 0 -- move_people_waiting -- 5.710011464543641e-06\n",
      "2022-02-11 16:26:55,169 - activity_manager - INFO - CMS: People COMS for rank 0/1 - 2.3130123736336827e-06,2.1457672119140625e-06 - 2020-05-24 09:00:00\n",
      "2022-02-11 16:26:55,172 - simulator - INFO - Info for rank 0, Date = 2020-05-24 09:00:00, number of deaths =  0, number of infected = 238\n",
      "2022-02-11 16:27:02,549 - rank - INFO - Rank 0 -- interaction -- 7.3802578120084945\n",
      "2022-02-11 16:27:02,552 - epidemiology - INFO - CMS: Infection COMS-v2 for rank 0/1(2)0.00015480500587727875,0.0001544952392578125 - 2020-05-24 09:00:00\n",
      "2022-02-11 16:27:02,578 - rank - INFO - Rank 0 -- interaction_waiting -- 7.3499977588653564e-06\n",
      "2022-02-11 16:27:02,590 - simulator - INFO - CMS: Timestep for rank 0/1 - 0.011282502004178241,0.011282205581665039 - 2020-05-24 09:00:00\n",
      "\n",
      "2022-02-11 16:27:02,591 - rank - INFO - Next timestep\n",
      "2022-02-11 16:27:02,591 - simulator - INFO - ==================== timestep ====================\n",
      "2022-02-11 16:27:02,717 - rank - INFO - Rank 0 -- move_people -- 0.12437121800030582\n",
      "2022-02-11 16:27:02,717 - rank - INFO - Rank 0 -- move_people_waiting -- 4.65199991595e-06\n",
      "2022-02-11 16:27:02,718 - activity_manager - INFO - CMS: People COMS for rank 0/1 - 2.9030052246525884e-06,2.6226043701171875e-06 - 2020-05-24 11:00:00\n",
      "2022-02-11 16:27:02,723 - simulator - INFO - Info for rank 0, Date = 2020-05-24 11:00:00, number of deaths =  0, number of infected = 245\n",
      "2022-02-11 16:27:07,960 - rank - INFO - Rank 0 -- interaction -- 5.242039542994462\n",
      "2022-02-11 16:27:07,970 - epidemiology - INFO - CMS: Infection COMS-v2 for rank 0/1(2)0.00017675000708550215,0.0001761913299560547 - 2020-05-24 11:00:00\n",
      "2022-02-11 16:27:08,076 - rank - INFO - Rank 0 -- interaction_waiting -- 6.622998625971377e-06\n",
      "2022-02-11 16:27:08,091 - simulator - INFO - CMS: Timestep for rank 0/1 - 0.015549064992228523,0.015549182891845703 - 2020-05-24 11:00:00\n",
      "\n",
      "2022-02-11 16:27:08,093 - rank - INFO - Next timestep\n",
      "2022-02-11 16:27:08,094 - simulator - INFO - ==================== timestep ====================\n",
      "2022-02-11 16:27:08,213 - rank - INFO - Rank 0 -- move_people -- 0.1181239420111524\n",
      "2022-02-11 16:27:08,213 - rank - INFO - Rank 0 -- move_people_waiting -- 4.8009969759732485e-06\n",
      "2022-02-11 16:27:08,213 - activity_manager - INFO - CMS: People COMS for rank 0/1 - 2.578002749942243e-06,2.384185791015625e-06 - 2020-05-25 00:00:00\n",
      "2022-02-11 16:27:08,217 - simulator - INFO - Info for rank 0, Date = 2020-05-25 00:00:00, number of deaths =  0, number of infected = 277\n",
      "2022-02-11 16:27:13,415 - rank - INFO - Rank 0 -- interaction -- 5.200828905988601\n",
      "2022-02-11 16:27:13,418 - epidemiology - INFO - CMS: Infection COMS-v2 for rank 0/1(2)0.00016777199925854802,0.00016760826110839844 - 2020-05-25 00:00:00\n",
      "2022-02-11 16:27:13,447 - rank - INFO - Rank 0 -- interaction_waiting -- 5.0289963837713e-06\n",
      "2022-02-11 16:27:13,460 - simulator - INFO - CMS: Timestep for rank 0/1 - 0.012902859001769684,0.012903213500976562 - 2020-05-25 00:00:00\n",
      "\n",
      "2022-02-11 16:27:13,462 - rank - INFO - Next timestep\n",
      "2022-02-11 16:27:13,463 - simulator - INFO - ==================== timestep ====================\n",
      "2022-02-11 16:27:13,876 - rank - INFO - Rank 0 -- move_people -- 0.41253217200574\n",
      "2022-02-11 16:27:13,877 - rank - INFO - Rank 0 -- move_people_waiting -- 5.09600795339793e-06\n",
      "2022-02-11 16:27:13,877 - activity_manager - INFO - CMS: People COMS for rank 0/1 - 2.5120098143815994e-06,2.6226043701171875e-06 - 2020-05-25 02:00:00\n"
     ]
    },
    {
     "name": "stdout",
     "output_type": "stream",
     "text": [
      "2022-02-11 16:27:13,881 - simulator - INFO - Info for rank 0, Date = 2020-05-25 02:00:00, number of deaths =  0, number of infected = 286\n",
      "2022-02-11 16:27:21,221 - rank - INFO - Rank 0 -- interaction -- 7.343458128001657\n",
      "2022-02-11 16:27:21,225 - epidemiology - INFO - CMS: Infection COMS-v2 for rank 0/1(2)0.00030987900390755385,0.0003097057342529297 - 2020-05-25 02:00:00\n",
      "2022-02-11 16:27:21,321 - rank - INFO - Rank 0 -- interaction_waiting -- 5.456007784232497e-06\n",
      "2022-02-11 16:27:21,332 - simulator - INFO - CMS: Timestep for rank 0/1 - 0.010630552002112381,0.010630607604980469 - 2020-05-25 02:00:00\n",
      "\n",
      "2022-02-11 16:27:21,333 - rank - INFO - Next timestep\n",
      "2022-02-11 16:27:21,334 - simulator - INFO - ==================== timestep ====================\n",
      "2022-02-11 16:27:21,816 - rank - INFO - Rank 0 -- move_people -- 0.48178777399880346\n",
      "2022-02-11 16:27:21,818 - rank - INFO - Rank 0 -- move_people_waiting -- 3.720997483469546e-06\n",
      "2022-02-11 16:27:21,818 - activity_manager - INFO - CMS: People COMS for rank 0/1 - 4.148008883930743e-06,3.814697265625e-06 - 2020-05-25 04:00:00\n",
      "2022-02-11 16:27:21,823 - simulator - INFO - Info for rank 0, Date = 2020-05-25 04:00:00, number of deaths =  0, number of infected = 296\n",
      "2022-02-11 16:27:29,012 - rank - INFO - Rank 0 -- interaction -- 7.193062196995015\n",
      "2022-02-11 16:27:29,015 - epidemiology - INFO - CMS: Infection COMS-v2 for rank 0/1(2)0.0001550370070617646,0.00015473365783691406 - 2020-05-25 04:00:00\n",
      "2022-02-11 16:27:29,044 - rank - INFO - Rank 0 -- interaction_waiting -- 6.119007593952119e-06\n",
      "2022-02-11 16:27:29,055 - simulator - INFO - CMS: Timestep for rank 0/1 - 0.011174562998348847,0.011174678802490234 - 2020-05-25 04:00:00\n",
      "\n",
      "2022-02-11 16:27:29,057 - rank - INFO - Next timestep\n",
      "2022-02-11 16:27:29,058 - simulator - INFO - ==================== timestep ====================\n",
      "2022-02-11 16:27:29,470 - rank - INFO - Rank 0 -- move_people -- 0.4107536230003461\n",
      "2022-02-11 16:27:29,470 - rank - INFO - Rank 0 -- move_people_waiting -- 3.3990072552114725e-06\n",
      "2022-02-11 16:27:29,471 - activity_manager - INFO - CMS: People COMS for rank 0/1 - 2.9429938877001405e-06,2.6226043701171875e-06 - 2020-05-25 06:00:00\n",
      "2022-02-11 16:27:29,475 - simulator - INFO - Info for rank 0, Date = 2020-05-25 06:00:00, number of deaths =  0, number of infected = 302\n",
      "2022-02-11 16:27:36,675 - rank - INFO - Rank 0 -- interaction -- 7.204053034991375\n",
      "2022-02-11 16:27:36,678 - epidemiology - INFO - CMS: Infection COMS-v2 for rank 0/1(2)0.0001749279908835888,0.00017452239990234375 - 2020-05-25 06:00:00\n",
      "2022-02-11 16:27:36,709 - rank - INFO - Rank 0 -- interaction_waiting -- 6.296992069110274e-06\n",
      "2022-02-11 16:27:36,728 - simulator - INFO - CMS: Timestep for rank 0/1 - 0.018459636994521134,0.01846027374267578 - 2020-05-25 06:00:00\n",
      "\n",
      "2022-02-11 16:27:36,731 - rank - INFO - Next timestep\n",
      "2022-02-11 16:27:36,731 - simulator - INFO - ==================== timestep ====================\n",
      "2022-02-11 16:27:37,214 - rank - INFO - Rank 0 -- move_people -- 0.4823226910084486\n",
      "2022-02-11 16:27:37,215 - rank - INFO - Rank 0 -- move_people_waiting -- 5.2209943532943726e-06\n",
      "2022-02-11 16:27:37,215 - activity_manager - INFO - CMS: People COMS for rank 0/1 - 3.402994479984045e-06,3.0994415283203125e-06 - 2020-05-25 08:00:00\n",
      "2022-02-11 16:27:37,220 - simulator - INFO - Info for rank 0, Date = 2020-05-25 08:00:00, number of deaths =  0, number of infected = 306\n",
      "2022-02-11 16:27:45,201 - rank - INFO - Rank 0 -- interaction -- 7.985206814002595\n",
      "2022-02-11 16:27:45,205 - epidemiology - INFO - CMS: Infection COMS-v2 for rank 0/1(2)0.00019161400268785655,0.00019121170043945312 - 2020-05-25 08:00:00\n",
      "2022-02-11 16:27:45,233 - rank - INFO - Rank 0 -- interaction_waiting -- 4.936009645462036e-06\n",
      "2022-02-11 16:27:45,247 - simulator - INFO - CMS: Timestep for rank 0/1 - 0.013814546007779427,0.013815164566040039 - 2020-05-25 08:00:00\n",
      "\n",
      "2022-02-11 16:27:45,249 - rank - INFO - Next timestep\n",
      "2022-02-11 16:27:45,249 - simulator - INFO - ==================== timestep ====================\n",
      "2022-02-11 16:27:45,393 - rank - INFO - Rank 0 -- move_people -- 0.1430886640009703\n",
      "2022-02-11 16:27:45,394 - rank - INFO - Rank 0 -- move_people_waiting -- 5.185007466934621e-06\n",
      "2022-02-11 16:27:45,394 - activity_manager - INFO - CMS: People COMS for rank 0/1 - 3.4099939512088895e-06,2.86102294921875e-06 - 2020-05-25 10:00:00\n",
      "2022-02-11 16:27:45,398 - simulator - INFO - Info for rank 0, Date = 2020-05-25 10:00:00, number of deaths =  0, number of infected = 315\n",
      "2022-02-11 16:27:51,051 - rank - INFO - Rank 0 -- interaction -- 5.656991897994885\n",
      "2022-02-11 16:27:51,075 - epidemiology - INFO - CMS: Infection COMS-v2 for rank 0/1(2)0.0005061620031483471,0.0005059242248535156 - 2020-05-25 10:00:00\n",
      "2022-02-11 16:27:51,111 - rank - INFO - Rank 0 -- interaction_waiting -- 6.9029920268803835e-06\n",
      "2022-02-11 16:27:51,126 - simulator - INFO - CMS: Timestep for rank 0/1 - 0.015188436998869292,0.015188455581665039 - 2020-05-25 10:00:00\n",
      "\n",
      "2022-02-11 16:27:51,128 - rank - INFO - Next timestep\n",
      "2022-02-11 16:27:51,130 - simulator - INFO - ==================== timestep ====================\n",
      "2022-02-11 16:27:51,279 - rank - INFO - Rank 0 -- move_people -- 0.1488744349917397\n",
      "2022-02-11 16:27:51,280 - rank - INFO - Rank 0 -- move_people_waiting -- 4.832996637560427e-06\n",
      "2022-02-11 16:27:51,280 - activity_manager - INFO - CMS: People COMS for rank 0/1 - 2.635002601891756e-06,2.6226043701171875e-06 - 2020-05-26 00:00:00\n",
      "2022-02-11 16:27:51,284 - simulator - INFO - Info for rank 0, Date = 2020-05-26 00:00:00, number of deaths =  0, number of infected = 371\n",
      "2022-02-11 16:27:56,800 - rank - INFO - Rank 0 -- interaction -- 5.519874638004694\n",
      "2022-02-11 16:27:56,803 - epidemiology - INFO - CMS: Infection COMS-v2 for rank 0/1(2)0.00018817199452314526,0.0001881122589111328 - 2020-05-26 00:00:00\n",
      "2022-02-11 16:27:56,828 - rank - INFO - Rank 0 -- interaction_waiting -- 9.884010069072247e-06\n",
      "2022-02-11 16:27:56,840 - simulator - INFO - CMS: Timestep for rank 0/1 - 0.011344603000907227,0.011344671249389648 - 2020-05-26 00:00:00\n",
      "\n",
      "2022-02-11 16:27:56,841 - rank - INFO - Next timestep\n",
      "2022-02-11 16:27:56,842 - simulator - INFO - ==================== timestep ====================\n",
      "2022-02-11 16:27:57,270 - rank - INFO - Rank 0 -- move_people -- 0.4276819179940503\n",
      "2022-02-11 16:27:57,271 - rank - INFO - Rank 0 -- move_people_waiting -- 6.512011168524623e-06\n",
      "2022-02-11 16:27:57,271 - activity_manager - INFO - CMS: People COMS for rank 0/1 - 3.1480012694373727e-06,2.86102294921875e-06 - 2020-05-26 02:00:00\n",
      "2022-02-11 16:27:57,275 - simulator - INFO - Info for rank 0, Date = 2020-05-26 02:00:00, number of deaths =  0, number of infected = 377\n",
      "2022-02-11 16:28:04,845 - rank - INFO - Rank 0 -- interaction -- 7.573572998007876\n",
      "2022-02-11 16:28:04,852 - epidemiology - INFO - CMS: Infection COMS-v2 for rank 0/1(2)0.00017122700228355825,0.00017070770263671875 - 2020-05-26 02:00:00\n",
      "2022-02-11 16:28:04,883 - rank - INFO - Rank 0 -- interaction_waiting -- 5.331996362656355e-06\n",
      "2022-02-11 16:28:04,901 - simulator - INFO - CMS: Timestep for rank 0/1 - 0.018182247004006058,0.018183231353759766 - 2020-05-26 02:00:00\n",
      "\n",
      "2022-02-11 16:28:04,903 - rank - INFO - Next timestep\n",
      "2022-02-11 16:28:04,905 - simulator - INFO - ==================== timestep ====================\n",
      "2022-02-11 16:28:05,326 - rank - INFO - Rank 0 -- move_people -- 0.4188237490016036\n",
      "2022-02-11 16:28:05,326 - rank - INFO - Rank 0 -- move_people_waiting -- 4.5909982873126864e-06\n",
      "2022-02-11 16:28:05,327 - activity_manager - INFO - CMS: People COMS for rank 0/1 - 2.99699604511261e-06,2.86102294921875e-06 - 2020-05-26 04:00:00\n",
      "2022-02-11 16:28:05,331 - simulator - INFO - Info for rank 0, Date = 2020-05-26 04:00:00, number of deaths =  0, number of infected = 391\n",
      "2022-02-11 16:28:12,387 - rank - INFO - Rank 0 -- interaction -- 7.059687219996704\n",
      "2022-02-11 16:28:12,390 - epidemiology - INFO - CMS: Infection COMS-v2 for rank 0/1(2)0.00016617799701634794,0.00016570091247558594 - 2020-05-26 04:00:00\n",
      "2022-02-11 16:28:12,421 - rank - INFO - Rank 0 -- interaction_waiting -- 5.61200431548059e-06\n",
      "2022-02-11 16:28:12,433 - simulator - INFO - CMS: Timestep for rank 0/1 - 0.012022620998322964,0.012023448944091797 - 2020-05-26 04:00:00\n",
      "\n"
     ]
    },
    {
     "name": "stdout",
     "output_type": "stream",
     "text": [
      "2022-02-11 16:28:12,435 - rank - INFO - Next timestep\n",
      "2022-02-11 16:28:12,436 - simulator - INFO - ==================== timestep ====================\n",
      "2022-02-11 16:28:12,864 - rank - INFO - Rank 0 -- move_people -- 0.42716967200976796\n",
      "2022-02-11 16:28:12,864 - rank - INFO - Rank 0 -- move_people_waiting -- 4.841989721171558e-06\n",
      "2022-02-11 16:28:12,865 - activity_manager - INFO - CMS: People COMS for rank 0/1 - 2.845001290552318e-06,2.6226043701171875e-06 - 2020-05-26 06:00:00\n",
      "2022-02-11 16:28:12,870 - simulator - INFO - Info for rank 0, Date = 2020-05-26 06:00:00, number of deaths =  0, number of infected = 401\n",
      "2022-02-11 16:28:20,062 - rank - INFO - Rank 0 -- interaction -- 7.196333779997076\n",
      "2022-02-11 16:28:20,066 - epidemiology - INFO - CMS: Infection COMS-v2 for rank 0/1(2)0.00015967999934218824,0.00015926361083984375 - 2020-05-26 06:00:00\n",
      "2022-02-11 16:28:20,096 - rank - INFO - Rank 0 -- interaction_waiting -- 4.956003976985812e-06\n",
      "2022-02-11 16:28:20,110 - simulator - INFO - CMS: Timestep for rank 0/1 - 0.013577362013165839,0.013579607009887695 - 2020-05-26 06:00:00\n",
      "\n",
      "2022-02-11 16:28:20,114 - rank - INFO - Next timestep\n",
      "2022-02-11 16:28:20,114 - simulator - INFO - ==================== timestep ====================\n",
      "2022-02-11 16:28:20,597 - rank - INFO - Rank 0 -- move_people -- 0.4816983019991312\n",
      "2022-02-11 16:28:20,597 - rank - INFO - Rank 0 -- move_people_waiting -- 6.073008989915252e-06\n",
      "2022-02-11 16:28:20,598 - activity_manager - INFO - CMS: People COMS for rank 0/1 - 3.002001903951168e-06,2.86102294921875e-06 - 2020-05-26 08:00:00\n",
      "2022-02-11 16:28:20,605 - simulator - INFO - Info for rank 0, Date = 2020-05-26 08:00:00, number of deaths =  0, number of infected = 413\n",
      "2022-02-11 16:28:27,861 - rank - INFO - Rank 0 -- interaction -- 7.262465076011722\n",
      "2022-02-11 16:28:27,865 - epidemiology - INFO - CMS: Infection COMS-v2 for rank 0/1(2)0.00020225299522280693,0.00020170211791992188 - 2020-05-26 08:00:00\n",
      "2022-02-11 16:28:27,894 - rank - INFO - Rank 0 -- interaction_waiting -- 5.4059928515926e-06\n",
      "2022-02-11 16:28:27,907 - simulator - INFO - CMS: Timestep for rank 0/1 - 0.012943237990839407,0.012943744659423828 - 2020-05-26 08:00:00\n",
      "\n",
      "2022-02-11 16:28:27,909 - rank - INFO - Next timestep\n",
      "2022-02-11 16:28:27,909 - simulator - INFO - ==================== timestep ====================\n",
      "2022-02-11 16:28:28,036 - rank - INFO - Rank 0 -- move_people -- 0.12562372899265029\n",
      "2022-02-11 16:28:28,036 - rank - INFO - Rank 0 -- move_people_waiting -- 4.369998350739479e-06\n",
      "2022-02-11 16:28:28,036 - activity_manager - INFO - CMS: People COMS for rank 0/1 - 2.531000063754618e-06,2.384185791015625e-06 - 2020-05-26 10:00:00\n",
      "2022-02-11 16:28:28,040 - simulator - INFO - Info for rank 0, Date = 2020-05-26 10:00:00, number of deaths =  0, number of infected = 424\n",
      "2022-02-11 16:28:33,099 - rank - INFO - Rank 0 -- interaction -- 5.062648013001308\n",
      "2022-02-11 16:28:33,120 - epidemiology - INFO - CMS: Infection COMS-v2 for rank 0/1(2)0.0003762980049941689,0.00037598609924316406 - 2020-05-26 10:00:00\n",
      "2022-02-11 16:28:33,146 - rank - INFO - Rank 0 -- interaction_waiting -- 7.2499969974160194e-06\n",
      "2022-02-11 16:28:33,157 - simulator - INFO - CMS: Timestep for rank 0/1 - 0.011367466999217868,0.011367321014404297 - 2020-05-26 10:00:00\n",
      "\n",
      "CPU times: user 2min 7s, sys: 1.96 s, total: 2min 9s\n",
      "Wall time: 2min 7s\n"
     ]
    }
   ],
   "source": [
    "%%time\n",
    "simulator.run()"
   ]
  },
  {
   "cell_type": "code",
   "execution_count": null,
   "metadata": {},
   "outputs": [],
   "source": []
  },
  {
   "cell_type": "markdown",
   "metadata": {},
   "source": [
    "# Getting the results"
   ]
  },
  {
   "cell_type": "markdown",
   "metadata": {},
   "source": [
    "All results are stored in a json file specified in the `record_path` when defining the recorder. This can be read in by passing the folder locations to the `RecordReader` class and results derived.\n",
    "\n",
    "Here we show some examples of the kind of analysis you can extract from the records."
   ]
  },
  {
   "cell_type": "code",
   "execution_count": 52,
   "metadata": {},
   "outputs": [],
   "source": [
    "import pandas as pd"
   ]
  },
  {
   "cell_type": "code",
   "execution_count": 53,
   "metadata": {},
   "outputs": [],
   "source": [
    "read = RecordReader(Results_Path)"
   ]
  },
  {
   "cell_type": "markdown",
   "metadata": {},
   "source": [
    "The regional summary gives you information at the regional (camp) level."
   ]
  },
  {
   "cell_type": "markdown",
   "metadata": {},
   "source": [
    "### Regional information"
   ]
  },
  {
   "cell_type": "code",
   "execution_count": 54,
   "metadata": {},
   "outputs": [
    {
     "data": {
      "text/html": [
       "<div>\n",
       "<style scoped>\n",
       "    .dataframe tbody tr th:only-of-type {\n",
       "        vertical-align: middle;\n",
       "    }\n",
       "\n",
       "    .dataframe tbody tr th {\n",
       "        vertical-align: top;\n",
       "    }\n",
       "\n",
       "    .dataframe thead th {\n",
       "        text-align: right;\n",
       "    }\n",
       "</style>\n",
       "<table border=\"1\" class=\"dataframe\">\n",
       "  <thead>\n",
       "    <tr style=\"text-align: right;\">\n",
       "      <th></th>\n",
       "      <th>region</th>\n",
       "      <th>current_infected</th>\n",
       "      <th>daily_infected</th>\n",
       "      <th>current_hospitalised</th>\n",
       "      <th>daily_hospitalised</th>\n",
       "      <th>current_intensive_care</th>\n",
       "      <th>daily_intensive_care</th>\n",
       "      <th>daily_hospital_deaths</th>\n",
       "      <th>daily_deaths</th>\n",
       "    </tr>\n",
       "    <tr>\n",
       "      <th>time_stamp</th>\n",
       "      <th></th>\n",
       "      <th></th>\n",
       "      <th></th>\n",
       "      <th></th>\n",
       "      <th></th>\n",
       "      <th></th>\n",
       "      <th></th>\n",
       "      <th></th>\n",
       "      <th></th>\n",
       "    </tr>\n",
       "  </thead>\n",
       "  <tbody>\n",
       "    <tr>\n",
       "      <th>2020-05-24</th>\n",
       "      <td>CXB-219</td>\n",
       "      <td>240.500000</td>\n",
       "      <td>277</td>\n",
       "      <td>0</td>\n",
       "      <td>0</td>\n",
       "      <td>0</td>\n",
       "      <td>0</td>\n",
       "      <td>0</td>\n",
       "      <td>0</td>\n",
       "    </tr>\n",
       "    <tr>\n",
       "      <th>2020-05-25</th>\n",
       "      <td>CXB-219</td>\n",
       "      <td>312.666667</td>\n",
       "      <td>94</td>\n",
       "      <td>0</td>\n",
       "      <td>0</td>\n",
       "      <td>0</td>\n",
       "      <td>0</td>\n",
       "      <td>0</td>\n",
       "      <td>0</td>\n",
       "    </tr>\n",
       "    <tr>\n",
       "      <th>2020-05-26</th>\n",
       "      <td>CXB-219</td>\n",
       "      <td>417.000000</td>\n",
       "      <td>125</td>\n",
       "      <td>0</td>\n",
       "      <td>0</td>\n",
       "      <td>0</td>\n",
       "      <td>0</td>\n",
       "      <td>0</td>\n",
       "      <td>0</td>\n",
       "    </tr>\n",
       "  </tbody>\n",
       "</table>\n",
       "</div>"
      ],
      "text/plain": [
       "             region  current_infected  daily_infected  current_hospitalised  \\\n",
       "time_stamp                                                                    \n",
       "2020-05-24  CXB-219        240.500000             277                     0   \n",
       "2020-05-25  CXB-219        312.666667              94                     0   \n",
       "2020-05-26  CXB-219        417.000000             125                     0   \n",
       "\n",
       "            daily_hospitalised  current_intensive_care  daily_intensive_care  \\\n",
       "time_stamp                                                                     \n",
       "2020-05-24                   0                       0                     0   \n",
       "2020-05-25                   0                       0                     0   \n",
       "2020-05-26                   0                       0                     0   \n",
       "\n",
       "            daily_hospital_deaths  daily_deaths  \n",
       "time_stamp                                       \n",
       "2020-05-24                      0             0  \n",
       "2020-05-25                      0             0  \n",
       "2020-05-26                      0             0  "
      ]
     },
     "execution_count": 54,
     "metadata": {},
     "output_type": "execute_result"
    }
   ],
   "source": [
    "read.regional_summary.head(3) # this is the equivalent of the summary.csv"
   ]
  },
  {
   "cell_type": "markdown",
   "metadata": {},
   "source": [
    "### Daily infections"
   ]
  },
  {
   "cell_type": "code",
   "execution_count": 55,
   "metadata": {},
   "outputs": [],
   "source": [
    "summary = read.regional_summary.reset_index()"
   ]
  },
  {
   "cell_type": "code",
   "execution_count": 56,
   "metadata": {},
   "outputs": [
    {
     "data": {
      "image/png": "[encoded data removed]",
      "text/plain": [
       "<Figure size 432x288 with 1 Axes>"
      ]
     },
     "metadata": {
      "needs_background": "light"
     },
     "output_type": "display_data"
    }
   ],
   "source": [
    "summary.groupby(['time_stamp']).sum().plot(y=['daily_infected'])\n",
    "plt.ylabel('Daily infections')\n",
    "plt.show()"
   ]
  },
  {
   "cell_type": "markdown",
   "metadata": {},
   "source": [
    "### Hospital and intensive care"
   ]
  },
  {
   "cell_type": "code",
   "execution_count": 57,
   "metadata": {},
   "outputs": [
    {
     "data": {
      "image/png": "[encoded data removed]",
      "text/plain": [
       "<Figure size 432x288 with 1 Axes>"
      ]
     },
     "metadata": {
      "needs_background": "light"
     },
     "output_type": "display_data"
    }
   ],
   "source": [
    "summary.groupby(['time_stamp']).sum().plot(y=['current_hospitalised', 'current_intensive_care'])\n",
    "plt.show()"
   ]
  },
  {
   "cell_type": "markdown",
   "metadata": {},
   "source": [
    "### Cumulative infections by age"
   ]
  },
  {
   "cell_type": "code",
   "execution_count": 58,
   "metadata": {},
   "outputs": [
    {
     "name": "stdout",
     "output_type": "stream",
     "text": [
      "2022-02-11 16:28:34,396 - june.records.records_reader - INFO - Loading infections table\n",
      "2022-02-11 16:28:34,406 - june.records.records_reader - INFO - Loading population table\n",
      "2022-02-11 16:28:34,466 - june.records.records_reader - INFO - Merging infection and population tables\n",
      "2022-02-11 16:28:34,470 - june.records.records_reader - INFO - Loading geography table\n",
      "2022-02-11 16:28:34,501 - june.records.records_reader - INFO - Mergeing infection and geography tables\n"
     ]
    }
   ],
   "source": [
    "infections_df = read.get_table_with_extras('infections',\n",
    "                                           'infected_ids')"
   ]
  },
  {
   "cell_type": "code",
   "execution_count": 59,
   "metadata": {},
   "outputs": [
    {
     "name": "stdout",
     "output_type": "stream",
     "text": [
      "2022-02-11 16:28:34,517 - june.records.records_reader - INFO - Loading deaths table\n",
      "2022-02-11 16:28:34,526 - june.records.records_reader - INFO - Loading population table\n",
      "2022-02-11 16:28:34,576 - june.records.records_reader - INFO - Merging infection and population tables\n",
      "2022-02-11 16:28:34,584 - june.records.records_reader - INFO - Loading geography table\n",
      "2022-02-11 16:28:34,607 - june.records.records_reader - INFO - Mergeing infection and geography tables\n"
     ]
    }
   ],
   "source": [
    "deaths_df = read.get_table_with_extras('deaths', \n",
    "                                       'dead_person_ids')"
   ]
  },
  {
   "cell_type": "code",
   "execution_count": 60,
   "metadata": {},
   "outputs": [],
   "source": [
    "age_bins = (0,20,60,100)"
   ]
  },
  {
   "cell_type": "code",
   "execution_count": 61,
   "metadata": {},
   "outputs": [],
   "source": [
    "infected_by_age = infections_df.groupby([pd.cut(infections_df['age'],\n",
    "            bins=age_bins), 'timestamp']).size()"
   ]
  },
  {
   "cell_type": "code",
   "execution_count": 62,
   "metadata": {},
   "outputs": [],
   "source": [
    "people_df = read.table_to_df('population')"
   ]
  },
  {
   "cell_type": "code",
   "execution_count": 63,
   "metadata": {},
   "outputs": [],
   "source": [
    "n_by_age = people_df.groupby(pd.cut(people_df['age'],\n",
    "            bins=age_bins)).size()"
   ]
  },
  {
   "cell_type": "code",
   "execution_count": 64,
   "metadata": {},
   "outputs": [
    {
     "data": {
      "text/plain": [
       "<matplotlib.legend.Legend at 0x7f3608e07a60>"
      ]
     },
     "execution_count": 64,
     "metadata": {},
     "output_type": "execute_result"
    },
    {
     "data": {
      "image/png": "[encoded data removed]",
      "text/plain": [
       "<Figure size 432x288 with 1 Axes>"
      ]
     },
     "metadata": {
      "needs_background": "light"
     },
     "output_type": "display_data"
    }
   ],
   "source": [
    "(100*infected_by_age/n_by_age).xs(10).cumsum().plot(label='0,20')\n",
    "(100*infected_by_age/n_by_age).xs(30).cumsum().plot(label='20,60')\n",
    "(100*infected_by_age/n_by_age).xs(70).cumsum().plot(label='60,100')\n",
    "plt.ylabel(\"% cumulative infected\")\n",
    "plt.legend()"
   ]
  },
  {
   "cell_type": "markdown",
   "metadata": {},
   "source": [
    "### Where people get infected"
   ]
  },
  {
   "cell_type": "code",
   "execution_count": 65,
   "metadata": {},
   "outputs": [],
   "source": [
    "locations_df = infections_df.groupby(['location_specs', \n",
    "                                'timestamp']).size()"
   ]
  },
  {
   "cell_type": "code",
   "execution_count": 66,
   "metadata": {},
   "outputs": [
    {
     "data": {
      "text/plain": [
       "<AxesSubplot:xlabel='timestamp'>"
      ]
     },
     "execution_count": 66,
     "metadata": {},
     "output_type": "execute_result"
    },
    {
     "data": {
      "image/png": "[encoded data removed]",
      "text/plain": [
       "<Figure size 432x288 with 1 Axes>"
      ]
     },
     "metadata": {
      "needs_background": "light"
     },
     "output_type": "display_data"
    }
   ],
   "source": [
    "locations_df.unstack(level=0).plot()"
   ]
  },
  {
   "cell_type": "code",
   "execution_count": 67,
   "metadata": {},
   "outputs": [
    {
     "data": {
      "text/plain": [
       "Text(0.5, 0, 'location')"
      ]
     },
     "execution_count": 67,
     "metadata": {},
     "output_type": "execute_result"
    },
    {
     "data": {
      "image/png": "[encoded data removed]",
      "text/plain": [
       "<Figure size 432x288 with 1 Axes>"
      ]
     },
     "metadata": {
      "needs_background": "light"
     },
     "output_type": "display_data"
    }
   ],
   "source": [
    "import matplotlib.ticker as mtick\n",
    "location_counts_df = locations_df.groupby('location_specs').size()\n",
    "location_counts_df = 100*location_counts_df / location_counts_df.sum()\n",
    "ax = location_counts_df.sort_values().plot.bar()\n",
    "ax.yaxis.set_major_formatter(mtick.PercentFormatter())\n",
    "plt.ylabel('Percentage of infections at location')\n",
    "plt.xlabel('location')"
   ]
  },
  {
   "cell_type": "code",
   "execution_count": 68,
   "metadata": {},
   "outputs": [
    {
     "name": "stdout",
     "output_type": "stream",
     "text": [
      "hospitals 0\n",
      "distribution_centers 4\n",
      "communals 28\n",
      "female_communals 7\n",
      "pump_latrines 159\n",
      "religiouss 5\n",
      "play_groups 53\n",
      "e_vouchers 15\n",
      "n_f_distribution_centers 4\n",
      "shelters 24\n"
     ]
    }
   ],
   "source": [
    "for locs in simulator.tracker.location_counters[\"loc\"].keys():\n",
    "    loc_max = 0\n",
    "    for locs_i in simulator.tracker.location_counters[\"loc\"][locs].keys():\n",
    "        loc_max_i = np.max(simulator.tracker.location_counters[\"loc\"][locs][locs_i])\n",
    "        if loc_max_i > loc_max:\n",
    "            loc_max = loc_max_i\n",
    "            \n",
    "    print(locs, loc_max)\n",
    "     "
   ]
  },
  {
   "cell_type": "code",
   "execution_count": 71,
   "metadata": {},
   "outputs": [
    {
     "name": "stdout",
     "output_type": "stream",
     "text": [
      "Loading from pkl...\n",
      "Loaded\n",
      "communal [[2.65, 2.12], [2.0, 2.83]]\n",
      "female_communal [[0.0, 0.0], [0.0, 0.0]]\n",
      "religious [[2.24, 3.0], [1.41, 3.16]]\n",
      "distribution_center [[2.24, 3.0], [1.41, 3.32]]\n",
      "pump_latrine [[2.0, 1.73], [1.73, 2.24]]\n",
      "n_f_distribution_center [[2.24, 3.0], [1.41, 3.32]]\n",
      "e_voucher [[1.0, 2.45], [1.0, 3.0]]\n",
      "shelter [[0.0, 0.0], [0.0, 0.0]]\n",
      "learning_center [[3.16, 1.41], [2.24, 1.87]]\n",
      "isolation_unit [[0.0, 0.0], [0.0, 0.0]]\n"
     ]
    }
   ],
   "source": [
    "import sys\n",
    "import importlib\n",
    "importlib.reload(sys.modules['june.tracker.tracker'])\n",
    "\n",
    "from june.tracker.tracker import Tracker\n",
    "\n",
    "tracker = Tracker.from_pickle(world, Results_Path / \"tracker.pkl\")\n",
    "tracker.pickle_path =  Results_Path\n",
    "tracker.track_contacts_count = True\n",
    "tracker.location_counters = simulator.tracker.location_counters\n",
    "\n",
    "tracker.contract_matrix(\"5yr\")\n",
    "tracker.contract_matrix(\"AC\", np.array([0,18,60]))\n",
    "tracker.contract_matrix(\"All\", np.array([0,100]))\n",
    "\n",
    "tracker.make_plots()"
   ]
  },
  {
   "cell_type": "code",
   "execution_count": 72,
   "metadata": {
    "scrolled": false
   },
   "outputs": [
    {
     "name": "stdout",
     "output_type": "stream",
     "text": [
      "distribution_center 1\n",
      "[[0.         0.13022186]\n",
      " [5.10655738 0.27471436]]\n",
      "communal 1\n",
      "[[0.40349306 0.37518796]\n",
      " [0.40529257 0.38246066]]\n",
      "female_communal 1\n",
      "[[0.22684198 0.2228899 ]\n",
      " [0.2863054  0.25399419]]\n",
      "pump_latrine 0.5\n",
      "[[1.02687334 1.13447081]\n",
      " [0.99837177 1.06980719]]\n",
      "religious 1\n",
      "[[0.1047619  0.13750592]\n",
      " [1.42066068 0.25007407]]\n",
      "e_voucher 1\n",
      "[[0.17948718 0.15252256]\n",
      " [9.10442381 0.30908744]]\n",
      "n_f_distribution_center 1\n",
      "[[ 0.          0.16929204]\n",
      " [10.18926451  0.29226848]]\n",
      "           global  hospital  distribution_center  communal  female_communal  \\\n",
      "AC_idx                                                                        \n",
      "0       12.811188       0.0             0.000476  0.536077         0.030995   \n",
      "1       13.131400       0.0             0.007046  0.641887         0.047580   \n",
      "\n",
      "        pump_latrine  religious  play_group  e_voucher  \\\n",
      "AC_idx                                                   \n",
      "0           2.196179   0.008569    0.951111   0.002368   \n",
      "1           2.894282   0.021050    0.000000   0.040284   \n",
      "\n",
      "        n_f_distribution_center   shelter  shelter_intra  shelter_inter  \\\n",
      "AC_idx                                                                    \n",
      "0                      0.000690  9.084723       9.084723       9.084723   \n",
      "1                      0.013276  9.465995       9.465995       9.465995   \n",
      "\n",
      "        care_home_visits  household_visits  \n",
      "AC_idx                                      \n",
      "0                    0.0               0.0  \n",
      "1                    0.0               0.0  \n"
     ]
    }
   ],
   "source": [
    "#225 pump_latrines(s)\n",
    "#498 play_groups(s)\n",
    "#7 distribution_centers(s)\n",
    "#125 communals(s)\n",
    "#67 female_communals(s)\n",
    "#2064 religiouss(s)\n",
    "#7 e_vouchers(s)\n",
    "#36 n_f_distribution_centers(s)\n",
    "\n",
    "for local in tracker.contact_matrices[\"AC\"].keys():\n",
    "    if local in [\"global\", \"shelter_intra\", \"shelter\", \"shelter_inter\"]:\n",
    "        continue\n",
    "    \n",
    "    contact = tracker.normalised_contact_matrices[\"AC\"][local] \n",
    "    contact_unnorm = tracker.contact_matrices[\"AC\"][local]\n",
    "    interact = np.array(tracker.interaction_matrices[local][\"contacts\"])\n",
    "    charect_time = tracker.interaction_matrices[local][\"characteristic_time\"]\n",
    "    if contact.shape != interact.shape:\n",
    "        continue\n",
    "    \n",
    "    print(local, charect_time)\n",
    "    print(contact/interact) #Ratio differences in our understanding of the locations?\n",
    "print(tracker.average_contacts[\"AC\"])"
   ]
  },
  {
   "cell_type": "code",
   "execution_count": null,
   "metadata": {},
   "outputs": [],
   "source": []
  },
  {
   "cell_type": "code",
   "execution_count": null,
   "metadata": {},
   "outputs": [],
   "source": []
  },
  {
   "cell_type": "code",
   "execution_count": null,
   "metadata": {},
   "outputs": [],
   "source": []
  }
 ],
 "metadata": {
  "kernelspec": {
   "display_name": "Python 3 (ipykernel)",
   "language": "python",
   "name": "python3"
  },
  "language_info": {
   "codemirror_mode": {
    "name": "ipython",
    "version": 3
   },
   "file_extension": ".py",
   "mimetype": "text/x-python",
   "name": "python",
   "nbconvert_exporter": "python",
   "pygments_lexer": "ipython3",
   "version": "3.8.10"
  }
 },
 "nbformat": 4,
 "nbformat_minor": 4
}
