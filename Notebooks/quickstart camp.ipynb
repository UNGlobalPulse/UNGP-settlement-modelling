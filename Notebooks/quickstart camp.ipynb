{
 "cells": [
  {
   "cell_type": "code",
   "execution_count": 1,
   "metadata": {},
   "outputs": [],
   "source": [
    "import warnings\n",
    "warnings.filterwarnings('ignore')"
   ]
  },
  {
   "cell_type": "code",
   "execution_count": 2,
   "metadata": {},
   "outputs": [],
   "source": [
    "import numpy as np\n",
    "import pandas as pd\n",
    "import time\n",
    "import matplotlib.pyplot as plt\n",
    "from datetime import datetime\n",
    "import sys\n",
    "import argparse\n",
    "from pathlib import Path"
   ]
  },
  {
   "cell_type": "code",
   "execution_count": 3,
   "metadata": {},
   "outputs": [
    {
     "name": "stderr",
     "output_type": "stream",
     "text": [
      "No --data argument given - defaulting to:\n",
      "/home/joseph/Documents/PhD/UN_Work/UNGP-settlement-modelling-private/data\n",
      "No --configs argument given - defaulting to:\n",
      "/home/joseph/Documents/PhD/UN_Work/JUNE-private/june/configs\n"
     ]
    },
    {
     "name": "stdout",
     "output_type": "stream",
     "text": [
      "2022-09-21 16:11:25,467 - camps.paths - WARNING - No --camp_data argument given - defaulting to:\n",
      "/home/joseph/Documents/PhD/UN_Work/UNGP-settlement-modelling-private/camp_data\n",
      "2022-09-21 16:11:25,468 - camps.paths - WARNING - No --configs_camps argument given - defaulting to:\n",
      "/home/joseph/Documents/PhD/UN_Work/UNGP-settlement-modelling-private/configs_camps\n"
     ]
    }
   ],
   "source": [
    "from june.geography import Geography\n",
    "from june.demography.demography import (\n",
    "    load_age_and_sex_generators_for_bins,\n",
    "    Demography,\n",
    "    Population,\n",
    "    load_comorbidity_data,\n",
    "    generate_comorbidity,\n",
    ")\n",
    "from june.paths import data_path, configs_path\n",
    "from june.epidemiology.epidemiology import Epidemiology\n",
    "from june.epidemiology.infection import ImmunitySetter\n",
    "from june.epidemiology.infection import Infection, HealthIndexGenerator, InfectionSelector, InfectionSelectors\n",
    "from june.epidemiology.infection_seed import InfectionSeed, InfectionSeeds\n",
    "from june.interaction import Interaction\n",
    "from june.groups import Hospital, Hospitals, Cemeteries\n",
    "from june.distributors import HospitalDistributor\n",
    "from june.hdf5_savers import generate_world_from_hdf5\n",
    "from june.policy import Policy, Policies\n",
    "from june.records import Record\n",
    "from june.simulator import Simulator\n",
    "from june.records import Record, RecordReader\n",
    "\n",
    "from camps.activity import CampActivityManager\n",
    "from camps.paths import camp_data_path, camp_configs_path\n",
    "from camps.world import World\n",
    "from camps.groups.leisure import generate_leisure_for_world, generate_leisure_for_config\n",
    "from camps.camp_creation import (\n",
    "    generate_empty_world,\n",
    "    populate_world,\n",
    "    distribute_people_to_households,\n",
    ")  # this is loaded from the ../camp_scripts folder\n",
    "\n",
    "from june.tracker.tracker import Tracker"
   ]
  },
  {
   "cell_type": "code",
   "execution_count": 4,
   "metadata": {},
   "outputs": [],
   "source": [
    "from camps.groups import PumpLatrines, PumpLatrineDistributor\n",
    "from camps.groups import DistributionCenters, DistributionCenterDistributor\n",
    "from camps.groups import Communals, CommunalDistributor\n",
    "from camps.groups import FemaleCommunals, FemaleCommunalDistributor\n",
    "from camps.groups import Religiouss, ReligiousDistributor\n",
    "from camps.groups import Shelter, Shelters, ShelterDistributor\n",
    "from camps.groups import IsolationUnit, IsolationUnits\n",
    "from camps.groups import LearningCenters\n",
    "from camps.distributors import LearningCenterDistributor\n",
    "from camps.groups import PlayGroups, PlayGroupDistributor\n",
    "from camps.groups import EVouchers, EVoucherDistributor\n",
    "from camps.groups import NFDistributionCenters, NFDistributionCenterDistributor\n",
    "from camps.groups import SheltersVisitsDistributor\n",
    "from camps.groups import InformalWorks, InformalWorkDistributor"
   ]
  },
  {
   "cell_type": "code",
   "execution_count": 5,
   "metadata": {},
   "outputs": [],
   "source": [
    "Results_Path = Path(\"results\")\n",
    "\n",
    "Config_File_Path = camp_configs_path / \"config_demo.yaml\"\n",
    "Interactions_File_Path = camp_configs_path / \"defaults/interaction/interaction_Survey.yaml\"\n",
    "Policies_File_Path = camp_configs_path / \"defaults/policy/simple_policy.yaml\"\n",
    "Hospitals_File_Path = camp_data_path / \"input/hospitals/hospitals.csv\"\n",
    "comorbidity_multipliers_path = camp_configs_path / \"defaults/comorbidities.yaml\"\n",
    "male_comorbidity_reference_prevalence_path = camp_data_path / \"input/demography/uk_male_comorbidities.csv\"\n",
    "female_comorbidity_reference_prevalence_path = camp_data_path / \"input/demography/uk_female_comorbidities.csv\""
   ]
  },
  {
   "cell_type": "markdown",
   "metadata": {},
   "source": [
    "## Initialize the world"
   ]
  },
  {
   "cell_type": "markdown",
   "metadata": {},
   "source": [
    "When we create the camp to be simulated, we call this the 'world'. The world is initialised after specifying which geographical regions you want to simulate. We can do this by using the `filter_key` argument in the `generate_empty_world` function. Cox's Bazar Expansion Site is made up of camps (which we call regions), UNHCR blocks (which we call super areas) and Mahjee blocks (which we call areas). These are the 3 heirarchical levels on which our model works. You can pass lists of the regions/super_areas/areas to the function here. Alternatively, by leaving the function empty you can generate the entire Cox's Bazar Expansion Site consisting of 112 super areas."
   ]
  },
  {
   "cell_type": "code",
   "execution_count": 6,
   "metadata": {},
   "outputs": [
    {
     "name": "stdout",
     "output_type": "stream",
     "text": [
      "2022-09-21 16:11:28,146 - june.geography.geography - INFO - There are 65 areas and 4 super_areas and 1 regions in the world.\n"
     ]
    }
   ],
   "source": [
    "# create empty world's geography\n",
    "world = generate_empty_world(filter_key = {\"region\" : [\"CXB-219\"]})"
   ]
  },
  {
   "cell_type": "code",
   "execution_count": 7,
   "metadata": {},
   "outputs": [],
   "source": [
    "# populate empty world\n",
    "populate_world(world)"
   ]
  },
  {
   "cell_type": "code",
   "execution_count": 8,
   "metadata": {},
   "outputs": [
    {
     "name": "stdout",
     "output_type": "stream",
     "text": [
      "Distributing 469 people to CXB-219-001\n",
      "Distributing 369 people to CXB-219-002\n",
      "Distributing 331 people to CXB-219-003\n",
      "Distributing 386 people to CXB-219-004\n",
      "Distributing 313 people to CXB-219-005\n",
      "Distributing 331 people to CXB-219-006\n",
      "Distributing 259 people to CXB-219-007\n",
      "Distributing 350 people to CXB-219-009\n",
      "Distributing 275 people to CXB-219-010\n",
      "Distributing 248 people to CXB-219-011\n",
      "Distributing 463 people to CXB-219-012\n",
      "Distributing 418 people to CXB-219-013\n",
      "Distributing 460 people to CXB-219-014\n",
      "Distributing 383 people to CXB-219-017\n",
      "Distributing 417 people to CXB-219-020\n",
      "Distributing 426 people to CXB-219-021\n",
      "Distributing 414 people to CXB-219-022\n",
      "Distributing 383 people to CXB-219-024\n",
      "Distributing 377 people to CXB-219-025\n",
      "Distributing 379 people to CXB-219-026\n",
      "Distributing 413 people to CXB-219-027\n",
      "Distributing 392 people to CXB-219-028\n",
      "Distributing 331 people to CXB-219-029\n",
      "Distributing 459 people to CXB-219-030\n",
      "Distributing 394 people to CXB-219-032\n",
      "Distributing 339 people to CXB-219-033\n",
      "Distributing 373 people to CXB-219-034\n",
      "Distributing 259 people to CXB-219-036\n",
      "Distributing 456 people to CXB-219-037\n",
      "Distributing 459 people to CXB-219-038\n",
      "Distributing 488 people to CXB-219-039\n",
      "Distributing 175 people to CXB-219-040\n",
      "Distributing 330 people to CXB-219-041\n",
      "Distributing 399 people to CXB-219-042\n",
      "Distributing 397 people to CXB-219-043\n",
      "Distributing 368 people to CXB-219-044\n",
      "Distributing 429 people to CXB-219-045\n",
      "Distributing 449 people to CXB-219-046\n",
      "Distributing 245 people to CXB-219-047\n",
      "Distributing 311 people to CXB-219-048\n",
      "Distributing 335 people to CXB-219-049\n",
      "Distributing 207 people to CXB-219-050\n",
      "Distributing 343 people to CXB-219-051\n",
      "Distributing 347 people to CXB-219-052\n",
      "Distributing 533 people to CXB-219-053\n",
      "Distributing 381 people to CXB-219-054\n",
      "Distributing 253 people to CXB-219-055\n",
      "Distributing 274 people to CXB-219-056\n",
      "Distributing 246 people to CXB-219-057\n",
      "Distributing 376 people to CXB-219-058\n",
      "Distributing 342 people to CXB-219-059\n",
      "Distributing 331 people to CXB-219-060\n",
      "Distributing 412 people to CXB-219-061\n",
      "Distributing 258 people to CXB-219-062\n",
      "Distributing 287 people to CXB-219-063\n",
      "Distributing 194 people to CXB-219-064\n",
      "Distributing 212 people to CXB-219-065\n",
      "Distributing 330 people to CXB-219-066\n",
      "Distributing 315 people to CXB-219-067\n",
      "Distributing 386 people to CXB-219-068\n",
      "Distributing 552 people to CXB-219-069\n",
      "Distributing 320 people to CXB-219-070\n",
      "Distributing 215 people to CXB-219-071\n",
      "Distributing 312 people to CXB-234-001\n",
      "Distributing 275 people to CXB-234-002\n"
     ]
    }
   ],
   "source": [
    "# distribute people to households\n",
    "distribute_people_to_households(world)"
   ]
  },
  {
   "cell_type": "code",
   "execution_count": 9,
   "metadata": {},
   "outputs": [
    {
     "name": "stdout",
     "output_type": "stream",
     "text": [
      "2022-09-21 16:11:35,989 - learning_centers - INFO - There are 1243 learning center(s)\n"
     ]
    }
   ],
   "source": [
    "LearningCenters.Get_Interaction(Interactions_File_Path)\n",
    "world.learning_centers = LearningCenters.for_areas(world.areas)\n",
    "\n",
    "learningcenter_distributor = LearningCenterDistributor.from_file(world.learning_centers)\n",
    "\n",
    "learningcenter_distributor.distribute_teachers_to_learning_centers(world.areas)\n",
    "learningcenter_distributor.distribute_kids_to_learning_centers(world.areas)"
   ]
  },
  {
   "cell_type": "code",
   "execution_count": 10,
   "metadata": {},
   "outputs": [
    {
     "name": "stdout",
     "output_type": "stream",
     "text": [
      "2022-09-21 16:11:37,032 - hospitals - INFO - There are 8 hospitals in the world.\n",
      "2022-09-21 16:11:37,045 - isolation units - INFO - There are 8 isolation unit(s)\n"
     ]
    }
   ],
   "source": [
    "# distribute hospitals\n",
    "Hospitals.Get_Interaction(Interactions_File_Path)\n",
    "IsolationUnits.Get_Interaction(Interactions_File_Path)\n",
    "\n",
    "hospitals = Hospitals.from_file(\n",
    "    filename=Hospitals_File_Path\n",
    ")\n",
    "\n",
    "\n",
    "for hospital in hospitals:\n",
    "    hospital.area = world.areas.get_closest_area(hospital.coordinates)\n",
    "    \n",
    "world.hospitals = hospitals\n",
    "hospital_distributor = HospitalDistributor(\n",
    "    hospitals, medic_min_age=20, patients_per_medic=10\n",
    ")\n",
    "hospital_distributor.assign_closest_hospitals_to_super_areas(\n",
    "    world.super_areas\n",
    ")\n",
    "\n",
    "world.isolation_units = IsolationUnits([IsolationUnit(area=hospital.area) for hospital in world.hospitals])\n",
    "hospital_distributor.distribute_medics_from_world(world.people)"
   ]
  },
  {
   "cell_type": "code",
   "execution_count": 11,
   "metadata": {},
   "outputs": [
    {
     "name": "stdout",
     "output_type": "stream",
     "text": [
      "2022-09-21 16:11:37,123 - social_venue - INFO - Domain 0 has 81 pump_latrines(s)\n",
      "2022-09-21 16:11:37,241 - social_venue - INFO - Domain 0 has 541 play_groups(s)\n",
      "2022-09-21 16:11:37,345 - social_venue - INFO - Domain 0 has 21 distribution_centers(s)\n",
      "2022-09-21 16:11:37,431 - social_venue - INFO - Domain 0 has 115 communals(s)\n",
      "2022-09-21 16:11:37,498 - social_venue - INFO - Domain 0 has 67 female_communals(s)\n",
      "2022-09-21 16:11:38,498 - social_venue - INFO - Domain 0 has 2065 religiouss(s)\n",
      "2022-09-21 16:11:38,604 - social_venue - INFO - Domain 0 has 7 e_vouchers(s)\n",
      "2022-09-21 16:11:38,659 - social_venue - INFO - Domain 0 has 41 n_f_distribution_centers(s)\n",
      "2022-09-21 16:11:38,703 - social_venue - INFO - Domain 0 has 80 informal_works(s)\n"
     ]
    }
   ],
   "source": [
    "PumpLatrines.Get_Interaction(Interactions_File_Path)\n",
    "world.pump_latrines = PumpLatrines.for_areas(world.areas)\n",
    "\n",
    "PlayGroups.Get_Interaction(Interactions_File_Path)\n",
    "world.play_groups = PlayGroups.for_areas(world.areas)\n",
    "\n",
    "DistributionCenters.Get_Interaction(Interactions_File_Path)\n",
    "world.distribution_centers = DistributionCenters.for_areas(world.areas)\n",
    "\n",
    "Communals.Get_Interaction(Interactions_File_Path)\n",
    "world.communals = Communals.for_areas(world.areas)\n",
    "\n",
    "FemaleCommunals.Get_Interaction(Interactions_File_Path)\n",
    "world.female_communals = FemaleCommunals.for_areas(world.areas)\n",
    "\n",
    "Religiouss.Get_Interaction(Interactions_File_Path)\n",
    "world.religiouss = Religiouss.for_areas(world.areas)\n",
    "\n",
    "EVouchers.Get_Interaction(Interactions_File_Path)\n",
    "world.e_vouchers = EVouchers.for_areas(world.areas)\n",
    "\n",
    "NFDistributionCenters.Get_Interaction(Interactions_File_Path)\n",
    "world.n_f_distribution_centers = NFDistributionCenters.for_areas(world.areas)\n",
    "\n",
    "InformalWorks.Get_Interaction(Interactions_File_Path)\n",
    "world.informal_works = InformalWorks.for_areas(world.areas)"
   ]
  },
  {
   "cell_type": "code",
   "execution_count": 12,
   "metadata": {},
   "outputs": [
    {
     "name": "stdout",
     "output_type": "stream",
     "text": [
      "cemetery not defined in interaction yaml or defualt options\n"
     ]
    }
   ],
   "source": [
    "world.cemeteries = Cemeteries()"
   ]
  },
  {
   "cell_type": "markdown",
   "metadata": {},
   "source": [
    "## Geography exploration"
   ]
  },
  {
   "cell_type": "markdown",
   "metadata": {},
   "source": [
    "The geography is initialised first and can be explored."
   ]
  },
  {
   "cell_type": "markdown",
   "metadata": {},
   "source": [
    "### UNHCR camp blocks inside the World"
   ]
  },
  {
   "cell_type": "code",
   "execution_count": 13,
   "metadata": {},
   "outputs": [],
   "source": [
    "super_areas = []\n",
    "for super_area in world.super_areas:\n",
    "    super_areas.append(super_area.name)"
   ]
  },
  {
   "cell_type": "code",
   "execution_count": 14,
   "metadata": {},
   "outputs": [
    {
     "data": {
      "text/plain": [
       "['CXB-219-A', 'CXB-219-B', 'CXB-219-C', 'CXB-219-D']"
      ]
     },
     "execution_count": 14,
     "metadata": {},
     "output_type": "execute_result"
    }
   ],
   "source": [
    "super_areas[:5]"
   ]
  },
  {
   "cell_type": "markdown",
   "metadata": {},
   "source": [
    "### Mahjee blocks inside World"
   ]
  },
  {
   "cell_type": "code",
   "execution_count": 15,
   "metadata": {},
   "outputs": [],
   "source": [
    "areas = []\n",
    "for area in world.areas:\n",
    "    areas.append(area.name)"
   ]
  },
  {
   "cell_type": "code",
   "execution_count": 16,
   "metadata": {},
   "outputs": [
    {
     "data": {
      "text/plain": [
       "['CXB-219-001', 'CXB-219-002', 'CXB-219-003', 'CXB-219-004', 'CXB-219-005']"
      ]
     },
     "execution_count": 16,
     "metadata": {},
     "output_type": "execute_result"
    }
   ],
   "source": [
    "areas[:5]"
   ]
  },
  {
   "cell_type": "markdown",
   "metadata": {},
   "source": [
    "## Demography exploration"
   ]
  },
  {
   "cell_type": "markdown",
   "metadata": {},
   "source": [
    "Once we have populated the 'digital twin' we can explore some of the attributes of the people we have created in the simulation."
   ]
  },
  {
   "cell_type": "markdown",
   "metadata": {},
   "source": [
    "### UNHCR block residents"
   ]
  },
  {
   "cell_type": "code",
   "execution_count": 17,
   "metadata": {},
   "outputs": [],
   "source": [
    "sample_ages = []\n",
    "sample_sexes = []\n",
    "for person in world.super_areas.members[0].people:\n",
    "    sample_ages.append(person.age)\n",
    "    sample_sexes.append(person.sex)"
   ]
  },
  {
   "cell_type": "code",
   "execution_count": 18,
   "metadata": {},
   "outputs": [
    {
     "data": {
      "text/plain": [
       "(['m', 'f', 'f', 'f', 'm'], [61, 19, 50, 25, 19])"
      ]
     },
     "execution_count": 18,
     "metadata": {},
     "output_type": "execute_result"
    }
   ],
   "source": [
    "sample_sexes[:5], sample_ages[:5]"
   ]
  },
  {
   "cell_type": "code",
   "execution_count": 19,
   "metadata": {},
   "outputs": [
    {
     "data": {
      "image/png": "[encoded data removed]",
      "text/plain": [
       "<Figure size 432x288 with 1 Axes>"
      ]
     },
     "metadata": {
      "needs_background": "light"
     },
     "output_type": "display_data"
    }
   ],
   "source": [
    "ages, counts = np.unique(sample_ages, return_counts=True)\n",
    "plt.bar(ages, counts)\n",
    "plt.title('super area: {} age distribution'.format(world.super_areas.members[0].name))\n",
    "plt.show()"
   ]
  },
  {
   "cell_type": "code",
   "execution_count": 20,
   "metadata": {},
   "outputs": [
    {
     "name": "stdout",
     "output_type": "stream",
     "text": [
      "The % children between ages 0-16 is 49%\n"
     ]
    }
   ],
   "source": [
    "print ('The % children between ages 0-16 is {}%'.format(round(np.sum(counts[:16])/(np.sum(counts[:16])+np.sum(counts[16:]))*100)))"
   ]
  },
  {
   "cell_type": "markdown",
   "metadata": {},
   "source": [
    "## Households"
   ]
  },
  {
   "cell_type": "markdown",
   "metadata": {},
   "source": [
    "In this model, we will use the term 'family' and 'household' interchangeably. After populating the 'digital twin', we need to cluster people into families. To do this, we take account of age structure so that children live with adults, that there are some intergenerational households and such that we might also have some households of only adults."
   ]
  },
  {
   "cell_type": "markdown",
   "metadata": {},
   "source": [
    "### Household size distribution"
   ]
  },
  {
   "cell_type": "code",
   "execution_count": 21,
   "metadata": {},
   "outputs": [
    {
     "data": {
      "image/png": "[encoded data removed]",
      "text/plain": [
       "<Figure size 432x288 with 1 Axes>"
      ]
     },
     "metadata": {
      "needs_background": "light"
     },
     "output_type": "display_data"
    }
   ],
   "source": [
    "household_sizes = [household.size for household in world.households]\n",
    "plt.hist(household_sizes, density=True, bins=np.arange(0,12))\n",
    "plt.xlabel(\"Household size\")\n",
    "plt.ylabel(\"Frequency\")\n",
    "plt.axvline(np.mean(household_sizes), color=\"cyan\")\n",
    "plt.text(8, 0.150, f\"Avg. size: {(np.mean(household_sizes)):.2f}\")\n",
    "plt.show()"
   ]
  },
  {
   "cell_type": "markdown",
   "metadata": {},
   "source": [
    "# Shelters"
   ]
  },
  {
   "cell_type": "markdown",
   "metadata": {},
   "source": [
    "Shelters house people in the camp. Since we know that families (houseohlds) often share shelters with other families, we can set the `sharing_shelter_ratio` to cluster families into shared shelters."
   ]
  },
  {
   "cell_type": "code",
   "execution_count": 22,
   "metadata": {},
   "outputs": [],
   "source": [
    "Shelters.Get_Interaction(Interactions_File_Path)\n",
    "world.shelters = Shelters.for_areas(world.areas)\n",
    "shelter_distributor = ShelterDistributor(sharing_shelter_ratio = 0.75) # proportion of families that share a shelter\n",
    "for area in world.areas:\n",
    "    shelter_distributor.distribute_people_in_shelters(area.shelters, area.households)"
   ]
  },
  {
   "cell_type": "code",
   "execution_count": 23,
   "metadata": {},
   "outputs": [
    {
     "data": {
      "image/png": "[encoded data removed]",
      "text/plain": [
       "<Figure size 576x216 with 2 Axes>"
      ]
     },
     "metadata": {
      "needs_background": "light"
     },
     "output_type": "display_data"
    }
   ],
   "source": [
    "fig, ax = plt.subplots(1, 2, figsize=(8,3))\n",
    "shelter_sizes = [shelter.size for shelter in world.shelters]\n",
    "shelter_families = [shelter.n_families for shelter in world.shelters]\n",
    "ax[0].hist(shelter_sizes)\n",
    "ax[0].set_title(\"Shelter size\")\n",
    "shelter_families = {1 : len([shelter for shelter in world.shelters if shelter.n_families == 1]),\n",
    "                    2 : len([shelter for shelter in world.shelters if shelter.n_families == 2])}\n",
    "ax[1].bar(shelter_families.keys(), shelter_families.values())\n",
    "ax[1].set_title(\"# families per shelter\")\n",
    "plt.show()"
   ]
  },
  {
   "cell_type": "markdown",
   "metadata": {},
   "source": [
    "## Activity exploration"
   ]
  },
  {
   "cell_type": "markdown",
   "metadata": {},
   "source": [
    "Once different activity locations are seeded in the 'digital twin' we can explore how many there are in different areas of the twin, and their coordinates to check they've all been added correctly."
   ]
  },
  {
   "cell_type": "markdown",
   "metadata": {},
   "source": [
    "### Pumps and latrines "
   ]
  },
  {
   "cell_type": "code",
   "execution_count": 24,
   "metadata": {},
   "outputs": [],
   "source": [
    "pumps_and_latrines = []\n",
    "for pump_latrine in world.areas.members[0].pump_latrines:\n",
    "    pumps_and_latrines.append(pump_latrine)"
   ]
  },
  {
   "cell_type": "code",
   "execution_count": 25,
   "metadata": {},
   "outputs": [
    {
     "name": "stdout",
     "output_type": "stream",
     "text": [
      "There are 2 pumps and latrines in area CXB-219-001\n"
     ]
    }
   ],
   "source": [
    "print ('There are {} pumps and latrines in area {}'.format(len(pumps_and_latrines), world.areas.members[0].name))"
   ]
  },
  {
   "cell_type": "markdown",
   "metadata": {},
   "source": [
    "### Informal work"
   ]
  },
  {
   "cell_type": "code",
   "execution_count": 26,
   "metadata": {},
   "outputs": [],
   "source": [
    "Informal_work_Sites = []\n",
    "for informal_work in world.areas.members[0].informal_works:\n",
    "    Informal_work_Sites.append(informal_work)"
   ]
  },
  {
   "cell_type": "code",
   "execution_count": 27,
   "metadata": {},
   "outputs": [
    {
     "name": "stdout",
     "output_type": "stream",
     "text": [
      "There are 2 informal work sites in area CXB-219-001\n"
     ]
    }
   ],
   "source": [
    "print ('There are {} informal work sites in area {}'.format(len(Informal_work_Sites), world.areas.members[0].name))"
   ]
  },
  {
   "cell_type": "markdown",
   "metadata": {},
   "source": [
    "### Distribution centers"
   ]
  },
  {
   "cell_type": "code",
   "execution_count": 28,
   "metadata": {},
   "outputs": [],
   "source": [
    "distribution_centers = []\n",
    "for center in world.distribution_centers:\n",
    "    distribution_centers.append(center)"
   ]
  },
  {
   "cell_type": "code",
   "execution_count": 29,
   "metadata": {},
   "outputs": [
    {
     "data": {
      "text/plain": [
       "array([21.2136    , 92.15678833])"
      ]
     },
     "execution_count": 29,
     "metadata": {},
     "output_type": "execute_result"
    }
   ],
   "source": [
    "distribution_centers[0].coordinates"
   ]
  },
  {
   "cell_type": "markdown",
   "metadata": {},
   "source": [
    "### Non-food Distribution centers"
   ]
  },
  {
   "cell_type": "code",
   "execution_count": 30,
   "metadata": {},
   "outputs": [],
   "source": [
    "non_food_distribution_centers = []\n",
    "for center in world.n_f_distribution_centers:\n",
    "    non_food_distribution_centers.append(center)"
   ]
  },
  {
   "cell_type": "code",
   "execution_count": 31,
   "metadata": {},
   "outputs": [
    {
     "data": {
      "text/plain": [
       "array([21.21268167, 92.1438    ])"
      ]
     },
     "execution_count": 31,
     "metadata": {},
     "output_type": "execute_result"
    }
   ],
   "source": [
    "non_food_distribution_centers[0].coordinates"
   ]
  },
  {
   "cell_type": "markdown",
   "metadata": {},
   "source": [
    "### E-Voucher outlets"
   ]
  },
  {
   "cell_type": "code",
   "execution_count": 32,
   "metadata": {},
   "outputs": [],
   "source": [
    "e_voucher_outlets = []\n",
    "for center in world.e_vouchers:\n",
    "    e_voucher_outlets.append(center)"
   ]
  },
  {
   "cell_type": "code",
   "execution_count": 33,
   "metadata": {},
   "outputs": [
    {
     "data": {
      "text/plain": [
       "array([21.212945, 92.142915])"
      ]
     },
     "execution_count": 33,
     "metadata": {},
     "output_type": "execute_result"
    }
   ],
   "source": [
    "e_voucher_outlets[0].coordinates"
   ]
  },
  {
   "cell_type": "markdown",
   "metadata": {},
   "source": [
    "### Communal spaces"
   ]
  },
  {
   "cell_type": "code",
   "execution_count": 34,
   "metadata": {},
   "outputs": [],
   "source": [
    "communal_spaces = []\n",
    "for space in world.communals:\n",
    "    communal_spaces.append(space)"
   ]
  },
  {
   "cell_type": "code",
   "execution_count": 35,
   "metadata": {},
   "outputs": [
    {
     "data": {
      "text/plain": [
       "array([21.19508, 92.16525])"
      ]
     },
     "execution_count": 35,
     "metadata": {},
     "output_type": "execute_result"
    }
   ],
   "source": [
    "communal_spaces[0].coordinates"
   ]
  },
  {
   "cell_type": "markdown",
   "metadata": {},
   "source": [
    "### Female friendly communal spaces"
   ]
  },
  {
   "cell_type": "code",
   "execution_count": 36,
   "metadata": {},
   "outputs": [],
   "source": [
    "female_communal_spaces = []\n",
    "for space in world.female_communals:\n",
    "    female_communal_spaces.append(space)"
   ]
  },
  {
   "cell_type": "code",
   "execution_count": 37,
   "metadata": {},
   "outputs": [
    {
     "data": {
      "text/plain": [
       "array([21.20686305, 92.16070923])"
      ]
     },
     "execution_count": 37,
     "metadata": {},
     "output_type": "execute_result"
    }
   ],
   "source": [
    "female_communal_spaces[0].coordinates"
   ]
  },
  {
   "cell_type": "markdown",
   "metadata": {},
   "source": [
    "### Religious sites"
   ]
  },
  {
   "cell_type": "code",
   "execution_count": 38,
   "metadata": {},
   "outputs": [],
   "source": [
    "religious = []\n",
    "for rel in world.religiouss:\n",
    "    religious.append(rel)"
   ]
  },
  {
   "cell_type": "code",
   "execution_count": 39,
   "metadata": {},
   "outputs": [
    {
     "data": {
      "text/plain": [
       "array([21.21804605, 92.1546829 ])"
      ]
     },
     "execution_count": 39,
     "metadata": {},
     "output_type": "execute_result"
    }
   ],
   "source": [
    "religious[0].coordinates"
   ]
  },
  {
   "cell_type": "markdown",
   "metadata": {},
   "source": [
    "# Adding the infection"
   ]
  },
  {
   "cell_type": "markdown",
   "metadata": {},
   "source": [
    "The selector handles how infections are handled in the code. You can set different 'symptom trajectories' (e.g. exposed->mild->severe->hospitalised->intensive care) from different files. Here, we use the default."
   ]
  },
  {
   "cell_type": "code",
   "execution_count": 40,
   "metadata": {},
   "outputs": [],
   "source": [
    "selector = InfectionSelector.from_file()"
   ]
  },
  {
   "cell_type": "code",
   "execution_count": 41,
   "metadata": {},
   "outputs": [],
   "source": [
    "selectors = InfectionSelectors([selector])"
   ]
  },
  {
   "cell_type": "markdown",
   "metadata": {},
   "source": [
    "# Adding the interaction"
   ]
  },
  {
   "cell_type": "markdown",
   "metadata": {},
   "source": [
    "The interaction class handles how many contacts people have in different locations and with who. If contact matrices are available, these can be coded in a `.yaml` file and fed into the class here."
   ]
  },
  {
   "cell_type": "code",
   "execution_count": 42,
   "metadata": {},
   "outputs": [],
   "source": [
    "interaction = Interaction.from_file(\n",
    "    config_filename=Interactions_File_Path,\n",
    ")"
   ]
  },
  {
   "cell_type": "markdown",
   "metadata": {},
   "source": [
    "# Set policies"
   ]
  },
  {
   "cell_type": "markdown",
   "metadata": {},
   "source": [
    "Policies control how 'operational interventions' are set in the camp. Here we set some social distancing policies, policies relating to medical care, such as people with severe symptoms being hospitalised, and individual and activity policies which can dynamically change how often and where people go, e.g. here, we close all female communal spaces and non-food distirbution centers which the camp did back in March"
   ]
  },
  {
   "cell_type": "code",
   "execution_count": 43,
   "metadata": {},
   "outputs": [],
   "source": [
    "policies = Policies.from_file(\n",
    "        Policies_File_Path,\n",
    "        base_policy_modules=(\"june.policy\", \"camps.policy\"),\n",
    "    )"
   ]
  },
  {
   "cell_type": "code",
   "execution_count": 44,
   "metadata": {},
   "outputs": [
    {
     "data": {
      "text/plain": [
       "[<june.policy.interaction_policies.SocialDistancing at 0x7f37a3c551f0>,\n",
       " <june.policy.medical_care_policies.Hospitalisation at 0x7f37a3345190>,\n",
       " <june.policy.individual_policies.SevereSymptomsStayHome at 0x7f37a3341640>,\n",
       " <june.policy.individual_policies.Quarantine at 0x7f37a3e43dc0>]"
      ]
     },
     "execution_count": 44,
     "metadata": {},
     "output_type": "execute_result"
    }
   ],
   "source": [
    "policies.policies"
   ]
  },
  {
   "cell_type": "markdown",
   "metadata": {},
   "source": [
    "# Seed the disease"
   ]
  },
  {
   "cell_type": "markdown",
   "metadata": {},
   "source": [
    "Set intial seeding conditions. This can be done at the camp level specifically, or generally by seeding them randomly. Here the `n_cases` is the number of randomly seeded people over the entire population."
   ]
  },
  {
   "cell_type": "code",
   "execution_count": 45,
   "metadata": {},
   "outputs": [],
   "source": [
    "infection_seed = InfectionSeed.from_uniform_cases(\n",
    "    world=world, infection_selector=selector, cases_per_capita=0.01, date=\"2020-05-24 9:00\", seed_past_infections=False,\n",
    ")"
   ]
  },
  {
   "cell_type": "code",
   "execution_count": 46,
   "metadata": {},
   "outputs": [],
   "source": [
    "infection_seeds = InfectionSeeds([infection_seed])"
   ]
  },
  {
   "cell_type": "code",
   "execution_count": 47,
   "metadata": {},
   "outputs": [],
   "source": [
    "immunity_setter = ImmunitySetter.from_file_with_comorbidities(\n",
    "    comorbidity_multipliers_path= comorbidity_multipliers_path,\n",
    "    male_comorbidity_reference_prevalence_path= male_comorbidity_reference_prevalence_path,\n",
    "    female_comorbidity_reference_prevalence_path = female_comorbidity_reference_prevalence_path,   \n",
    ")"
   ]
  },
  {
   "cell_type": "code",
   "execution_count": 48,
   "metadata": {},
   "outputs": [],
   "source": [
    "epidemiology = Epidemiology(\n",
    "    infection_selectors=selectors,\n",
    "    infection_seeds=infection_seeds,\n",
    "    immunity_setter=immunity_setter,\n",
    ")"
   ]
  },
  {
   "cell_type": "markdown",
   "metadata": {},
   "source": [
    "## Select config file"
   ]
  },
  {
   "cell_type": "markdown",
   "metadata": {},
   "source": [
    "Before running the simualtion we must select the config file which defines how the world is set up and the simualtor will work. Specifically, the condif file specifies which activities will be included, how long we'll run the simualtion for, what the initial starting day will be and what the structure of weekdays and weekends will look like (if different)"
   ]
  },
  {
   "cell_type": "code",
   "execution_count": 49,
   "metadata": {},
   "outputs": [],
   "source": [
    "CONFIG_PATH = Config_File_Path"
   ]
  },
  {
   "cell_type": "markdown",
   "metadata": {},
   "source": [
    "# Initialise activities"
   ]
  },
  {
   "cell_type": "markdown",
   "metadata": {},
   "source": [
    "The final step to intialising the simulator class which brings all of this together is to inialise all the activity distirbutors (the term 'leisure' is a legacy of the original version of this code used for modelling COVID-19 in the UK). This will mean that people know where they can go at and given time."
   ]
  },
  {
   "cell_type": "code",
   "execution_count": 50,
   "metadata": {},
   "outputs": [
    {
     "name": "stdout",
     "output_type": "stream",
     "text": [
      "2022-09-21 16:11:40,966 - leisure - INFO - Linking households and care homes for visits\n",
      "2022-09-21 16:11:40,967 - leisure - INFO - Done\n",
      "2022-09-21 16:11:40,968 - leisure - INFO - Distributing social venues to areas\n",
      "2022-09-21 16:11:40,968 - leisure - INFO - Distributed in 0 of 65 areas.\n",
      "2022-09-21 16:11:41,056 - leisure - INFO - Distributed in 65 of 65 areas.\n"
     ]
    }
   ],
   "source": [
    "leisure = generate_leisure_for_config(world=world, config_filename=CONFIG_PATH)\n",
    "# associate social activities to shelters\n",
    "leisure.distribute_social_venues_to_areas(world.areas, world.super_areas)"
   ]
  },
  {
   "cell_type": "markdown",
   "metadata": {},
   "source": [
    "# Define a contact Tracker"
   ]
  },
  {
   "cell_type": "markdown",
   "metadata": {},
   "source": [
    "We define a list of venues in which to track. This is fed into JUNE's tracker class. We can specify tracking contacts by sex, the type of possible contacts \"1D\" (simulated contacts based on the input interaction matrices) or \"All\" (everyone at each venue contacts each other). Lastly we can find a subset of venues upto N but defining MaxVenueTrackingSize=N."
   ]
  },
  {
   "cell_type": "code",
   "execution_count": 51,
   "metadata": {},
   "outputs": [],
   "source": [
    "group_types=[\n",
    "        world.hospitals,\n",
    "        world.distribution_centers,\n",
    "        world.communals,\n",
    "        world.female_communals,\n",
    "        world.pump_latrines,\n",
    "        world.religiouss,\n",
    "        world.play_groups,\n",
    "        world.e_vouchers,\n",
    "        world.n_f_distribution_centers,\n",
    "        world.shelters,\n",
    "        world.learning_centers,\n",
    "        world.informal_works,\n",
    "        world.isolation_units,\n",
    "    ]\n",
    "\n",
    "tracker = Tracker(\n",
    "    world=world,\n",
    "    record_path=Results_Path,\n",
    "    group_types=group_types,\n",
    "    load_interactions_path=Interactions_File_Path,\n",
    "    contact_sexes=[\"unisex\", \"male\", \"female\"],\n",
    "    MaxVenueTrackingSize = 500\n",
    ")"
   ]
  },
  {
   "cell_type": "markdown",
   "metadata": {},
   "source": [
    "# Initialise simulator and run"
   ]
  },
  {
   "cell_type": "markdown",
   "metadata": {},
   "source": [
    "The recorder is defined which will log all interactions and infections in the simualation for later analysis. The `record_path` can be changed to any path where you want the recorded data to be stored."
   ]
  },
  {
   "cell_type": "code",
   "execution_count": 52,
   "metadata": {},
   "outputs": [],
   "source": [
    "record = Record(\n",
    "    record_path=Results_Path, \n",
    "    record_static_data=True\n",
    ")\n"
   ]
  },
  {
   "cell_type": "markdown",
   "metadata": {},
   "source": [
    "The simulator is defined with all the different necessary components we have built up so far"
   ]
  },
  {
   "cell_type": "code",
   "execution_count": 53,
   "metadata": {},
   "outputs": [],
   "source": [
    "Simulator.ActivityManager = CampActivityManager\n",
    "simulator = Simulator.from_file(\n",
    "    world=world,\n",
    "    interaction=interaction,\n",
    "    tracker=tracker,\n",
    "    leisure=leisure,\n",
    "    policies=policies,\n",
    "    config_filename=CONFIG_PATH,\n",
    "    epidemiology=epidemiology,\n",
    "    record=record,\n",
    ")"
   ]
  },
  {
   "cell_type": "markdown",
   "metadata": {},
   "source": [
    "Finally we can run a small simualation"
   ]
  },
  {
   "cell_type": "code",
   "execution_count": 54,
   "metadata": {
    "scrolled": true
   },
   "outputs": [
    {
     "name": "stdout",
     "output_type": "stream",
     "text": [
      "2022-09-21 16:11:41,828 - simulator - INFO - Starting simulation for 7 days at day 2020-05-24 09:00:00,to run for 7 days\n",
      "2022-09-21 16:11:41,903 - seed - INFO - Seeding Covid19 infections at date 2020-05-24\n",
      "2022-09-21 16:11:42,450 - rank - INFO - Next timestep\n",
      "2022-09-21 16:11:42,451 - simulator - INFO - ==================== timestep ====================\n",
      "2022-09-21 16:11:42,655 - rank - INFO - Rank 0 -- move_people -- 0.20309586901566945\n",
      "2022-09-21 16:11:42,656 - rank - INFO - Rank 0 -- move_people_waiting -- 8.495000656694174e-06\n",
      "2022-09-21 16:11:42,657 - activity_manager - INFO - CMS: People COMS for rank 0/1 - 3.609020495787263e-06,3.0994415283203125e-06 - 2020-05-24 09:00:00\n",
      "2022-09-21 16:11:42,663 - simulator - INFO - Info for rank 0, Date = 2020-05-24 09:00:00, number of deaths =  0, number of infected = 244\n",
      "2022-09-21 16:11:42,749 - rank - INFO - Rank 0 -- interaction -- 0.09125188499456272\n",
      "2022-09-21 16:11:42,750 - tracker - INFO - Rank 0 -- tracking contacts -- 115 of 115 of type communal\n",
      "2022-09-21 16:11:42,754 - tracker - INFO - Rank 0 -- tracking contacts -- 21 of 21 of type distribution_center\n",
      "2022-09-21 16:11:42,755 - tracker - INFO - Rank 0 -- tracking contacts -- 7 of 7 of type e_voucher\n",
      "2022-09-21 16:11:42,757 - tracker - INFO - Rank 0 -- tracking contacts -- 67 of 67 of type female_communal\n",
      "2022-09-21 16:11:42,760 - tracker - INFO - Rank 0 -- tracking contacts -- 80 of 80 of type informal_work\n",
      "2022-09-21 16:11:42,763 - tracker - INFO - Rank 0 -- tracking contacts -- 41 of 41 of type n_f_distribution_center\n",
      "2022-09-21 16:11:42,767 - tracker - INFO - Rank 0 -- tracking contacts -- 500 of 541 of type play_group\n",
      "2022-09-21 16:11:42,780 - tracker - INFO - Rank 0 -- tracking contacts -- 81 of 81 of type pump_latrine\n",
      "2022-09-21 16:11:42,789 - tracker - INFO - Rank 0 -- tracking contacts -- 500 of 2065 of type religious\n",
      "2022-09-21 16:11:42,810 - tracker - INFO - Rank 0 -- tracking contacts -- 500 of 3263 of type shelter\n",
      "2022-09-21 16:11:43,661 - tracker - INFO - Rank 0 -- tracking contacts -- 8 of 8 of type hospital\n",
      "2022-09-21 16:11:43,671 - tracker - INFO - Rank 0 -- tracking contacts -- 8 of 8 of type isolation_unit\n",
      "2022-09-21 16:11:43,673 - tracker - INFO - Rank 0 -- tracking contacts -- 389 of 389 of type learning_center\n",
      "2022-09-21 16:11:44,606 - rank - INFO - Rank 0 -- tracker -- 1.8556968090124428\n",
      "2022-09-21 16:11:44,679 - epidemiology - INFO - CMS: Infection COMS-v2 for rank 0/1(2)0.07185728699550964,0.07185792922973633 - 2020-05-24 09:00:00\n",
      "2022-09-21 16:11:44,816 - rank - INFO - Rank 0 -- interaction_waiting -- 2.1198997274041176e-05\n",
      "2022-09-21 16:11:44,831 - simulator - INFO - CMS: Timestep for rank 0/1 - 2.3788588760071434,2.378859519958496 - 2020-05-24 09:00:00\n",
      "\n",
      "2022-09-21 16:11:44,832 - rank - INFO - Next timestep\n",
      "2022-09-21 16:11:44,833 - simulator - INFO - ==================== timestep ====================\n",
      "2022-09-21 16:11:46,157 - rank - INFO - Rank 0 -- move_people -- 1.3231638080033008\n",
      "2022-09-21 16:11:46,158 - rank - INFO - Rank 0 -- move_people_waiting -- 7.800990715622902e-06\n",
      "2022-09-21 16:11:46,159 - activity_manager - INFO - CMS: People COMS for rank 0/1 - 3.7529971450567245e-06,3.5762786865234375e-06 - 2020-05-24 11:00:00\n",
      "2022-09-21 16:11:46,164 - simulator - INFO - Info for rank 0, Date = 2020-05-24 11:00:00, number of deaths =  0, number of infected = 244\n",
      "2022-09-21 16:11:46,306 - rank - INFO - Rank 0 -- interaction -- 0.14662793997558765\n",
      "2022-09-21 16:11:46,308 - tracker - INFO - Rank 0 -- tracking contacts -- 115 of 115 of type communal\n",
      "2022-09-21 16:11:46,331 - tracker - INFO - Rank 0 -- tracking contacts -- 21 of 21 of type distribution_center\n",
      "2022-09-21 16:11:46,358 - tracker - INFO - Rank 0 -- tracking contacts -- 7 of 7 of type e_voucher\n",
      "2022-09-21 16:11:46,369 - tracker - INFO - Rank 0 -- tracking contacts -- 67 of 67 of type female_communal\n",
      "2022-09-21 16:11:46,418 - tracker - INFO - Rank 0 -- tracking contacts -- 80 of 80 of type informal_work\n",
      "2022-09-21 16:11:46,503 - tracker - INFO - Rank 0 -- tracking contacts -- 41 of 41 of type n_f_distribution_center\n",
      "2022-09-21 16:11:46,584 - tracker - INFO - Rank 0 -- tracking contacts -- 500 of 541 of type play_group\n",
      "2022-09-21 16:11:46,876 - tracker - INFO - Rank 0 -- tracking contacts -- 81 of 81 of type pump_latrine\n",
      "2022-09-21 16:11:48,798 - tracker - INFO - Rank 0 -- tracking contacts -- 500 of 2065 of type religious\n",
      "2022-09-21 16:11:48,984 - tracker - INFO - Rank 0 -- tracking contacts -- 500 of 3263 of type shelter\n",
      "2022-09-21 16:11:49,399 - tracker - INFO - Rank 0 -- tracking contacts -- 8 of 8 of type hospital\n",
      "2022-09-21 16:11:49,409 - tracker - INFO - Rank 0 -- tracking contacts -- 8 of 8 of type isolation_unit\n",
      "2022-09-21 16:11:49,411 - tracker - INFO - Rank 0 -- tracking contacts -- 389 of 389 of type learning_center\n",
      "2022-09-21 16:11:50,312 - rank - INFO - Rank 0 -- tracker -- 4.004891365999356\n",
      "2022-09-21 16:11:50,315 - epidemiology - INFO - CMS: Infection COMS-v2 for rank 0/1(2)0.00028456602012738585,0.0002841949462890625 - 2020-05-24 11:00:00\n",
      "2022-09-21 16:11:50,347 - rank - INFO - Rank 0 -- interaction_waiting -- 7.947004633024335e-06\n",
      "2022-09-21 16:11:50,361 - simulator - INFO - CMS: Timestep for rank 0/1 - 5.5276176310144365,5.527619361877441 - 2020-05-24 11:00:00\n",
      "\n",
      "2022-09-21 16:11:50,362 - rank - INFO - Next timestep\n",
      "2022-09-21 16:11:50,363 - simulator - INFO - ==================== timestep ====================\n",
      "2022-09-21 16:11:51,140 - rank - INFO - Rank 0 -- move_people -- 0.7748142520140391\n",
      "2022-09-21 16:11:51,141 - rank - INFO - Rank 0 -- move_people_waiting -- 1.0118004865944386e-05\n",
      "2022-09-21 16:11:51,142 - activity_manager - INFO - CMS: People COMS for rank 0/1 - 4.1539897210896015e-06,3.5762786865234375e-06 - 2020-05-24 13:00:00\n",
      "2022-09-21 16:11:51,150 - simulator - INFO - Info for rank 0, Date = 2020-05-24 13:00:00, number of deaths =  0, number of infected = 248\n",
      "2022-09-21 16:11:51,292 - rank - INFO - Rank 0 -- interaction -- 0.14832472399575636\n",
      "2022-09-21 16:11:51,294 - tracker - INFO - Rank 0 -- tracking contacts -- 115 of 115 of type communal\n",
      "2022-09-21 16:11:51,327 - tracker - INFO - Rank 0 -- tracking contacts -- 21 of 21 of type distribution_center\n",
      "2022-09-21 16:11:51,362 - tracker - INFO - Rank 0 -- tracking contacts -- 7 of 7 of type e_voucher\n",
      "2022-09-21 16:11:51,375 - tracker - INFO - Rank 0 -- tracking contacts -- 67 of 67 of type female_communal\n",
      "2022-09-21 16:11:51,417 - tracker - INFO - Rank 0 -- tracking contacts -- 80 of 80 of type informal_work\n",
      "2022-09-21 16:11:51,511 - tracker - INFO - Rank 0 -- tracking contacts -- 41 of 41 of type n_f_distribution_center\n",
      "2022-09-21 16:11:51,551 - tracker - INFO - Rank 0 -- tracking contacts -- 500 of 541 of type play_group\n",
      "2022-09-21 16:11:51,835 - tracker - INFO - Rank 0 -- tracking contacts -- 81 of 81 of type pump_latrine\n",
      "2022-09-21 16:11:53,796 - tracker - INFO - Rank 0 -- tracking contacts -- 500 of 2065 of type religious\n",
      "2022-09-21 16:11:53,967 - tracker - INFO - Rank 0 -- tracking contacts -- 500 of 3263 of type shelter\n",
      "2022-09-21 16:11:54,373 - tracker - INFO - Rank 0 -- tracking contacts -- 8 of 8 of type hospital\n",
      "2022-09-21 16:11:54,386 - tracker - INFO - Rank 0 -- tracking contacts -- 8 of 8 of type isolation_unit\n",
      "2022-09-21 16:11:54,388 - tracker - INFO - Rank 0 -- tracking contacts -- 389 of 389 of type learning_center\n",
      "2022-09-21 16:11:55,303 - rank - INFO - Rank 0 -- tracker -- 4.010172282985877\n",
      "2022-09-21 16:11:55,307 - epidemiology - INFO - CMS: Infection COMS-v2 for rank 0/1(2)0.0008630680094938725,0.0008630752563476562 - 2020-05-24 13:00:00\n",
      "2022-09-21 16:11:55,341 - rank - INFO - Rank 0 -- interaction_waiting -- 6.961985491216183e-06\n",
      "2022-09-21 16:11:55,356 - simulator - INFO - CMS: Timestep for rank 0/1 - 4.990121395996539,4.990122318267822 - 2020-05-24 13:00:00\n",
      "\n",
      "2022-09-21 16:11:55,357 - rank - INFO - Next timestep\n",
      "2022-09-21 16:11:55,358 - simulator - INFO - ==================== timestep ====================\n",
      "2022-09-21 16:11:56,092 - rank - INFO - Rank 0 -- move_people -- 0.7331349730084185\n",
      "2022-09-21 16:11:56,093 - rank - INFO - Rank 0 -- move_people_waiting -- 7.361988537013531e-06\n",
      "2022-09-21 16:11:56,093 - activity_manager - INFO - CMS: People COMS for rank 0/1 - 4.176981747150421e-06,3.814697265625e-06 - 2020-05-24 15:00:00\n"
     ]
    },
    {
     "name": "stdout",
     "output_type": "stream",
     "text": [
      "2022-09-21 16:11:56,100 - simulator - INFO - Info for rank 0, Date = 2020-05-24 15:00:00, number of deaths =  0, number of infected = 253\n",
      "2022-09-21 16:11:56,235 - rank - INFO - Rank 0 -- interaction -- 0.13989297099760734\n",
      "2022-09-21 16:11:56,236 - tracker - INFO - Rank 0 -- tracking contacts -- 115 of 115 of type communal\n",
      "2022-09-21 16:11:56,272 - tracker - INFO - Rank 0 -- tracking contacts -- 21 of 21 of type distribution_center\n",
      "2022-09-21 16:11:56,298 - tracker - INFO - Rank 0 -- tracking contacts -- 7 of 7 of type e_voucher\n",
      "2022-09-21 16:11:56,311 - tracker - INFO - Rank 0 -- tracking contacts -- 67 of 67 of type female_communal\n",
      "2022-09-21 16:11:56,353 - tracker - INFO - Rank 0 -- tracking contacts -- 80 of 80 of type informal_work\n",
      "2022-09-21 16:11:56,433 - tracker - INFO - Rank 0 -- tracking contacts -- 41 of 41 of type n_f_distribution_center\n",
      "2022-09-21 16:11:56,487 - tracker - INFO - Rank 0 -- tracking contacts -- 500 of 541 of type play_group\n",
      "2022-09-21 16:11:56,760 - tracker - INFO - Rank 0 -- tracking contacts -- 81 of 81 of type pump_latrine\n",
      "2022-09-21 16:11:58,401 - tracker - INFO - Rank 0 -- tracking contacts -- 500 of 2065 of type religious\n",
      "2022-09-21 16:11:58,550 - tracker - INFO - Rank 0 -- tracking contacts -- 500 of 3263 of type shelter\n",
      "2022-09-21 16:11:58,926 - tracker - INFO - Rank 0 -- tracking contacts -- 8 of 8 of type hospital\n",
      "2022-09-21 16:11:58,938 - tracker - INFO - Rank 0 -- tracking contacts -- 8 of 8 of type isolation_unit\n",
      "2022-09-21 16:11:58,939 - tracker - INFO - Rank 0 -- tracking contacts -- 389 of 389 of type learning_center\n",
      "2022-09-21 16:11:59,800 - rank - INFO - Rank 0 -- tracker -- 3.5646321600070223\n",
      "2022-09-21 16:11:59,804 - epidemiology - INFO - CMS: Infection COMS-v2 for rank 0/1(2)0.0001898299960885197,0.0001895427703857422 - 2020-05-24 15:00:00\n",
      "2022-09-21 16:11:59,834 - rank - INFO - Rank 0 -- interaction_waiting -- 6.5689964685589075e-06\n",
      "2022-09-21 16:11:59,846 - simulator - INFO - CMS: Timestep for rank 0/1 - 4.487730554013979,4.487731456756592 - 2020-05-24 15:00:00\n",
      "\n",
      "2022-09-21 16:11:59,847 - rank - INFO - Next timestep\n",
      "2022-09-21 16:11:59,848 - simulator - INFO - ==================== timestep ====================\n",
      "2022-09-21 16:12:00,610 - rank - INFO - Rank 0 -- move_people -- 0.7613714769831859\n",
      "2022-09-21 16:12:00,610 - rank - INFO - Rank 0 -- move_people_waiting -- 5.4140109568834305e-06\n",
      "2022-09-21 16:12:00,611 - activity_manager - INFO - CMS: People COMS for rank 0/1 - 2.6909983716905117e-06,2.6226043701171875e-06 - 2020-05-24 17:00:00\n",
      "2022-09-21 16:12:00,615 - simulator - INFO - Info for rank 0, Date = 2020-05-24 17:00:00, number of deaths =  0, number of infected = 260\n",
      "2022-09-21 16:12:00,738 - rank - INFO - Rank 0 -- interaction -- 0.12693627999396995\n",
      "2022-09-21 16:12:00,739 - tracker - INFO - Rank 0 -- tracking contacts -- 115 of 115 of type communal\n",
      "2022-09-21 16:12:00,741 - tracker - INFO - Rank 0 -- tracking contacts -- 21 of 21 of type distribution_center\n",
      "2022-09-21 16:12:00,766 - tracker - INFO - Rank 0 -- tracking contacts -- 7 of 7 of type e_voucher\n",
      "2022-09-21 16:12:00,777 - tracker - INFO - Rank 0 -- tracking contacts -- 67 of 67 of type female_communal\n",
      "2022-09-21 16:12:00,779 - tracker - INFO - Rank 0 -- tracking contacts -- 80 of 80 of type informal_work\n",
      "2022-09-21 16:12:00,860 - tracker - INFO - Rank 0 -- tracking contacts -- 41 of 41 of type n_f_distribution_center\n",
      "2022-09-21 16:12:00,902 - tracker - INFO - Rank 0 -- tracking contacts -- 500 of 541 of type play_group\n",
      "2022-09-21 16:12:01,168 - tracker - INFO - Rank 0 -- tracking contacts -- 81 of 81 of type pump_latrine\n",
      "2022-09-21 16:12:02,781 - tracker - INFO - Rank 0 -- tracking contacts -- 500 of 2065 of type religious\n",
      "2022-09-21 16:12:02,957 - tracker - INFO - Rank 0 -- tracking contacts -- 500 of 3263 of type shelter\n",
      "2022-09-21 16:12:03,321 - tracker - INFO - Rank 0 -- tracking contacts -- 8 of 8 of type hospital\n",
      "2022-09-21 16:12:03,322 - tracker - INFO - Rank 0 -- tracking contacts -- 8 of 8 of type isolation_unit\n",
      "2022-09-21 16:12:03,323 - tracker - INFO - Rank 0 -- tracking contacts -- 389 of 389 of type learning_center\n",
      "2022-09-21 16:12:03,334 - rank - INFO - Rank 0 -- tracker -- 2.5947631289891433\n",
      "2022-09-21 16:12:03,337 - epidemiology - INFO - CMS: Infection COMS-v2 for rank 0/1(2)0.0008630609954707325,0.0008635520935058594 - 2020-05-24 17:00:00\n",
      "2022-09-21 16:12:03,369 - rank - INFO - Rank 0 -- interaction_waiting -- 6.154004950076342e-06\n",
      "2022-09-21 16:12:03,385 - simulator - INFO - CMS: Timestep for rank 0/1 - 3.536920423997799,3.536921262741089 - 2020-05-24 17:00:00\n",
      "\n",
      "2022-09-21 16:12:03,386 - rank - INFO - Next timestep\n",
      "2022-09-21 16:12:03,387 - simulator - INFO - ==================== timestep ====================\n",
      "2022-09-21 16:12:03,528 - rank - INFO - Rank 0 -- move_people -- 0.13975932000903413\n",
      "2022-09-21 16:12:03,528 - rank - INFO - Rank 0 -- move_people_waiting -- 5.76098682358861e-06\n",
      "2022-09-21 16:12:03,529 - activity_manager - INFO - CMS: People COMS for rank 0/1 - 3.0719966161996126e-06,2.86102294921875e-06 - 2020-05-24 19:00:00\n",
      "2022-09-21 16:12:03,535 - simulator - INFO - Info for rank 0, Date = 2020-05-24 19:00:00, number of deaths =  0, number of infected = 264\n",
      "2022-09-21 16:12:03,606 - rank - INFO - Rank 0 -- interaction -- 0.07697325499611907\n",
      "2022-09-21 16:12:03,607 - tracker - INFO - Rank 0 -- tracking contacts -- 115 of 115 of type communal\n",
      "2022-09-21 16:12:03,609 - tracker - INFO - Rank 0 -- tracking contacts -- 21 of 21 of type distribution_center\n",
      "2022-09-21 16:12:03,611 - tracker - INFO - Rank 0 -- tracking contacts -- 7 of 7 of type e_voucher\n",
      "2022-09-21 16:12:03,613 - tracker - INFO - Rank 0 -- tracking contacts -- 67 of 67 of type female_communal\n",
      "2022-09-21 16:12:03,615 - tracker - INFO - Rank 0 -- tracking contacts -- 80 of 80 of type informal_work\n",
      "2022-09-21 16:12:03,618 - tracker - INFO - Rank 0 -- tracking contacts -- 41 of 41 of type n_f_distribution_center\n",
      "2022-09-21 16:12:03,622 - tracker - INFO - Rank 0 -- tracking contacts -- 500 of 541 of type play_group\n",
      "2022-09-21 16:12:03,633 - tracker - INFO - Rank 0 -- tracking contacts -- 81 of 81 of type pump_latrine\n",
      "2022-09-21 16:12:03,647 - tracker - INFO - Rank 0 -- tracking contacts -- 500 of 2065 of type religious\n",
      "2022-09-21 16:12:03,661 - tracker - INFO - Rank 0 -- tracking contacts -- 500 of 3263 of type shelter\n",
      "2022-09-21 16:12:04,541 - tracker - INFO - Rank 0 -- tracking contacts -- 8 of 8 of type hospital\n",
      "2022-09-21 16:12:04,543 - tracker - INFO - Rank 0 -- tracking contacts -- 8 of 8 of type isolation_unit\n",
      "2022-09-21 16:12:04,545 - tracker - INFO - Rank 0 -- tracking contacts -- 389 of 389 of type learning_center\n",
      "2022-09-21 16:12:04,558 - rank - INFO - Rank 0 -- tracker -- 0.9504499160102569\n",
      "2022-09-21 16:12:04,571 - epidemiology - INFO - CMS: Infection COMS-v2 for rank 0/1(2)0.00030449600308202207,0.00030422210693359375 - 2020-05-24 19:00:00\n",
      "2022-09-21 16:12:04,811 - rank - INFO - Rank 0 -- interaction_waiting -- 6.994989234954119e-06\n",
      "2022-09-21 16:12:04,825 - simulator - INFO - CMS: Timestep for rank 0/1 - 1.4366784229932819,1.4366793632507324 - 2020-05-24 19:00:00\n",
      "\n",
      "2022-09-21 16:12:04,827 - rank - INFO - Next timestep\n",
      "2022-09-21 16:12:04,828 - simulator - INFO - ==================== timestep ====================\n",
      "2022-09-21 16:12:05,013 - rank - INFO - Rank 0 -- move_people -- 0.18379815900698304\n",
      "2022-09-21 16:12:05,014 - rank - INFO - Rank 0 -- move_people_waiting -- 3.244000254198909e-06\n",
      "2022-09-21 16:12:05,015 - activity_manager - INFO - CMS: People COMS for rank 0/1 - 3.254011971876025e-06,3.0994415283203125e-06 - 2020-05-25 09:00:00\n",
      "2022-09-21 16:12:05,021 - simulator - INFO - Info for rank 0, Date = 2020-05-25 09:00:00, number of deaths =  0, number of infected = 289\n",
      "2022-09-21 16:12:05,102 - rank - INFO - Rank 0 -- interaction -- 0.08682728500571102\n",
      "2022-09-21 16:12:10,809 - tracker - INFO - Rank 0 -- tracking contacts -- 115 of 115 of type communal\n",
      "2022-09-21 16:12:10,812 - tracker - INFO - Rank 0 -- tracking contacts -- 21 of 21 of type distribution_center\n",
      "2022-09-21 16:12:10,813 - tracker - INFO - Rank 0 -- tracking contacts -- 7 of 7 of type e_voucher\n",
      "2022-09-21 16:12:10,815 - tracker - INFO - Rank 0 -- tracking contacts -- 67 of 67 of type female_communal\n"
     ]
    },
    {
     "name": "stdout",
     "output_type": "stream",
     "text": [
      "2022-09-21 16:12:10,817 - tracker - INFO - Rank 0 -- tracking contacts -- 80 of 80 of type informal_work\n",
      "2022-09-21 16:12:10,819 - tracker - INFO - Rank 0 -- tracking contacts -- 41 of 41 of type n_f_distribution_center\n",
      "2022-09-21 16:12:10,824 - tracker - INFO - Rank 0 -- tracking contacts -- 500 of 541 of type play_group\n",
      "2022-09-21 16:12:10,836 - tracker - INFO - Rank 0 -- tracking contacts -- 81 of 81 of type pump_latrine\n",
      "2022-09-21 16:12:10,854 - tracker - INFO - Rank 0 -- tracking contacts -- 500 of 2065 of type religious\n",
      "2022-09-21 16:12:10,870 - tracker - INFO - Rank 0 -- tracking contacts -- 500 of 3263 of type shelter\n",
      "2022-09-21 16:12:11,697 - tracker - INFO - Rank 0 -- tracking contacts -- 8 of 8 of type hospital\n",
      "2022-09-21 16:12:11,706 - tracker - INFO - Rank 0 -- tracking contacts -- 8 of 8 of type isolation_unit\n",
      "2022-09-21 16:12:11,708 - tracker - INFO - Rank 0 -- tracking contacts -- 389 of 389 of type learning_center\n",
      "2022-09-21 16:12:12,608 - rank - INFO - Rank 0 -- tracker -- 7.504235384025378\n",
      "2022-09-21 16:12:12,613 - epidemiology - INFO - CMS: Infection COMS-v2 for rank 0/1(2)0.0002989429922308773,0.00029850006103515625 - 2020-05-25 09:00:00\n",
      "2022-09-21 16:12:12,647 - rank - INFO - Rank 0 -- interaction_waiting -- 6.246002158150077e-06\n",
      "2022-09-21 16:12:12,660 - simulator - INFO - CMS: Timestep for rank 0/1 - 7.830704007006716,7.8307044506073 - 2020-05-25 09:00:00\n",
      "\n",
      "2022-09-21 16:12:12,662 - rank - INFO - Next timestep\n",
      "2022-09-21 16:12:12,663 - simulator - INFO - ==================== timestep ====================\n",
      "2022-09-21 16:12:13,808 - rank - INFO - Rank 0 -- move_people -- 1.1434139579941984\n",
      "2022-09-21 16:12:13,808 - rank - INFO - Rank 0 -- move_people_waiting -- 6.73800241202116e-06\n",
      "2022-09-21 16:12:13,809 - activity_manager - INFO - CMS: People COMS for rank 0/1 - 3.5139964893460274e-06,3.337860107421875e-06 - 2020-05-25 11:00:00\n",
      "2022-09-21 16:12:13,814 - simulator - INFO - Info for rank 0, Date = 2020-05-25 11:00:00, number of deaths =  0, number of infected = 298\n",
      "2022-09-21 16:12:13,962 - rank - INFO - Rank 0 -- interaction -- 0.15162672399310395\n",
      "2022-09-21 16:12:15,052 - tracker - INFO - Rank 0 -- tracking contacts -- 115 of 115 of type communal\n",
      "2022-09-21 16:12:15,085 - tracker - INFO - Rank 0 -- tracking contacts -- 21 of 21 of type distribution_center\n",
      "2022-09-21 16:12:15,123 - tracker - INFO - Rank 0 -- tracking contacts -- 7 of 7 of type e_voucher\n",
      "2022-09-21 16:12:15,143 - tracker - INFO - Rank 0 -- tracking contacts -- 67 of 67 of type female_communal\n",
      "2022-09-21 16:12:15,190 - tracker - INFO - Rank 0 -- tracking contacts -- 80 of 80 of type informal_work\n",
      "2022-09-21 16:12:15,270 - tracker - INFO - Rank 0 -- tracking contacts -- 41 of 41 of type n_f_distribution_center\n",
      "2022-09-21 16:12:15,323 - tracker - INFO - Rank 0 -- tracking contacts -- 500 of 541 of type play_group\n",
      "2022-09-21 16:12:15,602 - tracker - INFO - Rank 0 -- tracking contacts -- 81 of 81 of type pump_latrine\n",
      "2022-09-21 16:12:17,487 - tracker - INFO - Rank 0 -- tracking contacts -- 500 of 2065 of type religious\n",
      "2022-09-21 16:12:17,681 - tracker - INFO - Rank 0 -- tracking contacts -- 500 of 3263 of type shelter\n",
      "2022-09-21 16:12:18,073 - tracker - INFO - Rank 0 -- tracking contacts -- 8 of 8 of type hospital\n",
      "2022-09-21 16:12:18,086 - tracker - INFO - Rank 0 -- tracking contacts -- 8 of 8 of type isolation_unit\n",
      "2022-09-21 16:12:18,088 - tracker - INFO - Rank 0 -- tracking contacts -- 389 of 389 of type learning_center\n",
      "2022-09-21 16:12:18,999 - rank - INFO - Rank 0 -- tracker -- 5.03370172000723\n",
      "2022-09-21 16:12:19,006 - epidemiology - INFO - CMS: Infection COMS-v2 for rank 0/1(2)0.00030426902230829,0.0003037452697753906 - 2020-05-25 11:00:00\n",
      "2022-09-21 16:12:19,041 - rank - INFO - Rank 0 -- interaction_waiting -- 7.669004844501615e-06\n",
      "2022-09-21 16:12:19,055 - simulator - INFO - CMS: Timestep for rank 0/1 - 6.3904382809996605,6.390439748764038 - 2020-05-25 11:00:00\n",
      "\n",
      "2022-09-21 16:12:19,058 - rank - INFO - Next timestep\n",
      "2022-09-21 16:12:19,059 - simulator - INFO - ==================== timestep ====================\n",
      "2022-09-21 16:12:19,798 - rank - INFO - Rank 0 -- move_people -- 0.7386850809853058\n",
      "2022-09-21 16:12:19,799 - rank - INFO - Rank 0 -- move_people_waiting -- 6.937014404684305e-06\n",
      "2022-09-21 16:12:19,799 - activity_manager - INFO - CMS: People COMS for rank 0/1 - 3.176013706251979e-06,3.0994415283203125e-06 - 2020-05-25 13:00:00\n",
      "2022-09-21 16:12:19,804 - simulator - INFO - Info for rank 0, Date = 2020-05-25 13:00:00, number of deaths =  0, number of infected = 312\n",
      "2022-09-21 16:12:19,936 - rank - INFO - Rank 0 -- interaction -- 0.1355100240034517\n",
      "2022-09-21 16:12:22,143 - tracker - INFO - Rank 0 -- tracking contacts -- 115 of 115 of type communal\n",
      "2022-09-21 16:12:22,160 - tracker - INFO - Rank 0 -- tracking contacts -- 21 of 21 of type distribution_center\n",
      "2022-09-21 16:12:22,181 - tracker - INFO - Rank 0 -- tracking contacts -- 7 of 7 of type e_voucher\n",
      "2022-09-21 16:12:22,196 - tracker - INFO - Rank 0 -- tracking contacts -- 67 of 67 of type female_communal\n",
      "2022-09-21 16:12:22,228 - tracker - INFO - Rank 0 -- tracking contacts -- 80 of 80 of type informal_work\n",
      "2022-09-21 16:12:22,291 - tracker - INFO - Rank 0 -- tracking contacts -- 41 of 41 of type n_f_distribution_center\n",
      "2022-09-21 16:12:22,328 - tracker - INFO - Rank 0 -- tracking contacts -- 500 of 541 of type play_group\n",
      "2022-09-21 16:12:22,557 - tracker - INFO - Rank 0 -- tracking contacts -- 81 of 81 of type pump_latrine\n",
      "2022-09-21 16:12:24,009 - tracker - INFO - Rank 0 -- tracking contacts -- 500 of 2065 of type religious\n",
      "2022-09-21 16:12:24,152 - tracker - INFO - Rank 0 -- tracking contacts -- 500 of 3263 of type shelter\n",
      "2022-09-21 16:12:24,461 - tracker - INFO - Rank 0 -- tracking contacts -- 8 of 8 of type hospital\n",
      "2022-09-21 16:12:24,468 - tracker - INFO - Rank 0 -- tracking contacts -- 8 of 8 of type isolation_unit\n",
      "2022-09-21 16:12:24,470 - tracker - INFO - Rank 0 -- tracking contacts -- 389 of 389 of type learning_center\n",
      "2022-09-21 16:12:25,169 - rank - INFO - Rank 0 -- tracker -- 5.2326121260121\n",
      "2022-09-21 16:12:25,172 - epidemiology - INFO - CMS: Infection COMS-v2 for rank 0/1(2)0.00019008800154551864,0.0001900196075439453 - 2020-05-25 13:00:00\n",
      "2022-09-21 16:12:25,194 - rank - INFO - Rank 0 -- interaction_waiting -- 5.492009222507477e-06\n",
      "2022-09-21 16:12:25,204 - simulator - INFO - CMS: Timestep for rank 0/1 - 6.144788806996075,6.144789218902588 - 2020-05-25 13:00:00\n",
      "\n",
      "2022-09-21 16:12:25,206 - rank - INFO - Next timestep\n",
      "2022-09-21 16:12:25,207 - simulator - INFO - ==================== timestep ====================\n",
      "2022-09-21 16:12:25,976 - rank - INFO - Rank 0 -- move_people -- 0.7683305419923272\n",
      "2022-09-21 16:12:25,976 - rank - INFO - Rank 0 -- move_people_waiting -- 6.176996976137161e-06\n",
      "2022-09-21 16:12:25,978 - activity_manager - INFO - CMS: People COMS for rank 0/1 - 3.716006176546216e-06,3.337860107421875e-06 - 2020-05-25 15:00:00\n",
      "2022-09-21 16:12:25,983 - simulator - INFO - Info for rank 0, Date = 2020-05-25 15:00:00, number of deaths =  0, number of infected = 320\n",
      "2022-09-21 16:12:26,128 - rank - INFO - Rank 0 -- interaction -- 0.14954988702083938\n",
      "2022-09-21 16:12:30,087 - tracker - INFO - Rank 0 -- tracking contacts -- 115 of 115 of type communal\n",
      "2022-09-21 16:12:30,115 - tracker - INFO - Rank 0 -- tracking contacts -- 21 of 21 of type distribution_center\n",
      "2022-09-21 16:12:30,140 - tracker - INFO - Rank 0 -- tracking contacts -- 7 of 7 of type e_voucher\n",
      "2022-09-21 16:12:30,149 - tracker - INFO - Rank 0 -- tracking contacts -- 67 of 67 of type female_communal\n",
      "2022-09-21 16:12:30,191 - tracker - INFO - Rank 0 -- tracking contacts -- 80 of 80 of type informal_work\n",
      "2022-09-21 16:12:30,271 - tracker - INFO - Rank 0 -- tracking contacts -- 41 of 41 of type n_f_distribution_center\n",
      "2022-09-21 16:12:30,339 - tracker - INFO - Rank 0 -- tracking contacts -- 500 of 541 of type play_group\n",
      "2022-09-21 16:12:30,590 - tracker - INFO - Rank 0 -- tracking contacts -- 81 of 81 of type pump_latrine\n",
      "2022-09-21 16:12:32,186 - tracker - INFO - Rank 0 -- tracking contacts -- 500 of 2065 of type religious\n",
      "2022-09-21 16:12:32,338 - tracker - INFO - Rank 0 -- tracking contacts -- 500 of 3263 of type shelter\n"
     ]
    },
    {
     "name": "stdout",
     "output_type": "stream",
     "text": [
      "2022-09-21 16:12:32,719 - tracker - INFO - Rank 0 -- tracking contacts -- 8 of 8 of type hospital\n",
      "2022-09-21 16:12:32,727 - tracker - INFO - Rank 0 -- tracking contacts -- 8 of 8 of type isolation_unit\n",
      "2022-09-21 16:12:32,728 - tracker - INFO - Rank 0 -- tracking contacts -- 389 of 389 of type learning_center\n",
      "2022-09-21 16:12:33,557 - rank - INFO - Rank 0 -- tracker -- 7.42744314999436\n",
      "2022-09-21 16:12:33,567 - epidemiology - INFO - CMS: Infection COMS-v2 for rank 0/1(2)0.00036327599082142115,0.0003631114959716797 - 2020-05-25 15:00:00\n",
      "2022-09-21 16:12:33,601 - rank - INFO - Rank 0 -- interaction_waiting -- 7.681985152885318e-06\n",
      "2022-09-21 16:12:33,614 - simulator - INFO - CMS: Timestep for rank 0/1 - 8.406471966998652,8.406473159790039 - 2020-05-25 15:00:00\n",
      "\n",
      "2022-09-21 16:12:33,616 - rank - INFO - Next timestep\n",
      "2022-09-21 16:12:33,617 - simulator - INFO - ==================== timestep ====================\n",
      "2022-09-21 16:12:34,337 - rank - INFO - Rank 0 -- move_people -- 0.7185199559899047\n",
      "2022-09-21 16:12:34,338 - rank - INFO - Rank 0 -- move_people_waiting -- 3.6279961932450533e-06\n",
      "2022-09-21 16:12:34,338 - activity_manager - INFO - CMS: People COMS for rank 0/1 - 2.4070031940937042e-06,2.1457672119140625e-06 - 2020-05-25 17:00:00\n",
      "2022-09-21 16:12:34,344 - simulator - INFO - Info for rank 0, Date = 2020-05-25 17:00:00, number of deaths =  0, number of infected = 334\n",
      "2022-09-21 16:12:34,494 - rank - INFO - Rank 0 -- interaction -- 0.15429053001571447\n",
      "2022-09-21 16:12:39,296 - tracker - INFO - Rank 0 -- tracking contacts -- 115 of 115 of type communal\n",
      "2022-09-21 16:12:39,300 - tracker - INFO - Rank 0 -- tracking contacts -- 21 of 21 of type distribution_center\n",
      "2022-09-21 16:12:39,325 - tracker - INFO - Rank 0 -- tracking contacts -- 7 of 7 of type e_voucher\n",
      "2022-09-21 16:12:39,335 - tracker - INFO - Rank 0 -- tracking contacts -- 67 of 67 of type female_communal\n",
      "2022-09-21 16:12:39,337 - tracker - INFO - Rank 0 -- tracking contacts -- 80 of 80 of type informal_work\n",
      "2022-09-21 16:12:39,448 - tracker - INFO - Rank 0 -- tracking contacts -- 41 of 41 of type n_f_distribution_center\n",
      "2022-09-21 16:12:39,489 - tracker - INFO - Rank 0 -- tracking contacts -- 500 of 541 of type play_group\n",
      "2022-09-21 16:12:39,824 - tracker - INFO - Rank 0 -- tracking contacts -- 81 of 81 of type pump_latrine\n",
      "2022-09-21 16:12:41,918 - tracker - INFO - Rank 0 -- tracking contacts -- 500 of 2065 of type religious\n",
      "2022-09-21 16:12:42,120 - tracker - INFO - Rank 0 -- tracking contacts -- 500 of 3263 of type shelter\n",
      "2022-09-21 16:12:42,578 - tracker - INFO - Rank 0 -- tracking contacts -- 8 of 8 of type hospital\n",
      "2022-09-21 16:12:42,579 - tracker - INFO - Rank 0 -- tracking contacts -- 8 of 8 of type isolation_unit\n",
      "2022-09-21 16:12:42,581 - tracker - INFO - Rank 0 -- tracking contacts -- 389 of 389 of type learning_center\n",
      "2022-09-21 16:12:42,590 - rank - INFO - Rank 0 -- tracker -- 8.095238289999543\n",
      "2022-09-21 16:12:42,597 - epidemiology - INFO - CMS: Infection COMS-v2 for rank 0/1(2)0.00032095200731419027,0.0003204345703125 - 2020-05-25 17:00:00\n",
      "2022-09-21 16:12:42,630 - rank - INFO - Rank 0 -- interaction_waiting -- 7.959984941408038e-06\n",
      "2022-09-21 16:12:42,646 - simulator - INFO - CMS: Timestep for rank 0/1 - 9.027541243005544,9.02754259109497 - 2020-05-25 17:00:00\n",
      "\n",
      "2022-09-21 16:12:42,648 - rank - INFO - Next timestep\n",
      "2022-09-21 16:12:42,649 - simulator - INFO - ==================== timestep ====================\n",
      "2022-09-21 16:12:42,816 - rank - INFO - Rank 0 -- move_people -- 0.1656894779880531\n",
      "2022-09-21 16:12:42,816 - rank - INFO - Rank 0 -- move_people_waiting -- 3.829016350209713e-06\n",
      "2022-09-21 16:12:42,817 - activity_manager - INFO - CMS: People COMS for rank 0/1 - 3.508990630507469e-06,3.0994415283203125e-06 - 2020-05-25 19:00:00\n",
      "2022-09-21 16:12:42,823 - simulator - INFO - Info for rank 0, Date = 2020-05-25 19:00:00, number of deaths =  0, number of infected = 343\n",
      "2022-09-21 16:12:42,905 - rank - INFO - Rank 0 -- interaction -- 0.08666599899879657\n",
      "2022-09-21 16:12:48,231 - tracker - INFO - Rank 0 -- tracking contacts -- 115 of 115 of type communal\n",
      "2022-09-21 16:12:48,234 - tracker - INFO - Rank 0 -- tracking contacts -- 21 of 21 of type distribution_center\n",
      "2022-09-21 16:12:48,235 - tracker - INFO - Rank 0 -- tracking contacts -- 7 of 7 of type e_voucher\n",
      "2022-09-21 16:12:48,237 - tracker - INFO - Rank 0 -- tracking contacts -- 67 of 67 of type female_communal\n",
      "2022-09-21 16:12:48,241 - tracker - INFO - Rank 0 -- tracking contacts -- 80 of 80 of type informal_work\n",
      "2022-09-21 16:12:48,243 - tracker - INFO - Rank 0 -- tracking contacts -- 41 of 41 of type n_f_distribution_center\n",
      "2022-09-21 16:12:48,246 - tracker - INFO - Rank 0 -- tracking contacts -- 500 of 541 of type play_group\n",
      "2022-09-21 16:12:48,258 - tracker - INFO - Rank 0 -- tracking contacts -- 81 of 81 of type pump_latrine\n",
      "2022-09-21 16:12:48,270 - tracker - INFO - Rank 0 -- tracking contacts -- 500 of 2065 of type religious\n",
      "2022-09-21 16:12:48,284 - tracker - INFO - Rank 0 -- tracking contacts -- 500 of 3263 of type shelter\n",
      "2022-09-21 16:12:49,505 - tracker - INFO - Rank 0 -- tracking contacts -- 8 of 8 of type hospital\n",
      "2022-09-21 16:12:49,507 - tracker - INFO - Rank 0 -- tracking contacts -- 8 of 8 of type isolation_unit\n",
      "2022-09-21 16:12:49,508 - tracker - INFO - Rank 0 -- tracking contacts -- 389 of 389 of type learning_center\n",
      "2022-09-21 16:12:49,519 - rank - INFO - Rank 0 -- tracker -- 6.613646456011338\n",
      "2022-09-21 16:12:49,539 - epidemiology - INFO - CMS: Infection COMS-v2 for rank 0/1(2)0.0007891370041761547,0.0007891654968261719 - 2020-05-25 19:00:00\n",
      "2022-09-21 16:12:49,575 - rank - INFO - Rank 0 -- interaction_waiting -- 7.67598976381123e-06\n",
      "2022-09-21 16:12:49,589 - simulator - INFO - CMS: Timestep for rank 0/1 - 6.938871657999698,6.938872575759888 - 2020-05-25 19:00:00\n",
      "\n",
      "2022-09-21 16:12:49,591 - rank - INFO - Next timestep\n",
      "2022-09-21 16:12:49,592 - simulator - INFO - ==================== timestep ====================\n",
      "2022-09-21 16:12:49,786 - rank - INFO - Rank 0 -- move_people -- 0.19280884400359355\n",
      "2022-09-21 16:12:49,787 - rank - INFO - Rank 0 -- move_people_waiting -- 7.81498965807259e-06\n",
      "2022-09-21 16:12:49,788 - activity_manager - INFO - CMS: People COMS for rank 0/1 - 4.344998160377145e-06,4.0531158447265625e-06 - 2020-05-26 09:00:00\n",
      "2022-09-21 16:12:49,794 - simulator - INFO - Info for rank 0, Date = 2020-05-26 09:00:00, number of deaths =  0, number of infected = 389\n",
      "2022-09-21 16:12:49,876 - rank - INFO - Rank 0 -- interaction -- 0.08684729301603511\n",
      "2022-09-21 16:12:55,687 - tracker - INFO - Rank 0 -- tracking contacts -- 115 of 115 of type communal\n",
      "2022-09-21 16:12:55,689 - tracker - INFO - Rank 0 -- tracking contacts -- 21 of 21 of type distribution_center\n",
      "2022-09-21 16:12:55,690 - tracker - INFO - Rank 0 -- tracking contacts -- 7 of 7 of type e_voucher\n",
      "2022-09-21 16:12:55,692 - tracker - INFO - Rank 0 -- tracking contacts -- 67 of 67 of type female_communal\n",
      "2022-09-21 16:12:55,695 - tracker - INFO - Rank 0 -- tracking contacts -- 80 of 80 of type informal_work\n",
      "2022-09-21 16:12:55,697 - tracker - INFO - Rank 0 -- tracking contacts -- 41 of 41 of type n_f_distribution_center\n",
      "2022-09-21 16:12:55,700 - tracker - INFO - Rank 0 -- tracking contacts -- 500 of 541 of type play_group\n",
      "2022-09-21 16:12:55,713 - tracker - INFO - Rank 0 -- tracking contacts -- 81 of 81 of type pump_latrine\n",
      "2022-09-21 16:12:55,725 - tracker - INFO - Rank 0 -- tracking contacts -- 500 of 2065 of type religious\n",
      "2022-09-21 16:12:55,739 - tracker - INFO - Rank 0 -- tracking contacts -- 500 of 3263 of type shelter\n",
      "2022-09-21 16:12:56,570 - tracker - INFO - Rank 0 -- tracking contacts -- 8 of 8 of type hospital\n",
      "2022-09-21 16:12:56,580 - tracker - INFO - Rank 0 -- tracking contacts -- 8 of 8 of type isolation_unit\n",
      "2022-09-21 16:12:56,582 - tracker - INFO - Rank 0 -- tracking contacts -- 389 of 389 of type learning_center\n",
      "2022-09-21 16:12:57,508 - rank - INFO - Rank 0 -- tracker -- 7.6318096890172455\n",
      "2022-09-21 16:12:57,514 - epidemiology - INFO - CMS: Infection COMS-v2 for rank 0/1(2)0.0005175689875613898,0.0005168914794921875 - 2020-05-26 09:00:00\n",
      "2022-09-21 16:12:57,550 - rank - INFO - Rank 0 -- interaction_waiting -- 6.709014996886253e-06\n"
     ]
    },
    {
     "name": "stdout",
     "output_type": "stream",
     "text": [
      "2022-09-21 16:12:57,564 - simulator - INFO - CMS: Timestep for rank 0/1 - 7.970717902004253,7.9707190990448 - 2020-05-26 09:00:00\n",
      "\n",
      "2022-09-21 16:12:57,566 - rank - INFO - Next timestep\n",
      "2022-09-21 16:12:57,567 - simulator - INFO - ==================== timestep ====================\n",
      "2022-09-21 16:12:58,413 - rank - INFO - Rank 0 -- move_people -- 0.8453986780077685\n",
      "2022-09-21 16:12:58,414 - rank - INFO - Rank 0 -- move_people_waiting -- 7.148977601900697e-06\n",
      "2022-09-21 16:12:58,414 - activity_manager - INFO - CMS: People COMS for rank 0/1 - 3.847002517431974e-06,3.5762786865234375e-06 - 2020-05-26 11:00:00\n",
      "2022-09-21 16:12:58,420 - simulator - INFO - Info for rank 0, Date = 2020-05-26 11:00:00, number of deaths =  0, number of infected = 400\n",
      "2022-09-21 16:12:58,578 - rank - INFO - Rank 0 -- interaction -- 0.16240392401232384\n",
      "2022-09-21 16:12:59,721 - tracker - INFO - Rank 0 -- tracking contacts -- 115 of 115 of type communal\n",
      "2022-09-21 16:12:59,753 - tracker - INFO - Rank 0 -- tracking contacts -- 21 of 21 of type distribution_center\n",
      "2022-09-21 16:12:59,797 - tracker - INFO - Rank 0 -- tracking contacts -- 7 of 7 of type e_voucher\n",
      "2022-09-21 16:12:59,809 - tracker - INFO - Rank 0 -- tracking contacts -- 67 of 67 of type female_communal\n",
      "2022-09-21 16:12:59,856 - tracker - INFO - Rank 0 -- tracking contacts -- 80 of 80 of type informal_work\n",
      "2022-09-21 16:12:59,934 - tracker - INFO - Rank 0 -- tracking contacts -- 41 of 41 of type n_f_distribution_center\n",
      "2022-09-21 16:12:59,985 - tracker - INFO - Rank 0 -- tracking contacts -- 500 of 541 of type play_group\n",
      "2022-09-21 16:13:00,272 - tracker - INFO - Rank 0 -- tracking contacts -- 81 of 81 of type pump_latrine\n",
      "2022-09-21 16:13:02,077 - tracker - INFO - Rank 0 -- tracking contacts -- 500 of 2065 of type religious\n",
      "2022-09-21 16:13:02,254 - tracker - INFO - Rank 0 -- tracking contacts -- 500 of 3263 of type shelter\n",
      "2022-09-21 16:13:02,680 - tracker - INFO - Rank 0 -- tracking contacts -- 8 of 8 of type hospital\n",
      "2022-09-21 16:13:02,692 - tracker - INFO - Rank 0 -- tracking contacts -- 8 of 8 of type isolation_unit\n",
      "2022-09-21 16:13:02,694 - tracker - INFO - Rank 0 -- tracking contacts -- 389 of 389 of type learning_center\n",
      "2022-09-21 16:13:03,559 - rank - INFO - Rank 0 -- tracker -- 4.980411355005344\n",
      "2022-09-21 16:13:03,570 - epidemiology - INFO - CMS: Infection COMS-v2 for rank 0/1(2)0.00022640798124484718,0.0002262592315673828 - 2020-05-26 11:00:00\n",
      "2022-09-21 16:13:03,603 - rank - INFO - Rank 0 -- interaction_waiting -- 7.697992259636521e-06\n",
      "2022-09-21 16:13:03,617 - simulator - INFO - CMS: Timestep for rank 0/1 - 6.049242655979469,6.049243211746216 - 2020-05-26 11:00:00\n",
      "\n",
      "2022-09-21 16:13:03,620 - rank - INFO - Next timestep\n",
      "2022-09-21 16:13:03,621 - simulator - INFO - ==================== timestep ====================\n",
      "2022-09-21 16:13:04,351 - rank - INFO - Rank 0 -- move_people -- 0.7289914560096804\n",
      "2022-09-21 16:13:04,351 - rank - INFO - Rank 0 -- move_people_waiting -- 6.7699875216931105e-06\n",
      "2022-09-21 16:13:04,352 - activity_manager - INFO - CMS: People COMS for rank 0/1 - 4.28801286034286e-06,4.0531158447265625e-06 - 2020-05-26 13:00:00\n",
      "2022-09-21 16:13:04,358 - simulator - INFO - Info for rank 0, Date = 2020-05-26 13:00:00, number of deaths =  0, number of infected = 423\n",
      "2022-09-21 16:13:04,508 - rank - INFO - Rank 0 -- interaction -- 0.15532076000818051\n",
      "2022-09-21 16:13:07,017 - tracker - INFO - Rank 0 -- tracking contacts -- 115 of 115 of type communal\n",
      "2022-09-21 16:13:07,037 - tracker - INFO - Rank 0 -- tracking contacts -- 21 of 21 of type distribution_center\n",
      "2022-09-21 16:13:07,062 - tracker - INFO - Rank 0 -- tracking contacts -- 7 of 7 of type e_voucher\n",
      "2022-09-21 16:13:07,076 - tracker - INFO - Rank 0 -- tracking contacts -- 67 of 67 of type female_communal\n",
      "2022-09-21 16:13:07,121 - tracker - INFO - Rank 0 -- tracking contacts -- 80 of 80 of type informal_work\n",
      "2022-09-21 16:13:07,205 - tracker - INFO - Rank 0 -- tracking contacts -- 41 of 41 of type n_f_distribution_center\n",
      "2022-09-21 16:13:07,249 - tracker - INFO - Rank 0 -- tracking contacts -- 500 of 541 of type play_group\n",
      "2022-09-21 16:13:07,501 - tracker - INFO - Rank 0 -- tracking contacts -- 81 of 81 of type pump_latrine\n",
      "2022-09-21 16:13:09,266 - tracker - INFO - Rank 0 -- tracking contacts -- 500 of 2065 of type religious\n",
      "2022-09-21 16:13:09,436 - tracker - INFO - Rank 0 -- tracking contacts -- 500 of 3263 of type shelter\n",
      "2022-09-21 16:13:09,827 - tracker - INFO - Rank 0 -- tracking contacts -- 8 of 8 of type hospital\n",
      "2022-09-21 16:13:09,839 - tracker - INFO - Rank 0 -- tracking contacts -- 8 of 8 of type isolation_unit\n",
      "2022-09-21 16:13:09,840 - tracker - INFO - Rank 0 -- tracking contacts -- 389 of 389 of type learning_center\n",
      "2022-09-21 16:13:10,751 - rank - INFO - Rank 0 -- tracker -- 6.241922371991677\n",
      "2022-09-21 16:13:10,762 - epidemiology - INFO - CMS: Infection COMS-v2 for rank 0/1(2)0.00028206498245708644,0.00028204917907714844 - 2020-05-26 13:00:00\n",
      "2022-09-21 16:13:10,795 - rank - INFO - Rank 0 -- interaction_waiting -- 7.018999895080924e-06\n",
      "2022-09-21 16:13:10,809 - simulator - INFO - CMS: Timestep for rank 0/1 - 7.18713531101821,7.18713641166687 - 2020-05-26 13:00:00\n",
      "\n",
      "2022-09-21 16:13:10,811 - rank - INFO - Next timestep\n",
      "2022-09-21 16:13:10,812 - simulator - INFO - ==================== timestep ====================\n",
      "2022-09-21 16:13:11,633 - rank - INFO - Rank 0 -- move_people -- 0.8198137330182362\n",
      "2022-09-21 16:13:11,634 - rank - INFO - Rank 0 -- move_people_waiting -- 9.388983016833663e-06\n",
      "2022-09-21 16:13:11,635 - activity_manager - INFO - CMS: People COMS for rank 0/1 - 3.7980207707732916e-06,3.5762786865234375e-06 - 2020-05-26 15:00:00\n",
      "2022-09-21 16:13:11,641 - simulator - INFO - Info for rank 0, Date = 2020-05-26 15:00:00, number of deaths =  0, number of infected = 445\n",
      "2022-09-21 16:13:11,804 - rank - INFO - Rank 0 -- interaction -- 0.16774009200162254\n",
      "2022-09-21 16:13:15,833 - tracker - INFO - Rank 0 -- tracking contacts -- 115 of 115 of type communal\n",
      "2022-09-21 16:13:15,864 - tracker - INFO - Rank 0 -- tracking contacts -- 21 of 21 of type distribution_center\n",
      "2022-09-21 16:13:15,894 - tracker - INFO - Rank 0 -- tracking contacts -- 7 of 7 of type e_voucher\n",
      "2022-09-21 16:13:15,909 - tracker - INFO - Rank 0 -- tracking contacts -- 67 of 67 of type female_communal\n",
      "2022-09-21 16:13:15,968 - tracker - INFO - Rank 0 -- tracking contacts -- 80 of 80 of type informal_work\n",
      "2022-09-21 16:13:16,051 - tracker - INFO - Rank 0 -- tracking contacts -- 41 of 41 of type n_f_distribution_center\n",
      "2022-09-21 16:13:16,091 - tracker - INFO - Rank 0 -- tracking contacts -- 500 of 541 of type play_group\n",
      "2022-09-21 16:13:16,378 - tracker - INFO - Rank 0 -- tracking contacts -- 81 of 81 of type pump_latrine\n",
      "2022-09-21 16:13:18,310 - tracker - INFO - Rank 0 -- tracking contacts -- 500 of 2065 of type religious\n",
      "2022-09-21 16:13:18,504 - tracker - INFO - Rank 0 -- tracking contacts -- 500 of 3263 of type shelter\n",
      "2022-09-21 16:13:18,911 - tracker - INFO - Rank 0 -- tracking contacts -- 8 of 8 of type hospital\n",
      "2022-09-21 16:13:18,923 - tracker - INFO - Rank 0 -- tracking contacts -- 8 of 8 of type isolation_unit\n",
      "2022-09-21 16:13:18,925 - tracker - INFO - Rank 0 -- tracking contacts -- 389 of 389 of type learning_center\n",
      "2022-09-21 16:13:19,871 - rank - INFO - Rank 0 -- tracker -- 8.066271598014282\n",
      "2022-09-21 16:13:19,891 - epidemiology - INFO - CMS: Infection COMS-v2 for rank 0/1(2)0.00047390800318680704,0.0004737377166748047 - 2020-05-26 15:00:00\n",
      "2022-09-21 16:13:19,929 - rank - INFO - Rank 0 -- interaction_waiting -- 7.800001185387373e-06\n",
      "2022-09-21 16:13:19,943 - simulator - INFO - CMS: Timestep for rank 0/1 - 9.130003644997487,9.130004405975342 - 2020-05-26 15:00:00\n",
      "\n",
      "2022-09-21 16:13:19,946 - rank - INFO - Next timestep\n",
      "2022-09-21 16:13:19,947 - simulator - INFO - ==================== timestep ====================\n",
      "2022-09-21 16:13:20,836 - rank - INFO - Rank 0 -- move_people -- 0.8884636530128773\n",
      "2022-09-21 16:13:20,838 - rank - INFO - Rank 0 -- move_people_waiting -- 3.588007530197501e-06\n",
      "2022-09-21 16:13:20,839 - activity_manager - INFO - CMS: People COMS for rank 0/1 - 4.118977813050151e-06,3.5762786865234375e-06 - 2020-05-26 17:00:00\n",
      "2022-09-21 16:13:20,847 - simulator - INFO - Info for rank 0, Date = 2020-05-26 17:00:00, number of deaths =  0, number of infected = 474\n"
     ]
    },
    {
     "name": "stdout",
     "output_type": "stream",
     "text": [
      "2022-09-21 16:13:21,026 - rank - INFO - Rank 0 -- interaction -- 0.1858133309870027\n",
      "2022-09-21 16:13:26,077 - tracker - INFO - Rank 0 -- tracking contacts -- 115 of 115 of type communal\n",
      "2022-09-21 16:13:26,079 - tracker - INFO - Rank 0 -- tracking contacts -- 21 of 21 of type distribution_center\n",
      "2022-09-21 16:13:26,102 - tracker - INFO - Rank 0 -- tracking contacts -- 7 of 7 of type e_voucher\n",
      "2022-09-21 16:13:26,114 - tracker - INFO - Rank 0 -- tracking contacts -- 67 of 67 of type female_communal\n",
      "2022-09-21 16:13:26,116 - tracker - INFO - Rank 0 -- tracking contacts -- 80 of 80 of type informal_work\n",
      "2022-09-21 16:13:26,203 - tracker - INFO - Rank 0 -- tracking contacts -- 41 of 41 of type n_f_distribution_center\n",
      "2022-09-21 16:13:26,245 - tracker - INFO - Rank 0 -- tracking contacts -- 500 of 541 of type play_group\n",
      "2022-09-21 16:13:26,577 - tracker - INFO - Rank 0 -- tracking contacts -- 81 of 81 of type pump_latrine\n",
      "2022-09-21 16:13:28,609 - tracker - INFO - Rank 0 -- tracking contacts -- 500 of 2065 of type religious\n",
      "2022-09-21 16:13:28,814 - tracker - INFO - Rank 0 -- tracking contacts -- 500 of 3263 of type shelter\n",
      "2022-09-21 16:13:29,281 - tracker - INFO - Rank 0 -- tracking contacts -- 8 of 8 of type hospital\n",
      "2022-09-21 16:13:29,283 - tracker - INFO - Rank 0 -- tracking contacts -- 8 of 8 of type isolation_unit\n",
      "2022-09-21 16:13:29,284 - tracker - INFO - Rank 0 -- tracking contacts -- 389 of 389 of type learning_center\n",
      "2022-09-21 16:13:29,294 - rank - INFO - Rank 0 -- tracker -- 8.266248901025392\n",
      "2022-09-21 16:13:29,302 - epidemiology - INFO - CMS: Infection COMS-v2 for rank 0/1(2)0.0003181959909852594,0.0003178119659423828 - 2020-05-26 17:00:00\n",
      "2022-09-21 16:13:29,338 - rank - INFO - Rank 0 -- interaction_waiting -- 7.606024155393243e-06\n",
      "2022-09-21 16:13:29,351 - simulator - INFO - CMS: Timestep for rank 0/1 - 9.402870796999196,9.40287160873413 - 2020-05-26 17:00:00\n",
      "\n",
      "2022-09-21 16:13:29,353 - rank - INFO - Next timestep\n",
      "2022-09-21 16:13:29,354 - simulator - INFO - ==================== timestep ====================\n",
      "2022-09-21 16:13:29,521 - rank - INFO - Rank 0 -- move_people -- 0.16594727998017333\n",
      "2022-09-21 16:13:29,522 - rank - INFO - Rank 0 -- move_people_waiting -- 6.889022188261151e-06\n",
      "2022-09-21 16:13:29,522 - activity_manager - INFO - CMS: People COMS for rank 0/1 - 3.6249984987080097e-06,3.5762786865234375e-06 - 2020-05-26 19:00:00\n",
      "2022-09-21 16:13:29,527 - simulator - INFO - Info for rank 0, Date = 2020-05-26 19:00:00, number of deaths =  0, number of infected = 491\n",
      "2022-09-21 16:13:29,622 - rank - INFO - Rank 0 -- interaction -- 0.09867006400600076\n",
      "2022-09-21 16:13:34,991 - tracker - INFO - Rank 0 -- tracking contacts -- 115 of 115 of type communal\n",
      "2022-09-21 16:13:34,994 - tracker - INFO - Rank 0 -- tracking contacts -- 21 of 21 of type distribution_center\n",
      "2022-09-21 16:13:34,995 - tracker - INFO - Rank 0 -- tracking contacts -- 7 of 7 of type e_voucher\n",
      "2022-09-21 16:13:34,997 - tracker - INFO - Rank 0 -- tracking contacts -- 67 of 67 of type female_communal\n",
      "2022-09-21 16:13:35,000 - tracker - INFO - Rank 0 -- tracking contacts -- 80 of 80 of type informal_work\n",
      "2022-09-21 16:13:35,003 - tracker - INFO - Rank 0 -- tracking contacts -- 41 of 41 of type n_f_distribution_center\n",
      "2022-09-21 16:13:35,006 - tracker - INFO - Rank 0 -- tracking contacts -- 500 of 541 of type play_group\n",
      "2022-09-21 16:13:35,016 - tracker - INFO - Rank 0 -- tracking contacts -- 81 of 81 of type pump_latrine\n",
      "2022-09-21 16:13:35,028 - tracker - INFO - Rank 0 -- tracking contacts -- 500 of 2065 of type religious\n",
      "2022-09-21 16:13:35,042 - tracker - INFO - Rank 0 -- tracking contacts -- 500 of 3263 of type shelter\n",
      "2022-09-21 16:13:36,158 - tracker - INFO - Rank 0 -- tracking contacts -- 8 of 8 of type hospital\n",
      "2022-09-21 16:13:36,159 - tracker - INFO - Rank 0 -- tracking contacts -- 8 of 8 of type isolation_unit\n",
      "2022-09-21 16:13:36,160 - tracker - INFO - Rank 0 -- tracking contacts -- 389 of 389 of type learning_center\n",
      "2022-09-21 16:13:36,170 - rank - INFO - Rank 0 -- tracker -- 6.54723509401083\n",
      "2022-09-21 16:13:36,213 - epidemiology - INFO - CMS: Infection COMS-v2 for rank 0/1(2)0.00032375400769524276,0.00032329559326171875 - 2020-05-26 19:00:00\n",
      "2022-09-21 16:13:36,255 - rank - INFO - Rank 0 -- interaction_waiting -- 7.139984518289566e-06\n",
      "2022-09-21 16:13:36,271 - simulator - INFO - CMS: Timestep for rank 0/1 - 6.916207507980289,6.916208982467651 - 2020-05-26 19:00:00\n",
      "\n",
      "2022-09-21 16:13:36,273 - rank - INFO - Next timestep\n",
      "2022-09-21 16:13:36,274 - simulator - INFO - ==================== timestep ====================\n",
      "2022-09-21 16:13:36,473 - rank - INFO - Rank 0 -- move_people -- 0.1981680520111695\n",
      "2022-09-21 16:13:36,474 - rank - INFO - Rank 0 -- move_people_waiting -- 7.605995051562786e-06\n",
      "2022-09-21 16:13:36,475 - activity_manager - INFO - CMS: People COMS for rank 0/1 - 4.736008122563362e-06,4.5299530029296875e-06 - 2020-05-27 09:00:00\n",
      "2022-09-21 16:13:36,481 - simulator - INFO - Info for rank 0, Date = 2020-05-27 09:00:00, number of deaths =  0, number of infected = 567\n",
      "2022-09-21 16:13:36,574 - rank - INFO - Rank 0 -- interaction -- 0.09788360999664292\n",
      "2022-09-21 16:13:42,348 - tracker - INFO - Rank 0 -- tracking contacts -- 115 of 115 of type communal\n",
      "2022-09-21 16:13:42,351 - tracker - INFO - Rank 0 -- tracking contacts -- 21 of 21 of type distribution_center\n",
      "2022-09-21 16:13:42,352 - tracker - INFO - Rank 0 -- tracking contacts -- 7 of 7 of type e_voucher\n",
      "2022-09-21 16:13:42,354 - tracker - INFO - Rank 0 -- tracking contacts -- 67 of 67 of type female_communal\n",
      "2022-09-21 16:13:42,357 - tracker - INFO - Rank 0 -- tracking contacts -- 80 of 80 of type informal_work\n",
      "2022-09-21 16:13:42,360 - tracker - INFO - Rank 0 -- tracking contacts -- 41 of 41 of type n_f_distribution_center\n",
      "2022-09-21 16:13:42,363 - tracker - INFO - Rank 0 -- tracking contacts -- 500 of 541 of type play_group\n",
      "2022-09-21 16:13:42,373 - tracker - INFO - Rank 0 -- tracking contacts -- 81 of 81 of type pump_latrine\n",
      "2022-09-21 16:13:42,385 - tracker - INFO - Rank 0 -- tracking contacts -- 500 of 2065 of type religious\n",
      "2022-09-21 16:13:42,401 - tracker - INFO - Rank 0 -- tracking contacts -- 500 of 3263 of type shelter\n",
      "2022-09-21 16:13:43,235 - tracker - INFO - Rank 0 -- tracking contacts -- 8 of 8 of type hospital\n",
      "2022-09-21 16:13:43,245 - tracker - INFO - Rank 0 -- tracking contacts -- 8 of 8 of type isolation_unit\n",
      "2022-09-21 16:13:43,247 - tracker - INFO - Rank 0 -- tracking contacts -- 389 of 389 of type learning_center\n",
      "2022-09-21 16:13:44,208 - rank - INFO - Rank 0 -- tracker -- 7.632404438016238\n",
      "2022-09-21 16:13:44,220 - epidemiology - INFO - CMS: Infection COMS-v2 for rank 0/1(2)0.0002996760013047606,0.00029921531677246094 - 2020-05-27 09:00:00\n",
      "2022-09-21 16:13:44,258 - rank - INFO - Rank 0 -- interaction_waiting -- 7.766997441649437e-06\n",
      "2022-09-21 16:13:44,274 - simulator - INFO - CMS: Timestep for rank 0/1 - 7.998443980002776,7.9984447956085205 - 2020-05-27 09:00:00\n",
      "\n",
      "2022-09-21 16:13:44,276 - rank - INFO - Next timestep\n",
      "2022-09-21 16:13:44,278 - simulator - INFO - ==================== timestep ====================\n",
      "2022-09-21 16:13:45,351 - rank - INFO - Rank 0 -- move_people -- 1.072897756996099\n",
      "2022-09-21 16:13:45,353 - rank - INFO - Rank 0 -- move_people_waiting -- 4.3879845179617405e-06\n",
      "2022-09-21 16:13:45,354 - activity_manager - INFO - CMS: People COMS for rank 0/1 - 3.836990799754858e-06,3.5762786865234375e-06 - 2020-05-27 11:00:00\n",
      "2022-09-21 16:13:45,361 - simulator - INFO - Info for rank 0, Date = 2020-05-27 11:00:00, number of deaths =  0, number of infected = 584\n",
      "2022-09-21 16:13:45,544 - rank - INFO - Rank 0 -- interaction -- 0.1894393330148887\n",
      "2022-09-21 16:13:46,671 - tracker - INFO - Rank 0 -- tracking contacts -- 115 of 115 of type communal\n",
      "2022-09-21 16:13:46,703 - tracker - INFO - Rank 0 -- tracking contacts -- 21 of 21 of type distribution_center\n",
      "2022-09-21 16:13:46,749 - tracker - INFO - Rank 0 -- tracking contacts -- 7 of 7 of type e_voucher\n",
      "2022-09-21 16:13:46,766 - tracker - INFO - Rank 0 -- tracking contacts -- 67 of 67 of type female_communal\n",
      "2022-09-21 16:13:46,812 - tracker - INFO - Rank 0 -- tracking contacts -- 80 of 80 of type informal_work\n",
      "2022-09-21 16:13:46,889 - tracker - INFO - Rank 0 -- tracking contacts -- 41 of 41 of type n_f_distribution_center\n"
     ]
    },
    {
     "name": "stdout",
     "output_type": "stream",
     "text": [
      "2022-09-21 16:13:46,935 - tracker - INFO - Rank 0 -- tracking contacts -- 500 of 541 of type play_group\n",
      "2022-09-21 16:13:47,194 - tracker - INFO - Rank 0 -- tracking contacts -- 81 of 81 of type pump_latrine\n",
      "2022-09-21 16:13:49,069 - tracker - INFO - Rank 0 -- tracking contacts -- 500 of 2065 of type religious\n",
      "2022-09-21 16:13:49,248 - tracker - INFO - Rank 0 -- tracking contacts -- 500 of 3263 of type shelter\n",
      "2022-09-21 16:13:49,644 - tracker - INFO - Rank 0 -- tracking contacts -- 8 of 8 of type hospital\n",
      "2022-09-21 16:13:49,655 - tracker - INFO - Rank 0 -- tracking contacts -- 8 of 8 of type isolation_unit\n",
      "2022-09-21 16:13:49,657 - tracker - INFO - Rank 0 -- tracking contacts -- 389 of 389 of type learning_center\n",
      "2022-09-21 16:13:50,510 - rank - INFO - Rank 0 -- tracker -- 4.964336233009817\n",
      "2022-09-21 16:13:50,522 - epidemiology - INFO - CMS: Infection COMS-v2 for rank 0/1(2)0.00021732499590143561,0.00021696090698242188 - 2020-05-27 11:00:00\n",
      "2022-09-21 16:13:50,564 - rank - INFO - Rank 0 -- interaction_waiting -- 6.87700230628252e-06\n",
      "2022-09-21 16:13:50,579 - simulator - INFO - CMS: Timestep for rank 0/1 - 6.300952185003553,6.300953388214111 - 2020-05-27 11:00:00\n",
      "\n",
      "2022-09-21 16:13:50,582 - rank - INFO - Next timestep\n",
      "2022-09-21 16:13:50,583 - simulator - INFO - ==================== timestep ====================\n",
      "2022-09-21 16:13:51,934 - rank - INFO - Rank 0 -- move_people -- 1.3507866550062317\n",
      "2022-09-21 16:13:51,935 - rank - INFO - Rank 0 -- move_people_waiting -- 8.396018529310822e-06\n",
      "2022-09-21 16:13:51,936 - activity_manager - INFO - CMS: People COMS for rank 0/1 - 4.620000254362822e-06,4.291534423828125e-06 - 2020-05-27 13:00:00\n",
      "2022-09-21 16:13:51,942 - simulator - INFO - Info for rank 0, Date = 2020-05-27 13:00:00, number of deaths =  0, number of infected = 614\n",
      "2022-09-21 16:13:52,108 - rank - INFO - Rank 0 -- interaction -- 0.17142152399173938\n",
      "2022-09-21 16:13:54,600 - tracker - INFO - Rank 0 -- tracking contacts -- 115 of 115 of type communal\n",
      "2022-09-21 16:13:54,623 - tracker - INFO - Rank 0 -- tracking contacts -- 21 of 21 of type distribution_center\n",
      "2022-09-21 16:13:54,645 - tracker - INFO - Rank 0 -- tracking contacts -- 7 of 7 of type e_voucher\n",
      "2022-09-21 16:13:54,656 - tracker - INFO - Rank 0 -- tracking contacts -- 67 of 67 of type female_communal\n",
      "2022-09-21 16:13:54,693 - tracker - INFO - Rank 0 -- tracking contacts -- 80 of 80 of type informal_work\n",
      "2022-09-21 16:13:54,770 - tracker - INFO - Rank 0 -- tracking contacts -- 41 of 41 of type n_f_distribution_center\n",
      "2022-09-21 16:13:54,816 - tracker - INFO - Rank 0 -- tracking contacts -- 500 of 541 of type play_group\n",
      "2022-09-21 16:13:55,083 - tracker - INFO - Rank 0 -- tracking contacts -- 81 of 81 of type pump_latrine\n",
      "2022-09-21 16:13:56,925 - tracker - INFO - Rank 0 -- tracking contacts -- 500 of 2065 of type religious\n",
      "2022-09-21 16:13:57,105 - tracker - INFO - Rank 0 -- tracking contacts -- 500 of 3263 of type shelter\n",
      "2022-09-21 16:13:57,540 - tracker - INFO - Rank 0 -- tracking contacts -- 8 of 8 of type hospital\n",
      "2022-09-21 16:13:57,550 - tracker - INFO - Rank 0 -- tracking contacts -- 8 of 8 of type isolation_unit\n",
      "2022-09-21 16:13:57,552 - tracker - INFO - Rank 0 -- tracking contacts -- 389 of 389 of type learning_center\n",
      "2022-09-21 16:13:58,470 - rank - INFO - Rank 0 -- tracker -- 6.361090858001262\n",
      "2022-09-21 16:13:58,484 - epidemiology - INFO - CMS: Infection COMS-v2 for rank 0/1(2)0.0020753559947479516,0.0020751953125 - 2020-05-27 13:00:00\n",
      "2022-09-21 16:13:58,525 - rank - INFO - Rank 0 -- interaction_waiting -- 7.313006790354848e-06\n",
      "2022-09-21 16:13:58,540 - simulator - INFO - CMS: Timestep for rank 0/1 - 7.956155054009287,7.956156015396118 - 2020-05-27 13:00:00\n",
      "\n",
      "2022-09-21 16:13:58,542 - rank - INFO - Next timestep\n",
      "2022-09-21 16:13:58,544 - simulator - INFO - ==================== timestep ====================\n",
      "2022-09-21 16:13:59,554 - rank - INFO - Rank 0 -- move_people -- 1.009521449013846\n",
      "2022-09-21 16:13:59,555 - rank - INFO - Rank 0 -- move_people_waiting -- 9.424984455108643e-06\n",
      "2022-09-21 16:13:59,556 - activity_manager - INFO - CMS: People COMS for rank 0/1 - 4.657980753108859e-06,4.0531158447265625e-06 - 2020-05-27 15:00:00\n",
      "2022-09-21 16:13:59,562 - simulator - INFO - Info for rank 0, Date = 2020-05-27 15:00:00, number of deaths =  0, number of infected = 641\n",
      "2022-09-21 16:13:59,733 - rank - INFO - Rank 0 -- interaction -- 0.17586879699956626\n",
      "2022-09-21 16:14:03,704 - tracker - INFO - Rank 0 -- tracking contacts -- 115 of 115 of type communal\n",
      "2022-09-21 16:14:03,727 - tracker - INFO - Rank 0 -- tracking contacts -- 21 of 21 of type distribution_center\n",
      "2022-09-21 16:14:03,749 - tracker - INFO - Rank 0 -- tracking contacts -- 7 of 7 of type e_voucher\n",
      "2022-09-21 16:14:03,762 - tracker - INFO - Rank 0 -- tracking contacts -- 67 of 67 of type female_communal\n",
      "2022-09-21 16:14:03,815 - tracker - INFO - Rank 0 -- tracking contacts -- 80 of 80 of type informal_work\n",
      "2022-09-21 16:14:03,893 - tracker - INFO - Rank 0 -- tracking contacts -- 41 of 41 of type n_f_distribution_center\n",
      "2022-09-21 16:14:03,982 - tracker - INFO - Rank 0 -- tracking contacts -- 500 of 541 of type play_group\n",
      "2022-09-21 16:14:04,263 - tracker - INFO - Rank 0 -- tracking contacts -- 81 of 81 of type pump_latrine\n",
      "2022-09-21 16:14:06,132 - tracker - INFO - Rank 0 -- tracking contacts -- 500 of 2065 of type religious\n",
      "2022-09-21 16:14:06,299 - tracker - INFO - Rank 0 -- tracking contacts -- 500 of 3263 of type shelter\n",
      "2022-09-21 16:14:06,730 - tracker - INFO - Rank 0 -- tracking contacts -- 8 of 8 of type hospital\n",
      "2022-09-21 16:14:06,742 - tracker - INFO - Rank 0 -- tracking contacts -- 8 of 8 of type isolation_unit\n",
      "2022-09-21 16:14:06,744 - tracker - INFO - Rank 0 -- tracking contacts -- 389 of 389 of type learning_center\n",
      "2022-09-21 16:14:07,647 - rank - INFO - Rank 0 -- tracker -- 7.913936547993217\n",
      "2022-09-21 16:14:07,666 - epidemiology - INFO - CMS: Infection COMS-v2 for rank 0/1(2)0.0003307959996163845,0.00033020973205566406 - 2020-05-27 15:00:00\n",
      "2022-09-21 16:14:07,709 - rank - INFO - Rank 0 -- interaction_waiting -- 7.781025487929583e-06\n",
      "2022-09-21 16:14:07,724 - simulator - INFO - CMS: Timestep for rank 0/1 - 9.179881663993001,9.179883003234863 - 2020-05-27 15:00:00\n",
      "\n",
      "2022-09-21 16:14:07,727 - rank - INFO - Next timestep\n",
      "2022-09-21 16:14:07,728 - simulator - INFO - ==================== timestep ====================\n",
      "2022-09-21 16:14:08,801 - rank - INFO - Rank 0 -- move_people -- 1.0719565610052086\n",
      "2022-09-21 16:14:08,801 - rank - INFO - Rank 0 -- move_people_waiting -- 6.382993888109922e-06\n",
      "2022-09-21 16:14:08,802 - activity_manager - INFO - CMS: People COMS for rank 0/1 - 3.4199911169707775e-06,3.337860107421875e-06 - 2020-05-27 17:00:00\n",
      "2022-09-21 16:14:08,808 - simulator - INFO - Info for rank 0, Date = 2020-05-27 17:00:00, number of deaths =  0, number of infected = 674\n",
      "2022-09-21 16:14:08,990 - rank - INFO - Rank 0 -- interaction -- 0.18713129899697378\n",
      "2022-09-21 16:14:13,811 - tracker - INFO - Rank 0 -- tracking contacts -- 115 of 115 of type communal\n",
      "2022-09-21 16:14:13,813 - tracker - INFO - Rank 0 -- tracking contacts -- 21 of 21 of type distribution_center\n",
      "2022-09-21 16:14:13,840 - tracker - INFO - Rank 0 -- tracking contacts -- 7 of 7 of type e_voucher\n",
      "2022-09-21 16:14:13,851 - tracker - INFO - Rank 0 -- tracking contacts -- 67 of 67 of type female_communal\n",
      "2022-09-21 16:14:13,853 - tracker - INFO - Rank 0 -- tracking contacts -- 80 of 80 of type informal_work\n",
      "2022-09-21 16:14:13,936 - tracker - INFO - Rank 0 -- tracking contacts -- 41 of 41 of type n_f_distribution_center\n",
      "2022-09-21 16:14:14,012 - tracker - INFO - Rank 0 -- tracking contacts -- 500 of 541 of type play_group\n",
      "2022-09-21 16:14:14,348 - tracker - INFO - Rank 0 -- tracking contacts -- 81 of 81 of type pump_latrine\n",
      "2022-09-21 16:14:16,402 - tracker - INFO - Rank 0 -- tracking contacts -- 500 of 2065 of type religious\n",
      "2022-09-21 16:14:16,609 - tracker - INFO - Rank 0 -- tracking contacts -- 500 of 3263 of type shelter\n",
      "2022-09-21 16:14:17,051 - tracker - INFO - Rank 0 -- tracking contacts -- 8 of 8 of type hospital\n",
      "2022-09-21 16:14:17,052 - tracker - INFO - Rank 0 -- tracking contacts -- 8 of 8 of type isolation_unit\n",
      "2022-09-21 16:14:17,055 - tracker - INFO - Rank 0 -- tracking contacts -- 389 of 389 of type learning_center\n"
     ]
    },
    {
     "name": "stdout",
     "output_type": "stream",
     "text": [
      "2022-09-21 16:14:17,064 - rank - INFO - Rank 0 -- tracker -- 8.07310623198282\n",
      "2022-09-21 16:14:17,081 - epidemiology - INFO - CMS: Infection COMS-v2 for rank 0/1(2)0.00038043002132326365,0.00037980079650878906 - 2020-05-27 17:00:00\n",
      "2022-09-21 16:14:17,120 - rank - INFO - Rank 0 -- interaction_waiting -- 7.344991900026798e-06\n",
      "2022-09-21 16:14:17,133 - simulator - INFO - CMS: Timestep for rank 0/1 - 9.404716263001319,9.404717206954956 - 2020-05-27 17:00:00\n",
      "\n",
      "2022-09-21 16:14:17,136 - rank - INFO - Next timestep\n",
      "2022-09-21 16:14:17,137 - simulator - INFO - ==================== timestep ====================\n",
      "2022-09-21 16:14:17,307 - rank - INFO - Rank 0 -- move_people -- 0.16979768697638065\n",
      "2022-09-21 16:14:17,308 - rank - INFO - Rank 0 -- move_people_waiting -- 9.137002052739263e-06\n",
      "2022-09-21 16:14:17,309 - activity_manager - INFO - CMS: People COMS for rank 0/1 - 3.7449935916811228e-06,3.5762786865234375e-06 - 2020-05-27 19:00:00\n",
      "2022-09-21 16:14:17,314 - simulator - INFO - Info for rank 0, Date = 2020-05-27 19:00:00, number of deaths =  0, number of infected = 702\n",
      "2022-09-21 16:14:17,448 - rank - INFO - Rank 0 -- interaction -- 0.13788333602133207\n",
      "2022-09-21 16:14:23,210 - tracker - INFO - Rank 0 -- tracking contacts -- 115 of 115 of type communal\n",
      "2022-09-21 16:14:23,214 - tracker - INFO - Rank 0 -- tracking contacts -- 21 of 21 of type distribution_center\n",
      "2022-09-21 16:14:23,215 - tracker - INFO - Rank 0 -- tracking contacts -- 7 of 7 of type e_voucher\n",
      "2022-09-21 16:14:23,217 - tracker - INFO - Rank 0 -- tracking contacts -- 67 of 67 of type female_communal\n",
      "2022-09-21 16:14:23,220 - tracker - INFO - Rank 0 -- tracking contacts -- 80 of 80 of type informal_work\n",
      "2022-09-21 16:14:23,223 - tracker - INFO - Rank 0 -- tracking contacts -- 41 of 41 of type n_f_distribution_center\n",
      "2022-09-21 16:14:23,226 - tracker - INFO - Rank 0 -- tracking contacts -- 500 of 541 of type play_group\n",
      "2022-09-21 16:14:23,235 - tracker - INFO - Rank 0 -- tracking contacts -- 81 of 81 of type pump_latrine\n",
      "2022-09-21 16:14:23,247 - tracker - INFO - Rank 0 -- tracking contacts -- 500 of 2065 of type religious\n",
      "2022-09-21 16:14:23,261 - tracker - INFO - Rank 0 -- tracking contacts -- 500 of 3263 of type shelter\n",
      "2022-09-21 16:14:24,394 - tracker - INFO - Rank 0 -- tracking contacts -- 8 of 8 of type hospital\n",
      "2022-09-21 16:14:24,395 - tracker - INFO - Rank 0 -- tracking contacts -- 8 of 8 of type isolation_unit\n",
      "2022-09-21 16:14:24,398 - tracker - INFO - Rank 0 -- tracking contacts -- 389 of 389 of type learning_center\n",
      "2022-09-21 16:14:24,416 - rank - INFO - Rank 0 -- tracker -- 6.9672858210105915\n",
      "2022-09-21 16:14:24,473 - epidemiology - INFO - CMS: Infection COMS-v2 for rank 0/1(2)0.00023245700867846608,0.0002319812774658203 - 2020-05-27 19:00:00\n",
      "2022-09-21 16:14:24,521 - rank - INFO - Rank 0 -- interaction_waiting -- 8.436007192358375e-06\n",
      "2022-09-21 16:14:24,536 - simulator - INFO - CMS: Timestep for rank 0/1 - 7.398892454977613,7.3988938331604 - 2020-05-27 19:00:00\n",
      "\n",
      "2022-09-21 16:14:24,539 - rank - INFO - Next timestep\n",
      "2022-09-21 16:14:24,540 - simulator - INFO - ==================== timestep ====================\n",
      "2022-09-21 16:14:24,794 - rank - INFO - Rank 0 -- move_people -- 0.2520190440118313\n",
      "2022-09-21 16:14:24,795 - rank - INFO - Rank 0 -- move_people_waiting -- 7.3029950726777315e-06\n",
      "2022-09-21 16:14:24,796 - activity_manager - INFO - CMS: People COMS for rank 0/1 - 3.89301567338407e-06,3.337860107421875e-06 - 2020-05-28 09:00:00\n",
      "2022-09-21 16:14:24,804 - simulator - INFO - Info for rank 0, Date = 2020-05-28 09:00:00, number of deaths =  0, number of infected = 840\n",
      "2022-09-21 16:14:24,913 - rank - INFO - Rank 0 -- interaction -- 0.1157840590167325\n",
      "2022-09-21 16:14:30,652 - tracker - INFO - Rank 0 -- tracking contacts -- 115 of 115 of type communal\n",
      "2022-09-21 16:14:30,654 - tracker - INFO - Rank 0 -- tracking contacts -- 21 of 21 of type distribution_center\n",
      "2022-09-21 16:14:30,656 - tracker - INFO - Rank 0 -- tracking contacts -- 7 of 7 of type e_voucher\n",
      "2022-09-21 16:14:30,658 - tracker - INFO - Rank 0 -- tracking contacts -- 67 of 67 of type female_communal\n",
      "2022-09-21 16:14:30,662 - tracker - INFO - Rank 0 -- tracking contacts -- 80 of 80 of type informal_work\n",
      "2022-09-21 16:14:30,665 - tracker - INFO - Rank 0 -- tracking contacts -- 41 of 41 of type n_f_distribution_center\n",
      "2022-09-21 16:14:30,669 - tracker - INFO - Rank 0 -- tracking contacts -- 500 of 541 of type play_group\n",
      "2022-09-21 16:14:30,679 - tracker - INFO - Rank 0 -- tracking contacts -- 81 of 81 of type pump_latrine\n",
      "2022-09-21 16:14:30,692 - tracker - INFO - Rank 0 -- tracking contacts -- 500 of 2065 of type religious\n",
      "2022-09-21 16:14:30,705 - tracker - INFO - Rank 0 -- tracking contacts -- 500 of 3263 of type shelter\n",
      "2022-09-21 16:14:31,534 - tracker - INFO - Rank 0 -- tracking contacts -- 8 of 8 of type hospital\n",
      "2022-09-21 16:14:31,545 - tracker - INFO - Rank 0 -- tracking contacts -- 8 of 8 of type isolation_unit\n",
      "2022-09-21 16:14:31,547 - tracker - INFO - Rank 0 -- tracking contacts -- 389 of 389 of type learning_center\n",
      "2022-09-21 16:14:32,477 - rank - INFO - Rank 0 -- tracker -- 7.56332945000031\n",
      "2022-09-21 16:14:32,489 - epidemiology - INFO - CMS: Infection COMS-v2 for rank 0/1(2)0.000722121971193701,0.0007219314575195312 - 2020-05-28 09:00:00\n",
      "2022-09-21 16:14:32,533 - rank - INFO - Rank 0 -- interaction_waiting -- 7.71298073232174e-06\n",
      "2022-09-21 16:14:32,547 - simulator - INFO - CMS: Timestep for rank 0/1 - 8.004627699992852,8.004628419876099 - 2020-05-28 09:00:00\n",
      "\n",
      "2022-09-21 16:14:32,549 - rank - INFO - Next timestep\n",
      "2022-09-21 16:14:32,550 - simulator - INFO - ==================== timestep ====================\n",
      "2022-09-21 16:14:33,264 - rank - INFO - Rank 0 -- move_people -- 0.7127423510246444\n",
      "2022-09-21 16:14:33,264 - rank - INFO - Rank 0 -- move_people_waiting -- 6.849993951618671e-06\n",
      "2022-09-21 16:14:33,265 - activity_manager - INFO - CMS: People COMS for rank 0/1 - 3.6199926398694515e-06,3.337860107421875e-06 - 2020-05-28 11:00:00\n",
      "2022-09-21 16:14:33,271 - simulator - INFO - Info for rank 0, Date = 2020-05-28 11:00:00, number of deaths =  0, number of infected = 865\n",
      "2022-09-21 16:14:33,451 - rank - INFO - Rank 0 -- interaction -- 0.18479004700202495\n",
      "2022-09-21 16:14:34,456 - tracker - INFO - Rank 0 -- tracking contacts -- 115 of 115 of type communal\n",
      "2022-09-21 16:14:34,478 - tracker - INFO - Rank 0 -- tracking contacts -- 21 of 21 of type distribution_center\n",
      "2022-09-21 16:14:34,514 - tracker - INFO - Rank 0 -- tracking contacts -- 7 of 7 of type e_voucher\n",
      "2022-09-21 16:14:34,526 - tracker - INFO - Rank 0 -- tracking contacts -- 67 of 67 of type female_communal\n",
      "2022-09-21 16:14:34,574 - tracker - INFO - Rank 0 -- tracking contacts -- 80 of 80 of type informal_work\n",
      "2022-09-21 16:14:34,657 - tracker - INFO - Rank 0 -- tracking contacts -- 41 of 41 of type n_f_distribution_center\n",
      "2022-09-21 16:14:34,734 - tracker - INFO - Rank 0 -- tracking contacts -- 500 of 541 of type play_group\n",
      "2022-09-21 16:14:35,003 - tracker - INFO - Rank 0 -- tracking contacts -- 81 of 81 of type pump_latrine\n",
      "2022-09-21 16:14:36,727 - tracker - INFO - Rank 0 -- tracking contacts -- 500 of 2065 of type religious\n",
      "2022-09-21 16:14:36,895 - tracker - INFO - Rank 0 -- tracking contacts -- 500 of 3263 of type shelter\n",
      "2022-09-21 16:14:37,307 - tracker - INFO - Rank 0 -- tracking contacts -- 8 of 8 of type hospital\n",
      "2022-09-21 16:14:37,319 - tracker - INFO - Rank 0 -- tracking contacts -- 8 of 8 of type isolation_unit\n",
      "2022-09-21 16:14:37,321 - tracker - INFO - Rank 0 -- tracking contacts -- 389 of 389 of type learning_center\n",
      "2022-09-21 16:14:38,187 - rank - INFO - Rank 0 -- tracker -- 4.73546921799425\n",
      "2022-09-21 16:14:38,204 - epidemiology - INFO - CMS: Infection COMS-v2 for rank 0/1(2)0.0003128509852103889,0.0003123283386230469 - 2020-05-28 11:00:00\n",
      "2022-09-21 16:14:38,257 - rank - INFO - Rank 0 -- interaction_waiting -- 7.485999958589673e-06\n",
      "2022-09-21 16:14:38,270 - simulator - INFO - CMS: Timestep for rank 0/1 - 5.719397692999337,5.719398736953735 - 2020-05-28 11:00:00\n",
      "\n",
      "2022-09-21 16:14:38,273 - rank - INFO - Next timestep\n",
      "2022-09-21 16:14:38,274 - simulator - INFO - ==================== timestep ====================\n",
      "2022-09-21 16:14:39,064 - rank - INFO - Rank 0 -- move_people -- 0.7884560480015352\n"
     ]
    },
    {
     "name": "stdout",
     "output_type": "stream",
     "text": [
      "2022-09-21 16:14:39,065 - rank - INFO - Rank 0 -- move_people_waiting -- 7.175025530159473e-06\n",
      "2022-09-21 16:14:39,065 - activity_manager - INFO - CMS: People COMS for rank 0/1 - 3.2260140869766474e-06,2.6226043701171875e-06 - 2020-05-28 13:00:00\n",
      "2022-09-21 16:14:39,073 - simulator - INFO - Info for rank 0, Date = 2020-05-28 13:00:00, number of deaths =  0, number of infected = 904\n",
      "2022-09-21 16:14:39,254 - rank - INFO - Rank 0 -- interaction -- 0.1883467430016026\n",
      "2022-09-21 16:14:41,951 - tracker - INFO - Rank 0 -- tracking contacts -- 115 of 115 of type communal\n",
      "2022-09-21 16:14:41,978 - tracker - INFO - Rank 0 -- tracking contacts -- 21 of 21 of type distribution_center\n",
      "2022-09-21 16:14:42,016 - tracker - INFO - Rank 0 -- tracking contacts -- 7 of 7 of type e_voucher\n",
      "2022-09-21 16:14:42,036 - tracker - INFO - Rank 0 -- tracking contacts -- 67 of 67 of type female_communal\n",
      "2022-09-21 16:14:42,087 - tracker - INFO - Rank 0 -- tracking contacts -- 80 of 80 of type informal_work\n",
      "2022-09-21 16:14:42,173 - tracker - INFO - Rank 0 -- tracking contacts -- 41 of 41 of type n_f_distribution_center\n",
      "2022-09-21 16:14:42,221 - tracker - INFO - Rank 0 -- tracking contacts -- 500 of 541 of type play_group\n",
      "2022-09-21 16:14:42,514 - tracker - INFO - Rank 0 -- tracking contacts -- 81 of 81 of type pump_latrine\n",
      "2022-09-21 16:14:44,335 - tracker - INFO - Rank 0 -- tracking contacts -- 500 of 2065 of type religious\n",
      "2022-09-21 16:14:44,519 - tracker - INFO - Rank 0 -- tracking contacts -- 500 of 3263 of type shelter\n",
      "2022-09-21 16:14:44,930 - tracker - INFO - Rank 0 -- tracking contacts -- 8 of 8 of type hospital\n",
      "2022-09-21 16:14:44,940 - tracker - INFO - Rank 0 -- tracking contacts -- 8 of 8 of type isolation_unit\n",
      "2022-09-21 16:14:44,941 - tracker - INFO - Rank 0 -- tracking contacts -- 389 of 389 of type learning_center\n",
      "2022-09-21 16:14:45,837 - rank - INFO - Rank 0 -- tracker -- 6.581995899003232\n",
      "2022-09-21 16:14:45,862 - epidemiology - INFO - CMS: Infection COMS-v2 for rank 0/1(2)0.0002925420121755451,0.00029206275939941406 - 2020-05-28 13:00:00\n",
      "2022-09-21 16:14:45,903 - rank - INFO - Rank 0 -- interaction_waiting -- 7.3529954534024e-06\n",
      "2022-09-21 16:14:45,916 - simulator - INFO - CMS: Timestep for rank 0/1 - 7.641138200997375,7.641139030456543 - 2020-05-28 13:00:00\n",
      "\n",
      "2022-09-21 16:14:45,919 - rank - INFO - Next timestep\n",
      "2022-09-21 16:14:45,920 - simulator - INFO - ==================== timestep ====================\n",
      "2022-09-21 16:14:47,003 - rank - INFO - Rank 0 -- move_people -- 1.0816967989958357\n",
      "2022-09-21 16:14:47,004 - rank - INFO - Rank 0 -- move_people_waiting -- 6.960995960980654e-06\n",
      "2022-09-21 16:14:47,005 - activity_manager - INFO - CMS: People COMS for rank 0/1 - 3.927998477593064e-06,3.5762786865234375e-06 - 2020-05-28 15:00:00\n",
      "2022-09-21 16:14:47,011 - simulator - INFO - Info for rank 0, Date = 2020-05-28 15:00:00, number of deaths =  0, number of infected = 944\n",
      "2022-09-21 16:14:47,217 - rank - INFO - Rank 0 -- interaction -- 0.21069777201046236\n",
      "2022-09-21 16:14:51,237 - tracker - INFO - Rank 0 -- tracking contacts -- 115 of 115 of type communal\n",
      "2022-09-21 16:14:51,256 - tracker - INFO - Rank 0 -- tracking contacts -- 21 of 21 of type distribution_center\n",
      "2022-09-21 16:14:51,279 - tracker - INFO - Rank 0 -- tracking contacts -- 7 of 7 of type e_voucher\n",
      "2022-09-21 16:14:51,289 - tracker - INFO - Rank 0 -- tracking contacts -- 67 of 67 of type female_communal\n",
      "2022-09-21 16:14:51,337 - tracker - INFO - Rank 0 -- tracking contacts -- 80 of 80 of type informal_work\n",
      "2022-09-21 16:14:51,417 - tracker - INFO - Rank 0 -- tracking contacts -- 41 of 41 of type n_f_distribution_center\n",
      "2022-09-21 16:14:51,465 - tracker - INFO - Rank 0 -- tracking contacts -- 500 of 541 of type play_group\n",
      "2022-09-21 16:14:51,746 - tracker - INFO - Rank 0 -- tracking contacts -- 81 of 81 of type pump_latrine\n",
      "2022-09-21 16:14:53,659 - tracker - INFO - Rank 0 -- tracking contacts -- 500 of 2065 of type religious\n",
      "2022-09-21 16:14:53,832 - tracker - INFO - Rank 0 -- tracking contacts -- 500 of 3263 of type shelter\n",
      "2022-09-21 16:14:54,258 - tracker - INFO - Rank 0 -- tracking contacts -- 8 of 8 of type hospital\n",
      "2022-09-21 16:14:54,271 - tracker - INFO - Rank 0 -- tracking contacts -- 8 of 8 of type isolation_unit\n",
      "2022-09-21 16:14:54,274 - tracker - INFO - Rank 0 -- tracking contacts -- 389 of 389 of type learning_center\n",
      "2022-09-21 16:14:55,137 - rank - INFO - Rank 0 -- tracker -- 7.919319278007606\n",
      "2022-09-21 16:14:55,155 - epidemiology - INFO - CMS: Infection COMS-v2 for rank 0/1(2)0.0004987719876226038,0.0004982948303222656 - 2020-05-28 15:00:00\n",
      "2022-09-21 16:14:55,193 - rank - INFO - Rank 0 -- interaction_waiting -- 7.266993634402752e-06\n",
      "2022-09-21 16:14:55,206 - simulator - INFO - CMS: Timestep for rank 0/1 - 9.284970428008819,9.284970998764038 - 2020-05-28 15:00:00\n",
      "\n",
      "2022-09-21 16:14:55,208 - rank - INFO - Next timestep\n",
      "2022-09-21 16:14:55,209 - simulator - INFO - ==================== timestep ====================\n",
      "2022-09-21 16:14:56,401 - rank - INFO - Rank 0 -- move_people -- 1.1907282839820255\n",
      "2022-09-21 16:14:56,402 - rank - INFO - Rank 0 -- move_people_waiting -- 7.231021299958229e-06\n",
      "2022-09-21 16:14:56,402 - activity_manager - INFO - CMS: People COMS for rank 0/1 - 3.423017915338278e-06,3.337860107421875e-06 - 2020-05-28 17:00:00\n",
      "2022-09-21 16:14:56,407 - simulator - INFO - Info for rank 0, Date = 2020-05-28 17:00:00, number of deaths =  0, number of infected = 987\n",
      "2022-09-21 16:14:56,610 - rank - INFO - Rank 0 -- interaction -- 0.2070704819925595\n",
      "2022-09-21 16:15:01,000 - tracker - INFO - Rank 0 -- tracking contacts -- 115 of 115 of type communal\n",
      "2022-09-21 16:15:01,002 - tracker - INFO - Rank 0 -- tracking contacts -- 21 of 21 of type distribution_center\n",
      "2022-09-21 16:15:01,042 - tracker - INFO - Rank 0 -- tracking contacts -- 7 of 7 of type e_voucher\n",
      "2022-09-21 16:15:01,054 - tracker - INFO - Rank 0 -- tracking contacts -- 67 of 67 of type female_communal\n",
      "2022-09-21 16:15:01,056 - tracker - INFO - Rank 0 -- tracking contacts -- 80 of 80 of type informal_work\n",
      "2022-09-21 16:15:01,140 - tracker - INFO - Rank 0 -- tracking contacts -- 41 of 41 of type n_f_distribution_center\n",
      "2022-09-21 16:15:01,212 - tracker - INFO - Rank 0 -- tracking contacts -- 500 of 541 of type play_group\n",
      "2022-09-21 16:15:01,535 - tracker - INFO - Rank 0 -- tracking contacts -- 81 of 81 of type pump_latrine\n",
      "2022-09-21 16:15:03,683 - tracker - INFO - Rank 0 -- tracking contacts -- 500 of 2065 of type religious\n",
      "2022-09-21 16:15:03,918 - tracker - INFO - Rank 0 -- tracking contacts -- 500 of 3263 of type shelter\n",
      "2022-09-21 16:15:04,412 - tracker - INFO - Rank 0 -- tracking contacts -- 8 of 8 of type hospital\n",
      "2022-09-21 16:15:04,413 - tracker - INFO - Rank 0 -- tracking contacts -- 8 of 8 of type isolation_unit\n",
      "2022-09-21 16:15:04,415 - tracker - INFO - Rank 0 -- tracking contacts -- 389 of 389 of type learning_center\n",
      "2022-09-21 16:15:04,425 - rank - INFO - Rank 0 -- tracker -- 7.813670124014607\n",
      "2022-09-21 16:15:04,449 - epidemiology - INFO - CMS: Infection COMS-v2 for rank 0/1(2)0.0004666640015784651,0.0004661083221435547 - 2020-05-28 17:00:00\n",
      "2022-09-21 16:15:04,504 - rank - INFO - Rank 0 -- interaction_waiting -- 7.400987669825554e-06\n",
      "2022-09-21 16:15:04,518 - simulator - INFO - CMS: Timestep for rank 0/1 - 9.307550580997486,9.307551145553589 - 2020-05-28 17:00:00\n",
      "\n",
      "2022-09-21 16:15:04,520 - rank - INFO - Next timestep\n",
      "2022-09-21 16:15:04,522 - simulator - INFO - ==================== timestep ====================\n",
      "2022-09-21 16:15:04,704 - rank - INFO - Rank 0 -- move_people -- 0.18175303799216636\n",
      "2022-09-21 16:15:04,705 - rank - INFO - Rank 0 -- move_people_waiting -- 6.5159983932971954e-06\n",
      "2022-09-21 16:15:04,706 - activity_manager - INFO - CMS: People COMS for rank 0/1 - 3.870984073728323e-06,4.0531158447265625e-06 - 2020-05-28 19:00:00\n",
      "2022-09-21 16:15:04,714 - simulator - INFO - Info for rank 0, Date = 2020-05-28 19:00:00, number of deaths =  0, number of infected = 1023\n",
      "2022-09-21 16:15:04,846 - rank - INFO - Rank 0 -- interaction -- 0.13861296899267472\n",
      "2022-09-21 16:15:10,522 - tracker - INFO - Rank 0 -- tracking contacts -- 115 of 115 of type communal\n",
      "2022-09-21 16:15:10,526 - tracker - INFO - Rank 0 -- tracking contacts -- 21 of 21 of type distribution_center\n"
     ]
    },
    {
     "name": "stdout",
     "output_type": "stream",
     "text": [
      "2022-09-21 16:15:10,527 - tracker - INFO - Rank 0 -- tracking contacts -- 7 of 7 of type e_voucher\n",
      "2022-09-21 16:15:10,529 - tracker - INFO - Rank 0 -- tracking contacts -- 67 of 67 of type female_communal\n",
      "2022-09-21 16:15:10,531 - tracker - INFO - Rank 0 -- tracking contacts -- 80 of 80 of type informal_work\n",
      "2022-09-21 16:15:10,534 - tracker - INFO - Rank 0 -- tracking contacts -- 41 of 41 of type n_f_distribution_center\n",
      "2022-09-21 16:15:10,537 - tracker - INFO - Rank 0 -- tracking contacts -- 500 of 541 of type play_group\n",
      "2022-09-21 16:15:10,547 - tracker - INFO - Rank 0 -- tracking contacts -- 81 of 81 of type pump_latrine\n",
      "2022-09-21 16:15:10,558 - tracker - INFO - Rank 0 -- tracking contacts -- 500 of 2065 of type religious\n",
      "2022-09-21 16:15:10,572 - tracker - INFO - Rank 0 -- tracking contacts -- 500 of 3263 of type shelter\n",
      "2022-09-21 16:15:11,671 - tracker - INFO - Rank 0 -- tracking contacts -- 8 of 8 of type hospital\n",
      "2022-09-21 16:15:11,673 - tracker - INFO - Rank 0 -- tracking contacts -- 8 of 8 of type isolation_unit\n",
      "2022-09-21 16:15:11,675 - tracker - INFO - Rank 0 -- tracking contacts -- 389 of 389 of type learning_center\n",
      "2022-09-21 16:15:11,685 - rank - INFO - Rank 0 -- tracker -- 6.838159695995273\n",
      "2022-09-21 16:15:11,758 - epidemiology - INFO - CMS: Infection COMS-v2 for rank 0/1(2)0.0004340230079833418,0.0004336833953857422 - 2020-05-28 19:00:00\n",
      "2022-09-21 16:15:11,802 - rank - INFO - Rank 0 -- interaction_waiting -- 9.217998012900352e-06\n",
      "2022-09-21 16:15:11,816 - simulator - INFO - CMS: Timestep for rank 0/1 - 7.293705618008971,7.29370641708374 - 2020-05-28 19:00:00\n",
      "\n",
      "2022-09-21 16:15:11,819 - rank - INFO - Next timestep\n",
      "2022-09-21 16:15:11,820 - simulator - INFO - ==================== timestep ====================\n",
      "2022-09-21 16:15:12,005 - rank - INFO - Rank 0 -- move_people -- 0.18350094798370264\n",
      "2022-09-21 16:15:12,006 - rank - INFO - Rank 0 -- move_people_waiting -- 5.163019523024559e-06\n",
      "2022-09-21 16:15:12,007 - activity_manager - INFO - CMS: People COMS for rank 0/1 - 4.628003807738423e-06,4.291534423828125e-06 - 2020-05-29 09:00:00\n",
      "2022-09-21 16:15:12,015 - simulator - INFO - Info for rank 0, Date = 2020-05-29 09:00:00, number of deaths =  0, number of infected = 1166\n",
      "2022-09-21 16:15:12,126 - rank - INFO - Rank 0 -- interaction -- 0.11843043201952241\n",
      "2022-09-21 16:15:17,423 - tracker - INFO - Rank 0 -- tracking contacts -- 115 of 115 of type communal\n",
      "2022-09-21 16:15:17,425 - tracker - INFO - Rank 0 -- tracking contacts -- 21 of 21 of type distribution_center\n",
      "2022-09-21 16:15:17,426 - tracker - INFO - Rank 0 -- tracking contacts -- 7 of 7 of type e_voucher\n",
      "2022-09-21 16:15:17,427 - tracker - INFO - Rank 0 -- tracking contacts -- 67 of 67 of type female_communal\n",
      "2022-09-21 16:15:17,429 - tracker - INFO - Rank 0 -- tracking contacts -- 80 of 80 of type informal_work\n",
      "2022-09-21 16:15:17,433 - tracker - INFO - Rank 0 -- tracking contacts -- 41 of 41 of type n_f_distribution_center\n",
      "2022-09-21 16:15:17,437 - tracker - INFO - Rank 0 -- tracking contacts -- 500 of 541 of type play_group\n",
      "2022-09-21 16:15:17,447 - tracker - INFO - Rank 0 -- tracking contacts -- 81 of 81 of type pump_latrine\n",
      "2022-09-21 16:15:17,457 - tracker - INFO - Rank 0 -- tracking contacts -- 500 of 2065 of type religious\n",
      "2022-09-21 16:15:17,472 - tracker - INFO - Rank 0 -- tracking contacts -- 500 of 3263 of type shelter\n",
      "2022-09-21 16:15:18,186 - tracker - INFO - Rank 0 -- tracking contacts -- 8 of 8 of type hospital\n",
      "2022-09-21 16:15:18,187 - tracker - INFO - Rank 0 -- tracking contacts -- 8 of 8 of type isolation_unit\n",
      "2022-09-21 16:15:18,188 - tracker - INFO - Rank 0 -- tracking contacts -- 389 of 389 of type learning_center\n",
      "2022-09-21 16:15:18,199 - rank - INFO - Rank 0 -- tracker -- 6.071849778993055\n",
      "2022-09-21 16:15:18,213 - epidemiology - INFO - CMS: Infection COMS-v2 for rank 0/1(2)0.00026030599838122725,0.0002598762512207031 - 2020-05-29 09:00:00\n",
      "2022-09-21 16:15:18,248 - rank - INFO - Rank 0 -- interaction_waiting -- 5.464011337608099e-06\n",
      "2022-09-21 16:15:18,258 - simulator - INFO - CMS: Timestep for rank 0/1 - 6.4371215870196465,6.437122106552124 - 2020-05-29 09:00:00\n",
      "\n",
      "2022-09-21 16:15:18,260 - rank - INFO - Next timestep\n",
      "2022-09-21 16:15:18,261 - simulator - INFO - ==================== timestep ====================\n",
      "2022-09-21 16:15:19,078 - rank - INFO - Rank 0 -- move_people -- 0.8164886989980005\n",
      "2022-09-21 16:15:19,080 - rank - INFO - Rank 0 -- move_people_waiting -- 3.788009053096175e-06\n",
      "2022-09-21 16:15:19,081 - activity_manager - INFO - CMS: People COMS for rank 0/1 - 3.822991857305169e-06,3.5762786865234375e-06 - 2020-05-29 12:00:00\n",
      "2022-09-21 16:15:19,089 - simulator - INFO - Info for rank 0, Date = 2020-05-29 12:00:00, number of deaths =  0, number of infected = 1198\n",
      "2022-09-21 16:15:19,299 - rank - INFO - Rank 0 -- interaction -- 0.2176152330066543\n",
      "2022-09-21 16:15:19,772 - tracker - INFO - Rank 0 -- tracking contacts -- 115 of 115 of type communal\n",
      "2022-09-21 16:15:19,775 - tracker - INFO - Rank 0 -- tracking contacts -- 21 of 21 of type distribution_center\n",
      "2022-09-21 16:15:19,809 - tracker - INFO - Rank 0 -- tracking contacts -- 7 of 7 of type e_voucher\n",
      "2022-09-21 16:15:19,817 - tracker - INFO - Rank 0 -- tracking contacts -- 67 of 67 of type female_communal\n",
      "2022-09-21 16:15:19,820 - tracker - INFO - Rank 0 -- tracking contacts -- 80 of 80 of type informal_work\n",
      "2022-09-21 16:15:19,912 - tracker - INFO - Rank 0 -- tracking contacts -- 41 of 41 of type n_f_distribution_center\n",
      "2022-09-21 16:15:19,960 - tracker - INFO - Rank 0 -- tracking contacts -- 500 of 541 of type play_group\n",
      "2022-09-21 16:15:20,293 - tracker - INFO - Rank 0 -- tracking contacts -- 81 of 81 of type pump_latrine\n",
      "2022-09-21 16:15:22,167 - tracker - INFO - Rank 0 -- tracking contacts -- 500 of 2065 of type religious\n",
      "2022-09-21 16:15:22,365 - tracker - INFO - Rank 0 -- tracking contacts -- 500 of 3263 of type shelter\n",
      "2022-09-21 16:15:22,829 - tracker - INFO - Rank 0 -- tracking contacts -- 8 of 8 of type hospital\n",
      "2022-09-21 16:15:22,830 - tracker - INFO - Rank 0 -- tracking contacts -- 8 of 8 of type isolation_unit\n",
      "2022-09-21 16:15:22,832 - tracker - INFO - Rank 0 -- tracking contacts -- 389 of 389 of type learning_center\n",
      "2022-09-21 16:15:22,843 - rank - INFO - Rank 0 -- tracker -- 3.5427886830002535\n",
      "2022-09-21 16:15:22,868 - epidemiology - INFO - CMS: Infection COMS-v2 for rank 0/1(2)0.00021639899932779372,0.00021576881408691406 - 2020-05-29 12:00:00\n",
      "2022-09-21 16:15:22,914 - rank - INFO - Rank 0 -- interaction_waiting -- 8.239003363996744e-06\n",
      "2022-09-21 16:15:22,928 - simulator - INFO - CMS: Timestep for rank 0/1 - 4.666380912007298,4.666381597518921 - 2020-05-29 12:00:00\n",
      "\n",
      "2022-09-21 16:15:22,931 - rank - INFO - Next timestep\n",
      "2022-09-21 16:15:22,932 - simulator - INFO - ==================== timestep ====================\n",
      "2022-09-21 16:15:23,808 - rank - INFO - Rank 0 -- move_people -- 0.8758541410206817\n",
      "2022-09-21 16:15:23,809 - rank - INFO - Rank 0 -- move_people_waiting -- 6.729009328410029e-06\n",
      "2022-09-21 16:15:23,810 - activity_manager - INFO - CMS: People COMS for rank 0/1 - 4.024012014269829e-06,3.5762786865234375e-06 - 2020-05-29 14:00:00\n",
      "2022-09-21 16:15:23,817 - simulator - INFO - Info for rank 0, Date = 2020-05-29 14:00:00, number of deaths =  0, number of infected = 1241\n",
      "2022-09-21 16:15:24,024 - rank - INFO - Rank 0 -- interaction -- 0.21327494000433944\n",
      "2022-09-21 16:15:25,917 - tracker - INFO - Rank 0 -- tracking contacts -- 115 of 115 of type communal\n",
      "2022-09-21 16:15:25,920 - tracker - INFO - Rank 0 -- tracking contacts -- 21 of 21 of type distribution_center\n",
      "2022-09-21 16:15:25,963 - tracker - INFO - Rank 0 -- tracking contacts -- 7 of 7 of type e_voucher\n",
      "2022-09-21 16:15:25,981 - tracker - INFO - Rank 0 -- tracking contacts -- 67 of 67 of type female_communal\n",
      "2022-09-21 16:15:25,984 - tracker - INFO - Rank 0 -- tracking contacts -- 80 of 80 of type informal_work\n",
      "2022-09-21 16:15:26,076 - tracker - INFO - Rank 0 -- tracking contacts -- 41 of 41 of type n_f_distribution_center\n",
      "2022-09-21 16:15:26,130 - tracker - INFO - Rank 0 -- tracking contacts -- 500 of 541 of type play_group\n",
      "2022-09-21 16:15:26,471 - tracker - INFO - Rank 0 -- tracking contacts -- 81 of 81 of type pump_latrine\n"
     ]
    },
    {
     "name": "stdout",
     "output_type": "stream",
     "text": [
      "2022-09-21 16:15:28,677 - tracker - INFO - Rank 0 -- tracking contacts -- 500 of 2065 of type religious\n",
      "2022-09-21 16:15:28,887 - tracker - INFO - Rank 0 -- tracking contacts -- 500 of 3263 of type shelter\n",
      "2022-09-21 16:15:29,383 - tracker - INFO - Rank 0 -- tracking contacts -- 8 of 8 of type hospital\n",
      "2022-09-21 16:15:29,384 - tracker - INFO - Rank 0 -- tracking contacts -- 8 of 8 of type isolation_unit\n",
      "2022-09-21 16:15:29,387 - tracker - INFO - Rank 0 -- tracking contacts -- 389 of 389 of type learning_center\n",
      "2022-09-21 16:15:29,395 - rank - INFO - Rank 0 -- tracker -- 5.369675103982445\n",
      "2022-09-21 16:15:29,432 - epidemiology - INFO - CMS: Infection COMS-v2 for rank 0/1(2)0.00021364298299886286,0.00021314620971679688 - 2020-05-29 14:00:00\n",
      "2022-09-21 16:15:29,473 - rank - INFO - Rank 0 -- interaction_waiting -- 7.217982783913612e-06\n",
      "2022-09-21 16:15:29,487 - simulator - INFO - CMS: Timestep for rank 0/1 - 6.5544396080076694,6.554440975189209 - 2020-05-29 14:00:00\n",
      "\n",
      "2022-09-21 16:15:29,490 - rank - INFO - Next timestep\n",
      "2022-09-21 16:15:29,491 - simulator - INFO - ==================== timestep ====================\n",
      "2022-09-21 16:15:30,504 - rank - INFO - Rank 0 -- move_people -- 1.0122876670211554\n",
      "2022-09-21 16:15:30,506 - rank - INFO - Rank 0 -- move_people_waiting -- 4.75099659524858e-06\n",
      "2022-09-21 16:15:30,506 - activity_manager - INFO - CMS: People COMS for rank 0/1 - 3.939989255741239e-06,3.5762786865234375e-06 - 2020-05-29 16:00:00\n",
      "2022-09-21 16:15:30,512 - simulator - INFO - Info for rank 0, Date = 2020-05-29 16:00:00, number of deaths =  0, number of infected = 1292\n",
      "2022-09-21 16:15:30,711 - rank - INFO - Rank 0 -- interaction -- 0.2034988319792319\n",
      "2022-09-21 16:15:33,647 - tracker - INFO - Rank 0 -- tracking contacts -- 115 of 115 of type communal\n",
      "2022-09-21 16:15:33,649 - tracker - INFO - Rank 0 -- tracking contacts -- 21 of 21 of type distribution_center\n",
      "2022-09-21 16:15:33,685 - tracker - INFO - Rank 0 -- tracking contacts -- 7 of 7 of type e_voucher\n",
      "2022-09-21 16:15:33,696 - tracker - INFO - Rank 0 -- tracking contacts -- 67 of 67 of type female_communal\n",
      "2022-09-21 16:15:33,698 - tracker - INFO - Rank 0 -- tracking contacts -- 80 of 80 of type informal_work\n",
      "2022-09-21 16:15:33,786 - tracker - INFO - Rank 0 -- tracking contacts -- 41 of 41 of type n_f_distribution_center\n",
      "2022-09-21 16:15:33,881 - tracker - INFO - Rank 0 -- tracking contacts -- 500 of 541 of type play_group\n",
      "2022-09-21 16:15:34,197 - tracker - INFO - Rank 0 -- tracking contacts -- 81 of 81 of type pump_latrine\n",
      "2022-09-21 16:15:36,433 - tracker - INFO - Rank 0 -- tracking contacts -- 500 of 2065 of type religious\n",
      "2022-09-21 16:15:36,681 - tracker - INFO - Rank 0 -- tracking contacts -- 500 of 3263 of type shelter\n",
      "2022-09-21 16:15:37,169 - tracker - INFO - Rank 0 -- tracking contacts -- 8 of 8 of type hospital\n",
      "2022-09-21 16:15:37,170 - tracker - INFO - Rank 0 -- tracking contacts -- 8 of 8 of type isolation_unit\n",
      "2022-09-21 16:15:37,172 - tracker - INFO - Rank 0 -- tracking contacts -- 389 of 389 of type learning_center\n",
      "2022-09-21 16:15:37,180 - rank - INFO - Rank 0 -- tracker -- 6.468937608005945\n",
      "2022-09-21 16:15:37,201 - epidemiology - INFO - CMS: Infection COMS-v2 for rank 0/1(2)0.00028528302209451795,0.0002849102020263672 - 2020-05-29 16:00:00\n",
      "2022-09-21 16:15:37,244 - rank - INFO - Rank 0 -- interaction_waiting -- 6.752990884706378e-06\n",
      "2022-09-21 16:15:37,258 - simulator - INFO - CMS: Timestep for rank 0/1 - 7.765395724010887,7.765396356582642 - 2020-05-29 16:00:00\n",
      "\n",
      "2022-09-21 16:15:37,260 - rank - INFO - Next timestep\n",
      "2022-09-21 16:15:37,261 - simulator - INFO - ==================== timestep ====================\n",
      "2022-09-21 16:15:38,148 - rank - INFO - Rank 0 -- move_people -- 0.8858478369947989\n",
      "2022-09-21 16:15:38,149 - rank - INFO - Rank 0 -- move_people_waiting -- 8.104980224743485e-06\n",
      "2022-09-21 16:15:38,149 - activity_manager - INFO - CMS: People COMS for rank 0/1 - 3.6689743865281343e-06,3.5762786865234375e-06 - 2020-05-29 18:00:00\n",
      "2022-09-21 16:15:38,157 - simulator - INFO - Info for rank 0, Date = 2020-05-29 18:00:00, number of deaths =  0, number of infected = 1342\n",
      "2022-09-21 16:15:38,344 - rank - INFO - Rank 0 -- interaction -- 0.1934956289769616\n",
      "2022-09-21 16:15:41,423 - tracker - INFO - Rank 0 -- tracking contacts -- 115 of 115 of type communal\n",
      "2022-09-21 16:15:41,425 - tracker - INFO - Rank 0 -- tracking contacts -- 21 of 21 of type distribution_center\n",
      "2022-09-21 16:15:41,458 - tracker - INFO - Rank 0 -- tracking contacts -- 7 of 7 of type e_voucher\n",
      "2022-09-21 16:15:41,471 - tracker - INFO - Rank 0 -- tracking contacts -- 67 of 67 of type female_communal\n",
      "2022-09-21 16:15:41,473 - tracker - INFO - Rank 0 -- tracking contacts -- 80 of 80 of type informal_work\n",
      "2022-09-21 16:15:41,564 - tracker - INFO - Rank 0 -- tracking contacts -- 41 of 41 of type n_f_distribution_center\n",
      "2022-09-21 16:15:41,610 - tracker - INFO - Rank 0 -- tracking contacts -- 500 of 541 of type play_group\n",
      "2022-09-21 16:15:41,931 - tracker - INFO - Rank 0 -- tracking contacts -- 81 of 81 of type pump_latrine\n",
      "2022-09-21 16:15:43,824 - tracker - INFO - Rank 0 -- tracking contacts -- 500 of 2065 of type religious\n",
      "2022-09-21 16:15:44,013 - tracker - INFO - Rank 0 -- tracking contacts -- 500 of 3263 of type shelter\n",
      "2022-09-21 16:15:44,492 - tracker - INFO - Rank 0 -- tracking contacts -- 8 of 8 of type hospital\n",
      "2022-09-21 16:15:44,493 - tracker - INFO - Rank 0 -- tracking contacts -- 8 of 8 of type isolation_unit\n",
      "2022-09-21 16:15:44,495 - tracker - INFO - Rank 0 -- tracking contacts -- 389 of 389 of type learning_center\n",
      "2022-09-21 16:15:44,502 - rank - INFO - Rank 0 -- tracker -- 6.157222481997451\n",
      "2022-09-21 16:15:44,525 - epidemiology - INFO - CMS: Infection COMS-v2 for rank 0/1(2)0.00031427701469510794,0.00031375885009765625 - 2020-05-29 18:00:00\n",
      "2022-09-21 16:15:44,567 - rank - INFO - Rank 0 -- interaction_waiting -- 6.365007720887661e-06\n",
      "2022-09-21 16:15:44,580 - simulator - INFO - CMS: Timestep for rank 0/1 - 7.317885006021243,7.317886114120483 - 2020-05-29 18:00:00\n",
      "\n",
      "2022-09-21 16:15:44,583 - rank - INFO - Next timestep\n",
      "2022-09-21 16:15:44,583 - simulator - INFO - ==================== timestep ====================\n",
      "2022-09-21 16:15:44,753 - rank - INFO - Rank 0 -- move_people -- 0.16920925700105727\n",
      "2022-09-21 16:15:44,754 - rank - INFO - Rank 0 -- move_people_waiting -- 7.266004104167223e-06\n",
      "2022-09-21 16:15:44,755 - activity_manager - INFO - CMS: People COMS for rank 0/1 - 3.5609991755336523e-06,3.337860107421875e-06 - 2020-05-29 20:00:00\n",
      "2022-09-21 16:15:44,760 - simulator - INFO - Info for rank 0, Date = 2020-05-29 20:00:00, number of deaths =  0, number of infected = 1397\n",
      "2022-09-21 16:15:44,887 - rank - INFO - Rank 0 -- interaction -- 0.13151235700934194\n",
      "2022-09-21 16:15:48,075 - tracker - INFO - Rank 0 -- tracking contacts -- 115 of 115 of type communal\n",
      "2022-09-21 16:15:48,077 - tracker - INFO - Rank 0 -- tracking contacts -- 21 of 21 of type distribution_center\n",
      "2022-09-21 16:15:48,078 - tracker - INFO - Rank 0 -- tracking contacts -- 7 of 7 of type e_voucher\n",
      "2022-09-21 16:15:48,078 - tracker - INFO - Rank 0 -- tracking contacts -- 67 of 67 of type female_communal\n",
      "2022-09-21 16:15:48,080 - tracker - INFO - Rank 0 -- tracking contacts -- 80 of 80 of type informal_work\n",
      "2022-09-21 16:15:48,082 - tracker - INFO - Rank 0 -- tracking contacts -- 41 of 41 of type n_f_distribution_center\n",
      "2022-09-21 16:15:48,083 - tracker - INFO - Rank 0 -- tracking contacts -- 500 of 541 of type play_group\n",
      "2022-09-21 16:15:48,090 - tracker - INFO - Rank 0 -- tracking contacts -- 81 of 81 of type pump_latrine\n",
      "2022-09-21 16:15:48,098 - tracker - INFO - Rank 0 -- tracking contacts -- 500 of 2065 of type religious\n",
      "2022-09-21 16:15:48,107 - tracker - INFO - Rank 0 -- tracking contacts -- 500 of 3263 of type shelter\n",
      "2022-09-21 16:15:48,914 - tracker - INFO - Rank 0 -- tracking contacts -- 8 of 8 of type hospital\n",
      "2022-09-21 16:15:48,914 - tracker - INFO - Rank 0 -- tracking contacts -- 8 of 8 of type isolation_unit\n",
      "2022-09-21 16:15:48,916 - tracker - INFO - Rank 0 -- tracking contacts -- 389 of 389 of type learning_center\n",
      "2022-09-21 16:15:48,921 - rank - INFO - Rank 0 -- tracker -- 4.033137958991574\n",
      "2022-09-21 16:15:48,980 - epidemiology - INFO - CMS: Infection COMS-v2 for rank 0/1(2)0.00026585900923237205,0.0002658367156982422 - 2020-05-29 20:00:00\n"
     ]
    },
    {
     "name": "stdout",
     "output_type": "stream",
     "text": [
      "2022-09-21 16:15:49,019 - rank - INFO - Rank 0 -- interaction_waiting -- 7.872993592172861e-06\n",
      "2022-09-21 16:15:49,032 - simulator - INFO - CMS: Timestep for rank 0/1 - 4.4481045180000365,4.448105812072754 - 2020-05-29 20:00:00\n",
      "\n",
      "2022-09-21 16:15:49,035 - rank - INFO - Next timestep\n",
      "2022-09-21 16:15:49,036 - simulator - INFO - ==================== timestep ====================\n",
      "2022-09-21 16:15:49,201 - rank - INFO - Rank 0 -- move_people -- 0.1649610319873318\n",
      "2022-09-21 16:15:49,202 - rank - INFO - Rank 0 -- move_people_waiting -- 3.3200194593518972e-06\n",
      "2022-09-21 16:15:49,203 - activity_manager - INFO - CMS: People COMS for rank 0/1 - 3.555993316695094e-06,3.337860107421875e-06 - 2020-05-30 09:00:00\n",
      "2022-09-21 16:15:49,209 - simulator - INFO - Info for rank 0, Date = 2020-05-30 09:00:00, number of deaths =  0, number of infected = 1564\n",
      "2022-09-21 16:15:49,323 - rank - INFO - Rank 0 -- interaction -- 0.11964084097417071\n",
      "2022-09-21 16:15:52,828 - tracker - INFO - Rank 0 -- tracking contacts -- 115 of 115 of type communal\n",
      "2022-09-21 16:15:52,831 - tracker - INFO - Rank 0 -- tracking contacts -- 21 of 21 of type distribution_center\n",
      "2022-09-21 16:15:52,832 - tracker - INFO - Rank 0 -- tracking contacts -- 7 of 7 of type e_voucher\n",
      "2022-09-21 16:15:52,833 - tracker - INFO - Rank 0 -- tracking contacts -- 67 of 67 of type female_communal\n",
      "2022-09-21 16:15:52,835 - tracker - INFO - Rank 0 -- tracking contacts -- 80 of 80 of type informal_work\n",
      "2022-09-21 16:15:52,839 - tracker - INFO - Rank 0 -- tracking contacts -- 41 of 41 of type n_f_distribution_center\n",
      "2022-09-21 16:15:52,843 - tracker - INFO - Rank 0 -- tracking contacts -- 500 of 541 of type play_group\n",
      "2022-09-21 16:15:52,855 - tracker - INFO - Rank 0 -- tracking contacts -- 81 of 81 of type pump_latrine\n",
      "2022-09-21 16:15:52,866 - tracker - INFO - Rank 0 -- tracking contacts -- 500 of 2065 of type religious\n",
      "2022-09-21 16:15:52,884 - tracker - INFO - Rank 0 -- tracking contacts -- 500 of 3263 of type shelter\n",
      "2022-09-21 16:15:53,747 - tracker - INFO - Rank 0 -- tracking contacts -- 8 of 8 of type hospital\n",
      "2022-09-21 16:15:53,749 - tracker - INFO - Rank 0 -- tracking contacts -- 8 of 8 of type isolation_unit\n",
      "2022-09-21 16:15:53,750 - tracker - INFO - Rank 0 -- tracking contacts -- 389 of 389 of type learning_center\n",
      "2022-09-21 16:15:53,756 - rank - INFO - Rank 0 -- tracker -- 4.432032921002246\n",
      "2022-09-21 16:15:53,778 - epidemiology - INFO - CMS: Infection COMS-v2 for rank 0/1(2)0.00028599699726328254,0.000286102294921875 - 2020-05-30 09:00:00\n",
      "2022-09-21 16:15:53,822 - rank - INFO - Rank 0 -- interaction_waiting -- 7.132010068744421e-06\n",
      "2022-09-21 16:15:53,835 - simulator - INFO - CMS: Timestep for rank 0/1 - 4.79843247399549,4.798433303833008 - 2020-05-30 09:00:00\n",
      "\n",
      "2022-09-21 16:15:53,837 - rank - INFO - Next timestep\n",
      "2022-09-21 16:15:53,838 - simulator - INFO - ==================== timestep ====================\n",
      "2022-09-21 16:15:54,729 - rank - INFO - Rank 0 -- move_people -- 0.8897922930191271\n",
      "2022-09-21 16:15:54,730 - rank - INFO - Rank 0 -- move_people_waiting -- 8.544011507183313e-06\n",
      "2022-09-21 16:15:54,730 - activity_manager - INFO - CMS: People COMS for rank 0/1 - 3.5600096452981234e-06,3.337860107421875e-06 - 2020-05-30 12:00:00\n",
      "2022-09-21 16:15:54,736 - simulator - INFO - Info for rank 0, Date = 2020-05-30 12:00:00, number of deaths =  0, number of infected = 1605\n",
      "2022-09-21 16:15:54,943 - rank - INFO - Rank 0 -- interaction -- 0.21210898901335895\n",
      "2022-09-21 16:15:55,420 - tracker - INFO - Rank 0 -- tracking contacts -- 115 of 115 of type communal\n",
      "2022-09-21 16:15:55,422 - tracker - INFO - Rank 0 -- tracking contacts -- 21 of 21 of type distribution_center\n",
      "2022-09-21 16:15:55,451 - tracker - INFO - Rank 0 -- tracking contacts -- 7 of 7 of type e_voucher\n",
      "2022-09-21 16:15:55,464 - tracker - INFO - Rank 0 -- tracking contacts -- 67 of 67 of type female_communal\n",
      "2022-09-21 16:15:55,467 - tracker - INFO - Rank 0 -- tracking contacts -- 80 of 80 of type informal_work\n",
      "2022-09-21 16:15:55,549 - tracker - INFO - Rank 0 -- tracking contacts -- 41 of 41 of type n_f_distribution_center\n",
      "2022-09-21 16:15:55,595 - tracker - INFO - Rank 0 -- tracking contacts -- 500 of 541 of type play_group\n",
      "2022-09-21 16:15:55,901 - tracker - INFO - Rank 0 -- tracking contacts -- 81 of 81 of type pump_latrine\n",
      "2022-09-21 16:15:57,708 - tracker - INFO - Rank 0 -- tracking contacts -- 500 of 2065 of type religious\n",
      "2022-09-21 16:15:57,911 - tracker - INFO - Rank 0 -- tracking contacts -- 500 of 3263 of type shelter\n",
      "2022-09-21 16:15:58,426 - tracker - INFO - Rank 0 -- tracking contacts -- 8 of 8 of type hospital\n",
      "2022-09-21 16:15:58,429 - tracker - INFO - Rank 0 -- tracking contacts -- 8 of 8 of type isolation_unit\n",
      "2022-09-21 16:15:58,431 - tracker - INFO - Rank 0 -- tracking contacts -- 389 of 389 of type learning_center\n",
      "2022-09-21 16:15:58,438 - rank - INFO - Rank 0 -- tracker -- 3.4935003689897712\n",
      "2022-09-21 16:15:58,481 - epidemiology - INFO - CMS: Infection COMS-v2 for rank 0/1(2)0.0004185680008959025,0.0004184246063232422 - 2020-05-30 12:00:00\n",
      "2022-09-21 16:15:58,584 - rank - INFO - Rank 0 -- interaction_waiting -- 8.461007382720709e-06\n",
      "2022-09-21 16:15:58,598 - simulator - INFO - CMS: Timestep for rank 0/1 - 4.759329143998912,4.7593300342559814 - 2020-05-30 12:00:00\n",
      "\n",
      "2022-09-21 16:15:58,601 - rank - INFO - Next timestep\n",
      "2022-09-21 16:15:58,602 - simulator - INFO - ==================== timestep ====================\n",
      "2022-09-21 16:15:59,555 - rank - INFO - Rank 0 -- move_people -- 0.9527877249929588\n",
      "2022-09-21 16:15:59,556 - rank - INFO - Rank 0 -- move_people_waiting -- 9.681010851636529e-06\n",
      "2022-09-21 16:15:59,557 - activity_manager - INFO - CMS: People COMS for rank 0/1 - 4.029017873108387e-06,3.5762786865234375e-06 - 2020-05-30 14:00:00\n",
      "2022-09-21 16:15:59,563 - simulator - INFO - Info for rank 0, Date = 2020-05-30 14:00:00, number of deaths =  0, number of infected = 1667\n",
      "2022-09-21 16:15:59,788 - rank - INFO - Rank 0 -- interaction -- 0.23000064099323936\n",
      "2022-09-21 16:16:01,715 - tracker - INFO - Rank 0 -- tracking contacts -- 115 of 115 of type communal\n",
      "2022-09-21 16:16:01,718 - tracker - INFO - Rank 0 -- tracking contacts -- 21 of 21 of type distribution_center\n",
      "2022-09-21 16:16:01,754 - tracker - INFO - Rank 0 -- tracking contacts -- 7 of 7 of type e_voucher\n",
      "2022-09-21 16:16:01,770 - tracker - INFO - Rank 0 -- tracking contacts -- 67 of 67 of type female_communal\n",
      "2022-09-21 16:16:01,772 - tracker - INFO - Rank 0 -- tracking contacts -- 80 of 80 of type informal_work\n",
      "2022-09-21 16:16:01,870 - tracker - INFO - Rank 0 -- tracking contacts -- 41 of 41 of type n_f_distribution_center\n",
      "2022-09-21 16:16:01,925 - tracker - INFO - Rank 0 -- tracking contacts -- 500 of 541 of type play_group\n",
      "2022-09-21 16:16:02,234 - tracker - INFO - Rank 0 -- tracking contacts -- 81 of 81 of type pump_latrine\n",
      "2022-09-21 16:16:04,189 - tracker - INFO - Rank 0 -- tracking contacts -- 500 of 2065 of type religious\n",
      "2022-09-21 16:16:04,382 - tracker - INFO - Rank 0 -- tracking contacts -- 500 of 3263 of type shelter\n",
      "2022-09-21 16:16:04,872 - tracker - INFO - Rank 0 -- tracking contacts -- 8 of 8 of type hospital\n",
      "2022-09-21 16:16:04,875 - tracker - INFO - Rank 0 -- tracking contacts -- 8 of 8 of type isolation_unit\n",
      "2022-09-21 16:16:04,876 - tracker - INFO - Rank 0 -- tracking contacts -- 389 of 389 of type learning_center\n",
      "2022-09-21 16:16:04,882 - rank - INFO - Rank 0 -- tracker -- 5.092999469983624\n",
      "2022-09-21 16:16:04,913 - epidemiology - INFO - CMS: Infection COMS-v2 for rank 0/1(2)0.0009096199937630445,0.0009093284606933594 - 2020-05-30 14:00:00\n",
      "2022-09-21 16:16:04,967 - rank - INFO - Rank 0 -- interaction_waiting -- 7.910013664513826e-06\n",
      "2022-09-21 16:16:04,982 - simulator - INFO - CMS: Timestep for rank 0/1 - 6.379700124001829,6.379701137542725 - 2020-05-30 14:00:00\n",
      "\n",
      "2022-09-21 16:16:04,984 - rank - INFO - Next timestep\n",
      "2022-09-21 16:16:04,986 - simulator - INFO - ==================== timestep ====================\n",
      "2022-09-21 16:16:05,964 - rank - INFO - Rank 0 -- move_people -- 0.9774945610261057\n",
      "2022-09-21 16:16:05,965 - rank - INFO - Rank 0 -- move_people_waiting -- 7.557013304904103e-06\n",
      "2022-09-21 16:16:05,965 - activity_manager - INFO - CMS: People COMS for rank 0/1 - 3.776018274948001e-06,3.5762786865234375e-06 - 2020-05-30 16:00:00\n"
     ]
    },
    {
     "name": "stdout",
     "output_type": "stream",
     "text": [
      "2022-09-21 16:16:05,973 - simulator - INFO - Info for rank 0, Date = 2020-05-30 16:00:00, number of deaths =  0, number of infected = 1729\n",
      "2022-09-21 16:16:06,197 - rank - INFO - Rank 0 -- interaction -- 0.23048809499596246\n",
      "2022-09-21 16:16:08,823 - tracker - INFO - Rank 0 -- tracking contacts -- 115 of 115 of type communal\n",
      "2022-09-21 16:16:08,825 - tracker - INFO - Rank 0 -- tracking contacts -- 21 of 21 of type distribution_center\n",
      "2022-09-21 16:16:08,852 - tracker - INFO - Rank 0 -- tracking contacts -- 7 of 7 of type e_voucher\n",
      "2022-09-21 16:16:08,867 - tracker - INFO - Rank 0 -- tracking contacts -- 67 of 67 of type female_communal\n",
      "2022-09-21 16:16:08,868 - tracker - INFO - Rank 0 -- tracking contacts -- 80 of 80 of type informal_work\n",
      "2022-09-21 16:16:08,954 - tracker - INFO - Rank 0 -- tracking contacts -- 41 of 41 of type n_f_distribution_center\n",
      "2022-09-21 16:16:09,012 - tracker - INFO - Rank 0 -- tracking contacts -- 500 of 541 of type play_group\n",
      "2022-09-21 16:16:09,330 - tracker - INFO - Rank 0 -- tracking contacts -- 81 of 81 of type pump_latrine\n",
      "2022-09-21 16:16:11,451 - tracker - INFO - Rank 0 -- tracking contacts -- 500 of 2065 of type religious\n",
      "2022-09-21 16:16:11,668 - tracker - INFO - Rank 0 -- tracking contacts -- 500 of 3263 of type shelter\n",
      "2022-09-21 16:16:12,168 - tracker - INFO - Rank 0 -- tracking contacts -- 8 of 8 of type hospital\n",
      "2022-09-21 16:16:12,170 - tracker - INFO - Rank 0 -- tracking contacts -- 8 of 8 of type isolation_unit\n",
      "2022-09-21 16:16:12,171 - tracker - INFO - Rank 0 -- tracking contacts -- 389 of 389 of type learning_center\n",
      "2022-09-21 16:16:12,178 - rank - INFO - Rank 0 -- tracker -- 5.980382638023002\n",
      "2022-09-21 16:16:12,210 - epidemiology - INFO - CMS: Infection COMS-v2 for rank 0/1(2)0.00042463699355721474,0.00042366981506347656 - 2020-05-30 16:00:00\n",
      "2022-09-21 16:16:12,259 - rank - INFO - Rank 0 -- interaction_waiting -- 8.942995918914676e-06\n",
      "2022-09-21 16:16:12,273 - simulator - INFO - CMS: Timestep for rank 0/1 - 7.286348485999042,7.286349773406982 - 2020-05-30 16:00:00\n",
      "\n",
      "2022-09-21 16:16:12,276 - rank - INFO - Next timestep\n",
      "2022-09-21 16:16:12,277 - simulator - INFO - ==================== timestep ====================\n",
      "2022-09-21 16:16:13,376 - rank - INFO - Rank 0 -- move_people -- 1.0984653799969237\n",
      "2022-09-21 16:16:13,377 - rank - INFO - Rank 0 -- move_people_waiting -- 1.0068994015455246e-05\n",
      "2022-09-21 16:16:13,378 - activity_manager - INFO - CMS: People COMS for rank 0/1 - 3.897992428392172e-06,3.337860107421875e-06 - 2020-05-30 18:00:00\n",
      "2022-09-21 16:16:13,386 - simulator - INFO - Info for rank 0, Date = 2020-05-30 18:00:00, number of deaths =  0, number of infected = 1775\n",
      "2022-09-21 16:16:13,604 - rank - INFO - Rank 0 -- interaction -- 0.22508312400896102\n",
      "2022-09-21 16:16:17,192 - tracker - INFO - Rank 0 -- tracking contacts -- 115 of 115 of type communal\n",
      "2022-09-21 16:16:17,194 - tracker - INFO - Rank 0 -- tracking contacts -- 21 of 21 of type distribution_center\n",
      "2022-09-21 16:16:17,228 - tracker - INFO - Rank 0 -- tracking contacts -- 7 of 7 of type e_voucher\n",
      "2022-09-21 16:16:17,240 - tracker - INFO - Rank 0 -- tracking contacts -- 67 of 67 of type female_communal\n",
      "2022-09-21 16:16:17,242 - tracker - INFO - Rank 0 -- tracking contacts -- 80 of 80 of type informal_work\n",
      "2022-09-21 16:16:17,337 - tracker - INFO - Rank 0 -- tracking contacts -- 41 of 41 of type n_f_distribution_center\n",
      "2022-09-21 16:16:17,424 - tracker - INFO - Rank 0 -- tracking contacts -- 500 of 541 of type play_group\n",
      "2022-09-21 16:16:17,748 - tracker - INFO - Rank 0 -- tracking contacts -- 81 of 81 of type pump_latrine\n",
      "2022-09-21 16:16:19,879 - tracker - INFO - Rank 0 -- tracking contacts -- 500 of 2065 of type religious\n",
      "2022-09-21 16:16:20,085 - tracker - INFO - Rank 0 -- tracking contacts -- 500 of 3263 of type shelter\n",
      "2022-09-21 16:16:20,600 - tracker - INFO - Rank 0 -- tracking contacts -- 8 of 8 of type hospital\n",
      "2022-09-21 16:16:20,602 - tracker - INFO - Rank 0 -- tracking contacts -- 8 of 8 of type isolation_unit\n",
      "2022-09-21 16:16:20,604 - tracker - INFO - Rank 0 -- tracking contacts -- 389 of 389 of type learning_center\n",
      "2022-09-21 16:16:20,611 - rank - INFO - Rank 0 -- tracker -- 7.00565321999602\n",
      "2022-09-21 16:16:20,641 - epidemiology - INFO - CMS: Infection COMS-v2 for rank 0/1(2)0.00033019299735315144,0.00032973289489746094 - 2020-05-30 18:00:00\n",
      "2022-09-21 16:16:20,701 - rank - INFO - Rank 0 -- interaction_waiting -- 7.6239812187850475e-06\n",
      "2022-09-21 16:16:20,716 - simulator - INFO - CMS: Timestep for rank 0/1 - 8.438511145999655,8.438512325286865 - 2020-05-30 18:00:00\n",
      "\n",
      "2022-09-21 16:16:20,718 - rank - INFO - Next timestep\n",
      "2022-09-21 16:16:20,719 - simulator - INFO - ==================== timestep ====================\n",
      "2022-09-21 16:16:20,900 - rank - INFO - Rank 0 -- move_people -- 0.17970170301850885\n",
      "2022-09-21 16:16:20,901 - rank - INFO - Rank 0 -- move_people_waiting -- 7.168011507019401e-06\n",
      "2022-09-21 16:16:20,901 - activity_manager - INFO - CMS: People COMS for rank 0/1 - 3.2320094760507345e-06,3.0994415283203125e-06 - 2020-05-30 20:00:00\n",
      "2022-09-21 16:16:20,907 - simulator - INFO - Info for rank 0, Date = 2020-05-30 20:00:00, number of deaths =  0, number of infected = 1830\n",
      "2022-09-21 16:16:21,069 - rank - INFO - Rank 0 -- interaction -- 0.16679911798564717\n",
      "2022-09-21 16:16:25,107 - tracker - INFO - Rank 0 -- tracking contacts -- 115 of 115 of type communal\n",
      "2022-09-21 16:16:25,109 - tracker - INFO - Rank 0 -- tracking contacts -- 21 of 21 of type distribution_center\n",
      "2022-09-21 16:16:25,111 - tracker - INFO - Rank 0 -- tracking contacts -- 7 of 7 of type e_voucher\n",
      "2022-09-21 16:16:25,112 - tracker - INFO - Rank 0 -- tracking contacts -- 67 of 67 of type female_communal\n",
      "2022-09-21 16:16:25,114 - tracker - INFO - Rank 0 -- tracking contacts -- 80 of 80 of type informal_work\n",
      "2022-09-21 16:16:25,117 - tracker - INFO - Rank 0 -- tracking contacts -- 41 of 41 of type n_f_distribution_center\n",
      "2022-09-21 16:16:25,120 - tracker - INFO - Rank 0 -- tracking contacts -- 500 of 541 of type play_group\n",
      "2022-09-21 16:16:25,129 - tracker - INFO - Rank 0 -- tracking contacts -- 81 of 81 of type pump_latrine\n",
      "2022-09-21 16:16:25,141 - tracker - INFO - Rank 0 -- tracking contacts -- 500 of 2065 of type religious\n",
      "2022-09-21 16:16:25,155 - tracker - INFO - Rank 0 -- tracking contacts -- 500 of 3263 of type shelter\n",
      "2022-09-21 16:16:26,197 - tracker - INFO - Rank 0 -- tracking contacts -- 8 of 8 of type hospital\n",
      "2022-09-21 16:16:26,199 - tracker - INFO - Rank 0 -- tracking contacts -- 8 of 8 of type isolation_unit\n",
      "2022-09-21 16:16:26,201 - tracker - INFO - Rank 0 -- tracking contacts -- 389 of 389 of type learning_center\n",
      "2022-09-21 16:16:26,207 - rank - INFO - Rank 0 -- tracker -- 5.136886713007698\n",
      "2022-09-21 16:16:26,279 - epidemiology - INFO - CMS: Infection COMS-v2 for rank 0/1(2)0.000220080983126536,0.0002193450927734375 - 2020-05-30 20:00:00\n",
      "2022-09-21 16:16:26,321 - rank - INFO - Rank 0 -- interaction_waiting -- 6.690999725833535e-06\n",
      "2022-09-21 16:16:26,334 - simulator - INFO - CMS: Timestep for rank 0/1 - 5.613281961006578,5.613282918930054 - 2020-05-30 20:00:00\n",
      "\n",
      "CPU times: user 4min 45s, sys: 3.17 s, total: 4min 48s\n",
      "Wall time: 4min 44s\n"
     ]
    }
   ],
   "source": [
    "%%time\n",
    "simulator.run()"
   ]
  },
  {
   "cell_type": "markdown",
   "metadata": {},
   "source": [
    "# Getting the results"
   ]
  },
  {
   "cell_type": "markdown",
   "metadata": {},
   "source": [
    "All results are stored in a json file specified in the `record_path` when defining the recorder. This can be read in by passing the folder locations to the `RecordReader` class and results derived.\n",
    "\n",
    "Here we show some examples of the kind of analysis you can extract from the records."
   ]
  },
  {
   "cell_type": "code",
   "execution_count": 55,
   "metadata": {},
   "outputs": [],
   "source": [
    "import pandas as pd"
   ]
  },
  {
   "cell_type": "code",
   "execution_count": 56,
   "metadata": {},
   "outputs": [],
   "source": [
    "read = RecordReader(Results_Path)"
   ]
  },
  {
   "cell_type": "markdown",
   "metadata": {},
   "source": [
    "The regional summary gives you information at the regional (camp) level."
   ]
  },
  {
   "cell_type": "markdown",
   "metadata": {},
   "source": [
    "### Regional information"
   ]
  },
  {
   "cell_type": "code",
   "execution_count": 57,
   "metadata": {},
   "outputs": [
    {
     "data": {
      "text/html": [
       "<div>\n",
       "<style scoped>\n",
       "    .dataframe tbody tr th:only-of-type {\n",
       "        vertical-align: middle;\n",
       "    }\n",
       "\n",
       "    .dataframe tbody tr th {\n",
       "        vertical-align: top;\n",
       "    }\n",
       "\n",
       "    .dataframe thead th {\n",
       "        text-align: right;\n",
       "    }\n",
       "</style>\n",
       "<table border=\"1\" class=\"dataframe\">\n",
       "  <thead>\n",
       "    <tr style=\"text-align: right;\">\n",
       "      <th></th>\n",
       "      <th>region</th>\n",
       "      <th>current_infected</th>\n",
       "      <th>daily_infected</th>\n",
       "      <th>current_hospitalised</th>\n",
       "      <th>daily_hospitalised</th>\n",
       "      <th>current_intensive_care</th>\n",
       "      <th>daily_intensive_care</th>\n",
       "      <th>daily_hospital_deaths</th>\n",
       "      <th>daily_deaths</th>\n",
       "    </tr>\n",
       "    <tr>\n",
       "      <th>time_stamp</th>\n",
       "      <th></th>\n",
       "      <th></th>\n",
       "      <th></th>\n",
       "      <th></th>\n",
       "      <th></th>\n",
       "      <th></th>\n",
       "      <th></th>\n",
       "      <th></th>\n",
       "      <th></th>\n",
       "    </tr>\n",
       "  </thead>\n",
       "  <tbody>\n",
       "    <tr>\n",
       "      <th>2020-05-24</th>\n",
       "      <td>CXB-219</td>\n",
       "      <td>259.666667</td>\n",
       "      <td>289</td>\n",
       "      <td>0.0</td>\n",
       "      <td>0</td>\n",
       "      <td>0.0</td>\n",
       "      <td>0</td>\n",
       "      <td>0</td>\n",
       "      <td>0</td>\n",
       "    </tr>\n",
       "    <tr>\n",
       "      <th>2020-05-25</th>\n",
       "      <td>CXB-219</td>\n",
       "      <td>332.666667</td>\n",
       "      <td>100</td>\n",
       "      <td>0.0</td>\n",
       "      <td>0</td>\n",
       "      <td>0.0</td>\n",
       "      <td>0</td>\n",
       "      <td>0</td>\n",
       "      <td>0</td>\n",
       "    </tr>\n",
       "    <tr>\n",
       "      <th>2020-05-26</th>\n",
       "      <td>CXB-219</td>\n",
       "      <td>466.666667</td>\n",
       "      <td>178</td>\n",
       "      <td>0.0</td>\n",
       "      <td>0</td>\n",
       "      <td>0.0</td>\n",
       "      <td>0</td>\n",
       "      <td>0</td>\n",
       "      <td>0</td>\n",
       "    </tr>\n",
       "  </tbody>\n",
       "</table>\n",
       "</div>"
      ],
      "text/plain": [
       "             region  current_infected  daily_infected  current_hospitalised  \\\n",
       "time_stamp                                                                    \n",
       "2020-05-24  CXB-219        259.666667             289                   0.0   \n",
       "2020-05-25  CXB-219        332.666667             100                   0.0   \n",
       "2020-05-26  CXB-219        466.666667             178                   0.0   \n",
       "\n",
       "            daily_hospitalised  current_intensive_care  daily_intensive_care  \\\n",
       "time_stamp                                                                     \n",
       "2020-05-24                   0                     0.0                     0   \n",
       "2020-05-25                   0                     0.0                     0   \n",
       "2020-05-26                   0                     0.0                     0   \n",
       "\n",
       "            daily_hospital_deaths  daily_deaths  \n",
       "time_stamp                                       \n",
       "2020-05-24                      0             0  \n",
       "2020-05-25                      0             0  \n",
       "2020-05-26                      0             0  "
      ]
     },
     "execution_count": 57,
     "metadata": {},
     "output_type": "execute_result"
    }
   ],
   "source": [
    "read.regional_summary.head(3) # this is the equivalent of the summary.csv"
   ]
  },
  {
   "cell_type": "markdown",
   "metadata": {},
   "source": [
    "### Daily infections"
   ]
  },
  {
   "cell_type": "code",
   "execution_count": 58,
   "metadata": {},
   "outputs": [],
   "source": [
    "summary = read.regional_summary.reset_index()"
   ]
  },
  {
   "cell_type": "code",
   "execution_count": 59,
   "metadata": {},
   "outputs": [
    {
     "data": {
      "image/png": "[encoded data removed]",
      "text/plain": [
       "<Figure size 432x288 with 1 Axes>"
      ]
     },
     "metadata": {
      "needs_background": "light"
     },
     "output_type": "display_data"
    }
   ],
   "source": [
    "summary.groupby(['time_stamp']).sum().plot(y=['daily_infected'])\n",
    "plt.ylabel('Daily infections')\n",
    "plt.show()"
   ]
  },
  {
   "cell_type": "markdown",
   "metadata": {},
   "source": [
    "### Hospital and intensive care"
   ]
  },
  {
   "cell_type": "code",
   "execution_count": 60,
   "metadata": {},
   "outputs": [
    {
     "data": {
      "image/png": "[encoded data removed]",
      "text/plain": [
       "<Figure size 432x288 with 1 Axes>"
      ]
     },
     "metadata": {
      "needs_background": "light"
     },
     "output_type": "display_data"
    }
   ],
   "source": [
    "summary.groupby(['time_stamp']).sum().plot(y=['current_hospitalised', 'current_intensive_care'])\n",
    "plt.show()"
   ]
  },
  {
   "cell_type": "markdown",
   "metadata": {},
   "source": [
    "### Cumulative infections by age"
   ]
  },
  {
   "cell_type": "code",
   "execution_count": 61,
   "metadata": {},
   "outputs": [
    {
     "name": "stdout",
     "output_type": "stream",
     "text": [
      "2022-09-21 16:16:27,104 - june.records.records_reader - INFO - Loading infections table\n",
      "2022-09-21 16:16:27,115 - june.records.records_reader - INFO - Loading population table\n",
      "2022-09-21 16:16:27,172 - june.records.records_reader - INFO - Merging infection and population tables\n",
      "2022-09-21 16:16:27,180 - june.records.records_reader - INFO - Loading geography table\n",
      "2022-09-21 16:16:27,213 - june.records.records_reader - INFO - Mergeing infection and geography tables\n"
     ]
    }
   ],
   "source": [
    "infections_df = read.get_table_with_extras('infections',\n",
    "                                           'infected_ids')"
   ]
  },
  {
   "cell_type": "code",
   "execution_count": 62,
   "metadata": {},
   "outputs": [
    {
     "name": "stdout",
     "output_type": "stream",
     "text": [
      "2022-09-21 16:16:27,233 - june.records.records_reader - INFO - Loading deaths table\n",
      "2022-09-21 16:16:27,243 - june.records.records_reader - INFO - Loading population table\n",
      "2022-09-21 16:16:27,292 - june.records.records_reader - INFO - Merging infection and population tables\n",
      "2022-09-21 16:16:27,298 - june.records.records_reader - INFO - Loading geography table\n",
      "2022-09-21 16:16:27,321 - june.records.records_reader - INFO - Mergeing infection and geography tables\n"
     ]
    }
   ],
   "source": [
    "deaths_df = read.get_table_with_extras('deaths', \n",
    "                                       'dead_person_ids')"
   ]
  },
  {
   "cell_type": "code",
   "execution_count": 63,
   "metadata": {},
   "outputs": [],
   "source": [
    "age_bins = (0,20,60,100)"
   ]
  },
  {
   "cell_type": "code",
   "execution_count": 64,
   "metadata": {},
   "outputs": [],
   "source": [
    "infected_by_age = infections_df.groupby([pd.cut(infections_df['age'],\n",
    "            bins=age_bins), 'timestamp']).size()"
   ]
  },
  {
   "cell_type": "code",
   "execution_count": 65,
   "metadata": {},
   "outputs": [],
   "source": [
    "people_df = read.table_to_df('population')"
   ]
  },
  {
   "cell_type": "code",
   "execution_count": 66,
   "metadata": {},
   "outputs": [],
   "source": [
    "n_by_age = people_df.groupby(pd.cut(people_df['age'],\n",
    "            bins=age_bins)).size()"
   ]
  },
  {
   "cell_type": "code",
   "execution_count": 67,
   "metadata": {},
   "outputs": [
    {
     "data": {
      "text/plain": [
       "<matplotlib.legend.Legend at 0x7f37a121ac40>"
      ]
     },
     "execution_count": 67,
     "metadata": {},
     "output_type": "execute_result"
    },
    {
     "data": {
      "image/png": "[encoded data removed]",
      "text/plain": [
       "<Figure size 432x288 with 1 Axes>"
      ]
     },
     "metadata": {
      "needs_background": "light"
     },
     "output_type": "display_data"
    }
   ],
   "source": [
    "(100*infected_by_age/n_by_age).xs(10).cumsum().plot(label='0,20')\n",
    "(100*infected_by_age/n_by_age).xs(30).cumsum().plot(label='20,60')\n",
    "(100*infected_by_age/n_by_age).xs(70).cumsum().plot(label='60,100')\n",
    "plt.ylabel(\"% cumulative infected\")\n",
    "plt.legend()"
   ]
  },
  {
   "cell_type": "markdown",
   "metadata": {},
   "source": [
    "### Where people get infected"
   ]
  },
  {
   "cell_type": "code",
   "execution_count": 68,
   "metadata": {},
   "outputs": [],
   "source": [
    "locations_df = infections_df.groupby(['location_specs', \n",
    "                                'timestamp']).size()"
   ]
  },
  {
   "cell_type": "code",
   "execution_count": 69,
   "metadata": {},
   "outputs": [
    {
     "data": {
      "text/plain": [
       "<AxesSubplot:xlabel='timestamp'>"
      ]
     },
     "execution_count": 69,
     "metadata": {},
     "output_type": "execute_result"
    },
    {
     "data": {
      "image/png": "[encoded data removed]",
      "text/plain": [
       "<Figure size 432x288 with 1 Axes>"
      ]
     },
     "metadata": {
      "needs_background": "light"
     },
     "output_type": "display_data"
    }
   ],
   "source": [
    "locations_df.unstack(level=0).plot()"
   ]
  },
  {
   "cell_type": "code",
   "execution_count": 70,
   "metadata": {},
   "outputs": [
    {
     "data": {
      "text/plain": [
       "Text(0.5, 0, 'location')"
      ]
     },
     "execution_count": 70,
     "metadata": {},
     "output_type": "execute_result"
    },
    {
     "data": {
      "image/png": "[encoded data removed]",
      "text/plain": [
       "<Figure size 432x288 with 1 Axes>"
      ]
     },
     "metadata": {
      "needs_background": "light"
     },
     "output_type": "display_data"
    }
   ],
   "source": [
    "import matplotlib.ticker as mtick\n",
    "location_counts_df = locations_df.groupby('location_specs').size()\n",
    "location_counts_df = 100*location_counts_df / location_counts_df.sum()\n",
    "ax = location_counts_df.sort_values().plot.bar()\n",
    "ax.yaxis.set_major_formatter(mtick.PercentFormatter())\n",
    "plt.ylabel('Percentage of infections at location')\n",
    "plt.xlabel('location')"
   ]
  },
  {
   "cell_type": "markdown",
   "metadata": {},
   "source": [
    "# Tracker results"
   ]
  },
  {
   "cell_type": "markdown",
   "metadata": {},
   "source": [
    "We can define custom binnings with bin edges as such."
   ]
  },
  {
   "cell_type": "code",
   "execution_count": 71,
   "metadata": {},
   "outputs": [
    {
     "data": {
      "text/plain": [
       "1"
      ]
     },
     "execution_count": 71,
     "metadata": {},
     "output_type": "execute_result"
    }
   ],
   "source": [
    "simulator.tracker.contract_matrices(\"AC\", np.array([0,18,60]))"
   ]
  },
  {
   "cell_type": "markdown",
   "metadata": {},
   "source": [
    "Lastly we call the tracker to save the results to file and provide a print out of the results."
   ]
  },
  {
   "cell_type": "code",
   "execution_count": 72,
   "metadata": {
    "scrolled": true
   },
   "outputs": [
    {
     "name": "stdout",
     "output_type": "stream",
     "text": [
      "Results from UNCM\n",
      "  communal:\n",
      "    contacts: [[4.1918,8.0681],[1.1685,5.7933]]\n",
      "    contacts_err: [[0.0867,0.1202],[0.0285,0.0634]]\n",
      "    proportion_physical: [[0.1200]]\n",
      "    characteristic_time: 1.00\n",
      "\n",
      "    Ratio of contacts and feed in values: [[0.8384,0.9948],[0.7637,0.9656]]\n",
      "\n",
      "  distribution_center:\n",
      "    contacts: [[3.9901,13.5421],[0.7828,10.0184]]\n",
      "    contacts_err: [[0.0574,0.1057],[0.0151,0.0542]]\n",
      "    proportion_physical: [[0.1200]]\n",
      "    characteristic_time: 1.00\n",
      "\n",
      "    Ratio of contacts and feed in values: [[0.9975,0.9935],[0.9909,1.0018]]\n",
      "\n",
      "  e_voucher:\n",
      "    contacts: [[0.2455,2.1846],[0.0954,13.5014]]\n",
      "    contacts_err: [[0.0210,0.0626],[0.0082,0.0970]]\n",
      "    proportion_physical: [[0.1200]]\n",
      "    characteristic_time: 1.00\n",
      "\n",
      "    Ratio of contacts and feed in values: [[0.0000,1.0923],[0.9540,1.0001]]\n",
      "\n",
      "  female_communal:\n",
      "    contacts: [[4.9970,8.2024],[1.5556,5.9136]]\n",
      "    contacts_err: [[0.0462,0.0592],[0.0269,0.0525]]\n",
      "    proportion_physical: [[0.1200]]\n",
      "    characteristic_time: 1.00\n",
      "\n",
      "    Ratio of contacts and feed in values: [[0.9994,1.0114],[1.0167,0.9856]]\n",
      "\n",
      "  hospital:\n",
      "    contacts: [[5.1505,0.0000,0.0000],[0.0000,0.0000,0.0000],[0.0000,0.0000,0.0000]]\n",
      "    contacts_err: [[0.1760,0.0000,0.0000],[0.0000,0.0000,0.0000],[0.0000,0.0000,0.0000]]\n",
      "    proportion_physical: [[0.0500,1.0000,1.0000],[1.0000,0.0000,0.0000],[1.0000,0.0000,0.0000]]\n",
      "    characteristic_time: 8.00\n",
      "\n",
      "    Ratio of contacts and feed in values: [[1.0301,0.0000,0.0000],[0.0000,0.0000,0.0000],[0.0000,0.0000,0.0000]]\n",
      "\n",
      "  informal_work:\n",
      "    contacts: [[5.0149]]\n",
      "    contacts_err: [[0.0395]]\n",
      "    proportion_physical: [[0.1200]]\n",
      "    characteristic_time: 8.00\n",
      "\n",
      "    Ratio of contacts and feed in values: [[1.0030]]\n",
      "\n",
      "  isolation_unit:\n",
      "    contacts: [[0.0000,0.0000],[0.0000,0.0000]]\n",
      "    contacts_err: [[0.0000,0.0000],[0.0000,0.0000]]\n",
      "    proportion_physical: [[0.0000,0.0000],[0.0000,0.0000]]\n",
      "    characteristic_time: 24.00\n",
      "\n",
      "    Ratio of contacts and feed in values: [[0.0000,0.0000],[0.0000,0.0000]]\n",
      "\n",
      "  learning_center:\n",
      "    contacts: [[10.0076,6.3823],[1.9957,3.8529]]\n",
      "    contacts_err: [[0.0140,0.0112],[0.0070,0.0097]]\n",
      "    proportion_physical: [[0.1200,0.1200],[0.1200,0.1200]]\n",
      "    characteristic_time: 1.50\n",
      "\n",
      "    Ratio of contacts and feed in values: [[1.0008,0.9972],[0.4495,0.9930]]\n",
      "\n",
      "  n_f_distribution_center:\n",
      "    contacts: [[4.0056,13.9278],[0.7939,10.0119]]\n",
      "    contacts_err: [[0.0414,0.0771],[0.0114,0.0404]]\n",
      "    proportion_physical: [[0.1200]]\n",
      "    characteristic_time: 1.00\n",
      "\n",
      "    Ratio of contacts and feed in values: [[1.0014,1.0218],[1.0050,1.0012]]\n",
      "\n",
      "  play_group:\n",
      "    contacts: [[4.9834,0.0000,0.0000],[0.0000,4.9881,0.0000],[0.0000,0.0000,4.8938]]\n",
      "    contacts_err: [[0.0207,0.0000,0.0000],[0.0000,0.0195,0.0000],[0.0000,0.0000,0.0273]]\n",
      "    proportion_physical: [[0.6000,0.0000,0.0000],[0.0000,0.3000,0.0000],[0.0000,0.0000,0.1500]]\n",
      "    characteristic_time: 2.00\n",
      "\n",
      "    Ratio of contacts and feed in values: [[0.9967,0.0000,0.0000],[0.0000,0.9976,0.0000],[0.0000,0.0000,0.9788]]\n",
      "\n",
      "  pump_latrine:\n",
      "    contacts: [[3.2522,9.7288],[1.6332,4.3332]]\n",
      "    contacts_err: [[0.0030,0.0051],[0.0024,0.0039]]\n",
      "    proportion_physical: [[0.0200]]\n",
      "    characteristic_time: 0.54\n",
      "\n",
      "    Ratio of contacts and feed in values: [[1.0007,0.9999],[1.0020,1.0007]]\n",
      "\n",
      "  religious:\n",
      "    contacts: [[4.9844,9.5417],[1.1103,8.5146]]\n",
      "    contacts_err: [[0.0201,0.0278],[0.0066,0.0183]]\n",
      "    proportion_physical: [[0.1200]]\n",
      "    characteristic_time: 1.00\n",
      "\n",
      "    Ratio of contacts and feed in values: [[0.9969,1.0076],[1.0093,1.0017]]\n",
      "\n",
      "  shelter:\n",
      "    contacts: [[4.8799,2.0186],[2.0186,4.8799]]\n",
      "    contacts_err: [[0.0159,0.0102],[0.0102,0.0159]]\n",
      "    proportion_physical: [[0.8000,0.3000],[0.8000,0.3000]]\n",
      "    characteristic_time: 12.00\n",
      "\n",
      "    Ratio of contacts and feed in values: [[0.9760,1.0093],[1.0093,0.9760]]\n",
      "\n",
      "\n",
      "Results from UNCM_R\n",
      "  communal:\n",
      "    contacts: [[4.1918,5.5439],[2.1453,5.7933]]\n",
      "    contacts_err: [[0.0613,0.0705],[0.0273,0.0448]]\n",
      "    proportion_physical: [[0.1200]]\n",
      "    characteristic_time: 1.00\n",
      "\n",
      "    Ratio of contacts and feed in values: [[0.8384,0.6836],[1.4021,0.9656]]\n",
      "\n",
      "  distribution_center:\n",
      "    contacts: [[3.9901,7.8742],[2.7938,10.0184]]\n",
      "    contacts_err: [[0.0406,0.0570],[0.0202,0.0383]]\n",
      "    proportion_physical: [[0.1200]]\n",
      "    characteristic_time: 1.00\n",
      "\n",
      "    Ratio of contacts and feed in values: [[0.9975,0.5777],[3.5364,1.0018]]\n",
      "\n",
      "  e_voucher:\n",
      "    contacts: [[0.2455,1.2151],[0.4721,13.5014]]\n",
      "    contacts_err: [[0.0148,0.0330],[0.0128,0.0686]]\n",
      "    proportion_physical: [[0.1200]]\n",
      "    characteristic_time: 1.00\n",
      "\n",
      "    Ratio of contacts and feed in values: [[0.0000,0.6075],[4.7214,1.0001]]\n",
      "\n",
      "  female_communal:\n",
      "    contacts: [[4.9970,4.8126],[5.2619,5.9136]]\n",
      "    contacts_err: [[0.0327,0.0321],[0.0350,0.0372]]\n",
      "    proportion_physical: [[0.1200]]\n",
      "    characteristic_time: 1.00\n",
      "\n",
      "    Ratio of contacts and feed in values: [[0.9994,0.5934],[3.4392,0.9856]]\n",
      "\n",
      "  hospital:\n",
      "    contacts: [[5.1505,0.0000,0.0000],[0.0000,0.0000,0.0000],[0.0000,0.0000,0.0000]]\n",
      "    contacts_err: [[0.1245,0.0000,0.0000],[0.0000,0.0000,0.0000],[0.0000,0.0000,0.0000]]\n",
      "    proportion_physical: [[0.0500,1.0000,1.0000],[1.0000,0.0000,0.0000],[1.0000,0.0000,0.0000]]\n",
      "    characteristic_time: 8.00\n",
      "\n",
      "    Ratio of contacts and feed in values: [[1.0301,0.0000,0.0000],[0.0000,0.0000,0.0000],[0.0000,0.0000,0.0000]]\n",
      "\n",
      "  informal_work:\n",
      "    contacts: [[5.0149]]\n",
      "    contacts_err: [[0.0279]]\n",
      "    proportion_physical: [[0.1200]]\n",
      "    characteristic_time: 8.00\n",
      "\n",
      "    Ratio of contacts and feed in values: [[1.0030]]\n",
      "\n",
      "  isolation_unit:\n",
      "    contacts: [[0.0000,0.0000],[0.0000,0.0000]]\n",
      "    contacts_err: [[0.0000,0.0000],[0.0000,0.0000]]\n",
      "    proportion_physical: [[0.0000,0.0000],[0.0000,0.0000]]\n",
      "    characteristic_time: 24.00\n",
      "\n",
      "    Ratio of contacts and feed in values: [[0.0000,0.0000],[0.0000,0.0000]]\n",
      "\n",
      "  learning_center:\n",
      "    contacts: [[10.0076,3.9858],[5.0047,3.8529]]\n",
      "    contacts_err: [[0.0099,0.0062],[0.0078,0.0069]]\n",
      "    proportion_physical: [[0.1200,0.1200],[0.1200,0.1200]]\n",
      "    characteristic_time: 1.50\n",
      "\n",
      "    Ratio of contacts and feed in values: [[1.0008,0.6228],[1.1272,0.9930]]\n",
      "\n",
      "  n_f_distribution_center:\n",
      "    contacts: [[4.0056,8.0062],[3.0492,10.0119]]\n",
      "    contacts_err: [[0.0293,0.0414],[0.0158,0.0285]]\n",
      "    proportion_physical: [[0.1200]]\n",
      "    characteristic_time: 1.00\n",
      "\n",
      "    Ratio of contacts and feed in values: [[1.0014,0.5874],[3.8598,1.0012]]\n",
      "\n",
      "  play_group:\n",
      "    contacts: [[4.9834,0.0000,0.0000],[0.0000,4.9881,0.0000],[0.0000,0.0000,4.8938]]\n",
      "    contacts_err: [[0.0147,0.0000,0.0000],[0.0000,0.0138,0.0000],[0.0000,0.0000,0.0193]]\n",
      "    proportion_physical: [[0.6000,0.0000,0.0000],[0.0000,0.3000,0.0000],[0.0000,0.0000,0.1500]]\n",
      "    characteristic_time: 2.00\n",
      "\n",
      "    Ratio of contacts and feed in values: [[0.9967,0.0000,0.0000],[0.0000,0.9976,0.0000],[0.0000,0.0000,0.9788]]\n",
      "\n",
      "  pump_latrine:\n",
      "    contacts: [[3.2522,5.4856],[7.2112,4.3332]]\n",
      "    contacts_err: [[0.0021,0.0027],[0.0036,0.0028]]\n",
      "    proportion_physical: [[0.0200]]\n",
      "    characteristic_time: 0.54\n",
      "\n",
      "    Ratio of contacts and feed in values: [[1.0007,0.5638],[4.4240,1.0007]]\n",
      "\n",
      "  religious:\n",
      "    contacts: [[4.9844,5.9212],[2.8574,8.5146]]\n",
      "    contacts_err: [[0.0142,0.0155],[0.0075,0.0129]]\n",
      "    proportion_physical: [[0.1200]]\n",
      "    characteristic_time: 1.00\n",
      "\n",
      "    Ratio of contacts and feed in values: [[0.9969,0.6253],[2.5976,1.0017]]\n",
      "\n",
      "  shelter:\n",
      "    contacts: [[4.8799,2.0186],[2.0186,4.8799]]\n",
      "    contacts_err: [[0.0112,0.0072],[0.0072,0.0112]]\n",
      "    proportion_physical: [[0.8000,0.3000],[0.8000,0.3000]]\n",
      "    characteristic_time: 12.00\n",
      "\n",
      "    Ratio of contacts and feed in values: [[0.9760,1.0093],[1.0093,0.9760]]\n",
      "\n",
      "\n",
      "Results from UNCM_V\n",
      "  communal:\n",
      "    contacts: [[1.0968,2.6989],[1.0444,2.5368]]\n",
      "    contacts_err: [[0.0443,0.0695],[0.0269,0.0419]]\n",
      "    proportion_physical: [[0.1200]]\n",
      "    characteristic_time: 1.00\n",
      "\n",
      "    Ratio of contacts and feed in values: [[0.2194,0.3328],[0.6826,0.4228]]\n",
      "\n",
      "  distribution_center:\n",
      "    contacts: [[10.7789,30.4695],[10.8106,30.5135]]\n",
      "    contacts_err: [[0.0943,0.1586],[0.0563,0.0945]]\n",
      "    proportion_physical: [[0.1200]]\n",
      "    characteristic_time: 1.00\n",
      "\n",
      "    Ratio of contacts and feed in values: [[2.6947,2.2355],[13.6843,3.0513]]\n",
      "\n",
      "  e_voucher:\n",
      "    contacts: [[5.0323,12.6004],[4.8962,13.1072]]\n",
      "    contacts_err: [[0.0950,0.1503],[0.0584,0.0955]]\n",
      "    proportion_physical: [[0.1200]]\n",
      "    characteristic_time: 1.00\n",
      "\n",
      "    Ratio of contacts and feed in values: [[0.0000,6.3002],[48.9624,0.9709]]\n",
      "\n",
      "  female_communal:\n",
      "    contacts: [[7.3305,6.6059],[7.2227,6.5490]]\n",
      "    contacts_err: [[0.0559,0.0531],[0.0581,0.0553]]\n",
      "    proportion_physical: [[0.1200]]\n",
      "    characteristic_time: 1.00\n",
      "\n",
      "    Ratio of contacts and feed in values: [[1.4661,0.8145],[4.7207,1.0915]]\n",
      "\n",
      "  hospital:\n",
      "    contacts: [[12.2747,0.0000,0.0000],[0.0000,3.9291,0.0000],[0.0000,0.0000,0.0000]]\n",
      "    contacts_err: [[0.2718,0.0000,0.0000],[0.0000,1.1342,0.0000],[0.0000,0.0000,0.0000]]\n",
      "    proportion_physical: [[0.0500,1.0000,1.0000],[1.0000,0.0000,0.0000],[1.0000,0.0000,0.0000]]\n",
      "    characteristic_time: 8.00\n",
      "\n",
      "    Ratio of contacts and feed in values: [[2.4549,0.0000,0.0000],[0.0000,0.0000,0.0000],[0.0000,0.0000,0.0000]]\n",
      "\n",
      "  informal_work:\n",
      "    contacts: [[31.3927]]\n",
      "    contacts_err: [[0.0988]]\n",
      "    proportion_physical: [[0.1200]]\n",
      "    characteristic_time: 8.00\n",
      "\n",
      "    Ratio of contacts and feed in values: [[6.2785]]\n",
      "\n",
      "  isolation_unit:\n",
      "    contacts: [[0.0000,0.0000],[0.0000,0.0000]]\n",
      "    contacts_err: [[0.0000,0.0000],[0.0000,0.0000]]\n",
      "    proportion_physical: [[0.0000,0.0000],[0.0000,0.0000]]\n",
      "    characteristic_time: 24.00\n",
      "\n",
      "    Ratio of contacts and feed in values: [[0.0000,0.0000],[0.0000,0.0000]]\n",
      "\n",
      "  learning_center:\n",
      "    contacts: [[8.9380,3.0635],[3.8466,2.8907]]\n",
      "    contacts_err: [[0.0132,0.0077],[0.0097,0.0084]]\n",
      "    proportion_physical: [[0.1200,0.1200],[0.1200,0.1200]]\n",
      "    characteristic_time: 1.50\n",
      "\n",
      "    Ratio of contacts and feed in values: [[0.8938,0.4787],[0.8663,0.7450]]\n",
      "\n",
      "  n_f_distribution_center:\n",
      "    contacts: [[21.0162,55.0722],[20.9748,54.9798]]\n",
      "    contacts_err: [[0.0948,0.1534],[0.0584,0.0946]]\n",
      "    proportion_physical: [[0.1200]]\n",
      "    characteristic_time: 1.00\n",
      "\n",
      "    Ratio of contacts and feed in values: [[5.2541,4.0405],[26.5503,5.4980]]\n",
      "\n",
      "  play_group:\n",
      "    contacts: [[7.2238,8.3178,4.0809],[7.3448,8.5104,4.1965],[7.2225,8.4109,4.1693]]\n",
      "    contacts_err: [[0.0250,0.0268,0.0188],[0.0236,0.0254,0.0179],[0.0332,0.0358,0.0252]]\n",
      "    proportion_physical: [[0.6000,0.0000,0.0000],[0.0000,0.3000,0.0000],[0.0000,0.0000,0.1500]]\n",
      "    characteristic_time: 2.00\n",
      "\n",
      "    Ratio of contacts and feed in values: [[1.4448,0.0000,0.0000],[0.0000,1.7021,0.0000],[0.0000,0.0000,0.8339]]\n",
      "\n",
      "  pump_latrine:\n",
      "    contacts: [[15.6311,11.9429],[15.6997,12.2601]]\n",
      "    contacts_err: [[0.0065,0.0057],[0.0075,0.0066]]\n",
      "    proportion_physical: [[0.0200]]\n",
      "    characteristic_time: 0.54\n",
      "\n",
      "    Ratio of contacts and feed in values: [[4.8096,1.2274],[9.6317,2.8314]]\n",
      "\n",
      "  religious:\n",
      "    contacts: [[13.8336,28.4508],[13.7295,29.9347]]\n",
      "    contacts_err: [[0.0335,0.0481],[0.0232,0.0342]]\n",
      "    proportion_physical: [[0.1200]]\n",
      "    characteristic_time: 1.00\n",
      "\n",
      "    Ratio of contacts and feed in values: [[2.7667,3.0043],[12.4814,3.5217]]\n",
      "\n",
      "  shelter:\n",
      "    contacts: [[4.0897,3.6449],[3.6449,4.8355]]\n",
      "    contacts_err: [[0.0145,0.0137],[0.0137,0.0158]]\n",
      "    proportion_physical: [[0.8000,0.3000],[0.8000,0.3000]]\n",
      "    characteristic_time: 12.00\n",
      "\n",
      "    Ratio of contacts and feed in values: [[0.8179,1.8224],[1.8224,0.9671]]\n",
      "\n",
      "\n"
     ]
    },
    {
     "name": "stderr",
     "output_type": "stream",
     "text": [
      "\n",
      "KeyboardInterrupt\n",
      "\n"
     ]
    }
   ],
   "source": [
    "simulator.tracker.post_process_simulation(save=True)"
   ]
  },
  {
   "cell_type": "code",
   "execution_count": 93,
   "metadata": {},
   "outputs": [
    {
     "name": "stdout",
     "output_type": "stream",
     "text": [
      "81\n"
     ]
    }
   ],
   "source": [
    "print(len(world.pump_latrines.members))"
   ]
  },
  {
   "cell_type": "code",
   "execution_count": 95,
   "metadata": {},
   "outputs": [
    {
     "name": "stdout",
     "output_type": "stream",
     "text": [
      "65\n",
      "1\n",
      "1\n",
      "1\n",
      "1\n",
      "1\n",
      "1\n",
      "1\n",
      "1\n",
      "1\n",
      "1\n",
      "1\n",
      "1\n",
      "1\n",
      "1\n",
      "1\n",
      "1\n",
      "1\n",
      "1\n",
      "1\n",
      "1\n",
      "1\n",
      "1\n",
      "1\n",
      "1\n",
      "1\n",
      "1\n",
      "1\n",
      "1\n",
      "1\n",
      "1\n",
      "1\n",
      "1\n",
      "1\n",
      "1\n",
      "1\n",
      "1\n",
      "1\n",
      "1\n",
      "1\n",
      "1\n",
      "1\n",
      "1\n",
      "1\n",
      "1\n",
      "1\n",
      "1\n",
      "1\n",
      "1\n",
      "1\n",
      "1\n",
      "1\n",
      "1\n",
      "1\n",
      "1\n",
      "1\n",
      "1\n",
      "1\n",
      "1\n",
      "1\n",
      "1\n",
      "1\n",
      "1\n",
      "1\n",
      "1\n",
      "1\n"
     ]
    }
   ],
   "source": [
    "print(len(world.areas.members))\n",
    "for a in world.areas.members:\n",
    "    print(len(a.social_venues['pump_latrine']))\n",
    "    assigned_ids = []\n",
    "    for p in a.people:\n",
    "        if len(p.area.social_venues['pump_latrine']) != 1:\n",
    "            print(f\"There are {len(p.area.social_venues['pump_latrine'])} pump_latrine for person {p.id} (area {a}).\")\n",
    "        else:\n",
    "            assigned_ids.append(p.area.social_venues['pump_latrine'][0].id)\n",
    "    assert len(set(assigned_ids)) == 1"
   ]
  },
  {
   "cell_type": "code",
   "execution_count": 84,
   "metadata": {},
   "outputs": [
    {
     "data": {
      "text/plain": [
       "{0: {'unisex': [310, 300, 300, 321, 317, 341, 327],\n",
       "  'male': [124, 125, 116, 142, 136, 152, 150],\n",
       "  'female': [186, 175, 184, 179, 181, 189, 177]},\n",
       " 1: {'unisex': [0, 0, 0, 0, 0, 0, 0],\n",
       "  'male': [0, 0, 0, 0, 0, 0, 0],\n",
       "  'female': [0, 0, 0, 0, 0, 0, 0]},\n",
       " 2: {'unisex': [246, 241, 261, 247, 257, 261, 256],\n",
       "  'male': [111, 99, 115, 101, 107, 120, 112],\n",
       "  'female': [135, 142, 146, 146, 150, 141, 144]},\n",
       " 3: {'unisex': [228, 203, 211, 223, 213, 255, 251],\n",
       "  'male': [92, 77, 85, 87, 85, 106, 97],\n",
       "  'female': [136, 126, 126, 136, 128, 149, 154]},\n",
       " 4: {'unisex': [276, 279, 255, 253, 269, 271, 261],\n",
       "  'male': [135, 128, 125, 108, 130, 125, 126],\n",
       "  'female': [141, 151, 130, 145, 139, 146, 135]},\n",
       " 5: {'unisex': [160, 164, 162, 161, 162, 227, 209],\n",
       "  'male': [66, 65, 65, 62, 60, 90, 88],\n",
       "  'female': [94, 99, 97, 99, 102, 137, 121]},\n",
       " 6: {'unisex': [186, 181, 189, 179, 187, 234, 235],\n",
       "  'male': [72, 75, 85, 70, 74, 87, 95],\n",
       "  'female': [114, 106, 104, 109, 113, 147, 140]},\n",
       " 7: {'unisex': [188, 177, 179, 175, 182, 190, 179],\n",
       "  'male': [74, 72, 75, 73, 78, 82, 66],\n",
       "  'female': [114, 105, 104, 102, 104, 108, 113]},\n",
       " 8: {'unisex': [189, 178, 185, 191, 187, 249, 251],\n",
       "  'male': [86, 73, 77, 82, 84, 117, 115],\n",
       "  'female': [103, 105, 108, 109, 103, 132, 136]},\n",
       " 9: {'unisex': [184, 204, 195, 196, 196, 191, 187],\n",
       "  'male': [72, 81, 75, 76, 82, 75, 70],\n",
       "  'female': [112, 123, 120, 120, 114, 116, 117]},\n",
       " 10: {'unisex': [162, 166, 163, 158, 157, 185, 183],\n",
       "  'male': [67, 71, 69, 65, 69, 78, 75],\n",
       "  'female': [95, 95, 94, 93, 88, 107, 108]},\n",
       " 11: {'unisex': [310, 339, 316, 321, 317, 336, 343],\n",
       "  'male': [142, 162, 148, 152, 138, 165, 161],\n",
       "  'female': [168, 177, 168, 169, 179, 171, 182]},\n",
       " 12: {'unisex': [0, 0, 0, 0, 0, 0, 0],\n",
       "  'male': [0, 0, 0, 0, 0, 0, 0],\n",
       "  'female': [0, 0, 0, 0, 0, 0, 0]},\n",
       " 13: {'unisex': [288, 292, 278, 281, 275, 288, 286],\n",
       "  'male': [136, 140, 119, 125, 122, 131, 129],\n",
       "  'female': [152, 152, 159, 156, 153, 157, 157]},\n",
       " 14: {'unisex': [0, 0, 0, 0, 0, 0, 0],\n",
       "  'male': [0, 0, 0, 0, 0, 0, 0],\n",
       "  'female': [0, 0, 0, 0, 0, 0, 0]},\n",
       " 15: {'unisex': [0, 0, 0, 0, 0, 0, 0],\n",
       "  'male': [0, 0, 0, 0, 0, 0, 0],\n",
       "  'female': [0, 0, 0, 0, 0, 0, 0]},\n",
       " 16: {'unisex': [307, 324, 338, 321, 323, 325, 331],\n",
       "  'male': [121, 140, 139, 131, 129, 131, 137],\n",
       "  'female': [186, 184, 199, 190, 194, 194, 194]},\n",
       " 17: {'unisex': [270, 264, 269, 266, 257, 273, 262],\n",
       "  'male': [110, 116, 117, 111, 104, 117, 106],\n",
       "  'female': [160, 148, 152, 155, 153, 156, 156]},\n",
       " 18: {'unisex': [283, 281, 269, 297, 284, 286, 294],\n",
       "  'male': [111, 114, 111, 128, 116, 114, 115],\n",
       "  'female': [172, 167, 158, 169, 168, 172, 179]},\n",
       " 19: {'unisex': [0, 0, 0, 0, 0, 0, 0],\n",
       "  'male': [0, 0, 0, 0, 0, 0, 0],\n",
       "  'female': [0, 0, 0, 0, 0, 0, 0]},\n",
       " 20: {'unisex': [0, 0, 0, 0, 0, 0, 0],\n",
       "  'male': [0, 0, 0, 0, 0, 0, 0],\n",
       "  'female': [0, 0, 0, 0, 0, 0, 0]},\n",
       " 21: {'unisex': [282, 287, 297, 289, 309, 298, 299],\n",
       "  'male': [115, 115, 127, 123, 131, 120, 125],\n",
       "  'female': [167, 172, 170, 166, 178, 178, 174]},\n",
       " 22: {'unisex': [298, 310, 290, 277, 274, 303, 298],\n",
       "  'male': [125, 134, 119, 118, 113, 125, 126],\n",
       "  'female': [173, 176, 171, 159, 161, 178, 172]},\n",
       " 23: {'unisex': [0, 0, 0, 0, 0, 0, 0],\n",
       "  'male': [0, 0, 0, 0, 0, 0, 0],\n",
       "  'female': [0, 0, 0, 0, 0, 0, 0]},\n",
       " 24: {'unisex': [267, 258, 270, 262, 271, 277, 271],\n",
       "  'male': [115, 107, 111, 113, 121, 123, 123],\n",
       "  'female': [152, 151, 159, 149, 150, 154, 148]},\n",
       " 25: {'unisex': [274, 272, 266, 251, 249, 262, 268],\n",
       "  'male': [124, 114, 112, 105, 104, 105, 118],\n",
       "  'female': [150, 158, 154, 146, 145, 157, 150]},\n",
       " 26: {'unisex': [219, 209, 224, 201, 216, 262, 266],\n",
       "  'male': [93, 88, 92, 87, 93, 107, 112],\n",
       "  'female': [126, 121, 132, 114, 123, 155, 154]},\n",
       " 27: {'unisex': [282, 287, 273, 278, 265, 286, 289],\n",
       "  'male': [119, 122, 124, 125, 115, 133, 123],\n",
       "  'female': [163, 165, 149, 153, 150, 153, 166]},\n",
       " 28: {'unisex': [0, 0, 0, 0, 0, 0, 0],\n",
       "  'male': [0, 0, 0, 0, 0, 0, 0],\n",
       "  'female': [0, 0, 0, 0, 0, 0, 0]},\n",
       " 29: {'unisex': [284, 268, 265, 275, 273, 297, 288],\n",
       "  'male': [131, 111, 112, 121, 116, 138, 132],\n",
       "  'female': [153, 157, 153, 154, 157, 159, 156]},\n",
       " 30: {'unisex': [255, 241, 227, 223, 245, 231, 229],\n",
       "  'male': [102, 97, 85, 88, 104, 93, 84],\n",
       "  'female': [153, 144, 142, 135, 141, 138, 145]},\n",
       " 31: {'unisex': [0, 0, 0, 0, 0, 0, 0],\n",
       "  'male': [0, 0, 0, 0, 0, 0, 0],\n",
       "  'female': [0, 0, 0, 0, 0, 0, 0]},\n",
       " 32: {'unisex': [322, 315, 324, 317, 315, 322, 338],\n",
       "  'male': [152, 149, 146, 151, 146, 149, 153],\n",
       "  'female': [170, 166, 178, 166, 169, 173, 185]},\n",
       " 33: {'unisex': [247, 248, 245, 236, 226, 284, 288],\n",
       "  'male': [110, 114, 109, 100, 97, 120, 116],\n",
       "  'female': [137, 134, 136, 136, 129, 164, 172]},\n",
       " 34: {'unisex': [240, 223, 236, 235, 235, 259, 229],\n",
       "  'male': [105, 92, 92, 100, 100, 110, 96],\n",
       "  'female': [135, 131, 144, 135, 135, 149, 133]},\n",
       " 35: {'unisex': [273, 268, 247, 256, 266, 266, 266],\n",
       "  'male': [126, 106, 98, 109, 114, 112, 116],\n",
       "  'female': [147, 162, 149, 147, 152, 154, 150]},\n",
       " 36: {'unisex': [195, 169, 171, 192, 178, 196, 188],\n",
       "  'male': [75, 66, 65, 77, 66, 79, 71],\n",
       "  'female': [120, 103, 106, 115, 112, 117, 117]},\n",
       " 37: {'unisex': [0, 0, 0, 0, 0, 0, 0],\n",
       "  'male': [0, 0, 0, 0, 0, 0, 0],\n",
       "  'female': [0, 0, 0, 0, 0, 0, 0]},\n",
       " 38: {'unisex': [309, 294, 298, 303, 294, 328, 331],\n",
       "  'male': [120, 115, 113, 121, 127, 131, 132],\n",
       "  'female': [189, 179, 185, 182, 167, 197, 199]},\n",
       " 39: {'unisex': [321, 314, 322, 322, 327, 335, 322],\n",
       "  'male': [127, 128, 127, 125, 145, 136, 125],\n",
       "  'female': [194, 186, 195, 197, 182, 199, 197]},\n",
       " 40: {'unisex': [0, 0, 0, 0, 0, 0, 0],\n",
       "  'male': [0, 0, 0, 0, 0, 0, 0],\n",
       "  'female': [0, 0, 0, 0, 0, 0, 0]},\n",
       " 41: {'unisex': [326, 347, 347, 325, 350, 358, 330],\n",
       "  'male': [143, 150, 148, 141, 163, 146, 136],\n",
       "  'female': [183, 197, 199, 184, 187, 212, 194]},\n",
       " 42: {'unisex': [0, 0, 0, 0, 0, 0, 0],\n",
       "  'male': [0, 0, 0, 0, 0, 0, 0],\n",
       "  'female': [0, 0, 0, 0, 0, 0, 0]},\n",
       " 43: {'unisex': [132, 128, 128, 139, 139, 144, 119],\n",
       "  'male': [56, 48, 53, 50, 51, 56, 43],\n",
       "  'female': [76, 80, 75, 89, 88, 88, 76]},\n",
       " 44: {'unisex': [229, 233, 216, 223, 235, 238, 232],\n",
       "  'male': [81, 98, 82, 87, 93, 94, 93],\n",
       "  'female': [148, 135, 134, 136, 142, 144, 139]},\n",
       " 45: {'unisex': [275, 274, 270, 281, 284, 270, 262],\n",
       "  'male': [116, 107, 105, 117, 121, 108, 106],\n",
       "  'female': [159, 167, 165, 164, 163, 162, 156]},\n",
       " 46: {'unisex': [276, 268, 270, 271, 284, 290, 291],\n",
       "  'male': [104, 93, 101, 109, 112, 100, 103],\n",
       "  'female': [172, 175, 169, 162, 172, 190, 188]},\n",
       " 47: {'unisex': [255, 248, 248, 258, 249, 271, 275],\n",
       "  'male': [99, 96, 99, 97, 94, 105, 105],\n",
       "  'female': [156, 152, 149, 161, 155, 166, 170]},\n",
       " 48: {'unisex': [301, 290, 301, 294, 294, 307, 316],\n",
       "  'male': [119, 118, 118, 110, 123, 119, 126],\n",
       "  'female': [182, 172, 183, 184, 171, 188, 190]},\n",
       " 49: {'unisex': [0, 0, 0, 0, 0, 0, 0],\n",
       "  'male': [0, 0, 0, 0, 0, 0, 0],\n",
       "  'female': [0, 0, 0, 0, 0, 0, 0]},\n",
       " 50: {'unisex': [298, 323, 307, 325, 319, 319, 305],\n",
       "  'male': [124, 136, 127, 147, 138, 142, 132],\n",
       "  'female': [174, 187, 180, 178, 181, 177, 173]},\n",
       " 51: {'unisex': [0, 0, 0, 0, 0, 0, 0],\n",
       "  'male': [0, 0, 0, 0, 0, 0, 0],\n",
       "  'female': [0, 0, 0, 0, 0, 0, 0]},\n",
       " 52: {'unisex': [178, 165, 177, 162, 170, 173, 162],\n",
       "  'male': [84, 79, 84, 72, 77, 80, 71],\n",
       "  'female': [94, 86, 93, 90, 93, 93, 91]},\n",
       " 53: {'unisex': [207, 204, 222, 214, 214, 238, 235],\n",
       "  'male': [75, 71, 83, 84, 82, 91, 97],\n",
       "  'female': [132, 133, 139, 130, 132, 147, 138]},\n",
       " 54: {'unisex': [241, 233, 253, 224, 237, 234, 238],\n",
       "  'male': [102, 99, 109, 93, 100, 96, 98],\n",
       "  'female': [139, 134, 144, 131, 137, 138, 140]},\n",
       " 55: {'unisex': [143, 140, 150, 145, 130, 148, 150],\n",
       "  'male': [62, 57, 62, 56, 52, 59, 64],\n",
       "  'female': [81, 83, 88, 89, 78, 89, 86]},\n",
       " 56: {'unisex': [221, 228, 238, 233, 226, 251, 236],\n",
       "  'male': [87, 89, 100, 96, 100, 103, 98],\n",
       "  'female': [134, 139, 138, 137, 126, 148, 138]},\n",
       " 57: {'unisex': [235, 250, 220, 245, 236, 255, 247],\n",
       "  'male': [104, 112, 87, 110, 99, 111, 111],\n",
       "  'female': [131, 138, 133, 135, 137, 144, 136]},\n",
       " 58: {'unisex': [388, 389, 381, 373, 367, 363, 383],\n",
       "  'male': [169, 173, 169, 169, 172, 160, 169],\n",
       "  'female': [219, 216, 212, 204, 195, 203, 214]},\n",
       " 59: {'unisex': [0, 0, 0, 0, 0, 0, 0],\n",
       "  'male': [0, 0, 0, 0, 0, 0, 0],\n",
       "  'female': [0, 0, 0, 0, 0, 0, 0]},\n",
       " 60: {'unisex': [267, 272, 259, 273, 251, 271, 273],\n",
       "  'male': [108, 109, 110, 117, 103, 113, 103],\n",
       "  'female': [159, 163, 149, 156, 148, 158, 170]},\n",
       " 61: {'unisex': [173, 175, 181, 171, 183, 175, 182],\n",
       "  'male': [59, 62, 64, 58, 72, 65, 71],\n",
       "  'female': [114, 113, 117, 113, 111, 110, 111]},\n",
       " 62: {'unisex': [194, 184, 204, 184, 186, 198, 208],\n",
       "  'male': [75, 72, 91, 72, 69, 82, 82],\n",
       "  'female': [119, 112, 113, 112, 117, 116, 126]},\n",
       " 63: {'unisex': [152, 161, 174, 157, 173, 179, 188],\n",
       "  'male': [73, 75, 81, 70, 74, 82, 86],\n",
       "  'female': [79, 86, 93, 87, 99, 97, 102]},\n",
       " 64: {'unisex': [229, 233, 232, 232, 241, 274, 260],\n",
       "  'male': [94, 90, 100, 92, 105, 114, 108],\n",
       "  'female': [135, 143, 132, 140, 136, 160, 152]},\n",
       " 65: {'unisex': [205, 211, 211, 210, 205, 258, 244],\n",
       "  'male': [78, 74, 84, 79, 81, 103, 105],\n",
       "  'female': [127, 137, 127, 131, 124, 155, 139]},\n",
       " 66: {'unisex': [247, 236, 244, 238, 226, 243, 231],\n",
       "  'male': [101, 93, 104, 100, 87, 101, 87],\n",
       "  'female': [146, 143, 140, 138, 139, 142, 144]},\n",
       " 67: {'unisex': [274, 297, 296, 287, 301, 300, 282],\n",
       "  'male': [101, 122, 129, 118, 123, 117, 123],\n",
       "  'female': [173, 175, 167, 169, 178, 183, 159]},\n",
       " 68: {'unisex': [179, 178, 169, 177, 173, 179, 183],\n",
       "  'male': [82, 75, 70, 83, 77, 77, 80],\n",
       "  'female': [97, 103, 99, 94, 96, 102, 103]},\n",
       " 69: {'unisex': [185, 199, 199, 195, 194, 193, 188],\n",
       "  'male': [73, 88, 78, 85, 80, 68, 76],\n",
       "  'female': [112, 111, 121, 110, 114, 125, 112]},\n",
       " 70: {'unisex': [127, 131, 128, 128, 127, 136, 135],\n",
       "  'male': [57, 69, 59, 64, 66, 64, 65],\n",
       "  'female': [70, 62, 69, 64, 61, 72, 70]},\n",
       " 71: {'unisex': [135, 135, 134, 131, 140, 154, 150],\n",
       "  'male': [67, 62, 63, 61, 66, 75, 71],\n",
       "  'female': [68, 73, 71, 70, 74, 79, 79]},\n",
       " 72: {'unisex': [175, 195, 200, 166, 179, 234, 222],\n",
       "  'male': [72, 83, 81, 69, 77, 104, 96],\n",
       "  'female': [103, 112, 119, 97, 102, 130, 126]},\n",
       " 73: {'unisex': [166, 181, 173, 171, 176, 220, 224],\n",
       "  'male': [68, 73, 69, 70, 73, 95, 100],\n",
       "  'female': [98, 108, 104, 101, 103, 125, 124]},\n",
       " 74: {'unisex': [269, 254, 271, 268, 265, 283, 281],\n",
       "  'male': [97, 102, 113, 115, 115, 118, 110],\n",
       "  'female': [172, 152, 158, 153, 150, 165, 171]},\n",
       " 75: {'unisex': [0, 0, 0, 0, 0, 0, 0],\n",
       "  'male': [0, 0, 0, 0, 0, 0, 0],\n",
       "  'female': [0, 0, 0, 0, 0, 0, 0]},\n",
       " 76: {'unisex': [382, 380, 360, 364, 389, 387, 377],\n",
       "  'male': [147, 153, 132, 143, 154, 156, 157],\n",
       "  'female': [235, 227, 228, 221, 235, 231, 220]},\n",
       " 77: {'unisex': [225, 211, 223, 221, 212, 217, 231],\n",
       "  'male': [105, 87, 99, 102, 89, 88, 101],\n",
       "  'female': [120, 124, 124, 119, 123, 129, 130]},\n",
       " 78: {'unisex': [142, 149, 153, 149, 142, 154, 158],\n",
       "  'male': [55, 58, 66, 53, 52, 60, 64],\n",
       "  'female': [87, 91, 87, 96, 90, 94, 94]},\n",
       " 79: {'unisex': [214, 216, 211, 211, 199, 213, 227],\n",
       "  'male': [90, 88, 86, 85, 80, 85, 97],\n",
       "  'female': [124, 128, 125, 126, 119, 128, 130]},\n",
       " 80: {'unisex': [203, 207, 204, 195, 193, 210, 206],\n",
       "  'male': [72, 72, 80, 67, 66, 67, 75],\n",
       "  'female': [131, 135, 124, 128, 127, 143, 131]}}"
      ]
     },
     "execution_count": 84,
     "metadata": {},
     "output_type": "execute_result"
    }
   ],
   "source": [
    "simulator.tracker.location_counters_day[\"loc\"][\"pump_latrines\"]"
   ]
  },
  {
   "cell_type": "code",
   "execution_count": null,
   "metadata": {},
   "outputs": [],
   "source": []
  }
 ],
 "metadata": {
  "kernelspec": {
   "display_name": "Python 3 (ipykernel)",
   "language": "python",
   "name": "python3"
  },
  "language_info": {
   "codemirror_mode": {
    "name": "ipython",
    "version": 3
   },
   "file_extension": ".py",
   "mimetype": "text/x-python",
   "name": "python",
   "nbconvert_exporter": "python",
   "pygments_lexer": "ipython3",
   "version": "3.8.10"
  }
 },
 "nbformat": 4,
 "nbformat_minor": 4
}
