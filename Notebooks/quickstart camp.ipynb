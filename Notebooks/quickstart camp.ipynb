{
 "cells": [
  {
   "cell_type": "code",
   "execution_count": 1,
   "metadata": {},
   "outputs": [],
   "source": [
    "import warnings\n",
    "warnings.filterwarnings('ignore')"
   ]
  },
  {
   "cell_type": "code",
   "execution_count": 2,
   "metadata": {},
   "outputs": [],
   "source": [
    "import numpy as np\n",
    "import pandas as pd\n",
    "import time\n",
    "import matplotlib.pyplot as plt\n",
    "from datetime import datetime\n",
    "import sys\n",
    "import argparse\n",
    "from pathlib import Path"
   ]
  },
  {
   "cell_type": "code",
   "execution_count": 3,
   "metadata": {},
   "outputs": [
    {
     "name": "stderr",
     "output_type": "stream",
     "text": [
      "No --data argument given - defaulting to:\n",
      "/home/joseph/Documents/PhD/UN_Work/UNGP-settlement-modelling-private/data\n",
      "No --configs argument given - defaulting to:\n",
      "/home/joseph/Documents/PhD/UN_Work/JUNE-private/june/configs\n"
     ]
    },
    {
     "name": "stdout",
     "output_type": "stream",
     "text": [
      "2022-07-22 13:52:12,355 - camps.paths - WARNING - No --camp_data argument given - defaulting to:\n",
      "/home/joseph/Documents/PhD/UN_Work/UNGP-settlement-modelling-private/camp_data\n",
      "2022-07-22 13:52:12,356 - camps.paths - WARNING - No --configs_camps argument given - defaulting to:\n",
      "/home/joseph/Documents/PhD/UN_Work/UNGP-settlement-modelling-private/configs_camps\n"
     ]
    }
   ],
   "source": [
    "from june.geography import Geography\n",
    "from june.demography.demography import (\n",
    "    load_age_and_sex_generators_for_bins,\n",
    "    Demography,\n",
    "    Population,\n",
    "    load_comorbidity_data,\n",
    "    generate_comorbidity,\n",
    ")\n",
    "from june.paths import data_path, configs_path\n",
    "from june.epidemiology.epidemiology import Epidemiology\n",
    "from june.epidemiology.infection import ImmunitySetter\n",
    "from june.epidemiology.infection import Infection, HealthIndexGenerator, InfectionSelector, InfectionSelectors\n",
    "from june.epidemiology.infection_seed import InfectionSeed, InfectionSeeds\n",
    "from june.interaction import Interaction\n",
    "from june.groups import Hospital, Hospitals, Cemeteries\n",
    "from june.distributors import HospitalDistributor\n",
    "from june.hdf5_savers import generate_world_from_hdf5\n",
    "from june.policy import Policy, Policies\n",
    "from june.records import Record\n",
    "from june.simulator import Simulator\n",
    "from june.records import Record, RecordReader\n",
    "\n",
    "from camps.activity import CampActivityManager\n",
    "from camps.paths import camp_data_path, camp_configs_path\n",
    "from camps.world import World\n",
    "from camps.groups.leisure import generate_leisure_for_world, generate_leisure_for_config\n",
    "from camps.camp_creation import (\n",
    "    generate_empty_world,\n",
    "    populate_world,\n",
    "    distribute_people_to_households,\n",
    ")  # this is loaded from the ../camp_scripts folder\n",
    "\n",
    "from june.tracker.tracker import Tracker"
   ]
  },
  {
   "cell_type": "code",
   "execution_count": 4,
   "metadata": {},
   "outputs": [],
   "source": [
    "from camps.groups import PumpLatrines, PumpLatrineDistributor\n",
    "from camps.groups import DistributionCenters, DistributionCenterDistributor\n",
    "from camps.groups import Communals, CommunalDistributor\n",
    "from camps.groups import FemaleCommunals, FemaleCommunalDistributor\n",
    "from camps.groups import Religiouss, ReligiousDistributor\n",
    "from camps.groups import Shelter, Shelters, ShelterDistributor\n",
    "from camps.groups import IsolationUnit, IsolationUnits\n",
    "from camps.groups import LearningCenters\n",
    "from camps.distributors import LearningCenterDistributor\n",
    "from camps.groups import PlayGroups, PlayGroupDistributor\n",
    "from camps.groups import EVouchers, EVoucherDistributor\n",
    "from camps.groups import NFDistributionCenters, NFDistributionCenterDistributor\n",
    "from camps.groups import SheltersVisitsDistributor\n",
    "from camps.groups import InformalWorks, InformalWorkDistributor"
   ]
  },
  {
   "cell_type": "code",
   "execution_count": 5,
   "metadata": {},
   "outputs": [],
   "source": [
    "Results_Path = Path(\"results\")\n",
    "\n",
    "Config_File_Path = camp_configs_path / \"config_demo.yaml\"\n",
    "Interactions_File_Path = camp_configs_path / \"defaults/interaction/interaction_Survey.yaml\"\n",
    "Policies_File_Path = camp_configs_path / \"defaults/policy/simple_policy.yaml\"\n",
    "Hospitals_File_Path = camp_data_path / \"input/hospitals/hospitals.csv\"\n",
    "comorbidity_multipliers_path = camp_configs_path / \"defaults/comorbidities.yaml\"\n",
    "male_comorbidity_reference_prevalence_path = camp_data_path / \"input/demography/uk_male_comorbidities.csv\"\n",
    "female_comorbidity_reference_prevalence_path = camp_data_path / \"input/demography/uk_female_comorbidities.csv\""
   ]
  },
  {
   "cell_type": "markdown",
   "metadata": {},
   "source": [
    "## Initialize the world"
   ]
  },
  {
   "cell_type": "markdown",
   "metadata": {},
   "source": [
    "When we create the camp to be simulated, we call this the 'world'. The world is initialised after specifying which geographical regions you want to simulate. We can do this by using the `filter_key` argument in the `generate_empty_world` function. Cox's Bazar Expansion Site is made up of camps (which we call regions), UNHCR blocks (which we call super areas) and Mahjee blocks (which we call areas). These are the 3 heirarchical levels on which our model works. You can pass lists of the regions/super_areas/areas to the function here. Alternatively, by leaving the function empty you can generate the entire Cox's Bazar Expansion Site consisting of 112 super areas."
   ]
  },
  {
   "cell_type": "code",
   "execution_count": 6,
   "metadata": {},
   "outputs": [
    {
     "name": "stdout",
     "output_type": "stream",
     "text": [
      "2022-07-22 13:52:13,038 - june.geography.geography - INFO - There are 65 areas and 4 super_areas and 1 regions in the world.\n"
     ]
    }
   ],
   "source": [
    "# create empty world's geography\n",
    "world = generate_empty_world(filter_key = {\"region\" : [\"CXB-219\"]})"
   ]
  },
  {
   "cell_type": "code",
   "execution_count": 7,
   "metadata": {},
   "outputs": [],
   "source": [
    "# populate empty world\n",
    "populate_world(world)"
   ]
  },
  {
   "cell_type": "code",
   "execution_count": 8,
   "metadata": {},
   "outputs": [
    {
     "name": "stdout",
     "output_type": "stream",
     "text": [
      "Distributing 468 people to CXB-219-001\n",
      "Distributing 369 people to CXB-219-002\n",
      "Distributing 330 people to CXB-219-003\n",
      "Distributing 386 people to CXB-219-004\n",
      "Distributing 314 people to CXB-219-005\n",
      "Distributing 331 people to CXB-219-006\n",
      "Distributing 258 people to CXB-219-007\n",
      "Distributing 350 people to CXB-219-009\n",
      "Distributing 274 people to CXB-219-010\n",
      "Distributing 248 people to CXB-219-011\n",
      "Distributing 464 people to CXB-219-012\n",
      "Distributing 418 people to CXB-219-013\n",
      "Distributing 460 people to CXB-219-014\n",
      "Distributing 383 people to CXB-219-017\n",
      "Distributing 417 people to CXB-219-020\n",
      "Distributing 425 people to CXB-219-021\n",
      "Distributing 414 people to CXB-219-022\n",
      "Distributing 383 people to CXB-219-024\n",
      "Distributing 377 people to CXB-219-025\n",
      "Distributing 379 people to CXB-219-026\n",
      "Distributing 413 people to CXB-219-027\n",
      "Distributing 391 people to CXB-219-028\n",
      "Distributing 331 people to CXB-219-029\n",
      "Distributing 459 people to CXB-219-030\n",
      "Distributing 394 people to CXB-219-032\n",
      "Distributing 339 people to CXB-219-033\n",
      "Distributing 373 people to CXB-219-034\n",
      "Distributing 260 people to CXB-219-036\n",
      "Distributing 456 people to CXB-219-037\n",
      "Distributing 459 people to CXB-219-038\n",
      "Distributing 488 people to CXB-219-039\n",
      "Distributing 175 people to CXB-219-040\n",
      "Distributing 330 people to CXB-219-041\n",
      "Distributing 399 people to CXB-219-042\n",
      "Distributing 398 people to CXB-219-043\n",
      "Distributing 368 people to CXB-219-044\n",
      "Distributing 429 people to CXB-219-045\n",
      "Distributing 450 people to CXB-219-046\n",
      "Distributing 245 people to CXB-219-047\n",
      "Distributing 311 people to CXB-219-048\n",
      "Distributing 335 people to CXB-219-049\n",
      "Distributing 206 people to CXB-219-050\n",
      "Distributing 343 people to CXB-219-051\n",
      "Distributing 347 people to CXB-219-052\n",
      "Distributing 533 people to CXB-219-053\n",
      "Distributing 381 people to CXB-219-054\n",
      "Distributing 253 people to CXB-219-055\n",
      "Distributing 274 people to CXB-219-056\n",
      "Distributing 246 people to CXB-219-057\n",
      "Distributing 376 people to CXB-219-058\n",
      "Distributing 342 people to CXB-219-059\n",
      "Distributing 330 people to CXB-219-060\n",
      "Distributing 413 people to CXB-219-061\n",
      "Distributing 258 people to CXB-219-062\n",
      "Distributing 287 people to CXB-219-063\n",
      "Distributing 194 people to CXB-219-064\n",
      "Distributing 212 people to CXB-219-065\n",
      "Distributing 329 people to CXB-219-066\n",
      "Distributing 314 people to CXB-219-067\n",
      "Distributing 385 people to CXB-219-068\n",
      "Distributing 552 people to CXB-219-069\n",
      "Distributing 322 people to CXB-219-070\n",
      "Distributing 216 people to CXB-219-071\n",
      "Distributing 314 people to CXB-234-001\n",
      "Distributing 275 people to CXB-234-002\n"
     ]
    }
   ],
   "source": [
    "# distribute people to households\n",
    "distribute_people_to_households(world)"
   ]
  },
  {
   "cell_type": "code",
   "execution_count": 9,
   "metadata": {},
   "outputs": [
    {
     "name": "stdout",
     "output_type": "stream",
     "text": [
      "2022-07-22 13:52:17,839 - learning_centers - INFO - There are 1243 learning center(s)\n"
     ]
    }
   ],
   "source": [
    "LearningCenters.Get_Interaction(Interactions_File_Path)\n",
    "world.learning_centers = LearningCenters.for_areas(world.areas)\n",
    "\n",
    "learningcenter_distributor = LearningCenterDistributor.from_file(world.learning_centers)\n",
    "\n",
    "learningcenter_distributor.distribute_teachers_to_learning_centers(world.areas)\n",
    "learningcenter_distributor.distribute_kids_to_learning_centers(world.areas)"
   ]
  },
  {
   "cell_type": "code",
   "execution_count": 10,
   "metadata": {},
   "outputs": [
    {
     "name": "stdout",
     "output_type": "stream",
     "text": [
      "2022-07-22 13:52:18,805 - hospitals - INFO - There are 8 hospitals in the world.\n",
      "2022-07-22 13:52:18,818 - isolation units - INFO - There are 8 isolation unit(s)\n"
     ]
    }
   ],
   "source": [
    "# distribute hospitals\n",
    "Hospitals.Get_Interaction(Interactions_File_Path)\n",
    "IsolationUnits.Get_Interaction(Interactions_File_Path)\n",
    "\n",
    "hospitals = Hospitals.from_file(\n",
    "    filename=Hospitals_File_Path\n",
    ")\n",
    "\n",
    "\n",
    "for hospital in hospitals:\n",
    "    hospital.area = world.areas.get_closest_area(hospital.coordinates)\n",
    "    \n",
    "world.hospitals = hospitals\n",
    "hospital_distributor = HospitalDistributor(\n",
    "    hospitals, medic_min_age=20, patients_per_medic=10\n",
    ")\n",
    "hospital_distributor.assign_closest_hospitals_to_super_areas(\n",
    "    world.super_areas\n",
    ")\n",
    "\n",
    "world.isolation_units = IsolationUnits([IsolationUnit(area=hospital.area) for hospital in world.hospitals])\n",
    "hospital_distributor.distribute_medics_from_world(world.people)"
   ]
  },
  {
   "cell_type": "code",
   "execution_count": 11,
   "metadata": {},
   "outputs": [
    {
     "name": "stdout",
     "output_type": "stream",
     "text": [
      "2022-07-22 13:52:18,896 - social_venue - INFO - Domain 0 has 82 pump_latrines(s)\n",
      "2022-07-22 13:52:19,024 - social_venue - INFO - Domain 0 has 539 play_groups(s)\n",
      "2022-07-22 13:52:19,074 - social_venue - INFO - Domain 0 has 21 distribution_centers(s)\n",
      "2022-07-22 13:52:19,170 - social_venue - INFO - Domain 0 has 115 communals(s)\n",
      "2022-07-22 13:52:19,242 - social_venue - INFO - Domain 0 has 67 female_communals(s)\n",
      "2022-07-22 13:52:20,516 - social_venue - INFO - Domain 0 has 2065 religiouss(s)\n",
      "2022-07-22 13:52:20,570 - social_venue - INFO - Domain 0 has 7 e_vouchers(s)\n",
      "2022-07-22 13:52:20,641 - social_venue - INFO - Domain 0 has 41 n_f_distribution_centers(s)\n",
      "2022-07-22 13:52:20,695 - social_venue - INFO - Domain 0 has 80 informal_works(s)\n"
     ]
    }
   ],
   "source": [
    "PumpLatrines.Get_Interaction(Interactions_File_Path)\n",
    "world.pump_latrines = PumpLatrines.for_areas(world.areas)\n",
    "\n",
    "PlayGroups.Get_Interaction(Interactions_File_Path)\n",
    "world.play_groups = PlayGroups.for_areas(world.areas)\n",
    "\n",
    "DistributionCenters.Get_Interaction(Interactions_File_Path)\n",
    "world.distribution_centers = DistributionCenters.for_areas(world.areas)\n",
    "\n",
    "Communals.Get_Interaction(Interactions_File_Path)\n",
    "world.communals = Communals.for_areas(world.areas)\n",
    "\n",
    "FemaleCommunals.Get_Interaction(Interactions_File_Path)\n",
    "world.female_communals = FemaleCommunals.for_areas(world.areas)\n",
    "\n",
    "Religiouss.Get_Interaction(Interactions_File_Path)\n",
    "world.religiouss = Religiouss.for_areas(world.areas)\n",
    "\n",
    "EVouchers.Get_Interaction(Interactions_File_Path)\n",
    "world.e_vouchers = EVouchers.for_areas(world.areas)\n",
    "\n",
    "NFDistributionCenters.Get_Interaction(Interactions_File_Path)\n",
    "world.n_f_distribution_centers = NFDistributionCenters.for_areas(world.areas)\n",
    "\n",
    "InformalWorks.Get_Interaction(Interactions_File_Path)\n",
    "world.informal_works = InformalWorks.for_areas(world.areas)"
   ]
  },
  {
   "cell_type": "code",
   "execution_count": 12,
   "metadata": {},
   "outputs": [
    {
     "name": "stdout",
     "output_type": "stream",
     "text": [
      "cemetery not defined in interaction yaml or defualt options\n"
     ]
    }
   ],
   "source": [
    "world.cemeteries = Cemeteries()"
   ]
  },
  {
   "cell_type": "markdown",
   "metadata": {},
   "source": [
    "## Geography exploration"
   ]
  },
  {
   "cell_type": "markdown",
   "metadata": {},
   "source": [
    "The geography is initialised first and can be explored."
   ]
  },
  {
   "cell_type": "markdown",
   "metadata": {},
   "source": [
    "### UNHCR camp blocks inside the World"
   ]
  },
  {
   "cell_type": "code",
   "execution_count": 13,
   "metadata": {},
   "outputs": [],
   "source": [
    "super_areas = []\n",
    "for super_area in world.super_areas:\n",
    "    super_areas.append(super_area.name)"
   ]
  },
  {
   "cell_type": "code",
   "execution_count": 14,
   "metadata": {},
   "outputs": [
    {
     "data": {
      "text/plain": [
       "['CXB-219-A', 'CXB-219-B', 'CXB-219-C', 'CXB-219-D']"
      ]
     },
     "execution_count": 14,
     "metadata": {},
     "output_type": "execute_result"
    }
   ],
   "source": [
    "super_areas[:5]"
   ]
  },
  {
   "cell_type": "markdown",
   "metadata": {},
   "source": [
    "### Mahjee blocks inside World"
   ]
  },
  {
   "cell_type": "code",
   "execution_count": 15,
   "metadata": {},
   "outputs": [],
   "source": [
    "areas = []\n",
    "for area in world.areas:\n",
    "    areas.append(area.name)"
   ]
  },
  {
   "cell_type": "code",
   "execution_count": 16,
   "metadata": {},
   "outputs": [
    {
     "data": {
      "text/plain": [
       "['CXB-219-001', 'CXB-219-002', 'CXB-219-003', 'CXB-219-004', 'CXB-219-005']"
      ]
     },
     "execution_count": 16,
     "metadata": {},
     "output_type": "execute_result"
    }
   ],
   "source": [
    "areas[:5]"
   ]
  },
  {
   "cell_type": "markdown",
   "metadata": {},
   "source": [
    "## Demography exploration"
   ]
  },
  {
   "cell_type": "markdown",
   "metadata": {},
   "source": [
    "Once we have populated the 'digital twin' we can explore some of the attributes of the people we have created in the simulation."
   ]
  },
  {
   "cell_type": "markdown",
   "metadata": {},
   "source": [
    "### UNHCR block residents"
   ]
  },
  {
   "cell_type": "code",
   "execution_count": 17,
   "metadata": {},
   "outputs": [],
   "source": [
    "sample_ages = []\n",
    "sample_sexes = []\n",
    "for person in world.super_areas.members[0].people:\n",
    "    sample_ages.append(person.age)\n",
    "    sample_sexes.append(person.sex)"
   ]
  },
  {
   "cell_type": "code",
   "execution_count": 18,
   "metadata": {},
   "outputs": [
    {
     "data": {
      "text/plain": [
       "(['f', 'f', 'm', 'm', 'm'], [35, 52, 59, 58, 58])"
      ]
     },
     "execution_count": 18,
     "metadata": {},
     "output_type": "execute_result"
    }
   ],
   "source": [
    "sample_sexes[:5], sample_ages[:5]"
   ]
  },
  {
   "cell_type": "code",
   "execution_count": 19,
   "metadata": {},
   "outputs": [
    {
     "data": {
      "image/png": "[encoded data removed]",
      "text/plain": [
       "<Figure size 432x288 with 1 Axes>"
      ]
     },
     "metadata": {
      "needs_background": "light"
     },
     "output_type": "display_data"
    }
   ],
   "source": [
    "ages, counts = np.unique(sample_ages, return_counts=True)\n",
    "plt.bar(ages, counts)\n",
    "plt.title('super area: {} age distribution'.format(world.super_areas.members[0].name))\n",
    "plt.show()"
   ]
  },
  {
   "cell_type": "code",
   "execution_count": 20,
   "metadata": {},
   "outputs": [
    {
     "name": "stdout",
     "output_type": "stream",
     "text": [
      "The % children between ages 0-16 is 49%\n"
     ]
    }
   ],
   "source": [
    "print ('The % children between ages 0-16 is {}%'.format(round(np.sum(counts[:16])/(np.sum(counts[:16])+np.sum(counts[16:]))*100)))"
   ]
  },
  {
   "cell_type": "markdown",
   "metadata": {},
   "source": [
    "## Households"
   ]
  },
  {
   "cell_type": "markdown",
   "metadata": {},
   "source": [
    "In this model, we will use the term 'family' and 'household' interchangeably. After populating the 'digital twin', we need to cluster people into families. To do this, we take account of age structure so that children live with adults, that there are some intergenerational households and such that we might also have some households of only adults."
   ]
  },
  {
   "cell_type": "markdown",
   "metadata": {},
   "source": [
    "### Household size distribution"
   ]
  },
  {
   "cell_type": "code",
   "execution_count": 21,
   "metadata": {},
   "outputs": [
    {
     "data": {
      "image/png": "[encoded data removed]",
      "text/plain": [
       "<Figure size 432x288 with 1 Axes>"
      ]
     },
     "metadata": {
      "needs_background": "light"
     },
     "output_type": "display_data"
    }
   ],
   "source": [
    "household_sizes = [household.size for household in world.households]\n",
    "plt.hist(household_sizes, density=True, bins=np.arange(0,12))\n",
    "plt.xlabel(\"Household size\")\n",
    "plt.ylabel(\"Frequency\")\n",
    "plt.axvline(np.mean(household_sizes), color=\"cyan\")\n",
    "plt.text(8, 0.150, f\"Avg. size: {(np.mean(household_sizes)):.2f}\")\n",
    "plt.show()"
   ]
  },
  {
   "cell_type": "markdown",
   "metadata": {},
   "source": [
    "# Shelters"
   ]
  },
  {
   "cell_type": "markdown",
   "metadata": {},
   "source": [
    "Shelters house people in the camp. Since we know that families (houseohlds) often share shelters with other families, we can set the `sharing_shelter_ratio` to cluster families into shared shelters."
   ]
  },
  {
   "cell_type": "code",
   "execution_count": 22,
   "metadata": {},
   "outputs": [],
   "source": [
    "Shelters.Get_Interaction(Interactions_File_Path)\n",
    "world.shelters = Shelters.for_areas(world.areas)\n",
    "shelter_distributor = ShelterDistributor(sharing_shelter_ratio = 0.75) # proportion of families that share a shelter\n",
    "for area in world.areas:\n",
    "    shelter_distributor.distribute_people_in_shelters(area.shelters, area.households)"
   ]
  },
  {
   "cell_type": "code",
   "execution_count": 23,
   "metadata": {},
   "outputs": [
    {
     "data": {
      "image/png": "[encoded data removed]",
      "text/plain": [
       "<Figure size 576x216 with 2 Axes>"
      ]
     },
     "metadata": {
      "needs_background": "light"
     },
     "output_type": "display_data"
    }
   ],
   "source": [
    "fig, ax = plt.subplots(1, 2, figsize=(8,3))\n",
    "shelter_sizes = [shelter.size for shelter in world.shelters]\n",
    "shelter_families = [shelter.n_families for shelter in world.shelters]\n",
    "ax[0].hist(shelter_sizes)\n",
    "ax[0].set_title(\"Shelter size\")\n",
    "shelter_families = {1 : len([shelter for shelter in world.shelters if shelter.n_families == 1]),\n",
    "                    2 : len([shelter for shelter in world.shelters if shelter.n_families == 2])}\n",
    "ax[1].bar(shelter_families.keys(), shelter_families.values())\n",
    "ax[1].set_title(\"# families per shelter\")\n",
    "plt.show()"
   ]
  },
  {
   "cell_type": "markdown",
   "metadata": {},
   "source": [
    "## Activity exploration"
   ]
  },
  {
   "cell_type": "markdown",
   "metadata": {},
   "source": [
    "Once different activity locations are seeded in the 'digital twin' we can explore how many there are in different areas of the twin, and their coordinates to check they've all been added correctly."
   ]
  },
  {
   "cell_type": "markdown",
   "metadata": {},
   "source": [
    "### Pumps and latrines "
   ]
  },
  {
   "cell_type": "code",
   "execution_count": 24,
   "metadata": {},
   "outputs": [],
   "source": [
    "pumps_and_latrines = []\n",
    "for pump_latrine in world.areas.members[0].pump_latrines:\n",
    "    pumps_and_latrines.append(pump_latrine)"
   ]
  },
  {
   "cell_type": "code",
   "execution_count": 25,
   "metadata": {},
   "outputs": [
    {
     "name": "stdout",
     "output_type": "stream",
     "text": [
      "There are 2 pumps and latrines in area CXB-219-001\n"
     ]
    }
   ],
   "source": [
    "print ('There are {} pumps and latrines in area {}'.format(len(pumps_and_latrines), world.areas.members[0].name))"
   ]
  },
  {
   "cell_type": "markdown",
   "metadata": {},
   "source": [
    "### Informal work"
   ]
  },
  {
   "cell_type": "code",
   "execution_count": 26,
   "metadata": {},
   "outputs": [],
   "source": [
    "Informal_work_Sites = []\n",
    "for informal_work in world.areas.members[0].informal_works:\n",
    "    Informal_work_Sites.append(informal_work)"
   ]
  },
  {
   "cell_type": "code",
   "execution_count": 27,
   "metadata": {},
   "outputs": [
    {
     "name": "stdout",
     "output_type": "stream",
     "text": [
      "There are 2 informal work sites in area CXB-219-001\n"
     ]
    }
   ],
   "source": [
    "print ('There are {} informal work sites in area {}'.format(len(Informal_work_Sites), world.areas.members[0].name))"
   ]
  },
  {
   "cell_type": "markdown",
   "metadata": {},
   "source": [
    "### Distribution centers"
   ]
  },
  {
   "cell_type": "code",
   "execution_count": 28,
   "metadata": {},
   "outputs": [],
   "source": [
    "distribution_centers = []\n",
    "for center in world.distribution_centers:\n",
    "    distribution_centers.append(center)"
   ]
  },
  {
   "cell_type": "code",
   "execution_count": 29,
   "metadata": {},
   "outputs": [
    {
     "data": {
      "text/plain": [
       "array([21.2136    , 92.15678833])"
      ]
     },
     "execution_count": 29,
     "metadata": {},
     "output_type": "execute_result"
    }
   ],
   "source": [
    "distribution_centers[0].coordinates"
   ]
  },
  {
   "cell_type": "markdown",
   "metadata": {},
   "source": [
    "### Non-food Distribution centers"
   ]
  },
  {
   "cell_type": "code",
   "execution_count": 30,
   "metadata": {},
   "outputs": [],
   "source": [
    "non_food_distribution_centers = []\n",
    "for center in world.n_f_distribution_centers:\n",
    "    non_food_distribution_centers.append(center)"
   ]
  },
  {
   "cell_type": "code",
   "execution_count": 31,
   "metadata": {},
   "outputs": [
    {
     "data": {
      "text/plain": [
       "array([21.21268167, 92.1438    ])"
      ]
     },
     "execution_count": 31,
     "metadata": {},
     "output_type": "execute_result"
    }
   ],
   "source": [
    "non_food_distribution_centers[0].coordinates"
   ]
  },
  {
   "cell_type": "markdown",
   "metadata": {},
   "source": [
    "### E-Voucher outlets"
   ]
  },
  {
   "cell_type": "code",
   "execution_count": 32,
   "metadata": {},
   "outputs": [],
   "source": [
    "e_voucher_outlets = []\n",
    "for center in world.e_vouchers:\n",
    "    e_voucher_outlets.append(center)"
   ]
  },
  {
   "cell_type": "code",
   "execution_count": 33,
   "metadata": {},
   "outputs": [
    {
     "data": {
      "text/plain": [
       "array([21.212945, 92.142915])"
      ]
     },
     "execution_count": 33,
     "metadata": {},
     "output_type": "execute_result"
    }
   ],
   "source": [
    "e_voucher_outlets[0].coordinates"
   ]
  },
  {
   "cell_type": "markdown",
   "metadata": {},
   "source": [
    "### Communal spaces"
   ]
  },
  {
   "cell_type": "code",
   "execution_count": 34,
   "metadata": {},
   "outputs": [],
   "source": [
    "communal_spaces = []\n",
    "for space in world.communals:\n",
    "    communal_spaces.append(space)"
   ]
  },
  {
   "cell_type": "code",
   "execution_count": 35,
   "metadata": {},
   "outputs": [
    {
     "data": {
      "text/plain": [
       "array([21.19508, 92.16525])"
      ]
     },
     "execution_count": 35,
     "metadata": {},
     "output_type": "execute_result"
    }
   ],
   "source": [
    "communal_spaces[0].coordinates"
   ]
  },
  {
   "cell_type": "markdown",
   "metadata": {},
   "source": [
    "### Female friendly communal spaces"
   ]
  },
  {
   "cell_type": "code",
   "execution_count": 36,
   "metadata": {},
   "outputs": [],
   "source": [
    "female_communal_spaces = []\n",
    "for space in world.female_communals:\n",
    "    female_communal_spaces.append(space)"
   ]
  },
  {
   "cell_type": "code",
   "execution_count": 37,
   "metadata": {},
   "outputs": [
    {
     "data": {
      "text/plain": [
       "array([21.20686305, 92.16070923])"
      ]
     },
     "execution_count": 37,
     "metadata": {},
     "output_type": "execute_result"
    }
   ],
   "source": [
    "female_communal_spaces[0].coordinates"
   ]
  },
  {
   "cell_type": "markdown",
   "metadata": {},
   "source": [
    "### Religious sites"
   ]
  },
  {
   "cell_type": "code",
   "execution_count": 38,
   "metadata": {},
   "outputs": [],
   "source": [
    "religious = []\n",
    "for rel in world.religiouss:\n",
    "    religious.append(rel)"
   ]
  },
  {
   "cell_type": "code",
   "execution_count": 39,
   "metadata": {},
   "outputs": [
    {
     "data": {
      "text/plain": [
       "array([21.21804605, 92.1546829 ])"
      ]
     },
     "execution_count": 39,
     "metadata": {},
     "output_type": "execute_result"
    }
   ],
   "source": [
    "religious[0].coordinates"
   ]
  },
  {
   "cell_type": "markdown",
   "metadata": {},
   "source": [
    "# Adding the infection"
   ]
  },
  {
   "cell_type": "markdown",
   "metadata": {},
   "source": [
    "The selector handles how infections are handled in the code. You can set different 'symptom trajectories' (e.g. exposed->mild->severe->hospitalised->intensive care) from different files. Here, we use the default."
   ]
  },
  {
   "cell_type": "code",
   "execution_count": 40,
   "metadata": {},
   "outputs": [],
   "source": [
    "selector = InfectionSelector.from_file()"
   ]
  },
  {
   "cell_type": "code",
   "execution_count": 41,
   "metadata": {},
   "outputs": [],
   "source": [
    "selectors = InfectionSelectors([selector])"
   ]
  },
  {
   "cell_type": "markdown",
   "metadata": {},
   "source": [
    "# Adding the interaction"
   ]
  },
  {
   "cell_type": "markdown",
   "metadata": {},
   "source": [
    "The interaction class handles how many contacts people have in different locations and with who. If contact matrices are available, these can be coded in a `.yaml` file and fed into the class here."
   ]
  },
  {
   "cell_type": "code",
   "execution_count": 42,
   "metadata": {},
   "outputs": [],
   "source": [
    "interaction = Interaction.from_file(\n",
    "    config_filename=Interactions_File_Path,\n",
    ")"
   ]
  },
  {
   "cell_type": "markdown",
   "metadata": {},
   "source": [
    "# Set policies"
   ]
  },
  {
   "cell_type": "markdown",
   "metadata": {},
   "source": [
    "Policies control how 'operational interventions' are set in the camp. Here we set some social distancing policies, policies relating to medical care, such as people with severe symptoms being hospitalised, and individual and activity policies which can dynamically change how often and where people go, e.g. here, we close all female communal spaces and non-food distirbution centers which the camp did back in March"
   ]
  },
  {
   "cell_type": "code",
   "execution_count": 43,
   "metadata": {},
   "outputs": [],
   "source": [
    "policies = Policies.from_file(\n",
    "        Policies_File_Path,\n",
    "        base_policy_modules=(\"june.policy\", \"camps.policy\"),\n",
    "    )"
   ]
  },
  {
   "cell_type": "code",
   "execution_count": 44,
   "metadata": {},
   "outputs": [
    {
     "data": {
      "text/plain": [
       "[<june.policy.interaction_policies.SocialDistancing at 0x7fe1afa8c610>,\n",
       " <june.policy.medical_care_policies.Hospitalisation at 0x7fe1afa8c910>,\n",
       " <june.policy.individual_policies.SevereSymptomsStayHome at 0x7fe1afa8cd30>,\n",
       " <june.policy.individual_policies.Quarantine at 0x7fe1afa8c6a0>]"
      ]
     },
     "execution_count": 44,
     "metadata": {},
     "output_type": "execute_result"
    }
   ],
   "source": [
    "policies.policies"
   ]
  },
  {
   "cell_type": "markdown",
   "metadata": {},
   "source": [
    "# Seed the disease"
   ]
  },
  {
   "cell_type": "markdown",
   "metadata": {},
   "source": [
    "Set intial seeding conditions. This can be done at the camp level specifically, or generally by seeding them randomly. Here the `n_cases` is the number of randomly seeded people over the entire population."
   ]
  },
  {
   "cell_type": "code",
   "execution_count": 45,
   "metadata": {},
   "outputs": [],
   "source": [
    "infection_seed = InfectionSeed.from_uniform_cases(\n",
    "    world=world, infection_selector=selector, cases_per_capita=0.01, date=\"2020-05-24 9:00\", seed_past_infections=False,\n",
    ")"
   ]
  },
  {
   "cell_type": "code",
   "execution_count": 46,
   "metadata": {},
   "outputs": [],
   "source": [
    "infection_seeds = InfectionSeeds([infection_seed])"
   ]
  },
  {
   "cell_type": "code",
   "execution_count": 47,
   "metadata": {},
   "outputs": [],
   "source": [
    "immunity_setter = ImmunitySetter.from_file_with_comorbidities(\n",
    "    comorbidity_multipliers_path= comorbidity_multipliers_path,\n",
    "    male_comorbidity_reference_prevalence_path= male_comorbidity_reference_prevalence_path,\n",
    "    female_comorbidity_reference_prevalence_path = female_comorbidity_reference_prevalence_path,   \n",
    ")"
   ]
  },
  {
   "cell_type": "code",
   "execution_count": 48,
   "metadata": {},
   "outputs": [],
   "source": [
    "epidemiology = Epidemiology(\n",
    "    infection_selectors=selectors,\n",
    "    infection_seeds=infection_seeds,\n",
    "    immunity_setter=immunity_setter,\n",
    ")"
   ]
  },
  {
   "cell_type": "markdown",
   "metadata": {},
   "source": [
    "## Select config file"
   ]
  },
  {
   "cell_type": "markdown",
   "metadata": {},
   "source": [
    "Before running the simualtion we must select the config file which defines how the world is set up and the simualtor will work. Specifically, the condif file specifies which activities will be included, how long we'll run the simualtion for, what the initial starting day will be and what the structure of weekdays and weekends will look like (if different)"
   ]
  },
  {
   "cell_type": "code",
   "execution_count": 49,
   "metadata": {},
   "outputs": [],
   "source": [
    "CONFIG_PATH = Config_File_Path"
   ]
  },
  {
   "cell_type": "markdown",
   "metadata": {},
   "source": [
    "# Initialise activities"
   ]
  },
  {
   "cell_type": "markdown",
   "metadata": {},
   "source": [
    "The final step to intialising the simulator class which brings all of this together is to inialise all the activity distirbutors (the term 'leisure' is a legacy of the original version of this code used for modelling COVID-19 in the UK). This will mean that people know where they can go at and given time."
   ]
  },
  {
   "cell_type": "code",
   "execution_count": 50,
   "metadata": {},
   "outputs": [
    {
     "name": "stdout",
     "output_type": "stream",
     "text": [
      "2022-07-22 13:52:22,960 - leisure - INFO - Linking households and care homes for visits\n",
      "2022-07-22 13:52:22,960 - leisure - INFO - Done\n",
      "2022-07-22 13:52:22,961 - leisure - INFO - Distributing social venues to areas\n",
      "2022-07-22 13:52:22,962 - leisure - INFO - Distributed in 0 of 65 areas.\n",
      "2022-07-22 13:52:23,048 - leisure - INFO - Distributed in 65 of 65 areas.\n"
     ]
    }
   ],
   "source": [
    "leisure = generate_leisure_for_config(world=world, config_filename=CONFIG_PATH)\n",
    "# associate social activities to shelters\n",
    "leisure.distribute_social_venues_to_areas(world.areas, world.super_areas)"
   ]
  },
  {
   "cell_type": "markdown",
   "metadata": {},
   "source": [
    "# Define a contact Tracker"
   ]
  },
  {
   "cell_type": "markdown",
   "metadata": {},
   "source": [
    "We define a list of venues in which to track. This is fed into JUNE's tracker class. We can specify tracking contacts by sex, the type of possible contacts \"1D\" (simulated contacts based on the input interaction matrices) or \"All\" (everyone at each venue contacts each other). Lastly we can find a subset of venues upto N but defining MaxVenueTrackingSize=N."
   ]
  },
  {
   "cell_type": "code",
   "execution_count": 51,
   "metadata": {},
   "outputs": [],
   "source": [
    "group_types=[\n",
    "        world.hospitals,\n",
    "        world.distribution_centers,\n",
    "        world.communals,\n",
    "        world.female_communals,\n",
    "        world.pump_latrines,\n",
    "        world.religiouss,\n",
    "        world.play_groups,\n",
    "        world.e_vouchers,\n",
    "        world.n_f_distribution_centers,\n",
    "        world.shelters,\n",
    "        world.learning_centers,\n",
    "        world.informal_works,\n",
    "        world.isolation_units,\n",
    "    ]\n",
    "\n",
    "tracker = Tracker(\n",
    "    world=world,\n",
    "    record_path=Results_Path,\n",
    "    group_types=group_types,\n",
    "    load_interactions_path=Interactions_File_Path,\n",
    "    contact_sexes=[\"unisex\", \"male\", \"female\"],\n",
    "    Tracker_Contact_Type=[\"1D\", \"All\"],\n",
    "    MaxVenueTrackingSize = 500\n",
    ")"
   ]
  },
  {
   "cell_type": "markdown",
   "metadata": {},
   "source": [
    "# Initialise simulator and run"
   ]
  },
  {
   "cell_type": "markdown",
   "metadata": {},
   "source": [
    "The recorder is defined which will log all interactions and infections in the simualation for later analysis. The `record_path` can be changed to any path where you want the recorded data to be stored."
   ]
  },
  {
   "cell_type": "code",
   "execution_count": 52,
   "metadata": {},
   "outputs": [],
   "source": [
    "record = Record(\n",
    "    record_path=Results_Path, \n",
    "    record_static_data=True\n",
    ")\n"
   ]
  },
  {
   "cell_type": "markdown",
   "metadata": {},
   "source": [
    "The simulator is defined with all the different necessary components we have built up so far"
   ]
  },
  {
   "cell_type": "code",
   "execution_count": 53,
   "metadata": {},
   "outputs": [],
   "source": [
    "Simulator.ActivityManager = CampActivityManager\n",
    "simulator = Simulator.from_file(\n",
    "    world=world,\n",
    "    interaction=interaction,\n",
    "    tracker=tracker,\n",
    "    leisure=leisure,\n",
    "    policies=policies,\n",
    "    config_filename=CONFIG_PATH,\n",
    "    epidemiology=epidemiology,\n",
    "    record=record,\n",
    ")"
   ]
  },
  {
   "cell_type": "markdown",
   "metadata": {},
   "source": [
    "Finally we can run a small simualation"
   ]
  },
  {
   "cell_type": "code",
   "execution_count": 54,
   "metadata": {
    "scrolled": true
   },
   "outputs": [
    {
     "name": "stdout",
     "output_type": "stream",
     "text": [
      "2022-07-22 13:52:23,877 - simulator - INFO - Starting simulation for 7 days at day 2020-05-24 09:00:00,to run for 7 days\n",
      "2022-07-22 13:52:23,966 - seed - INFO - Seeding Covid19 infections at date 2020-05-24\n",
      "2022-07-22 13:52:24,398 - rank - INFO - Next timestep\n",
      "2022-07-22 13:52:24,399 - simulator - INFO - ==================== timestep ====================\n",
      "2022-07-22 13:52:24,589 - rank - INFO - Rank 0 -- move_people -- 0.1890837980026845\n",
      "2022-07-22 13:52:24,590 - rank - INFO - Rank 0 -- move_people_waiting -- 1.1927004379685968e-05\n",
      "2022-07-22 13:52:24,591 - activity_manager - INFO - CMS: People COMS for rank 0/1 - 5.136003892403096e-06,4.76837158203125e-06 - 2020-05-24 09:00:00\n",
      "2022-07-22 13:52:24,600 - simulator - INFO - Info for rank 0, Date = 2020-05-24 09:00:00, number of deaths =  0, number of infected = 216\n",
      "2022-07-22 13:52:24,694 - rank - INFO - Rank 0 -- interaction -- 0.10174853199714562\n",
      "2022-07-22 13:52:24,695 - tracker - INFO - Rank 0 -- tracking contacts -- 8 of 8 of type hospital\n",
      "2022-07-22 13:52:24,703 - tracker - INFO - Rank 0 -- tracking contacts -- 8 of 8 of type isolation_unit\n",
      "2022-07-22 13:52:24,711 - tracker - INFO - Rank 0 -- tracking contacts -- 500 of 3270 of type shelter\n",
      "2022-07-22 13:52:25,409 - tracker - INFO - Rank 0 -- tracking contacts -- 389 of 389 of type learning_center\n",
      "2022-07-22 13:52:26,342 - tracker - INFO - Rank 0 -- tracking contacts -- 115 of 115 of type communal\n",
      "2022-07-22 13:52:26,344 - tracker - INFO - Rank 0 -- tracking contacts -- 21 of 21 of type distribution_center\n",
      "2022-07-22 13:52:26,346 - tracker - INFO - Rank 0 -- tracking contacts -- 7 of 7 of type e_voucher\n",
      "2022-07-22 13:52:26,347 - tracker - INFO - Rank 0 -- tracking contacts -- 67 of 67 of type female_communal\n",
      "2022-07-22 13:52:26,350 - tracker - INFO - Rank 0 -- tracking contacts -- 80 of 80 of type informal_work\n",
      "2022-07-22 13:52:26,353 - tracker - INFO - Rank 0 -- tracking contacts -- 41 of 41 of type n_f_distribution_center\n",
      "2022-07-22 13:52:26,356 - tracker - INFO - Rank 0 -- tracking contacts -- 500 of 539 of type play_group\n",
      "2022-07-22 13:52:26,366 - tracker - INFO - Rank 0 -- tracking contacts -- 82 of 82 of type pump_latrine\n",
      "2022-07-22 13:52:26,373 - tracker - INFO - Rank 0 -- tracking contacts -- 500 of 2065 of type religious\n",
      "2022-07-22 13:52:26,382 - rank - INFO - Rank 0 -- tracker -- 1.6870701190055115\n",
      "2022-07-22 13:52:26,384 - epidemiology - INFO - CMS: Infection COMS-v2 for rank 0/1(2)0.0012372120036161505,0.001237630844116211 - 2020-05-24 09:00:00\n",
      "2022-07-22 13:52:26,515 - rank - INFO - Rank 0 -- interaction_waiting -- 7.816997822374105e-06\n",
      "2022-07-22 13:52:26,529 - simulator - INFO - CMS: Timestep for rank 0/1 - 2.129038020997541,2.1290390491485596 - 2020-05-24 09:00:00\n",
      "\n",
      "2022-07-22 13:52:26,530 - rank - INFO - Next timestep\n",
      "2022-07-22 13:52:26,530 - simulator - INFO - ==================== timestep ====================\n",
      "2022-07-22 13:52:27,755 - rank - INFO - Rank 0 -- move_people -- 1.2230962149988045\n",
      "2022-07-22 13:52:27,755 - rank - INFO - Rank 0 -- move_people_waiting -- 8.641996828373522e-06\n",
      "2022-07-22 13:52:27,756 - activity_manager - INFO - CMS: People COMS for rank 0/1 - 3.673994797281921e-06,3.337860107421875e-06 - 2020-05-24 11:00:00\n",
      "2022-07-22 13:52:27,761 - simulator - INFO - Info for rank 0, Date = 2020-05-24 11:00:00, number of deaths =  0, number of infected = 216\n",
      "2022-07-22 13:52:27,890 - rank - INFO - Rank 0 -- interaction -- 0.1333389210049063\n",
      "2022-07-22 13:52:27,891 - tracker - INFO - Rank 0 -- tracking contacts -- 8 of 8 of type hospital\n",
      "2022-07-22 13:52:27,897 - tracker - INFO - Rank 0 -- tracking contacts -- 8 of 8 of type isolation_unit\n",
      "2022-07-22 13:52:27,904 - tracker - INFO - Rank 0 -- tracking contacts -- 500 of 3270 of type shelter\n",
      "2022-07-22 13:52:28,149 - tracker - INFO - Rank 0 -- tracking contacts -- 389 of 389 of type learning_center\n",
      "2022-07-22 13:52:29,136 - tracker - INFO - Rank 0 -- tracking contacts -- 115 of 115 of type communal\n",
      "2022-07-22 13:52:29,159 - tracker - INFO - Rank 0 -- tracking contacts -- 21 of 21 of type distribution_center\n",
      "2022-07-22 13:52:29,208 - tracker - INFO - Rank 0 -- tracking contacts -- 7 of 7 of type e_voucher\n",
      "2022-07-22 13:52:29,231 - tracker - INFO - Rank 0 -- tracking contacts -- 67 of 67 of type female_communal\n",
      "2022-07-22 13:52:29,295 - tracker - INFO - Rank 0 -- tracking contacts -- 80 of 80 of type informal_work\n",
      "2022-07-22 13:52:29,370 - tracker - INFO - Rank 0 -- tracking contacts -- 41 of 41 of type n_f_distribution_center\n",
      "2022-07-22 13:52:29,496 - tracker - INFO - Rank 0 -- tracking contacts -- 500 of 539 of type play_group\n",
      "2022-07-22 13:52:29,864 - tracker - INFO - Rank 0 -- tracking contacts -- 82 of 82 of type pump_latrine\n",
      "2022-07-22 13:52:34,038 - tracker - INFO - Rank 0 -- tracking contacts -- 500 of 2065 of type religious\n",
      "2022-07-22 13:52:34,801 - rank - INFO - Rank 0 -- tracker -- 6.910277122995467\n",
      "2022-07-22 13:52:34,805 - epidemiology - INFO - CMS: Infection COMS-v2 for rank 0/1(2)0.00033142099709948525,0.0003311634063720703 - 2020-05-24 11:00:00\n",
      "2022-07-22 13:52:34,847 - rank - INFO - Rank 0 -- interaction_waiting -- 6.7739965743385255e-06\n",
      "2022-07-22 13:52:34,861 - simulator - INFO - CMS: Timestep for rank 0/1 - 8.329645934005384,8.329646348953247 - 2020-05-24 11:00:00\n",
      "\n",
      "2022-07-22 13:52:34,862 - rank - INFO - Next timestep\n",
      "2022-07-22 13:52:34,863 - simulator - INFO - ==================== timestep ====================\n",
      "2022-07-22 13:52:35,696 - rank - INFO - Rank 0 -- move_people -- 0.8318428749989835\n",
      "2022-07-22 13:52:35,696 - rank - INFO - Rank 0 -- move_people_waiting -- 6.662005034741014e-06\n",
      "2022-07-22 13:52:35,697 - activity_manager - INFO - CMS: People COMS for rank 0/1 - 3.845998435281217e-06,3.5762786865234375e-06 - 2020-05-24 13:00:00\n",
      "2022-07-22 13:52:35,704 - simulator - INFO - Info for rank 0, Date = 2020-05-24 13:00:00, number of deaths =  0, number of infected = 219\n",
      "2022-07-22 13:52:35,834 - rank - INFO - Rank 0 -- interaction -- 0.1359384579991456\n",
      "2022-07-22 13:52:35,835 - tracker - INFO - Rank 0 -- tracking contacts -- 8 of 8 of type hospital\n",
      "2022-07-22 13:52:35,843 - tracker - INFO - Rank 0 -- tracking contacts -- 8 of 8 of type isolation_unit\n",
      "2022-07-22 13:52:35,851 - tracker - INFO - Rank 0 -- tracking contacts -- 500 of 3270 of type shelter\n",
      "2022-07-22 13:52:36,131 - tracker - INFO - Rank 0 -- tracking contacts -- 389 of 389 of type learning_center\n",
      "2022-07-22 13:52:37,154 - tracker - INFO - Rank 0 -- tracking contacts -- 115 of 115 of type communal\n",
      "2022-07-22 13:52:37,173 - tracker - INFO - Rank 0 -- tracking contacts -- 21 of 21 of type distribution_center\n",
      "2022-07-22 13:52:37,220 - tracker - INFO - Rank 0 -- tracking contacts -- 7 of 7 of type e_voucher\n",
      "2022-07-22 13:52:37,237 - tracker - INFO - Rank 0 -- tracking contacts -- 67 of 67 of type female_communal\n",
      "2022-07-22 13:52:37,291 - tracker - INFO - Rank 0 -- tracking contacts -- 80 of 80 of type informal_work\n",
      "2022-07-22 13:52:37,369 - tracker - INFO - Rank 0 -- tracking contacts -- 41 of 41 of type n_f_distribution_center\n",
      "2022-07-22 13:52:37,486 - tracker - INFO - Rank 0 -- tracking contacts -- 500 of 539 of type play_group\n",
      "2022-07-22 13:52:37,854 - tracker - INFO - Rank 0 -- tracking contacts -- 82 of 82 of type pump_latrine\n",
      "2022-07-22 13:52:42,122 - tracker - INFO - Rank 0 -- tracking contacts -- 500 of 2065 of type religious\n",
      "2022-07-22 13:52:43,071 - rank - INFO - Rank 0 -- tracker -- 7.235852913996496\n",
      "2022-07-22 13:52:43,077 - epidemiology - INFO - CMS: Infection COMS-v2 for rank 0/1(2)0.0005936819943599403,0.0005929470062255859 - 2020-05-24 13:00:00\n",
      "2022-07-22 13:52:43,118 - rank - INFO - Rank 0 -- interaction_waiting -- 6.832000508438796e-06\n",
      "2022-07-22 13:52:43,132 - simulator - INFO - CMS: Timestep for rank 0/1 - 8.268317021997063,8.268318891525269 - 2020-05-24 13:00:00\n",
      "\n",
      "2022-07-22 13:52:43,133 - rank - INFO - Next timestep\n",
      "2022-07-22 13:52:43,134 - simulator - INFO - ==================== timestep ====================\n",
      "2022-07-22 13:52:43,945 - rank - INFO - Rank 0 -- move_people -- 0.8097955889970763\n",
      "2022-07-22 13:52:43,946 - rank - INFO - Rank 0 -- move_people_waiting -- 1.0105999535880983e-05\n",
      "2022-07-22 13:52:43,946 - activity_manager - INFO - CMS: People COMS for rank 0/1 - 3.4220065572299063e-06,3.0994415283203125e-06 - 2020-05-24 15:00:00\n"
     ]
    },
    {
     "name": "stdout",
     "output_type": "stream",
     "text": [
      "2022-07-22 13:52:43,952 - simulator - INFO - Info for rank 0, Date = 2020-05-24 15:00:00, number of deaths =  0, number of infected = 228\n",
      "2022-07-22 13:52:44,081 - rank - INFO - Rank 0 -- interaction -- 0.13429896799789276\n",
      "2022-07-22 13:52:44,083 - tracker - INFO - Rank 0 -- tracking contacts -- 8 of 8 of type hospital\n",
      "2022-07-22 13:52:44,093 - tracker - INFO - Rank 0 -- tracking contacts -- 8 of 8 of type isolation_unit\n",
      "2022-07-22 13:52:44,106 - tracker - INFO - Rank 0 -- tracking contacts -- 500 of 3270 of type shelter\n",
      "2022-07-22 13:52:44,370 - tracker - INFO - Rank 0 -- tracking contacts -- 389 of 389 of type learning_center\n",
      "2022-07-22 13:52:45,244 - tracker - INFO - Rank 0 -- tracking contacts -- 115 of 115 of type communal\n",
      "2022-07-22 13:52:45,267 - tracker - INFO - Rank 0 -- tracking contacts -- 21 of 21 of type distribution_center\n",
      "2022-07-22 13:52:45,319 - tracker - INFO - Rank 0 -- tracking contacts -- 7 of 7 of type e_voucher\n",
      "2022-07-22 13:52:45,332 - tracker - INFO - Rank 0 -- tracking contacts -- 67 of 67 of type female_communal\n",
      "2022-07-22 13:52:45,392 - tracker - INFO - Rank 0 -- tracking contacts -- 80 of 80 of type informal_work\n",
      "2022-07-22 13:52:45,460 - tracker - INFO - Rank 0 -- tracking contacts -- 41 of 41 of type n_f_distribution_center\n",
      "2022-07-22 13:52:45,593 - tracker - INFO - Rank 0 -- tracking contacts -- 500 of 539 of type play_group\n",
      "2022-07-22 13:52:45,926 - tracker - INFO - Rank 0 -- tracking contacts -- 82 of 82 of type pump_latrine\n",
      "2022-07-22 13:52:49,667 - tracker - INFO - Rank 0 -- tracking contacts -- 500 of 2065 of type religious\n",
      "2022-07-22 13:52:50,361 - rank - INFO - Rank 0 -- tracker -- 6.278300310994382\n",
      "2022-07-22 13:52:50,363 - epidemiology - INFO - CMS: Infection COMS-v2 for rank 0/1(2)0.00018062600429402664,0.00018024444580078125 - 2020-05-24 15:00:00\n",
      "2022-07-22 13:52:50,396 - rank - INFO - Rank 0 -- interaction_waiting -- 6.690999725833535e-06\n",
      "2022-07-22 13:52:50,409 - simulator - INFO - CMS: Timestep for rank 0/1 - 7.273686936998274,7.273687839508057 - 2020-05-24 15:00:00\n",
      "\n",
      "2022-07-22 13:52:50,410 - rank - INFO - Next timestep\n",
      "2022-07-22 13:52:50,410 - simulator - INFO - ==================== timestep ====================\n",
      "2022-07-22 13:52:51,122 - rank - INFO - Rank 0 -- move_people -- 0.7109444790039561\n",
      "2022-07-22 13:52:51,123 - rank - INFO - Rank 0 -- move_people_waiting -- 9.020004654303193e-06\n",
      "2022-07-22 13:52:51,123 - activity_manager - INFO - CMS: People COMS for rank 0/1 - 5.264999344944954e-06,4.5299530029296875e-06 - 2020-05-24 17:00:00\n",
      "2022-07-22 13:52:51,129 - simulator - INFO - Info for rank 0, Date = 2020-05-24 17:00:00, number of deaths =  0, number of infected = 231\n",
      "2022-07-22 13:52:51,263 - rank - INFO - Rank 0 -- interaction -- 0.1384266450040741\n",
      "2022-07-22 13:52:51,264 - tracker - INFO - Rank 0 -- tracking contacts -- 8 of 8 of type hospital\n",
      "2022-07-22 13:52:51,266 - tracker - INFO - Rank 0 -- tracking contacts -- 8 of 8 of type isolation_unit\n",
      "2022-07-22 13:52:51,277 - tracker - INFO - Rank 0 -- tracking contacts -- 500 of 3270 of type shelter\n",
      "2022-07-22 13:52:51,624 - tracker - INFO - Rank 0 -- tracking contacts -- 389 of 389 of type learning_center\n",
      "2022-07-22 13:52:51,633 - tracker - INFO - Rank 0 -- tracking contacts -- 115 of 115 of type communal\n",
      "2022-07-22 13:52:51,636 - tracker - INFO - Rank 0 -- tracking contacts -- 21 of 21 of type distribution_center\n",
      "2022-07-22 13:52:51,701 - tracker - INFO - Rank 0 -- tracking contacts -- 7 of 7 of type e_voucher\n",
      "2022-07-22 13:52:51,717 - tracker - INFO - Rank 0 -- tracking contacts -- 67 of 67 of type female_communal\n",
      "2022-07-22 13:52:51,720 - tracker - INFO - Rank 0 -- tracking contacts -- 80 of 80 of type informal_work\n",
      "2022-07-22 13:52:51,814 - tracker - INFO - Rank 0 -- tracking contacts -- 41 of 41 of type n_f_distribution_center\n",
      "2022-07-22 13:52:51,989 - tracker - INFO - Rank 0 -- tracking contacts -- 500 of 539 of type play_group\n",
      "2022-07-22 13:52:52,455 - tracker - INFO - Rank 0 -- tracking contacts -- 82 of 82 of type pump_latrine\n",
      "2022-07-22 13:52:57,793 - tracker - INFO - Rank 0 -- tracking contacts -- 500 of 2065 of type religious\n",
      "2022-07-22 13:52:58,730 - rank - INFO - Rank 0 -- tracker -- 7.466568582000036\n",
      "2022-07-22 13:52:58,735 - epidemiology - INFO - CMS: Infection COMS-v2 for rank 0/1(2)0.0005762670043623075,0.0005762577056884766 - 2020-05-24 17:00:00\n",
      "2022-07-22 13:52:58,771 - rank - INFO - Rank 0 -- interaction_waiting -- 6.809998012613505e-06\n",
      "2022-07-22 13:52:58,786 - simulator - INFO - CMS: Timestep for rank 0/1 - 8.374887126999965,8.374890565872192 - 2020-05-24 17:00:00\n",
      "\n",
      "2022-07-22 13:52:58,787 - rank - INFO - Next timestep\n",
      "2022-07-22 13:52:58,788 - simulator - INFO - ==================== timestep ====================\n",
      "2022-07-22 13:52:58,956 - rank - INFO - Rank 0 -- move_people -- 0.16772243800369324\n",
      "2022-07-22 13:52:58,957 - rank - INFO - Rank 0 -- move_people_waiting -- 8.346003596670926e-06\n",
      "2022-07-22 13:52:58,958 - activity_manager - INFO - CMS: People COMS for rank 0/1 - 4.565001290757209e-06,4.0531158447265625e-06 - 2020-05-24 19:00:00\n",
      "2022-07-22 13:52:58,964 - simulator - INFO - Info for rank 0, Date = 2020-05-24 19:00:00, number of deaths =  0, number of infected = 238\n",
      "2022-07-22 13:52:59,038 - rank - INFO - Rank 0 -- interaction -- 0.07929112800047733\n",
      "2022-07-22 13:52:59,040 - tracker - INFO - Rank 0 -- tracking contacts -- 8 of 8 of type hospital\n",
      "2022-07-22 13:52:59,041 - tracker - INFO - Rank 0 -- tracking contacts -- 8 of 8 of type isolation_unit\n",
      "2022-07-22 13:52:59,049 - tracker - INFO - Rank 0 -- tracking contacts -- 500 of 3270 of type shelter\n",
      "2022-07-22 13:53:00,180 - tracker - INFO - Rank 0 -- tracking contacts -- 389 of 389 of type learning_center\n",
      "2022-07-22 13:53:00,190 - tracker - INFO - Rank 0 -- tracking contacts -- 115 of 115 of type communal\n",
      "2022-07-22 13:53:00,193 - tracker - INFO - Rank 0 -- tracking contacts -- 21 of 21 of type distribution_center\n",
      "2022-07-22 13:53:00,194 - tracker - INFO - Rank 0 -- tracking contacts -- 7 of 7 of type e_voucher\n",
      "2022-07-22 13:53:00,196 - tracker - INFO - Rank 0 -- tracking contacts -- 67 of 67 of type female_communal\n",
      "2022-07-22 13:53:00,198 - tracker - INFO - Rank 0 -- tracking contacts -- 80 of 80 of type informal_work\n",
      "2022-07-22 13:53:00,201 - tracker - INFO - Rank 0 -- tracking contacts -- 41 of 41 of type n_f_distribution_center\n",
      "2022-07-22 13:53:00,204 - tracker - INFO - Rank 0 -- tracking contacts -- 500 of 539 of type play_group\n",
      "2022-07-22 13:53:00,221 - tracker - INFO - Rank 0 -- tracking contacts -- 82 of 82 of type pump_latrine\n",
      "2022-07-22 13:53:00,239 - tracker - INFO - Rank 0 -- tracking contacts -- 500 of 2065 of type religious\n",
      "2022-07-22 13:53:00,253 - rank - INFO - Rank 0 -- tracker -- 1.2136451909973403\n",
      "2022-07-22 13:53:00,272 - epidemiology - INFO - CMS: Infection COMS-v2 for rank 0/1(2)0.00030736299959244207,0.0003063678741455078 - 2020-05-24 19:00:00\n",
      "2022-07-22 13:53:00,310 - rank - INFO - Rank 0 -- interaction_waiting -- 6.432994268834591e-06\n",
      "2022-07-22 13:53:00,324 - simulator - INFO - CMS: Timestep for rank 0/1 - 1.5355530209999415,1.5355544090270996 - 2020-05-24 19:00:00\n",
      "\n",
      "2022-07-22 13:53:00,326 - rank - INFO - Next timestep\n",
      "2022-07-22 13:53:00,327 - simulator - INFO - ==================== timestep ====================\n",
      "2022-07-22 13:53:00,511 - rank - INFO - Rank 0 -- move_people -- 0.18317844400007743\n",
      "2022-07-22 13:53:00,512 - rank - INFO - Rank 0 -- move_people_waiting -- 7.875998562667519e-06\n",
      "2022-07-22 13:53:00,512 - activity_manager - INFO - CMS: People COMS for rank 0/1 - 3.144996298942715e-06,2.384185791015625e-06 - 2020-05-25 09:00:00\n",
      "2022-07-22 13:53:00,520 - simulator - INFO - Info for rank 0, Date = 2020-05-25 09:00:00, number of deaths =  0, number of infected = 260\n",
      "2022-07-22 13:53:00,603 - rank - INFO - Rank 0 -- interaction -- 0.09020680099638412\n",
      "2022-07-22 13:53:06,467 - tracker - INFO - Rank 0 -- tracking contacts -- 8 of 8 of type hospital\n",
      "2022-07-22 13:53:06,476 - tracker - INFO - Rank 0 -- tracking contacts -- 8 of 8 of type isolation_unit\n",
      "2022-07-22 13:53:06,484 - tracker - INFO - Rank 0 -- tracking contacts -- 500 of 3270 of type shelter\n",
      "2022-07-22 13:53:07,211 - tracker - INFO - Rank 0 -- tracking contacts -- 389 of 389 of type learning_center\n"
     ]
    },
    {
     "name": "stdout",
     "output_type": "stream",
     "text": [
      "2022-07-22 13:53:08,058 - tracker - INFO - Rank 0 -- tracking contacts -- 115 of 115 of type communal\n",
      "2022-07-22 13:53:08,061 - tracker - INFO - Rank 0 -- tracking contacts -- 21 of 21 of type distribution_center\n",
      "2022-07-22 13:53:08,062 - tracker - INFO - Rank 0 -- tracking contacts -- 7 of 7 of type e_voucher\n",
      "2022-07-22 13:53:08,063 - tracker - INFO - Rank 0 -- tracking contacts -- 67 of 67 of type female_communal\n",
      "2022-07-22 13:53:08,065 - tracker - INFO - Rank 0 -- tracking contacts -- 80 of 80 of type informal_work\n",
      "2022-07-22 13:53:08,068 - tracker - INFO - Rank 0 -- tracking contacts -- 41 of 41 of type n_f_distribution_center\n",
      "2022-07-22 13:53:08,071 - tracker - INFO - Rank 0 -- tracking contacts -- 500 of 539 of type play_group\n",
      "2022-07-22 13:53:08,089 - tracker - INFO - Rank 0 -- tracking contacts -- 82 of 82 of type pump_latrine\n",
      "2022-07-22 13:53:08,107 - tracker - INFO - Rank 0 -- tracking contacts -- 500 of 2065 of type religious\n",
      "2022-07-22 13:53:08,116 - rank - INFO - Rank 0 -- tracker -- 7.511625037994236\n",
      "2022-07-22 13:53:08,122 - epidemiology - INFO - CMS: Infection COMS-v2 for rank 0/1(2)0.00036907499452354386,0.0003685951232910156 - 2020-05-25 09:00:00\n",
      "2022-07-22 13:53:08,159 - rank - INFO - Rank 0 -- interaction_waiting -- 5.837995558977127e-06\n",
      "2022-07-22 13:53:08,171 - simulator - INFO - CMS: Timestep for rank 0/1 - 7.843707139996695,7.843708038330078 - 2020-05-25 09:00:00\n",
      "\n",
      "2022-07-22 13:53:08,174 - rank - INFO - Next timestep\n",
      "2022-07-22 13:53:08,174 - simulator - INFO - ==================== timestep ====================\n",
      "2022-07-22 13:53:08,856 - rank - INFO - Rank 0 -- move_people -- 0.6810053150038584\n",
      "2022-07-22 13:53:08,857 - rank - INFO - Rank 0 -- move_people_waiting -- 6.750997272320092e-06\n",
      "2022-07-22 13:53:08,857 - activity_manager - INFO - CMS: People COMS for rank 0/1 - 4.2100000428035855e-06,3.814697265625e-06 - 2020-05-25 11:00:00\n",
      "2022-07-22 13:53:08,865 - simulator - INFO - Info for rank 0, Date = 2020-05-25 11:00:00, number of deaths =  0, number of infected = 268\n",
      "2022-07-22 13:53:08,984 - rank - INFO - Rank 0 -- interaction -- 0.12561948000075063\n",
      "2022-07-22 13:53:09,897 - tracker - INFO - Rank 0 -- tracking contacts -- 8 of 8 of type hospital\n",
      "2022-07-22 13:53:09,903 - tracker - INFO - Rank 0 -- tracking contacts -- 8 of 8 of type isolation_unit\n",
      "2022-07-22 13:53:09,909 - tracker - INFO - Rank 0 -- tracking contacts -- 500 of 3270 of type shelter\n",
      "2022-07-22 13:53:10,128 - tracker - INFO - Rank 0 -- tracking contacts -- 389 of 389 of type learning_center\n",
      "2022-07-22 13:53:10,913 - tracker - INFO - Rank 0 -- tracking contacts -- 115 of 115 of type communal\n",
      "2022-07-22 13:53:10,931 - tracker - INFO - Rank 0 -- tracking contacts -- 21 of 21 of type distribution_center\n",
      "2022-07-22 13:53:10,976 - tracker - INFO - Rank 0 -- tracking contacts -- 7 of 7 of type e_voucher\n",
      "2022-07-22 13:53:10,995 - tracker - INFO - Rank 0 -- tracking contacts -- 67 of 67 of type female_communal\n",
      "2022-07-22 13:53:11,036 - tracker - INFO - Rank 0 -- tracking contacts -- 80 of 80 of type informal_work\n",
      "2022-07-22 13:53:11,085 - tracker - INFO - Rank 0 -- tracking contacts -- 41 of 41 of type n_f_distribution_center\n",
      "2022-07-22 13:53:11,185 - tracker - INFO - Rank 0 -- tracking contacts -- 500 of 539 of type play_group\n",
      "2022-07-22 13:53:11,481 - tracker - INFO - Rank 0 -- tracking contacts -- 82 of 82 of type pump_latrine\n",
      "2022-07-22 13:53:15,209 - tracker - INFO - Rank 0 -- tracking contacts -- 500 of 2065 of type religious\n",
      "2022-07-22 13:53:15,913 - rank - INFO - Rank 0 -- tracker -- 6.928533280995907\n",
      "2022-07-22 13:53:15,918 - epidemiology - INFO - CMS: Infection COMS-v2 for rank 0/1(2)0.0006817190005676821,0.0006811618804931641 - 2020-05-25 11:00:00\n",
      "2022-07-22 13:53:15,951 - rank - INFO - Rank 0 -- interaction_waiting -- 6.656002369709313e-06\n",
      "2022-07-22 13:53:15,965 - simulator - INFO - CMS: Timestep for rank 0/1 - 7.789607910999621,7.78960919380188 - 2020-05-25 11:00:00\n",
      "\n",
      "2022-07-22 13:53:15,967 - rank - INFO - Next timestep\n",
      "2022-07-22 13:53:15,968 - simulator - INFO - ==================== timestep ====================\n",
      "2022-07-22 13:53:16,730 - rank - INFO - Rank 0 -- move_people -- 0.7617201030006981\n",
      "2022-07-22 13:53:16,731 - rank - INFO - Rank 0 -- move_people_waiting -- 5.169997166376561e-06\n",
      "2022-07-22 13:53:16,732 - activity_manager - INFO - CMS: People COMS for rank 0/1 - 3.843997546937317e-06,3.814697265625e-06 - 2020-05-25 13:00:00\n",
      "2022-07-22 13:53:16,738 - simulator - INFO - Info for rank 0, Date = 2020-05-25 13:00:00, number of deaths =  0, number of infected = 275\n",
      "2022-07-22 13:53:16,871 - rank - INFO - Rank 0 -- interaction -- 0.1382623660028912\n",
      "2022-07-22 13:53:19,690 - tracker - INFO - Rank 0 -- tracking contacts -- 8 of 8 of type hospital\n",
      "2022-07-22 13:53:19,703 - tracker - INFO - Rank 0 -- tracking contacts -- 8 of 8 of type isolation_unit\n",
      "2022-07-22 13:53:19,710 - tracker - INFO - Rank 0 -- tracking contacts -- 500 of 3270 of type shelter\n",
      "2022-07-22 13:53:19,962 - tracker - INFO - Rank 0 -- tracking contacts -- 389 of 389 of type learning_center\n",
      "2022-07-22 13:53:20,920 - tracker - INFO - Rank 0 -- tracking contacts -- 115 of 115 of type communal\n",
      "2022-07-22 13:53:20,943 - tracker - INFO - Rank 0 -- tracking contacts -- 21 of 21 of type distribution_center\n",
      "2022-07-22 13:53:20,996 - tracker - INFO - Rank 0 -- tracking contacts -- 7 of 7 of type e_voucher\n",
      "2022-07-22 13:53:21,014 - tracker - INFO - Rank 0 -- tracking contacts -- 67 of 67 of type female_communal\n",
      "2022-07-22 13:53:21,068 - tracker - INFO - Rank 0 -- tracking contacts -- 80 of 80 of type informal_work\n",
      "2022-07-22 13:53:21,152 - tracker - INFO - Rank 0 -- tracking contacts -- 41 of 41 of type n_f_distribution_center\n",
      "2022-07-22 13:53:21,280 - tracker - INFO - Rank 0 -- tracking contacts -- 500 of 539 of type play_group\n",
      "2022-07-22 13:53:21,848 - tracker - INFO - Rank 0 -- tracking contacts -- 82 of 82 of type pump_latrine\n",
      "2022-07-22 13:53:26,028 - tracker - INFO - Rank 0 -- tracking contacts -- 500 of 2065 of type religious\n",
      "2022-07-22 13:53:26,801 - rank - INFO - Rank 0 -- tracker -- 9.929337109999324\n",
      "2022-07-22 13:53:26,807 - epidemiology - INFO - CMS: Infection COMS-v2 for rank 0/1(2)0.00021931999799562618,0.00021886825561523438 - 2020-05-25 13:00:00\n",
      "2022-07-22 13:53:26,843 - rank - INFO - Rank 0 -- interaction_waiting -- 6.6450011217966676e-06\n",
      "2022-07-22 13:53:26,858 - simulator - INFO - CMS: Timestep for rank 0/1 - 10.889440987004491,10.889441728591919 - 2020-05-25 13:00:00\n",
      "\n",
      "2022-07-22 13:53:26,860 - rank - INFO - Next timestep\n",
      "2022-07-22 13:53:26,861 - simulator - INFO - ==================== timestep ====================\n",
      "2022-07-22 13:53:27,620 - rank - INFO - Rank 0 -- move_people -- 0.7574282380010118\n",
      "2022-07-22 13:53:27,620 - rank - INFO - Rank 0 -- move_people_waiting -- 5.16100408276543e-06\n",
      "2022-07-22 13:53:27,621 - activity_manager - INFO - CMS: People COMS for rank 0/1 - 3.3320029615424573e-06,3.0994415283203125e-06 - 2020-05-25 15:00:00\n",
      "2022-07-22 13:53:27,626 - simulator - INFO - Info for rank 0, Date = 2020-05-25 15:00:00, number of deaths =  0, number of infected = 284\n",
      "2022-07-22 13:53:27,768 - rank - INFO - Rank 0 -- interaction -- 0.14604600700113224\n",
      "2022-07-22 13:53:32,035 - tracker - INFO - Rank 0 -- tracking contacts -- 8 of 8 of type hospital\n",
      "2022-07-22 13:53:32,045 - tracker - INFO - Rank 0 -- tracking contacts -- 8 of 8 of type isolation_unit\n",
      "2022-07-22 13:53:32,055 - tracker - INFO - Rank 0 -- tracking contacts -- 500 of 3270 of type shelter\n",
      "2022-07-22 13:53:32,323 - tracker - INFO - Rank 0 -- tracking contacts -- 389 of 389 of type learning_center\n",
      "2022-07-22 13:53:33,344 - tracker - INFO - Rank 0 -- tracking contacts -- 115 of 115 of type communal\n",
      "2022-07-22 13:53:33,360 - tracker - INFO - Rank 0 -- tracking contacts -- 21 of 21 of type distribution_center\n",
      "2022-07-22 13:53:33,402 - tracker - INFO - Rank 0 -- tracking contacts -- 7 of 7 of type e_voucher\n",
      "2022-07-22 13:53:33,419 - tracker - INFO - Rank 0 -- tracking contacts -- 67 of 67 of type female_communal\n",
      "2022-07-22 13:53:33,470 - tracker - INFO - Rank 0 -- tracking contacts -- 80 of 80 of type informal_work\n",
      "2022-07-22 13:53:33,552 - tracker - INFO - Rank 0 -- tracking contacts -- 41 of 41 of type n_f_distribution_center\n"
     ]
    },
    {
     "name": "stdout",
     "output_type": "stream",
     "text": [
      "2022-07-22 13:53:33,717 - tracker - INFO - Rank 0 -- tracking contacts -- 500 of 539 of type play_group\n",
      "2022-07-22 13:53:34,113 - tracker - INFO - Rank 0 -- tracking contacts -- 82 of 82 of type pump_latrine\n",
      "2022-07-22 13:53:38,396 - tracker - INFO - Rank 0 -- tracking contacts -- 500 of 2065 of type religious\n",
      "2022-07-22 13:53:39,204 - rank - INFO - Rank 0 -- tracker -- 11.435239663995162\n",
      "2022-07-22 13:53:39,210 - epidemiology - INFO - CMS: Infection COMS-v2 for rank 0/1(2)0.000292946002446115,0.0002923011779785156 - 2020-05-25 15:00:00\n",
      "2022-07-22 13:53:39,247 - rank - INFO - Rank 0 -- interaction_waiting -- 6.900998414494097e-06\n",
      "2022-07-22 13:53:39,264 - simulator - INFO - CMS: Timestep for rank 0/1 - 12.401619108997693,12.401619911193848 - 2020-05-25 15:00:00\n",
      "\n",
      "2022-07-22 13:53:39,267 - rank - INFO - Next timestep\n",
      "2022-07-22 13:53:39,268 - simulator - INFO - ==================== timestep ====================\n",
      "2022-07-22 13:53:40,172 - rank - INFO - Rank 0 -- move_people -- 0.90399873899878\n",
      "2022-07-22 13:53:40,173 - rank - INFO - Rank 0 -- move_people_waiting -- 7.758993888273835e-06\n",
      "2022-07-22 13:53:40,174 - activity_manager - INFO - CMS: People COMS for rank 0/1 - 4.45000478066504e-06,4.0531158447265625e-06 - 2020-05-25 17:00:00\n",
      "2022-07-22 13:53:40,181 - simulator - INFO - Info for rank 0, Date = 2020-05-25 17:00:00, number of deaths =  0, number of infected = 294\n",
      "2022-07-22 13:53:40,331 - rank - INFO - Rank 0 -- interaction -- 0.15569875800429145\n",
      "2022-07-22 13:53:45,430 - tracker - INFO - Rank 0 -- tracking contacts -- 8 of 8 of type hospital\n",
      "2022-07-22 13:53:45,430 - tracker - INFO - Rank 0 -- tracking contacts -- 8 of 8 of type isolation_unit\n",
      "2022-07-22 13:53:45,438 - tracker - INFO - Rank 0 -- tracking contacts -- 500 of 3270 of type shelter\n",
      "2022-07-22 13:53:45,751 - tracker - INFO - Rank 0 -- tracking contacts -- 389 of 389 of type learning_center\n",
      "2022-07-22 13:53:45,765 - tracker - INFO - Rank 0 -- tracking contacts -- 115 of 115 of type communal\n",
      "2022-07-22 13:53:45,768 - tracker - INFO - Rank 0 -- tracking contacts -- 21 of 21 of type distribution_center\n",
      "2022-07-22 13:53:45,832 - tracker - INFO - Rank 0 -- tracking contacts -- 7 of 7 of type e_voucher\n",
      "2022-07-22 13:53:45,849 - tracker - INFO - Rank 0 -- tracking contacts -- 67 of 67 of type female_communal\n",
      "2022-07-22 13:53:45,851 - tracker - INFO - Rank 0 -- tracking contacts -- 80 of 80 of type informal_work\n",
      "2022-07-22 13:53:45,941 - tracker - INFO - Rank 0 -- tracking contacts -- 41 of 41 of type n_f_distribution_center\n",
      "2022-07-22 13:53:46,097 - tracker - INFO - Rank 0 -- tracking contacts -- 500 of 539 of type play_group\n",
      "2022-07-22 13:53:46,556 - tracker - INFO - Rank 0 -- tracking contacts -- 82 of 82 of type pump_latrine\n",
      "2022-07-22 13:53:52,052 - tracker - INFO - Rank 0 -- tracking contacts -- 500 of 2065 of type religious\n",
      "2022-07-22 13:53:52,978 - rank - INFO - Rank 0 -- tracker -- 12.6462604729968\n",
      "2022-07-22 13:53:52,981 - epidemiology - INFO - CMS: Infection COMS-v2 for rank 0/1(2)0.000656828997307457,0.0006570816040039062 - 2020-05-25 17:00:00\n",
      "2022-07-22 13:53:53,026 - rank - INFO - Rank 0 -- interaction_waiting -- 7.42900010664016e-06\n",
      "2022-07-22 13:53:53,040 - simulator - INFO - CMS: Timestep for rank 0/1 - 13.771678415003407,13.771679639816284 - 2020-05-25 17:00:00\n",
      "\n",
      "2022-07-22 13:53:53,043 - rank - INFO - Next timestep\n",
      "2022-07-22 13:53:53,044 - simulator - INFO - ==================== timestep ====================\n",
      "2022-07-22 13:53:53,220 - rank - INFO - Rank 0 -- move_people -- 0.17519504699885147\n",
      "2022-07-22 13:53:53,221 - rank - INFO - Rank 0 -- move_people_waiting -- 9.251998562831432e-06\n",
      "2022-07-22 13:53:53,222 - activity_manager - INFO - CMS: People COMS for rank 0/1 - 3.711997123900801e-06,3.337860107421875e-06 - 2020-05-25 19:00:00\n",
      "2022-07-22 13:53:53,227 - simulator - INFO - Info for rank 0, Date = 2020-05-25 19:00:00, number of deaths =  0, number of infected = 297\n",
      "2022-07-22 13:53:53,314 - rank - INFO - Rank 0 -- interaction -- 0.09170439100125805\n",
      "2022-07-22 13:53:59,267 - tracker - INFO - Rank 0 -- tracking contacts -- 8 of 8 of type hospital\n",
      "2022-07-22 13:53:59,268 - tracker - INFO - Rank 0 -- tracking contacts -- 8 of 8 of type isolation_unit\n",
      "2022-07-22 13:53:59,275 - tracker - INFO - Rank 0 -- tracking contacts -- 500 of 3270 of type shelter\n",
      "2022-07-22 13:54:00,381 - tracker - INFO - Rank 0 -- tracking contacts -- 389 of 389 of type learning_center\n",
      "2022-07-22 13:54:00,390 - tracker - INFO - Rank 0 -- tracking contacts -- 115 of 115 of type communal\n",
      "2022-07-22 13:54:00,394 - tracker - INFO - Rank 0 -- tracking contacts -- 21 of 21 of type distribution_center\n",
      "2022-07-22 13:54:00,395 - tracker - INFO - Rank 0 -- tracking contacts -- 7 of 7 of type e_voucher\n",
      "2022-07-22 13:54:00,397 - tracker - INFO - Rank 0 -- tracking contacts -- 67 of 67 of type female_communal\n",
      "2022-07-22 13:54:00,399 - tracker - INFO - Rank 0 -- tracking contacts -- 80 of 80 of type informal_work\n",
      "2022-07-22 13:54:00,401 - tracker - INFO - Rank 0 -- tracking contacts -- 41 of 41 of type n_f_distribution_center\n",
      "2022-07-22 13:54:00,404 - tracker - INFO - Rank 0 -- tracking contacts -- 500 of 539 of type play_group\n",
      "2022-07-22 13:54:00,413 - tracker - INFO - Rank 0 -- tracking contacts -- 82 of 82 of type pump_latrine\n",
      "2022-07-22 13:54:00,426 - tracker - INFO - Rank 0 -- tracking contacts -- 500 of 2065 of type religious\n",
      "2022-07-22 13:54:00,435 - rank - INFO - Rank 0 -- tracker -- 7.119756685999164\n",
      "2022-07-22 13:54:00,466 - epidemiology - INFO - CMS: Infection COMS-v2 for rank 0/1(2)0.0003269340013503097,0.00032639503479003906 - 2020-05-25 19:00:00\n",
      "2022-07-22 13:54:00,513 - rank - INFO - Rank 0 -- interaction_waiting -- 8.551003702450544e-06\n",
      "2022-07-22 13:54:00,530 - simulator - INFO - CMS: Timestep for rank 0/1 - 7.484969231001742,7.484969854354858 - 2020-05-25 19:00:00\n",
      "\n",
      "2022-07-22 13:54:00,533 - rank - INFO - Next timestep\n",
      "2022-07-22 13:54:00,534 - simulator - INFO - ==================== timestep ====================\n",
      "2022-07-22 13:54:00,735 - rank - INFO - Rank 0 -- move_people -- 0.20046909699885873\n",
      "2022-07-22 13:54:00,736 - rank - INFO - Rank 0 -- move_people_waiting -- 4.406996595207602e-06\n",
      "2022-07-22 13:54:00,737 - activity_manager - INFO - CMS: People COMS for rank 0/1 - 4.0480008465237916e-06,3.337860107421875e-06 - 2020-05-26 09:00:00\n",
      "2022-07-22 13:54:00,743 - simulator - INFO - Info for rank 0, Date = 2020-05-26 09:00:00, number of deaths =  0, number of infected = 347\n",
      "2022-07-22 13:54:00,844 - rank - INFO - Rank 0 -- interaction -- 0.10618158700526692\n",
      "2022-07-22 13:54:00,845 - tracker - INFO - Rank 0 -- tracking contacts -- 8 of 8 of type hospital\n",
      "2022-07-22 13:54:00,857 - tracker - INFO - Rank 0 -- tracking contacts -- 8 of 8 of type isolation_unit\n",
      "2022-07-22 13:54:00,868 - tracker - INFO - Rank 0 -- tracking contacts -- 500 of 3270 of type shelter\n",
      "2022-07-22 13:54:01,656 - tracker - INFO - Rank 0 -- tracking contacts -- 389 of 389 of type learning_center\n",
      "2022-07-22 13:54:02,686 - tracker - INFO - Rank 0 -- tracking contacts -- 115 of 115 of type communal\n",
      "2022-07-22 13:54:02,688 - tracker - INFO - Rank 0 -- tracking contacts -- 21 of 21 of type distribution_center\n",
      "2022-07-22 13:54:02,691 - tracker - INFO - Rank 0 -- tracking contacts -- 7 of 7 of type e_voucher\n",
      "2022-07-22 13:54:02,692 - tracker - INFO - Rank 0 -- tracking contacts -- 67 of 67 of type female_communal\n",
      "2022-07-22 13:54:02,694 - tracker - INFO - Rank 0 -- tracking contacts -- 80 of 80 of type informal_work\n",
      "2022-07-22 13:54:02,697 - tracker - INFO - Rank 0 -- tracking contacts -- 41 of 41 of type n_f_distribution_center\n",
      "2022-07-22 13:54:02,702 - tracker - INFO - Rank 0 -- tracking contacts -- 500 of 539 of type play_group\n",
      "2022-07-22 13:54:02,712 - tracker - INFO - Rank 0 -- tracking contacts -- 82 of 82 of type pump_latrine\n",
      "2022-07-22 13:54:02,725 - tracker - INFO - Rank 0 -- tracking contacts -- 500 of 2065 of type religious\n",
      "2022-07-22 13:54:02,734 - rank - INFO - Rank 0 -- tracker -- 1.8884596209973097\n",
      "2022-07-22 13:54:02,740 - epidemiology - INFO - CMS: Infection COMS-v2 for rank 0/1(2)0.0013055000017629936,0.0013055801391601562 - 2020-05-26 09:00:00\n",
      "2022-07-22 13:54:02,777 - rank - INFO - Rank 0 -- interaction_waiting -- 7.524999091401696e-06\n"
     ]
    },
    {
     "name": "stdout",
     "output_type": "stream",
     "text": [
      "2022-07-22 13:54:02,792 - simulator - INFO - CMS: Timestep for rank 0/1 - 2.2569555709997076,2.2569565773010254 - 2020-05-26 09:00:00\n",
      "\n",
      "2022-07-22 13:54:02,794 - rank - INFO - Next timestep\n",
      "2022-07-22 13:54:02,795 - simulator - INFO - ==================== timestep ====================\n",
      "2022-07-22 13:54:03,561 - rank - INFO - Rank 0 -- move_people -- 0.7653361749980832\n",
      "2022-07-22 13:54:03,562 - rank - INFO - Rank 0 -- move_people_waiting -- 6.998998287599534e-06\n",
      "2022-07-22 13:54:03,563 - activity_manager - INFO - CMS: People COMS for rank 0/1 - 4.146000719629228e-06,3.814697265625e-06 - 2020-05-26 11:00:00\n",
      "2022-07-22 13:54:03,569 - simulator - INFO - Info for rank 0, Date = 2020-05-26 11:00:00, number of deaths =  0, number of infected = 353\n",
      "2022-07-22 13:54:03,736 - rank - INFO - Rank 0 -- interaction -- 0.17237229899910744\n",
      "2022-07-22 13:54:03,737 - tracker - INFO - Rank 0 -- tracking contacts -- 8 of 8 of type hospital\n",
      "2022-07-22 13:54:03,744 - tracker - INFO - Rank 0 -- tracking contacts -- 8 of 8 of type isolation_unit\n",
      "2022-07-22 13:54:03,752 - tracker - INFO - Rank 0 -- tracking contacts -- 500 of 3270 of type shelter\n",
      "2022-07-22 13:54:04,021 - tracker - INFO - Rank 0 -- tracking contacts -- 389 of 389 of type learning_center\n",
      "2022-07-22 13:54:04,972 - tracker - INFO - Rank 0 -- tracking contacts -- 115 of 115 of type communal\n",
      "2022-07-22 13:54:04,996 - tracker - INFO - Rank 0 -- tracking contacts -- 21 of 21 of type distribution_center\n",
      "2022-07-22 13:54:05,059 - tracker - INFO - Rank 0 -- tracking contacts -- 7 of 7 of type e_voucher\n",
      "2022-07-22 13:54:05,076 - tracker - INFO - Rank 0 -- tracking contacts -- 67 of 67 of type female_communal\n",
      "2022-07-22 13:54:05,144 - tracker - INFO - Rank 0 -- tracking contacts -- 80 of 80 of type informal_work\n",
      "2022-07-22 13:54:05,220 - tracker - INFO - Rank 0 -- tracking contacts -- 41 of 41 of type n_f_distribution_center\n",
      "2022-07-22 13:54:05,386 - tracker - INFO - Rank 0 -- tracking contacts -- 500 of 539 of type play_group\n",
      "2022-07-22 13:54:05,736 - tracker - INFO - Rank 0 -- tracking contacts -- 82 of 82 of type pump_latrine\n",
      "2022-07-22 13:54:09,677 - tracker - INFO - Rank 0 -- tracking contacts -- 500 of 2065 of type religious\n",
      "2022-07-22 13:54:10,363 - rank - INFO - Rank 0 -- tracker -- 6.625730200001271\n",
      "2022-07-22 13:54:10,369 - epidemiology - INFO - CMS: Infection COMS-v2 for rank 0/1(2)0.0005519369951798581,0.0005509853363037109 - 2020-05-26 11:00:00\n",
      "2022-07-22 13:54:10,404 - rank - INFO - Rank 0 -- interaction_waiting -- 6.401001883205026e-06\n",
      "2022-07-22 13:54:10,416 - simulator - INFO - CMS: Timestep for rank 0/1 - 7.620517244999064,7.620518207550049 - 2020-05-26 11:00:00\n",
      "\n",
      "2022-07-22 13:54:10,419 - rank - INFO - Next timestep\n",
      "2022-07-22 13:54:10,419 - simulator - INFO - ==================== timestep ====================\n",
      "2022-07-22 13:54:11,167 - rank - INFO - Rank 0 -- move_people -- 0.7466386399973999\n",
      "2022-07-22 13:54:11,168 - rank - INFO - Rank 0 -- move_people_waiting -- 6.44200190436095e-06\n",
      "2022-07-22 13:54:11,168 - activity_manager - INFO - CMS: People COMS for rank 0/1 - 4.1530001908540726e-06,3.814697265625e-06 - 2020-05-26 13:00:00\n",
      "2022-07-22 13:54:11,176 - simulator - INFO - Info for rank 0, Date = 2020-05-26 13:00:00, number of deaths =  0, number of infected = 364\n",
      "2022-07-22 13:54:11,332 - rank - INFO - Rank 0 -- interaction -- 0.16279622899310198\n",
      "2022-07-22 13:54:11,333 - tracker - INFO - Rank 0 -- tracking contacts -- 8 of 8 of type hospital\n",
      "2022-07-22 13:54:11,340 - tracker - INFO - Rank 0 -- tracking contacts -- 8 of 8 of type isolation_unit\n",
      "2022-07-22 13:54:11,347 - tracker - INFO - Rank 0 -- tracking contacts -- 500 of 3270 of type shelter\n",
      "2022-07-22 13:54:11,632 - tracker - INFO - Rank 0 -- tracking contacts -- 389 of 389 of type learning_center\n",
      "2022-07-22 13:54:12,649 - tracker - INFO - Rank 0 -- tracking contacts -- 115 of 115 of type communal\n",
      "2022-07-22 13:54:12,677 - tracker - INFO - Rank 0 -- tracking contacts -- 21 of 21 of type distribution_center\n",
      "2022-07-22 13:54:12,717 - tracker - INFO - Rank 0 -- tracking contacts -- 7 of 7 of type e_voucher\n",
      "2022-07-22 13:54:12,738 - tracker - INFO - Rank 0 -- tracking contacts -- 67 of 67 of type female_communal\n",
      "2022-07-22 13:54:12,802 - tracker - INFO - Rank 0 -- tracking contacts -- 80 of 80 of type informal_work\n",
      "2022-07-22 13:54:12,876 - tracker - INFO - Rank 0 -- tracking contacts -- 41 of 41 of type n_f_distribution_center\n",
      "2022-07-22 13:54:13,011 - tracker - INFO - Rank 0 -- tracking contacts -- 500 of 539 of type play_group\n",
      "2022-07-22 13:54:13,401 - tracker - INFO - Rank 0 -- tracking contacts -- 82 of 82 of type pump_latrine\n",
      "2022-07-22 13:54:17,621 - tracker - INFO - Rank 0 -- tracking contacts -- 500 of 2065 of type religious\n",
      "2022-07-22 13:54:18,396 - rank - INFO - Rank 0 -- tracker -- 7.062916673996369\n",
      "2022-07-22 13:54:18,402 - epidemiology - INFO - CMS: Infection COMS-v2 for rank 0/1(2)0.00022463800269179046,0.0002243518829345703 - 2020-05-26 13:00:00\n",
      "2022-07-22 13:54:18,447 - rank - INFO - Rank 0 -- interaction_waiting -- 7.838003512006253e-06\n",
      "2022-07-22 13:54:18,461 - simulator - INFO - CMS: Timestep for rank 0/1 - 8.040791117004119,8.040791511535645 - 2020-05-26 13:00:00\n",
      "\n",
      "2022-07-22 13:54:18,463 - rank - INFO - Next timestep\n",
      "2022-07-22 13:54:18,465 - simulator - INFO - ==================== timestep ====================\n",
      "2022-07-22 13:54:19,333 - rank - INFO - Rank 0 -- move_people -- 0.867261139996117\n",
      "2022-07-22 13:54:19,335 - rank - INFO - Rank 0 -- move_people_waiting -- 4.372996045276523e-06\n",
      "2022-07-22 13:54:19,336 - activity_manager - INFO - CMS: People COMS for rank 0/1 - 5.7349971029907465e-06,4.76837158203125e-06 - 2020-05-26 15:00:00\n",
      "2022-07-22 13:54:19,345 - simulator - INFO - Info for rank 0, Date = 2020-05-26 15:00:00, number of deaths =  0, number of infected = 375\n",
      "2022-07-22 13:54:19,502 - rank - INFO - Rank 0 -- interaction -- 0.16462884900101926\n",
      "2022-07-22 13:54:19,503 - tracker - INFO - Rank 0 -- tracking contacts -- 8 of 8 of type hospital\n",
      "2022-07-22 13:54:19,510 - tracker - INFO - Rank 0 -- tracking contacts -- 8 of 8 of type isolation_unit\n",
      "2022-07-22 13:54:19,518 - tracker - INFO - Rank 0 -- tracking contacts -- 500 of 3270 of type shelter\n",
      "2022-07-22 13:54:19,828 - tracker - INFO - Rank 0 -- tracking contacts -- 389 of 389 of type learning_center\n",
      "2022-07-22 13:54:20,836 - tracker - INFO - Rank 0 -- tracking contacts -- 115 of 115 of type communal\n",
      "2022-07-22 13:54:20,857 - tracker - INFO - Rank 0 -- tracking contacts -- 21 of 21 of type distribution_center\n",
      "2022-07-22 13:54:20,907 - tracker - INFO - Rank 0 -- tracking contacts -- 7 of 7 of type e_voucher\n",
      "2022-07-22 13:54:20,921 - tracker - INFO - Rank 0 -- tracking contacts -- 67 of 67 of type female_communal\n",
      "2022-07-22 13:54:20,980 - tracker - INFO - Rank 0 -- tracking contacts -- 80 of 80 of type informal_work\n",
      "2022-07-22 13:54:21,067 - tracker - INFO - Rank 0 -- tracking contacts -- 41 of 41 of type n_f_distribution_center\n",
      "2022-07-22 13:54:21,230 - tracker - INFO - Rank 0 -- tracking contacts -- 500 of 539 of type play_group\n",
      "2022-07-22 13:54:21,596 - tracker - INFO - Rank 0 -- tracking contacts -- 82 of 82 of type pump_latrine\n",
      "2022-07-22 13:54:25,775 - tracker - INFO - Rank 0 -- tracking contacts -- 500 of 2065 of type religious\n",
      "2022-07-22 13:54:26,572 - rank - INFO - Rank 0 -- tracker -- 7.06865243500215\n",
      "2022-07-22 13:54:26,581 - epidemiology - INFO - CMS: Infection COMS-v2 for rank 0/1(2)0.0003475859994068742,0.000347137451171875 - 2020-05-26 15:00:00\n",
      "2022-07-22 13:54:26,628 - rank - INFO - Rank 0 -- interaction_waiting -- 6.973001291044056e-06\n",
      "2022-07-22 13:54:26,646 - simulator - INFO - CMS: Timestep for rank 0/1 - 8.180742120996001,8.180742979049683 - 2020-05-26 15:00:00\n",
      "\n",
      "2022-07-22 13:54:26,649 - rank - INFO - Next timestep\n",
      "2022-07-22 13:54:26,650 - simulator - INFO - ==================== timestep ====================\n",
      "2022-07-22 13:54:27,439 - rank - INFO - Rank 0 -- move_people -- 0.7884434150037123\n",
      "2022-07-22 13:54:27,440 - rank - INFO - Rank 0 -- move_people_waiting -- 8.267001248896122e-06\n",
      "2022-07-22 13:54:27,441 - activity_manager - INFO - CMS: People COMS for rank 0/1 - 3.929999365936965e-06,3.337860107421875e-06 - 2020-05-26 17:00:00\n",
      "2022-07-22 13:54:27,446 - simulator - INFO - Info for rank 0, Date = 2020-05-26 17:00:00, number of deaths =  0, number of infected = 392\n"
     ]
    },
    {
     "name": "stdout",
     "output_type": "stream",
     "text": [
      "2022-07-22 13:54:27,593 - rank - INFO - Rank 0 -- interaction -- 0.15092425000329968\n",
      "2022-07-22 13:54:27,594 - tracker - INFO - Rank 0 -- tracking contacts -- 8 of 8 of type hospital\n",
      "2022-07-22 13:54:27,595 - tracker - INFO - Rank 0 -- tracking contacts -- 8 of 8 of type isolation_unit\n",
      "2022-07-22 13:54:27,603 - tracker - INFO - Rank 0 -- tracking contacts -- 500 of 3270 of type shelter\n",
      "2022-07-22 13:54:27,917 - tracker - INFO - Rank 0 -- tracking contacts -- 389 of 389 of type learning_center\n",
      "2022-07-22 13:54:27,927 - tracker - INFO - Rank 0 -- tracking contacts -- 115 of 115 of type communal\n",
      "2022-07-22 13:54:27,930 - tracker - INFO - Rank 0 -- tracking contacts -- 21 of 21 of type distribution_center\n",
      "2022-07-22 13:54:27,990 - tracker - INFO - Rank 0 -- tracking contacts -- 7 of 7 of type e_voucher\n",
      "2022-07-22 13:54:28,014 - tracker - INFO - Rank 0 -- tracking contacts -- 67 of 67 of type female_communal\n",
      "2022-07-22 13:54:28,016 - tracker - INFO - Rank 0 -- tracking contacts -- 80 of 80 of type informal_work\n",
      "2022-07-22 13:54:28,111 - tracker - INFO - Rank 0 -- tracking contacts -- 41 of 41 of type n_f_distribution_center\n",
      "2022-07-22 13:54:28,285 - tracker - INFO - Rank 0 -- tracking contacts -- 500 of 539 of type play_group\n",
      "2022-07-22 13:54:28,770 - tracker - INFO - Rank 0 -- tracking contacts -- 82 of 82 of type pump_latrine\n",
      "2022-07-22 13:54:33,819 - tracker - INFO - Rank 0 -- tracking contacts -- 500 of 2065 of type religious\n",
      "2022-07-22 13:54:34,738 - rank - INFO - Rank 0 -- tracker -- 7.14371200199821\n",
      "2022-07-22 13:54:34,748 - epidemiology - INFO - CMS: Infection COMS-v2 for rank 0/1(2)0.0006608559997403063,0.0006604194641113281 - 2020-05-26 17:00:00\n",
      "2022-07-22 13:54:34,794 - rank - INFO - Rank 0 -- interaction_waiting -- 6.85700069880113e-06\n",
      "2022-07-22 13:54:34,808 - simulator - INFO - CMS: Timestep for rank 0/1 - 8.15717417599808,8.157175302505493 - 2020-05-26 17:00:00\n",
      "\n",
      "2022-07-22 13:54:34,810 - rank - INFO - Next timestep\n",
      "2022-07-22 13:54:34,811 - simulator - INFO - ==================== timestep ====================\n",
      "2022-07-22 13:54:34,980 - rank - INFO - Rank 0 -- move_people -- 0.1676863839966245\n",
      "2022-07-22 13:54:34,981 - rank - INFO - Rank 0 -- move_people_waiting -- 8.148002962116152e-06\n",
      "2022-07-22 13:54:34,981 - activity_manager - INFO - CMS: People COMS for rank 0/1 - 3.922003088518977e-06,3.5762786865234375e-06 - 2020-05-26 19:00:00\n",
      "2022-07-22 13:54:34,987 - simulator - INFO - Info for rank 0, Date = 2020-05-26 19:00:00, number of deaths =  0, number of infected = 413\n",
      "2022-07-22 13:54:35,076 - rank - INFO - Rank 0 -- interaction -- 0.09335313799965661\n",
      "2022-07-22 13:54:35,076 - tracker - INFO - Rank 0 -- tracking contacts -- 8 of 8 of type hospital\n",
      "2022-07-22 13:54:35,077 - tracker - INFO - Rank 0 -- tracking contacts -- 8 of 8 of type isolation_unit\n",
      "2022-07-22 13:54:35,090 - tracker - INFO - Rank 0 -- tracking contacts -- 500 of 3270 of type shelter\n",
      "2022-07-22 13:54:36,241 - tracker - INFO - Rank 0 -- tracking contacts -- 389 of 389 of type learning_center\n",
      "2022-07-22 13:54:36,257 - tracker - INFO - Rank 0 -- tracking contacts -- 115 of 115 of type communal\n",
      "2022-07-22 13:54:36,261 - tracker - INFO - Rank 0 -- tracking contacts -- 21 of 21 of type distribution_center\n",
      "2022-07-22 13:54:36,262 - tracker - INFO - Rank 0 -- tracking contacts -- 7 of 7 of type e_voucher\n",
      "2022-07-22 13:54:36,264 - tracker - INFO - Rank 0 -- tracking contacts -- 67 of 67 of type female_communal\n",
      "2022-07-22 13:54:36,267 - tracker - INFO - Rank 0 -- tracking contacts -- 80 of 80 of type informal_work\n",
      "2022-07-22 13:54:36,271 - tracker - INFO - Rank 0 -- tracking contacts -- 41 of 41 of type n_f_distribution_center\n",
      "2022-07-22 13:54:36,275 - tracker - INFO - Rank 0 -- tracking contacts -- 500 of 539 of type play_group\n",
      "2022-07-22 13:54:36,290 - tracker - INFO - Rank 0 -- tracking contacts -- 82 of 82 of type pump_latrine\n",
      "2022-07-22 13:54:36,308 - tracker - INFO - Rank 0 -- tracking contacts -- 500 of 2065 of type religious\n",
      "2022-07-22 13:54:36,320 - rank - INFO - Rank 0 -- tracker -- 1.243726783002785\n",
      "2022-07-22 13:54:36,351 - epidemiology - INFO - CMS: Infection COMS-v2 for rank 0/1(2)0.0003275620038039051,0.0003273487091064453 - 2020-05-26 19:00:00\n",
      "2022-07-22 13:54:36,394 - rank - INFO - Rank 0 -- interaction_waiting -- 6.442998710554093e-06\n",
      "2022-07-22 13:54:36,413 - simulator - INFO - CMS: Timestep for rank 0/1 - 1.601007113000378,1.6010079383850098 - 2020-05-26 19:00:00\n",
      "\n",
      "2022-07-22 13:54:36,415 - rank - INFO - Next timestep\n",
      "2022-07-22 13:54:36,417 - simulator - INFO - ==================== timestep ====================\n",
      "2022-07-22 13:54:36,613 - rank - INFO - Rank 0 -- move_people -- 0.19581751700025052\n",
      "2022-07-22 13:54:36,614 - rank - INFO - Rank 0 -- move_people_waiting -- 1.0176001524087042e-05\n",
      "2022-07-22 13:54:36,615 - activity_manager - INFO - CMS: People COMS for rank 0/1 - 4.239998816046864e-06,4.0531158447265625e-06 - 2020-05-27 09:00:00\n",
      "2022-07-22 13:54:36,623 - simulator - INFO - Info for rank 0, Date = 2020-05-27 09:00:00, number of deaths =  0, number of infected = 479\n",
      "2022-07-22 13:54:36,753 - rank - INFO - Rank 0 -- interaction -- 0.1372208939937991\n",
      "2022-07-22 13:54:36,754 - tracker - INFO - Rank 0 -- tracking contacts -- 8 of 8 of type hospital\n",
      "2022-07-22 13:54:36,761 - tracker - INFO - Rank 0 -- tracking contacts -- 8 of 8 of type isolation_unit\n",
      "2022-07-22 13:54:36,769 - tracker - INFO - Rank 0 -- tracking contacts -- 500 of 3270 of type shelter\n",
      "2022-07-22 13:54:37,543 - tracker - INFO - Rank 0 -- tracking contacts -- 389 of 389 of type learning_center\n",
      "2022-07-22 13:54:38,542 - tracker - INFO - Rank 0 -- tracking contacts -- 115 of 115 of type communal\n",
      "2022-07-22 13:54:38,545 - tracker - INFO - Rank 0 -- tracking contacts -- 21 of 21 of type distribution_center\n",
      "2022-07-22 13:54:38,547 - tracker - INFO - Rank 0 -- tracking contacts -- 7 of 7 of type e_voucher\n",
      "2022-07-22 13:54:38,548 - tracker - INFO - Rank 0 -- tracking contacts -- 67 of 67 of type female_communal\n",
      "2022-07-22 13:54:38,550 - tracker - INFO - Rank 0 -- tracking contacts -- 80 of 80 of type informal_work\n",
      "2022-07-22 13:54:38,553 - tracker - INFO - Rank 0 -- tracking contacts -- 41 of 41 of type n_f_distribution_center\n",
      "2022-07-22 13:54:38,556 - tracker - INFO - Rank 0 -- tracking contacts -- 500 of 539 of type play_group\n",
      "2022-07-22 13:54:38,573 - tracker - INFO - Rank 0 -- tracking contacts -- 82 of 82 of type pump_latrine\n",
      "2022-07-22 13:54:38,586 - tracker - INFO - Rank 0 -- tracking contacts -- 500 of 2065 of type religious\n",
      "2022-07-22 13:54:38,602 - rank - INFO - Rank 0 -- tracker -- 1.847918948995357\n",
      "2022-07-22 13:54:38,612 - epidemiology - INFO - CMS: Infection COMS-v2 for rank 0/1(2)0.0008661030005896464,0.000865936279296875 - 2020-05-27 09:00:00\n",
      "2022-07-22 13:54:38,649 - rank - INFO - Rank 0 -- interaction_waiting -- 7.46500154491514e-06\n",
      "2022-07-22 13:54:38,671 - simulator - INFO - CMS: Timestep for rank 0/1 - 2.253129100005026,2.2531299591064453 - 2020-05-27 09:00:00\n",
      "\n",
      "2022-07-22 13:54:38,674 - rank - INFO - Next timestep\n",
      "2022-07-22 13:54:38,675 - simulator - INFO - ==================== timestep ====================\n",
      "2022-07-22 13:54:39,445 - rank - INFO - Rank 0 -- move_people -- 0.7695393110043369\n",
      "2022-07-22 13:54:39,446 - rank - INFO - Rank 0 -- move_people_waiting -- 1.0039999324362725e-05\n",
      "2022-07-22 13:54:39,447 - activity_manager - INFO - CMS: People COMS for rank 0/1 - 5.9200028772465885e-06,5.4836273193359375e-06 - 2020-05-27 11:00:00\n",
      "2022-07-22 13:54:39,456 - simulator - INFO - Info for rank 0, Date = 2020-05-27 11:00:00, number of deaths =  0, number of infected = 494\n",
      "2022-07-22 13:54:39,627 - rank - INFO - Rank 0 -- interaction -- 0.17918047399871284\n",
      "2022-07-22 13:54:39,628 - tracker - INFO - Rank 0 -- tracking contacts -- 8 of 8 of type hospital\n",
      "2022-07-22 13:54:39,635 - tracker - INFO - Rank 0 -- tracking contacts -- 8 of 8 of type isolation_unit\n",
      "2022-07-22 13:54:39,643 - tracker - INFO - Rank 0 -- tracking contacts -- 500 of 3270 of type shelter\n",
      "2022-07-22 13:54:39,916 - tracker - INFO - Rank 0 -- tracking contacts -- 389 of 389 of type learning_center\n",
      "2022-07-22 13:54:40,947 - tracker - INFO - Rank 0 -- tracking contacts -- 115 of 115 of type communal\n",
      "2022-07-22 13:54:40,965 - tracker - INFO - Rank 0 -- tracking contacts -- 21 of 21 of type distribution_center\n"
     ]
    },
    {
     "name": "stdout",
     "output_type": "stream",
     "text": [
      "2022-07-22 13:54:41,024 - tracker - INFO - Rank 0 -- tracking contacts -- 7 of 7 of type e_voucher\n",
      "2022-07-22 13:54:41,041 - tracker - INFO - Rank 0 -- tracking contacts -- 67 of 67 of type female_communal\n",
      "2022-07-22 13:54:41,104 - tracker - INFO - Rank 0 -- tracking contacts -- 80 of 80 of type informal_work\n",
      "2022-07-22 13:54:41,181 - tracker - INFO - Rank 0 -- tracking contacts -- 41 of 41 of type n_f_distribution_center\n",
      "2022-07-22 13:54:41,303 - tracker - INFO - Rank 0 -- tracking contacts -- 500 of 539 of type play_group\n",
      "2022-07-22 13:54:41,683 - tracker - INFO - Rank 0 -- tracking contacts -- 82 of 82 of type pump_latrine\n",
      "2022-07-22 13:54:45,656 - tracker - INFO - Rank 0 -- tracking contacts -- 500 of 2065 of type religious\n",
      "2022-07-22 13:54:46,418 - rank - INFO - Rank 0 -- tracker -- 6.790010323995375\n",
      "2022-07-22 13:54:46,429 - epidemiology - INFO - CMS: Infection COMS-v2 for rank 0/1(2)0.00029558299866039306,0.0002949237823486328 - 2020-05-27 11:00:00\n",
      "2022-07-22 13:54:46,467 - rank - INFO - Rank 0 -- interaction_waiting -- 7.4499985203146935e-06\n",
      "2022-07-22 13:54:46,481 - simulator - INFO - CMS: Timestep for rank 0/1 - 7.805468045997259,7.805468797683716 - 2020-05-27 11:00:00\n",
      "\n",
      "2022-07-22 13:54:46,484 - rank - INFO - Next timestep\n",
      "2022-07-22 13:54:46,486 - simulator - INFO - ==================== timestep ====================\n",
      "2022-07-22 13:54:47,266 - rank - INFO - Rank 0 -- move_people -- 0.7798659119944205\n",
      "2022-07-22 13:54:47,267 - rank - INFO - Rank 0 -- move_people_waiting -- 8.741997589822859e-06\n",
      "2022-07-22 13:54:47,268 - activity_manager - INFO - CMS: People COMS for rank 0/1 - 3.829998604487628e-06,3.337860107421875e-06 - 2020-05-27 13:00:00\n",
      "2022-07-22 13:54:47,275 - simulator - INFO - Info for rank 0, Date = 2020-05-27 13:00:00, number of deaths =  0, number of infected = 516\n",
      "2022-07-22 13:54:47,451 - rank - INFO - Rank 0 -- interaction -- 0.1826365229935618\n",
      "2022-07-22 13:54:47,453 - tracker - INFO - Rank 0 -- tracking contacts -- 8 of 8 of type hospital\n",
      "2022-07-22 13:54:47,459 - tracker - INFO - Rank 0 -- tracking contacts -- 8 of 8 of type isolation_unit\n",
      "2022-07-22 13:54:47,471 - tracker - INFO - Rank 0 -- tracking contacts -- 500 of 3270 of type shelter\n",
      "2022-07-22 13:54:47,752 - tracker - INFO - Rank 0 -- tracking contacts -- 389 of 389 of type learning_center\n",
      "2022-07-22 13:54:48,791 - tracker - INFO - Rank 0 -- tracking contacts -- 115 of 115 of type communal\n",
      "2022-07-22 13:54:48,809 - tracker - INFO - Rank 0 -- tracking contacts -- 21 of 21 of type distribution_center\n",
      "2022-07-22 13:54:48,872 - tracker - INFO - Rank 0 -- tracking contacts -- 7 of 7 of type e_voucher\n",
      "2022-07-22 13:54:48,882 - tracker - INFO - Rank 0 -- tracking contacts -- 67 of 67 of type female_communal\n",
      "2022-07-22 13:54:48,937 - tracker - INFO - Rank 0 -- tracking contacts -- 80 of 80 of type informal_work\n",
      "2022-07-22 13:54:49,012 - tracker - INFO - Rank 0 -- tracking contacts -- 41 of 41 of type n_f_distribution_center\n",
      "2022-07-22 13:54:49,159 - tracker - INFO - Rank 0 -- tracking contacts -- 500 of 539 of type play_group\n",
      "2022-07-22 13:54:49,523 - tracker - INFO - Rank 0 -- tracking contacts -- 82 of 82 of type pump_latrine\n",
      "2022-07-22 13:54:53,538 - tracker - INFO - Rank 0 -- tracking contacts -- 500 of 2065 of type religious\n",
      "2022-07-22 13:54:54,213 - rank - INFO - Rank 0 -- tracker -- 6.760007286000473\n",
      "2022-07-22 13:54:54,223 - epidemiology - INFO - CMS: Infection COMS-v2 for rank 0/1(2)0.0005021469987696037,0.0005016326904296875 - 2020-05-27 13:00:00\n",
      "2022-07-22 13:54:54,258 - rank - INFO - Rank 0 -- interaction_waiting -- 6.380003469530493e-06\n",
      "2022-07-22 13:54:54,271 - simulator - INFO - CMS: Timestep for rank 0/1 - 7.784203985000204,7.784204483032227 - 2020-05-27 13:00:00\n",
      "\n",
      "2022-07-22 13:54:54,273 - rank - INFO - Next timestep\n",
      "2022-07-22 13:54:54,274 - simulator - INFO - ==================== timestep ====================\n",
      "2022-07-22 13:54:54,993 - rank - INFO - Rank 0 -- move_people -- 0.7173172949987929\n",
      "2022-07-22 13:54:54,993 - rank - INFO - Rank 0 -- move_people_waiting -- 7.041002390906215e-06\n",
      "2022-07-22 13:54:54,994 - activity_manager - INFO - CMS: People COMS for rank 0/1 - 3.868997737299651e-06,3.337860107421875e-06 - 2020-05-27 15:00:00\n",
      "2022-07-22 13:54:55,000 - simulator - INFO - Info for rank 0, Date = 2020-05-27 15:00:00, number of deaths =  0, number of infected = 537\n",
      "2022-07-22 13:54:55,159 - rank - INFO - Rank 0 -- interaction -- 0.16358345100161387\n",
      "2022-07-22 13:54:55,160 - tracker - INFO - Rank 0 -- tracking contacts -- 8 of 8 of type hospital\n",
      "2022-07-22 13:54:55,167 - tracker - INFO - Rank 0 -- tracking contacts -- 8 of 8 of type isolation_unit\n",
      "2022-07-22 13:54:55,173 - tracker - INFO - Rank 0 -- tracking contacts -- 500 of 3270 of type shelter\n",
      "2022-07-22 13:54:55,446 - tracker - INFO - Rank 0 -- tracking contacts -- 389 of 389 of type learning_center\n",
      "2022-07-22 13:54:56,376 - tracker - INFO - Rank 0 -- tracking contacts -- 115 of 115 of type communal\n",
      "2022-07-22 13:54:56,394 - tracker - INFO - Rank 0 -- tracking contacts -- 21 of 21 of type distribution_center\n",
      "2022-07-22 13:54:56,433 - tracker - INFO - Rank 0 -- tracking contacts -- 7 of 7 of type e_voucher\n",
      "2022-07-22 13:54:56,451 - tracker - INFO - Rank 0 -- tracking contacts -- 67 of 67 of type female_communal\n",
      "2022-07-22 13:54:56,510 - tracker - INFO - Rank 0 -- tracking contacts -- 80 of 80 of type informal_work\n",
      "2022-07-22 13:54:56,579 - tracker - INFO - Rank 0 -- tracking contacts -- 41 of 41 of type n_f_distribution_center\n",
      "2022-07-22 13:54:56,708 - tracker - INFO - Rank 0 -- tracking contacts -- 500 of 539 of type play_group\n",
      "2022-07-22 13:54:57,036 - tracker - INFO - Rank 0 -- tracking contacts -- 82 of 82 of type pump_latrine\n",
      "2022-07-22 13:55:01,115 - tracker - INFO - Rank 0 -- tracking contacts -- 500 of 2065 of type religious\n",
      "2022-07-22 13:55:01,885 - rank - INFO - Rank 0 -- tracker -- 6.725034062001214\n",
      "2022-07-22 13:55:01,896 - epidemiology - INFO - CMS: Infection COMS-v2 for rank 0/1(2)0.0006270039957598783,0.0006265640258789062 - 2020-05-27 15:00:00\n",
      "2022-07-22 13:55:01,934 - rank - INFO - Rank 0 -- interaction_waiting -- 1.110800076276064e-05\n",
      "2022-07-22 13:55:01,948 - simulator - INFO - CMS: Timestep for rank 0/1 - 7.673312055005226,7.6733129024505615 - 2020-05-27 15:00:00\n",
      "\n",
      "2022-07-22 13:55:01,951 - rank - INFO - Next timestep\n",
      "2022-07-22 13:55:01,952 - simulator - INFO - ==================== timestep ====================\n",
      "2022-07-22 13:55:02,913 - rank - INFO - Rank 0 -- move_people -- 0.9593120100034866\n",
      "2022-07-22 13:55:02,913 - rank - INFO - Rank 0 -- move_people_waiting -- 7.418995664920658e-06\n",
      "2022-07-22 13:55:02,914 - activity_manager - INFO - CMS: People COMS for rank 0/1 - 3.854998794849962e-06,3.5762786865234375e-06 - 2020-05-27 17:00:00\n",
      "2022-07-22 13:55:02,921 - simulator - INFO - Info for rank 0, Date = 2020-05-27 17:00:00, number of deaths =  0, number of infected = 558\n",
      "2022-07-22 13:55:03,093 - rank - INFO - Rank 0 -- interaction -- 0.17773700100224232\n",
      "2022-07-22 13:55:03,094 - tracker - INFO - Rank 0 -- tracking contacts -- 8 of 8 of type hospital\n",
      "2022-07-22 13:55:03,095 - tracker - INFO - Rank 0 -- tracking contacts -- 8 of 8 of type isolation_unit\n",
      "2022-07-22 13:55:03,107 - tracker - INFO - Rank 0 -- tracking contacts -- 500 of 3270 of type shelter\n",
      "2022-07-22 13:55:03,447 - tracker - INFO - Rank 0 -- tracking contacts -- 389 of 389 of type learning_center\n",
      "2022-07-22 13:55:03,462 - tracker - INFO - Rank 0 -- tracking contacts -- 115 of 115 of type communal\n",
      "2022-07-22 13:55:03,467 - tracker - INFO - Rank 0 -- tracking contacts -- 21 of 21 of type distribution_center\n",
      "2022-07-22 13:55:03,527 - tracker - INFO - Rank 0 -- tracking contacts -- 7 of 7 of type e_voucher\n",
      "2022-07-22 13:55:03,551 - tracker - INFO - Rank 0 -- tracking contacts -- 67 of 67 of type female_communal\n",
      "2022-07-22 13:55:03,554 - tracker - INFO - Rank 0 -- tracking contacts -- 80 of 80 of type informal_work\n",
      "2022-07-22 13:55:03,646 - tracker - INFO - Rank 0 -- tracking contacts -- 41 of 41 of type n_f_distribution_center\n",
      "2022-07-22 13:55:03,857 - tracker - INFO - Rank 0 -- tracking contacts -- 500 of 539 of type play_group\n",
      "2022-07-22 13:55:04,345 - tracker - INFO - Rank 0 -- tracking contacts -- 82 of 82 of type pump_latrine\n"
     ]
    },
    {
     "name": "stdout",
     "output_type": "stream",
     "text": [
      "2022-07-22 13:55:10,028 - tracker - INFO - Rank 0 -- tracking contacts -- 500 of 2065 of type religious\n",
      "2022-07-22 13:55:10,976 - rank - INFO - Rank 0 -- tracker -- 7.882520533006755\n",
      "2022-07-22 13:55:10,986 - epidemiology - INFO - CMS: Infection COMS-v2 for rank 0/1(2)0.0004068470007041469,0.0004067420959472656 - 2020-05-27 17:00:00\n",
      "2022-07-22 13:55:11,034 - rank - INFO - Rank 0 -- interaction_waiting -- 8.071001502685249e-06\n",
      "2022-07-22 13:55:11,050 - simulator - INFO - CMS: Timestep for rank 0/1 - 9.096866386993497,9.096867799758911 - 2020-05-27 17:00:00\n",
      "\n",
      "2022-07-22 13:55:11,053 - rank - INFO - Next timestep\n",
      "2022-07-22 13:55:11,054 - simulator - INFO - ==================== timestep ====================\n",
      "2022-07-22 13:55:11,238 - rank - INFO - Rank 0 -- move_people -- 0.18309015600243583\n",
      "2022-07-22 13:55:11,240 - rank - INFO - Rank 0 -- move_people_waiting -- 5.196998245082796e-06\n",
      "2022-07-22 13:55:11,240 - activity_manager - INFO - CMS: People COMS for rank 0/1 - 3.6669953260570765e-06,3.337860107421875e-06 - 2020-05-27 19:00:00\n",
      "2022-07-22 13:55:11,246 - simulator - INFO - Info for rank 0, Date = 2020-05-27 19:00:00, number of deaths =  0, number of infected = 576\n",
      "2022-07-22 13:55:11,349 - rank - INFO - Rank 0 -- interaction -- 0.10784769400197547\n",
      "2022-07-22 13:55:11,351 - tracker - INFO - Rank 0 -- tracking contacts -- 8 of 8 of type hospital\n",
      "2022-07-22 13:55:11,352 - tracker - INFO - Rank 0 -- tracking contacts -- 8 of 8 of type isolation_unit\n",
      "2022-07-22 13:55:11,363 - tracker - INFO - Rank 0 -- tracking contacts -- 500 of 3270 of type shelter\n",
      "2022-07-22 13:55:12,493 - tracker - INFO - Rank 0 -- tracking contacts -- 389 of 389 of type learning_center\n",
      "2022-07-22 13:55:12,503 - tracker - INFO - Rank 0 -- tracking contacts -- 115 of 115 of type communal\n",
      "2022-07-22 13:55:12,506 - tracker - INFO - Rank 0 -- tracking contacts -- 21 of 21 of type distribution_center\n",
      "2022-07-22 13:55:12,507 - tracker - INFO - Rank 0 -- tracking contacts -- 7 of 7 of type e_voucher\n",
      "2022-07-22 13:55:12,509 - tracker - INFO - Rank 0 -- tracking contacts -- 67 of 67 of type female_communal\n",
      "2022-07-22 13:55:12,511 - tracker - INFO - Rank 0 -- tracking contacts -- 80 of 80 of type informal_work\n",
      "2022-07-22 13:55:12,514 - tracker - INFO - Rank 0 -- tracking contacts -- 41 of 41 of type n_f_distribution_center\n",
      "2022-07-22 13:55:12,518 - tracker - INFO - Rank 0 -- tracking contacts -- 500 of 539 of type play_group\n",
      "2022-07-22 13:55:12,529 - tracker - INFO - Rank 0 -- tracking contacts -- 82 of 82 of type pump_latrine\n",
      "2022-07-22 13:55:12,542 - tracker - INFO - Rank 0 -- tracking contacts -- 500 of 2065 of type religious\n",
      "2022-07-22 13:55:12,551 - rank - INFO - Rank 0 -- tracker -- 1.2004510210026638\n",
      "2022-07-22 13:55:12,599 - epidemiology - INFO - CMS: Infection COMS-v2 for rank 0/1(2)0.0018257100018672645,0.001825571060180664 - 2020-05-27 19:00:00\n",
      "2022-07-22 13:55:12,647 - rank - INFO - Rank 0 -- interaction_waiting -- 7.0690002758055925e-06\n",
      "2022-07-22 13:55:12,661 - simulator - INFO - CMS: Timestep for rank 0/1 - 1.6053453219938092,1.6053462028503418 - 2020-05-27 19:00:00\n",
      "\n",
      "2022-07-22 13:55:12,663 - rank - INFO - Next timestep\n",
      "2022-07-22 13:55:12,664 - simulator - INFO - ==================== timestep ====================\n",
      "2022-07-22 13:55:12,861 - rank - INFO - Rank 0 -- move_people -- 0.19619752900325693\n",
      "2022-07-22 13:55:12,862 - rank - INFO - Rank 0 -- move_people_waiting -- 9.193005098495632e-06\n",
      "2022-07-22 13:55:12,863 - activity_manager - INFO - CMS: People COMS for rank 0/1 - 4.663997970055789e-06,4.291534423828125e-06 - 2020-05-28 09:00:00\n",
      "2022-07-22 13:55:12,869 - simulator - INFO - Info for rank 0, Date = 2020-05-28 09:00:00, number of deaths =  0, number of infected = 673\n",
      "2022-07-22 13:55:12,967 - rank - INFO - Rank 0 -- interaction -- 0.1026543009938905\n",
      "2022-07-22 13:55:12,969 - tracker - INFO - Rank 0 -- tracking contacts -- 8 of 8 of type hospital\n",
      "2022-07-22 13:55:12,975 - tracker - INFO - Rank 0 -- tracking contacts -- 8 of 8 of type isolation_unit\n",
      "2022-07-22 13:55:12,982 - tracker - INFO - Rank 0 -- tracking contacts -- 500 of 3270 of type shelter\n",
      "2022-07-22 13:55:13,736 - tracker - INFO - Rank 0 -- tracking contacts -- 389 of 389 of type learning_center\n",
      "2022-07-22 13:55:14,690 - tracker - INFO - Rank 0 -- tracking contacts -- 115 of 115 of type communal\n",
      "2022-07-22 13:55:14,692 - tracker - INFO - Rank 0 -- tracking contacts -- 21 of 21 of type distribution_center\n",
      "2022-07-22 13:55:14,693 - tracker - INFO - Rank 0 -- tracking contacts -- 7 of 7 of type e_voucher\n",
      "2022-07-22 13:55:14,695 - tracker - INFO - Rank 0 -- tracking contacts -- 67 of 67 of type female_communal\n",
      "2022-07-22 13:55:14,697 - tracker - INFO - Rank 0 -- tracking contacts -- 80 of 80 of type informal_work\n",
      "2022-07-22 13:55:14,700 - tracker - INFO - Rank 0 -- tracking contacts -- 41 of 41 of type n_f_distribution_center\n",
      "2022-07-22 13:55:14,704 - tracker - INFO - Rank 0 -- tracking contacts -- 500 of 539 of type play_group\n",
      "2022-07-22 13:55:14,713 - tracker - INFO - Rank 0 -- tracking contacts -- 82 of 82 of type pump_latrine\n",
      "2022-07-22 13:55:14,725 - tracker - INFO - Rank 0 -- tracking contacts -- 500 of 2065 of type religious\n",
      "2022-07-22 13:55:14,735 - rank - INFO - Rank 0 -- tracker -- 1.766233727998042\n",
      "2022-07-22 13:55:14,747 - epidemiology - INFO - CMS: Infection COMS-v2 for rank 0/1(2)0.0015164180003921501,0.001516580581665039 - 2020-05-28 09:00:00\n",
      "2022-07-22 13:55:14,838 - rank - INFO - Rank 0 -- interaction_waiting -- 7.829003152437508e-06\n",
      "2022-07-22 13:55:14,852 - simulator - INFO - CMS: Timestep for rank 0/1 - 2.1868706199966255,2.18687105178833 - 2020-05-28 09:00:00\n",
      "\n",
      "2022-07-22 13:55:14,854 - rank - INFO - Next timestep\n",
      "2022-07-22 13:55:14,855 - simulator - INFO - ==================== timestep ====================\n",
      "2022-07-22 13:55:15,576 - rank - INFO - Rank 0 -- move_people -- 0.71928421100165\n",
      "2022-07-22 13:55:15,577 - rank - INFO - Rank 0 -- move_people_waiting -- 4.358000296633691e-06\n",
      "2022-07-22 13:55:15,577 - activity_manager - INFO - CMS: People COMS for rank 0/1 - 3.765002475120127e-06,3.5762786865234375e-06 - 2020-05-28 11:00:00\n",
      "2022-07-22 13:55:15,583 - simulator - INFO - Info for rank 0, Date = 2020-05-28 11:00:00, number of deaths =  0, number of infected = 690\n",
      "2022-07-22 13:55:15,756 - rank - INFO - Rank 0 -- interaction -- 0.1780247229980887\n",
      "2022-07-22 13:55:15,758 - tracker - INFO - Rank 0 -- tracking contacts -- 8 of 8 of type hospital\n",
      "2022-07-22 13:55:15,764 - tracker - INFO - Rank 0 -- tracking contacts -- 8 of 8 of type isolation_unit\n",
      "2022-07-22 13:55:15,771 - tracker - INFO - Rank 0 -- tracking contacts -- 500 of 3270 of type shelter\n",
      "2022-07-22 13:55:16,036 - tracker - INFO - Rank 0 -- tracking contacts -- 389 of 389 of type learning_center\n",
      "2022-07-22 13:55:17,003 - tracker - INFO - Rank 0 -- tracking contacts -- 115 of 115 of type communal\n",
      "2022-07-22 13:55:17,025 - tracker - INFO - Rank 0 -- tracking contacts -- 21 of 21 of type distribution_center\n",
      "2022-07-22 13:55:17,056 - tracker - INFO - Rank 0 -- tracking contacts -- 7 of 7 of type e_voucher\n",
      "2022-07-22 13:55:17,070 - tracker - INFO - Rank 0 -- tracking contacts -- 67 of 67 of type female_communal\n",
      "2022-07-22 13:55:17,136 - tracker - INFO - Rank 0 -- tracking contacts -- 80 of 80 of type informal_work\n",
      "2022-07-22 13:55:17,197 - tracker - INFO - Rank 0 -- tracking contacts -- 41 of 41 of type n_f_distribution_center\n",
      "2022-07-22 13:55:17,296 - tracker - INFO - Rank 0 -- tracking contacts -- 500 of 539 of type play_group\n",
      "2022-07-22 13:55:17,648 - tracker - INFO - Rank 0 -- tracking contacts -- 82 of 82 of type pump_latrine\n",
      "2022-07-22 13:55:21,501 - tracker - INFO - Rank 0 -- tracking contacts -- 500 of 2065 of type religious\n",
      "2022-07-22 13:55:22,315 - rank - INFO - Rank 0 -- tracker -- 6.557379227000638\n",
      "2022-07-22 13:55:22,331 - epidemiology - INFO - CMS: Infection COMS-v2 for rank 0/1(2)0.0005743690053350292,0.0005745887756347656 - 2020-05-28 11:00:00\n",
      "2022-07-22 13:55:22,372 - rank - INFO - Rank 0 -- interaction_waiting -- 6.9060042733326554e-06\n",
      "2022-07-22 13:55:22,385 - simulator - INFO - CMS: Timestep for rank 0/1 - 7.528926027000125,7.528926849365234 - 2020-05-28 11:00:00\n",
      "\n",
      "2022-07-22 13:55:22,388 - rank - INFO - Next timestep\n"
     ]
    },
    {
     "name": "stdout",
     "output_type": "stream",
     "text": [
      "2022-07-22 13:55:22,389 - simulator - INFO - ==================== timestep ====================\n",
      "2022-07-22 13:55:23,223 - rank - INFO - Rank 0 -- move_people -- 0.8338218959979713\n",
      "2022-07-22 13:55:23,226 - rank - INFO - Rank 0 -- move_people_waiting -- 5.998001142870635e-06\n",
      "2022-07-22 13:55:23,227 - activity_manager - INFO - CMS: People COMS for rank 0/1 - 5.6819990277290344e-06,5.0067901611328125e-06 - 2020-05-28 13:00:00\n",
      "2022-07-22 13:55:23,235 - simulator - INFO - Info for rank 0, Date = 2020-05-28 13:00:00, number of deaths =  0, number of infected = 721\n",
      "2022-07-22 13:55:23,415 - rank - INFO - Rank 0 -- interaction -- 0.18708016000164207\n",
      "2022-07-22 13:55:23,416 - tracker - INFO - Rank 0 -- tracking contacts -- 8 of 8 of type hospital\n",
      "2022-07-22 13:55:23,430 - tracker - INFO - Rank 0 -- tracking contacts -- 8 of 8 of type isolation_unit\n",
      "2022-07-22 13:55:23,437 - tracker - INFO - Rank 0 -- tracking contacts -- 500 of 3270 of type shelter\n",
      "2022-07-22 13:55:23,702 - tracker - INFO - Rank 0 -- tracking contacts -- 389 of 389 of type learning_center\n",
      "2022-07-22 13:55:24,685 - tracker - INFO - Rank 0 -- tracking contacts -- 115 of 115 of type communal\n",
      "2022-07-22 13:55:24,702 - tracker - INFO - Rank 0 -- tracking contacts -- 21 of 21 of type distribution_center\n",
      "2022-07-22 13:55:24,742 - tracker - INFO - Rank 0 -- tracking contacts -- 7 of 7 of type e_voucher\n",
      "2022-07-22 13:55:24,762 - tracker - INFO - Rank 0 -- tracking contacts -- 67 of 67 of type female_communal\n",
      "2022-07-22 13:55:24,825 - tracker - INFO - Rank 0 -- tracking contacts -- 80 of 80 of type informal_work\n",
      "2022-07-22 13:55:24,896 - tracker - INFO - Rank 0 -- tracking contacts -- 41 of 41 of type n_f_distribution_center\n",
      "2022-07-22 13:55:25,047 - tracker - INFO - Rank 0 -- tracking contacts -- 500 of 539 of type play_group\n",
      "2022-07-22 13:55:25,428 - tracker - INFO - Rank 0 -- tracking contacts -- 82 of 82 of type pump_latrine\n",
      "2022-07-22 13:55:29,650 - tracker - INFO - Rank 0 -- tracking contacts -- 500 of 2065 of type religious\n",
      "2022-07-22 13:55:30,371 - rank - INFO - Rank 0 -- tracker -- 6.955113126001379\n",
      "2022-07-22 13:55:30,387 - epidemiology - INFO - CMS: Infection COMS-v2 for rank 0/1(2)0.0007036710012471303,0.0007033348083496094 - 2020-05-28 13:00:00\n",
      "2022-07-22 13:55:30,434 - rank - INFO - Rank 0 -- interaction_waiting -- 7.105998520273715e-06\n",
      "2022-07-22 13:55:30,451 - simulator - INFO - CMS: Timestep for rank 0/1 - 8.062066076003248,8.06206727027893 - 2020-05-28 13:00:00\n",
      "\n",
      "2022-07-22 13:55:30,454 - rank - INFO - Next timestep\n",
      "2022-07-22 13:55:30,455 - simulator - INFO - ==================== timestep ====================\n",
      "2022-07-22 13:55:31,266 - rank - INFO - Rank 0 -- move_people -- 0.8102408580016345\n",
      "2022-07-22 13:55:31,267 - rank - INFO - Rank 0 -- move_people_waiting -- 6.442998710554093e-06\n",
      "2022-07-22 13:55:31,268 - activity_manager - INFO - CMS: People COMS for rank 0/1 - 3.887995262630284e-06,3.337860107421875e-06 - 2020-05-28 15:00:00\n",
      "2022-07-22 13:55:31,277 - simulator - INFO - Info for rank 0, Date = 2020-05-28 15:00:00, number of deaths =  0, number of infected = 743\n",
      "2022-07-22 13:55:31,455 - rank - INFO - Rank 0 -- interaction -- 0.18645967599877622\n",
      "2022-07-22 13:55:31,456 - tracker - INFO - Rank 0 -- tracking contacts -- 8 of 8 of type hospital\n",
      "2022-07-22 13:55:31,472 - tracker - INFO - Rank 0 -- tracking contacts -- 8 of 8 of type isolation_unit\n",
      "2022-07-22 13:55:31,480 - tracker - INFO - Rank 0 -- tracking contacts -- 500 of 3270 of type shelter\n",
      "2022-07-22 13:55:31,765 - tracker - INFO - Rank 0 -- tracking contacts -- 389 of 389 of type learning_center\n",
      "2022-07-22 13:55:32,758 - tracker - INFO - Rank 0 -- tracking contacts -- 115 of 115 of type communal\n",
      "2022-07-22 13:55:32,782 - tracker - INFO - Rank 0 -- tracking contacts -- 21 of 21 of type distribution_center\n",
      "2022-07-22 13:55:32,851 - tracker - INFO - Rank 0 -- tracking contacts -- 7 of 7 of type e_voucher\n",
      "2022-07-22 13:55:32,868 - tracker - INFO - Rank 0 -- tracking contacts -- 67 of 67 of type female_communal\n",
      "2022-07-22 13:55:32,936 - tracker - INFO - Rank 0 -- tracking contacts -- 80 of 80 of type informal_work\n",
      "2022-07-22 13:55:33,018 - tracker - INFO - Rank 0 -- tracking contacts -- 41 of 41 of type n_f_distribution_center\n",
      "2022-07-22 13:55:33,157 - tracker - INFO - Rank 0 -- tracking contacts -- 500 of 539 of type play_group\n",
      "2022-07-22 13:55:33,514 - tracker - INFO - Rank 0 -- tracking contacts -- 82 of 82 of type pump_latrine\n",
      "2022-07-22 13:55:37,479 - tracker - INFO - Rank 0 -- tracking contacts -- 500 of 2065 of type religious\n",
      "2022-07-22 13:55:38,107 - rank - INFO - Rank 0 -- tracker -- 6.6509278300000005\n",
      "2022-07-22 13:55:38,118 - epidemiology - INFO - CMS: Infection COMS-v2 for rank 0/1(2)0.0002926270026364364,0.0002923011779785156 - 2020-05-28 15:00:00\n",
      "2022-07-22 13:55:38,155 - rank - INFO - Rank 0 -- interaction_waiting -- 6.496004061773419e-06\n",
      "2022-07-22 13:55:38,168 - simulator - INFO - CMS: Timestep for rank 0/1 - 7.711773260998598,7.7117743492126465 - 2020-05-28 15:00:00\n",
      "\n",
      "2022-07-22 13:55:38,170 - rank - INFO - Next timestep\n",
      "2022-07-22 13:55:38,171 - simulator - INFO - ==================== timestep ====================\n",
      "2022-07-22 13:55:38,992 - rank - INFO - Rank 0 -- move_people -- 0.8204695379972691\n",
      "2022-07-22 13:55:38,993 - rank - INFO - Rank 0 -- move_people_waiting -- 6.419002602342516e-06\n",
      "2022-07-22 13:55:38,994 - activity_manager - INFO - CMS: People COMS for rank 0/1 - 3.916000423487276e-06,3.5762786865234375e-06 - 2020-05-28 17:00:00\n",
      "2022-07-22 13:55:39,000 - simulator - INFO - Info for rank 0, Date = 2020-05-28 17:00:00, number of deaths =  0, number of infected = 771\n",
      "2022-07-22 13:55:39,170 - rank - INFO - Rank 0 -- interaction -- 0.17497257300419733\n",
      "2022-07-22 13:55:39,171 - tracker - INFO - Rank 0 -- tracking contacts -- 8 of 8 of type hospital\n",
      "2022-07-22 13:55:39,172 - tracker - INFO - Rank 0 -- tracking contacts -- 8 of 8 of type isolation_unit\n",
      "2022-07-22 13:55:39,188 - tracker - INFO - Rank 0 -- tracking contacts -- 500 of 3270 of type shelter\n",
      "2022-07-22 13:55:39,504 - tracker - INFO - Rank 0 -- tracking contacts -- 389 of 389 of type learning_center\n",
      "2022-07-22 13:55:39,519 - tracker - INFO - Rank 0 -- tracking contacts -- 115 of 115 of type communal\n",
      "2022-07-22 13:55:39,523 - tracker - INFO - Rank 0 -- tracking contacts -- 21 of 21 of type distribution_center\n",
      "2022-07-22 13:55:39,580 - tracker - INFO - Rank 0 -- tracking contacts -- 7 of 7 of type e_voucher\n",
      "2022-07-22 13:55:39,606 - tracker - INFO - Rank 0 -- tracking contacts -- 67 of 67 of type female_communal\n",
      "2022-07-22 13:55:39,608 - tracker - INFO - Rank 0 -- tracking contacts -- 80 of 80 of type informal_work\n",
      "2022-07-22 13:55:39,694 - tracker - INFO - Rank 0 -- tracking contacts -- 41 of 41 of type n_f_distribution_center\n",
      "2022-07-22 13:55:39,865 - tracker - INFO - Rank 0 -- tracking contacts -- 500 of 539 of type play_group\n",
      "2022-07-22 13:55:40,319 - tracker - INFO - Rank 0 -- tracking contacts -- 82 of 82 of type pump_latrine\n",
      "2022-07-22 13:55:45,556 - tracker - INFO - Rank 0 -- tracking contacts -- 500 of 2065 of type religious\n",
      "2022-07-22 13:55:46,542 - rank - INFO - Rank 0 -- tracker -- 7.37147205400106\n",
      "2022-07-22 13:55:46,559 - epidemiology - INFO - CMS: Infection COMS-v2 for rank 0/1(2)0.0024780740059213713,0.0024781227111816406 - 2020-05-28 17:00:00\n",
      "2022-07-22 13:55:46,613 - rank - INFO - Rank 0 -- interaction_waiting -- 6.829999620094895e-06\n",
      "2022-07-22 13:55:46,628 - simulator - INFO - CMS: Timestep for rank 0/1 - 8.455907390998618,8.455908060073853 - 2020-05-28 17:00:00\n",
      "\n",
      "2022-07-22 13:55:46,630 - rank - INFO - Next timestep\n",
      "2022-07-22 13:55:46,632 - simulator - INFO - ==================== timestep ====================\n",
      "2022-07-22 13:55:46,811 - rank - INFO - Rank 0 -- move_people -- 0.17805020499508828\n",
      "2022-07-22 13:55:46,812 - rank - INFO - Rank 0 -- move_people_waiting -- 5.061003321316093e-06\n",
      "2022-07-22 13:55:46,813 - activity_manager - INFO - CMS: People COMS for rank 0/1 - 5.078996764495969e-06,4.5299530029296875e-06 - 2020-05-28 19:00:00\n",
      "2022-07-22 13:55:46,821 - simulator - INFO - Info for rank 0, Date = 2020-05-28 19:00:00, number of deaths =  0, number of infected = 800\n",
      "2022-07-22 13:55:46,943 - rank - INFO - Rank 0 -- interaction -- 0.12941142799536465\n"
     ]
    },
    {
     "name": "stdout",
     "output_type": "stream",
     "text": [
      "2022-07-22 13:55:46,944 - tracker - INFO - Rank 0 -- tracking contacts -- 8 of 8 of type hospital\n",
      "2022-07-22 13:55:46,945 - tracker - INFO - Rank 0 -- tracking contacts -- 8 of 8 of type isolation_unit\n",
      "2022-07-22 13:55:46,963 - tracker - INFO - Rank 0 -- tracking contacts -- 500 of 3270 of type shelter\n",
      "2022-07-22 13:55:48,064 - tracker - INFO - Rank 0 -- tracking contacts -- 389 of 389 of type learning_center\n",
      "2022-07-22 13:55:48,075 - tracker - INFO - Rank 0 -- tracking contacts -- 115 of 115 of type communal\n",
      "2022-07-22 13:55:48,078 - tracker - INFO - Rank 0 -- tracking contacts -- 21 of 21 of type distribution_center\n",
      "2022-07-22 13:55:48,079 - tracker - INFO - Rank 0 -- tracking contacts -- 7 of 7 of type e_voucher\n",
      "2022-07-22 13:55:48,081 - tracker - INFO - Rank 0 -- tracking contacts -- 67 of 67 of type female_communal\n",
      "2022-07-22 13:55:48,083 - tracker - INFO - Rank 0 -- tracking contacts -- 80 of 80 of type informal_work\n",
      "2022-07-22 13:55:48,086 - tracker - INFO - Rank 0 -- tracking contacts -- 41 of 41 of type n_f_distribution_center\n",
      "2022-07-22 13:55:48,090 - tracker - INFO - Rank 0 -- tracking contacts -- 500 of 539 of type play_group\n",
      "2022-07-22 13:55:48,099 - tracker - INFO - Rank 0 -- tracking contacts -- 82 of 82 of type pump_latrine\n",
      "2022-07-22 13:55:48,112 - tracker - INFO - Rank 0 -- tracking contacts -- 500 of 2065 of type religious\n",
      "2022-07-22 13:55:48,122 - rank - INFO - Rank 0 -- tracker -- 1.177370739998878\n",
      "2022-07-22 13:55:48,176 - epidemiology - INFO - CMS: Infection COMS-v2 for rank 0/1(2)0.00030317499476950616,0.0003025531768798828 - 2020-05-28 19:00:00\n",
      "2022-07-22 13:55:48,215 - rank - INFO - Rank 0 -- interaction_waiting -- 1.43309953273274e-05\n",
      "2022-07-22 13:55:48,229 - simulator - INFO - CMS: Timestep for rank 0/1 - 1.5963831979970564,1.596383810043335 - 2020-05-28 19:00:00\n",
      "\n",
      "2022-07-22 13:55:48,232 - rank - INFO - Next timestep\n",
      "2022-07-22 13:55:48,233 - simulator - INFO - ==================== timestep ====================\n",
      "2022-07-22 13:55:48,408 - rank - INFO - Rank 0 -- move_people -- 0.1736951099956059\n",
      "2022-07-22 13:55:48,409 - rank - INFO - Rank 0 -- move_people_waiting -- 8.495000656694174e-06\n",
      "2022-07-22 13:55:48,410 - activity_manager - INFO - CMS: People COMS for rank 0/1 - 3.5429984563961625e-06,3.0994415283203125e-06 - 2020-05-29 09:00:00\n",
      "2022-07-22 13:55:48,415 - simulator - INFO - Info for rank 0, Date = 2020-05-29 09:00:00, number of deaths =  0, number of infected = 905\n",
      "2022-07-22 13:55:48,528 - rank - INFO - Rank 0 -- interaction -- 0.11782256799779134\n",
      "2022-07-22 13:55:48,529 - tracker - INFO - Rank 0 -- tracking contacts -- 8 of 8 of type hospital\n",
      "2022-07-22 13:55:48,530 - tracker - INFO - Rank 0 -- tracking contacts -- 8 of 8 of type isolation_unit\n",
      "2022-07-22 13:55:48,537 - tracker - INFO - Rank 0 -- tracking contacts -- 500 of 3270 of type shelter\n",
      "2022-07-22 13:55:49,526 - tracker - INFO - Rank 0 -- tracking contacts -- 389 of 389 of type learning_center\n",
      "2022-07-22 13:55:49,538 - tracker - INFO - Rank 0 -- tracking contacts -- 115 of 115 of type communal\n",
      "2022-07-22 13:55:49,542 - tracker - INFO - Rank 0 -- tracking contacts -- 21 of 21 of type distribution_center\n",
      "2022-07-22 13:55:49,544 - tracker - INFO - Rank 0 -- tracking contacts -- 7 of 7 of type e_voucher\n",
      "2022-07-22 13:55:49,546 - tracker - INFO - Rank 0 -- tracking contacts -- 67 of 67 of type female_communal\n",
      "2022-07-22 13:55:49,549 - tracker - INFO - Rank 0 -- tracking contacts -- 80 of 80 of type informal_work\n",
      "2022-07-22 13:55:49,553 - tracker - INFO - Rank 0 -- tracking contacts -- 41 of 41 of type n_f_distribution_center\n",
      "2022-07-22 13:55:49,557 - tracker - INFO - Rank 0 -- tracking contacts -- 500 of 539 of type play_group\n",
      "2022-07-22 13:55:49,570 - tracker - INFO - Rank 0 -- tracking contacts -- 82 of 82 of type pump_latrine\n",
      "2022-07-22 13:55:49,586 - tracker - INFO - Rank 0 -- tracking contacts -- 500 of 2065 of type religious\n",
      "2022-07-22 13:55:49,595 - rank - INFO - Rank 0 -- tracker -- 1.065655593003612\n",
      "2022-07-22 13:55:49,603 - epidemiology - INFO - CMS: Infection COMS-v2 for rank 0/1(2)0.00029196199466241524,0.00029158592224121094 - 2020-05-29 09:00:00\n",
      "2022-07-22 13:55:49,645 - rank - INFO - Rank 0 -- interaction_waiting -- 7.2070033638738096e-06\n",
      "2022-07-22 13:55:49,661 - simulator - INFO - CMS: Timestep for rank 0/1 - 1.4264341649977723,1.4264345169067383 - 2020-05-29 09:00:00\n",
      "\n",
      "2022-07-22 13:55:49,663 - rank - INFO - Next timestep\n",
      "2022-07-22 13:55:49,665 - simulator - INFO - ==================== timestep ====================\n",
      "2022-07-22 13:55:50,583 - rank - INFO - Rank 0 -- move_people -- 0.9174372050038073\n",
      "2022-07-22 13:55:50,584 - rank - INFO - Rank 0 -- move_people_waiting -- 7.4459967436268926e-06\n",
      "2022-07-22 13:55:50,585 - activity_manager - INFO - CMS: People COMS for rank 0/1 - 4.246001481078565e-06,3.814697265625e-06 - 2020-05-29 12:00:00\n",
      "2022-07-22 13:55:50,591 - simulator - INFO - Info for rank 0, Date = 2020-05-29 12:00:00, number of deaths =  0, number of infected = 920\n",
      "2022-07-22 13:55:50,786 - rank - INFO - Rank 0 -- interaction -- 0.19998866600508336\n",
      "2022-07-22 13:55:50,787 - tracker - INFO - Rank 0 -- tracking contacts -- 8 of 8 of type hospital\n",
      "2022-07-22 13:55:50,788 - tracker - INFO - Rank 0 -- tracking contacts -- 8 of 8 of type isolation_unit\n",
      "2022-07-22 13:55:50,805 - tracker - INFO - Rank 0 -- tracking contacts -- 500 of 3270 of type shelter\n",
      "2022-07-22 13:55:51,149 - tracker - INFO - Rank 0 -- tracking contacts -- 389 of 389 of type learning_center\n",
      "2022-07-22 13:55:51,161 - tracker - INFO - Rank 0 -- tracking contacts -- 115 of 115 of type communal\n",
      "2022-07-22 13:55:51,165 - tracker - INFO - Rank 0 -- tracking contacts -- 21 of 21 of type distribution_center\n",
      "2022-07-22 13:55:51,229 - tracker - INFO - Rank 0 -- tracking contacts -- 7 of 7 of type e_voucher\n",
      "2022-07-22 13:55:51,245 - tracker - INFO - Rank 0 -- tracking contacts -- 67 of 67 of type female_communal\n",
      "2022-07-22 13:55:51,247 - tracker - INFO - Rank 0 -- tracking contacts -- 80 of 80 of type informal_work\n",
      "2022-07-22 13:55:51,342 - tracker - INFO - Rank 0 -- tracking contacts -- 41 of 41 of type n_f_distribution_center\n",
      "2022-07-22 13:55:51,491 - tracker - INFO - Rank 0 -- tracking contacts -- 500 of 539 of type play_group\n",
      "2022-07-22 13:55:51,995 - tracker - INFO - Rank 0 -- tracking contacts -- 82 of 82 of type pump_latrine\n",
      "2022-07-22 13:55:57,308 - tracker - INFO - Rank 0 -- tracking contacts -- 500 of 2065 of type religious\n",
      "2022-07-22 13:55:58,238 - rank - INFO - Rank 0 -- tracker -- 7.4506211430052645\n",
      "2022-07-22 13:55:58,255 - epidemiology - INFO - CMS: Infection COMS-v2 for rank 0/1(2)0.0006748969972250052,0.0006744861602783203 - 2020-05-29 12:00:00\n",
      "2022-07-22 13:55:58,306 - rank - INFO - Rank 0 -- interaction_waiting -- 7.095004548318684e-06\n",
      "2022-07-22 13:55:58,320 - simulator - INFO - CMS: Timestep for rank 0/1 - 8.654844995005988,8.654845714569092 - 2020-05-29 12:00:00\n",
      "\n",
      "2022-07-22 13:55:58,323 - rank - INFO - Next timestep\n",
      "2022-07-22 13:55:58,324 - simulator - INFO - ==================== timestep ====================\n",
      "2022-07-22 13:55:59,197 - rank - INFO - Rank 0 -- move_people -- 0.8723119409987703\n",
      "2022-07-22 13:55:59,198 - rank - INFO - Rank 0 -- move_people_waiting -- 6.848000339232385e-06\n",
      "2022-07-22 13:55:59,199 - activity_manager - INFO - CMS: People COMS for rank 0/1 - 5.213005351833999e-06,5.0067901611328125e-06 - 2020-05-29 14:00:00\n",
      "2022-07-22 13:55:59,204 - simulator - INFO - Info for rank 0, Date = 2020-05-29 14:00:00, number of deaths =  0, number of infected = 956\n",
      "2022-07-22 13:55:59,387 - rank - INFO - Rank 0 -- interaction -- 0.18823730499570956\n",
      "2022-07-22 13:55:59,388 - tracker - INFO - Rank 0 -- tracking contacts -- 8 of 8 of type hospital\n",
      "2022-07-22 13:55:59,389 - tracker - INFO - Rank 0 -- tracking contacts -- 8 of 8 of type isolation_unit\n",
      "2022-07-22 13:55:59,396 - tracker - INFO - Rank 0 -- tracking contacts -- 500 of 3270 of type shelter\n",
      "2022-07-22 13:55:59,724 - tracker - INFO - Rank 0 -- tracking contacts -- 389 of 389 of type learning_center\n",
      "2022-07-22 13:55:59,730 - tracker - INFO - Rank 0 -- tracking contacts -- 115 of 115 of type communal\n",
      "2022-07-22 13:55:59,733 - tracker - INFO - Rank 0 -- tracking contacts -- 21 of 21 of type distribution_center\n"
     ]
    },
    {
     "name": "stdout",
     "output_type": "stream",
     "text": [
      "2022-07-22 13:55:59,767 - tracker - INFO - Rank 0 -- tracking contacts -- 7 of 7 of type e_voucher\n",
      "2022-07-22 13:55:59,783 - tracker - INFO - Rank 0 -- tracking contacts -- 67 of 67 of type female_communal\n",
      "2022-07-22 13:55:59,785 - tracker - INFO - Rank 0 -- tracking contacts -- 80 of 80 of type informal_work\n",
      "2022-07-22 13:55:59,866 - tracker - INFO - Rank 0 -- tracking contacts -- 41 of 41 of type n_f_distribution_center\n",
      "2022-07-22 13:56:00,007 - tracker - INFO - Rank 0 -- tracking contacts -- 500 of 539 of type play_group\n",
      "2022-07-22 13:56:00,436 - tracker - INFO - Rank 0 -- tracking contacts -- 82 of 82 of type pump_latrine\n",
      "2022-07-22 13:56:04,937 - tracker - INFO - Rank 0 -- tracking contacts -- 500 of 2065 of type religious\n",
      "2022-07-22 13:56:05,623 - rank - INFO - Rank 0 -- tracker -- 6.235018056999252\n",
      "2022-07-22 13:56:05,640 - epidemiology - INFO - CMS: Infection COMS-v2 for rank 0/1(2)0.00018592899868963286,0.00018548965454101562 - 2020-05-29 14:00:00\n",
      "2022-07-22 13:56:05,673 - rank - INFO - Rank 0 -- interaction_waiting -- 5.784000677522272e-06\n",
      "2022-07-22 13:56:05,685 - simulator - INFO - CMS: Timestep for rank 0/1 - 7.359880657000758,7.359881162643433 - 2020-05-29 14:00:00\n",
      "\n",
      "2022-07-22 13:56:05,687 - rank - INFO - Next timestep\n",
      "2022-07-22 13:56:05,688 - simulator - INFO - ==================== timestep ====================\n",
      "2022-07-22 13:56:06,310 - rank - INFO - Rank 0 -- move_people -- 0.6212880279999808\n",
      "2022-07-22 13:56:06,311 - rank - INFO - Rank 0 -- move_people_waiting -- 6.2870021793060005e-06\n",
      "2022-07-22 13:56:06,312 - activity_manager - INFO - CMS: People COMS for rank 0/1 - 3.255001502111554e-06,3.0994415283203125e-06 - 2020-05-29 16:00:00\n",
      "2022-07-22 13:56:06,318 - simulator - INFO - Info for rank 0, Date = 2020-05-29 16:00:00, number of deaths =  0, number of infected = 1008\n",
      "2022-07-22 13:56:06,502 - rank - INFO - Rank 0 -- interaction -- 0.1902060939974035\n",
      "2022-07-22 13:56:06,503 - tracker - INFO - Rank 0 -- tracking contacts -- 8 of 8 of type hospital\n",
      "2022-07-22 13:56:06,504 - tracker - INFO - Rank 0 -- tracking contacts -- 8 of 8 of type isolation_unit\n",
      "2022-07-22 13:56:06,511 - tracker - INFO - Rank 0 -- tracking contacts -- 500 of 3270 of type shelter\n",
      "2022-07-22 13:56:06,833 - tracker - INFO - Rank 0 -- tracking contacts -- 389 of 389 of type learning_center\n",
      "2022-07-22 13:56:06,839 - tracker - INFO - Rank 0 -- tracking contacts -- 115 of 115 of type communal\n",
      "2022-07-22 13:56:06,841 - tracker - INFO - Rank 0 -- tracking contacts -- 21 of 21 of type distribution_center\n",
      "2022-07-22 13:56:06,897 - tracker - INFO - Rank 0 -- tracking contacts -- 7 of 7 of type e_voucher\n",
      "2022-07-22 13:56:06,913 - tracker - INFO - Rank 0 -- tracking contacts -- 67 of 67 of type female_communal\n",
      "2022-07-22 13:56:06,914 - tracker - INFO - Rank 0 -- tracking contacts -- 80 of 80 of type informal_work\n",
      "2022-07-22 13:56:06,997 - tracker - INFO - Rank 0 -- tracking contacts -- 41 of 41 of type n_f_distribution_center\n",
      "2022-07-22 13:56:07,144 - tracker - INFO - Rank 0 -- tracking contacts -- 500 of 539 of type play_group\n",
      "2022-07-22 13:56:07,572 - tracker - INFO - Rank 0 -- tracking contacts -- 82 of 82 of type pump_latrine\n",
      "2022-07-22 13:56:12,697 - tracker - INFO - Rank 0 -- tracking contacts -- 500 of 2065 of type religious\n",
      "2022-07-22 13:56:13,618 - rank - INFO - Rank 0 -- tracker -- 7.115112520004914\n",
      "2022-07-22 13:56:13,628 - epidemiology - INFO - CMS: Infection COMS-v2 for rank 0/1(2)0.0002206089993705973,0.0002200603485107422 - 2020-05-29 16:00:00\n",
      "2022-07-22 13:56:13,671 - rank - INFO - Rank 0 -- interaction_waiting -- 7.362999895121902e-06\n",
      "2022-07-22 13:56:13,685 - simulator - INFO - CMS: Timestep for rank 0/1 - 7.996124620003684,7.9961254596710205 - 2020-05-29 16:00:00\n",
      "\n",
      "2022-07-22 13:56:13,688 - rank - INFO - Next timestep\n",
      "2022-07-22 13:56:13,688 - simulator - INFO - ==================== timestep ====================\n",
      "2022-07-22 13:56:14,480 - rank - INFO - Rank 0 -- move_people -- 0.7909150949999457\n",
      "2022-07-22 13:56:14,481 - rank - INFO - Rank 0 -- move_people_waiting -- 7.504000677727163e-06\n",
      "2022-07-22 13:56:14,482 - activity_manager - INFO - CMS: People COMS for rank 0/1 - 4.351997631601989e-06,3.814697265625e-06 - 2020-05-29 18:00:00\n",
      "2022-07-22 13:56:14,488 - simulator - INFO - Info for rank 0, Date = 2020-05-29 18:00:00, number of deaths =  0, number of infected = 1032\n",
      "2022-07-22 13:56:14,692 - rank - INFO - Rank 0 -- interaction -- 0.2093086469976697\n",
      "2022-07-22 13:56:14,693 - tracker - INFO - Rank 0 -- tracking contacts -- 8 of 8 of type hospital\n",
      "2022-07-22 13:56:14,693 - tracker - INFO - Rank 0 -- tracking contacts -- 8 of 8 of type isolation_unit\n",
      "2022-07-22 13:56:14,701 - tracker - INFO - Rank 0 -- tracking contacts -- 500 of 3270 of type shelter\n",
      "2022-07-22 13:56:15,062 - tracker - INFO - Rank 0 -- tracking contacts -- 389 of 389 of type learning_center\n",
      "2022-07-22 13:56:15,068 - tracker - INFO - Rank 0 -- tracking contacts -- 115 of 115 of type communal\n",
      "2022-07-22 13:56:15,071 - tracker - INFO - Rank 0 -- tracking contacts -- 21 of 21 of type distribution_center\n",
      "2022-07-22 13:56:15,130 - tracker - INFO - Rank 0 -- tracking contacts -- 7 of 7 of type e_voucher\n",
      "2022-07-22 13:56:15,144 - tracker - INFO - Rank 0 -- tracking contacts -- 67 of 67 of type female_communal\n",
      "2022-07-22 13:56:15,146 - tracker - INFO - Rank 0 -- tracking contacts -- 80 of 80 of type informal_work\n",
      "2022-07-22 13:56:15,228 - tracker - INFO - Rank 0 -- tracking contacts -- 41 of 41 of type n_f_distribution_center\n",
      "2022-07-22 13:56:15,415 - tracker - INFO - Rank 0 -- tracking contacts -- 500 of 539 of type play_group\n",
      "2022-07-22 13:56:15,875 - tracker - INFO - Rank 0 -- tracking contacts -- 82 of 82 of type pump_latrine\n",
      "2022-07-22 13:56:20,976 - tracker - INFO - Rank 0 -- tracking contacts -- 500 of 2065 of type religious\n",
      "2022-07-22 13:56:21,855 - rank - INFO - Rank 0 -- tracker -- 7.1624132720025955\n",
      "2022-07-22 13:56:21,870 - epidemiology - INFO - CMS: Infection COMS-v2 for rank 0/1(2)0.0006377440004143864,0.0006375312805175781 - 2020-05-29 18:00:00\n",
      "2022-07-22 13:56:21,914 - rank - INFO - Rank 0 -- interaction_waiting -- 6.005000614095479e-06\n",
      "2022-07-22 13:56:21,927 - simulator - INFO - CMS: Timestep for rank 0/1 - 8.237656432997028,8.237657070159912 - 2020-05-29 18:00:00\n",
      "\n",
      "2022-07-22 13:56:21,929 - rank - INFO - Next timestep\n",
      "2022-07-22 13:56:21,930 - simulator - INFO - ==================== timestep ====================\n",
      "2022-07-22 13:56:22,082 - rank - INFO - Rank 0 -- move_people -- 0.1512603000010131\n",
      "2022-07-22 13:56:22,083 - rank - INFO - Rank 0 -- move_people_waiting -- 6.93300535203889e-06\n",
      "2022-07-22 13:56:22,083 - activity_manager - INFO - CMS: People COMS for rank 0/1 - 2.725006197579205e-06,2.6226043701171875e-06 - 2020-05-29 20:00:00\n",
      "2022-07-22 13:56:22,088 - simulator - INFO - Info for rank 0, Date = 2020-05-29 20:00:00, number of deaths =  0, number of infected = 1069\n",
      "2022-07-22 13:56:22,195 - rank - INFO - Rank 0 -- interaction -- 0.11119519000203582\n",
      "2022-07-22 13:56:22,196 - tracker - INFO - Rank 0 -- tracking contacts -- 8 of 8 of type hospital\n",
      "2022-07-22 13:56:22,196 - tracker - INFO - Rank 0 -- tracking contacts -- 8 of 8 of type isolation_unit\n",
      "2022-07-22 13:56:22,202 - tracker - INFO - Rank 0 -- tracking contacts -- 500 of 3270 of type shelter\n",
      "2022-07-22 13:56:23,119 - tracker - INFO - Rank 0 -- tracking contacts -- 389 of 389 of type learning_center\n",
      "2022-07-22 13:56:23,125 - tracker - INFO - Rank 0 -- tracking contacts -- 115 of 115 of type communal\n",
      "2022-07-22 13:56:23,127 - tracker - INFO - Rank 0 -- tracking contacts -- 21 of 21 of type distribution_center\n",
      "2022-07-22 13:56:23,129 - tracker - INFO - Rank 0 -- tracking contacts -- 7 of 7 of type e_voucher\n",
      "2022-07-22 13:56:23,130 - tracker - INFO - Rank 0 -- tracking contacts -- 67 of 67 of type female_communal\n",
      "2022-07-22 13:56:23,131 - tracker - INFO - Rank 0 -- tracking contacts -- 80 of 80 of type informal_work\n",
      "2022-07-22 13:56:23,134 - tracker - INFO - Rank 0 -- tracking contacts -- 41 of 41 of type n_f_distribution_center\n",
      "2022-07-22 13:56:23,136 - tracker - INFO - Rank 0 -- tracking contacts -- 500 of 539 of type play_group\n",
      "2022-07-22 13:56:23,146 - tracker - INFO - Rank 0 -- tracking contacts -- 82 of 82 of type pump_latrine\n"
     ]
    },
    {
     "name": "stdout",
     "output_type": "stream",
     "text": [
      "2022-07-22 13:56:23,157 - tracker - INFO - Rank 0 -- tracking contacts -- 500 of 2065 of type religious\n",
      "2022-07-22 13:56:23,165 - rank - INFO - Rank 0 -- tracker -- 0.9691220139939105\n",
      "2022-07-22 13:56:23,215 - epidemiology - INFO - CMS: Infection COMS-v2 for rank 0/1(2)0.00019688800239237025,0.0001964569091796875 - 2020-05-29 20:00:00\n",
      "2022-07-22 13:56:23,251 - rank - INFO - Rank 0 -- interaction_waiting -- 6.991002010181546e-06\n",
      "2022-07-22 13:56:23,264 - simulator - INFO - CMS: Timestep for rank 0/1 - 1.333318015000259,1.3333191871643066 - 2020-05-29 20:00:00\n",
      "\n",
      "2022-07-22 13:56:23,266 - rank - INFO - Next timestep\n",
      "2022-07-22 13:56:23,267 - simulator - INFO - ==================== timestep ====================\n",
      "2022-07-22 13:56:23,424 - rank - INFO - Rank 0 -- move_people -- 0.15531776400166564\n",
      "2022-07-22 13:56:23,424 - rank - INFO - Rank 0 -- move_people_waiting -- 7.561997335869819e-06\n",
      "2022-07-22 13:56:23,425 - activity_manager - INFO - CMS: People COMS for rank 0/1 - 3.2620009733363986e-06,2.86102294921875e-06 - 2020-05-30 09:00:00\n",
      "2022-07-22 13:56:23,430 - simulator - INFO - Info for rank 0, Date = 2020-05-30 09:00:00, number of deaths =  0, number of infected = 1182\n",
      "2022-07-22 13:56:23,535 - rank - INFO - Rank 0 -- interaction -- 0.10938729900226463\n",
      "2022-07-22 13:56:23,536 - tracker - INFO - Rank 0 -- tracking contacts -- 8 of 8 of type hospital\n",
      "2022-07-22 13:56:23,537 - tracker - INFO - Rank 0 -- tracking contacts -- 8 of 8 of type isolation_unit\n",
      "2022-07-22 13:56:23,548 - tracker - INFO - Rank 0 -- tracking contacts -- 500 of 3270 of type shelter\n",
      "2022-07-22 13:56:24,334 - tracker - INFO - Rank 0 -- tracking contacts -- 389 of 389 of type learning_center\n",
      "2022-07-22 13:56:24,339 - tracker - INFO - Rank 0 -- tracking contacts -- 115 of 115 of type communal\n",
      "2022-07-22 13:56:24,341 - tracker - INFO - Rank 0 -- tracking contacts -- 21 of 21 of type distribution_center\n",
      "2022-07-22 13:56:24,343 - tracker - INFO - Rank 0 -- tracking contacts -- 7 of 7 of type e_voucher\n",
      "2022-07-22 13:56:24,344 - tracker - INFO - Rank 0 -- tracking contacts -- 67 of 67 of type female_communal\n",
      "2022-07-22 13:56:24,346 - tracker - INFO - Rank 0 -- tracking contacts -- 80 of 80 of type informal_work\n",
      "2022-07-22 13:56:24,349 - tracker - INFO - Rank 0 -- tracking contacts -- 41 of 41 of type n_f_distribution_center\n",
      "2022-07-22 13:56:24,353 - tracker - INFO - Rank 0 -- tracking contacts -- 500 of 539 of type play_group\n",
      "2022-07-22 13:56:24,366 - tracker - INFO - Rank 0 -- tracking contacts -- 82 of 82 of type pump_latrine\n",
      "2022-07-22 13:56:24,383 - tracker - INFO - Rank 0 -- tracking contacts -- 500 of 2065 of type religious\n",
      "2022-07-22 13:56:24,393 - rank - INFO - Rank 0 -- tracker -- 0.8567814970010659\n",
      "2022-07-22 13:56:24,408 - epidemiology - INFO - CMS: Infection COMS-v2 for rank 0/1(2)0.0002033709970419295,0.00020265579223632812 - 2020-05-30 09:00:00\n",
      "2022-07-22 13:56:24,501 - rank - INFO - Rank 0 -- interaction_waiting -- 5.831003363709897e-06\n",
      "2022-07-22 13:56:24,517 - simulator - INFO - CMS: Timestep for rank 0/1 - 1.2492436969987466,1.2492444515228271 - 2020-05-30 09:00:00\n",
      "\n",
      "2022-07-22 13:56:24,520 - rank - INFO - Next timestep\n",
      "2022-07-22 13:56:24,521 - simulator - INFO - ==================== timestep ====================\n",
      "2022-07-22 13:56:25,198 - rank - INFO - Rank 0 -- move_people -- 0.6766914049949264\n",
      "2022-07-22 13:56:25,199 - rank - INFO - Rank 0 -- move_people_waiting -- 5.333000444807112e-06\n",
      "2022-07-22 13:56:25,199 - activity_manager - INFO - CMS: People COMS for rank 0/1 - 3.182001819368452e-06,2.86102294921875e-06 - 2020-05-30 12:00:00\n",
      "2022-07-22 13:56:25,206 - simulator - INFO - Info for rank 0, Date = 2020-05-30 12:00:00, number of deaths =  0, number of infected = 1208\n",
      "2022-07-22 13:56:25,368 - rank - INFO - Rank 0 -- interaction -- 0.16850478499691235\n",
      "2022-07-22 13:56:25,369 - tracker - INFO - Rank 0 -- tracking contacts -- 8 of 8 of type hospital\n",
      "2022-07-22 13:56:25,370 - tracker - INFO - Rank 0 -- tracking contacts -- 8 of 8 of type isolation_unit\n",
      "2022-07-22 13:56:25,377 - tracker - INFO - Rank 0 -- tracking contacts -- 500 of 3270 of type shelter\n",
      "2022-07-22 13:56:25,665 - tracker - INFO - Rank 0 -- tracking contacts -- 389 of 389 of type learning_center\n",
      "2022-07-22 13:56:25,670 - tracker - INFO - Rank 0 -- tracking contacts -- 115 of 115 of type communal\n",
      "2022-07-22 13:56:25,673 - tracker - INFO - Rank 0 -- tracking contacts -- 21 of 21 of type distribution_center\n",
      "2022-07-22 13:56:25,718 - tracker - INFO - Rank 0 -- tracking contacts -- 7 of 7 of type e_voucher\n",
      "2022-07-22 13:56:25,733 - tracker - INFO - Rank 0 -- tracking contacts -- 67 of 67 of type female_communal\n",
      "2022-07-22 13:56:25,734 - tracker - INFO - Rank 0 -- tracking contacts -- 80 of 80 of type informal_work\n",
      "2022-07-22 13:56:25,807 - tracker - INFO - Rank 0 -- tracking contacts -- 41 of 41 of type n_f_distribution_center\n",
      "2022-07-22 13:56:25,913 - tracker - INFO - Rank 0 -- tracking contacts -- 500 of 539 of type play_group\n",
      "2022-07-22 13:56:26,278 - tracker - INFO - Rank 0 -- tracking contacts -- 82 of 82 of type pump_latrine\n",
      "2022-07-22 13:56:30,813 - tracker - INFO - Rank 0 -- tracking contacts -- 500 of 2065 of type religious\n",
      "2022-07-22 13:56:31,674 - rank - INFO - Rank 0 -- tracker -- 6.3053688340005465\n",
      "2022-07-22 13:56:31,689 - epidemiology - INFO - CMS: Infection COMS-v2 for rank 0/1(2)0.0006106489963713102,0.0006098747253417969 - 2020-05-30 12:00:00\n",
      "2022-07-22 13:56:31,729 - rank - INFO - Rank 0 -- interaction_waiting -- 7.451002602465451e-06\n",
      "2022-07-22 13:56:31,741 - simulator - INFO - CMS: Timestep for rank 0/1 - 7.22022714799823,7.2202277183532715 - 2020-05-30 12:00:00\n",
      "\n",
      "2022-07-22 13:56:31,744 - rank - INFO - Next timestep\n",
      "2022-07-22 13:56:31,745 - simulator - INFO - ==================== timestep ====================\n",
      "2022-07-22 13:56:32,640 - rank - INFO - Rank 0 -- move_people -- 0.8947972949972609\n",
      "2022-07-22 13:56:32,641 - rank - INFO - Rank 0 -- move_people_waiting -- 5.43500209460035e-06\n",
      "2022-07-22 13:56:32,642 - activity_manager - INFO - CMS: People COMS for rank 0/1 - 5.259003955870867e-06,4.76837158203125e-06 - 2020-05-30 14:00:00\n",
      "2022-07-22 13:56:32,648 - simulator - INFO - Info for rank 0, Date = 2020-05-30 14:00:00, number of deaths =  0, number of infected = 1243\n",
      "2022-07-22 13:56:32,845 - rank - INFO - Rank 0 -- interaction -- 0.20225302699691383\n",
      "2022-07-22 13:56:32,847 - tracker - INFO - Rank 0 -- tracking contacts -- 8 of 8 of type hospital\n",
      "2022-07-22 13:56:32,848 - tracker - INFO - Rank 0 -- tracking contacts -- 8 of 8 of type isolation_unit\n",
      "2022-07-22 13:56:32,862 - tracker - INFO - Rank 0 -- tracking contacts -- 500 of 3270 of type shelter\n",
      "2022-07-22 13:56:33,219 - tracker - INFO - Rank 0 -- tracking contacts -- 389 of 389 of type learning_center\n",
      "2022-07-22 13:56:33,226 - tracker - INFO - Rank 0 -- tracking contacts -- 115 of 115 of type communal\n",
      "2022-07-22 13:56:33,228 - tracker - INFO - Rank 0 -- tracking contacts -- 21 of 21 of type distribution_center\n",
      "2022-07-22 13:56:33,281 - tracker - INFO - Rank 0 -- tracking contacts -- 7 of 7 of type e_voucher\n",
      "2022-07-22 13:56:33,303 - tracker - INFO - Rank 0 -- tracking contacts -- 67 of 67 of type female_communal\n",
      "2022-07-22 13:56:33,306 - tracker - INFO - Rank 0 -- tracking contacts -- 80 of 80 of type informal_work\n",
      "2022-07-22 13:56:33,401 - tracker - INFO - Rank 0 -- tracking contacts -- 41 of 41 of type n_f_distribution_center\n",
      "2022-07-22 13:56:33,598 - tracker - INFO - Rank 0 -- tracking contacts -- 500 of 539 of type play_group\n",
      "2022-07-22 13:56:34,053 - tracker - INFO - Rank 0 -- tracking contacts -- 82 of 82 of type pump_latrine\n",
      "2022-07-22 13:56:39,622 - tracker - INFO - Rank 0 -- tracking contacts -- 500 of 2065 of type religious\n",
      "2022-07-22 13:56:40,609 - rank - INFO - Rank 0 -- tracker -- 7.762197150004795\n",
      "2022-07-22 13:56:40,632 - epidemiology - INFO - CMS: Infection COMS-v2 for rank 0/1(2)0.0007061100041028112,0.000705718994140625 - 2020-05-30 14:00:00\n",
      "2022-07-22 13:56:40,684 - rank - INFO - Rank 0 -- interaction_waiting -- 6.988004315644503e-06\n",
      "2022-07-22 13:56:40,700 - simulator - INFO - CMS: Timestep for rank 0/1 - 8.954879336000886,8.954880475997925 - 2020-05-30 14:00:00\n",
      "\n",
      "2022-07-22 13:56:40,705 - rank - INFO - Next timestep\n"
     ]
    },
    {
     "name": "stdout",
     "output_type": "stream",
     "text": [
      "2022-07-22 13:56:40,706 - simulator - INFO - ==================== timestep ====================\n",
      "2022-07-22 13:56:41,652 - rank - INFO - Rank 0 -- move_people -- 0.9452191310047056\n",
      "2022-07-22 13:56:41,653 - rank - INFO - Rank 0 -- move_people_waiting -- 7.533999450970441e-06\n",
      "2022-07-22 13:56:41,653 - activity_manager - INFO - CMS: People COMS for rank 0/1 - 3.995999577455223e-06,3.5762786865234375e-06 - 2020-05-30 16:00:00\n",
      "2022-07-22 13:56:41,661 - simulator - INFO - Info for rank 0, Date = 2020-05-30 16:00:00, number of deaths =  0, number of infected = 1293\n",
      "2022-07-22 13:56:41,907 - rank - INFO - Rank 0 -- interaction -- 0.2533266739992541\n",
      "2022-07-22 13:56:41,908 - tracker - INFO - Rank 0 -- tracking contacts -- 8 of 8 of type hospital\n",
      "2022-07-22 13:56:41,909 - tracker - INFO - Rank 0 -- tracking contacts -- 8 of 8 of type isolation_unit\n",
      "2022-07-22 13:56:41,920 - tracker - INFO - Rank 0 -- tracking contacts -- 500 of 3270 of type shelter\n",
      "2022-07-22 13:56:42,294 - tracker - INFO - Rank 0 -- tracking contacts -- 389 of 389 of type learning_center\n",
      "2022-07-22 13:56:42,301 - tracker - INFO - Rank 0 -- tracking contacts -- 115 of 115 of type communal\n",
      "2022-07-22 13:56:42,304 - tracker - INFO - Rank 0 -- tracking contacts -- 21 of 21 of type distribution_center\n",
      "2022-07-22 13:56:42,379 - tracker - INFO - Rank 0 -- tracking contacts -- 7 of 7 of type e_voucher\n",
      "2022-07-22 13:56:42,404 - tracker - INFO - Rank 0 -- tracking contacts -- 67 of 67 of type female_communal\n",
      "2022-07-22 13:56:42,408 - tracker - INFO - Rank 0 -- tracking contacts -- 80 of 80 of type informal_work\n",
      "2022-07-22 13:56:42,510 - tracker - INFO - Rank 0 -- tracking contacts -- 41 of 41 of type n_f_distribution_center\n",
      "2022-07-22 13:56:42,683 - tracker - INFO - Rank 0 -- tracking contacts -- 500 of 539 of type play_group\n",
      "2022-07-22 13:56:43,197 - tracker - INFO - Rank 0 -- tracking contacts -- 82 of 82 of type pump_latrine\n",
      "2022-07-22 13:56:48,306 - tracker - INFO - Rank 0 -- tracking contacts -- 500 of 2065 of type religious\n",
      "2022-07-22 13:56:49,208 - rank - INFO - Rank 0 -- tracker -- 7.3002098989964\n",
      "2022-07-22 13:56:49,231 - epidemiology - INFO - CMS: Infection COMS-v2 for rank 0/1(2)0.0005654760025208816,0.0005650520324707031 - 2020-05-30 16:00:00\n",
      "2022-07-22 13:56:49,278 - rank - INFO - Rank 0 -- interaction_waiting -- 6.905996997375041e-06\n",
      "2022-07-22 13:56:49,294 - simulator - INFO - CMS: Timestep for rank 0/1 - 8.587026541994419,8.587027549743652 - 2020-05-30 16:00:00\n",
      "\n",
      "2022-07-22 13:56:49,296 - rank - INFO - Next timestep\n",
      "2022-07-22 13:56:49,297 - simulator - INFO - ==================== timestep ====================\n",
      "2022-07-22 13:56:50,139 - rank - INFO - Rank 0 -- move_people -- 0.8412110030039912\n",
      "2022-07-22 13:56:50,140 - rank - INFO - Rank 0 -- move_people_waiting -- 6.763002602383494e-06\n",
      "2022-07-22 13:56:50,141 - activity_manager - INFO - CMS: People COMS for rank 0/1 - 4.652996722143143e-06,4.0531158447265625e-06 - 2020-05-30 18:00:00\n",
      "2022-07-22 13:56:50,146 - simulator - INFO - Info for rank 0, Date = 2020-05-30 18:00:00, number of deaths =  0, number of infected = 1345\n",
      "2022-07-22 13:56:50,351 - rank - INFO - Rank 0 -- interaction -- 0.20934553100232733\n",
      "2022-07-22 13:56:50,352 - tracker - INFO - Rank 0 -- tracking contacts -- 8 of 8 of type hospital\n",
      "2022-07-22 13:56:50,353 - tracker - INFO - Rank 0 -- tracking contacts -- 8 of 8 of type isolation_unit\n",
      "2022-07-22 13:56:50,360 - tracker - INFO - Rank 0 -- tracking contacts -- 500 of 3270 of type shelter\n",
      "2022-07-22 13:56:50,709 - tracker - INFO - Rank 0 -- tracking contacts -- 389 of 389 of type learning_center\n",
      "2022-07-22 13:56:50,718 - tracker - INFO - Rank 0 -- tracking contacts -- 115 of 115 of type communal\n",
      "2022-07-22 13:56:50,720 - tracker - INFO - Rank 0 -- tracking contacts -- 21 of 21 of type distribution_center\n",
      "2022-07-22 13:56:50,781 - tracker - INFO - Rank 0 -- tracking contacts -- 7 of 7 of type e_voucher\n",
      "2022-07-22 13:56:50,809 - tracker - INFO - Rank 0 -- tracking contacts -- 67 of 67 of type female_communal\n",
      "2022-07-22 13:56:50,811 - tracker - INFO - Rank 0 -- tracking contacts -- 80 of 80 of type informal_work\n",
      "2022-07-22 13:56:50,903 - tracker - INFO - Rank 0 -- tracking contacts -- 41 of 41 of type n_f_distribution_center\n",
      "2022-07-22 13:56:51,090 - tracker - INFO - Rank 0 -- tracking contacts -- 500 of 539 of type play_group\n",
      "2022-07-22 13:56:51,547 - tracker - INFO - Rank 0 -- tracking contacts -- 82 of 82 of type pump_latrine\n",
      "2022-07-22 13:56:56,841 - tracker - INFO - Rank 0 -- tracking contacts -- 500 of 2065 of type religious\n",
      "2022-07-22 13:56:57,760 - rank - INFO - Rank 0 -- tracker -- 7.407630754998536\n",
      "2022-07-22 13:56:57,779 - epidemiology - INFO - CMS: Infection COMS-v2 for rank 0/1(2)0.00022533700393978506,0.00022482872009277344 - 2020-05-30 18:00:00\n",
      "2022-07-22 13:56:57,837 - rank - INFO - Rank 0 -- interaction_waiting -- 7.891001587267965e-06\n",
      "2022-07-22 13:56:57,856 - simulator - INFO - CMS: Timestep for rank 0/1 - 8.557660261001729,8.557661294937134 - 2020-05-30 18:00:00\n",
      "\n",
      "2022-07-22 13:56:57,859 - rank - INFO - Next timestep\n",
      "2022-07-22 13:56:57,860 - simulator - INFO - ==================== timestep ====================\n",
      "2022-07-22 13:56:58,049 - rank - INFO - Rank 0 -- move_people -- 0.18772985599935055\n",
      "2022-07-22 13:56:58,050 - rank - INFO - Rank 0 -- move_people_waiting -- 9.638999472372234e-06\n",
      "2022-07-22 13:56:58,050 - activity_manager - INFO - CMS: People COMS for rank 0/1 - 3.963999915868044e-06,3.5762786865234375e-06 - 2020-05-30 20:00:00\n",
      "2022-07-22 13:56:58,056 - simulator - INFO - Info for rank 0, Date = 2020-05-30 20:00:00, number of deaths =  0, number of infected = 1391\n",
      "2022-07-22 13:56:58,209 - rank - INFO - Rank 0 -- interaction -- 0.157312222996552\n",
      "2022-07-22 13:56:58,210 - tracker - INFO - Rank 0 -- tracking contacts -- 8 of 8 of type hospital\n",
      "2022-07-22 13:56:58,211 - tracker - INFO - Rank 0 -- tracking contacts -- 8 of 8 of type isolation_unit\n",
      "2022-07-22 13:56:58,219 - tracker - INFO - Rank 0 -- tracking contacts -- 500 of 3270 of type shelter\n",
      "2022-07-22 13:56:59,371 - tracker - INFO - Rank 0 -- tracking contacts -- 389 of 389 of type learning_center\n",
      "2022-07-22 13:56:59,378 - tracker - INFO - Rank 0 -- tracking contacts -- 115 of 115 of type communal\n",
      "2022-07-22 13:56:59,382 - tracker - INFO - Rank 0 -- tracking contacts -- 21 of 21 of type distribution_center\n",
      "2022-07-22 13:56:59,385 - tracker - INFO - Rank 0 -- tracking contacts -- 7 of 7 of type e_voucher\n",
      "2022-07-22 13:56:59,387 - tracker - INFO - Rank 0 -- tracking contacts -- 67 of 67 of type female_communal\n",
      "2022-07-22 13:56:59,391 - tracker - INFO - Rank 0 -- tracking contacts -- 80 of 80 of type informal_work\n",
      "2022-07-22 13:56:59,396 - tracker - INFO - Rank 0 -- tracking contacts -- 41 of 41 of type n_f_distribution_center\n",
      "2022-07-22 13:56:59,401 - tracker - INFO - Rank 0 -- tracking contacts -- 500 of 539 of type play_group\n",
      "2022-07-22 13:56:59,420 - tracker - INFO - Rank 0 -- tracking contacts -- 82 of 82 of type pump_latrine\n",
      "2022-07-22 13:56:59,438 - tracker - INFO - Rank 0 -- tracking contacts -- 500 of 2065 of type religious\n",
      "2022-07-22 13:56:59,455 - rank - INFO - Rank 0 -- tracker -- 1.2453543669980718\n",
      "2022-07-22 13:56:59,539 - epidemiology - INFO - CMS: Infection COMS-v2 for rank 0/1(2)0.0005888559971936047,0.0005881786346435547 - 2020-05-30 20:00:00\n",
      "2022-07-22 13:56:59,587 - rank - INFO - Rank 0 -- interaction_waiting -- 1.391100522596389e-05\n",
      "2022-07-22 13:56:59,603 - simulator - INFO - CMS: Timestep for rank 0/1 - 1.7422846150002442,1.742286205291748 - 2020-05-30 20:00:00\n",
      "\n",
      "2022-07-22 13:56:59,608 - rank - INFO - Next timestep\n",
      "2022-07-22 13:56:59,610 - simulator - INFO - ==================== timestep ====================\n",
      "2022-07-22 13:56:59,861 - rank - INFO - Rank 0 -- move_people -- 0.25042324300011387\n",
      "2022-07-22 13:56:59,863 - rank - INFO - Rank 0 -- move_people_waiting -- 4.522000381257385e-06\n",
      "2022-07-22 13:56:59,864 - activity_manager - INFO - CMS: People COMS for rank 0/1 - 4.850997356697917e-06,4.0531158447265625e-06 - 2020-05-31 09:00:00\n",
      "2022-07-22 13:56:59,870 - simulator - INFO - Info for rank 0, Date = 2020-05-31 09:00:00, number of deaths =  0, number of infected = 1549\n",
      "2022-07-22 13:57:00,022 - rank - INFO - Rank 0 -- interaction -- 0.15718563600239577\n"
     ]
    },
    {
     "name": "stdout",
     "output_type": "stream",
     "text": [
      "2022-07-22 13:57:00,023 - tracker - INFO - Rank 0 -- tracking contacts -- 8 of 8 of type hospital\n",
      "2022-07-22 13:57:00,031 - tracker - INFO - Rank 0 -- tracking contacts -- 8 of 8 of type isolation_unit\n",
      "2022-07-22 13:57:00,039 - tracker - INFO - Rank 0 -- tracking contacts -- 500 of 3270 of type shelter\n",
      "2022-07-22 13:57:00,805 - tracker - INFO - Rank 0 -- tracking contacts -- 389 of 389 of type learning_center\n",
      "2022-07-22 13:57:01,763 - tracker - INFO - Rank 0 -- tracking contacts -- 115 of 115 of type communal\n",
      "2022-07-22 13:57:01,765 - tracker - INFO - Rank 0 -- tracking contacts -- 21 of 21 of type distribution_center\n",
      "2022-07-22 13:57:01,767 - tracker - INFO - Rank 0 -- tracking contacts -- 7 of 7 of type e_voucher\n",
      "2022-07-22 13:57:01,768 - tracker - INFO - Rank 0 -- tracking contacts -- 67 of 67 of type female_communal\n",
      "2022-07-22 13:57:01,770 - tracker - INFO - Rank 0 -- tracking contacts -- 80 of 80 of type informal_work\n",
      "2022-07-22 13:57:01,773 - tracker - INFO - Rank 0 -- tracking contacts -- 41 of 41 of type n_f_distribution_center\n",
      "2022-07-22 13:57:01,776 - tracker - INFO - Rank 0 -- tracking contacts -- 500 of 539 of type play_group\n",
      "2022-07-22 13:57:01,788 - tracker - INFO - Rank 0 -- tracking contacts -- 82 of 82 of type pump_latrine\n",
      "2022-07-22 13:57:01,804 - tracker - INFO - Rank 0 -- tracking contacts -- 500 of 2065 of type religious\n",
      "2022-07-22 13:57:01,814 - rank - INFO - Rank 0 -- tracker -- 1.7912663859970053\n",
      "2022-07-22 13:57:01,835 - epidemiology - INFO - CMS: Infection COMS-v2 for rank 0/1(2)0.0008841119997669011,0.0008833408355712891 - 2020-05-31 09:00:00\n",
      "2022-07-22 13:57:01,894 - rank - INFO - Rank 0 -- interaction_waiting -- 8.490998880006373e-06\n",
      "2022-07-22 13:57:01,914 - simulator - INFO - CMS: Timestep for rank 0/1 - 2.302824589998636,2.3028249740600586 - 2020-05-31 09:00:00\n",
      "\n",
      "2022-07-22 13:57:01,918 - rank - INFO - Next timestep\n",
      "2022-07-22 13:57:01,919 - simulator - INFO - ==================== timestep ====================\n",
      "2022-07-22 13:57:02,716 - rank - INFO - Rank 0 -- move_people -- 0.7949766390011064\n",
      "2022-07-22 13:57:02,716 - rank - INFO - Rank 0 -- move_people_waiting -- 8.420996891800314e-06\n",
      "2022-07-22 13:57:02,717 - activity_manager - INFO - CMS: People COMS for rank 0/1 - 3.592002030927688e-06,3.0994415283203125e-06 - 2020-05-31 11:00:00\n",
      "2022-07-22 13:57:02,724 - simulator - INFO - Info for rank 0, Date = 2020-05-31 11:00:00, number of deaths =  0, number of infected = 1576\n",
      "2022-07-22 13:57:02,967 - rank - INFO - Rank 0 -- interaction -- 0.24847115900047356\n",
      "2022-07-22 13:57:02,968 - tracker - INFO - Rank 0 -- tracking contacts -- 8 of 8 of type hospital\n",
      "2022-07-22 13:57:02,976 - tracker - INFO - Rank 0 -- tracking contacts -- 8 of 8 of type isolation_unit\n",
      "2022-07-22 13:57:02,984 - tracker - INFO - Rank 0 -- tracking contacts -- 500 of 3270 of type shelter\n",
      "2022-07-22 13:57:03,284 - tracker - INFO - Rank 0 -- tracking contacts -- 389 of 389 of type learning_center\n",
      "2022-07-22 13:57:04,301 - tracker - INFO - Rank 0 -- tracking contacts -- 115 of 115 of type communal\n",
      "2022-07-22 13:57:04,319 - tracker - INFO - Rank 0 -- tracking contacts -- 21 of 21 of type distribution_center\n",
      "2022-07-22 13:57:04,374 - tracker - INFO - Rank 0 -- tracking contacts -- 7 of 7 of type e_voucher\n",
      "2022-07-22 13:57:04,387 - tracker - INFO - Rank 0 -- tracking contacts -- 67 of 67 of type female_communal\n",
      "2022-07-22 13:57:04,459 - tracker - INFO - Rank 0 -- tracking contacts -- 80 of 80 of type informal_work\n",
      "2022-07-22 13:57:04,539 - tracker - INFO - Rank 0 -- tracking contacts -- 41 of 41 of type n_f_distribution_center\n",
      "2022-07-22 13:57:04,665 - tracker - INFO - Rank 0 -- tracking contacts -- 500 of 539 of type play_group\n",
      "2022-07-22 13:57:05,015 - tracker - INFO - Rank 0 -- tracking contacts -- 82 of 82 of type pump_latrine\n",
      "2022-07-22 13:57:09,066 - tracker - INFO - Rank 0 -- tracking contacts -- 500 of 2065 of type religious\n",
      "2022-07-22 13:57:09,726 - rank - INFO - Rank 0 -- tracker -- 6.758920806998503\n",
      "2022-07-22 13:57:09,752 - epidemiology - INFO - CMS: Infection COMS-v2 for rank 0/1(2)0.0008432890026597306,0.000843048095703125 - 2020-05-31 11:00:00\n",
      "2022-07-22 13:57:09,796 - rank - INFO - Rank 0 -- interaction_waiting -- 6.880996807012707e-06\n",
      "2022-07-22 13:57:09,809 - simulator - INFO - CMS: Timestep for rank 0/1 - 7.8883528179940186,7.888353109359741 - 2020-05-31 11:00:00\n",
      "\n",
      "2022-07-22 13:57:09,811 - rank - INFO - Next timestep\n",
      "2022-07-22 13:57:09,812 - simulator - INFO - ==================== timestep ====================\n",
      "2022-07-22 13:57:10,565 - rank - INFO - Rank 0 -- move_people -- 0.7525580479996279\n",
      "2022-07-22 13:57:10,566 - rank - INFO - Rank 0 -- move_people_waiting -- 8.266004442702979e-06\n",
      "2022-07-22 13:57:10,567 - activity_manager - INFO - CMS: People COMS for rank 0/1 - 3.787004970945418e-06,3.5762786865234375e-06 - 2020-05-31 13:00:00\n",
      "2022-07-22 13:57:10,572 - simulator - INFO - Info for rank 0, Date = 2020-05-31 13:00:00, number of deaths =  0, number of infected = 1627\n",
      "2022-07-22 13:57:10,784 - rank - INFO - Rank 0 -- interaction -- 0.21682051300012972\n",
      "2022-07-22 13:57:10,786 - tracker - INFO - Rank 0 -- tracking contacts -- 8 of 8 of type hospital\n",
      "2022-07-22 13:57:10,793 - tracker - INFO - Rank 0 -- tracking contacts -- 8 of 8 of type isolation_unit\n",
      "2022-07-22 13:57:10,801 - tracker - INFO - Rank 0 -- tracking contacts -- 500 of 3270 of type shelter\n",
      "2022-07-22 13:57:11,098 - tracker - INFO - Rank 0 -- tracking contacts -- 389 of 389 of type learning_center\n",
      "2022-07-22 13:57:12,045 - tracker - INFO - Rank 0 -- tracking contacts -- 115 of 115 of type communal\n",
      "2022-07-22 13:57:12,070 - tracker - INFO - Rank 0 -- tracking contacts -- 21 of 21 of type distribution_center\n",
      "2022-07-22 13:57:12,111 - tracker - INFO - Rank 0 -- tracking contacts -- 7 of 7 of type e_voucher\n",
      "2022-07-22 13:57:12,125 - tracker - INFO - Rank 0 -- tracking contacts -- 67 of 67 of type female_communal\n",
      "2022-07-22 13:57:12,177 - tracker - INFO - Rank 0 -- tracking contacts -- 80 of 80 of type informal_work\n",
      "2022-07-22 13:57:12,250 - tracker - INFO - Rank 0 -- tracking contacts -- 41 of 41 of type n_f_distribution_center\n",
      "2022-07-22 13:57:12,366 - tracker - INFO - Rank 0 -- tracking contacts -- 500 of 539 of type play_group\n",
      "2022-07-22 13:57:12,734 - tracker - INFO - Rank 0 -- tracking contacts -- 82 of 82 of type pump_latrine\n",
      "2022-07-22 13:57:16,915 - tracker - INFO - Rank 0 -- tracking contacts -- 500 of 2065 of type religious\n",
      "2022-07-22 13:57:17,672 - rank - INFO - Rank 0 -- tracker -- 6.886306765998597\n",
      "2022-07-22 13:57:17,697 - epidemiology - INFO - CMS: Infection COMS-v2 for rank 0/1(2)0.0006957869991310872,0.0006952285766601562 - 2020-05-31 13:00:00\n",
      "2022-07-22 13:57:17,744 - rank - INFO - Rank 0 -- interaction_waiting -- 7.162001566030085e-06\n",
      "2022-07-22 13:57:17,760 - simulator - INFO - CMS: Timestep for rank 0/1 - 7.947626881003089,7.947628021240234 - 2020-05-31 13:00:00\n",
      "\n",
      "2022-07-22 13:57:17,764 - rank - INFO - Next timestep\n",
      "2022-07-22 13:57:17,765 - simulator - INFO - ==================== timestep ====================\n",
      "2022-07-22 13:57:18,644 - rank - INFO - Rank 0 -- move_people -- 0.8778871699978481\n",
      "2022-07-22 13:57:18,645 - rank - INFO - Rank 0 -- move_people_waiting -- 7.032998837530613e-06\n",
      "2022-07-22 13:57:18,645 - activity_manager - INFO - CMS: People COMS for rank 0/1 - 4.961999366059899e-06,4.5299530029296875e-06 - 2020-05-31 15:00:00\n",
      "2022-07-22 13:57:18,652 - simulator - INFO - Info for rank 0, Date = 2020-05-31 15:00:00, number of deaths =  0, number of infected = 1681\n",
      "2022-07-22 13:57:18,900 - rank - INFO - Rank 0 -- interaction -- 0.2533748360001482\n",
      "2022-07-22 13:57:18,901 - tracker - INFO - Rank 0 -- tracking contacts -- 8 of 8 of type hospital\n",
      "2022-07-22 13:57:18,909 - tracker - INFO - Rank 0 -- tracking contacts -- 8 of 8 of type isolation_unit\n",
      "2022-07-22 13:57:18,921 - tracker - INFO - Rank 0 -- tracking contacts -- 500 of 3270 of type shelter\n",
      "2022-07-22 13:57:19,234 - tracker - INFO - Rank 0 -- tracking contacts -- 389 of 389 of type learning_center\n",
      "2022-07-22 13:57:20,224 - tracker - INFO - Rank 0 -- tracking contacts -- 115 of 115 of type communal\n",
      "2022-07-22 13:57:20,247 - tracker - INFO - Rank 0 -- tracking contacts -- 21 of 21 of type distribution_center\n"
     ]
    },
    {
     "name": "stdout",
     "output_type": "stream",
     "text": [
      "2022-07-22 13:57:20,299 - tracker - INFO - Rank 0 -- tracking contacts -- 7 of 7 of type e_voucher\n",
      "2022-07-22 13:57:20,322 - tracker - INFO - Rank 0 -- tracking contacts -- 67 of 67 of type female_communal\n",
      "2022-07-22 13:57:20,366 - tracker - INFO - Rank 0 -- tracking contacts -- 80 of 80 of type informal_work\n",
      "2022-07-22 13:57:20,444 - tracker - INFO - Rank 0 -- tracking contacts -- 41 of 41 of type n_f_distribution_center\n",
      "2022-07-22 13:57:20,573 - tracker - INFO - Rank 0 -- tracking contacts -- 500 of 539 of type play_group\n",
      "2022-07-22 13:57:20,989 - tracker - INFO - Rank 0 -- tracking contacts -- 82 of 82 of type pump_latrine\n",
      "2022-07-22 13:57:25,462 - tracker - INFO - Rank 0 -- tracking contacts -- 500 of 2065 of type religious\n",
      "2022-07-22 13:57:26,292 - rank - INFO - Rank 0 -- tracker -- 7.3916636380017735\n",
      "2022-07-22 13:57:26,324 - epidemiology - INFO - CMS: Infection COMS-v2 for rank 0/1(2)0.00030881999555276707,0.0003082752227783203 - 2020-05-31 15:00:00\n",
      "2022-07-22 13:57:26,403 - rank - INFO - Rank 0 -- interaction_waiting -- 7.934002496767789e-06\n",
      "2022-07-22 13:57:26,426 - simulator - INFO - CMS: Timestep for rank 0/1 - 8.659912018003524,8.659913301467896 - 2020-05-31 15:00:00\n",
      "\n",
      "2022-07-22 13:57:26,429 - rank - INFO - Next timestep\n",
      "2022-07-22 13:57:26,431 - simulator - INFO - ==================== timestep ====================\n",
      "2022-07-22 13:57:27,415 - rank - INFO - Rank 0 -- move_people -- 0.9831641810014844\n",
      "2022-07-22 13:57:27,416 - rank - INFO - Rank 0 -- move_people_waiting -- 6.8739973357878625e-06\n",
      "2022-07-22 13:57:27,416 - activity_manager - INFO - CMS: People COMS for rank 0/1 - 4.4140033423900604e-06,4.0531158447265625e-06 - 2020-05-31 17:00:00\n",
      "2022-07-22 13:57:27,425 - simulator - INFO - Info for rank 0, Date = 2020-05-31 17:00:00, number of deaths =  0, number of infected = 1747\n",
      "2022-07-22 13:57:27,792 - rank - INFO - Rank 0 -- interaction -- 0.3743993540047086\n",
      "2022-07-22 13:57:27,794 - tracker - INFO - Rank 0 -- tracking contacts -- 8 of 8 of type hospital\n",
      "2022-07-22 13:57:27,795 - tracker - INFO - Rank 0 -- tracking contacts -- 8 of 8 of type isolation_unit\n",
      "2022-07-22 13:57:27,806 - tracker - INFO - Rank 0 -- tracking contacts -- 500 of 3270 of type shelter\n",
      "2022-07-22 13:57:28,214 - tracker - INFO - Rank 0 -- tracking contacts -- 389 of 389 of type learning_center\n",
      "2022-07-22 13:57:28,230 - tracker - INFO - Rank 0 -- tracking contacts -- 115 of 115 of type communal\n",
      "2022-07-22 13:57:28,234 - tracker - INFO - Rank 0 -- tracking contacts -- 21 of 21 of type distribution_center\n",
      "2022-07-22 13:57:28,283 - tracker - INFO - Rank 0 -- tracking contacts -- 7 of 7 of type e_voucher\n",
      "2022-07-22 13:57:28,303 - tracker - INFO - Rank 0 -- tracking contacts -- 67 of 67 of type female_communal\n",
      "2022-07-22 13:57:28,305 - tracker - INFO - Rank 0 -- tracking contacts -- 80 of 80 of type informal_work\n",
      "2022-07-22 13:57:28,400 - tracker - INFO - Rank 0 -- tracking contacts -- 41 of 41 of type n_f_distribution_center\n",
      "2022-07-22 13:57:28,546 - tracker - INFO - Rank 0 -- tracking contacts -- 500 of 539 of type play_group\n",
      "2022-07-22 13:57:29,110 - tracker - INFO - Rank 0 -- tracking contacts -- 82 of 82 of type pump_latrine\n",
      "2022-07-22 13:57:35,035 - tracker - INFO - Rank 0 -- tracking contacts -- 500 of 2065 of type religious\n",
      "2022-07-22 13:57:35,957 - rank - INFO - Rank 0 -- tracker -- 8.16393496299861\n",
      "2022-07-22 13:57:35,984 - epidemiology - INFO - CMS: Infection COMS-v2 for rank 0/1(2)0.0003280279997852631,0.0003275871276855469 - 2020-05-31 17:00:00\n",
      "2022-07-22 13:57:36,037 - rank - INFO - Rank 0 -- interaction_waiting -- 5.960995622444898e-06\n",
      "2022-07-22 13:57:36,051 - simulator - INFO - CMS: Timestep for rank 0/1 - 9.619677347000106,9.619677782058716 - 2020-05-31 17:00:00\n",
      "\n",
      "2022-07-22 13:57:36,054 - rank - INFO - Next timestep\n",
      "2022-07-22 13:57:36,054 - simulator - INFO - ==================== timestep ====================\n",
      "2022-07-22 13:57:36,235 - rank - INFO - Rank 0 -- move_people -- 0.17951957700279308\n",
      "2022-07-22 13:57:36,236 - rank - INFO - Rank 0 -- move_people_waiting -- 8.556002285331488e-06\n",
      "2022-07-22 13:57:36,236 - activity_manager - INFO - CMS: People COMS for rank 0/1 - 4.369001544546336e-06,4.0531158447265625e-06 - 2020-05-31 19:00:00\n",
      "2022-07-22 13:57:36,243 - simulator - INFO - Info for rank 0, Date = 2020-05-31 19:00:00, number of deaths =  0, number of infected = 1809\n",
      "2022-07-22 13:57:36,407 - rank - INFO - Rank 0 -- interaction -- 0.1702150220007752\n",
      "2022-07-22 13:57:36,408 - tracker - INFO - Rank 0 -- tracking contacts -- 8 of 8 of type hospital\n",
      "2022-07-22 13:57:36,409 - tracker - INFO - Rank 0 -- tracking contacts -- 8 of 8 of type isolation_unit\n",
      "2022-07-22 13:57:36,417 - tracker - INFO - Rank 0 -- tracking contacts -- 500 of 3270 of type shelter\n",
      "2022-07-22 13:57:37,529 - tracker - INFO - Rank 0 -- tracking contacts -- 389 of 389 of type learning_center\n",
      "2022-07-22 13:57:37,540 - tracker - INFO - Rank 0 -- tracking contacts -- 115 of 115 of type communal\n",
      "2022-07-22 13:57:37,542 - tracker - INFO - Rank 0 -- tracking contacts -- 21 of 21 of type distribution_center\n",
      "2022-07-22 13:57:37,544 - tracker - INFO - Rank 0 -- tracking contacts -- 7 of 7 of type e_voucher\n",
      "2022-07-22 13:57:37,545 - tracker - INFO - Rank 0 -- tracking contacts -- 67 of 67 of type female_communal\n",
      "2022-07-22 13:57:37,548 - tracker - INFO - Rank 0 -- tracking contacts -- 80 of 80 of type informal_work\n",
      "2022-07-22 13:57:37,551 - tracker - INFO - Rank 0 -- tracking contacts -- 41 of 41 of type n_f_distribution_center\n",
      "2022-07-22 13:57:37,555 - tracker - INFO - Rank 0 -- tracking contacts -- 500 of 539 of type play_group\n",
      "2022-07-22 13:57:37,565 - tracker - INFO - Rank 0 -- tracking contacts -- 82 of 82 of type pump_latrine\n",
      "2022-07-22 13:57:37,581 - tracker - INFO - Rank 0 -- tracking contacts -- 500 of 2065 of type religious\n",
      "2022-07-22 13:57:37,591 - rank - INFO - Rank 0 -- tracker -- 1.1826225260010688\n",
      "2022-07-22 13:57:37,676 - epidemiology - INFO - CMS: Infection COMS-v2 for rank 0/1(2)0.00030406799487536773,0.00030350685119628906 - 2020-05-31 19:00:00\n",
      "2022-07-22 13:57:37,722 - rank - INFO - Rank 0 -- interaction_waiting -- 7.115006155800074e-06\n",
      "2022-07-22 13:57:37,736 - simulator - INFO - CMS: Timestep for rank 0/1 - 1.6808469809984672,1.6808481216430664 - 2020-05-31 19:00:00\n",
      "\n",
      "CPU times: user 5min 15s, sys: 5.64 s, total: 5min 21s\n",
      "Wall time: 5min 13s\n"
     ]
    }
   ],
   "source": [
    "%%time\n",
    "simulator.run()"
   ]
  },
  {
   "cell_type": "markdown",
   "metadata": {},
   "source": [
    "# Getting the results"
   ]
  },
  {
   "cell_type": "markdown",
   "metadata": {},
   "source": [
    "All results are stored in a json file specified in the `record_path` when defining the recorder. This can be read in by passing the folder locations to the `RecordReader` class and results derived.\n",
    "\n",
    "Here we show some examples of the kind of analysis you can extract from the records."
   ]
  },
  {
   "cell_type": "code",
   "execution_count": 55,
   "metadata": {},
   "outputs": [],
   "source": [
    "import pandas as pd"
   ]
  },
  {
   "cell_type": "code",
   "execution_count": 56,
   "metadata": {},
   "outputs": [],
   "source": [
    "read = RecordReader(Results_Path)"
   ]
  },
  {
   "cell_type": "markdown",
   "metadata": {},
   "source": [
    "The regional summary gives you information at the regional (camp) level."
   ]
  },
  {
   "cell_type": "markdown",
   "metadata": {},
   "source": [
    "### Regional information"
   ]
  },
  {
   "cell_type": "code",
   "execution_count": 57,
   "metadata": {},
   "outputs": [
    {
     "data": {
      "text/html": [
       "<div>\n",
       "<style scoped>\n",
       "    .dataframe tbody tr th:only-of-type {\n",
       "        vertical-align: middle;\n",
       "    }\n",
       "\n",
       "    .dataframe tbody tr th {\n",
       "        vertical-align: top;\n",
       "    }\n",
       "\n",
       "    .dataframe thead th {\n",
       "        text-align: right;\n",
       "    }\n",
       "</style>\n",
       "<table border=\"1\" class=\"dataframe\">\n",
       "  <thead>\n",
       "    <tr style=\"text-align: right;\">\n",
       "      <th></th>\n",
       "      <th>region</th>\n",
       "      <th>current_infected</th>\n",
       "      <th>daily_infected</th>\n",
       "      <th>current_hospitalised</th>\n",
       "      <th>daily_hospitalised</th>\n",
       "      <th>current_intensive_care</th>\n",
       "      <th>daily_intensive_care</th>\n",
       "      <th>daily_hospital_deaths</th>\n",
       "      <th>daily_deaths</th>\n",
       "    </tr>\n",
       "    <tr>\n",
       "      <th>time_stamp</th>\n",
       "      <th></th>\n",
       "      <th></th>\n",
       "      <th></th>\n",
       "      <th></th>\n",
       "      <th></th>\n",
       "      <th></th>\n",
       "      <th></th>\n",
       "      <th></th>\n",
       "      <th></th>\n",
       "    </tr>\n",
       "  </thead>\n",
       "  <tbody>\n",
       "    <tr>\n",
       "      <th>2020-05-24</th>\n",
       "      <td>CXB-219</td>\n",
       "      <td>232.000000</td>\n",
       "      <td>260</td>\n",
       "      <td>0.0</td>\n",
       "      <td>0</td>\n",
       "      <td>0.0</td>\n",
       "      <td>0</td>\n",
       "      <td>0</td>\n",
       "      <td>0</td>\n",
       "    </tr>\n",
       "    <tr>\n",
       "      <th>2020-05-25</th>\n",
       "      <td>CXB-219</td>\n",
       "      <td>294.166667</td>\n",
       "      <td>87</td>\n",
       "      <td>0.0</td>\n",
       "      <td>0</td>\n",
       "      <td>0.0</td>\n",
       "      <td>0</td>\n",
       "      <td>0</td>\n",
       "      <td>0</td>\n",
       "    </tr>\n",
       "    <tr>\n",
       "      <th>2020-05-26</th>\n",
       "      <td>CXB-219</td>\n",
       "      <td>396.000000</td>\n",
       "      <td>132</td>\n",
       "      <td>0.0</td>\n",
       "      <td>0</td>\n",
       "      <td>0.0</td>\n",
       "      <td>0</td>\n",
       "      <td>0</td>\n",
       "      <td>0</td>\n",
       "    </tr>\n",
       "  </tbody>\n",
       "</table>\n",
       "</div>"
      ],
      "text/plain": [
       "             region  current_infected  daily_infected  current_hospitalised  \\\n",
       "time_stamp                                                                    \n",
       "2020-05-24  CXB-219        232.000000             260                   0.0   \n",
       "2020-05-25  CXB-219        294.166667              87                   0.0   \n",
       "2020-05-26  CXB-219        396.000000             132                   0.0   \n",
       "\n",
       "            daily_hospitalised  current_intensive_care  daily_intensive_care  \\\n",
       "time_stamp                                                                     \n",
       "2020-05-24                   0                     0.0                     0   \n",
       "2020-05-25                   0                     0.0                     0   \n",
       "2020-05-26                   0                     0.0                     0   \n",
       "\n",
       "            daily_hospital_deaths  daily_deaths  \n",
       "time_stamp                                       \n",
       "2020-05-24                      0             0  \n",
       "2020-05-25                      0             0  \n",
       "2020-05-26                      0             0  "
      ]
     },
     "execution_count": 57,
     "metadata": {},
     "output_type": "execute_result"
    }
   ],
   "source": [
    "read.regional_summary.head(3) # this is the equivalent of the summary.csv"
   ]
  },
  {
   "cell_type": "markdown",
   "metadata": {},
   "source": [
    "### Daily infections"
   ]
  },
  {
   "cell_type": "code",
   "execution_count": 58,
   "metadata": {},
   "outputs": [],
   "source": [
    "summary = read.regional_summary.reset_index()"
   ]
  },
  {
   "cell_type": "code",
   "execution_count": 59,
   "metadata": {},
   "outputs": [
    {
     "data": {
      "image/png": "[encoded data removed]",
      "text/plain": [
       "<Figure size 432x288 with 1 Axes>"
      ]
     },
     "metadata": {
      "needs_background": "light"
     },
     "output_type": "display_data"
    }
   ],
   "source": [
    "summary.groupby(['time_stamp']).sum().plot(y=['daily_infected'])\n",
    "plt.ylabel('Daily infections')\n",
    "plt.show()"
   ]
  },
  {
   "cell_type": "markdown",
   "metadata": {},
   "source": [
    "### Hospital and intensive care"
   ]
  },
  {
   "cell_type": "code",
   "execution_count": 60,
   "metadata": {},
   "outputs": [
    {
     "data": {
      "image/png": "[encoded data removed]",
      "text/plain": [
       "<Figure size 432x288 with 1 Axes>"
      ]
     },
     "metadata": {
      "needs_background": "light"
     },
     "output_type": "display_data"
    }
   ],
   "source": [
    "summary.groupby(['time_stamp']).sum().plot(y=['current_hospitalised', 'current_intensive_care'])\n",
    "plt.show()"
   ]
  },
  {
   "cell_type": "markdown",
   "metadata": {},
   "source": [
    "### Cumulative infections by age"
   ]
  },
  {
   "cell_type": "code",
   "execution_count": 61,
   "metadata": {},
   "outputs": [
    {
     "name": "stdout",
     "output_type": "stream",
     "text": [
      "2022-07-22 13:57:38,680 - june.records.records_reader - INFO - Loading infections table\n",
      "2022-07-22 13:57:38,698 - june.records.records_reader - INFO - Loading population table\n",
      "2022-07-22 13:57:38,763 - june.records.records_reader - INFO - Merging infection and population tables\n",
      "2022-07-22 13:57:38,770 - june.records.records_reader - INFO - Loading geography table\n",
      "2022-07-22 13:57:38,791 - june.records.records_reader - INFO - Mergeing infection and geography tables\n"
     ]
    }
   ],
   "source": [
    "infections_df = read.get_table_with_extras('infections',\n",
    "                                           'infected_ids')"
   ]
  },
  {
   "cell_type": "code",
   "execution_count": 62,
   "metadata": {},
   "outputs": [
    {
     "name": "stdout",
     "output_type": "stream",
     "text": [
      "2022-07-22 13:57:38,805 - june.records.records_reader - INFO - Loading deaths table\n",
      "2022-07-22 13:57:38,814 - june.records.records_reader - INFO - Loading population table\n",
      "2022-07-22 13:57:38,880 - june.records.records_reader - INFO - Merging infection and population tables\n",
      "2022-07-22 13:57:38,885 - june.records.records_reader - INFO - Loading geography table\n",
      "2022-07-22 13:57:38,906 - june.records.records_reader - INFO - Mergeing infection and geography tables\n"
     ]
    }
   ],
   "source": [
    "deaths_df = read.get_table_with_extras('deaths', \n",
    "                                       'dead_person_ids')"
   ]
  },
  {
   "cell_type": "code",
   "execution_count": 63,
   "metadata": {},
   "outputs": [],
   "source": [
    "age_bins = (0,20,60,100)"
   ]
  },
  {
   "cell_type": "code",
   "execution_count": 64,
   "metadata": {},
   "outputs": [],
   "source": [
    "infected_by_age = infections_df.groupby([pd.cut(infections_df['age'],\n",
    "            bins=age_bins), 'timestamp']).size()"
   ]
  },
  {
   "cell_type": "code",
   "execution_count": 65,
   "metadata": {},
   "outputs": [],
   "source": [
    "people_df = read.table_to_df('population')"
   ]
  },
  {
   "cell_type": "code",
   "execution_count": 66,
   "metadata": {},
   "outputs": [],
   "source": [
    "n_by_age = people_df.groupby(pd.cut(people_df['age'],\n",
    "            bins=age_bins)).size()"
   ]
  },
  {
   "cell_type": "code",
   "execution_count": 67,
   "metadata": {},
   "outputs": [
    {
     "data": {
      "text/plain": [
       "<matplotlib.legend.Legend at 0x7fe1b0412c10>"
      ]
     },
     "execution_count": 67,
     "metadata": {},
     "output_type": "execute_result"
    },
    {
     "data": {
      "image/png": "[encoded data removed]",
      "text/plain": [
       "<Figure size 432x288 with 1 Axes>"
      ]
     },
     "metadata": {
      "needs_background": "light"
     },
     "output_type": "display_data"
    }
   ],
   "source": [
    "(100*infected_by_age/n_by_age).xs(10).cumsum().plot(label='0,20')\n",
    "(100*infected_by_age/n_by_age).xs(30).cumsum().plot(label='20,60')\n",
    "(100*infected_by_age/n_by_age).xs(70).cumsum().plot(label='60,100')\n",
    "plt.ylabel(\"% cumulative infected\")\n",
    "plt.legend()"
   ]
  },
  {
   "cell_type": "markdown",
   "metadata": {},
   "source": [
    "### Where people get infected"
   ]
  },
  {
   "cell_type": "code",
   "execution_count": 68,
   "metadata": {},
   "outputs": [],
   "source": [
    "locations_df = infections_df.groupby(['location_specs', \n",
    "                                'timestamp']).size()"
   ]
  },
  {
   "cell_type": "code",
   "execution_count": 69,
   "metadata": {},
   "outputs": [
    {
     "data": {
      "text/plain": [
       "<AxesSubplot:xlabel='timestamp'>"
      ]
     },
     "execution_count": 69,
     "metadata": {},
     "output_type": "execute_result"
    },
    {
     "data": {
      "image/png": "[encoded data removed]",
      "text/plain": [
       "<Figure size 432x288 with 1 Axes>"
      ]
     },
     "metadata": {
      "needs_background": "light"
     },
     "output_type": "display_data"
    }
   ],
   "source": [
    "locations_df.unstack(level=0).plot()"
   ]
  },
  {
   "cell_type": "code",
   "execution_count": 70,
   "metadata": {},
   "outputs": [
    {
     "data": {
      "text/plain": [
       "Text(0.5, 0, 'location')"
      ]
     },
     "execution_count": 70,
     "metadata": {},
     "output_type": "execute_result"
    },
    {
     "data": {
      "image/png": "[encoded data removed]",
      "text/plain": [
       "<Figure size 432x288 with 1 Axes>"
      ]
     },
     "metadata": {
      "needs_background": "light"
     },
     "output_type": "display_data"
    }
   ],
   "source": [
    "import matplotlib.ticker as mtick\n",
    "location_counts_df = locations_df.groupby('location_specs').size()\n",
    "location_counts_df = 100*location_counts_df / location_counts_df.sum()\n",
    "ax = location_counts_df.sort_values().plot.bar()\n",
    "ax.yaxis.set_major_formatter(mtick.PercentFormatter())\n",
    "plt.ylabel('Percentage of infections at location')\n",
    "plt.xlabel('location')"
   ]
  },
  {
   "cell_type": "markdown",
   "metadata": {},
   "source": [
    "# Tracker results"
   ]
  },
  {
   "cell_type": "markdown",
   "metadata": {},
   "source": [
    "We can define custom binnings with bin edges as such."
   ]
  },
  {
   "cell_type": "code",
   "execution_count": 71,
   "metadata": {},
   "outputs": [
    {
     "data": {
      "text/plain": [
       "1"
      ]
     },
     "execution_count": 71,
     "metadata": {},
     "output_type": "execute_result"
    }
   ],
   "source": [
    "simulator.tracker.contract_matrices(\"AC\", np.array([0,18,60]))"
   ]
  },
  {
   "cell_type": "markdown",
   "metadata": {},
   "source": [
    "Lastly we call the tracker to save the results to file and provide a print out of the results."
   ]
  },
  {
   "cell_type": "code",
   "execution_count": 72,
   "metadata": {},
   "outputs": [
    {
     "name": "stdout",
     "output_type": "stream",
     "text": [
      "Results from 1D interactions...\n",
      "\n",
      "  communal:\n",
      "    contacts: [[3.87,7.92],[1.20,5.76]]\n",
      "    contacts_err: [[1.39,1.99],[0.78,1.70]]\n",
      "    proportion_physical: [[0.12]]\n",
      "    characteristic_time: 1.00\n",
      "\n",
      "    Ratio of contacts and feed in values: [[0.77,0.98],[0.79,0.96]]\n",
      "\n",
      "  distribution_center:\n",
      "    contacts: [[4.07,13.68],[0.81,10.01]]\n",
      "    contacts_err: [[1.43,2.62],[0.64,2.24]]\n",
      "    proportion_physical: [[0.12]]\n",
      "    characteristic_time: 1.00\n",
      "\n",
      "    Ratio of contacts and feed in values: [[1.02,1.00],[1.02,1.00]]\n",
      "\n",
      "  e_voucher:\n",
      "    contacts: [[0.26,2.06],[0.10,13.46]]\n",
      "    contacts_err: [[0.36,1.02],[0.23,2.59]]\n",
      "    proportion_physical: [[0.12]]\n",
      "    characteristic_time: 1.00\n",
      "\n",
      "    Ratio of contacts and feed in values: [[0.00,1.03],[1.04,1.00]]\n",
      "\n",
      "  female_communal:\n",
      "    contacts: [[5.03,8.08],[1.50,5.91]]\n",
      "    contacts_err: [[1.59,2.01],[0.87,1.72]]\n",
      "    proportion_physical: [[0.12]]\n",
      "    characteristic_time: 1.00\n",
      "\n",
      "    Ratio of contacts and feed in values: [[1.01,1.00],[0.98,0.98]]\n",
      "\n",
      "  hospital:\n",
      "    contacts: [[5.03,0.23,0.00],[0.00,0.00,0.00],[0.00,0.00,0.00]]\n",
      "    contacts_err: [[4.49,0.95,0.00],[0.00,0.00,0.00],[0.00,0.00,0.00]]\n",
      "    proportion_physical: [[0.05,1.00,1.00],[1.00,0.00,0.00],[1.00,0.00,0.00]]\n",
      "    characteristic_time: 8.00\n",
      "\n",
      "    Ratio of contacts and feed in values: [[1.01,0.02,0.00],[0.00,0.00,0.00],[0.00,0.00,0.00]]\n",
      "\n",
      "  informal_work:\n",
      "    contacts: [[5.00]]\n",
      "    contacts_err: [[4.00]]\n",
      "    proportion_physical: [[0.12]]\n",
      "    characteristic_time: 8.00\n",
      "\n",
      "    Ratio of contacts and feed in values: [[1.00]]\n",
      "\n",
      "  isolation_unit:\n",
      "    contacts: [[0.00,0.00],[0.00,0.00]]\n",
      "    contacts_err: [[0.00,0.00],[0.00,0.00]]\n",
      "    proportion_physical: [[0.00,0.00],[0.00,0.00]]\n",
      "    characteristic_time: 24.00\n",
      "\n",
      "    Ratio of contacts and feed in values: [[0.00,0.00],[0.00,0.00]]\n",
      "\n",
      "  learning_center:\n",
      "    contacts: [[10.01,6.39],[1.95,3.85]]\n",
      "    contacts_err: [[2.74,2.19],[1.21,1.70]]\n",
      "    proportion_physical: [[0.12,0.12],[0.12,0.12]]\n",
      "    characteristic_time: 1.50\n",
      "\n",
      "    Ratio of contacts and feed in values: [[1.00,1.00],[0.44,0.99]]\n",
      "\n",
      "  n_f_distribution_center:\n",
      "    contacts: [[4.02,13.83],[0.79,9.99]]\n",
      "    contacts_err: [[1.42,2.63],[0.63,2.23]]\n",
      "    proportion_physical: [[0.12]]\n",
      "    characteristic_time: 1.00\n",
      "\n",
      "    Ratio of contacts and feed in values: [[1.00,1.01],[1.00,1.00]]\n",
      "\n",
      "  play_group:\n",
      "    contacts: [[5.00,0.00,0.00],[0.00,4.00,0.00],[0.00,0.00,4.00]]\n",
      "    contacts_err: [[2.00,0.00,0.00],[0.00,2.00,0.00],[0.00,0.00,2.00]]\n",
      "    proportion_physical: [[0.60,0.00,0.00],[0.00,0.30,0.00],[0.00,0.00,0.15]]\n",
      "    characteristic_time: 2.00\n",
      "\n",
      "    Ratio of contacts and feed in values: [[1.00,0.00,0.00],[0.00,0.80,0.00],[0.00,0.00,0.80]]\n",
      "\n",
      "  pump_latrine:\n",
      "    contacts: [[3.26,9.72],[1.63,4.33]]\n",
      "    contacts_err: [[0.94,1.62],[0.66,1.08]]\n",
      "    proportion_physical: [[0.02]]\n",
      "    characteristic_time: 0.54\n",
      "\n",
      "    Ratio of contacts and feed in values: [[1.00,1.00],[1.00,1.00]]\n",
      "\n",
      "  religious:\n",
      "    contacts: [[4.99,9.52],[1.10,8.50]]\n",
      "    contacts_err: [[1.58,2.18],[0.74,2.06]]\n",
      "    proportion_physical: [[0.12]]\n",
      "    characteristic_time: 1.00\n",
      "\n",
      "    Ratio of contacts and feed in values: [[1.00,1.01],[1.00,1.00]]\n",
      "\n",
      "  shelter:\n",
      "    contacts: [[5.00,2.00],[2.00,5.00]]\n",
      "    contacts_err: [[3.00,3.00],[3.00,3.00]]\n",
      "    proportion_physical: [[0.80,0.30],[0.80,0.30]]\n",
      "    characteristic_time: 12.00\n",
      "\n",
      "    Ratio of contacts and feed in values: [[1.00,1.00],[1.00,1.00]]\n",
      "\n",
      "Results from all contacts all interactions...\n",
      "\n",
      "  communal:\n",
      "    contacts: [[1.02,2.72],[1.07,2.55]]\n",
      "    contacts_err: [[0.71,1.17],[0.73,1.13]]\n",
      "    proportion_physical: [[0.12]]\n",
      "    characteristic_time: 1.00\n",
      "\n",
      "    Ratio of contacts and feed in values: [[0.20,0.34],[0.70,0.42]]\n",
      "\n",
      "  distribution_center:\n",
      "    contacts: [[11.17,28.77],[11.16,28.85]]\n",
      "    contacts_err: [[2.36,3.79],[2.36,3.80]]\n",
      "    proportion_physical: [[0.12]]\n",
      "    characteristic_time: 1.00\n",
      "\n",
      "    Ratio of contacts and feed in values: [[2.79,2.11],[14.12,2.89]]\n",
      "\n",
      "  e_voucher:\n",
      "    contacts: [[4.89,13.83],[5.06,13.64]]\n",
      "    contacts_err: [[1.56,2.63],[1.59,2.61]]\n",
      "    proportion_physical: [[0.12]]\n",
      "    characteristic_time: 1.00\n",
      "\n",
      "    Ratio of contacts and feed in values: [[0.00,6.91],[50.60,1.01]]\n",
      "\n",
      "  female_communal:\n",
      "    contacts: [[6.94,6.37],[6.88,6.31]]\n",
      "    contacts_err: [[1.86,1.79],[1.86,1.78]]\n",
      "    proportion_physical: [[0.12]]\n",
      "    characteristic_time: 1.00\n",
      "\n",
      "    Ratio of contacts and feed in values: [[1.39,0.79],[4.50,1.05]]\n",
      "\n",
      "  hospital:\n",
      "    contacts: [[12.46,0.10,0.00],[20.00,0.00,0.00],[0.00,0.00,0.00]]\n",
      "    contacts_err: [[7.06,0.64,0.00],[8.94,0.00,0.00],[0.00,0.00,0.00]]\n",
      "    proportion_physical: [[0.05,1.00,1.00],[1.00,0.00,0.00],[1.00,0.00,0.00]]\n",
      "    characteristic_time: 8.00\n",
      "\n",
      "    Ratio of contacts and feed in values: [[2.49,0.01,0.00],[20.00,0.00,0.00],[0.00,0.00,0.00]]\n",
      "\n",
      "  informal_work:\n",
      "    contacts: [[30.00]]\n",
      "    contacts_err: [[11.00]]\n",
      "    proportion_physical: [[0.12]]\n",
      "    characteristic_time: 8.00\n",
      "\n",
      "    Ratio of contacts and feed in values: [[6.00]]\n",
      "\n",
      "  isolation_unit:\n",
      "    contacts: [[0.00,0.00],[0.00,0.00]]\n",
      "    contacts_err: [[0.00,0.00],[0.00,0.00]]\n",
      "    proportion_physical: [[0.00,0.00],[0.00,0.00]]\n",
      "    characteristic_time: 24.00\n",
      "\n",
      "    Ratio of contacts and feed in values: [[0.00,0.00],[0.00,0.00]]\n",
      "\n",
      "  learning_center:\n",
      "    contacts: [[8.80,3.02],[3.68,2.87]]\n",
      "    contacts_err: [[2.57,1.51],[1.66,1.47]]\n",
      "    proportion_physical: [[0.12,0.12],[0.12,0.12]]\n",
      "    characteristic_time: 1.50\n",
      "\n",
      "    Ratio of contacts and feed in values: [[0.88,0.47],[0.83,0.74]]\n",
      "\n",
      "  n_f_distribution_center:\n",
      "    contacts: [[20.21,56.41],[20.20,56.35]]\n",
      "    contacts_err: [[3.18,5.31],[3.18,5.31]]\n",
      "    proportion_physical: [[0.12]]\n",
      "    characteristic_time: 1.00\n",
      "\n",
      "    Ratio of contacts and feed in values: [[5.05,4.14],[25.57,5.63]]\n",
      "\n",
      "  play_group:\n",
      "    contacts: [[7.00,8.00,4.00],[7.00,8.00,4.00],[7.00,8.00,3.00]]\n",
      "    contacts_err: [[2.00,2.00,2.00],[2.00,2.00,2.00],[2.00,2.00,1.00]]\n",
      "    proportion_physical: [[0.60,0.00,0.00],[0.00,0.30,0.00],[0.00,0.00,0.15]]\n",
      "    characteristic_time: 2.00\n",
      "\n",
      "    Ratio of contacts and feed in values: [[1.40,0.00,0.00],[0.00,1.60,0.00],[0.00,0.00,0.60]]\n",
      "\n",
      "  pump_latrine:\n",
      "    contacts: [[15.58,11.99],[15.70,12.39]]\n",
      "    contacts_err: [[2.05,1.80],[2.06,1.83]]\n",
      "    proportion_physical: [[0.02]]\n",
      "    characteristic_time: 0.54\n",
      "\n",
      "    Ratio of contacts and feed in values: [[4.79,1.23],[9.63,2.86]]\n",
      "\n",
      "  religious:\n",
      "    contacts: [[15.08,33.08],[15.40,34.44]]\n",
      "    contacts_err: [[2.75,4.07],[2.78,4.15]]\n",
      "    proportion_physical: [[0.12]]\n",
      "    characteristic_time: 1.00\n",
      "\n",
      "    Ratio of contacts and feed in values: [[3.02,3.49],[14.00,4.05]]\n",
      "\n",
      "  shelter:\n",
      "    contacts: [[7.00,10.00],[10.00,7.00]]\n",
      "    contacts_err: [[3.00,6.00],[6.00,3.00]]\n",
      "    proportion_physical: [[0.80,0.30],[0.80,0.30]]\n",
      "    characteristic_time: 12.00\n",
      "\n",
      "    Ratio of contacts and feed in values: [[1.40,5.00],[5.00,1.40]]\n",
      "\n"
     ]
    },
    {
     "data": {
      "text/plain": [
       "1"
      ]
     },
     "execution_count": 72,
     "metadata": {},
     "output_type": "execute_result"
    }
   ],
   "source": [
    "simulator.tracker.post_process_simulation(save=True)"
   ]
  }
 ],
 "metadata": {
  "kernelspec": {
   "display_name": "Python 3 (ipykernel)",
   "language": "python",
   "name": "python3"
  },
  "language_info": {
   "codemirror_mode": {
    "name": "ipython",
    "version": 3
   },
   "file_extension": ".py",
   "mimetype": "text/x-python",
   "name": "python",
   "nbconvert_exporter": "python",
   "pygments_lexer": "ipython3",
   "version": "3.8.10"
  }
 },
 "nbformat": 4,
 "nbformat_minor": 4
}
