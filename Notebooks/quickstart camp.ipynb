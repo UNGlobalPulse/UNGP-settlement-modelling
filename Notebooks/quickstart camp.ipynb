{
 "cells": [
  {
   "cell_type": "code",
   "execution_count": 1,
   "metadata": {},
   "outputs": [],
   "source": [
    "%load_ext autoreload\n",
    "%autoreload 2"
   ]
  },
  {
   "cell_type": "code",
   "execution_count": 2,
   "metadata": {},
   "outputs": [],
   "source": [
    "import warnings\n",
    "warnings.filterwarnings('ignore')"
   ]
  },
  {
   "cell_type": "code",
   "execution_count": 3,
   "metadata": {},
   "outputs": [],
   "source": [
    "import numpy as np\n",
    "import matplotlib.pyplot as plt \n",
    "import pandas as pd\n",
    "import time\n",
    "import matplotlib.pyplot as plt\n",
    "import seaborn as sns\n",
    "from datetime import datetime\n",
    "import sys\n",
    "sys.path.append(\"../camp_scripts\") # change accordingly\n",
    "sns.set_context('notebook')"
   ]
  },
  {
   "cell_type": "code",
   "execution_count": 4,
   "metadata": {},
   "outputs": [
    {
     "name": "stderr",
     "output_type": "stream",
     "text": [
      "No --data argument given - defaulting to:\n",
      "/home/florpi/camps/JUNE/data\n",
      "No --configs argument given - defaulting to:\n",
      "/home/florpi/camps/JUNE/configs\n"
     ]
    },
    {
     "name": "stdout",
     "output_type": "stream",
     "text": [
      "2020-09-01 18:56:06,535 - camps.paths - WARNING - No --data argument given - defaulting to:\n",
      "/home/florpi/camps/JUNE/data\n",
      "2020-09-01 18:56:06,548 - camps.paths - WARNING - No --configs argument given - defaulting to:\n",
      "/home/florpi/camps/JUNE/configs\n",
      "2020-09-01 18:56:06,550 - camps.paths - WARNING - No --camp_data argument given - defaulting to:\n",
      "/home/florpi/camps/JUNE/camp_data\n",
      "2020-09-01 18:56:06,552 - camps.paths - WARNING - No --configs_camps argument given - defaulting to:\n",
      "/home/florpi/camps/JUNE/configs_camps\n"
     ]
    }
   ],
   "source": [
    "from june.demography.geography import Geography\n",
    "from june.demography.demography import load_age_and_sex_generators_for_bins, Demography, Population\n",
    "from june.paths import data_path\n",
    "from june.infection_seed import InfectionSeed\n",
    "from june.simulator import Simulator\n",
    "from june.infection import InfectionSelector\n",
    "from june.interaction import Interaction\n",
    "from june.groups import Hospital, Hospitals\n",
    "from june.distributors import HospitalDistributor\n",
    "from june.hdf5_savers import generate_world_from_hdf5\n",
    "from june.groups import Cemeteries\n",
    "from june.policy import Policy, Policies\n",
    "from june.logger.read_logger import ReadLogger\n",
    "\n",
    "from camps.paths import camp_data_path\n",
    "from camps.world import World\n",
    "from camps.groups.leisure import generate_leisure_for_world, generate_leisure_for_config\n",
    "from camp_creation import generate_empty_world, populate_world, distribute_people_to_households # this is loaded from the ../camp_scripts folder"
   ]
  },
  {
   "cell_type": "code",
   "execution_count": 5,
   "metadata": {},
   "outputs": [],
   "source": [
    "from camps.groups import PumpLatrines, PumpLatrineDistributor\n",
    "from camps.groups import DistributionCenters, DistributionCenterDistributor\n",
    "from camps.groups import Communals, CommunalDistributor\n",
    "from camps.groups import FemaleCommunals, FemaleCommunalDistributor\n",
    "from camps.groups import Religiouss, ReligiousDistributor\n",
    "from camps.groups import Shelter, Shelters, ShelterDistributor\n",
    "from camps.groups import IsolationUnit, IsolationUnits\n",
    "from june.groups.leisure import HouseholdVisitsDistributor\n",
    "from camps.groups import PlayGroups, PlayGroupDistributor"
   ]
  },
  {
   "cell_type": "markdown",
   "metadata": {},
   "source": [
    "## Initialize the world"
   ]
  },
  {
   "cell_type": "code",
   "execution_count": 6,
   "metadata": {},
   "outputs": [
    {
     "name": "stdout",
     "output_type": "stream",
     "text": [
      "2020-09-01 18:56:07,130 - june.demography.geography - INFO - There are 65 areas and 4 super_areas in the world.\n"
     ]
    }
   ],
   "source": [
    "# create empty world's geography\n",
    "world = generate_empty_world(filter_key = {\"region\" : [\"CXB-219\"]})"
   ]
  },
  {
   "cell_type": "code",
   "execution_count": 7,
   "metadata": {},
   "outputs": [],
   "source": [
    "# populate empty world\n",
    "populate_world(world)"
   ]
  },
  {
   "cell_type": "code",
   "execution_count": 8,
   "metadata": {},
   "outputs": [],
   "source": [
    "# distribute people to households\n",
    "distribute_people_to_households(world)"
   ]
  },
  {
   "cell_type": "code",
   "execution_count": 9,
   "metadata": {},
   "outputs": [
    {
     "name": "stdout",
     "output_type": "stream",
     "text": [
      "2020-09-01 18:56:10,179 - june.groups.hospital - INFO - There are 8 hospitals in the world.\n"
     ]
    }
   ],
   "source": [
    "# this is not working\n",
    "hospitals= Hospitals.from_file(\n",
    "    filename=camp_data_path / 'input/hospitals/hospitals.csv'\n",
    ")\n",
    "world.hospitals = hospitals\n",
    "for hospital in world.hospitals:\n",
    "    hospital.super_area = world.super_areas.members[0]\n",
    "hospital_distributor = HospitalDistributor(hospitals, \n",
    "                                           medic_min_age=20,\n",
    "                                           patients_per_medic=10)\n",
    "\n",
    "hospital_distributor.distribute_medics_from_world(world.people)\n",
    "world.isolation_units = IsolationUnits([IsolationUnit()])"
   ]
  },
  {
   "cell_type": "code",
   "execution_count": 10,
   "metadata": {},
   "outputs": [],
   "source": [
    "world.pump_latrines = PumpLatrines.for_areas(world.areas)\n",
    "world.distribution_centers = DistributionCenters.for_areas(world.areas)\n",
    "world.communals = Communals.for_areas(world.areas)\n",
    "world.female_communals = FemaleCommunals.for_areas(world.areas)\n",
    "world.religiouss = Religiouss.for_areas(world.areas)\n",
    "world.play_groups = PlayGroups.for_areas(world.areas)"
   ]
  },
  {
   "cell_type": "code",
   "execution_count": 11,
   "metadata": {},
   "outputs": [],
   "source": [
    "#world.box_mode = False\n",
    "world.cemeteries = Cemeteries()"
   ]
  },
  {
   "cell_type": "markdown",
   "metadata": {},
   "source": [
    "## Geography exploration"
   ]
  },
  {
   "cell_type": "markdown",
   "metadata": {},
   "source": [
    "### UNHCR camp blocks inside the World"
   ]
  },
  {
   "cell_type": "code",
   "execution_count": 12,
   "metadata": {},
   "outputs": [],
   "source": [
    "super_areas = []\n",
    "for super_area in world.super_areas:\n",
    "    super_areas.append(super_area.name)"
   ]
  },
  {
   "cell_type": "code",
   "execution_count": 13,
   "metadata": {},
   "outputs": [
    {
     "data": {
      "text/plain": [
       "['CXB-219-A', 'CXB-219-B', 'CXB-219-C', 'CXB-219-D']"
      ]
     },
     "execution_count": 13,
     "metadata": {},
     "output_type": "execute_result"
    }
   ],
   "source": [
    "super_areas[:5]"
   ]
  },
  {
   "cell_type": "markdown",
   "metadata": {},
   "source": [
    "### Mahjee blocks inside World"
   ]
  },
  {
   "cell_type": "code",
   "execution_count": 14,
   "metadata": {},
   "outputs": [],
   "source": [
    "areas = []\n",
    "for area in world.areas:\n",
    "    areas.append(area.name)"
   ]
  },
  {
   "cell_type": "code",
   "execution_count": 15,
   "metadata": {},
   "outputs": [
    {
     "data": {
      "text/plain": [
       "['CXB-219-062', 'CXB-219-063', 'CXB-219-061', 'CXB-219-060', 'CXB-219-065']"
      ]
     },
     "execution_count": 15,
     "metadata": {},
     "output_type": "execute_result"
    }
   ],
   "source": [
    "areas[:5]"
   ]
  },
  {
   "cell_type": "markdown",
   "metadata": {},
   "source": [
    "## Demography exploration"
   ]
  },
  {
   "cell_type": "markdown",
   "metadata": {},
   "source": [
    "### UNHCR block residents"
   ]
  },
  {
   "cell_type": "code",
   "execution_count": 16,
   "metadata": {},
   "outputs": [],
   "source": [
    "sample_ages = []\n",
    "sample_sexes = []\n",
    "for person in world.super_areas.members[0].people:\n",
    "    sample_ages.append(person.age)\n",
    "    sample_sexes.append(person.sex)"
   ]
  },
  {
   "cell_type": "code",
   "execution_count": 17,
   "metadata": {},
   "outputs": [
    {
     "data": {
      "text/plain": [
       "(['f', 'm', 'm', 'f', 'f'], [61, 41, 26, 24, 54])"
      ]
     },
     "execution_count": 17,
     "metadata": {},
     "output_type": "execute_result"
    }
   ],
   "source": [
    "sample_sexes[:5], sample_ages[:5]"
   ]
  },
  {
   "cell_type": "code",
   "execution_count": 18,
   "metadata": {},
   "outputs": [
    {
     "data": {
      "image/png": "[encoded data removed]",
      "text/plain": [
       "<Figure size 432x288 with 1 Axes>"
      ]
     },
     "metadata": {
      "needs_background": "light"
     },
     "output_type": "display_data"
    }
   ],
   "source": [
    "ages, counts = np.unique(sample_ages, return_counts=True)\n",
    "plt.bar(ages, counts)\n",
    "plt.title('super area: {} age distribution'.format(world.super_areas.members[0].name))\n",
    "plt.show()"
   ]
  },
  {
   "cell_type": "code",
   "execution_count": 19,
   "metadata": {},
   "outputs": [
    {
     "name": "stdout",
     "output_type": "stream",
     "text": [
      "The % children between ages 0-16 is 49.0%\n"
     ]
    }
   ],
   "source": [
    "print ('The % children between ages 0-16 is {}%'.format(round(np.sum(counts[:16])/(np.sum(counts[:16])+np.sum(counts[16:]))*100)))"
   ]
  },
  {
   "cell_type": "markdown",
   "metadata": {},
   "source": [
    "## Households"
   ]
  },
  {
   "cell_type": "markdown",
   "metadata": {},
   "source": [
    "### Household size distribution"
   ]
  },
  {
   "cell_type": "code",
   "execution_count": 20,
   "metadata": {},
   "outputs": [
    {
     "data": {
      "image/png": "[encoded data removed]",
      "text/plain": [
       "<Figure size 432x288 with 1 Axes>"
      ]
     },
     "metadata": {
      "needs_background": "light"
     },
     "output_type": "display_data"
    }
   ],
   "source": [
    "household_sizes = [household.size for household in world.households]\n",
    "plt.hist(household_sizes, density=True, bins=np.arange(0,12))\n",
    "plt.xlabel(\"Household size\")\n",
    "plt.ylabel(\"Frequency\")\n",
    "plt.axvline(np.mean(household_sizes), color=\"cyan\")\n",
    "plt.text(8, 0.150, f\"Avg. size: {(np.mean(household_sizes)):.2f}\")\n",
    "plt.show()"
   ]
  },
  {
   "cell_type": "markdown",
   "metadata": {},
   "source": [
    "# Shelters"
   ]
  },
  {
   "cell_type": "code",
   "execution_count": 21,
   "metadata": {},
   "outputs": [],
   "source": [
    "world.shelters = Shelters.for_areas(world.areas)\n",
    "shelter_distributor = ShelterDistributor(sharing_shelter_ratio = 0.75) # proportion of families that share a shelter\n",
    "for area in world.areas:\n",
    "    shelter_distributor.distribute_people_in_shelters(area.shelters, area.households)"
   ]
  },
  {
   "cell_type": "code",
   "execution_count": 22,
   "metadata": {},
   "outputs": [
    {
     "data": {
      "image/png": "[encoded data removed]",
      "text/plain": [
       "<Figure size 576x216 with 2 Axes>"
      ]
     },
     "metadata": {
      "needs_background": "light"
     },
     "output_type": "display_data"
    }
   ],
   "source": [
    "fig, ax = plt.subplots(1, 2, figsize=(8,3))\n",
    "shelter_sizes = [shelter.size for shelter in world.shelters]\n",
    "shelter_families = [shelter.n_families for shelter in world.shelters]\n",
    "ax[0].hist(shelter_sizes)\n",
    "ax[0].set_title(\"Shelter size\")\n",
    "shelter_families = {1 : len([shelter for shelter in world.shelters if shelter.n_families == 1]),\n",
    "                    2 : len([shelter for shelter in world.shelters if shelter.n_families == 2])}\n",
    "ax[1].bar(shelter_families.keys(), shelter_families.values())\n",
    "ax[1].set_title(\"# families per shelter\")\n",
    "plt.show()"
   ]
  },
  {
   "cell_type": "markdown",
   "metadata": {},
   "source": [
    "## Activity exploration"
   ]
  },
  {
   "cell_type": "markdown",
   "metadata": {},
   "source": [
    "### Pumps and latrines "
   ]
  },
  {
   "cell_type": "code",
   "execution_count": 23,
   "metadata": {},
   "outputs": [],
   "source": [
    "pumps_and_latrines = []\n",
    "for pump_latrine in world.areas.members[0].pump_latrines:\n",
    "    pumps_and_latrines.append(pump_latrine)"
   ]
  },
  {
   "cell_type": "code",
   "execution_count": 24,
   "metadata": {},
   "outputs": [
    {
     "name": "stdout",
     "output_type": "stream",
     "text": [
      "There are 3 pumps and latrines in area CXB-219-062\n"
     ]
    }
   ],
   "source": [
    "print ('There are {} pumps and latrines in area {}'.format(len(pumps_and_latrines), world.areas.members[0].name))"
   ]
  },
  {
   "cell_type": "markdown",
   "metadata": {},
   "source": [
    "### Distribution centers"
   ]
  },
  {
   "cell_type": "code",
   "execution_count": 25,
   "metadata": {},
   "outputs": [],
   "source": [
    "distribution_centers = []\n",
    "for center in world.distribution_centers:\n",
    "    distribution_centers.append(center)"
   ]
  },
  {
   "cell_type": "code",
   "execution_count": 26,
   "metadata": {},
   "outputs": [
    {
     "data": {
      "text/plain": [
       "array([21.1962 , 92.14936])"
      ]
     },
     "execution_count": 26,
     "metadata": {},
     "output_type": "execute_result"
    }
   ],
   "source": [
    "distribution_centers[0].coordinates"
   ]
  },
  {
   "cell_type": "markdown",
   "metadata": {},
   "source": [
    "### Communal spaces"
   ]
  },
  {
   "cell_type": "code",
   "execution_count": 27,
   "metadata": {},
   "outputs": [],
   "source": [
    "communal_spaces = []\n",
    "for space in world.communals:\n",
    "    communal_spaces.append(space)"
   ]
  },
  {
   "cell_type": "code",
   "execution_count": 28,
   "metadata": {},
   "outputs": [
    {
     "data": {
      "text/plain": [
       "array([21.19621, 92.14924])"
      ]
     },
     "execution_count": 28,
     "metadata": {},
     "output_type": "execute_result"
    }
   ],
   "source": [
    "communal_spaces[0].coordinates"
   ]
  },
  {
   "cell_type": "markdown",
   "metadata": {},
   "source": [
    "### Female friendly communal spaces"
   ]
  },
  {
   "cell_type": "code",
   "execution_count": 29,
   "metadata": {},
   "outputs": [],
   "source": [
    "female_communal_spaces = []\n",
    "for space in world.female_communals:\n",
    "    female_communal_spaces.append(space)"
   ]
  },
  {
   "cell_type": "code",
   "execution_count": 30,
   "metadata": {},
   "outputs": [
    {
     "data": {
      "text/plain": [
       "array([21.19588, 92.152  ])"
      ]
     },
     "execution_count": 30,
     "metadata": {},
     "output_type": "execute_result"
    }
   ],
   "source": [
    "female_communal_spaces[0].coordinates"
   ]
  },
  {
   "cell_type": "markdown",
   "metadata": {},
   "source": [
    "### Religious sites"
   ]
  },
  {
   "cell_type": "code",
   "execution_count": 31,
   "metadata": {},
   "outputs": [],
   "source": [
    "religious = []\n",
    "for rel in world.religiouss:\n",
    "    religious.append(rel)"
   ]
  },
  {
   "cell_type": "code",
   "execution_count": 32,
   "metadata": {},
   "outputs": [
    {
     "data": {
      "text/plain": [
       "array([21.20069, 92.15216])"
      ]
     },
     "execution_count": 32,
     "metadata": {},
     "output_type": "execute_result"
    }
   ],
   "source": [
    "religious[0].coordinates"
   ]
  },
  {
   "cell_type": "markdown",
   "metadata": {},
   "source": [
    "# Adding the infection"
   ]
  },
  {
   "cell_type": "code",
   "execution_count": 33,
   "metadata": {},
   "outputs": [],
   "source": [
    "selector = InfectionSelector.from_file()"
   ]
  },
  {
   "cell_type": "markdown",
   "metadata": {},
   "source": [
    "# Adding the interaction"
   ]
  },
  {
   "cell_type": "code",
   "execution_count": 34,
   "metadata": {},
   "outputs": [],
   "source": [
    "interaction = Interaction.from_file(config_filename='../configs_camps/defaults/interaction/ContactInteraction.yaml')"
   ]
  },
  {
   "cell_type": "markdown",
   "metadata": {},
   "source": [
    "# Set policies"
   ]
  },
  {
   "cell_type": "code",
   "execution_count": 35,
   "metadata": {},
   "outputs": [],
   "source": [
    "policies = Policies.from_file('../configs_camps/defaults/policy/home_care_policy.yaml', base_policy_modules=('june.policy', 'camps.policy'))"
   ]
  },
  {
   "cell_type": "code",
   "execution_count": 36,
   "metadata": {},
   "outputs": [
    {
     "data": {
      "text/plain": [
       "[<june.policy.interaction_policies.SocialDistancing at 0x7f2c0a68cf70>,\n",
       " <june.policy.medical_care_policies.Hospitalisation at 0x7f2c0a7bd370>,\n",
       " <june.policy.individual_policies.SevereSymptomsStayHome at 0x7f2c0a5b1a00>,\n",
       " <june.policy.individual_policies.Quarantine at 0x7f2c0a5b18e0>]"
      ]
     },
     "execution_count": 36,
     "metadata": {},
     "output_type": "execute_result"
    }
   ],
   "source": [
    "policies.policies"
   ]
  },
  {
   "cell_type": "markdown",
   "metadata": {},
   "source": [
    "# Seed the disease"
   ]
  },
  {
   "cell_type": "code",
   "execution_count": 37,
   "metadata": {},
   "outputs": [],
   "source": [
    "seed = InfectionSeed(world.super_areas,\n",
    "           selector)\n",
    "\n",
    "seed.unleash_virus(n_cases=5)"
   ]
  },
  {
   "cell_type": "markdown",
   "metadata": {},
   "source": [
    "# Init leisure"
   ]
  },
  {
   "cell_type": "code",
   "execution_count": 38,
   "metadata": {},
   "outputs": [
    {
     "name": "stdout",
     "output_type": "stream",
     "text": [
      "2020-09-01 18:56:19,693 - june.groups.leisure.leisure - INFO - Distributing social venues to households\n",
      "2020-09-01 18:56:19,697 - june.groups.leisure.leisure - INFO - Distributed in 0 of 3314 households.\n"
     ]
    },
    {
     "data": {
      "text/plain": [
       "{'pump_latrines': <camps.groups.pump_latrine.PumpLatrineDistributor at 0x7f2c0a5d2280>,\n",
       " 'distribution_centers': <camps.groups.distribution_center.DistributionCenterDistributor at 0x7f2c0a5d2250>,\n",
       " 'communals': <camps.groups.communal.CommunalDistributor at 0x7f2c0a5d2670>,\n",
       " 'female_communals': <camps.groups.female_communal.FemaleCommunalDistributor at 0x7f2c0a5d2430>,\n",
       " 'play_groups': <camps.groups.play_group.PlayGroupDistributor at 0x7f2c0a5d20d0>}"
      ]
     },
     "execution_count": 38,
     "metadata": {},
     "output_type": "execute_result"
    }
   ],
   "source": [
    "CONFIG_PATH = \"../configs_camps/config_example.yaml\"\n",
    "\n",
    "leisure_instance = generate_leisure_for_config(\n",
    "            world=world, config_filename=CONFIG_PATH\n",
    ")\n",
    "leisure_instance.leisure_distributors = {}\n",
    "leisure_instance.leisure_distributors['pump_latrines'] = PumpLatrineDistributor.from_config(pump_latrines=world.pump_latrines)\n",
    "leisure_instance.leisure_distributors['distribution_centers'] = DistributionCenterDistributor.from_config(distribution_centers=world.distribution_centers)\n",
    "leisure_instance.leisure_distributors['communals'] = CommunalDistributor.from_config(communals=world.communals)\n",
    "leisure_instance.leisure_distributors['female_communals'] = FemaleCommunalDistributor.from_config(female_communals=world.female_communals)\n",
    "leisure_instance.leisure_distributors['play_groups'] = PlayGroupDistributor.from_config(play_groups=world.play_groups)\n",
    "\n",
    "#associate social activities to shelters\n",
    "leisure_instance.distribute_social_venues_to_households(world.shelters, world.super_areas)\n",
    "leisure_instance.leisure_distributors"
   ]
  },
  {
   "cell_type": "markdown",
   "metadata": {},
   "source": [
    "# Initialize simulator and run"
   ]
  },
  {
   "cell_type": "code",
   "execution_count": 39,
   "metadata": {},
   "outputs": [
    {
     "name": "stdout",
     "output_type": "stream",
     "text": [
      "[<june.groups.hospital.Hospitals object at 0x7f2c2d989580>, <camps.groups.isolation_unit.IsolationUnits object at 0x7f2c2d9898e0>]\n"
     ]
    }
   ],
   "source": [
    "simulator = Simulator.from_file(\n",
    "    world = world,\n",
    "    interaction = interaction,\n",
    "    infection_selector=selector,\n",
    "    leisure = leisure_instance,\n",
    "    policies=policies,\n",
    "    config_filename = CONFIG_PATH\n",
    ")"
   ]
  },
  {
   "cell_type": "code",
   "execution_count": 40,
   "metadata": {
    "scrolled": true
   },
   "outputs": [
    {
     "name": "stdout",
     "output_type": "stream",
     "text": [
      "2020-09-01 18:56:26,270 - june.simulator - INFO - Starting group_dynamics for 6 days at day 0\n",
      "2020-09-01 18:56:26,275 - june.simulator - INFO - starting the loop ..., at 0 days, to run for 6 days\n",
      "2020-09-01 18:56:26,749 - june.simulator - INFO - Date = 2020-05-24 00:00:00, number of deaths =  0, number of infected = 5\n",
      "2020-09-01 18:56:28,820 - june.simulator - INFO - Date = 2020-05-24 03:00:00, number of deaths =  0, number of infected = 5\n",
      "2020-09-01 18:56:29,659 - june.simulator - INFO - Date = 2020-05-24 05:00:00, number of deaths =  0, number of infected = 5\n",
      "2020-09-01 18:56:30,582 - june.simulator - INFO - Date = 2020-05-24 07:00:00, number of deaths =  0, number of infected = 5\n",
      "2020-09-01 18:56:31,375 - june.simulator - INFO - Date = 2020-05-24 09:00:00, number of deaths =  0, number of infected = 5\n",
      "2020-09-01 18:56:31,921 - june.simulator - INFO - Date = 2020-05-24 11:00:00, number of deaths =  0, number of infected = 5\n",
      "2020-09-01 18:56:32,298 - june.simulator - INFO - Date = 2020-05-25 00:00:00, number of deaths =  0, number of infected = 5\n",
      "2020-09-01 18:56:32,966 - june.simulator - INFO - Date = 2020-05-25 02:00:00, number of deaths =  0, number of infected = 5\n",
      "2020-09-01 18:56:33,684 - june.simulator - INFO - Date = 2020-05-25 04:00:00, number of deaths =  0, number of infected = 6\n",
      "2020-09-01 18:56:34,409 - june.simulator - INFO - Date = 2020-05-25 06:00:00, number of deaths =  0, number of infected = 6\n",
      "2020-09-01 18:56:35,379 - june.simulator - INFO - Date = 2020-05-25 08:00:00, number of deaths =  0, number of infected = 8\n",
      "2020-09-01 18:56:35,782 - june.simulator - INFO - Date = 2020-05-25 10:00:00, number of deaths =  0, number of infected = 9\n",
      "2020-09-01 18:56:36,325 - june.simulator - INFO - Date = 2020-05-26 00:00:00, number of deaths =  0, number of infected = 9\n",
      "2020-09-01 18:56:37,332 - june.simulator - INFO - Date = 2020-05-26 02:00:00, number of deaths =  0, number of infected = 9\n",
      "2020-09-01 18:56:38,309 - june.simulator - INFO - Date = 2020-05-26 04:00:00, number of deaths =  0, number of infected = 9\n",
      "2020-09-01 18:56:39,302 - june.simulator - INFO - Date = 2020-05-26 06:00:00, number of deaths =  0, number of infected = 11\n",
      "2020-09-01 18:56:40,364 - june.simulator - INFO - Date = 2020-05-26 08:00:00, number of deaths =  0, number of infected = 11\n",
      "2020-09-01 18:56:40,917 - june.simulator - INFO - Date = 2020-05-26 10:00:00, number of deaths =  0, number of infected = 11\n",
      "2020-09-01 18:56:41,470 - june.simulator - INFO - Date = 2020-05-27 00:00:00, number of deaths =  0, number of infected = 13\n",
      "2020-09-01 18:56:42,614 - june.simulator - INFO - Date = 2020-05-27 02:00:00, number of deaths =  0, number of infected = 13\n",
      "2020-09-01 18:56:43,913 - june.simulator - INFO - Date = 2020-05-27 04:00:00, number of deaths =  0, number of infected = 13\n",
      "2020-09-01 18:56:45,037 - june.simulator - INFO - Date = 2020-05-27 06:00:00, number of deaths =  0, number of infected = 13\n",
      "2020-09-01 18:56:46,066 - june.simulator - INFO - Date = 2020-05-27 08:00:00, number of deaths =  0, number of infected = 13\n",
      "2020-09-01 18:56:46,513 - june.simulator - INFO - Date = 2020-05-27 10:00:00, number of deaths =  0, number of infected = 13\n",
      "2020-09-01 18:56:46,914 - june.simulator - INFO - Date = 2020-05-28 00:00:00, number of deaths =  0, number of infected = 18\n",
      "2020-09-01 18:56:47,612 - june.simulator - INFO - Date = 2020-05-28 02:00:00, number of deaths =  0, number of infected = 20\n",
      "2020-09-01 18:56:48,374 - june.simulator - INFO - Date = 2020-05-28 04:00:00, number of deaths =  0, number of infected = 22\n",
      "2020-09-01 18:56:49,087 - june.simulator - INFO - Date = 2020-05-28 06:00:00, number of deaths =  0, number of infected = 23\n",
      "2020-09-01 18:56:49,967 - june.simulator - INFO - Date = 2020-05-28 08:00:00, number of deaths =  0, number of infected = 25\n",
      "2020-09-01 18:56:50,450 - june.simulator - INFO - Date = 2020-05-28 10:00:00, number of deaths =  0, number of infected = 26\n",
      "2020-09-01 18:56:50,899 - june.simulator - INFO - Date = 2020-05-29 00:00:00, number of deaths =  0, number of infected = 30\n",
      "2020-09-01 18:56:51,627 - june.simulator - INFO - Date = 2020-05-29 02:00:00, number of deaths =  0, number of infected = 32\n",
      "2020-09-01 18:56:52,268 - june.simulator - INFO - Date = 2020-05-29 04:00:00, number of deaths =  0, number of infected = 34\n",
      "2020-09-01 18:56:52,922 - june.simulator - INFO - Date = 2020-05-29 06:00:00, number of deaths =  0, number of infected = 36\n",
      "2020-09-01 18:56:53,499 - june.simulator - INFO - Date = 2020-05-29 08:00:00, number of deaths =  0, number of infected = 37\n",
      "2020-09-01 18:56:53,846 - june.simulator - INFO - Date = 2020-05-29 10:00:00, number of deaths =  0, number of infected = 38\n",
      "CPU times: user 24.6 s, sys: 511 ms, total: 25.1 s\n",
      "Wall time: 27.7 s\n"
     ]
    }
   ],
   "source": [
    "%%time\n",
    "simulator.run()"
   ]
  },
  {
   "cell_type": "markdown",
   "metadata": {},
   "source": [
    "# Getting the results"
   ]
  },
  {
   "cell_type": "markdown",
   "metadata": {},
   "source": [
    "All results are stored in a json file specified in the ``save_path`` variable in the config file. We can also access it from ``world.logger`` directly."
   ]
  },
  {
   "cell_type": "code",
   "execution_count": 41,
   "metadata": {},
   "outputs": [],
   "source": [
    "import pandas as pd\n",
    "read = ReadLogger()"
   ]
  },
  {
   "cell_type": "code",
   "execution_count": 42,
   "metadata": {},
   "outputs": [],
   "source": [
    "read.load_infection_location()"
   ]
  },
  {
   "cell_type": "code",
   "execution_count": 43,
   "metadata": {},
   "outputs": [],
   "source": [
    "infection_locations = read.get_locations_infections()"
   ]
  },
  {
   "cell_type": "code",
   "execution_count": 44,
   "metadata": {},
   "outputs": [],
   "source": [
    "unique_locations, counts_locations = np.unique(\n",
    "                np.array(infection_locations),\n",
    "                return_counts=True)\n",
    "\n",
    "location_counts_df = pd.DataFrame(\n",
    "    {'locations': unique_locations,\n",
    "    'counts': counts_locations}\n",
    ")\n",
    "location_counts_df.set_index('locations', inplace=True)\n"
   ]
  },
  {
   "cell_type": "code",
   "execution_count": 45,
   "metadata": {},
   "outputs": [],
   "source": [
    "location_counts_df['percent_infections']= 100*(location_counts_df['counts'])/location_counts_df.values.sum()"
   ]
  },
  {
   "cell_type": "code",
   "execution_count": 46,
   "metadata": {},
   "outputs": [
    {
     "data": {
      "text/plain": [
       "Text(0.5, 0, 'location')"
      ]
     },
     "execution_count": 46,
     "metadata": {},
     "output_type": "execute_result"
    },
    {
     "data": {
      "image/png": "[encoded data removed]",
      "text/plain": [
       "<Figure size 432x288 with 1 Axes>"
      ]
     },
     "metadata": {
      "needs_background": "light"
     },
     "output_type": "display_data"
    }
   ],
   "source": [
    "import matplotlib.ticker as mtick\n",
    "\n",
    "ax = location_counts_df['percent_infections'].sort_values().plot.bar()\n",
    "ax.yaxis.set_major_formatter(mtick.PercentFormatter())\n",
    "plt.ylabel('Percentage of infections at location')\n",
    "plt.xlabel('location')"
   ]
  },
  {
   "cell_type": "code",
   "execution_count": 47,
   "metadata": {},
   "outputs": [],
   "source": [
    "for location in unique_locations:\n",
    "    read.locations_df[str(location)] = read.locations_df.apply(\n",
    "        lambda x: x.location.count(str(location)), axis=1\n",
    "    )\n",
    "read.locations_df.index = pd.to_datetime(read.locations_df.index)"
   ]
  },
  {
   "cell_type": "code",
   "execution_count": 48,
   "metadata": {},
   "outputs": [
    {
     "data": {
      "text/plain": [
       "<matplotlib.axes._subplots.AxesSubplot at 0x7f2c0a1d6c70>"
      ]
     },
     "execution_count": 48,
     "metadata": {},
     "output_type": "execute_result"
    },
    {
     "data": {
      "image/png": "[encoded data removed]",
      "text/plain": [
       "<Figure size 432x288 with 1 Axes>"
      ]
     },
     "metadata": {
      "needs_background": "light"
     },
     "output_type": "display_data"
    }
   ],
   "source": [
    "read.locations_df.iloc[:,3:].plot()"
   ]
  },
  {
   "cell_type": "markdown",
   "metadata": {},
   "source": [
    "## Where did outbreaks happen?"
   ]
  },
  {
   "cell_type": "code",
   "execution_count": 49,
   "metadata": {},
   "outputs": [],
   "source": [
    "unique_id, count_id =  np.unique(\n",
    "        np.array(read.locations_df['location_id'].sum()),\n",
    "        return_counts=True\n",
    ")"
   ]
  },
  {
   "cell_type": "code",
   "execution_count": 50,
   "metadata": {},
   "outputs": [
    {
     "data": {
      "text/plain": [
       "array(['shelter_665', 'shelter_1107', 'shelter_37', 'shelter_1640',\n",
       "       'shelter_987'], dtype='<U18')"
      ]
     },
     "execution_count": 50,
     "metadata": {},
     "output_type": "execute_result"
    }
   ],
   "source": [
    "unique_id[np.argsort(count_id)[-5:]]"
   ]
  },
  {
   "cell_type": "code",
   "execution_count": 51,
   "metadata": {},
   "outputs": [
    {
     "data": {
      "text/plain": [
       "array([ 3,  4,  4,  5, 12])"
      ]
     },
     "execution_count": 51,
     "metadata": {},
     "output_type": "execute_result"
    }
   ],
   "source": [
    "count_id[np.argsort(count_id)[-5:]]"
   ]
  },
  {
   "cell_type": "code",
   "execution_count": 52,
   "metadata": {},
   "outputs": [
    {
     "data": {
      "text/plain": [
       "<matplotlib.legend.Legend at 0x7f2c0a30c130>"
      ]
     },
     "execution_count": 52,
     "metadata": {},
     "output_type": "execute_result"
    },
    {
     "data": {
      "image/png": "[encoded data removed]",
      "text/plain": [
       "<Figure size 432x288 with 1 Axes>"
      ]
     },
     "metadata": {
      "needs_background": "light"
     },
     "output_type": "display_data"
    }
   ],
   "source": [
    "world_df = read.world_summary()\n",
    "world_df.plot()\n",
    "plt.legend()"
   ]
  },
  {
   "cell_type": "code",
   "execution_count": 53,
   "metadata": {},
   "outputs": [
    {
     "data": {
      "text/plain": [
       "<matplotlib.axes._subplots.AxesSubplot at 0x7f2c0a411280>"
      ]
     },
     "execution_count": 53,
     "metadata": {},
     "output_type": "execute_result"
    },
    {
     "data": {
      "image/png": "[encoded data removed]",
      "text/plain": [
       "<Figure size 432x288 with 1 Axes>"
      ]
     },
     "metadata": {
      "needs_background": "light"
     },
     "output_type": "display_data"
    }
   ],
   "source": [
    "world_df['daily_infections'].plot()"
   ]
  },
  {
   "cell_type": "code",
   "execution_count": 54,
   "metadata": {},
   "outputs": [
    {
     "data": {
      "text/plain": [
       "Series([], Name: daily_infections, dtype: int64)"
      ]
     },
     "execution_count": 54,
     "metadata": {},
     "output_type": "execute_result"
    }
   ],
   "source": [
    "world_df['daily_infections'].iloc[390:]"
   ]
  },
  {
   "cell_type": "markdown",
   "metadata": {},
   "source": [
    "## Output to save"
   ]
  },
  {
   "cell_type": "code",
   "execution_count": 55,
   "metadata": {},
   "outputs": [
    {
     "name": "stdout",
     "output_type": "stream",
     "text": [
      "CPU times: user 901 ms, sys: 8.74 ms, total: 910 ms\n",
      "Wall time: 997 ms\n"
     ]
    }
   ],
   "source": [
    "%%time\n",
    "summary = read.run_summary(\n",
    "    super_area_region_path=camp_data_path \n",
    "    / 'input/geography/area_super_area_region.csv'\n",
    ")"
   ]
  },
  {
   "cell_type": "code",
   "execution_count": 56,
   "metadata": {},
   "outputs": [
    {
     "data": {
      "text/html": [
       "<div>\n",
       "<style scoped>\n",
       "    .dataframe tbody tr th:only-of-type {\n",
       "        vertical-align: middle;\n",
       "    }\n",
       "\n",
       "    .dataframe tbody tr th {\n",
       "        vertical-align: top;\n",
       "    }\n",
       "\n",
       "    .dataframe thead th {\n",
       "        text-align: right;\n",
       "    }\n",
       "</style>\n",
       "<table border=\"1\" class=\"dataframe\">\n",
       "  <thead>\n",
       "    <tr style=\"text-align: right;\">\n",
       "      <th></th>\n",
       "      <th>super_area</th>\n",
       "      <th>current_infected</th>\n",
       "      <th>current_dead</th>\n",
       "      <th>current_recovered</th>\n",
       "      <th>current_susceptible</th>\n",
       "      <th>current_hospitalised</th>\n",
       "      <th>current_intensive_care</th>\n",
       "      <th>daily_recovered</th>\n",
       "      <th>daily_deaths_home</th>\n",
       "      <th>daily_deaths_hospital</th>\n",
       "      <th>daily_deaths_icu</th>\n",
       "      <th>daily_deaths</th>\n",
       "      <th>daily_hospital_admissions</th>\n",
       "      <th>daily_infections</th>\n",
       "      <th>region</th>\n",
       "      <th>location_id</th>\n",
       "    </tr>\n",
       "    <tr>\n",
       "      <th>time_stamp</th>\n",
       "      <th></th>\n",
       "      <th></th>\n",
       "      <th></th>\n",
       "      <th></th>\n",
       "      <th></th>\n",
       "      <th></th>\n",
       "      <th></th>\n",
       "      <th></th>\n",
       "      <th></th>\n",
       "      <th></th>\n",
       "      <th></th>\n",
       "      <th></th>\n",
       "      <th></th>\n",
       "      <th></th>\n",
       "      <th></th>\n",
       "      <th></th>\n",
       "    </tr>\n",
       "  </thead>\n",
       "  <tbody>\n",
       "    <tr>\n",
       "      <th>2020-05-24</th>\n",
       "      <td>CXB-219-A</td>\n",
       "      <td>2</td>\n",
       "      <td>0</td>\n",
       "      <td>0</td>\n",
       "      <td>5967</td>\n",
       "      <td>0</td>\n",
       "      <td>0</td>\n",
       "      <td>0</td>\n",
       "      <td>0</td>\n",
       "      <td>0</td>\n",
       "      <td>0</td>\n",
       "      <td>0</td>\n",
       "      <td>0.0</td>\n",
       "      <td>2</td>\n",
       "      <td>CXB-219</td>\n",
       "      <td>NaN</td>\n",
       "    </tr>\n",
       "    <tr>\n",
       "      <th>2020-05-25</th>\n",
       "      <td>CXB-219-A</td>\n",
       "      <td>4</td>\n",
       "      <td>0</td>\n",
       "      <td>0</td>\n",
       "      <td>5964</td>\n",
       "      <td>0</td>\n",
       "      <td>0</td>\n",
       "      <td>0</td>\n",
       "      <td>0</td>\n",
       "      <td>0</td>\n",
       "      <td>0</td>\n",
       "      <td>0</td>\n",
       "      <td>0.0</td>\n",
       "      <td>4</td>\n",
       "      <td>CXB-219</td>\n",
       "      <td>[shelter_37, shelter_37, shelter_37, shelter_37]</td>\n",
       "    </tr>\n",
       "    <tr>\n",
       "      <th>2020-05-26</th>\n",
       "      <td>CXB-219-A</td>\n",
       "      <td>6</td>\n",
       "      <td>0</td>\n",
       "      <td>0</td>\n",
       "      <td>5963</td>\n",
       "      <td>0</td>\n",
       "      <td>0</td>\n",
       "      <td>0</td>\n",
       "      <td>0</td>\n",
       "      <td>0</td>\n",
       "      <td>0</td>\n",
       "      <td>0</td>\n",
       "      <td>0.0</td>\n",
       "      <td>0</td>\n",
       "      <td>CXB-219</td>\n",
       "      <td>NaN</td>\n",
       "    </tr>\n",
       "    <tr>\n",
       "      <th>2020-05-27</th>\n",
       "      <td>CXB-219-A</td>\n",
       "      <td>6</td>\n",
       "      <td>0</td>\n",
       "      <td>0</td>\n",
       "      <td>5963</td>\n",
       "      <td>0</td>\n",
       "      <td>0</td>\n",
       "      <td>0</td>\n",
       "      <td>0</td>\n",
       "      <td>0</td>\n",
       "      <td>0</td>\n",
       "      <td>0</td>\n",
       "      <td>0.0</td>\n",
       "      <td>0</td>\n",
       "      <td>CXB-219</td>\n",
       "      <td>NaN</td>\n",
       "    </tr>\n",
       "    <tr>\n",
       "      <th>2020-05-28</th>\n",
       "      <td>CXB-219-A</td>\n",
       "      <td>6</td>\n",
       "      <td>0</td>\n",
       "      <td>0</td>\n",
       "      <td>5963</td>\n",
       "      <td>0</td>\n",
       "      <td>0</td>\n",
       "      <td>0</td>\n",
       "      <td>0</td>\n",
       "      <td>0</td>\n",
       "      <td>0</td>\n",
       "      <td>0</td>\n",
       "      <td>0.0</td>\n",
       "      <td>0</td>\n",
       "      <td>CXB-219</td>\n",
       "      <td>NaN</td>\n",
       "    </tr>\n",
       "    <tr>\n",
       "      <th>2020-05-29</th>\n",
       "      <td>CXB-219-A</td>\n",
       "      <td>7</td>\n",
       "      <td>0</td>\n",
       "      <td>0</td>\n",
       "      <td>5961</td>\n",
       "      <td>0</td>\n",
       "      <td>0</td>\n",
       "      <td>0</td>\n",
       "      <td>0</td>\n",
       "      <td>0</td>\n",
       "      <td>0</td>\n",
       "      <td>0</td>\n",
       "      <td>0.0</td>\n",
       "      <td>3</td>\n",
       "      <td>CXB-219</td>\n",
       "      <td>[shelter_665, shelter_665, shelter_665]</td>\n",
       "    </tr>\n",
       "    <tr>\n",
       "      <th>2020-05-24</th>\n",
       "      <td>CXB-219-B</td>\n",
       "      <td>2</td>\n",
       "      <td>0</td>\n",
       "      <td>0</td>\n",
       "      <td>5985</td>\n",
       "      <td>0</td>\n",
       "      <td>0</td>\n",
       "      <td>0</td>\n",
       "      <td>0</td>\n",
       "      <td>0</td>\n",
       "      <td>0</td>\n",
       "      <td>0</td>\n",
       "      <td>0.0</td>\n",
       "      <td>2</td>\n",
       "      <td>CXB-219</td>\n",
       "      <td>NaN</td>\n",
       "    </tr>\n",
       "    <tr>\n",
       "      <th>2020-05-25</th>\n",
       "      <td>CXB-219-B</td>\n",
       "      <td>2</td>\n",
       "      <td>0</td>\n",
       "      <td>0</td>\n",
       "      <td>5985</td>\n",
       "      <td>0</td>\n",
       "      <td>0</td>\n",
       "      <td>0</td>\n",
       "      <td>0</td>\n",
       "      <td>0</td>\n",
       "      <td>0</td>\n",
       "      <td>0</td>\n",
       "      <td>0.0</td>\n",
       "      <td>0</td>\n",
       "      <td>CXB-219</td>\n",
       "      <td>NaN</td>\n",
       "    </tr>\n",
       "    <tr>\n",
       "      <th>2020-05-26</th>\n",
       "      <td>CXB-219-B</td>\n",
       "      <td>3</td>\n",
       "      <td>0</td>\n",
       "      <td>0</td>\n",
       "      <td>5984</td>\n",
       "      <td>0</td>\n",
       "      <td>0</td>\n",
       "      <td>0</td>\n",
       "      <td>0</td>\n",
       "      <td>0</td>\n",
       "      <td>0</td>\n",
       "      <td>0</td>\n",
       "      <td>0.0</td>\n",
       "      <td>3</td>\n",
       "      <td>CXB-219</td>\n",
       "      <td>[communal_57, shelter_987, shelter_987]</td>\n",
       "    </tr>\n",
       "    <tr>\n",
       "      <th>2020-05-27</th>\n",
       "      <td>CXB-219-B</td>\n",
       "      <td>5</td>\n",
       "      <td>0</td>\n",
       "      <td>0</td>\n",
       "      <td>5981</td>\n",
       "      <td>0</td>\n",
       "      <td>0</td>\n",
       "      <td>0</td>\n",
       "      <td>0</td>\n",
       "      <td>0</td>\n",
       "      <td>0</td>\n",
       "      <td>0</td>\n",
       "      <td>0.0</td>\n",
       "      <td>5</td>\n",
       "      <td>CXB-219</td>\n",
       "      <td>[shelter_987, shelter_987, shelter_987, shelte...</td>\n",
       "    </tr>\n",
       "    <tr>\n",
       "      <th>2020-05-28</th>\n",
       "      <td>CXB-219-B</td>\n",
       "      <td>15</td>\n",
       "      <td>0</td>\n",
       "      <td>0</td>\n",
       "      <td>5971</td>\n",
       "      <td>0</td>\n",
       "      <td>0</td>\n",
       "      <td>0</td>\n",
       "      <td>0</td>\n",
       "      <td>0</td>\n",
       "      <td>0</td>\n",
       "      <td>0</td>\n",
       "      <td>0.0</td>\n",
       "      <td>10</td>\n",
       "      <td>CXB-219</td>\n",
       "      <td>[shelter_987, shelter_1640, communal_56, femal...</td>\n",
       "    </tr>\n",
       "    <tr>\n",
       "      <th>2020-05-29</th>\n",
       "      <td>CXB-219-B</td>\n",
       "      <td>23</td>\n",
       "      <td>0</td>\n",
       "      <td>0</td>\n",
       "      <td>5963</td>\n",
       "      <td>0</td>\n",
       "      <td>0</td>\n",
       "      <td>0</td>\n",
       "      <td>0</td>\n",
       "      <td>0</td>\n",
       "      <td>0</td>\n",
       "      <td>0</td>\n",
       "      <td>0.0</td>\n",
       "      <td>7</td>\n",
       "      <td>CXB-219</td>\n",
       "      <td>[shelter_987, shelter_1640, play_group_167, sh...</td>\n",
       "    </tr>\n",
       "    <tr>\n",
       "      <th>2020-05-24</th>\n",
       "      <td>CXB-219-C</td>\n",
       "      <td>1</td>\n",
       "      <td>0</td>\n",
       "      <td>0</td>\n",
       "      <td>6203</td>\n",
       "      <td>0</td>\n",
       "      <td>0</td>\n",
       "      <td>0</td>\n",
       "      <td>0</td>\n",
       "      <td>0</td>\n",
       "      <td>0</td>\n",
       "      <td>0</td>\n",
       "      <td>0.0</td>\n",
       "      <td>1</td>\n",
       "      <td>CXB-219</td>\n",
       "      <td>NaN</td>\n",
       "    </tr>\n",
       "    <tr>\n",
       "      <th>2020-05-25</th>\n",
       "      <td>CXB-219-C</td>\n",
       "      <td>1</td>\n",
       "      <td>0</td>\n",
       "      <td>0</td>\n",
       "      <td>6203</td>\n",
       "      <td>0</td>\n",
       "      <td>0</td>\n",
       "      <td>0</td>\n",
       "      <td>0</td>\n",
       "      <td>0</td>\n",
       "      <td>0</td>\n",
       "      <td>0</td>\n",
       "      <td>0.0</td>\n",
       "      <td>0</td>\n",
       "      <td>CXB-219</td>\n",
       "      <td>NaN</td>\n",
       "    </tr>\n",
       "    <tr>\n",
       "      <th>2020-05-26</th>\n",
       "      <td>CXB-219-C</td>\n",
       "      <td>1</td>\n",
       "      <td>0</td>\n",
       "      <td>0</td>\n",
       "      <td>6202</td>\n",
       "      <td>0</td>\n",
       "      <td>0</td>\n",
       "      <td>0</td>\n",
       "      <td>0</td>\n",
       "      <td>0</td>\n",
       "      <td>0</td>\n",
       "      <td>0</td>\n",
       "      <td>0.0</td>\n",
       "      <td>1</td>\n",
       "      <td>CXB-219</td>\n",
       "      <td>[communal_3]</td>\n",
       "    </tr>\n",
       "    <tr>\n",
       "      <th>2020-05-27</th>\n",
       "      <td>CXB-219-C</td>\n",
       "      <td>2</td>\n",
       "      <td>0</td>\n",
       "      <td>0</td>\n",
       "      <td>6202</td>\n",
       "      <td>0</td>\n",
       "      <td>0</td>\n",
       "      <td>0</td>\n",
       "      <td>0</td>\n",
       "      <td>0</td>\n",
       "      <td>0</td>\n",
       "      <td>0</td>\n",
       "      <td>0.0</td>\n",
       "      <td>0</td>\n",
       "      <td>CXB-219</td>\n",
       "      <td>NaN</td>\n",
       "    </tr>\n",
       "    <tr>\n",
       "      <th>2020-05-28</th>\n",
       "      <td>CXB-219-C</td>\n",
       "      <td>2</td>\n",
       "      <td>0</td>\n",
       "      <td>0</td>\n",
       "      <td>6201</td>\n",
       "      <td>0</td>\n",
       "      <td>0</td>\n",
       "      <td>0</td>\n",
       "      <td>0</td>\n",
       "      <td>0</td>\n",
       "      <td>0</td>\n",
       "      <td>0</td>\n",
       "      <td>0.0</td>\n",
       "      <td>1</td>\n",
       "      <td>CXB-219</td>\n",
       "      <td>[female_communal_25]</td>\n",
       "    </tr>\n",
       "    <tr>\n",
       "      <th>2020-05-29</th>\n",
       "      <td>CXB-219-C</td>\n",
       "      <td>5</td>\n",
       "      <td>0</td>\n",
       "      <td>0</td>\n",
       "      <td>6199</td>\n",
       "      <td>0</td>\n",
       "      <td>0</td>\n",
       "      <td>0</td>\n",
       "      <td>0</td>\n",
       "      <td>0</td>\n",
       "      <td>0</td>\n",
       "      <td>0</td>\n",
       "      <td>0.0</td>\n",
       "      <td>4</td>\n",
       "      <td>CXB-219</td>\n",
       "      <td>[shelter_2023, shelter_2023, shelter_2023, she...</td>\n",
       "    </tr>\n",
       "    <tr>\n",
       "      <th>2020-05-24</th>\n",
       "      <td>CXB-219-D</td>\n",
       "      <td>0</td>\n",
       "      <td>0</td>\n",
       "      <td>0</td>\n",
       "      <td>4793</td>\n",
       "      <td>0</td>\n",
       "      <td>0</td>\n",
       "      <td>0</td>\n",
       "      <td>0</td>\n",
       "      <td>0</td>\n",
       "      <td>0</td>\n",
       "      <td>0</td>\n",
       "      <td>0.0</td>\n",
       "      <td>0</td>\n",
       "      <td>CXB-219</td>\n",
       "      <td>NaN</td>\n",
       "    </tr>\n",
       "    <tr>\n",
       "      <th>2020-05-25</th>\n",
       "      <td>CXB-219-D</td>\n",
       "      <td>0</td>\n",
       "      <td>0</td>\n",
       "      <td>0</td>\n",
       "      <td>4793</td>\n",
       "      <td>0</td>\n",
       "      <td>0</td>\n",
       "      <td>0</td>\n",
       "      <td>0</td>\n",
       "      <td>0</td>\n",
       "      <td>0</td>\n",
       "      <td>0</td>\n",
       "      <td>0.0</td>\n",
       "      <td>0</td>\n",
       "      <td>CXB-219</td>\n",
       "      <td>NaN</td>\n",
       "    </tr>\n",
       "    <tr>\n",
       "      <th>2020-05-26</th>\n",
       "      <td>CXB-219-D</td>\n",
       "      <td>0</td>\n",
       "      <td>0</td>\n",
       "      <td>0</td>\n",
       "      <td>4793</td>\n",
       "      <td>0</td>\n",
       "      <td>0</td>\n",
       "      <td>0</td>\n",
       "      <td>0</td>\n",
       "      <td>0</td>\n",
       "      <td>0</td>\n",
       "      <td>0</td>\n",
       "      <td>0.0</td>\n",
       "      <td>0</td>\n",
       "      <td>CXB-219</td>\n",
       "      <td>NaN</td>\n",
       "    </tr>\n",
       "    <tr>\n",
       "      <th>2020-05-27</th>\n",
       "      <td>CXB-219-D</td>\n",
       "      <td>0</td>\n",
       "      <td>0</td>\n",
       "      <td>0</td>\n",
       "      <td>4793</td>\n",
       "      <td>0</td>\n",
       "      <td>0</td>\n",
       "      <td>0</td>\n",
       "      <td>0</td>\n",
       "      <td>0</td>\n",
       "      <td>0</td>\n",
       "      <td>0</td>\n",
       "      <td>0.0</td>\n",
       "      <td>0</td>\n",
       "      <td>CXB-219</td>\n",
       "      <td>NaN</td>\n",
       "    </tr>\n",
       "    <tr>\n",
       "      <th>2020-05-28</th>\n",
       "      <td>CXB-219-D</td>\n",
       "      <td>0</td>\n",
       "      <td>0</td>\n",
       "      <td>0</td>\n",
       "      <td>4792</td>\n",
       "      <td>0</td>\n",
       "      <td>0</td>\n",
       "      <td>0</td>\n",
       "      <td>0</td>\n",
       "      <td>0</td>\n",
       "      <td>0</td>\n",
       "      <td>0</td>\n",
       "      <td>0.0</td>\n",
       "      <td>1</td>\n",
       "      <td>CXB-219</td>\n",
       "      <td>[communal_51]</td>\n",
       "    </tr>\n",
       "    <tr>\n",
       "      <th>2020-05-29</th>\n",
       "      <td>CXB-219-D</td>\n",
       "      <td>1</td>\n",
       "      <td>0</td>\n",
       "      <td>0</td>\n",
       "      <td>4792</td>\n",
       "      <td>0</td>\n",
       "      <td>0</td>\n",
       "      <td>0</td>\n",
       "      <td>0</td>\n",
       "      <td>0</td>\n",
       "      <td>0</td>\n",
       "      <td>0</td>\n",
       "      <td>0.0</td>\n",
       "      <td>0</td>\n",
       "      <td>CXB-219</td>\n",
       "      <td>NaN</td>\n",
       "    </tr>\n",
       "  </tbody>\n",
       "</table>\n",
       "</div>"
      ],
      "text/plain": [
       "           super_area  current_infected  current_dead  current_recovered  \\\n",
       "time_stamp                                                                 \n",
       "2020-05-24  CXB-219-A                 2             0                  0   \n",
       "2020-05-25  CXB-219-A                 4             0                  0   \n",
       "2020-05-26  CXB-219-A                 6             0                  0   \n",
       "2020-05-27  CXB-219-A                 6             0                  0   \n",
       "2020-05-28  CXB-219-A                 6             0                  0   \n",
       "2020-05-29  CXB-219-A                 7             0                  0   \n",
       "2020-05-24  CXB-219-B                 2             0                  0   \n",
       "2020-05-25  CXB-219-B                 2             0                  0   \n",
       "2020-05-26  CXB-219-B                 3             0                  0   \n",
       "2020-05-27  CXB-219-B                 5             0                  0   \n",
       "2020-05-28  CXB-219-B                15             0                  0   \n",
       "2020-05-29  CXB-219-B                23             0                  0   \n",
       "2020-05-24  CXB-219-C                 1             0                  0   \n",
       "2020-05-25  CXB-219-C                 1             0                  0   \n",
       "2020-05-26  CXB-219-C                 1             0                  0   \n",
       "2020-05-27  CXB-219-C                 2             0                  0   \n",
       "2020-05-28  CXB-219-C                 2             0                  0   \n",
       "2020-05-29  CXB-219-C                 5             0                  0   \n",
       "2020-05-24  CXB-219-D                 0             0                  0   \n",
       "2020-05-25  CXB-219-D                 0             0                  0   \n",
       "2020-05-26  CXB-219-D                 0             0                  0   \n",
       "2020-05-27  CXB-219-D                 0             0                  0   \n",
       "2020-05-28  CXB-219-D                 0             0                  0   \n",
       "2020-05-29  CXB-219-D                 1             0                  0   \n",
       "\n",
       "            current_susceptible  current_hospitalised  current_intensive_care  \\\n",
       "time_stamp                                                                      \n",
       "2020-05-24                 5967                     0                       0   \n",
       "2020-05-25                 5964                     0                       0   \n",
       "2020-05-26                 5963                     0                       0   \n",
       "2020-05-27                 5963                     0                       0   \n",
       "2020-05-28                 5963                     0                       0   \n",
       "2020-05-29                 5961                     0                       0   \n",
       "2020-05-24                 5985                     0                       0   \n",
       "2020-05-25                 5985                     0                       0   \n",
       "2020-05-26                 5984                     0                       0   \n",
       "2020-05-27                 5981                     0                       0   \n",
       "2020-05-28                 5971                     0                       0   \n",
       "2020-05-29                 5963                     0                       0   \n",
       "2020-05-24                 6203                     0                       0   \n",
       "2020-05-25                 6203                     0                       0   \n",
       "2020-05-26                 6202                     0                       0   \n",
       "2020-05-27                 6202                     0                       0   \n",
       "2020-05-28                 6201                     0                       0   \n",
       "2020-05-29                 6199                     0                       0   \n",
       "2020-05-24                 4793                     0                       0   \n",
       "2020-05-25                 4793                     0                       0   \n",
       "2020-05-26                 4793                     0                       0   \n",
       "2020-05-27                 4793                     0                       0   \n",
       "2020-05-28                 4792                     0                       0   \n",
       "2020-05-29                 4792                     0                       0   \n",
       "\n",
       "            daily_recovered  daily_deaths_home  daily_deaths_hospital  \\\n",
       "time_stamp                                                              \n",
       "2020-05-24                0                  0                      0   \n",
       "2020-05-25                0                  0                      0   \n",
       "2020-05-26                0                  0                      0   \n",
       "2020-05-27                0                  0                      0   \n",
       "2020-05-28                0                  0                      0   \n",
       "2020-05-29                0                  0                      0   \n",
       "2020-05-24                0                  0                      0   \n",
       "2020-05-25                0                  0                      0   \n",
       "2020-05-26                0                  0                      0   \n",
       "2020-05-27                0                  0                      0   \n",
       "2020-05-28                0                  0                      0   \n",
       "2020-05-29                0                  0                      0   \n",
       "2020-05-24                0                  0                      0   \n",
       "2020-05-25                0                  0                      0   \n",
       "2020-05-26                0                  0                      0   \n",
       "2020-05-27                0                  0                      0   \n",
       "2020-05-28                0                  0                      0   \n",
       "2020-05-29                0                  0                      0   \n",
       "2020-05-24                0                  0                      0   \n",
       "2020-05-25                0                  0                      0   \n",
       "2020-05-26                0                  0                      0   \n",
       "2020-05-27                0                  0                      0   \n",
       "2020-05-28                0                  0                      0   \n",
       "2020-05-29                0                  0                      0   \n",
       "\n",
       "            daily_deaths_icu  daily_deaths  daily_hospital_admissions  \\\n",
       "time_stamp                                                              \n",
       "2020-05-24                 0             0                        0.0   \n",
       "2020-05-25                 0             0                        0.0   \n",
       "2020-05-26                 0             0                        0.0   \n",
       "2020-05-27                 0             0                        0.0   \n",
       "2020-05-28                 0             0                        0.0   \n",
       "2020-05-29                 0             0                        0.0   \n",
       "2020-05-24                 0             0                        0.0   \n",
       "2020-05-25                 0             0                        0.0   \n",
       "2020-05-26                 0             0                        0.0   \n",
       "2020-05-27                 0             0                        0.0   \n",
       "2020-05-28                 0             0                        0.0   \n",
       "2020-05-29                 0             0                        0.0   \n",
       "2020-05-24                 0             0                        0.0   \n",
       "2020-05-25                 0             0                        0.0   \n",
       "2020-05-26                 0             0                        0.0   \n",
       "2020-05-27                 0             0                        0.0   \n",
       "2020-05-28                 0             0                        0.0   \n",
       "2020-05-29                 0             0                        0.0   \n",
       "2020-05-24                 0             0                        0.0   \n",
       "2020-05-25                 0             0                        0.0   \n",
       "2020-05-26                 0             0                        0.0   \n",
       "2020-05-27                 0             0                        0.0   \n",
       "2020-05-28                 0             0                        0.0   \n",
       "2020-05-29                 0             0                        0.0   \n",
       "\n",
       "            daily_infections   region  \\\n",
       "time_stamp                              \n",
       "2020-05-24                 2  CXB-219   \n",
       "2020-05-25                 4  CXB-219   \n",
       "2020-05-26                 0  CXB-219   \n",
       "2020-05-27                 0  CXB-219   \n",
       "2020-05-28                 0  CXB-219   \n",
       "2020-05-29                 3  CXB-219   \n",
       "2020-05-24                 2  CXB-219   \n",
       "2020-05-25                 0  CXB-219   \n",
       "2020-05-26                 3  CXB-219   \n",
       "2020-05-27                 5  CXB-219   \n",
       "2020-05-28                10  CXB-219   \n",
       "2020-05-29                 7  CXB-219   \n",
       "2020-05-24                 1  CXB-219   \n",
       "2020-05-25                 0  CXB-219   \n",
       "2020-05-26                 1  CXB-219   \n",
       "2020-05-27                 0  CXB-219   \n",
       "2020-05-28                 1  CXB-219   \n",
       "2020-05-29                 4  CXB-219   \n",
       "2020-05-24                 0  CXB-219   \n",
       "2020-05-25                 0  CXB-219   \n",
       "2020-05-26                 0  CXB-219   \n",
       "2020-05-27                 0  CXB-219   \n",
       "2020-05-28                 1  CXB-219   \n",
       "2020-05-29                 0  CXB-219   \n",
       "\n",
       "                                                  location_id  \n",
       "time_stamp                                                     \n",
       "2020-05-24                                                NaN  \n",
       "2020-05-25   [shelter_37, shelter_37, shelter_37, shelter_37]  \n",
       "2020-05-26                                                NaN  \n",
       "2020-05-27                                                NaN  \n",
       "2020-05-28                                                NaN  \n",
       "2020-05-29            [shelter_665, shelter_665, shelter_665]  \n",
       "2020-05-24                                                NaN  \n",
       "2020-05-25                                                NaN  \n",
       "2020-05-26            [communal_57, shelter_987, shelter_987]  \n",
       "2020-05-27  [shelter_987, shelter_987, shelter_987, shelte...  \n",
       "2020-05-28  [shelter_987, shelter_1640, communal_56, femal...  \n",
       "2020-05-29  [shelter_987, shelter_1640, play_group_167, sh...  \n",
       "2020-05-24                                                NaN  \n",
       "2020-05-25                                                NaN  \n",
       "2020-05-26                                       [communal_3]  \n",
       "2020-05-27                                                NaN  \n",
       "2020-05-28                               [female_communal_25]  \n",
       "2020-05-29  [shelter_2023, shelter_2023, shelter_2023, she...  \n",
       "2020-05-24                                                NaN  \n",
       "2020-05-25                                                NaN  \n",
       "2020-05-26                                                NaN  \n",
       "2020-05-27                                                NaN  \n",
       "2020-05-28                                      [communal_51]  \n",
       "2020-05-29                                                NaN  "
      ]
     },
     "execution_count": 56,
     "metadata": {},
     "output_type": "execute_result"
    }
   ],
   "source": [
    "summary"
   ]
  },
  {
   "cell_type": "code",
   "execution_count": null,
   "metadata": {},
   "outputs": [],
   "source": []
  },
  {
   "cell_type": "code",
   "execution_count": null,
   "metadata": {},
   "outputs": [],
   "source": []
  }
 ],
 "metadata": {
  "kernelspec": {
   "display_name": "camps",
   "language": "python",
   "name": "camps"
  },
  "language_info": {
   "codemirror_mode": {
    "name": "ipython",
    "version": 3
   },
   "file_extension": ".py",
   "mimetype": "text/x-python",
   "name": "python",
   "nbconvert_exporter": "python",
   "pygments_lexer": "ipython3",
   "version": "3.8.3"
  }
 },
 "nbformat": 4,
 "nbformat_minor": 4
}
