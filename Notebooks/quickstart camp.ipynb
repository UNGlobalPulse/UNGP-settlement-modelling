{
 "cells": [
  {
   "cell_type": "code",
   "execution_count": 1,
   "metadata": {},
   "outputs": [],
   "source": [
    "import warnings\n",
    "warnings.filterwarnings('ignore')"
   ]
  },
  {
   "cell_type": "code",
   "execution_count": 2,
   "metadata": {},
   "outputs": [],
   "source": [
    "import numpy as np\n",
    "import pandas as pd\n",
    "import time\n",
    "import matplotlib.pyplot as plt\n",
    "from datetime import datetime\n",
    "import sys\n",
    "import argparse\n",
    "from pathlib import Path"
   ]
  },
  {
   "cell_type": "code",
   "execution_count": 3,
   "metadata": {},
   "outputs": [
    {
     "name": "stderr",
     "output_type": "stream",
     "text": [
      "No --data argument given - defaulting to:\n",
      "/home/joseph/Documents/PhD/UN_Work/UNGP-settlement-modelling-private/data\n",
      "No --configs argument given - defaulting to:\n",
      "/home/joseph/Documents/PhD/UN_Work/JUNE-private/june/configs\n"
     ]
    },
    {
     "name": "stdout",
     "output_type": "stream",
     "text": [
      "2022-09-16 14:54:00,854 - camps.paths - WARNING - No --camp_data argument given - defaulting to:\n",
      "/home/joseph/Documents/PhD/UN_Work/UNGP-settlement-modelling-private/camp_data\n",
      "2022-09-16 14:54:00,857 - camps.paths - WARNING - No --configs_camps argument given - defaulting to:\n",
      "/home/joseph/Documents/PhD/UN_Work/UNGP-settlement-modelling-private/configs_camps\n"
     ]
    }
   ],
   "source": [
    "from june.geography import Geography\n",
    "from june.demography.demography import (\n",
    "    load_age_and_sex_generators_for_bins,\n",
    "    Demography,\n",
    "    Population,\n",
    "    load_comorbidity_data,\n",
    "    generate_comorbidity,\n",
    ")\n",
    "from june.paths import data_path, configs_path\n",
    "from june.epidemiology.epidemiology import Epidemiology\n",
    "from june.epidemiology.infection import ImmunitySetter\n",
    "from june.epidemiology.infection import Infection, HealthIndexGenerator, InfectionSelector, InfectionSelectors\n",
    "from june.epidemiology.infection_seed import InfectionSeed, InfectionSeeds\n",
    "from june.interaction import Interaction\n",
    "from june.groups import Hospital, Hospitals, Cemeteries\n",
    "from june.distributors import HospitalDistributor\n",
    "from june.hdf5_savers import generate_world_from_hdf5\n",
    "from june.policy import Policy, Policies\n",
    "from june.records import Record\n",
    "from june.simulator import Simulator\n",
    "from june.records import Record, RecordReader\n",
    "\n",
    "from camps.activity import CampActivityManager\n",
    "from camps.paths import camp_data_path, camp_configs_path\n",
    "from camps.world import World\n",
    "from camps.groups.leisure import generate_leisure_for_world, generate_leisure_for_config\n",
    "from camps.camp_creation import (\n",
    "    generate_empty_world,\n",
    "    populate_world,\n",
    "    distribute_people_to_households,\n",
    ")  # this is loaded from the ../camp_scripts folder\n",
    "\n",
    "from june.tracker.tracker import Tracker"
   ]
  },
  {
   "cell_type": "code",
   "execution_count": 4,
   "metadata": {},
   "outputs": [],
   "source": [
    "from camps.groups import PumpLatrines, PumpLatrineDistributor\n",
    "from camps.groups import DistributionCenters, DistributionCenterDistributor\n",
    "from camps.groups import Communals, CommunalDistributor\n",
    "from camps.groups import FemaleCommunals, FemaleCommunalDistributor\n",
    "from camps.groups import Religiouss, ReligiousDistributor\n",
    "from camps.groups import Shelter, Shelters, ShelterDistributor\n",
    "from camps.groups import IsolationUnit, IsolationUnits\n",
    "from camps.groups import LearningCenters\n",
    "from camps.distributors import LearningCenterDistributor\n",
    "from camps.groups import PlayGroups, PlayGroupDistributor\n",
    "from camps.groups import EVouchers, EVoucherDistributor\n",
    "from camps.groups import NFDistributionCenters, NFDistributionCenterDistributor\n",
    "from camps.groups import SheltersVisitsDistributor\n",
    "from camps.groups import InformalWorks, InformalWorkDistributor"
   ]
  },
  {
   "cell_type": "code",
   "execution_count": 5,
   "metadata": {},
   "outputs": [],
   "source": [
    "Results_Path = Path(\"results\")\n",
    "\n",
    "Config_File_Path = camp_configs_path / \"config_demo.yaml\"\n",
    "Interactions_File_Path = camp_configs_path / \"defaults/interaction/interaction_Survey.yaml\"\n",
    "Policies_File_Path = camp_configs_path / \"defaults/policy/simple_policy.yaml\"\n",
    "Hospitals_File_Path = camp_data_path / \"input/hospitals/hospitals.csv\"\n",
    "comorbidity_multipliers_path = camp_configs_path / \"defaults/comorbidities.yaml\"\n",
    "male_comorbidity_reference_prevalence_path = camp_data_path / \"input/demography/uk_male_comorbidities.csv\"\n",
    "female_comorbidity_reference_prevalence_path = camp_data_path / \"input/demography/uk_female_comorbidities.csv\""
   ]
  },
  {
   "cell_type": "markdown",
   "metadata": {},
   "source": [
    "## Initialize the world"
   ]
  },
  {
   "cell_type": "markdown",
   "metadata": {},
   "source": [
    "When we create the camp to be simulated, we call this the 'world'. The world is initialised after specifying which geographical regions you want to simulate. We can do this by using the `filter_key` argument in the `generate_empty_world` function. Cox's Bazar Expansion Site is made up of camps (which we call regions), UNHCR blocks (which we call super areas) and Mahjee blocks (which we call areas). These are the 3 heirarchical levels on which our model works. You can pass lists of the regions/super_areas/areas to the function here. Alternatively, by leaving the function empty you can generate the entire Cox's Bazar Expansion Site consisting of 112 super areas."
   ]
  },
  {
   "cell_type": "code",
   "execution_count": 6,
   "metadata": {},
   "outputs": [
    {
     "name": "stdout",
     "output_type": "stream",
     "text": [
      "2022-09-16 14:54:01,565 - june.geography.geography - INFO - There are 65 areas and 4 super_areas and 1 regions in the world.\n"
     ]
    }
   ],
   "source": [
    "# create empty world's geography\n",
    "world = generate_empty_world(filter_key = {\"region\" : [\"CXB-219\"]})"
   ]
  },
  {
   "cell_type": "code",
   "execution_count": 7,
   "metadata": {},
   "outputs": [],
   "source": [
    "# populate empty world\n",
    "populate_world(world)"
   ]
  },
  {
   "cell_type": "code",
   "execution_count": 8,
   "metadata": {},
   "outputs": [
    {
     "name": "stdout",
     "output_type": "stream",
     "text": [
      "Distributing 467 people to CXB-219-001\n",
      "Distributing 369 people to CXB-219-002\n",
      "Distributing 330 people to CXB-219-003\n",
      "Distributing 386 people to CXB-219-004\n",
      "Distributing 314 people to CXB-219-005\n",
      "Distributing 331 people to CXB-219-006\n",
      "Distributing 259 people to CXB-219-007\n",
      "Distributing 350 people to CXB-219-009\n",
      "Distributing 274 people to CXB-219-010\n",
      "Distributing 249 people to CXB-219-011\n",
      "Distributing 463 people to CXB-219-012\n",
      "Distributing 418 people to CXB-219-013\n",
      "Distributing 460 people to CXB-219-014\n",
      "Distributing 384 people to CXB-219-017\n",
      "Distributing 417 people to CXB-219-020\n",
      "Distributing 425 people to CXB-219-021\n",
      "Distributing 414 people to CXB-219-022\n",
      "Distributing 384 people to CXB-219-024\n",
      "Distributing 378 people to CXB-219-025\n",
      "Distributing 379 people to CXB-219-026\n",
      "Distributing 413 people to CXB-219-027\n",
      "Distributing 392 people to CXB-219-028\n",
      "Distributing 332 people to CXB-219-029\n",
      "Distributing 458 people to CXB-219-030\n",
      "Distributing 394 people to CXB-219-032\n",
      "Distributing 339 people to CXB-219-033\n",
      "Distributing 373 people to CXB-219-034\n",
      "Distributing 260 people to CXB-219-036\n",
      "Distributing 456 people to CXB-219-037\n",
      "Distributing 458 people to CXB-219-038\n",
      "Distributing 487 people to CXB-219-039\n",
      "Distributing 175 people to CXB-219-040\n",
      "Distributing 330 people to CXB-219-041\n",
      "Distributing 398 people to CXB-219-042\n",
      "Distributing 398 people to CXB-219-043\n",
      "Distributing 367 people to CXB-219-044\n",
      "Distributing 429 people to CXB-219-045\n",
      "Distributing 450 people to CXB-219-046\n",
      "Distributing 244 people to CXB-219-047\n",
      "Distributing 311 people to CXB-219-048\n",
      "Distributing 336 people to CXB-219-049\n",
      "Distributing 206 people to CXB-219-050\n",
      "Distributing 343 people to CXB-219-051\n",
      "Distributing 347 people to CXB-219-052\n",
      "Distributing 533 people to CXB-219-053\n",
      "Distributing 381 people to CXB-219-054\n",
      "Distributing 252 people to CXB-219-055\n",
      "Distributing 274 people to CXB-219-056\n",
      "Distributing 247 people to CXB-219-057\n",
      "Distributing 376 people to CXB-219-058\n",
      "Distributing 342 people to CXB-219-059\n",
      "Distributing 330 people to CXB-219-060\n",
      "Distributing 413 people to CXB-219-061\n",
      "Distributing 259 people to CXB-219-062\n",
      "Distributing 286 people to CXB-219-063\n",
      "Distributing 194 people to CXB-219-064\n",
      "Distributing 212 people to CXB-219-065\n",
      "Distributing 330 people to CXB-219-066\n",
      "Distributing 314 people to CXB-219-067\n",
      "Distributing 385 people to CXB-219-068\n",
      "Distributing 551 people to CXB-219-069\n",
      "Distributing 321 people to CXB-219-070\n",
      "Distributing 218 people to CXB-219-071\n",
      "Distributing 312 people to CXB-234-001\n",
      "Distributing 276 people to CXB-234-002\n"
     ]
    }
   ],
   "source": [
    "# distribute people to households\n",
    "distribute_people_to_households(world)"
   ]
  },
  {
   "cell_type": "code",
   "execution_count": 9,
   "metadata": {},
   "outputs": [
    {
     "name": "stdout",
     "output_type": "stream",
     "text": [
      "2022-09-16 14:54:09,425 - learning_centers - INFO - There are 1243 learning center(s)\n"
     ]
    }
   ],
   "source": [
    "LearningCenters.Get_Interaction(Interactions_File_Path)\n",
    "world.learning_centers = LearningCenters.for_areas(world.areas)\n",
    "\n",
    "learningcenter_distributor = LearningCenterDistributor.from_file(world.learning_centers)\n",
    "\n",
    "learningcenter_distributor.distribute_teachers_to_learning_centers(world.areas)\n",
    "learningcenter_distributor.distribute_kids_to_learning_centers(world.areas)"
   ]
  },
  {
   "cell_type": "code",
   "execution_count": 10,
   "metadata": {},
   "outputs": [
    {
     "name": "stdout",
     "output_type": "stream",
     "text": [
      "2022-09-16 14:54:10,344 - hospitals - INFO - There are 8 hospitals in the world.\n",
      "2022-09-16 14:54:10,357 - isolation units - INFO - There are 8 isolation unit(s)\n"
     ]
    }
   ],
   "source": [
    "# distribute hospitals\n",
    "Hospitals.Get_Interaction(Interactions_File_Path)\n",
    "IsolationUnits.Get_Interaction(Interactions_File_Path)\n",
    "\n",
    "hospitals = Hospitals.from_file(\n",
    "    filename=Hospitals_File_Path\n",
    ")\n",
    "\n",
    "\n",
    "for hospital in hospitals:\n",
    "    hospital.area = world.areas.get_closest_area(hospital.coordinates)\n",
    "    \n",
    "world.hospitals = hospitals\n",
    "hospital_distributor = HospitalDistributor(\n",
    "    hospitals, medic_min_age=20, patients_per_medic=10\n",
    ")\n",
    "hospital_distributor.assign_closest_hospitals_to_super_areas(\n",
    "    world.super_areas\n",
    ")\n",
    "\n",
    "world.isolation_units = IsolationUnits([IsolationUnit(area=hospital.area) for hospital in world.hospitals])\n",
    "hospital_distributor.distribute_medics_from_world(world.people)"
   ]
  },
  {
   "cell_type": "code",
   "execution_count": 11,
   "metadata": {},
   "outputs": [
    {
     "name": "stdout",
     "output_type": "stream",
     "text": [
      "2022-09-16 14:54:10,445 - social_venue - INFO - Domain 0 has 82 pump_latrines(s)\n",
      "2022-09-16 14:54:10,567 - social_venue - INFO - Domain 0 has 539 play_groups(s)\n",
      "2022-09-16 14:54:10,615 - social_venue - INFO - Domain 0 has 21 distribution_centers(s)\n",
      "2022-09-16 14:54:10,700 - social_venue - INFO - Domain 0 has 115 communals(s)\n",
      "2022-09-16 14:54:10,764 - social_venue - INFO - Domain 0 has 67 female_communals(s)\n",
      "2022-09-16 14:54:12,121 - social_venue - INFO - Domain 0 has 2065 religiouss(s)\n",
      "2022-09-16 14:54:12,169 - social_venue - INFO - Domain 0 has 7 e_vouchers(s)\n",
      "2022-09-16 14:54:12,230 - social_venue - INFO - Domain 0 has 41 n_f_distribution_centers(s)\n",
      "2022-09-16 14:54:12,277 - social_venue - INFO - Domain 0 has 80 informal_works(s)\n"
     ]
    }
   ],
   "source": [
    "PumpLatrines.Get_Interaction(Interactions_File_Path)\n",
    "world.pump_latrines = PumpLatrines.for_areas(world.areas)\n",
    "\n",
    "PlayGroups.Get_Interaction(Interactions_File_Path)\n",
    "world.play_groups = PlayGroups.for_areas(world.areas)\n",
    "\n",
    "DistributionCenters.Get_Interaction(Interactions_File_Path)\n",
    "world.distribution_centers = DistributionCenters.for_areas(world.areas)\n",
    "\n",
    "Communals.Get_Interaction(Interactions_File_Path)\n",
    "world.communals = Communals.for_areas(world.areas)\n",
    "\n",
    "FemaleCommunals.Get_Interaction(Interactions_File_Path)\n",
    "world.female_communals = FemaleCommunals.for_areas(world.areas)\n",
    "\n",
    "Religiouss.Get_Interaction(Interactions_File_Path)\n",
    "world.religiouss = Religiouss.for_areas(world.areas)\n",
    "\n",
    "EVouchers.Get_Interaction(Interactions_File_Path)\n",
    "world.e_vouchers = EVouchers.for_areas(world.areas)\n",
    "\n",
    "NFDistributionCenters.Get_Interaction(Interactions_File_Path)\n",
    "world.n_f_distribution_centers = NFDistributionCenters.for_areas(world.areas)\n",
    "\n",
    "InformalWorks.Get_Interaction(Interactions_File_Path)\n",
    "world.informal_works = InformalWorks.for_areas(world.areas)"
   ]
  },
  {
   "cell_type": "code",
   "execution_count": 12,
   "metadata": {},
   "outputs": [
    {
     "name": "stdout",
     "output_type": "stream",
     "text": [
      "cemetery not defined in interaction yaml or defualt options\n"
     ]
    }
   ],
   "source": [
    "world.cemeteries = Cemeteries()"
   ]
  },
  {
   "cell_type": "markdown",
   "metadata": {},
   "source": [
    "## Geography exploration"
   ]
  },
  {
   "cell_type": "markdown",
   "metadata": {},
   "source": [
    "The geography is initialised first and can be explored."
   ]
  },
  {
   "cell_type": "markdown",
   "metadata": {},
   "source": [
    "### UNHCR camp blocks inside the World"
   ]
  },
  {
   "cell_type": "code",
   "execution_count": 13,
   "metadata": {},
   "outputs": [],
   "source": [
    "super_areas = []\n",
    "for super_area in world.super_areas:\n",
    "    super_areas.append(super_area.name)"
   ]
  },
  {
   "cell_type": "code",
   "execution_count": 14,
   "metadata": {},
   "outputs": [
    {
     "data": {
      "text/plain": [
       "['CXB-219-A', 'CXB-219-B', 'CXB-219-C', 'CXB-219-D']"
      ]
     },
     "execution_count": 14,
     "metadata": {},
     "output_type": "execute_result"
    }
   ],
   "source": [
    "super_areas[:5]"
   ]
  },
  {
   "cell_type": "markdown",
   "metadata": {},
   "source": [
    "### Mahjee blocks inside World"
   ]
  },
  {
   "cell_type": "code",
   "execution_count": 15,
   "metadata": {},
   "outputs": [],
   "source": [
    "areas = []\n",
    "for area in world.areas:\n",
    "    areas.append(area.name)"
   ]
  },
  {
   "cell_type": "code",
   "execution_count": 16,
   "metadata": {},
   "outputs": [
    {
     "data": {
      "text/plain": [
       "['CXB-219-001', 'CXB-219-002', 'CXB-219-003', 'CXB-219-004', 'CXB-219-005']"
      ]
     },
     "execution_count": 16,
     "metadata": {},
     "output_type": "execute_result"
    }
   ],
   "source": [
    "areas[:5]"
   ]
  },
  {
   "cell_type": "markdown",
   "metadata": {},
   "source": [
    "## Demography exploration"
   ]
  },
  {
   "cell_type": "markdown",
   "metadata": {},
   "source": [
    "Once we have populated the 'digital twin' we can explore some of the attributes of the people we have created in the simulation."
   ]
  },
  {
   "cell_type": "markdown",
   "metadata": {},
   "source": [
    "### UNHCR block residents"
   ]
  },
  {
   "cell_type": "code",
   "execution_count": 17,
   "metadata": {},
   "outputs": [],
   "source": [
    "sample_ages = []\n",
    "sample_sexes = []\n",
    "for person in world.super_areas.members[0].people:\n",
    "    sample_ages.append(person.age)\n",
    "    sample_sexes.append(person.sex)"
   ]
  },
  {
   "cell_type": "code",
   "execution_count": 18,
   "metadata": {},
   "outputs": [
    {
     "data": {
      "text/plain": [
       "(['m', 'm', 'f', 'm', 'f'], [60, 56, 20, 24, 61])"
      ]
     },
     "execution_count": 18,
     "metadata": {},
     "output_type": "execute_result"
    }
   ],
   "source": [
    "sample_sexes[:5], sample_ages[:5]"
   ]
  },
  {
   "cell_type": "code",
   "execution_count": 19,
   "metadata": {},
   "outputs": [
    {
     "data": {
      "image/png": "[encoded data removed]",
      "text/plain": [
       "<Figure size 432x288 with 1 Axes>"
      ]
     },
     "metadata": {
      "needs_background": "light"
     },
     "output_type": "display_data"
    }
   ],
   "source": [
    "ages, counts = np.unique(sample_ages, return_counts=True)\n",
    "plt.bar(ages, counts)\n",
    "plt.title('super area: {} age distribution'.format(world.super_areas.members[0].name))\n",
    "plt.show()"
   ]
  },
  {
   "cell_type": "code",
   "execution_count": 20,
   "metadata": {},
   "outputs": [
    {
     "name": "stdout",
     "output_type": "stream",
     "text": [
      "The % children between ages 0-16 is 49%\n"
     ]
    }
   ],
   "source": [
    "print ('The % children between ages 0-16 is {}%'.format(round(np.sum(counts[:16])/(np.sum(counts[:16])+np.sum(counts[16:]))*100)))"
   ]
  },
  {
   "cell_type": "markdown",
   "metadata": {},
   "source": [
    "## Households"
   ]
  },
  {
   "cell_type": "markdown",
   "metadata": {},
   "source": [
    "In this model, we will use the term 'family' and 'household' interchangeably. After populating the 'digital twin', we need to cluster people into families. To do this, we take account of age structure so that children live with adults, that there are some intergenerational households and such that we might also have some households of only adults."
   ]
  },
  {
   "cell_type": "markdown",
   "metadata": {},
   "source": [
    "### Household size distribution"
   ]
  },
  {
   "cell_type": "code",
   "execution_count": 21,
   "metadata": {},
   "outputs": [
    {
     "data": {
      "image/png": "[encoded data removed]",
      "text/plain": [
       "<Figure size 432x288 with 1 Axes>"
      ]
     },
     "metadata": {
      "needs_background": "light"
     },
     "output_type": "display_data"
    }
   ],
   "source": [
    "household_sizes = [household.size for household in world.households]\n",
    "plt.hist(household_sizes, density=True, bins=np.arange(0,12))\n",
    "plt.xlabel(\"Household size\")\n",
    "plt.ylabel(\"Frequency\")\n",
    "plt.axvline(np.mean(household_sizes), color=\"cyan\")\n",
    "plt.text(8, 0.150, f\"Avg. size: {(np.mean(household_sizes)):.2f}\")\n",
    "plt.show()"
   ]
  },
  {
   "cell_type": "markdown",
   "metadata": {},
   "source": [
    "# Shelters"
   ]
  },
  {
   "cell_type": "markdown",
   "metadata": {},
   "source": [
    "Shelters house people in the camp. Since we know that families (houseohlds) often share shelters with other families, we can set the `sharing_shelter_ratio` to cluster families into shared shelters."
   ]
  },
  {
   "cell_type": "code",
   "execution_count": 22,
   "metadata": {},
   "outputs": [],
   "source": [
    "Shelters.Get_Interaction(Interactions_File_Path)\n",
    "world.shelters = Shelters.for_areas(world.areas)\n",
    "shelter_distributor = ShelterDistributor(sharing_shelter_ratio = 0.75) # proportion of families that share a shelter\n",
    "for area in world.areas:\n",
    "    shelter_distributor.distribute_people_in_shelters(area.shelters, area.households)"
   ]
  },
  {
   "cell_type": "code",
   "execution_count": 23,
   "metadata": {},
   "outputs": [
    {
     "data": {
      "image/png": "[encoded data removed]",
      "text/plain": [
       "<Figure size 576x216 with 2 Axes>"
      ]
     },
     "metadata": {
      "needs_background": "light"
     },
     "output_type": "display_data"
    }
   ],
   "source": [
    "fig, ax = plt.subplots(1, 2, figsize=(8,3))\n",
    "shelter_sizes = [shelter.size for shelter in world.shelters]\n",
    "shelter_families = [shelter.n_families for shelter in world.shelters]\n",
    "ax[0].hist(shelter_sizes)\n",
    "ax[0].set_title(\"Shelter size\")\n",
    "shelter_families = {1 : len([shelter for shelter in world.shelters if shelter.n_families == 1]),\n",
    "                    2 : len([shelter for shelter in world.shelters if shelter.n_families == 2])}\n",
    "ax[1].bar(shelter_families.keys(), shelter_families.values())\n",
    "ax[1].set_title(\"# families per shelter\")\n",
    "plt.show()"
   ]
  },
  {
   "cell_type": "markdown",
   "metadata": {},
   "source": [
    "## Activity exploration"
   ]
  },
  {
   "cell_type": "markdown",
   "metadata": {},
   "source": [
    "Once different activity locations are seeded in the 'digital twin' we can explore how many there are in different areas of the twin, and their coordinates to check they've all been added correctly."
   ]
  },
  {
   "cell_type": "markdown",
   "metadata": {},
   "source": [
    "### Pumps and latrines "
   ]
  },
  {
   "cell_type": "code",
   "execution_count": 24,
   "metadata": {},
   "outputs": [],
   "source": [
    "pumps_and_latrines = []\n",
    "for pump_latrine in world.areas.members[0].pump_latrines:\n",
    "    pumps_and_latrines.append(pump_latrine)"
   ]
  },
  {
   "cell_type": "code",
   "execution_count": 25,
   "metadata": {},
   "outputs": [
    {
     "name": "stdout",
     "output_type": "stream",
     "text": [
      "There are 2 pumps and latrines in area CXB-219-001\n"
     ]
    }
   ],
   "source": [
    "print ('There are {} pumps and latrines in area {}'.format(len(pumps_and_latrines), world.areas.members[0].name))"
   ]
  },
  {
   "cell_type": "markdown",
   "metadata": {},
   "source": [
    "### Informal work"
   ]
  },
  {
   "cell_type": "code",
   "execution_count": 26,
   "metadata": {},
   "outputs": [],
   "source": [
    "Informal_work_Sites = []\n",
    "for informal_work in world.areas.members[0].informal_works:\n",
    "    Informal_work_Sites.append(informal_work)"
   ]
  },
  {
   "cell_type": "code",
   "execution_count": 27,
   "metadata": {},
   "outputs": [
    {
     "name": "stdout",
     "output_type": "stream",
     "text": [
      "There are 2 informal work sites in area CXB-219-001\n"
     ]
    }
   ],
   "source": [
    "print ('There are {} informal work sites in area {}'.format(len(Informal_work_Sites), world.areas.members[0].name))"
   ]
  },
  {
   "cell_type": "markdown",
   "metadata": {},
   "source": [
    "### Distribution centers"
   ]
  },
  {
   "cell_type": "code",
   "execution_count": 28,
   "metadata": {},
   "outputs": [],
   "source": [
    "distribution_centers = []\n",
    "for center in world.distribution_centers:\n",
    "    distribution_centers.append(center)"
   ]
  },
  {
   "cell_type": "code",
   "execution_count": 29,
   "metadata": {},
   "outputs": [
    {
     "data": {
      "text/plain": [
       "array([21.2136    , 92.15678833])"
      ]
     },
     "execution_count": 29,
     "metadata": {},
     "output_type": "execute_result"
    }
   ],
   "source": [
    "distribution_centers[0].coordinates"
   ]
  },
  {
   "cell_type": "markdown",
   "metadata": {},
   "source": [
    "### Non-food Distribution centers"
   ]
  },
  {
   "cell_type": "code",
   "execution_count": 30,
   "metadata": {},
   "outputs": [],
   "source": [
    "non_food_distribution_centers = []\n",
    "for center in world.n_f_distribution_centers:\n",
    "    non_food_distribution_centers.append(center)"
   ]
  },
  {
   "cell_type": "code",
   "execution_count": 31,
   "metadata": {},
   "outputs": [
    {
     "data": {
      "text/plain": [
       "array([21.21268167, 92.1438    ])"
      ]
     },
     "execution_count": 31,
     "metadata": {},
     "output_type": "execute_result"
    }
   ],
   "source": [
    "non_food_distribution_centers[0].coordinates"
   ]
  },
  {
   "cell_type": "markdown",
   "metadata": {},
   "source": [
    "### E-Voucher outlets"
   ]
  },
  {
   "cell_type": "code",
   "execution_count": 32,
   "metadata": {},
   "outputs": [],
   "source": [
    "e_voucher_outlets = []\n",
    "for center in world.e_vouchers:\n",
    "    e_voucher_outlets.append(center)"
   ]
  },
  {
   "cell_type": "code",
   "execution_count": 33,
   "metadata": {},
   "outputs": [
    {
     "data": {
      "text/plain": [
       "array([21.212945, 92.142915])"
      ]
     },
     "execution_count": 33,
     "metadata": {},
     "output_type": "execute_result"
    }
   ],
   "source": [
    "e_voucher_outlets[0].coordinates"
   ]
  },
  {
   "cell_type": "markdown",
   "metadata": {},
   "source": [
    "### Communal spaces"
   ]
  },
  {
   "cell_type": "code",
   "execution_count": 34,
   "metadata": {},
   "outputs": [],
   "source": [
    "communal_spaces = []\n",
    "for space in world.communals:\n",
    "    communal_spaces.append(space)"
   ]
  },
  {
   "cell_type": "code",
   "execution_count": 35,
   "metadata": {},
   "outputs": [
    {
     "data": {
      "text/plain": [
       "array([21.19508, 92.16525])"
      ]
     },
     "execution_count": 35,
     "metadata": {},
     "output_type": "execute_result"
    }
   ],
   "source": [
    "communal_spaces[0].coordinates"
   ]
  },
  {
   "cell_type": "markdown",
   "metadata": {},
   "source": [
    "### Female friendly communal spaces"
   ]
  },
  {
   "cell_type": "code",
   "execution_count": 36,
   "metadata": {},
   "outputs": [],
   "source": [
    "female_communal_spaces = []\n",
    "for space in world.female_communals:\n",
    "    female_communal_spaces.append(space)"
   ]
  },
  {
   "cell_type": "code",
   "execution_count": 37,
   "metadata": {},
   "outputs": [
    {
     "data": {
      "text/plain": [
       "array([21.20686305, 92.16070923])"
      ]
     },
     "execution_count": 37,
     "metadata": {},
     "output_type": "execute_result"
    }
   ],
   "source": [
    "female_communal_spaces[0].coordinates"
   ]
  },
  {
   "cell_type": "markdown",
   "metadata": {},
   "source": [
    "### Religious sites"
   ]
  },
  {
   "cell_type": "code",
   "execution_count": 38,
   "metadata": {},
   "outputs": [],
   "source": [
    "religious = []\n",
    "for rel in world.religiouss:\n",
    "    religious.append(rel)"
   ]
  },
  {
   "cell_type": "code",
   "execution_count": 39,
   "metadata": {},
   "outputs": [
    {
     "data": {
      "text/plain": [
       "array([21.21804605, 92.1546829 ])"
      ]
     },
     "execution_count": 39,
     "metadata": {},
     "output_type": "execute_result"
    }
   ],
   "source": [
    "religious[0].coordinates"
   ]
  },
  {
   "cell_type": "markdown",
   "metadata": {},
   "source": [
    "# Adding the infection"
   ]
  },
  {
   "cell_type": "markdown",
   "metadata": {},
   "source": [
    "The selector handles how infections are handled in the code. You can set different 'symptom trajectories' (e.g. exposed->mild->severe->hospitalised->intensive care) from different files. Here, we use the default."
   ]
  },
  {
   "cell_type": "code",
   "execution_count": 40,
   "metadata": {},
   "outputs": [],
   "source": [
    "selector = InfectionSelector.from_file()"
   ]
  },
  {
   "cell_type": "code",
   "execution_count": 41,
   "metadata": {},
   "outputs": [],
   "source": [
    "selectors = InfectionSelectors([selector])"
   ]
  },
  {
   "cell_type": "markdown",
   "metadata": {},
   "source": [
    "# Adding the interaction"
   ]
  },
  {
   "cell_type": "markdown",
   "metadata": {},
   "source": [
    "The interaction class handles how many contacts people have in different locations and with who. If contact matrices are available, these can be coded in a `.yaml` file and fed into the class here."
   ]
  },
  {
   "cell_type": "code",
   "execution_count": 42,
   "metadata": {},
   "outputs": [],
   "source": [
    "interaction = Interaction.from_file(\n",
    "    config_filename=Interactions_File_Path,\n",
    ")"
   ]
  },
  {
   "cell_type": "markdown",
   "metadata": {},
   "source": [
    "# Set policies"
   ]
  },
  {
   "cell_type": "markdown",
   "metadata": {},
   "source": [
    "Policies control how 'operational interventions' are set in the camp. Here we set some social distancing policies, policies relating to medical care, such as people with severe symptoms being hospitalised, and individual and activity policies which can dynamically change how often and where people go, e.g. here, we close all female communal spaces and non-food distirbution centers which the camp did back in March"
   ]
  },
  {
   "cell_type": "code",
   "execution_count": 43,
   "metadata": {},
   "outputs": [],
   "source": [
    "policies = Policies.from_file(\n",
    "        Policies_File_Path,\n",
    "        base_policy_modules=(\"june.policy\", \"camps.policy\"),\n",
    "    )"
   ]
  },
  {
   "cell_type": "code",
   "execution_count": 44,
   "metadata": {},
   "outputs": [
    {
     "data": {
      "text/plain": [
       "[<june.policy.interaction_policies.SocialDistancing at 0x7f05ac251760>,\n",
       " <june.policy.medical_care_policies.Hospitalisation at 0x7f05ac251eb0>,\n",
       " <june.policy.individual_policies.SevereSymptomsStayHome at 0x7f05ac251a30>,\n",
       " <june.policy.individual_policies.Quarantine at 0x7f05ac251fd0>]"
      ]
     },
     "execution_count": 44,
     "metadata": {},
     "output_type": "execute_result"
    }
   ],
   "source": [
    "policies.policies"
   ]
  },
  {
   "cell_type": "markdown",
   "metadata": {},
   "source": [
    "# Seed the disease"
   ]
  },
  {
   "cell_type": "markdown",
   "metadata": {},
   "source": [
    "Set intial seeding conditions. This can be done at the camp level specifically, or generally by seeding them randomly. Here the `n_cases` is the number of randomly seeded people over the entire population."
   ]
  },
  {
   "cell_type": "code",
   "execution_count": 45,
   "metadata": {},
   "outputs": [],
   "source": [
    "infection_seed = InfectionSeed.from_uniform_cases(\n",
    "    world=world, infection_selector=selector, cases_per_capita=0.01, date=\"2020-05-24 9:00\", seed_past_infections=False,\n",
    ")"
   ]
  },
  {
   "cell_type": "code",
   "execution_count": 46,
   "metadata": {},
   "outputs": [],
   "source": [
    "infection_seeds = InfectionSeeds([infection_seed])"
   ]
  },
  {
   "cell_type": "code",
   "execution_count": 47,
   "metadata": {},
   "outputs": [],
   "source": [
    "immunity_setter = ImmunitySetter.from_file_with_comorbidities(\n",
    "    comorbidity_multipliers_path= comorbidity_multipliers_path,\n",
    "    male_comorbidity_reference_prevalence_path= male_comorbidity_reference_prevalence_path,\n",
    "    female_comorbidity_reference_prevalence_path = female_comorbidity_reference_prevalence_path,   \n",
    ")"
   ]
  },
  {
   "cell_type": "code",
   "execution_count": 48,
   "metadata": {},
   "outputs": [],
   "source": [
    "epidemiology = Epidemiology(\n",
    "    infection_selectors=selectors,\n",
    "    infection_seeds=infection_seeds,\n",
    "    immunity_setter=immunity_setter,\n",
    ")"
   ]
  },
  {
   "cell_type": "markdown",
   "metadata": {},
   "source": [
    "## Select config file"
   ]
  },
  {
   "cell_type": "markdown",
   "metadata": {},
   "source": [
    "Before running the simualtion we must select the config file which defines how the world is set up and the simualtor will work. Specifically, the condif file specifies which activities will be included, how long we'll run the simualtion for, what the initial starting day will be and what the structure of weekdays and weekends will look like (if different)"
   ]
  },
  {
   "cell_type": "code",
   "execution_count": 49,
   "metadata": {},
   "outputs": [],
   "source": [
    "CONFIG_PATH = Config_File_Path"
   ]
  },
  {
   "cell_type": "markdown",
   "metadata": {},
   "source": [
    "# Initialise activities"
   ]
  },
  {
   "cell_type": "markdown",
   "metadata": {},
   "source": [
    "The final step to intialising the simulator class which brings all of this together is to inialise all the activity distirbutors (the term 'leisure' is a legacy of the original version of this code used for modelling COVID-19 in the UK). This will mean that people know where they can go at and given time."
   ]
  },
  {
   "cell_type": "code",
   "execution_count": 50,
   "metadata": {},
   "outputs": [
    {
     "name": "stdout",
     "output_type": "stream",
     "text": [
      "2022-09-16 14:54:15,076 - leisure - INFO - Linking households and care homes for visits\n",
      "2022-09-16 14:54:15,077 - leisure - INFO - Done\n",
      "2022-09-16 14:54:15,078 - leisure - INFO - Distributing social venues to areas\n",
      "2022-09-16 14:54:15,079 - leisure - INFO - Distributed in 0 of 65 areas.\n",
      "2022-09-16 14:54:15,171 - leisure - INFO - Distributed in 65 of 65 areas.\n"
     ]
    }
   ],
   "source": [
    "leisure = generate_leisure_for_config(world=world, config_filename=CONFIG_PATH)\n",
    "# associate social activities to shelters\n",
    "leisure.distribute_social_venues_to_areas(world.areas, world.super_areas)"
   ]
  },
  {
   "cell_type": "markdown",
   "metadata": {},
   "source": [
    "# Define a contact Tracker"
   ]
  },
  {
   "cell_type": "markdown",
   "metadata": {},
   "source": [
    "We define a list of venues in which to track. This is fed into JUNE's tracker class. We can specify tracking contacts by sex, the type of possible contacts \"1D\" (simulated contacts based on the input interaction matrices) or \"All\" (everyone at each venue contacts each other). Lastly we can find a subset of venues upto N but defining MaxVenueTrackingSize=N."
   ]
  },
  {
   "cell_type": "code",
   "execution_count": 51,
   "metadata": {},
   "outputs": [],
   "source": [
    "group_types=[\n",
    "        world.hospitals,\n",
    "        world.distribution_centers,\n",
    "        world.communals,\n",
    "        world.female_communals,\n",
    "        world.pump_latrines,\n",
    "        world.religiouss,\n",
    "        world.play_groups,\n",
    "        world.e_vouchers,\n",
    "        world.n_f_distribution_centers,\n",
    "        world.shelters,\n",
    "        world.learning_centers,\n",
    "        world.informal_works,\n",
    "        world.isolation_units,\n",
    "    ]\n",
    "\n",
    "tracker = Tracker(\n",
    "    world=world,\n",
    "    record_path=Results_Path,\n",
    "    group_types=group_types,\n",
    "    load_interactions_path=Interactions_File_Path,\n",
    "    contact_sexes=[\"unisex\", \"male\", \"female\"],\n",
    "    MaxVenueTrackingSize = 500\n",
    ")"
   ]
  },
  {
   "cell_type": "markdown",
   "metadata": {},
   "source": [
    "# Initialise simulator and run"
   ]
  },
  {
   "cell_type": "markdown",
   "metadata": {},
   "source": [
    "The recorder is defined which will log all interactions and infections in the simualation for later analysis. The `record_path` can be changed to any path where you want the recorded data to be stored."
   ]
  },
  {
   "cell_type": "code",
   "execution_count": 52,
   "metadata": {},
   "outputs": [],
   "source": [
    "record = Record(\n",
    "    record_path=Results_Path, \n",
    "    record_static_data=True\n",
    ")\n"
   ]
  },
  {
   "cell_type": "markdown",
   "metadata": {},
   "source": [
    "The simulator is defined with all the different necessary components we have built up so far"
   ]
  },
  {
   "cell_type": "code",
   "execution_count": 53,
   "metadata": {},
   "outputs": [],
   "source": [
    "Simulator.ActivityManager = CampActivityManager\n",
    "simulator = Simulator.from_file(\n",
    "    world=world,\n",
    "    interaction=interaction,\n",
    "    tracker=tracker,\n",
    "    leisure=leisure,\n",
    "    policies=policies,\n",
    "    config_filename=CONFIG_PATH,\n",
    "    epidemiology=epidemiology,\n",
    "    record=record,\n",
    ")"
   ]
  },
  {
   "cell_type": "markdown",
   "metadata": {},
   "source": [
    "Finally we can run a small simualation"
   ]
  },
  {
   "cell_type": "code",
   "execution_count": 54,
   "metadata": {
    "scrolled": true
   },
   "outputs": [
    {
     "name": "stdout",
     "output_type": "stream",
     "text": [
      "2022-09-16 14:54:15,844 - simulator - INFO - Starting simulation for 7 days at day 2020-05-24 09:00:00,to run for 7 days\n",
      "2022-09-16 14:54:15,935 - seed - INFO - Seeding Covid19 infections at date 2020-05-24\n",
      "2022-09-16 14:54:16,416 - rank - INFO - Next timestep\n",
      "2022-09-16 14:54:16,417 - simulator - INFO - ==================== timestep ====================\n",
      "2022-09-16 14:54:16,596 - rank - INFO - Rank 0 -- move_people -- 0.17767390300286934\n",
      "2022-09-16 14:54:16,596 - rank - INFO - Rank 0 -- move_people_waiting -- 8.023009286262095e-06\n",
      "2022-09-16 14:54:16,597 - activity_manager - INFO - CMS: People COMS for rank 0/1 - 3.306995495222509e-06,3.0994415283203125e-06 - 2020-05-24 09:00:00\n",
      "2022-09-16 14:54:16,605 - simulator - INFO - Info for rank 0, Date = 2020-05-24 09:00:00, number of deaths =  0, number of infected = 220\n",
      "2022-09-16 14:54:16,684 - rank - INFO - Rank 0 -- interaction -- 0.08574716899602208\n",
      "2022-09-16 14:54:16,691 - tracker - INFO - Rank 0 -- tracking contacts -- 500 of 3263 of type shelter\n",
      "2022-09-16 14:54:17,573 - tracker - INFO - Rank 0 -- tracking contacts -- 389 of 389 of type learning_center\n",
      "2022-09-16 14:54:18,541 - tracker - INFO - Rank 0 -- tracking contacts -- 115 of 115 of type communal\n",
      "2022-09-16 14:54:18,544 - tracker - INFO - Rank 0 -- tracking contacts -- 21 of 21 of type distribution_center\n",
      "2022-09-16 14:54:18,545 - tracker - INFO - Rank 0 -- tracking contacts -- 7 of 7 of type e_voucher\n",
      "2022-09-16 14:54:18,547 - tracker - INFO - Rank 0 -- tracking contacts -- 67 of 67 of type female_communal\n",
      "2022-09-16 14:54:18,550 - tracker - INFO - Rank 0 -- tracking contacts -- 80 of 80 of type informal_work\n",
      "2022-09-16 14:54:18,554 - tracker - INFO - Rank 0 -- tracking contacts -- 41 of 41 of type n_f_distribution_center\n",
      "2022-09-16 14:54:18,557 - tracker - INFO - Rank 0 -- tracking contacts -- 500 of 539 of type play_group\n",
      "2022-09-16 14:54:18,570 - tracker - INFO - Rank 0 -- tracking contacts -- 82 of 82 of type pump_latrine\n",
      "2022-09-16 14:54:18,579 - tracker - INFO - Rank 0 -- tracking contacts -- 500 of 2065 of type religious\n",
      "2022-09-16 14:54:18,592 - tracker - INFO - Rank 0 -- tracking contacts -- 8 of 8 of type hospital\n",
      "2022-09-16 14:54:18,607 - tracker - INFO - Rank 0 -- tracking contacts -- 8 of 8 of type isolation_unit\n",
      "2022-09-16 14:54:18,609 - rank - INFO - Rank 0 -- tracker -- 1.923580465008854\n",
      "2022-09-16 14:54:18,611 - epidemiology - INFO - CMS: Infection COMS-v2 for rank 0/1(2)0.0009880809957394376,0.0009877681732177734 - 2020-05-24 09:00:00\n",
      "2022-09-16 14:54:18,797 - rank - INFO - Rank 0 -- interaction_waiting -- 1.8175996956415474e-05\n",
      "2022-09-16 14:54:18,812 - simulator - INFO - CMS: Timestep for rank 0/1 - 2.394170497005689,2.394172191619873 - 2020-05-24 09:00:00\n",
      "\n",
      "2022-09-16 14:54:18,814 - rank - INFO - Next timestep\n",
      "2022-09-16 14:54:18,815 - simulator - INFO - ==================== timestep ====================\n",
      "2022-09-16 14:54:20,199 - rank - INFO - Rank 0 -- move_people -- 1.3836247339932015\n",
      "2022-09-16 14:54:20,200 - rank - INFO - Rank 0 -- move_people_waiting -- 9.447001502849162e-06\n",
      "2022-09-16 14:54:20,201 - activity_manager - INFO - CMS: People COMS for rank 0/1 - 4.608999006450176e-06,4.0531158447265625e-06 - 2020-05-24 11:00:00\n",
      "2022-09-16 14:54:20,209 - simulator - INFO - Info for rank 0, Date = 2020-05-24 11:00:00, number of deaths =  0, number of infected = 220\n",
      "2022-09-16 14:54:20,341 - rank - INFO - Rank 0 -- interaction -- 0.1385451300011482\n",
      "2022-09-16 14:54:20,349 - tracker - INFO - Rank 0 -- tracking contacts -- 500 of 3263 of type shelter\n",
      "2022-09-16 14:54:20,795 - tracker - INFO - Rank 0 -- tracking contacts -- 389 of 389 of type learning_center\n",
      "2022-09-16 14:54:21,619 - tracker - INFO - Rank 0 -- tracking contacts -- 115 of 115 of type communal\n",
      "2022-09-16 14:54:21,636 - tracker - INFO - Rank 0 -- tracking contacts -- 21 of 21 of type distribution_center\n",
      "2022-09-16 14:54:21,652 - tracker - INFO - Rank 0 -- tracking contacts -- 7 of 7 of type e_voucher\n",
      "2022-09-16 14:54:21,661 - tracker - INFO - Rank 0 -- tracking contacts -- 67 of 67 of type female_communal\n",
      "2022-09-16 14:54:21,702 - tracker - INFO - Rank 0 -- tracking contacts -- 80 of 80 of type informal_work\n",
      "2022-09-16 14:54:21,768 - tracker - INFO - Rank 0 -- tracking contacts -- 41 of 41 of type n_f_distribution_center\n",
      "2022-09-16 14:54:21,817 - tracker - INFO - Rank 0 -- tracking contacts -- 500 of 539 of type play_group\n",
      "2022-09-16 14:54:22,047 - tracker - INFO - Rank 0 -- tracking contacts -- 82 of 82 of type pump_latrine\n",
      "2022-09-16 14:54:23,595 - tracker - INFO - Rank 0 -- tracking contacts -- 500 of 2065 of type religious\n",
      "2022-09-16 14:54:23,796 - tracker - INFO - Rank 0 -- tracking contacts -- 8 of 8 of type hospital\n",
      "2022-09-16 14:54:23,807 - tracker - INFO - Rank 0 -- tracking contacts -- 8 of 8 of type isolation_unit\n",
      "2022-09-16 14:54:23,808 - rank - INFO - Rank 0 -- tracker -- 3.4667744649923407\n",
      "2022-09-16 14:54:23,812 - epidemiology - INFO - CMS: Infection COMS-v2 for rank 0/1(2)0.000711847998900339,0.0007121562957763672 - 2020-05-24 11:00:00\n",
      "2022-09-16 14:54:23,858 - rank - INFO - Rank 0 -- interaction_waiting -- 7.598995580337942e-06\n",
      "2022-09-16 14:54:23,875 - simulator - INFO - CMS: Timestep for rank 0/1 - 5.0594415119994665,5.059441804885864 - 2020-05-24 11:00:00\n",
      "\n",
      "2022-09-16 14:54:23,876 - rank - INFO - Next timestep\n",
      "2022-09-16 14:54:23,877 - simulator - INFO - ==================== timestep ====================\n",
      "2022-09-16 14:54:24,899 - rank - INFO - Rank 0 -- move_people -- 1.0214344230043935\n",
      "2022-09-16 14:54:24,901 - rank - INFO - Rank 0 -- move_people_waiting -- 4.7100038500502706e-06\n",
      "2022-09-16 14:54:24,901 - activity_manager - INFO - CMS: People COMS for rank 0/1 - 4.762012395076454e-06,4.5299530029296875e-06 - 2020-05-24 13:00:00\n",
      "2022-09-16 14:54:24,907 - simulator - INFO - Info for rank 0, Date = 2020-05-24 13:00:00, number of deaths =  0, number of infected = 223\n",
      "2022-09-16 14:54:25,029 - rank - INFO - Rank 0 -- interaction -- 0.12603275399305858\n",
      "2022-09-16 14:54:25,035 - tracker - INFO - Rank 0 -- tracking contacts -- 500 of 3263 of type shelter\n",
      "2022-09-16 14:54:25,499 - tracker - INFO - Rank 0 -- tracking contacts -- 389 of 389 of type learning_center\n",
      "2022-09-16 14:54:26,447 - tracker - INFO - Rank 0 -- tracking contacts -- 115 of 115 of type communal\n",
      "2022-09-16 14:54:26,471 - tracker - INFO - Rank 0 -- tracking contacts -- 21 of 21 of type distribution_center\n",
      "2022-09-16 14:54:26,492 - tracker - INFO - Rank 0 -- tracking contacts -- 7 of 7 of type e_voucher\n",
      "2022-09-16 14:54:26,503 - tracker - INFO - Rank 0 -- tracking contacts -- 67 of 67 of type female_communal\n",
      "2022-09-16 14:54:26,541 - tracker - INFO - Rank 0 -- tracking contacts -- 80 of 80 of type informal_work\n",
      "2022-09-16 14:54:26,633 - tracker - INFO - Rank 0 -- tracking contacts -- 41 of 41 of type n_f_distribution_center\n",
      "2022-09-16 14:54:26,673 - tracker - INFO - Rank 0 -- tracking contacts -- 500 of 539 of type play_group\n",
      "2022-09-16 14:54:26,969 - tracker - INFO - Rank 0 -- tracking contacts -- 82 of 82 of type pump_latrine\n",
      "2022-09-16 14:54:28,849 - tracker - INFO - Rank 0 -- tracking contacts -- 500 of 2065 of type religious\n",
      "2022-09-16 14:54:29,035 - tracker - INFO - Rank 0 -- tracking contacts -- 8 of 8 of type hospital\n",
      "2022-09-16 14:54:29,045 - tracker - INFO - Rank 0 -- tracking contacts -- 8 of 8 of type isolation_unit\n",
      "2022-09-16 14:54:29,046 - rank - INFO - Rank 0 -- tracker -- 4.016852733009728\n",
      "2022-09-16 14:54:29,048 - epidemiology - INFO - CMS: Infection COMS-v2 for rank 0/1(2)0.00035122400731779635,0.00035119056701660156 - 2020-05-24 13:00:00\n",
      "2022-09-16 14:54:29,078 - rank - INFO - Rank 0 -- interaction_waiting -- 5.69300027564168e-06\n",
      "2022-09-16 14:54:29,091 - simulator - INFO - CMS: Timestep for rank 0/1 - 5.213277750997804,5.213278532028198 - 2020-05-24 13:00:00\n",
      "\n",
      "2022-09-16 14:54:29,092 - rank - INFO - Next timestep\n",
      "2022-09-16 14:54:29,093 - simulator - INFO - ==================== timestep ====================\n",
      "2022-09-16 14:54:30,024 - rank - INFO - Rank 0 -- move_people -- 0.9299475029984023\n",
      "2022-09-16 14:54:30,026 - rank - INFO - Rank 0 -- move_people_waiting -- 4.76400600746274e-06\n",
      "2022-09-16 14:54:30,027 - activity_manager - INFO - CMS: People COMS for rank 0/1 - 4.3639884097501636e-06,4.291534423828125e-06 - 2020-05-24 15:00:00\n"
     ]
    },
    {
     "name": "stdout",
     "output_type": "stream",
     "text": [
      "2022-09-16 14:54:30,035 - simulator - INFO - Info for rank 0, Date = 2020-05-24 15:00:00, number of deaths =  0, number of infected = 224\n",
      "2022-09-16 14:54:30,184 - rank - INFO - Rank 0 -- interaction -- 0.15625668100256007\n",
      "2022-09-16 14:54:30,191 - tracker - INFO - Rank 0 -- tracking contacts -- 500 of 3263 of type shelter\n",
      "2022-09-16 14:54:30,960 - tracker - INFO - Rank 0 -- tracking contacts -- 389 of 389 of type learning_center\n",
      "2022-09-16 14:54:32,119 - tracker - INFO - Rank 0 -- tracking contacts -- 115 of 115 of type communal\n",
      "2022-09-16 14:54:32,151 - tracker - INFO - Rank 0 -- tracking contacts -- 21 of 21 of type distribution_center\n",
      "2022-09-16 14:54:32,182 - tracker - INFO - Rank 0 -- tracking contacts -- 7 of 7 of type e_voucher\n",
      "2022-09-16 14:54:32,192 - tracker - INFO - Rank 0 -- tracking contacts -- 67 of 67 of type female_communal\n",
      "2022-09-16 14:54:32,244 - tracker - INFO - Rank 0 -- tracking contacts -- 80 of 80 of type informal_work\n",
      "2022-09-16 14:54:32,342 - tracker - INFO - Rank 0 -- tracking contacts -- 41 of 41 of type n_f_distribution_center\n",
      "2022-09-16 14:54:32,391 - tracker - INFO - Rank 0 -- tracking contacts -- 500 of 539 of type play_group\n",
      "2022-09-16 14:54:32,749 - tracker - INFO - Rank 0 -- tracking contacts -- 82 of 82 of type pump_latrine\n",
      "2022-09-16 14:54:35,164 - tracker - INFO - Rank 0 -- tracking contacts -- 500 of 2065 of type religious\n",
      "2022-09-16 14:54:35,399 - tracker - INFO - Rank 0 -- tracking contacts -- 8 of 8 of type hospital\n",
      "2022-09-16 14:54:35,410 - tracker - INFO - Rank 0 -- tracking contacts -- 8 of 8 of type isolation_unit\n",
      "2022-09-16 14:54:35,411 - rank - INFO - Rank 0 -- tracker -- 5.225750265002716\n",
      "2022-09-16 14:54:35,415 - epidemiology - INFO - CMS: Infection COMS-v2 for rank 0/1(2)0.0010198079980909824,0.0010194778442382812 - 2020-05-24 15:00:00\n",
      "2022-09-16 14:54:35,450 - rank - INFO - Rank 0 -- interaction_waiting -- 6.353002390824258e-06\n",
      "2022-09-16 14:54:35,464 - simulator - INFO - CMS: Timestep for rank 0/1 - 6.370852299995022,6.370853662490845 - 2020-05-24 15:00:00\n",
      "\n",
      "2022-09-16 14:54:35,465 - rank - INFO - Next timestep\n",
      "2022-09-16 14:54:35,466 - simulator - INFO - ==================== timestep ====================\n",
      "2022-09-16 14:54:36,647 - rank - INFO - Rank 0 -- move_people -- 1.1801133939879946\n",
      "2022-09-16 14:54:36,650 - rank - INFO - Rank 0 -- move_people_waiting -- 9.199997293762863e-06\n",
      "2022-09-16 14:54:36,651 - activity_manager - INFO - CMS: People COMS for rank 0/1 - 4.9810041673481464e-06,4.291534423828125e-06 - 2020-05-24 17:00:00\n",
      "2022-09-16 14:54:36,659 - simulator - INFO - Info for rank 0, Date = 2020-05-24 17:00:00, number of deaths =  0, number of infected = 226\n",
      "2022-09-16 14:54:36,903 - rank - INFO - Rank 0 -- interaction -- 0.25078342099732254\n",
      "2022-09-16 14:54:36,915 - tracker - INFO - Rank 0 -- tracking contacts -- 500 of 3263 of type shelter\n",
      "2022-09-16 14:54:37,826 - tracker - INFO - Rank 0 -- tracking contacts -- 389 of 389 of type learning_center\n",
      "2022-09-16 14:54:37,842 - tracker - INFO - Rank 0 -- tracking contacts -- 115 of 115 of type communal\n",
      "2022-09-16 14:54:37,847 - tracker - INFO - Rank 0 -- tracking contacts -- 21 of 21 of type distribution_center\n",
      "2022-09-16 14:54:37,909 - tracker - INFO - Rank 0 -- tracking contacts -- 7 of 7 of type e_voucher\n",
      "2022-09-16 14:54:37,929 - tracker - INFO - Rank 0 -- tracking contacts -- 67 of 67 of type female_communal\n",
      "2022-09-16 14:54:37,932 - tracker - INFO - Rank 0 -- tracking contacts -- 80 of 80 of type informal_work\n",
      "2022-09-16 14:54:38,103 - tracker - INFO - Rank 0 -- tracking contacts -- 41 of 41 of type n_f_distribution_center\n",
      "2022-09-16 14:54:38,207 - tracker - INFO - Rank 0 -- tracking contacts -- 500 of 539 of type play_group\n",
      "2022-09-16 14:54:38,809 - tracker - INFO - Rank 0 -- tracking contacts -- 82 of 82 of type pump_latrine\n",
      "2022-09-16 14:54:41,325 - tracker - INFO - Rank 0 -- tracking contacts -- 500 of 2065 of type religious\n",
      "2022-09-16 14:54:41,748 - tracker - INFO - Rank 0 -- tracking contacts -- 8 of 8 of type hospital\n",
      "2022-09-16 14:54:41,750 - tracker - INFO - Rank 0 -- tracking contacts -- 8 of 8 of type isolation_unit\n",
      "2022-09-16 14:54:41,751 - rank - INFO - Rank 0 -- tracker -- 4.846253582989448\n",
      "2022-09-16 14:54:41,755 - epidemiology - INFO - CMS: Infection COMS-v2 for rank 0/1(2)0.0010531379957683384,0.0010523796081542969 - 2020-05-24 17:00:00\n",
      "2022-09-16 14:54:41,799 - rank - INFO - Rank 0 -- interaction_waiting -- 7.64899596106261e-06\n",
      "2022-09-16 14:54:41,814 - simulator - INFO - CMS: Timestep for rank 0/1 - 6.346634498986532,6.346635580062866 - 2020-05-24 17:00:00\n",
      "\n",
      "2022-09-16 14:54:41,815 - rank - INFO - Next timestep\n",
      "2022-09-16 14:54:41,816 - simulator - INFO - ==================== timestep ====================\n",
      "2022-09-16 14:54:42,036 - rank - INFO - Rank 0 -- move_people -- 0.21967222599778324\n",
      "2022-09-16 14:54:42,038 - rank - INFO - Rank 0 -- move_people_waiting -- 4.640998668037355e-06\n",
      "2022-09-16 14:54:42,039 - activity_manager - INFO - CMS: People COMS for rank 0/1 - 3.7600111681967974e-06,3.5762786865234375e-06 - 2020-05-24 19:00:00\n",
      "2022-09-16 14:54:42,045 - simulator - INFO - Info for rank 0, Date = 2020-05-24 19:00:00, number of deaths =  0, number of infected = 230\n",
      "2022-09-16 14:54:42,121 - rank - INFO - Rank 0 -- interaction -- 0.08129174700297881\n",
      "2022-09-16 14:54:42,127 - tracker - INFO - Rank 0 -- tracking contacts -- 500 of 3263 of type shelter\n",
      "2022-09-16 14:54:43,310 - tracker - INFO - Rank 0 -- tracking contacts -- 389 of 389 of type learning_center\n",
      "2022-09-16 14:54:43,327 - tracker - INFO - Rank 0 -- tracking contacts -- 115 of 115 of type communal\n",
      "2022-09-16 14:54:43,331 - tracker - INFO - Rank 0 -- tracking contacts -- 21 of 21 of type distribution_center\n",
      "2022-09-16 14:54:43,333 - tracker - INFO - Rank 0 -- tracking contacts -- 7 of 7 of type e_voucher\n",
      "2022-09-16 14:54:43,334 - tracker - INFO - Rank 0 -- tracking contacts -- 67 of 67 of type female_communal\n",
      "2022-09-16 14:54:43,338 - tracker - INFO - Rank 0 -- tracking contacts -- 80 of 80 of type informal_work\n",
      "2022-09-16 14:54:43,342 - tracker - INFO - Rank 0 -- tracking contacts -- 41 of 41 of type n_f_distribution_center\n",
      "2022-09-16 14:54:43,345 - tracker - INFO - Rank 0 -- tracking contacts -- 500 of 539 of type play_group\n",
      "2022-09-16 14:54:43,355 - tracker - INFO - Rank 0 -- tracking contacts -- 82 of 82 of type pump_latrine\n",
      "2022-09-16 14:54:43,367 - tracker - INFO - Rank 0 -- tracking contacts -- 500 of 2065 of type religious\n",
      "2022-09-16 14:54:43,375 - tracker - INFO - Rank 0 -- tracking contacts -- 8 of 8 of type hospital\n",
      "2022-09-16 14:54:43,376 - tracker - INFO - Rank 0 -- tracking contacts -- 8 of 8 of type isolation_unit\n",
      "2022-09-16 14:54:43,377 - rank - INFO - Rank 0 -- tracker -- 1.2557544199953554\n",
      "2022-09-16 14:54:43,392 - epidemiology - INFO - CMS: Infection COMS-v2 for rank 0/1(2)0.002139571006409824,0.0021386146545410156 - 2020-05-24 19:00:00\n",
      "2022-09-16 14:54:43,432 - rank - INFO - Rank 0 -- interaction_waiting -- 6.2250037444755435e-06\n",
      "2022-09-16 14:54:43,445 - simulator - INFO - CMS: Timestep for rank 0/1 - 1.6287168589915382,1.6287176609039307 - 2020-05-24 19:00:00\n",
      "\n",
      "2022-09-16 14:54:43,448 - rank - INFO - Next timestep\n",
      "2022-09-16 14:54:43,449 - simulator - INFO - ==================== timestep ====================\n",
      "2022-09-16 14:54:43,643 - rank - INFO - Rank 0 -- move_people -- 0.19273145199986175\n",
      "2022-09-16 14:54:43,644 - rank - INFO - Rank 0 -- move_people_waiting -- 8.695002179592848e-06\n",
      "2022-09-16 14:54:43,644 - activity_manager - INFO - CMS: People COMS for rank 0/1 - 3.8769940147176385e-06,3.814697265625e-06 - 2020-05-25 09:00:00\n",
      "2022-09-16 14:54:43,651 - simulator - INFO - Info for rank 0, Date = 2020-05-25 09:00:00, number of deaths =  0, number of infected = 248\n",
      "2022-09-16 14:54:43,728 - rank - INFO - Rank 0 -- interaction -- 0.08241420700505842\n",
      "2022-09-16 14:54:49,664 - tracker - INFO - Rank 0 -- tracking contacts -- 500 of 3263 of type shelter\n",
      "2022-09-16 14:54:51,062 - tracker - INFO - Rank 0 -- tracking contacts -- 389 of 389 of type learning_center\n",
      "2022-09-16 14:54:52,208 - tracker - INFO - Rank 0 -- tracking contacts -- 115 of 115 of type communal\n",
      "2022-09-16 14:54:52,213 - tracker - INFO - Rank 0 -- tracking contacts -- 21 of 21 of type distribution_center\n"
     ]
    },
    {
     "name": "stdout",
     "output_type": "stream",
     "text": [
      "2022-09-16 14:54:52,215 - tracker - INFO - Rank 0 -- tracking contacts -- 7 of 7 of type e_voucher\n",
      "2022-09-16 14:54:52,216 - tracker - INFO - Rank 0 -- tracking contacts -- 67 of 67 of type female_communal\n",
      "2022-09-16 14:54:52,220 - tracker - INFO - Rank 0 -- tracking contacts -- 80 of 80 of type informal_work\n",
      "2022-09-16 14:54:52,225 - tracker - INFO - Rank 0 -- tracking contacts -- 41 of 41 of type n_f_distribution_center\n",
      "2022-09-16 14:54:52,230 - tracker - INFO - Rank 0 -- tracking contacts -- 500 of 539 of type play_group\n",
      "2022-09-16 14:54:52,246 - tracker - INFO - Rank 0 -- tracking contacts -- 82 of 82 of type pump_latrine\n",
      "2022-09-16 14:54:52,263 - tracker - INFO - Rank 0 -- tracking contacts -- 500 of 2065 of type religious\n",
      "2022-09-16 14:54:52,276 - tracker - INFO - Rank 0 -- tracking contacts -- 8 of 8 of type hospital\n",
      "2022-09-16 14:54:52,292 - tracker - INFO - Rank 0 -- tracking contacts -- 8 of 8 of type isolation_unit\n",
      "2022-09-16 14:54:52,293 - rank - INFO - Rank 0 -- tracker -- 8.564075104994117\n",
      "2022-09-16 14:54:52,300 - epidemiology - INFO - CMS: Infection COMS-v2 for rank 0/1(2)0.0004394470015540719,0.0004391670227050781 - 2020-05-25 09:00:00\n",
      "2022-09-16 14:54:52,350 - rank - INFO - Rank 0 -- interaction_waiting -- 7.277005352079868e-06\n",
      "2022-09-16 14:54:52,371 - simulator - INFO - CMS: Timestep for rank 0/1 - 8.921108433001791,8.921109676361084 - 2020-05-25 09:00:00\n",
      "\n",
      "2022-09-16 14:54:52,374 - rank - INFO - Next timestep\n",
      "2022-09-16 14:54:52,375 - simulator - INFO - ==================== timestep ====================\n",
      "2022-09-16 14:54:53,213 - rank - INFO - Rank 0 -- move_people -- 0.8366859050001949\n",
      "2022-09-16 14:54:53,215 - rank - INFO - Rank 0 -- move_people_waiting -- 4.747998900711536e-06\n",
      "2022-09-16 14:54:53,216 - activity_manager - INFO - CMS: People COMS for rank 0/1 - 4.35599940828979e-06,3.814697265625e-06 - 2020-05-25 11:00:00\n",
      "2022-09-16 14:54:53,223 - simulator - INFO - Info for rank 0, Date = 2020-05-25 11:00:00, number of deaths =  0, number of infected = 256\n",
      "2022-09-16 14:54:53,384 - rank - INFO - Rank 0 -- interaction -- 0.16689867999230046\n",
      "2022-09-16 14:54:54,638 - tracker - INFO - Rank 0 -- tracking contacts -- 500 of 3263 of type shelter\n",
      "2022-09-16 14:54:55,138 - tracker - INFO - Rank 0 -- tracking contacts -- 389 of 389 of type learning_center\n",
      "2022-09-16 14:54:56,128 - tracker - INFO - Rank 0 -- tracking contacts -- 115 of 115 of type communal\n",
      "2022-09-16 14:54:56,162 - tracker - INFO - Rank 0 -- tracking contacts -- 21 of 21 of type distribution_center\n",
      "2022-09-16 14:54:56,200 - tracker - INFO - Rank 0 -- tracking contacts -- 7 of 7 of type e_voucher\n",
      "2022-09-16 14:54:56,209 - tracker - INFO - Rank 0 -- tracking contacts -- 67 of 67 of type female_communal\n",
      "2022-09-16 14:54:56,255 - tracker - INFO - Rank 0 -- tracking contacts -- 80 of 80 of type informal_work\n",
      "2022-09-16 14:54:56,344 - tracker - INFO - Rank 0 -- tracking contacts -- 41 of 41 of type n_f_distribution_center\n",
      "2022-09-16 14:54:56,403 - tracker - INFO - Rank 0 -- tracking contacts -- 500 of 539 of type play_group\n",
      "2022-09-16 14:54:56,730 - tracker - INFO - Rank 0 -- tracking contacts -- 82 of 82 of type pump_latrine\n",
      "2022-09-16 14:54:58,729 - tracker - INFO - Rank 0 -- tracking contacts -- 500 of 2065 of type religious\n",
      "2022-09-16 14:54:58,960 - tracker - INFO - Rank 0 -- tracking contacts -- 8 of 8 of type hospital\n",
      "2022-09-16 14:54:58,977 - tracker - INFO - Rank 0 -- tracking contacts -- 8 of 8 of type isolation_unit\n",
      "2022-09-16 14:54:58,980 - rank - INFO - Rank 0 -- tracker -- 5.595125191000989\n",
      "2022-09-16 14:54:58,987 - epidemiology - INFO - CMS: Infection COMS-v2 for rank 0/1(2)0.001031769992550835,0.001031637191772461 - 2020-05-25 11:00:00\n",
      "2022-09-16 14:54:59,292 - rank - INFO - Rank 0 -- interaction_waiting -- 7.270005880855024e-06\n",
      "2022-09-16 14:54:59,312 - simulator - INFO - CMS: Timestep for rank 0/1 - 6.935119207002572,6.935120105743408 - 2020-05-25 11:00:00\n",
      "\n",
      "2022-09-16 14:54:59,315 - rank - INFO - Next timestep\n",
      "2022-09-16 14:54:59,316 - simulator - INFO - ==================== timestep ====================\n",
      "2022-09-16 14:55:00,312 - rank - INFO - Rank 0 -- move_people -- 0.9950011239998275\n",
      "2022-09-16 14:55:00,313 - rank - INFO - Rank 0 -- move_people_waiting -- 9.393988875672221e-06\n",
      "2022-09-16 14:55:00,314 - activity_manager - INFO - CMS: People COMS for rank 0/1 - 5.160007276572287e-06,4.5299530029296875e-06 - 2020-05-25 13:00:00\n",
      "2022-09-16 14:55:00,323 - simulator - INFO - Info for rank 0, Date = 2020-05-25 13:00:00, number of deaths =  0, number of infected = 263\n",
      "2022-09-16 14:55:00,583 - rank - INFO - Rank 0 -- interaction -- 0.2674256960017374\n",
      "2022-09-16 14:55:04,305 - tracker - INFO - Rank 0 -- tracking contacts -- 500 of 3263 of type shelter\n",
      "2022-09-16 14:55:04,904 - tracker - INFO - Rank 0 -- tracking contacts -- 389 of 389 of type learning_center\n",
      "2022-09-16 14:55:06,170 - tracker - INFO - Rank 0 -- tracking contacts -- 115 of 115 of type communal\n",
      "2022-09-16 14:55:06,199 - tracker - INFO - Rank 0 -- tracking contacts -- 21 of 21 of type distribution_center\n",
      "2022-09-16 14:55:06,239 - tracker - INFO - Rank 0 -- tracking contacts -- 7 of 7 of type e_voucher\n",
      "2022-09-16 14:55:06,253 - tracker - INFO - Rank 0 -- tracking contacts -- 67 of 67 of type female_communal\n",
      "2022-09-16 14:55:06,319 - tracker - INFO - Rank 0 -- tracking contacts -- 80 of 80 of type informal_work\n",
      "2022-09-16 14:55:06,434 - tracker - INFO - Rank 0 -- tracking contacts -- 41 of 41 of type n_f_distribution_center\n",
      "2022-09-16 14:55:06,488 - tracker - INFO - Rank 0 -- tracking contacts -- 500 of 539 of type play_group\n",
      "2022-09-16 14:55:06,847 - tracker - INFO - Rank 0 -- tracking contacts -- 82 of 82 of type pump_latrine\n",
      "2022-09-16 14:55:08,784 - tracker - INFO - Rank 0 -- tracking contacts -- 500 of 2065 of type religious\n",
      "2022-09-16 14:55:08,987 - tracker - INFO - Rank 0 -- tracking contacts -- 8 of 8 of type hospital\n",
      "2022-09-16 14:55:08,999 - tracker - INFO - Rank 0 -- tracking contacts -- 8 of 8 of type isolation_unit\n",
      "2022-09-16 14:55:09,000 - rank - INFO - Rank 0 -- tracker -- 8.415138399999705\n",
      "2022-09-16 14:55:09,004 - epidemiology - INFO - CMS: Infection COMS-v2 for rank 0/1(2)0.000933723000343889,0.0009334087371826172 - 2020-05-25 13:00:00\n",
      "2022-09-16 14:55:09,040 - rank - INFO - Rank 0 -- interaction_waiting -- 7.220005500130355e-06\n",
      "2022-09-16 14:55:09,055 - simulator - INFO - CMS: Timestep for rank 0/1 - 9.738010075001512,9.738011360168457 - 2020-05-25 13:00:00\n",
      "\n",
      "2022-09-16 14:55:09,058 - rank - INFO - Next timestep\n",
      "2022-09-16 14:55:09,059 - simulator - INFO - ==================== timestep ====================\n",
      "2022-09-16 14:55:10,047 - rank - INFO - Rank 0 -- move_people -- 0.9871177680033725\n",
      "2022-09-16 14:55:10,048 - rank - INFO - Rank 0 -- move_people_waiting -- 8.781003998592496e-06\n",
      "2022-09-16 14:55:10,049 - activity_manager - INFO - CMS: People COMS for rank 0/1 - 4.126006388105452e-06,3.814697265625e-06 - 2020-05-25 15:00:00\n",
      "2022-09-16 14:55:10,057 - simulator - INFO - Info for rank 0, Date = 2020-05-25 15:00:00, number of deaths =  0, number of infected = 268\n",
      "2022-09-16 14:55:10,206 - rank - INFO - Rank 0 -- interaction -- 0.15616010800295044\n",
      "2022-09-16 14:55:14,297 - tracker - INFO - Rank 0 -- tracking contacts -- 500 of 3263 of type shelter\n",
      "2022-09-16 14:55:14,764 - tracker - INFO - Rank 0 -- tracking contacts -- 389 of 389 of type learning_center\n",
      "2022-09-16 14:55:15,714 - tracker - INFO - Rank 0 -- tracking contacts -- 115 of 115 of type communal\n",
      "2022-09-16 14:55:15,749 - tracker - INFO - Rank 0 -- tracking contacts -- 21 of 21 of type distribution_center\n",
      "2022-09-16 14:55:15,781 - tracker - INFO - Rank 0 -- tracking contacts -- 7 of 7 of type e_voucher\n",
      "2022-09-16 14:55:15,799 - tracker - INFO - Rank 0 -- tracking contacts -- 67 of 67 of type female_communal\n",
      "2022-09-16 14:55:15,866 - tracker - INFO - Rank 0 -- tracking contacts -- 80 of 80 of type informal_work\n",
      "2022-09-16 14:55:15,967 - tracker - INFO - Rank 0 -- tracking contacts -- 41 of 41 of type n_f_distribution_center\n",
      "2022-09-16 14:55:16,030 - tracker - INFO - Rank 0 -- tracking contacts -- 500 of 539 of type play_group\n",
      "2022-09-16 14:55:16,485 - tracker - INFO - Rank 0 -- tracking contacts -- 82 of 82 of type pump_latrine\n"
     ]
    },
    {
     "name": "stdout",
     "output_type": "stream",
     "text": [
      "2022-09-16 14:55:19,731 - tracker - INFO - Rank 0 -- tracking contacts -- 500 of 2065 of type religious\n",
      "2022-09-16 14:55:20,049 - tracker - INFO - Rank 0 -- tracking contacts -- 8 of 8 of type hospital\n",
      "2022-09-16 14:55:20,066 - tracker - INFO - Rank 0 -- tracking contacts -- 8 of 8 of type isolation_unit\n",
      "2022-09-16 14:55:20,067 - rank - INFO - Rank 0 -- tracker -- 9.85964728599356\n",
      "2022-09-16 14:55:20,075 - epidemiology - INFO - CMS: Infection COMS-v2 for rank 0/1(2)0.0010557089990470558,0.001054525375366211 - 2020-05-25 15:00:00\n",
      "2022-09-16 14:55:20,130 - rank - INFO - Rank 0 -- interaction_waiting -- 8.59999272506684e-06\n",
      "2022-09-16 14:55:20,153 - simulator - INFO - CMS: Timestep for rank 0/1 - 11.092811138994875,11.092812061309814 - 2020-05-25 15:00:00\n",
      "\n",
      "2022-09-16 14:55:20,156 - rank - INFO - Next timestep\n",
      "2022-09-16 14:55:20,157 - simulator - INFO - ==================== timestep ====================\n",
      "2022-09-16 14:55:21,633 - rank - INFO - Rank 0 -- move_people -- 1.4750502780079842\n",
      "2022-09-16 14:55:21,636 - rank - INFO - Rank 0 -- move_people_waiting -- 7.969007128849626e-06\n",
      "2022-09-16 14:55:21,638 - activity_manager - INFO - CMS: People COMS for rank 0/1 - 4.831003025174141e-06,4.0531158447265625e-06 - 2020-05-25 17:00:00\n",
      "2022-09-16 14:55:21,647 - simulator - INFO - Info for rank 0, Date = 2020-05-25 17:00:00, number of deaths =  0, number of infected = 276\n",
      "2022-09-16 14:55:21,834 - rank - INFO - Rank 0 -- interaction -- 0.19526291299553122\n",
      "2022-09-16 14:55:27,571 - tracker - INFO - Rank 0 -- tracking contacts -- 500 of 3263 of type shelter\n",
      "2022-09-16 14:55:28,169 - tracker - INFO - Rank 0 -- tracking contacts -- 389 of 389 of type learning_center\n",
      "2022-09-16 14:55:28,180 - tracker - INFO - Rank 0 -- tracking contacts -- 115 of 115 of type communal\n",
      "2022-09-16 14:55:28,184 - tracker - INFO - Rank 0 -- tracking contacts -- 21 of 21 of type distribution_center\n",
      "2022-09-16 14:55:28,213 - tracker - INFO - Rank 0 -- tracking contacts -- 7 of 7 of type e_voucher\n",
      "2022-09-16 14:55:28,230 - tracker - INFO - Rank 0 -- tracking contacts -- 67 of 67 of type female_communal\n",
      "2022-09-16 14:55:28,234 - tracker - INFO - Rank 0 -- tracking contacts -- 80 of 80 of type informal_work\n",
      "2022-09-16 14:55:28,398 - tracker - INFO - Rank 0 -- tracking contacts -- 41 of 41 of type n_f_distribution_center\n",
      "2022-09-16 14:55:28,494 - tracker - INFO - Rank 0 -- tracking contacts -- 500 of 539 of type play_group\n",
      "2022-09-16 14:55:29,065 - tracker - INFO - Rank 0 -- tracking contacts -- 82 of 82 of type pump_latrine\n",
      "2022-09-16 14:55:32,245 - tracker - INFO - Rank 0 -- tracking contacts -- 500 of 2065 of type religious\n",
      "2022-09-16 14:55:32,612 - tracker - INFO - Rank 0 -- tracking contacts -- 8 of 8 of type hospital\n",
      "2022-09-16 14:55:32,614 - tracker - INFO - Rank 0 -- tracking contacts -- 8 of 8 of type isolation_unit\n",
      "2022-09-16 14:55:32,615 - rank - INFO - Rank 0 -- tracker -- 10.77822309700423\n",
      "2022-09-16 14:55:32,623 - epidemiology - INFO - CMS: Infection COMS-v2 for rank 0/1(2)0.0009000779973575845,0.0008993148803710938 - 2020-05-25 17:00:00\n",
      "2022-09-16 14:55:32,657 - rank - INFO - Rank 0 -- interaction_waiting -- 7.208989700302482e-06\n",
      "2022-09-16 14:55:32,670 - simulator - INFO - CMS: Timestep for rank 0/1 - 12.512028502998874,12.512028932571411 - 2020-05-25 17:00:00\n",
      "\n",
      "2022-09-16 14:55:32,673 - rank - INFO - Next timestep\n",
      "2022-09-16 14:55:32,674 - simulator - INFO - ==================== timestep ====================\n",
      "2022-09-16 14:55:32,837 - rank - INFO - Rank 0 -- move_people -- 0.16244435499538668\n",
      "2022-09-16 14:55:32,838 - rank - INFO - Rank 0 -- move_people_waiting -- 7.2920083766803145e-06\n",
      "2022-09-16 14:55:32,839 - activity_manager - INFO - CMS: People COMS for rank 0/1 - 5.490001058205962e-06,5.245208740234375e-06 - 2020-05-25 19:00:00\n",
      "2022-09-16 14:55:32,847 - simulator - INFO - Info for rank 0, Date = 2020-05-25 19:00:00, number of deaths =  0, number of infected = 286\n",
      "2022-09-16 14:55:32,955 - rank - INFO - Rank 0 -- interaction -- 0.11547415899985936\n",
      "2022-09-16 14:55:38,510 - tracker - INFO - Rank 0 -- tracking contacts -- 500 of 3263 of type shelter\n",
      "2022-09-16 14:55:39,657 - tracker - INFO - Rank 0 -- tracking contacts -- 389 of 389 of type learning_center\n",
      "2022-09-16 14:55:39,667 - tracker - INFO - Rank 0 -- tracking contacts -- 115 of 115 of type communal\n",
      "2022-09-16 14:55:39,671 - tracker - INFO - Rank 0 -- tracking contacts -- 21 of 21 of type distribution_center\n",
      "2022-09-16 14:55:39,673 - tracker - INFO - Rank 0 -- tracking contacts -- 7 of 7 of type e_voucher\n",
      "2022-09-16 14:55:39,674 - tracker - INFO - Rank 0 -- tracking contacts -- 67 of 67 of type female_communal\n",
      "2022-09-16 14:55:39,678 - tracker - INFO - Rank 0 -- tracking contacts -- 80 of 80 of type informal_work\n",
      "2022-09-16 14:55:39,682 - tracker - INFO - Rank 0 -- tracking contacts -- 41 of 41 of type n_f_distribution_center\n",
      "2022-09-16 14:55:39,686 - tracker - INFO - Rank 0 -- tracking contacts -- 500 of 539 of type play_group\n",
      "2022-09-16 14:55:39,702 - tracker - INFO - Rank 0 -- tracking contacts -- 82 of 82 of type pump_latrine\n",
      "2022-09-16 14:55:39,721 - tracker - INFO - Rank 0 -- tracking contacts -- 500 of 2065 of type religious\n",
      "2022-09-16 14:55:39,734 - tracker - INFO - Rank 0 -- tracking contacts -- 8 of 8 of type hospital\n",
      "2022-09-16 14:55:39,736 - tracker - INFO - Rank 0 -- tracking contacts -- 8 of 8 of type isolation_unit\n",
      "2022-09-16 14:55:39,739 - rank - INFO - Rank 0 -- tracker -- 6.7823896019981476\n",
      "2022-09-16 14:55:39,759 - epidemiology - INFO - CMS: Infection COMS-v2 for rank 0/1(2)0.0008897329971659929,0.0008895397186279297 - 2020-05-25 19:00:00\n",
      "2022-09-16 14:55:39,794 - rank - INFO - Rank 0 -- interaction_waiting -- 7.856011507101357e-06\n",
      "2022-09-16 14:55:39,808 - simulator - INFO - CMS: Timestep for rank 0/1 - 7.133469773994875,7.133470773696899 - 2020-05-25 19:00:00\n",
      "\n",
      "2022-09-16 14:55:39,811 - rank - INFO - Next timestep\n",
      "2022-09-16 14:55:39,812 - simulator - INFO - ==================== timestep ====================\n",
      "2022-09-16 14:55:40,012 - rank - INFO - Rank 0 -- move_people -- 0.19919910198950674\n",
      "2022-09-16 14:55:40,013 - rank - INFO - Rank 0 -- move_people_waiting -- 5.269001121632755e-06\n",
      "2022-09-16 14:55:40,014 - activity_manager - INFO - CMS: People COMS for rank 0/1 - 5.055990186519921e-06,4.5299530029296875e-06 - 2020-05-26 09:00:00\n",
      "2022-09-16 14:55:40,021 - simulator - INFO - Info for rank 0, Date = 2020-05-26 09:00:00, number of deaths =  0, number of infected = 329\n",
      "2022-09-16 14:55:40,109 - rank - INFO - Rank 0 -- interaction -- 0.0939119539980311\n",
      "2022-09-16 14:55:46,293 - tracker - INFO - Rank 0 -- tracking contacts -- 500 of 3263 of type shelter\n",
      "2022-09-16 14:55:47,667 - tracker - INFO - Rank 0 -- tracking contacts -- 389 of 389 of type learning_center\n",
      "2022-09-16 14:55:48,727 - tracker - INFO - Rank 0 -- tracking contacts -- 115 of 115 of type communal\n",
      "2022-09-16 14:55:48,731 - tracker - INFO - Rank 0 -- tracking contacts -- 21 of 21 of type distribution_center\n",
      "2022-09-16 14:55:48,733 - tracker - INFO - Rank 0 -- tracking contacts -- 7 of 7 of type e_voucher\n",
      "2022-09-16 14:55:48,734 - tracker - INFO - Rank 0 -- tracking contacts -- 67 of 67 of type female_communal\n",
      "2022-09-16 14:55:48,739 - tracker - INFO - Rank 0 -- tracking contacts -- 80 of 80 of type informal_work\n",
      "2022-09-16 14:55:48,743 - tracker - INFO - Rank 0 -- tracking contacts -- 41 of 41 of type n_f_distribution_center\n",
      "2022-09-16 14:55:48,748 - tracker - INFO - Rank 0 -- tracking contacts -- 500 of 539 of type play_group\n",
      "2022-09-16 14:55:48,765 - tracker - INFO - Rank 0 -- tracking contacts -- 82 of 82 of type pump_latrine\n",
      "2022-09-16 14:55:48,783 - tracker - INFO - Rank 0 -- tracking contacts -- 500 of 2065 of type religious\n",
      "2022-09-16 14:55:48,796 - tracker - INFO - Rank 0 -- tracking contacts -- 8 of 8 of type hospital\n",
      "2022-09-16 14:55:48,812 - tracker - INFO - Rank 0 -- tracking contacts -- 8 of 8 of type isolation_unit\n",
      "2022-09-16 14:55:48,813 - rank - INFO - Rank 0 -- tracker -- 8.7029819439922\n",
      "2022-09-16 14:55:48,821 - epidemiology - INFO - CMS: Infection COMS-v2 for rank 0/1(2)0.0004071970033692196,0.0004069805145263672 - 2020-05-26 09:00:00\n",
      "2022-09-16 14:55:48,876 - rank - INFO - Rank 0 -- interaction_waiting -- 8.136994438245893e-06\n"
     ]
    },
    {
     "name": "stdout",
     "output_type": "stream",
     "text": [
      "2022-09-16 14:55:48,896 - simulator - INFO - CMS: Timestep for rank 0/1 - 9.08308272800059,9.083083868026733 - 2020-05-26 09:00:00\n",
      "\n",
      "2022-09-16 14:55:48,899 - rank - INFO - Next timestep\n",
      "2022-09-16 14:55:48,900 - simulator - INFO - ==================== timestep ====================\n",
      "2022-09-16 14:55:50,147 - rank - INFO - Rank 0 -- move_people -- 1.2460013660020195\n",
      "2022-09-16 14:55:50,148 - rank - INFO - Rank 0 -- move_people_waiting -- 9.85100632533431e-06\n",
      "2022-09-16 14:55:50,149 - activity_manager - INFO - CMS: People COMS for rank 0/1 - 5.159992724657059e-06,4.76837158203125e-06 - 2020-05-26 11:00:00\n",
      "2022-09-16 14:55:50,158 - simulator - INFO - Info for rank 0, Date = 2020-05-26 11:00:00, number of deaths =  0, number of infected = 339\n",
      "2022-09-16 14:55:50,331 - rank - INFO - Rank 0 -- interaction -- 0.18027695699129254\n",
      "2022-09-16 14:55:51,521 - tracker - INFO - Rank 0 -- tracking contacts -- 500 of 3263 of type shelter\n",
      "2022-09-16 14:55:52,005 - tracker - INFO - Rank 0 -- tracking contacts -- 389 of 389 of type learning_center\n",
      "2022-09-16 14:55:52,980 - tracker - INFO - Rank 0 -- tracking contacts -- 115 of 115 of type communal\n",
      "2022-09-16 14:55:53,001 - tracker - INFO - Rank 0 -- tracking contacts -- 21 of 21 of type distribution_center\n",
      "2022-09-16 14:55:53,042 - tracker - INFO - Rank 0 -- tracking contacts -- 7 of 7 of type e_voucher\n",
      "2022-09-16 14:55:53,053 - tracker - INFO - Rank 0 -- tracking contacts -- 67 of 67 of type female_communal\n",
      "2022-09-16 14:55:53,099 - tracker - INFO - Rank 0 -- tracking contacts -- 80 of 80 of type informal_work\n",
      "2022-09-16 14:55:53,185 - tracker - INFO - Rank 0 -- tracking contacts -- 41 of 41 of type n_f_distribution_center\n",
      "2022-09-16 14:55:53,247 - tracker - INFO - Rank 0 -- tracking contacts -- 500 of 539 of type play_group\n",
      "2022-09-16 14:55:53,539 - tracker - INFO - Rank 0 -- tracking contacts -- 82 of 82 of type pump_latrine\n",
      "2022-09-16 14:55:55,724 - tracker - INFO - Rank 0 -- tracking contacts -- 500 of 2065 of type religious\n",
      "2022-09-16 14:55:56,152 - tracker - INFO - Rank 0 -- tracking contacts -- 8 of 8 of type hospital\n",
      "2022-09-16 14:55:56,171 - tracker - INFO - Rank 0 -- tracking contacts -- 8 of 8 of type isolation_unit\n",
      "2022-09-16 14:55:56,173 - rank - INFO - Rank 0 -- tracker -- 5.84051673700742\n",
      "2022-09-16 14:55:56,181 - epidemiology - INFO - CMS: Infection COMS-v2 for rank 0/1(2)0.0009794000070542097,0.0009784698486328125 - 2020-05-26 11:00:00\n",
      "2022-09-16 14:55:56,245 - rank - INFO - Rank 0 -- interaction_waiting -- 8.720991900190711e-06\n",
      "2022-09-16 14:55:56,271 - simulator - INFO - CMS: Timestep for rank 0/1 - 7.369770518998848,7.369771480560303 - 2020-05-26 11:00:00\n",
      "\n",
      "2022-09-16 14:55:56,274 - rank - INFO - Next timestep\n",
      "2022-09-16 14:55:56,275 - simulator - INFO - ==================== timestep ====================\n",
      "2022-09-16 14:55:57,551 - rank - INFO - Rank 0 -- move_people -- 1.2746442119969288\n",
      "2022-09-16 14:55:57,552 - rank - INFO - Rank 0 -- move_people_waiting -- 9.948998922482133e-06\n",
      "2022-09-16 14:55:57,553 - activity_manager - INFO - CMS: People COMS for rank 0/1 - 5.236986908130348e-06,4.5299530029296875e-06 - 2020-05-26 13:00:00\n",
      "2022-09-16 14:55:57,561 - simulator - INFO - Info for rank 0, Date = 2020-05-26 13:00:00, number of deaths =  0, number of infected = 346\n",
      "2022-09-16 14:55:57,808 - rank - INFO - Rank 0 -- interaction -- 0.2542172940011369\n",
      "2022-09-16 14:56:01,457 - tracker - INFO - Rank 0 -- tracking contacts -- 500 of 3263 of type shelter\n",
      "2022-09-16 14:56:01,899 - tracker - INFO - Rank 0 -- tracking contacts -- 389 of 389 of type learning_center\n",
      "2022-09-16 14:56:02,838 - tracker - INFO - Rank 0 -- tracking contacts -- 115 of 115 of type communal\n",
      "2022-09-16 14:56:02,866 - tracker - INFO - Rank 0 -- tracking contacts -- 21 of 21 of type distribution_center\n",
      "2022-09-16 14:56:02,895 - tracker - INFO - Rank 0 -- tracking contacts -- 7 of 7 of type e_voucher\n",
      "2022-09-16 14:56:02,905 - tracker - INFO - Rank 0 -- tracking contacts -- 67 of 67 of type female_communal\n",
      "2022-09-16 14:56:02,958 - tracker - INFO - Rank 0 -- tracking contacts -- 80 of 80 of type informal_work\n",
      "2022-09-16 14:56:03,045 - tracker - INFO - Rank 0 -- tracking contacts -- 41 of 41 of type n_f_distribution_center\n",
      "2022-09-16 14:56:03,121 - tracker - INFO - Rank 0 -- tracking contacts -- 500 of 539 of type play_group\n",
      "2022-09-16 14:56:03,419 - tracker - INFO - Rank 0 -- tracking contacts -- 82 of 82 of type pump_latrine\n",
      "2022-09-16 14:56:05,501 - tracker - INFO - Rank 0 -- tracking contacts -- 500 of 2065 of type religious\n",
      "2022-09-16 14:56:05,815 - tracker - INFO - Rank 0 -- tracking contacts -- 8 of 8 of type hospital\n",
      "2022-09-16 14:56:05,831 - tracker - INFO - Rank 0 -- tracking contacts -- 8 of 8 of type isolation_unit\n",
      "2022-09-16 14:56:05,832 - rank - INFO - Rank 0 -- tracker -- 8.02227784099523\n",
      "2022-09-16 14:56:05,846 - epidemiology - INFO - CMS: Infection COMS-v2 for rank 0/1(2)0.0003385660093044862,0.0003380775451660156 - 2020-05-26 13:00:00\n",
      "2022-09-16 14:56:05,899 - rank - INFO - Rank 0 -- interaction_waiting -- 7.9809979069978e-06\n",
      "2022-09-16 14:56:05,920 - simulator - INFO - CMS: Timestep for rank 0/1 - 9.643646366006578,9.643647193908691 - 2020-05-26 13:00:00\n",
      "\n",
      "2022-09-16 14:56:05,923 - rank - INFO - Next timestep\n",
      "2022-09-16 14:56:05,925 - simulator - INFO - ==================== timestep ====================\n",
      "2022-09-16 14:56:07,180 - rank - INFO - Rank 0 -- move_people -- 1.2543422910093796\n",
      "2022-09-16 14:56:07,181 - rank - INFO - Rank 0 -- move_people_waiting -- 1.0474002920091152e-05\n",
      "2022-09-16 14:56:07,182 - activity_manager - INFO - CMS: People COMS for rank 0/1 - 4.868998075835407e-06,4.5299530029296875e-06 - 2020-05-26 15:00:00\n",
      "2022-09-16 14:56:07,191 - simulator - INFO - Info for rank 0, Date = 2020-05-26 15:00:00, number of deaths =  0, number of infected = 365\n",
      "2022-09-16 14:56:07,456 - rank - INFO - Rank 0 -- interaction -- 0.2720980690064607\n",
      "2022-09-16 14:56:11,698 - tracker - INFO - Rank 0 -- tracking contacts -- 500 of 3263 of type shelter\n",
      "2022-09-16 14:56:12,343 - tracker - INFO - Rank 0 -- tracking contacts -- 389 of 389 of type learning_center\n",
      "2022-09-16 14:56:13,445 - tracker - INFO - Rank 0 -- tracking contacts -- 115 of 115 of type communal\n",
      "2022-09-16 14:56:13,471 - tracker - INFO - Rank 0 -- tracking contacts -- 21 of 21 of type distribution_center\n",
      "2022-09-16 14:56:13,503 - tracker - INFO - Rank 0 -- tracking contacts -- 7 of 7 of type e_voucher\n",
      "2022-09-16 14:56:13,516 - tracker - INFO - Rank 0 -- tracking contacts -- 67 of 67 of type female_communal\n",
      "2022-09-16 14:56:13,568 - tracker - INFO - Rank 0 -- tracking contacts -- 80 of 80 of type informal_work\n",
      "2022-09-16 14:56:13,667 - tracker - INFO - Rank 0 -- tracking contacts -- 41 of 41 of type n_f_distribution_center\n",
      "2022-09-16 14:56:13,721 - tracker - INFO - Rank 0 -- tracking contacts -- 500 of 539 of type play_group\n",
      "2022-09-16 14:56:14,074 - tracker - INFO - Rank 0 -- tracking contacts -- 82 of 82 of type pump_latrine\n",
      "2022-09-16 14:56:16,641 - tracker - INFO - Rank 0 -- tracking contacts -- 500 of 2065 of type religious\n",
      "2022-09-16 14:56:16,991 - tracker - INFO - Rank 0 -- tracking contacts -- 8 of 8 of type hospital\n",
      "2022-09-16 14:56:17,011 - tracker - INFO - Rank 0 -- tracking contacts -- 8 of 8 of type isolation_unit\n",
      "2022-09-16 14:56:17,013 - rank - INFO - Rank 0 -- tracker -- 9.556240539997816\n",
      "2022-09-16 14:56:17,030 - epidemiology - INFO - CMS: Infection COMS-v2 for rank 0/1(2)0.0016910849954001606,0.001689910888671875 - 2020-05-26 15:00:00\n",
      "2022-09-16 14:56:17,119 - rank - INFO - Rank 0 -- interaction_waiting -- 4.1758990846574306e-05\n",
      "2022-09-16 14:56:17,141 - simulator - INFO - CMS: Timestep for rank 0/1 - 11.215459061000729,11.215460777282715 - 2020-05-26 15:00:00\n",
      "\n",
      "2022-09-16 14:56:17,145 - rank - INFO - Next timestep\n",
      "2022-09-16 14:56:17,146 - simulator - INFO - ==================== timestep ====================\n",
      "2022-09-16 14:56:18,431 - rank - INFO - Rank 0 -- move_people -- 1.2831611919973511\n",
      "2022-09-16 14:56:18,433 - rank - INFO - Rank 0 -- move_people_waiting -- 5.228997906669974e-06\n",
      "2022-09-16 14:56:18,434 - activity_manager - INFO - CMS: People COMS for rank 0/1 - 3.6529963836073875e-06,3.0994415283203125e-06 - 2020-05-26 17:00:00\n",
      "2022-09-16 14:56:18,443 - simulator - INFO - Info for rank 0, Date = 2020-05-26 17:00:00, number of deaths =  0, number of infected = 379\n"
     ]
    },
    {
     "name": "stdout",
     "output_type": "stream",
     "text": [
      "2022-09-16 14:56:18,769 - rank - INFO - Rank 0 -- interaction -- 0.3341189919883618\n",
      "2022-09-16 14:56:28,412 - tracker - INFO - Rank 0 -- tracking contacts -- 500 of 3263 of type shelter\n",
      "2022-09-16 14:56:29,352 - tracker - INFO - Rank 0 -- tracking contacts -- 389 of 389 of type learning_center\n",
      "2022-09-16 14:56:29,371 - tracker - INFO - Rank 0 -- tracking contacts -- 115 of 115 of type communal\n",
      "2022-09-16 14:56:29,374 - tracker - INFO - Rank 0 -- tracking contacts -- 21 of 21 of type distribution_center\n",
      "2022-09-16 14:56:29,442 - tracker - INFO - Rank 0 -- tracking contacts -- 7 of 7 of type e_voucher\n",
      "2022-09-16 14:56:29,462 - tracker - INFO - Rank 0 -- tracking contacts -- 67 of 67 of type female_communal\n",
      "2022-09-16 14:56:29,468 - tracker - INFO - Rank 0 -- tracking contacts -- 80 of 80 of type informal_work\n",
      "2022-09-16 14:56:29,626 - tracker - INFO - Rank 0 -- tracking contacts -- 41 of 41 of type n_f_distribution_center\n",
      "2022-09-16 14:56:29,730 - tracker - INFO - Rank 0 -- tracking contacts -- 500 of 539 of type play_group\n",
      "2022-09-16 14:56:30,278 - tracker - INFO - Rank 0 -- tracking contacts -- 82 of 82 of type pump_latrine\n",
      "2022-09-16 14:56:34,296 - tracker - INFO - Rank 0 -- tracking contacts -- 500 of 2065 of type religious\n",
      "2022-09-16 14:56:34,735 - tracker - INFO - Rank 0 -- tracking contacts -- 8 of 8 of type hospital\n",
      "2022-09-16 14:56:34,737 - tracker - INFO - Rank 0 -- tracking contacts -- 8 of 8 of type isolation_unit\n",
      "2022-09-16 14:56:34,738 - rank - INFO - Rank 0 -- tracker -- 15.967831173999002\n",
      "2022-09-16 14:56:34,747 - epidemiology - INFO - CMS: Infection COMS-v2 for rank 0/1(2)0.001272493987926282,0.0012729167938232422 - 2020-05-26 17:00:00\n",
      "2022-09-16 14:56:34,802 - rank - INFO - Rank 0 -- interaction_waiting -- 8.884991984814405e-06\n",
      "2022-09-16 14:56:34,826 - simulator - INFO - CMS: Timestep for rank 0/1 - 17.677798176999204,17.6777982711792 - 2020-05-26 17:00:00\n",
      "\n",
      "2022-09-16 14:56:34,829 - rank - INFO - Next timestep\n",
      "2022-09-16 14:56:34,830 - simulator - INFO - ==================== timestep ====================\n",
      "2022-09-16 14:56:35,141 - rank - INFO - Rank 0 -- move_people -- 0.31039641599636525\n",
      "2022-09-16 14:56:35,142 - rank - INFO - Rank 0 -- move_people_waiting -- 1.2670003343373537e-05\n",
      "2022-09-16 14:56:35,144 - activity_manager - INFO - CMS: People COMS for rank 0/1 - 4.896995960734785e-06,4.291534423828125e-06 - 2020-05-26 19:00:00\n",
      "2022-09-16 14:56:35,153 - simulator - INFO - Info for rank 0, Date = 2020-05-26 19:00:00, number of deaths =  0, number of infected = 388\n",
      "2022-09-16 14:56:35,358 - rank - INFO - Rank 0 -- interaction -- 0.2129616729944246\n",
      "2022-09-16 14:56:42,860 - tracker - INFO - Rank 0 -- tracking contacts -- 500 of 3263 of type shelter\n",
      "2022-09-16 14:56:44,446 - tracker - INFO - Rank 0 -- tracking contacts -- 389 of 389 of type learning_center\n",
      "2022-09-16 14:56:44,463 - tracker - INFO - Rank 0 -- tracking contacts -- 115 of 115 of type communal\n",
      "2022-09-16 14:56:44,468 - tracker - INFO - Rank 0 -- tracking contacts -- 21 of 21 of type distribution_center\n",
      "2022-09-16 14:56:44,470 - tracker - INFO - Rank 0 -- tracking contacts -- 7 of 7 of type e_voucher\n",
      "2022-09-16 14:56:44,472 - tracker - INFO - Rank 0 -- tracking contacts -- 67 of 67 of type female_communal\n",
      "2022-09-16 14:56:44,476 - tracker - INFO - Rank 0 -- tracking contacts -- 80 of 80 of type informal_work\n",
      "2022-09-16 14:56:44,480 - tracker - INFO - Rank 0 -- tracking contacts -- 41 of 41 of type n_f_distribution_center\n",
      "2022-09-16 14:56:44,485 - tracker - INFO - Rank 0 -- tracking contacts -- 500 of 539 of type play_group\n",
      "2022-09-16 14:56:44,505 - tracker - INFO - Rank 0 -- tracking contacts -- 82 of 82 of type pump_latrine\n",
      "2022-09-16 14:56:44,527 - tracker - INFO - Rank 0 -- tracking contacts -- 500 of 2065 of type religious\n",
      "2022-09-16 14:56:44,544 - tracker - INFO - Rank 0 -- tracking contacts -- 8 of 8 of type hospital\n",
      "2022-09-16 14:56:44,546 - tracker - INFO - Rank 0 -- tracking contacts -- 8 of 8 of type isolation_unit\n",
      "2022-09-16 14:56:44,548 - rank - INFO - Rank 0 -- tracker -- 9.18829724099487\n",
      "2022-09-16 14:56:44,597 - epidemiology - INFO - CMS: Infection COMS-v2 for rank 0/1(2)0.00041344699275214225,0.00041174888610839844 - 2020-05-26 19:00:00\n",
      "2022-09-16 14:56:44,655 - rank - INFO - Rank 0 -- interaction_waiting -- 7.847993401810527e-06\n",
      "2022-09-16 14:56:44,681 - simulator - INFO - CMS: Timestep for rank 0/1 - 9.850049455999397,9.850050449371338 - 2020-05-26 19:00:00\n",
      "\n",
      "2022-09-16 14:56:44,684 - rank - INFO - Next timestep\n",
      "2022-09-16 14:56:44,686 - simulator - INFO - ==================== timestep ====================\n",
      "2022-09-16 14:56:45,027 - rank - INFO - Rank 0 -- move_people -- 0.33834839799965266\n",
      "2022-09-16 14:56:45,028 - rank - INFO - Rank 0 -- move_people_waiting -- 2.449400199111551e-05\n",
      "2022-09-16 14:56:45,034 - activity_manager - INFO - CMS: People COMS for rank 0/1 - 5.792986485175788e-06,5.0067901611328125e-06 - 2020-05-27 09:00:00\n",
      "2022-09-16 14:56:45,047 - simulator - INFO - Info for rank 0, Date = 2020-05-27 09:00:00, number of deaths =  0, number of infected = 461\n",
      "2022-09-16 14:56:45,200 - rank - INFO - Rank 0 -- interaction -- 0.16121753999323118\n",
      "2022-09-16 14:56:52,479 - tracker - INFO - Rank 0 -- tracking contacts -- 500 of 3263 of type shelter\n",
      "2022-09-16 14:56:53,864 - tracker - INFO - Rank 0 -- tracking contacts -- 389 of 389 of type learning_center\n",
      "2022-09-16 14:56:55,093 - tracker - INFO - Rank 0 -- tracking contacts -- 115 of 115 of type communal\n",
      "2022-09-16 14:56:55,097 - tracker - INFO - Rank 0 -- tracking contacts -- 21 of 21 of type distribution_center\n",
      "2022-09-16 14:56:55,099 - tracker - INFO - Rank 0 -- tracking contacts -- 7 of 7 of type e_voucher\n",
      "2022-09-16 14:56:55,101 - tracker - INFO - Rank 0 -- tracking contacts -- 67 of 67 of type female_communal\n",
      "2022-09-16 14:56:55,105 - tracker - INFO - Rank 0 -- tracking contacts -- 80 of 80 of type informal_work\n",
      "2022-09-16 14:56:55,109 - tracker - INFO - Rank 0 -- tracking contacts -- 41 of 41 of type n_f_distribution_center\n",
      "2022-09-16 14:56:55,115 - tracker - INFO - Rank 0 -- tracking contacts -- 500 of 539 of type play_group\n",
      "2022-09-16 14:56:55,127 - tracker - INFO - Rank 0 -- tracking contacts -- 82 of 82 of type pump_latrine\n",
      "2022-09-16 14:56:55,142 - tracker - INFO - Rank 0 -- tracking contacts -- 500 of 2065 of type religious\n",
      "2022-09-16 14:56:55,154 - tracker - INFO - Rank 0 -- tracking contacts -- 8 of 8 of type hospital\n",
      "2022-09-16 14:56:55,169 - tracker - INFO - Rank 0 -- tracking contacts -- 8 of 8 of type isolation_unit\n",
      "2022-09-16 14:56:55,171 - rank - INFO - Rank 0 -- tracker -- 9.969495152996387\n",
      "2022-09-16 14:56:55,182 - epidemiology - INFO - CMS: Infection COMS-v2 for rank 0/1(2)0.00045906299783382565,0.0004589557647705078 - 2020-05-27 09:00:00\n",
      "2022-09-16 14:56:55,222 - rank - INFO - Rank 0 -- interaction_waiting -- 7.80100526753813e-06\n",
      "2022-09-16 14:56:55,240 - simulator - INFO - CMS: Timestep for rank 0/1 - 10.551081166006043,10.551081657409668 - 2020-05-27 09:00:00\n",
      "\n",
      "2022-09-16 14:56:55,242 - rank - INFO - Next timestep\n",
      "2022-09-16 14:56:55,243 - simulator - INFO - ==================== timestep ====================\n",
      "2022-09-16 14:56:56,300 - rank - INFO - Rank 0 -- move_people -- 1.0561359870043816\n",
      "2022-09-16 14:56:56,301 - rank - INFO - Rank 0 -- move_people_waiting -- 8.793998858891428e-06\n",
      "2022-09-16 14:56:56,302 - activity_manager - INFO - CMS: People COMS for rank 0/1 - 5.0679955165833235e-06,4.76837158203125e-06 - 2020-05-27 11:00:00\n",
      "2022-09-16 14:56:56,309 - simulator - INFO - Info for rank 0, Date = 2020-05-27 11:00:00, number of deaths =  0, number of infected = 477\n",
      "2022-09-16 14:56:56,498 - rank - INFO - Rank 0 -- interaction -- 0.19384429100318812\n",
      "2022-09-16 14:56:57,689 - tracker - INFO - Rank 0 -- tracking contacts -- 500 of 3263 of type shelter\n",
      "2022-09-16 14:56:58,102 - tracker - INFO - Rank 0 -- tracking contacts -- 389 of 389 of type learning_center\n",
      "2022-09-16 14:56:59,049 - tracker - INFO - Rank 0 -- tracking contacts -- 115 of 115 of type communal\n",
      "2022-09-16 14:56:59,073 - tracker - INFO - Rank 0 -- tracking contacts -- 21 of 21 of type distribution_center\n",
      "2022-09-16 14:56:59,110 - tracker - INFO - Rank 0 -- tracking contacts -- 7 of 7 of type e_voucher\n",
      "2022-09-16 14:56:59,126 - tracker - INFO - Rank 0 -- tracking contacts -- 67 of 67 of type female_communal\n"
     ]
    },
    {
     "name": "stdout",
     "output_type": "stream",
     "text": [
      "2022-09-16 14:56:59,192 - tracker - INFO - Rank 0 -- tracking contacts -- 80 of 80 of type informal_work\n",
      "2022-09-16 14:56:59,306 - tracker - INFO - Rank 0 -- tracking contacts -- 41 of 41 of type n_f_distribution_center\n",
      "2022-09-16 14:56:59,361 - tracker - INFO - Rank 0 -- tracking contacts -- 500 of 539 of type play_group\n",
      "2022-09-16 14:56:59,725 - tracker - INFO - Rank 0 -- tracking contacts -- 82 of 82 of type pump_latrine\n",
      "2022-09-16 14:57:02,270 - tracker - INFO - Rank 0 -- tracking contacts -- 500 of 2065 of type religious\n",
      "2022-09-16 14:57:02,516 - tracker - INFO - Rank 0 -- tracking contacts -- 8 of 8 of type hospital\n",
      "2022-09-16 14:57:02,531 - tracker - INFO - Rank 0 -- tracking contacts -- 8 of 8 of type isolation_unit\n",
      "2022-09-16 14:57:02,532 - rank - INFO - Rank 0 -- tracker -- 6.033306394005194\n",
      "2022-09-16 14:57:02,543 - epidemiology - INFO - CMS: Infection COMS-v2 for rank 0/1(2)0.0009321950055891648,0.0009322166442871094 - 2020-05-27 11:00:00\n",
      "2022-09-16 14:57:02,582 - rank - INFO - Rank 0 -- interaction_waiting -- 6.598012987524271e-06\n",
      "2022-09-16 14:57:02,596 - simulator - INFO - CMS: Timestep for rank 0/1 - 7.352173327002674,7.352174282073975 - 2020-05-27 11:00:00\n",
      "\n",
      "2022-09-16 14:57:02,599 - rank - INFO - Next timestep\n",
      "2022-09-16 14:57:02,600 - simulator - INFO - ==================== timestep ====================\n",
      "2022-09-16 14:57:03,674 - rank - INFO - Rank 0 -- move_people -- 1.0731800570065388\n",
      "2022-09-16 14:57:03,675 - rank - INFO - Rank 0 -- move_people_waiting -- 1.2415999663062394e-05\n",
      "2022-09-16 14:57:03,676 - activity_manager - INFO - CMS: People COMS for rank 0/1 - 3.930996172130108e-06,3.5762786865234375e-06 - 2020-05-27 13:00:00\n",
      "2022-09-16 14:57:03,682 - simulator - INFO - Info for rank 0, Date = 2020-05-27 13:00:00, number of deaths =  0, number of infected = 488\n",
      "2022-09-16 14:57:03,968 - rank - INFO - Rank 0 -- interaction -- 0.291189794006641\n",
      "2022-09-16 14:57:07,526 - tracker - INFO - Rank 0 -- tracking contacts -- 500 of 3263 of type shelter\n",
      "2022-09-16 14:57:08,161 - tracker - INFO - Rank 0 -- tracking contacts -- 389 of 389 of type learning_center\n",
      "2022-09-16 14:57:09,330 - tracker - INFO - Rank 0 -- tracking contacts -- 115 of 115 of type communal\n",
      "2022-09-16 14:57:09,356 - tracker - INFO - Rank 0 -- tracking contacts -- 21 of 21 of type distribution_center\n",
      "2022-09-16 14:57:09,377 - tracker - INFO - Rank 0 -- tracking contacts -- 7 of 7 of type e_voucher\n",
      "2022-09-16 14:57:09,388 - tracker - INFO - Rank 0 -- tracking contacts -- 67 of 67 of type female_communal\n",
      "2022-09-16 14:57:09,433 - tracker - INFO - Rank 0 -- tracking contacts -- 80 of 80 of type informal_work\n",
      "2022-09-16 14:57:09,542 - tracker - INFO - Rank 0 -- tracking contacts -- 41 of 41 of type n_f_distribution_center\n",
      "2022-09-16 14:57:09,630 - tracker - INFO - Rank 0 -- tracking contacts -- 500 of 539 of type play_group\n",
      "2022-09-16 14:57:10,024 - tracker - INFO - Rank 0 -- tracking contacts -- 82 of 82 of type pump_latrine\n",
      "2022-09-16 14:57:12,857 - tracker - INFO - Rank 0 -- tracking contacts -- 500 of 2065 of type religious\n",
      "2022-09-16 14:57:13,109 - tracker - INFO - Rank 0 -- tracking contacts -- 8 of 8 of type hospital\n",
      "2022-09-16 14:57:13,125 - tracker - INFO - Rank 0 -- tracking contacts -- 8 of 8 of type isolation_unit\n",
      "2022-09-16 14:57:13,126 - rank - INFO - Rank 0 -- tracker -- 9.157134301000042\n",
      "2022-09-16 14:57:13,145 - epidemiology - INFO - CMS: Infection COMS-v2 for rank 0/1(2)0.0010043229995062575,0.0010039806365966797 - 2020-05-27 13:00:00\n",
      "2022-09-16 14:57:13,194 - rank - INFO - Rank 0 -- interaction_waiting -- 8.139002602547407e-06\n",
      "2022-09-16 14:57:13,209 - simulator - INFO - CMS: Timestep for rank 0/1 - 10.608576747996267,10.608577966690063 - 2020-05-27 13:00:00\n",
      "\n",
      "2022-09-16 14:57:13,212 - rank - INFO - Next timestep\n",
      "2022-09-16 14:57:13,217 - simulator - INFO - ==================== timestep ====================\n",
      "2022-09-16 14:57:14,444 - rank - INFO - Rank 0 -- move_people -- 1.2258750990004046\n",
      "2022-09-16 14:57:14,446 - rank - INFO - Rank 0 -- move_people_waiting -- 1.3926997780799866e-05\n",
      "2022-09-16 14:57:14,447 - activity_manager - INFO - CMS: People COMS for rank 0/1 - 6.560003384947777e-06,5.9604644775390625e-06 - 2020-05-27 15:00:00\n",
      "2022-09-16 14:57:14,456 - simulator - INFO - Info for rank 0, Date = 2020-05-27 15:00:00, number of deaths =  0, number of infected = 511\n",
      "2022-09-16 14:57:14,786 - rank - INFO - Rank 0 -- interaction -- 0.3375908060115762\n",
      "2022-09-16 14:57:19,823 - tracker - INFO - Rank 0 -- tracking contacts -- 500 of 3263 of type shelter\n",
      "2022-09-16 14:57:20,544 - tracker - INFO - Rank 0 -- tracking contacts -- 389 of 389 of type learning_center\n",
      "2022-09-16 14:57:22,140 - tracker - INFO - Rank 0 -- tracking contacts -- 115 of 115 of type communal\n",
      "2022-09-16 14:57:22,175 - tracker - INFO - Rank 0 -- tracking contacts -- 21 of 21 of type distribution_center\n",
      "2022-09-16 14:57:22,216 - tracker - INFO - Rank 0 -- tracking contacts -- 7 of 7 of type e_voucher\n",
      "2022-09-16 14:57:22,235 - tracker - INFO - Rank 0 -- tracking contacts -- 67 of 67 of type female_communal\n",
      "2022-09-16 14:57:22,312 - tracker - INFO - Rank 0 -- tracking contacts -- 80 of 80 of type informal_work\n",
      "2022-09-16 14:57:22,465 - tracker - INFO - Rank 0 -- tracking contacts -- 41 of 41 of type n_f_distribution_center\n",
      "2022-09-16 14:57:22,573 - tracker - INFO - Rank 0 -- tracking contacts -- 500 of 539 of type play_group\n",
      "2022-09-16 14:57:23,190 - tracker - INFO - Rank 0 -- tracking contacts -- 82 of 82 of type pump_latrine\n",
      "2022-09-16 14:57:26,155 - tracker - INFO - Rank 0 -- tracking contacts -- 500 of 2065 of type religious\n",
      "2022-09-16 14:57:26,403 - tracker - INFO - Rank 0 -- tracking contacts -- 8 of 8 of type hospital\n",
      "2022-09-16 14:57:26,421 - tracker - INFO - Rank 0 -- tracking contacts -- 8 of 8 of type isolation_unit\n",
      "2022-09-16 14:57:26,423 - rank - INFO - Rank 0 -- tracker -- 11.635780212993268\n",
      "2022-09-16 14:57:26,444 - epidemiology - INFO - CMS: Infection COMS-v2 for rank 0/1(2)0.0008179189899237826,0.0008180141448974609 - 2020-05-27 15:00:00\n",
      "2022-09-16 14:57:26,506 - rank - INFO - Rank 0 -- interaction_waiting -- 8.229006198234856e-06\n",
      "2022-09-16 14:57:26,529 - simulator - INFO - CMS: Timestep for rank 0/1 - 13.310891579996678,13.310893058776855 - 2020-05-27 15:00:00\n",
      "\n",
      "2022-09-16 14:57:26,533 - rank - INFO - Next timestep\n",
      "2022-09-16 14:57:26,535 - simulator - INFO - ==================== timestep ====================\n",
      "2022-09-16 14:57:27,822 - rank - INFO - Rank 0 -- move_people -- 1.2860743909986923\n",
      "2022-09-16 14:57:27,825 - rank - INFO - Rank 0 -- move_people_waiting -- 7.44700082577765e-06\n",
      "2022-09-16 14:57:27,827 - activity_manager - INFO - CMS: People COMS for rank 0/1 - 6.237998604774475e-06,5.0067901611328125e-06 - 2020-05-27 17:00:00\n",
      "2022-09-16 14:57:27,836 - simulator - INFO - Info for rank 0, Date = 2020-05-27 17:00:00, number of deaths =  0, number of infected = 533\n",
      "2022-09-16 14:57:28,190 - rank - INFO - Rank 0 -- interaction -- 0.3627071470109513\n",
      "2022-09-16 14:57:35,388 - tracker - INFO - Rank 0 -- tracking contacts -- 500 of 3263 of type shelter\n",
      "2022-09-16 14:57:36,119 - tracker - INFO - Rank 0 -- tracking contacts -- 389 of 389 of type learning_center\n",
      "2022-09-16 14:57:36,135 - tracker - INFO - Rank 0 -- tracking contacts -- 115 of 115 of type communal\n",
      "2022-09-16 14:57:36,140 - tracker - INFO - Rank 0 -- tracking contacts -- 21 of 21 of type distribution_center\n",
      "2022-09-16 14:57:36,183 - tracker - INFO - Rank 0 -- tracking contacts -- 7 of 7 of type e_voucher\n",
      "2022-09-16 14:57:36,205 - tracker - INFO - Rank 0 -- tracking contacts -- 67 of 67 of type female_communal\n",
      "2022-09-16 14:57:36,209 - tracker - INFO - Rank 0 -- tracking contacts -- 80 of 80 of type informal_work\n",
      "2022-09-16 14:57:36,385 - tracker - INFO - Rank 0 -- tracking contacts -- 41 of 41 of type n_f_distribution_center\n",
      "2022-09-16 14:57:36,468 - tracker - INFO - Rank 0 -- tracking contacts -- 500 of 539 of type play_group\n",
      "2022-09-16 14:57:37,201 - tracker - INFO - Rank 0 -- tracking contacts -- 82 of 82 of type pump_latrine\n",
      "2022-09-16 14:57:40,265 - tracker - INFO - Rank 0 -- tracking contacts -- 500 of 2065 of type religious\n",
      "2022-09-16 14:57:40,576 - tracker - INFO - Rank 0 -- tracking contacts -- 8 of 8 of type hospital\n"
     ]
    },
    {
     "name": "stdout",
     "output_type": "stream",
     "text": [
      "2022-09-16 14:57:40,577 - tracker - INFO - Rank 0 -- tracking contacts -- 8 of 8 of type isolation_unit\n",
      "2022-09-16 14:57:40,578 - rank - INFO - Rank 0 -- tracker -- 12.386735819003661\n",
      "2022-09-16 14:57:40,589 - epidemiology - INFO - CMS: Infection COMS-v2 for rank 0/1(2)0.00023584399605169892,0.0002353191375732422 - 2020-05-27 17:00:00\n",
      "2022-09-16 14:57:40,633 - rank - INFO - Rank 0 -- interaction_waiting -- 8.333998266607523e-06\n",
      "2022-09-16 14:57:40,659 - simulator - INFO - CMS: Timestep for rank 0/1 - 14.123247866999009,14.123248815536499 - 2020-05-27 17:00:00\n",
      "\n",
      "2022-09-16 14:57:40,663 - rank - INFO - Next timestep\n",
      "2022-09-16 14:57:40,680 - simulator - INFO - ==================== timestep ====================\n",
      "2022-09-16 14:57:40,993 - rank - INFO - Rank 0 -- move_people -- 0.3032671719993232\n",
      "2022-09-16 14:57:40,994 - rank - INFO - Rank 0 -- move_people_waiting -- 1.1636002454906702e-05\n",
      "2022-09-16 14:57:40,995 - activity_manager - INFO - CMS: People COMS for rank 0/1 - 4.585992428474128e-06,4.0531158447265625e-06 - 2020-05-27 19:00:00\n",
      "2022-09-16 14:57:41,003 - simulator - INFO - Info for rank 0, Date = 2020-05-27 19:00:00, number of deaths =  0, number of infected = 551\n",
      "2022-09-16 14:57:41,216 - rank - INFO - Rank 0 -- interaction -- 0.21966880199033767\n",
      "2022-09-16 14:57:50,189 - tracker - INFO - Rank 0 -- tracking contacts -- 500 of 3263 of type shelter\n",
      "2022-09-16 14:57:51,791 - tracker - INFO - Rank 0 -- tracking contacts -- 389 of 389 of type learning_center\n",
      "2022-09-16 14:57:51,806 - tracker - INFO - Rank 0 -- tracking contacts -- 115 of 115 of type communal\n",
      "2022-09-16 14:57:51,810 - tracker - INFO - Rank 0 -- tracking contacts -- 21 of 21 of type distribution_center\n",
      "2022-09-16 14:57:51,811 - tracker - INFO - Rank 0 -- tracking contacts -- 7 of 7 of type e_voucher\n",
      "2022-09-16 14:57:51,814 - tracker - INFO - Rank 0 -- tracking contacts -- 67 of 67 of type female_communal\n",
      "2022-09-16 14:57:51,817 - tracker - INFO - Rank 0 -- tracking contacts -- 80 of 80 of type informal_work\n",
      "2022-09-16 14:57:51,821 - tracker - INFO - Rank 0 -- tracking contacts -- 41 of 41 of type n_f_distribution_center\n",
      "2022-09-16 14:57:51,830 - tracker - INFO - Rank 0 -- tracking contacts -- 500 of 539 of type play_group\n",
      "2022-09-16 14:57:51,840 - tracker - INFO - Rank 0 -- tracking contacts -- 82 of 82 of type pump_latrine\n",
      "2022-09-16 14:57:51,860 - tracker - INFO - Rank 0 -- tracking contacts -- 500 of 2065 of type religious\n",
      "2022-09-16 14:57:51,875 - tracker - INFO - Rank 0 -- tracking contacts -- 8 of 8 of type hospital\n",
      "2022-09-16 14:57:51,876 - tracker - INFO - Rank 0 -- tracking contacts -- 8 of 8 of type isolation_unit\n",
      "2022-09-16 14:57:51,878 - rank - INFO - Rank 0 -- tracker -- 10.659543910995126\n",
      "2022-09-16 14:57:51,945 - epidemiology - INFO - CMS: Infection COMS-v2 for rank 0/1(2)0.00031688500894233584,0.00031638145446777344 - 2020-05-27 19:00:00\n",
      "2022-09-16 14:57:52,002 - rank - INFO - Rank 0 -- interaction_waiting -- 9.233001037500799e-06\n",
      "2022-09-16 14:57:52,022 - simulator - INFO - CMS: Timestep for rank 0/1 - 11.332257943999139,11.332257509231567 - 2020-05-27 19:00:00\n",
      "\n",
      "2022-09-16 14:57:52,025 - rank - INFO - Next timestep\n",
      "2022-09-16 14:57:52,026 - simulator - INFO - ==================== timestep ====================\n",
      "2022-09-16 14:57:52,285 - rank - INFO - Rank 0 -- move_people -- 0.257556199998362\n",
      "2022-09-16 14:57:52,286 - rank - INFO - Rank 0 -- move_people_waiting -- 5.011999746784568e-06\n",
      "2022-09-16 14:57:52,287 - activity_manager - INFO - CMS: People COMS for rank 0/1 - 6.342990673147142e-06,5.4836273193359375e-06 - 2020-05-28 09:00:00\n",
      "2022-09-16 14:57:52,295 - simulator - INFO - Info for rank 0, Date = 2020-05-28 09:00:00, number of deaths =  0, number of infected = 660\n",
      "2022-09-16 14:57:52,393 - rank - INFO - Rank 0 -- interaction -- 0.10453396300727036\n",
      "2022-09-16 14:57:58,749 - tracker - INFO - Rank 0 -- tracking contacts -- 500 of 3263 of type shelter\n",
      "2022-09-16 14:57:59,754 - tracker - INFO - Rank 0 -- tracking contacts -- 389 of 389 of type learning_center\n",
      "2022-09-16 14:58:00,773 - tracker - INFO - Rank 0 -- tracking contacts -- 115 of 115 of type communal\n",
      "2022-09-16 14:58:00,776 - tracker - INFO - Rank 0 -- tracking contacts -- 21 of 21 of type distribution_center\n",
      "2022-09-16 14:58:00,778 - tracker - INFO - Rank 0 -- tracking contacts -- 7 of 7 of type e_voucher\n",
      "2022-09-16 14:58:00,779 - tracker - INFO - Rank 0 -- tracking contacts -- 67 of 67 of type female_communal\n",
      "2022-09-16 14:58:00,782 - tracker - INFO - Rank 0 -- tracking contacts -- 80 of 80 of type informal_work\n",
      "2022-09-16 14:58:00,785 - tracker - INFO - Rank 0 -- tracking contacts -- 41 of 41 of type n_f_distribution_center\n",
      "2022-09-16 14:58:00,788 - tracker - INFO - Rank 0 -- tracking contacts -- 500 of 539 of type play_group\n",
      "2022-09-16 14:58:00,800 - tracker - INFO - Rank 0 -- tracking contacts -- 82 of 82 of type pump_latrine\n",
      "2022-09-16 14:58:00,812 - tracker - INFO - Rank 0 -- tracking contacts -- 500 of 2065 of type religious\n",
      "2022-09-16 14:58:00,821 - tracker - INFO - Rank 0 -- tracking contacts -- 8 of 8 of type hospital\n",
      "2022-09-16 14:58:00,832 - tracker - INFO - Rank 0 -- tracking contacts -- 8 of 8 of type isolation_unit\n",
      "2022-09-16 14:58:00,833 - rank - INFO - Rank 0 -- tracker -- 8.43891058700683\n",
      "2022-09-16 14:58:00,846 - epidemiology - INFO - CMS: Infection COMS-v2 for rank 0/1(2)0.00022143300157040358,0.00022101402282714844 - 2020-05-28 09:00:00\n",
      "2022-09-16 14:58:00,891 - rank - INFO - Rank 0 -- interaction_waiting -- 6.870002835057676e-06\n",
      "2022-09-16 14:58:00,906 - simulator - INFO - CMS: Timestep for rank 0/1 - 8.878522108992911,8.878522872924805 - 2020-05-28 09:00:00\n",
      "\n",
      "2022-09-16 14:58:00,908 - rank - INFO - Next timestep\n",
      "2022-09-16 14:58:00,910 - simulator - INFO - ==================== timestep ====================\n",
      "2022-09-16 14:58:01,916 - rank - INFO - Rank 0 -- move_people -- 1.0053220260015223\n",
      "2022-09-16 14:58:01,917 - rank - INFO - Rank 0 -- move_people_waiting -- 7.184004061855376e-06\n",
      "2022-09-16 14:58:01,918 - activity_manager - INFO - CMS: People COMS for rank 0/1 - 4.345012712292373e-06,4.291534423828125e-06 - 2020-05-28 11:00:00\n",
      "2022-09-16 14:58:01,926 - simulator - INFO - Info for rank 0, Date = 2020-05-28 11:00:00, number of deaths =  0, number of infected = 682\n",
      "2022-09-16 14:58:02,123 - rank - INFO - Rank 0 -- interaction -- 0.20332449399575125\n",
      "2022-09-16 14:58:03,654 - tracker - INFO - Rank 0 -- tracking contacts -- 500 of 3263 of type shelter\n",
      "2022-09-16 14:58:04,207 - tracker - INFO - Rank 0 -- tracking contacts -- 389 of 389 of type learning_center\n",
      "2022-09-16 14:58:05,213 - tracker - INFO - Rank 0 -- tracking contacts -- 115 of 115 of type communal\n",
      "2022-09-16 14:58:05,237 - tracker - INFO - Rank 0 -- tracking contacts -- 21 of 21 of type distribution_center\n",
      "2022-09-16 14:58:05,267 - tracker - INFO - Rank 0 -- tracking contacts -- 7 of 7 of type e_voucher\n",
      "2022-09-16 14:58:05,282 - tracker - INFO - Rank 0 -- tracking contacts -- 67 of 67 of type female_communal\n",
      "2022-09-16 14:58:05,361 - tracker - INFO - Rank 0 -- tracking contacts -- 80 of 80 of type informal_work\n",
      "2022-09-16 14:58:05,462 - tracker - INFO - Rank 0 -- tracking contacts -- 41 of 41 of type n_f_distribution_center\n",
      "2022-09-16 14:58:05,514 - tracker - INFO - Rank 0 -- tracking contacts -- 500 of 539 of type play_group\n",
      "2022-09-16 14:58:05,827 - tracker - INFO - Rank 0 -- tracking contacts -- 82 of 82 of type pump_latrine\n",
      "2022-09-16 14:58:07,726 - tracker - INFO - Rank 0 -- tracking contacts -- 500 of 2065 of type religious\n",
      "2022-09-16 14:58:07,987 - tracker - INFO - Rank 0 -- tracking contacts -- 8 of 8 of type hospital\n",
      "2022-09-16 14:58:08,000 - tracker - INFO - Rank 0 -- tracking contacts -- 8 of 8 of type isolation_unit\n",
      "2022-09-16 14:58:08,001 - rank - INFO - Rank 0 -- tracker -- 5.877164673001971\n",
      "2022-09-16 14:58:08,015 - epidemiology - INFO - CMS: Infection COMS-v2 for rank 0/1(2)0.0003150950069539249,0.0003147125244140625 - 2020-05-28 11:00:00\n",
      "2022-09-16 14:58:08,068 - rank - INFO - Rank 0 -- interaction_waiting -- 8.988004992716014e-06\n",
      "2022-09-16 14:58:08,083 - simulator - INFO - CMS: Timestep for rank 0/1 - 7.1728498579905136,7.172850608825684 - 2020-05-28 11:00:00\n",
      "\n",
      "2022-09-16 14:58:08,087 - rank - INFO - Next timestep\n"
     ]
    },
    {
     "name": "stdout",
     "output_type": "stream",
     "text": [
      "2022-09-16 14:58:08,088 - simulator - INFO - ==================== timestep ====================\n",
      "2022-09-16 14:58:09,164 - rank - INFO - Rank 0 -- move_people -- 1.0734378430061042\n",
      "2022-09-16 14:58:09,165 - rank - INFO - Rank 0 -- move_people_waiting -- 1.3170007150620222e-05\n",
      "2022-09-16 14:58:09,167 - activity_manager - INFO - CMS: People COMS for rank 0/1 - 4.115005140192807e-06,3.814697265625e-06 - 2020-05-28 13:00:00\n",
      "2022-09-16 14:58:09,176 - simulator - INFO - Info for rank 0, Date = 2020-05-28 13:00:00, number of deaths =  0, number of infected = 706\n",
      "2022-09-16 14:58:09,468 - rank - INFO - Rank 0 -- interaction -- 0.2995610389916692\n",
      "2022-09-16 14:58:13,077 - tracker - INFO - Rank 0 -- tracking contacts -- 500 of 3263 of type shelter\n",
      "2022-09-16 14:58:13,592 - tracker - INFO - Rank 0 -- tracking contacts -- 389 of 389 of type learning_center\n",
      "2022-09-16 14:58:14,673 - tracker - INFO - Rank 0 -- tracking contacts -- 115 of 115 of type communal\n",
      "2022-09-16 14:58:14,703 - tracker - INFO - Rank 0 -- tracking contacts -- 21 of 21 of type distribution_center\n",
      "2022-09-16 14:58:14,731 - tracker - INFO - Rank 0 -- tracking contacts -- 7 of 7 of type e_voucher\n",
      "2022-09-16 14:58:14,744 - tracker - INFO - Rank 0 -- tracking contacts -- 67 of 67 of type female_communal\n",
      "2022-09-16 14:58:14,790 - tracker - INFO - Rank 0 -- tracking contacts -- 80 of 80 of type informal_work\n",
      "2022-09-16 14:58:14,878 - tracker - INFO - Rank 0 -- tracking contacts -- 41 of 41 of type n_f_distribution_center\n",
      "2022-09-16 14:58:14,929 - tracker - INFO - Rank 0 -- tracking contacts -- 500 of 539 of type play_group\n",
      "2022-09-16 14:58:15,241 - tracker - INFO - Rank 0 -- tracking contacts -- 82 of 82 of type pump_latrine\n",
      "2022-09-16 14:58:17,358 - tracker - INFO - Rank 0 -- tracking contacts -- 500 of 2065 of type religious\n",
      "2022-09-16 14:58:17,610 - tracker - INFO - Rank 0 -- tracking contacts -- 8 of 8 of type hospital\n",
      "2022-09-16 14:58:17,623 - tracker - INFO - Rank 0 -- tracking contacts -- 8 of 8 of type isolation_unit\n",
      "2022-09-16 14:58:17,625 - rank - INFO - Rank 0 -- tracker -- 8.155950120009948\n",
      "2022-09-16 14:58:17,638 - epidemiology - INFO - CMS: Infection COMS-v2 for rank 0/1(2)0.0008092890057014301,0.0008091926574707031 - 2020-05-28 13:00:00\n",
      "2022-09-16 14:58:17,680 - rank - INFO - Rank 0 -- interaction_waiting -- 7.779992301948369e-06\n",
      "2022-09-16 14:58:17,695 - simulator - INFO - CMS: Timestep for rank 0/1 - 9.604631192007218,9.604631662368774 - 2020-05-28 13:00:00\n",
      "\n",
      "2022-09-16 14:58:17,698 - rank - INFO - Next timestep\n",
      "2022-09-16 14:58:17,699 - simulator - INFO - ==================== timestep ====================\n",
      "2022-09-16 14:58:18,932 - rank - INFO - Rank 0 -- move_people -- 1.2316667340055574\n",
      "2022-09-16 14:58:18,933 - rank - INFO - Rank 0 -- move_people_waiting -- 9.796000085771084e-06\n",
      "2022-09-16 14:58:18,934 - activity_manager - INFO - CMS: People COMS for rank 0/1 - 5.586000042967498e-06,5.245208740234375e-06 - 2020-05-28 15:00:00\n",
      "2022-09-16 14:58:18,943 - simulator - INFO - Info for rank 0, Date = 2020-05-28 15:00:00, number of deaths =  0, number of infected = 732\n",
      "2022-09-16 14:58:19,139 - rank - INFO - Rank 0 -- interaction -- 0.20426335600495804\n",
      "2022-09-16 14:58:23,542 - tracker - INFO - Rank 0 -- tracking contacts -- 500 of 3263 of type shelter\n",
      "2022-09-16 14:58:24,031 - tracker - INFO - Rank 0 -- tracking contacts -- 389 of 389 of type learning_center\n",
      "2022-09-16 14:58:25,106 - tracker - INFO - Rank 0 -- tracking contacts -- 115 of 115 of type communal\n",
      "2022-09-16 14:58:25,133 - tracker - INFO - Rank 0 -- tracking contacts -- 21 of 21 of type distribution_center\n",
      "2022-09-16 14:58:25,158 - tracker - INFO - Rank 0 -- tracking contacts -- 7 of 7 of type e_voucher\n",
      "2022-09-16 14:58:25,169 - tracker - INFO - Rank 0 -- tracking contacts -- 67 of 67 of type female_communal\n",
      "2022-09-16 14:58:25,207 - tracker - INFO - Rank 0 -- tracking contacts -- 80 of 80 of type informal_work\n",
      "2022-09-16 14:58:25,284 - tracker - INFO - Rank 0 -- tracking contacts -- 41 of 41 of type n_f_distribution_center\n",
      "2022-09-16 14:58:25,348 - tracker - INFO - Rank 0 -- tracking contacts -- 500 of 539 of type play_group\n",
      "2022-09-16 14:58:25,654 - tracker - INFO - Rank 0 -- tracking contacts -- 82 of 82 of type pump_latrine\n",
      "2022-09-16 14:58:27,527 - tracker - INFO - Rank 0 -- tracking contacts -- 500 of 2065 of type religious\n",
      "2022-09-16 14:58:27,739 - tracker - INFO - Rank 0 -- tracking contacts -- 8 of 8 of type hospital\n",
      "2022-09-16 14:58:27,750 - tracker - INFO - Rank 0 -- tracking contacts -- 8 of 8 of type isolation_unit\n",
      "2022-09-16 14:58:27,751 - rank - INFO - Rank 0 -- tracker -- 8.61063121999905\n",
      "2022-09-16 14:58:27,767 - epidemiology - INFO - CMS: Infection COMS-v2 for rank 0/1(2)0.0008834770123939961,0.0008833408355712891 - 2020-05-28 15:00:00\n",
      "2022-09-16 14:58:27,806 - rank - INFO - Rank 0 -- interaction_waiting -- 6.977003067731857e-06\n",
      "2022-09-16 14:58:27,820 - simulator - INFO - CMS: Timestep for rank 0/1 - 10.120467212007497,10.12046766281128 - 2020-05-28 15:00:00\n",
      "\n",
      "2022-09-16 14:58:27,823 - rank - INFO - Next timestep\n",
      "2022-09-16 14:58:27,824 - simulator - INFO - ==================== timestep ====================\n",
      "2022-09-16 14:58:28,770 - rank - INFO - Rank 0 -- move_people -- 0.9445279790088534\n",
      "2022-09-16 14:58:28,771 - rank - INFO - Rank 0 -- move_people_waiting -- 7.919996278360486e-06\n",
      "2022-09-16 14:58:28,771 - activity_manager - INFO - CMS: People COMS for rank 0/1 - 4.305009497329593e-06,4.0531158447265625e-06 - 2020-05-28 17:00:00\n",
      "2022-09-16 14:58:28,778 - simulator - INFO - Info for rank 0, Date = 2020-05-28 17:00:00, number of deaths =  0, number of infected = 760\n",
      "2022-09-16 14:58:28,971 - rank - INFO - Rank 0 -- interaction -- 0.19880717700289097\n",
      "2022-09-16 14:58:34,196 - tracker - INFO - Rank 0 -- tracking contacts -- 500 of 3263 of type shelter\n",
      "2022-09-16 14:58:34,742 - tracker - INFO - Rank 0 -- tracking contacts -- 389 of 389 of type learning_center\n",
      "2022-09-16 14:58:34,753 - tracker - INFO - Rank 0 -- tracking contacts -- 115 of 115 of type communal\n",
      "2022-09-16 14:58:34,755 - tracker - INFO - Rank 0 -- tracking contacts -- 21 of 21 of type distribution_center\n",
      "2022-09-16 14:58:34,789 - tracker - INFO - Rank 0 -- tracking contacts -- 7 of 7 of type e_voucher\n",
      "2022-09-16 14:58:34,802 - tracker - INFO - Rank 0 -- tracking contacts -- 67 of 67 of type female_communal\n",
      "2022-09-16 14:58:34,805 - tracker - INFO - Rank 0 -- tracking contacts -- 80 of 80 of type informal_work\n",
      "2022-09-16 14:58:34,903 - tracker - INFO - Rank 0 -- tracking contacts -- 41 of 41 of type n_f_distribution_center\n",
      "2022-09-16 14:58:34,973 - tracker - INFO - Rank 0 -- tracking contacts -- 500 of 539 of type play_group\n",
      "2022-09-16 14:58:35,603 - tracker - INFO - Rank 0 -- tracking contacts -- 82 of 82 of type pump_latrine\n",
      "2022-09-16 14:58:38,431 - tracker - INFO - Rank 0 -- tracking contacts -- 500 of 2065 of type religious\n",
      "2022-09-16 14:58:38,697 - tracker - INFO - Rank 0 -- tracking contacts -- 8 of 8 of type hospital\n",
      "2022-09-16 14:58:38,698 - tracker - INFO - Rank 0 -- tracking contacts -- 8 of 8 of type isolation_unit\n",
      "2022-09-16 14:58:38,700 - rank - INFO - Rank 0 -- tracker -- 9.727135815002839\n",
      "2022-09-16 14:58:38,722 - epidemiology - INFO - CMS: Infection COMS-v2 for rank 0/1(2)0.001372254002490081,0.0013718605041503906 - 2020-05-28 17:00:00\n",
      "2022-09-16 14:58:38,786 - rank - INFO - Rank 0 -- interaction_waiting -- 7.673996151424944e-06\n",
      "2022-09-16 14:58:38,807 - simulator - INFO - CMS: Timestep for rank 0/1 - 10.981694926013006,10.981696128845215 - 2020-05-28 17:00:00\n",
      "\n",
      "2022-09-16 14:58:38,810 - rank - INFO - Next timestep\n",
      "2022-09-16 14:58:38,811 - simulator - INFO - ==================== timestep ====================\n",
      "2022-09-16 14:58:39,121 - rank - INFO - Rank 0 -- move_people -- 0.30885345600836445\n",
      "2022-09-16 14:58:39,122 - rank - INFO - Rank 0 -- move_people_waiting -- 9.92300920188427e-06\n",
      "2022-09-16 14:58:39,123 - activity_manager - INFO - CMS: People COMS for rank 0/1 - 5.480003892444074e-06,5.245208740234375e-06 - 2020-05-28 19:00:00\n",
      "2022-09-16 14:58:39,132 - simulator - INFO - Info for rank 0, Date = 2020-05-28 19:00:00, number of deaths =  0, number of infected = 790\n",
      "2022-09-16 14:58:39,339 - rank - INFO - Rank 0 -- interaction -- 0.21428505700896494\n"
     ]
    },
    {
     "name": "stdout",
     "output_type": "stream",
     "text": [
      "2022-09-16 14:58:45,978 - tracker - INFO - Rank 0 -- tracking contacts -- 500 of 3263 of type shelter\n",
      "2022-09-16 14:58:47,531 - tracker - INFO - Rank 0 -- tracking contacts -- 389 of 389 of type learning_center\n",
      "2022-09-16 14:58:47,549 - tracker - INFO - Rank 0 -- tracking contacts -- 115 of 115 of type communal\n",
      "2022-09-16 14:58:47,553 - tracker - INFO - Rank 0 -- tracking contacts -- 21 of 21 of type distribution_center\n",
      "2022-09-16 14:58:47,555 - tracker - INFO - Rank 0 -- tracking contacts -- 7 of 7 of type e_voucher\n",
      "2022-09-16 14:58:47,558 - tracker - INFO - Rank 0 -- tracking contacts -- 67 of 67 of type female_communal\n",
      "2022-09-16 14:58:47,561 - tracker - INFO - Rank 0 -- tracking contacts -- 80 of 80 of type informal_work\n",
      "2022-09-16 14:58:47,565 - tracker - INFO - Rank 0 -- tracking contacts -- 41 of 41 of type n_f_distribution_center\n",
      "2022-09-16 14:58:47,569 - tracker - INFO - Rank 0 -- tracking contacts -- 500 of 539 of type play_group\n",
      "2022-09-16 14:58:47,584 - tracker - INFO - Rank 0 -- tracking contacts -- 82 of 82 of type pump_latrine\n",
      "2022-09-16 14:58:47,602 - tracker - INFO - Rank 0 -- tracking contacts -- 500 of 2065 of type religious\n",
      "2022-09-16 14:58:47,616 - tracker - INFO - Rank 0 -- tracking contacts -- 8 of 8 of type hospital\n",
      "2022-09-16 14:58:47,618 - tracker - INFO - Rank 0 -- tracking contacts -- 8 of 8 of type isolation_unit\n",
      "2022-09-16 14:58:47,619 - rank - INFO - Rank 0 -- tracker -- 8.27848564699525\n",
      "2022-09-16 14:58:47,705 - epidemiology - INFO - CMS: Infection COMS-v2 for rank 0/1(2)0.0011132679937873036,0.0011126995086669922 - 2020-05-28 19:00:00\n",
      "2022-09-16 14:58:47,767 - rank - INFO - Rank 0 -- interaction_waiting -- 1.5156998415477574e-05\n",
      "2022-09-16 14:58:47,792 - simulator - INFO - CMS: Timestep for rank 0/1 - 8.979674840011285,8.979675054550171 - 2020-05-28 19:00:00\n",
      "\n",
      "2022-09-16 14:58:47,795 - rank - INFO - Next timestep\n",
      "2022-09-16 14:58:47,796 - simulator - INFO - ==================== timestep ====================\n",
      "2022-09-16 14:58:48,146 - rank - INFO - Rank 0 -- move_people -- 0.34931916900677606\n",
      "2022-09-16 14:58:48,147 - rank - INFO - Rank 0 -- move_people_waiting -- 1.2370990589261055e-05\n",
      "2022-09-16 14:58:48,148 - activity_manager - INFO - CMS: People COMS for rank 0/1 - 5.855996278114617e-06,5.7220458984375e-06 - 2020-05-29 09:00:00\n",
      "2022-09-16 14:58:48,157 - simulator - INFO - Info for rank 0, Date = 2020-05-29 09:00:00, number of deaths =  0, number of infected = 923\n",
      "2022-09-16 14:58:48,331 - rank - INFO - Rank 0 -- interaction -- 0.18156172100862022\n",
      "2022-09-16 14:58:54,997 - tracker - INFO - Rank 0 -- tracking contacts -- 500 of 3263 of type shelter\n",
      "2022-09-16 14:58:56,038 - tracker - INFO - Rank 0 -- tracking contacts -- 389 of 389 of type learning_center\n",
      "2022-09-16 14:58:56,048 - tracker - INFO - Rank 0 -- tracking contacts -- 115 of 115 of type communal\n",
      "2022-09-16 14:58:56,051 - tracker - INFO - Rank 0 -- tracking contacts -- 21 of 21 of type distribution_center\n",
      "2022-09-16 14:58:56,053 - tracker - INFO - Rank 0 -- tracking contacts -- 7 of 7 of type e_voucher\n",
      "2022-09-16 14:58:56,055 - tracker - INFO - Rank 0 -- tracking contacts -- 67 of 67 of type female_communal\n",
      "2022-09-16 14:58:56,058 - tracker - INFO - Rank 0 -- tracking contacts -- 80 of 80 of type informal_work\n",
      "2022-09-16 14:58:56,062 - tracker - INFO - Rank 0 -- tracking contacts -- 41 of 41 of type n_f_distribution_center\n",
      "2022-09-16 14:58:56,067 - tracker - INFO - Rank 0 -- tracking contacts -- 500 of 539 of type play_group\n",
      "2022-09-16 14:58:56,084 - tracker - INFO - Rank 0 -- tracking contacts -- 82 of 82 of type pump_latrine\n",
      "2022-09-16 14:58:56,098 - tracker - INFO - Rank 0 -- tracking contacts -- 500 of 2065 of type religious\n",
      "2022-09-16 14:58:56,110 - tracker - INFO - Rank 0 -- tracking contacts -- 8 of 8 of type hospital\n",
      "2022-09-16 14:58:56,112 - tracker - INFO - Rank 0 -- tracking contacts -- 8 of 8 of type isolation_unit\n",
      "2022-09-16 14:58:56,113 - rank - INFO - Rank 0 -- tracker -- 7.780692763000843\n",
      "2022-09-16 14:58:56,126 - epidemiology - INFO - CMS: Infection COMS-v2 for rank 0/1(2)0.0003655740001704544,0.00036525726318359375 - 2020-05-29 09:00:00\n",
      "2022-09-16 14:58:56,173 - rank - INFO - Rank 0 -- interaction_waiting -- 7.044000085443258e-06\n",
      "2022-09-16 14:58:56,187 - simulator - INFO - CMS: Timestep for rank 0/1 - 8.39037153199024,8.390372276306152 - 2020-05-29 09:00:00\n",
      "\n",
      "2022-09-16 14:58:56,190 - rank - INFO - Next timestep\n",
      "2022-09-16 14:58:56,191 - simulator - INFO - ==================== timestep ====================\n",
      "2022-09-16 14:58:57,518 - rank - INFO - Rank 0 -- move_people -- 1.326599342006375\n",
      "2022-09-16 14:58:57,520 - rank - INFO - Rank 0 -- move_people_waiting -- 4.239002009853721e-06\n",
      "2022-09-16 14:58:57,521 - activity_manager - INFO - CMS: People COMS for rank 0/1 - 4.816989530809224e-06,4.5299530029296875e-06 - 2020-05-29 12:00:00\n",
      "2022-09-16 14:58:57,530 - simulator - INFO - Info for rank 0, Date = 2020-05-29 12:00:00, number of deaths =  0, number of infected = 945\n",
      "2022-09-16 14:58:57,740 - rank - INFO - Rank 0 -- interaction -- 0.21831034500792157\n",
      "2022-09-16 14:58:58,287 - tracker - INFO - Rank 0 -- tracking contacts -- 500 of 3263 of type shelter\n",
      "2022-09-16 14:58:58,856 - tracker - INFO - Rank 0 -- tracking contacts -- 389 of 389 of type learning_center\n",
      "2022-09-16 14:58:58,863 - tracker - INFO - Rank 0 -- tracking contacts -- 115 of 115 of type communal\n",
      "2022-09-16 14:58:58,866 - tracker - INFO - Rank 0 -- tracking contacts -- 21 of 21 of type distribution_center\n",
      "2022-09-16 14:58:58,906 - tracker - INFO - Rank 0 -- tracking contacts -- 7 of 7 of type e_voucher\n",
      "2022-09-16 14:58:58,923 - tracker - INFO - Rank 0 -- tracking contacts -- 67 of 67 of type female_communal\n",
      "2022-09-16 14:58:58,926 - tracker - INFO - Rank 0 -- tracking contacts -- 80 of 80 of type informal_work\n",
      "2022-09-16 14:58:59,071 - tracker - INFO - Rank 0 -- tracking contacts -- 41 of 41 of type n_f_distribution_center\n",
      "2022-09-16 14:58:59,176 - tracker - INFO - Rank 0 -- tracking contacts -- 500 of 539 of type play_group\n",
      "2022-09-16 14:58:59,572 - tracker - INFO - Rank 0 -- tracking contacts -- 82 of 82 of type pump_latrine\n",
      "2022-09-16 14:59:02,351 - tracker - INFO - Rank 0 -- tracking contacts -- 500 of 2065 of type religious\n",
      "2022-09-16 14:59:02,809 - tracker - INFO - Rank 0 -- tracking contacts -- 8 of 8 of type hospital\n",
      "2022-09-16 14:59:02,811 - tracker - INFO - Rank 0 -- tracking contacts -- 8 of 8 of type isolation_unit\n",
      "2022-09-16 14:59:02,812 - rank - INFO - Rank 0 -- tracker -- 5.070824566995725\n",
      "2022-09-16 14:59:02,843 - epidemiology - INFO - CMS: Infection COMS-v2 for rank 0/1(2)0.0004890039999736473,0.0004887580871582031 - 2020-05-29 12:00:00\n",
      "2022-09-16 14:59:02,915 - rank - INFO - Rank 0 -- interaction_waiting -- 8.25998722575605e-06\n",
      "2022-09-16 14:59:02,938 - simulator - INFO - CMS: Timestep for rank 0/1 - 6.7465885279962095,6.7465901374816895 - 2020-05-29 12:00:00\n",
      "\n",
      "2022-09-16 14:59:02,942 - rank - INFO - Next timestep\n",
      "2022-09-16 14:59:02,943 - simulator - INFO - ==================== timestep ====================\n",
      "2022-09-16 14:59:04,028 - rank - INFO - Rank 0 -- move_people -- 1.0836897420085734\n",
      "2022-09-16 14:59:04,029 - rank - INFO - Rank 0 -- move_people_waiting -- 1.0167990694753826e-05\n",
      "2022-09-16 14:59:04,029 - activity_manager - INFO - CMS: People COMS for rank 0/1 - 4.743007593788207e-06,4.291534423828125e-06 - 2020-05-29 14:00:00\n",
      "2022-09-16 14:59:04,036 - simulator - INFO - Info for rank 0, Date = 2020-05-29 14:00:00, number of deaths =  0, number of infected = 983\n",
      "2022-09-16 14:59:04,318 - rank - INFO - Rank 0 -- interaction -- 0.28762609499972314\n",
      "2022-09-16 14:59:07,029 - tracker - INFO - Rank 0 -- tracking contacts -- 500 of 3263 of type shelter\n",
      "2022-09-16 14:59:07,587 - tracker - INFO - Rank 0 -- tracking contacts -- 389 of 389 of type learning_center\n",
      "2022-09-16 14:59:07,593 - tracker - INFO - Rank 0 -- tracking contacts -- 115 of 115 of type communal\n",
      "2022-09-16 14:59:07,596 - tracker - INFO - Rank 0 -- tracking contacts -- 21 of 21 of type distribution_center\n",
      "2022-09-16 14:59:07,634 - tracker - INFO - Rank 0 -- tracking contacts -- 7 of 7 of type e_voucher\n",
      "2022-09-16 14:59:07,647 - tracker - INFO - Rank 0 -- tracking contacts -- 67 of 67 of type female_communal\n"
     ]
    },
    {
     "name": "stdout",
     "output_type": "stream",
     "text": [
      "2022-09-16 14:59:07,649 - tracker - INFO - Rank 0 -- tracking contacts -- 80 of 80 of type informal_work\n",
      "2022-09-16 14:59:07,760 - tracker - INFO - Rank 0 -- tracking contacts -- 41 of 41 of type n_f_distribution_center\n",
      "2022-09-16 14:59:07,833 - tracker - INFO - Rank 0 -- tracking contacts -- 500 of 539 of type play_group\n",
      "2022-09-16 14:59:08,192 - tracker - INFO - Rank 0 -- tracking contacts -- 82 of 82 of type pump_latrine\n",
      "2022-09-16 14:59:10,779 - tracker - INFO - Rank 0 -- tracking contacts -- 500 of 2065 of type religious\n",
      "2022-09-16 14:59:11,041 - tracker - INFO - Rank 0 -- tracking contacts -- 8 of 8 of type hospital\n",
      "2022-09-16 14:59:11,042 - tracker - INFO - Rank 0 -- tracking contacts -- 8 of 8 of type isolation_unit\n",
      "2022-09-16 14:59:11,043 - rank - INFO - Rank 0 -- tracker -- 6.7223905680002645\n",
      "2022-09-16 14:59:11,062 - epidemiology - INFO - CMS: Infection COMS-v2 for rank 0/1(2)0.00023865699768066406,0.0002384185791015625 - 2020-05-29 14:00:00\n",
      "2022-09-16 14:59:11,110 - rank - INFO - Rank 0 -- interaction_waiting -- 6.52299786452204e-06\n",
      "2022-09-16 14:59:11,125 - simulator - INFO - CMS: Timestep for rank 0/1 - 8.181451873999322,8.181452989578247 - 2020-05-29 14:00:00\n",
      "\n",
      "2022-09-16 14:59:11,129 - rank - INFO - Next timestep\n",
      "2022-09-16 14:59:11,130 - simulator - INFO - ==================== timestep ====================\n",
      "2022-09-16 14:59:12,003 - rank - INFO - Rank 0 -- move_people -- 0.871678105002502\n",
      "2022-09-16 14:59:12,004 - rank - INFO - Rank 0 -- move_people_waiting -- 1.1276992154307663e-05\n",
      "2022-09-16 14:59:12,005 - activity_manager - INFO - CMS: People COMS for rank 0/1 - 4.265995812602341e-06,3.5762786865234375e-06 - 2020-05-29 16:00:00\n",
      "2022-09-16 14:59:12,011 - simulator - INFO - Info for rank 0, Date = 2020-05-29 16:00:00, number of deaths =  0, number of infected = 1013\n",
      "2022-09-16 14:59:12,210 - rank - INFO - Rank 0 -- interaction -- 0.20373334400937892\n",
      "2022-09-16 14:59:15,771 - tracker - INFO - Rank 0 -- tracking contacts -- 500 of 3263 of type shelter\n",
      "2022-09-16 14:59:16,285 - tracker - INFO - Rank 0 -- tracking contacts -- 389 of 389 of type learning_center\n",
      "2022-09-16 14:59:16,291 - tracker - INFO - Rank 0 -- tracking contacts -- 115 of 115 of type communal\n",
      "2022-09-16 14:59:16,295 - tracker - INFO - Rank 0 -- tracking contacts -- 21 of 21 of type distribution_center\n",
      "2022-09-16 14:59:16,328 - tracker - INFO - Rank 0 -- tracking contacts -- 7 of 7 of type e_voucher\n",
      "2022-09-16 14:59:16,342 - tracker - INFO - Rank 0 -- tracking contacts -- 67 of 67 of type female_communal\n",
      "2022-09-16 14:59:16,344 - tracker - INFO - Rank 0 -- tracking contacts -- 80 of 80 of type informal_work\n",
      "2022-09-16 14:59:16,450 - tracker - INFO - Rank 0 -- tracking contacts -- 41 of 41 of type n_f_distribution_center\n",
      "2022-09-16 14:59:16,519 - tracker - INFO - Rank 0 -- tracking contacts -- 500 of 539 of type play_group\n",
      "2022-09-16 14:59:16,857 - tracker - INFO - Rank 0 -- tracking contacts -- 82 of 82 of type pump_latrine\n",
      "2022-09-16 14:59:19,113 - tracker - INFO - Rank 0 -- tracking contacts -- 500 of 2065 of type religious\n",
      "2022-09-16 14:59:19,399 - tracker - INFO - Rank 0 -- tracking contacts -- 8 of 8 of type hospital\n",
      "2022-09-16 14:59:19,400 - tracker - INFO - Rank 0 -- tracking contacts -- 8 of 8 of type isolation_unit\n",
      "2022-09-16 14:59:19,401 - rank - INFO - Rank 0 -- tracker -- 7.190222003002418\n",
      "2022-09-16 14:59:19,421 - epidemiology - INFO - CMS: Infection COMS-v2 for rank 0/1(2)0.0003172269935021177,0.00031685829162597656 - 2020-05-29 16:00:00\n",
      "2022-09-16 14:59:19,481 - rank - INFO - Rank 0 -- interaction_waiting -- 8.457995136268437e-06\n",
      "2022-09-16 14:59:19,501 - simulator - INFO - CMS: Timestep for rank 0/1 - 8.369646446997649,8.369647979736328 - 2020-05-29 16:00:00\n",
      "\n",
      "2022-09-16 14:59:19,504 - rank - INFO - Next timestep\n",
      "2022-09-16 14:59:19,505 - simulator - INFO - ==================== timestep ====================\n",
      "2022-09-16 14:59:20,665 - rank - INFO - Rank 0 -- move_people -- 1.158752426999854\n",
      "2022-09-16 14:59:20,666 - rank - INFO - Rank 0 -- move_people_waiting -- 9.548995876684785e-06\n",
      "2022-09-16 14:59:20,667 - activity_manager - INFO - CMS: People COMS for rank 0/1 - 5.4879928939044476e-06,4.76837158203125e-06 - 2020-05-29 18:00:00\n",
      "2022-09-16 14:59:20,675 - simulator - INFO - Info for rank 0, Date = 2020-05-29 18:00:00, number of deaths =  0, number of infected = 1043\n",
      "2022-09-16 14:59:20,864 - rank - INFO - Rank 0 -- interaction -- 0.19511907300329767\n",
      "2022-09-16 14:59:24,823 - tracker - INFO - Rank 0 -- tracking contacts -- 500 of 3263 of type shelter\n",
      "2022-09-16 14:59:25,467 - tracker - INFO - Rank 0 -- tracking contacts -- 389 of 389 of type learning_center\n",
      "2022-09-16 14:59:25,478 - tracker - INFO - Rank 0 -- tracking contacts -- 115 of 115 of type communal\n",
      "2022-09-16 14:59:25,481 - tracker - INFO - Rank 0 -- tracking contacts -- 21 of 21 of type distribution_center\n",
      "2022-09-16 14:59:25,514 - tracker - INFO - Rank 0 -- tracking contacts -- 7 of 7 of type e_voucher\n",
      "2022-09-16 14:59:25,531 - tracker - INFO - Rank 0 -- tracking contacts -- 67 of 67 of type female_communal\n",
      "2022-09-16 14:59:25,533 - tracker - INFO - Rank 0 -- tracking contacts -- 80 of 80 of type informal_work\n",
      "2022-09-16 14:59:25,636 - tracker - INFO - Rank 0 -- tracking contacts -- 41 of 41 of type n_f_distribution_center\n",
      "2022-09-16 14:59:25,707 - tracker - INFO - Rank 0 -- tracking contacts -- 500 of 539 of type play_group\n",
      "2022-09-16 14:59:26,103 - tracker - INFO - Rank 0 -- tracking contacts -- 82 of 82 of type pump_latrine\n",
      "2022-09-16 14:59:29,380 - tracker - INFO - Rank 0 -- tracking contacts -- 500 of 2065 of type religious\n",
      "2022-09-16 14:59:29,624 - tracker - INFO - Rank 0 -- tracking contacts -- 8 of 8 of type hospital\n",
      "2022-09-16 14:59:29,625 - tracker - INFO - Rank 0 -- tracking contacts -- 8 of 8 of type isolation_unit\n",
      "2022-09-16 14:59:29,626 - rank - INFO - Rank 0 -- tracker -- 8.761107284997706\n",
      "2022-09-16 14:59:29,648 - epidemiology - INFO - CMS: Infection COMS-v2 for rank 0/1(2)0.00030933400557842106,0.00030875205993652344 - 2020-05-29 18:00:00\n",
      "2022-09-16 14:59:29,693 - rank - INFO - Rank 0 -- interaction_waiting -- 8.018003427423537e-06\n",
      "2022-09-16 14:59:29,708 - simulator - INFO - CMS: Timestep for rank 0/1 - 10.2013937849988,10.20139479637146 - 2020-05-29 18:00:00\n",
      "\n",
      "2022-09-16 14:59:29,710 - rank - INFO - Next timestep\n",
      "2022-09-16 14:59:29,712 - simulator - INFO - ==================== timestep ====================\n",
      "2022-09-16 14:59:29,891 - rank - INFO - Rank 0 -- move_people -- 0.17873233299178537\n",
      "2022-09-16 14:59:29,892 - rank - INFO - Rank 0 -- move_people_waiting -- 1.204099680762738e-05\n",
      "2022-09-16 14:59:29,894 - activity_manager - INFO - CMS: People COMS for rank 0/1 - 4.9670052248984575e-06,4.5299530029296875e-06 - 2020-05-29 20:00:00\n",
      "2022-09-16 14:59:29,901 - simulator - INFO - Info for rank 0, Date = 2020-05-29 20:00:00, number of deaths =  0, number of infected = 1091\n",
      "2022-09-16 14:59:30,057 - rank - INFO - Rank 0 -- interaction -- 0.16215021500829607\n",
      "2022-09-16 14:59:34,538 - tracker - INFO - Rank 0 -- tracking contacts -- 500 of 3263 of type shelter\n",
      "2022-09-16 14:59:35,744 - tracker - INFO - Rank 0 -- tracking contacts -- 389 of 389 of type learning_center\n",
      "2022-09-16 14:59:35,751 - tracker - INFO - Rank 0 -- tracking contacts -- 115 of 115 of type communal\n",
      "2022-09-16 14:59:35,754 - tracker - INFO - Rank 0 -- tracking contacts -- 21 of 21 of type distribution_center\n",
      "2022-09-16 14:59:35,756 - tracker - INFO - Rank 0 -- tracking contacts -- 7 of 7 of type e_voucher\n",
      "2022-09-16 14:59:35,758 - tracker - INFO - Rank 0 -- tracking contacts -- 67 of 67 of type female_communal\n",
      "2022-09-16 14:59:35,760 - tracker - INFO - Rank 0 -- tracking contacts -- 80 of 80 of type informal_work\n",
      "2022-09-16 14:59:35,764 - tracker - INFO - Rank 0 -- tracking contacts -- 41 of 41 of type n_f_distribution_center\n",
      "2022-09-16 14:59:35,768 - tracker - INFO - Rank 0 -- tracking contacts -- 500 of 539 of type play_group\n",
      "2022-09-16 14:59:35,778 - tracker - INFO - Rank 0 -- tracking contacts -- 82 of 82 of type pump_latrine\n",
      "2022-09-16 14:59:35,793 - tracker - INFO - Rank 0 -- tracking contacts -- 500 of 2065 of type religious\n",
      "2022-09-16 14:59:35,802 - tracker - INFO - Rank 0 -- tracking contacts -- 8 of 8 of type hospital\n"
     ]
    },
    {
     "name": "stdout",
     "output_type": "stream",
     "text": [
      "2022-09-16 14:59:35,803 - tracker - INFO - Rank 0 -- tracking contacts -- 8 of 8 of type isolation_unit\n",
      "2022-09-16 14:59:35,804 - rank - INFO - Rank 0 -- tracker -- 5.746638223994523\n",
      "2022-09-16 14:59:35,850 - epidemiology - INFO - CMS: Infection COMS-v2 for rank 0/1(2)0.00031063900678418577,0.00030994415283203125 - 2020-05-29 20:00:00\n",
      "2022-09-16 14:59:35,894 - rank - INFO - Rank 0 -- interaction_waiting -- 6.499991286545992e-06\n",
      "2022-09-16 14:59:35,908 - simulator - INFO - CMS: Timestep for rank 0/1 - 6.195861348998733,6.195862054824829 - 2020-05-29 20:00:00\n",
      "\n",
      "2022-09-16 14:59:35,911 - rank - INFO - Next timestep\n",
      "2022-09-16 14:59:35,912 - simulator - INFO - ==================== timestep ====================\n",
      "2022-09-16 14:59:36,088 - rank - INFO - Rank 0 -- move_people -- 0.17510058199695777\n",
      "2022-09-16 14:59:36,089 - rank - INFO - Rank 0 -- move_people_waiting -- 7.431008270941675e-06\n",
      "2022-09-16 14:59:36,090 - activity_manager - INFO - CMS: People COMS for rank 0/1 - 3.962995833717287e-06,3.5762786865234375e-06 - 2020-05-30 09:00:00\n",
      "2022-09-16 14:59:36,096 - simulator - INFO - Info for rank 0, Date = 2020-05-30 09:00:00, number of deaths =  0, number of infected = 1203\n",
      "2022-09-16 14:59:36,214 - rank - INFO - Rank 0 -- interaction -- 0.12291591700341087\n",
      "2022-09-16 14:59:40,520 - tracker - INFO - Rank 0 -- tracking contacts -- 500 of 3263 of type shelter\n",
      "2022-09-16 14:59:41,545 - tracker - INFO - Rank 0 -- tracking contacts -- 389 of 389 of type learning_center\n",
      "2022-09-16 14:59:41,554 - tracker - INFO - Rank 0 -- tracking contacts -- 115 of 115 of type communal\n",
      "2022-09-16 14:59:41,556 - tracker - INFO - Rank 0 -- tracking contacts -- 21 of 21 of type distribution_center\n",
      "2022-09-16 14:59:41,558 - tracker - INFO - Rank 0 -- tracking contacts -- 7 of 7 of type e_voucher\n",
      "2022-09-16 14:59:41,560 - tracker - INFO - Rank 0 -- tracking contacts -- 67 of 67 of type female_communal\n",
      "2022-09-16 14:59:41,563 - tracker - INFO - Rank 0 -- tracking contacts -- 80 of 80 of type informal_work\n",
      "2022-09-16 14:59:41,567 - tracker - INFO - Rank 0 -- tracking contacts -- 41 of 41 of type n_f_distribution_center\n",
      "2022-09-16 14:59:41,572 - tracker - INFO - Rank 0 -- tracking contacts -- 500 of 539 of type play_group\n",
      "2022-09-16 14:59:41,589 - tracker - INFO - Rank 0 -- tracking contacts -- 82 of 82 of type pump_latrine\n",
      "2022-09-16 14:59:41,606 - tracker - INFO - Rank 0 -- tracking contacts -- 500 of 2065 of type religious\n",
      "2022-09-16 14:59:41,614 - tracker - INFO - Rank 0 -- tracking contacts -- 8 of 8 of type hospital\n",
      "2022-09-16 14:59:41,616 - tracker - INFO - Rank 0 -- tracking contacts -- 8 of 8 of type isolation_unit\n",
      "2022-09-16 14:59:41,617 - rank - INFO - Rank 0 -- tracker -- 5.4021229700010736\n",
      "2022-09-16 14:59:41,643 - epidemiology - INFO - CMS: Infection COMS-v2 for rank 0/1(2)0.003000081007485278,0.0029997825622558594 - 2020-05-30 09:00:00\n",
      "2022-09-16 14:59:41,691 - rank - INFO - Rank 0 -- interaction_waiting -- 6.962000043131411e-06\n",
      "2022-09-16 14:59:41,705 - simulator - INFO - CMS: Timestep for rank 0/1 - 5.791561703008483,5.791561841964722 - 2020-05-30 09:00:00\n",
      "\n",
      "2022-09-16 14:59:41,707 - rank - INFO - Next timestep\n",
      "2022-09-16 14:59:41,709 - simulator - INFO - ==================== timestep ====================\n",
      "2022-09-16 14:59:42,744 - rank - INFO - Rank 0 -- move_people -- 1.0339724179939367\n",
      "2022-09-16 14:59:42,745 - rank - INFO - Rank 0 -- move_people_waiting -- 9.593000868335366e-06\n",
      "2022-09-16 14:59:42,746 - activity_manager - INFO - CMS: People COMS for rank 0/1 - 4.117988282814622e-06,3.814697265625e-06 - 2020-05-30 12:00:00\n",
      "2022-09-16 14:59:42,752 - simulator - INFO - Info for rank 0, Date = 2020-05-30 12:00:00, number of deaths =  0, number of infected = 1242\n",
      "2022-09-16 14:59:42,954 - rank - INFO - Rank 0 -- interaction -- 0.20676205099152867\n",
      "2022-09-16 14:59:43,491 - tracker - INFO - Rank 0 -- tracking contacts -- 500 of 3263 of type shelter\n",
      "2022-09-16 14:59:44,014 - tracker - INFO - Rank 0 -- tracking contacts -- 389 of 389 of type learning_center\n",
      "2022-09-16 14:59:44,021 - tracker - INFO - Rank 0 -- tracking contacts -- 115 of 115 of type communal\n",
      "2022-09-16 14:59:44,025 - tracker - INFO - Rank 0 -- tracking contacts -- 21 of 21 of type distribution_center\n",
      "2022-09-16 14:59:44,067 - tracker - INFO - Rank 0 -- tracking contacts -- 7 of 7 of type e_voucher\n",
      "2022-09-16 14:59:44,079 - tracker - INFO - Rank 0 -- tracking contacts -- 67 of 67 of type female_communal\n",
      "2022-09-16 14:59:44,081 - tracker - INFO - Rank 0 -- tracking contacts -- 80 of 80 of type informal_work\n",
      "2022-09-16 14:59:44,174 - tracker - INFO - Rank 0 -- tracking contacts -- 41 of 41 of type n_f_distribution_center\n",
      "2022-09-16 14:59:44,254 - tracker - INFO - Rank 0 -- tracking contacts -- 500 of 539 of type play_group\n",
      "2022-09-16 14:59:44,641 - tracker - INFO - Rank 0 -- tracking contacts -- 82 of 82 of type pump_latrine\n",
      "2022-09-16 14:59:46,998 - tracker - INFO - Rank 0 -- tracking contacts -- 500 of 2065 of type religious\n",
      "2022-09-16 14:59:47,342 - tracker - INFO - Rank 0 -- tracking contacts -- 8 of 8 of type hospital\n",
      "2022-09-16 14:59:47,344 - tracker - INFO - Rank 0 -- tracking contacts -- 8 of 8 of type isolation_unit\n",
      "2022-09-16 14:59:47,344 - rank - INFO - Rank 0 -- tracker -- 4.3898089259892\n",
      "2022-09-16 14:59:47,368 - epidemiology - INFO - CMS: Infection COMS-v2 for rank 0/1(2)0.001298299990594387,0.0012977123260498047 - 2020-05-30 12:00:00\n",
      "2022-09-16 14:59:47,417 - rank - INFO - Rank 0 -- interaction_waiting -- 7.776005077175796e-06\n",
      "2022-09-16 14:59:47,432 - simulator - INFO - CMS: Timestep for rank 0/1 - 5.722076896010549,5.7220778465271 - 2020-05-30 12:00:00\n",
      "\n",
      "2022-09-16 14:59:47,435 - rank - INFO - Next timestep\n",
      "2022-09-16 14:59:47,436 - simulator - INFO - ==================== timestep ====================\n",
      "2022-09-16 14:59:48,594 - rank - INFO - Rank 0 -- move_people -- 1.1572205310076242\n",
      "2022-09-16 14:59:48,596 - rank - INFO - Rank 0 -- move_people_waiting -- 4.604007699526846e-06\n",
      "2022-09-16 14:59:48,597 - activity_manager - INFO - CMS: People COMS for rank 0/1 - 4.286004696041346e-06,4.0531158447265625e-06 - 2020-05-30 14:00:00\n",
      "2022-09-16 14:59:48,606 - simulator - INFO - Info for rank 0, Date = 2020-05-30 14:00:00, number of deaths =  0, number of infected = 1274\n",
      "2022-09-16 14:59:48,813 - rank - INFO - Rank 0 -- interaction -- 0.21533045898831915\n",
      "2022-09-16 14:59:51,076 - tracker - INFO - Rank 0 -- tracking contacts -- 500 of 3263 of type shelter\n",
      "2022-09-16 14:59:51,629 - tracker - INFO - Rank 0 -- tracking contacts -- 389 of 389 of type learning_center\n",
      "2022-09-16 14:59:51,636 - tracker - INFO - Rank 0 -- tracking contacts -- 115 of 115 of type communal\n",
      "2022-09-16 14:59:51,638 - tracker - INFO - Rank 0 -- tracking contacts -- 21 of 21 of type distribution_center\n",
      "2022-09-16 14:59:51,663 - tracker - INFO - Rank 0 -- tracking contacts -- 7 of 7 of type e_voucher\n",
      "2022-09-16 14:59:51,685 - tracker - INFO - Rank 0 -- tracking contacts -- 67 of 67 of type female_communal\n",
      "2022-09-16 14:59:51,688 - tracker - INFO - Rank 0 -- tracking contacts -- 80 of 80 of type informal_work\n",
      "2022-09-16 14:59:51,786 - tracker - INFO - Rank 0 -- tracking contacts -- 41 of 41 of type n_f_distribution_center\n",
      "2022-09-16 14:59:51,873 - tracker - INFO - Rank 0 -- tracking contacts -- 500 of 539 of type play_group\n",
      "2022-09-16 14:59:52,455 - tracker - INFO - Rank 0 -- tracking contacts -- 82 of 82 of type pump_latrine\n",
      "2022-09-16 14:59:56,147 - tracker - INFO - Rank 0 -- tracking contacts -- 500 of 2065 of type religious\n",
      "2022-09-16 14:59:56,562 - tracker - INFO - Rank 0 -- tracking contacts -- 8 of 8 of type hospital\n",
      "2022-09-16 14:59:56,563 - tracker - INFO - Rank 0 -- tracking contacts -- 8 of 8 of type isolation_unit\n",
      "2022-09-16 14:59:56,565 - rank - INFO - Rank 0 -- tracker -- 7.749925737007288\n",
      "2022-09-16 14:59:56,601 - epidemiology - INFO - CMS: Infection COMS-v2 for rank 0/1(2)0.0003648209967650473,0.0003643035888671875 - 2020-05-30 14:00:00\n",
      "2022-09-16 14:59:56,672 - rank - INFO - Rank 0 -- interaction_waiting -- 7.271009963005781e-06\n",
      "2022-09-16 14:59:56,694 - simulator - INFO - CMS: Timestep for rank 0/1 - 9.256866504001664,9.2568678855896 - 2020-05-30 14:00:00\n",
      "\n",
      "2022-09-16 14:59:56,697 - rank - INFO - Next timestep\n",
      "2022-09-16 14:59:56,699 - simulator - INFO - ==================== timestep ====================\n"
     ]
    },
    {
     "name": "stdout",
     "output_type": "stream",
     "text": [
      "2022-09-16 14:59:57,943 - rank - INFO - Rank 0 -- move_people -- 1.242248501002905\n",
      "2022-09-16 14:59:57,944 - rank - INFO - Rank 0 -- move_people_waiting -- 1.2126998626627028e-05\n",
      "2022-09-16 14:59:57,945 - activity_manager - INFO - CMS: People COMS for rank 0/1 - 4.2539904825389385e-06,4.0531158447265625e-06 - 2020-05-30 16:00:00\n",
      "2022-09-16 14:59:57,952 - simulator - INFO - Info for rank 0, Date = 2020-05-30 16:00:00, number of deaths =  0, number of infected = 1322\n",
      "2022-09-16 14:59:58,329 - rank - INFO - Rank 0 -- interaction -- 0.3823611349944258\n",
      "2022-09-16 15:00:01,664 - tracker - INFO - Rank 0 -- tracking contacts -- 500 of 3263 of type shelter\n",
      "2022-09-16 15:00:02,239 - tracker - INFO - Rank 0 -- tracking contacts -- 389 of 389 of type learning_center\n",
      "2022-09-16 15:00:02,247 - tracker - INFO - Rank 0 -- tracking contacts -- 115 of 115 of type communal\n",
      "2022-09-16 15:00:02,249 - tracker - INFO - Rank 0 -- tracking contacts -- 21 of 21 of type distribution_center\n",
      "2022-09-16 15:00:02,299 - tracker - INFO - Rank 0 -- tracking contacts -- 7 of 7 of type e_voucher\n",
      "2022-09-16 15:00:02,320 - tracker - INFO - Rank 0 -- tracking contacts -- 67 of 67 of type female_communal\n",
      "2022-09-16 15:00:02,322 - tracker - INFO - Rank 0 -- tracking contacts -- 80 of 80 of type informal_work\n",
      "2022-09-16 15:00:02,423 - tracker - INFO - Rank 0 -- tracking contacts -- 41 of 41 of type n_f_distribution_center\n",
      "2022-09-16 15:00:02,483 - tracker - INFO - Rank 0 -- tracking contacts -- 500 of 539 of type play_group\n",
      "2022-09-16 15:00:03,006 - tracker - INFO - Rank 0 -- tracking contacts -- 82 of 82 of type pump_latrine\n",
      "2022-09-16 15:00:05,538 - tracker - INFO - Rank 0 -- tracking contacts -- 500 of 2065 of type religious\n",
      "2022-09-16 15:00:05,781 - tracker - INFO - Rank 0 -- tracking contacts -- 8 of 8 of type hospital\n",
      "2022-09-16 15:00:05,783 - tracker - INFO - Rank 0 -- tracking contacts -- 8 of 8 of type isolation_unit\n",
      "2022-09-16 15:00:05,784 - rank - INFO - Rank 0 -- tracker -- 7.450080138994963\n",
      "2022-09-16 15:00:05,812 - epidemiology - INFO - CMS: Infection COMS-v2 for rank 0/1(2)0.0009454410028411075,0.0009443759918212891 - 2020-05-30 16:00:00\n",
      "2022-09-16 15:00:05,856 - rank - INFO - Rank 0 -- interaction_waiting -- 6.905000191181898e-06\n",
      "2022-09-16 15:00:05,870 - simulator - INFO - CMS: Timestep for rank 0/1 - 9.169390932991519,9.169391632080078 - 2020-05-30 16:00:00\n",
      "\n",
      "2022-09-16 15:00:05,872 - rank - INFO - Next timestep\n",
      "2022-09-16 15:00:05,873 - simulator - INFO - ==================== timestep ====================\n",
      "2022-09-16 15:00:07,070 - rank - INFO - Rank 0 -- move_people -- 1.195769358004327\n",
      "2022-09-16 15:00:07,071 - rank - INFO - Rank 0 -- move_people_waiting -- 7.929003913886845e-06\n",
      "2022-09-16 15:00:07,072 - activity_manager - INFO - CMS: People COMS for rank 0/1 - 4.444998921826482e-06,4.0531158447265625e-06 - 2020-05-30 18:00:00\n",
      "2022-09-16 15:00:07,081 - simulator - INFO - Info for rank 0, Date = 2020-05-30 18:00:00, number of deaths =  0, number of infected = 1361\n",
      "2022-09-16 15:00:07,307 - rank - INFO - Rank 0 -- interaction -- 0.23341979199904017\n",
      "2022-09-16 15:00:10,873 - tracker - INFO - Rank 0 -- tracking contacts -- 500 of 3263 of type shelter\n",
      "2022-09-16 15:00:11,460 - tracker - INFO - Rank 0 -- tracking contacts -- 389 of 389 of type learning_center\n",
      "2022-09-16 15:00:11,466 - tracker - INFO - Rank 0 -- tracking contacts -- 115 of 115 of type communal\n",
      "2022-09-16 15:00:11,468 - tracker - INFO - Rank 0 -- tracking contacts -- 21 of 21 of type distribution_center\n",
      "2022-09-16 15:00:11,502 - tracker - INFO - Rank 0 -- tracking contacts -- 7 of 7 of type e_voucher\n",
      "2022-09-16 15:00:11,527 - tracker - INFO - Rank 0 -- tracking contacts -- 67 of 67 of type female_communal\n",
      "2022-09-16 15:00:11,530 - tracker - INFO - Rank 0 -- tracking contacts -- 80 of 80 of type informal_work\n",
      "2022-09-16 15:00:11,632 - tracker - INFO - Rank 0 -- tracking contacts -- 41 of 41 of type n_f_distribution_center\n",
      "2022-09-16 15:00:11,689 - tracker - INFO - Rank 0 -- tracking contacts -- 500 of 539 of type play_group\n",
      "2022-09-16 15:00:12,053 - tracker - INFO - Rank 0 -- tracking contacts -- 82 of 82 of type pump_latrine\n",
      "2022-09-16 15:00:14,604 - tracker - INFO - Rank 0 -- tracking contacts -- 500 of 2065 of type religious\n",
      "2022-09-16 15:00:15,042 - tracker - INFO - Rank 0 -- tracking contacts -- 8 of 8 of type hospital\n",
      "2022-09-16 15:00:15,044 - tracker - INFO - Rank 0 -- tracking contacts -- 8 of 8 of type isolation_unit\n",
      "2022-09-16 15:00:15,045 - rank - INFO - Rank 0 -- tracker -- 7.737426104999031\n",
      "2022-09-16 15:00:15,079 - epidemiology - INFO - CMS: Infection COMS-v2 for rank 0/1(2)0.001360109992674552,0.0013594627380371094 - 2020-05-30 18:00:00\n",
      "2022-09-16 15:00:15,126 - rank - INFO - Rank 0 -- interaction_waiting -- 7.654001819901168e-06\n",
      "2022-09-16 15:00:15,142 - simulator - INFO - CMS: Timestep for rank 0/1 - 9.26772447899566,9.267725944519043 - 2020-05-30 18:00:00\n",
      "\n",
      "2022-09-16 15:00:15,145 - rank - INFO - Next timestep\n",
      "2022-09-16 15:00:15,147 - simulator - INFO - ==================== timestep ====================\n",
      "2022-09-16 15:00:15,484 - rank - INFO - Rank 0 -- move_people -- 0.3346072030108189\n",
      "2022-09-16 15:00:15,485 - rank - INFO - Rank 0 -- move_people_waiting -- 9.719005902297795e-06\n",
      "2022-09-16 15:00:15,486 - activity_manager - INFO - CMS: People COMS for rank 0/1 - 5.733993020839989e-06,5.245208740234375e-06 - 2020-05-30 20:00:00\n",
      "2022-09-16 15:00:15,495 - simulator - INFO - Info for rank 0, Date = 2020-05-30 20:00:00, number of deaths =  0, number of infected = 1403\n",
      "2022-09-16 15:00:15,632 - rank - INFO - Rank 0 -- interaction -- 0.14501745298912283\n",
      "2022-09-16 15:00:20,343 - tracker - INFO - Rank 0 -- tracking contacts -- 500 of 3263 of type shelter\n",
      "2022-09-16 15:00:21,658 - tracker - INFO - Rank 0 -- tracking contacts -- 389 of 389 of type learning_center\n",
      "2022-09-16 15:00:21,667 - tracker - INFO - Rank 0 -- tracking contacts -- 115 of 115 of type communal\n",
      "2022-09-16 15:00:21,671 - tracker - INFO - Rank 0 -- tracking contacts -- 21 of 21 of type distribution_center\n",
      "2022-09-16 15:00:21,673 - tracker - INFO - Rank 0 -- tracking contacts -- 7 of 7 of type e_voucher\n",
      "2022-09-16 15:00:21,675 - tracker - INFO - Rank 0 -- tracking contacts -- 67 of 67 of type female_communal\n",
      "2022-09-16 15:00:21,679 - tracker - INFO - Rank 0 -- tracking contacts -- 80 of 80 of type informal_work\n",
      "2022-09-16 15:00:21,683 - tracker - INFO - Rank 0 -- tracking contacts -- 41 of 41 of type n_f_distribution_center\n",
      "2022-09-16 15:00:21,687 - tracker - INFO - Rank 0 -- tracking contacts -- 500 of 539 of type play_group\n",
      "2022-09-16 15:00:21,703 - tracker - INFO - Rank 0 -- tracking contacts -- 82 of 82 of type pump_latrine\n",
      "2022-09-16 15:00:21,722 - tracker - INFO - Rank 0 -- tracking contacts -- 500 of 2065 of type religious\n",
      "2022-09-16 15:00:21,736 - tracker - INFO - Rank 0 -- tracking contacts -- 8 of 8 of type hospital\n",
      "2022-09-16 15:00:21,738 - tracker - INFO - Rank 0 -- tracking contacts -- 8 of 8 of type isolation_unit\n",
      "2022-09-16 15:00:21,739 - rank - INFO - Rank 0 -- tracker -- 6.106024031993002\n",
      "2022-09-16 15:00:21,840 - epidemiology - INFO - CMS: Infection COMS-v2 for rank 0/1(2)0.0003139650070806965,0.0003132820129394531 - 2020-05-30 20:00:00\n",
      "2022-09-16 15:00:21,906 - rank - INFO - Rank 0 -- interaction_waiting -- 1.6425008652731776e-05\n",
      "2022-09-16 15:00:21,926 - simulator - INFO - CMS: Timestep for rank 0/1 - 6.776649728009943,6.776650667190552 - 2020-05-30 20:00:00\n",
      "\n",
      "CPU times: user 6min 6s, sys: 3.33 s, total: 6min 9s\n",
      "Wall time: 6min 6s\n"
     ]
    }
   ],
   "source": [
    "%%time\n",
    "simulator.run()"
   ]
  },
  {
   "cell_type": "markdown",
   "metadata": {},
   "source": [
    "# Getting the results"
   ]
  },
  {
   "cell_type": "markdown",
   "metadata": {},
   "source": [
    "All results are stored in a json file specified in the `record_path` when defining the recorder. This can be read in by passing the folder locations to the `RecordReader` class and results derived.\n",
    "\n",
    "Here we show some examples of the kind of analysis you can extract from the records."
   ]
  },
  {
   "cell_type": "code",
   "execution_count": 55,
   "metadata": {},
   "outputs": [],
   "source": [
    "import pandas as pd"
   ]
  },
  {
   "cell_type": "code",
   "execution_count": 56,
   "metadata": {},
   "outputs": [],
   "source": [
    "read = RecordReader(Results_Path)"
   ]
  },
  {
   "cell_type": "markdown",
   "metadata": {},
   "source": [
    "The regional summary gives you information at the regional (camp) level."
   ]
  },
  {
   "cell_type": "markdown",
   "metadata": {},
   "source": [
    "### Regional information"
   ]
  },
  {
   "cell_type": "code",
   "execution_count": 57,
   "metadata": {},
   "outputs": [
    {
     "data": {
      "text/html": [
       "<div>\n",
       "<style scoped>\n",
       "    .dataframe tbody tr th:only-of-type {\n",
       "        vertical-align: middle;\n",
       "    }\n",
       "\n",
       "    .dataframe tbody tr th {\n",
       "        vertical-align: top;\n",
       "    }\n",
       "\n",
       "    .dataframe thead th {\n",
       "        text-align: right;\n",
       "    }\n",
       "</style>\n",
       "<table border=\"1\" class=\"dataframe\">\n",
       "  <thead>\n",
       "    <tr style=\"text-align: right;\">\n",
       "      <th></th>\n",
       "      <th>region</th>\n",
       "      <th>current_infected</th>\n",
       "      <th>daily_infected</th>\n",
       "      <th>current_hospitalised</th>\n",
       "      <th>daily_hospitalised</th>\n",
       "      <th>current_intensive_care</th>\n",
       "      <th>daily_intensive_care</th>\n",
       "      <th>daily_hospital_deaths</th>\n",
       "      <th>daily_deaths</th>\n",
       "    </tr>\n",
       "    <tr>\n",
       "      <th>time_stamp</th>\n",
       "      <th></th>\n",
       "      <th></th>\n",
       "      <th></th>\n",
       "      <th></th>\n",
       "      <th></th>\n",
       "      <th></th>\n",
       "      <th></th>\n",
       "      <th></th>\n",
       "      <th></th>\n",
       "    </tr>\n",
       "  </thead>\n",
       "  <tbody>\n",
       "    <tr>\n",
       "      <th>2020-05-24</th>\n",
       "      <td>CXB-219</td>\n",
       "      <td>228.500000</td>\n",
       "      <td>248</td>\n",
       "      <td>0.0</td>\n",
       "      <td>0</td>\n",
       "      <td>0.0</td>\n",
       "      <td>0</td>\n",
       "      <td>0</td>\n",
       "      <td>0</td>\n",
       "    </tr>\n",
       "    <tr>\n",
       "      <th>2020-05-25</th>\n",
       "      <td>CXB-219</td>\n",
       "      <td>279.666667</td>\n",
       "      <td>81</td>\n",
       "      <td>0.0</td>\n",
       "      <td>0</td>\n",
       "      <td>0.0</td>\n",
       "      <td>0</td>\n",
       "      <td>0</td>\n",
       "      <td>0</td>\n",
       "    </tr>\n",
       "    <tr>\n",
       "      <th>2020-05-26</th>\n",
       "      <td>CXB-219</td>\n",
       "      <td>379.666667</td>\n",
       "      <td>132</td>\n",
       "      <td>0.0</td>\n",
       "      <td>0</td>\n",
       "      <td>0.0</td>\n",
       "      <td>0</td>\n",
       "      <td>0</td>\n",
       "      <td>0</td>\n",
       "    </tr>\n",
       "  </tbody>\n",
       "</table>\n",
       "</div>"
      ],
      "text/plain": [
       "             region  current_infected  daily_infected  current_hospitalised  \\\n",
       "time_stamp                                                                    \n",
       "2020-05-24  CXB-219        228.500000             248                   0.0   \n",
       "2020-05-25  CXB-219        279.666667              81                   0.0   \n",
       "2020-05-26  CXB-219        379.666667             132                   0.0   \n",
       "\n",
       "            daily_hospitalised  current_intensive_care  daily_intensive_care  \\\n",
       "time_stamp                                                                     \n",
       "2020-05-24                   0                     0.0                     0   \n",
       "2020-05-25                   0                     0.0                     0   \n",
       "2020-05-26                   0                     0.0                     0   \n",
       "\n",
       "            daily_hospital_deaths  daily_deaths  \n",
       "time_stamp                                       \n",
       "2020-05-24                      0             0  \n",
       "2020-05-25                      0             0  \n",
       "2020-05-26                      0             0  "
      ]
     },
     "execution_count": 57,
     "metadata": {},
     "output_type": "execute_result"
    }
   ],
   "source": [
    "read.regional_summary.head(3) # this is the equivalent of the summary.csv"
   ]
  },
  {
   "cell_type": "markdown",
   "metadata": {},
   "source": [
    "### Daily infections"
   ]
  },
  {
   "cell_type": "code",
   "execution_count": 58,
   "metadata": {},
   "outputs": [],
   "source": [
    "summary = read.regional_summary.reset_index()"
   ]
  },
  {
   "cell_type": "code",
   "execution_count": 59,
   "metadata": {},
   "outputs": [
    {
     "data": {
      "image/png": "[encoded data removed]",
      "text/plain": [
       "<Figure size 432x288 with 1 Axes>"
      ]
     },
     "metadata": {
      "needs_background": "light"
     },
     "output_type": "display_data"
    }
   ],
   "source": [
    "summary.groupby(['time_stamp']).sum().plot(y=['daily_infected'])\n",
    "plt.ylabel('Daily infections')\n",
    "plt.show()"
   ]
  },
  {
   "cell_type": "markdown",
   "metadata": {},
   "source": [
    "### Hospital and intensive care"
   ]
  },
  {
   "cell_type": "code",
   "execution_count": 60,
   "metadata": {},
   "outputs": [
    {
     "data": {
      "image/png": "[encoded data removed]",
      "text/plain": [
       "<Figure size 432x288 with 1 Axes>"
      ]
     },
     "metadata": {
      "needs_background": "light"
     },
     "output_type": "display_data"
    }
   ],
   "source": [
    "summary.groupby(['time_stamp']).sum().plot(y=['current_hospitalised', 'current_intensive_care'])\n",
    "plt.show()"
   ]
  },
  {
   "cell_type": "markdown",
   "metadata": {},
   "source": [
    "### Cumulative infections by age"
   ]
  },
  {
   "cell_type": "code",
   "execution_count": 61,
   "metadata": {},
   "outputs": [
    {
     "name": "stdout",
     "output_type": "stream",
     "text": [
      "2022-09-16 15:00:22,779 - june.records.records_reader - INFO - Loading infections table\n",
      "2022-09-16 15:00:22,793 - june.records.records_reader - INFO - Loading population table\n",
      "2022-09-16 15:00:22,860 - june.records.records_reader - INFO - Merging infection and population tables\n",
      "2022-09-16 15:00:22,870 - june.records.records_reader - INFO - Loading geography table\n",
      "2022-09-16 15:00:22,902 - june.records.records_reader - INFO - Mergeing infection and geography tables\n"
     ]
    }
   ],
   "source": [
    "infections_df = read.get_table_with_extras('infections',\n",
    "                                           'infected_ids')"
   ]
  },
  {
   "cell_type": "code",
   "execution_count": 62,
   "metadata": {},
   "outputs": [
    {
     "name": "stdout",
     "output_type": "stream",
     "text": [
      "2022-09-16 15:00:22,922 - june.records.records_reader - INFO - Loading deaths table\n",
      "2022-09-16 15:00:22,931 - june.records.records_reader - INFO - Loading population table\n",
      "2022-09-16 15:00:23,020 - june.records.records_reader - INFO - Merging infection and population tables\n",
      "2022-09-16 15:00:23,027 - june.records.records_reader - INFO - Loading geography table\n",
      "2022-09-16 15:00:23,059 - june.records.records_reader - INFO - Mergeing infection and geography tables\n"
     ]
    }
   ],
   "source": [
    "deaths_df = read.get_table_with_extras('deaths', \n",
    "                                       'dead_person_ids')"
   ]
  },
  {
   "cell_type": "code",
   "execution_count": 63,
   "metadata": {},
   "outputs": [],
   "source": [
    "age_bins = (0,20,60,100)"
   ]
  },
  {
   "cell_type": "code",
   "execution_count": 64,
   "metadata": {},
   "outputs": [],
   "source": [
    "infected_by_age = infections_df.groupby([pd.cut(infections_df['age'],\n",
    "            bins=age_bins), 'timestamp']).size()"
   ]
  },
  {
   "cell_type": "code",
   "execution_count": 65,
   "metadata": {},
   "outputs": [],
   "source": [
    "people_df = read.table_to_df('population')"
   ]
  },
  {
   "cell_type": "code",
   "execution_count": 66,
   "metadata": {},
   "outputs": [],
   "source": [
    "n_by_age = people_df.groupby(pd.cut(people_df['age'],\n",
    "            bins=age_bins)).size()"
   ]
  },
  {
   "cell_type": "code",
   "execution_count": 67,
   "metadata": {},
   "outputs": [
    {
     "data": {
      "text/plain": [
       "<matplotlib.legend.Legend at 0x7f05aed84910>"
      ]
     },
     "execution_count": 67,
     "metadata": {},
     "output_type": "execute_result"
    },
    {
     "data": {
      "image/png": "[encoded data removed]",
      "text/plain": [
       "<Figure size 432x288 with 1 Axes>"
      ]
     },
     "metadata": {
      "needs_background": "light"
     },
     "output_type": "display_data"
    }
   ],
   "source": [
    "(100*infected_by_age/n_by_age).xs(10).cumsum().plot(label='0,20')\n",
    "(100*infected_by_age/n_by_age).xs(30).cumsum().plot(label='20,60')\n",
    "(100*infected_by_age/n_by_age).xs(70).cumsum().plot(label='60,100')\n",
    "plt.ylabel(\"% cumulative infected\")\n",
    "plt.legend()"
   ]
  },
  {
   "cell_type": "markdown",
   "metadata": {},
   "source": [
    "### Where people get infected"
   ]
  },
  {
   "cell_type": "code",
   "execution_count": 68,
   "metadata": {},
   "outputs": [],
   "source": [
    "locations_df = infections_df.groupby(['location_specs', \n",
    "                                'timestamp']).size()"
   ]
  },
  {
   "cell_type": "code",
   "execution_count": 69,
   "metadata": {},
   "outputs": [
    {
     "data": {
      "text/plain": [
       "<AxesSubplot:xlabel='timestamp'>"
      ]
     },
     "execution_count": 69,
     "metadata": {},
     "output_type": "execute_result"
    },
    {
     "data": {
      "image/png": "[encoded data removed]",
      "text/plain": [
       "<Figure size 432x288 with 1 Axes>"
      ]
     },
     "metadata": {
      "needs_background": "light"
     },
     "output_type": "display_data"
    }
   ],
   "source": [
    "locations_df.unstack(level=0).plot()"
   ]
  },
  {
   "cell_type": "code",
   "execution_count": 70,
   "metadata": {},
   "outputs": [
    {
     "data": {
      "text/plain": [
       "Text(0.5, 0, 'location')"
      ]
     },
     "execution_count": 70,
     "metadata": {},
     "output_type": "execute_result"
    },
    {
     "data": {
      "image/png": "[encoded data removed]",
      "text/plain": [
       "<Figure size 432x288 with 1 Axes>"
      ]
     },
     "metadata": {
      "needs_background": "light"
     },
     "output_type": "display_data"
    }
   ],
   "source": [
    "import matplotlib.ticker as mtick\n",
    "location_counts_df = locations_df.groupby('location_specs').size()\n",
    "location_counts_df = 100*location_counts_df / location_counts_df.sum()\n",
    "ax = location_counts_df.sort_values().plot.bar()\n",
    "ax.yaxis.set_major_formatter(mtick.PercentFormatter())\n",
    "plt.ylabel('Percentage of infections at location')\n",
    "plt.xlabel('location')"
   ]
  },
  {
   "cell_type": "markdown",
   "metadata": {},
   "source": [
    "# Tracker results"
   ]
  },
  {
   "cell_type": "markdown",
   "metadata": {},
   "source": [
    "We can define custom binnings with bin edges as such."
   ]
  },
  {
   "cell_type": "code",
   "execution_count": 71,
   "metadata": {},
   "outputs": [
    {
     "data": {
      "text/plain": [
       "1"
      ]
     },
     "execution_count": 71,
     "metadata": {},
     "output_type": "execute_result"
    }
   ],
   "source": [
    "simulator.tracker.contract_matrices(\"AC\", np.array([0,18,60]))"
   ]
  },
  {
   "cell_type": "markdown",
   "metadata": {},
   "source": [
    "Lastly we call the tracker to save the results to file and provide a print out of the results."
   ]
  },
  {
   "cell_type": "code",
   "execution_count": 72,
   "metadata": {
    "scrolled": false
   },
   "outputs": [
    {
     "name": "stdout",
     "output_type": "stream",
     "text": [
      "Results from NCM\n",
      "  communal:\n",
      "    contacts: [[3.7247,7.8198],[1.0902,6.0238]]\n",
      "    contacts_err: [[0.0868,0.1258],[0.0276,0.0649]]\n",
      "    proportion_physical: [[0.1200]]\n",
      "    characteristic_time: 1.00\n",
      "\n",
      "    Ratio of contacts and feed in values: [[0.7449,0.9642],[0.7126,1.0040]]\n",
      "\n",
      "  distribution_center:\n",
      "    contacts: [[4.0265,13.2256],[0.8233,9.9783]]\n",
      "    contacts_err: [[0.0587,0.1063],[0.0155,0.0541]]\n",
      "    proportion_physical: [[0.1200]]\n",
      "    characteristic_time: 1.00\n",
      "\n",
      "    Ratio of contacts and feed in values: [[1.0066,0.9703],[1.0421,0.9978]]\n",
      "\n",
      "  e_voucher:\n",
      "    contacts: [[0.2639,2.2163],[0.1049,13.6306]]\n",
      "    contacts_err: [[0.0229,0.0663],[0.0085,0.0973]]\n",
      "    proportion_physical: [[0.1200]]\n",
      "    characteristic_time: 1.00\n",
      "\n",
      "    Ratio of contacts and feed in values: [[0.0000,1.1081],[1.0486,1.0097]]\n",
      "\n",
      "  female_communal:\n",
      "    contacts: [[4.9586,8.1670],[1.5518,5.8836]]\n",
      "    contacts_err: [[0.0475,0.0610],[0.0266,0.0517]]\n",
      "    proportion_physical: [[0.1200]]\n",
      "    characteristic_time: 1.00\n",
      "\n",
      "    Ratio of contacts and feed in values: [[0.9917,1.0070],[1.0143,0.9806]]\n",
      "\n",
      "  hospital:\n",
      "    contacts: [[5.1472,0.0000,0.0000],[0.0000,0.0000,0.0000],[0.0000,0.0000,0.0000]]\n",
      "    contacts_err: [[0.1768,0.0000,0.0000],[0.0000,0.0000,0.0000],[0.0000,0.0000,0.0000]]\n",
      "    proportion_physical: [[0.0500,1.0000,1.0000],[1.0000,0.0000,0.0000],[1.0000,0.0000,0.0000]]\n",
      "    characteristic_time: 8.00\n",
      "\n",
      "    Ratio of contacts and feed in values: [[1.0294,0.0000,0.0000],[0.0000,0.0000,0.0000],[0.0000,0.0000,0.0000]]\n",
      "\n",
      "  informal_work:\n",
      "    contacts: [[5.0042]]\n",
      "    contacts_err: [[0.0397]]\n",
      "    proportion_physical: [[0.1200]]\n",
      "    characteristic_time: 8.00\n",
      "\n",
      "    Ratio of contacts and feed in values: [[1.0008]]\n",
      "\n",
      "  isolation_unit:\n",
      "    contacts: [[0.0000,0.0000],[0.0000,0.0000]]\n",
      "    contacts_err: [[0.0000,0.0000],[0.0000,0.0000]]\n",
      "    proportion_physical: [[0.0000,0.0000],[0.0000,0.0000]]\n",
      "    characteristic_time: 24.00\n",
      "\n",
      "    Ratio of contacts and feed in values: [[0.0000,0.0000],[0.0000,0.0000]]\n",
      "\n",
      "  learning_center:\n",
      "    contacts: [[9.9723,6.4002],[2.0425,3.8502]]\n",
      "    contacts_err: [[0.0141,0.0113],[0.0071,0.0098]]\n",
      "    proportion_physical: [[0.1200,0.1200],[0.1200,0.1200]]\n",
      "    characteristic_time: 1.50\n",
      "\n",
      "    Ratio of contacts and feed in values: [[0.9972,1.0000],[0.4600,0.9923]]\n",
      "\n",
      "  n_f_distribution_center:\n",
      "    contacts: [[4.0462,13.4209],[0.7836,9.9731]]\n",
      "    contacts_err: [[0.0416,0.0758],[0.0111,0.0396]]\n",
      "    proportion_physical: [[0.1200]]\n",
      "    characteristic_time: 1.00\n",
      "\n",
      "    Ratio of contacts and feed in values: [[1.0115,0.9847],[0.9920,0.9973]]\n",
      "\n",
      "  play_group:\n",
      "    contacts: [[4.9744,0.0000,0.0000],[0.0000,5.0098,0.0000],[0.0000,0.0000,4.8537]]\n",
      "    contacts_err: [[0.0201,0.0000,0.0000],[0.0000,0.0191,0.0000],[0.0000,0.0000,0.0268]]\n",
      "    proportion_physical: [[0.6000,0.0000,0.0000],[0.0000,0.3000,0.0000],[0.0000,0.0000,0.1500]]\n",
      "    characteristic_time: 2.00\n",
      "\n",
      "    Ratio of contacts and feed in values: [[0.9949,0.0000,0.0000],[0.0000,1.0020,0.0000],[0.0000,0.0000,0.9707]]\n",
      "\n",
      "  pump_latrine:\n",
      "    contacts: [[3.2488,9.7287],[1.6288,4.3292]]\n",
      "    contacts_err: [[0.0030,0.0051],[0.0024,0.0039]]\n",
      "    proportion_physical: [[0.0200]]\n",
      "    characteristic_time: 0.54\n",
      "\n",
      "    Ratio of contacts and feed in values: [[0.9996,0.9999],[0.9993,0.9998]]\n",
      "\n",
      "  religious:\n",
      "    contacts: [[4.9618,9.4427],[1.1049,8.4680]]\n",
      "    contacts_err: [[0.0181,0.0249],[0.0062,0.0172]]\n",
      "    proportion_physical: [[0.1200]]\n",
      "    characteristic_time: 1.00\n",
      "\n",
      "    Ratio of contacts and feed in values: [[0.9924,0.9971],[1.0045,0.9962]]\n",
      "\n",
      "  shelter:\n",
      "    contacts: [[4.8350,1.9630],[1.9630,4.8350]]\n",
      "    contacts_err: [[0.0161,0.0103],[0.0103,0.0161]]\n",
      "    proportion_physical: [[0.8000,0.3000],[0.8000,0.3000]]\n",
      "    characteristic_time: 12.00\n",
      "\n",
      "    Ratio of contacts and feed in values: [[0.9670,0.9815],[0.9815,0.9670]]\n",
      "\n",
      "\n",
      "Results from NCM_R\n",
      "  communal:\n",
      "    contacts: [[3.7247,5.4879],[1.8958,6.0238]]\n",
      "    contacts_err: [[0.0614,0.0745],[0.0257,0.0459]]\n",
      "    proportion_physical: [[0.1200]]\n",
      "    characteristic_time: 1.00\n",
      "\n",
      "    Ratio of contacts and feed in values: [[0.7449,0.6767],[1.2391,1.0040]]\n",
      "\n",
      "  distribution_center:\n",
      "    contacts: [[4.0265,7.8132],[2.6792,9.9783]]\n",
      "    contacts_err: [[0.0415,0.0578],[0.0198,0.0382]]\n",
      "    proportion_physical: [[0.1200]]\n",
      "    characteristic_time: 1.00\n",
      "\n",
      "    Ratio of contacts and feed in values: [[1.0066,0.5732],[3.3914,0.9978]]\n",
      "\n",
      "  e_voucher:\n",
      "    contacts: [[0.2639,1.2579],[0.4403,13.6306]]\n",
      "    contacts_err: [[0.0162,0.0353],[0.0124,0.0688]]\n",
      "    proportion_physical: [[0.1200]]\n",
      "    characteristic_time: 1.00\n",
      "\n",
      "    Ratio of contacts and feed in values: [[0.0000,0.6290],[4.4028,1.0097]]\n",
      "\n",
      "  female_communal:\n",
      "    contacts: [[4.9586,4.8601],[4.8557,5.8836]]\n",
      "    contacts_err: [[0.0336,0.0333],[0.0332,0.0366]]\n",
      "    proportion_physical: [[0.1200]]\n",
      "    characteristic_time: 1.00\n",
      "\n",
      "    Ratio of contacts and feed in values: [[0.9917,0.5993],[3.1736,0.9806]]\n",
      "\n",
      "  hospital:\n",
      "    contacts: [[5.1472,0.0000,0.0000],[0.0000,0.0000,0.0000],[0.0000,0.0000,0.0000]]\n",
      "    contacts_err: [[0.1250,0.0000,0.0000],[0.0000,0.0000,0.0000],[0.0000,0.0000,0.0000]]\n",
      "    proportion_physical: [[0.0500,1.0000,1.0000],[1.0000,0.0000,0.0000],[1.0000,0.0000,0.0000]]\n",
      "    characteristic_time: 8.00\n",
      "\n",
      "    Ratio of contacts and feed in values: [[1.0294,0.0000,0.0000],[0.0000,0.0000,0.0000],[0.0000,0.0000,0.0000]]\n",
      "\n",
      "  informal_work:\n",
      "    contacts: [[5.0042]]\n",
      "    contacts_err: [[0.0281]]\n",
      "    proportion_physical: [[0.1200]]\n",
      "    characteristic_time: 8.00\n",
      "\n",
      "    Ratio of contacts and feed in values: [[1.0008]]\n",
      "\n",
      "  isolation_unit:\n",
      "    contacts: [[0.0000,0.0000],[0.0000,0.0000]]\n",
      "    contacts_err: [[0.0000,0.0000],[0.0000,0.0000]]\n",
      "    proportion_physical: [[0.0000,0.0000],[0.0000,0.0000]]\n",
      "    characteristic_time: 24.00\n",
      "\n",
      "    Ratio of contacts and feed in values: [[0.0000,0.0000],[0.0000,0.0000]]\n",
      "\n",
      "  learning_center:\n",
      "    contacts: [[9.9723,4.0107],[5.0530,3.8502]]\n",
      "    contacts_err: [[0.0099,0.0063],[0.0079,0.0069]]\n",
      "    proportion_physical: [[0.1200,0.1200],[0.1200,0.1200]]\n",
      "    characteristic_time: 1.50\n",
      "\n",
      "    Ratio of contacts and feed in values: [[0.9972,0.6267],[1.1381,0.9923]]\n",
      "\n",
      "  n_f_distribution_center:\n",
      "    contacts: [[4.0462,7.7740],[2.8641,9.9731]]\n",
      "    contacts_err: [[0.0294,0.0408],[0.0150,0.0280]]\n",
      "    proportion_physical: [[0.1200]]\n",
      "    characteristic_time: 1.00\n",
      "\n",
      "    Ratio of contacts and feed in values: [[1.0115,0.5704],[3.6254,0.9973]]\n",
      "\n",
      "  play_group:\n",
      "    contacts: [[4.9744,0.0000,0.0000],[0.0000,5.0098,0.0000],[0.0000,0.0000,4.8537]]\n",
      "    contacts_err: [[0.0142,0.0000,0.0000],[0.0000,0.0135,0.0000],[0.0000,0.0000,0.0190]]\n",
      "    proportion_physical: [[0.6000,0.0000,0.0000],[0.0000,0.3000,0.0000],[0.0000,0.0000,0.1500]]\n",
      "    characteristic_time: 2.00\n",
      "\n",
      "    Ratio of contacts and feed in values: [[0.9949,0.0000,0.0000],[0.0000,1.0020,0.0000],[0.0000,0.0000,0.9707]]\n",
      "\n",
      "  pump_latrine:\n",
      "    contacts: [[3.2488,5.4937],[7.1092,4.3292]]\n",
      "    contacts_err: [[0.0021,0.0027],[0.0035,0.0028]]\n",
      "    proportion_physical: [[0.0200]]\n",
      "    characteristic_time: 0.54\n",
      "\n",
      "    Ratio of contacts and feed in values: [[0.9996,0.5646],[4.3614,0.9998]]\n",
      "\n",
      "  religious:\n",
      "    contacts: [[4.9618,5.7614],[3.0604,8.4680]]\n",
      "    contacts_err: [[0.0128,0.0138],[0.0073,0.0122]]\n",
      "    proportion_physical: [[0.1200]]\n",
      "    characteristic_time: 1.00\n",
      "\n",
      "    Ratio of contacts and feed in values: [[0.9924,0.6084],[2.7822,0.9962]]\n",
      "\n",
      "  shelter:\n",
      "    contacts: [[4.8350,1.9630],[1.9630,4.8350]]\n",
      "    contacts_err: [[0.0114,0.0073],[0.0073,0.0114]]\n",
      "    proportion_physical: [[0.8000,0.3000],[0.8000,0.3000]]\n",
      "    characteristic_time: 12.00\n",
      "\n",
      "    Ratio of contacts and feed in values: [[0.9670,0.9815],[0.9815,0.9670]]\n",
      "\n",
      "\n",
      "Results from NCM_P\n",
      "  communal:\n",
      "    contacts: [[3.7247,7.8198],[1.0902,6.0238]]\n",
      "    contacts_err: [[0.0868,0.1258],[0.0276,0.0649]]\n",
      "    proportion_physical: [[0.1200]]\n",
      "    characteristic_time: 1.00\n",
      "\n",
      "    Ratio of contacts and feed in values: [[0.7449,0.9642],[0.7126,1.0040]]\n",
      "\n",
      "  distribution_center:\n",
      "    contacts: [[4.0265,13.2256],[0.8233,9.9783]]\n",
      "    contacts_err: [[0.0587,0.1063],[0.0155,0.0541]]\n",
      "    proportion_physical: [[0.1200]]\n",
      "    characteristic_time: 1.00\n",
      "\n",
      "    Ratio of contacts and feed in values: [[1.0066,0.9703],[1.0421,0.9978]]\n",
      "\n",
      "  e_voucher:\n",
      "    contacts: [[0.2639,2.2163],[0.1049,13.6306]]\n",
      "    contacts_err: [[0.0229,0.0663],[0.0085,0.0973]]\n",
      "    proportion_physical: [[0.1200]]\n",
      "    characteristic_time: 1.00\n",
      "\n",
      "    Ratio of contacts and feed in values: [[0.0000,1.1081],[1.0486,1.0097]]\n",
      "\n",
      "  female_communal:\n",
      "    contacts: [[4.9586,8.1670],[1.5518,5.8836]]\n",
      "    contacts_err: [[0.0475,0.0610],[0.0266,0.0517]]\n",
      "    proportion_physical: [[0.1200]]\n",
      "    characteristic_time: 1.00\n",
      "\n",
      "    Ratio of contacts and feed in values: [[0.9917,1.0070],[1.0143,0.9806]]\n",
      "\n",
      "  hospital:\n",
      "    contacts: [[5.1472,0.0000,0.0000],[0.0000,0.0000,0.0000],[0.0000,0.0000,0.0000]]\n",
      "    contacts_err: [[0.1768,0.0000,0.0000],[0.0000,0.0000,0.0000],[0.0000,0.0000,0.0000]]\n",
      "    proportion_physical: [[0.0500,1.0000,1.0000],[1.0000,0.0000,0.0000],[1.0000,0.0000,0.0000]]\n",
      "    characteristic_time: 8.00\n",
      "\n",
      "    Ratio of contacts and feed in values: [[1.0294,0.0000,0.0000],[0.0000,0.0000,0.0000],[0.0000,0.0000,0.0000]]\n",
      "\n",
      "  informal_work:\n",
      "    contacts: [[5.0042]]\n",
      "    contacts_err: [[0.0397]]\n",
      "    proportion_physical: [[0.1200]]\n",
      "    characteristic_time: 8.00\n",
      "\n",
      "    Ratio of contacts and feed in values: [[1.0008]]\n",
      "\n",
      "  isolation_unit:\n",
      "    contacts: [[0.0000,0.0000],[0.0000,0.0000]]\n",
      "    contacts_err: [[0.0000,0.0000],[0.0000,0.0000]]\n",
      "    proportion_physical: [[0.0000,0.0000],[0.0000,0.0000]]\n",
      "    characteristic_time: 24.00\n",
      "\n",
      "    Ratio of contacts and feed in values: [[0.0000,0.0000],[0.0000,0.0000]]\n",
      "\n",
      "  learning_center:\n",
      "    contacts: [[9.9723,6.4002],[2.0425,3.8502]]\n",
      "    contacts_err: [[0.0141,0.0113],[0.0071,0.0098]]\n",
      "    proportion_physical: [[0.1200,0.1200],[0.1200,0.1200]]\n",
      "    characteristic_time: 1.50\n",
      "\n",
      "    Ratio of contacts and feed in values: [[0.9972,1.0000],[0.4600,0.9923]]\n",
      "\n",
      "  n_f_distribution_center:\n",
      "    contacts: [[4.0462,13.4209],[0.7836,9.9731]]\n",
      "    contacts_err: [[0.0416,0.0758],[0.0111,0.0396]]\n",
      "    proportion_physical: [[0.1200]]\n",
      "    characteristic_time: 1.00\n",
      "\n",
      "    Ratio of contacts and feed in values: [[1.0115,0.9847],[0.9920,0.9973]]\n",
      "\n",
      "  play_group:\n",
      "    contacts: [[4.9744,0.0000,0.0000],[0.0000,5.0098,0.0000],[0.0000,0.0000,4.8537]]\n",
      "    contacts_err: [[0.0201,0.0000,0.0000],[0.0000,0.0191,0.0000],[0.0000,0.0000,0.0268]]\n",
      "    proportion_physical: [[0.6000,0.0000,0.0000],[0.0000,0.3000,0.0000],[0.0000,0.0000,0.1500]]\n",
      "    characteristic_time: 2.00\n",
      "\n",
      "    Ratio of contacts and feed in values: [[0.9949,0.0000,0.0000],[0.0000,1.0020,0.0000],[0.0000,0.0000,0.9707]]\n",
      "\n",
      "  pump_latrine:\n",
      "    contacts: [[3.2488,9.7287],[1.6288,4.3292]]\n",
      "    contacts_err: [[0.0030,0.0051],[0.0024,0.0039]]\n",
      "    proportion_physical: [[0.0200]]\n",
      "    characteristic_time: 0.54\n",
      "\n",
      "    Ratio of contacts and feed in values: [[0.9996,0.9999],[0.9993,0.9998]]\n",
      "\n",
      "  religious:\n",
      "    contacts: [[4.9618,9.4427],[1.1049,8.4680]]\n",
      "    contacts_err: [[0.0181,0.0249],[0.0062,0.0172]]\n",
      "    proportion_physical: [[0.1200]]\n",
      "    characteristic_time: 1.00\n",
      "\n",
      "    Ratio of contacts and feed in values: [[0.9924,0.9971],[1.0045,0.9962]]\n",
      "\n",
      "  shelter:\n",
      "    contacts: [[4.8350,1.9630],[1.9630,4.8350]]\n",
      "    contacts_err: [[0.0161,0.0103],[0.0103,0.0161]]\n",
      "    proportion_physical: [[0.8000,0.3000],[0.8000,0.3000]]\n",
      "    characteristic_time: 12.00\n",
      "\n",
      "    Ratio of contacts and feed in values: [[0.9670,0.9815],[0.9815,0.9670]]\n",
      "\n",
      "\n",
      "Results from NCM_V\n",
      "  communal:\n",
      "    contacts: [[0.2711,0.7289],[0.2748,0.7252]]\n",
      "    contacts_err: [[0.2112,0.5672],[0.2132,0.5626]]\n",
      "    proportion_physical: [[0.1200]]\n",
      "    characteristic_time: 1.00\n",
      "\n",
      "    Ratio of contacts and feed in values: [[0.0542,0.0899],[0.1796,0.1209]]\n",
      "\n",
      "  distribution_center:\n",
      "    contacts: [[0.2548,0.7452],[0.2558,0.7442]]\n",
      "    contacts_err: [[0.2007,0.5869],[0.2013,0.5856]]\n",
      "    proportion_physical: [[0.1200]]\n",
      "    characteristic_time: 1.00\n",
      "\n",
      "    Ratio of contacts and feed in values: [[0.0637,0.0547],[0.3239,0.0744]]\n",
      "\n",
      "  e_voucher:\n",
      "    contacts: [[0.2718,0.7282],[0.2588,0.7412]]\n",
      "    contacts_err: [[0.2113,0.5661],[0.2032,0.5819]]\n",
      "    proportion_physical: [[0.1200]]\n",
      "    characteristic_time: 1.00\n",
      "\n",
      "    Ratio of contacts and feed in values: [[0.0000,0.3641],[2.5881,0.0549]]\n",
      "\n",
      "  female_communal:\n",
      "    contacts: [[0.4938,0.5062],[0.5016,0.4984]]\n",
      "    contacts_err: [[0.3492,0.3580],[0.3547,0.3524]]\n",
      "    proportion_physical: [[0.1200]]\n",
      "    characteristic_time: 1.00\n",
      "\n",
      "    Ratio of contacts and feed in values: [[0.0988,0.0624],[0.3278,0.0831]]\n",
      "\n",
      "  hospital:\n",
      "    contacts: [[1.0000,0.0000,0.0000],[0.0000,0.0000,0.0000],[0.0000,0.0000,0.0000]]\n",
      "    contacts_err: [[1.0002,0.0000,0.0000],[0.0000,0.0000,0.0000],[0.0000,0.0000,0.0000]]\n",
      "    proportion_physical: [[0.0500,1.0000,1.0000],[1.0000,0.0000,0.0000],[1.0000,0.0000,0.0000]]\n",
      "    characteristic_time: 8.00\n",
      "\n",
      "    Ratio of contacts and feed in values: [[0.2000,0.0000,0.0000],[0.0000,0.0000,0.0000],[0.0000,0.0000,0.0000]]\n",
      "\n",
      "  informal_work:\n",
      "    contacts: [[1.0000]]\n",
      "    contacts_err: [[1.0000]]\n",
      "    proportion_physical: [[0.1200]]\n",
      "    characteristic_time: 8.00\n",
      "\n",
      "    Ratio of contacts and feed in values: [[0.2000]]\n",
      "\n",
      "  isolation_unit:\n",
      "    contacts: [[0.0000,0.0000],[0.0000,0.0000]]\n",
      "    contacts_err: [[0.0000,0.0000],[0.0000,0.0000]]\n",
      "    proportion_physical: [[0.0000,0.0000],[0.0000,0.0000]]\n",
      "    characteristic_time: 24.00\n",
      "\n",
      "    Ratio of contacts and feed in values: [[0.0000,0.0000],[0.0000,0.0000]]\n",
      "\n",
      "  learning_center:\n",
      "    contacts: [[0.7404,0.2596],[0.5782,0.4218]]\n",
      "    contacts_err: [[0.5809,0.2037],[0.4138,0.3019]]\n",
      "    proportion_physical: [[0.1200,0.1200],[0.1200,0.1200]]\n",
      "    characteristic_time: 1.50\n",
      "\n",
      "    Ratio of contacts and feed in values: [[0.0740,0.0406],[0.1302,0.1087]]\n",
      "\n",
      "  n_f_distribution_center:\n",
      "    contacts: [[0.2676,0.7324],[0.2706,0.7294]]\n",
      "    contacts_err: [[0.2087,0.5711],[0.2105,0.5674]]\n",
      "    proportion_physical: [[0.1200]]\n",
      "    characteristic_time: 1.00\n",
      "\n",
      "    Ratio of contacts and feed in values: [[0.0669,0.0537],[0.3426,0.0729]]\n",
      "\n",
      "  play_group:\n",
      "    contacts: [[0.3795,0.4186,0.2019],[0.3762,0.4198,0.2040],[0.3734,0.4198,0.2067]]\n",
      "    contacts_err: [[0.2277,0.2511,0.1211],[0.2255,0.2517,0.1223],[0.2236,0.2514,0.1238]]\n",
      "    proportion_physical: [[0.6000,0.0000,0.0000],[0.0000,0.3000,0.0000],[0.0000,0.0000,0.1500]]\n",
      "    characteristic_time: 2.00\n",
      "\n",
      "    Ratio of contacts and feed in values: [[0.0759,0.0000,0.0000],[0.0000,0.0840,0.0000],[0.0000,0.0000,0.0413]]\n",
      "\n",
      "  pump_latrine:\n",
      "    contacts: [[0.5614,0.4386],[0.5561,0.4439]]\n",
      "    contacts_err: [[0.4000,0.3124],[0.3957,0.3159]]\n",
      "    proportion_physical: [[0.0200]]\n",
      "    characteristic_time: 0.54\n",
      "\n",
      "    Ratio of contacts and feed in values: [[0.1728,0.0451],[0.3412,0.1025]]\n",
      "\n",
      "  religious:\n",
      "    contacts: [[0.3370,0.6630],[0.3329,0.6671]]\n",
      "    contacts_err: [[0.2506,0.4931],[0.2482,0.4974]]\n",
      "    proportion_physical: [[0.1200]]\n",
      "    characteristic_time: 1.00\n",
      "\n",
      "    Ratio of contacts and feed in values: [[0.0674,0.0700],[0.3026,0.0785]]\n",
      "\n",
      "  shelter:\n",
      "    contacts: [[0.5570,0.4430],[0.4480,0.5520]]\n",
      "    contacts_err: [[0.3964,0.3153],[0.3185,0.3924]]\n",
      "    proportion_physical: [[0.8000,0.3000],[0.8000,0.3000]]\n",
      "    characteristic_time: 12.00\n",
      "\n",
      "    Ratio of contacts and feed in values: [[0.1114,0.2215],[0.2240,0.1104]]\n",
      "\n",
      "\n"
     ]
    },
    {
     "data": {
      "text/plain": [
       "1"
      ]
     },
     "execution_count": 72,
     "metadata": {},
     "output_type": "execute_result"
    }
   ],
   "source": [
    "simulator.tracker.post_process_simulation(save=True)"
   ]
  }
 ],
 "metadata": {
  "kernelspec": {
   "display_name": "Python 3 (ipykernel)",
   "language": "python",
   "name": "python3"
  },
  "language_info": {
   "codemirror_mode": {
    "name": "ipython",
    "version": 3
   },
   "file_extension": ".py",
   "mimetype": "text/x-python",
   "name": "python",
   "nbconvert_exporter": "python",
   "pygments_lexer": "ipython3",
   "version": "3.9.11"
  }
 },
 "nbformat": 4,
 "nbformat_minor": 4
}
