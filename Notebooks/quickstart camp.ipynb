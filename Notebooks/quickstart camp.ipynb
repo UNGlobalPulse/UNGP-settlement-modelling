{
 "cells": [
  {
   "cell_type": "code",
   "execution_count": 1,
   "metadata": {},
   "outputs": [],
   "source": [
    "%load_ext autoreload\n",
    "%autoreload 2"
   ]
  },
  {
   "cell_type": "code",
   "execution_count": 2,
   "metadata": {},
   "outputs": [],
   "source": [
    "import warnings\n",
    "warnings.filterwarnings('ignore')"
   ]
  },
  {
   "cell_type": "code",
   "execution_count": 3,
   "metadata": {},
   "outputs": [],
   "source": [
    "import numpy as np\n",
    "import matplotlib.pyplot as plt \n",
    "import pandas as pd\n",
    "import time\n",
    "import matplotlib.pyplot as plt\n",
    "import seaborn as sns\n",
    "from datetime import datetime\n",
    "import sys\n",
    "sys.path.append(\"../camp_scripts\") # change accordingly\n",
    "sns.set_context('notebook')"
   ]
  },
  {
   "cell_type": "code",
   "execution_count": 4,
   "metadata": {},
   "outputs": [
    {
     "name": "stderr",
     "output_type": "stream",
     "text": [
      "No --data argument given - defaulting to:\n",
      "/home/florpi/camps/JUNE/data\n",
      "No --configs argument given - defaulting to:\n",
      "/home/florpi/camps/JUNE/configs\n"
     ]
    },
    {
     "name": "stdout",
     "output_type": "stream",
     "text": [
      "2020-09-01 16:52:08,885 - camps.paths - WARNING - No --data argument given - defaulting to:\n",
      "/home/florpi/camps/JUNE/data\n",
      "2020-09-01 16:52:08,887 - camps.paths - WARNING - No --configs argument given - defaulting to:\n",
      "/home/florpi/camps/JUNE/configs\n",
      "2020-09-01 16:52:08,889 - camps.paths - WARNING - No --camp_data argument given - defaulting to:\n",
      "/home/florpi/camps/JUNE/camp_data\n",
      "2020-09-01 16:52:08,890 - camps.paths - WARNING - No --configs_camps argument given - defaulting to:\n",
      "/home/florpi/camps/JUNE/configs_camps\n"
     ]
    }
   ],
   "source": [
    "from june.demography.geography import Geography\n",
    "from june.demography.demography import load_age_and_sex_generators_for_bins, Demography, Population\n",
    "from june.paths import data_path\n",
    "from june.infection_seed import InfectionSeed\n",
    "from june.simulator import Simulator\n",
    "from june.infection import InfectionSelector\n",
    "from june.interaction import Interaction\n",
    "from june.groups import Hospital, Hospitals\n",
    "from june.distributors import HospitalDistributor\n",
    "from june.hdf5_savers import generate_world_from_hdf5\n",
    "from june.groups import Cemeteries\n",
    "from june.policy import Policy, Policies\n",
    "from june.logger.read_logger import ReadLogger\n",
    "\n",
    "from camps.paths import camp_data_path\n",
    "from camps.world import World\n",
    "from camps.groups.leisure import generate_leisure_for_world, generate_leisure_for_config\n",
    "from camp_creation import generate_empty_world, populate_world, distribute_people_to_households # this is loaded from the ../camp_scripts folder"
   ]
  },
  {
   "cell_type": "code",
   "execution_count": 5,
   "metadata": {},
   "outputs": [],
   "source": [
    "from camps.groups import PumpLatrines, PumpLatrineDistributor\n",
    "from camps.groups import DistributionCenters, DistributionCenterDistributor\n",
    "from camps.groups import Communals, CommunalDistributor\n",
    "from camps.groups import FemaleCommunals, FemaleCommunalDistributor\n",
    "from camps.groups import Religiouss, ReligiousDistributor\n",
    "from camps.groups import Shelter, Shelters, ShelterDistributor\n",
    "from camps.groups import IsolationUnit, IsolationUnits\n",
    "from june.groups.leisure import HouseholdVisitsDistributor\n",
    "from camps.groups import PlayGroups, PlayGroupDistributor"
   ]
  },
  {
   "cell_type": "markdown",
   "metadata": {},
   "source": [
    "## Initialize the world"
   ]
  },
  {
   "cell_type": "code",
   "execution_count": 6,
   "metadata": {},
   "outputs": [
    {
     "name": "stdout",
     "output_type": "stream",
     "text": [
      "2020-09-01 16:52:09,181 - june.demography.geography - INFO - There are 65 areas and 4 super_areas in the world.\n"
     ]
    }
   ],
   "source": [
    "# create empty world's geography\n",
    "world = generate_empty_world(filter_key = {\"region\" : [\"CXB-219\"]})"
   ]
  },
  {
   "cell_type": "code",
   "execution_count": 7,
   "metadata": {},
   "outputs": [],
   "source": [
    "# populate empty world\n",
    "populate_world(world)"
   ]
  },
  {
   "cell_type": "code",
   "execution_count": 8,
   "metadata": {},
   "outputs": [],
   "source": [
    "# distribute people to households\n",
    "distribute_people_to_households(world)"
   ]
  },
  {
   "cell_type": "code",
   "execution_count": 9,
   "metadata": {},
   "outputs": [
    {
     "name": "stdout",
     "output_type": "stream",
     "text": [
      "2020-09-01 16:52:10,532 - june.groups.hospital - INFO - There are 8 hospitals in the world.\n"
     ]
    }
   ],
   "source": [
    "# this is not working\n",
    "hospitals= Hospitals.from_file(\n",
    "    filename=camp_data_path / 'input/hospitals/hospitals.csv'\n",
    ")\n",
    "world.hospitals = hospitals\n",
    "for hospital in world.hospitals:\n",
    "    hospital.super_area = world.super_areas.members[0]\n",
    "hospital_distributor = HospitalDistributor(hospitals, \n",
    "                                           medic_min_age=20,\n",
    "                                           patients_per_medic=10)\n",
    "\n",
    "hospital_distributor.distribute_medics_from_world(world.people)\n",
    "world.isolation_units = IsolationUnits([IsolationUnit()])"
   ]
  },
  {
   "cell_type": "code",
   "execution_count": 10,
   "metadata": {},
   "outputs": [],
   "source": [
    "world.pump_latrines = PumpLatrines.for_areas(world.areas)\n",
    "world.distribution_centers = DistributionCenters.for_areas(world.areas)\n",
    "world.communals = Communals.for_areas(world.areas)\n",
    "world.female_communals = FemaleCommunals.for_areas(world.areas)\n",
    "world.religiouss = Religiouss.for_areas(world.areas)\n",
    "world.play_groups = PlayGroups.for_areas(world.areas)"
   ]
  },
  {
   "cell_type": "code",
   "execution_count": 11,
   "metadata": {},
   "outputs": [],
   "source": [
    "#world.box_mode = False\n",
    "world.cemeteries = Cemeteries()"
   ]
  },
  {
   "cell_type": "markdown",
   "metadata": {},
   "source": [
    "## Geography exploration"
   ]
  },
  {
   "cell_type": "markdown",
   "metadata": {},
   "source": [
    "### UNHCR camp blocks inside the World"
   ]
  },
  {
   "cell_type": "code",
   "execution_count": 12,
   "metadata": {},
   "outputs": [],
   "source": [
    "super_areas = []\n",
    "for super_area in world.super_areas:\n",
    "    super_areas.append(super_area.name)"
   ]
  },
  {
   "cell_type": "code",
   "execution_count": 13,
   "metadata": {},
   "outputs": [
    {
     "data": {
      "text/plain": [
       "['CXB-219-A', 'CXB-219-B', 'CXB-219-C', 'CXB-219-D']"
      ]
     },
     "execution_count": 13,
     "metadata": {},
     "output_type": "execute_result"
    }
   ],
   "source": [
    "super_areas[:5]"
   ]
  },
  {
   "cell_type": "markdown",
   "metadata": {},
   "source": [
    "### Mahjee blocks inside World"
   ]
  },
  {
   "cell_type": "code",
   "execution_count": 14,
   "metadata": {},
   "outputs": [],
   "source": [
    "areas = []\n",
    "for area in world.areas:\n",
    "    areas.append(area.name)"
   ]
  },
  {
   "cell_type": "code",
   "execution_count": 15,
   "metadata": {},
   "outputs": [
    {
     "data": {
      "text/plain": [
       "['CXB-219-062', 'CXB-219-063', 'CXB-219-061', 'CXB-219-060', 'CXB-219-065']"
      ]
     },
     "execution_count": 15,
     "metadata": {},
     "output_type": "execute_result"
    }
   ],
   "source": [
    "areas[:5]"
   ]
  },
  {
   "cell_type": "markdown",
   "metadata": {},
   "source": [
    "## Demography exploration"
   ]
  },
  {
   "cell_type": "markdown",
   "metadata": {},
   "source": [
    "### UNHCR block residents"
   ]
  },
  {
   "cell_type": "code",
   "execution_count": 16,
   "metadata": {},
   "outputs": [],
   "source": [
    "sample_ages = []\n",
    "sample_sexes = []\n",
    "for person in world.super_areas.members[0].people:\n",
    "    sample_ages.append(person.age)\n",
    "    sample_sexes.append(person.sex)"
   ]
  },
  {
   "cell_type": "code",
   "execution_count": 17,
   "metadata": {},
   "outputs": [
    {
     "data": {
      "text/plain": [
       "(['f', 'f', 'f', 'm', 'm'], [27, 21, 57, 27, 46])"
      ]
     },
     "execution_count": 17,
     "metadata": {},
     "output_type": "execute_result"
    }
   ],
   "source": [
    "sample_sexes[:5], sample_ages[:5]"
   ]
  },
  {
   "cell_type": "code",
   "execution_count": 18,
   "metadata": {},
   "outputs": [
    {
     "data": {
      "image/png": "[encoded data removed]",
      "text/plain": [
       "<Figure size 432x288 with 1 Axes>"
      ]
     },
     "metadata": {
      "needs_background": "light"
     },
     "output_type": "display_data"
    }
   ],
   "source": [
    "ages, counts = np.unique(sample_ages, return_counts=True)\n",
    "plt.bar(ages, counts)\n",
    "plt.title('super area: {} age distribution'.format(world.super_areas.members[0].name))\n",
    "plt.show()"
   ]
  },
  {
   "cell_type": "code",
   "execution_count": 19,
   "metadata": {},
   "outputs": [
    {
     "name": "stdout",
     "output_type": "stream",
     "text": [
      "The % children between ages 0-16 is 49.0%\n"
     ]
    }
   ],
   "source": [
    "print ('The % children between ages 0-16 is {}%'.format(round(np.sum(counts[:16])/(np.sum(counts[:16])+np.sum(counts[16:]))*100)))"
   ]
  },
  {
   "cell_type": "markdown",
   "metadata": {},
   "source": [
    "## Households"
   ]
  },
  {
   "cell_type": "markdown",
   "metadata": {},
   "source": [
    "### Household size distribution"
   ]
  },
  {
   "cell_type": "code",
   "execution_count": 20,
   "metadata": {},
   "outputs": [
    {
     "data": {
      "image/png": "[encoded data removed]",
      "text/plain": [
       "<Figure size 432x288 with 1 Axes>"
      ]
     },
     "metadata": {
      "needs_background": "light"
     },
     "output_type": "display_data"
    }
   ],
   "source": [
    "household_sizes = [household.size for household in world.households]\n",
    "plt.hist(household_sizes, density=True, bins=np.arange(0,12))\n",
    "plt.xlabel(\"Household size\")\n",
    "plt.ylabel(\"Frequency\")\n",
    "plt.axvline(np.mean(household_sizes), color=\"cyan\")\n",
    "plt.text(8, 0.150, f\"Avg. size: {(np.mean(household_sizes)):.2f}\")\n",
    "plt.show()"
   ]
  },
  {
   "cell_type": "markdown",
   "metadata": {},
   "source": [
    "# Shelters"
   ]
  },
  {
   "cell_type": "code",
   "execution_count": 21,
   "metadata": {},
   "outputs": [],
   "source": [
    "world.shelters = Shelters.for_areas(world.areas)\n",
    "shelter_distributor = ShelterDistributor(sharing_shelter_ratio = 0.75) # proportion of families that share a shelter\n",
    "for area in world.areas:\n",
    "    shelter_distributor.distribute_people_in_shelters(area.shelters, area.households)"
   ]
  },
  {
   "cell_type": "code",
   "execution_count": 22,
   "metadata": {},
   "outputs": [
    {
     "data": {
      "image/png": "[encoded data removed]",
      "text/plain": [
       "<Figure size 576x216 with 2 Axes>"
      ]
     },
     "metadata": {
      "needs_background": "light"
     },
     "output_type": "display_data"
    }
   ],
   "source": [
    "fig, ax = plt.subplots(1, 2, figsize=(8,3))\n",
    "shelter_sizes = [shelter.size for shelter in world.shelters]\n",
    "shelter_families = [shelter.n_families for shelter in world.shelters]\n",
    "ax[0].hist(shelter_sizes)\n",
    "ax[0].set_title(\"Shelter size\")\n",
    "shelter_families = {1 : len([shelter for shelter in world.shelters if shelter.n_families == 1]),\n",
    "                    2 : len([shelter for shelter in world.shelters if shelter.n_families == 2])}\n",
    "ax[1].bar(shelter_families.keys(), shelter_families.values())\n",
    "ax[1].set_title(\"# families per shelter\")\n",
    "plt.show()"
   ]
  },
  {
   "cell_type": "markdown",
   "metadata": {},
   "source": [
    "## Activity exploration"
   ]
  },
  {
   "cell_type": "markdown",
   "metadata": {},
   "source": [
    "### Pumps and latrines "
   ]
  },
  {
   "cell_type": "code",
   "execution_count": 23,
   "metadata": {},
   "outputs": [],
   "source": [
    "pumps_and_latrines = []\n",
    "for pump_latrine in world.areas.members[0].pump_latrines:\n",
    "    pumps_and_latrines.append(pump_latrine)"
   ]
  },
  {
   "cell_type": "code",
   "execution_count": 24,
   "metadata": {},
   "outputs": [
    {
     "name": "stdout",
     "output_type": "stream",
     "text": [
      "There are 3 pumps and latrines in area CXB-219-062\n"
     ]
    }
   ],
   "source": [
    "print ('There are {} pumps and latrines in area {}'.format(len(pumps_and_latrines), world.areas.members[0].name))"
   ]
  },
  {
   "cell_type": "markdown",
   "metadata": {},
   "source": [
    "### Distribution centers"
   ]
  },
  {
   "cell_type": "code",
   "execution_count": 25,
   "metadata": {},
   "outputs": [],
   "source": [
    "distribution_centers = []\n",
    "for center in world.distribution_centers:\n",
    "    distribution_centers.append(center)"
   ]
  },
  {
   "cell_type": "code",
   "execution_count": 26,
   "metadata": {},
   "outputs": [
    {
     "data": {
      "text/plain": [
       "array([21.1962 , 92.14936])"
      ]
     },
     "execution_count": 26,
     "metadata": {},
     "output_type": "execute_result"
    }
   ],
   "source": [
    "distribution_centers[0].coordinates"
   ]
  },
  {
   "cell_type": "markdown",
   "metadata": {},
   "source": [
    "### Communal spaces"
   ]
  },
  {
   "cell_type": "code",
   "execution_count": 27,
   "metadata": {},
   "outputs": [],
   "source": [
    "communal_spaces = []\n",
    "for space in world.communals:\n",
    "    communal_spaces.append(space)"
   ]
  },
  {
   "cell_type": "code",
   "execution_count": 28,
   "metadata": {},
   "outputs": [
    {
     "data": {
      "text/plain": [
       "array([21.19621, 92.14924])"
      ]
     },
     "execution_count": 28,
     "metadata": {},
     "output_type": "execute_result"
    }
   ],
   "source": [
    "communal_spaces[0].coordinates"
   ]
  },
  {
   "cell_type": "markdown",
   "metadata": {},
   "source": [
    "### Female friendly communal spaces"
   ]
  },
  {
   "cell_type": "code",
   "execution_count": 29,
   "metadata": {},
   "outputs": [],
   "source": [
    "female_communal_spaces = []\n",
    "for space in world.female_communals:\n",
    "    female_communal_spaces.append(space)"
   ]
  },
  {
   "cell_type": "code",
   "execution_count": 30,
   "metadata": {},
   "outputs": [
    {
     "data": {
      "text/plain": [
       "array([21.19588, 92.152  ])"
      ]
     },
     "execution_count": 30,
     "metadata": {},
     "output_type": "execute_result"
    }
   ],
   "source": [
    "female_communal_spaces[0].coordinates"
   ]
  },
  {
   "cell_type": "markdown",
   "metadata": {},
   "source": [
    "### Religious sites"
   ]
  },
  {
   "cell_type": "code",
   "execution_count": 31,
   "metadata": {},
   "outputs": [],
   "source": [
    "religious = []\n",
    "for rel in world.religiouss:\n",
    "    religious.append(rel)"
   ]
  },
  {
   "cell_type": "code",
   "execution_count": 32,
   "metadata": {},
   "outputs": [
    {
     "data": {
      "text/plain": [
       "array([21.20069, 92.15216])"
      ]
     },
     "execution_count": 32,
     "metadata": {},
     "output_type": "execute_result"
    }
   ],
   "source": [
    "religious[0].coordinates"
   ]
  },
  {
   "cell_type": "markdown",
   "metadata": {},
   "source": [
    "# Adding the infection"
   ]
  },
  {
   "cell_type": "code",
   "execution_count": 33,
   "metadata": {},
   "outputs": [],
   "source": [
    "selector = InfectionSelector.from_file()"
   ]
  },
  {
   "cell_type": "markdown",
   "metadata": {},
   "source": [
    "# Adding the interaction"
   ]
  },
  {
   "cell_type": "code",
   "execution_count": 34,
   "metadata": {},
   "outputs": [],
   "source": [
    "interaction = Interaction.from_file(config_filename='../configs_camps/defaults/interaction/ContactInteraction.yaml')"
   ]
  },
  {
   "cell_type": "markdown",
   "metadata": {},
   "source": [
    "# Set policies"
   ]
  },
  {
   "cell_type": "code",
   "execution_count": 35,
   "metadata": {},
   "outputs": [],
   "source": [
    "policies = Policies.from_file('../configs_camps/defaults/policy/policy.yaml', base_policy_modules=('june.policy', 'camps.policy'))"
   ]
  },
  {
   "cell_type": "code",
   "execution_count": 36,
   "metadata": {},
   "outputs": [
    {
     "data": {
      "text/plain": [
       "[<june.policy.interaction_policies.SocialDistancing at 0x7f771f6b31c0>,\n",
       " <june.policy.medical_care_policies.Hospitalisation at 0x7f771f6b3190>,\n",
       " <june.policy.individual_policies.SevereSymptomsStayHome at 0x7f771cae9490>,\n",
       " <camps.policy.isolation.Isolation at 0x7f771cb4d0a0>,\n",
       " <june.policy.individual_policies.Quarantine at 0x7f771cb4d100>]"
      ]
     },
     "execution_count": 36,
     "metadata": {},
     "output_type": "execute_result"
    }
   ],
   "source": [
    "policies.policies"
   ]
  },
  {
   "cell_type": "markdown",
   "metadata": {},
   "source": [
    "# Seed the disease"
   ]
  },
  {
   "cell_type": "code",
   "execution_count": 37,
   "metadata": {},
   "outputs": [],
   "source": [
    "seed = InfectionSeed(world.super_areas,\n",
    "           selector)\n",
    "\n",
    "seed.unleash_virus(n_cases=5)"
   ]
  },
  {
   "cell_type": "markdown",
   "metadata": {},
   "source": [
    "# Init leisure"
   ]
  },
  {
   "cell_type": "code",
   "execution_count": 38,
   "metadata": {},
   "outputs": [
    {
     "name": "stdout",
     "output_type": "stream",
     "text": [
      "2020-09-01 16:52:15,179 - june.groups.leisure.leisure - INFO - Distributing social venues to households\n",
      "2020-09-01 16:52:15,180 - june.groups.leisure.leisure - INFO - Distributed in 0 of 3315 households.\n"
     ]
    },
    {
     "data": {
      "text/plain": [
       "{'pump_latrines': <camps.groups.pump_latrine.PumpLatrineDistributor at 0x7f771ca90130>,\n",
       " 'distribution_centers': <camps.groups.distribution_center.DistributionCenterDistributor at 0x7f771ca903a0>,\n",
       " 'communals': <camps.groups.communal.CommunalDistributor at 0x7f771ca90550>,\n",
       " 'female_communals': <camps.groups.female_communal.FemaleCommunalDistributor at 0x7f771ca90a60>,\n",
       " 'play_groups': <camps.groups.play_group.PlayGroupDistributor at 0x7f771ca90280>}"
      ]
     },
     "execution_count": 38,
     "metadata": {},
     "output_type": "execute_result"
    }
   ],
   "source": [
    "CONFIG_PATH = \"../configs_camps/config_example.yaml\"\n",
    "\n",
    "leisure_instance = generate_leisure_for_config(\n",
    "            world=world, config_filename=CONFIG_PATH\n",
    ")\n",
    "leisure_instance.leisure_distributors = {}\n",
    "leisure_instance.leisure_distributors['pump_latrines'] = PumpLatrineDistributor.from_config(pump_latrines=world.pump_latrines)\n",
    "leisure_instance.leisure_distributors['distribution_centers'] = DistributionCenterDistributor.from_config(distribution_centers=world.distribution_centers)\n",
    "leisure_instance.leisure_distributors['communals'] = CommunalDistributor.from_config(communals=world.communals)\n",
    "leisure_instance.leisure_distributors['female_communals'] = FemaleCommunalDistributor.from_config(female_communals=world.female_communals)\n",
    "leisure_instance.leisure_distributors['play_groups'] = PlayGroupDistributor.from_config(play_groups=world.play_groups)\n",
    "\n",
    "#associate social activities to shelters\n",
    "leisure_instance.distribute_social_venues_to_households(world.shelters, world.super_areas)\n",
    "leisure_instance.leisure_distributors"
   ]
  },
  {
   "cell_type": "markdown",
   "metadata": {},
   "source": [
    "# Initialize simulator and run"
   ]
  },
  {
   "cell_type": "code",
   "execution_count": 45,
   "metadata": {},
   "outputs": [],
   "source": [
    "simulator = Simulator.from_file(\n",
    "    world = world,\n",
    "    interaction = interaction,\n",
    "    infection_selector=selector,\n",
    "    leisure = leisure_instance,\n",
    "    policies=policies,\n",
    "    config_filename = CONFIG_PATH\n",
    ")"
   ]
  },
  {
   "cell_type": "code",
   "execution_count": 46,
   "metadata": {
    "scrolled": true
   },
   "outputs": [
    {
     "name": "stdout",
     "output_type": "stream",
     "text": [
      "2020-09-01 16:53:46,859 - june.simulator - INFO - Starting group_dynamics for 120 days at day 0\n",
      "2020-09-01 16:53:46,860 - june.simulator - INFO - starting the loop ..., at 0 days, to run for 120 days\n",
      "2020-09-01 16:53:47,013 - june.simulator - INFO - Date = 2020-05-24 00:00:00, number of deaths =  0, number of infected = 5\n",
      "2020-09-01 16:53:47,607 - june.simulator - INFO - Date = 2020-05-24 03:00:00, number of deaths =  0, number of infected = 5\n",
      "2020-09-01 16:53:47,870 - june.simulator - INFO - Date = 2020-05-24 05:00:00, number of deaths =  0, number of infected = 5\n",
      "2020-09-01 16:53:48,124 - june.simulator - INFO - Date = 2020-05-24 07:00:00, number of deaths =  0, number of infected = 5\n",
      "2020-09-01 16:53:48,412 - june.simulator - INFO - Date = 2020-05-24 09:00:00, number of deaths =  0, number of infected = 5\n",
      "2020-09-01 16:53:48,541 - june.simulator - INFO - Date = 2020-05-24 11:00:00, number of deaths =  0, number of infected = 5\n",
      "2020-09-01 16:53:48,669 - june.simulator - INFO - Date = 2020-05-25 00:00:00, number of deaths =  0, number of infected = 5\n",
      "2020-09-01 16:53:48,896 - june.simulator - INFO - Date = 2020-05-25 02:00:00, number of deaths =  0, number of infected = 5\n",
      "2020-09-01 16:53:49,113 - june.simulator - INFO - Date = 2020-05-25 04:00:00, number of deaths =  0, number of infected = 5\n",
      "2020-09-01 16:53:49,330 - june.simulator - INFO - Date = 2020-05-25 06:00:00, number of deaths =  0, number of infected = 5\n",
      "2020-09-01 16:53:49,698 - june.simulator - INFO - Date = 2020-05-25 08:00:00, number of deaths =  0, number of infected = 6\n",
      "2020-09-01 16:53:49,833 - june.simulator - INFO - Date = 2020-05-25 10:00:00, number of deaths =  0, number of infected = 6\n",
      "2020-09-01 16:53:49,985 - june.simulator - INFO - Date = 2020-05-26 00:00:00, number of deaths =  0, number of infected = 8\n",
      "2020-09-01 16:53:50,229 - june.simulator - INFO - Date = 2020-05-26 02:00:00, number of deaths =  0, number of infected = 8\n",
      "2020-09-01 16:53:50,457 - june.simulator - INFO - Date = 2020-05-26 04:00:00, number of deaths =  0, number of infected = 8\n",
      "2020-09-01 16:53:50,699 - june.simulator - INFO - Date = 2020-05-26 06:00:00, number of deaths =  0, number of infected = 8\n",
      "2020-09-01 16:53:50,956 - june.simulator - INFO - Date = 2020-05-26 08:00:00, number of deaths =  0, number of infected = 8\n",
      "2020-09-01 16:53:51,098 - june.simulator - INFO - Date = 2020-05-26 10:00:00, number of deaths =  0, number of infected = 8\n",
      "2020-09-01 16:53:51,227 - june.simulator - INFO - Date = 2020-05-27 00:00:00, number of deaths =  0, number of infected = 11\n",
      "2020-09-01 16:53:51,466 - june.simulator - INFO - Date = 2020-05-27 02:00:00, number of deaths =  0, number of infected = 11\n",
      "2020-09-01 16:53:51,710 - june.simulator - INFO - Date = 2020-05-27 04:00:00, number of deaths =  0, number of infected = 14\n",
      "2020-09-01 16:53:52,063 - june.simulator - INFO - Date = 2020-05-27 06:00:00, number of deaths =  0, number of infected = 16\n",
      "2020-09-01 16:53:52,370 - june.simulator - INFO - Date = 2020-05-27 08:00:00, number of deaths =  0, number of infected = 17\n",
      "2020-09-01 16:53:52,505 - june.simulator - INFO - Date = 2020-05-27 10:00:00, number of deaths =  0, number of infected = 17\n",
      "2020-09-01 16:53:52,633 - june.simulator - INFO - Date = 2020-05-28 00:00:00, number of deaths =  0, number of infected = 21\n",
      "2020-09-01 16:53:52,869 - june.simulator - INFO - Date = 2020-05-28 02:00:00, number of deaths =  0, number of infected = 21\n",
      "2020-09-01 16:53:53,107 - june.simulator - INFO - Date = 2020-05-28 04:00:00, number of deaths =  0, number of infected = 24\n",
      "2020-09-01 16:53:53,327 - june.simulator - INFO - Date = 2020-05-28 06:00:00, number of deaths =  0, number of infected = 24\n",
      "2020-09-01 16:53:53,630 - june.simulator - INFO - Date = 2020-05-28 08:00:00, number of deaths =  0, number of infected = 24\n",
      "2020-09-01 16:53:53,774 - june.simulator - INFO - Date = 2020-05-28 10:00:00, number of deaths =  0, number of infected = 24\n",
      "2020-09-01 16:53:53,898 - june.simulator - INFO - Date = 2020-05-29 00:00:00, number of deaths =  0, number of infected = 29\n",
      "2020-09-01 16:53:54,161 - june.simulator - INFO - Date = 2020-05-29 02:00:00, number of deaths =  0, number of infected = 30\n",
      "2020-09-01 16:53:54,384 - june.simulator - INFO - Date = 2020-05-29 04:00:00, number of deaths =  0, number of infected = 32\n",
      "2020-09-01 16:53:54,601 - june.simulator - INFO - Date = 2020-05-29 06:00:00, number of deaths =  0, number of infected = 35\n",
      "2020-09-01 16:53:54,816 - june.simulator - INFO - Date = 2020-05-29 08:00:00, number of deaths =  0, number of infected = 38\n",
      "2020-09-01 16:53:54,946 - june.simulator - INFO - Date = 2020-05-29 10:00:00, number of deaths =  0, number of infected = 40\n",
      "2020-09-01 16:53:55,069 - june.simulator - INFO - Date = 2020-05-30 00:00:00, number of deaths =  0, number of infected = 46\n",
      "2020-09-01 16:53:55,332 - june.simulator - INFO - Date = 2020-05-30 03:00:00, number of deaths =  0, number of infected = 47\n",
      "2020-09-01 16:53:55,602 - june.simulator - INFO - Date = 2020-05-30 05:00:00, number of deaths =  0, number of infected = 49\n",
      "2020-09-01 16:53:55,847 - june.simulator - INFO - Date = 2020-05-30 07:00:00, number of deaths =  0, number of infected = 50\n",
      "2020-09-01 16:53:56,107 - june.simulator - INFO - Date = 2020-05-30 09:00:00, number of deaths =  0, number of infected = 55\n",
      "2020-09-01 16:53:56,245 - june.simulator - INFO - Date = 2020-05-30 11:00:00, number of deaths =  0, number of infected = 56\n",
      "2020-09-01 16:53:56,375 - june.simulator - INFO - Date = 2020-05-31 00:00:00, number of deaths =  0, number of infected = 64\n",
      "2020-09-01 16:53:56,650 - june.simulator - INFO - Date = 2020-05-31 03:00:00, number of deaths =  0, number of infected = 67\n",
      "2020-09-01 16:53:56,897 - june.simulator - INFO - Date = 2020-05-31 05:00:00, number of deaths =  0, number of infected = 69\n",
      "2020-09-01 16:53:57,151 - june.simulator - INFO - Date = 2020-05-31 07:00:00, number of deaths =  0, number of infected = 69\n",
      "2020-09-01 16:53:57,415 - june.simulator - INFO - Date = 2020-05-31 09:00:00, number of deaths =  0, number of infected = 73\n",
      "2020-09-01 16:53:57,549 - june.simulator - INFO - Date = 2020-05-31 11:00:00, number of deaths =  0, number of infected = 78\n",
      "2020-09-01 16:53:57,690 - june.simulator - INFO - Date = 2020-06-01 00:00:00, number of deaths =  0, number of infected = 93\n",
      "2020-09-01 16:53:57,923 - june.simulator - INFO - Date = 2020-06-01 02:00:00, number of deaths =  0, number of infected = 97\n",
      "2020-09-01 16:53:58,229 - june.simulator - INFO - Date = 2020-06-01 04:00:00, number of deaths =  0, number of infected = 104\n",
      "2020-09-01 16:53:58,508 - june.simulator - INFO - Date = 2020-06-01 06:00:00, number of deaths =  0, number of infected = 110\n",
      "2020-09-01 16:53:58,744 - june.simulator - INFO - Date = 2020-06-01 08:00:00, number of deaths =  0, number of infected = 117\n",
      "2020-09-01 16:53:58,880 - june.simulator - INFO - Date = 2020-06-01 10:00:00, number of deaths =  0, number of infected = 123\n",
      "2020-09-01 16:53:59,013 - june.simulator - INFO - Date = 2020-06-02 00:00:00, number of deaths =  0, number of infected = 145\n",
      "2020-09-01 16:53:59,249 - june.simulator - INFO - Date = 2020-06-02 02:00:00, number of deaths =  0, number of infected = 151\n",
      "2020-09-01 16:53:59,472 - june.simulator - INFO - Date = 2020-06-02 04:00:00, number of deaths =  0, number of infected = 155\n",
      "2020-09-01 16:53:59,699 - june.simulator - INFO - Date = 2020-06-02 06:00:00, number of deaths =  0, number of infected = 158\n",
      "2020-09-01 16:53:59,924 - june.simulator - INFO - Date = 2020-06-02 08:00:00, number of deaths =  0, number of infected = 163\n",
      "2020-09-01 16:54:00,069 - june.simulator - INFO - Date = 2020-06-02 10:00:00, number of deaths =  0, number of infected = 170\n",
      "2020-09-01 16:54:00,289 - june.simulator - INFO - Date = 2020-06-03 00:00:00, number of deaths =  0, number of infected = 191\n",
      "2020-09-01 16:54:00,542 - june.simulator - INFO - Date = 2020-06-03 02:00:00, number of deaths =  0, number of infected = 194\n",
      "2020-09-01 16:54:00,788 - june.simulator - INFO - Date = 2020-06-03 04:00:00, number of deaths =  0, number of infected = 202\n",
      "2020-09-01 16:54:01,022 - june.simulator - INFO - Date = 2020-06-03 06:00:00, number of deaths =  0, number of infected = 204\n"
     ]
    },
    {
     "name": "stdout",
     "output_type": "stream",
     "text": [
      "2020-09-01 16:54:01,260 - june.simulator - INFO - Date = 2020-06-03 08:00:00, number of deaths =  0, number of infected = 207\n",
      "2020-09-01 16:54:01,555 - june.simulator - INFO - Date = 2020-06-03 10:00:00, number of deaths =  0, number of infected = 213\n",
      "2020-09-01 16:54:01,699 - june.simulator - INFO - Date = 2020-06-04 00:00:00, number of deaths =  0, number of infected = 232\n",
      "2020-09-01 16:54:01,947 - june.simulator - INFO - Date = 2020-06-04 02:00:00, number of deaths =  0, number of infected = 239\n",
      "2020-09-01 16:54:02,182 - june.simulator - INFO - Date = 2020-06-04 04:00:00, number of deaths =  0, number of infected = 246\n",
      "2020-09-01 16:54:02,454 - june.simulator - INFO - Date = 2020-06-04 06:00:00, number of deaths =  0, number of infected = 256\n",
      "2020-09-01 16:54:02,875 - june.simulator - INFO - Date = 2020-06-04 08:00:00, number of deaths =  0, number of infected = 269\n",
      "2020-09-01 16:54:03,120 - june.simulator - INFO - Date = 2020-06-04 10:00:00, number of deaths =  0, number of infected = 283\n",
      "2020-09-01 16:54:03,272 - june.simulator - INFO - Date = 2020-06-05 00:00:00, number of deaths =  0, number of infected = 322\n",
      "2020-09-01 16:54:03,502 - june.simulator - INFO - Date = 2020-06-05 02:00:00, number of deaths =  0, number of infected = 330\n",
      "2020-09-01 16:54:03,826 - june.simulator - INFO - Date = 2020-06-05 04:00:00, number of deaths =  0, number of infected = 348\n",
      "2020-09-01 16:54:04,184 - june.simulator - INFO - Date = 2020-06-05 06:00:00, number of deaths =  0, number of infected = 356\n",
      "2020-09-01 16:54:04,467 - june.simulator - INFO - Date = 2020-06-05 08:00:00, number of deaths =  0, number of infected = 365\n",
      "2020-09-01 16:54:04,647 - june.simulator - INFO - Date = 2020-06-05 10:00:00, number of deaths =  0, number of infected = 372\n",
      "2020-09-01 16:54:04,796 - june.simulator - INFO - Date = 2020-06-06 00:00:00, number of deaths =  0, number of infected = 416\n",
      "2020-09-01 16:54:05,082 - june.simulator - INFO - Date = 2020-06-06 03:00:00, number of deaths =  0, number of infected = 422\n",
      "2020-09-01 16:54:05,360 - june.simulator - INFO - Date = 2020-06-06 05:00:00, number of deaths =  0, number of infected = 441\n",
      "2020-09-01 16:54:05,664 - june.simulator - INFO - Date = 2020-06-06 07:00:00, number of deaths =  0, number of infected = 461\n",
      "2020-09-01 16:54:06,036 - june.simulator - INFO - Date = 2020-06-06 09:00:00, number of deaths =  0, number of infected = 481\n",
      "2020-09-01 16:54:06,245 - june.simulator - INFO - Date = 2020-06-06 11:00:00, number of deaths =  0, number of infected = 502\n",
      "2020-09-01 16:54:06,427 - june.simulator - INFO - Date = 2020-06-07 00:00:00, number of deaths =  0, number of infected = 560\n",
      "2020-09-01 16:54:06,790 - june.simulator - INFO - Date = 2020-06-07 03:00:00, number of deaths =  0, number of infected = 584\n",
      "2020-09-01 16:54:07,078 - june.simulator - INFO - Date = 2020-06-07 05:00:00, number of deaths =  0, number of infected = 622\n",
      "2020-09-01 16:54:07,412 - june.simulator - INFO - Date = 2020-06-07 07:00:00, number of deaths =  0, number of infected = 656\n",
      "2020-09-01 16:54:07,690 - june.simulator - INFO - Date = 2020-06-07 09:00:00, number of deaths =  0, number of infected = 691\n",
      "2020-09-01 16:54:07,898 - june.simulator - INFO - Date = 2020-06-07 11:00:00, number of deaths =  0, number of infected = 720\n",
      "2020-09-01 16:54:08,083 - june.simulator - INFO - Date = 2020-06-08 00:00:00, number of deaths =  0, number of infected = 822\n",
      "2020-09-01 16:54:08,331 - june.simulator - INFO - Date = 2020-06-08 02:00:00, number of deaths =  0, number of infected = 849\n",
      "2020-09-01 16:54:08,606 - june.simulator - INFO - Date = 2020-06-08 04:00:00, number of deaths =  0, number of infected = 888\n",
      "2020-09-01 16:54:08,869 - june.simulator - INFO - Date = 2020-06-08 06:00:00, number of deaths =  0, number of infected = 938\n",
      "2020-09-01 16:54:09,170 - june.simulator - INFO - Date = 2020-06-08 08:00:00, number of deaths =  0, number of infected = 972\n",
      "2020-09-01 16:54:09,387 - june.simulator - INFO - Date = 2020-06-08 10:00:00, number of deaths =  0, number of infected = 1019\n",
      "2020-09-01 16:54:09,588 - june.simulator - INFO - Date = 2020-06-09 00:00:00, number of deaths =  0, number of infected = 1167\n",
      "2020-09-01 16:54:09,904 - june.simulator - INFO - Date = 2020-06-09 02:00:00, number of deaths =  0, number of infected = 1205\n",
      "2020-09-01 16:54:10,183 - june.simulator - INFO - Date = 2020-06-09 04:00:00, number of deaths =  0, number of infected = 1247\n",
      "2020-09-01 16:54:10,524 - june.simulator - INFO - Date = 2020-06-09 06:00:00, number of deaths =  0, number of infected = 1306\n",
      "2020-09-01 16:54:10,809 - june.simulator - INFO - Date = 2020-06-09 08:00:00, number of deaths =  0, number of infected = 1353\n",
      "2020-09-01 16:54:10,979 - june.simulator - INFO - Date = 2020-06-09 10:00:00, number of deaths =  0, number of infected = 1401\n",
      "2020-09-01 16:54:11,178 - june.simulator - INFO - Date = 2020-06-10 00:00:00, number of deaths =  0, number of infected = 1571\n",
      "2020-09-01 16:54:11,451 - june.simulator - INFO - Date = 2020-06-10 02:00:00, number of deaths =  0, number of infected = 1604\n",
      "2020-09-01 16:54:11,846 - june.simulator - INFO - Date = 2020-06-10 04:00:00, number of deaths =  0, number of infected = 1664\n",
      "2020-09-01 16:54:12,193 - june.simulator - INFO - Date = 2020-06-10 06:00:00, number of deaths =  0, number of infected = 1746\n",
      "2020-09-01 16:54:12,505 - june.simulator - INFO - Date = 2020-06-10 08:00:00, number of deaths =  0, number of infected = 1816\n",
      "2020-09-01 16:54:12,757 - june.simulator - INFO - Date = 2020-06-10 10:00:00, number of deaths =  0, number of infected = 1894\n",
      "2020-09-01 16:54:13,008 - june.simulator - INFO - Date = 2020-06-11 00:00:00, number of deaths =  0, number of infected = 2130\n",
      "2020-09-01 16:54:13,282 - june.simulator - INFO - Date = 2020-06-11 02:00:00, number of deaths =  0, number of infected = 2172\n",
      "2020-09-01 16:54:13,571 - june.simulator - INFO - Date = 2020-06-11 04:00:00, number of deaths =  0, number of infected = 2259\n",
      "2020-09-01 16:54:13,858 - june.simulator - INFO - Date = 2020-06-11 06:00:00, number of deaths =  0, number of infected = 2336\n",
      "2020-09-01 16:54:14,295 - june.simulator - INFO - Date = 2020-06-11 08:00:00, number of deaths =  0, number of infected = 2424\n",
      "2020-09-01 16:54:14,503 - june.simulator - INFO - Date = 2020-06-11 10:00:00, number of deaths =  0, number of infected = 2516\n",
      "2020-09-01 16:54:14,742 - june.simulator - INFO - Date = 2020-06-12 00:00:00, number of deaths =  0, number of infected = 2782\n",
      "2020-09-01 16:54:15,017 - june.simulator - INFO - Date = 2020-06-12 02:00:00, number of deaths =  0, number of infected = 2822\n",
      "2020-09-01 16:54:15,336 - june.simulator - INFO - Date = 2020-06-12 04:00:00, number of deaths =  0, number of infected = 2934\n",
      "2020-09-01 16:54:15,868 - june.simulator - INFO - Date = 2020-06-12 06:00:00, number of deaths =  0, number of infected = 3039\n",
      "2020-09-01 16:54:16,527 - june.simulator - INFO - Date = 2020-06-12 08:00:00, number of deaths =  0, number of infected = 3158\n",
      "2020-09-01 16:54:16,957 - june.simulator - INFO - Date = 2020-06-12 10:00:00, number of deaths =  0, number of infected = 3283\n",
      "2020-09-01 16:54:17,444 - june.simulator - INFO - Date = 2020-06-13 00:00:00, number of deaths =  0, number of infected = 3692\n",
      "2020-09-01 16:54:17,849 - june.simulator - INFO - Date = 2020-06-13 03:00:00, number of deaths =  0, number of infected = 3802\n",
      "2020-09-01 16:54:18,264 - june.simulator - INFO - Date = 2020-06-13 05:00:00, number of deaths =  0, number of infected = 3964\n",
      "2020-09-01 16:54:18,681 - june.simulator - INFO - Date = 2020-06-13 07:00:00, number of deaths =  0, number of infected = 4114\n",
      "2020-09-01 16:54:19,112 - june.simulator - INFO - Date = 2020-06-13 09:00:00, number of deaths =  0, number of infected = 4284\n",
      "2020-09-01 16:54:19,396 - june.simulator - INFO - Date = 2020-06-13 11:00:00, number of deaths =  0, number of infected = 4469\n",
      "2020-09-01 16:54:19,867 - june.simulator - INFO - Date = 2020-06-14 00:00:00, number of deaths =  0, number of infected = 4972\n",
      "2020-09-01 16:54:20,406 - june.simulator - INFO - Date = 2020-06-14 03:00:00, number of deaths =  0, number of infected = 5127\n",
      "2020-09-01 16:54:20,948 - june.simulator - INFO - Date = 2020-06-14 05:00:00, number of deaths =  0, number of infected = 5360\n"
     ]
    },
    {
     "name": "stdout",
     "output_type": "stream",
     "text": [
      "2020-09-01 16:54:21,445 - june.simulator - INFO - Date = 2020-06-14 07:00:00, number of deaths =  0, number of infected = 5605\n",
      "2020-09-01 16:54:22,040 - june.simulator - INFO - Date = 2020-06-14 09:00:00, number of deaths =  0, number of infected = 5838\n",
      "2020-09-01 16:54:22,412 - june.simulator - INFO - Date = 2020-06-14 11:00:00, number of deaths =  0, number of infected = 6072\n"
     ]
    },
    {
     "ename": "AttributeError",
     "evalue": "patients",
     "output_type": "error",
     "traceback": [
      "\u001b[0;31m---------------------------------------------------------------------------\u001b[0m",
      "\u001b[0;31mAttributeError\u001b[0m                            Traceback (most recent call last)",
      "\u001b[0;32m<timed eval>\u001b[0m in \u001b[0;36m<module>\u001b[0;34m\u001b[0m\n",
      "\u001b[0;32m~/camps/JUNE/june/simulator.py\u001b[0m in \u001b[0;36mrun\u001b[0;34m(self)\u001b[0m\n\u001b[1;32m    484\u001b[0m                 ):\n\u001b[1;32m    485\u001b[0m                     \u001b[0mself\u001b[0m\u001b[0;34m.\u001b[0m\u001b[0minfection_seed\u001b[0m\u001b[0;34m.\u001b[0m\u001b[0munleash_virus_per_region\u001b[0m\u001b[0;34m(\u001b[0m\u001b[0mself\u001b[0m\u001b[0;34m.\u001b[0m\u001b[0mtimer\u001b[0m\u001b[0;34m.\u001b[0m\u001b[0mdate\u001b[0m\u001b[0;34m)\u001b[0m\u001b[0;34m\u001b[0m\u001b[0;34m\u001b[0m\u001b[0m\n\u001b[0;32m--> 486\u001b[0;31m             \u001b[0mself\u001b[0m\u001b[0;34m.\u001b[0m\u001b[0mdo_timestep\u001b[0m\u001b[0;34m(\u001b[0m\u001b[0;34m)\u001b[0m\u001b[0;34m\u001b[0m\u001b[0;34m\u001b[0m\u001b[0m\n\u001b[0m\u001b[1;32m    487\u001b[0m             if (\n\u001b[1;32m    488\u001b[0m                 \u001b[0mself\u001b[0m\u001b[0;34m.\u001b[0m\u001b[0mtimer\u001b[0m\u001b[0;34m.\u001b[0m\u001b[0mdate\u001b[0m\u001b[0;34m.\u001b[0m\u001b[0mdate\u001b[0m\u001b[0;34m(\u001b[0m\u001b[0;34m)\u001b[0m \u001b[0;32min\u001b[0m \u001b[0mself\u001b[0m\u001b[0;34m.\u001b[0m\u001b[0mcheckpoint_dates\u001b[0m\u001b[0;34m\u001b[0m\u001b[0;34m\u001b[0m\u001b[0m\n",
      "\u001b[0;32m~/camps/JUNE/june/simulator.py\u001b[0m in \u001b[0;36mdo_timestep\u001b[0;34m(self)\u001b[0m\n\u001b[1;32m    445\u001b[0m                 \u001b[0;32massert\u001b[0m \u001b[0minfected_ids\u001b[0m\u001b[0;34m[\u001b[0m\u001b[0mi\u001b[0m\u001b[0;34m]\u001b[0m \u001b[0;34m==\u001b[0m \u001b[0mperson\u001b[0m\u001b[0;34m.\u001b[0m\u001b[0mid\u001b[0m\u001b[0;34m\u001b[0m\u001b[0;34m\u001b[0m\u001b[0m\n\u001b[1;32m    446\u001b[0m                 \u001b[0mself\u001b[0m\u001b[0;34m.\u001b[0m\u001b[0minfection_selector\u001b[0m\u001b[0;34m.\u001b[0m\u001b[0minfect_person_at_time\u001b[0m\u001b[0;34m(\u001b[0m\u001b[0mperson\u001b[0m\u001b[0;34m,\u001b[0m \u001b[0mself\u001b[0m\u001b[0;34m.\u001b[0m\u001b[0mtimer\u001b[0m\u001b[0;34m.\u001b[0m\u001b[0mnow\u001b[0m\u001b[0;34m)\u001b[0m\u001b[0;34m\u001b[0m\u001b[0;34m\u001b[0m\u001b[0m\n\u001b[0;32m--> 447\u001b[0;31m         \u001b[0mself\u001b[0m\u001b[0;34m.\u001b[0m\u001b[0mupdate_health_status\u001b[0m\u001b[0;34m(\u001b[0m\u001b[0mtime\u001b[0m\u001b[0;34m=\u001b[0m\u001b[0mself\u001b[0m\u001b[0;34m.\u001b[0m\u001b[0mtimer\u001b[0m\u001b[0;34m.\u001b[0m\u001b[0mnow\u001b[0m\u001b[0;34m,\u001b[0m \u001b[0mduration\u001b[0m\u001b[0;34m=\u001b[0m\u001b[0mself\u001b[0m\u001b[0;34m.\u001b[0m\u001b[0mtimer\u001b[0m\u001b[0;34m.\u001b[0m\u001b[0mduration\u001b[0m\u001b[0;34m)\u001b[0m\u001b[0;34m\u001b[0m\u001b[0;34m\u001b[0m\u001b[0m\n\u001b[0m\u001b[1;32m    448\u001b[0m         \u001b[0;32mif\u001b[0m \u001b[0mself\u001b[0m\u001b[0;34m.\u001b[0m\u001b[0mlogger\u001b[0m\u001b[0;34m:\u001b[0m\u001b[0;34m\u001b[0m\u001b[0;34m\u001b[0m\u001b[0m\n\u001b[1;32m    449\u001b[0m             \u001b[0mself\u001b[0m\u001b[0;34m.\u001b[0m\u001b[0mlogger\u001b[0m\u001b[0;34m.\u001b[0m\u001b[0mlog_infection_location\u001b[0m\u001b[0;34m(\u001b[0m\u001b[0mself\u001b[0m\u001b[0;34m.\u001b[0m\u001b[0mtimer\u001b[0m\u001b[0;34m.\u001b[0m\u001b[0mdate\u001b[0m\u001b[0;34m)\u001b[0m\u001b[0;34m\u001b[0m\u001b[0;34m\u001b[0m\u001b[0m\n",
      "\u001b[0;32m~/camps/JUNE/june/simulator.py\u001b[0m in \u001b[0;36mupdate_health_status\u001b[0;34m(self, time, duration)\u001b[0m\n\u001b[1;32m    353\u001b[0m             )\n\u001b[1;32m    354\u001b[0m             \u001b[0;31m# Take actions on new symptoms\u001b[0m\u001b[0;34m\u001b[0m\u001b[0;34m\u001b[0m\u001b[0;34m\u001b[0m\u001b[0m\n\u001b[0;32m--> 355\u001b[0;31m             self.activity_manager.policies.medical_care_policies.apply(\n\u001b[0m\u001b[1;32m    356\u001b[0m                 \u001b[0mperson\u001b[0m\u001b[0;34m=\u001b[0m\u001b[0mperson\u001b[0m\u001b[0;34m,\u001b[0m \u001b[0mmedical_facilities\u001b[0m\u001b[0;34m=\u001b[0m\u001b[0mself\u001b[0m\u001b[0;34m.\u001b[0m\u001b[0mmedical_facilities\u001b[0m\u001b[0;34m,\u001b[0m \u001b[0mdays_from_start\u001b[0m\u001b[0;34m=\u001b[0m\u001b[0mtime\u001b[0m\u001b[0;34m\u001b[0m\u001b[0;34m\u001b[0m\u001b[0m\n\u001b[1;32m    357\u001b[0m             )\n",
      "\u001b[0;32m~/camps/JUNE/june/policy/medical_care_policies.py\u001b[0m in \u001b[0;36mapply\u001b[0;34m(self, person, medical_facilities, days_from_start)\u001b[0m\n\u001b[1;32m     28\u001b[0m         \u001b[0mhospitalisation_policies\u001b[0m \u001b[0;34m=\u001b[0m \u001b[0;34m[\u001b[0m\u001b[0mpolicy\u001b[0m \u001b[0;32mfor\u001b[0m \u001b[0mpolicy\u001b[0m \u001b[0;32min\u001b[0m \u001b[0mself\u001b[0m\u001b[0;34m.\u001b[0m\u001b[0mpolicies\u001b[0m \u001b[0;32mif\u001b[0m \u001b[0misinstance\u001b[0m\u001b[0;34m(\u001b[0m\u001b[0mpolicy\u001b[0m\u001b[0;34m,\u001b[0m \u001b[0mHospitalisation\u001b[0m\u001b[0;34m)\u001b[0m\u001b[0;34m]\u001b[0m\u001b[0;34m\u001b[0m\u001b[0;34m\u001b[0m\u001b[0m\n\u001b[1;32m     29\u001b[0m         \u001b[0;32mfor\u001b[0m \u001b[0mpolicy\u001b[0m \u001b[0;32min\u001b[0m \u001b[0mhospitalisation_policies\u001b[0m\u001b[0;34m:\u001b[0m\u001b[0;34m\u001b[0m\u001b[0;34m\u001b[0m\u001b[0m\n\u001b[0;32m---> 30\u001b[0;31m             \u001b[0mactivates\u001b[0m \u001b[0;34m=\u001b[0m \u001b[0mpolicy\u001b[0m\u001b[0;34m.\u001b[0m\u001b[0mapply\u001b[0m\u001b[0;34m(\u001b[0m\u001b[0mperson\u001b[0m\u001b[0;34m,\u001b[0m \u001b[0mmedical_facilities\u001b[0m\u001b[0;34m,\u001b[0m \u001b[0mdays_from_start\u001b[0m\u001b[0;34m)\u001b[0m\u001b[0;34m\u001b[0m\u001b[0;34m\u001b[0m\u001b[0m\n\u001b[0m\u001b[1;32m     31\u001b[0m             \u001b[0;32mif\u001b[0m \u001b[0mactivates\u001b[0m\u001b[0;34m:\u001b[0m\u001b[0;34m\u001b[0m\u001b[0;34m\u001b[0m\u001b[0m\n\u001b[1;32m     32\u001b[0m                 \u001b[0;32mreturn\u001b[0m\u001b[0;34m\u001b[0m\u001b[0;34m\u001b[0m\u001b[0m\n",
      "\u001b[0;32m~/camps/JUNE/june/policy/medical_care_policies.py\u001b[0m in \u001b[0;36mapply\u001b[0;34m(self, person, medical_facilities, days_from_start)\u001b[0m\n\u001b[1;32m     58\u001b[0m             \u001b[0;32melif\u001b[0m \u001b[0msymptoms_tag\u001b[0m \u001b[0;34m==\u001b[0m \u001b[0mSymptomTag\u001b[0m\u001b[0;34m.\u001b[0m\u001b[0mhospitalised\u001b[0m\u001b[0;34m:\u001b[0m\u001b[0;34m\u001b[0m\u001b[0;34m\u001b[0m\u001b[0m\n\u001b[1;32m     59\u001b[0m                 person.subgroups.medical_facility = person.medical_facility.group[\n\u001b[0;32m---> 60\u001b[0;31m                     \u001b[0mperson\u001b[0m\u001b[0;34m.\u001b[0m\u001b[0mmedical_facility\u001b[0m\u001b[0;34m.\u001b[0m\u001b[0mgroup\u001b[0m\u001b[0;34m.\u001b[0m\u001b[0mSubgroupType\u001b[0m\u001b[0;34m.\u001b[0m\u001b[0mpatients\u001b[0m\u001b[0;34m\u001b[0m\u001b[0;34m\u001b[0m\u001b[0m\n\u001b[0m\u001b[1;32m     61\u001b[0m                 ]\n\u001b[1;32m     62\u001b[0m             \u001b[0;32melif\u001b[0m \u001b[0msymptoms_tag\u001b[0m \u001b[0;34m==\u001b[0m \u001b[0mSymptomTag\u001b[0m\u001b[0;34m.\u001b[0m\u001b[0mintensive_care\u001b[0m\u001b[0;34m:\u001b[0m\u001b[0;34m\u001b[0m\u001b[0;34m\u001b[0m\u001b[0m\n",
      "\u001b[0;32m/usr/lib/python3.8/enum.py\u001b[0m in \u001b[0;36m__getattr__\u001b[0;34m(cls, name)\u001b[0m\n\u001b[1;32m    339\u001b[0m             \u001b[0;32mreturn\u001b[0m \u001b[0mcls\u001b[0m\u001b[0;34m.\u001b[0m\u001b[0m_member_map_\u001b[0m\u001b[0;34m[\u001b[0m\u001b[0mname\u001b[0m\u001b[0;34m]\u001b[0m\u001b[0;34m\u001b[0m\u001b[0;34m\u001b[0m\u001b[0m\n\u001b[1;32m    340\u001b[0m         \u001b[0;32mexcept\u001b[0m \u001b[0mKeyError\u001b[0m\u001b[0;34m:\u001b[0m\u001b[0;34m\u001b[0m\u001b[0;34m\u001b[0m\u001b[0m\n\u001b[0;32m--> 341\u001b[0;31m             \u001b[0;32mraise\u001b[0m \u001b[0mAttributeError\u001b[0m\u001b[0;34m(\u001b[0m\u001b[0mname\u001b[0m\u001b[0;34m)\u001b[0m \u001b[0;32mfrom\u001b[0m \u001b[0;32mNone\u001b[0m\u001b[0;34m\u001b[0m\u001b[0;34m\u001b[0m\u001b[0m\n\u001b[0m\u001b[1;32m    342\u001b[0m \u001b[0;34m\u001b[0m\u001b[0m\n\u001b[1;32m    343\u001b[0m     \u001b[0;32mdef\u001b[0m \u001b[0m__getitem__\u001b[0m\u001b[0;34m(\u001b[0m\u001b[0mcls\u001b[0m\u001b[0;34m,\u001b[0m \u001b[0mname\u001b[0m\u001b[0;34m)\u001b[0m\u001b[0;34m:\u001b[0m\u001b[0;34m\u001b[0m\u001b[0;34m\u001b[0m\u001b[0m\n",
      "\u001b[0;31mAttributeError\u001b[0m: patients"
     ]
    }
   ],
   "source": [
    "%%time\n",
    "simulator.run()"
   ]
  },
  {
   "cell_type": "markdown",
   "metadata": {},
   "source": [
    "# Getting the results"
   ]
  },
  {
   "cell_type": "markdown",
   "metadata": {},
   "source": [
    "All results are stored in a json file specified in the ``save_path`` variable in the config file. We can also access it from ``world.logger`` directly."
   ]
  },
  {
   "cell_type": "code",
   "execution_count": 47,
   "metadata": {},
   "outputs": [],
   "source": [
    "import pandas as pd\n",
    "read = ReadLogger()"
   ]
  },
  {
   "cell_type": "code",
   "execution_count": 48,
   "metadata": {},
   "outputs": [],
   "source": [
    "read.load_infection_location()"
   ]
  },
  {
   "cell_type": "code",
   "execution_count": 49,
   "metadata": {},
   "outputs": [],
   "source": [
    "infection_locations = read.get_locations_infections()"
   ]
  },
  {
   "cell_type": "code",
   "execution_count": 50,
   "metadata": {},
   "outputs": [],
   "source": [
    "unique_locations, counts_locations = np.unique(\n",
    "                np.array(infection_locations),\n",
    "                return_counts=True)\n",
    "\n",
    "location_counts_df = pd.DataFrame(\n",
    "    {'locations': unique_locations,\n",
    "    'counts': counts_locations}\n",
    ")\n",
    "location_counts_df.set_index('locations', inplace=True)\n"
   ]
  },
  {
   "cell_type": "code",
   "execution_count": 51,
   "metadata": {},
   "outputs": [],
   "source": [
    "location_counts_df['percent_infections']= 100*(location_counts_df['counts'])/location_counts_df.values.sum()"
   ]
  },
  {
   "cell_type": "code",
   "execution_count": 52,
   "metadata": {},
   "outputs": [
    {
     "data": {
      "text/plain": [
       "Text(0.5, 0, 'location')"
      ]
     },
     "execution_count": 52,
     "metadata": {},
     "output_type": "execute_result"
    },
    {
     "data": {
      "image/png": "[encoded data removed]",
      "text/plain": [
       "<Figure size 432x288 with 1 Axes>"
      ]
     },
     "metadata": {
      "needs_background": "light"
     },
     "output_type": "display_data"
    }
   ],
   "source": [
    "import matplotlib.ticker as mtick\n",
    "\n",
    "ax = location_counts_df['percent_infections'].sort_values().plot.bar()\n",
    "ax.yaxis.set_major_formatter(mtick.PercentFormatter())\n",
    "plt.ylabel('Percentage of infections at location')\n",
    "plt.xlabel('location')"
   ]
  },
  {
   "cell_type": "code",
   "execution_count": 59,
   "metadata": {},
   "outputs": [],
   "source": [
    "for location in unique_locations:\n",
    "    read.locations_df[str(location)] = read.locations_df.apply(\n",
    "        lambda x: x.location.count(str(location)), axis=1\n",
    "    )\n",
    "read.locations_df.index = pd.to_datetime(read.locations_df.index)"
   ]
  },
  {
   "cell_type": "code",
   "execution_count": 60,
   "metadata": {},
   "outputs": [
    {
     "data": {
      "text/plain": [
       "<matplotlib.axes._subplots.AxesSubplot at 0x7f771c130b80>"
      ]
     },
     "execution_count": 60,
     "metadata": {},
     "output_type": "execute_result"
    },
    {
     "data": {
      "image/png": "[encoded data removed]",
      "text/plain": [
       "<Figure size 432x288 with 1 Axes>"
      ]
     },
     "metadata": {
      "needs_background": "light"
     },
     "output_type": "display_data"
    }
   ],
   "source": [
    "read.locations_df.iloc[:,3:].plot()"
   ]
  },
  {
   "cell_type": "markdown",
   "metadata": {},
   "source": [
    "# Where did outbreaks happen?"
   ]
  },
  {
   "cell_type": "code",
   "execution_count": 53,
   "metadata": {},
   "outputs": [],
   "source": [
    "unique_id, count_id =  np.unique(\n",
    "        np.array(read.locations_df['location_id'].sum()),\n",
    "        return_counts=True\n",
    ")"
   ]
  },
  {
   "cell_type": "code",
   "execution_count": 54,
   "metadata": {},
   "outputs": [
    {
     "data": {
      "text/plain": [
       "array(['communal_101', 'communal_41', 'communal_69', 'communal_78',\n",
       "       'communal_100'], dtype='<U22')"
      ]
     },
     "execution_count": 54,
     "metadata": {},
     "output_type": "execute_result"
    }
   ],
   "source": [
    "unique_id[np.argsort(count_id)[-5:]]"
   ]
  },
  {
   "cell_type": "code",
   "execution_count": 55,
   "metadata": {},
   "outputs": [
    {
     "data": {
      "text/plain": [
       "array([25, 26, 26, 27, 32])"
      ]
     },
     "execution_count": 55,
     "metadata": {},
     "output_type": "execute_result"
    }
   ],
   "source": [
    "count_id[np.argsort(count_id)[-5:]]"
   ]
  },
  {
   "cell_type": "code",
   "execution_count": 61,
   "metadata": {},
   "outputs": [
    {
     "data": {
      "text/plain": [
       "<matplotlib.legend.Legend at 0x7f7720d618b0>"
      ]
     },
     "execution_count": 61,
     "metadata": {},
     "output_type": "execute_result"
    },
    {
     "data": {
      "image/png": "[encoded data removed]",
      "text/plain": [
       "<Figure size 432x288 with 1 Axes>"
      ]
     },
     "metadata": {
      "needs_background": "light"
     },
     "output_type": "display_data"
    }
   ],
   "source": [
    "world_df = read.world_summary()\n",
    "world_df.plot()\n",
    "#plt.axvspan(policies.social_distancing_start, \n",
    "#            policies.social_distancing_end,\n",
    "#            facecolor='y', alpha=0.2)\n",
    "plt.legend()"
   ]
  },
  {
   "cell_type": "code",
   "execution_count": null,
   "metadata": {},
   "outputs": [],
   "source": []
  },
  {
   "cell_type": "code",
   "execution_count": null,
   "metadata": {},
   "outputs": [],
   "source": []
  },
  {
   "cell_type": "code",
   "execution_count": null,
   "metadata": {},
   "outputs": [],
   "source": []
  },
  {
   "cell_type": "code",
   "execution_count": null,
   "metadata": {},
   "outputs": [],
   "source": []
  },
  {
   "cell_type": "code",
   "execution_count": null,
   "metadata": {},
   "outputs": [],
   "source": []
  }
 ],
 "metadata": {
  "kernelspec": {
   "display_name": "camps",
   "language": "python",
   "name": "camps"
  },
  "language_info": {
   "codemirror_mode": {
    "name": "ipython",
    "version": 3
   },
   "file_extension": ".py",
   "mimetype": "text/x-python",
   "name": "python",
   "nbconvert_exporter": "python",
   "pygments_lexer": "ipython3",
   "version": "3.8.3"
  }
 },
 "nbformat": 4,
 "nbformat_minor": 4
}
